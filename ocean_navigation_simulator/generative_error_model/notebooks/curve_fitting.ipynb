{
 "cells": [
  {
   "cell_type": "markdown",
   "source": [
    "## Fit 3D Variogram Functions"
   ],
   "metadata": {
    "collapsed": false,
    "pycharm": {
     "name": "#%% md\n"
    }
   }
  },
  {
   "cell_type": "markdown",
   "metadata": {
    "pycharm": {
     "name": "#%% md\n"
    }
   },
   "source": [
    "The 3D Gaussian variogram function has the following form:\n",
    "\n",
    "$\\gamma = s(1 - e^{-3h^{\\top} \\Omega h} + 0.06e^{-7.07h^{\\top} \\Omega h})$\n",
    "\n",
    "where $\\Omega$ is a diagonal matrix with diagonal terms $= [\\frac{1}{{r_{lon}}^2}, \\frac{1}{{r_{lat}}^2}, \\frac{1}{{r_{time}}^2}]$"
   ]
  },
  {
   "cell_type": "code",
   "execution_count": 2,
   "outputs": [
    {
     "data": {
      "text/plain": "      space_lag  t_lag  u_semivariance  v_semivariance  \\\n0            30      5        0.415299        0.375616   \n1            30     10        0.623212        0.640980   \n2            30     15        0.674698        0.707168   \n3            30     20        0.674506        0.713693   \n4            30     25        0.618187        0.616742   \n...         ...    ...             ...             ...   \n1595        480    480        1.108294        1.038632   \n1596        480    485        1.090529        1.035751   \n1597        480    490        1.095037        1.042641   \n1598        480    495        1.111495        1.034401   \n1599        480    500        1.111156        1.040792   \n\n                                       detrend_u  \\\n0     [-0.0446293197270464, 0.17572066038165515]   \n1     [-0.0446293197270464, 0.17572066038165515]   \n2     [-0.0446293197270464, 0.17572066038165515]   \n3     [-0.0446293197270464, 0.17572066038165515]   \n4     [-0.0446293197270464, 0.17572066038165515]   \n...                                          ...   \n1595  [-0.0446293197270464, 0.17572066038165515]   \n1596  [-0.0446293197270464, 0.17572066038165515]   \n1597  [-0.0446293197270464, 0.17572066038165515]   \n1598  [-0.0446293197270464, 0.17572066038165515]   \n1599  [-0.0446293197270464, 0.17572066038165515]   \n\n                                        detrend_v  \n0     [-0.06611381479194962, 0.14546674762967093]  \n1     [-0.06611381479194962, 0.14546674762967093]  \n2     [-0.06611381479194962, 0.14546674762967093]  \n3     [-0.06611381479194962, 0.14546674762967093]  \n4     [-0.06611381479194962, 0.14546674762967093]  \n...                                           ...  \n1595  [-0.06611381479194962, 0.14546674762967093]  \n1596  [-0.06611381479194962, 0.14546674762967093]  \n1597  [-0.06611381479194962, 0.14546674762967093]  \n1598  [-0.06611381479194962, 0.14546674762967093]  \n1599  [-0.06611381479194962, 0.14546674762967093]  \n\n[1600 rows x 6 columns]",
      "text/html": "<div>\n<style scoped>\n    .dataframe tbody tr th:only-of-type {\n        vertical-align: middle;\n    }\n\n    .dataframe tbody tr th {\n        vertical-align: top;\n    }\n\n    .dataframe thead th {\n        text-align: right;\n    }\n</style>\n<table border=\"1\" class=\"dataframe\">\n  <thead>\n    <tr style=\"text-align: right;\">\n      <th></th>\n      <th>space_lag</th>\n      <th>t_lag</th>\n      <th>u_semivariance</th>\n      <th>v_semivariance</th>\n      <th>detrend_u</th>\n      <th>detrend_v</th>\n    </tr>\n  </thead>\n  <tbody>\n    <tr>\n      <th>0</th>\n      <td>30</td>\n      <td>5</td>\n      <td>0.415299</td>\n      <td>0.375616</td>\n      <td>[-0.0446293197270464, 0.17572066038165515]</td>\n      <td>[-0.06611381479194962, 0.14546674762967093]</td>\n    </tr>\n    <tr>\n      <th>1</th>\n      <td>30</td>\n      <td>10</td>\n      <td>0.623212</td>\n      <td>0.640980</td>\n      <td>[-0.0446293197270464, 0.17572066038165515]</td>\n      <td>[-0.06611381479194962, 0.14546674762967093]</td>\n    </tr>\n    <tr>\n      <th>2</th>\n      <td>30</td>\n      <td>15</td>\n      <td>0.674698</td>\n      <td>0.707168</td>\n      <td>[-0.0446293197270464, 0.17572066038165515]</td>\n      <td>[-0.06611381479194962, 0.14546674762967093]</td>\n    </tr>\n    <tr>\n      <th>3</th>\n      <td>30</td>\n      <td>20</td>\n      <td>0.674506</td>\n      <td>0.713693</td>\n      <td>[-0.0446293197270464, 0.17572066038165515]</td>\n      <td>[-0.06611381479194962, 0.14546674762967093]</td>\n    </tr>\n    <tr>\n      <th>4</th>\n      <td>30</td>\n      <td>25</td>\n      <td>0.618187</td>\n      <td>0.616742</td>\n      <td>[-0.0446293197270464, 0.17572066038165515]</td>\n      <td>[-0.06611381479194962, 0.14546674762967093]</td>\n    </tr>\n    <tr>\n      <th>...</th>\n      <td>...</td>\n      <td>...</td>\n      <td>...</td>\n      <td>...</td>\n      <td>...</td>\n      <td>...</td>\n    </tr>\n    <tr>\n      <th>1595</th>\n      <td>480</td>\n      <td>480</td>\n      <td>1.108294</td>\n      <td>1.038632</td>\n      <td>[-0.0446293197270464, 0.17572066038165515]</td>\n      <td>[-0.06611381479194962, 0.14546674762967093]</td>\n    </tr>\n    <tr>\n      <th>1596</th>\n      <td>480</td>\n      <td>485</td>\n      <td>1.090529</td>\n      <td>1.035751</td>\n      <td>[-0.0446293197270464, 0.17572066038165515]</td>\n      <td>[-0.06611381479194962, 0.14546674762967093]</td>\n    </tr>\n    <tr>\n      <th>1597</th>\n      <td>480</td>\n      <td>490</td>\n      <td>1.095037</td>\n      <td>1.042641</td>\n      <td>[-0.0446293197270464, 0.17572066038165515]</td>\n      <td>[-0.06611381479194962, 0.14546674762967093]</td>\n    </tr>\n    <tr>\n      <th>1598</th>\n      <td>480</td>\n      <td>495</td>\n      <td>1.111495</td>\n      <td>1.034401</td>\n      <td>[-0.0446293197270464, 0.17572066038165515]</td>\n      <td>[-0.06611381479194962, 0.14546674762967093]</td>\n    </tr>\n    <tr>\n      <th>1599</th>\n      <td>480</td>\n      <td>500</td>\n      <td>1.111156</td>\n      <td>1.040792</td>\n      <td>[-0.0446293197270464, 0.17572066038165515]</td>\n      <td>[-0.06611381479194962, 0.14546674762967093]</td>\n    </tr>\n  </tbody>\n</table>\n<p>1600 rows × 6 columns</p>\n</div>"
     },
     "execution_count": 2,
     "metadata": {},
     "output_type": "execute_result"
    }
   ],
   "source": [
    "%load_ext autoreload\n",
    "%autoreload 2\n",
    "\n",
    "from ocean_navigation_simulator.generative_error_model.variogram.VariogramFitting import VariogramFitting\n",
    "import pandas as pd\n",
    "import os\n",
    "\n",
    "# read in 2D/3D variogram data\n",
    "save_dir = \"/home/jonas/Documents/Thesis/OceanPlatformControl/data/drifter_data/variogram_tuned\"\n",
    "file_name = \"tuned_2d_forecast_variogram_area1_edited.npy\"\n",
    "file_path = os.path.join(save_dir, file_name)\n",
    "data = pd.read_csv(file_path)\n",
    "data"
   ],
   "metadata": {
    "collapsed": false,
    "pycharm": {
     "name": "#%%\n"
    }
   }
  },
  {
   "cell_type": "code",
   "execution_count": 48,
   "outputs": [
    {
     "name": "stdout",
     "output_type": "stream",
     "text": [
      "Number of models: 4\n",
      "Type of model: gaussian_2d\n"
     ]
    },
    {
     "name": "stderr",
     "output_type": "stream",
     "text": [
      "100%|██████████| 1000/1000 [00:21<00:00, 46.72it/s]"
     ]
    },
    {
     "name": "stdout",
     "output_type": "stream",
     "text": [
      "The chain is shorter than 50 times the integrated autocorrelation time for 11 parameter(s). Use this estimate with caution and run a longer chain!\n",
      "N/50 = 20;\n",
      "tau: [100.93181613 104.59463144 100.1535256  100.70101191  99.54416698\n",
      " 107.1641517  108.37487411  93.82893038 104.06939387 102.89740917\n",
      " 101.54603175]\n",
      "Parameters:\n",
      " [[  0.14886945 126.98611976 100.54208331]\n",
      " [  0.19113649  50.4802722  124.3676519 ]\n",
      " [  0.19870237  56.92980514  40.12187859]\n",
      " [  0.46129168  41.63601837  87.19411901]]\n"
     ]
    },
    {
     "name": "stderr",
     "output_type": "stream",
     "text": [
      "\n"
     ]
    }
   ],
   "source": [
    "fitted_v = VariogramFitting(data, (\"space_lag\", \"t_lag\"), error_var=\"u_semivariance\")\n",
    "# list of optimization algorithms: https://lmfit.github.io/lmfit-py/fitting.html\n",
    "fitted_v.fit_model(4, method=\"emcee\", constrain_weighting=True)  # emcee, leastsq, leastsquare"
   ],
   "metadata": {
    "collapsed": false,
    "pycharm": {
     "name": "#%%\n"
    }
   }
  },
  {
   "cell_type": "code",
   "execution_count": 9,
   "outputs": [
    {
     "name": "stdout",
     "output_type": "stream",
     "text": [
      "[[  0.24827429  75.43680966 112.95285044]\n",
      " [  0.25621657  68.49199822  64.68010933]\n",
      " [  0.1470404   84.00229741  77.70962468]\n",
      " [  0.34846874  94.07044394  58.99911711]]\n"
     ]
    },
    {
     "data": {
      "text/plain": "<Figure size 1080x432 with 2 Axes>",
      "image/png": "[encoded data removed]"
     },
     "metadata": {
      "needs_background": "light"
     },
     "output_type": "display_data"
    }
   ],
   "source": [
    "save_path = f\"/home/jonas/Downloads/plots/fitted_func_only_cross_buoy.png\"\n",
    "figure = fitted_v.plot_all_dims(save_path=None)\n",
    "print(fitted_v.popt)"
   ],
   "metadata": {
    "collapsed": false,
    "pycharm": {
     "name": "#%%\n"
    }
   }
  },
  {
   "cell_type": "code",
   "execution_count": 50,
   "outputs": [
    {
     "name": "stdout",
     "output_type": "stream",
     "text": [
      "Saved {'U_COMP': [array([  0.14886945, 126.98611976, 126.98611976, 100.54208331]), array([  0.19113649,  50.4802722 ,  50.4802722 , 124.3676519 ]), array([ 0.19870237, 56.92980514, 56.92980514, 40.12187859]), array([ 0.46129168, 41.63601837, 41.63601837, 87.19411901])], 'V_COMP': [array([  0.24827429,  75.43680966,  75.43680966, 112.95285044]), array([ 0.25621657, 68.49199822, 68.49199822, 64.68010933]), array([ 0.1470404 , 84.00229741, 84.00229741, 77.70962468]), array([ 0.34846874, 94.07044394, 94.07044394, 58.99911711])], 'detrend_metrics': [[-0.0446293197270464, 0.17572066038165515], [-0.06611381479194962, 0.14546674762967093]]}\n"
     ]
    }
   ],
   "source": [
    "# save parameters\n",
    "save_dir = \"/home/jonas/Documents/Thesis/OceanPlatformControl/data/drifter_data/variogram_params\"\n",
    "fitted_v.save_params(os.path.join(save_dir, file_name))"
   ],
   "metadata": {
    "collapsed": false,
    "pycharm": {
     "name": "#%%\n"
    }
   }
  },
  {
   "cell_type": "markdown",
   "source": [
    "## Plot model from parameters"
   ],
   "metadata": {
    "collapsed": false,
    "pycharm": {
     "name": "#%% md\n"
    }
   }
  },
  {
   "cell_type": "code",
   "execution_count": 11,
   "outputs": [
    {
     "name": "stdout",
     "output_type": "stream",
     "text": [
      "Number of models: 4\n",
      "Type of model: gaussian_2d\n",
      "[[  0.14886945 126.98611976 100.54208331]\n",
      " [  0.19113649  50.4802722  124.3676519 ]\n",
      " [  0.19870237  56.92980514  40.12187859]\n",
      " [  0.46129168  41.63601837  87.19411901]]\n"
     ]
    },
    {
     "data": {
      "text/plain": "<Figure size 1080x432 with 2 Axes>",
      "image/png": "[encoded data removed]"
     },
     "metadata": {
      "needs_background": "light"
     },
     "output_type": "display_data"
    }
   ],
   "source": [
    "fitted_v = VariogramFitting(data, (\"space_lag\", \"t_lag\"), error_var=\"u_semivariance\")\n",
    "fitted_v.load_params(\"/home/jonas/Documents/Thesis/OceanPlatformControl/data/drifter_data/variogram_params/tuned_2d_forecast_variogram_area1_edited.npy\")\n",
    "fitted_v.plot_all_dims(plot_empirical=True)\n",
    "print(fitted_v.popt)"
   ],
   "metadata": {
    "collapsed": false,
    "pycharm": {
     "name": "#%%\n"
    }
   }
  },
  {
   "cell_type": "code",
   "execution_count": 52,
   "outputs": [
    {
     "name": "stdout",
     "output_type": "stream",
     "text": [
      "(900, 2)\n"
     ]
    },
    {
     "data": {
      "application/vnd.plotly.v1+json": {
       "config": {
        "plotlyServerURL": "https://plot.ly"
       },
       "data": [
        {
         "type": "surface",
         "x": [
          0,
          10,
          20,
          30,
          40,
          50,
          60,
          70,
          80,
          90,
          100,
          110,
          120,
          130,
          140,
          150,
          160,
          170,
          180,
          190,
          200,
          210,
          220,
          230,
          240,
          250,
          260,
          270,
          280,
          290
         ],
         "y": [
          0,
          10,
          20,
          30,
          40,
          50,
          60,
          70,
          80,
          90,
          100,
          110,
          120,
          130,
          140,
          150,
          160,
          170,
          180,
          190,
          200,
          210,
          220,
          230,
          240,
          250,
          260,
          270,
          280,
          290
         ],
         "z": [
          [
           0.9376767133468751,
           0.941777758853876,
           0.9520329279092008,
           0.9634113883572535,
           0.9727547913570396,
           0.9801132518390221,
           0.9860532442906056,
           0.990693793357974,
           0.9940738084575472,
           0.9963675979729913,
           0.9978366794462366,
           0.9987381386080421,
           0.999275495416546,
           0.9995899725256581,
           0.9997716881283427,
           0.9998754016272664,
           0.9999336543003599,
           0.9999656727009869,
           0.9999827983443652,
           0.999991671304807,
           0.9999961098701285,
           0.9999982490244905,
           0.9999992410055405,
           0.9999996832914413,
           0.9999998728166122,
           0.9999999508550903,
           0.9999999817291663,
           0.9999999934650774,
           0.9999999977514322,
           0.9999999992557085
          ],
          [
           0.9441154879689848,
           0.9479653197220976,
           0.9574470319754412,
           0.9677945919195172,
           0.9761585179896772,
           0.9826456277675841,
           0.987830370336088,
           0.9918655333898638,
           0.9948049802932699,
           0.9968046086304736,
           0.9980900931641127,
           0.9988823402765195,
           0.99935665115624,
           0.9996352772607412,
           0.9997967265638673,
           0.9998890308192578,
           0.9999409157277335,
           0.9999694379529596,
           0.9999846901921263,
           0.9999925896294646,
           0.9999965397085973,
           0.9999984428145741,
           0.999999325107562,
           0.9999997184140206,
           0.9999998869288917,
           0.9999999563101691,
           0.9999999837576847,
           0.9999999941907174,
           0.9999999980011347,
           0.9999999993383658
          ],
          [
           0.9601789624371078,
           0.9632305470742605,
           0.9704901961103514,
           0.9780914035592104,
           0.9839855668966675,
           0.9883877957312572,
           0.9918337349482393,
           0.9945035490540178,
           0.9964572509510601,
           0.9977987609978174,
           0.9986714556176519,
           0.9992161424130748,
           0.9995461047441161,
           0.999741785779519,
           0.9998558997859284,
           0.999921354000927,
           0.999958173830835,
           0.9999783973307597,
           0.9999891944870305,
           0.9999947766378725,
           0.9999975634736473,
           0.9999989043812345,
           0.999999525418505,
           0.9999998020661361,
           0.9999999205398291,
           0.9999999693022622,
           0.9999999885888664,
           0.9999999959189145,
           0.9999999985958283,
           0.9999999995352227
          ],
          [
           0.977233502082989,
           0.9791893507709295,
           0.9836763147027119,
           0.9881488480263776,
           0.9914359231344834,
           0.9937811703477064,
           0.9955845343128152,
           0.9969885258278914,
           0.9980310311583216,
           0.9987599913295644,
           0.9992432446020512,
           0.9995501400729645,
           0.9997386212174448,
           0.9998513681814467,
           0.999917327137899,
           0.9999551031449977,
           0.9999762542462691,
           0.999987800208046,
           0.9999939255621424,
           0.9999970744251032,
           0.9999986391458617,
           0.9999993893263899,
           0.999999735859818,
           0.9999998899429019,
           0.9999999558463755,
           0.9999999829492847,
           0.9999999936634647,
           0.9999999977341585,
           0.9999999992204702,
           0.9999999997419917
          ],
          [
           0.9887693750441684,
           0.9897982783365615,
           0.992102406239012,
           0.9943226634200872,
           0.9958971462830628,
           0.9969927193588524,
           0.9978355938471997,
           0.9985033765119442,
           0.9990102113352468,
           0.9993720926150544,
           0.9996161320578286,
           0.9997728296301812,
           0.9998693781283707,
           0.9999268348943833,
           0.9999600232337176,
           0.9999786888410948,
           0.9999889244618174,
           0.999994396530983,
           0.9999972450887223,
           0.9999986862794501,
           0.9999993934410862,
           0.9999997292679065,
           0.9999998833354278,
           0.9999999515133609,
           0.9999999805801421,
           0.9999999925086899,
           0.9999999972178766,
           0.9999999990055648,
           0.9999999996579625,
           0.9999999998868088
          ],
          [
           0.9946116329056889,
           0.9950761546649132,
           0.9961152610771316,
           0.9971272517147889,
           0.997869823498426,
           0.9984128897966305,
           0.9988476863595546,
           0.9992006144221812,
           0.9994726419654782,
           0.9996686172089553,
           0.9998009661982332,
           0.9998852834341292,
           0.999936283473333,
           0.9999657521092742,
           0.9999821152720927,
           0.9999908960307771,
           0.9999954723553331,
           0.9999977978372165,
           0.9999989527767652,
           0.9999995137668191,
           0.9999997800336746,
           0.9999999032762217,
           0.9999999587566422,
           0.9999999829817863,
           0.9999999932162262,
           0.9999999973911253,
           0.9999999990329745,
           0.9999999996547546,
           0.9999999998813356,
           0.9999999999607462
          ],
          [
           0.9971585655747575,
           0.9973514441565501,
           0.9977968171482012,
           0.9982664083594848,
           0.9986591764450579,
           0.9989849675090159,
           0.9992626785832268,
           0.9994920795207365,
           0.9996691558950141,
           0.9997960652488931,
           0.9998808025362729,
           0.9999337681259834,
           0.9999649040471685,
           0.9999821963961153,
           0.9999913136874374,
           0.9999959019741067,
           0.9999981196278989,
           0.9999991561327506,
           0.9999996279148899,
           0.9999998383720603,
           0.9999999308063023,
           0.9999999708573002,
           0.9999999879636553,
           0.999999995144113,
           0.9999999980936911,
           0.9999999992741646,
           0.999999999732653,
           0.9999999999049234,
           0.9999999999673974,
           0.9999999999892298
          ],
          [
           0.9982624265621114,
           0.9983452307228026,
           0.9985496249189518,
           0.9987962256275543,
           0.9990395157475721,
           0.9992661971647303,
           0.999468080273636,
           0.9996360242269026,
           0.9997651959567302,
           0.9998571457853865,
           0.9999179643754135,
           0.9999554852872721,
           0.9999771448770278,
           0.9999888772329786,
           0.9999948567141602,
           0.999997732677882,
           0.9999990428047218,
           0.9999996106882783,
           0.9999998463161152,
           0.9999999406185185,
           0.9999999773548343,
           0.9999999914208726,
           0.9999999967608387,
           0.9999999987822279,
           0.9999999995460638,
           0.9999999998332456,
           0.9999999999400104,
           0.9999999999789808,
           0.9999999999928573,
           0.999999999997653
          ],
          [
           0.9988173451709323,
           0.9988593349878746,
           0.9989708698141084,
           0.9991226362511976,
           0.9992900073354348,
           0.9994557240935689,
           0.999606085797826,
           0.9997313361777675,
           0.9998273932310753,
           0.9998955229139146,
           0.9999404000717654,
           0.999967944850107,
           0.9999837384719871,
           0.9999922149548333,
           0.9999964803362911,
           0.9999984957490542,
           0.9999993913442531,
           0.9999997663114711,
           0.9999999145743805,
           0.9999999701192563,
           0.9999999899275303,
           0.9999999966965143,
           0.9999999989334912,
           0.9999999996569163,
           0.9999999998889477,
           0.9999999999636744,
           0.9999999999880216,
           0.9999999999960485,
           0.9999999999987086,
           0.9999999999995857
          ],
          [
           0.9991655167501415,
           0.9991911532143403,
           0.9992622718310871,
           0.9993651184235874,
           0.9994839630064405,
           0.9996041903346784,
           0.9997138368187561,
           0.9998051009781471,
           0.9998749656001902,
           0.9999244351172281,
           0.9999569720348878,
           0.9999769118612558,
           0.9999883239977885,
           0.9999944342379212,
           0.9999974988051398,
           0.9999989401268672,
           0.9999995763777403,
           0.9999998402167769,
           0.9999999430831275,
           0.999999980829426,
           0.9999999938827038,
           0.9999999981448786,
           0.9999999994626825,
           0.9999999998502138,
           0.9999999999593565,
           0.9999999999891025,
           0.9999999999970629,
           0.9999999999991924,
           0.999999999999772,
           0.999999999999934
          ],
          [
           0.999417338253842,
           0.999434447849797,
           0.9994826487886441,
           0.9995537475215459,
           0.9996370238123968,
           0.9997217013027535,
           0.9997989471081805,
           0.9998631653130525,
           0.9999122667003151,
           0.9999470036833411,
           0.9999698367388751,
           0.999983823076865,
           0.9999918243186845,
           0.9999961061338207,
           0.9999982522368035,
           0.9999992606584329,
           0.9999997052250389,
           0.9999998892223805,
           0.9999999607552389,
           0.9999999868911607,
           0.9999999958701036,
           0.9999999987721668,
           0.9999999996552068,
           0.9999999999084055,
           0.9999999999769207,
           0.9999999999944589,
           0.9999999999987227,
           0.9999999999997138,
           0.9999999999999365,
           0.9999999999999857
          ],
          [
           0.9996052778869127,
           0.9996167706773365,
           0.9996492679986774,
           0.999697414594656,
           0.9997539469302639,
           0.9998114457810667,
           0.9998638540533771,
           0.9999073795949923,
           0.9999406329413499,
           0.9999641458001343,
           0.9999795961488663,
           0.9999890584091632,
           0.999994470852529,
           0.9999973669835314,
           0.9999988183964761,
           0.9999995002919639,
           0.9999998008452693,
           0.9999999252004405,
           0.9999999735242534,
           0.999999991168208,
           0.9999999972233666,
           0.9999999991772139,
           0.9999999997701711,
           0.9999999999394715,
           0.9999999999849648,
           0.9999999999964753,
           0.9999999999992192,
           0.9999999999998361,
           0.9999999999999672,
           0.9999999999999937
          ],
          [
           0.9997421593048681,
           0.9997496701113557,
           0.9997709185400369,
           0.9998024121482507,
           0.9998393856078129,
           0.9998769673177397,
           0.9999111947196184,
           0.9999396012393299,
           0.9999612928332253,
           0.9999766256496043,
           0.999986698986115,
           0.9999928675746124,
           0.9999963958391062,
           0.9999982837131487,
           0.9999992298120597,
           0.9999996742938801,
           0.9999998701989504,
           0.9999999512522965,
           0.9999999827474013,
           0.9999999942458604,
           0.9999999981914371,
           0.9999999994643055,
           0.9999999998504672,
           0.999999999960663,
           0.9999999999902471,
           0.9999999999977209,
           0.999999999999498,
           0.9999999999998956,
           0.9999999999999795,
           0.9999999999999961
          ],
          [
           0.9998378167183509,
           0.9998425483216264,
           0.9998559329019144,
           0.9998757656642114,
           0.9998990387445605,
           0.9999226816898958,
           0.9999442031022135,
           0.9999620569227469,
           0.9999756862602577,
           0.9999853183988697,
           0.9999916458163538,
           0.9999955202992885,
           0.9999977363350416,
           0.9999989220571568,
           0.9999995162722937,
           0.9999997954363724,
           0.9999999184773373,
           0.9999999693838265,
           0.9999999891645697,
           0.999999996386199,
           0.9999999988641911,
           0.9999999996635894,
           0.9999999999061017,
           0.9999999999753014,
           0.9999999999938777,
           0.9999999999985698,
           0.999999999999685,
           0.9999999999999345,
           0.9999999999999871,
           0.9999999999999976
          ],
          [
           0.99990177112173,
           0.9999046400271725,
           0.9999127544237327,
           0.9999247750775349,
           0.9999388763731452,
           0.9999531969004919,
           0.9999662284376721,
           0.9999770366014982,
           0.9999852860033881,
           0.9999911154073183,
           0.999994944547208,
           0.9999972891779086,
           0.9999986301837814,
           0.9999993477034694,
           0.9999997072816714,
           0.9999998762124022,
           0.999999950668213,
           0.9999999814732559,
           0.99999999344317,
           0.9999999978131886,
           0.9999999993126921,
           0.9999999997964298,
           0.9999999999431801,
           0.9999999999850545,
           0.9999999999962953,
           0.9999999999991346,
           0.9999999999998094,
           0.9999999999999604,
           0.9999999999999922,
           0.9999999999999984
          ],
          [
           0.9999427024215314,
           0.9999443769058649,
           0.9999491126271134,
           0.9999561270995412,
           0.999964354207414,
           0.9999727076715889,
           0.9999803079966878,
           0.9999866107888286,
           0.9999914210062838,
           0.9999948199330584,
           0.9999970525011899,
           0.9999984195073786,
           0.9999992013568082,
           0.9999996196922699,
           0.9999998293368169,
           0.9999999278282896,
           0.9999999712381591,
           0.9999999891983796,
           0.9999999961771813,
           0.9999999987250268,
           0.99999999959928,
           0.9999999998813128,
           0.9999999999668724,
           0.9999999999912863,
           0.9999999999978401,
           0.9999999999994953,
           0.9999999999998888,
           0.9999999999999769,
           0.9999999999999953,
           0.9999999999999991
          ],
          [
           0.99996780625899,
           0.9999687473961973,
           0.999971408977596,
           0.9999753509731126,
           0.9999799740180706,
           0.9999846676254223,
           0.9999889377100853,
           0.9999924785753378,
           0.9999951808009396,
           0.9999970901544242,
           0.9999983442831785,
           0.9999991121822391,
           0.9999995513747996,
           0.9999997863682379,
           0.9999999041327137,
           0.9999999594587101,
           0.9999999838435019,
           0.9999999939323647,
           0.9999999978525935,
           0.9999999992838045,
           0.999999999774902,
           0.9999999999333293,
           0.9999999999813911,
           0.9999999999951052,
           0.9999999999987866,
           0.9999999999997164,
           0.9999999999999375,
           0.9999999999999869,
           0.9999999999999973,
           0.9999999999999994
          ],
          [
           0.9999825742068971,
           0.9999830837012311,
           0.9999845245467213,
           0.9999866584671027,
           0.9999891609493184,
           0.9999917015136013,
           0.999994012741922,
           0.9999959292139118,
           0.9999973917459354,
           0.9999984251358758,
           0.9999991038964731,
           0.9999995194977268,
           0.9999997571964387,
           0.9999998843788955,
           0.9999999481150158,
           0.9999999780583742,
           0.9999999912558324,
           0.9999999967160941,
           0.9999999988377876,
           0.999999999612383,
           0.9999999998781731,
           0.9999999999639166,
           0.9999999999899285,
           0.9999999999973508,
           0.9999999999993432,
           0.9999999999998466,
           0.9999999999999661,
           0.9999999999999929,
           0.9999999999999986,
           0.9999999999999997
          ],
          [
           0.9999909128650477,
           0.9999911785722155,
           0.9999919299828984,
           0.9999930428188044,
           0.9999943478330369,
           0.9999956726798274,
           0.9999968779117282,
           0.9999978772769873,
           0.9999986399229248,
           0.9999991787868986,
           0.9999995327271963,
           0.9999997494424259,
           0.9999998733902832,
           0.9999999397094764,
           0.9999999729446215,
           0.999999988558559,
           0.9999999954403617,
           0.9999999982876102,
           0.9999999993939653,
           0.9999999997978773,
           0.9999999999364735,
           0.9999999999811844,
           0.9999999999947482,
           0.9999999999986185,
           0.9999999999996575,
           0.9999999999999198,
           0.9999999999999822,
           0.9999999999999962,
           0.9999999999999991,
           0.9999999999999998
          ],
          [
           0.9999954344910083,
           0.9999955679900374,
           0.9999959455192041,
           0.9999965046343597,
           0.9999971602988661,
           0.9999978259218802,
           0.9999984314439764,
           0.9999989335333856,
           0.999999316691458,
           0.9999995874193688,
           0.9999997652404469,
           0.9999998741189934,
           0.9999999363908394,
           0.9999999697098332,
           0.9999999864072848,
           0.9999999942517808,
           0.999999997709222,
           0.9999999991396894,
           0.999999999695526,
           0.9999999998984528,
           0.999999999968084,
           0.9999999999905469,
           0.9999999999973614,
           0.9999999999993059,
           0.9999999999998279,
           0.9999999999999597,
           0.999999999999991,
           0.999999999999998,
           0.9999999999999996,
           0.9999999999999998
          ],
          [
           0.999997790029964,
           0.9999978546519657,
           0.9999980373997502,
           0.9999983080457766,
           0.9999986254265113,
           0.999998947626628,
           0.9999992407335154,
           0.9999994837725598,
           0.9999996692419483,
           0.9999998002888721,
           0.9999998863638209,
           0.999999939066866,
           0.9999999692097684,
           0.9999999853379414,
           0.9999999934203999,
           0.9999999972175548,
           0.999999998891141,
           0.9999999995835637,
           0.9999999998526183,
           0.9999999999508458,
           0.9999999999845509,
           0.9999999999954241,
           0.9999999999987227,
           0.9999999999996639,
           0.9999999999999166,
           0.9999999999999805,
           0.9999999999999956,
           0.999999999999999,
           0.9999999999999997,
           0.9999999999999999
          ],
          [
           0.9999989693247517,
           0.9999989994629881,
           0.9999990846923594,
           0.9999992109153166,
           0.9999993589340479,
           0.9999995092002204,
           0.9999996458978679,
           0.9999997592450338,
           0.9999998457431357,
           0.9999999068599897,
           0.9999999470030826,
           0.9999999715823941,
           0.9999999856402486,
           0.9999999931620029,
           0.9999999969314481,
           0.9999999987023409,
           0.9999999994828574,
           0.999999999805785,
           0.999999999931265,
           0.9999999999770757,
           0.9999999999927949,
           0.9999999999978659,
           0.9999999999994043,
           0.9999999999998432,
           0.999999999999961,
           0.9999999999999908,
           0.9999999999999979,
           0.9999999999999994,
           0.9999999999999998,
           0.9999999999999999
          ],
          [
           0.9999995368762693,
           0.9999995504186101,
           0.9999995887156402,
           0.9999996454327366,
           0.9999997119435264,
           0.999999779464149,
           0.9999998408878622,
           0.9999998918192542,
           0.9999999306862842,
           0.9999999581485082,
           0.9999999761863887,
           0.9999999872308457,
           0.9999999935475957,
           0.9999999969274174,
           0.9999999986211783,
           0.9999999994169104,
           0.9999999997676273,
           0.9999999999127315,
           0.9999999999691146,
           0.9999999999896991,
           0.9999999999967624,
           0.999999999999041,
           0.9999999999997322,
           0.9999999999999295,
           0.9999999999999825,
           0.9999999999999958,
           0.999999999999999,
           0.9999999999999997,
           0.9999999999999999,
           0.9999999999999999
          ],
          [
           0.9999997995008452,
           0.9999998053637049,
           0.9999998219435634,
           0.999999846497982,
           0.9999998752923599,
           0.9999999045239176,
           0.9999999311159494,
           0.9999999531655613,
           0.9999999699921751,
           0.9999999818813318,
           0.9999999896904291,
           0.99999999447188,
           0.9999999972065757,
           0.9999999986697939,
           0.9999999994030698,
           0.9999999997475644,
           0.9999999998993994,
           0.999999999962219,
           0.9999999999866288,
           0.9999999999955405,
           0.9999999999985982,
           0.9999999999995848,
           0.999999999999884,
           0.9999999999999694,
           0.9999999999999923,
           0.9999999999999981,
           0.9999999999999996,
           0.9999999999999998,
           0.9999999999999999,
           0.9999999999999999
          ],
          [
           0.9999999163687455,
           0.9999999188142341,
           0.9999999257299471,
           0.9999999359719707,
           0.9999999479825454,
           0.9999999601754739,
           0.9999999712674154,
           0.9999999804646439,
           0.9999999874832803,
           0.9999999924424282,
           0.9999999956997213,
           0.9999999976941372,
           0.9999999988348203,
           0.9999999994451508,
           0.9999999997510113,
           0.9999999998947052,
           0.9999999999580379,
           0.9999999999842409,
           0.9999999999944226,
           0.9999999999981397,
           0.9999999999994152,
           0.9999999999998267,
           0.9999999999999516,
           0.9999999999999871,
           0.9999999999999967,
           0.9999999999999991,
           0.9999999999999998,
           0.9999999999999999,
           0.9999999999999999,
           0.9999999999999999
          ],
          [
           0.9999999663902475,
           0.9999999673730412,
           0.99999997015233,
           0.9999999742683976,
           0.9999999790952109,
           0.9999999839953084,
           0.999999988452941,
           0.9999999921491257,
           0.9999999949697772,
           0.999999996962761,
           0.9999999982718029,
           0.9999999990733192,
           0.9999999995317372,
           0.999999999777017,
           0.9999999998999363,
           0.9999999999576841,
           0.9999999999831362,
           0.9999999999936666,
           0.9999999999977585,
           0.9999999999992524,
           0.999999999999765,
           0.9999999999999303,
           0.9999999999999805,
           0.9999999999999948,
           0.9999999999999987,
           0.9999999999999996,
           0.9999999999999998,
           0.9999999999999999,
           0.9999999999999999,
           0.9999999999999999
          ],
          [
           0.9999999869862432,
           0.9999999873667826,
           0.9999999884429284,
           0.9999999900366772,
           0.9999999919056279,
           0.9999999938029546,
           0.9999999955289579,
           0.9999999969601273,
           0.9999999980522887,
           0.9999999988239755,
           0.9999999993308388,
           0.9999999996411875,
           0.9999999998186877,
           0.9999999999136605,
           0.9999999999612551,
           0.9999999999836151,
           0.9999999999934702,
           0.9999999999975476,
           0.999999999999132,
           0.9999999999997105,
           0.999999999999909,
           0.9999999999999729,
           0.9999999999999923,
           0.9999999999999979,
           0.9999999999999993,
           0.9999999999999998,
           0.9999999999999999,
           0.9999999999999999,
           0.9999999999999999,
           0.9999999999999999
          ],
          [
           0.999999995145095,
           0.9999999952870589,
           0.9999999956885252,
           0.9999999962830882,
           0.9999999969803179,
           0.9999999976881335,
           0.9999999983320355,
           0.9999999988659467,
           0.9999999992733878,
           0.999999999561273,
           0.999999999750363,
           0.9999999998661415,
           0.9999999999323597,
           0.9999999999677902,
           0.9999999999855458,
           0.9999999999938873,
           0.999999999997564,
           0.9999999999990851,
           0.9999999999996761,
           0.9999999999998919,
           0.9999999999999659,
           0.9999999999999898,
           0.9999999999999971,
           0.9999999999999991,
           0.9999999999999997,
           0.9999999999999998,
           0.9999999999999999,
           0.9999999999999999,
           0.9999999999999999,
           0.9999999999999999
          ],
          [
           0.9999999982549838,
           0.9999999983060103,
           0.9999999984503108,
           0.9999999986640168,
           0.9999999989146247,
           0.9999999991690374,
           0.9999999994004773,
           0.999999999592383,
           0.999999999738831,
           0.9999999998423066,
           0.999999999910272,
           0.9999999999518867,
           0.9999999999756877,
           0.9999999999884226,
           0.9999999999948046,
           0.9999999999978029,
           0.9999999999991244,
           0.999999999999671,
           0.9999999999998835,
           0.9999999999999611,
           0.9999999999999877,
           0.9999999999999962,
           0.9999999999999989,
           0.9999999999999996,
           0.9999999999999998,
           0.9999999999999999,
           0.9999999999999999,
           0.9999999999999999,
           0.9999999999999999,
           0.9999999999999999
          ],
          [
           0.9999999993956912,
           0.9999999994133619,
           0.999999999463334,
           0.9999999995373415,
           0.9999999996241284,
           0.999999999712233,
           0.999999999792382,
           0.9999999998588399,
           0.9999999999095557,
           0.9999999999453899,
           0.9999999999689266,
           0.999999999983338,
           0.9999999999915805,
           0.9999999999959907,
           0.9999999999982008,
           0.999999999999239,
           0.9999999999996967,
           0.999999999999886,
           0.9999999999999596,
           0.9999999999999865,
           0.9999999999999957,
           0.9999999999999987,
           0.9999999999999996,
           0.9999999999999998,
           0.9999999999999999,
           0.9999999999999999,
           0.9999999999999999,
           0.9999999999999999,
           0.9999999999999999,
           0.9999999999999999
          ]
         ]
        }
       ],
       "layout": {
        "autosize": true,
        "height": 600,
        "scene": {
         "xaxis": {
          "title": {
           "text": "space"
          }
         },
         "yaxis": {
          "title": {
           "text": "time"
          }
         },
         "zaxis": {
          "title": {
           "text": "semivariance"
          }
         }
        },
        "template": {
         "data": {
          "bar": [
           {
            "error_x": {
             "color": "#f2f5fa"
            },
            "error_y": {
             "color": "#f2f5fa"
            },
            "marker": {
             "line": {
              "color": "rgb(17,17,17)",
              "width": 0.5
             },
             "pattern": {
              "fillmode": "overlay",
              "size": 10,
              "solidity": 0.2
             }
            },
            "type": "bar"
           }
          ],
          "barpolar": [
           {
            "marker": {
             "line": {
              "color": "rgb(17,17,17)",
              "width": 0.5
             },
             "pattern": {
              "fillmode": "overlay",
              "size": 10,
              "solidity": 0.2
             }
            },
            "type": "barpolar"
           }
          ],
          "carpet": [
           {
            "aaxis": {
             "endlinecolor": "#A2B1C6",
             "gridcolor": "#506784",
             "linecolor": "#506784",
             "minorgridcolor": "#506784",
             "startlinecolor": "#A2B1C6"
            },
            "baxis": {
             "endlinecolor": "#A2B1C6",
             "gridcolor": "#506784",
             "linecolor": "#506784",
             "minorgridcolor": "#506784",
             "startlinecolor": "#A2B1C6"
            },
            "type": "carpet"
           }
          ],
          "choropleth": [
           {
            "colorbar": {
             "outlinewidth": 0,
             "ticks": ""
            },
            "type": "choropleth"
           }
          ],
          "contour": [
           {
            "colorbar": {
             "outlinewidth": 0,
             "ticks": ""
            },
            "colorscale": [
             [
              0.0,
              "#0d0887"
             ],
             [
              0.1111111111111111,
              "#46039f"
             ],
             [
              0.2222222222222222,
              "#7201a8"
             ],
             [
              0.3333333333333333,
              "#9c179e"
             ],
             [
              0.4444444444444444,
              "#bd3786"
             ],
             [
              0.5555555555555556,
              "#d8576b"
             ],
             [
              0.6666666666666666,
              "#ed7953"
             ],
             [
              0.7777777777777778,
              "#fb9f3a"
             ],
             [
              0.8888888888888888,
              "#fdca26"
             ],
             [
              1.0,
              "#f0f921"
             ]
            ],
            "type": "contour"
           }
          ],
          "contourcarpet": [
           {
            "colorbar": {
             "outlinewidth": 0,
             "ticks": ""
            },
            "type": "contourcarpet"
           }
          ],
          "heatmap": [
           {
            "colorbar": {
             "outlinewidth": 0,
             "ticks": ""
            },
            "colorscale": [
             [
              0.0,
              "#0d0887"
             ],
             [
              0.1111111111111111,
              "#46039f"
             ],
             [
              0.2222222222222222,
              "#7201a8"
             ],
             [
              0.3333333333333333,
              "#9c179e"
             ],
             [
              0.4444444444444444,
              "#bd3786"
             ],
             [
              0.5555555555555556,
              "#d8576b"
             ],
             [
              0.6666666666666666,
              "#ed7953"
             ],
             [
              0.7777777777777778,
              "#fb9f3a"
             ],
             [
              0.8888888888888888,
              "#fdca26"
             ],
             [
              1.0,
              "#f0f921"
             ]
            ],
            "type": "heatmap"
           }
          ],
          "heatmapgl": [
           {
            "colorbar": {
             "outlinewidth": 0,
             "ticks": ""
            },
            "colorscale": [
             [
              0.0,
              "#0d0887"
             ],
             [
              0.1111111111111111,
              "#46039f"
             ],
             [
              0.2222222222222222,
              "#7201a8"
             ],
             [
              0.3333333333333333,
              "#9c179e"
             ],
             [
              0.4444444444444444,
              "#bd3786"
             ],
             [
              0.5555555555555556,
              "#d8576b"
             ],
             [
              0.6666666666666666,
              "#ed7953"
             ],
             [
              0.7777777777777778,
              "#fb9f3a"
             ],
             [
              0.8888888888888888,
              "#fdca26"
             ],
             [
              1.0,
              "#f0f921"
             ]
            ],
            "type": "heatmapgl"
           }
          ],
          "histogram": [
           {
            "marker": {
             "pattern": {
              "fillmode": "overlay",
              "size": 10,
              "solidity": 0.2
             }
            },
            "type": "histogram"
           }
          ],
          "histogram2d": [
           {
            "colorbar": {
             "outlinewidth": 0,
             "ticks": ""
            },
            "colorscale": [
             [
              0.0,
              "#0d0887"
             ],
             [
              0.1111111111111111,
              "#46039f"
             ],
             [
              0.2222222222222222,
              "#7201a8"
             ],
             [
              0.3333333333333333,
              "#9c179e"
             ],
             [
              0.4444444444444444,
              "#bd3786"
             ],
             [
              0.5555555555555556,
              "#d8576b"
             ],
             [
              0.6666666666666666,
              "#ed7953"
             ],
             [
              0.7777777777777778,
              "#fb9f3a"
             ],
             [
              0.8888888888888888,
              "#fdca26"
             ],
             [
              1.0,
              "#f0f921"
             ]
            ],
            "type": "histogram2d"
           }
          ],
          "histogram2dcontour": [
           {
            "colorbar": {
             "outlinewidth": 0,
             "ticks": ""
            },
            "colorscale": [
             [
              0.0,
              "#0d0887"
             ],
             [
              0.1111111111111111,
              "#46039f"
             ],
             [
              0.2222222222222222,
              "#7201a8"
             ],
             [
              0.3333333333333333,
              "#9c179e"
             ],
             [
              0.4444444444444444,
              "#bd3786"
             ],
             [
              0.5555555555555556,
              "#d8576b"
             ],
             [
              0.6666666666666666,
              "#ed7953"
             ],
             [
              0.7777777777777778,
              "#fb9f3a"
             ],
             [
              0.8888888888888888,
              "#fdca26"
             ],
             [
              1.0,
              "#f0f921"
             ]
            ],
            "type": "histogram2dcontour"
           }
          ],
          "mesh3d": [
           {
            "colorbar": {
             "outlinewidth": 0,
             "ticks": ""
            },
            "type": "mesh3d"
           }
          ],
          "parcoords": [
           {
            "line": {
             "colorbar": {
              "outlinewidth": 0,
              "ticks": ""
             }
            },
            "type": "parcoords"
           }
          ],
          "pie": [
           {
            "automargin": true,
            "type": "pie"
           }
          ],
          "scatter": [
           {
            "marker": {
             "line": {
              "color": "#283442"
             }
            },
            "type": "scatter"
           }
          ],
          "scatter3d": [
           {
            "line": {
             "colorbar": {
              "outlinewidth": 0,
              "ticks": ""
             }
            },
            "marker": {
             "colorbar": {
              "outlinewidth": 0,
              "ticks": ""
             }
            },
            "type": "scatter3d"
           }
          ],
          "scattercarpet": [
           {
            "marker": {
             "colorbar": {
              "outlinewidth": 0,
              "ticks": ""
             }
            },
            "type": "scattercarpet"
           }
          ],
          "scattergeo": [
           {
            "marker": {
             "colorbar": {
              "outlinewidth": 0,
              "ticks": ""
             }
            },
            "type": "scattergeo"
           }
          ],
          "scattergl": [
           {
            "marker": {
             "line": {
              "color": "#283442"
             }
            },
            "type": "scattergl"
           }
          ],
          "scattermapbox": [
           {
            "marker": {
             "colorbar": {
              "outlinewidth": 0,
              "ticks": ""
             }
            },
            "type": "scattermapbox"
           }
          ],
          "scatterpolar": [
           {
            "marker": {
             "colorbar": {
              "outlinewidth": 0,
              "ticks": ""
             }
            },
            "type": "scatterpolar"
           }
          ],
          "scatterpolargl": [
           {
            "marker": {
             "colorbar": {
              "outlinewidth": 0,
              "ticks": ""
             }
            },
            "type": "scatterpolargl"
           }
          ],
          "scatterternary": [
           {
            "marker": {
             "colorbar": {
              "outlinewidth": 0,
              "ticks": ""
             }
            },
            "type": "scatterternary"
           }
          ],
          "surface": [
           {
            "colorbar": {
             "outlinewidth": 0,
             "ticks": ""
            },
            "colorscale": [
             [
              0.0,
              "#0d0887"
             ],
             [
              0.1111111111111111,
              "#46039f"
             ],
             [
              0.2222222222222222,
              "#7201a8"
             ],
             [
              0.3333333333333333,
              "#9c179e"
             ],
             [
              0.4444444444444444,
              "#bd3786"
             ],
             [
              0.5555555555555556,
              "#d8576b"
             ],
             [
              0.6666666666666666,
              "#ed7953"
             ],
             [
              0.7777777777777778,
              "#fb9f3a"
             ],
             [
              0.8888888888888888,
              "#fdca26"
             ],
             [
              1.0,
              "#f0f921"
             ]
            ],
            "type": "surface"
           }
          ],
          "table": [
           {
            "cells": {
             "fill": {
              "color": "#506784"
             },
             "line": {
              "color": "rgb(17,17,17)"
             }
            },
            "header": {
             "fill": {
              "color": "#2a3f5f"
             },
             "line": {
              "color": "rgb(17,17,17)"
             }
            },
            "type": "table"
           }
          ]
         },
         "layout": {
          "annotationdefaults": {
           "arrowcolor": "#f2f5fa",
           "arrowhead": 0,
           "arrowwidth": 1
          },
          "autotypenumbers": "strict",
          "coloraxis": {
           "colorbar": {
            "outlinewidth": 0,
            "ticks": ""
           }
          },
          "colorscale": {
           "diverging": [
            [
             0,
             "#8e0152"
            ],
            [
             0.1,
             "#c51b7d"
            ],
            [
             0.2,
             "#de77ae"
            ],
            [
             0.3,
             "#f1b6da"
            ],
            [
             0.4,
             "#fde0ef"
            ],
            [
             0.5,
             "#f7f7f7"
            ],
            [
             0.6,
             "#e6f5d0"
            ],
            [
             0.7,
             "#b8e186"
            ],
            [
             0.8,
             "#7fbc41"
            ],
            [
             0.9,
             "#4d9221"
            ],
            [
             1,
             "#276419"
            ]
           ],
           "sequential": [
            [
             0.0,
             "#0d0887"
            ],
            [
             0.1111111111111111,
             "#46039f"
            ],
            [
             0.2222222222222222,
             "#7201a8"
            ],
            [
             0.3333333333333333,
             "#9c179e"
            ],
            [
             0.4444444444444444,
             "#bd3786"
            ],
            [
             0.5555555555555556,
             "#d8576b"
            ],
            [
             0.6666666666666666,
             "#ed7953"
            ],
            [
             0.7777777777777778,
             "#fb9f3a"
            ],
            [
             0.8888888888888888,
             "#fdca26"
            ],
            [
             1.0,
             "#f0f921"
            ]
           ],
           "sequentialminus": [
            [
             0.0,
             "#0d0887"
            ],
            [
             0.1111111111111111,
             "#46039f"
            ],
            [
             0.2222222222222222,
             "#7201a8"
            ],
            [
             0.3333333333333333,
             "#9c179e"
            ],
            [
             0.4444444444444444,
             "#bd3786"
            ],
            [
             0.5555555555555556,
             "#d8576b"
            ],
            [
             0.6666666666666666,
             "#ed7953"
            ],
            [
             0.7777777777777778,
             "#fb9f3a"
            ],
            [
             0.8888888888888888,
             "#fdca26"
            ],
            [
             1.0,
             "#f0f921"
            ]
           ]
          },
          "colorway": [
           "#636efa",
           "#EF553B",
           "#00cc96",
           "#ab63fa",
           "#FFA15A",
           "#19d3f3",
           "#FF6692",
           "#B6E880",
           "#FF97FF",
           "#FECB52"
          ],
          "font": {
           "color": "#f2f5fa"
          },
          "geo": {
           "bgcolor": "rgb(17,17,17)",
           "lakecolor": "rgb(17,17,17)",
           "landcolor": "rgb(17,17,17)",
           "showlakes": true,
           "showland": true,
           "subunitcolor": "#506784"
          },
          "hoverlabel": {
           "align": "left"
          },
          "hovermode": "closest",
          "mapbox": {
           "style": "dark"
          },
          "paper_bgcolor": "rgb(17,17,17)",
          "plot_bgcolor": "rgb(17,17,17)",
          "polar": {
           "angularaxis": {
            "gridcolor": "#506784",
            "linecolor": "#506784",
            "ticks": ""
           },
           "bgcolor": "rgb(17,17,17)",
           "radialaxis": {
            "gridcolor": "#506784",
            "linecolor": "#506784",
            "ticks": ""
           }
          },
          "scene": {
           "xaxis": {
            "backgroundcolor": "rgb(17,17,17)",
            "gridcolor": "#506784",
            "gridwidth": 2,
            "linecolor": "#506784",
            "showbackground": true,
            "ticks": "",
            "zerolinecolor": "#C8D4E3"
           },
           "yaxis": {
            "backgroundcolor": "rgb(17,17,17)",
            "gridcolor": "#506784",
            "gridwidth": 2,
            "linecolor": "#506784",
            "showbackground": true,
            "ticks": "",
            "zerolinecolor": "#C8D4E3"
           },
           "zaxis": {
            "backgroundcolor": "rgb(17,17,17)",
            "gridcolor": "#506784",
            "gridwidth": 2,
            "linecolor": "#506784",
            "showbackground": true,
            "ticks": "",
            "zerolinecolor": "#C8D4E3"
           }
          },
          "shapedefaults": {
           "line": {
            "color": "#f2f5fa"
           }
          },
          "sliderdefaults": {
           "bgcolor": "#C8D4E3",
           "bordercolor": "rgb(17,17,17)",
           "borderwidth": 1,
           "tickwidth": 0
          },
          "ternary": {
           "aaxis": {
            "gridcolor": "#506784",
            "linecolor": "#506784",
            "ticks": ""
           },
           "baxis": {
            "gridcolor": "#506784",
            "linecolor": "#506784",
            "ticks": ""
           },
           "bgcolor": "rgb(17,17,17)",
           "caxis": {
            "gridcolor": "#506784",
            "linecolor": "#506784",
            "ticks": ""
           }
          },
          "title": {
           "x": 0.05
          },
          "updatemenudefaults": {
           "bgcolor": "#506784",
           "borderwidth": 0
          },
          "xaxis": {
           "automargin": true,
           "gridcolor": "#283442",
           "linecolor": "#506784",
           "ticks": "",
           "title": {
            "standoff": 15
           },
           "zerolinecolor": "#283442",
           "zerolinewidth": 2
          },
          "yaxis": {
           "automargin": true,
           "gridcolor": "#283442",
           "linecolor": "#506784",
           "ticks": "",
           "title": {
            "standoff": 15
           },
           "zerolinecolor": "#283442",
           "zerolinewidth": 2
          }
         }
        },
        "title": {
         "text": "2D Variogram"
        },
        "width": 700
       }
      },
      "text/html": "<div>                            <div id=\"4e1a5aa7-4567-46cd-ac97-ff5020f51e68\" class=\"plotly-graph-div\" style=\"height:600px; width:700px;\"></div>            <script type=\"text/javascript\">                require([\"plotly\"], function(Plotly) {                    window.PLOTLYENV=window.PLOTLYENV || {};                                    if (document.getElementById(\"4e1a5aa7-4567-46cd-ac97-ff5020f51e68\")) {                    Plotly.newPlot(                        \"4e1a5aa7-4567-46cd-ac97-ff5020f51e68\",                        [{\"type\":\"surface\",\"x\":[0,10,20,30,40,50,60,70,80,90,100,110,120,130,140,150,160,170,180,190,200,210,220,230,240,250,260,270,280,290],\"y\":[0,10,20,30,40,50,60,70,80,90,100,110,120,130,140,150,160,170,180,190,200,210,220,230,240,250,260,270,280,290],\"z\":[[0.9376767133468751,0.941777758853876,0.9520329279092008,0.9634113883572535,0.9727547913570396,0.9801132518390221,0.9860532442906056,0.990693793357974,0.9940738084575472,0.9963675979729913,0.9978366794462366,0.9987381386080421,0.999275495416546,0.9995899725256581,0.9997716881283427,0.9998754016272664,0.9999336543003599,0.9999656727009869,0.9999827983443652,0.999991671304807,0.9999961098701285,0.9999982490244905,0.9999992410055405,0.9999996832914413,0.9999998728166122,0.9999999508550903,0.9999999817291663,0.9999999934650774,0.9999999977514322,0.9999999992557085],[0.9441154879689848,0.9479653197220976,0.9574470319754412,0.9677945919195172,0.9761585179896772,0.9826456277675841,0.987830370336088,0.9918655333898638,0.9948049802932699,0.9968046086304736,0.9980900931641127,0.9988823402765195,0.99935665115624,0.9996352772607412,0.9997967265638673,0.9998890308192578,0.9999409157277335,0.9999694379529596,0.9999846901921263,0.9999925896294646,0.9999965397085973,0.9999984428145741,0.999999325107562,0.9999997184140206,0.9999998869288917,0.9999999563101691,0.9999999837576847,0.9999999941907174,0.9999999980011347,0.9999999993383658],[0.9601789624371078,0.9632305470742605,0.9704901961103514,0.9780914035592104,0.9839855668966675,0.9883877957312572,0.9918337349482393,0.9945035490540178,0.9964572509510601,0.9977987609978174,0.9986714556176519,0.9992161424130748,0.9995461047441161,0.999741785779519,0.9998558997859284,0.999921354000927,0.999958173830835,0.9999783973307597,0.9999891944870305,0.9999947766378725,0.9999975634736473,0.9999989043812345,0.999999525418505,0.9999998020661361,0.9999999205398291,0.9999999693022622,0.9999999885888664,0.9999999959189145,0.9999999985958283,0.9999999995352227],[0.977233502082989,0.9791893507709295,0.9836763147027119,0.9881488480263776,0.9914359231344834,0.9937811703477064,0.9955845343128152,0.9969885258278914,0.9980310311583216,0.9987599913295644,0.9992432446020512,0.9995501400729645,0.9997386212174448,0.9998513681814467,0.999917327137899,0.9999551031449977,0.9999762542462691,0.999987800208046,0.9999939255621424,0.9999970744251032,0.9999986391458617,0.9999993893263899,0.999999735859818,0.9999998899429019,0.9999999558463755,0.9999999829492847,0.9999999936634647,0.9999999977341585,0.9999999992204702,0.9999999997419917],[0.9887693750441684,0.9897982783365615,0.992102406239012,0.9943226634200872,0.9958971462830628,0.9969927193588524,0.9978355938471997,0.9985033765119442,0.9990102113352468,0.9993720926150544,0.9996161320578286,0.9997728296301812,0.9998693781283707,0.9999268348943833,0.9999600232337176,0.9999786888410948,0.9999889244618174,0.999994396530983,0.9999972450887223,0.9999986862794501,0.9999993934410862,0.9999997292679065,0.9999998833354278,0.9999999515133609,0.9999999805801421,0.9999999925086899,0.9999999972178766,0.9999999990055648,0.9999999996579625,0.9999999998868088],[0.9946116329056889,0.9950761546649132,0.9961152610771316,0.9971272517147889,0.997869823498426,0.9984128897966305,0.9988476863595546,0.9992006144221812,0.9994726419654782,0.9996686172089553,0.9998009661982332,0.9998852834341292,0.999936283473333,0.9999657521092742,0.9999821152720927,0.9999908960307771,0.9999954723553331,0.9999977978372165,0.9999989527767652,0.9999995137668191,0.9999997800336746,0.9999999032762217,0.9999999587566422,0.9999999829817863,0.9999999932162262,0.9999999973911253,0.9999999990329745,0.9999999996547546,0.9999999998813356,0.9999999999607462],[0.9971585655747575,0.9973514441565501,0.9977968171482012,0.9982664083594848,0.9986591764450579,0.9989849675090159,0.9992626785832268,0.9994920795207365,0.9996691558950141,0.9997960652488931,0.9998808025362729,0.9999337681259834,0.9999649040471685,0.9999821963961153,0.9999913136874374,0.9999959019741067,0.9999981196278989,0.9999991561327506,0.9999996279148899,0.9999998383720603,0.9999999308063023,0.9999999708573002,0.9999999879636553,0.999999995144113,0.9999999980936911,0.9999999992741646,0.999999999732653,0.9999999999049234,0.9999999999673974,0.9999999999892298],[0.9982624265621114,0.9983452307228026,0.9985496249189518,0.9987962256275543,0.9990395157475721,0.9992661971647303,0.999468080273636,0.9996360242269026,0.9997651959567302,0.9998571457853865,0.9999179643754135,0.9999554852872721,0.9999771448770278,0.9999888772329786,0.9999948567141602,0.999997732677882,0.9999990428047218,0.9999996106882783,0.9999998463161152,0.9999999406185185,0.9999999773548343,0.9999999914208726,0.9999999967608387,0.9999999987822279,0.9999999995460638,0.9999999998332456,0.9999999999400104,0.9999999999789808,0.9999999999928573,0.999999999997653],[0.9988173451709323,0.9988593349878746,0.9989708698141084,0.9991226362511976,0.9992900073354348,0.9994557240935689,0.999606085797826,0.9997313361777675,0.9998273932310753,0.9998955229139146,0.9999404000717654,0.999967944850107,0.9999837384719871,0.9999922149548333,0.9999964803362911,0.9999984957490542,0.9999993913442531,0.9999997663114711,0.9999999145743805,0.9999999701192563,0.9999999899275303,0.9999999966965143,0.9999999989334912,0.9999999996569163,0.9999999998889477,0.9999999999636744,0.9999999999880216,0.9999999999960485,0.9999999999987086,0.9999999999995857],[0.9991655167501415,0.9991911532143403,0.9992622718310871,0.9993651184235874,0.9994839630064405,0.9996041903346784,0.9997138368187561,0.9998051009781471,0.9998749656001902,0.9999244351172281,0.9999569720348878,0.9999769118612558,0.9999883239977885,0.9999944342379212,0.9999974988051398,0.9999989401268672,0.9999995763777403,0.9999998402167769,0.9999999430831275,0.999999980829426,0.9999999938827038,0.9999999981448786,0.9999999994626825,0.9999999998502138,0.9999999999593565,0.9999999999891025,0.9999999999970629,0.9999999999991924,0.999999999999772,0.999999999999934],[0.999417338253842,0.999434447849797,0.9994826487886441,0.9995537475215459,0.9996370238123968,0.9997217013027535,0.9997989471081805,0.9998631653130525,0.9999122667003151,0.9999470036833411,0.9999698367388751,0.999983823076865,0.9999918243186845,0.9999961061338207,0.9999982522368035,0.9999992606584329,0.9999997052250389,0.9999998892223805,0.9999999607552389,0.9999999868911607,0.9999999958701036,0.9999999987721668,0.9999999996552068,0.9999999999084055,0.9999999999769207,0.9999999999944589,0.9999999999987227,0.9999999999997138,0.9999999999999365,0.9999999999999857],[0.9996052778869127,0.9996167706773365,0.9996492679986774,0.999697414594656,0.9997539469302639,0.9998114457810667,0.9998638540533771,0.9999073795949923,0.9999406329413499,0.9999641458001343,0.9999795961488663,0.9999890584091632,0.999994470852529,0.9999973669835314,0.9999988183964761,0.9999995002919639,0.9999998008452693,0.9999999252004405,0.9999999735242534,0.999999991168208,0.9999999972233666,0.9999999991772139,0.9999999997701711,0.9999999999394715,0.9999999999849648,0.9999999999964753,0.9999999999992192,0.9999999999998361,0.9999999999999672,0.9999999999999937],[0.9997421593048681,0.9997496701113557,0.9997709185400369,0.9998024121482507,0.9998393856078129,0.9998769673177397,0.9999111947196184,0.9999396012393299,0.9999612928332253,0.9999766256496043,0.999986698986115,0.9999928675746124,0.9999963958391062,0.9999982837131487,0.9999992298120597,0.9999996742938801,0.9999998701989504,0.9999999512522965,0.9999999827474013,0.9999999942458604,0.9999999981914371,0.9999999994643055,0.9999999998504672,0.999999999960663,0.9999999999902471,0.9999999999977209,0.999999999999498,0.9999999999998956,0.9999999999999795,0.9999999999999961],[0.9998378167183509,0.9998425483216264,0.9998559329019144,0.9998757656642114,0.9998990387445605,0.9999226816898958,0.9999442031022135,0.9999620569227469,0.9999756862602577,0.9999853183988697,0.9999916458163538,0.9999955202992885,0.9999977363350416,0.9999989220571568,0.9999995162722937,0.9999997954363724,0.9999999184773373,0.9999999693838265,0.9999999891645697,0.999999996386199,0.9999999988641911,0.9999999996635894,0.9999999999061017,0.9999999999753014,0.9999999999938777,0.9999999999985698,0.999999999999685,0.9999999999999345,0.9999999999999871,0.9999999999999976],[0.99990177112173,0.9999046400271725,0.9999127544237327,0.9999247750775349,0.9999388763731452,0.9999531969004919,0.9999662284376721,0.9999770366014982,0.9999852860033881,0.9999911154073183,0.999994944547208,0.9999972891779086,0.9999986301837814,0.9999993477034694,0.9999997072816714,0.9999998762124022,0.999999950668213,0.9999999814732559,0.99999999344317,0.9999999978131886,0.9999999993126921,0.9999999997964298,0.9999999999431801,0.9999999999850545,0.9999999999962953,0.9999999999991346,0.9999999999998094,0.9999999999999604,0.9999999999999922,0.9999999999999984],[0.9999427024215314,0.9999443769058649,0.9999491126271134,0.9999561270995412,0.999964354207414,0.9999727076715889,0.9999803079966878,0.9999866107888286,0.9999914210062838,0.9999948199330584,0.9999970525011899,0.9999984195073786,0.9999992013568082,0.9999996196922699,0.9999998293368169,0.9999999278282896,0.9999999712381591,0.9999999891983796,0.9999999961771813,0.9999999987250268,0.99999999959928,0.9999999998813128,0.9999999999668724,0.9999999999912863,0.9999999999978401,0.9999999999994953,0.9999999999998888,0.9999999999999769,0.9999999999999953,0.9999999999999991],[0.99996780625899,0.9999687473961973,0.999971408977596,0.9999753509731126,0.9999799740180706,0.9999846676254223,0.9999889377100853,0.9999924785753378,0.9999951808009396,0.9999970901544242,0.9999983442831785,0.9999991121822391,0.9999995513747996,0.9999997863682379,0.9999999041327137,0.9999999594587101,0.9999999838435019,0.9999999939323647,0.9999999978525935,0.9999999992838045,0.999999999774902,0.9999999999333293,0.9999999999813911,0.9999999999951052,0.9999999999987866,0.9999999999997164,0.9999999999999375,0.9999999999999869,0.9999999999999973,0.9999999999999994],[0.9999825742068971,0.9999830837012311,0.9999845245467213,0.9999866584671027,0.9999891609493184,0.9999917015136013,0.999994012741922,0.9999959292139118,0.9999973917459354,0.9999984251358758,0.9999991038964731,0.9999995194977268,0.9999997571964387,0.9999998843788955,0.9999999481150158,0.9999999780583742,0.9999999912558324,0.9999999967160941,0.9999999988377876,0.999999999612383,0.9999999998781731,0.9999999999639166,0.9999999999899285,0.9999999999973508,0.9999999999993432,0.9999999999998466,0.9999999999999661,0.9999999999999929,0.9999999999999986,0.9999999999999997],[0.9999909128650477,0.9999911785722155,0.9999919299828984,0.9999930428188044,0.9999943478330369,0.9999956726798274,0.9999968779117282,0.9999978772769873,0.9999986399229248,0.9999991787868986,0.9999995327271963,0.9999997494424259,0.9999998733902832,0.9999999397094764,0.9999999729446215,0.999999988558559,0.9999999954403617,0.9999999982876102,0.9999999993939653,0.9999999997978773,0.9999999999364735,0.9999999999811844,0.9999999999947482,0.9999999999986185,0.9999999999996575,0.9999999999999198,0.9999999999999822,0.9999999999999962,0.9999999999999991,0.9999999999999998],[0.9999954344910083,0.9999955679900374,0.9999959455192041,0.9999965046343597,0.9999971602988661,0.9999978259218802,0.9999984314439764,0.9999989335333856,0.999999316691458,0.9999995874193688,0.9999997652404469,0.9999998741189934,0.9999999363908394,0.9999999697098332,0.9999999864072848,0.9999999942517808,0.999999997709222,0.9999999991396894,0.999999999695526,0.9999999998984528,0.999999999968084,0.9999999999905469,0.9999999999973614,0.9999999999993059,0.9999999999998279,0.9999999999999597,0.999999999999991,0.999999999999998,0.9999999999999996,0.9999999999999998],[0.999997790029964,0.9999978546519657,0.9999980373997502,0.9999983080457766,0.9999986254265113,0.999998947626628,0.9999992407335154,0.9999994837725598,0.9999996692419483,0.9999998002888721,0.9999998863638209,0.999999939066866,0.9999999692097684,0.9999999853379414,0.9999999934203999,0.9999999972175548,0.999999998891141,0.9999999995835637,0.9999999998526183,0.9999999999508458,0.9999999999845509,0.9999999999954241,0.9999999999987227,0.9999999999996639,0.9999999999999166,0.9999999999999805,0.9999999999999956,0.999999999999999,0.9999999999999997,0.9999999999999999],[0.9999989693247517,0.9999989994629881,0.9999990846923594,0.9999992109153166,0.9999993589340479,0.9999995092002204,0.9999996458978679,0.9999997592450338,0.9999998457431357,0.9999999068599897,0.9999999470030826,0.9999999715823941,0.9999999856402486,0.9999999931620029,0.9999999969314481,0.9999999987023409,0.9999999994828574,0.999999999805785,0.999999999931265,0.9999999999770757,0.9999999999927949,0.9999999999978659,0.9999999999994043,0.9999999999998432,0.999999999999961,0.9999999999999908,0.9999999999999979,0.9999999999999994,0.9999999999999998,0.9999999999999999],[0.9999995368762693,0.9999995504186101,0.9999995887156402,0.9999996454327366,0.9999997119435264,0.999999779464149,0.9999998408878622,0.9999998918192542,0.9999999306862842,0.9999999581485082,0.9999999761863887,0.9999999872308457,0.9999999935475957,0.9999999969274174,0.9999999986211783,0.9999999994169104,0.9999999997676273,0.9999999999127315,0.9999999999691146,0.9999999999896991,0.9999999999967624,0.999999999999041,0.9999999999997322,0.9999999999999295,0.9999999999999825,0.9999999999999958,0.999999999999999,0.9999999999999997,0.9999999999999999,0.9999999999999999],[0.9999997995008452,0.9999998053637049,0.9999998219435634,0.999999846497982,0.9999998752923599,0.9999999045239176,0.9999999311159494,0.9999999531655613,0.9999999699921751,0.9999999818813318,0.9999999896904291,0.99999999447188,0.9999999972065757,0.9999999986697939,0.9999999994030698,0.9999999997475644,0.9999999998993994,0.999999999962219,0.9999999999866288,0.9999999999955405,0.9999999999985982,0.9999999999995848,0.999999999999884,0.9999999999999694,0.9999999999999923,0.9999999999999981,0.9999999999999996,0.9999999999999998,0.9999999999999999,0.9999999999999999],[0.9999999163687455,0.9999999188142341,0.9999999257299471,0.9999999359719707,0.9999999479825454,0.9999999601754739,0.9999999712674154,0.9999999804646439,0.9999999874832803,0.9999999924424282,0.9999999956997213,0.9999999976941372,0.9999999988348203,0.9999999994451508,0.9999999997510113,0.9999999998947052,0.9999999999580379,0.9999999999842409,0.9999999999944226,0.9999999999981397,0.9999999999994152,0.9999999999998267,0.9999999999999516,0.9999999999999871,0.9999999999999967,0.9999999999999991,0.9999999999999998,0.9999999999999999,0.9999999999999999,0.9999999999999999],[0.9999999663902475,0.9999999673730412,0.99999997015233,0.9999999742683976,0.9999999790952109,0.9999999839953084,0.999999988452941,0.9999999921491257,0.9999999949697772,0.999999996962761,0.9999999982718029,0.9999999990733192,0.9999999995317372,0.999999999777017,0.9999999998999363,0.9999999999576841,0.9999999999831362,0.9999999999936666,0.9999999999977585,0.9999999999992524,0.999999999999765,0.9999999999999303,0.9999999999999805,0.9999999999999948,0.9999999999999987,0.9999999999999996,0.9999999999999998,0.9999999999999999,0.9999999999999999,0.9999999999999999],[0.9999999869862432,0.9999999873667826,0.9999999884429284,0.9999999900366772,0.9999999919056279,0.9999999938029546,0.9999999955289579,0.9999999969601273,0.9999999980522887,0.9999999988239755,0.9999999993308388,0.9999999996411875,0.9999999998186877,0.9999999999136605,0.9999999999612551,0.9999999999836151,0.9999999999934702,0.9999999999975476,0.999999999999132,0.9999999999997105,0.999999999999909,0.9999999999999729,0.9999999999999923,0.9999999999999979,0.9999999999999993,0.9999999999999998,0.9999999999999999,0.9999999999999999,0.9999999999999999,0.9999999999999999],[0.999999995145095,0.9999999952870589,0.9999999956885252,0.9999999962830882,0.9999999969803179,0.9999999976881335,0.9999999983320355,0.9999999988659467,0.9999999992733878,0.999999999561273,0.999999999750363,0.9999999998661415,0.9999999999323597,0.9999999999677902,0.9999999999855458,0.9999999999938873,0.999999999997564,0.9999999999990851,0.9999999999996761,0.9999999999998919,0.9999999999999659,0.9999999999999898,0.9999999999999971,0.9999999999999991,0.9999999999999997,0.9999999999999998,0.9999999999999999,0.9999999999999999,0.9999999999999999,0.9999999999999999],[0.9999999982549838,0.9999999983060103,0.9999999984503108,0.9999999986640168,0.9999999989146247,0.9999999991690374,0.9999999994004773,0.999999999592383,0.999999999738831,0.9999999998423066,0.999999999910272,0.9999999999518867,0.9999999999756877,0.9999999999884226,0.9999999999948046,0.9999999999978029,0.9999999999991244,0.999999999999671,0.9999999999998835,0.9999999999999611,0.9999999999999877,0.9999999999999962,0.9999999999999989,0.9999999999999996,0.9999999999999998,0.9999999999999999,0.9999999999999999,0.9999999999999999,0.9999999999999999,0.9999999999999999],[0.9999999993956912,0.9999999994133619,0.999999999463334,0.9999999995373415,0.9999999996241284,0.999999999712233,0.999999999792382,0.9999999998588399,0.9999999999095557,0.9999999999453899,0.9999999999689266,0.999999999983338,0.9999999999915805,0.9999999999959907,0.9999999999982008,0.999999999999239,0.9999999999996967,0.999999999999886,0.9999999999999596,0.9999999999999865,0.9999999999999957,0.9999999999999987,0.9999999999999996,0.9999999999999998,0.9999999999999999,0.9999999999999999,0.9999999999999999,0.9999999999999999,0.9999999999999999,0.9999999999999999]]}],                        {\"autosize\":true,\"height\":600,\"scene\":{\"xaxis\":{\"title\":{\"text\":\"space\"}},\"yaxis\":{\"title\":{\"text\":\"time\"}},\"zaxis\":{\"title\":{\"text\":\"semivariance\"}}},\"template\":{\"data\":{\"bar\":[{\"error_x\":{\"color\":\"#f2f5fa\"},\"error_y\":{\"color\":\"#f2f5fa\"},\"marker\":{\"line\":{\"color\":\"rgb(17,17,17)\",\"width\":0.5},\"pattern\":{\"fillmode\":\"overlay\",\"size\":10,\"solidity\":0.2}},\"type\":\"bar\"}],\"barpolar\":[{\"marker\":{\"line\":{\"color\":\"rgb(17,17,17)\",\"width\":0.5},\"pattern\":{\"fillmode\":\"overlay\",\"size\":10,\"solidity\":0.2}},\"type\":\"barpolar\"}],\"carpet\":[{\"aaxis\":{\"endlinecolor\":\"#A2B1C6\",\"gridcolor\":\"#506784\",\"linecolor\":\"#506784\",\"minorgridcolor\":\"#506784\",\"startlinecolor\":\"#A2B1C6\"},\"baxis\":{\"endlinecolor\":\"#A2B1C6\",\"gridcolor\":\"#506784\",\"linecolor\":\"#506784\",\"minorgridcolor\":\"#506784\",\"startlinecolor\":\"#A2B1C6\"},\"type\":\"carpet\"}],\"choropleth\":[{\"colorbar\":{\"outlinewidth\":0,\"ticks\":\"\"},\"type\":\"choropleth\"}],\"contour\":[{\"colorbar\":{\"outlinewidth\":0,\"ticks\":\"\"},\"colorscale\":[[0.0,\"#0d0887\"],[0.1111111111111111,\"#46039f\"],[0.2222222222222222,\"#7201a8\"],[0.3333333333333333,\"#9c179e\"],[0.4444444444444444,\"#bd3786\"],[0.5555555555555556,\"#d8576b\"],[0.6666666666666666,\"#ed7953\"],[0.7777777777777778,\"#fb9f3a\"],[0.8888888888888888,\"#fdca26\"],[1.0,\"#f0f921\"]],\"type\":\"contour\"}],\"contourcarpet\":[{\"colorbar\":{\"outlinewidth\":0,\"ticks\":\"\"},\"type\":\"contourcarpet\"}],\"heatmap\":[{\"colorbar\":{\"outlinewidth\":0,\"ticks\":\"\"},\"colorscale\":[[0.0,\"#0d0887\"],[0.1111111111111111,\"#46039f\"],[0.2222222222222222,\"#7201a8\"],[0.3333333333333333,\"#9c179e\"],[0.4444444444444444,\"#bd3786\"],[0.5555555555555556,\"#d8576b\"],[0.6666666666666666,\"#ed7953\"],[0.7777777777777778,\"#fb9f3a\"],[0.8888888888888888,\"#fdca26\"],[1.0,\"#f0f921\"]],\"type\":\"heatmap\"}],\"heatmapgl\":[{\"colorbar\":{\"outlinewidth\":0,\"ticks\":\"\"},\"colorscale\":[[0.0,\"#0d0887\"],[0.1111111111111111,\"#46039f\"],[0.2222222222222222,\"#7201a8\"],[0.3333333333333333,\"#9c179e\"],[0.4444444444444444,\"#bd3786\"],[0.5555555555555556,\"#d8576b\"],[0.6666666666666666,\"#ed7953\"],[0.7777777777777778,\"#fb9f3a\"],[0.8888888888888888,\"#fdca26\"],[1.0,\"#f0f921\"]],\"type\":\"heatmapgl\"}],\"histogram\":[{\"marker\":{\"pattern\":{\"fillmode\":\"overlay\",\"size\":10,\"solidity\":0.2}},\"type\":\"histogram\"}],\"histogram2d\":[{\"colorbar\":{\"outlinewidth\":0,\"ticks\":\"\"},\"colorscale\":[[0.0,\"#0d0887\"],[0.1111111111111111,\"#46039f\"],[0.2222222222222222,\"#7201a8\"],[0.3333333333333333,\"#9c179e\"],[0.4444444444444444,\"#bd3786\"],[0.5555555555555556,\"#d8576b\"],[0.6666666666666666,\"#ed7953\"],[0.7777777777777778,\"#fb9f3a\"],[0.8888888888888888,\"#fdca26\"],[1.0,\"#f0f921\"]],\"type\":\"histogram2d\"}],\"histogram2dcontour\":[{\"colorbar\":{\"outlinewidth\":0,\"ticks\":\"\"},\"colorscale\":[[0.0,\"#0d0887\"],[0.1111111111111111,\"#46039f\"],[0.2222222222222222,\"#7201a8\"],[0.3333333333333333,\"#9c179e\"],[0.4444444444444444,\"#bd3786\"],[0.5555555555555556,\"#d8576b\"],[0.6666666666666666,\"#ed7953\"],[0.7777777777777778,\"#fb9f3a\"],[0.8888888888888888,\"#fdca26\"],[1.0,\"#f0f921\"]],\"type\":\"histogram2dcontour\"}],\"mesh3d\":[{\"colorbar\":{\"outlinewidth\":0,\"ticks\":\"\"},\"type\":\"mesh3d\"}],\"parcoords\":[{\"line\":{\"colorbar\":{\"outlinewidth\":0,\"ticks\":\"\"}},\"type\":\"parcoords\"}],\"pie\":[{\"automargin\":true,\"type\":\"pie\"}],\"scatter\":[{\"marker\":{\"line\":{\"color\":\"#283442\"}},\"type\":\"scatter\"}],\"scatter3d\":[{\"line\":{\"colorbar\":{\"outlinewidth\":0,\"ticks\":\"\"}},\"marker\":{\"colorbar\":{\"outlinewidth\":0,\"ticks\":\"\"}},\"type\":\"scatter3d\"}],\"scattercarpet\":[{\"marker\":{\"colorbar\":{\"outlinewidth\":0,\"ticks\":\"\"}},\"type\":\"scattercarpet\"}],\"scattergeo\":[{\"marker\":{\"colorbar\":{\"outlinewidth\":0,\"ticks\":\"\"}},\"type\":\"scattergeo\"}],\"scattergl\":[{\"marker\":{\"line\":{\"color\":\"#283442\"}},\"type\":\"scattergl\"}],\"scattermapbox\":[{\"marker\":{\"colorbar\":{\"outlinewidth\":0,\"ticks\":\"\"}},\"type\":\"scattermapbox\"}],\"scatterpolar\":[{\"marker\":{\"colorbar\":{\"outlinewidth\":0,\"ticks\":\"\"}},\"type\":\"scatterpolar\"}],\"scatterpolargl\":[{\"marker\":{\"colorbar\":{\"outlinewidth\":0,\"ticks\":\"\"}},\"type\":\"scatterpolargl\"}],\"scatterternary\":[{\"marker\":{\"colorbar\":{\"outlinewidth\":0,\"ticks\":\"\"}},\"type\":\"scatterternary\"}],\"surface\":[{\"colorbar\":{\"outlinewidth\":0,\"ticks\":\"\"},\"colorscale\":[[0.0,\"#0d0887\"],[0.1111111111111111,\"#46039f\"],[0.2222222222222222,\"#7201a8\"],[0.3333333333333333,\"#9c179e\"],[0.4444444444444444,\"#bd3786\"],[0.5555555555555556,\"#d8576b\"],[0.6666666666666666,\"#ed7953\"],[0.7777777777777778,\"#fb9f3a\"],[0.8888888888888888,\"#fdca26\"],[1.0,\"#f0f921\"]],\"type\":\"surface\"}],\"table\":[{\"cells\":{\"fill\":{\"color\":\"#506784\"},\"line\":{\"color\":\"rgb(17,17,17)\"}},\"header\":{\"fill\":{\"color\":\"#2a3f5f\"},\"line\":{\"color\":\"rgb(17,17,17)\"}},\"type\":\"table\"}]},\"layout\":{\"annotationdefaults\":{\"arrowcolor\":\"#f2f5fa\",\"arrowhead\":0,\"arrowwidth\":1},\"autotypenumbers\":\"strict\",\"coloraxis\":{\"colorbar\":{\"outlinewidth\":0,\"ticks\":\"\"}},\"colorscale\":{\"diverging\":[[0,\"#8e0152\"],[0.1,\"#c51b7d\"],[0.2,\"#de77ae\"],[0.3,\"#f1b6da\"],[0.4,\"#fde0ef\"],[0.5,\"#f7f7f7\"],[0.6,\"#e6f5d0\"],[0.7,\"#b8e186\"],[0.8,\"#7fbc41\"],[0.9,\"#4d9221\"],[1,\"#276419\"]],\"sequential\":[[0.0,\"#0d0887\"],[0.1111111111111111,\"#46039f\"],[0.2222222222222222,\"#7201a8\"],[0.3333333333333333,\"#9c179e\"],[0.4444444444444444,\"#bd3786\"],[0.5555555555555556,\"#d8576b\"],[0.6666666666666666,\"#ed7953\"],[0.7777777777777778,\"#fb9f3a\"],[0.8888888888888888,\"#fdca26\"],[1.0,\"#f0f921\"]],\"sequentialminus\":[[0.0,\"#0d0887\"],[0.1111111111111111,\"#46039f\"],[0.2222222222222222,\"#7201a8\"],[0.3333333333333333,\"#9c179e\"],[0.4444444444444444,\"#bd3786\"],[0.5555555555555556,\"#d8576b\"],[0.6666666666666666,\"#ed7953\"],[0.7777777777777778,\"#fb9f3a\"],[0.8888888888888888,\"#fdca26\"],[1.0,\"#f0f921\"]]},\"colorway\":[\"#636efa\",\"#EF553B\",\"#00cc96\",\"#ab63fa\",\"#FFA15A\",\"#19d3f3\",\"#FF6692\",\"#B6E880\",\"#FF97FF\",\"#FECB52\"],\"font\":{\"color\":\"#f2f5fa\"},\"geo\":{\"bgcolor\":\"rgb(17,17,17)\",\"lakecolor\":\"rgb(17,17,17)\",\"landcolor\":\"rgb(17,17,17)\",\"showlakes\":true,\"showland\":true,\"subunitcolor\":\"#506784\"},\"hoverlabel\":{\"align\":\"left\"},\"hovermode\":\"closest\",\"mapbox\":{\"style\":\"dark\"},\"paper_bgcolor\":\"rgb(17,17,17)\",\"plot_bgcolor\":\"rgb(17,17,17)\",\"polar\":{\"angularaxis\":{\"gridcolor\":\"#506784\",\"linecolor\":\"#506784\",\"ticks\":\"\"},\"bgcolor\":\"rgb(17,17,17)\",\"radialaxis\":{\"gridcolor\":\"#506784\",\"linecolor\":\"#506784\",\"ticks\":\"\"}},\"scene\":{\"xaxis\":{\"backgroundcolor\":\"rgb(17,17,17)\",\"gridcolor\":\"#506784\",\"gridwidth\":2,\"linecolor\":\"#506784\",\"showbackground\":true,\"ticks\":\"\",\"zerolinecolor\":\"#C8D4E3\"},\"yaxis\":{\"backgroundcolor\":\"rgb(17,17,17)\",\"gridcolor\":\"#506784\",\"gridwidth\":2,\"linecolor\":\"#506784\",\"showbackground\":true,\"ticks\":\"\",\"zerolinecolor\":\"#C8D4E3\"},\"zaxis\":{\"backgroundcolor\":\"rgb(17,17,17)\",\"gridcolor\":\"#506784\",\"gridwidth\":2,\"linecolor\":\"#506784\",\"showbackground\":true,\"ticks\":\"\",\"zerolinecolor\":\"#C8D4E3\"}},\"shapedefaults\":{\"line\":{\"color\":\"#f2f5fa\"}},\"sliderdefaults\":{\"bgcolor\":\"#C8D4E3\",\"bordercolor\":\"rgb(17,17,17)\",\"borderwidth\":1,\"tickwidth\":0},\"ternary\":{\"aaxis\":{\"gridcolor\":\"#506784\",\"linecolor\":\"#506784\",\"ticks\":\"\"},\"baxis\":{\"gridcolor\":\"#506784\",\"linecolor\":\"#506784\",\"ticks\":\"\"},\"bgcolor\":\"rgb(17,17,17)\",\"caxis\":{\"gridcolor\":\"#506784\",\"linecolor\":\"#506784\",\"ticks\":\"\"}},\"title\":{\"x\":0.05},\"updatemenudefaults\":{\"bgcolor\":\"#506784\",\"borderwidth\":0},\"xaxis\":{\"automargin\":true,\"gridcolor\":\"#283442\",\"linecolor\":\"#506784\",\"ticks\":\"\",\"title\":{\"standoff\":15},\"zerolinecolor\":\"#283442\",\"zerolinewidth\":2},\"yaxis\":{\"automargin\":true,\"gridcolor\":\"#283442\",\"linecolor\":\"#506784\",\"ticks\":\"\",\"title\":{\"standoff\":15},\"zerolinecolor\":\"#283442\",\"zerolinewidth\":2}}},\"title\":{\"text\":\"2D Variogram\"},\"width\":700},                        {\"responsive\": true}                    ).then(function(){\n                            \nvar gd = document.getElementById('4e1a5aa7-4567-46cd-ac97-ff5020f51e68');\nvar x = new MutationObserver(function (mutations, observer) {{\n        var display = window.getComputedStyle(gd).display;\n        if (!display || display === 'none') {{\n            console.log([gd, 'removed!']);\n            Plotly.purge(gd);\n            observer.disconnect();\n        }}\n}});\n\n// Listen for the removal of the full notebook cells\nvar notebookContainer = gd.closest('#notebook-container');\nif (notebookContainer) {{\n    x.observe(notebookContainer, {childList: true});\n}}\n\n// Listen for the clearing of the current output cell\nvar outputEl = gd.closest('.output');\nif (outputEl) {{\n    x.observe(outputEl, {childList: true});\n}}\n\n                        })                };                });            </script>        </div>"
     },
     "metadata": {},
     "output_type": "display_data"
    }
   ],
   "source": [
    "import plotly.graph_objects as go\n",
    "from ocean_navigation_simulator.generative_error_model.variogram.VariogramFitting import gaussian_2d\n",
    "import numpy as np\n",
    "import itertools\n",
    "\n",
    "params = fitted_v.popt\n",
    "space = np.array(np.arange(0, 300, 10))\n",
    "time = np.array(np.arange(0, 300, 10))\n",
    "axes = np.array(list(itertools.product(space, repeat=2)))\n",
    "print(axes.shape)\n",
    "\n",
    "query = axes\n",
    "output = np.zeros(query.shape[0])\n",
    "for component_model in range(params.shape[0]):\n",
    "    output += gaussian_2d(query, *params[component_model])\n",
    "output = output.reshape((space.shape[0], -1))\n",
    "\n",
    "fig = go.Figure(data=[go.Surface(z=output, x=space, y=time)])\n",
    "fig.update_layout(title=\"2D Variogram\",\n",
    "                  autosize=True,\n",
    "                  width=700,\n",
    "                  height=600,\n",
    "                  scene = dict(xaxis_title=\"space\",\n",
    "                               yaxis_title=\"time\",\n",
    "                               zaxis_title=\"semivariance\")\n",
    "                  )\n",
    "fig.show()"
   ],
   "metadata": {
    "collapsed": false,
    "pycharm": {
     "name": "#%%\n"
    }
   }
  }
 ],
 "metadata": {
  "kernelspec": {
   "display_name": "Python 3.9.12 ('ocean_platform')",
   "language": "python",
   "name": "python3"
  },
  "language_info": {
   "codemirror_mode": {
    "name": "ipython",
    "version": 3
   },
   "file_extension": ".py",
   "mimetype": "text/x-python",
   "name": "python",
   "nbconvert_exporter": "python",
   "pygments_lexer": "ipython3",
   "version": "3.9.12"
  },
  "orig_nbformat": 4,
  "vscode": {
   "interpreter": {
    "hash": "d83de9d5874833264b5cc46432d8a547b693e28afb02b07654499b474cc23857"
   }
  }
 },
 "nbformat": 4,
 "nbformat_minor": 2
}