{
 "cells": [
  {
   "cell_type": "code",
   "execution_count": 69,
   "metadata": {
    "collapsed": true,
    "pycharm": {
     "name": "#%%\n"
    }
   },
   "outputs": [
    {
     "name": "stdout",
     "output_type": "stream",
     "text": [
      "Warning: This function does not plot any figure! To plot the rank           histogram, first import matplotlib (\"import matplotlib.pyplot as plt\")         and then \"plt.bar(bins[1:len(bins)],rel_freq)\"\n",
      "Warning: This function does not plot any figure! To plot the rank           histogram, first import matplotlib (\"import matplotlib.pyplot as plt\")         and then \"plt.bar(bins[1:len(bins)],rel_freq)\"\n"
     ]
    },
    {
     "data": {
      "text/plain": "<Figure size 1440x432 with 2 Axes>",
      "image/png": "[encoded data removed]"
     },
     "metadata": {
      "needs_background": "light"
     },
     "output_type": "display_data"
    }
   ],
   "source": [
    "from ocean_navigation_simulator.generative_error_model.models.OceanCurrentNoiseField import OceanCurrentNoiseField\n",
    "import matplotlib.pyplot as plt\n",
    "import ensverif as e\n",
    "import pandas as pd\n",
    "import numpy as np\n",
    "import datetime\n",
    "import os\n",
    "\n",
    "# load Fc errors\n",
    "data_dir = \"../../../data/drifter_data/dataset_forecast_error/area1_edited\"\n",
    "files = sorted(os.listdir(data_dir))\n",
    "df = pd.DataFrame()\n",
    "for file in files:\n",
    "    df = pd.concat([df, pd.read_csv(os.path.join(data_dir, file))], ignore_index=True)\n",
    "error = df.dropna()\n",
    "\n",
    "# get noise\n",
    "noise_config = \"../../../data/drifter_data/variogram_params/tuned_2d_forecast_variogram_area1_edited2.npy\"\n",
    "noise_source = OceanCurrentNoiseField.load_config_from_file(noise_config)\n",
    "rng = np.random.default_rng(231)\n",
    "\n",
    "# a day long error\n",
    "lon_interval = [-140, -120]\n",
    "lat_interval = [20, 30]\n",
    "time_interval = [datetime.datetime(2022, 5, 1), datetime.datetime(2022, 5, 2)]\n",
    "\n",
    "rank_histograms = []\n",
    "for current_comp in [\"u\", \"v\"]:\n",
    "    errors = error[f\"{current_comp}_error\"]\n",
    "    num_ensembles = 30\n",
    "    obs = None\n",
    "    size_day = (20*12+1)*(10*12+1)*25\n",
    "    ensemble = np.zeros((len(errors), num_ensembles))\n",
    "    for i in range(num_ensembles):\n",
    "        noise_source.reset(rng)\n",
    "        noise = noise_source.get_noise_from_ranges(lon_interval, lat_interval, time_interval)\n",
    "        ensemble[:, i] = noise[f\"water_{current_comp}\"].values.flatten()[np.random.choice(size_day, len(errors))]\n",
    "\n",
    "    rel_freq, bins = e.rankhist(ensemble, errors)\n",
    "    rank_histograms.append([rel_freq, bins])\n",
    "\n",
    "name_dict = {0: \"U\", 1: \"V\"}\n",
    "fig, axs = plt.subplots(1, 2, figsize=(20, 6))\n",
    "for i, ax in enumerate(axs):\n",
    "    bins = rank_histograms[i][1]\n",
    "    rel_freq = rank_histograms[i][0]\n",
    "    ax.bar(bins[1:len(bins)], rel_freq*100)\n",
    "    ax.set_ylabel(\"% of Samples at Rank\")\n",
    "    ax.set_xlabel(\"Rank\")\n",
    "    ax.title.set_text(f\"{name_dict[i]} Current Component\")"
   ]
  }
 ],
 "metadata": {
  "kernelspec": {
   "display_name": "Python 3",
   "language": "python",
   "name": "python3"
  },
  "language_info": {
   "codemirror_mode": {
    "name": "ipython",
    "version": 2
   },
   "file_extension": ".py",
   "mimetype": "text/x-python",
   "name": "python",
   "nbconvert_exporter": "python",
   "pygments_lexer": "ipython2",
   "version": "2.7.6"
  }
 },
 "nbformat": 4,
 "nbformat_minor": 0
}