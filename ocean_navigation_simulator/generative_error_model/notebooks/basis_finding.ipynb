{
 "cells": [
  {
   "cell_type": "code",
   "execution_count": 15,
   "outputs": [
    {
     "name": "stdout",
     "output_type": "stream",
     "text": [
      "Shape of input data: (198961, 228) [flattened space x time snapshots]\n",
      "(100, 30)\n",
      "(100, 5)\n"
     ]
    }
   ],
   "source": [
    "# proper orthogonal decomposition (POD)\n",
    "import os\n",
    "import modred as mr\n",
    "import xarray as xr\n",
    "import numpy as np\n",
    "\n",
    "data_dir = \"/home/jonas/Documents/Thesis/OceanPlatformControl/data/drifter_data/forecasts/area1\"\n",
    "data = xr.open_dataset(os.path.join(data_dir, \"cmems_mod_glo_phy_anfc_merged-uv_PT1H-i-2022-04-21T12_30_00Z-2022-04-21T12_30_00Z-2022-04-30T23_30_00Z.nc\"))\n",
    "data = data[\"utotal\"].isel(depth=0)\n",
    "data = data.values\n",
    "\n",
    "# reshape data (flattened snapshots vs time -> 2d array)\n",
    "data = data.T\n",
    "data = data.reshape(-1, data.shape[-1])\n",
    "print(f\"Shape of input data: {data.shape} [flattened space x time snapshots]\")\n",
    "\n",
    "# test with random data first\n",
    "num_vecs = 30\n",
    "data = np.random.random((100, num_vecs))\n",
    "print(data.shape)\n",
    "\n",
    "# compute POD\n",
    "num_modes = 5\n",
    "POD_res = mr.compute_POD_arrays_snaps_method(data, list(mr.range(num_modes)))\n",
    "modes = POD_res.modes\n",
    "eigvals = POD_res.eigvals\n",
    "\n",
    "print(modes.shape)"
   ],
   "metadata": {
    "collapsed": false,
    "pycharm": {
     "name": "#%%\n"
    }
   }
  }
 ],
 "metadata": {
  "kernelspec": {
   "display_name": "Python 3",
   "language": "python",
   "name": "python3"
  },
  "language_info": {
   "codemirror_mode": {
    "name": "ipython",
    "version": 2
   },
   "file_extension": ".py",
   "mimetype": "text/x-python",
   "name": "python",
   "nbconvert_exporter": "python",
   "pygments_lexer": "ipython2",
   "version": "2.7.6"
  }
 },
 "nbformat": 4,
 "nbformat_minor": 0
}