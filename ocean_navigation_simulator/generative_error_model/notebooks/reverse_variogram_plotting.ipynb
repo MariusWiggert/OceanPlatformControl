{
 "cells": [
  {
   "cell_type": "markdown",
   "source": [
    "## Sample errors from made up Variogram model -> sample points -> create Variogram"
   ],
   "metadata": {
    "collapsed": false,
    "pycharm": {
     "name": "#%% md\n"
    }
   }
  },
  {
   "cell_type": "code",
   "execution_count": 4,
   "metadata": {
    "collapsed": true,
    "pycharm": {
     "name": "#%%\n"
    }
   },
   "outputs": [
    {
     "name": "stdout",
     "output_type": "stream",
     "text": [
      "The autoreload extension is already loaded. To reload it, use:\n",
      "  %reload_ext autoreload\n"
     ]
    }
   ],
   "source": [
    "%load_ext autoreload\n",
    "%autoreload 2\n",
    "\n",
    "from ocean_navigation_simulator.generative_error_model.models.OceanCurrentNoiseField import OceanCurrentNoiseField\n",
    "from ocean_navigation_simulator.generative_error_model.Dataset import DatasetName, load_single_file\n",
    "import numpy as np\n",
    "import pandas as pd\n",
    "import datetime\n",
    "\n",
    "ranges = [1.0, 600.0, 600.0, 30.0] # -> go into simplex noise\n",
    "rng = np.random.default_rng(12345678)\n",
    "noise_field = OceanCurrentNoiseField()\n",
    "noise_field.reset(rng)\n",
    "t_delta_range = (datetime.timedelta(days=0), datetime.timedelta(days=1))\n",
    "sample = noise_field.get_noise((-140, -120), (20, 30), t_delta_range, datetime.datetime(2022, 5, 22, 18, 30))"
   ]
  },
  {
   "cell_type": "code",
   "execution_count": 5,
   "outputs": [
    {
     "data": {
      "text/plain": "<xarray.Dataset>\nDimensions:  (lon: 240, lat: 120, time: 24)\nCoordinates:\n  * lon      (lon) float64 -140.0 -139.9 -139.8 -139.7 ... -120.2 -120.2 -120.1\n  * lat      (lat) float64 20.0 20.08 20.17 20.25 ... 29.67 29.75 29.83 29.92\n  * time     (time) datetime64[ns] 2022-05-22T18:30:00 ... 2022-05-23T17:30:00\nData variables:\n    u_error  (lon, lat, time) object 0.7327729738881905 ... -0.23694379879138364\n    v_error  (lon, lat, time) object 0.07051247184211039 ... -2.0562244872583717\nAttributes:\n    description:  An ocean current error sample over time and space.",
      "text/html": "<div><svg style=\"position: absolute; width: 0; height: 0; overflow: hidden\">\n<defs>\n<symbol id=\"icon-database\" viewBox=\"0 0 32 32\">\n<path d=\"M16 0c-8.837 0-16 2.239-16 5v4c0 2.761 7.163 5 16 5s16-2.239 16-5v-4c0-2.761-7.163-5-16-5z\"></path>\n<path d=\"M16 17c-8.837 0-16-2.239-16-5v6c0 2.761 7.163 5 16 5s16-2.239 16-5v-6c0 2.761-7.163 5-16 5z\"></path>\n<path d=\"M16 26c-8.837 0-16-2.239-16-5v6c0 2.761 7.163 5 16 5s16-2.239 16-5v-6c0 2.761-7.163 5-16 5z\"></path>\n</symbol>\n<symbol id=\"icon-file-text2\" viewBox=\"0 0 32 32\">\n<path d=\"M28.681 7.159c-0.694-0.947-1.662-2.053-2.724-3.116s-2.169-2.030-3.116-2.724c-1.612-1.182-2.393-1.319-2.841-1.319h-15.5c-1.378 0-2.5 1.121-2.5 2.5v27c0 1.378 1.122 2.5 2.5 2.5h23c1.378 0 2.5-1.122 2.5-2.5v-19.5c0-0.448-0.137-1.23-1.319-2.841zM24.543 5.457c0.959 0.959 1.712 1.825 2.268 2.543h-4.811v-4.811c0.718 0.556 1.584 1.309 2.543 2.268zM28 29.5c0 0.271-0.229 0.5-0.5 0.5h-23c-0.271 0-0.5-0.229-0.5-0.5v-27c0-0.271 0.229-0.5 0.5-0.5 0 0 15.499-0 15.5 0v7c0 0.552 0.448 1 1 1h7v19.5z\"></path>\n<path d=\"M23 26h-14c-0.552 0-1-0.448-1-1s0.448-1 1-1h14c0.552 0 1 0.448 1 1s-0.448 1-1 1z\"></path>\n<path d=\"M23 22h-14c-0.552 0-1-0.448-1-1s0.448-1 1-1h14c0.552 0 1 0.448 1 1s-0.448 1-1 1z\"></path>\n<path d=\"M23 18h-14c-0.552 0-1-0.448-1-1s0.448-1 1-1h14c0.552 0 1 0.448 1 1s-0.448 1-1 1z\"></path>\n</symbol>\n</defs>\n</svg>\n<style>/* CSS stylesheet for displaying xarray objects in jupyterlab.\n *\n */\n\n:root {\n  --xr-font-color0: var(--jp-content-font-color0, rgba(0, 0, 0, 1));\n  --xr-font-color2: var(--jp-content-font-color2, rgba(0, 0, 0, 0.54));\n  --xr-font-color3: var(--jp-content-font-color3, rgba(0, 0, 0, 0.38));\n  --xr-border-color: var(--jp-border-color2, #e0e0e0);\n  --xr-disabled-color: var(--jp-layout-color3, #bdbdbd);\n  --xr-background-color: var(--jp-layout-color0, white);\n  --xr-background-color-row-even: var(--jp-layout-color1, white);\n  --xr-background-color-row-odd: var(--jp-layout-color2, #eeeeee);\n}\n\nhtml[theme=dark],\nbody.vscode-dark {\n  --xr-font-color0: rgba(255, 255, 255, 1);\n  --xr-font-color2: rgba(255, 255, 255, 0.54);\n  --xr-font-color3: rgba(255, 255, 255, 0.38);\n  --xr-border-color: #1F1F1F;\n  --xr-disabled-color: #515151;\n  --xr-background-color: #111111;\n  --xr-background-color-row-even: #111111;\n  --xr-background-color-row-odd: #313131;\n}\n\n.xr-wrap {\n  display: block !important;\n  min-width: 300px;\n  max-width: 700px;\n}\n\n.xr-text-repr-fallback {\n  /* fallback to plain text repr when CSS is not injected (untrusted notebook) */\n  display: none;\n}\n\n.xr-header {\n  padding-top: 6px;\n  padding-bottom: 6px;\n  margin-bottom: 4px;\n  border-bottom: solid 1px var(--xr-border-color);\n}\n\n.xr-header > div,\n.xr-header > ul {\n  display: inline;\n  margin-top: 0;\n  margin-bottom: 0;\n}\n\n.xr-obj-type,\n.xr-array-name {\n  margin-left: 2px;\n  margin-right: 10px;\n}\n\n.xr-obj-type {\n  color: var(--xr-font-color2);\n}\n\n.xr-sections {\n  padding-left: 0 !important;\n  display: grid;\n  grid-template-columns: 150px auto auto 1fr 20px 20px;\n}\n\n.xr-section-item {\n  display: contents;\n}\n\n.xr-section-item input {\n  display: none;\n}\n\n.xr-section-item input + label {\n  color: var(--xr-disabled-color);\n}\n\n.xr-section-item input:enabled + label {\n  cursor: pointer;\n  color: var(--xr-font-color2);\n}\n\n.xr-section-item input:enabled + label:hover {\n  color: var(--xr-font-color0);\n}\n\n.xr-section-summary {\n  grid-column: 1;\n  color: var(--xr-font-color2);\n  font-weight: 500;\n}\n\n.xr-section-summary > span {\n  display: inline-block;\n  padding-left: 0.5em;\n}\n\n.xr-section-summary-in:disabled + label {\n  color: var(--xr-font-color2);\n}\n\n.xr-section-summary-in + label:before {\n  display: inline-block;\n  content: '►';\n  font-size: 11px;\n  width: 15px;\n  text-align: center;\n}\n\n.xr-section-summary-in:disabled + label:before {\n  color: var(--xr-disabled-color);\n}\n\n.xr-section-summary-in:checked + label:before {\n  content: '▼';\n}\n\n.xr-section-summary-in:checked + label > span {\n  display: none;\n}\n\n.xr-section-summary,\n.xr-section-inline-details {\n  padding-top: 4px;\n  padding-bottom: 4px;\n}\n\n.xr-section-inline-details {\n  grid-column: 2 / -1;\n}\n\n.xr-section-details {\n  display: none;\n  grid-column: 1 / -1;\n  margin-bottom: 5px;\n}\n\n.xr-section-summary-in:checked ~ .xr-section-details {\n  display: contents;\n}\n\n.xr-array-wrap {\n  grid-column: 1 / -1;\n  display: grid;\n  grid-template-columns: 20px auto;\n}\n\n.xr-array-wrap > label {\n  grid-column: 1;\n  vertical-align: top;\n}\n\n.xr-preview {\n  color: var(--xr-font-color3);\n}\n\n.xr-array-preview,\n.xr-array-data {\n  padding: 0 5px !important;\n  grid-column: 2;\n}\n\n.xr-array-data,\n.xr-array-in:checked ~ .xr-array-preview {\n  display: none;\n}\n\n.xr-array-in:checked ~ .xr-array-data,\n.xr-array-preview {\n  display: inline-block;\n}\n\n.xr-dim-list {\n  display: inline-block !important;\n  list-style: none;\n  padding: 0 !important;\n  margin: 0;\n}\n\n.xr-dim-list li {\n  display: inline-block;\n  padding: 0;\n  margin: 0;\n}\n\n.xr-dim-list:before {\n  content: '(';\n}\n\n.xr-dim-list:after {\n  content: ')';\n}\n\n.xr-dim-list li:not(:last-child):after {\n  content: ',';\n  padding-right: 5px;\n}\n\n.xr-has-index {\n  font-weight: bold;\n}\n\n.xr-var-list,\n.xr-var-item {\n  display: contents;\n}\n\n.xr-var-item > div,\n.xr-var-item label,\n.xr-var-item > .xr-var-name span {\n  background-color: var(--xr-background-color-row-even);\n  margin-bottom: 0;\n}\n\n.xr-var-item > .xr-var-name:hover span {\n  padding-right: 5px;\n}\n\n.xr-var-list > li:nth-child(odd) > div,\n.xr-var-list > li:nth-child(odd) > label,\n.xr-var-list > li:nth-child(odd) > .xr-var-name span {\n  background-color: var(--xr-background-color-row-odd);\n}\n\n.xr-var-name {\n  grid-column: 1;\n}\n\n.xr-var-dims {\n  grid-column: 2;\n}\n\n.xr-var-dtype {\n  grid-column: 3;\n  text-align: right;\n  color: var(--xr-font-color2);\n}\n\n.xr-var-preview {\n  grid-column: 4;\n}\n\n.xr-var-name,\n.xr-var-dims,\n.xr-var-dtype,\n.xr-preview,\n.xr-attrs dt {\n  white-space: nowrap;\n  overflow: hidden;\n  text-overflow: ellipsis;\n  padding-right: 10px;\n}\n\n.xr-var-name:hover,\n.xr-var-dims:hover,\n.xr-var-dtype:hover,\n.xr-attrs dt:hover {\n  overflow: visible;\n  width: auto;\n  z-index: 1;\n}\n\n.xr-var-attrs,\n.xr-var-data {\n  display: none;\n  background-color: var(--xr-background-color) !important;\n  padding-bottom: 5px !important;\n}\n\n.xr-var-attrs-in:checked ~ .xr-var-attrs,\n.xr-var-data-in:checked ~ .xr-var-data {\n  display: block;\n}\n\n.xr-var-data > table {\n  float: right;\n}\n\n.xr-var-name span,\n.xr-var-data,\n.xr-attrs {\n  padding-left: 25px !important;\n}\n\n.xr-attrs,\n.xr-var-attrs,\n.xr-var-data {\n  grid-column: 1 / -1;\n}\n\ndl.xr-attrs {\n  padding: 0;\n  margin: 0;\n  display: grid;\n  grid-template-columns: 125px auto;\n}\n\n.xr-attrs dt,\n.xr-attrs dd {\n  padding: 0;\n  margin: 0;\n  float: left;\n  padding-right: 10px;\n  width: auto;\n}\n\n.xr-attrs dt {\n  font-weight: normal;\n  grid-column: 1;\n}\n\n.xr-attrs dt:hover span {\n  display: inline-block;\n  background: var(--xr-background-color);\n  padding-right: 10px;\n}\n\n.xr-attrs dd {\n  grid-column: 2;\n  white-space: pre-wrap;\n  word-break: break-all;\n}\n\n.xr-icon-database,\n.xr-icon-file-text2 {\n  display: inline-block;\n  vertical-align: middle;\n  width: 1em;\n  height: 1.5em !important;\n  stroke-width: 0;\n  stroke: currentColor;\n  fill: currentColor;\n}\n</style><pre class='xr-text-repr-fallback'>&lt;xarray.Dataset&gt;\nDimensions:  (lon: 240, lat: 120, time: 24)\nCoordinates:\n  * lon      (lon) float64 -140.0 -139.9 -139.8 -139.7 ... -120.2 -120.2 -120.1\n  * lat      (lat) float64 20.0 20.08 20.17 20.25 ... 29.67 29.75 29.83 29.92\n  * time     (time) datetime64[ns] 2022-05-22T18:30:00 ... 2022-05-23T17:30:00\nData variables:\n    u_error  (lon, lat, time) object 0.7327729738881905 ... -0.23694379879138364\n    v_error  (lon, lat, time) object 0.07051247184211039 ... -2.0562244872583717\nAttributes:\n    description:  An ocean current error sample over time and space.</pre><div class='xr-wrap' style='display:none'><div class='xr-header'><div class='xr-obj-type'>xarray.Dataset</div></div><ul class='xr-sections'><li class='xr-section-item'><input id='section-bf5cfa53-f093-45b4-80b3-5ff8b8acd3ef' class='xr-section-summary-in' type='checkbox' disabled ><label for='section-bf5cfa53-f093-45b4-80b3-5ff8b8acd3ef' class='xr-section-summary'  title='Expand/collapse section'>Dimensions:</label><div class='xr-section-inline-details'><ul class='xr-dim-list'><li><span class='xr-has-index'>lon</span>: 240</li><li><span class='xr-has-index'>lat</span>: 120</li><li><span class='xr-has-index'>time</span>: 24</li></ul></div><div class='xr-section-details'></div></li><li class='xr-section-item'><input id='section-3fef2487-a6c9-4703-99a7-68d6ef0cd9b3' class='xr-section-summary-in' type='checkbox'  checked><label for='section-3fef2487-a6c9-4703-99a7-68d6ef0cd9b3' class='xr-section-summary' >Coordinates: <span>(3)</span></label><div class='xr-section-inline-details'></div><div class='xr-section-details'><ul class='xr-var-list'><li class='xr-var-item'><div class='xr-var-name'><span class='xr-has-index'>lon</span></div><div class='xr-var-dims'>(lon)</div><div class='xr-var-dtype'>float64</div><div class='xr-var-preview xr-preview'>-140.0 -139.9 ... -120.2 -120.1</div><input id='attrs-42e901ab-7c08-4e32-b11c-dc0a9674f8ee' class='xr-var-attrs-in' type='checkbox' disabled><label for='attrs-42e901ab-7c08-4e32-b11c-dc0a9674f8ee' title='Show/Hide attributes'><svg class='icon xr-icon-file-text2'><use xlink:href='#icon-file-text2'></use></svg></label><input id='data-243162d6-89c5-4d60-a545-a0b5bf4c4d7b' class='xr-var-data-in' type='checkbox'><label for='data-243162d6-89c5-4d60-a545-a0b5bf4c4d7b' title='Show/Hide data repr'><svg class='icon xr-icon-database'><use xlink:href='#icon-database'></use></svg></label><div class='xr-var-attrs'><dl class='xr-attrs'></dl></div><div class='xr-var-data'><pre>array([-140.      , -139.916667, -139.833333, ..., -120.25    , -120.166667,\n       -120.083333])</pre></div></li><li class='xr-var-item'><div class='xr-var-name'><span class='xr-has-index'>lat</span></div><div class='xr-var-dims'>(lat)</div><div class='xr-var-dtype'>float64</div><div class='xr-var-preview xr-preview'>20.0 20.08 20.17 ... 29.83 29.92</div><input id='attrs-18104b35-20e5-4dca-bd8e-82a0a4ecc1d5' class='xr-var-attrs-in' type='checkbox' disabled><label for='attrs-18104b35-20e5-4dca-bd8e-82a0a4ecc1d5' title='Show/Hide attributes'><svg class='icon xr-icon-file-text2'><use xlink:href='#icon-file-text2'></use></svg></label><input id='data-dbff3e03-1319-48d4-a3e1-e6203c2bac4a' class='xr-var-data-in' type='checkbox'><label for='data-dbff3e03-1319-48d4-a3e1-e6203c2bac4a' title='Show/Hide data repr'><svg class='icon xr-icon-database'><use xlink:href='#icon-database'></use></svg></label><div class='xr-var-attrs'><dl class='xr-attrs'></dl></div><div class='xr-var-data'><pre>array([20.      , 20.083333, 20.166667, 20.25    , 20.333333, 20.416667,\n       20.5     , 20.583333, 20.666667, 20.75    , 20.833333, 20.916667,\n       21.      , 21.083333, 21.166667, 21.25    , 21.333333, 21.416667,\n       21.5     , 21.583333, 21.666667, 21.75    , 21.833333, 21.916667,\n       22.      , 22.083333, 22.166667, 22.25    , 22.333333, 22.416667,\n       22.5     , 22.583333, 22.666667, 22.75    , 22.833333, 22.916667,\n       23.      , 23.083333, 23.166667, 23.25    , 23.333333, 23.416667,\n       23.5     , 23.583333, 23.666667, 23.75    , 23.833333, 23.916667,\n       24.      , 24.083333, 24.166667, 24.25    , 24.333333, 24.416667,\n       24.5     , 24.583333, 24.666667, 24.75    , 24.833333, 24.916667,\n       25.      , 25.083333, 25.166667, 25.25    , 25.333333, 25.416667,\n       25.5     , 25.583333, 25.666667, 25.75    , 25.833333, 25.916667,\n       26.      , 26.083333, 26.166667, 26.25    , 26.333333, 26.416667,\n       26.5     , 26.583333, 26.666667, 26.75    , 26.833333, 26.916667,\n       27.      , 27.083333, 27.166667, 27.25    , 27.333333, 27.416667,\n       27.5     , 27.583333, 27.666667, 27.75    , 27.833333, 27.916667,\n       28.      , 28.083333, 28.166667, 28.25    , 28.333333, 28.416667,\n       28.5     , 28.583333, 28.666667, 28.75    , 28.833333, 28.916667,\n       29.      , 29.083333, 29.166667, 29.25    , 29.333333, 29.416667,\n       29.5     , 29.583333, 29.666667, 29.75    , 29.833333, 29.916667])</pre></div></li><li class='xr-var-item'><div class='xr-var-name'><span class='xr-has-index'>time</span></div><div class='xr-var-dims'>(time)</div><div class='xr-var-dtype'>datetime64[ns]</div><div class='xr-var-preview xr-preview'>2022-05-22T18:30:00 ... 2022-05-...</div><input id='attrs-866a8fb0-eb52-43ee-b725-a19117aee1df' class='xr-var-attrs-in' type='checkbox' disabled><label for='attrs-866a8fb0-eb52-43ee-b725-a19117aee1df' title='Show/Hide attributes'><svg class='icon xr-icon-file-text2'><use xlink:href='#icon-file-text2'></use></svg></label><input id='data-c92c4843-5a35-4591-bda0-744176337223' class='xr-var-data-in' type='checkbox'><label for='data-c92c4843-5a35-4591-bda0-744176337223' title='Show/Hide data repr'><svg class='icon xr-icon-database'><use xlink:href='#icon-database'></use></svg></label><div class='xr-var-attrs'><dl class='xr-attrs'></dl></div><div class='xr-var-data'><pre>array([&#x27;2022-05-22T18:30:00.000000000&#x27;, &#x27;2022-05-22T19:30:00.000000000&#x27;,\n       &#x27;2022-05-22T20:30:00.000000000&#x27;, &#x27;2022-05-22T21:30:00.000000000&#x27;,\n       &#x27;2022-05-22T22:30:00.000000000&#x27;, &#x27;2022-05-22T23:30:00.000000000&#x27;,\n       &#x27;2022-05-23T00:30:00.000000000&#x27;, &#x27;2022-05-23T01:30:00.000000000&#x27;,\n       &#x27;2022-05-23T02:30:00.000000000&#x27;, &#x27;2022-05-23T03:30:00.000000000&#x27;,\n       &#x27;2022-05-23T04:30:00.000000000&#x27;, &#x27;2022-05-23T05:30:00.000000000&#x27;,\n       &#x27;2022-05-23T06:30:00.000000000&#x27;, &#x27;2022-05-23T07:30:00.000000000&#x27;,\n       &#x27;2022-05-23T08:30:00.000000000&#x27;, &#x27;2022-05-23T09:30:00.000000000&#x27;,\n       &#x27;2022-05-23T10:30:00.000000000&#x27;, &#x27;2022-05-23T11:30:00.000000000&#x27;,\n       &#x27;2022-05-23T12:30:00.000000000&#x27;, &#x27;2022-05-23T13:30:00.000000000&#x27;,\n       &#x27;2022-05-23T14:30:00.000000000&#x27;, &#x27;2022-05-23T15:30:00.000000000&#x27;,\n       &#x27;2022-05-23T16:30:00.000000000&#x27;, &#x27;2022-05-23T17:30:00.000000000&#x27;],\n      dtype=&#x27;datetime64[ns]&#x27;)</pre></div></li></ul></div></li><li class='xr-section-item'><input id='section-a9f6219f-e85a-4a19-9ae6-2e63309d35fd' class='xr-section-summary-in' type='checkbox'  checked><label for='section-a9f6219f-e85a-4a19-9ae6-2e63309d35fd' class='xr-section-summary' >Data variables: <span>(2)</span></label><div class='xr-section-inline-details'></div><div class='xr-section-details'><ul class='xr-var-list'><li class='xr-var-item'><div class='xr-var-name'><span>u_error</span></div><div class='xr-var-dims'>(lon, lat, time)</div><div class='xr-var-dtype'>object</div><div class='xr-var-preview xr-preview'>0.7327729738881905 ... -0.236943...</div><input id='attrs-9ad3cc98-f2da-47dc-88a0-09ed1e4b56bd' class='xr-var-attrs-in' type='checkbox' disabled><label for='attrs-9ad3cc98-f2da-47dc-88a0-09ed1e4b56bd' title='Show/Hide attributes'><svg class='icon xr-icon-file-text2'><use xlink:href='#icon-file-text2'></use></svg></label><input id='data-52e1f41d-8064-4b95-9f93-db8cdfddb48f' class='xr-var-data-in' type='checkbox'><label for='data-52e1f41d-8064-4b95-9f93-db8cdfddb48f' title='Show/Hide data repr'><svg class='icon xr-icon-database'><use xlink:href='#icon-database'></use></svg></label><div class='xr-var-attrs'><dl class='xr-attrs'></dl></div><div class='xr-var-data'><pre>array([[[0.7327729738881905, 0.7356181185734451, 0.7383745879242408,\n         ..., 0.773716239368545, 0.7747126375646691, 0.7756297797224602],\n        [0.7917765810119275, 0.7945599331484525, 0.7972512774266737,\n         ..., 0.8307618451274787, 0.8316320359630465,\n         0.8324200436980987],\n        [0.8510159113326954, 0.8537291054574434, 0.856346931732721, ...,\n         0.8878691245812842, 0.8886052971357954, 0.8892564299840711],\n        ...,\n        [-0.0075304999753684956, -0.009986490443118104,\n         -0.012433698503542728, ..., -0.05886248276637969,\n         -0.061457117406848, -0.06408829451093141],\n        [-0.026526826000127783, -0.02897854439616735,\n         -0.03141724396572892, ..., -0.07689689911691326,\n         -0.0794040049961384, -0.08194450795284455],\n        [-0.04413947170116737, -0.04658528414961943,\n         -0.049013853413344376, ..., -0.0935165849937095,\n         -0.09593488273761082, -0.09838345637311775]],\n\n       [[0.8366219708923176, 0.8397603019830953, 0.8428068407834793,\n         ..., 0.8830435176685898, 0.8842595047426967,\n...\n        [-0.2050806583042804, -0.20251668475532644,\n         -0.20015447928256913, ..., -0.1960398253339179,\n         -0.19803965517882224, -0.20026260824644554]],\n\n       [[1.480744834050132, 1.4824245686909567, 1.4839019646939997, ...,\n         1.4785397602837438, 1.4767731879488692, 1.4748856963444519],\n        [1.4675875202913389, 1.4693493582909556, 1.4708996470887108,\n         ..., 1.4650927677477255, 1.46320662968491, 1.4611904027034206],\n        [1.4538456327868974, 1.455711450169619, 1.4573566109840652, ...,\n         1.4515240032400427, 1.4495394685975034, 1.4474154916472057],\n        ...,\n        [-0.21734813837943634, -0.21445629275764555,\n         -0.2117666742550952, ..., -0.20182031830455952,\n         -0.20354966482494252, -0.20550734013778638],\n        [-0.2234508448266847, -0.221048618559152, -0.2188446057930892,\n         ..., -0.2170870386671445, -0.2191790777753966,\n         -0.22155502761838183],\n        [-0.2291171188027136, -0.22719847654005418,\n         -0.22547400800045128, ..., -0.23182797878844888,\n         -0.23427970394347278, -0.23694379879138364]]], dtype=object)</pre></div></li><li class='xr-var-item'><div class='xr-var-name'><span>v_error</span></div><div class='xr-var-dims'>(lon, lat, time)</div><div class='xr-var-dtype'>object</div><div class='xr-var-preview xr-preview'>0.07051247184211039 ... -2.05622...</div><input id='attrs-0d21b7df-eb21-49f9-befc-e1aed9d07a13' class='xr-var-attrs-in' type='checkbox' disabled><label for='attrs-0d21b7df-eb21-49f9-befc-e1aed9d07a13' title='Show/Hide attributes'><svg class='icon xr-icon-file-text2'><use xlink:href='#icon-file-text2'></use></svg></label><input id='data-f3928867-2438-4b46-8e2b-89f34b92edc2' class='xr-var-data-in' type='checkbox'><label for='data-f3928867-2438-4b46-8e2b-89f34b92edc2' title='Show/Hide data repr'><svg class='icon xr-icon-database'><use xlink:href='#icon-database'></use></svg></label><div class='xr-var-attrs'><dl class='xr-attrs'></dl></div><div class='xr-var-data'><pre>array([[[0.07051247184211039, 0.07056428366205152, 0.07044165923908231,\n         ..., 0.03411090312862452, 0.030372386062439923,\n         0.02644833634256649],\n        [0.08432842352254, 0.08413357995327955, 0.0837585858449851, ...,\n         0.04169022423134361, 0.037607776123511114,\n         0.033336402640230176],\n        [0.0980859569945176, 0.09764882102084936, 0.09702577379797914,\n         ..., 0.049280323608624534, 0.04485507316669601,\n         0.04023729458643123],\n        ...,\n        [1.0802957482809157, 1.0764003619225615, 1.072380673273751, ...,\n         0.977390752843904, 0.9716868133544799, 0.965940672108163],\n        [1.0602508127347101, 1.0566166686352307, 1.0528695743517975,\n         ..., 0.965119765509689, 0.9598984311114601, 0.9546441833031426],\n        [1.0403387337442491, 1.0369618075776794, 1.0334832434877403,\n         ..., 0.9528863260545383, 0.9481423918031192,\n         0.9433747679601736]],\n\n       [[0.20642424866336778, 0.20682048237546471, 0.20701214334266133,\n         ..., 0.17110376461117463, 0.16710840616671466,\n...\n        [-1.89361824523431, -1.9001345739000917, -1.9064000393401603,\n         ..., -1.978406980598628, -1.9797728359067985,\n         -1.9809032454471813]],\n\n       [[1.1221325318784887, 1.1266562081679399, 1.1312829281835382,\n         ..., 1.237235090566403, 1.2436171828207772, 1.2500598042058002],\n        [1.115750036066738, 1.1201912533131673, 1.124732614984925, ...,\n         1.2286137109485777, 1.2348687888763161, 1.2411831587633493],\n        [1.107846642469792, 1.1122010548102186, 1.1166528718470543, ...,\n         1.2184165910344789, 1.2245441202067437, 1.230729906853193],\n        ...,\n        [-1.9846827695289802, -1.9910552645973663, -1.9971684011971396,\n         ..., -2.06465580024878, -2.0656983848514114,\n         -2.0664970695096665],\n        [-1.9819689056567258, -1.9882596086918412, -1.994291248062476,\n         ..., -2.0602918175063913, -2.0612603325199568,\n         -2.0619855138496637],\n        [-1.9780983224917712, -1.9843021567288484, -1.9902473395711693,\n         ..., -2.0546847933043946, -2.0555759920238748,\n         -2.0562244872583717]]], dtype=object)</pre></div></li></ul></div></li><li class='xr-section-item'><input id='section-6bf1943a-6656-40a9-bc40-b59d1c862e0d' class='xr-section-summary-in' type='checkbox'  checked><label for='section-6bf1943a-6656-40a9-bc40-b59d1c862e0d' class='xr-section-summary' >Attributes: <span>(1)</span></label><div class='xr-section-inline-details'></div><div class='xr-section-details'><dl class='xr-attrs'><dt><span>description :</span></dt><dd>An ocean current error sample over time and space.</dd></dl></div></li></ul></div></div>"
     },
     "metadata": {},
     "output_type": "display_data"
    }
   ],
   "source": [
    "display(sample)"
   ],
   "metadata": {
    "collapsed": false,
    "pycharm": {
     "name": "#%%\n"
    }
   }
  },
  {
   "cell_type": "markdown",
   "source": [
    "Sample ~30 points per time step. But these cannot be random but have to be a trajectory"
   ],
   "metadata": {
    "collapsed": false,
    "pycharm": {
     "name": "#%% md\n"
    }
   }
  },
  {
   "cell_type": "code",
   "execution_count": 6,
   "outputs": [
    {
     "name": "stdout",
     "output_type": "stream",
     "text": [
      "Loaded: copernicus_forecast_error_lon_[-140, -120]_lat_[20.0, 30.0]_time_2022-05-22T18:30:00Z__2022-05-31T17:30:00Z.csv\n",
      "\n",
      "Buoy Meta Data:\n",
      "    Min time: 2022-05-22 19:00:00, max time: 2022-05-31 17:00:00\n",
      "    Min lon: -139.988, max lon: -121.888\n",
      "    Min lat: 20.0, max lat: 30.0\n",
      "    Number or rows: 3967.\n",
      "\n"
     ]
    },
    {
     "data": {
      "text/plain": "                     time      lon     lat      u      v     buoy  \\\n0     2022-05-22 19:00:00 -123.426  22.111  0.063 -0.014  3201843   \n1     2022-05-22 20:00:00 -123.426  22.113  0.077  0.014  3201843   \n2     2022-05-22 21:00:00 -123.425  22.115  0.077  0.014  3201843   \n3     2022-05-22 22:00:00 -123.425  22.118  0.093 -0.014  3201843   \n4     2022-05-22 23:00:00 -123.426  22.120  0.062 -0.029  3201843   \n...                   ...      ...     ...    ...    ...      ...   \n3962  2022-05-31 13:00:00 -135.923  23.049  0.022  0.070  5301550   \n3963  2022-05-31 14:00:00 -135.919  23.049  0.023  0.091  5301550   \n3964  2022-05-31 15:00:00 -135.917  23.051  0.025  0.113  5301550   \n3965  2022-05-31 16:00:00 -135.912  23.052  0.016  0.142  5301550   \n3966  2022-05-31 17:00:00 -135.908  23.051 -0.024  0.168  5301550   \n\n                    file_name  u_forecast  v_forecast   u_error   v_error  \n0     GL_TS_DC_3201843_202205   -0.106464   -0.147881 -0.169464 -0.133881  \n1     GL_TS_DC_3201843_202205   -0.111465   -0.152623 -0.188465 -0.166623  \n2     GL_TS_DC_3201843_202205   -0.117436   -0.154477 -0.194436 -0.168477  \n3     GL_TS_DC_3201843_202205   -0.123334   -0.159261 -0.216334 -0.145261  \n4     GL_TS_DC_3201843_202205   -0.130022   -0.166269 -0.192022 -0.137269  \n...                       ...         ...         ...       ...       ...  \n3962         GL_TS_DC_5301550   -0.020327   -0.088736 -0.042327 -0.158736  \n3963         GL_TS_DC_5301550   -0.016718   -0.082286 -0.039718 -0.173286  \n3964         GL_TS_DC_5301550   -0.013784   -0.073878 -0.038784 -0.186878  \n3965         GL_TS_DC_5301550   -0.016733   -0.067576 -0.032733 -0.209576  \n3966         GL_TS_DC_5301550   -0.019244   -0.064439  0.004756 -0.232439  \n\n[3967 rows x 11 columns]",
      "text/html": "<div>\n<style scoped>\n    .dataframe tbody tr th:only-of-type {\n        vertical-align: middle;\n    }\n\n    .dataframe tbody tr th {\n        vertical-align: top;\n    }\n\n    .dataframe thead th {\n        text-align: right;\n    }\n</style>\n<table border=\"1\" class=\"dataframe\">\n  <thead>\n    <tr style=\"text-align: right;\">\n      <th></th>\n      <th>time</th>\n      <th>lon</th>\n      <th>lat</th>\n      <th>u</th>\n      <th>v</th>\n      <th>buoy</th>\n      <th>file_name</th>\n      <th>u_forecast</th>\n      <th>v_forecast</th>\n      <th>u_error</th>\n      <th>v_error</th>\n    </tr>\n  </thead>\n  <tbody>\n    <tr>\n      <th>0</th>\n      <td>2022-05-22 19:00:00</td>\n      <td>-123.426</td>\n      <td>22.111</td>\n      <td>0.063</td>\n      <td>-0.014</td>\n      <td>3201843</td>\n      <td>GL_TS_DC_3201843_202205</td>\n      <td>-0.106464</td>\n      <td>-0.147881</td>\n      <td>-0.169464</td>\n      <td>-0.133881</td>\n    </tr>\n    <tr>\n      <th>1</th>\n      <td>2022-05-22 20:00:00</td>\n      <td>-123.426</td>\n      <td>22.113</td>\n      <td>0.077</td>\n      <td>0.014</td>\n      <td>3201843</td>\n      <td>GL_TS_DC_3201843_202205</td>\n      <td>-0.111465</td>\n      <td>-0.152623</td>\n      <td>-0.188465</td>\n      <td>-0.166623</td>\n    </tr>\n    <tr>\n      <th>2</th>\n      <td>2022-05-22 21:00:00</td>\n      <td>-123.425</td>\n      <td>22.115</td>\n      <td>0.077</td>\n      <td>0.014</td>\n      <td>3201843</td>\n      <td>GL_TS_DC_3201843_202205</td>\n      <td>-0.117436</td>\n      <td>-0.154477</td>\n      <td>-0.194436</td>\n      <td>-0.168477</td>\n    </tr>\n    <tr>\n      <th>3</th>\n      <td>2022-05-22 22:00:00</td>\n      <td>-123.425</td>\n      <td>22.118</td>\n      <td>0.093</td>\n      <td>-0.014</td>\n      <td>3201843</td>\n      <td>GL_TS_DC_3201843_202205</td>\n      <td>-0.123334</td>\n      <td>-0.159261</td>\n      <td>-0.216334</td>\n      <td>-0.145261</td>\n    </tr>\n    <tr>\n      <th>4</th>\n      <td>2022-05-22 23:00:00</td>\n      <td>-123.426</td>\n      <td>22.120</td>\n      <td>0.062</td>\n      <td>-0.029</td>\n      <td>3201843</td>\n      <td>GL_TS_DC_3201843_202205</td>\n      <td>-0.130022</td>\n      <td>-0.166269</td>\n      <td>-0.192022</td>\n      <td>-0.137269</td>\n    </tr>\n    <tr>\n      <th>...</th>\n      <td>...</td>\n      <td>...</td>\n      <td>...</td>\n      <td>...</td>\n      <td>...</td>\n      <td>...</td>\n      <td>...</td>\n      <td>...</td>\n      <td>...</td>\n      <td>...</td>\n      <td>...</td>\n    </tr>\n    <tr>\n      <th>3962</th>\n      <td>2022-05-31 13:00:00</td>\n      <td>-135.923</td>\n      <td>23.049</td>\n      <td>0.022</td>\n      <td>0.070</td>\n      <td>5301550</td>\n      <td>GL_TS_DC_5301550</td>\n      <td>-0.020327</td>\n      <td>-0.088736</td>\n      <td>-0.042327</td>\n      <td>-0.158736</td>\n    </tr>\n    <tr>\n      <th>3963</th>\n      <td>2022-05-31 14:00:00</td>\n      <td>-135.919</td>\n      <td>23.049</td>\n      <td>0.023</td>\n      <td>0.091</td>\n      <td>5301550</td>\n      <td>GL_TS_DC_5301550</td>\n      <td>-0.016718</td>\n      <td>-0.082286</td>\n      <td>-0.039718</td>\n      <td>-0.173286</td>\n    </tr>\n    <tr>\n      <th>3964</th>\n      <td>2022-05-31 15:00:00</td>\n      <td>-135.917</td>\n      <td>23.051</td>\n      <td>0.025</td>\n      <td>0.113</td>\n      <td>5301550</td>\n      <td>GL_TS_DC_5301550</td>\n      <td>-0.013784</td>\n      <td>-0.073878</td>\n      <td>-0.038784</td>\n      <td>-0.186878</td>\n    </tr>\n    <tr>\n      <th>3965</th>\n      <td>2022-05-31 16:00:00</td>\n      <td>-135.912</td>\n      <td>23.052</td>\n      <td>0.016</td>\n      <td>0.142</td>\n      <td>5301550</td>\n      <td>GL_TS_DC_5301550</td>\n      <td>-0.016733</td>\n      <td>-0.067576</td>\n      <td>-0.032733</td>\n      <td>-0.209576</td>\n    </tr>\n    <tr>\n      <th>3966</th>\n      <td>2022-05-31 17:00:00</td>\n      <td>-135.908</td>\n      <td>23.051</td>\n      <td>-0.024</td>\n      <td>0.168</td>\n      <td>5301550</td>\n      <td>GL_TS_DC_5301550</td>\n      <td>-0.019244</td>\n      <td>-0.064439</td>\n      <td>0.004756</td>\n      <td>-0.232439</td>\n    </tr>\n  </tbody>\n</table>\n<p>3967 rows × 11 columns</p>\n</div>"
     },
     "execution_count": 6,
     "metadata": {},
     "output_type": "execute_result"
    }
   ],
   "source": [
    "dataset_name = DatasetName.AREA1\n",
    "df = load_single_file(dataset_name)\n",
    "df"
   ],
   "metadata": {
    "collapsed": false,
    "pycharm": {
     "name": "#%%\n"
    }
   }
  },
  {
   "cell_type": "code",
   "execution_count": 7,
   "outputs": [
    {
     "name": "stderr",
     "output_type": "stream",
     "text": [
      "  0%|          | 0/397 [00:00<?, ?it/s]/home/jonas/miniconda3/envs/ocean_platform/lib/python3.9/site-packages/pandas/core/indexing.py:1732: SettingWithCopyWarning: \n",
      "A value is trying to be set on a copy of a slice from a DataFrame\n",
      "\n",
      "See the caveats in the documentation: https://pandas.pydata.org/pandas-docs/stable/user_guide/indexing.html#returning-a-view-versus-a-copy\n",
      "  self._setitem_single_block(indexer, value, name)\n",
      "100%|██████████| 397/397 [02:54<00:00,  2.27it/s]\n"
     ]
    }
   ],
   "source": [
    "# interp the generated xarray to the positions of buoy points\n",
    "from tqdm import tqdm\n",
    "\n",
    "df[\"gen_u_error\"] = 0\n",
    "df[\"gen_v_error\"] = 0\n",
    "df[\"time\"] = pd.to_datetime(df[\"time\"])\n",
    "\n",
    "n = 10\n",
    "for i in tqdm(range(0, df.shape[0], n)):\n",
    "    sample_interp = sample.interp(time=df.iloc[i:i+n][\"time\"],\n",
    "                                  lon=df.iloc[i:i+n][\"lon\"],\n",
    "                                  lat=df.iloc[i:i+n][\"lat\"])\n",
    "\n",
    "    # add columns to df\n",
    "    df[\"gen_u_error\"].iloc[i:i+n] = sample_interp[\"u_error\"].values.diagonal().diagonal()\n",
    "    df[\"gen_v_error\"].iloc[i:i+n] = sample_interp[\"v_error\"].values.diagonal().diagonal()\n"
   ],
   "metadata": {
    "collapsed": false,
    "pycharm": {
     "name": "#%%\n"
    }
   }
  },
  {
   "cell_type": "code",
   "execution_count": 8,
   "outputs": [
    {
     "data": {
      "text/plain": "                    time      lon     lat      u      v     buoy  \\\n0    2022-05-22 19:00:00 -123.426  22.111  0.063 -0.014  3201843   \n1    2022-05-22 20:00:00 -123.426  22.113  0.077  0.014  3201843   \n2    2022-05-22 21:00:00 -123.425  22.115  0.077  0.014  3201843   \n3    2022-05-22 22:00:00 -123.425  22.118  0.093 -0.014  3201843   \n4    2022-05-22 23:00:00 -123.426  22.120  0.062 -0.029  3201843   \n...                  ...      ...     ...    ...    ...      ...   \n3962 2022-05-31 13:00:00 -135.923  23.049  0.022  0.070  5301550   \n3963 2022-05-31 14:00:00 -135.919  23.049  0.023  0.091  5301550   \n3964 2022-05-31 15:00:00 -135.917  23.051  0.025  0.113  5301550   \n3965 2022-05-31 16:00:00 -135.912  23.052  0.016  0.142  5301550   \n3966 2022-05-31 17:00:00 -135.908  23.051 -0.024  0.168  5301550   \n\n                    file_name  u_forecast  v_forecast   u_error   v_error  \\\n0     GL_TS_DC_3201843_202205   -0.106464   -0.147881 -0.169464 -0.133881   \n1     GL_TS_DC_3201843_202205   -0.111465   -0.152623 -0.188465 -0.166623   \n2     GL_TS_DC_3201843_202205   -0.117436   -0.154477 -0.194436 -0.168477   \n3     GL_TS_DC_3201843_202205   -0.123334   -0.159261 -0.216334 -0.145261   \n4     GL_TS_DC_3201843_202205   -0.130022   -0.166269 -0.192022 -0.137269   \n...                       ...         ...         ...       ...       ...   \n3962         GL_TS_DC_5301550   -0.020327   -0.088736 -0.042327 -0.158736   \n3963         GL_TS_DC_5301550   -0.016718   -0.082286 -0.039718 -0.173286   \n3964         GL_TS_DC_5301550   -0.013784   -0.073878 -0.038784 -0.186878   \n3965         GL_TS_DC_5301550   -0.016733   -0.067576 -0.032733 -0.209576   \n3966         GL_TS_DC_5301550   -0.019244   -0.064439  0.004756 -0.232439   \n\n     gen_u_error gen_v_error  \n0       0.184986    1.731077  \n1       0.174388    1.733896  \n2       0.163833    1.736569  \n3       0.153334    1.739093  \n4       0.142904    1.741463  \n...          ...         ...  \n3962   -1.838946   -0.863829  \n3963   -1.838946   -0.863829  \n3964   -1.838946   -0.863829  \n3965   -1.838946   -0.863829  \n3966   -1.838946   -0.863829  \n\n[3967 rows x 13 columns]",
      "text/html": "<div>\n<style scoped>\n    .dataframe tbody tr th:only-of-type {\n        vertical-align: middle;\n    }\n\n    .dataframe tbody tr th {\n        vertical-align: top;\n    }\n\n    .dataframe thead th {\n        text-align: right;\n    }\n</style>\n<table border=\"1\" class=\"dataframe\">\n  <thead>\n    <tr style=\"text-align: right;\">\n      <th></th>\n      <th>time</th>\n      <th>lon</th>\n      <th>lat</th>\n      <th>u</th>\n      <th>v</th>\n      <th>buoy</th>\n      <th>file_name</th>\n      <th>u_forecast</th>\n      <th>v_forecast</th>\n      <th>u_error</th>\n      <th>v_error</th>\n      <th>gen_u_error</th>\n      <th>gen_v_error</th>\n    </tr>\n  </thead>\n  <tbody>\n    <tr>\n      <th>0</th>\n      <td>2022-05-22 19:00:00</td>\n      <td>-123.426</td>\n      <td>22.111</td>\n      <td>0.063</td>\n      <td>-0.014</td>\n      <td>3201843</td>\n      <td>GL_TS_DC_3201843_202205</td>\n      <td>-0.106464</td>\n      <td>-0.147881</td>\n      <td>-0.169464</td>\n      <td>-0.133881</td>\n      <td>0.184986</td>\n      <td>1.731077</td>\n    </tr>\n    <tr>\n      <th>1</th>\n      <td>2022-05-22 20:00:00</td>\n      <td>-123.426</td>\n      <td>22.113</td>\n      <td>0.077</td>\n      <td>0.014</td>\n      <td>3201843</td>\n      <td>GL_TS_DC_3201843_202205</td>\n      <td>-0.111465</td>\n      <td>-0.152623</td>\n      <td>-0.188465</td>\n      <td>-0.166623</td>\n      <td>0.174388</td>\n      <td>1.733896</td>\n    </tr>\n    <tr>\n      <th>2</th>\n      <td>2022-05-22 21:00:00</td>\n      <td>-123.425</td>\n      <td>22.115</td>\n      <td>0.077</td>\n      <td>0.014</td>\n      <td>3201843</td>\n      <td>GL_TS_DC_3201843_202205</td>\n      <td>-0.117436</td>\n      <td>-0.154477</td>\n      <td>-0.194436</td>\n      <td>-0.168477</td>\n      <td>0.163833</td>\n      <td>1.736569</td>\n    </tr>\n    <tr>\n      <th>3</th>\n      <td>2022-05-22 22:00:00</td>\n      <td>-123.425</td>\n      <td>22.118</td>\n      <td>0.093</td>\n      <td>-0.014</td>\n      <td>3201843</td>\n      <td>GL_TS_DC_3201843_202205</td>\n      <td>-0.123334</td>\n      <td>-0.159261</td>\n      <td>-0.216334</td>\n      <td>-0.145261</td>\n      <td>0.153334</td>\n      <td>1.739093</td>\n    </tr>\n    <tr>\n      <th>4</th>\n      <td>2022-05-22 23:00:00</td>\n      <td>-123.426</td>\n      <td>22.120</td>\n      <td>0.062</td>\n      <td>-0.029</td>\n      <td>3201843</td>\n      <td>GL_TS_DC_3201843_202205</td>\n      <td>-0.130022</td>\n      <td>-0.166269</td>\n      <td>-0.192022</td>\n      <td>-0.137269</td>\n      <td>0.142904</td>\n      <td>1.741463</td>\n    </tr>\n    <tr>\n      <th>...</th>\n      <td>...</td>\n      <td>...</td>\n      <td>...</td>\n      <td>...</td>\n      <td>...</td>\n      <td>...</td>\n      <td>...</td>\n      <td>...</td>\n      <td>...</td>\n      <td>...</td>\n      <td>...</td>\n      <td>...</td>\n      <td>...</td>\n    </tr>\n    <tr>\n      <th>3962</th>\n      <td>2022-05-31 13:00:00</td>\n      <td>-135.923</td>\n      <td>23.049</td>\n      <td>0.022</td>\n      <td>0.070</td>\n      <td>5301550</td>\n      <td>GL_TS_DC_5301550</td>\n      <td>-0.020327</td>\n      <td>-0.088736</td>\n      <td>-0.042327</td>\n      <td>-0.158736</td>\n      <td>-1.838946</td>\n      <td>-0.863829</td>\n    </tr>\n    <tr>\n      <th>3963</th>\n      <td>2022-05-31 14:00:00</td>\n      <td>-135.919</td>\n      <td>23.049</td>\n      <td>0.023</td>\n      <td>0.091</td>\n      <td>5301550</td>\n      <td>GL_TS_DC_5301550</td>\n      <td>-0.016718</td>\n      <td>-0.082286</td>\n      <td>-0.039718</td>\n      <td>-0.173286</td>\n      <td>-1.838946</td>\n      <td>-0.863829</td>\n    </tr>\n    <tr>\n      <th>3964</th>\n      <td>2022-05-31 15:00:00</td>\n      <td>-135.917</td>\n      <td>23.051</td>\n      <td>0.025</td>\n      <td>0.113</td>\n      <td>5301550</td>\n      <td>GL_TS_DC_5301550</td>\n      <td>-0.013784</td>\n      <td>-0.073878</td>\n      <td>-0.038784</td>\n      <td>-0.186878</td>\n      <td>-1.838946</td>\n      <td>-0.863829</td>\n    </tr>\n    <tr>\n      <th>3965</th>\n      <td>2022-05-31 16:00:00</td>\n      <td>-135.912</td>\n      <td>23.052</td>\n      <td>0.016</td>\n      <td>0.142</td>\n      <td>5301550</td>\n      <td>GL_TS_DC_5301550</td>\n      <td>-0.016733</td>\n      <td>-0.067576</td>\n      <td>-0.032733</td>\n      <td>-0.209576</td>\n      <td>-1.838946</td>\n      <td>-0.863829</td>\n    </tr>\n    <tr>\n      <th>3966</th>\n      <td>2022-05-31 17:00:00</td>\n      <td>-135.908</td>\n      <td>23.051</td>\n      <td>-0.024</td>\n      <td>0.168</td>\n      <td>5301550</td>\n      <td>GL_TS_DC_5301550</td>\n      <td>-0.019244</td>\n      <td>-0.064439</td>\n      <td>0.004756</td>\n      <td>-0.232439</td>\n      <td>-1.838946</td>\n      <td>-0.863829</td>\n    </tr>\n  </tbody>\n</table>\n<p>3967 rows × 13 columns</p>\n</div>"
     },
     "execution_count": 8,
     "metadata": {},
     "output_type": "execute_result"
    }
   ],
   "source": [
    "df"
   ],
   "metadata": {
    "collapsed": false,
    "pycharm": {
     "name": "#%%\n"
    }
   }
  },
  {
   "cell_type": "markdown",
   "source": [
    "## Change Variogram to pick columns for using different variables"
   ],
   "metadata": {
    "collapsed": false,
    "pycharm": {
     "name": "#%% md\n"
    }
   }
  },
  {
   "cell_type": "code",
   "execution_count": null,
   "outputs": [],
   "source": [],
   "metadata": {
    "collapsed": false,
    "pycharm": {
     "name": "#%%\n"
    }
   }
  }
 ],
 "metadata": {
  "kernelspec": {
   "display_name": "Python 3",
   "language": "python",
   "name": "python3"
  },
  "language_info": {
   "codemirror_mode": {
    "name": "ipython",
    "version": 2
   },
   "file_extension": ".py",
   "mimetype": "text/x-python",
   "name": "python",
   "nbconvert_exporter": "python",
   "pygments_lexer": "ipython2",
   "version": "2.7.6"
  }
 },
 "nbformat": 4,
 "nbformat_minor": 0
}