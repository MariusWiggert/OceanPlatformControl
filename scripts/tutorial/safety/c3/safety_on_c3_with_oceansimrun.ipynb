{
 "cells": [
  {
   "cell_type": "markdown",
   "metadata": {},
   "source": [
    "### Imports"
   ]
  },
  {
   "cell_type": "code",
   "execution_count": 1,
   "metadata": {
    "ExecuteTime": {
     "end_time": "2023-02-17T01:35:39.035518Z",
     "start_time": "2023-02-17T01:35:35.405916Z"
    }
   },
   "outputs": [
    {
     "name": "stderr",
     "output_type": "stream",
     "text": [
      "<frozen importlib._bootstrap>:228: RuntimeWarning: scipy._lib.messagestream.MessageStream size changed, may indicate binary incompatibility. Expected 56 from C header, got 64 from PyObject\n"
     ]
    }
   ],
   "source": [
    "import os\n",
    "import datetime\n",
    "import logging\n",
    "import random\n",
    "\n",
    "import matplotlib.pyplot as plt\n",
    "import numpy as np\n",
    "import pandas as pd\n",
    "import xarray as xr\n",
    "\n",
    "\n",
    "import ocean_navigation_simulator\n",
    "from ocean_navigation_simulator.environment.PlatformState import (\n",
    "    PlatformState,\n",
    "    SpatialPoint,\n",
    ")\n",
    "from ocean_navigation_simulator.reinforcement_learning.missions.MissionGenerator import (\n",
    "    MissionGenerator,\n",
    ")\n",
    "from ocean_navigation_simulator.reinforcement_learning.missions.CachedNavigationProblem import (\n",
    "    CachedNavigationProblem,\n",
    ")\n",
    "\n",
    "from ocean_navigation_simulator.reinforcement_learning.runners.GenerationRunner import (\n",
    "    GenerationRunner,\n",
    ")\n",
    "\n",
    "\n",
    "from ocean_navigation_simulator.utils import units\n",
    "from ocean_navigation_simulator.utils.misc import get_c3, set_arena_loggers\n",
    "\n",
    "%load_ext autoreload\n",
    "%autoreload 2"
   ]
  },
  {
   "cell_type": "code",
   "execution_count": 2,
   "metadata": {
    "ExecuteTime": {
     "end_time": "2023-02-17T01:35:39.884360Z",
     "start_time": "2023-02-17T01:35:39.039008Z"
    }
   },
   "outputs": [
    {
     "name": "stdout",
     "output_type": "stream",
     "text": [
      "Starting to connect to c3\n"
     ]
    }
   ],
   "source": [
    "c3 = get_c3()"
   ]
  },
  {
   "cell_type": "markdown",
   "metadata": {},
   "source": [
    "# Set up the experiments"
   ]
  },
  {
   "cell_type": "code",
   "execution_count": 3,
   "metadata": {
    "ExecuteTime": {
     "end_time": "2023-02-17T01:36:05.541757Z",
     "start_time": "2023-02-17T01:36:05.492840Z"
    }
   },
   "outputs": [],
   "source": [
    "experiment_name = \"safety_c3_debug_027\"\n",
    "exp = c3.Experiment.get(experiment_name)\n",
    "#exp.remove()"
   ]
  },
  {
   "cell_type": "code",
   "execution_count": 4,
   "metadata": {
    "ExecuteTime": {
     "end_time": "2023-02-16T22:35:05.178019Z",
     "start_time": "2023-02-16T22:35:05.152650Z"
    }
   },
   "outputs": [],
   "source": [
    "exp"
   ]
  },
  {
   "cell_type": "markdown",
   "metadata": {},
   "source": [
    "### Config"
   ]
  },
  {
   "cell_type": "code",
   "execution_count": 3,
   "metadata": {
    "ExecuteTime": {
     "end_time": "2023-02-17T01:38:24.058919Z",
     "start_time": "2023-02-17T01:38:24.021394Z"
    }
   },
   "outputs": [
    {
     "ename": "AssertionError",
     "evalue": "Timeout set to an unfeasibly small value",
     "output_type": "error",
     "traceback": [
      "\u001b[0;31m---------------------------------------------------------------------------\u001b[0m",
      "\u001b[0;31mAssertionError\u001b[0m                            Traceback (most recent call last)",
      "Cell \u001b[0;32mIn [3], line 115\u001b[0m\n\u001b[1;32m     56\u001b[0m config \u001b[39m=\u001b[39m {\n\u001b[1;32m     57\u001b[0m     \u001b[39m##### Target Sampling #####\u001b[39;00m\n\u001b[1;32m     58\u001b[0m     \u001b[39m# HYCOM HC: lon [-98.0,-76.4000244140625], lat[18.1200008392334,31.92000007629394]\u001b[39;00m\n\u001b[0;32m   (...)\u001b[0m\n\u001b[1;32m    112\u001b[0m     },\n\u001b[1;32m    113\u001b[0m }\n\u001b[1;32m    114\u001b[0m objectiveConfig \u001b[39m=\u001b[39m {\u001b[39m\"\u001b[39m\u001b[39mtype\u001b[39m\u001b[39m\"\u001b[39m: \u001b[39m\"\u001b[39m\u001b[39mnav\u001b[39m\u001b[39m\"\u001b[39m}\n\u001b[0;32m--> 115\u001b[0m \u001b[39massert\u001b[39;00m timeout_sim_h \u001b[39m>\u001b[39m config[\u001b[39m\"\u001b[39m\u001b[39mfeasible_mission_time_in_h\u001b[39m\u001b[39m\"\u001b[39m][\u001b[39m1\u001b[39m], \u001b[39m\"\u001b[39m\u001b[39mTimeout set to an unfeasibly small value\u001b[39m\u001b[39m\"\u001b[39m\n\u001b[1;32m    116\u001b[0m km_per_deg \u001b[39m=\u001b[39m \u001b[39m110\u001b[39m\n\u001b[1;32m    117\u001b[0m \u001b[39massert\u001b[39;00m config[\u001b[39m\"\u001b[39m\u001b[39mmin_distance_from_land\u001b[39m\u001b[39m\"\u001b[39m]\u001b[39m*\u001b[39mkm_per_deg \u001b[39m>\u001b[39m safe_distance, \u001b[39m\"\u001b[39m\u001b[39mShouldn\u001b[39m\u001b[39m'\u001b[39m\u001b[39mt sample missions that fail in first timestep\u001b[39m\u001b[39m\"\u001b[39m\n",
      "\u001b[0;31mAssertionError\u001b[0m: Timeout set to an unfeasibly small value"
     ]
    }
   ],
   "source": [
    "timeout_sim_h = 24 * 1\n",
    "safe_distance = 10\n",
    "arena_config = {\n",
    "    \"casadi_cache_dict\": {\"deg_around_x_t\": 2.0, \"time_around_x_t\": 432000},\n",
    "    \"platform_dict\": {\n",
    "        \"battery_cap_in_wh\": 400.0,\n",
    "        \"u_max_in_mps\": 0.1,\n",
    "        \"motor_efficiency\": 1.0,\n",
    "        \"solar_panel_size\": 0.5,\n",
    "        \"solar_efficiency\": 0.2,\n",
    "        \"drag_factor\": 675.0,\n",
    "        \"dt_in_s\": 600.0,\n",
    "    },\n",
    "    \"use_geographic_coordinate_system\": True,\n",
    "    \"spatial_boundary\": None,\n",
    "    \"ocean_dict\": {\n",
    "        \"region\": \"Region 1\",\n",
    "        \"hindcast\": {\n",
    "            \"field\": \"OceanCurrents\",\n",
    "            \"source\": \"hindcast_files\",\n",
    "            \"source_settings\": {\n",
    "                \"folder\": \"data/miss_gen_hindcast/\",\n",
    "                \"local\": False,\n",
    "                \"source\": \"HYCOM\",\n",
    "                \"type\": \"hindcast\",\n",
    "                \"currents\": \"total\",\n",
    "            },\n",
    "        },\n",
    "        \"forecast\": None,\n",
    "    },\n",
    "    \"bathymetry_dict\": {\n",
    "        \"field\": \"Bathymetry\",\n",
    "        \"source\": \"gebco\",\n",
    "        \"source_settings\": {\n",
    "            \"filepath\": \"ocean_navigation_simulator/package_data/bathymetry_and_garbage/bathymetry_global_res_0.083_0.083_max.nc\"\n",
    "        },\n",
    "        \"distance\": {\n",
    "            \"safe_distance\": safe_distance,\n",
    "            \"filepath\": \"ocean_navigation_simulator/package_data/bathymetry_and_garbage/bathymetry_distance_res_0.083_0.083_max_elevation_-150.nc\",\n",
    "        },\n",
    "        \"casadi_cache_settings\": {\"deg_around_x_t\": 10},\n",
    "        \"use_geographic_coordinate_system\": True,\n",
    "    },\n",
    "    \"garbage_dict\": {\n",
    "        \"field\": \"Garbage\",\n",
    "        \"source\": \"Lebreton\",\n",
    "        \"source_settings\": {\n",
    "            \"filepath\": \"ocean_navigation_simulator/package_data/bathymetry_and_garbage/garbage_patch_global_res_0.083_0.083.nc\"\n",
    "        },\n",
    "        \"casadi_cache_settings\": {\"deg_around_x_t\": 10},\n",
    "        \"use_geographic_coordinate_system\": True,\n",
    "    },\n",
    "    \"solar_dict\": {\"hindcast\": None, \"forecast\": None},\n",
    "    \"seaweed_dict\": {\"hindcast\": None, \"forecast\": None},\n",
    "}\n",
    "config = {\n",
    "    ##### Target Sampling #####\n",
    "    # HYCOM HC: lon [-98.0,-76.4000244140625], lat[18.1200008392334,31.92000007629394]\n",
    "    # Copernicus FC: lon: [-98.0, -76.416664], lat: [18.083334, 30.0]\n",
    "    # Combined: [-98.0, -76.416664], [18.1200008392334, 30.0]\n",
    "    # GOM\n",
    "    \"x_range\":[-160, -105], \n",
    "    \"y_range\":[15, 40],\n",
    "    # Region 1\n",
    "    # \"x_range\": [-159, -106],\n",
    "    # \"y_range\": [16, 39],\n",
    "    # \"x_range\": [-160, -105],\n",
    "    # \"y_range\": [15, 40],\n",
    "    \"t_range\": [  # ['2022-08-01T00:00:00+00:00', '2022-08-30T00:00:00+00:00'],\n",
    "        # Copernicus FC: 2022-04 until today, HYCOM Hindcast: 2021-09 until today\n",
    "        datetime.datetime(year=2022, month=8, day=16, tzinfo=datetime.timezone.utc),\n",
    "        datetime.datetime(year=2022, month=8, day=30, tzinfo=datetime.timezone.utc),\n",
    "    ],\n",
    "    \"problem_timeout_in_h\": timeout_sim_h,  # to be considered as feasible\n",
    "    \"problem_target_radius\": 0.1,\n",
    "    ##### HJ Planner #####\n",
    "    \"hj_specific_settings\": {\n",
    "        # 'grid_res' has to be smaller than target_radius to prevent hj_solver errors\n",
    "        \"grid_res\": 0.02,  # Note: this is in deg lat, lon (HYCOM Global is 0.083 and Mexico 0.04)\n",
    "        \"direction\": \"multi-time-reach-back\",\n",
    "        \"n_time_vector\": 199,  # Note that this is the number of time-intervals, the vector is +1 longer because of init_time\n",
    "        \"accuracy\": \"high\",\n",
    "        \"artificial_dissipation_scheme\": \"local_local\",\n",
    "        \"run_without_x_T\": True,\n",
    "        \"progress_bar\": False,\n",
    "        \"T_goal_in_seconds\": 3600 * timeout_sim_h,\n",
    "        \"deg_around_xt_xT_box\": 1.0,  # area over which to run HJ_reachability\n",
    "\n",
    "    },\n",
    "    \"hj_planner_box\": 2.0,\n",
    "    ##### Start Sampling #####\n",
    "    \"feasible_missions_per_target\": 2,\n",
    "    \"feasible_mission_time_in_h\": [80, 110],\n",
    "    \"random_missions_per_target\": 1,\n",
    "    \"random_min_distance_from_target\": 0.5,\n",
    "    \"min_distance_from_hj_frame\": 0.5,\n",
    "    \"min_distance_from_land\": 0.2,\n",
    "    \"random_min_distance_from_target\": 0.5,\n",
    "    # Safety specific values\n",
    "    \"max_distance_from_land\": 3,\n",
    "    \"min_distance_from_garbage\": 0.01,\n",
    "    \"max_distance_from_garbage\": 1,\n",
    "    ##### Actions #####\n",
    "    \"plot_batch\": False,\n",
    "    \"animate_batch\": False,\n",
    "    \"cache_forecast\": False,\n",
    "    \"cache_hindcast\": False,\n",
    "    ##### Distance maps #####\n",
    "    \"filepath_distance_map\": {\n",
    "        \"bathymetry\": \"ocean_navigation_simulator/package_data/bathymetry_and_garbage/bathymetry_distance_res_0.083_0.083_max_elevation_-150.nc\",\n",
    "        \"garbage\": \"ocean_navigation_simulator/package_data/bathymetry_and_garbage/garbage_patch_distance_res_0.083_0.083_max.nc\",\n",
    "    },\n",
    "}\n",
    "objectiveConfig = {\"type\": \"nav\"}\n",
    "assert timeout_sim_h > config[\"feasible_mission_time_in_h\"][1], \"Timeout set to an unfeasibly small value\"\n",
    "km_per_deg = 110\n",
    "assert config[\"min_distance_from_land\"]*km_per_deg > safe_distance, \"Shouldn't sample missions that fail in first timestep\"\n"
   ]
  },
  {
   "cell_type": "markdown",
   "metadata": {},
   "source": [
    "### Create Experiment\n",
    "\n",
    "Make sure you really want to create a new experiment and you ran `exp = c3.Experiment.get(experiment_name)` before '\n"
   ]
  },
  {
   "cell_type": "code",
   "execution_count": 6,
   "metadata": {
    "ExecuteTime": {
     "end_time": "2023-02-16T22:35:14.059535Z",
     "start_time": "2023-02-16T22:35:13.884781Z"
    }
   },
   "outputs": [],
   "source": [
    "# create Experiment\n",
    "exp = c3.Experiment.createNew(\n",
    "    experimentName=experiment_name,\n",
    "    description=\"safety\",\n",
    "    arenaConfig=arena_config,\n",
    "    objectiveConfig=objectiveConfig,\n",
    "    timeout_in_sec=3600 * timeout_sim_h,\n",
    ")"
   ]
  },
  {
   "cell_type": "code",
   "execution_count": 7,
   "metadata": {
    "ExecuteTime": {
     "end_time": "2023-02-16T22:35:17.289936Z",
     "start_time": "2023-02-16T22:35:17.249616Z"
    }
   },
   "outputs": [
    {
     "data": {
      "text/plain": [
       "c3.Experiment(\n",
       " id='safety_c3_debug_027',\n",
       " meta=c3.Meta(\n",
       "        fetchInclude='[experimentName,id,version]',\n",
       "        fetchType='Experiment'),\n",
       " version=1,\n",
       " experimentName='safety_c3_debug_027',\n",
       " T_horizon_FC_Error_Calculation_in_h=96)"
      ]
     },
     "execution_count": 7,
     "metadata": {},
     "output_type": "execute_result"
    }
   ],
   "source": [
    "exp = exp.get(\"experimentName\")\n",
    "\n",
    "# name.experimentName = \"test_matthias\"\n",
    "# name.merge()\n",
    "exp"
   ]
  },
  {
   "cell_type": "markdown",
   "metadata": {},
   "source": [
    "# Set up generate batch job"
   ]
  },
  {
   "cell_type": "markdown",
   "metadata": {},
   "source": [
    "## Set up and run mission generation"
   ]
  },
  {
   "cell_type": "code",
   "execution_count": 8,
   "metadata": {
    "ExecuteTime": {
     "end_time": "2023-02-16T22:35:36.807341Z",
     "start_time": "2023-02-16T22:35:36.781718Z"
    }
   },
   "outputs": [],
   "source": [
    "options = c3.GenMissionBatchJobOptionsAndreas(\n",
    "    **{\n",
    "        \"experiment\": exp,\n",
    "        \"missGenBatchConfig\": config,\n",
    "        \"base_seed\": 1,\n",
    "        \"nBatches\": 2,  # each nBatch runs nMissionsGenPerBatch\n",
    "        \"nMissionGenPerBatch\": 3,  # nb workers on which we loop,\n",
    "        'hardwareProfileId': \"appc8m642-w\" #'appc72m660-w', #\"appc8m642-w\" #\"appc72m660-w\" appc8m64-w\n",
    "    }\n",
    ")\n",
    "# total amount of missions: feasible_mission_per_target*nBatches*nMIssionGenPerBatch"
   ]
  },
  {
   "cell_type": "markdown",
   "metadata": {},
   "source": [
    "#### [Debug locally]\n",
    "\n",
    "\n",
    "In case you want to debug the Gen Mission c3 stuff locally. Just copy the according code from `GenMissionBatchJob.py`\n"
   ]
  },
  {
   "cell_type": "code",
   "execution_count": 9,
   "metadata": {
    "ExecuteTime": {
     "end_time": "2023-02-16T22:35:42.440217Z",
     "start_time": "2023-02-16T22:35:42.415346Z"
    }
   },
   "outputs": [],
   "source": [
    "batch = c3.GenMissionBatchJobBatchAndreas(**{\"batch_seed\": 1})\n",
    "options = options"
   ]
  },
  {
   "cell_type": "code",
   "execution_count": 10,
   "metadata": {
    "ExecuteTime": {
     "end_time": "2023-02-16T22:35:44.586408Z",
     "start_time": "2023-02-16T22:35:44.557848Z"
    }
   },
   "outputs": [],
   "source": [
    "\n",
    "# Set up file paths and download folders\n",
    "temp_folder = \"/tmp/\" + str(batch.batch_seed) + \"/\"\n",
    "# create the folder if it doesn't exist yet\n",
    "if not os.path.isdir(temp_folder):\n",
    "    os.mkdir(temp_folder)\n",
    "log_file_name = str(batch.batch_seed) + \".log\"\n",
    "logging.basicConfig(filename=temp_folder + log_file_name, level=logging.INFO)#, force=True\n",
    "\n",
    "# change to this if basic setup works test\n",
    "set_arena_loggers(logging.INFO)\n",
    "logging.getLogger(\"MissionGenerator\").setLevel(logging.DEBUG)\n"
   ]
  },
  {
   "cell_type": "code",
   "execution_count": 11,
   "metadata": {
    "ExecuteTime": {
     "end_time": "2023-02-16T22:35:45.214713Z",
     "start_time": "2023-02-16T22:35:45.155342Z"
    }
   },
   "outputs": [],
   "source": [
    "\n",
    "# get configs for mission generation\n",
    "arena_config = options.experiment.get(\"arenaConfig\").arenaConfig\n",
    "# create the MissionGenerator Config\n",
    "config = options.missGenBatchConfig\n",
    "\n",
    "# Lots of replacement\n",
    "filepath = ocean_navigation_simulator.__file__\n",
    "module_path = os.path.dirname(filepath)\n",
    "\n",
    "if \"filepath_distance_map\" in config and config[\"filepath_distance_map\"] is not None:\n",
    "    for key in config[\"filepath_distance_map\"]:\n",
    "        config[\"filepath_distance_map\"][key] =  module_path + config[\"filepath_distance_map\"][key].split(\"ocean_navigation_simulator\")[-1]\n",
    "\n",
    "data_dicts = [\"bathymetry_dict\", \"garbage_dict\"]\n",
    "for d in data_dicts:\n",
    "    if d in arena_config and arena_config[d] is not None:\n",
    "        arena_config[d][\"source_settings\"][\"filepath\"]= module_path + arena_config[d][\"source_settings\"][\"filepath\"].split(\"ocean_navigation_simulator\")[-1]\n",
    "\n",
    "\n",
    "if \"obstacle_dict\" in config and config[\"obstacle_dict\"] is not None:\n",
    "    config[\"obstacle_dict\"][\"path_to_obstacle_file\"] = module_path + config[\"obstacle_dict\"][\"path_to_obstacle_file\"].split(\"ocean_navigation_simulator\")[-1]\n",
    "\n",
    "config_to_add = {\n",
    "    \"scenario_config\": arena_config,\n",
    "    \"problem_timeout\": datetime.timedelta(\n",
    "        seconds=options.experiment.get(\"timeout_in_sec\").timeout_in_sec\n",
    "    ),\n",
    "    \"T_goal_in_seconds\": options.experiment.get(\"timeout_in_sec\").timeout_in_sec,\n",
    "}\n",
    "\n",
    "config = config | config_to_add"
   ]
  },
  {
   "cell_type": "code",
   "execution_count": 12,
   "metadata": {
    "ExecuteTime": {
     "end_time": "2023-02-16T22:35:47.070791Z",
     "start_time": "2023-02-16T22:35:47.042571Z"
    }
   },
   "outputs": [
    {
     "name": "stdout",
     "output_type": "stream",
     "text": [
      "c3.Experiment(\n",
      " id='safety_c3_debug_027',\n",
      " meta=c3.Meta(\n",
      "        fetchInclude='[experimentName,id,version]',\n",
      "        fetchType='Experiment'),\n",
      " version=1,\n",
      " experimentName='safety_c3_debug_027',\n",
      " T_horizon_FC_Error_Calculation_in_h=96)\n"
     ]
    }
   ],
   "source": [
    "exp = options.experiment\n",
    "print(exp)\n"
   ]
  },
  {
   "cell_type": "code",
   "execution_count": 13,
   "metadata": {
    "ExecuteTime": {
     "end_time": "2023-02-16T22:39:40.846467Z",
     "start_time": "2023-02-16T22:35:47.685039Z"
    }
   },
   "outputs": [
    {
     "name": "stderr",
     "output_type": "stream",
     "text": [
      "INFO:arena.factory:Downloading 3 files to 'data/miss_gen_hindcast/'.\n",
      "  0%|          | 0/3 [00:00<?, ?it/s]INFO:arena.factory:File already downloaded: 'ssh_ts3z_uv3z_ALL-DATA-YEARS-2022-08-24T00:00:00Z-2022-08-24T21:00:00Z.nc', 0.7MB.\n",
      " 33%|███▎      | 1/3 [00:00<00:00,  3.79it/s]INFO:arena.factory:File already downloaded: 'ssh_ts3z_uv3z_ALL-DATA-YEARS-2022-08-25T00:00:00Z-2022-08-25T21:00:00Z.nc', 0.7MB.\n",
      " 67%|██████▋   | 2/3 [00:00<00:00,  3.76it/s]INFO:arena.factory:File already downloaded: 'ssh_ts3z_uv3z_ALL-DATA-YEARS-2022-08-26T00:00:00Z-2022-08-26T21:00:00Z.nc', 0.7MB.\n",
      "100%|██████████| 3/3 [00:00<00:00,  4.21it/s]\n",
      "INFO:arena.factory:Download Hindcast Files: 2022-08-24 08-49-18 until 2022-08-26 10-49-18 (964.57ms)\n",
      "INFO:arena.ocean_field:DataField: Create Hindcast Source (1.4s)\n",
      "INFO:arena.ocean_field:DataField: Forecast is the same as Hindcast for OceanCurrents.\n",
      "INFO:arena:Arena: Generate Sources (1.6s)\n",
      "INFO:arena:Arena: Generate Platform (0.0s)\n",
      "INFO:arena.factory:ArenaFactory: Creating Arena for None (2.55s)\n",
      "WARNING:arena.ocean_field.ocean_source:The requested final time is not part of the subset (requested: [2022-08-24 09:49:18.524373+00:00, 2022-08-29 09:49:18.524373+00:00]). (files: x_range: [-160.0, -105.03997802734375], y_range: [15.0, 40.0], t_range:['2022-08-24 00-00-00', '2022-08-26 21-00-00'])\n",
      "INFO:arena.platform:Platform: Set Dynamics F_x_next Function (0.0s)\n",
      "INFO:arena.platform:Platform: Update Casadi + Dynamics (6.2s)\n",
      "WARNING:arena.ocean_field.ocean_source:The requested final time is not part of the subset (requested: [2022-08-24 09:49:18.524373+00:00, 2022-08-29 09:49:18.524373+00:00]). (files: x_range: [-160.0, -105.03997802734375], y_range: [15.0, 40.0], t_range:['2022-08-24 00-00-00', '2022-08-26 21-00-00'])\n",
      "WARNING:MissionGenerator:Target aborted because too far to land and garbage (too safe): [-143.62°,23.16°] = 13.719153862748197, 4.169410422094242.\n",
      "INFO:arena.factory:Downloading 3 files to 'data/miss_gen_hindcast/'.\n",
      "  0%|          | 0/3 [00:00<?, ?it/s]INFO:arena.factory:File already downloaded: 'ssh_ts3z_uv3z_ALL-DATA-YEARS-2022-08-28T00:00:00Z-2022-08-28T21:00:00Z.nc', 0.7MB.\n",
      " 33%|███▎      | 1/3 [00:00<00:00,  6.74it/s]INFO:arena.factory:File already downloaded: 'ssh_ts3z_uv3z_ALL-DATA-YEARS-2022-08-29T00:00:00Z-2022-08-29T21:00:00Z.nc', 0.7MB.\n",
      " 67%|██████▋   | 2/3 [00:00<00:00,  7.24it/s]INFO:arena.factory:File already downloaded: 'ssh_ts3z_uv3z_ALL-DATA-YEARS-2022-08-30T00:00:00Z-2022-08-30T21:00:00Z.nc', 0.7MB.\n",
      "100%|██████████| 3/3 [00:00<00:00,  7.01it/s]\n",
      "INFO:arena.factory:Download Hindcast Files: 2022-08-28 18-35-50 until 2022-08-30 20-35-50 (512.92ms)\n",
      "INFO:arena.ocean_field:DataField: Create Hindcast Source (0.8s)\n",
      "INFO:arena.ocean_field:DataField: Forecast is the same as Hindcast for OceanCurrents.\n",
      "INFO:arena:Arena: Generate Sources (0.9s)\n",
      "INFO:arena:Arena: Generate Platform (0.0s)\n",
      "INFO:arena.factory:ArenaFactory: Creating Arena for None (1.42s)\n",
      "WARNING:arena.ocean_field.ocean_source:The requested final time is not part of the subset (requested: [2022-08-28 19:35:50.240525+00:00, 2022-09-02 19:35:50.240525+00:00]). (files: x_range: [-160.0, -105.03997802734375], y_range: [15.0, 40.0], t_range:['2022-08-28 00-00-00', '2022-08-30 21-00-00'])\n",
      "INFO:arena.platform:Platform: Set Dynamics F_x_next Function (0.0s)\n",
      "INFO:arena.platform:Platform: Update Casadi + Dynamics (3.6s)\n",
      "WARNING:arena.ocean_field.ocean_source:The requested final time is not part of the subset (requested: [2022-08-28 19:35:50.240525+00:00, 2022-09-02 19:35:50.240525+00:00]). (files: x_range: [-160.0, -105.03997802734375], y_range: [15.0, 40.0], t_range:['2022-08-28 00-00-00', '2022-08-30 21-00-00'])\n",
      "WARNING:MissionGenerator:Target aborted because too far to land and garbage (too safe): [-141.10°,15.83°] = 16.55174256602298, 11.926204978171379.\n",
      "INFO:arena.factory:Downloading 3 files to 'data/miss_gen_hindcast/'.\n",
      "  0%|          | 0/3 [00:00<?, ?it/s]INFO:arena.factory:File already downloaded: 'ssh_ts3z_uv3z_ALL-DATA-YEARS-2022-08-18T00:00:00Z-2022-08-18T21:00:00Z.nc', 0.7MB.\n",
      " 33%|███▎      | 1/3 [00:00<00:00,  6.23it/s]INFO:arena.factory:File already downloaded: 'ssh_ts3z_uv3z_ALL-DATA-YEARS-2022-08-19T00:00:00Z-2022-08-19T21:00:00Z.nc', 0.7MB.\n",
      " 67%|██████▋   | 2/3 [00:00<00:00,  7.19it/s]INFO:arena.factory:File already downloaded: 'ssh_ts3z_uv3z_ALL-DATA-YEARS-2022-08-20T00:00:00Z-2022-08-20T21:00:00Z.nc', 0.7MB.\n",
      "100%|██████████| 3/3 [00:00<00:00,  6.25it/s]\n",
      "INFO:arena.factory:Download Hindcast Files: 2022-08-18 04-07-11 until 2022-08-20 06-07-11 (573.81ms)\n",
      "INFO:arena.ocean_field:DataField: Create Hindcast Source (0.8s)\n",
      "INFO:arena.ocean_field:DataField: Forecast is the same as Hindcast for OceanCurrents.\n",
      "INFO:arena:Arena: Generate Sources (0.9s)\n",
      "INFO:arena:Arena: Generate Platform (0.0s)\n",
      "INFO:arena.factory:ArenaFactory: Creating Arena for None (1.52s)\n",
      "WARNING:arena.ocean_field.ocean_source:The requested final time is not part of the subset (requested: [2022-08-18 05:07:11.216345+00:00, 2022-08-23 05:07:11.216345+00:00]). (files: x_range: [-160.0, -105.03997802734375], y_range: [15.0, 40.0], t_range:['2022-08-18 00-00-00', '2022-08-20 21-00-00'])\n",
      "INFO:arena.platform:Platform: Set Dynamics F_x_next Function (0.0s)\n",
      "INFO:arena.platform:Platform: Update Casadi + Dynamics (5.8s)\n",
      "WARNING:arena.ocean_field.ocean_source:The requested final time is not part of the subset (requested: [2022-08-18 05:07:11.216345+00:00, 2022-08-23 05:07:11.216345+00:00]). (files: x_range: [-160.0, -105.03997802734375], y_range: [15.0, 40.0], t_range:['2022-08-18 00-00-00', '2022-08-20 21-00-00'])\n",
      "WARNING:MissionGenerator:Target aborted because too far to land and garbage (too safe): [-144.82°,21.49°] = 11.065138413774429, 5.59356669532899.\n",
      "INFO:arena.factory:Downloading 3 files to 'data/miss_gen_hindcast/'.\n",
      "  0%|          | 0/3 [00:00<?, ?it/s]INFO:arena.factory:File already downloaded: 'ssh_ts3z_uv3z_ALL-DATA-YEARS-2022-08-26T00:00:00Z-2022-08-26T21:00:00Z.nc', 0.7MB.\n",
      " 33%|███▎      | 1/3 [00:00<00:00,  2.28it/s]INFO:arena.factory:File already downloaded: 'ssh_ts3z_uv3z_ALL-DATA-YEARS-2022-08-27T00:00:00Z-2022-08-27T21:00:00Z.nc', 0.7MB.\n",
      " 67%|██████▋   | 2/3 [00:00<00:00,  2.45it/s]INFO:arena.factory:File already downloaded: 'ssh_ts3z_uv3z_ALL-DATA-YEARS-2022-08-28T00:00:00Z-2022-08-28T21:00:00Z.nc', 0.7MB.\n",
      "100%|██████████| 3/3 [00:01<00:00,  2.50it/s]\n",
      "INFO:arena.factory:Download Hindcast Files: 2022-08-26 06-54-16 until 2022-08-28 08-54-16 (1.35s)\n",
      "INFO:arena.ocean_field:DataField: Create Hindcast Source (2.4s)\n",
      "INFO:arena.ocean_field:DataField: Forecast is the same as Hindcast for OceanCurrents.\n",
      "INFO:arena:Arena: Generate Sources (2.6s)\n",
      "INFO:arena:Arena: Generate Platform (0.0s)\n",
      "INFO:arena.factory:ArenaFactory: Creating Arena for None (3.93s)\n",
      "WARNING:arena.ocean_field.ocean_source:The requested final time is not part of the subset (requested: [2022-08-26 07:54:16.168801+00:00, 2022-08-31 07:54:16.168801+00:00]). (files: x_range: [-160.0, -105.03997802734375], y_range: [15.0, 40.0], t_range:['2022-08-26 00-00-00', '2022-08-28 21-00-00'])\n",
      "INFO:arena.platform:Platform: Set Dynamics F_x_next Function (0.0s)\n",
      "INFO:arena.platform:Platform: Update Casadi + Dynamics (7.8s)\n",
      "WARNING:arena.ocean_field.ocean_source:The requested final time is not part of the subset (requested: [2022-08-26 07:54:16.168801+00:00, 2022-08-31 07:54:16.168801+00:00]). (files: x_range: [-160.0, -105.03997802734375], y_range: [15.0, 40.0], t_range:['2022-08-26 00-00-00', '2022-08-28 21-00-00'])\n",
      "WARNING:MissionGenerator:Target aborted because too close to land: [-112.59°,37.74°] = 0.0.\n",
      "INFO:arena.factory:Downloading 3 files to 'data/miss_gen_hindcast/'.\n",
      "  0%|          | 0/3 [00:00<?, ?it/s]INFO:arena.factory:File already downloaded: 'ssh_ts3z_uv3z_ALL-DATA-YEARS-2022-08-22T00:00:00Z-2022-08-22T21:00:00Z.nc', 0.7MB.\n",
      " 33%|███▎      | 1/3 [00:00<00:00,  5.61it/s]INFO:arena.factory:File already downloaded: 'ssh_ts3z_uv3z_ALL-DATA-YEARS-2022-08-23T00:00:00Z-2022-08-23T21:00:00Z.nc', 0.7MB.\n",
      " 67%|██████▋   | 2/3 [00:00<00:00,  4.82it/s]INFO:arena.factory:File already downloaded: 'ssh_ts3z_uv3z_ALL-DATA-YEARS-2022-08-24T00:00:00Z-2022-08-24T21:00:00Z.nc', 0.7MB.\n",
      "100%|██████████| 3/3 [00:00<00:00,  4.45it/s]\n",
      "INFO:arena.factory:Download Hindcast Files: 2022-08-22 21-19-21 until 2022-08-24 23-19-21 (814.15ms)\n",
      "INFO:arena.ocean_field:DataField: Create Hindcast Source (2.2s)\n",
      "INFO:arena.ocean_field:DataField: Forecast is the same as Hindcast for OceanCurrents.\n",
      "INFO:arena:Arena: Generate Sources (2.4s)\n",
      "INFO:arena:Arena: Generate Platform (0.0s)\n",
      "INFO:arena.factory:ArenaFactory: Creating Arena for None (3.26s)\n",
      "WARNING:arena.ocean_field.ocean_source:The requested final time is not part of the subset (requested: [2022-08-22 22:19:21.412282+00:00, 2022-08-27 22:19:21.412282+00:00]). (files: x_range: [-160.0, -105.03997802734375], y_range: [15.0, 40.0], t_range:['2022-08-22 00-00-00', '2022-08-24 21-00-00'])\n",
      "INFO:arena.platform:Platform: Set Dynamics F_x_next Function (0.0s)\n",
      "INFO:arena.platform:Platform: Update Casadi + Dynamics (7.1s)\n",
      "WARNING:arena.ocean_field.ocean_source:The requested final time is not part of the subset (requested: [2022-08-22 22:19:21.412282+00:00, 2022-08-27 22:19:21.412282+00:00]). (files: x_range: [-160.0, -105.03997802734375], y_range: [15.0, 40.0], t_range:['2022-08-22 00-00-00', '2022-08-24 21-00-00'])\n",
      "WARNING:MissionGenerator:Target aborted because too close to land: [-112.56°,34.42°] = 0.0.\n",
      "INFO:arena.factory:Downloading 3 files to 'data/miss_gen_hindcast/'.\n",
      "  0%|          | 0/3 [00:00<?, ?it/s]INFO:arena.factory:File already downloaded: 'ssh_ts3z_uv3z_ALL-DATA-YEARS-2022-08-26T00:00:00Z-2022-08-26T21:00:00Z.nc', 0.7MB.\n",
      " 33%|███▎      | 1/3 [00:00<00:00,  2.75it/s]INFO:arena.factory:File already downloaded: 'ssh_ts3z_uv3z_ALL-DATA-YEARS-2022-08-27T00:00:00Z-2022-08-27T21:00:00Z.nc', 0.7MB.\n",
      " 67%|██████▋   | 2/3 [00:00<00:00,  3.78it/s]INFO:arena.factory:File already downloaded: 'ssh_ts3z_uv3z_ALL-DATA-YEARS-2022-08-28T00:00:00Z-2022-08-28T21:00:00Z.nc', 0.7MB.\n",
      "100%|██████████| 3/3 [00:00<00:00,  3.35it/s]\n",
      "INFO:arena.factory:Download Hindcast Files: 2022-08-26 14-00-31 until 2022-08-28 16-00-31 (1.02s)\n",
      "INFO:arena.ocean_field:DataField: Create Hindcast Source (1.2s)\n",
      "INFO:arena.ocean_field:DataField: Forecast is the same as Hindcast for OceanCurrents.\n",
      "INFO:arena:Arena: Generate Sources (1.3s)\n",
      "INFO:arena:Arena: Generate Platform (0.0s)\n",
      "INFO:arena.factory:ArenaFactory: Creating Arena for None (2.32s)\n",
      "WARNING:arena.ocean_field.ocean_source:The requested final time is not part of the subset (requested: [2022-08-26 15:00:31.279201+00:00, 2022-08-31 15:00:31.279201+00:00]). (files: x_range: [-160.0, -105.03997802734375], y_range: [15.0, 40.0], t_range:['2022-08-26 00-00-00', '2022-08-28 21-00-00'])\n",
      "INFO:arena.platform:Platform: Set Dynamics F_x_next Function (0.0s)\n",
      "INFO:arena.platform:Platform: Update Casadi + Dynamics (4.9s)\n",
      "WARNING:arena.ocean_field.ocean_source:The requested final time is not part of the subset (requested: [2022-08-26 15:00:31.279201+00:00, 2022-08-31 15:00:31.279201+00:00]). (files: x_range: [-160.0, -105.03997802734375], y_range: [15.0, 40.0], t_range:['2022-08-26 00-00-00', '2022-08-28 21-00-00'])\n",
      "WARNING:MissionGenerator:Target aborted because too far to land and garbage (too safe): [-116.57°,22.22°] = 3.0479236577084334, 19.824131303655335.\n",
      "INFO:arena.factory:Downloading 3 files to 'data/miss_gen_hindcast/'.\n",
      "  0%|          | 0/3 [00:00<?, ?it/s]INFO:arena.factory:File already downloaded: 'ssh_ts3z_uv3z_ALL-DATA-YEARS-2022-08-21T00:00:00Z-2022-08-21T21:00:00Z.nc', 0.7MB.\n",
      " 33%|███▎      | 1/3 [00:00<00:00,  5.87it/s]INFO:arena.factory:File already downloaded: 'ssh_ts3z_uv3z_ALL-DATA-YEARS-2022-08-22T00:00:00Z-2022-08-22T21:00:00Z.nc', 0.7MB.\n",
      "INFO:arena.factory:File already downloaded: 'ssh_ts3z_uv3z_ALL-DATA-YEARS-2022-08-23T00:00:00Z-2022-08-23T21:00:00Z.nc', 0.7MB.\n",
      "100%|██████████| 3/3 [00:00<00:00,  8.10it/s]\n",
      "INFO:arena.factory:Download Hindcast Files: 2022-08-21 05-18-33 until 2022-08-23 07-18-33 (519.00ms)\n",
      "INFO:arena.ocean_field:DataField: Create Hindcast Source (0.6s)\n",
      "INFO:arena.ocean_field:DataField: Forecast is the same as Hindcast for OceanCurrents.\n",
      "INFO:arena:Arena: Generate Sources (0.7s)\n",
      "INFO:arena:Arena: Generate Platform (0.0s)\n",
      "INFO:arena.factory:ArenaFactory: Creating Arena for None (1.24s)\n",
      "WARNING:arena.ocean_field.ocean_source:The requested final time is not part of the subset (requested: [2022-08-21 06:18:33.552983+00:00, 2022-08-26 06:18:33.552983+00:00]). (files: x_range: [-160.0, -105.03997802734375], y_range: [15.0, 40.0], t_range:['2022-08-21 00-00-00', '2022-08-23 21-00-00'])\n",
      "INFO:arena.platform:Platform: Set Dynamics F_x_next Function (0.0s)\n",
      "INFO:arena.platform:Platform: Update Casadi + Dynamics (4.1s)\n",
      "WARNING:arena.ocean_field.ocean_source:The requested final time is not part of the subset (requested: [2022-08-21 06:18:33.552983+00:00, 2022-08-26 06:18:33.552983+00:00]). (files: x_range: [-160.0, -105.03997802734375], y_range: [15.0, 40.0], t_range:['2022-08-21 00-00-00', '2022-08-23 21-00-00'])\n",
      "WARNING:absl:No GPU/TPU found, falling back to CPU. (Set TF_CPP_MIN_LOG_LEVEL=0 and rerun for more info.)\n",
      "INFO:arena.controller:HJPlannerBase: Planning because of new forecast (Old: None, New: 0)\n",
      "INFO:arena.controller:HJPlannerBase: Loading new Current Data (2.5s)\n",
      "INFO:arena.controller:HJPlannerBase: Running multi-time-reach-back\n",
      "INFO:arena.controller:HJPlannerBase: hj.solve finished (126.6s)\n",
      "INFO:arena.controller:HJPlannerBase: Re-planning finished (152.4s)\n",
      "INFO:MissionGenerator:Run Hindcast Planner (153.33s)\n",
      "INFO:MissionGenerator:Target created: [-129.80°,30.73°,2022-08-22 06:18:33] (161.9s).\n",
      "INFO:MissionGenerator:Sampling Ratio: 0/43672 = 0.00%\n",
      "WARNING:MissionGenerator:Only 0/2 feasible points available.\n",
      "DEBUG:MissionGenerator:Problem created: Problem [start: [-131.22°,30.94°,2022-08-21 06:18:34], end: [-129.80°,30.73°], target_radius: 0.10, ttr: 32h] (INone, GNone BNone FI0)\n",
      "INFO:MissionGenerator:Generated Batch (234.31s)\n",
      "INFO:MissionGenerator:Batch finished (234.32s)\n",
      "INFO:arena.factory:Downloading 3 files to 'data/miss_gen_hindcast/'.\n",
      "  0%|          | 0/3 [00:00<?, ?it/s]INFO:arena.factory:File already downloaded: 'ssh_ts3z_uv3z_ALL-DATA-YEARS-2022-08-28T00:00:00Z-2022-08-28T21:00:00Z.nc', 0.7MB.\n",
      " 33%|███▎      | 1/3 [00:00<00:00,  4.18it/s]INFO:arena.factory:File already downloaded: 'ssh_ts3z_uv3z_ALL-DATA-YEARS-2022-08-29T00:00:00Z-2022-08-29T21:00:00Z.nc', 0.7MB.\n",
      " 67%|██████▋   | 2/3 [00:00<00:00,  5.12it/s]INFO:arena.factory:File already downloaded: 'ssh_ts3z_uv3z_ALL-DATA-YEARS-2022-08-30T00:00:00Z-2022-08-30T21:00:00Z.nc', 0.7MB.\n",
      "100%|██████████| 3/3 [00:00<00:00,  3.92it/s]\n",
      "INFO:arena.factory:Download Hindcast Files: 2022-08-28 06-14-43 until 2022-08-30 08-14-43 (950.98ms)\n",
      "INFO:arena.ocean_field:DataField: Create Hindcast Source (0.9s)\n",
      "INFO:arena.ocean_field:DataField: Forecast is the same as Hindcast for OceanCurrents.\n",
      "INFO:arena:Arena: Generate Sources (1.1s)\n",
      "INFO:arena:Arena: Generate Platform (0.0s)\n",
      "INFO:arena.factory:ArenaFactory: Creating Arena for None (2.04s)\n",
      "WARNING:arena.ocean_field.ocean_source:The requested final time is not part of the subset (requested: [2022-08-28 07:14:43.556679+00:00, 2022-09-02 07:14:43.556679+00:00]). (files: x_range: [-160.0, -105.03997802734375], y_range: [15.0, 40.0], t_range:['2022-08-28 00-00-00', '2022-08-30 21-00-00'])\n",
      "INFO:arena.platform:Platform: Set Dynamics F_x_next Function (0.0s)\n",
      "INFO:arena.platform:Platform: Update Casadi + Dynamics (4.1s)\n",
      "WARNING:arena.ocean_field.ocean_source:The requested final time is not part of the subset (requested: [2022-08-28 07:14:43.556679+00:00, 2022-09-02 07:14:43.556679+00:00]). (files: x_range: [-160.0, -105.03997802734375], y_range: [15.0, 40.0], t_range:['2022-08-28 00-00-00', '2022-08-30 21-00-00'])\n",
      "INFO:arena.controller:HJPlannerBase: Planning because of new forecast (Old: None, New: 0)\n",
      "INFO:arena.controller:HJPlannerBase: Loading new Current Data (0.6s)\n",
      "INFO:arena.controller:HJPlannerBase: Running multi-time-reach-back\n",
      "INFO:arena.controller:HJPlannerBase: hj.solve finished (108.3s)\n",
      "INFO:arena.controller:HJPlannerBase: Re-planning finished (111.2s)\n",
      "INFO:MissionGenerator:Run Hindcast Planner (111.18s)\n",
      "INFO:MissionGenerator:Target created: [-116.71°,27.83°,2022-08-29 07:14:43] (120.2s).\n",
      "INFO:MissionGenerator:Sampling Ratio: 0/43672 = 0.00%\n",
      "WARNING:MissionGenerator:Only 0/2 feasible points available.\n",
      "DEBUG:MissionGenerator:Problem created: Problem [start: [-116.88°,28.28°,2022-08-28 07:14:44], end: [-116.71°,27.83°], target_radius: 0.10, ttr: 25h] (INone, GNone BNone FI0)\n",
      "INFO:MissionGenerator:Generated Batch (120.50s)\n",
      "INFO:MissionGenerator:Batch finished (120.51s)\n",
      "INFO:arena.factory:Downloading 4 files to 'data/miss_gen_hindcast/'.\n",
      "  0%|          | 0/4 [00:00<?, ?it/s]INFO:arena.factory:File already downloaded: 'ssh_ts3z_uv3z_ALL-DATA-YEARS-2022-08-21T00:00:00Z-2022-08-21T21:00:00Z.nc', 0.7MB.\n",
      " 25%|██▌       | 1/4 [00:00<00:00,  5.56it/s]INFO:arena.factory:File already downloaded: 'ssh_ts3z_uv3z_ALL-DATA-YEARS-2022-08-22T00:00:00Z-2022-08-22T21:00:00Z.nc', 0.7MB.\n",
      " 50%|█████     | 2/4 [00:00<00:00,  4.99it/s]INFO:arena.factory:File already downloaded: 'ssh_ts3z_uv3z_ALL-DATA-YEARS-2022-08-23T00:00:00Z-2022-08-23T21:00:00Z.nc', 0.7MB.\n",
      " 75%|███████▌  | 3/4 [00:00<00:00,  5.35it/s]INFO:arena.factory:File already downloaded: 'ssh_ts3z_uv3z_ALL-DATA-YEARS-2022-08-24T00:00:00Z-2022-08-24T21:00:00Z.nc', 0.7MB.\n",
      "100%|██████████| 4/4 [00:00<00:00,  5.07it/s]\n",
      "INFO:arena.factory:Download Hindcast Files: 2022-08-21 22-44-24 until 2022-08-24 00-44-24 (1.23s)\n",
      "INFO:arena.ocean_field:DataField: Create Hindcast Source (0.6s)\n",
      "INFO:arena.ocean_field:DataField: Forecast is the same as Hindcast for OceanCurrents.\n",
      "INFO:arena:Arena: Generate Sources (0.8s)\n",
      "INFO:arena:Arena: Generate Platform (0.0s)\n",
      "INFO:arena.factory:ArenaFactory: Creating Arena for None (2.03s)\n",
      "WARNING:arena.ocean_field.ocean_source:The requested final time is not part of the subset (requested: [2022-08-21 23:44:24.617045+00:00, 2022-08-26 23:44:24.617045+00:00]). (files: x_range: [-160.0, -105.03997802734375], y_range: [15.0, 40.0], t_range:['2022-08-21 00-00-00', '2022-08-24 21-00-00'])\n",
      "INFO:arena.platform:Platform: Set Dynamics F_x_next Function (0.0s)\n",
      "INFO:arena.platform:Platform: Update Casadi + Dynamics (4.7s)\n",
      "WARNING:arena.ocean_field.ocean_source:The requested final time is not part of the subset (requested: [2022-08-21 23:44:24.617045+00:00, 2022-08-26 23:44:24.617045+00:00]). (files: x_range: [-160.0, -105.03997802734375], y_range: [15.0, 40.0], t_range:['2022-08-21 00-00-00', '2022-08-24 21-00-00'])\n",
      "INFO:arena.controller:HJPlannerBase: Planning because of new forecast (Old: None, New: 0)\n",
      "INFO:arena.controller:HJPlannerBase: Loading new Current Data (2.2s)\n",
      "INFO:arena.controller:HJPlannerBase: Running multi-time-reach-back\n",
      "INFO:arena.controller:HJPlannerBase: hj.solve finished (103.6s)\n",
      "INFO:arena.controller:HJPlannerBase: Re-planning finished (126.2s)\n",
      "INFO:MissionGenerator:Run Hindcast Planner (126.19s)\n",
      "INFO:MissionGenerator:Target created: [-109.87°,25.29°,2022-08-22 23:44:24] (136.4s).\n",
      "INFO:MissionGenerator:Sampling Ratio: 0/43884 = 0.00%\n",
      "WARNING:MissionGenerator:Only 0/2 feasible points available.\n",
      "DEBUG:MissionGenerator:Problem created: Problem [start: [-108.41°,24.00°,2022-08-21 23:44:25], end: [-109.87°,25.29°], target_radius: 0.10, ttr: 33h] (INone, GNone BNone FI0)\n",
      "INFO:MissionGenerator:Generated Batch (138.32s)\n",
      "INFO:MissionGenerator:Batch finished (138.34s)\n"
     ]
    }
   ],
   "source": [
    "results_folder = \"/tmp/missions/\"\n",
    "os.makedirs(results_folder, exist_ok=True)\n",
    "# seed all of them\n",
    "random.seed(batch.batch_seed)\n",
    "all_problems = []\n",
    "for worker in range(options.nMissionGenPerBatch):\n",
    "    mission_generator = MissionGenerator(\n",
    "        config=config\n",
    "        | {\n",
    "            \"seed\": int(random.uniform(0, 1000000)),\n",
    "            \"cache_folder\": results_folder + str(worker) + \"_\",\n",
    "        },\n",
    "        c3=c3,\n",
    "    )\n",
    "    problems, _, _ = mission_generator.cache_batch()\n",
    "    all_problems.extend(problems)\n",
    "\n",
    "# Now upload all of them to the mission database!\n",
    "exp = options.experiment\n",
    "# for idx, problem in enumerate(all_problems):\n",
    "#     try:\n",
    "#         exp.addMission(\n",
    "#             missionConfig=problem.to_c3_mission_config(),\n",
    "#             name=\"batch_seed_\" + str(batch.batch_seed) + \"_\" + str(idx),\n",
    "#         )\n",
    "#     except BaseException:\n",
    "#         print(\"Exception\")\n",
    "#         continue\n",
    "for idx, problem in enumerate(all_problems):\n",
    "    exp.addMission(\n",
    "    missionConfig=problem.to_c3_mission_config(),\n",
    "    name=\"batch_seed_\" + str(batch.batch_seed) + \"_\" + str(idx),\n",
    ")"
   ]
  },
  {
   "cell_type": "code",
   "execution_count": 21,
   "metadata": {},
   "outputs": [
    {
     "name": "stdout",
     "output_type": "stream",
     "text": [
      "3\n",
      "3\n",
      "3\n",
      "[Problem [start: [-131.22°,30.94°,2022-08-21 06:18:34], end: [-129.80°,30.73°], target_radius: 0.10, ttr: 32h] (INone, GNone BNone FI0), Problem [start: [-116.88°,28.28°,2022-08-28 07:14:44], end: [-116.71°,27.83°], target_radius: 0.10, ttr: 25h] (INone, GNone BNone FI0), Problem [start: [-108.41°,24.00°,2022-08-21 23:44:25], end: [-109.87°,25.29°], target_radius: 0.10, ttr: 33h] (INone, GNone BNone FI0)]\n",
      "{'timeout_datetime': '2022-08-22T06:18:33+00:00', 'start_target_distance_deg': 1.230617649351135, 'feasible': False, 'ttr_in_h': 31.59388839898309, 'random': True, 'distance_to_shore_deg': 11.525101142700176, 'x_cache': [-131.8035298868133, -127.8035298868133], 'y_cache': [28.73486010197913, 32.73486010197913], 'factory_seed': 134364, 'factory_index': 0}\n",
      "c3.Mission(\n",
      " id='safety_c3_debug_027_batch_seed_1_0',\n",
      " meta=c3.Meta(fetchInclude='[id,experiment,version]', fetchType='Mission'),\n",
      " version=1,\n",
      " experiment=c3.Experiment(\n",
      "              id='safety_c3_debug_027',\n",
      "              T_horizon_FC_Error_Calculation_in_h=96))\n",
      "c3.Mission(\n",
      " id='safety_c3_debug_027_batch_seed_1_1',\n",
      " meta=c3.Meta(fetchInclude='[id,experiment,version]', fetchType='Mission'),\n",
      " version=1,\n",
      " experiment=c3.Experiment(\n",
      "              id='safety_c3_debug_027',\n",
      "              T_horizon_FC_Error_Calculation_in_h=96))\n",
      "c3.Mission(\n",
      " id='safety_c3_debug_027_batch_seed_1_2',\n",
      " meta=c3.Meta(fetchInclude='[id,experiment,version]', fetchType='Mission'),\n",
      " version=1,\n",
      " experiment=c3.Experiment(\n",
      "              id='safety_c3_debug_027',\n",
      "              T_horizon_FC_Error_Calculation_in_h=96))\n"
     ]
    }
   ],
   "source": [
    "print(options.nMissionGenPerBatch)\n",
    "print(len(all_problems))\n",
    "print(len(exp.get(\"expMissions\").expMissions))\n",
    "print(all_problems)\n",
    "print(all_problems[0].extra_info)\n",
    "for miss in exp.get(\"expMissions\").expMissions:\n",
    "    print(miss)"
   ]
  },
  {
   "cell_type": "markdown",
   "metadata": {},
   "source": [
    "### Start Jobs"
   ]
  },
  {
   "cell_type": "code",
   "execution_count": 73,
   "metadata": {
    "ExecuteTime": {
     "end_time": "2023-02-13T21:49:45.280303Z",
     "start_time": "2023-02-13T21:49:44.912735Z"
    }
   },
   "outputs": [
    {
     "data": {
      "text/plain": [
       "c3.GenMissionBatchJobAndreas(\n",
       " typeIdent='BATCHJ:O_AND_GENMISS_BATCH_JOB',\n",
       " id='acdfb74c-cddc-4f53-8576-19acc9f13968',\n",
       " meta=c3.Meta(\n",
       "        created=datetime.datetime(2023, 2, 23, 7, 36, 1, tzinfo=datetime.timezone.utc),\n",
       "        updated=datetime.datetime(2023, 2, 23, 7, 36, 1, tzinfo=datetime.timezone.utc),\n",
       "        timestamp=datetime.datetime(2023, 2, 23, 7, 36, 1, tzinfo=datetime.timezone.utc)),\n",
       " version=1)"
      ]
     },
     "execution_count": 73,
     "metadata": {},
     "output_type": "execute_result"
    }
   ],
   "source": [
    "gen_mission_job = c3.GenMissionBatchJobAndreas(**{\"options\": options.toJson()}).upsert()\n",
    "# gen_mission_job = c3.GenMissionBatchJob(**{'options': options.toJson()}).upsert()\n",
    "# gen_mission_job.setMaxConcurrency(12)\n",
    "# gen_mission_job.setMaxConcurrencyPerNode(15)\n",
    "gen_mission_job.start()\n",
    "gen_mission_job"
   ]
  },
  {
   "cell_type": "code",
   "execution_count": 94,
   "metadata": {
    "ExecuteTime": {
     "end_time": "2023-02-13T21:57:26.384532Z",
     "start_time": "2023-02-13T21:57:26.284831Z"
    }
   },
   "outputs": [
    {
     "data": {
      "text/plain": [
       "c3.BatchJobStatus(\n",
       " started=datetime.datetime(2023, 2, 23, 7, 36, 2, tzinfo=datetime.timezone.utc),\n",
       " startedby='mariuswiggert@berkeley.edu',\n",
       " status='running',\n",
       " newBatchSubmitted=True)"
      ]
     },
     "execution_count": 94,
     "metadata": {},
     "output_type": "execute_result"
    }
   ],
   "source": [
    "#gen_mission_job = c3.GenMissionBatchJobAndreas.get('17f0e09c-6be1-4ea0-b3c3-e14028764848')\n",
    "gen_mission_job.status()"
   ]
  },
  {
   "cell_type": "code",
   "execution_count": 95,
   "metadata": {
    "ExecuteTime": {
     "end_time": "2023-02-13T21:54:31.647046Z",
     "start_time": "2023-02-13T21:54:31.592611Z"
    }
   },
   "outputs": [
    {
     "data": {
      "text/plain": [
       "c3.BatchJobStatus(\n",
       " started=datetime.datetime(2023, 2, 23, 7, 36, 2, tzinfo=datetime.timezone.utc),\n",
       " startedby='mariuswiggert@berkeley.edu',\n",
       " completed=datetime.datetime(2023, 2, 23, 8, 28, 34, tzinfo=datetime.timezone.utc),\n",
       " status='canceled',\n",
       " newBatchSubmitted=True)"
      ]
     },
     "execution_count": 95,
     "metadata": {},
     "output_type": "execute_result"
    }
   ],
   "source": [
    "gen_mission_job.computingActions()\n",
    "#gen_mission_job.cancel()"
   ]
  },
  {
   "cell_type": "code",
   "execution_count": null,
   "metadata": {},
   "outputs": [],
   "source": [
    "# Other Utils for the cluster\n",
    "c3.Cluster.actionDump()"
   ]
  },
  {
   "cell_type": "markdown",
   "metadata": {},
   "source": []
  },
  {
   "cell_type": "code",
   "execution_count": 22,
   "metadata": {
    "ExecuteTime": {
     "end_time": "2023-02-13T21:55:56.211268Z",
     "start_time": "2023-02-13T21:55:56.167512Z"
    }
   },
   "outputs": [
    {
     "data": {
      "text/plain": [
       "3"
      ]
     },
     "execution_count": 22,
     "metadata": {},
     "output_type": "execute_result"
    }
   ],
   "source": [
    "len(exp.get(\"expMissions\").expMissions)"
   ]
  },
  {
   "cell_type": "code",
   "execution_count": null,
   "metadata": {},
   "outputs": [],
   "source": [
    "gen_mission_job = c3.GenMissionBatchJob.get('eb92b6ed-b529-4260-9efc-16c605b8b32c')\n",
    "gen_mission_job.status()\n",
    "#gen_mission_job.cancel() # to cancel the jobs"
   ]
  },
  {
   "cell_type": "markdown",
   "metadata": {},
   "source": [
    "\n",
    "### Save and load missions from and to experiments instead of generating new ones\n"
   ]
  },
  {
   "cell_type": "code",
   "execution_count": 23,
   "metadata": {
    "ExecuteTime": {
     "end_time": "2023-02-17T01:36:19.756355Z",
     "start_time": "2023-02-17T01:36:19.690827Z"
    }
   },
   "outputs": [
    {
     "data": {
      "text/plain": [
       "{'x_0': [{'lon': -131.21596190355328,\n",
       "   'lat': 30.944006550328623,\n",
       "   'date_time': '2022-08-21T06:18:34+00:00'}],\n",
       " 'x_T': {'lon': -129.8035298868133, 'lat': 30.73486010197913},\n",
       " 'target_radius': 0.1,\n",
       " 'seed': 134364,\n",
       " 'feasible': False,\n",
       " 'ttr_in_h': 31.59388839898309}"
      ]
     },
     "execution_count": 23,
     "metadata": {},
     "output_type": "execute_result"
    }
   ],
   "source": [
    "exp.get(\"expMissions\").expMissions[0].get(\"missionConfig\").missionConfig"
   ]
  },
  {
   "cell_type": "markdown",
   "metadata": {},
   "source": [
    "\n",
    "#### Experiment to take the missions from\n"
   ]
  },
  {
   "cell_type": "code",
   "execution_count": 24,
   "metadata": {
    "ExecuteTime": {
     "end_time": "2023-02-17T01:36:23.744678Z",
     "start_time": "2023-02-17T01:36:23.634807Z"
    }
   },
   "outputs": [],
   "source": [
    "problems = []\n",
    "for miss in exp.get(\"expMissions\").expMissions:\n",
    "    missionConfig = miss.get(\"missionConfig\").missionConfig\n",
    "    problems.append(CachedNavigationProblem.from_c3_mission_config(missionConfig))\n",
    "print(len(problems))"
   ]
  },
  {
   "cell_type": "code",
   "execution_count": 26,
   "metadata": {
    "ExecuteTime": {
     "end_time": "2023-02-17T01:36:25.138967Z",
     "start_time": "2023-02-17T01:36:25.108505Z"
    }
   },
   "outputs": [],
   "source": [
    "results_folder = f\"{os.getcwd()}/\"\n",
    "df = pd.DataFrame([problem.to_dict() for problem in problems])\n",
    "df[\"factory_index\"] = 0\n",
    "df.to_csv(results_folder + \"problems.csv\")"
   ]
  },
  {
   "cell_type": "markdown",
   "metadata": {},
   "source": [
    "\n",
    "##### Make sure you create/select a new experiment where you want to add the retrieved missions to\n"
   ]
  },
  {
   "cell_type": "code",
   "execution_count": 27,
   "metadata": {
    "ExecuteTime": {
     "end_time": "2023-02-17T01:36:29.222018Z",
     "start_time": "2023-02-17T01:36:29.188308Z"
    }
   },
   "outputs": [
    {
     "data": {
      "text/plain": [
       "{'x_0': [{'lon': -108.41400513799742,\n",
       "   'lat': 24.004955021830675,\n",
       "   'date_time': '2022-08-21T23:44:25+00:00'}],\n",
       " 'x_T': {'lon': -109.87193670113257, 'lat': 25.29465783619431},\n",
       " 'target_radius': 0.1,\n",
       " 'seed': 763774,\n",
       " 'feasible': False,\n",
       " 'ttr_in_h': 33.272380705696946}"
      ]
     },
     "execution_count": 27,
     "metadata": {},
     "output_type": "execute_result"
    }
   ],
   "source": [
    "exp\n",
    "missionConfig = miss.get(\"missionConfig\").missionConfig\n",
    "missionConfig"
   ]
  },
  {
   "cell_type": "code",
   "execution_count": 28,
   "metadata": {},
   "outputs": [
    {
     "data": {
      "text/plain": [
       "c3.Experiment(\n",
       " id='safety_c3_debug_027',\n",
       " meta=c3.Meta(\n",
       "        fetchInclude='[experimentName,id,version]',\n",
       "        fetchType='Experiment'),\n",
       " version=1,\n",
       " experimentName='safety_c3_debug_027',\n",
       " T_horizon_FC_Error_Calculation_in_h=96)"
      ]
     },
     "execution_count": 28,
     "metadata": {},
     "output_type": "execute_result"
    }
   ],
   "source": [
    "exp"
   ]
  },
  {
   "cell_type": "code",
   "execution_count": null,
   "metadata": {},
   "outputs": [],
   "source": [
    "exp = c3."
   ]
  },
  {
   "cell_type": "code",
   "execution_count": 29,
   "metadata": {},
   "outputs": [],
   "source": [
    "# Create new experiment and add missions of old experiment to it\n",
    "experiment_name = \"safety_c3_debug_028\"\n",
    "exp = c3.Experiment.createNew(\n",
    "    experimentName=experiment_name,\n",
    "    description=\"test adding mission from other exp\",\n",
    "    arenaConfig=arena_config,\n",
    "    objectiveConfig=objectiveConfig,\n",
    "    timeout_in_sec=3600 * timeout_sim_h,\n",
    ")"
   ]
  },
  {
   "cell_type": "code",
   "execution_count": 30,
   "metadata": {},
   "outputs": [
    {
     "data": {
      "text/plain": [
       "{'x_0': [{'lon': -108.41400513799742,\n",
       "   'lat': 24.004955021830675,\n",
       "   'date_time': '2022-08-21T23:44:25+00:00'}],\n",
       " 'x_T': {'lon': -109.87193670113257, 'lat': 25.29465783619431},\n",
       " 'target_radius': 0.1,\n",
       " 'seed': 763774,\n",
       " 'feasible': False,\n",
       " 'ttr_in_h': 33.272380705696946}"
      ]
     },
     "execution_count": 30,
     "metadata": {},
     "output_type": "execute_result"
    }
   ],
   "source": [
    "problem.to_c3_mission_config()"
   ]
  },
  {
   "cell_type": "code",
   "execution_count": 31,
   "metadata": {
    "ExecuteTime": {
     "end_time": "2023-02-16T22:41:40.189285Z",
     "start_time": "2023-02-16T22:41:39.406311Z"
    }
   },
   "outputs": [],
   "source": [
    "for problem in problems:\n",
    "    exp.addMission(problem.to_c3_mission_config())"
   ]
  },
  {
   "cell_type": "code",
   "execution_count": 32,
   "metadata": {
    "ExecuteTime": {
     "end_time": "2023-02-17T01:36:42.175886Z",
     "start_time": "2023-02-17T01:36:42.129309Z"
    }
   },
   "outputs": [
    {
     "data": {
      "text/plain": [
       "3"
      ]
     },
     "execution_count": 32,
     "metadata": {},
     "output_type": "execute_result"
    }
   ],
   "source": [
    "len(exp.get(\"expMissions\").expMissions)"
   ]
  },
  {
   "cell_type": "code",
   "execution_count": 33,
   "metadata": {},
   "outputs": [
    {
     "data": {
      "text/plain": [
       "c3.Experiment(\n",
       " id='safety_c3_debug_028',\n",
       " meta=c3.Meta(\n",
       "        created=datetime.datetime(2023, 2, 24, 21, 23, 11, tzinfo=datetime.timezone.utc),\n",
       "        updated=datetime.datetime(2023, 2, 24, 21, 23, 11, tzinfo=datetime.timezone.utc),\n",
       "        timestamp=datetime.datetime(2023, 2, 24, 21, 23, 11, tzinfo=datetime.timezone.utc)),\n",
       " version=1,\n",
       " T_horizon_FC_Error_Calculation_in_h=96)"
      ]
     },
     "execution_count": 33,
     "metadata": {},
     "output_type": "execute_result"
    }
   ],
   "source": [
    "exp"
   ]
  },
  {
   "cell_type": "code",
   "execution_count": 56,
   "metadata": {},
   "outputs": [
    {
     "data": {
      "text/plain": [
       "c3.Experiment(\n",
       " id='safety_c3_debug_028',\n",
       " meta=c3.Meta(\n",
       "        created=datetime.datetime(2023, 2, 24, 21, 23, 11, tzinfo=datetime.timezone.utc),\n",
       "        updated=datetime.datetime(2023, 2, 24, 21, 23, 11, tzinfo=datetime.timezone.utc),\n",
       "        timestamp=datetime.datetime(2023, 2, 24, 21, 23, 11, tzinfo=datetime.timezone.utc)),\n",
       " version=1,\n",
       " T_horizon_FC_Error_Calculation_in_h=96)"
      ]
     },
     "execution_count": 56,
     "metadata": {},
     "output_type": "execute_result"
    }
   ],
   "source": [
    "exp"
   ]
  },
  {
   "cell_type": "markdown",
   "metadata": {},
   "source": [
    "## Plot all of them on a map and get distribution information"
   ]
  },
  {
   "cell_type": "code",
   "execution_count": 34,
   "metadata": {
    "ExecuteTime": {
     "end_time": "2023-02-17T01:36:45.268983Z",
     "start_time": "2023-02-17T01:36:44.511132Z"
    }
   },
   "outputs": [
    {
     "name": "stderr",
     "output_type": "stream",
     "text": [
      "/tmp/ipykernel_20733/1315563664.py:31: UserWarning:\n",
      "\n",
      "Matplotlib is currently using module://matplotlib_inline.backend_inline, which is a non-GUI backend, so cannot show the figure.\n",
      "\n"
     ]
    },
    {
     "data": {
      "image/png": "[encoded data removed]",
      "text/plain": [
       "<Figure size 1000x1000 with 1 Axes>"
      ]
     },
     "metadata": {},
     "output_type": "display_data"
    }
   ],
   "source": [
    "import matplotlib.pyplot as plt\n",
    "import cartopy.crs as ccrs\n",
    "import cartopy.feature as cfeature\n",
    "\n",
    "fig = plt.figure(figsize=(10, 10))\n",
    "ax = plt.axes(projection=ccrs.PlateCarree())\n",
    "# ax.set_title(\"Time: \" + datetime.fromtimestamp(time, tz=timezone.utc).strftime('%Y-%m-%d %H:%M:%S UTC'))\n",
    "\n",
    "ax.add_feature(cfeature.LAND, zorder=3, edgecolor=\"black\")\n",
    "ax.add_feature(cfeature.OCEAN, zorder=0)\n",
    "grid_lines = ax.gridlines(draw_labels=True, zorder=5)\n",
    "grid_lines.top_labels = False\n",
    "grid_lines.right_labels = False\n",
    "ax.axis(xmin=config[\"x_range\"][0], xmax=config[\"x_range\"][1])\n",
    "ax.axis(ymin=config[\"y_range\"][0], ymax=config[\"y_range\"][1])\n",
    "# ax.axis(xmin=-160, xmax=-105)\n",
    "#ax.axis(ymin=15, ymax=40)\n",
    "# TODO: adapt Generation runner to use nice plotting\n",
    "for miss_idx in range(len(df)):\n",
    "    ax.scatter(\n",
    "        df.iloc[miss_idx][\"x_0_lon\"],\n",
    "        df.iloc[miss_idx][\"x_0_lat\"],\n",
    "        c=\"red\",\n",
    "        marker=\"o\",\n",
    "        s=6,\n",
    "        label=\"starts\" if miss_idx == 0 else None,\n",
    "    )\n",
    "ax.scatter(df[\"x_T_lon\"], df[\"x_T_lat\"], c=\"green\", marker=\"x\", s=12, label=\"targets\")\n",
    "ax.legend()\n",
    "# ax.get_figure().savefig(f\"{analysis_folder}starts_and_targets.png\")\n",
    "ax.get_figure().show()"
   ]
  },
  {
   "cell_type": "code",
   "execution_count": 36,
   "metadata": {
    "ExecuteTime": {
     "end_time": "2023-02-16T23:09:37.657819Z",
     "start_time": "2023-02-16T23:09:36.780531Z"
    }
   },
   "outputs": [
    {
     "data": {
      "image/png": "[encoded data removed]",
      "text/plain": [
       "<Figure size 640x480 with 1 Axes>"
      ]
     },
     "metadata": {},
     "output_type": "display_data"
    }
   ],
   "source": [
    "GenerationRunner.plot_ttr_histogram(results_folder)\n",
    "# GenerationRunner.plot_starts_and_targets(\n",
    "#     results_folder=results_folder,\n",
    "#     #pb_filename=\"problems.csv\",\n",
    "#     scenario_config=arena_config,\n",
    "# )"
   ]
  },
  {
   "cell_type": "markdown",
   "metadata": {
    "heading_collapsed": true
   },
   "source": [
    "#### Random utils"
   ]
  },
  {
   "cell_type": "code",
   "execution_count": null,
   "metadata": {
    "hidden": true
   },
   "outputs": [],
   "source": [
    "status = \" && status ==\" + '\"' + \"running\" + '\"'\n",
    "all_gen_mission_jobs = c3.GenMissionBatchJobAndreas.fetch(\n",
    "    spec={\n",
    "        \"include\": \"[this]\",\n",
    "    }\n",
    ").objs"
   ]
  },
  {
   "cell_type": "code",
   "execution_count": null,
   "metadata": {
    "hidden": true
   },
   "outputs": [],
   "source": [
    "for job in all_gen_mission_jobs:\n",
    "    if job.get(\"BatchJobStatus\").status().status == \"running\":\n",
    "        print(job.get(\"BatchJobStatus\").status().status)\n",
    "        # job.cancel()\n",
    "        # print(job.get(\"BatchJobStatus\").status().status)"
   ]
  },
  {
   "cell_type": "markdown",
   "metadata": {},
   "source": [
    "# Add Observer"
   ]
  },
  {
   "cell_type": "code",
   "execution_count": 37,
   "metadata": {
    "ExecuteTime": {
     "end_time": "2023-02-16T23:10:14.734013Z",
     "start_time": "2023-02-16T23:10:14.560991Z"
    }
   },
   "outputs": [
    {
     "data": {
      "text/plain": [
       "c3.ObserverSetting(\n",
       " id='safety_c3_debug_028_NoObserver',\n",
       " name='NoObserver',\n",
       " meta=c3.Meta(\n",
       "        created=datetime.datetime(2023, 2, 24, 21, 34, 49, tzinfo=datetime.timezone.utc),\n",
       "        updated=datetime.datetime(2023, 2, 24, 21, 34, 49, tzinfo=datetime.timezone.utc),\n",
       "        timestamp=datetime.datetime(2023, 2, 24, 21, 34, 49, tzinfo=datetime.timezone.utc)),\n",
       " version=1)"
      ]
     },
     "execution_count": 37,
     "metadata": {},
     "output_type": "execute_result"
    }
   ],
   "source": [
    "# Config for No observer\n",
    "observer_config = {\"observer\": None}\n",
    "# add observer\n",
    "exp.addObserver(name=\"NoObserver\", observerConfig=observer_config)"
   ]
  },
  {
   "cell_type": "markdown",
   "metadata": {},
   "source": [
    "# Add Controller"
   ]
  },
  {
   "cell_type": "code",
   "execution_count": 4,
   "metadata": {
    "ExecuteTime": {
     "end_time": "2023-02-16T23:13:53.591348Z",
     "start_time": "2023-02-16T23:13:53.564055Z"
    }
   },
   "outputs": [],
   "source": [
    "# Controller Configs\n",
    "HJMultiTimeConfig = {\n",
    "    \"replan_every_X_seconds\": None,\n",
    "    \"replan_on_new_fmrc\": True,\n",
    "    \"T_goal_in_seconds\": 3600 * timeout_sim_h*1.2,  # 3d, 43200,     # 12h\n",
    "    \"accuracy\": \"high\",\n",
    "    \"artificial_dissipation_scheme\": \"local_local\",\n",
    "    \"ctrl_name\": \"ocean_navigation_simulator.controllers.hj_planners.HJReach2DPlanner.HJReach2DPlanner\",\n",
    "    \"d_max\": 0.0,\n",
    "    \"deg_around_xt_xT_box\": 1.0,\n",
    "    \"direction\": \"multi-time-reach-back\",\n",
    "    \"grid_res\": 0.02,\n",
    "    \"n_time_vector\": 200,\n",
    "    \"progress_bar\": True,\n",
    "    \"use_geographic_coordinate_system\": True,\n",
    "}\n",
    "PassiveFloatConfig = {\n",
    "    \"ctrl_name\": \"ocean_navigation_simulator.controllers.PassiveFloatingController.PassiveFloatingController\",\n",
    "    \"use_geographic_coordinate_system\": True,\n",
    "}\n",
    "\n",
    "\n",
    "# StraightLineConfig = {\n",
    "#     \"ctrl_name\": \"ocean_navigation_simulator.controllers.NaiveController.NaiveController\"\n",
    "# }\n",
    "# flockingConfig = {\n",
    "#     \"unit\": \"km\",\n",
    "#     \"interaction_range\": 9,  # km\n",
    "#     \"grad_clip_range\": 0.1,  # km\n",
    "# }\n",
    "# reactiveConfig = {\n",
    "#     \"unit\": \"m\",\n",
    "#     \"mix_ttr_and_euclidean\": False,\n",
    "#     \"delta_3\": 8800,  # collision threshold (communication - delta_3)\n",
    "#     \"delta_2\": 2000,  # safe zone threshold  ]communication - delta_2, communication - delta_3[\n",
    "#     \"delta_1\": 500,  # small threshold so that if distance > communication_thrsld- delta_1 we try to achieve connectivity\n",
    "#     \"communication_thrsld\": 9000,\n",
    "#     \"k_1\": 0.25,\n",
    "#     \"k_2\": 1,\n",
    "# }"
   ]
  },
  {
   "cell_type": "markdown",
   "metadata": {},
   "source": [
    "#### Add HJ Naive controller"
   ]
  },
  {
   "cell_type": "code",
   "execution_count": 72,
   "metadata": {},
   "outputs": [
    {
     "name": "stdout",
     "output_type": "stream",
     "text": [
      "safety_c3_debug_028\n"
     ]
    },
    {
     "data": {
      "text/plain": [
       "True"
      ]
     },
     "execution_count": 72,
     "metadata": {},
     "output_type": "execute_result"
    }
   ],
   "source": [
    "#PassiveFloatConfig\n",
    "print(exp.experimentName)\n",
    "c3.ControllerSetting.exists({'filter': 'id==' + \"'\" + exp.experimentName + \"_\" + \"hj_naive\" + \"'\"})"
   ]
  },
  {
   "cell_type": "code",
   "execution_count": 68,
   "metadata": {},
   "outputs": [
    {
     "data": {
      "text/plain": [
       "'safety_c3_debug_028'"
      ]
     },
     "execution_count": 68,
     "metadata": {},
     "output_type": "execute_result"
    }
   ],
   "source": [
    "exp.experimentName"
   ]
  },
  {
   "cell_type": "code",
   "execution_count": 69,
   "metadata": {
    "ExecuteTime": {
     "end_time": "2023-02-16T23:13:59.332424Z",
     "start_time": "2023-02-16T23:13:59.220111Z"
    }
   },
   "outputs": [
    {
     "data": {
      "text/plain": [
       "c3.ControllerSetting(\n",
       " id='safety_c3_debug_028_hj_naive',\n",
       " name='hj_naive',\n",
       " meta=c3.Meta(\n",
       "        created=datetime.datetime(2023, 2, 24, 22, 31, 14, tzinfo=datetime.timezone.utc),\n",
       "        updated=datetime.datetime(2023, 2, 24, 22, 31, 14, tzinfo=datetime.timezone.utc),\n",
       "        timestamp=datetime.datetime(2023, 2, 24, 22, 31, 14, tzinfo=datetime.timezone.utc)),\n",
       " version=1)"
      ]
     },
     "execution_count": 69,
     "metadata": {},
     "output_type": "execute_result"
    }
   ],
   "source": [
    "#exp.experimentName = exp.get(\"experiment_name\")\n",
    "# add controller\n",
    "exp.addController(name=\"hj_naive\", ctrlConfig=HJMultiTimeConfig)"
   ]
  },
  {
   "attachments": {},
   "cell_type": "markdown",
   "metadata": {
    "heading_collapsed": true
   },
   "source": [
    "#### Add Floating Controller"
   ]
  },
  {
   "cell_type": "code",
   "execution_count": 70,
   "metadata": {},
   "outputs": [
    {
     "data": {
      "text/plain": [
       "c3.ControllerSetting(\n",
       " id='safety_c3_debug_028_passive_floating',\n",
       " name='passive_floating',\n",
       " meta=c3.Meta(\n",
       "        created=datetime.datetime(2023, 2, 24, 22, 31, 21, tzinfo=datetime.timezone.utc),\n",
       "        updated=datetime.datetime(2023, 2, 24, 22, 31, 21, tzinfo=datetime.timezone.utc),\n",
       "        timestamp=datetime.datetime(2023, 2, 24, 22, 31, 21, tzinfo=datetime.timezone.utc)),\n",
       " version=1)"
      ]
     },
     "execution_count": 70,
     "metadata": {},
     "output_type": "execute_result"
    }
   ],
   "source": [
    "exp.addController(name=\"passive_floating\", ctrlConfig=PassiveFloatConfig)"
   ]
  },
  {
   "cell_type": "markdown",
   "metadata": {},
   "source": [
    "# Set missions to ready to run"
   ]
  },
  {
   "cell_type": "code",
   "execution_count": 73,
   "metadata": {
    "ExecuteTime": {
     "end_time": "2023-02-17T01:36:59.610633Z",
     "start_time": "2023-02-17T01:36:59.562777Z"
    }
   },
   "outputs": [
    {
     "name": "stdout",
     "output_type": "stream",
     "text": [
      "3\n"
     ]
    }
   ],
   "source": [
    "experiment = \"experiment.id==\" + '\"' + exp.id + '\"'\n",
    "status = \" && status==\" + '\"staged_for_feasibility\"'\n",
    "exp_list = c3.Mission.fetch(spec={\"include\": \"[this]\", \"filter\": experiment}).objs\n",
    "print(len(exp_list))"
   ]
  },
  {
   "cell_type": "code",
   "execution_count": 74,
   "metadata": {
    "ExecuteTime": {
     "end_time": "2023-02-16T23:14:29.338991Z",
     "start_time": "2023-02-16T23:14:29.114860Z"
    }
   },
   "outputs": [],
   "source": [
    "for miss in exp_list:\n",
    "    miss.status = \"ready_to_run\"\n",
    "    miss.merge()"
   ]
  },
  {
   "cell_type": "markdown",
   "metadata": {},
   "source": [
    "# Create Ocean Sim Runs"
   ]
  },
  {
   "cell_type": "code",
   "execution_count": 5,
   "metadata": {},
   "outputs": [],
   "source": [
    "experiment_name = \"safety_c3_debug_028\"\n",
    "exp = c3.Experiment.get(experiment_name)"
   ]
  },
  {
   "cell_type": "code",
   "execution_count": 75,
   "metadata": {
    "ExecuteTime": {
     "end_time": "2023-02-16T23:28:32.463372Z",
     "start_time": "2023-02-16T23:28:32.050714Z"
    }
   },
   "outputs": [
    {
     "data": {
      "text/plain": [
       "True"
      ]
     },
     "execution_count": 75,
     "metadata": {},
     "output_type": "execute_result"
    }
   ],
   "source": [
    "# Create the Run objects\n",
    "exp.createOceanSimRuns(obs_name=\"NoObserver\")#ctrl_name=\"safety\""
   ]
  },
  {
   "cell_type": "markdown",
   "metadata": {},
   "source": [
    "## Run simulation debug "
   ]
  },
  {
   "cell_type": "code",
   "execution_count": 6,
   "metadata": {
    "ExecuteTime": {
     "end_time": "2023-02-17T01:37:17.735823Z",
     "start_time": "2023-02-17T01:37:17.675185Z"
    }
   },
   "outputs": [],
   "source": [
    "exp_filter = \"mission.experiment.id==\" + '\"' + exp.experimentName + '\"'\n",
    "runs = c3.OceanSimRun.fetch(\n",
    "    spec={\"include\": \"[this]\", \"filter\": exp_filter, \"order\": \"ascending(mission.id)\", \"limit\": -1}\n",
    ").objs"
   ]
  },
  {
   "cell_type": "code",
   "execution_count": 7,
   "metadata": {
    "ExecuteTime": {
     "end_time": "2023-02-17T01:37:25.348859Z",
     "start_time": "2023-02-17T01:37:25.323281Z"
    }
   },
   "outputs": [
    {
     "name": "stdout",
     "output_type": "stream",
     "text": [
      "6\n",
      "c3.OceanSimRun(\n",
      " id='safety_c3_debug_028_mission_nr_2_passive_floating_NoObserver',\n",
      " meta=c3.Meta(\n",
      "        tenantTagId=32,\n",
      "        tenant='seaweed-control',\n",
      "        tag='devseaweedrc1',\n",
      "        created=datetime.datetime(2023, 2, 24, 22, 35, 51, tzinfo=datetime.timezone.utc),\n",
      "        createdBy='mariuswiggert@berkeley.edu',\n",
      "        updated=datetime.datetime(2023, 2, 25, 0, 6, 54, tzinfo=datetime.timezone.utc),\n",
      "        updatedBy='mariuswiggert@berkeley.edu',\n",
      "        timestamp=datetime.datetime(2023, 2, 25, 0, 6, 54, tzinfo=datetime.timezone.utc),\n",
      "        fetchInclude='[]',\n",
      "        fetchType='OceanSimRun'),\n",
      " version=3,\n",
      " mission=c3.Mission(id='safety_c3_debug_028_mission_nr_2'),\n",
      " controllerSetting=c3.ControllerSetting(\n",
      "                     id='safety_c3_debug_028_passive_floating'),\n",
      " observerSetting=c3.ObserverSetting(id='safety_c3_debug_028_NoObserver'),\n",
      " status='finished_running',\n",
      " terminationReason='Timeout',\n",
      " oceanSimResult=c3.OceanSimResult(\n",
      "                  log_file=c3.AzureFile(\n",
      "                             contentLength=175979,\n",
      "                             contentLocation='fs/seaweed-control/devseaweedrc1/ocean_sim_run_results/safety_c3_debug_028/OceanSimRuns/safety_c3_debug_028_mission_nr_2_passive_floating_NoObserver/logs/safety_c3_debug_028_mission_nr_2_passive_floating_NoObserver.log',\n",
      "                             contentType='application/json',\n",
      "                             eTag='\"0x8DB16C0B85186A0\"',\n",
      "                             lastModified=datetime.datetime(2023, 2, 24, 23, 41, 58, tzinfo=datetime.timezone.utc),\n",
      "                             contentMD5='sKTIT321R6GZf9nfuil0uQ==',\n",
      "                             hasMetadata=True,\n",
      "                             url='azure://dev-rcone/fs/seaweed-control/devseaweedrc1/ocean_sim_run_results/safety_c3_debug_028/OceanSimRuns/safety_c3_debug_028_mission_nr_2_passive_floating_NoObserver/logs/safety_c3_debug_028_mission_nr_2_passive_floating_NoObserver.log',\n",
      "                             blobType='BLOCK_BLOB'),\n",
      "                  trajectories=c3.AzureFile(\n",
      "                                 contentLength=9477,\n",
      "                                 contentLocation='fs/seaweed-control/devseaweedrc1/ocean_sim_run_results/safety_c3_debug_028/OceanSimRuns/safety_c3_debug_028_mission_nr_2_passive_floating_NoObserver/trajs/safety_c3_debug_028_mission_nr_2_passive_floating_NoObserver.obj',\n",
      "                                 contentType='application/json',\n",
      "                                 eTag='\"0x8DB16C0B87EAA2C\"',\n",
      "                                 lastModified=datetime.datetime(2023, 2, 24, 23, 41, 58, tzinfo=datetime.timezone.utc),\n",
      "                                 contentMD5='VwODAy3a2KSTiKzRLEmpMQ==',\n",
      "                                 hasMetadata=True,\n",
      "                                 url='azure://dev-rcone/fs/seaweed-control/devseaweedrc1/ocean_sim_run_results/safety_c3_debug_028/OceanSimRuns/safety_c3_debug_028_mission_nr_2_passive_floating_NoObserver/trajs/safety_c3_debug_028_mission_nr_2_passive_floating_NoObserver.obj',\n",
      "                                 blobType='BLOCK_BLOB'),\n",
      "                  traj_currents_plot_file=c3.AzureFile(\n",
      "                                            contentLength=9697112,\n",
      "                                            contentLocation='fs/seaweed-control/devseaweedrc1/ocean_sim_run_results/safety_c3_debug_028/OceanSimRuns/safety_c3_debug_028_mission_nr_2_passive_floating_NoObserver/logs/current_trajectory_on_map.svg',\n",
      "                                            contentType='application/json',\n",
      "                                            eTag='\"0x8DB16C416F56F31\"',\n",
      "                                            lastModified=datetime.datetime(2023, 2, 25, 0, 6, 5, tzinfo=datetime.timezone.utc),\n",
      "                                            contentMD5='QaG8rv4Naau3+Ie6vJ5NyQ==',\n",
      "                                            hasMetadata=True,\n",
      "                                            url='azure://dev-rcone/fs/seaweed-control/devseaweedrc1/ocean_sim_run_results/safety_c3_debug_028/OceanSimRuns/safety_c3_debug_028_mission_nr_2_passive_floating_NoObserver/logs/current_trajectory_on_map.svg',\n",
      "                                            blobType='BLOCK_BLOB'),\n",
      "                  traj_garbage_plot_file=c3.AzureFile(\n",
      "                                           contentLength=11569021,\n",
      "                                           contentLocation='fs/seaweed-control/devseaweedrc1/ocean_sim_run_results/safety_c3_debug_028/OceanSimRuns/safety_c3_debug_028_mission_nr_2_passive_floating_NoObserver/logs/garbage_trajectory_on_map.svg',\n",
      "                                           contentType='application/json',\n",
      "                                           eTag='\"0x8DB16C4178E153E\"',\n",
      "                                           lastModified=datetime.datetime(2023, 2, 25, 0, 6, 6, tzinfo=datetime.timezone.utc),\n",
      "                                           contentMD5='swIlTetRBCHIO5k5UtK3bA==',\n",
      "                                           hasMetadata=True,\n",
      "                                           url='azure://dev-rcone/fs/seaweed-control/devseaweedrc1/ocean_sim_run_results/safety_c3_debug_028/OceanSimRuns/safety_c3_debug_028_mission_nr_2_passive_floating_NoObserver/logs/garbage_trajectory_on_map.svg',\n",
      "                                           blobType='BLOCK_BLOB'),\n",
      "                  traj_currents_animation_file=c3.AzureFile(\n",
      "                                                 contentLength=348348,\n",
      "                                                 contentLocation='fs/seaweed-control/devseaweedrc1/ocean_sim_run_results/safety_c3_debug_028/OceanSimRuns/safety_c3_debug_028_mission_nr_2_passive_floating_NoObserver/logs/platform_trajectories_currents.gif',\n",
      "                                                 contentType='application/json',\n",
      "                                                 eTag='\"0x8DB16C417BA007A\"',\n",
      "                                                 lastModified=datetime.datetime(2023, 2, 25, 0, 6, 7, tzinfo=datetime.timezone.utc),\n",
      "                                                 contentMD5='/t4+2Tz4LILaSdrb2bcsZw==',\n",
      "                                                 hasMetadata=True,\n",
      "                                                 url='azure://dev-rcone/fs/seaweed-control/devseaweedrc1/ocean_sim_run_results/safety_c3_debug_028/OceanSimRuns/safety_c3_debug_028_mission_nr_2_passive_floating_NoObserver/logs/platform_trajectories_currents.gif',\n",
      "                                                 blobType='BLOCK_BLOB'),\n",
      "                  traj_currents_animation_overlay_file=c3.AzureFile(\n",
      "                                                         contentLength=422250,\n",
      "                                                         contentLocation='fs/seaweed-control/devseaweedrc1/ocean_sim_run_results/safety_c3_debug_028/OceanSimRuns/safety_c3_debug_028_mission_nr_2_passive_floating_NoObserver/logs/platform_trajectories_currents_overlay.gif',\n",
      "                                                         contentType='application/json',\n",
      "                                                         eTag='\"0x8DB16C417DE99D5\"',\n",
      "                                                         lastModified=datetime.datetime(2023, 2, 25, 0, 6, 7, tzinfo=datetime.timezone.utc),\n",
      "                                                         contentMD5='j+eFuhDzNs3Ga3bl6vvI1A==',\n",
      "                                                         hasMetadata=True,\n",
      "                                                         url='azure://dev-rcone/fs/seaweed-control/devseaweedrc1/ocean_sim_run_results/safety_c3_debug_028/OceanSimRuns/safety_c3_debug_028_mission_nr_2_passive_floating_NoObserver/logs/platform_trajectories_currents_overlay.gif',\n",
      "                                                         blobType='BLOCK_BLOB')),\n",
      " minDistanceToTarget=1.69418)\n"
     ]
    }
   ],
   "source": [
    "run = runs[-1] # debug from nicolas\n",
    "print(len(runs))\n",
    "print(run)"
   ]
  },
  {
   "cell_type": "code",
   "execution_count": 29,
   "metadata": {
    "ExecuteTime": {
     "end_time": "2023-02-17T04:34:53.926750Z",
     "start_time": "2023-02-17T04:34:53.869487Z"
    }
   },
   "outputs": [
    {
     "data": {
      "text/plain": [
       "c3.OceanSimRun(\n",
       " id='safety_c3_debug_028_mission_nr_2_hj_naive_NoObserver',\n",
       " meta=c3.Meta(\n",
       "        fetchInclude='[{mission:[missionConfig,{experiment:[timeout_in_sec,arenaConfig,objectiveConfig,id]},id]},{controllerSetting:[ctrlConfig,id]},{observerSetting:[observerConfig,id]},id,version]',\n",
       "        fetchType='OceanSimRun'),\n",
       " version=1,\n",
       " mission=c3.Mission(\n",
       "           id='safety_c3_debug_028_mission_nr_2',\n",
       "           experiment=c3.Experiment(\n",
       "                        id='safety_c3_debug_028',\n",
       "                        arenaConfig={'bathymetry_dict': {'casadi_cache_settings': {'deg_around_x_t': 10},\n",
       "                                                          'distance': {'filepath': 'ocean_navigation_simulator/package_data/bathymetry_and_garbage/bathymetry_distance_res_0.083_0.083_max_elevation_-150.nc',\n",
       "                                                                       'safe_distance': 10},\n",
       "                                                          'field': 'Bathymetry',\n",
       "                                                          'source': 'gebco',\n",
       "                                                          'source_settings': {'filepath': '/home/andy/code/OceanPlatformControl/ocean_navigation_simulator/package_data/bathymetry_and_garbage/bathymetry_global_res_0.083_0.083_max.nc'},\n",
       "                                                          'use_geographic_coordinate_system': True},\n",
       "                                      'casadi_cache_dict': {'deg_around_x_t': 2.0,\n",
       "                                                            'time_around_x_t': 432000},\n",
       "                                      'garbage_dict': {'casadi_cache_settings': {'deg_around_x_t': 10},\n",
       "                                                       'field': 'Garbage',\n",
       "                                                       'source': 'Lebreton',\n",
       "                                                       'source_settings': {'filepath': '/home/andy/code/OceanPlatformControl/ocean_navigation_simulator/package_data/bathymetry_and_garbage/garbage_patch_global_res_0.083_0.083.nc'},\n",
       "                                                       'use_geographic_coordinate_system': True},\n",
       "                                      'ocean_dict': {'forecast': None,\n",
       "                                                     'hindcast': {'field': 'OceanCurrents',\n",
       "                                                                  'source': 'hindcast_files',\n",
       "                                                                  'source_settings': {'currents': 'total',\n",
       "                                                                                      'folder': 'data/miss_gen_hindcast/',\n",
       "                                                                                      'local': False,\n",
       "                                                                                      'source': 'HYCOM',\n",
       "                                                                                      'type': 'hindcast'}},\n",
       "                                                     'region': 'Region 1'},\n",
       "                                      'platform_dict': {'battery_cap_in_wh': 400.0,\n",
       "                                                        'drag_factor': 675.0,\n",
       "                                                        'dt_in_s': 600.0,\n",
       "                                                        'motor_efficiency': 1.0,\n",
       "                                                        'solar_efficiency': 0.2,\n",
       "                                                        'solar_panel_size': 0.5,\n",
       "                                                        'u_max_in_mps': 0.1},\n",
       "                                      'seaweed_dict': {'forecast': None,\n",
       "                                                       'hindcast': None},\n",
       "                                      'solar_dict': {'forecast': None,\n",
       "                                                     'hindcast': None},\n",
       "                                      'spatial_boundary': None,\n",
       "                                      'use_geographic_coordinate_system': True},\n",
       "                        timeout_in_sec=86400,\n",
       "                        objectiveConfig={'type': 'nav'},\n",
       "                        T_horizon_FC_Error_Calculation_in_h=96),\n",
       "           missionConfig={'feasible': False,\n",
       "                           'seed': None,\n",
       "                           'target_radius': 0.1,\n",
       "                           'ttr_in_h': 33.272380705696946,\n",
       "                           'x_0': [{'date_time': '2022-08-21T23:44:25+00:00',\n",
       "                                    'lat': 24.004955021830675,\n",
       "                                    'lon': -108.41400513799742}],\n",
       "                           'x_T': {'lat': 25.29465783619431,\n",
       "                                   'lon': -109.87193670113257}}),\n",
       " controllerSetting=c3.ControllerSetting(\n",
       "                     id='safety_c3_debug_028_hj_naive',\n",
       "                     ctrlConfig={'T_goal_in_seconds': 518400,\n",
       "                                  'accuracy': 'high',\n",
       "                                  'artificial_dissipation_scheme': 'local_local',\n",
       "                                  'ctrl_name': 'ocean_navigation_simulator.controllers.hj_planners.HJReach2DPlanner.HJReach2DPlanner',\n",
       "                                  'd_max': 0.0,\n",
       "                                  'deg_around_xt_xT_box': 1.0,\n",
       "                                  'direction': 'multi-time-reach-back',\n",
       "                                  'grid_res': 0.02,\n",
       "                                  'n_time_vector': 200,\n",
       "                                  'progress_bar': True,\n",
       "                                  'replan_every_X_seconds': None,\n",
       "                                  'replan_on_new_fmrc': True,\n",
       "                                  'use_geographic_coordinate_system': True}),\n",
       " observerSetting=c3.ObserverSetting(\n",
       "                   id='safety_c3_debug_028_NoObserver',\n",
       "                   observerConfig={'observer': None}))"
      ]
     },
     "execution_count": 29,
     "metadata": {},
     "output_type": "execute_result"
    }
   ],
   "source": [
    "# ensure we have all necessary data to run\n",
    "this = runs[-2].get(\n",
    "    \"mission.missionConfig, mission.experiment.timeout_in_sec,\"\n",
    "    + \"mission.experiment.arenaConfig, mission.experiment.objectiveConfig,\"\n",
    "    + \"controllerSetting.ctrlConfig, observerSetting.observerConfig\"\n",
    ")\n",
    "this"
   ]
  },
  {
   "cell_type": "code",
   "execution_count": 30,
   "metadata": {},
   "outputs": [],
   "source": [
    "this.controllerSetting.ctrlConfig[\"T_goal_in_seconds\"] = 1.5*3600*timeout_sim_h"
   ]
  },
  {
   "cell_type": "code",
   "execution_count": 14,
   "metadata": {},
   "outputs": [
    {
     "data": {
      "text/plain": [
       "24"
      ]
     },
     "execution_count": 14,
     "metadata": {},
     "output_type": "execute_result"
    }
   ],
   "source": [
    "timeout_sim_h"
   ]
  },
  {
   "cell_type": "code",
   "execution_count": 31,
   "metadata": {},
   "outputs": [
    {
     "data": {
      "text/plain": [
       "{'replan_every_X_seconds': None,\n",
       " 'replan_on_new_fmrc': True,\n",
       " 'T_goal_in_seconds': 129600.0,\n",
       " 'accuracy': 'high',\n",
       " 'artificial_dissipation_scheme': 'local_local',\n",
       " 'ctrl_name': 'ocean_navigation_simulator.controllers.hj_planners.HJReach2DPlanner.HJReach2DPlanner',\n",
       " 'd_max': 0.0,\n",
       " 'deg_around_xt_xT_box': 1.0,\n",
       " 'direction': 'multi-time-reach-back',\n",
       " 'grid_res': 0.02,\n",
       " 'n_time_vector': 200,\n",
       " 'progress_bar': True,\n",
       " 'use_geographic_coordinate_system': True}"
      ]
     },
     "execution_count": 31,
     "metadata": {},
     "output_type": "execute_result"
    }
   ],
   "source": [
    "this.controllerSetting.ctrlConfig"
   ]
  },
  {
   "cell_type": "code",
   "execution_count": 32,
   "metadata": {},
   "outputs": [],
   "source": [
    "this.controllerSetting.ctrlConfig[\"obstacle_dict\"] = {\n",
    "        \"path_to_obstacle_file\": \"ocean_navigation_simulator/package_data/bathymetry_and_garbage/bathymetry_distance_res_0.083_0.083_max_elevation_-150.nc\",\n",
    "        \"obstacle_value\": 1,\n",
    "        \"safe_distance_to_obstacle\": 10,\n",
    "    }"
   ]
  },
  {
   "cell_type": "code",
   "execution_count": 34,
   "metadata": {},
   "outputs": [
    {
     "data": {
      "text/plain": [
       "{'x_0': [{'lon': -108.41400513799742,\n",
       "   'lat': 24.004955021830675,\n",
       "   'date_time': '2022-08-21T23:44:25+00:00'}],\n",
       " 'x_T': {'lon': -109.87193670113257, 'lat': 25.29465783619431},\n",
       " 'target_radius': 0.1,\n",
       " 'seed': None,\n",
       " 'feasible': False,\n",
       " 'ttr_in_h': 33.272380705696946}"
      ]
     },
     "execution_count": 34,
     "metadata": {},
     "output_type": "execute_result"
    }
   ],
   "source": [
    "missionConfig\n"
   ]
  },
  {
   "cell_type": "code",
   "execution_count": 15,
   "metadata": {
    "ExecuteTime": {
     "end_time": "2023-02-17T04:34:58.135034Z",
     "start_time": "2023-02-17T04:34:58.079386Z"
    }
   },
   "outputs": [
    {
     "data": {
      "text/plain": [
       "c3.OceanSimRun(\n",
       " id='safety_c3_debug_028_mission_nr_1_hj_naive_NoObserver',\n",
       " version=2)"
      ]
     },
     "execution_count": 15,
     "metadata": {},
     "output_type": "execute_result"
    }
   ],
   "source": [
    "# update the entry while it's running\n",
    "new_osr = c3.OceanSimRun(**{\"id\": this.id, \"status\": \"running_sim\"})\n",
    "new_osr.merge()"
   ]
  },
  {
   "cell_type": "code",
   "execution_count": 16,
   "metadata": {
    "ExecuteTime": {
     "end_time": "2023-02-17T04:35:07.522803Z",
     "start_time": "2023-02-17T04:35:07.494328Z"
    }
   },
   "outputs": [],
   "source": [
    "import os\n",
    "import pickle\n",
    "import logging\n",
    "import datetime\n",
    "import numpy as np\n",
    "import wandb\n",
    "import matplotlib.pyplot as plt\n",
    "import pandas as pd\n",
    "import contextlib\n",
    "\n",
    "\n",
    "import ocean_navigation_simulator\n",
    "from ocean_navigation_simulator.environment.ArenaFactory import ArenaFactory\n",
    "from ocean_navigation_simulator.problem_factories.Constructor import Constructor\n",
    "from ocean_navigation_simulator.environment.PlatformState import SpatioTemporalPoint\n",
    "\n",
    "@contextlib.contextmanager\n",
    "def dummy_context_mgr():\n",
    "    yield None"
   ]
  },
  {
   "cell_type": "code",
   "execution_count": 90,
   "metadata": {},
   "outputs": [
    {
     "name": "stdout",
     "output_type": "stream",
     "text": [
      "HJReach2DPlanner\n",
      "HJReach2DPlanner_obs_10km\n"
     ]
    }
   ],
   "source": [
    "# #ctrlConfig = this.controllerSetting.ctrlConfig\n",
    "# ctrlConfig = HJMultiTimeConfig\n",
    "# ctrlConfig[\"obstacle_dict\"]= {\n",
    "#         \"path_to_obstacle_file\": \"ocean_navigation_simulator/package_data/bathymetry_and_garbage/bathymetry_distance_res_0.083_0.083_max_elevation_-150.nc\",\n",
    "#         \"obstacle_value\": 1,\n",
    "#         \"safe_distance_to_obstacle\": 10,\n",
    "#     }\n",
    "# ctrl_name = ctrlConfig[\"ctrl_name\"].split(\".\")[-1]\n",
    "\n",
    "# print(ctrl_name)\n",
    "# # Get controller name\n",
    "# ctrl_name = ctrlConfig[\"ctrl_name\"].split(\".\")[-1]\n",
    "# if \"obstacle_dict\" in ctrlConfig and ctrlConfig[\"obstacle_dict\"] is not None:\n",
    "#     ctrl_name += \"_obs\"\n",
    "#     if \"safe_distance_to_obstacle\" in ctrlConfig[\"obstacle_dict\"]:\n",
    "#         ctrl_name += f'_{int(ctrlConfig[\"obstacle_dict\"][\"safe_distance_to_obstacle\"])}km'\n",
    "# print(ctrl_name)"
   ]
  },
  {
   "cell_type": "code",
   "execution_count": 17,
   "metadata": {
    "ExecuteTime": {
     "end_time": "2023-02-17T04:35:09.558798Z",
     "start_time": "2023-02-17T04:35:08.357698Z"
    }
   },
   "outputs": [
    {
     "name": "stderr",
     "output_type": "stream",
     "text": [
      "ERROR:wandb.jupyter:Failed to detect the name of this notebook, you can set it manually with the WANDB_NOTEBOOK_NAME environment variable to enable code saving.\n",
      "\u001b[34m\u001b[1mwandb\u001b[0m: Currently logged in as: \u001b[33ma-doering\u001b[0m. Use \u001b[1m`wandb login --relogin`\u001b[0m to force relogin\n"
     ]
    },
    {
     "data": {
      "text/html": [
       "Tracking run with wandb version 0.13.10"
      ],
      "text/plain": [
       "<IPython.core.display.HTML object>"
      ]
     },
     "metadata": {},
     "output_type": "display_data"
    },
    {
     "data": {
      "text/html": [
       "Run data is saved locally in <code>/home/andy/code/OceanPlatformControl/wandb/run-20230224_163540-safety_c3_debug_028_mission_nr_1_hj_naive_NoObserver</code>"
      ],
      "text/plain": [
       "<IPython.core.display.HTML object>"
      ]
     },
     "metadata": {},
     "output_type": "display_data"
    },
    {
     "data": {
      "text/html": [
       "Syncing run <strong><a href='https://wandb.ai/a-doering/OceanSafetyTest/runs/safety_c3_debug_028_mission_nr_1_hj_naive_NoObserver' target=\"_blank\">HJReach2DPlanner_HC_days_1.2_u_0.1_region_Region 1_id_safety_c3_debug_028_mission_nr_1_hj_naive_NoObserver</a></strong> to <a href='https://wandb.ai/a-doering/OceanSafetyTest' target=\"_blank\">Weights & Biases</a> (<a href='https://wandb.me/run' target=\"_blank\">docs</a>)<br/>"
      ],
      "text/plain": [
       "<IPython.core.display.HTML object>"
      ]
     },
     "metadata": {},
     "output_type": "display_data"
    },
    {
     "data": {
      "text/html": [
       " View project at <a href='https://wandb.ai/a-doering/OceanSafetyTest' target=\"_blank\">https://wandb.ai/a-doering/OceanSafetyTest</a>"
      ],
      "text/plain": [
       "<IPython.core.display.HTML object>"
      ]
     },
     "metadata": {},
     "output_type": "display_data"
    },
    {
     "data": {
      "text/html": [
       " View run at <a href='https://wandb.ai/a-doering/OceanSafetyTest/runs/safety_c3_debug_028_mission_nr_1_hj_naive_NoObserver' target=\"_blank\">https://wandb.ai/a-doering/OceanSafetyTest/runs/safety_c3_debug_028_mission_nr_1_hj_naive_NoObserver</a>"
      ],
      "text/plain": [
       "<IPython.core.display.HTML object>"
      ]
     },
     "metadata": {},
     "output_type": "display_data"
    }
   ],
   "source": [
    "arenaConfig = this.mission.experiment.arenaConfig\n",
    "arenaConfig[\"timeout\"] = this.mission.experiment.timeout_in_sec\n",
    "to_download_forecast_files = False\n",
    "\n",
    "### Prepare data for wandb ###\n",
    "ctrlConfig = this.controllerSetting.ctrlConfig\n",
    "missionConfig = this.mission.missionConfig\n",
    "observerConfig = this.observerSetting.observerConfig\n",
    "\n",
    "# Prepare variables for run naming\n",
    "# Planning horizon in days\n",
    "\n",
    "T_in_days = ctrlConfig[\"T_goal_in_seconds\"] / (24 * 3600) if \"T_goal_in_seconds\" in ctrlConfig  else 0\n",
    "# Prepare string whether we use only HC or FC/HC\n",
    "if arenaConfig[\"ocean_dict\"][\"forecast\"] is not None:\n",
    "    data_sources = \"FC_HC\"\n",
    "else:\n",
    "    data_sources = \"HC\"\n",
    "\n",
    "umax = arenaConfig[\"platform_dict\"][\"u_max_in_mps\"]\n",
    "\n",
    "# Log metrics in WandB\n",
    "os.environ[\"WANDB_API_KEY\"] = \"8a97299607753ca36a26bec54e0c579f7bd180a4\"\n",
    "region = arenaConfig[\"ocean_dict\"].get(\"region\")\n",
    "\n",
    "# Get controller name\n",
    "ctrl_name = ctrlConfig[\"ctrl_name\"].split(\".\")[-1]\n",
    "if \"obstacle_dict\" in ctrlConfig and ctrlConfig[\"obstacle_dict\"] is not None:\n",
    "    ctrl_name += \"_obs\"\n",
    "    if \"safe_distance_to_obstacle\" in ctrlConfig[\"obstacle_dict\"]:\n",
    "        ctrl_name += f'_{int(ctrlConfig[\"obstacle_dict\"][\"safe_distance_to_obstacle\"])}km'\n",
    "\n",
    "wandb.init(\n",
    "    # Set the project where this run will be logged\n",
    "    project=\"OceanSafetyTest\",\n",
    "    entity=\"a-doering\",\n",
    "    id=this.id,\n",
    "    # We pass a run name (otherwise it’ll be randomly assigned, like sunshine-lollypop-10)\n",
    "    name=f\"{ctrl_name}_{data_sources}_days_{T_in_days}_u_{umax}_region_{region}_id_{this.id}\",\n",
    "    # Track hyperparameters and run metadata\n",
    "    config={\n",
    "        \"missionConfig\": missionConfig,\n",
    "        \"arenaConfig\": arenaConfig,\n",
    "        \"ctrlConfig\": ctrlConfig,\n",
    "        \"observerConfig\": observerConfig,\n",
    "        \"mission.id\": this.mission.id,\n",
    "        \"experiment.id\": this.mission.experiment.id,\n",
    "        # \"path_to_local_data\": user_param[\"metrics_dir\"],\n",
    "    },\n",
    ")\n",
    "\n",
    "# Set up file paths and download folders\n",
    "# create strings for all files and external directories where to save results\n",
    "temp_folder = \"/tmp/\" + this.id + \"/\"\n",
    "# create the folder if it doesn't exist yet\n",
    "if not os.path.isdir(temp_folder):\n",
    "    os.mkdir(temp_folder)\n",
    "log_file_name = this.id + \".log\"\n",
    "logging.basicConfig(\n",
    "    filename=temp_folder + log_file_name, level=logging.DEBUG, force=True\n",
    ")\n",
    "traj_file_name = this.id + \".obj\"\n",
    "extDir = (\n",
    "    \"ocean_sim_run_results/\"\n",
    "    + this.mission.experiment.id\n",
    "    + \"/OceanSimRuns/\"\n",
    "    + this.id\n",
    ")\n",
    "\n",
    "# Safety path replacements\n",
    "filepath = ocean_navigation_simulator.__file__\n",
    "module_path = os.path.dirname(filepath)\n",
    "\n",
    "if (\n",
    "    \"filepath_distance_map\" in missionConfig\n",
    "    and missionConfig[\"filepath_distance_map\"] is not None\n",
    "):\n",
    "    for key in missionConfig[\"filepath_distance_map\"]:\n",
    "        missionConfig[\"filepath_distance_map\"][key] = (\n",
    "            module_path\n",
    "            + missionConfig[\"filepath_distance_map\"][key].split(\n",
    "                \"ocean_navigation_simulator\"\n",
    "            )[-1]\n",
    "        )\n",
    "data_dicts = [\"bathymetry_dict\", \"garbage_dict\"]\n",
    "for d in data_dicts:\n",
    "    if d in arenaConfig and arenaConfig[d] is not None:\n",
    "        arenaConfig[d][\"source_settings\"][\"filepath\"] = (\n",
    "            module_path\n",
    "            + arenaConfig[d][\"source_settings\"][\"filepath\"].split(\n",
    "                \"ocean_navigation_simulator\"\n",
    "            )[-1]\n",
    "        )\n",
    "if (\n",
    "    \"obstacle_dict\" in ctrlConfig\n",
    "    and ctrlConfig[\"obstacle_dict\"] is not None\n",
    "):\n",
    "    ctrlConfig[\"obstacle_dict\"][\"path_to_obstacle_file\"] = (\n",
    "        module_path\n",
    "        + ctrlConfig[\"obstacle_dict\"][\"path_to_obstacle_file\"].split(\n",
    "            \"ocean_navigation_simulator\"\n",
    "        )[-1]\n",
    "    )\n",
    "\n",
    "# for hindcast\n",
    "arenaConfig[\"ocean_dict\"][\"hindcast\"][\"source_settings\"][\"folder\"] = (\n",
    "    \"/tmp/\" + this.id + \"/hindcast_files/\"\n",
    ")\n",
    "# For forecast\n",
    "if arenaConfig[\"ocean_dict\"][\"forecast\"] is not None:\n",
    "    arenaConfig[\"ocean_dict\"][\"forecast\"][\"source_settings\"][\"folder\"] = (\n",
    "        \"/tmp/\" + this.id + \"/forecast_files/\"\n",
    "    )\n",
    "    to_download_forecast_files = (\n",
    "        arenaConfig[\"ocean_dict\"][\"forecast\"][\"source\"] == \"forecast_files\"\n",
    "    )\n",
    "\n",
    "# Prepping the file download\n",
    "point_to_check = SpatioTemporalPoint.from_dict(\n",
    "    this.mission.missionConfig[\"x_0\"][0]\n",
    ")\n",
    "t_interval = [\n",
    "    point_to_check.date_time,\n",
    "    point_to_check.date_time\n",
    "    + datetime.timedelta(\n",
    "        seconds=this.mission.experiment.timeout_in_sec\n",
    "        + arenaConfig[\"casadi_cache_dict\"][\"time_around_x_t\"]\n",
    "        + 7200\n",
    "    ),\n",
    "]\n",
    "arena, controller = None, None"
   ]
  },
  {
   "cell_type": "code",
   "execution_count": 18,
   "metadata": {},
   "outputs": [
    {
     "data": {
      "text/plain": [
       "{'replan_every_X_seconds': None,\n",
       " 'replan_on_new_fmrc': True,\n",
       " 'T_goal_in_seconds': 103680.0,\n",
       " 'accuracy': 'high',\n",
       " 'artificial_dissipation_scheme': 'local_local',\n",
       " 'ctrl_name': 'ocean_navigation_simulator.controllers.hj_planners.HJReach2DPlanner.HJReach2DPlanner',\n",
       " 'd_max': 0.0,\n",
       " 'deg_around_xt_xT_box': 1.0,\n",
       " 'direction': 'multi-time-reach-back',\n",
       " 'grid_res': 0.02,\n",
       " 'n_time_vector': 200,\n",
       " 'progress_bar': True,\n",
       " 'use_geographic_coordinate_system': True}"
      ]
     },
     "execution_count": 18,
     "metadata": {},
     "output_type": "execute_result"
    }
   ],
   "source": [
    "this.controllerSetting.ctrlConfig"
   ]
  },
  {
   "cell_type": "code",
   "execution_count": 19,
   "metadata": {
    "ExecuteTime": {
     "end_time": "2023-02-17T04:36:47.144698Z",
     "start_time": "2023-02-17T04:35:21.806956Z"
    }
   },
   "outputs": [
    {
     "name": "stderr",
     "output_type": "stream",
     "text": [
      "100%|██████████| 7/7 [00:14<00:00,  2.14s/it]\n",
      "100%|##########|  1.0000/1.0 [00:21<00:00, 21.93s/sim_s]\n",
      "/home/andy/miniconda3/envs/ocean_platform/lib/python3.9/site-packages/hj_reachability/dynamics.py:94: UserWarning:\n",
      "\n",
      "x_init is not in the Backwards/Forwards Reachable Set/Tube\n",
      "\n",
      "/home/andy/miniconda3/envs/ocean_platform/lib/python3.9/site-packages/cartopy/mpl/geoaxes.py:1478: UserWarning:\n",
      "\n",
      "No contour levels were found within the data range.\n",
      "\n"
     ]
    },
    {
     "data": {
      "image/png": "[encoded data removed]",
      "text/plain": [
       "<Figure size 1200x1200 with 2 Axes>"
      ]
     },
     "metadata": {},
     "output_type": "display_data"
    }
   ],
   "source": [
    "with (\n",
    "    ArenaFactory.download_files(\n",
    "        config=arenaConfig,\n",
    "        type=\"hindcast\",\n",
    "        t_interval=t_interval,\n",
    "        c3=c3,\n",
    "        points=[point_to_check.to_spatial_point()],\n",
    "    ) as download_hindcast_files_to_local,\n",
    "    ArenaFactory.download_files(\n",
    "        config=arenaConfig,\n",
    "        type=\"forecast\",\n",
    "        t_interval=t_interval,\n",
    "        c3=c3,\n",
    "        points=[point_to_check.to_spatial_point()],\n",
    "    )\n",
    "    if to_download_forecast_files\n",
    "    else dummy_context_mgr() as download_forecast_files_to_local,\n",
    "):\n",
    "    # Step 0: Create Constructor object which contains arena, problem, controller and observer\n",
    "    constructor = Constructor(\n",
    "        arena_conf=arenaConfig,\n",
    "        mission_conf=this.mission.missionConfig,\n",
    "        objective_conf=this.mission.experiment.objectiveConfig,\n",
    "        ctrl_conf=this.controllerSetting.ctrlConfig,\n",
    "        observer_conf=this.observerSetting.observerConfig,\n",
    "    )\n",
    "    # Step 1.1 Retrieve problem\n",
    "    problem = constructor.problem\n",
    "\n",
    "    # Step 1.2: Retrieve arena\n",
    "    arena = constructor.arena\n",
    "    observation = arena.reset(platform_state=problem.start_state)\n",
    "    problem_status = arena.problem_status(problem=problem)\n",
    "\n",
    "    # Step 2: Retrieve Controller\n",
    "    controller = constructor.controller\n",
    "\n",
    "    # Step 2.1\n",
    "    # Log initial reachability snapshot as .jpg and .svg\n",
    "    # need to call controller once before to init. before plot reachability\n",
    "    controller.get_action(observation=observation)\n",
    "    if hasattr(controller, \"plot_reachability_snapshot\"):\n",
    "        ax = controller.plot_reachability_snapshot(\n",
    "            rel_time_in_seconds=0,\n",
    "            granularity_in_h=5,\n",
    "            alpha_color=1,\n",
    "            time_to_reach=True,\n",
    "            fig_size_inches=(12, 12),\n",
    "            plot_in_h=True,\n",
    "            return_ax=True,\n",
    "        )\n",
    "        fig = ax.get_figure()\n",
    "        fig = plt.figure(fig)\n",
    "        plt.savefig(temp_folder + \"reachability_snapshot.svg\")\n",
    "        plt.savefig(temp_folder + \"reachability_snapshot.jpg\", dpi=80)\n",
    "        image_reach = wandb.Image(\n",
    "            temp_folder + \"reachability_snapshot.jpg\",\n",
    "            caption=\"Initial reachability plot\",\n",
    "        )\n",
    "        wandb.log({\"Reachability snapshot\": image_reach}, commit=False)\n",
    "\n",
    "    # Step 3: Retrieve observer\n",
    "    observer = constructor.observer\n",
    "    observer.observe(observation)\n",
    "    observation.forecast_data_source = observer\n",
    "\n",
    "    # Step 4: Run Arena\n",
    "    # Run while problem still open or in garbage\n",
    "    while problem_status == 0 or problem_status == -4:\n",
    "        # Get action\n",
    "        action = controller.get_action(observation=observation)\n",
    "\n",
    "        # execute action\n",
    "        observation = arena.step(action)\n",
    "\n",
    "        # TODO: collect data (e.g. distance to danger)\n",
    "        # Observer data assimilation\n",
    "        observer.observe(observation)\n",
    "        observation.forecast_data_source = observer\n",
    "\n",
    "        # update problem status\n",
    "        problem_status = arena.problem_status(problem=problem)\n",
    "\n",
    "    new_osr.status = \"finished_running\"\n",
    "    new_osr.terminationReason = arena.problem_status_text(problem_status)\n",
    "    if arena.problem_status_text(problem_status) == \"Success\":\n",
    "        new_osr.T_arrival_time = (\n",
    "            arena.state_trajectory[-1, 2] - arena.state_trajectory[0, 2]\n",
    "        ) / 3600\n",
    "    logged_error_message = None\n"
   ]
  },
  {
   "cell_type": "code",
   "execution_count": 20,
   "metadata": {
    "ExecuteTime": {
     "end_time": "2023-02-17T04:37:03.104799Z",
     "start_time": "2023-02-17T04:37:02.393967Z"
    }
   },
   "outputs": [],
   "source": [
    "# Step 4: create the OceanSimResult object with the files and upload it\n",
    "if arena is not None:\n",
    "    # Create a large dict with all trajectory data\n",
    "    trajs_dict = {\n",
    "        \"sim_traj\": arena.state_trajectory,\n",
    "        \"sim_ctrl\": arena.action_trajectory,\n",
    "        # \"metrics\": metrics_dict,\n",
    "    }\n",
    "    if controller is not None:\n",
    "        if len(controller.planned_trajs) > 0:\n",
    "            trajs_dict[\"plans\"] = controller.planned_trajs\n",
    "    with open(temp_folder + traj_file_name, \"wb\") as traj_file:\n",
    "        pickle.dump(trajs_dict, traj_file)\n",
    "\n",
    "    if hasattr(controller, \"plot_reachability_snapshot\"):\n",
    "        # Create value function and reach times\n",
    "        value_fct_file_name = this.id + \"_value_fct.obj\"\n",
    "        reach_times_file_name = this.id + \"_reach_times.obj\"\n",
    "\n",
    "        with open(temp_folder + value_fct_file_name, \"wb\") as value_fct_file:\n",
    "            pickle.dump(\n",
    "                np.array(constructor.controller.all_values), value_fct_file\n",
    "            )\n",
    "\n",
    "        with open(\n",
    "            temp_folder + reach_times_file_name, \"wb\"\n",
    "        ) as reach_times_file:\n",
    "            pickle.dump(\n",
    "                np.array(constructor.controller.reach_times), reach_times_file\n",
    "            )\n",
    "\n",
    "    # Step 4.3 upload the traj_file_name together with the log_file_name to blob storage\n",
    "    # Upload log file\n",
    "    new_osr.oceanSimResult = c3.OceanSimResult()\n",
    "    if os.path.exists(temp_folder + log_file_name):\n",
    "        c3.Client.uploadLocalClientFiles(\n",
    "            temp_folder + log_file_name,\n",
    "            extDir + \"/logs\",\n",
    "            {\"peekForMetadata\": True},\n",
    "        )\n",
    "        log_file = c3.File(\n",
    "            **{\"url\": extDir + \"/logs/\" + log_file_name}\n",
    "        ).readMetadata()\n",
    "        new_osr.oceanSimResult.log_file = log_file\n",
    "        os.remove(temp_folder + log_file_name)\n",
    "\n",
    "    # Upload traj dict file\n",
    "    if os.path.exists(temp_folder + traj_file_name):\n",
    "        c3.Client.uploadLocalClientFiles(\n",
    "            temp_folder + traj_file_name,\n",
    "            extDir + \"/trajs\",\n",
    "            {\"peekForMetadata\": True},\n",
    "        )\n",
    "        trajs_file = c3.File(\n",
    "            **{\"url\": extDir + \"/trajs/\" + traj_file_name}\n",
    "        ).readMetadata()\n",
    "        new_osr.oceanSimResult.trajectories = trajs_file\n",
    "        os.remove(temp_folder + traj_file_name)\n",
    "\n",
    "    # log shortest distance to target\n",
    "    if this.mission.experiment.objectiveConfig[\"type\"] == \"nav\":\n",
    "        new_osr.minDistanceToTarget = arena.final_distance_to_target(\n",
    "            problem=problem\n",
    "        )"
   ]
  },
  {
   "cell_type": "code",
   "execution_count": 21,
   "metadata": {},
   "outputs": [
    {
     "data": {
      "text/plain": [
       "True"
      ]
     },
     "execution_count": 21,
     "metadata": {},
     "output_type": "execute_result"
    }
   ],
   "source": [
    "hasattr(controller, \"plot_reachability_snapshot\")"
   ]
  },
  {
   "cell_type": "code",
   "execution_count": null,
   "metadata": {
    "ExecuteTime": {
     "end_time": "2023-02-17T04:37:31.175248Z",
     "start_time": "2023-02-17T04:37:30.884713Z"
    }
   },
   "outputs": [],
   "source": [
    "# !ls /tmp/safety_c3_debug_017_batch_seed_1_6_hj_naive_NoObserver/\n",
    "# #rm /tmp/safety_c3_debug_017_batch_seed_1_7_hj_naive_NoObserver/current_trajectory_on_map.svg\n",
    "# temp_folder + \"current_trajectory_on_map.svg\""
   ]
  },
  {
   "cell_type": "code",
   "execution_count": 23,
   "metadata": {
    "ExecuteTime": {
     "end_time": "2023-02-17T04:38:01.782514Z",
     "start_time": "2023-02-17T04:37:39.403324Z"
    }
   },
   "outputs": [
    {
     "name": "stderr",
     "output_type": "stream",
     "text": [
      "/home/andy/miniconda3/envs/ocean_platform/lib/python3.9/site-packages/matplotlib/contour.py:1491: UserWarning:\n",
      "\n",
      "Warning: converting a masked element to nan.\n",
      "\n",
      "/home/andy/miniconda3/envs/ocean_platform/lib/python3.9/site-packages/matplotlib/contour.py:1492: UserWarning:\n",
      "\n",
      "Warning: converting a masked element to nan.\n",
      "\n",
      "/home/andy/miniconda3/envs/ocean_platform/lib/python3.9/site-packages/cartopy/mpl/geoaxes.py:1478: UserWarning:\n",
      "\n",
      "No contour levels were found within the data range.\n",
      "\n"
     ]
    },
    {
     "data": {
      "image/png": "[encoded data removed]",
      "text/plain": [
       "<Figure size 600x600 with 2 Axes>"
      ]
     },
     "metadata": {},
     "output_type": "display_data"
    },
    {
     "data": {
      "image/png": "[encoded data removed]",
      "text/plain": [
       "<Figure size 600x600 with 2 Axes>"
      ]
     },
     "metadata": {},
     "output_type": "display_data"
    }
   ],
   "source": [
    "wandb.summary[\"termination_reason\"] = arena.problem_status_text(problem_status)\n",
    "# Log state_trajectory as table/dataframe\n",
    "wandb.log(\n",
    "    {\"data_to_plot\": wandb.Table(dataframe=arena.get_plot_data_for_wandb())},\n",
    "    commit=False,\n",
    ")\n",
    "# Helps to debug to see if there are numerical errors that are global minima.\n",
    "# Does not catch local minima resulting from numerical errors\n",
    "if hasattr(controller, \"plot_reachability_snapshot\"):\n",
    "    wandb.summary[\"value_function_min\"] = np.min(\n",
    "        constructor.controller.all_values\n",
    "    )\n",
    "wandb.summary[\"garbage_sum\"] = np.sum(arena.state_trajectory[:, 5], axis=0)\n",
    "wandb.summary[\"garbage_average\"] = np.mean(arena.state_trajectory[:, 5], axis=0)\n",
    "\n",
    "# Log trajectory plot on currents as .jpg and .svg\n",
    "ax = arena.plot_all_on_map(\n",
    "    problem=problem, background=\"current\", return_ax=True\n",
    ")\n",
    "fig = ax.get_figure()\n",
    "fig = plt.figure(fig)\n",
    "plt.savefig(temp_folder + \"current_trajectory_on_map.svg\")\n",
    "plt.savefig(temp_folder + \"current_trajectory_on_map.jpg\", dpi=80)\n",
    "\n",
    "# Log trajectory plot on garbage as .jpg and .svg\n",
    "(\n",
    "    time_interval,\n",
    "    lat_bnds,\n",
    "    lon_bnds,\n",
    ") = arena.ocean_field.hindcast_data_source.convert_to_x_y_time_bounds(\n",
    "    x_0=problem.start_state.to_spatio_temporal_point(),\n",
    "    x_T=problem.end_region,\n",
    "    deg_around_x0_xT_box=1,\n",
    "    temp_horizon_in_s=3600,\n",
    ")\n",
    "ax = arena.plot_all_on_map(\n",
    "    problem=problem, background=\"currents\", return_ax=True\n",
    ")\n",
    "ax = arena.garbage_source.plot_mask_from_xarray(\n",
    "    xarray=arena.garbage_source.get_data_over_area(\n",
    "        x_interval=lon_bnds, y_interval=lat_bnds\n",
    "    ),\n",
    "    ax=ax,\n",
    ")\n",
    "fig = ax.get_figure()\n",
    "fig = plt.figure(fig)\n",
    "plt.savefig(temp_folder + \"garbage_trajectory_on_map.svg\")\n",
    "plt.savefig(temp_folder + \"garbage_trajectory_on_map.jpg\", dpi=80)\n",
    "\n",
    "# Log reachability we created before arena loop\n",
    "image_currents = wandb.Image(\n",
    "    temp_folder + \"current_trajectory_on_map.jpg\",\n",
    "    caption=\"Current trajectory on map\",\n",
    ")\n",
    "image_garbage = wandb.Image(\n",
    "    temp_folder + \"garbage_trajectory_on_map.jpg\",\n",
    "    caption=\"Garbage trajectory on map\",\n",
    ")\n",
    "wandb.log({\"Current trajectory on map\": image_currents}, commit=False)\n",
    "wandb.log({\"Garbage trajectory on map\": image_garbage}, commit=True)\n",
    "\n",
    "# log trajectory animations\n",
    "arena.animate_trajectory(\n",
    "    margin=0.25,\n",
    "    problem=problem,\n",
    "    temporal_resolution=3600*12,\n",
    "    background=\"current\",\n",
    "    output=f\"{temp_folder}platform_trajectories_currents.gif\",\n",
    "    fps=6,\n",
    ")\n",
    "arena.animate_trajectory(\n",
    "    add_ax_func_ext=arena.add_ax_func_ext_overlay,\n",
    "    margin=0.25,\n",
    "    problem=problem,\n",
    "    temporal_resolution=3600*12,\n",
    "    output=f\"{temp_folder}platform_trajectories_currents_overlay.gif\",\n",
    "    fps=6,\n",
    ")\n",
    "if hasattr(controller, \"plot_reachability_snapshot\"):\n",
    "    controller.plot_reachability_animation(\n",
    "        filename=f\"{temp_folder}reachability_animation.gif\",\n",
    "        temporal_resolution=3600*12,\n",
    "        fps=6,\n",
    "    )\n",
    "\n",
    "### Save files to c3 and add link to WandB\n",
    "traj_currents_plot_file_name = \"current_trajectory_on_map.svg\"\n",
    "traj_garbage_plot_file_name = \"garbage_trajectory_on_map.svg\"\n",
    "reachability_plot_file_name = \"reachability_snapshot.svg\"\n",
    "reachability_animation_file_name = \"reachability_animation.gif\"\n",
    "traj_currents_animation_file_name = \"platform_trajectories_currents.gif\"\n",
    "traj_currents_animation_overlay_file_name = (\n",
    "    \"platform_trajectories_currents_overlay.gif\"\n",
    ")"
   ]
  },
  {
   "cell_type": "code",
   "execution_count": 24,
   "metadata": {
    "ExecuteTime": {
     "end_time": "2023-02-17T04:38:10.506388Z",
     "start_time": "2023-02-17T04:38:08.241984Z"
    }
   },
   "outputs": [],
   "source": [
    "# Save files on c3/ Azure blob storage. All the oceanSimResult elements have to also be created in\n",
    "# OceanSimResult.c3type\n",
    "if hasattr(controller, \"plot_reachability_snapshot\"):\n",
    "    # Add value function\n",
    "    c3.Client.uploadLocalClientFiles(\n",
    "        temp_folder + value_fct_file_name,\n",
    "        extDir + \"/logs\",\n",
    "        {\"peekForMetadata\": True},\n",
    "    )\n",
    "    value_fct_file = c3.File(\n",
    "        **{\"url\": extDir + \"/logs/\" + value_fct_file_name}\n",
    "    ).readMetadata()\n",
    "    new_osr.oceanSimResult.value_fct_file = value_fct_file\n",
    "    os.remove(temp_folder + value_fct_file_name)\n",
    "\n",
    "    # Add reach times array\n",
    "    c3.Client.uploadLocalClientFiles(\n",
    "        temp_folder + reach_times_file_name,\n",
    "        extDir + \"/logs\",\n",
    "        {\"peekForMetadata\": True},\n",
    "    )\n",
    "    reach_times_file = c3.File(\n",
    "        **{\"url\": extDir + \"/logs/\" + reach_times_file_name}\n",
    "    ).readMetadata()\n",
    "    new_osr.oceanSimResult.reach_times_file = reach_times_file\n",
    "    os.remove(temp_folder + reach_times_file_name)\n",
    "\n",
    "    # Add reachability_plot_file_name\n",
    "    c3.Client.uploadLocalClientFiles(\n",
    "        temp_folder + reachability_plot_file_name,\n",
    "        extDir + \"/logs\",\n",
    "        {\"peekForMetadata\": True},\n",
    "    )\n",
    "    reachability_plot_file = c3.File(\n",
    "        **{\"url\": extDir + \"/logs/\" + reachability_plot_file_name}\n",
    "    ).readMetadata()\n",
    "    new_osr.oceanSimResult.reachability_plot_file = reachability_plot_file\n",
    "    os.remove(temp_folder + reachability_plot_file_name)\n",
    "\n",
    "    # Add reachability_animation_file_name\n",
    "    c3.Client.uploadLocalClientFiles(\n",
    "        temp_folder + reachability_animation_file_name,\n",
    "        extDir + \"/logs\",\n",
    "        {\"peekForMetadata\": True},\n",
    "    )\n",
    "    reachability_animation_file = c3.File(\n",
    "        **{\"url\": extDir + \"/logs/\" + reachability_animation_file_name}\n",
    "    ).readMetadata()\n",
    "    new_osr.oceanSimResult.reachability_animation_file = (\n",
    "        reachability_animation_file\n",
    "    )\n",
    "    os.remove(temp_folder + reachability_animation_file_name)\n",
    "\n",
    "# Add traj_currents_plot_file_name\n",
    "c3.Client.uploadLocalClientFiles(\n",
    "    temp_folder + traj_currents_plot_file_name,\n",
    "    extDir + \"/logs\",\n",
    "    {\"peekForMetadata\": True},\n",
    ")\n",
    "traj_currents_plot_file = c3.File(\n",
    "    **{\"url\": extDir + \"/logs/\" + traj_currents_plot_file_name}\n",
    ").readMetadata()\n",
    "new_osr.oceanSimResult.traj_currents_plot_file = traj_currents_plot_file\n",
    "os.remove(temp_folder + traj_currents_plot_file_name)\n",
    "\n",
    "# Add traj_garbage_plot_file_name\n",
    "c3.Client.uploadLocalClientFiles(\n",
    "    temp_folder + traj_garbage_plot_file_name,\n",
    "    extDir + \"/logs\",\n",
    "    {\"peekForMetadata\": True},\n",
    ")\n",
    "traj_garbage_plot_file = c3.File(\n",
    "    **{\"url\": extDir + \"/logs/\" + traj_garbage_plot_file_name}\n",
    ").readMetadata()\n",
    "new_osr.oceanSimResult.traj_garbage_plot_file = traj_garbage_plot_file\n",
    "os.remove(temp_folder + traj_garbage_plot_file_name)\n",
    "\n",
    "# Add traj_currents_animation_file_name\n",
    "c3.Client.uploadLocalClientFiles(\n",
    "    temp_folder + traj_currents_animation_file_name,\n",
    "    extDir + \"/logs\",\n",
    "    {\"peekForMetadata\": True},\n",
    ")\n",
    "traj_currents_animation_file = c3.File(\n",
    "    **{\"url\": extDir + \"/logs/\" + traj_currents_animation_file_name}\n",
    ").readMetadata()\n",
    "new_osr.oceanSimResult.traj_currents_animation_file = (\n",
    "    traj_currents_animation_file\n",
    ")\n",
    "os.remove(temp_folder + traj_currents_animation_file_name)\n",
    "\n",
    "# Add traj_currents_animation_overlay_file_name\n",
    "c3.Client.uploadLocalClientFiles(\n",
    "    temp_folder + traj_currents_animation_overlay_file_name,\n",
    "    extDir + \"/logs\",\n",
    "    {\"peekForMetadata\": True},\n",
    ")\n",
    "traj_currents_animation_overlay_file = c3.File(\n",
    "    **{\"url\": extDir + \"/logs/\" + traj_currents_animation_overlay_file_name}\n",
    ").readMetadata()\n",
    "new_osr.oceanSimResult.traj_currents_animation_overlay_file = (\n",
    "    traj_currents_animation_overlay_file\n",
    ")\n",
    "os.remove(temp_folder + traj_currents_animation_overlay_file_name)\n",
    "\n",
    "# Log file urls (links to azure) to wandb summary\n",
    "if hasattr(controller, \"plot_reachability_snapshot\"):\n",
    "    wandb.summary[\"value_fct_array\"] = value_fct_file.generatePresignedUrl(\n",
    "        \"GET\", \"600d\"\n",
    "    )\n",
    "    wandb.summary[\"reach_times_array\"] = reach_times_file.generatePresignedUrl(\n",
    "        \"GET\", \"600d\"\n",
    "    )\n",
    "    wandb.summary[\n",
    "        \"reachability_plot_svg\"\n",
    "    ] = reachability_plot_file.generatePresignedUrl(\"GET\", \"600d\")\n",
    "    wandb.summary[\n",
    "        \"reachability_animation\"\n",
    "    ] = reachability_animation_file.generatePresignedUrl(\"GET\", \"600d\")\n",
    "\n",
    "wandb.summary[\n",
    "    \"traj_current_plot_svg\"\n",
    "] = traj_currents_plot_file.generatePresignedUrl(\"GET\", \"600d\")\n",
    "wandb.summary[\n",
    "    \"traj_garbage_plot_svg\"\n",
    "] = traj_garbage_plot_file.generatePresignedUrl(\"GET\", \"600d\")\n",
    "wandb.summary[\n",
    "    \"traj_currents_animation\"\n",
    "] = traj_currents_animation_file.generatePresignedUrl(\"GET\", \"600d\")\n",
    "wandb.summary[\n",
    "    \"traj_currents_animation_overlay\"\n",
    "] = traj_currents_animation_overlay_file.generatePresignedUrl(\"GET\", \"600d\")\n",
    "\n",
    "if os.path.exists(temp_folder + log_file_name):\n",
    "    wandb.summary[\"log_file\"] = log_file.generatePresignedUrl(\"GET\", \"600d\")\n"
   ]
  },
  {
   "cell_type": "code",
   "execution_count": 27,
   "metadata": {
    "ExecuteTime": {
     "end_time": "2023-02-17T03:34:57.161304Z",
     "start_time": "2023-02-17T03:34:56.879042Z"
    }
   },
   "outputs": [
    {
     "name": "stdout",
     "output_type": "stream",
     "text": [
      "ls: cannot access '/tmp/safety_c3_debug_017_batch_seed_1_7_hj_naive_NoObserver/': No such file or directory\n",
      "total 2712\n",
      "drwxrwxr-x 14 andy andy   4096 Feb 22 19:14 .\n",
      "drwxr-xr-x 47 andy andy   4096 Feb  3 09:17 ..\n",
      "-rw-rw-r--  1 andy andy 484366 Jan 31 01:01 1.png\n",
      "-rw-rw-r--  1 andy andy 516325 Jan 31 01:01 2.png\n",
      "-rw-rw-r--  1 andy andy 541432 Jan 31 01:01 3.png\n",
      "-rw-rw-r--  1 andy andy 558138 Jan 31 01:01 4.png\n",
      "-rw-rw-r--  1 andy andy 562768 Jan 31 01:15 5.png\n",
      "drwxrwxr-x  2 andy andy   4096 Feb  6 21:40 analysis\n",
      "drwxrwxr-x  5 andy andy   4096 Jan 30 14:37 config\n",
      "drwxrwxr-x 23 andy andy   4096 Feb 21 13:28 data\n",
      "-rw-rw-r--  1 andy andy    658 Jan 11 13:01 .flake8\n",
      "drwxrwxr-x 36 andy andy   4096 Feb 24 17:09 generated_media\n",
      "drwxrwxr-x  8 andy andy   4096 Feb 24 17:36 .git\n",
      "-rw-rw-r--  1 andy andy    273 Feb 20 14:58 .gitignore\n",
      "-rw-rw-r--  1 andy andy   1074 Aug 30 20:06 LICENSE\n",
      "-rw-rw-r--  1 andy andy      0 Sep 13 15:48 logfile.log\n",
      "-rw-rw-r--  1 andy andy    911 Dec 16 15:31 Makefile\n",
      "-rw-rw-r--  1 andy andy     75 Feb 14 17:05 MANIFEST.in\n",
      "drwxrwxr-x 15 andy andy   4096 Feb 21 14:05 ocean_navigation_simulator\n",
      "drwxrwxr-x  2 andy andy   4096 Sep 22 17:11 ocean_navigation_simulator.egg-info\n",
      "-rw-rw-r--  1 andy andy    488 Feb 24 13:20 problems.csv\n",
      "-rw-rw-r--  1 andy andy    754 Jan 11 13:01 pyproject.toml\n",
      "-rw-rw-r--  1 andy andy   7025 Dec 16 15:31 README.md\n",
      "drwxrwxr-x  8 andy andy   4096 Feb 14 17:05 scripts\n",
      "drwxrwxr-x  4 andy andy   4096 Feb 14 17:05 setup\n",
      "-rw-rw-r--  1 andy andy   1770 Jan 11 13:01 setup.py\n",
      "drwxrwxr-x  3 andy andy   4096 Dec 16 15:31 tests\n",
      "drwxrwxr-x  2 andy andy   4096 Feb  6 20:03 .vscode\n",
      "drwxrwxr-x  8 andy andy   4096 Feb 24 16:35 wandb\n"
     ]
    },
    {
     "data": {
      "text/plain": [
       "'/tmp/safety_c3_debug_028_mission_nr_1_hj_naive_NoObserver/'"
      ]
     },
     "execution_count": 27,
     "metadata": {},
     "output_type": "execute_result"
    }
   ],
   "source": [
    "!ls /tmp/safety_c3_debug_017_batch_seed_1_7_hj_naive_NoObserver/\n",
    "!ls -al \n",
    "temp_folder\n"
   ]
  },
  {
   "cell_type": "code",
   "execution_count": 25,
   "metadata": {
    "ExecuteTime": {
     "end_time": "2023-02-17T04:40:19.290197Z",
     "start_time": "2023-02-17T04:40:14.677726Z"
    }
   },
   "outputs": [
    {
     "data": {
      "text/html": [
       "Waiting for W&B process to finish... <strong style=\"color:green\">(success).</strong>"
      ],
      "text/plain": [
       "<IPython.core.display.HTML object>"
      ]
     },
     "metadata": {},
     "output_type": "display_data"
    },
    {
     "name": "stderr",
     "output_type": "stream",
     "text": [
      "Exception in thread SystemMonitor:\n",
      "Traceback (most recent call last):\n",
      "  File \"/home/andy/miniconda3/envs/ocean_platform/lib/python3.9/threading.py\", line 980, in _bootstrap_inner\n",
      "    self.run()\n",
      "  File \"/home/andy/miniconda3/envs/ocean_platform/lib/python3.9/threading.py\", line 917, in run\n",
      "    self._target(*self._args, **self._kwargs)\n",
      "  File \"/home/andy/miniconda3/envs/ocean_platform/lib/python3.9/site-packages/wandb/sdk/internal/system/system_monitor.py\", line 118, in _start\n",
      "    asset.start()\n",
      "  File \"/home/andy/miniconda3/envs/ocean_platform/lib/python3.9/site-packages/wandb/sdk/internal/system/assets/cpu.py\", line 166, in start\n",
      "    self.metrics_monitor.start()\n",
      "  File \"/home/andy/miniconda3/envs/ocean_platform/lib/python3.9/site-packages/wandb/sdk/internal/system/assets/interfaces.py\", line 168, in start\n",
      "    logger.info(f\"Started {self._process.name}\")\n",
      "AttributeError: 'NoneType' object has no attribute 'name'\n"
     ]
    },
    {
     "data": {
      "text/html": [
       "<style>\n",
       "    table.wandb td:nth-child(1) { padding: 0 10px; text-align: left ; width: auto;} td:nth-child(2) {text-align: left ; width: 100%}\n",
       "    .wandb-row { display: flex; flex-direction: row; flex-wrap: wrap; justify-content: flex-start; width: 100% }\n",
       "    .wandb-col { display: flex; flex-direction: column; flex-basis: 100%; flex: 1; padding: 10px; }\n",
       "    </style>\n",
       "<div class=\"wandb-row\"><div class=\"wandb-col\"><h3>Run summary:</h3><br/><table class=\"wandb\"><tr><td>garbage_average</td><td>0.0</td></tr><tr><td>garbage_sum</td><td>0.0</td></tr><tr><td>reach_times_array</td><td>https://devrconestor...</td></tr><tr><td>reachability_plot_svg</td><td>https://devrconestor...</td></tr><tr><td>termination_reason</td><td>Timeout</td></tr><tr><td>traj_current_plot_svg</td><td>https://devrconestor...</td></tr><tr><td>traj_currents_animation</td><td>https://devrconestor...</td></tr><tr><td>value_fct_array</td><td>https://devrconestor...</td></tr><tr><td>value_function_min</td><td>-1.0</td></tr></table><br/></div></div>"
      ],
      "text/plain": [
       "<IPython.core.display.HTML object>"
      ]
     },
     "metadata": {},
     "output_type": "display_data"
    },
    {
     "data": {
      "text/html": [
       " View run <strong style=\"color:#cdcd00\">HJReach2DPlanner_HC_days_1.2_u_0.1_region_Region 1_id_safety_c3_debug_028_mission_nr_1_hj_naive_NoObserver</strong> at: <a href='https://wandb.ai/a-doering/OceanSafetyTest/runs/safety_c3_debug_028_mission_nr_1_hj_naive_NoObserver' target=\"_blank\">https://wandb.ai/a-doering/OceanSafetyTest/runs/safety_c3_debug_028_mission_nr_1_hj_naive_NoObserver</a><br/>Synced 6 W&B file(s), 7 media file(s), 1 artifact file(s) and 0 other file(s)"
      ],
      "text/plain": [
       "<IPython.core.display.HTML object>"
      ]
     },
     "metadata": {},
     "output_type": "display_data"
    },
    {
     "data": {
      "text/html": [
       "Find logs at: <code>./wandb/run-20230224_163540-safety_c3_debug_028_mission_nr_1_hj_naive_NoObserver/logs</code>"
      ],
      "text/plain": [
       "<IPython.core.display.HTML object>"
      ]
     },
     "metadata": {},
     "output_type": "display_data"
    }
   ],
   "source": [
    "wandb.finish()"
   ]
  },
  {
   "cell_type": "code",
   "execution_count": 26,
   "metadata": {
    "ExecuteTime": {
     "end_time": "2023-02-17T04:41:14.901245Z",
     "start_time": "2023-02-17T04:41:14.761191Z"
    }
   },
   "outputs": [
    {
     "data": {
      "text/plain": [
       "c3.OceanSimRun(\n",
       " id='safety_c3_debug_028_mission_nr_1_hj_naive_NoObserver',\n",
       " version=3)"
      ]
     },
     "execution_count": 26,
     "metadata": {},
     "output_type": "execute_result"
    }
   ],
   "source": [
    "if new_osr.oceanSimResult is None:\n",
    "    new_osr.oceanSimResult = c3.OceanSimResult(\n",
    "        **{\"error_message\": logged_error_message}\n",
    "    )\n",
    "else:\n",
    "    new_osr.oceanSimResult.error_message = logged_error_message\n",
    "\n",
    "new_osr.merge()"
   ]
  },
  {
   "cell_type": "code",
   "execution_count": null,
   "metadata": {
    "ExecuteTime": {
     "end_time": "2023-02-17T04:41:35.500301Z",
     "start_time": "2023-02-17T04:41:35.473374Z"
    }
   },
   "outputs": [],
   "source": [
    "new_osr.oceanSimResult"
   ]
  },
  {
   "cell_type": "code",
   "execution_count": null,
   "metadata": {},
   "outputs": [],
   "source": [
    "ax = controller.plot_reachability_snapshot(\n",
    "    rel_time_in_seconds=0,\n",
    "    granularity_in_h=5,\n",
    "    alpha_color=1,\n",
    "    time_to_reach=True,\n",
    "    fig_size_inches=(12, 12),\n",
    "    plot_in_h=True,\n",
    "    return_ax=True,\n",
    ")"
   ]
  },
  {
   "cell_type": "code",
   "execution_count": null,
   "metadata": {},
   "outputs": [],
   "source": [
    "wandb.finish()"
   ]
  },
  {
   "cell_type": "code",
   "execution_count": null,
   "metadata": {},
   "outputs": [],
   "source": [
    "ax = arena.plot_all_on_map(\n",
    "    problem=problem,\n",
    "    show_control_trajectory=False,\n",
    "    return_ax=True,\n",
    ")"
   ]
  },
  {
   "cell_type": "code",
   "execution_count": null,
   "metadata": {},
   "outputs": [],
   "source": [
    "arena.animate_trajectory(\n",
    "    margin=0.25,\n",
    "    problem=problem,\n",
    "    temporal_resolution=7200,\n",
    "    background=\"current\",\n",
    "    output=f\"{temp_folder}platform_trajectories.mp4\",\n",
    "    fps=10,\n",
    ")"
   ]
  },
  {
   "cell_type": "markdown",
   "metadata": {},
   "source": [
    "# Run Simulation"
   ]
  },
  {
   "cell_type": "code",
   "execution_count": null,
   "metadata": {},
   "outputs": [],
   "source": [
    "# Create the Experiment Batch Job Options\n",
    "options = c3.OceanSimRunBatchJobOptions(\n",
    "    **{\n",
    "        \"experiment\": exp,\n",
    "        \"actionRuntime\": \"andreas\",  # enum('marius', 'andreas', 'matthias', 'nicolas')\n",
    "    }\n",
    ")"
   ]
  },
  {
   "cell_type": "code",
   "execution_count": null,
   "metadata": {},
   "outputs": [],
   "source": [
    "# Start the Batch Job\n",
    "run_job = c3.OceanSimRunBatchJob(**{\"options\": options.toJson()}).upsert()\n",
    "# run_job.numAutoRecoveryAttempts = 1\n",
    "run_job.start()\n",
    "run_job"
   ]
  },
  {
   "cell_type": "code",
   "execution_count": null,
   "metadata": {},
   "outputs": [],
   "source": [
    "# run_job = c3.OceanSimRunBatchJob.get('03b44bae-1a6e-4fa1-b07e-d906b48b84bf')\n",
    "run_job.status()"
   ]
  },
  {
   "cell_type": "code",
   "execution_count": null,
   "metadata": {},
   "outputs": [],
   "source": [
    "experiment = \"mission.experiment.id==\" + '\"' + exp.id + '\"'\n",
    "objs_list = c3.OceanSimRun.fetch(spec={\"include\": \"[this]\", \"filter\": experiment}).objs\n",
    "print(\"Total of {} OceanSimRuns\".format(len(objs_list)))\n",
    "\n",
    "staged_to_run = 0\n",
    "running_sim = 0\n",
    "finished_running = 0\n",
    "run_failed = 0\n",
    "for run in objs_list:\n",
    "    if run.status == \"staged_to_run\":\n",
    "        staged_to_run += 1\n",
    "    elif run.status == \"running_sim\":\n",
    "        running_sim += 1\n",
    "    elif run.status == \"finished_running\":\n",
    "        finished_running += 1\n",
    "    elif run.status == \"run_failed\":\n",
    "        run_failed += 1\n",
    "\n",
    "print(\"staged_to_run: \", staged_to_run)\n",
    "print(\"running_sim: \", running_sim)\n",
    "print(\"finished_running: \", finished_running)\n",
    "print(\"run_failed: \", run_failed)"
   ]
  },
  {
   "cell_type": "code",
   "execution_count": 50,
   "metadata": {},
   "outputs": [
    {
     "ename": "NameError",
     "evalue": "name 'run' is not defined",
     "output_type": "error",
     "traceback": [
      "\u001b[0;31m---------------------------------------------------------------------------\u001b[0m",
      "\u001b[0;31mNameError\u001b[0m                                 Traceback (most recent call last)",
      "Cell \u001b[0;32mIn [50], line 1\u001b[0m\n\u001b[0;32m----> 1\u001b[0m run\u001b[39m.\u001b[39mactionDump()\n",
      "\u001b[0;31mNameError\u001b[0m: name 'run' is not defined"
     ]
    }
   ],
   "source": [
    "run.actionDump()"
   ]
  },
  {
   "cell_type": "code",
   "execution_count": null,
   "metadata": {},
   "outputs": [],
   "source": [
    "exp_filter = \"mission.experiment.id==\" + '\"' + exp.get(\"experimentName\").experimentName + '\"'\n",
    "all_exp_runs = c3.OceanSimRun.fetch(\n",
    "    spec={\"include\": \"[this]\", \"filter\": exp_filter, \"order\": \"ascending(mission.id)\", \"limit\": -1}\n",
    ").objs"
   ]
  },
  {
   "cell_type": "code",
   "execution_count": null,
   "metadata": {},
   "outputs": [],
   "source": [
    "all_exp_runs"
   ]
  },
  {
   "cell_type": "code",
   "execution_count": null,
   "metadata": {},
   "outputs": [],
   "source": [
    "import pandas as pd\n",
    "\n",
    "\n",
    "def get_results_df(this):\n",
    "    # get all runs from the database (NOTE this can only get 2000 at a time!)\n",
    "    exp_filter = \"mission.experiment.id==\" + '\"' + this.get(\"experimentName\").experimentName + '\"'\n",
    "    all_exp_runs = c3.OceanSimRun.fetch(\n",
    "        spec={\n",
    "            \"include\": \"[this]\",\n",
    "            \"filter\": exp_filter,\n",
    "            \"order\": \"ascending(mission.id)\",\n",
    "            \"limit\": -1,\n",
    "        }\n",
    "    ).objs\n",
    "    # get a list of all termination reasons\n",
    "    termination_reason = []\n",
    "    status = []\n",
    "    arrival_time = []\n",
    "    minDistanceToTarget = []\n",
    "    ctrl_obs_name = []\n",
    "    mission_ids = []\n",
    "\n",
    "    for run in all_exp_runs:\n",
    "        # get mission_id\n",
    "        mission_ids.append(run.get(\"mission\").mission.id)\n",
    "        # get ctrl_obs setting\n",
    "        ctrl_obs_name.append(\n",
    "            run.get(\"controllerSetting.name\").controllerSetting.name\n",
    "            + \"__\"\n",
    "            + run.get(\"observerSetting.name\").observerSetting.name\n",
    "        )\n",
    "        # add outcomes\n",
    "        termination_reason.append(run.terminationReason)\n",
    "        status.append(run.status)\n",
    "        arrival_time.append(run.T_arrival_time)\n",
    "        minDistanceToTarget.append(run.minDistanceToTarget)\n",
    "\n",
    "    # Make a df out of it\n",
    "    df = pd.DataFrame(\n",
    "        list(\n",
    "            zip(\n",
    "                mission_ids,\n",
    "                ctrl_obs_name,\n",
    "                status,\n",
    "                termination_reason,\n",
    "                arrival_time,\n",
    "                minDistanceToTarget,\n",
    "            )\n",
    "        ),\n",
    "        columns=[\n",
    "            \"mission_id\",\n",
    "            \"setting\",\n",
    "            \"status\",\n",
    "            \"termination_reason\",\n",
    "            \"arrival_time\",\n",
    "            \"minDistance\",\n",
    "        ],\n",
    "    )\n",
    "\n",
    "    return df"
   ]
  },
  {
   "cell_type": "code",
   "execution_count": null,
   "metadata": {},
   "outputs": [],
   "source": [
    "df = get_results_df(exp)"
   ]
  },
  {
   "cell_type": "code",
   "execution_count": null,
   "metadata": {},
   "outputs": [],
   "source": [
    "df"
   ]
  }
 ],
 "metadata": {
  "has_local_update": false,
  "is_local": true,
  "is_remote": true,
  "kernelspec": {
   "display_name": "ocean_platform",
   "language": "python",
   "name": "python3"
  },
  "language_info": {
   "codemirror_mode": {
    "name": "ipython",
    "version": 3
   },
   "file_extension": ".py",
   "mimetype": "text/x-python",
   "name": "python",
   "nbconvert_exporter": "python",
   "pygments_lexer": "ipython3",
   "version": "3.9.15"
  },
  "last_sync_time": "2023-02-17T19:21:44.012456",
  "vscode": {
   "interpreter": {
    "hash": "0e68e1188560e0264452509f800ed9cbe968b82eeca5d5a7e494819bbb829a34"
   }
  }
 },
 "nbformat": 4,
 "nbformat_minor": 2
}
