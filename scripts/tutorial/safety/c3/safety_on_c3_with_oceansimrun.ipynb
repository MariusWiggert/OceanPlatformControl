{
 "cells": [
  {
   "cell_type": "markdown",
   "metadata": {},
   "source": [
    "### Imports"
   ]
  },
  {
   "cell_type": "code",
   "execution_count": 1,
   "metadata": {
    "ExecuteTime": {
     "end_time": "2023-02-17T01:35:39.035518Z",
     "start_time": "2023-02-17T01:35:35.405916Z"
    }
   },
   "outputs": [
    {
     "name": "stderr",
     "output_type": "stream",
     "text": [
      "<frozen importlib._bootstrap>:228: RuntimeWarning: scipy._lib.messagestream.MessageStream size changed, may indicate binary incompatibility. Expected 56 from C header, got 64 from PyObject\n"
     ]
    }
   ],
   "source": [
    "import os\n",
    "import datetime\n",
    "import logging\n",
    "import random\n",
    "\n",
    "import matplotlib.pyplot as plt\n",
    "import numpy as np\n",
    "import pandas as pd\n",
    "import xarray as xr\n",
    "\n",
    "\n",
    "import ocean_navigation_simulator\n",
    "from ocean_navigation_simulator.environment.PlatformState import (\n",
    "    PlatformState,\n",
    "    SpatialPoint,\n",
    ")\n",
    "from ocean_navigation_simulator.reinforcement_learning.missions.MissionGenerator import (\n",
    "    MissionGenerator,\n",
    ")\n",
    "from ocean_navigation_simulator.reinforcement_learning.missions.CachedNavigationProblem import (\n",
    "    CachedNavigationProblem,\n",
    ")\n",
    "\n",
    "from ocean_navigation_simulator.reinforcement_learning.runners.GenerationRunner import (\n",
    "    GenerationRunner,\n",
    ")\n",
    "\n",
    "\n",
    "from ocean_navigation_simulator.utils import units\n",
    "from ocean_navigation_simulator.utils.misc import get_c3, set_arena_loggers\n",
    "\n",
    "%load_ext autoreload\n",
    "%autoreload 2"
   ]
  },
  {
   "cell_type": "code",
   "execution_count": 2,
   "metadata": {
    "ExecuteTime": {
     "end_time": "2023-02-17T01:35:39.884360Z",
     "start_time": "2023-02-17T01:35:39.039008Z"
    }
   },
   "outputs": [
    {
     "name": "stdout",
     "output_type": "stream",
     "text": [
      "Starting to connect to c3\n"
     ]
    }
   ],
   "source": [
    "c3 = get_c3()"
   ]
  },
  {
   "cell_type": "markdown",
   "metadata": {},
   "source": [
    "# Set up the experiments"
   ]
  },
  {
   "cell_type": "code",
   "execution_count": 3,
   "metadata": {
    "ExecuteTime": {
     "end_time": "2023-02-17T01:36:05.541757Z",
     "start_time": "2023-02-17T01:36:05.492840Z"
    }
   },
   "outputs": [],
   "source": [
    "experiment_name = \"safety_c3_debug_023\"\n",
    "exp = c3.Experiment.get(experiment_name)\n",
    "# exp.remove()"
   ]
  },
  {
   "cell_type": "code",
   "execution_count": null,
   "metadata": {
    "ExecuteTime": {
     "end_time": "2023-02-16T22:35:05.178019Z",
     "start_time": "2023-02-16T22:35:05.152650Z"
    }
   },
   "outputs": [],
   "source": [
    "exp"
   ]
  },
  {
   "cell_type": "markdown",
   "metadata": {},
   "source": [
    "### Config"
   ]
  },
  {
   "cell_type": "code",
   "execution_count": 8,
   "metadata": {
    "ExecuteTime": {
     "end_time": "2023-02-17T01:38:24.058919Z",
     "start_time": "2023-02-17T01:38:24.021394Z"
    }
   },
   "outputs": [],
   "source": [
    "timeout_sim_h = 24 * 5\n",
    "safe_distance = 10\n",
    "arena_config = {\n",
    "    \"casadi_cache_dict\": {\"deg_around_x_t\": 2.0, \"time_around_x_t\": 432000},\n",
    "    \"platform_dict\": {\n",
    "        \"battery_cap_in_wh\": 400.0,\n",
    "        \"u_max_in_mps\": 0.1,\n",
    "        \"motor_efficiency\": 1.0,\n",
    "        \"solar_panel_size\": 0.5,\n",
    "        \"solar_efficiency\": 0.2,\n",
    "        \"drag_factor\": 675.0,\n",
    "        \"dt_in_s\": 600.0,\n",
    "    },\n",
    "    \"use_geographic_coordinate_system\": True,\n",
    "    \"spatial_boundary\": None,\n",
    "    \"ocean_dict\": {\n",
    "        \"region\": \"Region 1\",\n",
    "        \"hindcast\": {\n",
    "            \"field\": \"OceanCurrents\",\n",
    "            \"source\": \"hindcast_files\",\n",
    "            \"source_settings\": {\n",
    "                \"folder\": \"data/miss_gen_hindcast/\",\n",
    "                \"local\": False,\n",
    "                \"source\": \"HYCOM\",\n",
    "                \"type\": \"hindcast\",\n",
    "                \"currents\": \"total\",\n",
    "            },\n",
    "        },\n",
    "        \"forecast\": None,\n",
    "    },\n",
    "    \"bathymetry_dict\": {\n",
    "        \"field\": \"Bathymetry\",\n",
    "        \"source\": \"gebco\",\n",
    "        \"source_settings\": {\n",
    "            \"filepath\": \"ocean_navigation_simulator/package_data/bathymetry_and_garbage/bathymetry_global_res_0.083_0.083_max.nc\"\n",
    "        },\n",
    "        \"distance\": {\n",
    "            \"safe_distance\": safe_distance,\n",
    "            \"filepath\": \"ocean_navigation_simulator/package_data/bathymetry_and_garbage/bathymetry_distance_res_0.083_0.083_max_elevation_-150.nc\",\n",
    "        },\n",
    "        \"casadi_cache_settings\": {\"deg_around_x_t\": 10},\n",
    "        \"use_geographic_coordinate_system\": True,\n",
    "    },\n",
    "    \"garbage_dict\": {\n",
    "        \"field\": \"Garbage\",\n",
    "        \"source\": \"Lebreton\",\n",
    "        \"source_settings\": {\n",
    "            \"filepath\": \"ocean_navigation_simulator/package_data/bathymetry_and_garbage/garbage_patch_global_res_0.083_0.083.nc\"\n",
    "        },\n",
    "        \"casadi_cache_settings\": {\"deg_around_x_t\": 10},\n",
    "        \"use_geographic_coordinate_system\": True,\n",
    "    },\n",
    "    \"solar_dict\": {\"hindcast\": None, \"forecast\": None},\n",
    "    \"seaweed_dict\": {\"hindcast\": None, \"forecast\": None},\n",
    "}\n",
    "config = {\n",
    "    ##### Target Sampling #####\n",
    "    # HYCOM HC: lon [-98.0,-76.4000244140625], lat[18.1200008392334,31.92000007629394]\n",
    "    # Copernicus FC: lon: [-98.0, -76.416664], lat: [18.083334, 30.0]\n",
    "    # Combined: [-98.0, -76.416664], [18.1200008392334, 30.0]\n",
    "    # GOM\n",
    "    \"x_range\":[-160, -105], \n",
    "    \"y_range\":[15, 40],\n",
    "    # Region 1\n",
    "    # \"x_range\": [-159, -106],\n",
    "    # \"y_range\": [16, 39],\n",
    "    # \"x_range\": [-160, -105],\n",
    "    # \"y_range\": [15, 40],\n",
    "    \"t_range\": [  # ['2022-08-01T00:00:00+00:00', '2022-08-30T00:00:00+00:00'],\n",
    "        # Copernicus FC: 2022-04 until today, HYCOM Hindcast: 2021-09 until today\n",
    "        datetime.datetime(year=2022, month=8, day=16, tzinfo=datetime.timezone.utc),\n",
    "        datetime.datetime(year=2022, month=8, day=30, tzinfo=datetime.timezone.utc),\n",
    "    ],\n",
    "    \"problem_timeout_in_h\": timeout_sim_h,  # to be considered as feasible\n",
    "    \"problem_target_radius\": 0.1,\n",
    "    ##### HJ Planner #####\n",
    "    \"hj_specific_settings\": {\n",
    "        # 'grid_res' has to be smaller than target_radius to prevent hj_solver errors\n",
    "        \"grid_res\": 0.02,  # Note: this is in deg lat, lon (HYCOM Global is 0.083 and Mexico 0.04)\n",
    "        \"direction\": \"multi-time-reach-back\",\n",
    "        \"n_time_vector\": 199,  # Note that this is the number of time-intervals, the vector is +1 longer because of init_time\n",
    "        \"accuracy\": \"high\",\n",
    "        \"artificial_dissipation_scheme\": \"local_local\",\n",
    "        \"run_without_x_T\": True,\n",
    "        \"progress_bar\": False,\n",
    "        \"T_goal_in_seconds\": 3600 * timeout_sim_h,\n",
    "        \"deg_around_xt_xT_box\": 1.0,  # area over which to run HJ_reachability\n",
    "\n",
    "    },\n",
    "    \"hj_planner_box\": 2.0,\n",
    "    ##### Start Sampling #####\n",
    "    \"feasible_missions_per_target\": 2,\n",
    "    \"feasible_mission_time_in_h\": [80, 110],\n",
    "    \"random_missions_per_target\": 0,\n",
    "    \"random_min_distance_from_target\": 0.5,\n",
    "    \"min_distance_from_hj_frame\": 0.5,\n",
    "    \"min_distance_from_land\": 0.2,\n",
    "    \"random_min_distance_from_target\": 0.5,\n",
    "    # Safety specific values\n",
    "    \"max_distance_from_land\": 3,\n",
    "    \"min_distance_from_garbage\": 0.01,\n",
    "    \"max_distance_from_garbage\": 1,\n",
    "    ##### Actions #####\n",
    "    \"plot_batch\": False,\n",
    "    \"animate_batch\": False,\n",
    "    \"cache_forecast\": False,\n",
    "    \"cache_hindcast\": False,\n",
    "    ##### Distance maps #####\n",
    "    \"filepath_distance_map\": {\n",
    "        \"bathymetry\": \"ocean_navigation_simulator/package_data/bathymetry_and_garbage/bathymetry_distance_res_0.083_0.083_max_elevation_-150.nc\",\n",
    "        \"garbage\": \"ocean_navigation_simulator/package_data/bathymetry_and_garbage/garbage_patch_distance_res_0.083_0.083_max.nc\",\n",
    "    },\n",
    "}\n",
    "objectiveConfig = {\"type\": \"nav\"}"
   ]
  },
  {
   "cell_type": "markdown",
   "metadata": {},
   "source": [
    "### Create Experiment\n",
    "\n",
    "Make sure you really want to create a new experiment and you ran `exp = c3.Experiment.get(experiment_name)` before '\n"
   ]
  },
  {
   "cell_type": "code",
   "execution_count": null,
   "metadata": {
    "ExecuteTime": {
     "end_time": "2023-02-16T22:35:14.059535Z",
     "start_time": "2023-02-16T22:35:13.884781Z"
    }
   },
   "outputs": [],
   "source": [
    "# create Experiment\n",
    "exp = c3.Experiment.createNew(\n",
    "    name=experiment_name,\n",
    "    description=\"safety\",\n",
    "    arenaConfig=arena_config,\n",
    "    objectiveConfig=objectiveConfig,\n",
    "    timeout_in_sec=3600 * timeout_sim_h,\n",
    ")"
   ]
  },
  {
   "cell_type": "code",
   "execution_count": null,
   "metadata": {
    "ExecuteTime": {
     "end_time": "2023-02-16T22:35:17.289936Z",
     "start_time": "2023-02-16T22:35:17.249616Z"
    }
   },
   "outputs": [],
   "source": [
    "exp = exp.get(\"experimentName\")\n",
    "\n",
    "# name.experimentName = \"test_matthias\"\n",
    "# name.merge()\n",
    "exp"
   ]
  },
  {
   "cell_type": "markdown",
   "metadata": {},
   "source": [
    "# Set up generate batch job"
   ]
  },
  {
   "cell_type": "markdown",
   "metadata": {},
   "source": [
    "## Set up and run mission generation"
   ]
  },
  {
   "cell_type": "code",
   "execution_count": null,
   "metadata": {
    "ExecuteTime": {
     "end_time": "2023-02-16T22:35:36.807341Z",
     "start_time": "2023-02-16T22:35:36.781718Z"
    }
   },
   "outputs": [],
   "source": [
    "options = c3.GenMissionBatchJobOptionsAndreas(\n",
    "    **{\n",
    "        \"experiment\": exp,\n",
    "        \"missGenBatchConfig\": config,\n",
    "        \"base_seed\": 1,\n",
    "        \"nBatches\": 2,  # each nBatch runs nMissionsGenPerBatch\n",
    "        \"nMissionGenPerBatch\": 4,  # nb workers on which we loop,\n",
    "        'hardwareProfileId': \"appc8m64-w\" #'appc72m660-w', #\"appc8m642-w\" #\"appc72m660-w\" appc8m64-w\n",
    "    }\n",
    ")\n",
    "# total amount of missions: feasible_mission_per_target*nBatches*nMIssionGenPerBatch"
   ]
  },
  {
   "cell_type": "markdown",
   "metadata": {},
   "source": [
    "#### [Debug locally]\n",
    "\n",
    "\n",
    "In case you want to debug the Gen Mission c3 stuff locally. Just copy the according code from `GenMissionBatchJob.py`\n"
   ]
  },
  {
   "cell_type": "code",
   "execution_count": null,
   "metadata": {
    "ExecuteTime": {
     "end_time": "2023-02-16T22:35:42.440217Z",
     "start_time": "2023-02-16T22:35:42.415346Z"
    }
   },
   "outputs": [],
   "source": [
    "batch = c3.GenMissionBatchJobBatchAndreas(**{\"batch_seed\": 1})\n",
    "options = options"
   ]
  },
  {
   "cell_type": "code",
   "execution_count": null,
   "metadata": {
    "ExecuteTime": {
     "end_time": "2023-02-16T22:35:44.586408Z",
     "start_time": "2023-02-16T22:35:44.557848Z"
    }
   },
   "outputs": [],
   "source": [
    "\n",
    "# Set up file paths and download folders\n",
    "temp_folder = \"/tmp/\" + str(batch.batch_seed) + \"/\"\n",
    "# create the folder if it doesn't exist yet\n",
    "if not os.path.isdir(temp_folder):\n",
    "    os.mkdir(temp_folder)\n",
    "log_file_name = str(batch.batch_seed) + \".log\"\n",
    "logging.basicConfig(filename=temp_folder + log_file_name, level=logging.INFO)#, force=True\n",
    "\n",
    "# change to this if basic setup works test\n",
    "set_arena_loggers(logging.INFO)\n",
    "logging.getLogger(\"MissionGenerator\").setLevel(logging.DEBUG)\n"
   ]
  },
  {
   "cell_type": "code",
   "execution_count": null,
   "metadata": {
    "ExecuteTime": {
     "end_time": "2023-02-16T22:35:45.214713Z",
     "start_time": "2023-02-16T22:35:45.155342Z"
    }
   },
   "outputs": [],
   "source": [
    "\n",
    "# get configs for mission generation\n",
    "arena_config = options.experiment.get(\"arenaConfig\").arenaConfig\n",
    "# create the MissionGenerator Config\n",
    "config = options.missGenBatchConfig\n",
    "\n",
    "# Lots of replacement\n",
    "filepath = ocean_navigation_simulator.__file__\n",
    "module_path = os.path.dirname(filepath)\n",
    "\n",
    "if \"filepath_distance_map\" in config and config[\"filepath_distance_map\"] is not None:\n",
    "    for key in config[\"filepath_distance_map\"]:\n",
    "        config[\"filepath_distance_map\"][key] =  module_path + config[\"filepath_distance_map\"][key].split(\"ocean_navigation_simulator\")[-1]\n",
    "\n",
    "data_dicts = [\"bathymetry_dict\", \"garbage_dict\"]\n",
    "for d in data_dicts:\n",
    "    if d in arena_config and arena_config[d] is not None:\n",
    "        arena_config[d][\"source_settings\"][\"filepath\"]= module_path + arena_config[d][\"source_settings\"][\"filepath\"].split(\"ocean_navigation_simulator\")[-1]\n",
    "\n",
    "\n",
    "if \"obstacle_dict\" in config and config[\"obstacle_dict\"] is not None:\n",
    "    config[\"obstacle_dict\"][\"path_to_obstacle_file\"] = module_path + config[\"obstacle_dict\"][\"path_to_obstacle_file\"].split(\"ocean_navigation_simulator\")[-1]\n",
    "\n",
    "config_to_add = {\n",
    "    \"scenario_config\": arena_config,\n",
    "    \"problem_timeout\": datetime.timedelta(\n",
    "        seconds=options.experiment.get(\"timeout_in_sec\").timeout_in_sec\n",
    "    ),\n",
    "    \"T_goal_in_seconds\": options.experiment.get(\"timeout_in_sec\").timeout_in_sec,\n",
    "}\n",
    "\n",
    "config = config | config_to_add"
   ]
  },
  {
   "cell_type": "code",
   "execution_count": null,
   "metadata": {
    "ExecuteTime": {
     "end_time": "2023-02-16T22:35:47.070791Z",
     "start_time": "2023-02-16T22:35:47.042571Z"
    }
   },
   "outputs": [],
   "source": [
    "config"
   ]
  },
  {
   "cell_type": "code",
   "execution_count": null,
   "metadata": {
    "ExecuteTime": {
     "end_time": "2023-02-16T22:39:40.846467Z",
     "start_time": "2023-02-16T22:35:47.685039Z"
    }
   },
   "outputs": [],
   "source": [
    "results_folder = \"/tmp/missions/\"\n",
    "os.makedirs(results_folder, exist_ok=True)\n",
    "# seed all of them\n",
    "random.seed(batch.batch_seed)\n",
    "all_problems = []\n",
    "for worker in range(options.nMissionGenPerBatch):\n",
    "    mission_generator = MissionGenerator(\n",
    "        config=config\n",
    "        | {\n",
    "            \"seed\": int(random.uniform(0, 1000000)),\n",
    "            \"cache_folder\": results_folder + str(worker) + \"_\",\n",
    "        },\n",
    "        c3=c3,\n",
    "    )\n",
    "    problems, _, _ = mission_generator.cache_batch()\n",
    "    all_problems.extend(problems)\n",
    "\n",
    "# Now upload all of them to the mission database!\n",
    "exp = options.experiment\n",
    "for idx, problem in enumerate(all_problems):\n",
    "    try:\n",
    "        exp.addMission(\n",
    "            missionConfig=problem.to_c3_mission_config(),\n",
    "            name=\"batch_seed_\" + str(batch.batch_seed) + \"_\" + str(idx),\n",
    "        )\n",
    "    except BaseException:\n",
    "        continue"
   ]
  },
  {
   "cell_type": "code",
   "execution_count": null,
   "metadata": {
    "ExecuteTime": {
     "end_time": "2023-02-09T18:10:10.530734Z",
     "start_time": "2023-02-09T18:10:10.280036Z"
    }
   },
   "outputs": [],
   "source": [
    "!cat /tmp/1/1.log"
   ]
  },
  {
   "cell_type": "code",
   "execution_count": null,
   "metadata": {
    "ExecuteTime": {
     "end_time": "2023-02-09T18:09:35.005963Z",
     "start_time": "2023-02-09T18:09:34.752572Z"
    }
   },
   "outputs": [],
   "source": [
    "#rm -rf miss_gen_hindcast/"
   ]
  },
  {
   "cell_type": "code",
   "execution_count": null,
   "metadata": {
    "ExecuteTime": {
     "end_time": "2023-02-16T22:39:56.694690Z",
     "start_time": "2023-02-16T22:39:56.663916Z"
    }
   },
   "outputs": [],
   "source": [
    "all_problems"
   ]
  },
  {
   "cell_type": "code",
   "execution_count": null,
   "metadata": {
    "ExecuteTime": {
     "end_time": "2023-02-16T22:39:59.749350Z",
     "start_time": "2023-02-16T22:39:59.722049Z"
    }
   },
   "outputs": [],
   "source": [
    "# all_problems[0]\n",
    "all_problems[0].extra_info"
   ]
  },
  {
   "cell_type": "markdown",
   "metadata": {},
   "source": [
    "### Start Jobs"
   ]
  },
  {
   "cell_type": "code",
   "execution_count": null,
   "metadata": {
    "ExecuteTime": {
     "end_time": "2023-02-13T21:49:45.280303Z",
     "start_time": "2023-02-13T21:49:44.912735Z"
    }
   },
   "outputs": [],
   "source": [
    "gen_mission_job = c3.GenMissionBatchJobAndreas(**{\"options\": options.toJson()}).upsert()\n",
    "# gen_mission_job = c3.GenMissionBatchJob(**{'options': options.toJson()}).upsert()\n",
    "# gen_mission_job.setMaxConcurrency(12)\n",
    "# gen_mission_job.setMaxConcurrencyPerNode(15)\n",
    "gen_mission_job.start()\n",
    "gen_mission_job"
   ]
  },
  {
   "cell_type": "code",
   "execution_count": null,
   "metadata": {
    "ExecuteTime": {
     "end_time": "2023-02-13T21:57:26.384532Z",
     "start_time": "2023-02-13T21:57:26.284831Z"
    }
   },
   "outputs": [],
   "source": [
    "#gen_mission_job = c3.GenMissionBatchJobAndreas.get('17b2ad36-98b6-41d0-b3da-d966c0f10f2f')\n",
    "gen_mission_job.status()"
   ]
  },
  {
   "cell_type": "code",
   "execution_count": null,
   "metadata": {
    "ExecuteTime": {
     "end_time": "2023-02-13T21:54:31.647046Z",
     "start_time": "2023-02-13T21:54:31.592611Z"
    }
   },
   "outputs": [],
   "source": [
    "gen_mission_job.computingActions()\n",
    "# gen_mission_job.cancel()"
   ]
  },
  {
   "cell_type": "code",
   "execution_count": null,
   "metadata": {},
   "outputs": [],
   "source": [
    "# Other Utils for the cluster\n",
    "c3.Cluster.actionDump()"
   ]
  },
  {
   "cell_type": "code",
   "execution_count": null,
   "metadata": {
    "ExecuteTime": {
     "end_time": "2023-02-16T22:58:03.503119Z",
     "start_time": "2023-02-16T22:58:03.476463Z"
    }
   },
   "outputs": [],
   "source": [
    "exp"
   ]
  },
  {
   "cell_type": "markdown",
   "metadata": {},
   "source": []
  },
  {
   "cell_type": "code",
   "execution_count": null,
   "metadata": {
    "ExecuteTime": {
     "end_time": "2023-02-13T21:55:56.211268Z",
     "start_time": "2023-02-13T21:55:56.167512Z"
    }
   },
   "outputs": [],
   "source": [
    "len(exp.get(\"expMissions\").expMissions)"
   ]
  },
  {
   "cell_type": "code",
   "execution_count": null,
   "metadata": {},
   "outputs": [],
   "source": [
    "gen_mission_job = c3.GenMissionBatchJob.get('eb92b6ed-b529-4260-9efc-16c605b8b32c')\n",
    "gen_mission_job.status()\n",
    "#gen_mission_job.cancel() # to cancel the jobs"
   ]
  },
  {
   "cell_type": "markdown",
   "metadata": {},
   "source": [
    "\n",
    "### Save and load missions from and to experiments instead of generating new ones\n"
   ]
  },
  {
   "cell_type": "code",
   "execution_count": null,
   "metadata": {
    "ExecuteTime": {
     "end_time": "2023-02-17T01:36:19.756355Z",
     "start_time": "2023-02-17T01:36:19.690827Z"
    }
   },
   "outputs": [],
   "source": [
    "exp.get(\"expMissions\").expMissions[0].get(\"missionConfig\").missionConfig"
   ]
  },
  {
   "cell_type": "markdown",
   "metadata": {},
   "source": [
    "\n",
    "#### Experiment to take the missions from\n"
   ]
  },
  {
   "cell_type": "code",
   "execution_count": 4,
   "metadata": {
    "ExecuteTime": {
     "end_time": "2023-02-17T01:36:23.744678Z",
     "start_time": "2023-02-17T01:36:23.634807Z"
    }
   },
   "outputs": [],
   "source": [
    "problems = []\n",
    "for miss in exp.get(\"expMissions\").expMissions:\n",
    "    missionConfig = miss.get(\"missionConfig\").missionConfig\n",
    "    problems.append(CachedNavigationProblem.from_c3_mission_config(missionConfig))"
   ]
  },
  {
   "cell_type": "code",
   "execution_count": 5,
   "metadata": {
    "ExecuteTime": {
     "end_time": "2023-02-17T01:36:25.138967Z",
     "start_time": "2023-02-17T01:36:25.108505Z"
    }
   },
   "outputs": [],
   "source": [
    "results_folder = f\"{os.getcwd()}/\"\n",
    "df = pd.DataFrame([problem.to_dict() for problem in problems])\n",
    "df[\"factory_index\"] = 0\n",
    "df.to_csv(results_folder + \"problems.csv\")"
   ]
  },
  {
   "cell_type": "code",
   "execution_count": 6,
   "metadata": {
    "ExecuteTime": {
     "end_time": "2023-02-17T01:36:25.950855Z",
     "start_time": "2023-02-17T01:36:25.924570Z"
    }
   },
   "outputs": [
    {
     "data": {
      "text/plain": [
       "16"
      ]
     },
     "execution_count": 6,
     "metadata": {},
     "output_type": "execute_result"
    }
   ],
   "source": [
    "len(problems)"
   ]
  },
  {
   "cell_type": "markdown",
   "metadata": {},
   "source": [
    "\n",
    "##### Make sure you create/select a new experiment where you want to add the retrieved missions to\n"
   ]
  },
  {
   "cell_type": "code",
   "execution_count": 12,
   "metadata": {
    "ExecuteTime": {
     "end_time": "2023-02-17T01:36:29.222018Z",
     "start_time": "2023-02-17T01:36:29.188308Z"
    }
   },
   "outputs": [
    {
     "data": {
      "text/plain": [
       "{'x_0': [{'lon': -111.0211410522461,\n",
       "   'lat': 27.402587890625,\n",
       "   'date_time': '2022-08-19T20:56:27+00:00'}],\n",
       " 'x_T': {'lon': -110.88425173003826, 'lat': 26.696332782960205},\n",
       " 'target_radius': 0.1,\n",
       " 'seed': 84871,\n",
       " 'feasible': True,\n",
       " 'ttr_in_h': 83.68390581490692}"
      ]
     },
     "execution_count": 12,
     "metadata": {},
     "output_type": "execute_result"
    }
   ],
   "source": [
    "exp\n",
    "missionConfig = miss.get(\"missionConfig\").missionConfig\n",
    "missionConfig"
   ]
  },
  {
   "cell_type": "code",
   "execution_count": 13,
   "metadata": {},
   "outputs": [
    {
     "data": {
      "text/plain": [
       "c3.Experiment(\n",
       " id='safety_c3_debug_024',\n",
       " meta=c3.Meta(\n",
       "        created=datetime.datetime(2023, 2, 23, 3, 19, 8, tzinfo=datetime.timezone.utc),\n",
       "        updated=datetime.datetime(2023, 2, 23, 3, 19, 8, tzinfo=datetime.timezone.utc),\n",
       "        timestamp=datetime.datetime(2023, 2, 23, 3, 19, 8, tzinfo=datetime.timezone.utc)),\n",
       " version=1,\n",
       " T_horizon_FC_Error_Calculation_in_h=96)"
      ]
     },
     "execution_count": 13,
     "metadata": {},
     "output_type": "execute_result"
    }
   ],
   "source": [
    "exp"
   ]
  },
  {
   "cell_type": "code",
   "execution_count": 9,
   "metadata": {},
   "outputs": [],
   "source": [
    "# Create new experiment and add missions of old experiment to it\n",
    "experiment_name = \"safety_c3_debug_024\"\n",
    "exp = c3.Experiment.createNew(\n",
    "    name=experiment_name,\n",
    "    description=\"test floating controller\",\n",
    "    arenaConfig=arena_config,\n",
    "    objectiveConfig=objectiveConfig,\n",
    "    timeout_in_sec=3600 * timeout_sim_h,\n",
    ")"
   ]
  },
  {
   "cell_type": "code",
   "execution_count": 14,
   "metadata": {
    "ExecuteTime": {
     "end_time": "2023-02-16T22:41:40.189285Z",
     "start_time": "2023-02-16T22:41:39.406311Z"
    }
   },
   "outputs": [
    {
     "ename": "AttributeError",
     "evalue": "'float' object has no attribute 'tolist'",
     "output_type": "error",
     "traceback": [
      "\u001b[0;31m---------------------------------------------------------------------------\u001b[0m",
      "\u001b[0;31mAttributeError\u001b[0m                            Traceback (most recent call last)",
      "Cell \u001b[0;32mIn [14], line 2\u001b[0m\n\u001b[1;32m      1\u001b[0m \u001b[39mfor\u001b[39;00m problem \u001b[39min\u001b[39;00m problems[\u001b[39m3\u001b[39m:]:\n\u001b[0;32m----> 2\u001b[0m     exp\u001b[39m.\u001b[39maddMission(problem\u001b[39m.\u001b[39;49mto_c3_mission_config())\n",
      "File \u001b[0;32m~/code/OceanPlatformControl/ocean_navigation_simulator/reinforcement_learning/missions/CachedNavigationProblem.py:68\u001b[0m, in \u001b[0;36mCachedNavigationProblem.to_c3_mission_config\u001b[0;34m(self)\u001b[0m\n\u001b[1;32m     64\u001b[0m prob_dict \u001b[39m=\u001b[39m \u001b[39mself\u001b[39m\u001b[39m.\u001b[39mto_dict()\n\u001b[1;32m     65\u001b[0m \u001b[39m# This seems to breaks if we only have one problem as it will call .tolist on a float\u001b[39;00m\n\u001b[1;32m     66\u001b[0m \u001b[39m# Yet if we remove the tolist, we will pass a devicearray that is not jsonable in c3\u001b[39;00m\n\u001b[1;32m     67\u001b[0m x_0 \u001b[39m=\u001b[39m {\n\u001b[0;32m---> 68\u001b[0m     \u001b[39m\"\u001b[39m\u001b[39mlon\u001b[39m\u001b[39m\"\u001b[39m: prob_dict[\u001b[39m\"\u001b[39;49m\u001b[39mx_0_lon\u001b[39;49m\u001b[39m\"\u001b[39;49m]\u001b[39m.\u001b[39;49mtolist(),\n\u001b[1;32m     69\u001b[0m     \u001b[39m\"\u001b[39m\u001b[39mlat\u001b[39m\u001b[39m\"\u001b[39m: prob_dict[\u001b[39m\"\u001b[39m\u001b[39mx_0_lat\u001b[39m\u001b[39m\"\u001b[39m]\u001b[39m.\u001b[39mtolist(),\n\u001b[1;32m     70\u001b[0m     \u001b[39m\"\u001b[39m\u001b[39mdate_time\u001b[39m\u001b[39m\"\u001b[39m: prob_dict[\u001b[39m\"\u001b[39m\u001b[39mt_0\u001b[39m\u001b[39m\"\u001b[39m],\n\u001b[1;32m     71\u001b[0m }\n\u001b[1;32m     73\u001b[0m x_T \u001b[39m=\u001b[39m {\u001b[39m\"\u001b[39m\u001b[39mlon\u001b[39m\u001b[39m\"\u001b[39m: prob_dict[\u001b[39m\"\u001b[39m\u001b[39mx_T_lon\u001b[39m\u001b[39m\"\u001b[39m], \u001b[39m\"\u001b[39m\u001b[39mlat\u001b[39m\u001b[39m\"\u001b[39m: prob_dict[\u001b[39m\"\u001b[39m\u001b[39mx_T_lat\u001b[39m\u001b[39m\"\u001b[39m]}\n\u001b[1;32m     75\u001b[0m mission_config \u001b[39m=\u001b[39m {\n\u001b[1;32m     76\u001b[0m     \u001b[39m\"\u001b[39m\u001b[39mx_0\u001b[39m\u001b[39m\"\u001b[39m: [x_0],  \u001b[39m# Evaluation runner assumes it is a list (for multi-agent)\u001b[39;00m\n\u001b[1;32m     77\u001b[0m     \u001b[39m\"\u001b[39m\u001b[39mx_T\u001b[39m\u001b[39m\"\u001b[39m: x_T,\n\u001b[0;32m   (...)\u001b[0m\n\u001b[1;32m     81\u001b[0m     \u001b[39m\"\u001b[39m\u001b[39mttr_in_h\u001b[39m\u001b[39m\"\u001b[39m: prob_dict\u001b[39m.\u001b[39mget(\u001b[39m\"\u001b[39m\u001b[39mttr_in_h\u001b[39m\u001b[39m\"\u001b[39m, \u001b[39mNone\u001b[39;00m),\n\u001b[1;32m     82\u001b[0m }\n",
      "\u001b[0;31mAttributeError\u001b[0m: 'float' object has no attribute 'tolist'"
     ]
    }
   ],
   "source": [
    "for problem in problems[3:]:\n",
    "    exp.addMission(problem.to_c3_mission_config())"
   ]
  },
  {
   "cell_type": "code",
   "execution_count": null,
   "metadata": {
    "ExecuteTime": {
     "end_time": "2023-02-17T01:36:42.175886Z",
     "start_time": "2023-02-17T01:36:42.129309Z"
    }
   },
   "outputs": [],
   "source": [
    "len(exp.get(\"expMissions\").expMissions)"
   ]
  },
  {
   "cell_type": "markdown",
   "metadata": {},
   "source": [
    "## Plot all of them on a map and get distribution information"
   ]
  },
  {
   "cell_type": "code",
   "execution_count": null,
   "metadata": {
    "ExecuteTime": {
     "end_time": "2023-02-17T01:36:45.268983Z",
     "start_time": "2023-02-17T01:36:44.511132Z"
    }
   },
   "outputs": [],
   "source": [
    "import matplotlib.pyplot as plt\n",
    "import cartopy.crs as ccrs\n",
    "import cartopy.feature as cfeature\n",
    "\n",
    "fig = plt.figure(figsize=(10, 10))\n",
    "ax = plt.axes(projection=ccrs.PlateCarree())\n",
    "# ax.set_title(\"Time: \" + datetime.fromtimestamp(time, tz=timezone.utc).strftime('%Y-%m-%d %H:%M:%S UTC'))\n",
    "\n",
    "ax.add_feature(cfeature.LAND, zorder=3, edgecolor=\"black\")\n",
    "ax.add_feature(cfeature.OCEAN, zorder=0)\n",
    "grid_lines = ax.gridlines(draw_labels=True, zorder=5)\n",
    "grid_lines.top_labels = False\n",
    "grid_lines.right_labels = False\n",
    "ax.axis(xmin=config[\"x_range\"][0], xmax=config[\"x_range\"][1])\n",
    "ax.axis(ymin=config[\"y_range\"][0], ymax=config[\"y_range\"][1])\n",
    "# ax.axis(xmin=-160, xmax=-105)\n",
    "#ax.axis(ymin=15, ymax=40)\n",
    "# TODO: adapt Generation runner to use nice plotting\n",
    "for miss_idx in range(len(df)):\n",
    "    ax.scatter(\n",
    "        df.iloc[miss_idx][\"x_0_lon\"],\n",
    "        df.iloc[miss_idx][\"x_0_lat\"],\n",
    "        c=\"red\",\n",
    "        marker=\"o\",\n",
    "        s=6,\n",
    "        label=\"starts\" if miss_idx == 0 else None,\n",
    "    )\n",
    "ax.scatter(df[\"x_T_lon\"], df[\"x_T_lat\"], c=\"green\", marker=\"x\", s=12, label=\"targets\")\n",
    "ax.legend()\n",
    "# ax.get_figure().savefig(f\"{analysis_folder}starts_and_targets.png\")\n",
    "ax.get_figure().show()"
   ]
  },
  {
   "cell_type": "code",
   "execution_count": null,
   "metadata": {
    "ExecuteTime": {
     "end_time": "2023-02-16T23:09:37.657819Z",
     "start_time": "2023-02-16T23:09:36.780531Z"
    }
   },
   "outputs": [],
   "source": [
    "GenerationRunner.plot_ttr_histogram(results_folder)\n",
    "GenerationRunner.plot_starts_and_targets(\n",
    "    results_folder=results_folder,\n",
    "    #pb_filename=\"problems.csv\",\n",
    "    scenario_config=arena_config,\n",
    ")"
   ]
  },
  {
   "cell_type": "markdown",
   "metadata": {
    "heading_collapsed": true
   },
   "source": [
    "#### Random utils"
   ]
  },
  {
   "cell_type": "code",
   "execution_count": null,
   "metadata": {
    "hidden": true
   },
   "outputs": [],
   "source": [
    "status = \" && status ==\" + '\"' + \"running\" + '\"'\n",
    "all_gen_mission_jobs = c3.GenMissionBatchJobAndreas.fetch(\n",
    "    spec={\n",
    "        \"include\": \"[this]\",\n",
    "    }\n",
    ").objs"
   ]
  },
  {
   "cell_type": "code",
   "execution_count": null,
   "metadata": {
    "hidden": true
   },
   "outputs": [],
   "source": [
    "for job in all_gen_mission_jobs:\n",
    "    if job.get(\"BatchJobStatus\").status().status == \"running\":\n",
    "        print(job.get(\"BatchJobStatus\").status().status)\n",
    "        # job.cancel()\n",
    "        # print(job.get(\"BatchJobStatus\").status().status)"
   ]
  },
  {
   "cell_type": "code",
   "execution_count": null,
   "metadata": {
    "hidden": true
   },
   "outputs": [],
   "source": []
  },
  {
   "cell_type": "markdown",
   "metadata": {},
   "source": [
    "# Add Observer"
   ]
  },
  {
   "cell_type": "code",
   "execution_count": null,
   "metadata": {
    "ExecuteTime": {
     "end_time": "2023-02-16T23:10:14.734013Z",
     "start_time": "2023-02-16T23:10:14.560991Z"
    }
   },
   "outputs": [],
   "source": [
    "# Config for No observer\n",
    "observer_config = {\"observer\": None}\n",
    "# add observer\n",
    "exp.addObserver(name=\"NoObserver\", observerConfig=observer_config)"
   ]
  },
  {
   "cell_type": "markdown",
   "metadata": {},
   "source": [
    "# Add Controller"
   ]
  },
  {
   "cell_type": "code",
   "execution_count": null,
   "metadata": {
    "ExecuteTime": {
     "end_time": "2023-02-16T23:13:53.591348Z",
     "start_time": "2023-02-16T23:13:53.564055Z"
    }
   },
   "outputs": [],
   "source": [
    "# Controller Configs\n",
    "HJMultiTimeConfig = {\n",
    "    \"replan_every_X_seconds\": None,\n",
    "    \"replan_on_new_fmrc\": True,\n",
    "    \"T_goal_in_seconds\": 3600 * 24 * 6,  # 3d, 43200,     # 12h\n",
    "    \"accuracy\": \"high\",\n",
    "    \"artificial_dissipation_scheme\": \"local_local\",\n",
    "    \"ctrl_name\": \"ocean_navigation_simulator.controllers.hj_planners.HJReach2DPlanner.HJReach2DPlanner\",\n",
    "    \"d_max\": 0.0,\n",
    "    \"deg_around_xt_xT_box\": 1.0,\n",
    "    \"direction\": \"multi-time-reach-back\",\n",
    "    \"grid_res\": 0.02,\n",
    "    \"n_time_vector\": 200,\n",
    "    \"progress_bar\": True,\n",
    "    \"use_geographic_coordinate_system\": True,\n",
    "}\n",
    "PassiveFloatConfig = {\n",
    "    \"ctrl_name\": \"ocean_navigation_simulator.controllers.PassiveFloatController.PassiveFloatController\",\n",
    "    \"use_geographic_coordinate_system\": True,\n",
    "\n",
    "}\n",
    "\n",
    "\"\"\"\n",
    "StraightLineConfig = {\n",
    "    \"ctrl_name\": \"ocean_navigation_simulator.controllers.NaiveController.NaiveController\"\n",
    "}\n",
    "flockingConfig = {\n",
    "    \"unit\": \"km\",\n",
    "    \"interaction_range\": 9,  # km\n",
    "    \"grad_clip_range\": 0.1,  # km\n",
    "}\n",
    "reactiveConfig = {\n",
    "    \"unit\": \"m\",\n",
    "    \"mix_ttr_and_euclidean\": False,\n",
    "    \"delta_3\": 8800,  # collision threshold (communication - delta_3)\n",
    "    \"delta_2\": 2000,  # safe zone threshold  ]communication - delta_2, communication - delta_3[\n",
    "    \"delta_1\": 500,  # small threshold so that if distance > communication_thrsld- delta_1 we try to achieve connectivity\n",
    "    \"communication_thrsld\": 9000,\n",
    "    \"k_1\": 0.25,\n",
    "    \"k_2\": 1,\n",
    "}\n",
    "\"\"\""
   ]
  },
  {
   "cell_type": "markdown",
   "metadata": {},
   "source": [
    "#### Add HJ Naive controller"
   ]
  },
  {
   "cell_type": "code",
   "execution_count": null,
   "metadata": {
    "ExecuteTime": {
     "end_time": "2023-02-16T23:13:59.332424Z",
     "start_time": "2023-02-16T23:13:59.220111Z"
    }
   },
   "outputs": [],
   "source": [
    "#exp.experimentName = exp.get(\"experiment_name\")\n",
    "# add controller\n",
    "exp.addController(name=\"hj_naive\", ctrlConfig=HJMultiTimeConfig)"
   ]
  },
  {
   "attachments": {},
   "cell_type": "markdown",
   "metadata": {
    "heading_collapsed": true
   },
   "source": [
    "#### Add Floating Controller"
   ]
  },
  {
   "cell_type": "code",
   "execution_count": null,
   "metadata": {},
   "outputs": [],
   "source": [
    "exp.addController(name=\"passive_floating\", ctrlConfig=PassiveFloatConfig)"
   ]
  },
  {
   "cell_type": "markdown",
   "metadata": {},
   "source": [
    "# Set missions to ready to run"
   ]
  },
  {
   "cell_type": "code",
   "execution_count": null,
   "metadata": {
    "ExecuteTime": {
     "end_time": "2023-02-17T01:36:59.610633Z",
     "start_time": "2023-02-17T01:36:59.562777Z"
    }
   },
   "outputs": [],
   "source": [
    "experiment = \"experiment.id==\" + '\"' + exp.id + '\"'\n",
    "status = \" && status==\" + '\"staged_for_feasibility\"'\n",
    "exp_list = c3.Mission.fetch(spec={\"include\": \"[this]\", \"filter\": experiment}).objs\n",
    "print(len(exp_list))"
   ]
  },
  {
   "cell_type": "code",
   "execution_count": null,
   "metadata": {
    "ExecuteTime": {
     "end_time": "2023-02-16T23:14:29.338991Z",
     "start_time": "2023-02-16T23:14:29.114860Z"
    }
   },
   "outputs": [],
   "source": [
    "for miss in exp_list:\n",
    "    miss.status = \"ready_to_run\"\n",
    "    miss.merge()"
   ]
  },
  {
   "cell_type": "markdown",
   "metadata": {},
   "source": [
    "# Create Ocean Sim Runs"
   ]
  },
  {
   "cell_type": "code",
   "execution_count": null,
   "metadata": {
    "ExecuteTime": {
     "end_time": "2023-02-16T23:28:32.463372Z",
     "start_time": "2023-02-16T23:28:32.050714Z"
    }
   },
   "outputs": [],
   "source": [
    "# Create the Run objects\n",
    "exp.createOceanSimRuns(obs_name=\"NoObserver\")#ctrl_name=\"safety\""
   ]
  },
  {
   "cell_type": "markdown",
   "metadata": {},
   "source": [
    "## Run simulation debug "
   ]
  },
  {
   "cell_type": "code",
   "execution_count": 7,
   "metadata": {
    "ExecuteTime": {
     "end_time": "2023-02-17T01:37:17.735823Z",
     "start_time": "2023-02-17T01:37:17.675185Z"
    }
   },
   "outputs": [],
   "source": [
    "exp_filter = \"mission.experiment.id==\" + '\"' + exp.get(\"experimentName\").experimentName + '\"'\n",
    "runs = c3.OceanSimRun.fetch(\n",
    "    spec={\"include\": \"[this]\", \"filter\": exp_filter, \"order\": \"ascending(mission.id)\", \"limit\": -1}\n",
    ").objs"
   ]
  },
  {
   "cell_type": "code",
   "execution_count": 8,
   "metadata": {
    "ExecuteTime": {
     "end_time": "2023-02-17T01:37:25.348859Z",
     "start_time": "2023-02-17T01:37:25.323281Z"
    }
   },
   "outputs": [
    {
     "name": "stdout",
     "output_type": "stream",
     "text": [
      "16\n",
      "c3.OceanSimRun(\n",
      " id='safety_c3_debug_023_batch_seed_2_7_hj_naive_NoObserver',\n",
      " meta=c3.Meta(\n",
      "        tenantTagId=32,\n",
      "        tenant='seaweed-control',\n",
      "        tag='devseaweedrc1',\n",
      "        created=datetime.datetime(2023, 2, 21, 6, 5, 37, tzinfo=datetime.timezone.utc),\n",
      "        createdBy='doering@berkeley.edu',\n",
      "        updated=datetime.datetime(2023, 2, 21, 6, 27, 24, tzinfo=datetime.timezone.utc),\n",
      "        updatedBy='doering@berkeley.edu',\n",
      "        timestamp=datetime.datetime(2023, 2, 21, 6, 27, 24, tzinfo=datetime.timezone.utc),\n",
      "        fetchInclude='[]',\n",
      "        fetchType='OceanSimRun'),\n",
      " version=4,\n",
      " mission=c3.Mission(id='safety_c3_debug_023_batch_seed_2_7'),\n",
      " controllerSetting=c3.ControllerSetting(id='safety_c3_debug_023_hj_naive'),\n",
      " observerSetting=c3.ObserverSetting(id='safety_c3_debug_023_NoObserver'),\n",
      " status='finished_running',\n",
      " terminationReason='Success',\n",
      " oceanSimResult=c3.OceanSimResult(\n",
      "                  log_file=c3.AzureFile(\n",
      "                             contentLength=120464,\n",
      "                             contentLocation='fs/seaweed-control/devseaweedrc1/ocean_sim_run_results/safety_c3_debug_023/OceanSimRuns/safety_c3_debug_023_batch_seed_2_7_hj_naive_NoObserver/logs/safety_c3_debug_023_batch_seed_2_7_hj_naive_NoObserver.log',\n",
      "                             contentType='application/json',\n",
      "                             eTag='\"0x8DB13D3F11EAD02\"',\n",
      "                             lastModified=datetime.datetime(2023, 2, 21, 6, 22, tzinfo=datetime.timezone.utc),\n",
      "                             contentMD5='Dv6/up2iNsDOLVescyRnxA==',\n",
      "                             hasMetadata=True,\n",
      "                             url='azure://dev-rcone/fs/seaweed-control/devseaweedrc1/ocean_sim_run_results/safety_c3_debug_023/OceanSimRuns/safety_c3_debug_023_batch_seed_2_7_hj_naive_NoObserver/logs/safety_c3_debug_023_batch_seed_2_7_hj_naive_NoObserver.log',\n",
      "                             blobType='BLOCK_BLOB'),\n",
      "                  trajectories=c3.AzureFile(\n",
      "                                 contentLength=37130,\n",
      "                                 contentLocation='fs/seaweed-control/devseaweedrc1/ocean_sim_run_results/safety_c3_debug_023/OceanSimRuns/safety_c3_debug_023_batch_seed_2_7_hj_naive_NoObserver/trajs/safety_c3_debug_023_batch_seed_2_7_hj_naive_NoObserver.obj',\n",
      "                                 contentType='application/json',\n",
      "                                 eTag='\"0x8DB13D3F131BD22\"',\n",
      "                                 lastModified=datetime.datetime(2023, 2, 21, 6, 22, tzinfo=datetime.timezone.utc),\n",
      "                                 contentMD5='z0VGStAnLg2mRiu9NADTgg==',\n",
      "                                 hasMetadata=True,\n",
      "                                 url='azure://dev-rcone/fs/seaweed-control/devseaweedrc1/ocean_sim_run_results/safety_c3_debug_023/OceanSimRuns/safety_c3_debug_023_batch_seed_2_7_hj_naive_NoObserver/trajs/safety_c3_debug_023_batch_seed_2_7_hj_naive_NoObserver.obj',\n",
      "                                 blobType='BLOCK_BLOB'),\n",
      "                  value_fct_file=c3.AzureFile(\n",
      "                                   contentLength=13911775,\n",
      "                                   contentLocation='fs/seaweed-control/devseaweedrc1/ocean_sim_run_results/safety_c3_debug_023/OceanSimRuns/safety_c3_debug_023_batch_seed_2_7_hj_naive_NoObserver/logs/safety_c3_debug_023_batch_seed_2_7_hj_naive_NoObserver_value_fct.obj',\n",
      "                                   contentType='application/json',\n",
      "                                   eTag='\"0x8DB13D4AE7D5AF1\"',\n",
      "                                   lastModified=datetime.datetime(2023, 2, 21, 6, 27, 18, tzinfo=datetime.timezone.utc),\n",
      "                                   contentMD5='R+3Obelp/G1w4+iFAHi5Yw==',\n",
      "                                   hasMetadata=True,\n",
      "                                   url='azure://dev-rcone/fs/seaweed-control/devseaweedrc1/ocean_sim_run_results/safety_c3_debug_023/OceanSimRuns/safety_c3_debug_023_batch_seed_2_7_hj_naive_NoObserver/logs/safety_c3_debug_023_batch_seed_2_7_hj_naive_NoObserver_value_fct.obj',\n",
      "                                   blobType='BLOCK_BLOB'),\n",
      "                  reach_times_file=c3.AzureFile(\n",
      "                                     contentLength=1758,\n",
      "                                     contentLocation='fs/seaweed-control/devseaweedrc1/ocean_sim_run_results/safety_c3_debug_023/OceanSimRuns/safety_c3_debug_023_batch_seed_2_7_hj_naive_NoObserver/logs/safety_c3_debug_023_batch_seed_2_7_hj_naive_NoObserver_reach_times.obj',\n",
      "                                     contentType='application/json',\n",
      "                                     eTag='\"0x8DB13D4AE8D371F\"',\n",
      "                                     lastModified=datetime.datetime(2023, 2, 21, 6, 27, 18, tzinfo=datetime.timezone.utc),\n",
      "                                     contentMD5='iYqFFcxWYU0mIbfudaUPPg==',\n",
      "                                     hasMetadata=True,\n",
      "                                     url='azure://dev-rcone/fs/seaweed-control/devseaweedrc1/ocean_sim_run_results/safety_c3_debug_023/OceanSimRuns/safety_c3_debug_023_batch_seed_2_7_hj_naive_NoObserver/logs/safety_c3_debug_023_batch_seed_2_7_hj_naive_NoObserver_reach_times.obj',\n",
      "                                     blobType='BLOCK_BLOB'),\n",
      "                  traj_currents_plot_file=c3.AzureFile(\n",
      "                                            contentLength=11669316,\n",
      "                                            contentLocation='fs/seaweed-control/devseaweedrc1/ocean_sim_run_results/safety_c3_debug_023/OceanSimRuns/safety_c3_debug_023_batch_seed_2_7_hj_naive_NoObserver/logs/current_trajectory_on_map.svg',\n",
      "                                            contentType='application/json',\n",
      "                                            eTag='\"0x8DB13D4AF0DECF5\"',\n",
      "                                            lastModified=datetime.datetime(2023, 2, 21, 6, 27, 19, tzinfo=datetime.timezone.utc),\n",
      "                                            contentMD5='95NnlsVUolDyUK6O76tzvA==',\n",
      "                                            hasMetadata=True,\n",
      "                                            url='azure://dev-rcone/fs/seaweed-control/devseaweedrc1/ocean_sim_run_results/safety_c3_debug_023/OceanSimRuns/safety_c3_debug_023_batch_seed_2_7_hj_naive_NoObserver/logs/current_trajectory_on_map.svg',\n",
      "                                            blobType='BLOCK_BLOB'),\n",
      "                  traj_garbage_plot_file=c3.AzureFile(\n",
      "                                           contentLength=11663635,\n",
      "                                           contentLocation='fs/seaweed-control/devseaweedrc1/ocean_sim_run_results/safety_c3_debug_023/OceanSimRuns/safety_c3_debug_023_batch_seed_2_7_hj_naive_NoObserver/logs/garbage_trajectory_on_map.svg',\n",
      "                                           contentType='application/json',\n",
      "                                           eTag='\"0x8DB13D4AF4E20E0\"',\n",
      "                                           lastModified=datetime.datetime(2023, 2, 21, 6, 27, 19, tzinfo=datetime.timezone.utc),\n",
      "                                           contentMD5='T+G0vzYI96jex2c+I1FJHQ==',\n",
      "                                           hasMetadata=True,\n",
      "                                           url='azure://dev-rcone/fs/seaweed-control/devseaweedrc1/ocean_sim_run_results/safety_c3_debug_023/OceanSimRuns/safety_c3_debug_023_batch_seed_2_7_hj_naive_NoObserver/logs/garbage_trajectory_on_map.svg',\n",
      "                                           blobType='BLOCK_BLOB'),\n",
      "                  traj_currents_animation_file=c3.AzureFile(\n",
      "                                                 contentLength=936493,\n",
      "                                                 contentLocation='fs/seaweed-control/devseaweedrc1/ocean_sim_run_results/safety_c3_debug_023/OceanSimRuns/safety_c3_debug_023_batch_seed_2_7_hj_naive_NoObserver/logs/platform_trajectories_currents.gif',\n",
      "                                                 contentType='application/json',\n",
      "                                                 eTag='\"0x8DB13D4AF5DD603\"',\n",
      "                                                 lastModified=datetime.datetime(2023, 2, 21, 6, 27, 19, tzinfo=datetime.timezone.utc),\n",
      "                                                 contentMD5='j/yXfp54q8dOXBLFv+KvVw==',\n",
      "                                                 hasMetadata=True,\n",
      "                                                 url='azure://dev-rcone/fs/seaweed-control/devseaweedrc1/ocean_sim_run_results/safety_c3_debug_023/OceanSimRuns/safety_c3_debug_023_batch_seed_2_7_hj_naive_NoObserver/logs/platform_trajectories_currents.gif',\n",
      "                                                 blobType='BLOCK_BLOB'),\n",
      "                  traj_currents_animation_overlay_file=c3.AzureFile(\n",
      "                                                         contentLength=908133,\n",
      "                                                         contentLocation='fs/seaweed-control/devseaweedrc1/ocean_sim_run_results/safety_c3_debug_023/OceanSimRuns/safety_c3_debug_023_batch_seed_2_7_hj_naive_NoObserver/logs/platform_trajectories_currents_overlay.gif',\n",
      "                                                         contentType='application/json',\n",
      "                                                         eTag='\"0x8DB13D4AF6C79D6\"',\n",
      "                                                         lastModified=datetime.datetime(2023, 2, 21, 6, 27, 20, tzinfo=datetime.timezone.utc),\n",
      "                                                         contentMD5='L0nfkdbPJHD/2KGm0AIcaw==',\n",
      "                                                         hasMetadata=True,\n",
      "                                                         url='azure://dev-rcone/fs/seaweed-control/devseaweedrc1/ocean_sim_run_results/safety_c3_debug_023/OceanSimRuns/safety_c3_debug_023_batch_seed_2_7_hj_naive_NoObserver/logs/platform_trajectories_currents_overlay.gif',\n",
      "                                                         blobType='BLOCK_BLOB'),\n",
      "                  reachability_plot_file=c3.AzureFile(\n",
      "                                           contentLength=10953406,\n",
      "                                           contentLocation='fs/seaweed-control/devseaweedrc1/ocean...\n"
     ]
    }
   ],
   "source": [
    "run = runs[-1] # debug from nicolas\n",
    "print(len(runs))\n",
    "print(run)"
   ]
  },
  {
   "cell_type": "code",
   "execution_count": 9,
   "metadata": {
    "ExecuteTime": {
     "end_time": "2023-02-17T04:34:53.926750Z",
     "start_time": "2023-02-17T04:34:53.869487Z"
    }
   },
   "outputs": [
    {
     "data": {
      "text/plain": [
       "c3.OceanSimRun(\n",
       " id='safety_c3_debug_023_batch_seed_2_7_hj_naive_NoObserver',\n",
       " meta=c3.Meta(\n",
       "        fetchInclude='[{mission:[missionConfig,{experiment:[timeout_in_sec,arenaConfig,objectiveConfig,id]},id]},{controllerSetting:[ctrlConfig,id]},{observerSetting:[observerConfig,id]},id,version]',\n",
       "        fetchType='OceanSimRun'),\n",
       " version=4,\n",
       " mission=c3.Mission(\n",
       "           id='safety_c3_debug_023_batch_seed_2_7',\n",
       "           experiment=c3.Experiment(\n",
       "                        id='safety_c3_debug_023',\n",
       "                        arenaConfig={'bathymetry_dict': {'casadi_cache_settings': {'deg_around_x_t': 10},\n",
       "                                                          'field': 'Bathymetry',\n",
       "                                                          'source': 'gebco',\n",
       "                                                          'source_settings': {'filepath': 'ocean_navigation_simulator/package_data/bathymetry_and_garbage/bathymetry_global_res_0.083_0.083_max.nc'},\n",
       "                                                          'use_geographic_coordinate_system': True},\n",
       "                                      'casadi_cache_dict': {'deg_around_x_t': 2.0,\n",
       "                                                            'time_around_x_t': 432000},\n",
       "                                      'garbage_dict': {'casadi_cache_settings': {'deg_around_x_t': 10},\n",
       "                                                       'field': 'Garbage',\n",
       "                                                       'source': 'Lebreton',\n",
       "                                                       'source_settings': {'filepath': 'ocean_navigation_simulator/package_data/bathymetry_and_garbage/garbage_patch_global_res_0.083_0.083.nc'},\n",
       "                                                       'use_geographic_coordinate_system': True},\n",
       "                                      'ocean_dict': {'forecast': None,\n",
       "                                                     'hindcast': {'field': 'OceanCurrents',\n",
       "                                                                  'source': 'hindcast_files',\n",
       "                                                                  'source_settings': {'currents': 'total',\n",
       "                                                                                      'folder': 'data/miss_gen_hindcast/',\n",
       "                                                                                      'local': False,\n",
       "                                                                                      'source': 'HYCOM',\n",
       "                                                                                      'type': 'hindcast'}},\n",
       "                                                     'region': 'Region 1'},\n",
       "                                      'platform_dict': {'battery_cap_in_wh': 400.0,\n",
       "                                                        'drag_factor': 675.0,\n",
       "                                                        'dt_in_s': 600.0,\n",
       "                                                        'motor_efficiency': 1.0,\n",
       "                                                        'solar_efficiency': 0.2,\n",
       "                                                        'solar_panel_size': 0.5,\n",
       "                                                        'u_max_in_mps': 0.1},\n",
       "                                      'seaweed_dict': {'forecast': None,\n",
       "                                                       'hindcast': None},\n",
       "                                      'solar_dict': {'forecast': None,\n",
       "                                                     'hindcast': None},\n",
       "                                      'spatial_boundary': None,\n",
       "                                      'use_geographic_coordinate_system': True},\n",
       "                        timeout_in_sec=432000,\n",
       "                        objectiveConfig={'type': 'nav'},\n",
       "                        T_horizon_FC_Error_Calculation_in_h=96),\n",
       "           missionConfig={'feasible': True,\n",
       "                           'seed': 84871,\n",
       "                           'target_radius': 0.1,\n",
       "                           'ttr_in_h': 83.68390581490692,\n",
       "                           'x_0': [{'date_time': '2022-08-19T20:56:27+00:00',\n",
       "                                    'lat': 27.402587890625,\n",
       "                                    'lon': -111.0211410522461}],\n",
       "                           'x_T': {'lat': 26.696332782960205,\n",
       "                                   'lon': -110.88425173003826}}),\n",
       " controllerSetting=c3.ControllerSetting(\n",
       "                     id='safety_c3_debug_023_hj_naive',\n",
       "                     ctrlConfig={'T_goal_in_seconds': 518400,\n",
       "                                  'accuracy': 'high',\n",
       "                                  'artificial_dissipation_scheme': 'local_local',\n",
       "                                  'ctrl_name': 'ocean_navigation_simulator.controllers.hj_planners.HJReach2DPlanner.HJReach2DPlanner',\n",
       "                                  'd_max': 0.0,\n",
       "                                  'deg_around_xt_xT_box': 1.0,\n",
       "                                  'direction': 'multi-time-reach-back',\n",
       "                                  'grid_res': 0.02,\n",
       "                                  'n_time_vector': 200,\n",
       "                                  'progress_bar': True,\n",
       "                                  'replan_every_X_seconds': None,\n",
       "                                  'replan_on_new_fmrc': True,\n",
       "                                  'use_geographic_coordinate_system': True}),\n",
       " observerSetting=c3.ObserverSetting(\n",
       "                   id='safety_c3_debug_023_NoObserver',\n",
       "                   observerConfig={'observer': None}))"
      ]
     },
     "execution_count": 9,
     "metadata": {},
     "output_type": "execute_result"
    }
   ],
   "source": [
    "# ensure we have all necessary data to run\n",
    "this = runs[-1].get(\n",
    "    \"mission.missionConfig, mission.experiment.timeout_in_sec,\"\n",
    "    + \"mission.experiment.arenaConfig, mission.experiment.objectiveConfig,\"\n",
    "    + \"controllerSetting.ctrlConfig, observerSetting.observerConfig\"\n",
    ")\n",
    "this"
   ]
  },
  {
   "cell_type": "code",
   "execution_count": 10,
   "metadata": {
    "ExecuteTime": {
     "end_time": "2023-02-17T04:34:58.135034Z",
     "start_time": "2023-02-17T04:34:58.079386Z"
    }
   },
   "outputs": [
    {
     "data": {
      "text/plain": [
       "c3.OceanSimRun(\n",
       " id='safety_c3_debug_023_batch_seed_2_7_hj_naive_NoObserver',\n",
       " version=5)"
      ]
     },
     "execution_count": 10,
     "metadata": {},
     "output_type": "execute_result"
    }
   ],
   "source": [
    "# update the entry while it's running\n",
    "new_osr = c3.OceanSimRun(**{\"id\": this.id, \"status\": \"running_sim\"})\n",
    "new_osr.merge()"
   ]
  },
  {
   "cell_type": "code",
   "execution_count": 11,
   "metadata": {
    "ExecuteTime": {
     "end_time": "2023-02-17T04:35:07.522803Z",
     "start_time": "2023-02-17T04:35:07.494328Z"
    }
   },
   "outputs": [],
   "source": [
    "import os\n",
    "import pickle\n",
    "import logging\n",
    "import datetime\n",
    "import numpy as np\n",
    "import wandb\n",
    "import matplotlib.pyplot as plt\n",
    "import pandas as pd\n",
    "import contextlib\n",
    "\n",
    "\n",
    "import ocean_navigation_simulator\n",
    "from ocean_navigation_simulator.environment.ArenaFactory import ArenaFactory\n",
    "from ocean_navigation_simulator.problem_factories.Constructor import Constructor\n",
    "from ocean_navigation_simulator.environment.PlatformState import SpatioTemporalPoint\n",
    "\n",
    "@contextlib.contextmanager\n",
    "def dummy_context_mgr():\n",
    "    yield None"
   ]
  },
  {
   "cell_type": "code",
   "execution_count": 12,
   "metadata": {
    "ExecuteTime": {
     "end_time": "2023-02-17T04:35:09.558798Z",
     "start_time": "2023-02-17T04:35:08.357698Z"
    }
   },
   "outputs": [
    {
     "name": "stderr",
     "output_type": "stream",
     "text": [
      "ERROR:wandb.jupyter:Failed to detect the name of this notebook, you can set it manually with the WANDB_NOTEBOOK_NAME environment variable to enable code saving.\n",
      "\u001b[34m\u001b[1mwandb\u001b[0m: Currently logged in as: \u001b[33ma-doering\u001b[0m. Use \u001b[1m`wandb login --relogin`\u001b[0m to force relogin\n"
     ]
    },
    {
     "data": {
      "text/html": [
       "Tracking run with wandb version 0.13.10"
      ],
      "text/plain": [
       "<IPython.core.display.HTML object>"
      ]
     },
     "metadata": {},
     "output_type": "display_data"
    },
    {
     "data": {
      "text/html": [
       "Run data is saved locally in <code>/home/andy/code/OceanPlatformControl/wandb/run-20230222_182102-safety_c3_debug_023_batch_seed_2_7_hj_naive_NoObserver</code>"
      ],
      "text/plain": [
       "<IPython.core.display.HTML object>"
      ]
     },
     "metadata": {},
     "output_type": "display_data"
    },
    {
     "data": {
      "text/html": [
       "Syncing run <strong><a href='https://wandb.ai/a-doering/OceanSafetyTest/runs/safety_c3_debug_023_batch_seed_2_7_hj_naive_NoObserver' target=\"_blank\">HJ_HC_days_6.0_u_0.1_region_Region 1_id_safety_c3_debug_023_batch_seed_2_7_hj_naive_NoObserver</a></strong> to <a href='https://wandb.ai/a-doering/OceanSafetyTest' target=\"_blank\">Weights & Biases</a> (<a href='https://wandb.me/run' target=\"_blank\">docs</a>)<br/>"
      ],
      "text/plain": [
       "<IPython.core.display.HTML object>"
      ]
     },
     "metadata": {},
     "output_type": "display_data"
    },
    {
     "data": {
      "text/html": [
       " View project at <a href='https://wandb.ai/a-doering/OceanSafetyTest' target=\"_blank\">https://wandb.ai/a-doering/OceanSafetyTest</a>"
      ],
      "text/plain": [
       "<IPython.core.display.HTML object>"
      ]
     },
     "metadata": {},
     "output_type": "display_data"
    },
    {
     "data": {
      "text/html": [
       " View run at <a href='https://wandb.ai/a-doering/OceanSafetyTest/runs/safety_c3_debug_023_batch_seed_2_7_hj_naive_NoObserver' target=\"_blank\">https://wandb.ai/a-doering/OceanSafetyTest/runs/safety_c3_debug_023_batch_seed_2_7_hj_naive_NoObserver</a>"
      ],
      "text/plain": [
       "<IPython.core.display.HTML object>"
      ]
     },
     "metadata": {},
     "output_type": "display_data"
    }
   ],
   "source": [
    "arenaConfig = this.mission.experiment.arenaConfig\n",
    "arenaConfig[\"timeout\"] = this.mission.experiment.timeout_in_sec\n",
    "to_download_forecast_files = False\n",
    "\n",
    "### Prepare data for wandb ###\n",
    "ctrlConfig = this.controllerSetting.ctrlConfig\n",
    "missionConfig = this.mission.missionConfig\n",
    "observerConfig = this.observerSetting.observerConfig\n",
    "\n",
    "# Prepare variables for run naming\n",
    "# Planning horizon in days\n",
    "T_in_days = ctrlConfig[\"T_goal_in_seconds\"] / (24 * 3600)\n",
    "# Prepare string whether we use only HC or FC/HC\n",
    "if arenaConfig[\"ocean_dict\"][\"forecast\"] is not None:\n",
    "    data_sources = \"FC_HC\"\n",
    "else:\n",
    "    data_sources = \"HC\"\n",
    "\n",
    "# TODO: figure out running with/without obstacles\n",
    "# if (\n",
    "#     ctrlConfig[\"ctrl_name\"]\n",
    "#     == \"ocean_navigation_simulator.controllers.hj_planners.HJBSeaweed2DPlanner.HJBSeaweed2DPlanner\"\n",
    "# ):\n",
    "#     ctrl_name = \"HJ\"\n",
    "# else:\n",
    "#     ctrl_name = \"undefined\"\n",
    "\n",
    "umax = arenaConfig[\"platform_dict\"][\"u_max_in_mps\"]\n",
    "\n",
    "# Log metrics in WandB\n",
    "os.environ[\"WANDB_API_KEY\"] = \"8a97299607753ca36a26bec54e0c579f7bd180a4\"\n",
    "region = arenaConfig[\"ocean_dict\"].get(\"region\")\n",
    "\n",
    "# TODO: rename ctrl name\n",
    "ctrl_name = \"HJ\"\n",
    "# TODO: rename project once it is not test anymore\n",
    "wandb.init(\n",
    "    # Set the project where this run will be logged\n",
    "    project=\"OceanSafetyTest\",\n",
    "    entity=\"a-doering\",\n",
    "    id=this.id,\n",
    "    # We pass a run name (otherwise it’ll be randomly assigned, like sunshine-lollypop-10)\n",
    "    name=f\"{ctrl_name}_{data_sources}_days_{T_in_days}_u_{umax}_region_{region}_id_{this.id}\",\n",
    "    # Track hyperparameters and run metadata\n",
    "    config={\n",
    "        \"missionConfig\": missionConfig,\n",
    "        \"arenaConfig\": arenaConfig,\n",
    "        \"ctrlConfig\": ctrlConfig,\n",
    "        \"observerConfig\": observerConfig,\n",
    "        \"mission.id\": this.mission.id,\n",
    "        \"experiment.id\": this.mission.experiment.id,\n",
    "        # \"path_to_local_data\": user_param[\"metrics_dir\"],\n",
    "    },\n",
    ")\n",
    "\n",
    "##############################\n",
    "# Set up file paths and download folders\n",
    "# create strings for all files and external directories where to save results\n",
    "temp_folder = \"/tmp/\" + this.id + \"/\"\n",
    "# create the folder if it doesn't exist yet\n",
    "if not os.path.isdir(temp_folder):\n",
    "    os.mkdir(temp_folder)\n",
    "log_file_name = this.id + \".log\"\n",
    "logging.basicConfig(\n",
    "    filename=temp_folder + log_file_name, level=logging.DEBUG, force=True\n",
    ")\n",
    "traj_file_name = this.id + \".obj\"\n",
    "extDir = (\n",
    "    \"ocean_sim_run_results/\"\n",
    "    + this.mission.experiment.id\n",
    "    + \"/OceanSimRuns/\"\n",
    "    + this.id\n",
    ")\n",
    "\n",
    "# Safety path replacements\n",
    "filepath = ocean_navigation_simulator.__file__\n",
    "module_path = os.path.dirname(filepath)\n",
    "\n",
    "if (\n",
    "    \"filepath_distance_map\" in missionConfig\n",
    "    and missionConfig[\"filepath_distance_map\"] is not None\n",
    "):\n",
    "    for key in missionConfig[\"filepath_distance_map\"]:\n",
    "        missionConfig[\"filepath_distance_map\"][key] = (\n",
    "            module_path\n",
    "            + missionConfig[\"filepath_distance_map\"][key].split(\n",
    "                \"ocean_navigation_simulator\"\n",
    "            )[-1]\n",
    "        )\n",
    "data_dicts = [\"bathymetry_dict\", \"garbage_dict\"]\n",
    "for d in data_dicts:\n",
    "    if d in arenaConfig and arenaConfig[d] is not None:\n",
    "        arenaConfig[d][\"source_settings\"][\"filepath\"] = (\n",
    "            module_path\n",
    "            + arenaConfig[d][\"source_settings\"][\"filepath\"].split(\n",
    "                \"ocean_navigation_simulator\"\n",
    "            )[-1]\n",
    "        )\n",
    "if (\n",
    "    \"obstacle_dict\" in missionConfig\n",
    "    and missionConfig[\"obstacle_dict\"] is not None\n",
    "):\n",
    "    missionConfig[\"obstacle_dict\"][\"path_to_obstacle_file\"] = (\n",
    "        module_path\n",
    "        + missionConfig[\"obstacle_dict\"][\"path_to_obstacle_file\"].split(\n",
    "            \"ocean_navigation_simulator\"\n",
    "        )[-1]\n",
    "    )\n",
    "\n",
    "# for hindcast\n",
    "arenaConfig[\"ocean_dict\"][\"hindcast\"][\"source_settings\"][\"folder\"] = (\n",
    "    \"/tmp/\" + this.id + \"/hindcast_files/\"\n",
    ")\n",
    "# For forecast\n",
    "if arenaConfig[\"ocean_dict\"][\"forecast\"] is not None:\n",
    "    arenaConfig[\"ocean_dict\"][\"forecast\"][\"source_settings\"][\"folder\"] = (\n",
    "        \"/tmp/\" + this.id + \"/forecast_files/\"\n",
    "    )\n",
    "    to_download_forecast_files = (\n",
    "        arenaConfig[\"ocean_dict\"][\"forecast\"][\"source\"] == \"forecast_files\"\n",
    "    )\n",
    "\n",
    "# Prepping the file download\n",
    "point_to_check = SpatioTemporalPoint.from_dict(\n",
    "    this.mission.missionConfig[\"x_0\"][0]\n",
    ")\n",
    "t_interval = [\n",
    "    point_to_check.date_time,\n",
    "    point_to_check.date_time\n",
    "    + datetime.timedelta(\n",
    "        seconds=this.mission.experiment.timeout_in_sec\n",
    "        + arenaConfig[\"casadi_cache_dict\"][\"time_around_x_t\"]\n",
    "        + 7200\n",
    "    ),\n",
    "]\n",
    "arena, controller = None, None"
   ]
  },
  {
   "cell_type": "code",
   "execution_count": null,
   "metadata": {},
   "outputs": [],
   "source": []
  },
  {
   "cell_type": "code",
   "execution_count": 13,
   "metadata": {
    "ExecuteTime": {
     "end_time": "2023-02-17T04:36:47.144698Z",
     "start_time": "2023-02-17T04:35:21.806956Z"
    }
   },
   "outputs": [
    {
     "name": "stderr",
     "output_type": "stream",
     "text": [
      "100%|██████████| 11/11 [01:29<00:00,  8.16s/it]\n",
      "100%|##########|  1.0000/1.0 [00:37<00:00, 37.15s/sim_s]\n",
      "/home/andy/miniconda3/envs/ocean_platform/lib/python3.9/site-packages/cartopy/mpl/geoaxes.py:1478: UserWarning:\n",
      "\n",
      "No contour levels were found within the data range.\n",
      "\n"
     ]
    },
    {
     "data": {
      "image/png": "[encoded data removed]",
      "text/plain": [
       "<Figure size 1200x1200 with 2 Axes>"
      ]
     },
     "metadata": {},
     "output_type": "display_data"
    }
   ],
   "source": [
    "\n",
    "with (\n",
    "    ArenaFactory.download_files(\n",
    "        config=arenaConfig,\n",
    "        type=\"hindcast\",\n",
    "        t_interval=t_interval,\n",
    "        c3=c3,\n",
    "        points=[point_to_check.to_spatial_point()],\n",
    "    ) as download_hindcast_files_to_local,\n",
    "    ArenaFactory.download_files(\n",
    "        config=arenaConfig,\n",
    "        type=\"forecast\",\n",
    "        t_interval=t_interval,\n",
    "        c3=c3,\n",
    "        points=[point_to_check.to_spatial_point()],\n",
    "    )\n",
    "    if to_download_forecast_files\n",
    "    else dummy_context_mgr() as download_forecast_files_to_local,\n",
    "):\n",
    "    # Step 0: Create Constructor object which contains arena, problem, controller and observer\n",
    "    constructor = Constructor(\n",
    "        arena_conf=arenaConfig,\n",
    "        mission_conf=this.mission.missionConfig,\n",
    "        objective_conf=this.mission.experiment.objectiveConfig,\n",
    "        ctrl_conf=this.controllerSetting.ctrlConfig,\n",
    "        observer_conf=this.observerSetting.observerConfig,\n",
    "    )\n",
    "    # Step 1.1 Retrieve problem\n",
    "    problem = constructor.problem\n",
    "\n",
    "    # Step 1.2: Retrieve arena\n",
    "    arena = constructor.arena\n",
    "    observation = arena.reset(platform_state=problem.start_state)\n",
    "    problem_status = arena.problem_status(problem=problem)\n",
    "\n",
    "    # Step 2: Retrieve Controller\n",
    "    controller = constructor.controller\n",
    "\n",
    "    # Step 2.1\n",
    "    # Log initial reachability snapshot as .jpg and .svg\n",
    "    # need to call controller once before to init. before plot reachability\n",
    "    controller.get_action(observation=observation)\n",
    "    if hasattr(controller, \"plot_reachability_snapshot\"):\n",
    "        ax = controller.plot_reachability_snapshot(\n",
    "            rel_time_in_seconds=0,\n",
    "            granularity_in_h=5,\n",
    "            alpha_color=1,\n",
    "            time_to_reach=True,\n",
    "            fig_size_inches=(12, 12),\n",
    "            plot_in_h=True,\n",
    "            return_ax=True,\n",
    "        )\n",
    "        fig = ax.get_figure()\n",
    "        fig = plt.figure(fig)\n",
    "        plt.savefig(temp_folder + \"reachability_snapshot.svg\")\n",
    "        plt.savefig(temp_folder + \"reachability_snapshot.jpg\", dpi=80)\n",
    "        image_reach = wandb.Image(\n",
    "            temp_folder + \"reachability_snapshot.jpg\",\n",
    "            caption=\"Initial reachability plot\",\n",
    "        )\n",
    "        wandb.log({\"Reachability snapshot\": image_reach}, commit=False)\n",
    "\n",
    "    # Step 3: Retrieve observer\n",
    "    observer = constructor.observer\n",
    "    observer.observe(observation)\n",
    "    observation.forecast_data_source = observer\n",
    "\n",
    "    # Step 4: Run Arena\n",
    "    # Run while problem still open or in garbage\n",
    "    while problem_status == 0 or problem_status == -4:\n",
    "        # Get action\n",
    "        action = controller.get_action(observation=observation)\n",
    "\n",
    "        # execute action\n",
    "        observation = arena.step(action)\n",
    "\n",
    "        # TODO: collect data (e.g. distance to danger)\n",
    "        # Observer data assimilation\n",
    "        observer.observe(observation)\n",
    "        observation.forecast_data_source = observer\n",
    "\n",
    "        # update problem status\n",
    "        problem_status = arena.problem_status(problem=problem)\n",
    "\n",
    "    new_osr.status = \"finished_running\"\n",
    "    new_osr.terminationReason = arena.problem_status_text(problem_status)\n",
    "    if arena.problem_status_text(problem_status) == \"Success\":\n",
    "        new_osr.T_arrival_time = (\n",
    "            arena.state_trajectory[-1, 2] - arena.state_trajectory[0, 2]\n",
    "        ) / 3600\n",
    "    logged_error_message = None"
   ]
  },
  {
   "cell_type": "code",
   "execution_count": 14,
   "metadata": {
    "ExecuteTime": {
     "end_time": "2023-02-17T04:37:03.104799Z",
     "start_time": "2023-02-17T04:37:02.393967Z"
    }
   },
   "outputs": [],
   "source": [
    "\n",
    "# Step 4: create the OceanSimResult object with the files and upload it\n",
    "if arena is not None:\n",
    "    # Create a large dict with all trajectory data\n",
    "    trajs_dict = {\n",
    "        \"sim_traj\": arena.state_trajectory,\n",
    "        \"sim_ctrl\": arena.action_trajectory,\n",
    "        # \"metrics\": metrics_dict,\n",
    "    }\n",
    "    if controller is not None:\n",
    "        if len(controller.planned_trajs) > 0:\n",
    "            trajs_dict[\"plans\"] = controller.planned_trajs\n",
    "    with open(temp_folder + traj_file_name, \"wb\") as traj_file:\n",
    "        pickle.dump(trajs_dict, traj_file)\n",
    "\n",
    "    if hasattr(controller, \"plot_reachability_snapshot\"):\n",
    "        # Create value function and reach times\n",
    "        value_fct_file_name = this.id + \"_value_fct.obj\"\n",
    "        reach_times_file_name = this.id + \"_reach_times.obj\"\n",
    "\n",
    "        with open(temp_folder + value_fct_file_name, \"wb\") as value_fct_file:\n",
    "            pickle.dump(np.array(constructor.controller.all_values), value_fct_file)\n",
    "\n",
    "        with open(temp_folder + reach_times_file_name, \"wb\") as reach_times_file:\n",
    "            pickle.dump(\n",
    "                np.array(constructor.controller.reach_times), reach_times_file\n",
    "            )\n",
    "\n",
    "    # Step 4.3 upload the traj_file_name together with the log_file_name to blob storage\n",
    "    # Upload log file\n",
    "    new_osr.oceanSimResult = c3.OceanSimResult()\n",
    "    if os.path.exists(temp_folder + log_file_name):\n",
    "        c3.Client.uploadLocalClientFiles(\n",
    "            temp_folder + log_file_name,\n",
    "            extDir + \"/logs\",\n",
    "            {\"peekForMetadata\": True},\n",
    "        )\n",
    "        log_file = c3.File(\n",
    "            **{\"url\": extDir + \"/logs/\" + log_file_name}\n",
    "        ).readMetadata()\n",
    "        new_osr.oceanSimResult.log_file = log_file\n",
    "        os.remove(temp_folder + log_file_name)\n",
    "\n",
    "    # Upload traj dict file\n",
    "    if os.path.exists(temp_folder + traj_file_name):\n",
    "        c3.Client.uploadLocalClientFiles(\n",
    "            temp_folder + traj_file_name,\n",
    "            extDir + \"/trajs\",\n",
    "            {\"peekForMetadata\": True},\n",
    "        )\n",
    "        trajs_file = c3.File(\n",
    "            **{\"url\": extDir + \"/trajs/\" + traj_file_name}\n",
    "        ).readMetadata()\n",
    "        new_osr.oceanSimResult.trajectories = trajs_file\n",
    "        os.remove(temp_folder + traj_file_name)\n",
    "\n",
    "    # log shortest distance to target\n",
    "    if this.mission.experiment.objectiveConfig[\"type\"] == \"nav\":\n",
    "        new_osr.minDistanceToTarget = arena.final_distance_to_target(\n",
    "            problem=problem\n",
    "        )"
   ]
  },
  {
   "cell_type": "code",
   "execution_count": null,
   "metadata": {
    "ExecuteTime": {
     "end_time": "2023-02-17T04:37:31.175248Z",
     "start_time": "2023-02-17T04:37:30.884713Z"
    }
   },
   "outputs": [],
   "source": [
    "# !ls /tmp/safety_c3_debug_017_batch_seed_1_6_hj_naive_NoObserver/\n",
    "# #rm /tmp/safety_c3_debug_017_batch_seed_1_7_hj_naive_NoObserver/current_trajectory_on_map.svg\n",
    "# temp_folder + \"current_trajectory_on_map.svg\""
   ]
  },
  {
   "cell_type": "code",
   "execution_count": 15,
   "metadata": {
    "ExecuteTime": {
     "end_time": "2023-02-17T04:38:01.782514Z",
     "start_time": "2023-02-17T04:37:39.403324Z"
    }
   },
   "outputs": [
    {
     "name": "stderr",
     "output_type": "stream",
     "text": [
      "/home/andy/miniconda3/envs/ocean_platform/lib/python3.9/site-packages/matplotlib/contour.py:1491: UserWarning:\n",
      "\n",
      "Warning: converting a masked element to nan.\n",
      "\n",
      "/home/andy/miniconda3/envs/ocean_platform/lib/python3.9/site-packages/matplotlib/contour.py:1492: UserWarning:\n",
      "\n",
      "Warning: converting a masked element to nan.\n",
      "\n",
      "/home/andy/miniconda3/envs/ocean_platform/lib/python3.9/site-packages/cartopy/mpl/geoaxes.py:1478: UserWarning:\n",
      "\n",
      "No contour levels were found within the data range.\n",
      "\n"
     ]
    }
   ],
   "source": [
    "wandb.summary[\"termination_reason\"] = arena.problem_status_text(problem_status)\n",
    "# Log state_trajectory as table/dataframe\n",
    "wandb.log(\n",
    "    {\"data_to_plot\": wandb.Table(dataframe=arena.get_plot_data_for_wandb())},\n",
    "    commit=False,\n",
    ")\n",
    "# Helps to debug to see if there are numerical errors that are global minima.\n",
    "# Does not catch local minima resulting from numerical errors\n",
    "if hasattr(controller, \"plot_reachability_snapshot\"):\n",
    "    wandb.summary[\"value_function_min\"] = np.min(constructor.controller.all_values)\n",
    "wandb.summary[\"garbage_sum\"] = np.sum(arena.state_trajectory[:, 5], axis=0)\n",
    "wandb.summary[\"garbage_average\"] = np.mean(arena.state_trajectory[:, 5], axis=0)\n",
    "\n",
    "# Log trajectory plot on currents as .jpg and .svg\n",
    "ax = arena.plot_all_on_map(\n",
    "    problem=problem, background=\"current\", return_ax=True\n",
    ")\n",
    "fig = ax.get_figure()\n",
    "fig = plt.figure(fig)\n",
    "plt.savefig(temp_folder + \"current_trajectory_on_map.svg\")\n",
    "plt.savefig(temp_folder + \"current_trajectory_on_map.jpg\", dpi=80)\n",
    "\n",
    "# Log trajectory plot on garbage as .jpg and .svg\n",
    "(\n",
    "    time_interval,\n",
    "    lat_bnds,\n",
    "    lon_bnds,\n",
    ") = arena.ocean_field.hindcast_data_source.convert_to_x_y_time_bounds(\n",
    "    x_0=problem.start_state.to_spatio_temporal_point(),\n",
    "    x_T=problem.end_region,\n",
    "    deg_around_x0_xT_box=1,\n",
    "    temp_horizon_in_s=3600,\n",
    ")\n",
    "ax = arena.plot_all_on_map(\n",
    "    problem=problem, background=\"currents\", return_ax=True\n",
    ")\n",
    "ax = arena.garbage_source.plot_mask_from_xarray(\n",
    "    xarray=arena.garbage_source.get_data_over_area(\n",
    "        x_interval=lon_bnds, y_interval=lat_bnds\n",
    "    ),\n",
    "    ax=ax,\n",
    ")\n",
    "fig = ax.get_figure()\n",
    "fig = plt.figure(fig)\n",
    "plt.savefig(temp_folder + \"garbage_trajectory_on_map.svg\")\n",
    "plt.savefig(temp_folder + \"garbage_trajectory_on_map.jpg\", dpi=80)\n",
    "\n",
    "# Log reachability we created before arena loop\n",
    "image_currents = wandb.Image(\n",
    "    temp_folder + \"current_trajectory_on_map.jpg\",\n",
    "    caption=\"Current trajectory on map\",\n",
    ")\n",
    "image_garbage = wandb.Image(\n",
    "    temp_folder + \"garbage_trajectory_on_map.jpg\",\n",
    "    caption=\"Garbage trajectory on map\",\n",
    ")\n",
    "wandb.log({\"Current trajectory on map\": image_currents}, commit=False)\n",
    "wandb.log({\"Garbage trajectory on map\": image_garbage}, commit=True)\n",
    "\n",
    "# log trajectory animations\n",
    "arena.animate_trajectory(\n",
    "    margin=0.25,\n",
    "    problem=problem,\n",
    "    temporal_resolution=3600,\n",
    "    background=\"current\",\n",
    "    output=f\"{temp_folder}platform_trajectories_currents.gif\",\n",
    "    fps=6,\n",
    ")\n",
    "arena.animate_trajectory(\n",
    "    add_ax_func_ext=arena.add_ax_func_ext_overlay,\n",
    "    margin=0.25,\n",
    "    problem=problem,\n",
    "    temporal_resolution=3600,\n",
    "    output=f\"{temp_folder}platform_trajectories_currents_overlay.gif\",\n",
    "    fps=6,\n",
    ")\n",
    "if hasattr(controller, \"plot_reachability_snapshot\"):\n",
    "    controller.plot_reachability_animation(\n",
    "        output=f\"{temp_folder}reachability_animation.gif\",\n",
    "        temporal_resolution=7200,\n",
    "        fps=6\n",
    "    )\n",
    "\n",
    "### Save files to c3 and add link to WandB\n",
    "traj_currents_plot_file_name = \"current_trajectory_on_map.svg\"\n",
    "traj_garbage_plot_file_name = \"garbage_trajectory_on_map.svg\"\n",
    "reachability_plot_file_name = \"reachability_snapshot.svg\"\n",
    "reachability_animation_file_name = \"reachability_animation.gif\"\n",
    "traj_currents_animation_file_name = \"platform_trajectories_currents.gif\"\n",
    "traj_currents_animation_overlay_file_name = (\n",
    "    \"platform_trajectories_currents_overlay.gif\"\n",
    ")"
   ]
  },
  {
   "cell_type": "code",
   "execution_count": null,
   "metadata": {
    "ExecuteTime": {
     "end_time": "2023-02-17T04:38:10.506388Z",
     "start_time": "2023-02-17T04:38:08.241984Z"
    }
   },
   "outputs": [],
   "source": [
    "if hasattr(controller, \"plot_reachability_snapshot\"):\n",
    "    # Add value function\n",
    "    c3.Client.uploadLocalClientFiles(\n",
    "        temp_folder + value_fct_file_name,\n",
    "        extDir + \"/logs\",\n",
    "        {\"peekForMetadata\": True},\n",
    "    )\n",
    "    value_fct_file = c3.File(\n",
    "        **{\"url\": extDir + \"/logs/\" + value_fct_file_name}\n",
    "    ).readMetadata()\n",
    "    new_osr.oceanSimResult.value_fct_file = value_fct_file\n",
    "    os.remove(temp_folder + value_fct_file_name)\n",
    "\n",
    "    # Add reach times array\n",
    "    c3.Client.uploadLocalClientFiles(\n",
    "        temp_folder + reach_times_file_name,\n",
    "        extDir + \"/logs\",\n",
    "        {\"peekForMetadata\": True},\n",
    "    )\n",
    "    reach_times_file = c3.File(\n",
    "        **{\"url\": extDir + \"/logs/\" + reach_times_file_name}\n",
    "    ).readMetadata()\n",
    "    new_osr.oceanSimResult.reach_times_file = reach_times_file\n",
    "    os.remove(temp_folder + reach_times_file_name)\n",
    "\n",
    "    # Add reachability_plot_file_name\n",
    "    c3.Client.uploadLocalClientFiles(\n",
    "        temp_folder + reachability_plot_file_name,\n",
    "        extDir + \"/logs\",\n",
    "        {\"peekForMetadata\": True},\n",
    "    )\n",
    "    reachability_plot_file = c3.File(\n",
    "        **{\"url\": extDir + \"/logs/\" + reachability_plot_file_name}\n",
    "    ).readMetadata()\n",
    "    new_osr.oceanSimResult.reachability_plot_file = reachability_plot_file\n",
    "    os.remove(temp_folder + reachability_plot_file_name)\n",
    "\n",
    "    # Add reachability_animation_file_name\n",
    "    c3.Client.uploadLocalClientFiles(\n",
    "        temp_folder + reachability_animation_file_name,\n",
    "        extDir + \"/logs\",\n",
    "        {\"peekForMetadata\": True},\n",
    "    )\n",
    "    reachability_animation_file = c3.File(\n",
    "        **{\"url\": extDir + \"/logs/\" + reachability_animation_file_name}\n",
    "    ).readMetadata()\n",
    "    new_osr.oceanSimResult.reachability_animation_file = reachability_animation_file\n",
    "    os.remove(temp_folder + reachability_animation_file_name)\n",
    "\n",
    "# Add traj_currents_plot_file_name\n",
    "c3.Client.uploadLocalClientFiles(\n",
    "    temp_folder + traj_currents_plot_file_name,\n",
    "    extDir + \"/logs\",\n",
    "    {\"peekForMetadata\": True},\n",
    ")\n",
    "traj_currents_plot_file = c3.File(\n",
    "    **{\"url\": extDir + \"/logs/\" + traj_currents_plot_file_name}\n",
    ").readMetadata()\n",
    "new_osr.oceanSimResult.traj_currents_plot_file = traj_currents_plot_file\n",
    "os.remove(temp_folder + traj_currents_plot_file_name)\n",
    "\n",
    "# Add traj_garbage_plot_file_name\n",
    "c3.Client.uploadLocalClientFiles(\n",
    "    temp_folder + traj_garbage_plot_file_name,\n",
    "    extDir + \"/logs\",\n",
    "    {\"peekForMetadata\": True},\n",
    ")\n",
    "traj_garbage_plot_file = c3.File(\n",
    "    **{\"url\": extDir + \"/logs/\" + traj_garbage_plot_file_name}\n",
    ").readMetadata()\n",
    "new_osr.oceanSimResult.traj_garbage_plot_file = traj_garbage_plot_file\n",
    "os.remove(temp_folder + traj_garbage_plot_file_name)\n",
    "\n",
    "# Add traj_currents_animation_file_name\n",
    "c3.Client.uploadLocalClientFiles(\n",
    "    temp_folder + traj_currents_animation_file_name,\n",
    "    extDir + \"/logs\",\n",
    "    {\"peekForMetadata\": True},\n",
    ")\n",
    "traj_currents_animation_file = c3.File(\n",
    "    **{\"url\": extDir + \"/logs/\" + traj_currents_animation_file_name}\n",
    ").readMetadata()\n",
    "new_osr.oceanSimResult.traj_currents_animation_file = (\n",
    "    traj_currents_animation_file\n",
    ")\n",
    "os.remove(temp_folder + traj_currents_animation_file_name)\n",
    "\n",
    "# Add traj_currents_animation_overlay_file_name\n",
    "c3.Client.uploadLocalClientFiles(\n",
    "    temp_folder + traj_currents_animation_overlay_file_name,\n",
    "    extDir + \"/logs\",\n",
    "    {\"peekForMetadata\": True},\n",
    ")\n",
    "traj_currents_animation_overlay_file = c3.File(\n",
    "    **{\"url\": extDir + \"/logs/\" + traj_currents_animation_overlay_file_name}\n",
    ").readMetadata()\n",
    "new_osr.oceanSimResult.traj_currents_animation_overlay_file = (\n",
    "    traj_currents_animation_overlay_file\n",
    ")\n",
    "os.remove(temp_folder + traj_currents_animation_overlay_file_name)\n",
    "\n",
    "# Log file urls (links to azure) to wandb summary\n",
    "if hasattr(controller, \"plot_reachability_snapshot\"):\n",
    "    wandb.summary[\"value_fct_array\"] = value_fct_file.generatePresignedUrl(\n",
    "        \"GET\", \"600d\"\n",
    "    )\n",
    "    wandb.summary[\"reach_times_array\"] = reach_times_file.generatePresignedUrl(\n",
    "        \"GET\", \"600d\"\n",
    "    )\n",
    "    wandb.summary[\n",
    "        \"reachability_plot_svg\"\n",
    "    ] = reachability_plot_file.generatePresignedUrl(\"GET\", \"600d\")\n",
    "wandb.summary[\n",
    "    \"traj_current_plot_svg\"\n",
    "] = traj_currents_plot_file.generatePresignedUrl(\"GET\", \"600d\")\n",
    "wandb.summary[\n",
    "    \"traj_currents_animation\"\n",
    "] = traj_currents_animation_file.generatePresignedUrl(\"GET\", \"600d\")\n",
    "\n",
    "if os.path.exists(temp_folder + log_file_name):\n",
    "    wandb.summary[\"log_file\"] = log_file.generatePresignedUrl(\"GET\", \"600d\")\n"
   ]
  },
  {
   "cell_type": "code",
   "execution_count": null,
   "metadata": {
    "ExecuteTime": {
     "end_time": "2023-02-17T03:34:57.161304Z",
     "start_time": "2023-02-17T03:34:56.879042Z"
    }
   },
   "outputs": [],
   "source": [
    "!ls /tmp/safety_c3_debug_017_batch_seed_1_7_hj_naive_NoObserver/\n",
    "!ls -al \n",
    "temp_folder\n"
   ]
  },
  {
   "cell_type": "code",
   "execution_count": null,
   "metadata": {
    "ExecuteTime": {
     "end_time": "2023-02-17T04:40:19.290197Z",
     "start_time": "2023-02-17T04:40:14.677726Z"
    }
   },
   "outputs": [],
   "source": [
    "wandb.finish()"
   ]
  },
  {
   "cell_type": "code",
   "execution_count": null,
   "metadata": {
    "ExecuteTime": {
     "end_time": "2023-02-17T04:41:14.901245Z",
     "start_time": "2023-02-17T04:41:14.761191Z"
    }
   },
   "outputs": [],
   "source": [
    "if new_osr.oceanSimResult is None:\n",
    "    new_osr.oceanSimResult = c3.OceanSimResult(\n",
    "        **{\"error_message\": logged_error_message}\n",
    "    )\n",
    "else:\n",
    "    new_osr.oceanSimResult.error_message = logged_error_message\n",
    "\n",
    "new_osr.merge()"
   ]
  },
  {
   "cell_type": "code",
   "execution_count": null,
   "metadata": {
    "ExecuteTime": {
     "end_time": "2023-02-17T04:41:35.500301Z",
     "start_time": "2023-02-17T04:41:35.473374Z"
    }
   },
   "outputs": [],
   "source": [
    "new_osr.oceanSimResult"
   ]
  },
  {
   "cell_type": "code",
   "execution_count": null,
   "metadata": {},
   "outputs": [],
   "source": [
    "ax = controller.plot_reachability_snapshot(\n",
    "    rel_time_in_seconds=0,\n",
    "    granularity_in_h=5,\n",
    "    alpha_color=1,\n",
    "    time_to_reach=True,\n",
    "    fig_size_inches=(12, 12),\n",
    "    plot_in_h=True,\n",
    "    return_ax=True,\n",
    ")"
   ]
  },
  {
   "cell_type": "code",
   "execution_count": null,
   "metadata": {},
   "outputs": [],
   "source": [
    "wandb.finish()"
   ]
  },
  {
   "cell_type": "code",
   "execution_count": null,
   "metadata": {},
   "outputs": [],
   "source": [
    "ax = arena.plot_all_on_map(\n",
    "    problem=problem,\n",
    "    show_control_trajectory=False,\n",
    "    return_ax=True,\n",
    ")"
   ]
  },
  {
   "cell_type": "code",
   "execution_count": null,
   "metadata": {},
   "outputs": [],
   "source": [
    "arena.animate_trajectory(\n",
    "    margin=0.25,\n",
    "    problem=problem,\n",
    "    temporal_resolution=7200,\n",
    "    background=\"current\",\n",
    "    output=f\"{temp_folder}platform_trajectories.mp4\",\n",
    "    fps=10,\n",
    ")"
   ]
  },
  {
   "cell_type": "markdown",
   "metadata": {},
   "source": [
    "# Run Simulation"
   ]
  },
  {
   "cell_type": "code",
   "execution_count": null,
   "metadata": {},
   "outputs": [],
   "source": [
    "# Create the Experiment Batch Job Options\n",
    "options = c3.OceanSimRunBatchJobOptions(\n",
    "    **{\n",
    "        \"experiment\": exp,\n",
    "        \"actionRuntime\": \"andreas\",  # enum('marius', 'andreas', 'matthias', 'nicolas')\n",
    "    }\n",
    ")"
   ]
  },
  {
   "cell_type": "code",
   "execution_count": null,
   "metadata": {},
   "outputs": [],
   "source": [
    "# Start the Batch Job\n",
    "run_job = c3.OceanSimRunBatchJob(**{\"options\": options.toJson()}).upsert()\n",
    "# run_job.numAutoRecoveryAttempts = 1\n",
    "run_job.start()\n",
    "run_job"
   ]
  },
  {
   "cell_type": "code",
   "execution_count": null,
   "metadata": {},
   "outputs": [],
   "source": [
    "# run_job = c3.OceanSimRunBatchJob.get('03b44bae-1a6e-4fa1-b07e-d906b48b84bf')\n",
    "run_job.status()"
   ]
  },
  {
   "cell_type": "code",
   "execution_count": null,
   "metadata": {},
   "outputs": [],
   "source": [
    "experiment = \"mission.experiment.id==\" + '\"' + exp.id + '\"'\n",
    "objs_list = c3.OceanSimRun.fetch(spec={\"include\": \"[this]\", \"filter\": experiment}).objs\n",
    "print(\"Total of {} OceanSimRuns\".format(len(objs_list)))\n",
    "\n",
    "staged_to_run = 0\n",
    "running_sim = 0\n",
    "finished_running = 0\n",
    "run_failed = 0\n",
    "for run in objs_list:\n",
    "    if run.status == \"staged_to_run\":\n",
    "        staged_to_run += 1\n",
    "    elif run.status == \"running_sim\":\n",
    "        running_sim += 1\n",
    "    elif run.status == \"finished_running\":\n",
    "        finished_running += 1\n",
    "    elif run.status == \"run_failed\":\n",
    "        run_failed += 1\n",
    "\n",
    "print(\"staged_to_run: \", staged_to_run)\n",
    "print(\"running_sim: \", running_sim)\n",
    "print(\"finished_running: \", finished_running)\n",
    "print(\"run_failed: \", run_failed)"
   ]
  },
  {
   "cell_type": "code",
   "execution_count": null,
   "metadata": {},
   "outputs": [],
   "source": [
    "c3.Cluster.actionDump()"
   ]
  },
  {
   "cell_type": "code",
   "execution_count": null,
   "metadata": {},
   "outputs": [],
   "source": [
    "exp_filter = \"mission.experiment.id==\" + '\"' + exp.get(\"experimentName\").experimentName + '\"'\n",
    "all_exp_runs = c3.OceanSimRun.fetch(\n",
    "    spec={\"include\": \"[this]\", \"filter\": exp_filter, \"order\": \"ascending(mission.id)\", \"limit\": -1}\n",
    ").objs"
   ]
  },
  {
   "cell_type": "code",
   "execution_count": null,
   "metadata": {},
   "outputs": [],
   "source": [
    "all_exp_runs"
   ]
  },
  {
   "cell_type": "code",
   "execution_count": null,
   "metadata": {},
   "outputs": [],
   "source": [
    "import pandas as pd\n",
    "\n",
    "\n",
    "def get_results_df(this):\n",
    "    # get all runs from the database (NOTE this can only get 2000 at a time!)\n",
    "    exp_filter = \"mission.experiment.id==\" + '\"' + this.get(\"experimentName\").experimentName + '\"'\n",
    "    all_exp_runs = c3.OceanSimRun.fetch(\n",
    "        spec={\n",
    "            \"include\": \"[this]\",\n",
    "            \"filter\": exp_filter,\n",
    "            \"order\": \"ascending(mission.id)\",\n",
    "            \"limit\": -1,\n",
    "        }\n",
    "    ).objs\n",
    "    # get a list of all termination reasons\n",
    "    termination_reason = []\n",
    "    status = []\n",
    "    arrival_time = []\n",
    "    minDistanceToTarget = []\n",
    "    ctrl_obs_name = []\n",
    "    mission_ids = []\n",
    "\n",
    "    for run in all_exp_runs:\n",
    "        # get mission_id\n",
    "        mission_ids.append(run.get(\"mission\").mission.id)\n",
    "        # get ctrl_obs setting\n",
    "        ctrl_obs_name.append(\n",
    "            run.get(\"controllerSetting.name\").controllerSetting.name\n",
    "            + \"__\"\n",
    "            + run.get(\"observerSetting.name\").observerSetting.name\n",
    "        )\n",
    "        # add outcomes\n",
    "        termination_reason.append(run.terminationReason)\n",
    "        status.append(run.status)\n",
    "        arrival_time.append(run.T_arrival_time)\n",
    "        minDistanceToTarget.append(run.minDistanceToTarget)\n",
    "\n",
    "    # Make a df out of it\n",
    "    df = pd.DataFrame(\n",
    "        list(\n",
    "            zip(\n",
    "                mission_ids,\n",
    "                ctrl_obs_name,\n",
    "                status,\n",
    "                termination_reason,\n",
    "                arrival_time,\n",
    "                minDistanceToTarget,\n",
    "            )\n",
    "        ),\n",
    "        columns=[\n",
    "            \"mission_id\",\n",
    "            \"setting\",\n",
    "            \"status\",\n",
    "            \"termination_reason\",\n",
    "            \"arrival_time\",\n",
    "            \"minDistance\",\n",
    "        ],\n",
    "    )\n",
    "\n",
    "    return df"
   ]
  },
  {
   "cell_type": "code",
   "execution_count": null,
   "metadata": {},
   "outputs": [],
   "source": [
    "df = get_results_df(exp)"
   ]
  },
  {
   "cell_type": "code",
   "execution_count": null,
   "metadata": {},
   "outputs": [],
   "source": [
    "df"
   ]
  }
 ],
 "metadata": {
  "has_local_update": false,
  "is_local": true,
  "is_remote": true,
  "kernelspec": {
   "display_name": "ocean_platform",
   "language": "python",
   "name": "python3"
  },
  "language_info": {
   "codemirror_mode": {
    "name": "ipython",
    "version": 3
   },
   "file_extension": ".py",
   "mimetype": "text/x-python",
   "name": "python",
   "nbconvert_exporter": "python",
   "pygments_lexer": "ipython3",
   "version": "3.9.15"
  },
  "last_sync_time": "2023-02-17T19:21:44.012456",
  "vscode": {
   "interpreter": {
    "hash": "0e68e1188560e0264452509f800ed9cbe968b82eeca5d5a7e494819bbb829a34"
   }
  }
 },
 "nbformat": 4,
 "nbformat_minor": 2
}
