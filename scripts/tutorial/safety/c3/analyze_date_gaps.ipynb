{
 "cells": [
  {
   "cell_type": "code",
   "execution_count": null,
   "metadata": {},
   "outputs": [],
   "source": [
    "from ocean_navigation_simulator.environment.ArenaFactory import ArenaFactory\n",
    "import matplotlib.pyplot as plt\n",
    "%load_ext autoreload\n",
    "%autoreload 2"
   ]
  },
  {
   "cell_type": "code",
   "execution_count": null,
   "metadata": {},
   "outputs": [],
   "source": [
    "region = [\"Region 1\", \"GOM\", \"Region Matthias\"]\n",
    "archive_type = [\"hindcast\", \"forecast\"]\n",
    "archive_source = [\"Copernicus\", \"HYCOM\"]\n",
    "for r in region:\n",
    "    for i, at in enumerate(archive_type):\n",
    "        for j, ars in enumerate(archive_source):\n",
    "            ArenaFactory.analyze_files(ars, at, r, save_as=r+at+ars+\".png\")\n"
   ]
  },
  {
   "cell_type": "code",
   "execution_count": null,
   "metadata": {},
   "outputs": [],
   "source": [
    "ArenaFactory.analyze_files(\"copernicus\", \"hindcast\", \"GOM\")#\"Region 1\")"
   ]
  }
 ],
 "metadata": {
  "kernelspec": {
   "display_name": "ocean_platform",
   "language": "python",
   "name": "python3"
  },
  "language_info": {
   "codemirror_mode": {
    "name": "ipython",
    "version": 3
   },
   "file_extension": ".py",
   "mimetype": "text/x-python",
   "name": "python",
   "nbconvert_exporter": "python",
   "pygments_lexer": "ipython3",
   "version": "3.9.15"
  },
  "orig_nbformat": 4,
  "vscode": {
   "interpreter": {
    "hash": "0e68e1188560e0264452509f800ed9cbe968b82eeca5d5a7e494819bbb829a34"
   }
  }
 },
 "nbformat": 4,
 "nbformat_minor": 2
}
