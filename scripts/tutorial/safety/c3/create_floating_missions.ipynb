{
 "cells": [
  {
   "cell_type": "code",
   "execution_count": 81,
   "metadata": {},
   "outputs": [
    {
     "name": "stdout",
     "output_type": "stream",
     "text": [
      "The autoreload extension is already loaded. To reload it, use:\n",
      "  %reload_ext autoreload\n"
     ]
    }
   ],
   "source": [
    "import os\n",
    "import datetime\n",
    "import logging\n",
    "import random\n",
    "\n",
    "import matplotlib.pyplot as plt\n",
    "import numpy as np\n",
    "import pandas as pd\n",
    "import xarray as xr\n",
    "\n",
    "\n",
    "from ocean_navigation_simulator.utils import units\n",
    "from ocean_navigation_simulator.utils.misc import get_c3, set_arena_loggers\n",
    "\n",
    "from ocean_navigation_simulator.reinforcement_learning.missions.CachedNavigationProblem import (\n",
    "    CachedNavigationProblem,\n",
    ")\n",
    "from ocean_navigation_simulator.environment.NavigationProblem import (\n",
    "    NavigationProblem,\n",
    ")\n",
    "%load_ext autoreload\n",
    "%autoreload 2"
   ]
  },
  {
   "cell_type": "code",
   "execution_count": 54,
   "metadata": {},
   "outputs": [
    {
     "name": "stdout",
     "output_type": "stream",
     "text": [
      "Starting to connect to c3\n"
     ]
    }
   ],
   "source": [
    "c3 = get_c3()"
   ]
  },
  {
   "cell_type": "code",
   "execution_count": 82,
   "metadata": {},
   "outputs": [],
   "source": [
    "experiment_name = \"safety_floating_10k_10d\"\n",
    "exp = c3.Experiment.get(experiment_name)"
   ]
  },
  {
   "cell_type": "code",
   "execution_count": 83,
   "metadata": {},
   "outputs": [],
   "source": [
    "timeout_sim_h = 24 * 10\n",
    "safe_distance = 2\n",
    "arena_config = {\n",
    "    \"casadi_cache_dict\": {\"deg_around_x_t\": 2.0, \"time_around_x_t\": 432000},\n",
    "    \"platform_dict\": {\n",
    "        \"battery_cap_in_wh\": 400.0,\n",
    "        \"u_max_in_mps\": 0.1,\n",
    "        \"motor_efficiency\": 1.0,\n",
    "        \"solar_panel_size\": 0.5,\n",
    "        \"solar_efficiency\": 0.2,\n",
    "        \"drag_factor\": 675.0,\n",
    "        \"dt_in_s\": 600.0,\n",
    "    },\n",
    "    \"use_geographic_coordinate_system\": True,\n",
    "    \"spatial_boundary\": None,\n",
    "    \"ocean_dict\": {\n",
    "        \"region\": \"Region 1\",\n",
    "        \"hindcast\": {\n",
    "            \"field\": \"OceanCurrents\",\n",
    "            \"source\": \"hindcast_files\",\n",
    "            \"source_settings\": {\n",
    "                \"folder\": \"data/miss_gen_hindcast/\",\n",
    "                \"local\": False,\n",
    "                \"source\": \"Copernicus\",\n",
    "                \"type\": \"hindcast\",\n",
    "                \"currents\": \"total\",\n",
    "            },\n",
    "        },\n",
    "        \"forecast\": None,\n",
    "    },\n",
    "    \"bathymetry_dict\": {\n",
    "        \"field\": \"Bathymetry\",\n",
    "        \"source\": \"gebco\",\n",
    "        \"source_settings\": {\n",
    "            \"filepath\": \"ocean_navigation_simulator/package_data/bathymetry_and_garbage/bathymetry_global_res_0.083_0.083_max.nc\"\n",
    "        },\n",
    "        \"distance\": {\n",
    "            \"safe_distance\": safe_distance,\n",
    "            \"filepath\": \"ocean_navigation_simulator/package_data/bathymetry_and_garbage/bathymetry_distance_res_0.083_0.083_max_elevation_-150.nc\",\n",
    "        },\n",
    "        \"casadi_cache_settings\": {\"deg_around_x_t\": 10},\n",
    "        \"use_geographic_coordinate_system\": True,\n",
    "    },\n",
    "    \"garbage_dict\": {\n",
    "        \"field\": \"Garbage\",\n",
    "        \"source\": \"Lebreton\",\n",
    "        \"source_settings\": {\n",
    "            \"filepath\": \"ocean_navigation_simulator/package_data/bathymetry_and_garbage/garbage_patch_global_res_0.083_0.083.nc\"\n",
    "        },\n",
    "        \"casadi_cache_settings\": {\"deg_around_x_t\": 10},\n",
    "        \"use_geographic_coordinate_system\": True,\n",
    "    },\n",
    "    \"solar_dict\": {\"hindcast\": None, \"forecast\": None},\n",
    "    \"seaweed_dict\": {\"hindcast\": None, \"forecast\": None},\n",
    "}\n",
    "config = {\n",
    "    ##### Target Sampling #####\n",
    "    # HYCOM HC: lon [-98.0,-76.4000244140625], lat[18.1200008392334,31.92000007629394]\n",
    "    # Copernicus FC: lon: [-98.0, -76.416664], lat: [18.083334, 30.0]\n",
    "    # Combined: [-98.0, -76.416664], [18.1200008392334, 30.0]\n",
    "    # GOM\n",
    "    \"x_range\":[-160, -105], \n",
    "    \"y_range\":[15, 40],\n",
    "    # Region 1\n",
    "    # \"x_range\": [-159, -106],\n",
    "    # \"y_range\": [16, 39],\n",
    "    # \"x_range\": [-160, -105],\n",
    "    # \"y_range\": [15, 40],\n",
    "    \"t_range\": [  # ['2022-08-01T00:00:00+00:00', '2022-08-30T00:00:00+00:00'],\n",
    "        # Copernicus FC: 2022-04 until today, HYCOM Hindcast: 2021-09 until today\n",
    "        datetime.datetime(year=2022, month=1, day=1, tzinfo=datetime.timezone.utc),\n",
    "        datetime.datetime(year=2022, month=12, day=31, tzinfo=datetime.timezone.utc),\n",
    "    ],\n",
    "    \"problem_timeout_in_h\": timeout_sim_h,  # to be considered as feasible\n",
    "    \"problem_target_radius\": 0.1,\n",
    "    ##### HJ Planner #####\n",
    "    \"hj_specific_settings\": {\n",
    "        # 'grid_res' has to be smaller than target_radius to prevent hj_solver errors\n",
    "        \"grid_res\": 0.02,  # Note: this is in deg lat, lon (HYCOM Global is 0.083 and Mexico 0.04)\n",
    "        \"direction\": \"multi-time-reach-back\",\n",
    "        \"n_time_vector\": 199,  # Note that this is the number of time-intervals, the vector is +1 longer because of init_time\n",
    "        \"accuracy\": \"high\",\n",
    "        \"artificial_dissipation_scheme\": \"local_local\",\n",
    "        \"run_without_x_T\": True,\n",
    "        \"progress_bar\": False,\n",
    "        \"T_goal_in_seconds\": 3600 * timeout_sim_h,\n",
    "        \"deg_around_xt_xT_box\": 1.0,  # area over which to run HJ_reachability\n",
    "    },\n",
    "    \"hj_planner_box\": 2.0,\n",
    "    ##### Start Sampling #####\n",
    "    \"feasible_missions_per_target\": 4,\n",
    "    \"feasible_mission_time_in_h\": [timeout_sim_h*0.5, timeout_sim_h*0.9],\n",
    "    \"random_missions_per_target\": 0,\n",
    "    \"random_min_distance_from_target\": 0.5,\n",
    "    \"min_distance_from_hj_frame\": 0.5,\n",
    "    \"min_distance_from_land\": 0.025,\n",
    "    #\"random_min_distance_from_target\": 0.5,\n",
    "    # Safety specific values\n",
    "    #\"max_distance_from_land\": 3,\n",
    "    #\"min_distance_from_garbage\": 0,\n",
    "    #\"max_distance_from_garbage\": 0,\n",
    "    ##### Actions #####\n",
    "    \"plot_batch\": False,\n",
    "    \"animate_batch\": False,\n",
    "    \"cache_forecast\": False,\n",
    "    \"cache_hindcast\": False,\n",
    "    ##### Distance maps #####\n",
    "    \"filepath_distance_map\": {\n",
    "        \"bathymetry\": \"ocean_navigation_simulator/package_data/bathymetry_and_garbage/bathymetry_distance_res_0.083_0.083_max_elevation_-150.nc\",\n",
    "        \"garbage\": \"ocean_navigation_simulator/package_data/bathymetry_and_garbage/garbage_patch_distance_res_0.083_0.083_max.nc\",\n",
    "    },\n",
    "}\n",
    "objectiveConfig = {\"type\": \"nav\"}\n",
    "assert timeout_sim_h > config[\"feasible_mission_time_in_h\"][1], \"Timeout set to an unfeasibly small value\"\n",
    "km_per_deg = 110\n",
    "assert config[\"min_distance_from_land\"]*km_per_deg > safe_distance, \"Shouldn't sample missions that fail in first timestep\"\n"
   ]
  },
  {
   "cell_type": "code",
   "execution_count": 84,
   "metadata": {},
   "outputs": [],
   "source": [
    "if type(config[\"t_range\"][0]) == str:\n",
    "    config[\"t_range\"] = [datetime.datetime.fromisoformat(t) for t in config[\"t_range\"]]\n",
    "max_time_delta = (config[\"t_range\"][1]-config[\"t_range\"][0]) - datetime.timedelta(hours=config[\"problem_timeout_in_h\"], days=1)\n",
    "distance_map = xr.open_dataset(\n",
    "                config[\"filepath_distance_map\"][\"bathymetry\"]\n",
    "            )"
   ]
  },
  {
   "cell_type": "code",
   "execution_count": 85,
   "metadata": {},
   "outputs": [],
   "source": [
    "exp = c3.Experiment.createNew(\n",
    "    name=experiment_name,\n",
    "    description=\"10k floating\",\n",
    "    arenaConfig=arena_config,\n",
    "    objectiveConfig=objectiveConfig,\n",
    "    timeout_in_sec=3600 * timeout_sim_h,\n",
    ")\n",
    "# Stupid\n",
    "exp.experimentName = experiment_name"
   ]
  },
  {
   "cell_type": "code",
   "execution_count": 86,
   "metadata": {},
   "outputs": [
    {
     "name": "stdout",
     "output_type": "stream",
     "text": [
      "Rejection rate: 0.172\n"
     ]
    }
   ],
   "source": [
    "num_points = 10000\n",
    "on_land = 0\n",
    "runs = []\n",
    "missions = []\n",
    "i = 0\n",
    "while len(runs) < num_points:\n",
    "    # Sample geospatial coordinates\n",
    "    lon = np.random.uniform(config[\"x_range\"][0]+0.5, config[\"x_range\"][1]-0.5)\n",
    "    lat = np.random.uniform(config[\"y_range\"][0]+0.5, config[\"y_range\"][1]-0.5)\n",
    "    date_time = config[\"t_range\"][0] + datetime.timedelta(days=np.random.uniform(0, max_time_delta.days))\n",
    "\n",
    "    distance_to_shore = distance_map.interp(lon=lon, lat=lat)[\"distance\"].data\n",
    "    # Check for on land\n",
    "    if distance_to_shore < config[\"min_distance_from_land\"]*111:    # Sample datetime range            miss_number = 0\n",
    "        on_land += 1\n",
    "        continue\n",
    "    i+=1\n",
    "    missionConfig = {'x_0': [{'lon': lon,\n",
    "        'lat': lat,\n",
    "        'date_time': date_time.isoformat()}],\n",
    "        'x_T': {'lon': 0, 'lat': 0},\n",
    "        'target_radius': 0.1,\n",
    "        'seed': i,\n",
    "        'feasible': True,\n",
    "        'ttr_in_h': 500}\n",
    "\n",
    "    name = \"mission_nr_\" + str(i)    \n",
    "    mission = c3.Mission(**{\n",
    "        'id': exp.id + \"_\" + name,\n",
    "        'status': 'staged_for_feasibility',\n",
    "        'experiment': exp.id,\n",
    "        'missionConfig': missionConfig,\n",
    "        'fundamentalFeasibility': missionConfig.get('feasible', None),\n",
    "        'T_earliest_in_hours': missionConfig.get('ttr_in_h', None)\n",
    "    })\n",
    "\n",
    "    # create the mission\n",
    "    mission.create()\n",
    "    runs.append(missionConfig)\n",
    "    missions.append(mission)\n",
    "\n",
    "_ = c3.Mission.mergeBatch(missions)\n",
    "\n",
    "print(f\"Rejection rate: {on_land / num_points}\")"
   ]
  },
  {
   "cell_type": "code",
   "execution_count": 87,
   "metadata": {},
   "outputs": [
    {
     "data": {
      "text/plain": [
       "10000"
      ]
     },
     "execution_count": 87,
     "metadata": {},
     "output_type": "execute_result"
    }
   ],
   "source": [
    "m_remove = exp.get(\"expMissions\").expMissions\n",
    "len(m_remove)"
   ]
  },
  {
   "cell_type": "code",
   "execution_count": 79,
   "metadata": {},
   "outputs": [],
   "source": [
    "for m in m_remove:\n",
    "    #m.remove()\n"
   ]
  },
  {
   "cell_type": "code",
   "execution_count": 48,
   "metadata": {},
   "outputs": [
    {
     "name": "stdout",
     "output_type": "stream",
     "text": [
      "1000\n"
     ]
    }
   ],
   "source": [
    "problems = []\n",
    "for run in runs:\n",
    "    problems.append(CachedNavigationProblem.from_c3_mission_config(run))\n",
    "print(len(problems))"
   ]
  },
  {
   "cell_type": "code",
   "execution_count": 50,
   "metadata": {},
   "outputs": [],
   "source": [
    "results_folder = f\"{os.getcwd()}/\"\n",
    "df = pd.DataFrame([problem.to_dict() for problem in problems])\n",
    "df[\"factory_index\"] = 0\n",
    "df.to_csv(results_folder + \"problems.csv\")"
   ]
  },
  {
   "cell_type": "code",
   "execution_count": 51,
   "metadata": {},
   "outputs": [
    {
     "data": {
      "text/plain": [
       "<matplotlib.legend.Legend at 0x7f792eea9b50>"
      ]
     },
     "execution_count": 51,
     "metadata": {},
     "output_type": "execute_result"
    },
    {
     "data": {
      "image/png": "[encoded data removed]",
      "text/plain": [
       "<Figure size 1000x1000 with 1 Axes>"
      ]
     },
     "metadata": {},
     "output_type": "display_data"
    }
   ],
   "source": [
    "import matplotlib.pyplot as plt\n",
    "import cartopy.crs as ccrs\n",
    "import cartopy.feature as cfeature\n",
    "\n",
    "fig = plt.figure(figsize=(10, 10))\n",
    "ax = plt.axes(projection=ccrs.PlateCarree())\n",
    "# ax.set_title(\"Time: \" + datetime.fromtimestamp(time, tz=timezone.utc).strftime('%Y-%m-%d %H:%M:%S UTC'))\n",
    "\n",
    "ax.add_feature(cfeature.LAND, zorder=3, edgecolor=\"black\")\n",
    "ax.add_feature(cfeature.OCEAN, zorder=0)\n",
    "grid_lines = ax.gridlines(draw_labels=True, zorder=5)\n",
    "grid_lines.top_labels = False\n",
    "grid_lines.right_labels = False\n",
    "ax.axis(xmin=config[\"x_range\"][0], xmax=config[\"x_range\"][1])\n",
    "ax.axis(ymin=config[\"y_range\"][0], ymax=config[\"y_range\"][1])\n",
    "# ax.axis(xmin=-160, xmax=-105)\n",
    "#ax.axis(ymin=15, ymax=40)\n",
    "# TODO: adapt Generation runner to use nice plotting\n",
    "for miss_idx in range(len(df)):\n",
    "    ax.scatter(\n",
    "        df.iloc[miss_idx][\"x_0_lon\"],\n",
    "        df.iloc[miss_idx][\"x_0_lat\"],\n",
    "        c=\"red\",\n",
    "        marker=\"o\",\n",
    "        s=6,\n",
    "        label=\"starts\" if miss_idx == 0 else None,\n",
    "    )\n",
    "#ax.scatter(df[\"x_T_lon\"], df[\"x_T_lat\"], c=\"green\", marker=\"x\", s=12, label=\"targets\")\n",
    "ax.legend()\n",
    "# ax.get_figure().savefig(f\"{analysis_folder}starts_and_targets.png\")\n",
    "#ax.get_figure().show()"
   ]
  },
  {
   "cell_type": "code",
   "execution_count": null,
   "metadata": {},
   "outputs": [],
   "source": [
    "# import pandas as pd\n",
    "\n",
    "\n",
    "# def get_results_df(this):\n",
    "#     # get all runs from the database (NOTE this can only get 2000 at a time!)\n",
    "#     exp_filter = \"mission.experiment.id==\" + '\"' + this.get(\"experimentName\").experimentName + '\"'\n",
    "#     all_exp_runs = c3.OceanSimRun.fetch(\n",
    "#         spec={\n",
    "#             \"include\": \"[this]\",\n",
    "#             \"filter\": exp_filter,\n",
    "#             \"order\": \"ascending(mission.id)\",\n",
    "#             \"limit\": -1,\n",
    "#         }\n",
    "#     ).objs\n",
    "#     # get a list of all termination reasons\n",
    "#     termination_reason = []\n",
    "#     status = []\n",
    "#     arrival_time = []\n",
    "#     minDistanceToTarget = []\n",
    "#     ctrl_obs_name = []\n",
    "#     mission_ids = []\n",
    "\n",
    "#     for run in all_exp_runs:\n",
    "#         # get mission_id\n",
    "#         mission_ids.append(run.get(\"mission\").mission.id)\n",
    "#         # get ctrl_obs setting\n",
    "#         ctrl_obs_name.append(\n",
    "#             run.get(\"controllerSetting.name\").controllerSetting.name\n",
    "#             + \"__\"\n",
    "#             + run.get(\"observerSetting.name\").observerSetting.name\n",
    "#         )\n",
    "#         # add outcomes\n",
    "#         termination_reason.append(run.terminationReason)\n",
    "#         status.append(run.status)\n",
    "#         arrival_time.append(run.T_arrival_time)\n",
    "#         minDistanceToTarget.append(run.minDistanceToTarget)\n",
    "\n",
    "#     # Make a df out of it\n",
    "#     df = pd.DataFrame(\n",
    "#         list(\n",
    "#             zip(\n",
    "#                 mission_ids,\n",
    "#                 ctrl_obs_name,\n",
    "#                 status,\n",
    "#                 termination_reason,\n",
    "#                 arrival_time,\n",
    "#                 minDistanceToTarget,\n",
    "#             )\n",
    "#         ),\n",
    "#         columns=[\n",
    "#             \"mission_id\",\n",
    "#             \"setting\",\n",
    "#             \"status\",\n",
    "#             \"termination_reason\",\n",
    "#             \"arrival_time\",\n",
    "#             \"minDistance\",\n",
    "#         ],\n",
    "#     )\n",
    "\n",
    "#     return df"
   ]
  }
 ],
 "metadata": {
  "kernelspec": {
   "display_name": "ocean_platform",
   "language": "python",
   "name": "python3"
  },
  "language_info": {
   "codemirror_mode": {
    "name": "ipython",
    "version": 3
   },
   "file_extension": ".py",
   "mimetype": "text/x-python",
   "name": "python",
   "nbconvert_exporter": "python",
   "pygments_lexer": "ipython3",
   "version": "3.9.15"
  },
  "orig_nbformat": 4,
  "vscode": {
   "interpreter": {
    "hash": "0e68e1188560e0264452509f800ed9cbe968b82eeca5d5a7e494819bbb829a34"
   }
  }
 },
 "nbformat": 4,
 "nbformat_minor": 2
}
