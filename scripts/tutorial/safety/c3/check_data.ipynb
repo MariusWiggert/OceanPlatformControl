{
 "cells": [
  {
   "cell_type": "markdown",
   "metadata": {},
   "source": [
    "## Check all hycom hindcasts for time (except GOM)"
   ]
  },
  {
   "cell_type": "code",
   "execution_count": null,
   "metadata": {},
   "outputs": [],
   "source": [
    "# Dict of ids for each region that is not GOM\n",
    "hc_archive_ids = {\n",
    "1: \"6af1e19b-3aa1-480c-8433-83ab3a0fc2f3\",\n",
    "2: \"ffc90ea7-bac3-45dd-aefc-b4b3ee1ed40d\",\n",
    "3: \"15b30061-0338-4ca4-bbe2-1ee1ce12222f\",\n",
    "4: \"bbeadd84-1f55-4951-95d1-3c11dcd85ee5\",\n",
    "5: \"6874690e-87a2-4c21-8ab0-dd95ada4a741\",\n",
    "6: \"36319544-8f10-423c-8185-c8a808056681\",\n",
    "7: \"6f600e6e-26ee-426a-a49f-2d8dec13ed8f\"}\n",
    "for i in range(1,8):\n",
    "    hc_archive_id = hc_archive_ids[i]\n",
    "    hindcast_archive = c3.HycomHindcastArchive.get(hc_archive_id)\n",
    "    #archive_filter = 'archive.id ==' + '\"' + hindcast_archive.id + '\"'  + ' && status == \"downloaded\"'\n",
    "    # If you want all including not downloaded ones\n",
    "    archive_filter = 'archive.id ==' + '\"' + hindcast_archive.id + '\"' # + ' && status == \"downloaded\"'\n",
    "    all_files_in_region = c3.HycomHindcastFile.fetch(spec={'include': \"[this]\",'filter':  archive_filter}).objs\n",
    "    num_files_in_region = len(all_files_in_region)\n",
    "    num_subset_errors, num_name_errors, num_id_errors = 0, 0, 0\n",
    "\n",
    "    for file in all_files_in_region:\n",
    "        if file.subsetOptions.timeRange.end.hour != 21:\n",
    "            #print(file.id, \"SUBSETOPTIONS\", file.subsetOptions.timeRange.end.hour)\n",
    "            num_subset_errors += 1\n",
    "        if file.name[-12:-10] != \"21\":\n",
    "            #print(file.id, \"NAME\", file.name)\n",
    "            num_name_errors += 1\n",
    "        if file.id[-12:-10] != \"21\":\n",
    "            #print(file.id, \"ID\", file.id)\n",
    "            num_id_errors += 1\n",
    "    print(f\"### Region{i} ###\")\n",
    "    print(\"Number of errors: \", num_subset_errors, num_name_errors, num_id_errors, \" Num file in region: \", num_files_in_region)"
   ]
  }
 ],
 "metadata": {
  "kernelspec": {
   "display_name": "ocean_platform",
   "language": "python",
   "name": "python3"
  },
  "language_info": {
   "name": "python",
   "version": "3.9.15"
  },
  "orig_nbformat": 4,
  "vscode": {
   "interpreter": {
    "hash": "0e68e1188560e0264452509f800ed9cbe968b82eeca5d5a7e494819bbb829a34"
   }
  }
 },
 "nbformat": 4,
 "nbformat_minor": 2
}
