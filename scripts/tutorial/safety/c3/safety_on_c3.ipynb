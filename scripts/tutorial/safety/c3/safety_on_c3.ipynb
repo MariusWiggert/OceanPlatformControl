{
 "cells": [
  {
   "cell_type": "markdown",
   "metadata": {},
   "source": [
    "### Imports"
   ]
  },
  {
   "cell_type": "code",
   "execution_count": 1,
   "metadata": {},
   "outputs": [
    {
     "name": "stderr",
     "output_type": "stream",
     "text": [
      "<frozen importlib._bootstrap>:228: RuntimeWarning: scipy._lib.messagestream.MessageStream size changed, may indicate binary incompatibility. Expected 56 from C header, got 64 from PyObject\n"
     ]
    }
   ],
   "source": [
    "import os\n",
    "import datetime\n",
    "import logging\n",
    "import random\n",
    "\n",
    "import matplotlib.pyplot as plt\n",
    "import numpy as np\n",
    "import pandas as pd\n",
    "import xarray as xr\n",
    "\n",
    "\n",
    "import ocean_navigation_simulator\n",
    "from ocean_navigation_simulator.environment.PlatformState import (\n",
    "    PlatformState,\n",
    "    SpatialPoint,\n",
    ")\n",
    "from ocean_navigation_simulator.reinforcement_learning.missions.MissionGenerator import (\n",
    "    MissionGenerator,\n",
    ")\n",
    "from ocean_navigation_simulator.reinforcement_learning.missions.CachedNavigationProblem import (\n",
    "    CachedNavigationProblem,\n",
    ")\n",
    "\n",
    "from ocean_navigation_simulator.reinforcement_learning.runners.GenerationRunner import (\n",
    "    GenerationRunner,\n",
    ")\n",
    "\n",
    "\n",
    "from ocean_navigation_simulator.utils import units\n",
    "from ocean_navigation_simulator.utils.misc import get_c3, set_arena_loggers\n",
    "\n",
    "%load_ext autoreload\n",
    "%autoreload 2"
   ]
  },
  {
   "cell_type": "code",
   "execution_count": 2,
   "metadata": {},
   "outputs": [
    {
     "name": "stdout",
     "output_type": "stream",
     "text": [
      "Starting to connect to c3\n"
     ]
    }
   ],
   "source": [
    "c3 = get_c3()"
   ]
  },
  {
   "attachments": {},
   "cell_type": "markdown",
   "metadata": {},
   "source": [
    "# Set up the experiments"
   ]
  },
  {
   "cell_type": "code",
   "execution_count": 3,
   "metadata": {},
   "outputs": [],
   "source": [
    "experiment_name = \"safety_c3_debug_9\"\n",
    "exp = c3.Experiment.get(experiment_name)\n",
    "# exp.remove()"
   ]
  },
  {
   "cell_type": "code",
   "execution_count": 4,
   "metadata": {},
   "outputs": [],
   "source": [
    "exp"
   ]
  },
  {
   "attachments": {},
   "cell_type": "markdown",
   "metadata": {},
   "source": [
    "### Config"
   ]
  },
  {
   "cell_type": "code",
   "execution_count": 5,
   "metadata": {},
   "outputs": [],
   "source": [
    "timeout_sim_h = 24 * 5\n",
    "arena_config = {\n",
    "    \"casadi_cache_dict\": {\"deg_around_x_t\": 2.0, \"time_around_x_t\": 432000},\n",
    "    \"platform_dict\": {\n",
    "        \"battery_cap_in_wh\": 400.0,\n",
    "        \"u_max_in_mps\": 0.1,\n",
    "        \"motor_efficiency\": 1.0,\n",
    "        \"solar_panel_size\": 0.5,\n",
    "        \"solar_efficiency\": 0.2,\n",
    "        \"drag_factor\": 675.0,\n",
    "        \"dt_in_s\": 600.0,\n",
    "    },\n",
    "    \"use_geographic_coordinate_system\": True,\n",
    "    \"spatial_boundary\": None,\n",
    "    \"ocean_dict\": {\n",
    "        \"region\": \"Region 1\",\n",
    "        \"hindcast\": {\n",
    "            \"field\": \"OceanCurrents\",\n",
    "            \"source\": \"hindcast_files\",\n",
    "            \"source_settings\": {\n",
    "                \"folder\": \"data/miss_gen_hindcast/\",\n",
    "                \"local\": False,\n",
    "                \"source\": \"HYCOM\",\n",
    "                \"type\": \"hindcast\",\n",
    "                \"currents\": \"total\",\n",
    "            },\n",
    "        },\n",
    "        \"forecast\": None,\n",
    "    },\n",
    "    \"bathymetry_dict\": {\n",
    "        \"field\": \"Bathymetry\",\n",
    "        \"source\": \"gebco\",\n",
    "        \"source_settings\": {\n",
    "            \"filepath\": \"ocean_navigation_simulator/package_data/bathymetry_and_garbage/bathymetry_global_res_0.083_0.083_max.nc\"\n",
    "        },\n",
    "        \"casadi_cache_settings\": {\"deg_around_x_t\": 10},\n",
    "        \"use_geographic_coordinate_system\": True,\n",
    "    },\n",
    "    \"garbage_dict\": {\n",
    "        \"field\": \"Garbage\",\n",
    "        \"source\": \"Lebreton\",\n",
    "        \"source_settings\": {\n",
    "            \"filepath\": \"ocean_navigation_simulator/package_data/bathymetry_and_garbage/garbage_patch_global_res_0.083_0.083.nc\"\n",
    "        },\n",
    "        \"casadi_cache_settings\": {\"deg_around_x_t\": 10},\n",
    "        \"use_geographic_coordinate_system\": True,\n",
    "    },\n",
    "    \"solar_dict\": {\"hindcast\": None, \"forecast\": None},\n",
    "    \"seaweed_dict\": {\"hindcast\": None, \"forecast\": None},\n",
    "}\n",
    "config = {\n",
    "    ##### Target Sampling #####\n",
    "    # HYCOM HC: lon [-98.0,-76.4000244140625], lat[18.1200008392334,31.92000007629394]\n",
    "    # Copernicus FC: lon: [-98.0, -76.416664], lat: [18.083334, 30.0]\n",
    "    # Combined: [-98.0, -76.416664], [18.1200008392334, 30.0]\n",
    "    \"x_range\": [-159, -106],\n",
    "    \"y_range\": [16, 39],\n",
    "    # \"x_range\": [-160, -105],\n",
    "    # \"y_range\": [15, 40],\n",
    "    \"t_range\": [  # ['2022-08-01T00:00:00+00:00', '2022-08-30T00:00:00+00:00'],\n",
    "        # Copernicus FC: 2022-04 until today, HYCOM Hindcast: 2021-09 until today\n",
    "        datetime.datetime(year=2022, month=8, day=16, tzinfo=datetime.timezone.utc),\n",
    "        datetime.datetime(year=2022, month=8, day=30, tzinfo=datetime.timezone.utc),\n",
    "    ],\n",
    "    \"problem_timeout_in_h\": timeout_sim_h,  # to be considered as feasible\n",
    "    \"problem_target_radius\": 0.1,\n",
    "    ##### HJ Planner #####\n",
    "    \"hj_specific_settings\": {\n",
    "        # 'grid_res' has to be smaller than target_radius to prevent hj_solver errors\n",
    "        \"grid_res\": 0.02,  # Note: this is in deg lat, lon (HYCOM Global is 0.083 and Mexico 0.04)\n",
    "        \"direction\": \"multi-time-reach-back\",\n",
    "        \"n_time_vector\": 199,  # Note that this is the number of time-intervals, the vector is +1 longer because of init_time\n",
    "        \"accuracy\": \"high\",\n",
    "        \"artificial_dissipation_scheme\": \"local_local\",\n",
    "        \"run_without_x_T\": True,\n",
    "        \"progress_bar\": False,\n",
    "        \"T_goal_in_seconds\": 3600 * timeout_sim_h,  # 7 days here #\n",
    "    },\n",
    "    \"hj_planner_box\": 2.0,\n",
    "    ##### Start Sampling #####\n",
    "    \"feasible_missions_per_target\": 2,\n",
    "    \"feasible_mission_time_in_h\": [80, 110],\n",
    "    \"random_missions_per_target\": 0,\n",
    "    \"random_min_distance_from_target\": 0.5,\n",
    "    \"min_distance_from_hj_frame\": 0.5,\n",
    "    \"min_distance_from_land\": 0.1,\n",
    "    \"random_min_distance_from_target\": 0.5,\n",
    "    # Safety specific values\n",
    "    \"max_distance_from_land\": 3,\n",
    "    \"min_distance_from_garbage\": 0.01,\n",
    "    \"max_distance_from_garbage\": 1,\n",
    "    ##### Actions #####\n",
    "    \"plot_batch\": False,\n",
    "    \"animate_batch\": False,\n",
    "    \"cache_forecast\": False,\n",
    "    \"cache_hindcast\": False,\n",
    "    ##### Distance maps #####\n",
    "    \"filepath_distance_map\": {\n",
    "        \"bathymetry\": \"ocean_navigation_simulator/package_data/bathymetry_and_garbage/bathymetry_distance_res_0.083_0.083_max_elevation_-150.nc\",\n",
    "        \"garbage\": \"ocean_navigation_simulator/package_data/bathymetry_and_garbage/garbage_patch_distance_res_0.083_0.083_max.nc\",\n",
    "    },\n",
    "}\n",
    "objectiveConfig = {\"type\": \"nav\"}"
   ]
  },
  {
   "attachments": {},
   "cell_type": "markdown",
   "metadata": {},
   "source": [
    "### Create Experiment\n",
    "\n",
    "Make sure you really want to create a new experiment and you ran `exp = c3.Experiment.get(experiment_name)` before '\n"
   ]
  },
  {
   "cell_type": "code",
   "execution_count": 6,
   "metadata": {},
   "outputs": [],
   "source": [
    "# create Experiment\n",
    "exp = c3.Experiment.createNew(\n",
    "    name=experiment_name,\n",
    "    description=\"safety\",\n",
    "    arenaConfig=arena_config,\n",
    "    objectiveConfig=objectiveConfig,\n",
    "    timeout_in_sec=3600 * timeout_sim_h,\n",
    ")"
   ]
  },
  {
   "cell_type": "code",
   "execution_count": 7,
   "metadata": {},
   "outputs": [
    {
     "data": {
      "text/plain": [
       "c3.Experiment(\n",
       " id='safety_c3_debug_9',\n",
       " meta=c3.Meta(\n",
       "        fetchInclude='[experimentName,id,version]',\n",
       "        fetchType='Experiment'),\n",
       " version=1,\n",
       " experimentName='safety_c3_debug_9',\n",
       " T_horizon_FC_Error_Calculation_in_h=96)"
      ]
     },
     "execution_count": 7,
     "metadata": {},
     "output_type": "execute_result"
    }
   ],
   "source": [
    "exp = exp.get(\"experimentName\")\n",
    "\n",
    "# name.experimentName = \"test_matthias\"\n",
    "# name.merge()\n",
    "exp"
   ]
  },
  {
   "attachments": {},
   "cell_type": "markdown",
   "metadata": {},
   "source": [
    "# Set up generate batch job"
   ]
  },
  {
   "attachments": {},
   "cell_type": "markdown",
   "metadata": {},
   "source": [
    "## Set up and run mission generation"
   ]
  },
  {
   "cell_type": "code",
   "execution_count": 8,
   "metadata": {},
   "outputs": [],
   "source": [
    "options = c3.GenMissionBatchJobOptionsAndreas(\n",
    "    **{\n",
    "        \"experiment\": exp,\n",
    "        \"missGenBatchConfig\": config,\n",
    "        \"base_seed\": 1,\n",
    "        \"nBatches\": 1,  # each nBatch runs nMissionsGenPerBatch\n",
    "        \"nMissionGenPerBatch\": 2,  # nb workers on which we loop,\n",
    "        'hardwareProfileId': \"appc8m64-w\" #'appc72m660-w', #\"appc8m642-w\" #\"appc72m660-w\" appc8m64-w\n",
    "    }\n",
    ")\n",
    "# total amount of missions: feasible_mission_per_target*nBatches*nMIssionGenPerBatch"
   ]
  },
  {
   "attachments": {},
   "cell_type": "markdown",
   "metadata": {},
   "source": [
    "#### [Debug locally]\n",
    "\n",
    "\n",
    "In case you want to debug the Gen Mission c3 stuff locally. Just copy the according code from `GenMissionBatchJob.py`\n"
   ]
  },
  {
   "cell_type": "code",
   "execution_count": 9,
   "metadata": {},
   "outputs": [],
   "source": [
    "batch = c3.GenMissionBatchJobBatchAndreas(**{\"batch_seed\": 42})\n",
    "options = options"
   ]
  },
  {
   "cell_type": "code",
   "execution_count": 11,
   "metadata": {},
   "outputs": [],
   "source": [
    "\n",
    "# Set up file paths and download folders\n",
    "temp_folder = \"/tmp/\" + str(batch.batch_seed) + \"/\"\n",
    "# create the folder if it doesn't exist yet\n",
    "if not os.path.isdir(temp_folder):\n",
    "    os.mkdir(temp_folder)\n",
    "log_file_name = str(batch.batch_seed) + \".log\"\n",
    "logging.basicConfig(filename=temp_folder + log_file_name, level=logging.INFO, force=True)\n",
    "\n",
    "# change to this if basic setup works test\n",
    "set_arena_loggers(logging.INFO)\n",
    "logging.getLogger(\"MissionGenerator\").setLevel(logging.DEBUG)\n"
   ]
  },
  {
   "cell_type": "code",
   "execution_count": 12,
   "metadata": {},
   "outputs": [],
   "source": [
    "\n",
    "# get configs for mission generation\n",
    "arena_config = options.experiment.get(\"arenaConfig\").arenaConfig\n",
    "# create the MissionGenerator Config\n",
    "config = options.missGenBatchConfig\n",
    "\n",
    "# Lots of replacement\n",
    "filepath = ocean_navigation_simulator.__file__\n",
    "module_path = os.path.dirname(filepath)\n",
    "\n",
    "if \"filepath_distance_map\" in config and config[\"filepath_distance_map\"] is not None:\n",
    "    for key in config[\"filepath_distance_map\"]:\n",
    "        config[\"filepath_distance_map\"][key] =  module_path + config[\"filepath_distance_map\"][key].split(\"ocean_navigation_simulator\")[-1]\n",
    "\n",
    "data_dicts = [\"bathymetry_dict\", \"garbage_dict\"]\n",
    "for d in data_dicts:\n",
    "    if d in arena_config and arena_config[d] is not None:\n",
    "        arena_config[d][\"source_settings\"][\"filepath\"]= module_path + arena_config[d][\"source_settings\"][\"filepath\"].split(\"ocean_navigation_simulator\")[-1]\n",
    "\n",
    "\n",
    "if \"obstacle_dict\" in config and config[\"obstacle_dict\"] is not None:\n",
    "    config[\"obstacle_dict\"][\"path_to_obstacle_file\"] = module_path + config[\"obstacle_dict\"][\"path_to_obstacle_file\"].split(\"ocean_navigation_simulator\")[-1]\n",
    "\n",
    "config_to_add = {\n",
    "    \"scenario_config\": arena_config,\n",
    "    \"problem_timeout\": datetime.timedelta(\n",
    "        seconds=options.experiment.get(\"timeout_in_sec\").timeout_in_sec\n",
    "    ),\n",
    "    \"T_goal_in_seconds\": options.experiment.get(\"timeout_in_sec\").timeout_in_sec,\n",
    "}\n",
    "\n",
    "config = config | config_to_add"
   ]
  },
  {
   "cell_type": "code",
   "execution_count": 13,
   "metadata": {},
   "outputs": [
    {
     "data": {
      "text/plain": [
       "{'x_range': [-159, -106],\n",
       " 'y_range': [16, 39],\n",
       " 't_range': [datetime.datetime(2022, 8, 16, 0, 0, tzinfo=datetime.timezone.utc),\n",
       "  datetime.datetime(2022, 8, 30, 0, 0, tzinfo=datetime.timezone.utc)],\n",
       " 'problem_timeout_in_h': 120,\n",
       " 'problem_target_radius': 0.1,\n",
       " 'hj_specific_settings': {'grid_res': 0.02,\n",
       "  'direction': 'multi-time-reach-back',\n",
       "  'n_time_vector': 199,\n",
       "  'accuracy': 'high',\n",
       "  'artificial_dissipation_scheme': 'local_local',\n",
       "  'run_without_x_T': True,\n",
       "  'progress_bar': False,\n",
       "  'T_goal_in_seconds': 432000},\n",
       " 'hj_planner_box': 2.0,\n",
       " 'feasible_missions_per_target': 2,\n",
       " 'feasible_mission_time_in_h': [80, 110],\n",
       " 'random_missions_per_target': 0,\n",
       " 'random_min_distance_from_target': 0.5,\n",
       " 'min_distance_from_hj_frame': 0.5,\n",
       " 'min_distance_from_land': 0.1,\n",
       " 'max_distance_from_land': 3,\n",
       " 'min_distance_from_garbage': 0.01,\n",
       " 'max_distance_from_garbage': 1,\n",
       " 'plot_batch': False,\n",
       " 'animate_batch': False,\n",
       " 'cache_forecast': False,\n",
       " 'cache_hindcast': False,\n",
       " 'filepath_distance_map': {'bathymetry': '/home/andy/code/OceanPlatformControl/ocean_navigation_simulator/package_data/bathymetry_and_garbage/bathymetry_distance_res_0.083_0.083_max_elevation_-150.nc',\n",
       "  'garbage': '/home/andy/code/OceanPlatformControl/ocean_navigation_simulator/package_data/bathymetry_and_garbage/garbage_patch_distance_res_0.083_0.083_max.nc'},\n",
       " 'scenario_config': {'casadi_cache_dict': {'deg_around_x_t': 2.0,\n",
       "   'time_around_x_t': 432000},\n",
       "  'platform_dict': {'battery_cap_in_wh': 400.0,\n",
       "   'u_max_in_mps': 0.1,\n",
       "   'motor_efficiency': 1.0,\n",
       "   'solar_panel_size': 0.5,\n",
       "   'solar_efficiency': 0.2,\n",
       "   'drag_factor': 675.0,\n",
       "   'dt_in_s': 600.0},\n",
       "  'use_geographic_coordinate_system': True,\n",
       "  'spatial_boundary': None,\n",
       "  'ocean_dict': {'region': 'Region 1',\n",
       "   'hindcast': {'field': 'OceanCurrents',\n",
       "    'source': 'hindcast_files',\n",
       "    'source_settings': {'folder': 'data/miss_gen_hindcast/',\n",
       "     'local': False,\n",
       "     'source': 'HYCOM',\n",
       "     'type': 'hindcast',\n",
       "     'currents': 'total'}},\n",
       "   'forecast': None},\n",
       "  'bathymetry_dict': {'field': 'Bathymetry',\n",
       "   'source': 'gebco',\n",
       "   'source_settings': {'filepath': '/home/andy/code/OceanPlatformControl/ocean_navigation_simulator/package_data/bathymetry_and_garbage/bathymetry_global_res_0.083_0.083_max.nc'},\n",
       "   'casadi_cache_settings': {'deg_around_x_t': 10},\n",
       "   'use_geographic_coordinate_system': True},\n",
       "  'garbage_dict': {'field': 'Garbage',\n",
       "   'source': 'Lebreton',\n",
       "   'source_settings': {'filepath': '/home/andy/code/OceanPlatformControl/ocean_navigation_simulator/package_data/bathymetry_and_garbage/garbage_patch_global_res_0.083_0.083.nc'},\n",
       "   'casadi_cache_settings': {'deg_around_x_t': 10},\n",
       "   'use_geographic_coordinate_system': True},\n",
       "  'solar_dict': {'hindcast': None, 'forecast': None},\n",
       "  'seaweed_dict': {'hindcast': None, 'forecast': None}},\n",
       " 'problem_timeout': datetime.timedelta(days=5),\n",
       " 'T_goal_in_seconds': 432000}"
      ]
     },
     "execution_count": 13,
     "metadata": {},
     "output_type": "execute_result"
    }
   ],
   "source": [
    "config"
   ]
  },
  {
   "cell_type": "code",
   "execution_count": 14,
   "metadata": {},
   "outputs": [
    {
     "name": "stderr",
     "output_type": "stream",
     "text": [
      "100%|██████████| 7/7 [00:01<00:00,  6.65it/s]\n",
      " 86%|████████▌ | 6/7 [00:04<00:00,  1.31it/s]\n",
      "100%|██████████| 8/8 [00:01<00:00,  5.74it/s]\n",
      "100%|██████████| 7/7 [00:01<00:00,  5.37it/s]\n",
      "100%|██████████| 7/7 [00:01<00:00,  5.53it/s]\n",
      "100%|██████████| 8/8 [00:01<00:00,  6.09it/s]\n"
     ]
    }
   ],
   "source": [
    "results_folder = \"/tmp/missions/\"\n",
    "os.makedirs(results_folder, exist_ok=True)\n",
    "# seed all of them\n",
    "random.seed(batch.batch_seed)\n",
    "all_problems = []\n",
    "for worker in range(options.nMissionGenPerBatch):\n",
    "    mission_generator = MissionGenerator(\n",
    "        config=config\n",
    "        | {\n",
    "            \"seed\": int(random.uniform(0, 1000000)),\n",
    "            \"cache_folder\": results_folder + str(worker) + \"_\",\n",
    "        },\n",
    "        c3=c3,\n",
    "    )\n",
    "    problems, _, _ = mission_generator.cache_batch()\n",
    "    all_problems.extend(problems)\n",
    "\n",
    "# Now upload all of them to the mission database!\n",
    "exp = options.experiment\n",
    "for idx, problem in enumerate(all_problems):\n",
    "    try:\n",
    "        exp.addMission(\n",
    "            missionConfig=problem.to_c3_mission_config(),\n",
    "            name=\"batch_seed_\" + str(batch.batch_seed) + \"_\" + str(idx),\n",
    "        )\n",
    "    except BaseException:\n",
    "        continue"
   ]
  },
  {
   "cell_type": "code",
   "execution_count": 20,
   "metadata": {},
   "outputs": [
    {
     "data": {
      "text/plain": [
       "[Problem [start: [-109.63°,22.40°,2022-08-21 23:38:46], end: [-111.08°,22.47°], target_radius: 0.10, ttr: 92h] (INone, GNone BNone FI0),\n",
       " Problem [start: [-110.12°,21.90°,2022-08-21 23:38:46], end: [-111.08°,22.47°], target_radius: 0.10, ttr: 104h] (INone, GNone BNone FI1),\n",
       " Problem [start: [-112.25°,17.50°,2022-08-21 23:52:10], end: [-112.98°,18.30°], target_radius: 0.10, ttr: 108h] (INone, GNone BNone FI0),\n",
       " Problem [start: [-112.50°,18.41°,2022-08-21 23:52:10], end: [-112.98°,18.30°], target_radius: 0.10, ttr: 106h] (INone, GNone BNone FI1)]"
      ]
     },
     "execution_count": 20,
     "metadata": {},
     "output_type": "execute_result"
    }
   ],
   "source": [
    "all_problems"
   ]
  },
  {
   "cell_type": "code",
   "execution_count": null,
   "metadata": {},
   "outputs": [],
   "source": [
    "# all_problems[0]\n",
    "all_problems[0].extra_info"
   ]
  },
  {
   "attachments": {},
   "cell_type": "markdown",
   "metadata": {},
   "source": [
    "### Start Jobs"
   ]
  },
  {
   "cell_type": "code",
   "execution_count": 16,
   "metadata": {},
   "outputs": [
    {
     "data": {
      "text/plain": [
       "c3.GenMissionBatchJobAndreas(\n",
       " typeIdent='BATCHJ:O_AND_GENMISS_BATCH_JOB',\n",
       " id='a319a691-f8d0-49c8-8105-796ae4f95f8a',\n",
       " meta=c3.Meta(\n",
       "        created=datetime.datetime(2023, 2, 8, 23, 49, 52, tzinfo=datetime.timezone.utc),\n",
       "        updated=datetime.datetime(2023, 2, 8, 23, 49, 52, tzinfo=datetime.timezone.utc),\n",
       "        timestamp=datetime.datetime(2023, 2, 8, 23, 49, 52, tzinfo=datetime.timezone.utc)),\n",
       " version=1)"
      ]
     },
     "execution_count": 16,
     "metadata": {},
     "output_type": "execute_result"
    }
   ],
   "source": [
    "gen_mission_job = c3.GenMissionBatchJobAndreas(**{\"options\": options.toJson()}).upsert()\n",
    "# gen_mission_job = c3.GenMissionBatchJob(**{'options': options.toJson()}).upsert()\n",
    "# gen_mission_job.setMaxConcurrency(12)\n",
    "# gen_mission_job.setMaxConcurrencyPerNode(15)\n",
    "gen_mission_job.start()\n",
    "gen_mission_job"
   ]
  },
  {
   "cell_type": "code",
   "execution_count": 26,
   "metadata": {},
   "outputs": [
    {
     "data": {
      "text/plain": [
       "c3.BatchJobStatus(\n",
       " started=datetime.datetime(2023, 2, 8, 23, 49, 53, tzinfo=datetime.timezone.utc),\n",
       " startedby='mariuswiggert@berkeley.edu',\n",
       " status='running',\n",
       " newBatchSubmitted=True)"
      ]
     },
     "execution_count": 26,
     "metadata": {},
     "output_type": "execute_result"
    }
   ],
   "source": [
    "#gen_mission_job = c3.GenMissionBatchJobAndreas.get('17b2ad36-98b6-41d0-b3da-d966c0f10f2f')\n",
    "gen_mission_job.status()"
   ]
  },
  {
   "cell_type": "code",
   "execution_count": 27,
   "metadata": {},
   "outputs": [
    {
     "data": {
      "text/plain": [
       "c3.JobComputingActionsResult(\n",
       " actions=c3.Arry<ClusterAction>([c3.ClusterAction(\n",
       "            id='4538.345549982',\n",
       "            target='c3/c3/BatchQueue?action=dispatchCompute',\n",
       "            tenant='c3',\n",
       "            tag='c3',\n",
       "            status='Running',\n",
       "            child=c3.Action(\n",
       "                    id='4538.345550017',\n",
       "                    target='seaweed-control/devseaweedrc1/BatchQueue?action=compute',\n",
       "                    tenant='seaweed-control',\n",
       "                    tag='devseaweedrc1',\n",
       "                    status='Running',\n",
       "                    child=c3.Action(\n",
       "                            id='4538.345550181',\n",
       "                            target='seaweed-control/devseaweedrc1/GenMissionBatchJobAndreas?action=updateStatus',\n",
       "                            tenant='seaweed-control',\n",
       "                            tag='devseaweedrc1',\n",
       "                            status='Running',\n",
       "                            child=c3.Action(\n",
       "                                    id='4538.345550636',\n",
       "                                    target='seaweed-control/devseaweedrc1/GenMissionBatchJobAndreas?action=invalidate',\n",
       "                                    tenant='seaweed-control',\n",
       "                                    tag='devseaweedrc1',\n",
       "                                    status='Running',\n",
       "                                    child=c3.Action(\n",
       "                                            id='4538.345550641',\n",
       "                                            target='seaweed-control/devseaweedrc1/BatchQueue?action=find',\n",
       "                                            tenant='seaweed-control',\n",
       "                                            tag='devseaweedrc1',\n",
       "                                            status='Running',\n",
       "                                            child=c3.Action(\n",
       "                                                    id='4538.345550662',\n",
       "                                                    target='seaweed-control/devseaweedrc1/SqlInvalidationQueueStore?action=find',\n",
       "                                                    tenant='seaweed-control',\n",
       "                                                    tag='devseaweedrc1',\n",
       "                                                    status='Running',\n",
       "                                                    child=c3.Action(\n",
       "                                                            id='4538.345550671',\n",
       "                                                            target='c3/c3/SqlInvalidationQueueStore?action=find',\n",
       "                                                            tenant='c3',\n",
       "                                                            tag='c3',\n",
       "                                                            status='Running',\n",
       "                                                            child=c3.Action(\n",
       "                                                                    id='4538.345550694',\n",
       "                                                                    target='c3/c3/SqlBatchQueueEntry?action=fetch',\n",
       "                                                                    tenant='c3',\n",
       "                                                                    tag='c3',\n",
       "                                                                    status='Running',\n",
       "                                                                    age='00:00:00.001',\n",
       "                                                                    elapsed=1),\n",
       "                                                            age='00:00:00.001',\n",
       "                                                            elapsed=1),\n",
       "                                                    age='00:00:00.001',\n",
       "                                                    elapsed=1),\n",
       "                                            age='00:00:00.002',\n",
       "                                            elapsed=2),\n",
       "                                    age='00:00:00.002',\n",
       "                                    elapsed=2),\n",
       "                            age='00:00:00.018',\n",
       "                            elapsed=18),\n",
       "                    age='00:00:00.024',\n",
       "                    elapsed=24),\n",
       "            threadId='220',\n",
       "            threadGroup='main',\n",
       "            threadName='Hannibal-63',\n",
       "            age='00:00:00.024',\n",
       "            elapsed=24,\n",
       "            secondaryKey='ce6b15c0-7f0b-44a3-a46b-0ef7b9aa67c7',\n",
       "            host='appc8m64-w-1'),\n",
       "           c3.ClusterAction(\n",
       "            id='5991.473231513',\n",
       "            target='c3/c3/BatchQueue?action=dispatchCompute',\n",
       "            tenant='c3',\n",
       "            tag='c3',\n",
       "            status='Running',\n",
       "            child=c3.Action(\n",
       "                    id='5991.473231542',\n",
       "                    target='seaweed-control/devseaweedrc1/BatchQueue?action=compute',\n",
       "                    tenant='seaweed-control',\n",
       "                    tag='devseaweedrc1',\n",
       "                    status='Running',\n",
       "                    child=c3.Action(\n",
       "                            id='5991.473231753',\n",
       "                            target='seaweed-control/devseaweedrc1/GenMissionBatchJobAndreas?action=dispatchProcessBatch',\n",
       "                            tenant='seaweed-control',\n",
       "                            tag='devseaweedrc1',\n",
       "                            status='Running',\n",
       "                            child=c3.Action(\n",
       "                                    id='5991.473232325',\n",
       "                                    target='seaweed-control/devseaweedrc1/GenMissionBatchJobAndreas?action=processBatch',\n",
       "                                    tenant='seaweed-control',\n",
       "                                    tag='devseaweedrc1',\n",
       "                                    status='Running',\n",
       "                                    age='00:18:43.229',\n",
       "                                    elapsed=1123229),\n",
       "                            age='00:18:43.342',\n",
       "                            elapsed=1123342),\n",
       "                    age='00:18:43.352',\n",
       "                    elapsed=1123352),\n",
       "            threadId='147',\n",
       "            threadGroup='main',\n",
       "            threadName='Hannibal-5',\n",
       "            age='00:18:43.353',\n",
       "            elapsed=1123353,\n",
       "            secondaryKey='418a6840-ef3f-442d-bb89-c82d2ebbe42f',\n",
       "            host='appc8m64-w-2')]),\n",
       " actionsByNode=c3.Mapp<string, [Action]>({'appc8m64-w-1': c3.Arry<Action>([c3.Action(\n",
       "                                   id='4538.345549982',\n",
       "                                   target='c3/c3/BatchQueue?action=dispatchCompute',\n",
       "                                   tenant='c3',\n",
       "                                   tag='c3',\n",
       "                                   status='Running',\n",
       "                                   child=c3.Action(\n",
       "                                           id='4538.345550017',\n",
       "                                           target='seaweed-control/devseaweedrc1/BatchQueue?action=compute',\n",
       "                                           tenant='seaweed-control',\n",
       "                                           tag='devseaweedrc1',\n",
       "                                           status='Running',\n",
       "                                           child=c3.Action(\n",
       "                                                   id='4538.345550181',\n",
       "                                                   target='seaweed-control/devseaweedrc1/GenMissionBatchJobAndreas?action=updateStatus',\n",
       "                                                   tenant='seaweed-control',\n",
       "                                                   tag='devseaweedrc1',\n",
       "                                                   status='Running',\n",
       "                                                   child=c3.Action(\n",
       "                                                           id='4538.345550636',\n",
       "                                                           target='seaweed-control/devseaweedrc1/GenMissionBatchJobAndreas?action=invalidate',\n",
       "                                                           tenant='seaweed-control',\n",
       "                                                           tag='devseaweedrc1',\n",
       "                                                           status='Running',\n",
       "                                                           child=c3.Action(\n",
       "                                                                   id='4538.345550641',\n",
       "                                                                   target='seaweed-control/devseaweedrc1/BatchQueue?action=find',\n",
       "                                                                   tenant='seaweed-control',\n",
       "                                                                   tag='devseaweedrc1',\n",
       "                                                                   status='Running',\n",
       "                                                                   child=c3.Action(\n",
       "                                                                           id='4538.345550662',\n",
       "                                                                           target='seaweed-control/devseaweedrc1/SqlInvalidationQueueStore?action=find',\n",
       "                                                                           tenant='seaweed-control',\n",
       "                                                                           tag='devseaweedrc1',\n",
       "                                                                           status='Running',\n",
       "                                                                           child=c3.Action(\n",
       "                                                                                   id='4538.345550671',\n",
       "                                                                                   target='c3/c3/SqlInvalidationQueueStore?action=find',\n",
       "                                                                                   tenant='c3',\n",
       "                                                                                   tag='c3',\n",
       "                                                                                   status='Running',\n",
       "                                                                                   child=c3.Action(\n",
       "                                                                                           id='4538.345550694',\n",
       "                                                                                           target=..."
      ]
     },
     "execution_count": 27,
     "metadata": {},
     "output_type": "execute_result"
    }
   ],
   "source": [
    "gen_mission_job.computingActions()\n",
    "# gen_mission_job.cancel()"
   ]
  },
  {
   "cell_type": "code",
   "execution_count": null,
   "metadata": {},
   "outputs": [],
   "source": [
    "# Other Utils for the cluster\n",
    "c3.Cluster.actionDump()"
   ]
  },
  {
   "cell_type": "code",
   "execution_count": null,
   "metadata": {},
   "outputs": [],
   "source": [
    "exp"
   ]
  },
  {
   "cell_type": "markdown",
   "metadata": {},
   "source": []
  },
  {
   "cell_type": "code",
   "execution_count": null,
   "metadata": {},
   "outputs": [],
   "source": [
    "len(exp.get(\"expMissions\").expMissions)"
   ]
  },
  {
   "cell_type": "code",
   "execution_count": null,
   "metadata": {},
   "outputs": [],
   "source": [
    "gen_mission_job = c3.GenMissionBatchJob.get('eb92b6ed-b529-4260-9efc-16c605b8b32c')\n",
    "gen_mission_job.status()\n",
    "#gen_mission_job.cancel() # to cancel the jobs"
   ]
  },
  {
   "cell_type": "code",
   "execution_count": null,
   "metadata": {},
   "outputs": [],
   "source": [
    "exp.get(\"expMissions\").expMissions[0].get(\"missionConfig\").missionConfig"
   ]
  },
  {
   "attachments": {},
   "cell_type": "markdown",
   "metadata": {},
   "source": [
    "\n",
    "### Save and load missions from and to experiments instead of generating new ones\n"
   ]
  },
  {
   "attachments": {},
   "cell_type": "markdown",
   "metadata": {},
   "source": [
    "\n",
    "#### Experiment to take the missions from\n"
   ]
  },
  {
   "cell_type": "code",
   "execution_count": 21,
   "metadata": {},
   "outputs": [],
   "source": [
    "problems = []\n",
    "for miss in exp.get(\"expMissions\").expMissions:\n",
    "    missionConfig = miss.get(\"missionConfig\").missionConfig\n",
    "    problems.append(CachedNavigationProblem.from_c3_mission_config(missionConfig))"
   ]
  },
  {
   "cell_type": "code",
   "execution_count": 22,
   "metadata": {},
   "outputs": [],
   "source": [
    "results_folder = f\"{os.getcwd()}/\"\n",
    "df = pd.DataFrame([problem.to_dict() for problem in problems])\n",
    "df[\"factory_index\"] = 0\n",
    "df.to_csv(results_folder + \"problems.csv\")"
   ]
  },
  {
   "cell_type": "code",
   "execution_count": 23,
   "metadata": {},
   "outputs": [
    {
     "data": {
      "text/plain": [
       "4"
      ]
     },
     "execution_count": 23,
     "metadata": {},
     "output_type": "execute_result"
    }
   ],
   "source": [
    "len(problems)"
   ]
  },
  {
   "attachments": {},
   "cell_type": "markdown",
   "metadata": {},
   "source": [
    "\n",
    "##### Make sure you create/select a new experiment where you want to add the retrieved missions to\n"
   ]
  },
  {
   "cell_type": "code",
   "execution_count": null,
   "metadata": {},
   "outputs": [],
   "source": [
    "exp"
   ]
  },
  {
   "cell_type": "code",
   "execution_count": null,
   "metadata": {},
   "outputs": [],
   "source": [
    "# Some stuff in matthias notebook"
   ]
  },
  {
   "cell_type": "code",
   "execution_count": null,
   "metadata": {},
   "outputs": [],
   "source": [
    "for problem in problems:\n",
    "    exp.addMission(problem.to_c3_mission_config())"
   ]
  },
  {
   "cell_type": "code",
   "execution_count": null,
   "metadata": {},
   "outputs": [],
   "source": [
    "len(exp.get(\"expMissions\").expMissions)"
   ]
  },
  {
   "attachments": {},
   "cell_type": "markdown",
   "metadata": {},
   "source": [
    "## Plot all of them on a map and get distribution information"
   ]
  },
  {
   "cell_type": "code",
   "execution_count": 24,
   "metadata": {},
   "outputs": [
    {
     "name": "stderr",
     "output_type": "stream",
     "text": [
      "/tmp/ipykernel_30014/2581456442.py:29: UserWarning:\n",
      "\n",
      "Matplotlib is currently using module://matplotlib_inline.backend_inline, which is a non-GUI backend, so cannot show the figure.\n",
      "\n"
     ]
    },
    {
     "data": {
      "image/png": "[encoded data removed]",
      "text/plain": [
       "<Figure size 1000x1000 with 1 Axes>"
      ]
     },
     "metadata": {},
     "output_type": "display_data"
    }
   ],
   "source": [
    "import matplotlib.pyplot as plt\n",
    "import cartopy.crs as ccrs\n",
    "import cartopy.feature as cfeature\n",
    "\n",
    "fig = plt.figure(figsize=(10, 10))\n",
    "ax = plt.axes(projection=ccrs.PlateCarree())\n",
    "# ax.set_title(\"Time: \" + datetime.fromtimestamp(time, tz=timezone.utc).strftime('%Y-%m-%d %H:%M:%S UTC'))\n",
    "\n",
    "ax.add_feature(cfeature.LAND, zorder=3, edgecolor=\"black\")\n",
    "ax.add_feature(cfeature.OCEAN, zorder=0)\n",
    "grid_lines = ax.gridlines(draw_labels=True, zorder=5)\n",
    "grid_lines.top_labels = False\n",
    "grid_lines.right_labels = False\n",
    "ax.axis(xmin=-160, xmax=-105)\n",
    "ax.axis(ymin=15, ymax=40)\n",
    "# TODO: adapt Generation runner to use nice plotting\n",
    "for miss_idx in range(len(df)):\n",
    "    ax.scatter(\n",
    "        df.iloc[miss_idx][\"x_0_lon\"],\n",
    "        df.iloc[miss_idx][\"x_0_lat\"],\n",
    "        c=\"red\",\n",
    "        marker=\"o\",\n",
    "        s=6,\n",
    "        label=\"starts\" if miss_idx == 0 else None,\n",
    "    )\n",
    "ax.scatter(df[\"x_T_lon\"], df[\"x_T_lat\"], c=\"green\", marker=\"x\", s=12, label=\"targets\")\n",
    "ax.legend()\n",
    "# ax.get_figure().savefig(f\"{analysis_folder}starts_and_targets.png\")\n",
    "ax.get_figure().show()"
   ]
  },
  {
   "cell_type": "code",
   "execution_count": 25,
   "metadata": {},
   "outputs": [
    {
     "data": {
      "image/png": "[encoded data removed]",
      "text/plain": [
       "<Figure size 640x480 with 1 Axes>"
      ]
     },
     "metadata": {},
     "output_type": "display_data"
    },
    {
     "ename": "TypeError",
     "evalue": "plot_starts_and_targets() got an unexpected keyword argument 'pb_filename'",
     "output_type": "error",
     "traceback": [
      "\u001b[0;31m---------------------------------------------------------------------------\u001b[0m",
      "\u001b[0;31mTypeError\u001b[0m                                 Traceback (most recent call last)",
      "Cell \u001b[0;32mIn [25], line 2\u001b[0m\n\u001b[1;32m      1\u001b[0m GenerationRunner\u001b[39m.\u001b[39mplot_ttr_histogram(results_folder)\n\u001b[0;32m----> 2\u001b[0m GenerationRunner\u001b[39m.\u001b[39;49mplot_starts_and_targets(\n\u001b[1;32m      3\u001b[0m     results_folder\u001b[39m=\u001b[39;49mresults_folder,\n\u001b[1;32m      4\u001b[0m     pb_filename\u001b[39m=\u001b[39;49m\u001b[39m\"\u001b[39;49m\u001b[39mproblems.csv\u001b[39;49m\u001b[39m\"\u001b[39;49m,\n\u001b[1;32m      5\u001b[0m     scenario_config\u001b[39m=\u001b[39;49marena_config,\n\u001b[1;32m      6\u001b[0m )\n",
      "\u001b[0;31mTypeError\u001b[0m: plot_starts_and_targets() got an unexpected keyword argument 'pb_filename'"
     ]
    }
   ],
   "source": [
    "GenerationRunner.plot_ttr_histogram(results_folder)\n",
    "GenerationRunner.plot_starts_and_targets(\n",
    "    results_folder=results_folder,\n",
    "    pb_filename=\"problems.csv\",\n",
    "    scenario_config=arena_config,\n",
    ")"
   ]
  },
  {
   "attachments": {},
   "cell_type": "markdown",
   "metadata": {},
   "source": [
    "#### Random utils"
   ]
  },
  {
   "cell_type": "code",
   "execution_count": null,
   "metadata": {},
   "outputs": [],
   "source": [
    "status = \" && status ==\" + '\"' + \"running\" + '\"'\n",
    "all_gen_mission_jobs = c3.GenMissionBatchJobAndreas.fetch(\n",
    "    spec={\n",
    "        \"include\": \"[this]\",\n",
    "    }\n",
    ").objs"
   ]
  },
  {
   "cell_type": "code",
   "execution_count": null,
   "metadata": {},
   "outputs": [],
   "source": [
    "for job in all_gen_mission_jobs:\n",
    "    if job.get(\"BatchJobStatus\").status().status == \"running\":\n",
    "        print(job.get(\"BatchJobStatus\").status().status)\n",
    "        # job.cancel()\n",
    "        # print(job.get(\"BatchJobStatus\").status().status)"
   ]
  },
  {
   "cell_type": "code",
   "execution_count": null,
   "metadata": {},
   "outputs": [],
   "source": []
  },
  {
   "attachments": {},
   "cell_type": "markdown",
   "metadata": {},
   "source": [
    "# Add Observer"
   ]
  },
  {
   "cell_type": "code",
   "execution_count": null,
   "metadata": {},
   "outputs": [],
   "source": [
    "# Config for No observer\n",
    "observer_config = {\"observer\": None}\n",
    "# add observer\n",
    "exp.addObserver(name=\"NoObserver\", observerConfig=observer_config)"
   ]
  },
  {
   "attachments": {},
   "cell_type": "markdown",
   "metadata": {},
   "source": [
    "# Add Controller"
   ]
  },
  {
   "cell_type": "code",
   "execution_count": null,
   "metadata": {},
   "outputs": [],
   "source": [
    "# Controller Configs\n",
    "HJMultiTimeConfig = {\n",
    "    \"replan_every_X_seconds\": None,\n",
    "    \"replan_on_new_fmrc\": True,\n",
    "    \"T_goal_in_seconds\": 3600 * 24 * 6,  # 3d, 43200,     # 12h\n",
    "    \"accuracy\": \"high\",\n",
    "    \"artificial_dissipation_scheme\": \"local_local\",\n",
    "    \"ctrl_name\": \"ocean_navigation_simulator.controllers.hj_planners.HJReach2DPlanner.HJReach2DPlanner\",\n",
    "    \"d_max\": 0.0,\n",
    "    \"deg_around_xt_xT_box\": 1.0,\n",
    "    \"direction\": \"multi-time-reach-back\",\n",
    "    \"grid_res\": 0.02,\n",
    "    \"n_time_vector\": 200,\n",
    "    \"progress_bar\": True,\n",
    "    \"use_geographic_coordinate_system\": True,\n",
    "}\n",
    "StraightLineConfig = {\n",
    "    \"ctrl_name\": \"ocean_navigation_simulator.controllers.NaiveController.NaiveController\"\n",
    "}\n",
    "flockingConfig = {\n",
    "    \"unit\": \"km\",\n",
    "    \"interaction_range\": 9,  # km\n",
    "    \"grad_clip_range\": 0.1,  # km\n",
    "}\n",
    "reactiveConfig = {\n",
    "    \"unit\": \"m\",\n",
    "    \"mix_ttr_and_euclidean\": False,\n",
    "    \"delta_3\": 8800,  # collision threshold (communication - delta_3)\n",
    "    \"delta_2\": 2000,  # safe zone threshold  ]communication - delta_2, communication - delta_3[\n",
    "    \"delta_1\": 500,  # small threshold so that if distance > communication_thrsld- delta_1 we try to achieve connectivity\n",
    "    \"communication_thrsld\": 9000,\n",
    "    \"k_1\": 0.25,\n",
    "    \"k_2\": 1,\n",
    "}"
   ]
  },
  {
   "attachments": {},
   "cell_type": "markdown",
   "metadata": {},
   "source": [
    "#### Add HJ Naive controller"
   ]
  },
  {
   "cell_type": "code",
   "execution_count": null,
   "metadata": {},
   "outputs": [],
   "source": [
    "MultiAgentCtrlConfig = {\n",
    "    \"ctrl_name\": \"ocean_navigation_simulator.controllers.MultiAgentPlanner.MultiAgentPlanner\",\n",
    "    \"high_level_ctrl\": \"hj_naive\",  # choose from hj_naive, flocking, reactive_control\n",
    "    \"unit\": \"km\",\n",
    "    \"communication_thrsld\": 9,\n",
    "    \"hj_specific_settings\": HJMultiTimeConfig,\n",
    "    \"flocking_config\": flockingConfig,\n",
    "    \"reactive_control_config\": reactiveConfig,\n",
    "}"
   ]
  },
  {
   "cell_type": "code",
   "execution_count": null,
   "metadata": {},
   "outputs": [],
   "source": [
    "exp.experimentName = exp.get(\"experiment_name\")\n",
    "# add controller\n",
    "exp.addController(name=\"hj_naive\", ctrlConfig=MultiAgentCtrlConfig)"
   ]
  },
  {
   "attachments": {},
   "cell_type": "markdown",
   "metadata": {},
   "source": [
    "#### Add Reactive Controller"
   ]
  },
  {
   "cell_type": "code",
   "execution_count": null,
   "metadata": {},
   "outputs": [],
   "source": [
    "MultiAgentCtrlConfig = {\n",
    "    \"ctrl_name\": \"ocean_navigation_simulator.controllers.MultiAgentPlanner.MultiAgentPlanner\",\n",
    "    \"high_level_ctrl\": \"reactive_control\",  # choose from hj_naive, flocking, reactive_control\n",
    "    \"unit\": \"km\",\n",
    "    \"communication_thrsld\": 9,\n",
    "    \"hj_specific_settings\": HJMultiTimeConfig,\n",
    "    \"flocking_config\": flockingConfig,\n",
    "    \"reactive_control_config\": reactiveConfig,\n",
    "}"
   ]
  },
  {
   "cell_type": "code",
   "execution_count": null,
   "metadata": {},
   "outputs": [],
   "source": [
    "exp.experimentName = exp.get(\"experiment_name\")\n",
    "# add controller\n",
    "exp.addController(name=\"reactive_ctrl\", ctrlConfig=MultiAgentCtrlConfig)"
   ]
  },
  {
   "attachments": {},
   "cell_type": "markdown",
   "metadata": {},
   "source": [
    "#### Add Flocking Controller"
   ]
  },
  {
   "cell_type": "code",
   "execution_count": null,
   "metadata": {},
   "outputs": [],
   "source": [
    "MultiAgentCtrlConfig = {\n",
    "    \"ctrl_name\": \"ocean_navigation_simulator.controllers.MultiAgentPlanner.MultiAgentPlanner\",\n",
    "    \"high_level_ctrl\": \"flocking\",  # choose from hj_naive, flocking, reactive_control\n",
    "    \"unit\": \"km\",\n",
    "    \"communication_thrsld\": 9,\n",
    "    \"hj_specific_settings\": HJMultiTimeConfig,\n",
    "    \"flocking_config\": flockingConfig,\n",
    "    \"reactive_control_config\": reactiveConfig,\n",
    "}"
   ]
  },
  {
   "cell_type": "code",
   "execution_count": null,
   "metadata": {},
   "outputs": [],
   "source": [
    "exp.experimentName = exp.get(\"experiment_name\")\n",
    "exp.addController(name=\"flocking\", ctrlConfig=MultiAgentCtrlConfig)"
   ]
  },
  {
   "cell_type": "markdown",
   "metadata": {},
   "source": [
    "# Set missions to ready to run"
   ]
  },
  {
   "cell_type": "code",
   "execution_count": null,
   "metadata": {},
   "outputs": [],
   "source": [
    "experiment = \"experiment.id==\" + '\"' + exp.id + '\"'\n",
    "status = \" && status==\" + '\"staged_for_feasibility\"'\n",
    "exp_list = c3.Mission.fetch(spec={\"include\": \"[this]\", \"filter\": experiment}).objs\n",
    "print(len(exp_list))"
   ]
  },
  {
   "cell_type": "code",
   "execution_count": null,
   "metadata": {},
   "outputs": [],
   "source": [
    "for miss in exp_list:\n",
    "    miss.status = \"ready_to_run\"\n",
    "    miss.merge()"
   ]
  },
  {
   "attachments": {},
   "cell_type": "markdown",
   "metadata": {},
   "source": [
    "# Create Ocean Sim Runs"
   ]
  },
  {
   "cell_type": "code",
   "execution_count": null,
   "metadata": {},
   "outputs": [],
   "source": [
    "# Create the Run objects\n",
    "exp.createOceanSimRuns(ctrl_name=\"flocking\", obs_name=\"NoObserver\")"
   ]
  },
  {
   "cell_type": "markdown",
   "metadata": {},
   "source": [
    "## Run simulation debug "
   ]
  },
  {
   "cell_type": "code",
   "execution_count": null,
   "metadata": {},
   "outputs": [],
   "source": [
    "exp_filter = \"mission.experiment.id==\" + '\"' + exp.get(\"experimentName\").experimentName + '\"'\n",
    "runs = c3.OceanSimRun.fetch(\n",
    "    spec={\"include\": \"[this]\", \"filter\": exp_filter, \"order\": \"ascending(mission.id)\", \"limit\": -1}\n",
    ").objs"
   ]
  },
  {
   "cell_type": "code",
   "execution_count": null,
   "metadata": {},
   "outputs": [],
   "source": [
    "run = runs[-2]"
   ]
  },
  {
   "cell_type": "code",
   "execution_count": null,
   "metadata": {},
   "outputs": [],
   "source": [
    "run"
   ]
  },
  {
   "cell_type": "code",
   "execution_count": null,
   "metadata": {},
   "outputs": [],
   "source": [
    "# ensure we have all necessary data to run\n",
    "this = runs[-2].get(\n",
    "    \"mission.missionConfig, mission.experiment.timeout_in_sec,\"\n",
    "    + \"mission.experiment.arenaConfig, mission.experiment.objectiveConfig,\"\n",
    "    + \"controllerSetting.ctrlConfig, observerSetting.observerConfig\"\n",
    ")\n",
    "this"
   ]
  },
  {
   "cell_type": "code",
   "execution_count": null,
   "metadata": {},
   "outputs": [],
   "source": [
    "# update the entry while it's running\n",
    "new_osr = c3.OceanSimRun(**{\"id\": this.id, \"status\": \"running_sim\"})\n",
    "new_osr.merge()"
   ]
  },
  {
   "cell_type": "code",
   "execution_count": null,
   "metadata": {},
   "outputs": [],
   "source": [
    "import os\n",
    "import pickle\n",
    "import logging\n",
    "import datetime\n",
    "import numpy as np\n",
    "import wandb\n",
    "import matplotlib.pyplot as plt\n",
    "import pandas as pd\n",
    "\n",
    "import ocean_navigation_simulator\n",
    "from ocean_navigation_simulator.environment.ArenaFactory import ArenaFactory\n",
    "from ocean_navigation_simulator.problem_factories.Constructor import Constructor\n",
    "from ocean_navigation_simulator.environment.PlatformState import SpatioTemporalPoint"
   ]
  },
  {
   "cell_type": "code",
   "execution_count": null,
   "metadata": {},
   "outputs": [],
   "source": [
    "# create strings for all files and external directories where to save results\n",
    "# Set up file paths and download folders\n",
    "temp_folder = \"/tmp/\" + this.id + \"/\"\n",
    "# create the folder if it doesn't exist yet\n",
    "if not os.path.isdir(temp_folder):\n",
    "    os.mkdir(temp_folder)\n",
    "log_file_name = this.id + \".log\"\n",
    "logging.basicConfig(filename=temp_folder + log_file_name, level=logging.DEBUG)\n",
    "traj_file_name = this.id + \".obj\"\n",
    "extDir = \"ocean_sim_run_results/\" + this.mission.experiment.id + \"/OceanSimRuns/\" + this.id\n",
    "\n",
    "# set download directories (ignore set ones in arenaConfig)\n",
    "arenaConfig = this.mission.experiment.arenaConfig\n",
    "\n",
    "# Get and set the correct path to the nutrient and monthly average files (for c3) - !! CONFIG gets overwritten!!\n",
    "filepath = ocean_navigation_simulator.__file__\n",
    "module_path = os.path.dirname(filepath)\n",
    "results_path = module_path + \"/results/\"\n",
    "# nutrient_path = module_path + \"/package_data/nutrients/\"\n",
    "# averages_path = module_path + \"/package_data/monthly_averages/\"\n",
    "\n",
    "# arenaConfig[\"seaweed_dict\"][\"hindcast\"][\"source_settings\"][\n",
    "#     \"filepath\"\n",
    "# ] = nutrient_path\n",
    "\n",
    "arenaConfig[\"timeout\"] = this.mission.experiment.timeout_in_sec\n",
    "to_download_forecast_files = False\n",
    "\n",
    "# for hindcast\n",
    "arenaConfig[\"ocean_dict\"][\"hindcast\"][\"source_settings\"][\"folder\"] = (\n",
    "    \"/tmp/\" + this.id + \"/hindcast_files/\"\n",
    ")\n",
    "# for forecast\n",
    "if arenaConfig[\"ocean_dict\"][\"forecast\"] is not None:\n",
    "    arenaConfig[\"ocean_dict\"][\"forecast\"][\"source_settings\"][\"folder\"] = (\n",
    "        \"/tmp/\" + this.id + \"/forecast_files/\"\n",
    "    )\n",
    "    to_download_forecast_files = arenaConfig[\"ocean_dict\"][\"forecast\"][\"source\"] == \"forecast_files\"\n",
    "\n",
    "# prepping the file download\n",
    "point_to_check = SpatioTemporalPoint.from_dict(this.mission.missionConfig[\"x_0\"][0])\n",
    "t_interval = [\n",
    "    point_to_check.date_time,\n",
    "    point_to_check.date_time\n",
    "    + datetime.timedelta(\n",
    "        seconds=this.mission.experiment.timeout_in_sec\n",
    "        + arenaConfig[\"casadi_cache_dict\"][\"time_around_x_t\"]\n",
    "        + 7200\n",
    "    ),\n",
    "]\n",
    "\n",
    "arena, controller = None, None\n",
    "\n",
    "import contextlib\n",
    "\n",
    "\n",
    "@contextlib.contextmanager\n",
    "def dummy_context_mgr():\n",
    "    yield None"
   ]
  },
  {
   "cell_type": "code",
   "execution_count": null,
   "metadata": {},
   "outputs": [],
   "source": [
    "with (\n",
    "    ArenaFactory.download_files(\n",
    "        config=arenaConfig,\n",
    "        type=\"hindcast\",\n",
    "        t_interval=t_interval,\n",
    "        c3=c3,\n",
    "        points=[point_to_check.to_spatial_point()],\n",
    "    ) as download_hindcast_files_to_local,\n",
    "    ArenaFactory.download_files(\n",
    "        config=arenaConfig,\n",
    "        type=\"forecast\",\n",
    "        t_interval=t_interval,\n",
    "        c3=c3,\n",
    "        points=[point_to_check.to_spatial_point()],\n",
    "    )\n",
    "    if to_download_forecast_files\n",
    "    else dummy_context_mgr() as download_forecast_files_to_local,\n",
    "):\n",
    "    # Step 0: Create Constructor object which contains arena, problem, controller and observer\n",
    "    constructor = Constructor(\n",
    "        arena_conf=arenaConfig,\n",
    "        mission_conf=this.mission.missionConfig,\n",
    "        objective_conf=this.mission.experiment.objectiveConfig,\n",
    "        ctrl_conf=this.controllerSetting.ctrlConfig,\n",
    "        observer_conf=this.observerSetting.observerConfig,\n",
    "    )\n",
    "\n",
    "    # Step 1.1 Retrieve problem\n",
    "    problem = constructor.problem\n",
    "\n",
    "    # Step 1.2: Retrieve arena\n",
    "    arena = constructor.arena\n",
    "    observation = arena.reset(platform_set=problem.start_state)\n",
    "    problem_status = arena.problem_status(problem=problem)\n",
    "\n",
    "    # Step 2: Retrieve Controller\n",
    "    controller = constructor.controller\n",
    "\n",
    "    # log initial reachability snapshot as .jpg and .svg\n",
    "    controller.get_action(observation=observation)  # needed for init of controller\n",
    "    ax = controller.plot_reachability_snapshot(\n",
    "        rel_time_in_seconds=0,\n",
    "        granularity_in_h=5,\n",
    "        alpha_color=1,\n",
    "        time_to_reach=True,\n",
    "        fig_size_inches=(12, 12),\n",
    "        plot_in_h=True,\n",
    "        return_ax=True,\n",
    "    )\n",
    "    fig = ax.get_figure()\n",
    "    fig = plt.figure(fig)\n",
    "    plt.savefig(temp_folder + \"reachability_snapshot.svg\")\n",
    "    plt.savefig(temp_folder + \"reachability_snapshot.jpg\", dpi=80)\n",
    "\n",
    "    # Step 3: Retrieve observer\n",
    "    observer = constructor.observer\n",
    "    observer.observe(observation)\n",
    "    observation.forecast_data_source = observer\n",
    "\n",
    "    # Step 4: Run Arena\n",
    "    ctrl_deviation_from_opt = []\n",
    "    all_pltf_status = [0] * len(this.mission.missionConfig[\"x_0\"])\n",
    "    min_distances_to_target_over_mission = [np.inf] * len(this.mission.missionConfig[\"x_0\"])\n",
    "    pb_timeout_flag = -1"
   ]
  },
  {
   "cell_type": "code",
   "execution_count": null,
   "metadata": {},
   "outputs": [],
   "source": [
    "while not any(status == pb_timeout_flag for status in problem_status):\n",
    "    # Get action\n",
    "    action, ctrl_correction = controller.get_action(observation=observation)\n",
    "    ctrl_deviation_from_opt.append(ctrl_correction)\n",
    "    # execute action\n",
    "    observation = arena.step(action)\n",
    "\n",
    "    # collect data\n",
    "    min_distances_to_target_over_mission = arena.get_min_or_max_of_two_lists(\n",
    "        list_a=min_distances_to_target_over_mission,\n",
    "        list_b=arena.final_distance_to_target(problem=problem),\n",
    "        min_or_max=\"min\",\n",
    "    )\n",
    "    # Observer data assimilation\n",
    "    observer.observe(observation)\n",
    "    observation.forecast_data_source = observer\n",
    "\n",
    "    # update problem status\n",
    "    problem_status = arena.problem_status(problem=problem)\n",
    "    # for the final metric, look if platform was able to reach target within T,\n",
    "    # so keep only max (=1 if pltf reached target)\n",
    "    all_pltf_status = arena.get_min_or_max_of_two_lists(\n",
    "        list_a=all_pltf_status, list_b=problem_status, min_or_max=\"max\"\n",
    "    )"
   ]
  },
  {
   "cell_type": "code",
   "execution_count": null,
   "metadata": {},
   "outputs": [],
   "source": [
    "new_osr.status = \"finished_running\"\n",
    "new_osr.terminationReason = \"Timeout\"  # arena.problem_status_text(problem_status)\n",
    "logged_error_message = None"
   ]
  },
  {
   "cell_type": "code",
   "execution_count": null,
   "metadata": {},
   "outputs": [],
   "source": [
    "# Step 4: create the OceanSimResult object with the files and upload it\n",
    "if arena is not None:\n",
    "    # Create a large dict with all trajectory data\n",
    "    trajs_dict = {\n",
    "        \"sim_traj\": arena.state_trajectory,\n",
    "        \"sim_ctrl\": arena.action_trajectory,\n",
    "    }\n",
    "    # if controller is not None:\n",
    "    #     if len(controller.planned_trajs) > 0:\n",
    "    #         trajs_dict[\"plans\"] = controller.planned_trajs\n",
    "\n",
    "    with open(temp_folder + traj_file_name, \"wb\") as traj_file:\n",
    "        pickle.dump(trajs_dict, traj_file)\n",
    "\n",
    "    # Step 4.3 upload the traj_file_name together with the log_file_name to blob storage\n",
    "    # upload log file\n",
    "    new_osr.oceanSimResult = c3.OceanSimResult()\n",
    "    if os.path.exists(temp_folder + log_file_name):\n",
    "        c3.Client.uploadLocalClientFiles(\n",
    "            temp_folder + log_file_name,\n",
    "            extDir + \"/logs\",\n",
    "            {\"peekForMetadata\": True},\n",
    "        )\n",
    "        log_file = c3.File(**{\"url\": extDir + \"/logs/\" + log_file_name}).readMetadata()\n",
    "        new_osr.oceanSimResult.log_file = log_file\n",
    "        os.remove(temp_folder + log_file_name)\n",
    "\n",
    "    if os.path.exists(temp_folder + traj_file_name):\n",
    "        # upload traj file\n",
    "        c3.Client.uploadLocalClientFiles(\n",
    "            temp_folder + traj_file_name,\n",
    "            extDir + \"/trajs\",\n",
    "            {\"peekForMetadata\": True},\n",
    "        )\n",
    "        trajs_file = c3.File(**{\"url\": extDir + \"/trajs/\" + traj_file_name}).readMetadata()\n",
    "        new_osr.oceanSimResult.trajectories = trajs_file\n",
    "        os.remove(temp_folder + traj_file_name)\n",
    "\n",
    "    # # log shortest distance to target\n",
    "    # if this.mission.experiment.objectiveConfig[\"type\"] == \"nav\":\n",
    "    #     new_osr.minDistanceToTarget = arena.final_distance_to_target(\n",
    "    #         problem=problem\n",
    "    #     ) # we already log this in the metric and here we have a list of minDistances instead of a just a float\n",
    "\n",
    "### Prepare data for WandB\n",
    "ctrlConfig = this.controllerSetting.ctrlConfig\n",
    "missionConfig = this.mission.missionConfig\n",
    "observerConfig = this.observerSetting.observerConfig\n",
    "\n",
    "# Prepare variables for run naming\n",
    "\n",
    "# Planning horizon in days\n",
    "# T_in_days = ctrlConfig[\"hj_specific_setting\"][\"T_goal_in_seconds\"] / (24 * 3600)\n",
    "\n",
    "# Prepare string whether we use only HC or FC/HC\n",
    "if arenaConfig[\"ocean_dict\"][\"forecast\"] is not None:\n",
    "    data_sources = \"FC_HC\"\n",
    "else:\n",
    "    data_sources = \"HC\"\n",
    "\n",
    "region = arenaConfig[\"ocean_dict\"].get(\"region\", \"GOM\")\n",
    "\n",
    "nb_platforms = len(missionConfig[\"x_0\"])\n",
    "ctrl_name = ctrlConfig[\"high_level_ctrl\"]\n",
    "\n",
    "umax = arenaConfig[\"platform_dict\"][\"u_max_in_mps\"]\n",
    "\n",
    "# Log metrics in WandB\n",
    "os.environ[\"WANDB_API_KEY\"] = \"1f19232e6ccc9981a8a972bee18ba31a94644835\"\n",
    "\n",
    "wandb.init(\n",
    "    # Set the project where this run will be logged\n",
    "    project=\"Master Thesis\",\n",
    "    id=this.id,\n",
    "    # We pass a run name (otherwise it’ll be randomly assigned, like sunshine-lollypop-10)\n",
    "    name=f\"{this.id}_nb_pltf_{nb_platforms}_{region}_{data_sources}\",\n",
    "    # Track hyperparameters and run metadata\n",
    "    config={\n",
    "        \"missionConfig\": missionConfig,\n",
    "        \"arenaConfig\": arenaConfig,\n",
    "        \"ctrlConfig\": ctrlConfig,\n",
    "        \"observerConfig\": observerConfig,\n",
    "        \"mission.id\": this.mission.id,\n",
    "        \"experiment.id\": this.mission.experiment.id,\n",
    "    },\n",
    "    entity=\"nhoischen\",\n",
    ")\n",
    "metrics_dict = arena.save_metrics_to_log(\n",
    "    all_pltf_status=all_pltf_status,\n",
    "    min_distances_to_target=min_distances_to_target_over_mission,\n",
    "    max_correction_from_opt_ctrl=ctrl_deviation_from_opt,\n",
    "    filename=f\"{temp_folder}/metrics_{this.id}.log\",\n",
    ")\n",
    "metrics_df = pd.DataFrame(data=metrics_dict, index=[0])\n",
    "wandb.log({\"metrics\": metrics_df}, commit=False)\n",
    "\n",
    "# Log state_trajectory as table/dataframe\n",
    "wandb.log(\n",
    "    {\"data_to_plot\": wandb.Table(dataframe=arena.get_plot_data_for_wandb())},\n",
    "    commit=False,\n",
    ")\n",
    "\n",
    "# log trajectory plot on ocean current as .jpg and .svg\n",
    "ax = arena.plot_all_on_map(\n",
    "    problem=problem,\n",
    "    show_control_trajectory=False,\n",
    "    return_ax=True,\n",
    ")\n",
    "fig = ax.get_figure()\n",
    "fig = plt.figure(fig)\n",
    "plt.savefig(temp_folder + \"current_trajectory_on_map.svg\")\n",
    "plt.savefig(temp_folder + \"current_trajectory_on_map.jpg\", dpi=80)\n",
    "\n",
    "# log inter-platform distance evolution as .jpg and .svg\n",
    "ax = arena.plot_distance_evolution_between_platforms(\n",
    "    xticks_temporal_res=arenaConfig[\"timeout\"] / 12\n",
    ")\n",
    "fig = ax.get_figure()\n",
    "fig = plt.figure(fig)\n",
    "plt.savefig(temp_folder + \"distance_evolution.svg\")\n",
    "plt.savefig(temp_folder + \"distance_evolution.jpg\", dpi=80)\n",
    "\n",
    "# log images in wandb\n",
    "image_traj = wandb.Image(\n",
    "    temp_folder + \"current_trajectory_on_map.jpg\",\n",
    "    caption=\"Platform trajectories on currents map\",\n",
    ")\n",
    "image_reach = wandb.Image(\n",
    "    temp_folder + \"reachability_snapshot.jpg\",\n",
    "    caption=\"Initial reachability plot\",\n",
    ")\n",
    "\n",
    "image_dist = wandb.Image(\n",
    "    temp_folder + \"distance_evolution.jpg\",\n",
    "    caption=\"Distance evolution between platform pairs\",\n",
    ")\n",
    "wandb.log({\"Inter-platform distance evolution\": image_dist}, commit=False)\n",
    "wandb.log({\"Reachability snapshot\": image_reach}, commit=False)\n",
    "wandb.log({\"Platform trajectories\": image_traj}, commit=True)\n",
    "\n",
    "# log trajectory animations\n",
    "arena.animate_trajectory(\n",
    "    margin=0.25,\n",
    "    problem=problem,\n",
    "    temporal_resolution=7200,\n",
    "    background=\"current\",\n",
    "    output=f\"{temp_folder}platform_trajectories.mp4\",\n",
    "    fps=10,\n",
    ")\n",
    "arena.animate_graph_net_trajectory(\n",
    "    temporal_resolution=7200,\n",
    "    plot_ax_ticks=True,\n",
    "    output=f\"{temp_folder}network_graph_trajectory.mp4\",\n",
    "    fps=5,\n",
    ")\n",
    "\n",
    "### Save files to c3 and add link to WandB\n",
    "traj_currents_plot_file_name = \"current_trajectory_on_map.svg\"\n",
    "reachability_plot_file_name = \"reachability_snapshot.svg\"\n",
    "distance_evol_plot_file_name = \"distance_evolution.svg\"\n",
    "traj_currents_animation_file_name = \"platform_trajectories.mp4\"\n",
    "traj_network_animation_file_name = \"network_graph_trajectory.mp4\"\n",
    "\n",
    "# add platform trajectories plot\n",
    "c3.Client.uploadLocalClientFiles(\n",
    "    temp_folder + traj_currents_plot_file_name,\n",
    "    extDir + \"/logs\",\n",
    "    {\"peekForMetadata\": True},\n",
    ")\n",
    "traj_currents_plot_file = c3.File(\n",
    "    **{\"url\": extDir + \"/logs/\" + traj_currents_plot_file_name}\n",
    ").readMetadata()\n",
    "new_osr.oceanSimResult.traj_currents_plot_file = traj_currents_plot_file\n",
    "os.remove(temp_folder + traj_currents_plot_file_name)\n",
    "\n",
    "# add reachability plot\n",
    "c3.Client.uploadLocalClientFiles(\n",
    "    temp_folder + reachability_plot_file_name,\n",
    "    extDir + \"/logs\",\n",
    "    {\"peekForMetadata\": True},\n",
    ")\n",
    "reachability_plot_file = c3.File(\n",
    "    **{\"url\": extDir + \"/logs/\" + reachability_plot_file_name}\n",
    ").readMetadata()\n",
    "new_osr.oceanSimResult.reachability_plot_file = reachability_plot_file\n",
    "os.remove(temp_folder + reachability_plot_file_name)\n",
    "\n",
    "# add distance evolution plot\n",
    "c3.Client.uploadLocalClientFiles(\n",
    "    temp_folder + distance_evol_plot_file_name,\n",
    "    extDir + \"/logs\",\n",
    "    {\"peekForMetadata\": True},\n",
    ")\n",
    "distance_evol_plot_file = c3.File(\n",
    "    **{\"url\": extDir + \"/logs/\" + distance_evol_plot_file_name}\n",
    ").readMetadata()\n",
    "new_osr.oceanSimResult.distance_evol_plot_file = distance_evol_plot_file\n",
    "os.remove(temp_folder + distance_evol_plot_file_name)\n",
    "\n",
    "# add platform trajectories animation\n",
    "c3.Client.uploadLocalClientFiles(\n",
    "    temp_folder + traj_currents_animation_file_name,\n",
    "    extDir + \"/logs\",\n",
    "    {\"peekForMetadata\": True},\n",
    ")\n",
    "traj_currents_animation_file = c3.File(\n",
    "    **{\"url\": extDir + \"/logs/\" + traj_currents_animation_file_name}\n",
    ").readMetadata()\n",
    "new_osr.oceanSimResult.traj_currents_animation_file = traj_currents_animation_file\n",
    "os.remove(temp_folder + traj_currents_animation_file_name)\n",
    "\n",
    "# add graph animation\n",
    "c3.Client.uploadLocalClientFiles(\n",
    "    temp_folder + traj_network_animation_file_name,\n",
    "    extDir + \"/logs\",\n",
    "    {\"peekForMetadata\": True},\n",
    ")\n",
    "traj_network_animation_file = c3.File(\n",
    "    **{\"url\": extDir + \"/logs/\" + traj_network_animation_file_name}\n",
    ").readMetadata()\n",
    "new_osr.oceanSimResult.traj_network_animation_file = traj_network_animation_file\n",
    "os.remove(temp_folder + traj_network_animation_file_name)\n",
    "\n",
    "# LOG URL IN WANDB\n",
    "wandb.summary[\"traj_current_plot_svg\"] = traj_currents_plot_file.generatePresignedUrl(\"GET\", \"600d\")\n",
    "wandb.summary[\"reachability_plot_svg\"] = reachability_plot_file.generatePresignedUrl(\"GET\", \"600d\")\n",
    "wandb.summary[\"distance_evol_plot_svg\"] = distance_evol_plot_file.generatePresignedUrl(\n",
    "    \"GET\", \"600d\"\n",
    ")\n",
    "wandb.summary[\"platf_trajectories_animation\"] = traj_currents_animation_file.generatePresignedUrl(\n",
    "    \"GET\", \"600d\"\n",
    ")\n",
    "wandb.summary[\"traj_network_animation\"] = traj_network_animation_file.generatePresignedUrl(\n",
    "    \"GET\", \"600d\"\n",
    ")\n",
    "\n",
    "wandb.finish()"
   ]
  },
  {
   "cell_type": "code",
   "execution_count": null,
   "metadata": {},
   "outputs": [],
   "source": [
    "ax = controller.plot_reachability_snapshot(\n",
    "    rel_time_in_seconds=0,\n",
    "    granularity_in_h=5,\n",
    "    alpha_color=1,\n",
    "    time_to_reach=True,\n",
    "    fig_size_inches=(12, 12),\n",
    "    plot_in_h=True,\n",
    "    return_ax=True,\n",
    ")"
   ]
  },
  {
   "cell_type": "code",
   "execution_count": null,
   "metadata": {},
   "outputs": [],
   "source": [
    "wandb.finish()"
   ]
  },
  {
   "cell_type": "code",
   "execution_count": null,
   "metadata": {},
   "outputs": [],
   "source": [
    "ax = arena.plot_all_on_map(\n",
    "    problem=problem,\n",
    "    show_control_trajectory=False,\n",
    "    return_ax=True,\n",
    ")"
   ]
  },
  {
   "cell_type": "code",
   "execution_count": null,
   "metadata": {},
   "outputs": [],
   "source": [
    "arena.animate_trajectory(\n",
    "    margin=0.25,\n",
    "    problem=problem,\n",
    "    temporal_resolution=7200,\n",
    "    background=\"current\",\n",
    "    output=f\"{temp_folder}platform_trajectories.mp4\",\n",
    "    fps=10,\n",
    ")"
   ]
  },
  {
   "attachments": {},
   "cell_type": "markdown",
   "metadata": {},
   "source": [
    "# Run Simulation"
   ]
  },
  {
   "cell_type": "code",
   "execution_count": null,
   "metadata": {},
   "outputs": [],
   "source": [
    "# Create the Experiment Batch Job Options\n",
    "options = c3.OceanSimRunBatchJobOptions(\n",
    "    **{\n",
    "        \"experiment\": exp,\n",
    "        \"actionRuntime\": \"andreas\",  # enum('marius', 'andreas', 'matthias', 'nicolas')\n",
    "    }\n",
    ")"
   ]
  },
  {
   "cell_type": "code",
   "execution_count": null,
   "metadata": {},
   "outputs": [],
   "source": [
    "# Start the Batch Job\n",
    "run_job = c3.OceanSimRunBatchJob(**{\"options\": options.toJson()}).upsert()\n",
    "# run_job.numAutoRecoveryAttempts = 1\n",
    "run_job.start()\n",
    "run_job"
   ]
  },
  {
   "cell_type": "code",
   "execution_count": null,
   "metadata": {},
   "outputs": [],
   "source": [
    "# run_job = c3.OceanSimRunBatchJob.get('03b44bae-1a6e-4fa1-b07e-d906b48b84bf')\n",
    "run_job.status()"
   ]
  },
  {
   "cell_type": "code",
   "execution_count": null,
   "metadata": {},
   "outputs": [],
   "source": [
    "experiment = \"mission.experiment.id==\" + '\"' + exp.id + '\"'\n",
    "objs_list = c3.OceanSimRun.fetch(spec={\"include\": \"[this]\", \"filter\": experiment}).objs\n",
    "print(\"Total of {} OceanSimRuns\".format(len(objs_list)))\n",
    "\n",
    "staged_to_run = 0\n",
    "running_sim = 0\n",
    "finished_running = 0\n",
    "run_failed = 0\n",
    "for run in objs_list:\n",
    "    if run.status == \"staged_to_run\":\n",
    "        staged_to_run += 1\n",
    "    elif run.status == \"running_sim\":\n",
    "        running_sim += 1\n",
    "    elif run.status == \"finished_running\":\n",
    "        finished_running += 1\n",
    "    elif run.status == \"run_failed\":\n",
    "        run_failed += 1\n",
    "\n",
    "print(\"staged_to_run: \", staged_to_run)\n",
    "print(\"running_sim: \", running_sim)\n",
    "print(\"finished_running: \", finished_running)\n",
    "print(\"run_failed: \", run_failed)"
   ]
  },
  {
   "cell_type": "code",
   "execution_count": null,
   "metadata": {},
   "outputs": [],
   "source": [
    "c3.Cluster.actionDump()"
   ]
  },
  {
   "cell_type": "code",
   "execution_count": null,
   "metadata": {},
   "outputs": [],
   "source": [
    "exp_filter = \"mission.experiment.id==\" + '\"' + exp.get(\"experimentName\").experimentName + '\"'\n",
    "all_exp_runs = c3.OceanSimRun.fetch(\n",
    "    spec={\"include\": \"[this]\", \"filter\": exp_filter, \"order\": \"ascending(mission.id)\", \"limit\": -1}\n",
    ").objs"
   ]
  },
  {
   "cell_type": "code",
   "execution_count": null,
   "metadata": {},
   "outputs": [],
   "source": [
    "all_exp_runs"
   ]
  },
  {
   "cell_type": "code",
   "execution_count": null,
   "metadata": {},
   "outputs": [],
   "source": [
    "import pandas as pd\n",
    "\n",
    "\n",
    "def get_results_df(this):\n",
    "    # get all runs from the database (NOTE this can only get 2000 at a time!)\n",
    "    exp_filter = \"mission.experiment.id==\" + '\"' + this.get(\"experimentName\").experimentName + '\"'\n",
    "    all_exp_runs = c3.OceanSimRun.fetch(\n",
    "        spec={\n",
    "            \"include\": \"[this]\",\n",
    "            \"filter\": exp_filter,\n",
    "            \"order\": \"ascending(mission.id)\",\n",
    "            \"limit\": -1,\n",
    "        }\n",
    "    ).objs\n",
    "    # get a list of all termination reasons\n",
    "    termination_reason = []\n",
    "    status = []\n",
    "    arrival_time = []\n",
    "    minDistanceToTarget = []\n",
    "    ctrl_obs_name = []\n",
    "    mission_ids = []\n",
    "\n",
    "    for run in all_exp_runs:\n",
    "        # get mission_id\n",
    "        mission_ids.append(run.get(\"mission\").mission.id)\n",
    "        # get ctrl_obs setting\n",
    "        ctrl_obs_name.append(\n",
    "            run.get(\"controllerSetting.name\").controllerSetting.name\n",
    "            + \"__\"\n",
    "            + run.get(\"observerSetting.name\").observerSetting.name\n",
    "        )\n",
    "        # add outcomes\n",
    "        termination_reason.append(run.terminationReason)\n",
    "        status.append(run.status)\n",
    "        arrival_time.append(run.T_arrival_time)\n",
    "        minDistanceToTarget.append(run.minDistanceToTarget)\n",
    "\n",
    "    # Make a df out of it\n",
    "    df = pd.DataFrame(\n",
    "        list(\n",
    "            zip(\n",
    "                mission_ids,\n",
    "                ctrl_obs_name,\n",
    "                status,\n",
    "                termination_reason,\n",
    "                arrival_time,\n",
    "                minDistanceToTarget,\n",
    "            )\n",
    "        ),\n",
    "        columns=[\n",
    "            \"mission_id\",\n",
    "            \"setting\",\n",
    "            \"status\",\n",
    "            \"termination_reason\",\n",
    "            \"arrival_time\",\n",
    "            \"minDistance\",\n",
    "        ],\n",
    "    )\n",
    "\n",
    "    return df"
   ]
  },
  {
   "cell_type": "code",
   "execution_count": null,
   "metadata": {},
   "outputs": [],
   "source": [
    "df = get_results_df(exp)"
   ]
  },
  {
   "cell_type": "code",
   "execution_count": null,
   "metadata": {},
   "outputs": [],
   "source": [
    "df"
   ]
  }
 ],
 "metadata": {
  "kernelspec": {
   "display_name": "ocean_platform",
   "language": "python",
   "name": "python3"
  },
  "language_info": {
   "codemirror_mode": {
    "name": "ipython",
    "version": 3
   },
   "file_extension": ".py",
   "mimetype": "text/x-python",
   "name": "python",
   "nbconvert_exporter": "python",
   "pygments_lexer": "ipython3",
   "version": "3.9.15 (main, Nov  4 2022, 16:13:54) \n[GCC 11.2.0]"
  },
  "orig_nbformat": 4,
  "vscode": {
   "interpreter": {
    "hash": "0e68e1188560e0264452509f800ed9cbe968b82eeca5d5a7e494819bbb829a34"
   }
  }
 },
 "nbformat": 4,
 "nbformat_minor": 2
}
