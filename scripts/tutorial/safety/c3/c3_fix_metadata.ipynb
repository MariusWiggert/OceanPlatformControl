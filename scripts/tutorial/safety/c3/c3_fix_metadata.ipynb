{
 "cells": [
  {
   "cell_type": "code",
   "execution_count": null,
   "metadata": {},
   "outputs": [],
   "source": [
    "# Step 1: Change HycomHindcastArchive settings\n",
    "# downloadOptions.maxTimesPerFile from 24 to 8\n",
    "# subsetOptions.timeStride from 1 to 3\n",
    "\n",
    "# Step 2: trigger stageFiles to put the new files in the database\n",
    "#hindcast_archive_to_change.stageFiles('HycomHindcastDataSource', hindcast_archive_to_change.subsetOptions, hindcast_archive_to_change.downloadOptions)\n",
    "\n",
    "# Step 3: Trigger download\n",
    "# job = c3.HycomHindcastDownloadJob(\n",
    "#         **{\n",
    "#             'options': c3.HycomHindcastDownloadJobOptions().toJson()\n",
    "#         }\n",
    "#     ).upsert()\n",
    "# job.start()\n",
    "\n",
    "# Step 4: remove old files from the databse\n",
    "# see Andy code"
   ]
  },
  {
   "cell_type": "code",
   "execution_count": 1,
   "metadata": {},
   "outputs": [
    {
     "name": "stdout",
     "output_type": "stream",
     "text": [
      "Starting to connect to c3\n"
     ]
    }
   ],
   "source": [
    "from ocean_navigation_simulator.utils.misc import get_c3\n",
    "c3 = get_c3()"
   ]
  },
  {
   "attachments": {},
   "cell_type": "markdown",
   "metadata": {},
   "source": [
    "## 1. Change HycomHindcastArchive settings"
   ]
  },
  {
   "cell_type": "code",
   "execution_count": 4,
   "metadata": {},
   "outputs": [],
   "source": [
    "# Dict of ids for each region that is not GOM\n",
    "hc_archive_ids = {\n",
    "1: \"6af1e19b-3aa1-480c-8433-83ab3a0fc2f3\",\n",
    "2: \"ffc90ea7-bac3-45dd-aefc-b4b3ee1ed40d\",\n",
    "3: \"15b30061-0338-4ca4-bbe2-1ee1ce12222f\",\n",
    "4: \"bbeadd84-1f55-4951-95d1-3c11dcd85ee5\",\n",
    "5: \"6874690e-87a2-4c21-8ab0-dd95ada4a741\",\n",
    "6: \"36319544-8f10-423c-8185-c8a808056681\",\n",
    "7: \"6f600e6e-26ee-426a-a49f-2d8dec13ed8f\"}\n",
    "hc_archive_id = hc_archive_ids[1]"
   ]
  },
  {
   "cell_type": "code",
   "execution_count": 5,
   "metadata": {},
   "outputs": [],
   "source": [
    "hindcast_archive_to_change = c3.HycomHindcastArchive.get(hc_archive_id)"
   ]
  },
  {
   "cell_type": "code",
   "execution_count": 7,
   "metadata": {},
   "outputs": [
    {
     "name": "stdout",
     "output_type": "stream",
     "text": [
      "24 3\n"
     ]
    }
   ],
   "source": [
    "# Analyze different region settings\n",
    "print(hindcast_archive_to_change.downloadOptions.maxTimesPerFile, hindcast_archive_to_change.subsetOptions.timeStride)"
   ]
  },
  {
   "cell_type": "code",
   "execution_count": null,
   "metadata": {},
   "outputs": [],
   "source": [
    "hindcast_archive_to_change.downloadOptions.maxTimesPerFile = 8\n",
    " # if we set it to 3, we get every third 3h forecast -> every 9th hour\n",
    "hindcast_archive_to_change.subsetOptions.timeStride = 1"
   ]
  },
  {
   "cell_type": "markdown",
   "metadata": {},
   "source": [
    "## 2: trigger stageFiles to put the new files in the database\n"
   ]
  },
  {
   "cell_type": "code",
   "execution_count": null,
   "metadata": {},
   "outputs": [],
   "source": [
    "hindcast_archive_to_change.stageFiles('HycomHindcastDataSource', hindcast_archive_to_change.subsetOptions, hindcast_archive_to_change.downloadOptions)"
   ]
  },
  {
   "cell_type": "code",
   "execution_count": null,
   "metadata": {},
   "outputs": [],
   "source": [
    "all_files = hindcast_archive_to_change.get('files')\n",
    "print(len(all_files.files))"
   ]
  },
  {
   "cell_type": "code",
   "execution_count": null,
   "metadata": {},
   "outputs": [],
   "source": [
    "not_downloaded = 0\n",
    "for file in all_files.files:\n",
    "    if file.get('status').status == 'not_downloaded':\n",
    "        not_downloaded +=1\n",
    "        print(file.id)\n",
    "        # file.remove()"
   ]
  },
  {
   "cell_type": "markdown",
   "metadata": {},
   "source": [
    "## 3. Trigger download"
   ]
  },
  {
   "cell_type": "code",
   "execution_count": null,
   "metadata": {},
   "outputs": [],
   "source": [
    "job = c3.HycomHindcastDownloadJob(\n",
    "        **{\n",
    "            'options': c3.HycomHindcastDownloadJobOptions().toJson()\n",
    "        }\n",
    "    ).upsert()\n",
    "job.start()"
   ]
  },
  {
   "cell_type": "code",
   "execution_count": null,
   "metadata": {},
   "outputs": [],
   "source": [
    "c3.HycomHindcastDownloadJob.get(job.id).status()"
   ]
  },
  {
   "cell_type": "markdown",
   "metadata": {},
   "source": [
    "## 4. Remove old files from the databse"
   ]
  },
  {
   "cell_type": "code",
   "execution_count": null,
   "metadata": {},
   "outputs": [],
   "source": [
    "hindcast_archive_to_change = c3.HycomHindcastArchive.get(hc_archive_id)# Region 6\n",
    "all_files = hindcast_archive_to_change.get('files')\n",
    "print(len(all_files.files))"
   ]
  },
  {
   "cell_type": "code",
   "execution_count": null,
   "metadata": {},
   "outputs": [],
   "source": [
    "# Analyze files that don't end the correct way\n",
    "# Delete the ones you don't like\n",
    "cnt_not_21 = 0\n",
    "for file in all_files.files:\n",
    "    if \"T21:00:00\" not in file.id:\n",
    "        cnt_not_21 += 1\n",
    "        print(file.id)\n",
    "        # file.remove()\n",
    "print(cnt_not_21)"
   ]
  },
  {
   "cell_type": "code",
   "execution_count": null,
   "metadata": {},
   "outputs": [],
   "source": [
    "# Delete files that don't end the correct way"
   ]
  }
 ],
 "metadata": {
  "kernelspec": {
   "display_name": "ocean_platform",
   "language": "python",
   "name": "python3"
  },
  "language_info": {
   "codemirror_mode": {
    "name": "ipython",
    "version": 3
   },
   "file_extension": ".py",
   "mimetype": "text/x-python",
   "name": "python",
   "nbconvert_exporter": "python",
   "pygments_lexer": "ipython3",
   "version": "3.9.15"
  },
  "orig_nbformat": 4,
  "vscode": {
   "interpreter": {
    "hash": "0e68e1188560e0264452509f800ed9cbe968b82eeca5d5a7e494819bbb829a34"
   }
  }
 },
 "nbformat": 4,
 "nbformat_minor": 2
}
