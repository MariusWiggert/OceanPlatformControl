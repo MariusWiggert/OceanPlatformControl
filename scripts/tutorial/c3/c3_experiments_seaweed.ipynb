{
 "cells": [
  {
   "cell_type": "markdown",
   "id": "0bbf195d",
   "metadata": {},
   "source": [
    "## Imports"
   ]
  },
  {
   "cell_type": "code",
   "execution_count": 2,
   "id": "c120dd20",
   "metadata": {},
   "outputs": [],
   "source": [
    "import os\n",
    "import datetime\n",
    "import logging\n",
    "import random\n",
    "\n",
    "import matplotlib.pyplot as plt\n",
    "import numpy as np\n",
    "\n",
    "import ocean_navigation_simulator\n",
    "from ocean_navigation_simulator.problem_factories.SeaweedMissionGenerator import SeaweedMissionGenerator\n",
    "from ocean_navigation_simulator.utils.misc import get_c3\n",
    "from ocean_navigation_simulator.utils.misc import set_arena_loggers\n",
    "from ocean_navigation_simulator.controllers.hj_planners.HJBSeaweed2DPlanner import (\n",
    "    HJBSeaweed2DPlanner,\n",
    ")\n",
    "from ocean_navigation_simulator.environment.SeaweedProblem import SeaweedProblem\n",
    "from ocean_navigation_simulator.environment.ArenaFactory import ArenaFactory\n",
    "from ocean_navigation_simulator.problem_factories.Constructor import Constructor\n",
    "from ocean_navigation_simulator.environment.PlatformState import (\n",
    "    PlatformState,\n",
    "    SpatialPoint,\n",
    "    SpatioTemporalPoint,\n",
    ")\n",
    "from ocean_navigation_simulator.utils import units\n",
    "\n",
    "import os\n",
    "import pickle\n",
    "import logging\n",
    "import datetime\n",
    "\n",
    "\n",
    "\n",
    "\n",
    "%load_ext autoreload\n",
    "%autoreload 2"
   ]
  },
  {
   "cell_type": "code",
   "execution_count": 3,
   "id": "37cc3435",
   "metadata": {},
   "outputs": [
    {
     "name": "stdout",
     "output_type": "stream",
     "text": [
      "Starting to connect to c3\n"
     ]
    }
   ],
   "source": [
    "c3 = get_c3()"
   ]
  },
  {
   "attachments": {},
   "cell_type": "markdown",
   "id": "48a5446a",
   "metadata": {},
   "source": [
    "## Set up the experiment"
   ]
  },
  {
   "cell_type": "code",
   "execution_count": 200,
   "id": "35f70446",
   "metadata": {
    "ExecuteTime": {
     "end_time": "2023-01-30T09:07:39.457379Z",
     "start_time": "2023-01-30T09:07:39.397020Z"
    }
   },
   "outputs": [],
   "source": [
    "experiment_name = \"HC_umax_0.1_30\"\n",
    "exp = c3.Experiment.get(experiment_name)\n",
    "#exp.remove()"
   ]
  },
  {
   "cell_type": "code",
   "execution_count": null,
   "id": "34682227",
   "metadata": {
    "ExecuteTime": {
     "end_time": "2023-01-30T09:07:40.785436Z",
     "start_time": "2023-01-30T09:07:40.783300Z"
    }
   },
   "outputs": [],
   "source": [
    "exp"
   ]
  },
  {
   "attachments": {},
   "cell_type": "markdown",
   "id": "88fcf9c2",
   "metadata": {},
   "source": [
    "### Config"
   ]
  },
  {
   "cell_type": "code",
   "execution_count": 202,
   "id": "c65208b3",
   "metadata": {
    "ExecuteTime": {
     "end_time": "2023-01-30T09:07:45.068890Z",
     "start_time": "2023-01-30T09:07:45.062863Z"
    },
    "code_folding": []
   },
   "outputs": [],
   "source": [
    "arena_config = {\n",
    "    \"casadi_cache_dict\": {\"deg_around_x_t\": 2.0, \"time_around_x_t\": 432000},\n",
    "    \"platform_dict\": {\n",
    "        \"battery_cap_in_wh\": 400000.0,\n",
    "        \"u_max_in_mps\": 0.1,\n",
    "        \"motor_efficiency\": 1.0,\n",
    "        \"solar_panel_size\": 100,\n",
    "        \"solar_efficiency\": 1,\n",
    "        \"drag_factor\": 675.0,\n",
    "        \"dt_in_s\": 600.0,\n",
    "    },\n",
    "    \"use_geographic_coordinate_system\": True,\n",
    "    \"spatial_boundary\": None,\n",
    "    \"ocean_dict\": {\n",
    "        \"keep_newest_days\": 365,\n",
    "        \"region\": \"Region 3\",\n",
    "        \"hindcast\": {\n",
    "            \"field\": \"OceanCurrents\",\n",
    "            \"source\": \"hindcast_files\",\n",
    "            \"source_settings\": {\n",
    "                \"folder\": \"temp/hindcast/\",\n",
    "                \"source\": \"HYCOM\",\n",
    "                \"type\": \"hindcast\",\n",
    "            },\n",
    "        },\n",
    "        \"forecast\": None,\n",
    "        # {\n",
    "        #     \"field\": \"OceanCurrents\",\n",
    "        #     \"source\": \"longterm_average\",\n",
    "        #     \"source_settings\": {\n",
    "        #         \"forecast\": {\n",
    "        #             \"field\": \"OceanCurrents\",\n",
    "        #             \"source\": \"forecast_files\",\n",
    "        #             \"source_settings\": {\n",
    "        #                 \"folder\": \"temp/forecast/\",\n",
    "        #                 \"source\": \"Copernicus\",\n",
    "        #                 \"type\": \"forecast\",\n",
    "        #             },\n",
    "        #         },\n",
    "        #         \"average\": {\n",
    "        #             \"field\": \"OceanCurrents\",\n",
    "        #             \"source\": \"hindcast_files\",\n",
    "        #             \"source_settings\": {\n",
    "        #                 \"folder\": \"/home/c3/.conda/sdsdenvs/py-ocean_sim_matthias/lib/python3.9/site-packages/ocean_navigation_simulator/package_data/monthly_averages/\",\n",
    "        #                 \"currents\": \"normal\",\n",
    "        #             },\n",
    "        #         },\n",
    "        #     },\n",
    "        # },\n",
    "    },\n",
    "    \"solar_dict\": {\n",
    "        \"hindcast\": { \n",
    "            \"field\": 'SolarIrradiance',\n",
    "            \"source\": 'analytical_wo_caching', # can also be analytical_w_caching\n",
    "            \"source_settings\": {\n",
    "                \"boundary_buffer\": [0.2, 0.2],\n",
    "                \"x_domain\": [-180, 180],\n",
    "                \"y_domain\": [-90, 90],\n",
    "                \"temporal_domain\": \n",
    "                ['2020-01-01T00:00:00+00:00','2023-01-10T00:00:00+00:00'\n",
    "                    # datetime.datetime(year=2020, month=1, day=1, tzinfo=datetime.timezone.utc),\n",
    "                    # datetime.datetime(year=2023, month=1, day=10, tzinfo=datetime.timezone.utc),\n",
    "                ],\n",
    "                \"spatial_resolution\": 0.1,\n",
    "                \"temporal_resolution\": 3600,\n",
    "            },\n",
    "        },\n",
    "        \"forecast\": None,\n",
    "    },\n",
    "    \"seaweed_dict\": {\n",
    "        \"hindcast\": {\n",
    "            \"field\": 'SeaweedGrowth',\n",
    "            \"source\": 'GEOMAR',\n",
    "            \"source_settings\": {\n",
    "                \"filepath\": '/home/c3/.conda/adsdenvs/py-ocean_sim_matthias/lib/python3.9/site-packages/ocean_navigation_simulator/package_data/nutrients/', #'./data/nutrients/2022_monthly_nutrients_and_temp.nc' \n",
    "            },\n",
    "        },\n",
    "        \"forecast\": None,\n",
    "    },\n",
    "    \"timeout\": 3600 * 24 * 30, \n",
    "}\n",
    "\n",
    "# change to this if basic setup works\n",
    "# set_arena_loggers(logging.INFO)\n",
    "# logging.getLogger(\"SeaweedMissionGenerator\").setLevel(logging.INFO)\n",
    "\n",
    "config = {\n",
    "    \"scenario_config\": arena_config,\n",
    "    \"x_range\": [-120, -70],\n",
    "    \"y_range\": [-20, 20],\n",
    "    \"t_range\":\n",
    "    [\"2022-04-14T00:00:00+00:00\", \"2022-12-29T00:00:00+00:00\"\n",
    "        #datetime.datetime(year=2022, month=7, day=19, tzinfo=datetime.timezone.utc),\n",
    "        #datetime.datetime(year=2022, month=8, day=20, tzinfo=datetime.timezone.utc),\n",
    "    ],\n",
    "    \"time_horizon\": 2592000, # 3600 * 24 * 30 # in seconds\n",
    "    \"n_samples\": 1, # number of start samples per runner\n",
    "    \"min_distance_from_land\": 0.5, # degree\n",
    "}\n",
    "\n",
    "objectiveConfig = {'type': \"max_seaweed\"}"
   ]
  },
  {
   "cell_type": "markdown",
   "id": "3f7170e5",
   "metadata": {},
   "source": [
    "### Create Experiment"
   ]
  },
  {
   "attachments": {},
   "cell_type": "markdown",
   "id": "4911bcea",
   "metadata": {},
   "source": [
    "Make sure you really want to create a new experiment and you ran  ```exp = c3.Experiment.get(experiment_name)``` before\n",
    "'"
   ]
  },
  {
   "cell_type": "code",
   "execution_count": 177,
   "id": "cf527faf",
   "metadata": {
    "ExecuteTime": {
     "end_time": "2023-01-30T09:07:52.056545Z",
     "start_time": "2023-01-30T09:07:51.769470Z"
    }
   },
   "outputs": [],
   "source": [
    "# create exp\n",
    "exp = c3.Experiment.createNew(\n",
    "    name = experiment_name,\n",
    "    description = \"HC_umax_0.1_30\",\n",
    "    arenaConfig = arena_config,\n",
    "    objectiveConfig= objectiveConfig,\n",
    "    timeout_in_sec=3600 * 24 * 30,\n",
    ")"
   ]
  },
  {
   "cell_type": "code",
   "execution_count": 178,
   "id": "2069c0a3",
   "metadata": {
    "ExecuteTime": {
     "end_time": "2023-01-30T09:07:53.319491Z",
     "start_time": "2023-01-30T09:07:53.306994Z"
    },
    "scrolled": true
   },
   "outputs": [
    {
     "data": {
      "text/plain": [
       "c3.Experiment(\n",
       " id='HC_umax_0.1_30',\n",
       " meta=c3.Meta(\n",
       "        fetchInclude='[experimentName,id,version]',\n",
       "        fetchType='Experiment'),\n",
       " version=1,\n",
       " experimentName='HC_umax_0.1_30',\n",
       " T_horizon_FC_Error_Calculation_in_h=96)"
      ]
     },
     "execution_count": 178,
     "metadata": {},
     "output_type": "execute_result"
    }
   ],
   "source": [
    "exp = exp.get(\"experimentName\")\n",
    "\n",
    "#name.experimentName = \"test_matthias\"\n",
    "#name.merge()\n",
    "exp"
   ]
  },
  {
   "attachments": {},
   "cell_type": "markdown",
   "id": "e5795a88",
   "metadata": {},
   "source": [
    "# Set up generate mission batch job"
   ]
  },
  {
   "cell_type": "markdown",
   "id": "f70d7a79",
   "metadata": {},
   "source": [
    "## Set up and run mission generation"
   ]
  },
  {
   "cell_type": "code",
   "execution_count": 476,
   "id": "5b92354e",
   "metadata": {
    "ExecuteTime": {
     "end_time": "2023-01-30T09:07:58.608962Z",
     "start_time": "2023-01-30T09:07:58.606412Z"
    }
   },
   "outputs": [],
   "source": [
    "options = c3.GenMissionBatchJobOptionsMatthias(**{\n",
    "    'experiment':exp,\n",
    "    'missGenBatchConfig': config,\n",
    "    'base_seed': 122,\n",
    "    'nBatches': 40, \n",
    "    'nMissionGenPerBatch': 25,\n",
    "    'limit': -1,\n",
    "    'hardwareProfileId': \"appc8m64-w\" #\"appc8m642-w\" #appc72m660-w\n",
    "})"
   ]
  },
  {
   "attachments": {},
   "cell_type": "markdown",
   "id": "a240efe6",
   "metadata": {
    "heading_collapsed": true
   },
   "source": [
    "## [Debug locally]\n"
   ]
  },
  {
   "attachments": {},
   "cell_type": "markdown",
   "id": "74ce0368",
   "metadata": {},
   "source": [
    "In case you want to debug the Gen Mission c3 stuff locally. Just copy the according code from ```GenMissionBatchJob.py```"
   ]
  },
  {
   "cell_type": "code",
   "execution_count": null,
   "id": "d7ba6e8a",
   "metadata": {
    "ExecuteTime": {
     "end_time": "2023-01-28T04:25:00.785450Z",
     "start_time": "2023-01-28T04:25:00.783312Z"
    },
    "hidden": true
   },
   "outputs": [],
   "source": [
    "batch = c3.GenMissionBatchJobBatchMatthias(**{'batch_seed': 110})\n",
    "options = options"
   ]
  },
  {
   "cell_type": "code",
   "execution_count": null,
   "id": "1415576a",
   "metadata": {
    "ExecuteTime": {
     "end_time": "2023-01-28T04:25:01.193768Z",
     "start_time": "2023-01-28T04:25:01.188926Z"
    },
    "hidden": true
   },
   "outputs": [],
   "source": [
    "# Set up file paths and download folders\n",
    "temp_folder = \"/tmp/\" + str(batch.batch_seed) + \"/\"\n",
    "# create the folder if it doesn't exist yet\n",
    "if not os.path.isdir(temp_folder):\n",
    "    os.mkdir(temp_folder)\n",
    "log_file_name = str(batch.batch_seed) + \".log\"\n",
    "logging.basicConfig(filename=temp_folder + log_file_name, level=logging.DEBUG)\n",
    "\n",
    "# change to this if basic setup works test\n",
    "set_arena_loggers(logging.INFO)\n",
    "logging.getLogger(\"SeaweedMissionGenerator\").setLevel(logging.DEBUG)"
   ]
  },
  {
   "cell_type": "code",
   "execution_count": null,
   "id": "7ae39d57",
   "metadata": {
    "ExecuteTime": {
     "end_time": "2023-01-28T04:25:01.673047Z",
     "start_time": "2023-01-28T04:25:01.604005Z"
    },
    "hidden": true
   },
   "outputs": [],
   "source": [
    "# get configs for mission generation\n",
    "arena_config = options.experiment.get(\"arenaConfig\").arenaConfig\n",
    "# create the MissionGenerator Config\n",
    "config = options.missGenBatchConfig\n",
    "\n",
    "filepath = ocean_navigation_simulator.__file__\n",
    "module_path = os.path.dirname(filepath)\n",
    "nutrient_path = module_path + \"/package_data/nutrients/\"\n",
    "averages_path = module_path + \"/package_data/monthly_averages/\"\n",
    "arena_config[\"ocean_dict\"][\"forecast\"][\"source_settings\"][\"average\"][\"source_settings\"][\"folder\"] = averages_path\n",
    "arena_config[\"seaweed_dict\"][\"hindcast\"][\"source_settings\"][\"filepath\"] = nutrient_path\n",
    "\n",
    "config_to_add = {\n",
    "    \"scenario_config\": arena_config,\n",
    "    \"problem_timeout\": datetime.timedelta(\n",
    "        seconds=options.experiment.get(\"timeout_in_sec\").timeout_in_sec\n",
    "    ),\n",
    "    \"T_goal_in_seconds\": options.experiment.get(\"timeout_in_sec\").timeout_in_sec,\n",
    "}\n",
    "config.update(config_to_add)\n",
    "config_to_add = {\n",
    "    #\"scenario_config\": arena_config,\n",
    "    \"problem_timeout\": datetime.timedelta(\n",
    "        seconds=options.experiment.get(\"timeout_in_sec\").timeout_in_sec\n",
    "    ),\n",
    "    \"T_goal_in_seconds\": options.experiment.get(\"timeout_in_sec\").timeout_in_sec,\n",
    "}\n",
    "\n",
    "config.update(config_to_add)"
   ]
  },
  {
   "cell_type": "code",
   "execution_count": null,
   "id": "424969af",
   "metadata": {
    "ExecuteTime": {
     "end_time": "2023-01-28T04:25:04.074566Z",
     "start_time": "2023-01-28T04:25:04.070316Z"
    },
    "hidden": true
   },
   "outputs": [],
   "source": [
    "config"
   ]
  },
  {
   "cell_type": "code",
   "execution_count": null,
   "id": "892e1b6a",
   "metadata": {
    "ExecuteTime": {
     "end_time": "2023-01-28T04:30:53.131623Z",
     "start_time": "2023-01-28T04:25:15.231111Z"
    },
    "hidden": true,
    "scrolled": true
   },
   "outputs": [],
   "source": [
    "results_folder = \"/tmp/missions/\"\n",
    "os.makedirs(results_folder, exist_ok=True)\n",
    "# seed all of them\n",
    "random.seed(batch.batch_seed)\n",
    "all_problems = []\n",
    "for worker in range(options.nMissionGenPerBatch):\n",
    "    mission_generator = SeaweedMissionGenerator(\n",
    "        config=config\n",
    "        | {\n",
    "            \"seed\": int(random.uniform(0, 1000000)),\n",
    "            \"cache_folder\": results_folder + str(worker) + \"_\",\n",
    "        },\n",
    "        c3=c3,\n",
    "    )\n",
    "    problems = mission_generator.generate_batch()\n",
    "    all_problems.extend(problems)\n",
    "\n",
    "# Now upload all of them to the mission database!\n",
    "exp = options.experiment\n",
    "for idx, problem in enumerate(all_problems):\n",
    "    try:\n",
    "        exp.addMission(missionConfig=problem.to_c3_mission_config(),\n",
    "                       name=\"batch_seed_\" + str(batch.batch_seed) + \"_\" + str(idx))\n",
    "    except BaseException:\n",
    "        continue"
   ]
  },
  {
   "cell_type": "code",
   "execution_count": null,
   "id": "0abc6c67",
   "metadata": {
    "ExecuteTime": {
     "end_time": "2023-01-28T02:25:52.654026Z",
     "start_time": "2023-01-28T02:25:52.650800Z"
    },
    "hidden": true
   },
   "outputs": [],
   "source": [
    "all_problems"
   ]
  },
  {
   "cell_type": "markdown",
   "id": "d2da7ba2",
   "metadata": {},
   "source": [
    "## Start jobs"
   ]
  },
  {
   "cell_type": "code",
   "execution_count": 110,
   "id": "a9d9ce44",
   "metadata": {
    "ExecuteTime": {
     "end_time": "2023-01-30T09:08:04.747789Z",
     "start_time": "2023-01-30T09:08:04.300563Z"
    }
   },
   "outputs": [
    {
     "data": {
      "text/plain": [
       "c3.GenMissionBatchJobMatthias(\n",
       " typeIdent='BATCHJ:O_MAT_GENMISS_BATCH_JOB',\n",
       " id='d154b6a6-b205-4862-a004-f9417310537d',\n",
       " meta=c3.Meta(\n",
       "        created=datetime.datetime(2023, 2, 2, 0, 38, 5, tzinfo=datetime.timezone.utc),\n",
       "        updated=datetime.datetime(2023, 2, 2, 0, 38, 5, tzinfo=datetime.timezone.utc),\n",
       "        timestamp=datetime.datetime(2023, 2, 2, 0, 38, 5, tzinfo=datetime.timezone.utc)),\n",
       " version=1)"
      ]
     },
     "execution_count": 110,
     "metadata": {},
     "output_type": "execute_result"
    }
   ],
   "source": [
    "gen_mission_job = c3.GenMissionBatchJobMatthias(**{'options': options.toJson()}).upsert()\n",
    "# gen_mission_job.setMaxConcurrency(12) # maybe relevant for GPU nodes\n",
    "# gen_mission_job.setMaxConcurrencyPerNode(15) # maybe relevant for GPU nodes\n",
    "gen_mission_job.start()\n",
    "gen_mission_job"
   ]
  },
  {
   "cell_type": "code",
   "execution_count": 120,
   "id": "da396738",
   "metadata": {
    "ExecuteTime": {
     "end_time": "2023-01-30T09:17:27.954300Z",
     "start_time": "2023-01-30T09:17:27.899510Z"
    }
   },
   "outputs": [
    {
     "data": {
      "text/plain": [
       "c3.BatchJobStatus(\n",
       " started=datetime.datetime(2023, 2, 2, 0, 38, 6, tzinfo=datetime.timezone.utc),\n",
       " startedby='mariuswiggert@berkeley.edu',\n",
       " completed=datetime.datetime(2023, 2, 2, 1, 7, 6, tzinfo=datetime.timezone.utc),\n",
       " status='completed',\n",
       " newBatchSubmitted=False)"
      ]
     },
     "execution_count": 120,
     "metadata": {},
     "output_type": "execute_result"
    }
   ],
   "source": [
    "#gen_mission_job = c3.GenMissionBatchJobMatthias.get('eb2b51c8-f7f1-4be2-abbe-e2467fb3e7df')\n",
    "gen_mission_job.status()"
   ]
  },
  {
   "cell_type": "code",
   "execution_count": null,
   "id": "bcc9d4c1",
   "metadata": {
    "ExecuteTime": {
     "end_time": "2023-01-30T09:13:14.627100Z",
     "start_time": "2023-01-30T09:13:14.625210Z"
    }
   },
   "outputs": [],
   "source": [
    "#gen_mission_job.cancel()"
   ]
  },
  {
   "cell_type": "code",
   "execution_count": null,
   "id": "315ec9f9",
   "metadata": {
    "ExecuteTime": {
     "end_time": "2023-01-30T09:14:18.438329Z",
     "start_time": "2023-01-30T09:14:18.417851Z"
    }
   },
   "outputs": [],
   "source": [
    "gen_mission_job.computingActions()"
   ]
  },
  {
   "cell_type": "code",
   "execution_count": null,
   "id": "14987447",
   "metadata": {
    "ExecuteTime": {
     "end_time": "2023-01-30T09:14:17.661359Z",
     "start_time": "2023-01-30T09:14:17.557027Z"
    }
   },
   "outputs": [],
   "source": [
    "c3.Cluster.actionDump()"
   ]
  },
  {
   "cell_type": "code",
   "execution_count": null,
   "id": "fab8b765",
   "metadata": {
    "ExecuteTime": {
     "end_time": "2023-01-30T09:13:08.877368Z",
     "start_time": "2023-01-30T09:13:08.875505Z"
    }
   },
   "outputs": [],
   "source": [
    "#gen_mission_job.cancel()"
   ]
  },
  {
   "cell_type": "code",
   "execution_count": 121,
   "id": "5750d2ba",
   "metadata": {
    "ExecuteTime": {
     "end_time": "2023-01-30T09:17:31.409848Z",
     "start_time": "2023-01-30T09:17:31.395410Z"
    }
   },
   "outputs": [
    {
     "data": {
      "text/plain": [
       "1000"
      ]
     },
     "execution_count": 121,
     "metadata": {},
     "output_type": "execute_result"
    }
   ],
   "source": [
    "len(exp.get('expMissions').expMissions)"
   ]
  },
  {
   "cell_type": "code",
   "execution_count": 122,
   "id": "255e314c",
   "metadata": {
    "ExecuteTime": {
     "end_time": "2023-01-30T08:44:13.556914Z",
     "start_time": "2023-01-30T08:44:13.541280Z"
    }
   },
   "outputs": [
    {
     "data": {
      "text/plain": [
       "c3.Mission(\n",
       " id='HC_umax_0.0_30_batch_seed_122_0',\n",
       " meta=c3.Meta(fetchInclude='[missionConfig,id,version]', fetchType='Mission'),\n",
       " version=1,\n",
       " missionConfig={'seed': 510018,\n",
       "                 'x_0': [{'date_time': '2022-06-22T05:25:51.019304+00:00',\n",
       "                          'lat': 11.8587912452033,\n",
       "                          'lon': -100.17848339141537}]})"
      ]
     },
     "execution_count": 122,
     "metadata": {},
     "output_type": "execute_result"
    }
   ],
   "source": [
    "exp.get('expMissions').expMissions[0].get('missionConfig')"
   ]
  },
  {
   "attachments": {},
   "cell_type": "markdown",
   "id": "a846c651",
   "metadata": {},
   "source": [
    "# Save and load missions from and to experiments instead of generating new ones"
   ]
  },
  {
   "attachments": {},
   "cell_type": "markdown",
   "id": "64f36894",
   "metadata": {},
   "source": [
    "### Experiment to take the missions from"
   ]
  },
  {
   "cell_type": "code",
   "execution_count": 7,
   "id": "49f24c1e",
   "metadata": {},
   "outputs": [],
   "source": [
    "problems = []\n",
    "for miss in exp.get('expMissions').expMissions:\n",
    "    missionConfig = miss.get(\"missionConfig\").missionConfig\n",
    "    problems.append(SeaweedProblem.from_c3_mission_config(missionConfig))"
   ]
  },
  {
   "cell_type": "code",
   "execution_count": 8,
   "id": "38623d82",
   "metadata": {
    "ExecuteTime": {
     "end_time": "2023-01-29T04:41:10.029546Z",
     "start_time": "2023-01-29T04:41:10.022613Z"
    },
    "hidden": true
   },
   "outputs": [],
   "source": [
    "import pandas as pd\n",
    "\n",
    "results_folder = \"./\"\n",
    "df = pd.DataFrame([problem.to_dict() for problem in problems])\n",
    "df['factory_index'] = 0\n",
    "df.to_csv(results_folder + \"problems.csv\")"
   ]
  },
  {
   "cell_type": "code",
   "execution_count": 325,
   "id": "cd19a37f",
   "metadata": {
    "ExecuteTime": {
     "end_time": "2023-01-29T04:41:10.227185Z",
     "start_time": "2023-01-29T04:41:10.224240Z"
    },
    "hidden": true
   },
   "outputs": [
    {
     "data": {
      "text/plain": [
       "1000"
      ]
     },
     "execution_count": 325,
     "metadata": {},
     "output_type": "execute_result"
    }
   ],
   "source": [
    "len(problems)"
   ]
  },
  {
   "attachments": {},
   "cell_type": "markdown",
   "id": "774e23b3",
   "metadata": {},
   "source": [
    "TODO: Add funcionality to load missions from .csv"
   ]
  },
  {
   "attachments": {},
   "cell_type": "markdown",
   "id": "a20f3030",
   "metadata": {},
   "source": [
    "### Make sure you create/select a new experiment where you want to add the retrieved missions to"
   ]
  },
  {
   "cell_type": "code",
   "execution_count": 335,
   "id": "ec11b78f",
   "metadata": {},
   "outputs": [],
   "source": [
    "# experiment_name = \"HC_umax_0.1_30_second_try\"\n",
    "# exp = c3.Experiment.get(experiment_name)\n",
    "# #exp.remove()"
   ]
  },
  {
   "cell_type": "code",
   "execution_count": null,
   "id": "b04e2ec7",
   "metadata": {},
   "outputs": [],
   "source": [
    "exp"
   ]
  },
  {
   "cell_type": "code",
   "execution_count": 305,
   "id": "407a572b",
   "metadata": {},
   "outputs": [],
   "source": [
    "# exp = c3.Experiment.createNew(\n",
    "#     name = experiment_name,\n",
    "#     description = \"HC_umax_0.1_30_second_try\",\n",
    "#     arenaConfig = arena_config,\n",
    "#     objectiveConfig= objectiveConfig,\n",
    "#     timeout_in_sec=3600 * 24 * 30,\n",
    "# )"
   ]
  },
  {
   "cell_type": "code",
   "execution_count": 306,
   "id": "bfa7670d",
   "metadata": {},
   "outputs": [],
   "source": [
    "for problem in problems:\n",
    "    exp.addMission(problem.to_c3_mission_config())"
   ]
  },
  {
   "cell_type": "code",
   "execution_count": null,
   "id": "b93c7156",
   "metadata": {},
   "outputs": [],
   "source": [
    "# for miss in exp.get('expMissions').expMissions:\n",
    "#     miss.remove()\n",
    "#     miss.merge()"
   ]
  },
  {
   "cell_type": "code",
   "execution_count": 337,
   "id": "35ae4b79",
   "metadata": {},
   "outputs": [
    {
     "data": {
      "text/plain": [
       "1000"
      ]
     },
     "execution_count": 337,
     "metadata": {},
     "output_type": "execute_result"
    }
   ],
   "source": [
    "len(exp.get('expMissions').expMissions)"
   ]
  },
  {
   "attachments": {},
   "cell_type": "markdown",
   "id": "bec43c46",
   "metadata": {
    "heading_collapsed": true
   },
   "source": [
    "# Plot all of them on a map and get distribution informationm"
   ]
  },
  {
   "cell_type": "code",
   "execution_count": 151,
   "id": "70a8cf19",
   "metadata": {
    "ExecuteTime": {
     "end_time": "2023-01-29T04:41:12.487465Z",
     "start_time": "2023-01-29T04:41:10.877728Z"
    },
    "hidden": true
   },
   "outputs": [
    {
     "name": "stderr",
     "output_type": "stream",
     "text": [
      "/var/folders/ng/bpb66jzj5d59g10n121_hj6h0000gn/T/ipykernel_10447/1355533905.py:20: UserWarning:\n",
      "\n",
      "Matplotlib is currently using module://matplotlib_inline.backend_inline, which is a non-GUI backend, so cannot show the figure.\n",
      "\n"
     ]
    },
    {
     "data": {
      "image/png": "[encoded data removed]",
      "text/plain": [
       "<Figure size 1000x1000 with 1 Axes>"
      ]
     },
     "metadata": {},
     "output_type": "display_data"
    }
   ],
   "source": [
    "import matplotlib.pyplot as plt\n",
    "import cartopy.crs as ccrs\n",
    "import cartopy.feature as cfeature\n",
    "\n",
    "fig = plt.figure(figsize=(10,10))\n",
    "ax = plt.axes(projection=ccrs.PlateCarree())\n",
    "#ax.set_title(\"Time: \" + datetime.fromtimestamp(time, tz=timezone.utc).strftime('%Y-%m-%d %H:%M:%S UTC'))\n",
    " \n",
    "ax.add_feature(cfeature.LAND, zorder=3, edgecolor='black')\n",
    "ax.add_feature(cfeature.OCEAN, zorder=0)\n",
    "grid_lines = ax.gridlines(draw_labels=True, zorder=5)\n",
    "grid_lines.top_labels = False\n",
    "grid_lines.right_labels = False\n",
    "ax.axis(xmin=-120,xmax=-70)\n",
    "ax.axis(ymin=-20,ymax=20)\n",
    "\n",
    "ax.scatter(df[\"x_0_lon\"], df[\"x_0_lat\"], c=\"red\", marker=\"o\", s=6, label=\"starts\")\n",
    "ax.legend()\n",
    "# ax.get_figure().savefig(f\"{analysis_folder}starts_and_targets.png\")\n",
    "ax.get_figure().show()"
   ]
  },
  {
   "attachments": {},
   "cell_type": "markdown",
   "id": "663fe50c",
   "metadata": {},
   "source": [
    "TODO: get time historgram running properly"
   ]
  },
  {
   "cell_type": "code",
   "execution_count": null,
   "id": "8407004d",
   "metadata": {
    "ExecuteTime": {
     "end_time": "2023-01-28T05:17:36.351521Z",
     "start_time": "2023-01-28T05:17:36.305269Z"
    },
    "hidden": true
   },
   "outputs": [],
   "source": [
    "#SeaweedMissionGenerator.plot_starts(\n",
    "#    problems=all_problems, config=arena_config,results_folder= results_folder,\n",
    "#)"
   ]
  },
  {
   "cell_type": "code",
   "execution_count": 97,
   "id": "6238b508",
   "metadata": {
    "ExecuteTime": {
     "end_time": "2023-01-28T05:32:12.456525Z",
     "start_time": "2023-01-28T05:32:11.990251Z"
    },
    "hidden": true
   },
   "outputs": [
    {
     "ename": "NameError",
     "evalue": "name 'results_folder' is not defined",
     "output_type": "error",
     "traceback": [
      "\u001b[0;31m---------------------------------------------------------------------------\u001b[0m",
      "\u001b[0;31mNameError\u001b[0m                                 Traceback (most recent call last)",
      "Cell \u001b[0;32mIn [97], line 46\u001b[0m\n\u001b[1;32m     42\u001b[0m     fig\u001b[39m.\u001b[39mshow()\n\u001b[1;32m     45\u001b[0m \u001b[39m# Target Dates Histogram\u001b[39;00m\n\u001b[0;32m---> 46\u001b[0m plot_target_dates_histogram(results_folder)\n",
      "\u001b[0;31mNameError\u001b[0m: name 'results_folder' is not defined"
     ]
    }
   ],
   "source": [
    "def plot_target_dates_histogram(results_folder=None, problems_df=None):\n",
    "    # Step 1: Load Data\n",
    "    if results_folder:\n",
    "        if results_folder.startswith(\"/seaweed-storage/\"):\n",
    "            cluster_utils.ensure_storage_connection()\n",
    "        problems_df = pd.read_csv(f\"{results_folder}problems.csv\")\n",
    "        analysis_folder = f\"{results_folder}analysis/\"\n",
    "        os.makedirs(analysis_folder, exist_ok=True)\n",
    "\n",
    "    # Step 2: Prepare Data\n",
    "    if \"factory_index\" in list(problems_df.columns.values):\n",
    "        start_df = problems_df[problems_df[\"factory_index\"] == 0]\n",
    "    else:\n",
    "        start_df = problems_df\n",
    "    start_df.insert(2, \"t_0_pd\", pd.to_datetime(start_df.loc[:, \"t_0\"]))\n",
    "    start_df.insert(3, \"t_0_ymd\", start_df[\"t_0_pd\"].map(lambda x: x.strftime(\"%Y-%m-%d\")))\n",
    "    df = start_df\n",
    "\n",
    "    # Step 3: Plot\n",
    "    fig, ax = plt.subplots(figsize=(16, 12))\n",
    "\n",
    "    days = pd.date_range(\n",
    "        df[\"t_0_pd\"].min() - pd.DateOffset(days=1),\n",
    "        df[\"t_0_pd\"].max() + pd.DateOffset(day=1),\n",
    "        freq=\"D\",\n",
    "    )\n",
    "    months = pd.date_range(\n",
    "        df[\"t_0_pd\"].min() - pd.DateOffset(months=1),\n",
    "        df[\"t_0_pd\"].max() + pd.DateOffset(months=1),\n",
    "        freq=\"MS\",\n",
    "    )\n",
    "\n",
    "    df[\"t_0_pd\"].astype(np.int64).plot.hist(ax=ax, bins=days.astype(np.int64))\n",
    "\n",
    "    ax.set_xticks(months.astype(np.int64).to_list())\n",
    "    ax.set_xticklabels(months.strftime(\"%Y-%m\").to_list(), rotation=45)\n",
    "\n",
    "    unique_days = len(df[\"t_0_ymd\"].unique())\n",
    "    fig.suptitle(f\"Target Day Histogram (Days: {unique_days})\")\n",
    "\n",
    "    # fig.savefig(f\"{analysis_folder}target_day_histogram.png\")\n",
    "    fig.show()\n",
    "\n",
    "\n",
    "# Target Dates Histogram\n",
    "plot_target_dates_histogram(results_folder)"
   ]
  },
  {
   "cell_type": "code",
   "execution_count": null,
   "id": "258a75dd",
   "metadata": {
    "ExecuteTime": {
     "end_time": "2023-01-20T00:07:47.748369Z",
     "start_time": "2023-01-20T00:07:47.291807Z"
    },
    "hidden": true
   },
   "outputs": [],
   "source": [
    "GenerationRunner.plot_ttr_histogram(results_folder)"
   ]
  },
  {
   "cell_type": "markdown",
   "id": "8f4c76c1",
   "metadata": {
    "heading_collapsed": true
   },
   "source": [
    "# Add Observer"
   ]
  },
  {
   "cell_type": "code",
   "execution_count": 308,
   "id": "e8b1fa2f",
   "metadata": {
    "ExecuteTime": {
     "end_time": "2023-01-30T09:17:35.265656Z",
     "start_time": "2023-01-30T09:17:35.211929Z"
    },
    "hidden": true
   },
   "outputs": [
    {
     "data": {
      "text/plain": [
       "c3.ObserverSetting(\n",
       " id='HC_umax_0.1_30_second_try_NoObserver',\n",
       " name='NoObserver',\n",
       " meta=c3.Meta(\n",
       "        created=datetime.datetime(2023, 2, 3, 20, 32, 2, tzinfo=datetime.timezone.utc),\n",
       "        updated=datetime.datetime(2023, 2, 3, 20, 32, 2, tzinfo=datetime.timezone.utc),\n",
       "        timestamp=datetime.datetime(2023, 2, 3, 20, 32, 2, tzinfo=datetime.timezone.utc)),\n",
       " version=1)"
      ]
     },
     "execution_count": 308,
     "metadata": {},
     "output_type": "execute_result"
    }
   ],
   "source": [
    "# Config for No observer\n",
    "observer_config = {\"observer\": None}\n",
    "# add observer\n",
    "exp.addObserver(name=\"NoObserver\", observerConfig=observer_config)"
   ]
  },
  {
   "cell_type": "markdown",
   "id": "8732af8d",
   "metadata": {},
   "source": [
    "### other observer configs"
   ]
  },
  {
   "cell_type": "code",
   "execution_count": null,
   "id": "bf665948",
   "metadata": {
    "ExecuteTime": {
     "end_time": "2023-01-20T00:08:06.325349Z",
     "start_time": "2023-01-20T00:08:06.285240Z"
    },
    "code_folding": [],
    "hidden": true
   },
   "outputs": [],
   "source": [
    "# Config for GP observer\n",
    "observer_config = {\n",
    "    \"observer\": {\n",
    "        \"model\": {\n",
    "            \"gaussian_process\": {\n",
    "                \"sigma_exp_squared\": 5.011571057964094, \n",
    "                \"kernel\": {\n",
    "                    \"scaling\": {\n",
    "                        \"latitude\": 0.5753005356364821,\n",
    "                        \"longitude\": 0.5967749664273109,\n",
    "                        \"time\": 42103.57591355196},  # [m]  # [m]  # [s]\n",
    "                    \"type\": \"matern\",\n",
    "                    \"parameters\": {\n",
    "                        \"length_scale_bounds\": \"fixed\",\n",
    "                        \"nu\": 1.5},\n",
    "                },\n",
    "            }\n",
    "        },\n",
    "    }\n",
    "}\n",
    "\n",
    "# add observer\n",
    "exp.addObserver(name=\"GPObserver\", observerConfig=observer_config)"
   ]
  },
  {
   "cell_type": "code",
   "execution_count": null,
   "id": "b38082a9",
   "metadata": {
    "ExecuteTime": {
     "end_time": "2023-01-20T00:08:30.549430Z",
     "start_time": "2023-01-20T00:08:30.513454Z"
    },
    "code_folding": [],
    "hidden": true
   },
   "outputs": [],
   "source": [
    "# Config for GP_NN_Observer\n",
    "observer_config = {\n",
    "    'observer': {\n",
    "        'life_span_observations_in_sec': 86400,\n",
    "        'model': {\n",
    "            'NN': {\n",
    "                'NN_radius_space': 1,\n",
    "                'NN_lags_in_second': 43200,\n",
    "                'dimension_input': [12, 13, 13],\n",
    "                'model_error': False,\n",
    "                'type': 'cnn',\n",
    "                'parameters': {\n",
    "                    'path_weights': 'ocean_navigation_simulator/forecast_improvement/CNN_models_saved/medium_tile_big_ds.h5',\n",
    "                    'ch_sz': [6, 24, 48, 96, 192],\n",
    "                     'downsizing_method': 'avgpool',\n",
    "                     'dropout_encoder': 0.24299222476871712,\n",
    "                     'dropout_decoder': 0.13587898683659105,\n",
    "                     'dropout_bottom': 0.7479602916555403,\n",
    "                     'initial_channels': [0, 1, 2, 3, 6, 7],\n",
    "                     'output_paddings': [[0, 1, 1], [1, 0, 0], [1, 0, 0]]}},\n",
    "            'gaussian_process': {\n",
    "                'kernel': {\n",
    "                    'type': 'matern',\n",
    "                    'sigma_exp_squared': 5.011571057964094,\n",
    "                    'scaling': {\n",
    "                        'latitude': 0.5753005356364821,\n",
    "                        'longitude': 0.5967749664273109,\n",
    "                        'time': 42103.57591355196},\n",
    "                    'parameters': {'length_scale_bounds': 'fixed', 'nu': 1.5}}}}}}\n",
    "# add observer\n",
    "exp.addObserver(name=\"GP_NN_Observer\", observerConfig=observer_config)"
   ]
  },
  {
   "cell_type": "markdown",
   "id": "4323858c",
   "metadata": {},
   "source": [
    "# Add Controller"
   ]
  },
  {
   "cell_type": "code",
   "execution_count": 338,
   "id": "e76e74f0",
   "metadata": {
    "ExecuteTime": {
     "end_time": "2023-01-30T09:17:41.899427Z",
     "start_time": "2023-01-30T09:17:41.896760Z"
    },
    "code_folding": []
   },
   "outputs": [],
   "source": [
    "# Config for Controller\n",
    "ctrl_config = {\n",
    "    \"ctrl_name\": \"ocean_navigation_simulator.controllers.hj_planners.HJBSeaweed2DPlanner.HJBSeaweed2DPlanner\",\n",
    "    \"replan_on_new_fmrc\": True,\n",
    "    \"replan_every_X_seconds\": False,\n",
    "    \"direction\": \"backward\",\n",
    "    \"n_time_vector\": 24*30,\n",
    "    # Note that this is the number of time-intervals, the vector is +1 longer because of init_time\n",
    "    \"deg_around_xt_xT_box_global\": 15,  # area over which to run HJ_reachability on the first global run\n",
    "    \"deg_around_xt_xT_box\": 1.4,  # area over which to run HJ_reachability\n",
    "    \"accuracy\": \"high\",\n",
    "    \"artificial_dissipation_scheme\": \"local_local\",\n",
    "    \"T_goal_in_seconds\": 3600 * 24 * 30,\n",
    "    \"use_geographic_coordinate_system\": True,\n",
    "    \"progress_bar\": True,\n",
    "    \"grid_res\": 0.0833,  # Note: this is in deg lat, lon (HYCOM Global is 0.083 and Mexico 0.04)\n",
    "    \"grid_res_global\": 0.166,  # Note: this is in deg lat, lon (HYCOM Global is 0.083 and Mexico 0.04)        \n",
    "    \"d_max\": 0.0,\n",
    "    \"calc_opt_traj_after_planning\": False\n",
    "}"
   ]
  },
  {
   "cell_type": "code",
   "execution_count": 339,
   "id": "8587e550",
   "metadata": {
    "ExecuteTime": {
     "end_time": "2023-01-30T09:17:48.952907Z",
     "start_time": "2023-01-30T09:17:48.887870Z"
    },
    "code_folding": [],
    "scrolled": false
   },
   "outputs": [
    {
     "data": {
      "text/plain": [
       "c3.ControllerSetting(\n",
       " id='HC_umax_0.1_30_second_try_SeaweedHJController',\n",
       " name='SeaweedHJController',\n",
       " meta=c3.Meta(\n",
       "        created=datetime.datetime(2023, 2, 3, 20, 54, 27, tzinfo=datetime.timezone.utc),\n",
       "        updated=datetime.datetime(2023, 2, 3, 20, 54, 27, tzinfo=datetime.timezone.utc),\n",
       "        timestamp=datetime.datetime(2023, 2, 3, 20, 54, 27, tzinfo=datetime.timezone.utc)),\n",
       " version=1)"
      ]
     },
     "execution_count": 339,
     "metadata": {},
     "output_type": "execute_result"
    }
   ],
   "source": [
    "# add controller\n",
    "exp.addController(name='SeaweedHJController', ctrlConfig=ctrl_config)"
   ]
  },
  {
   "cell_type": "code",
   "execution_count": 36,
   "id": "24a7aa40",
   "metadata": {
    "ExecuteTime": {
     "end_time": "2023-01-28T05:48:52.673790Z",
     "start_time": "2023-01-28T05:48:52.663253Z"
    },
    "code_folding": []
   },
   "outputs": [
    {
     "data": {
      "text/plain": [
       "c3.ControllerSetting(\n",
       " id='matthias_wandb_2_NaiveToTarget',\n",
       " name='NaiveToTarget',\n",
       " meta=c3.Meta(\n",
       "        created=datetime.datetime(2023, 1, 30, 20, 5, 27, tzinfo=datetime.timezone.utc),\n",
       "        updated=datetime.datetime(2023, 1, 30, 20, 5, 27, tzinfo=datetime.timezone.utc),\n",
       "        timestamp=datetime.datetime(2023, 1, 30, 20, 5, 27, tzinfo=datetime.timezone.utc)),\n",
       " version=1)"
      ]
     },
     "execution_count": 36,
     "metadata": {},
     "output_type": "execute_result"
    }
   ],
   "source": [
    "ctrl_config = {\n",
    "    \"ctrl_name\": \"ocean_navigation_simulator.controllers.NaiveController.NaiveController\"}\n",
    "# add controller\n",
    "exp.addController(name=\"NaiveToTarget\", ctrlConfig=ctrl_config)"
   ]
  },
  {
   "cell_type": "markdown",
   "id": "40bf14cc",
   "metadata": {
    "heading_collapsed": true
   },
   "source": [
    "# [Run Feasibility Check Batch Job]"
   ]
  },
  {
   "cell_type": "code",
   "execution_count": null,
   "id": "1b7dc554",
   "metadata": {
    "ExecuteTime": {
     "end_time": "2023-01-28T06:05:16.666777Z",
     "start_time": "2023-01-28T06:05:16.664226Z"
    },
    "hidden": true
   },
   "outputs": [],
   "source": [
    "filterOnMissions = 'status ==' + '\"' + 'staged_for_feasibility' + '\"'\n",
    "options = c3.FeasibilityCheckBatchJobOptions(**{\n",
    "    'experiment':exp,\n",
    "    'limit': -1,\n",
    "    'filterOnMissions': filterOnMissions\n",
    "})"
   ]
  },
  {
   "cell_type": "code",
   "execution_count": null,
   "id": "26455ba6",
   "metadata": {
    "ExecuteTime": {
     "end_time": "2023-01-28T06:05:40.185794Z",
     "start_time": "2023-01-28T06:05:40.182304Z"
    },
    "hidden": true
   },
   "outputs": [],
   "source": [
    "exp"
   ]
  },
  {
   "cell_type": "code",
   "execution_count": null,
   "id": "118eacb8",
   "metadata": {
    "ExecuteTime": {
     "end_time": "2023-01-20T00:10:54.819458Z",
     "start_time": "2023-01-20T00:10:54.543727Z"
    },
    "hidden": true
   },
   "outputs": [],
   "source": [
    "feas_job = c3.FeasibilityCheckBatchJob(**{'options': options.toJson()}).upsert()\n",
    "# feas_job.setMaxConcurrency(12)\n",
    "# feas_job.setMaxConcurrencyPerNode(15)\n",
    "feas_job.start()\n",
    "feas_job"
   ]
  },
  {
   "cell_type": "code",
   "execution_count": null,
   "id": "9e2efbda",
   "metadata": {
    "ExecuteTime": {
     "end_time": "2023-01-20T00:16:43.746346Z",
     "start_time": "2023-01-20T00:16:43.711888Z"
    },
    "hidden": true
   },
   "outputs": [],
   "source": [
    "feas_job = c3.FeasibilityCheckBatchJob.get('2d084cad-1771-4e09-b826-98b2bef29478')\n",
    "feas_job.status()"
   ]
  },
  {
   "cell_type": "code",
   "execution_count": null,
   "id": "fd5997df",
   "metadata": {
    "ExecuteTime": {
     "end_time": "2023-01-20T00:17:13.577547Z",
     "start_time": "2023-01-20T00:17:13.510640Z"
    },
    "hidden": true
   },
   "outputs": [],
   "source": [
    "experiment = 'experiment.id==' + '\"' + exp.id + '\"'\n",
    "objs_list = c3.Mission.fetch(spec={'include': \"[this]\",'filter':  experiment}).objs\n",
    "print(\"Total of {} Missions\".format(len(objs_list)))\n",
    "\n",
    "staged_for_feasibility = 0\n",
    "running_feasibility = 0\n",
    "not_feasible = 0\n",
    "ready_to_run = 0\n",
    "feasibility_failed = 0\n",
    "\n",
    "for run in objs_list:\n",
    "    if run.status == 'staged_for_feasibility':\n",
    "        staged_for_feasibility += 1\n",
    "    elif run.status == 'running_feasibility':\n",
    "        running_feasibility += 1\n",
    "    elif run.status == 'not_feasible':\n",
    "        not_feasible += 1\n",
    "    elif run.status == 'ready_to_run':\n",
    "        ready_to_run += 1\n",
    "    elif run.status == 'feasibility_failed':\n",
    "        feasibility_failed += 1\n",
    "\n",
    "print(\"staged_for_feasibility: \", staged_for_feasibility)\n",
    "print(\"running_feasibility: \", running_feasibility)\n",
    "print(\"not_feasible: \", not_feasible)\n",
    "print(\"feasibility_failed: \", feasibility_failed)\n",
    "print(\"ready_to_run: \", ready_to_run)"
   ]
  },
  {
   "cell_type": "code",
   "execution_count": null,
   "id": "0ff6ddda",
   "metadata": {
    "ExecuteTime": {
     "end_time": "2023-01-20T00:17:25.532434Z",
     "start_time": "2023-01-20T00:17:25.521983Z"
    },
    "hidden": true
   },
   "outputs": [],
   "source": [
    "experiment = 'experiment.id==' + '\"' + exp.id + '\"'\n",
    "status = ' && status==' + '\"not_feasible\"'\n",
    "ro_remove_list = c3.Mission.fetch(spec={'include': \"[this]\",'filter':  experiment + status}).objs"
   ]
  },
  {
   "cell_type": "code",
   "execution_count": null,
   "id": "6fdf86e4",
   "metadata": {
    "ExecuteTime": {
     "end_time": "2023-01-20T00:17:26.331866Z",
     "start_time": "2023-01-20T00:17:26.329849Z"
    },
    "hidden": true
   },
   "outputs": [],
   "source": [
    "ro_remove_list"
   ]
  },
  {
   "cell_type": "code",
   "execution_count": null,
   "id": "016adf23",
   "metadata": {
    "ExecuteTime": {
     "end_time": "2023-01-20T00:13:52.886353Z",
     "start_time": "2023-01-20T00:13:51.304845Z"
    },
    "hidden": true
   },
   "outputs": [],
   "source": [
    "for miss in ro_remove_list:\n",
    "    miss.remove()"
   ]
  },
  {
   "cell_type": "markdown",
   "id": "88ae9dfd",
   "metadata": {
    "ExecuteTime": {
     "end_time": "2023-01-28T06:12:09.009764Z",
     "start_time": "2023-01-28T06:12:09.007906Z"
    }
   },
   "source": [
    "# Set missions to ready to run"
   ]
  },
  {
   "cell_type": "code",
   "execution_count": 340,
   "id": "7eaea5b8",
   "metadata": {
    "ExecuteTime": {
     "end_time": "2023-01-30T09:17:53.094276Z",
     "start_time": "2023-01-30T09:17:53.079456Z"
    }
   },
   "outputs": [],
   "source": [
    "experiment = 'experiment.id==' + '\"' + exp.id + '\"'\n",
    "status = ' && status==' + '\"staged_for_feasibility\"'\n",
    "exp_list = c3.Mission.fetch(spec={'include': \"[this]\",'filter':  experiment}).objs"
   ]
  },
  {
   "cell_type": "code",
   "execution_count": 341,
   "id": "4b5fdc8a",
   "metadata": {},
   "outputs": [
    {
     "data": {
      "text/plain": [
       "1000"
      ]
     },
     "execution_count": 341,
     "metadata": {},
     "output_type": "execute_result"
    }
   ],
   "source": [
    "len(exp_list)"
   ]
  },
  {
   "cell_type": "code",
   "execution_count": 342,
   "id": "32851960",
   "metadata": {
    "ExecuteTime": {
     "end_time": "2023-01-30T09:17:54.785903Z",
     "start_time": "2023-01-30T09:17:54.782661Z"
    }
   },
   "outputs": [
    {
     "data": {
      "text/plain": [
       "'experiment.id==\"HC_umax_0.1_30_second_try\"'"
      ]
     },
     "execution_count": 342,
     "metadata": {},
     "output_type": "execute_result"
    }
   ],
   "source": [
    "experiment"
   ]
  },
  {
   "cell_type": "code",
   "execution_count": 343,
   "id": "54e8d834",
   "metadata": {
    "ExecuteTime": {
     "end_time": "2023-01-30T09:17:55.380059Z",
     "start_time": "2023-01-30T09:17:55.326569Z"
    }
   },
   "outputs": [],
   "source": [
    "for miss in exp_list:\n",
    "    miss.status=\"ready_to_run\"\n",
    "    miss.merge()\n",
    "    #print(miss.status)"
   ]
  },
  {
   "cell_type": "markdown",
   "id": "fe6b9724",
   "metadata": {
    "heading_collapsed": true
   },
   "source": [
    "## Test feasibility manually"
   ]
  },
  {
   "cell_type": "code",
   "execution_count": null,
   "id": "7e767f35",
   "metadata": {
    "ExecuteTime": {
     "end_time": "2023-01-19T19:43:03.743842Z",
     "start_time": "2023-01-19T19:43:03.741825Z"
    },
    "hidden": true
   },
   "outputs": [],
   "source": [
    "# Seems like the problem is with mission generation then, that they are unrealistic..."
   ]
  },
  {
   "cell_type": "code",
   "execution_count": null,
   "id": "1d76fa71",
   "metadata": {
    "ExecuteTime": {
     "end_time": "2023-01-20T00:14:20.551213Z",
     "start_time": "2023-01-20T00:14:20.545562Z"
    },
    "code_folding": [
     11
    ],
    "hidden": true
   },
   "outputs": [],
   "source": [
    "import os\n",
    "import pickle\n",
    "import logging\n",
    "import datetime\n",
    "\n",
    "from ocean_navigation_simulator.environment.ArenaFactory import ArenaFactory\n",
    "from ocean_navigation_simulator.problem_factories.Constructor import Constructor\n",
    "from ocean_navigation_simulator.environment.PlatformState import SpatioTemporalPoint\n",
    "from ocean_navigation_simulator.utils.calc_fmrc_error import calc_fmrc_errors\n",
    "from ocean_navigation_simulator.utils.misc import set_arena_loggers\n",
    "set_arena_loggers(logging.DEBUG)\n",
    "\n",
    "\n",
    "def set_up_time_optimal_controller_config(this):\n",
    "    ctrl_config = {\n",
    "        \"ctrl_name\": \"ocean_navigation_simulator.controllers.hj_planners.HJReach2DPlanner.HJReach2DPlanner\",\n",
    "        \"replan_on_new_fmrc\": False,\n",
    "        \"replan_every_X_seconds\": False,\n",
    "        \"direction\": \"multi-time-reach-back\",\n",
    "        \"n_time_vector\": 200,\n",
    "        \"deg_around_xt_xT_box\": this.experiment.feasibilityCheckSettings.deg_around_xt_xT_box,\n",
    "        \"accuracy\": \"high\",\n",
    "        \"artificial_dissipation_scheme\": \"local_local\",\n",
    "        \"T_goal_in_seconds\": this.experiment.timeout_in_sec,\n",
    "        \"use_geographic_coordinate_system\": True,\n",
    "        \"progress_bar\": False,\n",
    "        \"grid_res\": this.experiment.feasibilityCheckSettings.grid_res,\n",
    "        \"d_max\": 0.0,\n",
    "    }\n",
    "    return ctrl_config"
   ]
  },
  {
   "cell_type": "code",
   "execution_count": null,
   "id": "a324e1ec",
   "metadata": {
    "ExecuteTime": {
     "end_time": "2023-01-20T00:14:22.272928Z",
     "start_time": "2023-01-20T00:14:22.255632Z"
    },
    "hidden": true
   },
   "outputs": [],
   "source": [
    "this = exp.get('expMissions').expMissions[0]"
   ]
  },
  {
   "cell_type": "code",
   "execution_count": null,
   "id": "d0544637",
   "metadata": {
    "ExecuteTime": {
     "end_time": "2023-01-20T00:14:37.961613Z",
     "start_time": "2023-01-20T00:14:22.779499Z"
    },
    "code_folding": [
     124,
     159,
     161
    ],
    "hidden": true,
    "scrolled": true
   },
   "outputs": [],
   "source": [
    "\"\"\"Function to check 2D time-optimal feasibility of the mission with specific specs defined in Experiment.\"\"\"\n",
    "\n",
    "# ensure we have all necessary data to run\n",
    "this = this.get(\"missionConfig, experiment.timeout_in_sec,\" +\n",
    "                \"experiment.arenaConfig, experiment.objectiveConfig,\"+\n",
    "                \"experiment.feasibilityCheckSettings.deg_around_xt_xT_box,\"+\n",
    "                \"experiment.feasibilityCheckSettings.grid_res\")\n",
    "\n",
    "# Step 1 update the entry while running feasibility\n",
    "updated_miss = c3.Mission(**{'id': this.id, 'status': 'running_feasibility'})\n",
    "updated_miss.merge()\n",
    "\n",
    "# Step 2: check if it is a navigation problem otherwise return Error\n",
    "if not this.experiment.objectiveConfig['type'] == \"nav\":\n",
    "    e = \"Type Error: objectiveConfig['type'] needs to be 'nav' otherwise feasibility not defined.\"\n",
    "    updated_miss.oceanSimResult = c3.OceanSimResult(**{'error_message': e})\n",
    "    updated_miss.merge()\n",
    "    print(\"in the wrong place\")\n",
    "#     return updated_miss\n",
    "\n",
    "# Set up file paths and download folders\n",
    "temp_folder = '/tmp/' + this.id + '/'\n",
    "# create the folder if it doesn't exist yet\n",
    "if not os.path.isdir(temp_folder):\n",
    "    os.mkdir(temp_folder)\n",
    "log_file_name = this.id + \".log\"\n",
    "logging.basicConfig(filename=temp_folder + log_file_name, level=logging.DEBUG)\n",
    "traj_file_name = this.id + '.obj'\n",
    "extDir = \"ocean_sim_run_results/\" + this.experiment.id + '/MissionFeasibility/' + this.id\n",
    "\n",
    "# set download directories (ignore set ones in arenaConfig)\n",
    "arenaConfig = this.experiment.arenaConfig\n",
    "arenaConfig['timeout'] = this.experiment.timeout_in_sec\n",
    "\n",
    "# for hindcast\n",
    "arenaConfig['ocean_dict']['hindcast']['source_settings']['folder'] = '/tmp/hindcast_files/' + this.id + '/'\n",
    "# set forecast to none\n",
    "arenaConfig['ocean_dict']['forecast'] = None\n",
    "\n",
    "# prepping the file download\n",
    "point_to_check = SpatioTemporalPoint.from_dict(this.missionConfig['x_0'][0])\n",
    "t_interval = [point_to_check.date_time,\n",
    "              point_to_check.date_time + datetime.timedelta(\n",
    "                  seconds=this.experiment.timeout_in_sec + arenaConfig['casadi_cache_dict'][\n",
    "                      'time_around_x_t'])]\n",
    "feasible = None\n",
    "\n",
    "arena = None\n",
    "\n",
    "# Step 1: Download all relevant files (only Hindcast files needed)\n",
    "with ArenaFactory.download_files(\n",
    "        config=arenaConfig, type=\"hindcast\",\n",
    "        t_interval=t_interval, c3=c3,\n",
    "        points=[point_to_check.to_spatial_point()]) as download_hindcast_files_to_local:\n",
    "\n",
    "    try:\n",
    "        # Step 0: Create Constructor object which contains arena, problem, controller and observer\n",
    "        constructor = Constructor(\n",
    "            arena_conf=arenaConfig,\n",
    "            mission_conf=this.missionConfig,\n",
    "            objective_conf=this.experiment.objectiveConfig,\n",
    "            ctrl_conf=set_up_time_optimal_controller_config(this),\n",
    "            observer_conf={'observer': None},\n",
    "        )\n",
    "\n",
    "        # Step 1.1 Retrieve problem\n",
    "        problem = constructor.problem\n",
    "\n",
    "        # Step 1.2: Retrieve arena\n",
    "        arena = constructor.arena\n",
    "        observation = arena.reset(platform_state=problem.start_state)\n",
    "        problem_status = arena.problem_status(problem=problem)\n",
    "\n",
    "        # Step 2: Retrieve Controller\n",
    "        controller = constructor.controller\n",
    "\n",
    "        action = controller.get_action(observation=observation)\n",
    "\n",
    "        # Step 4: Run Arena\n",
    "        while problem_status == 0:\n",
    "            # Get action\n",
    "            action = controller.get_action(observation=observation)\n",
    "            # execute action\n",
    "            observation = arena.step(action)\n",
    "            # update problem status\n",
    "            problem_status = arena.problem_status(problem=problem)\n",
    "\n",
    "        feasible = arena.problem_status_text(problem_status) == 'Success'\n",
    "        if feasible:\n",
    "            updated_miss.status = 'ready_to_run'\n",
    "            updated_miss.T_earliest_in_hours = (arena.state_trajectory[-1, 2] - arena.state_trajectory[0, 2])/3600\n",
    "        else:\n",
    "            updated_miss.status = 'not_feasible'\n",
    "\n",
    "        updated_miss.fundamentalFeasibility = feasible\n",
    "\n",
    "        # Step 5: create the OceanSimResult object with the files and upload it\n",
    "        # Step 5.1: create the files to store the trajectories locally\n",
    "\n",
    "        # Create a large dict with all trajectory data\n",
    "        trajs_dict = {\"sim_traj\": arena.state_trajectory,\n",
    "                      \"sim_ctrl\": arena.action_trajectory}\n",
    "\n",
    "        with open(traj_file_name, 'wb') as traj_file:\n",
    "            pickle.dump(trajs_dict, traj_file)\n",
    "\n",
    "        # upload log file\n",
    "        updated_miss.oceanSimResult = c3.OceanSimResult()\n",
    "        if os.path.exists(log_file_name):\n",
    "            c3.Client.uploadLocalClientFiles(log_file_name,\n",
    "                                             extDir + '/logs', {\"peekForMetadata\": True})\n",
    "            log_file = c3.File(**{'url': extDir + '/logs/' + log_file_name}).readMetadata()\n",
    "            updated_miss.oceanSimResult.log_file = log_file\n",
    "            os.remove( log_file_name)\n",
    "\n",
    "        if os.path.exists(traj_file_name):\n",
    "            # upload traj file\n",
    "            c3.Client.uploadLocalClientFiles(traj_file_name,\n",
    "                                             extDir + '/trajs', {\"peekForMetadata\": True})\n",
    "            trajs_file = c3.File(**{'url': extDir + '/trajs/' + traj_file_name}).readMetadata()\n",
    "            updated_miss.oceanSimResult.trajectories = trajs_file\n",
    "            os.remove(traj_file_name)\n",
    "        logged_error_message = None\n",
    "\n",
    "    except BaseException as e:\n",
    "        # if we crash we should upload that to the table for debugging\n",
    "        print(\"Error Message: \", e)\n",
    "        updated_miss.status = 'feasibility_failed'\n",
    "        logged_error_message = e\n",
    "\n",
    "        # for debug purposes save the hindcast & forecast dicts\n",
    "        # Step 5: create the OceanSimResult object with the files and upload it\n",
    "        # Step 5.1: create the files to store the trajectories locally\n",
    "\n",
    "        # Create a large dict with all trajectory data\n",
    "        if arena is not None:\n",
    "            trajs_dict = {\"sim_traj\": arena.state_trajectory,\n",
    "                          \"sim_ctrl\": arena.action_trajectory}\n",
    "\n",
    "            with open(traj_file_name, 'wb') as traj_file:\n",
    "                pickle.dump(trajs_dict, traj_file)\n",
    "\n",
    "            # upload log file\n",
    "            updated_miss.oceanSimResult = c3.OceanSimResult()\n",
    "            if os.path.exists(temp_folder + log_file_name):\n",
    "                c3.Client.uploadLocalClientFiles(temp_folder + log_file_name,\n",
    "                                                 extDir + '/logs', {\"peekForMetadata\": True})\n",
    "                log_file = c3.File(**{'url': extDir + '/logs/' + log_file_name}).readMetadata()\n",
    "                updated_miss.oceanSimResult.log_file = log_file\n",
    "                os.remove(temp_folder + log_file_name)\n",
    "\n",
    "            if os.path.exists(temp_folder + traj_file_name):\n",
    "                # upload traj file\n",
    "                c3.Client.uploadLocalClientFiles(temp_folder + traj_file_name,\n",
    "                                                 extDir + '/trajs', {\"peekForMetadata\": True})\n",
    "                trajs_file = c3.File(**{'url': extDir + '/trajs/' + traj_file_name}).readMetadata()\n",
    "                updated_miss.oceanSimResult.trajectories = trajs_file\n",
    "                os.remove(temp_folder + traj_file_name)\n",
    "\n",
    "if updated_miss.oceanSimResult is None:\n",
    "    updated_miss.oceanSimResult = c3.OceanSimResult(**{'error_message': logged_error_message})\n",
    "else:\n",
    "    updated_miss.oceanSimResult.error_message = logged_error_message\n",
    "\n",
    "# upload results to the DB\n",
    "# updated_miss.merge()\n",
    "\n",
    "# if feasible is None:\n",
    "#     return False\n",
    "# else:\n",
    "#     return feasible"
   ]
  },
  {
   "cell_type": "code",
   "execution_count": null,
   "id": "4288fb55",
   "metadata": {
    "ExecuteTime": {
     "end_time": "2023-01-19T19:43:30.556571Z",
     "start_time": "2023-01-19T19:43:30.030106Z"
    },
    "hidden": true
   },
   "outputs": [],
   "source": [
    "# %% Various plotting of the reachability computations\n",
    "controller.plot_reachability_snapshot(\n",
    "    rel_time_in_seconds=0,\n",
    "    granularity_in_h=5,\n",
    "    alpha_color=1,\n",
    "    time_to_reach=True,\n",
    "    fig_size_inches=(12, 12),\n",
    "    plot_in_h=True,\n",
    ")"
   ]
  },
  {
   "cell_type": "code",
   "execution_count": null,
   "id": "73273219",
   "metadata": {
    "ExecuteTime": {
     "end_time": "2023-01-19T19:43:38.034980Z",
     "start_time": "2023-01-19T19:43:37.453362Z"
    },
    "hidden": true
   },
   "outputs": [],
   "source": [
    "t_interval, lat_bnds, lon_bnds = arena.ocean_field.hindcast_data_source.convert_to_x_y_time_bounds(\n",
    "    x_0=problem.start_state.to_spatio_temporal_point(), x_T=problem.end_region, deg_around_x0_xT_box=1, temp_horizon_in_s=3600\n",
    ")\n",
    "\n",
    "ax = arena.ocean_field.hindcast_data_source.plot_data_at_time_over_area(\n",
    "    time=problem.start_state.date_time, x_interval=lon_bnds, y_interval=lat_bnds, return_ax=True\n",
    ")\n",
    "problem.plot(ax=ax)\n",
    "plt.show()"
   ]
  },
  {
   "cell_type": "code",
   "execution_count": null,
   "id": "2bc4bf41",
   "metadata": {
    "ExecuteTime": {
     "end_time": "2023-01-19T19:43:46.833280Z",
     "start_time": "2023-01-19T19:43:46.156627Z"
    },
    "hidden": true
   },
   "outputs": [],
   "source": [
    "arena.plot_all_on_map(problem=problem)"
   ]
  },
  {
   "cell_type": "code",
   "execution_count": null,
   "id": "89aecf49",
   "metadata": {
    "ExecuteTime": {
     "end_time": "2023-01-19T19:32:27.266150Z",
     "start_time": "2023-01-19T19:32:27.262785Z"
    },
    "hidden": true
   },
   "outputs": [],
   "source": [
    "arena.problem_status_text(problem_status)"
   ]
  },
  {
   "cell_type": "code",
   "execution_count": null,
   "id": "9d96689d",
   "metadata": {
    "ExecuteTime": {
     "end_time": "2023-01-19T19:31:57.445817Z",
     "start_time": "2023-01-19T19:31:57.444021Z"
    },
    "hidden": true
   },
   "outputs": [],
   "source": [
    "# done"
   ]
  },
  {
   "cell_type": "markdown",
   "id": "19985cb6",
   "metadata": {
    "heading_collapsed": true
   },
   "source": [
    "# FC Error Calculation Batch Job"
   ]
  },
  {
   "cell_type": "code",
   "execution_count": null,
   "id": "8e064e59",
   "metadata": {
    "ExecuteTime": {
     "end_time": "2023-01-20T00:14:53.730865Z",
     "start_time": "2023-01-20T00:14:53.728883Z"
    },
    "hidden": true
   },
   "outputs": [],
   "source": [
    "# Note: this runs FC Error Calculation only for the ready_to_run Missions not for all of them!"
   ]
  },
  {
   "cell_type": "code",
   "execution_count": null,
   "id": "388d5b52",
   "metadata": {
    "ExecuteTime": {
     "end_time": "2023-01-28T06:13:14.263843Z",
     "start_time": "2023-01-28T06:13:14.261177Z"
    },
    "hidden": true
   },
   "outputs": [],
   "source": [
    "# Create the Experiment Batch Job Options\n",
    "filterOnMissions = 'status ==' + '\"' + 'ready_to_run' + '\"'\n",
    "options = c3.ForecastErrorBatchJobOptions(**{\n",
    "    'experiment': exp,\n",
    "    'filterOnMissions': filterOnMissions,\n",
    "    'limit': -1\n",
    "})"
   ]
  },
  {
   "cell_type": "code",
   "execution_count": null,
   "id": "4faace68",
   "metadata": {
    "ExecuteTime": {
     "end_time": "2023-01-28T06:13:17.722536Z",
     "start_time": "2023-01-28T06:13:17.468136Z"
    },
    "hidden": true
   },
   "outputs": [],
   "source": [
    "# Start the Batch Job\n",
    "err_job = c3.ForecastErrorBatchJob(**{'options': options.toJson()}).upsert()\n",
    "err_job.start()\n",
    "err_job"
   ]
  },
  {
   "cell_type": "code",
   "execution_count": null,
   "id": "9014688f",
   "metadata": {
    "ExecuteTime": {
     "end_time": "2023-01-28T06:17:27.868551Z",
     "start_time": "2023-01-28T06:17:27.823169Z"
    },
    "hidden": true,
    "scrolled": true
   },
   "outputs": [],
   "source": [
    "# Monitor the Batch Job (small propulsion)\n",
    "#err_job = c3.ForecastErrorBatchJob.get('a5269982-38e5-4626-8bd1-3f4848ff49b6')\n",
    "err_job.status()"
   ]
  },
  {
   "cell_type": "code",
   "execution_count": null,
   "id": "b2e84389",
   "metadata": {
    "ExecuteTime": {
     "end_time": "2023-01-28T06:18:32.519465Z",
     "start_time": "2023-01-28T06:18:32.485031Z"
    },
    "hidden": true
   },
   "outputs": [],
   "source": [
    "exp.get('expMissions').expMissions[1].get('fmrcError, status')"
   ]
  },
  {
   "cell_type": "code",
   "execution_count": null,
   "id": "2d02f029",
   "metadata": {
    "ExecuteTime": {
     "end_time": "2022-11-20T21:50:57.341869Z",
     "start_time": "2022-11-20T21:50:57.339785Z"
    },
    "hidden": true
   },
   "outputs": [],
   "source": [
    "# err_job.cancel()"
   ]
  },
  {
   "cell_type": "markdown",
   "id": "01d21fbe",
   "metadata": {
    "heading_collapsed": true,
    "hidden": true
   },
   "source": [
    "## Run FC Error Calc Manually"
   ]
  },
  {
   "cell_type": "markdown",
   "id": "92d6b9c1",
   "metadata": {},
   "source": [
    "# Create Ocean Sim Runs"
   ]
  },
  {
   "cell_type": "code",
   "execution_count": 344,
   "id": "a1c7a743",
   "metadata": {
    "ExecuteTime": {
     "end_time": "2023-01-30T09:17:59.003299Z",
     "start_time": "2023-01-30T09:17:58.896261Z"
    }
   },
   "outputs": [
    {
     "data": {
      "text/plain": [
       "True"
      ]
     },
     "execution_count": 344,
     "metadata": {},
     "output_type": "execute_result"
    }
   ],
   "source": [
    "# Create the Run objects\n",
    "exp.createOceanSimRuns(ctrl_name='SeaweedHJController', obs_name='NoObserver')"
   ]
  },
  {
   "cell_type": "markdown",
   "id": "112a41b4",
   "metadata": {
    "heading_collapsed": true
   },
   "source": [
    "## Debug locally"
   ]
  },
  {
   "attachments": {},
   "cell_type": "markdown",
   "id": "e1032d17",
   "metadata": {},
   "source": [
    "In case you want to debug the OceanSimRun c3 stuff locally. Just copy the according code from ```OceanSimRun.py```"
   ]
  },
  {
   "cell_type": "code",
   "execution_count": 200,
   "id": "a05ced58",
   "metadata": {
    "ExecuteTime": {
     "end_time": "2023-01-29T05:33:59.436576Z",
     "start_time": "2023-01-29T05:33:59.374509Z"
    },
    "hidden": true
   },
   "outputs": [],
   "source": [
    "runs = c3.OceanSimRun.fetch(spec={'include': \"[this]\",'filter': 'meta.createdBy==\"killer@berkeley.edu\"'}).objs"
   ]
  },
  {
   "cell_type": "code",
   "execution_count": null,
   "id": "ede4f26c",
   "metadata": {
    "ExecuteTime": {
     "end_time": "2023-01-29T05:34:00.265909Z",
     "start_time": "2023-01-29T05:34:00.263495Z"
    },
    "hidden": true
   },
   "outputs": [],
   "source": [
    "for run in runs:\n",
    "    print(run.status)"
   ]
  },
  {
   "cell_type": "code",
   "execution_count": null,
   "id": "acf94538",
   "metadata": {
    "ExecuteTime": {
     "end_time": "2023-01-29T05:34:05.373523Z",
     "start_time": "2023-01-29T05:34:05.369632Z"
    },
    "hidden": true,
    "scrolled": true
   },
   "outputs": [],
   "source": [
    "runs[-1]\n",
    "#runs[-1].status = \"staged_to_run\"\n",
    "#runs[-1].merge()"
   ]
  },
  {
   "cell_type": "code",
   "execution_count": null,
   "id": "d495456a",
   "metadata": {
    "ExecuteTime": {
     "end_time": "2023-01-29T05:43:30.479396Z",
     "start_time": "2023-01-29T05:43:30.380357Z"
    },
    "hidden": true
   },
   "outputs": [],
   "source": [
    "\"\"\"Main function that takes in a spec and runs the simulator.\"\"\"\n",
    "\n",
    "# ensure we have all necessary data to run\n",
    "this = runs[-2].get(\n",
    "    \"mission.missionConfig, mission.experiment.timeout_in_sec,\"\n",
    "    + \"mission.experiment.arenaConfig, mission.experiment.objectiveConfig,\"\n",
    "    + \"controllerSetting.ctrlConfig, observerSetting.observerConfig\"\n",
    ")\n",
    "this"
   ]
  },
  {
   "cell_type": "code",
   "execution_count": 222,
   "id": "9583f3a4",
   "metadata": {
    "ExecuteTime": {
     "end_time": "2023-01-29T05:43:33.941542Z",
     "start_time": "2023-01-29T05:43:33.912564Z"
    },
    "hidden": true
   },
   "outputs": [
    {
     "data": {
      "text/plain": [
       "c3.OceanSimRun(\n",
       " id='debug_matthias_batch_seed_110_1_SeaweedHJController_NoObserver',\n",
       " version=2)"
      ]
     },
     "execution_count": 222,
     "metadata": {},
     "output_type": "execute_result"
    }
   ],
   "source": [
    "# # Step 0: check if mission is ready_to_run before running\n",
    "# if this.mission.get(\"status\").status != 'ready_to_run':\n",
    "#     oceanSimResult = c3.OceanSimResult(**{\n",
    "#         'error_message': 'Mission status is not ready_to_run, run feasibility check first or manually set status.',\n",
    "#     })\n",
    "#     new_osr = c3.OceanSimRun(**{'id': this.id, 'status': 'run_failed', 'oceanSimResult': oceanSimResult})\n",
    "#     new_osr.merge()\n",
    "#     return new_osr\n",
    "\n",
    "\n",
    "# update the entry while it's running\n",
    "new_osr = c3.OceanSimRun(**{\"id\": this.id, \"status\": \"running_sim\"})\n",
    "new_osr.merge()"
   ]
  },
  {
   "cell_type": "code",
   "execution_count": 223,
   "id": "2ce2c200",
   "metadata": {
    "ExecuteTime": {
     "end_time": "2023-01-29T05:43:35.435260Z",
     "start_time": "2023-01-29T05:43:35.431967Z"
    },
    "hidden": true
   },
   "outputs": [],
   "source": [
    "# create strings for all files and external directories where to save results\n",
    "# Set up file paths and download folders\n",
    "temp_folder = \"/tmp/\" + this.id + \"/\"\n",
    "# create the folder if it doesn't exist yet\n",
    "if not os.path.isdir(temp_folder):\n",
    "    os.mkdir(temp_folder)\n",
    "log_file_name = this.id + \".log\"\n",
    "logging.basicConfig(filename=temp_folder + log_file_name, level=logging.DEBUG)\n",
    "traj_file_name = this.id + \".obj\"\n",
    "extDir = (\n",
    "    \"ocean_sim_run_results/\"\n",
    "    + this.mission.experiment.id\n",
    "    + \"/OceanSimRuns/\"\n",
    "    + this.id\n",
    ")"
   ]
  },
  {
   "cell_type": "code",
   "execution_count": 224,
   "id": "5f1b4213",
   "metadata": {
    "ExecuteTime": {
     "end_time": "2023-01-29T05:43:38.300115Z",
     "start_time": "2023-01-29T05:43:38.294596Z"
    },
    "hidden": true
   },
   "outputs": [],
   "source": [
    "# set download directories (ignore set ones in arenaConfig)\n",
    "arenaConfig = this.mission.experiment.arenaConfig\n",
    "\n",
    "# Get and set the correct path to the nutrient and monthly average files (for c3) - !! CONFIG gets overwritten!!\n",
    "filepath = ocean_navigation_simulator.__file__\n",
    "module_path = os.path.dirname(filepath)\n",
    "nutrient_path = module_path + \"/package_data/nutrients/\"\n",
    "averages_path = module_path + \"/package_data/monthly_averages/\"\n",
    "\n",
    "arenaConfig[\"ocean_dict\"][\"forecast\"][\"source_settings\"][\"average\"][\n",
    "    \"source_settings\"\n",
    "][\"folder\"] = averages_path\n",
    "\n",
    "arenaConfig[\"seaweed_dict\"][\"hindcast\"][\"source_settings\"][\n",
    "    \"filepath\"\n",
    "] = nutrient_path\n",
    "\n",
    "arenaConfig[\"timeout\"] = this.mission.experiment.timeout_in_sec\n",
    "to_download_forecast_files = False"
   ]
  },
  {
   "cell_type": "code",
   "execution_count": 253,
   "id": "43e5d835",
   "metadata": {
    "ExecuteTime": {
     "end_time": "2023-01-29T06:40:02.517906Z",
     "start_time": "2023-01-29T06:40:02.513293Z"
    },
    "hidden": true
   },
   "outputs": [],
   "source": [
    "# for hindcast\n",
    "arenaConfig[\"ocean_dict\"][\"hindcast\"][\"source_settings\"][\"folder\"] = (\n",
    "    \"/tmp/\" + this.id + \"/\"\n",
    ")\n",
    "# for forecast\n",
    "# TODO: fix for long term source!\n",
    "if arenaConfig[\"ocean_dict\"][\"forecast\"] is not None:\n",
    "    if arenaConfig[\"ocean_dict\"][\"forecast\"][\"source\"] == \"longterm_average\":\n",
    "        arenaConfig[\"ocean_dict\"][\"forecast\"][\"source_settings\"][\"forecast\"][\n",
    "            \"source_settings\"\n",
    "        ][\"folder\"] = (\"/tmp/\" + this.id + \"/forecast_files/\")\n",
    "        to_download_forecast_files = (\n",
    "            arenaConfig[\"ocean_dict\"][\"forecast\"][\"source_settings\"][\"forecast\"][\n",
    "                \"source\"\n",
    "            ]\n",
    "            == \"forecast_files\"\n",
    "        )\n",
    "    else:\n",
    "        arenaConfig[\"ocean_dict\"][\"forecast\"][\"source_settings\"][\"folder\"] = (\n",
    "            \"/tmp/\" + this.id + \"/forecast_files/\"\n",
    "        )\n",
    "        to_download_forecast_files = (\n",
    "            arenaConfig[\"ocean_dict\"][\"forecast\"][\"source\"] == \"forecast_files\"\n",
    "        )\n",
    "# prepping the file download\n",
    "point_to_check = SpatioTemporalPoint.from_dict(this.mission.missionConfig[\"x_0\"][0])\n",
    "t_interval = [\n",
    "    point_to_check.date_time,\n",
    "    point_to_check.date_time\n",
    "    + datetime.timedelta(\n",
    "        seconds=this.mission.experiment.timeout_in_sec\n",
    "        + arenaConfig[\"casadi_cache_dict\"][\"time_around_x_t\"]\n",
    "        + 7200\n",
    "    ),\n",
    "]"
   ]
  },
  {
   "cell_type": "code",
   "execution_count": 256,
   "id": "3853743a",
   "metadata": {
    "ExecuteTime": {
     "end_time": "2023-01-29T06:40:44.208174Z",
     "start_time": "2023-01-29T06:40:44.205420Z"
    },
    "hidden": true
   },
   "outputs": [],
   "source": [
    "path = arenaConfig[\"ocean_dict\"][\"forecast\"][\"source_settings\"][\"folder\"] = (\n",
    "            \"/tmp/\" + this.id + \"/\"\n",
    "        )"
   ]
  },
  {
   "cell_type": "code",
   "execution_count": 257,
   "id": "749b9bab",
   "metadata": {
    "ExecuteTime": {
     "end_time": "2023-01-29T06:40:48.191343Z",
     "start_time": "2023-01-29T06:40:48.187896Z"
    },
    "hidden": true
   },
   "outputs": [
    {
     "data": {
      "text/plain": [
       "'/tmp/debug_matthias_batch_seed_110_1_SeaweedHJController_NoObserver/'"
      ]
     },
     "execution_count": 257,
     "metadata": {},
     "output_type": "execute_result"
    }
   ],
   "source": [
    "path"
   ]
  },
  {
   "cell_type": "code",
   "execution_count": 258,
   "id": "6a7a271c",
   "metadata": {
    "ExecuteTime": {
     "end_time": "2023-01-29T06:41:01.618176Z",
     "start_time": "2023-01-29T06:41:01.365822Z"
    },
    "hidden": true
   },
   "outputs": [
    {
     "name": "stdout",
     "output_type": "stream",
     "text": [
      "ls: cannot access '/tmp/debug_matthias_batch_seed_110_1_SeaweedHJController_NoObserver/': No such file or directory\r\n"
     ]
    }
   ],
   "source": [
    "ls /tmp/debug_matthias_batch_seed_110_1_SeaweedHJController_NoObserver/"
   ]
  },
  {
   "cell_type": "code",
   "execution_count": 240,
   "id": "6cb8b563",
   "metadata": {
    "ExecuteTime": {
     "end_time": "2023-01-29T05:49:31.800939Z",
     "start_time": "2023-01-29T05:49:31.786315Z"
    },
    "hidden": true
   },
   "outputs": [],
   "source": [
    "import datetime\n",
    "from importlib import import_module\n",
    "from typing import Type, Union\n",
    "\n",
    "from ocean_navigation_simulator.controllers.Controller import Controller\n",
    "from ocean_navigation_simulator.environment.ArenaFactory import ArenaFactory\n",
    "from ocean_navigation_simulator.environment.NavigationProblem import (\n",
    "    NavigationProblem,\n",
    ")\n",
    "from ocean_navigation_simulator.environment.SeaweedProblem import SeaweedProblem\n",
    "\n",
    "from ocean_navigation_simulator.environment.PlatformState import (\n",
    "    PlatformState,\n",
    "    SpatioTemporalPoint,\n",
    ")\n",
    "from ocean_navigation_simulator.environment.Problem import Problem\n",
    "from ocean_navigation_simulator.ocean_observer.NoObserver import NoObserver\n",
    "from ocean_navigation_simulator.ocean_observer.Observer import Observer\n",
    "\n",
    "\n",
    "class Constructor:\n",
    "    \"\"\"Class that constructs arena, problem, observer and controller objects from configuration files of\n",
    "    experiment objective, mission, arena, controller and observer\"\"\"\n",
    "\n",
    "    def __init__(\n",
    "        self,\n",
    "        arena_conf: dict,\n",
    "        mission_conf: dict,\n",
    "        objective_conf: dict,\n",
    "        ctrl_conf: dict,\n",
    "        observer_conf: dict,\n",
    "        c3=None,\n",
    "        download_files=False,\n",
    "        timeout_in_sec=0,\n",
    "        create_arena=True,\n",
    "    ):\n",
    "        \"\"\"Creates the arena, problem, observer and controller objects\n",
    "\n",
    "        Args:\n",
    "            arena_conf: dictionary which specifies the arena configuration\n",
    "            mission_conf: dictionary which contains the mission configuration\n",
    "            objective: dict which specifies which objective the experiment has under 'type' i.e 'type': \"nav\" for navigation\n",
    "            ctrl_conf: dictionary which specifies the controller configuration\n",
    "            observer_conf: dictionary which specifies the observer configuration\n",
    "            c3: if running on C3, the c3 object is passed in directly, locally pass in nothing\n",
    "            download_files: if the current files should be downloaded\n",
    "            timeout_in_sec: this is used to determine what current files to download such that there is enough data\n",
    "                            until the problem times out.\n",
    "        \"\"\"\n",
    "        # Init\n",
    "        self.mission_conf = mission_conf\n",
    "        self.objective_conf = objective_conf\n",
    "        self.ctrl_conf = ctrl_conf\n",
    "        self.observer_conf = observer_conf\n",
    "\n",
    "        # Create arena from config\n",
    "        if create_arena:\n",
    "            # Add mission seed to arena for potential forecast generation (i.e. Jonas work)\n",
    "            if \"seed\" in self.mission_conf:\n",
    "                arena_conf[\"seed\"] = self.mission_conf[\"seed\"]\n",
    "\n",
    "            # get t_interval for downloading files\n",
    "            point_to_check = SpatioTemporalPoint.from_dict(mission_conf[\"x_0\"][0])\n",
    "            t_interval = [\n",
    "                point_to_check.date_time,\n",
    "                point_to_check.date_time\n",
    "                + datetime.timedelta(\n",
    "                    seconds=timeout_in_sec\n",
    "                    + arena_conf[\"casadi_cache_dict\"][\"time_around_x_t\"]\n",
    "                    + 7200\n",
    "                ),\n",
    "            ]\n",
    "            self.arena = ArenaFactory.create(\n",
    "                scenario_config=arena_conf, t_interval=t_interval if download_files else None, c3=c3\n",
    "            )\n",
    "        # Add platform_dict from arena to controll config\n",
    "        self.platform_dict = arena_conf[\"platform_dict\"]\n",
    "\n",
    "        # Create problem from config\n",
    "        self.problem = self.__problem_constructor()\n",
    "\n",
    "        # Create controller from config\n",
    "        self.controller = self.__controller_constructor()\n",
    "\n",
    "        # Create observer from config\n",
    "        self.observer = self.__observer_constructor()\n",
    "\n",
    "        self.__problem_constructor()\n",
    "\n",
    "    def __problem_constructor(self) -> Type[Problem]:\n",
    "        \"\"\"Constructs and returns problem depending on objective and mission\n",
    "\n",
    "        Args:\n",
    "            self\n",
    "        Returns:\n",
    "            A Problem object depending on experiment objective and mission\n",
    "        \"\"\"\n",
    "\n",
    "        # TODO: Test!\n",
    "        # Create PlatformState objects from mission config\n",
    "        X_0 = []\n",
    "\n",
    "        # handle user error when fed in not as list\n",
    "        if type(self.mission_conf[\"x_0\"]) == dict:\n",
    "            raise TypeError(\n",
    "                \"mission_conf[x_0] needs to be a list of state dicts!, not a dict itself.\"\n",
    "            )\n",
    "\n",
    "        for x in self.mission_conf[\"x_0\"]:\n",
    "            X_0.append(PlatformState.from_dict(x))\n",
    "\n",
    "        # TODO: Test!\n",
    "        # Create SpatialPoint objects from mission config and save it back to mission_conf\n",
    "        # x_T = SpatialPoint.from_dict(self.mission_conf[\"x_T\"])\n",
    "        x_T = None\n",
    "\n",
    "        if self.objective_conf[\"type\"] == \"nav\":\n",
    "            return NavigationProblem(\n",
    "                start_state=X_0[0],\n",
    "                end_region=x_T,\n",
    "                target_radius=self.mission_conf[\"target_radius\"],\n",
    "                platform_dict=self.platform_dict,\n",
    "            )\n",
    "        elif self.objective_conf[\"type\"] == \"max_seaweed\":\n",
    "            return SeaweedProblem(start_state=X_0[0], platform_dict=self.platform_dict)\n",
    "        # elif(self.objective==\"safety\"):\n",
    "        #     # TODO: code SafetyProblem class\n",
    "        #     return SafetyProblem(\n",
    "        #             start_state=X_0[0],\n",
    "        #             end_region=x_T,\n",
    "        #             target_radius=self.mission_conf[\"target_radius\"],\n",
    "        #             safety_criteria = self.mission_conf[\"safety_criteria\"])\n",
    "        # elif(self.objective==\"multi-agent-nav\"):\n",
    "        #     # TODO: code multiAgentNavProblem problem class\n",
    "        #     return multiAgentNavProblem(\n",
    "        #             start_state=X_0[0],\n",
    "        #             end_region=x_T,\n",
    "        #             arget_radius=self.mission_conf[\"target_radius\"],\n",
    "        #             timeout=self.mission_conf[\"timeout\"],)\n",
    "\n",
    "    def __controller_constructor(self) -> Type[Controller]:\n",
    "        \"\"\"Constructs and returns the controller object depending controller configuration\n",
    "\n",
    "        Args:\n",
    "            self\n",
    "        Returns:\n",
    "            A Controller object depending controller configuration\n",
    "        \"\"\"\n",
    "\n",
    "        # Get controller class from config\n",
    "        ControllerClass = self.__import_class_from_string()\n",
    "\n",
    "        # Return controller object\n",
    "        return ControllerClass(\n",
    "            problem=self.problem, arena=self.arena, specific_settings=self.ctrl_conf\n",
    "        )\n",
    "\n",
    "    def __observer_constructor(self) -> Union[Observer, NoObserver]:\n",
    "        \"\"\"Constructs a observer object if the observer configuration specifies a observer. If not a empty observer object is created.\n",
    "\n",
    "        Args:\n",
    "            self\n",
    "        Returns:\n",
    "            Either a Observer object if specified in observer configuration otherwise NoObserver object\n",
    "        \"\"\"\n",
    "        if \"observer\" not in self.observer_conf or self.observer_conf[\"observer\"] is None:\n",
    "            return NoObserver()\n",
    "        else:\n",
    "            return Observer(self.observer_conf[\"observer\"])\n",
    "\n",
    "    def __import_class_from_string(self):\n",
    "        \"\"\"Import a dotted module path from ctrl_conf and return the attribute/class designated by the last name in the path. Raise ImportError if the import failed.\n",
    "\n",
    "        Args:\n",
    "            self\n",
    "        Returns:\n",
    "            Class specified in ctrl_conf\n",
    "        Raises:\n",
    "            ImportError: if module path is not valid.\n",
    "            ImportError: if class name is not valid.\n",
    "        \"\"\"\n",
    "\n",
    "        try:\n",
    "            module_path, class_name = self.ctrl_conf[\"ctrl_name\"].rsplit(\".\", 1)\n",
    "        except ValueError:\n",
    "            raise ImportError(\"%s doesn't look like a module path\" % self.ctrl_conf[\"ctrl_name\"])\n",
    "\n",
    "        module = import_module(module_path)\n",
    "\n",
    "        try:\n",
    "            return getattr(module, class_name)\n",
    "        except AttributeError as err:\n",
    "            raise ImportError(\n",
    "                'Module \"%s\" does not define a \"%s\" attribute/class' % (module_path, class_name)\n",
    "            ) from err\n",
    "\n"
   ]
  },
  {
   "cell_type": "code",
   "execution_count": 254,
   "id": "8ff2f01c",
   "metadata": {
    "ExecuteTime": {
     "end_time": "2023-01-29T06:40:17.024921Z",
     "start_time": "2023-01-29T06:40:07.712664Z"
    },
    "hidden": true
   },
   "outputs": [
    {
     "name": "stderr",
     "output_type": "stream",
     "text": [
      "100%|██████████| 22/22 [00:09<00:00,  2.38it/s]"
     ]
    },
    {
     "name": "stdout",
     "output_type": "stream",
     "text": [
      "True\n"
     ]
    },
    {
     "name": "stderr",
     "output_type": "stream",
     "text": [
      "\n"
     ]
    }
   ],
   "source": [
    "arena, controller = None, None\n",
    "\n",
    "import contextlib\n",
    "\n",
    "@contextlib.contextmanager\n",
    "def dummy_context_mgr():\n",
    "    yield None\n",
    "\n",
    "with (\n",
    "    ArenaFactory.download_files(\n",
    "        config=arenaConfig,\n",
    "        type=\"hindcast\",\n",
    "        t_interval=t_interval,\n",
    "        c3=c3,\n",
    "        points=[point_to_check.to_spatial_point()],\n",
    "    ) as download_hindcast_files_to_local,\n",
    "    ArenaFactory.download_files(\n",
    "        config=arenaConfig,\n",
    "        type=\"forecast\",\n",
    "        t_interval=t_interval,\n",
    "        c3=c3,\n",
    "        points=[point_to_check.to_spatial_point()],\n",
    "    )\n",
    "    if to_download_forecast_files\n",
    "    else dummy_context_mgr() as download_forecast_files_to_local,\n",
    "):\n",
    "    print(download_forecast_files_to_local)"
   ]
  },
  {
   "cell_type": "code",
   "execution_count": null,
   "id": "dc3126ff",
   "metadata": {
    "hidden": true
   },
   "outputs": [],
   "source": []
  },
  {
   "cell_type": "markdown",
   "id": "34637d4c",
   "metadata": {},
   "source": [
    "# Run Simulation"
   ]
  },
  {
   "cell_type": "code",
   "execution_count": 62,
   "id": "d0b2721b",
   "metadata": {
    "ExecuteTime": {
     "end_time": "2023-01-30T09:18:00.968396Z",
     "start_time": "2023-01-30T09:18:00.966026Z"
    }
   },
   "outputs": [],
   "source": [
    "# Create the Experiment Batch Job Options\n",
    "options = c3.OceanSimRunBatchJobOptions(**{\n",
    "    'experiment': exp,\n",
    "    'actionRuntime': 'matthias', # enum('marius', 'andreas', 'matthias', 'nicolas')\n",
    "    'limit': -1, \n",
    "    'hardwareProfileId': 'appc72m660-w', #\"appc8m642-w\" #\"appc72m660-w\"\n",
    "    'filterOnOceanSimRuns': 'status ==\"staged_to_run\"'\n",
    "})"
   ]
  },
  {
   "cell_type": "code",
   "execution_count": 63,
   "id": "36bd7b86",
   "metadata": {
    "ExecuteTime": {
     "end_time": "2023-01-30T09:18:01.377809Z",
     "start_time": "2023-01-30T09:18:01.185920Z"
    }
   },
   "outputs": [
    {
     "data": {
      "text/plain": [
       "c3.OceanSimRunBatchJob(\n",
       " numAutoRecoveryAttempts=1,\n",
       " typeIdent='BATCHJ:O_OSRun',\n",
       " id='dd6f6bf8-22c4-49d2-b62e-de2d0f508005',\n",
       " meta=c3.Meta(\n",
       "        created=datetime.datetime(2023, 2, 4, 5, 48, 33, tzinfo=datetime.timezone.utc),\n",
       "        updated=datetime.datetime(2023, 2, 4, 5, 48, 33, tzinfo=datetime.timezone.utc),\n",
       "        timestamp=datetime.datetime(2023, 2, 4, 5, 48, 33, tzinfo=datetime.timezone.utc)),\n",
       " version=1)"
      ]
     },
     "execution_count": 63,
     "metadata": {},
     "output_type": "execute_result"
    }
   ],
   "source": [
    "# Start the Batch Job\n",
    "run_job = c3.OceanSimRunBatchJob(**{'options': options.toJson()}).upsert()\n",
    "#run_job.setMaxConcurrencyPerNode(64)\n",
    "run_job.numAutoRecoveryAttempts = 1\n",
    "run_job.start()\n",
    "run_job"
   ]
  },
  {
   "cell_type": "code",
   "execution_count": null,
   "id": "9e9e68bf",
   "metadata": {
    "ExecuteTime": {
     "end_time": "2023-01-30T09:38:13.094247Z",
     "start_time": "2023-01-30T09:38:13.070561Z"
    }
   },
   "outputs": [],
   "source": [
    "run_job = c3.OceanSimRunBatchJob.get('dd6f6bf8-22c4-49d2-b62e-de2d0f508005')\n",
    "run_job.status()"
   ]
  },
  {
   "cell_type": "code",
   "execution_count": null,
   "id": "90553867",
   "metadata": {
    "ExecuteTime": {
     "end_time": "2023-01-30T09:38:11.190105Z",
     "start_time": "2023-01-30T09:38:11.024668Z"
    }
   },
   "outputs": [],
   "source": [
    "run_job.computingActions().actions"
   ]
  },
  {
   "cell_type": "code",
   "execution_count": 295,
   "id": "d3b1f15d",
   "metadata": {
    "ExecuteTime": {
     "end_time": "2023-01-30T09:36:47.423516Z",
     "start_time": "2023-01-30T09:36:47.421306Z"
    }
   },
   "outputs": [
    {
     "data": {
      "text/plain": [
       "c3.BatchJobStatus(\n",
       " started=datetime.datetime(2023, 2, 3, 20, 24, 55, tzinfo=datetime.timezone.utc),\n",
       " startedby='mariuswiggert@berkeley.edu',\n",
       " completed=datetime.datetime(2023, 2, 3, 20, 25, 59, tzinfo=datetime.timezone.utc),\n",
       " status='canceled')"
      ]
     },
     "execution_count": 295,
     "metadata": {},
     "output_type": "execute_result"
    }
   ],
   "source": [
    "#run_job.cancel()"
   ]
  },
  {
   "cell_type": "code",
   "execution_count": 90,
   "id": "bcfd7a88",
   "metadata": {},
   "outputs": [],
   "source": [
    "experiment_name = \"HC_umax_0.5_30\"#\"HC_umax_0.1_30_second_try\"\n",
    "exp = c3.Experiment.get(experiment_name)\n",
    "#exp.remove()\n",
    "#exp"
   ]
  },
  {
   "cell_type": "code",
   "execution_count": 91,
   "id": "4ec3b695",
   "metadata": {
    "ExecuteTime": {
     "end_time": "2023-01-30T09:36:48.007099Z",
     "start_time": "2023-01-30T09:36:47.992299Z"
    }
   },
   "outputs": [
    {
     "name": "stdout",
     "output_type": "stream",
     "text": [
      "Total of 1000 OceanSimRuns\n",
      "staged_to_run:  0\n",
      "running_sim:  4\n",
      "finished_running:  996\n",
      "run_failed:  0\n"
     ]
    }
   ],
   "source": [
    "experiment = 'mission.experiment.id==' + '\"' + exp.id + '\"'\n",
    "objs_list = c3.OceanSimRun.fetch(spec={'include': \"[this]\",'filter':  experiment}).objs\n",
    "print(\"Total of {} OceanSimRuns\".format(len(objs_list)))\n",
    "\n",
    "staged_to_run = 0\n",
    "running_sim = 0\n",
    "finished_running = 0\n",
    "run_failed = 0\n",
    "for run in objs_list:\n",
    "    if run.status == 'staged_to_run':\n",
    "        staged_to_run += 1\n",
    "    elif run.status == 'running_sim':\n",
    "        running_sim += 1\n",
    "    elif run.status == 'finished_running':\n",
    "        finished_running += 1\n",
    "    elif run.status == 'run_failed':\n",
    "        run_failed += 1\n",
    "\n",
    "print(\"staged_to_run: \", staged_to_run)\n",
    "print(\"running_sim: \", running_sim)\n",
    "print(\"finished_running: \", finished_running)\n",
    "print(\"run_failed: \", run_failed)"
   ]
  },
  {
   "cell_type": "code",
   "execution_count": 57,
   "id": "8dbe5e04",
   "metadata": {
    "ExecuteTime": {
     "end_time": "2023-01-30T08:49:39.748149Z",
     "start_time": "2023-01-30T08:49:39.734218Z"
    }
   },
   "outputs": [],
   "source": [
    "experiment = 'mission.experiment.id==' + '\"' + exp.id + '\"'\n",
    "stat= \"running_sim\"\n",
    "status = ' && status==' + '\"' + stat + '\"'\n",
    "run_list = c3.OceanSimRun.fetch(spec={'include': \"[status]\",'filter': experiment + status}).objs"
   ]
  },
  {
   "cell_type": "code",
   "execution_count": 58,
   "id": "5fb5124e",
   "metadata": {},
   "outputs": [
    {
     "data": {
      "text/plain": [
       "4"
      ]
     },
     "execution_count": 58,
     "metadata": {},
     "output_type": "execute_result"
    }
   ],
   "source": [
    "len(run_list)"
   ]
  },
  {
   "cell_type": "code",
   "execution_count": 60,
   "id": "c7df8340",
   "metadata": {},
   "outputs": [],
   "source": [
    "for run in run_list:\n",
    "    run.status=\"staged_to_run\"\n",
    "    run.merge()"
   ]
  },
  {
   "cell_type": "code",
   "execution_count": 45,
   "id": "f4cea029",
   "metadata": {
    "ExecuteTime": {
     "end_time": "2023-01-20T00:38:06.550004Z",
     "start_time": "2023-01-20T00:38:06.547816Z"
    }
   },
   "outputs": [],
   "source": [
    "#ro_remove_list[0].status = 'staged_to_run'"
   ]
  },
  {
   "cell_type": "code",
   "execution_count": null,
   "id": "469ebc15",
   "metadata": {
    "ExecuteTime": {
     "end_time": "2023-01-20T00:38:08.522385Z",
     "start_time": "2023-01-20T00:38:08.509177Z"
    }
   },
   "outputs": [],
   "source": [
    "#ro_remove_list[0].merge() # to upload changed object"
   ]
  },
  {
   "cell_type": "markdown",
   "id": "b5a21803",
   "metadata": {},
   "source": [
    "# Compute Results on all the finished runs"
   ]
  },
  {
   "cell_type": "markdown",
   "id": "cb3cd5ba",
   "metadata": {},
   "source": [
    "## Accessing variables on the OceanSimRun level (e.g. status, terminationReason)"
   ]
  },
  {
   "cell_type": "code",
   "execution_count": 365,
   "id": "6c718122",
   "metadata": {
    "ExecuteTime": {
     "end_time": "2023-01-30T09:36:55.052863Z",
     "start_time": "2023-01-30T09:36:55.048843Z"
    },
    "code_folding": []
   },
   "outputs": [],
   "source": [
    "import pandas as pd\n",
    "def get_results_df(this):\n",
    "    # get all runs from the database (NOTE this can only get 2000 at a time!)\n",
    "    exp_filter = 'mission.experiment.id==' + '\"' + this.get('experimentName').experimentName + '\"'\n",
    "    all_exp_runs = c3.OceanSimRun.fetch(spec={'include': \"[this]\",\n",
    "                                              'filter': exp_filter,\n",
    "                                              'order': \"ascending(mission.id)\",\n",
    "                                              'limit': -1\n",
    "                                             }).objs\n",
    "    # get a list of all termination reasons\n",
    "    termination_reason = []\n",
    "    status = []\n",
    "    arrival_time = []\n",
    "    minDistanceToTarget = []\n",
    "    ctrl_obs_name = []\n",
    "    mission_ids = []\n",
    "\n",
    "    for run in all_exp_runs:\n",
    "        # get mission_id\n",
    "        mission_ids.append(run.get('mission').mission.id)\n",
    "        # get ctrl_obs setting\n",
    "        ctrl_obs_name.append(run.get('controllerSetting.name').controllerSetting.name + '__' + run.get('observerSetting.name').observerSetting.name)\n",
    "        # add outcomes\n",
    "        termination_reason.append(run.terminationReason)\n",
    "        status.append(run.status)\n",
    "        arrival_time.append(run.T_arrival_time)\n",
    "        minDistanceToTarget.append(run.minDistanceToTarget)\n",
    "\n",
    "    # Make a df out of it\n",
    "    df = pd.DataFrame(list(zip(mission_ids, ctrl_obs_name, status, termination_reason, arrival_time)),\n",
    "                      columns=['mission_id', 'setting', 'status', 'termination_reason', 'arrival_time'])\n",
    "    \n",
    "    return df"
   ]
  },
  {
   "cell_type": "code",
   "execution_count": 366,
   "id": "9c0cbdc9",
   "metadata": {
    "ExecuteTime": {
     "end_time": "2023-01-30T09:36:55.342731Z",
     "start_time": "2023-01-30T09:36:55.276750Z"
    }
   },
   "outputs": [],
   "source": [
    "df = get_results_df(exp)"
   ]
  },
  {
   "cell_type": "code",
   "execution_count": 367,
   "id": "72d5ed15",
   "metadata": {
    "ExecuteTime": {
     "end_time": "2023-01-30T09:36:55.486472Z",
     "start_time": "2023-01-30T09:36:55.480303Z"
    }
   },
   "outputs": [
    {
     "data": {
      "text/html": [
       "<div>\n",
       "<style scoped>\n",
       "    .dataframe tbody tr th:only-of-type {\n",
       "        vertical-align: middle;\n",
       "    }\n",
       "\n",
       "    .dataframe tbody tr th {\n",
       "        vertical-align: top;\n",
       "    }\n",
       "\n",
       "    .dataframe thead th {\n",
       "        text-align: right;\n",
       "    }\n",
       "</style>\n",
       "<table border=\"1\" class=\"dataframe\">\n",
       "  <thead>\n",
       "    <tr style=\"text-align: right;\">\n",
       "      <th></th>\n",
       "      <th>mission_id</th>\n",
       "      <th>setting</th>\n",
       "      <th>status</th>\n",
       "      <th>termination_reason</th>\n",
       "      <th>arrival_time</th>\n",
       "    </tr>\n",
       "  </thead>\n",
       "  <tbody>\n",
       "    <tr>\n",
       "      <th>0</th>\n",
       "      <td>HC_umax_0.4_30_mission_nr_0</td>\n",
       "      <td>SeaweedHJController__NoObserver</td>\n",
       "      <td>finished_running</td>\n",
       "      <td>Stranded</td>\n",
       "      <td>None</td>\n",
       "    </tr>\n",
       "    <tr>\n",
       "      <th>1</th>\n",
       "      <td>HC_umax_0.4_30_mission_nr_1</td>\n",
       "      <td>SeaweedHJController__NoObserver</td>\n",
       "      <td>finished_running</td>\n",
       "      <td>Outside Arena</td>\n",
       "      <td>None</td>\n",
       "    </tr>\n",
       "    <tr>\n",
       "      <th>2</th>\n",
       "      <td>HC_umax_0.4_30_mission_nr_10</td>\n",
       "      <td>SeaweedHJController__NoObserver</td>\n",
       "      <td>finished_running</td>\n",
       "      <td>Timeout</td>\n",
       "      <td>None</td>\n",
       "    </tr>\n",
       "    <tr>\n",
       "      <th>3</th>\n",
       "      <td>HC_umax_0.4_30_mission_nr_100</td>\n",
       "      <td>SeaweedHJController__NoObserver</td>\n",
       "      <td>finished_running</td>\n",
       "      <td>Timeout</td>\n",
       "      <td>None</td>\n",
       "    </tr>\n",
       "    <tr>\n",
       "      <th>4</th>\n",
       "      <td>HC_umax_0.4_30_mission_nr_101</td>\n",
       "      <td>SeaweedHJController__NoObserver</td>\n",
       "      <td>finished_running</td>\n",
       "      <td>Timeout</td>\n",
       "      <td>None</td>\n",
       "    </tr>\n",
       "  </tbody>\n",
       "</table>\n",
       "</div>"
      ],
      "text/plain": [
       "                      mission_id                          setting  \\\n",
       "0    HC_umax_0.4_30_mission_nr_0  SeaweedHJController__NoObserver   \n",
       "1    HC_umax_0.4_30_mission_nr_1  SeaweedHJController__NoObserver   \n",
       "2   HC_umax_0.4_30_mission_nr_10  SeaweedHJController__NoObserver   \n",
       "3  HC_umax_0.4_30_mission_nr_100  SeaweedHJController__NoObserver   \n",
       "4  HC_umax_0.4_30_mission_nr_101  SeaweedHJController__NoObserver   \n",
       "\n",
       "             status termination_reason arrival_time  \n",
       "0  finished_running           Stranded         None  \n",
       "1  finished_running      Outside Arena         None  \n",
       "2  finished_running            Timeout         None  \n",
       "3  finished_running            Timeout         None  \n",
       "4  finished_running            Timeout         None  "
      ]
     },
     "execution_count": 367,
     "metadata": {},
     "output_type": "execute_result"
    }
   ],
   "source": [
    "df.head()"
   ]
  },
  {
   "cell_type": "code",
   "execution_count": 368,
   "id": "2a08a223",
   "metadata": {
    "ExecuteTime": {
     "end_time": "2023-01-30T09:36:56.275751Z",
     "start_time": "2023-01-30T09:36:56.270584Z"
    }
   },
   "outputs": [
    {
     "data": {
      "text/plain": [
       "setting                          status          \n",
       "SeaweedHJController__NoObserver  finished_running    997\n",
       "                                 running_sim           3\n",
       "Name: status, dtype: int64"
      ]
     },
     "execution_count": 368,
     "metadata": {},
     "output_type": "execute_result"
    }
   ],
   "source": [
    "df.groupby('setting').status.value_counts()"
   ]
  },
  {
   "cell_type": "code",
   "execution_count": 369,
   "id": "9b2f67c1",
   "metadata": {
    "ExecuteTime": {
     "end_time": "2023-01-30T09:00:13.940971Z",
     "start_time": "2023-01-30T09:00:13.936235Z"
    }
   },
   "outputs": [
    {
     "data": {
      "text/plain": [
       "setting                          termination_reason\n",
       "SeaweedHJController__NoObserver  Timeout               0.723\n",
       "                                 Stranded              0.150\n",
       "                                 Outside Arena         0.124\n",
       "                                 run_failed            0.003\n",
       "Name: termination_reason, dtype: float64"
      ]
     },
     "execution_count": 369,
     "metadata": {},
     "output_type": "execute_result"
    }
   ],
   "source": [
    "df.groupby('setting').termination_reason.value_counts(normalize=True)"
   ]
  },
  {
   "cell_type": "markdown",
   "id": "5f968060",
   "metadata": {},
   "source": [
    "## Accessing the actual saved trajectories/log files"
   ]
  },
  {
   "cell_type": "code",
   "execution_count": 110,
   "id": "705e0cb7",
   "metadata": {
    "ExecuteTime": {
     "end_time": "2023-01-30T09:00:17.725183Z",
     "start_time": "2023-01-30T09:00:17.712832Z"
    }
   },
   "outputs": [],
   "source": [
    "# to get all OceanSimRuns for a specific experiment (for all controller and observer settings)\n",
    "exp_id =\"HC_umax_0.2_30\"\n",
    "exp_id_filter = 'mission.experiment.id==' + '\"' + exp_id + '\"'\n",
    "allOceanSimRuns = c3.OceanSimRun.fetch(spec={'include': \"[this]\",'filter':  exp_id_filter}).objs\n",
    "\n",
    "# show how to access things for a single one\n",
    "run = allOceanSimRuns[0]"
   ]
  },
  {
   "cell_type": "code",
   "execution_count": null,
   "id": "c627bca8",
   "metadata": {
    "ExecuteTime": {
     "end_time": "2023-01-20T01:35:57.567219Z",
     "start_time": "2023-01-20T01:35:57.565340Z"
    }
   },
   "outputs": [],
   "source": [
    "# # to access the log files for a specifc run. Not working right now, not sure why.\n",
    "# c3.HycomUtil.display_log(run)"
   ]
  },
  {
   "cell_type": "code",
   "execution_count": null,
   "id": "cb361b9f",
   "metadata": {
    "ExecuteTime": {
     "end_time": "2023-01-30T09:00:21.478704Z",
     "start_time": "2023-01-30T09:00:21.468298Z"
    }
   },
   "outputs": [],
   "source": [
    "# to access the saved trajectory (from arena) and saved lcontroller inputs\n",
    "trajectories_dict = c3.HycomUtil.get_traj_dict(run)\n",
    "print(trajectories_dict)"
   ]
  },
  {
   "cell_type": "markdown",
   "id": "28a10da5",
   "metadata": {},
   "source": [
    "# Other Utils for the cluster"
   ]
  },
  {
   "cell_type": "markdown",
   "id": "a55849d6",
   "metadata": {
    "ExecuteTime": {
     "end_time": "2023-01-26T01:43:36.037020Z",
     "start_time": "2023-01-26T01:43:33.197130Z"
    }
   },
   "source": [
    "## c3.Cluster.actionDump()"
   ]
  },
  {
   "cell_type": "code",
   "execution_count": 276,
   "id": "1593dd15",
   "metadata": {
    "ExecuteTime": {
     "end_time": "2023-01-30T09:20:50.910232Z",
     "start_time": "2023-01-30T09:20:50.727526Z"
    }
   },
   "outputs": [],
   "source": [
    "batch_jobs = c3.GenMissionBatchJob.fetch().objs\n"
   ]
  },
  {
   "cell_type": "code",
   "execution_count": 277,
   "id": "f974435a",
   "metadata": {
    "ExecuteTime": {
     "end_time": "2023-01-30T09:21:06.586546Z",
     "start_time": "2023-01-30T09:20:53.034748Z"
    },
    "code_folding": []
   },
   "outputs": [
    {
     "name": "stdout",
     "output_type": "stream",
     "text": [
      "c3.BatchJobStatus(\n",
      " started=datetime.datetime(2023, 1, 28, 23, 6, 58, tzinfo=datetime.timezone.utc),\n",
      " startedby='mariuswiggert@berkeley.edu',\n",
      " completed=datetime.datetime(2023, 1, 28, 23, 23, 25, tzinfo=datetime.timezone.utc),\n",
      " status='canceled',\n",
      " newBatchSubmitted=True)\n",
      "c3.BatchJobStatus(\n",
      " started=datetime.datetime(2023, 1, 25, 21, 6, 48, tzinfo=datetime.timezone.utc),\n",
      " startedby='dadams@illinois.edu',\n",
      " completed=datetime.datetime(2023, 1, 26, 1, 48, 35, tzinfo=datetime.timezone.utc),\n",
      " status='canceled',\n",
      " newBatchSubmitted=False)\n",
      "c3.BatchJobStatus(\n",
      " started=datetime.datetime(2023, 1, 26, 6, 56, 10, tzinfo=datetime.timezone.utc),\n",
      " startedby='mariuswiggert@berkeley.edu',\n",
      " completed=datetime.datetime(2023, 1, 26, 6, 58, 33, tzinfo=datetime.timezone.utc),\n",
      " status='canceled',\n",
      " newBatchSubmitted=True)\n",
      "c3.BatchJobStatus(status='initial')\n",
      "c3.BatchJobStatus(status='initial')\n",
      "c3.BatchJobStatus(\n",
      " started=datetime.datetime(2023, 1, 27, 4, 6, 49, tzinfo=datetime.timezone.utc),\n",
      " startedby='nhoischen@berkeley.edu',\n",
      " completed=datetime.datetime(2023, 1, 30, 9, 20, 54, tzinfo=datetime.timezone.utc),\n",
      " status='canceled',\n",
      " newBatchSubmitted=True)\n",
      "c3.BatchJobStatus(\n",
      " started=datetime.datetime(2022, 11, 10, 18, 39, 53, tzinfo=datetime.timezone.utc),\n",
      " startedby='mariuswiggert@berkeley.edu',\n",
      " completed=datetime.datetime(2023, 1, 25, 18, 44, 6, tzinfo=datetime.timezone.utc),\n",
      " status='canceled',\n",
      " newBatchSubmitted=True)\n",
      "c3.BatchJobStatus(\n",
      " started=datetime.datetime(2022, 11, 8, 15, 32, 3, tzinfo=datetime.timezone.utc),\n",
      " startedby='mariuswiggert@berkeley.edu',\n",
      " completed=datetime.datetime(2022, 11, 10, 12, 3, 45, tzinfo=datetime.timezone.utc),\n",
      " status='canceled',\n",
      " newBatchSubmitted=True)\n",
      "c3.BatchJobStatus(\n",
      " started=datetime.datetime(2022, 11, 8, 14, 54, 44, tzinfo=datetime.timezone.utc),\n",
      " startedby='mariuswiggert@berkeley.edu',\n",
      " completed=datetime.datetime(2022, 11, 10, 12, 4, 52, tzinfo=datetime.timezone.utc),\n",
      " status='canceled',\n",
      " newBatchSubmitted=True)\n",
      "c3.BatchJobStatus(\n",
      " started=datetime.datetime(2023, 1, 19, 19, 38, 53, tzinfo=datetime.timezone.utc),\n",
      " startedby='mariuswiggert@berkeley.edu',\n",
      " completed=datetime.datetime(2023, 1, 25, 18, 44, 6, tzinfo=datetime.timezone.utc),\n",
      " status='canceled',\n",
      " newBatchSubmitted=False)\n",
      "c3.BatchJobStatus(\n",
      " started=datetime.datetime(2023, 1, 9, 14, 24, 17, tzinfo=datetime.timezone.utc),\n",
      " startedby='mariuswiggert@berkeley.edu',\n",
      " completed=datetime.datetime(2023, 1, 25, 18, 44, 6, tzinfo=datetime.timezone.utc),\n",
      " status='canceled',\n",
      " newBatchSubmitted=False)\n",
      "c3.BatchJobStatus(status='initial')\n",
      "c3.BatchJobStatus(\n",
      " started=datetime.datetime(2022, 11, 13, 15, 40, 40, tzinfo=datetime.timezone.utc),\n",
      " startedby='mariuswiggert@berkeley.edu',\n",
      " completed=datetime.datetime(2022, 11, 14, 20, 23, 54, tzinfo=datetime.timezone.utc),\n",
      " status='canceled',\n",
      " newBatchSubmitted=True)\n",
      "c3.BatchJobStatus(status='initial')\n",
      "c3.BatchJobStatus(status='initial')\n",
      "c3.BatchJobStatus(\n",
      " started=datetime.datetime(2022, 11, 11, 17, 57, 51, tzinfo=datetime.timezone.utc),\n",
      " startedby='mariuswiggert@berkeley.edu',\n",
      " completed=datetime.datetime(2023, 1, 25, 18, 44, 7, tzinfo=datetime.timezone.utc),\n",
      " status='canceled',\n",
      " newBatchSubmitted=True)\n",
      "c3.BatchJobStatus(\n",
      " started=datetime.datetime(2023, 1, 21, 5, 38, 17, tzinfo=datetime.timezone.utc),\n",
      " startedby='doering@berkeley.edu',\n",
      " completed=datetime.datetime(2023, 1, 25, 18, 44, 7, tzinfo=datetime.timezone.utc),\n",
      " status='canceled',\n",
      " newBatchSubmitted=True)\n",
      "c3.BatchJobStatus(status='initial')\n",
      "c3.BatchJobStatus(status='initial')\n",
      "c3.BatchJobStatus(status='initial')\n",
      "c3.BatchJobStatus(status='initial')\n",
      "c3.BatchJobStatus(\n",
      " started=datetime.datetime(2023, 1, 25, 22, 28, 37, tzinfo=datetime.timezone.utc),\n",
      " startedby='dadams@illinois.edu',\n",
      " completed=datetime.datetime(2023, 1, 26, 1, 48, 38, tzinfo=datetime.timezone.utc),\n",
      " status='canceled',\n",
      " newBatchSubmitted=False)\n",
      "c3.BatchJobStatus(\n",
      " started=datetime.datetime(2023, 1, 26, 18, 9, 53, tzinfo=datetime.timezone.utc),\n",
      " startedby='mariuswiggert@berkeley.edu',\n",
      " completed=datetime.datetime(2023, 1, 26, 18, 11, 15, tzinfo=datetime.timezone.utc),\n",
      " status='canceled',\n",
      " newBatchSubmitted=True)\n",
      "c3.BatchJobStatus(\n",
      " started=datetime.datetime(2023, 1, 24, 22, 16, 26, tzinfo=datetime.timezone.utc),\n",
      " startedby='doering@berkeley.edu',\n",
      " completed=datetime.datetime(2023, 1, 25, 18, 44, 7, tzinfo=datetime.timezone.utc),\n",
      " status='canceled',\n",
      " newBatchSubmitted=True)\n",
      "c3.BatchJobStatus(status='initial')\n",
      "c3.BatchJobStatus(\n",
      " started=datetime.datetime(2023, 1, 19, 22, 33, 50, tzinfo=datetime.timezone.utc),\n",
      " startedby='mariuswiggert@berkeley.edu',\n",
      " completed=datetime.datetime(2023, 1, 25, 18, 44, 8, tzinfo=datetime.timezone.utc),\n",
      " status='canceled',\n",
      " newBatchSubmitted=False)\n",
      "c3.BatchJobStatus(status='initial')\n",
      "c3.BatchJobStatus(status='initial')\n",
      "c3.BatchJobStatus(\n",
      " started=datetime.datetime(2022, 11, 10, 18, 34, 24, tzinfo=datetime.timezone.utc),\n",
      " startedby='mariuswiggert@berkeley.edu',\n",
      " completed=datetime.datetime(2023, 1, 25, 18, 44, 8, tzinfo=datetime.timezone.utc),\n",
      " status='canceled',\n",
      " newBatchSubmitted=True)\n",
      "c3.BatchJobStatus(\n",
      " started=datetime.datetime(2023, 1, 25, 19, 46, 57, tzinfo=datetime.timezone.utc),\n",
      " startedby='mariuswiggert@berkeley.edu',\n",
      " completed=datetime.datetime(2023, 1, 26, 1, 48, 38, tzinfo=datetime.timezone.utc),\n",
      " status='canceled',\n",
      " newBatchSubmitted=False)\n",
      "c3.BatchJobStatus(status='initial')\n",
      "c3.BatchJobStatus(\n",
      " started=datetime.datetime(2023, 1, 26, 1, 58, 22, tzinfo=datetime.timezone.utc),\n",
      " startedby='killer@berkeley.edu',\n",
      " completed=datetime.datetime(2023, 1, 26, 2, 1, 31, tzinfo=datetime.timezone.utc),\n",
      " status='canceled',\n",
      " newBatchSubmitted=True)\n",
      "c3.BatchJobStatus(\n",
      " started=datetime.datetime(2023, 1, 25, 21, 50, 22, tzinfo=datetime.timezone.utc),\n",
      " startedby='dadams@illinois.edu',\n",
      " completed=datetime.datetime(2023, 1, 25, 21, 51, 26, tzinfo=datetime.timezone.utc),\n",
      " status='canceled',\n",
      " newBatchSubmitted=True)\n",
      "c3.BatchJobStatus(status='initial')\n",
      "c3.BatchJobStatus(status='initial')\n",
      "c3.BatchJobStatus(\n",
      " started=datetime.datetime(2023, 1, 20, 0, 5, 33, tzinfo=datetime.timezone.utc),\n",
      " startedby='nhoischen@berkeley.edu',\n",
      " completed=datetime.datetime(2023, 1, 25, 18, 44, 8, tzinfo=datetime.timezone.utc),\n",
      " status='canceled',\n",
      " newBatchSubmitted=False)\n",
      "c3.BatchJobStatus(\n",
      " started=datetime.datetime(2022, 11, 10, 22, 41, 17, tzinfo=datetime.timezone.utc),\n",
      " startedby='mariuswiggert@berkeley.edu',\n",
      " completed=datetime.datetime(2023, 1, 25, 18, 44, 8, tzinfo=datetime.timezone.utc),\n",
      " status='canceled',\n",
      " newBatchSubmitted=True)\n",
      "c3.BatchJobStatus(\n",
      " started=datetime.datetime(2023, 1, 25, 21, 45, 53, tzinfo=datetime.timezone.utc),\n",
      " startedby='dadams@illinois.edu',\n",
      " completed=datetime.datetime(2023, 1, 26, 1, 48, 39, tzinfo=datetime.timezone.utc),\n",
      " status='canceled',\n",
      " newBatchSubmitted=False)\n",
      "c3.BatchJobStatus(status='initial')\n",
      "c3.BatchJobStatus(\n",
      " started=datetime.datetime(2022, 11, 15, 0, 46, 45, tzinfo=datetime.timezone.utc),\n",
      " startedby='mariuswiggert@berkeley.edu',\n",
      " completed=datetime.datetime(2023, 1, 25, 18, 44, 8, tzinfo=datetime.timezone.utc),\n",
      " status='canceled',\n",
      " newBatchSubmitted=False)\n",
      "c3.BatchJobStatus(\n",
      " started=datetime.datetime(2023, 1, 25, 18, 34, 59, tzinfo=datetime.timezone.utc),\n",
      " startedby='killer@berkeley.edu',\n",
      " completed=datetime.datetime(2023, 1, 25, 18, 44, 9, tzinfo=datetime.timezone.utc),\n",
      " status='canceled',\n",
      " newBatchSubmitted=True)\n",
      "c3.BatchJobStatus(status='initial')\n",
      "c3.BatchJobStatus(\n",
      " started=datetime.datetime(2023, 1, 23, 2, 2, 57, tzinfo=datetime.timezone.utc),\n",
      " startedby='nhoischen@berkeley.edu',\n",
      " completed=datetime.datetime(2023, 1, 25, 18, 44, 9, tzinfo=datetime.timezone.utc),\n",
      " status='canceled')\n",
      "c3.BatchJobStatus(\n",
      " started=datetime.datetime(2023, 1, 21, 5, 20, 51, tzinfo=datetime.timezone.utc),\n",
      " startedby='doering@berkeley.edu',\n",
      " completed=datetime.datetime(2023, 1, 25, 18, 44, 9, tzinfo=datetime.timezone.utc),\n",
      " status='canceled',\n",
      " newBatchSubmitted=False)\n",
      "c3.BatchJobStatus(status='initial')\n",
      "c3.BatchJobStatus(\n",
      " started=datetime.datetime(2023, 1, 26, 6, 14, 11, tzinfo=datetime.timezone.utc),\n",
      " startedby='mariuswiggert@berkeley.edu',\n",
      " completed=datetime.datetime(2023, 1, 26, 6, 53, 14, tzinfo=datetime.timezone.utc),\n",
      " status='canceled')\n",
      "c3.BatchJobStatus(status='initial')\n",
      "c3.BatchJobStatus(\n",
      " started=datetime.datetime(2023, 1, 26, 6, 33, 50, tzinfo=datetime.timezone.utc),\n",
      " startedby='mariuswiggert@berkeley.edu',\n",
      " completed=datetime.datetime(2023, 1, 26, 6, 37, 57, tzinfo=datetime.timezone.utc),\n",
      " status='canceled',\n",
      " newBatchSubmitted=True)\n",
      "c3.BatchJobStatus(\n",
      " started=datetime.datetime(2023, 1, 5, 20, 53, 47, tzinfo=datetime.timezone.utc),\n",
      " startedby='mariuswiggert@berkeley.edu',\n",
      " completed=datetime.datetime(2023, 1, 25, 18, 44, 9, tzinfo=datetime.timezone.utc),\n",
      " status='canceled',\n",
      " newBatchSubmitted=False)\n",
      "c3.BatchJobStatus(status='initial')\n",
      "c3.BatchJobStatus(status='initial')\n",
      "c3.BatchJobStatus(status='initial')\n",
      "c3.BatchJobStatus(\n",
      " started=datetime.datetime(2023, 1, 23, 2, 6, 57, tzinfo=datetime.timezone.utc),\n",
      " startedby='nhoischen@berkeley.edu',\n",
      " completed=datetime.datetime(2023, 1, 25, 18, 44, 9, tzinfo=datetime.timezone.utc),\n",
      " status='canceled',\n",
      " newBatchSubmitted=True)\n",
      "c3.BatchJobStatus(status='initial')\n",
      "c3.BatchJobStatus(\n",
      " started=datetime.datetime(2022, 11, 11, 17, 27, 48, tzinfo=datetime.timezone.utc),\n",
      " startedby='mariuswiggert@berkeley.edu',\n",
      " completed=datetime.datetime(2023, 1, 25, 18, 44, 10, tzinfo=datetime.timezone.utc),\n",
      " status='canceled',\n",
      " newBatchSubmitted=True)\n",
      "c3.BatchJobStatus(\n",
      " started=datetime.datetime(2023, 1, 5, 20, 55, 10, tzinfo=datetime.timezone.utc),\n",
      " startedby='mariuswiggert@berkeley.edu',\n",
      " completed=datetime.datetime(2023, 1, 25, 18, 44, 10, tzinfo=datetime.timezone.utc),\n",
      " status='canceled',\n",
      " newBatchSubmitted=False)\n",
      "c3.BatchJobStatus(\n",
      " started=datetime.datetime(2022, 11, 11, 17, 3, 32, tzinfo=datetime.timezone.utc),\n",
      " startedby='mariuswiggert@berkeley.edu',\n",
      " completed=datetime.datetime(2023, 1, 25, 18, 44, 10, tzinfo=datetime.timezone.utc),\n",
      " status='canceled',\n",
      " newBatchSubmitted=True)\n",
      "c3.BatchJobStatus(\n",
      " started=datetime.datetime(2023, 1, 26, 2, 3, 24, tzinfo=datetime.timezone.utc),\n",
      " startedby='killer@berkeley.edu',\n",
      " completed=datetime.datetime(2023, 1, 26, 2, 13, 9, tzinfo=datetime.timezone.utc),\n",
      " status='canceled',\n",
      " newBatchSubmitted=True)\n",
      "c3.BatchJobStatus(\n",
      " started=datetime.datetime(2022, 11, 8, 14, 55, 24, tzinfo=datetime.timezone.utc),\n",
      " startedby='mariuswiggert@berkeley.edu',\n",
      " completed=datetime.datetime(2022, 11, 10, 12, 4, 54, tzinfo=datetime.timezone.utc),\n",
      " status='canceled',\n",
      " newBatchSubmitted=True)\n",
      "c3.BatchJobStatus(\n",
      " started=datetime.datetime(2023, 1, 25, 19, 21, 47, tzinfo=datetime.timezone.utc),\n",
      " startedby='dadams@illinois.edu',\n",
      " completed=datetime.datetime(2023, 1, 25, 19, 22, 52, tzinfo=datetime.timezone.utc),\n",
      " status='canceled',\n",
      " newBatchSubmitted=True)\n",
      "c3.BatchJobStatus(\n",
      " started=datetime.datetime(2023, 1, 26, 1, 57, 44, tzinfo=datetime.timezone.utc),\n",
      " startedby='killer@berkeley.edu',\n",
      " completed=datetime.datetime(2023, 1, 26, 2, 1, 42, tzinfo=datetime.timezone.utc),\n",
      " status='canceled',\n",
      " newBatchSubmitted=True)\n",
      "c3.BatchJobStatus(\n",
      " started=datetime.datetime(2023, 1, 9, 14, 51, 47, tzinfo=datetime.timezone.utc),\n",
      " startedby='mariuswiggert@berkeley.edu',\n",
      " completed=datetime.datetime(2023, 1, 25, 18, 44, 10, tzinfo=datetime.timezone.utc),\n",
      " status='canceled',\n",
      " newBatchSubmitted=False)\n",
      "c3.BatchJobStatus(status='initial')\n",
      "c3.BatchJobStatus(status='initial')\n",
      "c3.BatchJobStatus(\n",
      " started=datetime.datetime(2022, 11, 11, 17, 31, 23, tzinfo=datetime.timezone.utc),\n",
      " startedby='mariuswiggert@berkeley.edu',\n",
      " completed=datetime.datetime(2023, 1, 25, 18, 44, 10, tzinfo=datetime.timezone.utc),\n",
      " status='canceled',\n",
      " newBatchSubmitted=True)\n",
      "c3.BatchJobStatus(\n",
      " started=datetime.datetime(2022, 11, 8, 23, 13, 17, tzinfo=datetime.timezone.utc),\n",
      " startedby='mariuswiggert@berkeley.edu',\n",
      " completed=datetime.datetime(2022, 11, 10, 12, 4, 54, tzinfo=datetime.timezone.utc),\n",
      " status='canceled',\n",
      " newBatchSubmitted=True)\n",
      "c3.BatchJobStatus(\n",
      " started=datetime.datetime(2023, 1, 25, 20, 52, 15, tzinfo=datetime.timezone.utc),\n",
      " startedby='dadams@illinois.edu',\n",
      " completed=datetime.datetime(2023, 1, 25, 21, 5, 41, tzinfo=datetime.timezone.utc),\n",
      " status='canceled',\n",
      " newBatchSubmitted=True)\n",
      "c3.BatchJobStatus(\n",
      " started=datetime.datetime(2022, 11, 8, 23, 16, 34, tzinfo=datetime.timezone.utc),\n",
      " startedby='mariuswiggert@berkeley.edu',\n",
      " completed=datetime.datetime(2022, 11, 10, 12, 4, 54, tzinfo=datetime.timezone.utc),\n",
      " status='canceled',\n",
      " newBatchSubmitted=True)\n",
      "c3.BatchJobStatus(\n",
      " started=datetime.datetime(2023, 1, 25, 0, 40, 26, tzinfo=datetime.timezone.utc),\n",
      " startedby='killer@berkeley.edu',\n",
      " completed=datetime.datetime(2023, 1, 25, 18, 44, 11, tzinfo=datetime.timezone.utc),\n",
      " status='canceled',\n",
      " newBatchSubmitted=True)\n",
      "c3.BatchJobStatus(\n",
      " started=datetime.datetime(2022, 11, 8, 14, 37, 20, tzinfo=datetime.timezone.utc),\n",
      " startedby='mariuswiggert@berkeley.edu',\n",
      " completed=datetime.datetime(2022, 11, 10, 12, 4, 54, tzinfo=datetime.timezone.utc),\n",
      " status='canceled',\n",
      " newBatchSubmitted=True)\n",
      "c3.BatchJobStatus(status='initial')\n",
      "c3.BatchJobStatus(status='initial')\n",
      "c3.BatchJobStatus(status='initial')\n",
      "c3.BatchJobStatus(status='initial')\n",
      "c3.BatchJobStatus(status='initial')\n",
      "c3.BatchJobStatus(\n",
      " started=datetime.datetime(2023, 1, 25, 17, 36, 49, tzinfo=datetime.timezone.utc),\n",
      " startedby='killer@berkeley.edu',\n",
      " completed=datetime.datetime(2023, 1, 25, 18, 44, 11, tzinfo=datetime.timezone.utc),\n",
      " status='canceled')\n",
      "c3.BatchJobStatus(\n",
      " started=datetime.datetime(2022, 11, 10, 15, 5, 32, tzinfo=datetime.timezone.utc),\n",
      " startedby='mariuswiggert@berkeley.edu',\n",
      " completed=datetime.datetime(2022, 11, 10, 15, 7, 25, tzinfo=datetime.timezone.utc),\n",
      " status='canceled',\n",
      " newBatchSubmitted=True)\n",
      "c3.BatchJobStatus(status='initial')\n",
      "c3.BatchJobStatus(\n",
      " started=datetime.datetime(2022, 11, 10, 21, 43, 55, tzinfo=datetime.timezone.utc),\n",
      " startedby='mariuswiggert@berkeley.edu',\n",
      " completed=datetime.datetime(2023, 1, 25, 18, 44, 12, tzinfo=datetime.timezone.utc),\n",
      " status='canceled',\n",
      " newBatchSubmitted=True)\n",
      "c3.BatchJobStatus(status='initial')\n",
      "c3.BatchJobStatus(\n",
      " started=datetime.datetime(2022, 11, 22, 1, 17, 21, tzinfo=datetime.timezone.utc),\n",
      " startedby='mariuswiggert@berkeley.edu',\n",
      " completed=datetime.datetime(2023, 1, 25, 18, 44, 12, tzinfo=datetime.timezone.utc),\n",
      " status='canceled',\n",
      " newBatchSubmitted=False)\n",
      "c3.BatchJobStatus(\n",
      " started=datetime.datetime(2023, 1, 25, 18, 45, 7, tzinfo=datetime.timezone.utc),\n",
      " startedby='killer@berkeley.edu',\n",
      " completed=datetime.datetime(2023, 1, 26, 1, 48, 46, tzinfo=datetime.timezone.utc),\n",
      " status='canceled',\n",
      " newBatchSubmitted=True)\n",
      "c3.BatchJobStatus(status='initial')\n",
      "c3.BatchJobStatus(\n",
      " started=datetime.datetime(2023, 1, 28, 0, 15, 9, tzinfo=datetime.timezone.utc),\n",
      " startedby='mariuswiggert@berkeley.edu',\n",
      " completed=datetime.datetime(2023, 1, 28, 0, 18, 13, tzinfo=datetime.timezone.utc),\n",
      " status='canceled',\n",
      " newBatchSubmitted=True)\n",
      "c3.BatchJobStatus(status='initial')\n",
      "c3.BatchJobStatus(\n",
      " started=datetime.datetime(2023, 1, 20, 0, 2, 56, tzinfo=datetime.timezone.utc),\n",
      " startedby='killer@berkeley.edu',\n",
      " completed=datetime.datetime(2023, 1, 25, 18, 44, 12, tzinfo=datetime.timezone.utc),\n",
      " status='canceled',\n",
      " newBatchSubmitted=False)\n",
      "c3.BatchJobStatus(\n",
      " started=datetime.datetime(2023, 1, 25, 16, 57, 19, tzinfo=datetime.timezone.utc),\n",
      " startedby='mariuswiggert@berkeley.edu',\n",
      " completed=datetime.datetime(2023, 1, 25, 18, 44, 12, tzinfo=datetime.timezone.utc),\n",
      " status='canceled',\n",
      " newBatchSubmitted=True)\n",
      "c3.BatchJobStatus(\n",
      " started=datetime.datetime(2022, 11, 16, 6, 46, 48, tzinfo=datetime.timezone.utc),\n",
      " startedby='mariuswiggert@berkeley.edu',\n",
      " completed=datetime.datetime(2023, 1, 25, 18, 44, 12, tzinfo=datetime.timezone.utc),\n",
      " status='canceled',\n",
      " newBatchSubmitted=False)\n",
      "c3.BatchJobStatus(\n",
      " started=datetime.datetime(2022, 11, 11, 18, 12, 5, tzinfo=datetime.timezone.utc),\n",
      " startedby='mariuswiggert@berkeley.edu',\n",
      " completed=datetime.datetime(2023, 1, 25, 18, 44, 12, tzinfo=datetime.timezone.utc),\n",
      " status='canceled',\n",
      " newBatchSubmitted=True)\n",
      "c3.BatchJobStatus(status='initial')\n",
      "c3.BatchJobStatus(status='initial')\n",
      "c3.BatchJobStatus(\n",
      " started=datetime.datetime(2023, 1, 21, 6, 4, 17, tzinfo=datetime.timezone.utc),\n",
      " startedby='doering@berkeley.edu',\n",
      " completed=datetime.datetime(2023, 1, 25, 18, 44, 13, tzinfo=datetime.timezone.utc),\n",
      " status='canceled',\n",
      " newBatchSubmitted=True)\n",
      "c3.BatchJobStatus(status='initial')\n",
      "c3.BatchJobStatus(\n",
      " started=datetime.datetime(2023, 1, 21, 5, 19, 54, tzinfo=datetime.timezone.utc),\n",
      " startedby='doering@berkeley.edu',\n",
      " completed=datetime.datetime(2023, 1, 25, 18, 44, 13, tzinfo=datetime.timezone.utc),\n",
      " status='canceled',\n",
      " newBatchSubmitted=False)\n",
      "c3.BatchJobStatus(\n",
      " started=datetime.datetime(2023, 1, 25, 19, 39, 5, tzinfo=datetime.timezone.utc),\n",
      " startedby='dadams@illinois.edu',\n",
      " completed=datetime.datetime(2023, 1, 25, 19, 40, 20, tzinfo=datetime.timezone.utc),\n",
      " status='canceled',\n",
      " newBatchSubmitted=True)\n",
      "c3.BatchJobStatus(status='initial')\n",
      "c3.BatchJobStatus(status='initial')\n",
      "c3.BatchJobStatus(status='initial')\n",
      "c3.BatchJobStatus(\n",
      " started=datetime.datetime(2023, 1, 26, 6, 57, 3, tzinfo=datetime.timezone.utc),\n",
      " startedby='mariuswiggert@berkeley.edu',\n",
      " completed=datetime.datetime(2023, 1, 26, 6, 58, 18, tzinfo=datetime.timezone.utc),\n",
      " status='canceled',\n",
      " newBatchSubmitted=True)\n",
      "c3.BatchJobStatus(\n",
      " started=datetime.datetime(2022, 11, 10, 18, 45, tzinfo=datetime.timezone.utc),\n",
      " startedby='mariuswiggert@berkeley.edu',\n",
      " completed=datetime.datetime(2023, 1, 25, 18, 44, 13, tzinfo=datetime.timezone.utc),\n",
      " status='canceled',\n",
      " newBatchSubmitted=True)\n",
      "c3.BatchJobStatus(\n",
      " started=datetime.datetime(2023, 1, 26, 6, 15, 44, tzinfo=datetime.timezone.utc),\n",
      " startedby='mariuswiggert@berkeley.edu',\n",
      " completed=datetime.datetime(2023, 1, 26, 6, 54, tzinfo=datetime.timezone.utc),\n",
      " status='canceled',\n",
      " newBatchSubmitted=False)\n",
      "c3.BatchJobStatus(\n",
      " started=datetime.datetime(2023, 1, 25, 17, 32, 11, tzinfo=datetime.timezone.utc),\n",
      " startedby='killer@berkeley.edu',\n",
      " completed=datetime.datetime(2023, 1, 25, 18, 44, 13, tzinfo=datetime.timezone.utc),\n",
      " status='canceled',\n",
      " newBatchSubmitted=True)\n",
      "c3.BatchJobStatus(\n",
      " started=datetime.datetime(2023, 1, 21, 5, 14, 15, tzinfo=datetime.timezone.utc),\n",
      " startedby='doering@berkeley.edu',\n",
      " completed=datetime.datetime(2023, 1, 25, 18, 44, 13, tzinfo=datetime.timezone.utc),\n",
      " status='canceled',\n",
      " newBatchSubmitted=False)\n",
      "c3.BatchJobStatus(\n",
      " started=datetime.datetime(2023, 1, 23, 2, 4, 7, tzinfo=datetime.timezone.utc),\n",
      " startedby='nhoischen@berkeley.edu',\n",
      " completed=datetime.datetime(2023, 1, 25, 18, 44, 13, tzinfo=datetime.timezone.utc),\n",
      " status='canceled',\n",
      " newBatchSubmitted=True)\n",
      "c3.BatchJobStatus(\n",
      " started=datetime.datetime(2022, 11, 11, 18, 44, tzinfo=datetime.timezone.utc),\n",
      " startedby='mariuswiggert@berkeley.edu',\n",
      " completed=datetime.datetime(2023, 1, 25, 18, 44, 14, tzinfo=datetime.timezone.utc),\n",
      " status='canceled',\n",
      " newBatchSubmitted=True)\n",
      "c3.BatchJobStatus(\n",
      " started=datetime.datetime(2022, 11, 10, 12, 5, 11, tzinfo=datetime.timezone.utc),\n",
      " startedby='mariuswiggert@berkeley.edu',\n",
      " completed=datetime.datetime(2022, 11, 10, 15, 6, 24, tzinfo=datetime.timezone.utc),\n",
      " status='canceled',\n",
      " errors=c3.Arry<JobRunErrorDetail>([c3.JobRunErrorDetail(\n",
      "           id='e3a2a57e-3465-4f10-8be8-4ebaf5ee2059',\n",
      "           meta=c3.Meta(referenceInvalid=True))]),\n",
      " newBatchSubmitted=True)\n",
      "c3.BatchJobStatus(status='initial')\n",
      "c3.BatchJobStatus(\n",
      " started=datetime.datetime(2023, 1, 25, 17, 41, 25, tzinfo=datetime.timezone.utc),\n",
      " startedby='killer@berkeley.edu',\n",
      " completed=datetime.datetime(2023, 1, 25, 18, 1, 49, tzinfo=datetime.timezone.utc),\n",
      " status='canceled',\n",
      " newBatchSubmitted=True)\n",
      "c3.BatchJobStatus(\n",
      " started=datetime.datetime(2023, 1, 23, 2, 59, 37, tzinfo=datetime.timezone.utc),\n",
      " startedby='nhoischen@berkeley.edu',\n",
      " completed=datetime.datetime(2023, 1, 25, 18, 44, 14, tzinfo=datetime.timezone.utc),\n",
      " status='canceled',\n",
      " newBatchSubmitted=True)\n",
      "c3.BatchJobStatus(\n",
      " started=datetime.datetime(2023, 1, 21, 5, 51, 7, tzinfo=datetime.timezone.utc),\n",
      " startedby='doering@berkeley.edu',\n",
      " completed=datetime.datetime(2023, 1, 25, 18, 44, 15, tzinfo=datetime.timezone.utc),\n",
      " status='canceled',\n",
      " newBatchSubmitted=True)\n",
      "c3.BatchJobStatus(status='initial')\n",
      "c3.BatchJobStatus(status='initial')\n",
      "c3.BatchJobStatus(\n",
      " started=datetime.datetime(2023, 1, 9, 14, 23, 16, tzinfo=datetime.timezone.utc),\n",
      " startedby='mariuswiggert@berkeley.edu',\n",
      " completed=datetime.datetime(2023, 1, 9, 14, 23, 40, tzinfo=datetime.timezone.utc),\n",
      " status='canceled',\n",
      " newBatchSubmitted=True)\n",
      "c3.BatchJobStatus(\n",
      " started=datetime.datetime(2023, 1, 28, 21, 51, 53, tzinfo=datetime.timezone.utc),\n",
      " startedby='mariuswiggert@berkeley.edu',\n",
      " completed=datetime.datetime(2023, 1, 28, 23, 5, 51, tzinfo=datetime.timezone.utc),\n",
      " status='canceled',\n",
      " newBatchSubmitted=True)\n",
      "c3.BatchJobStatus(status='initial')\n",
      "c3.BatchJobStatus(\n",
      " started=datetime.datetime(2023, 1, 25, 17, 22, 30, tzinfo=datetime.timezone.utc),\n",
      " startedby='killer@berkeley.edu',\n",
      " completed=datetime.datetime(2023, 1, 25, 18, 44, 15, tzinfo=datetime.timezone.utc),\n",
      " status='canceled',\n",
      " newBatchSubmitted=True)\n",
      "c3.BatchJobStatus(status='initial')\n",
      "c3.BatchJobStatus(status='initial')\n",
      "c3.BatchJobStatus(\n",
      " started=datetime.datetime(2023, 1, 25, 22, 47, 9, tzinfo=datetime.timezone.utc),\n",
      " startedby='mariuswiggert@berkeley.edu',\n",
      " completed=datetime.datetime(2023, 1, 25, 22, 47, 26, tzinfo=datetime.timezone.utc),\n",
      " status='canceled',\n",
      " newBatchSubmitted=True)\n",
      "c3.BatchJobStatus(status='initial')\n",
      "c3.BatchJobStatus(\n",
      " started=datetime.datetime(2022, 11, 8, 15, 24, 25, tzinfo=datetime.timezone.utc),\n",
      " startedby='mariuswiggert@berkeley.edu',\n",
      " completed=datetime.datetime(2022, 11, 10, 12, 4, 56, tzinfo=datetime.timezone.utc),\n",
      " status='canceled',\n",
      " newBatchSubmitted=True)\n",
      "c3.BatchJobStatus(\n",
      " started=datetime.datetime(2023, 1, 25, 21, 49, 21, tzinfo=datetime.timezone.utc),\n",
      " startedby='dadams@illinois.edu',\n",
      " completed=datetime.datetime(2023, 1, 25, 21, 50, 10, tzinfo=datetime.timezone.utc),\n",
      " status='canceled',\n",
      " newBatchSubmitted=True)\n",
      "c3.BatchJobStatus(\n",
      " started=datetime.datetime(2022, 11, 16, 6, 32, 48, tzinfo=datetime.timezone.utc),\n",
      " startedby='mariuswiggert@berkeley.edu',\n",
      " completed=datetime.datetime(2023, 1, 25, 18, 44, 15, tzinfo=datetime.timezone.utc),\n",
      " status='canceled',\n",
      " newBatchSubmitted=False)\n",
      "c3.BatchJobStatus(\n",
      " started=datetime.datetime(2023, 1, 24, 22, 11, 52, tzinfo=datetime.timezone.utc),\n",
      " startedby='killer@berkeley.edu',\n",
      " completed=datetime.datetime(2023, 1, 24, 22, 14, 27, tzinfo=datetime.timezone.utc),\n",
      " status='canceled',\n",
      " newBatchSubmitted=True)\n",
      "c3.BatchJobStatus(\n",
      " started=datetime.datetime(2023, 1, 19, 17, 13, 58, tzinfo=datetime.timezone.utc),\n",
      " startedby='mariuswiggert@berkeley.edu',\n",
      " completed=datetime.datetime(2023, 1, 25, 18, 44, 16, tzinfo=datetime.timezone.utc),\n",
      " status='canceled',\n",
      " newBatchSubmitted=False)\n",
      "c3.BatchJobStatus(\n",
      " started=datetime.datetime(2022, 11, 10, 15, 7, 50, tzinfo=datetime.timezone.utc),\n",
      " startedby='mariuswiggert@berkeley.edu',\n",
      " completed=datetime.datetime(2023, 1, 25, 18, 44, 16, tzinfo=datetime.timezone.utc),\n",
      " status='canceled',\n",
      " newBatchSubmitted=False)\n",
      "c3.BatchJobStatus(\n",
      " started=datetime.datetime(2022, 11, 22, 0, 41, 47, tzinfo=datetime.timezone.utc),\n",
      " startedby='mariuswiggert@berkeley.edu',\n",
      " completed=datetime.datetime(2023, 1, 25, 18, 44, 16, tzinfo=datetime.timezone.utc),\n",
      " status='canceled',\n",
      " newBatchSubmitted=False)\n",
      "c3.BatchJobStatus(\n",
      " started=datetime.datetime(2023, 1, 26, 6, 51, 5, tzinfo=datetime.timezone.utc),\n",
      " startedby='mariuswiggert@berkeley.edu',\n",
      " completed=datetime.datetime(2023, 1, 26, 6, 54, 4, tzinfo=datetime.timezone.utc),\n",
      " status='canceled',\n",
      " newBatchSubmitted=True)\n",
      "c3.BatchJobStatus(\n",
      " started=datetime.datetime(2022, 11, 12, 13, 30, 52, tzinfo=datetime.timezone.utc),\n",
      " startedby='mariuswiggert@berkeley.edu',\n",
      " completed=datetime.datetime(2023, 1, 25, 18, 44, 16, tzinfo=datetime.timezone.utc),\n",
      " status='canceled',\n",
      " newBatchSubmitted=False)\n",
      "c3.BatchJobStatus(\n",
      " started=datetime.datetime(2023, 1, 23, 3, 28, 9, tzinfo=datetime.timezone.utc),\n",
      " startedby='nhoischen@berkeley.edu',\n",
      " completed=datetime.datetime(2023, 1, 25, 18, 44, 16, tzinfo=datetime.timezone.utc),\n",
      " status='canceled',\n",
      " newBatchSubmitted=True)\n",
      "c3.BatchJobStatus(status='initial')\n",
      "c3.BatchJobStatus(\n",
      " started=datetime.datetime(2022, 11, 10, 19, 58, tzinfo=datetime.timezone.utc),\n",
      " startedby='mariuswiggert@berkeley.edu',\n",
      " completed=datetime.datetime(2023, 1, 25, 18, 44, 16, tzinfo=datetime.timezone.utc),\n",
      " status='canceled',\n",
      " newBatchSubmitted=False)\n",
      "c3.BatchJobStatus(status='initial')\n",
      "c3.BatchJobStatus(status='initial')\n",
      "c3.BatchJobStatus(status='initial')\n",
      "c3.BatchJobStatus(\n",
      " started=datetime.datetime(2023, 1, 28, 0, 41, 41, tzinfo=datetime.timezone.utc),\n",
      " startedby='mariuswiggert@berkeley.edu',\n",
      " completed=datetime.datetime(2023, 1, 28, 0, 41, 55, tzinfo=datetime.timezone.utc),\n",
      " status='canceled',\n",
      " newBatchSubmitted=True)\n",
      "c3.BatchJobStatus(\n",
      " started=datetime.datetime(2023, 1, 25, 17, 7, 47, tzinfo=datetime.timezone.utc),\n",
      " startedby='mariuswiggert@berkeley.edu',\n",
      " completed=datetime.datetime(2023, 1, 25, 18, 44, 16, tzinfo=datetime.timezone.utc),\n",
      " status='canceled',\n",
      " newBatchSubmitted=True)\n",
      "c3.BatchJobStatus(\n",
      " started=datetime.datetime(2023, 1, 28, 23, 33, 50, tzinfo=datetime.timezone.utc),\n",
      " startedby='mariuswiggert@berkeley.edu',\n",
      " completed=datetime.datetime(2023, 1, 28, 23, 35, 37, tzinfo=datetime.timezone.utc),\n",
      " status='canceled',\n",
      " newBatchSubmitted=True)\n",
      "c3.BatchJobStatus(\n",
      " started=datetime.datetime(2023, 1, 26, 6, 55, 19, tzinfo=datetime.timezone.utc),\n",
      " startedby='mariuswiggert@berkeley.edu',\n",
      " completed=datetime.datetime(2023, 1, 26, 7, 0, 7, tzinfo=datetime.timezone.utc),\n",
      " status='canceled',\n",
      " newBatchSubmitted=True)\n",
      "c3.BatchJobStatus(status='initial')\n",
      "c3.BatchJobStatus(status='initial')\n",
      "c3.BatchJobStatus(\n",
      " started=datetime.datetime(2023, 1, 20, 21, 59, 16, tzinfo=datetime.timezone.utc),\n",
      " startedby='nhoischen@berkeley.edu',\n",
      " completed=datetime.datetime(2023, 1, 25, 18, 44, 17, tzinfo=datetime.timezone.utc),\n",
      " status='canceled',\n",
      " newBatchSubmitted=False)\n",
      "c3.BatchJobStatus(status='initial')\n",
      "c3.BatchJobStatus(\n",
      " started=datetime.datetime(2022, 11, 8, 15, 9, 4, tzinfo=datetime.timezone.utc),\n",
      " startedby='mariuswiggert@berkeley.edu',\n",
      " completed=datetime.datetime(2022, 11, 10, 12, 4, 57, tzinfo=datetime.timezone.utc),\n",
      " status='canceled',\n",
      " newBatchSubmitted=True)\n",
      "c3.BatchJobStatus(\n",
      " started=datetime.datetime(2023, 1, 25, 20, 6, 9, tzinfo=datetime.timezone.utc),\n",
      " startedby='mariuswiggert@berkeley.edu',\n",
      " completed=datetime.datetime(2023, 1, 26, 1, 48, 58, tzinfo=datetime.timezone.utc),\n",
      " status='canceled',\n",
      " newBatchSubmitted=False)\n",
      "c3.BatchJobStatus(\n",
      " started=datetime.datetime(2023, 1, 21, 5, 7, 45, tzinfo=datetime.timezone.utc),\n",
      " startedby='doering@berkeley.edu',\n",
      " completed=datetime.datetime(2023, 1, 25, 18, 44, 17, tzinfo=datetime.timezone.utc),\n",
      " status='canceled',\n",
      " newBatchSubmitted=False)\n",
      "c3.BatchJobStatus(status='initial')\n",
      "c3.BatchJobStatus(\n",
      " started=datetime.datetime(2023, 1, 26, 18, 7, 1, tzinfo=datetime.timezone.utc),\n",
      " startedby='mariuswiggert@berkeley.edu',\n",
      " completed=datetime.datetime(2023, 1, 26, 18, 8, 32, tzinfo=datetime.timezone.utc),\n",
      " status='canceled',\n",
      " newBatchSubmitted=True)\n",
      "c3.BatchJobStatus(\n",
      " started=datetime.datetime(2023, 1, 26, 23, 10, 55, tzinfo=datetime.timezone.utc),\n",
      " startedby='nhoischen@berkeley.edu',\n",
      " completed=datetime.datetime(2023, 1, 27, 2, 56, 55, tzinfo=datetime.timezone.utc),\n",
      " status='canceled')\n",
      "c3.BatchJobStatus(\n",
      " started=datetime.datetime(2022, 11, 8, 15, 8, 20, tzinfo=datetime.timezone.utc),\n",
      " startedby='mariuswiggert@berkeley.edu',\n",
      " completed=datetime.datetime(2022, 11, 10, 12, 4, 57, tzinfo=datetime.timezone.utc),\n",
      " status='canceled',\n",
      " newBatchSubmitted=True)\n",
      "c3.BatchJobStatus(\n",
      " started=datetime.datetime(2022, 11, 12, 11, 31, 32, tzinfo=datetime.timezone.utc),\n",
      " startedby='mariuswiggert@berkeley.edu',\n",
      " completed=datetime.datetime(2023, 1, 25, 18, 44, 17, tzinfo=datetime.timezone.utc),\n",
      " status='canceled',\n",
      " newBatchSubmitted=True)\n",
      "c3.BatchJobStatus(status='initial')\n",
      "c3.BatchJobStatus(\n",
      " started=datetime.datetime(2023, 1, 25, 20, 16, 36, tzinfo=datetime.timezone.utc),\n",
      " startedby='mariuswiggert@berkeley.edu',\n",
      " completed=datetime.datetime(2023, 1, 25, 20, 23, 20, tzinfo=datetime.timezone.utc),\n",
      " status='canceled',\n",
      " newBatchSubmitted=True)\n",
      "c3.BatchJobStatus(\n",
      " started=datetime.datetime(2023, 1, 21, 5, 9, 36, tzinfo=datetime.timezone.utc),\n",
      " startedby='doering@berkeley.edu',\n",
      " completed=datetime.datetime(2023, 1, 25, 18, 44, 17, tzinfo=datetime.timezone.utc),\n",
      " status='canceled',\n",
      " newBatchSubmitted=True)\n",
      "c3.BatchJobStatus(\n",
      " started=datetime.datetime(2023, 1, 28, 23, 37, 37, tzinfo=datetime.timezone.utc),\n",
      " startedby='mariuswiggert@berkeley.edu',\n",
      " completed=datetime.datetime(2023, 1, 30, 9, 21, 4, tzinfo=datetime.timezone.utc),\n",
      " status='canceled',\n",
      " newBatchSubmitted=False)\n",
      "c3.BatchJobStatus(\n",
      " started=datetime.datetime(2023, 1, 26, 7, 5, 35, tzinfo=datetime.timezone.utc),\n",
      " startedby='mariuswiggert@berkeley.edu',\n",
      " completed=datetime.datetime(2023, 1, 26, 7, 16, 42, tzinfo=datetime.timezone.utc),\n",
      " status='canceled',\n",
      " newBatchSubmitted=True)\n",
      "c3.BatchJobStatus(\n",
      " started=datetime.datetime(2022, 11, 11, 18, 30, 21, tzinfo=datetime.timezone.utc),\n",
      " startedby='mariuswiggert@berkeley.edu',\n",
      " completed=datetime.datetime(2023, 1, 25, 18, 44, 17, tzinfo=datetime.timezone.utc),\n",
      " status='canceled',\n",
      " newBatchSubmitted=True)\n",
      "c3.BatchJobStatus(status='initial')\n",
      "c3.BatchJobStatus(\n",
      " started=datetime.datetime(2022, 11, 10, 16, 25, 25, tzinfo=datetime.timezone.utc),\n",
      " startedby='mariuswiggert@berkeley.edu',\n",
      " completed=datetime.datetime(2023, 1, 25, 18, 44, 18, tzinfo=datetime.timezone.utc),\n",
      " status='canceled',\n",
      " newBatchSubmitted=False)\n",
      "c3.BatchJobStatus(\n",
      " started=datetime.datetime(2023, 1, 19, 22, 15, 25, tzinfo=datetime.timezone.utc),\n",
      " startedby='mariuswiggert@berkeley.edu',\n",
      " completed=datetime.datetime(2023, 1, 25, 18, 44, 18, tzinfo=datetime.timezone.utc),\n",
      " status='canceled',\n",
      " newBatchSubmitted=False)\n",
      "c3.BatchJobStatus(\n",
      " started=datetime.datetime(2023, 1, 19, 23, 50, 42, tzinfo=datetime.timezone.utc),\n",
      " startedby='killer@berkeley.edu',\n",
      " completed=datetime.datetime(2023, 1, 25, 18, 44, 18, tzinfo=datetime.timezone.utc),\n",
      " status='canceled',\n",
      " newBatchSubmitted=False)\n",
      "c3.BatchJobStatus(\n",
      " started=datetime.datetime(2023, 1, 30, 6, 47, 15, tzinfo=datetime.timezone.utc),\n",
      " startedby='mariuswiggert@berkeley.edu',\n",
      " completed=datetime.datetime(2023, 1, 30, 9, 21, 5, tzinfo=datetime.timezone.utc),\n",
      " status='canceled',\n",
      " newBatchSubmitted=False)\n",
      "c3.BatchJobStatus(status='initial')\n",
      "c3.BatchJobStatus(status='initial')\n",
      "c3.BatchJobStatus(status='initial')\n",
      "c3.BatchJobStatus(status='initial')\n",
      "c3.BatchJobStatus(status='initial')\n",
      "c3.BatchJobStatus(\n",
      " started=datetime.datetime(2022, 11, 10, 14, 48, 51, tzinfo=datetime.timezone.utc),\n",
      " startedby='mariuswiggert@berkeley.edu',\n",
      " completed=datetime.datetime(2022, 11, 10, 15, 7, 30, tzinfo=datetime.timezone.utc),\n",
      " status='canceled',\n",
      " newBatchSubmitted=True)\n",
      "c3.BatchJobStatus(\n",
      " started=datetime.datetime(2022, 10, 18, 16, 33, 19, tzinfo=datetime.timezone.utc),\n",
      " startedby='worker',\n",
      " completed=datetime.datetime(2022, 10, 18, 16, 45, 7, tzinfo=datetime.timezone.utc),\n",
      " status='completed',\n",
      " newBatchSubmitted=False)\n",
      "c3.BatchJobStatus(\n",
      " started=datetime.datetime(2022, 11, 10, 18, 13, 53, tzinfo=datetime.timezone.utc),\n",
      " startedby='mariuswiggert@berkeley.edu',\n",
      " completed=datetime.datetime(2022, 11, 10, 18, 42, 27, tzinfo=datetime.timezone.utc),\n",
      " status='canceled',\n",
      " newBatchSubmitted=True)\n",
      "c3.BatchJobStatus(\n",
      " started=datetime.datetime(2023, 1, 24, 7, 22, 41, tzinfo=datetime.timezone.utc),\n",
      " startedby='killer@berkeley.edu',\n",
      " completed=datetime.datetime(2023, 1, 24, 22, 8, 53, tzinfo=datetime.timezone.utc),\n",
      " status='canceled',\n",
      " newBatchSubmitted=True)\n",
      "c3.BatchJobStatus(\n",
      " started=datetime.datetime(2022, 11, 14, 20, 23, 30, tzinfo=datetime.timezone.utc),\n",
      " startedby='mariuswiggert@berkeley.edu',\n",
      " completed=datetime.datetime(2022, 11, 15, 0, 46, 32, tzinfo=datetime.timezone.utc),\n",
      " status='canceled',\n",
      " newBatchSubmitted=True)\n",
      "c3.BatchJobStatus(\n",
      " started=datetime.datetime(2022, 11, 8, 15, 18, 8, tzinfo=datetime.timezone.utc),\n",
      " startedby='mariuswiggert@berkeley.edu',\n",
      " completed=datetime.datetime(2022, 11, 10, 12, 4, 57, tzinfo=datetime.timezone.utc),\n",
      " status='canceled',\n",
      " newBatchSubmitted=True)\n",
      "c3.BatchJobStatus(\n",
      " started=datetime.datetime(2023, 1, 25, 17, 39, 3, tzinfo=datetime.timezone.utc),\n",
      " startedby='killer@berkeley.edu',\n",
      " completed=datetime.datetime(2023, 1, 25, 18, 44, 19, tzinfo=datetime.timezone.utc),\n",
      " status='canceled',\n",
      " newBatchSubmitted=True)\n",
      "c3.BatchJobStatus(\n",
      " started=datetime.datetime(2023, 1, 25, 18, 2, 41, tzinfo=datetime.timezone.utc),\n",
      " startedby='killer@berkeley.edu',\n",
      " completed=datetime.datetime(2023, 1, 25, 18, 30, 33, tzinfo=datetime.timezone.utc),\n",
      " status='canceled',\n",
      " newBatchSubmitted=True)\n",
      "c3.BatchJobStatus(\n",
      " started=datetime.datetime(2023, 1, 5, 20, 58, 43, tzinfo=datetime.timezone.utc),\n",
      " startedby='mariuswiggert@berkeley.edu',\n",
      " completed=datetime.datetime(2023, 1, 25, 18, 44, 19, tzinfo=datetime.timezone.utc),\n",
      " status='canceled',\n",
      " newBatchSubmitted=False)\n",
      "c3.BatchJobStatus(\n",
      " started=datetime.datetime(2023, 1, 20, 19, 8, 3, tzinfo=datetime.timezone.utc),\n",
      " startedby='killer@berkeley.edu',\n",
      " completed=datetime.datetime(2023, 1, 20, 19, 46, 25, tzinfo=datetime.timezone.utc),\n",
      " status='canceled',\n",
      " newBatchSubmitted=True)\n",
      "c3.BatchJobStatus(\n",
      " started=datetime.datetime(2023, 1, 23, 2, 8, 53, tzinfo=datetime.timezone.utc),\n",
      " startedby='nhoischen@berkeley.edu',\n",
      " completed=datetime.datetime(2023, 1, 25, 18, 44, 19, tzinfo=datetime.timezone.utc),\n",
      " status='canceled',\n",
      " newBatchSubmitted=True)\n",
      "c3.BatchJobStatus(\n",
      " started=datetime.datetime(2023, 1, 20, 23, 23, 32, tzinfo=datetime.timezone.utc),\n",
      " startedby='doering@berkeley.edu',\n",
      " completed=datetime.datetime(2023, 1, 25, 18, 44, 19, tzinfo=datetime.timezone.utc),\n",
      " status='canceled',\n",
      " newBatchSubmitted=False)\n",
      "c3.BatchJobStatus(\n",
      " started=datetime.datetime(2023, 1, 25, 22, 47, 54, tzinfo=datetime.timezone.utc),\n",
      " startedby='mariuswiggert@berkeley.edu',\n",
      " completed=datetime.datetime(2023, 1, 25, 22, 48, 23, tzinfo=datetime.timezone.utc),\n",
      " status='canceled',\n",
      " newBatchSubmitted=True)\n",
      "c3.BatchJobStatus(\n",
      " started=datetime.datetime(2022, 11, 8, 15, 47, 9, tzinfo=datetime.timezone.utc),\n",
      " startedby='mariuswiggert@berkeley.edu',\n",
      " completed=datetime.datetime(2022, 11, 10, 12, 4, 58, tzinfo=datetime.timezone.utc),\n",
      " status='canceled',\n",
      " newBatchSubmitted=True)\n",
      "c3.BatchJobStatus(status='initial')\n",
      "c3.BatchJobStatus(\n",
      " started=datetime.datetime(2023, 1, 26, 7, 4, 26, tzinfo=datetime.timezone.utc),\n",
      " startedby='mariuswiggert@berkeley.edu',\n",
      " completed=datetime.datetime(2023, 1, 26, 7, 9, 41, tzinfo=datetime.timezone.utc),\n",
      " status='canceled',\n",
      " newBatchSubmitted=True)\n",
      "c3.BatchJobStatus(\n",
      " started=datetime.datetime(2023, 1, 25, 21, 51, 35, tzinfo=datetime.timezone.utc),\n",
      " startedby='dadams@illinois.edu',\n",
      " completed=datetime.datetime(2023, 1, 26, 1, 49, 6, tzinfo=datetime.timezone.utc),\n",
      " status='canceled',\n",
      " newBatchSubmitted=False)\n",
      "c3.BatchJobStatus(\n",
      " started=datetime.datetime(2023, 1, 25, 21, 44, 8, tzinfo=datetime.timezone.utc),\n",
      " startedby='dadams@illinois.edu',\n",
      " completed=datetime.datetime(2023, 1, 26, 1, 49, 6, tzinfo=datetime.timezone.utc),\n",
      " status='canceled',\n",
      " newBatchSubmitted=False)\n",
      "c3.BatchJobStatus(status='initial')\n"
     ]
    }
   ],
   "source": [
    "for job in batch_jobs:\n",
    "    job.cancel()\n",
    "    print(job.status())"
   ]
  },
  {
   "cell_type": "code",
   "execution_count": null,
   "id": "68c30417",
   "metadata": {},
   "outputs": [],
   "source": []
  }
 ],
 "metadata": {
  "has_local_update": false,
  "is_local": true,
  "is_remote": true,
  "kernelspec": {
   "display_name": "ocean_minimal",
   "language": "python",
   "name": "python3"
  },
  "language_info": {
   "codemirror_mode": {
    "name": "ipython",
    "version": 3
   },
   "file_extension": ".py",
   "mimetype": "text/x-python",
   "name": "python",
   "nbconvert_exporter": "python",
   "pygments_lexer": "ipython3",
   "version": "3.9.13"
  },
  "last_sync_time": "2023-01-30T19:28:53.684272",
  "vscode": {
   "interpreter": {
    "hash": "6636ae24e7fa6b0e29516d3a19dbd93f23481a8a9813f168e356902c7d4542b7"
   }
  }
 },
 "nbformat": 4,
 "nbformat_minor": 5
}
