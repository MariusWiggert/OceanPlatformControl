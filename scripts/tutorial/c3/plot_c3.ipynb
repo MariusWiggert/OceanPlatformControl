{
 "cells": [
  {
   "cell_type": "markdown",
   "metadata": {},
   "source": [
    "# Imports"
   ]
  },
  {
   "cell_type": "code",
   "execution_count": 225,
   "metadata": {
    "ExecuteTime": {
     "end_time": "2023-02-05T21:28:16.154641Z",
     "start_time": "2023-02-05T21:28:16.135583Z"
    }
   },
   "outputs": [
    {
     "name": "stdout",
     "output_type": "stream",
     "text": [
      "The autoreload extension is already loaded. To reload it, use:\n",
      "  %reload_ext autoreload\n"
     ]
    }
   ],
   "source": [
    "import os\n",
    "\n",
    "import pandas as pd\n",
    "import numpy as np\n",
    "import matplotlib.pyplot as plt\n",
    "import plotly.express as px\n",
    "import plotly\n",
    "import plotly.graph_objs as go\n",
    "import wandb\n",
    "\n",
    "from ocean_navigation_simulator.utils.misc import get_c3\n",
    "\n",
    "\n",
    "\n",
    "%load_ext autoreload\n",
    "%autoreload 2"
   ]
  },
  {
   "cell_type": "markdown",
   "metadata": {},
   "source": [
    "# Preparation"
   ]
  },
  {
   "cell_type": "markdown",
   "metadata": {},
   "source": [
    "### Get c3 object/hook"
   ]
  },
  {
   "cell_type": "code",
   "execution_count": 3,
   "metadata": {},
   "outputs": [
    {
     "name": "stdout",
     "output_type": "stream",
     "text": [
      "Starting to connect to c3\n"
     ]
    }
   ],
   "source": [
    "c3 = get_c3()"
   ]
  },
  {
   "cell_type": "markdown",
   "metadata": {},
   "source": [
    "### Get Experiment"
   ]
  },
  {
   "cell_type": "code",
   "execution_count": 430,
   "metadata": {
    "ExecuteTime": {
     "end_time": "2023-02-05T22:10:54.110120Z",
     "start_time": "2023-02-05T22:10:54.077370Z"
    }
   },
   "outputs": [],
   "source": [
    "experiment_name=\"HC_umax_0.5_30\"\n",
    "exp = c3.Experiment.get(experiment_name)"
   ]
  },
  {
   "cell_type": "code",
   "execution_count": 431,
   "metadata": {
    "ExecuteTime": {
     "end_time": "2023-02-05T22:10:54.133300Z",
     "start_time": "2023-02-05T22:10:54.111335Z"
    },
    "scrolled": true
   },
   "outputs": [
    {
     "data": {
      "text/plain": [
       "c3.Experiment(\n",
       " id='HC_umax_0.5_30',\n",
       " meta=c3.Meta(\n",
       "        tenantTagId=32,\n",
       "        tenant='seaweed-control',\n",
       "        tag='devseaweedrc1',\n",
       "        created=datetime.datetime(2023, 2, 3, 7, 58, 42, tzinfo=datetime.timezone.utc),\n",
       "        createdBy='killer@berkeley.edu',\n",
       "        updated=datetime.datetime(2023, 2, 3, 7, 58, 42, tzinfo=datetime.timezone.utc),\n",
       "        updatedBy='killer@berkeley.edu',\n",
       "        timestamp=datetime.datetime(2023, 2, 3, 7, 58, 42, tzinfo=datetime.timezone.utc),\n",
       "        fetchInclude='[]',\n",
       "        fetchType='Experiment'),\n",
       " version=1,\n",
       " experimentName='HC_umax_0.5_30',\n",
       " description='HC_umax_0.5_30',\n",
       " arenaConfig={'casadi_cache_dict': {'deg_around_x_t': 2.0,\n",
       "                                     'time_around_x_t': 432000},\n",
       "               'ocean_dict': {'forecast': None,\n",
       "                              'hindcast': {'field': 'OceanCurrents',\n",
       "                                           'source': 'hindcast_files',\n",
       "                                           'source_settings': {'folder': 'temp/hindcast/',\n",
       "                                                               'source': 'HYCOM',\n",
       "                                                               'type': 'hindcast'}},\n",
       "                              'keep_newest_days': 365,\n",
       "                              'region': 'Region 3'},\n",
       "               'platform_dict': {'battery_cap_in_wh': 400000.0,\n",
       "                                 'drag_factor': 675.0,\n",
       "                                 'dt_in_s': 600.0,\n",
       "                                 'motor_efficiency': 1.0,\n",
       "                                 'solar_efficiency': 1,\n",
       "                                 'solar_panel_size': 100,\n",
       "                                 'u_max_in_mps': 0.5},\n",
       "               'seaweed_dict': {'forecast': None,\n",
       "                                'hindcast': {'field': 'SeaweedGrowth',\n",
       "                                             'source': 'GEOMAR',\n",
       "                                             'source_settings': {'filepath': '/home/c3/.conda/adsdenvs/py-ocean_sim_matthias/lib/python3.9/site-packages/ocean_navigation_simulator/package_data/nutrients/'}}},\n",
       "               'solar_dict': {'forecast': None,\n",
       "                              'hindcast': {'field': 'SolarIrradiance',\n",
       "                                           'source': 'analytical_wo_caching',\n",
       "                                           'source_settings': {'boundary_buffer': [0.2,\n",
       "                                                                                   0.2],\n",
       "                                                               'spatial_resolution': 0.1,\n",
       "                                                               'temporal_domain': ['2020-01-01T00:00:00+00:00',\n",
       "                                                                                   '2023-01-10T00:00:00+00:00'],\n",
       "                                                               'temporal_resolution': 3600,\n",
       "                                                               'x_domain': [-180,\n",
       "                                                                            180],\n",
       "                                                               'y_domain': [-90,\n",
       "                                                                            90]}}},\n",
       "               'spatial_boundary': None,\n",
       "               'timeout': 2592000,\n",
       "               'use_geographic_coordinate_system': True},\n",
       " timeout_in_sec=2592000,\n",
       " objectiveConfig={'type': 'max_seaweed'},\n",
       " T_horizon_FC_Error_Calculation_in_h=96)"
      ]
     },
     "execution_count": 431,
     "metadata": {},
     "output_type": "execute_result"
    }
   ],
   "source": [
    "exp"
   ]
  },
  {
   "cell_type": "markdown",
   "metadata": {},
   "source": [
    "### Fetch all related OceanSimRuns"
   ]
  },
  {
   "cell_type": "markdown",
   "metadata": {},
   "source": [
    "Get all Missions"
   ]
  },
  {
   "cell_type": "code",
   "execution_count": 432,
   "metadata": {
    "ExecuteTime": {
     "end_time": "2023-02-05T22:10:54.316646Z",
     "start_time": "2023-02-05T22:10:54.134201Z"
    }
   },
   "outputs": [],
   "source": [
    "all_Missions = exp.get('expMissions').expMissions"
   ]
  },
  {
   "cell_type": "code",
   "execution_count": 433,
   "metadata": {
    "ExecuteTime": {
     "end_time": "2023-02-05T22:10:54.339257Z",
     "start_time": "2023-02-05T22:10:54.317892Z"
    }
   },
   "outputs": [
    {
     "data": {
      "text/plain": [
       "1000"
      ]
     },
     "execution_count": 433,
     "metadata": {},
     "output_type": "execute_result"
    }
   ],
   "source": [
    "len(all_Missions)"
   ]
  },
  {
   "cell_type": "markdown",
   "metadata": {},
   "source": [
    "Get all Controller"
   ]
  },
  {
   "cell_type": "code",
   "execution_count": 434,
   "metadata": {
    "ExecuteTime": {
     "end_time": "2023-02-05T22:10:54.383680Z",
     "start_time": "2023-02-05T22:10:54.340749Z"
    }
   },
   "outputs": [],
   "source": [
    "all_Controllers = exp.get('controllers').controllers\n",
    "ctrl_names = [ctrl.id[15:] for ctrl in all_Controllers]\n"
   ]
  },
  {
   "cell_type": "code",
   "execution_count": 435,
   "metadata": {
    "ExecuteTime": {
     "end_time": "2023-02-05T22:10:54.405463Z",
     "start_time": "2023-02-05T22:10:54.384944Z"
    }
   },
   "outputs": [
    {
     "data": {
      "text/plain": [
       "['SeaweedHJController']"
      ]
     },
     "execution_count": 435,
     "metadata": {},
     "output_type": "execute_result"
    }
   ],
   "source": [
    "ctrl_names"
   ]
  },
  {
   "cell_type": "markdown",
   "metadata": {},
   "source": [
    "Get all OceanSimRuns"
   ]
  },
  {
   "cell_type": "code",
   "execution_count": 436,
   "metadata": {
    "ExecuteTime": {
     "end_time": "2023-02-05T22:10:55.862163Z",
     "start_time": "2023-02-05T22:10:54.406440Z"
    }
   },
   "outputs": [],
   "source": [
    "# get all OceanSimRuns for each Controller\n",
    "OceanSimObj_lists = []\n",
    "# get the objects from the database\n",
    "for ctrl in all_Controllers:\n",
    "    # get the objects from the table\n",
    "    controller = 'controllerSetting==' + '\"' + ctrl.id + '\"'\n",
    "    status = ' && status ==' + '\"' + 'finished_running' + '\"'\n",
    "    #termination_reason = ' && terminationReason ==' + '\"' + 'Timeout' + '\"'\n",
    "    OceanSimObj_lists.append(c3.OceanSimRun.fetch(spec={'include': \"[this]\",\n",
    "                                         'filter': controller + status,\n",
    "                                         'order': \"ascending(mission.id)\"\n",
    "                                                       }\n",
    "                                   ).objs)"
   ]
  },
  {
   "cell_type": "code",
   "execution_count": 437,
   "metadata": {
    "ExecuteTime": {
     "end_time": "2023-02-05T22:10:55.885392Z",
     "start_time": "2023-02-05T22:10:55.863696Z"
    }
   },
   "outputs": [
    {
     "data": {
      "text/plain": [
       "996"
      ]
     },
     "execution_count": 437,
     "metadata": {},
     "output_type": "execute_result"
    }
   ],
   "source": [
    "len(OceanSimObj_lists[0])"
   ]
  },
  {
   "cell_type": "markdown",
   "metadata": {},
   "source": [
    "## Initialize WandB"
   ]
  },
  {
   "cell_type": "code",
   "execution_count": 450,
   "metadata": {
    "ExecuteTime": {
     "end_time": "2023-02-05T22:55:52.887725Z",
     "start_time": "2023-02-05T22:55:47.941617Z"
    },
    "code_folding": []
   },
   "outputs": [
    {
     "data": {
      "text/html": [
       "Waiting for W&B process to finish... <strong style=\"color:green\">(success).</strong>"
      ],
      "text/plain": [
       "<IPython.core.display.HTML object>"
      ]
     },
     "metadata": {},
     "output_type": "display_data"
    },
    {
     "data": {
      "text/html": [
       "Synced <strong style=\"color:#cdcd00\">Summary_seaweed_vs_umax_HJ_HC_days_30.0_deg_15_1.4_res_0.166_0.0833</strong>: <a href=\"https://wandb.ai/matthiaskiller/Long%20Horizon%20Seaweed%20Maximization/runs/Summary_seaweed_vs_umax_30_days_15deg_below_equator\" target=\"_blank\">https://wandb.ai/matthiaskiller/Long%20Horizon%20Seaweed%20Maximization/runs/Summary_seaweed_vs_umax_30_days_15deg_below_equator</a><br/>Synced 5 W&B file(s), 1 media file(s), 0 artifact file(s) and 0 other file(s)"
      ],
      "text/plain": [
       "<IPython.core.display.HTML object>"
      ]
     },
     "metadata": {},
     "output_type": "display_data"
    },
    {
     "data": {
      "text/html": [
       "Find logs at: <code>./wandb/run-20230205_215621-Summary_seaweed_vs_umax_30_days_15deg_below_equator/logs</code>"
      ],
      "text/plain": [
       "<IPython.core.display.HTML object>"
      ]
     },
     "metadata": {},
     "output_type": "display_data"
    }
   ],
   "source": [
    "wandb.join()"
   ]
  },
  {
   "cell_type": "code",
   "execution_count": 343,
   "metadata": {
    "ExecuteTime": {
     "end_time": "2023-02-05T21:56:07.401106Z",
     "start_time": "2023-02-05T21:56:07.363410Z"
    }
   },
   "outputs": [],
   "source": [
    "oceanSim = OceanSimObj_lists[0][0]\n",
    "### Prepare data for WandB\n",
    "ctrlConfig = oceanSim.controllerSetting.get(\"ctrlConfig\").ctrlConfig\n",
    "observerConfig = oceanSim.observerSetting.get(\"observerConfig\").observerConfig\n",
    "\n",
    "# Prepare variables for run naming\n",
    "\n",
    "# Planning horizon in days\n",
    "T_in_days = ctrlConfig[\"T_goal_in_seconds\"] / (24 * 3600)\n",
    "\n",
    "# Prepare string whether we use only HC or FC/HC\n",
    "if exp.arenaConfig[\"ocean_dict\"][\"forecast\"] is not None:\n",
    "    data_sources = \"FC_HC\"\n",
    "else:\n",
    "    data_sources = \"HC\"\n",
    "\n",
    "if (\n",
    "    ctrlConfig[\"ctrl_name\"]\n",
    "    == \"ocean_navigation_simulator.controllers.hj_planners.HJBSeaweed2DPlanner.HJBSeaweed2DPlanner\"\n",
    "):\n",
    "    ctrl_name = \"HJ\"\n",
    "else:\n",
    "    ctrl_name = \"undefined\"\n",
    "\n",
    "umax = exp.arenaConfig[\"platform_dict\"][\"u_max_in_mps\"]\n",
    "deg_around_xt_xT_box_global = ctrlConfig[\"deg_around_xt_xT_box_global\"]\n",
    "deg_around_xt_xT_box = ctrlConfig[\"deg_around_xt_xT_box\"]\n",
    "grid_res_global = ctrlConfig[\"grid_res_global\"]\n",
    "grid_res = ctrlConfig[\"grid_res\"]"
   ]
  },
  {
   "cell_type": "markdown",
   "metadata": {},
   "source": [
    "### For single expermiment"
   ]
  },
  {
   "cell_type": "code",
   "execution_count": 203,
   "metadata": {
    "ExecuteTime": {
     "end_time": "2023-02-05T10:29:02.059525Z",
     "start_time": "2023-02-05T10:29:00.331884Z"
    },
    "code_folding": []
   },
   "outputs": [
    {
     "data": {
      "text/html": [
       "wandb version 0.13.9 is available!  To upgrade, please run:\n",
       " $ pip install wandb --upgrade"
      ],
      "text/plain": [
       "<IPython.core.display.HTML object>"
      ]
     },
     "metadata": {},
     "output_type": "display_data"
    },
    {
     "data": {
      "text/html": [
       "Tracking run with wandb version 0.13.5"
      ],
      "text/plain": [
       "<IPython.core.display.HTML object>"
      ]
     },
     "metadata": {},
     "output_type": "display_data"
    },
    {
     "data": {
      "text/html": [
       "Run data is saved locally in <code>/home/c3/jupyter_root_dir/matthiask/wandb/run-20230205_102900-HC_umax_0.0_30</code>"
      ],
      "text/plain": [
       "<IPython.core.display.HTML object>"
      ]
     },
     "metadata": {},
     "output_type": "display_data"
    },
    {
     "data": {
      "text/html": [
       "Syncing run <strong><a href=\"https://wandb.ai/matthiaskiller/Long%20Horizon%20Seaweed%20Maximization/runs/HC_umax_0.0_30\" target=\"_blank\">Exp_summary_HC_umax_0.0_30_HJ_HC_days_30.0_u_0.0_deg_15_1.4_res_0.166_0.0833</a></strong> to <a href=\"https://wandb.ai/matthiaskiller/Long%20Horizon%20Seaweed%20Maximization\" target=\"_blank\">Weights & Biases</a> (<a href=\"https://wandb.me/run\" target=\"_blank\">docs</a>)<br/>"
      ],
      "text/plain": [
       "<IPython.core.display.HTML object>"
      ]
     },
     "metadata": {},
     "output_type": "display_data"
    },
    {
     "data": {
      "text/html": [
       "<button onClick=\"this.nextSibling.style.display='block';this.style.display='none';\">Display W&B run</button><iframe src=\"https://wandb.ai/matthiaskiller/Long%20Horizon%20Seaweed%20Maximization/runs/HC_umax_0.0_30?jupyter=true\" style=\"border:none;width:100%;height:420px;display:none;\"></iframe>"
      ],
      "text/plain": [
       "<wandb.sdk.wandb_run.Run at 0x7f6953e2e040>"
      ]
     },
     "execution_count": 203,
     "metadata": {},
     "output_type": "execute_result"
    }
   ],
   "source": [
    "# Log metrics in WandB\n",
    "os.environ[\"WANDB_API_KEY\"] = \"4c142c345dfc64f3c73aa1b2834989c7eb91efbe\"\n",
    "\n",
    "wandb.init(\n",
    "    # Set the project where this run will be logged\n",
    "    project=\"Long Horizon Seaweed Maximization\",\n",
    "    entity=\"matthiaskiller\",\n",
    "    id=exp.id,\n",
    "    # We pass a run name (otherwise it’ll be randomly assigned, like sunshine-lollypop-10)\n",
    "    name=f\"Exp_summary_{exp.id}_{ctrl_name}_{data_sources}_days_{T_in_days}_u_{umax}_deg_{deg_around_xt_xT_box_global}_{deg_around_xt_xT_box}_res_{grid_res_global}_{grid_res}\",\n",
    "    # Track hyperparameters and run metadata\n",
    "    config={\n",
    "        \"summary_log\": \"single_exp\",\n",
    "        \"arenaConfig\": exp.arenaConfig,\n",
    "        \"ctrlConfig\": ctrlConfig,\n",
    "        \"observerConfig\": observerConfig,\n",
    "        \"experiment.id\": exp.id,\n",
    "        # \"path_to_local_data\": user_param[\"metrics_dir\"],\n",
    "    },\n",
    ")"
   ]
  },
  {
   "cell_type": "markdown",
   "metadata": {},
   "source": [
    "### Summarizing multiple runs"
   ]
  },
  {
   "cell_type": "code",
   "execution_count": 344,
   "metadata": {
    "ExecuteTime": {
     "end_time": "2023-02-05T21:56:22.685870Z",
     "start_time": "2023-02-05T21:56:21.721521Z"
    }
   },
   "outputs": [
    {
     "data": {
      "text/html": [
       "wandb version 0.13.9 is available!  To upgrade, please run:\n",
       " $ pip install wandb --upgrade"
      ],
      "text/plain": [
       "<IPython.core.display.HTML object>"
      ]
     },
     "metadata": {},
     "output_type": "display_data"
    },
    {
     "data": {
      "text/html": [
       "Tracking run with wandb version 0.13.5"
      ],
      "text/plain": [
       "<IPython.core.display.HTML object>"
      ]
     },
     "metadata": {},
     "output_type": "display_data"
    },
    {
     "data": {
      "text/html": [
       "Run data is saved locally in <code>/home/c3/jupyter_root_dir/matthiask/wandb/run-20230205_215621-Summary_seaweed_vs_umax_30_days_15deg_below_equator</code>"
      ],
      "text/plain": [
       "<IPython.core.display.HTML object>"
      ]
     },
     "metadata": {},
     "output_type": "display_data"
    },
    {
     "data": {
      "text/html": [
       "Syncing run <strong><a href=\"https://wandb.ai/matthiaskiller/Long%20Horizon%20Seaweed%20Maximization/runs/Summary_seaweed_vs_umax_30_days_15deg_below_equator\" target=\"_blank\">Summary_seaweed_vs_umax_HJ_HC_days_30.0_deg_15_1.4_res_0.166_0.0833</a></strong> to <a href=\"https://wandb.ai/matthiaskiller/Long%20Horizon%20Seaweed%20Maximization\" target=\"_blank\">Weights & Biases</a> (<a href=\"https://wandb.me/run\" target=\"_blank\">docs</a>)<br/>"
      ],
      "text/plain": [
       "<IPython.core.display.HTML object>"
      ]
     },
     "metadata": {},
     "output_type": "display_data"
    },
    {
     "data": {
      "text/html": [
       "<button onClick=\"this.nextSibling.style.display='block';this.style.display='none';\">Display W&B run</button><iframe src=\"https://wandb.ai/matthiaskiller/Long%20Horizon%20Seaweed%20Maximization/runs/Summary_seaweed_vs_umax_30_days_15deg_below_equator?jupyter=true\" style=\"border:none;width:100%;height:420px;display:none;\"></iframe>"
      ],
      "text/plain": [
       "<wandb.sdk.wandb_run.Run at 0x7f6968a9a490>"
      ]
     },
     "execution_count": 344,
     "metadata": {},
     "output_type": "execute_result"
    }
   ],
   "source": [
    "# Log metrics in WandB\n",
    "os.environ[\"WANDB_API_KEY\"] = \"4c142c345dfc64f3c73aa1b2834989c7eb91efbe\"\n",
    "\n",
    "wandb.init(\n",
    "    # Set the project where this run will be logged\n",
    "    project=\"Long Horizon Seaweed Maximization\",\n",
    "    entity=\"matthiaskiller\",\n",
    "    id=\"Summary_seaweed_vs_umax_30_days_15deg_below_equator\",\n",
    "    # We pass a run name (otherwise it’ll be randomly assigned, like sunshine-lollypop-10)\n",
    "    name=f\"Summary_seaweed_vs_umax_{ctrl_name}_{data_sources}_days_{T_in_days}_deg_{deg_around_xt_xT_box_global}_{deg_around_xt_xT_box}_res_{grid_res_global}_{grid_res}\",\n",
    "    # Track hyperparameters and run metadata\n",
    "    config={\n",
    "        \"summary_log\": \"multiple_exp\",\n",
    "        #\"arenaConfig\": exp.arenaConfig,\n",
    "        \"ctrlConfig\": ctrlConfig,\n",
    "        \"observerConfig\": observerConfig,\n",
    "        #\"experiment.id\": exp.id,\n",
    "        # \"path_to_local_data\": user_param[\"metrics_dir\"],\n",
    "    },\n",
    ")"
   ]
  },
  {
   "cell_type": "markdown",
   "metadata": {},
   "source": [
    "# Pre-processing"
   ]
  },
  {
   "cell_type": "markdown",
   "metadata": {
    "heading_collapsed": true
   },
   "source": [
    "## Get maximum travel area"
   ]
  },
  {
   "cell_type": "code",
   "execution_count": 204,
   "metadata": {
    "ExecuteTime": {
     "end_time": "2023-02-05T10:29:38.706436Z",
     "start_time": "2023-02-05T10:29:38.689467Z"
    },
    "hidden": true
   },
   "outputs": [],
   "source": [
    "def get_maximum_dist(x_start, lon_list, lat_list):\n",
    "    max_lon = max([abs(x_start[0]-lon_list[0]),abs(x_start[0]-lon_list[1])])\n",
    "    max_lat = max([abs(x_start[1]-lat_list[0]),abs(x_start[1]-lat_list[1])])\n",
    "    return max_lon, max_lat"
   ]
  },
  {
   "cell_type": "code",
   "execution_count": 205,
   "metadata": {
    "ExecuteTime": {
     "end_time": "2023-02-05T10:31:34.449966Z",
     "start_time": "2023-02-05T10:29:40.060586Z"
    },
    "hidden": true
   },
   "outputs": [],
   "source": [
    "max_lon = 0\n",
    "max_lat = 0\n",
    "max_lon_id = None\n",
    "max_lat_id = None\n",
    "missions_over_ctrl_deg_max = []\n",
    "\n",
    "for run in OceanSimObj_lists[0]:\n",
    "    try:\n",
    "        trajectory = c3.HycomUtil.get_traj_dict(run, local_folder=\"tmp/test\")[\"sim_traj\"]\n",
    "        lon_list = [min(trajectory[:, 0]),max(trajectory[:, 0])]\n",
    "        lat_list = [min(trajectory[:, 1]),max(trajectory[:, 1])]\n",
    "        x_start = trajectory[0, :2]\n",
    "        curr_max_lon, curr_max_lat = get_maximum_dist(x_start, lon_list, lat_list)\n",
    "        \n",
    "        if max_lon < curr_max_lon:\n",
    "            max_lon = curr_max_lon\n",
    "            max_lon_id = run.mission.id\n",
    "\n",
    "        if max_lat < curr_max_lat:\n",
    "            max_lat = curr_max_lat\n",
    "            max_lat_id = run.mission.id\n",
    "        \n",
    "        if curr_max_lon > ctrlConfig[\"deg_around_xt_xT_box_global\"] or curr_max_lat > ctrlConfig[\"deg_around_xt_xT_box_global\"]:\n",
    "            missions_over_ctrl_deg_max.append(run.mission.id)\n",
    "        \n",
    "    except:\n",
    "        print(\"download error\")"
   ]
  },
  {
   "cell_type": "code",
   "execution_count": 206,
   "metadata": {
    "ExecuteTime": {
     "end_time": "2023-02-05T10:31:34.469545Z",
     "start_time": "2023-02-05T10:31:34.451710Z"
    },
    "hidden": true
   },
   "outputs": [
    {
     "name": "stdout",
     "output_type": "stream",
     "text": [
      "21.523308932071757\n",
      "9.125072382176711\n",
      "HC_umax_0.0_30_batch_seed_151_24\n",
      "HC_umax_0.0_30_batch_seed_158_10\n",
      "5\n"
     ]
    }
   ],
   "source": [
    "print(max_lon)\n",
    "print(max_lat)\n",
    "print(max_lon_id)\n",
    "print(max_lat_id)\n",
    "print(len(missions_over_ctrl_deg_max))\n"
   ]
  },
  {
   "cell_type": "code",
   "execution_count": 207,
   "metadata": {
    "ExecuteTime": {
     "end_time": "2023-02-05T10:31:34.489314Z",
     "start_time": "2023-02-05T10:31:34.470803Z"
    },
    "hidden": true
   },
   "outputs": [
    {
     "data": {
      "text/plain": [
       "['HC_umax_0.0_30_batch_seed_123_19',\n",
       " 'HC_umax_0.0_30_batch_seed_130_12',\n",
       " 'HC_umax_0.0_30_batch_seed_148_11',\n",
       " 'HC_umax_0.0_30_batch_seed_151_24',\n",
       " 'HC_umax_0.0_30_batch_seed_153_20']"
      ]
     },
     "execution_count": 207,
     "metadata": {},
     "output_type": "execute_result"
    }
   ],
   "source": [
    "missions_over_ctrl_deg_max"
   ]
  },
  {
   "cell_type": "markdown",
   "metadata": {
    "hidden": true
   },
   "source": [
    "Log to W&B"
   ]
  },
  {
   "cell_type": "code",
   "execution_count": 208,
   "metadata": {
    "ExecuteTime": {
     "end_time": "2023-02-05T10:31:34.512721Z",
     "start_time": "2023-02-05T10:31:34.491522Z"
    },
    "hidden": true
   },
   "outputs": [],
   "source": [
    "wandb.summary[\"max_degree_lon\"]=max_lon\n",
    "wandb.summary[\"max_degree_lat\"]=max_lat\n",
    "wandb.summary[\"max_degree_lon_mission_id\"]=max_lon_id\n",
    "wandb.summary[\"max_degree_lat_mission_id\"]=max_lat_id\n",
    "wandb.summary[\"missions_over_ctrl_deg_max\"]=missions_over_ctrl_deg_max"
   ]
  },
  {
   "cell_type": "markdown",
   "metadata": {
    "ExecuteTime": {
     "end_time": "2023-02-04T08:05:07.036602Z",
     "start_time": "2023-02-04T08:05:07.018673Z"
    },
    "heading_collapsed": true
   },
   "source": [
    "## Get all w/o stranded"
   ]
  },
  {
   "cell_type": "markdown",
   "metadata": {
    "hidden": true
   },
   "source": [
    "Get the last entry of the seaweed trajectory over all OceanSimRuns which didn't strand etc."
   ]
  },
  {
   "cell_type": "code",
   "execution_count": 209,
   "metadata": {
    "ExecuteTime": {
     "end_time": "2023-02-05T10:31:35.750142Z",
     "start_time": "2023-02-05T10:31:34.513980Z"
    },
    "hidden": true
   },
   "outputs": [],
   "source": [
    "# get all OceanSimRuns for each Controller\n",
    "OceanSimObj_lists_filtered = []\n",
    "# get the objects from the database\n",
    "for ctrl in all_Controllers:\n",
    "    # get the objects from the table\n",
    "    controller = 'controllerSetting==' + '\"' + ctrl.id + '\"'\n",
    "    status = ' && status ==' + '\"' + 'finished_running' + '\"'\n",
    "    termination_reason = ' && terminationReason ==' + '\"' + 'Timeout' + '\"'\n",
    "    OceanSimObj_lists_filtered.append(c3.OceanSimRun.fetch(spec={'include': \"[this]\",\n",
    "                                         'filter': controller + status + termination_reason,\n",
    "                                         'order': \"ascending(mission.id)\"\n",
    "                                                       }\n",
    "                                   ).objs)"
   ]
  },
  {
   "cell_type": "code",
   "execution_count": 210,
   "metadata": {
    "ExecuteTime": {
     "end_time": "2023-02-05T10:31:35.853556Z",
     "start_time": "2023-02-05T10:31:35.751297Z"
    },
    "hidden": true
   },
   "outputs": [
    {
     "data": {
      "text/plain": [
       "856"
      ]
     },
     "execution_count": 210,
     "metadata": {},
     "output_type": "execute_result"
    }
   ],
   "source": [
    "len(OceanSimObj_lists_filtered[0])"
   ]
  },
  {
   "cell_type": "code",
   "execution_count": 211,
   "metadata": {
    "ExecuteTime": {
     "end_time": "2023-02-05T10:32:58.694493Z",
     "start_time": "2023-02-05T10:31:35.854894Z"
    },
    "code_folding": [],
    "hidden": true
   },
   "outputs": [],
   "source": [
    "final_seaweed_list = []\n",
    "for run in OceanSimObj_lists_filtered[0]:\n",
    "    try:\n",
    "        trajectory = c3.HycomUtil.get_traj_dict(run, local_folder=\"tmp/test\")[\"sim_traj\"]\n",
    "        final_seaweed_list.append(trajectory[-1, 4])\n",
    "    except:\n",
    "        print(\"download error\")"
   ]
  },
  {
   "cell_type": "code",
   "execution_count": 212,
   "metadata": {
    "ExecuteTime": {
     "end_time": "2023-02-05T10:32:58.713272Z",
     "start_time": "2023-02-05T10:32:58.695959Z"
    },
    "hidden": true
   },
   "outputs": [
    {
     "data": {
      "text/plain": [
       "856"
      ]
     },
     "execution_count": 212,
     "metadata": {},
     "output_type": "execute_result"
    }
   ],
   "source": [
    "len(final_seaweed_list)"
   ]
  },
  {
   "cell_type": "code",
   "execution_count": 213,
   "metadata": {
    "ExecuteTime": {
     "end_time": "2023-02-05T10:32:58.736517Z",
     "start_time": "2023-02-05T10:32:58.714239Z"
    },
    "hidden": true
   },
   "outputs": [],
   "source": [
    "average_seaweed_end = np.mean(final_seaweed_list)"
   ]
  },
  {
   "cell_type": "code",
   "execution_count": 16,
   "metadata": {
    "ExecuteTime": {
     "end_time": "2023-02-04T06:42:49.147206Z",
     "start_time": "2023-02-04T06:42:49.130280Z"
    },
    "hidden": true
   },
   "outputs": [],
   "source": [
    "# final_seaweed_dict={\n",
    "#     \"0.0\": final_seaweed_list\n",
    "# }"
   ]
  },
  {
   "cell_type": "code",
   "execution_count": 110,
   "metadata": {
    "ExecuteTime": {
     "end_time": "2023-02-04T07:00:18.380318Z",
     "start_time": "2023-02-04T07:00:18.350648Z"
    },
    "hidden": true
   },
   "outputs": [],
   "source": [
    "final_seaweed_dict[\"0.5\"]=final_seaweed_list"
   ]
  },
  {
   "cell_type": "code",
   "execution_count": 141,
   "metadata": {
    "ExecuteTime": {
     "end_time": "2023-02-04T07:29:25.429581Z",
     "start_time": "2023-02-04T07:29:25.406844Z"
    },
    "hidden": true
   },
   "outputs": [
    {
     "name": "stdout",
     "output_type": "stream",
     "text": [
      "856\n",
      "791\n",
      "758\n",
      "742\n",
      "723\n",
      "712\n"
     ]
    }
   ],
   "source": [
    "for key,l in final_seaweed_dict.items():\n",
    "    print(len(l))"
   ]
  },
  {
   "cell_type": "code",
   "execution_count": 142,
   "metadata": {
    "ExecuteTime": {
     "end_time": "2023-02-04T07:29:27.657070Z",
     "start_time": "2023-02-04T07:29:27.634687Z"
    },
    "hidden": true
   },
   "outputs": [
    {
     "name": "stdout",
     "output_type": "stream",
     "text": [
      "82.79386040352566\n",
      "98.19124514951237\n",
      "112.81893668984839\n",
      "123.44466993899725\n",
      "131.92189745365357\n",
      "139.84294974869533\n"
     ]
    }
   ],
   "source": [
    "for key,l in final_seaweed_dict.items():\n",
    "    print(np.mean(l))"
   ]
  },
  {
   "cell_type": "markdown",
   "metadata": {
    "ExecuteTime": {
     "end_time": "2023-02-04T08:05:50.864442Z",
     "start_time": "2023-02-04T08:05:50.846560Z"
    }
   },
   "source": [
    "## Get depending on start position and w/o stranded"
   ]
  },
  {
   "cell_type": "code",
   "execution_count": 438,
   "metadata": {
    "ExecuteTime": {
     "end_time": "2023-02-05T22:10:56.987349Z",
     "start_time": "2023-02-05T22:10:55.886628Z"
    }
   },
   "outputs": [],
   "source": [
    "# get all OceanSimRuns for each Controller\n",
    "OceanSimObj_lists_filtered = []\n",
    "# get the objects from the database\n",
    "for ctrl in all_Controllers:\n",
    "    # get the objects from the table\n",
    "    controller = 'controllerSetting==' + '\"' + ctrl.id + '\"'\n",
    "    status = ' && status ==' + '\"' + 'finished_running' + '\"'\n",
    "    termination_reason = ' && terminationReason ==' + '\"' + 'Timeout' + '\"'\n",
    "    OceanSimObj_lists_filtered.append(c3.OceanSimRun.fetch(spec={'include': \"[this]\",\n",
    "                                         'filter': controller + status + termination_reason,\n",
    "                                         'order': \"ascending(mission.id)\"\n",
    "                                                       }\n",
    "                                   ).objs)"
   ]
  },
  {
   "cell_type": "code",
   "execution_count": 439,
   "metadata": {
    "ExecuteTime": {
     "end_time": "2023-02-05T22:10:57.011316Z",
     "start_time": "2023-02-05T22:10:56.988824Z"
    }
   },
   "outputs": [
    {
     "data": {
      "text/plain": [
       "712"
      ]
     },
     "execution_count": 439,
     "metadata": {},
     "output_type": "execute_result"
    }
   ],
   "source": [
    "len(OceanSimObj_lists_filtered[0])"
   ]
  },
  {
   "cell_type": "code",
   "execution_count": 440,
   "metadata": {
    "ExecuteTime": {
     "end_time": "2023-02-05T22:11:01.936533Z",
     "start_time": "2023-02-05T22:10:57.012796Z"
    }
   },
   "outputs": [],
   "source": [
    "OceanSimObj_lists_filtered_by_coords = []\n",
    "\n",
    "for run in OceanSimObj_lists_filtered[0]:\n",
    "    if run.mission.get(\"missionConfig\").missionConfig[\"x_0\"][0][\"lat\"] < 0:\n",
    "        OceanSimObj_lists_filtered_by_coords.append(run) "
   ]
  },
  {
   "cell_type": "code",
   "execution_count": 441,
   "metadata": {
    "ExecuteTime": {
     "end_time": "2023-02-05T22:11:01.960744Z",
     "start_time": "2023-02-05T22:11:01.937651Z"
    }
   },
   "outputs": [
    {
     "data": {
      "text/plain": [
       "458"
      ]
     },
     "execution_count": 441,
     "metadata": {},
     "output_type": "execute_result"
    }
   ],
   "source": [
    "len(OceanSimObj_lists_filtered_by_coords)"
   ]
  },
  {
   "cell_type": "code",
   "execution_count": 442,
   "metadata": {
    "ExecuteTime": {
     "end_time": "2023-02-05T22:11:48.912779Z",
     "start_time": "2023-02-05T22:11:01.961861Z"
    }
   },
   "outputs": [],
   "source": [
    "final_seaweed_list = []\n",
    "for run in OceanSimObj_lists_filtered_by_coords:\n",
    "    try:\n",
    "        trajectory = c3.HycomUtil.get_traj_dict(run, local_folder=\"tmp/test\")[\"sim_traj\"]\n",
    "        final_seaweed_list.append(trajectory[-1, 4])\n",
    "    except:\n",
    "        print(\"download error\")"
   ]
  },
  {
   "cell_type": "code",
   "execution_count": 443,
   "metadata": {
    "ExecuteTime": {
     "end_time": "2023-02-05T22:11:48.936807Z",
     "start_time": "2023-02-05T22:11:48.913909Z"
    }
   },
   "outputs": [
    {
     "data": {
      "text/plain": [
       "458"
      ]
     },
     "execution_count": 443,
     "metadata": {},
     "output_type": "execute_result"
    }
   ],
   "source": [
    "len(final_seaweed_list)"
   ]
  },
  {
   "cell_type": "code",
   "execution_count": 351,
   "metadata": {
    "ExecuteTime": {
     "end_time": "2023-02-05T21:57:14.616739Z",
     "start_time": "2023-02-05T21:57:14.573895Z"
    }
   },
   "outputs": [],
   "source": [
    "# final_seaweed_dict={\n",
    "#     \"0.0\": final_seaweed_list\n",
    "# }"
   ]
  },
  {
   "cell_type": "code",
   "execution_count": 444,
   "metadata": {
    "ExecuteTime": {
     "end_time": "2023-02-05T22:11:48.959188Z",
     "start_time": "2023-02-05T22:11:48.937964Z"
    }
   },
   "outputs": [],
   "source": [
    "final_seaweed_dict[\"0.5\"]=final_seaweed_list"
   ]
  },
  {
   "cell_type": "code",
   "execution_count": 445,
   "metadata": {
    "ExecuteTime": {
     "end_time": "2023-02-05T22:11:48.981122Z",
     "start_time": "2023-02-05T22:11:48.960490Z"
    }
   },
   "outputs": [
    {
     "name": "stdout",
     "output_type": "stream",
     "text": [
      "469\n",
      "489\n",
      "498\n",
      "489\n",
      "473\n",
      "458\n"
     ]
    }
   ],
   "source": [
    "for key,l in final_seaweed_dict.items():\n",
    "    print(len(l))"
   ]
  },
  {
   "cell_type": "code",
   "execution_count": 446,
   "metadata": {
    "ExecuteTime": {
     "end_time": "2023-02-05T22:11:49.003374Z",
     "start_time": "2023-02-05T22:11:48.982182Z"
    }
   },
   "outputs": [
    {
     "name": "stdout",
     "output_type": "stream",
     "text": [
      "103.43513286645249\n",
      "117.89005076450948\n",
      "129.48094820521334\n",
      "138.38188122609372\n",
      "144.33082988853127\n",
      "150.19306730120613\n"
     ]
    }
   ],
   "source": [
    "for key,l in final_seaweed_dict.items():\n",
    "    print(np.mean(l))"
   ]
  },
  {
   "cell_type": "markdown",
   "metadata": {},
   "source": [
    "# Plotting"
   ]
  },
  {
   "cell_type": "markdown",
   "metadata": {
    "heading_collapsed": true
   },
   "source": [
    "### Matplotlib"
   ]
  },
  {
   "cell_type": "code",
   "execution_count": 163,
   "metadata": {
    "ExecuteTime": {
     "end_time": "2023-02-04T07:40:07.084392Z",
     "start_time": "2023-02-04T07:40:06.915143Z"
    },
    "hidden": true
   },
   "outputs": [
    {
     "data": {
      "image/png": "[encoded data removed]",
      "text/plain": [
       "<Figure size 640x480 with 1 Axes>"
      ]
     },
     "metadata": {},
     "output_type": "display_data"
    }
   ],
   "source": [
    "# Create a box plot of the values in the dictionary\n",
    "plt.boxplot([final_seaweed_dict[key] for key in final_seaweed_dict.keys()], labels=final_seaweed_dict.keys())\n",
    "\n",
    "# Calculate the mean of each item in the dictionary\n",
    "mean = [np.mean(final_seaweed_dict[key]) for key in final_seaweed_dict.keys()]\n",
    "\n",
    "## Add a scatter plot for the mean\n",
    "# plt.scatter(x=list(final_seaweed_dict.keys()), y=mean, color='red')\n",
    "\n",
    "\n",
    "# Label the y-axis\n",
    "plt.ylabel('Seaweed mass')\n",
    "plt.xlabel('umax')\n",
    "\n",
    "# Show the plot\n",
    "plt.show()"
   ]
  },
  {
   "cell_type": "markdown",
   "metadata": {},
   "source": [
    "### Plotly"
   ]
  },
  {
   "cell_type": "code",
   "execution_count": 448,
   "metadata": {
    "ExecuteTime": {
     "end_time": "2023-02-05T22:42:27.576837Z",
     "start_time": "2023-02-05T22:42:27.493863Z"
    }
   },
   "outputs": [],
   "source": [
    "# Convert the dictionary to a pandas DataFrame\n",
    "df = pd.DataFrame.from_dict(final_seaweed_dict, orient='index').transpose()\n",
    "\n",
    "# Create a box plot in Plotly\n",
    "fig = px.box(df)\n",
    "\n",
    "fig.update_layout(xaxis_title=\"u_max\", yaxis_title=\"Seaweed mass\", title=\"Seaweed mass vs u_max\")\n",
    "\n",
    "\n",
    "mean_trace = go.Scatter(\n",
    "    x=df.columns,\n",
    "    y=df.mean(),\n",
    "    mode='lines',\n",
    "    line=dict(color='green', width=2),\n",
    "    showlegend=True,\n",
    "    name=\"mean\"\n",
    ")\n",
    "\n",
    "fig.add_trace(mean_trace)\n",
    "\n",
    "fig.write_html(\"seaweed_vs_umax_old.html\")\n",
    "\n",
    "#fig.show()\n",
    "\n"
   ]
  },
  {
   "cell_type": "code",
   "execution_count": 449,
   "metadata": {
    "ExecuteTime": {
     "end_time": "2023-02-05T22:42:54.193548Z",
     "start_time": "2023-02-05T22:42:54.156846Z"
    }
   },
   "outputs": [],
   "source": [
    "wandb.log({\"seaweed_vs_umax_plotly\": fig})"
   ]
  },
  {
   "cell_type": "markdown",
   "metadata": {},
   "source": [
    "# Summary Logging"
   ]
  },
  {
   "cell_type": "markdown",
   "metadata": {
    "heading_collapsed": true
   },
   "source": [
    "## Summarize single experiment and compute results over all its missions"
   ]
  },
  {
   "cell_type": "code",
   "execution_count": 214,
   "metadata": {
    "ExecuteTime": {
     "end_time": "2023-02-05T10:32:58.754319Z",
     "start_time": "2023-02-05T10:32:58.738447Z"
    },
    "hidden": true
   },
   "outputs": [],
   "source": [
    "wandb.summary[\"average_seaweed_mass_end\"] = average_seaweed_end"
   ]
  },
  {
   "cell_type": "code",
   "execution_count": 215,
   "metadata": {
    "ExecuteTime": {
     "end_time": "2023-02-05T10:32:58.922442Z",
     "start_time": "2023-02-05T10:32:58.755697Z"
    },
    "hidden": true
   },
   "outputs": [],
   "source": [
    "all_Missions = exp.get('expMissions').expMissions"
   ]
  },
  {
   "cell_type": "markdown",
   "metadata": {
    "hidden": true
   },
   "source": [
    "Check if all simulations finshed properly"
   ]
  },
  {
   "cell_type": "code",
   "execution_count": 216,
   "metadata": {
    "ExecuteTime": {
     "end_time": "2023-02-05T10:33:00.345523Z",
     "start_time": "2023-02-05T10:32:58.923635Z"
    },
    "hidden": true
   },
   "outputs": [
    {
     "name": "stdout",
     "output_type": "stream",
     "text": [
      "Total of 1000 OceanSimRuns\n",
      "staged_to_run:  0\n",
      "running_sim:  1\n",
      "finished_running:  999\n",
      "run_failed:  0\n"
     ]
    }
   ],
   "source": [
    "experiment = 'mission.experiment.id==' + '\"' + exp.id + '\"'\n",
    "objs_list = c3.OceanSimRun.fetch(spec={'include': \"[this]\",'filter':  experiment}).objs\n",
    "print(\"Total of {} OceanSimRuns\".format(len(objs_list)))\n",
    "\n",
    "staged_to_run = 0\n",
    "running_sim = 0\n",
    "finished_running = 0\n",
    "run_failed = 0\n",
    "for run in objs_list:\n",
    "    if run.status == 'staged_to_run':\n",
    "        staged_to_run += 1\n",
    "    elif run.status == 'running_sim':\n",
    "        running_sim += 1\n",
    "    elif run.status == 'finished_running':\n",
    "        finished_running += 1\n",
    "    elif run.status == 'run_failed':\n",
    "        run_failed += 1\n",
    "\n",
    "print(\"staged_to_run: \", staged_to_run)\n",
    "print(\"running_sim: \", running_sim)\n",
    "print(\"finished_running: \", finished_running)\n",
    "print(\"run_failed: \", run_failed)"
   ]
  },
  {
   "cell_type": "markdown",
   "metadata": {
    "hidden": true
   },
   "source": [
    "### Accessing variables on the OceanSimRun level (e.g. status, terminationReason)"
   ]
  },
  {
   "cell_type": "code",
   "execution_count": 217,
   "metadata": {
    "ExecuteTime": {
     "end_time": "2023-02-05T10:33:00.371653Z",
     "start_time": "2023-02-05T10:33:00.352127Z"
    },
    "code_folding": [],
    "hidden": true
   },
   "outputs": [],
   "source": [
    "import pandas as pd\n",
    "def get_results_df(this):\n",
    "    # get all runs from the database (NOTE this can only get 2000 at a time!)\n",
    "    exp_filter = 'mission.experiment.id==' + '\"' + this.get('experimentName').experimentName + '\"'\n",
    "    all_exp_runs = c3.OceanSimRun.fetch(spec={'include': \"[this]\",\n",
    "                                              'filter': exp_filter,\n",
    "                                              'order': \"ascending(mission.id)\",\n",
    "                                              'limit': -1\n",
    "                                             }).objs\n",
    "    # get a list of all termination reasons\n",
    "    termination_reason = []\n",
    "    status = []\n",
    "    ctrl_obs_name = []\n",
    "    mission_ids = []\n",
    "\n",
    "    for run in all_exp_runs:\n",
    "        # get mission_id\n",
    "        mission_ids.append(run.get('mission').mission.id)\n",
    "        # get ctrl_obs setting\n",
    "        ctrl_obs_name.append(run.get('controllerSetting.name').controllerSetting.name + '__' + run.get('observerSetting.name').observerSetting.name)\n",
    "        # add outcomes\n",
    "        termination_reason.append(run.terminationReason)\n",
    "        status.append(run.status)\n",
    "        \n",
    "    # Make a df out of it\n",
    "    df = pd.DataFrame(list(zip(mission_ids, ctrl_obs_name, status, termination_reason)),\n",
    "                      columns=['mission_id', 'setting', 'status', 'termination_reason'])\n",
    "    \n",
    "    return df"
   ]
  },
  {
   "cell_type": "code",
   "execution_count": 218,
   "metadata": {
    "ExecuteTime": {
     "end_time": "2023-02-05T10:33:27.547998Z",
     "start_time": "2023-02-05T10:33:00.373039Z"
    },
    "hidden": true
   },
   "outputs": [],
   "source": [
    "missions_summary_df = get_results_df(exp)"
   ]
  },
  {
   "cell_type": "code",
   "execution_count": 219,
   "metadata": {
    "ExecuteTime": {
     "end_time": "2023-02-05T10:33:27.572502Z",
     "start_time": "2023-02-05T10:33:27.549645Z"
    },
    "hidden": true
   },
   "outputs": [
    {
     "data": {
      "text/html": [
       "<div>\n",
       "<style scoped>\n",
       "    .dataframe tbody tr th:only-of-type {\n",
       "        vertical-align: middle;\n",
       "    }\n",
       "\n",
       "    .dataframe tbody tr th {\n",
       "        vertical-align: top;\n",
       "    }\n",
       "\n",
       "    .dataframe thead th {\n",
       "        text-align: right;\n",
       "    }\n",
       "</style>\n",
       "<table border=\"1\" class=\"dataframe\">\n",
       "  <thead>\n",
       "    <tr style=\"text-align: right;\">\n",
       "      <th></th>\n",
       "      <th>mission_id</th>\n",
       "      <th>setting</th>\n",
       "      <th>status</th>\n",
       "      <th>termination_reason</th>\n",
       "    </tr>\n",
       "  </thead>\n",
       "  <tbody>\n",
       "    <tr>\n",
       "      <th>0</th>\n",
       "      <td>HC_umax_0.0_30_batch_seed_122_0</td>\n",
       "      <td>SeaweedHJController__NoObserver</td>\n",
       "      <td>finished_running</td>\n",
       "      <td>Timeout</td>\n",
       "    </tr>\n",
       "    <tr>\n",
       "      <th>1</th>\n",
       "      <td>HC_umax_0.0_30_batch_seed_122_1</td>\n",
       "      <td>SeaweedHJController__NoObserver</td>\n",
       "      <td>finished_running</td>\n",
       "      <td>Outside Arena</td>\n",
       "    </tr>\n",
       "    <tr>\n",
       "      <th>2</th>\n",
       "      <td>HC_umax_0.0_30_batch_seed_122_10</td>\n",
       "      <td>SeaweedHJController__NoObserver</td>\n",
       "      <td>finished_running</td>\n",
       "      <td>Timeout</td>\n",
       "    </tr>\n",
       "    <tr>\n",
       "      <th>3</th>\n",
       "      <td>HC_umax_0.0_30_batch_seed_122_11</td>\n",
       "      <td>SeaweedHJController__NoObserver</td>\n",
       "      <td>finished_running</td>\n",
       "      <td>Timeout</td>\n",
       "    </tr>\n",
       "    <tr>\n",
       "      <th>4</th>\n",
       "      <td>HC_umax_0.0_30_batch_seed_122_12</td>\n",
       "      <td>SeaweedHJController__NoObserver</td>\n",
       "      <td>finished_running</td>\n",
       "      <td>Timeout</td>\n",
       "    </tr>\n",
       "  </tbody>\n",
       "</table>\n",
       "</div>"
      ],
      "text/plain": [
       "                         mission_id                          setting  \\\n",
       "0   HC_umax_0.0_30_batch_seed_122_0  SeaweedHJController__NoObserver   \n",
       "1   HC_umax_0.0_30_batch_seed_122_1  SeaweedHJController__NoObserver   \n",
       "2  HC_umax_0.0_30_batch_seed_122_10  SeaweedHJController__NoObserver   \n",
       "3  HC_umax_0.0_30_batch_seed_122_11  SeaweedHJController__NoObserver   \n",
       "4  HC_umax_0.0_30_batch_seed_122_12  SeaweedHJController__NoObserver   \n",
       "\n",
       "             status termination_reason  \n",
       "0  finished_running            Timeout  \n",
       "1  finished_running      Outside Arena  \n",
       "2  finished_running            Timeout  \n",
       "3  finished_running            Timeout  \n",
       "4  finished_running            Timeout  "
      ]
     },
     "execution_count": 219,
     "metadata": {},
     "output_type": "execute_result"
    }
   ],
   "source": [
    "missions_summary_df.head()"
   ]
  },
  {
   "cell_type": "code",
   "execution_count": 220,
   "metadata": {
    "ExecuteTime": {
     "end_time": "2023-02-05T10:33:28.321303Z",
     "start_time": "2023-02-05T10:33:27.574220Z"
    },
    "hidden": true
   },
   "outputs": [],
   "source": [
    "missions_summary_table = wandb.Table(dataframe=missions_summary_df)\n",
    "wandb.log({\"Missions Summary\": missions_summary_table})"
   ]
  },
  {
   "cell_type": "code",
   "execution_count": 221,
   "metadata": {
    "ExecuteTime": {
     "end_time": "2023-02-05T10:33:28.345110Z",
     "start_time": "2023-02-05T10:33:28.322432Z"
    },
    "hidden": true
   },
   "outputs": [
    {
     "data": {
      "text/plain": [
       "setting                          status          \n",
       "SeaweedHJController__NoObserver  finished_running    999\n",
       "                                 running_sim           1\n",
       "Name: status, dtype: int64"
      ]
     },
     "execution_count": 221,
     "metadata": {},
     "output_type": "execute_result"
    }
   ],
   "source": [
    "missions_summary_df.groupby('setting').status.value_counts()"
   ]
  },
  {
   "cell_type": "code",
   "execution_count": 222,
   "metadata": {
    "ExecuteTime": {
     "end_time": "2023-02-05T10:33:28.467496Z",
     "start_time": "2023-02-05T10:33:28.346274Z"
    },
    "hidden": true
   },
   "outputs": [],
   "source": [
    "termination_dict = missions_summary_df.groupby('setting').termination_reason.value_counts(normalize=True).to_dict()\n",
    "termination_dict = {key[1]: value for key, value in termination_dict.items()}\n",
    "termination_df = pd.DataFrame(termination_dict,index=[0])\n",
    "termination_table = wandb.Table(dataframe=termination_df)\n",
    "wandb.log({\"Termination Summary\": termination_table})"
   ]
  },
  {
   "cell_type": "code",
   "execution_count": 223,
   "metadata": {
    "ExecuteTime": {
     "end_time": "2023-02-05T10:33:28.595208Z",
     "start_time": "2023-02-05T10:33:28.468692Z"
    },
    "hidden": true
   },
   "outputs": [],
   "source": [
    "status_dict = missions_summary_df.groupby('setting').status.value_counts().to_dict()\n",
    "status_dict = {key[1]: value for key, value in status_dict.items()}\n",
    "status_df = pd.DataFrame(status_dict,index=[0])\n",
    "status_table = wandb.Table(dataframe=status_df)\n",
    "wandb.log({\"Status Summary\": status_table})"
   ]
  },
  {
   "cell_type": "code",
   "execution_count": null,
   "metadata": {
    "hidden": true
   },
   "outputs": [],
   "source": []
  }
 ],
 "metadata": {
  "has_local_update": true,
  "is_local": true,
  "is_remote": true,
  "kernelspec": {
   "display_name": "py-ocean_sim_matthias",
   "language": "Python",
   "name": "py-ocean_sim_matthias"
  },
  "language_info": {
   "codemirror_mode": {
    "name": "ipython",
    "version": 3
   },
   "file_extension": ".py",
   "mimetype": "text/x-python",
   "name": "python",
   "nbconvert_exporter": "python",
   "pygments_lexer": "ipython3",
   "version": "3.9.16"
  },
  "last_sync_time": "2023-02-06T19:52:17.361684",
  "vscode": {
   "interpreter": {
    "hash": "6636ae24e7fa6b0e29516d3a19dbd93f23481a8a9813f168e356902c7d4542b7"
   }
  }
 },
 "nbformat": 4,
 "nbformat_minor": 2
}
