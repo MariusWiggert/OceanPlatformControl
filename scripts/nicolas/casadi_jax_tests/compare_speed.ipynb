{
 "cells": [
  {
   "cell_type": "code",
   "execution_count": 1,
   "metadata": {},
   "outputs": [
    {
     "name": "stdout",
     "output_type": "stream",
     "text": [
      "/home/nicolas/documents/Master_Thesis_repo/OceanPlatformControl\n"
     ]
    }
   ],
   "source": [
    "from dataclasses import dataclass\n",
    "import casadi as ca\n",
    "import numpy as np\n",
    "import time\n",
    "import math\n",
    "from typing import Dict, Optional\n",
    "import logging\n",
    "import datetime\n",
    "import timeit\n",
    "from tqdm import tqdm\n",
    "\n",
    "from ocean_navigation_simulator.data_sources import OceanCurrentSource\n",
    "from ocean_navigation_simulator.data_sources.SolarIrradiance.SolarIrradianceSource import SolarIrradianceSource\n",
    "from ocean_navigation_simulator.data_sources.SeaweedGrowth.SeaweedGrowthSource import SeaweedGrowthSource\n",
    "from ocean_navigation_simulator.utils import units\n",
    "from ocean_navigation_simulator.environment.PlatformState import PlatformState\n",
    "from ocean_navigation_simulator.environment.PlatformState import SpatialPoint\n",
    "from ocean_navigation_simulator.environment.ArenaFactory import ArenaFactory\n",
    "from ocean_navigation_simulator.environment.NavigationProblem import NavigationProblem\n",
    "from ocean_navigation_simulator.controllers.hj_planners.HJReach2DPlanner import HJReach2DPlanner\n",
    "from ocean_navigation_simulator.utils import units\n",
    "import matplotlib.pyplot as plt\n",
    "import os\n",
    "os.chdir('/home/nicolas/documents/Master_Thesis_repo/OceanPlatformControl')\n",
    "print(os.getcwd())"
   ]
  },
  {
   "cell_type": "markdown",
   "metadata": {},
   "source": [
    "+ Create 4 Platforms as usual using the `PlatformState` class "
   ]
  },
  {
   "cell_type": "code",
   "execution_count": 2,
   "metadata": {},
   "outputs": [],
   "source": [
    "x_0_1 = PlatformState(lon=units.Distance(deg=-82.5), lat=units.Distance(deg=23.7),\n",
    "                    date_time=datetime.datetime(2021, 11, 24, 12, 0, tzinfo=datetime.timezone.utc))\n",
    "x_0_2 = PlatformState(lon=units.Distance(deg=-82.6), lat=units.Distance(deg=23.8),\n",
    "                    date_time=datetime.datetime(2021, 11, 24, 12, 0, tzinfo=datetime.timezone.utc))\n",
    "x_0_3 = PlatformState(lon=units.Distance(deg=-82.4), lat=units.Distance(deg=23.6),\n",
    "                    date_time=datetime.datetime(2021, 11, 24, 12, 0, tzinfo=datetime.timezone.utc))\n",
    "x_0_4 = PlatformState(lon=units.Distance(deg=-82.4), lat=units.Distance(deg=23.7),\n",
    "                    date_time=datetime.datetime(2021, 11, 24, 12, 0, tzinfo=datetime.timezone.utc))"
   ]
  },
  {
   "cell_type": "markdown",
   "metadata": {},
   "source": [
    "Create a first implementation version of PlatformStateSet"
   ]
  },
  {
   "cell_type": "code",
   "execution_count": 3,
   "metadata": {},
   "outputs": [],
   "source": [
    "from typing import List\n",
    "import dataclasses\n",
    "from dataclasses import astuple\n",
    "@dataclasses.dataclass\n",
    "class PlatformStateSet_v1:\n",
    "    states:List[PlatformState]\n",
    "\n",
    "    def __array__(self):\n",
    "        return np.array(self.states) #rows are the number of platforms\n",
    "\n",
    "    def __len__(self):\n",
    "        return len(self.states)\n",
    "\n",
    "    def __getitem__(self, platform_id):\n",
    "        return np.array(self.states[platform_id])"
   ]
  },
  {
   "cell_type": "markdown",
   "metadata": {},
   "source": [
    "Second version of platform state set, states directly stored as numpy array (->useful for Casadi) and implement methods to convert to list (for example if we would run HJ)"
   ]
  },
  {
   "cell_type": "code",
   "execution_count": 4,
   "metadata": {},
   "outputs": [],
   "source": [
    "@dataclasses.dataclass\n",
    "class PlatformStateSet_v2:\n",
    "    states: np.array # by definition rows:#platforms and columns lon,lat etc.\n",
    "\n",
    "    def get_list_platform_state(self):\n",
    "        return [PlatformState.from_numpy(self.states[id,:]) for id in range(self.states.shape[0])] \n",
    "\n",
    "    def get_platform_state_from_id(self, id):\n",
    "        return PlatformState.from_numpy(self.states[id,:])"
   ]
  },
  {
   "cell_type": "markdown",
   "metadata": {},
   "source": [
    "Time it to get a numpy array (row = states, col = platform id)"
   ]
  },
  {
   "cell_type": "code",
   "execution_count": 5,
   "metadata": {},
   "outputs": [
    {
     "name": "stdout",
     "output_type": "stream",
     "text": [
      "7.92 µs ± 288 ns per loop (mean ± std. dev. of 7 runs, 100,000 loops each)\n",
      "9.69 µs ± 471 ns per loop (mean ± std. dev. of 7 runs, 100,000 loops each)\n"
     ]
    }
   ],
   "source": [
    "x_set_v1 = PlatformStateSet_v1(states=[x_0_1, x_0_2])\n",
    "%timeit np.array(x_set_v1)\n",
    "x_set_v2 = PlatformStateSet_v2(states = np.array(x_set_v1))\n",
    "%timeit x_set_v2.get_list_platform_state()"
   ]
  },
  {
   "cell_type": "markdown",
   "metadata": {},
   "source": [
    "Increase it to 4 platforms"
   ]
  },
  {
   "cell_type": "code",
   "execution_count": 6,
   "metadata": {},
   "outputs": [
    {
     "name": "stdout",
     "output_type": "stream",
     "text": [
      "13.6 µs ± 142 ns per loop (mean ± std. dev. of 7 runs, 100,000 loops each)\n",
      "17.4 µs ± 1.69 µs per loop (mean ± std. dev. of 7 runs, 100,000 loops each)\n"
     ]
    }
   ],
   "source": [
    "x_set_v1 = PlatformStateSet_v1(states=[x_0_1, x_0_2,x_0_3, x_0_4])\n",
    "%timeit np.array(x_set_v1)\n",
    "x_set_v2 = PlatformStateSet_v2(states = np.array(x_set_v1))\n",
    "%timeit x_set_v2.get_list_platform_state()"
   ]
  },
  {
   "cell_type": "markdown",
   "metadata": {},
   "source": [
    "Scale this up in terms of platforms:"
   ]
  },
  {
   "cell_type": "markdown",
   "metadata": {},
   "source": [
    "Define a function to generate (randomly) platform samples"
   ]
  },
  {
   "cell_type": "code",
   "execution_count": 7,
   "metadata": {},
   "outputs": [],
   "source": [
    "def rand_platforms(nb_platforms):\n",
    "    lon = np.random.uniform(low=-83.5, high=-83, size=(nb_platforms,))\n",
    "    lat = np.random.uniform(low=23, high=23.5, size=(nb_platforms,))\n",
    "    id = np.arange(start=1, stop=nb_platforms+1, step=1)\n",
    "    t = np.repeat(datetime.datetime(2021, 11, 24, 12, 0, tzinfo=datetime.timezone.utc), nb_platforms)\n",
    "    return lon,lat,id,t\n"
   ]
  },
  {
   "cell_type": "code",
   "execution_count": 8,
   "metadata": {},
   "outputs": [],
   "source": [
    "nb_platforms = 50\n",
    "lon,lat,id,t = rand_platforms(nb_platforms)\n",
    "platforms_list = [PlatformState(lon=units.Distance(deg=lon[k]), lat=units.Distance(deg=lat[k]), date_time=t[k]) \\\n",
    "                 for k in range(nb_platforms)]"
   ]
  },
  {
   "cell_type": "code",
   "execution_count": 9,
   "metadata": {},
   "outputs": [
    {
     "name": "stdout",
     "output_type": "stream",
     "text": [
      "170 µs ± 14.8 µs per loop (mean ± std. dev. of 7 runs, 10,000 loops each)\n",
      "227 µs ± 34 µs per loop (mean ± std. dev. of 7 runs, 1,000 loops each)\n"
     ]
    }
   ],
   "source": [
    "x_set_v1 = PlatformStateSet_v1(states=platforms_list)\n",
    "%timeit np.array(x_set_v1)\n",
    "x_set_v2 = PlatformStateSet_v2(states = np.array(x_set_v1))\n",
    "%timeit x_set_v2.get_list_platform_state()"
   ]
  },
  {
   "cell_type": "markdown",
   "metadata": {},
   "source": [
    "Compare to the time if we only extract one platform state:"
   ]
  },
  {
   "cell_type": "code",
   "execution_count": 10,
   "metadata": {},
   "outputs": [
    {
     "name": "stdout",
     "output_type": "stream",
     "text": [
      "61.6 ns ± 0.894 ns per loop (mean ± std. dev. of 7 runs, 10,000,000 loops each)\n",
      "3.92 µs ± 59.1 ns per loop (mean ± std. dev. of 7 runs, 100,000 loops each)\n"
     ]
    }
   ],
   "source": [
    "plat_id= np.random.randint(low=1,high=nb_platforms)\n",
    "%timeit x_set_v1.states[plat_id]\n",
    "%timeit x_set_v2.get_platform_state_from_id(plat_id)"
   ]
  },
  {
   "cell_type": "markdown",
   "metadata": {},
   "source": [
    "**Conclusion**: Implementation v1 generally faster to get an array, especially for many platforms. The largest difference can be seen, if we want to extract a PlatformState element, the if we store it as a list of PlatformStates (v1), it is much faster than the array version where we need to call `from_numpy` method of PlatformState"
   ]
  },
  {
   "cell_type": "markdown",
   "metadata": {},
   "source": [
    "# Compare speed of casadi vectorization for multi-agent vs single platform: \n",
    "\n",
    "First start to initialize the scenario and to set up the ocean source environment"
   ]
  },
  {
   "cell_type": "code",
   "execution_count": 11,
   "metadata": {},
   "outputs": [
    {
     "name": "stderr",
     "output_type": "stream",
     "text": [
      "INFO:arena.ocean_field:DataField: Create Hindcast Source (22.0s)\n",
      "INFO:arena.ocean_field:DataField: Forecast is the same as Hindcast for OceanCurrents.\n"
     ]
    }
   ],
   "source": [
    "from ocean_navigation_simulator.data_sources.OceanCurrentField import OceanCurrentField\n",
    "from ocean_navigation_simulator.data_sources.SeaweedGrowthField import SeaweedGrowthField\n",
    "from ocean_navigation_simulator.data_sources.SolarIrradianceField import SolarIrradianceField\n",
    "from typing import Dict, Optional, Union, Tuple, List, AnyStr, Literal, Callable\n",
    "import yaml\n",
    "\n",
    "scenario_name = 'gulf_of_mexico_HYCOM_hindcast_local'\n",
    "with open(f'config/arena/{scenario_name}.yaml') as f:\n",
    "    config = yaml.load(f, Loader=yaml.FullLoader)\n",
    "casadi_cache_dict=config['casadi_cache_dict']\n",
    "platform_dict=config['platform_dict']\n",
    "ocean_dict= config['ocean_dict']\n",
    "use_geographic_coordinate_system=config['use_geographic_coordinate_system']\n",
    "spatial_boundary=config['spatial_boundary']\n",
    "\n",
    "ocean_field = OceanCurrentField(\n",
    "    casadi_cache_dict=casadi_cache_dict,\n",
    "    hindcast_source_dict=ocean_dict['hindcast'],\n",
    "    forecast_source_dict=ocean_dict['forecast'],\n",
    "    use_geographic_coordinate_system=use_geographic_coordinate_system)\n",
    "\n",
    "ocean_source = ocean_field.hindcast_data_source"
   ]
  },
  {
   "cell_type": "markdown",
   "metadata": {},
   "source": [
    "Define a `PlatformActionSet` class and define a function to generate random actions"
   ]
  },
  {
   "cell_type": "code",
   "execution_count": 12,
   "metadata": {},
   "outputs": [],
   "source": [
    "from ocean_navigation_simulator.environment.Platform import Platform, PlatformAction\n",
    "@dataclasses.dataclass\n",
    "class PlatformActionSet:\n",
    "    action_set: List[PlatformAction]\n",
    "\n",
    "    def __array__(self):\n",
    "        return np.array(self.action_set) # rows are platforms and columns: [mag, dir]\n",
    "\n",
    "def gen_rand_action(nb_platforms):\n",
    "    mag = np.random.uniform(low=0, high=99, size=(nb_platforms,))\n",
    "    dir = np.random.uniform(low=0, high=2*np.pi, size=(nb_platforms,))\n",
    "    return mag, dir"
   ]
  },
  {
   "cell_type": "markdown",
   "metadata": {},
   "source": [
    "Initialize the interpolation around a single platform for now (we will redefine the interpolation region also with multiple platforms) but for this need to change `update_casadi_dynamics` and `convert_to_x_y_time_bounds` in `DataSource.py`"
   ]
  },
  {
   "cell_type": "code",
   "execution_count": 13,
   "metadata": {},
   "outputs": [],
   "source": [
    "import casadi as ca\n",
    "from ocean_navigation_simulator.utils import units\n",
    "x_0 = PlatformState(lon=units.Distance(deg=-83.25), lat=units.Distance(deg=23.25),\n",
    "                    date_time=datetime.datetime(2021, 11, 24, 12, 0, tzinfo=datetime.timezone.utc)) # define a platform approx. in the middle for interpolation and init of casadi dynamics\n",
    "ocean_source.update_casadi_dynamics(x_0)\n",
    "u_max = units.Velocity(mps=platform_dict['u_max_in_mps']) # normally defined as attribute of the class Platform\n",
    "dt_in_s = platform_dict['dt_in_s']"
   ]
  },
  {
   "cell_type": "markdown",
   "metadata": {},
   "source": [
    "Implement the simplified CasADi dynamics function"
   ]
  },
  {
   "cell_type": "code",
   "execution_count": 14,
   "metadata": {},
   "outputs": [],
   "source": [
    "def get_casadi_dynamics(nb_platforms, ocean_source, u_max):\n",
    "    sym_dt              = ca.MX.sym('dt')           # in s\n",
    "    sym_lon_degree      = ca.MX.sym('lon', nb_platforms,1)          # in deg or m\n",
    "    sym_lat_degree      = ca.MX.sym('lat', nb_platforms,1)          # in deg or m\n",
    "    sym_time            = ca.MX.sym('time', nb_platforms,1)         # in posix\n",
    "    sym_battery         = ca.MX.sym('battery', nb_platforms,1)      # in Joule\n",
    "    sym_seaweed_mass    = ca.MX.sym('battery', nb_platforms,1)      # in Kg\n",
    "    sym_u_thrust        = ca.MX.sym('u_thrust', nb_platforms,1)     # in % of u_max\n",
    "    sym_u_angle         = ca.MX.sym('u_angle', nb_platforms,1)      # in radians\n",
    "\n",
    "    # Get currents\n",
    "    # For interpolation: need to pass a matrix (time, lat,lon) x nb_platforms (i.e. platforms as columns and not as rows)\n",
    "    u_curr = ocean_source.u_curr_func(ca.horzcat(sym_time,sym_lat_degree, sym_lon_degree).T).T # retranspose it back to a vector where platforms are rows\n",
    "    v_curr = ocean_source.v_curr_func(ca.horzcat(sym_time, sym_lat_degree, sym_lon_degree).T).T\n",
    "    sym_lon_delta_meters_per_s = ca.cos(sym_u_angle)*sym_u_thrust*u_max.mps + u_curr\n",
    "    sym_lat_delta_meters_per_s = ca.sin(sym_u_angle)*sym_u_thrust*u_max.mps + v_curr\n",
    "    sym_lon_delta_deg_per_s = 180 * sym_lon_delta_meters_per_s / math.pi / 6371000 / ca.cos(math.pi * sym_lat_degree / 180)\n",
    "    sym_lat_delta_deg_per_s = 180 * sym_lat_delta_meters_per_s / math.pi / 6371000\n",
    "\n",
    "     # Equations for next states using the intermediate variables from above\n",
    "    sym_lon_next = sym_lon_degree + sym_dt * sym_lon_delta_deg_per_s\n",
    "    sym_lat_next = sym_lat_degree + sym_dt * sym_lat_delta_deg_per_s\n",
    "    sym_time_next = sym_time + sym_dt\n",
    "    F_next = ca.Function('F_x_next', [ca.horzcat(sym_lon_degree, sym_lat_degree, sym_time, sym_battery, sym_seaweed_mass), ca.horzcat(sym_u_thrust, sym_u_angle), sym_dt],\n",
    "                        [ca.horzcat(sym_lon_next, sym_lat_next, sym_time_next)])\n",
    "    return F_next"
   ]
  },
  {
   "cell_type": "code",
   "execution_count": 15,
   "metadata": {},
   "outputs": [],
   "source": [
    "def get_platform_and_action(nb_platforms):\n",
    "    lon,lat,id,t = rand_platforms(nb_platforms)\n",
    "    platforms_list = [PlatformState(lon=units.Distance(deg=lon[k]), lat=units.Distance(deg=lat[k]), date_time=t[k]) \\\n",
    "                      for k in range(nb_platforms)]\n",
    "    mag, dir = gen_rand_action(nb_platforms)\n",
    "    actions_list = [PlatformAction(magnitude=mag[k], direction=dir[k]) for k in range(nb_platforms)]\n",
    "    # create the Set class for the platforms (version 1 with list of Platform states)\n",
    "    platforms_set = PlatformStateSet_v1(states=platforms_list)\n",
    "    # same principle for the actions\n",
    "    actions_set = PlatformActionSet(action_set =actions_list)\n",
    "    return platforms_set, actions_set"
   ]
  },
  {
   "cell_type": "markdown",
   "metadata": {},
   "source": [
    "1. Single platform time to run a casadi step (e.g. for the first platform in the list)"
   ]
  },
  {
   "cell_type": "code",
   "execution_count": 16,
   "metadata": {},
   "outputs": [
    {
     "name": "stdout",
     "output_type": "stream",
     "text": [
      "(1, 5)\n",
      "(1, 2)\n",
      "53.8 µs ± 9.2 µs per loop (mean ± std. dev. of 7 runs, 10,000 loops each)\n"
     ]
    }
   ],
   "source": [
    "nb_platforms = 1\n",
    "platforms_set, action_set = get_platform_and_action(nb_platforms)\n",
    "print(np.array(platforms_set).shape)\n",
    "print(np.array(action_set).shape)\n",
    "F_x_next = get_casadi_dynamics(nb_platforms, ocean_source, u_max)\n",
    "%timeit F_x_next(np.array(platforms_set), np.array(action_set), dt_in_s)"
   ]
  },
  {
   "cell_type": "markdown",
   "metadata": {},
   "source": [
    "2. Multiple platform vectorized casadi dynamics:"
   ]
  },
  {
   "cell_type": "code",
   "execution_count": 17,
   "metadata": {},
   "outputs": [
    {
     "name": "stdout",
     "output_type": "stream",
     "text": [
      "--Testing with 1 platforms--\n",
      "53.2 µs ± 4.86 µs per loop (mean ± std. dev. of 20 runs, 1,000 loops each)\n",
      "--Testing with 5 platforms--\n",
      "83.6 µs ± 13.2 µs per loop (mean ± std. dev. of 20 runs, 1,000 loops each)\n",
      "--Testing with 10 platforms--\n",
      "99 µs ± 3.94 µs per loop (mean ± std. dev. of 20 runs, 1,000 loops each)\n",
      "--Testing with 20 platforms--\n",
      "162 µs ± 19.8 µs per loop (mean ± std. dev. of 20 runs, 1,000 loops each)\n",
      "--Testing with 30 platforms--\n",
      "288 µs ± 82.6 µs per loop (mean ± std. dev. of 20 runs, 1,000 loops each)\n",
      "--Testing with 40 platforms--\n",
      "292 µs ± 19.7 µs per loop (mean ± std. dev. of 20 runs, 1,000 loops each)\n",
      "--Testing with 50 platforms--\n",
      "401 µs ± 72.4 µs per loop (mean ± std. dev. of 20 runs, 1,000 loops each)\n",
      "--Testing with 75 platforms--\n",
      "502 µs ± 18.3 µs per loop (mean ± std. dev. of 20 runs, 1,000 loops each)\n",
      "--Testing with 100 platforms--\n",
      "632 µs ± 9.34 µs per loop (mean ± std. dev. of 20 runs, 1,000 loops each)\n"
     ]
    }
   ],
   "source": [
    "nb_platforms_span = [1,5, 10, 20, 30, 40, 50, 75, 100]\n",
    "case = {}\n",
    "avg_time = []\n",
    "for nb_platforms in nb_platforms_span:\n",
    "    platforms_set, action_set = get_platform_and_action(nb_platforms)\n",
    "    print(\"--Testing with {} platforms--\".format(nb_platforms))\n",
    "    F_x_next = get_casadi_dynamics(nb_platforms, ocean_source, u_max)\n",
    "    case[str(nb_platforms)] = %timeit -n 1000 -r 20 -o F_x_next(np.array(platforms_set), np.array(action_set), dt_in_s)\n",
    "    avg_time.append(case[str(nb_platforms)].average*1e6) #in us"
   ]
  },
  {
   "cell_type": "code",
   "execution_count": 18,
   "metadata": {},
   "outputs": [
    {
     "data": {
      "text/plain": [
       "Text(0.5, 1.0, 'Platforms vs CasADi runtime')"
      ]
     },
     "execution_count": 18,
     "metadata": {},
     "output_type": "execute_result"
    },
    {
     "data": {
      "image/png": "[encoded data removed]",
      "text/plain": [
       "<Figure size 640x480 with 1 Axes>"
      ]
     },
     "metadata": {},
     "output_type": "display_data"
    }
   ],
   "source": [
    "import matplotlib.pyplot as plt\n",
    "plt.plot(nb_platforms_span, avg_time, 'o--')\n",
    "plt.ylabel(\"Runtime of one casadi step in us\")\n",
    "plt.xlabel(\"Number of platforms\")\n",
    "plt.title(\"Platforms vs CasADi runtime\")"
   ]
  }
 ],
 "metadata": {
  "kernelspec": {
   "display_name": "Python 3.9.13 ('ocean_minimal')",
   "language": "python",
   "name": "python3"
  },
  "language_info": {
   "codemirror_mode": {
    "name": "ipython",
    "version": 3
   },
   "file_extension": ".py",
   "mimetype": "text/x-python",
   "name": "python",
   "nbconvert_exporter": "python",
   "pygments_lexer": "ipython3",
   "version": "3.9.13"
  },
  "orig_nbformat": 4,
  "vscode": {
   "interpreter": {
    "hash": "9ed4b5c9df27747f3a2313a7b45e2dcb31384957b3c889e68300f490f3475319"
   }
  }
 },
 "nbformat": 4,
 "nbformat_minor": 2
}
