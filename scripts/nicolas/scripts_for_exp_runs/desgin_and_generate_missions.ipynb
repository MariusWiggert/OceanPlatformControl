{
 "cells": [
  {
   "cell_type": "code",
   "execution_count": null,
   "metadata": {},
   "outputs": [],
   "source": [
    "import datetime\n",
    "import logging\n",
    "import os\n",
    "import numpy as np\n",
    "import matplotlib.pyplot as plt\n",
    "import yaml\n",
    "## Only when developing with VSCode in my repo\n",
    "os.chdir(\"/home/nicolas/documents/Master_Thesis_repo/OceanPlatformControl\")\n",
    "print(os.getcwd())\n",
    "##\n",
    "import pandas as pd\n",
    "from ocean_navigation_simulator.problem_factories.Constructor import (\n",
    "    Constructor,\n",
    ")\n",
    "from ocean_navigation_simulator.reinforcement_learning.missions.MissionGenerator import (\n",
    "    MissionGenerator,\n",
    ")\n",
    "from ocean_navigation_simulator.reinforcement_learning.runners.GenerationRunner import (\n",
    "    GenerationRunner,\n",
    ")\n",
    "from ocean_navigation_simulator.reinforcement_learning.missions.CachedNavigationProblem import (\n",
    "    CachedNavigationProblem,\n",
    ")\n",
    "from ocean_navigation_simulator.utils.misc import set_arena_loggers\n",
    "# These lines in VSCode to avoid reloading the kernel when changes are made to the external kernel\n",
    "%load_ext autoreload\n",
    "%autoreload 2\n",
    "# Settings for where the problem csv is saved\n",
    "my_path = os.getcwd()\n",
    "results_folder = os.path.join(my_path, \"tmp/missions/\")\n",
    "os.makedirs(results_folder, exist_ok=True)"
   ]
  },
  {
   "cell_type": "markdown",
   "metadata": {},
   "source": [
    "## Generate Random Missions"
   ]
  },
  {
   "cell_type": "code",
   "execution_count": null,
   "metadata": {},
   "outputs": [],
   "source": [
    "# Settings for where the problem csv is saved\n",
    "my_path = os.getcwd()\n",
    "results_folder = os.path.join(my_path, \"tmp/missions/\")\n",
    "os.makedirs(results_folder, exist_ok=True)\n",
    "filename = 'problemsGOM.csv'"
   ]
  },
  {
   "attachments": {},
   "cell_type": "markdown",
   "metadata": {},
   "source": [
    "### 1. Arena Configuration and Mission configuration"
   ]
  },
  {
   "cell_type": "code",
   "execution_count": null,
   "metadata": {},
   "outputs": [],
   "source": [
    "arena_config = {\n",
    "    \"casadi_cache_dict\": {\"deg_around_x_t\": 2.0, \"time_around_x_t\": 432000},\n",
    "    \"platform_dict\": {\n",
    "        \"battery_cap_in_wh\": 400.0,\n",
    "        \"u_max_in_mps\": 0.1,\n",
    "        \"motor_efficiency\": 1.0,\n",
    "        \"solar_panel_size\": 0.5,\n",
    "        \"solar_efficiency\": 0.2,\n",
    "        \"drag_factor\": 675.0,\n",
    "        \"dt_in_s\": 600.0,\n",
    "    },\n",
    "    \"use_geographic_coordinate_system\": True,\n",
    "    \"spatial_boundary\": None,\n",
    "    \"ocean_dict\": {\n",
    "        \"hindcast\": {\n",
    "            \"field\": \"OceanCurrents\",\n",
    "            \"source\": \"hindcast_files\",\n",
    "            \"source_settings\": {\n",
    "                \"folder\": \"data/miss_gen_hindcast/\",\n",
    "                \"local\": False,\n",
    "                \"source\": \"HYCOM\",\n",
    "                \"type\": \"hindcast\",\n",
    "                \"currents\": \"total\",\n",
    "                #  \"region\": \"Region 1\"\n",
    "            },\n",
    "        },\n",
    "        \"forecast\": None,#{\n",
    "        #     \"field\": \"OceanCurrents\",\n",
    "        #     \"source\": \"forecast_files\",\n",
    "        #     \"source_settings\": {\n",
    "        #         \"folder\": \"data/miss_gen_forecast/\",\n",
    "        #         \"local\": False,\n",
    "        #         \"source\": \"Copernicus\",\n",
    "        #         \"type\": \"forecast\",\n",
    "        #         \"currents\": \"total\",\n",
    "        #         # \"region\": \"Region 1\",\n",
    "        #     },\n",
    "        #},\n",
    "    },\n",
    "    \"multi_agent_constraints\": {\n",
    "        \"unit\": \"km\",\n",
    "        \"communication_thrsld\": 9,\n",
    "        \"epsilon_margin\": 1,  # when add edges based on hysteresis\n",
    "        \"collision_thrsld\": 0.2,\n",
    "    },\n",
    "}\n",
    "\n",
    "# change to this if basic setup works\n",
    "set_arena_loggers(logging.DEBUG)\n",
    "logging.getLogger(\"MissionGenerator\").setLevel(logging.DEBUG)\n",
    "\n",
    "config = {\n",
    "    \"scenario_config\": arena_config,\n",
    "    ##### Target Sampling #####\n",
    "    # HYCOM HC: lon [-98.0,-76.4000244140625], lat[18.1200008392334,31.92000007629394]\n",
    "    # Copernicus FC: lon: [-98.0, -76.416664], lat: [18.083334, 30.0]\n",
    "    # Combined: [-98.0, -76.416664], [18.1200008392334, 30.0]\n",
    "    \"x_range\": [-95.9, -78.52],\n",
    "    \"y_range\": [20.22, 27.9],\n",
    "    # \"x_range\": [-160, -105],\n",
    "    # \"y_range\": [15, 40],\n",
    "    \"t_range\": [  # ['2022-08-01T00:00:00+00:00', '2022-08-30T00:00:00+00:00'],\n",
    "        # Copernicus FC: 2022-04 until today, HYCOM Hindcast: 2021-09 until today\n",
    "        datetime.datetime(year=2022, month=8, day=1, tzinfo=datetime.timezone.utc),\n",
    "        datetime.datetime(year=2022, month=8, day=30, tzinfo=datetime.timezone.utc),\n",
    "    ],\n",
    "    \"problem_timeout_in_h\": 24*4,\n",
    "    \"target_distance_from_land\": 0.5,\n",
    "    \"problem_target_radius\": 0.1,\n",
    "    ##### HJ Planner #####\n",
    "    \"hj_specific_settings\": {\n",
    "        # 'grid_res' has to be smaller than target_radius to prevent hj_solver errors\n",
    "        \"grid_res\": 0.04,  # Note: this is in deg lat, lon (HYCOM Global is 0.083 and Mexico 0.04)\n",
    "        \"direction\": \"multi-time-reach-back\",\n",
    "        \"n_time_vector\": 199,  # Note that this is the number of time-intervals, the vector is +1 longer because of init_time\n",
    "        \"accuracy\": \"high\",\n",
    "        \"artificial_dissipation_scheme\": \"local_local\",\n",
    "        \"run_without_x_T\": True,\n",
    "        \"progress_bar\": False,\n",
    "        \"T_goal_in_seconds\": 3600 * 24 * 4, #3 days here\n",
    "    },\n",
    "    \"hj_planner_box\": 2.0,\n",
    "    ##### Start Sampling #####\n",
    "    \"feasible_missions_per_target\": 2,\n",
    "    \"random_missions_per_target\": 8,\n",
    "    \"multi_agent\": {\n",
    "        \"is_multi_agent\": True,\n",
    "        \"nb_platforms\": 4,\n",
    "        \"sampling_range_radius_km\": 15,\n",
    "    },\n",
    "    \"min_distance_from_hj_frame\": 0.5,\n",
    "    \"min_distance_from_land\": 0.5,\n",
    "    \"feasible_mission_time_in_h\": [30, 60],\n",
    "    \"random_min_distance_from_target\": 0.5,\n",
    "    ##### Actions #####\n",
    "    \"plot_batch\": False,\n",
    "    \"animate_batch\": False,\n",
    "    \"cache_forecast\": False,\n",
    "    \"cache_hindcast\": False,\n",
    "}"
   ]
  },
  {
   "attachments": {},
   "cell_type": "markdown",
   "metadata": {},
   "source": [
    "### 2. Run generation"
   ]
  },
  {
   "cell_type": "code",
   "execution_count": null,
   "metadata": {},
   "outputs": [],
   "source": [
    "nb_workers = 3 # nb_of different targets\n",
    "all_problems = []\n",
    "for worker in range(nb_workers):\n",
    "    mission_generator = MissionGenerator(\n",
    "        config=config\n",
    "        | {\n",
    "            \"seed\": 2022 + worker,\n",
    "            \"cache_folder\": results_folder + str(worker) + \"_\",\n",
    "        }\n",
    "    )\n",
    "    problems, _, _ = mission_generator.cache_batch()\n",
    "    all_problems.extend(problems)\n",
    "df = pd.DataFrame([problem.to_dict() for problem in all_problems])\n",
    "df.to_csv(results_folder + filename)"
   ]
  },
  {
   "attachments": {},
   "cell_type": "markdown",
   "metadata": {},
   "source": [
    "### 3. Visualize generated Navigation Problems"
   ]
  },
  {
   "cell_type": "code",
   "execution_count": 2,
   "metadata": {},
   "outputs": [
    {
     "ename": "NameError",
     "evalue": "name 'GenerationRunner' is not defined",
     "output_type": "error",
     "traceback": [
      "\u001b[0;31m---------------------------------------------------------------------------\u001b[0m",
      "\u001b[0;31mNameError\u001b[0m                                 Traceback (most recent call last)",
      "\u001b[1;32m/home/nicolas/documents/Master_Thesis_repo/OceanPlatformControl/scripts/nicolas/scripts_for_exp_runs/desgin_and_generate_missions.ipynb Cell 8\u001b[0m in \u001b[0;36m<cell line: 1>\u001b[0;34m()\u001b[0m\n\u001b[0;32m----> <a href='vscode-notebook-cell://wsl%2Bubuntu-20.04/home/nicolas/documents/Master_Thesis_repo/OceanPlatformControl/scripts/nicolas/scripts_for_exp_runs/desgin_and_generate_missions.ipynb#X13sdnNjb2RlLXJlbW90ZQ%3D%3D?line=0'>1</a>\u001b[0m GenerationRunner\u001b[39m.\u001b[39mplot_ttr_histogram(results_folder)\n\u001b[1;32m      <a href='vscode-notebook-cell://wsl%2Bubuntu-20.04/home/nicolas/documents/Master_Thesis_repo/OceanPlatformControl/scripts/nicolas/scripts_for_exp_runs/desgin_and_generate_missions.ipynb#X13sdnNjb2RlLXJlbW90ZQ%3D%3D?line=1'>2</a>\u001b[0m \u001b[39m# visualize only first target and associated starts (which defines a c3 \"mission\") \u001b[39;00m\n\u001b[1;32m      <a href='vscode-notebook-cell://wsl%2Bubuntu-20.04/home/nicolas/documents/Master_Thesis_repo/OceanPlatformControl/scripts/nicolas/scripts_for_exp_runs/desgin_and_generate_missions.ipynb#X13sdnNjb2RlLXJlbW90ZQ%3D%3D?line=2'>3</a>\u001b[0m GenerationRunner\u001b[39m.\u001b[39mplot_starts_and_targets(\n\u001b[1;32m      <a href='vscode-notebook-cell://wsl%2Bubuntu-20.04/home/nicolas/documents/Master_Thesis_repo/OceanPlatformControl/scripts/nicolas/scripts_for_exp_runs/desgin_and_generate_missions.ipynb#X13sdnNjb2RlLXJlbW90ZQ%3D%3D?line=3'>4</a>\u001b[0m     results_folder\u001b[39m=\u001b[39mresults_folder, scenario_config\u001b[39m=\u001b[39marena_config,\n\u001b[1;32m      <a href='vscode-notebook-cell://wsl%2Bubuntu-20.04/home/nicolas/documents/Master_Thesis_repo/OceanPlatformControl/scripts/nicolas/scripts_for_exp_runs/desgin_and_generate_missions.ipynb#X13sdnNjb2RlLXJlbW90ZQ%3D%3D?line=4'>5</a>\u001b[0m )\n",
      "\u001b[0;31mNameError\u001b[0m: name 'GenerationRunner' is not defined"
     ]
    }
   ],
   "source": [
    "GenerationRunner.plot_ttr_histogram(results_folder)\n",
    "# visualize only first target and associated starts (which defines a c3 \"mission\") \n",
    "GenerationRunner.plot_starts_and_targets(\n",
    "    results_folder=results_folder, scenario_config=arena_config,\n",
    ")"
   ]
  }
 ],
 "metadata": {
  "kernelspec": {
   "display_name": "ocean_minimal",
   "language": "python",
   "name": "python3"
  },
  "language_info": {
   "codemirror_mode": {
    "name": "ipython",
    "version": 3
   },
   "file_extension": ".py",
   "mimetype": "text/x-python",
   "name": "python",
   "nbconvert_exporter": "python",
   "pygments_lexer": "ipython3",
   "version": "3.9.13"
  },
  "orig_nbformat": 4,
  "vscode": {
   "interpreter": {
    "hash": "9ed4b5c9df27747f3a2313a7b45e2dcb31384957b3c889e68300f490f3475319"
   }
  }
 },
 "nbformat": 4,
 "nbformat_minor": 2
}
