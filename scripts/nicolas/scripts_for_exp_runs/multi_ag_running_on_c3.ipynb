{
 "cells": [
  {
   "cell_type": "code",
   "execution_count": 1,
   "metadata": {},
   "outputs": [],
   "source": [
    "from ocean_navigation_simulator.utils.misc import get_c3\n",
    "import os\n",
    "%load_ext autoreload\n",
    "%autoreload 2"
   ]
  },
  {
   "cell_type": "code",
   "execution_count": 2,
   "metadata": {},
   "outputs": [
    {
     "name": "stdout",
     "output_type": "stream",
     "text": [
      "Starting to connect to c3\n"
     ]
    }
   ],
   "source": [
    "c3 = get_c3()"
   ]
  },
  {
   "cell_type": "code",
   "execution_count": 102,
   "metadata": {},
   "outputs": [
    {
     "data": {
      "text/plain": [
       "c3.Experiment(\n",
       " id='multi_agent_dev',\n",
       " meta=c3.Meta(\n",
       "        tenantTagId=32,\n",
       "        tenant='seaweed-control',\n",
       "        tag='devseaweedrc1',\n",
       "        created=datetime.datetime(2023, 2, 1, 1, 28, 5, tzinfo=datetime.timezone.utc),\n",
       "        createdBy='mariuswiggert@berkeley.edu',\n",
       "        updated=datetime.datetime(2023, 2, 1, 1, 28, 5, tzinfo=datetime.timezone.utc),\n",
       "        updatedBy='mariuswiggert@berkeley.edu',\n",
       "        timestamp=datetime.datetime(2023, 2, 1, 1, 28, 5, tzinfo=datetime.timezone.utc),\n",
       "        fetchInclude='[]',\n",
       "        fetchType='Experiment'),\n",
       " version=1,\n",
       " experimentName='multi_agent_dev',\n",
       " description='multi agent test',\n",
       " arenaConfig={'casadi_cache_dict': {'deg_around_x_t': 2.0,\n",
       "                                     'time_around_x_t': 432000},\n",
       "               'multi_agent_constraints': {'collision_thrsld': 0.2,\n",
       "                                           'communication_thrsld': 9,\n",
       "                                           'epsilon_margin': 1,\n",
       "                                           'unit': 'km'},\n",
       "               'ocean_dict': {'forecast': None,\n",
       "                              'hindcast': {'field': 'OceanCurrents',\n",
       "                                           'source': 'hindcast_files',\n",
       "                                           'source_settings': {'currents': 'total',\n",
       "                                                               'folder': 'data/miss_gen_hindcast/',\n",
       "                                                               'local': False,\n",
       "                                                               'source': 'HYCOM',\n",
       "                                                               'type': 'hindcast'}}},\n",
       "               'platform_dict': {'battery_cap_in_wh': 400.0,\n",
       "                                 'drag_factor': 675.0,\n",
       "                                 'dt_in_s': 600.0,\n",
       "                                 'motor_efficiency': 1.0,\n",
       "                                 'solar_efficiency': 0.2,\n",
       "                                 'solar_panel_size': 0.5,\n",
       "                                 'u_max_in_mps': 0.1},\n",
       "               'spatial_boundary': None,\n",
       "               'timeout': 432000,\n",
       "               'use_geographic_coordinate_system': True},\n",
       " timeout_in_sec=432000,\n",
       " objectiveConfig={'type': 'nav'},\n",
       " feasibilityCheckSettings=c3.FeasibilityCheckSettings(\n",
       "                            deg_around_xt_xT_box=1.0,\n",
       "                            grid_res=0.02),\n",
       " T_horizon_FC_Error_Calculation_in_h=96)"
      ]
     },
     "execution_count": 102,
     "metadata": {},
     "output_type": "execute_result"
    }
   ],
   "source": [
    "experiment_name = \"multi_agent_dev\"\n",
    "exp = c3.Experiment.get(experiment_name)\n",
    "exp\n",
    "#exp.remove()"
   ]
  },
  {
   "attachments": {},
   "cell_type": "markdown",
   "metadata": {},
   "source": [
    "# Set up the experiments"
   ]
  },
  {
   "cell_type": "code",
   "execution_count": 6,
   "metadata": {},
   "outputs": [],
   "source": [
    "timeout_h = 24*5"
   ]
  },
  {
   "cell_type": "code",
   "execution_count": 7,
   "metadata": {},
   "outputs": [],
   "source": [
    "arena_config = {\n",
    "    \"casadi_cache_dict\": {\"deg_around_x_t\": 2.0, \"time_around_x_t\": 432000},\n",
    "    \"timeout\": timeout_h * 3600,\n",
    "    \"platform_dict\": {\n",
    "        \"battery_cap_in_wh\": 400.0,\n",
    "        \"u_max_in_mps\": 0.1,\n",
    "        \"motor_efficiency\": 1.0,\n",
    "        \"solar_panel_size\": 0.5,\n",
    "        \"solar_efficiency\": 0.2,\n",
    "        \"drag_factor\": 675.0,\n",
    "        \"dt_in_s\": 600.0,\n",
    "    },\n",
    "    \"use_geographic_coordinate_system\": True,\n",
    "    \"spatial_boundary\": None,\n",
    "    \"ocean_dict\": {\n",
    "        \"hindcast\": {\n",
    "            \"field\": \"OceanCurrents\",\n",
    "            \"source\": \"hindcast_files\",\n",
    "            \"source_settings\": {\n",
    "                \"folder\": \"data/miss_gen_hindcast/\",\n",
    "                \"local\": False,\n",
    "                \"source\": \"HYCOM\",\n",
    "                \"type\": \"hindcast\",\n",
    "                \"currents\": \"total\",\n",
    "                #  \"region\": \"Region 1\"\n",
    "            },\n",
    "        },\n",
    "        \"forecast\": None,#{\n",
    "        #     \"field\": \"OceanCurrents\",\n",
    "        #     \"source\": \"forecast_files\",\n",
    "        #     \"source_settings\": {\n",
    "        #         \"folder\": \"data/miss_gen_forecast/\",\n",
    "        #         \"local\": False,\n",
    "        #         \"source\": \"Copernicus\",\n",
    "        #         \"type\": \"forecast\",\n",
    "        #         \"currents\": \"total\",\n",
    "        #         # \"region\": \"Region 1\",\n",
    "        #     },\n",
    "        #},\n",
    "    },\n",
    "    \"multi_agent_constraints\": {\n",
    "        \"unit\": \"km\",\n",
    "        \"communication_thrsld\": 9,\n",
    "        \"epsilon_margin\": 1,  # when add edges based on hysteresis\n",
    "        \"collision_thrsld\": 0.2,\n",
    "    },\n",
    "}\n",
    "objectiveConfig = {'type': \"nav\"}\n",
    "\n",
    "\n",
    "feasibilityCheckSettings = c3.FeasibilityCheckSettings(**{\n",
    "    'deg_around_xt_xT_box': 1.,\n",
    "    'grid_res': 0.02})"
   ]
  },
  {
   "cell_type": "code",
   "execution_count": 8,
   "metadata": {},
   "outputs": [],
   "source": [
    "# create Experiment\n",
    "exp = c3.Experiment.createNew(\n",
    "    name = experiment_name,\n",
    "    description = \"multi agent test\",\n",
    "    arenaConfig = arena_config,\n",
    "    objectiveConfig= objectiveConfig,\n",
    "    timeout_in_sec=3600*timeout_h, #72h\n",
    "    feasibilityCheckSettings=feasibilityCheckSettings\n",
    ")"
   ]
  },
  {
   "attachments": {},
   "cell_type": "markdown",
   "metadata": {},
   "source": [
    "# Set up generate batch job"
   ]
  },
  {
   "attachments": {},
   "cell_type": "markdown",
   "metadata": {},
   "source": [
    "## Set up and run mission generation"
   ]
  },
  {
   "cell_type": "code",
   "execution_count": 9,
   "metadata": {},
   "outputs": [],
   "source": [
    "import datetime\n",
    "missGenBatchConfig = {\n",
    "    ##### Target Sampling #####\n",
    "    # HYCOM HC: lon [-98.0,-76.4000244140625], lat[18.1200008392334,31.92000007629394]\n",
    "    # Copernicus FC: lon: [-98.0, -76.416664], lat: [18.083334, 30.0]\n",
    "    # Combined: [-98.0, -76.416664], [18.1200008392334, 30.0]\n",
    "    \"x_range\": [-96, -78],\n",
    "    \"y_range\": [20, 29],\n",
    "    \"t_range\": [\n",
    "        # Copernicus FC: 2022-04 until today, HYCOM Hindcast: 2021-09 until today\n",
    "        datetime.datetime(year=2022, month=4, day=1, tzinfo=datetime.timezone.utc),\n",
    "        datetime.datetime(year=2022, month=10, day=1, tzinfo=datetime.timezone.utc),\n",
    "    ],\n",
    "    \"problem_timeout_in_h\": 24*6, #to be considered as feasible\n",
    "    \"target_distance_from_land\": 0.4,\n",
    "    \"problem_target_radius\": 0.1,\n",
    "    ##### HJ Planner #####\n",
    "    \"hj_specific_settings\": {\n",
    "        # 'grid_res' has to be smaller than target_radius to prevent hj_solver errors\n",
    "        \"grid_res\": 0.02,  # Note: this is in deg lat, lon (HYCOM Global is 0.083 and Mexico 0.04)\n",
    "        \"direction\": \"multi-time-reach-back\",\n",
    "        \"n_time_vector\": 199,  # Note that this is the number of time-intervals, the vector is +1 longer because of init_time\n",
    "        \"accuracy\": \"high\",\n",
    "        \"artificial_dissipation_scheme\": \"local_local\",\n",
    "        \"run_without_x_T\": True,\n",
    "        \"progress_bar\": False,\n",
    "        \"T_goal_in_seconds\": 3600 * 24 * 6, # Jerome has 6 days here\n",
    "    },\n",
    "    \"hj_planner_box\": 2.0,\n",
    "    ##### Start Sampling #####\n",
    "    \"feasible_missions_per_target\": 3,\n",
    "    \"random_missions_per_target\": 0,\n",
    "    \"multi_agent\": {\n",
    "        \"is_multi_agent\": True,\n",
    "        \"nb_platforms\": 4,\n",
    "        \"sampling_range_radius_km\": 20,\n",
    "        \"sample_range_ttr_h\": [70, 110], # this has to be a larger than the \"feasible_mission_time_in_h\"\n",
    "        # as the multi-agent points are sampled from \"feasible_mission_time_in_h\" with added noise which might \n",
    "        # increase their ttr by quite a lot (so either this interval has to be increased or the other reduced)\n",
    "    },\n",
    "    \"min_distance_from_hj_frame\": 0.,\n",
    "    \"min_distance_from_land\": 0.5,\n",
    "    \"feasible_mission_time_in_h\": [80, 90],\n",
    "    \"random_min_distance_from_target\": 0.5,\n",
    "    ##### Actions #####\n",
    "    \"plot_batch\": False,\n",
    "    \"animate_batch\": False,\n",
    "    \"cache_forecast\": False,\n",
    "    \"cache_hindcast\": False,\n",
    "}"
   ]
  },
  {
   "cell_type": "code",
   "execution_count": 10,
   "metadata": {},
   "outputs": [],
   "source": [
    "options = c3.GenMissionBatchJobOptionsNicolas(**{\n",
    "    'experiment':exp,\n",
    "    'missGenBatchConfig': missGenBatchConfig,\n",
    "    'base_seed': 113,\n",
    "    'nBatches': 2,\n",
    "    'nMissionGenPerBatch': 3,\n",
    "})"
   ]
  },
  {
   "cell_type": "code",
   "execution_count": 11,
   "metadata": {},
   "outputs": [
    {
     "data": {
      "text/plain": [
       "c3.GenMissionBatchJobNicolas(\n",
       " typeIdent='BATCHJ:O_NIC_GENMISS_BATCH_JOB',\n",
       " id='8d6b9e8d-0618-4b97-a3f8-0aeee206126d',\n",
       " meta=c3.Meta(\n",
       "        created=datetime.datetime(2023, 2, 1, 1, 29, 53, tzinfo=datetime.timezone.utc),\n",
       "        updated=datetime.datetime(2023, 2, 1, 1, 29, 53, tzinfo=datetime.timezone.utc),\n",
       "        timestamp=datetime.datetime(2023, 2, 1, 1, 29, 53, tzinfo=datetime.timezone.utc)),\n",
       " version=1)"
      ]
     },
     "execution_count": 11,
     "metadata": {},
     "output_type": "execute_result"
    }
   ],
   "source": [
    "gen_mission_job = c3.GenMissionBatchJobNicolas(**{'options': options.toJson()}).upsert()\n",
    "#gen_mission_job = c3.GenMissionBatchJob(**{'options': options.toJson()}).upsert()\n",
    "# gen_mission_job.setMaxConcurrency(12)\n",
    "# gen_mission_job.setMaxConcurrencyPerNode(15)\n",
    "gen_mission_job.start()\n",
    "gen_mission_job"
   ]
  },
  {
   "cell_type": "code",
   "execution_count": 97,
   "metadata": {},
   "outputs": [
    {
     "data": {
      "text/plain": [
       "c3.BatchJobStatus(\n",
       " started=datetime.datetime(2023, 2, 1, 1, 29, 54, tzinfo=datetime.timezone.utc),\n",
       " startedby='mariuswiggert@berkeley.edu',\n",
       " completed=datetime.datetime(2023, 2, 1, 1, 43, 22, tzinfo=datetime.timezone.utc),\n",
       " status='completed',\n",
       " newBatchSubmitted=False)"
      ]
     },
     "execution_count": 97,
     "metadata": {},
     "output_type": "execute_result"
    }
   ],
   "source": [
    "#gen_mission_job = c3.GenMissionBatchJobNicolas.get('8d6b9e8d-0618-4b97-a3f8-0aeee206126d')\n",
    "\n",
    "gen_mission_job.status()"
   ]
  },
  {
   "cell_type": "code",
   "execution_count": 98,
   "metadata": {},
   "outputs": [
    {
     "data": {
      "text/plain": [
       "c3.JobComputingActionsResult()"
      ]
     },
     "execution_count": 98,
     "metadata": {},
     "output_type": "execute_result"
    }
   ],
   "source": [
    "gen_mission_job.computingActions()\n",
    "# gen_mission_job.cancel()"
   ]
  },
  {
   "cell_type": "code",
   "execution_count": 103,
   "metadata": {},
   "outputs": [
    {
     "data": {
      "text/plain": [
       "12"
      ]
     },
     "execution_count": 103,
     "metadata": {},
     "output_type": "execute_result"
    }
   ],
   "source": [
    "len(exp.get('expMissions').expMissions)"
   ]
  },
  {
   "cell_type": "code",
   "execution_count": 27,
   "metadata": {},
   "outputs": [
    {
     "data": {
      "text/plain": [
       "c3.Arry<ClusterAction>([c3.ClusterAction(\n",
       "  id='6530.2697302',\n",
       "  target='c3/c3/BatchQueue?action=dispatchCompute',\n",
       "  tenant='c3',\n",
       "  tag='c3',\n",
       "  status='Running',\n",
       "  threadId='142',\n",
       "  threadGroup='main',\n",
       "  threadName='Hannibal-6',\n",
       "  age='00:20:09.637',\n",
       "  elapsed=1209637,\n",
       "  secondaryKey='3b8b54dc-c428-4c64-8a34-5965ece52fb2',\n",
       "  children=c3.Arry<Action>([c3.Action(\n",
       "              id='6530.2698513',\n",
       "              parentId='6530.2697302',\n",
       "              target='seaweed-control/devseaweedrc1/BatchQueue?action=compute',\n",
       "              tenant='seaweed-control',\n",
       "              tag='devseaweedrc1',\n",
       "              status='Running',\n",
       "              age='00:20:04.198',\n",
       "              elapsed=1204198,\n",
       "              children=c3.Arry<Action>([c3.Action(\n",
       "                          id='6530.2700466',\n",
       "                          parentId='6530.2698513',\n",
       "                          target='seaweed-control/devseaweedrc1/OceanSimRunBatchJob?action=dispatchProcessBatch',\n",
       "                          tenant='seaweed-control',\n",
       "                          tag='devseaweedrc1',\n",
       "                          status='Running',\n",
       "                          age='00:20:04.116',\n",
       "                          elapsed=1204116,\n",
       "                          children=c3.Arry<Action>([c3.Action(\n",
       "                                      id='6530.2782161',\n",
       "                                      parentId='6530.2700466',\n",
       "                                      target='seaweed-control/devseaweedrc1/OceanSimRunBatchJob?action=processBatch',\n",
       "                                      tenant='seaweed-control',\n",
       "                                      tag='devseaweedrc1',\n",
       "                                      status='Running',\n",
       "                                      age='00:20:00.407',\n",
       "                                      elapsed=1200407,\n",
       "                                      children=c3.Arry<Action>([c3.Action(\n",
       "                                                  id='6530.2785872',\n",
       "                                                  parentId='6530.2782161',\n",
       "                                                  target='seaweed-control/devseaweedrc1/OceanSimRun?action=runSimMatthias',\n",
       "                                                  tenant='seaweed-control',\n",
       "                                                  tag='devseaweedrc1',\n",
       "                                                  status='Running',\n",
       "                                                  age='00:19:59.893',\n",
       "                                                  elapsed=1199893)]))]))]))]),\n",
       "  host='appc8m642-w-63'),\n",
       " c3.ClusterAction(\n",
       "  id='7153.3065171',\n",
       "  target='c3/c3/BatchQueue?action=dispatchCompute',\n",
       "  tenant='c3',\n",
       "  tag='c3',\n",
       "  status='Running',\n",
       "  threadId='230',\n",
       "  threadGroup='main',\n",
       "  threadName='Hannibal-86',\n",
       "  age='00:20:06.351',\n",
       "  elapsed=1206351,\n",
       "  secondaryKey='764c91c9-a486-44b5-8909-138d7cceb637',\n",
       "  children=c3.Arry<Action>([c3.Action(\n",
       "              id='7153.3065188',\n",
       "              parentId='7153.3065171',\n",
       "              target='seaweed-control/devseaweedrc1/BatchQueue?action=compute',\n",
       "              tenant='seaweed-control',\n",
       "              tag='devseaweedrc1',\n",
       "              status='Running',\n",
       "              age='00:20:06.350',\n",
       "              elapsed=1206350,\n",
       "              children=c3.Arry<Action>([c3.Action(\n",
       "                          id='7153.3065290',\n",
       "                          parentId='7153.3065188',\n",
       "                          target='seaweed-control/devseaweedrc1/OceanSimRunBatchJob?action=dispatchProcessBatch',\n",
       "                          tenant='seaweed-control',\n",
       "                          tag='devseaweedrc1',\n",
       "                          status='Running',\n",
       "                          age='00:20:06.343',\n",
       "                          elapsed=1206343,\n",
       "                          children=c3.Arry<Action>([c3.Action(\n",
       "                                      id='7153.3065559',\n",
       "                                      parentId='7153.3065290',\n",
       "                                      target='seaweed-control/devseaweedrc1/OceanSimRunBatchJob?action=processBatch',\n",
       "                                      tenant='seaweed-control',\n",
       "                                      tag='devseaweedrc1',\n",
       "                                      status='Running',\n",
       "                                      age='00:20:06.320',\n",
       "                                      elapsed=1206320,\n",
       "                                      children=c3.Arry<Action>([c3.Action(\n",
       "                                                  id='7153.3066371',\n",
       "                                                  parentId='7153.3065559',\n",
       "                                                  target='seaweed-control/devseaweedrc1/OceanSimRun?action=runSimMatthias',\n",
       "                                                  tenant='seaweed-control',\n",
       "                                                  tag='devseaweedrc1',\n",
       "                                                  status='Running',\n",
       "                                                  age='00:20:06.178',\n",
       "                                                  elapsed=1206178)]))]))]))]),\n",
       "  host='appc8m642-w-25'),\n",
       " c3.ClusterAction(\n",
       "  id='7153.3067318',\n",
       "  target='c3/c3/BatchQueue?action=dispatchCompute',\n",
       "  tenant='c3',\n",
       "  tag='c3',\n",
       "  status='Running',\n",
       "  threadId='231',\n",
       "  threadGroup='main',\n",
       "  threadName='Hannibal-87',\n",
       "  age='00:20:05.964',\n",
       "  elapsed=1205964,\n",
       "  secondaryKey='7259da7b-4ddf-4c02-bbb6-a84564a772c0',\n",
       "  children=c3.Arry<Action>([c3.Action(\n",
       "              id='7153.3067335',\n",
       "              parentId='7153.3067318',\n",
       "              target='seaweed-control/devseaweedrc1/BatchQueue?action=compute',\n",
       "              tenant='seaweed-control',\n",
       "              tag='devseaweedrc1',\n",
       "              status='Running',\n",
       "              age='00:20:05.963',\n",
       "              elapsed=1205963,\n",
       "              children=c3.Arry<Action>([c3.Action(\n",
       "                          id='7153.3067446',\n",
       "                          parentId='7153.3067335',\n",
       "                          target='seaweed-control/devseaweedrc1/OceanSimRunBatchJob?action=dispatchProcessBatch',\n",
       "                          tenant='seaweed-control',\n",
       "                          tag='devseaweedrc1',\n",
       "                          status='Running',\n",
       "                          age='00:20:05.957',\n",
       "                          elapsed=1205957,\n",
       "                          children=c3.Arry<Action>([c3.Action(\n",
       "                                      id='7153.3067704',\n",
       "                                      parentId='7153.3067446',\n",
       "                                      target='seaweed-control/devseaweedrc1/OceanSimRunBatchJob?action=processBatch',\n",
       "                                      tenant='seaweed-control',\n",
       "                                      tag='devseaweedrc1',\n",
       "                                      status='Running',\n",
       "                                      age='00:20:05.937',\n",
       "                                      elapsed=1205937,\n",
       "                                      children=c3.Arry<Action>([c3.Action(\n",
       "                                                  id='7153.3068014',\n",
       "                                                  parentId='7153.3067704',\n",
       "                                                  target='seaweed-control/devseaweedrc1/OceanSimRun?action=runSimMatthias',\n",
       "                                                  tenant='seaweed-control',\n",
       "                                                  tag='devseaweedrc1',\n",
       "                                                  status='Running',\n",
       "                                                  age='00:20:05.809',\n",
       "                                                  elapsed=1205809)]))]))]))]),\n",
       "  host='appc8m642-w-25'),\n",
       " c3.ClusterAction(\n",
       "  id='7536.3592446',\n",
       "  target='c3/c3/BatchQueue?action=dispatchCompute',\n",
       "  tenant='c3',\n",
       "  tag='c3',\n",
       "  status='Running',\n",
       "  threadId='218',\n",
       "  threadGroup='main',\n",
       "  threadName='Hannibal-72',\n",
       "  age='00:20:05.883',\n",
       "  elapsed=1205883,\n",
       "  secondaryKey='009a2637-72cf-42f5-87e5-8c719152e45d',\n",
       "  children=c3.Arry<Action>([c3.Action(\n",
       "              id='7536.3592463',\n",
       "              parentId='7536.3592446',\n",
       "              target='seaweed-control/devseaweedrc1/BatchQueue?action=compute',\n",
       "              tenant='seaweed-control',\n",
       "              tag='devseaweedrc1',\n",
       "              status='Running',\n",
       "              age='00:20:05.882',\n",
       "              elapsed=1205882,\n",
       "              children=c3.Arry<Action>([c3.Action(\n",
       "                          id='7536.3757288',\n",
       "                          parentId='7536.3592463',\n",
       "                          target='seaweed-control/devseaweedrc1/OceanSimRunBatchJob?action=dispatchProcessBatch',\n",
       "                          tenant='seaweed-control',\n",
       "                          tag='devseaweedrc1',\n",
       "                          status='Running',\n",
       "                          age='00:19:58.525',\n",
       "                          elapsed=1198525,\n",
       "                          children=c3.Arry<Action>([c3.Action(\n",
       "                                      id='7536.3757850',\n",
       "                                      parentId='7536.3757288',\n",
       "                                      target='seaweed-control/devseaweedrc1/OceanSimRunBatchJob?action=processBatch',\n",
       "                                      tenant='seaweed-control',\n",
       "                                      tag='devseaweedrc1',\n",
       "                                      status='Running',\n",
       "                                      age='00:19:58.182',\n",
       "                                      elapsed=1198182,\n",
       "                                      children=c3.Arry<Action>([c3.Action(\n",
       "                                                  id='7536.3761660',\n",
       "                                                  parentId='7536.3757850',\n",
       "                                                  target='seaweed-control/devseaweedrc1/OceanSimRun?action=runSimMatthias',\n",
       "                                                  tenant='seaweed-control',\n",
       "                                                  tag='devseaweedrc1',\n",
       "                                                  status='Running',\n",
       "                                                  age='00:19:57.754',\n",
       "                                                  elapsed=1197754)]))]))]))]),\n",
       "  host='appc8m642-w-15'),\n",
       " c3.ClusterAction(\n",
       "  id='7153.30683..."
      ]
     },
     "execution_count": 27,
     "metadata": {},
     "output_type": "execute_result"
    }
   ],
   "source": [
    "#Other Utils for the cluster\n",
    "c3.Cluster.actionDump()"
   ]
  },
  {
   "attachments": {},
   "cell_type": "markdown",
   "metadata": {},
   "source": [
    "Plot all of them on a map and get distribution information"
   ]
  },
  {
   "cell_type": "code",
   "execution_count": 104,
   "metadata": {},
   "outputs": [
    {
     "data": {
      "text/plain": [
       "{'x_0': [{'lon': -79.58802795410156,\n",
       "   'lat': 27.246288299560547,\n",
       "   'date_time': '2022-09-09T12:17:49+00:00'},\n",
       "  {'lon': -79.57960510253906,\n",
       "   'lat': 27.242517471313477,\n",
       "   'date_time': '2022-09-09T12:17:49+00:00'},\n",
       "  {'lon': -79.58111572265625,\n",
       "   'lat': 27.25318717956543,\n",
       "   'date_time': '2022-09-09T12:17:49+00:00'},\n",
       "  {'lon': -79.5793685913086,\n",
       "   'lat': 27.246204376220703,\n",
       "   'date_time': '2022-09-09T12:17:49+00:00'}],\n",
       " 'x_T': {'lon': -79.5384030710877, 'lat': 27.108909706672566},\n",
       " 'target_radius': 0.1,\n",
       " 'seed': 30555,\n",
       " 'feasible': True,\n",
       " 'ttr_in_h': 101.52528568756271}"
      ]
     },
     "execution_count": 104,
     "metadata": {},
     "output_type": "execute_result"
    }
   ],
   "source": [
    "exp.get('expMissions').expMissions[0].get('missionConfig').missionConfig"
   ]
  },
  {
   "cell_type": "code",
   "execution_count": 66,
   "metadata": {},
   "outputs": [],
   "source": [
    "from ocean_navigation_simulator.reinforcement_learning.missions.CachedNavigationProblem import (\n",
    "    CachedNavigationProblem,\n",
    ")\n",
    "from ocean_navigation_simulator.environment.PlatformState import (\n",
    "    PlatformState,\n",
    "    PlatformStateSet,\n",
    "    SpatialPoint,\n",
    ")\n",
    "\n",
    "from ocean_navigation_simulator.utils import units\n",
    "\n",
    "problems = []\n",
    "for miss in exp.get('expMissions').expMissions:\n",
    "    missionConfig = miss.get(\"missionConfig\").missionConfig\n",
    "    problems.append(CachedNavigationProblem.from_c3_mission_config(missionConfig))"
   ]
  },
  {
   "cell_type": "code",
   "execution_count": 47,
   "metadata": {},
   "outputs": [
    {
     "data": {
      "text/plain": [
       "Problem [start: [[-79.58803° -79.57961° -79.58112° -79.57937°],                       [27.24629° 27.24252° 27.25319° 27.24620°]],                       ['2022-09-09 12:17:49' '2022-09-09 12:17:49' '2022-09-09 12:17:49'\n",
       " '2022-09-09 12:17:49']], end: [-79.538403°,27.10891°], target_radius: 0.10, ttr: 102h] (INone, GNone BNone FINone)"
      ]
     },
     "execution_count": 47,
     "metadata": {},
     "output_type": "execute_result"
    }
   ],
   "source": [
    "problems[0]"
   ]
  },
  {
   "cell_type": "code",
   "execution_count": 48,
   "metadata": {},
   "outputs": [],
   "source": [
    "import pandas as pd\n",
    "from ocean_navigation_simulator.reinforcement_learning.runners.GenerationRunner import (\n",
    "    GenerationRunner)\n",
    "\n",
    "results_folder = f\"{os.getcwd()}/\"\n",
    "df = pd.DataFrame([problem.to_dict() for problem in problems])\n",
    "df['factory_index'] = 0\n",
    "df.to_csv(results_folder + \"problems.csv\")"
   ]
  },
  {
   "cell_type": "code",
   "execution_count": 58,
   "metadata": {},
   "outputs": [
    {
     "data": {
      "text/plain": [
       "0     27.108910\n",
       "1     27.108910\n",
       "2     25.424360\n",
       "3     25.424360\n",
       "4     24.629775\n",
       "5     24.629775\n",
       "6     24.629775\n",
       "7     20.722562\n",
       "8     22.311709\n",
       "9     22.233801\n",
       "10    22.233801\n",
       "11    22.233801\n",
       "Name: x_T_lat, dtype: float64"
      ]
     },
     "execution_count": 58,
     "metadata": {},
     "output_type": "execute_result"
    }
   ],
   "source": []
  },
  {
   "cell_type": "code",
   "execution_count": 63,
   "metadata": {},
   "outputs": [
    {
     "name": "stderr",
     "output_type": "stream",
     "text": [
      "/tmp/ipykernel_12959/3117225428.py:21: UserWarning:\n",
      "\n",
      "Matplotlib is currently using module://matplotlib_inline.backend_inline, which is a non-GUI backend, so cannot show the figure.\n",
      "\n"
     ]
    },
    {
     "data": {
      "image/png": "[encoded data removed]",
      "text/plain": [
       "<Figure size 1000x1000 with 1 Axes>"
      ]
     },
     "metadata": {},
     "output_type": "display_data"
    }
   ],
   "source": [
    "import matplotlib.pyplot as plt\n",
    "import cartopy.crs as ccrs\n",
    "import cartopy.feature as cfeature\n",
    "\n",
    "fig = plt.figure(figsize=(10,10))\n",
    "ax = plt.axes(projection=ccrs.PlateCarree())\n",
    "#ax.set_title(\"Time: \" + datetime.fromtimestamp(time, tz=timezone.utc).strftime('%Y-%m-%d %H:%M:%S UTC'))\n",
    " \n",
    "ax.add_feature(cfeature.LAND, zorder=3, edgecolor='black')\n",
    "ax.add_feature(cfeature.OCEAN, zorder=0)\n",
    "grid_lines = ax.gridlines(draw_labels=True, zorder=5)\n",
    "grid_lines.top_labels = False\n",
    "grid_lines.right_labels = False\n",
    "ax.axis(xmin=-98,xmax=-76)\n",
    "ax.axis(ymin=18,ymax=32)\n",
    "for miss_idx in range(len(df)):\n",
    "    ax.scatter(df.iloc[miss_idx][\"x_0_lon\"], df.iloc[miss_idx][\"x_0_lat\"], c=\"red\", marker=\"o\", s=6, label=\"starts\" if miss_idx==0 else None)\n",
    "ax.scatter(df[\"x_T_lon\"], df[\"x_T_lat\"], c=\"green\", marker=\"x\", s=12, label=\"targets\")\n",
    "ax.legend()\n",
    "# ax.get_figure().savefig(f\"{analysis_folder}starts_and_targets.png\")\n",
    "ax.get_figure().show()"
   ]
  },
  {
   "cell_type": "code",
   "execution_count": 68,
   "metadata": {},
   "outputs": [
    {
     "data": {
      "image/png": "[encoded data removed]",
      "text/plain": [
       "<Figure size 640x480 with 1 Axes>"
      ]
     },
     "metadata": {},
     "output_type": "display_data"
    },
    {
     "ename": "KeyError",
     "evalue": "'multi_agent'",
     "output_type": "error",
     "traceback": [
      "\u001b[0;31m---------------------------------------------------------------------------\u001b[0m",
      "\u001b[0;31mKeyError\u001b[0m                                  Traceback (most recent call last)",
      "File \u001b[0;32m~/miniconda3/envs/ocean_minimal/lib/python3.9/site-packages/pandas/core/indexes/base.py:3361\u001b[0m, in \u001b[0;36mIndex.get_loc\u001b[0;34m(self, key, method, tolerance)\u001b[0m\n\u001b[1;32m   3360\u001b[0m \u001b[39mtry\u001b[39;00m:\n\u001b[0;32m-> 3361\u001b[0m     \u001b[39mreturn\u001b[39;00m \u001b[39mself\u001b[39;49m\u001b[39m.\u001b[39;49m_engine\u001b[39m.\u001b[39;49mget_loc(casted_key)\n\u001b[1;32m   3362\u001b[0m \u001b[39mexcept\u001b[39;00m \u001b[39mKeyError\u001b[39;00m \u001b[39mas\u001b[39;00m err:\n",
      "File \u001b[0;32m~/miniconda3/envs/ocean_minimal/lib/python3.9/site-packages/pandas/_libs/index.pyx:76\u001b[0m, in \u001b[0;36mpandas._libs.index.IndexEngine.get_loc\u001b[0;34m()\u001b[0m\n",
      "File \u001b[0;32m~/miniconda3/envs/ocean_minimal/lib/python3.9/site-packages/pandas/_libs/index.pyx:108\u001b[0m, in \u001b[0;36mpandas._libs.index.IndexEngine.get_loc\u001b[0;34m()\u001b[0m\n",
      "File \u001b[0;32mpandas/_libs/hashtable_class_helper.pxi:5198\u001b[0m, in \u001b[0;36mpandas._libs.hashtable.PyObjectHashTable.get_item\u001b[0;34m()\u001b[0m\n",
      "File \u001b[0;32mpandas/_libs/hashtable_class_helper.pxi:5206\u001b[0m, in \u001b[0;36mpandas._libs.hashtable.PyObjectHashTable.get_item\u001b[0;34m()\u001b[0m\n",
      "\u001b[0;31mKeyError\u001b[0m: 'multi_agent'",
      "\nThe above exception was the direct cause of the following exception:\n",
      "\u001b[0;31mKeyError\u001b[0m                                  Traceback (most recent call last)",
      "\u001b[1;32m/home/nicolas/documents/Master_Thesis_repo/OceanPlatformControl/scripts/nicolas/scripts_for_exp_runs/multi_ag_running_on_c3.ipynb Cell 24\u001b[0m in \u001b[0;36m<cell line: 2>\u001b[0;34m()\u001b[0m\n\u001b[1;32m      <a href='vscode-notebook-cell://wsl%2Bubuntu-20.04/home/nicolas/documents/Master_Thesis_repo/OceanPlatformControl/scripts/nicolas/scripts_for_exp_runs/multi_ag_running_on_c3.ipynb#X30sdnNjb2RlLXJlbW90ZQ%3D%3D?line=0'>1</a>\u001b[0m GenerationRunner\u001b[39m.\u001b[39mplot_ttr_histogram(results_folder)\n\u001b[0;32m----> <a href='vscode-notebook-cell://wsl%2Bubuntu-20.04/home/nicolas/documents/Master_Thesis_repo/OceanPlatformControl/scripts/nicolas/scripts_for_exp_runs/multi_ag_running_on_c3.ipynb#X30sdnNjb2RlLXJlbW90ZQ%3D%3D?line=1'>2</a>\u001b[0m GenerationRunner\u001b[39m.\u001b[39;49mplot_starts_and_targets(\n\u001b[1;32m      <a href='vscode-notebook-cell://wsl%2Bubuntu-20.04/home/nicolas/documents/Master_Thesis_repo/OceanPlatformControl/scripts/nicolas/scripts_for_exp_runs/multi_ag_running_on_c3.ipynb#X30sdnNjb2RlLXJlbW90ZQ%3D%3D?line=2'>3</a>\u001b[0m     results_folder\u001b[39m=\u001b[39;49mresults_folder, pb_filename\u001b[39m=\u001b[39;49m\u001b[39m\"\u001b[39;49m\u001b[39mproblems.csv\u001b[39;49m\u001b[39m\"\u001b[39;49m, scenario_config\u001b[39m=\u001b[39;49marena_config,\n\u001b[1;32m      <a href='vscode-notebook-cell://wsl%2Bubuntu-20.04/home/nicolas/documents/Master_Thesis_repo/OceanPlatformControl/scripts/nicolas/scripts_for_exp_runs/multi_ag_running_on_c3.ipynb#X30sdnNjb2RlLXJlbW90ZQ%3D%3D?line=3'>4</a>\u001b[0m )\n",
      "File \u001b[0;32m~/documents/Master_Thesis_repo/OceanPlatformControl/ocean_navigation_simulator/reinforcement_learning/runners/GenerationRunner.py:315\u001b[0m, in \u001b[0;36mGenerationRunner.plot_starts_and_targets\u001b[0;34m(results_folder, pb_filename, scenario_file, scenario_config, c3, margin_deg_plot)\u001b[0m\n\u001b[1;32m    311\u001b[0m os\u001b[39m.\u001b[39mmakedirs(analysis_folder, exist_ok\u001b[39m=\u001b[39m\u001b[39mTrue\u001b[39;00m)\n\u001b[1;32m    313\u001b[0m \u001b[39m# For now all problems have the same target\u001b[39;00m\n\u001b[1;32m    314\u001b[0m \u001b[39m# So it is enough to extract only one to get the data range\u001b[39;00m\n\u001b[0;32m--> 315\u001b[0m problem \u001b[39m=\u001b[39m CachedNavigationProblem\u001b[39m.\u001b[39;49mfrom_pandas_row(problems_df\u001b[39m.\u001b[39;49miloc[\u001b[39m0\u001b[39;49m])\n\u001b[1;32m    317\u001b[0m \u001b[39m# Step 2:\u001b[39;00m\n\u001b[1;32m    318\u001b[0m arena \u001b[39m=\u001b[39m ArenaFactory\u001b[39m.\u001b[39mcreate(\n\u001b[1;32m    319\u001b[0m     \u001b[39m# only use hindcast\u001b[39;00m\n\u001b[1;32m    320\u001b[0m     scenario_file\u001b[39m=\u001b[39mscenario_file,\n\u001b[0;32m   (...)\u001b[0m\n\u001b[1;32m    324\u001b[0m     c3\u001b[39m=\u001b[39mc3,\n\u001b[1;32m    325\u001b[0m )\n",
      "File \u001b[0;32m~/documents/Master_Thesis_repo/OceanPlatformControl/ocean_navigation_simulator/reinforcement_learning/missions/CachedNavigationProblem.py:37\u001b[0m, in \u001b[0;36mCachedNavigationProblem.from_pandas_row\u001b[0;34m(mission, base_path)\u001b[0m\n\u001b[1;32m     33\u001b[0m         v \u001b[39m=\u001b[39m datetime\u001b[39m.\u001b[39mdatetime\u001b[39m.\u001b[39mfromisoformat(v)\n\u001b[1;32m     35\u001b[0m     \u001b[39mreturn\u001b[39;00m v\n\u001b[0;32m---> 37\u001b[0m \u001b[39mif\u001b[39;00m mission[\u001b[39m\"\u001b[39;49m\u001b[39mmulti_agent\u001b[39;49m\u001b[39m\"\u001b[39;49m]:\n\u001b[1;32m     38\u001b[0m     \u001b[39mreturn\u001b[39;00m CachedNavigationProblem(\n\u001b[1;32m     39\u001b[0m         start_state\u001b[39m=\u001b[39mPlatformStateSet(\n\u001b[1;32m     40\u001b[0m             platform_list\u001b[39m=\u001b[39m[\n\u001b[0;32m   (...)\u001b[0m\n\u001b[1;32m     58\u001b[0m         extra_info\u001b[39m=\u001b[39m{k: mutate_read(k, v) \u001b[39mfor\u001b[39;00m k, v \u001b[39min\u001b[39;00m mission\u001b[39m.\u001b[39mto_dict()\u001b[39m.\u001b[39mitems()},\n\u001b[1;32m     59\u001b[0m     )\n\u001b[1;32m     60\u001b[0m \u001b[39melse\u001b[39;00m:\n",
      "File \u001b[0;32m~/miniconda3/envs/ocean_minimal/lib/python3.9/site-packages/pandas/core/series.py:942\u001b[0m, in \u001b[0;36mSeries.__getitem__\u001b[0;34m(self, key)\u001b[0m\n\u001b[1;32m    939\u001b[0m     \u001b[39mreturn\u001b[39;00m \u001b[39mself\u001b[39m\u001b[39m.\u001b[39m_values[key]\n\u001b[1;32m    941\u001b[0m \u001b[39melif\u001b[39;00m key_is_scalar:\n\u001b[0;32m--> 942\u001b[0m     \u001b[39mreturn\u001b[39;00m \u001b[39mself\u001b[39;49m\u001b[39m.\u001b[39;49m_get_value(key)\n\u001b[1;32m    944\u001b[0m \u001b[39mif\u001b[39;00m is_hashable(key):\n\u001b[1;32m    945\u001b[0m     \u001b[39m# Otherwise index.get_value will raise InvalidIndexError\u001b[39;00m\n\u001b[1;32m    946\u001b[0m     \u001b[39mtry\u001b[39;00m:\n\u001b[1;32m    947\u001b[0m         \u001b[39m# For labels that don't resolve as scalars like tuples and frozensets\u001b[39;00m\n",
      "File \u001b[0;32m~/miniconda3/envs/ocean_minimal/lib/python3.9/site-packages/pandas/core/series.py:1051\u001b[0m, in \u001b[0;36mSeries._get_value\u001b[0;34m(self, label, takeable)\u001b[0m\n\u001b[1;32m   1048\u001b[0m     \u001b[39mreturn\u001b[39;00m \u001b[39mself\u001b[39m\u001b[39m.\u001b[39m_values[label]\n\u001b[1;32m   1050\u001b[0m \u001b[39m# Similar to Index.get_value, but we do not fall back to positional\u001b[39;00m\n\u001b[0;32m-> 1051\u001b[0m loc \u001b[39m=\u001b[39m \u001b[39mself\u001b[39;49m\u001b[39m.\u001b[39;49mindex\u001b[39m.\u001b[39;49mget_loc(label)\n\u001b[1;32m   1052\u001b[0m \u001b[39mreturn\u001b[39;00m \u001b[39mself\u001b[39m\u001b[39m.\u001b[39mindex\u001b[39m.\u001b[39m_get_values_for_loc(\u001b[39mself\u001b[39m, loc, label)\n",
      "File \u001b[0;32m~/miniconda3/envs/ocean_minimal/lib/python3.9/site-packages/pandas/core/indexes/base.py:3363\u001b[0m, in \u001b[0;36mIndex.get_loc\u001b[0;34m(self, key, method, tolerance)\u001b[0m\n\u001b[1;32m   3361\u001b[0m         \u001b[39mreturn\u001b[39;00m \u001b[39mself\u001b[39m\u001b[39m.\u001b[39m_engine\u001b[39m.\u001b[39mget_loc(casted_key)\n\u001b[1;32m   3362\u001b[0m     \u001b[39mexcept\u001b[39;00m \u001b[39mKeyError\u001b[39;00m \u001b[39mas\u001b[39;00m err:\n\u001b[0;32m-> 3363\u001b[0m         \u001b[39mraise\u001b[39;00m \u001b[39mKeyError\u001b[39;00m(key) \u001b[39mfrom\u001b[39;00m \u001b[39merr\u001b[39;00m\n\u001b[1;32m   3365\u001b[0m \u001b[39mif\u001b[39;00m is_scalar(key) \u001b[39mand\u001b[39;00m isna(key) \u001b[39mand\u001b[39;00m \u001b[39mnot\u001b[39;00m \u001b[39mself\u001b[39m\u001b[39m.\u001b[39mhasnans:\n\u001b[1;32m   3366\u001b[0m     \u001b[39mraise\u001b[39;00m \u001b[39mKeyError\u001b[39;00m(key)\n",
      "\u001b[0;31mKeyError\u001b[0m: 'multi_agent'"
     ]
    }
   ],
   "source": [
    "GenerationRunner.plot_ttr_histogram(results_folder)\n",
    "GenerationRunner.plot_starts_and_targets(\n",
    "    results_folder=results_folder, pb_filename=\"problems.csv\", scenario_config=arena_config,\n",
    ")"
   ]
  },
  {
   "attachments": {},
   "cell_type": "markdown",
   "metadata": {},
   "source": [
    "# Add Observer"
   ]
  },
  {
   "cell_type": "code",
   "execution_count": 69,
   "metadata": {},
   "outputs": [
    {
     "data": {
      "text/plain": [
       "c3.ObserverSetting(\n",
       " id='multi_agent_dev_NoObserver',\n",
       " name='NoObserver',\n",
       " meta=c3.Meta(\n",
       "        created=datetime.datetime(2023, 2, 1, 3, 7, 39, tzinfo=datetime.timezone.utc),\n",
       "        updated=datetime.datetime(2023, 2, 1, 3, 7, 39, tzinfo=datetime.timezone.utc),\n",
       "        timestamp=datetime.datetime(2023, 2, 1, 3, 7, 39, tzinfo=datetime.timezone.utc)),\n",
       " version=1)"
      ]
     },
     "execution_count": 69,
     "metadata": {},
     "output_type": "execute_result"
    }
   ],
   "source": [
    "# Config for No observer\n",
    "observer_config = {\"observer\": None}\n",
    "# add observer\n",
    "exp.addObserver(name=\"NoObserver\", observerConfig=observer_config)"
   ]
  },
  {
   "attachments": {},
   "cell_type": "markdown",
   "metadata": {},
   "source": [
    "# Add Controller"
   ]
  },
  {
   "cell_type": "code",
   "execution_count": 108,
   "metadata": {},
   "outputs": [],
   "source": [
    "# Controller Configs\n",
    "HJMultiTimeConfig = {\n",
    "    \"replan_every_X_seconds\": None,\n",
    "    \"replan_on_new_fmrc\": True,\n",
    "    \"T_goal_in_seconds\": 3600 * 24 * 3,  # 3d, 43200,     # 12h\n",
    "    \"accuracy\": \"high\",\n",
    "    \"artificial_dissipation_scheme\": \"local_local\",\n",
    "    \"ctrl_name\": \"ocean_navigation_simulator.controllers.hj_planners.HJReach2DPlanner.HJReach2DPlanner\",\n",
    "    \"d_max\": 0.0,\n",
    "    \"deg_around_xt_xT_box\": 1.0,\n",
    "    \"direction\": \"multi-time-reach-back\",\n",
    "    \"grid_res\": 0.02,\n",
    "    \"n_time_vector\": 200,\n",
    "    \"progress_bar\": True,\n",
    "    \"use_geographic_coordinate_system\": True,\n",
    "}\n",
    "StraightLineConfig = {\n",
    "    \"ctrl_name\": \"ocean_navigation_simulator.controllers.NaiveController.NaiveController\"\n",
    "}\n",
    "flockingConfig = {\n",
    "    \"unit\": \"km\",\n",
    "    \"interaction_range\": 9,  # km\n",
    "    \"grad_clip_range\": 0.1,  # km\n",
    "}\n",
    "reactiveConfig = {\n",
    "    \"unit\": \"m\",\n",
    "    \"mix_ttr_and_euclidean\": False,\n",
    "    \"delta_3\": 8800,  # collision threshold (communication - delta_3)\n",
    "    \"delta_2\": 2000,  # safe zone threshold  ]communication - delta_2, communication - delta_3[\n",
    "    \"delta_1\": 500,  # small threshold so that if distance > communication_thrsld- delta_1 we try to achieve connectivity\n",
    "    \"communication_thrsld\": 9000,\n",
    "    \"k_1\": 0.25,\n",
    "    \"k_2\": 1,\n",
    "}\n",
    "\n",
    "MultiAgentCtrlConfig = {\n",
    "    \"ctrl_name\": \"ocean_navigation_simulator.controllers.MultiAgentPlanner.MultiAgentPlanner\",\n",
    "    \"high_level_ctrl\": \"flocking\",  # choose from hj_naive, flocking, reactive_control\n",
    "    \"unit\": \"km\",\n",
    "    \"communication_thrsld\": 9,\n",
    "    \"hj_specific_settings\": HJMultiTimeConfig,\n",
    "    \"flocking_config\": flockingConfig,\n",
    "    \"reactive_control_config\": reactiveConfig,\n",
    "}"
   ]
  },
  {
   "cell_type": "code",
   "execution_count": 78,
   "metadata": {},
   "outputs": [
    {
     "data": {
      "text/plain": [
       "\"id=='multi_agent_dev_hj_naive'\""
      ]
     },
     "execution_count": 78,
     "metadata": {},
     "output_type": "execute_result"
    }
   ],
   "source": [
    "'id==' + \"'\" + experiment_name + \"_\" + \"hj_naive\" + \"'\""
   ]
  },
  {
   "cell_type": "code",
   "execution_count": 96,
   "metadata": {},
   "outputs": [
    {
     "data": {
      "text/plain": [
       "c3.Experiment(\n",
       " id='multi_agent_dev',\n",
       " meta=c3.Meta(\n",
       "        fetchInclude='[experimentName,id,version]',\n",
       "        fetchType='Experiment'),\n",
       " version=1,\n",
       " experimentName='multi_agent_dev',\n",
       " T_horizon_FC_Error_Calculation_in_h=96)"
      ]
     },
     "execution_count": 96,
     "metadata": {},
     "output_type": "execute_result"
    }
   ],
   "source": [
    "exp.get('experimentName')"
   ]
  },
  {
   "cell_type": "code",
   "execution_count": 88,
   "metadata": {},
   "outputs": [],
   "source": [
    "exp.experimentName = exp.get('experiment_name')"
   ]
  },
  {
   "cell_type": "code",
   "execution_count": 110,
   "metadata": {},
   "outputs": [
    {
     "data": {
      "text/plain": [
       "c3.ControllerSetting(\n",
       " id='multi_agent_dev_flocking_new',\n",
       " name='flocking_new',\n",
       " meta=c3.Meta(\n",
       "        created=datetime.datetime(2023, 2, 1, 3, 50, 9, tzinfo=datetime.timezone.utc),\n",
       "        updated=datetime.datetime(2023, 2, 1, 3, 50, 9, tzinfo=datetime.timezone.utc),\n",
       "        timestamp=datetime.datetime(2023, 2, 1, 3, 50, 9, tzinfo=datetime.timezone.utc)),\n",
       " version=1)"
      ]
     },
     "execution_count": 110,
     "metadata": {},
     "output_type": "execute_result"
    }
   ],
   "source": [
    "# add controller\n",
    "exp.addController(name='flocking_new', ctrlConfig=MultiAgentCtrlConfig)"
   ]
  },
  {
   "attachments": {},
   "cell_type": "markdown",
   "metadata": {},
   "source": [
    "# Create Ocean Sim Runs"
   ]
  },
  {
   "cell_type": "code",
   "execution_count": 106,
   "metadata": {},
   "outputs": [
    {
     "data": {
      "text/plain": [
       "True"
      ]
     },
     "execution_count": 106,
     "metadata": {},
     "output_type": "execute_result"
    }
   ],
   "source": [
    "# Create the Run objects\n",
    "exp.createOceanSimRuns(ctrl_name='flocking', obs_name='NoObserver')"
   ]
  },
  {
   "attachments": {},
   "cell_type": "markdown",
   "metadata": {},
   "source": [
    "# Run Simulation"
   ]
  },
  {
   "cell_type": "code",
   "execution_count": 91,
   "metadata": {},
   "outputs": [],
   "source": [
    "# Create the Experiment Batch Job Options\n",
    "options = c3.OceanSimRunBatchJobOptions(**{\n",
    "    'experiment': exp,\n",
    "    'actionRuntime': 'nicolas' # enum('marius', 'andreas', 'matthias', 'nicolas')\n",
    "})"
   ]
  },
  {
   "cell_type": "code",
   "execution_count": 92,
   "metadata": {},
   "outputs": [
    {
     "data": {
      "text/plain": [
       "c3.OceanSimRunBatchJob(\n",
       " typeIdent='BATCHJ:O_OSRun',\n",
       " id='03b44bae-1a6e-4fa1-b07e-d906b48b84bf',\n",
       " meta=c3.Meta(\n",
       "        created=datetime.datetime(2023, 2, 1, 3, 31, 34, tzinfo=datetime.timezone.utc),\n",
       "        updated=datetime.datetime(2023, 2, 1, 3, 31, 34, tzinfo=datetime.timezone.utc),\n",
       "        timestamp=datetime.datetime(2023, 2, 1, 3, 31, 34, tzinfo=datetime.timezone.utc)),\n",
       " version=1)"
      ]
     },
     "execution_count": 92,
     "metadata": {},
     "output_type": "execute_result"
    }
   ],
   "source": [
    "# Start the Batch Job\n",
    "run_job = c3.OceanSimRunBatchJob(**{'options': options.toJson()}).upsert()\n",
    "# run_job.numAutoRecoveryAttempts = 1\n",
    "run_job.start()\n",
    "run_job"
   ]
  },
  {
   "cell_type": "code",
   "execution_count": 99,
   "metadata": {},
   "outputs": [
    {
     "data": {
      "text/plain": [
       "c3.BatchJobStatus(\n",
       " started=datetime.datetime(2023, 2, 1, 3, 31, 34, tzinfo=datetime.timezone.utc),\n",
       " startedby='mariuswiggert@berkeley.edu',\n",
       " completed=datetime.datetime(2023, 2, 1, 3, 31, 35, tzinfo=datetime.timezone.utc),\n",
       " status='completed',\n",
       " newBatchSubmitted=False)"
      ]
     },
     "execution_count": 99,
     "metadata": {},
     "output_type": "execute_result"
    }
   ],
   "source": [
    "#run_job = c3.OceanSimRunBatchJob.get('03b44bae-1a6e-4fa1-b07e-d906b48b84bf')\n",
    "run_job.status()"
   ]
  },
  {
   "cell_type": "code",
   "execution_count": 105,
   "metadata": {},
   "outputs": [
    {
     "data": {
      "text/plain": [
       "c3.Arry<ClusterAction>([c3.ClusterAction(\n",
       "  id='912.-912929329',\n",
       "  target='c3/c3/BatchQueue?action=dispatchCompute',\n",
       "  tenant='c3',\n",
       "  tag='c3',\n",
       "  status='Running',\n",
       "  threadId='197',\n",
       "  threadGroup='main',\n",
       "  threadName='Hannibal-45',\n",
       "  age='00:18:56.154',\n",
       "  elapsed=1136154,\n",
       "  secondaryKey='29e04a19-ec00-4476-937e-85b7bffaadec',\n",
       "  children=c3.Arry<Action>([c3.Action(\n",
       "              id='912.-912929293',\n",
       "              parentId='912.-912929329',\n",
       "              target='seaweed-control/devseaweedrc1/BatchQueue?action=compute',\n",
       "              tenant='seaweed-control',\n",
       "              tag='devseaweedrc1',\n",
       "              status='Running',\n",
       "              age='00:18:56.153',\n",
       "              elapsed=1136153,\n",
       "              children=c3.Arry<Action>([c3.Action(\n",
       "                          id='912.-912929028',\n",
       "                          parentId='912.-912929293',\n",
       "                          target='seaweed-control/devseaweedrc1/OceanDataFileDownloadJob?action=dispatchProcessBatch',\n",
       "                          tenant='seaweed-control',\n",
       "                          tag='devseaweedrc1',\n",
       "                          status='Running',\n",
       "                          age='00:18:56.149',\n",
       "                          elapsed=1136149,\n",
       "                          children=c3.Arry<Action>([c3.Action(\n",
       "                                      id='912.-912927984',\n",
       "                                      parentId='912.-912929028',\n",
       "                                      target='seaweed-control/devseaweedrc1/OceanDataFileDownloadJob?action=processBatch',\n",
       "                                      tenant='seaweed-control',\n",
       "                                      tag='devseaweedrc1',\n",
       "                                      status='Running',\n",
       "                                      age='00:18:56.133',\n",
       "                                      elapsed=1136133,\n",
       "                                      children=c3.Arry<Action>([c3.Action(\n",
       "                                                  id='912.-912923947',\n",
       "                                                  parentId='912.-912927984',\n",
       "                                                  target='seaweed-control/devseaweedrc1/NoaaRawNowcastFile?action=download',\n",
       "                                                  tenant='seaweed-control',\n",
       "                                                  tag='devseaweedrc1',\n",
       "                                                  status='Running',\n",
       "                                                  age='00:18:55.944',\n",
       "                                                  elapsed=1135944)]))]))]))]),\n",
       "  host='appc8m64-w-0'),\n",
       " c3.ClusterAction(\n",
       "  id='912.-912928116',\n",
       "  target='c3/c3/BatchQueue?action=dispatchCompute',\n",
       "  tenant='c3',\n",
       "  tag='c3',\n",
       "  status='Running',\n",
       "  threadId='237',\n",
       "  threadGroup='main',\n",
       "  threadName='Hannibal-74',\n",
       "  age='00:18:56.135',\n",
       "  elapsed=1136135,\n",
       "  secondaryKey='c1400f97-ed83-4d95-b029-800a70fae187',\n",
       "  children=c3.Arry<Action>([c3.Action(\n",
       "              id='912.-912928047',\n",
       "              parentId='912.-912928116',\n",
       "              target='seaweed-control/devseaweedrc1/BatchQueue?action=compute',\n",
       "              tenant='seaweed-control',\n",
       "              tag='devseaweedrc1',\n",
       "              status='Running',\n",
       "              age='00:18:56.134',\n",
       "              elapsed=1136134,\n",
       "              children=c3.Arry<Action>([c3.Action(\n",
       "                          id='912.-912927884',\n",
       "                          parentId='912.-912928047',\n",
       "                          target='seaweed-control/devseaweedrc1/OceanDataFileDownloadJob?action=dispatchProcessBatch',\n",
       "                          tenant='seaweed-control',\n",
       "                          tag='devseaweedrc1',\n",
       "                          status='Running',\n",
       "                          age='00:18:56.130',\n",
       "                          elapsed=1136130,\n",
       "                          children=c3.Arry<Action>([c3.Action(\n",
       "                                      id='912.-912927469',\n",
       "                                      parentId='912.-912927884',\n",
       "                                      target='seaweed-control/devseaweedrc1/OceanDataFileDownloadJob?action=processBatch',\n",
       "                                      tenant='seaweed-control',\n",
       "                                      tag='devseaweedrc1',\n",
       "                                      status='Running',\n",
       "                                      age='00:18:56.113',\n",
       "                                      elapsed=1136113,\n",
       "                                      children=c3.Arry<Action>([c3.Action(\n",
       "                                                  id='912.-912923525',\n",
       "                                                  parentId='912.-912927469',\n",
       "                                                  target='seaweed-control/devseaweedrc1/NoaaRawNowcastFile?action=download',\n",
       "                                                  tenant='seaweed-control',\n",
       "                                                  tag='devseaweedrc1',\n",
       "                                                  status='Running',\n",
       "                                                  age='00:18:55.939',\n",
       "                                                  elapsed=1135939)]))]))]))]),\n",
       "  host='appc8m64-w-0'),\n",
       " c3.ClusterAction(\n",
       "  id='8938.114752639',\n",
       "  target='c3/c3/BatchQueue?action=dispatchCompute',\n",
       "  tenant='c3',\n",
       "  tag='c3',\n",
       "  status='Running',\n",
       "  threadId='219',\n",
       "  threadGroup='main',\n",
       "  threadName='Hannibal-59',\n",
       "  age='00:18:56.117',\n",
       "  elapsed=1136117,\n",
       "  secondaryKey='28147a77-4be3-4208-ae1c-4bc212116c9d',\n",
       "  children=c3.Arry<Action>([c3.Action(\n",
       "              id='8938.114752659',\n",
       "              parentId='8938.114752639',\n",
       "              target='seaweed-control/devseaweedrc1/BatchQueue?action=compute',\n",
       "              tenant='seaweed-control',\n",
       "              tag='devseaweedrc1',\n",
       "              status='Running',\n",
       "              age='00:18:56.116',\n",
       "              elapsed=1136116,\n",
       "              children=c3.Arry<Action>([c3.Action(\n",
       "                          id='8938.114752768',\n",
       "                          parentId='8938.114752659',\n",
       "                          target='seaweed-control/devseaweedrc1/OceanDataFileDownloadJob?action=dispatchProcessBatch',\n",
       "                          tenant='seaweed-control',\n",
       "                          tag='devseaweedrc1',\n",
       "                          status='Running',\n",
       "                          age='00:18:56.108',\n",
       "                          elapsed=1136108,\n",
       "                          children=c3.Arry<Action>([c3.Action(\n",
       "                                      id='8938.114753077',\n",
       "                                      parentId='8938.114752768',\n",
       "                                      target='seaweed-control/devseaweedrc1/OceanDataFileDownloadJob?action=processBatch',\n",
       "                                      tenant='seaweed-control',\n",
       "                                      tag='devseaweedrc1',\n",
       "                                      status='Running',\n",
       "                                      age='00:18:56.084',\n",
       "                                      elapsed=1136084,\n",
       "                                      children=c3.Arry<Action>([c3.Action(\n",
       "                                                  id='8938.114753097',\n",
       "                                                  parentId='8938.114753077',\n",
       "                                                  target='seaweed-control/devseaweedrc1/NoaaRawForecastFile?action=download',\n",
       "                                                  tenant='seaweed-control',\n",
       "                                                  tag='devseaweedrc1',\n",
       "                                                  status='Running',\n",
       "                                                  age='00:18:56.074',\n",
       "                                                  elapsed=1136074)]))]))]))]),\n",
       "  host='appc8m64-w-4'),\n",
       " c3.ClusterAction(\n",
       "  id='8938.114754311',\n",
       "  target='c3/c3/BatchQueue?action=dispatchCompute',\n",
       "  tenant='c3',\n",
       "  tag='c3',\n",
       "  status='Running',\n",
       "  threadId='254',\n",
       "  threadGroup='main',\n",
       "  threadName='Hannibal-92',\n",
       "  age='00:18:56.008',\n",
       "  elapsed=1136008,\n",
       "  secondaryKey='e127ff7a-ba69-48ae-990c-132ce8e9990b',\n",
       "  children=c3.Arry<Action>([c3.Action(\n",
       "              id='8938.114754365',\n",
       "              parentId='8938.114754311',\n",
       "              target='seaweed-control/devseaweedrc1/BatchQueue?action=compute',\n",
       "              tenant='seaweed-control',\n",
       "              tag='devseaweedrc1',\n",
       "              status='Running',\n",
       "              age='00:18:56.007',\n",
       "              elapsed=1136007,\n",
       "              children=c3.Arry<Action>([c3.Action(\n",
       "                          id='8938.114754551',\n",
       "                          parentId='8938.114754365',\n",
       "                          target='seaweed-control/devseaweedrc1/OceanDataFileDownloadJob?action=dispatchProcessBatch',\n",
       "                          tenant='seaweed-control',\n",
       "                          tag='devseaweedrc1',\n",
       "                          status='Running',\n",
       "                          age='00:18:56.000',\n",
       "                          elapsed=1136000,\n",
       "                          children=c3.Arry<Action>([c3.Action(\n",
       "                                      id='8938.114755323',\n",
       "                                      parentId='8938.114754551',\n",
       "                                      target='seaweed-control/devseaweedrc1/OceanDataFileDownloadJob?action=processBatch',\n",
       "                                      tenant='seaweed-control',\n",
       "                                      tag='devseaweedrc1',\n",
       "                                      status='Running',\n",
       "                                      age='00:18:55.972',\n",
       "                                      elapsed=1135972,\n",
       "                                      children=c3.Arry<Action>([c3.Action(\n",
       "                                                  id='8938.132183516',\n",
       "                                                  parentId='8938.114755323',\n",
       "                                                  target='seaweed-control/devseaweedrc1/NoaaRawForecastFile?action=download',\n",
       "                                                  tenant='seaweed-control',\n",
       "                                                  tag='devseaweedrc1',\n",
       "                                                  status='Running',\n",
       "                                                  age='00:01:31.175',\n",
       "                           ..."
      ]
     },
     "execution_count": 105,
     "metadata": {},
     "output_type": "execute_result"
    }
   ],
   "source": [
    "c3.Cluster.actionDump()"
   ]
  },
  {
   "cell_type": "code",
   "execution_count": 114,
   "metadata": {},
   "outputs": [],
   "source": [
    "exp_filter = 'mission.experiment.id==' + '\"' + exp.get('experimentName').experimentName + '\"'\n",
    "all_exp_runs = c3.OceanSimRun.fetch(spec={'include': \"[this]\",\n",
    "                                            'filter': exp_filter,\n",
    "                                            'order': \"ascending(mission.id)\",\n",
    "                                            'limit': -1\n",
    "                                            }).objs"
   ]
  },
  {
   "cell_type": "code",
   "execution_count": null,
   "metadata": {},
   "outputs": [],
   "source": []
  },
  {
   "cell_type": "code",
   "execution_count": 111,
   "metadata": {},
   "outputs": [],
   "source": [
    "import pandas as pd\n",
    "def get_results_df(this):\n",
    "    # get all runs from the database (NOTE this can only get 2000 at a time!)\n",
    "    exp_filter = 'mission.experiment.id==' + '\"' + this.get('experimentName').experimentName + '\"'\n",
    "    all_exp_runs = c3.OceanSimRun.fetch(spec={'include': \"[this]\",\n",
    "                                              'filter': exp_filter,\n",
    "                                              'order': \"ascending(mission.id)\",\n",
    "                                              'limit': -1\n",
    "                                             }).objs\n",
    "    # get a list of all termination reasons\n",
    "    termination_reason = []\n",
    "    status = []\n",
    "    arrival_time = []\n",
    "    minDistanceToTarget = []\n",
    "    ctrl_obs_name = []\n",
    "    mission_ids = []\n",
    "\n",
    "    for run in all_exp_runs:\n",
    "        # get mission_id\n",
    "        mission_ids.append(run.get('mission').mission.id)\n",
    "        # get ctrl_obs setting\n",
    "        ctrl_obs_name.append(run.get('controllerSetting.name').controllerSetting.name + '__' + run.get('observerSetting.name').observerSetting.name)\n",
    "        # add outcomes\n",
    "        termination_reason.append(run.terminationReason)\n",
    "        status.append(run.status)\n",
    "        arrival_time.append(run.T_arrival_time)\n",
    "        minDistanceToTarget.append(run.minDistanceToTarget)\n",
    "\n",
    "    # Make a df out of it\n",
    "    df = pd.DataFrame(list(zip(mission_ids, ctrl_obs_name, status, termination_reason, arrival_time,minDistanceToTarget)),\n",
    "                      columns=['mission_id', 'setting', 'status', 'termination_reason', 'arrival_time', 'minDistance'])\n",
    "    \n",
    "    return df"
   ]
  },
  {
   "cell_type": "code",
   "execution_count": 112,
   "metadata": {},
   "outputs": [
    {
     "ename": "TypeError",
     "evalue": "'NoneType' object is not iterable",
     "output_type": "error",
     "traceback": [
      "\u001b[0;31m---------------------------------------------------------------------------\u001b[0m",
      "\u001b[0;31mTypeError\u001b[0m                                 Traceback (most recent call last)",
      "\u001b[1;32m/home/nicolas/documents/Master_Thesis_repo/OceanPlatformControl/scripts/nicolas/scripts_for_exp_runs/multi_ag_running_on_c3.ipynb Cell 41\u001b[0m in \u001b[0;36m<cell line: 1>\u001b[0;34m()\u001b[0m\n\u001b[0;32m----> <a href='vscode-notebook-cell://wsl%2Bubuntu-20.04/home/nicolas/documents/Master_Thesis_repo/OceanPlatformControl/scripts/nicolas/scripts_for_exp_runs/multi_ag_running_on_c3.ipynb#X66sdnNjb2RlLXJlbW90ZQ%3D%3D?line=0'>1</a>\u001b[0m df \u001b[39m=\u001b[39m get_results_df(exp)\n",
      "\u001b[1;32m/home/nicolas/documents/Master_Thesis_repo/OceanPlatformControl/scripts/nicolas/scripts_for_exp_runs/multi_ag_running_on_c3.ipynb Cell 41\u001b[0m in \u001b[0;36mget_results_df\u001b[0;34m(this)\u001b[0m\n\u001b[1;32m     <a href='vscode-notebook-cell://wsl%2Bubuntu-20.04/home/nicolas/documents/Master_Thesis_repo/OceanPlatformControl/scripts/nicolas/scripts_for_exp_runs/multi_ag_running_on_c3.ipynb#X66sdnNjb2RlLXJlbW90ZQ%3D%3D?line=14'>15</a>\u001b[0m ctrl_obs_name \u001b[39m=\u001b[39m []\n\u001b[1;32m     <a href='vscode-notebook-cell://wsl%2Bubuntu-20.04/home/nicolas/documents/Master_Thesis_repo/OceanPlatformControl/scripts/nicolas/scripts_for_exp_runs/multi_ag_running_on_c3.ipynb#X66sdnNjb2RlLXJlbW90ZQ%3D%3D?line=15'>16</a>\u001b[0m mission_ids \u001b[39m=\u001b[39m []\n\u001b[0;32m---> <a href='vscode-notebook-cell://wsl%2Bubuntu-20.04/home/nicolas/documents/Master_Thesis_repo/OceanPlatformControl/scripts/nicolas/scripts_for_exp_runs/multi_ag_running_on_c3.ipynb#X66sdnNjb2RlLXJlbW90ZQ%3D%3D?line=17'>18</a>\u001b[0m \u001b[39mfor\u001b[39;00m run \u001b[39min\u001b[39;00m all_exp_runs:\n\u001b[1;32m     <a href='vscode-notebook-cell://wsl%2Bubuntu-20.04/home/nicolas/documents/Master_Thesis_repo/OceanPlatformControl/scripts/nicolas/scripts_for_exp_runs/multi_ag_running_on_c3.ipynb#X66sdnNjb2RlLXJlbW90ZQ%3D%3D?line=18'>19</a>\u001b[0m     \u001b[39m# get mission_id\u001b[39;00m\n\u001b[1;32m     <a href='vscode-notebook-cell://wsl%2Bubuntu-20.04/home/nicolas/documents/Master_Thesis_repo/OceanPlatformControl/scripts/nicolas/scripts_for_exp_runs/multi_ag_running_on_c3.ipynb#X66sdnNjb2RlLXJlbW90ZQ%3D%3D?line=19'>20</a>\u001b[0m     mission_ids\u001b[39m.\u001b[39mappend(run\u001b[39m.\u001b[39mget(\u001b[39m'\u001b[39m\u001b[39mmission\u001b[39m\u001b[39m'\u001b[39m)\u001b[39m.\u001b[39mmission\u001b[39m.\u001b[39mid)\n\u001b[1;32m     <a href='vscode-notebook-cell://wsl%2Bubuntu-20.04/home/nicolas/documents/Master_Thesis_repo/OceanPlatformControl/scripts/nicolas/scripts_for_exp_runs/multi_ag_running_on_c3.ipynb#X66sdnNjb2RlLXJlbW90ZQ%3D%3D?line=20'>21</a>\u001b[0m     \u001b[39m# get ctrl_obs setting\u001b[39;00m\n",
      "\u001b[0;31mTypeError\u001b[0m: 'NoneType' object is not iterable"
     ]
    }
   ],
   "source": [
    "df = get_results_df(exp)"
   ]
  }
 ],
 "metadata": {
  "kernelspec": {
   "display_name": "ocean_minimal",
   "language": "python",
   "name": "python3"
  },
  "language_info": {
   "codemirror_mode": {
    "name": "ipython",
    "version": 3
   },
   "file_extension": ".py",
   "mimetype": "text/x-python",
   "name": "python",
   "nbconvert_exporter": "python",
   "pygments_lexer": "ipython3",
   "version": "3.9.13"
  },
  "orig_nbformat": 4,
  "vscode": {
   "interpreter": {
    "hash": "9ed4b5c9df27747f3a2313a7b45e2dcb31384957b3c889e68300f490f3475319"
   }
  }
 },
 "nbformat": 4,
 "nbformat_minor": 2
}
