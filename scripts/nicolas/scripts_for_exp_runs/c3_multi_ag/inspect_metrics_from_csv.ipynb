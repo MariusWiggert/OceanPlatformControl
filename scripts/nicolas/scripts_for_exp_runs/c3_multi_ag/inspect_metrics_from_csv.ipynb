{
 "cells": [
  {
   "cell_type": "code",
   "execution_count": 1,
   "metadata": {},
   "outputs": [],
   "source": [
    "import datetime\n",
    "import logging\n",
    "import os\n",
    "import numpy as np\n",
    "from ocean_navigation_simulator.reinforcement_learning.runners.GenerationRunner import (\n",
    "    GenerationRunner,\n",
    ")\n",
    "import matplotlib.pyplot as plt\n",
    "## Only when developing with VSCode in my repo \n",
    "#os.chdir('/home/nicolas/codeRepo/OceanPlatformControl') # here in Azure\n",
    "# os.chdir('/home/nicolas/documents/Master_Thesis_repo/OceanPlatformControl') # here in WSL\n",
    "# print(os.getcwd())\n",
    "##\n",
    "import pandas as pd\n",
    "from ocean_navigation_simulator.utils.units import Distance\n",
    "# These lines in VSCode to avoid reloading the kernel when changes are made to the external kernel\n",
    "%load_ext autoreload\n",
    "%autoreload 2"
   ]
  },
  {
   "attachments": {},
   "cell_type": "markdown",
   "metadata": {},
   "source": [
    "### Define Filenames"
   ]
  },
  {
   "cell_type": "code",
   "execution_count": 2,
   "metadata": {},
   "outputs": [],
   "source": [
    "path_to_files = 'generated_media/metrics_csv_results/'\n",
    "#file_containing_pb = 'problemsGOM.csv'\n",
    "pb_name_hj_naive = 'multi_ag_4_HC_FC_hj_naive_352.csv'\n",
    "pb_name_reactive = 'multi_ag_4_HC_FC_reactive_control_352.csv'\n",
    "pb_name_flocking = 'multi_ag_4_HC_FC_flocking_351.csv'"
   ]
  },
  {
   "attachments": {},
   "cell_type": "markdown",
   "metadata": {},
   "source": [
    "### Plot problem distribution"
   ]
  },
  {
   "cell_type": "code",
   "execution_count": 3,
   "metadata": {},
   "outputs": [],
   "source": [
    "# TODO"
   ]
  },
  {
   "attachments": {},
   "cell_type": "markdown",
   "metadata": {},
   "source": [
    "### Extract metrics from csv files"
   ]
  },
  {
   "cell_type": "code",
   "execution_count": 4,
   "metadata": {},
   "outputs": [],
   "source": [
    "metrics_hj_naive_unfiltered = pd.read_csv(f\"{path_to_files}/{pb_name_hj_naive}\")\n",
    "metrics_hj_reactive_unfiltered = pd.read_csv(f\"{path_to_files}/{pb_name_reactive}\")\n",
    "metrics_hj_flocking_unfiltered = pd.read_csv(f\"{path_to_files}/{pb_name_flocking}\")"
   ]
  },
  {
   "attachments": {},
   "cell_type": "markdown",
   "metadata": {},
   "source": [
    "+ Make sure we have the (same) indices and total number of missions for the panda dataframes"
   ]
  },
  {
   "cell_type": "code",
   "execution_count": 5,
   "metadata": {},
   "outputs": [],
   "source": [
    "# Find the common mission_nr values\n",
    "common_mission_nr = set(metrics_hj_naive_unfiltered['mission_nr']).intersection(set(metrics_hj_reactive_unfiltered['mission_nr'])).intersection(set(metrics_hj_flocking_unfiltered['mission_nr']))\n",
    "# Filter the rows in each dataframe that have matching mission_nr values\n",
    "metrics_hj_naive = metrics_hj_naive_unfiltered[metrics_hj_naive_unfiltered['mission_nr'].isin(common_mission_nr)]\n",
    "metrics_hj_reactive = metrics_hj_reactive_unfiltered[metrics_hj_reactive_unfiltered['mission_nr'].isin(common_mission_nr)]\n",
    "metrics_hj_flocking = metrics_hj_flocking_unfiltered[metrics_hj_flocking_unfiltered['mission_nr'].isin(common_mission_nr)]"
   ]
  },
  {
   "attachments": {},
   "cell_type": "markdown",
   "metadata": {},
   "source": [
    "+ Sort by ascending missions nr order"
   ]
  },
  {
   "cell_type": "code",
   "execution_count": 6,
   "metadata": {},
   "outputs": [],
   "source": [
    "metrics_hj_naive = metrics_hj_naive.sort_values(['mission_nr'])\n",
    "metrics_hj_reactive= metrics_hj_reactive.sort_values(['mission_nr'])\n",
    "metrics_hj_flocking = metrics_hj_flocking.sort_values(['mission_nr'])"
   ]
  },
  {
   "attachments": {},
   "cell_type": "markdown",
   "metadata": {},
   "source": [
    "+ Index by mission nr to get the same order in the panda dataframe between controller metrics"
   ]
  },
  {
   "cell_type": "code",
   "execution_count": 7,
   "metadata": {},
   "outputs": [],
   "source": [
    "metrics_hj_naive.set_index('mission_nr', inplace=True)\n",
    "metrics_hj_reactive.set_index('mission_nr', inplace=True)\n",
    "metrics_hj_flocking.set_index('mission_nr', inplace=True)"
   ]
  },
  {
   "attachments": {},
   "cell_type": "markdown",
   "metadata": {},
   "source": [
    "+ Get Non Feasible Missions "
   ]
  },
  {
   "cell_type": "code",
   "execution_count": 8,
   "metadata": {},
   "outputs": [
    {
     "name": "stdout",
     "output_type": "stream",
     "text": [
      "Number of infeasible missions:  43 corresponds to 7.846715328467154 %\n"
     ]
    }
   ],
   "source": [
    "non_feas_idx = metrics_hj_naive.index[metrics_hj_naive[\"Reaching_target\"] < 1]\n",
    "ratio_non_feas_miss = len(non_feas_idx)/len(metrics_hj_naive)*100\n",
    "print(\"Number of infeasible missions: \", len(non_feas_idx), f\"corresponds to {ratio_non_feas_miss} %\")"
   ]
  },
  {
   "attachments": {},
   "cell_type": "markdown",
   "metadata": {},
   "source": [
    "+ Drop infeasible missions on HC"
   ]
  },
  {
   "cell_type": "code",
   "execution_count": 9,
   "metadata": {},
   "outputs": [],
   "source": [
    "# metrics_hj_naive.drop(non_feas_idx, axis=0, inplace=True)\n",
    "# metrics_hj_reactive.drop(non_feas_idx, axis=0, inplace=True)\n",
    "# metrics_hj_flocking.drop(non_feas_idx, axis=0, inplace=True)"
   ]
  },
  {
   "cell_type": "code",
   "execution_count": 10,
   "metadata": {},
   "outputs": [],
   "source": [
    "import plotly.express as px\n",
    "import plotly.graph_objects as go"
   ]
  },
  {
   "attachments": {},
   "cell_type": "markdown",
   "metadata": {},
   "source": [
    "## Box Plots"
   ]
  },
  {
   "cell_type": "code",
   "execution_count": 11,
   "metadata": {},
   "outputs": [
    {
     "data": {
      "text/html": [
       "        <script type=\"text/javascript\">\n",
       "        window.PlotlyConfig = {MathJaxConfig: 'local'};\n",
       "        if (window.MathJax && window.MathJax.Hub && window.MathJax.Hub.Config) {window.MathJax.Hub.Config({SVG: {font: \"STIX-Web\"}});}\n",
       "        if (typeof require !== 'undefined') {\n",
       "        require.undef(\"plotly\");\n",
       "        requirejs.config({\n",
       "            paths: {\n",
       "                'plotly': ['https://cdn.plot.ly/plotly-2.18.0.min']\n",
       "            }\n",
       "        });\n",
       "        require(['plotly'], function(Plotly) {\n",
       "            window._Plotly = Plotly;\n",
       "        });\n",
       "        }\n",
       "        </script>\n",
       "        "
      ]
     },
     "metadata": {},
     "output_type": "display_data"
    }
   ],
   "source": [
    "from plotly.offline import  init_notebook_mode\n",
    "init_notebook_mode(connected=True)"
   ]
  },
  {
   "attachments": {},
   "cell_type": "markdown",
   "metadata": {},
   "source": [
    "+ Beta Index"
   ]
  },
  {
   "cell_type": "code",
   "execution_count": 12,
   "metadata": {},
   "outputs": [
    {
     "data": {
      "application/vnd.plotly.v1+json": {
       "config": {
        "plotlyServerURL": "https://plot.ly"
       },
       "data": [
        {
         "alignmentgroup": "True",
         "hovertemplate": "variable=%{x}<br>value=%{y}<extra></extra>",
         "legendgroup": "",
         "marker": {
          "color": "#636efa"
         },
         "name": "",
         "notched": false,
         "offsetgroup": "",
         "orientation": "v",
         "showlegend": false,
         "type": "box",
         "x": [
          "hj_naive",
          "hj_naive",
          "hj_naive",
          "hj_naive",
          "hj_naive",
          "hj_naive",
          "hj_naive",
          "hj_naive",
          "hj_naive",
          "hj_naive",
          "hj_naive",
          "hj_naive",
          "hj_naive",
          "hj_naive",
          "hj_naive",
          "hj_naive",
          "hj_naive",
          "hj_naive",
          "hj_naive",
          "hj_naive",
          "hj_naive",
          "hj_naive",
          "hj_naive",
          "hj_naive",
          "hj_naive",
          "hj_naive",
          "hj_naive",
          "hj_naive",
          "hj_naive",
          "hj_naive",
          "hj_naive",
          "hj_naive",
          "hj_naive",
          "hj_naive",
          "hj_naive",
          "hj_naive",
          "hj_naive",
          "hj_naive",
          "hj_naive",
          "hj_naive",
          "hj_naive",
          "hj_naive",
          "hj_naive",
          "hj_naive",
          "hj_naive",
          "hj_naive",
          "hj_naive",
          "hj_naive",
          "hj_naive",
          "hj_naive",
          "hj_naive",
          "hj_naive",
          "hj_naive",
          "hj_naive",
          "hj_naive",
          "hj_naive",
          "hj_naive",
          "hj_naive",
          "hj_naive",
          "hj_naive",
          "hj_naive",
          "hj_naive",
          "hj_naive",
          "hj_naive",
          "hj_naive",
          "hj_naive",
          "hj_naive",
          "hj_naive",
          "hj_naive",
          "hj_naive",
          "hj_naive",
          "hj_naive",
          "hj_naive",
          "hj_naive",
          "hj_naive",
          "hj_naive",
          "hj_naive",
          "hj_naive",
          "hj_naive",
          "hj_naive",
          "hj_naive",
          "hj_naive",
          "hj_naive",
          "hj_naive",
          "hj_naive",
          "hj_naive",
          "hj_naive",
          "hj_naive",
          "hj_naive",
          "hj_naive",
          "hj_naive",
          "hj_naive",
          "hj_naive",
          "hj_naive",
          "hj_naive",
          "hj_naive",
          "hj_naive",
          "hj_naive",
          "hj_naive",
          "hj_naive",
          "hj_naive",
          "hj_naive",
          "hj_naive",
          "hj_naive",
          "hj_naive",
          "hj_naive",
          "hj_naive",
          "hj_naive",
          "hj_naive",
          "hj_naive",
          "hj_naive",
          "hj_naive",
          "hj_naive",
          "hj_naive",
          "hj_naive",
          "hj_naive",
          "hj_naive",
          "hj_naive",
          "hj_naive",
          "hj_naive",
          "hj_naive",
          "hj_naive",
          "hj_naive",
          "hj_naive",
          "hj_naive",
          "hj_naive",
          "hj_naive",
          "hj_naive",
          "hj_naive",
          "hj_naive",
          "hj_naive",
          "hj_naive",
          "hj_naive",
          "hj_naive",
          "hj_naive",
          "hj_naive",
          "hj_naive",
          "hj_naive",
          "hj_naive",
          "hj_naive",
          "hj_naive",
          "hj_naive",
          "hj_naive",
          "hj_naive",
          "hj_naive",
          "hj_naive",
          "hj_naive",
          "hj_naive",
          "hj_naive",
          "hj_naive",
          "hj_naive",
          "hj_naive",
          "hj_naive",
          "hj_naive",
          "hj_naive",
          "hj_naive",
          "hj_naive",
          "hj_naive",
          "hj_naive",
          "hj_naive",
          "hj_naive",
          "hj_naive",
          "hj_naive",
          "hj_naive",
          "hj_naive",
          "hj_naive",
          "hj_naive",
          "hj_naive",
          "hj_naive",
          "hj_naive",
          "hj_naive",
          "hj_naive",
          "hj_naive",
          "hj_naive",
          "hj_naive",
          "hj_naive",
          "hj_naive",
          "hj_naive",
          "hj_naive",
          "hj_naive",
          "hj_naive",
          "hj_naive",
          "hj_naive",
          "hj_naive",
          "hj_naive",
          "hj_naive",
          "hj_naive",
          "hj_naive",
          "hj_naive",
          "hj_naive",
          "hj_naive",
          "hj_naive",
          "hj_naive",
          "hj_naive",
          "hj_naive",
          "hj_naive",
          "hj_naive",
          "hj_naive",
          "hj_naive",
          "hj_naive",
          "hj_naive",
          "hj_naive",
          "hj_naive",
          "hj_naive",
          "hj_naive",
          "hj_naive",
          "hj_naive",
          "hj_naive",
          "hj_naive",
          "hj_naive",
          "hj_naive",
          "hj_naive",
          "hj_naive",
          "hj_naive",
          "hj_naive",
          "hj_naive",
          "hj_naive",
          "hj_naive",
          "hj_naive",
          "hj_naive",
          "hj_naive",
          "hj_naive",
          "hj_naive",
          "hj_naive",
          "hj_naive",
          "hj_naive",
          "hj_naive",
          "hj_naive",
          "hj_naive",
          "hj_naive",
          "hj_naive",
          "hj_naive",
          "hj_naive",
          "hj_naive",
          "hj_naive",
          "hj_naive",
          "hj_naive",
          "hj_naive",
          "hj_naive",
          "hj_naive",
          "hj_naive",
          "hj_naive",
          "hj_naive",
          "hj_naive",
          "hj_naive",
          "hj_naive",
          "hj_naive",
          "hj_naive",
          "hj_naive",
          "hj_naive",
          "hj_naive",
          "hj_naive",
          "hj_naive",
          "hj_naive",
          "hj_naive",
          "hj_naive",
          "hj_naive",
          "hj_naive",
          "hj_naive",
          "hj_naive",
          "hj_naive",
          "hj_naive",
          "hj_naive",
          "hj_naive",
          "hj_naive",
          "hj_naive",
          "hj_naive",
          "hj_naive",
          "hj_naive",
          "hj_naive",
          "hj_naive",
          "hj_naive",
          "hj_naive",
          "hj_naive",
          "hj_naive",
          "hj_naive",
          "hj_naive",
          "hj_naive",
          "hj_naive",
          "hj_naive",
          "hj_naive",
          "hj_naive",
          "hj_naive",
          "hj_naive",
          "hj_naive",
          "hj_naive",
          "hj_naive",
          "hj_naive",
          "hj_naive",
          "hj_naive",
          "hj_naive",
          "hj_naive",
          "hj_naive",
          "hj_naive",
          "hj_naive",
          "hj_naive",
          "hj_naive",
          "hj_naive",
          "hj_naive",
          "hj_naive",
          "hj_naive",
          "hj_naive",
          "hj_naive",
          "hj_naive",
          "hj_naive",
          "hj_naive",
          "hj_naive",
          "hj_naive",
          "hj_naive",
          "hj_naive",
          "hj_naive",
          "hj_naive",
          "hj_naive",
          "hj_naive",
          "hj_naive",
          "hj_naive",
          "hj_naive",
          "hj_naive",
          "hj_naive",
          "hj_naive",
          "hj_naive",
          "hj_naive",
          "hj_naive",
          "hj_naive",
          "hj_naive",
          "hj_naive",
          "hj_naive",
          "hj_naive",
          "hj_naive",
          "hj_naive",
          "hj_naive",
          "hj_naive",
          "hj_naive",
          "hj_naive",
          "hj_naive",
          "hj_naive",
          "hj_naive",
          "hj_naive",
          "hj_naive",
          "hj_naive",
          "hj_naive",
          "hj_naive",
          "hj_naive",
          "hj_naive",
          "hj_naive",
          "hj_naive",
          "hj_naive",
          "hj_naive",
          "hj_naive",
          "hj_naive",
          "hj_naive",
          "hj_naive",
          "hj_naive",
          "hj_naive",
          "hj_naive",
          "hj_naive",
          "hj_naive",
          "hj_naive",
          "hj_naive",
          "hj_naive",
          "hj_naive",
          "hj_naive",
          "hj_naive",
          "hj_naive",
          "hj_naive",
          "hj_naive",
          "hj_naive",
          "hj_naive",
          "hj_naive",
          "hj_naive",
          "hj_naive",
          "hj_naive",
          "hj_naive",
          "hj_naive",
          "hj_naive",
          "hj_naive",
          "hj_naive",
          "hj_naive",
          "hj_naive",
          "hj_naive",
          "hj_naive",
          "hj_naive",
          "hj_naive",
          "hj_naive",
          "hj_naive",
          "hj_naive",
          "hj_naive",
          "hj_naive",
          "hj_naive",
          "hj_naive",
          "hj_naive",
          "hj_naive",
          "hj_naive",
          "hj_naive",
          "hj_naive",
          "hj_naive",
          "hj_naive",
          "hj_naive",
          "hj_naive",
          "hj_naive",
          "hj_naive",
          "hj_naive",
          "hj_naive",
          "hj_naive",
          "hj_naive",
          "hj_naive",
          "hj_naive",
          "hj_naive",
          "hj_naive",
          "hj_naive",
          "hj_naive",
          "hj_naive",
          "hj_naive",
          "hj_naive",
          "hj_naive",
          "hj_naive",
          "hj_naive",
          "hj_naive",
          "hj_naive",
          "hj_naive",
          "hj_naive",
          "hj_naive",
          "hj_naive",
          "hj_naive",
          "hj_naive",
          "hj_naive",
          "hj_naive",
          "hj_naive",
          "hj_naive",
          "hj_naive",
          "hj_naive",
          "hj_naive",
          "hj_naive",
          "hj_naive",
          "hj_naive",
          "hj_naive",
          "hj_naive",
          "hj_naive",
          "hj_naive",
          "hj_naive",
          "hj_naive",
          "hj_naive",
          "hj_naive",
          "hj_naive",
          "hj_naive",
          "hj_naive",
          "hj_naive",
          "hj_naive",
          "hj_naive",
          "hj_naive",
          "hj_naive",
          "hj_naive",
          "hj_naive",
          "hj_naive",
          "hj_naive",
          "hj_naive",
          "hj_naive",
          "hj_naive",
          "hj_naive",
          "hj_naive",
          "hj_naive",
          "hj_naive",
          "hj_naive",
          "hj_naive",
          "hj_naive",
          "hj_naive",
          "hj_naive",
          "hj_naive",
          "hj_naive",
          "hj_naive",
          "hj_naive",
          "hj_naive",
          "hj_naive",
          "hj_naive",
          "hj_naive",
          "hj_naive",
          "hj_naive",
          "hj_naive",
          "hj_naive",
          "hj_naive",
          "hj_naive",
          "hj_naive",
          "hj_naive",
          "hj_naive",
          "hj_naive",
          "hj_naive",
          "hj_naive",
          "hj_naive",
          "hj_naive",
          "hj_naive",
          "hj_naive",
          "hj_naive",
          "hj_naive",
          "hj_naive",
          "hj_naive",
          "hj_naive",
          "hj_naive",
          "hj_naive",
          "hj_naive",
          "hj_naive",
          "hj_naive",
          "hj_naive",
          "hj_naive",
          "hj_naive",
          "hj_naive",
          "hj_naive",
          "hj_naive",
          "hj_naive",
          "hj_naive",
          "hj_naive",
          "hj_naive",
          "hj_naive",
          "hj_naive",
          "hj_naive",
          "hj_naive",
          "hj_naive",
          "hj_naive",
          "hj_naive",
          "hj_naive",
          "hj_naive",
          "hj_naive",
          "hj_naive",
          "hj_naive",
          "hj_naive",
          "hj_naive",
          "hj_naive",
          "hj_naive",
          "hj_naive",
          "hj_naive",
          "hj_naive",
          "hj_naive",
          "hj_naive",
          "hj_naive",
          "hj_naive",
          "hj_naive",
          "hj_naive",
          "hj_naive",
          "hj_naive",
          "hj_naive",
          "hj_naive",
          "hj_naive",
          "hj_naive",
          "hj_naive",
          "hj_naive",
          "hj_naive",
          "hj_naive",
          "hj_naive",
          "hj_naive",
          "hj_reactive",
          "hj_reactive",
          "hj_reactive",
          "hj_reactive",
          "hj_reactive",
          "hj_reactive",
          "hj_reactive",
          "hj_reactive",
          "hj_reactive",
          "hj_reactive",
          "hj_reactive",
          "hj_reactive",
          "hj_reactive",
          "hj_reactive",
          "hj_reactive",
          "hj_reactive",
          "hj_reactive",
          "hj_reactive",
          "hj_reactive",
          "hj_reactive",
          "hj_reactive",
          "hj_reactive",
          "hj_reactive",
          "hj_reactive",
          "hj_reactive",
          "hj_reactive",
          "hj_reactive",
          "hj_reactive",
          "hj_reactive",
          "hj_reactive",
          "hj_reactive",
          "hj_reactive",
          "hj_reactive",
          "hj_reactive",
          "hj_reactive",
          "hj_reactive",
          "hj_reactive",
          "hj_reactive",
          "hj_reactive",
          "hj_reactive",
          "hj_reactive",
          "hj_reactive",
          "hj_reactive",
          "hj_reactive",
          "hj_reactive",
          "hj_reactive",
          "hj_reactive",
          "hj_reactive",
          "hj_reactive",
          "hj_reactive",
          "hj_reactive",
          "hj_reactive",
          "hj_reactive",
          "hj_reactive",
          "hj_reactive",
          "hj_reactive",
          "hj_reactive",
          "hj_reactive",
          "hj_reactive",
          "hj_reactive",
          "hj_reactive",
          "hj_reactive",
          "hj_reactive",
          "hj_reactive",
          "hj_reactive",
          "hj_reactive",
          "hj_reactive",
          "hj_reactive",
          "hj_reactive",
          "hj_reactive",
          "hj_reactive",
          "hj_reactive",
          "hj_reactive",
          "hj_reactive",
          "hj_reactive",
          "hj_reactive",
          "hj_reactive",
          "hj_reactive",
          "hj_reactive",
          "hj_reactive",
          "hj_reactive",
          "hj_reactive",
          "hj_reactive",
          "hj_reactive",
          "hj_reactive",
          "hj_reactive",
          "hj_reactive",
          "hj_reactive",
          "hj_reactive",
          "hj_reactive",
          "hj_reactive",
          "hj_reactive",
          "hj_reactive",
          "hj_reactive",
          "hj_reactive",
          "hj_reactive",
          "hj_reactive",
          "hj_reactive",
          "hj_reactive",
          "hj_reactive",
          "hj_reactive",
          "hj_reactive",
          "hj_reactive",
          "hj_reactive",
          "hj_reactive",
          "hj_reactive",
          "hj_reactive",
          "hj_reactive",
          "hj_reactive",
          "hj_reactive",
          "hj_reactive",
          "hj_reactive",
          "hj_reactive",
          "hj_reactive",
          "hj_reactive",
          "hj_reactive",
          "hj_reactive",
          "hj_reactive",
          "hj_reactive",
          "hj_reactive",
          "hj_reactive",
          "hj_reactive",
          "hj_reactive",
          "hj_reactive",
          "hj_reactive",
          "hj_reactive",
          "hj_reactive",
          "hj_reactive",
          "hj_reactive",
          "hj_reactive",
          "hj_reactive",
          "hj_reactive",
          "hj_reactive",
          "hj_reactive",
          "hj_reactive",
          "hj_reactive",
          "hj_reactive",
          "hj_reactive",
          "hj_reactive",
          "hj_reactive",
          "hj_reactive",
          "hj_reactive",
          "hj_reactive",
          "hj_reactive",
          "hj_reactive",
          "hj_reactive",
          "hj_reactive",
          "hj_reactive",
          "hj_reactive",
          "hj_reactive",
          "hj_reactive",
          "hj_reactive",
          "hj_reactive",
          "hj_reactive",
          "hj_reactive",
          "hj_reactive",
          "hj_reactive",
          "hj_reactive",
          "hj_reactive",
          "hj_reactive",
          "hj_reactive",
          "hj_reactive",
          "hj_reactive",
          "hj_reactive",
          "hj_reactive",
          "hj_reactive",
          "hj_reactive",
          "hj_reactive",
          "hj_reactive",
          "hj_reactive",
          "hj_reactive",
          "hj_reactive",
          "hj_reactive",
          "hj_reactive",
          "hj_reactive",
          "hj_reactive",
          "hj_reactive",
          "hj_reactive",
          "hj_reactive",
          "hj_reactive",
          "hj_reactive",
          "hj_reactive",
          "hj_reactive",
          "hj_reactive",
          "hj_reactive",
          "hj_reactive",
          "hj_reactive",
          "hj_reactive",
          "hj_reactive",
          "hj_reactive",
          "hj_reactive",
          "hj_reactive",
          "hj_reactive",
          "hj_reactive",
          "hj_reactive",
          "hj_reactive",
          "hj_reactive",
          "hj_reactive",
          "hj_reactive",
          "hj_reactive",
          "hj_reactive",
          "hj_reactive",
          "hj_reactive",
          "hj_reactive",
          "hj_reactive",
          "hj_reactive",
          "hj_reactive",
          "hj_reactive",
          "hj_reactive",
          "hj_reactive",
          "hj_reactive",
          "hj_reactive",
          "hj_reactive",
          "hj_reactive",
          "hj_reactive",
          "hj_reactive",
          "hj_reactive",
          "hj_reactive",
          "hj_reactive",
          "hj_reactive",
          "hj_reactive",
          "hj_reactive",
          "hj_reactive",
          "hj_reactive",
          "hj_reactive",
          "hj_reactive",
          "hj_reactive",
          "hj_reactive",
          "hj_reactive",
          "hj_reactive",
          "hj_reactive",
          "hj_reactive",
          "hj_reactive",
          "hj_reactive",
          "hj_reactive",
          "hj_reactive",
          "hj_reactive",
          "hj_reactive",
          "hj_reactive",
          "hj_reactive",
          "hj_reactive",
          "hj_reactive",
          "hj_reactive",
          "hj_reactive",
          "hj_reactive",
          "hj_reactive",
          "hj_reactive",
          "hj_reactive",
          "hj_reactive",
          "hj_reactive",
          "hj_reactive",
          "hj_reactive",
          "hj_reactive",
          "hj_reactive",
          "hj_reactive",
          "hj_reactive",
          "hj_reactive",
          "hj_reactive",
          "hj_reactive",
          "hj_reactive",
          "hj_reactive",
          "hj_reactive",
          "hj_reactive",
          "hj_reactive",
          "hj_reactive",
          "hj_reactive",
          "hj_reactive",
          "hj_reactive",
          "hj_reactive",
          "hj_reactive",
          "hj_reactive",
          "hj_reactive",
          "hj_reactive",
          "hj_reactive",
          "hj_reactive",
          "hj_reactive",
          "hj_reactive",
          "hj_reactive",
          "hj_reactive",
          "hj_reactive",
          "hj_reactive",
          "hj_reactive",
          "hj_reactive",
          "hj_reactive",
          "hj_reactive",
          "hj_reactive",
          "hj_reactive",
          "hj_reactive",
          "hj_reactive",
          "hj_reactive",
          "hj_reactive",
          "hj_reactive",
          "hj_reactive",
          "hj_reactive",
          "hj_reactive",
          "hj_reactive",
          "hj_reactive",
          "hj_reactive",
          "hj_reactive",
          "hj_reactive",
          "hj_reactive",
          "hj_reactive",
          "hj_reactive",
          "hj_reactive",
          "hj_reactive",
          "hj_reactive",
          "hj_reactive",
          "hj_reactive",
          "hj_reactive",
          "hj_reactive",
          "hj_reactive",
          "hj_reactive",
          "hj_reactive",
          "hj_reactive",
          "hj_reactive",
          "hj_reactive",
          "hj_reactive",
          "hj_reactive",
          "hj_reactive",
          "hj_reactive",
          "hj_reactive",
          "hj_reactive",
          "hj_reactive",
          "hj_reactive",
          "hj_reactive",
          "hj_reactive",
          "hj_reactive",
          "hj_reactive",
          "hj_reactive",
          "hj_reactive",
          "hj_reactive",
          "hj_reactive",
          "hj_reactive",
          "hj_reactive",
          "hj_reactive",
          "hj_reactive",
          "hj_reactive",
          "hj_reactive",
          "hj_reactive",
          "hj_reactive",
          "hj_reactive",
          "hj_reactive",
          "hj_reactive",
          "hj_reactive",
          "hj_reactive",
          "hj_reactive",
          "hj_reactive",
          "hj_reactive",
          "hj_reactive",
          "hj_reactive",
          "hj_reactive",
          "hj_reactive",
          "hj_reactive",
          "hj_reactive",
          "hj_reactive",
          "hj_reactive",
          "hj_reactive",
          "hj_reactive",
          "hj_reactive",
          "hj_reactive",
          "hj_reactive",
          "hj_reactive",
          "hj_reactive",
          "hj_reactive",
          "hj_reactive",
          "hj_reactive",
          "hj_reactive",
          "hj_reactive",
          "hj_reactive",
          "hj_reactive",
          "hj_reactive",
          "hj_reactive",
          "hj_reactive",
          "hj_reactive",
          "hj_reactive",
          "hj_reactive",
          "hj_reactive",
          "hj_reactive",
          "hj_reactive",
          "hj_reactive",
          "hj_reactive",
          "hj_reactive",
          "hj_reactive",
          "hj_reactive",
          "hj_reactive",
          "hj_reactive",
          "hj_reactive",
          "hj_reactive",
          "hj_reactive",
          "hj_reactive",
          "hj_reactive",
          "hj_reactive",
          "hj_reactive",
          "hj_reactive",
          "hj_reactive",
          "hj_reactive",
          "hj_reactive",
          "hj_reactive",
          "hj_reactive",
          "hj_reactive",
          "hj_reactive",
          "hj_reactive",
          "hj_reactive",
          "hj_reactive",
          "hj_reactive",
          "hj_reactive",
          "hj_reactive",
          "hj_reactive",
          "hj_reactive",
          "hj_reactive",
          "hj_reactive",
          "hj_reactive",
          "hj_reactive",
          "hj_reactive",
          "hj_reactive",
          "hj_reactive",
          "hj_reactive",
          "hj_reactive",
          "hj_reactive",
          "hj_reactive",
          "hj_reactive",
          "hj_reactive",
          "hj_reactive",
          "hj_reactive",
          "hj_reactive",
          "hj_reactive",
          "hj_reactive",
          "hj_reactive",
          "hj_reactive",
          "hj_reactive",
          "hj_reactive",
          "hj_reactive",
          "hj_reactive",
          "hj_reactive",
          "hj_reactive",
          "hj_reactive",
          "hj_reactive",
          "hj_reactive",
          "hj_reactive",
          "hj_reactive",
          "hj_reactive",
          "hj_reactive",
          "hj_reactive",
          "hj_reactive",
          "hj_reactive",
          "hj_reactive",
          "hj_reactive",
          "hj_reactive",
          "hj_reactive",
          "hj_reactive",
          "hj_reactive",
          "hj_reactive",
          "hj_reactive",
          "hj_reactive",
          "hj_reactive",
          "hj_reactive",
          "hj_reactive",
          "hj_reactive",
          "hj_reactive",
          "hj_reactive",
          "hj_reactive",
          "hj_reactive",
          "hj_reactive",
          "hj_reactive",
          "hj_reactive",
          "hj_reactive",
          "hj_reactive",
          "hj_reactive",
          "hj_reactive",
          "hj_reactive",
          "hj_reactive",
          "hj_reactive",
          "hj_reactive",
          "hj_reactive",
          "hj_reactive",
          "hj_reactive",
          "hj_reactive",
          "hj_reactive",
          "hj_reactive",
          "hj_reactive",
          "hj_reactive",
          "hj_reactive",
          "hj_reactive",
          "hj_reactive",
          "hj_reactive",
          "hj_reactive",
          "hj_reactive",
          "hj_reactive",
          "hj_reactive",
          "hj_reactive",
          "hj_reactive",
          "hj_reactive",
          "hj_reactive",
          "hj_reactive",
          "hj_reactive",
          "hj_reactive",
          "hj_reactive",
          "hj_reactive",
          "hj_reactive",
          "hj_reactive",
          "hj_reactive",
          "hj_reactive",
          "hj_reactive",
          "hj_reactive",
          "hj_reactive",
          "hj_reactive",
          "hj_reactive",
          "hj_reactive",
          "hj_reactive",
          "hj_reactive",
          "hj_reactive",
          "hj_reactive",
          "hj_reactive",
          "hj_reactive",
          "hj_reactive",
          "hj_reactive",
          "hj_reactive",
          "hj_reactive",
          "hj_reactive",
          "hj_reactive",
          "hj_reactive",
          "hj_reactive",
          "hj_reactive",
          "hj_reactive",
          "hj_reactive",
          "hj_reactive",
          "hj_reactive",
          "hj_reactive",
          "hj_reactive",
          "hj_reactive",
          "hj_reactive",
          "hj_reactive",
          "hj_reactive",
          "hj_reactive",
          "hj_reactive",
          "hj_reactive",
          "hj_reactive",
          "hj_reactive",
          "hj_reactive",
          "hj_reactive",
          "hj_reactive",
          "hj_reactive",
          "hj_reactive",
          "hj_reactive",
          "hj_reactive",
          "hj_reactive",
          "hj_reactive",
          "hj_reactive",
          "flocking",
          "flocking",
          "flocking",
          "flocking",
          "flocking",
          "flocking",
          "flocking",
          "flocking",
          "flocking",
          "flocking",
          "flocking",
          "flocking",
          "flocking",
          "flocking",
          "flocking",
          "flocking",
          "flocking",
          "flocking",
          "flocking",
          "flocking",
          "flocking",
          "flocking",
          "flocking",
          "flocking",
          "flocking",
          "flocking",
          "flocking",
          "flocking",
          "flocking",
          "flocking",
          "flocking",
          "flocking",
          "flocking",
          "flocking",
          "flocking",
          "flocking",
          "flocking",
          "flocking",
          "flocking",
          "flocking",
          "flocking",
          "flocking",
          "flocking",
          "flocking",
          "flocking",
          "flocking",
          "flocking",
          "flocking",
          "flocking",
          "flocking",
          "flocking",
          "flocking",
          "flocking",
          "flocking",
          "flocking",
          "flocking",
          "flocking",
          "flocking",
          "flocking",
          "flocking",
          "flocking",
          "flocking",
          "flocking",
          "flocking",
          "flocking",
          "flocking",
          "flocking",
          "flocking",
          "flocking",
          "flocking",
          "flocking",
          "flocking",
          "flocking",
          "flocking",
          "flocking",
          "flocking",
          "flocking",
          "flocking",
          "flocking",
          "flocking",
          "flocking",
          "flocking",
          "flocking",
          "flocking",
          "flocking",
          "flocking",
          "flocking",
          "flocking",
          "flocking",
          "flocking",
          "flocking",
          "flocking",
          "flocking",
          "flocking",
          "flocking",
          "flocking",
          "flocking",
          "flocking",
          "flocking",
          "flocking",
          "flocking",
          "flocking",
          "flocking",
          "flocking",
          "flocking",
          "flocking",
          "flocking",
          "flocking",
          "flocking",
          "flocking",
          "flocking",
          "flocking",
          "flocking",
          "flocking",
          "flocking",
          "flocking",
          "flocking",
          "flocking",
          "flocking",
          "flocking",
          "flocking",
          "flocking",
          "flocking",
          "flocking",
          "flocking",
          "flocking",
          "flocking",
          "flocking",
          "flocking",
          "flocking",
          "flocking",
          "flocking",
          "flocking",
          "flocking",
          "flocking",
          "flocking",
          "flocking",
          "flocking",
          "flocking",
          "flocking",
          "flocking",
          "flocking",
          "flocking",
          "flocking",
          "flocking",
          "flocking",
          "flocking",
          "flocking",
          "flocking",
          "flocking",
          "flocking",
          "flocking",
          "flocking",
          "flocking",
          "flocking",
          "flocking",
          "flocking",
          "flocking",
          "flocking",
          "flocking",
          "flocking",
          "flocking",
          "flocking",
          "flocking",
          "flocking",
          "flocking",
          "flocking",
          "flocking",
          "flocking",
          "flocking",
          "flocking",
          "flocking",
          "flocking",
          "flocking",
          "flocking",
          "flocking",
          "flocking",
          "flocking",
          "flocking",
          "flocking",
          "flocking",
          "flocking",
          "flocking",
          "flocking",
          "flocking",
          "flocking",
          "flocking",
          "flocking",
          "flocking",
          "flocking",
          "flocking",
          "flocking",
          "flocking",
          "flocking",
          "flocking",
          "flocking",
          "flocking",
          "flocking",
          "flocking",
          "flocking",
          "flocking",
          "flocking",
          "flocking",
          "flocking",
          "flocking",
          "flocking",
          "flocking",
          "flocking",
          "flocking",
          "flocking",
          "flocking",
          "flocking",
          "flocking",
          "flocking",
          "flocking",
          "flocking",
          "flocking",
          "flocking",
          "flocking",
          "flocking",
          "flocking",
          "flocking",
          "flocking",
          "flocking",
          "flocking",
          "flocking",
          "flocking",
          "flocking",
          "flocking",
          "flocking",
          "flocking",
          "flocking",
          "flocking",
          "flocking",
          "flocking",
          "flocking",
          "flocking",
          "flocking",
          "flocking",
          "flocking",
          "flocking",
          "flocking",
          "flocking",
          "flocking",
          "flocking",
          "flocking",
          "flocking",
          "flocking",
          "flocking",
          "flocking",
          "flocking",
          "flocking",
          "flocking",
          "flocking",
          "flocking",
          "flocking",
          "flocking",
          "flocking",
          "flocking",
          "flocking",
          "flocking",
          "flocking",
          "flocking",
          "flocking",
          "flocking",
          "flocking",
          "flocking",
          "flocking",
          "flocking",
          "flocking",
          "flocking",
          "flocking",
          "flocking",
          "flocking",
          "flocking",
          "flocking",
          "flocking",
          "flocking",
          "flocking",
          "flocking",
          "flocking",
          "flocking",
          "flocking",
          "flocking",
          "flocking",
          "flocking",
          "flocking",
          "flocking",
          "flocking",
          "flocking",
          "flocking",
          "flocking",
          "flocking",
          "flocking",
          "flocking",
          "flocking",
          "flocking",
          "flocking",
          "flocking",
          "flocking",
          "flocking",
          "flocking",
          "flocking",
          "flocking",
          "flocking",
          "flocking",
          "flocking",
          "flocking",
          "flocking",
          "flocking",
          "flocking",
          "flocking",
          "flocking",
          "flocking",
          "flocking",
          "flocking",
          "flocking",
          "flocking",
          "flocking",
          "flocking",
          "flocking",
          "flocking",
          "flocking",
          "flocking",
          "flocking",
          "flocking",
          "flocking",
          "flocking",
          "flocking",
          "flocking",
          "flocking",
          "flocking",
          "flocking",
          "flocking",
          "flocking",
          "flocking",
          "flocking",
          "flocking",
          "flocking",
          "flocking",
          "flocking",
          "flocking",
          "flocking",
          "flocking",
          "flocking",
          "flocking",
          "flocking",
          "flocking",
          "flocking",
          "flocking",
          "flocking",
          "flocking",
          "flocking",
          "flocking",
          "flocking",
          "flocking",
          "flocking",
          "flocking",
          "flocking",
          "flocking",
          "flocking",
          "flocking",
          "flocking",
          "flocking",
          "flocking",
          "flocking",
          "flocking",
          "flocking",
          "flocking",
          "flocking",
          "flocking",
          "flocking",
          "flocking",
          "flocking",
          "flocking",
          "flocking",
          "flocking",
          "flocking",
          "flocking",
          "flocking",
          "flocking",
          "flocking",
          "flocking",
          "flocking",
          "flocking",
          "flocking",
          "flocking",
          "flocking",
          "flocking",
          "flocking",
          "flocking",
          "flocking",
          "flocking",
          "flocking",
          "flocking",
          "flocking",
          "flocking",
          "flocking",
          "flocking",
          "flocking",
          "flocking",
          "flocking",
          "flocking",
          "flocking",
          "flocking",
          "flocking",
          "flocking",
          "flocking",
          "flocking",
          "flocking",
          "flocking",
          "flocking",
          "flocking",
          "flocking",
          "flocking",
          "flocking",
          "flocking",
          "flocking",
          "flocking",
          "flocking",
          "flocking",
          "flocking",
          "flocking",
          "flocking",
          "flocking",
          "flocking",
          "flocking",
          "flocking",
          "flocking",
          "flocking",
          "flocking",
          "flocking",
          "flocking",
          "flocking",
          "flocking",
          "flocking",
          "flocking",
          "flocking",
          "flocking",
          "flocking",
          "flocking",
          "flocking",
          "flocking",
          "flocking",
          "flocking",
          "flocking",
          "flocking",
          "flocking",
          "flocking",
          "flocking",
          "flocking",
          "flocking",
          "flocking",
          "flocking",
          "flocking",
          "flocking",
          "flocking",
          "flocking",
          "flocking",
          "flocking",
          "flocking",
          "flocking",
          "flocking",
          "flocking",
          "flocking",
          "flocking",
          "flocking",
          "flocking",
          "flocking",
          "flocking",
          "flocking",
          "flocking",
          "flocking",
          "flocking",
          "flocking",
          "flocking",
          "flocking",
          "flocking",
          "flocking",
          "flocking",
          "flocking",
          "flocking",
          "flocking",
          "flocking",
          "flocking",
          "flocking",
          "flocking",
          "flocking",
          "flocking",
          "flocking",
          "flocking",
          "flocking",
          "flocking",
          "flocking",
          "flocking",
          "flocking",
          "flocking",
          "flocking",
          "flocking",
          "flocking",
          "flocking",
          "flocking",
          "flocking",
          "flocking",
          "flocking",
          "flocking",
          "flocking",
          "flocking",
          "flocking",
          "flocking",
          "flocking",
          "flocking",
          "flocking",
          "flocking",
          "flocking",
          "flocking",
          "flocking",
          "flocking",
          "flocking",
          "flocking",
          "flocking",
          "flocking",
          "flocking",
          "flocking",
          "flocking",
          "flocking",
          "flocking",
          "flocking",
          "flocking",
          "flocking",
          "flocking",
          "flocking",
          "flocking",
          "flocking",
          "flocking",
          "flocking",
          "flocking",
          "flocking",
          "flocking",
          "flocking",
          "flocking",
          "flocking",
          "flocking",
          "flocking",
          "flocking",
          "flocking",
          "flocking",
          "flocking"
         ],
         "x0": " ",
         "xaxis": "x",
         "y": [
          1.4795423023578362,
          1.5,
          1.0301664355062414,
          1.2687239944521498,
          1.4871705963938973,
          0.6279472954230236,
          1.4119278779472957,
          0.8505547850208044,
          1.480929264909847,
          0.4504160887656033,
          1.3599167822468794,
          0.768377253814147,
          0.4840499306518724,
          1.5,
          1.2250346740638005,
          0.9108876560332873,
          1.5,
          1.469486823855756,
          1.5,
          0.8387656033287101,
          1.5,
          0.941747572815534,
          1.2094313453536754,
          1.0918862690707352,
          0.9036061026352288,
          1.280859916782247,
          1.397364771151179,
          1.2718446601941749,
          1.0818307905686546,
          1.1719833564493758,
          1.199029126213592,
          1.021151178918169,
          0.8269764216366158,
          0.4798890429958391,
          0.6688626907073509,
          0.7555478502080444,
          0.938626907073509,
          1.2988904299583912,
          1.5,
          1.3484743411927878,
          1.3647711511789182,
          1.1678224687933425,
          0.7593619972260749,
          1.5,
          1.5,
          0.3186546463245492,
          1.0714285714285714,
          1.4670596393897364,
          1.2718446601941749,
          0.3952843273231622,
          0.7118585298196949,
          0.7406380027739251,
          0.3391123439667129,
          1.1279472954230236,
          1.2850208044382805,
          1.5,
          1.5,
          0.9469486823855756,
          0.3814147018030513,
          0.8984049930651873,
          0.9698335644937588,
          0.9389736477115118,
          1.3689320388349515,
          1.1293342579750347,
          1.5,
          0.9375866851595008,
          1.4871705963938973,
          1.2666435506241331,
          1.4129680998613037,
          0.8630374479889042,
          0.3890429958391123,
          0.3117198335644937,
          1.5,
          1.2739251040221915,
          1.272884882108183,
          0.6269070735090153,
          0.8859223300970874,
          1.2368238557558946,
          1.5,
          0.9334257975034674,
          1.4375866851595007,
          1.5,
          1.4618585298196949,
          0.8470873786407767,
          1.5,
          1.10124826629681,
          0.5388349514563107,
          1.0516643550624134,
          0.6119972260748959,
          0.75,
          0.9535367545076284,
          0.94625520110957,
          0.728502080443828,
          0.9053398058252428,
          1.3928571428571428,
          1.3592233009708738,
          0.7503467406380028,
          0.8907766990291263,
          0.6903606102635229,
          0.9382801664355064,
          1.5,
          0.6848127600554785,
          1.0495839112343968,
          0.9199029126213591,
          1.0565187239944522,
          1.2773925104022192,
          1.4472954230235784,
          1.144244105409154,
          1.2610957004160888,
          0.7000693481276006,
          0.6490984743411928,
          1.5,
          1.395631067961165,
          0.7933425797503467,
          0.5,
          0.4701803051317614,
          0.5898058252427184,
          0.6296809986130375,
          1.4857836338418862,
          0.7399445214979196,
          1.4084604715672675,
          1.2385575589459084,
          0.9261442441054092,
          0.9223300970873788,
          1.3599167822468794,
          0.7552011095700416,
          0.8828016643550625,
          1.5,
          1.2978502080443828,
          0.9171289875173372,
          0.8242024965325936,
          1.5,
          1.0669209431345354,
          1.2441054091539527,
          0.4705270457697642,
          0.8540221914008321,
          1.5,
          1.476768377253814,
          1.0856449375866852,
          0.7694174757281553,
          1.2454923717059638,
          0.8436199722607489,
          0.8567961165048543,
          0.9576976421636616,
          0.9625520110957004,
          1.480929264909847,
          1.5,
          1.4011789181692094,
          1.061373092926491,
          1.469140083217753,
          1.5,
          1.5,
          1.4687933425797504,
          1.4088072122052704,
          1.4514563106796117,
          0.8384188626907073,
          1.2708044382801664,
          0.5745492371705964,
          0.6695561719833565,
          1.1539528432732316,
          1.213245492371706,
          1.4642857142857142,
          0.1712898751733703,
          1.3051317614424411,
          0.9483356449375868,
          0.782246879334258,
          0.5010402219140083,
          1.3814147018030514,
          0.7579750346740638,
          1.35124826629681,
          1.3363384188626908,
          0.5880721220527045,
          0.6959084604715673,
          1.317267683772538,
          1.3401525658807212,
          0.9282246879334258,
          0.937239944521498,
          0.6934812760055479,
          1.0693481276005548,
          0.5339805825242718,
          0.4663661581137309,
          1.3595700416088763,
          1.220527045769764,
          0.8162274618585298,
          1.3030513176144245,
          0.8148404993065187,
          0.8162274618585298,
          0.3384188626907073,
          1.3855755894590849,
          1.498266296809986,
          1.1331484049930651,
          0.8089459084604715,
          0.7153259361997226,
          0.9008321775312068,
          0.9573509015256588,
          0.4126213592233009,
          0.7801664355062413,
          1.4760748959778085,
          1.3016643550624134,
          1.0918862690707352,
          1.2122052704576975,
          0.8099861303744799,
          1.5,
          0.924757281553398,
          1.3769070735090152,
          0.3155339805825243,
          0.3963245492371706,
          1.4878640776699028,
          1.4902912621359223,
          1.4483356449375866,
          1.3748266296809986,
          1.016990291262136,
          0.2739251040221914,
          0.8987517337031901,
          0.6969486823855756,
          1.1137309292649098,
          1.087378640776699,
          0.9528432732316228,
          1.5,
          1.0416088765603329,
          1.0970873786407769,
          1.5,
          0.6986823855755895,
          1.2184466019417477,
          0.7447988904299584,
          1.3484743411927878,
          0.731622746185853,
          0.8890429958391124,
          1.4178224687933425,
          1.1522191400832178,
          1.30998613037448,
          1.2250346740638005,
          1.0034674063800275,
          0.986130374479889,
          1.5,
          1.0922330097087378,
          1.2180998613037448,
          1.1466712898751734,
          1.3699722607489595,
          1.3477808599167822,
          1.019417475728155,
          1.1296809986130374,
          1.1588072122052704,
          0.8755201109570042,
          1.098127600554785,
          1.3890429958391124,
          0.7253814147018031,
          0.8713592233009708,
          1.3994452149791956,
          0.7513869625520111,
          1.469140083217753,
          1.3002773925104023,
          1.0072815533980584,
          0.7586685159500693,
          0.5533980582524272,
          1.4285714285714286,
          1.5,
          1.4642857142857142,
          0.963245492371706,
          1.5,
          1.023231622746186,
          1.0391816920943135,
          1.435506241331484,
          1.3782940360610263,
          1.3484743411927878,
          1.364077669902913,
          1.375866851595007,
          0.9680998613037448,
          0.6865464632454924,
          1.4483356449375866,
          1.144244105409154,
          0.6664355062413315,
          0.3966712898751733,
          1.1858529819694867,
          1.164008321775312,
          1.3491678224687933,
          1.032246879334258,
          1.404646324549237,
          1.3283633841886269,
          0.8224687933425797,
          1.1598474341192788,
          1.472260748959778,
          0.75,
          0.3009708737864077,
          0.188626907073509,
          0.9230235783633842,
          1.415742024965326,
          1.4271844660194175,
          1.4514563106796117,
          1.1542995839112344,
          1.4070735090152566,
          1.4778085991678225,
          1.260748959778086,
          0.9736477115117892,
          0.8550624133148405,
          0.9875173370319,
          0.7271151178918169,
          1.4854368932038835,
          1.4455617198335644,
          0.8488210818307905,
          0.435506241331484,
          0.587378640776699,
          1.1328016643550625,
          1.31622746185853,
          1.1144244105409151,
          1.1716366158113731,
          0.8990984743411928,
          1.0162968099861305,
          0.2122052704576976,
          0.8013176144244105,
          0.8883495145631068,
          0.3488210818307906,
          0.75,
          0.9472954230235784,
          1.4358529819694867,
          1.2763522884882108,
          1.2031900138696254,
          1.5,
          1.2264216366158114,
          0.8543689320388349,
          0.9254507628294036,
          1.4348127600554783,
          1.0499306518723994,
          0.8675450762829403,
          1.3203883495145632,
          1.3169209431345354,
          1.4819694868238558,
          1.164008321775312,
          1.422330097087379,
          1.5,
          0.8453536754507628,
          1.5,
          1.2839805825242718,
          1.476768377253814,
          0.794382801664355,
          1.3460471567267684,
          1.042995839112344,
          0.9108876560332873,
          1.4361997226074896,
          1.403606102635229,
          1.5,
          1.5,
          1.5,
          0.5977808599167822,
          1.2552011095700415,
          1.0683079056865463,
          0.8484743411927878,
          1.5,
          0.921983356449376,
          0.5988210818307905,
          0.6719833564493759,
          1.2004160887656032,
          1.5,
          1.443134535367545,
          1.5,
          0.707004160887656,
          1.3717059639389737,
          1.412274618585298,
          1.5,
          1.2801664355062414,
          1.029126213592233,
          1.5,
          0.6040221914008321,
          1.3259361997226076,
          1.1955617198335644,
          1.0665742024965326,
          1.5,
          0.753120665742025,
          0.998266296809986,
          1.055825242718447,
          0.8599167822468793,
          1.4292649098474342,
          1.124133148404993,
          1.211511789181692,
          1.0142163661581138,
          0.7444521497919556,
          0.934119278779473,
          1.049237170596394,
          1.4056865464632455,
          1.4212898751733702,
          1.2756588072122053,
          1.0679611650485437,
          0.9812760055478502,
          1.4549237170596394,
          1.0866851595006934,
          0.7330097087378641,
          0.6383495145631068,
          1.5,
          1.5,
          1.4289181692094313,
          1.4875173370319,
          1.1418169209431346,
          0.8685852981969486,
          1.366158113730929,
          1.4053398058252426,
          1.4070735090152566,
          1.5,
          1.5,
          0.746879334257975,
          0.6445908460471568,
          1.5,
          1.125866851595007,
          0.467753120665742,
          1.3633841886269071,
          1.111997226074896,
          1.3283633841886269,
          1.476768377253814,
          0.7520804438280166,
          0.5634535367545076,
          1.3658113730929264,
          1.0669209431345354,
          0.7295423023578363,
          1.023231622746186,
          1.2999306518723994,
          1.0471567267683772,
          0.5384882108183079,
          1.4947988904299585,
          1.412621359223301,
          1.036754507628294,
          0.8595700416088765,
          1.5,
          0.6861997226074896,
          1.4472954230235784,
          0.2447988904299584,
          1.0648404993065188,
          1.4410540915395285,
          1.440360610263523,
          1.1331484049930651,
          0.914008321775312,
          1.5,
          0.8959778085991679,
          1.185506241331484,
          1.5,
          0.9205963938973648,
          0.7198335644937587,
          1.2621359223300972,
          1.3228155339805825,
          0.6140776699029126,
          1.5,
          1.2798196948682383,
          1.185506241331484,
          1.5,
          0.5787101248266296,
          1.4576976421636616,
          0.7059639389736477,
          0.3748266296809986,
          0.3869625520110957,
          0.8141470180305131,
          0.5589459084604715,
          1.4306518723994452,
          0.481622746185853,
          0.6470180305131762,
          1.0922330097087378,
          1.5,
          1.0045076282940362,
          1.116504854368932,
          1.5,
          1.3408460471567267,
          1.5,
          1.4257975034674064,
          1.5,
          0.1106102635228848,
          1.1033287101248266,
          1.5,
          1.4563106796116505,
          0.6983356449375867,
          1.5,
          1.4868238557558946,
          1.5,
          1.5,
          1.1789181692094313,
          1.44001386962552,
          1.3585298196948683,
          1.5,
          1.4559639389736476,
          0.7718446601941747,
          0.4514563106796116,
          1.4219833564493758,
          0.7877947295423023,
          0.9947988904299584,
          1.009015256588072,
          0.6269070735090153,
          1.5,
          0.5565187239944521,
          1.251733703190014,
          1.4389736477115118,
          1.3186546463245492,
          1.2860610263522885,
          0.6386962552011096,
          1.5,
          1.141123439667129,
          1.2160194174757282,
          1.4393203883495145,
          0.4864771151178918,
          0.9913314840499308,
          1.0256588072122053,
          0.7586685159500693,
          1.5,
          1.145631067961165,
          0.6629680998613038,
          0.4379334257975035,
          1.4726074895977808,
          1.1251733703190014,
          1.2527739251040222,
          0.8242024965325936,
          0.3203883495145631,
          0.4119278779472954,
          1.5,
          1.5,
          0.757628294036061,
          0.9261442441054092,
          0.6199722607489597,
          1.0870319001386963,
          1.110263522884882,
          1.4902912621359223,
          0.5253120665742025,
          0.4282246879334258,
          1.4635922330097086,
          1.182385575589459,
          1.234396671289875,
          1.019417475728155,
          1.5,
          1.2680305131761442,
          0.5371012482662968,
          1.5,
          1.3828016643550625,
          0.9316920943134536,
          1.228502080443828,
          0.4930651872399445,
          0.7534674063800277,
          0.7330097087378641,
          0.5599861303744799,
          1.455270457697642,
          1.3332177531206657,
          0.8436199722607489,
          1.331484049930652,
          1.2631761442441054,
          1.4823162274618584,
          1.2985436893203883,
          0.8654646324549237,
          1.013869625520111,
          1.484396671289875,
          0.8432732316227461,
          0.7850208044382802,
          1.484743411927878,
          0.6119972260748959,
          1.2201803051317617,
          1.0104022191400832,
          1.4795423023578362,
          1.5,
          1.050624133148405,
          1.360263522884882,
          1.4875173370319,
          0.8786407766990292,
          1.4313453536754508,
          0.9764216366158114,
          1.4427877947295422,
          0.8096393897364771,
          1.4434812760055478,
          1.0176837725381416,
          0.6903606102635229,
          1.4701803051317617,
          1.251733703190014,
          1.1643550624133148,
          1.5,
          1.4875173370319,
          1.5,
          1.1945214979195562,
          1.5,
          1.135922330097087,
          1.414008321775312,
          1.2704576976421638,
          1.1081830790568654,
          1.3609570041608876,
          1.4511095700416088,
          1.2919556171983355,
          1.3460471567267684,
          1.188626907073509,
          1.323509015256588,
          1.3016643550624134,
          1.0339805825242718,
          0.7302357836338419,
          1.0631067961165048,
          1.1033287101248266,
          0.8502080443828016,
          1.377253814147018,
          1.5,
          1.3287101248266298,
          1.3966712898751734,
          1.315880721220527,
          0.8370319001386962,
          1.5,
          1.5,
          0.9653259361997226,
          1.2604022191400832,
          1.4680998613037448,
          1.4011789181692094,
          0.7721914008321775,
          1.0835644937586686,
          1.1553398058252426,
          0.7912621359223301,
          1.1861997226074896,
          1.3626907073509016,
          1.5,
          1.5,
          1.2291955617198336,
          0.7226074895977809,
          1.280513176144244,
          1.0835644937586686,
          1.0114424410540916,
          1.4042995839112344,
          1.219140083217753,
          1.5,
          1.2180998613037448,
          1.447988904299584,
          1.30998613037448,
          1.4129680998613037,
          1.164008321775312,
          0.8814147018030514,
          0.8782940360610264,
          1.5,
          1.3519417475728157,
          1.3124133148404993,
          0.9244105409153952,
          1.2832871012482665,
          1.3200416088765603,
          1.5,
          1.0925797503467407,
          1.4563106796116505,
          1.5,
          1.4635922330097086,
          0.8630374479889042,
          1.5,
          1.2798196948682383,
          0.7794729542302358,
          0.9778085991678224,
          0.8671983356449375,
          1.188626907073509,
          1.009361997226075,
          1.2382108183079057,
          1.2662968099861305,
          1.0256588072122053,
          1.4389736477115118,
          1.3346047156726768,
          1.049237170596394,
          0.9788488210818308,
          0.9573509015256588,
          1.1130374479889042,
          1.432732316227462,
          0.7784327323162274,
          1.2413314840499303,
          1.1653952843273232,
          1.292995839112344,
          1.3394590846047156,
          1.3432732316227465,
          1.197642163661581,
          1.2614424410540916,
          1.2045769764216363,
          0.9798890429958392,
          1.443134535367545,
          1.2378640776699028,
          1.0221914008321775,
          0.6896671289875174,
          0.9160887656033287,
          0.8855755894590847,
          0.961511789181692,
          1.4850901525658806,
          1.0128294036061027,
          1.4091539528432733,
          1.228848821081831,
          1.1168515950069349,
          1.2011095700416088,
          1.358876560332871,
          1.389389736477115,
          0.9483356449375868,
          1.5,
          1.3228155339805825,
          1.3717059639389737,
          1.3155339805825244,
          1.4257975034674064,
          1.3141470180305133,
          1.3065187239944522,
          1.134882108183079,
          1.1147711511789182,
          1.220873786407767,
          1.4778085991678225,
          1.2226074895977808,
          1.0208044382801664,
          1.2260748959778085,
          1.162621359223301,
          1.0610263522884882,
          1.2323162274618584,
          1.027739251040222,
          1.478848821081831,
          1.5,
          1.4011789181692094,
          1.130374479889043,
          1.4587378640776698,
          1.5,
          1.4819694868238558,
          1.4687933425797504,
          1.401872399445215,
          1.4497226074895977,
          1.2104715672676838,
          1.3994452149791956,
          0.7725381414701803,
          0.8398058252427184,
          1.1737170596393898,
          1.2701109570041609,
          1.4635922330097086,
          1.0298196948682383,
          1.3248959778085991,
          1.391123439667129,
          0.9840499306518724,
          0.9913314840499308,
          1.380374479889043,
          1.1775312066574202,
          1.35124826629681,
          1.395631067961165,
          0.9975728155339806,
          0.9975728155339806,
          1.317267683772538,
          1.403606102635229,
          0.8328710124826629,
          1.122746185852982,
          1.0665742024965326,
          1.3033980582524272,
          0.7968099861303745,
          1.1414701803051317,
          1.3120665742024966,
          1.2350901525658806,
          1.1647018030513177,
          1.4039528432732316,
          0.9299583911234396,
          1.1934812760055478,
          1.0572122052704578,
          1.3855755894590849,
          1.4895977808599168,
          1.102635228848821,
          1.420249653259362,
          0.8727461858529819,
          1.009361997226075,
          1.021497919556172,
          1.0003467406380029,
          0.8446601941747572,
          1.4757281553398058,
          1.314493758668516,
          1,
          1.2312760055478502,
          1.2936893203883495,
          1.5,
          1.25,
          1.424410540915395,
          0.6709431345353676,
          1.2094313453536754,
          1.3138002773925104,
          1.3366851595006934,
          1.4299583911234397,
          1.3886962552011095,
          0.9996532593619972,
          0.6622746185852982,
          1.131761442441054,
          0.9427877947295424,
          1.2472260748959778,
          1.2815533980582523,
          1.165742024965326,
          1.5,
          1.096740638002774,
          1.0360610263522885,
          0.9306518723994452,
          1.042995839112344,
          1.2236477115117892,
          0.91123439667129,
          1.251386962552011,
          0.9011789181692096,
          0.9778085991678224,
          1.259361997226075,
          1.1265603328710123,
          1.2801664355062414,
          1.3720527045769764,
          1.3027045769764216,
          0.8387656033287101,
          1.5,
          1.1307212205270458,
          1.172330097087379,
          1.1269070735090152,
          1.4022191400832178,
          1.3900832177531206,
          1.0710818307905687,
          1.1452843273231623,
          1.287101248266297,
          1.3366851595006934,
          1.151872399445215,
          1.3890429958391124,
          1.2753120665742026,
          1.1123439667128987,
          1.3595700416088763,
          0.8186546463245492,
          1.4743411927877947,
          1.3332177531206657,
          1.1782246879334255,
          1.1352288488210818,
          0.9185159500693482,
          1.4181692094313454,
          1.5,
          1.4635922330097086,
          0.9611650485436892,
          1.5,
          1.0988210818307906,
          1.1664355062413314,
          1.4368932038834952,
          1.382108183079057,
          1.3474341192787795,
          1.4230235783633842,
          1.4559639389736476,
          0.8734396671289875,
          1.0502773925104023,
          1.444174757281553,
          1.2545076282940362,
          0.7565880721220527,
          0.6130374479889042,
          1.286754507628294,
          1.2395977808599168,
          1.380374479889043,
          1.0922330097087378,
          1.403259361997226,
          1.35124826629681,
          1.0728155339805825,
          1.3561026352288488,
          1.472260748959778,
          0.8547156726768377,
          0.7267683772538142,
          1.0159500693481276,
          1.0097087378640777,
          1.418862690707351,
          1.4559639389736476,
          1.457004160887656,
          1.1383495145631068,
          1.4351595006934812,
          1.4438280166435506,
          1.234396671289875,
          1.1771844660194175,
          0.9691400832177532,
          1.116504854368932,
          1,
          1.483009708737864,
          1.447988904299584,
          0.8519417475728155,
          0.710124826629681,
          0.9306518723994452,
          1.1369625520110958,
          1.3141470180305133,
          1.2902219140083218,
          1.31622746185853,
          0.8550624133148405,
          1.2614424410540916,
          0.8502080443828016,
          1.081137309292649,
          1.220527045769764,
          1.133841886269071,
          0.75,
          1.2156726768377253,
          1.4379334257975034,
          1.2635228848821085,
          1.2472260748959778,
          1.473994452149792,
          1.3952843273231623,
          0.9864771151178918,
          1.1771844660194175,
          1.447988904299584,
          1.2458391123439667,
          1.2139389736477115,
          1.3047850208044385,
          1.2825936199722607,
          1.4819694868238558,
          1.1650485436893203,
          1.4455617198335644,
          1.5,
          1.0097087378640777,
          1.5,
          1.380374479889043,
          1.476768377253814,
          0.9833564493758667,
          1.3491678224687933,
          1.0034674063800275,
          0.9979195561719834,
          1.4680998613037448,
          1.374133148404993,
          1.5,
          1.5,
          1.4947988904299585,
          0.7940360610263523,
          1.2701109570041609,
          1.14875173370319,
          1.0603328710124826,
          1.5,
          0.973994452149792,
          0.9663661581137308,
          1.0884188626907074,
          1.2864077669902914,
          1.5,
          1.4559639389736476,
          1.5,
          1.133841886269071,
          1.3120665742024966,
          1.4119278779472957,
          1.5,
          1.3075589459084604,
          1.1237864077669903,
          1.4178224687933425,
          0.7330097087378641,
          1.315880721220527,
          1.4025658807212205,
          1.0547850208044385,
          1.5,
          1.162621359223301,
          1.197988904299584,
          1.2493065187239945,
          0.8262829403606102,
          1.449375866851595,
          1.162621359223301,
          1.3578363384188628,
          1.219140083217753,
          0.9414008321775312,
          1.0866851595006934,
          1.3599167822468794,
          1.4081137309292648,
          1.4382801664355065,
          1.2763522884882108,
          1.1868932038834952,
          0.981622746185853,
          1.463245492371706,
          1.2541608876560333,
          1.1508321775312067,
          0.7586685159500693,
          1.4715672676837726,
          1.5,
          1.4410540915395285,
          1.4875173370319,
          1.3120665742024966,
          1.2624826629681,
          1.3717059639389737,
          1.4167822468793343,
          1.4070735090152566,
          1.5,
          1.455617198335645,
          0.7777392510402219,
          1.0540915395284327,
          1.5,
          1.3418862690707352,
          1.050970873786408,
          1.4015256588072122,
          1.2475728155339805,
          1.2964632454923717,
          1.4774618585298196,
          1.0097087378640777,
          0.8141470180305131,
          1.418862690707351,
          1.2323162274618584,
          1.329750346740638,
          1.182385575589459,
          1.4119278779472957,
          1.2496532593619971,
          1.0745492371705965,
          1.384882108183079,
          1.4271844660194175,
          0.9854368932038836,
          0.875866851595007,
          1.5,
          1.1005547850208044,
          1.4472954230235784,
          0.7395977808599168,
          1.2122052704576975,
          1.391123439667129,
          1.438626907073509,
          1.274618585298197,
          1.1636615811373092,
          1.5,
          1.193134535367545,
          1.3564493758668517,
          1.4802357836338418,
          1.248613037447989,
          1.1851595006934812,
          1.3536754507628297,
          0.9486823855755896,
          0.7874479889042996,
          1.2555478502080444,
          1.4025658807212205,
          1.257975034674064,
          1.5,
          0.7749653259361997,
          1.4559639389736476,
          1.096393897364771,
          0.912621359223301,
          0.6546463245492372,
          1.1560332871012482,
          1.145977808599168,
          1.4344660194174756,
          1.0176837725381416,
          1.16123439667129,
          1.214632454923717,
          1.5,
          1.2090846047156727,
          1.0960471567267684,
          1.5,
          1.383495145631068,
          1.5,
          1.4219833564493758,
          1.4778085991678225,
          0.6404299583911235,
          1.1251733703190014,
          1.5,
          1.45249653259362,
          0.9552704576976422,
          1.5,
          1.4074202496532593,
          1.464632454923717,
          1.5,
          1.285367545076283,
          1.4212898751733702,
          1.3040915395284327,
          1.5,
          1.4115811373092926,
          0.9337725381414702,
          0.7506934812760055,
          1.4407073509015256,
          1.0918862690707352,
          0.9036061026352288,
          1.2447988904299585,
          1.0336338418862692,
          1.442094313453537,
          0.7472260748959778,
          1.263869625520111,
          1.443134535367545,
          1.3290568654646324,
          1.3883495145631068,
          1.098127600554785,
          1.5,
          1.2302357836338418,
          1.1757975034674064,
          1.4396671289875174,
          1.1584604715672675,
          1.1386962552011095,
          1.3623439667128987,
          0.7926490984743412,
          1.435506241331484,
          0.9701803051317616,
          1.2142857142857142,
          0.573509015256588,
          1.5,
          1.1872399445214978,
          1.2888349514563109,
          1.119625520110957,
          0.9504160887656034,
          1.1619278779472957,
          1.5,
          1.4774618585298196,
          0.8144937586685159,
          1.096740638002774,
          0.7642163661581137,
          1.2524271844660195,
          1.185506241331484,
          1.44001386962552,
          1.050970873786408,
          0.7538141470180305,
          1.4635922330097086,
          1.3703190013869626,
          1.295769764216366,
          1.220873786407767,
          1.3800277392510405,
          1.354022191400832,
          0.7649098474341193,
          1.5,
          1.4015256588072122,
          1.0984743411927878,
          1.2950762829403606,
          0.9913314840499308,
          0.920249653259362,
          0.8002773925104022,
          0.782246879334258,
          1.455270457697642,
          1.2243411927877947,
          1.3280166435506242,
          1.3904299583911237,
          1.3585298196948683,
          1.4823162274618584,
          1.3054785020804438,
          1.1914008321775311,
          1.1816920943134537,
          1.470873786407767,
          1.164008321775312,
          1.0700416088765603,
          1.5,
          0.8550624133148405,
          1.3065187239944522,
          1.294729542302358,
          1.4927184466019416,
          1.5,
          1.0703883495145632,
          1.4882108183079057,
          1.4961858529819694,
          1.2999306518723994,
          1.480929264909847,
          1.2156726768377253,
          1.5,
          1.3283633841886269,
          1.4913314840499303,
          1.167128987517337,
          0.9320388349514565,
          1.5,
          1.4882108183079057,
          1.4944521497919556,
          1.5,
          1.5,
          1.5,
          1.4798890429958391,
          1.5,
          1.4941054091539527,
          1.440360610263523,
          1.4233703190013869,
          1.3040915395284327,
          1.4812760055478502,
          1.5,
          1.3644244105409151,
          1.5,
          1.5,
          1.5,
          1.5,
          1.5,
          1.4878640776699028,
          1.490984743411928,
          1.475381414701803,
          1.1279472954230236,
          1.463245492371706,
          1.5,
          1.4698335644937586,
          1.4791955617198336,
          1.4407073509015256,
          1.3040915395284327,
          1.5,
          1.5,
          1.334257975034674,
          1.5,
          1.492371705963939,
          1.5,
          1.3963245492371703,
          1.4583911234396671,
          1.4164355062413314,
          1.5,
          1.4077669902912622,
          1.4282246879334255,
          1.5,
          1.5,
          1.4812760055478502,
          0.7461858529819695,
          1.489251040221914,
          1.4934119278779472,
          1.4407073509015256,
          1.4837031900138695,
          1.4701803051317617,
          1.5,
          1.403606102635229,
          1.4954923717059638,
          1.434119278779473,
          1.4913314840499303,
          1.478848821081831,
          1.385922330097087,
          1.441747572815534,
          1.5,
          1.4361997226074896,
          1.31622746185853,
          1.0201109570041609,
          1.5,
          1.4837031900138695,
          1.5,
          1.4895977808599168,
          1.4667128987517335,
          1.5,
          1.4795423023578362,
          1.0821775312066575,
          1.5,
          1.4306518723994452,
          1.0946601941747574,
          1.4965325936199725,
          1.4743411927877947,
          1.4857836338418862,
          1.2427184466019416,
          1.223994452149792,
          1.4902912621359223,
          1.4823162274618584,
          1.5,
          1.5,
          1.317614424410541,
          1.5,
          0.9275312066574204,
          1.1556865464632455,
          1.5,
          0.984743411927878,
          1.272884882108183,
          1.1972954230235784,
          1.4729542302357836,
          1.5,
          1.4868238557558946,
          1.3779472954230236,
          1.3616504854368932,
          1.4393203883495145,
          1.5,
          1.5,
          1.490984743411928,
          1.5,
          0.7805131761442441,
          1.4791955617198336,
          1.4361997226074896,
          1.1217059639389737,
          1.4934119278779472,
          1.3491678224687933,
          1.4618585298196949,
          1.4379334257975034,
          1.1508321775312067,
          1.5,
          1.4934119278779472,
          1.4230235783633842,
          1.2097780859916782,
          1.5,
          1.3776005547850207,
          1.5,
          1.5,
          1.5,
          1.5,
          1.4119278779472957,
          1.4358529819694867,
          1.5,
          1.5,
          1.484743411927878,
          1.5,
          1.2645631067961165,
          1.3699722607489595,
          1.4965325936199725,
          1.5,
          1.4545769764216363,
          1.4257975034674064,
          1.4951456310679612,
          1.5,
          1.4597780859916782,
          1.317267683772538,
          1.5,
          1.5,
          1.5,
          1.4947988904299585,
          1.470873786407767,
          1.5,
          1.5,
          1.5,
          1.5,
          1.3997919556171985,
          1.299237170596394,
          1.5,
          1.5,
          1.365117891816921,
          1.467753120665742,
          1.3644244105409151,
          1.151872399445215,
          1.2219140083217752,
          1.4954923717059638,
          1.4719140083217752,
          1.5,
          1.4622052704576975,
          1.4275312066574202,
          1.5,
          1.496879334257975,
          1.5,
          1.5,
          1.4518030513176143,
          1.2496532593619971,
          1.5,
          1.2548543689320388,
          1.444174757281553,
          1.5,
          1.4954923717059638,
          1.4889042995839112,
          1.5,
          1.4781553398058251,
          1.4726074895977808,
          1.3411927877947296,
          1.5,
          1.5,
          1.5,
          1.4972260748959778,
          1.302357836338419,
          1.477115117891817,
          1.4635922330097086,
          1.4660194174757282,
          1.3131067961165048,
          1.483009708737864,
          1.401872399445215,
          1.2780859916782248,
          1.4257975034674064,
          1.4368932038834952,
          1.5,
          1.4941054091539527,
          1.5,
          1.2985436893203883,
          1.3890429958391124,
          1.4902912621359223,
          1.4930651872399443,
          1.460124826629681,
          1.4344660194174756,
          1.4837031900138695,
          0.746879334257975,
          1.277739251040222,
          1.0388349514563109,
          1.240984743411928,
          1.375866851595007,
          1.279126213592233,
          1.5,
          1.2649098474341194,
          1.1983356449375866,
          1.5,
          1.5,
          1.44001386962552,
          1.4205963938973647,
          1.5,
          1.4674063800277393,
          1.3248959778085991,
          1.4895977808599168,
          1.4951456310679612,
          1.4733009708737863,
          1.444174757281553,
          1.4663661581137308,
          1.4199029126213591,
          1.5,
          1.30374479889043,
          1.477115117891817,
          1.2662968099861305,
          1.4115811373092926,
          1.4590846047156727,
          1.2864077669902914,
          1.3765603328710123,
          1.3127600554785022,
          1.5,
          1.5,
          1.462898751733703,
          1.4878640776699028,
          1.447988904299584,
          1.4837031900138695,
          1.0450762829403606,
          1.4899445214979194,
          1.5,
          1.5,
          1.3994452149791956,
          1.1681692094313454,
          1.4837031900138695,
          1.5,
          1.5,
          1.16123439667129,
          1.5,
          1.4268377253814146,
          1.5,
          1.4882108183079057,
          1.4240638002773924,
          1.490638002773925,
          1.480582524271845,
          1.4913314840499303,
          1.496879334257975,
          1.4927184466019416,
          1.5,
          1.1712898751733702,
          0.8519417475728155,
          1.2610957004160888,
          1.4895977808599168,
          1.473994452149792,
          1.4941054091539527,
          1.4930651872399443,
          1.5,
          1.4004854368932038,
          1.4798890429958391,
          1.5,
          1.492024965325936,
          1.0977808599167822,
          1.2035367545076283,
          0.6279472954230236,
          1.3103328710124826,
          1.480582524271845,
          1.470873786407767,
          1.4798890429958391,
          1.4895977808599168,
          1.4868238557558946,
          1.489251040221914,
          1.5,
          1.486130374479889,
          1.5,
          1.4823162274618584,
          1.490984743411928,
          1.4885575589459084,
          1.4587378640776698,
          1.5,
          0.9074202496532594,
          1.490984743411928,
          1.5,
          1.4930651872399443,
          1.4726074895977808,
          1.478848821081831,
          1.0852981969486823,
          1.3477808599167822,
          1.25,
          1.1005547850208044,
          1.5,
          1.391123439667129,
          1.422330097087379,
          1.5,
          1.5,
          1.3502080443828015,
          1.4871705963938973,
          1.5,
          1.4941054091539527,
          1.5,
          1.5,
          1.4774618585298196,
          1.478848821081831,
          1.3210818307905687,
          1.4885575589459084,
          1.4448682385575589,
          1.4941054091539527,
          1.455617198335645,
          1.4670596393897364,
          1.5,
          1.4174757281553398,
          1.5,
          1.4136615811373092,
          1.4885575589459084,
          1.139389736477115,
          1.412274618585298,
          1.2995839112343968,
          1.0759361997226076,
          1.4875173370319,
          1.4486823855755897,
          1.5,
          1.5,
          1.5,
          1.0048543689320388,
          1.329750346740638,
          1.2167128987517335,
          1.248613037447989,
          1.5,
          1.5,
          1.490638002773925,
          1.3325242718446602,
          1.5,
          1.5,
          1.4791955617198336,
          1.5,
          1.490638002773925,
          1.4916782246879334,
          1.4549237170596394,
          1.5,
          1.3720527045769764,
          1.372746185852982,
          1.5,
          1.460124826629681,
          1.3918169209431346,
          1.5,
          1.482662968099861,
          1.5,
          1.3040915395284327,
          1.4545769764216363,
          1.300624133148405,
          1.3855755894590849,
          1.4941054091539527,
          1.2881414701803051,
          1.415742024965326,
          1.3065187239944522,
          1.2923023578363384,
          1.1133841886269071,
          1.447642163661581,
          1.5,
          1.4611650485436891,
          1.5,
          1.5,
          1.1848127600554783,
          1.480582524271845,
          1.4674063800277393,
          1.5,
          1,
          1.5,
          1.5,
          1.5,
          1.4954923717059638,
          1.5,
          1.484743411927878,
          1.484743411927878,
          1.484396671289875,
          1.49375866851595,
          1.5,
          1.5,
          1.2971567267683772,
          1.5,
          1.5,
          1.5,
          1.4930651872399443,
          1.473994452149792,
          1.4358529819694867,
          1.5,
          1.483009708737864,
          1.4760748959778085,
          1.2382108183079057,
          1.4864771151178915,
          1.4622052704576975,
          1.5,
          1.5,
          1.480929264909847,
          1.3151872399445217,
          1.4368932038834952,
          1.5,
          1.463245492371706,
          1.4053398058252426,
          1.116158113730929,
          1.5,
          1.4812760055478502,
          1.5,
          0.7465325936199723,
          1.4635922330097086,
          1.5,
          1.4701803051317617,
          1.490984743411928,
          1.4954923717059638,
          1.5,
          1.4344660194174756,
          1.469486823855756,
          1.5,
          1.490984743411928,
          1.476768377253814,
          1.4670596393897364,
          1.4885575589459084,
          1.0242718446601942,
          1.5,
          1.457004160887656,
          1.432732316227462,
          1.5,
          1.3980582524271843,
          1.4854368932038835,
          1.2395977808599168,
          1.0884188626907074,
          0.75,
          1.4576976421636616,
          1.4195561719833565,
          1.4850901525658806,
          1.4798890429958391,
          1.1158113730929264,
          1.4663661581137308,
          1.5,
          1.4795423023578362,
          1.3030513176144245,
          1.5,
          1.475381414701803,
          1.5,
          1.5,
          1.5,
          0.75,
          1.492024965325936,
          1.5,
          1.4791955617198336,
          1.4760748959778085,
          1.5,
          1.5,
          1.5,
          1.5,
          1.4778085991678225,
          1.5,
          1.5,
          1.5,
          1.5,
          1.3873092926490984,
          0.75,
          1.478502080443828,
          1.3692787794729542,
          1.29750346740638,
          1.482662968099861,
          1.1508321775312067,
          1.5,
          0.8432732316227461,
          1.4427877947295422,
          1.478848821081831,
          1.4674063800277393,
          1.4736477115117892,
          1.432732316227462,
          1.5,
          1.4812760055478502,
          1.4573509015256587,
          1.4954923717059638,
          1.4486823855755897,
          1.5,
          1.5,
          0.9337725381414702,
          1.5,
          1.354022191400832,
          1.4566574202496532,
          1.0201109570041609,
          1.5,
          1.4174757281553398,
          1.5,
          1.424757281553398,
          0.7434119278779473,
          1.484396671289875,
          1.5,
          1.5,
          1,
          1.434119278779473,
          1.285367545076283,
          1.4854368932038835,
          1.480582524271845,
          1.5,
          1.0377947295423025,
          1.233009708737864,
          1.4895977808599168,
          1.5,
          1.430998613037448,
          1.4382801664355065,
          1.5,
          1.470527045769764,
          1.2916088765603329,
          1.5,
          1.4514563106796117,
          1.4913314840499303,
          1.476768377253814,
          1.4382801664355065,
          1.475381414701803,
          1.052357836338419,
          1.029126213592233,
          1.4934119278779472,
          1.3782940360610263,
          1.5,
          1.415742024965326,
          1.5,
          1.4954923717059638,
          1.5,
          1.360610263522885,
          1.4275312066574202,
          1.4965325936199725,
          1.4625520110957004,
          1.5,
          1.5,
          1.5,
          1.5,
          1.5
         ],
         "y0": " ",
         "yaxis": "y"
        },
        {
         "line": {
          "color": "green",
          "width": 2
         },
         "mode": "lines",
         "name": "mean",
         "showlegend": true,
         "type": "scatter",
         "x": [
          "hj_naive",
          "hj_reactive",
          "flocking"
         ],
         "y": [
          1.0869452149791954,
          1.2194893548093182,
          1.4108503244682469
         ]
        }
       ],
       "layout": {
        "boxmode": "group",
        "legend": {
         "tracegroupgap": 0
        },
        "margin": {
         "t": 60
        },
        "template": {
         "data": {
          "bar": [
           {
            "error_x": {
             "color": "#2a3f5f"
            },
            "error_y": {
             "color": "#2a3f5f"
            },
            "marker": {
             "line": {
              "color": "#E5ECF6",
              "width": 0.5
             },
             "pattern": {
              "fillmode": "overlay",
              "size": 10,
              "solidity": 0.2
             }
            },
            "type": "bar"
           }
          ],
          "barpolar": [
           {
            "marker": {
             "line": {
              "color": "#E5ECF6",
              "width": 0.5
             },
             "pattern": {
              "fillmode": "overlay",
              "size": 10,
              "solidity": 0.2
             }
            },
            "type": "barpolar"
           }
          ],
          "carpet": [
           {
            "aaxis": {
             "endlinecolor": "#2a3f5f",
             "gridcolor": "white",
             "linecolor": "white",
             "minorgridcolor": "white",
             "startlinecolor": "#2a3f5f"
            },
            "baxis": {
             "endlinecolor": "#2a3f5f",
             "gridcolor": "white",
             "linecolor": "white",
             "minorgridcolor": "white",
             "startlinecolor": "#2a3f5f"
            },
            "type": "carpet"
           }
          ],
          "choropleth": [
           {
            "colorbar": {
             "outlinewidth": 0,
             "ticks": ""
            },
            "type": "choropleth"
           }
          ],
          "contour": [
           {
            "colorbar": {
             "outlinewidth": 0,
             "ticks": ""
            },
            "colorscale": [
             [
              0,
              "#0d0887"
             ],
             [
              0.1111111111111111,
              "#46039f"
             ],
             [
              0.2222222222222222,
              "#7201a8"
             ],
             [
              0.3333333333333333,
              "#9c179e"
             ],
             [
              0.4444444444444444,
              "#bd3786"
             ],
             [
              0.5555555555555556,
              "#d8576b"
             ],
             [
              0.6666666666666666,
              "#ed7953"
             ],
             [
              0.7777777777777778,
              "#fb9f3a"
             ],
             [
              0.8888888888888888,
              "#fdca26"
             ],
             [
              1,
              "#f0f921"
             ]
            ],
            "type": "contour"
           }
          ],
          "contourcarpet": [
           {
            "colorbar": {
             "outlinewidth": 0,
             "ticks": ""
            },
            "type": "contourcarpet"
           }
          ],
          "heatmap": [
           {
            "colorbar": {
             "outlinewidth": 0,
             "ticks": ""
            },
            "colorscale": [
             [
              0,
              "#0d0887"
             ],
             [
              0.1111111111111111,
              "#46039f"
             ],
             [
              0.2222222222222222,
              "#7201a8"
             ],
             [
              0.3333333333333333,
              "#9c179e"
             ],
             [
              0.4444444444444444,
              "#bd3786"
             ],
             [
              0.5555555555555556,
              "#d8576b"
             ],
             [
              0.6666666666666666,
              "#ed7953"
             ],
             [
              0.7777777777777778,
              "#fb9f3a"
             ],
             [
              0.8888888888888888,
              "#fdca26"
             ],
             [
              1,
              "#f0f921"
             ]
            ],
            "type": "heatmap"
           }
          ],
          "heatmapgl": [
           {
            "colorbar": {
             "outlinewidth": 0,
             "ticks": ""
            },
            "colorscale": [
             [
              0,
              "#0d0887"
             ],
             [
              0.1111111111111111,
              "#46039f"
             ],
             [
              0.2222222222222222,
              "#7201a8"
             ],
             [
              0.3333333333333333,
              "#9c179e"
             ],
             [
              0.4444444444444444,
              "#bd3786"
             ],
             [
              0.5555555555555556,
              "#d8576b"
             ],
             [
              0.6666666666666666,
              "#ed7953"
             ],
             [
              0.7777777777777778,
              "#fb9f3a"
             ],
             [
              0.8888888888888888,
              "#fdca26"
             ],
             [
              1,
              "#f0f921"
             ]
            ],
            "type": "heatmapgl"
           }
          ],
          "histogram": [
           {
            "marker": {
             "pattern": {
              "fillmode": "overlay",
              "size": 10,
              "solidity": 0.2
             }
            },
            "type": "histogram"
           }
          ],
          "histogram2d": [
           {
            "colorbar": {
             "outlinewidth": 0,
             "ticks": ""
            },
            "colorscale": [
             [
              0,
              "#0d0887"
             ],
             [
              0.1111111111111111,
              "#46039f"
             ],
             [
              0.2222222222222222,
              "#7201a8"
             ],
             [
              0.3333333333333333,
              "#9c179e"
             ],
             [
              0.4444444444444444,
              "#bd3786"
             ],
             [
              0.5555555555555556,
              "#d8576b"
             ],
             [
              0.6666666666666666,
              "#ed7953"
             ],
             [
              0.7777777777777778,
              "#fb9f3a"
             ],
             [
              0.8888888888888888,
              "#fdca26"
             ],
             [
              1,
              "#f0f921"
             ]
            ],
            "type": "histogram2d"
           }
          ],
          "histogram2dcontour": [
           {
            "colorbar": {
             "outlinewidth": 0,
             "ticks": ""
            },
            "colorscale": [
             [
              0,
              "#0d0887"
             ],
             [
              0.1111111111111111,
              "#46039f"
             ],
             [
              0.2222222222222222,
              "#7201a8"
             ],
             [
              0.3333333333333333,
              "#9c179e"
             ],
             [
              0.4444444444444444,
              "#bd3786"
             ],
             [
              0.5555555555555556,
              "#d8576b"
             ],
             [
              0.6666666666666666,
              "#ed7953"
             ],
             [
              0.7777777777777778,
              "#fb9f3a"
             ],
             [
              0.8888888888888888,
              "#fdca26"
             ],
             [
              1,
              "#f0f921"
             ]
            ],
            "type": "histogram2dcontour"
           }
          ],
          "mesh3d": [
           {
            "colorbar": {
             "outlinewidth": 0,
             "ticks": ""
            },
            "type": "mesh3d"
           }
          ],
          "parcoords": [
           {
            "line": {
             "colorbar": {
              "outlinewidth": 0,
              "ticks": ""
             }
            },
            "type": "parcoords"
           }
          ],
          "pie": [
           {
            "automargin": true,
            "type": "pie"
           }
          ],
          "scatter": [
           {
            "fillpattern": {
             "fillmode": "overlay",
             "size": 10,
             "solidity": 0.2
            },
            "type": "scatter"
           }
          ],
          "scatter3d": [
           {
            "line": {
             "colorbar": {
              "outlinewidth": 0,
              "ticks": ""
             }
            },
            "marker": {
             "colorbar": {
              "outlinewidth": 0,
              "ticks": ""
             }
            },
            "type": "scatter3d"
           }
          ],
          "scattercarpet": [
           {
            "marker": {
             "colorbar": {
              "outlinewidth": 0,
              "ticks": ""
             }
            },
            "type": "scattercarpet"
           }
          ],
          "scattergeo": [
           {
            "marker": {
             "colorbar": {
              "outlinewidth": 0,
              "ticks": ""
             }
            },
            "type": "scattergeo"
           }
          ],
          "scattergl": [
           {
            "marker": {
             "colorbar": {
              "outlinewidth": 0,
              "ticks": ""
             }
            },
            "type": "scattergl"
           }
          ],
          "scattermapbox": [
           {
            "marker": {
             "colorbar": {
              "outlinewidth": 0,
              "ticks": ""
             }
            },
            "type": "scattermapbox"
           }
          ],
          "scatterpolar": [
           {
            "marker": {
             "colorbar": {
              "outlinewidth": 0,
              "ticks": ""
             }
            },
            "type": "scatterpolar"
           }
          ],
          "scatterpolargl": [
           {
            "marker": {
             "colorbar": {
              "outlinewidth": 0,
              "ticks": ""
             }
            },
            "type": "scatterpolargl"
           }
          ],
          "scatterternary": [
           {
            "marker": {
             "colorbar": {
              "outlinewidth": 0,
              "ticks": ""
             }
            },
            "type": "scatterternary"
           }
          ],
          "surface": [
           {
            "colorbar": {
             "outlinewidth": 0,
             "ticks": ""
            },
            "colorscale": [
             [
              0,
              "#0d0887"
             ],
             [
              0.1111111111111111,
              "#46039f"
             ],
             [
              0.2222222222222222,
              "#7201a8"
             ],
             [
              0.3333333333333333,
              "#9c179e"
             ],
             [
              0.4444444444444444,
              "#bd3786"
             ],
             [
              0.5555555555555556,
              "#d8576b"
             ],
             [
              0.6666666666666666,
              "#ed7953"
             ],
             [
              0.7777777777777778,
              "#fb9f3a"
             ],
             [
              0.8888888888888888,
              "#fdca26"
             ],
             [
              1,
              "#f0f921"
             ]
            ],
            "type": "surface"
           }
          ],
          "table": [
           {
            "cells": {
             "fill": {
              "color": "#EBF0F8"
             },
             "line": {
              "color": "white"
             }
            },
            "header": {
             "fill": {
              "color": "#C8D4E3"
             },
             "line": {
              "color": "white"
             }
            },
            "type": "table"
           }
          ]
         },
         "layout": {
          "annotationdefaults": {
           "arrowcolor": "#2a3f5f",
           "arrowhead": 0,
           "arrowwidth": 1
          },
          "autotypenumbers": "strict",
          "coloraxis": {
           "colorbar": {
            "outlinewidth": 0,
            "ticks": ""
           }
          },
          "colorscale": {
           "diverging": [
            [
             0,
             "#8e0152"
            ],
            [
             0.1,
             "#c51b7d"
            ],
            [
             0.2,
             "#de77ae"
            ],
            [
             0.3,
             "#f1b6da"
            ],
            [
             0.4,
             "#fde0ef"
            ],
            [
             0.5,
             "#f7f7f7"
            ],
            [
             0.6,
             "#e6f5d0"
            ],
            [
             0.7,
             "#b8e186"
            ],
            [
             0.8,
             "#7fbc41"
            ],
            [
             0.9,
             "#4d9221"
            ],
            [
             1,
             "#276419"
            ]
           ],
           "sequential": [
            [
             0,
             "#0d0887"
            ],
            [
             0.1111111111111111,
             "#46039f"
            ],
            [
             0.2222222222222222,
             "#7201a8"
            ],
            [
             0.3333333333333333,
             "#9c179e"
            ],
            [
             0.4444444444444444,
             "#bd3786"
            ],
            [
             0.5555555555555556,
             "#d8576b"
            ],
            [
             0.6666666666666666,
             "#ed7953"
            ],
            [
             0.7777777777777778,
             "#fb9f3a"
            ],
            [
             0.8888888888888888,
             "#fdca26"
            ],
            [
             1,
             "#f0f921"
            ]
           ],
           "sequentialminus": [
            [
             0,
             "#0d0887"
            ],
            [
             0.1111111111111111,
             "#46039f"
            ],
            [
             0.2222222222222222,
             "#7201a8"
            ],
            [
             0.3333333333333333,
             "#9c179e"
            ],
            [
             0.4444444444444444,
             "#bd3786"
            ],
            [
             0.5555555555555556,
             "#d8576b"
            ],
            [
             0.6666666666666666,
             "#ed7953"
            ],
            [
             0.7777777777777778,
             "#fb9f3a"
            ],
            [
             0.8888888888888888,
             "#fdca26"
            ],
            [
             1,
             "#f0f921"
            ]
           ]
          },
          "colorway": [
           "#636efa",
           "#EF553B",
           "#00cc96",
           "#ab63fa",
           "#FFA15A",
           "#19d3f3",
           "#FF6692",
           "#B6E880",
           "#FF97FF",
           "#FECB52"
          ],
          "font": {
           "color": "#2a3f5f"
          },
          "geo": {
           "bgcolor": "white",
           "lakecolor": "white",
           "landcolor": "#E5ECF6",
           "showlakes": true,
           "showland": true,
           "subunitcolor": "white"
          },
          "hoverlabel": {
           "align": "left"
          },
          "hovermode": "closest",
          "mapbox": {
           "style": "light"
          },
          "paper_bgcolor": "white",
          "plot_bgcolor": "#E5ECF6",
          "polar": {
           "angularaxis": {
            "gridcolor": "white",
            "linecolor": "white",
            "ticks": ""
           },
           "bgcolor": "#E5ECF6",
           "radialaxis": {
            "gridcolor": "white",
            "linecolor": "white",
            "ticks": ""
           }
          },
          "scene": {
           "xaxis": {
            "backgroundcolor": "#E5ECF6",
            "gridcolor": "white",
            "gridwidth": 2,
            "linecolor": "white",
            "showbackground": true,
            "ticks": "",
            "zerolinecolor": "white"
           },
           "yaxis": {
            "backgroundcolor": "#E5ECF6",
            "gridcolor": "white",
            "gridwidth": 2,
            "linecolor": "white",
            "showbackground": true,
            "ticks": "",
            "zerolinecolor": "white"
           },
           "zaxis": {
            "backgroundcolor": "#E5ECF6",
            "gridcolor": "white",
            "gridwidth": 2,
            "linecolor": "white",
            "showbackground": true,
            "ticks": "",
            "zerolinecolor": "white"
           }
          },
          "shapedefaults": {
           "line": {
            "color": "#2a3f5f"
           }
          },
          "ternary": {
           "aaxis": {
            "gridcolor": "white",
            "linecolor": "white",
            "ticks": ""
           },
           "baxis": {
            "gridcolor": "white",
            "linecolor": "white",
            "ticks": ""
           },
           "bgcolor": "#E5ECF6",
           "caxis": {
            "gridcolor": "white",
            "linecolor": "white",
            "ticks": ""
           }
          },
          "title": {
           "x": 0.05
          },
          "xaxis": {
           "automargin": true,
           "gridcolor": "white",
           "linecolor": "white",
           "ticks": "",
           "title": {
            "standoff": 15
           },
           "zerolinecolor": "white",
           "zerolinewidth": 2
          },
          "yaxis": {
           "automargin": true,
           "gridcolor": "white",
           "linecolor": "white",
           "ticks": "",
           "title": {
            "standoff": 15
           },
           "zerolinecolor": "white",
           "zerolinewidth": 2
          }
         }
        },
        "xaxis": {
         "anchor": "y",
         "domain": [
          0,
          1
         ],
         "title": {
          "text": "controllers"
         }
        },
        "yaxis": {
         "anchor": "x",
         "domain": [
          0,
          1
         ],
         "title": {
          "text": "Average Beta Index over Missions"
         }
        }
       }
      },
      "text/html": [
       "<div>                            <div id=\"87a4dc40-02be-4ec2-9165-5c84a52463e1\" class=\"plotly-graph-div\" style=\"height:525px; width:100%;\"></div>            <script type=\"text/javascript\">                require([\"plotly\"], function(Plotly) {                    window.PLOTLYENV=window.PLOTLYENV || {};                                    if (document.getElementById(\"87a4dc40-02be-4ec2-9165-5c84a52463e1\")) {                    Plotly.newPlot(                        \"87a4dc40-02be-4ec2-9165-5c84a52463e1\",                        [{\"alignmentgroup\":\"True\",\"hovertemplate\":\"variable=%{x}<br>value=%{y}<extra></extra>\",\"legendgroup\":\"\",\"marker\":{\"color\":\"#636efa\"},\"name\":\"\",\"notched\":false,\"offsetgroup\":\"\",\"orientation\":\"v\",\"showlegend\":false,\"x\":[\"hj_naive\",\"hj_naive\",\"hj_naive\",\"hj_naive\",\"hj_naive\",\"hj_naive\",\"hj_naive\",\"hj_naive\",\"hj_naive\",\"hj_naive\",\"hj_naive\",\"hj_naive\",\"hj_naive\",\"hj_naive\",\"hj_naive\",\"hj_naive\",\"hj_naive\",\"hj_naive\",\"hj_naive\",\"hj_naive\",\"hj_naive\",\"hj_naive\",\"hj_naive\",\"hj_naive\",\"hj_naive\",\"hj_naive\",\"hj_naive\",\"hj_naive\",\"hj_naive\",\"hj_naive\",\"hj_naive\",\"hj_naive\",\"hj_naive\",\"hj_naive\",\"hj_naive\",\"hj_naive\",\"hj_naive\",\"hj_naive\",\"hj_naive\",\"hj_naive\",\"hj_naive\",\"hj_naive\",\"hj_naive\",\"hj_naive\",\"hj_naive\",\"hj_naive\",\"hj_naive\",\"hj_naive\",\"hj_naive\",\"hj_naive\",\"hj_naive\",\"hj_naive\",\"hj_naive\",\"hj_naive\",\"hj_naive\",\"hj_naive\",\"hj_naive\",\"hj_naive\",\"hj_naive\",\"hj_naive\",\"hj_naive\",\"hj_naive\",\"hj_naive\",\"hj_naive\",\"hj_naive\",\"hj_naive\",\"hj_naive\",\"hj_naive\",\"hj_naive\",\"hj_naive\",\"hj_naive\",\"hj_naive\",\"hj_naive\",\"hj_naive\",\"hj_naive\",\"hj_naive\",\"hj_naive\",\"hj_naive\",\"hj_naive\",\"hj_naive\",\"hj_naive\",\"hj_naive\",\"hj_naive\",\"hj_naive\",\"hj_naive\",\"hj_naive\",\"hj_naive\",\"hj_naive\",\"hj_naive\",\"hj_naive\",\"hj_naive\",\"hj_naive\",\"hj_naive\",\"hj_naive\",\"hj_naive\",\"hj_naive\",\"hj_naive\",\"hj_naive\",\"hj_naive\",\"hj_naive\",\"hj_naive\",\"hj_naive\",\"hj_naive\",\"hj_naive\",\"hj_naive\",\"hj_naive\",\"hj_naive\",\"hj_naive\",\"hj_naive\",\"hj_naive\",\"hj_naive\",\"hj_naive\",\"hj_naive\",\"hj_naive\",\"hj_naive\",\"hj_naive\",\"hj_naive\",\"hj_naive\",\"hj_naive\",\"hj_naive\",\"hj_naive\",\"hj_naive\",\"hj_naive\",\"hj_naive\",\"hj_naive\",\"hj_naive\",\"hj_naive\",\"hj_naive\",\"hj_naive\",\"hj_naive\",\"hj_naive\",\"hj_naive\",\"hj_naive\",\"hj_naive\",\"hj_naive\",\"hj_naive\",\"hj_naive\",\"hj_naive\",\"hj_naive\",\"hj_naive\",\"hj_naive\",\"hj_naive\",\"hj_naive\",\"hj_naive\",\"hj_naive\",\"hj_naive\",\"hj_naive\",\"hj_naive\",\"hj_naive\",\"hj_naive\",\"hj_naive\",\"hj_naive\",\"hj_naive\",\"hj_naive\",\"hj_naive\",\"hj_naive\",\"hj_naive\",\"hj_naive\",\"hj_naive\",\"hj_naive\",\"hj_naive\",\"hj_naive\",\"hj_naive\",\"hj_naive\",\"hj_naive\",\"hj_naive\",\"hj_naive\",\"hj_naive\",\"hj_naive\",\"hj_naive\",\"hj_naive\",\"hj_naive\",\"hj_naive\",\"hj_naive\",\"hj_naive\",\"hj_naive\",\"hj_naive\",\"hj_naive\",\"hj_naive\",\"hj_naive\",\"hj_naive\",\"hj_naive\",\"hj_naive\",\"hj_naive\",\"hj_naive\",\"hj_naive\",\"hj_naive\",\"hj_naive\",\"hj_naive\",\"hj_naive\",\"hj_naive\",\"hj_naive\",\"hj_naive\",\"hj_naive\",\"hj_naive\",\"hj_naive\",\"hj_naive\",\"hj_naive\",\"hj_naive\",\"hj_naive\",\"hj_naive\",\"hj_naive\",\"hj_naive\",\"hj_naive\",\"hj_naive\",\"hj_naive\",\"hj_naive\",\"hj_naive\",\"hj_naive\",\"hj_naive\",\"hj_naive\",\"hj_naive\",\"hj_naive\",\"hj_naive\",\"hj_naive\",\"hj_naive\",\"hj_naive\",\"hj_naive\",\"hj_naive\",\"hj_naive\",\"hj_naive\",\"hj_naive\",\"hj_naive\",\"hj_naive\",\"hj_naive\",\"hj_naive\",\"hj_naive\",\"hj_naive\",\"hj_naive\",\"hj_naive\",\"hj_naive\",\"hj_naive\",\"hj_naive\",\"hj_naive\",\"hj_naive\",\"hj_naive\",\"hj_naive\",\"hj_naive\",\"hj_naive\",\"hj_naive\",\"hj_naive\",\"hj_naive\",\"hj_naive\",\"hj_naive\",\"hj_naive\",\"hj_naive\",\"hj_naive\",\"hj_naive\",\"hj_naive\",\"hj_naive\",\"hj_naive\",\"hj_naive\",\"hj_naive\",\"hj_naive\",\"hj_naive\",\"hj_naive\",\"hj_naive\",\"hj_naive\",\"hj_naive\",\"hj_naive\",\"hj_naive\",\"hj_naive\",\"hj_naive\",\"hj_naive\",\"hj_naive\",\"hj_naive\",\"hj_naive\",\"hj_naive\",\"hj_naive\",\"hj_naive\",\"hj_naive\",\"hj_naive\",\"hj_naive\",\"hj_naive\",\"hj_naive\",\"hj_naive\",\"hj_naive\",\"hj_naive\",\"hj_naive\",\"hj_naive\",\"hj_naive\",\"hj_naive\",\"hj_naive\",\"hj_naive\",\"hj_naive\",\"hj_naive\",\"hj_naive\",\"hj_naive\",\"hj_naive\",\"hj_naive\",\"hj_naive\",\"hj_naive\",\"hj_naive\",\"hj_naive\",\"hj_naive\",\"hj_naive\",\"hj_naive\",\"hj_naive\",\"hj_naive\",\"hj_naive\",\"hj_naive\",\"hj_naive\",\"hj_naive\",\"hj_naive\",\"hj_naive\",\"hj_naive\",\"hj_naive\",\"hj_naive\",\"hj_naive\",\"hj_naive\",\"hj_naive\",\"hj_naive\",\"hj_naive\",\"hj_naive\",\"hj_naive\",\"hj_naive\",\"hj_naive\",\"hj_naive\",\"hj_naive\",\"hj_naive\",\"hj_naive\",\"hj_naive\",\"hj_naive\",\"hj_naive\",\"hj_naive\",\"hj_naive\",\"hj_naive\",\"hj_naive\",\"hj_naive\",\"hj_naive\",\"hj_naive\",\"hj_naive\",\"hj_naive\",\"hj_naive\",\"hj_naive\",\"hj_naive\",\"hj_naive\",\"hj_naive\",\"hj_naive\",\"hj_naive\",\"hj_naive\",\"hj_naive\",\"hj_naive\",\"hj_naive\",\"hj_naive\",\"hj_naive\",\"hj_naive\",\"hj_naive\",\"hj_naive\",\"hj_naive\",\"hj_naive\",\"hj_naive\",\"hj_naive\",\"hj_naive\",\"hj_naive\",\"hj_naive\",\"hj_naive\",\"hj_naive\",\"hj_naive\",\"hj_naive\",\"hj_naive\",\"hj_naive\",\"hj_naive\",\"hj_naive\",\"hj_naive\",\"hj_naive\",\"hj_naive\",\"hj_naive\",\"hj_naive\",\"hj_naive\",\"hj_naive\",\"hj_naive\",\"hj_naive\",\"hj_naive\",\"hj_naive\",\"hj_naive\",\"hj_naive\",\"hj_naive\",\"hj_naive\",\"hj_naive\",\"hj_naive\",\"hj_naive\",\"hj_naive\",\"hj_naive\",\"hj_naive\",\"hj_naive\",\"hj_naive\",\"hj_naive\",\"hj_naive\",\"hj_naive\",\"hj_naive\",\"hj_naive\",\"hj_naive\",\"hj_naive\",\"hj_naive\",\"hj_naive\",\"hj_naive\",\"hj_naive\",\"hj_naive\",\"hj_naive\",\"hj_naive\",\"hj_naive\",\"hj_naive\",\"hj_naive\",\"hj_naive\",\"hj_naive\",\"hj_naive\",\"hj_naive\",\"hj_naive\",\"hj_naive\",\"hj_naive\",\"hj_naive\",\"hj_naive\",\"hj_naive\",\"hj_naive\",\"hj_naive\",\"hj_naive\",\"hj_naive\",\"hj_naive\",\"hj_naive\",\"hj_naive\",\"hj_naive\",\"hj_naive\",\"hj_naive\",\"hj_naive\",\"hj_naive\",\"hj_naive\",\"hj_naive\",\"hj_naive\",\"hj_naive\",\"hj_naive\",\"hj_naive\",\"hj_naive\",\"hj_naive\",\"hj_naive\",\"hj_naive\",\"hj_naive\",\"hj_naive\",\"hj_naive\",\"hj_naive\",\"hj_naive\",\"hj_naive\",\"hj_naive\",\"hj_naive\",\"hj_naive\",\"hj_naive\",\"hj_naive\",\"hj_naive\",\"hj_naive\",\"hj_naive\",\"hj_naive\",\"hj_naive\",\"hj_naive\",\"hj_naive\",\"hj_naive\",\"hj_naive\",\"hj_naive\",\"hj_naive\",\"hj_naive\",\"hj_naive\",\"hj_naive\",\"hj_naive\",\"hj_naive\",\"hj_naive\",\"hj_naive\",\"hj_naive\",\"hj_naive\",\"hj_naive\",\"hj_naive\",\"hj_naive\",\"hj_naive\",\"hj_naive\",\"hj_naive\",\"hj_naive\",\"hj_naive\",\"hj_naive\",\"hj_naive\",\"hj_naive\",\"hj_naive\",\"hj_naive\",\"hj_naive\",\"hj_naive\",\"hj_naive\",\"hj_naive\",\"hj_naive\",\"hj_naive\",\"hj_naive\",\"hj_naive\",\"hj_naive\",\"hj_naive\",\"hj_naive\",\"hj_naive\",\"hj_naive\",\"hj_naive\",\"hj_naive\",\"hj_naive\",\"hj_naive\",\"hj_naive\",\"hj_naive\",\"hj_naive\",\"hj_naive\",\"hj_naive\",\"hj_naive\",\"hj_naive\",\"hj_naive\",\"hj_naive\",\"hj_naive\",\"hj_naive\",\"hj_naive\",\"hj_naive\",\"hj_naive\",\"hj_naive\",\"hj_naive\",\"hj_naive\",\"hj_naive\",\"hj_naive\",\"hj_naive\",\"hj_naive\",\"hj_naive\",\"hj_naive\",\"hj_naive\",\"hj_naive\",\"hj_naive\",\"hj_naive\",\"hj_naive\",\"hj_naive\",\"hj_naive\",\"hj_naive\",\"hj_naive\",\"hj_naive\",\"hj_naive\",\"hj_naive\",\"hj_naive\",\"hj_naive\",\"hj_naive\",\"hj_naive\",\"hj_naive\",\"hj_naive\",\"hj_naive\",\"hj_naive\",\"hj_naive\",\"hj_naive\",\"hj_naive\",\"hj_naive\",\"hj_naive\",\"hj_naive\",\"hj_naive\",\"hj_naive\",\"hj_reactive\",\"hj_reactive\",\"hj_reactive\",\"hj_reactive\",\"hj_reactive\",\"hj_reactive\",\"hj_reactive\",\"hj_reactive\",\"hj_reactive\",\"hj_reactive\",\"hj_reactive\",\"hj_reactive\",\"hj_reactive\",\"hj_reactive\",\"hj_reactive\",\"hj_reactive\",\"hj_reactive\",\"hj_reactive\",\"hj_reactive\",\"hj_reactive\",\"hj_reactive\",\"hj_reactive\",\"hj_reactive\",\"hj_reactive\",\"hj_reactive\",\"hj_reactive\",\"hj_reactive\",\"hj_reactive\",\"hj_reactive\",\"hj_reactive\",\"hj_reactive\",\"hj_reactive\",\"hj_reactive\",\"hj_reactive\",\"hj_reactive\",\"hj_reactive\",\"hj_reactive\",\"hj_reactive\",\"hj_reactive\",\"hj_reactive\",\"hj_reactive\",\"hj_reactive\",\"hj_reactive\",\"hj_reactive\",\"hj_reactive\",\"hj_reactive\",\"hj_reactive\",\"hj_reactive\",\"hj_reactive\",\"hj_reactive\",\"hj_reactive\",\"hj_reactive\",\"hj_reactive\",\"hj_reactive\",\"hj_reactive\",\"hj_reactive\",\"hj_reactive\",\"hj_reactive\",\"hj_reactive\",\"hj_reactive\",\"hj_reactive\",\"hj_reactive\",\"hj_reactive\",\"hj_reactive\",\"hj_reactive\",\"hj_reactive\",\"hj_reactive\",\"hj_reactive\",\"hj_reactive\",\"hj_reactive\",\"hj_reactive\",\"hj_reactive\",\"hj_reactive\",\"hj_reactive\",\"hj_reactive\",\"hj_reactive\",\"hj_reactive\",\"hj_reactive\",\"hj_reactive\",\"hj_reactive\",\"hj_reactive\",\"hj_reactive\",\"hj_reactive\",\"hj_reactive\",\"hj_reactive\",\"hj_reactive\",\"hj_reactive\",\"hj_reactive\",\"hj_reactive\",\"hj_reactive\",\"hj_reactive\",\"hj_reactive\",\"hj_reactive\",\"hj_reactive\",\"hj_reactive\",\"hj_reactive\",\"hj_reactive\",\"hj_reactive\",\"hj_reactive\",\"hj_reactive\",\"hj_reactive\",\"hj_reactive\",\"hj_reactive\",\"hj_reactive\",\"hj_reactive\",\"hj_reactive\",\"hj_reactive\",\"hj_reactive\",\"hj_reactive\",\"hj_reactive\",\"hj_reactive\",\"hj_reactive\",\"hj_reactive\",\"hj_reactive\",\"hj_reactive\",\"hj_reactive\",\"hj_reactive\",\"hj_reactive\",\"hj_reactive\",\"hj_reactive\",\"hj_reactive\",\"hj_reactive\",\"hj_reactive\",\"hj_reactive\",\"hj_reactive\",\"hj_reactive\",\"hj_reactive\",\"hj_reactive\",\"hj_reactive\",\"hj_reactive\",\"hj_reactive\",\"hj_reactive\",\"hj_reactive\",\"hj_reactive\",\"hj_reactive\",\"hj_reactive\",\"hj_reactive\",\"hj_reactive\",\"hj_reactive\",\"hj_reactive\",\"hj_reactive\",\"hj_reactive\",\"hj_reactive\",\"hj_reactive\",\"hj_reactive\",\"hj_reactive\",\"hj_reactive\",\"hj_reactive\",\"hj_reactive\",\"hj_reactive\",\"hj_reactive\",\"hj_reactive\",\"hj_reactive\",\"hj_reactive\",\"hj_reactive\",\"hj_reactive\",\"hj_reactive\",\"hj_reactive\",\"hj_reactive\",\"hj_reactive\",\"hj_reactive\",\"hj_reactive\",\"hj_reactive\",\"hj_reactive\",\"hj_reactive\",\"hj_reactive\",\"hj_reactive\",\"hj_reactive\",\"hj_reactive\",\"hj_reactive\",\"hj_reactive\",\"hj_reactive\",\"hj_reactive\",\"hj_reactive\",\"hj_reactive\",\"hj_reactive\",\"hj_reactive\",\"hj_reactive\",\"hj_reactive\",\"hj_reactive\",\"hj_reactive\",\"hj_reactive\",\"hj_reactive\",\"hj_reactive\",\"hj_reactive\",\"hj_reactive\",\"hj_reactive\",\"hj_reactive\",\"hj_reactive\",\"hj_reactive\",\"hj_reactive\",\"hj_reactive\",\"hj_reactive\",\"hj_reactive\",\"hj_reactive\",\"hj_reactive\",\"hj_reactive\",\"hj_reactive\",\"hj_reactive\",\"hj_reactive\",\"hj_reactive\",\"hj_reactive\",\"hj_reactive\",\"hj_reactive\",\"hj_reactive\",\"hj_reactive\",\"hj_reactive\",\"hj_reactive\",\"hj_reactive\",\"hj_reactive\",\"hj_reactive\",\"hj_reactive\",\"hj_reactive\",\"hj_reactive\",\"hj_reactive\",\"hj_reactive\",\"hj_reactive\",\"hj_reactive\",\"hj_reactive\",\"hj_reactive\",\"hj_reactive\",\"hj_reactive\",\"hj_reactive\",\"hj_reactive\",\"hj_reactive\",\"hj_reactive\",\"hj_reactive\",\"hj_reactive\",\"hj_reactive\",\"hj_reactive\",\"hj_reactive\",\"hj_reactive\",\"hj_reactive\",\"hj_reactive\",\"hj_reactive\",\"hj_reactive\",\"hj_reactive\",\"hj_reactive\",\"hj_reactive\",\"hj_reactive\",\"hj_reactive\",\"hj_reactive\",\"hj_reactive\",\"hj_reactive\",\"hj_reactive\",\"hj_reactive\",\"hj_reactive\",\"hj_reactive\",\"hj_reactive\",\"hj_reactive\",\"hj_reactive\",\"hj_reactive\",\"hj_reactive\",\"hj_reactive\",\"hj_reactive\",\"hj_reactive\",\"hj_reactive\",\"hj_reactive\",\"hj_reactive\",\"hj_reactive\",\"hj_reactive\",\"hj_reactive\",\"hj_reactive\",\"hj_reactive\",\"hj_reactive\",\"hj_reactive\",\"hj_reactive\",\"hj_reactive\",\"hj_reactive\",\"hj_reactive\",\"hj_reactive\",\"hj_reactive\",\"hj_reactive\",\"hj_reactive\",\"hj_reactive\",\"hj_reactive\",\"hj_reactive\",\"hj_reactive\",\"hj_reactive\",\"hj_reactive\",\"hj_reactive\",\"hj_reactive\",\"hj_reactive\",\"hj_reactive\",\"hj_reactive\",\"hj_reactive\",\"hj_reactive\",\"hj_reactive\",\"hj_reactive\",\"hj_reactive\",\"hj_reactive\",\"hj_reactive\",\"hj_reactive\",\"hj_reactive\",\"hj_reactive\",\"hj_reactive\",\"hj_reactive\",\"hj_reactive\",\"hj_reactive\",\"hj_reactive\",\"hj_reactive\",\"hj_reactive\",\"hj_reactive\",\"hj_reactive\",\"hj_reactive\",\"hj_reactive\",\"hj_reactive\",\"hj_reactive\",\"hj_reactive\",\"hj_reactive\",\"hj_reactive\",\"hj_reactive\",\"hj_reactive\",\"hj_reactive\",\"hj_reactive\",\"hj_reactive\",\"hj_reactive\",\"hj_reactive\",\"hj_reactive\",\"hj_reactive\",\"hj_reactive\",\"hj_reactive\",\"hj_reactive\",\"hj_reactive\",\"hj_reactive\",\"hj_reactive\",\"hj_reactive\",\"hj_reactive\",\"hj_reactive\",\"hj_reactive\",\"hj_reactive\",\"hj_reactive\",\"hj_reactive\",\"hj_reactive\",\"hj_reactive\",\"hj_reactive\",\"hj_reactive\",\"hj_reactive\",\"hj_reactive\",\"hj_reactive\",\"hj_reactive\",\"hj_reactive\",\"hj_reactive\",\"hj_reactive\",\"hj_reactive\",\"hj_reactive\",\"hj_reactive\",\"hj_reactive\",\"hj_reactive\",\"hj_reactive\",\"hj_reactive\",\"hj_reactive\",\"hj_reactive\",\"hj_reactive\",\"hj_reactive\",\"hj_reactive\",\"hj_reactive\",\"hj_reactive\",\"hj_reactive\",\"hj_reactive\",\"hj_reactive\",\"hj_reactive\",\"hj_reactive\",\"hj_reactive\",\"hj_reactive\",\"hj_reactive\",\"hj_reactive\",\"hj_reactive\",\"hj_reactive\",\"hj_reactive\",\"hj_reactive\",\"hj_reactive\",\"hj_reactive\",\"hj_reactive\",\"hj_reactive\",\"hj_reactive\",\"hj_reactive\",\"hj_reactive\",\"hj_reactive\",\"hj_reactive\",\"hj_reactive\",\"hj_reactive\",\"hj_reactive\",\"hj_reactive\",\"hj_reactive\",\"hj_reactive\",\"hj_reactive\",\"hj_reactive\",\"hj_reactive\",\"hj_reactive\",\"hj_reactive\",\"hj_reactive\",\"hj_reactive\",\"hj_reactive\",\"hj_reactive\",\"hj_reactive\",\"hj_reactive\",\"hj_reactive\",\"hj_reactive\",\"hj_reactive\",\"hj_reactive\",\"hj_reactive\",\"hj_reactive\",\"hj_reactive\",\"hj_reactive\",\"hj_reactive\",\"hj_reactive\",\"hj_reactive\",\"hj_reactive\",\"hj_reactive\",\"hj_reactive\",\"hj_reactive\",\"hj_reactive\",\"hj_reactive\",\"hj_reactive\",\"hj_reactive\",\"hj_reactive\",\"hj_reactive\",\"hj_reactive\",\"hj_reactive\",\"hj_reactive\",\"hj_reactive\",\"hj_reactive\",\"hj_reactive\",\"hj_reactive\",\"hj_reactive\",\"hj_reactive\",\"hj_reactive\",\"hj_reactive\",\"hj_reactive\",\"hj_reactive\",\"hj_reactive\",\"hj_reactive\",\"hj_reactive\",\"hj_reactive\",\"hj_reactive\",\"hj_reactive\",\"hj_reactive\",\"hj_reactive\",\"hj_reactive\",\"hj_reactive\",\"hj_reactive\",\"hj_reactive\",\"hj_reactive\",\"hj_reactive\",\"hj_reactive\",\"hj_reactive\",\"hj_reactive\",\"hj_reactive\",\"hj_reactive\",\"hj_reactive\",\"hj_reactive\",\"hj_reactive\",\"hj_reactive\",\"hj_reactive\",\"hj_reactive\",\"hj_reactive\",\"hj_reactive\",\"hj_reactive\",\"hj_reactive\",\"hj_reactive\",\"hj_reactive\",\"hj_reactive\",\"hj_reactive\",\"hj_reactive\",\"hj_reactive\",\"hj_reactive\",\"hj_reactive\",\"hj_reactive\",\"hj_reactive\",\"hj_reactive\",\"hj_reactive\",\"hj_reactive\",\"hj_reactive\",\"hj_reactive\",\"hj_reactive\",\"hj_reactive\",\"hj_reactive\",\"hj_reactive\",\"hj_reactive\",\"hj_reactive\",\"hj_reactive\",\"hj_reactive\",\"hj_reactive\",\"hj_reactive\",\"hj_reactive\",\"hj_reactive\",\"hj_reactive\",\"hj_reactive\",\"hj_reactive\",\"hj_reactive\",\"hj_reactive\",\"hj_reactive\",\"hj_reactive\",\"hj_reactive\",\"hj_reactive\",\"hj_reactive\",\"hj_reactive\",\"hj_reactive\",\"hj_reactive\",\"hj_reactive\",\"hj_reactive\",\"hj_reactive\",\"hj_reactive\",\"hj_reactive\",\"hj_reactive\",\"hj_reactive\",\"hj_reactive\",\"hj_reactive\",\"hj_reactive\",\"hj_reactive\",\"hj_reactive\",\"hj_reactive\",\"hj_reactive\",\"hj_reactive\",\"hj_reactive\",\"hj_reactive\",\"hj_reactive\",\"hj_reactive\",\"hj_reactive\",\"hj_reactive\",\"hj_reactive\",\"hj_reactive\",\"hj_reactive\",\"hj_reactive\",\"hj_reactive\",\"hj_reactive\",\"hj_reactive\",\"hj_reactive\",\"hj_reactive\",\"hj_reactive\",\"hj_reactive\",\"hj_reactive\",\"hj_reactive\",\"hj_reactive\",\"hj_reactive\",\"hj_reactive\",\"hj_reactive\",\"hj_reactive\",\"hj_reactive\",\"hj_reactive\",\"hj_reactive\",\"hj_reactive\",\"hj_reactive\",\"hj_reactive\",\"hj_reactive\",\"hj_reactive\",\"hj_reactive\",\"flocking\",\"flocking\",\"flocking\",\"flocking\",\"flocking\",\"flocking\",\"flocking\",\"flocking\",\"flocking\",\"flocking\",\"flocking\",\"flocking\",\"flocking\",\"flocking\",\"flocking\",\"flocking\",\"flocking\",\"flocking\",\"flocking\",\"flocking\",\"flocking\",\"flocking\",\"flocking\",\"flocking\",\"flocking\",\"flocking\",\"flocking\",\"flocking\",\"flocking\",\"flocking\",\"flocking\",\"flocking\",\"flocking\",\"flocking\",\"flocking\",\"flocking\",\"flocking\",\"flocking\",\"flocking\",\"flocking\",\"flocking\",\"flocking\",\"flocking\",\"flocking\",\"flocking\",\"flocking\",\"flocking\",\"flocking\",\"flocking\",\"flocking\",\"flocking\",\"flocking\",\"flocking\",\"flocking\",\"flocking\",\"flocking\",\"flocking\",\"flocking\",\"flocking\",\"flocking\",\"flocking\",\"flocking\",\"flocking\",\"flocking\",\"flocking\",\"flocking\",\"flocking\",\"flocking\",\"flocking\",\"flocking\",\"flocking\",\"flocking\",\"flocking\",\"flocking\",\"flocking\",\"flocking\",\"flocking\",\"flocking\",\"flocking\",\"flocking\",\"flocking\",\"flocking\",\"flocking\",\"flocking\",\"flocking\",\"flocking\",\"flocking\",\"flocking\",\"flocking\",\"flocking\",\"flocking\",\"flocking\",\"flocking\",\"flocking\",\"flocking\",\"flocking\",\"flocking\",\"flocking\",\"flocking\",\"flocking\",\"flocking\",\"flocking\",\"flocking\",\"flocking\",\"flocking\",\"flocking\",\"flocking\",\"flocking\",\"flocking\",\"flocking\",\"flocking\",\"flocking\",\"flocking\",\"flocking\",\"flocking\",\"flocking\",\"flocking\",\"flocking\",\"flocking\",\"flocking\",\"flocking\",\"flocking\",\"flocking\",\"flocking\",\"flocking\",\"flocking\",\"flocking\",\"flocking\",\"flocking\",\"flocking\",\"flocking\",\"flocking\",\"flocking\",\"flocking\",\"flocking\",\"flocking\",\"flocking\",\"flocking\",\"flocking\",\"flocking\",\"flocking\",\"flocking\",\"flocking\",\"flocking\",\"flocking\",\"flocking\",\"flocking\",\"flocking\",\"flocking\",\"flocking\",\"flocking\",\"flocking\",\"flocking\",\"flocking\",\"flocking\",\"flocking\",\"flocking\",\"flocking\",\"flocking\",\"flocking\",\"flocking\",\"flocking\",\"flocking\",\"flocking\",\"flocking\",\"flocking\",\"flocking\",\"flocking\",\"flocking\",\"flocking\",\"flocking\",\"flocking\",\"flocking\",\"flocking\",\"flocking\",\"flocking\",\"flocking\",\"flocking\",\"flocking\",\"flocking\",\"flocking\",\"flocking\",\"flocking\",\"flocking\",\"flocking\",\"flocking\",\"flocking\",\"flocking\",\"flocking\",\"flocking\",\"flocking\",\"flocking\",\"flocking\",\"flocking\",\"flocking\",\"flocking\",\"flocking\",\"flocking\",\"flocking\",\"flocking\",\"flocking\",\"flocking\",\"flocking\",\"flocking\",\"flocking\",\"flocking\",\"flocking\",\"flocking\",\"flocking\",\"flocking\",\"flocking\",\"flocking\",\"flocking\",\"flocking\",\"flocking\",\"flocking\",\"flocking\",\"flocking\",\"flocking\",\"flocking\",\"flocking\",\"flocking\",\"flocking\",\"flocking\",\"flocking\",\"flocking\",\"flocking\",\"flocking\",\"flocking\",\"flocking\",\"flocking\",\"flocking\",\"flocking\",\"flocking\",\"flocking\",\"flocking\",\"flocking\",\"flocking\",\"flocking\",\"flocking\",\"flocking\",\"flocking\",\"flocking\",\"flocking\",\"flocking\",\"flocking\",\"flocking\",\"flocking\",\"flocking\",\"flocking\",\"flocking\",\"flocking\",\"flocking\",\"flocking\",\"flocking\",\"flocking\",\"flocking\",\"flocking\",\"flocking\",\"flocking\",\"flocking\",\"flocking\",\"flocking\",\"flocking\",\"flocking\",\"flocking\",\"flocking\",\"flocking\",\"flocking\",\"flocking\",\"flocking\",\"flocking\",\"flocking\",\"flocking\",\"flocking\",\"flocking\",\"flocking\",\"flocking\",\"flocking\",\"flocking\",\"flocking\",\"flocking\",\"flocking\",\"flocking\",\"flocking\",\"flocking\",\"flocking\",\"flocking\",\"flocking\",\"flocking\",\"flocking\",\"flocking\",\"flocking\",\"flocking\",\"flocking\",\"flocking\",\"flocking\",\"flocking\",\"flocking\",\"flocking\",\"flocking\",\"flocking\",\"flocking\",\"flocking\",\"flocking\",\"flocking\",\"flocking\",\"flocking\",\"flocking\",\"flocking\",\"flocking\",\"flocking\",\"flocking\",\"flocking\",\"flocking\",\"flocking\",\"flocking\",\"flocking\",\"flocking\",\"flocking\",\"flocking\",\"flocking\",\"flocking\",\"flocking\",\"flocking\",\"flocking\",\"flocking\",\"flocking\",\"flocking\",\"flocking\",\"flocking\",\"flocking\",\"flocking\",\"flocking\",\"flocking\",\"flocking\",\"flocking\",\"flocking\",\"flocking\",\"flocking\",\"flocking\",\"flocking\",\"flocking\",\"flocking\",\"flocking\",\"flocking\",\"flocking\",\"flocking\",\"flocking\",\"flocking\",\"flocking\",\"flocking\",\"flocking\",\"flocking\",\"flocking\",\"flocking\",\"flocking\",\"flocking\",\"flocking\",\"flocking\",\"flocking\",\"flocking\",\"flocking\",\"flocking\",\"flocking\",\"flocking\",\"flocking\",\"flocking\",\"flocking\",\"flocking\",\"flocking\",\"flocking\",\"flocking\",\"flocking\",\"flocking\",\"flocking\",\"flocking\",\"flocking\",\"flocking\",\"flocking\",\"flocking\",\"flocking\",\"flocking\",\"flocking\",\"flocking\",\"flocking\",\"flocking\",\"flocking\",\"flocking\",\"flocking\",\"flocking\",\"flocking\",\"flocking\",\"flocking\",\"flocking\",\"flocking\",\"flocking\",\"flocking\",\"flocking\",\"flocking\",\"flocking\",\"flocking\",\"flocking\",\"flocking\",\"flocking\",\"flocking\",\"flocking\",\"flocking\",\"flocking\",\"flocking\",\"flocking\",\"flocking\",\"flocking\",\"flocking\",\"flocking\",\"flocking\",\"flocking\",\"flocking\",\"flocking\",\"flocking\",\"flocking\",\"flocking\",\"flocking\",\"flocking\",\"flocking\",\"flocking\",\"flocking\",\"flocking\",\"flocking\",\"flocking\",\"flocking\",\"flocking\",\"flocking\",\"flocking\",\"flocking\",\"flocking\",\"flocking\",\"flocking\",\"flocking\",\"flocking\",\"flocking\",\"flocking\",\"flocking\",\"flocking\",\"flocking\",\"flocking\",\"flocking\",\"flocking\",\"flocking\",\"flocking\",\"flocking\",\"flocking\",\"flocking\",\"flocking\",\"flocking\",\"flocking\",\"flocking\",\"flocking\",\"flocking\",\"flocking\",\"flocking\",\"flocking\",\"flocking\",\"flocking\",\"flocking\",\"flocking\",\"flocking\",\"flocking\",\"flocking\",\"flocking\",\"flocking\",\"flocking\",\"flocking\",\"flocking\",\"flocking\",\"flocking\",\"flocking\",\"flocking\",\"flocking\",\"flocking\",\"flocking\",\"flocking\",\"flocking\",\"flocking\",\"flocking\",\"flocking\",\"flocking\",\"flocking\",\"flocking\",\"flocking\",\"flocking\",\"flocking\",\"flocking\",\"flocking\",\"flocking\",\"flocking\",\"flocking\",\"flocking\",\"flocking\",\"flocking\",\"flocking\",\"flocking\",\"flocking\",\"flocking\",\"flocking\",\"flocking\",\"flocking\",\"flocking\",\"flocking\",\"flocking\",\"flocking\",\"flocking\",\"flocking\",\"flocking\",\"flocking\",\"flocking\",\"flocking\",\"flocking\",\"flocking\",\"flocking\",\"flocking\",\"flocking\",\"flocking\",\"flocking\",\"flocking\",\"flocking\",\"flocking\",\"flocking\",\"flocking\",\"flocking\",\"flocking\",\"flocking\",\"flocking\",\"flocking\",\"flocking\",\"flocking\",\"flocking\",\"flocking\",\"flocking\",\"flocking\",\"flocking\",\"flocking\",\"flocking\",\"flocking\",\"flocking\",\"flocking\",\"flocking\",\"flocking\"],\"x0\":\" \",\"xaxis\":\"x\",\"y\":[1.4795423023578362,1.5,1.0301664355062414,1.2687239944521498,1.4871705963938973,0.6279472954230236,1.4119278779472957,0.8505547850208044,1.480929264909847,0.4504160887656033,1.3599167822468794,0.768377253814147,0.4840499306518724,1.5,1.2250346740638005,0.9108876560332873,1.5,1.469486823855756,1.5,0.8387656033287101,1.5,0.941747572815534,1.2094313453536754,1.0918862690707352,0.9036061026352288,1.280859916782247,1.397364771151179,1.2718446601941749,1.0818307905686546,1.1719833564493758,1.199029126213592,1.021151178918169,0.8269764216366158,0.4798890429958391,0.6688626907073509,0.7555478502080444,0.938626907073509,1.2988904299583912,1.5,1.3484743411927878,1.3647711511789182,1.1678224687933425,0.7593619972260749,1.5,1.5,0.3186546463245492,1.0714285714285714,1.4670596393897364,1.2718446601941749,0.3952843273231622,0.7118585298196949,0.7406380027739251,0.3391123439667129,1.1279472954230236,1.2850208044382805,1.5,1.5,0.9469486823855756,0.3814147018030513,0.8984049930651873,0.9698335644937588,0.9389736477115118,1.3689320388349515,1.1293342579750347,1.5,0.9375866851595008,1.4871705963938973,1.2666435506241331,1.4129680998613037,0.8630374479889042,0.3890429958391123,0.3117198335644937,1.5,1.2739251040221915,1.272884882108183,0.6269070735090153,0.8859223300970874,1.2368238557558946,1.5,0.9334257975034674,1.4375866851595007,1.5,1.4618585298196949,0.8470873786407767,1.5,1.10124826629681,0.5388349514563107,1.0516643550624134,0.6119972260748959,0.75,0.9535367545076284,0.94625520110957,0.728502080443828,0.9053398058252428,1.3928571428571428,1.3592233009708738,0.7503467406380028,0.8907766990291263,0.6903606102635229,0.9382801664355064,1.5,0.6848127600554785,1.0495839112343968,0.9199029126213591,1.0565187239944522,1.2773925104022192,1.4472954230235784,1.144244105409154,1.2610957004160888,0.7000693481276006,0.6490984743411928,1.5,1.395631067961165,0.7933425797503467,0.5,0.4701803051317614,0.5898058252427184,0.6296809986130375,1.4857836338418862,0.7399445214979196,1.4084604715672675,1.2385575589459084,0.9261442441054092,0.9223300970873788,1.3599167822468794,0.7552011095700416,0.8828016643550625,1.5,1.2978502080443828,0.9171289875173372,0.8242024965325936,1.5,1.0669209431345354,1.2441054091539527,0.4705270457697642,0.8540221914008321,1.5,1.476768377253814,1.0856449375866852,0.7694174757281553,1.2454923717059638,0.8436199722607489,0.8567961165048543,0.9576976421636616,0.9625520110957004,1.480929264909847,1.5,1.4011789181692094,1.061373092926491,1.469140083217753,1.5,1.5,1.4687933425797504,1.4088072122052704,1.4514563106796117,0.8384188626907073,1.2708044382801664,0.5745492371705964,0.6695561719833565,1.1539528432732316,1.213245492371706,1.4642857142857142,0.1712898751733703,1.3051317614424411,0.9483356449375868,0.782246879334258,0.5010402219140083,1.3814147018030514,0.7579750346740638,1.35124826629681,1.3363384188626908,0.5880721220527045,0.6959084604715673,1.317267683772538,1.3401525658807212,0.9282246879334258,0.937239944521498,0.6934812760055479,1.0693481276005548,0.5339805825242718,0.4663661581137309,1.3595700416088763,1.220527045769764,0.8162274618585298,1.3030513176144245,0.8148404993065187,0.8162274618585298,0.3384188626907073,1.3855755894590849,1.498266296809986,1.1331484049930651,0.8089459084604715,0.7153259361997226,0.9008321775312068,0.9573509015256588,0.4126213592233009,0.7801664355062413,1.4760748959778085,1.3016643550624134,1.0918862690707352,1.2122052704576975,0.8099861303744799,1.5,0.924757281553398,1.3769070735090152,0.3155339805825243,0.3963245492371706,1.4878640776699028,1.4902912621359223,1.4483356449375866,1.3748266296809986,1.016990291262136,0.2739251040221914,0.8987517337031901,0.6969486823855756,1.1137309292649098,1.087378640776699,0.9528432732316228,1.5,1.0416088765603329,1.0970873786407769,1.5,0.6986823855755895,1.2184466019417477,0.7447988904299584,1.3484743411927878,0.731622746185853,0.8890429958391124,1.4178224687933425,1.1522191400832178,1.30998613037448,1.2250346740638005,1.0034674063800275,0.986130374479889,1.5,1.0922330097087378,1.2180998613037448,1.1466712898751734,1.3699722607489595,1.3477808599167822,1.019417475728155,1.1296809986130374,1.1588072122052704,0.8755201109570042,1.098127600554785,1.3890429958391124,0.7253814147018031,0.8713592233009708,1.3994452149791956,0.7513869625520111,1.469140083217753,1.3002773925104023,1.0072815533980584,0.7586685159500693,0.5533980582524272,1.4285714285714286,1.5,1.4642857142857142,0.963245492371706,1.5,1.023231622746186,1.0391816920943135,1.435506241331484,1.3782940360610263,1.3484743411927878,1.364077669902913,1.375866851595007,0.9680998613037448,0.6865464632454924,1.4483356449375866,1.144244105409154,0.6664355062413315,0.3966712898751733,1.1858529819694867,1.164008321775312,1.3491678224687933,1.032246879334258,1.404646324549237,1.3283633841886269,0.8224687933425797,1.1598474341192788,1.472260748959778,0.75,0.3009708737864077,0.188626907073509,0.9230235783633842,1.415742024965326,1.4271844660194175,1.4514563106796117,1.1542995839112344,1.4070735090152566,1.4778085991678225,1.260748959778086,0.9736477115117892,0.8550624133148405,0.9875173370319,0.7271151178918169,1.4854368932038835,1.4455617198335644,0.8488210818307905,0.435506241331484,0.587378640776699,1.1328016643550625,1.31622746185853,1.1144244105409151,1.1716366158113731,0.8990984743411928,1.0162968099861305,0.2122052704576976,0.8013176144244105,0.8883495145631068,0.3488210818307906,0.75,0.9472954230235784,1.4358529819694867,1.2763522884882108,1.2031900138696254,1.5,1.2264216366158114,0.8543689320388349,0.9254507628294036,1.4348127600554783,1.0499306518723994,0.8675450762829403,1.3203883495145632,1.3169209431345354,1.4819694868238558,1.164008321775312,1.422330097087379,1.5,0.8453536754507628,1.5,1.2839805825242718,1.476768377253814,0.794382801664355,1.3460471567267684,1.042995839112344,0.9108876560332873,1.4361997226074896,1.403606102635229,1.5,1.5,1.5,0.5977808599167822,1.2552011095700415,1.0683079056865463,0.8484743411927878,1.5,0.921983356449376,0.5988210818307905,0.6719833564493759,1.2004160887656032,1.5,1.443134535367545,1.5,0.707004160887656,1.3717059639389737,1.412274618585298,1.5,1.2801664355062414,1.029126213592233,1.5,0.6040221914008321,1.3259361997226076,1.1955617198335644,1.0665742024965326,1.5,0.753120665742025,0.998266296809986,1.055825242718447,0.8599167822468793,1.4292649098474342,1.124133148404993,1.211511789181692,1.0142163661581138,0.7444521497919556,0.934119278779473,1.049237170596394,1.4056865464632455,1.4212898751733702,1.2756588072122053,1.0679611650485437,0.9812760055478502,1.4549237170596394,1.0866851595006934,0.7330097087378641,0.6383495145631068,1.5,1.5,1.4289181692094313,1.4875173370319,1.1418169209431346,0.8685852981969486,1.366158113730929,1.4053398058252426,1.4070735090152566,1.5,1.5,0.746879334257975,0.6445908460471568,1.5,1.125866851595007,0.467753120665742,1.3633841886269071,1.111997226074896,1.3283633841886269,1.476768377253814,0.7520804438280166,0.5634535367545076,1.3658113730929264,1.0669209431345354,0.7295423023578363,1.023231622746186,1.2999306518723994,1.0471567267683772,0.5384882108183079,1.4947988904299585,1.412621359223301,1.036754507628294,0.8595700416088765,1.5,0.6861997226074896,1.4472954230235784,0.2447988904299584,1.0648404993065188,1.4410540915395285,1.440360610263523,1.1331484049930651,0.914008321775312,1.5,0.8959778085991679,1.185506241331484,1.5,0.9205963938973648,0.7198335644937587,1.2621359223300972,1.3228155339805825,0.6140776699029126,1.5,1.2798196948682383,1.185506241331484,1.5,0.5787101248266296,1.4576976421636616,0.7059639389736477,0.3748266296809986,0.3869625520110957,0.8141470180305131,0.5589459084604715,1.4306518723994452,0.481622746185853,0.6470180305131762,1.0922330097087378,1.5,1.0045076282940362,1.116504854368932,1.5,1.3408460471567267,1.5,1.4257975034674064,1.5,0.1106102635228848,1.1033287101248266,1.5,1.4563106796116505,0.6983356449375867,1.5,1.4868238557558946,1.5,1.5,1.1789181692094313,1.44001386962552,1.3585298196948683,1.5,1.4559639389736476,0.7718446601941747,0.4514563106796116,1.4219833564493758,0.7877947295423023,0.9947988904299584,1.009015256588072,0.6269070735090153,1.5,0.5565187239944521,1.251733703190014,1.4389736477115118,1.3186546463245492,1.2860610263522885,0.6386962552011096,1.5,1.141123439667129,1.2160194174757282,1.4393203883495145,0.4864771151178918,0.9913314840499308,1.0256588072122053,0.7586685159500693,1.5,1.145631067961165,0.6629680998613038,0.4379334257975035,1.4726074895977808,1.1251733703190014,1.2527739251040222,0.8242024965325936,0.3203883495145631,0.4119278779472954,1.5,1.5,0.757628294036061,0.9261442441054092,0.6199722607489597,1.0870319001386963,1.110263522884882,1.4902912621359223,0.5253120665742025,0.4282246879334258,1.4635922330097086,1.182385575589459,1.234396671289875,1.019417475728155,1.5,1.2680305131761442,0.5371012482662968,1.5,1.3828016643550625,0.9316920943134536,1.228502080443828,0.4930651872399445,0.7534674063800277,0.7330097087378641,0.5599861303744799,1.455270457697642,1.3332177531206657,0.8436199722607489,1.331484049930652,1.2631761442441054,1.4823162274618584,1.2985436893203883,0.8654646324549237,1.013869625520111,1.484396671289875,0.8432732316227461,0.7850208044382802,1.484743411927878,0.6119972260748959,1.2201803051317617,1.0104022191400832,1.4795423023578362,1.5,1.050624133148405,1.360263522884882,1.4875173370319,0.8786407766990292,1.4313453536754508,0.9764216366158114,1.4427877947295422,0.8096393897364771,1.4434812760055478,1.0176837725381416,0.6903606102635229,1.4701803051317617,1.251733703190014,1.1643550624133148,1.5,1.4875173370319,1.5,1.1945214979195562,1.5,1.135922330097087,1.414008321775312,1.2704576976421638,1.1081830790568654,1.3609570041608876,1.4511095700416088,1.2919556171983355,1.3460471567267684,1.188626907073509,1.323509015256588,1.3016643550624134,1.0339805825242718,0.7302357836338419,1.0631067961165048,1.1033287101248266,0.8502080443828016,1.377253814147018,1.5,1.3287101248266298,1.3966712898751734,1.315880721220527,0.8370319001386962,1.5,1.5,0.9653259361997226,1.2604022191400832,1.4680998613037448,1.4011789181692094,0.7721914008321775,1.0835644937586686,1.1553398058252426,0.7912621359223301,1.1861997226074896,1.3626907073509016,1.5,1.5,1.2291955617198336,0.7226074895977809,1.280513176144244,1.0835644937586686,1.0114424410540916,1.4042995839112344,1.219140083217753,1.5,1.2180998613037448,1.447988904299584,1.30998613037448,1.4129680998613037,1.164008321775312,0.8814147018030514,0.8782940360610264,1.5,1.3519417475728157,1.3124133148404993,0.9244105409153952,1.2832871012482665,1.3200416088765603,1.5,1.0925797503467407,1.4563106796116505,1.5,1.4635922330097086,0.8630374479889042,1.5,1.2798196948682383,0.7794729542302358,0.9778085991678224,0.8671983356449375,1.188626907073509,1.009361997226075,1.2382108183079057,1.2662968099861305,1.0256588072122053,1.4389736477115118,1.3346047156726768,1.049237170596394,0.9788488210818308,0.9573509015256588,1.1130374479889042,1.432732316227462,0.7784327323162274,1.2413314840499303,1.1653952843273232,1.292995839112344,1.3394590846047156,1.3432732316227465,1.197642163661581,1.2614424410540916,1.2045769764216363,0.9798890429958392,1.443134535367545,1.2378640776699028,1.0221914008321775,0.6896671289875174,0.9160887656033287,0.8855755894590847,0.961511789181692,1.4850901525658806,1.0128294036061027,1.4091539528432733,1.228848821081831,1.1168515950069349,1.2011095700416088,1.358876560332871,1.389389736477115,0.9483356449375868,1.5,1.3228155339805825,1.3717059639389737,1.3155339805825244,1.4257975034674064,1.3141470180305133,1.3065187239944522,1.134882108183079,1.1147711511789182,1.220873786407767,1.4778085991678225,1.2226074895977808,1.0208044382801664,1.2260748959778085,1.162621359223301,1.0610263522884882,1.2323162274618584,1.027739251040222,1.478848821081831,1.5,1.4011789181692094,1.130374479889043,1.4587378640776698,1.5,1.4819694868238558,1.4687933425797504,1.401872399445215,1.4497226074895977,1.2104715672676838,1.3994452149791956,0.7725381414701803,0.8398058252427184,1.1737170596393898,1.2701109570041609,1.4635922330097086,1.0298196948682383,1.3248959778085991,1.391123439667129,0.9840499306518724,0.9913314840499308,1.380374479889043,1.1775312066574202,1.35124826629681,1.395631067961165,0.9975728155339806,0.9975728155339806,1.317267683772538,1.403606102635229,0.8328710124826629,1.122746185852982,1.0665742024965326,1.3033980582524272,0.7968099861303745,1.1414701803051317,1.3120665742024966,1.2350901525658806,1.1647018030513177,1.4039528432732316,0.9299583911234396,1.1934812760055478,1.0572122052704578,1.3855755894590849,1.4895977808599168,1.102635228848821,1.420249653259362,0.8727461858529819,1.009361997226075,1.021497919556172,1.0003467406380029,0.8446601941747572,1.4757281553398058,1.314493758668516,1.0,1.2312760055478502,1.2936893203883495,1.5,1.25,1.424410540915395,0.6709431345353676,1.2094313453536754,1.3138002773925104,1.3366851595006934,1.4299583911234397,1.3886962552011095,0.9996532593619972,0.6622746185852982,1.131761442441054,0.9427877947295424,1.2472260748959778,1.2815533980582523,1.165742024965326,1.5,1.096740638002774,1.0360610263522885,0.9306518723994452,1.042995839112344,1.2236477115117892,0.91123439667129,1.251386962552011,0.9011789181692096,0.9778085991678224,1.259361997226075,1.1265603328710123,1.2801664355062414,1.3720527045769764,1.3027045769764216,0.8387656033287101,1.5,1.1307212205270458,1.172330097087379,1.1269070735090152,1.4022191400832178,1.3900832177531206,1.0710818307905687,1.1452843273231623,1.287101248266297,1.3366851595006934,1.151872399445215,1.3890429958391124,1.2753120665742026,1.1123439667128987,1.3595700416088763,0.8186546463245492,1.4743411927877947,1.3332177531206657,1.1782246879334255,1.1352288488210818,0.9185159500693482,1.4181692094313454,1.5,1.4635922330097086,0.9611650485436892,1.5,1.0988210818307906,1.1664355062413314,1.4368932038834952,1.382108183079057,1.3474341192787795,1.4230235783633842,1.4559639389736476,0.8734396671289875,1.0502773925104023,1.444174757281553,1.2545076282940362,0.7565880721220527,0.6130374479889042,1.286754507628294,1.2395977808599168,1.380374479889043,1.0922330097087378,1.403259361997226,1.35124826629681,1.0728155339805825,1.3561026352288488,1.472260748959778,0.8547156726768377,0.7267683772538142,1.0159500693481276,1.0097087378640777,1.418862690707351,1.4559639389736476,1.457004160887656,1.1383495145631068,1.4351595006934812,1.4438280166435506,1.234396671289875,1.1771844660194175,0.9691400832177532,1.116504854368932,1.0,1.483009708737864,1.447988904299584,0.8519417475728155,0.710124826629681,0.9306518723994452,1.1369625520110958,1.3141470180305133,1.2902219140083218,1.31622746185853,0.8550624133148405,1.2614424410540916,0.8502080443828016,1.081137309292649,1.220527045769764,1.133841886269071,0.75,1.2156726768377253,1.4379334257975034,1.2635228848821085,1.2472260748959778,1.473994452149792,1.3952843273231623,0.9864771151178918,1.1771844660194175,1.447988904299584,1.2458391123439667,1.2139389736477115,1.3047850208044385,1.2825936199722607,1.4819694868238558,1.1650485436893203,1.4455617198335644,1.5,1.0097087378640777,1.5,1.380374479889043,1.476768377253814,0.9833564493758667,1.3491678224687933,1.0034674063800275,0.9979195561719834,1.4680998613037448,1.374133148404993,1.5,1.5,1.4947988904299585,0.7940360610263523,1.2701109570041609,1.14875173370319,1.0603328710124826,1.5,0.973994452149792,0.9663661581137308,1.0884188626907074,1.2864077669902914,1.5,1.4559639389736476,1.5,1.133841886269071,1.3120665742024966,1.4119278779472957,1.5,1.3075589459084604,1.1237864077669903,1.4178224687933425,0.7330097087378641,1.315880721220527,1.4025658807212205,1.0547850208044385,1.5,1.162621359223301,1.197988904299584,1.2493065187239945,0.8262829403606102,1.449375866851595,1.162621359223301,1.3578363384188628,1.219140083217753,0.9414008321775312,1.0866851595006934,1.3599167822468794,1.4081137309292648,1.4382801664355065,1.2763522884882108,1.1868932038834952,0.981622746185853,1.463245492371706,1.2541608876560333,1.1508321775312067,0.7586685159500693,1.4715672676837726,1.5,1.4410540915395285,1.4875173370319,1.3120665742024966,1.2624826629681,1.3717059639389737,1.4167822468793343,1.4070735090152566,1.5,1.455617198335645,0.7777392510402219,1.0540915395284327,1.5,1.3418862690707352,1.050970873786408,1.4015256588072122,1.2475728155339805,1.2964632454923717,1.4774618585298196,1.0097087378640777,0.8141470180305131,1.418862690707351,1.2323162274618584,1.329750346740638,1.182385575589459,1.4119278779472957,1.2496532593619971,1.0745492371705965,1.384882108183079,1.4271844660194175,0.9854368932038836,0.875866851595007,1.5,1.1005547850208044,1.4472954230235784,0.7395977808599168,1.2122052704576975,1.391123439667129,1.438626907073509,1.274618585298197,1.1636615811373092,1.5,1.193134535367545,1.3564493758668517,1.4802357836338418,1.248613037447989,1.1851595006934812,1.3536754507628297,0.9486823855755896,0.7874479889042996,1.2555478502080444,1.4025658807212205,1.257975034674064,1.5,0.7749653259361997,1.4559639389736476,1.096393897364771,0.912621359223301,0.6546463245492372,1.1560332871012482,1.145977808599168,1.4344660194174756,1.0176837725381416,1.16123439667129,1.214632454923717,1.5,1.2090846047156727,1.0960471567267684,1.5,1.383495145631068,1.5,1.4219833564493758,1.4778085991678225,0.6404299583911235,1.1251733703190014,1.5,1.45249653259362,0.9552704576976422,1.5,1.4074202496532593,1.464632454923717,1.5,1.285367545076283,1.4212898751733702,1.3040915395284327,1.5,1.4115811373092926,0.9337725381414702,0.7506934812760055,1.4407073509015256,1.0918862690707352,0.9036061026352288,1.2447988904299585,1.0336338418862692,1.442094313453537,0.7472260748959778,1.263869625520111,1.443134535367545,1.3290568654646324,1.3883495145631068,1.098127600554785,1.5,1.2302357836338418,1.1757975034674064,1.4396671289875174,1.1584604715672675,1.1386962552011095,1.3623439667128987,0.7926490984743412,1.435506241331484,0.9701803051317616,1.2142857142857142,0.573509015256588,1.5,1.1872399445214978,1.2888349514563109,1.119625520110957,0.9504160887656034,1.1619278779472957,1.5,1.4774618585298196,0.8144937586685159,1.096740638002774,0.7642163661581137,1.2524271844660195,1.185506241331484,1.44001386962552,1.050970873786408,0.7538141470180305,1.4635922330097086,1.3703190013869626,1.295769764216366,1.220873786407767,1.3800277392510405,1.354022191400832,0.7649098474341193,1.5,1.4015256588072122,1.0984743411927878,1.2950762829403606,0.9913314840499308,0.920249653259362,0.8002773925104022,0.782246879334258,1.455270457697642,1.2243411927877947,1.3280166435506242,1.3904299583911237,1.3585298196948683,1.4823162274618584,1.3054785020804438,1.1914008321775311,1.1816920943134537,1.470873786407767,1.164008321775312,1.0700416088765603,1.5,0.8550624133148405,1.3065187239944522,1.294729542302358,1.4927184466019416,1.5,1.0703883495145632,1.4882108183079057,1.4961858529819694,1.2999306518723994,1.480929264909847,1.2156726768377253,1.5,1.3283633841886269,1.4913314840499303,1.167128987517337,0.9320388349514565,1.5,1.4882108183079057,1.4944521497919556,1.5,1.5,1.5,1.4798890429958391,1.5,1.4941054091539527,1.440360610263523,1.4233703190013869,1.3040915395284327,1.4812760055478502,1.5,1.3644244105409151,1.5,1.5,1.5,1.5,1.5,1.4878640776699028,1.490984743411928,1.475381414701803,1.1279472954230236,1.463245492371706,1.5,1.4698335644937586,1.4791955617198336,1.4407073509015256,1.3040915395284327,1.5,1.5,1.334257975034674,1.5,1.492371705963939,1.5,1.3963245492371703,1.4583911234396671,1.4164355062413314,1.5,1.4077669902912622,1.4282246879334255,1.5,1.5,1.4812760055478502,0.7461858529819695,1.489251040221914,1.4934119278779472,1.4407073509015256,1.4837031900138695,1.4701803051317617,1.5,1.403606102635229,1.4954923717059638,1.434119278779473,1.4913314840499303,1.478848821081831,1.385922330097087,1.441747572815534,1.5,1.4361997226074896,1.31622746185853,1.0201109570041609,1.5,1.4837031900138695,1.5,1.4895977808599168,1.4667128987517335,1.5,1.4795423023578362,1.0821775312066575,1.5,1.4306518723994452,1.0946601941747574,1.4965325936199725,1.4743411927877947,1.4857836338418862,1.2427184466019416,1.223994452149792,1.4902912621359223,1.4823162274618584,1.5,1.5,1.317614424410541,1.5,0.9275312066574204,1.1556865464632455,1.5,0.984743411927878,1.272884882108183,1.1972954230235784,1.4729542302357836,1.5,1.4868238557558946,1.3779472954230236,1.3616504854368932,1.4393203883495145,1.5,1.5,1.490984743411928,1.5,0.7805131761442441,1.4791955617198336,1.4361997226074896,1.1217059639389737,1.4934119278779472,1.3491678224687933,1.4618585298196949,1.4379334257975034,1.1508321775312067,1.5,1.4934119278779472,1.4230235783633842,1.2097780859916782,1.5,1.3776005547850207,1.5,1.5,1.5,1.5,1.4119278779472957,1.4358529819694867,1.5,1.5,1.484743411927878,1.5,1.2645631067961165,1.3699722607489595,1.4965325936199725,1.5,1.4545769764216363,1.4257975034674064,1.4951456310679612,1.5,1.4597780859916782,1.317267683772538,1.5,1.5,1.5,1.4947988904299585,1.470873786407767,1.5,1.5,1.5,1.5,1.3997919556171985,1.299237170596394,1.5,1.5,1.365117891816921,1.467753120665742,1.3644244105409151,1.151872399445215,1.2219140083217752,1.4954923717059638,1.4719140083217752,1.5,1.4622052704576975,1.4275312066574202,1.5,1.496879334257975,1.5,1.5,1.4518030513176143,1.2496532593619971,1.5,1.2548543689320388,1.444174757281553,1.5,1.4954923717059638,1.4889042995839112,1.5,1.4781553398058251,1.4726074895977808,1.3411927877947296,1.5,1.5,1.5,1.4972260748959778,1.302357836338419,1.477115117891817,1.4635922330097086,1.4660194174757282,1.3131067961165048,1.483009708737864,1.401872399445215,1.2780859916782248,1.4257975034674064,1.4368932038834952,1.5,1.4941054091539527,1.5,1.2985436893203883,1.3890429958391124,1.4902912621359223,1.4930651872399443,1.460124826629681,1.4344660194174756,1.4837031900138695,0.746879334257975,1.277739251040222,1.0388349514563109,1.240984743411928,1.375866851595007,1.279126213592233,1.5,1.2649098474341194,1.1983356449375866,1.5,1.5,1.44001386962552,1.4205963938973647,1.5,1.4674063800277393,1.3248959778085991,1.4895977808599168,1.4951456310679612,1.4733009708737863,1.444174757281553,1.4663661581137308,1.4199029126213591,1.5,1.30374479889043,1.477115117891817,1.2662968099861305,1.4115811373092926,1.4590846047156727,1.2864077669902914,1.3765603328710123,1.3127600554785022,1.5,1.5,1.462898751733703,1.4878640776699028,1.447988904299584,1.4837031900138695,1.0450762829403606,1.4899445214979194,1.5,1.5,1.3994452149791956,1.1681692094313454,1.4837031900138695,1.5,1.5,1.16123439667129,1.5,1.4268377253814146,1.5,1.4882108183079057,1.4240638002773924,1.490638002773925,1.480582524271845,1.4913314840499303,1.496879334257975,1.4927184466019416,1.5,1.1712898751733702,0.8519417475728155,1.2610957004160888,1.4895977808599168,1.473994452149792,1.4941054091539527,1.4930651872399443,1.5,1.4004854368932038,1.4798890429958391,1.5,1.492024965325936,1.0977808599167822,1.2035367545076283,0.6279472954230236,1.3103328710124826,1.480582524271845,1.470873786407767,1.4798890429958391,1.4895977808599168,1.4868238557558946,1.489251040221914,1.5,1.486130374479889,1.5,1.4823162274618584,1.490984743411928,1.4885575589459084,1.4587378640776698,1.5,0.9074202496532594,1.490984743411928,1.5,1.4930651872399443,1.4726074895977808,1.478848821081831,1.0852981969486823,1.3477808599167822,1.25,1.1005547850208044,1.5,1.391123439667129,1.422330097087379,1.5,1.5,1.3502080443828015,1.4871705963938973,1.5,1.4941054091539527,1.5,1.5,1.4774618585298196,1.478848821081831,1.3210818307905687,1.4885575589459084,1.4448682385575589,1.4941054091539527,1.455617198335645,1.4670596393897364,1.5,1.4174757281553398,1.5,1.4136615811373092,1.4885575589459084,1.139389736477115,1.412274618585298,1.2995839112343968,1.0759361997226076,1.4875173370319,1.4486823855755897,1.5,1.5,1.5,1.0048543689320388,1.329750346740638,1.2167128987517335,1.248613037447989,1.5,1.5,1.490638002773925,1.3325242718446602,1.5,1.5,1.4791955617198336,1.5,1.490638002773925,1.4916782246879334,1.4549237170596394,1.5,1.3720527045769764,1.372746185852982,1.5,1.460124826629681,1.3918169209431346,1.5,1.482662968099861,1.5,1.3040915395284327,1.4545769764216363,1.300624133148405,1.3855755894590849,1.4941054091539527,1.2881414701803051,1.415742024965326,1.3065187239944522,1.2923023578363384,1.1133841886269071,1.447642163661581,1.5,1.4611650485436891,1.5,1.5,1.1848127600554783,1.480582524271845,1.4674063800277393,1.5,1.0,1.5,1.5,1.5,1.4954923717059638,1.5,1.484743411927878,1.484743411927878,1.484396671289875,1.49375866851595,1.5,1.5,1.2971567267683772,1.5,1.5,1.5,1.4930651872399443,1.473994452149792,1.4358529819694867,1.5,1.483009708737864,1.4760748959778085,1.2382108183079057,1.4864771151178915,1.4622052704576975,1.5,1.5,1.480929264909847,1.3151872399445217,1.4368932038834952,1.5,1.463245492371706,1.4053398058252426,1.116158113730929,1.5,1.4812760055478502,1.5,0.7465325936199723,1.4635922330097086,1.5,1.4701803051317617,1.490984743411928,1.4954923717059638,1.5,1.4344660194174756,1.469486823855756,1.5,1.490984743411928,1.476768377253814,1.4670596393897364,1.4885575589459084,1.0242718446601942,1.5,1.457004160887656,1.432732316227462,1.5,1.3980582524271843,1.4854368932038835,1.2395977808599168,1.0884188626907074,0.75,1.4576976421636616,1.4195561719833565,1.4850901525658806,1.4798890429958391,1.1158113730929264,1.4663661581137308,1.5,1.4795423023578362,1.3030513176144245,1.5,1.475381414701803,1.5,1.5,1.5,0.75,1.492024965325936,1.5,1.4791955617198336,1.4760748959778085,1.5,1.5,1.5,1.5,1.4778085991678225,1.5,1.5,1.5,1.5,1.3873092926490984,0.75,1.478502080443828,1.3692787794729542,1.29750346740638,1.482662968099861,1.1508321775312067,1.5,0.8432732316227461,1.4427877947295422,1.478848821081831,1.4674063800277393,1.4736477115117892,1.432732316227462,1.5,1.4812760055478502,1.4573509015256587,1.4954923717059638,1.4486823855755897,1.5,1.5,0.9337725381414702,1.5,1.354022191400832,1.4566574202496532,1.0201109570041609,1.5,1.4174757281553398,1.5,1.424757281553398,0.7434119278779473,1.484396671289875,1.5,1.5,1.0,1.434119278779473,1.285367545076283,1.4854368932038835,1.480582524271845,1.5,1.0377947295423025,1.233009708737864,1.4895977808599168,1.5,1.430998613037448,1.4382801664355065,1.5,1.470527045769764,1.2916088765603329,1.5,1.4514563106796117,1.4913314840499303,1.476768377253814,1.4382801664355065,1.475381414701803,1.052357836338419,1.029126213592233,1.4934119278779472,1.3782940360610263,1.5,1.415742024965326,1.5,1.4954923717059638,1.5,1.360610263522885,1.4275312066574202,1.4965325936199725,1.4625520110957004,1.5,1.5,1.5,1.5,1.5],\"y0\":\" \",\"yaxis\":\"y\",\"type\":\"box\"},{\"line\":{\"color\":\"green\",\"width\":2},\"mode\":\"lines\",\"name\":\"mean\",\"showlegend\":true,\"x\":[\"hj_naive\",\"hj_reactive\",\"flocking\"],\"y\":[1.0869452149791954,1.2194893548093182,1.4108503244682469],\"type\":\"scatter\"}],                        {\"template\":{\"data\":{\"histogram2dcontour\":[{\"type\":\"histogram2dcontour\",\"colorbar\":{\"outlinewidth\":0,\"ticks\":\"\"},\"colorscale\":[[0.0,\"#0d0887\"],[0.1111111111111111,\"#46039f\"],[0.2222222222222222,\"#7201a8\"],[0.3333333333333333,\"#9c179e\"],[0.4444444444444444,\"#bd3786\"],[0.5555555555555556,\"#d8576b\"],[0.6666666666666666,\"#ed7953\"],[0.7777777777777778,\"#fb9f3a\"],[0.8888888888888888,\"#fdca26\"],[1.0,\"#f0f921\"]]}],\"choropleth\":[{\"type\":\"choropleth\",\"colorbar\":{\"outlinewidth\":0,\"ticks\":\"\"}}],\"histogram2d\":[{\"type\":\"histogram2d\",\"colorbar\":{\"outlinewidth\":0,\"ticks\":\"\"},\"colorscale\":[[0.0,\"#0d0887\"],[0.1111111111111111,\"#46039f\"],[0.2222222222222222,\"#7201a8\"],[0.3333333333333333,\"#9c179e\"],[0.4444444444444444,\"#bd3786\"],[0.5555555555555556,\"#d8576b\"],[0.6666666666666666,\"#ed7953\"],[0.7777777777777778,\"#fb9f3a\"],[0.8888888888888888,\"#fdca26\"],[1.0,\"#f0f921\"]]}],\"heatmap\":[{\"type\":\"heatmap\",\"colorbar\":{\"outlinewidth\":0,\"ticks\":\"\"},\"colorscale\":[[0.0,\"#0d0887\"],[0.1111111111111111,\"#46039f\"],[0.2222222222222222,\"#7201a8\"],[0.3333333333333333,\"#9c179e\"],[0.4444444444444444,\"#bd3786\"],[0.5555555555555556,\"#d8576b\"],[0.6666666666666666,\"#ed7953\"],[0.7777777777777778,\"#fb9f3a\"],[0.8888888888888888,\"#fdca26\"],[1.0,\"#f0f921\"]]}],\"heatmapgl\":[{\"type\":\"heatmapgl\",\"colorbar\":{\"outlinewidth\":0,\"ticks\":\"\"},\"colorscale\":[[0.0,\"#0d0887\"],[0.1111111111111111,\"#46039f\"],[0.2222222222222222,\"#7201a8\"],[0.3333333333333333,\"#9c179e\"],[0.4444444444444444,\"#bd3786\"],[0.5555555555555556,\"#d8576b\"],[0.6666666666666666,\"#ed7953\"],[0.7777777777777778,\"#fb9f3a\"],[0.8888888888888888,\"#fdca26\"],[1.0,\"#f0f921\"]]}],\"contourcarpet\":[{\"type\":\"contourcarpet\",\"colorbar\":{\"outlinewidth\":0,\"ticks\":\"\"}}],\"contour\":[{\"type\":\"contour\",\"colorbar\":{\"outlinewidth\":0,\"ticks\":\"\"},\"colorscale\":[[0.0,\"#0d0887\"],[0.1111111111111111,\"#46039f\"],[0.2222222222222222,\"#7201a8\"],[0.3333333333333333,\"#9c179e\"],[0.4444444444444444,\"#bd3786\"],[0.5555555555555556,\"#d8576b\"],[0.6666666666666666,\"#ed7953\"],[0.7777777777777778,\"#fb9f3a\"],[0.8888888888888888,\"#fdca26\"],[1.0,\"#f0f921\"]]}],\"surface\":[{\"type\":\"surface\",\"colorbar\":{\"outlinewidth\":0,\"ticks\":\"\"},\"colorscale\":[[0.0,\"#0d0887\"],[0.1111111111111111,\"#46039f\"],[0.2222222222222222,\"#7201a8\"],[0.3333333333333333,\"#9c179e\"],[0.4444444444444444,\"#bd3786\"],[0.5555555555555556,\"#d8576b\"],[0.6666666666666666,\"#ed7953\"],[0.7777777777777778,\"#fb9f3a\"],[0.8888888888888888,\"#fdca26\"],[1.0,\"#f0f921\"]]}],\"mesh3d\":[{\"type\":\"mesh3d\",\"colorbar\":{\"outlinewidth\":0,\"ticks\":\"\"}}],\"scatter\":[{\"fillpattern\":{\"fillmode\":\"overlay\",\"size\":10,\"solidity\":0.2},\"type\":\"scatter\"}],\"parcoords\":[{\"type\":\"parcoords\",\"line\":{\"colorbar\":{\"outlinewidth\":0,\"ticks\":\"\"}}}],\"scatterpolargl\":[{\"type\":\"scatterpolargl\",\"marker\":{\"colorbar\":{\"outlinewidth\":0,\"ticks\":\"\"}}}],\"bar\":[{\"error_x\":{\"color\":\"#2a3f5f\"},\"error_y\":{\"color\":\"#2a3f5f\"},\"marker\":{\"line\":{\"color\":\"#E5ECF6\",\"width\":0.5},\"pattern\":{\"fillmode\":\"overlay\",\"size\":10,\"solidity\":0.2}},\"type\":\"bar\"}],\"scattergeo\":[{\"type\":\"scattergeo\",\"marker\":{\"colorbar\":{\"outlinewidth\":0,\"ticks\":\"\"}}}],\"scatterpolar\":[{\"type\":\"scatterpolar\",\"marker\":{\"colorbar\":{\"outlinewidth\":0,\"ticks\":\"\"}}}],\"histogram\":[{\"marker\":{\"pattern\":{\"fillmode\":\"overlay\",\"size\":10,\"solidity\":0.2}},\"type\":\"histogram\"}],\"scattergl\":[{\"type\":\"scattergl\",\"marker\":{\"colorbar\":{\"outlinewidth\":0,\"ticks\":\"\"}}}],\"scatter3d\":[{\"type\":\"scatter3d\",\"line\":{\"colorbar\":{\"outlinewidth\":0,\"ticks\":\"\"}},\"marker\":{\"colorbar\":{\"outlinewidth\":0,\"ticks\":\"\"}}}],\"scattermapbox\":[{\"type\":\"scattermapbox\",\"marker\":{\"colorbar\":{\"outlinewidth\":0,\"ticks\":\"\"}}}],\"scatterternary\":[{\"type\":\"scatterternary\",\"marker\":{\"colorbar\":{\"outlinewidth\":0,\"ticks\":\"\"}}}],\"scattercarpet\":[{\"type\":\"scattercarpet\",\"marker\":{\"colorbar\":{\"outlinewidth\":0,\"ticks\":\"\"}}}],\"carpet\":[{\"aaxis\":{\"endlinecolor\":\"#2a3f5f\",\"gridcolor\":\"white\",\"linecolor\":\"white\",\"minorgridcolor\":\"white\",\"startlinecolor\":\"#2a3f5f\"},\"baxis\":{\"endlinecolor\":\"#2a3f5f\",\"gridcolor\":\"white\",\"linecolor\":\"white\",\"minorgridcolor\":\"white\",\"startlinecolor\":\"#2a3f5f\"},\"type\":\"carpet\"}],\"table\":[{\"cells\":{\"fill\":{\"color\":\"#EBF0F8\"},\"line\":{\"color\":\"white\"}},\"header\":{\"fill\":{\"color\":\"#C8D4E3\"},\"line\":{\"color\":\"white\"}},\"type\":\"table\"}],\"barpolar\":[{\"marker\":{\"line\":{\"color\":\"#E5ECF6\",\"width\":0.5},\"pattern\":{\"fillmode\":\"overlay\",\"size\":10,\"solidity\":0.2}},\"type\":\"barpolar\"}],\"pie\":[{\"automargin\":true,\"type\":\"pie\"}]},\"layout\":{\"autotypenumbers\":\"strict\",\"colorway\":[\"#636efa\",\"#EF553B\",\"#00cc96\",\"#ab63fa\",\"#FFA15A\",\"#19d3f3\",\"#FF6692\",\"#B6E880\",\"#FF97FF\",\"#FECB52\"],\"font\":{\"color\":\"#2a3f5f\"},\"hovermode\":\"closest\",\"hoverlabel\":{\"align\":\"left\"},\"paper_bgcolor\":\"white\",\"plot_bgcolor\":\"#E5ECF6\",\"polar\":{\"bgcolor\":\"#E5ECF6\",\"angularaxis\":{\"gridcolor\":\"white\",\"linecolor\":\"white\",\"ticks\":\"\"},\"radialaxis\":{\"gridcolor\":\"white\",\"linecolor\":\"white\",\"ticks\":\"\"}},\"ternary\":{\"bgcolor\":\"#E5ECF6\",\"aaxis\":{\"gridcolor\":\"white\",\"linecolor\":\"white\",\"ticks\":\"\"},\"baxis\":{\"gridcolor\":\"white\",\"linecolor\":\"white\",\"ticks\":\"\"},\"caxis\":{\"gridcolor\":\"white\",\"linecolor\":\"white\",\"ticks\":\"\"}},\"coloraxis\":{\"colorbar\":{\"outlinewidth\":0,\"ticks\":\"\"}},\"colorscale\":{\"sequential\":[[0.0,\"#0d0887\"],[0.1111111111111111,\"#46039f\"],[0.2222222222222222,\"#7201a8\"],[0.3333333333333333,\"#9c179e\"],[0.4444444444444444,\"#bd3786\"],[0.5555555555555556,\"#d8576b\"],[0.6666666666666666,\"#ed7953\"],[0.7777777777777778,\"#fb9f3a\"],[0.8888888888888888,\"#fdca26\"],[1.0,\"#f0f921\"]],\"sequentialminus\":[[0.0,\"#0d0887\"],[0.1111111111111111,\"#46039f\"],[0.2222222222222222,\"#7201a8\"],[0.3333333333333333,\"#9c179e\"],[0.4444444444444444,\"#bd3786\"],[0.5555555555555556,\"#d8576b\"],[0.6666666666666666,\"#ed7953\"],[0.7777777777777778,\"#fb9f3a\"],[0.8888888888888888,\"#fdca26\"],[1.0,\"#f0f921\"]],\"diverging\":[[0,\"#8e0152\"],[0.1,\"#c51b7d\"],[0.2,\"#de77ae\"],[0.3,\"#f1b6da\"],[0.4,\"#fde0ef\"],[0.5,\"#f7f7f7\"],[0.6,\"#e6f5d0\"],[0.7,\"#b8e186\"],[0.8,\"#7fbc41\"],[0.9,\"#4d9221\"],[1,\"#276419\"]]},\"xaxis\":{\"gridcolor\":\"white\",\"linecolor\":\"white\",\"ticks\":\"\",\"title\":{\"standoff\":15},\"zerolinecolor\":\"white\",\"automargin\":true,\"zerolinewidth\":2},\"yaxis\":{\"gridcolor\":\"white\",\"linecolor\":\"white\",\"ticks\":\"\",\"title\":{\"standoff\":15},\"zerolinecolor\":\"white\",\"automargin\":true,\"zerolinewidth\":2},\"scene\":{\"xaxis\":{\"backgroundcolor\":\"#E5ECF6\",\"gridcolor\":\"white\",\"linecolor\":\"white\",\"showbackground\":true,\"ticks\":\"\",\"zerolinecolor\":\"white\",\"gridwidth\":2},\"yaxis\":{\"backgroundcolor\":\"#E5ECF6\",\"gridcolor\":\"white\",\"linecolor\":\"white\",\"showbackground\":true,\"ticks\":\"\",\"zerolinecolor\":\"white\",\"gridwidth\":2},\"zaxis\":{\"backgroundcolor\":\"#E5ECF6\",\"gridcolor\":\"white\",\"linecolor\":\"white\",\"showbackground\":true,\"ticks\":\"\",\"zerolinecolor\":\"white\",\"gridwidth\":2}},\"shapedefaults\":{\"line\":{\"color\":\"#2a3f5f\"}},\"annotationdefaults\":{\"arrowcolor\":\"#2a3f5f\",\"arrowhead\":0,\"arrowwidth\":1},\"geo\":{\"bgcolor\":\"white\",\"landcolor\":\"#E5ECF6\",\"subunitcolor\":\"white\",\"showland\":true,\"showlakes\":true,\"lakecolor\":\"white\"},\"title\":{\"x\":0.05},\"mapbox\":{\"style\":\"light\"}}},\"xaxis\":{\"anchor\":\"y\",\"domain\":[0.0,1.0],\"title\":{\"text\":\"controllers\"}},\"yaxis\":{\"anchor\":\"x\",\"domain\":[0.0,1.0],\"title\":{\"text\":\"Average Beta Index over Missions\"}},\"legend\":{\"tracegroupgap\":0},\"margin\":{\"t\":60},\"boxmode\":\"group\"},                        {\"responsive\": true}                    ).then(function(){\n",
       "                            \n",
       "var gd = document.getElementById('87a4dc40-02be-4ec2-9165-5c84a52463e1');\n",
       "var x = new MutationObserver(function (mutations, observer) {{\n",
       "        var display = window.getComputedStyle(gd).display;\n",
       "        if (!display || display === 'none') {{\n",
       "            console.log([gd, 'removed!']);\n",
       "            Plotly.purge(gd);\n",
       "            observer.disconnect();\n",
       "        }}\n",
       "}});\n",
       "\n",
       "// Listen for the removal of the full notebook cells\n",
       "var notebookContainer = gd.closest('#notebook-container');\n",
       "if (notebookContainer) {{\n",
       "    x.observe(notebookContainer, {childList: true});\n",
       "}}\n",
       "\n",
       "// Listen for the clearing of the current output cell\n",
       "var outputEl = gd.closest('.output');\n",
       "if (outputEl) {{\n",
       "    x.observe(outputEl, {childList: true});\n",
       "}}\n",
       "\n",
       "                        })                };                });            </script>        </div>"
      ]
     },
     "metadata": {},
     "output_type": "display_data"
    }
   ],
   "source": [
    "beta_index_avg_dic = {\"hj_naive\": metrics_hj_naive[\"Average Beta Index\"],\n",
    "                      \"hj_reactive\": metrics_hj_reactive[\"Average Beta Index\"],\n",
    "                      \"flocking\": metrics_hj_flocking[\"Average Beta Index\"]}\n",
    "beta_index_avg_df = pd.DataFrame(beta_index_avg_dic)\n",
    "fig_beta = px.box(beta_index_avg_df)\n",
    "mean_trace = go.Scatter(\n",
    "    x=beta_index_avg_df.columns,\n",
    "    y=beta_index_avg_df.mean(),\n",
    "    mode='lines',\n",
    "    line=dict(color='green', width=2),\n",
    "    showlegend=True,\n",
    "    name=\"mean\"\n",
    ")\n",
    "fig_beta.add_trace(mean_trace)\n",
    "# Add custom x and y labels\n",
    "fig_beta.update_layout(\n",
    "    xaxis_title=\"controllers\",\n",
    "    yaxis_title=\"Average Beta Index over Missions\"\n",
    ")\n",
    "fig_beta.show()"
   ]
  },
  {
   "attachments": {},
   "cell_type": "markdown",
   "metadata": {},
   "source": [
    "+ Mean minimum distance to target among all platforms km"
   ]
  },
  {
   "cell_type": "code",
   "execution_count": 13,
   "metadata": {},
   "outputs": [
    {
     "data": {
      "application/vnd.plotly.v1+json": {
       "config": {
        "plotlyServerURL": "https://plot.ly"
       },
       "data": [
        {
         "alignmentgroup": "True",
         "hovertemplate": "variable=%{x}<br>value=%{y}<extra></extra>",
         "legendgroup": "",
         "marker": {
          "color": "#636efa"
         },
         "name": "",
         "notched": false,
         "offsetgroup": "",
         "orientation": "v",
         "showlegend": false,
         "type": "box",
         "x": [
          "hj_naive",
          "hj_naive",
          "hj_naive",
          "hj_naive",
          "hj_naive",
          "hj_naive",
          "hj_naive",
          "hj_naive",
          "hj_naive",
          "hj_naive",
          "hj_naive",
          "hj_naive",
          "hj_naive",
          "hj_naive",
          "hj_naive",
          "hj_naive",
          "hj_naive",
          "hj_naive",
          "hj_naive",
          "hj_naive",
          "hj_naive",
          "hj_naive",
          "hj_naive",
          "hj_naive",
          "hj_naive",
          "hj_naive",
          "hj_naive",
          "hj_naive",
          "hj_naive",
          "hj_naive",
          "hj_naive",
          "hj_naive",
          "hj_naive",
          "hj_naive",
          "hj_naive",
          "hj_naive",
          "hj_naive",
          "hj_naive",
          "hj_naive",
          "hj_naive",
          "hj_naive",
          "hj_naive",
          "hj_naive",
          "hj_naive",
          "hj_naive",
          "hj_naive",
          "hj_naive",
          "hj_naive",
          "hj_naive",
          "hj_naive",
          "hj_naive",
          "hj_naive",
          "hj_naive",
          "hj_naive",
          "hj_naive",
          "hj_naive",
          "hj_naive",
          "hj_naive",
          "hj_naive",
          "hj_naive",
          "hj_naive",
          "hj_naive",
          "hj_naive",
          "hj_naive",
          "hj_naive",
          "hj_naive",
          "hj_naive",
          "hj_naive",
          "hj_naive",
          "hj_naive",
          "hj_naive",
          "hj_naive",
          "hj_naive",
          "hj_naive",
          "hj_naive",
          "hj_naive",
          "hj_naive",
          "hj_naive",
          "hj_naive",
          "hj_naive",
          "hj_naive",
          "hj_naive",
          "hj_naive",
          "hj_naive",
          "hj_naive",
          "hj_naive",
          "hj_naive",
          "hj_naive",
          "hj_naive",
          "hj_naive",
          "hj_naive",
          "hj_naive",
          "hj_naive",
          "hj_naive",
          "hj_naive",
          "hj_naive",
          "hj_naive",
          "hj_naive",
          "hj_naive",
          "hj_naive",
          "hj_naive",
          "hj_naive",
          "hj_naive",
          "hj_naive",
          "hj_naive",
          "hj_naive",
          "hj_naive",
          "hj_naive",
          "hj_naive",
          "hj_naive",
          "hj_naive",
          "hj_naive",
          "hj_naive",
          "hj_naive",
          "hj_naive",
          "hj_naive",
          "hj_naive",
          "hj_naive",
          "hj_naive",
          "hj_naive",
          "hj_naive",
          "hj_naive",
          "hj_naive",
          "hj_naive",
          "hj_naive",
          "hj_naive",
          "hj_naive",
          "hj_naive",
          "hj_naive",
          "hj_naive",
          "hj_naive",
          "hj_naive",
          "hj_naive",
          "hj_naive",
          "hj_naive",
          "hj_naive",
          "hj_naive",
          "hj_naive",
          "hj_naive",
          "hj_naive",
          "hj_naive",
          "hj_naive",
          "hj_naive",
          "hj_naive",
          "hj_naive",
          "hj_naive",
          "hj_naive",
          "hj_naive",
          "hj_naive",
          "hj_naive",
          "hj_naive",
          "hj_naive",
          "hj_naive",
          "hj_naive",
          "hj_naive",
          "hj_naive",
          "hj_naive",
          "hj_naive",
          "hj_naive",
          "hj_naive",
          "hj_naive",
          "hj_naive",
          "hj_naive",
          "hj_naive",
          "hj_naive",
          "hj_naive",
          "hj_naive",
          "hj_naive",
          "hj_naive",
          "hj_naive",
          "hj_naive",
          "hj_naive",
          "hj_naive",
          "hj_naive",
          "hj_naive",
          "hj_naive",
          "hj_naive",
          "hj_naive",
          "hj_naive",
          "hj_naive",
          "hj_naive",
          "hj_naive",
          "hj_naive",
          "hj_naive",
          "hj_naive",
          "hj_naive",
          "hj_naive",
          "hj_naive",
          "hj_naive",
          "hj_naive",
          "hj_naive",
          "hj_naive",
          "hj_naive",
          "hj_naive",
          "hj_naive",
          "hj_naive",
          "hj_naive",
          "hj_naive",
          "hj_naive",
          "hj_naive",
          "hj_naive",
          "hj_naive",
          "hj_naive",
          "hj_naive",
          "hj_naive",
          "hj_naive",
          "hj_naive",
          "hj_naive",
          "hj_naive",
          "hj_naive",
          "hj_naive",
          "hj_naive",
          "hj_naive",
          "hj_naive",
          "hj_naive",
          "hj_naive",
          "hj_naive",
          "hj_naive",
          "hj_naive",
          "hj_naive",
          "hj_naive",
          "hj_naive",
          "hj_naive",
          "hj_naive",
          "hj_naive",
          "hj_naive",
          "hj_naive",
          "hj_naive",
          "hj_naive",
          "hj_naive",
          "hj_naive",
          "hj_naive",
          "hj_naive",
          "hj_naive",
          "hj_naive",
          "hj_naive",
          "hj_naive",
          "hj_naive",
          "hj_naive",
          "hj_naive",
          "hj_naive",
          "hj_naive",
          "hj_naive",
          "hj_naive",
          "hj_naive",
          "hj_naive",
          "hj_naive",
          "hj_naive",
          "hj_naive",
          "hj_naive",
          "hj_naive",
          "hj_naive",
          "hj_naive",
          "hj_naive",
          "hj_naive",
          "hj_naive",
          "hj_naive",
          "hj_naive",
          "hj_naive",
          "hj_naive",
          "hj_naive",
          "hj_naive",
          "hj_naive",
          "hj_naive",
          "hj_naive",
          "hj_naive",
          "hj_naive",
          "hj_naive",
          "hj_naive",
          "hj_naive",
          "hj_naive",
          "hj_naive",
          "hj_naive",
          "hj_naive",
          "hj_naive",
          "hj_naive",
          "hj_naive",
          "hj_naive",
          "hj_naive",
          "hj_naive",
          "hj_naive",
          "hj_naive",
          "hj_naive",
          "hj_naive",
          "hj_naive",
          "hj_naive",
          "hj_naive",
          "hj_naive",
          "hj_naive",
          "hj_naive",
          "hj_naive",
          "hj_naive",
          "hj_naive",
          "hj_naive",
          "hj_naive",
          "hj_naive",
          "hj_naive",
          "hj_naive",
          "hj_naive",
          "hj_naive",
          "hj_naive",
          "hj_naive",
          "hj_naive",
          "hj_naive",
          "hj_naive",
          "hj_naive",
          "hj_naive",
          "hj_naive",
          "hj_naive",
          "hj_naive",
          "hj_naive",
          "hj_naive",
          "hj_naive",
          "hj_naive",
          "hj_naive",
          "hj_naive",
          "hj_naive",
          "hj_naive",
          "hj_naive",
          "hj_naive",
          "hj_naive",
          "hj_naive",
          "hj_naive",
          "hj_naive",
          "hj_naive",
          "hj_naive",
          "hj_naive",
          "hj_naive",
          "hj_naive",
          "hj_naive",
          "hj_naive",
          "hj_naive",
          "hj_naive",
          "hj_naive",
          "hj_naive",
          "hj_naive",
          "hj_naive",
          "hj_naive",
          "hj_naive",
          "hj_naive",
          "hj_naive",
          "hj_naive",
          "hj_naive",
          "hj_naive",
          "hj_naive",
          "hj_naive",
          "hj_naive",
          "hj_naive",
          "hj_naive",
          "hj_naive",
          "hj_naive",
          "hj_naive",
          "hj_naive",
          "hj_naive",
          "hj_naive",
          "hj_naive",
          "hj_naive",
          "hj_naive",
          "hj_naive",
          "hj_naive",
          "hj_naive",
          "hj_naive",
          "hj_naive",
          "hj_naive",
          "hj_naive",
          "hj_naive",
          "hj_naive",
          "hj_naive",
          "hj_naive",
          "hj_naive",
          "hj_naive",
          "hj_naive",
          "hj_naive",
          "hj_naive",
          "hj_naive",
          "hj_naive",
          "hj_naive",
          "hj_naive",
          "hj_naive",
          "hj_naive",
          "hj_naive",
          "hj_naive",
          "hj_naive",
          "hj_naive",
          "hj_naive",
          "hj_naive",
          "hj_naive",
          "hj_naive",
          "hj_naive",
          "hj_naive",
          "hj_naive",
          "hj_naive",
          "hj_naive",
          "hj_naive",
          "hj_naive",
          "hj_naive",
          "hj_naive",
          "hj_naive",
          "hj_naive",
          "hj_naive",
          "hj_naive",
          "hj_naive",
          "hj_naive",
          "hj_naive",
          "hj_naive",
          "hj_naive",
          "hj_naive",
          "hj_naive",
          "hj_naive",
          "hj_naive",
          "hj_naive",
          "hj_naive",
          "hj_naive",
          "hj_naive",
          "hj_naive",
          "hj_naive",
          "hj_naive",
          "hj_naive",
          "hj_naive",
          "hj_naive",
          "hj_naive",
          "hj_naive",
          "hj_naive",
          "hj_naive",
          "hj_naive",
          "hj_naive",
          "hj_naive",
          "hj_naive",
          "hj_naive",
          "hj_naive",
          "hj_naive",
          "hj_naive",
          "hj_naive",
          "hj_naive",
          "hj_naive",
          "hj_naive",
          "hj_naive",
          "hj_naive",
          "hj_naive",
          "hj_naive",
          "hj_naive",
          "hj_naive",
          "hj_naive",
          "hj_naive",
          "hj_naive",
          "hj_naive",
          "hj_naive",
          "hj_naive",
          "hj_naive",
          "hj_naive",
          "hj_naive",
          "hj_naive",
          "hj_naive",
          "hj_naive",
          "hj_naive",
          "hj_naive",
          "hj_naive",
          "hj_naive",
          "hj_naive",
          "hj_naive",
          "hj_naive",
          "hj_naive",
          "hj_naive",
          "hj_naive",
          "hj_naive",
          "hj_naive",
          "hj_naive",
          "hj_naive",
          "hj_naive",
          "hj_naive",
          "hj_naive",
          "hj_naive",
          "hj_naive",
          "hj_naive",
          "hj_naive",
          "hj_naive",
          "hj_naive",
          "hj_naive",
          "hj_naive",
          "hj_naive",
          "hj_naive",
          "hj_naive",
          "hj_naive",
          "hj_naive",
          "hj_naive",
          "hj_naive",
          "hj_naive",
          "hj_naive",
          "hj_naive",
          "hj_naive",
          "hj_naive",
          "hj_naive",
          "hj_naive",
          "hj_naive",
          "hj_naive",
          "hj_naive",
          "hj_naive",
          "hj_naive",
          "hj_naive",
          "hj_naive",
          "hj_naive",
          "hj_naive",
          "hj_naive",
          "hj_naive",
          "hj_naive",
          "hj_naive",
          "hj_naive",
          "hj_naive",
          "hj_naive",
          "hj_naive",
          "hj_naive",
          "hj_naive",
          "hj_naive",
          "hj_naive",
          "hj_naive",
          "hj_naive",
          "hj_naive",
          "hj_naive",
          "hj_naive",
          "hj_naive",
          "hj_naive",
          "hj_naive",
          "hj_naive",
          "hj_naive",
          "hj_naive",
          "hj_naive",
          "hj_naive",
          "hj_naive",
          "hj_naive",
          "hj_naive",
          "hj_naive",
          "hj_naive",
          "hj_naive",
          "hj_naive",
          "hj_naive",
          "hj_naive",
          "hj_naive",
          "hj_naive",
          "hj_naive",
          "hj_naive",
          "hj_naive",
          "hj_naive",
          "hj_naive",
          "hj_naive",
          "hj_naive",
          "hj_naive",
          "hj_naive",
          "hj_naive",
          "hj_reactive",
          "hj_reactive",
          "hj_reactive",
          "hj_reactive",
          "hj_reactive",
          "hj_reactive",
          "hj_reactive",
          "hj_reactive",
          "hj_reactive",
          "hj_reactive",
          "hj_reactive",
          "hj_reactive",
          "hj_reactive",
          "hj_reactive",
          "hj_reactive",
          "hj_reactive",
          "hj_reactive",
          "hj_reactive",
          "hj_reactive",
          "hj_reactive",
          "hj_reactive",
          "hj_reactive",
          "hj_reactive",
          "hj_reactive",
          "hj_reactive",
          "hj_reactive",
          "hj_reactive",
          "hj_reactive",
          "hj_reactive",
          "hj_reactive",
          "hj_reactive",
          "hj_reactive",
          "hj_reactive",
          "hj_reactive",
          "hj_reactive",
          "hj_reactive",
          "hj_reactive",
          "hj_reactive",
          "hj_reactive",
          "hj_reactive",
          "hj_reactive",
          "hj_reactive",
          "hj_reactive",
          "hj_reactive",
          "hj_reactive",
          "hj_reactive",
          "hj_reactive",
          "hj_reactive",
          "hj_reactive",
          "hj_reactive",
          "hj_reactive",
          "hj_reactive",
          "hj_reactive",
          "hj_reactive",
          "hj_reactive",
          "hj_reactive",
          "hj_reactive",
          "hj_reactive",
          "hj_reactive",
          "hj_reactive",
          "hj_reactive",
          "hj_reactive",
          "hj_reactive",
          "hj_reactive",
          "hj_reactive",
          "hj_reactive",
          "hj_reactive",
          "hj_reactive",
          "hj_reactive",
          "hj_reactive",
          "hj_reactive",
          "hj_reactive",
          "hj_reactive",
          "hj_reactive",
          "hj_reactive",
          "hj_reactive",
          "hj_reactive",
          "hj_reactive",
          "hj_reactive",
          "hj_reactive",
          "hj_reactive",
          "hj_reactive",
          "hj_reactive",
          "hj_reactive",
          "hj_reactive",
          "hj_reactive",
          "hj_reactive",
          "hj_reactive",
          "hj_reactive",
          "hj_reactive",
          "hj_reactive",
          "hj_reactive",
          "hj_reactive",
          "hj_reactive",
          "hj_reactive",
          "hj_reactive",
          "hj_reactive",
          "hj_reactive",
          "hj_reactive",
          "hj_reactive",
          "hj_reactive",
          "hj_reactive",
          "hj_reactive",
          "hj_reactive",
          "hj_reactive",
          "hj_reactive",
          "hj_reactive",
          "hj_reactive",
          "hj_reactive",
          "hj_reactive",
          "hj_reactive",
          "hj_reactive",
          "hj_reactive",
          "hj_reactive",
          "hj_reactive",
          "hj_reactive",
          "hj_reactive",
          "hj_reactive",
          "hj_reactive",
          "hj_reactive",
          "hj_reactive",
          "hj_reactive",
          "hj_reactive",
          "hj_reactive",
          "hj_reactive",
          "hj_reactive",
          "hj_reactive",
          "hj_reactive",
          "hj_reactive",
          "hj_reactive",
          "hj_reactive",
          "hj_reactive",
          "hj_reactive",
          "hj_reactive",
          "hj_reactive",
          "hj_reactive",
          "hj_reactive",
          "hj_reactive",
          "hj_reactive",
          "hj_reactive",
          "hj_reactive",
          "hj_reactive",
          "hj_reactive",
          "hj_reactive",
          "hj_reactive",
          "hj_reactive",
          "hj_reactive",
          "hj_reactive",
          "hj_reactive",
          "hj_reactive",
          "hj_reactive",
          "hj_reactive",
          "hj_reactive",
          "hj_reactive",
          "hj_reactive",
          "hj_reactive",
          "hj_reactive",
          "hj_reactive",
          "hj_reactive",
          "hj_reactive",
          "hj_reactive",
          "hj_reactive",
          "hj_reactive",
          "hj_reactive",
          "hj_reactive",
          "hj_reactive",
          "hj_reactive",
          "hj_reactive",
          "hj_reactive",
          "hj_reactive",
          "hj_reactive",
          "hj_reactive",
          "hj_reactive",
          "hj_reactive",
          "hj_reactive",
          "hj_reactive",
          "hj_reactive",
          "hj_reactive",
          "hj_reactive",
          "hj_reactive",
          "hj_reactive",
          "hj_reactive",
          "hj_reactive",
          "hj_reactive",
          "hj_reactive",
          "hj_reactive",
          "hj_reactive",
          "hj_reactive",
          "hj_reactive",
          "hj_reactive",
          "hj_reactive",
          "hj_reactive",
          "hj_reactive",
          "hj_reactive",
          "hj_reactive",
          "hj_reactive",
          "hj_reactive",
          "hj_reactive",
          "hj_reactive",
          "hj_reactive",
          "hj_reactive",
          "hj_reactive",
          "hj_reactive",
          "hj_reactive",
          "hj_reactive",
          "hj_reactive",
          "hj_reactive",
          "hj_reactive",
          "hj_reactive",
          "hj_reactive",
          "hj_reactive",
          "hj_reactive",
          "hj_reactive",
          "hj_reactive",
          "hj_reactive",
          "hj_reactive",
          "hj_reactive",
          "hj_reactive",
          "hj_reactive",
          "hj_reactive",
          "hj_reactive",
          "hj_reactive",
          "hj_reactive",
          "hj_reactive",
          "hj_reactive",
          "hj_reactive",
          "hj_reactive",
          "hj_reactive",
          "hj_reactive",
          "hj_reactive",
          "hj_reactive",
          "hj_reactive",
          "hj_reactive",
          "hj_reactive",
          "hj_reactive",
          "hj_reactive",
          "hj_reactive",
          "hj_reactive",
          "hj_reactive",
          "hj_reactive",
          "hj_reactive",
          "hj_reactive",
          "hj_reactive",
          "hj_reactive",
          "hj_reactive",
          "hj_reactive",
          "hj_reactive",
          "hj_reactive",
          "hj_reactive",
          "hj_reactive",
          "hj_reactive",
          "hj_reactive",
          "hj_reactive",
          "hj_reactive",
          "hj_reactive",
          "hj_reactive",
          "hj_reactive",
          "hj_reactive",
          "hj_reactive",
          "hj_reactive",
          "hj_reactive",
          "hj_reactive",
          "hj_reactive",
          "hj_reactive",
          "hj_reactive",
          "hj_reactive",
          "hj_reactive",
          "hj_reactive",
          "hj_reactive",
          "hj_reactive",
          "hj_reactive",
          "hj_reactive",
          "hj_reactive",
          "hj_reactive",
          "hj_reactive",
          "hj_reactive",
          "hj_reactive",
          "hj_reactive",
          "hj_reactive",
          "hj_reactive",
          "hj_reactive",
          "hj_reactive",
          "hj_reactive",
          "hj_reactive",
          "hj_reactive",
          "hj_reactive",
          "hj_reactive",
          "hj_reactive",
          "hj_reactive",
          "hj_reactive",
          "hj_reactive",
          "hj_reactive",
          "hj_reactive",
          "hj_reactive",
          "hj_reactive",
          "hj_reactive",
          "hj_reactive",
          "hj_reactive",
          "hj_reactive",
          "hj_reactive",
          "hj_reactive",
          "hj_reactive",
          "hj_reactive",
          "hj_reactive",
          "hj_reactive",
          "hj_reactive",
          "hj_reactive",
          "hj_reactive",
          "hj_reactive",
          "hj_reactive",
          "hj_reactive",
          "hj_reactive",
          "hj_reactive",
          "hj_reactive",
          "hj_reactive",
          "hj_reactive",
          "hj_reactive",
          "hj_reactive",
          "hj_reactive",
          "hj_reactive",
          "hj_reactive",
          "hj_reactive",
          "hj_reactive",
          "hj_reactive",
          "hj_reactive",
          "hj_reactive",
          "hj_reactive",
          "hj_reactive",
          "hj_reactive",
          "hj_reactive",
          "hj_reactive",
          "hj_reactive",
          "hj_reactive",
          "hj_reactive",
          "hj_reactive",
          "hj_reactive",
          "hj_reactive",
          "hj_reactive",
          "hj_reactive",
          "hj_reactive",
          "hj_reactive",
          "hj_reactive",
          "hj_reactive",
          "hj_reactive",
          "hj_reactive",
          "hj_reactive",
          "hj_reactive",
          "hj_reactive",
          "hj_reactive",
          "hj_reactive",
          "hj_reactive",
          "hj_reactive",
          "hj_reactive",
          "hj_reactive",
          "hj_reactive",
          "hj_reactive",
          "hj_reactive",
          "hj_reactive",
          "hj_reactive",
          "hj_reactive",
          "hj_reactive",
          "hj_reactive",
          "hj_reactive",
          "hj_reactive",
          "hj_reactive",
          "hj_reactive",
          "hj_reactive",
          "hj_reactive",
          "hj_reactive",
          "hj_reactive",
          "hj_reactive",
          "hj_reactive",
          "hj_reactive",
          "hj_reactive",
          "hj_reactive",
          "hj_reactive",
          "hj_reactive",
          "hj_reactive",
          "hj_reactive",
          "hj_reactive",
          "hj_reactive",
          "hj_reactive",
          "hj_reactive",
          "hj_reactive",
          "hj_reactive",
          "hj_reactive",
          "hj_reactive",
          "hj_reactive",
          "hj_reactive",
          "hj_reactive",
          "hj_reactive",
          "hj_reactive",
          "hj_reactive",
          "hj_reactive",
          "hj_reactive",
          "hj_reactive",
          "hj_reactive",
          "hj_reactive",
          "hj_reactive",
          "hj_reactive",
          "hj_reactive",
          "hj_reactive",
          "hj_reactive",
          "hj_reactive",
          "hj_reactive",
          "hj_reactive",
          "hj_reactive",
          "hj_reactive",
          "hj_reactive",
          "hj_reactive",
          "hj_reactive",
          "hj_reactive",
          "hj_reactive",
          "hj_reactive",
          "hj_reactive",
          "hj_reactive",
          "hj_reactive",
          "hj_reactive",
          "hj_reactive",
          "hj_reactive",
          "hj_reactive",
          "hj_reactive",
          "hj_reactive",
          "hj_reactive",
          "hj_reactive",
          "hj_reactive",
          "hj_reactive",
          "hj_reactive",
          "hj_reactive",
          "hj_reactive",
          "hj_reactive",
          "hj_reactive",
          "hj_reactive",
          "hj_reactive",
          "hj_reactive",
          "hj_reactive",
          "hj_reactive",
          "hj_reactive",
          "hj_reactive",
          "hj_reactive",
          "hj_reactive",
          "hj_reactive",
          "hj_reactive",
          "hj_reactive",
          "hj_reactive",
          "hj_reactive",
          "hj_reactive",
          "hj_reactive",
          "hj_reactive",
          "hj_reactive",
          "hj_reactive",
          "hj_reactive",
          "hj_reactive",
          "hj_reactive",
          "hj_reactive",
          "hj_reactive",
          "hj_reactive",
          "hj_reactive",
          "hj_reactive",
          "hj_reactive",
          "hj_reactive",
          "hj_reactive",
          "hj_reactive",
          "hj_reactive",
          "hj_reactive",
          "hj_reactive",
          "hj_reactive",
          "hj_reactive",
          "hj_reactive",
          "hj_reactive",
          "hj_reactive",
          "hj_reactive",
          "hj_reactive",
          "hj_reactive",
          "hj_reactive",
          "hj_reactive",
          "hj_reactive",
          "hj_reactive",
          "hj_reactive",
          "hj_reactive",
          "hj_reactive",
          "hj_reactive",
          "hj_reactive",
          "hj_reactive",
          "hj_reactive",
          "hj_reactive",
          "hj_reactive",
          "hj_reactive",
          "hj_reactive",
          "hj_reactive",
          "hj_reactive",
          "hj_reactive",
          "hj_reactive",
          "hj_reactive",
          "hj_reactive",
          "hj_reactive",
          "hj_reactive",
          "hj_reactive",
          "hj_reactive",
          "hj_reactive",
          "hj_reactive",
          "hj_reactive",
          "hj_reactive",
          "hj_reactive",
          "hj_reactive",
          "hj_reactive",
          "hj_reactive",
          "hj_reactive",
          "hj_reactive",
          "hj_reactive",
          "hj_reactive",
          "hj_reactive",
          "hj_reactive",
          "hj_reactive",
          "hj_reactive",
          "hj_reactive",
          "hj_reactive",
          "hj_reactive",
          "hj_reactive",
          "hj_reactive",
          "hj_reactive",
          "hj_reactive",
          "hj_reactive",
          "hj_reactive",
          "hj_reactive",
          "hj_reactive",
          "hj_reactive",
          "hj_reactive",
          "hj_reactive",
          "hj_reactive",
          "hj_reactive",
          "hj_reactive",
          "hj_reactive",
          "hj_reactive",
          "hj_reactive",
          "hj_reactive",
          "hj_reactive",
          "hj_reactive",
          "hj_reactive",
          "hj_reactive",
          "hj_reactive",
          "hj_reactive",
          "hj_reactive",
          "hj_reactive",
          "hj_reactive",
          "hj_reactive",
          "hj_reactive",
          "hj_reactive",
          "flocking",
          "flocking",
          "flocking",
          "flocking",
          "flocking",
          "flocking",
          "flocking",
          "flocking",
          "flocking",
          "flocking",
          "flocking",
          "flocking",
          "flocking",
          "flocking",
          "flocking",
          "flocking",
          "flocking",
          "flocking",
          "flocking",
          "flocking",
          "flocking",
          "flocking",
          "flocking",
          "flocking",
          "flocking",
          "flocking",
          "flocking",
          "flocking",
          "flocking",
          "flocking",
          "flocking",
          "flocking",
          "flocking",
          "flocking",
          "flocking",
          "flocking",
          "flocking",
          "flocking",
          "flocking",
          "flocking",
          "flocking",
          "flocking",
          "flocking",
          "flocking",
          "flocking",
          "flocking",
          "flocking",
          "flocking",
          "flocking",
          "flocking",
          "flocking",
          "flocking",
          "flocking",
          "flocking",
          "flocking",
          "flocking",
          "flocking",
          "flocking",
          "flocking",
          "flocking",
          "flocking",
          "flocking",
          "flocking",
          "flocking",
          "flocking",
          "flocking",
          "flocking",
          "flocking",
          "flocking",
          "flocking",
          "flocking",
          "flocking",
          "flocking",
          "flocking",
          "flocking",
          "flocking",
          "flocking",
          "flocking",
          "flocking",
          "flocking",
          "flocking",
          "flocking",
          "flocking",
          "flocking",
          "flocking",
          "flocking",
          "flocking",
          "flocking",
          "flocking",
          "flocking",
          "flocking",
          "flocking",
          "flocking",
          "flocking",
          "flocking",
          "flocking",
          "flocking",
          "flocking",
          "flocking",
          "flocking",
          "flocking",
          "flocking",
          "flocking",
          "flocking",
          "flocking",
          "flocking",
          "flocking",
          "flocking",
          "flocking",
          "flocking",
          "flocking",
          "flocking",
          "flocking",
          "flocking",
          "flocking",
          "flocking",
          "flocking",
          "flocking",
          "flocking",
          "flocking",
          "flocking",
          "flocking",
          "flocking",
          "flocking",
          "flocking",
          "flocking",
          "flocking",
          "flocking",
          "flocking",
          "flocking",
          "flocking",
          "flocking",
          "flocking",
          "flocking",
          "flocking",
          "flocking",
          "flocking",
          "flocking",
          "flocking",
          "flocking",
          "flocking",
          "flocking",
          "flocking",
          "flocking",
          "flocking",
          "flocking",
          "flocking",
          "flocking",
          "flocking",
          "flocking",
          "flocking",
          "flocking",
          "flocking",
          "flocking",
          "flocking",
          "flocking",
          "flocking",
          "flocking",
          "flocking",
          "flocking",
          "flocking",
          "flocking",
          "flocking",
          "flocking",
          "flocking",
          "flocking",
          "flocking",
          "flocking",
          "flocking",
          "flocking",
          "flocking",
          "flocking",
          "flocking",
          "flocking",
          "flocking",
          "flocking",
          "flocking",
          "flocking",
          "flocking",
          "flocking",
          "flocking",
          "flocking",
          "flocking",
          "flocking",
          "flocking",
          "flocking",
          "flocking",
          "flocking",
          "flocking",
          "flocking",
          "flocking",
          "flocking",
          "flocking",
          "flocking",
          "flocking",
          "flocking",
          "flocking",
          "flocking",
          "flocking",
          "flocking",
          "flocking",
          "flocking",
          "flocking",
          "flocking",
          "flocking",
          "flocking",
          "flocking",
          "flocking",
          "flocking",
          "flocking",
          "flocking",
          "flocking",
          "flocking",
          "flocking",
          "flocking",
          "flocking",
          "flocking",
          "flocking",
          "flocking",
          "flocking",
          "flocking",
          "flocking",
          "flocking",
          "flocking",
          "flocking",
          "flocking",
          "flocking",
          "flocking",
          "flocking",
          "flocking",
          "flocking",
          "flocking",
          "flocking",
          "flocking",
          "flocking",
          "flocking",
          "flocking",
          "flocking",
          "flocking",
          "flocking",
          "flocking",
          "flocking",
          "flocking",
          "flocking",
          "flocking",
          "flocking",
          "flocking",
          "flocking",
          "flocking",
          "flocking",
          "flocking",
          "flocking",
          "flocking",
          "flocking",
          "flocking",
          "flocking",
          "flocking",
          "flocking",
          "flocking",
          "flocking",
          "flocking",
          "flocking",
          "flocking",
          "flocking",
          "flocking",
          "flocking",
          "flocking",
          "flocking",
          "flocking",
          "flocking",
          "flocking",
          "flocking",
          "flocking",
          "flocking",
          "flocking",
          "flocking",
          "flocking",
          "flocking",
          "flocking",
          "flocking",
          "flocking",
          "flocking",
          "flocking",
          "flocking",
          "flocking",
          "flocking",
          "flocking",
          "flocking",
          "flocking",
          "flocking",
          "flocking",
          "flocking",
          "flocking",
          "flocking",
          "flocking",
          "flocking",
          "flocking",
          "flocking",
          "flocking",
          "flocking",
          "flocking",
          "flocking",
          "flocking",
          "flocking",
          "flocking",
          "flocking",
          "flocking",
          "flocking",
          "flocking",
          "flocking",
          "flocking",
          "flocking",
          "flocking",
          "flocking",
          "flocking",
          "flocking",
          "flocking",
          "flocking",
          "flocking",
          "flocking",
          "flocking",
          "flocking",
          "flocking",
          "flocking",
          "flocking",
          "flocking",
          "flocking",
          "flocking",
          "flocking",
          "flocking",
          "flocking",
          "flocking",
          "flocking",
          "flocking",
          "flocking",
          "flocking",
          "flocking",
          "flocking",
          "flocking",
          "flocking",
          "flocking",
          "flocking",
          "flocking",
          "flocking",
          "flocking",
          "flocking",
          "flocking",
          "flocking",
          "flocking",
          "flocking",
          "flocking",
          "flocking",
          "flocking",
          "flocking",
          "flocking",
          "flocking",
          "flocking",
          "flocking",
          "flocking",
          "flocking",
          "flocking",
          "flocking",
          "flocking",
          "flocking",
          "flocking",
          "flocking",
          "flocking",
          "flocking",
          "flocking",
          "flocking",
          "flocking",
          "flocking",
          "flocking",
          "flocking",
          "flocking",
          "flocking",
          "flocking",
          "flocking",
          "flocking",
          "flocking",
          "flocking",
          "flocking",
          "flocking",
          "flocking",
          "flocking",
          "flocking",
          "flocking",
          "flocking",
          "flocking",
          "flocking",
          "flocking",
          "flocking",
          "flocking",
          "flocking",
          "flocking",
          "flocking",
          "flocking",
          "flocking",
          "flocking",
          "flocking",
          "flocking",
          "flocking",
          "flocking",
          "flocking",
          "flocking",
          "flocking",
          "flocking",
          "flocking",
          "flocking",
          "flocking",
          "flocking",
          "flocking",
          "flocking",
          "flocking",
          "flocking",
          "flocking",
          "flocking",
          "flocking",
          "flocking",
          "flocking",
          "flocking",
          "flocking",
          "flocking",
          "flocking",
          "flocking",
          "flocking",
          "flocking",
          "flocking",
          "flocking",
          "flocking",
          "flocking",
          "flocking",
          "flocking",
          "flocking",
          "flocking",
          "flocking",
          "flocking",
          "flocking",
          "flocking",
          "flocking",
          "flocking",
          "flocking",
          "flocking",
          "flocking",
          "flocking",
          "flocking",
          "flocking",
          "flocking",
          "flocking",
          "flocking",
          "flocking",
          "flocking",
          "flocking",
          "flocking",
          "flocking",
          "flocking",
          "flocking",
          "flocking",
          "flocking",
          "flocking",
          "flocking",
          "flocking",
          "flocking",
          "flocking",
          "flocking",
          "flocking",
          "flocking",
          "flocking",
          "flocking",
          "flocking",
          "flocking",
          "flocking",
          "flocking",
          "flocking",
          "flocking",
          "flocking",
          "flocking",
          "flocking",
          "flocking",
          "flocking",
          "flocking",
          "flocking",
          "flocking",
          "flocking",
          "flocking",
          "flocking",
          "flocking",
          "flocking",
          "flocking",
          "flocking",
          "flocking",
          "flocking",
          "flocking",
          "flocking",
          "flocking",
          "flocking",
          "flocking",
          "flocking",
          "flocking",
          "flocking",
          "flocking",
          "flocking",
          "flocking",
          "flocking",
          "flocking",
          "flocking",
          "flocking",
          "flocking",
          "flocking",
          "flocking",
          "flocking",
          "flocking",
          "flocking",
          "flocking",
          "flocking",
          "flocking",
          "flocking",
          "flocking",
          "flocking",
          "flocking",
          "flocking",
          "flocking",
          "flocking",
          "flocking",
          "flocking",
          "flocking",
          "flocking",
          "flocking",
          "flocking",
          "flocking",
          "flocking",
          "flocking",
          "flocking",
          "flocking",
          "flocking",
          "flocking",
          "flocking",
          "flocking",
          "flocking",
          "flocking",
          "flocking",
          "flocking",
          "flocking",
          "flocking",
          "flocking",
          "flocking",
          "flocking",
          "flocking"
         ],
         "x0": " ",
         "xaxis": "x",
         "y": [
          0,
          0,
          0,
          0,
          0,
          0,
          0,
          0,
          0.01084187243106111,
          0,
          0,
          0,
          0,
          0,
          0,
          0,
          0,
          0,
          0,
          0,
          0.8381265704982367,
          0,
          0,
          0,
          0,
          0,
          0,
          0,
          0,
          0,
          0,
          0,
          0,
          0,
          0,
          0,
          0,
          0,
          0,
          0,
          0,
          0,
          0.5951894795406997,
          0,
          0,
          0,
          0.02666288699995339,
          0,
          0,
          0,
          0,
          0.6303406006368605,
          1.346320325005995,
          0,
          0,
          0,
          0,
          0,
          0,
          0,
          0,
          0,
          0,
          0,
          0,
          0,
          0,
          1.1310735912513195,
          0.0023708010959557495,
          172.21336484415767,
          89.93181718977782,
          0,
          0,
          0,
          0,
          0,
          0,
          0,
          0,
          0,
          0,
          0.30462453834939357,
          0,
          0,
          0,
          0,
          0,
          0,
          0,
          0.1469468894891965,
          0,
          0,
          0,
          0,
          0,
          0,
          0,
          0,
          0,
          0,
          0,
          0,
          0,
          0,
          0,
          0,
          0,
          0,
          0,
          0.0160856757058386,
          0.11713272729262725,
          0,
          0,
          0,
          0,
          0.006968565267758189,
          0,
          0,
          0.09001155763751645,
          0,
          0,
          0,
          0,
          0,
          0,
          0,
          0,
          0,
          0,
          0.4786762416899634,
          0.2832340441765146,
          0,
          0,
          0,
          0,
          0,
          0,
          0,
          0.10950448007592234,
          0,
          0,
          0,
          0,
          0.007943985586590829,
          0,
          0.04872498774996058,
          0,
          0,
          0,
          0,
          0,
          0,
          0,
          0,
          0,
          0,
          0,
          0,
          0,
          0,
          0,
          0,
          0.6842399784211659,
          0,
          0,
          0,
          0,
          0,
          0,
          0,
          0,
          0,
          0,
          0,
          0,
          0,
          0,
          0,
          0,
          0,
          0,
          0,
          0,
          0,
          0,
          0.7000593312238766,
          0,
          0,
          0,
          0,
          0,
          0.6212367014641204,
          0,
          0,
          0,
          0,
          0,
          0,
          0,
          0,
          0,
          0,
          0.034577613671214674,
          0.6256047202431918,
          0,
          0,
          0,
          0,
          0,
          0,
          0,
          0,
          0,
          0,
          0,
          0,
          0,
          0,
          0,
          0,
          0,
          1.733989889682038,
          0,
          0,
          0,
          0.9678312196607153,
          0,
          0,
          0,
          0,
          0,
          0,
          0,
          0,
          0,
          0,
          0,
          0,
          0,
          0,
          0,
          0,
          0,
          0,
          0,
          0,
          0,
          0,
          0,
          0,
          0,
          0.0982259921578988,
          0,
          0,
          0,
          0,
          0,
          0,
          0,
          0,
          0,
          0.14676288668536083,
          0.04112636835006919,
          0,
          0,
          0,
          0,
          0,
          0,
          0,
          0,
          0,
          0,
          0,
          0,
          0,
          0,
          0,
          0,
          0.16004703539132334,
          0,
          0,
          0,
          0,
          0,
          0,
          0,
          0,
          0,
          0,
          0,
          0,
          0,
          0,
          0,
          0,
          0,
          0,
          0,
          0,
          0,
          0.1616496288539001,
          0,
          0,
          0,
          0,
          0,
          0,
          0,
          0,
          0,
          0,
          0,
          0,
          0,
          0,
          0,
          0,
          0,
          0,
          0,
          0,
          0,
          0,
          0,
          0,
          0,
          0,
          0,
          0,
          0,
          0,
          0,
          0,
          0,
          0,
          0,
          0,
          0,
          0,
          0,
          0,
          0,
          0,
          0,
          0,
          0,
          0,
          0,
          0.33682398125261026,
          0,
          0,
          0,
          0,
          0,
          0,
          0,
          0,
          0,
          0,
          0,
          0,
          0,
          0,
          0,
          0,
          0,
          0,
          0,
          0,
          0,
          0,
          0,
          0,
          0,
          0,
          0,
          0,
          0,
          0,
          0,
          0,
          0,
          0,
          0,
          0,
          0,
          0,
          0,
          0,
          0,
          0,
          0,
          0,
          0,
          0,
          0,
          0,
          0,
          0,
          0,
          0,
          0,
          0,
          0,
          0,
          0,
          0,
          0,
          0,
          0,
          0,
          0,
          0,
          0,
          0.4733487923144175,
          0,
          0,
          0,
          0,
          0,
          0,
          0,
          0,
          0,
          0,
          0,
          0,
          0,
          0,
          0,
          0,
          0,
          0,
          0,
          0,
          0,
          0,
          0,
          0,
          0,
          0,
          0.9103491521044332,
          0,
          0,
          0,
          0,
          0,
          0,
          0,
          0,
          0,
          0,
          0,
          0,
          0,
          0,
          0,
          0,
          0,
          0,
          0,
          0,
          0,
          0,
          0.3690548735194082,
          0,
          0,
          0,
          0,
          0,
          0,
          0,
          0,
          0,
          0,
          0,
          0,
          0,
          0,
          0,
          0,
          0,
          0,
          0,
          0,
          0,
          0,
          0,
          0,
          0,
          0,
          0,
          0,
          0,
          0,
          0,
          0,
          0,
          0,
          0,
          0,
          0,
          0,
          0,
          0.2685112011879164,
          0,
          0,
          0,
          0,
          0,
          0,
          0.021250347027904223,
          0.5464185923489109,
          0.20894997215897765,
          0,
          0,
          0,
          0,
          0,
          0,
          0,
          0,
          0,
          0,
          0,
          0,
          0,
          0,
          0,
          0,
          0,
          0,
          0,
          0,
          0,
          0,
          0,
          0,
          0,
          0,
          0,
          0,
          0.5046862839276248,
          0.10348016215869708,
          0,
          0,
          0,
          0,
          0,
          0,
          0,
          0,
          0,
          0,
          0.5362425944825694,
          0.2819271270223281,
          6.744950912315064,
          0,
          0,
          0,
          0,
          0,
          0,
          0,
          0,
          0,
          0,
          1.5614360310275133,
          0,
          0,
          0,
          0,
          0,
          0,
          0,
          0,
          0,
          0,
          0.09970381845538971,
          0,
          0,
          0,
          0.21421126120286493,
          0,
          0,
          0,
          0,
          0,
          0,
          2.5919888615075632,
          0,
          0,
          0.8278936617426549,
          0.3223912105818523,
          0,
          0,
          3.7996975868520955,
          0,
          0.8871569852076662,
          7.905338416236068,
          0,
          0,
          0,
          0,
          0,
          0,
          0,
          0,
          0,
          0,
          0,
          0,
          0,
          0,
          1.8186888062631905,
          0.0023708010959557495,
          172.19802397957406,
          64.9876442930388,
          0.6634431341966727,
          0,
          0,
          0,
          0.1357610518921946,
          0,
          0,
          0,
          0,
          0,
          0.8297319656232901,
          0,
          0,
          0,
          0,
          0,
          0,
          0,
          0,
          0,
          0,
          0,
          0,
          0,
          0,
          0,
          0,
          0,
          0,
          0,
          0,
          0,
          0,
          0,
          0,
          0,
          0,
          0,
          0.6170238432339664,
          0.14483935671657291,
          0,
          0.28329720390698876,
          0,
          0,
          6.2353660346575,
          2.0291570152885123,
          0,
          0.27425927262396876,
          0,
          0,
          0,
          0.07581526602016939,
          0,
          0,
          0,
          0,
          0,
          0,
          0.7535187974318045,
          0.2832340441765146,
          0,
          0,
          0,
          0,
          0,
          0.7601073175423947,
          0,
          0.34831118520241405,
          0,
          0,
          0.3019849060320782,
          0.038152184286632924,
          0.4071163144077833,
          0.6114267970640689,
          0.17051594754223304,
          0.058898184286869174,
          0,
          0,
          0,
          0,
          0,
          0,
          0,
          0,
          0,
          0,
          0,
          0,
          0,
          0,
          0,
          6.647615232108546,
          0,
          0,
          0,
          0,
          0,
          0,
          0,
          0,
          0,
          0,
          0,
          0,
          0.6965473165817693,
          0,
          0,
          0,
          0,
          0,
          0,
          0.313709778879295,
          0,
          0,
          1.1247402579166381,
          0,
          0,
          0,
          0,
          0,
          0,
          0,
          0,
          0,
          0,
          0.7758596609295031,
          0,
          0,
          0,
          0,
          0,
          0.25863698875137797,
          1.0508945009666018,
          0.011459997850467696,
          1.0482338490786218,
          0,
          0.9667785479475369,
          0.8936528682611511,
          0,
          0,
          0,
          0,
          0,
          0,
          0,
          0,
          0,
          0,
          0,
          0,
          3.1631669514532006,
          0.008118711408656174,
          0,
          0,
          5.058895479007891,
          0.6530865328791998,
          1.0642379023759125,
          0,
          0,
          0,
          0,
          0,
          0,
          0,
          0,
          0,
          0,
          0,
          0,
          0,
          0,
          0,
          0,
          0,
          0,
          0,
          0,
          0,
          0.18126292692508628,
          0,
          0.26852246759970166,
          1.48563362510088,
          0,
          0,
          0,
          0,
          0,
          0,
          0,
          0,
          0.2768167985555098,
          0.04112636835006919,
          0,
          0,
          0,
          0,
          1.8047979243335974,
          0,
          0,
          0,
          0.9173545872869054,
          0.5023546844779898,
          0,
          0,
          0,
          0,
          0,
          0,
          1.222811122802937,
          0,
          0,
          0,
          2.7835969030301806,
          0,
          0,
          0,
          0,
          0,
          0,
          0,
          0,
          0,
          0,
          0.6745529623333486,
          0,
          0,
          0,
          0,
          0,
          0,
          1.9455607375815471,
          0,
          0,
          0,
          0,
          0,
          0,
          0,
          0,
          0,
          0,
          1.0988703390530945,
          0,
          0,
          0,
          0,
          0,
          0,
          0,
          0,
          0,
          0,
          0,
          0,
          0,
          0.09863481708772134,
          0,
          0,
          0,
          0,
          0,
          0,
          0,
          0,
          0,
          0,
          0,
          0,
          0,
          0,
          0,
          0,
          1.9246461956040315,
          0,
          0,
          0,
          0,
          0,
          3.93316451392213,
          1.3060290490410948,
          0,
          0,
          0,
          0,
          0,
          0,
          0,
          0,
          0,
          0,
          0,
          0,
          0,
          0,
          0,
          0,
          0,
          0,
          0,
          0,
          0,
          0,
          0,
          0,
          0,
          0,
          0,
          0,
          0,
          0,
          0,
          0,
          0,
          0,
          0,
          0.3299164237265464,
          0,
          0,
          0,
          0,
          0,
          0,
          0,
          0,
          0,
          0,
          0.0178733317768842,
          1.684529006195528,
          0,
          0,
          0,
          0,
          0,
          0,
          0,
          0,
          0,
          3.0234992607848046,
          0,
          0,
          0,
          0.24335085356189742,
          0,
          0,
          1.1400712940109707,
          0,
          0,
          0,
          0,
          0,
          0,
          0,
          5.11913174682148,
          0,
          0,
          0,
          0,
          0,
          0,
          0,
          0,
          0,
          0.10576576981646076,
          0.3721427378437823,
          0,
          0,
          0.970732176290781,
          0,
          0,
          0,
          0,
          5.2304104487742755,
          0,
          0,
          0,
          0,
          0,
          0.19728154624858787,
          0,
          0,
          0,
          0,
          0,
          0,
          0,
          0,
          0,
          0,
          0,
          0,
          0,
          0,
          0.06884851861093805,
          0,
          0.3690548735194082,
          0,
          0.041372716163840015,
          0.040455529504543467,
          0,
          0,
          0,
          0.31407406534115845,
          0,
          0,
          0,
          0,
          0,
          0.19031385078941862,
          0,
          0,
          0,
          0,
          0,
          0,
          0,
          0,
          0,
          0,
          0,
          0,
          0,
          0,
          0,
          0,
          0,
          6.4641728101356355,
          0,
          0,
          0.45114007455248756,
          0,
          0,
          0,
          0,
          0,
          3.1806013014286276,
          0,
          0,
          0,
          0,
          0,
          0.4334164317872886,
          0.534843696229917,
          0.5464185923489109,
          0.20894997215897765,
          0,
          0.9244179284488744,
          0,
          0,
          0,
          0,
          0,
          0,
          0.7218112209995577,
          0,
          0,
          0,
          0,
          0.29648535307958074,
          0.2672516974137079,
          1.1242814756104673,
          1.446974824547588,
          0,
          0,
          0,
          0,
          0,
          0,
          0,
          0,
          0,
          0,
          0,
          1.6540088979566374,
          0.10348016215869708,
          0,
          0,
          0,
          0,
          0,
          0,
          0,
          0,
          0,
          0,
          0,
          0.031156474289535455,
          0.25653950869842995,
          0,
          0,
          0,
          0,
          0,
          0,
          0,
          0,
          0,
          0,
          1.0093459012528254,
          0,
          0,
          0,
          0,
          0,
          0,
          0,
          0,
          0,
          0.007866112076396049,
          0,
          0,
          0,
          1.7421193016111016,
          0,
          0,
          0,
          0,
          0,
          0,
          0,
          2.53874770013597,
          0,
          0,
          0.4477446463430932,
          0.049343788446789646,
          0,
          0,
          1.4172246494092962,
          0,
          0.7036632854650636,
          7.581877269491016,
          0,
          0,
          0,
          0,
          0,
          0,
          0.0015526052504443405,
          0,
          0,
          0,
          0,
          0,
          0,
          0,
          2.0390552748945376,
          0.1300926040038609,
          172.17904310512063,
          66.83283436532162,
          0,
          0,
          0,
          0,
          0,
          0,
          0,
          0,
          0,
          0,
          0.6291095215266767,
          0,
          0,
          0,
          0,
          0,
          0,
          0,
          0,
          0,
          0,
          0,
          0,
          0,
          0,
          0,
          0,
          0,
          0,
          0,
          0,
          0,
          0,
          0,
          0,
          0,
          0,
          0,
          0.5115506151944534,
          0.18845191241267503,
          0,
          0,
          0,
          0,
          0,
          0,
          0,
          0.2551888433685582,
          0,
          0,
          0,
          0,
          0,
          0,
          0,
          0,
          0,
          0,
          0.21658928584621825,
          0.42379248275567666,
          0,
          0,
          0,
          0,
          0,
          0.20731631306157108,
          0,
          0.18904509226300037,
          0,
          0,
          0,
          0,
          0.06053949987042339,
          0,
          0.307040076270769,
          0,
          0,
          0,
          0,
          0,
          0,
          0,
          0,
          0,
          0,
          0,
          0,
          0,
          0,
          0,
          0,
          11.025716720427281,
          0,
          0,
          0,
          0,
          0,
          0,
          0,
          0,
          0,
          0.055340166507783006,
          0,
          0,
          0,
          0,
          0,
          0,
          0,
          0,
          0,
          0.0886282299613994,
          0,
          0,
          1.2300190832632687,
          0,
          0,
          0,
          0,
          0,
          0,
          0,
          0,
          0,
          0,
          0.07187201136659858,
          0,
          0,
          0,
          0,
          0,
          0.10442200093029375,
          1.1390805582131134,
          0,
          0,
          0,
          0.0951736851143463,
          0.12163899747364834,
          0,
          0,
          0,
          0,
          0,
          0,
          0,
          0,
          0,
          0,
          0,
          0,
          2.2989003956008847,
          0,
          0,
          0,
          2.063439108318656,
          0,
          0.5105478739861183,
          0,
          0,
          0,
          0,
          0,
          0,
          0,
          0,
          0,
          0,
          0,
          0,
          0,
          0,
          0,
          0,
          0,
          0,
          0,
          0,
          0,
          0,
          0,
          0.12865948438147348,
          0,
          0,
          0,
          0,
          0,
          0,
          0,
          0,
          0,
          0.2033543527653797,
          0.2693100093200661,
          0,
          0,
          0,
          0,
          0.30448417394486166,
          0,
          0,
          0,
          0,
          0,
          0,
          0,
          0,
          0,
          0,
          0,
          1.1185285120973691,
          0,
          0,
          0,
          0,
          0,
          0,
          0,
          0,
          0,
          0,
          0,
          0,
          0,
          0,
          0.9763634628320558,
          0,
          0,
          0,
          0,
          0,
          0,
          2.224226763793602,
          0,
          0,
          0,
          0,
          0,
          0,
          0,
          0,
          0,
          0,
          0,
          0,
          0,
          0,
          0,
          0,
          0,
          0,
          0,
          0,
          0,
          0,
          0,
          0,
          0,
          0,
          0,
          0,
          0,
          0,
          0,
          0,
          0,
          0,
          0,
          0,
          0,
          0,
          0,
          0,
          0,
          0.9818469605445922,
          0,
          0,
          0,
          0,
          0,
          2.797196590159164,
          0,
          0,
          0,
          0,
          0,
          0,
          0,
          0,
          0,
          0,
          0,
          0,
          0,
          0,
          0,
          0,
          0,
          0,
          0,
          0,
          0,
          0,
          0,
          0,
          0,
          0,
          0,
          0,
          0,
          0,
          0,
          0,
          0,
          0,
          0,
          0,
          0,
          0,
          0,
          0,
          0,
          0,
          0,
          0,
          0,
          0,
          0,
          0,
          0,
          0,
          0,
          0,
          0,
          0,
          0,
          0,
          0,
          0,
          0.16252063491735563,
          0,
          0,
          0,
          0.1909343880252486,
          0,
          0,
          1.1718138717364746,
          0,
          0,
          0,
          0,
          0,
          0,
          0,
          0,
          0,
          0,
          0,
          0,
          0,
          0,
          0,
          0,
          0,
          0.05312593066255202,
          0.03485632055099259,
          0,
          0,
          0,
          0,
          0,
          0,
          0,
          10.282118476855954,
          0,
          0,
          0,
          0,
          0,
          0,
          0,
          0,
          0.9059748547987754,
          0,
          0,
          0,
          0,
          0,
          0,
          0,
          0,
          0,
          0,
          0,
          0,
          0,
          0.597960836944679,
          0,
          0,
          0,
          0,
          0,
          0,
          0.016975779748499134,
          0,
          0,
          0,
          0,
          0,
          0,
          0,
          0,
          0,
          0,
          0,
          0,
          0,
          0,
          0,
          0,
          0,
          0,
          0,
          0,
          0,
          0,
          0,
          15.089999488767964,
          0,
          0,
          0,
          0,
          0,
          0,
          0,
          0,
          0.5269727397585805,
          0,
          0,
          0,
          0,
          0,
          0,
          0.17792790075614637,
          1.0408460729761893,
          0.21373477348735254,
          0,
          0,
          0,
          0,
          0,
          0,
          0,
          0,
          0,
          0,
          0,
          0,
          0,
          0.1924596623792248,
          0,
          0,
          0.39092514376082454,
          0,
          0,
          0,
          0,
          0,
          0,
          0,
          0,
          0,
          0,
          0,
          0.733434396868467,
          0.10342654493661799,
          0,
          0,
          0
         ],
         "y0": " ",
         "yaxis": "y"
        },
        {
         "line": {
          "color": "green",
          "width": 2
         },
         "mode": "lines",
         "name": "mean",
         "showlegend": true,
         "type": "scatter",
         "x": [
          "hj_naive",
          "hj_reactive",
          "flocking"
         ],
         "y": [
          0.5073981506901873,
          0.6602556119650708,
          0.5833058160461944
         ]
        }
       ],
       "layout": {
        "boxmode": "group",
        "legend": {
         "tracegroupgap": 0
        },
        "margin": {
         "t": 60
        },
        "template": {
         "data": {
          "bar": [
           {
            "error_x": {
             "color": "#2a3f5f"
            },
            "error_y": {
             "color": "#2a3f5f"
            },
            "marker": {
             "line": {
              "color": "#E5ECF6",
              "width": 0.5
             },
             "pattern": {
              "fillmode": "overlay",
              "size": 10,
              "solidity": 0.2
             }
            },
            "type": "bar"
           }
          ],
          "barpolar": [
           {
            "marker": {
             "line": {
              "color": "#E5ECF6",
              "width": 0.5
             },
             "pattern": {
              "fillmode": "overlay",
              "size": 10,
              "solidity": 0.2
             }
            },
            "type": "barpolar"
           }
          ],
          "carpet": [
           {
            "aaxis": {
             "endlinecolor": "#2a3f5f",
             "gridcolor": "white",
             "linecolor": "white",
             "minorgridcolor": "white",
             "startlinecolor": "#2a3f5f"
            },
            "baxis": {
             "endlinecolor": "#2a3f5f",
             "gridcolor": "white",
             "linecolor": "white",
             "minorgridcolor": "white",
             "startlinecolor": "#2a3f5f"
            },
            "type": "carpet"
           }
          ],
          "choropleth": [
           {
            "colorbar": {
             "outlinewidth": 0,
             "ticks": ""
            },
            "type": "choropleth"
           }
          ],
          "contour": [
           {
            "colorbar": {
             "outlinewidth": 0,
             "ticks": ""
            },
            "colorscale": [
             [
              0,
              "#0d0887"
             ],
             [
              0.1111111111111111,
              "#46039f"
             ],
             [
              0.2222222222222222,
              "#7201a8"
             ],
             [
              0.3333333333333333,
              "#9c179e"
             ],
             [
              0.4444444444444444,
              "#bd3786"
             ],
             [
              0.5555555555555556,
              "#d8576b"
             ],
             [
              0.6666666666666666,
              "#ed7953"
             ],
             [
              0.7777777777777778,
              "#fb9f3a"
             ],
             [
              0.8888888888888888,
              "#fdca26"
             ],
             [
              1,
              "#f0f921"
             ]
            ],
            "type": "contour"
           }
          ],
          "contourcarpet": [
           {
            "colorbar": {
             "outlinewidth": 0,
             "ticks": ""
            },
            "type": "contourcarpet"
           }
          ],
          "heatmap": [
           {
            "colorbar": {
             "outlinewidth": 0,
             "ticks": ""
            },
            "colorscale": [
             [
              0,
              "#0d0887"
             ],
             [
              0.1111111111111111,
              "#46039f"
             ],
             [
              0.2222222222222222,
              "#7201a8"
             ],
             [
              0.3333333333333333,
              "#9c179e"
             ],
             [
              0.4444444444444444,
              "#bd3786"
             ],
             [
              0.5555555555555556,
              "#d8576b"
             ],
             [
              0.6666666666666666,
              "#ed7953"
             ],
             [
              0.7777777777777778,
              "#fb9f3a"
             ],
             [
              0.8888888888888888,
              "#fdca26"
             ],
             [
              1,
              "#f0f921"
             ]
            ],
            "type": "heatmap"
           }
          ],
          "heatmapgl": [
           {
            "colorbar": {
             "outlinewidth": 0,
             "ticks": ""
            },
            "colorscale": [
             [
              0,
              "#0d0887"
             ],
             [
              0.1111111111111111,
              "#46039f"
             ],
             [
              0.2222222222222222,
              "#7201a8"
             ],
             [
              0.3333333333333333,
              "#9c179e"
             ],
             [
              0.4444444444444444,
              "#bd3786"
             ],
             [
              0.5555555555555556,
              "#d8576b"
             ],
             [
              0.6666666666666666,
              "#ed7953"
             ],
             [
              0.7777777777777778,
              "#fb9f3a"
             ],
             [
              0.8888888888888888,
              "#fdca26"
             ],
             [
              1,
              "#f0f921"
             ]
            ],
            "type": "heatmapgl"
           }
          ],
          "histogram": [
           {
            "marker": {
             "pattern": {
              "fillmode": "overlay",
              "size": 10,
              "solidity": 0.2
             }
            },
            "type": "histogram"
           }
          ],
          "histogram2d": [
           {
            "colorbar": {
             "outlinewidth": 0,
             "ticks": ""
            },
            "colorscale": [
             [
              0,
              "#0d0887"
             ],
             [
              0.1111111111111111,
              "#46039f"
             ],
             [
              0.2222222222222222,
              "#7201a8"
             ],
             [
              0.3333333333333333,
              "#9c179e"
             ],
             [
              0.4444444444444444,
              "#bd3786"
             ],
             [
              0.5555555555555556,
              "#d8576b"
             ],
             [
              0.6666666666666666,
              "#ed7953"
             ],
             [
              0.7777777777777778,
              "#fb9f3a"
             ],
             [
              0.8888888888888888,
              "#fdca26"
             ],
             [
              1,
              "#f0f921"
             ]
            ],
            "type": "histogram2d"
           }
          ],
          "histogram2dcontour": [
           {
            "colorbar": {
             "outlinewidth": 0,
             "ticks": ""
            },
            "colorscale": [
             [
              0,
              "#0d0887"
             ],
             [
              0.1111111111111111,
              "#46039f"
             ],
             [
              0.2222222222222222,
              "#7201a8"
             ],
             [
              0.3333333333333333,
              "#9c179e"
             ],
             [
              0.4444444444444444,
              "#bd3786"
             ],
             [
              0.5555555555555556,
              "#d8576b"
             ],
             [
              0.6666666666666666,
              "#ed7953"
             ],
             [
              0.7777777777777778,
              "#fb9f3a"
             ],
             [
              0.8888888888888888,
              "#fdca26"
             ],
             [
              1,
              "#f0f921"
             ]
            ],
            "type": "histogram2dcontour"
           }
          ],
          "mesh3d": [
           {
            "colorbar": {
             "outlinewidth": 0,
             "ticks": ""
            },
            "type": "mesh3d"
           }
          ],
          "parcoords": [
           {
            "line": {
             "colorbar": {
              "outlinewidth": 0,
              "ticks": ""
             }
            },
            "type": "parcoords"
           }
          ],
          "pie": [
           {
            "automargin": true,
            "type": "pie"
           }
          ],
          "scatter": [
           {
            "fillpattern": {
             "fillmode": "overlay",
             "size": 10,
             "solidity": 0.2
            },
            "type": "scatter"
           }
          ],
          "scatter3d": [
           {
            "line": {
             "colorbar": {
              "outlinewidth": 0,
              "ticks": ""
             }
            },
            "marker": {
             "colorbar": {
              "outlinewidth": 0,
              "ticks": ""
             }
            },
            "type": "scatter3d"
           }
          ],
          "scattercarpet": [
           {
            "marker": {
             "colorbar": {
              "outlinewidth": 0,
              "ticks": ""
             }
            },
            "type": "scattercarpet"
           }
          ],
          "scattergeo": [
           {
            "marker": {
             "colorbar": {
              "outlinewidth": 0,
              "ticks": ""
             }
            },
            "type": "scattergeo"
           }
          ],
          "scattergl": [
           {
            "marker": {
             "colorbar": {
              "outlinewidth": 0,
              "ticks": ""
             }
            },
            "type": "scattergl"
           }
          ],
          "scattermapbox": [
           {
            "marker": {
             "colorbar": {
              "outlinewidth": 0,
              "ticks": ""
             }
            },
            "type": "scattermapbox"
           }
          ],
          "scatterpolar": [
           {
            "marker": {
             "colorbar": {
              "outlinewidth": 0,
              "ticks": ""
             }
            },
            "type": "scatterpolar"
           }
          ],
          "scatterpolargl": [
           {
            "marker": {
             "colorbar": {
              "outlinewidth": 0,
              "ticks": ""
             }
            },
            "type": "scatterpolargl"
           }
          ],
          "scatterternary": [
           {
            "marker": {
             "colorbar": {
              "outlinewidth": 0,
              "ticks": ""
             }
            },
            "type": "scatterternary"
           }
          ],
          "surface": [
           {
            "colorbar": {
             "outlinewidth": 0,
             "ticks": ""
            },
            "colorscale": [
             [
              0,
              "#0d0887"
             ],
             [
              0.1111111111111111,
              "#46039f"
             ],
             [
              0.2222222222222222,
              "#7201a8"
             ],
             [
              0.3333333333333333,
              "#9c179e"
             ],
             [
              0.4444444444444444,
              "#bd3786"
             ],
             [
              0.5555555555555556,
              "#d8576b"
             ],
             [
              0.6666666666666666,
              "#ed7953"
             ],
             [
              0.7777777777777778,
              "#fb9f3a"
             ],
             [
              0.8888888888888888,
              "#fdca26"
             ],
             [
              1,
              "#f0f921"
             ]
            ],
            "type": "surface"
           }
          ],
          "table": [
           {
            "cells": {
             "fill": {
              "color": "#EBF0F8"
             },
             "line": {
              "color": "white"
             }
            },
            "header": {
             "fill": {
              "color": "#C8D4E3"
             },
             "line": {
              "color": "white"
             }
            },
            "type": "table"
           }
          ]
         },
         "layout": {
          "annotationdefaults": {
           "arrowcolor": "#2a3f5f",
           "arrowhead": 0,
           "arrowwidth": 1
          },
          "autotypenumbers": "strict",
          "coloraxis": {
           "colorbar": {
            "outlinewidth": 0,
            "ticks": ""
           }
          },
          "colorscale": {
           "diverging": [
            [
             0,
             "#8e0152"
            ],
            [
             0.1,
             "#c51b7d"
            ],
            [
             0.2,
             "#de77ae"
            ],
            [
             0.3,
             "#f1b6da"
            ],
            [
             0.4,
             "#fde0ef"
            ],
            [
             0.5,
             "#f7f7f7"
            ],
            [
             0.6,
             "#e6f5d0"
            ],
            [
             0.7,
             "#b8e186"
            ],
            [
             0.8,
             "#7fbc41"
            ],
            [
             0.9,
             "#4d9221"
            ],
            [
             1,
             "#276419"
            ]
           ],
           "sequential": [
            [
             0,
             "#0d0887"
            ],
            [
             0.1111111111111111,
             "#46039f"
            ],
            [
             0.2222222222222222,
             "#7201a8"
            ],
            [
             0.3333333333333333,
             "#9c179e"
            ],
            [
             0.4444444444444444,
             "#bd3786"
            ],
            [
             0.5555555555555556,
             "#d8576b"
            ],
            [
             0.6666666666666666,
             "#ed7953"
            ],
            [
             0.7777777777777778,
             "#fb9f3a"
            ],
            [
             0.8888888888888888,
             "#fdca26"
            ],
            [
             1,
             "#f0f921"
            ]
           ],
           "sequentialminus": [
            [
             0,
             "#0d0887"
            ],
            [
             0.1111111111111111,
             "#46039f"
            ],
            [
             0.2222222222222222,
             "#7201a8"
            ],
            [
             0.3333333333333333,
             "#9c179e"
            ],
            [
             0.4444444444444444,
             "#bd3786"
            ],
            [
             0.5555555555555556,
             "#d8576b"
            ],
            [
             0.6666666666666666,
             "#ed7953"
            ],
            [
             0.7777777777777778,
             "#fb9f3a"
            ],
            [
             0.8888888888888888,
             "#fdca26"
            ],
            [
             1,
             "#f0f921"
            ]
           ]
          },
          "colorway": [
           "#636efa",
           "#EF553B",
           "#00cc96",
           "#ab63fa",
           "#FFA15A",
           "#19d3f3",
           "#FF6692",
           "#B6E880",
           "#FF97FF",
           "#FECB52"
          ],
          "font": {
           "color": "#2a3f5f"
          },
          "geo": {
           "bgcolor": "white",
           "lakecolor": "white",
           "landcolor": "#E5ECF6",
           "showlakes": true,
           "showland": true,
           "subunitcolor": "white"
          },
          "hoverlabel": {
           "align": "left"
          },
          "hovermode": "closest",
          "mapbox": {
           "style": "light"
          },
          "paper_bgcolor": "white",
          "plot_bgcolor": "#E5ECF6",
          "polar": {
           "angularaxis": {
            "gridcolor": "white",
            "linecolor": "white",
            "ticks": ""
           },
           "bgcolor": "#E5ECF6",
           "radialaxis": {
            "gridcolor": "white",
            "linecolor": "white",
            "ticks": ""
           }
          },
          "scene": {
           "xaxis": {
            "backgroundcolor": "#E5ECF6",
            "gridcolor": "white",
            "gridwidth": 2,
            "linecolor": "white",
            "showbackground": true,
            "ticks": "",
            "zerolinecolor": "white"
           },
           "yaxis": {
            "backgroundcolor": "#E5ECF6",
            "gridcolor": "white",
            "gridwidth": 2,
            "linecolor": "white",
            "showbackground": true,
            "ticks": "",
            "zerolinecolor": "white"
           },
           "zaxis": {
            "backgroundcolor": "#E5ECF6",
            "gridcolor": "white",
            "gridwidth": 2,
            "linecolor": "white",
            "showbackground": true,
            "ticks": "",
            "zerolinecolor": "white"
           }
          },
          "shapedefaults": {
           "line": {
            "color": "#2a3f5f"
           }
          },
          "ternary": {
           "aaxis": {
            "gridcolor": "white",
            "linecolor": "white",
            "ticks": ""
           },
           "baxis": {
            "gridcolor": "white",
            "linecolor": "white",
            "ticks": ""
           },
           "bgcolor": "#E5ECF6",
           "caxis": {
            "gridcolor": "white",
            "linecolor": "white",
            "ticks": ""
           }
          },
          "title": {
           "x": 0.05
          },
          "xaxis": {
           "automargin": true,
           "gridcolor": "white",
           "linecolor": "white",
           "ticks": "",
           "title": {
            "standoff": 15
           },
           "zerolinecolor": "white",
           "zerolinewidth": 2
          },
          "yaxis": {
           "automargin": true,
           "gridcolor": "white",
           "linecolor": "white",
           "ticks": "",
           "title": {
            "standoff": 15
           },
           "zerolinecolor": "white",
           "zerolinewidth": 2
          }
         }
        },
        "title": {
         "text": "Mean minimum distance to target among all platforms"
        },
        "xaxis": {
         "anchor": "y",
         "domain": [
          0,
          1
         ],
         "title": {
          "text": "controllers"
         }
        },
        "yaxis": {
         "anchor": "x",
         "domain": [
          0,
          1
         ],
         "title": {
          "text": " [km]"
         },
         "type": "log"
        }
       }
      },
      "text/html": [
       "<div>                            <div id=\"c21adfa7-7b73-49a9-a8f5-1b4625485ba0\" class=\"plotly-graph-div\" style=\"height:525px; width:100%;\"></div>            <script type=\"text/javascript\">                require([\"plotly\"], function(Plotly) {                    window.PLOTLYENV=window.PLOTLYENV || {};                                    if (document.getElementById(\"c21adfa7-7b73-49a9-a8f5-1b4625485ba0\")) {                    Plotly.newPlot(                        \"c21adfa7-7b73-49a9-a8f5-1b4625485ba0\",                        [{\"alignmentgroup\":\"True\",\"hovertemplate\":\"variable=%{x}<br>value=%{y}<extra></extra>\",\"legendgroup\":\"\",\"marker\":{\"color\":\"#636efa\"},\"name\":\"\",\"notched\":false,\"offsetgroup\":\"\",\"orientation\":\"v\",\"showlegend\":false,\"x\":[\"hj_naive\",\"hj_naive\",\"hj_naive\",\"hj_naive\",\"hj_naive\",\"hj_naive\",\"hj_naive\",\"hj_naive\",\"hj_naive\",\"hj_naive\",\"hj_naive\",\"hj_naive\",\"hj_naive\",\"hj_naive\",\"hj_naive\",\"hj_naive\",\"hj_naive\",\"hj_naive\",\"hj_naive\",\"hj_naive\",\"hj_naive\",\"hj_naive\",\"hj_naive\",\"hj_naive\",\"hj_naive\",\"hj_naive\",\"hj_naive\",\"hj_naive\",\"hj_naive\",\"hj_naive\",\"hj_naive\",\"hj_naive\",\"hj_naive\",\"hj_naive\",\"hj_naive\",\"hj_naive\",\"hj_naive\",\"hj_naive\",\"hj_naive\",\"hj_naive\",\"hj_naive\",\"hj_naive\",\"hj_naive\",\"hj_naive\",\"hj_naive\",\"hj_naive\",\"hj_naive\",\"hj_naive\",\"hj_naive\",\"hj_naive\",\"hj_naive\",\"hj_naive\",\"hj_naive\",\"hj_naive\",\"hj_naive\",\"hj_naive\",\"hj_naive\",\"hj_naive\",\"hj_naive\",\"hj_naive\",\"hj_naive\",\"hj_naive\",\"hj_naive\",\"hj_naive\",\"hj_naive\",\"hj_naive\",\"hj_naive\",\"hj_naive\",\"hj_naive\",\"hj_naive\",\"hj_naive\",\"hj_naive\",\"hj_naive\",\"hj_naive\",\"hj_naive\",\"hj_naive\",\"hj_naive\",\"hj_naive\",\"hj_naive\",\"hj_naive\",\"hj_naive\",\"hj_naive\",\"hj_naive\",\"hj_naive\",\"hj_naive\",\"hj_naive\",\"hj_naive\",\"hj_naive\",\"hj_naive\",\"hj_naive\",\"hj_naive\",\"hj_naive\",\"hj_naive\",\"hj_naive\",\"hj_naive\",\"hj_naive\",\"hj_naive\",\"hj_naive\",\"hj_naive\",\"hj_naive\",\"hj_naive\",\"hj_naive\",\"hj_naive\",\"hj_naive\",\"hj_naive\",\"hj_naive\",\"hj_naive\",\"hj_naive\",\"hj_naive\",\"hj_naive\",\"hj_naive\",\"hj_naive\",\"hj_naive\",\"hj_naive\",\"hj_naive\",\"hj_naive\",\"hj_naive\",\"hj_naive\",\"hj_naive\",\"hj_naive\",\"hj_naive\",\"hj_naive\",\"hj_naive\",\"hj_naive\",\"hj_naive\",\"hj_naive\",\"hj_naive\",\"hj_naive\",\"hj_naive\",\"hj_naive\",\"hj_naive\",\"hj_naive\",\"hj_naive\",\"hj_naive\",\"hj_naive\",\"hj_naive\",\"hj_naive\",\"hj_naive\",\"hj_naive\",\"hj_naive\",\"hj_naive\",\"hj_naive\",\"hj_naive\",\"hj_naive\",\"hj_naive\",\"hj_naive\",\"hj_naive\",\"hj_naive\",\"hj_naive\",\"hj_naive\",\"hj_naive\",\"hj_naive\",\"hj_naive\",\"hj_naive\",\"hj_naive\",\"hj_naive\",\"hj_naive\",\"hj_naive\",\"hj_naive\",\"hj_naive\",\"hj_naive\",\"hj_naive\",\"hj_naive\",\"hj_naive\",\"hj_naive\",\"hj_naive\",\"hj_naive\",\"hj_naive\",\"hj_naive\",\"hj_naive\",\"hj_naive\",\"hj_naive\",\"hj_naive\",\"hj_naive\",\"hj_naive\",\"hj_naive\",\"hj_naive\",\"hj_naive\",\"hj_naive\",\"hj_naive\",\"hj_naive\",\"hj_naive\",\"hj_naive\",\"hj_naive\",\"hj_naive\",\"hj_naive\",\"hj_naive\",\"hj_naive\",\"hj_naive\",\"hj_naive\",\"hj_naive\",\"hj_naive\",\"hj_naive\",\"hj_naive\",\"hj_naive\",\"hj_naive\",\"hj_naive\",\"hj_naive\",\"hj_naive\",\"hj_naive\",\"hj_naive\",\"hj_naive\",\"hj_naive\",\"hj_naive\",\"hj_naive\",\"hj_naive\",\"hj_naive\",\"hj_naive\",\"hj_naive\",\"hj_naive\",\"hj_naive\",\"hj_naive\",\"hj_naive\",\"hj_naive\",\"hj_naive\",\"hj_naive\",\"hj_naive\",\"hj_naive\",\"hj_naive\",\"hj_naive\",\"hj_naive\",\"hj_naive\",\"hj_naive\",\"hj_naive\",\"hj_naive\",\"hj_naive\",\"hj_naive\",\"hj_naive\",\"hj_naive\",\"hj_naive\",\"hj_naive\",\"hj_naive\",\"hj_naive\",\"hj_naive\",\"hj_naive\",\"hj_naive\",\"hj_naive\",\"hj_naive\",\"hj_naive\",\"hj_naive\",\"hj_naive\",\"hj_naive\",\"hj_naive\",\"hj_naive\",\"hj_naive\",\"hj_naive\",\"hj_naive\",\"hj_naive\",\"hj_naive\",\"hj_naive\",\"hj_naive\",\"hj_naive\",\"hj_naive\",\"hj_naive\",\"hj_naive\",\"hj_naive\",\"hj_naive\",\"hj_naive\",\"hj_naive\",\"hj_naive\",\"hj_naive\",\"hj_naive\",\"hj_naive\",\"hj_naive\",\"hj_naive\",\"hj_naive\",\"hj_naive\",\"hj_naive\",\"hj_naive\",\"hj_naive\",\"hj_naive\",\"hj_naive\",\"hj_naive\",\"hj_naive\",\"hj_naive\",\"hj_naive\",\"hj_naive\",\"hj_naive\",\"hj_naive\",\"hj_naive\",\"hj_naive\",\"hj_naive\",\"hj_naive\",\"hj_naive\",\"hj_naive\",\"hj_naive\",\"hj_naive\",\"hj_naive\",\"hj_naive\",\"hj_naive\",\"hj_naive\",\"hj_naive\",\"hj_naive\",\"hj_naive\",\"hj_naive\",\"hj_naive\",\"hj_naive\",\"hj_naive\",\"hj_naive\",\"hj_naive\",\"hj_naive\",\"hj_naive\",\"hj_naive\",\"hj_naive\",\"hj_naive\",\"hj_naive\",\"hj_naive\",\"hj_naive\",\"hj_naive\",\"hj_naive\",\"hj_naive\",\"hj_naive\",\"hj_naive\",\"hj_naive\",\"hj_naive\",\"hj_naive\",\"hj_naive\",\"hj_naive\",\"hj_naive\",\"hj_naive\",\"hj_naive\",\"hj_naive\",\"hj_naive\",\"hj_naive\",\"hj_naive\",\"hj_naive\",\"hj_naive\",\"hj_naive\",\"hj_naive\",\"hj_naive\",\"hj_naive\",\"hj_naive\",\"hj_naive\",\"hj_naive\",\"hj_naive\",\"hj_naive\",\"hj_naive\",\"hj_naive\",\"hj_naive\",\"hj_naive\",\"hj_naive\",\"hj_naive\",\"hj_naive\",\"hj_naive\",\"hj_naive\",\"hj_naive\",\"hj_naive\",\"hj_naive\",\"hj_naive\",\"hj_naive\",\"hj_naive\",\"hj_naive\",\"hj_naive\",\"hj_naive\",\"hj_naive\",\"hj_naive\",\"hj_naive\",\"hj_naive\",\"hj_naive\",\"hj_naive\",\"hj_naive\",\"hj_naive\",\"hj_naive\",\"hj_naive\",\"hj_naive\",\"hj_naive\",\"hj_naive\",\"hj_naive\",\"hj_naive\",\"hj_naive\",\"hj_naive\",\"hj_naive\",\"hj_naive\",\"hj_naive\",\"hj_naive\",\"hj_naive\",\"hj_naive\",\"hj_naive\",\"hj_naive\",\"hj_naive\",\"hj_naive\",\"hj_naive\",\"hj_naive\",\"hj_naive\",\"hj_naive\",\"hj_naive\",\"hj_naive\",\"hj_naive\",\"hj_naive\",\"hj_naive\",\"hj_naive\",\"hj_naive\",\"hj_naive\",\"hj_naive\",\"hj_naive\",\"hj_naive\",\"hj_naive\",\"hj_naive\",\"hj_naive\",\"hj_naive\",\"hj_naive\",\"hj_naive\",\"hj_naive\",\"hj_naive\",\"hj_naive\",\"hj_naive\",\"hj_naive\",\"hj_naive\",\"hj_naive\",\"hj_naive\",\"hj_naive\",\"hj_naive\",\"hj_naive\",\"hj_naive\",\"hj_naive\",\"hj_naive\",\"hj_naive\",\"hj_naive\",\"hj_naive\",\"hj_naive\",\"hj_naive\",\"hj_naive\",\"hj_naive\",\"hj_naive\",\"hj_naive\",\"hj_naive\",\"hj_naive\",\"hj_naive\",\"hj_naive\",\"hj_naive\",\"hj_naive\",\"hj_naive\",\"hj_naive\",\"hj_naive\",\"hj_naive\",\"hj_naive\",\"hj_naive\",\"hj_naive\",\"hj_naive\",\"hj_naive\",\"hj_naive\",\"hj_naive\",\"hj_naive\",\"hj_naive\",\"hj_naive\",\"hj_naive\",\"hj_naive\",\"hj_naive\",\"hj_naive\",\"hj_naive\",\"hj_naive\",\"hj_naive\",\"hj_naive\",\"hj_naive\",\"hj_naive\",\"hj_naive\",\"hj_naive\",\"hj_naive\",\"hj_naive\",\"hj_naive\",\"hj_naive\",\"hj_naive\",\"hj_naive\",\"hj_naive\",\"hj_naive\",\"hj_naive\",\"hj_naive\",\"hj_naive\",\"hj_naive\",\"hj_naive\",\"hj_naive\",\"hj_naive\",\"hj_naive\",\"hj_naive\",\"hj_naive\",\"hj_naive\",\"hj_naive\",\"hj_naive\",\"hj_naive\",\"hj_naive\",\"hj_naive\",\"hj_naive\",\"hj_naive\",\"hj_naive\",\"hj_naive\",\"hj_naive\",\"hj_naive\",\"hj_naive\",\"hj_naive\",\"hj_naive\",\"hj_naive\",\"hj_naive\",\"hj_naive\",\"hj_naive\",\"hj_naive\",\"hj_naive\",\"hj_naive\",\"hj_naive\",\"hj_naive\",\"hj_naive\",\"hj_naive\",\"hj_naive\",\"hj_naive\",\"hj_naive\",\"hj_naive\",\"hj_naive\",\"hj_naive\",\"hj_naive\",\"hj_naive\",\"hj_naive\",\"hj_naive\",\"hj_naive\",\"hj_naive\",\"hj_naive\",\"hj_naive\",\"hj_naive\",\"hj_naive\",\"hj_naive\",\"hj_naive\",\"hj_naive\",\"hj_naive\",\"hj_naive\",\"hj_naive\",\"hj_naive\",\"hj_naive\",\"hj_naive\",\"hj_naive\",\"hj_naive\",\"hj_naive\",\"hj_naive\",\"hj_naive\",\"hj_naive\",\"hj_naive\",\"hj_naive\",\"hj_naive\",\"hj_naive\",\"hj_naive\",\"hj_naive\",\"hj_naive\",\"hj_naive\",\"hj_naive\",\"hj_naive\",\"hj_naive\",\"hj_naive\",\"hj_naive\",\"hj_naive\",\"hj_naive\",\"hj_naive\",\"hj_reactive\",\"hj_reactive\",\"hj_reactive\",\"hj_reactive\",\"hj_reactive\",\"hj_reactive\",\"hj_reactive\",\"hj_reactive\",\"hj_reactive\",\"hj_reactive\",\"hj_reactive\",\"hj_reactive\",\"hj_reactive\",\"hj_reactive\",\"hj_reactive\",\"hj_reactive\",\"hj_reactive\",\"hj_reactive\",\"hj_reactive\",\"hj_reactive\",\"hj_reactive\",\"hj_reactive\",\"hj_reactive\",\"hj_reactive\",\"hj_reactive\",\"hj_reactive\",\"hj_reactive\",\"hj_reactive\",\"hj_reactive\",\"hj_reactive\",\"hj_reactive\",\"hj_reactive\",\"hj_reactive\",\"hj_reactive\",\"hj_reactive\",\"hj_reactive\",\"hj_reactive\",\"hj_reactive\",\"hj_reactive\",\"hj_reactive\",\"hj_reactive\",\"hj_reactive\",\"hj_reactive\",\"hj_reactive\",\"hj_reactive\",\"hj_reactive\",\"hj_reactive\",\"hj_reactive\",\"hj_reactive\",\"hj_reactive\",\"hj_reactive\",\"hj_reactive\",\"hj_reactive\",\"hj_reactive\",\"hj_reactive\",\"hj_reactive\",\"hj_reactive\",\"hj_reactive\",\"hj_reactive\",\"hj_reactive\",\"hj_reactive\",\"hj_reactive\",\"hj_reactive\",\"hj_reactive\",\"hj_reactive\",\"hj_reactive\",\"hj_reactive\",\"hj_reactive\",\"hj_reactive\",\"hj_reactive\",\"hj_reactive\",\"hj_reactive\",\"hj_reactive\",\"hj_reactive\",\"hj_reactive\",\"hj_reactive\",\"hj_reactive\",\"hj_reactive\",\"hj_reactive\",\"hj_reactive\",\"hj_reactive\",\"hj_reactive\",\"hj_reactive\",\"hj_reactive\",\"hj_reactive\",\"hj_reactive\",\"hj_reactive\",\"hj_reactive\",\"hj_reactive\",\"hj_reactive\",\"hj_reactive\",\"hj_reactive\",\"hj_reactive\",\"hj_reactive\",\"hj_reactive\",\"hj_reactive\",\"hj_reactive\",\"hj_reactive\",\"hj_reactive\",\"hj_reactive\",\"hj_reactive\",\"hj_reactive\",\"hj_reactive\",\"hj_reactive\",\"hj_reactive\",\"hj_reactive\",\"hj_reactive\",\"hj_reactive\",\"hj_reactive\",\"hj_reactive\",\"hj_reactive\",\"hj_reactive\",\"hj_reactive\",\"hj_reactive\",\"hj_reactive\",\"hj_reactive\",\"hj_reactive\",\"hj_reactive\",\"hj_reactive\",\"hj_reactive\",\"hj_reactive\",\"hj_reactive\",\"hj_reactive\",\"hj_reactive\",\"hj_reactive\",\"hj_reactive\",\"hj_reactive\",\"hj_reactive\",\"hj_reactive\",\"hj_reactive\",\"hj_reactive\",\"hj_reactive\",\"hj_reactive\",\"hj_reactive\",\"hj_reactive\",\"hj_reactive\",\"hj_reactive\",\"hj_reactive\",\"hj_reactive\",\"hj_reactive\",\"hj_reactive\",\"hj_reactive\",\"hj_reactive\",\"hj_reactive\",\"hj_reactive\",\"hj_reactive\",\"hj_reactive\",\"hj_reactive\",\"hj_reactive\",\"hj_reactive\",\"hj_reactive\",\"hj_reactive\",\"hj_reactive\",\"hj_reactive\",\"hj_reactive\",\"hj_reactive\",\"hj_reactive\",\"hj_reactive\",\"hj_reactive\",\"hj_reactive\",\"hj_reactive\",\"hj_reactive\",\"hj_reactive\",\"hj_reactive\",\"hj_reactive\",\"hj_reactive\",\"hj_reactive\",\"hj_reactive\",\"hj_reactive\",\"hj_reactive\",\"hj_reactive\",\"hj_reactive\",\"hj_reactive\",\"hj_reactive\",\"hj_reactive\",\"hj_reactive\",\"hj_reactive\",\"hj_reactive\",\"hj_reactive\",\"hj_reactive\",\"hj_reactive\",\"hj_reactive\",\"hj_reactive\",\"hj_reactive\",\"hj_reactive\",\"hj_reactive\",\"hj_reactive\",\"hj_reactive\",\"hj_reactive\",\"hj_reactive\",\"hj_reactive\",\"hj_reactive\",\"hj_reactive\",\"hj_reactive\",\"hj_reactive\",\"hj_reactive\",\"hj_reactive\",\"hj_reactive\",\"hj_reactive\",\"hj_reactive\",\"hj_reactive\",\"hj_reactive\",\"hj_reactive\",\"hj_reactive\",\"hj_reactive\",\"hj_reactive\",\"hj_reactive\",\"hj_reactive\",\"hj_reactive\",\"hj_reactive\",\"hj_reactive\",\"hj_reactive\",\"hj_reactive\",\"hj_reactive\",\"hj_reactive\",\"hj_reactive\",\"hj_reactive\",\"hj_reactive\",\"hj_reactive\",\"hj_reactive\",\"hj_reactive\",\"hj_reactive\",\"hj_reactive\",\"hj_reactive\",\"hj_reactive\",\"hj_reactive\",\"hj_reactive\",\"hj_reactive\",\"hj_reactive\",\"hj_reactive\",\"hj_reactive\",\"hj_reactive\",\"hj_reactive\",\"hj_reactive\",\"hj_reactive\",\"hj_reactive\",\"hj_reactive\",\"hj_reactive\",\"hj_reactive\",\"hj_reactive\",\"hj_reactive\",\"hj_reactive\",\"hj_reactive\",\"hj_reactive\",\"hj_reactive\",\"hj_reactive\",\"hj_reactive\",\"hj_reactive\",\"hj_reactive\",\"hj_reactive\",\"hj_reactive\",\"hj_reactive\",\"hj_reactive\",\"hj_reactive\",\"hj_reactive\",\"hj_reactive\",\"hj_reactive\",\"hj_reactive\",\"hj_reactive\",\"hj_reactive\",\"hj_reactive\",\"hj_reactive\",\"hj_reactive\",\"hj_reactive\",\"hj_reactive\",\"hj_reactive\",\"hj_reactive\",\"hj_reactive\",\"hj_reactive\",\"hj_reactive\",\"hj_reactive\",\"hj_reactive\",\"hj_reactive\",\"hj_reactive\",\"hj_reactive\",\"hj_reactive\",\"hj_reactive\",\"hj_reactive\",\"hj_reactive\",\"hj_reactive\",\"hj_reactive\",\"hj_reactive\",\"hj_reactive\",\"hj_reactive\",\"hj_reactive\",\"hj_reactive\",\"hj_reactive\",\"hj_reactive\",\"hj_reactive\",\"hj_reactive\",\"hj_reactive\",\"hj_reactive\",\"hj_reactive\",\"hj_reactive\",\"hj_reactive\",\"hj_reactive\",\"hj_reactive\",\"hj_reactive\",\"hj_reactive\",\"hj_reactive\",\"hj_reactive\",\"hj_reactive\",\"hj_reactive\",\"hj_reactive\",\"hj_reactive\",\"hj_reactive\",\"hj_reactive\",\"hj_reactive\",\"hj_reactive\",\"hj_reactive\",\"hj_reactive\",\"hj_reactive\",\"hj_reactive\",\"hj_reactive\",\"hj_reactive\",\"hj_reactive\",\"hj_reactive\",\"hj_reactive\",\"hj_reactive\",\"hj_reactive\",\"hj_reactive\",\"hj_reactive\",\"hj_reactive\",\"hj_reactive\",\"hj_reactive\",\"hj_reactive\",\"hj_reactive\",\"hj_reactive\",\"hj_reactive\",\"hj_reactive\",\"hj_reactive\",\"hj_reactive\",\"hj_reactive\",\"hj_reactive\",\"hj_reactive\",\"hj_reactive\",\"hj_reactive\",\"hj_reactive\",\"hj_reactive\",\"hj_reactive\",\"hj_reactive\",\"hj_reactive\",\"hj_reactive\",\"hj_reactive\",\"hj_reactive\",\"hj_reactive\",\"hj_reactive\",\"hj_reactive\",\"hj_reactive\",\"hj_reactive\",\"hj_reactive\",\"hj_reactive\",\"hj_reactive\",\"hj_reactive\",\"hj_reactive\",\"hj_reactive\",\"hj_reactive\",\"hj_reactive\",\"hj_reactive\",\"hj_reactive\",\"hj_reactive\",\"hj_reactive\",\"hj_reactive\",\"hj_reactive\",\"hj_reactive\",\"hj_reactive\",\"hj_reactive\",\"hj_reactive\",\"hj_reactive\",\"hj_reactive\",\"hj_reactive\",\"hj_reactive\",\"hj_reactive\",\"hj_reactive\",\"hj_reactive\",\"hj_reactive\",\"hj_reactive\",\"hj_reactive\",\"hj_reactive\",\"hj_reactive\",\"hj_reactive\",\"hj_reactive\",\"hj_reactive\",\"hj_reactive\",\"hj_reactive\",\"hj_reactive\",\"hj_reactive\",\"hj_reactive\",\"hj_reactive\",\"hj_reactive\",\"hj_reactive\",\"hj_reactive\",\"hj_reactive\",\"hj_reactive\",\"hj_reactive\",\"hj_reactive\",\"hj_reactive\",\"hj_reactive\",\"hj_reactive\",\"hj_reactive\",\"hj_reactive\",\"hj_reactive\",\"hj_reactive\",\"hj_reactive\",\"hj_reactive\",\"hj_reactive\",\"hj_reactive\",\"hj_reactive\",\"hj_reactive\",\"hj_reactive\",\"hj_reactive\",\"hj_reactive\",\"hj_reactive\",\"hj_reactive\",\"hj_reactive\",\"hj_reactive\",\"hj_reactive\",\"hj_reactive\",\"hj_reactive\",\"hj_reactive\",\"hj_reactive\",\"hj_reactive\",\"hj_reactive\",\"hj_reactive\",\"hj_reactive\",\"hj_reactive\",\"hj_reactive\",\"hj_reactive\",\"hj_reactive\",\"hj_reactive\",\"hj_reactive\",\"hj_reactive\",\"hj_reactive\",\"hj_reactive\",\"hj_reactive\",\"hj_reactive\",\"hj_reactive\",\"hj_reactive\",\"hj_reactive\",\"hj_reactive\",\"hj_reactive\",\"hj_reactive\",\"hj_reactive\",\"hj_reactive\",\"hj_reactive\",\"hj_reactive\",\"hj_reactive\",\"hj_reactive\",\"hj_reactive\",\"hj_reactive\",\"hj_reactive\",\"hj_reactive\",\"hj_reactive\",\"hj_reactive\",\"hj_reactive\",\"hj_reactive\",\"hj_reactive\",\"hj_reactive\",\"hj_reactive\",\"hj_reactive\",\"hj_reactive\",\"hj_reactive\",\"hj_reactive\",\"hj_reactive\",\"hj_reactive\",\"hj_reactive\",\"hj_reactive\",\"hj_reactive\",\"hj_reactive\",\"hj_reactive\",\"hj_reactive\",\"hj_reactive\",\"hj_reactive\",\"hj_reactive\",\"hj_reactive\",\"hj_reactive\",\"hj_reactive\",\"hj_reactive\",\"hj_reactive\",\"hj_reactive\",\"hj_reactive\",\"hj_reactive\",\"hj_reactive\",\"hj_reactive\",\"hj_reactive\",\"hj_reactive\",\"hj_reactive\",\"hj_reactive\",\"hj_reactive\",\"hj_reactive\",\"hj_reactive\",\"hj_reactive\",\"hj_reactive\",\"hj_reactive\",\"hj_reactive\",\"hj_reactive\",\"hj_reactive\",\"hj_reactive\",\"hj_reactive\",\"hj_reactive\",\"hj_reactive\",\"hj_reactive\",\"hj_reactive\",\"hj_reactive\",\"hj_reactive\",\"hj_reactive\",\"hj_reactive\",\"hj_reactive\",\"hj_reactive\",\"hj_reactive\",\"hj_reactive\",\"hj_reactive\",\"hj_reactive\",\"hj_reactive\",\"hj_reactive\",\"hj_reactive\",\"hj_reactive\",\"hj_reactive\",\"hj_reactive\",\"hj_reactive\",\"hj_reactive\",\"hj_reactive\",\"hj_reactive\",\"hj_reactive\",\"hj_reactive\",\"hj_reactive\",\"hj_reactive\",\"hj_reactive\",\"hj_reactive\",\"hj_reactive\",\"hj_reactive\",\"hj_reactive\",\"hj_reactive\",\"hj_reactive\",\"hj_reactive\",\"hj_reactive\",\"hj_reactive\",\"hj_reactive\",\"hj_reactive\",\"hj_reactive\",\"hj_reactive\",\"hj_reactive\",\"hj_reactive\",\"hj_reactive\",\"hj_reactive\",\"hj_reactive\",\"hj_reactive\",\"hj_reactive\",\"flocking\",\"flocking\",\"flocking\",\"flocking\",\"flocking\",\"flocking\",\"flocking\",\"flocking\",\"flocking\",\"flocking\",\"flocking\",\"flocking\",\"flocking\",\"flocking\",\"flocking\",\"flocking\",\"flocking\",\"flocking\",\"flocking\",\"flocking\",\"flocking\",\"flocking\",\"flocking\",\"flocking\",\"flocking\",\"flocking\",\"flocking\",\"flocking\",\"flocking\",\"flocking\",\"flocking\",\"flocking\",\"flocking\",\"flocking\",\"flocking\",\"flocking\",\"flocking\",\"flocking\",\"flocking\",\"flocking\",\"flocking\",\"flocking\",\"flocking\",\"flocking\",\"flocking\",\"flocking\",\"flocking\",\"flocking\",\"flocking\",\"flocking\",\"flocking\",\"flocking\",\"flocking\",\"flocking\",\"flocking\",\"flocking\",\"flocking\",\"flocking\",\"flocking\",\"flocking\",\"flocking\",\"flocking\",\"flocking\",\"flocking\",\"flocking\",\"flocking\",\"flocking\",\"flocking\",\"flocking\",\"flocking\",\"flocking\",\"flocking\",\"flocking\",\"flocking\",\"flocking\",\"flocking\",\"flocking\",\"flocking\",\"flocking\",\"flocking\",\"flocking\",\"flocking\",\"flocking\",\"flocking\",\"flocking\",\"flocking\",\"flocking\",\"flocking\",\"flocking\",\"flocking\",\"flocking\",\"flocking\",\"flocking\",\"flocking\",\"flocking\",\"flocking\",\"flocking\",\"flocking\",\"flocking\",\"flocking\",\"flocking\",\"flocking\",\"flocking\",\"flocking\",\"flocking\",\"flocking\",\"flocking\",\"flocking\",\"flocking\",\"flocking\",\"flocking\",\"flocking\",\"flocking\",\"flocking\",\"flocking\",\"flocking\",\"flocking\",\"flocking\",\"flocking\",\"flocking\",\"flocking\",\"flocking\",\"flocking\",\"flocking\",\"flocking\",\"flocking\",\"flocking\",\"flocking\",\"flocking\",\"flocking\",\"flocking\",\"flocking\",\"flocking\",\"flocking\",\"flocking\",\"flocking\",\"flocking\",\"flocking\",\"flocking\",\"flocking\",\"flocking\",\"flocking\",\"flocking\",\"flocking\",\"flocking\",\"flocking\",\"flocking\",\"flocking\",\"flocking\",\"flocking\",\"flocking\",\"flocking\",\"flocking\",\"flocking\",\"flocking\",\"flocking\",\"flocking\",\"flocking\",\"flocking\",\"flocking\",\"flocking\",\"flocking\",\"flocking\",\"flocking\",\"flocking\",\"flocking\",\"flocking\",\"flocking\",\"flocking\",\"flocking\",\"flocking\",\"flocking\",\"flocking\",\"flocking\",\"flocking\",\"flocking\",\"flocking\",\"flocking\",\"flocking\",\"flocking\",\"flocking\",\"flocking\",\"flocking\",\"flocking\",\"flocking\",\"flocking\",\"flocking\",\"flocking\",\"flocking\",\"flocking\",\"flocking\",\"flocking\",\"flocking\",\"flocking\",\"flocking\",\"flocking\",\"flocking\",\"flocking\",\"flocking\",\"flocking\",\"flocking\",\"flocking\",\"flocking\",\"flocking\",\"flocking\",\"flocking\",\"flocking\",\"flocking\",\"flocking\",\"flocking\",\"flocking\",\"flocking\",\"flocking\",\"flocking\",\"flocking\",\"flocking\",\"flocking\",\"flocking\",\"flocking\",\"flocking\",\"flocking\",\"flocking\",\"flocking\",\"flocking\",\"flocking\",\"flocking\",\"flocking\",\"flocking\",\"flocking\",\"flocking\",\"flocking\",\"flocking\",\"flocking\",\"flocking\",\"flocking\",\"flocking\",\"flocking\",\"flocking\",\"flocking\",\"flocking\",\"flocking\",\"flocking\",\"flocking\",\"flocking\",\"flocking\",\"flocking\",\"flocking\",\"flocking\",\"flocking\",\"flocking\",\"flocking\",\"flocking\",\"flocking\",\"flocking\",\"flocking\",\"flocking\",\"flocking\",\"flocking\",\"flocking\",\"flocking\",\"flocking\",\"flocking\",\"flocking\",\"flocking\",\"flocking\",\"flocking\",\"flocking\",\"flocking\",\"flocking\",\"flocking\",\"flocking\",\"flocking\",\"flocking\",\"flocking\",\"flocking\",\"flocking\",\"flocking\",\"flocking\",\"flocking\",\"flocking\",\"flocking\",\"flocking\",\"flocking\",\"flocking\",\"flocking\",\"flocking\",\"flocking\",\"flocking\",\"flocking\",\"flocking\",\"flocking\",\"flocking\",\"flocking\",\"flocking\",\"flocking\",\"flocking\",\"flocking\",\"flocking\",\"flocking\",\"flocking\",\"flocking\",\"flocking\",\"flocking\",\"flocking\",\"flocking\",\"flocking\",\"flocking\",\"flocking\",\"flocking\",\"flocking\",\"flocking\",\"flocking\",\"flocking\",\"flocking\",\"flocking\",\"flocking\",\"flocking\",\"flocking\",\"flocking\",\"flocking\",\"flocking\",\"flocking\",\"flocking\",\"flocking\",\"flocking\",\"flocking\",\"flocking\",\"flocking\",\"flocking\",\"flocking\",\"flocking\",\"flocking\",\"flocking\",\"flocking\",\"flocking\",\"flocking\",\"flocking\",\"flocking\",\"flocking\",\"flocking\",\"flocking\",\"flocking\",\"flocking\",\"flocking\",\"flocking\",\"flocking\",\"flocking\",\"flocking\",\"flocking\",\"flocking\",\"flocking\",\"flocking\",\"flocking\",\"flocking\",\"flocking\",\"flocking\",\"flocking\",\"flocking\",\"flocking\",\"flocking\",\"flocking\",\"flocking\",\"flocking\",\"flocking\",\"flocking\",\"flocking\",\"flocking\",\"flocking\",\"flocking\",\"flocking\",\"flocking\",\"flocking\",\"flocking\",\"flocking\",\"flocking\",\"flocking\",\"flocking\",\"flocking\",\"flocking\",\"flocking\",\"flocking\",\"flocking\",\"flocking\",\"flocking\",\"flocking\",\"flocking\",\"flocking\",\"flocking\",\"flocking\",\"flocking\",\"flocking\",\"flocking\",\"flocking\",\"flocking\",\"flocking\",\"flocking\",\"flocking\",\"flocking\",\"flocking\",\"flocking\",\"flocking\",\"flocking\",\"flocking\",\"flocking\",\"flocking\",\"flocking\",\"flocking\",\"flocking\",\"flocking\",\"flocking\",\"flocking\",\"flocking\",\"flocking\",\"flocking\",\"flocking\",\"flocking\",\"flocking\",\"flocking\",\"flocking\",\"flocking\",\"flocking\",\"flocking\",\"flocking\",\"flocking\",\"flocking\",\"flocking\",\"flocking\",\"flocking\",\"flocking\",\"flocking\",\"flocking\",\"flocking\",\"flocking\",\"flocking\",\"flocking\",\"flocking\",\"flocking\",\"flocking\",\"flocking\",\"flocking\",\"flocking\",\"flocking\",\"flocking\",\"flocking\",\"flocking\",\"flocking\",\"flocking\",\"flocking\",\"flocking\",\"flocking\",\"flocking\",\"flocking\",\"flocking\",\"flocking\",\"flocking\",\"flocking\",\"flocking\",\"flocking\",\"flocking\",\"flocking\",\"flocking\",\"flocking\",\"flocking\",\"flocking\",\"flocking\",\"flocking\",\"flocking\",\"flocking\",\"flocking\",\"flocking\",\"flocking\",\"flocking\",\"flocking\",\"flocking\",\"flocking\",\"flocking\",\"flocking\",\"flocking\",\"flocking\",\"flocking\",\"flocking\",\"flocking\",\"flocking\",\"flocking\",\"flocking\",\"flocking\",\"flocking\",\"flocking\",\"flocking\",\"flocking\",\"flocking\",\"flocking\",\"flocking\",\"flocking\",\"flocking\",\"flocking\",\"flocking\",\"flocking\",\"flocking\",\"flocking\",\"flocking\",\"flocking\",\"flocking\",\"flocking\",\"flocking\",\"flocking\",\"flocking\",\"flocking\",\"flocking\",\"flocking\",\"flocking\",\"flocking\",\"flocking\",\"flocking\",\"flocking\",\"flocking\",\"flocking\",\"flocking\",\"flocking\",\"flocking\",\"flocking\",\"flocking\",\"flocking\",\"flocking\",\"flocking\",\"flocking\",\"flocking\",\"flocking\",\"flocking\",\"flocking\",\"flocking\",\"flocking\",\"flocking\",\"flocking\",\"flocking\",\"flocking\",\"flocking\",\"flocking\",\"flocking\",\"flocking\",\"flocking\",\"flocking\",\"flocking\",\"flocking\",\"flocking\",\"flocking\",\"flocking\",\"flocking\"],\"x0\":\" \",\"xaxis\":\"x\",\"y\":[0.0,0.0,0.0,0.0,0.0,0.0,0.0,0.0,0.01084187243106111,0.0,0.0,0.0,0.0,0.0,0.0,0.0,0.0,0.0,0.0,0.0,0.8381265704982367,0.0,0.0,0.0,0.0,0.0,0.0,0.0,0.0,0.0,0.0,0.0,0.0,0.0,0.0,0.0,0.0,0.0,0.0,0.0,0.0,0.0,0.5951894795406997,0.0,0.0,0.0,0.02666288699995339,0.0,0.0,0.0,0.0,0.6303406006368605,1.346320325005995,0.0,0.0,0.0,0.0,0.0,0.0,0.0,0.0,0.0,0.0,0.0,0.0,0.0,0.0,1.1310735912513195,0.0023708010959557495,172.21336484415767,89.93181718977782,0.0,0.0,0.0,0.0,0.0,0.0,0.0,0.0,0.0,0.0,0.30462453834939357,0.0,0.0,0.0,0.0,0.0,0.0,0.0,0.1469468894891965,0.0,0.0,0.0,0.0,0.0,0.0,0.0,0.0,0.0,0.0,0.0,0.0,0.0,0.0,0.0,0.0,0.0,0.0,0.0,0.0160856757058386,0.11713272729262725,0.0,0.0,0.0,0.0,0.006968565267758189,0.0,0.0,0.09001155763751645,0.0,0.0,0.0,0.0,0.0,0.0,0.0,0.0,0.0,0.0,0.4786762416899634,0.2832340441765146,0.0,0.0,0.0,0.0,0.0,0.0,0.0,0.10950448007592234,0.0,0.0,0.0,0.0,0.007943985586590829,0.0,0.04872498774996058,0.0,0.0,0.0,0.0,0.0,0.0,0.0,0.0,0.0,0.0,0.0,0.0,0.0,0.0,0.0,0.0,0.6842399784211659,0.0,0.0,0.0,0.0,0.0,0.0,0.0,0.0,0.0,0.0,0.0,0.0,0.0,0.0,0.0,0.0,0.0,0.0,0.0,0.0,0.0,0.0,0.7000593312238766,0.0,0.0,0.0,0.0,0.0,0.6212367014641204,0.0,0.0,0.0,0.0,0.0,0.0,0.0,0.0,0.0,0.0,0.034577613671214674,0.6256047202431918,0.0,0.0,0.0,0.0,0.0,0.0,0.0,0.0,0.0,0.0,0.0,0.0,0.0,0.0,0.0,0.0,0.0,1.733989889682038,0.0,0.0,0.0,0.9678312196607153,0.0,0.0,0.0,0.0,0.0,0.0,0.0,0.0,0.0,0.0,0.0,0.0,0.0,0.0,0.0,0.0,0.0,0.0,0.0,0.0,0.0,0.0,0.0,0.0,0.0,0.0982259921578988,0.0,0.0,0.0,0.0,0.0,0.0,0.0,0.0,0.0,0.14676288668536083,0.04112636835006919,0.0,0.0,0.0,0.0,0.0,0.0,0.0,0.0,0.0,0.0,0.0,0.0,0.0,0.0,0.0,0.0,0.16004703539132334,0.0,0.0,0.0,0.0,0.0,0.0,0.0,0.0,0.0,0.0,0.0,0.0,0.0,0.0,0.0,0.0,0.0,0.0,0.0,0.0,0.0,0.1616496288539001,0.0,0.0,0.0,0.0,0.0,0.0,0.0,0.0,0.0,0.0,0.0,0.0,0.0,0.0,0.0,0.0,0.0,0.0,0.0,0.0,0.0,0.0,0.0,0.0,0.0,0.0,0.0,0.0,0.0,0.0,0.0,0.0,0.0,0.0,0.0,0.0,0.0,0.0,0.0,0.0,0.0,0.0,0.0,0.0,0.0,0.0,0.0,0.33682398125261026,0.0,0.0,0.0,0.0,0.0,0.0,0.0,0.0,0.0,0.0,0.0,0.0,0.0,0.0,0.0,0.0,0.0,0.0,0.0,0.0,0.0,0.0,0.0,0.0,0.0,0.0,0.0,0.0,0.0,0.0,0.0,0.0,0.0,0.0,0.0,0.0,0.0,0.0,0.0,0.0,0.0,0.0,0.0,0.0,0.0,0.0,0.0,0.0,0.0,0.0,0.0,0.0,0.0,0.0,0.0,0.0,0.0,0.0,0.0,0.0,0.0,0.0,0.0,0.0,0.0,0.4733487923144175,0.0,0.0,0.0,0.0,0.0,0.0,0.0,0.0,0.0,0.0,0.0,0.0,0.0,0.0,0.0,0.0,0.0,0.0,0.0,0.0,0.0,0.0,0.0,0.0,0.0,0.0,0.9103491521044332,0.0,0.0,0.0,0.0,0.0,0.0,0.0,0.0,0.0,0.0,0.0,0.0,0.0,0.0,0.0,0.0,0.0,0.0,0.0,0.0,0.0,0.0,0.3690548735194082,0.0,0.0,0.0,0.0,0.0,0.0,0.0,0.0,0.0,0.0,0.0,0.0,0.0,0.0,0.0,0.0,0.0,0.0,0.0,0.0,0.0,0.0,0.0,0.0,0.0,0.0,0.0,0.0,0.0,0.0,0.0,0.0,0.0,0.0,0.0,0.0,0.0,0.0,0.0,0.2685112011879164,0.0,0.0,0.0,0.0,0.0,0.0,0.021250347027904223,0.5464185923489109,0.20894997215897765,0.0,0.0,0.0,0.0,0.0,0.0,0.0,0.0,0.0,0.0,0.0,0.0,0.0,0.0,0.0,0.0,0.0,0.0,0.0,0.0,0.0,0.0,0.0,0.0,0.0,0.0,0.0,0.0,0.5046862839276248,0.10348016215869708,0.0,0.0,0.0,0.0,0.0,0.0,0.0,0.0,0.0,0.0,0.5362425944825694,0.2819271270223281,6.744950912315064,0.0,0.0,0.0,0.0,0.0,0.0,0.0,0.0,0.0,0.0,1.5614360310275133,0.0,0.0,0.0,0.0,0.0,0.0,0.0,0.0,0.0,0.0,0.09970381845538971,0.0,0.0,0.0,0.21421126120286493,0.0,0.0,0.0,0.0,0.0,0.0,2.5919888615075632,0.0,0.0,0.8278936617426549,0.3223912105818523,0.0,0.0,3.7996975868520955,0.0,0.8871569852076662,7.905338416236068,0.0,0.0,0.0,0.0,0.0,0.0,0.0,0.0,0.0,0.0,0.0,0.0,0.0,0.0,1.8186888062631905,0.0023708010959557495,172.19802397957406,64.9876442930388,0.6634431341966727,0.0,0.0,0.0,0.1357610518921946,0.0,0.0,0.0,0.0,0.0,0.8297319656232901,0.0,0.0,0.0,0.0,0.0,0.0,0.0,0.0,0.0,0.0,0.0,0.0,0.0,0.0,0.0,0.0,0.0,0.0,0.0,0.0,0.0,0.0,0.0,0.0,0.0,0.0,0.0,0.6170238432339664,0.14483935671657291,0.0,0.28329720390698876,0.0,0.0,6.2353660346575,2.0291570152885123,0.0,0.27425927262396876,0.0,0.0,0.0,0.07581526602016939,0.0,0.0,0.0,0.0,0.0,0.0,0.7535187974318045,0.2832340441765146,0.0,0.0,0.0,0.0,0.0,0.7601073175423947,0.0,0.34831118520241405,0.0,0.0,0.3019849060320782,0.038152184286632924,0.4071163144077833,0.6114267970640689,0.17051594754223304,0.058898184286869174,0.0,0.0,0.0,0.0,0.0,0.0,0.0,0.0,0.0,0.0,0.0,0.0,0.0,0.0,0.0,6.647615232108546,0.0,0.0,0.0,0.0,0.0,0.0,0.0,0.0,0.0,0.0,0.0,0.0,0.6965473165817693,0.0,0.0,0.0,0.0,0.0,0.0,0.313709778879295,0.0,0.0,1.1247402579166381,0.0,0.0,0.0,0.0,0.0,0.0,0.0,0.0,0.0,0.0,0.7758596609295031,0.0,0.0,0.0,0.0,0.0,0.25863698875137797,1.0508945009666018,0.011459997850467696,1.0482338490786218,0.0,0.9667785479475369,0.8936528682611511,0.0,0.0,0.0,0.0,0.0,0.0,0.0,0.0,0.0,0.0,0.0,0.0,3.1631669514532006,0.008118711408656174,0.0,0.0,5.058895479007891,0.6530865328791998,1.0642379023759125,0.0,0.0,0.0,0.0,0.0,0.0,0.0,0.0,0.0,0.0,0.0,0.0,0.0,0.0,0.0,0.0,0.0,0.0,0.0,0.0,0.0,0.18126292692508628,0.0,0.26852246759970166,1.48563362510088,0.0,0.0,0.0,0.0,0.0,0.0,0.0,0.0,0.2768167985555098,0.04112636835006919,0.0,0.0,0.0,0.0,1.8047979243335974,0.0,0.0,0.0,0.9173545872869054,0.5023546844779898,0.0,0.0,0.0,0.0,0.0,0.0,1.222811122802937,0.0,0.0,0.0,2.7835969030301806,0.0,0.0,0.0,0.0,0.0,0.0,0.0,0.0,0.0,0.0,0.6745529623333486,0.0,0.0,0.0,0.0,0.0,0.0,1.9455607375815471,0.0,0.0,0.0,0.0,0.0,0.0,0.0,0.0,0.0,0.0,1.0988703390530945,0.0,0.0,0.0,0.0,0.0,0.0,0.0,0.0,0.0,0.0,0.0,0.0,0.0,0.09863481708772134,0.0,0.0,0.0,0.0,0.0,0.0,0.0,0.0,0.0,0.0,0.0,0.0,0.0,0.0,0.0,0.0,1.9246461956040315,0.0,0.0,0.0,0.0,0.0,3.93316451392213,1.3060290490410948,0.0,0.0,0.0,0.0,0.0,0.0,0.0,0.0,0.0,0.0,0.0,0.0,0.0,0.0,0.0,0.0,0.0,0.0,0.0,0.0,0.0,0.0,0.0,0.0,0.0,0.0,0.0,0.0,0.0,0.0,0.0,0.0,0.0,0.0,0.0,0.3299164237265464,0.0,0.0,0.0,0.0,0.0,0.0,0.0,0.0,0.0,0.0,0.0178733317768842,1.684529006195528,0.0,0.0,0.0,0.0,0.0,0.0,0.0,0.0,0.0,3.0234992607848046,0.0,0.0,0.0,0.24335085356189742,0.0,0.0,1.1400712940109707,0.0,0.0,0.0,0.0,0.0,0.0,0.0,5.11913174682148,0.0,0.0,0.0,0.0,0.0,0.0,0.0,0.0,0.0,0.10576576981646076,0.3721427378437823,0.0,0.0,0.970732176290781,0.0,0.0,0.0,0.0,5.2304104487742755,0.0,0.0,0.0,0.0,0.0,0.19728154624858787,0.0,0.0,0.0,0.0,0.0,0.0,0.0,0.0,0.0,0.0,0.0,0.0,0.0,0.0,0.06884851861093805,0.0,0.3690548735194082,0.0,0.041372716163840015,0.040455529504543467,0.0,0.0,0.0,0.31407406534115845,0.0,0.0,0.0,0.0,0.0,0.19031385078941862,0.0,0.0,0.0,0.0,0.0,0.0,0.0,0.0,0.0,0.0,0.0,0.0,0.0,0.0,0.0,0.0,0.0,6.4641728101356355,0.0,0.0,0.45114007455248756,0.0,0.0,0.0,0.0,0.0,3.1806013014286276,0.0,0.0,0.0,0.0,0.0,0.4334164317872886,0.534843696229917,0.5464185923489109,0.20894997215897765,0.0,0.9244179284488744,0.0,0.0,0.0,0.0,0.0,0.0,0.7218112209995577,0.0,0.0,0.0,0.0,0.29648535307958074,0.2672516974137079,1.1242814756104673,1.446974824547588,0.0,0.0,0.0,0.0,0.0,0.0,0.0,0.0,0.0,0.0,0.0,1.6540088979566374,0.10348016215869708,0.0,0.0,0.0,0.0,0.0,0.0,0.0,0.0,0.0,0.0,0.0,0.031156474289535455,0.25653950869842995,0.0,0.0,0.0,0.0,0.0,0.0,0.0,0.0,0.0,0.0,1.0093459012528254,0.0,0.0,0.0,0.0,0.0,0.0,0.0,0.0,0.0,0.007866112076396049,0.0,0.0,0.0,1.7421193016111016,0.0,0.0,0.0,0.0,0.0,0.0,0.0,2.53874770013597,0.0,0.0,0.4477446463430932,0.049343788446789646,0.0,0.0,1.4172246494092962,0.0,0.7036632854650636,7.581877269491016,0.0,0.0,0.0,0.0,0.0,0.0,0.0015526052504443405,0.0,0.0,0.0,0.0,0.0,0.0,0.0,2.0390552748945376,0.1300926040038609,172.17904310512063,66.83283436532162,0.0,0.0,0.0,0.0,0.0,0.0,0.0,0.0,0.0,0.0,0.6291095215266767,0.0,0.0,0.0,0.0,0.0,0.0,0.0,0.0,0.0,0.0,0.0,0.0,0.0,0.0,0.0,0.0,0.0,0.0,0.0,0.0,0.0,0.0,0.0,0.0,0.0,0.0,0.0,0.5115506151944534,0.18845191241267503,0.0,0.0,0.0,0.0,0.0,0.0,0.0,0.2551888433685582,0.0,0.0,0.0,0.0,0.0,0.0,0.0,0.0,0.0,0.0,0.21658928584621825,0.42379248275567666,0.0,0.0,0.0,0.0,0.0,0.20731631306157108,0.0,0.18904509226300037,0.0,0.0,0.0,0.0,0.06053949987042339,0.0,0.307040076270769,0.0,0.0,0.0,0.0,0.0,0.0,0.0,0.0,0.0,0.0,0.0,0.0,0.0,0.0,0.0,0.0,11.025716720427281,0.0,0.0,0.0,0.0,0.0,0.0,0.0,0.0,0.0,0.055340166507783006,0.0,0.0,0.0,0.0,0.0,0.0,0.0,0.0,0.0,0.0886282299613994,0.0,0.0,1.2300190832632687,0.0,0.0,0.0,0.0,0.0,0.0,0.0,0.0,0.0,0.0,0.07187201136659858,0.0,0.0,0.0,0.0,0.0,0.10442200093029375,1.1390805582131134,0.0,0.0,0.0,0.0951736851143463,0.12163899747364834,0.0,0.0,0.0,0.0,0.0,0.0,0.0,0.0,0.0,0.0,0.0,0.0,2.2989003956008847,0.0,0.0,0.0,2.063439108318656,0.0,0.5105478739861183,0.0,0.0,0.0,0.0,0.0,0.0,0.0,0.0,0.0,0.0,0.0,0.0,0.0,0.0,0.0,0.0,0.0,0.0,0.0,0.0,0.0,0.0,0.0,0.12865948438147348,0.0,0.0,0.0,0.0,0.0,0.0,0.0,0.0,0.0,0.2033543527653797,0.2693100093200661,0.0,0.0,0.0,0.0,0.30448417394486166,0.0,0.0,0.0,0.0,0.0,0.0,0.0,0.0,0.0,0.0,0.0,1.1185285120973691,0.0,0.0,0.0,0.0,0.0,0.0,0.0,0.0,0.0,0.0,0.0,0.0,0.0,0.0,0.9763634628320558,0.0,0.0,0.0,0.0,0.0,0.0,2.224226763793602,0.0,0.0,0.0,0.0,0.0,0.0,0.0,0.0,0.0,0.0,0.0,0.0,0.0,0.0,0.0,0.0,0.0,0.0,0.0,0.0,0.0,0.0,0.0,0.0,0.0,0.0,0.0,0.0,0.0,0.0,0.0,0.0,0.0,0.0,0.0,0.0,0.0,0.0,0.0,0.0,0.0,0.9818469605445922,0.0,0.0,0.0,0.0,0.0,2.797196590159164,0.0,0.0,0.0,0.0,0.0,0.0,0.0,0.0,0.0,0.0,0.0,0.0,0.0,0.0,0.0,0.0,0.0,0.0,0.0,0.0,0.0,0.0,0.0,0.0,0.0,0.0,0.0,0.0,0.0,0.0,0.0,0.0,0.0,0.0,0.0,0.0,0.0,0.0,0.0,0.0,0.0,0.0,0.0,0.0,0.0,0.0,0.0,0.0,0.0,0.0,0.0,0.0,0.0,0.0,0.0,0.0,0.0,0.0,0.16252063491735563,0.0,0.0,0.0,0.1909343880252486,0.0,0.0,1.1718138717364746,0.0,0.0,0.0,0.0,0.0,0.0,0.0,0.0,0.0,0.0,0.0,0.0,0.0,0.0,0.0,0.0,0.0,0.05312593066255202,0.03485632055099259,0.0,0.0,0.0,0.0,0.0,0.0,0.0,10.282118476855954,0.0,0.0,0.0,0.0,0.0,0.0,0.0,0.0,0.9059748547987754,0.0,0.0,0.0,0.0,0.0,0.0,0.0,0.0,0.0,0.0,0.0,0.0,0.0,0.597960836944679,0.0,0.0,0.0,0.0,0.0,0.0,0.016975779748499134,0.0,0.0,0.0,0.0,0.0,0.0,0.0,0.0,0.0,0.0,0.0,0.0,0.0,0.0,0.0,0.0,0.0,0.0,0.0,0.0,0.0,0.0,0.0,15.089999488767964,0.0,0.0,0.0,0.0,0.0,0.0,0.0,0.0,0.5269727397585805,0.0,0.0,0.0,0.0,0.0,0.0,0.17792790075614637,1.0408460729761893,0.21373477348735254,0.0,0.0,0.0,0.0,0.0,0.0,0.0,0.0,0.0,0.0,0.0,0.0,0.0,0.1924596623792248,0.0,0.0,0.39092514376082454,0.0,0.0,0.0,0.0,0.0,0.0,0.0,0.0,0.0,0.0,0.0,0.733434396868467,0.10342654493661799,0.0,0.0,0.0],\"y0\":\" \",\"yaxis\":\"y\",\"type\":\"box\"},{\"line\":{\"color\":\"green\",\"width\":2},\"mode\":\"lines\",\"name\":\"mean\",\"showlegend\":true,\"x\":[\"hj_naive\",\"hj_reactive\",\"flocking\"],\"y\":[0.5073981506901873,0.6602556119650708,0.5833058160461944],\"type\":\"scatter\"}],                        {\"template\":{\"data\":{\"histogram2dcontour\":[{\"type\":\"histogram2dcontour\",\"colorbar\":{\"outlinewidth\":0,\"ticks\":\"\"},\"colorscale\":[[0.0,\"#0d0887\"],[0.1111111111111111,\"#46039f\"],[0.2222222222222222,\"#7201a8\"],[0.3333333333333333,\"#9c179e\"],[0.4444444444444444,\"#bd3786\"],[0.5555555555555556,\"#d8576b\"],[0.6666666666666666,\"#ed7953\"],[0.7777777777777778,\"#fb9f3a\"],[0.8888888888888888,\"#fdca26\"],[1.0,\"#f0f921\"]]}],\"choropleth\":[{\"type\":\"choropleth\",\"colorbar\":{\"outlinewidth\":0,\"ticks\":\"\"}}],\"histogram2d\":[{\"type\":\"histogram2d\",\"colorbar\":{\"outlinewidth\":0,\"ticks\":\"\"},\"colorscale\":[[0.0,\"#0d0887\"],[0.1111111111111111,\"#46039f\"],[0.2222222222222222,\"#7201a8\"],[0.3333333333333333,\"#9c179e\"],[0.4444444444444444,\"#bd3786\"],[0.5555555555555556,\"#d8576b\"],[0.6666666666666666,\"#ed7953\"],[0.7777777777777778,\"#fb9f3a\"],[0.8888888888888888,\"#fdca26\"],[1.0,\"#f0f921\"]]}],\"heatmap\":[{\"type\":\"heatmap\",\"colorbar\":{\"outlinewidth\":0,\"ticks\":\"\"},\"colorscale\":[[0.0,\"#0d0887\"],[0.1111111111111111,\"#46039f\"],[0.2222222222222222,\"#7201a8\"],[0.3333333333333333,\"#9c179e\"],[0.4444444444444444,\"#bd3786\"],[0.5555555555555556,\"#d8576b\"],[0.6666666666666666,\"#ed7953\"],[0.7777777777777778,\"#fb9f3a\"],[0.8888888888888888,\"#fdca26\"],[1.0,\"#f0f921\"]]}],\"heatmapgl\":[{\"type\":\"heatmapgl\",\"colorbar\":{\"outlinewidth\":0,\"ticks\":\"\"},\"colorscale\":[[0.0,\"#0d0887\"],[0.1111111111111111,\"#46039f\"],[0.2222222222222222,\"#7201a8\"],[0.3333333333333333,\"#9c179e\"],[0.4444444444444444,\"#bd3786\"],[0.5555555555555556,\"#d8576b\"],[0.6666666666666666,\"#ed7953\"],[0.7777777777777778,\"#fb9f3a\"],[0.8888888888888888,\"#fdca26\"],[1.0,\"#f0f921\"]]}],\"contourcarpet\":[{\"type\":\"contourcarpet\",\"colorbar\":{\"outlinewidth\":0,\"ticks\":\"\"}}],\"contour\":[{\"type\":\"contour\",\"colorbar\":{\"outlinewidth\":0,\"ticks\":\"\"},\"colorscale\":[[0.0,\"#0d0887\"],[0.1111111111111111,\"#46039f\"],[0.2222222222222222,\"#7201a8\"],[0.3333333333333333,\"#9c179e\"],[0.4444444444444444,\"#bd3786\"],[0.5555555555555556,\"#d8576b\"],[0.6666666666666666,\"#ed7953\"],[0.7777777777777778,\"#fb9f3a\"],[0.8888888888888888,\"#fdca26\"],[1.0,\"#f0f921\"]]}],\"surface\":[{\"type\":\"surface\",\"colorbar\":{\"outlinewidth\":0,\"ticks\":\"\"},\"colorscale\":[[0.0,\"#0d0887\"],[0.1111111111111111,\"#46039f\"],[0.2222222222222222,\"#7201a8\"],[0.3333333333333333,\"#9c179e\"],[0.4444444444444444,\"#bd3786\"],[0.5555555555555556,\"#d8576b\"],[0.6666666666666666,\"#ed7953\"],[0.7777777777777778,\"#fb9f3a\"],[0.8888888888888888,\"#fdca26\"],[1.0,\"#f0f921\"]]}],\"mesh3d\":[{\"type\":\"mesh3d\",\"colorbar\":{\"outlinewidth\":0,\"ticks\":\"\"}}],\"scatter\":[{\"fillpattern\":{\"fillmode\":\"overlay\",\"size\":10,\"solidity\":0.2},\"type\":\"scatter\"}],\"parcoords\":[{\"type\":\"parcoords\",\"line\":{\"colorbar\":{\"outlinewidth\":0,\"ticks\":\"\"}}}],\"scatterpolargl\":[{\"type\":\"scatterpolargl\",\"marker\":{\"colorbar\":{\"outlinewidth\":0,\"ticks\":\"\"}}}],\"bar\":[{\"error_x\":{\"color\":\"#2a3f5f\"},\"error_y\":{\"color\":\"#2a3f5f\"},\"marker\":{\"line\":{\"color\":\"#E5ECF6\",\"width\":0.5},\"pattern\":{\"fillmode\":\"overlay\",\"size\":10,\"solidity\":0.2}},\"type\":\"bar\"}],\"scattergeo\":[{\"type\":\"scattergeo\",\"marker\":{\"colorbar\":{\"outlinewidth\":0,\"ticks\":\"\"}}}],\"scatterpolar\":[{\"type\":\"scatterpolar\",\"marker\":{\"colorbar\":{\"outlinewidth\":0,\"ticks\":\"\"}}}],\"histogram\":[{\"marker\":{\"pattern\":{\"fillmode\":\"overlay\",\"size\":10,\"solidity\":0.2}},\"type\":\"histogram\"}],\"scattergl\":[{\"type\":\"scattergl\",\"marker\":{\"colorbar\":{\"outlinewidth\":0,\"ticks\":\"\"}}}],\"scatter3d\":[{\"type\":\"scatter3d\",\"line\":{\"colorbar\":{\"outlinewidth\":0,\"ticks\":\"\"}},\"marker\":{\"colorbar\":{\"outlinewidth\":0,\"ticks\":\"\"}}}],\"scattermapbox\":[{\"type\":\"scattermapbox\",\"marker\":{\"colorbar\":{\"outlinewidth\":0,\"ticks\":\"\"}}}],\"scatterternary\":[{\"type\":\"scatterternary\",\"marker\":{\"colorbar\":{\"outlinewidth\":0,\"ticks\":\"\"}}}],\"scattercarpet\":[{\"type\":\"scattercarpet\",\"marker\":{\"colorbar\":{\"outlinewidth\":0,\"ticks\":\"\"}}}],\"carpet\":[{\"aaxis\":{\"endlinecolor\":\"#2a3f5f\",\"gridcolor\":\"white\",\"linecolor\":\"white\",\"minorgridcolor\":\"white\",\"startlinecolor\":\"#2a3f5f\"},\"baxis\":{\"endlinecolor\":\"#2a3f5f\",\"gridcolor\":\"white\",\"linecolor\":\"white\",\"minorgridcolor\":\"white\",\"startlinecolor\":\"#2a3f5f\"},\"type\":\"carpet\"}],\"table\":[{\"cells\":{\"fill\":{\"color\":\"#EBF0F8\"},\"line\":{\"color\":\"white\"}},\"header\":{\"fill\":{\"color\":\"#C8D4E3\"},\"line\":{\"color\":\"white\"}},\"type\":\"table\"}],\"barpolar\":[{\"marker\":{\"line\":{\"color\":\"#E5ECF6\",\"width\":0.5},\"pattern\":{\"fillmode\":\"overlay\",\"size\":10,\"solidity\":0.2}},\"type\":\"barpolar\"}],\"pie\":[{\"automargin\":true,\"type\":\"pie\"}]},\"layout\":{\"autotypenumbers\":\"strict\",\"colorway\":[\"#636efa\",\"#EF553B\",\"#00cc96\",\"#ab63fa\",\"#FFA15A\",\"#19d3f3\",\"#FF6692\",\"#B6E880\",\"#FF97FF\",\"#FECB52\"],\"font\":{\"color\":\"#2a3f5f\"},\"hovermode\":\"closest\",\"hoverlabel\":{\"align\":\"left\"},\"paper_bgcolor\":\"white\",\"plot_bgcolor\":\"#E5ECF6\",\"polar\":{\"bgcolor\":\"#E5ECF6\",\"angularaxis\":{\"gridcolor\":\"white\",\"linecolor\":\"white\",\"ticks\":\"\"},\"radialaxis\":{\"gridcolor\":\"white\",\"linecolor\":\"white\",\"ticks\":\"\"}},\"ternary\":{\"bgcolor\":\"#E5ECF6\",\"aaxis\":{\"gridcolor\":\"white\",\"linecolor\":\"white\",\"ticks\":\"\"},\"baxis\":{\"gridcolor\":\"white\",\"linecolor\":\"white\",\"ticks\":\"\"},\"caxis\":{\"gridcolor\":\"white\",\"linecolor\":\"white\",\"ticks\":\"\"}},\"coloraxis\":{\"colorbar\":{\"outlinewidth\":0,\"ticks\":\"\"}},\"colorscale\":{\"sequential\":[[0.0,\"#0d0887\"],[0.1111111111111111,\"#46039f\"],[0.2222222222222222,\"#7201a8\"],[0.3333333333333333,\"#9c179e\"],[0.4444444444444444,\"#bd3786\"],[0.5555555555555556,\"#d8576b\"],[0.6666666666666666,\"#ed7953\"],[0.7777777777777778,\"#fb9f3a\"],[0.8888888888888888,\"#fdca26\"],[1.0,\"#f0f921\"]],\"sequentialminus\":[[0.0,\"#0d0887\"],[0.1111111111111111,\"#46039f\"],[0.2222222222222222,\"#7201a8\"],[0.3333333333333333,\"#9c179e\"],[0.4444444444444444,\"#bd3786\"],[0.5555555555555556,\"#d8576b\"],[0.6666666666666666,\"#ed7953\"],[0.7777777777777778,\"#fb9f3a\"],[0.8888888888888888,\"#fdca26\"],[1.0,\"#f0f921\"]],\"diverging\":[[0,\"#8e0152\"],[0.1,\"#c51b7d\"],[0.2,\"#de77ae\"],[0.3,\"#f1b6da\"],[0.4,\"#fde0ef\"],[0.5,\"#f7f7f7\"],[0.6,\"#e6f5d0\"],[0.7,\"#b8e186\"],[0.8,\"#7fbc41\"],[0.9,\"#4d9221\"],[1,\"#276419\"]]},\"xaxis\":{\"gridcolor\":\"white\",\"linecolor\":\"white\",\"ticks\":\"\",\"title\":{\"standoff\":15},\"zerolinecolor\":\"white\",\"automargin\":true,\"zerolinewidth\":2},\"yaxis\":{\"gridcolor\":\"white\",\"linecolor\":\"white\",\"ticks\":\"\",\"title\":{\"standoff\":15},\"zerolinecolor\":\"white\",\"automargin\":true,\"zerolinewidth\":2},\"scene\":{\"xaxis\":{\"backgroundcolor\":\"#E5ECF6\",\"gridcolor\":\"white\",\"linecolor\":\"white\",\"showbackground\":true,\"ticks\":\"\",\"zerolinecolor\":\"white\",\"gridwidth\":2},\"yaxis\":{\"backgroundcolor\":\"#E5ECF6\",\"gridcolor\":\"white\",\"linecolor\":\"white\",\"showbackground\":true,\"ticks\":\"\",\"zerolinecolor\":\"white\",\"gridwidth\":2},\"zaxis\":{\"backgroundcolor\":\"#E5ECF6\",\"gridcolor\":\"white\",\"linecolor\":\"white\",\"showbackground\":true,\"ticks\":\"\",\"zerolinecolor\":\"white\",\"gridwidth\":2}},\"shapedefaults\":{\"line\":{\"color\":\"#2a3f5f\"}},\"annotationdefaults\":{\"arrowcolor\":\"#2a3f5f\",\"arrowhead\":0,\"arrowwidth\":1},\"geo\":{\"bgcolor\":\"white\",\"landcolor\":\"#E5ECF6\",\"subunitcolor\":\"white\",\"showland\":true,\"showlakes\":true,\"lakecolor\":\"white\"},\"title\":{\"x\":0.05},\"mapbox\":{\"style\":\"light\"}}},\"xaxis\":{\"anchor\":\"y\",\"domain\":[0.0,1.0],\"title\":{\"text\":\"controllers\"}},\"yaxis\":{\"anchor\":\"x\",\"domain\":[0.0,1.0],\"title\":{\"text\":\" [km]\"},\"type\":\"log\"},\"legend\":{\"tracegroupgap\":0},\"margin\":{\"t\":60},\"boxmode\":\"group\",\"title\":{\"text\":\"Mean minimum distance to target among all platforms\"}},                        {\"responsive\": true}                    ).then(function(){\n",
       "                            \n",
       "var gd = document.getElementById('c21adfa7-7b73-49a9-a8f5-1b4625485ba0');\n",
       "var x = new MutationObserver(function (mutations, observer) {{\n",
       "        var display = window.getComputedStyle(gd).display;\n",
       "        if (!display || display === 'none') {{\n",
       "            console.log([gd, 'removed!']);\n",
       "            Plotly.purge(gd);\n",
       "            observer.disconnect();\n",
       "        }}\n",
       "}});\n",
       "\n",
       "// Listen for the removal of the full notebook cells\n",
       "var notebookContainer = gd.closest('#notebook-container');\n",
       "if (notebookContainer) {{\n",
       "    x.observe(notebookContainer, {childList: true});\n",
       "}}\n",
       "\n",
       "// Listen for the clearing of the current output cell\n",
       "var outputEl = gd.closest('.output');\n",
       "if (outputEl) {{\n",
       "    x.observe(outputEl, {childList: true});\n",
       "}}\n",
       "\n",
       "                        })                };                });            </script>        </div>"
      ]
     },
     "metadata": {},
     "output_type": "display_data"
    }
   ],
   "source": [
    "mean_min_dist_dict = {\"hj_naive\": Distance(deg=metrics_hj_naive[\"Mean minimum distance to target among all platforms in deg\"]).km,\n",
    "                      \"hj_reactive\": Distance(deg=metrics_hj_reactive[\"Mean minimum distance to target among all platforms in deg\"]).km,\n",
    "                      \"flocking\":Distance(deg=metrics_hj_flocking[\"Mean minimum distance to target among all platforms in deg\"]).km}\n",
    "idx_list = []\n",
    "mean_min_dist_df = pd.DataFrame(mean_min_dist_dict)\n",
    "fig_min_dist = px.box(mean_min_dist_df, log_y=True)\n",
    "mean_trace = go.Scatter(\n",
    "    x=mean_min_dist_df.columns,\n",
    "    y=mean_min_dist_df.mean(),\n",
    "    mode='lines',\n",
    "    line=dict(color='green', width=2),\n",
    "    showlegend=True,\n",
    "    name=\"mean\"\n",
    ")\n",
    "fig_min_dist.add_trace(mean_trace)\n",
    "# Add custom x and y labels\n",
    "fig_min_dist.update_layout(\n",
    "    xaxis_title=\"controllers\",\n",
    "    yaxis_title=\" [km]\",\n",
    "    title = {'text': \"Mean minimum distance to target among all platforms\"}\n",
    ")\n",
    "fig_min_dist.show()"
   ]
  },
  {
   "attachments": {},
   "cell_type": "markdown",
   "metadata": {},
   "source": [
    "+ Mean maximum correction from optimal control degrees"
   ]
  },
  {
   "cell_type": "code",
   "execution_count": 14,
   "metadata": {},
   "outputs": [
    {
     "data": {
      "application/vnd.plotly.v1+json": {
       "config": {
        "plotlyServerURL": "https://plot.ly"
       },
       "data": [
        {
         "alignmentgroup": "True",
         "hovertemplate": "variable=%{x}<br>value=%{y}<extra></extra>",
         "legendgroup": "",
         "marker": {
          "color": "#636efa"
         },
         "name": "",
         "notched": false,
         "offsetgroup": "",
         "orientation": "v",
         "showlegend": false,
         "type": "box",
         "x": [
          "hj_naive",
          "hj_naive",
          "hj_naive",
          "hj_naive",
          "hj_naive",
          "hj_naive",
          "hj_naive",
          "hj_naive",
          "hj_naive",
          "hj_naive",
          "hj_naive",
          "hj_naive",
          "hj_naive",
          "hj_naive",
          "hj_naive",
          "hj_naive",
          "hj_naive",
          "hj_naive",
          "hj_naive",
          "hj_naive",
          "hj_naive",
          "hj_naive",
          "hj_naive",
          "hj_naive",
          "hj_naive",
          "hj_naive",
          "hj_naive",
          "hj_naive",
          "hj_naive",
          "hj_naive",
          "hj_naive",
          "hj_naive",
          "hj_naive",
          "hj_naive",
          "hj_naive",
          "hj_naive",
          "hj_naive",
          "hj_naive",
          "hj_naive",
          "hj_naive",
          "hj_naive",
          "hj_naive",
          "hj_naive",
          "hj_naive",
          "hj_naive",
          "hj_naive",
          "hj_naive",
          "hj_naive",
          "hj_naive",
          "hj_naive",
          "hj_naive",
          "hj_naive",
          "hj_naive",
          "hj_naive",
          "hj_naive",
          "hj_naive",
          "hj_naive",
          "hj_naive",
          "hj_naive",
          "hj_naive",
          "hj_naive",
          "hj_naive",
          "hj_naive",
          "hj_naive",
          "hj_naive",
          "hj_naive",
          "hj_naive",
          "hj_naive",
          "hj_naive",
          "hj_naive",
          "hj_naive",
          "hj_naive",
          "hj_naive",
          "hj_naive",
          "hj_naive",
          "hj_naive",
          "hj_naive",
          "hj_naive",
          "hj_naive",
          "hj_naive",
          "hj_naive",
          "hj_naive",
          "hj_naive",
          "hj_naive",
          "hj_naive",
          "hj_naive",
          "hj_naive",
          "hj_naive",
          "hj_naive",
          "hj_naive",
          "hj_naive",
          "hj_naive",
          "hj_naive",
          "hj_naive",
          "hj_naive",
          "hj_naive",
          "hj_naive",
          "hj_naive",
          "hj_naive",
          "hj_naive",
          "hj_naive",
          "hj_naive",
          "hj_naive",
          "hj_naive",
          "hj_naive",
          "hj_naive",
          "hj_naive",
          "hj_naive",
          "hj_naive",
          "hj_naive",
          "hj_naive",
          "hj_naive",
          "hj_naive",
          "hj_naive",
          "hj_naive",
          "hj_naive",
          "hj_naive",
          "hj_naive",
          "hj_naive",
          "hj_naive",
          "hj_naive",
          "hj_naive",
          "hj_naive",
          "hj_naive",
          "hj_naive",
          "hj_naive",
          "hj_naive",
          "hj_naive",
          "hj_naive",
          "hj_naive",
          "hj_naive",
          "hj_naive",
          "hj_naive",
          "hj_naive",
          "hj_naive",
          "hj_naive",
          "hj_naive",
          "hj_naive",
          "hj_naive",
          "hj_naive",
          "hj_naive",
          "hj_naive",
          "hj_naive",
          "hj_naive",
          "hj_naive",
          "hj_naive",
          "hj_naive",
          "hj_naive",
          "hj_naive",
          "hj_naive",
          "hj_naive",
          "hj_naive",
          "hj_naive",
          "hj_naive",
          "hj_naive",
          "hj_naive",
          "hj_naive",
          "hj_naive",
          "hj_naive",
          "hj_naive",
          "hj_naive",
          "hj_naive",
          "hj_naive",
          "hj_naive",
          "hj_naive",
          "hj_naive",
          "hj_naive",
          "hj_naive",
          "hj_naive",
          "hj_naive",
          "hj_naive",
          "hj_naive",
          "hj_naive",
          "hj_naive",
          "hj_naive",
          "hj_naive",
          "hj_naive",
          "hj_naive",
          "hj_naive",
          "hj_naive",
          "hj_naive",
          "hj_naive",
          "hj_naive",
          "hj_naive",
          "hj_naive",
          "hj_naive",
          "hj_naive",
          "hj_naive",
          "hj_naive",
          "hj_naive",
          "hj_naive",
          "hj_naive",
          "hj_naive",
          "hj_naive",
          "hj_naive",
          "hj_naive",
          "hj_naive",
          "hj_naive",
          "hj_naive",
          "hj_naive",
          "hj_naive",
          "hj_naive",
          "hj_naive",
          "hj_naive",
          "hj_naive",
          "hj_naive",
          "hj_naive",
          "hj_naive",
          "hj_naive",
          "hj_naive",
          "hj_naive",
          "hj_naive",
          "hj_naive",
          "hj_naive",
          "hj_naive",
          "hj_naive",
          "hj_naive",
          "hj_naive",
          "hj_naive",
          "hj_naive",
          "hj_naive",
          "hj_naive",
          "hj_naive",
          "hj_naive",
          "hj_naive",
          "hj_naive",
          "hj_naive",
          "hj_naive",
          "hj_naive",
          "hj_naive",
          "hj_naive",
          "hj_naive",
          "hj_naive",
          "hj_naive",
          "hj_naive",
          "hj_naive",
          "hj_naive",
          "hj_naive",
          "hj_naive",
          "hj_naive",
          "hj_naive",
          "hj_naive",
          "hj_naive",
          "hj_naive",
          "hj_naive",
          "hj_naive",
          "hj_naive",
          "hj_naive",
          "hj_naive",
          "hj_naive",
          "hj_naive",
          "hj_naive",
          "hj_naive",
          "hj_naive",
          "hj_naive",
          "hj_naive",
          "hj_naive",
          "hj_naive",
          "hj_naive",
          "hj_naive",
          "hj_naive",
          "hj_naive",
          "hj_naive",
          "hj_naive",
          "hj_naive",
          "hj_naive",
          "hj_naive",
          "hj_naive",
          "hj_naive",
          "hj_naive",
          "hj_naive",
          "hj_naive",
          "hj_naive",
          "hj_naive",
          "hj_naive",
          "hj_naive",
          "hj_naive",
          "hj_naive",
          "hj_naive",
          "hj_naive",
          "hj_naive",
          "hj_naive",
          "hj_naive",
          "hj_naive",
          "hj_naive",
          "hj_naive",
          "hj_naive",
          "hj_naive",
          "hj_naive",
          "hj_naive",
          "hj_naive",
          "hj_naive",
          "hj_naive",
          "hj_naive",
          "hj_naive",
          "hj_naive",
          "hj_naive",
          "hj_naive",
          "hj_naive",
          "hj_naive",
          "hj_naive",
          "hj_naive",
          "hj_naive",
          "hj_naive",
          "hj_naive",
          "hj_naive",
          "hj_naive",
          "hj_naive",
          "hj_naive",
          "hj_naive",
          "hj_naive",
          "hj_naive",
          "hj_naive",
          "hj_naive",
          "hj_naive",
          "hj_naive",
          "hj_naive",
          "hj_naive",
          "hj_naive",
          "hj_naive",
          "hj_naive",
          "hj_naive",
          "hj_naive",
          "hj_naive",
          "hj_naive",
          "hj_naive",
          "hj_naive",
          "hj_naive",
          "hj_naive",
          "hj_naive",
          "hj_naive",
          "hj_naive",
          "hj_naive",
          "hj_naive",
          "hj_naive",
          "hj_naive",
          "hj_naive",
          "hj_naive",
          "hj_naive",
          "hj_naive",
          "hj_naive",
          "hj_naive",
          "hj_naive",
          "hj_naive",
          "hj_naive",
          "hj_naive",
          "hj_naive",
          "hj_naive",
          "hj_naive",
          "hj_naive",
          "hj_naive",
          "hj_naive",
          "hj_naive",
          "hj_naive",
          "hj_naive",
          "hj_naive",
          "hj_naive",
          "hj_naive",
          "hj_naive",
          "hj_naive",
          "hj_naive",
          "hj_naive",
          "hj_naive",
          "hj_naive",
          "hj_naive",
          "hj_naive",
          "hj_naive",
          "hj_naive",
          "hj_naive",
          "hj_naive",
          "hj_naive",
          "hj_naive",
          "hj_naive",
          "hj_naive",
          "hj_naive",
          "hj_naive",
          "hj_naive",
          "hj_naive",
          "hj_naive",
          "hj_naive",
          "hj_naive",
          "hj_naive",
          "hj_naive",
          "hj_naive",
          "hj_naive",
          "hj_naive",
          "hj_naive",
          "hj_naive",
          "hj_naive",
          "hj_naive",
          "hj_naive",
          "hj_naive",
          "hj_naive",
          "hj_naive",
          "hj_naive",
          "hj_naive",
          "hj_naive",
          "hj_naive",
          "hj_naive",
          "hj_naive",
          "hj_naive",
          "hj_naive",
          "hj_naive",
          "hj_naive",
          "hj_naive",
          "hj_naive",
          "hj_naive",
          "hj_naive",
          "hj_naive",
          "hj_naive",
          "hj_naive",
          "hj_naive",
          "hj_naive",
          "hj_naive",
          "hj_naive",
          "hj_naive",
          "hj_naive",
          "hj_naive",
          "hj_naive",
          "hj_naive",
          "hj_naive",
          "hj_naive",
          "hj_naive",
          "hj_naive",
          "hj_naive",
          "hj_naive",
          "hj_naive",
          "hj_naive",
          "hj_naive",
          "hj_naive",
          "hj_naive",
          "hj_naive",
          "hj_naive",
          "hj_naive",
          "hj_naive",
          "hj_naive",
          "hj_naive",
          "hj_naive",
          "hj_naive",
          "hj_naive",
          "hj_naive",
          "hj_naive",
          "hj_naive",
          "hj_naive",
          "hj_naive",
          "hj_naive",
          "hj_naive",
          "hj_naive",
          "hj_naive",
          "hj_naive",
          "hj_naive",
          "hj_naive",
          "hj_naive",
          "hj_naive",
          "hj_naive",
          "hj_naive",
          "hj_naive",
          "hj_naive",
          "hj_naive",
          "hj_naive",
          "hj_naive",
          "hj_naive",
          "hj_naive",
          "hj_naive",
          "hj_naive",
          "hj_naive",
          "hj_naive",
          "hj_naive",
          "hj_naive",
          "hj_naive",
          "hj_naive",
          "hj_naive",
          "hj_naive",
          "hj_naive",
          "hj_naive",
          "hj_naive",
          "hj_naive",
          "hj_naive",
          "hj_naive",
          "hj_naive",
          "hj_naive",
          "hj_naive",
          "hj_naive",
          "hj_naive",
          "hj_naive",
          "hj_naive",
          "hj_naive",
          "hj_naive",
          "hj_naive",
          "hj_naive",
          "hj_naive",
          "hj_naive",
          "hj_naive",
          "hj_naive",
          "hj_naive",
          "hj_naive",
          "hj_naive",
          "hj_naive",
          "hj_naive",
          "hj_naive",
          "hj_naive",
          "hj_naive",
          "hj_naive",
          "hj_naive",
          "hj_naive",
          "hj_naive",
          "hj_naive",
          "hj_naive",
          "hj_naive",
          "hj_naive",
          "hj_naive",
          "hj_naive",
          "hj_naive",
          "hj_naive",
          "hj_naive",
          "hj_naive",
          "hj_naive",
          "hj_naive",
          "hj_naive",
          "hj_naive",
          "hj_naive",
          "hj_naive",
          "hj_naive",
          "hj_naive",
          "hj_naive",
          "hj_naive",
          "hj_naive",
          "hj_naive",
          "hj_naive",
          "hj_naive",
          "hj_naive",
          "hj_naive",
          "hj_naive",
          "hj_naive",
          "hj_naive",
          "hj_naive",
          "hj_naive",
          "hj_naive",
          "hj_naive",
          "hj_naive",
          "hj_naive",
          "hj_naive",
          "hj_naive",
          "hj_naive",
          "hj_naive",
          "hj_naive",
          "hj_naive",
          "hj_naive",
          "hj_reactive",
          "hj_reactive",
          "hj_reactive",
          "hj_reactive",
          "hj_reactive",
          "hj_reactive",
          "hj_reactive",
          "hj_reactive",
          "hj_reactive",
          "hj_reactive",
          "hj_reactive",
          "hj_reactive",
          "hj_reactive",
          "hj_reactive",
          "hj_reactive",
          "hj_reactive",
          "hj_reactive",
          "hj_reactive",
          "hj_reactive",
          "hj_reactive",
          "hj_reactive",
          "hj_reactive",
          "hj_reactive",
          "hj_reactive",
          "hj_reactive",
          "hj_reactive",
          "hj_reactive",
          "hj_reactive",
          "hj_reactive",
          "hj_reactive",
          "hj_reactive",
          "hj_reactive",
          "hj_reactive",
          "hj_reactive",
          "hj_reactive",
          "hj_reactive",
          "hj_reactive",
          "hj_reactive",
          "hj_reactive",
          "hj_reactive",
          "hj_reactive",
          "hj_reactive",
          "hj_reactive",
          "hj_reactive",
          "hj_reactive",
          "hj_reactive",
          "hj_reactive",
          "hj_reactive",
          "hj_reactive",
          "hj_reactive",
          "hj_reactive",
          "hj_reactive",
          "hj_reactive",
          "hj_reactive",
          "hj_reactive",
          "hj_reactive",
          "hj_reactive",
          "hj_reactive",
          "hj_reactive",
          "hj_reactive",
          "hj_reactive",
          "hj_reactive",
          "hj_reactive",
          "hj_reactive",
          "hj_reactive",
          "hj_reactive",
          "hj_reactive",
          "hj_reactive",
          "hj_reactive",
          "hj_reactive",
          "hj_reactive",
          "hj_reactive",
          "hj_reactive",
          "hj_reactive",
          "hj_reactive",
          "hj_reactive",
          "hj_reactive",
          "hj_reactive",
          "hj_reactive",
          "hj_reactive",
          "hj_reactive",
          "hj_reactive",
          "hj_reactive",
          "hj_reactive",
          "hj_reactive",
          "hj_reactive",
          "hj_reactive",
          "hj_reactive",
          "hj_reactive",
          "hj_reactive",
          "hj_reactive",
          "hj_reactive",
          "hj_reactive",
          "hj_reactive",
          "hj_reactive",
          "hj_reactive",
          "hj_reactive",
          "hj_reactive",
          "hj_reactive",
          "hj_reactive",
          "hj_reactive",
          "hj_reactive",
          "hj_reactive",
          "hj_reactive",
          "hj_reactive",
          "hj_reactive",
          "hj_reactive",
          "hj_reactive",
          "hj_reactive",
          "hj_reactive",
          "hj_reactive",
          "hj_reactive",
          "hj_reactive",
          "hj_reactive",
          "hj_reactive",
          "hj_reactive",
          "hj_reactive",
          "hj_reactive",
          "hj_reactive",
          "hj_reactive",
          "hj_reactive",
          "hj_reactive",
          "hj_reactive",
          "hj_reactive",
          "hj_reactive",
          "hj_reactive",
          "hj_reactive",
          "hj_reactive",
          "hj_reactive",
          "hj_reactive",
          "hj_reactive",
          "hj_reactive",
          "hj_reactive",
          "hj_reactive",
          "hj_reactive",
          "hj_reactive",
          "hj_reactive",
          "hj_reactive",
          "hj_reactive",
          "hj_reactive",
          "hj_reactive",
          "hj_reactive",
          "hj_reactive",
          "hj_reactive",
          "hj_reactive",
          "hj_reactive",
          "hj_reactive",
          "hj_reactive",
          "hj_reactive",
          "hj_reactive",
          "hj_reactive",
          "hj_reactive",
          "hj_reactive",
          "hj_reactive",
          "hj_reactive",
          "hj_reactive",
          "hj_reactive",
          "hj_reactive",
          "hj_reactive",
          "hj_reactive",
          "hj_reactive",
          "hj_reactive",
          "hj_reactive",
          "hj_reactive",
          "hj_reactive",
          "hj_reactive",
          "hj_reactive",
          "hj_reactive",
          "hj_reactive",
          "hj_reactive",
          "hj_reactive",
          "hj_reactive",
          "hj_reactive",
          "hj_reactive",
          "hj_reactive",
          "hj_reactive",
          "hj_reactive",
          "hj_reactive",
          "hj_reactive",
          "hj_reactive",
          "hj_reactive",
          "hj_reactive",
          "hj_reactive",
          "hj_reactive",
          "hj_reactive",
          "hj_reactive",
          "hj_reactive",
          "hj_reactive",
          "hj_reactive",
          "hj_reactive",
          "hj_reactive",
          "hj_reactive",
          "hj_reactive",
          "hj_reactive",
          "hj_reactive",
          "hj_reactive",
          "hj_reactive",
          "hj_reactive",
          "hj_reactive",
          "hj_reactive",
          "hj_reactive",
          "hj_reactive",
          "hj_reactive",
          "hj_reactive",
          "hj_reactive",
          "hj_reactive",
          "hj_reactive",
          "hj_reactive",
          "hj_reactive",
          "hj_reactive",
          "hj_reactive",
          "hj_reactive",
          "hj_reactive",
          "hj_reactive",
          "hj_reactive",
          "hj_reactive",
          "hj_reactive",
          "hj_reactive",
          "hj_reactive",
          "hj_reactive",
          "hj_reactive",
          "hj_reactive",
          "hj_reactive",
          "hj_reactive",
          "hj_reactive",
          "hj_reactive",
          "hj_reactive",
          "hj_reactive",
          "hj_reactive",
          "hj_reactive",
          "hj_reactive",
          "hj_reactive",
          "hj_reactive",
          "hj_reactive",
          "hj_reactive",
          "hj_reactive",
          "hj_reactive",
          "hj_reactive",
          "hj_reactive",
          "hj_reactive",
          "hj_reactive",
          "hj_reactive",
          "hj_reactive",
          "hj_reactive",
          "hj_reactive",
          "hj_reactive",
          "hj_reactive",
          "hj_reactive",
          "hj_reactive",
          "hj_reactive",
          "hj_reactive",
          "hj_reactive",
          "hj_reactive",
          "hj_reactive",
          "hj_reactive",
          "hj_reactive",
          "hj_reactive",
          "hj_reactive",
          "hj_reactive",
          "hj_reactive",
          "hj_reactive",
          "hj_reactive",
          "hj_reactive",
          "hj_reactive",
          "hj_reactive",
          "hj_reactive",
          "hj_reactive",
          "hj_reactive",
          "hj_reactive",
          "hj_reactive",
          "hj_reactive",
          "hj_reactive",
          "hj_reactive",
          "hj_reactive",
          "hj_reactive",
          "hj_reactive",
          "hj_reactive",
          "hj_reactive",
          "hj_reactive",
          "hj_reactive",
          "hj_reactive",
          "hj_reactive",
          "hj_reactive",
          "hj_reactive",
          "hj_reactive",
          "hj_reactive",
          "hj_reactive",
          "hj_reactive",
          "hj_reactive",
          "hj_reactive",
          "hj_reactive",
          "hj_reactive",
          "hj_reactive",
          "hj_reactive",
          "hj_reactive",
          "hj_reactive",
          "hj_reactive",
          "hj_reactive",
          "hj_reactive",
          "hj_reactive",
          "hj_reactive",
          "hj_reactive",
          "hj_reactive",
          "hj_reactive",
          "hj_reactive",
          "hj_reactive",
          "hj_reactive",
          "hj_reactive",
          "hj_reactive",
          "hj_reactive",
          "hj_reactive",
          "hj_reactive",
          "hj_reactive",
          "hj_reactive",
          "hj_reactive",
          "hj_reactive",
          "hj_reactive",
          "hj_reactive",
          "hj_reactive",
          "hj_reactive",
          "hj_reactive",
          "hj_reactive",
          "hj_reactive",
          "hj_reactive",
          "hj_reactive",
          "hj_reactive",
          "hj_reactive",
          "hj_reactive",
          "hj_reactive",
          "hj_reactive",
          "hj_reactive",
          "hj_reactive",
          "hj_reactive",
          "hj_reactive",
          "hj_reactive",
          "hj_reactive",
          "hj_reactive",
          "hj_reactive",
          "hj_reactive",
          "hj_reactive",
          "hj_reactive",
          "hj_reactive",
          "hj_reactive",
          "hj_reactive",
          "hj_reactive",
          "hj_reactive",
          "hj_reactive",
          "hj_reactive",
          "hj_reactive",
          "hj_reactive",
          "hj_reactive",
          "hj_reactive",
          "hj_reactive",
          "hj_reactive",
          "hj_reactive",
          "hj_reactive",
          "hj_reactive",
          "hj_reactive",
          "hj_reactive",
          "hj_reactive",
          "hj_reactive",
          "hj_reactive",
          "hj_reactive",
          "hj_reactive",
          "hj_reactive",
          "hj_reactive",
          "hj_reactive",
          "hj_reactive",
          "hj_reactive",
          "hj_reactive",
          "hj_reactive",
          "hj_reactive",
          "hj_reactive",
          "hj_reactive",
          "hj_reactive",
          "hj_reactive",
          "hj_reactive",
          "hj_reactive",
          "hj_reactive",
          "hj_reactive",
          "hj_reactive",
          "hj_reactive",
          "hj_reactive",
          "hj_reactive",
          "hj_reactive",
          "hj_reactive",
          "hj_reactive",
          "hj_reactive",
          "hj_reactive",
          "hj_reactive",
          "hj_reactive",
          "hj_reactive",
          "hj_reactive",
          "hj_reactive",
          "hj_reactive",
          "hj_reactive",
          "hj_reactive",
          "hj_reactive",
          "hj_reactive",
          "hj_reactive",
          "hj_reactive",
          "hj_reactive",
          "hj_reactive",
          "hj_reactive",
          "hj_reactive",
          "hj_reactive",
          "hj_reactive",
          "hj_reactive",
          "hj_reactive",
          "hj_reactive",
          "hj_reactive",
          "hj_reactive",
          "hj_reactive",
          "hj_reactive",
          "hj_reactive",
          "hj_reactive",
          "hj_reactive",
          "hj_reactive",
          "hj_reactive",
          "hj_reactive",
          "hj_reactive",
          "hj_reactive",
          "hj_reactive",
          "hj_reactive",
          "hj_reactive",
          "hj_reactive",
          "hj_reactive",
          "hj_reactive",
          "hj_reactive",
          "hj_reactive",
          "hj_reactive",
          "hj_reactive",
          "hj_reactive",
          "hj_reactive",
          "hj_reactive",
          "hj_reactive",
          "hj_reactive",
          "hj_reactive",
          "hj_reactive",
          "hj_reactive",
          "hj_reactive",
          "hj_reactive",
          "hj_reactive",
          "hj_reactive",
          "hj_reactive",
          "hj_reactive",
          "hj_reactive",
          "hj_reactive",
          "hj_reactive",
          "hj_reactive",
          "hj_reactive",
          "hj_reactive",
          "hj_reactive",
          "hj_reactive",
          "hj_reactive",
          "hj_reactive",
          "hj_reactive",
          "hj_reactive",
          "hj_reactive",
          "hj_reactive",
          "hj_reactive",
          "hj_reactive",
          "hj_reactive",
          "hj_reactive",
          "hj_reactive",
          "hj_reactive",
          "hj_reactive",
          "hj_reactive",
          "hj_reactive",
          "hj_reactive",
          "hj_reactive",
          "hj_reactive",
          "hj_reactive",
          "hj_reactive",
          "hj_reactive",
          "hj_reactive",
          "hj_reactive",
          "hj_reactive",
          "hj_reactive",
          "hj_reactive",
          "hj_reactive",
          "hj_reactive",
          "hj_reactive",
          "hj_reactive",
          "hj_reactive",
          "hj_reactive",
          "hj_reactive",
          "hj_reactive",
          "hj_reactive",
          "hj_reactive",
          "hj_reactive",
          "hj_reactive",
          "hj_reactive",
          "hj_reactive",
          "hj_reactive",
          "hj_reactive",
          "hj_reactive",
          "hj_reactive",
          "hj_reactive",
          "hj_reactive",
          "hj_reactive",
          "hj_reactive",
          "hj_reactive",
          "hj_reactive",
          "hj_reactive",
          "hj_reactive",
          "hj_reactive",
          "hj_reactive",
          "hj_reactive",
          "hj_reactive",
          "hj_reactive",
          "hj_reactive",
          "hj_reactive",
          "hj_reactive",
          "hj_reactive",
          "hj_reactive",
          "hj_reactive",
          "hj_reactive",
          "hj_reactive",
          "hj_reactive",
          "hj_reactive",
          "hj_reactive",
          "hj_reactive",
          "hj_reactive",
          "hj_reactive",
          "hj_reactive",
          "hj_reactive",
          "hj_reactive",
          "hj_reactive",
          "hj_reactive",
          "hj_reactive",
          "hj_reactive",
          "hj_reactive",
          "hj_reactive",
          "hj_reactive",
          "hj_reactive",
          "hj_reactive",
          "hj_reactive",
          "hj_reactive",
          "hj_reactive",
          "hj_reactive",
          "hj_reactive",
          "hj_reactive",
          "hj_reactive",
          "hj_reactive",
          "hj_reactive",
          "hj_reactive",
          "hj_reactive",
          "flocking",
          "flocking",
          "flocking",
          "flocking",
          "flocking",
          "flocking",
          "flocking",
          "flocking",
          "flocking",
          "flocking",
          "flocking",
          "flocking",
          "flocking",
          "flocking",
          "flocking",
          "flocking",
          "flocking",
          "flocking",
          "flocking",
          "flocking",
          "flocking",
          "flocking",
          "flocking",
          "flocking",
          "flocking",
          "flocking",
          "flocking",
          "flocking",
          "flocking",
          "flocking",
          "flocking",
          "flocking",
          "flocking",
          "flocking",
          "flocking",
          "flocking",
          "flocking",
          "flocking",
          "flocking",
          "flocking",
          "flocking",
          "flocking",
          "flocking",
          "flocking",
          "flocking",
          "flocking",
          "flocking",
          "flocking",
          "flocking",
          "flocking",
          "flocking",
          "flocking",
          "flocking",
          "flocking",
          "flocking",
          "flocking",
          "flocking",
          "flocking",
          "flocking",
          "flocking",
          "flocking",
          "flocking",
          "flocking",
          "flocking",
          "flocking",
          "flocking",
          "flocking",
          "flocking",
          "flocking",
          "flocking",
          "flocking",
          "flocking",
          "flocking",
          "flocking",
          "flocking",
          "flocking",
          "flocking",
          "flocking",
          "flocking",
          "flocking",
          "flocking",
          "flocking",
          "flocking",
          "flocking",
          "flocking",
          "flocking",
          "flocking",
          "flocking",
          "flocking",
          "flocking",
          "flocking",
          "flocking",
          "flocking",
          "flocking",
          "flocking",
          "flocking",
          "flocking",
          "flocking",
          "flocking",
          "flocking",
          "flocking",
          "flocking",
          "flocking",
          "flocking",
          "flocking",
          "flocking",
          "flocking",
          "flocking",
          "flocking",
          "flocking",
          "flocking",
          "flocking",
          "flocking",
          "flocking",
          "flocking",
          "flocking",
          "flocking",
          "flocking",
          "flocking",
          "flocking",
          "flocking",
          "flocking",
          "flocking",
          "flocking",
          "flocking",
          "flocking",
          "flocking",
          "flocking",
          "flocking",
          "flocking",
          "flocking",
          "flocking",
          "flocking",
          "flocking",
          "flocking",
          "flocking",
          "flocking",
          "flocking",
          "flocking",
          "flocking",
          "flocking",
          "flocking",
          "flocking",
          "flocking",
          "flocking",
          "flocking",
          "flocking",
          "flocking",
          "flocking",
          "flocking",
          "flocking",
          "flocking",
          "flocking",
          "flocking",
          "flocking",
          "flocking",
          "flocking",
          "flocking",
          "flocking",
          "flocking",
          "flocking",
          "flocking",
          "flocking",
          "flocking",
          "flocking",
          "flocking",
          "flocking",
          "flocking",
          "flocking",
          "flocking",
          "flocking",
          "flocking",
          "flocking",
          "flocking",
          "flocking",
          "flocking",
          "flocking",
          "flocking",
          "flocking",
          "flocking",
          "flocking",
          "flocking",
          "flocking",
          "flocking",
          "flocking",
          "flocking",
          "flocking",
          "flocking",
          "flocking",
          "flocking",
          "flocking",
          "flocking",
          "flocking",
          "flocking",
          "flocking",
          "flocking",
          "flocking",
          "flocking",
          "flocking",
          "flocking",
          "flocking",
          "flocking",
          "flocking",
          "flocking",
          "flocking",
          "flocking",
          "flocking",
          "flocking",
          "flocking",
          "flocking",
          "flocking",
          "flocking",
          "flocking",
          "flocking",
          "flocking",
          "flocking",
          "flocking",
          "flocking",
          "flocking",
          "flocking",
          "flocking",
          "flocking",
          "flocking",
          "flocking",
          "flocking",
          "flocking",
          "flocking",
          "flocking",
          "flocking",
          "flocking",
          "flocking",
          "flocking",
          "flocking",
          "flocking",
          "flocking",
          "flocking",
          "flocking",
          "flocking",
          "flocking",
          "flocking",
          "flocking",
          "flocking",
          "flocking",
          "flocking",
          "flocking",
          "flocking",
          "flocking",
          "flocking",
          "flocking",
          "flocking",
          "flocking",
          "flocking",
          "flocking",
          "flocking",
          "flocking",
          "flocking",
          "flocking",
          "flocking",
          "flocking",
          "flocking",
          "flocking",
          "flocking",
          "flocking",
          "flocking",
          "flocking",
          "flocking",
          "flocking",
          "flocking",
          "flocking",
          "flocking",
          "flocking",
          "flocking",
          "flocking",
          "flocking",
          "flocking",
          "flocking",
          "flocking",
          "flocking",
          "flocking",
          "flocking",
          "flocking",
          "flocking",
          "flocking",
          "flocking",
          "flocking",
          "flocking",
          "flocking",
          "flocking",
          "flocking",
          "flocking",
          "flocking",
          "flocking",
          "flocking",
          "flocking",
          "flocking",
          "flocking",
          "flocking",
          "flocking",
          "flocking",
          "flocking",
          "flocking",
          "flocking",
          "flocking",
          "flocking",
          "flocking",
          "flocking",
          "flocking",
          "flocking",
          "flocking",
          "flocking",
          "flocking",
          "flocking",
          "flocking",
          "flocking",
          "flocking",
          "flocking",
          "flocking",
          "flocking",
          "flocking",
          "flocking",
          "flocking",
          "flocking",
          "flocking",
          "flocking",
          "flocking",
          "flocking",
          "flocking",
          "flocking",
          "flocking",
          "flocking",
          "flocking",
          "flocking",
          "flocking",
          "flocking",
          "flocking",
          "flocking",
          "flocking",
          "flocking",
          "flocking",
          "flocking",
          "flocking",
          "flocking",
          "flocking",
          "flocking",
          "flocking",
          "flocking",
          "flocking",
          "flocking",
          "flocking",
          "flocking",
          "flocking",
          "flocking",
          "flocking",
          "flocking",
          "flocking",
          "flocking",
          "flocking",
          "flocking",
          "flocking",
          "flocking",
          "flocking",
          "flocking",
          "flocking",
          "flocking",
          "flocking",
          "flocking",
          "flocking",
          "flocking",
          "flocking",
          "flocking",
          "flocking",
          "flocking",
          "flocking",
          "flocking",
          "flocking",
          "flocking",
          "flocking",
          "flocking",
          "flocking",
          "flocking",
          "flocking",
          "flocking",
          "flocking",
          "flocking",
          "flocking",
          "flocking",
          "flocking",
          "flocking",
          "flocking",
          "flocking",
          "flocking",
          "flocking",
          "flocking",
          "flocking",
          "flocking",
          "flocking",
          "flocking",
          "flocking",
          "flocking",
          "flocking",
          "flocking",
          "flocking",
          "flocking",
          "flocking",
          "flocking",
          "flocking",
          "flocking",
          "flocking",
          "flocking",
          "flocking",
          "flocking",
          "flocking",
          "flocking",
          "flocking",
          "flocking",
          "flocking",
          "flocking",
          "flocking",
          "flocking",
          "flocking",
          "flocking",
          "flocking",
          "flocking",
          "flocking",
          "flocking",
          "flocking",
          "flocking",
          "flocking",
          "flocking",
          "flocking",
          "flocking",
          "flocking",
          "flocking",
          "flocking",
          "flocking",
          "flocking",
          "flocking",
          "flocking",
          "flocking",
          "flocking",
          "flocking",
          "flocking",
          "flocking",
          "flocking",
          "flocking",
          "flocking",
          "flocking",
          "flocking",
          "flocking",
          "flocking",
          "flocking",
          "flocking",
          "flocking",
          "flocking",
          "flocking",
          "flocking",
          "flocking",
          "flocking",
          "flocking",
          "flocking",
          "flocking",
          "flocking",
          "flocking",
          "flocking",
          "flocking",
          "flocking",
          "flocking",
          "flocking",
          "flocking",
          "flocking",
          "flocking",
          "flocking",
          "flocking",
          "flocking",
          "flocking",
          "flocking",
          "flocking",
          "flocking",
          "flocking",
          "flocking",
          "flocking",
          "flocking",
          "flocking",
          "flocking",
          "flocking",
          "flocking",
          "flocking",
          "flocking",
          "flocking",
          "flocking",
          "flocking",
          "flocking",
          "flocking",
          "flocking",
          "flocking",
          "flocking",
          "flocking",
          "flocking",
          "flocking",
          "flocking",
          "flocking",
          "flocking",
          "flocking",
          "flocking",
          "flocking",
          "flocking",
          "flocking",
          "flocking",
          "flocking",
          "flocking",
          "flocking",
          "flocking",
          "flocking",
          "flocking",
          "flocking",
          "flocking",
          "flocking",
          "flocking",
          "flocking",
          "flocking",
          "flocking",
          "flocking",
          "flocking",
          "flocking",
          "flocking",
          "flocking",
          "flocking",
          "flocking",
          "flocking",
          "flocking",
          "flocking",
          "flocking",
          "flocking",
          "flocking",
          "flocking",
          "flocking",
          "flocking",
          "flocking",
          "flocking",
          "flocking",
          "flocking",
          "flocking",
          "flocking",
          "flocking",
          "flocking",
          "flocking",
          "flocking",
          "flocking"
         ],
         "x0": " ",
         "xaxis": "x",
         "y": [
          0,
          0,
          0,
          0,
          0,
          0,
          0,
          0,
          0,
          0,
          0,
          0,
          0,
          0,
          0,
          0,
          0,
          0,
          0,
          0,
          0,
          0,
          0,
          0,
          0,
          0,
          0,
          0,
          0,
          0,
          0,
          0,
          0,
          0,
          0,
          0,
          0,
          0,
          0,
          0,
          0,
          0,
          0,
          0,
          0,
          0,
          0,
          0,
          0,
          0,
          0,
          0,
          0,
          0,
          0,
          0,
          0,
          0,
          0,
          0,
          0,
          0,
          0,
          0,
          0,
          0,
          0,
          0,
          0,
          0,
          0,
          0,
          0,
          0,
          0,
          0,
          0,
          0,
          0,
          0,
          0,
          0,
          0,
          0,
          0,
          0,
          0,
          0,
          0,
          0,
          0,
          0,
          0,
          0,
          0,
          0,
          0,
          0,
          0,
          0,
          0,
          0,
          0,
          0,
          0,
          0,
          0,
          0,
          0,
          0,
          0,
          0,
          0,
          0,
          0,
          0,
          0,
          0,
          0,
          0,
          0,
          0,
          0,
          0,
          0,
          0,
          0,
          0,
          0,
          0,
          0,
          0,
          0,
          0,
          0,
          0,
          0,
          0,
          0,
          0,
          0,
          0,
          0,
          0,
          0,
          0,
          0,
          0,
          0,
          0,
          0,
          0,
          0,
          0,
          0,
          0,
          0,
          0,
          0,
          0,
          0,
          0,
          0,
          0,
          0,
          0,
          0,
          0,
          0,
          0,
          0,
          0,
          0,
          0,
          0,
          0,
          0,
          0,
          0,
          0,
          0,
          0,
          0,
          0,
          0,
          0,
          0,
          0,
          0,
          0,
          0,
          0,
          0,
          0,
          0,
          0,
          0,
          0,
          0,
          0,
          0,
          0,
          0,
          0,
          0,
          0,
          0,
          0,
          0,
          0,
          0,
          0,
          0,
          0,
          0,
          0,
          0,
          0,
          0,
          0,
          0,
          0,
          0,
          0,
          0,
          0,
          0,
          0,
          0,
          0,
          0,
          0,
          0,
          0,
          0,
          0,
          0,
          0,
          0,
          0,
          0,
          0,
          0,
          0,
          0,
          0,
          0,
          0,
          0,
          0,
          0,
          0,
          0,
          0,
          0,
          0,
          0,
          0,
          0,
          0,
          0,
          0,
          0,
          0,
          0,
          0,
          0,
          0,
          0,
          0,
          0,
          0,
          0,
          0,
          0,
          0,
          0,
          0,
          0,
          0,
          0,
          0,
          0,
          0,
          0,
          0,
          0,
          0,
          0,
          0,
          0,
          0,
          0,
          0,
          0,
          0,
          0,
          0,
          0,
          0,
          0,
          0,
          0,
          0,
          0,
          0,
          0,
          0,
          0,
          0,
          0,
          0,
          0,
          0,
          0,
          0,
          0,
          0,
          0,
          0,
          0,
          0,
          0,
          0,
          0,
          0,
          0,
          0,
          0,
          0,
          0,
          0,
          0,
          0,
          0,
          0,
          0,
          0,
          0,
          0,
          0,
          0,
          0,
          0,
          0,
          0,
          0,
          0,
          0,
          0,
          0,
          0,
          0,
          0,
          0,
          0,
          0,
          0,
          0,
          0,
          0,
          0,
          0,
          0,
          0,
          0,
          0,
          0,
          0,
          0,
          0,
          0,
          0,
          0,
          0,
          0,
          0,
          0,
          0,
          0,
          0,
          0,
          0,
          0,
          0,
          0,
          0,
          0,
          0,
          0,
          0,
          0,
          0,
          0,
          0,
          0,
          0,
          0,
          0,
          0,
          0,
          0,
          0,
          0,
          0,
          0,
          0,
          0,
          0,
          0,
          0,
          0,
          0,
          0,
          0,
          0,
          0,
          0,
          0,
          0,
          0,
          0,
          0,
          0,
          0,
          0,
          0,
          0,
          0,
          0,
          0,
          0,
          0,
          0,
          0,
          0,
          0,
          0,
          0,
          0,
          0,
          0,
          0,
          0,
          0,
          0,
          0,
          0,
          0,
          0,
          0,
          0,
          0,
          0,
          0,
          0,
          0,
          0,
          0,
          0,
          0,
          0,
          0,
          0,
          0,
          0,
          0,
          0,
          0,
          0,
          0,
          0,
          0,
          0,
          0,
          0,
          0,
          0,
          0,
          0,
          0,
          0,
          0,
          0,
          0,
          0,
          0,
          0,
          0,
          0,
          0,
          0,
          0,
          0,
          0,
          0,
          0,
          0,
          0,
          0,
          0,
          0,
          0,
          0,
          0,
          0,
          0,
          0,
          0,
          0,
          0,
          0,
          0,
          0,
          0,
          0,
          0,
          0,
          0,
          0,
          0,
          0,
          0,
          0,
          0,
          0,
          0,
          0,
          0,
          0,
          0,
          0,
          0,
          0,
          0,
          0,
          0,
          0,
          0,
          0,
          0,
          0,
          0,
          0,
          0,
          0,
          0,
          0,
          15.878432322163563,
          20.6667248765303,
          19.321963992812595,
          27.3200658968528,
          6.066065929984192,
          25.878370095991105,
          41.44295863010618,
          41.97206400012927,
          7.978874647362869,
          76.85558251131688,
          9.171848049651029,
          28.23351098168196,
          45.46488162456183,
          15.923810040466009,
          17.524264782703376,
          11.348776509106372,
          3.442776969842809,
          3.457544814023834,
          33.981713528225555,
          27.31422441676124,
          5.058785839416513,
          16.80563562273363,
          29.738308337019387,
          17.08001082237289,
          13.768586398050996,
          3.2851573982591376,
          5.535257791287245,
          22.62034571461474,
          22.021097818064643,
          34.99869504802853,
          5.421273732562454,
          18.649859924910466,
          61.61014392052162,
          53.74446567735337,
          42.8712691858908,
          37.22196495414738,
          32.43187528721156,
          23.20773284660094,
          25.208544483688183,
          26.99142269081948,
          25.96246348811408,
          18.126674543893103,
          36.30718770921371,
          20.4092148204426,
          26.714363539229996,
          47.40803447522501,
          44.04599540705765,
          11.067008761082825,
          36.49728843135849,
          102.57426907131044,
          18.01087295441123,
          32.96829429477819,
          49.90088565325691,
          9.61596505960452,
          25.40944072769252,
          19.1795162606656,
          20.772381512332352,
          23.64489300597755,
          72.73680198496035,
          9.687880005631758,
          31.919989348028317,
          18.16991170303405,
          10.398181317692998,
          13.52546106945642,
          13.529084594213916,
          14.689748798201611,
          10.086831102722208,
          42.58313058275247,
          19.40690242386093,
          36.18610832917629,
          55.25298476611237,
          31.687402011291613,
          17.120740473628572,
          19.84737239740143,
          18.727414958786216,
          48.24992016967232,
          30.280897879815555,
          13.986411760480392,
          16.00693588571583,
          41.02964923585477,
          29.05618054598333,
          7.403099512392994,
          10.424661009297242,
          11.783808056449397,
          7.556035785806896,
          9.94393815955154,
          41.07471463358913,
          40.85949336430115,
          42.02906917379114,
          5.891592641476887,
          12.66431505425134,
          24.20514708561151,
          31.707883536999045,
          21.29418736306254,
          10.56760233992827,
          11.978420427132468,
          42.34106767268322,
          28.67038928695893,
          31.36046420676699,
          22.309535488100213,
          16.668307620463167,
          45.25631233564789,
          19.328754619054187,
          36.383193386146125,
          17.248650509885145,
          6.012272195507367,
          8.572336277005803,
          37.63236235701282,
          18.141460109871065,
          40.50622959672378,
          37.53695008699808,
          15.879989385200396,
          24.62769284920736,
          31.33560836986308,
          43.15830106385752,
          105.3635856888794,
          55.567762676661374,
          42.326669569693614,
          11.356154153746887,
          21.91559424240342,
          16.150057549768484,
          14.288661382706016,
          28.27373207475783,
          41.38374043970892,
          15.234029397454774,
          24.49881641106786,
          14.047670319090232,
          7.5344766737782916,
          14.258820267218036,
          14.495081699048844,
          42.17003952874485,
          8.68726367277126,
          12.802689445923756,
          23.5303218280108,
          19.65787655114162,
          45.48117946562016,
          23.74098036903137,
          15.326402683885336,
          25.31356688836864,
          23.03292374362995,
          15.525111124233687,
          31.06229710782583,
          28.437732671524667,
          9.452662087296687,
          21.462890207204524,
          22.026443709156656,
          65.33063378180333,
          24.627934368458256,
          21.466257182628738,
          15.01838328024472,
          16.364398261625066,
          12.05940670992793,
          9.696338910340184,
          16.57255517825284,
          15.40740360733244,
          26.015112984413232,
          9.537281359421184,
          57.66127183630214,
          29.808752300667003,
          5.541350118280411,
          5.179540329484523,
          27.890041239910488,
          60.67199347672835,
          11.63551702187968,
          22.83477259375648,
          22.720306635560167,
          41.362056365919614,
          15.180020061725845,
          22.732362600441228,
          18.8695599374109,
          6.328210328868329,
          44.018094560530464,
          45.10953924733679,
          7.678706069302986,
          12.810488120498924,
          40.87029598162738,
          11.34879631791814,
          20.10328163295509,
          11.140022813567237,
          63.54958402449203,
          39.34103838477344,
          17.021710891477525,
          11.831263285881196,
          35.45814514214621,
          11.135697907424612,
          45.58962787389346,
          33.18242737710091,
          44.04583319770679,
          1.490655109728125,
          16.00532411537375,
          11.180928369216367,
          17.086855053289828,
          26.7957323682992,
          24.574858416706803,
          18.510548446138788,
          31.74324311206272,
          46.58031724131811,
          31.09579631732725,
          31.86243165094917,
          18.56203831605469,
          27.08858315756704,
          14.856406760711788,
          9.711368358351743,
          7.307986244980794,
          19.076569268415334,
          68.05507994093828,
          40.29339102210267,
          44.9459870764704,
          45.40255512796241,
          37.05893916664596,
          30.9001406775899,
          38.12345970603472,
          45.41207623462626,
          44.23911673231829,
          59.59871836018934,
          6.709027856170716,
          10.066180144036842,
          10.636074284920191,
          8.01703417431228,
          59.286667300773495,
          37.02408364483473,
          76.92447229818208,
          44.8505487471212,
          17.359389389841684,
          35.50529143991256,
          36.36000371222252,
          46.76196071299562,
          57.540189703290125,
          35.65059066630057,
          23.86249293608844,
          13.2199377881577,
          11.896664733285146,
          30.09219849870409,
          50.31359262924652,
          2.593991830043573,
          14.283165383074076,
          15.081702347198837,
          10.12860847147846,
          18.15417414338349,
          19.4170811151663,
          12.44801709553103,
          9.378148682028216,
          12.892074037635725,
          22.646507088443357,
          10.966266982860033,
          15.350753478896223,
          30.47440485331871,
          27.487107108692797,
          0.4651141732271121,
          27.0915441843415,
          13.77223301011609,
          24.920583314286432,
          39.42723872776157,
          14.6254931387217,
          26.614225664034954,
          24.01186130650636,
          14.680539255393896,
          4.958780997945222,
          18.48396962571736,
          27.78980788687645,
          11.098556767377309,
          15.53267578942192,
          1.7809697308553774,
          11.99258158102993,
          13.544896124186632,
          8.596422718394619,
          14.608980445544166,
          63.405974216986415,
          39.316345766009405,
          4.784916112334043,
          20.887545832810986,
          59.15228620256174,
          66.79536033549803,
          17.216339547750728,
          14.811571890028512,
          19.83979604167536,
          15.51278770658019,
          17.2349093730846,
          20.36487127624424,
          8.952670188975747,
          18.47708209581968,
          5.093928796878877,
          28.302373500722315,
          111.93913898283031,
          55.06668854584623,
          11.385487798798684,
          16.44646458517989,
          23.81078685210823,
          9.325025060030937,
          16.56186583416752,
          15.381793420933931,
          16.415026291344166,
          23.38274115206045,
          24.100874049454085,
          29.70923673663017,
          24.75317909131012,
          34.184995500395004,
          27.406100184593363,
          13.592940129516574,
          27.954232924491738,
          58.50605156106235,
          73.173215872747,
          57.00711436931972,
          19.48854931498143,
          15.077537121391376,
          20.75542679874213,
          29.36750226957765,
          18.143740640472384,
          58.89412138497613,
          30.255404437754848,
          24.105917544619825,
          20.379591132693516,
          53.71268426896719,
          33.681249295931,
          24.97198926962775,
          16.180185201172225,
          6.025015276921803,
          70.14796879446284,
          85.67643784762527,
          26.942142780475088,
          31.13158836853268,
          22.639289771718893,
          12.252305193281709,
          20.991856853053463,
          3.927767892233828,
          27.19224705783234,
          18.936501774652577,
          31.93056990273188,
          31.33567048599486,
          23.93810375568844,
          36.164778681181375,
          30.770137082281455,
          20.83885471069325,
          7.586795902578378,
          9.69636917818862,
          18.609070095579117,
          11.44502188227455,
          36.50688594861449,
          30.836776034950464,
          29.404275237140084,
          23.201827692717515,
          22.822893976493745,
          11.359851341466769,
          75.9889025112927,
          17.898382862033827,
          12.65845941861411,
          22.502977950471696,
          9.292140053692796,
          35.724149602185,
          44.55811407642933,
          25.641052463971896,
          20.053931241998374,
          19.649250675510228,
          21.52680321301575,
          22.353394819293136,
          34.639044300427045,
          10.85516572922821,
          18.82443108717889,
          18.75059169485601,
          8.523633190031722,
          11.475695170904087,
          7.980070180271272,
          52.09076541248066,
          28.957123985854537,
          8.975927034952612,
          11.574951626645714,
          27.167743549274206,
          27.92926206916992,
          20.09503243782904,
          19.060052072702813,
          55.09552796429524,
          3.0339653145918617,
          9.6317713094691,
          19.18356769993253,
          22.37533175090281,
          14.054669610104677,
          16.967124247316338,
          21.593155203321267,
          9.73290617220789,
          12.591478895933593,
          4.614451339797221,
          20.259033137051222,
          27.063932612746918,
          27.315129330811025,
          15.06622584052496,
          29.25734121250925,
          58.95298121936553,
          18.21044268431389,
          8.81907145165095,
          24.55580960599106,
          29.61996971525243,
          26.38262546003453,
          6.534516618056423,
          10.98123053454123,
          13.32818071051442,
          18.126194215248244,
          11.774848238321612,
          36.38956263083823,
          84.37897045764416,
          32.44309924755422,
          11.373576149363208,
          13.00712053925223,
          48.0197624307863,
          26.98363584700937,
          17.83538134252027,
          5.574570119470852,
          17.38527782533786,
          61.53949561622572,
          49.16995045179885,
          19.21861489815405,
          15.187021509684955,
          17.642579720790646,
          28.41362339767201,
          24.540881729847456,
          23.23975907934851,
          46.39397529468466,
          13.37565419328331,
          17.448236300837728,
          29.450588290385905,
          28.870405332706863,
          9.824253174026904,
          37.60673633567097,
          16.651983826927992,
          73.14108633313093,
          14.850588697418273,
          20.56404461455454,
          29.17237748798383,
          15.719738007025526,
          9.317276977550664,
          16.094670974092647,
          22.09182618893479,
          11.550629974406874,
          16.71272200065306,
          18.804392121641204,
          31.562984849346595,
          13.73974737472957,
          45.24597249800908,
          56.209541877276415,
          11.83754966835462,
          26.765398305110043,
          23.27655498687024,
          34.04061183047362,
          78.72537926584107,
          16.665033349841043,
          33.587681152038215,
          56.41971344893506,
          62.97482886336124,
          11.72166634333459,
          18.97290936947359,
          9.158645811940149,
          32.58781868736214,
          19.247504797170187,
          13.800240576473165,
          10.42840127844286,
          14.639746901095556,
          8.787940026181788,
          29.497886000171512,
          8.038758601575825,
          13.912428581925926,
          22.87409186784163,
          17.246475405474282,
          57.774964741123,
          19.56694685048075,
          12.44994434773754,
          17.62836663724473,
          70.26188328078487,
          19.69394142476205,
          8.376766144309537,
          6.238090949827811,
          13.10799681419578,
          3.87965568809284,
          5.4493059539988655,
          28.446079829417688,
          10.856552321507992,
          16.88820921304566,
          20.19061628568329,
          40.79184390620443,
          19.531440032368486,
          28.52972414337028,
          35.62655082504367,
          21.622101600691437,
          21.809069626832223,
          21.57098519665072,
          20.43198407823612,
          5.368842738779422,
          14.70951332639875,
          6.977050854045242,
          13.408478610814718,
          14.0819199519643,
          13.791878986145596,
          11.585824500429055,
          15.499731904963408,
          5.371717669744903,
          26.048518917880624,
          19.509901152765423,
          100.89389465431904,
          128.05298425013342,
          7.885237221917787,
          32.2354149639493,
          37.905295238639376,
          41.76893049857208,
          13.842452626675046,
          13.744152549205491,
          13.08521717329527,
          18.16166281907615,
          48.10033621570559,
          32.18423861423021,
          18.46748971365832,
          19.14970221234742,
          36.57113194517616,
          17.691656259132305,
          47.621843612742,
          18.675713671740667,
          18.119496853040538,
          17.036074218986997,
          42.34178077006214,
          55.4432994164545,
          7.704415494559363,
          26.80972743665181,
          13.737936426922088,
          17.592053861269243,
          11.39821646660286,
          16.05645961612917,
          41.45066991632058,
          20.75192005914781,
          30.654533309162822,
          21.131264351315973,
          20.673729245964186,
          49.84148361794036,
          47.711587944317486,
          49.1841014360293,
          51.202126844916656,
          7.089052376367207,
          120.07909045528558,
          41.65093692178814,
          23.87307037194783,
          15.83551951162454,
          18.159156559577543,
          23.4013794639671,
          24.055475921527812,
          21.81609121052947,
          7.875457998657192,
          15.50298133015342,
          28.595435933774308,
          4.090545623948155,
          27.108447714814343,
          7.39400934581056,
          6.207587488170227,
          10.40393364292952,
          8.973752115526038,
          16.01565426614283,
          23.10995199632383,
          6.288579835284923,
          31.157059887326135,
          18.174851737911855,
          21.6753593208962,
          18.468958773196512,
          69.73695873852144,
          12.771482641895332,
          30.49504393697136,
          76.45516334112267,
          15.287452178780454,
          15.676310856033473,
          27.33593790743411,
          5.300905181384858,
          9.84179313221889,
          13.12535902035567,
          18.718334019751865,
          8.191557943616925,
          27.46756462123044,
          19.90714698144514,
          20.518680536710303,
          29.32456106195911,
          10.18319268049,
          9.389070814374548,
          18.77973360972366,
          19.12400789023772,
          32.142986507909406,
          8.095247604280623,
          17.139183037078176,
          45.96675712718108,
          73.7297289573019,
          51.597601824433845,
          28.8044074186908,
          49.5124626216246,
          15.4776250546068,
          17.941905003638315,
          15.29854708797412,
          13.632115670530322,
          13.49820276300591,
          42.4588426005182,
          8.883960838346404,
          15.976970317418663,
          35.627461944391015,
          31.495380818949027,
          10.244523730990997,
          28.372074085783023,
          44.28784984177084,
          38.38888553232186,
          21.178478523783976,
          45.7536748403463,
          18.08986476856856,
          18.47234574289361,
          10.757072474003357,
          14.336036452278806,
          26.222918099151222,
          75.3087738074768,
          16.723255072602573,
          35.178768974228014,
          29.6149025299238,
          14.39439471678172,
          20.108155726134655,
          10.316744349437236,
          28.74859640436449,
          7.913256585373367,
          27.98523062519381,
          25.09947258143797,
          32.6550358792742,
          32.02178449562062,
          25.024948413350277,
          9.271723338002618,
          15.677427034811924,
          16.919296695098524,
          38.62731278208543,
          19.686456839610145,
          19.57579355971844,
          8.91259247453945,
          51.555798783971,
          16.6742173328713,
          9.924298054679706,
          9.33369928896042,
          16.609161575517977,
          4.791118464862413,
          13.982650821783045,
          48.14413661268777,
          40.98647879117913,
          52.988540498034816,
          17.52289846090346,
          18.55080468432872,
          24.656203681218575,
          21.57575043508221,
          33.93961049762989,
          18.556829107703138,
          21.46838232207642,
          29.88621125534377,
          35.76212169342196,
          20.160267775075138,
          15.461375145417708,
          12.349397838341217,
          61.9467833147346,
          16.58116330942946,
          25.87908249434379,
          19.01166304162132,
          5.850588997175755,
          8.448329900555578,
          22.94930053666039,
          13.29805155424562,
          35.38528452668723,
          63.874391850995536,
          13.09492757787634,
          18.33446848720141,
          36.85866814512959,
          44.71013916599042,
          47.20232950887733,
          25.07697399208675,
          30.934501090147258,
          10.779914004335216,
          22.01187860767383,
          10.309827237087916,
          16.81631621516224,
          24.20165204747191,
          30.388460519836663,
          10.992488862481409,
          15.076770738128344,
          18.717932834229934,
          8.647568744566176,
          13.939056727269987,
          12.46433526289162,
          27.090625882036758,
          7.8005919533781185,
          14.17413106148074,
          19.138199821314284,
          21.787215546133087,
          46.31938977895698,
          12.653218050340506,
          11.125740066500311,
          29.70010765379057,
          26.391457373080517,
          15.595052665640036,
          23.64181388428244,
          30.93735970208627,
          12.423499830975937,
          17.218307524941295,
          12.263103631923151,
          27.902361764690514,
          16.52251993676855,
          25.92758529946998,
          17.742299898976498,
          11.901649507989262,
          8.153201420630907,
          10.691036694641053,
          21.04632564675434,
          8.493174723109009,
          34.35459603672392,
          15.536486349433526,
          56.43742276561113,
          23.83136026349578,
          14.858137844323103,
          13.332978474544552,
          19.818722347518868,
          61.601988789783725,
          13.538107945184786,
          20.831206923389896,
          20.161437027956936,
          49.41810445911707,
          11.931054886783247,
          30.252892058108326,
          19.2755548530083,
          17.401580174248384,
          26.285330640158342,
          54.9998188121417,
          9.138386604174077,
          13.519657531582816,
          20.0672371301449,
          33.20697294001747,
          22.43903430516824,
          32.46569081774137,
          51.914183356992254,
          38.4051796711303,
          9.677871563513062,
          20.720308052620137,
          36.30417963765431,
          15.839320975776303,
          93.44416637198782,
          37.7109940952154,
          52.071886409157685,
          17.283465258100936,
          16.698614230621754,
          50.82915507002192,
          11.247204339440303,
          43.21627377933986,
          52.88002964270878,
          44.31099072467003,
          24.188417766053348,
          30.761134530929475,
          19.765348869553836,
          18.0415778923361,
          12.876221369371232,
          28.876978386128417,
          19.51476357991381,
          6.596103295753359,
          9.44528797839347,
          20.051290012422182,
          57.699099350970585,
          46.91565290981179,
          23.915721411716262,
          24.711082951327047,
          25.760337915532165,
          24.728286705703884,
          37.84852735326164,
          40.458265183513504,
          32.42862802129888,
          42.06733836642419,
          16.29880578709837,
          17.640711768511586,
          20.71013043417741,
          5.736945277145597,
          39.42064550490576,
          23.46095176202425,
          22.86150984896225,
          24.25746608548803,
          19.127836310994887,
          22.087529891091965,
          15.144960637488348,
          36.053242668493695,
          54.11080257932765,
          34.17621135359407,
          39.009282098326864,
          20.870282902197577,
          11.517997172803836,
          14.866264435002062,
          39.66149564667218,
          5.90046830154859,
          14.433078469933088,
          14.631729587436965,
          13.841999475246958,
          14.162883060198904,
          17.748886226825665,
          17.821368595748545,
          15.380183370177017,
          16.556912119010114,
          23.439690306170988,
          32.858014147867934,
          13.52616682594207,
          13.859707937854369,
          25.89232049924776,
          7.339872670392744,
          32.59872051484051,
          9.375040672346318,
          24.07876698803824,
          15.828928057170357,
          14.314303681736886,
          27.281826504096813,
          18.427406334909456,
          9.374265703760202,
          6.956777348929208,
          25.867678712019615,
          12.564328604023093,
          25.808312611009832,
          22.48577485433096,
          5.509871787513368,
          13.786776304249114,
          16.17909797336558,
          11.86037721885923,
          14.346854213626443,
          30.97620047191352,
          36.838564263162446,
          7.87629945600683,
          11.937374327407175,
          26.00815729865047,
          63.85730152325829,
          13.626713053344613,
          15.0538760977072,
          11.11502876082795,
          34.773170247399506,
          14.48735047611767,
          15.665650476785885,
          10.252877331665374,
          15.540825523082413,
          6.9442916653161095,
          23.60496158452825,
          81.24469593630994,
          69.44114851468836,
          23.70797671356737,
          14.838599911029158,
          17.03717720788484,
          14.31869374140351,
          17.542845171349516,
          13.08275697139858,
          10.661336644811517,
          34.119827219173985,
          27.477390946715065,
          44.467374614164655,
          24.44701312230932,
          34.38933677411959,
          20.683641549142383,
          10.587517254668924,
          45.88260198533941,
          84.91555969363536,
          51.13514015198153,
          44.9195973263218,
          17.060179220549912,
          17.801252962921726,
          13.693221651818089,
          27.46972016094891,
          20.46863197890865,
          62.21862078163204,
          22.55969043604708,
          33.15183549833424,
          21.149791039600487,
          41.3592856443561,
          35.2836121472279,
          14.724625031788989,
          21.73294071998361,
          12.305300066296798,
          59.95706477022748,
          64.48057560146451,
          48.55789194222356,
          35.22471663350509,
          13.4634562751088,
          15.706145944806762,
          25.982439276934585,
          15.927846798634608,
          30.872039168058546,
          12.264130732370091,
          24.22713189488328,
          13.3681911719412,
          10.608056261504874,
          29.05112372058016,
          12.684202073678112,
          16.585244315074018,
          7.374896571336978,
          15.023755986101062,
          14.96651819332878,
          30.02522721881149,
          23.976712453682875,
          19.780267143747103,
          23.79740304364181,
          7.192132065432773,
          9.005360308435188,
          7.342532716024126,
          99.3343737409622,
          18.152630559201857,
          13.373003563064168,
          25.32983843300617,
          5.526636494551897,
          31.90304871614228,
          41.16915835848866,
          21.537105886180903,
          29.87713142725877,
          13.366769149956143,
          13.776498537886871,
          10.190457321009813,
          45.177963190741714,
          12.689527453665386,
          16.43974889908743,
          9.773959273237857,
          12.450439788988382,
          27.560377819288,
          11.177423208007454,
          40.56290497695869,
          21.208219046570797,
          9.03567972373747,
          31.17712369442276,
          9.928360620166634,
          35.10965030497846,
          17.6200179965129,
          20.473785897431817,
          43.87286898194678,
          16.08447278185271,
          13.86602694049373,
          19.337586361010786,
          20.77834094756653,
          17.257456274670133,
          15.03384116895625,
          19.62789293535382,
          18.473313385370915,
          14.670878659876134,
          19.30885179692013,
          32.363021540251935,
          38.23643114748633,
          17.080502527706336,
          20.107826525246228,
          39.20620386670443,
          69.94507938721715,
          11.16759621990087,
          5.764168757545037,
          17.383423375972782,
          12.350309042146549,
          22.26317591414131,
          14.747301245539074,
          12.541570905414796,
          10.183507031413846,
          11.332578231046744,
          7.884519659955675,
          22.952120441348534,
          48.82147724283374,
          37.27727835145852,
          10.760600230987302,
          22.32157030601001,
          55.45461819172359,
          15.742027572354134,
          14.551801968355957,
          12.04064036574344,
          12.949427393781274,
          55.95701090058698,
          61.83704468424641,
          18.05019668856033,
          34.46245688624205,
          20.7425687720181,
          35.192443661171446,
          19.222743029688264,
          23.748822151880987,
          46.36984159365705,
          11.617630954550023,
          15.185140136591844,
          35.76070144156784,
          25.498551896325893,
          6.458167621366405,
          41.47337406772599,
          16.616225445395973,
          49.38604775635625,
          22.65114906171359,
          20.48835300331687,
          15.703749346455574,
          20.785850855339014,
          16.72782005667179,
          7.322549523339835,
          27.475104779486543,
          16.460421742199383,
          13.59241607189024,
          33.30194725289517,
          25.28139056346465,
          11.394668418438876,
          74.0263686198022,
          72.1455771354696,
          10.27845528584692,
          13.31941809513875,
          21.198081585997127,
          23.85138122821733,
          37.9526761734723,
          14.077248285339456,
          30.26549563319141,
          64.35485407633479,
          60.31571244142406,
          13.187734181873504,
          20.730777143934493,
          13.12081651609182,
          27.139277464282408,
          35.398593221085555,
          16.29778570466798,
          7.1456968098086096,
          19.72187850325078,
          25.21328780326,
          12.963195660999254,
          13.776837071775624,
          8.735717933767262,
          19.25145854180144,
          13.759246931761831,
          81.70257442447401,
          23.38059421546649,
          11.205092431386564,
          16.420131286033683,
          68.235651694702,
          13.6516067746367,
          10.236534137187537,
          6.820283281531092,
          7.489025987003468,
          11.150210120407396,
          6.980597638471996,
          19.338412834387277,
          8.148164934232806,
          11.654761247778785,
          24.3968265132398,
          34.176883976398045,
          15.664607920002275,
          27.43162759950019,
          29.66309653078316,
          27.41740834232219,
          26.822213100259216,
          10.295926430449809,
          37.92846141157718,
          13.539563157877623,
          14.539248631495507,
          13.327671667351,
          14.873788528167722,
          26.44386579435277,
          6.731744685573142,
          23.840220023193485,
          27.225884043683923,
          11.686750119390338,
          27.945465224173077,
          32.06355860598832,
          48.52921199589889,
          83.99943798612433,
          8.239345103628652,
          16.166923234087385,
          16.7074353058725,
          49.36489010335658,
          10.058013245098666,
          13.359272789669085,
          17.32860139357113,
          18.25691374073919,
          16.754354879052897,
          22.385494724489472,
          11.232743821136406,
          17.39727017476905,
          31.24818399782172,
          20.57258907384035,
          43.83124252575285,
          14.887522815710104,
          22.11707024462306,
          11.268722630602644,
          54.05694042856652,
          69.35402244135055,
          10.99370340474922,
          12.349247933823126,
          17.476919455748448,
          17.81926671822913,
          8.844688435023745,
          17.981057962861883,
          36.95857450379821,
          11.996425982101268,
          19.798653617221017,
          29.26131390449609,
          14.63108479233568,
          40.376395951864914,
          33.93861762136766,
          39.64268985544526,
          41.71661943690152,
          11.829528596747048,
          61.27881659307168,
          42.3715427135057,
          14.379585846798566,
          11.235228336602978,
          12.476017381127622,
          19.35789994883557,
          20.509600546480677,
          23.93792226931886,
          9.648520811615995,
          19.72647926421177,
          22.882946407003956,
          6.1946186905153935,
          63.46480154786334,
          22.03086669743225,
          12.453326587510078
         ],
         "y0": " ",
         "yaxis": "y"
        }
       ],
       "layout": {
        "boxmode": "group",
        "legend": {
         "tracegroupgap": 0
        },
        "margin": {
         "t": 60
        },
        "template": {
         "data": {
          "bar": [
           {
            "error_x": {
             "color": "#2a3f5f"
            },
            "error_y": {
             "color": "#2a3f5f"
            },
            "marker": {
             "line": {
              "color": "#E5ECF6",
              "width": 0.5
             },
             "pattern": {
              "fillmode": "overlay",
              "size": 10,
              "solidity": 0.2
             }
            },
            "type": "bar"
           }
          ],
          "barpolar": [
           {
            "marker": {
             "line": {
              "color": "#E5ECF6",
              "width": 0.5
             },
             "pattern": {
              "fillmode": "overlay",
              "size": 10,
              "solidity": 0.2
             }
            },
            "type": "barpolar"
           }
          ],
          "carpet": [
           {
            "aaxis": {
             "endlinecolor": "#2a3f5f",
             "gridcolor": "white",
             "linecolor": "white",
             "minorgridcolor": "white",
             "startlinecolor": "#2a3f5f"
            },
            "baxis": {
             "endlinecolor": "#2a3f5f",
             "gridcolor": "white",
             "linecolor": "white",
             "minorgridcolor": "white",
             "startlinecolor": "#2a3f5f"
            },
            "type": "carpet"
           }
          ],
          "choropleth": [
           {
            "colorbar": {
             "outlinewidth": 0,
             "ticks": ""
            },
            "type": "choropleth"
           }
          ],
          "contour": [
           {
            "colorbar": {
             "outlinewidth": 0,
             "ticks": ""
            },
            "colorscale": [
             [
              0,
              "#0d0887"
             ],
             [
              0.1111111111111111,
              "#46039f"
             ],
             [
              0.2222222222222222,
              "#7201a8"
             ],
             [
              0.3333333333333333,
              "#9c179e"
             ],
             [
              0.4444444444444444,
              "#bd3786"
             ],
             [
              0.5555555555555556,
              "#d8576b"
             ],
             [
              0.6666666666666666,
              "#ed7953"
             ],
             [
              0.7777777777777778,
              "#fb9f3a"
             ],
             [
              0.8888888888888888,
              "#fdca26"
             ],
             [
              1,
              "#f0f921"
             ]
            ],
            "type": "contour"
           }
          ],
          "contourcarpet": [
           {
            "colorbar": {
             "outlinewidth": 0,
             "ticks": ""
            },
            "type": "contourcarpet"
           }
          ],
          "heatmap": [
           {
            "colorbar": {
             "outlinewidth": 0,
             "ticks": ""
            },
            "colorscale": [
             [
              0,
              "#0d0887"
             ],
             [
              0.1111111111111111,
              "#46039f"
             ],
             [
              0.2222222222222222,
              "#7201a8"
             ],
             [
              0.3333333333333333,
              "#9c179e"
             ],
             [
              0.4444444444444444,
              "#bd3786"
             ],
             [
              0.5555555555555556,
              "#d8576b"
             ],
             [
              0.6666666666666666,
              "#ed7953"
             ],
             [
              0.7777777777777778,
              "#fb9f3a"
             ],
             [
              0.8888888888888888,
              "#fdca26"
             ],
             [
              1,
              "#f0f921"
             ]
            ],
            "type": "heatmap"
           }
          ],
          "heatmapgl": [
           {
            "colorbar": {
             "outlinewidth": 0,
             "ticks": ""
            },
            "colorscale": [
             [
              0,
              "#0d0887"
             ],
             [
              0.1111111111111111,
              "#46039f"
             ],
             [
              0.2222222222222222,
              "#7201a8"
             ],
             [
              0.3333333333333333,
              "#9c179e"
             ],
             [
              0.4444444444444444,
              "#bd3786"
             ],
             [
              0.5555555555555556,
              "#d8576b"
             ],
             [
              0.6666666666666666,
              "#ed7953"
             ],
             [
              0.7777777777777778,
              "#fb9f3a"
             ],
             [
              0.8888888888888888,
              "#fdca26"
             ],
             [
              1,
              "#f0f921"
             ]
            ],
            "type": "heatmapgl"
           }
          ],
          "histogram": [
           {
            "marker": {
             "pattern": {
              "fillmode": "overlay",
              "size": 10,
              "solidity": 0.2
             }
            },
            "type": "histogram"
           }
          ],
          "histogram2d": [
           {
            "colorbar": {
             "outlinewidth": 0,
             "ticks": ""
            },
            "colorscale": [
             [
              0,
              "#0d0887"
             ],
             [
              0.1111111111111111,
              "#46039f"
             ],
             [
              0.2222222222222222,
              "#7201a8"
             ],
             [
              0.3333333333333333,
              "#9c179e"
             ],
             [
              0.4444444444444444,
              "#bd3786"
             ],
             [
              0.5555555555555556,
              "#d8576b"
             ],
             [
              0.6666666666666666,
              "#ed7953"
             ],
             [
              0.7777777777777778,
              "#fb9f3a"
             ],
             [
              0.8888888888888888,
              "#fdca26"
             ],
             [
              1,
              "#f0f921"
             ]
            ],
            "type": "histogram2d"
           }
          ],
          "histogram2dcontour": [
           {
            "colorbar": {
             "outlinewidth": 0,
             "ticks": ""
            },
            "colorscale": [
             [
              0,
              "#0d0887"
             ],
             [
              0.1111111111111111,
              "#46039f"
             ],
             [
              0.2222222222222222,
              "#7201a8"
             ],
             [
              0.3333333333333333,
              "#9c179e"
             ],
             [
              0.4444444444444444,
              "#bd3786"
             ],
             [
              0.5555555555555556,
              "#d8576b"
             ],
             [
              0.6666666666666666,
              "#ed7953"
             ],
             [
              0.7777777777777778,
              "#fb9f3a"
             ],
             [
              0.8888888888888888,
              "#fdca26"
             ],
             [
              1,
              "#f0f921"
             ]
            ],
            "type": "histogram2dcontour"
           }
          ],
          "mesh3d": [
           {
            "colorbar": {
             "outlinewidth": 0,
             "ticks": ""
            },
            "type": "mesh3d"
           }
          ],
          "parcoords": [
           {
            "line": {
             "colorbar": {
              "outlinewidth": 0,
              "ticks": ""
             }
            },
            "type": "parcoords"
           }
          ],
          "pie": [
           {
            "automargin": true,
            "type": "pie"
           }
          ],
          "scatter": [
           {
            "fillpattern": {
             "fillmode": "overlay",
             "size": 10,
             "solidity": 0.2
            },
            "type": "scatter"
           }
          ],
          "scatter3d": [
           {
            "line": {
             "colorbar": {
              "outlinewidth": 0,
              "ticks": ""
             }
            },
            "marker": {
             "colorbar": {
              "outlinewidth": 0,
              "ticks": ""
             }
            },
            "type": "scatter3d"
           }
          ],
          "scattercarpet": [
           {
            "marker": {
             "colorbar": {
              "outlinewidth": 0,
              "ticks": ""
             }
            },
            "type": "scattercarpet"
           }
          ],
          "scattergeo": [
           {
            "marker": {
             "colorbar": {
              "outlinewidth": 0,
              "ticks": ""
             }
            },
            "type": "scattergeo"
           }
          ],
          "scattergl": [
           {
            "marker": {
             "colorbar": {
              "outlinewidth": 0,
              "ticks": ""
             }
            },
            "type": "scattergl"
           }
          ],
          "scattermapbox": [
           {
            "marker": {
             "colorbar": {
              "outlinewidth": 0,
              "ticks": ""
             }
            },
            "type": "scattermapbox"
           }
          ],
          "scatterpolar": [
           {
            "marker": {
             "colorbar": {
              "outlinewidth": 0,
              "ticks": ""
             }
            },
            "type": "scatterpolar"
           }
          ],
          "scatterpolargl": [
           {
            "marker": {
             "colorbar": {
              "outlinewidth": 0,
              "ticks": ""
             }
            },
            "type": "scatterpolargl"
           }
          ],
          "scatterternary": [
           {
            "marker": {
             "colorbar": {
              "outlinewidth": 0,
              "ticks": ""
             }
            },
            "type": "scatterternary"
           }
          ],
          "surface": [
           {
            "colorbar": {
             "outlinewidth": 0,
             "ticks": ""
            },
            "colorscale": [
             [
              0,
              "#0d0887"
             ],
             [
              0.1111111111111111,
              "#46039f"
             ],
             [
              0.2222222222222222,
              "#7201a8"
             ],
             [
              0.3333333333333333,
              "#9c179e"
             ],
             [
              0.4444444444444444,
              "#bd3786"
             ],
             [
              0.5555555555555556,
              "#d8576b"
             ],
             [
              0.6666666666666666,
              "#ed7953"
             ],
             [
              0.7777777777777778,
              "#fb9f3a"
             ],
             [
              0.8888888888888888,
              "#fdca26"
             ],
             [
              1,
              "#f0f921"
             ]
            ],
            "type": "surface"
           }
          ],
          "table": [
           {
            "cells": {
             "fill": {
              "color": "#EBF0F8"
             },
             "line": {
              "color": "white"
             }
            },
            "header": {
             "fill": {
              "color": "#C8D4E3"
             },
             "line": {
              "color": "white"
             }
            },
            "type": "table"
           }
          ]
         },
         "layout": {
          "annotationdefaults": {
           "arrowcolor": "#2a3f5f",
           "arrowhead": 0,
           "arrowwidth": 1
          },
          "autotypenumbers": "strict",
          "coloraxis": {
           "colorbar": {
            "outlinewidth": 0,
            "ticks": ""
           }
          },
          "colorscale": {
           "diverging": [
            [
             0,
             "#8e0152"
            ],
            [
             0.1,
             "#c51b7d"
            ],
            [
             0.2,
             "#de77ae"
            ],
            [
             0.3,
             "#f1b6da"
            ],
            [
             0.4,
             "#fde0ef"
            ],
            [
             0.5,
             "#f7f7f7"
            ],
            [
             0.6,
             "#e6f5d0"
            ],
            [
             0.7,
             "#b8e186"
            ],
            [
             0.8,
             "#7fbc41"
            ],
            [
             0.9,
             "#4d9221"
            ],
            [
             1,
             "#276419"
            ]
           ],
           "sequential": [
            [
             0,
             "#0d0887"
            ],
            [
             0.1111111111111111,
             "#46039f"
            ],
            [
             0.2222222222222222,
             "#7201a8"
            ],
            [
             0.3333333333333333,
             "#9c179e"
            ],
            [
             0.4444444444444444,
             "#bd3786"
            ],
            [
             0.5555555555555556,
             "#d8576b"
            ],
            [
             0.6666666666666666,
             "#ed7953"
            ],
            [
             0.7777777777777778,
             "#fb9f3a"
            ],
            [
             0.8888888888888888,
             "#fdca26"
            ],
            [
             1,
             "#f0f921"
            ]
           ],
           "sequentialminus": [
            [
             0,
             "#0d0887"
            ],
            [
             0.1111111111111111,
             "#46039f"
            ],
            [
             0.2222222222222222,
             "#7201a8"
            ],
            [
             0.3333333333333333,
             "#9c179e"
            ],
            [
             0.4444444444444444,
             "#bd3786"
            ],
            [
             0.5555555555555556,
             "#d8576b"
            ],
            [
             0.6666666666666666,
             "#ed7953"
            ],
            [
             0.7777777777777778,
             "#fb9f3a"
            ],
            [
             0.8888888888888888,
             "#fdca26"
            ],
            [
             1,
             "#f0f921"
            ]
           ]
          },
          "colorway": [
           "#636efa",
           "#EF553B",
           "#00cc96",
           "#ab63fa",
           "#FFA15A",
           "#19d3f3",
           "#FF6692",
           "#B6E880",
           "#FF97FF",
           "#FECB52"
          ],
          "font": {
           "color": "#2a3f5f"
          },
          "geo": {
           "bgcolor": "white",
           "lakecolor": "white",
           "landcolor": "#E5ECF6",
           "showlakes": true,
           "showland": true,
           "subunitcolor": "white"
          },
          "hoverlabel": {
           "align": "left"
          },
          "hovermode": "closest",
          "mapbox": {
           "style": "light"
          },
          "paper_bgcolor": "white",
          "plot_bgcolor": "#E5ECF6",
          "polar": {
           "angularaxis": {
            "gridcolor": "white",
            "linecolor": "white",
            "ticks": ""
           },
           "bgcolor": "#E5ECF6",
           "radialaxis": {
            "gridcolor": "white",
            "linecolor": "white",
            "ticks": ""
           }
          },
          "scene": {
           "xaxis": {
            "backgroundcolor": "#E5ECF6",
            "gridcolor": "white",
            "gridwidth": 2,
            "linecolor": "white",
            "showbackground": true,
            "ticks": "",
            "zerolinecolor": "white"
           },
           "yaxis": {
            "backgroundcolor": "#E5ECF6",
            "gridcolor": "white",
            "gridwidth": 2,
            "linecolor": "white",
            "showbackground": true,
            "ticks": "",
            "zerolinecolor": "white"
           },
           "zaxis": {
            "backgroundcolor": "#E5ECF6",
            "gridcolor": "white",
            "gridwidth": 2,
            "linecolor": "white",
            "showbackground": true,
            "ticks": "",
            "zerolinecolor": "white"
           }
          },
          "shapedefaults": {
           "line": {
            "color": "#2a3f5f"
           }
          },
          "ternary": {
           "aaxis": {
            "gridcolor": "white",
            "linecolor": "white",
            "ticks": ""
           },
           "baxis": {
            "gridcolor": "white",
            "linecolor": "white",
            "ticks": ""
           },
           "bgcolor": "#E5ECF6",
           "caxis": {
            "gridcolor": "white",
            "linecolor": "white",
            "ticks": ""
           }
          },
          "title": {
           "x": 0.05
          },
          "xaxis": {
           "automargin": true,
           "gridcolor": "white",
           "linecolor": "white",
           "ticks": "",
           "title": {
            "standoff": 15
           },
           "zerolinecolor": "white",
           "zerolinewidth": 2
          },
          "yaxis": {
           "automargin": true,
           "gridcolor": "white",
           "linecolor": "white",
           "ticks": "",
           "title": {
            "standoff": 15
           },
           "zerolinecolor": "white",
           "zerolinewidth": 2
          }
         }
        },
        "title": {
         "text": "Control direction correction from optimal input"
        },
        "xaxis": {
         "anchor": "y",
         "domain": [
          0,
          1
         ],
         "title": {
          "text": "controllers"
         }
        },
        "yaxis": {
         "anchor": "x",
         "domain": [
          0,
          1
         ],
         "title": {
          "text": "degrees"
         }
        }
       }
      },
      "text/html": [
       "<div>                            <div id=\"86000396-fbb1-4a17-9b87-3973e5829ff4\" class=\"plotly-graph-div\" style=\"height:525px; width:100%;\"></div>            <script type=\"text/javascript\">                require([\"plotly\"], function(Plotly) {                    window.PLOTLYENV=window.PLOTLYENV || {};                                    if (document.getElementById(\"86000396-fbb1-4a17-9b87-3973e5829ff4\")) {                    Plotly.newPlot(                        \"86000396-fbb1-4a17-9b87-3973e5829ff4\",                        [{\"alignmentgroup\":\"True\",\"hovertemplate\":\"variable=%{x}<br>value=%{y}<extra></extra>\",\"legendgroup\":\"\",\"marker\":{\"color\":\"#636efa\"},\"name\":\"\",\"notched\":false,\"offsetgroup\":\"\",\"orientation\":\"v\",\"showlegend\":false,\"x\":[\"hj_naive\",\"hj_naive\",\"hj_naive\",\"hj_naive\",\"hj_naive\",\"hj_naive\",\"hj_naive\",\"hj_naive\",\"hj_naive\",\"hj_naive\",\"hj_naive\",\"hj_naive\",\"hj_naive\",\"hj_naive\",\"hj_naive\",\"hj_naive\",\"hj_naive\",\"hj_naive\",\"hj_naive\",\"hj_naive\",\"hj_naive\",\"hj_naive\",\"hj_naive\",\"hj_naive\",\"hj_naive\",\"hj_naive\",\"hj_naive\",\"hj_naive\",\"hj_naive\",\"hj_naive\",\"hj_naive\",\"hj_naive\",\"hj_naive\",\"hj_naive\",\"hj_naive\",\"hj_naive\",\"hj_naive\",\"hj_naive\",\"hj_naive\",\"hj_naive\",\"hj_naive\",\"hj_naive\",\"hj_naive\",\"hj_naive\",\"hj_naive\",\"hj_naive\",\"hj_naive\",\"hj_naive\",\"hj_naive\",\"hj_naive\",\"hj_naive\",\"hj_naive\",\"hj_naive\",\"hj_naive\",\"hj_naive\",\"hj_naive\",\"hj_naive\",\"hj_naive\",\"hj_naive\",\"hj_naive\",\"hj_naive\",\"hj_naive\",\"hj_naive\",\"hj_naive\",\"hj_naive\",\"hj_naive\",\"hj_naive\",\"hj_naive\",\"hj_naive\",\"hj_naive\",\"hj_naive\",\"hj_naive\",\"hj_naive\",\"hj_naive\",\"hj_naive\",\"hj_naive\",\"hj_naive\",\"hj_naive\",\"hj_naive\",\"hj_naive\",\"hj_naive\",\"hj_naive\",\"hj_naive\",\"hj_naive\",\"hj_naive\",\"hj_naive\",\"hj_naive\",\"hj_naive\",\"hj_naive\",\"hj_naive\",\"hj_naive\",\"hj_naive\",\"hj_naive\",\"hj_naive\",\"hj_naive\",\"hj_naive\",\"hj_naive\",\"hj_naive\",\"hj_naive\",\"hj_naive\",\"hj_naive\",\"hj_naive\",\"hj_naive\",\"hj_naive\",\"hj_naive\",\"hj_naive\",\"hj_naive\",\"hj_naive\",\"hj_naive\",\"hj_naive\",\"hj_naive\",\"hj_naive\",\"hj_naive\",\"hj_naive\",\"hj_naive\",\"hj_naive\",\"hj_naive\",\"hj_naive\",\"hj_naive\",\"hj_naive\",\"hj_naive\",\"hj_naive\",\"hj_naive\",\"hj_naive\",\"hj_naive\",\"hj_naive\",\"hj_naive\",\"hj_naive\",\"hj_naive\",\"hj_naive\",\"hj_naive\",\"hj_naive\",\"hj_naive\",\"hj_naive\",\"hj_naive\",\"hj_naive\",\"hj_naive\",\"hj_naive\",\"hj_naive\",\"hj_naive\",\"hj_naive\",\"hj_naive\",\"hj_naive\",\"hj_naive\",\"hj_naive\",\"hj_naive\",\"hj_naive\",\"hj_naive\",\"hj_naive\",\"hj_naive\",\"hj_naive\",\"hj_naive\",\"hj_naive\",\"hj_naive\",\"hj_naive\",\"hj_naive\",\"hj_naive\",\"hj_naive\",\"hj_naive\",\"hj_naive\",\"hj_naive\",\"hj_naive\",\"hj_naive\",\"hj_naive\",\"hj_naive\",\"hj_naive\",\"hj_naive\",\"hj_naive\",\"hj_naive\",\"hj_naive\",\"hj_naive\",\"hj_naive\",\"hj_naive\",\"hj_naive\",\"hj_naive\",\"hj_naive\",\"hj_naive\",\"hj_naive\",\"hj_naive\",\"hj_naive\",\"hj_naive\",\"hj_naive\",\"hj_naive\",\"hj_naive\",\"hj_naive\",\"hj_naive\",\"hj_naive\",\"hj_naive\",\"hj_naive\",\"hj_naive\",\"hj_naive\",\"hj_naive\",\"hj_naive\",\"hj_naive\",\"hj_naive\",\"hj_naive\",\"hj_naive\",\"hj_naive\",\"hj_naive\",\"hj_naive\",\"hj_naive\",\"hj_naive\",\"hj_naive\",\"hj_naive\",\"hj_naive\",\"hj_naive\",\"hj_naive\",\"hj_naive\",\"hj_naive\",\"hj_naive\",\"hj_naive\",\"hj_naive\",\"hj_naive\",\"hj_naive\",\"hj_naive\",\"hj_naive\",\"hj_naive\",\"hj_naive\",\"hj_naive\",\"hj_naive\",\"hj_naive\",\"hj_naive\",\"hj_naive\",\"hj_naive\",\"hj_naive\",\"hj_naive\",\"hj_naive\",\"hj_naive\",\"hj_naive\",\"hj_naive\",\"hj_naive\",\"hj_naive\",\"hj_naive\",\"hj_naive\",\"hj_naive\",\"hj_naive\",\"hj_naive\",\"hj_naive\",\"hj_naive\",\"hj_naive\",\"hj_naive\",\"hj_naive\",\"hj_naive\",\"hj_naive\",\"hj_naive\",\"hj_naive\",\"hj_naive\",\"hj_naive\",\"hj_naive\",\"hj_naive\",\"hj_naive\",\"hj_naive\",\"hj_naive\",\"hj_naive\",\"hj_naive\",\"hj_naive\",\"hj_naive\",\"hj_naive\",\"hj_naive\",\"hj_naive\",\"hj_naive\",\"hj_naive\",\"hj_naive\",\"hj_naive\",\"hj_naive\",\"hj_naive\",\"hj_naive\",\"hj_naive\",\"hj_naive\",\"hj_naive\",\"hj_naive\",\"hj_naive\",\"hj_naive\",\"hj_naive\",\"hj_naive\",\"hj_naive\",\"hj_naive\",\"hj_naive\",\"hj_naive\",\"hj_naive\",\"hj_naive\",\"hj_naive\",\"hj_naive\",\"hj_naive\",\"hj_naive\",\"hj_naive\",\"hj_naive\",\"hj_naive\",\"hj_naive\",\"hj_naive\",\"hj_naive\",\"hj_naive\",\"hj_naive\",\"hj_naive\",\"hj_naive\",\"hj_naive\",\"hj_naive\",\"hj_naive\",\"hj_naive\",\"hj_naive\",\"hj_naive\",\"hj_naive\",\"hj_naive\",\"hj_naive\",\"hj_naive\",\"hj_naive\",\"hj_naive\",\"hj_naive\",\"hj_naive\",\"hj_naive\",\"hj_naive\",\"hj_naive\",\"hj_naive\",\"hj_naive\",\"hj_naive\",\"hj_naive\",\"hj_naive\",\"hj_naive\",\"hj_naive\",\"hj_naive\",\"hj_naive\",\"hj_naive\",\"hj_naive\",\"hj_naive\",\"hj_naive\",\"hj_naive\",\"hj_naive\",\"hj_naive\",\"hj_naive\",\"hj_naive\",\"hj_naive\",\"hj_naive\",\"hj_naive\",\"hj_naive\",\"hj_naive\",\"hj_naive\",\"hj_naive\",\"hj_naive\",\"hj_naive\",\"hj_naive\",\"hj_naive\",\"hj_naive\",\"hj_naive\",\"hj_naive\",\"hj_naive\",\"hj_naive\",\"hj_naive\",\"hj_naive\",\"hj_naive\",\"hj_naive\",\"hj_naive\",\"hj_naive\",\"hj_naive\",\"hj_naive\",\"hj_naive\",\"hj_naive\",\"hj_naive\",\"hj_naive\",\"hj_naive\",\"hj_naive\",\"hj_naive\",\"hj_naive\",\"hj_naive\",\"hj_naive\",\"hj_naive\",\"hj_naive\",\"hj_naive\",\"hj_naive\",\"hj_naive\",\"hj_naive\",\"hj_naive\",\"hj_naive\",\"hj_naive\",\"hj_naive\",\"hj_naive\",\"hj_naive\",\"hj_naive\",\"hj_naive\",\"hj_naive\",\"hj_naive\",\"hj_naive\",\"hj_naive\",\"hj_naive\",\"hj_naive\",\"hj_naive\",\"hj_naive\",\"hj_naive\",\"hj_naive\",\"hj_naive\",\"hj_naive\",\"hj_naive\",\"hj_naive\",\"hj_naive\",\"hj_naive\",\"hj_naive\",\"hj_naive\",\"hj_naive\",\"hj_naive\",\"hj_naive\",\"hj_naive\",\"hj_naive\",\"hj_naive\",\"hj_naive\",\"hj_naive\",\"hj_naive\",\"hj_naive\",\"hj_naive\",\"hj_naive\",\"hj_naive\",\"hj_naive\",\"hj_naive\",\"hj_naive\",\"hj_naive\",\"hj_naive\",\"hj_naive\",\"hj_naive\",\"hj_naive\",\"hj_naive\",\"hj_naive\",\"hj_naive\",\"hj_naive\",\"hj_naive\",\"hj_naive\",\"hj_naive\",\"hj_naive\",\"hj_naive\",\"hj_naive\",\"hj_naive\",\"hj_naive\",\"hj_naive\",\"hj_naive\",\"hj_naive\",\"hj_naive\",\"hj_naive\",\"hj_naive\",\"hj_naive\",\"hj_naive\",\"hj_naive\",\"hj_naive\",\"hj_naive\",\"hj_naive\",\"hj_naive\",\"hj_naive\",\"hj_naive\",\"hj_naive\",\"hj_naive\",\"hj_naive\",\"hj_naive\",\"hj_naive\",\"hj_naive\",\"hj_naive\",\"hj_naive\",\"hj_naive\",\"hj_naive\",\"hj_naive\",\"hj_naive\",\"hj_naive\",\"hj_naive\",\"hj_naive\",\"hj_naive\",\"hj_naive\",\"hj_naive\",\"hj_naive\",\"hj_naive\",\"hj_naive\",\"hj_naive\",\"hj_naive\",\"hj_naive\",\"hj_naive\",\"hj_naive\",\"hj_naive\",\"hj_naive\",\"hj_naive\",\"hj_naive\",\"hj_naive\",\"hj_naive\",\"hj_naive\",\"hj_naive\",\"hj_naive\",\"hj_naive\",\"hj_naive\",\"hj_naive\",\"hj_naive\",\"hj_naive\",\"hj_naive\",\"hj_naive\",\"hj_naive\",\"hj_naive\",\"hj_naive\",\"hj_naive\",\"hj_naive\",\"hj_naive\",\"hj_naive\",\"hj_naive\",\"hj_naive\",\"hj_naive\",\"hj_naive\",\"hj_naive\",\"hj_naive\",\"hj_naive\",\"hj_naive\",\"hj_naive\",\"hj_naive\",\"hj_naive\",\"hj_naive\",\"hj_naive\",\"hj_naive\",\"hj_naive\",\"hj_naive\",\"hj_naive\",\"hj_naive\",\"hj_naive\",\"hj_naive\",\"hj_naive\",\"hj_naive\",\"hj_naive\",\"hj_naive\",\"hj_naive\",\"hj_naive\",\"hj_naive\",\"hj_naive\",\"hj_naive\",\"hj_naive\",\"hj_naive\",\"hj_naive\",\"hj_naive\",\"hj_naive\",\"hj_naive\",\"hj_naive\",\"hj_naive\",\"hj_naive\",\"hj_naive\",\"hj_naive\",\"hj_naive\",\"hj_naive\",\"hj_naive\",\"hj_naive\",\"hj_naive\",\"hj_naive\",\"hj_naive\",\"hj_naive\",\"hj_naive\",\"hj_naive\",\"hj_naive\",\"hj_naive\",\"hj_naive\",\"hj_naive\",\"hj_naive\",\"hj_reactive\",\"hj_reactive\",\"hj_reactive\",\"hj_reactive\",\"hj_reactive\",\"hj_reactive\",\"hj_reactive\",\"hj_reactive\",\"hj_reactive\",\"hj_reactive\",\"hj_reactive\",\"hj_reactive\",\"hj_reactive\",\"hj_reactive\",\"hj_reactive\",\"hj_reactive\",\"hj_reactive\",\"hj_reactive\",\"hj_reactive\",\"hj_reactive\",\"hj_reactive\",\"hj_reactive\",\"hj_reactive\",\"hj_reactive\",\"hj_reactive\",\"hj_reactive\",\"hj_reactive\",\"hj_reactive\",\"hj_reactive\",\"hj_reactive\",\"hj_reactive\",\"hj_reactive\",\"hj_reactive\",\"hj_reactive\",\"hj_reactive\",\"hj_reactive\",\"hj_reactive\",\"hj_reactive\",\"hj_reactive\",\"hj_reactive\",\"hj_reactive\",\"hj_reactive\",\"hj_reactive\",\"hj_reactive\",\"hj_reactive\",\"hj_reactive\",\"hj_reactive\",\"hj_reactive\",\"hj_reactive\",\"hj_reactive\",\"hj_reactive\",\"hj_reactive\",\"hj_reactive\",\"hj_reactive\",\"hj_reactive\",\"hj_reactive\",\"hj_reactive\",\"hj_reactive\",\"hj_reactive\",\"hj_reactive\",\"hj_reactive\",\"hj_reactive\",\"hj_reactive\",\"hj_reactive\",\"hj_reactive\",\"hj_reactive\",\"hj_reactive\",\"hj_reactive\",\"hj_reactive\",\"hj_reactive\",\"hj_reactive\",\"hj_reactive\",\"hj_reactive\",\"hj_reactive\",\"hj_reactive\",\"hj_reactive\",\"hj_reactive\",\"hj_reactive\",\"hj_reactive\",\"hj_reactive\",\"hj_reactive\",\"hj_reactive\",\"hj_reactive\",\"hj_reactive\",\"hj_reactive\",\"hj_reactive\",\"hj_reactive\",\"hj_reactive\",\"hj_reactive\",\"hj_reactive\",\"hj_reactive\",\"hj_reactive\",\"hj_reactive\",\"hj_reactive\",\"hj_reactive\",\"hj_reactive\",\"hj_reactive\",\"hj_reactive\",\"hj_reactive\",\"hj_reactive\",\"hj_reactive\",\"hj_reactive\",\"hj_reactive\",\"hj_reactive\",\"hj_reactive\",\"hj_reactive\",\"hj_reactive\",\"hj_reactive\",\"hj_reactive\",\"hj_reactive\",\"hj_reactive\",\"hj_reactive\",\"hj_reactive\",\"hj_reactive\",\"hj_reactive\",\"hj_reactive\",\"hj_reactive\",\"hj_reactive\",\"hj_reactive\",\"hj_reactive\",\"hj_reactive\",\"hj_reactive\",\"hj_reactive\",\"hj_reactive\",\"hj_reactive\",\"hj_reactive\",\"hj_reactive\",\"hj_reactive\",\"hj_reactive\",\"hj_reactive\",\"hj_reactive\",\"hj_reactive\",\"hj_reactive\",\"hj_reactive\",\"hj_reactive\",\"hj_reactive\",\"hj_reactive\",\"hj_reactive\",\"hj_reactive\",\"hj_reactive\",\"hj_reactive\",\"hj_reactive\",\"hj_reactive\",\"hj_reactive\",\"hj_reactive\",\"hj_reactive\",\"hj_reactive\",\"hj_reactive\",\"hj_reactive\",\"hj_reactive\",\"hj_reactive\",\"hj_reactive\",\"hj_reactive\",\"hj_reactive\",\"hj_reactive\",\"hj_reactive\",\"hj_reactive\",\"hj_reactive\",\"hj_reactive\",\"hj_reactive\",\"hj_reactive\",\"hj_reactive\",\"hj_reactive\",\"hj_reactive\",\"hj_reactive\",\"hj_reactive\",\"hj_reactive\",\"hj_reactive\",\"hj_reactive\",\"hj_reactive\",\"hj_reactive\",\"hj_reactive\",\"hj_reactive\",\"hj_reactive\",\"hj_reactive\",\"hj_reactive\",\"hj_reactive\",\"hj_reactive\",\"hj_reactive\",\"hj_reactive\",\"hj_reactive\",\"hj_reactive\",\"hj_reactive\",\"hj_reactive\",\"hj_reactive\",\"hj_reactive\",\"hj_reactive\",\"hj_reactive\",\"hj_reactive\",\"hj_reactive\",\"hj_reactive\",\"hj_reactive\",\"hj_reactive\",\"hj_reactive\",\"hj_reactive\",\"hj_reactive\",\"hj_reactive\",\"hj_reactive\",\"hj_reactive\",\"hj_reactive\",\"hj_reactive\",\"hj_reactive\",\"hj_reactive\",\"hj_reactive\",\"hj_reactive\",\"hj_reactive\",\"hj_reactive\",\"hj_reactive\",\"hj_reactive\",\"hj_reactive\",\"hj_reactive\",\"hj_reactive\",\"hj_reactive\",\"hj_reactive\",\"hj_reactive\",\"hj_reactive\",\"hj_reactive\",\"hj_reactive\",\"hj_reactive\",\"hj_reactive\",\"hj_reactive\",\"hj_reactive\",\"hj_reactive\",\"hj_reactive\",\"hj_reactive\",\"hj_reactive\",\"hj_reactive\",\"hj_reactive\",\"hj_reactive\",\"hj_reactive\",\"hj_reactive\",\"hj_reactive\",\"hj_reactive\",\"hj_reactive\",\"hj_reactive\",\"hj_reactive\",\"hj_reactive\",\"hj_reactive\",\"hj_reactive\",\"hj_reactive\",\"hj_reactive\",\"hj_reactive\",\"hj_reactive\",\"hj_reactive\",\"hj_reactive\",\"hj_reactive\",\"hj_reactive\",\"hj_reactive\",\"hj_reactive\",\"hj_reactive\",\"hj_reactive\",\"hj_reactive\",\"hj_reactive\",\"hj_reactive\",\"hj_reactive\",\"hj_reactive\",\"hj_reactive\",\"hj_reactive\",\"hj_reactive\",\"hj_reactive\",\"hj_reactive\",\"hj_reactive\",\"hj_reactive\",\"hj_reactive\",\"hj_reactive\",\"hj_reactive\",\"hj_reactive\",\"hj_reactive\",\"hj_reactive\",\"hj_reactive\",\"hj_reactive\",\"hj_reactive\",\"hj_reactive\",\"hj_reactive\",\"hj_reactive\",\"hj_reactive\",\"hj_reactive\",\"hj_reactive\",\"hj_reactive\",\"hj_reactive\",\"hj_reactive\",\"hj_reactive\",\"hj_reactive\",\"hj_reactive\",\"hj_reactive\",\"hj_reactive\",\"hj_reactive\",\"hj_reactive\",\"hj_reactive\",\"hj_reactive\",\"hj_reactive\",\"hj_reactive\",\"hj_reactive\",\"hj_reactive\",\"hj_reactive\",\"hj_reactive\",\"hj_reactive\",\"hj_reactive\",\"hj_reactive\",\"hj_reactive\",\"hj_reactive\",\"hj_reactive\",\"hj_reactive\",\"hj_reactive\",\"hj_reactive\",\"hj_reactive\",\"hj_reactive\",\"hj_reactive\",\"hj_reactive\",\"hj_reactive\",\"hj_reactive\",\"hj_reactive\",\"hj_reactive\",\"hj_reactive\",\"hj_reactive\",\"hj_reactive\",\"hj_reactive\",\"hj_reactive\",\"hj_reactive\",\"hj_reactive\",\"hj_reactive\",\"hj_reactive\",\"hj_reactive\",\"hj_reactive\",\"hj_reactive\",\"hj_reactive\",\"hj_reactive\",\"hj_reactive\",\"hj_reactive\",\"hj_reactive\",\"hj_reactive\",\"hj_reactive\",\"hj_reactive\",\"hj_reactive\",\"hj_reactive\",\"hj_reactive\",\"hj_reactive\",\"hj_reactive\",\"hj_reactive\",\"hj_reactive\",\"hj_reactive\",\"hj_reactive\",\"hj_reactive\",\"hj_reactive\",\"hj_reactive\",\"hj_reactive\",\"hj_reactive\",\"hj_reactive\",\"hj_reactive\",\"hj_reactive\",\"hj_reactive\",\"hj_reactive\",\"hj_reactive\",\"hj_reactive\",\"hj_reactive\",\"hj_reactive\",\"hj_reactive\",\"hj_reactive\",\"hj_reactive\",\"hj_reactive\",\"hj_reactive\",\"hj_reactive\",\"hj_reactive\",\"hj_reactive\",\"hj_reactive\",\"hj_reactive\",\"hj_reactive\",\"hj_reactive\",\"hj_reactive\",\"hj_reactive\",\"hj_reactive\",\"hj_reactive\",\"hj_reactive\",\"hj_reactive\",\"hj_reactive\",\"hj_reactive\",\"hj_reactive\",\"hj_reactive\",\"hj_reactive\",\"hj_reactive\",\"hj_reactive\",\"hj_reactive\",\"hj_reactive\",\"hj_reactive\",\"hj_reactive\",\"hj_reactive\",\"hj_reactive\",\"hj_reactive\",\"hj_reactive\",\"hj_reactive\",\"hj_reactive\",\"hj_reactive\",\"hj_reactive\",\"hj_reactive\",\"hj_reactive\",\"hj_reactive\",\"hj_reactive\",\"hj_reactive\",\"hj_reactive\",\"hj_reactive\",\"hj_reactive\",\"hj_reactive\",\"hj_reactive\",\"hj_reactive\",\"hj_reactive\",\"hj_reactive\",\"hj_reactive\",\"hj_reactive\",\"hj_reactive\",\"hj_reactive\",\"hj_reactive\",\"hj_reactive\",\"hj_reactive\",\"hj_reactive\",\"hj_reactive\",\"hj_reactive\",\"hj_reactive\",\"hj_reactive\",\"hj_reactive\",\"hj_reactive\",\"hj_reactive\",\"hj_reactive\",\"hj_reactive\",\"hj_reactive\",\"hj_reactive\",\"hj_reactive\",\"hj_reactive\",\"hj_reactive\",\"hj_reactive\",\"hj_reactive\",\"hj_reactive\",\"hj_reactive\",\"hj_reactive\",\"hj_reactive\",\"hj_reactive\",\"hj_reactive\",\"hj_reactive\",\"hj_reactive\",\"hj_reactive\",\"hj_reactive\",\"hj_reactive\",\"hj_reactive\",\"hj_reactive\",\"hj_reactive\",\"hj_reactive\",\"hj_reactive\",\"hj_reactive\",\"hj_reactive\",\"hj_reactive\",\"hj_reactive\",\"hj_reactive\",\"hj_reactive\",\"hj_reactive\",\"hj_reactive\",\"hj_reactive\",\"hj_reactive\",\"hj_reactive\",\"hj_reactive\",\"hj_reactive\",\"hj_reactive\",\"hj_reactive\",\"hj_reactive\",\"hj_reactive\",\"hj_reactive\",\"hj_reactive\",\"hj_reactive\",\"hj_reactive\",\"hj_reactive\",\"hj_reactive\",\"hj_reactive\",\"hj_reactive\",\"hj_reactive\",\"hj_reactive\",\"hj_reactive\",\"hj_reactive\",\"hj_reactive\",\"hj_reactive\",\"hj_reactive\",\"hj_reactive\",\"hj_reactive\",\"hj_reactive\",\"hj_reactive\",\"hj_reactive\",\"hj_reactive\",\"hj_reactive\",\"hj_reactive\",\"hj_reactive\",\"hj_reactive\",\"hj_reactive\",\"hj_reactive\",\"hj_reactive\",\"hj_reactive\",\"hj_reactive\",\"hj_reactive\",\"hj_reactive\",\"hj_reactive\",\"hj_reactive\",\"hj_reactive\",\"hj_reactive\",\"hj_reactive\",\"hj_reactive\",\"hj_reactive\",\"hj_reactive\",\"hj_reactive\",\"hj_reactive\",\"hj_reactive\",\"hj_reactive\",\"hj_reactive\",\"hj_reactive\",\"hj_reactive\",\"hj_reactive\",\"hj_reactive\",\"hj_reactive\",\"hj_reactive\",\"hj_reactive\",\"hj_reactive\",\"hj_reactive\",\"hj_reactive\",\"hj_reactive\",\"hj_reactive\",\"hj_reactive\",\"hj_reactive\",\"hj_reactive\",\"hj_reactive\",\"hj_reactive\",\"hj_reactive\",\"hj_reactive\",\"hj_reactive\",\"hj_reactive\",\"hj_reactive\",\"hj_reactive\",\"hj_reactive\",\"hj_reactive\",\"hj_reactive\",\"hj_reactive\",\"hj_reactive\",\"hj_reactive\",\"hj_reactive\",\"hj_reactive\",\"hj_reactive\",\"hj_reactive\",\"hj_reactive\",\"hj_reactive\",\"hj_reactive\",\"hj_reactive\",\"hj_reactive\",\"hj_reactive\",\"hj_reactive\",\"flocking\",\"flocking\",\"flocking\",\"flocking\",\"flocking\",\"flocking\",\"flocking\",\"flocking\",\"flocking\",\"flocking\",\"flocking\",\"flocking\",\"flocking\",\"flocking\",\"flocking\",\"flocking\",\"flocking\",\"flocking\",\"flocking\",\"flocking\",\"flocking\",\"flocking\",\"flocking\",\"flocking\",\"flocking\",\"flocking\",\"flocking\",\"flocking\",\"flocking\",\"flocking\",\"flocking\",\"flocking\",\"flocking\",\"flocking\",\"flocking\",\"flocking\",\"flocking\",\"flocking\",\"flocking\",\"flocking\",\"flocking\",\"flocking\",\"flocking\",\"flocking\",\"flocking\",\"flocking\",\"flocking\",\"flocking\",\"flocking\",\"flocking\",\"flocking\",\"flocking\",\"flocking\",\"flocking\",\"flocking\",\"flocking\",\"flocking\",\"flocking\",\"flocking\",\"flocking\",\"flocking\",\"flocking\",\"flocking\",\"flocking\",\"flocking\",\"flocking\",\"flocking\",\"flocking\",\"flocking\",\"flocking\",\"flocking\",\"flocking\",\"flocking\",\"flocking\",\"flocking\",\"flocking\",\"flocking\",\"flocking\",\"flocking\",\"flocking\",\"flocking\",\"flocking\",\"flocking\",\"flocking\",\"flocking\",\"flocking\",\"flocking\",\"flocking\",\"flocking\",\"flocking\",\"flocking\",\"flocking\",\"flocking\",\"flocking\",\"flocking\",\"flocking\",\"flocking\",\"flocking\",\"flocking\",\"flocking\",\"flocking\",\"flocking\",\"flocking\",\"flocking\",\"flocking\",\"flocking\",\"flocking\",\"flocking\",\"flocking\",\"flocking\",\"flocking\",\"flocking\",\"flocking\",\"flocking\",\"flocking\",\"flocking\",\"flocking\",\"flocking\",\"flocking\",\"flocking\",\"flocking\",\"flocking\",\"flocking\",\"flocking\",\"flocking\",\"flocking\",\"flocking\",\"flocking\",\"flocking\",\"flocking\",\"flocking\",\"flocking\",\"flocking\",\"flocking\",\"flocking\",\"flocking\",\"flocking\",\"flocking\",\"flocking\",\"flocking\",\"flocking\",\"flocking\",\"flocking\",\"flocking\",\"flocking\",\"flocking\",\"flocking\",\"flocking\",\"flocking\",\"flocking\",\"flocking\",\"flocking\",\"flocking\",\"flocking\",\"flocking\",\"flocking\",\"flocking\",\"flocking\",\"flocking\",\"flocking\",\"flocking\",\"flocking\",\"flocking\",\"flocking\",\"flocking\",\"flocking\",\"flocking\",\"flocking\",\"flocking\",\"flocking\",\"flocking\",\"flocking\",\"flocking\",\"flocking\",\"flocking\",\"flocking\",\"flocking\",\"flocking\",\"flocking\",\"flocking\",\"flocking\",\"flocking\",\"flocking\",\"flocking\",\"flocking\",\"flocking\",\"flocking\",\"flocking\",\"flocking\",\"flocking\",\"flocking\",\"flocking\",\"flocking\",\"flocking\",\"flocking\",\"flocking\",\"flocking\",\"flocking\",\"flocking\",\"flocking\",\"flocking\",\"flocking\",\"flocking\",\"flocking\",\"flocking\",\"flocking\",\"flocking\",\"flocking\",\"flocking\",\"flocking\",\"flocking\",\"flocking\",\"flocking\",\"flocking\",\"flocking\",\"flocking\",\"flocking\",\"flocking\",\"flocking\",\"flocking\",\"flocking\",\"flocking\",\"flocking\",\"flocking\",\"flocking\",\"flocking\",\"flocking\",\"flocking\",\"flocking\",\"flocking\",\"flocking\",\"flocking\",\"flocking\",\"flocking\",\"flocking\",\"flocking\",\"flocking\",\"flocking\",\"flocking\",\"flocking\",\"flocking\",\"flocking\",\"flocking\",\"flocking\",\"flocking\",\"flocking\",\"flocking\",\"flocking\",\"flocking\",\"flocking\",\"flocking\",\"flocking\",\"flocking\",\"flocking\",\"flocking\",\"flocking\",\"flocking\",\"flocking\",\"flocking\",\"flocking\",\"flocking\",\"flocking\",\"flocking\",\"flocking\",\"flocking\",\"flocking\",\"flocking\",\"flocking\",\"flocking\",\"flocking\",\"flocking\",\"flocking\",\"flocking\",\"flocking\",\"flocking\",\"flocking\",\"flocking\",\"flocking\",\"flocking\",\"flocking\",\"flocking\",\"flocking\",\"flocking\",\"flocking\",\"flocking\",\"flocking\",\"flocking\",\"flocking\",\"flocking\",\"flocking\",\"flocking\",\"flocking\",\"flocking\",\"flocking\",\"flocking\",\"flocking\",\"flocking\",\"flocking\",\"flocking\",\"flocking\",\"flocking\",\"flocking\",\"flocking\",\"flocking\",\"flocking\",\"flocking\",\"flocking\",\"flocking\",\"flocking\",\"flocking\",\"flocking\",\"flocking\",\"flocking\",\"flocking\",\"flocking\",\"flocking\",\"flocking\",\"flocking\",\"flocking\",\"flocking\",\"flocking\",\"flocking\",\"flocking\",\"flocking\",\"flocking\",\"flocking\",\"flocking\",\"flocking\",\"flocking\",\"flocking\",\"flocking\",\"flocking\",\"flocking\",\"flocking\",\"flocking\",\"flocking\",\"flocking\",\"flocking\",\"flocking\",\"flocking\",\"flocking\",\"flocking\",\"flocking\",\"flocking\",\"flocking\",\"flocking\",\"flocking\",\"flocking\",\"flocking\",\"flocking\",\"flocking\",\"flocking\",\"flocking\",\"flocking\",\"flocking\",\"flocking\",\"flocking\",\"flocking\",\"flocking\",\"flocking\",\"flocking\",\"flocking\",\"flocking\",\"flocking\",\"flocking\",\"flocking\",\"flocking\",\"flocking\",\"flocking\",\"flocking\",\"flocking\",\"flocking\",\"flocking\",\"flocking\",\"flocking\",\"flocking\",\"flocking\",\"flocking\",\"flocking\",\"flocking\",\"flocking\",\"flocking\",\"flocking\",\"flocking\",\"flocking\",\"flocking\",\"flocking\",\"flocking\",\"flocking\",\"flocking\",\"flocking\",\"flocking\",\"flocking\",\"flocking\",\"flocking\",\"flocking\",\"flocking\",\"flocking\",\"flocking\",\"flocking\",\"flocking\",\"flocking\",\"flocking\",\"flocking\",\"flocking\",\"flocking\",\"flocking\",\"flocking\",\"flocking\",\"flocking\",\"flocking\",\"flocking\",\"flocking\",\"flocking\",\"flocking\",\"flocking\",\"flocking\",\"flocking\",\"flocking\",\"flocking\",\"flocking\",\"flocking\",\"flocking\",\"flocking\",\"flocking\",\"flocking\",\"flocking\",\"flocking\",\"flocking\",\"flocking\",\"flocking\",\"flocking\",\"flocking\",\"flocking\",\"flocking\",\"flocking\",\"flocking\",\"flocking\",\"flocking\",\"flocking\",\"flocking\",\"flocking\",\"flocking\",\"flocking\",\"flocking\",\"flocking\",\"flocking\",\"flocking\",\"flocking\",\"flocking\",\"flocking\",\"flocking\",\"flocking\",\"flocking\",\"flocking\",\"flocking\",\"flocking\",\"flocking\",\"flocking\",\"flocking\",\"flocking\",\"flocking\",\"flocking\",\"flocking\",\"flocking\",\"flocking\",\"flocking\",\"flocking\",\"flocking\",\"flocking\",\"flocking\",\"flocking\",\"flocking\",\"flocking\",\"flocking\",\"flocking\",\"flocking\",\"flocking\",\"flocking\",\"flocking\",\"flocking\",\"flocking\",\"flocking\",\"flocking\",\"flocking\",\"flocking\",\"flocking\",\"flocking\",\"flocking\",\"flocking\",\"flocking\",\"flocking\",\"flocking\",\"flocking\",\"flocking\",\"flocking\",\"flocking\",\"flocking\",\"flocking\",\"flocking\",\"flocking\",\"flocking\",\"flocking\",\"flocking\",\"flocking\",\"flocking\",\"flocking\",\"flocking\",\"flocking\",\"flocking\",\"flocking\",\"flocking\",\"flocking\",\"flocking\",\"flocking\",\"flocking\",\"flocking\",\"flocking\",\"flocking\",\"flocking\",\"flocking\",\"flocking\",\"flocking\",\"flocking\",\"flocking\",\"flocking\",\"flocking\",\"flocking\",\"flocking\",\"flocking\",\"flocking\",\"flocking\",\"flocking\",\"flocking\",\"flocking\",\"flocking\",\"flocking\",\"flocking\",\"flocking\",\"flocking\",\"flocking\",\"flocking\",\"flocking\",\"flocking\",\"flocking\",\"flocking\",\"flocking\",\"flocking\"],\"x0\":\" \",\"xaxis\":\"x\",\"y\":[0.0,0.0,0.0,0.0,0.0,0.0,0.0,0.0,0.0,0.0,0.0,0.0,0.0,0.0,0.0,0.0,0.0,0.0,0.0,0.0,0.0,0.0,0.0,0.0,0.0,0.0,0.0,0.0,0.0,0.0,0.0,0.0,0.0,0.0,0.0,0.0,0.0,0.0,0.0,0.0,0.0,0.0,0.0,0.0,0.0,0.0,0.0,0.0,0.0,0.0,0.0,0.0,0.0,0.0,0.0,0.0,0.0,0.0,0.0,0.0,0.0,0.0,0.0,0.0,0.0,0.0,0.0,0.0,0.0,0.0,0.0,0.0,0.0,0.0,0.0,0.0,0.0,0.0,0.0,0.0,0.0,0.0,0.0,0.0,0.0,0.0,0.0,0.0,0.0,0.0,0.0,0.0,0.0,0.0,0.0,0.0,0.0,0.0,0.0,0.0,0.0,0.0,0.0,0.0,0.0,0.0,0.0,0.0,0.0,0.0,0.0,0.0,0.0,0.0,0.0,0.0,0.0,0.0,0.0,0.0,0.0,0.0,0.0,0.0,0.0,0.0,0.0,0.0,0.0,0.0,0.0,0.0,0.0,0.0,0.0,0.0,0.0,0.0,0.0,0.0,0.0,0.0,0.0,0.0,0.0,0.0,0.0,0.0,0.0,0.0,0.0,0.0,0.0,0.0,0.0,0.0,0.0,0.0,0.0,0.0,0.0,0.0,0.0,0.0,0.0,0.0,0.0,0.0,0.0,0.0,0.0,0.0,0.0,0.0,0.0,0.0,0.0,0.0,0.0,0.0,0.0,0.0,0.0,0.0,0.0,0.0,0.0,0.0,0.0,0.0,0.0,0.0,0.0,0.0,0.0,0.0,0.0,0.0,0.0,0.0,0.0,0.0,0.0,0.0,0.0,0.0,0.0,0.0,0.0,0.0,0.0,0.0,0.0,0.0,0.0,0.0,0.0,0.0,0.0,0.0,0.0,0.0,0.0,0.0,0.0,0.0,0.0,0.0,0.0,0.0,0.0,0.0,0.0,0.0,0.0,0.0,0.0,0.0,0.0,0.0,0.0,0.0,0.0,0.0,0.0,0.0,0.0,0.0,0.0,0.0,0.0,0.0,0.0,0.0,0.0,0.0,0.0,0.0,0.0,0.0,0.0,0.0,0.0,0.0,0.0,0.0,0.0,0.0,0.0,0.0,0.0,0.0,0.0,0.0,0.0,0.0,0.0,0.0,0.0,0.0,0.0,0.0,0.0,0.0,0.0,0.0,0.0,0.0,0.0,0.0,0.0,0.0,0.0,0.0,0.0,0.0,0.0,0.0,0.0,0.0,0.0,0.0,0.0,0.0,0.0,0.0,0.0,0.0,0.0,0.0,0.0,0.0,0.0,0.0,0.0,0.0,0.0,0.0,0.0,0.0,0.0,0.0,0.0,0.0,0.0,0.0,0.0,0.0,0.0,0.0,0.0,0.0,0.0,0.0,0.0,0.0,0.0,0.0,0.0,0.0,0.0,0.0,0.0,0.0,0.0,0.0,0.0,0.0,0.0,0.0,0.0,0.0,0.0,0.0,0.0,0.0,0.0,0.0,0.0,0.0,0.0,0.0,0.0,0.0,0.0,0.0,0.0,0.0,0.0,0.0,0.0,0.0,0.0,0.0,0.0,0.0,0.0,0.0,0.0,0.0,0.0,0.0,0.0,0.0,0.0,0.0,0.0,0.0,0.0,0.0,0.0,0.0,0.0,0.0,0.0,0.0,0.0,0.0,0.0,0.0,0.0,0.0,0.0,0.0,0.0,0.0,0.0,0.0,0.0,0.0,0.0,0.0,0.0,0.0,0.0,0.0,0.0,0.0,0.0,0.0,0.0,0.0,0.0,0.0,0.0,0.0,0.0,0.0,0.0,0.0,0.0,0.0,0.0,0.0,0.0,0.0,0.0,0.0,0.0,0.0,0.0,0.0,0.0,0.0,0.0,0.0,0.0,0.0,0.0,0.0,0.0,0.0,0.0,0.0,0.0,0.0,0.0,0.0,0.0,0.0,0.0,0.0,0.0,0.0,0.0,0.0,0.0,0.0,0.0,0.0,0.0,0.0,0.0,0.0,0.0,0.0,0.0,0.0,0.0,0.0,0.0,0.0,0.0,0.0,0.0,0.0,0.0,0.0,0.0,0.0,0.0,0.0,0.0,0.0,0.0,0.0,0.0,0.0,0.0,0.0,0.0,0.0,0.0,0.0,0.0,0.0,0.0,0.0,0.0,0.0,0.0,0.0,0.0,0.0,0.0,0.0,0.0,0.0,0.0,0.0,0.0,0.0,0.0,0.0,0.0,0.0,0.0,0.0,0.0,0.0,0.0,0.0,0.0,0.0,0.0,0.0,0.0,0.0,0.0,0.0,0.0,0.0,0.0,0.0,0.0,0.0,0.0,0.0,15.878432322163563,20.6667248765303,19.321963992812595,27.3200658968528,6.066065929984192,25.878370095991105,41.44295863010618,41.97206400012927,7.978874647362869,76.85558251131688,9.171848049651029,28.23351098168196,45.46488162456183,15.923810040466009,17.524264782703376,11.348776509106372,3.442776969842809,3.457544814023834,33.981713528225555,27.31422441676124,5.058785839416513,16.80563562273363,29.738308337019387,17.08001082237289,13.768586398050996,3.2851573982591376,5.535257791287245,22.62034571461474,22.021097818064643,34.99869504802853,5.421273732562454,18.649859924910466,61.61014392052162,53.74446567735337,42.8712691858908,37.22196495414738,32.43187528721156,23.20773284660094,25.208544483688183,26.99142269081948,25.96246348811408,18.126674543893103,36.30718770921371,20.4092148204426,26.714363539229996,47.40803447522501,44.04599540705765,11.067008761082825,36.49728843135849,102.57426907131044,18.01087295441123,32.96829429477819,49.90088565325691,9.61596505960452,25.40944072769252,19.1795162606656,20.772381512332352,23.64489300597755,72.73680198496035,9.687880005631758,31.919989348028317,18.16991170303405,10.398181317692998,13.52546106945642,13.529084594213916,14.689748798201611,10.086831102722208,42.58313058275247,19.40690242386093,36.18610832917629,55.25298476611237,31.687402011291613,17.120740473628572,19.84737239740143,18.727414958786216,48.24992016967232,30.280897879815555,13.986411760480392,16.00693588571583,41.02964923585477,29.05618054598333,7.403099512392994,10.424661009297242,11.783808056449397,7.556035785806896,9.94393815955154,41.07471463358913,40.85949336430115,42.02906917379114,5.891592641476887,12.66431505425134,24.20514708561151,31.707883536999045,21.29418736306254,10.56760233992827,11.978420427132468,42.34106767268322,28.67038928695893,31.36046420676699,22.309535488100213,16.668307620463167,45.25631233564789,19.328754619054187,36.383193386146125,17.248650509885145,6.012272195507367,8.572336277005803,37.63236235701282,18.141460109871065,40.50622959672378,37.53695008699808,15.879989385200396,24.62769284920736,31.33560836986308,43.15830106385752,105.3635856888794,55.567762676661374,42.326669569693614,11.356154153746887,21.91559424240342,16.150057549768484,14.288661382706016,28.27373207475783,41.38374043970892,15.234029397454774,24.49881641106786,14.047670319090232,7.5344766737782916,14.258820267218036,14.495081699048844,42.17003952874485,8.68726367277126,12.802689445923756,23.5303218280108,19.65787655114162,45.48117946562016,23.74098036903137,15.326402683885336,25.31356688836864,23.03292374362995,15.525111124233687,31.06229710782583,28.437732671524667,9.452662087296687,21.462890207204524,22.026443709156656,65.33063378180333,24.627934368458256,21.466257182628738,15.01838328024472,16.364398261625066,12.05940670992793,9.696338910340184,16.57255517825284,15.40740360733244,26.015112984413232,9.537281359421184,57.66127183630214,29.808752300667003,5.541350118280411,5.179540329484523,27.890041239910488,60.67199347672835,11.63551702187968,22.83477259375648,22.720306635560167,41.362056365919614,15.180020061725845,22.732362600441228,18.8695599374109,6.328210328868329,44.018094560530464,45.10953924733679,7.678706069302986,12.810488120498924,40.87029598162738,11.34879631791814,20.10328163295509,11.140022813567237,63.54958402449203,39.34103838477344,17.021710891477525,11.831263285881196,35.45814514214621,11.135697907424612,45.58962787389346,33.18242737710091,44.04583319770679,1.490655109728125,16.00532411537375,11.180928369216367,17.086855053289828,26.7957323682992,24.574858416706803,18.510548446138788,31.74324311206272,46.58031724131811,31.09579631732725,31.86243165094917,18.56203831605469,27.08858315756704,14.856406760711788,9.711368358351743,7.307986244980794,19.076569268415334,68.05507994093828,40.29339102210267,44.9459870764704,45.40255512796241,37.05893916664596,30.9001406775899,38.12345970603472,45.41207623462626,44.23911673231829,59.59871836018934,6.709027856170716,10.066180144036842,10.636074284920191,8.01703417431228,59.286667300773495,37.02408364483473,76.92447229818208,44.8505487471212,17.359389389841684,35.50529143991256,36.36000371222252,46.76196071299562,57.540189703290125,35.65059066630057,23.86249293608844,13.2199377881577,11.896664733285146,30.09219849870409,50.31359262924652,2.593991830043573,14.283165383074076,15.081702347198837,10.12860847147846,18.15417414338349,19.4170811151663,12.44801709553103,9.378148682028216,12.892074037635725,22.646507088443357,10.966266982860033,15.350753478896223,30.47440485331871,27.487107108692797,0.4651141732271121,27.0915441843415,13.77223301011609,24.920583314286432,39.42723872776157,14.6254931387217,26.614225664034954,24.01186130650636,14.680539255393896,4.958780997945222,18.48396962571736,27.78980788687645,11.098556767377309,15.53267578942192,1.7809697308553774,11.99258158102993,13.544896124186632,8.596422718394619,14.608980445544166,63.405974216986415,39.316345766009405,4.784916112334043,20.887545832810986,59.15228620256174,66.79536033549803,17.216339547750728,14.811571890028512,19.83979604167536,15.51278770658019,17.2349093730846,20.36487127624424,8.952670188975747,18.47708209581968,5.093928796878877,28.302373500722315,111.93913898283031,55.06668854584623,11.385487798798684,16.44646458517989,23.81078685210823,9.325025060030937,16.56186583416752,15.381793420933931,16.415026291344166,23.38274115206045,24.100874049454085,29.70923673663017,24.75317909131012,34.184995500395004,27.406100184593363,13.592940129516574,27.954232924491738,58.50605156106235,73.173215872747,57.00711436931972,19.48854931498143,15.077537121391376,20.75542679874213,29.36750226957765,18.143740640472384,58.89412138497613,30.255404437754848,24.105917544619825,20.379591132693516,53.71268426896719,33.681249295931,24.97198926962775,16.180185201172225,6.025015276921803,70.14796879446284,85.67643784762527,26.942142780475088,31.13158836853268,22.639289771718893,12.252305193281709,20.991856853053463,3.927767892233828,27.19224705783234,18.936501774652577,31.93056990273188,31.33567048599486,23.93810375568844,36.164778681181375,30.770137082281455,20.83885471069325,7.586795902578378,9.69636917818862,18.609070095579117,11.44502188227455,36.50688594861449,30.836776034950464,29.404275237140084,23.201827692717515,22.822893976493745,11.359851341466769,75.9889025112927,17.898382862033827,12.65845941861411,22.502977950471696,9.292140053692796,35.724149602185,44.55811407642933,25.641052463971896,20.053931241998374,19.649250675510228,21.52680321301575,22.353394819293136,34.639044300427045,10.85516572922821,18.82443108717889,18.75059169485601,8.523633190031722,11.475695170904087,7.980070180271272,52.09076541248066,28.957123985854537,8.975927034952612,11.574951626645714,27.167743549274206,27.92926206916992,20.09503243782904,19.060052072702813,55.09552796429524,3.0339653145918617,9.6317713094691,19.18356769993253,22.37533175090281,14.054669610104677,16.967124247316338,21.593155203321267,9.73290617220789,12.591478895933593,4.614451339797221,20.259033137051222,27.063932612746918,27.315129330811025,15.06622584052496,29.25734121250925,58.95298121936553,18.21044268431389,8.81907145165095,24.55580960599106,29.61996971525243,26.38262546003453,6.534516618056423,10.98123053454123,13.32818071051442,18.126194215248244,11.774848238321612,36.38956263083823,84.37897045764416,32.44309924755422,11.373576149363208,13.00712053925223,48.0197624307863,26.98363584700937,17.83538134252027,5.574570119470852,17.38527782533786,61.53949561622572,49.16995045179885,19.21861489815405,15.187021509684955,17.642579720790646,28.41362339767201,24.540881729847456,23.23975907934851,46.39397529468466,13.37565419328331,17.448236300837728,29.450588290385905,28.870405332706863,9.824253174026904,37.60673633567097,16.651983826927992,73.14108633313093,14.850588697418273,20.56404461455454,29.17237748798383,15.719738007025526,9.317276977550664,16.094670974092647,22.09182618893479,11.550629974406874,16.71272200065306,18.804392121641204,31.562984849346595,13.73974737472957,45.24597249800908,56.209541877276415,11.83754966835462,26.765398305110043,23.27655498687024,34.04061183047362,78.72537926584107,16.665033349841043,33.587681152038215,56.41971344893506,62.97482886336124,11.72166634333459,18.97290936947359,9.158645811940149,32.58781868736214,19.247504797170187,13.800240576473165,10.42840127844286,14.639746901095556,8.787940026181788,29.497886000171512,8.038758601575825,13.912428581925926,22.87409186784163,17.246475405474282,57.774964741123,19.56694685048075,12.44994434773754,17.62836663724473,70.26188328078487,19.69394142476205,8.376766144309537,6.238090949827811,13.10799681419578,3.87965568809284,5.4493059539988655,28.446079829417688,10.856552321507992,16.88820921304566,20.19061628568329,40.79184390620443,19.531440032368486,28.52972414337028,35.62655082504367,21.622101600691437,21.809069626832223,21.57098519665072,20.43198407823612,5.368842738779422,14.70951332639875,6.977050854045242,13.408478610814718,14.0819199519643,13.791878986145596,11.585824500429055,15.499731904963408,5.371717669744903,26.048518917880624,19.509901152765423,100.89389465431904,128.05298425013342,7.885237221917787,32.2354149639493,37.905295238639376,41.76893049857208,13.842452626675046,13.744152549205491,13.08521717329527,18.16166281907615,48.10033621570559,32.18423861423021,18.46748971365832,19.14970221234742,36.57113194517616,17.691656259132305,47.621843612742,18.675713671740667,18.119496853040538,17.036074218986997,42.34178077006214,55.4432994164545,7.704415494559363,26.80972743665181,13.737936426922088,17.592053861269243,11.39821646660286,16.05645961612917,41.45066991632058,20.75192005914781,30.654533309162822,21.131264351315973,20.673729245964186,49.84148361794036,47.711587944317486,49.1841014360293,51.202126844916656,7.089052376367207,120.07909045528558,41.65093692178814,23.87307037194783,15.83551951162454,18.159156559577543,23.4013794639671,24.055475921527812,21.81609121052947,7.875457998657192,15.50298133015342,28.595435933774308,4.090545623948155,27.108447714814343,7.39400934581056,6.207587488170227,10.40393364292952,8.973752115526038,16.01565426614283,23.10995199632383,6.288579835284923,31.157059887326135,18.174851737911855,21.6753593208962,18.468958773196512,69.73695873852144,12.771482641895332,30.49504393697136,76.45516334112267,15.287452178780454,15.676310856033473,27.33593790743411,5.300905181384858,9.84179313221889,13.12535902035567,18.718334019751865,8.191557943616925,27.46756462123044,19.90714698144514,20.518680536710303,29.32456106195911,10.18319268049,9.389070814374548,18.77973360972366,19.12400789023772,32.142986507909406,8.095247604280623,17.139183037078176,45.96675712718108,73.7297289573019,51.597601824433845,28.8044074186908,49.5124626216246,15.4776250546068,17.941905003638315,15.29854708797412,13.632115670530322,13.49820276300591,42.4588426005182,8.883960838346404,15.976970317418663,35.627461944391015,31.495380818949027,10.244523730990997,28.372074085783023,44.28784984177084,38.38888553232186,21.178478523783976,45.7536748403463,18.08986476856856,18.47234574289361,10.757072474003357,14.336036452278806,26.222918099151222,75.3087738074768,16.723255072602573,35.178768974228014,29.6149025299238,14.39439471678172,20.108155726134655,10.316744349437236,28.74859640436449,7.913256585373367,27.98523062519381,25.09947258143797,32.6550358792742,32.02178449562062,25.024948413350277,9.271723338002618,15.677427034811924,16.919296695098524,38.62731278208543,19.686456839610145,19.57579355971844,8.91259247453945,51.555798783971,16.6742173328713,9.924298054679706,9.33369928896042,16.609161575517977,4.791118464862413,13.982650821783045,48.14413661268777,40.98647879117913,52.988540498034816,17.52289846090346,18.55080468432872,24.656203681218575,21.57575043508221,33.93961049762989,18.556829107703138,21.46838232207642,29.88621125534377,35.76212169342196,20.160267775075138,15.461375145417708,12.349397838341217,61.9467833147346,16.58116330942946,25.87908249434379,19.01166304162132,5.850588997175755,8.448329900555578,22.94930053666039,13.29805155424562,35.38528452668723,63.874391850995536,13.09492757787634,18.33446848720141,36.85866814512959,44.71013916599042,47.20232950887733,25.07697399208675,30.934501090147258,10.779914004335216,22.01187860767383,10.309827237087916,16.81631621516224,24.20165204747191,30.388460519836663,10.992488862481409,15.076770738128344,18.717932834229934,8.647568744566176,13.939056727269987,12.46433526289162,27.090625882036758,7.8005919533781185,14.17413106148074,19.138199821314284,21.787215546133087,46.31938977895698,12.653218050340506,11.125740066500311,29.70010765379057,26.391457373080517,15.595052665640036,23.64181388428244,30.93735970208627,12.423499830975937,17.218307524941295,12.263103631923151,27.902361764690514,16.52251993676855,25.92758529946998,17.742299898976498,11.901649507989262,8.153201420630907,10.691036694641053,21.04632564675434,8.493174723109009,34.35459603672392,15.536486349433526,56.43742276561113,23.83136026349578,14.858137844323103,13.332978474544552,19.818722347518868,61.601988789783725,13.538107945184786,20.831206923389896,20.161437027956936,49.41810445911707,11.931054886783247,30.252892058108326,19.2755548530083,17.401580174248384,26.285330640158342,54.9998188121417,9.138386604174077,13.519657531582816,20.0672371301449,33.20697294001747,22.43903430516824,32.46569081774137,51.914183356992254,38.4051796711303,9.677871563513062,20.720308052620137,36.30417963765431,15.839320975776303,93.44416637198782,37.7109940952154,52.071886409157685,17.283465258100936,16.698614230621754,50.82915507002192,11.247204339440303,43.21627377933986,52.88002964270878,44.31099072467003,24.188417766053348,30.761134530929475,19.765348869553836,18.0415778923361,12.876221369371232,28.876978386128417,19.51476357991381,6.596103295753359,9.44528797839347,20.051290012422182,57.699099350970585,46.91565290981179,23.915721411716262,24.711082951327047,25.760337915532165,24.728286705703884,37.84852735326164,40.458265183513504,32.42862802129888,42.06733836642419,16.29880578709837,17.640711768511586,20.71013043417741,5.736945277145597,39.42064550490576,23.46095176202425,22.86150984896225,24.25746608548803,19.127836310994887,22.087529891091965,15.144960637488348,36.053242668493695,54.11080257932765,34.17621135359407,39.009282098326864,20.870282902197577,11.517997172803836,14.866264435002062,39.66149564667218,5.90046830154859,14.433078469933088,14.631729587436965,13.841999475246958,14.162883060198904,17.748886226825665,17.821368595748545,15.380183370177017,16.556912119010114,23.439690306170988,32.858014147867934,13.52616682594207,13.859707937854369,25.89232049924776,7.339872670392744,32.59872051484051,9.375040672346318,24.07876698803824,15.828928057170357,14.314303681736886,27.281826504096813,18.427406334909456,9.374265703760202,6.956777348929208,25.867678712019615,12.564328604023093,25.808312611009832,22.48577485433096,5.509871787513368,13.786776304249114,16.17909797336558,11.86037721885923,14.346854213626443,30.97620047191352,36.838564263162446,7.87629945600683,11.937374327407175,26.00815729865047,63.85730152325829,13.626713053344613,15.0538760977072,11.11502876082795,34.773170247399506,14.48735047611767,15.665650476785885,10.252877331665374,15.540825523082413,6.9442916653161095,23.60496158452825,81.24469593630994,69.44114851468836,23.70797671356737,14.838599911029158,17.03717720788484,14.31869374140351,17.542845171349516,13.08275697139858,10.661336644811517,34.119827219173985,27.477390946715065,44.467374614164655,24.44701312230932,34.38933677411959,20.683641549142383,10.587517254668924,45.88260198533941,84.91555969363536,51.13514015198153,44.9195973263218,17.060179220549912,17.801252962921726,13.693221651818089,27.46972016094891,20.46863197890865,62.21862078163204,22.55969043604708,33.15183549833424,21.149791039600487,41.3592856443561,35.2836121472279,14.724625031788989,21.73294071998361,12.305300066296798,59.95706477022748,64.48057560146451,48.55789194222356,35.22471663350509,13.4634562751088,15.706145944806762,25.982439276934585,15.927846798634608,30.872039168058546,12.264130732370091,24.22713189488328,13.3681911719412,10.608056261504874,29.05112372058016,12.684202073678112,16.585244315074018,7.374896571336978,15.023755986101062,14.96651819332878,30.02522721881149,23.976712453682875,19.780267143747103,23.79740304364181,7.192132065432773,9.005360308435188,7.342532716024126,99.3343737409622,18.152630559201857,13.373003563064168,25.32983843300617,5.526636494551897,31.90304871614228,41.16915835848866,21.537105886180903,29.87713142725877,13.366769149956143,13.776498537886871,10.190457321009813,45.177963190741714,12.689527453665386,16.43974889908743,9.773959273237857,12.450439788988382,27.560377819288,11.177423208007454,40.56290497695869,21.208219046570797,9.03567972373747,31.17712369442276,9.928360620166634,35.10965030497846,17.6200179965129,20.473785897431817,43.87286898194678,16.08447278185271,13.86602694049373,19.337586361010786,20.77834094756653,17.257456274670133,15.03384116895625,19.62789293535382,18.473313385370915,14.670878659876134,19.30885179692013,32.363021540251935,38.23643114748633,17.080502527706336,20.107826525246228,39.20620386670443,69.94507938721715,11.16759621990087,5.764168757545037,17.383423375972782,12.350309042146549,22.26317591414131,14.747301245539074,12.541570905414796,10.183507031413846,11.332578231046744,7.884519659955675,22.952120441348534,48.82147724283374,37.27727835145852,10.760600230987302,22.32157030601001,55.45461819172359,15.742027572354134,14.551801968355957,12.04064036574344,12.949427393781274,55.95701090058698,61.83704468424641,18.05019668856033,34.46245688624205,20.7425687720181,35.192443661171446,19.222743029688264,23.748822151880987,46.36984159365705,11.617630954550023,15.185140136591844,35.76070144156784,25.498551896325893,6.458167621366405,41.47337406772599,16.616225445395973,49.38604775635625,22.65114906171359,20.48835300331687,15.703749346455574,20.785850855339014,16.72782005667179,7.322549523339835,27.475104779486543,16.460421742199383,13.59241607189024,33.30194725289517,25.28139056346465,11.394668418438876,74.0263686198022,72.1455771354696,10.27845528584692,13.31941809513875,21.198081585997127,23.85138122821733,37.9526761734723,14.077248285339456,30.26549563319141,64.35485407633479,60.31571244142406,13.187734181873504,20.730777143934493,13.12081651609182,27.139277464282408,35.398593221085555,16.29778570466798,7.1456968098086096,19.72187850325078,25.21328780326,12.963195660999254,13.776837071775624,8.735717933767262,19.25145854180144,13.759246931761831,81.70257442447401,23.38059421546649,11.205092431386564,16.420131286033683,68.235651694702,13.6516067746367,10.236534137187537,6.820283281531092,7.489025987003468,11.150210120407396,6.980597638471996,19.338412834387277,8.148164934232806,11.654761247778785,24.3968265132398,34.176883976398045,15.664607920002275,27.43162759950019,29.66309653078316,27.41740834232219,26.822213100259216,10.295926430449809,37.92846141157718,13.539563157877623,14.539248631495507,13.327671667351,14.873788528167722,26.44386579435277,6.731744685573142,23.840220023193485,27.225884043683923,11.686750119390338,27.945465224173077,32.06355860598832,48.52921199589889,83.99943798612433,8.239345103628652,16.166923234087385,16.7074353058725,49.36489010335658,10.058013245098666,13.359272789669085,17.32860139357113,18.25691374073919,16.754354879052897,22.385494724489472,11.232743821136406,17.39727017476905,31.24818399782172,20.57258907384035,43.83124252575285,14.887522815710104,22.11707024462306,11.268722630602644,54.05694042856652,69.35402244135055,10.99370340474922,12.349247933823126,17.476919455748448,17.81926671822913,8.844688435023745,17.981057962861883,36.95857450379821,11.996425982101268,19.798653617221017,29.26131390449609,14.63108479233568,40.376395951864914,33.93861762136766,39.64268985544526,41.71661943690152,11.829528596747048,61.27881659307168,42.3715427135057,14.379585846798566,11.235228336602978,12.476017381127622,19.35789994883557,20.509600546480677,23.93792226931886,9.648520811615995,19.72647926421177,22.882946407003956,6.1946186905153935,63.46480154786334,22.03086669743225,12.453326587510078],\"y0\":\" \",\"yaxis\":\"y\",\"type\":\"box\"}],                        {\"template\":{\"data\":{\"histogram2dcontour\":[{\"type\":\"histogram2dcontour\",\"colorbar\":{\"outlinewidth\":0,\"ticks\":\"\"},\"colorscale\":[[0.0,\"#0d0887\"],[0.1111111111111111,\"#46039f\"],[0.2222222222222222,\"#7201a8\"],[0.3333333333333333,\"#9c179e\"],[0.4444444444444444,\"#bd3786\"],[0.5555555555555556,\"#d8576b\"],[0.6666666666666666,\"#ed7953\"],[0.7777777777777778,\"#fb9f3a\"],[0.8888888888888888,\"#fdca26\"],[1.0,\"#f0f921\"]]}],\"choropleth\":[{\"type\":\"choropleth\",\"colorbar\":{\"outlinewidth\":0,\"ticks\":\"\"}}],\"histogram2d\":[{\"type\":\"histogram2d\",\"colorbar\":{\"outlinewidth\":0,\"ticks\":\"\"},\"colorscale\":[[0.0,\"#0d0887\"],[0.1111111111111111,\"#46039f\"],[0.2222222222222222,\"#7201a8\"],[0.3333333333333333,\"#9c179e\"],[0.4444444444444444,\"#bd3786\"],[0.5555555555555556,\"#d8576b\"],[0.6666666666666666,\"#ed7953\"],[0.7777777777777778,\"#fb9f3a\"],[0.8888888888888888,\"#fdca26\"],[1.0,\"#f0f921\"]]}],\"heatmap\":[{\"type\":\"heatmap\",\"colorbar\":{\"outlinewidth\":0,\"ticks\":\"\"},\"colorscale\":[[0.0,\"#0d0887\"],[0.1111111111111111,\"#46039f\"],[0.2222222222222222,\"#7201a8\"],[0.3333333333333333,\"#9c179e\"],[0.4444444444444444,\"#bd3786\"],[0.5555555555555556,\"#d8576b\"],[0.6666666666666666,\"#ed7953\"],[0.7777777777777778,\"#fb9f3a\"],[0.8888888888888888,\"#fdca26\"],[1.0,\"#f0f921\"]]}],\"heatmapgl\":[{\"type\":\"heatmapgl\",\"colorbar\":{\"outlinewidth\":0,\"ticks\":\"\"},\"colorscale\":[[0.0,\"#0d0887\"],[0.1111111111111111,\"#46039f\"],[0.2222222222222222,\"#7201a8\"],[0.3333333333333333,\"#9c179e\"],[0.4444444444444444,\"#bd3786\"],[0.5555555555555556,\"#d8576b\"],[0.6666666666666666,\"#ed7953\"],[0.7777777777777778,\"#fb9f3a\"],[0.8888888888888888,\"#fdca26\"],[1.0,\"#f0f921\"]]}],\"contourcarpet\":[{\"type\":\"contourcarpet\",\"colorbar\":{\"outlinewidth\":0,\"ticks\":\"\"}}],\"contour\":[{\"type\":\"contour\",\"colorbar\":{\"outlinewidth\":0,\"ticks\":\"\"},\"colorscale\":[[0.0,\"#0d0887\"],[0.1111111111111111,\"#46039f\"],[0.2222222222222222,\"#7201a8\"],[0.3333333333333333,\"#9c179e\"],[0.4444444444444444,\"#bd3786\"],[0.5555555555555556,\"#d8576b\"],[0.6666666666666666,\"#ed7953\"],[0.7777777777777778,\"#fb9f3a\"],[0.8888888888888888,\"#fdca26\"],[1.0,\"#f0f921\"]]}],\"surface\":[{\"type\":\"surface\",\"colorbar\":{\"outlinewidth\":0,\"ticks\":\"\"},\"colorscale\":[[0.0,\"#0d0887\"],[0.1111111111111111,\"#46039f\"],[0.2222222222222222,\"#7201a8\"],[0.3333333333333333,\"#9c179e\"],[0.4444444444444444,\"#bd3786\"],[0.5555555555555556,\"#d8576b\"],[0.6666666666666666,\"#ed7953\"],[0.7777777777777778,\"#fb9f3a\"],[0.8888888888888888,\"#fdca26\"],[1.0,\"#f0f921\"]]}],\"mesh3d\":[{\"type\":\"mesh3d\",\"colorbar\":{\"outlinewidth\":0,\"ticks\":\"\"}}],\"scatter\":[{\"fillpattern\":{\"fillmode\":\"overlay\",\"size\":10,\"solidity\":0.2},\"type\":\"scatter\"}],\"parcoords\":[{\"type\":\"parcoords\",\"line\":{\"colorbar\":{\"outlinewidth\":0,\"ticks\":\"\"}}}],\"scatterpolargl\":[{\"type\":\"scatterpolargl\",\"marker\":{\"colorbar\":{\"outlinewidth\":0,\"ticks\":\"\"}}}],\"bar\":[{\"error_x\":{\"color\":\"#2a3f5f\"},\"error_y\":{\"color\":\"#2a3f5f\"},\"marker\":{\"line\":{\"color\":\"#E5ECF6\",\"width\":0.5},\"pattern\":{\"fillmode\":\"overlay\",\"size\":10,\"solidity\":0.2}},\"type\":\"bar\"}],\"scattergeo\":[{\"type\":\"scattergeo\",\"marker\":{\"colorbar\":{\"outlinewidth\":0,\"ticks\":\"\"}}}],\"scatterpolar\":[{\"type\":\"scatterpolar\",\"marker\":{\"colorbar\":{\"outlinewidth\":0,\"ticks\":\"\"}}}],\"histogram\":[{\"marker\":{\"pattern\":{\"fillmode\":\"overlay\",\"size\":10,\"solidity\":0.2}},\"type\":\"histogram\"}],\"scattergl\":[{\"type\":\"scattergl\",\"marker\":{\"colorbar\":{\"outlinewidth\":0,\"ticks\":\"\"}}}],\"scatter3d\":[{\"type\":\"scatter3d\",\"line\":{\"colorbar\":{\"outlinewidth\":0,\"ticks\":\"\"}},\"marker\":{\"colorbar\":{\"outlinewidth\":0,\"ticks\":\"\"}}}],\"scattermapbox\":[{\"type\":\"scattermapbox\",\"marker\":{\"colorbar\":{\"outlinewidth\":0,\"ticks\":\"\"}}}],\"scatterternary\":[{\"type\":\"scatterternary\",\"marker\":{\"colorbar\":{\"outlinewidth\":0,\"ticks\":\"\"}}}],\"scattercarpet\":[{\"type\":\"scattercarpet\",\"marker\":{\"colorbar\":{\"outlinewidth\":0,\"ticks\":\"\"}}}],\"carpet\":[{\"aaxis\":{\"endlinecolor\":\"#2a3f5f\",\"gridcolor\":\"white\",\"linecolor\":\"white\",\"minorgridcolor\":\"white\",\"startlinecolor\":\"#2a3f5f\"},\"baxis\":{\"endlinecolor\":\"#2a3f5f\",\"gridcolor\":\"white\",\"linecolor\":\"white\",\"minorgridcolor\":\"white\",\"startlinecolor\":\"#2a3f5f\"},\"type\":\"carpet\"}],\"table\":[{\"cells\":{\"fill\":{\"color\":\"#EBF0F8\"},\"line\":{\"color\":\"white\"}},\"header\":{\"fill\":{\"color\":\"#C8D4E3\"},\"line\":{\"color\":\"white\"}},\"type\":\"table\"}],\"barpolar\":[{\"marker\":{\"line\":{\"color\":\"#E5ECF6\",\"width\":0.5},\"pattern\":{\"fillmode\":\"overlay\",\"size\":10,\"solidity\":0.2}},\"type\":\"barpolar\"}],\"pie\":[{\"automargin\":true,\"type\":\"pie\"}]},\"layout\":{\"autotypenumbers\":\"strict\",\"colorway\":[\"#636efa\",\"#EF553B\",\"#00cc96\",\"#ab63fa\",\"#FFA15A\",\"#19d3f3\",\"#FF6692\",\"#B6E880\",\"#FF97FF\",\"#FECB52\"],\"font\":{\"color\":\"#2a3f5f\"},\"hovermode\":\"closest\",\"hoverlabel\":{\"align\":\"left\"},\"paper_bgcolor\":\"white\",\"plot_bgcolor\":\"#E5ECF6\",\"polar\":{\"bgcolor\":\"#E5ECF6\",\"angularaxis\":{\"gridcolor\":\"white\",\"linecolor\":\"white\",\"ticks\":\"\"},\"radialaxis\":{\"gridcolor\":\"white\",\"linecolor\":\"white\",\"ticks\":\"\"}},\"ternary\":{\"bgcolor\":\"#E5ECF6\",\"aaxis\":{\"gridcolor\":\"white\",\"linecolor\":\"white\",\"ticks\":\"\"},\"baxis\":{\"gridcolor\":\"white\",\"linecolor\":\"white\",\"ticks\":\"\"},\"caxis\":{\"gridcolor\":\"white\",\"linecolor\":\"white\",\"ticks\":\"\"}},\"coloraxis\":{\"colorbar\":{\"outlinewidth\":0,\"ticks\":\"\"}},\"colorscale\":{\"sequential\":[[0.0,\"#0d0887\"],[0.1111111111111111,\"#46039f\"],[0.2222222222222222,\"#7201a8\"],[0.3333333333333333,\"#9c179e\"],[0.4444444444444444,\"#bd3786\"],[0.5555555555555556,\"#d8576b\"],[0.6666666666666666,\"#ed7953\"],[0.7777777777777778,\"#fb9f3a\"],[0.8888888888888888,\"#fdca26\"],[1.0,\"#f0f921\"]],\"sequentialminus\":[[0.0,\"#0d0887\"],[0.1111111111111111,\"#46039f\"],[0.2222222222222222,\"#7201a8\"],[0.3333333333333333,\"#9c179e\"],[0.4444444444444444,\"#bd3786\"],[0.5555555555555556,\"#d8576b\"],[0.6666666666666666,\"#ed7953\"],[0.7777777777777778,\"#fb9f3a\"],[0.8888888888888888,\"#fdca26\"],[1.0,\"#f0f921\"]],\"diverging\":[[0,\"#8e0152\"],[0.1,\"#c51b7d\"],[0.2,\"#de77ae\"],[0.3,\"#f1b6da\"],[0.4,\"#fde0ef\"],[0.5,\"#f7f7f7\"],[0.6,\"#e6f5d0\"],[0.7,\"#b8e186\"],[0.8,\"#7fbc41\"],[0.9,\"#4d9221\"],[1,\"#276419\"]]},\"xaxis\":{\"gridcolor\":\"white\",\"linecolor\":\"white\",\"ticks\":\"\",\"title\":{\"standoff\":15},\"zerolinecolor\":\"white\",\"automargin\":true,\"zerolinewidth\":2},\"yaxis\":{\"gridcolor\":\"white\",\"linecolor\":\"white\",\"ticks\":\"\",\"title\":{\"standoff\":15},\"zerolinecolor\":\"white\",\"automargin\":true,\"zerolinewidth\":2},\"scene\":{\"xaxis\":{\"backgroundcolor\":\"#E5ECF6\",\"gridcolor\":\"white\",\"linecolor\":\"white\",\"showbackground\":true,\"ticks\":\"\",\"zerolinecolor\":\"white\",\"gridwidth\":2},\"yaxis\":{\"backgroundcolor\":\"#E5ECF6\",\"gridcolor\":\"white\",\"linecolor\":\"white\",\"showbackground\":true,\"ticks\":\"\",\"zerolinecolor\":\"white\",\"gridwidth\":2},\"zaxis\":{\"backgroundcolor\":\"#E5ECF6\",\"gridcolor\":\"white\",\"linecolor\":\"white\",\"showbackground\":true,\"ticks\":\"\",\"zerolinecolor\":\"white\",\"gridwidth\":2}},\"shapedefaults\":{\"line\":{\"color\":\"#2a3f5f\"}},\"annotationdefaults\":{\"arrowcolor\":\"#2a3f5f\",\"arrowhead\":0,\"arrowwidth\":1},\"geo\":{\"bgcolor\":\"white\",\"landcolor\":\"#E5ECF6\",\"subunitcolor\":\"white\",\"showland\":true,\"showlakes\":true,\"lakecolor\":\"white\"},\"title\":{\"x\":0.05},\"mapbox\":{\"style\":\"light\"}}},\"xaxis\":{\"anchor\":\"y\",\"domain\":[0.0,1.0],\"title\":{\"text\":\"controllers\"}},\"yaxis\":{\"anchor\":\"x\",\"domain\":[0.0,1.0],\"title\":{\"text\":\"degrees\"}},\"legend\":{\"tracegroupgap\":0},\"margin\":{\"t\":60},\"boxmode\":\"group\",\"title\":{\"text\":\"Control direction correction from optimal input\"}},                        {\"responsive\": true}                    ).then(function(){\n",
       "                            \n",
       "var gd = document.getElementById('86000396-fbb1-4a17-9b87-3973e5829ff4');\n",
       "var x = new MutationObserver(function (mutations, observer) {{\n",
       "        var display = window.getComputedStyle(gd).display;\n",
       "        if (!display || display === 'none') {{\n",
       "            console.log([gd, 'removed!']);\n",
       "            Plotly.purge(gd);\n",
       "            observer.disconnect();\n",
       "        }}\n",
       "}});\n",
       "\n",
       "// Listen for the removal of the full notebook cells\n",
       "var notebookContainer = gd.closest('#notebook-container');\n",
       "if (notebookContainer) {{\n",
       "    x.observe(notebookContainer, {childList: true});\n",
       "}}\n",
       "\n",
       "// Listen for the clearing of the current output cell\n",
       "var outputEl = gd.closest('.output');\n",
       "if (outputEl) {{\n",
       "    x.observe(outputEl, {childList: true});\n",
       "}}\n",
       "\n",
       "                        })                };                });            </script>        </div>"
      ]
     },
     "metadata": {},
     "output_type": "display_data"
    }
   ],
   "source": [
    "opt_ctrl_correction_dict = {\"hj_naive\": metrics_hj_naive[\"Mean maximum correction from optimal control degrees\"],\n",
    "                      \"hj_reactive\": metrics_hj_reactive[\"Mean maximum correction from optimal control degrees\"],\n",
    "                      \"flocking\": metrics_hj_flocking[\"Mean maximum correction from optimal control degrees\"]}\n",
    "opt_ctrl_correction_df = pd.DataFrame(opt_ctrl_correction_dict)\n",
    "fig_opt_ctrl_correction = px.box(opt_ctrl_correction_df )\n",
    "# Add custom x and y labels\n",
    "fig_opt_ctrl_correction.update_layout(\n",
    "    xaxis_title=\"controllers\",\n",
    "    yaxis_title=\"degrees\",\n",
    "    title = {'text': \"Control direction correction from optimal input\"}\n",
    ")\n",
    "fig_opt_ctrl_correction.show()"
   ]
  },
  {
   "attachments": {},
   "cell_type": "markdown",
   "metadata": {},
   "source": [
    "+ Isolated Platform Metric"
   ]
  },
  {
   "cell_type": "code",
   "execution_count": 15,
   "metadata": {},
   "outputs": [
    {
     "data": {
      "application/vnd.plotly.v1+json": {
       "config": {
        "plotlyServerURL": "https://plot.ly"
       },
       "data": [
        {
         "alignmentgroup": "True",
         "hovertemplate": "variable=%{x}<br>value=%{y}<extra></extra>",
         "legendgroup": "",
         "marker": {
          "color": "#636efa"
         },
         "name": "",
         "notched": false,
         "offsetgroup": "",
         "orientation": "v",
         "showlegend": false,
         "type": "box",
         "x": [
          "hj_naive",
          "hj_naive",
          "hj_naive",
          "hj_naive",
          "hj_naive",
          "hj_naive",
          "hj_naive",
          "hj_naive",
          "hj_naive",
          "hj_naive",
          "hj_naive",
          "hj_naive",
          "hj_naive",
          "hj_naive",
          "hj_naive",
          "hj_naive",
          "hj_naive",
          "hj_naive",
          "hj_naive",
          "hj_naive",
          "hj_naive",
          "hj_naive",
          "hj_naive",
          "hj_naive",
          "hj_naive",
          "hj_naive",
          "hj_naive",
          "hj_naive",
          "hj_naive",
          "hj_naive",
          "hj_naive",
          "hj_naive",
          "hj_naive",
          "hj_naive",
          "hj_naive",
          "hj_naive",
          "hj_naive",
          "hj_naive",
          "hj_naive",
          "hj_naive",
          "hj_naive",
          "hj_naive",
          "hj_naive",
          "hj_naive",
          "hj_naive",
          "hj_naive",
          "hj_naive",
          "hj_naive",
          "hj_naive",
          "hj_naive",
          "hj_naive",
          "hj_naive",
          "hj_naive",
          "hj_naive",
          "hj_naive",
          "hj_naive",
          "hj_naive",
          "hj_naive",
          "hj_naive",
          "hj_naive",
          "hj_naive",
          "hj_naive",
          "hj_naive",
          "hj_naive",
          "hj_naive",
          "hj_naive",
          "hj_naive",
          "hj_naive",
          "hj_naive",
          "hj_naive",
          "hj_naive",
          "hj_naive",
          "hj_naive",
          "hj_naive",
          "hj_naive",
          "hj_naive",
          "hj_naive",
          "hj_naive",
          "hj_naive",
          "hj_naive",
          "hj_naive",
          "hj_naive",
          "hj_naive",
          "hj_naive",
          "hj_naive",
          "hj_naive",
          "hj_naive",
          "hj_naive",
          "hj_naive",
          "hj_naive",
          "hj_naive",
          "hj_naive",
          "hj_naive",
          "hj_naive",
          "hj_naive",
          "hj_naive",
          "hj_naive",
          "hj_naive",
          "hj_naive",
          "hj_naive",
          "hj_naive",
          "hj_naive",
          "hj_naive",
          "hj_naive",
          "hj_naive",
          "hj_naive",
          "hj_naive",
          "hj_naive",
          "hj_naive",
          "hj_naive",
          "hj_naive",
          "hj_naive",
          "hj_naive",
          "hj_naive",
          "hj_naive",
          "hj_naive",
          "hj_naive",
          "hj_naive",
          "hj_naive",
          "hj_naive",
          "hj_naive",
          "hj_naive",
          "hj_naive",
          "hj_naive",
          "hj_naive",
          "hj_naive",
          "hj_naive",
          "hj_naive",
          "hj_naive",
          "hj_naive",
          "hj_naive",
          "hj_naive",
          "hj_naive",
          "hj_naive",
          "hj_naive",
          "hj_naive",
          "hj_naive",
          "hj_naive",
          "hj_naive",
          "hj_naive",
          "hj_naive",
          "hj_naive",
          "hj_naive",
          "hj_naive",
          "hj_naive",
          "hj_naive",
          "hj_naive",
          "hj_naive",
          "hj_naive",
          "hj_naive",
          "hj_naive",
          "hj_naive",
          "hj_naive",
          "hj_naive",
          "hj_naive",
          "hj_naive",
          "hj_naive",
          "hj_naive",
          "hj_naive",
          "hj_naive",
          "hj_naive",
          "hj_naive",
          "hj_naive",
          "hj_naive",
          "hj_naive",
          "hj_naive",
          "hj_naive",
          "hj_naive",
          "hj_naive",
          "hj_naive",
          "hj_naive",
          "hj_naive",
          "hj_naive",
          "hj_naive",
          "hj_naive",
          "hj_naive",
          "hj_naive",
          "hj_naive",
          "hj_naive",
          "hj_naive",
          "hj_naive",
          "hj_naive",
          "hj_naive",
          "hj_naive",
          "hj_naive",
          "hj_naive",
          "hj_naive",
          "hj_naive",
          "hj_naive",
          "hj_naive",
          "hj_naive",
          "hj_naive",
          "hj_naive",
          "hj_naive",
          "hj_naive",
          "hj_naive",
          "hj_naive",
          "hj_naive",
          "hj_naive",
          "hj_naive",
          "hj_naive",
          "hj_naive",
          "hj_naive",
          "hj_naive",
          "hj_naive",
          "hj_naive",
          "hj_naive",
          "hj_naive",
          "hj_naive",
          "hj_naive",
          "hj_naive",
          "hj_naive",
          "hj_naive",
          "hj_naive",
          "hj_naive",
          "hj_naive",
          "hj_naive",
          "hj_naive",
          "hj_naive",
          "hj_naive",
          "hj_naive",
          "hj_naive",
          "hj_naive",
          "hj_naive",
          "hj_naive",
          "hj_naive",
          "hj_naive",
          "hj_naive",
          "hj_naive",
          "hj_naive",
          "hj_naive",
          "hj_naive",
          "hj_naive",
          "hj_naive",
          "hj_naive",
          "hj_naive",
          "hj_naive",
          "hj_naive",
          "hj_naive",
          "hj_naive",
          "hj_naive",
          "hj_naive",
          "hj_naive",
          "hj_naive",
          "hj_naive",
          "hj_naive",
          "hj_naive",
          "hj_naive",
          "hj_naive",
          "hj_naive",
          "hj_naive",
          "hj_naive",
          "hj_naive",
          "hj_naive",
          "hj_naive",
          "hj_naive",
          "hj_naive",
          "hj_naive",
          "hj_naive",
          "hj_naive",
          "hj_naive",
          "hj_naive",
          "hj_naive",
          "hj_naive",
          "hj_naive",
          "hj_naive",
          "hj_naive",
          "hj_naive",
          "hj_naive",
          "hj_naive",
          "hj_naive",
          "hj_naive",
          "hj_naive",
          "hj_naive",
          "hj_naive",
          "hj_naive",
          "hj_naive",
          "hj_naive",
          "hj_naive",
          "hj_naive",
          "hj_naive",
          "hj_naive",
          "hj_naive",
          "hj_naive",
          "hj_naive",
          "hj_naive",
          "hj_naive",
          "hj_naive",
          "hj_naive",
          "hj_naive",
          "hj_naive",
          "hj_naive",
          "hj_naive",
          "hj_naive",
          "hj_naive",
          "hj_naive",
          "hj_naive",
          "hj_naive",
          "hj_naive",
          "hj_naive",
          "hj_naive",
          "hj_naive",
          "hj_naive",
          "hj_naive",
          "hj_naive",
          "hj_naive",
          "hj_naive",
          "hj_naive",
          "hj_naive",
          "hj_naive",
          "hj_naive",
          "hj_naive",
          "hj_naive",
          "hj_naive",
          "hj_naive",
          "hj_naive",
          "hj_naive",
          "hj_naive",
          "hj_naive",
          "hj_naive",
          "hj_naive",
          "hj_naive",
          "hj_naive",
          "hj_naive",
          "hj_naive",
          "hj_naive",
          "hj_naive",
          "hj_naive",
          "hj_naive",
          "hj_naive",
          "hj_naive",
          "hj_naive",
          "hj_naive",
          "hj_naive",
          "hj_naive",
          "hj_naive",
          "hj_naive",
          "hj_naive",
          "hj_naive",
          "hj_naive",
          "hj_naive",
          "hj_naive",
          "hj_naive",
          "hj_naive",
          "hj_naive",
          "hj_naive",
          "hj_naive",
          "hj_naive",
          "hj_naive",
          "hj_naive",
          "hj_naive",
          "hj_naive",
          "hj_naive",
          "hj_naive",
          "hj_naive",
          "hj_naive",
          "hj_naive",
          "hj_naive",
          "hj_naive",
          "hj_naive",
          "hj_naive",
          "hj_naive",
          "hj_naive",
          "hj_naive",
          "hj_naive",
          "hj_naive",
          "hj_naive",
          "hj_naive",
          "hj_naive",
          "hj_naive",
          "hj_naive",
          "hj_naive",
          "hj_naive",
          "hj_naive",
          "hj_naive",
          "hj_naive",
          "hj_naive",
          "hj_naive",
          "hj_naive",
          "hj_naive",
          "hj_naive",
          "hj_naive",
          "hj_naive",
          "hj_naive",
          "hj_naive",
          "hj_naive",
          "hj_naive",
          "hj_naive",
          "hj_naive",
          "hj_naive",
          "hj_naive",
          "hj_naive",
          "hj_naive",
          "hj_naive",
          "hj_naive",
          "hj_naive",
          "hj_naive",
          "hj_naive",
          "hj_naive",
          "hj_naive",
          "hj_naive",
          "hj_naive",
          "hj_naive",
          "hj_naive",
          "hj_naive",
          "hj_naive",
          "hj_naive",
          "hj_naive",
          "hj_naive",
          "hj_naive",
          "hj_naive",
          "hj_naive",
          "hj_naive",
          "hj_naive",
          "hj_naive",
          "hj_naive",
          "hj_naive",
          "hj_naive",
          "hj_naive",
          "hj_naive",
          "hj_naive",
          "hj_naive",
          "hj_naive",
          "hj_naive",
          "hj_naive",
          "hj_naive",
          "hj_naive",
          "hj_naive",
          "hj_naive",
          "hj_naive",
          "hj_naive",
          "hj_naive",
          "hj_naive",
          "hj_naive",
          "hj_naive",
          "hj_naive",
          "hj_naive",
          "hj_naive",
          "hj_naive",
          "hj_naive",
          "hj_naive",
          "hj_naive",
          "hj_naive",
          "hj_naive",
          "hj_naive",
          "hj_naive",
          "hj_naive",
          "hj_naive",
          "hj_naive",
          "hj_naive",
          "hj_naive",
          "hj_naive",
          "hj_naive",
          "hj_naive",
          "hj_naive",
          "hj_naive",
          "hj_naive",
          "hj_naive",
          "hj_naive",
          "hj_naive",
          "hj_naive",
          "hj_naive",
          "hj_naive",
          "hj_naive",
          "hj_naive",
          "hj_naive",
          "hj_naive",
          "hj_naive",
          "hj_naive",
          "hj_naive",
          "hj_naive",
          "hj_naive",
          "hj_naive",
          "hj_naive",
          "hj_naive",
          "hj_naive",
          "hj_naive",
          "hj_naive",
          "hj_naive",
          "hj_naive",
          "hj_naive",
          "hj_naive",
          "hj_naive",
          "hj_naive",
          "hj_naive",
          "hj_naive",
          "hj_naive",
          "hj_naive",
          "hj_naive",
          "hj_naive",
          "hj_naive",
          "hj_naive",
          "hj_naive",
          "hj_naive",
          "hj_naive",
          "hj_naive",
          "hj_naive",
          "hj_naive",
          "hj_naive",
          "hj_naive",
          "hj_naive",
          "hj_naive",
          "hj_naive",
          "hj_naive",
          "hj_naive",
          "hj_naive",
          "hj_naive",
          "hj_naive",
          "hj_naive",
          "hj_naive",
          "hj_naive",
          "hj_naive",
          "hj_naive",
          "hj_naive",
          "hj_naive",
          "hj_naive",
          "hj_naive",
          "hj_naive",
          "hj_naive",
          "hj_naive",
          "hj_naive",
          "hj_naive",
          "hj_naive",
          "hj_naive",
          "hj_naive",
          "hj_naive",
          "hj_naive",
          "hj_naive",
          "hj_naive",
          "hj_naive",
          "hj_naive",
          "hj_naive",
          "hj_naive",
          "hj_naive",
          "hj_naive",
          "hj_naive",
          "hj_naive",
          "hj_naive",
          "hj_naive",
          "hj_naive",
          "hj_naive",
          "hj_naive",
          "hj_naive",
          "hj_naive",
          "hj_naive",
          "hj_naive",
          "hj_naive",
          "hj_naive",
          "hj_reactive",
          "hj_reactive",
          "hj_reactive",
          "hj_reactive",
          "hj_reactive",
          "hj_reactive",
          "hj_reactive",
          "hj_reactive",
          "hj_reactive",
          "hj_reactive",
          "hj_reactive",
          "hj_reactive",
          "hj_reactive",
          "hj_reactive",
          "hj_reactive",
          "hj_reactive",
          "hj_reactive",
          "hj_reactive",
          "hj_reactive",
          "hj_reactive",
          "hj_reactive",
          "hj_reactive",
          "hj_reactive",
          "hj_reactive",
          "hj_reactive",
          "hj_reactive",
          "hj_reactive",
          "hj_reactive",
          "hj_reactive",
          "hj_reactive",
          "hj_reactive",
          "hj_reactive",
          "hj_reactive",
          "hj_reactive",
          "hj_reactive",
          "hj_reactive",
          "hj_reactive",
          "hj_reactive",
          "hj_reactive",
          "hj_reactive",
          "hj_reactive",
          "hj_reactive",
          "hj_reactive",
          "hj_reactive",
          "hj_reactive",
          "hj_reactive",
          "hj_reactive",
          "hj_reactive",
          "hj_reactive",
          "hj_reactive",
          "hj_reactive",
          "hj_reactive",
          "hj_reactive",
          "hj_reactive",
          "hj_reactive",
          "hj_reactive",
          "hj_reactive",
          "hj_reactive",
          "hj_reactive",
          "hj_reactive",
          "hj_reactive",
          "hj_reactive",
          "hj_reactive",
          "hj_reactive",
          "hj_reactive",
          "hj_reactive",
          "hj_reactive",
          "hj_reactive",
          "hj_reactive",
          "hj_reactive",
          "hj_reactive",
          "hj_reactive",
          "hj_reactive",
          "hj_reactive",
          "hj_reactive",
          "hj_reactive",
          "hj_reactive",
          "hj_reactive",
          "hj_reactive",
          "hj_reactive",
          "hj_reactive",
          "hj_reactive",
          "hj_reactive",
          "hj_reactive",
          "hj_reactive",
          "hj_reactive",
          "hj_reactive",
          "hj_reactive",
          "hj_reactive",
          "hj_reactive",
          "hj_reactive",
          "hj_reactive",
          "hj_reactive",
          "hj_reactive",
          "hj_reactive",
          "hj_reactive",
          "hj_reactive",
          "hj_reactive",
          "hj_reactive",
          "hj_reactive",
          "hj_reactive",
          "hj_reactive",
          "hj_reactive",
          "hj_reactive",
          "hj_reactive",
          "hj_reactive",
          "hj_reactive",
          "hj_reactive",
          "hj_reactive",
          "hj_reactive",
          "hj_reactive",
          "hj_reactive",
          "hj_reactive",
          "hj_reactive",
          "hj_reactive",
          "hj_reactive",
          "hj_reactive",
          "hj_reactive",
          "hj_reactive",
          "hj_reactive",
          "hj_reactive",
          "hj_reactive",
          "hj_reactive",
          "hj_reactive",
          "hj_reactive",
          "hj_reactive",
          "hj_reactive",
          "hj_reactive",
          "hj_reactive",
          "hj_reactive",
          "hj_reactive",
          "hj_reactive",
          "hj_reactive",
          "hj_reactive",
          "hj_reactive",
          "hj_reactive",
          "hj_reactive",
          "hj_reactive",
          "hj_reactive",
          "hj_reactive",
          "hj_reactive",
          "hj_reactive",
          "hj_reactive",
          "hj_reactive",
          "hj_reactive",
          "hj_reactive",
          "hj_reactive",
          "hj_reactive",
          "hj_reactive",
          "hj_reactive",
          "hj_reactive",
          "hj_reactive",
          "hj_reactive",
          "hj_reactive",
          "hj_reactive",
          "hj_reactive",
          "hj_reactive",
          "hj_reactive",
          "hj_reactive",
          "hj_reactive",
          "hj_reactive",
          "hj_reactive",
          "hj_reactive",
          "hj_reactive",
          "hj_reactive",
          "hj_reactive",
          "hj_reactive",
          "hj_reactive",
          "hj_reactive",
          "hj_reactive",
          "hj_reactive",
          "hj_reactive",
          "hj_reactive",
          "hj_reactive",
          "hj_reactive",
          "hj_reactive",
          "hj_reactive",
          "hj_reactive",
          "hj_reactive",
          "hj_reactive",
          "hj_reactive",
          "hj_reactive",
          "hj_reactive",
          "hj_reactive",
          "hj_reactive",
          "hj_reactive",
          "hj_reactive",
          "hj_reactive",
          "hj_reactive",
          "hj_reactive",
          "hj_reactive",
          "hj_reactive",
          "hj_reactive",
          "hj_reactive",
          "hj_reactive",
          "hj_reactive",
          "hj_reactive",
          "hj_reactive",
          "hj_reactive",
          "hj_reactive",
          "hj_reactive",
          "hj_reactive",
          "hj_reactive",
          "hj_reactive",
          "hj_reactive",
          "hj_reactive",
          "hj_reactive",
          "hj_reactive",
          "hj_reactive",
          "hj_reactive",
          "hj_reactive",
          "hj_reactive",
          "hj_reactive",
          "hj_reactive",
          "hj_reactive",
          "hj_reactive",
          "hj_reactive",
          "hj_reactive",
          "hj_reactive",
          "hj_reactive",
          "hj_reactive",
          "hj_reactive",
          "hj_reactive",
          "hj_reactive",
          "hj_reactive",
          "hj_reactive",
          "hj_reactive",
          "hj_reactive",
          "hj_reactive",
          "hj_reactive",
          "hj_reactive",
          "hj_reactive",
          "hj_reactive",
          "hj_reactive",
          "hj_reactive",
          "hj_reactive",
          "hj_reactive",
          "hj_reactive",
          "hj_reactive",
          "hj_reactive",
          "hj_reactive",
          "hj_reactive",
          "hj_reactive",
          "hj_reactive",
          "hj_reactive",
          "hj_reactive",
          "hj_reactive",
          "hj_reactive",
          "hj_reactive",
          "hj_reactive",
          "hj_reactive",
          "hj_reactive",
          "hj_reactive",
          "hj_reactive",
          "hj_reactive",
          "hj_reactive",
          "hj_reactive",
          "hj_reactive",
          "hj_reactive",
          "hj_reactive",
          "hj_reactive",
          "hj_reactive",
          "hj_reactive",
          "hj_reactive",
          "hj_reactive",
          "hj_reactive",
          "hj_reactive",
          "hj_reactive",
          "hj_reactive",
          "hj_reactive",
          "hj_reactive",
          "hj_reactive",
          "hj_reactive",
          "hj_reactive",
          "hj_reactive",
          "hj_reactive",
          "hj_reactive",
          "hj_reactive",
          "hj_reactive",
          "hj_reactive",
          "hj_reactive",
          "hj_reactive",
          "hj_reactive",
          "hj_reactive",
          "hj_reactive",
          "hj_reactive",
          "hj_reactive",
          "hj_reactive",
          "hj_reactive",
          "hj_reactive",
          "hj_reactive",
          "hj_reactive",
          "hj_reactive",
          "hj_reactive",
          "hj_reactive",
          "hj_reactive",
          "hj_reactive",
          "hj_reactive",
          "hj_reactive",
          "hj_reactive",
          "hj_reactive",
          "hj_reactive",
          "hj_reactive",
          "hj_reactive",
          "hj_reactive",
          "hj_reactive",
          "hj_reactive",
          "hj_reactive",
          "hj_reactive",
          "hj_reactive",
          "hj_reactive",
          "hj_reactive",
          "hj_reactive",
          "hj_reactive",
          "hj_reactive",
          "hj_reactive",
          "hj_reactive",
          "hj_reactive",
          "hj_reactive",
          "hj_reactive",
          "hj_reactive",
          "hj_reactive",
          "hj_reactive",
          "hj_reactive",
          "hj_reactive",
          "hj_reactive",
          "hj_reactive",
          "hj_reactive",
          "hj_reactive",
          "hj_reactive",
          "hj_reactive",
          "hj_reactive",
          "hj_reactive",
          "hj_reactive",
          "hj_reactive",
          "hj_reactive",
          "hj_reactive",
          "hj_reactive",
          "hj_reactive",
          "hj_reactive",
          "hj_reactive",
          "hj_reactive",
          "hj_reactive",
          "hj_reactive",
          "hj_reactive",
          "hj_reactive",
          "hj_reactive",
          "hj_reactive",
          "hj_reactive",
          "hj_reactive",
          "hj_reactive",
          "hj_reactive",
          "hj_reactive",
          "hj_reactive",
          "hj_reactive",
          "hj_reactive",
          "hj_reactive",
          "hj_reactive",
          "hj_reactive",
          "hj_reactive",
          "hj_reactive",
          "hj_reactive",
          "hj_reactive",
          "hj_reactive",
          "hj_reactive",
          "hj_reactive",
          "hj_reactive",
          "hj_reactive",
          "hj_reactive",
          "hj_reactive",
          "hj_reactive",
          "hj_reactive",
          "hj_reactive",
          "hj_reactive",
          "hj_reactive",
          "hj_reactive",
          "hj_reactive",
          "hj_reactive",
          "hj_reactive",
          "hj_reactive",
          "hj_reactive",
          "hj_reactive",
          "hj_reactive",
          "hj_reactive",
          "hj_reactive",
          "hj_reactive",
          "hj_reactive",
          "hj_reactive",
          "hj_reactive",
          "hj_reactive",
          "hj_reactive",
          "hj_reactive",
          "hj_reactive",
          "hj_reactive",
          "hj_reactive",
          "hj_reactive",
          "hj_reactive",
          "hj_reactive",
          "hj_reactive",
          "hj_reactive",
          "hj_reactive",
          "hj_reactive",
          "hj_reactive",
          "hj_reactive",
          "hj_reactive",
          "hj_reactive",
          "hj_reactive",
          "hj_reactive",
          "hj_reactive",
          "hj_reactive",
          "hj_reactive",
          "hj_reactive",
          "hj_reactive",
          "hj_reactive",
          "hj_reactive",
          "hj_reactive",
          "hj_reactive",
          "hj_reactive",
          "hj_reactive",
          "hj_reactive",
          "hj_reactive",
          "hj_reactive",
          "hj_reactive",
          "hj_reactive",
          "hj_reactive",
          "hj_reactive",
          "hj_reactive",
          "hj_reactive",
          "hj_reactive",
          "hj_reactive",
          "hj_reactive",
          "hj_reactive",
          "hj_reactive",
          "hj_reactive",
          "hj_reactive",
          "hj_reactive",
          "hj_reactive",
          "hj_reactive",
          "hj_reactive",
          "hj_reactive",
          "hj_reactive",
          "hj_reactive",
          "hj_reactive",
          "hj_reactive",
          "hj_reactive",
          "hj_reactive",
          "hj_reactive",
          "hj_reactive",
          "hj_reactive",
          "hj_reactive",
          "hj_reactive",
          "hj_reactive",
          "hj_reactive",
          "hj_reactive",
          "hj_reactive",
          "hj_reactive",
          "hj_reactive",
          "hj_reactive",
          "hj_reactive",
          "hj_reactive",
          "hj_reactive",
          "hj_reactive",
          "hj_reactive",
          "hj_reactive",
          "hj_reactive",
          "hj_reactive",
          "hj_reactive",
          "hj_reactive",
          "hj_reactive",
          "hj_reactive",
          "hj_reactive",
          "hj_reactive",
          "hj_reactive",
          "hj_reactive",
          "hj_reactive",
          "hj_reactive",
          "hj_reactive",
          "hj_reactive",
          "hj_reactive",
          "hj_reactive",
          "hj_reactive",
          "hj_reactive",
          "hj_reactive",
          "hj_reactive",
          "hj_reactive",
          "hj_reactive",
          "hj_reactive",
          "hj_reactive",
          "hj_reactive",
          "hj_reactive",
          "hj_reactive",
          "hj_reactive",
          "hj_reactive",
          "hj_reactive",
          "hj_reactive",
          "hj_reactive",
          "hj_reactive",
          "hj_reactive",
          "hj_reactive",
          "hj_reactive",
          "hj_reactive",
          "hj_reactive",
          "hj_reactive",
          "hj_reactive",
          "hj_reactive",
          "hj_reactive",
          "hj_reactive",
          "hj_reactive",
          "hj_reactive",
          "hj_reactive",
          "hj_reactive",
          "hj_reactive",
          "hj_reactive",
          "hj_reactive",
          "hj_reactive",
          "hj_reactive",
          "hj_reactive",
          "hj_reactive",
          "hj_reactive",
          "hj_reactive",
          "hj_reactive",
          "hj_reactive",
          "hj_reactive",
          "hj_reactive",
          "hj_reactive",
          "hj_reactive",
          "hj_reactive",
          "hj_reactive",
          "hj_reactive",
          "hj_reactive",
          "hj_reactive",
          "hj_reactive",
          "hj_reactive",
          "hj_reactive",
          "hj_reactive",
          "hj_reactive",
          "hj_reactive",
          "hj_reactive",
          "hj_reactive",
          "hj_reactive",
          "hj_reactive",
          "hj_reactive",
          "hj_reactive",
          "hj_reactive",
          "hj_reactive",
          "hj_reactive",
          "hj_reactive",
          "hj_reactive",
          "flocking",
          "flocking",
          "flocking",
          "flocking",
          "flocking",
          "flocking",
          "flocking",
          "flocking",
          "flocking",
          "flocking",
          "flocking",
          "flocking",
          "flocking",
          "flocking",
          "flocking",
          "flocking",
          "flocking",
          "flocking",
          "flocking",
          "flocking",
          "flocking",
          "flocking",
          "flocking",
          "flocking",
          "flocking",
          "flocking",
          "flocking",
          "flocking",
          "flocking",
          "flocking",
          "flocking",
          "flocking",
          "flocking",
          "flocking",
          "flocking",
          "flocking",
          "flocking",
          "flocking",
          "flocking",
          "flocking",
          "flocking",
          "flocking",
          "flocking",
          "flocking",
          "flocking",
          "flocking",
          "flocking",
          "flocking",
          "flocking",
          "flocking",
          "flocking",
          "flocking",
          "flocking",
          "flocking",
          "flocking",
          "flocking",
          "flocking",
          "flocking",
          "flocking",
          "flocking",
          "flocking",
          "flocking",
          "flocking",
          "flocking",
          "flocking",
          "flocking",
          "flocking",
          "flocking",
          "flocking",
          "flocking",
          "flocking",
          "flocking",
          "flocking",
          "flocking",
          "flocking",
          "flocking",
          "flocking",
          "flocking",
          "flocking",
          "flocking",
          "flocking",
          "flocking",
          "flocking",
          "flocking",
          "flocking",
          "flocking",
          "flocking",
          "flocking",
          "flocking",
          "flocking",
          "flocking",
          "flocking",
          "flocking",
          "flocking",
          "flocking",
          "flocking",
          "flocking",
          "flocking",
          "flocking",
          "flocking",
          "flocking",
          "flocking",
          "flocking",
          "flocking",
          "flocking",
          "flocking",
          "flocking",
          "flocking",
          "flocking",
          "flocking",
          "flocking",
          "flocking",
          "flocking",
          "flocking",
          "flocking",
          "flocking",
          "flocking",
          "flocking",
          "flocking",
          "flocking",
          "flocking",
          "flocking",
          "flocking",
          "flocking",
          "flocking",
          "flocking",
          "flocking",
          "flocking",
          "flocking",
          "flocking",
          "flocking",
          "flocking",
          "flocking",
          "flocking",
          "flocking",
          "flocking",
          "flocking",
          "flocking",
          "flocking",
          "flocking",
          "flocking",
          "flocking",
          "flocking",
          "flocking",
          "flocking",
          "flocking",
          "flocking",
          "flocking",
          "flocking",
          "flocking",
          "flocking",
          "flocking",
          "flocking",
          "flocking",
          "flocking",
          "flocking",
          "flocking",
          "flocking",
          "flocking",
          "flocking",
          "flocking",
          "flocking",
          "flocking",
          "flocking",
          "flocking",
          "flocking",
          "flocking",
          "flocking",
          "flocking",
          "flocking",
          "flocking",
          "flocking",
          "flocking",
          "flocking",
          "flocking",
          "flocking",
          "flocking",
          "flocking",
          "flocking",
          "flocking",
          "flocking",
          "flocking",
          "flocking",
          "flocking",
          "flocking",
          "flocking",
          "flocking",
          "flocking",
          "flocking",
          "flocking",
          "flocking",
          "flocking",
          "flocking",
          "flocking",
          "flocking",
          "flocking",
          "flocking",
          "flocking",
          "flocking",
          "flocking",
          "flocking",
          "flocking",
          "flocking",
          "flocking",
          "flocking",
          "flocking",
          "flocking",
          "flocking",
          "flocking",
          "flocking",
          "flocking",
          "flocking",
          "flocking",
          "flocking",
          "flocking",
          "flocking",
          "flocking",
          "flocking",
          "flocking",
          "flocking",
          "flocking",
          "flocking",
          "flocking",
          "flocking",
          "flocking",
          "flocking",
          "flocking",
          "flocking",
          "flocking",
          "flocking",
          "flocking",
          "flocking",
          "flocking",
          "flocking",
          "flocking",
          "flocking",
          "flocking",
          "flocking",
          "flocking",
          "flocking",
          "flocking",
          "flocking",
          "flocking",
          "flocking",
          "flocking",
          "flocking",
          "flocking",
          "flocking",
          "flocking",
          "flocking",
          "flocking",
          "flocking",
          "flocking",
          "flocking",
          "flocking",
          "flocking",
          "flocking",
          "flocking",
          "flocking",
          "flocking",
          "flocking",
          "flocking",
          "flocking",
          "flocking",
          "flocking",
          "flocking",
          "flocking",
          "flocking",
          "flocking",
          "flocking",
          "flocking",
          "flocking",
          "flocking",
          "flocking",
          "flocking",
          "flocking",
          "flocking",
          "flocking",
          "flocking",
          "flocking",
          "flocking",
          "flocking",
          "flocking",
          "flocking",
          "flocking",
          "flocking",
          "flocking",
          "flocking",
          "flocking",
          "flocking",
          "flocking",
          "flocking",
          "flocking",
          "flocking",
          "flocking",
          "flocking",
          "flocking",
          "flocking",
          "flocking",
          "flocking",
          "flocking",
          "flocking",
          "flocking",
          "flocking",
          "flocking",
          "flocking",
          "flocking",
          "flocking",
          "flocking",
          "flocking",
          "flocking",
          "flocking",
          "flocking",
          "flocking",
          "flocking",
          "flocking",
          "flocking",
          "flocking",
          "flocking",
          "flocking",
          "flocking",
          "flocking",
          "flocking",
          "flocking",
          "flocking",
          "flocking",
          "flocking",
          "flocking",
          "flocking",
          "flocking",
          "flocking",
          "flocking",
          "flocking",
          "flocking",
          "flocking",
          "flocking",
          "flocking",
          "flocking",
          "flocking",
          "flocking",
          "flocking",
          "flocking",
          "flocking",
          "flocking",
          "flocking",
          "flocking",
          "flocking",
          "flocking",
          "flocking",
          "flocking",
          "flocking",
          "flocking",
          "flocking",
          "flocking",
          "flocking",
          "flocking",
          "flocking",
          "flocking",
          "flocking",
          "flocking",
          "flocking",
          "flocking",
          "flocking",
          "flocking",
          "flocking",
          "flocking",
          "flocking",
          "flocking",
          "flocking",
          "flocking",
          "flocking",
          "flocking",
          "flocking",
          "flocking",
          "flocking",
          "flocking",
          "flocking",
          "flocking",
          "flocking",
          "flocking",
          "flocking",
          "flocking",
          "flocking",
          "flocking",
          "flocking",
          "flocking",
          "flocking",
          "flocking",
          "flocking",
          "flocking",
          "flocking",
          "flocking",
          "flocking",
          "flocking",
          "flocking",
          "flocking",
          "flocking",
          "flocking",
          "flocking",
          "flocking",
          "flocking",
          "flocking",
          "flocking",
          "flocking",
          "flocking",
          "flocking",
          "flocking",
          "flocking",
          "flocking",
          "flocking",
          "flocking",
          "flocking",
          "flocking",
          "flocking",
          "flocking",
          "flocking",
          "flocking",
          "flocking",
          "flocking",
          "flocking",
          "flocking",
          "flocking",
          "flocking",
          "flocking",
          "flocking",
          "flocking",
          "flocking",
          "flocking",
          "flocking",
          "flocking",
          "flocking",
          "flocking",
          "flocking",
          "flocking",
          "flocking",
          "flocking",
          "flocking",
          "flocking",
          "flocking",
          "flocking",
          "flocking",
          "flocking",
          "flocking",
          "flocking",
          "flocking",
          "flocking",
          "flocking",
          "flocking",
          "flocking",
          "flocking",
          "flocking",
          "flocking",
          "flocking",
          "flocking",
          "flocking",
          "flocking",
          "flocking",
          "flocking",
          "flocking",
          "flocking",
          "flocking",
          "flocking",
          "flocking",
          "flocking",
          "flocking",
          "flocking",
          "flocking",
          "flocking",
          "flocking",
          "flocking",
          "flocking",
          "flocking",
          "flocking",
          "flocking",
          "flocking",
          "flocking",
          "flocking",
          "flocking",
          "flocking",
          "flocking",
          "flocking",
          "flocking",
          "flocking",
          "flocking",
          "flocking",
          "flocking",
          "flocking",
          "flocking",
          "flocking",
          "flocking",
          "flocking",
          "flocking",
          "flocking",
          "flocking",
          "flocking",
          "flocking",
          "flocking",
          "flocking",
          "flocking",
          "flocking",
          "flocking",
          "flocking",
          "flocking",
          "flocking",
          "flocking",
          "flocking",
          "flocking",
          "flocking",
          "flocking",
          "flocking",
          "flocking",
          "flocking",
          "flocking",
          "flocking",
          "flocking",
          "flocking",
          "flocking",
          "flocking",
          "flocking",
          "flocking",
          "flocking",
          "flocking",
          "flocking",
          "flocking",
          "flocking",
          "flocking",
          "flocking",
          "flocking",
          "flocking",
          "flocking",
          "flocking",
          "flocking",
          "flocking",
          "flocking",
          "flocking",
          "flocking",
          "flocking",
          "flocking",
          "flocking",
          "flocking",
          "flocking",
          "flocking",
          "flocking",
          "flocking",
          "flocking",
          "flocking",
          "flocking",
          "flocking"
         ],
         "x0": " ",
         "xaxis": "x",
         "y": [
          0,
          0,
          0.0773148148148148,
          0.1,
          0,
          1.173148148148148,
          0,
          0,
          0,
          0.8439814814814814,
          0,
          0.175,
          1.760185185185185,
          0,
          0,
          0.3777777777777777,
          0,
          0,
          0,
          0.1546296296296296,
          0,
          0,
          0.1435185185185185,
          0,
          0,
          0,
          0,
          0,
          0.5310185185185186,
          0.424074074074074,
          0,
          0.5523148148148148,
          0.8791666666666667,
          1.489814814814815,
          1.1583333333333334,
          0.5643518518518519,
          0.7240740740740741,
          0.0523148148148148,
          0,
          0,
          0.1421296296296296,
          0,
          0.963425925925926,
          0,
          0,
          2.3023148148148147,
          0,
          0,
          0,
          1.7555555555555555,
          0.9814814814814816,
          0.8222222222222222,
          1.6879629629629629,
          0.0805555555555555,
          0.1416666666666666,
          0,
          0,
          0,
          0.9717592592592592,
          0,
          0,
          0.2527777777777777,
          0.0356481481481481,
          0,
          0,
          0.4796296296296296,
          0,
          0,
          0,
          1.2027777777777775,
          0.8851851851851852,
          1.7546296296296295,
          0,
          0,
          0,
          0,
          0.7861111111111111,
          0,
          0,
          0.4074074074074074,
          0,
          0,
          0,
          0,
          0,
          0.2662037037037037,
          1.162037037037037,
          0.4134259259259259,
          0.95,
          1,
          0,
          0.3976851851851852,
          0,
          0.162037037037037,
          0,
          0,
          0.525,
          0.5796296296296296,
          0,
          0.1754629629629629,
          0,
          1.024537037037037,
          0,
          0,
          0.0523148148148148,
          0,
          0,
          0.2712962962962963,
          0,
          0.9194444444444444,
          1.223148148148148,
          0,
          0,
          0.3453703703703704,
          0,
          2.323148148148148,
          1.209722222222222,
          1.1,
          0,
          0.036574074074074,
          0,
          0,
          0.6222222222222222,
          0,
          0,
          0.9449074074074074,
          0.5587962962962963,
          0,
          0.0476851851851851,
          0.5699074074074074,
          0.4444444444444444,
          0,
          0.2222222222222222,
          0,
          1.3439814814814814,
          0.9453703703703704,
          0,
          0,
          0.3884259259259259,
          0.6972222222222222,
          0.1768518518518518,
          0,
          0.6810185185185185,
          0.074537037037037,
          0,
          0,
          0,
          0,
          0.0527777777777777,
          0.0226851851851851,
          0,
          0,
          0,
          0,
          0,
          0,
          0.1666666666666666,
          0,
          0.4592592592592592,
          0,
          0,
          0,
          2.9944444444444445,
          0,
          0.5689814814814815,
          0.1231481481481481,
          1.2055555555555555,
          0,
          0.9694444444444444,
          0,
          0.0606481481481481,
          0.8236111111111111,
          0.9120370370370372,
          0,
          0,
          0.6777777777777778,
          0.0662037037037037,
          0.9212962962962964,
          0.4425925925925926,
          1.325925925925926,
          1.6990740740740742,
          0,
          0.1666666666666666,
          0.2083333333333333,
          0,
          0.825,
          0.5425925925925926,
          1.647222222222222,
          0,
          0,
          0.3379629629629629,
          0.8162037037037037,
          0.8560185185185185,
          0.3666666666666666,
          0.5444444444444444,
          1.4722222222222223,
          0.924537037037037,
          0,
          0,
          0,
          0.0050925925925925,
          0.5583333333333333,
          0,
          0.6643518518518519,
          0.0773148148148148,
          1.980555555555556,
          1.3157407407407409,
          0,
          0,
          0,
          0,
          0.1851851851851851,
          2.462962962962963,
          0.1254629629629629,
          0.8962962962962963,
          0,
          0,
          0.1277777777777777,
          0,
          0.4509259259259259,
          0,
          0,
          0.935648148148148,
          0,
          0.4759259259259259,
          0.15,
          0.7601851851851852,
          0.449074074074074,
          0.0356481481481481,
          0.1462962962962962,
          0,
          0,
          0.6111111111111112,
          0.337037037037037,
          0,
          0,
          0,
          0,
          0.024537037037037,
          0,
          0,
          0.3861111111111111,
          0,
          0.7939814814814815,
          0.25,
          0,
          0.0337962962962962,
          0,
          0,
          0.8333333333333334,
          0,
          0.1587962962962963,
          0.6106481481481482,
          0.911574074074074,
          0.7865740740740741,
          0,
          0,
          0,
          0.4648148148148148,
          0,
          0,
          0.5217592592592593,
          0,
          0,
          0,
          0.0546296296296296,
          0.1185185185185185,
          0.5990740740740741,
          1.1,
          0,
          0,
          0.0555555555555555,
          1.414351851851852,
          0,
          0,
          0,
          0.2949074074074074,
          0,
          0,
          0.5148148148148148,
          0.3388888888888889,
          0,
          1,
          1.7967592592592592,
          2.573148148148148,
          0.3263888888888889,
          0,
          0.0328703703703703,
          0,
          0,
          0,
          0,
          0.1416666666666666,
          0,
          0.1768518518518518,
          0.424074074074074,
          0.7870370370370371,
          0,
          0,
          0.799537037037037,
          1.523611111111111,
          0.736574074074074,
          0.4606481481481481,
          0,
          0.0601851851851851,
          0,
          0.7949074074074074,
          0.4324074074074074,
          2.807407407407408,
          0.2217592592592592,
          0.4481481481481481,
          1.6083333333333334,
          1,
          0,
          0,
          0,
          0.0888888888888888,
          0,
          0.2490740740740741,
          0.3194444444444444,
          0.7546296296296297,
          0,
          0,
          0,
          0,
          0.0856481481481481,
          0,
          0,
          0,
          0,
          0,
          0,
          0.1421296296296296,
          0,
          0,
          0,
          0.3027777777777777,
          0.4712962962962962,
          0,
          0,
          0,
          0,
          0,
          1.1935185185185184,
          0,
          0,
          0.1342592592592592,
          0,
          0.7222222222222222,
          1.2023148148148148,
          0,
          0,
          0,
          0,
          0,
          0.4509259259259259,
          0,
          0.086574074074074,
          0,
          0,
          0,
          0,
          0.8175925925925925,
          0.1004629629629629,
          0.2583333333333333,
          0,
          0,
          0.7675925925925926,
          0.5055555555555555,
          0.3296296296296296,
          0.4587962962962963,
          0,
          0,
          0,
          0.549074074074074,
          0,
          0.2805555555555555,
          0.3712962962962963,
          0,
          0.0439814814814814,
          0,
          0.1685185185185185,
          0.4453703703703703,
          0,
          0,
          0.7217592592592592,
          0.963425925925926,
          0,
          0,
          0,
          0,
          0.4712962962962962,
          0.2717592592592592,
          0,
          0,
          0,
          0,
          0,
          0.6597222222222222,
          1.1824074074074074,
          0,
          0.2166666666666666,
          1.011111111111111,
          0.0412037037037037,
          0.3074074074074074,
          0,
          0,
          0.5638888888888889,
          1.236574074074074,
          0,
          0,
          0,
          0.3773148148148148,
          0,
          0.2976851851851851,
          1.4287037037037038,
          0,
          0,
          0,
          0.7671296296296296,
          0,
          0,
          0,
          2.5032407407407407,
          0.1273148148148148,
          0.0476851851851851,
          0,
          0,
          0.5388888888888889,
          0,
          0.4916666666666666,
          0,
          0,
          0.486574074074074,
          0.9555555555555556,
          0.2643518518518518,
          0,
          0.9050925925925926,
          0,
          0,
          0,
          0,
          1.2837962962962963,
          0,
          0.638425925925926,
          1.5166666666666666,
          0.937037037037037,
          0,
          1.0611111111111111,
          0,
          0.4685185185185185,
          0.9523148148148148,
          0,
          0,
          0,
          0,
          0,
          0,
          0,
          0,
          0,
          3.287037037037037,
          0,
          0,
          0,
          0.6768518518518518,
          0,
          0,
          0,
          0,
          0,
          0,
          0.1726851851851852,
          0,
          0,
          0,
          1.1949074074074073,
          0,
          0.249537037037037,
          0.549537037037037,
          0.4560185185185185,
          0.9027777777777778,
          0,
          1.0611111111111111,
          0,
          0,
          0,
          0,
          0,
          0,
          0.2018518518518518,
          0,
          0,
          0.9907407407407408,
          0.6185185185185185,
          0.5388888888888889,
          0.9254629629629628,
          0,
          0.2361111111111111,
          0,
          1.249074074074074,
          0,
          0,
          0,
          0.7865740740740741,
          1.7194444444444446,
          0.9722222222222222,
          0,
          0,
          0.9699074074074074,
          0.4356481481481482,
          0.924537037037037,
          0,
          0.3671296296296296,
          0,
          1.0106481481481482,
          1.611574074074074,
          0,
          0.2824074074074074,
          0,
          0,
          0,
          0.1578703703703703,
          0,
          0,
          0.024537037037037,
          0.6972222222222222,
          0.049537037037037,
          1.5574074074074074,
          1.0185185185185186,
          0.9745370370370372,
          1.2472222222222222,
          0,
          0.1453703703703703,
          0.5212962962962963,
          0,
          0,
          0,
          0,
          0,
          0.3259259259259259,
          0,
          0,
          0.8449074074074074,
          0,
          1.1847222222222222,
          0,
          0.5717592592592593,
          0,
          0,
          0.0356481481481481,
          0,
          0,
          0.5333333333333333,
          0,
          0,
          0,
          0.8138888888888889,
          0,
          0.0444444444444444,
          0.8439814814814814,
          0,
          0,
          0,
          0,
          0,
          0,
          0,
          0,
          0,
          0,
          0,
          0,
          0,
          0,
          0,
          0,
          0.3824074074074074,
          0,
          0,
          0.4421296296296296,
          0.4763888888888888,
          0.0851851851851851,
          0.1166666666666666,
          0.7777777777777778,
          0.0217592592592592,
          0,
          0,
          0.0550925925925925,
          0,
          0.6523148148148148,
          0,
          0,
          0.2759259259259259,
          0,
          0,
          0,
          0.8194444444444444,
          0.2106481481481481,
          0,
          0.6078703703703704,
          0,
          0,
          0,
          0,
          0,
          0.3384259259259259,
          0,
          0.0185185185185185,
          0.0888888888888888,
          0,
          0,
          0,
          0,
          0,
          0,
          0,
          0.3189814814814815,
          0.0287037037037037,
          0.2305555555555555,
          0,
          0,
          0,
          0,
          0,
          0,
          0,
          0.2712962962962963,
          0,
          0,
          0,
          0,
          0,
          0.0578703703703703,
          0.8143518518518519,
          0.4583333333333333,
          0.5310185185185186,
          0.0393518518518518,
          0,
          0.0199074074074074,
          0,
          0.1129629629629629,
          0,
          0,
          0,
          0.4185185185185185,
          0,
          0,
          0,
          0.861574074074074,
          0,
          0,
          0.0421296296296296,
          0,
          0,
          0,
          0,
          0,
          0.5449074074074074,
          0,
          0,
          0.3148148148148148,
          0,
          0.5393518518518519,
          0.6833333333333333,
          0,
          0,
          0.0217592592592592,
          0,
          0,
          0.0888888888888888,
          0,
          0,
          0,
          0.3634259259259259,
          0,
          0.0328703703703703,
          0,
          0,
          0,
          0,
          0,
          0.0171296296296296,
          0.3467592592592592,
          0,
          0,
          0,
          0,
          0.1685185185185185,
          0,
          0.4,
          0.0439814814814814,
          0,
          0,
          0,
          0,
          0,
          0,
          0,
          0,
          0,
          0,
          0,
          0,
          0,
          0,
          0,
          0,
          0,
          0,
          0,
          0,
          0,
          0,
          0,
          0,
          0,
          0,
          0,
          0.0037037037037037,
          0,
          0,
          0,
          0.7189814814814814,
          0.161574074074074,
          0.0972222222222222,
          0,
          0.8134259259259259,
          0,
          0,
          0,
          0,
          0,
          0.6606481481481481,
          0,
          0,
          0,
          0,
          0.3407407407407407,
          0,
          0.6592592592592592,
          0.4259259259259259,
          0.4888888888888889,
          0,
          0.6703703703703704,
          0,
          0,
          0.3777777777777777,
          0,
          0,
          0,
          0,
          0,
          0.5527777777777778,
          0,
          0,
          0,
          0,
          0,
          0.362962962962963,
          0.924537037037037,
          0,
          0.1472222222222222,
          0,
          0,
          0,
          0,
          0.3555555555555555,
          0,
          0.6106481481481482,
          0.2356481481481481,
          0,
          0,
          0,
          0.2703703703703703,
          0.4703703703703704,
          0.1606481481481481,
          0.2425925925925925,
          0,
          0,
          0,
          0.7379629629629629,
          0,
          0,
          0,
          0,
          0.0171296296296296,
          0,
          0,
          0.3722222222222222,
          0,
          0,
          0,
          0,
          0,
          0,
          0,
          0.7638888888888888,
          0,
          0,
          0,
          0,
          0,
          0,
          0,
          0,
          0.5157407407407407,
          0,
          0,
          0.1412037037037037,
          0,
          0,
          0,
          0,
          0,
          0.7449074074074075,
          0.4462962962962963,
          0,
          0,
          0.6851851851851852,
          0.7643518518518518,
          0,
          0,
          0,
          0.0916666666666666,
          0,
          0,
          0,
          0,
          0,
          0.5810185185185185,
          0.9305555555555556,
          0,
          0.1583333333333333,
          0,
          0.0171296296296296,
          0,
          0,
          0,
          0,
          0.0861111111111111,
          0,
          0.4777777777777778,
          0,
          0,
          0,
          0,
          0.788425925925926,
          0.7888888888888889,
          0.512962962962963,
          0,
          0,
          0,
          0,
          0.8050925925925926,
          0,
          0.6717592592592593,
          0.0162037037037037,
          0,
          0,
          1,
          0,
          0,
          0,
          0,
          0,
          0,
          0.5023148148148148,
          0.0472222222222222,
          0,
          0,
          0,
          0,
          0.0226851851851851,
          0,
          0,
          0,
          0,
          0,
          0,
          0.0254629629629629,
          0,
          0,
          0,
          0.2851851851851852,
          0.4296296296296296,
          0,
          0,
          0,
          0,
          0,
          0.8245370370370371,
          0,
          0,
          0.1,
          0,
          0.6648148148148149,
          0.0722222222222222,
          0,
          0,
          0,
          0,
          0,
          0,
          0,
          0.0939814814814814,
          0,
          0,
          0,
          0,
          0.262037037037037,
          0.0606481481481481,
          0,
          0,
          0,
          0,
          0,
          0,
          0.1444444444444444,
          0,
          0,
          0,
          0,
          0,
          0,
          0,
          0,
          0.0171296296296296,
          0,
          0.2592592592592592,
          0.5611111111111111,
          0,
          0,
          0,
          0.9662037037037036,
          0,
          0,
          0,
          0,
          0,
          0,
          0,
          0,
          0,
          0,
          0,
          0.938425925925926,
          0.2361111111111111,
          0,
          0,
          0.1694444444444444,
          0.0199074074074074,
          0,
          0,
          0,
          0.0134259259259259,
          0.8069444444444445,
          0,
          0,
          0,
          0,
          0,
          0.0217592592592592,
          0,
          0,
          0,
          0,
          0.7560185185185185,
          0,
          0,
          0,
          1,
          0,
          0,
          0,
          0,
          0,
          0,
          0,
          0,
          0,
          0,
          0.0550925925925925,
          0.0467592592592592,
          0.2962962962962963,
          0.850462962962963,
          0,
          0,
          0,
          0,
          0.7578703703703704,
          0,
          0.0087962962962962,
          0,
          0.3810185185185185,
          0,
          0,
          0,
          0,
          0,
          0,
          0,
          0,
          0,
          0,
          0,
          0,
          0,
          0,
          0.8162037037037037,
          0,
          0,
          0,
          0.6162037037037037,
          0,
          0,
          0,
          0,
          0,
          0,
          0,
          0,
          0,
          0.1194444444444444,
          0.3111111111111111,
          0,
          0.0106481481481481,
          0.7356481481481482,
          0.0171296296296296,
          0,
          0,
          0.4305555555555556,
          0,
          0,
          0,
          0,
          0,
          0,
          0,
          0,
          0,
          0,
          0.3074074074074074,
          0,
          0.787962962962963,
          0,
          0,
          0,
          0.9032407407407408,
          0,
          0,
          0,
          0.0217592592592592,
          0.1439814814814815,
          0,
          0,
          0,
          0.7425925925925926,
          0,
          0.899537037037037,
          0,
          0,
          0,
          0.1009259259259259,
          0.9856481481481482,
          0,
          0,
          0,
          0,
          0,
          0.0217592592592592,
          0,
          0,
          0.0143518518518518,
          0,
          0.0143518518518518,
          0.2023148148148148,
          0.6064814814814815,
          0.7981481481481482,
          0.8717592592592592,
          0,
          0.2027777777777777,
          0.1532407407407407,
          0,
          0,
          0,
          0,
          0,
          0.0472222222222222,
          0,
          0,
          0,
          0,
          0.7222222222222222,
          0,
          0,
          0,
          0,
          0.0217592592592592,
          0,
          0,
          0,
          0,
          0,
          0,
          0.0476851851851851,
          0,
          0,
          0.1157407407407407,
          0,
          0,
          0,
          0,
          0,
          0,
          0,
          0,
          0,
          0,
          0,
          0,
          0,
          0,
          0,
          0,
          0,
          0,
          0,
          0,
          0,
          0,
          0,
          0,
          0.0171296296296296,
          0,
          0,
          0.011574074074074,
          0,
          0,
          0,
          0,
          0,
          0,
          0,
          0,
          0,
          0.0134259259259259,
          0,
          0,
          0,
          0,
          0,
          0,
          0,
          0.0143518518518518,
          0,
          0,
          0,
          0,
          0,
          0,
          0,
          0,
          0,
          0,
          0,
          0.0212962962962962,
          0,
          0,
          0,
          0,
          0,
          0,
          0,
          0,
          0,
          0,
          0,
          0,
          0,
          0,
          0.0449074074074074,
          0,
          0,
          0,
          0.011574074074074,
          0,
          0.1856481481481481,
          0,
          0,
          0,
          0,
          0,
          0,
          0,
          0,
          0,
          0.3976851851851852,
          0,
          0,
          0.011574074074074,
          0,
          0,
          0,
          0,
          0,
          0,
          0,
          0,
          0,
          0,
          0,
          0.0189814814814814,
          0,
          0,
          0.0171296296296296,
          0,
          0,
          0,
          0,
          0,
          0,
          0.0171296296296296,
          0,
          0.0143518518518518,
          0,
          0,
          0,
          0,
          0,
          0.0162037037037037,
          0,
          0,
          0,
          0,
          0,
          0,
          0,
          0,
          0.0134259259259259,
          0,
          0,
          0,
          0,
          0,
          0,
          0,
          0,
          0,
          0,
          0,
          0,
          0,
          0,
          0,
          0,
          0,
          0,
          0,
          0,
          0,
          0,
          0,
          0,
          0,
          0,
          0,
          0,
          0,
          0,
          0,
          0,
          0,
          0.0324074074074074,
          0,
          0,
          0,
          0,
          0,
          0,
          0,
          0,
          0,
          0,
          0,
          0,
          0,
          0,
          0,
          0,
          0,
          0,
          0,
          0,
          0,
          0,
          0,
          0,
          0,
          0,
          0,
          0,
          0,
          0,
          0,
          0,
          0,
          0,
          0.8078703703703703,
          0,
          0,
          0,
          0,
          0,
          0,
          0,
          0,
          0,
          0,
          0,
          0,
          0,
          0,
          0.011574074074074,
          0,
          0,
          0,
          0,
          0,
          0,
          0,
          0,
          0,
          0,
          0.011574074074074,
          0,
          0,
          0,
          0,
          0,
          0,
          0,
          0,
          0,
          0,
          0,
          0,
          0,
          0,
          0,
          0,
          0,
          0,
          0,
          0,
          0,
          0,
          0,
          0,
          0,
          0,
          0,
          0,
          0,
          0,
          0,
          0,
          0,
          0,
          0,
          0,
          0,
          0,
          0,
          0,
          0,
          0,
          0,
          0.0606481481481481,
          0.0106481481481481,
          0.5361111111111111,
          0,
          0,
          0.0143518518518518,
          0,
          0,
          0,
          0,
          0,
          0,
          0,
          0,
          0,
          0,
          0,
          0,
          0,
          0,
          0,
          0,
          0,
          0,
          0.0467592592592592,
          0,
          0,
          0.011574074074074,
          0,
          0,
          0.024537037037037,
          0,
          0,
          0,
          0,
          0,
          0,
          0,
          0,
          0,
          0,
          0,
          0,
          0,
          0,
          0,
          0,
          0,
          0,
          0,
          0.0337962962962962,
          0,
          0,
          0,
          0,
          0,
          0,
          0,
          0,
          0,
          0,
          0,
          0,
          0,
          0,
          0,
          0,
          0,
          0,
          0,
          0,
          0,
          0,
          0,
          0,
          0.0106481481481481,
          0,
          0,
          0,
          0,
          0,
          0.0171296296296296,
          0,
          0,
          0,
          0,
          0,
          0,
          0,
          0,
          0,
          0,
          0,
          0,
          0,
          0,
          0,
          0.011574074074074,
          0,
          0,
          0,
          0,
          0,
          0,
          0,
          0,
          0,
          0,
          0,
          0,
          0,
          0,
          0,
          0,
          0,
          0,
          0,
          0,
          0,
          0,
          0,
          0.0106481481481481,
          0,
          0,
          0,
          0,
          0.0199074074074074,
          0,
          0,
          0,
          0,
          0,
          0.0217592592592592,
          0,
          0,
          0,
          0,
          0.0143518518518518,
          0,
          0,
          0,
          1,
          0,
          0,
          0,
          0,
          0,
          0,
          0,
          0,
          0,
          0,
          0,
          0.0226851851851851,
          0,
          0,
          0,
          0,
          0,
          0,
          0,
          0,
          0.0078703703703703,
          0,
          0,
          0,
          0,
          0,
          0,
          0,
          0,
          0,
          0,
          0,
          0,
          0,
          0,
          0,
          0,
          0,
          0,
          0,
          0,
          0,
          0,
          0,
          0,
          0,
          0,
          0,
          0,
          0,
          0,
          0,
          0,
          0,
          0.0106481481481481,
          0.011574074074074,
          0.011574074074074,
          0,
          0,
          0,
          0,
          0,
          0,
          0,
          0,
          0,
          0,
          0,
          0,
          0,
          0,
          0,
          0,
          0,
          0,
          0,
          0,
          0,
          0,
          0,
          0.0300925925925925,
          1,
          0,
          0,
          0,
          0,
          0,
          0,
          0,
          0,
          0,
          0,
          0,
          0,
          0,
          0,
          0,
          0,
          0.0189814814814814,
          0,
          0,
          0.0143518518518518,
          0,
          0.0134259259259259,
          0,
          0,
          0.0439814814814814,
          0,
          0,
          0,
          0,
          0,
          0,
          0,
          0,
          0,
          0.0351851851851851,
          0,
          0,
          0,
          0,
          0,
          0,
          0
         ],
         "y0": " ",
         "yaxis": "y"
        },
        {
         "line": {
          "color": "green",
          "width": 2
         },
         "mode": "lines",
         "name": "mean",
         "showlegend": true,
         "type": "scatter",
         "x": [
          "hj_naive",
          "hj_reactive",
          "flocking"
         ],
         "y": [
          0.3262182346580157,
          0.11054845904298458,
          0.009014260610975934
         ]
        }
       ],
       "layout": {
        "boxmode": "group",
        "legend": {
         "tracegroupgap": 0
        },
        "margin": {
         "t": 60
        },
        "template": {
         "data": {
          "bar": [
           {
            "error_x": {
             "color": "#2a3f5f"
            },
            "error_y": {
             "color": "#2a3f5f"
            },
            "marker": {
             "line": {
              "color": "#E5ECF6",
              "width": 0.5
             },
             "pattern": {
              "fillmode": "overlay",
              "size": 10,
              "solidity": 0.2
             }
            },
            "type": "bar"
           }
          ],
          "barpolar": [
           {
            "marker": {
             "line": {
              "color": "#E5ECF6",
              "width": 0.5
             },
             "pattern": {
              "fillmode": "overlay",
              "size": 10,
              "solidity": 0.2
             }
            },
            "type": "barpolar"
           }
          ],
          "carpet": [
           {
            "aaxis": {
             "endlinecolor": "#2a3f5f",
             "gridcolor": "white",
             "linecolor": "white",
             "minorgridcolor": "white",
             "startlinecolor": "#2a3f5f"
            },
            "baxis": {
             "endlinecolor": "#2a3f5f",
             "gridcolor": "white",
             "linecolor": "white",
             "minorgridcolor": "white",
             "startlinecolor": "#2a3f5f"
            },
            "type": "carpet"
           }
          ],
          "choropleth": [
           {
            "colorbar": {
             "outlinewidth": 0,
             "ticks": ""
            },
            "type": "choropleth"
           }
          ],
          "contour": [
           {
            "colorbar": {
             "outlinewidth": 0,
             "ticks": ""
            },
            "colorscale": [
             [
              0,
              "#0d0887"
             ],
             [
              0.1111111111111111,
              "#46039f"
             ],
             [
              0.2222222222222222,
              "#7201a8"
             ],
             [
              0.3333333333333333,
              "#9c179e"
             ],
             [
              0.4444444444444444,
              "#bd3786"
             ],
             [
              0.5555555555555556,
              "#d8576b"
             ],
             [
              0.6666666666666666,
              "#ed7953"
             ],
             [
              0.7777777777777778,
              "#fb9f3a"
             ],
             [
              0.8888888888888888,
              "#fdca26"
             ],
             [
              1,
              "#f0f921"
             ]
            ],
            "type": "contour"
           }
          ],
          "contourcarpet": [
           {
            "colorbar": {
             "outlinewidth": 0,
             "ticks": ""
            },
            "type": "contourcarpet"
           }
          ],
          "heatmap": [
           {
            "colorbar": {
             "outlinewidth": 0,
             "ticks": ""
            },
            "colorscale": [
             [
              0,
              "#0d0887"
             ],
             [
              0.1111111111111111,
              "#46039f"
             ],
             [
              0.2222222222222222,
              "#7201a8"
             ],
             [
              0.3333333333333333,
              "#9c179e"
             ],
             [
              0.4444444444444444,
              "#bd3786"
             ],
             [
              0.5555555555555556,
              "#d8576b"
             ],
             [
              0.6666666666666666,
              "#ed7953"
             ],
             [
              0.7777777777777778,
              "#fb9f3a"
             ],
             [
              0.8888888888888888,
              "#fdca26"
             ],
             [
              1,
              "#f0f921"
             ]
            ],
            "type": "heatmap"
           }
          ],
          "heatmapgl": [
           {
            "colorbar": {
             "outlinewidth": 0,
             "ticks": ""
            },
            "colorscale": [
             [
              0,
              "#0d0887"
             ],
             [
              0.1111111111111111,
              "#46039f"
             ],
             [
              0.2222222222222222,
              "#7201a8"
             ],
             [
              0.3333333333333333,
              "#9c179e"
             ],
             [
              0.4444444444444444,
              "#bd3786"
             ],
             [
              0.5555555555555556,
              "#d8576b"
             ],
             [
              0.6666666666666666,
              "#ed7953"
             ],
             [
              0.7777777777777778,
              "#fb9f3a"
             ],
             [
              0.8888888888888888,
              "#fdca26"
             ],
             [
              1,
              "#f0f921"
             ]
            ],
            "type": "heatmapgl"
           }
          ],
          "histogram": [
           {
            "marker": {
             "pattern": {
              "fillmode": "overlay",
              "size": 10,
              "solidity": 0.2
             }
            },
            "type": "histogram"
           }
          ],
          "histogram2d": [
           {
            "colorbar": {
             "outlinewidth": 0,
             "ticks": ""
            },
            "colorscale": [
             [
              0,
              "#0d0887"
             ],
             [
              0.1111111111111111,
              "#46039f"
             ],
             [
              0.2222222222222222,
              "#7201a8"
             ],
             [
              0.3333333333333333,
              "#9c179e"
             ],
             [
              0.4444444444444444,
              "#bd3786"
             ],
             [
              0.5555555555555556,
              "#d8576b"
             ],
             [
              0.6666666666666666,
              "#ed7953"
             ],
             [
              0.7777777777777778,
              "#fb9f3a"
             ],
             [
              0.8888888888888888,
              "#fdca26"
             ],
             [
              1,
              "#f0f921"
             ]
            ],
            "type": "histogram2d"
           }
          ],
          "histogram2dcontour": [
           {
            "colorbar": {
             "outlinewidth": 0,
             "ticks": ""
            },
            "colorscale": [
             [
              0,
              "#0d0887"
             ],
             [
              0.1111111111111111,
              "#46039f"
             ],
             [
              0.2222222222222222,
              "#7201a8"
             ],
             [
              0.3333333333333333,
              "#9c179e"
             ],
             [
              0.4444444444444444,
              "#bd3786"
             ],
             [
              0.5555555555555556,
              "#d8576b"
             ],
             [
              0.6666666666666666,
              "#ed7953"
             ],
             [
              0.7777777777777778,
              "#fb9f3a"
             ],
             [
              0.8888888888888888,
              "#fdca26"
             ],
             [
              1,
              "#f0f921"
             ]
            ],
            "type": "histogram2dcontour"
           }
          ],
          "mesh3d": [
           {
            "colorbar": {
             "outlinewidth": 0,
             "ticks": ""
            },
            "type": "mesh3d"
           }
          ],
          "parcoords": [
           {
            "line": {
             "colorbar": {
              "outlinewidth": 0,
              "ticks": ""
             }
            },
            "type": "parcoords"
           }
          ],
          "pie": [
           {
            "automargin": true,
            "type": "pie"
           }
          ],
          "scatter": [
           {
            "fillpattern": {
             "fillmode": "overlay",
             "size": 10,
             "solidity": 0.2
            },
            "type": "scatter"
           }
          ],
          "scatter3d": [
           {
            "line": {
             "colorbar": {
              "outlinewidth": 0,
              "ticks": ""
             }
            },
            "marker": {
             "colorbar": {
              "outlinewidth": 0,
              "ticks": ""
             }
            },
            "type": "scatter3d"
           }
          ],
          "scattercarpet": [
           {
            "marker": {
             "colorbar": {
              "outlinewidth": 0,
              "ticks": ""
             }
            },
            "type": "scattercarpet"
           }
          ],
          "scattergeo": [
           {
            "marker": {
             "colorbar": {
              "outlinewidth": 0,
              "ticks": ""
             }
            },
            "type": "scattergeo"
           }
          ],
          "scattergl": [
           {
            "marker": {
             "colorbar": {
              "outlinewidth": 0,
              "ticks": ""
             }
            },
            "type": "scattergl"
           }
          ],
          "scattermapbox": [
           {
            "marker": {
             "colorbar": {
              "outlinewidth": 0,
              "ticks": ""
             }
            },
            "type": "scattermapbox"
           }
          ],
          "scatterpolar": [
           {
            "marker": {
             "colorbar": {
              "outlinewidth": 0,
              "ticks": ""
             }
            },
            "type": "scatterpolar"
           }
          ],
          "scatterpolargl": [
           {
            "marker": {
             "colorbar": {
              "outlinewidth": 0,
              "ticks": ""
             }
            },
            "type": "scatterpolargl"
           }
          ],
          "scatterternary": [
           {
            "marker": {
             "colorbar": {
              "outlinewidth": 0,
              "ticks": ""
             }
            },
            "type": "scatterternary"
           }
          ],
          "surface": [
           {
            "colorbar": {
             "outlinewidth": 0,
             "ticks": ""
            },
            "colorscale": [
             [
              0,
              "#0d0887"
             ],
             [
              0.1111111111111111,
              "#46039f"
             ],
             [
              0.2222222222222222,
              "#7201a8"
             ],
             [
              0.3333333333333333,
              "#9c179e"
             ],
             [
              0.4444444444444444,
              "#bd3786"
             ],
             [
              0.5555555555555556,
              "#d8576b"
             ],
             [
              0.6666666666666666,
              "#ed7953"
             ],
             [
              0.7777777777777778,
              "#fb9f3a"
             ],
             [
              0.8888888888888888,
              "#fdca26"
             ],
             [
              1,
              "#f0f921"
             ]
            ],
            "type": "surface"
           }
          ],
          "table": [
           {
            "cells": {
             "fill": {
              "color": "#EBF0F8"
             },
             "line": {
              "color": "white"
             }
            },
            "header": {
             "fill": {
              "color": "#C8D4E3"
             },
             "line": {
              "color": "white"
             }
            },
            "type": "table"
           }
          ]
         },
         "layout": {
          "annotationdefaults": {
           "arrowcolor": "#2a3f5f",
           "arrowhead": 0,
           "arrowwidth": 1
          },
          "autotypenumbers": "strict",
          "coloraxis": {
           "colorbar": {
            "outlinewidth": 0,
            "ticks": ""
           }
          },
          "colorscale": {
           "diverging": [
            [
             0,
             "#8e0152"
            ],
            [
             0.1,
             "#c51b7d"
            ],
            [
             0.2,
             "#de77ae"
            ],
            [
             0.3,
             "#f1b6da"
            ],
            [
             0.4,
             "#fde0ef"
            ],
            [
             0.5,
             "#f7f7f7"
            ],
            [
             0.6,
             "#e6f5d0"
            ],
            [
             0.7,
             "#b8e186"
            ],
            [
             0.8,
             "#7fbc41"
            ],
            [
             0.9,
             "#4d9221"
            ],
            [
             1,
             "#276419"
            ]
           ],
           "sequential": [
            [
             0,
             "#0d0887"
            ],
            [
             0.1111111111111111,
             "#46039f"
            ],
            [
             0.2222222222222222,
             "#7201a8"
            ],
            [
             0.3333333333333333,
             "#9c179e"
            ],
            [
             0.4444444444444444,
             "#bd3786"
            ],
            [
             0.5555555555555556,
             "#d8576b"
            ],
            [
             0.6666666666666666,
             "#ed7953"
            ],
            [
             0.7777777777777778,
             "#fb9f3a"
            ],
            [
             0.8888888888888888,
             "#fdca26"
            ],
            [
             1,
             "#f0f921"
            ]
           ],
           "sequentialminus": [
            [
             0,
             "#0d0887"
            ],
            [
             0.1111111111111111,
             "#46039f"
            ],
            [
             0.2222222222222222,
             "#7201a8"
            ],
            [
             0.3333333333333333,
             "#9c179e"
            ],
            [
             0.4444444444444444,
             "#bd3786"
            ],
            [
             0.5555555555555556,
             "#d8576b"
            ],
            [
             0.6666666666666666,
             "#ed7953"
            ],
            [
             0.7777777777777778,
             "#fb9f3a"
            ],
            [
             0.8888888888888888,
             "#fdca26"
            ],
            [
             1,
             "#f0f921"
            ]
           ]
          },
          "colorway": [
           "#636efa",
           "#EF553B",
           "#00cc96",
           "#ab63fa",
           "#FFA15A",
           "#19d3f3",
           "#FF6692",
           "#B6E880",
           "#FF97FF",
           "#FECB52"
          ],
          "font": {
           "color": "#2a3f5f"
          },
          "geo": {
           "bgcolor": "white",
           "lakecolor": "white",
           "landcolor": "#E5ECF6",
           "showlakes": true,
           "showland": true,
           "subunitcolor": "white"
          },
          "hoverlabel": {
           "align": "left"
          },
          "hovermode": "closest",
          "mapbox": {
           "style": "light"
          },
          "paper_bgcolor": "white",
          "plot_bgcolor": "#E5ECF6",
          "polar": {
           "angularaxis": {
            "gridcolor": "white",
            "linecolor": "white",
            "ticks": ""
           },
           "bgcolor": "#E5ECF6",
           "radialaxis": {
            "gridcolor": "white",
            "linecolor": "white",
            "ticks": ""
           }
          },
          "scene": {
           "xaxis": {
            "backgroundcolor": "#E5ECF6",
            "gridcolor": "white",
            "gridwidth": 2,
            "linecolor": "white",
            "showbackground": true,
            "ticks": "",
            "zerolinecolor": "white"
           },
           "yaxis": {
            "backgroundcolor": "#E5ECF6",
            "gridcolor": "white",
            "gridwidth": 2,
            "linecolor": "white",
            "showbackground": true,
            "ticks": "",
            "zerolinecolor": "white"
           },
           "zaxis": {
            "backgroundcolor": "#E5ECF6",
            "gridcolor": "white",
            "gridwidth": 2,
            "linecolor": "white",
            "showbackground": true,
            "ticks": "",
            "zerolinecolor": "white"
           }
          },
          "shapedefaults": {
           "line": {
            "color": "#2a3f5f"
           }
          },
          "ternary": {
           "aaxis": {
            "gridcolor": "white",
            "linecolor": "white",
            "ticks": ""
           },
           "baxis": {
            "gridcolor": "white",
            "linecolor": "white",
            "ticks": ""
           },
           "bgcolor": "#E5ECF6",
           "caxis": {
            "gridcolor": "white",
            "linecolor": "white",
            "ticks": ""
           }
          },
          "title": {
           "x": 0.05
          },
          "xaxis": {
           "automargin": true,
           "gridcolor": "white",
           "linecolor": "white",
           "ticks": "",
           "title": {
            "standoff": 15
           },
           "zerolinecolor": "white",
           "zerolinewidth": 2
          },
          "yaxis": {
           "automargin": true,
           "gridcolor": "white",
           "linecolor": "white",
           "ticks": "",
           "title": {
            "standoff": 15
           },
           "zerolinecolor": "white",
           "zerolinewidth": 2
          }
         }
        },
        "title": {
         "text": "Isolated_platform_metric"
        },
        "xaxis": {
         "anchor": "y",
         "domain": [
          0,
          1
         ],
         "title": {
          "text": "controllers"
         }
        },
        "yaxis": {
         "anchor": "x",
         "domain": [
          0,
          1
         ],
         "title": {
          "text": "IPM"
         }
        }
       }
      },
      "text/html": [
       "<div>                            <div id=\"31934f19-5195-493e-9799-b525abc84cce\" class=\"plotly-graph-div\" style=\"height:525px; width:100%;\"></div>            <script type=\"text/javascript\">                require([\"plotly\"], function(Plotly) {                    window.PLOTLYENV=window.PLOTLYENV || {};                                    if (document.getElementById(\"31934f19-5195-493e-9799-b525abc84cce\")) {                    Plotly.newPlot(                        \"31934f19-5195-493e-9799-b525abc84cce\",                        [{\"alignmentgroup\":\"True\",\"hovertemplate\":\"variable=%{x}<br>value=%{y}<extra></extra>\",\"legendgroup\":\"\",\"marker\":{\"color\":\"#636efa\"},\"name\":\"\",\"notched\":false,\"offsetgroup\":\"\",\"orientation\":\"v\",\"showlegend\":false,\"x\":[\"hj_naive\",\"hj_naive\",\"hj_naive\",\"hj_naive\",\"hj_naive\",\"hj_naive\",\"hj_naive\",\"hj_naive\",\"hj_naive\",\"hj_naive\",\"hj_naive\",\"hj_naive\",\"hj_naive\",\"hj_naive\",\"hj_naive\",\"hj_naive\",\"hj_naive\",\"hj_naive\",\"hj_naive\",\"hj_naive\",\"hj_naive\",\"hj_naive\",\"hj_naive\",\"hj_naive\",\"hj_naive\",\"hj_naive\",\"hj_naive\",\"hj_naive\",\"hj_naive\",\"hj_naive\",\"hj_naive\",\"hj_naive\",\"hj_naive\",\"hj_naive\",\"hj_naive\",\"hj_naive\",\"hj_naive\",\"hj_naive\",\"hj_naive\",\"hj_naive\",\"hj_naive\",\"hj_naive\",\"hj_naive\",\"hj_naive\",\"hj_naive\",\"hj_naive\",\"hj_naive\",\"hj_naive\",\"hj_naive\",\"hj_naive\",\"hj_naive\",\"hj_naive\",\"hj_naive\",\"hj_naive\",\"hj_naive\",\"hj_naive\",\"hj_naive\",\"hj_naive\",\"hj_naive\",\"hj_naive\",\"hj_naive\",\"hj_naive\",\"hj_naive\",\"hj_naive\",\"hj_naive\",\"hj_naive\",\"hj_naive\",\"hj_naive\",\"hj_naive\",\"hj_naive\",\"hj_naive\",\"hj_naive\",\"hj_naive\",\"hj_naive\",\"hj_naive\",\"hj_naive\",\"hj_naive\",\"hj_naive\",\"hj_naive\",\"hj_naive\",\"hj_naive\",\"hj_naive\",\"hj_naive\",\"hj_naive\",\"hj_naive\",\"hj_naive\",\"hj_naive\",\"hj_naive\",\"hj_naive\",\"hj_naive\",\"hj_naive\",\"hj_naive\",\"hj_naive\",\"hj_naive\",\"hj_naive\",\"hj_naive\",\"hj_naive\",\"hj_naive\",\"hj_naive\",\"hj_naive\",\"hj_naive\",\"hj_naive\",\"hj_naive\",\"hj_naive\",\"hj_naive\",\"hj_naive\",\"hj_naive\",\"hj_naive\",\"hj_naive\",\"hj_naive\",\"hj_naive\",\"hj_naive\",\"hj_naive\",\"hj_naive\",\"hj_naive\",\"hj_naive\",\"hj_naive\",\"hj_naive\",\"hj_naive\",\"hj_naive\",\"hj_naive\",\"hj_naive\",\"hj_naive\",\"hj_naive\",\"hj_naive\",\"hj_naive\",\"hj_naive\",\"hj_naive\",\"hj_naive\",\"hj_naive\",\"hj_naive\",\"hj_naive\",\"hj_naive\",\"hj_naive\",\"hj_naive\",\"hj_naive\",\"hj_naive\",\"hj_naive\",\"hj_naive\",\"hj_naive\",\"hj_naive\",\"hj_naive\",\"hj_naive\",\"hj_naive\",\"hj_naive\",\"hj_naive\",\"hj_naive\",\"hj_naive\",\"hj_naive\",\"hj_naive\",\"hj_naive\",\"hj_naive\",\"hj_naive\",\"hj_naive\",\"hj_naive\",\"hj_naive\",\"hj_naive\",\"hj_naive\",\"hj_naive\",\"hj_naive\",\"hj_naive\",\"hj_naive\",\"hj_naive\",\"hj_naive\",\"hj_naive\",\"hj_naive\",\"hj_naive\",\"hj_naive\",\"hj_naive\",\"hj_naive\",\"hj_naive\",\"hj_naive\",\"hj_naive\",\"hj_naive\",\"hj_naive\",\"hj_naive\",\"hj_naive\",\"hj_naive\",\"hj_naive\",\"hj_naive\",\"hj_naive\",\"hj_naive\",\"hj_naive\",\"hj_naive\",\"hj_naive\",\"hj_naive\",\"hj_naive\",\"hj_naive\",\"hj_naive\",\"hj_naive\",\"hj_naive\",\"hj_naive\",\"hj_naive\",\"hj_naive\",\"hj_naive\",\"hj_naive\",\"hj_naive\",\"hj_naive\",\"hj_naive\",\"hj_naive\",\"hj_naive\",\"hj_naive\",\"hj_naive\",\"hj_naive\",\"hj_naive\",\"hj_naive\",\"hj_naive\",\"hj_naive\",\"hj_naive\",\"hj_naive\",\"hj_naive\",\"hj_naive\",\"hj_naive\",\"hj_naive\",\"hj_naive\",\"hj_naive\",\"hj_naive\",\"hj_naive\",\"hj_naive\",\"hj_naive\",\"hj_naive\",\"hj_naive\",\"hj_naive\",\"hj_naive\",\"hj_naive\",\"hj_naive\",\"hj_naive\",\"hj_naive\",\"hj_naive\",\"hj_naive\",\"hj_naive\",\"hj_naive\",\"hj_naive\",\"hj_naive\",\"hj_naive\",\"hj_naive\",\"hj_naive\",\"hj_naive\",\"hj_naive\",\"hj_naive\",\"hj_naive\",\"hj_naive\",\"hj_naive\",\"hj_naive\",\"hj_naive\",\"hj_naive\",\"hj_naive\",\"hj_naive\",\"hj_naive\",\"hj_naive\",\"hj_naive\",\"hj_naive\",\"hj_naive\",\"hj_naive\",\"hj_naive\",\"hj_naive\",\"hj_naive\",\"hj_naive\",\"hj_naive\",\"hj_naive\",\"hj_naive\",\"hj_naive\",\"hj_naive\",\"hj_naive\",\"hj_naive\",\"hj_naive\",\"hj_naive\",\"hj_naive\",\"hj_naive\",\"hj_naive\",\"hj_naive\",\"hj_naive\",\"hj_naive\",\"hj_naive\",\"hj_naive\",\"hj_naive\",\"hj_naive\",\"hj_naive\",\"hj_naive\",\"hj_naive\",\"hj_naive\",\"hj_naive\",\"hj_naive\",\"hj_naive\",\"hj_naive\",\"hj_naive\",\"hj_naive\",\"hj_naive\",\"hj_naive\",\"hj_naive\",\"hj_naive\",\"hj_naive\",\"hj_naive\",\"hj_naive\",\"hj_naive\",\"hj_naive\",\"hj_naive\",\"hj_naive\",\"hj_naive\",\"hj_naive\",\"hj_naive\",\"hj_naive\",\"hj_naive\",\"hj_naive\",\"hj_naive\",\"hj_naive\",\"hj_naive\",\"hj_naive\",\"hj_naive\",\"hj_naive\",\"hj_naive\",\"hj_naive\",\"hj_naive\",\"hj_naive\",\"hj_naive\",\"hj_naive\",\"hj_naive\",\"hj_naive\",\"hj_naive\",\"hj_naive\",\"hj_naive\",\"hj_naive\",\"hj_naive\",\"hj_naive\",\"hj_naive\",\"hj_naive\",\"hj_naive\",\"hj_naive\",\"hj_naive\",\"hj_naive\",\"hj_naive\",\"hj_naive\",\"hj_naive\",\"hj_naive\",\"hj_naive\",\"hj_naive\",\"hj_naive\",\"hj_naive\",\"hj_naive\",\"hj_naive\",\"hj_naive\",\"hj_naive\",\"hj_naive\",\"hj_naive\",\"hj_naive\",\"hj_naive\",\"hj_naive\",\"hj_naive\",\"hj_naive\",\"hj_naive\",\"hj_naive\",\"hj_naive\",\"hj_naive\",\"hj_naive\",\"hj_naive\",\"hj_naive\",\"hj_naive\",\"hj_naive\",\"hj_naive\",\"hj_naive\",\"hj_naive\",\"hj_naive\",\"hj_naive\",\"hj_naive\",\"hj_naive\",\"hj_naive\",\"hj_naive\",\"hj_naive\",\"hj_naive\",\"hj_naive\",\"hj_naive\",\"hj_naive\",\"hj_naive\",\"hj_naive\",\"hj_naive\",\"hj_naive\",\"hj_naive\",\"hj_naive\",\"hj_naive\",\"hj_naive\",\"hj_naive\",\"hj_naive\",\"hj_naive\",\"hj_naive\",\"hj_naive\",\"hj_naive\",\"hj_naive\",\"hj_naive\",\"hj_naive\",\"hj_naive\",\"hj_naive\",\"hj_naive\",\"hj_naive\",\"hj_naive\",\"hj_naive\",\"hj_naive\",\"hj_naive\",\"hj_naive\",\"hj_naive\",\"hj_naive\",\"hj_naive\",\"hj_naive\",\"hj_naive\",\"hj_naive\",\"hj_naive\",\"hj_naive\",\"hj_naive\",\"hj_naive\",\"hj_naive\",\"hj_naive\",\"hj_naive\",\"hj_naive\",\"hj_naive\",\"hj_naive\",\"hj_naive\",\"hj_naive\",\"hj_naive\",\"hj_naive\",\"hj_naive\",\"hj_naive\",\"hj_naive\",\"hj_naive\",\"hj_naive\",\"hj_naive\",\"hj_naive\",\"hj_naive\",\"hj_naive\",\"hj_naive\",\"hj_naive\",\"hj_naive\",\"hj_naive\",\"hj_naive\",\"hj_naive\",\"hj_naive\",\"hj_naive\",\"hj_naive\",\"hj_naive\",\"hj_naive\",\"hj_naive\",\"hj_naive\",\"hj_naive\",\"hj_naive\",\"hj_naive\",\"hj_naive\",\"hj_naive\",\"hj_naive\",\"hj_naive\",\"hj_naive\",\"hj_naive\",\"hj_naive\",\"hj_naive\",\"hj_naive\",\"hj_naive\",\"hj_naive\",\"hj_naive\",\"hj_naive\",\"hj_naive\",\"hj_naive\",\"hj_naive\",\"hj_naive\",\"hj_naive\",\"hj_naive\",\"hj_naive\",\"hj_naive\",\"hj_naive\",\"hj_naive\",\"hj_naive\",\"hj_naive\",\"hj_naive\",\"hj_naive\",\"hj_naive\",\"hj_naive\",\"hj_naive\",\"hj_naive\",\"hj_naive\",\"hj_naive\",\"hj_naive\",\"hj_naive\",\"hj_naive\",\"hj_naive\",\"hj_naive\",\"hj_naive\",\"hj_naive\",\"hj_naive\",\"hj_naive\",\"hj_naive\",\"hj_naive\",\"hj_naive\",\"hj_naive\",\"hj_naive\",\"hj_naive\",\"hj_naive\",\"hj_naive\",\"hj_naive\",\"hj_naive\",\"hj_naive\",\"hj_naive\",\"hj_naive\",\"hj_naive\",\"hj_naive\",\"hj_naive\",\"hj_naive\",\"hj_naive\",\"hj_naive\",\"hj_naive\",\"hj_naive\",\"hj_naive\",\"hj_naive\",\"hj_naive\",\"hj_naive\",\"hj_naive\",\"hj_naive\",\"hj_naive\",\"hj_naive\",\"hj_naive\",\"hj_naive\",\"hj_naive\",\"hj_naive\",\"hj_naive\",\"hj_naive\",\"hj_naive\",\"hj_naive\",\"hj_naive\",\"hj_naive\",\"hj_naive\",\"hj_naive\",\"hj_naive\",\"hj_naive\",\"hj_naive\",\"hj_naive\",\"hj_naive\",\"hj_naive\",\"hj_naive\",\"hj_naive\",\"hj_naive\",\"hj_naive\",\"hj_naive\",\"hj_naive\",\"hj_naive\",\"hj_naive\",\"hj_naive\",\"hj_naive\",\"hj_naive\",\"hj_naive\",\"hj_naive\",\"hj_naive\",\"hj_naive\",\"hj_naive\",\"hj_reactive\",\"hj_reactive\",\"hj_reactive\",\"hj_reactive\",\"hj_reactive\",\"hj_reactive\",\"hj_reactive\",\"hj_reactive\",\"hj_reactive\",\"hj_reactive\",\"hj_reactive\",\"hj_reactive\",\"hj_reactive\",\"hj_reactive\",\"hj_reactive\",\"hj_reactive\",\"hj_reactive\",\"hj_reactive\",\"hj_reactive\",\"hj_reactive\",\"hj_reactive\",\"hj_reactive\",\"hj_reactive\",\"hj_reactive\",\"hj_reactive\",\"hj_reactive\",\"hj_reactive\",\"hj_reactive\",\"hj_reactive\",\"hj_reactive\",\"hj_reactive\",\"hj_reactive\",\"hj_reactive\",\"hj_reactive\",\"hj_reactive\",\"hj_reactive\",\"hj_reactive\",\"hj_reactive\",\"hj_reactive\",\"hj_reactive\",\"hj_reactive\",\"hj_reactive\",\"hj_reactive\",\"hj_reactive\",\"hj_reactive\",\"hj_reactive\",\"hj_reactive\",\"hj_reactive\",\"hj_reactive\",\"hj_reactive\",\"hj_reactive\",\"hj_reactive\",\"hj_reactive\",\"hj_reactive\",\"hj_reactive\",\"hj_reactive\",\"hj_reactive\",\"hj_reactive\",\"hj_reactive\",\"hj_reactive\",\"hj_reactive\",\"hj_reactive\",\"hj_reactive\",\"hj_reactive\",\"hj_reactive\",\"hj_reactive\",\"hj_reactive\",\"hj_reactive\",\"hj_reactive\",\"hj_reactive\",\"hj_reactive\",\"hj_reactive\",\"hj_reactive\",\"hj_reactive\",\"hj_reactive\",\"hj_reactive\",\"hj_reactive\",\"hj_reactive\",\"hj_reactive\",\"hj_reactive\",\"hj_reactive\",\"hj_reactive\",\"hj_reactive\",\"hj_reactive\",\"hj_reactive\",\"hj_reactive\",\"hj_reactive\",\"hj_reactive\",\"hj_reactive\",\"hj_reactive\",\"hj_reactive\",\"hj_reactive\",\"hj_reactive\",\"hj_reactive\",\"hj_reactive\",\"hj_reactive\",\"hj_reactive\",\"hj_reactive\",\"hj_reactive\",\"hj_reactive\",\"hj_reactive\",\"hj_reactive\",\"hj_reactive\",\"hj_reactive\",\"hj_reactive\",\"hj_reactive\",\"hj_reactive\",\"hj_reactive\",\"hj_reactive\",\"hj_reactive\",\"hj_reactive\",\"hj_reactive\",\"hj_reactive\",\"hj_reactive\",\"hj_reactive\",\"hj_reactive\",\"hj_reactive\",\"hj_reactive\",\"hj_reactive\",\"hj_reactive\",\"hj_reactive\",\"hj_reactive\",\"hj_reactive\",\"hj_reactive\",\"hj_reactive\",\"hj_reactive\",\"hj_reactive\",\"hj_reactive\",\"hj_reactive\",\"hj_reactive\",\"hj_reactive\",\"hj_reactive\",\"hj_reactive\",\"hj_reactive\",\"hj_reactive\",\"hj_reactive\",\"hj_reactive\",\"hj_reactive\",\"hj_reactive\",\"hj_reactive\",\"hj_reactive\",\"hj_reactive\",\"hj_reactive\",\"hj_reactive\",\"hj_reactive\",\"hj_reactive\",\"hj_reactive\",\"hj_reactive\",\"hj_reactive\",\"hj_reactive\",\"hj_reactive\",\"hj_reactive\",\"hj_reactive\",\"hj_reactive\",\"hj_reactive\",\"hj_reactive\",\"hj_reactive\",\"hj_reactive\",\"hj_reactive\",\"hj_reactive\",\"hj_reactive\",\"hj_reactive\",\"hj_reactive\",\"hj_reactive\",\"hj_reactive\",\"hj_reactive\",\"hj_reactive\",\"hj_reactive\",\"hj_reactive\",\"hj_reactive\",\"hj_reactive\",\"hj_reactive\",\"hj_reactive\",\"hj_reactive\",\"hj_reactive\",\"hj_reactive\",\"hj_reactive\",\"hj_reactive\",\"hj_reactive\",\"hj_reactive\",\"hj_reactive\",\"hj_reactive\",\"hj_reactive\",\"hj_reactive\",\"hj_reactive\",\"hj_reactive\",\"hj_reactive\",\"hj_reactive\",\"hj_reactive\",\"hj_reactive\",\"hj_reactive\",\"hj_reactive\",\"hj_reactive\",\"hj_reactive\",\"hj_reactive\",\"hj_reactive\",\"hj_reactive\",\"hj_reactive\",\"hj_reactive\",\"hj_reactive\",\"hj_reactive\",\"hj_reactive\",\"hj_reactive\",\"hj_reactive\",\"hj_reactive\",\"hj_reactive\",\"hj_reactive\",\"hj_reactive\",\"hj_reactive\",\"hj_reactive\",\"hj_reactive\",\"hj_reactive\",\"hj_reactive\",\"hj_reactive\",\"hj_reactive\",\"hj_reactive\",\"hj_reactive\",\"hj_reactive\",\"hj_reactive\",\"hj_reactive\",\"hj_reactive\",\"hj_reactive\",\"hj_reactive\",\"hj_reactive\",\"hj_reactive\",\"hj_reactive\",\"hj_reactive\",\"hj_reactive\",\"hj_reactive\",\"hj_reactive\",\"hj_reactive\",\"hj_reactive\",\"hj_reactive\",\"hj_reactive\",\"hj_reactive\",\"hj_reactive\",\"hj_reactive\",\"hj_reactive\",\"hj_reactive\",\"hj_reactive\",\"hj_reactive\",\"hj_reactive\",\"hj_reactive\",\"hj_reactive\",\"hj_reactive\",\"hj_reactive\",\"hj_reactive\",\"hj_reactive\",\"hj_reactive\",\"hj_reactive\",\"hj_reactive\",\"hj_reactive\",\"hj_reactive\",\"hj_reactive\",\"hj_reactive\",\"hj_reactive\",\"hj_reactive\",\"hj_reactive\",\"hj_reactive\",\"hj_reactive\",\"hj_reactive\",\"hj_reactive\",\"hj_reactive\",\"hj_reactive\",\"hj_reactive\",\"hj_reactive\",\"hj_reactive\",\"hj_reactive\",\"hj_reactive\",\"hj_reactive\",\"hj_reactive\",\"hj_reactive\",\"hj_reactive\",\"hj_reactive\",\"hj_reactive\",\"hj_reactive\",\"hj_reactive\",\"hj_reactive\",\"hj_reactive\",\"hj_reactive\",\"hj_reactive\",\"hj_reactive\",\"hj_reactive\",\"hj_reactive\",\"hj_reactive\",\"hj_reactive\",\"hj_reactive\",\"hj_reactive\",\"hj_reactive\",\"hj_reactive\",\"hj_reactive\",\"hj_reactive\",\"hj_reactive\",\"hj_reactive\",\"hj_reactive\",\"hj_reactive\",\"hj_reactive\",\"hj_reactive\",\"hj_reactive\",\"hj_reactive\",\"hj_reactive\",\"hj_reactive\",\"hj_reactive\",\"hj_reactive\",\"hj_reactive\",\"hj_reactive\",\"hj_reactive\",\"hj_reactive\",\"hj_reactive\",\"hj_reactive\",\"hj_reactive\",\"hj_reactive\",\"hj_reactive\",\"hj_reactive\",\"hj_reactive\",\"hj_reactive\",\"hj_reactive\",\"hj_reactive\",\"hj_reactive\",\"hj_reactive\",\"hj_reactive\",\"hj_reactive\",\"hj_reactive\",\"hj_reactive\",\"hj_reactive\",\"hj_reactive\",\"hj_reactive\",\"hj_reactive\",\"hj_reactive\",\"hj_reactive\",\"hj_reactive\",\"hj_reactive\",\"hj_reactive\",\"hj_reactive\",\"hj_reactive\",\"hj_reactive\",\"hj_reactive\",\"hj_reactive\",\"hj_reactive\",\"hj_reactive\",\"hj_reactive\",\"hj_reactive\",\"hj_reactive\",\"hj_reactive\",\"hj_reactive\",\"hj_reactive\",\"hj_reactive\",\"hj_reactive\",\"hj_reactive\",\"hj_reactive\",\"hj_reactive\",\"hj_reactive\",\"hj_reactive\",\"hj_reactive\",\"hj_reactive\",\"hj_reactive\",\"hj_reactive\",\"hj_reactive\",\"hj_reactive\",\"hj_reactive\",\"hj_reactive\",\"hj_reactive\",\"hj_reactive\",\"hj_reactive\",\"hj_reactive\",\"hj_reactive\",\"hj_reactive\",\"hj_reactive\",\"hj_reactive\",\"hj_reactive\",\"hj_reactive\",\"hj_reactive\",\"hj_reactive\",\"hj_reactive\",\"hj_reactive\",\"hj_reactive\",\"hj_reactive\",\"hj_reactive\",\"hj_reactive\",\"hj_reactive\",\"hj_reactive\",\"hj_reactive\",\"hj_reactive\",\"hj_reactive\",\"hj_reactive\",\"hj_reactive\",\"hj_reactive\",\"hj_reactive\",\"hj_reactive\",\"hj_reactive\",\"hj_reactive\",\"hj_reactive\",\"hj_reactive\",\"hj_reactive\",\"hj_reactive\",\"hj_reactive\",\"hj_reactive\",\"hj_reactive\",\"hj_reactive\",\"hj_reactive\",\"hj_reactive\",\"hj_reactive\",\"hj_reactive\",\"hj_reactive\",\"hj_reactive\",\"hj_reactive\",\"hj_reactive\",\"hj_reactive\",\"hj_reactive\",\"hj_reactive\",\"hj_reactive\",\"hj_reactive\",\"hj_reactive\",\"hj_reactive\",\"hj_reactive\",\"hj_reactive\",\"hj_reactive\",\"hj_reactive\",\"hj_reactive\",\"hj_reactive\",\"hj_reactive\",\"hj_reactive\",\"hj_reactive\",\"hj_reactive\",\"hj_reactive\",\"hj_reactive\",\"hj_reactive\",\"hj_reactive\",\"hj_reactive\",\"hj_reactive\",\"hj_reactive\",\"hj_reactive\",\"hj_reactive\",\"hj_reactive\",\"hj_reactive\",\"hj_reactive\",\"hj_reactive\",\"hj_reactive\",\"hj_reactive\",\"hj_reactive\",\"hj_reactive\",\"hj_reactive\",\"hj_reactive\",\"hj_reactive\",\"hj_reactive\",\"hj_reactive\",\"hj_reactive\",\"hj_reactive\",\"hj_reactive\",\"hj_reactive\",\"hj_reactive\",\"hj_reactive\",\"hj_reactive\",\"hj_reactive\",\"hj_reactive\",\"hj_reactive\",\"hj_reactive\",\"hj_reactive\",\"hj_reactive\",\"hj_reactive\",\"hj_reactive\",\"hj_reactive\",\"hj_reactive\",\"hj_reactive\",\"hj_reactive\",\"hj_reactive\",\"hj_reactive\",\"hj_reactive\",\"hj_reactive\",\"hj_reactive\",\"hj_reactive\",\"hj_reactive\",\"hj_reactive\",\"hj_reactive\",\"hj_reactive\",\"hj_reactive\",\"hj_reactive\",\"hj_reactive\",\"hj_reactive\",\"hj_reactive\",\"hj_reactive\",\"hj_reactive\",\"hj_reactive\",\"hj_reactive\",\"hj_reactive\",\"hj_reactive\",\"hj_reactive\",\"hj_reactive\",\"hj_reactive\",\"hj_reactive\",\"hj_reactive\",\"hj_reactive\",\"hj_reactive\",\"hj_reactive\",\"hj_reactive\",\"hj_reactive\",\"hj_reactive\",\"hj_reactive\",\"hj_reactive\",\"hj_reactive\",\"hj_reactive\",\"hj_reactive\",\"hj_reactive\",\"hj_reactive\",\"hj_reactive\",\"hj_reactive\",\"hj_reactive\",\"hj_reactive\",\"hj_reactive\",\"hj_reactive\",\"hj_reactive\",\"hj_reactive\",\"hj_reactive\",\"hj_reactive\",\"hj_reactive\",\"hj_reactive\",\"hj_reactive\",\"hj_reactive\",\"hj_reactive\",\"hj_reactive\",\"hj_reactive\",\"hj_reactive\",\"hj_reactive\",\"hj_reactive\",\"hj_reactive\",\"hj_reactive\",\"hj_reactive\",\"hj_reactive\",\"hj_reactive\",\"hj_reactive\",\"hj_reactive\",\"hj_reactive\",\"hj_reactive\",\"hj_reactive\",\"hj_reactive\",\"hj_reactive\",\"hj_reactive\",\"hj_reactive\",\"hj_reactive\",\"hj_reactive\",\"hj_reactive\",\"hj_reactive\",\"hj_reactive\",\"hj_reactive\",\"hj_reactive\",\"hj_reactive\",\"hj_reactive\",\"hj_reactive\",\"flocking\",\"flocking\",\"flocking\",\"flocking\",\"flocking\",\"flocking\",\"flocking\",\"flocking\",\"flocking\",\"flocking\",\"flocking\",\"flocking\",\"flocking\",\"flocking\",\"flocking\",\"flocking\",\"flocking\",\"flocking\",\"flocking\",\"flocking\",\"flocking\",\"flocking\",\"flocking\",\"flocking\",\"flocking\",\"flocking\",\"flocking\",\"flocking\",\"flocking\",\"flocking\",\"flocking\",\"flocking\",\"flocking\",\"flocking\",\"flocking\",\"flocking\",\"flocking\",\"flocking\",\"flocking\",\"flocking\",\"flocking\",\"flocking\",\"flocking\",\"flocking\",\"flocking\",\"flocking\",\"flocking\",\"flocking\",\"flocking\",\"flocking\",\"flocking\",\"flocking\",\"flocking\",\"flocking\",\"flocking\",\"flocking\",\"flocking\",\"flocking\",\"flocking\",\"flocking\",\"flocking\",\"flocking\",\"flocking\",\"flocking\",\"flocking\",\"flocking\",\"flocking\",\"flocking\",\"flocking\",\"flocking\",\"flocking\",\"flocking\",\"flocking\",\"flocking\",\"flocking\",\"flocking\",\"flocking\",\"flocking\",\"flocking\",\"flocking\",\"flocking\",\"flocking\",\"flocking\",\"flocking\",\"flocking\",\"flocking\",\"flocking\",\"flocking\",\"flocking\",\"flocking\",\"flocking\",\"flocking\",\"flocking\",\"flocking\",\"flocking\",\"flocking\",\"flocking\",\"flocking\",\"flocking\",\"flocking\",\"flocking\",\"flocking\",\"flocking\",\"flocking\",\"flocking\",\"flocking\",\"flocking\",\"flocking\",\"flocking\",\"flocking\",\"flocking\",\"flocking\",\"flocking\",\"flocking\",\"flocking\",\"flocking\",\"flocking\",\"flocking\",\"flocking\",\"flocking\",\"flocking\",\"flocking\",\"flocking\",\"flocking\",\"flocking\",\"flocking\",\"flocking\",\"flocking\",\"flocking\",\"flocking\",\"flocking\",\"flocking\",\"flocking\",\"flocking\",\"flocking\",\"flocking\",\"flocking\",\"flocking\",\"flocking\",\"flocking\",\"flocking\",\"flocking\",\"flocking\",\"flocking\",\"flocking\",\"flocking\",\"flocking\",\"flocking\",\"flocking\",\"flocking\",\"flocking\",\"flocking\",\"flocking\",\"flocking\",\"flocking\",\"flocking\",\"flocking\",\"flocking\",\"flocking\",\"flocking\",\"flocking\",\"flocking\",\"flocking\",\"flocking\",\"flocking\",\"flocking\",\"flocking\",\"flocking\",\"flocking\",\"flocking\",\"flocking\",\"flocking\",\"flocking\",\"flocking\",\"flocking\",\"flocking\",\"flocking\",\"flocking\",\"flocking\",\"flocking\",\"flocking\",\"flocking\",\"flocking\",\"flocking\",\"flocking\",\"flocking\",\"flocking\",\"flocking\",\"flocking\",\"flocking\",\"flocking\",\"flocking\",\"flocking\",\"flocking\",\"flocking\",\"flocking\",\"flocking\",\"flocking\",\"flocking\",\"flocking\",\"flocking\",\"flocking\",\"flocking\",\"flocking\",\"flocking\",\"flocking\",\"flocking\",\"flocking\",\"flocking\",\"flocking\",\"flocking\",\"flocking\",\"flocking\",\"flocking\",\"flocking\",\"flocking\",\"flocking\",\"flocking\",\"flocking\",\"flocking\",\"flocking\",\"flocking\",\"flocking\",\"flocking\",\"flocking\",\"flocking\",\"flocking\",\"flocking\",\"flocking\",\"flocking\",\"flocking\",\"flocking\",\"flocking\",\"flocking\",\"flocking\",\"flocking\",\"flocking\",\"flocking\",\"flocking\",\"flocking\",\"flocking\",\"flocking\",\"flocking\",\"flocking\",\"flocking\",\"flocking\",\"flocking\",\"flocking\",\"flocking\",\"flocking\",\"flocking\",\"flocking\",\"flocking\",\"flocking\",\"flocking\",\"flocking\",\"flocking\",\"flocking\",\"flocking\",\"flocking\",\"flocking\",\"flocking\",\"flocking\",\"flocking\",\"flocking\",\"flocking\",\"flocking\",\"flocking\",\"flocking\",\"flocking\",\"flocking\",\"flocking\",\"flocking\",\"flocking\",\"flocking\",\"flocking\",\"flocking\",\"flocking\",\"flocking\",\"flocking\",\"flocking\",\"flocking\",\"flocking\",\"flocking\",\"flocking\",\"flocking\",\"flocking\",\"flocking\",\"flocking\",\"flocking\",\"flocking\",\"flocking\",\"flocking\",\"flocking\",\"flocking\",\"flocking\",\"flocking\",\"flocking\",\"flocking\",\"flocking\",\"flocking\",\"flocking\",\"flocking\",\"flocking\",\"flocking\",\"flocking\",\"flocking\",\"flocking\",\"flocking\",\"flocking\",\"flocking\",\"flocking\",\"flocking\",\"flocking\",\"flocking\",\"flocking\",\"flocking\",\"flocking\",\"flocking\",\"flocking\",\"flocking\",\"flocking\",\"flocking\",\"flocking\",\"flocking\",\"flocking\",\"flocking\",\"flocking\",\"flocking\",\"flocking\",\"flocking\",\"flocking\",\"flocking\",\"flocking\",\"flocking\",\"flocking\",\"flocking\",\"flocking\",\"flocking\",\"flocking\",\"flocking\",\"flocking\",\"flocking\",\"flocking\",\"flocking\",\"flocking\",\"flocking\",\"flocking\",\"flocking\",\"flocking\",\"flocking\",\"flocking\",\"flocking\",\"flocking\",\"flocking\",\"flocking\",\"flocking\",\"flocking\",\"flocking\",\"flocking\",\"flocking\",\"flocking\",\"flocking\",\"flocking\",\"flocking\",\"flocking\",\"flocking\",\"flocking\",\"flocking\",\"flocking\",\"flocking\",\"flocking\",\"flocking\",\"flocking\",\"flocking\",\"flocking\",\"flocking\",\"flocking\",\"flocking\",\"flocking\",\"flocking\",\"flocking\",\"flocking\",\"flocking\",\"flocking\",\"flocking\",\"flocking\",\"flocking\",\"flocking\",\"flocking\",\"flocking\",\"flocking\",\"flocking\",\"flocking\",\"flocking\",\"flocking\",\"flocking\",\"flocking\",\"flocking\",\"flocking\",\"flocking\",\"flocking\",\"flocking\",\"flocking\",\"flocking\",\"flocking\",\"flocking\",\"flocking\",\"flocking\",\"flocking\",\"flocking\",\"flocking\",\"flocking\",\"flocking\",\"flocking\",\"flocking\",\"flocking\",\"flocking\",\"flocking\",\"flocking\",\"flocking\",\"flocking\",\"flocking\",\"flocking\",\"flocking\",\"flocking\",\"flocking\",\"flocking\",\"flocking\",\"flocking\",\"flocking\",\"flocking\",\"flocking\",\"flocking\",\"flocking\",\"flocking\",\"flocking\",\"flocking\",\"flocking\",\"flocking\",\"flocking\",\"flocking\",\"flocking\",\"flocking\",\"flocking\",\"flocking\",\"flocking\",\"flocking\",\"flocking\",\"flocking\",\"flocking\",\"flocking\",\"flocking\",\"flocking\",\"flocking\",\"flocking\",\"flocking\",\"flocking\",\"flocking\",\"flocking\",\"flocking\",\"flocking\",\"flocking\",\"flocking\",\"flocking\",\"flocking\",\"flocking\",\"flocking\",\"flocking\",\"flocking\",\"flocking\",\"flocking\",\"flocking\",\"flocking\",\"flocking\",\"flocking\",\"flocking\",\"flocking\",\"flocking\",\"flocking\",\"flocking\",\"flocking\",\"flocking\",\"flocking\",\"flocking\",\"flocking\",\"flocking\",\"flocking\",\"flocking\",\"flocking\",\"flocking\",\"flocking\",\"flocking\",\"flocking\",\"flocking\",\"flocking\",\"flocking\",\"flocking\",\"flocking\",\"flocking\",\"flocking\",\"flocking\",\"flocking\",\"flocking\",\"flocking\",\"flocking\",\"flocking\",\"flocking\",\"flocking\",\"flocking\",\"flocking\",\"flocking\",\"flocking\",\"flocking\",\"flocking\",\"flocking\",\"flocking\",\"flocking\",\"flocking\",\"flocking\",\"flocking\",\"flocking\",\"flocking\",\"flocking\",\"flocking\",\"flocking\",\"flocking\",\"flocking\",\"flocking\",\"flocking\",\"flocking\",\"flocking\",\"flocking\",\"flocking\",\"flocking\",\"flocking\",\"flocking\",\"flocking\",\"flocking\",\"flocking\",\"flocking\",\"flocking\",\"flocking\",\"flocking\",\"flocking\",\"flocking\",\"flocking\",\"flocking\"],\"x0\":\" \",\"xaxis\":\"x\",\"y\":[0.0,0.0,0.0773148148148148,0.1,0.0,1.173148148148148,0.0,0.0,0.0,0.8439814814814814,0.0,0.175,1.760185185185185,0.0,0.0,0.3777777777777777,0.0,0.0,0.0,0.1546296296296296,0.0,0.0,0.1435185185185185,0.0,0.0,0.0,0.0,0.0,0.5310185185185186,0.424074074074074,0.0,0.5523148148148148,0.8791666666666667,1.489814814814815,1.1583333333333334,0.5643518518518519,0.7240740740740741,0.0523148148148148,0.0,0.0,0.1421296296296296,0.0,0.963425925925926,0.0,0.0,2.3023148148148147,0.0,0.0,0.0,1.7555555555555555,0.9814814814814816,0.8222222222222222,1.6879629629629629,0.0805555555555555,0.1416666666666666,0.0,0.0,0.0,0.9717592592592592,0.0,0.0,0.2527777777777777,0.0356481481481481,0.0,0.0,0.4796296296296296,0.0,0.0,0.0,1.2027777777777775,0.8851851851851852,1.7546296296296295,0.0,0.0,0.0,0.0,0.7861111111111111,0.0,0.0,0.4074074074074074,0.0,0.0,0.0,0.0,0.0,0.2662037037037037,1.162037037037037,0.4134259259259259,0.95,1.0,0.0,0.3976851851851852,0.0,0.162037037037037,0.0,0.0,0.525,0.5796296296296296,0.0,0.1754629629629629,0.0,1.024537037037037,0.0,0.0,0.0523148148148148,0.0,0.0,0.2712962962962963,0.0,0.9194444444444444,1.223148148148148,0.0,0.0,0.3453703703703704,0.0,2.323148148148148,1.209722222222222,1.1,0.0,0.036574074074074,0.0,0.0,0.6222222222222222,0.0,0.0,0.9449074074074074,0.5587962962962963,0.0,0.0476851851851851,0.5699074074074074,0.4444444444444444,0.0,0.2222222222222222,0.0,1.3439814814814814,0.9453703703703704,0.0,0.0,0.3884259259259259,0.6972222222222222,0.1768518518518518,0.0,0.6810185185185185,0.074537037037037,0.0,0.0,0.0,0.0,0.0527777777777777,0.0226851851851851,0.0,0.0,0.0,0.0,0.0,0.0,0.1666666666666666,0.0,0.4592592592592592,0.0,0.0,0.0,2.9944444444444445,0.0,0.5689814814814815,0.1231481481481481,1.2055555555555555,0.0,0.9694444444444444,0.0,0.0606481481481481,0.8236111111111111,0.9120370370370372,0.0,0.0,0.6777777777777778,0.0662037037037037,0.9212962962962964,0.4425925925925926,1.325925925925926,1.6990740740740742,0.0,0.1666666666666666,0.2083333333333333,0.0,0.825,0.5425925925925926,1.647222222222222,0.0,0.0,0.3379629629629629,0.8162037037037037,0.8560185185185185,0.3666666666666666,0.5444444444444444,1.4722222222222223,0.924537037037037,0.0,0.0,0.0,0.0050925925925925,0.5583333333333333,0.0,0.6643518518518519,0.0773148148148148,1.980555555555556,1.3157407407407409,0.0,0.0,0.0,0.0,0.1851851851851851,2.462962962962963,0.1254629629629629,0.8962962962962963,0.0,0.0,0.1277777777777777,0.0,0.4509259259259259,0.0,0.0,0.935648148148148,0.0,0.4759259259259259,0.15,0.7601851851851852,0.449074074074074,0.0356481481481481,0.1462962962962962,0.0,0.0,0.6111111111111112,0.337037037037037,0.0,0.0,0.0,0.0,0.024537037037037,0.0,0.0,0.3861111111111111,0.0,0.7939814814814815,0.25,0.0,0.0337962962962962,0.0,0.0,0.8333333333333334,0.0,0.1587962962962963,0.6106481481481482,0.911574074074074,0.7865740740740741,0.0,0.0,0.0,0.4648148148148148,0.0,0.0,0.5217592592592593,0.0,0.0,0.0,0.0546296296296296,0.1185185185185185,0.5990740740740741,1.1,0.0,0.0,0.0555555555555555,1.414351851851852,0.0,0.0,0.0,0.2949074074074074,0.0,0.0,0.5148148148148148,0.3388888888888889,0.0,1.0,1.7967592592592592,2.573148148148148,0.3263888888888889,0.0,0.0328703703703703,0.0,0.0,0.0,0.0,0.1416666666666666,0.0,0.1768518518518518,0.424074074074074,0.7870370370370371,0.0,0.0,0.799537037037037,1.523611111111111,0.736574074074074,0.4606481481481481,0.0,0.0601851851851851,0.0,0.7949074074074074,0.4324074074074074,2.807407407407408,0.2217592592592592,0.4481481481481481,1.6083333333333334,1.0,0.0,0.0,0.0,0.0888888888888888,0.0,0.2490740740740741,0.3194444444444444,0.7546296296296297,0.0,0.0,0.0,0.0,0.0856481481481481,0.0,0.0,0.0,0.0,0.0,0.0,0.1421296296296296,0.0,0.0,0.0,0.3027777777777777,0.4712962962962962,0.0,0.0,0.0,0.0,0.0,1.1935185185185184,0.0,0.0,0.1342592592592592,0.0,0.7222222222222222,1.2023148148148148,0.0,0.0,0.0,0.0,0.0,0.4509259259259259,0.0,0.086574074074074,0.0,0.0,0.0,0.0,0.8175925925925925,0.1004629629629629,0.2583333333333333,0.0,0.0,0.7675925925925926,0.5055555555555555,0.3296296296296296,0.4587962962962963,0.0,0.0,0.0,0.549074074074074,0.0,0.2805555555555555,0.3712962962962963,0.0,0.0439814814814814,0.0,0.1685185185185185,0.4453703703703703,0.0,0.0,0.7217592592592592,0.963425925925926,0.0,0.0,0.0,0.0,0.4712962962962962,0.2717592592592592,0.0,0.0,0.0,0.0,0.0,0.6597222222222222,1.1824074074074074,0.0,0.2166666666666666,1.011111111111111,0.0412037037037037,0.3074074074074074,0.0,0.0,0.5638888888888889,1.236574074074074,0.0,0.0,0.0,0.3773148148148148,0.0,0.2976851851851851,1.4287037037037038,0.0,0.0,0.0,0.7671296296296296,0.0,0.0,0.0,2.5032407407407407,0.1273148148148148,0.0476851851851851,0.0,0.0,0.5388888888888889,0.0,0.4916666666666666,0.0,0.0,0.486574074074074,0.9555555555555556,0.2643518518518518,0.0,0.9050925925925926,0.0,0.0,0.0,0.0,1.2837962962962963,0.0,0.638425925925926,1.5166666666666666,0.937037037037037,0.0,1.0611111111111111,0.0,0.4685185185185185,0.9523148148148148,0.0,0.0,0.0,0.0,0.0,0.0,0.0,0.0,0.0,3.287037037037037,0.0,0.0,0.0,0.6768518518518518,0.0,0.0,0.0,0.0,0.0,0.0,0.1726851851851852,0.0,0.0,0.0,1.1949074074074073,0.0,0.249537037037037,0.549537037037037,0.4560185185185185,0.9027777777777778,0.0,1.0611111111111111,0.0,0.0,0.0,0.0,0.0,0.0,0.2018518518518518,0.0,0.0,0.9907407407407408,0.6185185185185185,0.5388888888888889,0.9254629629629628,0.0,0.2361111111111111,0.0,1.249074074074074,0.0,0.0,0.0,0.7865740740740741,1.7194444444444446,0.9722222222222222,0.0,0.0,0.9699074074074074,0.4356481481481482,0.924537037037037,0.0,0.3671296296296296,0.0,1.0106481481481482,1.611574074074074,0.0,0.2824074074074074,0.0,0.0,0.0,0.1578703703703703,0.0,0.0,0.024537037037037,0.6972222222222222,0.049537037037037,1.5574074074074074,1.0185185185185186,0.9745370370370372,1.2472222222222222,0.0,0.1453703703703703,0.5212962962962963,0.0,0.0,0.0,0.0,0.0,0.3259259259259259,0.0,0.0,0.8449074074074074,0.0,1.1847222222222222,0.0,0.5717592592592593,0.0,0.0,0.0356481481481481,0.0,0.0,0.5333333333333333,0.0,0.0,0.0,0.8138888888888889,0.0,0.0444444444444444,0.8439814814814814,0.0,0.0,0.0,0.0,0.0,0.0,0.0,0.0,0.0,0.0,0.0,0.0,0.0,0.0,0.0,0.0,0.3824074074074074,0.0,0.0,0.4421296296296296,0.4763888888888888,0.0851851851851851,0.1166666666666666,0.7777777777777778,0.0217592592592592,0.0,0.0,0.0550925925925925,0.0,0.6523148148148148,0.0,0.0,0.2759259259259259,0.0,0.0,0.0,0.8194444444444444,0.2106481481481481,0.0,0.6078703703703704,0.0,0.0,0.0,0.0,0.0,0.3384259259259259,0.0,0.0185185185185185,0.0888888888888888,0.0,0.0,0.0,0.0,0.0,0.0,0.0,0.3189814814814815,0.0287037037037037,0.2305555555555555,0.0,0.0,0.0,0.0,0.0,0.0,0.0,0.2712962962962963,0.0,0.0,0.0,0.0,0.0,0.0578703703703703,0.8143518518518519,0.4583333333333333,0.5310185185185186,0.0393518518518518,0.0,0.0199074074074074,0.0,0.1129629629629629,0.0,0.0,0.0,0.4185185185185185,0.0,0.0,0.0,0.861574074074074,0.0,0.0,0.0421296296296296,0.0,0.0,0.0,0.0,0.0,0.5449074074074074,0.0,0.0,0.3148148148148148,0.0,0.5393518518518519,0.6833333333333333,0.0,0.0,0.0217592592592592,0.0,0.0,0.0888888888888888,0.0,0.0,0.0,0.3634259259259259,0.0,0.0328703703703703,0.0,0.0,0.0,0.0,0.0,0.0171296296296296,0.3467592592592592,0.0,0.0,0.0,0.0,0.1685185185185185,0.0,0.4,0.0439814814814814,0.0,0.0,0.0,0.0,0.0,0.0,0.0,0.0,0.0,0.0,0.0,0.0,0.0,0.0,0.0,0.0,0.0,0.0,0.0,0.0,0.0,0.0,0.0,0.0,0.0,0.0,0.0,0.0037037037037037,0.0,0.0,0.0,0.7189814814814814,0.161574074074074,0.0972222222222222,0.0,0.8134259259259259,0.0,0.0,0.0,0.0,0.0,0.6606481481481481,0.0,0.0,0.0,0.0,0.3407407407407407,0.0,0.6592592592592592,0.4259259259259259,0.4888888888888889,0.0,0.6703703703703704,0.0,0.0,0.3777777777777777,0.0,0.0,0.0,0.0,0.0,0.5527777777777778,0.0,0.0,0.0,0.0,0.0,0.362962962962963,0.924537037037037,0.0,0.1472222222222222,0.0,0.0,0.0,0.0,0.3555555555555555,0.0,0.6106481481481482,0.2356481481481481,0.0,0.0,0.0,0.2703703703703703,0.4703703703703704,0.1606481481481481,0.2425925925925925,0.0,0.0,0.0,0.7379629629629629,0.0,0.0,0.0,0.0,0.0171296296296296,0.0,0.0,0.3722222222222222,0.0,0.0,0.0,0.0,0.0,0.0,0.0,0.7638888888888888,0.0,0.0,0.0,0.0,0.0,0.0,0.0,0.0,0.5157407407407407,0.0,0.0,0.1412037037037037,0.0,0.0,0.0,0.0,0.0,0.7449074074074075,0.4462962962962963,0.0,0.0,0.6851851851851852,0.7643518518518518,0.0,0.0,0.0,0.0916666666666666,0.0,0.0,0.0,0.0,0.0,0.5810185185185185,0.9305555555555556,0.0,0.1583333333333333,0.0,0.0171296296296296,0.0,0.0,0.0,0.0,0.0861111111111111,0.0,0.4777777777777778,0.0,0.0,0.0,0.0,0.788425925925926,0.7888888888888889,0.512962962962963,0.0,0.0,0.0,0.0,0.8050925925925926,0.0,0.6717592592592593,0.0162037037037037,0.0,0.0,1.0,0.0,0.0,0.0,0.0,0.0,0.0,0.5023148148148148,0.0472222222222222,0.0,0.0,0.0,0.0,0.0226851851851851,0.0,0.0,0.0,0.0,0.0,0.0,0.0254629629629629,0.0,0.0,0.0,0.2851851851851852,0.4296296296296296,0.0,0.0,0.0,0.0,0.0,0.8245370370370371,0.0,0.0,0.1,0.0,0.6648148148148149,0.0722222222222222,0.0,0.0,0.0,0.0,0.0,0.0,0.0,0.0939814814814814,0.0,0.0,0.0,0.0,0.262037037037037,0.0606481481481481,0.0,0.0,0.0,0.0,0.0,0.0,0.1444444444444444,0.0,0.0,0.0,0.0,0.0,0.0,0.0,0.0,0.0171296296296296,0.0,0.2592592592592592,0.5611111111111111,0.0,0.0,0.0,0.9662037037037036,0.0,0.0,0.0,0.0,0.0,0.0,0.0,0.0,0.0,0.0,0.0,0.938425925925926,0.2361111111111111,0.0,0.0,0.1694444444444444,0.0199074074074074,0.0,0.0,0.0,0.0134259259259259,0.8069444444444445,0.0,0.0,0.0,0.0,0.0,0.0217592592592592,0.0,0.0,0.0,0.0,0.7560185185185185,0.0,0.0,0.0,1.0,0.0,0.0,0.0,0.0,0.0,0.0,0.0,0.0,0.0,0.0,0.0550925925925925,0.0467592592592592,0.2962962962962963,0.850462962962963,0.0,0.0,0.0,0.0,0.7578703703703704,0.0,0.0087962962962962,0.0,0.3810185185185185,0.0,0.0,0.0,0.0,0.0,0.0,0.0,0.0,0.0,0.0,0.0,0.0,0.0,0.0,0.8162037037037037,0.0,0.0,0.0,0.6162037037037037,0.0,0.0,0.0,0.0,0.0,0.0,0.0,0.0,0.0,0.1194444444444444,0.3111111111111111,0.0,0.0106481481481481,0.7356481481481482,0.0171296296296296,0.0,0.0,0.4305555555555556,0.0,0.0,0.0,0.0,0.0,0.0,0.0,0.0,0.0,0.0,0.3074074074074074,0.0,0.787962962962963,0.0,0.0,0.0,0.9032407407407408,0.0,0.0,0.0,0.0217592592592592,0.1439814814814815,0.0,0.0,0.0,0.7425925925925926,0.0,0.899537037037037,0.0,0.0,0.0,0.1009259259259259,0.9856481481481482,0.0,0.0,0.0,0.0,0.0,0.0217592592592592,0.0,0.0,0.0143518518518518,0.0,0.0143518518518518,0.2023148148148148,0.6064814814814815,0.7981481481481482,0.8717592592592592,0.0,0.2027777777777777,0.1532407407407407,0.0,0.0,0.0,0.0,0.0,0.0472222222222222,0.0,0.0,0.0,0.0,0.7222222222222222,0.0,0.0,0.0,0.0,0.0217592592592592,0.0,0.0,0.0,0.0,0.0,0.0,0.0476851851851851,0.0,0.0,0.1157407407407407,0.0,0.0,0.0,0.0,0.0,0.0,0.0,0.0,0.0,0.0,0.0,0.0,0.0,0.0,0.0,0.0,0.0,0.0,0.0,0.0,0.0,0.0,0.0,0.0,0.0171296296296296,0.0,0.0,0.011574074074074,0.0,0.0,0.0,0.0,0.0,0.0,0.0,0.0,0.0,0.0134259259259259,0.0,0.0,0.0,0.0,0.0,0.0,0.0,0.0143518518518518,0.0,0.0,0.0,0.0,0.0,0.0,0.0,0.0,0.0,0.0,0.0,0.0212962962962962,0.0,0.0,0.0,0.0,0.0,0.0,0.0,0.0,0.0,0.0,0.0,0.0,0.0,0.0,0.0449074074074074,0.0,0.0,0.0,0.011574074074074,0.0,0.1856481481481481,0.0,0.0,0.0,0.0,0.0,0.0,0.0,0.0,0.0,0.3976851851851852,0.0,0.0,0.011574074074074,0.0,0.0,0.0,0.0,0.0,0.0,0.0,0.0,0.0,0.0,0.0,0.0189814814814814,0.0,0.0,0.0171296296296296,0.0,0.0,0.0,0.0,0.0,0.0,0.0171296296296296,0.0,0.0143518518518518,0.0,0.0,0.0,0.0,0.0,0.0162037037037037,0.0,0.0,0.0,0.0,0.0,0.0,0.0,0.0,0.0134259259259259,0.0,0.0,0.0,0.0,0.0,0.0,0.0,0.0,0.0,0.0,0.0,0.0,0.0,0.0,0.0,0.0,0.0,0.0,0.0,0.0,0.0,0.0,0.0,0.0,0.0,0.0,0.0,0.0,0.0,0.0,0.0,0.0,0.0,0.0324074074074074,0.0,0.0,0.0,0.0,0.0,0.0,0.0,0.0,0.0,0.0,0.0,0.0,0.0,0.0,0.0,0.0,0.0,0.0,0.0,0.0,0.0,0.0,0.0,0.0,0.0,0.0,0.0,0.0,0.0,0.0,0.0,0.0,0.0,0.0,0.8078703703703703,0.0,0.0,0.0,0.0,0.0,0.0,0.0,0.0,0.0,0.0,0.0,0.0,0.0,0.0,0.011574074074074,0.0,0.0,0.0,0.0,0.0,0.0,0.0,0.0,0.0,0.0,0.011574074074074,0.0,0.0,0.0,0.0,0.0,0.0,0.0,0.0,0.0,0.0,0.0,0.0,0.0,0.0,0.0,0.0,0.0,0.0,0.0,0.0,0.0,0.0,0.0,0.0,0.0,0.0,0.0,0.0,0.0,0.0,0.0,0.0,0.0,0.0,0.0,0.0,0.0,0.0,0.0,0.0,0.0,0.0,0.0,0.0606481481481481,0.0106481481481481,0.5361111111111111,0.0,0.0,0.0143518518518518,0.0,0.0,0.0,0.0,0.0,0.0,0.0,0.0,0.0,0.0,0.0,0.0,0.0,0.0,0.0,0.0,0.0,0.0,0.0467592592592592,0.0,0.0,0.011574074074074,0.0,0.0,0.024537037037037,0.0,0.0,0.0,0.0,0.0,0.0,0.0,0.0,0.0,0.0,0.0,0.0,0.0,0.0,0.0,0.0,0.0,0.0,0.0,0.0337962962962962,0.0,0.0,0.0,0.0,0.0,0.0,0.0,0.0,0.0,0.0,0.0,0.0,0.0,0.0,0.0,0.0,0.0,0.0,0.0,0.0,0.0,0.0,0.0,0.0,0.0106481481481481,0.0,0.0,0.0,0.0,0.0,0.0171296296296296,0.0,0.0,0.0,0.0,0.0,0.0,0.0,0.0,0.0,0.0,0.0,0.0,0.0,0.0,0.0,0.011574074074074,0.0,0.0,0.0,0.0,0.0,0.0,0.0,0.0,0.0,0.0,0.0,0.0,0.0,0.0,0.0,0.0,0.0,0.0,0.0,0.0,0.0,0.0,0.0,0.0106481481481481,0.0,0.0,0.0,0.0,0.0199074074074074,0.0,0.0,0.0,0.0,0.0,0.0217592592592592,0.0,0.0,0.0,0.0,0.0143518518518518,0.0,0.0,0.0,1.0,0.0,0.0,0.0,0.0,0.0,0.0,0.0,0.0,0.0,0.0,0.0,0.0226851851851851,0.0,0.0,0.0,0.0,0.0,0.0,0.0,0.0,0.0078703703703703,0.0,0.0,0.0,0.0,0.0,0.0,0.0,0.0,0.0,0.0,0.0,0.0,0.0,0.0,0.0,0.0,0.0,0.0,0.0,0.0,0.0,0.0,0.0,0.0,0.0,0.0,0.0,0.0,0.0,0.0,0.0,0.0,0.0,0.0106481481481481,0.011574074074074,0.011574074074074,0.0,0.0,0.0,0.0,0.0,0.0,0.0,0.0,0.0,0.0,0.0,0.0,0.0,0.0,0.0,0.0,0.0,0.0,0.0,0.0,0.0,0.0,0.0,0.0300925925925925,1.0,0.0,0.0,0.0,0.0,0.0,0.0,0.0,0.0,0.0,0.0,0.0,0.0,0.0,0.0,0.0,0.0,0.0189814814814814,0.0,0.0,0.0143518518518518,0.0,0.0134259259259259,0.0,0.0,0.0439814814814814,0.0,0.0,0.0,0.0,0.0,0.0,0.0,0.0,0.0,0.0351851851851851,0.0,0.0,0.0,0.0,0.0,0.0,0.0],\"y0\":\" \",\"yaxis\":\"y\",\"type\":\"box\"},{\"line\":{\"color\":\"green\",\"width\":2},\"mode\":\"lines\",\"name\":\"mean\",\"showlegend\":true,\"x\":[\"hj_naive\",\"hj_reactive\",\"flocking\"],\"y\":[0.3262182346580157,0.11054845904298458,0.009014260610975934],\"type\":\"scatter\"}],                        {\"template\":{\"data\":{\"histogram2dcontour\":[{\"type\":\"histogram2dcontour\",\"colorbar\":{\"outlinewidth\":0,\"ticks\":\"\"},\"colorscale\":[[0.0,\"#0d0887\"],[0.1111111111111111,\"#46039f\"],[0.2222222222222222,\"#7201a8\"],[0.3333333333333333,\"#9c179e\"],[0.4444444444444444,\"#bd3786\"],[0.5555555555555556,\"#d8576b\"],[0.6666666666666666,\"#ed7953\"],[0.7777777777777778,\"#fb9f3a\"],[0.8888888888888888,\"#fdca26\"],[1.0,\"#f0f921\"]]}],\"choropleth\":[{\"type\":\"choropleth\",\"colorbar\":{\"outlinewidth\":0,\"ticks\":\"\"}}],\"histogram2d\":[{\"type\":\"histogram2d\",\"colorbar\":{\"outlinewidth\":0,\"ticks\":\"\"},\"colorscale\":[[0.0,\"#0d0887\"],[0.1111111111111111,\"#46039f\"],[0.2222222222222222,\"#7201a8\"],[0.3333333333333333,\"#9c179e\"],[0.4444444444444444,\"#bd3786\"],[0.5555555555555556,\"#d8576b\"],[0.6666666666666666,\"#ed7953\"],[0.7777777777777778,\"#fb9f3a\"],[0.8888888888888888,\"#fdca26\"],[1.0,\"#f0f921\"]]}],\"heatmap\":[{\"type\":\"heatmap\",\"colorbar\":{\"outlinewidth\":0,\"ticks\":\"\"},\"colorscale\":[[0.0,\"#0d0887\"],[0.1111111111111111,\"#46039f\"],[0.2222222222222222,\"#7201a8\"],[0.3333333333333333,\"#9c179e\"],[0.4444444444444444,\"#bd3786\"],[0.5555555555555556,\"#d8576b\"],[0.6666666666666666,\"#ed7953\"],[0.7777777777777778,\"#fb9f3a\"],[0.8888888888888888,\"#fdca26\"],[1.0,\"#f0f921\"]]}],\"heatmapgl\":[{\"type\":\"heatmapgl\",\"colorbar\":{\"outlinewidth\":0,\"ticks\":\"\"},\"colorscale\":[[0.0,\"#0d0887\"],[0.1111111111111111,\"#46039f\"],[0.2222222222222222,\"#7201a8\"],[0.3333333333333333,\"#9c179e\"],[0.4444444444444444,\"#bd3786\"],[0.5555555555555556,\"#d8576b\"],[0.6666666666666666,\"#ed7953\"],[0.7777777777777778,\"#fb9f3a\"],[0.8888888888888888,\"#fdca26\"],[1.0,\"#f0f921\"]]}],\"contourcarpet\":[{\"type\":\"contourcarpet\",\"colorbar\":{\"outlinewidth\":0,\"ticks\":\"\"}}],\"contour\":[{\"type\":\"contour\",\"colorbar\":{\"outlinewidth\":0,\"ticks\":\"\"},\"colorscale\":[[0.0,\"#0d0887\"],[0.1111111111111111,\"#46039f\"],[0.2222222222222222,\"#7201a8\"],[0.3333333333333333,\"#9c179e\"],[0.4444444444444444,\"#bd3786\"],[0.5555555555555556,\"#d8576b\"],[0.6666666666666666,\"#ed7953\"],[0.7777777777777778,\"#fb9f3a\"],[0.8888888888888888,\"#fdca26\"],[1.0,\"#f0f921\"]]}],\"surface\":[{\"type\":\"surface\",\"colorbar\":{\"outlinewidth\":0,\"ticks\":\"\"},\"colorscale\":[[0.0,\"#0d0887\"],[0.1111111111111111,\"#46039f\"],[0.2222222222222222,\"#7201a8\"],[0.3333333333333333,\"#9c179e\"],[0.4444444444444444,\"#bd3786\"],[0.5555555555555556,\"#d8576b\"],[0.6666666666666666,\"#ed7953\"],[0.7777777777777778,\"#fb9f3a\"],[0.8888888888888888,\"#fdca26\"],[1.0,\"#f0f921\"]]}],\"mesh3d\":[{\"type\":\"mesh3d\",\"colorbar\":{\"outlinewidth\":0,\"ticks\":\"\"}}],\"scatter\":[{\"fillpattern\":{\"fillmode\":\"overlay\",\"size\":10,\"solidity\":0.2},\"type\":\"scatter\"}],\"parcoords\":[{\"type\":\"parcoords\",\"line\":{\"colorbar\":{\"outlinewidth\":0,\"ticks\":\"\"}}}],\"scatterpolargl\":[{\"type\":\"scatterpolargl\",\"marker\":{\"colorbar\":{\"outlinewidth\":0,\"ticks\":\"\"}}}],\"bar\":[{\"error_x\":{\"color\":\"#2a3f5f\"},\"error_y\":{\"color\":\"#2a3f5f\"},\"marker\":{\"line\":{\"color\":\"#E5ECF6\",\"width\":0.5},\"pattern\":{\"fillmode\":\"overlay\",\"size\":10,\"solidity\":0.2}},\"type\":\"bar\"}],\"scattergeo\":[{\"type\":\"scattergeo\",\"marker\":{\"colorbar\":{\"outlinewidth\":0,\"ticks\":\"\"}}}],\"scatterpolar\":[{\"type\":\"scatterpolar\",\"marker\":{\"colorbar\":{\"outlinewidth\":0,\"ticks\":\"\"}}}],\"histogram\":[{\"marker\":{\"pattern\":{\"fillmode\":\"overlay\",\"size\":10,\"solidity\":0.2}},\"type\":\"histogram\"}],\"scattergl\":[{\"type\":\"scattergl\",\"marker\":{\"colorbar\":{\"outlinewidth\":0,\"ticks\":\"\"}}}],\"scatter3d\":[{\"type\":\"scatter3d\",\"line\":{\"colorbar\":{\"outlinewidth\":0,\"ticks\":\"\"}},\"marker\":{\"colorbar\":{\"outlinewidth\":0,\"ticks\":\"\"}}}],\"scattermapbox\":[{\"type\":\"scattermapbox\",\"marker\":{\"colorbar\":{\"outlinewidth\":0,\"ticks\":\"\"}}}],\"scatterternary\":[{\"type\":\"scatterternary\",\"marker\":{\"colorbar\":{\"outlinewidth\":0,\"ticks\":\"\"}}}],\"scattercarpet\":[{\"type\":\"scattercarpet\",\"marker\":{\"colorbar\":{\"outlinewidth\":0,\"ticks\":\"\"}}}],\"carpet\":[{\"aaxis\":{\"endlinecolor\":\"#2a3f5f\",\"gridcolor\":\"white\",\"linecolor\":\"white\",\"minorgridcolor\":\"white\",\"startlinecolor\":\"#2a3f5f\"},\"baxis\":{\"endlinecolor\":\"#2a3f5f\",\"gridcolor\":\"white\",\"linecolor\":\"white\",\"minorgridcolor\":\"white\",\"startlinecolor\":\"#2a3f5f\"},\"type\":\"carpet\"}],\"table\":[{\"cells\":{\"fill\":{\"color\":\"#EBF0F8\"},\"line\":{\"color\":\"white\"}},\"header\":{\"fill\":{\"color\":\"#C8D4E3\"},\"line\":{\"color\":\"white\"}},\"type\":\"table\"}],\"barpolar\":[{\"marker\":{\"line\":{\"color\":\"#E5ECF6\",\"width\":0.5},\"pattern\":{\"fillmode\":\"overlay\",\"size\":10,\"solidity\":0.2}},\"type\":\"barpolar\"}],\"pie\":[{\"automargin\":true,\"type\":\"pie\"}]},\"layout\":{\"autotypenumbers\":\"strict\",\"colorway\":[\"#636efa\",\"#EF553B\",\"#00cc96\",\"#ab63fa\",\"#FFA15A\",\"#19d3f3\",\"#FF6692\",\"#B6E880\",\"#FF97FF\",\"#FECB52\"],\"font\":{\"color\":\"#2a3f5f\"},\"hovermode\":\"closest\",\"hoverlabel\":{\"align\":\"left\"},\"paper_bgcolor\":\"white\",\"plot_bgcolor\":\"#E5ECF6\",\"polar\":{\"bgcolor\":\"#E5ECF6\",\"angularaxis\":{\"gridcolor\":\"white\",\"linecolor\":\"white\",\"ticks\":\"\"},\"radialaxis\":{\"gridcolor\":\"white\",\"linecolor\":\"white\",\"ticks\":\"\"}},\"ternary\":{\"bgcolor\":\"#E5ECF6\",\"aaxis\":{\"gridcolor\":\"white\",\"linecolor\":\"white\",\"ticks\":\"\"},\"baxis\":{\"gridcolor\":\"white\",\"linecolor\":\"white\",\"ticks\":\"\"},\"caxis\":{\"gridcolor\":\"white\",\"linecolor\":\"white\",\"ticks\":\"\"}},\"coloraxis\":{\"colorbar\":{\"outlinewidth\":0,\"ticks\":\"\"}},\"colorscale\":{\"sequential\":[[0.0,\"#0d0887\"],[0.1111111111111111,\"#46039f\"],[0.2222222222222222,\"#7201a8\"],[0.3333333333333333,\"#9c179e\"],[0.4444444444444444,\"#bd3786\"],[0.5555555555555556,\"#d8576b\"],[0.6666666666666666,\"#ed7953\"],[0.7777777777777778,\"#fb9f3a\"],[0.8888888888888888,\"#fdca26\"],[1.0,\"#f0f921\"]],\"sequentialminus\":[[0.0,\"#0d0887\"],[0.1111111111111111,\"#46039f\"],[0.2222222222222222,\"#7201a8\"],[0.3333333333333333,\"#9c179e\"],[0.4444444444444444,\"#bd3786\"],[0.5555555555555556,\"#d8576b\"],[0.6666666666666666,\"#ed7953\"],[0.7777777777777778,\"#fb9f3a\"],[0.8888888888888888,\"#fdca26\"],[1.0,\"#f0f921\"]],\"diverging\":[[0,\"#8e0152\"],[0.1,\"#c51b7d\"],[0.2,\"#de77ae\"],[0.3,\"#f1b6da\"],[0.4,\"#fde0ef\"],[0.5,\"#f7f7f7\"],[0.6,\"#e6f5d0\"],[0.7,\"#b8e186\"],[0.8,\"#7fbc41\"],[0.9,\"#4d9221\"],[1,\"#276419\"]]},\"xaxis\":{\"gridcolor\":\"white\",\"linecolor\":\"white\",\"ticks\":\"\",\"title\":{\"standoff\":15},\"zerolinecolor\":\"white\",\"automargin\":true,\"zerolinewidth\":2},\"yaxis\":{\"gridcolor\":\"white\",\"linecolor\":\"white\",\"ticks\":\"\",\"title\":{\"standoff\":15},\"zerolinecolor\":\"white\",\"automargin\":true,\"zerolinewidth\":2},\"scene\":{\"xaxis\":{\"backgroundcolor\":\"#E5ECF6\",\"gridcolor\":\"white\",\"linecolor\":\"white\",\"showbackground\":true,\"ticks\":\"\",\"zerolinecolor\":\"white\",\"gridwidth\":2},\"yaxis\":{\"backgroundcolor\":\"#E5ECF6\",\"gridcolor\":\"white\",\"linecolor\":\"white\",\"showbackground\":true,\"ticks\":\"\",\"zerolinecolor\":\"white\",\"gridwidth\":2},\"zaxis\":{\"backgroundcolor\":\"#E5ECF6\",\"gridcolor\":\"white\",\"linecolor\":\"white\",\"showbackground\":true,\"ticks\":\"\",\"zerolinecolor\":\"white\",\"gridwidth\":2}},\"shapedefaults\":{\"line\":{\"color\":\"#2a3f5f\"}},\"annotationdefaults\":{\"arrowcolor\":\"#2a3f5f\",\"arrowhead\":0,\"arrowwidth\":1},\"geo\":{\"bgcolor\":\"white\",\"landcolor\":\"#E5ECF6\",\"subunitcolor\":\"white\",\"showland\":true,\"showlakes\":true,\"lakecolor\":\"white\"},\"title\":{\"x\":0.05},\"mapbox\":{\"style\":\"light\"}}},\"xaxis\":{\"anchor\":\"y\",\"domain\":[0.0,1.0],\"title\":{\"text\":\"controllers\"}},\"yaxis\":{\"anchor\":\"x\",\"domain\":[0.0,1.0],\"title\":{\"text\":\"IPM\"}},\"legend\":{\"tracegroupgap\":0},\"margin\":{\"t\":60},\"boxmode\":\"group\",\"title\":{\"text\":\"Isolated_platform_metric\"}},                        {\"responsive\": true}                    ).then(function(){\n",
       "                            \n",
       "var gd = document.getElementById('31934f19-5195-493e-9799-b525abc84cce');\n",
       "var x = new MutationObserver(function (mutations, observer) {{\n",
       "        var display = window.getComputedStyle(gd).display;\n",
       "        if (!display || display === 'none') {{\n",
       "            console.log([gd, 'removed!']);\n",
       "            Plotly.purge(gd);\n",
       "            observer.disconnect();\n",
       "        }}\n",
       "}});\n",
       "\n",
       "// Listen for the removal of the full notebook cells\n",
       "var notebookContainer = gd.closest('#notebook-container');\n",
       "if (notebookContainer) {{\n",
       "    x.observe(notebookContainer, {childList: true});\n",
       "}}\n",
       "\n",
       "// Listen for the clearing of the current output cell\n",
       "var outputEl = gd.closest('.output');\n",
       "if (outputEl) {{\n",
       "    x.observe(outputEl, {childList: true});\n",
       "}}\n",
       "\n",
       "                        })                };                });            </script>        </div>"
      ]
     },
     "metadata": {},
     "output_type": "display_data"
    }
   ],
   "source": [
    "ipm_dict= {\"hj_naive\": metrics_hj_naive[\"Isolated_platform_metric\"],\n",
    "                      \"hj_reactive\": metrics_hj_reactive[\"Isolated_platform_metric\"],\n",
    "                      \"flocking\": metrics_hj_flocking[\"Isolated_platform_metric\"]}\n",
    "ipm_df = pd.DataFrame(ipm_dict)\n",
    "fig_ipm = px.box(ipm_df, log_y=False )\n",
    "mean_trace = go.Scatter(\n",
    "    x=ipm_df.columns,\n",
    "    y=ipm_df.mean(),\n",
    "    mode='lines',\n",
    "    line=dict(color='green', width=2),\n",
    "    showlegend=True,\n",
    "    name=\"mean\"\n",
    ")\n",
    "fig_ipm.add_trace(mean_trace)\n",
    "# Add custom x and y labels\n",
    "fig_ipm.update_layout(\n",
    "    xaxis_title=\"controllers\",\n",
    "    yaxis_title=\"IPM\",\n",
    "    title = {'text': \"Isolated_platform_metric\"}\n",
    ")\n",
    "fig_ipm.show()"
   ]
  },
  {
   "attachments": {},
   "cell_type": "markdown",
   "metadata": {},
   "source": [
    "### Get Metrics summary as a dict:"
   ]
  },
  {
   "cell_type": "code",
   "execution_count": 16,
   "metadata": {},
   "outputs": [],
   "source": [
    "def get_metrics_summary(metrics_file:pd.DataFrame, ctrl_name: str)->dict:\n",
    "    return {\n",
    "    \"ctrl_name\": ctrl_name,\n",
    "    \"avg_beta_index\":metrics_file[\"Average Beta Index\"].mean(),\n",
    "    \"avg_isolated_pltf_integral_hj_naive\": metrics_file[\"Isolated_platform_metric\"].mean(),\n",
    "    \"avg_correction_from_opt_ctrl_deg\": metrics_file[\"Mean maximum correction from optimal control degrees\"].mean(),\n",
    "    \"avg_mean_min_dist_to_target_km\": Distance(deg=metrics_file[\"Mean minimum distance to target among all platforms in deg\"].mean()).km,\n",
    "    \"avg_nb_platfroms_reaching_target\": metrics_file[\"Reaching_target\"].mean(),\n",
    "    \"nb_missions_with_isolated_pltf\": np.sum(metrics_file[\"Isolated_platform_metric\"] > 0),\n",
    "    \"nb_missions_with_collisions\": np.sum(metrics_file[\"Number_of_collision\"] > 0),\n",
    "    \"nb_missions_success\": np.sum(metrics_file[\"Mission_success\"]==1),\n",
    "}"
   ]
  },
  {
   "attachments": {},
   "cell_type": "markdown",
   "metadata": {},
   "source": [
    "  + HJ Multi-Agent Naive"
   ]
  },
  {
   "cell_type": "code",
   "execution_count": 17,
   "metadata": {},
   "outputs": [
    {
     "name": "stdout",
     "output_type": "stream",
     "text": [
      "{'ctrl_name': 'hj_naive', 'avg_beta_index': 1.0869452149791954, 'avg_isolated_pltf_integral_hj_naive': 0.3262182346580157, 'avg_correction_from_opt_ctrl_deg': 0.0, 'avg_mean_min_dist_to_target_km': 0.5073981506901873, 'avg_nb_platfroms_reaching_target': 0.9657846715328468, 'nb_missions_with_isolated_pltf': 262, 'nb_missions_with_collisions': 217, 'nb_missions_success': 125}\n"
     ]
    }
   ],
   "source": [
    "metrics_summary_hj_naive = get_metrics_summary(metrics_hj_naive, ctrl_name=\"hj_naive\")\n",
    "print(metrics_summary_hj_naive)\n",
    "summary_hj_naive_df = pd.DataFrame(metrics_summary_hj_naive, index=[0])"
   ]
  },
  {
   "attachments": {},
   "cell_type": "markdown",
   "metadata": {},
   "source": [
    "+ HJ Multi-Agent Decentralized Reactive Control"
   ]
  },
  {
   "cell_type": "code",
   "execution_count": 18,
   "metadata": {},
   "outputs": [
    {
     "name": "stdout",
     "output_type": "stream",
     "text": [
      "{'ctrl_name': 'hj_reactive', 'avg_beta_index': 1.2194893548093182, 'avg_isolated_pltf_integral_hj_naive': 0.11054845904298458, 'avg_correction_from_opt_ctrl_deg': 25.713171998879574, 'avg_mean_min_dist_to_target_km': 0.6602556119650705, 'avg_nb_platfroms_reaching_target': 0.9197080291970803, 'nb_missions_with_isolated_pltf': 157, 'nb_missions_with_collisions': 7, 'nb_missions_success': 337}\n"
     ]
    }
   ],
   "source": [
    "metrics_summary_hj_reactive = get_metrics_summary(metrics_hj_reactive, ctrl_name='hj_reactive')\n",
    "print(metrics_summary_hj_reactive)\n",
    "summary_hj_naive_reactive = pd.DataFrame(metrics_summary_hj_reactive, index=[0])"
   ]
  },
  {
   "attachments": {},
   "cell_type": "markdown",
   "metadata": {},
   "source": [
    "+ HJ Multi-Agent Flocking"
   ]
  },
  {
   "cell_type": "code",
   "execution_count": 19,
   "metadata": {},
   "outputs": [
    {
     "name": "stdout",
     "output_type": "stream",
     "text": [
      "{'ctrl_name': 'hj_flocking', 'avg_beta_index': 1.4108503244682469, 'avg_isolated_pltf_integral_hj_naive': 0.009014260610975934, 'avg_correction_from_opt_ctrl_deg': 24.359400797473548, 'avg_mean_min_dist_to_target_km': 0.5833058160461944, 'avg_nb_platfroms_reaching_target': 0.9411496350364964, 'nb_missions_with_isolated_pltf': 51, 'nb_missions_with_collisions': 7, 'nb_missions_success': 435}\n"
     ]
    }
   ],
   "source": [
    "metrics_summary_hj_flocking = get_metrics_summary(metrics_hj_flocking, ctrl_name='hj_flocking')\n",
    "print(metrics_summary_hj_flocking)\n",
    "summary_hj_naive_flocking= pd.DataFrame(metrics_summary_hj_flocking, index=[0])"
   ]
  },
  {
   "attachments": {},
   "cell_type": "markdown",
   "metadata": {},
   "source": [
    "## Confusion Matrices Plots"
   ]
  },
  {
   "cell_type": "code",
   "execution_count": 20,
   "metadata": {},
   "outputs": [],
   "source": [
    "def plot_confusion_matrix(x, y, x_label, y_label, title_name:str):\n",
    "    import seaborn as sns\n",
    "    import matplotlib.pyplot as plt\n",
    "    from matplotlib.colors import LogNorm\n",
    "\n",
    "    confusion_matrix = pd.crosstab(x, y, rownames=[x_label], colnames=[y_label])\n",
    "    fig = px.imshow(confusion_matrix, text_auto=True)\n",
    "    fig.update_layout(\n",
    "        title = {'text': title_name}\n",
    "    )\n",
    "    fig.show()\n",
    "    # ax = sns.heatmap(confusion_matrix, annot=True, cmap=plt.cm.RdYlGn, square=True, fmt='g')\n",
    "    # # ax = sns.heatmap(confusion_matrix, annot=True, cmap=plt.cm.RdYlGn, square=True, norm=LogNorm(), fmt='g') # if heat map is in norm\n",
    "    # plt.tick_params(axis='both', which='major', labelbottom=False, bottom=False, top=True, labeltop=True)\n",
    "    # ax.xaxis.set_label_position('top')\n",
    "    # ax.plot\n",
    "    # plt.title(title_name)\n",
    "    # plt.show()\n",
    "    return fig"
   ]
  },
  {
   "attachments": {},
   "cell_type": "markdown",
   "metadata": {},
   "source": [
    "###  HJ naive vs Decentralized Reactive Control"
   ]
  },
  {
   "attachments": {},
   "cell_type": "markdown",
   "metadata": {},
   "source": [
    "+  Missions with collisions"
   ]
  },
  {
   "cell_type": "code",
   "execution_count": 21,
   "metadata": {},
   "outputs": [
    {
     "data": {
      "application/vnd.plotly.v1+json": {
       "config": {
        "plotlyServerURL": "https://plot.ly"
       },
       "data": [
        {
         "coloraxis": "coloraxis",
         "hovertemplate": "Multi-Agent HJ Reactive Control: %{x}<br>Multi-Agent HJ Naive: %{y}<br>color: %{z}<extra></extra>",
         "name": "0",
         "texttemplate": "%{z}",
         "type": "heatmap",
         "x": [
          false,
          true
         ],
         "xaxis": "x",
         "y": [
          false,
          true
         ],
         "yaxis": "y",
         "z": [
          [
           331,
           0
          ],
          [
           210,
           7
          ]
         ]
        }
       ],
       "layout": {
        "coloraxis": {
         "colorscale": [
          [
           0,
           "#0d0887"
          ],
          [
           0.1111111111111111,
           "#46039f"
          ],
          [
           0.2222222222222222,
           "#7201a8"
          ],
          [
           0.3333333333333333,
           "#9c179e"
          ],
          [
           0.4444444444444444,
           "#bd3786"
          ],
          [
           0.5555555555555556,
           "#d8576b"
          ],
          [
           0.6666666666666666,
           "#ed7953"
          ],
          [
           0.7777777777777778,
           "#fb9f3a"
          ],
          [
           0.8888888888888888,
           "#fdca26"
          ],
          [
           1,
           "#f0f921"
          ]
         ]
        },
        "margin": {
         "t": 60
        },
        "template": {
         "data": {
          "bar": [
           {
            "error_x": {
             "color": "#2a3f5f"
            },
            "error_y": {
             "color": "#2a3f5f"
            },
            "marker": {
             "line": {
              "color": "#E5ECF6",
              "width": 0.5
             },
             "pattern": {
              "fillmode": "overlay",
              "size": 10,
              "solidity": 0.2
             }
            },
            "type": "bar"
           }
          ],
          "barpolar": [
           {
            "marker": {
             "line": {
              "color": "#E5ECF6",
              "width": 0.5
             },
             "pattern": {
              "fillmode": "overlay",
              "size": 10,
              "solidity": 0.2
             }
            },
            "type": "barpolar"
           }
          ],
          "carpet": [
           {
            "aaxis": {
             "endlinecolor": "#2a3f5f",
             "gridcolor": "white",
             "linecolor": "white",
             "minorgridcolor": "white",
             "startlinecolor": "#2a3f5f"
            },
            "baxis": {
             "endlinecolor": "#2a3f5f",
             "gridcolor": "white",
             "linecolor": "white",
             "minorgridcolor": "white",
             "startlinecolor": "#2a3f5f"
            },
            "type": "carpet"
           }
          ],
          "choropleth": [
           {
            "colorbar": {
             "outlinewidth": 0,
             "ticks": ""
            },
            "type": "choropleth"
           }
          ],
          "contour": [
           {
            "colorbar": {
             "outlinewidth": 0,
             "ticks": ""
            },
            "colorscale": [
             [
              0,
              "#0d0887"
             ],
             [
              0.1111111111111111,
              "#46039f"
             ],
             [
              0.2222222222222222,
              "#7201a8"
             ],
             [
              0.3333333333333333,
              "#9c179e"
             ],
             [
              0.4444444444444444,
              "#bd3786"
             ],
             [
              0.5555555555555556,
              "#d8576b"
             ],
             [
              0.6666666666666666,
              "#ed7953"
             ],
             [
              0.7777777777777778,
              "#fb9f3a"
             ],
             [
              0.8888888888888888,
              "#fdca26"
             ],
             [
              1,
              "#f0f921"
             ]
            ],
            "type": "contour"
           }
          ],
          "contourcarpet": [
           {
            "colorbar": {
             "outlinewidth": 0,
             "ticks": ""
            },
            "type": "contourcarpet"
           }
          ],
          "heatmap": [
           {
            "colorbar": {
             "outlinewidth": 0,
             "ticks": ""
            },
            "colorscale": [
             [
              0,
              "#0d0887"
             ],
             [
              0.1111111111111111,
              "#46039f"
             ],
             [
              0.2222222222222222,
              "#7201a8"
             ],
             [
              0.3333333333333333,
              "#9c179e"
             ],
             [
              0.4444444444444444,
              "#bd3786"
             ],
             [
              0.5555555555555556,
              "#d8576b"
             ],
             [
              0.6666666666666666,
              "#ed7953"
             ],
             [
              0.7777777777777778,
              "#fb9f3a"
             ],
             [
              0.8888888888888888,
              "#fdca26"
             ],
             [
              1,
              "#f0f921"
             ]
            ],
            "type": "heatmap"
           }
          ],
          "heatmapgl": [
           {
            "colorbar": {
             "outlinewidth": 0,
             "ticks": ""
            },
            "colorscale": [
             [
              0,
              "#0d0887"
             ],
             [
              0.1111111111111111,
              "#46039f"
             ],
             [
              0.2222222222222222,
              "#7201a8"
             ],
             [
              0.3333333333333333,
              "#9c179e"
             ],
             [
              0.4444444444444444,
              "#bd3786"
             ],
             [
              0.5555555555555556,
              "#d8576b"
             ],
             [
              0.6666666666666666,
              "#ed7953"
             ],
             [
              0.7777777777777778,
              "#fb9f3a"
             ],
             [
              0.8888888888888888,
              "#fdca26"
             ],
             [
              1,
              "#f0f921"
             ]
            ],
            "type": "heatmapgl"
           }
          ],
          "histogram": [
           {
            "marker": {
             "pattern": {
              "fillmode": "overlay",
              "size": 10,
              "solidity": 0.2
             }
            },
            "type": "histogram"
           }
          ],
          "histogram2d": [
           {
            "colorbar": {
             "outlinewidth": 0,
             "ticks": ""
            },
            "colorscale": [
             [
              0,
              "#0d0887"
             ],
             [
              0.1111111111111111,
              "#46039f"
             ],
             [
              0.2222222222222222,
              "#7201a8"
             ],
             [
              0.3333333333333333,
              "#9c179e"
             ],
             [
              0.4444444444444444,
              "#bd3786"
             ],
             [
              0.5555555555555556,
              "#d8576b"
             ],
             [
              0.6666666666666666,
              "#ed7953"
             ],
             [
              0.7777777777777778,
              "#fb9f3a"
             ],
             [
              0.8888888888888888,
              "#fdca26"
             ],
             [
              1,
              "#f0f921"
             ]
            ],
            "type": "histogram2d"
           }
          ],
          "histogram2dcontour": [
           {
            "colorbar": {
             "outlinewidth": 0,
             "ticks": ""
            },
            "colorscale": [
             [
              0,
              "#0d0887"
             ],
             [
              0.1111111111111111,
              "#46039f"
             ],
             [
              0.2222222222222222,
              "#7201a8"
             ],
             [
              0.3333333333333333,
              "#9c179e"
             ],
             [
              0.4444444444444444,
              "#bd3786"
             ],
             [
              0.5555555555555556,
              "#d8576b"
             ],
             [
              0.6666666666666666,
              "#ed7953"
             ],
             [
              0.7777777777777778,
              "#fb9f3a"
             ],
             [
              0.8888888888888888,
              "#fdca26"
             ],
             [
              1,
              "#f0f921"
             ]
            ],
            "type": "histogram2dcontour"
           }
          ],
          "mesh3d": [
           {
            "colorbar": {
             "outlinewidth": 0,
             "ticks": ""
            },
            "type": "mesh3d"
           }
          ],
          "parcoords": [
           {
            "line": {
             "colorbar": {
              "outlinewidth": 0,
              "ticks": ""
             }
            },
            "type": "parcoords"
           }
          ],
          "pie": [
           {
            "automargin": true,
            "type": "pie"
           }
          ],
          "scatter": [
           {
            "fillpattern": {
             "fillmode": "overlay",
             "size": 10,
             "solidity": 0.2
            },
            "type": "scatter"
           }
          ],
          "scatter3d": [
           {
            "line": {
             "colorbar": {
              "outlinewidth": 0,
              "ticks": ""
             }
            },
            "marker": {
             "colorbar": {
              "outlinewidth": 0,
              "ticks": ""
             }
            },
            "type": "scatter3d"
           }
          ],
          "scattercarpet": [
           {
            "marker": {
             "colorbar": {
              "outlinewidth": 0,
              "ticks": ""
             }
            },
            "type": "scattercarpet"
           }
          ],
          "scattergeo": [
           {
            "marker": {
             "colorbar": {
              "outlinewidth": 0,
              "ticks": ""
             }
            },
            "type": "scattergeo"
           }
          ],
          "scattergl": [
           {
            "marker": {
             "colorbar": {
              "outlinewidth": 0,
              "ticks": ""
             }
            },
            "type": "scattergl"
           }
          ],
          "scattermapbox": [
           {
            "marker": {
             "colorbar": {
              "outlinewidth": 0,
              "ticks": ""
             }
            },
            "type": "scattermapbox"
           }
          ],
          "scatterpolar": [
           {
            "marker": {
             "colorbar": {
              "outlinewidth": 0,
              "ticks": ""
             }
            },
            "type": "scatterpolar"
           }
          ],
          "scatterpolargl": [
           {
            "marker": {
             "colorbar": {
              "outlinewidth": 0,
              "ticks": ""
             }
            },
            "type": "scatterpolargl"
           }
          ],
          "scatterternary": [
           {
            "marker": {
             "colorbar": {
              "outlinewidth": 0,
              "ticks": ""
             }
            },
            "type": "scatterternary"
           }
          ],
          "surface": [
           {
            "colorbar": {
             "outlinewidth": 0,
             "ticks": ""
            },
            "colorscale": [
             [
              0,
              "#0d0887"
             ],
             [
              0.1111111111111111,
              "#46039f"
             ],
             [
              0.2222222222222222,
              "#7201a8"
             ],
             [
              0.3333333333333333,
              "#9c179e"
             ],
             [
              0.4444444444444444,
              "#bd3786"
             ],
             [
              0.5555555555555556,
              "#d8576b"
             ],
             [
              0.6666666666666666,
              "#ed7953"
             ],
             [
              0.7777777777777778,
              "#fb9f3a"
             ],
             [
              0.8888888888888888,
              "#fdca26"
             ],
             [
              1,
              "#f0f921"
             ]
            ],
            "type": "surface"
           }
          ],
          "table": [
           {
            "cells": {
             "fill": {
              "color": "#EBF0F8"
             },
             "line": {
              "color": "white"
             }
            },
            "header": {
             "fill": {
              "color": "#C8D4E3"
             },
             "line": {
              "color": "white"
             }
            },
            "type": "table"
           }
          ]
         },
         "layout": {
          "annotationdefaults": {
           "arrowcolor": "#2a3f5f",
           "arrowhead": 0,
           "arrowwidth": 1
          },
          "autotypenumbers": "strict",
          "coloraxis": {
           "colorbar": {
            "outlinewidth": 0,
            "ticks": ""
           }
          },
          "colorscale": {
           "diverging": [
            [
             0,
             "#8e0152"
            ],
            [
             0.1,
             "#c51b7d"
            ],
            [
             0.2,
             "#de77ae"
            ],
            [
             0.3,
             "#f1b6da"
            ],
            [
             0.4,
             "#fde0ef"
            ],
            [
             0.5,
             "#f7f7f7"
            ],
            [
             0.6,
             "#e6f5d0"
            ],
            [
             0.7,
             "#b8e186"
            ],
            [
             0.8,
             "#7fbc41"
            ],
            [
             0.9,
             "#4d9221"
            ],
            [
             1,
             "#276419"
            ]
           ],
           "sequential": [
            [
             0,
             "#0d0887"
            ],
            [
             0.1111111111111111,
             "#46039f"
            ],
            [
             0.2222222222222222,
             "#7201a8"
            ],
            [
             0.3333333333333333,
             "#9c179e"
            ],
            [
             0.4444444444444444,
             "#bd3786"
            ],
            [
             0.5555555555555556,
             "#d8576b"
            ],
            [
             0.6666666666666666,
             "#ed7953"
            ],
            [
             0.7777777777777778,
             "#fb9f3a"
            ],
            [
             0.8888888888888888,
             "#fdca26"
            ],
            [
             1,
             "#f0f921"
            ]
           ],
           "sequentialminus": [
            [
             0,
             "#0d0887"
            ],
            [
             0.1111111111111111,
             "#46039f"
            ],
            [
             0.2222222222222222,
             "#7201a8"
            ],
            [
             0.3333333333333333,
             "#9c179e"
            ],
            [
             0.4444444444444444,
             "#bd3786"
            ],
            [
             0.5555555555555556,
             "#d8576b"
            ],
            [
             0.6666666666666666,
             "#ed7953"
            ],
            [
             0.7777777777777778,
             "#fb9f3a"
            ],
            [
             0.8888888888888888,
             "#fdca26"
            ],
            [
             1,
             "#f0f921"
            ]
           ]
          },
          "colorway": [
           "#636efa",
           "#EF553B",
           "#00cc96",
           "#ab63fa",
           "#FFA15A",
           "#19d3f3",
           "#FF6692",
           "#B6E880",
           "#FF97FF",
           "#FECB52"
          ],
          "font": {
           "color": "#2a3f5f"
          },
          "geo": {
           "bgcolor": "white",
           "lakecolor": "white",
           "landcolor": "#E5ECF6",
           "showlakes": true,
           "showland": true,
           "subunitcolor": "white"
          },
          "hoverlabel": {
           "align": "left"
          },
          "hovermode": "closest",
          "mapbox": {
           "style": "light"
          },
          "paper_bgcolor": "white",
          "plot_bgcolor": "#E5ECF6",
          "polar": {
           "angularaxis": {
            "gridcolor": "white",
            "linecolor": "white",
            "ticks": ""
           },
           "bgcolor": "#E5ECF6",
           "radialaxis": {
            "gridcolor": "white",
            "linecolor": "white",
            "ticks": ""
           }
          },
          "scene": {
           "xaxis": {
            "backgroundcolor": "#E5ECF6",
            "gridcolor": "white",
            "gridwidth": 2,
            "linecolor": "white",
            "showbackground": true,
            "ticks": "",
            "zerolinecolor": "white"
           },
           "yaxis": {
            "backgroundcolor": "#E5ECF6",
            "gridcolor": "white",
            "gridwidth": 2,
            "linecolor": "white",
            "showbackground": true,
            "ticks": "",
            "zerolinecolor": "white"
           },
           "zaxis": {
            "backgroundcolor": "#E5ECF6",
            "gridcolor": "white",
            "gridwidth": 2,
            "linecolor": "white",
            "showbackground": true,
            "ticks": "",
            "zerolinecolor": "white"
           }
          },
          "shapedefaults": {
           "line": {
            "color": "#2a3f5f"
           }
          },
          "ternary": {
           "aaxis": {
            "gridcolor": "white",
            "linecolor": "white",
            "ticks": ""
           },
           "baxis": {
            "gridcolor": "white",
            "linecolor": "white",
            "ticks": ""
           },
           "bgcolor": "#E5ECF6",
           "caxis": {
            "gridcolor": "white",
            "linecolor": "white",
            "ticks": ""
           }
          },
          "title": {
           "x": 0.05
          },
          "xaxis": {
           "automargin": true,
           "gridcolor": "white",
           "linecolor": "white",
           "ticks": "",
           "title": {
            "standoff": 15
           },
           "zerolinecolor": "white",
           "zerolinewidth": 2
          },
          "yaxis": {
           "automargin": true,
           "gridcolor": "white",
           "linecolor": "white",
           "ticks": "",
           "title": {
            "standoff": 15
           },
           "zerolinecolor": "white",
           "zerolinewidth": 2
          }
         }
        },
        "title": {
         "text": "Missions with collisions"
        },
        "xaxis": {
         "anchor": "y",
         "constrain": "domain",
         "domain": [
          0,
          1
         ],
         "scaleanchor": "y",
         "title": {
          "text": "Multi-Agent HJ Reactive Control"
         }
        },
        "yaxis": {
         "anchor": "x",
         "autorange": "reversed",
         "constrain": "domain",
         "domain": [
          0,
          1
         ],
         "title": {
          "text": "Multi-Agent HJ Naive"
         }
        }
       }
      },
      "text/html": [
       "<div>                            <div id=\"2726cefe-7282-45eb-9504-28a94b292274\" class=\"plotly-graph-div\" style=\"height:525px; width:100%;\"></div>            <script type=\"text/javascript\">                require([\"plotly\"], function(Plotly) {                    window.PLOTLYENV=window.PLOTLYENV || {};                                    if (document.getElementById(\"2726cefe-7282-45eb-9504-28a94b292274\")) {                    Plotly.newPlot(                        \"2726cefe-7282-45eb-9504-28a94b292274\",                        [{\"coloraxis\":\"coloraxis\",\"name\":\"0\",\"texttemplate\":\"%{z}\",\"x\":[false,true],\"y\":[false,true],\"z\":[[331,0],[210,7]],\"type\":\"heatmap\",\"xaxis\":\"x\",\"yaxis\":\"y\",\"hovertemplate\":\"Multi-Agent HJ Reactive Control: %{x}<br>Multi-Agent HJ Naive: %{y}<br>color: %{z}<extra></extra>\"}],                        {\"template\":{\"data\":{\"histogram2dcontour\":[{\"type\":\"histogram2dcontour\",\"colorbar\":{\"outlinewidth\":0,\"ticks\":\"\"},\"colorscale\":[[0.0,\"#0d0887\"],[0.1111111111111111,\"#46039f\"],[0.2222222222222222,\"#7201a8\"],[0.3333333333333333,\"#9c179e\"],[0.4444444444444444,\"#bd3786\"],[0.5555555555555556,\"#d8576b\"],[0.6666666666666666,\"#ed7953\"],[0.7777777777777778,\"#fb9f3a\"],[0.8888888888888888,\"#fdca26\"],[1.0,\"#f0f921\"]]}],\"choropleth\":[{\"type\":\"choropleth\",\"colorbar\":{\"outlinewidth\":0,\"ticks\":\"\"}}],\"histogram2d\":[{\"type\":\"histogram2d\",\"colorbar\":{\"outlinewidth\":0,\"ticks\":\"\"},\"colorscale\":[[0.0,\"#0d0887\"],[0.1111111111111111,\"#46039f\"],[0.2222222222222222,\"#7201a8\"],[0.3333333333333333,\"#9c179e\"],[0.4444444444444444,\"#bd3786\"],[0.5555555555555556,\"#d8576b\"],[0.6666666666666666,\"#ed7953\"],[0.7777777777777778,\"#fb9f3a\"],[0.8888888888888888,\"#fdca26\"],[1.0,\"#f0f921\"]]}],\"heatmap\":[{\"type\":\"heatmap\",\"colorbar\":{\"outlinewidth\":0,\"ticks\":\"\"},\"colorscale\":[[0.0,\"#0d0887\"],[0.1111111111111111,\"#46039f\"],[0.2222222222222222,\"#7201a8\"],[0.3333333333333333,\"#9c179e\"],[0.4444444444444444,\"#bd3786\"],[0.5555555555555556,\"#d8576b\"],[0.6666666666666666,\"#ed7953\"],[0.7777777777777778,\"#fb9f3a\"],[0.8888888888888888,\"#fdca26\"],[1.0,\"#f0f921\"]]}],\"heatmapgl\":[{\"type\":\"heatmapgl\",\"colorbar\":{\"outlinewidth\":0,\"ticks\":\"\"},\"colorscale\":[[0.0,\"#0d0887\"],[0.1111111111111111,\"#46039f\"],[0.2222222222222222,\"#7201a8\"],[0.3333333333333333,\"#9c179e\"],[0.4444444444444444,\"#bd3786\"],[0.5555555555555556,\"#d8576b\"],[0.6666666666666666,\"#ed7953\"],[0.7777777777777778,\"#fb9f3a\"],[0.8888888888888888,\"#fdca26\"],[1.0,\"#f0f921\"]]}],\"contourcarpet\":[{\"type\":\"contourcarpet\",\"colorbar\":{\"outlinewidth\":0,\"ticks\":\"\"}}],\"contour\":[{\"type\":\"contour\",\"colorbar\":{\"outlinewidth\":0,\"ticks\":\"\"},\"colorscale\":[[0.0,\"#0d0887\"],[0.1111111111111111,\"#46039f\"],[0.2222222222222222,\"#7201a8\"],[0.3333333333333333,\"#9c179e\"],[0.4444444444444444,\"#bd3786\"],[0.5555555555555556,\"#d8576b\"],[0.6666666666666666,\"#ed7953\"],[0.7777777777777778,\"#fb9f3a\"],[0.8888888888888888,\"#fdca26\"],[1.0,\"#f0f921\"]]}],\"surface\":[{\"type\":\"surface\",\"colorbar\":{\"outlinewidth\":0,\"ticks\":\"\"},\"colorscale\":[[0.0,\"#0d0887\"],[0.1111111111111111,\"#46039f\"],[0.2222222222222222,\"#7201a8\"],[0.3333333333333333,\"#9c179e\"],[0.4444444444444444,\"#bd3786\"],[0.5555555555555556,\"#d8576b\"],[0.6666666666666666,\"#ed7953\"],[0.7777777777777778,\"#fb9f3a\"],[0.8888888888888888,\"#fdca26\"],[1.0,\"#f0f921\"]]}],\"mesh3d\":[{\"type\":\"mesh3d\",\"colorbar\":{\"outlinewidth\":0,\"ticks\":\"\"}}],\"scatter\":[{\"fillpattern\":{\"fillmode\":\"overlay\",\"size\":10,\"solidity\":0.2},\"type\":\"scatter\"}],\"parcoords\":[{\"type\":\"parcoords\",\"line\":{\"colorbar\":{\"outlinewidth\":0,\"ticks\":\"\"}}}],\"scatterpolargl\":[{\"type\":\"scatterpolargl\",\"marker\":{\"colorbar\":{\"outlinewidth\":0,\"ticks\":\"\"}}}],\"bar\":[{\"error_x\":{\"color\":\"#2a3f5f\"},\"error_y\":{\"color\":\"#2a3f5f\"},\"marker\":{\"line\":{\"color\":\"#E5ECF6\",\"width\":0.5},\"pattern\":{\"fillmode\":\"overlay\",\"size\":10,\"solidity\":0.2}},\"type\":\"bar\"}],\"scattergeo\":[{\"type\":\"scattergeo\",\"marker\":{\"colorbar\":{\"outlinewidth\":0,\"ticks\":\"\"}}}],\"scatterpolar\":[{\"type\":\"scatterpolar\",\"marker\":{\"colorbar\":{\"outlinewidth\":0,\"ticks\":\"\"}}}],\"histogram\":[{\"marker\":{\"pattern\":{\"fillmode\":\"overlay\",\"size\":10,\"solidity\":0.2}},\"type\":\"histogram\"}],\"scattergl\":[{\"type\":\"scattergl\",\"marker\":{\"colorbar\":{\"outlinewidth\":0,\"ticks\":\"\"}}}],\"scatter3d\":[{\"type\":\"scatter3d\",\"line\":{\"colorbar\":{\"outlinewidth\":0,\"ticks\":\"\"}},\"marker\":{\"colorbar\":{\"outlinewidth\":0,\"ticks\":\"\"}}}],\"scattermapbox\":[{\"type\":\"scattermapbox\",\"marker\":{\"colorbar\":{\"outlinewidth\":0,\"ticks\":\"\"}}}],\"scatterternary\":[{\"type\":\"scatterternary\",\"marker\":{\"colorbar\":{\"outlinewidth\":0,\"ticks\":\"\"}}}],\"scattercarpet\":[{\"type\":\"scattercarpet\",\"marker\":{\"colorbar\":{\"outlinewidth\":0,\"ticks\":\"\"}}}],\"carpet\":[{\"aaxis\":{\"endlinecolor\":\"#2a3f5f\",\"gridcolor\":\"white\",\"linecolor\":\"white\",\"minorgridcolor\":\"white\",\"startlinecolor\":\"#2a3f5f\"},\"baxis\":{\"endlinecolor\":\"#2a3f5f\",\"gridcolor\":\"white\",\"linecolor\":\"white\",\"minorgridcolor\":\"white\",\"startlinecolor\":\"#2a3f5f\"},\"type\":\"carpet\"}],\"table\":[{\"cells\":{\"fill\":{\"color\":\"#EBF0F8\"},\"line\":{\"color\":\"white\"}},\"header\":{\"fill\":{\"color\":\"#C8D4E3\"},\"line\":{\"color\":\"white\"}},\"type\":\"table\"}],\"barpolar\":[{\"marker\":{\"line\":{\"color\":\"#E5ECF6\",\"width\":0.5},\"pattern\":{\"fillmode\":\"overlay\",\"size\":10,\"solidity\":0.2}},\"type\":\"barpolar\"}],\"pie\":[{\"automargin\":true,\"type\":\"pie\"}]},\"layout\":{\"autotypenumbers\":\"strict\",\"colorway\":[\"#636efa\",\"#EF553B\",\"#00cc96\",\"#ab63fa\",\"#FFA15A\",\"#19d3f3\",\"#FF6692\",\"#B6E880\",\"#FF97FF\",\"#FECB52\"],\"font\":{\"color\":\"#2a3f5f\"},\"hovermode\":\"closest\",\"hoverlabel\":{\"align\":\"left\"},\"paper_bgcolor\":\"white\",\"plot_bgcolor\":\"#E5ECF6\",\"polar\":{\"bgcolor\":\"#E5ECF6\",\"angularaxis\":{\"gridcolor\":\"white\",\"linecolor\":\"white\",\"ticks\":\"\"},\"radialaxis\":{\"gridcolor\":\"white\",\"linecolor\":\"white\",\"ticks\":\"\"}},\"ternary\":{\"bgcolor\":\"#E5ECF6\",\"aaxis\":{\"gridcolor\":\"white\",\"linecolor\":\"white\",\"ticks\":\"\"},\"baxis\":{\"gridcolor\":\"white\",\"linecolor\":\"white\",\"ticks\":\"\"},\"caxis\":{\"gridcolor\":\"white\",\"linecolor\":\"white\",\"ticks\":\"\"}},\"coloraxis\":{\"colorbar\":{\"outlinewidth\":0,\"ticks\":\"\"}},\"colorscale\":{\"sequential\":[[0.0,\"#0d0887\"],[0.1111111111111111,\"#46039f\"],[0.2222222222222222,\"#7201a8\"],[0.3333333333333333,\"#9c179e\"],[0.4444444444444444,\"#bd3786\"],[0.5555555555555556,\"#d8576b\"],[0.6666666666666666,\"#ed7953\"],[0.7777777777777778,\"#fb9f3a\"],[0.8888888888888888,\"#fdca26\"],[1.0,\"#f0f921\"]],\"sequentialminus\":[[0.0,\"#0d0887\"],[0.1111111111111111,\"#46039f\"],[0.2222222222222222,\"#7201a8\"],[0.3333333333333333,\"#9c179e\"],[0.4444444444444444,\"#bd3786\"],[0.5555555555555556,\"#d8576b\"],[0.6666666666666666,\"#ed7953\"],[0.7777777777777778,\"#fb9f3a\"],[0.8888888888888888,\"#fdca26\"],[1.0,\"#f0f921\"]],\"diverging\":[[0,\"#8e0152\"],[0.1,\"#c51b7d\"],[0.2,\"#de77ae\"],[0.3,\"#f1b6da\"],[0.4,\"#fde0ef\"],[0.5,\"#f7f7f7\"],[0.6,\"#e6f5d0\"],[0.7,\"#b8e186\"],[0.8,\"#7fbc41\"],[0.9,\"#4d9221\"],[1,\"#276419\"]]},\"xaxis\":{\"gridcolor\":\"white\",\"linecolor\":\"white\",\"ticks\":\"\",\"title\":{\"standoff\":15},\"zerolinecolor\":\"white\",\"automargin\":true,\"zerolinewidth\":2},\"yaxis\":{\"gridcolor\":\"white\",\"linecolor\":\"white\",\"ticks\":\"\",\"title\":{\"standoff\":15},\"zerolinecolor\":\"white\",\"automargin\":true,\"zerolinewidth\":2},\"scene\":{\"xaxis\":{\"backgroundcolor\":\"#E5ECF6\",\"gridcolor\":\"white\",\"linecolor\":\"white\",\"showbackground\":true,\"ticks\":\"\",\"zerolinecolor\":\"white\",\"gridwidth\":2},\"yaxis\":{\"backgroundcolor\":\"#E5ECF6\",\"gridcolor\":\"white\",\"linecolor\":\"white\",\"showbackground\":true,\"ticks\":\"\",\"zerolinecolor\":\"white\",\"gridwidth\":2},\"zaxis\":{\"backgroundcolor\":\"#E5ECF6\",\"gridcolor\":\"white\",\"linecolor\":\"white\",\"showbackground\":true,\"ticks\":\"\",\"zerolinecolor\":\"white\",\"gridwidth\":2}},\"shapedefaults\":{\"line\":{\"color\":\"#2a3f5f\"}},\"annotationdefaults\":{\"arrowcolor\":\"#2a3f5f\",\"arrowhead\":0,\"arrowwidth\":1},\"geo\":{\"bgcolor\":\"white\",\"landcolor\":\"#E5ECF6\",\"subunitcolor\":\"white\",\"showland\":true,\"showlakes\":true,\"lakecolor\":\"white\"},\"title\":{\"x\":0.05},\"mapbox\":{\"style\":\"light\"}}},\"xaxis\":{\"anchor\":\"y\",\"domain\":[0.0,1.0],\"scaleanchor\":\"y\",\"constrain\":\"domain\",\"title\":{\"text\":\"Multi-Agent HJ Reactive Control\"}},\"yaxis\":{\"anchor\":\"x\",\"domain\":[0.0,1.0],\"autorange\":\"reversed\",\"constrain\":\"domain\",\"title\":{\"text\":\"Multi-Agent HJ Naive\"}},\"coloraxis\":{\"colorscale\":[[0.0,\"#0d0887\"],[0.1111111111111111,\"#46039f\"],[0.2222222222222222,\"#7201a8\"],[0.3333333333333333,\"#9c179e\"],[0.4444444444444444,\"#bd3786\"],[0.5555555555555556,\"#d8576b\"],[0.6666666666666666,\"#ed7953\"],[0.7777777777777778,\"#fb9f3a\"],[0.8888888888888888,\"#fdca26\"],[1.0,\"#f0f921\"]]},\"margin\":{\"t\":60},\"title\":{\"text\":\"Missions with collisions\"}},                        {\"responsive\": true}                    ).then(function(){\n",
       "                            \n",
       "var gd = document.getElementById('2726cefe-7282-45eb-9504-28a94b292274');\n",
       "var x = new MutationObserver(function (mutations, observer) {{\n",
       "        var display = window.getComputedStyle(gd).display;\n",
       "        if (!display || display === 'none') {{\n",
       "            console.log([gd, 'removed!']);\n",
       "            Plotly.purge(gd);\n",
       "            observer.disconnect();\n",
       "        }}\n",
       "}});\n",
       "\n",
       "// Listen for the removal of the full notebook cells\n",
       "var notebookContainer = gd.closest('#notebook-container');\n",
       "if (notebookContainer) {{\n",
       "    x.observe(notebookContainer, {childList: true});\n",
       "}}\n",
       "\n",
       "// Listen for the clearing of the current output cell\n",
       "var outputEl = gd.closest('.output');\n",
       "if (outputEl) {{\n",
       "    x.observe(outputEl, {childList: true});\n",
       "}}\n",
       "\n",
       "                        })                };                });            </script>        </div>"
      ]
     },
     "metadata": {},
     "output_type": "display_data"
    }
   ],
   "source": [
    "fig_conf_react_coll = plot_confusion_matrix(metrics_hj_naive[\"Number_of_collision\"]>0, \n",
    "                        metrics_hj_reactive[\"Number_of_collision\"]>0, 'Multi-Agent HJ Naive', \n",
    "                        'Multi-Agent HJ Reactive Control', title_name=\"Missions with collisions\")"
   ]
  },
  {
   "attachments": {},
   "cell_type": "markdown",
   "metadata": {},
   "source": [
    "+ Missions with communication losses"
   ]
  },
  {
   "cell_type": "code",
   "execution_count": 22,
   "metadata": {},
   "outputs": [
    {
     "data": {
      "application/vnd.plotly.v1+json": {
       "config": {
        "plotlyServerURL": "https://plot.ly"
       },
       "data": [
        {
         "coloraxis": "coloraxis",
         "hovertemplate": "Multi-Agent HJ Reactive Control: %{x}<br>Multi-Agent HJ Naive: %{y}<br>color: %{z}<extra></extra>",
         "name": "0",
         "texttemplate": "%{z}",
         "type": "heatmap",
         "x": [
          false,
          true
         ],
         "xaxis": "x",
         "y": [
          false,
          true
         ],
         "yaxis": "y",
         "z": [
          [
           281,
           5
          ],
          [
           110,
           152
          ]
         ]
        }
       ],
       "layout": {
        "coloraxis": {
         "colorscale": [
          [
           0,
           "#0d0887"
          ],
          [
           0.1111111111111111,
           "#46039f"
          ],
          [
           0.2222222222222222,
           "#7201a8"
          ],
          [
           0.3333333333333333,
           "#9c179e"
          ],
          [
           0.4444444444444444,
           "#bd3786"
          ],
          [
           0.5555555555555556,
           "#d8576b"
          ],
          [
           0.6666666666666666,
           "#ed7953"
          ],
          [
           0.7777777777777778,
           "#fb9f3a"
          ],
          [
           0.8888888888888888,
           "#fdca26"
          ],
          [
           1,
           "#f0f921"
          ]
         ]
        },
        "margin": {
         "t": 60
        },
        "template": {
         "data": {
          "bar": [
           {
            "error_x": {
             "color": "#2a3f5f"
            },
            "error_y": {
             "color": "#2a3f5f"
            },
            "marker": {
             "line": {
              "color": "#E5ECF6",
              "width": 0.5
             },
             "pattern": {
              "fillmode": "overlay",
              "size": 10,
              "solidity": 0.2
             }
            },
            "type": "bar"
           }
          ],
          "barpolar": [
           {
            "marker": {
             "line": {
              "color": "#E5ECF6",
              "width": 0.5
             },
             "pattern": {
              "fillmode": "overlay",
              "size": 10,
              "solidity": 0.2
             }
            },
            "type": "barpolar"
           }
          ],
          "carpet": [
           {
            "aaxis": {
             "endlinecolor": "#2a3f5f",
             "gridcolor": "white",
             "linecolor": "white",
             "minorgridcolor": "white",
             "startlinecolor": "#2a3f5f"
            },
            "baxis": {
             "endlinecolor": "#2a3f5f",
             "gridcolor": "white",
             "linecolor": "white",
             "minorgridcolor": "white",
             "startlinecolor": "#2a3f5f"
            },
            "type": "carpet"
           }
          ],
          "choropleth": [
           {
            "colorbar": {
             "outlinewidth": 0,
             "ticks": ""
            },
            "type": "choropleth"
           }
          ],
          "contour": [
           {
            "colorbar": {
             "outlinewidth": 0,
             "ticks": ""
            },
            "colorscale": [
             [
              0,
              "#0d0887"
             ],
             [
              0.1111111111111111,
              "#46039f"
             ],
             [
              0.2222222222222222,
              "#7201a8"
             ],
             [
              0.3333333333333333,
              "#9c179e"
             ],
             [
              0.4444444444444444,
              "#bd3786"
             ],
             [
              0.5555555555555556,
              "#d8576b"
             ],
             [
              0.6666666666666666,
              "#ed7953"
             ],
             [
              0.7777777777777778,
              "#fb9f3a"
             ],
             [
              0.8888888888888888,
              "#fdca26"
             ],
             [
              1,
              "#f0f921"
             ]
            ],
            "type": "contour"
           }
          ],
          "contourcarpet": [
           {
            "colorbar": {
             "outlinewidth": 0,
             "ticks": ""
            },
            "type": "contourcarpet"
           }
          ],
          "heatmap": [
           {
            "colorbar": {
             "outlinewidth": 0,
             "ticks": ""
            },
            "colorscale": [
             [
              0,
              "#0d0887"
             ],
             [
              0.1111111111111111,
              "#46039f"
             ],
             [
              0.2222222222222222,
              "#7201a8"
             ],
             [
              0.3333333333333333,
              "#9c179e"
             ],
             [
              0.4444444444444444,
              "#bd3786"
             ],
             [
              0.5555555555555556,
              "#d8576b"
             ],
             [
              0.6666666666666666,
              "#ed7953"
             ],
             [
              0.7777777777777778,
              "#fb9f3a"
             ],
             [
              0.8888888888888888,
              "#fdca26"
             ],
             [
              1,
              "#f0f921"
             ]
            ],
            "type": "heatmap"
           }
          ],
          "heatmapgl": [
           {
            "colorbar": {
             "outlinewidth": 0,
             "ticks": ""
            },
            "colorscale": [
             [
              0,
              "#0d0887"
             ],
             [
              0.1111111111111111,
              "#46039f"
             ],
             [
              0.2222222222222222,
              "#7201a8"
             ],
             [
              0.3333333333333333,
              "#9c179e"
             ],
             [
              0.4444444444444444,
              "#bd3786"
             ],
             [
              0.5555555555555556,
              "#d8576b"
             ],
             [
              0.6666666666666666,
              "#ed7953"
             ],
             [
              0.7777777777777778,
              "#fb9f3a"
             ],
             [
              0.8888888888888888,
              "#fdca26"
             ],
             [
              1,
              "#f0f921"
             ]
            ],
            "type": "heatmapgl"
           }
          ],
          "histogram": [
           {
            "marker": {
             "pattern": {
              "fillmode": "overlay",
              "size": 10,
              "solidity": 0.2
             }
            },
            "type": "histogram"
           }
          ],
          "histogram2d": [
           {
            "colorbar": {
             "outlinewidth": 0,
             "ticks": ""
            },
            "colorscale": [
             [
              0,
              "#0d0887"
             ],
             [
              0.1111111111111111,
              "#46039f"
             ],
             [
              0.2222222222222222,
              "#7201a8"
             ],
             [
              0.3333333333333333,
              "#9c179e"
             ],
             [
              0.4444444444444444,
              "#bd3786"
             ],
             [
              0.5555555555555556,
              "#d8576b"
             ],
             [
              0.6666666666666666,
              "#ed7953"
             ],
             [
              0.7777777777777778,
              "#fb9f3a"
             ],
             [
              0.8888888888888888,
              "#fdca26"
             ],
             [
              1,
              "#f0f921"
             ]
            ],
            "type": "histogram2d"
           }
          ],
          "histogram2dcontour": [
           {
            "colorbar": {
             "outlinewidth": 0,
             "ticks": ""
            },
            "colorscale": [
             [
              0,
              "#0d0887"
             ],
             [
              0.1111111111111111,
              "#46039f"
             ],
             [
              0.2222222222222222,
              "#7201a8"
             ],
             [
              0.3333333333333333,
              "#9c179e"
             ],
             [
              0.4444444444444444,
              "#bd3786"
             ],
             [
              0.5555555555555556,
              "#d8576b"
             ],
             [
              0.6666666666666666,
              "#ed7953"
             ],
             [
              0.7777777777777778,
              "#fb9f3a"
             ],
             [
              0.8888888888888888,
              "#fdca26"
             ],
             [
              1,
              "#f0f921"
             ]
            ],
            "type": "histogram2dcontour"
           }
          ],
          "mesh3d": [
           {
            "colorbar": {
             "outlinewidth": 0,
             "ticks": ""
            },
            "type": "mesh3d"
           }
          ],
          "parcoords": [
           {
            "line": {
             "colorbar": {
              "outlinewidth": 0,
              "ticks": ""
             }
            },
            "type": "parcoords"
           }
          ],
          "pie": [
           {
            "automargin": true,
            "type": "pie"
           }
          ],
          "scatter": [
           {
            "fillpattern": {
             "fillmode": "overlay",
             "size": 10,
             "solidity": 0.2
            },
            "type": "scatter"
           }
          ],
          "scatter3d": [
           {
            "line": {
             "colorbar": {
              "outlinewidth": 0,
              "ticks": ""
             }
            },
            "marker": {
             "colorbar": {
              "outlinewidth": 0,
              "ticks": ""
             }
            },
            "type": "scatter3d"
           }
          ],
          "scattercarpet": [
           {
            "marker": {
             "colorbar": {
              "outlinewidth": 0,
              "ticks": ""
             }
            },
            "type": "scattercarpet"
           }
          ],
          "scattergeo": [
           {
            "marker": {
             "colorbar": {
              "outlinewidth": 0,
              "ticks": ""
             }
            },
            "type": "scattergeo"
           }
          ],
          "scattergl": [
           {
            "marker": {
             "colorbar": {
              "outlinewidth": 0,
              "ticks": ""
             }
            },
            "type": "scattergl"
           }
          ],
          "scattermapbox": [
           {
            "marker": {
             "colorbar": {
              "outlinewidth": 0,
              "ticks": ""
             }
            },
            "type": "scattermapbox"
           }
          ],
          "scatterpolar": [
           {
            "marker": {
             "colorbar": {
              "outlinewidth": 0,
              "ticks": ""
             }
            },
            "type": "scatterpolar"
           }
          ],
          "scatterpolargl": [
           {
            "marker": {
             "colorbar": {
              "outlinewidth": 0,
              "ticks": ""
             }
            },
            "type": "scatterpolargl"
           }
          ],
          "scatterternary": [
           {
            "marker": {
             "colorbar": {
              "outlinewidth": 0,
              "ticks": ""
             }
            },
            "type": "scatterternary"
           }
          ],
          "surface": [
           {
            "colorbar": {
             "outlinewidth": 0,
             "ticks": ""
            },
            "colorscale": [
             [
              0,
              "#0d0887"
             ],
             [
              0.1111111111111111,
              "#46039f"
             ],
             [
              0.2222222222222222,
              "#7201a8"
             ],
             [
              0.3333333333333333,
              "#9c179e"
             ],
             [
              0.4444444444444444,
              "#bd3786"
             ],
             [
              0.5555555555555556,
              "#d8576b"
             ],
             [
              0.6666666666666666,
              "#ed7953"
             ],
             [
              0.7777777777777778,
              "#fb9f3a"
             ],
             [
              0.8888888888888888,
              "#fdca26"
             ],
             [
              1,
              "#f0f921"
             ]
            ],
            "type": "surface"
           }
          ],
          "table": [
           {
            "cells": {
             "fill": {
              "color": "#EBF0F8"
             },
             "line": {
              "color": "white"
             }
            },
            "header": {
             "fill": {
              "color": "#C8D4E3"
             },
             "line": {
              "color": "white"
             }
            },
            "type": "table"
           }
          ]
         },
         "layout": {
          "annotationdefaults": {
           "arrowcolor": "#2a3f5f",
           "arrowhead": 0,
           "arrowwidth": 1
          },
          "autotypenumbers": "strict",
          "coloraxis": {
           "colorbar": {
            "outlinewidth": 0,
            "ticks": ""
           }
          },
          "colorscale": {
           "diverging": [
            [
             0,
             "#8e0152"
            ],
            [
             0.1,
             "#c51b7d"
            ],
            [
             0.2,
             "#de77ae"
            ],
            [
             0.3,
             "#f1b6da"
            ],
            [
             0.4,
             "#fde0ef"
            ],
            [
             0.5,
             "#f7f7f7"
            ],
            [
             0.6,
             "#e6f5d0"
            ],
            [
             0.7,
             "#b8e186"
            ],
            [
             0.8,
             "#7fbc41"
            ],
            [
             0.9,
             "#4d9221"
            ],
            [
             1,
             "#276419"
            ]
           ],
           "sequential": [
            [
             0,
             "#0d0887"
            ],
            [
             0.1111111111111111,
             "#46039f"
            ],
            [
             0.2222222222222222,
             "#7201a8"
            ],
            [
             0.3333333333333333,
             "#9c179e"
            ],
            [
             0.4444444444444444,
             "#bd3786"
            ],
            [
             0.5555555555555556,
             "#d8576b"
            ],
            [
             0.6666666666666666,
             "#ed7953"
            ],
            [
             0.7777777777777778,
             "#fb9f3a"
            ],
            [
             0.8888888888888888,
             "#fdca26"
            ],
            [
             1,
             "#f0f921"
            ]
           ],
           "sequentialminus": [
            [
             0,
             "#0d0887"
            ],
            [
             0.1111111111111111,
             "#46039f"
            ],
            [
             0.2222222222222222,
             "#7201a8"
            ],
            [
             0.3333333333333333,
             "#9c179e"
            ],
            [
             0.4444444444444444,
             "#bd3786"
            ],
            [
             0.5555555555555556,
             "#d8576b"
            ],
            [
             0.6666666666666666,
             "#ed7953"
            ],
            [
             0.7777777777777778,
             "#fb9f3a"
            ],
            [
             0.8888888888888888,
             "#fdca26"
            ],
            [
             1,
             "#f0f921"
            ]
           ]
          },
          "colorway": [
           "#636efa",
           "#EF553B",
           "#00cc96",
           "#ab63fa",
           "#FFA15A",
           "#19d3f3",
           "#FF6692",
           "#B6E880",
           "#FF97FF",
           "#FECB52"
          ],
          "font": {
           "color": "#2a3f5f"
          },
          "geo": {
           "bgcolor": "white",
           "lakecolor": "white",
           "landcolor": "#E5ECF6",
           "showlakes": true,
           "showland": true,
           "subunitcolor": "white"
          },
          "hoverlabel": {
           "align": "left"
          },
          "hovermode": "closest",
          "mapbox": {
           "style": "light"
          },
          "paper_bgcolor": "white",
          "plot_bgcolor": "#E5ECF6",
          "polar": {
           "angularaxis": {
            "gridcolor": "white",
            "linecolor": "white",
            "ticks": ""
           },
           "bgcolor": "#E5ECF6",
           "radialaxis": {
            "gridcolor": "white",
            "linecolor": "white",
            "ticks": ""
           }
          },
          "scene": {
           "xaxis": {
            "backgroundcolor": "#E5ECF6",
            "gridcolor": "white",
            "gridwidth": 2,
            "linecolor": "white",
            "showbackground": true,
            "ticks": "",
            "zerolinecolor": "white"
           },
           "yaxis": {
            "backgroundcolor": "#E5ECF6",
            "gridcolor": "white",
            "gridwidth": 2,
            "linecolor": "white",
            "showbackground": true,
            "ticks": "",
            "zerolinecolor": "white"
           },
           "zaxis": {
            "backgroundcolor": "#E5ECF6",
            "gridcolor": "white",
            "gridwidth": 2,
            "linecolor": "white",
            "showbackground": true,
            "ticks": "",
            "zerolinecolor": "white"
           }
          },
          "shapedefaults": {
           "line": {
            "color": "#2a3f5f"
           }
          },
          "ternary": {
           "aaxis": {
            "gridcolor": "white",
            "linecolor": "white",
            "ticks": ""
           },
           "baxis": {
            "gridcolor": "white",
            "linecolor": "white",
            "ticks": ""
           },
           "bgcolor": "#E5ECF6",
           "caxis": {
            "gridcolor": "white",
            "linecolor": "white",
            "ticks": ""
           }
          },
          "title": {
           "x": 0.05
          },
          "xaxis": {
           "automargin": true,
           "gridcolor": "white",
           "linecolor": "white",
           "ticks": "",
           "title": {
            "standoff": 15
           },
           "zerolinecolor": "white",
           "zerolinewidth": 2
          },
          "yaxis": {
           "automargin": true,
           "gridcolor": "white",
           "linecolor": "white",
           "ticks": "",
           "title": {
            "standoff": 15
           },
           "zerolinecolor": "white",
           "zerolinewidth": 2
          }
         }
        },
        "title": {
         "text": "Missions with communication losses"
        },
        "xaxis": {
         "anchor": "y",
         "constrain": "domain",
         "domain": [
          0,
          1
         ],
         "scaleanchor": "y",
         "title": {
          "text": "Multi-Agent HJ Reactive Control"
         }
        },
        "yaxis": {
         "anchor": "x",
         "autorange": "reversed",
         "constrain": "domain",
         "domain": [
          0,
          1
         ],
         "title": {
          "text": "Multi-Agent HJ Naive"
         }
        }
       }
      },
      "text/html": [
       "<div>                            <div id=\"32a6ad5c-af35-4c81-9766-cdafea8a5562\" class=\"plotly-graph-div\" style=\"height:525px; width:100%;\"></div>            <script type=\"text/javascript\">                require([\"plotly\"], function(Plotly) {                    window.PLOTLYENV=window.PLOTLYENV || {};                                    if (document.getElementById(\"32a6ad5c-af35-4c81-9766-cdafea8a5562\")) {                    Plotly.newPlot(                        \"32a6ad5c-af35-4c81-9766-cdafea8a5562\",                        [{\"coloraxis\":\"coloraxis\",\"name\":\"0\",\"texttemplate\":\"%{z}\",\"x\":[false,true],\"y\":[false,true],\"z\":[[281,5],[110,152]],\"type\":\"heatmap\",\"xaxis\":\"x\",\"yaxis\":\"y\",\"hovertemplate\":\"Multi-Agent HJ Reactive Control: %{x}<br>Multi-Agent HJ Naive: %{y}<br>color: %{z}<extra></extra>\"}],                        {\"template\":{\"data\":{\"histogram2dcontour\":[{\"type\":\"histogram2dcontour\",\"colorbar\":{\"outlinewidth\":0,\"ticks\":\"\"},\"colorscale\":[[0.0,\"#0d0887\"],[0.1111111111111111,\"#46039f\"],[0.2222222222222222,\"#7201a8\"],[0.3333333333333333,\"#9c179e\"],[0.4444444444444444,\"#bd3786\"],[0.5555555555555556,\"#d8576b\"],[0.6666666666666666,\"#ed7953\"],[0.7777777777777778,\"#fb9f3a\"],[0.8888888888888888,\"#fdca26\"],[1.0,\"#f0f921\"]]}],\"choropleth\":[{\"type\":\"choropleth\",\"colorbar\":{\"outlinewidth\":0,\"ticks\":\"\"}}],\"histogram2d\":[{\"type\":\"histogram2d\",\"colorbar\":{\"outlinewidth\":0,\"ticks\":\"\"},\"colorscale\":[[0.0,\"#0d0887\"],[0.1111111111111111,\"#46039f\"],[0.2222222222222222,\"#7201a8\"],[0.3333333333333333,\"#9c179e\"],[0.4444444444444444,\"#bd3786\"],[0.5555555555555556,\"#d8576b\"],[0.6666666666666666,\"#ed7953\"],[0.7777777777777778,\"#fb9f3a\"],[0.8888888888888888,\"#fdca26\"],[1.0,\"#f0f921\"]]}],\"heatmap\":[{\"type\":\"heatmap\",\"colorbar\":{\"outlinewidth\":0,\"ticks\":\"\"},\"colorscale\":[[0.0,\"#0d0887\"],[0.1111111111111111,\"#46039f\"],[0.2222222222222222,\"#7201a8\"],[0.3333333333333333,\"#9c179e\"],[0.4444444444444444,\"#bd3786\"],[0.5555555555555556,\"#d8576b\"],[0.6666666666666666,\"#ed7953\"],[0.7777777777777778,\"#fb9f3a\"],[0.8888888888888888,\"#fdca26\"],[1.0,\"#f0f921\"]]}],\"heatmapgl\":[{\"type\":\"heatmapgl\",\"colorbar\":{\"outlinewidth\":0,\"ticks\":\"\"},\"colorscale\":[[0.0,\"#0d0887\"],[0.1111111111111111,\"#46039f\"],[0.2222222222222222,\"#7201a8\"],[0.3333333333333333,\"#9c179e\"],[0.4444444444444444,\"#bd3786\"],[0.5555555555555556,\"#d8576b\"],[0.6666666666666666,\"#ed7953\"],[0.7777777777777778,\"#fb9f3a\"],[0.8888888888888888,\"#fdca26\"],[1.0,\"#f0f921\"]]}],\"contourcarpet\":[{\"type\":\"contourcarpet\",\"colorbar\":{\"outlinewidth\":0,\"ticks\":\"\"}}],\"contour\":[{\"type\":\"contour\",\"colorbar\":{\"outlinewidth\":0,\"ticks\":\"\"},\"colorscale\":[[0.0,\"#0d0887\"],[0.1111111111111111,\"#46039f\"],[0.2222222222222222,\"#7201a8\"],[0.3333333333333333,\"#9c179e\"],[0.4444444444444444,\"#bd3786\"],[0.5555555555555556,\"#d8576b\"],[0.6666666666666666,\"#ed7953\"],[0.7777777777777778,\"#fb9f3a\"],[0.8888888888888888,\"#fdca26\"],[1.0,\"#f0f921\"]]}],\"surface\":[{\"type\":\"surface\",\"colorbar\":{\"outlinewidth\":0,\"ticks\":\"\"},\"colorscale\":[[0.0,\"#0d0887\"],[0.1111111111111111,\"#46039f\"],[0.2222222222222222,\"#7201a8\"],[0.3333333333333333,\"#9c179e\"],[0.4444444444444444,\"#bd3786\"],[0.5555555555555556,\"#d8576b\"],[0.6666666666666666,\"#ed7953\"],[0.7777777777777778,\"#fb9f3a\"],[0.8888888888888888,\"#fdca26\"],[1.0,\"#f0f921\"]]}],\"mesh3d\":[{\"type\":\"mesh3d\",\"colorbar\":{\"outlinewidth\":0,\"ticks\":\"\"}}],\"scatter\":[{\"fillpattern\":{\"fillmode\":\"overlay\",\"size\":10,\"solidity\":0.2},\"type\":\"scatter\"}],\"parcoords\":[{\"type\":\"parcoords\",\"line\":{\"colorbar\":{\"outlinewidth\":0,\"ticks\":\"\"}}}],\"scatterpolargl\":[{\"type\":\"scatterpolargl\",\"marker\":{\"colorbar\":{\"outlinewidth\":0,\"ticks\":\"\"}}}],\"bar\":[{\"error_x\":{\"color\":\"#2a3f5f\"},\"error_y\":{\"color\":\"#2a3f5f\"},\"marker\":{\"line\":{\"color\":\"#E5ECF6\",\"width\":0.5},\"pattern\":{\"fillmode\":\"overlay\",\"size\":10,\"solidity\":0.2}},\"type\":\"bar\"}],\"scattergeo\":[{\"type\":\"scattergeo\",\"marker\":{\"colorbar\":{\"outlinewidth\":0,\"ticks\":\"\"}}}],\"scatterpolar\":[{\"type\":\"scatterpolar\",\"marker\":{\"colorbar\":{\"outlinewidth\":0,\"ticks\":\"\"}}}],\"histogram\":[{\"marker\":{\"pattern\":{\"fillmode\":\"overlay\",\"size\":10,\"solidity\":0.2}},\"type\":\"histogram\"}],\"scattergl\":[{\"type\":\"scattergl\",\"marker\":{\"colorbar\":{\"outlinewidth\":0,\"ticks\":\"\"}}}],\"scatter3d\":[{\"type\":\"scatter3d\",\"line\":{\"colorbar\":{\"outlinewidth\":0,\"ticks\":\"\"}},\"marker\":{\"colorbar\":{\"outlinewidth\":0,\"ticks\":\"\"}}}],\"scattermapbox\":[{\"type\":\"scattermapbox\",\"marker\":{\"colorbar\":{\"outlinewidth\":0,\"ticks\":\"\"}}}],\"scatterternary\":[{\"type\":\"scatterternary\",\"marker\":{\"colorbar\":{\"outlinewidth\":0,\"ticks\":\"\"}}}],\"scattercarpet\":[{\"type\":\"scattercarpet\",\"marker\":{\"colorbar\":{\"outlinewidth\":0,\"ticks\":\"\"}}}],\"carpet\":[{\"aaxis\":{\"endlinecolor\":\"#2a3f5f\",\"gridcolor\":\"white\",\"linecolor\":\"white\",\"minorgridcolor\":\"white\",\"startlinecolor\":\"#2a3f5f\"},\"baxis\":{\"endlinecolor\":\"#2a3f5f\",\"gridcolor\":\"white\",\"linecolor\":\"white\",\"minorgridcolor\":\"white\",\"startlinecolor\":\"#2a3f5f\"},\"type\":\"carpet\"}],\"table\":[{\"cells\":{\"fill\":{\"color\":\"#EBF0F8\"},\"line\":{\"color\":\"white\"}},\"header\":{\"fill\":{\"color\":\"#C8D4E3\"},\"line\":{\"color\":\"white\"}},\"type\":\"table\"}],\"barpolar\":[{\"marker\":{\"line\":{\"color\":\"#E5ECF6\",\"width\":0.5},\"pattern\":{\"fillmode\":\"overlay\",\"size\":10,\"solidity\":0.2}},\"type\":\"barpolar\"}],\"pie\":[{\"automargin\":true,\"type\":\"pie\"}]},\"layout\":{\"autotypenumbers\":\"strict\",\"colorway\":[\"#636efa\",\"#EF553B\",\"#00cc96\",\"#ab63fa\",\"#FFA15A\",\"#19d3f3\",\"#FF6692\",\"#B6E880\",\"#FF97FF\",\"#FECB52\"],\"font\":{\"color\":\"#2a3f5f\"},\"hovermode\":\"closest\",\"hoverlabel\":{\"align\":\"left\"},\"paper_bgcolor\":\"white\",\"plot_bgcolor\":\"#E5ECF6\",\"polar\":{\"bgcolor\":\"#E5ECF6\",\"angularaxis\":{\"gridcolor\":\"white\",\"linecolor\":\"white\",\"ticks\":\"\"},\"radialaxis\":{\"gridcolor\":\"white\",\"linecolor\":\"white\",\"ticks\":\"\"}},\"ternary\":{\"bgcolor\":\"#E5ECF6\",\"aaxis\":{\"gridcolor\":\"white\",\"linecolor\":\"white\",\"ticks\":\"\"},\"baxis\":{\"gridcolor\":\"white\",\"linecolor\":\"white\",\"ticks\":\"\"},\"caxis\":{\"gridcolor\":\"white\",\"linecolor\":\"white\",\"ticks\":\"\"}},\"coloraxis\":{\"colorbar\":{\"outlinewidth\":0,\"ticks\":\"\"}},\"colorscale\":{\"sequential\":[[0.0,\"#0d0887\"],[0.1111111111111111,\"#46039f\"],[0.2222222222222222,\"#7201a8\"],[0.3333333333333333,\"#9c179e\"],[0.4444444444444444,\"#bd3786\"],[0.5555555555555556,\"#d8576b\"],[0.6666666666666666,\"#ed7953\"],[0.7777777777777778,\"#fb9f3a\"],[0.8888888888888888,\"#fdca26\"],[1.0,\"#f0f921\"]],\"sequentialminus\":[[0.0,\"#0d0887\"],[0.1111111111111111,\"#46039f\"],[0.2222222222222222,\"#7201a8\"],[0.3333333333333333,\"#9c179e\"],[0.4444444444444444,\"#bd3786\"],[0.5555555555555556,\"#d8576b\"],[0.6666666666666666,\"#ed7953\"],[0.7777777777777778,\"#fb9f3a\"],[0.8888888888888888,\"#fdca26\"],[1.0,\"#f0f921\"]],\"diverging\":[[0,\"#8e0152\"],[0.1,\"#c51b7d\"],[0.2,\"#de77ae\"],[0.3,\"#f1b6da\"],[0.4,\"#fde0ef\"],[0.5,\"#f7f7f7\"],[0.6,\"#e6f5d0\"],[0.7,\"#b8e186\"],[0.8,\"#7fbc41\"],[0.9,\"#4d9221\"],[1,\"#276419\"]]},\"xaxis\":{\"gridcolor\":\"white\",\"linecolor\":\"white\",\"ticks\":\"\",\"title\":{\"standoff\":15},\"zerolinecolor\":\"white\",\"automargin\":true,\"zerolinewidth\":2},\"yaxis\":{\"gridcolor\":\"white\",\"linecolor\":\"white\",\"ticks\":\"\",\"title\":{\"standoff\":15},\"zerolinecolor\":\"white\",\"automargin\":true,\"zerolinewidth\":2},\"scene\":{\"xaxis\":{\"backgroundcolor\":\"#E5ECF6\",\"gridcolor\":\"white\",\"linecolor\":\"white\",\"showbackground\":true,\"ticks\":\"\",\"zerolinecolor\":\"white\",\"gridwidth\":2},\"yaxis\":{\"backgroundcolor\":\"#E5ECF6\",\"gridcolor\":\"white\",\"linecolor\":\"white\",\"showbackground\":true,\"ticks\":\"\",\"zerolinecolor\":\"white\",\"gridwidth\":2},\"zaxis\":{\"backgroundcolor\":\"#E5ECF6\",\"gridcolor\":\"white\",\"linecolor\":\"white\",\"showbackground\":true,\"ticks\":\"\",\"zerolinecolor\":\"white\",\"gridwidth\":2}},\"shapedefaults\":{\"line\":{\"color\":\"#2a3f5f\"}},\"annotationdefaults\":{\"arrowcolor\":\"#2a3f5f\",\"arrowhead\":0,\"arrowwidth\":1},\"geo\":{\"bgcolor\":\"white\",\"landcolor\":\"#E5ECF6\",\"subunitcolor\":\"white\",\"showland\":true,\"showlakes\":true,\"lakecolor\":\"white\"},\"title\":{\"x\":0.05},\"mapbox\":{\"style\":\"light\"}}},\"xaxis\":{\"anchor\":\"y\",\"domain\":[0.0,1.0],\"scaleanchor\":\"y\",\"constrain\":\"domain\",\"title\":{\"text\":\"Multi-Agent HJ Reactive Control\"}},\"yaxis\":{\"anchor\":\"x\",\"domain\":[0.0,1.0],\"autorange\":\"reversed\",\"constrain\":\"domain\",\"title\":{\"text\":\"Multi-Agent HJ Naive\"}},\"coloraxis\":{\"colorscale\":[[0.0,\"#0d0887\"],[0.1111111111111111,\"#46039f\"],[0.2222222222222222,\"#7201a8\"],[0.3333333333333333,\"#9c179e\"],[0.4444444444444444,\"#bd3786\"],[0.5555555555555556,\"#d8576b\"],[0.6666666666666666,\"#ed7953\"],[0.7777777777777778,\"#fb9f3a\"],[0.8888888888888888,\"#fdca26\"],[1.0,\"#f0f921\"]]},\"margin\":{\"t\":60},\"title\":{\"text\":\"Missions with communication losses\"}},                        {\"responsive\": true}                    ).then(function(){\n",
       "                            \n",
       "var gd = document.getElementById('32a6ad5c-af35-4c81-9766-cdafea8a5562');\n",
       "var x = new MutationObserver(function (mutations, observer) {{\n",
       "        var display = window.getComputedStyle(gd).display;\n",
       "        if (!display || display === 'none') {{\n",
       "            console.log([gd, 'removed!']);\n",
       "            Plotly.purge(gd);\n",
       "            observer.disconnect();\n",
       "        }}\n",
       "}});\n",
       "\n",
       "// Listen for the removal of the full notebook cells\n",
       "var notebookContainer = gd.closest('#notebook-container');\n",
       "if (notebookContainer) {{\n",
       "    x.observe(notebookContainer, {childList: true});\n",
       "}}\n",
       "\n",
       "// Listen for the clearing of the current output cell\n",
       "var outputEl = gd.closest('.output');\n",
       "if (outputEl) {{\n",
       "    x.observe(outputEl, {childList: true});\n",
       "}}\n",
       "\n",
       "                        })                };                });            </script>        </div>"
      ]
     },
     "metadata": {},
     "output_type": "display_data"
    }
   ],
   "source": [
    "fig_conf_react_comm_loss= plot_confusion_matrix(metrics_hj_naive[\"Isolated_platform_metric\"]>0, \n",
    "                        metrics_hj_reactive[\"Isolated_platform_metric\"]>0, 'Multi-Agent HJ Naive', \n",
    "                        'Multi-Agent HJ Reactive Control', title_name=\"Missions with communication losses\")"
   ]
  },
  {
   "attachments": {},
   "cell_type": "markdown",
   "metadata": {},
   "source": [
    "+ Connectivity and Collision maintenance performance"
   ]
  },
  {
   "cell_type": "code",
   "execution_count": 23,
   "metadata": {},
   "outputs": [
    {
     "data": {
      "application/vnd.plotly.v1+json": {
       "config": {
        "plotlyServerURL": "https://plot.ly"
       },
       "data": [
        {
         "coloraxis": "coloraxis",
         "hovertemplate": "Multi-Agent HJ Reactive Control: %{x}<br>Multi-Agent HJ Naive: %{y}<br>color: %{z}<extra></extra>",
         "name": "0",
         "texttemplate": "%{z}",
         "type": "heatmap",
         "x": [
          false,
          true
         ],
         "xaxis": "x",
         "y": [
          false,
          true
         ],
         "yaxis": "y",
         "z": [
          [
           160,
           254
          ],
          [
           3,
           131
          ]
         ]
        }
       ],
       "layout": {
        "coloraxis": {
         "colorscale": [
          [
           0,
           "#0d0887"
          ],
          [
           0.1111111111111111,
           "#46039f"
          ],
          [
           0.2222222222222222,
           "#7201a8"
          ],
          [
           0.3333333333333333,
           "#9c179e"
          ],
          [
           0.4444444444444444,
           "#bd3786"
          ],
          [
           0.5555555555555556,
           "#d8576b"
          ],
          [
           0.6666666666666666,
           "#ed7953"
          ],
          [
           0.7777777777777778,
           "#fb9f3a"
          ],
          [
           0.8888888888888888,
           "#fdca26"
          ],
          [
           1,
           "#f0f921"
          ]
         ]
        },
        "margin": {
         "t": 60
        },
        "template": {
         "data": {
          "bar": [
           {
            "error_x": {
             "color": "#2a3f5f"
            },
            "error_y": {
             "color": "#2a3f5f"
            },
            "marker": {
             "line": {
              "color": "#E5ECF6",
              "width": 0.5
             },
             "pattern": {
              "fillmode": "overlay",
              "size": 10,
              "solidity": 0.2
             }
            },
            "type": "bar"
           }
          ],
          "barpolar": [
           {
            "marker": {
             "line": {
              "color": "#E5ECF6",
              "width": 0.5
             },
             "pattern": {
              "fillmode": "overlay",
              "size": 10,
              "solidity": 0.2
             }
            },
            "type": "barpolar"
           }
          ],
          "carpet": [
           {
            "aaxis": {
             "endlinecolor": "#2a3f5f",
             "gridcolor": "white",
             "linecolor": "white",
             "minorgridcolor": "white",
             "startlinecolor": "#2a3f5f"
            },
            "baxis": {
             "endlinecolor": "#2a3f5f",
             "gridcolor": "white",
             "linecolor": "white",
             "minorgridcolor": "white",
             "startlinecolor": "#2a3f5f"
            },
            "type": "carpet"
           }
          ],
          "choropleth": [
           {
            "colorbar": {
             "outlinewidth": 0,
             "ticks": ""
            },
            "type": "choropleth"
           }
          ],
          "contour": [
           {
            "colorbar": {
             "outlinewidth": 0,
             "ticks": ""
            },
            "colorscale": [
             [
              0,
              "#0d0887"
             ],
             [
              0.1111111111111111,
              "#46039f"
             ],
             [
              0.2222222222222222,
              "#7201a8"
             ],
             [
              0.3333333333333333,
              "#9c179e"
             ],
             [
              0.4444444444444444,
              "#bd3786"
             ],
             [
              0.5555555555555556,
              "#d8576b"
             ],
             [
              0.6666666666666666,
              "#ed7953"
             ],
             [
              0.7777777777777778,
              "#fb9f3a"
             ],
             [
              0.8888888888888888,
              "#fdca26"
             ],
             [
              1,
              "#f0f921"
             ]
            ],
            "type": "contour"
           }
          ],
          "contourcarpet": [
           {
            "colorbar": {
             "outlinewidth": 0,
             "ticks": ""
            },
            "type": "contourcarpet"
           }
          ],
          "heatmap": [
           {
            "colorbar": {
             "outlinewidth": 0,
             "ticks": ""
            },
            "colorscale": [
             [
              0,
              "#0d0887"
             ],
             [
              0.1111111111111111,
              "#46039f"
             ],
             [
              0.2222222222222222,
              "#7201a8"
             ],
             [
              0.3333333333333333,
              "#9c179e"
             ],
             [
              0.4444444444444444,
              "#bd3786"
             ],
             [
              0.5555555555555556,
              "#d8576b"
             ],
             [
              0.6666666666666666,
              "#ed7953"
             ],
             [
              0.7777777777777778,
              "#fb9f3a"
             ],
             [
              0.8888888888888888,
              "#fdca26"
             ],
             [
              1,
              "#f0f921"
             ]
            ],
            "type": "heatmap"
           }
          ],
          "heatmapgl": [
           {
            "colorbar": {
             "outlinewidth": 0,
             "ticks": ""
            },
            "colorscale": [
             [
              0,
              "#0d0887"
             ],
             [
              0.1111111111111111,
              "#46039f"
             ],
             [
              0.2222222222222222,
              "#7201a8"
             ],
             [
              0.3333333333333333,
              "#9c179e"
             ],
             [
              0.4444444444444444,
              "#bd3786"
             ],
             [
              0.5555555555555556,
              "#d8576b"
             ],
             [
              0.6666666666666666,
              "#ed7953"
             ],
             [
              0.7777777777777778,
              "#fb9f3a"
             ],
             [
              0.8888888888888888,
              "#fdca26"
             ],
             [
              1,
              "#f0f921"
             ]
            ],
            "type": "heatmapgl"
           }
          ],
          "histogram": [
           {
            "marker": {
             "pattern": {
              "fillmode": "overlay",
              "size": 10,
              "solidity": 0.2
             }
            },
            "type": "histogram"
           }
          ],
          "histogram2d": [
           {
            "colorbar": {
             "outlinewidth": 0,
             "ticks": ""
            },
            "colorscale": [
             [
              0,
              "#0d0887"
             ],
             [
              0.1111111111111111,
              "#46039f"
             ],
             [
              0.2222222222222222,
              "#7201a8"
             ],
             [
              0.3333333333333333,
              "#9c179e"
             ],
             [
              0.4444444444444444,
              "#bd3786"
             ],
             [
              0.5555555555555556,
              "#d8576b"
             ],
             [
              0.6666666666666666,
              "#ed7953"
             ],
             [
              0.7777777777777778,
              "#fb9f3a"
             ],
             [
              0.8888888888888888,
              "#fdca26"
             ],
             [
              1,
              "#f0f921"
             ]
            ],
            "type": "histogram2d"
           }
          ],
          "histogram2dcontour": [
           {
            "colorbar": {
             "outlinewidth": 0,
             "ticks": ""
            },
            "colorscale": [
             [
              0,
              "#0d0887"
             ],
             [
              0.1111111111111111,
              "#46039f"
             ],
             [
              0.2222222222222222,
              "#7201a8"
             ],
             [
              0.3333333333333333,
              "#9c179e"
             ],
             [
              0.4444444444444444,
              "#bd3786"
             ],
             [
              0.5555555555555556,
              "#d8576b"
             ],
             [
              0.6666666666666666,
              "#ed7953"
             ],
             [
              0.7777777777777778,
              "#fb9f3a"
             ],
             [
              0.8888888888888888,
              "#fdca26"
             ],
             [
              1,
              "#f0f921"
             ]
            ],
            "type": "histogram2dcontour"
           }
          ],
          "mesh3d": [
           {
            "colorbar": {
             "outlinewidth": 0,
             "ticks": ""
            },
            "type": "mesh3d"
           }
          ],
          "parcoords": [
           {
            "line": {
             "colorbar": {
              "outlinewidth": 0,
              "ticks": ""
             }
            },
            "type": "parcoords"
           }
          ],
          "pie": [
           {
            "automargin": true,
            "type": "pie"
           }
          ],
          "scatter": [
           {
            "fillpattern": {
             "fillmode": "overlay",
             "size": 10,
             "solidity": 0.2
            },
            "type": "scatter"
           }
          ],
          "scatter3d": [
           {
            "line": {
             "colorbar": {
              "outlinewidth": 0,
              "ticks": ""
             }
            },
            "marker": {
             "colorbar": {
              "outlinewidth": 0,
              "ticks": ""
             }
            },
            "type": "scatter3d"
           }
          ],
          "scattercarpet": [
           {
            "marker": {
             "colorbar": {
              "outlinewidth": 0,
              "ticks": ""
             }
            },
            "type": "scattercarpet"
           }
          ],
          "scattergeo": [
           {
            "marker": {
             "colorbar": {
              "outlinewidth": 0,
              "ticks": ""
             }
            },
            "type": "scattergeo"
           }
          ],
          "scattergl": [
           {
            "marker": {
             "colorbar": {
              "outlinewidth": 0,
              "ticks": ""
             }
            },
            "type": "scattergl"
           }
          ],
          "scattermapbox": [
           {
            "marker": {
             "colorbar": {
              "outlinewidth": 0,
              "ticks": ""
             }
            },
            "type": "scattermapbox"
           }
          ],
          "scatterpolar": [
           {
            "marker": {
             "colorbar": {
              "outlinewidth": 0,
              "ticks": ""
             }
            },
            "type": "scatterpolar"
           }
          ],
          "scatterpolargl": [
           {
            "marker": {
             "colorbar": {
              "outlinewidth": 0,
              "ticks": ""
             }
            },
            "type": "scatterpolargl"
           }
          ],
          "scatterternary": [
           {
            "marker": {
             "colorbar": {
              "outlinewidth": 0,
              "ticks": ""
             }
            },
            "type": "scatterternary"
           }
          ],
          "surface": [
           {
            "colorbar": {
             "outlinewidth": 0,
             "ticks": ""
            },
            "colorscale": [
             [
              0,
              "#0d0887"
             ],
             [
              0.1111111111111111,
              "#46039f"
             ],
             [
              0.2222222222222222,
              "#7201a8"
             ],
             [
              0.3333333333333333,
              "#9c179e"
             ],
             [
              0.4444444444444444,
              "#bd3786"
             ],
             [
              0.5555555555555556,
              "#d8576b"
             ],
             [
              0.6666666666666666,
              "#ed7953"
             ],
             [
              0.7777777777777778,
              "#fb9f3a"
             ],
             [
              0.8888888888888888,
              "#fdca26"
             ],
             [
              1,
              "#f0f921"
             ]
            ],
            "type": "surface"
           }
          ],
          "table": [
           {
            "cells": {
             "fill": {
              "color": "#EBF0F8"
             },
             "line": {
              "color": "white"
             }
            },
            "header": {
             "fill": {
              "color": "#C8D4E3"
             },
             "line": {
              "color": "white"
             }
            },
            "type": "table"
           }
          ]
         },
         "layout": {
          "annotationdefaults": {
           "arrowcolor": "#2a3f5f",
           "arrowhead": 0,
           "arrowwidth": 1
          },
          "autotypenumbers": "strict",
          "coloraxis": {
           "colorbar": {
            "outlinewidth": 0,
            "ticks": ""
           }
          },
          "colorscale": {
           "diverging": [
            [
             0,
             "#8e0152"
            ],
            [
             0.1,
             "#c51b7d"
            ],
            [
             0.2,
             "#de77ae"
            ],
            [
             0.3,
             "#f1b6da"
            ],
            [
             0.4,
             "#fde0ef"
            ],
            [
             0.5,
             "#f7f7f7"
            ],
            [
             0.6,
             "#e6f5d0"
            ],
            [
             0.7,
             "#b8e186"
            ],
            [
             0.8,
             "#7fbc41"
            ],
            [
             0.9,
             "#4d9221"
            ],
            [
             1,
             "#276419"
            ]
           ],
           "sequential": [
            [
             0,
             "#0d0887"
            ],
            [
             0.1111111111111111,
             "#46039f"
            ],
            [
             0.2222222222222222,
             "#7201a8"
            ],
            [
             0.3333333333333333,
             "#9c179e"
            ],
            [
             0.4444444444444444,
             "#bd3786"
            ],
            [
             0.5555555555555556,
             "#d8576b"
            ],
            [
             0.6666666666666666,
             "#ed7953"
            ],
            [
             0.7777777777777778,
             "#fb9f3a"
            ],
            [
             0.8888888888888888,
             "#fdca26"
            ],
            [
             1,
             "#f0f921"
            ]
           ],
           "sequentialminus": [
            [
             0,
             "#0d0887"
            ],
            [
             0.1111111111111111,
             "#46039f"
            ],
            [
             0.2222222222222222,
             "#7201a8"
            ],
            [
             0.3333333333333333,
             "#9c179e"
            ],
            [
             0.4444444444444444,
             "#bd3786"
            ],
            [
             0.5555555555555556,
             "#d8576b"
            ],
            [
             0.6666666666666666,
             "#ed7953"
            ],
            [
             0.7777777777777778,
             "#fb9f3a"
            ],
            [
             0.8888888888888888,
             "#fdca26"
            ],
            [
             1,
             "#f0f921"
            ]
           ]
          },
          "colorway": [
           "#636efa",
           "#EF553B",
           "#00cc96",
           "#ab63fa",
           "#FFA15A",
           "#19d3f3",
           "#FF6692",
           "#B6E880",
           "#FF97FF",
           "#FECB52"
          ],
          "font": {
           "color": "#2a3f5f"
          },
          "geo": {
           "bgcolor": "white",
           "lakecolor": "white",
           "landcolor": "#E5ECF6",
           "showlakes": true,
           "showland": true,
           "subunitcolor": "white"
          },
          "hoverlabel": {
           "align": "left"
          },
          "hovermode": "closest",
          "mapbox": {
           "style": "light"
          },
          "paper_bgcolor": "white",
          "plot_bgcolor": "#E5ECF6",
          "polar": {
           "angularaxis": {
            "gridcolor": "white",
            "linecolor": "white",
            "ticks": ""
           },
           "bgcolor": "#E5ECF6",
           "radialaxis": {
            "gridcolor": "white",
            "linecolor": "white",
            "ticks": ""
           }
          },
          "scene": {
           "xaxis": {
            "backgroundcolor": "#E5ECF6",
            "gridcolor": "white",
            "gridwidth": 2,
            "linecolor": "white",
            "showbackground": true,
            "ticks": "",
            "zerolinecolor": "white"
           },
           "yaxis": {
            "backgroundcolor": "#E5ECF6",
            "gridcolor": "white",
            "gridwidth": 2,
            "linecolor": "white",
            "showbackground": true,
            "ticks": "",
            "zerolinecolor": "white"
           },
           "zaxis": {
            "backgroundcolor": "#E5ECF6",
            "gridcolor": "white",
            "gridwidth": 2,
            "linecolor": "white",
            "showbackground": true,
            "ticks": "",
            "zerolinecolor": "white"
           }
          },
          "shapedefaults": {
           "line": {
            "color": "#2a3f5f"
           }
          },
          "ternary": {
           "aaxis": {
            "gridcolor": "white",
            "linecolor": "white",
            "ticks": ""
           },
           "baxis": {
            "gridcolor": "white",
            "linecolor": "white",
            "ticks": ""
           },
           "bgcolor": "#E5ECF6",
           "caxis": {
            "gridcolor": "white",
            "linecolor": "white",
            "ticks": ""
           }
          },
          "title": {
           "x": 0.05
          },
          "xaxis": {
           "automargin": true,
           "gridcolor": "white",
           "linecolor": "white",
           "ticks": "",
           "title": {
            "standoff": 15
           },
           "zerolinecolor": "white",
           "zerolinewidth": 2
          },
          "yaxis": {
           "automargin": true,
           "gridcolor": "white",
           "linecolor": "white",
           "ticks": "",
           "title": {
            "standoff": 15
           },
           "zerolinecolor": "white",
           "zerolinewidth": 2
          }
         }
        },
        "title": {
         "text": "Missions without collisions and with maintained connectivity"
        },
        "xaxis": {
         "anchor": "y",
         "constrain": "domain",
         "domain": [
          0,
          1
         ],
         "scaleanchor": "y",
         "title": {
          "text": "Multi-Agent HJ Reactive Control"
         }
        },
        "yaxis": {
         "anchor": "x",
         "autorange": "reversed",
         "constrain": "domain",
         "domain": [
          0,
          1
         ],
         "title": {
          "text": "Multi-Agent HJ Naive"
         }
        }
       }
      },
      "text/html": [
       "<div>                            <div id=\"9c16d992-cc7d-408a-b8e8-38bc73c79c10\" class=\"plotly-graph-div\" style=\"height:525px; width:100%;\"></div>            <script type=\"text/javascript\">                require([\"plotly\"], function(Plotly) {                    window.PLOTLYENV=window.PLOTLYENV || {};                                    if (document.getElementById(\"9c16d992-cc7d-408a-b8e8-38bc73c79c10\")) {                    Plotly.newPlot(                        \"9c16d992-cc7d-408a-b8e8-38bc73c79c10\",                        [{\"coloraxis\":\"coloraxis\",\"name\":\"0\",\"texttemplate\":\"%{z}\",\"x\":[false,true],\"y\":[false,true],\"z\":[[160,254],[3,131]],\"type\":\"heatmap\",\"xaxis\":\"x\",\"yaxis\":\"y\",\"hovertemplate\":\"Multi-Agent HJ Reactive Control: %{x}<br>Multi-Agent HJ Naive: %{y}<br>color: %{z}<extra></extra>\"}],                        {\"template\":{\"data\":{\"histogram2dcontour\":[{\"type\":\"histogram2dcontour\",\"colorbar\":{\"outlinewidth\":0,\"ticks\":\"\"},\"colorscale\":[[0.0,\"#0d0887\"],[0.1111111111111111,\"#46039f\"],[0.2222222222222222,\"#7201a8\"],[0.3333333333333333,\"#9c179e\"],[0.4444444444444444,\"#bd3786\"],[0.5555555555555556,\"#d8576b\"],[0.6666666666666666,\"#ed7953\"],[0.7777777777777778,\"#fb9f3a\"],[0.8888888888888888,\"#fdca26\"],[1.0,\"#f0f921\"]]}],\"choropleth\":[{\"type\":\"choropleth\",\"colorbar\":{\"outlinewidth\":0,\"ticks\":\"\"}}],\"histogram2d\":[{\"type\":\"histogram2d\",\"colorbar\":{\"outlinewidth\":0,\"ticks\":\"\"},\"colorscale\":[[0.0,\"#0d0887\"],[0.1111111111111111,\"#46039f\"],[0.2222222222222222,\"#7201a8\"],[0.3333333333333333,\"#9c179e\"],[0.4444444444444444,\"#bd3786\"],[0.5555555555555556,\"#d8576b\"],[0.6666666666666666,\"#ed7953\"],[0.7777777777777778,\"#fb9f3a\"],[0.8888888888888888,\"#fdca26\"],[1.0,\"#f0f921\"]]}],\"heatmap\":[{\"type\":\"heatmap\",\"colorbar\":{\"outlinewidth\":0,\"ticks\":\"\"},\"colorscale\":[[0.0,\"#0d0887\"],[0.1111111111111111,\"#46039f\"],[0.2222222222222222,\"#7201a8\"],[0.3333333333333333,\"#9c179e\"],[0.4444444444444444,\"#bd3786\"],[0.5555555555555556,\"#d8576b\"],[0.6666666666666666,\"#ed7953\"],[0.7777777777777778,\"#fb9f3a\"],[0.8888888888888888,\"#fdca26\"],[1.0,\"#f0f921\"]]}],\"heatmapgl\":[{\"type\":\"heatmapgl\",\"colorbar\":{\"outlinewidth\":0,\"ticks\":\"\"},\"colorscale\":[[0.0,\"#0d0887\"],[0.1111111111111111,\"#46039f\"],[0.2222222222222222,\"#7201a8\"],[0.3333333333333333,\"#9c179e\"],[0.4444444444444444,\"#bd3786\"],[0.5555555555555556,\"#d8576b\"],[0.6666666666666666,\"#ed7953\"],[0.7777777777777778,\"#fb9f3a\"],[0.8888888888888888,\"#fdca26\"],[1.0,\"#f0f921\"]]}],\"contourcarpet\":[{\"type\":\"contourcarpet\",\"colorbar\":{\"outlinewidth\":0,\"ticks\":\"\"}}],\"contour\":[{\"type\":\"contour\",\"colorbar\":{\"outlinewidth\":0,\"ticks\":\"\"},\"colorscale\":[[0.0,\"#0d0887\"],[0.1111111111111111,\"#46039f\"],[0.2222222222222222,\"#7201a8\"],[0.3333333333333333,\"#9c179e\"],[0.4444444444444444,\"#bd3786\"],[0.5555555555555556,\"#d8576b\"],[0.6666666666666666,\"#ed7953\"],[0.7777777777777778,\"#fb9f3a\"],[0.8888888888888888,\"#fdca26\"],[1.0,\"#f0f921\"]]}],\"surface\":[{\"type\":\"surface\",\"colorbar\":{\"outlinewidth\":0,\"ticks\":\"\"},\"colorscale\":[[0.0,\"#0d0887\"],[0.1111111111111111,\"#46039f\"],[0.2222222222222222,\"#7201a8\"],[0.3333333333333333,\"#9c179e\"],[0.4444444444444444,\"#bd3786\"],[0.5555555555555556,\"#d8576b\"],[0.6666666666666666,\"#ed7953\"],[0.7777777777777778,\"#fb9f3a\"],[0.8888888888888888,\"#fdca26\"],[1.0,\"#f0f921\"]]}],\"mesh3d\":[{\"type\":\"mesh3d\",\"colorbar\":{\"outlinewidth\":0,\"ticks\":\"\"}}],\"scatter\":[{\"fillpattern\":{\"fillmode\":\"overlay\",\"size\":10,\"solidity\":0.2},\"type\":\"scatter\"}],\"parcoords\":[{\"type\":\"parcoords\",\"line\":{\"colorbar\":{\"outlinewidth\":0,\"ticks\":\"\"}}}],\"scatterpolargl\":[{\"type\":\"scatterpolargl\",\"marker\":{\"colorbar\":{\"outlinewidth\":0,\"ticks\":\"\"}}}],\"bar\":[{\"error_x\":{\"color\":\"#2a3f5f\"},\"error_y\":{\"color\":\"#2a3f5f\"},\"marker\":{\"line\":{\"color\":\"#E5ECF6\",\"width\":0.5},\"pattern\":{\"fillmode\":\"overlay\",\"size\":10,\"solidity\":0.2}},\"type\":\"bar\"}],\"scattergeo\":[{\"type\":\"scattergeo\",\"marker\":{\"colorbar\":{\"outlinewidth\":0,\"ticks\":\"\"}}}],\"scatterpolar\":[{\"type\":\"scatterpolar\",\"marker\":{\"colorbar\":{\"outlinewidth\":0,\"ticks\":\"\"}}}],\"histogram\":[{\"marker\":{\"pattern\":{\"fillmode\":\"overlay\",\"size\":10,\"solidity\":0.2}},\"type\":\"histogram\"}],\"scattergl\":[{\"type\":\"scattergl\",\"marker\":{\"colorbar\":{\"outlinewidth\":0,\"ticks\":\"\"}}}],\"scatter3d\":[{\"type\":\"scatter3d\",\"line\":{\"colorbar\":{\"outlinewidth\":0,\"ticks\":\"\"}},\"marker\":{\"colorbar\":{\"outlinewidth\":0,\"ticks\":\"\"}}}],\"scattermapbox\":[{\"type\":\"scattermapbox\",\"marker\":{\"colorbar\":{\"outlinewidth\":0,\"ticks\":\"\"}}}],\"scatterternary\":[{\"type\":\"scatterternary\",\"marker\":{\"colorbar\":{\"outlinewidth\":0,\"ticks\":\"\"}}}],\"scattercarpet\":[{\"type\":\"scattercarpet\",\"marker\":{\"colorbar\":{\"outlinewidth\":0,\"ticks\":\"\"}}}],\"carpet\":[{\"aaxis\":{\"endlinecolor\":\"#2a3f5f\",\"gridcolor\":\"white\",\"linecolor\":\"white\",\"minorgridcolor\":\"white\",\"startlinecolor\":\"#2a3f5f\"},\"baxis\":{\"endlinecolor\":\"#2a3f5f\",\"gridcolor\":\"white\",\"linecolor\":\"white\",\"minorgridcolor\":\"white\",\"startlinecolor\":\"#2a3f5f\"},\"type\":\"carpet\"}],\"table\":[{\"cells\":{\"fill\":{\"color\":\"#EBF0F8\"},\"line\":{\"color\":\"white\"}},\"header\":{\"fill\":{\"color\":\"#C8D4E3\"},\"line\":{\"color\":\"white\"}},\"type\":\"table\"}],\"barpolar\":[{\"marker\":{\"line\":{\"color\":\"#E5ECF6\",\"width\":0.5},\"pattern\":{\"fillmode\":\"overlay\",\"size\":10,\"solidity\":0.2}},\"type\":\"barpolar\"}],\"pie\":[{\"automargin\":true,\"type\":\"pie\"}]},\"layout\":{\"autotypenumbers\":\"strict\",\"colorway\":[\"#636efa\",\"#EF553B\",\"#00cc96\",\"#ab63fa\",\"#FFA15A\",\"#19d3f3\",\"#FF6692\",\"#B6E880\",\"#FF97FF\",\"#FECB52\"],\"font\":{\"color\":\"#2a3f5f\"},\"hovermode\":\"closest\",\"hoverlabel\":{\"align\":\"left\"},\"paper_bgcolor\":\"white\",\"plot_bgcolor\":\"#E5ECF6\",\"polar\":{\"bgcolor\":\"#E5ECF6\",\"angularaxis\":{\"gridcolor\":\"white\",\"linecolor\":\"white\",\"ticks\":\"\"},\"radialaxis\":{\"gridcolor\":\"white\",\"linecolor\":\"white\",\"ticks\":\"\"}},\"ternary\":{\"bgcolor\":\"#E5ECF6\",\"aaxis\":{\"gridcolor\":\"white\",\"linecolor\":\"white\",\"ticks\":\"\"},\"baxis\":{\"gridcolor\":\"white\",\"linecolor\":\"white\",\"ticks\":\"\"},\"caxis\":{\"gridcolor\":\"white\",\"linecolor\":\"white\",\"ticks\":\"\"}},\"coloraxis\":{\"colorbar\":{\"outlinewidth\":0,\"ticks\":\"\"}},\"colorscale\":{\"sequential\":[[0.0,\"#0d0887\"],[0.1111111111111111,\"#46039f\"],[0.2222222222222222,\"#7201a8\"],[0.3333333333333333,\"#9c179e\"],[0.4444444444444444,\"#bd3786\"],[0.5555555555555556,\"#d8576b\"],[0.6666666666666666,\"#ed7953\"],[0.7777777777777778,\"#fb9f3a\"],[0.8888888888888888,\"#fdca26\"],[1.0,\"#f0f921\"]],\"sequentialminus\":[[0.0,\"#0d0887\"],[0.1111111111111111,\"#46039f\"],[0.2222222222222222,\"#7201a8\"],[0.3333333333333333,\"#9c179e\"],[0.4444444444444444,\"#bd3786\"],[0.5555555555555556,\"#d8576b\"],[0.6666666666666666,\"#ed7953\"],[0.7777777777777778,\"#fb9f3a\"],[0.8888888888888888,\"#fdca26\"],[1.0,\"#f0f921\"]],\"diverging\":[[0,\"#8e0152\"],[0.1,\"#c51b7d\"],[0.2,\"#de77ae\"],[0.3,\"#f1b6da\"],[0.4,\"#fde0ef\"],[0.5,\"#f7f7f7\"],[0.6,\"#e6f5d0\"],[0.7,\"#b8e186\"],[0.8,\"#7fbc41\"],[0.9,\"#4d9221\"],[1,\"#276419\"]]},\"xaxis\":{\"gridcolor\":\"white\",\"linecolor\":\"white\",\"ticks\":\"\",\"title\":{\"standoff\":15},\"zerolinecolor\":\"white\",\"automargin\":true,\"zerolinewidth\":2},\"yaxis\":{\"gridcolor\":\"white\",\"linecolor\":\"white\",\"ticks\":\"\",\"title\":{\"standoff\":15},\"zerolinecolor\":\"white\",\"automargin\":true,\"zerolinewidth\":2},\"scene\":{\"xaxis\":{\"backgroundcolor\":\"#E5ECF6\",\"gridcolor\":\"white\",\"linecolor\":\"white\",\"showbackground\":true,\"ticks\":\"\",\"zerolinecolor\":\"white\",\"gridwidth\":2},\"yaxis\":{\"backgroundcolor\":\"#E5ECF6\",\"gridcolor\":\"white\",\"linecolor\":\"white\",\"showbackground\":true,\"ticks\":\"\",\"zerolinecolor\":\"white\",\"gridwidth\":2},\"zaxis\":{\"backgroundcolor\":\"#E5ECF6\",\"gridcolor\":\"white\",\"linecolor\":\"white\",\"showbackground\":true,\"ticks\":\"\",\"zerolinecolor\":\"white\",\"gridwidth\":2}},\"shapedefaults\":{\"line\":{\"color\":\"#2a3f5f\"}},\"annotationdefaults\":{\"arrowcolor\":\"#2a3f5f\",\"arrowhead\":0,\"arrowwidth\":1},\"geo\":{\"bgcolor\":\"white\",\"landcolor\":\"#E5ECF6\",\"subunitcolor\":\"white\",\"showland\":true,\"showlakes\":true,\"lakecolor\":\"white\"},\"title\":{\"x\":0.05},\"mapbox\":{\"style\":\"light\"}}},\"xaxis\":{\"anchor\":\"y\",\"domain\":[0.0,1.0],\"scaleanchor\":\"y\",\"constrain\":\"domain\",\"title\":{\"text\":\"Multi-Agent HJ Reactive Control\"}},\"yaxis\":{\"anchor\":\"x\",\"domain\":[0.0,1.0],\"autorange\":\"reversed\",\"constrain\":\"domain\",\"title\":{\"text\":\"Multi-Agent HJ Naive\"}},\"coloraxis\":{\"colorscale\":[[0.0,\"#0d0887\"],[0.1111111111111111,\"#46039f\"],[0.2222222222222222,\"#7201a8\"],[0.3333333333333333,\"#9c179e\"],[0.4444444444444444,\"#bd3786\"],[0.5555555555555556,\"#d8576b\"],[0.6666666666666666,\"#ed7953\"],[0.7777777777777778,\"#fb9f3a\"],[0.8888888888888888,\"#fdca26\"],[1.0,\"#f0f921\"]]},\"margin\":{\"t\":60},\"title\":{\"text\":\"Missions without collisions and with maintained connectivity\"}},                        {\"responsive\": true}                    ).then(function(){\n",
       "                            \n",
       "var gd = document.getElementById('9c16d992-cc7d-408a-b8e8-38bc73c79c10');\n",
       "var x = new MutationObserver(function (mutations, observer) {{\n",
       "        var display = window.getComputedStyle(gd).display;\n",
       "        if (!display || display === 'none') {{\n",
       "            console.log([gd, 'removed!']);\n",
       "            Plotly.purge(gd);\n",
       "            observer.disconnect();\n",
       "        }}\n",
       "}});\n",
       "\n",
       "// Listen for the removal of the full notebook cells\n",
       "var notebookContainer = gd.closest('#notebook-container');\n",
       "if (notebookContainer) {{\n",
       "    x.observe(notebookContainer, {childList: true});\n",
       "}}\n",
       "\n",
       "// Listen for the clearing of the current output cell\n",
       "var outputEl = gd.closest('.output');\n",
       "if (outputEl) {{\n",
       "    x.observe(outputEl, {childList: true});\n",
       "}}\n",
       "\n",
       "                        })                };                });            </script>        </div>"
      ]
     },
     "metadata": {},
     "output_type": "display_data"
    }
   ],
   "source": [
    "connect_objective_reactive = (metrics_hj_reactive[\"Isolated_platform_metric\"]==0) & (metrics_hj_reactive[\"Number_of_collision\"] == 0)\n",
    "connect_objective_hj_naive = (metrics_hj_naive[\"Isolated_platform_metric\"]==0) & (metrics_hj_naive[\"Number_of_collision\"] == 0)\n",
    "fig_react_maint = plot_confusion_matrix(connect_objective_hj_naive , connect_objective_reactive , \n",
    "    'Multi-Agent HJ Naive', 'Multi-Agent HJ Reactive Control', title_name= 'Missions without collisions and with maintained connectivity')"
   ]
  },
  {
   "cell_type": "markdown",
   "metadata": {},
   "source": [
    "+  Missions success counts"
   ]
  },
  {
   "cell_type": "code",
   "execution_count": 24,
   "metadata": {},
   "outputs": [
    {
     "data": {
      "application/vnd.plotly.v1+json": {
       "config": {
        "plotlyServerURL": "https://plot.ly"
       },
       "data": [
        {
         "coloraxis": "coloraxis",
         "hovertemplate": "Multi-Agent HJ Reactive: %{x}<br>Multi-Agent HJ Naive: %{y}<br>color: %{z}<extra></extra>",
         "name": "0",
         "texttemplate": "%{z}",
         "type": "heatmap",
         "x": [
          false,
          true
         ],
         "xaxis": "x",
         "y": [
          false,
          true
         ],
         "yaxis": "y",
         "z": [
          [
           199,
           224
          ],
          [
           12,
           113
          ]
         ]
        }
       ],
       "layout": {
        "coloraxis": {
         "colorscale": [
          [
           0,
           "#0d0887"
          ],
          [
           0.1111111111111111,
           "#46039f"
          ],
          [
           0.2222222222222222,
           "#7201a8"
          ],
          [
           0.3333333333333333,
           "#9c179e"
          ],
          [
           0.4444444444444444,
           "#bd3786"
          ],
          [
           0.5555555555555556,
           "#d8576b"
          ],
          [
           0.6666666666666666,
           "#ed7953"
          ],
          [
           0.7777777777777778,
           "#fb9f3a"
          ],
          [
           0.8888888888888888,
           "#fdca26"
          ],
          [
           1,
           "#f0f921"
          ]
         ]
        },
        "margin": {
         "t": 60
        },
        "template": {
         "data": {
          "bar": [
           {
            "error_x": {
             "color": "#2a3f5f"
            },
            "error_y": {
             "color": "#2a3f5f"
            },
            "marker": {
             "line": {
              "color": "#E5ECF6",
              "width": 0.5
             },
             "pattern": {
              "fillmode": "overlay",
              "size": 10,
              "solidity": 0.2
             }
            },
            "type": "bar"
           }
          ],
          "barpolar": [
           {
            "marker": {
             "line": {
              "color": "#E5ECF6",
              "width": 0.5
             },
             "pattern": {
              "fillmode": "overlay",
              "size": 10,
              "solidity": 0.2
             }
            },
            "type": "barpolar"
           }
          ],
          "carpet": [
           {
            "aaxis": {
             "endlinecolor": "#2a3f5f",
             "gridcolor": "white",
             "linecolor": "white",
             "minorgridcolor": "white",
             "startlinecolor": "#2a3f5f"
            },
            "baxis": {
             "endlinecolor": "#2a3f5f",
             "gridcolor": "white",
             "linecolor": "white",
             "minorgridcolor": "white",
             "startlinecolor": "#2a3f5f"
            },
            "type": "carpet"
           }
          ],
          "choropleth": [
           {
            "colorbar": {
             "outlinewidth": 0,
             "ticks": ""
            },
            "type": "choropleth"
           }
          ],
          "contour": [
           {
            "colorbar": {
             "outlinewidth": 0,
             "ticks": ""
            },
            "colorscale": [
             [
              0,
              "#0d0887"
             ],
             [
              0.1111111111111111,
              "#46039f"
             ],
             [
              0.2222222222222222,
              "#7201a8"
             ],
             [
              0.3333333333333333,
              "#9c179e"
             ],
             [
              0.4444444444444444,
              "#bd3786"
             ],
             [
              0.5555555555555556,
              "#d8576b"
             ],
             [
              0.6666666666666666,
              "#ed7953"
             ],
             [
              0.7777777777777778,
              "#fb9f3a"
             ],
             [
              0.8888888888888888,
              "#fdca26"
             ],
             [
              1,
              "#f0f921"
             ]
            ],
            "type": "contour"
           }
          ],
          "contourcarpet": [
           {
            "colorbar": {
             "outlinewidth": 0,
             "ticks": ""
            },
            "type": "contourcarpet"
           }
          ],
          "heatmap": [
           {
            "colorbar": {
             "outlinewidth": 0,
             "ticks": ""
            },
            "colorscale": [
             [
              0,
              "#0d0887"
             ],
             [
              0.1111111111111111,
              "#46039f"
             ],
             [
              0.2222222222222222,
              "#7201a8"
             ],
             [
              0.3333333333333333,
              "#9c179e"
             ],
             [
              0.4444444444444444,
              "#bd3786"
             ],
             [
              0.5555555555555556,
              "#d8576b"
             ],
             [
              0.6666666666666666,
              "#ed7953"
             ],
             [
              0.7777777777777778,
              "#fb9f3a"
             ],
             [
              0.8888888888888888,
              "#fdca26"
             ],
             [
              1,
              "#f0f921"
             ]
            ],
            "type": "heatmap"
           }
          ],
          "heatmapgl": [
           {
            "colorbar": {
             "outlinewidth": 0,
             "ticks": ""
            },
            "colorscale": [
             [
              0,
              "#0d0887"
             ],
             [
              0.1111111111111111,
              "#46039f"
             ],
             [
              0.2222222222222222,
              "#7201a8"
             ],
             [
              0.3333333333333333,
              "#9c179e"
             ],
             [
              0.4444444444444444,
              "#bd3786"
             ],
             [
              0.5555555555555556,
              "#d8576b"
             ],
             [
              0.6666666666666666,
              "#ed7953"
             ],
             [
              0.7777777777777778,
              "#fb9f3a"
             ],
             [
              0.8888888888888888,
              "#fdca26"
             ],
             [
              1,
              "#f0f921"
             ]
            ],
            "type": "heatmapgl"
           }
          ],
          "histogram": [
           {
            "marker": {
             "pattern": {
              "fillmode": "overlay",
              "size": 10,
              "solidity": 0.2
             }
            },
            "type": "histogram"
           }
          ],
          "histogram2d": [
           {
            "colorbar": {
             "outlinewidth": 0,
             "ticks": ""
            },
            "colorscale": [
             [
              0,
              "#0d0887"
             ],
             [
              0.1111111111111111,
              "#46039f"
             ],
             [
              0.2222222222222222,
              "#7201a8"
             ],
             [
              0.3333333333333333,
              "#9c179e"
             ],
             [
              0.4444444444444444,
              "#bd3786"
             ],
             [
              0.5555555555555556,
              "#d8576b"
             ],
             [
              0.6666666666666666,
              "#ed7953"
             ],
             [
              0.7777777777777778,
              "#fb9f3a"
             ],
             [
              0.8888888888888888,
              "#fdca26"
             ],
             [
              1,
              "#f0f921"
             ]
            ],
            "type": "histogram2d"
           }
          ],
          "histogram2dcontour": [
           {
            "colorbar": {
             "outlinewidth": 0,
             "ticks": ""
            },
            "colorscale": [
             [
              0,
              "#0d0887"
             ],
             [
              0.1111111111111111,
              "#46039f"
             ],
             [
              0.2222222222222222,
              "#7201a8"
             ],
             [
              0.3333333333333333,
              "#9c179e"
             ],
             [
              0.4444444444444444,
              "#bd3786"
             ],
             [
              0.5555555555555556,
              "#d8576b"
             ],
             [
              0.6666666666666666,
              "#ed7953"
             ],
             [
              0.7777777777777778,
              "#fb9f3a"
             ],
             [
              0.8888888888888888,
              "#fdca26"
             ],
             [
              1,
              "#f0f921"
             ]
            ],
            "type": "histogram2dcontour"
           }
          ],
          "mesh3d": [
           {
            "colorbar": {
             "outlinewidth": 0,
             "ticks": ""
            },
            "type": "mesh3d"
           }
          ],
          "parcoords": [
           {
            "line": {
             "colorbar": {
              "outlinewidth": 0,
              "ticks": ""
             }
            },
            "type": "parcoords"
           }
          ],
          "pie": [
           {
            "automargin": true,
            "type": "pie"
           }
          ],
          "scatter": [
           {
            "fillpattern": {
             "fillmode": "overlay",
             "size": 10,
             "solidity": 0.2
            },
            "type": "scatter"
           }
          ],
          "scatter3d": [
           {
            "line": {
             "colorbar": {
              "outlinewidth": 0,
              "ticks": ""
             }
            },
            "marker": {
             "colorbar": {
              "outlinewidth": 0,
              "ticks": ""
             }
            },
            "type": "scatter3d"
           }
          ],
          "scattercarpet": [
           {
            "marker": {
             "colorbar": {
              "outlinewidth": 0,
              "ticks": ""
             }
            },
            "type": "scattercarpet"
           }
          ],
          "scattergeo": [
           {
            "marker": {
             "colorbar": {
              "outlinewidth": 0,
              "ticks": ""
             }
            },
            "type": "scattergeo"
           }
          ],
          "scattergl": [
           {
            "marker": {
             "colorbar": {
              "outlinewidth": 0,
              "ticks": ""
             }
            },
            "type": "scattergl"
           }
          ],
          "scattermapbox": [
           {
            "marker": {
             "colorbar": {
              "outlinewidth": 0,
              "ticks": ""
             }
            },
            "type": "scattermapbox"
           }
          ],
          "scatterpolar": [
           {
            "marker": {
             "colorbar": {
              "outlinewidth": 0,
              "ticks": ""
             }
            },
            "type": "scatterpolar"
           }
          ],
          "scatterpolargl": [
           {
            "marker": {
             "colorbar": {
              "outlinewidth": 0,
              "ticks": ""
             }
            },
            "type": "scatterpolargl"
           }
          ],
          "scatterternary": [
           {
            "marker": {
             "colorbar": {
              "outlinewidth": 0,
              "ticks": ""
             }
            },
            "type": "scatterternary"
           }
          ],
          "surface": [
           {
            "colorbar": {
             "outlinewidth": 0,
             "ticks": ""
            },
            "colorscale": [
             [
              0,
              "#0d0887"
             ],
             [
              0.1111111111111111,
              "#46039f"
             ],
             [
              0.2222222222222222,
              "#7201a8"
             ],
             [
              0.3333333333333333,
              "#9c179e"
             ],
             [
              0.4444444444444444,
              "#bd3786"
             ],
             [
              0.5555555555555556,
              "#d8576b"
             ],
             [
              0.6666666666666666,
              "#ed7953"
             ],
             [
              0.7777777777777778,
              "#fb9f3a"
             ],
             [
              0.8888888888888888,
              "#fdca26"
             ],
             [
              1,
              "#f0f921"
             ]
            ],
            "type": "surface"
           }
          ],
          "table": [
           {
            "cells": {
             "fill": {
              "color": "#EBF0F8"
             },
             "line": {
              "color": "white"
             }
            },
            "header": {
             "fill": {
              "color": "#C8D4E3"
             },
             "line": {
              "color": "white"
             }
            },
            "type": "table"
           }
          ]
         },
         "layout": {
          "annotationdefaults": {
           "arrowcolor": "#2a3f5f",
           "arrowhead": 0,
           "arrowwidth": 1
          },
          "autotypenumbers": "strict",
          "coloraxis": {
           "colorbar": {
            "outlinewidth": 0,
            "ticks": ""
           }
          },
          "colorscale": {
           "diverging": [
            [
             0,
             "#8e0152"
            ],
            [
             0.1,
             "#c51b7d"
            ],
            [
             0.2,
             "#de77ae"
            ],
            [
             0.3,
             "#f1b6da"
            ],
            [
             0.4,
             "#fde0ef"
            ],
            [
             0.5,
             "#f7f7f7"
            ],
            [
             0.6,
             "#e6f5d0"
            ],
            [
             0.7,
             "#b8e186"
            ],
            [
             0.8,
             "#7fbc41"
            ],
            [
             0.9,
             "#4d9221"
            ],
            [
             1,
             "#276419"
            ]
           ],
           "sequential": [
            [
             0,
             "#0d0887"
            ],
            [
             0.1111111111111111,
             "#46039f"
            ],
            [
             0.2222222222222222,
             "#7201a8"
            ],
            [
             0.3333333333333333,
             "#9c179e"
            ],
            [
             0.4444444444444444,
             "#bd3786"
            ],
            [
             0.5555555555555556,
             "#d8576b"
            ],
            [
             0.6666666666666666,
             "#ed7953"
            ],
            [
             0.7777777777777778,
             "#fb9f3a"
            ],
            [
             0.8888888888888888,
             "#fdca26"
            ],
            [
             1,
             "#f0f921"
            ]
           ],
           "sequentialminus": [
            [
             0,
             "#0d0887"
            ],
            [
             0.1111111111111111,
             "#46039f"
            ],
            [
             0.2222222222222222,
             "#7201a8"
            ],
            [
             0.3333333333333333,
             "#9c179e"
            ],
            [
             0.4444444444444444,
             "#bd3786"
            ],
            [
             0.5555555555555556,
             "#d8576b"
            ],
            [
             0.6666666666666666,
             "#ed7953"
            ],
            [
             0.7777777777777778,
             "#fb9f3a"
            ],
            [
             0.8888888888888888,
             "#fdca26"
            ],
            [
             1,
             "#f0f921"
            ]
           ]
          },
          "colorway": [
           "#636efa",
           "#EF553B",
           "#00cc96",
           "#ab63fa",
           "#FFA15A",
           "#19d3f3",
           "#FF6692",
           "#B6E880",
           "#FF97FF",
           "#FECB52"
          ],
          "font": {
           "color": "#2a3f5f"
          },
          "geo": {
           "bgcolor": "white",
           "lakecolor": "white",
           "landcolor": "#E5ECF6",
           "showlakes": true,
           "showland": true,
           "subunitcolor": "white"
          },
          "hoverlabel": {
           "align": "left"
          },
          "hovermode": "closest",
          "mapbox": {
           "style": "light"
          },
          "paper_bgcolor": "white",
          "plot_bgcolor": "#E5ECF6",
          "polar": {
           "angularaxis": {
            "gridcolor": "white",
            "linecolor": "white",
            "ticks": ""
           },
           "bgcolor": "#E5ECF6",
           "radialaxis": {
            "gridcolor": "white",
            "linecolor": "white",
            "ticks": ""
           }
          },
          "scene": {
           "xaxis": {
            "backgroundcolor": "#E5ECF6",
            "gridcolor": "white",
            "gridwidth": 2,
            "linecolor": "white",
            "showbackground": true,
            "ticks": "",
            "zerolinecolor": "white"
           },
           "yaxis": {
            "backgroundcolor": "#E5ECF6",
            "gridcolor": "white",
            "gridwidth": 2,
            "linecolor": "white",
            "showbackground": true,
            "ticks": "",
            "zerolinecolor": "white"
           },
           "zaxis": {
            "backgroundcolor": "#E5ECF6",
            "gridcolor": "white",
            "gridwidth": 2,
            "linecolor": "white",
            "showbackground": true,
            "ticks": "",
            "zerolinecolor": "white"
           }
          },
          "shapedefaults": {
           "line": {
            "color": "#2a3f5f"
           }
          },
          "ternary": {
           "aaxis": {
            "gridcolor": "white",
            "linecolor": "white",
            "ticks": ""
           },
           "baxis": {
            "gridcolor": "white",
            "linecolor": "white",
            "ticks": ""
           },
           "bgcolor": "#E5ECF6",
           "caxis": {
            "gridcolor": "white",
            "linecolor": "white",
            "ticks": ""
           }
          },
          "title": {
           "x": 0.05
          },
          "xaxis": {
           "automargin": true,
           "gridcolor": "white",
           "linecolor": "white",
           "ticks": "",
           "title": {
            "standoff": 15
           },
           "zerolinecolor": "white",
           "zerolinewidth": 2
          },
          "yaxis": {
           "automargin": true,
           "gridcolor": "white",
           "linecolor": "white",
           "ticks": "",
           "title": {
            "standoff": 15
           },
           "zerolinecolor": "white",
           "zerolinewidth": 2
          }
         }
        },
        "title": {
         "text": "Mission Success"
        },
        "xaxis": {
         "anchor": "y",
         "constrain": "domain",
         "domain": [
          0,
          1
         ],
         "scaleanchor": "y",
         "title": {
          "text": "Multi-Agent HJ Reactive"
         }
        },
        "yaxis": {
         "anchor": "x",
         "autorange": "reversed",
         "constrain": "domain",
         "domain": [
          0,
          1
         ],
         "title": {
          "text": "Multi-Agent HJ Naive"
         }
        }
       }
      },
      "text/html": [
       "<div>                            <div id=\"65b25457-90eb-4a0d-becf-0890a15ab687\" class=\"plotly-graph-div\" style=\"height:525px; width:100%;\"></div>            <script type=\"text/javascript\">                require([\"plotly\"], function(Plotly) {                    window.PLOTLYENV=window.PLOTLYENV || {};                                    if (document.getElementById(\"65b25457-90eb-4a0d-becf-0890a15ab687\")) {                    Plotly.newPlot(                        \"65b25457-90eb-4a0d-becf-0890a15ab687\",                        [{\"coloraxis\":\"coloraxis\",\"name\":\"0\",\"texttemplate\":\"%{z}\",\"x\":[false,true],\"y\":[false,true],\"z\":[[199,224],[12,113]],\"type\":\"heatmap\",\"xaxis\":\"x\",\"yaxis\":\"y\",\"hovertemplate\":\"Multi-Agent HJ Reactive: %{x}<br>Multi-Agent HJ Naive: %{y}<br>color: %{z}<extra></extra>\"}],                        {\"template\":{\"data\":{\"histogram2dcontour\":[{\"type\":\"histogram2dcontour\",\"colorbar\":{\"outlinewidth\":0,\"ticks\":\"\"},\"colorscale\":[[0.0,\"#0d0887\"],[0.1111111111111111,\"#46039f\"],[0.2222222222222222,\"#7201a8\"],[0.3333333333333333,\"#9c179e\"],[0.4444444444444444,\"#bd3786\"],[0.5555555555555556,\"#d8576b\"],[0.6666666666666666,\"#ed7953\"],[0.7777777777777778,\"#fb9f3a\"],[0.8888888888888888,\"#fdca26\"],[1.0,\"#f0f921\"]]}],\"choropleth\":[{\"type\":\"choropleth\",\"colorbar\":{\"outlinewidth\":0,\"ticks\":\"\"}}],\"histogram2d\":[{\"type\":\"histogram2d\",\"colorbar\":{\"outlinewidth\":0,\"ticks\":\"\"},\"colorscale\":[[0.0,\"#0d0887\"],[0.1111111111111111,\"#46039f\"],[0.2222222222222222,\"#7201a8\"],[0.3333333333333333,\"#9c179e\"],[0.4444444444444444,\"#bd3786\"],[0.5555555555555556,\"#d8576b\"],[0.6666666666666666,\"#ed7953\"],[0.7777777777777778,\"#fb9f3a\"],[0.8888888888888888,\"#fdca26\"],[1.0,\"#f0f921\"]]}],\"heatmap\":[{\"type\":\"heatmap\",\"colorbar\":{\"outlinewidth\":0,\"ticks\":\"\"},\"colorscale\":[[0.0,\"#0d0887\"],[0.1111111111111111,\"#46039f\"],[0.2222222222222222,\"#7201a8\"],[0.3333333333333333,\"#9c179e\"],[0.4444444444444444,\"#bd3786\"],[0.5555555555555556,\"#d8576b\"],[0.6666666666666666,\"#ed7953\"],[0.7777777777777778,\"#fb9f3a\"],[0.8888888888888888,\"#fdca26\"],[1.0,\"#f0f921\"]]}],\"heatmapgl\":[{\"type\":\"heatmapgl\",\"colorbar\":{\"outlinewidth\":0,\"ticks\":\"\"},\"colorscale\":[[0.0,\"#0d0887\"],[0.1111111111111111,\"#46039f\"],[0.2222222222222222,\"#7201a8\"],[0.3333333333333333,\"#9c179e\"],[0.4444444444444444,\"#bd3786\"],[0.5555555555555556,\"#d8576b\"],[0.6666666666666666,\"#ed7953\"],[0.7777777777777778,\"#fb9f3a\"],[0.8888888888888888,\"#fdca26\"],[1.0,\"#f0f921\"]]}],\"contourcarpet\":[{\"type\":\"contourcarpet\",\"colorbar\":{\"outlinewidth\":0,\"ticks\":\"\"}}],\"contour\":[{\"type\":\"contour\",\"colorbar\":{\"outlinewidth\":0,\"ticks\":\"\"},\"colorscale\":[[0.0,\"#0d0887\"],[0.1111111111111111,\"#46039f\"],[0.2222222222222222,\"#7201a8\"],[0.3333333333333333,\"#9c179e\"],[0.4444444444444444,\"#bd3786\"],[0.5555555555555556,\"#d8576b\"],[0.6666666666666666,\"#ed7953\"],[0.7777777777777778,\"#fb9f3a\"],[0.8888888888888888,\"#fdca26\"],[1.0,\"#f0f921\"]]}],\"surface\":[{\"type\":\"surface\",\"colorbar\":{\"outlinewidth\":0,\"ticks\":\"\"},\"colorscale\":[[0.0,\"#0d0887\"],[0.1111111111111111,\"#46039f\"],[0.2222222222222222,\"#7201a8\"],[0.3333333333333333,\"#9c179e\"],[0.4444444444444444,\"#bd3786\"],[0.5555555555555556,\"#d8576b\"],[0.6666666666666666,\"#ed7953\"],[0.7777777777777778,\"#fb9f3a\"],[0.8888888888888888,\"#fdca26\"],[1.0,\"#f0f921\"]]}],\"mesh3d\":[{\"type\":\"mesh3d\",\"colorbar\":{\"outlinewidth\":0,\"ticks\":\"\"}}],\"scatter\":[{\"fillpattern\":{\"fillmode\":\"overlay\",\"size\":10,\"solidity\":0.2},\"type\":\"scatter\"}],\"parcoords\":[{\"type\":\"parcoords\",\"line\":{\"colorbar\":{\"outlinewidth\":0,\"ticks\":\"\"}}}],\"scatterpolargl\":[{\"type\":\"scatterpolargl\",\"marker\":{\"colorbar\":{\"outlinewidth\":0,\"ticks\":\"\"}}}],\"bar\":[{\"error_x\":{\"color\":\"#2a3f5f\"},\"error_y\":{\"color\":\"#2a3f5f\"},\"marker\":{\"line\":{\"color\":\"#E5ECF6\",\"width\":0.5},\"pattern\":{\"fillmode\":\"overlay\",\"size\":10,\"solidity\":0.2}},\"type\":\"bar\"}],\"scattergeo\":[{\"type\":\"scattergeo\",\"marker\":{\"colorbar\":{\"outlinewidth\":0,\"ticks\":\"\"}}}],\"scatterpolar\":[{\"type\":\"scatterpolar\",\"marker\":{\"colorbar\":{\"outlinewidth\":0,\"ticks\":\"\"}}}],\"histogram\":[{\"marker\":{\"pattern\":{\"fillmode\":\"overlay\",\"size\":10,\"solidity\":0.2}},\"type\":\"histogram\"}],\"scattergl\":[{\"type\":\"scattergl\",\"marker\":{\"colorbar\":{\"outlinewidth\":0,\"ticks\":\"\"}}}],\"scatter3d\":[{\"type\":\"scatter3d\",\"line\":{\"colorbar\":{\"outlinewidth\":0,\"ticks\":\"\"}},\"marker\":{\"colorbar\":{\"outlinewidth\":0,\"ticks\":\"\"}}}],\"scattermapbox\":[{\"type\":\"scattermapbox\",\"marker\":{\"colorbar\":{\"outlinewidth\":0,\"ticks\":\"\"}}}],\"scatterternary\":[{\"type\":\"scatterternary\",\"marker\":{\"colorbar\":{\"outlinewidth\":0,\"ticks\":\"\"}}}],\"scattercarpet\":[{\"type\":\"scattercarpet\",\"marker\":{\"colorbar\":{\"outlinewidth\":0,\"ticks\":\"\"}}}],\"carpet\":[{\"aaxis\":{\"endlinecolor\":\"#2a3f5f\",\"gridcolor\":\"white\",\"linecolor\":\"white\",\"minorgridcolor\":\"white\",\"startlinecolor\":\"#2a3f5f\"},\"baxis\":{\"endlinecolor\":\"#2a3f5f\",\"gridcolor\":\"white\",\"linecolor\":\"white\",\"minorgridcolor\":\"white\",\"startlinecolor\":\"#2a3f5f\"},\"type\":\"carpet\"}],\"table\":[{\"cells\":{\"fill\":{\"color\":\"#EBF0F8\"},\"line\":{\"color\":\"white\"}},\"header\":{\"fill\":{\"color\":\"#C8D4E3\"},\"line\":{\"color\":\"white\"}},\"type\":\"table\"}],\"barpolar\":[{\"marker\":{\"line\":{\"color\":\"#E5ECF6\",\"width\":0.5},\"pattern\":{\"fillmode\":\"overlay\",\"size\":10,\"solidity\":0.2}},\"type\":\"barpolar\"}],\"pie\":[{\"automargin\":true,\"type\":\"pie\"}]},\"layout\":{\"autotypenumbers\":\"strict\",\"colorway\":[\"#636efa\",\"#EF553B\",\"#00cc96\",\"#ab63fa\",\"#FFA15A\",\"#19d3f3\",\"#FF6692\",\"#B6E880\",\"#FF97FF\",\"#FECB52\"],\"font\":{\"color\":\"#2a3f5f\"},\"hovermode\":\"closest\",\"hoverlabel\":{\"align\":\"left\"},\"paper_bgcolor\":\"white\",\"plot_bgcolor\":\"#E5ECF6\",\"polar\":{\"bgcolor\":\"#E5ECF6\",\"angularaxis\":{\"gridcolor\":\"white\",\"linecolor\":\"white\",\"ticks\":\"\"},\"radialaxis\":{\"gridcolor\":\"white\",\"linecolor\":\"white\",\"ticks\":\"\"}},\"ternary\":{\"bgcolor\":\"#E5ECF6\",\"aaxis\":{\"gridcolor\":\"white\",\"linecolor\":\"white\",\"ticks\":\"\"},\"baxis\":{\"gridcolor\":\"white\",\"linecolor\":\"white\",\"ticks\":\"\"},\"caxis\":{\"gridcolor\":\"white\",\"linecolor\":\"white\",\"ticks\":\"\"}},\"coloraxis\":{\"colorbar\":{\"outlinewidth\":0,\"ticks\":\"\"}},\"colorscale\":{\"sequential\":[[0.0,\"#0d0887\"],[0.1111111111111111,\"#46039f\"],[0.2222222222222222,\"#7201a8\"],[0.3333333333333333,\"#9c179e\"],[0.4444444444444444,\"#bd3786\"],[0.5555555555555556,\"#d8576b\"],[0.6666666666666666,\"#ed7953\"],[0.7777777777777778,\"#fb9f3a\"],[0.8888888888888888,\"#fdca26\"],[1.0,\"#f0f921\"]],\"sequentialminus\":[[0.0,\"#0d0887\"],[0.1111111111111111,\"#46039f\"],[0.2222222222222222,\"#7201a8\"],[0.3333333333333333,\"#9c179e\"],[0.4444444444444444,\"#bd3786\"],[0.5555555555555556,\"#d8576b\"],[0.6666666666666666,\"#ed7953\"],[0.7777777777777778,\"#fb9f3a\"],[0.8888888888888888,\"#fdca26\"],[1.0,\"#f0f921\"]],\"diverging\":[[0,\"#8e0152\"],[0.1,\"#c51b7d\"],[0.2,\"#de77ae\"],[0.3,\"#f1b6da\"],[0.4,\"#fde0ef\"],[0.5,\"#f7f7f7\"],[0.6,\"#e6f5d0\"],[0.7,\"#b8e186\"],[0.8,\"#7fbc41\"],[0.9,\"#4d9221\"],[1,\"#276419\"]]},\"xaxis\":{\"gridcolor\":\"white\",\"linecolor\":\"white\",\"ticks\":\"\",\"title\":{\"standoff\":15},\"zerolinecolor\":\"white\",\"automargin\":true,\"zerolinewidth\":2},\"yaxis\":{\"gridcolor\":\"white\",\"linecolor\":\"white\",\"ticks\":\"\",\"title\":{\"standoff\":15},\"zerolinecolor\":\"white\",\"automargin\":true,\"zerolinewidth\":2},\"scene\":{\"xaxis\":{\"backgroundcolor\":\"#E5ECF6\",\"gridcolor\":\"white\",\"linecolor\":\"white\",\"showbackground\":true,\"ticks\":\"\",\"zerolinecolor\":\"white\",\"gridwidth\":2},\"yaxis\":{\"backgroundcolor\":\"#E5ECF6\",\"gridcolor\":\"white\",\"linecolor\":\"white\",\"showbackground\":true,\"ticks\":\"\",\"zerolinecolor\":\"white\",\"gridwidth\":2},\"zaxis\":{\"backgroundcolor\":\"#E5ECF6\",\"gridcolor\":\"white\",\"linecolor\":\"white\",\"showbackground\":true,\"ticks\":\"\",\"zerolinecolor\":\"white\",\"gridwidth\":2}},\"shapedefaults\":{\"line\":{\"color\":\"#2a3f5f\"}},\"annotationdefaults\":{\"arrowcolor\":\"#2a3f5f\",\"arrowhead\":0,\"arrowwidth\":1},\"geo\":{\"bgcolor\":\"white\",\"landcolor\":\"#E5ECF6\",\"subunitcolor\":\"white\",\"showland\":true,\"showlakes\":true,\"lakecolor\":\"white\"},\"title\":{\"x\":0.05},\"mapbox\":{\"style\":\"light\"}}},\"xaxis\":{\"anchor\":\"y\",\"domain\":[0.0,1.0],\"scaleanchor\":\"y\",\"constrain\":\"domain\",\"title\":{\"text\":\"Multi-Agent HJ Reactive\"}},\"yaxis\":{\"anchor\":\"x\",\"domain\":[0.0,1.0],\"autorange\":\"reversed\",\"constrain\":\"domain\",\"title\":{\"text\":\"Multi-Agent HJ Naive\"}},\"coloraxis\":{\"colorscale\":[[0.0,\"#0d0887\"],[0.1111111111111111,\"#46039f\"],[0.2222222222222222,\"#7201a8\"],[0.3333333333333333,\"#9c179e\"],[0.4444444444444444,\"#bd3786\"],[0.5555555555555556,\"#d8576b\"],[0.6666666666666666,\"#ed7953\"],[0.7777777777777778,\"#fb9f3a\"],[0.8888888888888888,\"#fdca26\"],[1.0,\"#f0f921\"]]},\"margin\":{\"t\":60},\"title\":{\"text\":\"Mission Success\"}},                        {\"responsive\": true}                    ).then(function(){\n",
       "                            \n",
       "var gd = document.getElementById('65b25457-90eb-4a0d-becf-0890a15ab687');\n",
       "var x = new MutationObserver(function (mutations, observer) {{\n",
       "        var display = window.getComputedStyle(gd).display;\n",
       "        if (!display || display === 'none') {{\n",
       "            console.log([gd, 'removed!']);\n",
       "            Plotly.purge(gd);\n",
       "            observer.disconnect();\n",
       "        }}\n",
       "}});\n",
       "\n",
       "// Listen for the removal of the full notebook cells\n",
       "var notebookContainer = gd.closest('#notebook-container');\n",
       "if (notebookContainer) {{\n",
       "    x.observe(notebookContainer, {childList: true});\n",
       "}}\n",
       "\n",
       "// Listen for the clearing of the current output cell\n",
       "var outputEl = gd.closest('.output');\n",
       "if (outputEl) {{\n",
       "    x.observe(outputEl, {childList: true});\n",
       "}}\n",
       "\n",
       "                        })                };                });            </script>        </div>"
      ]
     },
     "metadata": {},
     "output_type": "display_data"
    }
   ],
   "source": [
    "fig_react_success  = plot_confusion_matrix(metrics_hj_naive[\"Mission_success\"]==1, \n",
    "                        metrics_hj_reactive[\"Mission_success\"]==1, 'Multi-Agent HJ Naive', \n",
    "                        'Multi-Agent HJ Reactive', title_name=\"Mission Success\")"
   ]
  },
  {
   "attachments": {},
   "cell_type": "markdown",
   "metadata": {},
   "source": [
    "###  HJ naive vs Flocking"
   ]
  },
  {
   "attachments": {},
   "cell_type": "markdown",
   "metadata": {},
   "source": [
    "+  Missions with collisions"
   ]
  },
  {
   "cell_type": "code",
   "execution_count": 25,
   "metadata": {},
   "outputs": [
    {
     "data": {
      "application/vnd.plotly.v1+json": {
       "config": {
        "plotlyServerURL": "https://plot.ly"
       },
       "data": [
        {
         "coloraxis": "coloraxis",
         "hovertemplate": "Multi-Agent HJ Flocking Control: %{x}<br>Multi-Agent HJ Naive: %{y}<br>color: %{z}<extra></extra>",
         "name": "0",
         "texttemplate": "%{z}",
         "type": "heatmap",
         "x": [
          false,
          true
         ],
         "xaxis": "x",
         "y": [
          false,
          true
         ],
         "yaxis": "y",
         "z": [
          [
           331,
           0
          ],
          [
           210,
           7
          ]
         ]
        }
       ],
       "layout": {
        "coloraxis": {
         "colorscale": [
          [
           0,
           "#0d0887"
          ],
          [
           0.1111111111111111,
           "#46039f"
          ],
          [
           0.2222222222222222,
           "#7201a8"
          ],
          [
           0.3333333333333333,
           "#9c179e"
          ],
          [
           0.4444444444444444,
           "#bd3786"
          ],
          [
           0.5555555555555556,
           "#d8576b"
          ],
          [
           0.6666666666666666,
           "#ed7953"
          ],
          [
           0.7777777777777778,
           "#fb9f3a"
          ],
          [
           0.8888888888888888,
           "#fdca26"
          ],
          [
           1,
           "#f0f921"
          ]
         ]
        },
        "margin": {
         "t": 60
        },
        "template": {
         "data": {
          "bar": [
           {
            "error_x": {
             "color": "#2a3f5f"
            },
            "error_y": {
             "color": "#2a3f5f"
            },
            "marker": {
             "line": {
              "color": "#E5ECF6",
              "width": 0.5
             },
             "pattern": {
              "fillmode": "overlay",
              "size": 10,
              "solidity": 0.2
             }
            },
            "type": "bar"
           }
          ],
          "barpolar": [
           {
            "marker": {
             "line": {
              "color": "#E5ECF6",
              "width": 0.5
             },
             "pattern": {
              "fillmode": "overlay",
              "size": 10,
              "solidity": 0.2
             }
            },
            "type": "barpolar"
           }
          ],
          "carpet": [
           {
            "aaxis": {
             "endlinecolor": "#2a3f5f",
             "gridcolor": "white",
             "linecolor": "white",
             "minorgridcolor": "white",
             "startlinecolor": "#2a3f5f"
            },
            "baxis": {
             "endlinecolor": "#2a3f5f",
             "gridcolor": "white",
             "linecolor": "white",
             "minorgridcolor": "white",
             "startlinecolor": "#2a3f5f"
            },
            "type": "carpet"
           }
          ],
          "choropleth": [
           {
            "colorbar": {
             "outlinewidth": 0,
             "ticks": ""
            },
            "type": "choropleth"
           }
          ],
          "contour": [
           {
            "colorbar": {
             "outlinewidth": 0,
             "ticks": ""
            },
            "colorscale": [
             [
              0,
              "#0d0887"
             ],
             [
              0.1111111111111111,
              "#46039f"
             ],
             [
              0.2222222222222222,
              "#7201a8"
             ],
             [
              0.3333333333333333,
              "#9c179e"
             ],
             [
              0.4444444444444444,
              "#bd3786"
             ],
             [
              0.5555555555555556,
              "#d8576b"
             ],
             [
              0.6666666666666666,
              "#ed7953"
             ],
             [
              0.7777777777777778,
              "#fb9f3a"
             ],
             [
              0.8888888888888888,
              "#fdca26"
             ],
             [
              1,
              "#f0f921"
             ]
            ],
            "type": "contour"
           }
          ],
          "contourcarpet": [
           {
            "colorbar": {
             "outlinewidth": 0,
             "ticks": ""
            },
            "type": "contourcarpet"
           }
          ],
          "heatmap": [
           {
            "colorbar": {
             "outlinewidth": 0,
             "ticks": ""
            },
            "colorscale": [
             [
              0,
              "#0d0887"
             ],
             [
              0.1111111111111111,
              "#46039f"
             ],
             [
              0.2222222222222222,
              "#7201a8"
             ],
             [
              0.3333333333333333,
              "#9c179e"
             ],
             [
              0.4444444444444444,
              "#bd3786"
             ],
             [
              0.5555555555555556,
              "#d8576b"
             ],
             [
              0.6666666666666666,
              "#ed7953"
             ],
             [
              0.7777777777777778,
              "#fb9f3a"
             ],
             [
              0.8888888888888888,
              "#fdca26"
             ],
             [
              1,
              "#f0f921"
             ]
            ],
            "type": "heatmap"
           }
          ],
          "heatmapgl": [
           {
            "colorbar": {
             "outlinewidth": 0,
             "ticks": ""
            },
            "colorscale": [
             [
              0,
              "#0d0887"
             ],
             [
              0.1111111111111111,
              "#46039f"
             ],
             [
              0.2222222222222222,
              "#7201a8"
             ],
             [
              0.3333333333333333,
              "#9c179e"
             ],
             [
              0.4444444444444444,
              "#bd3786"
             ],
             [
              0.5555555555555556,
              "#d8576b"
             ],
             [
              0.6666666666666666,
              "#ed7953"
             ],
             [
              0.7777777777777778,
              "#fb9f3a"
             ],
             [
              0.8888888888888888,
              "#fdca26"
             ],
             [
              1,
              "#f0f921"
             ]
            ],
            "type": "heatmapgl"
           }
          ],
          "histogram": [
           {
            "marker": {
             "pattern": {
              "fillmode": "overlay",
              "size": 10,
              "solidity": 0.2
             }
            },
            "type": "histogram"
           }
          ],
          "histogram2d": [
           {
            "colorbar": {
             "outlinewidth": 0,
             "ticks": ""
            },
            "colorscale": [
             [
              0,
              "#0d0887"
             ],
             [
              0.1111111111111111,
              "#46039f"
             ],
             [
              0.2222222222222222,
              "#7201a8"
             ],
             [
              0.3333333333333333,
              "#9c179e"
             ],
             [
              0.4444444444444444,
              "#bd3786"
             ],
             [
              0.5555555555555556,
              "#d8576b"
             ],
             [
              0.6666666666666666,
              "#ed7953"
             ],
             [
              0.7777777777777778,
              "#fb9f3a"
             ],
             [
              0.8888888888888888,
              "#fdca26"
             ],
             [
              1,
              "#f0f921"
             ]
            ],
            "type": "histogram2d"
           }
          ],
          "histogram2dcontour": [
           {
            "colorbar": {
             "outlinewidth": 0,
             "ticks": ""
            },
            "colorscale": [
             [
              0,
              "#0d0887"
             ],
             [
              0.1111111111111111,
              "#46039f"
             ],
             [
              0.2222222222222222,
              "#7201a8"
             ],
             [
              0.3333333333333333,
              "#9c179e"
             ],
             [
              0.4444444444444444,
              "#bd3786"
             ],
             [
              0.5555555555555556,
              "#d8576b"
             ],
             [
              0.6666666666666666,
              "#ed7953"
             ],
             [
              0.7777777777777778,
              "#fb9f3a"
             ],
             [
              0.8888888888888888,
              "#fdca26"
             ],
             [
              1,
              "#f0f921"
             ]
            ],
            "type": "histogram2dcontour"
           }
          ],
          "mesh3d": [
           {
            "colorbar": {
             "outlinewidth": 0,
             "ticks": ""
            },
            "type": "mesh3d"
           }
          ],
          "parcoords": [
           {
            "line": {
             "colorbar": {
              "outlinewidth": 0,
              "ticks": ""
             }
            },
            "type": "parcoords"
           }
          ],
          "pie": [
           {
            "automargin": true,
            "type": "pie"
           }
          ],
          "scatter": [
           {
            "fillpattern": {
             "fillmode": "overlay",
             "size": 10,
             "solidity": 0.2
            },
            "type": "scatter"
           }
          ],
          "scatter3d": [
           {
            "line": {
             "colorbar": {
              "outlinewidth": 0,
              "ticks": ""
             }
            },
            "marker": {
             "colorbar": {
              "outlinewidth": 0,
              "ticks": ""
             }
            },
            "type": "scatter3d"
           }
          ],
          "scattercarpet": [
           {
            "marker": {
             "colorbar": {
              "outlinewidth": 0,
              "ticks": ""
             }
            },
            "type": "scattercarpet"
           }
          ],
          "scattergeo": [
           {
            "marker": {
             "colorbar": {
              "outlinewidth": 0,
              "ticks": ""
             }
            },
            "type": "scattergeo"
           }
          ],
          "scattergl": [
           {
            "marker": {
             "colorbar": {
              "outlinewidth": 0,
              "ticks": ""
             }
            },
            "type": "scattergl"
           }
          ],
          "scattermapbox": [
           {
            "marker": {
             "colorbar": {
              "outlinewidth": 0,
              "ticks": ""
             }
            },
            "type": "scattermapbox"
           }
          ],
          "scatterpolar": [
           {
            "marker": {
             "colorbar": {
              "outlinewidth": 0,
              "ticks": ""
             }
            },
            "type": "scatterpolar"
           }
          ],
          "scatterpolargl": [
           {
            "marker": {
             "colorbar": {
              "outlinewidth": 0,
              "ticks": ""
             }
            },
            "type": "scatterpolargl"
           }
          ],
          "scatterternary": [
           {
            "marker": {
             "colorbar": {
              "outlinewidth": 0,
              "ticks": ""
             }
            },
            "type": "scatterternary"
           }
          ],
          "surface": [
           {
            "colorbar": {
             "outlinewidth": 0,
             "ticks": ""
            },
            "colorscale": [
             [
              0,
              "#0d0887"
             ],
             [
              0.1111111111111111,
              "#46039f"
             ],
             [
              0.2222222222222222,
              "#7201a8"
             ],
             [
              0.3333333333333333,
              "#9c179e"
             ],
             [
              0.4444444444444444,
              "#bd3786"
             ],
             [
              0.5555555555555556,
              "#d8576b"
             ],
             [
              0.6666666666666666,
              "#ed7953"
             ],
             [
              0.7777777777777778,
              "#fb9f3a"
             ],
             [
              0.8888888888888888,
              "#fdca26"
             ],
             [
              1,
              "#f0f921"
             ]
            ],
            "type": "surface"
           }
          ],
          "table": [
           {
            "cells": {
             "fill": {
              "color": "#EBF0F8"
             },
             "line": {
              "color": "white"
             }
            },
            "header": {
             "fill": {
              "color": "#C8D4E3"
             },
             "line": {
              "color": "white"
             }
            },
            "type": "table"
           }
          ]
         },
         "layout": {
          "annotationdefaults": {
           "arrowcolor": "#2a3f5f",
           "arrowhead": 0,
           "arrowwidth": 1
          },
          "autotypenumbers": "strict",
          "coloraxis": {
           "colorbar": {
            "outlinewidth": 0,
            "ticks": ""
           }
          },
          "colorscale": {
           "diverging": [
            [
             0,
             "#8e0152"
            ],
            [
             0.1,
             "#c51b7d"
            ],
            [
             0.2,
             "#de77ae"
            ],
            [
             0.3,
             "#f1b6da"
            ],
            [
             0.4,
             "#fde0ef"
            ],
            [
             0.5,
             "#f7f7f7"
            ],
            [
             0.6,
             "#e6f5d0"
            ],
            [
             0.7,
             "#b8e186"
            ],
            [
             0.8,
             "#7fbc41"
            ],
            [
             0.9,
             "#4d9221"
            ],
            [
             1,
             "#276419"
            ]
           ],
           "sequential": [
            [
             0,
             "#0d0887"
            ],
            [
             0.1111111111111111,
             "#46039f"
            ],
            [
             0.2222222222222222,
             "#7201a8"
            ],
            [
             0.3333333333333333,
             "#9c179e"
            ],
            [
             0.4444444444444444,
             "#bd3786"
            ],
            [
             0.5555555555555556,
             "#d8576b"
            ],
            [
             0.6666666666666666,
             "#ed7953"
            ],
            [
             0.7777777777777778,
             "#fb9f3a"
            ],
            [
             0.8888888888888888,
             "#fdca26"
            ],
            [
             1,
             "#f0f921"
            ]
           ],
           "sequentialminus": [
            [
             0,
             "#0d0887"
            ],
            [
             0.1111111111111111,
             "#46039f"
            ],
            [
             0.2222222222222222,
             "#7201a8"
            ],
            [
             0.3333333333333333,
             "#9c179e"
            ],
            [
             0.4444444444444444,
             "#bd3786"
            ],
            [
             0.5555555555555556,
             "#d8576b"
            ],
            [
             0.6666666666666666,
             "#ed7953"
            ],
            [
             0.7777777777777778,
             "#fb9f3a"
            ],
            [
             0.8888888888888888,
             "#fdca26"
            ],
            [
             1,
             "#f0f921"
            ]
           ]
          },
          "colorway": [
           "#636efa",
           "#EF553B",
           "#00cc96",
           "#ab63fa",
           "#FFA15A",
           "#19d3f3",
           "#FF6692",
           "#B6E880",
           "#FF97FF",
           "#FECB52"
          ],
          "font": {
           "color": "#2a3f5f"
          },
          "geo": {
           "bgcolor": "white",
           "lakecolor": "white",
           "landcolor": "#E5ECF6",
           "showlakes": true,
           "showland": true,
           "subunitcolor": "white"
          },
          "hoverlabel": {
           "align": "left"
          },
          "hovermode": "closest",
          "mapbox": {
           "style": "light"
          },
          "paper_bgcolor": "white",
          "plot_bgcolor": "#E5ECF6",
          "polar": {
           "angularaxis": {
            "gridcolor": "white",
            "linecolor": "white",
            "ticks": ""
           },
           "bgcolor": "#E5ECF6",
           "radialaxis": {
            "gridcolor": "white",
            "linecolor": "white",
            "ticks": ""
           }
          },
          "scene": {
           "xaxis": {
            "backgroundcolor": "#E5ECF6",
            "gridcolor": "white",
            "gridwidth": 2,
            "linecolor": "white",
            "showbackground": true,
            "ticks": "",
            "zerolinecolor": "white"
           },
           "yaxis": {
            "backgroundcolor": "#E5ECF6",
            "gridcolor": "white",
            "gridwidth": 2,
            "linecolor": "white",
            "showbackground": true,
            "ticks": "",
            "zerolinecolor": "white"
           },
           "zaxis": {
            "backgroundcolor": "#E5ECF6",
            "gridcolor": "white",
            "gridwidth": 2,
            "linecolor": "white",
            "showbackground": true,
            "ticks": "",
            "zerolinecolor": "white"
           }
          },
          "shapedefaults": {
           "line": {
            "color": "#2a3f5f"
           }
          },
          "ternary": {
           "aaxis": {
            "gridcolor": "white",
            "linecolor": "white",
            "ticks": ""
           },
           "baxis": {
            "gridcolor": "white",
            "linecolor": "white",
            "ticks": ""
           },
           "bgcolor": "#E5ECF6",
           "caxis": {
            "gridcolor": "white",
            "linecolor": "white",
            "ticks": ""
           }
          },
          "title": {
           "x": 0.05
          },
          "xaxis": {
           "automargin": true,
           "gridcolor": "white",
           "linecolor": "white",
           "ticks": "",
           "title": {
            "standoff": 15
           },
           "zerolinecolor": "white",
           "zerolinewidth": 2
          },
          "yaxis": {
           "automargin": true,
           "gridcolor": "white",
           "linecolor": "white",
           "ticks": "",
           "title": {
            "standoff": 15
           },
           "zerolinecolor": "white",
           "zerolinewidth": 2
          }
         }
        },
        "title": {
         "text": "Missions with collisions"
        },
        "xaxis": {
         "anchor": "y",
         "constrain": "domain",
         "domain": [
          0,
          1
         ],
         "scaleanchor": "y",
         "title": {
          "text": "Multi-Agent HJ Flocking Control"
         }
        },
        "yaxis": {
         "anchor": "x",
         "autorange": "reversed",
         "constrain": "domain",
         "domain": [
          0,
          1
         ],
         "title": {
          "text": "Multi-Agent HJ Naive"
         }
        }
       }
      },
      "text/html": [
       "<div>                            <div id=\"2a94431c-a702-492d-a1f8-c0f340b410a0\" class=\"plotly-graph-div\" style=\"height:525px; width:100%;\"></div>            <script type=\"text/javascript\">                require([\"plotly\"], function(Plotly) {                    window.PLOTLYENV=window.PLOTLYENV || {};                                    if (document.getElementById(\"2a94431c-a702-492d-a1f8-c0f340b410a0\")) {                    Plotly.newPlot(                        \"2a94431c-a702-492d-a1f8-c0f340b410a0\",                        [{\"coloraxis\":\"coloraxis\",\"name\":\"0\",\"texttemplate\":\"%{z}\",\"x\":[false,true],\"y\":[false,true],\"z\":[[331,0],[210,7]],\"type\":\"heatmap\",\"xaxis\":\"x\",\"yaxis\":\"y\",\"hovertemplate\":\"Multi-Agent HJ Flocking Control: %{x}<br>Multi-Agent HJ Naive: %{y}<br>color: %{z}<extra></extra>\"}],                        {\"template\":{\"data\":{\"histogram2dcontour\":[{\"type\":\"histogram2dcontour\",\"colorbar\":{\"outlinewidth\":0,\"ticks\":\"\"},\"colorscale\":[[0.0,\"#0d0887\"],[0.1111111111111111,\"#46039f\"],[0.2222222222222222,\"#7201a8\"],[0.3333333333333333,\"#9c179e\"],[0.4444444444444444,\"#bd3786\"],[0.5555555555555556,\"#d8576b\"],[0.6666666666666666,\"#ed7953\"],[0.7777777777777778,\"#fb9f3a\"],[0.8888888888888888,\"#fdca26\"],[1.0,\"#f0f921\"]]}],\"choropleth\":[{\"type\":\"choropleth\",\"colorbar\":{\"outlinewidth\":0,\"ticks\":\"\"}}],\"histogram2d\":[{\"type\":\"histogram2d\",\"colorbar\":{\"outlinewidth\":0,\"ticks\":\"\"},\"colorscale\":[[0.0,\"#0d0887\"],[0.1111111111111111,\"#46039f\"],[0.2222222222222222,\"#7201a8\"],[0.3333333333333333,\"#9c179e\"],[0.4444444444444444,\"#bd3786\"],[0.5555555555555556,\"#d8576b\"],[0.6666666666666666,\"#ed7953\"],[0.7777777777777778,\"#fb9f3a\"],[0.8888888888888888,\"#fdca26\"],[1.0,\"#f0f921\"]]}],\"heatmap\":[{\"type\":\"heatmap\",\"colorbar\":{\"outlinewidth\":0,\"ticks\":\"\"},\"colorscale\":[[0.0,\"#0d0887\"],[0.1111111111111111,\"#46039f\"],[0.2222222222222222,\"#7201a8\"],[0.3333333333333333,\"#9c179e\"],[0.4444444444444444,\"#bd3786\"],[0.5555555555555556,\"#d8576b\"],[0.6666666666666666,\"#ed7953\"],[0.7777777777777778,\"#fb9f3a\"],[0.8888888888888888,\"#fdca26\"],[1.0,\"#f0f921\"]]}],\"heatmapgl\":[{\"type\":\"heatmapgl\",\"colorbar\":{\"outlinewidth\":0,\"ticks\":\"\"},\"colorscale\":[[0.0,\"#0d0887\"],[0.1111111111111111,\"#46039f\"],[0.2222222222222222,\"#7201a8\"],[0.3333333333333333,\"#9c179e\"],[0.4444444444444444,\"#bd3786\"],[0.5555555555555556,\"#d8576b\"],[0.6666666666666666,\"#ed7953\"],[0.7777777777777778,\"#fb9f3a\"],[0.8888888888888888,\"#fdca26\"],[1.0,\"#f0f921\"]]}],\"contourcarpet\":[{\"type\":\"contourcarpet\",\"colorbar\":{\"outlinewidth\":0,\"ticks\":\"\"}}],\"contour\":[{\"type\":\"contour\",\"colorbar\":{\"outlinewidth\":0,\"ticks\":\"\"},\"colorscale\":[[0.0,\"#0d0887\"],[0.1111111111111111,\"#46039f\"],[0.2222222222222222,\"#7201a8\"],[0.3333333333333333,\"#9c179e\"],[0.4444444444444444,\"#bd3786\"],[0.5555555555555556,\"#d8576b\"],[0.6666666666666666,\"#ed7953\"],[0.7777777777777778,\"#fb9f3a\"],[0.8888888888888888,\"#fdca26\"],[1.0,\"#f0f921\"]]}],\"surface\":[{\"type\":\"surface\",\"colorbar\":{\"outlinewidth\":0,\"ticks\":\"\"},\"colorscale\":[[0.0,\"#0d0887\"],[0.1111111111111111,\"#46039f\"],[0.2222222222222222,\"#7201a8\"],[0.3333333333333333,\"#9c179e\"],[0.4444444444444444,\"#bd3786\"],[0.5555555555555556,\"#d8576b\"],[0.6666666666666666,\"#ed7953\"],[0.7777777777777778,\"#fb9f3a\"],[0.8888888888888888,\"#fdca26\"],[1.0,\"#f0f921\"]]}],\"mesh3d\":[{\"type\":\"mesh3d\",\"colorbar\":{\"outlinewidth\":0,\"ticks\":\"\"}}],\"scatter\":[{\"fillpattern\":{\"fillmode\":\"overlay\",\"size\":10,\"solidity\":0.2},\"type\":\"scatter\"}],\"parcoords\":[{\"type\":\"parcoords\",\"line\":{\"colorbar\":{\"outlinewidth\":0,\"ticks\":\"\"}}}],\"scatterpolargl\":[{\"type\":\"scatterpolargl\",\"marker\":{\"colorbar\":{\"outlinewidth\":0,\"ticks\":\"\"}}}],\"bar\":[{\"error_x\":{\"color\":\"#2a3f5f\"},\"error_y\":{\"color\":\"#2a3f5f\"},\"marker\":{\"line\":{\"color\":\"#E5ECF6\",\"width\":0.5},\"pattern\":{\"fillmode\":\"overlay\",\"size\":10,\"solidity\":0.2}},\"type\":\"bar\"}],\"scattergeo\":[{\"type\":\"scattergeo\",\"marker\":{\"colorbar\":{\"outlinewidth\":0,\"ticks\":\"\"}}}],\"scatterpolar\":[{\"type\":\"scatterpolar\",\"marker\":{\"colorbar\":{\"outlinewidth\":0,\"ticks\":\"\"}}}],\"histogram\":[{\"marker\":{\"pattern\":{\"fillmode\":\"overlay\",\"size\":10,\"solidity\":0.2}},\"type\":\"histogram\"}],\"scattergl\":[{\"type\":\"scattergl\",\"marker\":{\"colorbar\":{\"outlinewidth\":0,\"ticks\":\"\"}}}],\"scatter3d\":[{\"type\":\"scatter3d\",\"line\":{\"colorbar\":{\"outlinewidth\":0,\"ticks\":\"\"}},\"marker\":{\"colorbar\":{\"outlinewidth\":0,\"ticks\":\"\"}}}],\"scattermapbox\":[{\"type\":\"scattermapbox\",\"marker\":{\"colorbar\":{\"outlinewidth\":0,\"ticks\":\"\"}}}],\"scatterternary\":[{\"type\":\"scatterternary\",\"marker\":{\"colorbar\":{\"outlinewidth\":0,\"ticks\":\"\"}}}],\"scattercarpet\":[{\"type\":\"scattercarpet\",\"marker\":{\"colorbar\":{\"outlinewidth\":0,\"ticks\":\"\"}}}],\"carpet\":[{\"aaxis\":{\"endlinecolor\":\"#2a3f5f\",\"gridcolor\":\"white\",\"linecolor\":\"white\",\"minorgridcolor\":\"white\",\"startlinecolor\":\"#2a3f5f\"},\"baxis\":{\"endlinecolor\":\"#2a3f5f\",\"gridcolor\":\"white\",\"linecolor\":\"white\",\"minorgridcolor\":\"white\",\"startlinecolor\":\"#2a3f5f\"},\"type\":\"carpet\"}],\"table\":[{\"cells\":{\"fill\":{\"color\":\"#EBF0F8\"},\"line\":{\"color\":\"white\"}},\"header\":{\"fill\":{\"color\":\"#C8D4E3\"},\"line\":{\"color\":\"white\"}},\"type\":\"table\"}],\"barpolar\":[{\"marker\":{\"line\":{\"color\":\"#E5ECF6\",\"width\":0.5},\"pattern\":{\"fillmode\":\"overlay\",\"size\":10,\"solidity\":0.2}},\"type\":\"barpolar\"}],\"pie\":[{\"automargin\":true,\"type\":\"pie\"}]},\"layout\":{\"autotypenumbers\":\"strict\",\"colorway\":[\"#636efa\",\"#EF553B\",\"#00cc96\",\"#ab63fa\",\"#FFA15A\",\"#19d3f3\",\"#FF6692\",\"#B6E880\",\"#FF97FF\",\"#FECB52\"],\"font\":{\"color\":\"#2a3f5f\"},\"hovermode\":\"closest\",\"hoverlabel\":{\"align\":\"left\"},\"paper_bgcolor\":\"white\",\"plot_bgcolor\":\"#E5ECF6\",\"polar\":{\"bgcolor\":\"#E5ECF6\",\"angularaxis\":{\"gridcolor\":\"white\",\"linecolor\":\"white\",\"ticks\":\"\"},\"radialaxis\":{\"gridcolor\":\"white\",\"linecolor\":\"white\",\"ticks\":\"\"}},\"ternary\":{\"bgcolor\":\"#E5ECF6\",\"aaxis\":{\"gridcolor\":\"white\",\"linecolor\":\"white\",\"ticks\":\"\"},\"baxis\":{\"gridcolor\":\"white\",\"linecolor\":\"white\",\"ticks\":\"\"},\"caxis\":{\"gridcolor\":\"white\",\"linecolor\":\"white\",\"ticks\":\"\"}},\"coloraxis\":{\"colorbar\":{\"outlinewidth\":0,\"ticks\":\"\"}},\"colorscale\":{\"sequential\":[[0.0,\"#0d0887\"],[0.1111111111111111,\"#46039f\"],[0.2222222222222222,\"#7201a8\"],[0.3333333333333333,\"#9c179e\"],[0.4444444444444444,\"#bd3786\"],[0.5555555555555556,\"#d8576b\"],[0.6666666666666666,\"#ed7953\"],[0.7777777777777778,\"#fb9f3a\"],[0.8888888888888888,\"#fdca26\"],[1.0,\"#f0f921\"]],\"sequentialminus\":[[0.0,\"#0d0887\"],[0.1111111111111111,\"#46039f\"],[0.2222222222222222,\"#7201a8\"],[0.3333333333333333,\"#9c179e\"],[0.4444444444444444,\"#bd3786\"],[0.5555555555555556,\"#d8576b\"],[0.6666666666666666,\"#ed7953\"],[0.7777777777777778,\"#fb9f3a\"],[0.8888888888888888,\"#fdca26\"],[1.0,\"#f0f921\"]],\"diverging\":[[0,\"#8e0152\"],[0.1,\"#c51b7d\"],[0.2,\"#de77ae\"],[0.3,\"#f1b6da\"],[0.4,\"#fde0ef\"],[0.5,\"#f7f7f7\"],[0.6,\"#e6f5d0\"],[0.7,\"#b8e186\"],[0.8,\"#7fbc41\"],[0.9,\"#4d9221\"],[1,\"#276419\"]]},\"xaxis\":{\"gridcolor\":\"white\",\"linecolor\":\"white\",\"ticks\":\"\",\"title\":{\"standoff\":15},\"zerolinecolor\":\"white\",\"automargin\":true,\"zerolinewidth\":2},\"yaxis\":{\"gridcolor\":\"white\",\"linecolor\":\"white\",\"ticks\":\"\",\"title\":{\"standoff\":15},\"zerolinecolor\":\"white\",\"automargin\":true,\"zerolinewidth\":2},\"scene\":{\"xaxis\":{\"backgroundcolor\":\"#E5ECF6\",\"gridcolor\":\"white\",\"linecolor\":\"white\",\"showbackground\":true,\"ticks\":\"\",\"zerolinecolor\":\"white\",\"gridwidth\":2},\"yaxis\":{\"backgroundcolor\":\"#E5ECF6\",\"gridcolor\":\"white\",\"linecolor\":\"white\",\"showbackground\":true,\"ticks\":\"\",\"zerolinecolor\":\"white\",\"gridwidth\":2},\"zaxis\":{\"backgroundcolor\":\"#E5ECF6\",\"gridcolor\":\"white\",\"linecolor\":\"white\",\"showbackground\":true,\"ticks\":\"\",\"zerolinecolor\":\"white\",\"gridwidth\":2}},\"shapedefaults\":{\"line\":{\"color\":\"#2a3f5f\"}},\"annotationdefaults\":{\"arrowcolor\":\"#2a3f5f\",\"arrowhead\":0,\"arrowwidth\":1},\"geo\":{\"bgcolor\":\"white\",\"landcolor\":\"#E5ECF6\",\"subunitcolor\":\"white\",\"showland\":true,\"showlakes\":true,\"lakecolor\":\"white\"},\"title\":{\"x\":0.05},\"mapbox\":{\"style\":\"light\"}}},\"xaxis\":{\"anchor\":\"y\",\"domain\":[0.0,1.0],\"scaleanchor\":\"y\",\"constrain\":\"domain\",\"title\":{\"text\":\"Multi-Agent HJ Flocking Control\"}},\"yaxis\":{\"anchor\":\"x\",\"domain\":[0.0,1.0],\"autorange\":\"reversed\",\"constrain\":\"domain\",\"title\":{\"text\":\"Multi-Agent HJ Naive\"}},\"coloraxis\":{\"colorscale\":[[0.0,\"#0d0887\"],[0.1111111111111111,\"#46039f\"],[0.2222222222222222,\"#7201a8\"],[0.3333333333333333,\"#9c179e\"],[0.4444444444444444,\"#bd3786\"],[0.5555555555555556,\"#d8576b\"],[0.6666666666666666,\"#ed7953\"],[0.7777777777777778,\"#fb9f3a\"],[0.8888888888888888,\"#fdca26\"],[1.0,\"#f0f921\"]]},\"margin\":{\"t\":60},\"title\":{\"text\":\"Missions with collisions\"}},                        {\"responsive\": true}                    ).then(function(){\n",
       "                            \n",
       "var gd = document.getElementById('2a94431c-a702-492d-a1f8-c0f340b410a0');\n",
       "var x = new MutationObserver(function (mutations, observer) {{\n",
       "        var display = window.getComputedStyle(gd).display;\n",
       "        if (!display || display === 'none') {{\n",
       "            console.log([gd, 'removed!']);\n",
       "            Plotly.purge(gd);\n",
       "            observer.disconnect();\n",
       "        }}\n",
       "}});\n",
       "\n",
       "// Listen for the removal of the full notebook cells\n",
       "var notebookContainer = gd.closest('#notebook-container');\n",
       "if (notebookContainer) {{\n",
       "    x.observe(notebookContainer, {childList: true});\n",
       "}}\n",
       "\n",
       "// Listen for the clearing of the current output cell\n",
       "var outputEl = gd.closest('.output');\n",
       "if (outputEl) {{\n",
       "    x.observe(outputEl, {childList: true});\n",
       "}}\n",
       "\n",
       "                        })                };                });            </script>        </div>"
      ]
     },
     "metadata": {},
     "output_type": "display_data"
    }
   ],
   "source": [
    "fig_conf_flocking_coll= plot_confusion_matrix(metrics_hj_naive[\"Number_of_collision\"]>0, \n",
    "                        metrics_hj_flocking[\"Number_of_collision\"]>0, 'Multi-Agent HJ Naive', \n",
    "                        'Multi-Agent HJ Flocking Control', title_name=\"Missions with collisions\")"
   ]
  },
  {
   "attachments": {},
   "cell_type": "markdown",
   "metadata": {},
   "source": [
    "+ Missions with communication losses"
   ]
  },
  {
   "cell_type": "code",
   "execution_count": 26,
   "metadata": {},
   "outputs": [
    {
     "data": {
      "application/vnd.plotly.v1+json": {
       "config": {
        "plotlyServerURL": "https://plot.ly"
       },
       "data": [
        {
         "coloraxis": "coloraxis",
         "hovertemplate": "Multi-Agent HJ Flocking Control: %{x}<br>Multi-Agent HJ Naive: %{y}<br>color: %{z}<extra></extra>",
         "name": "0",
         "texttemplate": "%{z}",
         "type": "heatmap",
         "x": [
          false,
          true
         ],
         "xaxis": "x",
         "y": [
          false,
          true
         ],
         "yaxis": "y",
         "z": [
          [
           286,
           0
          ],
          [
           211,
           51
          ]
         ]
        }
       ],
       "layout": {
        "coloraxis": {
         "colorscale": [
          [
           0,
           "#0d0887"
          ],
          [
           0.1111111111111111,
           "#46039f"
          ],
          [
           0.2222222222222222,
           "#7201a8"
          ],
          [
           0.3333333333333333,
           "#9c179e"
          ],
          [
           0.4444444444444444,
           "#bd3786"
          ],
          [
           0.5555555555555556,
           "#d8576b"
          ],
          [
           0.6666666666666666,
           "#ed7953"
          ],
          [
           0.7777777777777778,
           "#fb9f3a"
          ],
          [
           0.8888888888888888,
           "#fdca26"
          ],
          [
           1,
           "#f0f921"
          ]
         ]
        },
        "margin": {
         "t": 60
        },
        "template": {
         "data": {
          "bar": [
           {
            "error_x": {
             "color": "#2a3f5f"
            },
            "error_y": {
             "color": "#2a3f5f"
            },
            "marker": {
             "line": {
              "color": "#E5ECF6",
              "width": 0.5
             },
             "pattern": {
              "fillmode": "overlay",
              "size": 10,
              "solidity": 0.2
             }
            },
            "type": "bar"
           }
          ],
          "barpolar": [
           {
            "marker": {
             "line": {
              "color": "#E5ECF6",
              "width": 0.5
             },
             "pattern": {
              "fillmode": "overlay",
              "size": 10,
              "solidity": 0.2
             }
            },
            "type": "barpolar"
           }
          ],
          "carpet": [
           {
            "aaxis": {
             "endlinecolor": "#2a3f5f",
             "gridcolor": "white",
             "linecolor": "white",
             "minorgridcolor": "white",
             "startlinecolor": "#2a3f5f"
            },
            "baxis": {
             "endlinecolor": "#2a3f5f",
             "gridcolor": "white",
             "linecolor": "white",
             "minorgridcolor": "white",
             "startlinecolor": "#2a3f5f"
            },
            "type": "carpet"
           }
          ],
          "choropleth": [
           {
            "colorbar": {
             "outlinewidth": 0,
             "ticks": ""
            },
            "type": "choropleth"
           }
          ],
          "contour": [
           {
            "colorbar": {
             "outlinewidth": 0,
             "ticks": ""
            },
            "colorscale": [
             [
              0,
              "#0d0887"
             ],
             [
              0.1111111111111111,
              "#46039f"
             ],
             [
              0.2222222222222222,
              "#7201a8"
             ],
             [
              0.3333333333333333,
              "#9c179e"
             ],
             [
              0.4444444444444444,
              "#bd3786"
             ],
             [
              0.5555555555555556,
              "#d8576b"
             ],
             [
              0.6666666666666666,
              "#ed7953"
             ],
             [
              0.7777777777777778,
              "#fb9f3a"
             ],
             [
              0.8888888888888888,
              "#fdca26"
             ],
             [
              1,
              "#f0f921"
             ]
            ],
            "type": "contour"
           }
          ],
          "contourcarpet": [
           {
            "colorbar": {
             "outlinewidth": 0,
             "ticks": ""
            },
            "type": "contourcarpet"
           }
          ],
          "heatmap": [
           {
            "colorbar": {
             "outlinewidth": 0,
             "ticks": ""
            },
            "colorscale": [
             [
              0,
              "#0d0887"
             ],
             [
              0.1111111111111111,
              "#46039f"
             ],
             [
              0.2222222222222222,
              "#7201a8"
             ],
             [
              0.3333333333333333,
              "#9c179e"
             ],
             [
              0.4444444444444444,
              "#bd3786"
             ],
             [
              0.5555555555555556,
              "#d8576b"
             ],
             [
              0.6666666666666666,
              "#ed7953"
             ],
             [
              0.7777777777777778,
              "#fb9f3a"
             ],
             [
              0.8888888888888888,
              "#fdca26"
             ],
             [
              1,
              "#f0f921"
             ]
            ],
            "type": "heatmap"
           }
          ],
          "heatmapgl": [
           {
            "colorbar": {
             "outlinewidth": 0,
             "ticks": ""
            },
            "colorscale": [
             [
              0,
              "#0d0887"
             ],
             [
              0.1111111111111111,
              "#46039f"
             ],
             [
              0.2222222222222222,
              "#7201a8"
             ],
             [
              0.3333333333333333,
              "#9c179e"
             ],
             [
              0.4444444444444444,
              "#bd3786"
             ],
             [
              0.5555555555555556,
              "#d8576b"
             ],
             [
              0.6666666666666666,
              "#ed7953"
             ],
             [
              0.7777777777777778,
              "#fb9f3a"
             ],
             [
              0.8888888888888888,
              "#fdca26"
             ],
             [
              1,
              "#f0f921"
             ]
            ],
            "type": "heatmapgl"
           }
          ],
          "histogram": [
           {
            "marker": {
             "pattern": {
              "fillmode": "overlay",
              "size": 10,
              "solidity": 0.2
             }
            },
            "type": "histogram"
           }
          ],
          "histogram2d": [
           {
            "colorbar": {
             "outlinewidth": 0,
             "ticks": ""
            },
            "colorscale": [
             [
              0,
              "#0d0887"
             ],
             [
              0.1111111111111111,
              "#46039f"
             ],
             [
              0.2222222222222222,
              "#7201a8"
             ],
             [
              0.3333333333333333,
              "#9c179e"
             ],
             [
              0.4444444444444444,
              "#bd3786"
             ],
             [
              0.5555555555555556,
              "#d8576b"
             ],
             [
              0.6666666666666666,
              "#ed7953"
             ],
             [
              0.7777777777777778,
              "#fb9f3a"
             ],
             [
              0.8888888888888888,
              "#fdca26"
             ],
             [
              1,
              "#f0f921"
             ]
            ],
            "type": "histogram2d"
           }
          ],
          "histogram2dcontour": [
           {
            "colorbar": {
             "outlinewidth": 0,
             "ticks": ""
            },
            "colorscale": [
             [
              0,
              "#0d0887"
             ],
             [
              0.1111111111111111,
              "#46039f"
             ],
             [
              0.2222222222222222,
              "#7201a8"
             ],
             [
              0.3333333333333333,
              "#9c179e"
             ],
             [
              0.4444444444444444,
              "#bd3786"
             ],
             [
              0.5555555555555556,
              "#d8576b"
             ],
             [
              0.6666666666666666,
              "#ed7953"
             ],
             [
              0.7777777777777778,
              "#fb9f3a"
             ],
             [
              0.8888888888888888,
              "#fdca26"
             ],
             [
              1,
              "#f0f921"
             ]
            ],
            "type": "histogram2dcontour"
           }
          ],
          "mesh3d": [
           {
            "colorbar": {
             "outlinewidth": 0,
             "ticks": ""
            },
            "type": "mesh3d"
           }
          ],
          "parcoords": [
           {
            "line": {
             "colorbar": {
              "outlinewidth": 0,
              "ticks": ""
             }
            },
            "type": "parcoords"
           }
          ],
          "pie": [
           {
            "automargin": true,
            "type": "pie"
           }
          ],
          "scatter": [
           {
            "fillpattern": {
             "fillmode": "overlay",
             "size": 10,
             "solidity": 0.2
            },
            "type": "scatter"
           }
          ],
          "scatter3d": [
           {
            "line": {
             "colorbar": {
              "outlinewidth": 0,
              "ticks": ""
             }
            },
            "marker": {
             "colorbar": {
              "outlinewidth": 0,
              "ticks": ""
             }
            },
            "type": "scatter3d"
           }
          ],
          "scattercarpet": [
           {
            "marker": {
             "colorbar": {
              "outlinewidth": 0,
              "ticks": ""
             }
            },
            "type": "scattercarpet"
           }
          ],
          "scattergeo": [
           {
            "marker": {
             "colorbar": {
              "outlinewidth": 0,
              "ticks": ""
             }
            },
            "type": "scattergeo"
           }
          ],
          "scattergl": [
           {
            "marker": {
             "colorbar": {
              "outlinewidth": 0,
              "ticks": ""
             }
            },
            "type": "scattergl"
           }
          ],
          "scattermapbox": [
           {
            "marker": {
             "colorbar": {
              "outlinewidth": 0,
              "ticks": ""
             }
            },
            "type": "scattermapbox"
           }
          ],
          "scatterpolar": [
           {
            "marker": {
             "colorbar": {
              "outlinewidth": 0,
              "ticks": ""
             }
            },
            "type": "scatterpolar"
           }
          ],
          "scatterpolargl": [
           {
            "marker": {
             "colorbar": {
              "outlinewidth": 0,
              "ticks": ""
             }
            },
            "type": "scatterpolargl"
           }
          ],
          "scatterternary": [
           {
            "marker": {
             "colorbar": {
              "outlinewidth": 0,
              "ticks": ""
             }
            },
            "type": "scatterternary"
           }
          ],
          "surface": [
           {
            "colorbar": {
             "outlinewidth": 0,
             "ticks": ""
            },
            "colorscale": [
             [
              0,
              "#0d0887"
             ],
             [
              0.1111111111111111,
              "#46039f"
             ],
             [
              0.2222222222222222,
              "#7201a8"
             ],
             [
              0.3333333333333333,
              "#9c179e"
             ],
             [
              0.4444444444444444,
              "#bd3786"
             ],
             [
              0.5555555555555556,
              "#d8576b"
             ],
             [
              0.6666666666666666,
              "#ed7953"
             ],
             [
              0.7777777777777778,
              "#fb9f3a"
             ],
             [
              0.8888888888888888,
              "#fdca26"
             ],
             [
              1,
              "#f0f921"
             ]
            ],
            "type": "surface"
           }
          ],
          "table": [
           {
            "cells": {
             "fill": {
              "color": "#EBF0F8"
             },
             "line": {
              "color": "white"
             }
            },
            "header": {
             "fill": {
              "color": "#C8D4E3"
             },
             "line": {
              "color": "white"
             }
            },
            "type": "table"
           }
          ]
         },
         "layout": {
          "annotationdefaults": {
           "arrowcolor": "#2a3f5f",
           "arrowhead": 0,
           "arrowwidth": 1
          },
          "autotypenumbers": "strict",
          "coloraxis": {
           "colorbar": {
            "outlinewidth": 0,
            "ticks": ""
           }
          },
          "colorscale": {
           "diverging": [
            [
             0,
             "#8e0152"
            ],
            [
             0.1,
             "#c51b7d"
            ],
            [
             0.2,
             "#de77ae"
            ],
            [
             0.3,
             "#f1b6da"
            ],
            [
             0.4,
             "#fde0ef"
            ],
            [
             0.5,
             "#f7f7f7"
            ],
            [
             0.6,
             "#e6f5d0"
            ],
            [
             0.7,
             "#b8e186"
            ],
            [
             0.8,
             "#7fbc41"
            ],
            [
             0.9,
             "#4d9221"
            ],
            [
             1,
             "#276419"
            ]
           ],
           "sequential": [
            [
             0,
             "#0d0887"
            ],
            [
             0.1111111111111111,
             "#46039f"
            ],
            [
             0.2222222222222222,
             "#7201a8"
            ],
            [
             0.3333333333333333,
             "#9c179e"
            ],
            [
             0.4444444444444444,
             "#bd3786"
            ],
            [
             0.5555555555555556,
             "#d8576b"
            ],
            [
             0.6666666666666666,
             "#ed7953"
            ],
            [
             0.7777777777777778,
             "#fb9f3a"
            ],
            [
             0.8888888888888888,
             "#fdca26"
            ],
            [
             1,
             "#f0f921"
            ]
           ],
           "sequentialminus": [
            [
             0,
             "#0d0887"
            ],
            [
             0.1111111111111111,
             "#46039f"
            ],
            [
             0.2222222222222222,
             "#7201a8"
            ],
            [
             0.3333333333333333,
             "#9c179e"
            ],
            [
             0.4444444444444444,
             "#bd3786"
            ],
            [
             0.5555555555555556,
             "#d8576b"
            ],
            [
             0.6666666666666666,
             "#ed7953"
            ],
            [
             0.7777777777777778,
             "#fb9f3a"
            ],
            [
             0.8888888888888888,
             "#fdca26"
            ],
            [
             1,
             "#f0f921"
            ]
           ]
          },
          "colorway": [
           "#636efa",
           "#EF553B",
           "#00cc96",
           "#ab63fa",
           "#FFA15A",
           "#19d3f3",
           "#FF6692",
           "#B6E880",
           "#FF97FF",
           "#FECB52"
          ],
          "font": {
           "color": "#2a3f5f"
          },
          "geo": {
           "bgcolor": "white",
           "lakecolor": "white",
           "landcolor": "#E5ECF6",
           "showlakes": true,
           "showland": true,
           "subunitcolor": "white"
          },
          "hoverlabel": {
           "align": "left"
          },
          "hovermode": "closest",
          "mapbox": {
           "style": "light"
          },
          "paper_bgcolor": "white",
          "plot_bgcolor": "#E5ECF6",
          "polar": {
           "angularaxis": {
            "gridcolor": "white",
            "linecolor": "white",
            "ticks": ""
           },
           "bgcolor": "#E5ECF6",
           "radialaxis": {
            "gridcolor": "white",
            "linecolor": "white",
            "ticks": ""
           }
          },
          "scene": {
           "xaxis": {
            "backgroundcolor": "#E5ECF6",
            "gridcolor": "white",
            "gridwidth": 2,
            "linecolor": "white",
            "showbackground": true,
            "ticks": "",
            "zerolinecolor": "white"
           },
           "yaxis": {
            "backgroundcolor": "#E5ECF6",
            "gridcolor": "white",
            "gridwidth": 2,
            "linecolor": "white",
            "showbackground": true,
            "ticks": "",
            "zerolinecolor": "white"
           },
           "zaxis": {
            "backgroundcolor": "#E5ECF6",
            "gridcolor": "white",
            "gridwidth": 2,
            "linecolor": "white",
            "showbackground": true,
            "ticks": "",
            "zerolinecolor": "white"
           }
          },
          "shapedefaults": {
           "line": {
            "color": "#2a3f5f"
           }
          },
          "ternary": {
           "aaxis": {
            "gridcolor": "white",
            "linecolor": "white",
            "ticks": ""
           },
           "baxis": {
            "gridcolor": "white",
            "linecolor": "white",
            "ticks": ""
           },
           "bgcolor": "#E5ECF6",
           "caxis": {
            "gridcolor": "white",
            "linecolor": "white",
            "ticks": ""
           }
          },
          "title": {
           "x": 0.05
          },
          "xaxis": {
           "automargin": true,
           "gridcolor": "white",
           "linecolor": "white",
           "ticks": "",
           "title": {
            "standoff": 15
           },
           "zerolinecolor": "white",
           "zerolinewidth": 2
          },
          "yaxis": {
           "automargin": true,
           "gridcolor": "white",
           "linecolor": "white",
           "ticks": "",
           "title": {
            "standoff": 15
           },
           "zerolinecolor": "white",
           "zerolinewidth": 2
          }
         }
        },
        "title": {
         "text": "Missions with communication losses"
        },
        "xaxis": {
         "anchor": "y",
         "constrain": "domain",
         "domain": [
          0,
          1
         ],
         "scaleanchor": "y",
         "title": {
          "text": "Multi-Agent HJ Flocking Control"
         }
        },
        "yaxis": {
         "anchor": "x",
         "autorange": "reversed",
         "constrain": "domain",
         "domain": [
          0,
          1
         ],
         "title": {
          "text": "Multi-Agent HJ Naive"
         }
        }
       }
      },
      "text/html": [
       "<div>                            <div id=\"bc2cbb10-fc4a-4ad4-82b0-4ff374701c15\" class=\"plotly-graph-div\" style=\"height:525px; width:100%;\"></div>            <script type=\"text/javascript\">                require([\"plotly\"], function(Plotly) {                    window.PLOTLYENV=window.PLOTLYENV || {};                                    if (document.getElementById(\"bc2cbb10-fc4a-4ad4-82b0-4ff374701c15\")) {                    Plotly.newPlot(                        \"bc2cbb10-fc4a-4ad4-82b0-4ff374701c15\",                        [{\"coloraxis\":\"coloraxis\",\"name\":\"0\",\"texttemplate\":\"%{z}\",\"x\":[false,true],\"y\":[false,true],\"z\":[[286,0],[211,51]],\"type\":\"heatmap\",\"xaxis\":\"x\",\"yaxis\":\"y\",\"hovertemplate\":\"Multi-Agent HJ Flocking Control: %{x}<br>Multi-Agent HJ Naive: %{y}<br>color: %{z}<extra></extra>\"}],                        {\"template\":{\"data\":{\"histogram2dcontour\":[{\"type\":\"histogram2dcontour\",\"colorbar\":{\"outlinewidth\":0,\"ticks\":\"\"},\"colorscale\":[[0.0,\"#0d0887\"],[0.1111111111111111,\"#46039f\"],[0.2222222222222222,\"#7201a8\"],[0.3333333333333333,\"#9c179e\"],[0.4444444444444444,\"#bd3786\"],[0.5555555555555556,\"#d8576b\"],[0.6666666666666666,\"#ed7953\"],[0.7777777777777778,\"#fb9f3a\"],[0.8888888888888888,\"#fdca26\"],[1.0,\"#f0f921\"]]}],\"choropleth\":[{\"type\":\"choropleth\",\"colorbar\":{\"outlinewidth\":0,\"ticks\":\"\"}}],\"histogram2d\":[{\"type\":\"histogram2d\",\"colorbar\":{\"outlinewidth\":0,\"ticks\":\"\"},\"colorscale\":[[0.0,\"#0d0887\"],[0.1111111111111111,\"#46039f\"],[0.2222222222222222,\"#7201a8\"],[0.3333333333333333,\"#9c179e\"],[0.4444444444444444,\"#bd3786\"],[0.5555555555555556,\"#d8576b\"],[0.6666666666666666,\"#ed7953\"],[0.7777777777777778,\"#fb9f3a\"],[0.8888888888888888,\"#fdca26\"],[1.0,\"#f0f921\"]]}],\"heatmap\":[{\"type\":\"heatmap\",\"colorbar\":{\"outlinewidth\":0,\"ticks\":\"\"},\"colorscale\":[[0.0,\"#0d0887\"],[0.1111111111111111,\"#46039f\"],[0.2222222222222222,\"#7201a8\"],[0.3333333333333333,\"#9c179e\"],[0.4444444444444444,\"#bd3786\"],[0.5555555555555556,\"#d8576b\"],[0.6666666666666666,\"#ed7953\"],[0.7777777777777778,\"#fb9f3a\"],[0.8888888888888888,\"#fdca26\"],[1.0,\"#f0f921\"]]}],\"heatmapgl\":[{\"type\":\"heatmapgl\",\"colorbar\":{\"outlinewidth\":0,\"ticks\":\"\"},\"colorscale\":[[0.0,\"#0d0887\"],[0.1111111111111111,\"#46039f\"],[0.2222222222222222,\"#7201a8\"],[0.3333333333333333,\"#9c179e\"],[0.4444444444444444,\"#bd3786\"],[0.5555555555555556,\"#d8576b\"],[0.6666666666666666,\"#ed7953\"],[0.7777777777777778,\"#fb9f3a\"],[0.8888888888888888,\"#fdca26\"],[1.0,\"#f0f921\"]]}],\"contourcarpet\":[{\"type\":\"contourcarpet\",\"colorbar\":{\"outlinewidth\":0,\"ticks\":\"\"}}],\"contour\":[{\"type\":\"contour\",\"colorbar\":{\"outlinewidth\":0,\"ticks\":\"\"},\"colorscale\":[[0.0,\"#0d0887\"],[0.1111111111111111,\"#46039f\"],[0.2222222222222222,\"#7201a8\"],[0.3333333333333333,\"#9c179e\"],[0.4444444444444444,\"#bd3786\"],[0.5555555555555556,\"#d8576b\"],[0.6666666666666666,\"#ed7953\"],[0.7777777777777778,\"#fb9f3a\"],[0.8888888888888888,\"#fdca26\"],[1.0,\"#f0f921\"]]}],\"surface\":[{\"type\":\"surface\",\"colorbar\":{\"outlinewidth\":0,\"ticks\":\"\"},\"colorscale\":[[0.0,\"#0d0887\"],[0.1111111111111111,\"#46039f\"],[0.2222222222222222,\"#7201a8\"],[0.3333333333333333,\"#9c179e\"],[0.4444444444444444,\"#bd3786\"],[0.5555555555555556,\"#d8576b\"],[0.6666666666666666,\"#ed7953\"],[0.7777777777777778,\"#fb9f3a\"],[0.8888888888888888,\"#fdca26\"],[1.0,\"#f0f921\"]]}],\"mesh3d\":[{\"type\":\"mesh3d\",\"colorbar\":{\"outlinewidth\":0,\"ticks\":\"\"}}],\"scatter\":[{\"fillpattern\":{\"fillmode\":\"overlay\",\"size\":10,\"solidity\":0.2},\"type\":\"scatter\"}],\"parcoords\":[{\"type\":\"parcoords\",\"line\":{\"colorbar\":{\"outlinewidth\":0,\"ticks\":\"\"}}}],\"scatterpolargl\":[{\"type\":\"scatterpolargl\",\"marker\":{\"colorbar\":{\"outlinewidth\":0,\"ticks\":\"\"}}}],\"bar\":[{\"error_x\":{\"color\":\"#2a3f5f\"},\"error_y\":{\"color\":\"#2a3f5f\"},\"marker\":{\"line\":{\"color\":\"#E5ECF6\",\"width\":0.5},\"pattern\":{\"fillmode\":\"overlay\",\"size\":10,\"solidity\":0.2}},\"type\":\"bar\"}],\"scattergeo\":[{\"type\":\"scattergeo\",\"marker\":{\"colorbar\":{\"outlinewidth\":0,\"ticks\":\"\"}}}],\"scatterpolar\":[{\"type\":\"scatterpolar\",\"marker\":{\"colorbar\":{\"outlinewidth\":0,\"ticks\":\"\"}}}],\"histogram\":[{\"marker\":{\"pattern\":{\"fillmode\":\"overlay\",\"size\":10,\"solidity\":0.2}},\"type\":\"histogram\"}],\"scattergl\":[{\"type\":\"scattergl\",\"marker\":{\"colorbar\":{\"outlinewidth\":0,\"ticks\":\"\"}}}],\"scatter3d\":[{\"type\":\"scatter3d\",\"line\":{\"colorbar\":{\"outlinewidth\":0,\"ticks\":\"\"}},\"marker\":{\"colorbar\":{\"outlinewidth\":0,\"ticks\":\"\"}}}],\"scattermapbox\":[{\"type\":\"scattermapbox\",\"marker\":{\"colorbar\":{\"outlinewidth\":0,\"ticks\":\"\"}}}],\"scatterternary\":[{\"type\":\"scatterternary\",\"marker\":{\"colorbar\":{\"outlinewidth\":0,\"ticks\":\"\"}}}],\"scattercarpet\":[{\"type\":\"scattercarpet\",\"marker\":{\"colorbar\":{\"outlinewidth\":0,\"ticks\":\"\"}}}],\"carpet\":[{\"aaxis\":{\"endlinecolor\":\"#2a3f5f\",\"gridcolor\":\"white\",\"linecolor\":\"white\",\"minorgridcolor\":\"white\",\"startlinecolor\":\"#2a3f5f\"},\"baxis\":{\"endlinecolor\":\"#2a3f5f\",\"gridcolor\":\"white\",\"linecolor\":\"white\",\"minorgridcolor\":\"white\",\"startlinecolor\":\"#2a3f5f\"},\"type\":\"carpet\"}],\"table\":[{\"cells\":{\"fill\":{\"color\":\"#EBF0F8\"},\"line\":{\"color\":\"white\"}},\"header\":{\"fill\":{\"color\":\"#C8D4E3\"},\"line\":{\"color\":\"white\"}},\"type\":\"table\"}],\"barpolar\":[{\"marker\":{\"line\":{\"color\":\"#E5ECF6\",\"width\":0.5},\"pattern\":{\"fillmode\":\"overlay\",\"size\":10,\"solidity\":0.2}},\"type\":\"barpolar\"}],\"pie\":[{\"automargin\":true,\"type\":\"pie\"}]},\"layout\":{\"autotypenumbers\":\"strict\",\"colorway\":[\"#636efa\",\"#EF553B\",\"#00cc96\",\"#ab63fa\",\"#FFA15A\",\"#19d3f3\",\"#FF6692\",\"#B6E880\",\"#FF97FF\",\"#FECB52\"],\"font\":{\"color\":\"#2a3f5f\"},\"hovermode\":\"closest\",\"hoverlabel\":{\"align\":\"left\"},\"paper_bgcolor\":\"white\",\"plot_bgcolor\":\"#E5ECF6\",\"polar\":{\"bgcolor\":\"#E5ECF6\",\"angularaxis\":{\"gridcolor\":\"white\",\"linecolor\":\"white\",\"ticks\":\"\"},\"radialaxis\":{\"gridcolor\":\"white\",\"linecolor\":\"white\",\"ticks\":\"\"}},\"ternary\":{\"bgcolor\":\"#E5ECF6\",\"aaxis\":{\"gridcolor\":\"white\",\"linecolor\":\"white\",\"ticks\":\"\"},\"baxis\":{\"gridcolor\":\"white\",\"linecolor\":\"white\",\"ticks\":\"\"},\"caxis\":{\"gridcolor\":\"white\",\"linecolor\":\"white\",\"ticks\":\"\"}},\"coloraxis\":{\"colorbar\":{\"outlinewidth\":0,\"ticks\":\"\"}},\"colorscale\":{\"sequential\":[[0.0,\"#0d0887\"],[0.1111111111111111,\"#46039f\"],[0.2222222222222222,\"#7201a8\"],[0.3333333333333333,\"#9c179e\"],[0.4444444444444444,\"#bd3786\"],[0.5555555555555556,\"#d8576b\"],[0.6666666666666666,\"#ed7953\"],[0.7777777777777778,\"#fb9f3a\"],[0.8888888888888888,\"#fdca26\"],[1.0,\"#f0f921\"]],\"sequentialminus\":[[0.0,\"#0d0887\"],[0.1111111111111111,\"#46039f\"],[0.2222222222222222,\"#7201a8\"],[0.3333333333333333,\"#9c179e\"],[0.4444444444444444,\"#bd3786\"],[0.5555555555555556,\"#d8576b\"],[0.6666666666666666,\"#ed7953\"],[0.7777777777777778,\"#fb9f3a\"],[0.8888888888888888,\"#fdca26\"],[1.0,\"#f0f921\"]],\"diverging\":[[0,\"#8e0152\"],[0.1,\"#c51b7d\"],[0.2,\"#de77ae\"],[0.3,\"#f1b6da\"],[0.4,\"#fde0ef\"],[0.5,\"#f7f7f7\"],[0.6,\"#e6f5d0\"],[0.7,\"#b8e186\"],[0.8,\"#7fbc41\"],[0.9,\"#4d9221\"],[1,\"#276419\"]]},\"xaxis\":{\"gridcolor\":\"white\",\"linecolor\":\"white\",\"ticks\":\"\",\"title\":{\"standoff\":15},\"zerolinecolor\":\"white\",\"automargin\":true,\"zerolinewidth\":2},\"yaxis\":{\"gridcolor\":\"white\",\"linecolor\":\"white\",\"ticks\":\"\",\"title\":{\"standoff\":15},\"zerolinecolor\":\"white\",\"automargin\":true,\"zerolinewidth\":2},\"scene\":{\"xaxis\":{\"backgroundcolor\":\"#E5ECF6\",\"gridcolor\":\"white\",\"linecolor\":\"white\",\"showbackground\":true,\"ticks\":\"\",\"zerolinecolor\":\"white\",\"gridwidth\":2},\"yaxis\":{\"backgroundcolor\":\"#E5ECF6\",\"gridcolor\":\"white\",\"linecolor\":\"white\",\"showbackground\":true,\"ticks\":\"\",\"zerolinecolor\":\"white\",\"gridwidth\":2},\"zaxis\":{\"backgroundcolor\":\"#E5ECF6\",\"gridcolor\":\"white\",\"linecolor\":\"white\",\"showbackground\":true,\"ticks\":\"\",\"zerolinecolor\":\"white\",\"gridwidth\":2}},\"shapedefaults\":{\"line\":{\"color\":\"#2a3f5f\"}},\"annotationdefaults\":{\"arrowcolor\":\"#2a3f5f\",\"arrowhead\":0,\"arrowwidth\":1},\"geo\":{\"bgcolor\":\"white\",\"landcolor\":\"#E5ECF6\",\"subunitcolor\":\"white\",\"showland\":true,\"showlakes\":true,\"lakecolor\":\"white\"},\"title\":{\"x\":0.05},\"mapbox\":{\"style\":\"light\"}}},\"xaxis\":{\"anchor\":\"y\",\"domain\":[0.0,1.0],\"scaleanchor\":\"y\",\"constrain\":\"domain\",\"title\":{\"text\":\"Multi-Agent HJ Flocking Control\"}},\"yaxis\":{\"anchor\":\"x\",\"domain\":[0.0,1.0],\"autorange\":\"reversed\",\"constrain\":\"domain\",\"title\":{\"text\":\"Multi-Agent HJ Naive\"}},\"coloraxis\":{\"colorscale\":[[0.0,\"#0d0887\"],[0.1111111111111111,\"#46039f\"],[0.2222222222222222,\"#7201a8\"],[0.3333333333333333,\"#9c179e\"],[0.4444444444444444,\"#bd3786\"],[0.5555555555555556,\"#d8576b\"],[0.6666666666666666,\"#ed7953\"],[0.7777777777777778,\"#fb9f3a\"],[0.8888888888888888,\"#fdca26\"],[1.0,\"#f0f921\"]]},\"margin\":{\"t\":60},\"title\":{\"text\":\"Missions with communication losses\"}},                        {\"responsive\": true}                    ).then(function(){\n",
       "                            \n",
       "var gd = document.getElementById('bc2cbb10-fc4a-4ad4-82b0-4ff374701c15');\n",
       "var x = new MutationObserver(function (mutations, observer) {{\n",
       "        var display = window.getComputedStyle(gd).display;\n",
       "        if (!display || display === 'none') {{\n",
       "            console.log([gd, 'removed!']);\n",
       "            Plotly.purge(gd);\n",
       "            observer.disconnect();\n",
       "        }}\n",
       "}});\n",
       "\n",
       "// Listen for the removal of the full notebook cells\n",
       "var notebookContainer = gd.closest('#notebook-container');\n",
       "if (notebookContainer) {{\n",
       "    x.observe(notebookContainer, {childList: true});\n",
       "}}\n",
       "\n",
       "// Listen for the clearing of the current output cell\n",
       "var outputEl = gd.closest('.output');\n",
       "if (outputEl) {{\n",
       "    x.observe(outputEl, {childList: true});\n",
       "}}\n",
       "\n",
       "                        })                };                });            </script>        </div>"
      ]
     },
     "metadata": {},
     "output_type": "display_data"
    }
   ],
   "source": [
    "fig_conf_flocking_comm_loss = plot_confusion_matrix(metrics_hj_naive[\"Isolated_platform_metric\"]>0, \n",
    "                        metrics_hj_flocking[\"Isolated_platform_metric\"]>0, 'Multi-Agent HJ Naive', \n",
    "                        'Multi-Agent HJ Flocking Control', title_name=\"Missions with communication losses\")"
   ]
  },
  {
   "attachments": {},
   "cell_type": "markdown",
   "metadata": {},
   "source": [
    "+ Connectivity and Collision maintenance performance"
   ]
  },
  {
   "cell_type": "code",
   "execution_count": 27,
   "metadata": {},
   "outputs": [
    {
     "data": {
      "application/vnd.plotly.v1+json": {
       "config": {
        "plotlyServerURL": "https://plot.ly"
       },
       "data": [
        {
         "coloraxis": "coloraxis",
         "hovertemplate": "Multi-Agent HJ Flocking Control: %{x}<br>Multi-Agent HJ Naive: %{y}<br>color: %{z}<extra></extra>",
         "name": "0",
         "texttemplate": "%{z}",
         "type": "heatmap",
         "x": [
          false,
          true
         ],
         "xaxis": "x",
         "y": [
          false,
          true
         ],
         "yaxis": "y",
         "z": [
          [
           57,
           357
          ],
          [
           0,
           134
          ]
         ]
        }
       ],
       "layout": {
        "coloraxis": {
         "colorscale": [
          [
           0,
           "#0d0887"
          ],
          [
           0.1111111111111111,
           "#46039f"
          ],
          [
           0.2222222222222222,
           "#7201a8"
          ],
          [
           0.3333333333333333,
           "#9c179e"
          ],
          [
           0.4444444444444444,
           "#bd3786"
          ],
          [
           0.5555555555555556,
           "#d8576b"
          ],
          [
           0.6666666666666666,
           "#ed7953"
          ],
          [
           0.7777777777777778,
           "#fb9f3a"
          ],
          [
           0.8888888888888888,
           "#fdca26"
          ],
          [
           1,
           "#f0f921"
          ]
         ]
        },
        "margin": {
         "t": 60
        },
        "template": {
         "data": {
          "bar": [
           {
            "error_x": {
             "color": "#2a3f5f"
            },
            "error_y": {
             "color": "#2a3f5f"
            },
            "marker": {
             "line": {
              "color": "#E5ECF6",
              "width": 0.5
             },
             "pattern": {
              "fillmode": "overlay",
              "size": 10,
              "solidity": 0.2
             }
            },
            "type": "bar"
           }
          ],
          "barpolar": [
           {
            "marker": {
             "line": {
              "color": "#E5ECF6",
              "width": 0.5
             },
             "pattern": {
              "fillmode": "overlay",
              "size": 10,
              "solidity": 0.2
             }
            },
            "type": "barpolar"
           }
          ],
          "carpet": [
           {
            "aaxis": {
             "endlinecolor": "#2a3f5f",
             "gridcolor": "white",
             "linecolor": "white",
             "minorgridcolor": "white",
             "startlinecolor": "#2a3f5f"
            },
            "baxis": {
             "endlinecolor": "#2a3f5f",
             "gridcolor": "white",
             "linecolor": "white",
             "minorgridcolor": "white",
             "startlinecolor": "#2a3f5f"
            },
            "type": "carpet"
           }
          ],
          "choropleth": [
           {
            "colorbar": {
             "outlinewidth": 0,
             "ticks": ""
            },
            "type": "choropleth"
           }
          ],
          "contour": [
           {
            "colorbar": {
             "outlinewidth": 0,
             "ticks": ""
            },
            "colorscale": [
             [
              0,
              "#0d0887"
             ],
             [
              0.1111111111111111,
              "#46039f"
             ],
             [
              0.2222222222222222,
              "#7201a8"
             ],
             [
              0.3333333333333333,
              "#9c179e"
             ],
             [
              0.4444444444444444,
              "#bd3786"
             ],
             [
              0.5555555555555556,
              "#d8576b"
             ],
             [
              0.6666666666666666,
              "#ed7953"
             ],
             [
              0.7777777777777778,
              "#fb9f3a"
             ],
             [
              0.8888888888888888,
              "#fdca26"
             ],
             [
              1,
              "#f0f921"
             ]
            ],
            "type": "contour"
           }
          ],
          "contourcarpet": [
           {
            "colorbar": {
             "outlinewidth": 0,
             "ticks": ""
            },
            "type": "contourcarpet"
           }
          ],
          "heatmap": [
           {
            "colorbar": {
             "outlinewidth": 0,
             "ticks": ""
            },
            "colorscale": [
             [
              0,
              "#0d0887"
             ],
             [
              0.1111111111111111,
              "#46039f"
             ],
             [
              0.2222222222222222,
              "#7201a8"
             ],
             [
              0.3333333333333333,
              "#9c179e"
             ],
             [
              0.4444444444444444,
              "#bd3786"
             ],
             [
              0.5555555555555556,
              "#d8576b"
             ],
             [
              0.6666666666666666,
              "#ed7953"
             ],
             [
              0.7777777777777778,
              "#fb9f3a"
             ],
             [
              0.8888888888888888,
              "#fdca26"
             ],
             [
              1,
              "#f0f921"
             ]
            ],
            "type": "heatmap"
           }
          ],
          "heatmapgl": [
           {
            "colorbar": {
             "outlinewidth": 0,
             "ticks": ""
            },
            "colorscale": [
             [
              0,
              "#0d0887"
             ],
             [
              0.1111111111111111,
              "#46039f"
             ],
             [
              0.2222222222222222,
              "#7201a8"
             ],
             [
              0.3333333333333333,
              "#9c179e"
             ],
             [
              0.4444444444444444,
              "#bd3786"
             ],
             [
              0.5555555555555556,
              "#d8576b"
             ],
             [
              0.6666666666666666,
              "#ed7953"
             ],
             [
              0.7777777777777778,
              "#fb9f3a"
             ],
             [
              0.8888888888888888,
              "#fdca26"
             ],
             [
              1,
              "#f0f921"
             ]
            ],
            "type": "heatmapgl"
           }
          ],
          "histogram": [
           {
            "marker": {
             "pattern": {
              "fillmode": "overlay",
              "size": 10,
              "solidity": 0.2
             }
            },
            "type": "histogram"
           }
          ],
          "histogram2d": [
           {
            "colorbar": {
             "outlinewidth": 0,
             "ticks": ""
            },
            "colorscale": [
             [
              0,
              "#0d0887"
             ],
             [
              0.1111111111111111,
              "#46039f"
             ],
             [
              0.2222222222222222,
              "#7201a8"
             ],
             [
              0.3333333333333333,
              "#9c179e"
             ],
             [
              0.4444444444444444,
              "#bd3786"
             ],
             [
              0.5555555555555556,
              "#d8576b"
             ],
             [
              0.6666666666666666,
              "#ed7953"
             ],
             [
              0.7777777777777778,
              "#fb9f3a"
             ],
             [
              0.8888888888888888,
              "#fdca26"
             ],
             [
              1,
              "#f0f921"
             ]
            ],
            "type": "histogram2d"
           }
          ],
          "histogram2dcontour": [
           {
            "colorbar": {
             "outlinewidth": 0,
             "ticks": ""
            },
            "colorscale": [
             [
              0,
              "#0d0887"
             ],
             [
              0.1111111111111111,
              "#46039f"
             ],
             [
              0.2222222222222222,
              "#7201a8"
             ],
             [
              0.3333333333333333,
              "#9c179e"
             ],
             [
              0.4444444444444444,
              "#bd3786"
             ],
             [
              0.5555555555555556,
              "#d8576b"
             ],
             [
              0.6666666666666666,
              "#ed7953"
             ],
             [
              0.7777777777777778,
              "#fb9f3a"
             ],
             [
              0.8888888888888888,
              "#fdca26"
             ],
             [
              1,
              "#f0f921"
             ]
            ],
            "type": "histogram2dcontour"
           }
          ],
          "mesh3d": [
           {
            "colorbar": {
             "outlinewidth": 0,
             "ticks": ""
            },
            "type": "mesh3d"
           }
          ],
          "parcoords": [
           {
            "line": {
             "colorbar": {
              "outlinewidth": 0,
              "ticks": ""
             }
            },
            "type": "parcoords"
           }
          ],
          "pie": [
           {
            "automargin": true,
            "type": "pie"
           }
          ],
          "scatter": [
           {
            "fillpattern": {
             "fillmode": "overlay",
             "size": 10,
             "solidity": 0.2
            },
            "type": "scatter"
           }
          ],
          "scatter3d": [
           {
            "line": {
             "colorbar": {
              "outlinewidth": 0,
              "ticks": ""
             }
            },
            "marker": {
             "colorbar": {
              "outlinewidth": 0,
              "ticks": ""
             }
            },
            "type": "scatter3d"
           }
          ],
          "scattercarpet": [
           {
            "marker": {
             "colorbar": {
              "outlinewidth": 0,
              "ticks": ""
             }
            },
            "type": "scattercarpet"
           }
          ],
          "scattergeo": [
           {
            "marker": {
             "colorbar": {
              "outlinewidth": 0,
              "ticks": ""
             }
            },
            "type": "scattergeo"
           }
          ],
          "scattergl": [
           {
            "marker": {
             "colorbar": {
              "outlinewidth": 0,
              "ticks": ""
             }
            },
            "type": "scattergl"
           }
          ],
          "scattermapbox": [
           {
            "marker": {
             "colorbar": {
              "outlinewidth": 0,
              "ticks": ""
             }
            },
            "type": "scattermapbox"
           }
          ],
          "scatterpolar": [
           {
            "marker": {
             "colorbar": {
              "outlinewidth": 0,
              "ticks": ""
             }
            },
            "type": "scatterpolar"
           }
          ],
          "scatterpolargl": [
           {
            "marker": {
             "colorbar": {
              "outlinewidth": 0,
              "ticks": ""
             }
            },
            "type": "scatterpolargl"
           }
          ],
          "scatterternary": [
           {
            "marker": {
             "colorbar": {
              "outlinewidth": 0,
              "ticks": ""
             }
            },
            "type": "scatterternary"
           }
          ],
          "surface": [
           {
            "colorbar": {
             "outlinewidth": 0,
             "ticks": ""
            },
            "colorscale": [
             [
              0,
              "#0d0887"
             ],
             [
              0.1111111111111111,
              "#46039f"
             ],
             [
              0.2222222222222222,
              "#7201a8"
             ],
             [
              0.3333333333333333,
              "#9c179e"
             ],
             [
              0.4444444444444444,
              "#bd3786"
             ],
             [
              0.5555555555555556,
              "#d8576b"
             ],
             [
              0.6666666666666666,
              "#ed7953"
             ],
             [
              0.7777777777777778,
              "#fb9f3a"
             ],
             [
              0.8888888888888888,
              "#fdca26"
             ],
             [
              1,
              "#f0f921"
             ]
            ],
            "type": "surface"
           }
          ],
          "table": [
           {
            "cells": {
             "fill": {
              "color": "#EBF0F8"
             },
             "line": {
              "color": "white"
             }
            },
            "header": {
             "fill": {
              "color": "#C8D4E3"
             },
             "line": {
              "color": "white"
             }
            },
            "type": "table"
           }
          ]
         },
         "layout": {
          "annotationdefaults": {
           "arrowcolor": "#2a3f5f",
           "arrowhead": 0,
           "arrowwidth": 1
          },
          "autotypenumbers": "strict",
          "coloraxis": {
           "colorbar": {
            "outlinewidth": 0,
            "ticks": ""
           }
          },
          "colorscale": {
           "diverging": [
            [
             0,
             "#8e0152"
            ],
            [
             0.1,
             "#c51b7d"
            ],
            [
             0.2,
             "#de77ae"
            ],
            [
             0.3,
             "#f1b6da"
            ],
            [
             0.4,
             "#fde0ef"
            ],
            [
             0.5,
             "#f7f7f7"
            ],
            [
             0.6,
             "#e6f5d0"
            ],
            [
             0.7,
             "#b8e186"
            ],
            [
             0.8,
             "#7fbc41"
            ],
            [
             0.9,
             "#4d9221"
            ],
            [
             1,
             "#276419"
            ]
           ],
           "sequential": [
            [
             0,
             "#0d0887"
            ],
            [
             0.1111111111111111,
             "#46039f"
            ],
            [
             0.2222222222222222,
             "#7201a8"
            ],
            [
             0.3333333333333333,
             "#9c179e"
            ],
            [
             0.4444444444444444,
             "#bd3786"
            ],
            [
             0.5555555555555556,
             "#d8576b"
            ],
            [
             0.6666666666666666,
             "#ed7953"
            ],
            [
             0.7777777777777778,
             "#fb9f3a"
            ],
            [
             0.8888888888888888,
             "#fdca26"
            ],
            [
             1,
             "#f0f921"
            ]
           ],
           "sequentialminus": [
            [
             0,
             "#0d0887"
            ],
            [
             0.1111111111111111,
             "#46039f"
            ],
            [
             0.2222222222222222,
             "#7201a8"
            ],
            [
             0.3333333333333333,
             "#9c179e"
            ],
            [
             0.4444444444444444,
             "#bd3786"
            ],
            [
             0.5555555555555556,
             "#d8576b"
            ],
            [
             0.6666666666666666,
             "#ed7953"
            ],
            [
             0.7777777777777778,
             "#fb9f3a"
            ],
            [
             0.8888888888888888,
             "#fdca26"
            ],
            [
             1,
             "#f0f921"
            ]
           ]
          },
          "colorway": [
           "#636efa",
           "#EF553B",
           "#00cc96",
           "#ab63fa",
           "#FFA15A",
           "#19d3f3",
           "#FF6692",
           "#B6E880",
           "#FF97FF",
           "#FECB52"
          ],
          "font": {
           "color": "#2a3f5f"
          },
          "geo": {
           "bgcolor": "white",
           "lakecolor": "white",
           "landcolor": "#E5ECF6",
           "showlakes": true,
           "showland": true,
           "subunitcolor": "white"
          },
          "hoverlabel": {
           "align": "left"
          },
          "hovermode": "closest",
          "mapbox": {
           "style": "light"
          },
          "paper_bgcolor": "white",
          "plot_bgcolor": "#E5ECF6",
          "polar": {
           "angularaxis": {
            "gridcolor": "white",
            "linecolor": "white",
            "ticks": ""
           },
           "bgcolor": "#E5ECF6",
           "radialaxis": {
            "gridcolor": "white",
            "linecolor": "white",
            "ticks": ""
           }
          },
          "scene": {
           "xaxis": {
            "backgroundcolor": "#E5ECF6",
            "gridcolor": "white",
            "gridwidth": 2,
            "linecolor": "white",
            "showbackground": true,
            "ticks": "",
            "zerolinecolor": "white"
           },
           "yaxis": {
            "backgroundcolor": "#E5ECF6",
            "gridcolor": "white",
            "gridwidth": 2,
            "linecolor": "white",
            "showbackground": true,
            "ticks": "",
            "zerolinecolor": "white"
           },
           "zaxis": {
            "backgroundcolor": "#E5ECF6",
            "gridcolor": "white",
            "gridwidth": 2,
            "linecolor": "white",
            "showbackground": true,
            "ticks": "",
            "zerolinecolor": "white"
           }
          },
          "shapedefaults": {
           "line": {
            "color": "#2a3f5f"
           }
          },
          "ternary": {
           "aaxis": {
            "gridcolor": "white",
            "linecolor": "white",
            "ticks": ""
           },
           "baxis": {
            "gridcolor": "white",
            "linecolor": "white",
            "ticks": ""
           },
           "bgcolor": "#E5ECF6",
           "caxis": {
            "gridcolor": "white",
            "linecolor": "white",
            "ticks": ""
           }
          },
          "title": {
           "x": 0.05
          },
          "xaxis": {
           "automargin": true,
           "gridcolor": "white",
           "linecolor": "white",
           "ticks": "",
           "title": {
            "standoff": 15
           },
           "zerolinecolor": "white",
           "zerolinewidth": 2
          },
          "yaxis": {
           "automargin": true,
           "gridcolor": "white",
           "linecolor": "white",
           "ticks": "",
           "title": {
            "standoff": 15
           },
           "zerolinecolor": "white",
           "zerolinewidth": 2
          }
         }
        },
        "title": {
         "text": "Missions without collisions and with maintained connectivity"
        },
        "xaxis": {
         "anchor": "y",
         "constrain": "domain",
         "domain": [
          0,
          1
         ],
         "scaleanchor": "y",
         "title": {
          "text": "Multi-Agent HJ Flocking Control"
         }
        },
        "yaxis": {
         "anchor": "x",
         "autorange": "reversed",
         "constrain": "domain",
         "domain": [
          0,
          1
         ],
         "title": {
          "text": "Multi-Agent HJ Naive"
         }
        }
       }
      },
      "text/html": [
       "<div>                            <div id=\"2bc39552-1824-42e1-b28a-9134631c6719\" class=\"plotly-graph-div\" style=\"height:525px; width:100%;\"></div>            <script type=\"text/javascript\">                require([\"plotly\"], function(Plotly) {                    window.PLOTLYENV=window.PLOTLYENV || {};                                    if (document.getElementById(\"2bc39552-1824-42e1-b28a-9134631c6719\")) {                    Plotly.newPlot(                        \"2bc39552-1824-42e1-b28a-9134631c6719\",                        [{\"coloraxis\":\"coloraxis\",\"name\":\"0\",\"texttemplate\":\"%{z}\",\"x\":[false,true],\"y\":[false,true],\"z\":[[57,357],[0,134]],\"type\":\"heatmap\",\"xaxis\":\"x\",\"yaxis\":\"y\",\"hovertemplate\":\"Multi-Agent HJ Flocking Control: %{x}<br>Multi-Agent HJ Naive: %{y}<br>color: %{z}<extra></extra>\"}],                        {\"template\":{\"data\":{\"histogram2dcontour\":[{\"type\":\"histogram2dcontour\",\"colorbar\":{\"outlinewidth\":0,\"ticks\":\"\"},\"colorscale\":[[0.0,\"#0d0887\"],[0.1111111111111111,\"#46039f\"],[0.2222222222222222,\"#7201a8\"],[0.3333333333333333,\"#9c179e\"],[0.4444444444444444,\"#bd3786\"],[0.5555555555555556,\"#d8576b\"],[0.6666666666666666,\"#ed7953\"],[0.7777777777777778,\"#fb9f3a\"],[0.8888888888888888,\"#fdca26\"],[1.0,\"#f0f921\"]]}],\"choropleth\":[{\"type\":\"choropleth\",\"colorbar\":{\"outlinewidth\":0,\"ticks\":\"\"}}],\"histogram2d\":[{\"type\":\"histogram2d\",\"colorbar\":{\"outlinewidth\":0,\"ticks\":\"\"},\"colorscale\":[[0.0,\"#0d0887\"],[0.1111111111111111,\"#46039f\"],[0.2222222222222222,\"#7201a8\"],[0.3333333333333333,\"#9c179e\"],[0.4444444444444444,\"#bd3786\"],[0.5555555555555556,\"#d8576b\"],[0.6666666666666666,\"#ed7953\"],[0.7777777777777778,\"#fb9f3a\"],[0.8888888888888888,\"#fdca26\"],[1.0,\"#f0f921\"]]}],\"heatmap\":[{\"type\":\"heatmap\",\"colorbar\":{\"outlinewidth\":0,\"ticks\":\"\"},\"colorscale\":[[0.0,\"#0d0887\"],[0.1111111111111111,\"#46039f\"],[0.2222222222222222,\"#7201a8\"],[0.3333333333333333,\"#9c179e\"],[0.4444444444444444,\"#bd3786\"],[0.5555555555555556,\"#d8576b\"],[0.6666666666666666,\"#ed7953\"],[0.7777777777777778,\"#fb9f3a\"],[0.8888888888888888,\"#fdca26\"],[1.0,\"#f0f921\"]]}],\"heatmapgl\":[{\"type\":\"heatmapgl\",\"colorbar\":{\"outlinewidth\":0,\"ticks\":\"\"},\"colorscale\":[[0.0,\"#0d0887\"],[0.1111111111111111,\"#46039f\"],[0.2222222222222222,\"#7201a8\"],[0.3333333333333333,\"#9c179e\"],[0.4444444444444444,\"#bd3786\"],[0.5555555555555556,\"#d8576b\"],[0.6666666666666666,\"#ed7953\"],[0.7777777777777778,\"#fb9f3a\"],[0.8888888888888888,\"#fdca26\"],[1.0,\"#f0f921\"]]}],\"contourcarpet\":[{\"type\":\"contourcarpet\",\"colorbar\":{\"outlinewidth\":0,\"ticks\":\"\"}}],\"contour\":[{\"type\":\"contour\",\"colorbar\":{\"outlinewidth\":0,\"ticks\":\"\"},\"colorscale\":[[0.0,\"#0d0887\"],[0.1111111111111111,\"#46039f\"],[0.2222222222222222,\"#7201a8\"],[0.3333333333333333,\"#9c179e\"],[0.4444444444444444,\"#bd3786\"],[0.5555555555555556,\"#d8576b\"],[0.6666666666666666,\"#ed7953\"],[0.7777777777777778,\"#fb9f3a\"],[0.8888888888888888,\"#fdca26\"],[1.0,\"#f0f921\"]]}],\"surface\":[{\"type\":\"surface\",\"colorbar\":{\"outlinewidth\":0,\"ticks\":\"\"},\"colorscale\":[[0.0,\"#0d0887\"],[0.1111111111111111,\"#46039f\"],[0.2222222222222222,\"#7201a8\"],[0.3333333333333333,\"#9c179e\"],[0.4444444444444444,\"#bd3786\"],[0.5555555555555556,\"#d8576b\"],[0.6666666666666666,\"#ed7953\"],[0.7777777777777778,\"#fb9f3a\"],[0.8888888888888888,\"#fdca26\"],[1.0,\"#f0f921\"]]}],\"mesh3d\":[{\"type\":\"mesh3d\",\"colorbar\":{\"outlinewidth\":0,\"ticks\":\"\"}}],\"scatter\":[{\"fillpattern\":{\"fillmode\":\"overlay\",\"size\":10,\"solidity\":0.2},\"type\":\"scatter\"}],\"parcoords\":[{\"type\":\"parcoords\",\"line\":{\"colorbar\":{\"outlinewidth\":0,\"ticks\":\"\"}}}],\"scatterpolargl\":[{\"type\":\"scatterpolargl\",\"marker\":{\"colorbar\":{\"outlinewidth\":0,\"ticks\":\"\"}}}],\"bar\":[{\"error_x\":{\"color\":\"#2a3f5f\"},\"error_y\":{\"color\":\"#2a3f5f\"},\"marker\":{\"line\":{\"color\":\"#E5ECF6\",\"width\":0.5},\"pattern\":{\"fillmode\":\"overlay\",\"size\":10,\"solidity\":0.2}},\"type\":\"bar\"}],\"scattergeo\":[{\"type\":\"scattergeo\",\"marker\":{\"colorbar\":{\"outlinewidth\":0,\"ticks\":\"\"}}}],\"scatterpolar\":[{\"type\":\"scatterpolar\",\"marker\":{\"colorbar\":{\"outlinewidth\":0,\"ticks\":\"\"}}}],\"histogram\":[{\"marker\":{\"pattern\":{\"fillmode\":\"overlay\",\"size\":10,\"solidity\":0.2}},\"type\":\"histogram\"}],\"scattergl\":[{\"type\":\"scattergl\",\"marker\":{\"colorbar\":{\"outlinewidth\":0,\"ticks\":\"\"}}}],\"scatter3d\":[{\"type\":\"scatter3d\",\"line\":{\"colorbar\":{\"outlinewidth\":0,\"ticks\":\"\"}},\"marker\":{\"colorbar\":{\"outlinewidth\":0,\"ticks\":\"\"}}}],\"scattermapbox\":[{\"type\":\"scattermapbox\",\"marker\":{\"colorbar\":{\"outlinewidth\":0,\"ticks\":\"\"}}}],\"scatterternary\":[{\"type\":\"scatterternary\",\"marker\":{\"colorbar\":{\"outlinewidth\":0,\"ticks\":\"\"}}}],\"scattercarpet\":[{\"type\":\"scattercarpet\",\"marker\":{\"colorbar\":{\"outlinewidth\":0,\"ticks\":\"\"}}}],\"carpet\":[{\"aaxis\":{\"endlinecolor\":\"#2a3f5f\",\"gridcolor\":\"white\",\"linecolor\":\"white\",\"minorgridcolor\":\"white\",\"startlinecolor\":\"#2a3f5f\"},\"baxis\":{\"endlinecolor\":\"#2a3f5f\",\"gridcolor\":\"white\",\"linecolor\":\"white\",\"minorgridcolor\":\"white\",\"startlinecolor\":\"#2a3f5f\"},\"type\":\"carpet\"}],\"table\":[{\"cells\":{\"fill\":{\"color\":\"#EBF0F8\"},\"line\":{\"color\":\"white\"}},\"header\":{\"fill\":{\"color\":\"#C8D4E3\"},\"line\":{\"color\":\"white\"}},\"type\":\"table\"}],\"barpolar\":[{\"marker\":{\"line\":{\"color\":\"#E5ECF6\",\"width\":0.5},\"pattern\":{\"fillmode\":\"overlay\",\"size\":10,\"solidity\":0.2}},\"type\":\"barpolar\"}],\"pie\":[{\"automargin\":true,\"type\":\"pie\"}]},\"layout\":{\"autotypenumbers\":\"strict\",\"colorway\":[\"#636efa\",\"#EF553B\",\"#00cc96\",\"#ab63fa\",\"#FFA15A\",\"#19d3f3\",\"#FF6692\",\"#B6E880\",\"#FF97FF\",\"#FECB52\"],\"font\":{\"color\":\"#2a3f5f\"},\"hovermode\":\"closest\",\"hoverlabel\":{\"align\":\"left\"},\"paper_bgcolor\":\"white\",\"plot_bgcolor\":\"#E5ECF6\",\"polar\":{\"bgcolor\":\"#E5ECF6\",\"angularaxis\":{\"gridcolor\":\"white\",\"linecolor\":\"white\",\"ticks\":\"\"},\"radialaxis\":{\"gridcolor\":\"white\",\"linecolor\":\"white\",\"ticks\":\"\"}},\"ternary\":{\"bgcolor\":\"#E5ECF6\",\"aaxis\":{\"gridcolor\":\"white\",\"linecolor\":\"white\",\"ticks\":\"\"},\"baxis\":{\"gridcolor\":\"white\",\"linecolor\":\"white\",\"ticks\":\"\"},\"caxis\":{\"gridcolor\":\"white\",\"linecolor\":\"white\",\"ticks\":\"\"}},\"coloraxis\":{\"colorbar\":{\"outlinewidth\":0,\"ticks\":\"\"}},\"colorscale\":{\"sequential\":[[0.0,\"#0d0887\"],[0.1111111111111111,\"#46039f\"],[0.2222222222222222,\"#7201a8\"],[0.3333333333333333,\"#9c179e\"],[0.4444444444444444,\"#bd3786\"],[0.5555555555555556,\"#d8576b\"],[0.6666666666666666,\"#ed7953\"],[0.7777777777777778,\"#fb9f3a\"],[0.8888888888888888,\"#fdca26\"],[1.0,\"#f0f921\"]],\"sequentialminus\":[[0.0,\"#0d0887\"],[0.1111111111111111,\"#46039f\"],[0.2222222222222222,\"#7201a8\"],[0.3333333333333333,\"#9c179e\"],[0.4444444444444444,\"#bd3786\"],[0.5555555555555556,\"#d8576b\"],[0.6666666666666666,\"#ed7953\"],[0.7777777777777778,\"#fb9f3a\"],[0.8888888888888888,\"#fdca26\"],[1.0,\"#f0f921\"]],\"diverging\":[[0,\"#8e0152\"],[0.1,\"#c51b7d\"],[0.2,\"#de77ae\"],[0.3,\"#f1b6da\"],[0.4,\"#fde0ef\"],[0.5,\"#f7f7f7\"],[0.6,\"#e6f5d0\"],[0.7,\"#b8e186\"],[0.8,\"#7fbc41\"],[0.9,\"#4d9221\"],[1,\"#276419\"]]},\"xaxis\":{\"gridcolor\":\"white\",\"linecolor\":\"white\",\"ticks\":\"\",\"title\":{\"standoff\":15},\"zerolinecolor\":\"white\",\"automargin\":true,\"zerolinewidth\":2},\"yaxis\":{\"gridcolor\":\"white\",\"linecolor\":\"white\",\"ticks\":\"\",\"title\":{\"standoff\":15},\"zerolinecolor\":\"white\",\"automargin\":true,\"zerolinewidth\":2},\"scene\":{\"xaxis\":{\"backgroundcolor\":\"#E5ECF6\",\"gridcolor\":\"white\",\"linecolor\":\"white\",\"showbackground\":true,\"ticks\":\"\",\"zerolinecolor\":\"white\",\"gridwidth\":2},\"yaxis\":{\"backgroundcolor\":\"#E5ECF6\",\"gridcolor\":\"white\",\"linecolor\":\"white\",\"showbackground\":true,\"ticks\":\"\",\"zerolinecolor\":\"white\",\"gridwidth\":2},\"zaxis\":{\"backgroundcolor\":\"#E5ECF6\",\"gridcolor\":\"white\",\"linecolor\":\"white\",\"showbackground\":true,\"ticks\":\"\",\"zerolinecolor\":\"white\",\"gridwidth\":2}},\"shapedefaults\":{\"line\":{\"color\":\"#2a3f5f\"}},\"annotationdefaults\":{\"arrowcolor\":\"#2a3f5f\",\"arrowhead\":0,\"arrowwidth\":1},\"geo\":{\"bgcolor\":\"white\",\"landcolor\":\"#E5ECF6\",\"subunitcolor\":\"white\",\"showland\":true,\"showlakes\":true,\"lakecolor\":\"white\"},\"title\":{\"x\":0.05},\"mapbox\":{\"style\":\"light\"}}},\"xaxis\":{\"anchor\":\"y\",\"domain\":[0.0,1.0],\"scaleanchor\":\"y\",\"constrain\":\"domain\",\"title\":{\"text\":\"Multi-Agent HJ Flocking Control\"}},\"yaxis\":{\"anchor\":\"x\",\"domain\":[0.0,1.0],\"autorange\":\"reversed\",\"constrain\":\"domain\",\"title\":{\"text\":\"Multi-Agent HJ Naive\"}},\"coloraxis\":{\"colorscale\":[[0.0,\"#0d0887\"],[0.1111111111111111,\"#46039f\"],[0.2222222222222222,\"#7201a8\"],[0.3333333333333333,\"#9c179e\"],[0.4444444444444444,\"#bd3786\"],[0.5555555555555556,\"#d8576b\"],[0.6666666666666666,\"#ed7953\"],[0.7777777777777778,\"#fb9f3a\"],[0.8888888888888888,\"#fdca26\"],[1.0,\"#f0f921\"]]},\"margin\":{\"t\":60},\"title\":{\"text\":\"Missions without collisions and with maintained connectivity\"}},                        {\"responsive\": true}                    ).then(function(){\n",
       "                            \n",
       "var gd = document.getElementById('2bc39552-1824-42e1-b28a-9134631c6719');\n",
       "var x = new MutationObserver(function (mutations, observer) {{\n",
       "        var display = window.getComputedStyle(gd).display;\n",
       "        if (!display || display === 'none') {{\n",
       "            console.log([gd, 'removed!']);\n",
       "            Plotly.purge(gd);\n",
       "            observer.disconnect();\n",
       "        }}\n",
       "}});\n",
       "\n",
       "// Listen for the removal of the full notebook cells\n",
       "var notebookContainer = gd.closest('#notebook-container');\n",
       "if (notebookContainer) {{\n",
       "    x.observe(notebookContainer, {childList: true});\n",
       "}}\n",
       "\n",
       "// Listen for the clearing of the current output cell\n",
       "var outputEl = gd.closest('.output');\n",
       "if (outputEl) {{\n",
       "    x.observe(outputEl, {childList: true});\n",
       "}}\n",
       "\n",
       "                        })                };                });            </script>        </div>"
      ]
     },
     "metadata": {},
     "output_type": "display_data"
    }
   ],
   "source": [
    "connect_objective_flocking = (metrics_hj_flocking[\"Isolated_platform_metric\"]==0) & (metrics_hj_flocking[\"Number_of_collision\"] == 0)\n",
    "connect_objective_hj_naive = (metrics_hj_naive[\"Isolated_platform_metric\"]==0) & (metrics_hj_naive[\"Number_of_collision\"] == 0)\n",
    "fig_flocking_maint = plot_confusion_matrix(connect_objective_hj_naive , connect_objective_flocking , \n",
    "    'Multi-Agent HJ Naive', 'Multi-Agent HJ Flocking Control', title_name= 'Missions without collisions and with maintained connectivity')"
   ]
  },
  {
   "cell_type": "code",
   "execution_count": 28,
   "metadata": {},
   "outputs": [],
   "source": [
    "index_list = metrics_hj_flocking.index[(connect_objective_reactive==True) & (connect_objective_flocking==False)].tolist()\n"
   ]
  },
  {
   "cell_type": "code",
   "execution_count": 29,
   "metadata": {},
   "outputs": [
    {
     "data": {
      "text/plain": [
       "[285]"
      ]
     },
     "execution_count": 29,
     "metadata": {},
     "output_type": "execute_result"
    }
   ],
   "source": [
    "index_list"
   ]
  },
  {
   "cell_type": "code",
   "execution_count": 30,
   "metadata": {},
   "outputs": [
    {
     "data": {
      "text/plain": [
       "Unnamed: 0                                                    342.000000\n",
       "Isolated_platform_metric                                        0.000000\n",
       "Number_of_collision                                             0.000000\n",
       "Reaching_target                                                 1.000000\n",
       "Mean minimum distance to target among all platforms in deg      0.000000\n",
       "Mean maximum correction from optimal control degrees           55.066689\n",
       "Average Beta Index                                              1.015950\n",
       "Initial maximum degree of the graph                             2.000000\n",
       "Final maximum degree of the graph                               3.000000\n",
       "Mission_success                                                 1.000000\n",
       "Name: 285, dtype: float64"
      ]
     },
     "execution_count": 30,
     "metadata": {},
     "output_type": "execute_result"
    }
   ],
   "source": [
    "metrics_hj_reactive.loc[285]"
   ]
  },
  {
   "cell_type": "markdown",
   "metadata": {},
   "source": [
    "+  Missions success counts"
   ]
  },
  {
   "cell_type": "code",
   "execution_count": 31,
   "metadata": {},
   "outputs": [
    {
     "data": {
      "application/vnd.plotly.v1+json": {
       "config": {
        "plotlyServerURL": "https://plot.ly"
       },
       "data": [
        {
         "coloraxis": "coloraxis",
         "hovertemplate": "Multi-Agent HJ Flocking: %{x}<br>Multi-Agent HJ Naive: %{y}<br>color: %{z}<extra></extra>",
         "name": "0",
         "texttemplate": "%{z}",
         "type": "heatmap",
         "x": [
          false,
          true
         ],
         "xaxis": "x",
         "y": [
          false,
          true
         ],
         "yaxis": "y",
         "z": [
          [
           111,
           312
          ],
          [
           2,
           123
          ]
         ]
        }
       ],
       "layout": {
        "coloraxis": {
         "colorscale": [
          [
           0,
           "#0d0887"
          ],
          [
           0.1111111111111111,
           "#46039f"
          ],
          [
           0.2222222222222222,
           "#7201a8"
          ],
          [
           0.3333333333333333,
           "#9c179e"
          ],
          [
           0.4444444444444444,
           "#bd3786"
          ],
          [
           0.5555555555555556,
           "#d8576b"
          ],
          [
           0.6666666666666666,
           "#ed7953"
          ],
          [
           0.7777777777777778,
           "#fb9f3a"
          ],
          [
           0.8888888888888888,
           "#fdca26"
          ],
          [
           1,
           "#f0f921"
          ]
         ]
        },
        "margin": {
         "t": 60
        },
        "template": {
         "data": {
          "bar": [
           {
            "error_x": {
             "color": "#2a3f5f"
            },
            "error_y": {
             "color": "#2a3f5f"
            },
            "marker": {
             "line": {
              "color": "#E5ECF6",
              "width": 0.5
             },
             "pattern": {
              "fillmode": "overlay",
              "size": 10,
              "solidity": 0.2
             }
            },
            "type": "bar"
           }
          ],
          "barpolar": [
           {
            "marker": {
             "line": {
              "color": "#E5ECF6",
              "width": 0.5
             },
             "pattern": {
              "fillmode": "overlay",
              "size": 10,
              "solidity": 0.2
             }
            },
            "type": "barpolar"
           }
          ],
          "carpet": [
           {
            "aaxis": {
             "endlinecolor": "#2a3f5f",
             "gridcolor": "white",
             "linecolor": "white",
             "minorgridcolor": "white",
             "startlinecolor": "#2a3f5f"
            },
            "baxis": {
             "endlinecolor": "#2a3f5f",
             "gridcolor": "white",
             "linecolor": "white",
             "minorgridcolor": "white",
             "startlinecolor": "#2a3f5f"
            },
            "type": "carpet"
           }
          ],
          "choropleth": [
           {
            "colorbar": {
             "outlinewidth": 0,
             "ticks": ""
            },
            "type": "choropleth"
           }
          ],
          "contour": [
           {
            "colorbar": {
             "outlinewidth": 0,
             "ticks": ""
            },
            "colorscale": [
             [
              0,
              "#0d0887"
             ],
             [
              0.1111111111111111,
              "#46039f"
             ],
             [
              0.2222222222222222,
              "#7201a8"
             ],
             [
              0.3333333333333333,
              "#9c179e"
             ],
             [
              0.4444444444444444,
              "#bd3786"
             ],
             [
              0.5555555555555556,
              "#d8576b"
             ],
             [
              0.6666666666666666,
              "#ed7953"
             ],
             [
              0.7777777777777778,
              "#fb9f3a"
             ],
             [
              0.8888888888888888,
              "#fdca26"
             ],
             [
              1,
              "#f0f921"
             ]
            ],
            "type": "contour"
           }
          ],
          "contourcarpet": [
           {
            "colorbar": {
             "outlinewidth": 0,
             "ticks": ""
            },
            "type": "contourcarpet"
           }
          ],
          "heatmap": [
           {
            "colorbar": {
             "outlinewidth": 0,
             "ticks": ""
            },
            "colorscale": [
             [
              0,
              "#0d0887"
             ],
             [
              0.1111111111111111,
              "#46039f"
             ],
             [
              0.2222222222222222,
              "#7201a8"
             ],
             [
              0.3333333333333333,
              "#9c179e"
             ],
             [
              0.4444444444444444,
              "#bd3786"
             ],
             [
              0.5555555555555556,
              "#d8576b"
             ],
             [
              0.6666666666666666,
              "#ed7953"
             ],
             [
              0.7777777777777778,
              "#fb9f3a"
             ],
             [
              0.8888888888888888,
              "#fdca26"
             ],
             [
              1,
              "#f0f921"
             ]
            ],
            "type": "heatmap"
           }
          ],
          "heatmapgl": [
           {
            "colorbar": {
             "outlinewidth": 0,
             "ticks": ""
            },
            "colorscale": [
             [
              0,
              "#0d0887"
             ],
             [
              0.1111111111111111,
              "#46039f"
             ],
             [
              0.2222222222222222,
              "#7201a8"
             ],
             [
              0.3333333333333333,
              "#9c179e"
             ],
             [
              0.4444444444444444,
              "#bd3786"
             ],
             [
              0.5555555555555556,
              "#d8576b"
             ],
             [
              0.6666666666666666,
              "#ed7953"
             ],
             [
              0.7777777777777778,
              "#fb9f3a"
             ],
             [
              0.8888888888888888,
              "#fdca26"
             ],
             [
              1,
              "#f0f921"
             ]
            ],
            "type": "heatmapgl"
           }
          ],
          "histogram": [
           {
            "marker": {
             "pattern": {
              "fillmode": "overlay",
              "size": 10,
              "solidity": 0.2
             }
            },
            "type": "histogram"
           }
          ],
          "histogram2d": [
           {
            "colorbar": {
             "outlinewidth": 0,
             "ticks": ""
            },
            "colorscale": [
             [
              0,
              "#0d0887"
             ],
             [
              0.1111111111111111,
              "#46039f"
             ],
             [
              0.2222222222222222,
              "#7201a8"
             ],
             [
              0.3333333333333333,
              "#9c179e"
             ],
             [
              0.4444444444444444,
              "#bd3786"
             ],
             [
              0.5555555555555556,
              "#d8576b"
             ],
             [
              0.6666666666666666,
              "#ed7953"
             ],
             [
              0.7777777777777778,
              "#fb9f3a"
             ],
             [
              0.8888888888888888,
              "#fdca26"
             ],
             [
              1,
              "#f0f921"
             ]
            ],
            "type": "histogram2d"
           }
          ],
          "histogram2dcontour": [
           {
            "colorbar": {
             "outlinewidth": 0,
             "ticks": ""
            },
            "colorscale": [
             [
              0,
              "#0d0887"
             ],
             [
              0.1111111111111111,
              "#46039f"
             ],
             [
              0.2222222222222222,
              "#7201a8"
             ],
             [
              0.3333333333333333,
              "#9c179e"
             ],
             [
              0.4444444444444444,
              "#bd3786"
             ],
             [
              0.5555555555555556,
              "#d8576b"
             ],
             [
              0.6666666666666666,
              "#ed7953"
             ],
             [
              0.7777777777777778,
              "#fb9f3a"
             ],
             [
              0.8888888888888888,
              "#fdca26"
             ],
             [
              1,
              "#f0f921"
             ]
            ],
            "type": "histogram2dcontour"
           }
          ],
          "mesh3d": [
           {
            "colorbar": {
             "outlinewidth": 0,
             "ticks": ""
            },
            "type": "mesh3d"
           }
          ],
          "parcoords": [
           {
            "line": {
             "colorbar": {
              "outlinewidth": 0,
              "ticks": ""
             }
            },
            "type": "parcoords"
           }
          ],
          "pie": [
           {
            "automargin": true,
            "type": "pie"
           }
          ],
          "scatter": [
           {
            "fillpattern": {
             "fillmode": "overlay",
             "size": 10,
             "solidity": 0.2
            },
            "type": "scatter"
           }
          ],
          "scatter3d": [
           {
            "line": {
             "colorbar": {
              "outlinewidth": 0,
              "ticks": ""
             }
            },
            "marker": {
             "colorbar": {
              "outlinewidth": 0,
              "ticks": ""
             }
            },
            "type": "scatter3d"
           }
          ],
          "scattercarpet": [
           {
            "marker": {
             "colorbar": {
              "outlinewidth": 0,
              "ticks": ""
             }
            },
            "type": "scattercarpet"
           }
          ],
          "scattergeo": [
           {
            "marker": {
             "colorbar": {
              "outlinewidth": 0,
              "ticks": ""
             }
            },
            "type": "scattergeo"
           }
          ],
          "scattergl": [
           {
            "marker": {
             "colorbar": {
              "outlinewidth": 0,
              "ticks": ""
             }
            },
            "type": "scattergl"
           }
          ],
          "scattermapbox": [
           {
            "marker": {
             "colorbar": {
              "outlinewidth": 0,
              "ticks": ""
             }
            },
            "type": "scattermapbox"
           }
          ],
          "scatterpolar": [
           {
            "marker": {
             "colorbar": {
              "outlinewidth": 0,
              "ticks": ""
             }
            },
            "type": "scatterpolar"
           }
          ],
          "scatterpolargl": [
           {
            "marker": {
             "colorbar": {
              "outlinewidth": 0,
              "ticks": ""
             }
            },
            "type": "scatterpolargl"
           }
          ],
          "scatterternary": [
           {
            "marker": {
             "colorbar": {
              "outlinewidth": 0,
              "ticks": ""
             }
            },
            "type": "scatterternary"
           }
          ],
          "surface": [
           {
            "colorbar": {
             "outlinewidth": 0,
             "ticks": ""
            },
            "colorscale": [
             [
              0,
              "#0d0887"
             ],
             [
              0.1111111111111111,
              "#46039f"
             ],
             [
              0.2222222222222222,
              "#7201a8"
             ],
             [
              0.3333333333333333,
              "#9c179e"
             ],
             [
              0.4444444444444444,
              "#bd3786"
             ],
             [
              0.5555555555555556,
              "#d8576b"
             ],
             [
              0.6666666666666666,
              "#ed7953"
             ],
             [
              0.7777777777777778,
              "#fb9f3a"
             ],
             [
              0.8888888888888888,
              "#fdca26"
             ],
             [
              1,
              "#f0f921"
             ]
            ],
            "type": "surface"
           }
          ],
          "table": [
           {
            "cells": {
             "fill": {
              "color": "#EBF0F8"
             },
             "line": {
              "color": "white"
             }
            },
            "header": {
             "fill": {
              "color": "#C8D4E3"
             },
             "line": {
              "color": "white"
             }
            },
            "type": "table"
           }
          ]
         },
         "layout": {
          "annotationdefaults": {
           "arrowcolor": "#2a3f5f",
           "arrowhead": 0,
           "arrowwidth": 1
          },
          "autotypenumbers": "strict",
          "coloraxis": {
           "colorbar": {
            "outlinewidth": 0,
            "ticks": ""
           }
          },
          "colorscale": {
           "diverging": [
            [
             0,
             "#8e0152"
            ],
            [
             0.1,
             "#c51b7d"
            ],
            [
             0.2,
             "#de77ae"
            ],
            [
             0.3,
             "#f1b6da"
            ],
            [
             0.4,
             "#fde0ef"
            ],
            [
             0.5,
             "#f7f7f7"
            ],
            [
             0.6,
             "#e6f5d0"
            ],
            [
             0.7,
             "#b8e186"
            ],
            [
             0.8,
             "#7fbc41"
            ],
            [
             0.9,
             "#4d9221"
            ],
            [
             1,
             "#276419"
            ]
           ],
           "sequential": [
            [
             0,
             "#0d0887"
            ],
            [
             0.1111111111111111,
             "#46039f"
            ],
            [
             0.2222222222222222,
             "#7201a8"
            ],
            [
             0.3333333333333333,
             "#9c179e"
            ],
            [
             0.4444444444444444,
             "#bd3786"
            ],
            [
             0.5555555555555556,
             "#d8576b"
            ],
            [
             0.6666666666666666,
             "#ed7953"
            ],
            [
             0.7777777777777778,
             "#fb9f3a"
            ],
            [
             0.8888888888888888,
             "#fdca26"
            ],
            [
             1,
             "#f0f921"
            ]
           ],
           "sequentialminus": [
            [
             0,
             "#0d0887"
            ],
            [
             0.1111111111111111,
             "#46039f"
            ],
            [
             0.2222222222222222,
             "#7201a8"
            ],
            [
             0.3333333333333333,
             "#9c179e"
            ],
            [
             0.4444444444444444,
             "#bd3786"
            ],
            [
             0.5555555555555556,
             "#d8576b"
            ],
            [
             0.6666666666666666,
             "#ed7953"
            ],
            [
             0.7777777777777778,
             "#fb9f3a"
            ],
            [
             0.8888888888888888,
             "#fdca26"
            ],
            [
             1,
             "#f0f921"
            ]
           ]
          },
          "colorway": [
           "#636efa",
           "#EF553B",
           "#00cc96",
           "#ab63fa",
           "#FFA15A",
           "#19d3f3",
           "#FF6692",
           "#B6E880",
           "#FF97FF",
           "#FECB52"
          ],
          "font": {
           "color": "#2a3f5f"
          },
          "geo": {
           "bgcolor": "white",
           "lakecolor": "white",
           "landcolor": "#E5ECF6",
           "showlakes": true,
           "showland": true,
           "subunitcolor": "white"
          },
          "hoverlabel": {
           "align": "left"
          },
          "hovermode": "closest",
          "mapbox": {
           "style": "light"
          },
          "paper_bgcolor": "white",
          "plot_bgcolor": "#E5ECF6",
          "polar": {
           "angularaxis": {
            "gridcolor": "white",
            "linecolor": "white",
            "ticks": ""
           },
           "bgcolor": "#E5ECF6",
           "radialaxis": {
            "gridcolor": "white",
            "linecolor": "white",
            "ticks": ""
           }
          },
          "scene": {
           "xaxis": {
            "backgroundcolor": "#E5ECF6",
            "gridcolor": "white",
            "gridwidth": 2,
            "linecolor": "white",
            "showbackground": true,
            "ticks": "",
            "zerolinecolor": "white"
           },
           "yaxis": {
            "backgroundcolor": "#E5ECF6",
            "gridcolor": "white",
            "gridwidth": 2,
            "linecolor": "white",
            "showbackground": true,
            "ticks": "",
            "zerolinecolor": "white"
           },
           "zaxis": {
            "backgroundcolor": "#E5ECF6",
            "gridcolor": "white",
            "gridwidth": 2,
            "linecolor": "white",
            "showbackground": true,
            "ticks": "",
            "zerolinecolor": "white"
           }
          },
          "shapedefaults": {
           "line": {
            "color": "#2a3f5f"
           }
          },
          "ternary": {
           "aaxis": {
            "gridcolor": "white",
            "linecolor": "white",
            "ticks": ""
           },
           "baxis": {
            "gridcolor": "white",
            "linecolor": "white",
            "ticks": ""
           },
           "bgcolor": "#E5ECF6",
           "caxis": {
            "gridcolor": "white",
            "linecolor": "white",
            "ticks": ""
           }
          },
          "title": {
           "x": 0.05
          },
          "xaxis": {
           "automargin": true,
           "gridcolor": "white",
           "linecolor": "white",
           "ticks": "",
           "title": {
            "standoff": 15
           },
           "zerolinecolor": "white",
           "zerolinewidth": 2
          },
          "yaxis": {
           "automargin": true,
           "gridcolor": "white",
           "linecolor": "white",
           "ticks": "",
           "title": {
            "standoff": 15
           },
           "zerolinecolor": "white",
           "zerolinewidth": 2
          }
         }
        },
        "title": {
         "text": "Mission Success"
        },
        "xaxis": {
         "anchor": "y",
         "constrain": "domain",
         "domain": [
          0,
          1
         ],
         "scaleanchor": "y",
         "title": {
          "text": "Multi-Agent HJ Flocking"
         }
        },
        "yaxis": {
         "anchor": "x",
         "autorange": "reversed",
         "constrain": "domain",
         "domain": [
          0,
          1
         ],
         "title": {
          "text": "Multi-Agent HJ Naive"
         }
        }
       }
      },
      "text/html": [
       "<div>                            <div id=\"a3cf8105-0990-4278-834e-0ad472072b59\" class=\"plotly-graph-div\" style=\"height:525px; width:100%;\"></div>            <script type=\"text/javascript\">                require([\"plotly\"], function(Plotly) {                    window.PLOTLYENV=window.PLOTLYENV || {};                                    if (document.getElementById(\"a3cf8105-0990-4278-834e-0ad472072b59\")) {                    Plotly.newPlot(                        \"a3cf8105-0990-4278-834e-0ad472072b59\",                        [{\"coloraxis\":\"coloraxis\",\"name\":\"0\",\"texttemplate\":\"%{z}\",\"x\":[false,true],\"y\":[false,true],\"z\":[[111,312],[2,123]],\"type\":\"heatmap\",\"xaxis\":\"x\",\"yaxis\":\"y\",\"hovertemplate\":\"Multi-Agent HJ Flocking: %{x}<br>Multi-Agent HJ Naive: %{y}<br>color: %{z}<extra></extra>\"}],                        {\"template\":{\"data\":{\"histogram2dcontour\":[{\"type\":\"histogram2dcontour\",\"colorbar\":{\"outlinewidth\":0,\"ticks\":\"\"},\"colorscale\":[[0.0,\"#0d0887\"],[0.1111111111111111,\"#46039f\"],[0.2222222222222222,\"#7201a8\"],[0.3333333333333333,\"#9c179e\"],[0.4444444444444444,\"#bd3786\"],[0.5555555555555556,\"#d8576b\"],[0.6666666666666666,\"#ed7953\"],[0.7777777777777778,\"#fb9f3a\"],[0.8888888888888888,\"#fdca26\"],[1.0,\"#f0f921\"]]}],\"choropleth\":[{\"type\":\"choropleth\",\"colorbar\":{\"outlinewidth\":0,\"ticks\":\"\"}}],\"histogram2d\":[{\"type\":\"histogram2d\",\"colorbar\":{\"outlinewidth\":0,\"ticks\":\"\"},\"colorscale\":[[0.0,\"#0d0887\"],[0.1111111111111111,\"#46039f\"],[0.2222222222222222,\"#7201a8\"],[0.3333333333333333,\"#9c179e\"],[0.4444444444444444,\"#bd3786\"],[0.5555555555555556,\"#d8576b\"],[0.6666666666666666,\"#ed7953\"],[0.7777777777777778,\"#fb9f3a\"],[0.8888888888888888,\"#fdca26\"],[1.0,\"#f0f921\"]]}],\"heatmap\":[{\"type\":\"heatmap\",\"colorbar\":{\"outlinewidth\":0,\"ticks\":\"\"},\"colorscale\":[[0.0,\"#0d0887\"],[0.1111111111111111,\"#46039f\"],[0.2222222222222222,\"#7201a8\"],[0.3333333333333333,\"#9c179e\"],[0.4444444444444444,\"#bd3786\"],[0.5555555555555556,\"#d8576b\"],[0.6666666666666666,\"#ed7953\"],[0.7777777777777778,\"#fb9f3a\"],[0.8888888888888888,\"#fdca26\"],[1.0,\"#f0f921\"]]}],\"heatmapgl\":[{\"type\":\"heatmapgl\",\"colorbar\":{\"outlinewidth\":0,\"ticks\":\"\"},\"colorscale\":[[0.0,\"#0d0887\"],[0.1111111111111111,\"#46039f\"],[0.2222222222222222,\"#7201a8\"],[0.3333333333333333,\"#9c179e\"],[0.4444444444444444,\"#bd3786\"],[0.5555555555555556,\"#d8576b\"],[0.6666666666666666,\"#ed7953\"],[0.7777777777777778,\"#fb9f3a\"],[0.8888888888888888,\"#fdca26\"],[1.0,\"#f0f921\"]]}],\"contourcarpet\":[{\"type\":\"contourcarpet\",\"colorbar\":{\"outlinewidth\":0,\"ticks\":\"\"}}],\"contour\":[{\"type\":\"contour\",\"colorbar\":{\"outlinewidth\":0,\"ticks\":\"\"},\"colorscale\":[[0.0,\"#0d0887\"],[0.1111111111111111,\"#46039f\"],[0.2222222222222222,\"#7201a8\"],[0.3333333333333333,\"#9c179e\"],[0.4444444444444444,\"#bd3786\"],[0.5555555555555556,\"#d8576b\"],[0.6666666666666666,\"#ed7953\"],[0.7777777777777778,\"#fb9f3a\"],[0.8888888888888888,\"#fdca26\"],[1.0,\"#f0f921\"]]}],\"surface\":[{\"type\":\"surface\",\"colorbar\":{\"outlinewidth\":0,\"ticks\":\"\"},\"colorscale\":[[0.0,\"#0d0887\"],[0.1111111111111111,\"#46039f\"],[0.2222222222222222,\"#7201a8\"],[0.3333333333333333,\"#9c179e\"],[0.4444444444444444,\"#bd3786\"],[0.5555555555555556,\"#d8576b\"],[0.6666666666666666,\"#ed7953\"],[0.7777777777777778,\"#fb9f3a\"],[0.8888888888888888,\"#fdca26\"],[1.0,\"#f0f921\"]]}],\"mesh3d\":[{\"type\":\"mesh3d\",\"colorbar\":{\"outlinewidth\":0,\"ticks\":\"\"}}],\"scatter\":[{\"fillpattern\":{\"fillmode\":\"overlay\",\"size\":10,\"solidity\":0.2},\"type\":\"scatter\"}],\"parcoords\":[{\"type\":\"parcoords\",\"line\":{\"colorbar\":{\"outlinewidth\":0,\"ticks\":\"\"}}}],\"scatterpolargl\":[{\"type\":\"scatterpolargl\",\"marker\":{\"colorbar\":{\"outlinewidth\":0,\"ticks\":\"\"}}}],\"bar\":[{\"error_x\":{\"color\":\"#2a3f5f\"},\"error_y\":{\"color\":\"#2a3f5f\"},\"marker\":{\"line\":{\"color\":\"#E5ECF6\",\"width\":0.5},\"pattern\":{\"fillmode\":\"overlay\",\"size\":10,\"solidity\":0.2}},\"type\":\"bar\"}],\"scattergeo\":[{\"type\":\"scattergeo\",\"marker\":{\"colorbar\":{\"outlinewidth\":0,\"ticks\":\"\"}}}],\"scatterpolar\":[{\"type\":\"scatterpolar\",\"marker\":{\"colorbar\":{\"outlinewidth\":0,\"ticks\":\"\"}}}],\"histogram\":[{\"marker\":{\"pattern\":{\"fillmode\":\"overlay\",\"size\":10,\"solidity\":0.2}},\"type\":\"histogram\"}],\"scattergl\":[{\"type\":\"scattergl\",\"marker\":{\"colorbar\":{\"outlinewidth\":0,\"ticks\":\"\"}}}],\"scatter3d\":[{\"type\":\"scatter3d\",\"line\":{\"colorbar\":{\"outlinewidth\":0,\"ticks\":\"\"}},\"marker\":{\"colorbar\":{\"outlinewidth\":0,\"ticks\":\"\"}}}],\"scattermapbox\":[{\"type\":\"scattermapbox\",\"marker\":{\"colorbar\":{\"outlinewidth\":0,\"ticks\":\"\"}}}],\"scatterternary\":[{\"type\":\"scatterternary\",\"marker\":{\"colorbar\":{\"outlinewidth\":0,\"ticks\":\"\"}}}],\"scattercarpet\":[{\"type\":\"scattercarpet\",\"marker\":{\"colorbar\":{\"outlinewidth\":0,\"ticks\":\"\"}}}],\"carpet\":[{\"aaxis\":{\"endlinecolor\":\"#2a3f5f\",\"gridcolor\":\"white\",\"linecolor\":\"white\",\"minorgridcolor\":\"white\",\"startlinecolor\":\"#2a3f5f\"},\"baxis\":{\"endlinecolor\":\"#2a3f5f\",\"gridcolor\":\"white\",\"linecolor\":\"white\",\"minorgridcolor\":\"white\",\"startlinecolor\":\"#2a3f5f\"},\"type\":\"carpet\"}],\"table\":[{\"cells\":{\"fill\":{\"color\":\"#EBF0F8\"},\"line\":{\"color\":\"white\"}},\"header\":{\"fill\":{\"color\":\"#C8D4E3\"},\"line\":{\"color\":\"white\"}},\"type\":\"table\"}],\"barpolar\":[{\"marker\":{\"line\":{\"color\":\"#E5ECF6\",\"width\":0.5},\"pattern\":{\"fillmode\":\"overlay\",\"size\":10,\"solidity\":0.2}},\"type\":\"barpolar\"}],\"pie\":[{\"automargin\":true,\"type\":\"pie\"}]},\"layout\":{\"autotypenumbers\":\"strict\",\"colorway\":[\"#636efa\",\"#EF553B\",\"#00cc96\",\"#ab63fa\",\"#FFA15A\",\"#19d3f3\",\"#FF6692\",\"#B6E880\",\"#FF97FF\",\"#FECB52\"],\"font\":{\"color\":\"#2a3f5f\"},\"hovermode\":\"closest\",\"hoverlabel\":{\"align\":\"left\"},\"paper_bgcolor\":\"white\",\"plot_bgcolor\":\"#E5ECF6\",\"polar\":{\"bgcolor\":\"#E5ECF6\",\"angularaxis\":{\"gridcolor\":\"white\",\"linecolor\":\"white\",\"ticks\":\"\"},\"radialaxis\":{\"gridcolor\":\"white\",\"linecolor\":\"white\",\"ticks\":\"\"}},\"ternary\":{\"bgcolor\":\"#E5ECF6\",\"aaxis\":{\"gridcolor\":\"white\",\"linecolor\":\"white\",\"ticks\":\"\"},\"baxis\":{\"gridcolor\":\"white\",\"linecolor\":\"white\",\"ticks\":\"\"},\"caxis\":{\"gridcolor\":\"white\",\"linecolor\":\"white\",\"ticks\":\"\"}},\"coloraxis\":{\"colorbar\":{\"outlinewidth\":0,\"ticks\":\"\"}},\"colorscale\":{\"sequential\":[[0.0,\"#0d0887\"],[0.1111111111111111,\"#46039f\"],[0.2222222222222222,\"#7201a8\"],[0.3333333333333333,\"#9c179e\"],[0.4444444444444444,\"#bd3786\"],[0.5555555555555556,\"#d8576b\"],[0.6666666666666666,\"#ed7953\"],[0.7777777777777778,\"#fb9f3a\"],[0.8888888888888888,\"#fdca26\"],[1.0,\"#f0f921\"]],\"sequentialminus\":[[0.0,\"#0d0887\"],[0.1111111111111111,\"#46039f\"],[0.2222222222222222,\"#7201a8\"],[0.3333333333333333,\"#9c179e\"],[0.4444444444444444,\"#bd3786\"],[0.5555555555555556,\"#d8576b\"],[0.6666666666666666,\"#ed7953\"],[0.7777777777777778,\"#fb9f3a\"],[0.8888888888888888,\"#fdca26\"],[1.0,\"#f0f921\"]],\"diverging\":[[0,\"#8e0152\"],[0.1,\"#c51b7d\"],[0.2,\"#de77ae\"],[0.3,\"#f1b6da\"],[0.4,\"#fde0ef\"],[0.5,\"#f7f7f7\"],[0.6,\"#e6f5d0\"],[0.7,\"#b8e186\"],[0.8,\"#7fbc41\"],[0.9,\"#4d9221\"],[1,\"#276419\"]]},\"xaxis\":{\"gridcolor\":\"white\",\"linecolor\":\"white\",\"ticks\":\"\",\"title\":{\"standoff\":15},\"zerolinecolor\":\"white\",\"automargin\":true,\"zerolinewidth\":2},\"yaxis\":{\"gridcolor\":\"white\",\"linecolor\":\"white\",\"ticks\":\"\",\"title\":{\"standoff\":15},\"zerolinecolor\":\"white\",\"automargin\":true,\"zerolinewidth\":2},\"scene\":{\"xaxis\":{\"backgroundcolor\":\"#E5ECF6\",\"gridcolor\":\"white\",\"linecolor\":\"white\",\"showbackground\":true,\"ticks\":\"\",\"zerolinecolor\":\"white\",\"gridwidth\":2},\"yaxis\":{\"backgroundcolor\":\"#E5ECF6\",\"gridcolor\":\"white\",\"linecolor\":\"white\",\"showbackground\":true,\"ticks\":\"\",\"zerolinecolor\":\"white\",\"gridwidth\":2},\"zaxis\":{\"backgroundcolor\":\"#E5ECF6\",\"gridcolor\":\"white\",\"linecolor\":\"white\",\"showbackground\":true,\"ticks\":\"\",\"zerolinecolor\":\"white\",\"gridwidth\":2}},\"shapedefaults\":{\"line\":{\"color\":\"#2a3f5f\"}},\"annotationdefaults\":{\"arrowcolor\":\"#2a3f5f\",\"arrowhead\":0,\"arrowwidth\":1},\"geo\":{\"bgcolor\":\"white\",\"landcolor\":\"#E5ECF6\",\"subunitcolor\":\"white\",\"showland\":true,\"showlakes\":true,\"lakecolor\":\"white\"},\"title\":{\"x\":0.05},\"mapbox\":{\"style\":\"light\"}}},\"xaxis\":{\"anchor\":\"y\",\"domain\":[0.0,1.0],\"scaleanchor\":\"y\",\"constrain\":\"domain\",\"title\":{\"text\":\"Multi-Agent HJ Flocking\"}},\"yaxis\":{\"anchor\":\"x\",\"domain\":[0.0,1.0],\"autorange\":\"reversed\",\"constrain\":\"domain\",\"title\":{\"text\":\"Multi-Agent HJ Naive\"}},\"coloraxis\":{\"colorscale\":[[0.0,\"#0d0887\"],[0.1111111111111111,\"#46039f\"],[0.2222222222222222,\"#7201a8\"],[0.3333333333333333,\"#9c179e\"],[0.4444444444444444,\"#bd3786\"],[0.5555555555555556,\"#d8576b\"],[0.6666666666666666,\"#ed7953\"],[0.7777777777777778,\"#fb9f3a\"],[0.8888888888888888,\"#fdca26\"],[1.0,\"#f0f921\"]]},\"margin\":{\"t\":60},\"title\":{\"text\":\"Mission Success\"}},                        {\"responsive\": true}                    ).then(function(){\n",
       "                            \n",
       "var gd = document.getElementById('a3cf8105-0990-4278-834e-0ad472072b59');\n",
       "var x = new MutationObserver(function (mutations, observer) {{\n",
       "        var display = window.getComputedStyle(gd).display;\n",
       "        if (!display || display === 'none') {{\n",
       "            console.log([gd, 'removed!']);\n",
       "            Plotly.purge(gd);\n",
       "            observer.disconnect();\n",
       "        }}\n",
       "}});\n",
       "\n",
       "// Listen for the removal of the full notebook cells\n",
       "var notebookContainer = gd.closest('#notebook-container');\n",
       "if (notebookContainer) {{\n",
       "    x.observe(notebookContainer, {childList: true});\n",
       "}}\n",
       "\n",
       "// Listen for the clearing of the current output cell\n",
       "var outputEl = gd.closest('.output');\n",
       "if (outputEl) {{\n",
       "    x.observe(outputEl, {childList: true});\n",
       "}}\n",
       "\n",
       "                        })                };                });            </script>        </div>"
      ]
     },
     "metadata": {},
     "output_type": "display_data"
    }
   ],
   "source": [
    "fig_flocking_success = plot_confusion_matrix(metrics_hj_naive[\"Mission_success\"]==1, \n",
    "                        metrics_hj_flocking[\"Mission_success\"]==1, 'Multi-Agent HJ Naive', \n",
    "                        'Multi-Agent HJ Flocking', title_name=\"Mission Success\")"
   ]
  },
  {
   "attachments": {},
   "cell_type": "markdown",
   "metadata": {},
   "source": [
    "## Log Data in WandB"
   ]
  },
  {
   "cell_type": "code",
   "execution_count": 32,
   "metadata": {},
   "outputs": [],
   "source": [
    "import wandb"
   ]
  },
  {
   "cell_type": "code",
   "execution_count": 33,
   "metadata": {},
   "outputs": [
    {
     "name": "stderr",
     "output_type": "stream",
     "text": [
      "ERROR:wandb.jupyter:Failed to detect the name of this notebook, you can set it manually with the WANDB_NOTEBOOK_NAME environment variable to enable code saving.\n",
      "\u001b[34m\u001b[1mwandb\u001b[0m: Currently logged in as: \u001b[33mnhoischen\u001b[0m. Use \u001b[1m`wandb login --relogin`\u001b[0m to force relogin\n"
     ]
    },
    {
     "data": {
      "text/html": [
       "wandb version 0.13.10 is available!  To upgrade, please run:\n",
       " $ pip install wandb --upgrade"
      ],
      "text/plain": [
       "<IPython.core.display.HTML object>"
      ]
     },
     "metadata": {},
     "output_type": "display_data"
    },
    {
     "data": {
      "text/html": [
       "Tracking run with wandb version 0.13.7"
      ],
      "text/plain": [
       "<IPython.core.display.HTML object>"
      ]
     },
     "metadata": {},
     "output_type": "display_data"
    },
    {
     "data": {
      "text/html": [
       "Run data is saved locally in <code>/home/nicolas/documents/Master_Thesis_repo/OceanPlatformControl/wandb/run-20230228_164908-u0fmvmpd</code>"
      ],
      "text/plain": [
       "<IPython.core.display.HTML object>"
      ]
     },
     "metadata": {},
     "output_type": "display_data"
    },
    {
     "data": {
      "text/html": [
       "Syncing run <strong><a href=\"https://wandb.ai/nhoischen/Master_Thesis_Run_summaries/runs/u0fmvmpd\" target=\"_blank\">HC_HC_GOM_4_platforms</a></strong> to <a href=\"https://wandb.ai/nhoischen/Master_Thesis_Run_summaries\" target=\"_blank\">Weights & Biases</a> (<a href=\"https://wandb.me/run\" target=\"_blank\">docs</a>)<br/>"
      ],
      "text/plain": [
       "<IPython.core.display.HTML object>"
      ]
     },
     "metadata": {},
     "output_type": "display_data"
    },
    {
     "data": {
      "text/html": [
       "Waiting for W&B process to finish... <strong style=\"color:green\">(success).</strong>"
      ],
      "text/plain": [
       "<IPython.core.display.HTML object>"
      ]
     },
     "metadata": {},
     "output_type": "display_data"
    },
    {
     "data": {
      "text/html": [
       "Synced <strong style=\"color:#cdcd00\">HC_HC_GOM_4_platforms</strong>: <a href=\"https://wandb.ai/nhoischen/Master_Thesis_Run_summaries/runs/u0fmvmpd\" target=\"_blank\">https://wandb.ai/nhoischen/Master_Thesis_Run_summaries/runs/u0fmvmpd</a><br/>Synced 5 W&B file(s), 13 media file(s), 1 artifact file(s) and 0 other file(s)"
      ],
      "text/plain": [
       "<IPython.core.display.HTML object>"
      ]
     },
     "metadata": {},
     "output_type": "display_data"
    },
    {
     "data": {
      "text/html": [
       "Find logs at: <code>./wandb/run-20230228_164908-u0fmvmpd/logs</code>"
      ],
      "text/plain": [
       "<IPython.core.display.HTML object>"
      ]
     },
     "metadata": {},
     "output_type": "display_data"
    }
   ],
   "source": [
    "# Log metrics in WandB\n",
    "os.environ[\"WANDB_API_KEY\"] = \"1f19232e6ccc9981a8a972bee18ba31a94644835\"\n",
    "\n",
    "wandb.init(\n",
    "    # Set the project where this run will be logged\n",
    "    project=\"Master_Thesis_Run_Summaries\",\n",
    "    # We pass a run name (otherwise it’ll be randomly assigned, like sunshine-lollypop-10)\n",
    "    name=f\"HC_FC_GOM_4_platforms\",\n",
    "    # Track hyperparameters and run metadata\n",
    "    config={\n",
    "        \"Number of infeasible missions\": len(non_feas_idx),\n",
    "        \"Percentage of infeasible missions\": ratio_non_feas_miss,\n",
    "        \"Number of missions feasible\": len(metrics_hj_naive),\n",
    "        \"Ratio failing missions with HJ naive in terms of connectivity and collisions\": \n",
    "        len(metrics_hj_naive.index[(connect_objective_hj_naive==False)].tolist())/len(metrics_hj_naive),\n",
    "    },\n",
    "    entity=\"nhoischen\",\n",
    ")\n",
    "wandb.log({\"Metrics_Summary\": wandb.Table(dataframe=pd.concat([summary_hj_naive_df, summary_hj_naive_reactive, summary_hj_naive_flocking]))},\n",
    "            commit=False)\n",
    "wandb.log({'Beta Index': fig_beta,\n",
    "          'Time-Integral-over-Isolated-Platforms': fig_ipm,\n",
    "          'Platforms-Mean-Min-Distance-to-Target': fig_min_dist,\n",
    "           'Deviation-from-Cptimal-Ctrl-Direction': fig_opt_ctrl_correction,\n",
    "            },\n",
    "           commit=False)\n",
    "wandb.log({'Missions with collisions hj-reactive': fig_conf_react_coll,\n",
    "         'Missions with collisions hj-flocking': fig_conf_flocking_coll,\n",
    "         'Missions with communication losses hj-reactive': fig_conf_react_comm_loss,\n",
    "         'Missions with communication losses hj-flocking': fig_conf_flocking_comm_loss,\n",
    "         'Missions with maintained connectivity and no collisions hj-reactive': fig_react_maint,\n",
    "         'Missions with maintained connectivity and no collisions hj-flocking': fig_flocking_maint,\n",
    "         'Succesfull Missions hj-reactive': fig_react_success,\n",
    "         'Succesfull Missions hj-flocking': fig_flocking_success}, commit=True)\n",
    "wandb.finish()"
   ]
  },
  {
   "cell_type": "code",
   "execution_count": null,
   "metadata": {},
   "outputs": [],
   "source": []
  }
 ],
 "metadata": {
  "kernelspec": {
   "display_name": "ocean_minimal",
   "language": "python",
   "name": "python3"
  },
  "language_info": {
   "codemirror_mode": {
    "name": "ipython",
    "version": 3
   },
   "file_extension": ".py",
   "mimetype": "text/x-python",
   "name": "python",
   "nbconvert_exporter": "python",
   "pygments_lexer": "ipython3",
   "version": "3.9.13"
  },
  "orig_nbformat": 4,
  "vscode": {
   "interpreter": {
    "hash": "9ed4b5c9df27747f3a2313a7b45e2dcb31384957b3c889e68300f490f3475319"
   }
  }
 },
 "nbformat": 4,
 "nbformat_minor": 2
}
