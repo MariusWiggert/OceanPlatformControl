{
 "cells": [
  {
   "cell_type": "code",
   "execution_count": 1,
   "metadata": {},
   "outputs": [],
   "source": [
    "import datetime\n",
    "import logging\n",
    "import os\n",
    "import numpy as np\n",
    "from ocean_navigation_simulator.reinforcement_learning.runners.GenerationRunner import (\n",
    "    GenerationRunner,\n",
    ")\n",
    "import matplotlib.pyplot as plt\n",
    "## Only when developing with VSCode in my repo \n",
    "#os.chdir('/home/nicolas/codeRepo/OceanPlatformControl') # here in Azure\n",
    "# os.chdir('/home/nicolas/documents/Master_Thesis_repo/OceanPlatformControl') # here in WSL\n",
    "# print(os.getcwd())\n",
    "##\n",
    "import pandas as pd\n",
    "from ocean_navigation_simulator.utils.units import Distance\n",
    "# These lines in VSCode to avoid reloading the kernel when changes are made to the external kernel\n",
    "%load_ext autoreload\n",
    "%autoreload 2"
   ]
  },
  {
   "attachments": {},
   "cell_type": "markdown",
   "metadata": {},
   "source": [
    "### Define Filenames"
   ]
  },
  {
   "cell_type": "code",
   "execution_count": 2,
   "metadata": {},
   "outputs": [],
   "source": [
    "path_to_files = 'generated_media/metrics_csv_results/'\n",
    "#file_containing_pb = 'problemsGOM.csv'\n",
    "pb_name_hj_naive = 'multi_ag_4_HC_HC_hj_naive_549.csv'\n",
    "pb_name_reactive = 'multi_ag_4_HC_HC_reactive_control_548.csv'\n",
    "pb_name_flocking = 'multi_ag_4_HC_HC_flocking_548.csv'"
   ]
  },
  {
   "attachments": {},
   "cell_type": "markdown",
   "metadata": {},
   "source": [
    "### Plot problem distribution"
   ]
  },
  {
   "cell_type": "code",
   "execution_count": 3,
   "metadata": {},
   "outputs": [],
   "source": [
    "# TODO"
   ]
  },
  {
   "attachments": {},
   "cell_type": "markdown",
   "metadata": {},
   "source": [
    "### Extract metrics from csv files"
   ]
  },
  {
   "cell_type": "code",
   "execution_count": 3,
   "metadata": {},
   "outputs": [],
   "source": [
    "metrics_hj_naive_unfiltered = pd.read_csv(f\"{path_to_files}/{pb_name_hj_naive}\")\n",
    "metrics_hj_reactive_unfiltered = pd.read_csv(f\"{path_to_files}/{pb_name_reactive}\")\n",
    "metrics_hj_flocking_unfiltered = pd.read_csv(f\"{path_to_files}/{pb_name_flocking}\")"
   ]
  },
  {
   "attachments": {},
   "cell_type": "markdown",
   "metadata": {},
   "source": [
    "+ Make sure we have the (same) indices and total number of missions for the panda dataframes"
   ]
  },
  {
   "cell_type": "code",
   "execution_count": 4,
   "metadata": {},
   "outputs": [],
   "source": [
    "# Find the common mission_nr values\n",
    "common_mission_nr = set(metrics_hj_naive_unfiltered['mission_nr']).intersection(set(metrics_hj_reactive_unfiltered['mission_nr'])).intersection(set(metrics_hj_flocking_unfiltered['mission_nr']))\n",
    "# Filter the rows in each dataframe that have matching mission_nr values\n",
    "metrics_hj_naive = metrics_hj_naive_unfiltered[metrics_hj_naive_unfiltered['mission_nr'].isin(common_mission_nr)]\n",
    "metrics_hj_reactive = metrics_hj_reactive_unfiltered[metrics_hj_reactive_unfiltered['mission_nr'].isin(common_mission_nr)]\n",
    "metrics_hj_flocking = metrics_hj_flocking_unfiltered[metrics_hj_flocking_unfiltered['mission_nr'].isin(common_mission_nr)]"
   ]
  },
  {
   "attachments": {},
   "cell_type": "markdown",
   "metadata": {},
   "source": [
    "+ Sort by ascending missions nr order"
   ]
  },
  {
   "cell_type": "code",
   "execution_count": 5,
   "metadata": {},
   "outputs": [],
   "source": [
    "metrics_hj_naive = metrics_hj_naive.sort_values(['mission_nr'])\n",
    "metrics_hj_reactive= metrics_hj_reactive.sort_values(['mission_nr'])\n",
    "metrics_hj_flocking = metrics_hj_flocking.sort_values(['mission_nr'])"
   ]
  },
  {
   "attachments": {},
   "cell_type": "markdown",
   "metadata": {},
   "source": [
    "+ Index by mission nr to get the same order in the panda dataframe between controller metrics"
   ]
  },
  {
   "cell_type": "code",
   "execution_count": 6,
   "metadata": {},
   "outputs": [],
   "source": [
    "metrics_hj_naive.set_index('mission_nr', inplace=True)\n",
    "metrics_hj_reactive.set_index('mission_nr', inplace=True)\n",
    "metrics_hj_flocking.set_index('mission_nr', inplace=True)"
   ]
  },
  {
   "attachments": {},
   "cell_type": "markdown",
   "metadata": {},
   "source": [
    "+ Get Non Feasible Missions "
   ]
  },
  {
   "cell_type": "code",
   "execution_count": 7,
   "metadata": {},
   "outputs": [
    {
     "name": "stdout",
     "output_type": "stream",
     "text": [
      "Number of infeasible missions:  43 corresponds to 7.846715328467154 %\n"
     ]
    }
   ],
   "source": [
    "non_feas_idx = metrics_hj_naive.index[metrics_hj_naive[\"Reaching_target\"] < 1]\n",
    "ratio_non_feas_miss = len(non_feas_idx)/len(metrics_hj_naive)*100\n",
    "print(\"Number of infeasible missions: \", len(non_feas_idx), f\"corresponds to {ratio_non_feas_miss} %\")"
   ]
  },
  {
   "attachments": {},
   "cell_type": "markdown",
   "metadata": {},
   "source": [
    "+ Drop infeasible missions on HC"
   ]
  },
  {
   "cell_type": "code",
   "execution_count": 8,
   "metadata": {},
   "outputs": [],
   "source": [
    "# metrics_hj_naive.drop(non_feas_idx, axis=0, inplace=True)\n",
    "# metrics_hj_reactive.drop(non_feas_idx, axis=0, inplace=True)\n",
    "# metrics_hj_flocking.drop(non_feas_idx, axis=0, inplace=True)"
   ]
  },
  {
   "cell_type": "code",
   "execution_count": 13,
   "metadata": {},
   "outputs": [],
   "source": [
    "import plotly.express as px\n",
    "import plotly.graph_objects as go"
   ]
  },
  {
   "attachments": {},
   "cell_type": "markdown",
   "metadata": {},
   "source": [
    "## Box Plots"
   ]
  },
  {
   "cell_type": "code",
   "execution_count": 16,
   "metadata": {},
   "outputs": [
    {
     "data": {
      "text/html": [
       "        <script type=\"text/javascript\">\n",
       "        window.PlotlyConfig = {MathJaxConfig: 'local'};\n",
       "        if (window.MathJax && window.MathJax.Hub && window.MathJax.Hub.Config) {window.MathJax.Hub.Config({SVG: {font: \"STIX-Web\"}});}\n",
       "        if (typeof require !== 'undefined') {\n",
       "        require.undef(\"plotly\");\n",
       "        requirejs.config({\n",
       "            paths: {\n",
       "                'plotly': ['https://cdn.plot.ly/plotly-2.18.0.min']\n",
       "            }\n",
       "        });\n",
       "        require(['plotly'], function(Plotly) {\n",
       "            window._Plotly = Plotly;\n",
       "        });\n",
       "        }\n",
       "        </script>\n",
       "        "
      ]
     },
     "metadata": {},
     "output_type": "display_data"
    }
   ],
   "source": [
    "from plotly.offline import  init_notebook_mode\n",
    "init_notebook_mode(connected=True)"
   ]
  },
  {
   "attachments": {},
   "cell_type": "markdown",
   "metadata": {},
   "source": [
    "+ Beta Index"
   ]
  },
  {
   "cell_type": "code",
   "execution_count": 11,
   "metadata": {},
   "outputs": [
    {
     "data": {
      "application/vnd.plotly.v1+json": {
       "config": {
        "plotlyServerURL": "https://plot.ly"
       },
       "data": [
        {
         "alignmentgroup": "True",
         "hovertemplate": "variable=%{x}<br>value=%{y}<extra></extra>",
         "legendgroup": "",
         "marker": {
          "color": "#636efa"
         },
         "name": "",
         "notched": false,
         "offsetgroup": "",
         "orientation": "v",
         "showlegend": false,
         "type": "box",
         "x": [
          "hj_naive",
          "hj_naive",
          "hj_naive",
          "hj_naive",
          "hj_naive",
          "hj_naive",
          "hj_naive",
          "hj_naive",
          "hj_naive",
          "hj_naive",
          "hj_naive",
          "hj_naive",
          "hj_naive",
          "hj_naive",
          "hj_naive",
          "hj_naive",
          "hj_naive",
          "hj_naive",
          "hj_naive",
          "hj_naive",
          "hj_naive",
          "hj_naive",
          "hj_naive",
          "hj_naive",
          "hj_naive",
          "hj_naive",
          "hj_naive",
          "hj_naive",
          "hj_naive",
          "hj_naive",
          "hj_naive",
          "hj_naive",
          "hj_naive",
          "hj_naive",
          "hj_naive",
          "hj_naive",
          "hj_naive",
          "hj_naive",
          "hj_naive",
          "hj_naive",
          "hj_naive",
          "hj_naive",
          "hj_naive",
          "hj_naive",
          "hj_naive",
          "hj_naive",
          "hj_naive",
          "hj_naive",
          "hj_naive",
          "hj_naive",
          "hj_naive",
          "hj_naive",
          "hj_naive",
          "hj_naive",
          "hj_naive",
          "hj_naive",
          "hj_naive",
          "hj_naive",
          "hj_naive",
          "hj_naive",
          "hj_naive",
          "hj_naive",
          "hj_naive",
          "hj_naive",
          "hj_naive",
          "hj_naive",
          "hj_naive",
          "hj_naive",
          "hj_naive",
          "hj_naive",
          "hj_naive",
          "hj_naive",
          "hj_naive",
          "hj_naive",
          "hj_naive",
          "hj_naive",
          "hj_naive",
          "hj_naive",
          "hj_naive",
          "hj_naive",
          "hj_naive",
          "hj_naive",
          "hj_naive",
          "hj_naive",
          "hj_naive",
          "hj_naive",
          "hj_naive",
          "hj_naive",
          "hj_naive",
          "hj_naive",
          "hj_naive",
          "hj_naive",
          "hj_naive",
          "hj_naive",
          "hj_naive",
          "hj_naive",
          "hj_naive",
          "hj_naive",
          "hj_naive",
          "hj_naive",
          "hj_naive",
          "hj_naive",
          "hj_naive",
          "hj_naive",
          "hj_naive",
          "hj_naive",
          "hj_naive",
          "hj_naive",
          "hj_naive",
          "hj_naive",
          "hj_naive",
          "hj_naive",
          "hj_naive",
          "hj_naive",
          "hj_naive",
          "hj_naive",
          "hj_naive",
          "hj_naive",
          "hj_naive",
          "hj_naive",
          "hj_naive",
          "hj_naive",
          "hj_naive",
          "hj_naive",
          "hj_naive",
          "hj_naive",
          "hj_naive",
          "hj_naive",
          "hj_naive",
          "hj_naive",
          "hj_naive",
          "hj_naive",
          "hj_naive",
          "hj_naive",
          "hj_naive",
          "hj_naive",
          "hj_naive",
          "hj_naive",
          "hj_naive",
          "hj_naive",
          "hj_naive",
          "hj_naive",
          "hj_naive",
          "hj_naive",
          "hj_naive",
          "hj_naive",
          "hj_naive",
          "hj_naive",
          "hj_naive",
          "hj_naive",
          "hj_naive",
          "hj_naive",
          "hj_naive",
          "hj_naive",
          "hj_naive",
          "hj_naive",
          "hj_naive",
          "hj_naive",
          "hj_naive",
          "hj_naive",
          "hj_naive",
          "hj_naive",
          "hj_naive",
          "hj_naive",
          "hj_naive",
          "hj_naive",
          "hj_naive",
          "hj_naive",
          "hj_naive",
          "hj_naive",
          "hj_naive",
          "hj_naive",
          "hj_naive",
          "hj_naive",
          "hj_naive",
          "hj_naive",
          "hj_naive",
          "hj_naive",
          "hj_naive",
          "hj_naive",
          "hj_naive",
          "hj_naive",
          "hj_naive",
          "hj_naive",
          "hj_naive",
          "hj_naive",
          "hj_naive",
          "hj_naive",
          "hj_naive",
          "hj_naive",
          "hj_naive",
          "hj_naive",
          "hj_naive",
          "hj_naive",
          "hj_naive",
          "hj_naive",
          "hj_naive",
          "hj_naive",
          "hj_naive",
          "hj_naive",
          "hj_naive",
          "hj_naive",
          "hj_naive",
          "hj_naive",
          "hj_naive",
          "hj_naive",
          "hj_naive",
          "hj_naive",
          "hj_naive",
          "hj_naive",
          "hj_naive",
          "hj_naive",
          "hj_naive",
          "hj_naive",
          "hj_naive",
          "hj_naive",
          "hj_naive",
          "hj_naive",
          "hj_naive",
          "hj_naive",
          "hj_naive",
          "hj_naive",
          "hj_naive",
          "hj_naive",
          "hj_naive",
          "hj_naive",
          "hj_naive",
          "hj_naive",
          "hj_naive",
          "hj_naive",
          "hj_naive",
          "hj_naive",
          "hj_naive",
          "hj_naive",
          "hj_naive",
          "hj_naive",
          "hj_naive",
          "hj_naive",
          "hj_naive",
          "hj_naive",
          "hj_naive",
          "hj_naive",
          "hj_naive",
          "hj_naive",
          "hj_naive",
          "hj_naive",
          "hj_naive",
          "hj_naive",
          "hj_naive",
          "hj_naive",
          "hj_naive",
          "hj_naive",
          "hj_naive",
          "hj_naive",
          "hj_naive",
          "hj_naive",
          "hj_naive",
          "hj_naive",
          "hj_naive",
          "hj_naive",
          "hj_naive",
          "hj_naive",
          "hj_naive",
          "hj_naive",
          "hj_naive",
          "hj_naive",
          "hj_naive",
          "hj_naive",
          "hj_naive",
          "hj_naive",
          "hj_naive",
          "hj_naive",
          "hj_naive",
          "hj_naive",
          "hj_naive",
          "hj_naive",
          "hj_naive",
          "hj_naive",
          "hj_naive",
          "hj_naive",
          "hj_naive",
          "hj_naive",
          "hj_naive",
          "hj_naive",
          "hj_naive",
          "hj_naive",
          "hj_naive",
          "hj_naive",
          "hj_naive",
          "hj_naive",
          "hj_naive",
          "hj_naive",
          "hj_naive",
          "hj_naive",
          "hj_naive",
          "hj_naive",
          "hj_naive",
          "hj_naive",
          "hj_naive",
          "hj_naive",
          "hj_naive",
          "hj_naive",
          "hj_naive",
          "hj_naive",
          "hj_naive",
          "hj_naive",
          "hj_naive",
          "hj_naive",
          "hj_naive",
          "hj_naive",
          "hj_naive",
          "hj_naive",
          "hj_naive",
          "hj_naive",
          "hj_naive",
          "hj_naive",
          "hj_naive",
          "hj_naive",
          "hj_naive",
          "hj_naive",
          "hj_naive",
          "hj_naive",
          "hj_naive",
          "hj_naive",
          "hj_naive",
          "hj_naive",
          "hj_naive",
          "hj_naive",
          "hj_naive",
          "hj_naive",
          "hj_naive",
          "hj_naive",
          "hj_naive",
          "hj_naive",
          "hj_naive",
          "hj_naive",
          "hj_naive",
          "hj_naive",
          "hj_naive",
          "hj_naive",
          "hj_naive",
          "hj_naive",
          "hj_naive",
          "hj_naive",
          "hj_naive",
          "hj_naive",
          "hj_naive",
          "hj_naive",
          "hj_naive",
          "hj_naive",
          "hj_naive",
          "hj_naive",
          "hj_naive",
          "hj_naive",
          "hj_naive",
          "hj_naive",
          "hj_naive",
          "hj_naive",
          "hj_naive",
          "hj_naive",
          "hj_naive",
          "hj_naive",
          "hj_naive",
          "hj_naive",
          "hj_naive",
          "hj_naive",
          "hj_naive",
          "hj_naive",
          "hj_naive",
          "hj_naive",
          "hj_naive",
          "hj_naive",
          "hj_naive",
          "hj_naive",
          "hj_naive",
          "hj_naive",
          "hj_naive",
          "hj_naive",
          "hj_naive",
          "hj_naive",
          "hj_naive",
          "hj_naive",
          "hj_naive",
          "hj_naive",
          "hj_naive",
          "hj_naive",
          "hj_naive",
          "hj_naive",
          "hj_naive",
          "hj_naive",
          "hj_naive",
          "hj_naive",
          "hj_naive",
          "hj_naive",
          "hj_naive",
          "hj_naive",
          "hj_naive",
          "hj_naive",
          "hj_naive",
          "hj_naive",
          "hj_naive",
          "hj_naive",
          "hj_naive",
          "hj_naive",
          "hj_naive",
          "hj_naive",
          "hj_naive",
          "hj_naive",
          "hj_naive",
          "hj_naive",
          "hj_naive",
          "hj_naive",
          "hj_naive",
          "hj_naive",
          "hj_naive",
          "hj_naive",
          "hj_naive",
          "hj_naive",
          "hj_naive",
          "hj_naive",
          "hj_naive",
          "hj_naive",
          "hj_naive",
          "hj_naive",
          "hj_naive",
          "hj_naive",
          "hj_naive",
          "hj_naive",
          "hj_naive",
          "hj_naive",
          "hj_naive",
          "hj_naive",
          "hj_naive",
          "hj_naive",
          "hj_naive",
          "hj_naive",
          "hj_naive",
          "hj_naive",
          "hj_naive",
          "hj_naive",
          "hj_naive",
          "hj_naive",
          "hj_naive",
          "hj_naive",
          "hj_naive",
          "hj_naive",
          "hj_naive",
          "hj_naive",
          "hj_naive",
          "hj_naive",
          "hj_naive",
          "hj_naive",
          "hj_naive",
          "hj_naive",
          "hj_naive",
          "hj_naive",
          "hj_naive",
          "hj_naive",
          "hj_naive",
          "hj_naive",
          "hj_naive",
          "hj_naive",
          "hj_naive",
          "hj_naive",
          "hj_naive",
          "hj_naive",
          "hj_naive",
          "hj_naive",
          "hj_naive",
          "hj_naive",
          "hj_naive",
          "hj_naive",
          "hj_naive",
          "hj_naive",
          "hj_naive",
          "hj_naive",
          "hj_naive",
          "hj_naive",
          "hj_naive",
          "hj_naive",
          "hj_naive",
          "hj_naive",
          "hj_naive",
          "hj_naive",
          "hj_naive",
          "hj_naive",
          "hj_naive",
          "hj_naive",
          "hj_naive",
          "hj_naive",
          "hj_naive",
          "hj_naive",
          "hj_naive",
          "hj_naive",
          "hj_naive",
          "hj_naive",
          "hj_naive",
          "hj_naive",
          "hj_naive",
          "hj_naive",
          "hj_naive",
          "hj_naive",
          "hj_naive",
          "hj_naive",
          "hj_naive",
          "hj_naive",
          "hj_naive",
          "hj_naive",
          "hj_naive",
          "hj_naive",
          "hj_naive",
          "hj_naive",
          "hj_naive",
          "hj_naive",
          "hj_naive",
          "hj_naive",
          "hj_naive",
          "hj_naive",
          "hj_naive",
          "hj_naive",
          "hj_naive",
          "hj_naive",
          "hj_naive",
          "hj_naive",
          "hj_naive",
          "hj_naive",
          "hj_naive",
          "hj_naive",
          "hj_naive",
          "hj_naive",
          "hj_naive",
          "hj_naive",
          "hj_naive",
          "hj_naive",
          "hj_naive",
          "hj_naive",
          "hj_naive",
          "hj_naive",
          "hj_naive",
          "hj_naive",
          "hj_naive",
          "hj_naive",
          "hj_naive",
          "hj_naive",
          "hj_naive",
          "hj_naive",
          "hj_naive",
          "hj_naive",
          "hj_naive",
          "hj_reactive",
          "hj_reactive",
          "hj_reactive",
          "hj_reactive",
          "hj_reactive",
          "hj_reactive",
          "hj_reactive",
          "hj_reactive",
          "hj_reactive",
          "hj_reactive",
          "hj_reactive",
          "hj_reactive",
          "hj_reactive",
          "hj_reactive",
          "hj_reactive",
          "hj_reactive",
          "hj_reactive",
          "hj_reactive",
          "hj_reactive",
          "hj_reactive",
          "hj_reactive",
          "hj_reactive",
          "hj_reactive",
          "hj_reactive",
          "hj_reactive",
          "hj_reactive",
          "hj_reactive",
          "hj_reactive",
          "hj_reactive",
          "hj_reactive",
          "hj_reactive",
          "hj_reactive",
          "hj_reactive",
          "hj_reactive",
          "hj_reactive",
          "hj_reactive",
          "hj_reactive",
          "hj_reactive",
          "hj_reactive",
          "hj_reactive",
          "hj_reactive",
          "hj_reactive",
          "hj_reactive",
          "hj_reactive",
          "hj_reactive",
          "hj_reactive",
          "hj_reactive",
          "hj_reactive",
          "hj_reactive",
          "hj_reactive",
          "hj_reactive",
          "hj_reactive",
          "hj_reactive",
          "hj_reactive",
          "hj_reactive",
          "hj_reactive",
          "hj_reactive",
          "hj_reactive",
          "hj_reactive",
          "hj_reactive",
          "hj_reactive",
          "hj_reactive",
          "hj_reactive",
          "hj_reactive",
          "hj_reactive",
          "hj_reactive",
          "hj_reactive",
          "hj_reactive",
          "hj_reactive",
          "hj_reactive",
          "hj_reactive",
          "hj_reactive",
          "hj_reactive",
          "hj_reactive",
          "hj_reactive",
          "hj_reactive",
          "hj_reactive",
          "hj_reactive",
          "hj_reactive",
          "hj_reactive",
          "hj_reactive",
          "hj_reactive",
          "hj_reactive",
          "hj_reactive",
          "hj_reactive",
          "hj_reactive",
          "hj_reactive",
          "hj_reactive",
          "hj_reactive",
          "hj_reactive",
          "hj_reactive",
          "hj_reactive",
          "hj_reactive",
          "hj_reactive",
          "hj_reactive",
          "hj_reactive",
          "hj_reactive",
          "hj_reactive",
          "hj_reactive",
          "hj_reactive",
          "hj_reactive",
          "hj_reactive",
          "hj_reactive",
          "hj_reactive",
          "hj_reactive",
          "hj_reactive",
          "hj_reactive",
          "hj_reactive",
          "hj_reactive",
          "hj_reactive",
          "hj_reactive",
          "hj_reactive",
          "hj_reactive",
          "hj_reactive",
          "hj_reactive",
          "hj_reactive",
          "hj_reactive",
          "hj_reactive",
          "hj_reactive",
          "hj_reactive",
          "hj_reactive",
          "hj_reactive",
          "hj_reactive",
          "hj_reactive",
          "hj_reactive",
          "hj_reactive",
          "hj_reactive",
          "hj_reactive",
          "hj_reactive",
          "hj_reactive",
          "hj_reactive",
          "hj_reactive",
          "hj_reactive",
          "hj_reactive",
          "hj_reactive",
          "hj_reactive",
          "hj_reactive",
          "hj_reactive",
          "hj_reactive",
          "hj_reactive",
          "hj_reactive",
          "hj_reactive",
          "hj_reactive",
          "hj_reactive",
          "hj_reactive",
          "hj_reactive",
          "hj_reactive",
          "hj_reactive",
          "hj_reactive",
          "hj_reactive",
          "hj_reactive",
          "hj_reactive",
          "hj_reactive",
          "hj_reactive",
          "hj_reactive",
          "hj_reactive",
          "hj_reactive",
          "hj_reactive",
          "hj_reactive",
          "hj_reactive",
          "hj_reactive",
          "hj_reactive",
          "hj_reactive",
          "hj_reactive",
          "hj_reactive",
          "hj_reactive",
          "hj_reactive",
          "hj_reactive",
          "hj_reactive",
          "hj_reactive",
          "hj_reactive",
          "hj_reactive",
          "hj_reactive",
          "hj_reactive",
          "hj_reactive",
          "hj_reactive",
          "hj_reactive",
          "hj_reactive",
          "hj_reactive",
          "hj_reactive",
          "hj_reactive",
          "hj_reactive",
          "hj_reactive",
          "hj_reactive",
          "hj_reactive",
          "hj_reactive",
          "hj_reactive",
          "hj_reactive",
          "hj_reactive",
          "hj_reactive",
          "hj_reactive",
          "hj_reactive",
          "hj_reactive",
          "hj_reactive",
          "hj_reactive",
          "hj_reactive",
          "hj_reactive",
          "hj_reactive",
          "hj_reactive",
          "hj_reactive",
          "hj_reactive",
          "hj_reactive",
          "hj_reactive",
          "hj_reactive",
          "hj_reactive",
          "hj_reactive",
          "hj_reactive",
          "hj_reactive",
          "hj_reactive",
          "hj_reactive",
          "hj_reactive",
          "hj_reactive",
          "hj_reactive",
          "hj_reactive",
          "hj_reactive",
          "hj_reactive",
          "hj_reactive",
          "hj_reactive",
          "hj_reactive",
          "hj_reactive",
          "hj_reactive",
          "hj_reactive",
          "hj_reactive",
          "hj_reactive",
          "hj_reactive",
          "hj_reactive",
          "hj_reactive",
          "hj_reactive",
          "hj_reactive",
          "hj_reactive",
          "hj_reactive",
          "hj_reactive",
          "hj_reactive",
          "hj_reactive",
          "hj_reactive",
          "hj_reactive",
          "hj_reactive",
          "hj_reactive",
          "hj_reactive",
          "hj_reactive",
          "hj_reactive",
          "hj_reactive",
          "hj_reactive",
          "hj_reactive",
          "hj_reactive",
          "hj_reactive",
          "hj_reactive",
          "hj_reactive",
          "hj_reactive",
          "hj_reactive",
          "hj_reactive",
          "hj_reactive",
          "hj_reactive",
          "hj_reactive",
          "hj_reactive",
          "hj_reactive",
          "hj_reactive",
          "hj_reactive",
          "hj_reactive",
          "hj_reactive",
          "hj_reactive",
          "hj_reactive",
          "hj_reactive",
          "hj_reactive",
          "hj_reactive",
          "hj_reactive",
          "hj_reactive",
          "hj_reactive",
          "hj_reactive",
          "hj_reactive",
          "hj_reactive",
          "hj_reactive",
          "hj_reactive",
          "hj_reactive",
          "hj_reactive",
          "hj_reactive",
          "hj_reactive",
          "hj_reactive",
          "hj_reactive",
          "hj_reactive",
          "hj_reactive",
          "hj_reactive",
          "hj_reactive",
          "hj_reactive",
          "hj_reactive",
          "hj_reactive",
          "hj_reactive",
          "hj_reactive",
          "hj_reactive",
          "hj_reactive",
          "hj_reactive",
          "hj_reactive",
          "hj_reactive",
          "hj_reactive",
          "hj_reactive",
          "hj_reactive",
          "hj_reactive",
          "hj_reactive",
          "hj_reactive",
          "hj_reactive",
          "hj_reactive",
          "hj_reactive",
          "hj_reactive",
          "hj_reactive",
          "hj_reactive",
          "hj_reactive",
          "hj_reactive",
          "hj_reactive",
          "hj_reactive",
          "hj_reactive",
          "hj_reactive",
          "hj_reactive",
          "hj_reactive",
          "hj_reactive",
          "hj_reactive",
          "hj_reactive",
          "hj_reactive",
          "hj_reactive",
          "hj_reactive",
          "hj_reactive",
          "hj_reactive",
          "hj_reactive",
          "hj_reactive",
          "hj_reactive",
          "hj_reactive",
          "hj_reactive",
          "hj_reactive",
          "hj_reactive",
          "hj_reactive",
          "hj_reactive",
          "hj_reactive",
          "hj_reactive",
          "hj_reactive",
          "hj_reactive",
          "hj_reactive",
          "hj_reactive",
          "hj_reactive",
          "hj_reactive",
          "hj_reactive",
          "hj_reactive",
          "hj_reactive",
          "hj_reactive",
          "hj_reactive",
          "hj_reactive",
          "hj_reactive",
          "hj_reactive",
          "hj_reactive",
          "hj_reactive",
          "hj_reactive",
          "hj_reactive",
          "hj_reactive",
          "hj_reactive",
          "hj_reactive",
          "hj_reactive",
          "hj_reactive",
          "hj_reactive",
          "hj_reactive",
          "hj_reactive",
          "hj_reactive",
          "hj_reactive",
          "hj_reactive",
          "hj_reactive",
          "hj_reactive",
          "hj_reactive",
          "hj_reactive",
          "hj_reactive",
          "hj_reactive",
          "hj_reactive",
          "hj_reactive",
          "hj_reactive",
          "hj_reactive",
          "hj_reactive",
          "hj_reactive",
          "hj_reactive",
          "hj_reactive",
          "hj_reactive",
          "hj_reactive",
          "hj_reactive",
          "hj_reactive",
          "hj_reactive",
          "hj_reactive",
          "hj_reactive",
          "hj_reactive",
          "hj_reactive",
          "hj_reactive",
          "hj_reactive",
          "hj_reactive",
          "hj_reactive",
          "hj_reactive",
          "hj_reactive",
          "hj_reactive",
          "hj_reactive",
          "hj_reactive",
          "hj_reactive",
          "hj_reactive",
          "hj_reactive",
          "hj_reactive",
          "hj_reactive",
          "hj_reactive",
          "hj_reactive",
          "hj_reactive",
          "hj_reactive",
          "hj_reactive",
          "hj_reactive",
          "hj_reactive",
          "hj_reactive",
          "hj_reactive",
          "hj_reactive",
          "hj_reactive",
          "hj_reactive",
          "hj_reactive",
          "hj_reactive",
          "hj_reactive",
          "hj_reactive",
          "hj_reactive",
          "hj_reactive",
          "hj_reactive",
          "hj_reactive",
          "hj_reactive",
          "hj_reactive",
          "hj_reactive",
          "hj_reactive",
          "hj_reactive",
          "hj_reactive",
          "hj_reactive",
          "hj_reactive",
          "hj_reactive",
          "hj_reactive",
          "hj_reactive",
          "hj_reactive",
          "hj_reactive",
          "hj_reactive",
          "hj_reactive",
          "hj_reactive",
          "hj_reactive",
          "hj_reactive",
          "hj_reactive",
          "hj_reactive",
          "hj_reactive",
          "hj_reactive",
          "hj_reactive",
          "hj_reactive",
          "hj_reactive",
          "hj_reactive",
          "hj_reactive",
          "hj_reactive",
          "hj_reactive",
          "hj_reactive",
          "hj_reactive",
          "hj_reactive",
          "hj_reactive",
          "hj_reactive",
          "hj_reactive",
          "hj_reactive",
          "hj_reactive",
          "hj_reactive",
          "hj_reactive",
          "hj_reactive",
          "hj_reactive",
          "hj_reactive",
          "hj_reactive",
          "hj_reactive",
          "hj_reactive",
          "hj_reactive",
          "hj_reactive",
          "hj_reactive",
          "hj_reactive",
          "hj_reactive",
          "hj_reactive",
          "hj_reactive",
          "hj_reactive",
          "hj_reactive",
          "hj_reactive",
          "hj_reactive",
          "hj_reactive",
          "hj_reactive",
          "hj_reactive",
          "hj_reactive",
          "hj_reactive",
          "hj_reactive",
          "hj_reactive",
          "hj_reactive",
          "hj_reactive",
          "hj_reactive",
          "hj_reactive",
          "hj_reactive",
          "hj_reactive",
          "hj_reactive",
          "hj_reactive",
          "hj_reactive",
          "hj_reactive",
          "hj_reactive",
          "hj_reactive",
          "hj_reactive",
          "hj_reactive",
          "hj_reactive",
          "hj_reactive",
          "hj_reactive",
          "hj_reactive",
          "hj_reactive",
          "hj_reactive",
          "hj_reactive",
          "hj_reactive",
          "hj_reactive",
          "hj_reactive",
          "hj_reactive",
          "hj_reactive",
          "hj_reactive",
          "hj_reactive",
          "hj_reactive",
          "hj_reactive",
          "hj_reactive",
          "hj_reactive",
          "hj_reactive",
          "hj_reactive",
          "hj_reactive",
          "hj_reactive",
          "hj_reactive",
          "hj_reactive",
          "hj_reactive",
          "hj_reactive",
          "hj_reactive",
          "hj_reactive",
          "hj_reactive",
          "hj_reactive",
          "hj_reactive",
          "hj_reactive",
          "hj_reactive",
          "hj_reactive",
          "hj_reactive",
          "hj_reactive",
          "hj_reactive",
          "hj_reactive",
          "hj_reactive",
          "hj_reactive",
          "hj_reactive",
          "hj_reactive",
          "hj_reactive",
          "hj_reactive",
          "hj_reactive",
          "hj_reactive",
          "hj_reactive",
          "hj_reactive",
          "hj_reactive",
          "hj_reactive",
          "hj_reactive",
          "hj_reactive",
          "hj_reactive",
          "hj_reactive",
          "flocking",
          "flocking",
          "flocking",
          "flocking",
          "flocking",
          "flocking",
          "flocking",
          "flocking",
          "flocking",
          "flocking",
          "flocking",
          "flocking",
          "flocking",
          "flocking",
          "flocking",
          "flocking",
          "flocking",
          "flocking",
          "flocking",
          "flocking",
          "flocking",
          "flocking",
          "flocking",
          "flocking",
          "flocking",
          "flocking",
          "flocking",
          "flocking",
          "flocking",
          "flocking",
          "flocking",
          "flocking",
          "flocking",
          "flocking",
          "flocking",
          "flocking",
          "flocking",
          "flocking",
          "flocking",
          "flocking",
          "flocking",
          "flocking",
          "flocking",
          "flocking",
          "flocking",
          "flocking",
          "flocking",
          "flocking",
          "flocking",
          "flocking",
          "flocking",
          "flocking",
          "flocking",
          "flocking",
          "flocking",
          "flocking",
          "flocking",
          "flocking",
          "flocking",
          "flocking",
          "flocking",
          "flocking",
          "flocking",
          "flocking",
          "flocking",
          "flocking",
          "flocking",
          "flocking",
          "flocking",
          "flocking",
          "flocking",
          "flocking",
          "flocking",
          "flocking",
          "flocking",
          "flocking",
          "flocking",
          "flocking",
          "flocking",
          "flocking",
          "flocking",
          "flocking",
          "flocking",
          "flocking",
          "flocking",
          "flocking",
          "flocking",
          "flocking",
          "flocking",
          "flocking",
          "flocking",
          "flocking",
          "flocking",
          "flocking",
          "flocking",
          "flocking",
          "flocking",
          "flocking",
          "flocking",
          "flocking",
          "flocking",
          "flocking",
          "flocking",
          "flocking",
          "flocking",
          "flocking",
          "flocking",
          "flocking",
          "flocking",
          "flocking",
          "flocking",
          "flocking",
          "flocking",
          "flocking",
          "flocking",
          "flocking",
          "flocking",
          "flocking",
          "flocking",
          "flocking",
          "flocking",
          "flocking",
          "flocking",
          "flocking",
          "flocking",
          "flocking",
          "flocking",
          "flocking",
          "flocking",
          "flocking",
          "flocking",
          "flocking",
          "flocking",
          "flocking",
          "flocking",
          "flocking",
          "flocking",
          "flocking",
          "flocking",
          "flocking",
          "flocking",
          "flocking",
          "flocking",
          "flocking",
          "flocking",
          "flocking",
          "flocking",
          "flocking",
          "flocking",
          "flocking",
          "flocking",
          "flocking",
          "flocking",
          "flocking",
          "flocking",
          "flocking",
          "flocking",
          "flocking",
          "flocking",
          "flocking",
          "flocking",
          "flocking",
          "flocking",
          "flocking",
          "flocking",
          "flocking",
          "flocking",
          "flocking",
          "flocking",
          "flocking",
          "flocking",
          "flocking",
          "flocking",
          "flocking",
          "flocking",
          "flocking",
          "flocking",
          "flocking",
          "flocking",
          "flocking",
          "flocking",
          "flocking",
          "flocking",
          "flocking",
          "flocking",
          "flocking",
          "flocking",
          "flocking",
          "flocking",
          "flocking",
          "flocking",
          "flocking",
          "flocking",
          "flocking",
          "flocking",
          "flocking",
          "flocking",
          "flocking",
          "flocking",
          "flocking",
          "flocking",
          "flocking",
          "flocking",
          "flocking",
          "flocking",
          "flocking",
          "flocking",
          "flocking",
          "flocking",
          "flocking",
          "flocking",
          "flocking",
          "flocking",
          "flocking",
          "flocking",
          "flocking",
          "flocking",
          "flocking",
          "flocking",
          "flocking",
          "flocking",
          "flocking",
          "flocking",
          "flocking",
          "flocking",
          "flocking",
          "flocking",
          "flocking",
          "flocking",
          "flocking",
          "flocking",
          "flocking",
          "flocking",
          "flocking",
          "flocking",
          "flocking",
          "flocking",
          "flocking",
          "flocking",
          "flocking",
          "flocking",
          "flocking",
          "flocking",
          "flocking",
          "flocking",
          "flocking",
          "flocking",
          "flocking",
          "flocking",
          "flocking",
          "flocking",
          "flocking",
          "flocking",
          "flocking",
          "flocking",
          "flocking",
          "flocking",
          "flocking",
          "flocking",
          "flocking",
          "flocking",
          "flocking",
          "flocking",
          "flocking",
          "flocking",
          "flocking",
          "flocking",
          "flocking",
          "flocking",
          "flocking",
          "flocking",
          "flocking",
          "flocking",
          "flocking",
          "flocking",
          "flocking",
          "flocking",
          "flocking",
          "flocking",
          "flocking",
          "flocking",
          "flocking",
          "flocking",
          "flocking",
          "flocking",
          "flocking",
          "flocking",
          "flocking",
          "flocking",
          "flocking",
          "flocking",
          "flocking",
          "flocking",
          "flocking",
          "flocking",
          "flocking",
          "flocking",
          "flocking",
          "flocking",
          "flocking",
          "flocking",
          "flocking",
          "flocking",
          "flocking",
          "flocking",
          "flocking",
          "flocking",
          "flocking",
          "flocking",
          "flocking",
          "flocking",
          "flocking",
          "flocking",
          "flocking",
          "flocking",
          "flocking",
          "flocking",
          "flocking",
          "flocking",
          "flocking",
          "flocking",
          "flocking",
          "flocking",
          "flocking",
          "flocking",
          "flocking",
          "flocking",
          "flocking",
          "flocking",
          "flocking",
          "flocking",
          "flocking",
          "flocking",
          "flocking",
          "flocking",
          "flocking",
          "flocking",
          "flocking",
          "flocking",
          "flocking",
          "flocking",
          "flocking",
          "flocking",
          "flocking",
          "flocking",
          "flocking",
          "flocking",
          "flocking",
          "flocking",
          "flocking",
          "flocking",
          "flocking",
          "flocking",
          "flocking",
          "flocking",
          "flocking",
          "flocking",
          "flocking",
          "flocking",
          "flocking",
          "flocking",
          "flocking",
          "flocking",
          "flocking",
          "flocking",
          "flocking",
          "flocking",
          "flocking",
          "flocking",
          "flocking",
          "flocking",
          "flocking",
          "flocking",
          "flocking",
          "flocking",
          "flocking",
          "flocking",
          "flocking",
          "flocking",
          "flocking",
          "flocking",
          "flocking",
          "flocking",
          "flocking",
          "flocking",
          "flocking",
          "flocking",
          "flocking",
          "flocking",
          "flocking",
          "flocking",
          "flocking",
          "flocking",
          "flocking",
          "flocking",
          "flocking",
          "flocking",
          "flocking",
          "flocking",
          "flocking",
          "flocking",
          "flocking",
          "flocking",
          "flocking",
          "flocking",
          "flocking",
          "flocking",
          "flocking",
          "flocking",
          "flocking",
          "flocking",
          "flocking",
          "flocking",
          "flocking",
          "flocking",
          "flocking",
          "flocking",
          "flocking",
          "flocking",
          "flocking",
          "flocking",
          "flocking",
          "flocking",
          "flocking",
          "flocking",
          "flocking",
          "flocking",
          "flocking",
          "flocking",
          "flocking",
          "flocking",
          "flocking",
          "flocking",
          "flocking",
          "flocking",
          "flocking",
          "flocking",
          "flocking",
          "flocking",
          "flocking",
          "flocking",
          "flocking",
          "flocking",
          "flocking",
          "flocking",
          "flocking",
          "flocking",
          "flocking",
          "flocking",
          "flocking",
          "flocking",
          "flocking",
          "flocking",
          "flocking",
          "flocking",
          "flocking",
          "flocking",
          "flocking",
          "flocking",
          "flocking",
          "flocking",
          "flocking",
          "flocking",
          "flocking",
          "flocking",
          "flocking",
          "flocking",
          "flocking",
          "flocking",
          "flocking",
          "flocking",
          "flocking",
          "flocking",
          "flocking",
          "flocking",
          "flocking",
          "flocking",
          "flocking",
          "flocking",
          "flocking",
          "flocking",
          "flocking",
          "flocking",
          "flocking",
          "flocking",
          "flocking",
          "flocking",
          "flocking",
          "flocking",
          "flocking",
          "flocking",
          "flocking",
          "flocking",
          "flocking",
          "flocking",
          "flocking",
          "flocking",
          "flocking",
          "flocking",
          "flocking",
          "flocking",
          "flocking",
          "flocking",
          "flocking",
          "flocking",
          "flocking",
          "flocking",
          "flocking",
          "flocking",
          "flocking",
          "flocking",
          "flocking",
          "flocking",
          "flocking",
          "flocking",
          "flocking",
          "flocking",
          "flocking",
          "flocking",
          "flocking",
          "flocking",
          "flocking",
          "flocking",
          "flocking",
          "flocking",
          "flocking",
          "flocking",
          "flocking",
          "flocking",
          "flocking",
          "flocking",
          "flocking",
          "flocking",
          "flocking",
          "flocking",
          "flocking",
          "flocking",
          "flocking",
          "flocking",
          "flocking",
          "flocking",
          "flocking",
          "flocking",
          "flocking",
          "flocking",
          "flocking",
          "flocking",
          "flocking",
          "flocking"
         ],
         "x0": " ",
         "xaxis": "x",
         "y": [
          0.4504160887656033,
          0.8907766990291263,
          0.6903606102635229,
          1.3592233009708738,
          0.7503467406380028,
          0.6119972260748959,
          0.9535367545076284,
          1.3928571428571428,
          1.0516643550624134,
          1.480929264909847,
          0.9053398058252428,
          0.75,
          0.728502080443828,
          0.5388349514563107,
          0.94625520110957,
          0.8470873786407767,
          1.10124826629681,
          1.5,
          1.5,
          0.9334257975034674,
          1.4618585298196949,
          1.4375866851595007,
          0.8505547850208044,
          1.5,
          1.2368238557558946,
          0.8859223300970874,
          1.272884882108183,
          1.2739251040221915,
          1.5,
          0.8630374479889042,
          0.3890429958391123,
          0.6269070735090153,
          1.2666435506241331,
          0.3117198335644937,
          1.4129680998613037,
          1.4119278779472957,
          1.4871705963938973,
          0.9389736477115118,
          1.5,
          0.9698335644937588,
          0.9375866851595008,
          0.6279472954230236,
          0.8984049930651873,
          1.0104022191400832,
          1.1293342579750347,
          1.1279472954230236,
          0.3814147018030513,
          1.3689320388349515,
          0.9469486823855756,
          1.5,
          1.2850208044382805,
          1.5,
          1.2201803051317617,
          0.6119972260748959,
          0.7850208044382802,
          1.484743411927878,
          0.8432732316227461,
          1.484396671289875,
          1.013869625520111,
          0.8654646324549237,
          0.3391123439667129,
          1.2631761442441054,
          1.331484049930652,
          1.2985436893203883,
          1.3332177531206657,
          1.455270457697642,
          0.8436199722607489,
          1.4823162274618584,
          0.7406380027739251,
          0.5599861303744799,
          0.7330097087378641,
          0.7534674063800277,
          0.9316920943134536,
          1.228502080443828,
          0.4930651872399445,
          0.5371012482662968,
          1.3828016643550625,
          1.5,
          1.2680305131761442,
          1.234396671289875,
          1.5,
          0.7118585298196949,
          1.019417475728155,
          1.110263522884882,
          1.182385575589459,
          1.4902912621359223,
          1.4635922330097086,
          0.5253120665742025,
          0.4282246879334258,
          1.0870319001386963,
          0.4119278779472954,
          0.9261442441054092,
          0.6199722607489597,
          0.757628294036061,
          0.3203883495145631,
          0.3952843273231622,
          0.8242024965325936,
          1.5,
          1.1251733703190014,
          1.2527739251040222,
          1.5,
          1.5,
          0.4379334257975035,
          1.4726074895977808,
          1.145631067961165,
          1.4871705963938973,
          1.2718446601941749,
          0.6629680998613038,
          0.9913314840499308,
          1.4393203883495145,
          1.0256588072122053,
          0.7586685159500693,
          0.4864771151178918,
          0.6386962552011096,
          1.2160194174757282,
          1.141123439667129,
          1.2860610263522885,
          1.4670596393897364,
          1.4389736477115118,
          1.3186546463245492,
          0.5565187239944521,
          1.251733703190014,
          1.5,
          1.5,
          1.0714285714285714,
          0.6269070735090153,
          0.7877947295423023,
          1.4219833564493758,
          0.9947988904299584,
          0.4514563106796116,
          1.009015256588072,
          1.3585298196948683,
          1.5,
          1.4559639389736476,
          1.44001386962552,
          0.7718446601941747,
          1.5,
          1.5,
          1.1789181692094313,
          0.3186546463245492,
          1.4868238557558946,
          1.1033287101248266,
          1.5,
          1.4563106796116505,
          0.6983356449375867,
          1.4257975034674064,
          1.5,
          1.5,
          1.5,
          0.1106102635228848,
          1.5,
          1.116504854368932,
          1.3408460471567267,
          1.0045076282940362,
          1.5,
          1.5,
          1.4306518723994452,
          1.0922330097087378,
          0.8141470180305131,
          1.5,
          0.3748266296809986,
          0.5589459084604715,
          0.6470180305131762,
          0.481622746185853,
          0.3869625520110957,
          0.5787101248266296,
          0.7059639389736477,
          1.185506241331484,
          1.4576976421636616,
          1.5,
          0.7593619972260749,
          1.3228155339805825,
          0.7198335644937587,
          1.5,
          0.6140776699029126,
          1.2798196948682383,
          1.5,
          0.9205963938973648,
          1.2621359223300972,
          0.8959778085991679,
          1.1678224687933425,
          0.914008321775312,
          1.1331484049930651,
          1.185506241331484,
          1.5,
          1.5,
          1.440360610263523,
          1.0648404993065188,
          0.8595700416088765,
          1.4410540915395285,
          1.4472954230235784,
          0.2447988904299584,
          1.036754507628294,
          0.6861997226074896,
          0.5384882108183079,
          1.4947988904299585,
          1.3647711511789182,
          0.7295423023578363,
          1.412621359223301,
          1.476768377253814,
          1.0471567267683772,
          1.0669209431345354,
          0.5634535367545076,
          1.2999306518723994,
          0.7520804438280166,
          1.3658113730929264,
          1.3484743411927878,
          null,
          1.023231622746186,
          1.3283633841886269,
          0.467753120665742,
          1.125866851595007,
          1.3633841886269071,
          1.5,
          0.746879334257975,
          1.111997226074896,
          0.6445908460471568,
          1.2687239944521498,
          1.5,
          1.4053398058252426,
          1.5,
          1.1418169209431346,
          0.8685852981969486,
          1.5,
          1.4070735090152566,
          1.366158113730929,
          1.4875173370319,
          1.4289181692094313,
          0.7330097087378641,
          1.2988904299583912,
          1.5,
          1.0866851595006934,
          0.9812760055478502,
          0.6383495145631068,
          1.4549237170596394,
          1.0679611650485437,
          1.2756588072122053,
          0.938626907073509,
          1.5,
          1.4212898751733702,
          1.0142163661581138,
          0.7444521497919556,
          1.211511789181692,
          1.4056865464632455,
          0.934119278779473,
          1.049237170596394,
          0.8599167822468793,
          1.124133148404993,
          1.4292649098474342,
          1.055825242718447,
          0.6040221914008321,
          0.998266296809986,
          1.1955617198335644,
          0.753120665742025,
          0.7555478502080444,
          1.5,
          1.0665742024965326,
          1.3259361997226076,
          1.3717059639389737,
          1.029126213592233,
          1.5,
          1.2801664355062414,
          0.8484743411927878,
          0.707004160887656,
          1.5,
          1.5,
          1.5,
          0.6688626907073509,
          1.443134535367545,
          1.2004160887656032,
          0.6719833564493759,
          0.5988210818307905,
          1.412274618585298,
          1.0683079056865463,
          0.4798890429958391,
          1.5,
          1.5,
          1.042995839112344,
          0.921983356449376,
          1.2552011095700415,
          1.3460471567267684,
          0.5977808599167822,
          1.5,
          1.403606102635229,
          1.5,
          0.794382801664355,
          1.2839805825242718,
          1.4361997226074896,
          1.5,
          1.476768377253814,
          0.9108876560332873,
          0.8269764216366158,
          1.164008321775312,
          0.8453536754507628,
          1.5,
          1.4819694868238558,
          1.422330097087379,
          1.3169209431345354,
          1.021151178918169,
          0.8675450762829403,
          1.3203883495145632,
          0.9254507628294036,
          1.0499306518723994,
          1.5,
          0.8543689320388349,
          1.4348127600554783,
          1.2031900138696254,
          1.2763522884882108,
          1.4358529819694867,
          0.3488210818307906,
          0.75,
          0.9472954230235784,
          1.2264216366158114,
          0.8883495145631068,
          1.0162968099861305,
          0.8990984743411928,
          0.8013176144244105,
          0.2122052704576976,
          1.199029126213592,
          1.1716366158113731,
          0.587378640776699,
          1.1328016643550625,
          1.31622746185853,
          1.1144244105409151,
          1.0301664355062414,
          0.435506241331484,
          0.8488210818307905,
          1.4854368932038835,
          1.1719833564493758,
          1.4455617198335644,
          0.9875173370319,
          0.7271151178918169,
          0.8550624133148405,
          1.4778085991678225,
          0.9736477115117892,
          1.5,
          1.260748959778086,
          1.0970873786407769,
          1.0818307905686546,
          1.4514563106796117,
          1.397364771151179,
          0.75,
          1.4271844660194175,
          1.4483356449375866,
          0.6664355062413315,
          1.4070735090152566,
          1.415742024965326,
          0.188626907073509,
          1.1542995839112344,
          0.3009708737864077,
          0.9230235783633842,
          1.472260748959778,
          1.1466712898751734,
          1.1598474341192788,
          1.2718446601941749,
          1.3283633841886269,
          0.8224687933425797,
          1.404646324549237,
          0.2739251040221914,
          1.164008321775312,
          1.032246879334258,
          1.3491678224687933,
          1.098127600554785,
          0.3966712898751733,
          1.1858529819694867,
          0.7513869625520111,
          1.087378640776699,
          1.5,
          0.3963245492371706,
          1.3855755894590849,
          1.4178224687933425,
          1.3484743411927878,
          0.3155339805825243,
          1.3595700416088763,
          0.6865464632454924,
          0.8713592233009708,
          1.2180998613037448,
          1.5,
          0.731622746185853,
          0.941747572815534,
          1.0416088765603329,
          0.9528432732316228,
          0.8162274618585298,
          1.364077669902913,
          0.7586685159500693,
          1.3699722607489595,
          0.9680998613037448,
          1.5,
          1.280859916782247,
          1.4285714285714286,
          1.3016643550624134,
          0.8162274618585298,
          1.4642857142857142,
          1.1588072122052704,
          1.2250346740638005,
          1.023231622746186,
          0.963245492371706,
          0.7253814147018031,
          1.0034674063800275,
          1.5,
          0.8387656033287101,
          0.6959084604715673,
          1.0391816920943135,
          0.8755201109570042,
          1.30998613037448,
          1.0918862690707352,
          1.2094313453536754,
          1.0072815533980584,
          1.469140083217753,
          0.9036061026352288,
          1.3890429958391124,
          1.1296809986130374,
          1.1522191400832178,
          0.6969486823855756,
          1.5,
          1.0693481276005548,
          1.5,
          1.3484743411927878,
          0.5533980582524272,
          1.3994452149791956,
          1.016990291262136,
          1.4902912621359223,
          1.4642857142857142,
          1.3477808599167822,
          0.986130374479889,
          1.2184466019417477,
          1.3002773925104023,
          0.7447988904299584,
          0.9573509015256588,
          0.937239944521498,
          1.375866851595007,
          1.019417475728155,
          1.2122052704576975,
          1.4760748959778085,
          0.7801664355062413,
          0.8148404993065187,
          0.782246879334258,
          1.0922330097087378,
          0.6986823855755895,
          1.3748266296809986,
          1.1137309292649098,
          1.220527045769764,
          0.5339805825242718,
          0.4126213592233009,
          0.8089459084604715,
          1.1331484049930651,
          1.3363384188626908,
          1.4878640776699028,
          1.469486823855756,
          0.9282246879334258,
          1.2708044382801664,
          0.3384188626907073,
          1.435506241331484,
          1.3814147018030514,
          0.7153259361997226,
          0.8890429958391124,
          0.6934812760055479,
          0.8987517337031901,
          0.7579750346740638,
          1.3051317614424411,
          0.1712898751733703,
          1.317267683772538,
          0.4663661581137309,
          0.5880721220527045,
          1.35124826629681,
          1.3030513176144245,
          0.5745492371705964,
          1.144244105409154,
          0.8099861303744799,
          1.498266296809986,
          1.4514563106796117,
          1.5,
          1.2250346740638005,
          1.213245492371706,
          1.3401525658807212,
          1.4483356449375866,
          1.4088072122052704,
          0.8384188626907073,
          1.3782940360610263,
          0.5010402219140083,
          1.4687933425797504,
          1.061373092926491,
          0.9625520110957004,
          1.4011789181692094,
          0.9483356449375868,
          0.9108876560332873,
          1.1539528432732316,
          0.8436199722607489,
          1.0856449375866852,
          0.9171289875173372,
          1.469140083217753,
          1.2454923717059638,
          0.6695561719833565,
          1.2441054091539527,
          1.5,
          1.2385575589459084,
          1.5,
          0.5,
          0.4705270457697642,
          0.8540221914008321,
          0.8567961165048543,
          1.5,
          1.476768377253814,
          1.5,
          1.395631067961165,
          1.5,
          1.5,
          0.6490984743411928,
          0.9223300970873788,
          1.480929264909847,
          0.768377253814147,
          0.9008321775312068,
          1.5,
          0.9576976421636616,
          1.0669209431345354,
          0.4840499306518724,
          0.7694174757281553,
          1.2978502080443828,
          0.5898058252427184,
          1.3599167822468794,
          0.6296809986130375,
          0.4701803051317614,
          0.8242024965325936,
          0.7933425797503467,
          1.5,
          1.4084604715672675,
          1.5,
          0.9261442441054092,
          0.7000693481276006,
          0.7552011095700416,
          0.7399445214979196,
          0.8828016643550625,
          1.4857836338418862,
          1.3599167822468794,
          1.5,
          1.3769070735090152,
          0.924757281553398,
          1.0918862690707352,
          1.4472954230235784,
          1.0495839112343968,
          0.6848127600554785,
          1.144244105409154,
          0.9199029126213591,
          1.0565187239944522,
          1.2773925104022192,
          1.2610957004160888,
          0.9382801664355064,
          1.5,
          1.4795423023578362,
          1.3595700416088763,
          0.8096393897364771,
          0.9573509015256588,
          0.9788488210818308,
          1.3346047156726768,
          1.049237170596394,
          1.4389736477115118,
          1.2662968099861305,
          0.8671983356449375,
          1.4427877947295422,
          1.0256588072122053,
          0.9778085991678224,
          1.188626907073509,
          1.2382108183079057,
          0.7794729542302358,
          1.009361997226075,
          1.5,
          0.8630374479889042,
          1.2798196948682383,
          1.4563106796116505,
          1.5,
          1.0925797503467407,
          1.4635922330097086,
          0.9764216366158114,
          1.3200416088765603,
          1.5,
          1.5,
          1.3124133148404993,
          1.164008321775312,
          1.3519417475728157,
          1.2832871012482665,
          0.9244105409153952,
          0.8814147018030514,
          1.4129680998613037,
          1.4313453536754508,
          0.8782940360610264,
          1.30998613037448,
          1.447988904299584,
          1.219140083217753,
          1.2180998613037448,
          1.5,
          1.0835644937586686,
          0.8786407766990292,
          1.280513176144244,
          1.294729542302358,
          1.2291955617198336,
          1.4042995839112344,
          1.1861997226074896,
          1.0114424410540916,
          0.7226074895977809,
          1.5,
          1.5,
          1.3626907073509016,
          1.3065187239944522,
          1.5,
          0.8550624133148405,
          1.0700416088765603,
          1.470873786407767,
          1.164008321775312,
          1.1816920943134537,
          1.1914008321775311,
          1.3904299583911237,
          1.2243411927877947,
          1.455270457697642,
          1.3054785020804438,
          1.3280166435506242,
          1.3585298196948683,
          0.7912621359223301,
          0.782246879334258,
          1.4823162274618584,
          0.8002773925104022,
          0.920249653259362,
          1.0984743411927878,
          0.9913314840499308,
          1.2950762829403606,
          1.4015256588072122,
          1.3800277392510405,
          1.5,
          1.1553398058252426,
          0.7649098474341193,
          1.0835644937586686,
          1.354022191400832,
          1.295769764216366,
          1.220873786407767,
          1.3703190013869626,
          0.7642163661581137,
          1.2524271844660195,
          1.185506241331484,
          1.4635922330097086,
          1.44001386962552,
          1.050970873786408,
          0.7538141470180305,
          0.8144937586685159,
          1.1619278779472957,
          1.096740638002774,
          1.5,
          0.7721914008321775,
          0.9504160887656034,
          1.119625520110957,
          1.2888349514563109,
          1.4774618585298196,
          0.573509015256588,
          1.5,
          1.1872399445214978,
          1.2142857142857142,
          1.4011789181692094,
          1.4875173370319,
          1.435506241331484,
          0.9701803051317616,
          1.3623439667128987,
          0.7926490984743412,
          1.4396671289875174,
          1.1386962552011095,
          1.1584604715672675,
          1.098127600554785,
          1.1757975034674064,
          1.5,
          1.2302357836338418,
          1.3290568654646324,
          1.3883495145631068,
          1.4680998613037448,
          1.443134535367545,
          1.2604022191400832,
          1.0918862690707352,
          1.0336338418862692,
          0.7472260748959778,
          1.442094313453537,
          1.263869625520111,
          1.4407073509015256,
          0.7506934812760055,
          1.3040915395284327,
          1.4212898751733702,
          1.2447988904299585,
          0.9036061026352288,
          0.9337725381414702,
          1.5,
          1.4115811373092926,
          1.285367545076283,
          1.5,
          0.9653259361997226,
          1.4074202496532593,
          1.464632454923717,
          1.5,
          1.1251733703190014,
          1.45249653259362,
          0.9552704576976422,
          1.4219833564493758,
          1.0960471567267684,
          1.5,
          1.5,
          1.5,
          0.6404299583911235,
          1.5,
          1.383495145631068,
          1.5,
          1.4778085991678225,
          1.2090846047156727,
          1.214632454923717,
          0.912621359223301,
          1.4344660194174756,
          0.6546463245492372,
          1.145977808599168,
          1.0176837725381416,
          1.1560332871012482,
          0.7749653259361997,
          1.5,
          1.16123439667129,
          1.096393897364771,
          1.4559639389736476,
          1.5,
          1.2555478502080444,
          1.4025658807212205,
          0.8370319001386962,
          1.257975034674064,
          0.7874479889042996,
          0.9486823855755896,
          1.193134535367545,
          1.3536754507628297,
          1.1851595006934812,
          1.248613037447989,
          1.315880721220527,
          1.4802357836338418,
          1.5,
          1.274618585298197,
          1.1636615811373092,
          1.438626907073509,
          1.3564493758668517,
          1.2122052704576975,
          1.5,
          1.391123439667129,
          0.7395977808599168,
          0.875866851595007,
          1.4472954230235784,
          1.1005547850208044,
          1.384882108183079,
          1.4271844660194175,
          1.0745492371705965,
          0.9854368932038836,
          1.4119278779472957,
          1.3966712898751734,
          1.2323162274618584,
          1.2496532593619971,
          0.8141470180305131,
          1.4774618585298196,
          1.182385575589459,
          1.0097087378640777,
          1.418862690707351,
          1.3287101248266298,
          1.2964632454923717,
          1.329750346740638,
          1.3418862690707352,
          1.050970873786408,
          1.4015256588072122,
          1.5,
          0.7777392510402219,
          1.0540915395284327,
          1.2475728155339805,
          1.5,
          1.360263522884882,
          1.3717059639389737,
          1.455617198335645,
          1.2624826629681,
          1.5,
          1.4167822468793343,
          1.3120665742024966,
          1.377253814147018,
          1.4410540915395285,
          1.4070735090152566,
          1.4875173370319,
          1.5,
          0.981622746185853,
          1.4715672676837726,
          1.2541608876560333,
          1.1868932038834952,
          1.463245492371706,
          1.4382801664355065,
          0.7586685159500693,
          1.2763522884882108,
          0.8502080443828016,
          1.4081137309292648,
          1.1508321775312067,
          0.9414008321775312,
          1.3578363384188628,
          0.8262829403606102,
          1.3599167822468794,
          1.219140083217753,
          1.0866851595006934,
          1.162621359223301,
          1.449375866851595,
          1.2493065187239945,
          1.197988904299584,
          0.7330097087378641,
          1.162621359223301,
          1.4025658807212205,
          1.0547850208044385,
          1.5,
          1.315880721220527,
          1.1237864077669903,
          1.1033287101248266,
          1.4178224687933425,
          1.133841886269071,
          1.3075589459084604,
          1.5,
          1.5,
          1.2864077669902914,
          0.9663661581137308,
          1.5,
          1.4559639389736476,
          1.0631067961165048,
          1.0884188626907074,
          1.14875173370319,
          1.4119278779472957,
          1.0603328710124826,
          1.3120665742024966,
          0.7940360610263523,
          1.2701109570041609,
          1.5,
          0.7302357836338419,
          0.973994452149792,
          1.5,
          1.3491678224687933,
          1.374133148404993,
          0.9833564493758667,
          1.4947988904299585,
          1.5,
          1.0034674063800275,
          0.9979195561719834,
          1.476768377253814,
          1.0339805825242718,
          1.380374479889043,
          1.4680998613037448,
          1.5,
          1.4819694868238558,
          1.5,
          1.2825936199722607,
          1.0097087378640777,
          1.1650485436893203,
          1.4455617198335644,
          1.2458391123439667,
          1.2139389736477115,
          1.447988904299584,
          1.3016643550624134,
          1.3047850208044385,
          0.9864771151178918,
          1.1771844660194175,
          1.473994452149792,
          1.2635228848821085,
          1.2472260748959778,
          1.4379334257975034,
          1.3952843273231623,
          1.2156726768377253,
          1.133841886269071,
          1.2614424410540916,
          0.75,
          1.220527045769764,
          0.8550624133148405,
          1.323509015256588,
          0.8502080443828016,
          1.081137309292649,
          1.1369625520110958,
          1.31622746185853,
          1.2902219140083218,
          0.9306518723994452,
          1.3141470180305133,
          0.710124826629681,
          1.050624133148405,
          0.8519417475728155,
          1.483009708737864,
          1,
          1.447988904299584,
          1.116504854368932,
          1.1771844660194175,
          0.9691400832177532,
          1.234396671289875,
          1.188626907073509,
          1.4438280166435506,
          1.3460471567267684,
          1.4559639389736476,
          1.457004160887656,
          1.4511095700416088,
          1.3561026352288488,
          1.4351595006934812,
          1.0159500693481276,
          1.418862690707351,
          1.1383495145631068,
          0.7565880721220527,
          1.0097087378640777,
          1.472260748959778,
          0.7267683772538142,
          0.8547156726768377,
          1.1123439667128987,
          1.2919556171983355,
          1.424410540915395,
          1.4559639389736476,
          1.403259361997226,
          1.1782246879334255,
          1.35124826629681,
          1.0728155339805825,
          1.0922330097087378,
          0.91123439667129,
          1.2395977808599168,
          1.380374479889043,
          0.9611650485436892,
          1.4895977808599168,
          1.151872399445215,
          0.6130374479889042,
          1.286754507628294,
          1.1269070735090152,
          0.6709431345353676,
          1.5,
          1.2801664355062414,
          0.6622746185852982,
          1.4299583911234397,
          1.3332177531206657,
          1.021497919556172,
          1.1934812760055478,
          1.0502773925104023,
          1.3609570041608876,
          0.9185159500693482,
          1.259361997226075,
          1.1664355062413314,
          1.1352288488210818,
          1.1081830790568654,
          1.251386962552011,
          1.096740638002774,
          0.8727461858529819,
          1.3120665742024966,
          1.287101248266297,
          1.3855755894590849,
          0.8734396671289875,
          1.042995839112344,
          1.2472260748959778,
          1.2094313453536754,
          1.4635922330097086,
          1.4743411927877947,
          0.8186546463245492,
          1.1307212205270458,
          1.2236477115117892,
          1.0360610263522885,
          1.5,
          1.2936893203883495,
          1.5,
          1.5,
          0.9011789181692096,
          0.9306518723994452,
          1.1647018030513177,
          0.9975728155339806,
          0.9975728155339806,
          1.0988210818307906,
          0.9427877947295424,
          1.4039528432732316,
          1.3474341192787795,
          1.414008321775312,
          0.9778085991678224,
          1.2815533980582523,
          1.1945214979195562,
          1.420249653259362,
          1.4181692094313454,
          1.2753120665742026,
          1.3366851595006934,
          1.2704576976421638,
          0.9299583911234396,
          1,
          0.8446601941747572,
          1.2350901525658806,
          1.5,
          1.3900832177531206,
          1.0572122052704578,
          1.1414701803051317,
          1.2545076282940362,
          1.4230235783633842,
          1.135922330097087,
          1.131761442441054,
          1.0003467406380029,
          1.009361997226075,
          1.3366851595006934,
          1.4022191400832178,
          1.5,
          1.5,
          1.3027045769764216,
          0.9996532593619972,
          1.25,
          1.2312760055478502,
          1.317267683772538,
          1.35124826629681,
          1.5,
          1.0665742024965326,
          1.3890429958391124,
          1.0710818307905687,
          1.102635228848821,
          1.1775312066574202,
          1.395631067961165,
          1.4368932038834952,
          0.8387656033287101,
          0.8328710124826629,
          1.172330097087379,
          1.3886962552011095,
          1.1452843273231623,
          1.3720527045769764,
          0.9913314840499308,
          1.444174757281553,
          1.1265603328710123,
          1.165742024965326,
          0.8398058252427184,
          1.3033980582524272,
          0.7968099861303745,
          1.391123439667129,
          1.3138002773925104,
          1.4497226074895977,
          1.0298196948682383,
          1.382108183079057,
          1.3248959778085991,
          1.2701109570041609,
          1.4875173370319,
          1.403606102635229,
          1.122746185852982,
          0.9840499306518724,
          1.130374479889043,
          1.380374479889043,
          1.1643550624133148,
          1.4635922330097086,
          1.251733703190014,
          0.7725381414701803,
          1.401872399445215,
          1.4701803051317617,
          1.4011789181692094,
          1.2104715672676838,
          1.3994452149791956,
          1.5,
          1.162621359223301,
          1.4687933425797504,
          1.2045769764216363,
          1.5,
          1.0610263522884882,
          1.4257975034674064,
          0.6896671289875174,
          1.1737170596393898,
          1.3155339805825244,
          1.228848821081831,
          1.4587378640776698,
          1.0208044382801664,
          1.4819694868238558,
          0.961511789181692,
          1.3065187239944522,
          1.2011095700416088,
          1.134882108183079,
          1.2323162274618584,
          1.3141470180305133,
          1.1147711511789182,
          1.5,
          1.2260748959778085,
          1.2226074895977808,
          1.4091539528432733,
          1.4850901525658806,
          1.0221914008321775,
          1.220873786407767,
          0.6903606102635229,
          1.3228155339805825,
          1.478848821081831,
          0.9160887656033287,
          1.314493758668516,
          1.4757281553398058,
          1.027739251040222,
          1.4778085991678225,
          1.443134535367545,
          1.2614424410540916,
          1.0176837725381416,
          1.0128294036061027,
          0.9483356449375868,
          1.2378640776699028,
          1.4434812760055478,
          1.3717059639389737,
          1.1168515950069349,
          1.389389736477115,
          1.358876560332871,
          0.8855755894590847,
          0.9798890429958392,
          1.5,
          1.432732316227462,
          1.197642163661581,
          1.3432732316227465,
          0.7784327323162274,
          1.1653952843273232,
          1.2413314840499303,
          1.3394590846047156,
          1.292995839112344,
          1.4795423023578362,
          1.1130374479889042,
          null,
          1.5,
          1.3283633841886269,
          0.9275312066574204,
          1.5,
          1.317614424410541,
          1.5,
          1.2427184466019416,
          1.4823162274618584,
          1.5,
          1.5,
          1.4743411927877947,
          1.4965325936199725,
          1.4857836338418862,
          1.4902912621359223,
          1.223994452149792,
          1.4306518723994452,
          1.0821775312066575,
          1.5,
          1.0946601941747574,
          1.4795423023578362,
          1.4895977808599168,
          1.4667128987517335,
          1.5,
          1.4837031900138695,
          1.5,
          1.2156726768377253,
          1.478848821081831,
          1.0201109570041609,
          1.31622746185853,
          1.385922330097087,
          1.5,
          1.4361997226074896,
          1.441747572815534,
          1.5,
          1.434119278779473,
          1.4913314840499303,
          1.480929264909847,
          1.5,
          1.4954923717059638,
          1.4407073509015256,
          1.4934119278779472,
          1.403606102635229,
          1.489251040221914,
          1.4701803051317617,
          1.5,
          1.2999306518723994,
          1.4077669902912622,
          1.4837031900138695,
          0.7461858529819695,
          1.4812760055478502,
          1.5,
          1.5,
          1.4282246879334255,
          1.5,
          1.5,
          1.5,
          1.5,
          1.4965325936199725,
          1.4625520110957004,
          1.5,
          1.4275312066574202,
          1.3782940360610263,
          1.360610263522885,
          1.5,
          1.415742024965326,
          1.4934119278779472,
          1.5,
          1.5,
          1.4954923717059638,
          1.029126213592233,
          1.4164355062413314,
          1.052357836338419,
          1.475381414701803,
          1.4913314840499303,
          1.4514563106796117,
          1.476768377253814,
          1.4382801664355065,
          1.470527045769764,
          1.5,
          1.5,
          1.4382801664355065,
          1.2916088765603329,
          1.430998613037448,
          1.4854368932038835,
          1.5,
          1.4583911234396671,
          1.5,
          1.4895977808599168,
          1.0377947295423025,
          1.285367545076283,
          1.480582524271845,
          1.233009708737864,
          1.434119278779473,
          0.7434119278779473,
          1.5,
          1.3963245492371703,
          1.484396671289875,
          1,
          1.5,
          1.424757281553398,
          1.4174757281553398,
          1.0201109570041609,
          1.5,
          1.5,
          1.5,
          1.4961858529819694,
          1.4566574202496532,
          1.354022191400832,
          0.9337725381414702,
          1.5,
          1.5,
          1.4486823855755897,
          1.5,
          1.4573509015256587,
          1.4954923717059638,
          1.4736477115117892,
          1.4812760055478502,
          1.432732316227462,
          1.4674063800277393,
          1.492371705963939,
          1.4427877947295422,
          1.478848821081831,
          1.5,
          0.8432732316227461,
          1.5,
          1.5,
          1.3692787794729542,
          1.478502080443828,
          1.29750346740638,
          1.482662968099861,
          0.75,
          1.5,
          1.5,
          1.5,
          1.1508321775312067,
          1.3873092926490984,
          1.5,
          1.5,
          1.334257975034674,
          1.5,
          1.5,
          1.4778085991678225,
          1.5,
          1.492024965325936,
          1.4791955617198336,
          1.4760748959778085,
          1.5,
          1.5,
          1.5,
          1.3030513176144245,
          1.475381414701803,
          0.75,
          1.5,
          1.5,
          1.4795423023578362,
          1.5,
          1.5,
          1.4850901525658806,
          1.4195561719833565,
          0.75,
          1.0884188626907074,
          1.4798890429958391,
          1.3980582524271843,
          1.4576976421636616,
          1.4663661581137308,
          1.1158113730929264,
          1.5,
          1.2395977808599168,
          1.5,
          1.4854368932038835,
          1.3040915395284327,
          1.5,
          1.432732316227462,
          1.457004160887656,
          1.4885575589459084,
          1.5,
          1.0242718446601942,
          1.4670596393897364,
          1.4344660194174756,
          1.476768377253814,
          1.490984743411928,
          1.490984743411928,
          1.4954923717059638,
          1.4407073509015256,
          1.4635922330097086,
          1.5,
          1.4701803051317617,
          1.469486823855756,
          1.5,
          1.4812760055478502,
          0.7465325936199723,
          1.5,
          1.5,
          1.116158113730929,
          1.5,
          1.4368932038834952,
          1.4053398058252426,
          1.463245492371706,
          1.4791955617198336,
          1.5,
          1.3151872399445217,
          1.480929264909847,
          1.4622052704576975,
          1.4760748959778085,
          1.483009708737864,
          1.4864771151178915,
          1.4698335644937586,
          1.2382108183079057,
          1.5,
          1.5,
          1.4930651872399443,
          1.473994452149792,
          1.5,
          1.5,
          1.2971567267683772,
          1.5,
          1.5,
          1.4358529819694867,
          1.4882108183079057,
          1.484396671289875,
          1.484743411927878,
          1.49375866851595,
          1.5,
          1.484743411927878,
          1.5,
          1.5,
          1.5,
          1.4954923717059638,
          1.463245492371706,
          1.5,
          1.5,
          1.480582524271845,
          1.4674063800277393,
          1.1279472954230236,
          1.1848127600554783,
          1.5,
          1.5,
          1.5,
          1,
          1.4611650485436891,
          1.2923023578363384,
          1.5,
          1.3855755894590849,
          1.3065187239944522,
          1.1133841886269071,
          1.447642163661581,
          1.415742024965326,
          1.4941054091539527,
          1.2881414701803051,
          1.300624133148405,
          1.3918169209431346,
          1.482662968099861,
          1.5,
          1.4545769764216363,
          1.3040915395284327,
          1.5,
          1.4916782246879334,
          1.460124826629681,
          1.5,
          1.475381414701803,
          1.5,
          1.5,
          1.490638002773925,
          1.3720527045769764,
          1.372746185852982,
          1.490984743411928,
          1.4791955617198336,
          1.3325242718446602,
          1.2167128987517335,
          1.248613037447989,
          1.5,
          1.5,
          1.4549237170596394,
          1.490638002773925,
          1.5,
          1.5,
          1.0048543689320388,
          1.329750346740638,
          1.0759361997226076,
          1.5,
          1.5,
          1.412274618585298,
          1.139389736477115,
          1.4878640776699028,
          1.2995839112343968,
          1.4486823855755897,
          1.5,
          1.4875173370319,
          1.4136615811373092,
          1.4885575589459084,
          1.5,
          1.4174757281553398,
          1.5,
          1.5,
          1.4941054091539527,
          1.455617198335645,
          1.4670596393897364,
          1.5,
          1.4448682385575589,
          1.5,
          1.4885575589459084,
          1.5,
          1.4774618585298196,
          1.3210818307905687,
          1.5,
          1.478848821081831,
          1.3502080443828015,
          1.5,
          1.4871705963938973,
          1.422330097087379,
          1.25,
          1.3477808599167822,
          1.5,
          1.391123439667129,
          1.5,
          1.4941054091539527,
          1.1005547850208044,
          1.0852981969486823,
          1.5,
          1.478848821081831,
          1.5,
          1.490984743411928,
          1.4726074895977808,
          1.4930651872399443,
          0.9074202496532594,
          1.5,
          1.4885575589459084,
          1.4587378640776698,
          1.5,
          1.490984743411928,
          1.5,
          1.4823162274618584,
          1.0703883495145632,
          1.470873786407767,
          1.486130374479889,
          1.489251040221914,
          1.5,
          1.4660194174757282,
          1.5,
          0.6279472954230236,
          1.4895977808599168,
          1.5,
          1.4798890429958391,
          1.5,
          1.480582524271845,
          1.5,
          0.8519417475728155,
          1.4868238557558946,
          1.3644244105409151,
          1.0977808599167822,
          1.3103328710124826,
          1.2035367545076283,
          1.492024965325936,
          1.4798890429958391,
          1.5,
          1.4004854368932038,
          1.480582524271845,
          1.473994452149792,
          1.4930651872399443,
          1.2610957004160888,
          1.2662968099861305,
          1.30374479889043,
          1.4889042995839112,
          1.4941054091539527,
          1.462898751733703,
          1.4895977808599168,
          1.3411927877947296,
          1.4882108183079057,
          1.4268377253814146,
          1.16123439667129,
          1.240984743411928,
          1.5,
          1.1681692094313454,
          1.4674063800277393,
          1.4913314840499303,
          1.4895977808599168,
          1.4941054091539527,
          1.4941054091539527,
          1.496879334257975,
          1.4837031900138695,
          1.5,
          1.4199029126213591,
          1.4733009708737863,
          1.0388349514563109,
          1.4344660194174756,
          1.5,
          1.5,
          1.4781553398058251,
          1.5,
          1.5,
          1.5,
          1.2864077669902914,
          1.477115117891817,
          1.5,
          1.5,
          0.746879334257975,
          1.5,
          1.4927184466019416,
          1.3994452149791956,
          1.0450762829403606,
          1.5,
          1.4257975034674064,
          1.3248959778085991,
          1.375866851595007,
          1.490638002773925,
          1.4837031900138695,
          1.447988904299584,
          1.3127600554785022,
          1.3765603328710123,
          1.5,
          1.5,
          1.4837031900138695,
          1.2496532593619971,
          1.4590846047156727,
          1.4233703190013869,
          1.4726074895977808,
          1.5,
          1.5,
          1.1983356449375866,
          1.5,
          1.4663661581137308,
          1.4951456310679612,
          1.277739251040222,
          1.460124826629681,
          1.5,
          1.4954923717059638,
          1.5,
          1.5,
          1.5,
          1.4115811373092926,
          1.279126213592233,
          1.4930651872399443,
          1.5,
          1.5,
          1.467753120665742,
          1.4635922330097086,
          1.151872399445215,
          1.4205963938973647,
          1.5,
          1.4812760055478502,
          1.3040915395284327,
          1.5,
          1.4368932038834952,
          1.401872399445215,
          1.483009708737864,
          1.5,
          1.4902912621359223,
          1.3890429958391124,
          1.4878640776699028,
          1.4899445214979194,
          1.440360610263523,
          1.5,
          1.1712898751733702,
          1.444174757281553,
          1.496879334257975,
          1.4954923717059638,
          1.444174757281553,
          1.4622052704576975,
          1.5,
          1.2548543689320388,
          1.4719140083217752,
          1.2649098474341194,
          1.5,
          1.3644244105409151,
          1.5,
          1.2219140083217752,
          1.44001386962552,
          1.5,
          1.5,
          1.4518030513176143,
          1.4275312066574202,
          1.5,
          1.4798890429958391,
          1.4240638002773924,
          1.470873786407767,
          1.5,
          1.5,
          1.3997919556171985,
          1.317267683772538,
          1.5,
          1.4944521497919556,
          1.5,
          1.5,
          1.4882108183079057,
          1.4597780859916782,
          1.365117891816921,
          1.5,
          0.9320388349514565,
          1.3699722607489595,
          1.4230235783633842,
          1.5,
          1.5,
          1.5,
          1.4545769764216363,
          1.5,
          1.484743411927878,
          1.3776005547850207,
          1.299237170596394,
          1.4257975034674064,
          1.4358529819694867,
          1.5,
          1.5,
          1.1217059639389737,
          1.4119278779472957,
          1.5,
          1.5,
          1.477115117891817,
          1.302357836338419,
          1.3491678224687933,
          1.3131067961165048,
          1.5,
          1.4972260748959778,
          1.4965325936199725,
          1.5,
          1.167128987517337,
          1.1508321775312067,
          1.4947988904299585,
          1.5,
          1.4379334257975034,
          1.4618585298196949,
          1.5,
          1.5,
          1.4934119278779472,
          1.4951456310679612,
          1.2645631067961165,
          1.5,
          1.4934119278779472,
          1.2097780859916782,
          1.4791955617198336,
          1.4393203883495145,
          1.4361997226074896,
          1.4913314840499303,
          1.490984743411928,
          0.7805131761442441,
          1.2985436893203883,
          1.2780859916782248,
          1.5,
          1.1972954230235784,
          1.3616504854368932,
          1.3779472954230236,
          0.984743411927878,
          1.272884882108183,
          1.4729542302357836,
          1.4868238557558946,
          1.5,
          1.1556865464632455,
          1.5,
          1.4927184466019416,
          null
         ],
         "y0": " ",
         "yaxis": "y"
        },
        {
         "line": {
          "color": "green",
          "width": 2
         },
         "mode": "lines",
         "name": "mean",
         "showlegend": true,
         "type": "scatter",
         "x": [
          "hj_naive",
          "hj_reactive",
          "flocking"
         ],
         "y": [
          1.0869452149791954,
          1.2194893548093182,
          1.4108503244682467
         ]
        }
       ],
       "layout": {
        "boxmode": "group",
        "legend": {
         "tracegroupgap": 0
        },
        "margin": {
         "t": 60
        },
        "template": {
         "data": {
          "bar": [
           {
            "error_x": {
             "color": "#2a3f5f"
            },
            "error_y": {
             "color": "#2a3f5f"
            },
            "marker": {
             "line": {
              "color": "#E5ECF6",
              "width": 0.5
             },
             "pattern": {
              "fillmode": "overlay",
              "size": 10,
              "solidity": 0.2
             }
            },
            "type": "bar"
           }
          ],
          "barpolar": [
           {
            "marker": {
             "line": {
              "color": "#E5ECF6",
              "width": 0.5
             },
             "pattern": {
              "fillmode": "overlay",
              "size": 10,
              "solidity": 0.2
             }
            },
            "type": "barpolar"
           }
          ],
          "carpet": [
           {
            "aaxis": {
             "endlinecolor": "#2a3f5f",
             "gridcolor": "white",
             "linecolor": "white",
             "minorgridcolor": "white",
             "startlinecolor": "#2a3f5f"
            },
            "baxis": {
             "endlinecolor": "#2a3f5f",
             "gridcolor": "white",
             "linecolor": "white",
             "minorgridcolor": "white",
             "startlinecolor": "#2a3f5f"
            },
            "type": "carpet"
           }
          ],
          "choropleth": [
           {
            "colorbar": {
             "outlinewidth": 0,
             "ticks": ""
            },
            "type": "choropleth"
           }
          ],
          "contour": [
           {
            "colorbar": {
             "outlinewidth": 0,
             "ticks": ""
            },
            "colorscale": [
             [
              0,
              "#0d0887"
             ],
             [
              0.1111111111111111,
              "#46039f"
             ],
             [
              0.2222222222222222,
              "#7201a8"
             ],
             [
              0.3333333333333333,
              "#9c179e"
             ],
             [
              0.4444444444444444,
              "#bd3786"
             ],
             [
              0.5555555555555556,
              "#d8576b"
             ],
             [
              0.6666666666666666,
              "#ed7953"
             ],
             [
              0.7777777777777778,
              "#fb9f3a"
             ],
             [
              0.8888888888888888,
              "#fdca26"
             ],
             [
              1,
              "#f0f921"
             ]
            ],
            "type": "contour"
           }
          ],
          "contourcarpet": [
           {
            "colorbar": {
             "outlinewidth": 0,
             "ticks": ""
            },
            "type": "contourcarpet"
           }
          ],
          "heatmap": [
           {
            "colorbar": {
             "outlinewidth": 0,
             "ticks": ""
            },
            "colorscale": [
             [
              0,
              "#0d0887"
             ],
             [
              0.1111111111111111,
              "#46039f"
             ],
             [
              0.2222222222222222,
              "#7201a8"
             ],
             [
              0.3333333333333333,
              "#9c179e"
             ],
             [
              0.4444444444444444,
              "#bd3786"
             ],
             [
              0.5555555555555556,
              "#d8576b"
             ],
             [
              0.6666666666666666,
              "#ed7953"
             ],
             [
              0.7777777777777778,
              "#fb9f3a"
             ],
             [
              0.8888888888888888,
              "#fdca26"
             ],
             [
              1,
              "#f0f921"
             ]
            ],
            "type": "heatmap"
           }
          ],
          "heatmapgl": [
           {
            "colorbar": {
             "outlinewidth": 0,
             "ticks": ""
            },
            "colorscale": [
             [
              0,
              "#0d0887"
             ],
             [
              0.1111111111111111,
              "#46039f"
             ],
             [
              0.2222222222222222,
              "#7201a8"
             ],
             [
              0.3333333333333333,
              "#9c179e"
             ],
             [
              0.4444444444444444,
              "#bd3786"
             ],
             [
              0.5555555555555556,
              "#d8576b"
             ],
             [
              0.6666666666666666,
              "#ed7953"
             ],
             [
              0.7777777777777778,
              "#fb9f3a"
             ],
             [
              0.8888888888888888,
              "#fdca26"
             ],
             [
              1,
              "#f0f921"
             ]
            ],
            "type": "heatmapgl"
           }
          ],
          "histogram": [
           {
            "marker": {
             "pattern": {
              "fillmode": "overlay",
              "size": 10,
              "solidity": 0.2
             }
            },
            "type": "histogram"
           }
          ],
          "histogram2d": [
           {
            "colorbar": {
             "outlinewidth": 0,
             "ticks": ""
            },
            "colorscale": [
             [
              0,
              "#0d0887"
             ],
             [
              0.1111111111111111,
              "#46039f"
             ],
             [
              0.2222222222222222,
              "#7201a8"
             ],
             [
              0.3333333333333333,
              "#9c179e"
             ],
             [
              0.4444444444444444,
              "#bd3786"
             ],
             [
              0.5555555555555556,
              "#d8576b"
             ],
             [
              0.6666666666666666,
              "#ed7953"
             ],
             [
              0.7777777777777778,
              "#fb9f3a"
             ],
             [
              0.8888888888888888,
              "#fdca26"
             ],
             [
              1,
              "#f0f921"
             ]
            ],
            "type": "histogram2d"
           }
          ],
          "histogram2dcontour": [
           {
            "colorbar": {
             "outlinewidth": 0,
             "ticks": ""
            },
            "colorscale": [
             [
              0,
              "#0d0887"
             ],
             [
              0.1111111111111111,
              "#46039f"
             ],
             [
              0.2222222222222222,
              "#7201a8"
             ],
             [
              0.3333333333333333,
              "#9c179e"
             ],
             [
              0.4444444444444444,
              "#bd3786"
             ],
             [
              0.5555555555555556,
              "#d8576b"
             ],
             [
              0.6666666666666666,
              "#ed7953"
             ],
             [
              0.7777777777777778,
              "#fb9f3a"
             ],
             [
              0.8888888888888888,
              "#fdca26"
             ],
             [
              1,
              "#f0f921"
             ]
            ],
            "type": "histogram2dcontour"
           }
          ],
          "mesh3d": [
           {
            "colorbar": {
             "outlinewidth": 0,
             "ticks": ""
            },
            "type": "mesh3d"
           }
          ],
          "parcoords": [
           {
            "line": {
             "colorbar": {
              "outlinewidth": 0,
              "ticks": ""
             }
            },
            "type": "parcoords"
           }
          ],
          "pie": [
           {
            "automargin": true,
            "type": "pie"
           }
          ],
          "scatter": [
           {
            "fillpattern": {
             "fillmode": "overlay",
             "size": 10,
             "solidity": 0.2
            },
            "type": "scatter"
           }
          ],
          "scatter3d": [
           {
            "line": {
             "colorbar": {
              "outlinewidth": 0,
              "ticks": ""
             }
            },
            "marker": {
             "colorbar": {
              "outlinewidth": 0,
              "ticks": ""
             }
            },
            "type": "scatter3d"
           }
          ],
          "scattercarpet": [
           {
            "marker": {
             "colorbar": {
              "outlinewidth": 0,
              "ticks": ""
             }
            },
            "type": "scattercarpet"
           }
          ],
          "scattergeo": [
           {
            "marker": {
             "colorbar": {
              "outlinewidth": 0,
              "ticks": ""
             }
            },
            "type": "scattergeo"
           }
          ],
          "scattergl": [
           {
            "marker": {
             "colorbar": {
              "outlinewidth": 0,
              "ticks": ""
             }
            },
            "type": "scattergl"
           }
          ],
          "scattermapbox": [
           {
            "marker": {
             "colorbar": {
              "outlinewidth": 0,
              "ticks": ""
             }
            },
            "type": "scattermapbox"
           }
          ],
          "scatterpolar": [
           {
            "marker": {
             "colorbar": {
              "outlinewidth": 0,
              "ticks": ""
             }
            },
            "type": "scatterpolar"
           }
          ],
          "scatterpolargl": [
           {
            "marker": {
             "colorbar": {
              "outlinewidth": 0,
              "ticks": ""
             }
            },
            "type": "scatterpolargl"
           }
          ],
          "scatterternary": [
           {
            "marker": {
             "colorbar": {
              "outlinewidth": 0,
              "ticks": ""
             }
            },
            "type": "scatterternary"
           }
          ],
          "surface": [
           {
            "colorbar": {
             "outlinewidth": 0,
             "ticks": ""
            },
            "colorscale": [
             [
              0,
              "#0d0887"
             ],
             [
              0.1111111111111111,
              "#46039f"
             ],
             [
              0.2222222222222222,
              "#7201a8"
             ],
             [
              0.3333333333333333,
              "#9c179e"
             ],
             [
              0.4444444444444444,
              "#bd3786"
             ],
             [
              0.5555555555555556,
              "#d8576b"
             ],
             [
              0.6666666666666666,
              "#ed7953"
             ],
             [
              0.7777777777777778,
              "#fb9f3a"
             ],
             [
              0.8888888888888888,
              "#fdca26"
             ],
             [
              1,
              "#f0f921"
             ]
            ],
            "type": "surface"
           }
          ],
          "table": [
           {
            "cells": {
             "fill": {
              "color": "#EBF0F8"
             },
             "line": {
              "color": "white"
             }
            },
            "header": {
             "fill": {
              "color": "#C8D4E3"
             },
             "line": {
              "color": "white"
             }
            },
            "type": "table"
           }
          ]
         },
         "layout": {
          "annotationdefaults": {
           "arrowcolor": "#2a3f5f",
           "arrowhead": 0,
           "arrowwidth": 1
          },
          "autotypenumbers": "strict",
          "coloraxis": {
           "colorbar": {
            "outlinewidth": 0,
            "ticks": ""
           }
          },
          "colorscale": {
           "diverging": [
            [
             0,
             "#8e0152"
            ],
            [
             0.1,
             "#c51b7d"
            ],
            [
             0.2,
             "#de77ae"
            ],
            [
             0.3,
             "#f1b6da"
            ],
            [
             0.4,
             "#fde0ef"
            ],
            [
             0.5,
             "#f7f7f7"
            ],
            [
             0.6,
             "#e6f5d0"
            ],
            [
             0.7,
             "#b8e186"
            ],
            [
             0.8,
             "#7fbc41"
            ],
            [
             0.9,
             "#4d9221"
            ],
            [
             1,
             "#276419"
            ]
           ],
           "sequential": [
            [
             0,
             "#0d0887"
            ],
            [
             0.1111111111111111,
             "#46039f"
            ],
            [
             0.2222222222222222,
             "#7201a8"
            ],
            [
             0.3333333333333333,
             "#9c179e"
            ],
            [
             0.4444444444444444,
             "#bd3786"
            ],
            [
             0.5555555555555556,
             "#d8576b"
            ],
            [
             0.6666666666666666,
             "#ed7953"
            ],
            [
             0.7777777777777778,
             "#fb9f3a"
            ],
            [
             0.8888888888888888,
             "#fdca26"
            ],
            [
             1,
             "#f0f921"
            ]
           ],
           "sequentialminus": [
            [
             0,
             "#0d0887"
            ],
            [
             0.1111111111111111,
             "#46039f"
            ],
            [
             0.2222222222222222,
             "#7201a8"
            ],
            [
             0.3333333333333333,
             "#9c179e"
            ],
            [
             0.4444444444444444,
             "#bd3786"
            ],
            [
             0.5555555555555556,
             "#d8576b"
            ],
            [
             0.6666666666666666,
             "#ed7953"
            ],
            [
             0.7777777777777778,
             "#fb9f3a"
            ],
            [
             0.8888888888888888,
             "#fdca26"
            ],
            [
             1,
             "#f0f921"
            ]
           ]
          },
          "colorway": [
           "#636efa",
           "#EF553B",
           "#00cc96",
           "#ab63fa",
           "#FFA15A",
           "#19d3f3",
           "#FF6692",
           "#B6E880",
           "#FF97FF",
           "#FECB52"
          ],
          "font": {
           "color": "#2a3f5f"
          },
          "geo": {
           "bgcolor": "white",
           "lakecolor": "white",
           "landcolor": "#E5ECF6",
           "showlakes": true,
           "showland": true,
           "subunitcolor": "white"
          },
          "hoverlabel": {
           "align": "left"
          },
          "hovermode": "closest",
          "mapbox": {
           "style": "light"
          },
          "paper_bgcolor": "white",
          "plot_bgcolor": "#E5ECF6",
          "polar": {
           "angularaxis": {
            "gridcolor": "white",
            "linecolor": "white",
            "ticks": ""
           },
           "bgcolor": "#E5ECF6",
           "radialaxis": {
            "gridcolor": "white",
            "linecolor": "white",
            "ticks": ""
           }
          },
          "scene": {
           "xaxis": {
            "backgroundcolor": "#E5ECF6",
            "gridcolor": "white",
            "gridwidth": 2,
            "linecolor": "white",
            "showbackground": true,
            "ticks": "",
            "zerolinecolor": "white"
           },
           "yaxis": {
            "backgroundcolor": "#E5ECF6",
            "gridcolor": "white",
            "gridwidth": 2,
            "linecolor": "white",
            "showbackground": true,
            "ticks": "",
            "zerolinecolor": "white"
           },
           "zaxis": {
            "backgroundcolor": "#E5ECF6",
            "gridcolor": "white",
            "gridwidth": 2,
            "linecolor": "white",
            "showbackground": true,
            "ticks": "",
            "zerolinecolor": "white"
           }
          },
          "shapedefaults": {
           "line": {
            "color": "#2a3f5f"
           }
          },
          "ternary": {
           "aaxis": {
            "gridcolor": "white",
            "linecolor": "white",
            "ticks": ""
           },
           "baxis": {
            "gridcolor": "white",
            "linecolor": "white",
            "ticks": ""
           },
           "bgcolor": "#E5ECF6",
           "caxis": {
            "gridcolor": "white",
            "linecolor": "white",
            "ticks": ""
           }
          },
          "title": {
           "x": 0.05
          },
          "xaxis": {
           "automargin": true,
           "gridcolor": "white",
           "linecolor": "white",
           "ticks": "",
           "title": {
            "standoff": 15
           },
           "zerolinecolor": "white",
           "zerolinewidth": 2
          },
          "yaxis": {
           "automargin": true,
           "gridcolor": "white",
           "linecolor": "white",
           "ticks": "",
           "title": {
            "standoff": 15
           },
           "zerolinecolor": "white",
           "zerolinewidth": 2
          }
         }
        },
        "xaxis": {
         "anchor": "y",
         "domain": [
          0,
          1
         ],
         "title": {
          "text": "controllers"
         }
        },
        "yaxis": {
         "anchor": "x",
         "domain": [
          0,
          1
         ],
         "title": {
          "text": "Average Beta Index over Missions"
         }
        }
       }
      },
      "text/html": [
       "<div>                            <div id=\"0a08bdae-81eb-433b-9c07-b5476a877f6d\" class=\"plotly-graph-div\" style=\"height:525px; width:100%;\"></div>            <script type=\"text/javascript\">                require([\"plotly\"], function(Plotly) {                    window.PLOTLYENV=window.PLOTLYENV || {};                                    if (document.getElementById(\"0a08bdae-81eb-433b-9c07-b5476a877f6d\")) {                    Plotly.newPlot(                        \"0a08bdae-81eb-433b-9c07-b5476a877f6d\",                        [{\"alignmentgroup\":\"True\",\"hovertemplate\":\"variable=%{x}<br>value=%{y}<extra></extra>\",\"legendgroup\":\"\",\"marker\":{\"color\":\"#636efa\"},\"name\":\"\",\"notched\":false,\"offsetgroup\":\"\",\"orientation\":\"v\",\"showlegend\":false,\"x\":[\"hj_naive\",\"hj_naive\",\"hj_naive\",\"hj_naive\",\"hj_naive\",\"hj_naive\",\"hj_naive\",\"hj_naive\",\"hj_naive\",\"hj_naive\",\"hj_naive\",\"hj_naive\",\"hj_naive\",\"hj_naive\",\"hj_naive\",\"hj_naive\",\"hj_naive\",\"hj_naive\",\"hj_naive\",\"hj_naive\",\"hj_naive\",\"hj_naive\",\"hj_naive\",\"hj_naive\",\"hj_naive\",\"hj_naive\",\"hj_naive\",\"hj_naive\",\"hj_naive\",\"hj_naive\",\"hj_naive\",\"hj_naive\",\"hj_naive\",\"hj_naive\",\"hj_naive\",\"hj_naive\",\"hj_naive\",\"hj_naive\",\"hj_naive\",\"hj_naive\",\"hj_naive\",\"hj_naive\",\"hj_naive\",\"hj_naive\",\"hj_naive\",\"hj_naive\",\"hj_naive\",\"hj_naive\",\"hj_naive\",\"hj_naive\",\"hj_naive\",\"hj_naive\",\"hj_naive\",\"hj_naive\",\"hj_naive\",\"hj_naive\",\"hj_naive\",\"hj_naive\",\"hj_naive\",\"hj_naive\",\"hj_naive\",\"hj_naive\",\"hj_naive\",\"hj_naive\",\"hj_naive\",\"hj_naive\",\"hj_naive\",\"hj_naive\",\"hj_naive\",\"hj_naive\",\"hj_naive\",\"hj_naive\",\"hj_naive\",\"hj_naive\",\"hj_naive\",\"hj_naive\",\"hj_naive\",\"hj_naive\",\"hj_naive\",\"hj_naive\",\"hj_naive\",\"hj_naive\",\"hj_naive\",\"hj_naive\",\"hj_naive\",\"hj_naive\",\"hj_naive\",\"hj_naive\",\"hj_naive\",\"hj_naive\",\"hj_naive\",\"hj_naive\",\"hj_naive\",\"hj_naive\",\"hj_naive\",\"hj_naive\",\"hj_naive\",\"hj_naive\",\"hj_naive\",\"hj_naive\",\"hj_naive\",\"hj_naive\",\"hj_naive\",\"hj_naive\",\"hj_naive\",\"hj_naive\",\"hj_naive\",\"hj_naive\",\"hj_naive\",\"hj_naive\",\"hj_naive\",\"hj_naive\",\"hj_naive\",\"hj_naive\",\"hj_naive\",\"hj_naive\",\"hj_naive\",\"hj_naive\",\"hj_naive\",\"hj_naive\",\"hj_naive\",\"hj_naive\",\"hj_naive\",\"hj_naive\",\"hj_naive\",\"hj_naive\",\"hj_naive\",\"hj_naive\",\"hj_naive\",\"hj_naive\",\"hj_naive\",\"hj_naive\",\"hj_naive\",\"hj_naive\",\"hj_naive\",\"hj_naive\",\"hj_naive\",\"hj_naive\",\"hj_naive\",\"hj_naive\",\"hj_naive\",\"hj_naive\",\"hj_naive\",\"hj_naive\",\"hj_naive\",\"hj_naive\",\"hj_naive\",\"hj_naive\",\"hj_naive\",\"hj_naive\",\"hj_naive\",\"hj_naive\",\"hj_naive\",\"hj_naive\",\"hj_naive\",\"hj_naive\",\"hj_naive\",\"hj_naive\",\"hj_naive\",\"hj_naive\",\"hj_naive\",\"hj_naive\",\"hj_naive\",\"hj_naive\",\"hj_naive\",\"hj_naive\",\"hj_naive\",\"hj_naive\",\"hj_naive\",\"hj_naive\",\"hj_naive\",\"hj_naive\",\"hj_naive\",\"hj_naive\",\"hj_naive\",\"hj_naive\",\"hj_naive\",\"hj_naive\",\"hj_naive\",\"hj_naive\",\"hj_naive\",\"hj_naive\",\"hj_naive\",\"hj_naive\",\"hj_naive\",\"hj_naive\",\"hj_naive\",\"hj_naive\",\"hj_naive\",\"hj_naive\",\"hj_naive\",\"hj_naive\",\"hj_naive\",\"hj_naive\",\"hj_naive\",\"hj_naive\",\"hj_naive\",\"hj_naive\",\"hj_naive\",\"hj_naive\",\"hj_naive\",\"hj_naive\",\"hj_naive\",\"hj_naive\",\"hj_naive\",\"hj_naive\",\"hj_naive\",\"hj_naive\",\"hj_naive\",\"hj_naive\",\"hj_naive\",\"hj_naive\",\"hj_naive\",\"hj_naive\",\"hj_naive\",\"hj_naive\",\"hj_naive\",\"hj_naive\",\"hj_naive\",\"hj_naive\",\"hj_naive\",\"hj_naive\",\"hj_naive\",\"hj_naive\",\"hj_naive\",\"hj_naive\",\"hj_naive\",\"hj_naive\",\"hj_naive\",\"hj_naive\",\"hj_naive\",\"hj_naive\",\"hj_naive\",\"hj_naive\",\"hj_naive\",\"hj_naive\",\"hj_naive\",\"hj_naive\",\"hj_naive\",\"hj_naive\",\"hj_naive\",\"hj_naive\",\"hj_naive\",\"hj_naive\",\"hj_naive\",\"hj_naive\",\"hj_naive\",\"hj_naive\",\"hj_naive\",\"hj_naive\",\"hj_naive\",\"hj_naive\",\"hj_naive\",\"hj_naive\",\"hj_naive\",\"hj_naive\",\"hj_naive\",\"hj_naive\",\"hj_naive\",\"hj_naive\",\"hj_naive\",\"hj_naive\",\"hj_naive\",\"hj_naive\",\"hj_naive\",\"hj_naive\",\"hj_naive\",\"hj_naive\",\"hj_naive\",\"hj_naive\",\"hj_naive\",\"hj_naive\",\"hj_naive\",\"hj_naive\",\"hj_naive\",\"hj_naive\",\"hj_naive\",\"hj_naive\",\"hj_naive\",\"hj_naive\",\"hj_naive\",\"hj_naive\",\"hj_naive\",\"hj_naive\",\"hj_naive\",\"hj_naive\",\"hj_naive\",\"hj_naive\",\"hj_naive\",\"hj_naive\",\"hj_naive\",\"hj_naive\",\"hj_naive\",\"hj_naive\",\"hj_naive\",\"hj_naive\",\"hj_naive\",\"hj_naive\",\"hj_naive\",\"hj_naive\",\"hj_naive\",\"hj_naive\",\"hj_naive\",\"hj_naive\",\"hj_naive\",\"hj_naive\",\"hj_naive\",\"hj_naive\",\"hj_naive\",\"hj_naive\",\"hj_naive\",\"hj_naive\",\"hj_naive\",\"hj_naive\",\"hj_naive\",\"hj_naive\",\"hj_naive\",\"hj_naive\",\"hj_naive\",\"hj_naive\",\"hj_naive\",\"hj_naive\",\"hj_naive\",\"hj_naive\",\"hj_naive\",\"hj_naive\",\"hj_naive\",\"hj_naive\",\"hj_naive\",\"hj_naive\",\"hj_naive\",\"hj_naive\",\"hj_naive\",\"hj_naive\",\"hj_naive\",\"hj_naive\",\"hj_naive\",\"hj_naive\",\"hj_naive\",\"hj_naive\",\"hj_naive\",\"hj_naive\",\"hj_naive\",\"hj_naive\",\"hj_naive\",\"hj_naive\",\"hj_naive\",\"hj_naive\",\"hj_naive\",\"hj_naive\",\"hj_naive\",\"hj_naive\",\"hj_naive\",\"hj_naive\",\"hj_naive\",\"hj_naive\",\"hj_naive\",\"hj_naive\",\"hj_naive\",\"hj_naive\",\"hj_naive\",\"hj_naive\",\"hj_naive\",\"hj_naive\",\"hj_naive\",\"hj_naive\",\"hj_naive\",\"hj_naive\",\"hj_naive\",\"hj_naive\",\"hj_naive\",\"hj_naive\",\"hj_naive\",\"hj_naive\",\"hj_naive\",\"hj_naive\",\"hj_naive\",\"hj_naive\",\"hj_naive\",\"hj_naive\",\"hj_naive\",\"hj_naive\",\"hj_naive\",\"hj_naive\",\"hj_naive\",\"hj_naive\",\"hj_naive\",\"hj_naive\",\"hj_naive\",\"hj_naive\",\"hj_naive\",\"hj_naive\",\"hj_naive\",\"hj_naive\",\"hj_naive\",\"hj_naive\",\"hj_naive\",\"hj_naive\",\"hj_naive\",\"hj_naive\",\"hj_naive\",\"hj_naive\",\"hj_naive\",\"hj_naive\",\"hj_naive\",\"hj_naive\",\"hj_naive\",\"hj_naive\",\"hj_naive\",\"hj_naive\",\"hj_naive\",\"hj_naive\",\"hj_naive\",\"hj_naive\",\"hj_naive\",\"hj_naive\",\"hj_naive\",\"hj_naive\",\"hj_naive\",\"hj_naive\",\"hj_naive\",\"hj_naive\",\"hj_naive\",\"hj_naive\",\"hj_naive\",\"hj_naive\",\"hj_naive\",\"hj_naive\",\"hj_naive\",\"hj_naive\",\"hj_naive\",\"hj_naive\",\"hj_naive\",\"hj_naive\",\"hj_naive\",\"hj_naive\",\"hj_naive\",\"hj_naive\",\"hj_naive\",\"hj_naive\",\"hj_naive\",\"hj_naive\",\"hj_naive\",\"hj_naive\",\"hj_naive\",\"hj_naive\",\"hj_naive\",\"hj_naive\",\"hj_naive\",\"hj_naive\",\"hj_naive\",\"hj_naive\",\"hj_naive\",\"hj_naive\",\"hj_naive\",\"hj_naive\",\"hj_naive\",\"hj_naive\",\"hj_naive\",\"hj_naive\",\"hj_naive\",\"hj_naive\",\"hj_naive\",\"hj_naive\",\"hj_naive\",\"hj_naive\",\"hj_naive\",\"hj_naive\",\"hj_naive\",\"hj_naive\",\"hj_naive\",\"hj_naive\",\"hj_naive\",\"hj_naive\",\"hj_naive\",\"hj_naive\",\"hj_naive\",\"hj_naive\",\"hj_naive\",\"hj_naive\",\"hj_naive\",\"hj_naive\",\"hj_naive\",\"hj_naive\",\"hj_naive\",\"hj_naive\",\"hj_naive\",\"hj_naive\",\"hj_naive\",\"hj_naive\",\"hj_naive\",\"hj_naive\",\"hj_naive\",\"hj_naive\",\"hj_naive\",\"hj_naive\",\"hj_naive\",\"hj_naive\",\"hj_naive\",\"hj_naive\",\"hj_naive\",\"hj_naive\",\"hj_naive\",\"hj_naive\",\"hj_naive\",\"hj_naive\",\"hj_naive\",\"hj_naive\",\"hj_naive\",\"hj_naive\",\"hj_naive\",\"hj_naive\",\"hj_naive\",\"hj_naive\",\"hj_naive\",\"hj_naive\",\"hj_naive\",\"hj_naive\",\"hj_naive\",\"hj_naive\",\"hj_naive\",\"hj_naive\",\"hj_naive\",\"hj_naive\",\"hj_naive\",\"hj_naive\",\"hj_naive\",\"hj_naive\",\"hj_naive\",\"hj_naive\",\"hj_naive\",\"hj_naive\",\"hj_naive\",\"hj_naive\",\"hj_naive\",\"hj_naive\",\"hj_naive\",\"hj_naive\",\"hj_naive\",\"hj_naive\",\"hj_naive\",\"hj_naive\",\"hj_naive\",\"hj_naive\",\"hj_naive\",\"hj_naive\",\"hj_naive\",\"hj_naive\",\"hj_naive\",\"hj_reactive\",\"hj_reactive\",\"hj_reactive\",\"hj_reactive\",\"hj_reactive\",\"hj_reactive\",\"hj_reactive\",\"hj_reactive\",\"hj_reactive\",\"hj_reactive\",\"hj_reactive\",\"hj_reactive\",\"hj_reactive\",\"hj_reactive\",\"hj_reactive\",\"hj_reactive\",\"hj_reactive\",\"hj_reactive\",\"hj_reactive\",\"hj_reactive\",\"hj_reactive\",\"hj_reactive\",\"hj_reactive\",\"hj_reactive\",\"hj_reactive\",\"hj_reactive\",\"hj_reactive\",\"hj_reactive\",\"hj_reactive\",\"hj_reactive\",\"hj_reactive\",\"hj_reactive\",\"hj_reactive\",\"hj_reactive\",\"hj_reactive\",\"hj_reactive\",\"hj_reactive\",\"hj_reactive\",\"hj_reactive\",\"hj_reactive\",\"hj_reactive\",\"hj_reactive\",\"hj_reactive\",\"hj_reactive\",\"hj_reactive\",\"hj_reactive\",\"hj_reactive\",\"hj_reactive\",\"hj_reactive\",\"hj_reactive\",\"hj_reactive\",\"hj_reactive\",\"hj_reactive\",\"hj_reactive\",\"hj_reactive\",\"hj_reactive\",\"hj_reactive\",\"hj_reactive\",\"hj_reactive\",\"hj_reactive\",\"hj_reactive\",\"hj_reactive\",\"hj_reactive\",\"hj_reactive\",\"hj_reactive\",\"hj_reactive\",\"hj_reactive\",\"hj_reactive\",\"hj_reactive\",\"hj_reactive\",\"hj_reactive\",\"hj_reactive\",\"hj_reactive\",\"hj_reactive\",\"hj_reactive\",\"hj_reactive\",\"hj_reactive\",\"hj_reactive\",\"hj_reactive\",\"hj_reactive\",\"hj_reactive\",\"hj_reactive\",\"hj_reactive\",\"hj_reactive\",\"hj_reactive\",\"hj_reactive\",\"hj_reactive\",\"hj_reactive\",\"hj_reactive\",\"hj_reactive\",\"hj_reactive\",\"hj_reactive\",\"hj_reactive\",\"hj_reactive\",\"hj_reactive\",\"hj_reactive\",\"hj_reactive\",\"hj_reactive\",\"hj_reactive\",\"hj_reactive\",\"hj_reactive\",\"hj_reactive\",\"hj_reactive\",\"hj_reactive\",\"hj_reactive\",\"hj_reactive\",\"hj_reactive\",\"hj_reactive\",\"hj_reactive\",\"hj_reactive\",\"hj_reactive\",\"hj_reactive\",\"hj_reactive\",\"hj_reactive\",\"hj_reactive\",\"hj_reactive\",\"hj_reactive\",\"hj_reactive\",\"hj_reactive\",\"hj_reactive\",\"hj_reactive\",\"hj_reactive\",\"hj_reactive\",\"hj_reactive\",\"hj_reactive\",\"hj_reactive\",\"hj_reactive\",\"hj_reactive\",\"hj_reactive\",\"hj_reactive\",\"hj_reactive\",\"hj_reactive\",\"hj_reactive\",\"hj_reactive\",\"hj_reactive\",\"hj_reactive\",\"hj_reactive\",\"hj_reactive\",\"hj_reactive\",\"hj_reactive\",\"hj_reactive\",\"hj_reactive\",\"hj_reactive\",\"hj_reactive\",\"hj_reactive\",\"hj_reactive\",\"hj_reactive\",\"hj_reactive\",\"hj_reactive\",\"hj_reactive\",\"hj_reactive\",\"hj_reactive\",\"hj_reactive\",\"hj_reactive\",\"hj_reactive\",\"hj_reactive\",\"hj_reactive\",\"hj_reactive\",\"hj_reactive\",\"hj_reactive\",\"hj_reactive\",\"hj_reactive\",\"hj_reactive\",\"hj_reactive\",\"hj_reactive\",\"hj_reactive\",\"hj_reactive\",\"hj_reactive\",\"hj_reactive\",\"hj_reactive\",\"hj_reactive\",\"hj_reactive\",\"hj_reactive\",\"hj_reactive\",\"hj_reactive\",\"hj_reactive\",\"hj_reactive\",\"hj_reactive\",\"hj_reactive\",\"hj_reactive\",\"hj_reactive\",\"hj_reactive\",\"hj_reactive\",\"hj_reactive\",\"hj_reactive\",\"hj_reactive\",\"hj_reactive\",\"hj_reactive\",\"hj_reactive\",\"hj_reactive\",\"hj_reactive\",\"hj_reactive\",\"hj_reactive\",\"hj_reactive\",\"hj_reactive\",\"hj_reactive\",\"hj_reactive\",\"hj_reactive\",\"hj_reactive\",\"hj_reactive\",\"hj_reactive\",\"hj_reactive\",\"hj_reactive\",\"hj_reactive\",\"hj_reactive\",\"hj_reactive\",\"hj_reactive\",\"hj_reactive\",\"hj_reactive\",\"hj_reactive\",\"hj_reactive\",\"hj_reactive\",\"hj_reactive\",\"hj_reactive\",\"hj_reactive\",\"hj_reactive\",\"hj_reactive\",\"hj_reactive\",\"hj_reactive\",\"hj_reactive\",\"hj_reactive\",\"hj_reactive\",\"hj_reactive\",\"hj_reactive\",\"hj_reactive\",\"hj_reactive\",\"hj_reactive\",\"hj_reactive\",\"hj_reactive\",\"hj_reactive\",\"hj_reactive\",\"hj_reactive\",\"hj_reactive\",\"hj_reactive\",\"hj_reactive\",\"hj_reactive\",\"hj_reactive\",\"hj_reactive\",\"hj_reactive\",\"hj_reactive\",\"hj_reactive\",\"hj_reactive\",\"hj_reactive\",\"hj_reactive\",\"hj_reactive\",\"hj_reactive\",\"hj_reactive\",\"hj_reactive\",\"hj_reactive\",\"hj_reactive\",\"hj_reactive\",\"hj_reactive\",\"hj_reactive\",\"hj_reactive\",\"hj_reactive\",\"hj_reactive\",\"hj_reactive\",\"hj_reactive\",\"hj_reactive\",\"hj_reactive\",\"hj_reactive\",\"hj_reactive\",\"hj_reactive\",\"hj_reactive\",\"hj_reactive\",\"hj_reactive\",\"hj_reactive\",\"hj_reactive\",\"hj_reactive\",\"hj_reactive\",\"hj_reactive\",\"hj_reactive\",\"hj_reactive\",\"hj_reactive\",\"hj_reactive\",\"hj_reactive\",\"hj_reactive\",\"hj_reactive\",\"hj_reactive\",\"hj_reactive\",\"hj_reactive\",\"hj_reactive\",\"hj_reactive\",\"hj_reactive\",\"hj_reactive\",\"hj_reactive\",\"hj_reactive\",\"hj_reactive\",\"hj_reactive\",\"hj_reactive\",\"hj_reactive\",\"hj_reactive\",\"hj_reactive\",\"hj_reactive\",\"hj_reactive\",\"hj_reactive\",\"hj_reactive\",\"hj_reactive\",\"hj_reactive\",\"hj_reactive\",\"hj_reactive\",\"hj_reactive\",\"hj_reactive\",\"hj_reactive\",\"hj_reactive\",\"hj_reactive\",\"hj_reactive\",\"hj_reactive\",\"hj_reactive\",\"hj_reactive\",\"hj_reactive\",\"hj_reactive\",\"hj_reactive\",\"hj_reactive\",\"hj_reactive\",\"hj_reactive\",\"hj_reactive\",\"hj_reactive\",\"hj_reactive\",\"hj_reactive\",\"hj_reactive\",\"hj_reactive\",\"hj_reactive\",\"hj_reactive\",\"hj_reactive\",\"hj_reactive\",\"hj_reactive\",\"hj_reactive\",\"hj_reactive\",\"hj_reactive\",\"hj_reactive\",\"hj_reactive\",\"hj_reactive\",\"hj_reactive\",\"hj_reactive\",\"hj_reactive\",\"hj_reactive\",\"hj_reactive\",\"hj_reactive\",\"hj_reactive\",\"hj_reactive\",\"hj_reactive\",\"hj_reactive\",\"hj_reactive\",\"hj_reactive\",\"hj_reactive\",\"hj_reactive\",\"hj_reactive\",\"hj_reactive\",\"hj_reactive\",\"hj_reactive\",\"hj_reactive\",\"hj_reactive\",\"hj_reactive\",\"hj_reactive\",\"hj_reactive\",\"hj_reactive\",\"hj_reactive\",\"hj_reactive\",\"hj_reactive\",\"hj_reactive\",\"hj_reactive\",\"hj_reactive\",\"hj_reactive\",\"hj_reactive\",\"hj_reactive\",\"hj_reactive\",\"hj_reactive\",\"hj_reactive\",\"hj_reactive\",\"hj_reactive\",\"hj_reactive\",\"hj_reactive\",\"hj_reactive\",\"hj_reactive\",\"hj_reactive\",\"hj_reactive\",\"hj_reactive\",\"hj_reactive\",\"hj_reactive\",\"hj_reactive\",\"hj_reactive\",\"hj_reactive\",\"hj_reactive\",\"hj_reactive\",\"hj_reactive\",\"hj_reactive\",\"hj_reactive\",\"hj_reactive\",\"hj_reactive\",\"hj_reactive\",\"hj_reactive\",\"hj_reactive\",\"hj_reactive\",\"hj_reactive\",\"hj_reactive\",\"hj_reactive\",\"hj_reactive\",\"hj_reactive\",\"hj_reactive\",\"hj_reactive\",\"hj_reactive\",\"hj_reactive\",\"hj_reactive\",\"hj_reactive\",\"hj_reactive\",\"hj_reactive\",\"hj_reactive\",\"hj_reactive\",\"hj_reactive\",\"hj_reactive\",\"hj_reactive\",\"hj_reactive\",\"hj_reactive\",\"hj_reactive\",\"hj_reactive\",\"hj_reactive\",\"hj_reactive\",\"hj_reactive\",\"hj_reactive\",\"hj_reactive\",\"hj_reactive\",\"hj_reactive\",\"hj_reactive\",\"hj_reactive\",\"hj_reactive\",\"hj_reactive\",\"hj_reactive\",\"hj_reactive\",\"hj_reactive\",\"hj_reactive\",\"hj_reactive\",\"hj_reactive\",\"hj_reactive\",\"hj_reactive\",\"hj_reactive\",\"hj_reactive\",\"hj_reactive\",\"hj_reactive\",\"hj_reactive\",\"hj_reactive\",\"hj_reactive\",\"hj_reactive\",\"hj_reactive\",\"hj_reactive\",\"hj_reactive\",\"hj_reactive\",\"hj_reactive\",\"hj_reactive\",\"hj_reactive\",\"hj_reactive\",\"hj_reactive\",\"hj_reactive\",\"hj_reactive\",\"hj_reactive\",\"hj_reactive\",\"hj_reactive\",\"hj_reactive\",\"hj_reactive\",\"hj_reactive\",\"hj_reactive\",\"hj_reactive\",\"hj_reactive\",\"hj_reactive\",\"hj_reactive\",\"hj_reactive\",\"hj_reactive\",\"hj_reactive\",\"hj_reactive\",\"hj_reactive\",\"hj_reactive\",\"hj_reactive\",\"hj_reactive\",\"hj_reactive\",\"hj_reactive\",\"hj_reactive\",\"hj_reactive\",\"hj_reactive\",\"hj_reactive\",\"hj_reactive\",\"hj_reactive\",\"hj_reactive\",\"hj_reactive\",\"hj_reactive\",\"hj_reactive\",\"hj_reactive\",\"hj_reactive\",\"hj_reactive\",\"hj_reactive\",\"hj_reactive\",\"hj_reactive\",\"hj_reactive\",\"hj_reactive\",\"hj_reactive\",\"hj_reactive\",\"hj_reactive\",\"hj_reactive\",\"hj_reactive\",\"hj_reactive\",\"hj_reactive\",\"hj_reactive\",\"hj_reactive\",\"hj_reactive\",\"hj_reactive\",\"hj_reactive\",\"hj_reactive\",\"hj_reactive\",\"hj_reactive\",\"hj_reactive\",\"hj_reactive\",\"hj_reactive\",\"hj_reactive\",\"hj_reactive\",\"hj_reactive\",\"hj_reactive\",\"hj_reactive\",\"hj_reactive\",\"hj_reactive\",\"hj_reactive\",\"hj_reactive\",\"hj_reactive\",\"hj_reactive\",\"hj_reactive\",\"hj_reactive\",\"hj_reactive\",\"hj_reactive\",\"hj_reactive\",\"hj_reactive\",\"hj_reactive\",\"hj_reactive\",\"hj_reactive\",\"hj_reactive\",\"hj_reactive\",\"hj_reactive\",\"hj_reactive\",\"hj_reactive\",\"hj_reactive\",\"hj_reactive\",\"hj_reactive\",\"hj_reactive\",\"hj_reactive\",\"hj_reactive\",\"hj_reactive\",\"hj_reactive\",\"hj_reactive\",\"hj_reactive\",\"hj_reactive\",\"hj_reactive\",\"hj_reactive\",\"flocking\",\"flocking\",\"flocking\",\"flocking\",\"flocking\",\"flocking\",\"flocking\",\"flocking\",\"flocking\",\"flocking\",\"flocking\",\"flocking\",\"flocking\",\"flocking\",\"flocking\",\"flocking\",\"flocking\",\"flocking\",\"flocking\",\"flocking\",\"flocking\",\"flocking\",\"flocking\",\"flocking\",\"flocking\",\"flocking\",\"flocking\",\"flocking\",\"flocking\",\"flocking\",\"flocking\",\"flocking\",\"flocking\",\"flocking\",\"flocking\",\"flocking\",\"flocking\",\"flocking\",\"flocking\",\"flocking\",\"flocking\",\"flocking\",\"flocking\",\"flocking\",\"flocking\",\"flocking\",\"flocking\",\"flocking\",\"flocking\",\"flocking\",\"flocking\",\"flocking\",\"flocking\",\"flocking\",\"flocking\",\"flocking\",\"flocking\",\"flocking\",\"flocking\",\"flocking\",\"flocking\",\"flocking\",\"flocking\",\"flocking\",\"flocking\",\"flocking\",\"flocking\",\"flocking\",\"flocking\",\"flocking\",\"flocking\",\"flocking\",\"flocking\",\"flocking\",\"flocking\",\"flocking\",\"flocking\",\"flocking\",\"flocking\",\"flocking\",\"flocking\",\"flocking\",\"flocking\",\"flocking\",\"flocking\",\"flocking\",\"flocking\",\"flocking\",\"flocking\",\"flocking\",\"flocking\",\"flocking\",\"flocking\",\"flocking\",\"flocking\",\"flocking\",\"flocking\",\"flocking\",\"flocking\",\"flocking\",\"flocking\",\"flocking\",\"flocking\",\"flocking\",\"flocking\",\"flocking\",\"flocking\",\"flocking\",\"flocking\",\"flocking\",\"flocking\",\"flocking\",\"flocking\",\"flocking\",\"flocking\",\"flocking\",\"flocking\",\"flocking\",\"flocking\",\"flocking\",\"flocking\",\"flocking\",\"flocking\",\"flocking\",\"flocking\",\"flocking\",\"flocking\",\"flocking\",\"flocking\",\"flocking\",\"flocking\",\"flocking\",\"flocking\",\"flocking\",\"flocking\",\"flocking\",\"flocking\",\"flocking\",\"flocking\",\"flocking\",\"flocking\",\"flocking\",\"flocking\",\"flocking\",\"flocking\",\"flocking\",\"flocking\",\"flocking\",\"flocking\",\"flocking\",\"flocking\",\"flocking\",\"flocking\",\"flocking\",\"flocking\",\"flocking\",\"flocking\",\"flocking\",\"flocking\",\"flocking\",\"flocking\",\"flocking\",\"flocking\",\"flocking\",\"flocking\",\"flocking\",\"flocking\",\"flocking\",\"flocking\",\"flocking\",\"flocking\",\"flocking\",\"flocking\",\"flocking\",\"flocking\",\"flocking\",\"flocking\",\"flocking\",\"flocking\",\"flocking\",\"flocking\",\"flocking\",\"flocking\",\"flocking\",\"flocking\",\"flocking\",\"flocking\",\"flocking\",\"flocking\",\"flocking\",\"flocking\",\"flocking\",\"flocking\",\"flocking\",\"flocking\",\"flocking\",\"flocking\",\"flocking\",\"flocking\",\"flocking\",\"flocking\",\"flocking\",\"flocking\",\"flocking\",\"flocking\",\"flocking\",\"flocking\",\"flocking\",\"flocking\",\"flocking\",\"flocking\",\"flocking\",\"flocking\",\"flocking\",\"flocking\",\"flocking\",\"flocking\",\"flocking\",\"flocking\",\"flocking\",\"flocking\",\"flocking\",\"flocking\",\"flocking\",\"flocking\",\"flocking\",\"flocking\",\"flocking\",\"flocking\",\"flocking\",\"flocking\",\"flocking\",\"flocking\",\"flocking\",\"flocking\",\"flocking\",\"flocking\",\"flocking\",\"flocking\",\"flocking\",\"flocking\",\"flocking\",\"flocking\",\"flocking\",\"flocking\",\"flocking\",\"flocking\",\"flocking\",\"flocking\",\"flocking\",\"flocking\",\"flocking\",\"flocking\",\"flocking\",\"flocking\",\"flocking\",\"flocking\",\"flocking\",\"flocking\",\"flocking\",\"flocking\",\"flocking\",\"flocking\",\"flocking\",\"flocking\",\"flocking\",\"flocking\",\"flocking\",\"flocking\",\"flocking\",\"flocking\",\"flocking\",\"flocking\",\"flocking\",\"flocking\",\"flocking\",\"flocking\",\"flocking\",\"flocking\",\"flocking\",\"flocking\",\"flocking\",\"flocking\",\"flocking\",\"flocking\",\"flocking\",\"flocking\",\"flocking\",\"flocking\",\"flocking\",\"flocking\",\"flocking\",\"flocking\",\"flocking\",\"flocking\",\"flocking\",\"flocking\",\"flocking\",\"flocking\",\"flocking\",\"flocking\",\"flocking\",\"flocking\",\"flocking\",\"flocking\",\"flocking\",\"flocking\",\"flocking\",\"flocking\",\"flocking\",\"flocking\",\"flocking\",\"flocking\",\"flocking\",\"flocking\",\"flocking\",\"flocking\",\"flocking\",\"flocking\",\"flocking\",\"flocking\",\"flocking\",\"flocking\",\"flocking\",\"flocking\",\"flocking\",\"flocking\",\"flocking\",\"flocking\",\"flocking\",\"flocking\",\"flocking\",\"flocking\",\"flocking\",\"flocking\",\"flocking\",\"flocking\",\"flocking\",\"flocking\",\"flocking\",\"flocking\",\"flocking\",\"flocking\",\"flocking\",\"flocking\",\"flocking\",\"flocking\",\"flocking\",\"flocking\",\"flocking\",\"flocking\",\"flocking\",\"flocking\",\"flocking\",\"flocking\",\"flocking\",\"flocking\",\"flocking\",\"flocking\",\"flocking\",\"flocking\",\"flocking\",\"flocking\",\"flocking\",\"flocking\",\"flocking\",\"flocking\",\"flocking\",\"flocking\",\"flocking\",\"flocking\",\"flocking\",\"flocking\",\"flocking\",\"flocking\",\"flocking\",\"flocking\",\"flocking\",\"flocking\",\"flocking\",\"flocking\",\"flocking\",\"flocking\",\"flocking\",\"flocking\",\"flocking\",\"flocking\",\"flocking\",\"flocking\",\"flocking\",\"flocking\",\"flocking\",\"flocking\",\"flocking\",\"flocking\",\"flocking\",\"flocking\",\"flocking\",\"flocking\",\"flocking\",\"flocking\",\"flocking\",\"flocking\",\"flocking\",\"flocking\",\"flocking\",\"flocking\",\"flocking\",\"flocking\",\"flocking\",\"flocking\",\"flocking\",\"flocking\",\"flocking\",\"flocking\",\"flocking\",\"flocking\",\"flocking\",\"flocking\",\"flocking\",\"flocking\",\"flocking\",\"flocking\",\"flocking\",\"flocking\",\"flocking\",\"flocking\",\"flocking\",\"flocking\",\"flocking\",\"flocking\",\"flocking\",\"flocking\",\"flocking\",\"flocking\",\"flocking\",\"flocking\",\"flocking\",\"flocking\",\"flocking\",\"flocking\",\"flocking\",\"flocking\",\"flocking\",\"flocking\",\"flocking\",\"flocking\",\"flocking\",\"flocking\",\"flocking\",\"flocking\",\"flocking\",\"flocking\",\"flocking\",\"flocking\",\"flocking\",\"flocking\",\"flocking\",\"flocking\",\"flocking\",\"flocking\",\"flocking\",\"flocking\",\"flocking\",\"flocking\",\"flocking\",\"flocking\",\"flocking\",\"flocking\",\"flocking\",\"flocking\",\"flocking\",\"flocking\",\"flocking\",\"flocking\",\"flocking\",\"flocking\",\"flocking\",\"flocking\",\"flocking\",\"flocking\",\"flocking\",\"flocking\",\"flocking\",\"flocking\",\"flocking\",\"flocking\",\"flocking\",\"flocking\",\"flocking\",\"flocking\",\"flocking\",\"flocking\",\"flocking\",\"flocking\",\"flocking\",\"flocking\",\"flocking\",\"flocking\",\"flocking\",\"flocking\",\"flocking\",\"flocking\",\"flocking\",\"flocking\",\"flocking\",\"flocking\",\"flocking\",\"flocking\",\"flocking\",\"flocking\",\"flocking\",\"flocking\",\"flocking\",\"flocking\",\"flocking\",\"flocking\",\"flocking\",\"flocking\",\"flocking\",\"flocking\",\"flocking\",\"flocking\",\"flocking\",\"flocking\",\"flocking\",\"flocking\",\"flocking\",\"flocking\",\"flocking\",\"flocking\",\"flocking\",\"flocking\",\"flocking\",\"flocking\",\"flocking\",\"flocking\",\"flocking\",\"flocking\",\"flocking\",\"flocking\",\"flocking\",\"flocking\",\"flocking\",\"flocking\",\"flocking\",\"flocking\",\"flocking\",\"flocking\"],\"x0\":\" \",\"xaxis\":\"x\",\"y\":[0.4504160887656033,0.8907766990291263,0.6903606102635229,1.3592233009708738,0.7503467406380028,0.6119972260748959,0.9535367545076284,1.3928571428571428,1.0516643550624134,1.480929264909847,0.9053398058252428,0.75,0.728502080443828,0.5388349514563107,0.94625520110957,0.8470873786407767,1.10124826629681,1.5,1.5,0.9334257975034674,1.4618585298196949,1.4375866851595007,0.8505547850208044,1.5,1.2368238557558946,0.8859223300970874,1.272884882108183,1.2739251040221915,1.5,0.8630374479889042,0.3890429958391123,0.6269070735090153,1.2666435506241331,0.3117198335644937,1.4129680998613037,1.4119278779472957,1.4871705963938973,0.9389736477115118,1.5,0.9698335644937588,0.9375866851595008,0.6279472954230236,0.8984049930651873,1.0104022191400832,1.1293342579750347,1.1279472954230236,0.3814147018030513,1.3689320388349515,0.9469486823855756,1.5,1.2850208044382805,1.5,1.2201803051317617,0.6119972260748959,0.7850208044382802,1.484743411927878,0.8432732316227461,1.484396671289875,1.013869625520111,0.8654646324549237,0.3391123439667129,1.2631761442441054,1.331484049930652,1.2985436893203883,1.3332177531206657,1.455270457697642,0.8436199722607489,1.4823162274618584,0.7406380027739251,0.5599861303744799,0.7330097087378641,0.7534674063800277,0.9316920943134536,1.228502080443828,0.4930651872399445,0.5371012482662968,1.3828016643550625,1.5,1.2680305131761442,1.234396671289875,1.5,0.7118585298196949,1.019417475728155,1.110263522884882,1.182385575589459,1.4902912621359223,1.4635922330097086,0.5253120665742025,0.4282246879334258,1.0870319001386963,0.4119278779472954,0.9261442441054092,0.6199722607489597,0.757628294036061,0.3203883495145631,0.3952843273231622,0.8242024965325936,1.5,1.1251733703190014,1.2527739251040222,1.5,1.5,0.4379334257975035,1.4726074895977808,1.145631067961165,1.4871705963938973,1.2718446601941749,0.6629680998613038,0.9913314840499308,1.4393203883495145,1.0256588072122053,0.7586685159500693,0.4864771151178918,0.6386962552011096,1.2160194174757282,1.141123439667129,1.2860610263522885,1.4670596393897364,1.4389736477115118,1.3186546463245492,0.5565187239944521,1.251733703190014,1.5,1.5,1.0714285714285714,0.6269070735090153,0.7877947295423023,1.4219833564493758,0.9947988904299584,0.4514563106796116,1.009015256588072,1.3585298196948683,1.5,1.4559639389736476,1.44001386962552,0.7718446601941747,1.5,1.5,1.1789181692094313,0.3186546463245492,1.4868238557558946,1.1033287101248266,1.5,1.4563106796116505,0.6983356449375867,1.4257975034674064,1.5,1.5,1.5,0.1106102635228848,1.5,1.116504854368932,1.3408460471567267,1.0045076282940362,1.5,1.5,1.4306518723994452,1.0922330097087378,0.8141470180305131,1.5,0.3748266296809986,0.5589459084604715,0.6470180305131762,0.481622746185853,0.3869625520110957,0.5787101248266296,0.7059639389736477,1.185506241331484,1.4576976421636616,1.5,0.7593619972260749,1.3228155339805825,0.7198335644937587,1.5,0.6140776699029126,1.2798196948682383,1.5,0.9205963938973648,1.2621359223300972,0.8959778085991679,1.1678224687933425,0.914008321775312,1.1331484049930651,1.185506241331484,1.5,1.5,1.440360610263523,1.0648404993065188,0.8595700416088765,1.4410540915395285,1.4472954230235784,0.2447988904299584,1.036754507628294,0.6861997226074896,0.5384882108183079,1.4947988904299585,1.3647711511789182,0.7295423023578363,1.412621359223301,1.476768377253814,1.0471567267683772,1.0669209431345354,0.5634535367545076,1.2999306518723994,0.7520804438280166,1.3658113730929264,1.3484743411927878,null,1.023231622746186,1.3283633841886269,0.467753120665742,1.125866851595007,1.3633841886269071,1.5,0.746879334257975,1.111997226074896,0.6445908460471568,1.2687239944521498,1.5,1.4053398058252426,1.5,1.1418169209431346,0.8685852981969486,1.5,1.4070735090152566,1.366158113730929,1.4875173370319,1.4289181692094313,0.7330097087378641,1.2988904299583912,1.5,1.0866851595006934,0.9812760055478502,0.6383495145631068,1.4549237170596394,1.0679611650485437,1.2756588072122053,0.938626907073509,1.5,1.4212898751733702,1.0142163661581138,0.7444521497919556,1.211511789181692,1.4056865464632455,0.934119278779473,1.049237170596394,0.8599167822468793,1.124133148404993,1.4292649098474342,1.055825242718447,0.6040221914008321,0.998266296809986,1.1955617198335644,0.753120665742025,0.7555478502080444,1.5,1.0665742024965326,1.3259361997226076,1.3717059639389737,1.029126213592233,1.5,1.2801664355062414,0.8484743411927878,0.707004160887656,1.5,1.5,1.5,0.6688626907073509,1.443134535367545,1.2004160887656032,0.6719833564493759,0.5988210818307905,1.412274618585298,1.0683079056865463,0.4798890429958391,1.5,1.5,1.042995839112344,0.921983356449376,1.2552011095700415,1.3460471567267684,0.5977808599167822,1.5,1.403606102635229,1.5,0.794382801664355,1.2839805825242718,1.4361997226074896,1.5,1.476768377253814,0.9108876560332873,0.8269764216366158,1.164008321775312,0.8453536754507628,1.5,1.4819694868238558,1.422330097087379,1.3169209431345354,1.021151178918169,0.8675450762829403,1.3203883495145632,0.9254507628294036,1.0499306518723994,1.5,0.8543689320388349,1.4348127600554783,1.2031900138696254,1.2763522884882108,1.4358529819694867,0.3488210818307906,0.75,0.9472954230235784,1.2264216366158114,0.8883495145631068,1.0162968099861305,0.8990984743411928,0.8013176144244105,0.2122052704576976,1.199029126213592,1.1716366158113731,0.587378640776699,1.1328016643550625,1.31622746185853,1.1144244105409151,1.0301664355062414,0.435506241331484,0.8488210818307905,1.4854368932038835,1.1719833564493758,1.4455617198335644,0.9875173370319,0.7271151178918169,0.8550624133148405,1.4778085991678225,0.9736477115117892,1.5,1.260748959778086,1.0970873786407769,1.0818307905686546,1.4514563106796117,1.397364771151179,0.75,1.4271844660194175,1.4483356449375866,0.6664355062413315,1.4070735090152566,1.415742024965326,0.188626907073509,1.1542995839112344,0.3009708737864077,0.9230235783633842,1.472260748959778,1.1466712898751734,1.1598474341192788,1.2718446601941749,1.3283633841886269,0.8224687933425797,1.404646324549237,0.2739251040221914,1.164008321775312,1.032246879334258,1.3491678224687933,1.098127600554785,0.3966712898751733,1.1858529819694867,0.7513869625520111,1.087378640776699,1.5,0.3963245492371706,1.3855755894590849,1.4178224687933425,1.3484743411927878,0.3155339805825243,1.3595700416088763,0.6865464632454924,0.8713592233009708,1.2180998613037448,1.5,0.731622746185853,0.941747572815534,1.0416088765603329,0.9528432732316228,0.8162274618585298,1.364077669902913,0.7586685159500693,1.3699722607489595,0.9680998613037448,1.5,1.280859916782247,1.4285714285714286,1.3016643550624134,0.8162274618585298,1.4642857142857142,1.1588072122052704,1.2250346740638005,1.023231622746186,0.963245492371706,0.7253814147018031,1.0034674063800275,1.5,0.8387656033287101,0.6959084604715673,1.0391816920943135,0.8755201109570042,1.30998613037448,1.0918862690707352,1.2094313453536754,1.0072815533980584,1.469140083217753,0.9036061026352288,1.3890429958391124,1.1296809986130374,1.1522191400832178,0.6969486823855756,1.5,1.0693481276005548,1.5,1.3484743411927878,0.5533980582524272,1.3994452149791956,1.016990291262136,1.4902912621359223,1.4642857142857142,1.3477808599167822,0.986130374479889,1.2184466019417477,1.3002773925104023,0.7447988904299584,0.9573509015256588,0.937239944521498,1.375866851595007,1.019417475728155,1.2122052704576975,1.4760748959778085,0.7801664355062413,0.8148404993065187,0.782246879334258,1.0922330097087378,0.6986823855755895,1.3748266296809986,1.1137309292649098,1.220527045769764,0.5339805825242718,0.4126213592233009,0.8089459084604715,1.1331484049930651,1.3363384188626908,1.4878640776699028,1.469486823855756,0.9282246879334258,1.2708044382801664,0.3384188626907073,1.435506241331484,1.3814147018030514,0.7153259361997226,0.8890429958391124,0.6934812760055479,0.8987517337031901,0.7579750346740638,1.3051317614424411,0.1712898751733703,1.317267683772538,0.4663661581137309,0.5880721220527045,1.35124826629681,1.3030513176144245,0.5745492371705964,1.144244105409154,0.8099861303744799,1.498266296809986,1.4514563106796117,1.5,1.2250346740638005,1.213245492371706,1.3401525658807212,1.4483356449375866,1.4088072122052704,0.8384188626907073,1.3782940360610263,0.5010402219140083,1.4687933425797504,1.061373092926491,0.9625520110957004,1.4011789181692094,0.9483356449375868,0.9108876560332873,1.1539528432732316,0.8436199722607489,1.0856449375866852,0.9171289875173372,1.469140083217753,1.2454923717059638,0.6695561719833565,1.2441054091539527,1.5,1.2385575589459084,1.5,0.5,0.4705270457697642,0.8540221914008321,0.8567961165048543,1.5,1.476768377253814,1.5,1.395631067961165,1.5,1.5,0.6490984743411928,0.9223300970873788,1.480929264909847,0.768377253814147,0.9008321775312068,1.5,0.9576976421636616,1.0669209431345354,0.4840499306518724,0.7694174757281553,1.2978502080443828,0.5898058252427184,1.3599167822468794,0.6296809986130375,0.4701803051317614,0.8242024965325936,0.7933425797503467,1.5,1.4084604715672675,1.5,0.9261442441054092,0.7000693481276006,0.7552011095700416,0.7399445214979196,0.8828016643550625,1.4857836338418862,1.3599167822468794,1.5,1.3769070735090152,0.924757281553398,1.0918862690707352,1.4472954230235784,1.0495839112343968,0.6848127600554785,1.144244105409154,0.9199029126213591,1.0565187239944522,1.2773925104022192,1.2610957004160888,0.9382801664355064,1.5,1.4795423023578362,1.3595700416088763,0.8096393897364771,0.9573509015256588,0.9788488210818308,1.3346047156726768,1.049237170596394,1.4389736477115118,1.2662968099861305,0.8671983356449375,1.4427877947295422,1.0256588072122053,0.9778085991678224,1.188626907073509,1.2382108183079057,0.7794729542302358,1.009361997226075,1.5,0.8630374479889042,1.2798196948682383,1.4563106796116505,1.5,1.0925797503467407,1.4635922330097086,0.9764216366158114,1.3200416088765603,1.5,1.5,1.3124133148404993,1.164008321775312,1.3519417475728157,1.2832871012482665,0.9244105409153952,0.8814147018030514,1.4129680998613037,1.4313453536754508,0.8782940360610264,1.30998613037448,1.447988904299584,1.219140083217753,1.2180998613037448,1.5,1.0835644937586686,0.8786407766990292,1.280513176144244,1.294729542302358,1.2291955617198336,1.4042995839112344,1.1861997226074896,1.0114424410540916,0.7226074895977809,1.5,1.5,1.3626907073509016,1.3065187239944522,1.5,0.8550624133148405,1.0700416088765603,1.470873786407767,1.164008321775312,1.1816920943134537,1.1914008321775311,1.3904299583911237,1.2243411927877947,1.455270457697642,1.3054785020804438,1.3280166435506242,1.3585298196948683,0.7912621359223301,0.782246879334258,1.4823162274618584,0.8002773925104022,0.920249653259362,1.0984743411927878,0.9913314840499308,1.2950762829403606,1.4015256588072122,1.3800277392510405,1.5,1.1553398058252426,0.7649098474341193,1.0835644937586686,1.354022191400832,1.295769764216366,1.220873786407767,1.3703190013869626,0.7642163661581137,1.2524271844660195,1.185506241331484,1.4635922330097086,1.44001386962552,1.050970873786408,0.7538141470180305,0.8144937586685159,1.1619278779472957,1.096740638002774,1.5,0.7721914008321775,0.9504160887656034,1.119625520110957,1.2888349514563109,1.4774618585298196,0.573509015256588,1.5,1.1872399445214978,1.2142857142857142,1.4011789181692094,1.4875173370319,1.435506241331484,0.9701803051317616,1.3623439667128987,0.7926490984743412,1.4396671289875174,1.1386962552011095,1.1584604715672675,1.098127600554785,1.1757975034674064,1.5,1.2302357836338418,1.3290568654646324,1.3883495145631068,1.4680998613037448,1.443134535367545,1.2604022191400832,1.0918862690707352,1.0336338418862692,0.7472260748959778,1.442094313453537,1.263869625520111,1.4407073509015256,0.7506934812760055,1.3040915395284327,1.4212898751733702,1.2447988904299585,0.9036061026352288,0.9337725381414702,1.5,1.4115811373092926,1.285367545076283,1.5,0.9653259361997226,1.4074202496532593,1.464632454923717,1.5,1.1251733703190014,1.45249653259362,0.9552704576976422,1.4219833564493758,1.0960471567267684,1.5,1.5,1.5,0.6404299583911235,1.5,1.383495145631068,1.5,1.4778085991678225,1.2090846047156727,1.214632454923717,0.912621359223301,1.4344660194174756,0.6546463245492372,1.145977808599168,1.0176837725381416,1.1560332871012482,0.7749653259361997,1.5,1.16123439667129,1.096393897364771,1.4559639389736476,1.5,1.2555478502080444,1.4025658807212205,0.8370319001386962,1.257975034674064,0.7874479889042996,0.9486823855755896,1.193134535367545,1.3536754507628297,1.1851595006934812,1.248613037447989,1.315880721220527,1.4802357836338418,1.5,1.274618585298197,1.1636615811373092,1.438626907073509,1.3564493758668517,1.2122052704576975,1.5,1.391123439667129,0.7395977808599168,0.875866851595007,1.4472954230235784,1.1005547850208044,1.384882108183079,1.4271844660194175,1.0745492371705965,0.9854368932038836,1.4119278779472957,1.3966712898751734,1.2323162274618584,1.2496532593619971,0.8141470180305131,1.4774618585298196,1.182385575589459,1.0097087378640777,1.418862690707351,1.3287101248266298,1.2964632454923717,1.329750346740638,1.3418862690707352,1.050970873786408,1.4015256588072122,1.5,0.7777392510402219,1.0540915395284327,1.2475728155339805,1.5,1.360263522884882,1.3717059639389737,1.455617198335645,1.2624826629681,1.5,1.4167822468793343,1.3120665742024966,1.377253814147018,1.4410540915395285,1.4070735090152566,1.4875173370319,1.5,0.981622746185853,1.4715672676837726,1.2541608876560333,1.1868932038834952,1.463245492371706,1.4382801664355065,0.7586685159500693,1.2763522884882108,0.8502080443828016,1.4081137309292648,1.1508321775312067,0.9414008321775312,1.3578363384188628,0.8262829403606102,1.3599167822468794,1.219140083217753,1.0866851595006934,1.162621359223301,1.449375866851595,1.2493065187239945,1.197988904299584,0.7330097087378641,1.162621359223301,1.4025658807212205,1.0547850208044385,1.5,1.315880721220527,1.1237864077669903,1.1033287101248266,1.4178224687933425,1.133841886269071,1.3075589459084604,1.5,1.5,1.2864077669902914,0.9663661581137308,1.5,1.4559639389736476,1.0631067961165048,1.0884188626907074,1.14875173370319,1.4119278779472957,1.0603328710124826,1.3120665742024966,0.7940360610263523,1.2701109570041609,1.5,0.7302357836338419,0.973994452149792,1.5,1.3491678224687933,1.374133148404993,0.9833564493758667,1.4947988904299585,1.5,1.0034674063800275,0.9979195561719834,1.476768377253814,1.0339805825242718,1.380374479889043,1.4680998613037448,1.5,1.4819694868238558,1.5,1.2825936199722607,1.0097087378640777,1.1650485436893203,1.4455617198335644,1.2458391123439667,1.2139389736477115,1.447988904299584,1.3016643550624134,1.3047850208044385,0.9864771151178918,1.1771844660194175,1.473994452149792,1.2635228848821085,1.2472260748959778,1.4379334257975034,1.3952843273231623,1.2156726768377253,1.133841886269071,1.2614424410540916,0.75,1.220527045769764,0.8550624133148405,1.323509015256588,0.8502080443828016,1.081137309292649,1.1369625520110958,1.31622746185853,1.2902219140083218,0.9306518723994452,1.3141470180305133,0.710124826629681,1.050624133148405,0.8519417475728155,1.483009708737864,1.0,1.447988904299584,1.116504854368932,1.1771844660194175,0.9691400832177532,1.234396671289875,1.188626907073509,1.4438280166435506,1.3460471567267684,1.4559639389736476,1.457004160887656,1.4511095700416088,1.3561026352288488,1.4351595006934812,1.0159500693481276,1.418862690707351,1.1383495145631068,0.7565880721220527,1.0097087378640777,1.472260748959778,0.7267683772538142,0.8547156726768377,1.1123439667128987,1.2919556171983355,1.424410540915395,1.4559639389736476,1.403259361997226,1.1782246879334255,1.35124826629681,1.0728155339805825,1.0922330097087378,0.91123439667129,1.2395977808599168,1.380374479889043,0.9611650485436892,1.4895977808599168,1.151872399445215,0.6130374479889042,1.286754507628294,1.1269070735090152,0.6709431345353676,1.5,1.2801664355062414,0.6622746185852982,1.4299583911234397,1.3332177531206657,1.021497919556172,1.1934812760055478,1.0502773925104023,1.3609570041608876,0.9185159500693482,1.259361997226075,1.1664355062413314,1.1352288488210818,1.1081830790568654,1.251386962552011,1.096740638002774,0.8727461858529819,1.3120665742024966,1.287101248266297,1.3855755894590849,0.8734396671289875,1.042995839112344,1.2472260748959778,1.2094313453536754,1.4635922330097086,1.4743411927877947,0.8186546463245492,1.1307212205270458,1.2236477115117892,1.0360610263522885,1.5,1.2936893203883495,1.5,1.5,0.9011789181692096,0.9306518723994452,1.1647018030513177,0.9975728155339806,0.9975728155339806,1.0988210818307906,0.9427877947295424,1.4039528432732316,1.3474341192787795,1.414008321775312,0.9778085991678224,1.2815533980582523,1.1945214979195562,1.420249653259362,1.4181692094313454,1.2753120665742026,1.3366851595006934,1.2704576976421638,0.9299583911234396,1.0,0.8446601941747572,1.2350901525658806,1.5,1.3900832177531206,1.0572122052704578,1.1414701803051317,1.2545076282940362,1.4230235783633842,1.135922330097087,1.131761442441054,1.0003467406380029,1.009361997226075,1.3366851595006934,1.4022191400832178,1.5,1.5,1.3027045769764216,0.9996532593619972,1.25,1.2312760055478502,1.317267683772538,1.35124826629681,1.5,1.0665742024965326,1.3890429958391124,1.0710818307905687,1.102635228848821,1.1775312066574202,1.395631067961165,1.4368932038834952,0.8387656033287101,0.8328710124826629,1.172330097087379,1.3886962552011095,1.1452843273231623,1.3720527045769764,0.9913314840499308,1.444174757281553,1.1265603328710123,1.165742024965326,0.8398058252427184,1.3033980582524272,0.7968099861303745,1.391123439667129,1.3138002773925104,1.4497226074895977,1.0298196948682383,1.382108183079057,1.3248959778085991,1.2701109570041609,1.4875173370319,1.403606102635229,1.122746185852982,0.9840499306518724,1.130374479889043,1.380374479889043,1.1643550624133148,1.4635922330097086,1.251733703190014,0.7725381414701803,1.401872399445215,1.4701803051317617,1.4011789181692094,1.2104715672676838,1.3994452149791956,1.5,1.162621359223301,1.4687933425797504,1.2045769764216363,1.5,1.0610263522884882,1.4257975034674064,0.6896671289875174,1.1737170596393898,1.3155339805825244,1.228848821081831,1.4587378640776698,1.0208044382801664,1.4819694868238558,0.961511789181692,1.3065187239944522,1.2011095700416088,1.134882108183079,1.2323162274618584,1.3141470180305133,1.1147711511789182,1.5,1.2260748959778085,1.2226074895977808,1.4091539528432733,1.4850901525658806,1.0221914008321775,1.220873786407767,0.6903606102635229,1.3228155339805825,1.478848821081831,0.9160887656033287,1.314493758668516,1.4757281553398058,1.027739251040222,1.4778085991678225,1.443134535367545,1.2614424410540916,1.0176837725381416,1.0128294036061027,0.9483356449375868,1.2378640776699028,1.4434812760055478,1.3717059639389737,1.1168515950069349,1.389389736477115,1.358876560332871,0.8855755894590847,0.9798890429958392,1.5,1.432732316227462,1.197642163661581,1.3432732316227465,0.7784327323162274,1.1653952843273232,1.2413314840499303,1.3394590846047156,1.292995839112344,1.4795423023578362,1.1130374479889042,null,1.5,1.3283633841886269,0.9275312066574204,1.5,1.317614424410541,1.5,1.2427184466019416,1.4823162274618584,1.5,1.5,1.4743411927877947,1.4965325936199725,1.4857836338418862,1.4902912621359223,1.223994452149792,1.4306518723994452,1.0821775312066575,1.5,1.0946601941747574,1.4795423023578362,1.4895977808599168,1.4667128987517335,1.5,1.4837031900138695,1.5,1.2156726768377253,1.478848821081831,1.0201109570041609,1.31622746185853,1.385922330097087,1.5,1.4361997226074896,1.441747572815534,1.5,1.434119278779473,1.4913314840499303,1.480929264909847,1.5,1.4954923717059638,1.4407073509015256,1.4934119278779472,1.403606102635229,1.489251040221914,1.4701803051317617,1.5,1.2999306518723994,1.4077669902912622,1.4837031900138695,0.7461858529819695,1.4812760055478502,1.5,1.5,1.4282246879334255,1.5,1.5,1.5,1.5,1.4965325936199725,1.4625520110957004,1.5,1.4275312066574202,1.3782940360610263,1.360610263522885,1.5,1.415742024965326,1.4934119278779472,1.5,1.5,1.4954923717059638,1.029126213592233,1.4164355062413314,1.052357836338419,1.475381414701803,1.4913314840499303,1.4514563106796117,1.476768377253814,1.4382801664355065,1.470527045769764,1.5,1.5,1.4382801664355065,1.2916088765603329,1.430998613037448,1.4854368932038835,1.5,1.4583911234396671,1.5,1.4895977808599168,1.0377947295423025,1.285367545076283,1.480582524271845,1.233009708737864,1.434119278779473,0.7434119278779473,1.5,1.3963245492371703,1.484396671289875,1.0,1.5,1.424757281553398,1.4174757281553398,1.0201109570041609,1.5,1.5,1.5,1.4961858529819694,1.4566574202496532,1.354022191400832,0.9337725381414702,1.5,1.5,1.4486823855755897,1.5,1.4573509015256587,1.4954923717059638,1.4736477115117892,1.4812760055478502,1.432732316227462,1.4674063800277393,1.492371705963939,1.4427877947295422,1.478848821081831,1.5,0.8432732316227461,1.5,1.5,1.3692787794729542,1.478502080443828,1.29750346740638,1.482662968099861,0.75,1.5,1.5,1.5,1.1508321775312067,1.3873092926490984,1.5,1.5,1.334257975034674,1.5,1.5,1.4778085991678225,1.5,1.492024965325936,1.4791955617198336,1.4760748959778085,1.5,1.5,1.5,1.3030513176144245,1.475381414701803,0.75,1.5,1.5,1.4795423023578362,1.5,1.5,1.4850901525658806,1.4195561719833565,0.75,1.0884188626907074,1.4798890429958391,1.3980582524271843,1.4576976421636616,1.4663661581137308,1.1158113730929264,1.5,1.2395977808599168,1.5,1.4854368932038835,1.3040915395284327,1.5,1.432732316227462,1.457004160887656,1.4885575589459084,1.5,1.0242718446601942,1.4670596393897364,1.4344660194174756,1.476768377253814,1.490984743411928,1.490984743411928,1.4954923717059638,1.4407073509015256,1.4635922330097086,1.5,1.4701803051317617,1.469486823855756,1.5,1.4812760055478502,0.7465325936199723,1.5,1.5,1.116158113730929,1.5,1.4368932038834952,1.4053398058252426,1.463245492371706,1.4791955617198336,1.5,1.3151872399445217,1.480929264909847,1.4622052704576975,1.4760748959778085,1.483009708737864,1.4864771151178915,1.4698335644937586,1.2382108183079057,1.5,1.5,1.4930651872399443,1.473994452149792,1.5,1.5,1.2971567267683772,1.5,1.5,1.4358529819694867,1.4882108183079057,1.484396671289875,1.484743411927878,1.49375866851595,1.5,1.484743411927878,1.5,1.5,1.5,1.4954923717059638,1.463245492371706,1.5,1.5,1.480582524271845,1.4674063800277393,1.1279472954230236,1.1848127600554783,1.5,1.5,1.5,1.0,1.4611650485436891,1.2923023578363384,1.5,1.3855755894590849,1.3065187239944522,1.1133841886269071,1.447642163661581,1.415742024965326,1.4941054091539527,1.2881414701803051,1.300624133148405,1.3918169209431346,1.482662968099861,1.5,1.4545769764216363,1.3040915395284327,1.5,1.4916782246879334,1.460124826629681,1.5,1.475381414701803,1.5,1.5,1.490638002773925,1.3720527045769764,1.372746185852982,1.490984743411928,1.4791955617198336,1.3325242718446602,1.2167128987517335,1.248613037447989,1.5,1.5,1.4549237170596394,1.490638002773925,1.5,1.5,1.0048543689320388,1.329750346740638,1.0759361997226076,1.5,1.5,1.412274618585298,1.139389736477115,1.4878640776699028,1.2995839112343968,1.4486823855755897,1.5,1.4875173370319,1.4136615811373092,1.4885575589459084,1.5,1.4174757281553398,1.5,1.5,1.4941054091539527,1.455617198335645,1.4670596393897364,1.5,1.4448682385575589,1.5,1.4885575589459084,1.5,1.4774618585298196,1.3210818307905687,1.5,1.478848821081831,1.3502080443828015,1.5,1.4871705963938973,1.422330097087379,1.25,1.3477808599167822,1.5,1.391123439667129,1.5,1.4941054091539527,1.1005547850208044,1.0852981969486823,1.5,1.478848821081831,1.5,1.490984743411928,1.4726074895977808,1.4930651872399443,0.9074202496532594,1.5,1.4885575589459084,1.4587378640776698,1.5,1.490984743411928,1.5,1.4823162274618584,1.0703883495145632,1.470873786407767,1.486130374479889,1.489251040221914,1.5,1.4660194174757282,1.5,0.6279472954230236,1.4895977808599168,1.5,1.4798890429958391,1.5,1.480582524271845,1.5,0.8519417475728155,1.4868238557558946,1.3644244105409151,1.0977808599167822,1.3103328710124826,1.2035367545076283,1.492024965325936,1.4798890429958391,1.5,1.4004854368932038,1.480582524271845,1.473994452149792,1.4930651872399443,1.2610957004160888,1.2662968099861305,1.30374479889043,1.4889042995839112,1.4941054091539527,1.462898751733703,1.4895977808599168,1.3411927877947296,1.4882108183079057,1.4268377253814146,1.16123439667129,1.240984743411928,1.5,1.1681692094313454,1.4674063800277393,1.4913314840499303,1.4895977808599168,1.4941054091539527,1.4941054091539527,1.496879334257975,1.4837031900138695,1.5,1.4199029126213591,1.4733009708737863,1.0388349514563109,1.4344660194174756,1.5,1.5,1.4781553398058251,1.5,1.5,1.5,1.2864077669902914,1.477115117891817,1.5,1.5,0.746879334257975,1.5,1.4927184466019416,1.3994452149791956,1.0450762829403606,1.5,1.4257975034674064,1.3248959778085991,1.375866851595007,1.490638002773925,1.4837031900138695,1.447988904299584,1.3127600554785022,1.3765603328710123,1.5,1.5,1.4837031900138695,1.2496532593619971,1.4590846047156727,1.4233703190013869,1.4726074895977808,1.5,1.5,1.1983356449375866,1.5,1.4663661581137308,1.4951456310679612,1.277739251040222,1.460124826629681,1.5,1.4954923717059638,1.5,1.5,1.5,1.4115811373092926,1.279126213592233,1.4930651872399443,1.5,1.5,1.467753120665742,1.4635922330097086,1.151872399445215,1.4205963938973647,1.5,1.4812760055478502,1.3040915395284327,1.5,1.4368932038834952,1.401872399445215,1.483009708737864,1.5,1.4902912621359223,1.3890429958391124,1.4878640776699028,1.4899445214979194,1.440360610263523,1.5,1.1712898751733702,1.444174757281553,1.496879334257975,1.4954923717059638,1.444174757281553,1.4622052704576975,1.5,1.2548543689320388,1.4719140083217752,1.2649098474341194,1.5,1.3644244105409151,1.5,1.2219140083217752,1.44001386962552,1.5,1.5,1.4518030513176143,1.4275312066574202,1.5,1.4798890429958391,1.4240638002773924,1.470873786407767,1.5,1.5,1.3997919556171985,1.317267683772538,1.5,1.4944521497919556,1.5,1.5,1.4882108183079057,1.4597780859916782,1.365117891816921,1.5,0.9320388349514565,1.3699722607489595,1.4230235783633842,1.5,1.5,1.5,1.4545769764216363,1.5,1.484743411927878,1.3776005547850207,1.299237170596394,1.4257975034674064,1.4358529819694867,1.5,1.5,1.1217059639389737,1.4119278779472957,1.5,1.5,1.477115117891817,1.302357836338419,1.3491678224687933,1.3131067961165048,1.5,1.4972260748959778,1.4965325936199725,1.5,1.167128987517337,1.1508321775312067,1.4947988904299585,1.5,1.4379334257975034,1.4618585298196949,1.5,1.5,1.4934119278779472,1.4951456310679612,1.2645631067961165,1.5,1.4934119278779472,1.2097780859916782,1.4791955617198336,1.4393203883495145,1.4361997226074896,1.4913314840499303,1.490984743411928,0.7805131761442441,1.2985436893203883,1.2780859916782248,1.5,1.1972954230235784,1.3616504854368932,1.3779472954230236,0.984743411927878,1.272884882108183,1.4729542302357836,1.4868238557558946,1.5,1.1556865464632455,1.5,1.4927184466019416,null],\"y0\":\" \",\"yaxis\":\"y\",\"type\":\"box\"},{\"line\":{\"color\":\"green\",\"width\":2},\"mode\":\"lines\",\"name\":\"mean\",\"showlegend\":true,\"x\":[\"hj_naive\",\"hj_reactive\",\"flocking\"],\"y\":[1.0869452149791954,1.2194893548093182,1.4108503244682467],\"type\":\"scatter\"}],                        {\"template\":{\"data\":{\"histogram2dcontour\":[{\"type\":\"histogram2dcontour\",\"colorbar\":{\"outlinewidth\":0,\"ticks\":\"\"},\"colorscale\":[[0.0,\"#0d0887\"],[0.1111111111111111,\"#46039f\"],[0.2222222222222222,\"#7201a8\"],[0.3333333333333333,\"#9c179e\"],[0.4444444444444444,\"#bd3786\"],[0.5555555555555556,\"#d8576b\"],[0.6666666666666666,\"#ed7953\"],[0.7777777777777778,\"#fb9f3a\"],[0.8888888888888888,\"#fdca26\"],[1.0,\"#f0f921\"]]}],\"choropleth\":[{\"type\":\"choropleth\",\"colorbar\":{\"outlinewidth\":0,\"ticks\":\"\"}}],\"histogram2d\":[{\"type\":\"histogram2d\",\"colorbar\":{\"outlinewidth\":0,\"ticks\":\"\"},\"colorscale\":[[0.0,\"#0d0887\"],[0.1111111111111111,\"#46039f\"],[0.2222222222222222,\"#7201a8\"],[0.3333333333333333,\"#9c179e\"],[0.4444444444444444,\"#bd3786\"],[0.5555555555555556,\"#d8576b\"],[0.6666666666666666,\"#ed7953\"],[0.7777777777777778,\"#fb9f3a\"],[0.8888888888888888,\"#fdca26\"],[1.0,\"#f0f921\"]]}],\"heatmap\":[{\"type\":\"heatmap\",\"colorbar\":{\"outlinewidth\":0,\"ticks\":\"\"},\"colorscale\":[[0.0,\"#0d0887\"],[0.1111111111111111,\"#46039f\"],[0.2222222222222222,\"#7201a8\"],[0.3333333333333333,\"#9c179e\"],[0.4444444444444444,\"#bd3786\"],[0.5555555555555556,\"#d8576b\"],[0.6666666666666666,\"#ed7953\"],[0.7777777777777778,\"#fb9f3a\"],[0.8888888888888888,\"#fdca26\"],[1.0,\"#f0f921\"]]}],\"heatmapgl\":[{\"type\":\"heatmapgl\",\"colorbar\":{\"outlinewidth\":0,\"ticks\":\"\"},\"colorscale\":[[0.0,\"#0d0887\"],[0.1111111111111111,\"#46039f\"],[0.2222222222222222,\"#7201a8\"],[0.3333333333333333,\"#9c179e\"],[0.4444444444444444,\"#bd3786\"],[0.5555555555555556,\"#d8576b\"],[0.6666666666666666,\"#ed7953\"],[0.7777777777777778,\"#fb9f3a\"],[0.8888888888888888,\"#fdca26\"],[1.0,\"#f0f921\"]]}],\"contourcarpet\":[{\"type\":\"contourcarpet\",\"colorbar\":{\"outlinewidth\":0,\"ticks\":\"\"}}],\"contour\":[{\"type\":\"contour\",\"colorbar\":{\"outlinewidth\":0,\"ticks\":\"\"},\"colorscale\":[[0.0,\"#0d0887\"],[0.1111111111111111,\"#46039f\"],[0.2222222222222222,\"#7201a8\"],[0.3333333333333333,\"#9c179e\"],[0.4444444444444444,\"#bd3786\"],[0.5555555555555556,\"#d8576b\"],[0.6666666666666666,\"#ed7953\"],[0.7777777777777778,\"#fb9f3a\"],[0.8888888888888888,\"#fdca26\"],[1.0,\"#f0f921\"]]}],\"surface\":[{\"type\":\"surface\",\"colorbar\":{\"outlinewidth\":0,\"ticks\":\"\"},\"colorscale\":[[0.0,\"#0d0887\"],[0.1111111111111111,\"#46039f\"],[0.2222222222222222,\"#7201a8\"],[0.3333333333333333,\"#9c179e\"],[0.4444444444444444,\"#bd3786\"],[0.5555555555555556,\"#d8576b\"],[0.6666666666666666,\"#ed7953\"],[0.7777777777777778,\"#fb9f3a\"],[0.8888888888888888,\"#fdca26\"],[1.0,\"#f0f921\"]]}],\"mesh3d\":[{\"type\":\"mesh3d\",\"colorbar\":{\"outlinewidth\":0,\"ticks\":\"\"}}],\"scatter\":[{\"fillpattern\":{\"fillmode\":\"overlay\",\"size\":10,\"solidity\":0.2},\"type\":\"scatter\"}],\"parcoords\":[{\"type\":\"parcoords\",\"line\":{\"colorbar\":{\"outlinewidth\":0,\"ticks\":\"\"}}}],\"scatterpolargl\":[{\"type\":\"scatterpolargl\",\"marker\":{\"colorbar\":{\"outlinewidth\":0,\"ticks\":\"\"}}}],\"bar\":[{\"error_x\":{\"color\":\"#2a3f5f\"},\"error_y\":{\"color\":\"#2a3f5f\"},\"marker\":{\"line\":{\"color\":\"#E5ECF6\",\"width\":0.5},\"pattern\":{\"fillmode\":\"overlay\",\"size\":10,\"solidity\":0.2}},\"type\":\"bar\"}],\"scattergeo\":[{\"type\":\"scattergeo\",\"marker\":{\"colorbar\":{\"outlinewidth\":0,\"ticks\":\"\"}}}],\"scatterpolar\":[{\"type\":\"scatterpolar\",\"marker\":{\"colorbar\":{\"outlinewidth\":0,\"ticks\":\"\"}}}],\"histogram\":[{\"marker\":{\"pattern\":{\"fillmode\":\"overlay\",\"size\":10,\"solidity\":0.2}},\"type\":\"histogram\"}],\"scattergl\":[{\"type\":\"scattergl\",\"marker\":{\"colorbar\":{\"outlinewidth\":0,\"ticks\":\"\"}}}],\"scatter3d\":[{\"type\":\"scatter3d\",\"line\":{\"colorbar\":{\"outlinewidth\":0,\"ticks\":\"\"}},\"marker\":{\"colorbar\":{\"outlinewidth\":0,\"ticks\":\"\"}}}],\"scattermapbox\":[{\"type\":\"scattermapbox\",\"marker\":{\"colorbar\":{\"outlinewidth\":0,\"ticks\":\"\"}}}],\"scatterternary\":[{\"type\":\"scatterternary\",\"marker\":{\"colorbar\":{\"outlinewidth\":0,\"ticks\":\"\"}}}],\"scattercarpet\":[{\"type\":\"scattercarpet\",\"marker\":{\"colorbar\":{\"outlinewidth\":0,\"ticks\":\"\"}}}],\"carpet\":[{\"aaxis\":{\"endlinecolor\":\"#2a3f5f\",\"gridcolor\":\"white\",\"linecolor\":\"white\",\"minorgridcolor\":\"white\",\"startlinecolor\":\"#2a3f5f\"},\"baxis\":{\"endlinecolor\":\"#2a3f5f\",\"gridcolor\":\"white\",\"linecolor\":\"white\",\"minorgridcolor\":\"white\",\"startlinecolor\":\"#2a3f5f\"},\"type\":\"carpet\"}],\"table\":[{\"cells\":{\"fill\":{\"color\":\"#EBF0F8\"},\"line\":{\"color\":\"white\"}},\"header\":{\"fill\":{\"color\":\"#C8D4E3\"},\"line\":{\"color\":\"white\"}},\"type\":\"table\"}],\"barpolar\":[{\"marker\":{\"line\":{\"color\":\"#E5ECF6\",\"width\":0.5},\"pattern\":{\"fillmode\":\"overlay\",\"size\":10,\"solidity\":0.2}},\"type\":\"barpolar\"}],\"pie\":[{\"automargin\":true,\"type\":\"pie\"}]},\"layout\":{\"autotypenumbers\":\"strict\",\"colorway\":[\"#636efa\",\"#EF553B\",\"#00cc96\",\"#ab63fa\",\"#FFA15A\",\"#19d3f3\",\"#FF6692\",\"#B6E880\",\"#FF97FF\",\"#FECB52\"],\"font\":{\"color\":\"#2a3f5f\"},\"hovermode\":\"closest\",\"hoverlabel\":{\"align\":\"left\"},\"paper_bgcolor\":\"white\",\"plot_bgcolor\":\"#E5ECF6\",\"polar\":{\"bgcolor\":\"#E5ECF6\",\"angularaxis\":{\"gridcolor\":\"white\",\"linecolor\":\"white\",\"ticks\":\"\"},\"radialaxis\":{\"gridcolor\":\"white\",\"linecolor\":\"white\",\"ticks\":\"\"}},\"ternary\":{\"bgcolor\":\"#E5ECF6\",\"aaxis\":{\"gridcolor\":\"white\",\"linecolor\":\"white\",\"ticks\":\"\"},\"baxis\":{\"gridcolor\":\"white\",\"linecolor\":\"white\",\"ticks\":\"\"},\"caxis\":{\"gridcolor\":\"white\",\"linecolor\":\"white\",\"ticks\":\"\"}},\"coloraxis\":{\"colorbar\":{\"outlinewidth\":0,\"ticks\":\"\"}},\"colorscale\":{\"sequential\":[[0.0,\"#0d0887\"],[0.1111111111111111,\"#46039f\"],[0.2222222222222222,\"#7201a8\"],[0.3333333333333333,\"#9c179e\"],[0.4444444444444444,\"#bd3786\"],[0.5555555555555556,\"#d8576b\"],[0.6666666666666666,\"#ed7953\"],[0.7777777777777778,\"#fb9f3a\"],[0.8888888888888888,\"#fdca26\"],[1.0,\"#f0f921\"]],\"sequentialminus\":[[0.0,\"#0d0887\"],[0.1111111111111111,\"#46039f\"],[0.2222222222222222,\"#7201a8\"],[0.3333333333333333,\"#9c179e\"],[0.4444444444444444,\"#bd3786\"],[0.5555555555555556,\"#d8576b\"],[0.6666666666666666,\"#ed7953\"],[0.7777777777777778,\"#fb9f3a\"],[0.8888888888888888,\"#fdca26\"],[1.0,\"#f0f921\"]],\"diverging\":[[0,\"#8e0152\"],[0.1,\"#c51b7d\"],[0.2,\"#de77ae\"],[0.3,\"#f1b6da\"],[0.4,\"#fde0ef\"],[0.5,\"#f7f7f7\"],[0.6,\"#e6f5d0\"],[0.7,\"#b8e186\"],[0.8,\"#7fbc41\"],[0.9,\"#4d9221\"],[1,\"#276419\"]]},\"xaxis\":{\"gridcolor\":\"white\",\"linecolor\":\"white\",\"ticks\":\"\",\"title\":{\"standoff\":15},\"zerolinecolor\":\"white\",\"automargin\":true,\"zerolinewidth\":2},\"yaxis\":{\"gridcolor\":\"white\",\"linecolor\":\"white\",\"ticks\":\"\",\"title\":{\"standoff\":15},\"zerolinecolor\":\"white\",\"automargin\":true,\"zerolinewidth\":2},\"scene\":{\"xaxis\":{\"backgroundcolor\":\"#E5ECF6\",\"gridcolor\":\"white\",\"linecolor\":\"white\",\"showbackground\":true,\"ticks\":\"\",\"zerolinecolor\":\"white\",\"gridwidth\":2},\"yaxis\":{\"backgroundcolor\":\"#E5ECF6\",\"gridcolor\":\"white\",\"linecolor\":\"white\",\"showbackground\":true,\"ticks\":\"\",\"zerolinecolor\":\"white\",\"gridwidth\":2},\"zaxis\":{\"backgroundcolor\":\"#E5ECF6\",\"gridcolor\":\"white\",\"linecolor\":\"white\",\"showbackground\":true,\"ticks\":\"\",\"zerolinecolor\":\"white\",\"gridwidth\":2}},\"shapedefaults\":{\"line\":{\"color\":\"#2a3f5f\"}},\"annotationdefaults\":{\"arrowcolor\":\"#2a3f5f\",\"arrowhead\":0,\"arrowwidth\":1},\"geo\":{\"bgcolor\":\"white\",\"landcolor\":\"#E5ECF6\",\"subunitcolor\":\"white\",\"showland\":true,\"showlakes\":true,\"lakecolor\":\"white\"},\"title\":{\"x\":0.05},\"mapbox\":{\"style\":\"light\"}}},\"xaxis\":{\"anchor\":\"y\",\"domain\":[0.0,1.0],\"title\":{\"text\":\"controllers\"}},\"yaxis\":{\"anchor\":\"x\",\"domain\":[0.0,1.0],\"title\":{\"text\":\"Average Beta Index over Missions\"}},\"legend\":{\"tracegroupgap\":0},\"margin\":{\"t\":60},\"boxmode\":\"group\"},                        {\"responsive\": true}                    ).then(function(){\n",
       "                            \n",
       "var gd = document.getElementById('0a08bdae-81eb-433b-9c07-b5476a877f6d');\n",
       "var x = new MutationObserver(function (mutations, observer) {{\n",
       "        var display = window.getComputedStyle(gd).display;\n",
       "        if (!display || display === 'none') {{\n",
       "            console.log([gd, 'removed!']);\n",
       "            Plotly.purge(gd);\n",
       "            observer.disconnect();\n",
       "        }}\n",
       "}});\n",
       "\n",
       "// Listen for the removal of the full notebook cells\n",
       "var notebookContainer = gd.closest('#notebook-container');\n",
       "if (notebookContainer) {{\n",
       "    x.observe(notebookContainer, {childList: true});\n",
       "}}\n",
       "\n",
       "// Listen for the clearing of the current output cell\n",
       "var outputEl = gd.closest('.output');\n",
       "if (outputEl) {{\n",
       "    x.observe(outputEl, {childList: true});\n",
       "}}\n",
       "\n",
       "                        })                };                });            </script>        </div>"
      ]
     },
     "metadata": {},
     "output_type": "display_data"
    }
   ],
   "source": [
    "beta_index_avg_dic = {\"hj_naive\": metrics_hj_naive[\"Average Beta Index\"],\n",
    "                      \"hj_reactive\": metrics_hj_reactive[\"Average Beta Index\"],\n",
    "                      \"flocking\": metrics_hj_flocking[\"Average Beta Index\"]}\n",
    "beta_index_avg_df = pd.DataFrame(beta_index_avg_dic)\n",
    "fig_beta = px.box(beta_index_avg_df)\n",
    "mean_trace = go.Scatter(\n",
    "    x=beta_index_avg_df.columns,\n",
    "    y=beta_index_avg_df.mean(),\n",
    "    mode='lines',\n",
    "    line=dict(color='green', width=2),\n",
    "    showlegend=True,\n",
    "    name=\"mean\"\n",
    ")\n",
    "fig_beta.add_trace(mean_trace)\n",
    "# Add custom x and y labels\n",
    "fig_beta.update_layout(\n",
    "    xaxis_title=\"controllers\",\n",
    "    yaxis_title=\"Average Beta Index over Missions\"\n",
    ")\n",
    "fig_beta.show()"
   ]
  },
  {
   "attachments": {},
   "cell_type": "markdown",
   "metadata": {},
   "source": [
    "+ Mean minimum distance to target among all platforms km"
   ]
  },
  {
   "cell_type": "code",
   "execution_count": 12,
   "metadata": {},
   "outputs": [
    {
     "data": {
      "application/vnd.plotly.v1+json": {
       "config": {
        "plotlyServerURL": "https://plot.ly"
       },
       "data": [
        {
         "alignmentgroup": "True",
         "hovertemplate": "variable=%{x}<br>value=%{y}<extra></extra>",
         "legendgroup": "",
         "marker": {
          "color": "#636efa"
         },
         "name": "",
         "notched": false,
         "offsetgroup": "",
         "orientation": "v",
         "showlegend": false,
         "type": "box",
         "x": [
          "hj_naive",
          "hj_naive",
          "hj_naive",
          "hj_naive",
          "hj_naive",
          "hj_naive",
          "hj_naive",
          "hj_naive",
          "hj_naive",
          "hj_naive",
          "hj_naive",
          "hj_naive",
          "hj_naive",
          "hj_naive",
          "hj_naive",
          "hj_naive",
          "hj_naive",
          "hj_naive",
          "hj_naive",
          "hj_naive",
          "hj_naive",
          "hj_naive",
          "hj_naive",
          "hj_naive",
          "hj_naive",
          "hj_naive",
          "hj_naive",
          "hj_naive",
          "hj_naive",
          "hj_naive",
          "hj_naive",
          "hj_naive",
          "hj_naive",
          "hj_naive",
          "hj_naive",
          "hj_naive",
          "hj_naive",
          "hj_naive",
          "hj_naive",
          "hj_naive",
          "hj_naive",
          "hj_naive",
          "hj_naive",
          "hj_naive",
          "hj_naive",
          "hj_naive",
          "hj_naive",
          "hj_naive",
          "hj_naive",
          "hj_naive",
          "hj_naive",
          "hj_naive",
          "hj_naive",
          "hj_naive",
          "hj_naive",
          "hj_naive",
          "hj_naive",
          "hj_naive",
          "hj_naive",
          "hj_naive",
          "hj_naive",
          "hj_naive",
          "hj_naive",
          "hj_naive",
          "hj_naive",
          "hj_naive",
          "hj_naive",
          "hj_naive",
          "hj_naive",
          "hj_naive",
          "hj_naive",
          "hj_naive",
          "hj_naive",
          "hj_naive",
          "hj_naive",
          "hj_naive",
          "hj_naive",
          "hj_naive",
          "hj_naive",
          "hj_naive",
          "hj_naive",
          "hj_naive",
          "hj_naive",
          "hj_naive",
          "hj_naive",
          "hj_naive",
          "hj_naive",
          "hj_naive",
          "hj_naive",
          "hj_naive",
          "hj_naive",
          "hj_naive",
          "hj_naive",
          "hj_naive",
          "hj_naive",
          "hj_naive",
          "hj_naive",
          "hj_naive",
          "hj_naive",
          "hj_naive",
          "hj_naive",
          "hj_naive",
          "hj_naive",
          "hj_naive",
          "hj_naive",
          "hj_naive",
          "hj_naive",
          "hj_naive",
          "hj_naive",
          "hj_naive",
          "hj_naive",
          "hj_naive",
          "hj_naive",
          "hj_naive",
          "hj_naive",
          "hj_naive",
          "hj_naive",
          "hj_naive",
          "hj_naive",
          "hj_naive",
          "hj_naive",
          "hj_naive",
          "hj_naive",
          "hj_naive",
          "hj_naive",
          "hj_naive",
          "hj_naive",
          "hj_naive",
          "hj_naive",
          "hj_naive",
          "hj_naive",
          "hj_naive",
          "hj_naive",
          "hj_naive",
          "hj_naive",
          "hj_naive",
          "hj_naive",
          "hj_naive",
          "hj_naive",
          "hj_naive",
          "hj_naive",
          "hj_naive",
          "hj_naive",
          "hj_naive",
          "hj_naive",
          "hj_naive",
          "hj_naive",
          "hj_naive",
          "hj_naive",
          "hj_naive",
          "hj_naive",
          "hj_naive",
          "hj_naive",
          "hj_naive",
          "hj_naive",
          "hj_naive",
          "hj_naive",
          "hj_naive",
          "hj_naive",
          "hj_naive",
          "hj_naive",
          "hj_naive",
          "hj_naive",
          "hj_naive",
          "hj_naive",
          "hj_naive",
          "hj_naive",
          "hj_naive",
          "hj_naive",
          "hj_naive",
          "hj_naive",
          "hj_naive",
          "hj_naive",
          "hj_naive",
          "hj_naive",
          "hj_naive",
          "hj_naive",
          "hj_naive",
          "hj_naive",
          "hj_naive",
          "hj_naive",
          "hj_naive",
          "hj_naive",
          "hj_naive",
          "hj_naive",
          "hj_naive",
          "hj_naive",
          "hj_naive",
          "hj_naive",
          "hj_naive",
          "hj_naive",
          "hj_naive",
          "hj_naive",
          "hj_naive",
          "hj_naive",
          "hj_naive",
          "hj_naive",
          "hj_naive",
          "hj_naive",
          "hj_naive",
          "hj_naive",
          "hj_naive",
          "hj_naive",
          "hj_naive",
          "hj_naive",
          "hj_naive",
          "hj_naive",
          "hj_naive",
          "hj_naive",
          "hj_naive",
          "hj_naive",
          "hj_naive",
          "hj_naive",
          "hj_naive",
          "hj_naive",
          "hj_naive",
          "hj_naive",
          "hj_naive",
          "hj_naive",
          "hj_naive",
          "hj_naive",
          "hj_naive",
          "hj_naive",
          "hj_naive",
          "hj_naive",
          "hj_naive",
          "hj_naive",
          "hj_naive",
          "hj_naive",
          "hj_naive",
          "hj_naive",
          "hj_naive",
          "hj_naive",
          "hj_naive",
          "hj_naive",
          "hj_naive",
          "hj_naive",
          "hj_naive",
          "hj_naive",
          "hj_naive",
          "hj_naive",
          "hj_naive",
          "hj_naive",
          "hj_naive",
          "hj_naive",
          "hj_naive",
          "hj_naive",
          "hj_naive",
          "hj_naive",
          "hj_naive",
          "hj_naive",
          "hj_naive",
          "hj_naive",
          "hj_naive",
          "hj_naive",
          "hj_naive",
          "hj_naive",
          "hj_naive",
          "hj_naive",
          "hj_naive",
          "hj_naive",
          "hj_naive",
          "hj_naive",
          "hj_naive",
          "hj_naive",
          "hj_naive",
          "hj_naive",
          "hj_naive",
          "hj_naive",
          "hj_naive",
          "hj_naive",
          "hj_naive",
          "hj_naive",
          "hj_naive",
          "hj_naive",
          "hj_naive",
          "hj_naive",
          "hj_naive",
          "hj_naive",
          "hj_naive",
          "hj_naive",
          "hj_naive",
          "hj_naive",
          "hj_naive",
          "hj_naive",
          "hj_naive",
          "hj_naive",
          "hj_naive",
          "hj_naive",
          "hj_naive",
          "hj_naive",
          "hj_naive",
          "hj_naive",
          "hj_naive",
          "hj_naive",
          "hj_naive",
          "hj_naive",
          "hj_naive",
          "hj_naive",
          "hj_naive",
          "hj_naive",
          "hj_naive",
          "hj_naive",
          "hj_naive",
          "hj_naive",
          "hj_naive",
          "hj_naive",
          "hj_naive",
          "hj_naive",
          "hj_naive",
          "hj_naive",
          "hj_naive",
          "hj_naive",
          "hj_naive",
          "hj_naive",
          "hj_naive",
          "hj_naive",
          "hj_naive",
          "hj_naive",
          "hj_naive",
          "hj_naive",
          "hj_naive",
          "hj_naive",
          "hj_naive",
          "hj_naive",
          "hj_naive",
          "hj_naive",
          "hj_naive",
          "hj_naive",
          "hj_naive",
          "hj_naive",
          "hj_naive",
          "hj_naive",
          "hj_naive",
          "hj_naive",
          "hj_naive",
          "hj_naive",
          "hj_naive",
          "hj_naive",
          "hj_naive",
          "hj_naive",
          "hj_naive",
          "hj_naive",
          "hj_naive",
          "hj_naive",
          "hj_naive",
          "hj_naive",
          "hj_naive",
          "hj_naive",
          "hj_naive",
          "hj_naive",
          "hj_naive",
          "hj_naive",
          "hj_naive",
          "hj_naive",
          "hj_naive",
          "hj_naive",
          "hj_naive",
          "hj_naive",
          "hj_naive",
          "hj_naive",
          "hj_naive",
          "hj_naive",
          "hj_naive",
          "hj_naive",
          "hj_naive",
          "hj_naive",
          "hj_naive",
          "hj_naive",
          "hj_naive",
          "hj_naive",
          "hj_naive",
          "hj_naive",
          "hj_naive",
          "hj_naive",
          "hj_naive",
          "hj_naive",
          "hj_naive",
          "hj_naive",
          "hj_naive",
          "hj_naive",
          "hj_naive",
          "hj_naive",
          "hj_naive",
          "hj_naive",
          "hj_naive",
          "hj_naive",
          "hj_naive",
          "hj_naive",
          "hj_naive",
          "hj_naive",
          "hj_naive",
          "hj_naive",
          "hj_naive",
          "hj_naive",
          "hj_naive",
          "hj_naive",
          "hj_naive",
          "hj_naive",
          "hj_naive",
          "hj_naive",
          "hj_naive",
          "hj_naive",
          "hj_naive",
          "hj_naive",
          "hj_naive",
          "hj_naive",
          "hj_naive",
          "hj_naive",
          "hj_naive",
          "hj_naive",
          "hj_naive",
          "hj_naive",
          "hj_naive",
          "hj_naive",
          "hj_naive",
          "hj_naive",
          "hj_naive",
          "hj_naive",
          "hj_naive",
          "hj_naive",
          "hj_naive",
          "hj_naive",
          "hj_naive",
          "hj_naive",
          "hj_naive",
          "hj_naive",
          "hj_naive",
          "hj_naive",
          "hj_naive",
          "hj_naive",
          "hj_naive",
          "hj_naive",
          "hj_naive",
          "hj_naive",
          "hj_naive",
          "hj_naive",
          "hj_naive",
          "hj_naive",
          "hj_naive",
          "hj_naive",
          "hj_naive",
          "hj_naive",
          "hj_naive",
          "hj_naive",
          "hj_naive",
          "hj_naive",
          "hj_naive",
          "hj_naive",
          "hj_naive",
          "hj_naive",
          "hj_naive",
          "hj_naive",
          "hj_naive",
          "hj_naive",
          "hj_naive",
          "hj_naive",
          "hj_naive",
          "hj_naive",
          "hj_naive",
          "hj_naive",
          "hj_naive",
          "hj_naive",
          "hj_naive",
          "hj_naive",
          "hj_naive",
          "hj_naive",
          "hj_naive",
          "hj_naive",
          "hj_naive",
          "hj_naive",
          "hj_naive",
          "hj_naive",
          "hj_naive",
          "hj_naive",
          "hj_naive",
          "hj_naive",
          "hj_naive",
          "hj_naive",
          "hj_naive",
          "hj_naive",
          "hj_naive",
          "hj_naive",
          "hj_naive",
          "hj_naive",
          "hj_naive",
          "hj_naive",
          "hj_naive",
          "hj_naive",
          "hj_naive",
          "hj_naive",
          "hj_naive",
          "hj_naive",
          "hj_naive",
          "hj_naive",
          "hj_naive",
          "hj_naive",
          "hj_naive",
          "hj_naive",
          "hj_naive",
          "hj_naive",
          "hj_naive",
          "hj_naive",
          "hj_naive",
          "hj_naive",
          "hj_naive",
          "hj_naive",
          "hj_naive",
          "hj_naive",
          "hj_naive",
          "hj_naive",
          "hj_naive",
          "hj_naive",
          "hj_naive",
          "hj_naive",
          "hj_naive",
          "hj_naive",
          "hj_naive",
          "hj_naive",
          "hj_naive",
          "hj_naive",
          "hj_naive",
          "hj_naive",
          "hj_naive",
          "hj_naive",
          "hj_naive",
          "hj_naive",
          "hj_naive",
          "hj_naive",
          "hj_naive",
          "hj_naive",
          "hj_naive",
          "hj_naive",
          "hj_naive",
          "hj_naive",
          "hj_naive",
          "hj_naive",
          "hj_naive",
          "hj_naive",
          "hj_naive",
          "hj_naive",
          "hj_naive",
          "hj_naive",
          "hj_naive",
          "hj_naive",
          "hj_naive",
          "hj_naive",
          "hj_naive",
          "hj_naive",
          "hj_reactive",
          "hj_reactive",
          "hj_reactive",
          "hj_reactive",
          "hj_reactive",
          "hj_reactive",
          "hj_reactive",
          "hj_reactive",
          "hj_reactive",
          "hj_reactive",
          "hj_reactive",
          "hj_reactive",
          "hj_reactive",
          "hj_reactive",
          "hj_reactive",
          "hj_reactive",
          "hj_reactive",
          "hj_reactive",
          "hj_reactive",
          "hj_reactive",
          "hj_reactive",
          "hj_reactive",
          "hj_reactive",
          "hj_reactive",
          "hj_reactive",
          "hj_reactive",
          "hj_reactive",
          "hj_reactive",
          "hj_reactive",
          "hj_reactive",
          "hj_reactive",
          "hj_reactive",
          "hj_reactive",
          "hj_reactive",
          "hj_reactive",
          "hj_reactive",
          "hj_reactive",
          "hj_reactive",
          "hj_reactive",
          "hj_reactive",
          "hj_reactive",
          "hj_reactive",
          "hj_reactive",
          "hj_reactive",
          "hj_reactive",
          "hj_reactive",
          "hj_reactive",
          "hj_reactive",
          "hj_reactive",
          "hj_reactive",
          "hj_reactive",
          "hj_reactive",
          "hj_reactive",
          "hj_reactive",
          "hj_reactive",
          "hj_reactive",
          "hj_reactive",
          "hj_reactive",
          "hj_reactive",
          "hj_reactive",
          "hj_reactive",
          "hj_reactive",
          "hj_reactive",
          "hj_reactive",
          "hj_reactive",
          "hj_reactive",
          "hj_reactive",
          "hj_reactive",
          "hj_reactive",
          "hj_reactive",
          "hj_reactive",
          "hj_reactive",
          "hj_reactive",
          "hj_reactive",
          "hj_reactive",
          "hj_reactive",
          "hj_reactive",
          "hj_reactive",
          "hj_reactive",
          "hj_reactive",
          "hj_reactive",
          "hj_reactive",
          "hj_reactive",
          "hj_reactive",
          "hj_reactive",
          "hj_reactive",
          "hj_reactive",
          "hj_reactive",
          "hj_reactive",
          "hj_reactive",
          "hj_reactive",
          "hj_reactive",
          "hj_reactive",
          "hj_reactive",
          "hj_reactive",
          "hj_reactive",
          "hj_reactive",
          "hj_reactive",
          "hj_reactive",
          "hj_reactive",
          "hj_reactive",
          "hj_reactive",
          "hj_reactive",
          "hj_reactive",
          "hj_reactive",
          "hj_reactive",
          "hj_reactive",
          "hj_reactive",
          "hj_reactive",
          "hj_reactive",
          "hj_reactive",
          "hj_reactive",
          "hj_reactive",
          "hj_reactive",
          "hj_reactive",
          "hj_reactive",
          "hj_reactive",
          "hj_reactive",
          "hj_reactive",
          "hj_reactive",
          "hj_reactive",
          "hj_reactive",
          "hj_reactive",
          "hj_reactive",
          "hj_reactive",
          "hj_reactive",
          "hj_reactive",
          "hj_reactive",
          "hj_reactive",
          "hj_reactive",
          "hj_reactive",
          "hj_reactive",
          "hj_reactive",
          "hj_reactive",
          "hj_reactive",
          "hj_reactive",
          "hj_reactive",
          "hj_reactive",
          "hj_reactive",
          "hj_reactive",
          "hj_reactive",
          "hj_reactive",
          "hj_reactive",
          "hj_reactive",
          "hj_reactive",
          "hj_reactive",
          "hj_reactive",
          "hj_reactive",
          "hj_reactive",
          "hj_reactive",
          "hj_reactive",
          "hj_reactive",
          "hj_reactive",
          "hj_reactive",
          "hj_reactive",
          "hj_reactive",
          "hj_reactive",
          "hj_reactive",
          "hj_reactive",
          "hj_reactive",
          "hj_reactive",
          "hj_reactive",
          "hj_reactive",
          "hj_reactive",
          "hj_reactive",
          "hj_reactive",
          "hj_reactive",
          "hj_reactive",
          "hj_reactive",
          "hj_reactive",
          "hj_reactive",
          "hj_reactive",
          "hj_reactive",
          "hj_reactive",
          "hj_reactive",
          "hj_reactive",
          "hj_reactive",
          "hj_reactive",
          "hj_reactive",
          "hj_reactive",
          "hj_reactive",
          "hj_reactive",
          "hj_reactive",
          "hj_reactive",
          "hj_reactive",
          "hj_reactive",
          "hj_reactive",
          "hj_reactive",
          "hj_reactive",
          "hj_reactive",
          "hj_reactive",
          "hj_reactive",
          "hj_reactive",
          "hj_reactive",
          "hj_reactive",
          "hj_reactive",
          "hj_reactive",
          "hj_reactive",
          "hj_reactive",
          "hj_reactive",
          "hj_reactive",
          "hj_reactive",
          "hj_reactive",
          "hj_reactive",
          "hj_reactive",
          "hj_reactive",
          "hj_reactive",
          "hj_reactive",
          "hj_reactive",
          "hj_reactive",
          "hj_reactive",
          "hj_reactive",
          "hj_reactive",
          "hj_reactive",
          "hj_reactive",
          "hj_reactive",
          "hj_reactive",
          "hj_reactive",
          "hj_reactive",
          "hj_reactive",
          "hj_reactive",
          "hj_reactive",
          "hj_reactive",
          "hj_reactive",
          "hj_reactive",
          "hj_reactive",
          "hj_reactive",
          "hj_reactive",
          "hj_reactive",
          "hj_reactive",
          "hj_reactive",
          "hj_reactive",
          "hj_reactive",
          "hj_reactive",
          "hj_reactive",
          "hj_reactive",
          "hj_reactive",
          "hj_reactive",
          "hj_reactive",
          "hj_reactive",
          "hj_reactive",
          "hj_reactive",
          "hj_reactive",
          "hj_reactive",
          "hj_reactive",
          "hj_reactive",
          "hj_reactive",
          "hj_reactive",
          "hj_reactive",
          "hj_reactive",
          "hj_reactive",
          "hj_reactive",
          "hj_reactive",
          "hj_reactive",
          "hj_reactive",
          "hj_reactive",
          "hj_reactive",
          "hj_reactive",
          "hj_reactive",
          "hj_reactive",
          "hj_reactive",
          "hj_reactive",
          "hj_reactive",
          "hj_reactive",
          "hj_reactive",
          "hj_reactive",
          "hj_reactive",
          "hj_reactive",
          "hj_reactive",
          "hj_reactive",
          "hj_reactive",
          "hj_reactive",
          "hj_reactive",
          "hj_reactive",
          "hj_reactive",
          "hj_reactive",
          "hj_reactive",
          "hj_reactive",
          "hj_reactive",
          "hj_reactive",
          "hj_reactive",
          "hj_reactive",
          "hj_reactive",
          "hj_reactive",
          "hj_reactive",
          "hj_reactive",
          "hj_reactive",
          "hj_reactive",
          "hj_reactive",
          "hj_reactive",
          "hj_reactive",
          "hj_reactive",
          "hj_reactive",
          "hj_reactive",
          "hj_reactive",
          "hj_reactive",
          "hj_reactive",
          "hj_reactive",
          "hj_reactive",
          "hj_reactive",
          "hj_reactive",
          "hj_reactive",
          "hj_reactive",
          "hj_reactive",
          "hj_reactive",
          "hj_reactive",
          "hj_reactive",
          "hj_reactive",
          "hj_reactive",
          "hj_reactive",
          "hj_reactive",
          "hj_reactive",
          "hj_reactive",
          "hj_reactive",
          "hj_reactive",
          "hj_reactive",
          "hj_reactive",
          "hj_reactive",
          "hj_reactive",
          "hj_reactive",
          "hj_reactive",
          "hj_reactive",
          "hj_reactive",
          "hj_reactive",
          "hj_reactive",
          "hj_reactive",
          "hj_reactive",
          "hj_reactive",
          "hj_reactive",
          "hj_reactive",
          "hj_reactive",
          "hj_reactive",
          "hj_reactive",
          "hj_reactive",
          "hj_reactive",
          "hj_reactive",
          "hj_reactive",
          "hj_reactive",
          "hj_reactive",
          "hj_reactive",
          "hj_reactive",
          "hj_reactive",
          "hj_reactive",
          "hj_reactive",
          "hj_reactive",
          "hj_reactive",
          "hj_reactive",
          "hj_reactive",
          "hj_reactive",
          "hj_reactive",
          "hj_reactive",
          "hj_reactive",
          "hj_reactive",
          "hj_reactive",
          "hj_reactive",
          "hj_reactive",
          "hj_reactive",
          "hj_reactive",
          "hj_reactive",
          "hj_reactive",
          "hj_reactive",
          "hj_reactive",
          "hj_reactive",
          "hj_reactive",
          "hj_reactive",
          "hj_reactive",
          "hj_reactive",
          "hj_reactive",
          "hj_reactive",
          "hj_reactive",
          "hj_reactive",
          "hj_reactive",
          "hj_reactive",
          "hj_reactive",
          "hj_reactive",
          "hj_reactive",
          "hj_reactive",
          "hj_reactive",
          "hj_reactive",
          "hj_reactive",
          "hj_reactive",
          "hj_reactive",
          "hj_reactive",
          "hj_reactive",
          "hj_reactive",
          "hj_reactive",
          "hj_reactive",
          "hj_reactive",
          "hj_reactive",
          "hj_reactive",
          "hj_reactive",
          "hj_reactive",
          "hj_reactive",
          "hj_reactive",
          "hj_reactive",
          "hj_reactive",
          "hj_reactive",
          "hj_reactive",
          "hj_reactive",
          "hj_reactive",
          "hj_reactive",
          "hj_reactive",
          "hj_reactive",
          "hj_reactive",
          "hj_reactive",
          "hj_reactive",
          "hj_reactive",
          "hj_reactive",
          "hj_reactive",
          "hj_reactive",
          "hj_reactive",
          "hj_reactive",
          "hj_reactive",
          "hj_reactive",
          "hj_reactive",
          "hj_reactive",
          "hj_reactive",
          "hj_reactive",
          "hj_reactive",
          "hj_reactive",
          "hj_reactive",
          "hj_reactive",
          "hj_reactive",
          "hj_reactive",
          "hj_reactive",
          "hj_reactive",
          "hj_reactive",
          "hj_reactive",
          "hj_reactive",
          "hj_reactive",
          "hj_reactive",
          "hj_reactive",
          "hj_reactive",
          "hj_reactive",
          "hj_reactive",
          "hj_reactive",
          "hj_reactive",
          "hj_reactive",
          "hj_reactive",
          "hj_reactive",
          "hj_reactive",
          "hj_reactive",
          "hj_reactive",
          "hj_reactive",
          "hj_reactive",
          "hj_reactive",
          "hj_reactive",
          "hj_reactive",
          "hj_reactive",
          "hj_reactive",
          "hj_reactive",
          "hj_reactive",
          "hj_reactive",
          "hj_reactive",
          "hj_reactive",
          "hj_reactive",
          "hj_reactive",
          "hj_reactive",
          "hj_reactive",
          "hj_reactive",
          "hj_reactive",
          "hj_reactive",
          "hj_reactive",
          "hj_reactive",
          "hj_reactive",
          "hj_reactive",
          "hj_reactive",
          "hj_reactive",
          "hj_reactive",
          "hj_reactive",
          "hj_reactive",
          "hj_reactive",
          "hj_reactive",
          "hj_reactive",
          "hj_reactive",
          "hj_reactive",
          "hj_reactive",
          "hj_reactive",
          "hj_reactive",
          "hj_reactive",
          "hj_reactive",
          "hj_reactive",
          "hj_reactive",
          "hj_reactive",
          "hj_reactive",
          "hj_reactive",
          "hj_reactive",
          "hj_reactive",
          "hj_reactive",
          "hj_reactive",
          "hj_reactive",
          "hj_reactive",
          "hj_reactive",
          "hj_reactive",
          "hj_reactive",
          "hj_reactive",
          "hj_reactive",
          "hj_reactive",
          "hj_reactive",
          "hj_reactive",
          "hj_reactive",
          "hj_reactive",
          "hj_reactive",
          "hj_reactive",
          "hj_reactive",
          "hj_reactive",
          "hj_reactive",
          "hj_reactive",
          "hj_reactive",
          "hj_reactive",
          "hj_reactive",
          "hj_reactive",
          "hj_reactive",
          "hj_reactive",
          "hj_reactive",
          "hj_reactive",
          "hj_reactive",
          "hj_reactive",
          "hj_reactive",
          "hj_reactive",
          "hj_reactive",
          "hj_reactive",
          "hj_reactive",
          "hj_reactive",
          "hj_reactive",
          "hj_reactive",
          "hj_reactive",
          "hj_reactive",
          "hj_reactive",
          "hj_reactive",
          "hj_reactive",
          "hj_reactive",
          "hj_reactive",
          "hj_reactive",
          "hj_reactive",
          "hj_reactive",
          "hj_reactive",
          "hj_reactive",
          "hj_reactive",
          "hj_reactive",
          "hj_reactive",
          "hj_reactive",
          "hj_reactive",
          "hj_reactive",
          "hj_reactive",
          "hj_reactive",
          "hj_reactive",
          "hj_reactive",
          "hj_reactive",
          "flocking",
          "flocking",
          "flocking",
          "flocking",
          "flocking",
          "flocking",
          "flocking",
          "flocking",
          "flocking",
          "flocking",
          "flocking",
          "flocking",
          "flocking",
          "flocking",
          "flocking",
          "flocking",
          "flocking",
          "flocking",
          "flocking",
          "flocking",
          "flocking",
          "flocking",
          "flocking",
          "flocking",
          "flocking",
          "flocking",
          "flocking",
          "flocking",
          "flocking",
          "flocking",
          "flocking",
          "flocking",
          "flocking",
          "flocking",
          "flocking",
          "flocking",
          "flocking",
          "flocking",
          "flocking",
          "flocking",
          "flocking",
          "flocking",
          "flocking",
          "flocking",
          "flocking",
          "flocking",
          "flocking",
          "flocking",
          "flocking",
          "flocking",
          "flocking",
          "flocking",
          "flocking",
          "flocking",
          "flocking",
          "flocking",
          "flocking",
          "flocking",
          "flocking",
          "flocking",
          "flocking",
          "flocking",
          "flocking",
          "flocking",
          "flocking",
          "flocking",
          "flocking",
          "flocking",
          "flocking",
          "flocking",
          "flocking",
          "flocking",
          "flocking",
          "flocking",
          "flocking",
          "flocking",
          "flocking",
          "flocking",
          "flocking",
          "flocking",
          "flocking",
          "flocking",
          "flocking",
          "flocking",
          "flocking",
          "flocking",
          "flocking",
          "flocking",
          "flocking",
          "flocking",
          "flocking",
          "flocking",
          "flocking",
          "flocking",
          "flocking",
          "flocking",
          "flocking",
          "flocking",
          "flocking",
          "flocking",
          "flocking",
          "flocking",
          "flocking",
          "flocking",
          "flocking",
          "flocking",
          "flocking",
          "flocking",
          "flocking",
          "flocking",
          "flocking",
          "flocking",
          "flocking",
          "flocking",
          "flocking",
          "flocking",
          "flocking",
          "flocking",
          "flocking",
          "flocking",
          "flocking",
          "flocking",
          "flocking",
          "flocking",
          "flocking",
          "flocking",
          "flocking",
          "flocking",
          "flocking",
          "flocking",
          "flocking",
          "flocking",
          "flocking",
          "flocking",
          "flocking",
          "flocking",
          "flocking",
          "flocking",
          "flocking",
          "flocking",
          "flocking",
          "flocking",
          "flocking",
          "flocking",
          "flocking",
          "flocking",
          "flocking",
          "flocking",
          "flocking",
          "flocking",
          "flocking",
          "flocking",
          "flocking",
          "flocking",
          "flocking",
          "flocking",
          "flocking",
          "flocking",
          "flocking",
          "flocking",
          "flocking",
          "flocking",
          "flocking",
          "flocking",
          "flocking",
          "flocking",
          "flocking",
          "flocking",
          "flocking",
          "flocking",
          "flocking",
          "flocking",
          "flocking",
          "flocking",
          "flocking",
          "flocking",
          "flocking",
          "flocking",
          "flocking",
          "flocking",
          "flocking",
          "flocking",
          "flocking",
          "flocking",
          "flocking",
          "flocking",
          "flocking",
          "flocking",
          "flocking",
          "flocking",
          "flocking",
          "flocking",
          "flocking",
          "flocking",
          "flocking",
          "flocking",
          "flocking",
          "flocking",
          "flocking",
          "flocking",
          "flocking",
          "flocking",
          "flocking",
          "flocking",
          "flocking",
          "flocking",
          "flocking",
          "flocking",
          "flocking",
          "flocking",
          "flocking",
          "flocking",
          "flocking",
          "flocking",
          "flocking",
          "flocking",
          "flocking",
          "flocking",
          "flocking",
          "flocking",
          "flocking",
          "flocking",
          "flocking",
          "flocking",
          "flocking",
          "flocking",
          "flocking",
          "flocking",
          "flocking",
          "flocking",
          "flocking",
          "flocking",
          "flocking",
          "flocking",
          "flocking",
          "flocking",
          "flocking",
          "flocking",
          "flocking",
          "flocking",
          "flocking",
          "flocking",
          "flocking",
          "flocking",
          "flocking",
          "flocking",
          "flocking",
          "flocking",
          "flocking",
          "flocking",
          "flocking",
          "flocking",
          "flocking",
          "flocking",
          "flocking",
          "flocking",
          "flocking",
          "flocking",
          "flocking",
          "flocking",
          "flocking",
          "flocking",
          "flocking",
          "flocking",
          "flocking",
          "flocking",
          "flocking",
          "flocking",
          "flocking",
          "flocking",
          "flocking",
          "flocking",
          "flocking",
          "flocking",
          "flocking",
          "flocking",
          "flocking",
          "flocking",
          "flocking",
          "flocking",
          "flocking",
          "flocking",
          "flocking",
          "flocking",
          "flocking",
          "flocking",
          "flocking",
          "flocking",
          "flocking",
          "flocking",
          "flocking",
          "flocking",
          "flocking",
          "flocking",
          "flocking",
          "flocking",
          "flocking",
          "flocking",
          "flocking",
          "flocking",
          "flocking",
          "flocking",
          "flocking",
          "flocking",
          "flocking",
          "flocking",
          "flocking",
          "flocking",
          "flocking",
          "flocking",
          "flocking",
          "flocking",
          "flocking",
          "flocking",
          "flocking",
          "flocking",
          "flocking",
          "flocking",
          "flocking",
          "flocking",
          "flocking",
          "flocking",
          "flocking",
          "flocking",
          "flocking",
          "flocking",
          "flocking",
          "flocking",
          "flocking",
          "flocking",
          "flocking",
          "flocking",
          "flocking",
          "flocking",
          "flocking",
          "flocking",
          "flocking",
          "flocking",
          "flocking",
          "flocking",
          "flocking",
          "flocking",
          "flocking",
          "flocking",
          "flocking",
          "flocking",
          "flocking",
          "flocking",
          "flocking",
          "flocking",
          "flocking",
          "flocking",
          "flocking",
          "flocking",
          "flocking",
          "flocking",
          "flocking",
          "flocking",
          "flocking",
          "flocking",
          "flocking",
          "flocking",
          "flocking",
          "flocking",
          "flocking",
          "flocking",
          "flocking",
          "flocking",
          "flocking",
          "flocking",
          "flocking",
          "flocking",
          "flocking",
          "flocking",
          "flocking",
          "flocking",
          "flocking",
          "flocking",
          "flocking",
          "flocking",
          "flocking",
          "flocking",
          "flocking",
          "flocking",
          "flocking",
          "flocking",
          "flocking",
          "flocking",
          "flocking",
          "flocking",
          "flocking",
          "flocking",
          "flocking",
          "flocking",
          "flocking",
          "flocking",
          "flocking",
          "flocking",
          "flocking",
          "flocking",
          "flocking",
          "flocking",
          "flocking",
          "flocking",
          "flocking",
          "flocking",
          "flocking",
          "flocking",
          "flocking",
          "flocking",
          "flocking",
          "flocking",
          "flocking",
          "flocking",
          "flocking",
          "flocking",
          "flocking",
          "flocking",
          "flocking",
          "flocking",
          "flocking",
          "flocking",
          "flocking",
          "flocking",
          "flocking",
          "flocking",
          "flocking",
          "flocking",
          "flocking",
          "flocking",
          "flocking",
          "flocking",
          "flocking",
          "flocking",
          "flocking",
          "flocking",
          "flocking",
          "flocking",
          "flocking",
          "flocking",
          "flocking",
          "flocking",
          "flocking",
          "flocking",
          "flocking",
          "flocking",
          "flocking",
          "flocking",
          "flocking",
          "flocking",
          "flocking",
          "flocking",
          "flocking",
          "flocking",
          "flocking",
          "flocking",
          "flocking",
          "flocking",
          "flocking",
          "flocking",
          "flocking",
          "flocking",
          "flocking",
          "flocking",
          "flocking",
          "flocking",
          "flocking",
          "flocking",
          "flocking",
          "flocking",
          "flocking",
          "flocking",
          "flocking",
          "flocking",
          "flocking",
          "flocking",
          "flocking",
          "flocking",
          "flocking",
          "flocking",
          "flocking",
          "flocking",
          "flocking",
          "flocking",
          "flocking",
          "flocking",
          "flocking",
          "flocking",
          "flocking",
          "flocking",
          "flocking",
          "flocking",
          "flocking",
          "flocking",
          "flocking",
          "flocking",
          "flocking",
          "flocking",
          "flocking",
          "flocking",
          "flocking",
          "flocking",
          "flocking",
          "flocking",
          "flocking",
          "flocking",
          "flocking",
          "flocking",
          "flocking",
          "flocking",
          "flocking",
          "flocking",
          "flocking",
          "flocking",
          "flocking",
          "flocking",
          "flocking",
          "flocking",
          "flocking",
          "flocking",
          "flocking",
          "flocking",
          "flocking",
          "flocking",
          "flocking",
          "flocking",
          "flocking",
          "flocking",
          "flocking",
          "flocking",
          "flocking",
          "flocking",
          "flocking",
          "flocking",
          "flocking",
          "flocking",
          "flocking",
          "flocking",
          "flocking",
          "flocking",
          "flocking",
          "flocking",
          "flocking",
          "flocking",
          "flocking",
          "flocking",
          "flocking",
          "flocking",
          "flocking"
         ],
         "x0": " ",
         "xaxis": "x",
         "y": [
          0,
          0,
          0,
          0,
          0,
          0,
          0,
          0,
          0,
          0.01084187243106111,
          0,
          0.1469468894891965,
          0,
          0,
          0,
          0,
          0,
          0,
          0.30462453834939357,
          0,
          0,
          0,
          0,
          0,
          0,
          0,
          0,
          0,
          0,
          172.21336484415767,
          89.93181718977782,
          0,
          1.1310735912513195,
          0,
          0.0023708010959557495,
          0,
          0,
          0,
          0,
          0,
          0,
          0,
          0,
          0,
          0,
          0,
          0,
          0,
          0,
          0,
          0,
          0,
          0,
          0,
          0.5046862839276248,
          0.10348016215869708,
          0,
          0,
          0,
          0,
          1.346320325005995,
          0,
          0,
          0,
          0,
          0,
          0,
          0,
          0.6303406006368605,
          0,
          0,
          0,
          0,
          0,
          0,
          0,
          0,
          0,
          0,
          0,
          0,
          0,
          0,
          0.5464185923489109,
          0,
          0.20894997215897765,
          0,
          0,
          0,
          0.021250347027904223,
          0,
          0,
          0,
          0,
          0.2685112011879164,
          0,
          0,
          0,
          0,
          0,
          0,
          0,
          0,
          0,
          0,
          0,
          0,
          0,
          0,
          0,
          0,
          0,
          0,
          0,
          0,
          0,
          0,
          0,
          0,
          0,
          0,
          0,
          0,
          0,
          0.02666288699995339,
          0,
          0,
          0,
          0,
          0,
          0,
          0,
          0,
          0,
          0,
          0,
          0,
          0,
          0,
          0,
          0,
          0,
          0,
          0,
          0.3690548735194082,
          0,
          0,
          0,
          0,
          0,
          0,
          0,
          0,
          0,
          0,
          0,
          0,
          0,
          0,
          0,
          0,
          0,
          0,
          0,
          0,
          0.9103491521044332,
          0,
          0,
          0,
          0,
          0.5951894795406997,
          0,
          0,
          0,
          0,
          0,
          0,
          0,
          0,
          0,
          0,
          0,
          0,
          0,
          0,
          0,
          0,
          0,
          0,
          0,
          0,
          0,
          0,
          0,
          0.4733487923144175,
          0,
          0,
          0,
          0,
          0,
          0,
          0,
          0,
          0,
          0,
          0,
          0,
          null,
          0,
          0,
          0,
          0,
          0,
          0,
          0,
          0,
          0,
          0,
          0,
          0,
          0,
          0,
          0,
          0,
          0,
          0,
          0,
          0,
          0,
          0,
          0,
          0,
          0,
          0,
          0,
          0,
          0,
          0,
          0,
          0,
          0,
          0,
          0,
          0,
          0,
          0,
          0,
          0,
          0,
          0,
          0,
          0,
          0,
          0,
          0,
          0,
          0,
          0,
          0,
          0,
          0,
          0,
          0,
          0,
          0,
          0,
          0,
          0,
          0,
          0,
          0,
          0.33682398125261026,
          0,
          0,
          0,
          0,
          0,
          0,
          0,
          0,
          0,
          0,
          0,
          0,
          0,
          0,
          0,
          0,
          0,
          0,
          0,
          0,
          0,
          0,
          0,
          0,
          0,
          0,
          0,
          0,
          0,
          0,
          0,
          0,
          0,
          0,
          0,
          0,
          0,
          0,
          0,
          0,
          0,
          0,
          0,
          0,
          0,
          0,
          0,
          0,
          0.1616496288539001,
          0,
          0,
          0,
          0,
          0,
          0,
          0,
          0,
          0,
          0,
          0,
          0,
          0,
          0,
          0,
          0,
          0,
          0,
          0,
          0,
          0,
          0,
          0,
          0,
          0,
          0,
          0,
          0,
          0,
          0,
          0,
          0,
          0,
          0,
          0,
          0.16004703539132334,
          0,
          0,
          0,
          0,
          0,
          0,
          0,
          0,
          0,
          0,
          0.8381265704982367,
          0,
          0,
          0,
          0.9678312196607153,
          0,
          0,
          0,
          0,
          0,
          0,
          0,
          0,
          0,
          0,
          0,
          0,
          0,
          0,
          0,
          0,
          0,
          0,
          0,
          0,
          0,
          0,
          0,
          0,
          0,
          0,
          0,
          0,
          0,
          0,
          0.14676288668536083,
          0,
          0,
          0,
          0,
          0,
          0,
          0,
          0,
          0,
          0,
          0,
          0,
          0,
          0,
          0,
          0,
          0,
          0,
          0,
          0,
          0,
          0,
          0,
          0.0982259921578988,
          0,
          0,
          0,
          0,
          0,
          0,
          0,
          0,
          0.7000593312238766,
          0,
          0,
          0,
          0,
          0,
          0,
          0,
          0,
          0.6212367014641204,
          0,
          0,
          0,
          0,
          0,
          0,
          0,
          0.04112636835006919,
          0,
          0,
          0,
          0,
          0,
          0,
          0,
          0.6842399784211659,
          0,
          0,
          0,
          0,
          0,
          0,
          0,
          0,
          0,
          0,
          0,
          0,
          0,
          0,
          0,
          0,
          0,
          0,
          0,
          0,
          0,
          0,
          0,
          0,
          0,
          0,
          0,
          0.10950448007592234,
          0.4786762416899634,
          0,
          0,
          0,
          0,
          0,
          0,
          0,
          0,
          0,
          0,
          0,
          0,
          0,
          0,
          0,
          0,
          0,
          0.11713272729262725,
          0,
          0.04872498774996058,
          0,
          0,
          0.034577613671214674,
          0.007943985586590829,
          0,
          0,
          0,
          0,
          0,
          0,
          0,
          0.006968565267758189,
          0.2832340441765146,
          0,
          0,
          0,
          0,
          0,
          0.0160856757058386,
          0,
          0,
          0,
          0.09001155763751645,
          0,
          1.733989889682038,
          0,
          0.6256047202431918,
          0,
          0,
          0,
          0,
          0,
          0,
          0,
          0,
          0,
          0,
          0,
          0,
          0,
          6.744950912315064,
          0,
          0,
          0,
          0,
          0,
          0,
          0,
          0.2819271270223281,
          0,
          0,
          0,
          0,
          0,
          0,
          0,
          0,
          0,
          0,
          0.8297319656232901,
          0,
          0,
          0.5362425944825694,
          0,
          0,
          0,
          0,
          172.19802397957406,
          0,
          0,
          0.1357610518921946,
          64.9876442930388,
          0.0023708010959557495,
          0,
          0.6634431341966727,
          1.8186888062631905,
          0,
          0,
          0,
          0,
          0,
          0,
          0,
          0,
          0,
          0,
          0,
          0,
          0,
          0,
          0,
          0,
          0,
          0.10348016215869708,
          0,
          1.6540088979566374,
          0,
          0,
          0,
          0,
          0,
          0,
          0,
          0,
          0,
          0,
          7.905338416236068,
          1.446974824547588,
          0,
          1.1242814756104673,
          0.2672516974137079,
          0,
          0.29648535307958074,
          0,
          0,
          0,
          0,
          0.8871569852076662,
          0.7218112209995577,
          0,
          0,
          0,
          0,
          0,
          0.4334164317872886,
          0.534843696229917,
          0.5464185923489109,
          0,
          0.20894997215897765,
          0,
          0.9244179284488744,
          0,
          0,
          0,
          0,
          3.7996975868520955,
          3.1806013014286276,
          0,
          0,
          0,
          0,
          0,
          0,
          0.45114007455248756,
          0,
          0,
          0,
          0,
          0,
          6.4641728101356355,
          0,
          0,
          0,
          0,
          0,
          0,
          0,
          0,
          0,
          0,
          0,
          0.3223912105818523,
          0.19031385078941862,
          0,
          0,
          0,
          0,
          0,
          0,
          0.31407406534115845,
          0,
          0,
          0,
          0,
          0,
          0,
          0,
          0,
          0.8278936617426549,
          0.041372716163840015,
          0.040455529504543467,
          0,
          0,
          0,
          0.3690548735194082,
          0,
          0,
          0,
          0.06884851861093805,
          0,
          0,
          0,
          0,
          0,
          0,
          0,
          0,
          0,
          0,
          0,
          0.19728154624858787,
          0,
          0,
          5.2304104487742755,
          0,
          0,
          0,
          0,
          0,
          0,
          0,
          2.5919888615075632,
          0,
          0.970732176290781,
          0,
          0,
          0,
          0.3721427378437823,
          0.10576576981646076,
          0,
          0,
          0,
          0,
          0,
          0,
          0,
          0,
          0,
          0,
          5.11913174682148,
          0,
          0,
          0,
          0,
          0,
          1.1400712940109707,
          0,
          0,
          0,
          0,
          0,
          3.0234992607848046,
          0,
          0.24335085356189742,
          0,
          0,
          0,
          0,
          0,
          0,
          0,
          0,
          0,
          1.684529006195528,
          0,
          0,
          0,
          0,
          0,
          0.0178733317768842,
          0,
          0,
          0,
          0,
          0,
          0,
          0,
          0,
          0,
          0,
          0,
          0,
          0,
          0,
          0,
          0.3299164237265464,
          0,
          0,
          0,
          0,
          0,
          0,
          0,
          0,
          0,
          0,
          0,
          0,
          0,
          0,
          0,
          0,
          0,
          0,
          0,
          0,
          0,
          0.21421126120286493,
          0,
          0,
          0,
          0,
          0,
          0,
          3.93316451392213,
          0,
          0,
          0,
          1.3060290490410948,
          0,
          0,
          0,
          0,
          1.9246461956040315,
          0,
          0,
          0,
          0,
          0,
          0,
          0,
          0,
          0,
          0,
          0,
          0,
          0,
          0,
          0,
          0,
          0,
          0.09863481708772134,
          0,
          0,
          0,
          0,
          0,
          0,
          0,
          0,
          0.09970381845538971,
          0,
          0,
          0,
          0,
          0,
          0,
          0,
          0,
          0,
          0,
          0,
          1.0988703390530945,
          0,
          0,
          0,
          0,
          0,
          0,
          0,
          0,
          1.9455607375815471,
          0,
          0,
          0,
          0,
          0,
          0,
          0,
          0,
          0,
          0.6745529623333486,
          0,
          0,
          0,
          0,
          0,
          0,
          0,
          0,
          0,
          0,
          0,
          0,
          0.9173545872869054,
          0,
          0,
          2.7835969030301806,
          0,
          0,
          0,
          0.011459997850467696,
          0,
          0,
          1.48563362510088,
          0,
          1.222811122802937,
          0,
          0,
          0,
          0,
          0,
          0,
          0,
          0.5023546844779898,
          0,
          0,
          1.0482338490786218,
          0,
          0,
          0,
          0,
          0.26852246759970166,
          0,
          0,
          0,
          0,
          0,
          0,
          0.2768167985555098,
          0,
          0,
          5.058895479007891,
          0,
          0,
          0,
          0,
          0,
          1.8047979243335974,
          0.008118711408656174,
          0,
          0,
          0,
          0,
          0.18126292692508628,
          0,
          0,
          0,
          1.5614360310275133,
          0,
          0,
          0,
          0.6530865328791998,
          3.1631669514532006,
          0,
          0,
          0,
          0,
          0,
          0,
          0,
          0,
          1.0642379023759125,
          0,
          0,
          0,
          0,
          0,
          0,
          0,
          1.1247402579166381,
          0,
          0.7758596609295031,
          0.313709778879295,
          0,
          0,
          0,
          0,
          0,
          0,
          0,
          0,
          0,
          0,
          0.8936528682611511,
          0,
          0,
          0.25863698875137797,
          0,
          0,
          1.0508945009666018,
          0,
          0,
          0,
          0,
          0,
          0,
          0,
          0,
          0,
          0,
          0.04112636835006919,
          0,
          0.6965473165817693,
          0,
          0,
          0,
          0,
          0,
          0,
          0,
          0,
          0,
          0,
          0,
          0,
          0.9667785479475369,
          0,
          6.647615232108546,
          0,
          0,
          0,
          0,
          0,
          0,
          0,
          0,
          0,
          0,
          0,
          0,
          0,
          0,
          0,
          0,
          0,
          0,
          0,
          0.3019849060320782,
          0,
          0.6170238432339664,
          0.058898184286869174,
          0.038152184286632924,
          0,
          0,
          0,
          0.2832340441765146,
          0,
          0,
          0,
          0,
          0,
          0,
          0,
          0,
          0.4071163144077833,
          0,
          0,
          0,
          0,
          0.34831118520241405,
          0,
          0.27425927262396876,
          0,
          0.7601073175423947,
          0,
          0,
          0.17051594754223304,
          6.2353660346575,
          0,
          0,
          0.6114267970640689,
          0,
          0,
          0,
          0,
          0,
          0,
          0.28329720390698876,
          0,
          0.7535187974318045,
          0.07581526602016939,
          0,
          0,
          2.0291570152885123,
          0.14483935671657291,
          0,
          0,
          0,
          0,
          0,
          0,
          0,
          0,
          0,
          0,
          0,
          null,
          0,
          0.25653950869842995,
          0,
          0,
          0,
          0,
          0,
          0,
          0,
          0.031156474289535455,
          0,
          0,
          0,
          0,
          0,
          0,
          0,
          0,
          0,
          0,
          0,
          0,
          0.6291095215266767,
          0,
          0,
          0,
          172.17904310512063,
          0,
          0,
          66.83283436532162,
          0,
          0,
          0,
          0,
          2.0390552748945376,
          0.1300926040038609,
          0,
          0,
          0,
          0,
          0,
          0,
          0.0015526052504443405,
          0,
          0,
          0,
          0,
          0,
          0,
          0,
          0,
          0,
          0,
          0.733434396868467,
          0,
          0,
          0.10342654493661799,
          0,
          0,
          7.581877269491016,
          0,
          0,
          0,
          0,
          0,
          0,
          0,
          0,
          0,
          0.39092514376082454,
          0.7036632854650636,
          0,
          0,
          0,
          0,
          0,
          0.1924596623792248,
          0,
          0,
          0,
          0,
          0,
          0,
          0.17792790075614637,
          0,
          0,
          0.21373477348735254,
          0,
          0,
          0,
          1.0408460729761893,
          0,
          0,
          0.5269727397585805,
          0,
          1.4172246494092962,
          0,
          0,
          0,
          0,
          0,
          0,
          0,
          0,
          0,
          0,
          0,
          0,
          15.089999488767964,
          0,
          0,
          0,
          0,
          0,
          0,
          0,
          0,
          0,
          0,
          0,
          0,
          0,
          0.049343788446789646,
          0,
          0,
          0,
          0,
          0,
          0,
          0,
          0,
          0,
          0.016975779748499134,
          0,
          0,
          0,
          0,
          0,
          0.4477446463430932,
          0,
          0,
          0,
          0,
          0,
          0,
          0.597960836944679,
          0,
          0,
          0,
          0,
          0,
          0,
          0,
          0,
          0,
          0,
          0,
          0,
          0,
          0,
          0,
          0,
          10.282118476855954,
          0,
          0,
          0.9059748547987754,
          0,
          0,
          0,
          0,
          2.53874770013597,
          0,
          0,
          0,
          0,
          0,
          0,
          0,
          0,
          0.03485632055099259,
          0,
          0.05312593066255202,
          0,
          0,
          0,
          0,
          0,
          0,
          0,
          0,
          0,
          0,
          0,
          0,
          0,
          1.1718138717364746,
          0,
          0,
          0,
          0,
          0,
          0,
          0,
          0,
          0,
          0,
          0,
          0.16252063491735563,
          0,
          0.1909343880252486,
          0,
          0,
          0,
          0,
          0,
          0,
          0,
          0,
          0,
          0,
          0,
          0,
          0,
          0,
          0,
          0,
          0,
          0,
          0,
          0,
          0,
          0,
          0,
          0,
          0,
          0,
          0,
          0,
          0,
          0,
          0,
          0,
          0,
          0,
          0,
          0,
          0,
          0,
          0,
          0,
          0,
          0,
          0,
          0,
          0,
          0,
          0,
          0,
          0,
          0,
          0,
          0,
          0,
          0,
          0,
          1.7421193016111016,
          0,
          0,
          0,
          0,
          0,
          0,
          0,
          2.797196590159164,
          0,
          0,
          0.9818469605445922,
          0,
          0,
          0,
          0,
          0,
          0,
          0,
          0,
          0,
          0,
          0,
          0,
          0,
          0,
          0,
          0,
          0,
          0,
          0,
          0,
          0,
          0,
          0,
          0,
          0,
          0,
          0,
          0,
          0,
          0,
          0,
          0,
          0,
          0,
          0,
          0,
          0,
          0,
          0,
          0,
          0,
          0.007866112076396049,
          0,
          0,
          2.224226763793602,
          0,
          0,
          0,
          0,
          0,
          0,
          0,
          0,
          0.9763634628320558,
          0,
          0,
          0,
          0,
          0,
          0,
          0,
          0,
          0,
          0,
          0,
          0,
          0,
          0,
          0,
          0,
          0,
          0,
          0,
          0,
          0,
          0,
          1.1185285120973691,
          0,
          0,
          0,
          0,
          0,
          0,
          0,
          0,
          0,
          0,
          0,
          0,
          0,
          0.2693100093200661,
          0,
          0,
          0,
          0,
          0,
          0,
          0,
          0,
          0,
          1.1390805582131134,
          0.30448417394486166,
          0,
          0,
          0,
          0,
          0,
          0,
          0,
          0,
          1.2300190832632687,
          0.055340166507783006,
          0.2033543527653797,
          0,
          0,
          0,
          2.063439108318656,
          2.2989003956008847,
          0,
          0,
          0,
          0,
          0,
          1.0093459012528254,
          0,
          0.5105478739861183,
          0,
          0,
          0,
          0,
          0,
          0,
          0,
          0,
          0,
          0,
          0,
          0,
          0,
          0.12865948438147348,
          0,
          0,
          0,
          0,
          0,
          0,
          0,
          0.10442200093029375,
          0.0886282299613994,
          0,
          0,
          0,
          0,
          0,
          0.12163899747364834,
          0,
          0,
          0,
          0,
          0,
          0,
          0,
          0,
          0,
          0,
          0,
          0,
          0,
          0,
          0.0951736851143463,
          0,
          0,
          0,
          0,
          0,
          0,
          0,
          0,
          0,
          0,
          0,
          0,
          0,
          0,
          0,
          0,
          0,
          0,
          0,
          0,
          0,
          0,
          0,
          0,
          0,
          0,
          0,
          0,
          0,
          0,
          0,
          0,
          0,
          0,
          0,
          0.42379248275567666,
          0,
          0,
          11.025716720427281,
          0,
          0,
          0,
          0,
          0,
          0,
          0,
          0.06053949987042339,
          0,
          0,
          0,
          0,
          0,
          0,
          0,
          0.20731631306157108,
          0,
          0,
          0,
          0,
          0,
          0,
          0,
          0.07187201136659858,
          0,
          0,
          0,
          0.18904509226300037,
          0,
          0,
          0,
          0.18845191241267503,
          0,
          0,
          0,
          0.21658928584621825,
          0,
          0.307040076270769,
          0,
          0,
          0.2551888433685582,
          0,
          0,
          0.5115506151944534,
          0,
          0,
          0,
          0,
          0,
          0,
          0,
          0,
          0,
          0,
          0,
          0,
          0,
          0,
          0,
          0,
          0,
          0,
          null
         ],
         "y0": " ",
         "yaxis": "y"
        },
        {
         "line": {
          "color": "green",
          "width": 2
         },
         "mode": "lines",
         "name": "mean",
         "showlegend": true,
         "type": "scatter",
         "x": [
          "hj_naive",
          "hj_reactive",
          "flocking"
         ],
         "y": [
          0.5073981506901872,
          0.6602556119650707,
          0.5833058160461942
         ]
        }
       ],
       "layout": {
        "boxmode": "group",
        "legend": {
         "tracegroupgap": 0
        },
        "margin": {
         "t": 60
        },
        "template": {
         "data": {
          "bar": [
           {
            "error_x": {
             "color": "#2a3f5f"
            },
            "error_y": {
             "color": "#2a3f5f"
            },
            "marker": {
             "line": {
              "color": "#E5ECF6",
              "width": 0.5
             },
             "pattern": {
              "fillmode": "overlay",
              "size": 10,
              "solidity": 0.2
             }
            },
            "type": "bar"
           }
          ],
          "barpolar": [
           {
            "marker": {
             "line": {
              "color": "#E5ECF6",
              "width": 0.5
             },
             "pattern": {
              "fillmode": "overlay",
              "size": 10,
              "solidity": 0.2
             }
            },
            "type": "barpolar"
           }
          ],
          "carpet": [
           {
            "aaxis": {
             "endlinecolor": "#2a3f5f",
             "gridcolor": "white",
             "linecolor": "white",
             "minorgridcolor": "white",
             "startlinecolor": "#2a3f5f"
            },
            "baxis": {
             "endlinecolor": "#2a3f5f",
             "gridcolor": "white",
             "linecolor": "white",
             "minorgridcolor": "white",
             "startlinecolor": "#2a3f5f"
            },
            "type": "carpet"
           }
          ],
          "choropleth": [
           {
            "colorbar": {
             "outlinewidth": 0,
             "ticks": ""
            },
            "type": "choropleth"
           }
          ],
          "contour": [
           {
            "colorbar": {
             "outlinewidth": 0,
             "ticks": ""
            },
            "colorscale": [
             [
              0,
              "#0d0887"
             ],
             [
              0.1111111111111111,
              "#46039f"
             ],
             [
              0.2222222222222222,
              "#7201a8"
             ],
             [
              0.3333333333333333,
              "#9c179e"
             ],
             [
              0.4444444444444444,
              "#bd3786"
             ],
             [
              0.5555555555555556,
              "#d8576b"
             ],
             [
              0.6666666666666666,
              "#ed7953"
             ],
             [
              0.7777777777777778,
              "#fb9f3a"
             ],
             [
              0.8888888888888888,
              "#fdca26"
             ],
             [
              1,
              "#f0f921"
             ]
            ],
            "type": "contour"
           }
          ],
          "contourcarpet": [
           {
            "colorbar": {
             "outlinewidth": 0,
             "ticks": ""
            },
            "type": "contourcarpet"
           }
          ],
          "heatmap": [
           {
            "colorbar": {
             "outlinewidth": 0,
             "ticks": ""
            },
            "colorscale": [
             [
              0,
              "#0d0887"
             ],
             [
              0.1111111111111111,
              "#46039f"
             ],
             [
              0.2222222222222222,
              "#7201a8"
             ],
             [
              0.3333333333333333,
              "#9c179e"
             ],
             [
              0.4444444444444444,
              "#bd3786"
             ],
             [
              0.5555555555555556,
              "#d8576b"
             ],
             [
              0.6666666666666666,
              "#ed7953"
             ],
             [
              0.7777777777777778,
              "#fb9f3a"
             ],
             [
              0.8888888888888888,
              "#fdca26"
             ],
             [
              1,
              "#f0f921"
             ]
            ],
            "type": "heatmap"
           }
          ],
          "heatmapgl": [
           {
            "colorbar": {
             "outlinewidth": 0,
             "ticks": ""
            },
            "colorscale": [
             [
              0,
              "#0d0887"
             ],
             [
              0.1111111111111111,
              "#46039f"
             ],
             [
              0.2222222222222222,
              "#7201a8"
             ],
             [
              0.3333333333333333,
              "#9c179e"
             ],
             [
              0.4444444444444444,
              "#bd3786"
             ],
             [
              0.5555555555555556,
              "#d8576b"
             ],
             [
              0.6666666666666666,
              "#ed7953"
             ],
             [
              0.7777777777777778,
              "#fb9f3a"
             ],
             [
              0.8888888888888888,
              "#fdca26"
             ],
             [
              1,
              "#f0f921"
             ]
            ],
            "type": "heatmapgl"
           }
          ],
          "histogram": [
           {
            "marker": {
             "pattern": {
              "fillmode": "overlay",
              "size": 10,
              "solidity": 0.2
             }
            },
            "type": "histogram"
           }
          ],
          "histogram2d": [
           {
            "colorbar": {
             "outlinewidth": 0,
             "ticks": ""
            },
            "colorscale": [
             [
              0,
              "#0d0887"
             ],
             [
              0.1111111111111111,
              "#46039f"
             ],
             [
              0.2222222222222222,
              "#7201a8"
             ],
             [
              0.3333333333333333,
              "#9c179e"
             ],
             [
              0.4444444444444444,
              "#bd3786"
             ],
             [
              0.5555555555555556,
              "#d8576b"
             ],
             [
              0.6666666666666666,
              "#ed7953"
             ],
             [
              0.7777777777777778,
              "#fb9f3a"
             ],
             [
              0.8888888888888888,
              "#fdca26"
             ],
             [
              1,
              "#f0f921"
             ]
            ],
            "type": "histogram2d"
           }
          ],
          "histogram2dcontour": [
           {
            "colorbar": {
             "outlinewidth": 0,
             "ticks": ""
            },
            "colorscale": [
             [
              0,
              "#0d0887"
             ],
             [
              0.1111111111111111,
              "#46039f"
             ],
             [
              0.2222222222222222,
              "#7201a8"
             ],
             [
              0.3333333333333333,
              "#9c179e"
             ],
             [
              0.4444444444444444,
              "#bd3786"
             ],
             [
              0.5555555555555556,
              "#d8576b"
             ],
             [
              0.6666666666666666,
              "#ed7953"
             ],
             [
              0.7777777777777778,
              "#fb9f3a"
             ],
             [
              0.8888888888888888,
              "#fdca26"
             ],
             [
              1,
              "#f0f921"
             ]
            ],
            "type": "histogram2dcontour"
           }
          ],
          "mesh3d": [
           {
            "colorbar": {
             "outlinewidth": 0,
             "ticks": ""
            },
            "type": "mesh3d"
           }
          ],
          "parcoords": [
           {
            "line": {
             "colorbar": {
              "outlinewidth": 0,
              "ticks": ""
             }
            },
            "type": "parcoords"
           }
          ],
          "pie": [
           {
            "automargin": true,
            "type": "pie"
           }
          ],
          "scatter": [
           {
            "fillpattern": {
             "fillmode": "overlay",
             "size": 10,
             "solidity": 0.2
            },
            "type": "scatter"
           }
          ],
          "scatter3d": [
           {
            "line": {
             "colorbar": {
              "outlinewidth": 0,
              "ticks": ""
             }
            },
            "marker": {
             "colorbar": {
              "outlinewidth": 0,
              "ticks": ""
             }
            },
            "type": "scatter3d"
           }
          ],
          "scattercarpet": [
           {
            "marker": {
             "colorbar": {
              "outlinewidth": 0,
              "ticks": ""
             }
            },
            "type": "scattercarpet"
           }
          ],
          "scattergeo": [
           {
            "marker": {
             "colorbar": {
              "outlinewidth": 0,
              "ticks": ""
             }
            },
            "type": "scattergeo"
           }
          ],
          "scattergl": [
           {
            "marker": {
             "colorbar": {
              "outlinewidth": 0,
              "ticks": ""
             }
            },
            "type": "scattergl"
           }
          ],
          "scattermapbox": [
           {
            "marker": {
             "colorbar": {
              "outlinewidth": 0,
              "ticks": ""
             }
            },
            "type": "scattermapbox"
           }
          ],
          "scatterpolar": [
           {
            "marker": {
             "colorbar": {
              "outlinewidth": 0,
              "ticks": ""
             }
            },
            "type": "scatterpolar"
           }
          ],
          "scatterpolargl": [
           {
            "marker": {
             "colorbar": {
              "outlinewidth": 0,
              "ticks": ""
             }
            },
            "type": "scatterpolargl"
           }
          ],
          "scatterternary": [
           {
            "marker": {
             "colorbar": {
              "outlinewidth": 0,
              "ticks": ""
             }
            },
            "type": "scatterternary"
           }
          ],
          "surface": [
           {
            "colorbar": {
             "outlinewidth": 0,
             "ticks": ""
            },
            "colorscale": [
             [
              0,
              "#0d0887"
             ],
             [
              0.1111111111111111,
              "#46039f"
             ],
             [
              0.2222222222222222,
              "#7201a8"
             ],
             [
              0.3333333333333333,
              "#9c179e"
             ],
             [
              0.4444444444444444,
              "#bd3786"
             ],
             [
              0.5555555555555556,
              "#d8576b"
             ],
             [
              0.6666666666666666,
              "#ed7953"
             ],
             [
              0.7777777777777778,
              "#fb9f3a"
             ],
             [
              0.8888888888888888,
              "#fdca26"
             ],
             [
              1,
              "#f0f921"
             ]
            ],
            "type": "surface"
           }
          ],
          "table": [
           {
            "cells": {
             "fill": {
              "color": "#EBF0F8"
             },
             "line": {
              "color": "white"
             }
            },
            "header": {
             "fill": {
              "color": "#C8D4E3"
             },
             "line": {
              "color": "white"
             }
            },
            "type": "table"
           }
          ]
         },
         "layout": {
          "annotationdefaults": {
           "arrowcolor": "#2a3f5f",
           "arrowhead": 0,
           "arrowwidth": 1
          },
          "autotypenumbers": "strict",
          "coloraxis": {
           "colorbar": {
            "outlinewidth": 0,
            "ticks": ""
           }
          },
          "colorscale": {
           "diverging": [
            [
             0,
             "#8e0152"
            ],
            [
             0.1,
             "#c51b7d"
            ],
            [
             0.2,
             "#de77ae"
            ],
            [
             0.3,
             "#f1b6da"
            ],
            [
             0.4,
             "#fde0ef"
            ],
            [
             0.5,
             "#f7f7f7"
            ],
            [
             0.6,
             "#e6f5d0"
            ],
            [
             0.7,
             "#b8e186"
            ],
            [
             0.8,
             "#7fbc41"
            ],
            [
             0.9,
             "#4d9221"
            ],
            [
             1,
             "#276419"
            ]
           ],
           "sequential": [
            [
             0,
             "#0d0887"
            ],
            [
             0.1111111111111111,
             "#46039f"
            ],
            [
             0.2222222222222222,
             "#7201a8"
            ],
            [
             0.3333333333333333,
             "#9c179e"
            ],
            [
             0.4444444444444444,
             "#bd3786"
            ],
            [
             0.5555555555555556,
             "#d8576b"
            ],
            [
             0.6666666666666666,
             "#ed7953"
            ],
            [
             0.7777777777777778,
             "#fb9f3a"
            ],
            [
             0.8888888888888888,
             "#fdca26"
            ],
            [
             1,
             "#f0f921"
            ]
           ],
           "sequentialminus": [
            [
             0,
             "#0d0887"
            ],
            [
             0.1111111111111111,
             "#46039f"
            ],
            [
             0.2222222222222222,
             "#7201a8"
            ],
            [
             0.3333333333333333,
             "#9c179e"
            ],
            [
             0.4444444444444444,
             "#bd3786"
            ],
            [
             0.5555555555555556,
             "#d8576b"
            ],
            [
             0.6666666666666666,
             "#ed7953"
            ],
            [
             0.7777777777777778,
             "#fb9f3a"
            ],
            [
             0.8888888888888888,
             "#fdca26"
            ],
            [
             1,
             "#f0f921"
            ]
           ]
          },
          "colorway": [
           "#636efa",
           "#EF553B",
           "#00cc96",
           "#ab63fa",
           "#FFA15A",
           "#19d3f3",
           "#FF6692",
           "#B6E880",
           "#FF97FF",
           "#FECB52"
          ],
          "font": {
           "color": "#2a3f5f"
          },
          "geo": {
           "bgcolor": "white",
           "lakecolor": "white",
           "landcolor": "#E5ECF6",
           "showlakes": true,
           "showland": true,
           "subunitcolor": "white"
          },
          "hoverlabel": {
           "align": "left"
          },
          "hovermode": "closest",
          "mapbox": {
           "style": "light"
          },
          "paper_bgcolor": "white",
          "plot_bgcolor": "#E5ECF6",
          "polar": {
           "angularaxis": {
            "gridcolor": "white",
            "linecolor": "white",
            "ticks": ""
           },
           "bgcolor": "#E5ECF6",
           "radialaxis": {
            "gridcolor": "white",
            "linecolor": "white",
            "ticks": ""
           }
          },
          "scene": {
           "xaxis": {
            "backgroundcolor": "#E5ECF6",
            "gridcolor": "white",
            "gridwidth": 2,
            "linecolor": "white",
            "showbackground": true,
            "ticks": "",
            "zerolinecolor": "white"
           },
           "yaxis": {
            "backgroundcolor": "#E5ECF6",
            "gridcolor": "white",
            "gridwidth": 2,
            "linecolor": "white",
            "showbackground": true,
            "ticks": "",
            "zerolinecolor": "white"
           },
           "zaxis": {
            "backgroundcolor": "#E5ECF6",
            "gridcolor": "white",
            "gridwidth": 2,
            "linecolor": "white",
            "showbackground": true,
            "ticks": "",
            "zerolinecolor": "white"
           }
          },
          "shapedefaults": {
           "line": {
            "color": "#2a3f5f"
           }
          },
          "ternary": {
           "aaxis": {
            "gridcolor": "white",
            "linecolor": "white",
            "ticks": ""
           },
           "baxis": {
            "gridcolor": "white",
            "linecolor": "white",
            "ticks": ""
           },
           "bgcolor": "#E5ECF6",
           "caxis": {
            "gridcolor": "white",
            "linecolor": "white",
            "ticks": ""
           }
          },
          "title": {
           "x": 0.05
          },
          "xaxis": {
           "automargin": true,
           "gridcolor": "white",
           "linecolor": "white",
           "ticks": "",
           "title": {
            "standoff": 15
           },
           "zerolinecolor": "white",
           "zerolinewidth": 2
          },
          "yaxis": {
           "automargin": true,
           "gridcolor": "white",
           "linecolor": "white",
           "ticks": "",
           "title": {
            "standoff": 15
           },
           "zerolinecolor": "white",
           "zerolinewidth": 2
          }
         }
        },
        "title": {
         "text": "Mean minimum distance to target among all platforms"
        },
        "xaxis": {
         "anchor": "y",
         "domain": [
          0,
          1
         ],
         "title": {
          "text": "controllers"
         }
        },
        "yaxis": {
         "anchor": "x",
         "domain": [
          0,
          1
         ],
         "title": {
          "text": " [km]"
         },
         "type": "log"
        }
       }
      },
      "text/html": [
       "<div>                            <div id=\"c09a68e0-5a80-4484-8ffc-1398728352bf\" class=\"plotly-graph-div\" style=\"height:525px; width:100%;\"></div>            <script type=\"text/javascript\">                require([\"plotly\"], function(Plotly) {                    window.PLOTLYENV=window.PLOTLYENV || {};                                    if (document.getElementById(\"c09a68e0-5a80-4484-8ffc-1398728352bf\")) {                    Plotly.newPlot(                        \"c09a68e0-5a80-4484-8ffc-1398728352bf\",                        [{\"alignmentgroup\":\"True\",\"hovertemplate\":\"variable=%{x}<br>value=%{y}<extra></extra>\",\"legendgroup\":\"\",\"marker\":{\"color\":\"#636efa\"},\"name\":\"\",\"notched\":false,\"offsetgroup\":\"\",\"orientation\":\"v\",\"showlegend\":false,\"x\":[\"hj_naive\",\"hj_naive\",\"hj_naive\",\"hj_naive\",\"hj_naive\",\"hj_naive\",\"hj_naive\",\"hj_naive\",\"hj_naive\",\"hj_naive\",\"hj_naive\",\"hj_naive\",\"hj_naive\",\"hj_naive\",\"hj_naive\",\"hj_naive\",\"hj_naive\",\"hj_naive\",\"hj_naive\",\"hj_naive\",\"hj_naive\",\"hj_naive\",\"hj_naive\",\"hj_naive\",\"hj_naive\",\"hj_naive\",\"hj_naive\",\"hj_naive\",\"hj_naive\",\"hj_naive\",\"hj_naive\",\"hj_naive\",\"hj_naive\",\"hj_naive\",\"hj_naive\",\"hj_naive\",\"hj_naive\",\"hj_naive\",\"hj_naive\",\"hj_naive\",\"hj_naive\",\"hj_naive\",\"hj_naive\",\"hj_naive\",\"hj_naive\",\"hj_naive\",\"hj_naive\",\"hj_naive\",\"hj_naive\",\"hj_naive\",\"hj_naive\",\"hj_naive\",\"hj_naive\",\"hj_naive\",\"hj_naive\",\"hj_naive\",\"hj_naive\",\"hj_naive\",\"hj_naive\",\"hj_naive\",\"hj_naive\",\"hj_naive\",\"hj_naive\",\"hj_naive\",\"hj_naive\",\"hj_naive\",\"hj_naive\",\"hj_naive\",\"hj_naive\",\"hj_naive\",\"hj_naive\",\"hj_naive\",\"hj_naive\",\"hj_naive\",\"hj_naive\",\"hj_naive\",\"hj_naive\",\"hj_naive\",\"hj_naive\",\"hj_naive\",\"hj_naive\",\"hj_naive\",\"hj_naive\",\"hj_naive\",\"hj_naive\",\"hj_naive\",\"hj_naive\",\"hj_naive\",\"hj_naive\",\"hj_naive\",\"hj_naive\",\"hj_naive\",\"hj_naive\",\"hj_naive\",\"hj_naive\",\"hj_naive\",\"hj_naive\",\"hj_naive\",\"hj_naive\",\"hj_naive\",\"hj_naive\",\"hj_naive\",\"hj_naive\",\"hj_naive\",\"hj_naive\",\"hj_naive\",\"hj_naive\",\"hj_naive\",\"hj_naive\",\"hj_naive\",\"hj_naive\",\"hj_naive\",\"hj_naive\",\"hj_naive\",\"hj_naive\",\"hj_naive\",\"hj_naive\",\"hj_naive\",\"hj_naive\",\"hj_naive\",\"hj_naive\",\"hj_naive\",\"hj_naive\",\"hj_naive\",\"hj_naive\",\"hj_naive\",\"hj_naive\",\"hj_naive\",\"hj_naive\",\"hj_naive\",\"hj_naive\",\"hj_naive\",\"hj_naive\",\"hj_naive\",\"hj_naive\",\"hj_naive\",\"hj_naive\",\"hj_naive\",\"hj_naive\",\"hj_naive\",\"hj_naive\",\"hj_naive\",\"hj_naive\",\"hj_naive\",\"hj_naive\",\"hj_naive\",\"hj_naive\",\"hj_naive\",\"hj_naive\",\"hj_naive\",\"hj_naive\",\"hj_naive\",\"hj_naive\",\"hj_naive\",\"hj_naive\",\"hj_naive\",\"hj_naive\",\"hj_naive\",\"hj_naive\",\"hj_naive\",\"hj_naive\",\"hj_naive\",\"hj_naive\",\"hj_naive\",\"hj_naive\",\"hj_naive\",\"hj_naive\",\"hj_naive\",\"hj_naive\",\"hj_naive\",\"hj_naive\",\"hj_naive\",\"hj_naive\",\"hj_naive\",\"hj_naive\",\"hj_naive\",\"hj_naive\",\"hj_naive\",\"hj_naive\",\"hj_naive\",\"hj_naive\",\"hj_naive\",\"hj_naive\",\"hj_naive\",\"hj_naive\",\"hj_naive\",\"hj_naive\",\"hj_naive\",\"hj_naive\",\"hj_naive\",\"hj_naive\",\"hj_naive\",\"hj_naive\",\"hj_naive\",\"hj_naive\",\"hj_naive\",\"hj_naive\",\"hj_naive\",\"hj_naive\",\"hj_naive\",\"hj_naive\",\"hj_naive\",\"hj_naive\",\"hj_naive\",\"hj_naive\",\"hj_naive\",\"hj_naive\",\"hj_naive\",\"hj_naive\",\"hj_naive\",\"hj_naive\",\"hj_naive\",\"hj_naive\",\"hj_naive\",\"hj_naive\",\"hj_naive\",\"hj_naive\",\"hj_naive\",\"hj_naive\",\"hj_naive\",\"hj_naive\",\"hj_naive\",\"hj_naive\",\"hj_naive\",\"hj_naive\",\"hj_naive\",\"hj_naive\",\"hj_naive\",\"hj_naive\",\"hj_naive\",\"hj_naive\",\"hj_naive\",\"hj_naive\",\"hj_naive\",\"hj_naive\",\"hj_naive\",\"hj_naive\",\"hj_naive\",\"hj_naive\",\"hj_naive\",\"hj_naive\",\"hj_naive\",\"hj_naive\",\"hj_naive\",\"hj_naive\",\"hj_naive\",\"hj_naive\",\"hj_naive\",\"hj_naive\",\"hj_naive\",\"hj_naive\",\"hj_naive\",\"hj_naive\",\"hj_naive\",\"hj_naive\",\"hj_naive\",\"hj_naive\",\"hj_naive\",\"hj_naive\",\"hj_naive\",\"hj_naive\",\"hj_naive\",\"hj_naive\",\"hj_naive\",\"hj_naive\",\"hj_naive\",\"hj_naive\",\"hj_naive\",\"hj_naive\",\"hj_naive\",\"hj_naive\",\"hj_naive\",\"hj_naive\",\"hj_naive\",\"hj_naive\",\"hj_naive\",\"hj_naive\",\"hj_naive\",\"hj_naive\",\"hj_naive\",\"hj_naive\",\"hj_naive\",\"hj_naive\",\"hj_naive\",\"hj_naive\",\"hj_naive\",\"hj_naive\",\"hj_naive\",\"hj_naive\",\"hj_naive\",\"hj_naive\",\"hj_naive\",\"hj_naive\",\"hj_naive\",\"hj_naive\",\"hj_naive\",\"hj_naive\",\"hj_naive\",\"hj_naive\",\"hj_naive\",\"hj_naive\",\"hj_naive\",\"hj_naive\",\"hj_naive\",\"hj_naive\",\"hj_naive\",\"hj_naive\",\"hj_naive\",\"hj_naive\",\"hj_naive\",\"hj_naive\",\"hj_naive\",\"hj_naive\",\"hj_naive\",\"hj_naive\",\"hj_naive\",\"hj_naive\",\"hj_naive\",\"hj_naive\",\"hj_naive\",\"hj_naive\",\"hj_naive\",\"hj_naive\",\"hj_naive\",\"hj_naive\",\"hj_naive\",\"hj_naive\",\"hj_naive\",\"hj_naive\",\"hj_naive\",\"hj_naive\",\"hj_naive\",\"hj_naive\",\"hj_naive\",\"hj_naive\",\"hj_naive\",\"hj_naive\",\"hj_naive\",\"hj_naive\",\"hj_naive\",\"hj_naive\",\"hj_naive\",\"hj_naive\",\"hj_naive\",\"hj_naive\",\"hj_naive\",\"hj_naive\",\"hj_naive\",\"hj_naive\",\"hj_naive\",\"hj_naive\",\"hj_naive\",\"hj_naive\",\"hj_naive\",\"hj_naive\",\"hj_naive\",\"hj_naive\",\"hj_naive\",\"hj_naive\",\"hj_naive\",\"hj_naive\",\"hj_naive\",\"hj_naive\",\"hj_naive\",\"hj_naive\",\"hj_naive\",\"hj_naive\",\"hj_naive\",\"hj_naive\",\"hj_naive\",\"hj_naive\",\"hj_naive\",\"hj_naive\",\"hj_naive\",\"hj_naive\",\"hj_naive\",\"hj_naive\",\"hj_naive\",\"hj_naive\",\"hj_naive\",\"hj_naive\",\"hj_naive\",\"hj_naive\",\"hj_naive\",\"hj_naive\",\"hj_naive\",\"hj_naive\",\"hj_naive\",\"hj_naive\",\"hj_naive\",\"hj_naive\",\"hj_naive\",\"hj_naive\",\"hj_naive\",\"hj_naive\",\"hj_naive\",\"hj_naive\",\"hj_naive\",\"hj_naive\",\"hj_naive\",\"hj_naive\",\"hj_naive\",\"hj_naive\",\"hj_naive\",\"hj_naive\",\"hj_naive\",\"hj_naive\",\"hj_naive\",\"hj_naive\",\"hj_naive\",\"hj_naive\",\"hj_naive\",\"hj_naive\",\"hj_naive\",\"hj_naive\",\"hj_naive\",\"hj_naive\",\"hj_naive\",\"hj_naive\",\"hj_naive\",\"hj_naive\",\"hj_naive\",\"hj_naive\",\"hj_naive\",\"hj_naive\",\"hj_naive\",\"hj_naive\",\"hj_naive\",\"hj_naive\",\"hj_naive\",\"hj_naive\",\"hj_naive\",\"hj_naive\",\"hj_naive\",\"hj_naive\",\"hj_naive\",\"hj_naive\",\"hj_naive\",\"hj_naive\",\"hj_naive\",\"hj_naive\",\"hj_naive\",\"hj_naive\",\"hj_naive\",\"hj_naive\",\"hj_naive\",\"hj_naive\",\"hj_naive\",\"hj_naive\",\"hj_naive\",\"hj_naive\",\"hj_naive\",\"hj_naive\",\"hj_naive\",\"hj_naive\",\"hj_naive\",\"hj_naive\",\"hj_naive\",\"hj_naive\",\"hj_naive\",\"hj_naive\",\"hj_naive\",\"hj_naive\",\"hj_naive\",\"hj_naive\",\"hj_naive\",\"hj_naive\",\"hj_naive\",\"hj_naive\",\"hj_naive\",\"hj_naive\",\"hj_naive\",\"hj_naive\",\"hj_naive\",\"hj_naive\",\"hj_naive\",\"hj_naive\",\"hj_naive\",\"hj_naive\",\"hj_naive\",\"hj_naive\",\"hj_naive\",\"hj_naive\",\"hj_naive\",\"hj_naive\",\"hj_naive\",\"hj_naive\",\"hj_naive\",\"hj_naive\",\"hj_naive\",\"hj_naive\",\"hj_naive\",\"hj_naive\",\"hj_naive\",\"hj_naive\",\"hj_naive\",\"hj_naive\",\"hj_naive\",\"hj_naive\",\"hj_naive\",\"hj_naive\",\"hj_naive\",\"hj_naive\",\"hj_naive\",\"hj_naive\",\"hj_naive\",\"hj_naive\",\"hj_naive\",\"hj_naive\",\"hj_naive\",\"hj_naive\",\"hj_naive\",\"hj_naive\",\"hj_naive\",\"hj_naive\",\"hj_naive\",\"hj_naive\",\"hj_naive\",\"hj_naive\",\"hj_naive\",\"hj_naive\",\"hj_naive\",\"hj_naive\",\"hj_naive\",\"hj_naive\",\"hj_naive\",\"hj_naive\",\"hj_naive\",\"hj_naive\",\"hj_naive\",\"hj_naive\",\"hj_naive\",\"hj_naive\",\"hj_naive\",\"hj_naive\",\"hj_naive\",\"hj_naive\",\"hj_naive\",\"hj_naive\",\"hj_naive\",\"hj_naive\",\"hj_naive\",\"hj_naive\",\"hj_naive\",\"hj_naive\",\"hj_naive\",\"hj_naive\",\"hj_naive\",\"hj_naive\",\"hj_reactive\",\"hj_reactive\",\"hj_reactive\",\"hj_reactive\",\"hj_reactive\",\"hj_reactive\",\"hj_reactive\",\"hj_reactive\",\"hj_reactive\",\"hj_reactive\",\"hj_reactive\",\"hj_reactive\",\"hj_reactive\",\"hj_reactive\",\"hj_reactive\",\"hj_reactive\",\"hj_reactive\",\"hj_reactive\",\"hj_reactive\",\"hj_reactive\",\"hj_reactive\",\"hj_reactive\",\"hj_reactive\",\"hj_reactive\",\"hj_reactive\",\"hj_reactive\",\"hj_reactive\",\"hj_reactive\",\"hj_reactive\",\"hj_reactive\",\"hj_reactive\",\"hj_reactive\",\"hj_reactive\",\"hj_reactive\",\"hj_reactive\",\"hj_reactive\",\"hj_reactive\",\"hj_reactive\",\"hj_reactive\",\"hj_reactive\",\"hj_reactive\",\"hj_reactive\",\"hj_reactive\",\"hj_reactive\",\"hj_reactive\",\"hj_reactive\",\"hj_reactive\",\"hj_reactive\",\"hj_reactive\",\"hj_reactive\",\"hj_reactive\",\"hj_reactive\",\"hj_reactive\",\"hj_reactive\",\"hj_reactive\",\"hj_reactive\",\"hj_reactive\",\"hj_reactive\",\"hj_reactive\",\"hj_reactive\",\"hj_reactive\",\"hj_reactive\",\"hj_reactive\",\"hj_reactive\",\"hj_reactive\",\"hj_reactive\",\"hj_reactive\",\"hj_reactive\",\"hj_reactive\",\"hj_reactive\",\"hj_reactive\",\"hj_reactive\",\"hj_reactive\",\"hj_reactive\",\"hj_reactive\",\"hj_reactive\",\"hj_reactive\",\"hj_reactive\",\"hj_reactive\",\"hj_reactive\",\"hj_reactive\",\"hj_reactive\",\"hj_reactive\",\"hj_reactive\",\"hj_reactive\",\"hj_reactive\",\"hj_reactive\",\"hj_reactive\",\"hj_reactive\",\"hj_reactive\",\"hj_reactive\",\"hj_reactive\",\"hj_reactive\",\"hj_reactive\",\"hj_reactive\",\"hj_reactive\",\"hj_reactive\",\"hj_reactive\",\"hj_reactive\",\"hj_reactive\",\"hj_reactive\",\"hj_reactive\",\"hj_reactive\",\"hj_reactive\",\"hj_reactive\",\"hj_reactive\",\"hj_reactive\",\"hj_reactive\",\"hj_reactive\",\"hj_reactive\",\"hj_reactive\",\"hj_reactive\",\"hj_reactive\",\"hj_reactive\",\"hj_reactive\",\"hj_reactive\",\"hj_reactive\",\"hj_reactive\",\"hj_reactive\",\"hj_reactive\",\"hj_reactive\",\"hj_reactive\",\"hj_reactive\",\"hj_reactive\",\"hj_reactive\",\"hj_reactive\",\"hj_reactive\",\"hj_reactive\",\"hj_reactive\",\"hj_reactive\",\"hj_reactive\",\"hj_reactive\",\"hj_reactive\",\"hj_reactive\",\"hj_reactive\",\"hj_reactive\",\"hj_reactive\",\"hj_reactive\",\"hj_reactive\",\"hj_reactive\",\"hj_reactive\",\"hj_reactive\",\"hj_reactive\",\"hj_reactive\",\"hj_reactive\",\"hj_reactive\",\"hj_reactive\",\"hj_reactive\",\"hj_reactive\",\"hj_reactive\",\"hj_reactive\",\"hj_reactive\",\"hj_reactive\",\"hj_reactive\",\"hj_reactive\",\"hj_reactive\",\"hj_reactive\",\"hj_reactive\",\"hj_reactive\",\"hj_reactive\",\"hj_reactive\",\"hj_reactive\",\"hj_reactive\",\"hj_reactive\",\"hj_reactive\",\"hj_reactive\",\"hj_reactive\",\"hj_reactive\",\"hj_reactive\",\"hj_reactive\",\"hj_reactive\",\"hj_reactive\",\"hj_reactive\",\"hj_reactive\",\"hj_reactive\",\"hj_reactive\",\"hj_reactive\",\"hj_reactive\",\"hj_reactive\",\"hj_reactive\",\"hj_reactive\",\"hj_reactive\",\"hj_reactive\",\"hj_reactive\",\"hj_reactive\",\"hj_reactive\",\"hj_reactive\",\"hj_reactive\",\"hj_reactive\",\"hj_reactive\",\"hj_reactive\",\"hj_reactive\",\"hj_reactive\",\"hj_reactive\",\"hj_reactive\",\"hj_reactive\",\"hj_reactive\",\"hj_reactive\",\"hj_reactive\",\"hj_reactive\",\"hj_reactive\",\"hj_reactive\",\"hj_reactive\",\"hj_reactive\",\"hj_reactive\",\"hj_reactive\",\"hj_reactive\",\"hj_reactive\",\"hj_reactive\",\"hj_reactive\",\"hj_reactive\",\"hj_reactive\",\"hj_reactive\",\"hj_reactive\",\"hj_reactive\",\"hj_reactive\",\"hj_reactive\",\"hj_reactive\",\"hj_reactive\",\"hj_reactive\",\"hj_reactive\",\"hj_reactive\",\"hj_reactive\",\"hj_reactive\",\"hj_reactive\",\"hj_reactive\",\"hj_reactive\",\"hj_reactive\",\"hj_reactive\",\"hj_reactive\",\"hj_reactive\",\"hj_reactive\",\"hj_reactive\",\"hj_reactive\",\"hj_reactive\",\"hj_reactive\",\"hj_reactive\",\"hj_reactive\",\"hj_reactive\",\"hj_reactive\",\"hj_reactive\",\"hj_reactive\",\"hj_reactive\",\"hj_reactive\",\"hj_reactive\",\"hj_reactive\",\"hj_reactive\",\"hj_reactive\",\"hj_reactive\",\"hj_reactive\",\"hj_reactive\",\"hj_reactive\",\"hj_reactive\",\"hj_reactive\",\"hj_reactive\",\"hj_reactive\",\"hj_reactive\",\"hj_reactive\",\"hj_reactive\",\"hj_reactive\",\"hj_reactive\",\"hj_reactive\",\"hj_reactive\",\"hj_reactive\",\"hj_reactive\",\"hj_reactive\",\"hj_reactive\",\"hj_reactive\",\"hj_reactive\",\"hj_reactive\",\"hj_reactive\",\"hj_reactive\",\"hj_reactive\",\"hj_reactive\",\"hj_reactive\",\"hj_reactive\",\"hj_reactive\",\"hj_reactive\",\"hj_reactive\",\"hj_reactive\",\"hj_reactive\",\"hj_reactive\",\"hj_reactive\",\"hj_reactive\",\"hj_reactive\",\"hj_reactive\",\"hj_reactive\",\"hj_reactive\",\"hj_reactive\",\"hj_reactive\",\"hj_reactive\",\"hj_reactive\",\"hj_reactive\",\"hj_reactive\",\"hj_reactive\",\"hj_reactive\",\"hj_reactive\",\"hj_reactive\",\"hj_reactive\",\"hj_reactive\",\"hj_reactive\",\"hj_reactive\",\"hj_reactive\",\"hj_reactive\",\"hj_reactive\",\"hj_reactive\",\"hj_reactive\",\"hj_reactive\",\"hj_reactive\",\"hj_reactive\",\"hj_reactive\",\"hj_reactive\",\"hj_reactive\",\"hj_reactive\",\"hj_reactive\",\"hj_reactive\",\"hj_reactive\",\"hj_reactive\",\"hj_reactive\",\"hj_reactive\",\"hj_reactive\",\"hj_reactive\",\"hj_reactive\",\"hj_reactive\",\"hj_reactive\",\"hj_reactive\",\"hj_reactive\",\"hj_reactive\",\"hj_reactive\",\"hj_reactive\",\"hj_reactive\",\"hj_reactive\",\"hj_reactive\",\"hj_reactive\",\"hj_reactive\",\"hj_reactive\",\"hj_reactive\",\"hj_reactive\",\"hj_reactive\",\"hj_reactive\",\"hj_reactive\",\"hj_reactive\",\"hj_reactive\",\"hj_reactive\",\"hj_reactive\",\"hj_reactive\",\"hj_reactive\",\"hj_reactive\",\"hj_reactive\",\"hj_reactive\",\"hj_reactive\",\"hj_reactive\",\"hj_reactive\",\"hj_reactive\",\"hj_reactive\",\"hj_reactive\",\"hj_reactive\",\"hj_reactive\",\"hj_reactive\",\"hj_reactive\",\"hj_reactive\",\"hj_reactive\",\"hj_reactive\",\"hj_reactive\",\"hj_reactive\",\"hj_reactive\",\"hj_reactive\",\"hj_reactive\",\"hj_reactive\",\"hj_reactive\",\"hj_reactive\",\"hj_reactive\",\"hj_reactive\",\"hj_reactive\",\"hj_reactive\",\"hj_reactive\",\"hj_reactive\",\"hj_reactive\",\"hj_reactive\",\"hj_reactive\",\"hj_reactive\",\"hj_reactive\",\"hj_reactive\",\"hj_reactive\",\"hj_reactive\",\"hj_reactive\",\"hj_reactive\",\"hj_reactive\",\"hj_reactive\",\"hj_reactive\",\"hj_reactive\",\"hj_reactive\",\"hj_reactive\",\"hj_reactive\",\"hj_reactive\",\"hj_reactive\",\"hj_reactive\",\"hj_reactive\",\"hj_reactive\",\"hj_reactive\",\"hj_reactive\",\"hj_reactive\",\"hj_reactive\",\"hj_reactive\",\"hj_reactive\",\"hj_reactive\",\"hj_reactive\",\"hj_reactive\",\"hj_reactive\",\"hj_reactive\",\"hj_reactive\",\"hj_reactive\",\"hj_reactive\",\"hj_reactive\",\"hj_reactive\",\"hj_reactive\",\"hj_reactive\",\"hj_reactive\",\"hj_reactive\",\"hj_reactive\",\"hj_reactive\",\"hj_reactive\",\"hj_reactive\",\"hj_reactive\",\"hj_reactive\",\"hj_reactive\",\"hj_reactive\",\"hj_reactive\",\"hj_reactive\",\"hj_reactive\",\"hj_reactive\",\"hj_reactive\",\"hj_reactive\",\"hj_reactive\",\"hj_reactive\",\"hj_reactive\",\"hj_reactive\",\"hj_reactive\",\"hj_reactive\",\"hj_reactive\",\"hj_reactive\",\"hj_reactive\",\"hj_reactive\",\"hj_reactive\",\"hj_reactive\",\"hj_reactive\",\"hj_reactive\",\"hj_reactive\",\"hj_reactive\",\"hj_reactive\",\"hj_reactive\",\"hj_reactive\",\"hj_reactive\",\"hj_reactive\",\"hj_reactive\",\"hj_reactive\",\"hj_reactive\",\"hj_reactive\",\"hj_reactive\",\"hj_reactive\",\"hj_reactive\",\"hj_reactive\",\"hj_reactive\",\"hj_reactive\",\"hj_reactive\",\"hj_reactive\",\"hj_reactive\",\"hj_reactive\",\"hj_reactive\",\"hj_reactive\",\"hj_reactive\",\"hj_reactive\",\"hj_reactive\",\"hj_reactive\",\"hj_reactive\",\"hj_reactive\",\"hj_reactive\",\"hj_reactive\",\"hj_reactive\",\"hj_reactive\",\"hj_reactive\",\"hj_reactive\",\"hj_reactive\",\"hj_reactive\",\"hj_reactive\",\"hj_reactive\",\"hj_reactive\",\"hj_reactive\",\"hj_reactive\",\"hj_reactive\",\"hj_reactive\",\"hj_reactive\",\"hj_reactive\",\"hj_reactive\",\"hj_reactive\",\"hj_reactive\",\"hj_reactive\",\"hj_reactive\",\"hj_reactive\",\"hj_reactive\",\"hj_reactive\",\"hj_reactive\",\"hj_reactive\",\"hj_reactive\",\"hj_reactive\",\"hj_reactive\",\"hj_reactive\",\"hj_reactive\",\"hj_reactive\",\"hj_reactive\",\"hj_reactive\",\"hj_reactive\",\"hj_reactive\",\"hj_reactive\",\"hj_reactive\",\"hj_reactive\",\"hj_reactive\",\"hj_reactive\",\"hj_reactive\",\"hj_reactive\",\"hj_reactive\",\"hj_reactive\",\"hj_reactive\",\"hj_reactive\",\"hj_reactive\",\"hj_reactive\",\"hj_reactive\",\"hj_reactive\",\"hj_reactive\",\"hj_reactive\",\"hj_reactive\",\"hj_reactive\",\"hj_reactive\",\"hj_reactive\",\"hj_reactive\",\"hj_reactive\",\"hj_reactive\",\"hj_reactive\",\"hj_reactive\",\"hj_reactive\",\"hj_reactive\",\"hj_reactive\",\"hj_reactive\",\"hj_reactive\",\"hj_reactive\",\"hj_reactive\",\"hj_reactive\",\"hj_reactive\",\"hj_reactive\",\"flocking\",\"flocking\",\"flocking\",\"flocking\",\"flocking\",\"flocking\",\"flocking\",\"flocking\",\"flocking\",\"flocking\",\"flocking\",\"flocking\",\"flocking\",\"flocking\",\"flocking\",\"flocking\",\"flocking\",\"flocking\",\"flocking\",\"flocking\",\"flocking\",\"flocking\",\"flocking\",\"flocking\",\"flocking\",\"flocking\",\"flocking\",\"flocking\",\"flocking\",\"flocking\",\"flocking\",\"flocking\",\"flocking\",\"flocking\",\"flocking\",\"flocking\",\"flocking\",\"flocking\",\"flocking\",\"flocking\",\"flocking\",\"flocking\",\"flocking\",\"flocking\",\"flocking\",\"flocking\",\"flocking\",\"flocking\",\"flocking\",\"flocking\",\"flocking\",\"flocking\",\"flocking\",\"flocking\",\"flocking\",\"flocking\",\"flocking\",\"flocking\",\"flocking\",\"flocking\",\"flocking\",\"flocking\",\"flocking\",\"flocking\",\"flocking\",\"flocking\",\"flocking\",\"flocking\",\"flocking\",\"flocking\",\"flocking\",\"flocking\",\"flocking\",\"flocking\",\"flocking\",\"flocking\",\"flocking\",\"flocking\",\"flocking\",\"flocking\",\"flocking\",\"flocking\",\"flocking\",\"flocking\",\"flocking\",\"flocking\",\"flocking\",\"flocking\",\"flocking\",\"flocking\",\"flocking\",\"flocking\",\"flocking\",\"flocking\",\"flocking\",\"flocking\",\"flocking\",\"flocking\",\"flocking\",\"flocking\",\"flocking\",\"flocking\",\"flocking\",\"flocking\",\"flocking\",\"flocking\",\"flocking\",\"flocking\",\"flocking\",\"flocking\",\"flocking\",\"flocking\",\"flocking\",\"flocking\",\"flocking\",\"flocking\",\"flocking\",\"flocking\",\"flocking\",\"flocking\",\"flocking\",\"flocking\",\"flocking\",\"flocking\",\"flocking\",\"flocking\",\"flocking\",\"flocking\",\"flocking\",\"flocking\",\"flocking\",\"flocking\",\"flocking\",\"flocking\",\"flocking\",\"flocking\",\"flocking\",\"flocking\",\"flocking\",\"flocking\",\"flocking\",\"flocking\",\"flocking\",\"flocking\",\"flocking\",\"flocking\",\"flocking\",\"flocking\",\"flocking\",\"flocking\",\"flocking\",\"flocking\",\"flocking\",\"flocking\",\"flocking\",\"flocking\",\"flocking\",\"flocking\",\"flocking\",\"flocking\",\"flocking\",\"flocking\",\"flocking\",\"flocking\",\"flocking\",\"flocking\",\"flocking\",\"flocking\",\"flocking\",\"flocking\",\"flocking\",\"flocking\",\"flocking\",\"flocking\",\"flocking\",\"flocking\",\"flocking\",\"flocking\",\"flocking\",\"flocking\",\"flocking\",\"flocking\",\"flocking\",\"flocking\",\"flocking\",\"flocking\",\"flocking\",\"flocking\",\"flocking\",\"flocking\",\"flocking\",\"flocking\",\"flocking\",\"flocking\",\"flocking\",\"flocking\",\"flocking\",\"flocking\",\"flocking\",\"flocking\",\"flocking\",\"flocking\",\"flocking\",\"flocking\",\"flocking\",\"flocking\",\"flocking\",\"flocking\",\"flocking\",\"flocking\",\"flocking\",\"flocking\",\"flocking\",\"flocking\",\"flocking\",\"flocking\",\"flocking\",\"flocking\",\"flocking\",\"flocking\",\"flocking\",\"flocking\",\"flocking\",\"flocking\",\"flocking\",\"flocking\",\"flocking\",\"flocking\",\"flocking\",\"flocking\",\"flocking\",\"flocking\",\"flocking\",\"flocking\",\"flocking\",\"flocking\",\"flocking\",\"flocking\",\"flocking\",\"flocking\",\"flocking\",\"flocking\",\"flocking\",\"flocking\",\"flocking\",\"flocking\",\"flocking\",\"flocking\",\"flocking\",\"flocking\",\"flocking\",\"flocking\",\"flocking\",\"flocking\",\"flocking\",\"flocking\",\"flocking\",\"flocking\",\"flocking\",\"flocking\",\"flocking\",\"flocking\",\"flocking\",\"flocking\",\"flocking\",\"flocking\",\"flocking\",\"flocking\",\"flocking\",\"flocking\",\"flocking\",\"flocking\",\"flocking\",\"flocking\",\"flocking\",\"flocking\",\"flocking\",\"flocking\",\"flocking\",\"flocking\",\"flocking\",\"flocking\",\"flocking\",\"flocking\",\"flocking\",\"flocking\",\"flocking\",\"flocking\",\"flocking\",\"flocking\",\"flocking\",\"flocking\",\"flocking\",\"flocking\",\"flocking\",\"flocking\",\"flocking\",\"flocking\",\"flocking\",\"flocking\",\"flocking\",\"flocking\",\"flocking\",\"flocking\",\"flocking\",\"flocking\",\"flocking\",\"flocking\",\"flocking\",\"flocking\",\"flocking\",\"flocking\",\"flocking\",\"flocking\",\"flocking\",\"flocking\",\"flocking\",\"flocking\",\"flocking\",\"flocking\",\"flocking\",\"flocking\",\"flocking\",\"flocking\",\"flocking\",\"flocking\",\"flocking\",\"flocking\",\"flocking\",\"flocking\",\"flocking\",\"flocking\",\"flocking\",\"flocking\",\"flocking\",\"flocking\",\"flocking\",\"flocking\",\"flocking\",\"flocking\",\"flocking\",\"flocking\",\"flocking\",\"flocking\",\"flocking\",\"flocking\",\"flocking\",\"flocking\",\"flocking\",\"flocking\",\"flocking\",\"flocking\",\"flocking\",\"flocking\",\"flocking\",\"flocking\",\"flocking\",\"flocking\",\"flocking\",\"flocking\",\"flocking\",\"flocking\",\"flocking\",\"flocking\",\"flocking\",\"flocking\",\"flocking\",\"flocking\",\"flocking\",\"flocking\",\"flocking\",\"flocking\",\"flocking\",\"flocking\",\"flocking\",\"flocking\",\"flocking\",\"flocking\",\"flocking\",\"flocking\",\"flocking\",\"flocking\",\"flocking\",\"flocking\",\"flocking\",\"flocking\",\"flocking\",\"flocking\",\"flocking\",\"flocking\",\"flocking\",\"flocking\",\"flocking\",\"flocking\",\"flocking\",\"flocking\",\"flocking\",\"flocking\",\"flocking\",\"flocking\",\"flocking\",\"flocking\",\"flocking\",\"flocking\",\"flocking\",\"flocking\",\"flocking\",\"flocking\",\"flocking\",\"flocking\",\"flocking\",\"flocking\",\"flocking\",\"flocking\",\"flocking\",\"flocking\",\"flocking\",\"flocking\",\"flocking\",\"flocking\",\"flocking\",\"flocking\",\"flocking\",\"flocking\",\"flocking\",\"flocking\",\"flocking\",\"flocking\",\"flocking\",\"flocking\",\"flocking\",\"flocking\",\"flocking\",\"flocking\",\"flocking\",\"flocking\",\"flocking\",\"flocking\",\"flocking\",\"flocking\",\"flocking\",\"flocking\",\"flocking\",\"flocking\",\"flocking\",\"flocking\",\"flocking\",\"flocking\",\"flocking\",\"flocking\",\"flocking\",\"flocking\",\"flocking\",\"flocking\",\"flocking\",\"flocking\",\"flocking\",\"flocking\",\"flocking\",\"flocking\",\"flocking\",\"flocking\",\"flocking\",\"flocking\",\"flocking\",\"flocking\",\"flocking\",\"flocking\",\"flocking\",\"flocking\",\"flocking\",\"flocking\",\"flocking\",\"flocking\",\"flocking\",\"flocking\",\"flocking\",\"flocking\",\"flocking\",\"flocking\",\"flocking\",\"flocking\",\"flocking\",\"flocking\",\"flocking\",\"flocking\",\"flocking\",\"flocking\",\"flocking\",\"flocking\",\"flocking\",\"flocking\",\"flocking\",\"flocking\",\"flocking\",\"flocking\",\"flocking\",\"flocking\",\"flocking\",\"flocking\",\"flocking\",\"flocking\",\"flocking\",\"flocking\",\"flocking\",\"flocking\",\"flocking\",\"flocking\",\"flocking\",\"flocking\",\"flocking\",\"flocking\",\"flocking\",\"flocking\",\"flocking\",\"flocking\",\"flocking\",\"flocking\",\"flocking\",\"flocking\",\"flocking\",\"flocking\",\"flocking\",\"flocking\",\"flocking\",\"flocking\",\"flocking\",\"flocking\",\"flocking\",\"flocking\",\"flocking\",\"flocking\",\"flocking\",\"flocking\",\"flocking\",\"flocking\",\"flocking\",\"flocking\",\"flocking\",\"flocking\",\"flocking\",\"flocking\",\"flocking\",\"flocking\",\"flocking\",\"flocking\",\"flocking\",\"flocking\",\"flocking\"],\"x0\":\" \",\"xaxis\":\"x\",\"y\":[0.0,0.0,0.0,0.0,0.0,0.0,0.0,0.0,0.0,0.01084187243106111,0.0,0.1469468894891965,0.0,0.0,0.0,0.0,0.0,0.0,0.30462453834939357,0.0,0.0,0.0,0.0,0.0,0.0,0.0,0.0,0.0,0.0,172.21336484415767,89.93181718977782,0.0,1.1310735912513195,0.0,0.0023708010959557495,0.0,0.0,0.0,0.0,0.0,0.0,0.0,0.0,0.0,0.0,0.0,0.0,0.0,0.0,0.0,0.0,0.0,0.0,0.0,0.5046862839276248,0.10348016215869708,0.0,0.0,0.0,0.0,1.346320325005995,0.0,0.0,0.0,0.0,0.0,0.0,0.0,0.6303406006368605,0.0,0.0,0.0,0.0,0.0,0.0,0.0,0.0,0.0,0.0,0.0,0.0,0.0,0.0,0.5464185923489109,0.0,0.20894997215897765,0.0,0.0,0.0,0.021250347027904223,0.0,0.0,0.0,0.0,0.2685112011879164,0.0,0.0,0.0,0.0,0.0,0.0,0.0,0.0,0.0,0.0,0.0,0.0,0.0,0.0,0.0,0.0,0.0,0.0,0.0,0.0,0.0,0.0,0.0,0.0,0.0,0.0,0.0,0.0,0.0,0.02666288699995339,0.0,0.0,0.0,0.0,0.0,0.0,0.0,0.0,0.0,0.0,0.0,0.0,0.0,0.0,0.0,0.0,0.0,0.0,0.0,0.3690548735194082,0.0,0.0,0.0,0.0,0.0,0.0,0.0,0.0,0.0,0.0,0.0,0.0,0.0,0.0,0.0,0.0,0.0,0.0,0.0,0.0,0.9103491521044332,0.0,0.0,0.0,0.0,0.5951894795406997,0.0,0.0,0.0,0.0,0.0,0.0,0.0,0.0,0.0,0.0,0.0,0.0,0.0,0.0,0.0,0.0,0.0,0.0,0.0,0.0,0.0,0.0,0.0,0.4733487923144175,0.0,0.0,0.0,0.0,0.0,0.0,0.0,0.0,0.0,0.0,0.0,0.0,null,0.0,0.0,0.0,0.0,0.0,0.0,0.0,0.0,0.0,0.0,0.0,0.0,0.0,0.0,0.0,0.0,0.0,0.0,0.0,0.0,0.0,0.0,0.0,0.0,0.0,0.0,0.0,0.0,0.0,0.0,0.0,0.0,0.0,0.0,0.0,0.0,0.0,0.0,0.0,0.0,0.0,0.0,0.0,0.0,0.0,0.0,0.0,0.0,0.0,0.0,0.0,0.0,0.0,0.0,0.0,0.0,0.0,0.0,0.0,0.0,0.0,0.0,0.0,0.33682398125261026,0.0,0.0,0.0,0.0,0.0,0.0,0.0,0.0,0.0,0.0,0.0,0.0,0.0,0.0,0.0,0.0,0.0,0.0,0.0,0.0,0.0,0.0,0.0,0.0,0.0,0.0,0.0,0.0,0.0,0.0,0.0,0.0,0.0,0.0,0.0,0.0,0.0,0.0,0.0,0.0,0.0,0.0,0.0,0.0,0.0,0.0,0.0,0.0,0.1616496288539001,0.0,0.0,0.0,0.0,0.0,0.0,0.0,0.0,0.0,0.0,0.0,0.0,0.0,0.0,0.0,0.0,0.0,0.0,0.0,0.0,0.0,0.0,0.0,0.0,0.0,0.0,0.0,0.0,0.0,0.0,0.0,0.0,0.0,0.0,0.0,0.16004703539132334,0.0,0.0,0.0,0.0,0.0,0.0,0.0,0.0,0.0,0.0,0.8381265704982367,0.0,0.0,0.0,0.9678312196607153,0.0,0.0,0.0,0.0,0.0,0.0,0.0,0.0,0.0,0.0,0.0,0.0,0.0,0.0,0.0,0.0,0.0,0.0,0.0,0.0,0.0,0.0,0.0,0.0,0.0,0.0,0.0,0.0,0.0,0.0,0.14676288668536083,0.0,0.0,0.0,0.0,0.0,0.0,0.0,0.0,0.0,0.0,0.0,0.0,0.0,0.0,0.0,0.0,0.0,0.0,0.0,0.0,0.0,0.0,0.0,0.0982259921578988,0.0,0.0,0.0,0.0,0.0,0.0,0.0,0.0,0.7000593312238766,0.0,0.0,0.0,0.0,0.0,0.0,0.0,0.0,0.6212367014641204,0.0,0.0,0.0,0.0,0.0,0.0,0.0,0.04112636835006919,0.0,0.0,0.0,0.0,0.0,0.0,0.0,0.6842399784211659,0.0,0.0,0.0,0.0,0.0,0.0,0.0,0.0,0.0,0.0,0.0,0.0,0.0,0.0,0.0,0.0,0.0,0.0,0.0,0.0,0.0,0.0,0.0,0.0,0.0,0.0,0.0,0.10950448007592234,0.4786762416899634,0.0,0.0,0.0,0.0,0.0,0.0,0.0,0.0,0.0,0.0,0.0,0.0,0.0,0.0,0.0,0.0,0.0,0.11713272729262725,0.0,0.04872498774996058,0.0,0.0,0.034577613671214674,0.007943985586590829,0.0,0.0,0.0,0.0,0.0,0.0,0.0,0.006968565267758189,0.2832340441765146,0.0,0.0,0.0,0.0,0.0,0.0160856757058386,0.0,0.0,0.0,0.09001155763751645,0.0,1.733989889682038,0.0,0.6256047202431918,0.0,0.0,0.0,0.0,0.0,0.0,0.0,0.0,0.0,0.0,0.0,0.0,0.0,6.744950912315064,0.0,0.0,0.0,0.0,0.0,0.0,0.0,0.2819271270223281,0.0,0.0,0.0,0.0,0.0,0.0,0.0,0.0,0.0,0.0,0.8297319656232901,0.0,0.0,0.5362425944825694,0.0,0.0,0.0,0.0,172.19802397957406,0.0,0.0,0.1357610518921946,64.9876442930388,0.0023708010959557495,0.0,0.6634431341966727,1.8186888062631905,0.0,0.0,0.0,0.0,0.0,0.0,0.0,0.0,0.0,0.0,0.0,0.0,0.0,0.0,0.0,0.0,0.0,0.10348016215869708,0.0,1.6540088979566374,0.0,0.0,0.0,0.0,0.0,0.0,0.0,0.0,0.0,0.0,7.905338416236068,1.446974824547588,0.0,1.1242814756104673,0.2672516974137079,0.0,0.29648535307958074,0.0,0.0,0.0,0.0,0.8871569852076662,0.7218112209995577,0.0,0.0,0.0,0.0,0.0,0.4334164317872886,0.534843696229917,0.5464185923489109,0.0,0.20894997215897765,0.0,0.9244179284488744,0.0,0.0,0.0,0.0,3.7996975868520955,3.1806013014286276,0.0,0.0,0.0,0.0,0.0,0.0,0.45114007455248756,0.0,0.0,0.0,0.0,0.0,6.4641728101356355,0.0,0.0,0.0,0.0,0.0,0.0,0.0,0.0,0.0,0.0,0.0,0.3223912105818523,0.19031385078941862,0.0,0.0,0.0,0.0,0.0,0.0,0.31407406534115845,0.0,0.0,0.0,0.0,0.0,0.0,0.0,0.0,0.8278936617426549,0.041372716163840015,0.040455529504543467,0.0,0.0,0.0,0.3690548735194082,0.0,0.0,0.0,0.06884851861093805,0.0,0.0,0.0,0.0,0.0,0.0,0.0,0.0,0.0,0.0,0.0,0.19728154624858787,0.0,0.0,5.2304104487742755,0.0,0.0,0.0,0.0,0.0,0.0,0.0,2.5919888615075632,0.0,0.970732176290781,0.0,0.0,0.0,0.3721427378437823,0.10576576981646076,0.0,0.0,0.0,0.0,0.0,0.0,0.0,0.0,0.0,0.0,5.11913174682148,0.0,0.0,0.0,0.0,0.0,1.1400712940109707,0.0,0.0,0.0,0.0,0.0,3.0234992607848046,0.0,0.24335085356189742,0.0,0.0,0.0,0.0,0.0,0.0,0.0,0.0,0.0,1.684529006195528,0.0,0.0,0.0,0.0,0.0,0.0178733317768842,0.0,0.0,0.0,0.0,0.0,0.0,0.0,0.0,0.0,0.0,0.0,0.0,0.0,0.0,0.0,0.3299164237265464,0.0,0.0,0.0,0.0,0.0,0.0,0.0,0.0,0.0,0.0,0.0,0.0,0.0,0.0,0.0,0.0,0.0,0.0,0.0,0.0,0.0,0.21421126120286493,0.0,0.0,0.0,0.0,0.0,0.0,3.93316451392213,0.0,0.0,0.0,1.3060290490410948,0.0,0.0,0.0,0.0,1.9246461956040315,0.0,0.0,0.0,0.0,0.0,0.0,0.0,0.0,0.0,0.0,0.0,0.0,0.0,0.0,0.0,0.0,0.0,0.09863481708772134,0.0,0.0,0.0,0.0,0.0,0.0,0.0,0.0,0.09970381845538971,0.0,0.0,0.0,0.0,0.0,0.0,0.0,0.0,0.0,0.0,0.0,1.0988703390530945,0.0,0.0,0.0,0.0,0.0,0.0,0.0,0.0,1.9455607375815471,0.0,0.0,0.0,0.0,0.0,0.0,0.0,0.0,0.0,0.6745529623333486,0.0,0.0,0.0,0.0,0.0,0.0,0.0,0.0,0.0,0.0,0.0,0.0,0.9173545872869054,0.0,0.0,2.7835969030301806,0.0,0.0,0.0,0.011459997850467696,0.0,0.0,1.48563362510088,0.0,1.222811122802937,0.0,0.0,0.0,0.0,0.0,0.0,0.0,0.5023546844779898,0.0,0.0,1.0482338490786218,0.0,0.0,0.0,0.0,0.26852246759970166,0.0,0.0,0.0,0.0,0.0,0.0,0.2768167985555098,0.0,0.0,5.058895479007891,0.0,0.0,0.0,0.0,0.0,1.8047979243335974,0.008118711408656174,0.0,0.0,0.0,0.0,0.18126292692508628,0.0,0.0,0.0,1.5614360310275133,0.0,0.0,0.0,0.6530865328791998,3.1631669514532006,0.0,0.0,0.0,0.0,0.0,0.0,0.0,0.0,1.0642379023759125,0.0,0.0,0.0,0.0,0.0,0.0,0.0,1.1247402579166381,0.0,0.7758596609295031,0.313709778879295,0.0,0.0,0.0,0.0,0.0,0.0,0.0,0.0,0.0,0.0,0.8936528682611511,0.0,0.0,0.25863698875137797,0.0,0.0,1.0508945009666018,0.0,0.0,0.0,0.0,0.0,0.0,0.0,0.0,0.0,0.0,0.04112636835006919,0.0,0.6965473165817693,0.0,0.0,0.0,0.0,0.0,0.0,0.0,0.0,0.0,0.0,0.0,0.0,0.9667785479475369,0.0,6.647615232108546,0.0,0.0,0.0,0.0,0.0,0.0,0.0,0.0,0.0,0.0,0.0,0.0,0.0,0.0,0.0,0.0,0.0,0.0,0.0,0.3019849060320782,0.0,0.6170238432339664,0.058898184286869174,0.038152184286632924,0.0,0.0,0.0,0.2832340441765146,0.0,0.0,0.0,0.0,0.0,0.0,0.0,0.0,0.4071163144077833,0.0,0.0,0.0,0.0,0.34831118520241405,0.0,0.27425927262396876,0.0,0.7601073175423947,0.0,0.0,0.17051594754223304,6.2353660346575,0.0,0.0,0.6114267970640689,0.0,0.0,0.0,0.0,0.0,0.0,0.28329720390698876,0.0,0.7535187974318045,0.07581526602016939,0.0,0.0,2.0291570152885123,0.14483935671657291,0.0,0.0,0.0,0.0,0.0,0.0,0.0,0.0,0.0,0.0,0.0,null,0.0,0.25653950869842995,0.0,0.0,0.0,0.0,0.0,0.0,0.0,0.031156474289535455,0.0,0.0,0.0,0.0,0.0,0.0,0.0,0.0,0.0,0.0,0.0,0.0,0.6291095215266767,0.0,0.0,0.0,172.17904310512063,0.0,0.0,66.83283436532162,0.0,0.0,0.0,0.0,2.0390552748945376,0.1300926040038609,0.0,0.0,0.0,0.0,0.0,0.0,0.0015526052504443405,0.0,0.0,0.0,0.0,0.0,0.0,0.0,0.0,0.0,0.0,0.733434396868467,0.0,0.0,0.10342654493661799,0.0,0.0,7.581877269491016,0.0,0.0,0.0,0.0,0.0,0.0,0.0,0.0,0.0,0.39092514376082454,0.7036632854650636,0.0,0.0,0.0,0.0,0.0,0.1924596623792248,0.0,0.0,0.0,0.0,0.0,0.0,0.17792790075614637,0.0,0.0,0.21373477348735254,0.0,0.0,0.0,1.0408460729761893,0.0,0.0,0.5269727397585805,0.0,1.4172246494092962,0.0,0.0,0.0,0.0,0.0,0.0,0.0,0.0,0.0,0.0,0.0,0.0,15.089999488767964,0.0,0.0,0.0,0.0,0.0,0.0,0.0,0.0,0.0,0.0,0.0,0.0,0.0,0.049343788446789646,0.0,0.0,0.0,0.0,0.0,0.0,0.0,0.0,0.0,0.016975779748499134,0.0,0.0,0.0,0.0,0.0,0.4477446463430932,0.0,0.0,0.0,0.0,0.0,0.0,0.597960836944679,0.0,0.0,0.0,0.0,0.0,0.0,0.0,0.0,0.0,0.0,0.0,0.0,0.0,0.0,0.0,0.0,10.282118476855954,0.0,0.0,0.9059748547987754,0.0,0.0,0.0,0.0,2.53874770013597,0.0,0.0,0.0,0.0,0.0,0.0,0.0,0.0,0.03485632055099259,0.0,0.05312593066255202,0.0,0.0,0.0,0.0,0.0,0.0,0.0,0.0,0.0,0.0,0.0,0.0,0.0,1.1718138717364746,0.0,0.0,0.0,0.0,0.0,0.0,0.0,0.0,0.0,0.0,0.0,0.16252063491735563,0.0,0.1909343880252486,0.0,0.0,0.0,0.0,0.0,0.0,0.0,0.0,0.0,0.0,0.0,0.0,0.0,0.0,0.0,0.0,0.0,0.0,0.0,0.0,0.0,0.0,0.0,0.0,0.0,0.0,0.0,0.0,0.0,0.0,0.0,0.0,0.0,0.0,0.0,0.0,0.0,0.0,0.0,0.0,0.0,0.0,0.0,0.0,0.0,0.0,0.0,0.0,0.0,0.0,0.0,0.0,0.0,0.0,0.0,1.7421193016111016,0.0,0.0,0.0,0.0,0.0,0.0,0.0,2.797196590159164,0.0,0.0,0.9818469605445922,0.0,0.0,0.0,0.0,0.0,0.0,0.0,0.0,0.0,0.0,0.0,0.0,0.0,0.0,0.0,0.0,0.0,0.0,0.0,0.0,0.0,0.0,0.0,0.0,0.0,0.0,0.0,0.0,0.0,0.0,0.0,0.0,0.0,0.0,0.0,0.0,0.0,0.0,0.0,0.0,0.0,0.007866112076396049,0.0,0.0,2.224226763793602,0.0,0.0,0.0,0.0,0.0,0.0,0.0,0.0,0.9763634628320558,0.0,0.0,0.0,0.0,0.0,0.0,0.0,0.0,0.0,0.0,0.0,0.0,0.0,0.0,0.0,0.0,0.0,0.0,0.0,0.0,0.0,0.0,1.1185285120973691,0.0,0.0,0.0,0.0,0.0,0.0,0.0,0.0,0.0,0.0,0.0,0.0,0.0,0.2693100093200661,0.0,0.0,0.0,0.0,0.0,0.0,0.0,0.0,0.0,1.1390805582131134,0.30448417394486166,0.0,0.0,0.0,0.0,0.0,0.0,0.0,0.0,1.2300190832632687,0.055340166507783006,0.2033543527653797,0.0,0.0,0.0,2.063439108318656,2.2989003956008847,0.0,0.0,0.0,0.0,0.0,1.0093459012528254,0.0,0.5105478739861183,0.0,0.0,0.0,0.0,0.0,0.0,0.0,0.0,0.0,0.0,0.0,0.0,0.0,0.12865948438147348,0.0,0.0,0.0,0.0,0.0,0.0,0.0,0.10442200093029375,0.0886282299613994,0.0,0.0,0.0,0.0,0.0,0.12163899747364834,0.0,0.0,0.0,0.0,0.0,0.0,0.0,0.0,0.0,0.0,0.0,0.0,0.0,0.0,0.0951736851143463,0.0,0.0,0.0,0.0,0.0,0.0,0.0,0.0,0.0,0.0,0.0,0.0,0.0,0.0,0.0,0.0,0.0,0.0,0.0,0.0,0.0,0.0,0.0,0.0,0.0,0.0,0.0,0.0,0.0,0.0,0.0,0.0,0.0,0.0,0.0,0.42379248275567666,0.0,0.0,11.025716720427281,0.0,0.0,0.0,0.0,0.0,0.0,0.0,0.06053949987042339,0.0,0.0,0.0,0.0,0.0,0.0,0.0,0.20731631306157108,0.0,0.0,0.0,0.0,0.0,0.0,0.0,0.07187201136659858,0.0,0.0,0.0,0.18904509226300037,0.0,0.0,0.0,0.18845191241267503,0.0,0.0,0.0,0.21658928584621825,0.0,0.307040076270769,0.0,0.0,0.2551888433685582,0.0,0.0,0.5115506151944534,0.0,0.0,0.0,0.0,0.0,0.0,0.0,0.0,0.0,0.0,0.0,0.0,0.0,0.0,0.0,0.0,0.0,0.0,null],\"y0\":\" \",\"yaxis\":\"y\",\"type\":\"box\"},{\"line\":{\"color\":\"green\",\"width\":2},\"mode\":\"lines\",\"name\":\"mean\",\"showlegend\":true,\"x\":[\"hj_naive\",\"hj_reactive\",\"flocking\"],\"y\":[0.5073981506901872,0.6602556119650707,0.5833058160461942],\"type\":\"scatter\"}],                        {\"template\":{\"data\":{\"histogram2dcontour\":[{\"type\":\"histogram2dcontour\",\"colorbar\":{\"outlinewidth\":0,\"ticks\":\"\"},\"colorscale\":[[0.0,\"#0d0887\"],[0.1111111111111111,\"#46039f\"],[0.2222222222222222,\"#7201a8\"],[0.3333333333333333,\"#9c179e\"],[0.4444444444444444,\"#bd3786\"],[0.5555555555555556,\"#d8576b\"],[0.6666666666666666,\"#ed7953\"],[0.7777777777777778,\"#fb9f3a\"],[0.8888888888888888,\"#fdca26\"],[1.0,\"#f0f921\"]]}],\"choropleth\":[{\"type\":\"choropleth\",\"colorbar\":{\"outlinewidth\":0,\"ticks\":\"\"}}],\"histogram2d\":[{\"type\":\"histogram2d\",\"colorbar\":{\"outlinewidth\":0,\"ticks\":\"\"},\"colorscale\":[[0.0,\"#0d0887\"],[0.1111111111111111,\"#46039f\"],[0.2222222222222222,\"#7201a8\"],[0.3333333333333333,\"#9c179e\"],[0.4444444444444444,\"#bd3786\"],[0.5555555555555556,\"#d8576b\"],[0.6666666666666666,\"#ed7953\"],[0.7777777777777778,\"#fb9f3a\"],[0.8888888888888888,\"#fdca26\"],[1.0,\"#f0f921\"]]}],\"heatmap\":[{\"type\":\"heatmap\",\"colorbar\":{\"outlinewidth\":0,\"ticks\":\"\"},\"colorscale\":[[0.0,\"#0d0887\"],[0.1111111111111111,\"#46039f\"],[0.2222222222222222,\"#7201a8\"],[0.3333333333333333,\"#9c179e\"],[0.4444444444444444,\"#bd3786\"],[0.5555555555555556,\"#d8576b\"],[0.6666666666666666,\"#ed7953\"],[0.7777777777777778,\"#fb9f3a\"],[0.8888888888888888,\"#fdca26\"],[1.0,\"#f0f921\"]]}],\"heatmapgl\":[{\"type\":\"heatmapgl\",\"colorbar\":{\"outlinewidth\":0,\"ticks\":\"\"},\"colorscale\":[[0.0,\"#0d0887\"],[0.1111111111111111,\"#46039f\"],[0.2222222222222222,\"#7201a8\"],[0.3333333333333333,\"#9c179e\"],[0.4444444444444444,\"#bd3786\"],[0.5555555555555556,\"#d8576b\"],[0.6666666666666666,\"#ed7953\"],[0.7777777777777778,\"#fb9f3a\"],[0.8888888888888888,\"#fdca26\"],[1.0,\"#f0f921\"]]}],\"contourcarpet\":[{\"type\":\"contourcarpet\",\"colorbar\":{\"outlinewidth\":0,\"ticks\":\"\"}}],\"contour\":[{\"type\":\"contour\",\"colorbar\":{\"outlinewidth\":0,\"ticks\":\"\"},\"colorscale\":[[0.0,\"#0d0887\"],[0.1111111111111111,\"#46039f\"],[0.2222222222222222,\"#7201a8\"],[0.3333333333333333,\"#9c179e\"],[0.4444444444444444,\"#bd3786\"],[0.5555555555555556,\"#d8576b\"],[0.6666666666666666,\"#ed7953\"],[0.7777777777777778,\"#fb9f3a\"],[0.8888888888888888,\"#fdca26\"],[1.0,\"#f0f921\"]]}],\"surface\":[{\"type\":\"surface\",\"colorbar\":{\"outlinewidth\":0,\"ticks\":\"\"},\"colorscale\":[[0.0,\"#0d0887\"],[0.1111111111111111,\"#46039f\"],[0.2222222222222222,\"#7201a8\"],[0.3333333333333333,\"#9c179e\"],[0.4444444444444444,\"#bd3786\"],[0.5555555555555556,\"#d8576b\"],[0.6666666666666666,\"#ed7953\"],[0.7777777777777778,\"#fb9f3a\"],[0.8888888888888888,\"#fdca26\"],[1.0,\"#f0f921\"]]}],\"mesh3d\":[{\"type\":\"mesh3d\",\"colorbar\":{\"outlinewidth\":0,\"ticks\":\"\"}}],\"scatter\":[{\"fillpattern\":{\"fillmode\":\"overlay\",\"size\":10,\"solidity\":0.2},\"type\":\"scatter\"}],\"parcoords\":[{\"type\":\"parcoords\",\"line\":{\"colorbar\":{\"outlinewidth\":0,\"ticks\":\"\"}}}],\"scatterpolargl\":[{\"type\":\"scatterpolargl\",\"marker\":{\"colorbar\":{\"outlinewidth\":0,\"ticks\":\"\"}}}],\"bar\":[{\"error_x\":{\"color\":\"#2a3f5f\"},\"error_y\":{\"color\":\"#2a3f5f\"},\"marker\":{\"line\":{\"color\":\"#E5ECF6\",\"width\":0.5},\"pattern\":{\"fillmode\":\"overlay\",\"size\":10,\"solidity\":0.2}},\"type\":\"bar\"}],\"scattergeo\":[{\"type\":\"scattergeo\",\"marker\":{\"colorbar\":{\"outlinewidth\":0,\"ticks\":\"\"}}}],\"scatterpolar\":[{\"type\":\"scatterpolar\",\"marker\":{\"colorbar\":{\"outlinewidth\":0,\"ticks\":\"\"}}}],\"histogram\":[{\"marker\":{\"pattern\":{\"fillmode\":\"overlay\",\"size\":10,\"solidity\":0.2}},\"type\":\"histogram\"}],\"scattergl\":[{\"type\":\"scattergl\",\"marker\":{\"colorbar\":{\"outlinewidth\":0,\"ticks\":\"\"}}}],\"scatter3d\":[{\"type\":\"scatter3d\",\"line\":{\"colorbar\":{\"outlinewidth\":0,\"ticks\":\"\"}},\"marker\":{\"colorbar\":{\"outlinewidth\":0,\"ticks\":\"\"}}}],\"scattermapbox\":[{\"type\":\"scattermapbox\",\"marker\":{\"colorbar\":{\"outlinewidth\":0,\"ticks\":\"\"}}}],\"scatterternary\":[{\"type\":\"scatterternary\",\"marker\":{\"colorbar\":{\"outlinewidth\":0,\"ticks\":\"\"}}}],\"scattercarpet\":[{\"type\":\"scattercarpet\",\"marker\":{\"colorbar\":{\"outlinewidth\":0,\"ticks\":\"\"}}}],\"carpet\":[{\"aaxis\":{\"endlinecolor\":\"#2a3f5f\",\"gridcolor\":\"white\",\"linecolor\":\"white\",\"minorgridcolor\":\"white\",\"startlinecolor\":\"#2a3f5f\"},\"baxis\":{\"endlinecolor\":\"#2a3f5f\",\"gridcolor\":\"white\",\"linecolor\":\"white\",\"minorgridcolor\":\"white\",\"startlinecolor\":\"#2a3f5f\"},\"type\":\"carpet\"}],\"table\":[{\"cells\":{\"fill\":{\"color\":\"#EBF0F8\"},\"line\":{\"color\":\"white\"}},\"header\":{\"fill\":{\"color\":\"#C8D4E3\"},\"line\":{\"color\":\"white\"}},\"type\":\"table\"}],\"barpolar\":[{\"marker\":{\"line\":{\"color\":\"#E5ECF6\",\"width\":0.5},\"pattern\":{\"fillmode\":\"overlay\",\"size\":10,\"solidity\":0.2}},\"type\":\"barpolar\"}],\"pie\":[{\"automargin\":true,\"type\":\"pie\"}]},\"layout\":{\"autotypenumbers\":\"strict\",\"colorway\":[\"#636efa\",\"#EF553B\",\"#00cc96\",\"#ab63fa\",\"#FFA15A\",\"#19d3f3\",\"#FF6692\",\"#B6E880\",\"#FF97FF\",\"#FECB52\"],\"font\":{\"color\":\"#2a3f5f\"},\"hovermode\":\"closest\",\"hoverlabel\":{\"align\":\"left\"},\"paper_bgcolor\":\"white\",\"plot_bgcolor\":\"#E5ECF6\",\"polar\":{\"bgcolor\":\"#E5ECF6\",\"angularaxis\":{\"gridcolor\":\"white\",\"linecolor\":\"white\",\"ticks\":\"\"},\"radialaxis\":{\"gridcolor\":\"white\",\"linecolor\":\"white\",\"ticks\":\"\"}},\"ternary\":{\"bgcolor\":\"#E5ECF6\",\"aaxis\":{\"gridcolor\":\"white\",\"linecolor\":\"white\",\"ticks\":\"\"},\"baxis\":{\"gridcolor\":\"white\",\"linecolor\":\"white\",\"ticks\":\"\"},\"caxis\":{\"gridcolor\":\"white\",\"linecolor\":\"white\",\"ticks\":\"\"}},\"coloraxis\":{\"colorbar\":{\"outlinewidth\":0,\"ticks\":\"\"}},\"colorscale\":{\"sequential\":[[0.0,\"#0d0887\"],[0.1111111111111111,\"#46039f\"],[0.2222222222222222,\"#7201a8\"],[0.3333333333333333,\"#9c179e\"],[0.4444444444444444,\"#bd3786\"],[0.5555555555555556,\"#d8576b\"],[0.6666666666666666,\"#ed7953\"],[0.7777777777777778,\"#fb9f3a\"],[0.8888888888888888,\"#fdca26\"],[1.0,\"#f0f921\"]],\"sequentialminus\":[[0.0,\"#0d0887\"],[0.1111111111111111,\"#46039f\"],[0.2222222222222222,\"#7201a8\"],[0.3333333333333333,\"#9c179e\"],[0.4444444444444444,\"#bd3786\"],[0.5555555555555556,\"#d8576b\"],[0.6666666666666666,\"#ed7953\"],[0.7777777777777778,\"#fb9f3a\"],[0.8888888888888888,\"#fdca26\"],[1.0,\"#f0f921\"]],\"diverging\":[[0,\"#8e0152\"],[0.1,\"#c51b7d\"],[0.2,\"#de77ae\"],[0.3,\"#f1b6da\"],[0.4,\"#fde0ef\"],[0.5,\"#f7f7f7\"],[0.6,\"#e6f5d0\"],[0.7,\"#b8e186\"],[0.8,\"#7fbc41\"],[0.9,\"#4d9221\"],[1,\"#276419\"]]},\"xaxis\":{\"gridcolor\":\"white\",\"linecolor\":\"white\",\"ticks\":\"\",\"title\":{\"standoff\":15},\"zerolinecolor\":\"white\",\"automargin\":true,\"zerolinewidth\":2},\"yaxis\":{\"gridcolor\":\"white\",\"linecolor\":\"white\",\"ticks\":\"\",\"title\":{\"standoff\":15},\"zerolinecolor\":\"white\",\"automargin\":true,\"zerolinewidth\":2},\"scene\":{\"xaxis\":{\"backgroundcolor\":\"#E5ECF6\",\"gridcolor\":\"white\",\"linecolor\":\"white\",\"showbackground\":true,\"ticks\":\"\",\"zerolinecolor\":\"white\",\"gridwidth\":2},\"yaxis\":{\"backgroundcolor\":\"#E5ECF6\",\"gridcolor\":\"white\",\"linecolor\":\"white\",\"showbackground\":true,\"ticks\":\"\",\"zerolinecolor\":\"white\",\"gridwidth\":2},\"zaxis\":{\"backgroundcolor\":\"#E5ECF6\",\"gridcolor\":\"white\",\"linecolor\":\"white\",\"showbackground\":true,\"ticks\":\"\",\"zerolinecolor\":\"white\",\"gridwidth\":2}},\"shapedefaults\":{\"line\":{\"color\":\"#2a3f5f\"}},\"annotationdefaults\":{\"arrowcolor\":\"#2a3f5f\",\"arrowhead\":0,\"arrowwidth\":1},\"geo\":{\"bgcolor\":\"white\",\"landcolor\":\"#E5ECF6\",\"subunitcolor\":\"white\",\"showland\":true,\"showlakes\":true,\"lakecolor\":\"white\"},\"title\":{\"x\":0.05},\"mapbox\":{\"style\":\"light\"}}},\"xaxis\":{\"anchor\":\"y\",\"domain\":[0.0,1.0],\"title\":{\"text\":\"controllers\"}},\"yaxis\":{\"anchor\":\"x\",\"domain\":[0.0,1.0],\"title\":{\"text\":\" [km]\"},\"type\":\"log\"},\"legend\":{\"tracegroupgap\":0},\"margin\":{\"t\":60},\"boxmode\":\"group\",\"title\":{\"text\":\"Mean minimum distance to target among all platforms\"}},                        {\"responsive\": true}                    ).then(function(){\n",
       "                            \n",
       "var gd = document.getElementById('c09a68e0-5a80-4484-8ffc-1398728352bf');\n",
       "var x = new MutationObserver(function (mutations, observer) {{\n",
       "        var display = window.getComputedStyle(gd).display;\n",
       "        if (!display || display === 'none') {{\n",
       "            console.log([gd, 'removed!']);\n",
       "            Plotly.purge(gd);\n",
       "            observer.disconnect();\n",
       "        }}\n",
       "}});\n",
       "\n",
       "// Listen for the removal of the full notebook cells\n",
       "var notebookContainer = gd.closest('#notebook-container');\n",
       "if (notebookContainer) {{\n",
       "    x.observe(notebookContainer, {childList: true});\n",
       "}}\n",
       "\n",
       "// Listen for the clearing of the current output cell\n",
       "var outputEl = gd.closest('.output');\n",
       "if (outputEl) {{\n",
       "    x.observe(outputEl, {childList: true});\n",
       "}}\n",
       "\n",
       "                        })                };                });            </script>        </div>"
      ]
     },
     "metadata": {},
     "output_type": "display_data"
    }
   ],
   "source": [
    "mean_min_dist_dict = {\"hj_naive\": Distance(deg=metrics_hj_naive[\"Mean minimum distance to target among all platforms in deg\"]).km,\n",
    "                      \"hj_reactive\": Distance(deg=metrics_hj_reactive[\"Mean minimum distance to target among all platforms in deg\"]).km,\n",
    "                      \"flocking\":Distance(deg=metrics_hj_flocking[\"Mean minimum distance to target among all platforms in deg\"]).km}\n",
    "idx_list = []\n",
    "mean_min_dist_df = pd.DataFrame(mean_min_dist_dict)\n",
    "fig_min_dist = px.box(mean_min_dist_df, log_y=True)\n",
    "mean_trace = go.Scatter(\n",
    "    x=mean_min_dist_df.columns,\n",
    "    y=mean_min_dist_df.mean(),\n",
    "    mode='lines',\n",
    "    line=dict(color='green', width=2),\n",
    "    showlegend=True,\n",
    "    name=\"mean\"\n",
    ")\n",
    "fig_min_dist.add_trace(mean_trace)\n",
    "# Add custom x and y labels\n",
    "fig_min_dist.update_layout(\n",
    "    xaxis_title=\"controllers\",\n",
    "    yaxis_title=\" [km]\",\n",
    "    title = {'text': \"Mean minimum distance to target among all platforms\"}\n",
    ")\n",
    "fig_min_dist.show()"
   ]
  },
  {
   "attachments": {},
   "cell_type": "markdown",
   "metadata": {},
   "source": [
    "+ Mean maximum correction from optimal control degrees"
   ]
  },
  {
   "cell_type": "code",
   "execution_count": 13,
   "metadata": {},
   "outputs": [
    {
     "data": {
      "application/vnd.plotly.v1+json": {
       "config": {
        "plotlyServerURL": "https://plot.ly"
       },
       "data": [
        {
         "alignmentgroup": "True",
         "hovertemplate": "variable=%{x}<br>value=%{y}<extra></extra>",
         "legendgroup": "",
         "marker": {
          "color": "#636efa"
         },
         "name": "",
         "notched": false,
         "offsetgroup": "",
         "orientation": "v",
         "showlegend": false,
         "type": "box",
         "x": [
          "hj_naive",
          "hj_naive",
          "hj_naive",
          "hj_naive",
          "hj_naive",
          "hj_naive",
          "hj_naive",
          "hj_naive",
          "hj_naive",
          "hj_naive",
          "hj_naive",
          "hj_naive",
          "hj_naive",
          "hj_naive",
          "hj_naive",
          "hj_naive",
          "hj_naive",
          "hj_naive",
          "hj_naive",
          "hj_naive",
          "hj_naive",
          "hj_naive",
          "hj_naive",
          "hj_naive",
          "hj_naive",
          "hj_naive",
          "hj_naive",
          "hj_naive",
          "hj_naive",
          "hj_naive",
          "hj_naive",
          "hj_naive",
          "hj_naive",
          "hj_naive",
          "hj_naive",
          "hj_naive",
          "hj_naive",
          "hj_naive",
          "hj_naive",
          "hj_naive",
          "hj_naive",
          "hj_naive",
          "hj_naive",
          "hj_naive",
          "hj_naive",
          "hj_naive",
          "hj_naive",
          "hj_naive",
          "hj_naive",
          "hj_naive",
          "hj_naive",
          "hj_naive",
          "hj_naive",
          "hj_naive",
          "hj_naive",
          "hj_naive",
          "hj_naive",
          "hj_naive",
          "hj_naive",
          "hj_naive",
          "hj_naive",
          "hj_naive",
          "hj_naive",
          "hj_naive",
          "hj_naive",
          "hj_naive",
          "hj_naive",
          "hj_naive",
          "hj_naive",
          "hj_naive",
          "hj_naive",
          "hj_naive",
          "hj_naive",
          "hj_naive",
          "hj_naive",
          "hj_naive",
          "hj_naive",
          "hj_naive",
          "hj_naive",
          "hj_naive",
          "hj_naive",
          "hj_naive",
          "hj_naive",
          "hj_naive",
          "hj_naive",
          "hj_naive",
          "hj_naive",
          "hj_naive",
          "hj_naive",
          "hj_naive",
          "hj_naive",
          "hj_naive",
          "hj_naive",
          "hj_naive",
          "hj_naive",
          "hj_naive",
          "hj_naive",
          "hj_naive",
          "hj_naive",
          "hj_naive",
          "hj_naive",
          "hj_naive",
          "hj_naive",
          "hj_naive",
          "hj_naive",
          "hj_naive",
          "hj_naive",
          "hj_naive",
          "hj_naive",
          "hj_naive",
          "hj_naive",
          "hj_naive",
          "hj_naive",
          "hj_naive",
          "hj_naive",
          "hj_naive",
          "hj_naive",
          "hj_naive",
          "hj_naive",
          "hj_naive",
          "hj_naive",
          "hj_naive",
          "hj_naive",
          "hj_naive",
          "hj_naive",
          "hj_naive",
          "hj_naive",
          "hj_naive",
          "hj_naive",
          "hj_naive",
          "hj_naive",
          "hj_naive",
          "hj_naive",
          "hj_naive",
          "hj_naive",
          "hj_naive",
          "hj_naive",
          "hj_naive",
          "hj_naive",
          "hj_naive",
          "hj_naive",
          "hj_naive",
          "hj_naive",
          "hj_naive",
          "hj_naive",
          "hj_naive",
          "hj_naive",
          "hj_naive",
          "hj_naive",
          "hj_naive",
          "hj_naive",
          "hj_naive",
          "hj_naive",
          "hj_naive",
          "hj_naive",
          "hj_naive",
          "hj_naive",
          "hj_naive",
          "hj_naive",
          "hj_naive",
          "hj_naive",
          "hj_naive",
          "hj_naive",
          "hj_naive",
          "hj_naive",
          "hj_naive",
          "hj_naive",
          "hj_naive",
          "hj_naive",
          "hj_naive",
          "hj_naive",
          "hj_naive",
          "hj_naive",
          "hj_naive",
          "hj_naive",
          "hj_naive",
          "hj_naive",
          "hj_naive",
          "hj_naive",
          "hj_naive",
          "hj_naive",
          "hj_naive",
          "hj_naive",
          "hj_naive",
          "hj_naive",
          "hj_naive",
          "hj_naive",
          "hj_naive",
          "hj_naive",
          "hj_naive",
          "hj_naive",
          "hj_naive",
          "hj_naive",
          "hj_naive",
          "hj_naive",
          "hj_naive",
          "hj_naive",
          "hj_naive",
          "hj_naive",
          "hj_naive",
          "hj_naive",
          "hj_naive",
          "hj_naive",
          "hj_naive",
          "hj_naive",
          "hj_naive",
          "hj_naive",
          "hj_naive",
          "hj_naive",
          "hj_naive",
          "hj_naive",
          "hj_naive",
          "hj_naive",
          "hj_naive",
          "hj_naive",
          "hj_naive",
          "hj_naive",
          "hj_naive",
          "hj_naive",
          "hj_naive",
          "hj_naive",
          "hj_naive",
          "hj_naive",
          "hj_naive",
          "hj_naive",
          "hj_naive",
          "hj_naive",
          "hj_naive",
          "hj_naive",
          "hj_naive",
          "hj_naive",
          "hj_naive",
          "hj_naive",
          "hj_naive",
          "hj_naive",
          "hj_naive",
          "hj_naive",
          "hj_naive",
          "hj_naive",
          "hj_naive",
          "hj_naive",
          "hj_naive",
          "hj_naive",
          "hj_naive",
          "hj_naive",
          "hj_naive",
          "hj_naive",
          "hj_naive",
          "hj_naive",
          "hj_naive",
          "hj_naive",
          "hj_naive",
          "hj_naive",
          "hj_naive",
          "hj_naive",
          "hj_naive",
          "hj_naive",
          "hj_naive",
          "hj_naive",
          "hj_naive",
          "hj_naive",
          "hj_naive",
          "hj_naive",
          "hj_naive",
          "hj_naive",
          "hj_naive",
          "hj_naive",
          "hj_naive",
          "hj_naive",
          "hj_naive",
          "hj_naive",
          "hj_naive",
          "hj_naive",
          "hj_naive",
          "hj_naive",
          "hj_naive",
          "hj_naive",
          "hj_naive",
          "hj_naive",
          "hj_naive",
          "hj_naive",
          "hj_naive",
          "hj_naive",
          "hj_naive",
          "hj_naive",
          "hj_naive",
          "hj_naive",
          "hj_naive",
          "hj_naive",
          "hj_naive",
          "hj_naive",
          "hj_naive",
          "hj_naive",
          "hj_naive",
          "hj_naive",
          "hj_naive",
          "hj_naive",
          "hj_naive",
          "hj_naive",
          "hj_naive",
          "hj_naive",
          "hj_naive",
          "hj_naive",
          "hj_naive",
          "hj_naive",
          "hj_naive",
          "hj_naive",
          "hj_naive",
          "hj_naive",
          "hj_naive",
          "hj_naive",
          "hj_naive",
          "hj_naive",
          "hj_naive",
          "hj_naive",
          "hj_naive",
          "hj_naive",
          "hj_naive",
          "hj_naive",
          "hj_naive",
          "hj_naive",
          "hj_naive",
          "hj_naive",
          "hj_naive",
          "hj_naive",
          "hj_naive",
          "hj_naive",
          "hj_naive",
          "hj_naive",
          "hj_naive",
          "hj_naive",
          "hj_naive",
          "hj_naive",
          "hj_naive",
          "hj_naive",
          "hj_naive",
          "hj_naive",
          "hj_naive",
          "hj_naive",
          "hj_naive",
          "hj_naive",
          "hj_naive",
          "hj_naive",
          "hj_naive",
          "hj_naive",
          "hj_naive",
          "hj_naive",
          "hj_naive",
          "hj_naive",
          "hj_naive",
          "hj_naive",
          "hj_naive",
          "hj_naive",
          "hj_naive",
          "hj_naive",
          "hj_naive",
          "hj_naive",
          "hj_naive",
          "hj_naive",
          "hj_naive",
          "hj_naive",
          "hj_naive",
          "hj_naive",
          "hj_naive",
          "hj_naive",
          "hj_naive",
          "hj_naive",
          "hj_naive",
          "hj_naive",
          "hj_naive",
          "hj_naive",
          "hj_naive",
          "hj_naive",
          "hj_naive",
          "hj_naive",
          "hj_naive",
          "hj_naive",
          "hj_naive",
          "hj_naive",
          "hj_naive",
          "hj_naive",
          "hj_naive",
          "hj_naive",
          "hj_naive",
          "hj_naive",
          "hj_naive",
          "hj_naive",
          "hj_naive",
          "hj_naive",
          "hj_naive",
          "hj_naive",
          "hj_naive",
          "hj_naive",
          "hj_naive",
          "hj_naive",
          "hj_naive",
          "hj_naive",
          "hj_naive",
          "hj_naive",
          "hj_naive",
          "hj_naive",
          "hj_naive",
          "hj_naive",
          "hj_naive",
          "hj_naive",
          "hj_naive",
          "hj_naive",
          "hj_naive",
          "hj_naive",
          "hj_naive",
          "hj_naive",
          "hj_naive",
          "hj_naive",
          "hj_naive",
          "hj_naive",
          "hj_naive",
          "hj_naive",
          "hj_naive",
          "hj_naive",
          "hj_naive",
          "hj_naive",
          "hj_naive",
          "hj_naive",
          "hj_naive",
          "hj_naive",
          "hj_naive",
          "hj_naive",
          "hj_naive",
          "hj_naive",
          "hj_naive",
          "hj_naive",
          "hj_naive",
          "hj_naive",
          "hj_naive",
          "hj_naive",
          "hj_naive",
          "hj_naive",
          "hj_naive",
          "hj_naive",
          "hj_naive",
          "hj_naive",
          "hj_naive",
          "hj_naive",
          "hj_naive",
          "hj_naive",
          "hj_naive",
          "hj_naive",
          "hj_naive",
          "hj_naive",
          "hj_naive",
          "hj_naive",
          "hj_naive",
          "hj_naive",
          "hj_naive",
          "hj_naive",
          "hj_naive",
          "hj_naive",
          "hj_naive",
          "hj_naive",
          "hj_naive",
          "hj_naive",
          "hj_naive",
          "hj_naive",
          "hj_naive",
          "hj_naive",
          "hj_naive",
          "hj_naive",
          "hj_naive",
          "hj_naive",
          "hj_naive",
          "hj_naive",
          "hj_naive",
          "hj_naive",
          "hj_naive",
          "hj_naive",
          "hj_naive",
          "hj_naive",
          "hj_naive",
          "hj_naive",
          "hj_naive",
          "hj_naive",
          "hj_naive",
          "hj_naive",
          "hj_naive",
          "hj_naive",
          "hj_naive",
          "hj_naive",
          "hj_naive",
          "hj_naive",
          "hj_naive",
          "hj_naive",
          "hj_naive",
          "hj_naive",
          "hj_naive",
          "hj_naive",
          "hj_naive",
          "hj_naive",
          "hj_naive",
          "hj_naive",
          "hj_naive",
          "hj_naive",
          "hj_naive",
          "hj_naive",
          "hj_naive",
          "hj_naive",
          "hj_naive",
          "hj_naive",
          "hj_naive",
          "hj_naive",
          "hj_naive",
          "hj_naive",
          "hj_naive",
          "hj_naive",
          "hj_naive",
          "hj_naive",
          "hj_naive",
          "hj_naive",
          "hj_naive",
          "hj_naive",
          "hj_naive",
          "hj_naive",
          "hj_naive",
          "hj_naive",
          "hj_naive",
          "hj_naive",
          "hj_naive",
          "hj_naive",
          "hj_naive",
          "hj_naive",
          "hj_naive",
          "hj_naive",
          "hj_naive",
          "hj_naive",
          "hj_naive",
          "hj_naive",
          "hj_naive",
          "hj_naive",
          "hj_naive",
          "hj_naive",
          "hj_naive",
          "hj_naive",
          "hj_naive",
          "hj_naive",
          "hj_naive",
          "hj_naive",
          "hj_naive",
          "hj_naive",
          "hj_naive",
          "hj_naive",
          "hj_reactive",
          "hj_reactive",
          "hj_reactive",
          "hj_reactive",
          "hj_reactive",
          "hj_reactive",
          "hj_reactive",
          "hj_reactive",
          "hj_reactive",
          "hj_reactive",
          "hj_reactive",
          "hj_reactive",
          "hj_reactive",
          "hj_reactive",
          "hj_reactive",
          "hj_reactive",
          "hj_reactive",
          "hj_reactive",
          "hj_reactive",
          "hj_reactive",
          "hj_reactive",
          "hj_reactive",
          "hj_reactive",
          "hj_reactive",
          "hj_reactive",
          "hj_reactive",
          "hj_reactive",
          "hj_reactive",
          "hj_reactive",
          "hj_reactive",
          "hj_reactive",
          "hj_reactive",
          "hj_reactive",
          "hj_reactive",
          "hj_reactive",
          "hj_reactive",
          "hj_reactive",
          "hj_reactive",
          "hj_reactive",
          "hj_reactive",
          "hj_reactive",
          "hj_reactive",
          "hj_reactive",
          "hj_reactive",
          "hj_reactive",
          "hj_reactive",
          "hj_reactive",
          "hj_reactive",
          "hj_reactive",
          "hj_reactive",
          "hj_reactive",
          "hj_reactive",
          "hj_reactive",
          "hj_reactive",
          "hj_reactive",
          "hj_reactive",
          "hj_reactive",
          "hj_reactive",
          "hj_reactive",
          "hj_reactive",
          "hj_reactive",
          "hj_reactive",
          "hj_reactive",
          "hj_reactive",
          "hj_reactive",
          "hj_reactive",
          "hj_reactive",
          "hj_reactive",
          "hj_reactive",
          "hj_reactive",
          "hj_reactive",
          "hj_reactive",
          "hj_reactive",
          "hj_reactive",
          "hj_reactive",
          "hj_reactive",
          "hj_reactive",
          "hj_reactive",
          "hj_reactive",
          "hj_reactive",
          "hj_reactive",
          "hj_reactive",
          "hj_reactive",
          "hj_reactive",
          "hj_reactive",
          "hj_reactive",
          "hj_reactive",
          "hj_reactive",
          "hj_reactive",
          "hj_reactive",
          "hj_reactive",
          "hj_reactive",
          "hj_reactive",
          "hj_reactive",
          "hj_reactive",
          "hj_reactive",
          "hj_reactive",
          "hj_reactive",
          "hj_reactive",
          "hj_reactive",
          "hj_reactive",
          "hj_reactive",
          "hj_reactive",
          "hj_reactive",
          "hj_reactive",
          "hj_reactive",
          "hj_reactive",
          "hj_reactive",
          "hj_reactive",
          "hj_reactive",
          "hj_reactive",
          "hj_reactive",
          "hj_reactive",
          "hj_reactive",
          "hj_reactive",
          "hj_reactive",
          "hj_reactive",
          "hj_reactive",
          "hj_reactive",
          "hj_reactive",
          "hj_reactive",
          "hj_reactive",
          "hj_reactive",
          "hj_reactive",
          "hj_reactive",
          "hj_reactive",
          "hj_reactive",
          "hj_reactive",
          "hj_reactive",
          "hj_reactive",
          "hj_reactive",
          "hj_reactive",
          "hj_reactive",
          "hj_reactive",
          "hj_reactive",
          "hj_reactive",
          "hj_reactive",
          "hj_reactive",
          "hj_reactive",
          "hj_reactive",
          "hj_reactive",
          "hj_reactive",
          "hj_reactive",
          "hj_reactive",
          "hj_reactive",
          "hj_reactive",
          "hj_reactive",
          "hj_reactive",
          "hj_reactive",
          "hj_reactive",
          "hj_reactive",
          "hj_reactive",
          "hj_reactive",
          "hj_reactive",
          "hj_reactive",
          "hj_reactive",
          "hj_reactive",
          "hj_reactive",
          "hj_reactive",
          "hj_reactive",
          "hj_reactive",
          "hj_reactive",
          "hj_reactive",
          "hj_reactive",
          "hj_reactive",
          "hj_reactive",
          "hj_reactive",
          "hj_reactive",
          "hj_reactive",
          "hj_reactive",
          "hj_reactive",
          "hj_reactive",
          "hj_reactive",
          "hj_reactive",
          "hj_reactive",
          "hj_reactive",
          "hj_reactive",
          "hj_reactive",
          "hj_reactive",
          "hj_reactive",
          "hj_reactive",
          "hj_reactive",
          "hj_reactive",
          "hj_reactive",
          "hj_reactive",
          "hj_reactive",
          "hj_reactive",
          "hj_reactive",
          "hj_reactive",
          "hj_reactive",
          "hj_reactive",
          "hj_reactive",
          "hj_reactive",
          "hj_reactive",
          "hj_reactive",
          "hj_reactive",
          "hj_reactive",
          "hj_reactive",
          "hj_reactive",
          "hj_reactive",
          "hj_reactive",
          "hj_reactive",
          "hj_reactive",
          "hj_reactive",
          "hj_reactive",
          "hj_reactive",
          "hj_reactive",
          "hj_reactive",
          "hj_reactive",
          "hj_reactive",
          "hj_reactive",
          "hj_reactive",
          "hj_reactive",
          "hj_reactive",
          "hj_reactive",
          "hj_reactive",
          "hj_reactive",
          "hj_reactive",
          "hj_reactive",
          "hj_reactive",
          "hj_reactive",
          "hj_reactive",
          "hj_reactive",
          "hj_reactive",
          "hj_reactive",
          "hj_reactive",
          "hj_reactive",
          "hj_reactive",
          "hj_reactive",
          "hj_reactive",
          "hj_reactive",
          "hj_reactive",
          "hj_reactive",
          "hj_reactive",
          "hj_reactive",
          "hj_reactive",
          "hj_reactive",
          "hj_reactive",
          "hj_reactive",
          "hj_reactive",
          "hj_reactive",
          "hj_reactive",
          "hj_reactive",
          "hj_reactive",
          "hj_reactive",
          "hj_reactive",
          "hj_reactive",
          "hj_reactive",
          "hj_reactive",
          "hj_reactive",
          "hj_reactive",
          "hj_reactive",
          "hj_reactive",
          "hj_reactive",
          "hj_reactive",
          "hj_reactive",
          "hj_reactive",
          "hj_reactive",
          "hj_reactive",
          "hj_reactive",
          "hj_reactive",
          "hj_reactive",
          "hj_reactive",
          "hj_reactive",
          "hj_reactive",
          "hj_reactive",
          "hj_reactive",
          "hj_reactive",
          "hj_reactive",
          "hj_reactive",
          "hj_reactive",
          "hj_reactive",
          "hj_reactive",
          "hj_reactive",
          "hj_reactive",
          "hj_reactive",
          "hj_reactive",
          "hj_reactive",
          "hj_reactive",
          "hj_reactive",
          "hj_reactive",
          "hj_reactive",
          "hj_reactive",
          "hj_reactive",
          "hj_reactive",
          "hj_reactive",
          "hj_reactive",
          "hj_reactive",
          "hj_reactive",
          "hj_reactive",
          "hj_reactive",
          "hj_reactive",
          "hj_reactive",
          "hj_reactive",
          "hj_reactive",
          "hj_reactive",
          "hj_reactive",
          "hj_reactive",
          "hj_reactive",
          "hj_reactive",
          "hj_reactive",
          "hj_reactive",
          "hj_reactive",
          "hj_reactive",
          "hj_reactive",
          "hj_reactive",
          "hj_reactive",
          "hj_reactive",
          "hj_reactive",
          "hj_reactive",
          "hj_reactive",
          "hj_reactive",
          "hj_reactive",
          "hj_reactive",
          "hj_reactive",
          "hj_reactive",
          "hj_reactive",
          "hj_reactive",
          "hj_reactive",
          "hj_reactive",
          "hj_reactive",
          "hj_reactive",
          "hj_reactive",
          "hj_reactive",
          "hj_reactive",
          "hj_reactive",
          "hj_reactive",
          "hj_reactive",
          "hj_reactive",
          "hj_reactive",
          "hj_reactive",
          "hj_reactive",
          "hj_reactive",
          "hj_reactive",
          "hj_reactive",
          "hj_reactive",
          "hj_reactive",
          "hj_reactive",
          "hj_reactive",
          "hj_reactive",
          "hj_reactive",
          "hj_reactive",
          "hj_reactive",
          "hj_reactive",
          "hj_reactive",
          "hj_reactive",
          "hj_reactive",
          "hj_reactive",
          "hj_reactive",
          "hj_reactive",
          "hj_reactive",
          "hj_reactive",
          "hj_reactive",
          "hj_reactive",
          "hj_reactive",
          "hj_reactive",
          "hj_reactive",
          "hj_reactive",
          "hj_reactive",
          "hj_reactive",
          "hj_reactive",
          "hj_reactive",
          "hj_reactive",
          "hj_reactive",
          "hj_reactive",
          "hj_reactive",
          "hj_reactive",
          "hj_reactive",
          "hj_reactive",
          "hj_reactive",
          "hj_reactive",
          "hj_reactive",
          "hj_reactive",
          "hj_reactive",
          "hj_reactive",
          "hj_reactive",
          "hj_reactive",
          "hj_reactive",
          "hj_reactive",
          "hj_reactive",
          "hj_reactive",
          "hj_reactive",
          "hj_reactive",
          "hj_reactive",
          "hj_reactive",
          "hj_reactive",
          "hj_reactive",
          "hj_reactive",
          "hj_reactive",
          "hj_reactive",
          "hj_reactive",
          "hj_reactive",
          "hj_reactive",
          "hj_reactive",
          "hj_reactive",
          "hj_reactive",
          "hj_reactive",
          "hj_reactive",
          "hj_reactive",
          "hj_reactive",
          "hj_reactive",
          "hj_reactive",
          "hj_reactive",
          "hj_reactive",
          "hj_reactive",
          "hj_reactive",
          "hj_reactive",
          "hj_reactive",
          "hj_reactive",
          "hj_reactive",
          "hj_reactive",
          "hj_reactive",
          "hj_reactive",
          "hj_reactive",
          "hj_reactive",
          "hj_reactive",
          "hj_reactive",
          "hj_reactive",
          "hj_reactive",
          "hj_reactive",
          "hj_reactive",
          "hj_reactive",
          "hj_reactive",
          "hj_reactive",
          "hj_reactive",
          "hj_reactive",
          "hj_reactive",
          "hj_reactive",
          "hj_reactive",
          "hj_reactive",
          "hj_reactive",
          "hj_reactive",
          "hj_reactive",
          "hj_reactive",
          "hj_reactive",
          "hj_reactive",
          "hj_reactive",
          "hj_reactive",
          "hj_reactive",
          "hj_reactive",
          "hj_reactive",
          "hj_reactive",
          "hj_reactive",
          "hj_reactive",
          "hj_reactive",
          "hj_reactive",
          "hj_reactive",
          "hj_reactive",
          "hj_reactive",
          "hj_reactive",
          "hj_reactive",
          "hj_reactive",
          "hj_reactive",
          "hj_reactive",
          "hj_reactive",
          "hj_reactive",
          "hj_reactive",
          "hj_reactive",
          "hj_reactive",
          "hj_reactive",
          "hj_reactive",
          "hj_reactive",
          "hj_reactive",
          "hj_reactive",
          "hj_reactive",
          "hj_reactive",
          "hj_reactive",
          "hj_reactive",
          "hj_reactive",
          "hj_reactive",
          "hj_reactive",
          "hj_reactive",
          "hj_reactive",
          "hj_reactive",
          "hj_reactive",
          "hj_reactive",
          "hj_reactive",
          "hj_reactive",
          "hj_reactive",
          "hj_reactive",
          "hj_reactive",
          "hj_reactive",
          "hj_reactive",
          "hj_reactive",
          "hj_reactive",
          "hj_reactive",
          "hj_reactive",
          "hj_reactive",
          "hj_reactive",
          "hj_reactive",
          "hj_reactive",
          "hj_reactive",
          "hj_reactive",
          "hj_reactive",
          "hj_reactive",
          "hj_reactive",
          "hj_reactive",
          "hj_reactive",
          "hj_reactive",
          "hj_reactive",
          "hj_reactive",
          "hj_reactive",
          "hj_reactive",
          "hj_reactive",
          "hj_reactive",
          "hj_reactive",
          "hj_reactive",
          "hj_reactive",
          "hj_reactive",
          "hj_reactive",
          "hj_reactive",
          "hj_reactive",
          "hj_reactive",
          "hj_reactive",
          "hj_reactive",
          "hj_reactive",
          "hj_reactive",
          "hj_reactive",
          "hj_reactive",
          "hj_reactive",
          "hj_reactive",
          "hj_reactive",
          "hj_reactive",
          "hj_reactive",
          "hj_reactive",
          "hj_reactive",
          "hj_reactive",
          "hj_reactive",
          "hj_reactive",
          "hj_reactive",
          "hj_reactive",
          "hj_reactive",
          "hj_reactive",
          "hj_reactive",
          "hj_reactive",
          "hj_reactive",
          "hj_reactive",
          "hj_reactive",
          "hj_reactive",
          "hj_reactive",
          "hj_reactive",
          "hj_reactive",
          "hj_reactive",
          "hj_reactive",
          "hj_reactive",
          "hj_reactive",
          "hj_reactive",
          "hj_reactive",
          "hj_reactive",
          "flocking",
          "flocking",
          "flocking",
          "flocking",
          "flocking",
          "flocking",
          "flocking",
          "flocking",
          "flocking",
          "flocking",
          "flocking",
          "flocking",
          "flocking",
          "flocking",
          "flocking",
          "flocking",
          "flocking",
          "flocking",
          "flocking",
          "flocking",
          "flocking",
          "flocking",
          "flocking",
          "flocking",
          "flocking",
          "flocking",
          "flocking",
          "flocking",
          "flocking",
          "flocking",
          "flocking",
          "flocking",
          "flocking",
          "flocking",
          "flocking",
          "flocking",
          "flocking",
          "flocking",
          "flocking",
          "flocking",
          "flocking",
          "flocking",
          "flocking",
          "flocking",
          "flocking",
          "flocking",
          "flocking",
          "flocking",
          "flocking",
          "flocking",
          "flocking",
          "flocking",
          "flocking",
          "flocking",
          "flocking",
          "flocking",
          "flocking",
          "flocking",
          "flocking",
          "flocking",
          "flocking",
          "flocking",
          "flocking",
          "flocking",
          "flocking",
          "flocking",
          "flocking",
          "flocking",
          "flocking",
          "flocking",
          "flocking",
          "flocking",
          "flocking",
          "flocking",
          "flocking",
          "flocking",
          "flocking",
          "flocking",
          "flocking",
          "flocking",
          "flocking",
          "flocking",
          "flocking",
          "flocking",
          "flocking",
          "flocking",
          "flocking",
          "flocking",
          "flocking",
          "flocking",
          "flocking",
          "flocking",
          "flocking",
          "flocking",
          "flocking",
          "flocking",
          "flocking",
          "flocking",
          "flocking",
          "flocking",
          "flocking",
          "flocking",
          "flocking",
          "flocking",
          "flocking",
          "flocking",
          "flocking",
          "flocking",
          "flocking",
          "flocking",
          "flocking",
          "flocking",
          "flocking",
          "flocking",
          "flocking",
          "flocking",
          "flocking",
          "flocking",
          "flocking",
          "flocking",
          "flocking",
          "flocking",
          "flocking",
          "flocking",
          "flocking",
          "flocking",
          "flocking",
          "flocking",
          "flocking",
          "flocking",
          "flocking",
          "flocking",
          "flocking",
          "flocking",
          "flocking",
          "flocking",
          "flocking",
          "flocking",
          "flocking",
          "flocking",
          "flocking",
          "flocking",
          "flocking",
          "flocking",
          "flocking",
          "flocking",
          "flocking",
          "flocking",
          "flocking",
          "flocking",
          "flocking",
          "flocking",
          "flocking",
          "flocking",
          "flocking",
          "flocking",
          "flocking",
          "flocking",
          "flocking",
          "flocking",
          "flocking",
          "flocking",
          "flocking",
          "flocking",
          "flocking",
          "flocking",
          "flocking",
          "flocking",
          "flocking",
          "flocking",
          "flocking",
          "flocking",
          "flocking",
          "flocking",
          "flocking",
          "flocking",
          "flocking",
          "flocking",
          "flocking",
          "flocking",
          "flocking",
          "flocking",
          "flocking",
          "flocking",
          "flocking",
          "flocking",
          "flocking",
          "flocking",
          "flocking",
          "flocking",
          "flocking",
          "flocking",
          "flocking",
          "flocking",
          "flocking",
          "flocking",
          "flocking",
          "flocking",
          "flocking",
          "flocking",
          "flocking",
          "flocking",
          "flocking",
          "flocking",
          "flocking",
          "flocking",
          "flocking",
          "flocking",
          "flocking",
          "flocking",
          "flocking",
          "flocking",
          "flocking",
          "flocking",
          "flocking",
          "flocking",
          "flocking",
          "flocking",
          "flocking",
          "flocking",
          "flocking",
          "flocking",
          "flocking",
          "flocking",
          "flocking",
          "flocking",
          "flocking",
          "flocking",
          "flocking",
          "flocking",
          "flocking",
          "flocking",
          "flocking",
          "flocking",
          "flocking",
          "flocking",
          "flocking",
          "flocking",
          "flocking",
          "flocking",
          "flocking",
          "flocking",
          "flocking",
          "flocking",
          "flocking",
          "flocking",
          "flocking",
          "flocking",
          "flocking",
          "flocking",
          "flocking",
          "flocking",
          "flocking",
          "flocking",
          "flocking",
          "flocking",
          "flocking",
          "flocking",
          "flocking",
          "flocking",
          "flocking",
          "flocking",
          "flocking",
          "flocking",
          "flocking",
          "flocking",
          "flocking",
          "flocking",
          "flocking",
          "flocking",
          "flocking",
          "flocking",
          "flocking",
          "flocking",
          "flocking",
          "flocking",
          "flocking",
          "flocking",
          "flocking",
          "flocking",
          "flocking",
          "flocking",
          "flocking",
          "flocking",
          "flocking",
          "flocking",
          "flocking",
          "flocking",
          "flocking",
          "flocking",
          "flocking",
          "flocking",
          "flocking",
          "flocking",
          "flocking",
          "flocking",
          "flocking",
          "flocking",
          "flocking",
          "flocking",
          "flocking",
          "flocking",
          "flocking",
          "flocking",
          "flocking",
          "flocking",
          "flocking",
          "flocking",
          "flocking",
          "flocking",
          "flocking",
          "flocking",
          "flocking",
          "flocking",
          "flocking",
          "flocking",
          "flocking",
          "flocking",
          "flocking",
          "flocking",
          "flocking",
          "flocking",
          "flocking",
          "flocking",
          "flocking",
          "flocking",
          "flocking",
          "flocking",
          "flocking",
          "flocking",
          "flocking",
          "flocking",
          "flocking",
          "flocking",
          "flocking",
          "flocking",
          "flocking",
          "flocking",
          "flocking",
          "flocking",
          "flocking",
          "flocking",
          "flocking",
          "flocking",
          "flocking",
          "flocking",
          "flocking",
          "flocking",
          "flocking",
          "flocking",
          "flocking",
          "flocking",
          "flocking",
          "flocking",
          "flocking",
          "flocking",
          "flocking",
          "flocking",
          "flocking",
          "flocking",
          "flocking",
          "flocking",
          "flocking",
          "flocking",
          "flocking",
          "flocking",
          "flocking",
          "flocking",
          "flocking",
          "flocking",
          "flocking",
          "flocking",
          "flocking",
          "flocking",
          "flocking",
          "flocking",
          "flocking",
          "flocking",
          "flocking",
          "flocking",
          "flocking",
          "flocking",
          "flocking",
          "flocking",
          "flocking",
          "flocking",
          "flocking",
          "flocking",
          "flocking",
          "flocking",
          "flocking",
          "flocking",
          "flocking",
          "flocking",
          "flocking",
          "flocking",
          "flocking",
          "flocking",
          "flocking",
          "flocking",
          "flocking",
          "flocking",
          "flocking",
          "flocking",
          "flocking",
          "flocking",
          "flocking",
          "flocking",
          "flocking",
          "flocking",
          "flocking",
          "flocking",
          "flocking",
          "flocking",
          "flocking",
          "flocking",
          "flocking",
          "flocking",
          "flocking",
          "flocking",
          "flocking",
          "flocking",
          "flocking",
          "flocking",
          "flocking",
          "flocking",
          "flocking",
          "flocking",
          "flocking",
          "flocking",
          "flocking",
          "flocking",
          "flocking",
          "flocking",
          "flocking",
          "flocking",
          "flocking",
          "flocking",
          "flocking",
          "flocking",
          "flocking",
          "flocking",
          "flocking",
          "flocking",
          "flocking",
          "flocking",
          "flocking",
          "flocking",
          "flocking",
          "flocking",
          "flocking",
          "flocking",
          "flocking",
          "flocking",
          "flocking",
          "flocking",
          "flocking",
          "flocking",
          "flocking",
          "flocking",
          "flocking",
          "flocking",
          "flocking",
          "flocking",
          "flocking",
          "flocking",
          "flocking",
          "flocking",
          "flocking",
          "flocking",
          "flocking",
          "flocking",
          "flocking",
          "flocking",
          "flocking",
          "flocking",
          "flocking",
          "flocking",
          "flocking",
          "flocking",
          "flocking",
          "flocking",
          "flocking",
          "flocking",
          "flocking",
          "flocking",
          "flocking",
          "flocking",
          "flocking",
          "flocking",
          "flocking",
          "flocking",
          "flocking",
          "flocking",
          "flocking",
          "flocking",
          "flocking",
          "flocking",
          "flocking",
          "flocking",
          "flocking",
          "flocking",
          "flocking",
          "flocking",
          "flocking",
          "flocking",
          "flocking",
          "flocking",
          "flocking",
          "flocking",
          "flocking",
          "flocking",
          "flocking",
          "flocking",
          "flocking",
          "flocking",
          "flocking",
          "flocking",
          "flocking",
          "flocking",
          "flocking",
          "flocking",
          "flocking",
          "flocking",
          "flocking",
          "flocking",
          "flocking",
          "flocking",
          "flocking",
          "flocking",
          "flocking",
          "flocking",
          "flocking",
          "flocking",
          "flocking",
          "flocking",
          "flocking",
          "flocking",
          "flocking",
          "flocking",
          "flocking",
          "flocking",
          "flocking",
          "flocking",
          "flocking",
          "flocking",
          "flocking",
          "flocking",
          "flocking"
         ],
         "x0": " ",
         "xaxis": "x",
         "y": [
          0,
          0,
          0,
          0,
          0,
          0,
          0,
          0,
          0,
          0,
          0,
          0,
          0,
          0,
          0,
          0,
          0,
          0,
          0,
          0,
          0,
          0,
          0,
          0,
          0,
          0,
          0,
          0,
          0,
          0,
          0,
          0,
          0,
          0,
          0,
          0,
          0,
          0,
          0,
          0,
          0,
          0,
          0,
          0,
          0,
          0,
          0,
          0,
          0,
          0,
          0,
          0,
          0,
          0,
          0,
          0,
          0,
          0,
          0,
          0,
          0,
          0,
          0,
          0,
          0,
          0,
          0,
          0,
          0,
          0,
          0,
          0,
          0,
          0,
          0,
          0,
          0,
          0,
          0,
          0,
          0,
          0,
          0,
          0,
          0,
          0,
          0,
          0,
          0,
          0,
          0,
          0,
          0,
          0,
          0,
          0,
          0,
          0,
          0,
          0,
          0,
          0,
          0,
          0,
          0,
          0,
          0,
          0,
          0,
          0,
          0,
          0,
          0,
          0,
          0,
          0,
          0,
          0,
          0,
          0,
          0,
          0,
          0,
          0,
          0,
          0,
          0,
          0,
          0,
          0,
          0,
          0,
          0,
          0,
          0,
          0,
          0,
          0,
          0,
          0,
          0,
          0,
          0,
          0,
          0,
          0,
          0,
          0,
          0,
          0,
          0,
          0,
          0,
          0,
          0,
          0,
          0,
          0,
          0,
          0,
          0,
          0,
          0,
          0,
          0,
          0,
          0,
          0,
          0,
          0,
          0,
          0,
          0,
          0,
          0,
          0,
          0,
          0,
          0,
          0,
          0,
          0,
          0,
          0,
          0,
          0,
          0,
          0,
          0,
          0,
          0,
          0,
          0,
          0,
          0,
          0,
          0,
          0,
          0,
          0,
          0,
          0,
          0,
          0,
          0,
          0,
          0,
          null,
          0,
          0,
          0,
          0,
          0,
          0,
          0,
          0,
          0,
          0,
          0,
          0,
          0,
          0,
          0,
          0,
          0,
          0,
          0,
          0,
          0,
          0,
          0,
          0,
          0,
          0,
          0,
          0,
          0,
          0,
          0,
          0,
          0,
          0,
          0,
          0,
          0,
          0,
          0,
          0,
          0,
          0,
          0,
          0,
          0,
          0,
          0,
          0,
          0,
          0,
          0,
          0,
          0,
          0,
          0,
          0,
          0,
          0,
          0,
          0,
          0,
          0,
          0,
          0,
          0,
          0,
          0,
          0,
          0,
          0,
          0,
          0,
          0,
          0,
          0,
          0,
          0,
          0,
          0,
          0,
          0,
          0,
          0,
          0,
          0,
          0,
          0,
          0,
          0,
          0,
          0,
          0,
          0,
          0,
          0,
          0,
          0,
          0,
          0,
          0,
          0,
          0,
          0,
          0,
          0,
          0,
          0,
          0,
          0,
          0,
          0,
          0,
          0,
          0,
          0,
          0,
          0,
          0,
          0,
          0,
          0,
          0,
          0,
          0,
          0,
          0,
          0,
          0,
          0,
          0,
          0,
          0,
          0,
          0,
          0,
          0,
          0,
          0,
          0,
          0,
          0,
          0,
          0,
          0,
          0,
          0,
          0,
          0,
          0,
          0,
          0,
          0,
          0,
          0,
          0,
          0,
          0,
          0,
          0,
          0,
          0,
          0,
          0,
          0,
          0,
          0,
          0,
          0,
          0,
          0,
          0,
          0,
          0,
          0,
          0,
          0,
          0,
          0,
          0,
          0,
          0,
          0,
          0,
          0,
          0,
          0,
          0,
          0,
          0,
          0,
          0,
          0,
          0,
          0,
          0,
          0,
          0,
          0,
          0,
          0,
          0,
          0,
          0,
          0,
          0,
          0,
          0,
          0,
          0,
          0,
          0,
          0,
          0,
          0,
          0,
          0,
          0,
          0,
          0,
          0,
          0,
          0,
          0,
          0,
          0,
          0,
          0,
          0,
          0,
          0,
          0,
          0,
          0,
          0,
          0,
          0,
          0,
          0,
          0,
          0,
          0,
          0,
          0,
          0,
          0,
          0,
          0,
          0,
          0,
          0,
          0,
          0,
          0,
          0,
          0,
          0,
          0,
          0,
          0,
          0,
          0,
          0,
          0,
          0,
          0,
          0,
          0,
          0,
          0,
          0,
          0,
          0,
          0,
          0,
          0,
          0,
          0,
          0,
          0,
          0,
          0,
          0,
          0,
          0,
          0,
          0,
          0,
          0,
          0,
          0,
          0,
          0,
          0,
          0,
          0,
          0,
          0,
          0,
          0,
          0,
          0,
          0,
          0,
          0,
          0,
          0,
          0,
          0,
          0,
          0,
          0,
          0,
          0,
          0,
          0,
          0,
          0,
          0,
          0,
          0,
          0,
          0,
          0,
          0,
          0,
          0,
          0,
          0,
          0,
          0,
          0,
          0,
          0,
          0,
          0,
          0,
          0,
          0,
          0,
          0,
          0,
          0.4651141732271121,
          76.85558251131688,
          31.36046420676699,
          28.67038928695893,
          11.978420427132468,
          42.34106767268322,
          10.56760233992827,
          31.707883536999045,
          42.02906917379114,
          7.978874647362869,
          21.29418736306254,
          40.85949336430115,
          5.891592641476887,
          24.20514708561151,
          41.07471463358913,
          12.66431505425134,
          7.556035785806896,
          11.783808056449397,
          9.94393815955154,
          29.05618054598333,
          7.403099512392994,
          41.02964923585477,
          10.424661009297242,
          41.97206400012927,
          13.986411760480392,
          16.00693588571583,
          17.120740473628572,
          18.727414958786216,
          36.18610832917629,
          19.84737239740143,
          30.280897879815555,
          48.24992016967232,
          55.25298476611237,
          19.40690242386093,
          41.44295863010618,
          31.687402011291613,
          42.58313058275247,
          10.086831102722208,
          13.52546106945642,
          14.689748798201611,
          13.529084594213916,
          31.919989348028317,
          25.878370095991105,
          9.687880005631758,
          6.207587488170227,
          23.64489300597755,
          10.398181317692998,
          9.61596505960452,
          18.16991170303405,
          72.73680198496035,
          19.1795162606656,
          20.772381512332352,
          25.40944072769252,
          7.39400934581056,
          4.090545623948155,
          27.108447714814343,
          28.595435933774308,
          7.875457998657192,
          15.50298133015342,
          21.81609121052947,
          24.055475921527812,
          23.87307037194783,
          120.07909045528558,
          7.089052376367207,
          23.4013794639671,
          41.65093692178814,
          15.83551951162454,
          49.90088565325691,
          51.202126844916656,
          18.159156559577543,
          49.1841014360293,
          47.711587944317486,
          21.131264351315973,
          49.84148361794036,
          20.673729245964186,
          30.654533309162822,
          11.39821646660286,
          20.75192005914781,
          32.96829429477819,
          41.45066991632058,
          18.01087295441123,
          16.05645961612917,
          13.737936426922088,
          17.592053861269243,
          26.80972743665181,
          47.621843612742,
          18.675713671740667,
          18.119496853040538,
          7.704415494559363,
          17.036074218986997,
          42.34178077006214,
          55.4432994164545,
          36.57113194517616,
          32.18423861423021,
          17.691656259132305,
          18.46748971365832,
          102.57426907131044,
          48.10033621570559,
          18.16166281907615,
          13.08521717329527,
          19.14970221234742,
          41.76893049857208,
          13.842452626675046,
          13.744152549205491,
          37.905295238639376,
          36.49728843135849,
          6.066065929984192,
          7.885237221917787,
          32.2354149639493,
          100.89389465431904,
          128.05298425013342,
          5.371717669744903,
          19.509901152765423,
          26.048518917880624,
          14.0819199519643,
          15.499731904963408,
          13.791878986145596,
          11.585824500429055,
          6.977050854045242,
          13.408478610814718,
          11.067008761082825,
          14.70951332639875,
          44.04599540705765,
          28.52972414337028,
          21.809069626832223,
          20.43198407823612,
          21.57098519665072,
          5.368842738779422,
          19.531440032368486,
          40.79184390620443,
          28.446079829417688,
          5.4493059539988655,
          21.622101600691437,
          35.62655082504367,
          20.19061628568329,
          10.856552321507992,
          16.88820921304566,
          3.87965568809284,
          19.69394142476205,
          47.40803447522501,
          8.376766144309537,
          6.238090949827811,
          13.10799681419578,
          19.56694685048075,
          17.62836663724473,
          70.26188328078487,
          22.87409186784163,
          8.787940026181788,
          13.912428581925926,
          12.44994434773754,
          29.497886000171512,
          57.774964741123,
          26.714363539229996,
          8.038758601575825,
          10.42840127844286,
          17.246475405474282,
          14.639746901095556,
          13.800240576473165,
          56.41971344893506,
          9.158645811940149,
          62.97482886336124,
          18.97290936947359,
          32.58781868736214,
          11.72166634333459,
          78.72537926584107,
          20.4092148204426,
          19.247504797170187,
          33.587681152038215,
          16.665033349841043,
          34.04061183047362,
          11.83754966835462,
          26.765398305110043,
          36.30718770921371,
          23.27655498687024,
          56.209541877276415,
          45.24597249800908,
          22.09182618893479,
          13.73974737472957,
          31.562984849346595,
          18.804392121641204,
          18.126674543893103,
          16.71272200065306,
          16.094670974092647,
          15.719738007025526,
          9.317276977550664,
          29.17237748798383,
          11.550629974406874,
          14.850588697418273,
          9.824253174026904,
          20.56404461455454,
          73.14108633313093,
          28.870405332706863,
          16.651983826927992,
          37.60673633567097,
          13.37565419328331,
          17.448236300837728,
          46.39397529468466,
          29.450588290385905,
          24.540881729847456,
          25.96246348811408,
          15.187021509684955,
          23.23975907934851,
          49.16995045179885,
          17.38527782533786,
          28.41362339767201,
          61.53949561622572,
          19.21861489815405,
          26.99142269081948,
          5.574570119470852,
          17.642579720790646,
          13.00712053925223,
          48.0197624307863,
          26.98363584700937,
          11.373576149363208,
          84.37897045764416,
          32.44309924755422,
          17.83538134252027,
          25.208544483688183,
          27.3200658968528,
          10.98123053454123,
          36.38956263083823,
          6.534516618056423,
          11.774848238321612,
          13.32818071051442,
          26.38262546003453,
          23.20773284660094,
          24.55580960599106,
          18.126194215248244,
          29.61996971525243,
          8.81907145165095,
          27.063932612746918,
          18.21044268431389,
          15.06622584052496,
          20.259033137051222,
          27.315129330811025,
          12.591478895933593,
          58.95298121936553,
          4.614451339797221,
          32.43187528721156,
          9.73290617220789,
          29.25734121250925,
          14.054669610104677,
          19.18356769993253,
          55.09552796429524,
          21.593155203321267,
          22.37533175090281,
          16.967124247316338,
          9.6317713094691,
          3.0339653145918617,
          19.060052072702813,
          20.09503243782904,
          52.09076541248066,
          27.92926206916992,
          8.975927034952612,
          11.574951626645714,
          27.167743549274206,
          28.957123985854537,
          11.475695170904087,
          37.22196495414738,
          7.980070180271272,
          34.639044300427045,
          8.523633190031722,
          18.75059169485601,
          22.353394819293136,
          20.053931241998374,
          44.55811407642933,
          19.649250675510228,
          21.52680321301575,
          42.8712691858908,
          25.641052463971896,
          12.65845941861411,
          18.82443108717889,
          22.502977950471696,
          10.85516572922821,
          75.9889025112927,
          17.898382862033827,
          9.292140053692796,
          53.74446567735337,
          35.724149602185,
          23.201827692717515,
          18.609070095579117,
          29.404275237140084,
          9.69636917818862,
          11.359851341466769,
          22.822893976493745,
          11.44502188227455,
          36.50688594861449,
          7.586795902578378,
          61.61014392052162,
          20.83885471069325,
          30.836776034950464,
          23.93810375568844,
          18.936501774652577,
          30.770137082281455,
          27.19224705783234,
          36.164778681181375,
          31.93056990273188,
          31.33567048599486,
          12.252305193281709,
          20.991856853053463,
          22.639289771718893,
          18.649859924910466,
          3.927767892233828,
          26.942142780475088,
          31.13158836853268,
          70.14796879446284,
          16.180185201172225,
          6.025015276921803,
          24.97198926962775,
          85.67643784762527,
          33.681249295931,
          20.379591132693516,
          18.143740640472384,
          53.71268426896719,
          24.105917544619825,
          29.36750226957765,
          5.421273732562454,
          58.89412138497613,
          30.255404437754848,
          57.00711436931972,
          20.75542679874213,
          15.077537121391376,
          73.173215872747,
          19.48854931498143,
          58.50605156106235,
          19.321963992812595,
          27.954232924491738,
          27.406100184593363,
          34.184995500395004,
          13.592940129516574,
          24.75317909131012,
          24.100874049454085,
          29.70923673663017,
          23.38274115206045,
          34.99869504802853,
          16.415026291344166,
          22.021097818064643,
          23.81078685210823,
          9.325025060030937,
          5.535257791287245,
          18.47708209581968,
          15.381793420933931,
          55.06668854584623,
          16.44646458517989,
          16.56186583416752,
          59.15228620256174,
          11.385487798798684,
          5.093928796878877,
          111.93913898283031,
          28.302373500722315,
          27.487107108692797,
          22.62034571461474,
          19.076569268415334,
          14.608980445544166,
          17.2349093730846,
          39.42723872776157,
          20.36487127624424,
          8.952670188975747,
          15.51278770658019,
          35.50529143991256,
          14.811571890028512,
          19.83979604167536,
          18.48396962571736,
          16.00532411537375,
          10.966266982860033,
          66.79536033549803,
          17.216339547750728,
          10.12860847147846,
          68.05507994093828,
          14.680539255393896,
          13.2199377881577,
          45.41207623462626,
          37.05893916664596,
          24.920583314286432,
          18.510548446138788,
          33.18242737710091,
          39.316345766009405,
          3.2851573982591376,
          26.614225664034954,
          35.65059066630057,
          15.53267578942192,
          14.6254931387217,
          13.768586398050996,
          36.36000371222252,
          59.286667300773495,
          26.7957323682992,
          17.021710891477525,
          12.892074037635725,
          1.490655109728125,
          63.405974216986415,
          44.8505487471212,
          6.709027856170716,
          40.29339102210267,
          4.958780997945222,
          13.77223301011609,
          27.0915441843415,
          14.283165383074076,
          17.359389389841684,
          37.02408364483473,
          5.058785839416513,
          14.856406760711788,
          33.981713528225555,
          2.593991830043573,
          46.76196071299562,
          76.92447229818208,
          35.45814514214621,
          45.10953924733679,
          44.018094560530464,
          11.098556767377309,
          59.59871836018934,
          11.135697907424612,
          13.544896124186632,
          29.738308337019387,
          57.540189703290125,
          10.066180144036842,
          27.31422441676124,
          17.086855053289828,
          24.01186130650636,
          30.47440485331871,
          22.646507088443357,
          17.08001082237289,
          45.58962787389346,
          18.56203831605469,
          46.58031724131811,
          11.831263285881196,
          27.78980788687645,
          19.4170811151663,
          44.04583319770679,
          39.34103838477344,
          20.887545832810986,
          8.596422718394619,
          16.80563562273363,
          44.23911673231829,
          31.74324311206272,
          24.574858416706803,
          45.40255512796241,
          18.15417414338349,
          8.01703417431228,
          9.711368358351743,
          30.09219849870409,
          38.12345970603472,
          7.307986244980794,
          27.08858315756704,
          7.678706069302986,
          18.8695599374109,
          3.442776969842809,
          20.10328163295509,
          15.350753478896223,
          12.44801709553103,
          11.180928369216367,
          22.732362600441228,
          6.328210328868329,
          1.7809697308553774,
          50.31359262924652,
          40.87029598162738,
          15.081702347198837,
          30.9001406775899,
          9.378148682028216,
          11.896664733285146,
          41.362056365919614,
          4.784916112334043,
          23.86249293608844,
          10.636074284920191,
          29.808752300667003,
          11.140022813567237,
          63.54958402449203,
          22.83477259375648,
          44.9459870764704,
          15.40740360733244,
          60.67199347672835,
          11.99258158102993,
          11.63551702187968,
          5.179540329484523,
          3.457544814023834,
          12.810488120498924,
          11.34879631791814,
          22.720306635560167,
          21.466257182628738,
          15.180020061725845,
          11.348776509106372,
          27.890041239910488,
          17.524264782703376,
          57.66127183630214,
          16.57255517825284,
          15.923810040466009,
          24.627934368458256,
          26.015112984413232,
          9.537281359421184,
          16.364398261625066,
          31.06229710782583,
          9.696338910340184,
          40.50622959672378,
          65.33063378180333,
          28.437732671524667,
          8.68726367277126,
          43.15830106385752,
          5.541350118280411,
          42.17003952874485,
          14.288661382706016,
          15.01838328024472,
          23.03292374362995,
          12.05940670992793,
          42.326669569693614,
          23.5303218280108,
          41.38374043970892,
          19.65787655114162,
          9.452662087296687,
          12.802689445923756,
          45.48117946562016,
          7.5344766737782916,
          15.525111124233687,
          25.31356688836864,
          16.150057549768484,
          11.356154153746887,
          31.33560836986308,
          23.74098036903137,
          45.46488162456183,
          14.258820267218036,
          22.026443709156656,
          105.3635856888794,
          31.86243165094917,
          31.09579631732725,
          21.462890207204524,
          15.326402683885336,
          15.879989385200396,
          18.141460109871065,
          28.23351098168196,
          21.91559424240342,
          14.047670319090232,
          24.62769284920736,
          9.171848049651029,
          14.495081699048844,
          28.27373207475783,
          24.49881641106786,
          15.234029397454774,
          55.567762676661374,
          37.53695008699808,
          20.6667248765303,
          16.668307620463167,
          37.63236235701282,
          8.572336277005803,
          45.25631233564789,
          36.383193386146125,
          19.328754619054187,
          6.012272195507367,
          17.248650509885145,
          15.878432322163563,
          22.309535488100213,
          null,
          12.564328604023093,
          69.73695873852144,
          20.160267775075138,
          21.46838232207642,
          29.88621125534377,
          35.76212169342196,
          18.55080468432872,
          33.93961049762989,
          18.556829107703138,
          18.468958773196512,
          52.988540498034816,
          40.98647879117913,
          17.52289846090346,
          21.57575043508221,
          24.656203681218575,
          13.982650821783045,
          16.609161575517977,
          4.791118464862413,
          48.14413661268777,
          9.33369928896042,
          51.555798783971,
          16.6742173328713,
          9.924298054679706,
          19.57579355971844,
          8.91259247453945,
          21.6753593208962,
          32.6550358792742,
          38.62731278208543,
          16.919296695098524,
          32.02178449562062,
          19.686456839610145,
          15.677427034811924,
          25.024948413350277,
          9.271723338002618,
          27.98523062519381,
          25.09947258143797,
          18.174851737911855,
          10.316744349437236,
          7.913256585373367,
          29.6149025299238,
          35.178768974228014,
          28.74859640436449,
          16.723255072602573,
          20.108155726134655,
          12.453326587510078,
          31.157059887326135,
          18.08986476856856,
          14.39439471678172,
          75.3087738074768,
          26.222918099151222,
          10.757072474003357,
          14.336036452278806,
          18.47234574289361,
          22.882946407003956,
          22.03086669743225,
          63.46480154786334,
          6.1946186905153935,
          9.648520811615995,
          19.72647926421177,
          45.7536748403463,
          23.93792226931886,
          61.27881659307168,
          20.509600546480677,
          11.235228336602978,
          14.379585846798566,
          11.829528596747048,
          42.3715427135057,
          19.35789994883557,
          12.476017381127622,
          41.71661943690152,
          21.178478523783976,
          39.64268985544526,
          33.93861762136766,
          29.26131390449609,
          19.798653617221017,
          14.63108479233568,
          40.376395951864914,
          17.981057962861883,
          11.996425982101268,
          8.844688435023745,
          17.81926671822913,
          36.95857450379821,
          17.476919455748448,
          14.887522815710104,
          12.349247933823126,
          38.38888553232186,
          11.268722630602644,
          10.99370340474922,
          54.05694042856652,
          43.83124252575285,
          22.11707024462306,
          69.35402244135055,
          20.57258907384035,
          16.754354879052897,
          11.232743821136406,
          44.28784984177084,
          22.385494724489472,
          31.24818399782172,
          17.39727017476905,
          18.25691374073919,
          13.359272789669085,
          49.36489010335658,
          17.32860139357113,
          8.239345103628652,
          10.058013245098666,
          6.288579835284923,
          16.7074353058725,
          16.166923234087385,
          83.99943798612433,
          48.52921199589889,
          28.372074085783023,
          27.945465224173077,
          32.06355860598832,
          27.225884043683923,
          11.686750119390338,
          14.873788528167722,
          23.840220023193485,
          26.44386579435277,
          13.327671667351,
          10.244523730990997,
          13.539563157877623,
          14.539248631495507,
          31.495380818949027,
          37.92846141157718,
          6.731744685573142,
          10.295926430449809,
          27.43162759950019,
          15.664607920002275,
          29.66309653078316,
          27.41740834232219,
          34.176883976398045,
          8.148164934232806,
          19.338412834387277,
          6.980597638471996,
          26.822213100259216,
          24.3968265132398,
          11.654761247778785,
          7.489025987003468,
          35.627461944391015,
          10.236534137187537,
          6.820283281531092,
          11.150210120407396,
          13.6516067746367,
          23.38059421546649,
          16.420131286033683,
          68.235651694702,
          8.735717933767262,
          15.976970317418663,
          12.963195660999254,
          25.21328780326,
          13.776837071775624,
          81.70257442447401,
          19.25145854180144,
          11.205092431386564,
          19.72187850325078,
          13.759246931761831,
          7.1456968098086096,
          13.12081651609182,
          20.730777143934493,
          60.31571244142406,
          64.35485407633479,
          27.139277464282408,
          37.9526761734723,
          13.187734181873504,
          16.29778570466798,
          35.398593221085555,
          8.883960838346404,
          30.26549563319141,
          23.85138122821733,
          14.077248285339456,
          42.4588426005182,
          10.27845528584692,
          21.198081585997127,
          13.31941809513875,
          74.0263686198022,
          7.322549523339835,
          72.1455771354696,
          11.394668418438876,
          27.475104779486543,
          25.28139056346465,
          20.785850855339014,
          33.30194725289517,
          16.72782005667179,
          13.49820276300591,
          22.65114906171359,
          13.59241607189024,
          15.703749346455574,
          16.460421742199383,
          20.48835300331687,
          41.47337406772599,
          49.38604775635625,
          16.616225445395973,
          6.458167621366405,
          25.498551896325893,
          11.617630954550023,
          46.36984159365705,
          35.76070144156784,
          15.185140136591844,
          13.632115670530322,
          20.7425687720181,
          23.748822151880987,
          19.222743029688264,
          34.46245688624205,
          55.95701090058698,
          12.949427393781274,
          18.05019668856033,
          15.29854708797412,
          61.83704468424641,
          12.04064036574344,
          35.192443661171446,
          55.45461819172359,
          15.742027572354134,
          10.760600230987302,
          22.32157030601001,
          48.82147724283374,
          37.27727835145852,
          17.941905003638315,
          14.551801968355957,
          23.10995199632383,
          10.183507031413846,
          14.747301245539074,
          11.332578231046744,
          22.952120441348534,
          12.541570905414796,
          7.884519659955675,
          22.26317591414131,
          5.764168757545037,
          12.350309042146549,
          15.4776250546068,
          17.383423375972782,
          39.20620386670443,
          17.080502527706336,
          20.107826525246228,
          49.5124626216246,
          38.23643114748633,
          32.363021540251935,
          19.30885179692013,
          11.16759621990087,
          69.94507938721715,
          14.670878659876134,
          17.257456274670133,
          18.473313385370915,
          43.87286898194678,
          20.77834094756653,
          15.03384116895625,
          19.62789293535382,
          19.337586361010786,
          16.08447278185271,
          13.86602694049373,
          20.473785897431817,
          21.208219046570797,
          31.17712369442276,
          9.928360620166634,
          17.6200179965129,
          35.10965030497846,
          9.03567972373747,
          12.689527453665386,
          40.56290497695869,
          11.177423208007454,
          28.8044074186908,
          13.366769149956143,
          10.190457321009813,
          45.177963190741714,
          12.450439788988382,
          27.560377819288,
          51.597601824433845,
          13.776498537886871,
          21.537105886180903,
          13.373003563064168,
          25.32983843300617,
          29.87713142725877,
          9.773959273237857,
          16.43974889908743,
          41.16915835848866,
          5.526636494551897,
          31.90304871614228,
          99.3343737409622,
          18.152630559201857,
          23.976712453682875,
          7.342532716024126,
          9.005360308435188,
          14.96651819332878,
          15.023755986101062,
          73.7297289573019,
          30.02522721881149,
          23.79740304364181,
          7.192132065432773,
          19.780267143747103,
          16.585244315074018,
          7.374896571336978,
          12.684202073678112,
          29.05112372058016,
          10.608056261504874,
          45.96675712718108,
          12.264130732370091,
          24.22713189488328,
          13.3681911719412,
          17.139183037078176,
          30.872039168058546,
          48.55789194222356,
          15.927846798634608,
          59.95706477022748,
          13.4634562751088,
          25.982439276934585,
          35.22471663350509,
          15.706145944806762,
          21.73294071998361,
          14.724625031788989,
          12.305300066296798,
          41.3592856443561,
          62.21862078163204,
          20.46863197890865,
          35.2836121472279,
          21.149791039600487,
          33.15183549833424,
          64.48057560146451,
          22.55969043604708,
          27.46972016094891,
          8.095247604280623,
          13.693221651818089,
          44.9195973263218,
          51.13514015198153,
          17.801252962921726,
          17.060179220549912,
          84.91555969363536,
          45.88260198533941,
          20.683641549142383,
          10.587517254668924,
          32.142986507909406,
          34.38933677411959,
          44.467374614164655,
          24.44701312230932,
          16.01565426614283,
          17.03717720788484,
          27.477390946715065,
          10.661336644811517,
          34.119827219173985,
          24.188417766053348,
          19.12400789023772,
          69.44114851468836,
          17.542845171349516,
          15.540825523082413,
          14.31869374140351,
          9.389070814374548,
          14.838599911029158,
          7.87629945600683,
          26.00815729865047,
          13.08275697139858,
          18.77973360972366,
          23.60496158452825,
          23.70797671356737,
          81.24469593630994,
          6.9442916653161095,
          10.252877331665374,
          14.48735047611767,
          15.665650476785885,
          11.86037721885923,
          15.0538760977072,
          34.773170247399506,
          63.85730152325829,
          13.841999475246958,
          14.433078469933088,
          36.30417963765431,
          11.11502876082795,
          13.52616682594207,
          13.626713053344613,
          52.071886409157685,
          5.509871787513368,
          25.808312611009832,
          25.867678712019615,
          16.29880578709837,
          9.374265703760202,
          27.281826504096813,
          36.053242668493695,
          14.346854213626443,
          34.17621135359407,
          27.46756462123044,
          9.44528797839347,
          30.97620047191352,
          18.427406334909456,
          20.0672371301449,
          39.66149564667218,
          20.870282902197577,
          42.06733836642419,
          24.728286705703884,
          16.698614230621754,
          17.283465258100936,
          93.44416637198782,
          54.9998188121417,
          22.48577485433096,
          15.828928057170357,
          17.821368595748545,
          14.631729587436965,
          15.144960637488348,
          22.86150984896225,
          40.458265183513504,
          20.051290012422182,
          36.838564263162446,
          14.314303681736886,
          32.59872051484051,
          8.191557943616925,
          28.876978386128417,
          54.11080257932765,
          17.640711768511586,
          16.17909797336558,
          7.339872670392744,
          25.89232049924776,
          16.556912119010114,
          15.380183370177017,
          5.90046830154859,
          24.25746608548803,
          37.84852735326164,
          22.43903430516824,
          17.748886226825665,
          20.518680536710303,
          37.7109940952154,
          24.07876698803824,
          32.858014147867934,
          23.46095176202425,
          5.300905181384858,
          14.866264435002062,
          39.009282098326864,
          32.42862802129888,
          25.760337915532165,
          6.596103295753359,
          20.720308052620137,
          8.973752115526038,
          15.839320975776303,
          23.439690306170988,
          14.162883060198904,
          20.71013043417741,
          24.711082951327047,
          13.12535902035567,
          19.2755548530083,
          13.538107945184786,
          44.31099072467003,
          20.161437027956936,
          22.087529891091965,
          32.46569081774137,
          10.18319268049,
          29.32456106195911,
          5.736945277145597,
          19.51476357991381,
          18.0415778923361,
          19.765348869553836,
          50.82915507002192,
          23.915721411716262,
          46.91565290981179,
          13.859707937854369,
          9.375040672346318,
          19.90714698144514,
          34.35459603672392,
          11.937374327407175,
          11.517997172803836,
          9.138386604174077,
          11.931054886783247,
          38.4051796711303,
          17.401580174248384,
          6.956777348929208,
          51.914183356992254,
          30.252892058108326,
          39.42064550490576,
          9.84179313221889,
          20.831206923389896,
          56.43742276561113,
          49.41810445911707,
          19.127836310994887,
          13.519657531582816,
          19.818722347518868,
          33.20697294001747,
          26.285330640158342,
          17.742299898976498,
          18.718334019751865,
          13.786776304249114,
          21.04632564675434,
          11.901649507989262,
          15.287452178780454,
          23.83136026349578,
          25.92758529946998,
          8.493174723109009,
          27.33593790743411,
          13.332978474544552,
          27.090625882036758,
          15.676310856033473,
          16.52251993676855,
          61.601988789783725,
          8.647568744566176,
          76.45516334112267,
          15.595052665640036,
          15.076770738128344,
          15.536486349433526,
          30.388460519836663,
          8.153201420630907,
          12.423499830975937,
          30.93735970208627,
          11.125740066500311,
          13.939056727269987,
          14.858137844323103,
          17.218307524941295,
          21.787215546133087,
          27.902361764690514,
          12.653218050340506,
          30.934501090147258,
          19.138199821314284,
          14.17413106148074,
          13.09492757787634,
          52.88002964270878,
          43.21627377933986,
          22.01187860767383,
          30.761134530929475,
          7.8005919533781185,
          11.247204339440303,
          23.64181388428244,
          29.70010765379057,
          30.49504393697136,
          24.20165204747191,
          10.691036694641053,
          63.874391850995536,
          16.81631621516224,
          10.309827237087916,
          36.85866814512959,
          12.46433526289162,
          10.992488862481409,
          12.263103631923151,
          26.391457373080517,
          46.31938977895698,
          10.779914004335216,
          18.717932834229934,
          47.20232950887733,
          35.38528452668723,
          25.07697399208675,
          12.771482641895332,
          18.33446848720141,
          44.71013916599042,
          57.699099350970585,
          12.876221369371232,
          9.677871563513062,
          25.87908249434379,
          13.29805155424562,
          22.94930053666039,
          61.9467833147346,
          16.58116330942946,
          19.01166304162132,
          8.448329900555578,
          5.850588997175755,
          15.461375145417708,
          12.349397838341217,
          10.40393364292952,
          null
         ],
         "y0": " ",
         "yaxis": "y"
        }
       ],
       "layout": {
        "boxmode": "group",
        "legend": {
         "tracegroupgap": 0
        },
        "margin": {
         "t": 60
        },
        "template": {
         "data": {
          "bar": [
           {
            "error_x": {
             "color": "#2a3f5f"
            },
            "error_y": {
             "color": "#2a3f5f"
            },
            "marker": {
             "line": {
              "color": "#E5ECF6",
              "width": 0.5
             },
             "pattern": {
              "fillmode": "overlay",
              "size": 10,
              "solidity": 0.2
             }
            },
            "type": "bar"
           }
          ],
          "barpolar": [
           {
            "marker": {
             "line": {
              "color": "#E5ECF6",
              "width": 0.5
             },
             "pattern": {
              "fillmode": "overlay",
              "size": 10,
              "solidity": 0.2
             }
            },
            "type": "barpolar"
           }
          ],
          "carpet": [
           {
            "aaxis": {
             "endlinecolor": "#2a3f5f",
             "gridcolor": "white",
             "linecolor": "white",
             "minorgridcolor": "white",
             "startlinecolor": "#2a3f5f"
            },
            "baxis": {
             "endlinecolor": "#2a3f5f",
             "gridcolor": "white",
             "linecolor": "white",
             "minorgridcolor": "white",
             "startlinecolor": "#2a3f5f"
            },
            "type": "carpet"
           }
          ],
          "choropleth": [
           {
            "colorbar": {
             "outlinewidth": 0,
             "ticks": ""
            },
            "type": "choropleth"
           }
          ],
          "contour": [
           {
            "colorbar": {
             "outlinewidth": 0,
             "ticks": ""
            },
            "colorscale": [
             [
              0,
              "#0d0887"
             ],
             [
              0.1111111111111111,
              "#46039f"
             ],
             [
              0.2222222222222222,
              "#7201a8"
             ],
             [
              0.3333333333333333,
              "#9c179e"
             ],
             [
              0.4444444444444444,
              "#bd3786"
             ],
             [
              0.5555555555555556,
              "#d8576b"
             ],
             [
              0.6666666666666666,
              "#ed7953"
             ],
             [
              0.7777777777777778,
              "#fb9f3a"
             ],
             [
              0.8888888888888888,
              "#fdca26"
             ],
             [
              1,
              "#f0f921"
             ]
            ],
            "type": "contour"
           }
          ],
          "contourcarpet": [
           {
            "colorbar": {
             "outlinewidth": 0,
             "ticks": ""
            },
            "type": "contourcarpet"
           }
          ],
          "heatmap": [
           {
            "colorbar": {
             "outlinewidth": 0,
             "ticks": ""
            },
            "colorscale": [
             [
              0,
              "#0d0887"
             ],
             [
              0.1111111111111111,
              "#46039f"
             ],
             [
              0.2222222222222222,
              "#7201a8"
             ],
             [
              0.3333333333333333,
              "#9c179e"
             ],
             [
              0.4444444444444444,
              "#bd3786"
             ],
             [
              0.5555555555555556,
              "#d8576b"
             ],
             [
              0.6666666666666666,
              "#ed7953"
             ],
             [
              0.7777777777777778,
              "#fb9f3a"
             ],
             [
              0.8888888888888888,
              "#fdca26"
             ],
             [
              1,
              "#f0f921"
             ]
            ],
            "type": "heatmap"
           }
          ],
          "heatmapgl": [
           {
            "colorbar": {
             "outlinewidth": 0,
             "ticks": ""
            },
            "colorscale": [
             [
              0,
              "#0d0887"
             ],
             [
              0.1111111111111111,
              "#46039f"
             ],
             [
              0.2222222222222222,
              "#7201a8"
             ],
             [
              0.3333333333333333,
              "#9c179e"
             ],
             [
              0.4444444444444444,
              "#bd3786"
             ],
             [
              0.5555555555555556,
              "#d8576b"
             ],
             [
              0.6666666666666666,
              "#ed7953"
             ],
             [
              0.7777777777777778,
              "#fb9f3a"
             ],
             [
              0.8888888888888888,
              "#fdca26"
             ],
             [
              1,
              "#f0f921"
             ]
            ],
            "type": "heatmapgl"
           }
          ],
          "histogram": [
           {
            "marker": {
             "pattern": {
              "fillmode": "overlay",
              "size": 10,
              "solidity": 0.2
             }
            },
            "type": "histogram"
           }
          ],
          "histogram2d": [
           {
            "colorbar": {
             "outlinewidth": 0,
             "ticks": ""
            },
            "colorscale": [
             [
              0,
              "#0d0887"
             ],
             [
              0.1111111111111111,
              "#46039f"
             ],
             [
              0.2222222222222222,
              "#7201a8"
             ],
             [
              0.3333333333333333,
              "#9c179e"
             ],
             [
              0.4444444444444444,
              "#bd3786"
             ],
             [
              0.5555555555555556,
              "#d8576b"
             ],
             [
              0.6666666666666666,
              "#ed7953"
             ],
             [
              0.7777777777777778,
              "#fb9f3a"
             ],
             [
              0.8888888888888888,
              "#fdca26"
             ],
             [
              1,
              "#f0f921"
             ]
            ],
            "type": "histogram2d"
           }
          ],
          "histogram2dcontour": [
           {
            "colorbar": {
             "outlinewidth": 0,
             "ticks": ""
            },
            "colorscale": [
             [
              0,
              "#0d0887"
             ],
             [
              0.1111111111111111,
              "#46039f"
             ],
             [
              0.2222222222222222,
              "#7201a8"
             ],
             [
              0.3333333333333333,
              "#9c179e"
             ],
             [
              0.4444444444444444,
              "#bd3786"
             ],
             [
              0.5555555555555556,
              "#d8576b"
             ],
             [
              0.6666666666666666,
              "#ed7953"
             ],
             [
              0.7777777777777778,
              "#fb9f3a"
             ],
             [
              0.8888888888888888,
              "#fdca26"
             ],
             [
              1,
              "#f0f921"
             ]
            ],
            "type": "histogram2dcontour"
           }
          ],
          "mesh3d": [
           {
            "colorbar": {
             "outlinewidth": 0,
             "ticks": ""
            },
            "type": "mesh3d"
           }
          ],
          "parcoords": [
           {
            "line": {
             "colorbar": {
              "outlinewidth": 0,
              "ticks": ""
             }
            },
            "type": "parcoords"
           }
          ],
          "pie": [
           {
            "automargin": true,
            "type": "pie"
           }
          ],
          "scatter": [
           {
            "fillpattern": {
             "fillmode": "overlay",
             "size": 10,
             "solidity": 0.2
            },
            "type": "scatter"
           }
          ],
          "scatter3d": [
           {
            "line": {
             "colorbar": {
              "outlinewidth": 0,
              "ticks": ""
             }
            },
            "marker": {
             "colorbar": {
              "outlinewidth": 0,
              "ticks": ""
             }
            },
            "type": "scatter3d"
           }
          ],
          "scattercarpet": [
           {
            "marker": {
             "colorbar": {
              "outlinewidth": 0,
              "ticks": ""
             }
            },
            "type": "scattercarpet"
           }
          ],
          "scattergeo": [
           {
            "marker": {
             "colorbar": {
              "outlinewidth": 0,
              "ticks": ""
             }
            },
            "type": "scattergeo"
           }
          ],
          "scattergl": [
           {
            "marker": {
             "colorbar": {
              "outlinewidth": 0,
              "ticks": ""
             }
            },
            "type": "scattergl"
           }
          ],
          "scattermapbox": [
           {
            "marker": {
             "colorbar": {
              "outlinewidth": 0,
              "ticks": ""
             }
            },
            "type": "scattermapbox"
           }
          ],
          "scatterpolar": [
           {
            "marker": {
             "colorbar": {
              "outlinewidth": 0,
              "ticks": ""
             }
            },
            "type": "scatterpolar"
           }
          ],
          "scatterpolargl": [
           {
            "marker": {
             "colorbar": {
              "outlinewidth": 0,
              "ticks": ""
             }
            },
            "type": "scatterpolargl"
           }
          ],
          "scatterternary": [
           {
            "marker": {
             "colorbar": {
              "outlinewidth": 0,
              "ticks": ""
             }
            },
            "type": "scatterternary"
           }
          ],
          "surface": [
           {
            "colorbar": {
             "outlinewidth": 0,
             "ticks": ""
            },
            "colorscale": [
             [
              0,
              "#0d0887"
             ],
             [
              0.1111111111111111,
              "#46039f"
             ],
             [
              0.2222222222222222,
              "#7201a8"
             ],
             [
              0.3333333333333333,
              "#9c179e"
             ],
             [
              0.4444444444444444,
              "#bd3786"
             ],
             [
              0.5555555555555556,
              "#d8576b"
             ],
             [
              0.6666666666666666,
              "#ed7953"
             ],
             [
              0.7777777777777778,
              "#fb9f3a"
             ],
             [
              0.8888888888888888,
              "#fdca26"
             ],
             [
              1,
              "#f0f921"
             ]
            ],
            "type": "surface"
           }
          ],
          "table": [
           {
            "cells": {
             "fill": {
              "color": "#EBF0F8"
             },
             "line": {
              "color": "white"
             }
            },
            "header": {
             "fill": {
              "color": "#C8D4E3"
             },
             "line": {
              "color": "white"
             }
            },
            "type": "table"
           }
          ]
         },
         "layout": {
          "annotationdefaults": {
           "arrowcolor": "#2a3f5f",
           "arrowhead": 0,
           "arrowwidth": 1
          },
          "autotypenumbers": "strict",
          "coloraxis": {
           "colorbar": {
            "outlinewidth": 0,
            "ticks": ""
           }
          },
          "colorscale": {
           "diverging": [
            [
             0,
             "#8e0152"
            ],
            [
             0.1,
             "#c51b7d"
            ],
            [
             0.2,
             "#de77ae"
            ],
            [
             0.3,
             "#f1b6da"
            ],
            [
             0.4,
             "#fde0ef"
            ],
            [
             0.5,
             "#f7f7f7"
            ],
            [
             0.6,
             "#e6f5d0"
            ],
            [
             0.7,
             "#b8e186"
            ],
            [
             0.8,
             "#7fbc41"
            ],
            [
             0.9,
             "#4d9221"
            ],
            [
             1,
             "#276419"
            ]
           ],
           "sequential": [
            [
             0,
             "#0d0887"
            ],
            [
             0.1111111111111111,
             "#46039f"
            ],
            [
             0.2222222222222222,
             "#7201a8"
            ],
            [
             0.3333333333333333,
             "#9c179e"
            ],
            [
             0.4444444444444444,
             "#bd3786"
            ],
            [
             0.5555555555555556,
             "#d8576b"
            ],
            [
             0.6666666666666666,
             "#ed7953"
            ],
            [
             0.7777777777777778,
             "#fb9f3a"
            ],
            [
             0.8888888888888888,
             "#fdca26"
            ],
            [
             1,
             "#f0f921"
            ]
           ],
           "sequentialminus": [
            [
             0,
             "#0d0887"
            ],
            [
             0.1111111111111111,
             "#46039f"
            ],
            [
             0.2222222222222222,
             "#7201a8"
            ],
            [
             0.3333333333333333,
             "#9c179e"
            ],
            [
             0.4444444444444444,
             "#bd3786"
            ],
            [
             0.5555555555555556,
             "#d8576b"
            ],
            [
             0.6666666666666666,
             "#ed7953"
            ],
            [
             0.7777777777777778,
             "#fb9f3a"
            ],
            [
             0.8888888888888888,
             "#fdca26"
            ],
            [
             1,
             "#f0f921"
            ]
           ]
          },
          "colorway": [
           "#636efa",
           "#EF553B",
           "#00cc96",
           "#ab63fa",
           "#FFA15A",
           "#19d3f3",
           "#FF6692",
           "#B6E880",
           "#FF97FF",
           "#FECB52"
          ],
          "font": {
           "color": "#2a3f5f"
          },
          "geo": {
           "bgcolor": "white",
           "lakecolor": "white",
           "landcolor": "#E5ECF6",
           "showlakes": true,
           "showland": true,
           "subunitcolor": "white"
          },
          "hoverlabel": {
           "align": "left"
          },
          "hovermode": "closest",
          "mapbox": {
           "style": "light"
          },
          "paper_bgcolor": "white",
          "plot_bgcolor": "#E5ECF6",
          "polar": {
           "angularaxis": {
            "gridcolor": "white",
            "linecolor": "white",
            "ticks": ""
           },
           "bgcolor": "#E5ECF6",
           "radialaxis": {
            "gridcolor": "white",
            "linecolor": "white",
            "ticks": ""
           }
          },
          "scene": {
           "xaxis": {
            "backgroundcolor": "#E5ECF6",
            "gridcolor": "white",
            "gridwidth": 2,
            "linecolor": "white",
            "showbackground": true,
            "ticks": "",
            "zerolinecolor": "white"
           },
           "yaxis": {
            "backgroundcolor": "#E5ECF6",
            "gridcolor": "white",
            "gridwidth": 2,
            "linecolor": "white",
            "showbackground": true,
            "ticks": "",
            "zerolinecolor": "white"
           },
           "zaxis": {
            "backgroundcolor": "#E5ECF6",
            "gridcolor": "white",
            "gridwidth": 2,
            "linecolor": "white",
            "showbackground": true,
            "ticks": "",
            "zerolinecolor": "white"
           }
          },
          "shapedefaults": {
           "line": {
            "color": "#2a3f5f"
           }
          },
          "ternary": {
           "aaxis": {
            "gridcolor": "white",
            "linecolor": "white",
            "ticks": ""
           },
           "baxis": {
            "gridcolor": "white",
            "linecolor": "white",
            "ticks": ""
           },
           "bgcolor": "#E5ECF6",
           "caxis": {
            "gridcolor": "white",
            "linecolor": "white",
            "ticks": ""
           }
          },
          "title": {
           "x": 0.05
          },
          "xaxis": {
           "automargin": true,
           "gridcolor": "white",
           "linecolor": "white",
           "ticks": "",
           "title": {
            "standoff": 15
           },
           "zerolinecolor": "white",
           "zerolinewidth": 2
          },
          "yaxis": {
           "automargin": true,
           "gridcolor": "white",
           "linecolor": "white",
           "ticks": "",
           "title": {
            "standoff": 15
           },
           "zerolinecolor": "white",
           "zerolinewidth": 2
          }
         }
        },
        "title": {
         "text": "Control direction correction from optimal input"
        },
        "xaxis": {
         "anchor": "y",
         "domain": [
          0,
          1
         ],
         "title": {
          "text": "controllers"
         }
        },
        "yaxis": {
         "anchor": "x",
         "domain": [
          0,
          1
         ],
         "title": {
          "text": "degrees"
         }
        }
       }
      },
      "text/html": [
       "<div>                            <div id=\"998d0e7c-6eeb-4464-9392-de51b9522896\" class=\"plotly-graph-div\" style=\"height:525px; width:100%;\"></div>            <script type=\"text/javascript\">                require([\"plotly\"], function(Plotly) {                    window.PLOTLYENV=window.PLOTLYENV || {};                                    if (document.getElementById(\"998d0e7c-6eeb-4464-9392-de51b9522896\")) {                    Plotly.newPlot(                        \"998d0e7c-6eeb-4464-9392-de51b9522896\",                        [{\"alignmentgroup\":\"True\",\"hovertemplate\":\"variable=%{x}<br>value=%{y}<extra></extra>\",\"legendgroup\":\"\",\"marker\":{\"color\":\"#636efa\"},\"name\":\"\",\"notched\":false,\"offsetgroup\":\"\",\"orientation\":\"v\",\"showlegend\":false,\"x\":[\"hj_naive\",\"hj_naive\",\"hj_naive\",\"hj_naive\",\"hj_naive\",\"hj_naive\",\"hj_naive\",\"hj_naive\",\"hj_naive\",\"hj_naive\",\"hj_naive\",\"hj_naive\",\"hj_naive\",\"hj_naive\",\"hj_naive\",\"hj_naive\",\"hj_naive\",\"hj_naive\",\"hj_naive\",\"hj_naive\",\"hj_naive\",\"hj_naive\",\"hj_naive\",\"hj_naive\",\"hj_naive\",\"hj_naive\",\"hj_naive\",\"hj_naive\",\"hj_naive\",\"hj_naive\",\"hj_naive\",\"hj_naive\",\"hj_naive\",\"hj_naive\",\"hj_naive\",\"hj_naive\",\"hj_naive\",\"hj_naive\",\"hj_naive\",\"hj_naive\",\"hj_naive\",\"hj_naive\",\"hj_naive\",\"hj_naive\",\"hj_naive\",\"hj_naive\",\"hj_naive\",\"hj_naive\",\"hj_naive\",\"hj_naive\",\"hj_naive\",\"hj_naive\",\"hj_naive\",\"hj_naive\",\"hj_naive\",\"hj_naive\",\"hj_naive\",\"hj_naive\",\"hj_naive\",\"hj_naive\",\"hj_naive\",\"hj_naive\",\"hj_naive\",\"hj_naive\",\"hj_naive\",\"hj_naive\",\"hj_naive\",\"hj_naive\",\"hj_naive\",\"hj_naive\",\"hj_naive\",\"hj_naive\",\"hj_naive\",\"hj_naive\",\"hj_naive\",\"hj_naive\",\"hj_naive\",\"hj_naive\",\"hj_naive\",\"hj_naive\",\"hj_naive\",\"hj_naive\",\"hj_naive\",\"hj_naive\",\"hj_naive\",\"hj_naive\",\"hj_naive\",\"hj_naive\",\"hj_naive\",\"hj_naive\",\"hj_naive\",\"hj_naive\",\"hj_naive\",\"hj_naive\",\"hj_naive\",\"hj_naive\",\"hj_naive\",\"hj_naive\",\"hj_naive\",\"hj_naive\",\"hj_naive\",\"hj_naive\",\"hj_naive\",\"hj_naive\",\"hj_naive\",\"hj_naive\",\"hj_naive\",\"hj_naive\",\"hj_naive\",\"hj_naive\",\"hj_naive\",\"hj_naive\",\"hj_naive\",\"hj_naive\",\"hj_naive\",\"hj_naive\",\"hj_naive\",\"hj_naive\",\"hj_naive\",\"hj_naive\",\"hj_naive\",\"hj_naive\",\"hj_naive\",\"hj_naive\",\"hj_naive\",\"hj_naive\",\"hj_naive\",\"hj_naive\",\"hj_naive\",\"hj_naive\",\"hj_naive\",\"hj_naive\",\"hj_naive\",\"hj_naive\",\"hj_naive\",\"hj_naive\",\"hj_naive\",\"hj_naive\",\"hj_naive\",\"hj_naive\",\"hj_naive\",\"hj_naive\",\"hj_naive\",\"hj_naive\",\"hj_naive\",\"hj_naive\",\"hj_naive\",\"hj_naive\",\"hj_naive\",\"hj_naive\",\"hj_naive\",\"hj_naive\",\"hj_naive\",\"hj_naive\",\"hj_naive\",\"hj_naive\",\"hj_naive\",\"hj_naive\",\"hj_naive\",\"hj_naive\",\"hj_naive\",\"hj_naive\",\"hj_naive\",\"hj_naive\",\"hj_naive\",\"hj_naive\",\"hj_naive\",\"hj_naive\",\"hj_naive\",\"hj_naive\",\"hj_naive\",\"hj_naive\",\"hj_naive\",\"hj_naive\",\"hj_naive\",\"hj_naive\",\"hj_naive\",\"hj_naive\",\"hj_naive\",\"hj_naive\",\"hj_naive\",\"hj_naive\",\"hj_naive\",\"hj_naive\",\"hj_naive\",\"hj_naive\",\"hj_naive\",\"hj_naive\",\"hj_naive\",\"hj_naive\",\"hj_naive\",\"hj_naive\",\"hj_naive\",\"hj_naive\",\"hj_naive\",\"hj_naive\",\"hj_naive\",\"hj_naive\",\"hj_naive\",\"hj_naive\",\"hj_naive\",\"hj_naive\",\"hj_naive\",\"hj_naive\",\"hj_naive\",\"hj_naive\",\"hj_naive\",\"hj_naive\",\"hj_naive\",\"hj_naive\",\"hj_naive\",\"hj_naive\",\"hj_naive\",\"hj_naive\",\"hj_naive\",\"hj_naive\",\"hj_naive\",\"hj_naive\",\"hj_naive\",\"hj_naive\",\"hj_naive\",\"hj_naive\",\"hj_naive\",\"hj_naive\",\"hj_naive\",\"hj_naive\",\"hj_naive\",\"hj_naive\",\"hj_naive\",\"hj_naive\",\"hj_naive\",\"hj_naive\",\"hj_naive\",\"hj_naive\",\"hj_naive\",\"hj_naive\",\"hj_naive\",\"hj_naive\",\"hj_naive\",\"hj_naive\",\"hj_naive\",\"hj_naive\",\"hj_naive\",\"hj_naive\",\"hj_naive\",\"hj_naive\",\"hj_naive\",\"hj_naive\",\"hj_naive\",\"hj_naive\",\"hj_naive\",\"hj_naive\",\"hj_naive\",\"hj_naive\",\"hj_naive\",\"hj_naive\",\"hj_naive\",\"hj_naive\",\"hj_naive\",\"hj_naive\",\"hj_naive\",\"hj_naive\",\"hj_naive\",\"hj_naive\",\"hj_naive\",\"hj_naive\",\"hj_naive\",\"hj_naive\",\"hj_naive\",\"hj_naive\",\"hj_naive\",\"hj_naive\",\"hj_naive\",\"hj_naive\",\"hj_naive\",\"hj_naive\",\"hj_naive\",\"hj_naive\",\"hj_naive\",\"hj_naive\",\"hj_naive\",\"hj_naive\",\"hj_naive\",\"hj_naive\",\"hj_naive\",\"hj_naive\",\"hj_naive\",\"hj_naive\",\"hj_naive\",\"hj_naive\",\"hj_naive\",\"hj_naive\",\"hj_naive\",\"hj_naive\",\"hj_naive\",\"hj_naive\",\"hj_naive\",\"hj_naive\",\"hj_naive\",\"hj_naive\",\"hj_naive\",\"hj_naive\",\"hj_naive\",\"hj_naive\",\"hj_naive\",\"hj_naive\",\"hj_naive\",\"hj_naive\",\"hj_naive\",\"hj_naive\",\"hj_naive\",\"hj_naive\",\"hj_naive\",\"hj_naive\",\"hj_naive\",\"hj_naive\",\"hj_naive\",\"hj_naive\",\"hj_naive\",\"hj_naive\",\"hj_naive\",\"hj_naive\",\"hj_naive\",\"hj_naive\",\"hj_naive\",\"hj_naive\",\"hj_naive\",\"hj_naive\",\"hj_naive\",\"hj_naive\",\"hj_naive\",\"hj_naive\",\"hj_naive\",\"hj_naive\",\"hj_naive\",\"hj_naive\",\"hj_naive\",\"hj_naive\",\"hj_naive\",\"hj_naive\",\"hj_naive\",\"hj_naive\",\"hj_naive\",\"hj_naive\",\"hj_naive\",\"hj_naive\",\"hj_naive\",\"hj_naive\",\"hj_naive\",\"hj_naive\",\"hj_naive\",\"hj_naive\",\"hj_naive\",\"hj_naive\",\"hj_naive\",\"hj_naive\",\"hj_naive\",\"hj_naive\",\"hj_naive\",\"hj_naive\",\"hj_naive\",\"hj_naive\",\"hj_naive\",\"hj_naive\",\"hj_naive\",\"hj_naive\",\"hj_naive\",\"hj_naive\",\"hj_naive\",\"hj_naive\",\"hj_naive\",\"hj_naive\",\"hj_naive\",\"hj_naive\",\"hj_naive\",\"hj_naive\",\"hj_naive\",\"hj_naive\",\"hj_naive\",\"hj_naive\",\"hj_naive\",\"hj_naive\",\"hj_naive\",\"hj_naive\",\"hj_naive\",\"hj_naive\",\"hj_naive\",\"hj_naive\",\"hj_naive\",\"hj_naive\",\"hj_naive\",\"hj_naive\",\"hj_naive\",\"hj_naive\",\"hj_naive\",\"hj_naive\",\"hj_naive\",\"hj_naive\",\"hj_naive\",\"hj_naive\",\"hj_naive\",\"hj_naive\",\"hj_naive\",\"hj_naive\",\"hj_naive\",\"hj_naive\",\"hj_naive\",\"hj_naive\",\"hj_naive\",\"hj_naive\",\"hj_naive\",\"hj_naive\",\"hj_naive\",\"hj_naive\",\"hj_naive\",\"hj_naive\",\"hj_naive\",\"hj_naive\",\"hj_naive\",\"hj_naive\",\"hj_naive\",\"hj_naive\",\"hj_naive\",\"hj_naive\",\"hj_naive\",\"hj_naive\",\"hj_naive\",\"hj_naive\",\"hj_naive\",\"hj_naive\",\"hj_naive\",\"hj_naive\",\"hj_naive\",\"hj_naive\",\"hj_naive\",\"hj_naive\",\"hj_naive\",\"hj_naive\",\"hj_naive\",\"hj_naive\",\"hj_naive\",\"hj_naive\",\"hj_naive\",\"hj_naive\",\"hj_naive\",\"hj_naive\",\"hj_naive\",\"hj_naive\",\"hj_naive\",\"hj_naive\",\"hj_naive\",\"hj_naive\",\"hj_naive\",\"hj_naive\",\"hj_naive\",\"hj_naive\",\"hj_naive\",\"hj_naive\",\"hj_naive\",\"hj_naive\",\"hj_naive\",\"hj_naive\",\"hj_naive\",\"hj_naive\",\"hj_naive\",\"hj_naive\",\"hj_naive\",\"hj_naive\",\"hj_naive\",\"hj_naive\",\"hj_naive\",\"hj_naive\",\"hj_naive\",\"hj_naive\",\"hj_naive\",\"hj_naive\",\"hj_naive\",\"hj_naive\",\"hj_naive\",\"hj_naive\",\"hj_naive\",\"hj_naive\",\"hj_naive\",\"hj_naive\",\"hj_naive\",\"hj_naive\",\"hj_naive\",\"hj_naive\",\"hj_naive\",\"hj_naive\",\"hj_naive\",\"hj_naive\",\"hj_naive\",\"hj_naive\",\"hj_naive\",\"hj_naive\",\"hj_naive\",\"hj_naive\",\"hj_naive\",\"hj_naive\",\"hj_naive\",\"hj_naive\",\"hj_naive\",\"hj_naive\",\"hj_naive\",\"hj_naive\",\"hj_naive\",\"hj_naive\",\"hj_naive\",\"hj_naive\",\"hj_naive\",\"hj_naive\",\"hj_naive\",\"hj_naive\",\"hj_naive\",\"hj_naive\",\"hj_naive\",\"hj_naive\",\"hj_naive\",\"hj_naive\",\"hj_naive\",\"hj_naive\",\"hj_naive\",\"hj_naive\",\"hj_naive\",\"hj_naive\",\"hj_naive\",\"hj_naive\",\"hj_naive\",\"hj_naive\",\"hj_naive\",\"hj_naive\",\"hj_naive\",\"hj_naive\",\"hj_naive\",\"hj_naive\",\"hj_naive\",\"hj_naive\",\"hj_naive\",\"hj_naive\",\"hj_naive\",\"hj_naive\",\"hj_naive\",\"hj_naive\",\"hj_naive\",\"hj_naive\",\"hj_naive\",\"hj_naive\",\"hj_naive\",\"hj_reactive\",\"hj_reactive\",\"hj_reactive\",\"hj_reactive\",\"hj_reactive\",\"hj_reactive\",\"hj_reactive\",\"hj_reactive\",\"hj_reactive\",\"hj_reactive\",\"hj_reactive\",\"hj_reactive\",\"hj_reactive\",\"hj_reactive\",\"hj_reactive\",\"hj_reactive\",\"hj_reactive\",\"hj_reactive\",\"hj_reactive\",\"hj_reactive\",\"hj_reactive\",\"hj_reactive\",\"hj_reactive\",\"hj_reactive\",\"hj_reactive\",\"hj_reactive\",\"hj_reactive\",\"hj_reactive\",\"hj_reactive\",\"hj_reactive\",\"hj_reactive\",\"hj_reactive\",\"hj_reactive\",\"hj_reactive\",\"hj_reactive\",\"hj_reactive\",\"hj_reactive\",\"hj_reactive\",\"hj_reactive\",\"hj_reactive\",\"hj_reactive\",\"hj_reactive\",\"hj_reactive\",\"hj_reactive\",\"hj_reactive\",\"hj_reactive\",\"hj_reactive\",\"hj_reactive\",\"hj_reactive\",\"hj_reactive\",\"hj_reactive\",\"hj_reactive\",\"hj_reactive\",\"hj_reactive\",\"hj_reactive\",\"hj_reactive\",\"hj_reactive\",\"hj_reactive\",\"hj_reactive\",\"hj_reactive\",\"hj_reactive\",\"hj_reactive\",\"hj_reactive\",\"hj_reactive\",\"hj_reactive\",\"hj_reactive\",\"hj_reactive\",\"hj_reactive\",\"hj_reactive\",\"hj_reactive\",\"hj_reactive\",\"hj_reactive\",\"hj_reactive\",\"hj_reactive\",\"hj_reactive\",\"hj_reactive\",\"hj_reactive\",\"hj_reactive\",\"hj_reactive\",\"hj_reactive\",\"hj_reactive\",\"hj_reactive\",\"hj_reactive\",\"hj_reactive\",\"hj_reactive\",\"hj_reactive\",\"hj_reactive\",\"hj_reactive\",\"hj_reactive\",\"hj_reactive\",\"hj_reactive\",\"hj_reactive\",\"hj_reactive\",\"hj_reactive\",\"hj_reactive\",\"hj_reactive\",\"hj_reactive\",\"hj_reactive\",\"hj_reactive\",\"hj_reactive\",\"hj_reactive\",\"hj_reactive\",\"hj_reactive\",\"hj_reactive\",\"hj_reactive\",\"hj_reactive\",\"hj_reactive\",\"hj_reactive\",\"hj_reactive\",\"hj_reactive\",\"hj_reactive\",\"hj_reactive\",\"hj_reactive\",\"hj_reactive\",\"hj_reactive\",\"hj_reactive\",\"hj_reactive\",\"hj_reactive\",\"hj_reactive\",\"hj_reactive\",\"hj_reactive\",\"hj_reactive\",\"hj_reactive\",\"hj_reactive\",\"hj_reactive\",\"hj_reactive\",\"hj_reactive\",\"hj_reactive\",\"hj_reactive\",\"hj_reactive\",\"hj_reactive\",\"hj_reactive\",\"hj_reactive\",\"hj_reactive\",\"hj_reactive\",\"hj_reactive\",\"hj_reactive\",\"hj_reactive\",\"hj_reactive\",\"hj_reactive\",\"hj_reactive\",\"hj_reactive\",\"hj_reactive\",\"hj_reactive\",\"hj_reactive\",\"hj_reactive\",\"hj_reactive\",\"hj_reactive\",\"hj_reactive\",\"hj_reactive\",\"hj_reactive\",\"hj_reactive\",\"hj_reactive\",\"hj_reactive\",\"hj_reactive\",\"hj_reactive\",\"hj_reactive\",\"hj_reactive\",\"hj_reactive\",\"hj_reactive\",\"hj_reactive\",\"hj_reactive\",\"hj_reactive\",\"hj_reactive\",\"hj_reactive\",\"hj_reactive\",\"hj_reactive\",\"hj_reactive\",\"hj_reactive\",\"hj_reactive\",\"hj_reactive\",\"hj_reactive\",\"hj_reactive\",\"hj_reactive\",\"hj_reactive\",\"hj_reactive\",\"hj_reactive\",\"hj_reactive\",\"hj_reactive\",\"hj_reactive\",\"hj_reactive\",\"hj_reactive\",\"hj_reactive\",\"hj_reactive\",\"hj_reactive\",\"hj_reactive\",\"hj_reactive\",\"hj_reactive\",\"hj_reactive\",\"hj_reactive\",\"hj_reactive\",\"hj_reactive\",\"hj_reactive\",\"hj_reactive\",\"hj_reactive\",\"hj_reactive\",\"hj_reactive\",\"hj_reactive\",\"hj_reactive\",\"hj_reactive\",\"hj_reactive\",\"hj_reactive\",\"hj_reactive\",\"hj_reactive\",\"hj_reactive\",\"hj_reactive\",\"hj_reactive\",\"hj_reactive\",\"hj_reactive\",\"hj_reactive\",\"hj_reactive\",\"hj_reactive\",\"hj_reactive\",\"hj_reactive\",\"hj_reactive\",\"hj_reactive\",\"hj_reactive\",\"hj_reactive\",\"hj_reactive\",\"hj_reactive\",\"hj_reactive\",\"hj_reactive\",\"hj_reactive\",\"hj_reactive\",\"hj_reactive\",\"hj_reactive\",\"hj_reactive\",\"hj_reactive\",\"hj_reactive\",\"hj_reactive\",\"hj_reactive\",\"hj_reactive\",\"hj_reactive\",\"hj_reactive\",\"hj_reactive\",\"hj_reactive\",\"hj_reactive\",\"hj_reactive\",\"hj_reactive\",\"hj_reactive\",\"hj_reactive\",\"hj_reactive\",\"hj_reactive\",\"hj_reactive\",\"hj_reactive\",\"hj_reactive\",\"hj_reactive\",\"hj_reactive\",\"hj_reactive\",\"hj_reactive\",\"hj_reactive\",\"hj_reactive\",\"hj_reactive\",\"hj_reactive\",\"hj_reactive\",\"hj_reactive\",\"hj_reactive\",\"hj_reactive\",\"hj_reactive\",\"hj_reactive\",\"hj_reactive\",\"hj_reactive\",\"hj_reactive\",\"hj_reactive\",\"hj_reactive\",\"hj_reactive\",\"hj_reactive\",\"hj_reactive\",\"hj_reactive\",\"hj_reactive\",\"hj_reactive\",\"hj_reactive\",\"hj_reactive\",\"hj_reactive\",\"hj_reactive\",\"hj_reactive\",\"hj_reactive\",\"hj_reactive\",\"hj_reactive\",\"hj_reactive\",\"hj_reactive\",\"hj_reactive\",\"hj_reactive\",\"hj_reactive\",\"hj_reactive\",\"hj_reactive\",\"hj_reactive\",\"hj_reactive\",\"hj_reactive\",\"hj_reactive\",\"hj_reactive\",\"hj_reactive\",\"hj_reactive\",\"hj_reactive\",\"hj_reactive\",\"hj_reactive\",\"hj_reactive\",\"hj_reactive\",\"hj_reactive\",\"hj_reactive\",\"hj_reactive\",\"hj_reactive\",\"hj_reactive\",\"hj_reactive\",\"hj_reactive\",\"hj_reactive\",\"hj_reactive\",\"hj_reactive\",\"hj_reactive\",\"hj_reactive\",\"hj_reactive\",\"hj_reactive\",\"hj_reactive\",\"hj_reactive\",\"hj_reactive\",\"hj_reactive\",\"hj_reactive\",\"hj_reactive\",\"hj_reactive\",\"hj_reactive\",\"hj_reactive\",\"hj_reactive\",\"hj_reactive\",\"hj_reactive\",\"hj_reactive\",\"hj_reactive\",\"hj_reactive\",\"hj_reactive\",\"hj_reactive\",\"hj_reactive\",\"hj_reactive\",\"hj_reactive\",\"hj_reactive\",\"hj_reactive\",\"hj_reactive\",\"hj_reactive\",\"hj_reactive\",\"hj_reactive\",\"hj_reactive\",\"hj_reactive\",\"hj_reactive\",\"hj_reactive\",\"hj_reactive\",\"hj_reactive\",\"hj_reactive\",\"hj_reactive\",\"hj_reactive\",\"hj_reactive\",\"hj_reactive\",\"hj_reactive\",\"hj_reactive\",\"hj_reactive\",\"hj_reactive\",\"hj_reactive\",\"hj_reactive\",\"hj_reactive\",\"hj_reactive\",\"hj_reactive\",\"hj_reactive\",\"hj_reactive\",\"hj_reactive\",\"hj_reactive\",\"hj_reactive\",\"hj_reactive\",\"hj_reactive\",\"hj_reactive\",\"hj_reactive\",\"hj_reactive\",\"hj_reactive\",\"hj_reactive\",\"hj_reactive\",\"hj_reactive\",\"hj_reactive\",\"hj_reactive\",\"hj_reactive\",\"hj_reactive\",\"hj_reactive\",\"hj_reactive\",\"hj_reactive\",\"hj_reactive\",\"hj_reactive\",\"hj_reactive\",\"hj_reactive\",\"hj_reactive\",\"hj_reactive\",\"hj_reactive\",\"hj_reactive\",\"hj_reactive\",\"hj_reactive\",\"hj_reactive\",\"hj_reactive\",\"hj_reactive\",\"hj_reactive\",\"hj_reactive\",\"hj_reactive\",\"hj_reactive\",\"hj_reactive\",\"hj_reactive\",\"hj_reactive\",\"hj_reactive\",\"hj_reactive\",\"hj_reactive\",\"hj_reactive\",\"hj_reactive\",\"hj_reactive\",\"hj_reactive\",\"hj_reactive\",\"hj_reactive\",\"hj_reactive\",\"hj_reactive\",\"hj_reactive\",\"hj_reactive\",\"hj_reactive\",\"hj_reactive\",\"hj_reactive\",\"hj_reactive\",\"hj_reactive\",\"hj_reactive\",\"hj_reactive\",\"hj_reactive\",\"hj_reactive\",\"hj_reactive\",\"hj_reactive\",\"hj_reactive\",\"hj_reactive\",\"hj_reactive\",\"hj_reactive\",\"hj_reactive\",\"hj_reactive\",\"hj_reactive\",\"hj_reactive\",\"hj_reactive\",\"hj_reactive\",\"hj_reactive\",\"hj_reactive\",\"hj_reactive\",\"hj_reactive\",\"hj_reactive\",\"hj_reactive\",\"hj_reactive\",\"hj_reactive\",\"hj_reactive\",\"hj_reactive\",\"hj_reactive\",\"hj_reactive\",\"hj_reactive\",\"hj_reactive\",\"hj_reactive\",\"hj_reactive\",\"hj_reactive\",\"hj_reactive\",\"hj_reactive\",\"hj_reactive\",\"hj_reactive\",\"hj_reactive\",\"hj_reactive\",\"hj_reactive\",\"hj_reactive\",\"hj_reactive\",\"hj_reactive\",\"hj_reactive\",\"hj_reactive\",\"hj_reactive\",\"hj_reactive\",\"hj_reactive\",\"hj_reactive\",\"hj_reactive\",\"hj_reactive\",\"hj_reactive\",\"hj_reactive\",\"hj_reactive\",\"hj_reactive\",\"hj_reactive\",\"hj_reactive\",\"hj_reactive\",\"hj_reactive\",\"hj_reactive\",\"hj_reactive\",\"hj_reactive\",\"hj_reactive\",\"hj_reactive\",\"hj_reactive\",\"hj_reactive\",\"hj_reactive\",\"hj_reactive\",\"hj_reactive\",\"hj_reactive\",\"hj_reactive\",\"hj_reactive\",\"hj_reactive\",\"hj_reactive\",\"hj_reactive\",\"hj_reactive\",\"hj_reactive\",\"hj_reactive\",\"hj_reactive\",\"hj_reactive\",\"hj_reactive\",\"hj_reactive\",\"hj_reactive\",\"hj_reactive\",\"hj_reactive\",\"hj_reactive\",\"hj_reactive\",\"hj_reactive\",\"hj_reactive\",\"hj_reactive\",\"hj_reactive\",\"hj_reactive\",\"hj_reactive\",\"hj_reactive\",\"hj_reactive\",\"hj_reactive\",\"hj_reactive\",\"hj_reactive\",\"hj_reactive\",\"hj_reactive\",\"hj_reactive\",\"hj_reactive\",\"hj_reactive\",\"hj_reactive\",\"hj_reactive\",\"hj_reactive\",\"hj_reactive\",\"hj_reactive\",\"hj_reactive\",\"hj_reactive\",\"hj_reactive\",\"hj_reactive\",\"hj_reactive\",\"hj_reactive\",\"hj_reactive\",\"hj_reactive\",\"hj_reactive\",\"hj_reactive\",\"hj_reactive\",\"hj_reactive\",\"hj_reactive\",\"hj_reactive\",\"hj_reactive\",\"hj_reactive\",\"hj_reactive\",\"hj_reactive\",\"hj_reactive\",\"hj_reactive\",\"hj_reactive\",\"hj_reactive\",\"hj_reactive\",\"hj_reactive\",\"flocking\",\"flocking\",\"flocking\",\"flocking\",\"flocking\",\"flocking\",\"flocking\",\"flocking\",\"flocking\",\"flocking\",\"flocking\",\"flocking\",\"flocking\",\"flocking\",\"flocking\",\"flocking\",\"flocking\",\"flocking\",\"flocking\",\"flocking\",\"flocking\",\"flocking\",\"flocking\",\"flocking\",\"flocking\",\"flocking\",\"flocking\",\"flocking\",\"flocking\",\"flocking\",\"flocking\",\"flocking\",\"flocking\",\"flocking\",\"flocking\",\"flocking\",\"flocking\",\"flocking\",\"flocking\",\"flocking\",\"flocking\",\"flocking\",\"flocking\",\"flocking\",\"flocking\",\"flocking\",\"flocking\",\"flocking\",\"flocking\",\"flocking\",\"flocking\",\"flocking\",\"flocking\",\"flocking\",\"flocking\",\"flocking\",\"flocking\",\"flocking\",\"flocking\",\"flocking\",\"flocking\",\"flocking\",\"flocking\",\"flocking\",\"flocking\",\"flocking\",\"flocking\",\"flocking\",\"flocking\",\"flocking\",\"flocking\",\"flocking\",\"flocking\",\"flocking\",\"flocking\",\"flocking\",\"flocking\",\"flocking\",\"flocking\",\"flocking\",\"flocking\",\"flocking\",\"flocking\",\"flocking\",\"flocking\",\"flocking\",\"flocking\",\"flocking\",\"flocking\",\"flocking\",\"flocking\",\"flocking\",\"flocking\",\"flocking\",\"flocking\",\"flocking\",\"flocking\",\"flocking\",\"flocking\",\"flocking\",\"flocking\",\"flocking\",\"flocking\",\"flocking\",\"flocking\",\"flocking\",\"flocking\",\"flocking\",\"flocking\",\"flocking\",\"flocking\",\"flocking\",\"flocking\",\"flocking\",\"flocking\",\"flocking\",\"flocking\",\"flocking\",\"flocking\",\"flocking\",\"flocking\",\"flocking\",\"flocking\",\"flocking\",\"flocking\",\"flocking\",\"flocking\",\"flocking\",\"flocking\",\"flocking\",\"flocking\",\"flocking\",\"flocking\",\"flocking\",\"flocking\",\"flocking\",\"flocking\",\"flocking\",\"flocking\",\"flocking\",\"flocking\",\"flocking\",\"flocking\",\"flocking\",\"flocking\",\"flocking\",\"flocking\",\"flocking\",\"flocking\",\"flocking\",\"flocking\",\"flocking\",\"flocking\",\"flocking\",\"flocking\",\"flocking\",\"flocking\",\"flocking\",\"flocking\",\"flocking\",\"flocking\",\"flocking\",\"flocking\",\"flocking\",\"flocking\",\"flocking\",\"flocking\",\"flocking\",\"flocking\",\"flocking\",\"flocking\",\"flocking\",\"flocking\",\"flocking\",\"flocking\",\"flocking\",\"flocking\",\"flocking\",\"flocking\",\"flocking\",\"flocking\",\"flocking\",\"flocking\",\"flocking\",\"flocking\",\"flocking\",\"flocking\",\"flocking\",\"flocking\",\"flocking\",\"flocking\",\"flocking\",\"flocking\",\"flocking\",\"flocking\",\"flocking\",\"flocking\",\"flocking\",\"flocking\",\"flocking\",\"flocking\",\"flocking\",\"flocking\",\"flocking\",\"flocking\",\"flocking\",\"flocking\",\"flocking\",\"flocking\",\"flocking\",\"flocking\",\"flocking\",\"flocking\",\"flocking\",\"flocking\",\"flocking\",\"flocking\",\"flocking\",\"flocking\",\"flocking\",\"flocking\",\"flocking\",\"flocking\",\"flocking\",\"flocking\",\"flocking\",\"flocking\",\"flocking\",\"flocking\",\"flocking\",\"flocking\",\"flocking\",\"flocking\",\"flocking\",\"flocking\",\"flocking\",\"flocking\",\"flocking\",\"flocking\",\"flocking\",\"flocking\",\"flocking\",\"flocking\",\"flocking\",\"flocking\",\"flocking\",\"flocking\",\"flocking\",\"flocking\",\"flocking\",\"flocking\",\"flocking\",\"flocking\",\"flocking\",\"flocking\",\"flocking\",\"flocking\",\"flocking\",\"flocking\",\"flocking\",\"flocking\",\"flocking\",\"flocking\",\"flocking\",\"flocking\",\"flocking\",\"flocking\",\"flocking\",\"flocking\",\"flocking\",\"flocking\",\"flocking\",\"flocking\",\"flocking\",\"flocking\",\"flocking\",\"flocking\",\"flocking\",\"flocking\",\"flocking\",\"flocking\",\"flocking\",\"flocking\",\"flocking\",\"flocking\",\"flocking\",\"flocking\",\"flocking\",\"flocking\",\"flocking\",\"flocking\",\"flocking\",\"flocking\",\"flocking\",\"flocking\",\"flocking\",\"flocking\",\"flocking\",\"flocking\",\"flocking\",\"flocking\",\"flocking\",\"flocking\",\"flocking\",\"flocking\",\"flocking\",\"flocking\",\"flocking\",\"flocking\",\"flocking\",\"flocking\",\"flocking\",\"flocking\",\"flocking\",\"flocking\",\"flocking\",\"flocking\",\"flocking\",\"flocking\",\"flocking\",\"flocking\",\"flocking\",\"flocking\",\"flocking\",\"flocking\",\"flocking\",\"flocking\",\"flocking\",\"flocking\",\"flocking\",\"flocking\",\"flocking\",\"flocking\",\"flocking\",\"flocking\",\"flocking\",\"flocking\",\"flocking\",\"flocking\",\"flocking\",\"flocking\",\"flocking\",\"flocking\",\"flocking\",\"flocking\",\"flocking\",\"flocking\",\"flocking\",\"flocking\",\"flocking\",\"flocking\",\"flocking\",\"flocking\",\"flocking\",\"flocking\",\"flocking\",\"flocking\",\"flocking\",\"flocking\",\"flocking\",\"flocking\",\"flocking\",\"flocking\",\"flocking\",\"flocking\",\"flocking\",\"flocking\",\"flocking\",\"flocking\",\"flocking\",\"flocking\",\"flocking\",\"flocking\",\"flocking\",\"flocking\",\"flocking\",\"flocking\",\"flocking\",\"flocking\",\"flocking\",\"flocking\",\"flocking\",\"flocking\",\"flocking\",\"flocking\",\"flocking\",\"flocking\",\"flocking\",\"flocking\",\"flocking\",\"flocking\",\"flocking\",\"flocking\",\"flocking\",\"flocking\",\"flocking\",\"flocking\",\"flocking\",\"flocking\",\"flocking\",\"flocking\",\"flocking\",\"flocking\",\"flocking\",\"flocking\",\"flocking\",\"flocking\",\"flocking\",\"flocking\",\"flocking\",\"flocking\",\"flocking\",\"flocking\",\"flocking\",\"flocking\",\"flocking\",\"flocking\",\"flocking\",\"flocking\",\"flocking\",\"flocking\",\"flocking\",\"flocking\",\"flocking\",\"flocking\",\"flocking\",\"flocking\",\"flocking\",\"flocking\",\"flocking\",\"flocking\",\"flocking\",\"flocking\",\"flocking\",\"flocking\",\"flocking\",\"flocking\",\"flocking\",\"flocking\",\"flocking\",\"flocking\",\"flocking\",\"flocking\",\"flocking\",\"flocking\",\"flocking\",\"flocking\",\"flocking\",\"flocking\",\"flocking\",\"flocking\",\"flocking\",\"flocking\",\"flocking\",\"flocking\",\"flocking\",\"flocking\",\"flocking\",\"flocking\",\"flocking\",\"flocking\",\"flocking\",\"flocking\",\"flocking\",\"flocking\",\"flocking\",\"flocking\",\"flocking\",\"flocking\",\"flocking\",\"flocking\",\"flocking\",\"flocking\",\"flocking\",\"flocking\",\"flocking\",\"flocking\",\"flocking\",\"flocking\",\"flocking\",\"flocking\",\"flocking\",\"flocking\",\"flocking\",\"flocking\",\"flocking\",\"flocking\",\"flocking\",\"flocking\",\"flocking\",\"flocking\",\"flocking\",\"flocking\",\"flocking\",\"flocking\",\"flocking\",\"flocking\",\"flocking\",\"flocking\",\"flocking\",\"flocking\",\"flocking\",\"flocking\",\"flocking\",\"flocking\",\"flocking\",\"flocking\",\"flocking\",\"flocking\",\"flocking\",\"flocking\",\"flocking\",\"flocking\",\"flocking\",\"flocking\",\"flocking\",\"flocking\",\"flocking\",\"flocking\",\"flocking\",\"flocking\",\"flocking\",\"flocking\",\"flocking\",\"flocking\",\"flocking\",\"flocking\",\"flocking\",\"flocking\",\"flocking\",\"flocking\",\"flocking\",\"flocking\",\"flocking\",\"flocking\",\"flocking\",\"flocking\",\"flocking\",\"flocking\",\"flocking\",\"flocking\",\"flocking\",\"flocking\",\"flocking\",\"flocking\",\"flocking\",\"flocking\",\"flocking\",\"flocking\"],\"x0\":\" \",\"xaxis\":\"x\",\"y\":[0.0,0.0,0.0,0.0,0.0,0.0,0.0,0.0,0.0,0.0,0.0,0.0,0.0,0.0,0.0,0.0,0.0,0.0,0.0,0.0,0.0,0.0,0.0,0.0,0.0,0.0,0.0,0.0,0.0,0.0,0.0,0.0,0.0,0.0,0.0,0.0,0.0,0.0,0.0,0.0,0.0,0.0,0.0,0.0,0.0,0.0,0.0,0.0,0.0,0.0,0.0,0.0,0.0,0.0,0.0,0.0,0.0,0.0,0.0,0.0,0.0,0.0,0.0,0.0,0.0,0.0,0.0,0.0,0.0,0.0,0.0,0.0,0.0,0.0,0.0,0.0,0.0,0.0,0.0,0.0,0.0,0.0,0.0,0.0,0.0,0.0,0.0,0.0,0.0,0.0,0.0,0.0,0.0,0.0,0.0,0.0,0.0,0.0,0.0,0.0,0.0,0.0,0.0,0.0,0.0,0.0,0.0,0.0,0.0,0.0,0.0,0.0,0.0,0.0,0.0,0.0,0.0,0.0,0.0,0.0,0.0,0.0,0.0,0.0,0.0,0.0,0.0,0.0,0.0,0.0,0.0,0.0,0.0,0.0,0.0,0.0,0.0,0.0,0.0,0.0,0.0,0.0,0.0,0.0,0.0,0.0,0.0,0.0,0.0,0.0,0.0,0.0,0.0,0.0,0.0,0.0,0.0,0.0,0.0,0.0,0.0,0.0,0.0,0.0,0.0,0.0,0.0,0.0,0.0,0.0,0.0,0.0,0.0,0.0,0.0,0.0,0.0,0.0,0.0,0.0,0.0,0.0,0.0,0.0,0.0,0.0,0.0,0.0,0.0,0.0,0.0,0.0,0.0,0.0,0.0,0.0,0.0,0.0,0.0,0.0,0.0,0.0,0.0,0.0,0.0,0.0,0.0,null,0.0,0.0,0.0,0.0,0.0,0.0,0.0,0.0,0.0,0.0,0.0,0.0,0.0,0.0,0.0,0.0,0.0,0.0,0.0,0.0,0.0,0.0,0.0,0.0,0.0,0.0,0.0,0.0,0.0,0.0,0.0,0.0,0.0,0.0,0.0,0.0,0.0,0.0,0.0,0.0,0.0,0.0,0.0,0.0,0.0,0.0,0.0,0.0,0.0,0.0,0.0,0.0,0.0,0.0,0.0,0.0,0.0,0.0,0.0,0.0,0.0,0.0,0.0,0.0,0.0,0.0,0.0,0.0,0.0,0.0,0.0,0.0,0.0,0.0,0.0,0.0,0.0,0.0,0.0,0.0,0.0,0.0,0.0,0.0,0.0,0.0,0.0,0.0,0.0,0.0,0.0,0.0,0.0,0.0,0.0,0.0,0.0,0.0,0.0,0.0,0.0,0.0,0.0,0.0,0.0,0.0,0.0,0.0,0.0,0.0,0.0,0.0,0.0,0.0,0.0,0.0,0.0,0.0,0.0,0.0,0.0,0.0,0.0,0.0,0.0,0.0,0.0,0.0,0.0,0.0,0.0,0.0,0.0,0.0,0.0,0.0,0.0,0.0,0.0,0.0,0.0,0.0,0.0,0.0,0.0,0.0,0.0,0.0,0.0,0.0,0.0,0.0,0.0,0.0,0.0,0.0,0.0,0.0,0.0,0.0,0.0,0.0,0.0,0.0,0.0,0.0,0.0,0.0,0.0,0.0,0.0,0.0,0.0,0.0,0.0,0.0,0.0,0.0,0.0,0.0,0.0,0.0,0.0,0.0,0.0,0.0,0.0,0.0,0.0,0.0,0.0,0.0,0.0,0.0,0.0,0.0,0.0,0.0,0.0,0.0,0.0,0.0,0.0,0.0,0.0,0.0,0.0,0.0,0.0,0.0,0.0,0.0,0.0,0.0,0.0,0.0,0.0,0.0,0.0,0.0,0.0,0.0,0.0,0.0,0.0,0.0,0.0,0.0,0.0,0.0,0.0,0.0,0.0,0.0,0.0,0.0,0.0,0.0,0.0,0.0,0.0,0.0,0.0,0.0,0.0,0.0,0.0,0.0,0.0,0.0,0.0,0.0,0.0,0.0,0.0,0.0,0.0,0.0,0.0,0.0,0.0,0.0,0.0,0.0,0.0,0.0,0.0,0.0,0.0,0.0,0.0,0.0,0.0,0.0,0.0,0.0,0.0,0.0,0.0,0.0,0.0,0.0,0.0,0.0,0.0,0.0,0.0,0.0,0.0,0.0,0.0,0.0,0.0,0.0,0.0,0.0,0.0,0.0,0.0,0.0,0.0,0.0,0.0,0.0,0.0,0.0,0.0,0.0,0.0,0.0,0.0,0.0,0.0,0.0,0.0,0.0,0.0,0.0,0.0,0.0,0.0,0.0,0.0,0.0,0.0,0.0,0.0,0.0,0.0,0.0,0.0,0.0,0.0,0.0,0.0,0.0,0.0,0.0,0.0,0.0,0.0,0.4651141732271121,76.85558251131688,31.36046420676699,28.67038928695893,11.978420427132468,42.34106767268322,10.56760233992827,31.707883536999045,42.02906917379114,7.978874647362869,21.29418736306254,40.85949336430115,5.891592641476887,24.20514708561151,41.07471463358913,12.66431505425134,7.556035785806896,11.783808056449397,9.94393815955154,29.05618054598333,7.403099512392994,41.02964923585477,10.424661009297242,41.97206400012927,13.986411760480392,16.00693588571583,17.120740473628572,18.727414958786216,36.18610832917629,19.84737239740143,30.280897879815555,48.24992016967232,55.25298476611237,19.40690242386093,41.44295863010618,31.687402011291613,42.58313058275247,10.086831102722208,13.52546106945642,14.689748798201611,13.529084594213916,31.919989348028317,25.878370095991105,9.687880005631758,6.207587488170227,23.64489300597755,10.398181317692998,9.61596505960452,18.16991170303405,72.73680198496035,19.1795162606656,20.772381512332352,25.40944072769252,7.39400934581056,4.090545623948155,27.108447714814343,28.595435933774308,7.875457998657192,15.50298133015342,21.81609121052947,24.055475921527812,23.87307037194783,120.07909045528558,7.089052376367207,23.4013794639671,41.65093692178814,15.83551951162454,49.90088565325691,51.202126844916656,18.159156559577543,49.1841014360293,47.711587944317486,21.131264351315973,49.84148361794036,20.673729245964186,30.654533309162822,11.39821646660286,20.75192005914781,32.96829429477819,41.45066991632058,18.01087295441123,16.05645961612917,13.737936426922088,17.592053861269243,26.80972743665181,47.621843612742,18.675713671740667,18.119496853040538,7.704415494559363,17.036074218986997,42.34178077006214,55.4432994164545,36.57113194517616,32.18423861423021,17.691656259132305,18.46748971365832,102.57426907131044,48.10033621570559,18.16166281907615,13.08521717329527,19.14970221234742,41.76893049857208,13.842452626675046,13.744152549205491,37.905295238639376,36.49728843135849,6.066065929984192,7.885237221917787,32.2354149639493,100.89389465431904,128.05298425013342,5.371717669744903,19.509901152765423,26.048518917880624,14.0819199519643,15.499731904963408,13.791878986145596,11.585824500429055,6.977050854045242,13.408478610814718,11.067008761082825,14.70951332639875,44.04599540705765,28.52972414337028,21.809069626832223,20.43198407823612,21.57098519665072,5.368842738779422,19.531440032368486,40.79184390620443,28.446079829417688,5.4493059539988655,21.622101600691437,35.62655082504367,20.19061628568329,10.856552321507992,16.88820921304566,3.87965568809284,19.69394142476205,47.40803447522501,8.376766144309537,6.238090949827811,13.10799681419578,19.56694685048075,17.62836663724473,70.26188328078487,22.87409186784163,8.787940026181788,13.912428581925926,12.44994434773754,29.497886000171512,57.774964741123,26.714363539229996,8.038758601575825,10.42840127844286,17.246475405474282,14.639746901095556,13.800240576473165,56.41971344893506,9.158645811940149,62.97482886336124,18.97290936947359,32.58781868736214,11.72166634333459,78.72537926584107,20.4092148204426,19.247504797170187,33.587681152038215,16.665033349841043,34.04061183047362,11.83754966835462,26.765398305110043,36.30718770921371,23.27655498687024,56.209541877276415,45.24597249800908,22.09182618893479,13.73974737472957,31.562984849346595,18.804392121641204,18.126674543893103,16.71272200065306,16.094670974092647,15.719738007025526,9.317276977550664,29.17237748798383,11.550629974406874,14.850588697418273,9.824253174026904,20.56404461455454,73.14108633313093,28.870405332706863,16.651983826927992,37.60673633567097,13.37565419328331,17.448236300837728,46.39397529468466,29.450588290385905,24.540881729847456,25.96246348811408,15.187021509684955,23.23975907934851,49.16995045179885,17.38527782533786,28.41362339767201,61.53949561622572,19.21861489815405,26.99142269081948,5.574570119470852,17.642579720790646,13.00712053925223,48.0197624307863,26.98363584700937,11.373576149363208,84.37897045764416,32.44309924755422,17.83538134252027,25.208544483688183,27.3200658968528,10.98123053454123,36.38956263083823,6.534516618056423,11.774848238321612,13.32818071051442,26.38262546003453,23.20773284660094,24.55580960599106,18.126194215248244,29.61996971525243,8.81907145165095,27.063932612746918,18.21044268431389,15.06622584052496,20.259033137051222,27.315129330811025,12.591478895933593,58.95298121936553,4.614451339797221,32.43187528721156,9.73290617220789,29.25734121250925,14.054669610104677,19.18356769993253,55.09552796429524,21.593155203321267,22.37533175090281,16.967124247316338,9.6317713094691,3.0339653145918617,19.060052072702813,20.09503243782904,52.09076541248066,27.92926206916992,8.975927034952612,11.574951626645714,27.167743549274206,28.957123985854537,11.475695170904087,37.22196495414738,7.980070180271272,34.639044300427045,8.523633190031722,18.75059169485601,22.353394819293136,20.053931241998374,44.55811407642933,19.649250675510228,21.52680321301575,42.8712691858908,25.641052463971896,12.65845941861411,18.82443108717889,22.502977950471696,10.85516572922821,75.9889025112927,17.898382862033827,9.292140053692796,53.74446567735337,35.724149602185,23.201827692717515,18.609070095579117,29.404275237140084,9.69636917818862,11.359851341466769,22.822893976493745,11.44502188227455,36.50688594861449,7.586795902578378,61.61014392052162,20.83885471069325,30.836776034950464,23.93810375568844,18.936501774652577,30.770137082281455,27.19224705783234,36.164778681181375,31.93056990273188,31.33567048599486,12.252305193281709,20.991856853053463,22.639289771718893,18.649859924910466,3.927767892233828,26.942142780475088,31.13158836853268,70.14796879446284,16.180185201172225,6.025015276921803,24.97198926962775,85.67643784762527,33.681249295931,20.379591132693516,18.143740640472384,53.71268426896719,24.105917544619825,29.36750226957765,5.421273732562454,58.89412138497613,30.255404437754848,57.00711436931972,20.75542679874213,15.077537121391376,73.173215872747,19.48854931498143,58.50605156106235,19.321963992812595,27.954232924491738,27.406100184593363,34.184995500395004,13.592940129516574,24.75317909131012,24.100874049454085,29.70923673663017,23.38274115206045,34.99869504802853,16.415026291344166,22.021097818064643,23.81078685210823,9.325025060030937,5.535257791287245,18.47708209581968,15.381793420933931,55.06668854584623,16.44646458517989,16.56186583416752,59.15228620256174,11.385487798798684,5.093928796878877,111.93913898283031,28.302373500722315,27.487107108692797,22.62034571461474,19.076569268415334,14.608980445544166,17.2349093730846,39.42723872776157,20.36487127624424,8.952670188975747,15.51278770658019,35.50529143991256,14.811571890028512,19.83979604167536,18.48396962571736,16.00532411537375,10.966266982860033,66.79536033549803,17.216339547750728,10.12860847147846,68.05507994093828,14.680539255393896,13.2199377881577,45.41207623462626,37.05893916664596,24.920583314286432,18.510548446138788,33.18242737710091,39.316345766009405,3.2851573982591376,26.614225664034954,35.65059066630057,15.53267578942192,14.6254931387217,13.768586398050996,36.36000371222252,59.286667300773495,26.7957323682992,17.021710891477525,12.892074037635725,1.490655109728125,63.405974216986415,44.8505487471212,6.709027856170716,40.29339102210267,4.958780997945222,13.77223301011609,27.0915441843415,14.283165383074076,17.359389389841684,37.02408364483473,5.058785839416513,14.856406760711788,33.981713528225555,2.593991830043573,46.76196071299562,76.92447229818208,35.45814514214621,45.10953924733679,44.018094560530464,11.098556767377309,59.59871836018934,11.135697907424612,13.544896124186632,29.738308337019387,57.540189703290125,10.066180144036842,27.31422441676124,17.086855053289828,24.01186130650636,30.47440485331871,22.646507088443357,17.08001082237289,45.58962787389346,18.56203831605469,46.58031724131811,11.831263285881196,27.78980788687645,19.4170811151663,44.04583319770679,39.34103838477344,20.887545832810986,8.596422718394619,16.80563562273363,44.23911673231829,31.74324311206272,24.574858416706803,45.40255512796241,18.15417414338349,8.01703417431228,9.711368358351743,30.09219849870409,38.12345970603472,7.307986244980794,27.08858315756704,7.678706069302986,18.8695599374109,3.442776969842809,20.10328163295509,15.350753478896223,12.44801709553103,11.180928369216367,22.732362600441228,6.328210328868329,1.7809697308553774,50.31359262924652,40.87029598162738,15.081702347198837,30.9001406775899,9.378148682028216,11.896664733285146,41.362056365919614,4.784916112334043,23.86249293608844,10.636074284920191,29.808752300667003,11.140022813567237,63.54958402449203,22.83477259375648,44.9459870764704,15.40740360733244,60.67199347672835,11.99258158102993,11.63551702187968,5.179540329484523,3.457544814023834,12.810488120498924,11.34879631791814,22.720306635560167,21.466257182628738,15.180020061725845,11.348776509106372,27.890041239910488,17.524264782703376,57.66127183630214,16.57255517825284,15.923810040466009,24.627934368458256,26.015112984413232,9.537281359421184,16.364398261625066,31.06229710782583,9.696338910340184,40.50622959672378,65.33063378180333,28.437732671524667,8.68726367277126,43.15830106385752,5.541350118280411,42.17003952874485,14.288661382706016,15.01838328024472,23.03292374362995,12.05940670992793,42.326669569693614,23.5303218280108,41.38374043970892,19.65787655114162,9.452662087296687,12.802689445923756,45.48117946562016,7.5344766737782916,15.525111124233687,25.31356688836864,16.150057549768484,11.356154153746887,31.33560836986308,23.74098036903137,45.46488162456183,14.258820267218036,22.026443709156656,105.3635856888794,31.86243165094917,31.09579631732725,21.462890207204524,15.326402683885336,15.879989385200396,18.141460109871065,28.23351098168196,21.91559424240342,14.047670319090232,24.62769284920736,9.171848049651029,14.495081699048844,28.27373207475783,24.49881641106786,15.234029397454774,55.567762676661374,37.53695008699808,20.6667248765303,16.668307620463167,37.63236235701282,8.572336277005803,45.25631233564789,36.383193386146125,19.328754619054187,6.012272195507367,17.248650509885145,15.878432322163563,22.309535488100213,null,12.564328604023093,69.73695873852144,20.160267775075138,21.46838232207642,29.88621125534377,35.76212169342196,18.55080468432872,33.93961049762989,18.556829107703138,18.468958773196512,52.988540498034816,40.98647879117913,17.52289846090346,21.57575043508221,24.656203681218575,13.982650821783045,16.609161575517977,4.791118464862413,48.14413661268777,9.33369928896042,51.555798783971,16.6742173328713,9.924298054679706,19.57579355971844,8.91259247453945,21.6753593208962,32.6550358792742,38.62731278208543,16.919296695098524,32.02178449562062,19.686456839610145,15.677427034811924,25.024948413350277,9.271723338002618,27.98523062519381,25.09947258143797,18.174851737911855,10.316744349437236,7.913256585373367,29.6149025299238,35.178768974228014,28.74859640436449,16.723255072602573,20.108155726134655,12.453326587510078,31.157059887326135,18.08986476856856,14.39439471678172,75.3087738074768,26.222918099151222,10.757072474003357,14.336036452278806,18.47234574289361,22.882946407003956,22.03086669743225,63.46480154786334,6.1946186905153935,9.648520811615995,19.72647926421177,45.7536748403463,23.93792226931886,61.27881659307168,20.509600546480677,11.235228336602978,14.379585846798566,11.829528596747048,42.3715427135057,19.35789994883557,12.476017381127622,41.71661943690152,21.178478523783976,39.64268985544526,33.93861762136766,29.26131390449609,19.798653617221017,14.63108479233568,40.376395951864914,17.981057962861883,11.996425982101268,8.844688435023745,17.81926671822913,36.95857450379821,17.476919455748448,14.887522815710104,12.349247933823126,38.38888553232186,11.268722630602644,10.99370340474922,54.05694042856652,43.83124252575285,22.11707024462306,69.35402244135055,20.57258907384035,16.754354879052897,11.232743821136406,44.28784984177084,22.385494724489472,31.24818399782172,17.39727017476905,18.25691374073919,13.359272789669085,49.36489010335658,17.32860139357113,8.239345103628652,10.058013245098666,6.288579835284923,16.7074353058725,16.166923234087385,83.99943798612433,48.52921199589889,28.372074085783023,27.945465224173077,32.06355860598832,27.225884043683923,11.686750119390338,14.873788528167722,23.840220023193485,26.44386579435277,13.327671667351,10.244523730990997,13.539563157877623,14.539248631495507,31.495380818949027,37.92846141157718,6.731744685573142,10.295926430449809,27.43162759950019,15.664607920002275,29.66309653078316,27.41740834232219,34.176883976398045,8.148164934232806,19.338412834387277,6.980597638471996,26.822213100259216,24.3968265132398,11.654761247778785,7.489025987003468,35.627461944391015,10.236534137187537,6.820283281531092,11.150210120407396,13.6516067746367,23.38059421546649,16.420131286033683,68.235651694702,8.735717933767262,15.976970317418663,12.963195660999254,25.21328780326,13.776837071775624,81.70257442447401,19.25145854180144,11.205092431386564,19.72187850325078,13.759246931761831,7.1456968098086096,13.12081651609182,20.730777143934493,60.31571244142406,64.35485407633479,27.139277464282408,37.9526761734723,13.187734181873504,16.29778570466798,35.398593221085555,8.883960838346404,30.26549563319141,23.85138122821733,14.077248285339456,42.4588426005182,10.27845528584692,21.198081585997127,13.31941809513875,74.0263686198022,7.322549523339835,72.1455771354696,11.394668418438876,27.475104779486543,25.28139056346465,20.785850855339014,33.30194725289517,16.72782005667179,13.49820276300591,22.65114906171359,13.59241607189024,15.703749346455574,16.460421742199383,20.48835300331687,41.47337406772599,49.38604775635625,16.616225445395973,6.458167621366405,25.498551896325893,11.617630954550023,46.36984159365705,35.76070144156784,15.185140136591844,13.632115670530322,20.7425687720181,23.748822151880987,19.222743029688264,34.46245688624205,55.95701090058698,12.949427393781274,18.05019668856033,15.29854708797412,61.83704468424641,12.04064036574344,35.192443661171446,55.45461819172359,15.742027572354134,10.760600230987302,22.32157030601001,48.82147724283374,37.27727835145852,17.941905003638315,14.551801968355957,23.10995199632383,10.183507031413846,14.747301245539074,11.332578231046744,22.952120441348534,12.541570905414796,7.884519659955675,22.26317591414131,5.764168757545037,12.350309042146549,15.4776250546068,17.383423375972782,39.20620386670443,17.080502527706336,20.107826525246228,49.5124626216246,38.23643114748633,32.363021540251935,19.30885179692013,11.16759621990087,69.94507938721715,14.670878659876134,17.257456274670133,18.473313385370915,43.87286898194678,20.77834094756653,15.03384116895625,19.62789293535382,19.337586361010786,16.08447278185271,13.86602694049373,20.473785897431817,21.208219046570797,31.17712369442276,9.928360620166634,17.6200179965129,35.10965030497846,9.03567972373747,12.689527453665386,40.56290497695869,11.177423208007454,28.8044074186908,13.366769149956143,10.190457321009813,45.177963190741714,12.450439788988382,27.560377819288,51.597601824433845,13.776498537886871,21.537105886180903,13.373003563064168,25.32983843300617,29.87713142725877,9.773959273237857,16.43974889908743,41.16915835848866,5.526636494551897,31.90304871614228,99.3343737409622,18.152630559201857,23.976712453682875,7.342532716024126,9.005360308435188,14.96651819332878,15.023755986101062,73.7297289573019,30.02522721881149,23.79740304364181,7.192132065432773,19.780267143747103,16.585244315074018,7.374896571336978,12.684202073678112,29.05112372058016,10.608056261504874,45.96675712718108,12.264130732370091,24.22713189488328,13.3681911719412,17.139183037078176,30.872039168058546,48.55789194222356,15.927846798634608,59.95706477022748,13.4634562751088,25.982439276934585,35.22471663350509,15.706145944806762,21.73294071998361,14.724625031788989,12.305300066296798,41.3592856443561,62.21862078163204,20.46863197890865,35.2836121472279,21.149791039600487,33.15183549833424,64.48057560146451,22.55969043604708,27.46972016094891,8.095247604280623,13.693221651818089,44.9195973263218,51.13514015198153,17.801252962921726,17.060179220549912,84.91555969363536,45.88260198533941,20.683641549142383,10.587517254668924,32.142986507909406,34.38933677411959,44.467374614164655,24.44701312230932,16.01565426614283,17.03717720788484,27.477390946715065,10.661336644811517,34.119827219173985,24.188417766053348,19.12400789023772,69.44114851468836,17.542845171349516,15.540825523082413,14.31869374140351,9.389070814374548,14.838599911029158,7.87629945600683,26.00815729865047,13.08275697139858,18.77973360972366,23.60496158452825,23.70797671356737,81.24469593630994,6.9442916653161095,10.252877331665374,14.48735047611767,15.665650476785885,11.86037721885923,15.0538760977072,34.773170247399506,63.85730152325829,13.841999475246958,14.433078469933088,36.30417963765431,11.11502876082795,13.52616682594207,13.626713053344613,52.071886409157685,5.509871787513368,25.808312611009832,25.867678712019615,16.29880578709837,9.374265703760202,27.281826504096813,36.053242668493695,14.346854213626443,34.17621135359407,27.46756462123044,9.44528797839347,30.97620047191352,18.427406334909456,20.0672371301449,39.66149564667218,20.870282902197577,42.06733836642419,24.728286705703884,16.698614230621754,17.283465258100936,93.44416637198782,54.9998188121417,22.48577485433096,15.828928057170357,17.821368595748545,14.631729587436965,15.144960637488348,22.86150984896225,40.458265183513504,20.051290012422182,36.838564263162446,14.314303681736886,32.59872051484051,8.191557943616925,28.876978386128417,54.11080257932765,17.640711768511586,16.17909797336558,7.339872670392744,25.89232049924776,16.556912119010114,15.380183370177017,5.90046830154859,24.25746608548803,37.84852735326164,22.43903430516824,17.748886226825665,20.518680536710303,37.7109940952154,24.07876698803824,32.858014147867934,23.46095176202425,5.300905181384858,14.866264435002062,39.009282098326864,32.42862802129888,25.760337915532165,6.596103295753359,20.720308052620137,8.973752115526038,15.839320975776303,23.439690306170988,14.162883060198904,20.71013043417741,24.711082951327047,13.12535902035567,19.2755548530083,13.538107945184786,44.31099072467003,20.161437027956936,22.087529891091965,32.46569081774137,10.18319268049,29.32456106195911,5.736945277145597,19.51476357991381,18.0415778923361,19.765348869553836,50.82915507002192,23.915721411716262,46.91565290981179,13.859707937854369,9.375040672346318,19.90714698144514,34.35459603672392,11.937374327407175,11.517997172803836,9.138386604174077,11.931054886783247,38.4051796711303,17.401580174248384,6.956777348929208,51.914183356992254,30.252892058108326,39.42064550490576,9.84179313221889,20.831206923389896,56.43742276561113,49.41810445911707,19.127836310994887,13.519657531582816,19.818722347518868,33.20697294001747,26.285330640158342,17.742299898976498,18.718334019751865,13.786776304249114,21.04632564675434,11.901649507989262,15.287452178780454,23.83136026349578,25.92758529946998,8.493174723109009,27.33593790743411,13.332978474544552,27.090625882036758,15.676310856033473,16.52251993676855,61.601988789783725,8.647568744566176,76.45516334112267,15.595052665640036,15.076770738128344,15.536486349433526,30.388460519836663,8.153201420630907,12.423499830975937,30.93735970208627,11.125740066500311,13.939056727269987,14.858137844323103,17.218307524941295,21.787215546133087,27.902361764690514,12.653218050340506,30.934501090147258,19.138199821314284,14.17413106148074,13.09492757787634,52.88002964270878,43.21627377933986,22.01187860767383,30.761134530929475,7.8005919533781185,11.247204339440303,23.64181388428244,29.70010765379057,30.49504393697136,24.20165204747191,10.691036694641053,63.874391850995536,16.81631621516224,10.309827237087916,36.85866814512959,12.46433526289162,10.992488862481409,12.263103631923151,26.391457373080517,46.31938977895698,10.779914004335216,18.717932834229934,47.20232950887733,35.38528452668723,25.07697399208675,12.771482641895332,18.33446848720141,44.71013916599042,57.699099350970585,12.876221369371232,9.677871563513062,25.87908249434379,13.29805155424562,22.94930053666039,61.9467833147346,16.58116330942946,19.01166304162132,8.448329900555578,5.850588997175755,15.461375145417708,12.349397838341217,10.40393364292952,null],\"y0\":\" \",\"yaxis\":\"y\",\"type\":\"box\"}],                        {\"template\":{\"data\":{\"histogram2dcontour\":[{\"type\":\"histogram2dcontour\",\"colorbar\":{\"outlinewidth\":0,\"ticks\":\"\"},\"colorscale\":[[0.0,\"#0d0887\"],[0.1111111111111111,\"#46039f\"],[0.2222222222222222,\"#7201a8\"],[0.3333333333333333,\"#9c179e\"],[0.4444444444444444,\"#bd3786\"],[0.5555555555555556,\"#d8576b\"],[0.6666666666666666,\"#ed7953\"],[0.7777777777777778,\"#fb9f3a\"],[0.8888888888888888,\"#fdca26\"],[1.0,\"#f0f921\"]]}],\"choropleth\":[{\"type\":\"choropleth\",\"colorbar\":{\"outlinewidth\":0,\"ticks\":\"\"}}],\"histogram2d\":[{\"type\":\"histogram2d\",\"colorbar\":{\"outlinewidth\":0,\"ticks\":\"\"},\"colorscale\":[[0.0,\"#0d0887\"],[0.1111111111111111,\"#46039f\"],[0.2222222222222222,\"#7201a8\"],[0.3333333333333333,\"#9c179e\"],[0.4444444444444444,\"#bd3786\"],[0.5555555555555556,\"#d8576b\"],[0.6666666666666666,\"#ed7953\"],[0.7777777777777778,\"#fb9f3a\"],[0.8888888888888888,\"#fdca26\"],[1.0,\"#f0f921\"]]}],\"heatmap\":[{\"type\":\"heatmap\",\"colorbar\":{\"outlinewidth\":0,\"ticks\":\"\"},\"colorscale\":[[0.0,\"#0d0887\"],[0.1111111111111111,\"#46039f\"],[0.2222222222222222,\"#7201a8\"],[0.3333333333333333,\"#9c179e\"],[0.4444444444444444,\"#bd3786\"],[0.5555555555555556,\"#d8576b\"],[0.6666666666666666,\"#ed7953\"],[0.7777777777777778,\"#fb9f3a\"],[0.8888888888888888,\"#fdca26\"],[1.0,\"#f0f921\"]]}],\"heatmapgl\":[{\"type\":\"heatmapgl\",\"colorbar\":{\"outlinewidth\":0,\"ticks\":\"\"},\"colorscale\":[[0.0,\"#0d0887\"],[0.1111111111111111,\"#46039f\"],[0.2222222222222222,\"#7201a8\"],[0.3333333333333333,\"#9c179e\"],[0.4444444444444444,\"#bd3786\"],[0.5555555555555556,\"#d8576b\"],[0.6666666666666666,\"#ed7953\"],[0.7777777777777778,\"#fb9f3a\"],[0.8888888888888888,\"#fdca26\"],[1.0,\"#f0f921\"]]}],\"contourcarpet\":[{\"type\":\"contourcarpet\",\"colorbar\":{\"outlinewidth\":0,\"ticks\":\"\"}}],\"contour\":[{\"type\":\"contour\",\"colorbar\":{\"outlinewidth\":0,\"ticks\":\"\"},\"colorscale\":[[0.0,\"#0d0887\"],[0.1111111111111111,\"#46039f\"],[0.2222222222222222,\"#7201a8\"],[0.3333333333333333,\"#9c179e\"],[0.4444444444444444,\"#bd3786\"],[0.5555555555555556,\"#d8576b\"],[0.6666666666666666,\"#ed7953\"],[0.7777777777777778,\"#fb9f3a\"],[0.8888888888888888,\"#fdca26\"],[1.0,\"#f0f921\"]]}],\"surface\":[{\"type\":\"surface\",\"colorbar\":{\"outlinewidth\":0,\"ticks\":\"\"},\"colorscale\":[[0.0,\"#0d0887\"],[0.1111111111111111,\"#46039f\"],[0.2222222222222222,\"#7201a8\"],[0.3333333333333333,\"#9c179e\"],[0.4444444444444444,\"#bd3786\"],[0.5555555555555556,\"#d8576b\"],[0.6666666666666666,\"#ed7953\"],[0.7777777777777778,\"#fb9f3a\"],[0.8888888888888888,\"#fdca26\"],[1.0,\"#f0f921\"]]}],\"mesh3d\":[{\"type\":\"mesh3d\",\"colorbar\":{\"outlinewidth\":0,\"ticks\":\"\"}}],\"scatter\":[{\"fillpattern\":{\"fillmode\":\"overlay\",\"size\":10,\"solidity\":0.2},\"type\":\"scatter\"}],\"parcoords\":[{\"type\":\"parcoords\",\"line\":{\"colorbar\":{\"outlinewidth\":0,\"ticks\":\"\"}}}],\"scatterpolargl\":[{\"type\":\"scatterpolargl\",\"marker\":{\"colorbar\":{\"outlinewidth\":0,\"ticks\":\"\"}}}],\"bar\":[{\"error_x\":{\"color\":\"#2a3f5f\"},\"error_y\":{\"color\":\"#2a3f5f\"},\"marker\":{\"line\":{\"color\":\"#E5ECF6\",\"width\":0.5},\"pattern\":{\"fillmode\":\"overlay\",\"size\":10,\"solidity\":0.2}},\"type\":\"bar\"}],\"scattergeo\":[{\"type\":\"scattergeo\",\"marker\":{\"colorbar\":{\"outlinewidth\":0,\"ticks\":\"\"}}}],\"scatterpolar\":[{\"type\":\"scatterpolar\",\"marker\":{\"colorbar\":{\"outlinewidth\":0,\"ticks\":\"\"}}}],\"histogram\":[{\"marker\":{\"pattern\":{\"fillmode\":\"overlay\",\"size\":10,\"solidity\":0.2}},\"type\":\"histogram\"}],\"scattergl\":[{\"type\":\"scattergl\",\"marker\":{\"colorbar\":{\"outlinewidth\":0,\"ticks\":\"\"}}}],\"scatter3d\":[{\"type\":\"scatter3d\",\"line\":{\"colorbar\":{\"outlinewidth\":0,\"ticks\":\"\"}},\"marker\":{\"colorbar\":{\"outlinewidth\":0,\"ticks\":\"\"}}}],\"scattermapbox\":[{\"type\":\"scattermapbox\",\"marker\":{\"colorbar\":{\"outlinewidth\":0,\"ticks\":\"\"}}}],\"scatterternary\":[{\"type\":\"scatterternary\",\"marker\":{\"colorbar\":{\"outlinewidth\":0,\"ticks\":\"\"}}}],\"scattercarpet\":[{\"type\":\"scattercarpet\",\"marker\":{\"colorbar\":{\"outlinewidth\":0,\"ticks\":\"\"}}}],\"carpet\":[{\"aaxis\":{\"endlinecolor\":\"#2a3f5f\",\"gridcolor\":\"white\",\"linecolor\":\"white\",\"minorgridcolor\":\"white\",\"startlinecolor\":\"#2a3f5f\"},\"baxis\":{\"endlinecolor\":\"#2a3f5f\",\"gridcolor\":\"white\",\"linecolor\":\"white\",\"minorgridcolor\":\"white\",\"startlinecolor\":\"#2a3f5f\"},\"type\":\"carpet\"}],\"table\":[{\"cells\":{\"fill\":{\"color\":\"#EBF0F8\"},\"line\":{\"color\":\"white\"}},\"header\":{\"fill\":{\"color\":\"#C8D4E3\"},\"line\":{\"color\":\"white\"}},\"type\":\"table\"}],\"barpolar\":[{\"marker\":{\"line\":{\"color\":\"#E5ECF6\",\"width\":0.5},\"pattern\":{\"fillmode\":\"overlay\",\"size\":10,\"solidity\":0.2}},\"type\":\"barpolar\"}],\"pie\":[{\"automargin\":true,\"type\":\"pie\"}]},\"layout\":{\"autotypenumbers\":\"strict\",\"colorway\":[\"#636efa\",\"#EF553B\",\"#00cc96\",\"#ab63fa\",\"#FFA15A\",\"#19d3f3\",\"#FF6692\",\"#B6E880\",\"#FF97FF\",\"#FECB52\"],\"font\":{\"color\":\"#2a3f5f\"},\"hovermode\":\"closest\",\"hoverlabel\":{\"align\":\"left\"},\"paper_bgcolor\":\"white\",\"plot_bgcolor\":\"#E5ECF6\",\"polar\":{\"bgcolor\":\"#E5ECF6\",\"angularaxis\":{\"gridcolor\":\"white\",\"linecolor\":\"white\",\"ticks\":\"\"},\"radialaxis\":{\"gridcolor\":\"white\",\"linecolor\":\"white\",\"ticks\":\"\"}},\"ternary\":{\"bgcolor\":\"#E5ECF6\",\"aaxis\":{\"gridcolor\":\"white\",\"linecolor\":\"white\",\"ticks\":\"\"},\"baxis\":{\"gridcolor\":\"white\",\"linecolor\":\"white\",\"ticks\":\"\"},\"caxis\":{\"gridcolor\":\"white\",\"linecolor\":\"white\",\"ticks\":\"\"}},\"coloraxis\":{\"colorbar\":{\"outlinewidth\":0,\"ticks\":\"\"}},\"colorscale\":{\"sequential\":[[0.0,\"#0d0887\"],[0.1111111111111111,\"#46039f\"],[0.2222222222222222,\"#7201a8\"],[0.3333333333333333,\"#9c179e\"],[0.4444444444444444,\"#bd3786\"],[0.5555555555555556,\"#d8576b\"],[0.6666666666666666,\"#ed7953\"],[0.7777777777777778,\"#fb9f3a\"],[0.8888888888888888,\"#fdca26\"],[1.0,\"#f0f921\"]],\"sequentialminus\":[[0.0,\"#0d0887\"],[0.1111111111111111,\"#46039f\"],[0.2222222222222222,\"#7201a8\"],[0.3333333333333333,\"#9c179e\"],[0.4444444444444444,\"#bd3786\"],[0.5555555555555556,\"#d8576b\"],[0.6666666666666666,\"#ed7953\"],[0.7777777777777778,\"#fb9f3a\"],[0.8888888888888888,\"#fdca26\"],[1.0,\"#f0f921\"]],\"diverging\":[[0,\"#8e0152\"],[0.1,\"#c51b7d\"],[0.2,\"#de77ae\"],[0.3,\"#f1b6da\"],[0.4,\"#fde0ef\"],[0.5,\"#f7f7f7\"],[0.6,\"#e6f5d0\"],[0.7,\"#b8e186\"],[0.8,\"#7fbc41\"],[0.9,\"#4d9221\"],[1,\"#276419\"]]},\"xaxis\":{\"gridcolor\":\"white\",\"linecolor\":\"white\",\"ticks\":\"\",\"title\":{\"standoff\":15},\"zerolinecolor\":\"white\",\"automargin\":true,\"zerolinewidth\":2},\"yaxis\":{\"gridcolor\":\"white\",\"linecolor\":\"white\",\"ticks\":\"\",\"title\":{\"standoff\":15},\"zerolinecolor\":\"white\",\"automargin\":true,\"zerolinewidth\":2},\"scene\":{\"xaxis\":{\"backgroundcolor\":\"#E5ECF6\",\"gridcolor\":\"white\",\"linecolor\":\"white\",\"showbackground\":true,\"ticks\":\"\",\"zerolinecolor\":\"white\",\"gridwidth\":2},\"yaxis\":{\"backgroundcolor\":\"#E5ECF6\",\"gridcolor\":\"white\",\"linecolor\":\"white\",\"showbackground\":true,\"ticks\":\"\",\"zerolinecolor\":\"white\",\"gridwidth\":2},\"zaxis\":{\"backgroundcolor\":\"#E5ECF6\",\"gridcolor\":\"white\",\"linecolor\":\"white\",\"showbackground\":true,\"ticks\":\"\",\"zerolinecolor\":\"white\",\"gridwidth\":2}},\"shapedefaults\":{\"line\":{\"color\":\"#2a3f5f\"}},\"annotationdefaults\":{\"arrowcolor\":\"#2a3f5f\",\"arrowhead\":0,\"arrowwidth\":1},\"geo\":{\"bgcolor\":\"white\",\"landcolor\":\"#E5ECF6\",\"subunitcolor\":\"white\",\"showland\":true,\"showlakes\":true,\"lakecolor\":\"white\"},\"title\":{\"x\":0.05},\"mapbox\":{\"style\":\"light\"}}},\"xaxis\":{\"anchor\":\"y\",\"domain\":[0.0,1.0],\"title\":{\"text\":\"controllers\"}},\"yaxis\":{\"anchor\":\"x\",\"domain\":[0.0,1.0],\"title\":{\"text\":\"degrees\"}},\"legend\":{\"tracegroupgap\":0},\"margin\":{\"t\":60},\"boxmode\":\"group\",\"title\":{\"text\":\"Control direction correction from optimal input\"}},                        {\"responsive\": true}                    ).then(function(){\n",
       "                            \n",
       "var gd = document.getElementById('998d0e7c-6eeb-4464-9392-de51b9522896');\n",
       "var x = new MutationObserver(function (mutations, observer) {{\n",
       "        var display = window.getComputedStyle(gd).display;\n",
       "        if (!display || display === 'none') {{\n",
       "            console.log([gd, 'removed!']);\n",
       "            Plotly.purge(gd);\n",
       "            observer.disconnect();\n",
       "        }}\n",
       "}});\n",
       "\n",
       "// Listen for the removal of the full notebook cells\n",
       "var notebookContainer = gd.closest('#notebook-container');\n",
       "if (notebookContainer) {{\n",
       "    x.observe(notebookContainer, {childList: true});\n",
       "}}\n",
       "\n",
       "// Listen for the clearing of the current output cell\n",
       "var outputEl = gd.closest('.output');\n",
       "if (outputEl) {{\n",
       "    x.observe(outputEl, {childList: true});\n",
       "}}\n",
       "\n",
       "                        })                };                });            </script>        </div>"
      ]
     },
     "metadata": {},
     "output_type": "display_data"
    }
   ],
   "source": [
    "opt_ctrl_correction_dict = {\"hj_naive\": metrics_hj_naive[\"Mean maximum correction from optimal control degrees\"],\n",
    "                      \"hj_reactive\": metrics_hj_reactive[\"Mean maximum correction from optimal control degrees\"],\n",
    "                      \"flocking\": metrics_hj_flocking[\"Mean maximum correction from optimal control degrees\"]}\n",
    "opt_ctrl_correction_df = pd.DataFrame(opt_ctrl_correction_dict)\n",
    "fig_opt_ctrl_correction = px.box(opt_ctrl_correction_df )\n",
    "# Add custom x and y labels\n",
    "fig_opt_ctrl_correction.update_layout(\n",
    "    xaxis_title=\"controllers\",\n",
    "    yaxis_title=\"degrees\",\n",
    "    title = {'text': \"Control direction correction from optimal input\"}\n",
    ")\n",
    "fig_opt_ctrl_correction.show()"
   ]
  },
  {
   "attachments": {},
   "cell_type": "markdown",
   "metadata": {},
   "source": [
    "+ Isolated Platform Metric"
   ]
  },
  {
   "cell_type": "code",
   "execution_count": 14,
   "metadata": {},
   "outputs": [
    {
     "data": {
      "application/vnd.plotly.v1+json": {
       "config": {
        "plotlyServerURL": "https://plot.ly"
       },
       "data": [
        {
         "alignmentgroup": "True",
         "hovertemplate": "variable=%{x}<br>value=%{y}<extra></extra>",
         "legendgroup": "",
         "marker": {
          "color": "#636efa"
         },
         "name": "",
         "notched": false,
         "offsetgroup": "",
         "orientation": "v",
         "showlegend": false,
         "type": "box",
         "x": [
          "hj_naive",
          "hj_naive",
          "hj_naive",
          "hj_naive",
          "hj_naive",
          "hj_naive",
          "hj_naive",
          "hj_naive",
          "hj_naive",
          "hj_naive",
          "hj_naive",
          "hj_naive",
          "hj_naive",
          "hj_naive",
          "hj_naive",
          "hj_naive",
          "hj_naive",
          "hj_naive",
          "hj_naive",
          "hj_naive",
          "hj_naive",
          "hj_naive",
          "hj_naive",
          "hj_naive",
          "hj_naive",
          "hj_naive",
          "hj_naive",
          "hj_naive",
          "hj_naive",
          "hj_naive",
          "hj_naive",
          "hj_naive",
          "hj_naive",
          "hj_naive",
          "hj_naive",
          "hj_naive",
          "hj_naive",
          "hj_naive",
          "hj_naive",
          "hj_naive",
          "hj_naive",
          "hj_naive",
          "hj_naive",
          "hj_naive",
          "hj_naive",
          "hj_naive",
          "hj_naive",
          "hj_naive",
          "hj_naive",
          "hj_naive",
          "hj_naive",
          "hj_naive",
          "hj_naive",
          "hj_naive",
          "hj_naive",
          "hj_naive",
          "hj_naive",
          "hj_naive",
          "hj_naive",
          "hj_naive",
          "hj_naive",
          "hj_naive",
          "hj_naive",
          "hj_naive",
          "hj_naive",
          "hj_naive",
          "hj_naive",
          "hj_naive",
          "hj_naive",
          "hj_naive",
          "hj_naive",
          "hj_naive",
          "hj_naive",
          "hj_naive",
          "hj_naive",
          "hj_naive",
          "hj_naive",
          "hj_naive",
          "hj_naive",
          "hj_naive",
          "hj_naive",
          "hj_naive",
          "hj_naive",
          "hj_naive",
          "hj_naive",
          "hj_naive",
          "hj_naive",
          "hj_naive",
          "hj_naive",
          "hj_naive",
          "hj_naive",
          "hj_naive",
          "hj_naive",
          "hj_naive",
          "hj_naive",
          "hj_naive",
          "hj_naive",
          "hj_naive",
          "hj_naive",
          "hj_naive",
          "hj_naive",
          "hj_naive",
          "hj_naive",
          "hj_naive",
          "hj_naive",
          "hj_naive",
          "hj_naive",
          "hj_naive",
          "hj_naive",
          "hj_naive",
          "hj_naive",
          "hj_naive",
          "hj_naive",
          "hj_naive",
          "hj_naive",
          "hj_naive",
          "hj_naive",
          "hj_naive",
          "hj_naive",
          "hj_naive",
          "hj_naive",
          "hj_naive",
          "hj_naive",
          "hj_naive",
          "hj_naive",
          "hj_naive",
          "hj_naive",
          "hj_naive",
          "hj_naive",
          "hj_naive",
          "hj_naive",
          "hj_naive",
          "hj_naive",
          "hj_naive",
          "hj_naive",
          "hj_naive",
          "hj_naive",
          "hj_naive",
          "hj_naive",
          "hj_naive",
          "hj_naive",
          "hj_naive",
          "hj_naive",
          "hj_naive",
          "hj_naive",
          "hj_naive",
          "hj_naive",
          "hj_naive",
          "hj_naive",
          "hj_naive",
          "hj_naive",
          "hj_naive",
          "hj_naive",
          "hj_naive",
          "hj_naive",
          "hj_naive",
          "hj_naive",
          "hj_naive",
          "hj_naive",
          "hj_naive",
          "hj_naive",
          "hj_naive",
          "hj_naive",
          "hj_naive",
          "hj_naive",
          "hj_naive",
          "hj_naive",
          "hj_naive",
          "hj_naive",
          "hj_naive",
          "hj_naive",
          "hj_naive",
          "hj_naive",
          "hj_naive",
          "hj_naive",
          "hj_naive",
          "hj_naive",
          "hj_naive",
          "hj_naive",
          "hj_naive",
          "hj_naive",
          "hj_naive",
          "hj_naive",
          "hj_naive",
          "hj_naive",
          "hj_naive",
          "hj_naive",
          "hj_naive",
          "hj_naive",
          "hj_naive",
          "hj_naive",
          "hj_naive",
          "hj_naive",
          "hj_naive",
          "hj_naive",
          "hj_naive",
          "hj_naive",
          "hj_naive",
          "hj_naive",
          "hj_naive",
          "hj_naive",
          "hj_naive",
          "hj_naive",
          "hj_naive",
          "hj_naive",
          "hj_naive",
          "hj_naive",
          "hj_naive",
          "hj_naive",
          "hj_naive",
          "hj_naive",
          "hj_naive",
          "hj_naive",
          "hj_naive",
          "hj_naive",
          "hj_naive",
          "hj_naive",
          "hj_naive",
          "hj_naive",
          "hj_naive",
          "hj_naive",
          "hj_naive",
          "hj_naive",
          "hj_naive",
          "hj_naive",
          "hj_naive",
          "hj_naive",
          "hj_naive",
          "hj_naive",
          "hj_naive",
          "hj_naive",
          "hj_naive",
          "hj_naive",
          "hj_naive",
          "hj_naive",
          "hj_naive",
          "hj_naive",
          "hj_naive",
          "hj_naive",
          "hj_naive",
          "hj_naive",
          "hj_naive",
          "hj_naive",
          "hj_naive",
          "hj_naive",
          "hj_naive",
          "hj_naive",
          "hj_naive",
          "hj_naive",
          "hj_naive",
          "hj_naive",
          "hj_naive",
          "hj_naive",
          "hj_naive",
          "hj_naive",
          "hj_naive",
          "hj_naive",
          "hj_naive",
          "hj_naive",
          "hj_naive",
          "hj_naive",
          "hj_naive",
          "hj_naive",
          "hj_naive",
          "hj_naive",
          "hj_naive",
          "hj_naive",
          "hj_naive",
          "hj_naive",
          "hj_naive",
          "hj_naive",
          "hj_naive",
          "hj_naive",
          "hj_naive",
          "hj_naive",
          "hj_naive",
          "hj_naive",
          "hj_naive",
          "hj_naive",
          "hj_naive",
          "hj_naive",
          "hj_naive",
          "hj_naive",
          "hj_naive",
          "hj_naive",
          "hj_naive",
          "hj_naive",
          "hj_naive",
          "hj_naive",
          "hj_naive",
          "hj_naive",
          "hj_naive",
          "hj_naive",
          "hj_naive",
          "hj_naive",
          "hj_naive",
          "hj_naive",
          "hj_naive",
          "hj_naive",
          "hj_naive",
          "hj_naive",
          "hj_naive",
          "hj_naive",
          "hj_naive",
          "hj_naive",
          "hj_naive",
          "hj_naive",
          "hj_naive",
          "hj_naive",
          "hj_naive",
          "hj_naive",
          "hj_naive",
          "hj_naive",
          "hj_naive",
          "hj_naive",
          "hj_naive",
          "hj_naive",
          "hj_naive",
          "hj_naive",
          "hj_naive",
          "hj_naive",
          "hj_naive",
          "hj_naive",
          "hj_naive",
          "hj_naive",
          "hj_naive",
          "hj_naive",
          "hj_naive",
          "hj_naive",
          "hj_naive",
          "hj_naive",
          "hj_naive",
          "hj_naive",
          "hj_naive",
          "hj_naive",
          "hj_naive",
          "hj_naive",
          "hj_naive",
          "hj_naive",
          "hj_naive",
          "hj_naive",
          "hj_naive",
          "hj_naive",
          "hj_naive",
          "hj_naive",
          "hj_naive",
          "hj_naive",
          "hj_naive",
          "hj_naive",
          "hj_naive",
          "hj_naive",
          "hj_naive",
          "hj_naive",
          "hj_naive",
          "hj_naive",
          "hj_naive",
          "hj_naive",
          "hj_naive",
          "hj_naive",
          "hj_naive",
          "hj_naive",
          "hj_naive",
          "hj_naive",
          "hj_naive",
          "hj_naive",
          "hj_naive",
          "hj_naive",
          "hj_naive",
          "hj_naive",
          "hj_naive",
          "hj_naive",
          "hj_naive",
          "hj_naive",
          "hj_naive",
          "hj_naive",
          "hj_naive",
          "hj_naive",
          "hj_naive",
          "hj_naive",
          "hj_naive",
          "hj_naive",
          "hj_naive",
          "hj_naive",
          "hj_naive",
          "hj_naive",
          "hj_naive",
          "hj_naive",
          "hj_naive",
          "hj_naive",
          "hj_naive",
          "hj_naive",
          "hj_naive",
          "hj_naive",
          "hj_naive",
          "hj_naive",
          "hj_naive",
          "hj_naive",
          "hj_naive",
          "hj_naive",
          "hj_naive",
          "hj_naive",
          "hj_naive",
          "hj_naive",
          "hj_naive",
          "hj_naive",
          "hj_naive",
          "hj_naive",
          "hj_naive",
          "hj_naive",
          "hj_naive",
          "hj_naive",
          "hj_naive",
          "hj_naive",
          "hj_naive",
          "hj_naive",
          "hj_naive",
          "hj_naive",
          "hj_naive",
          "hj_naive",
          "hj_naive",
          "hj_naive",
          "hj_naive",
          "hj_naive",
          "hj_naive",
          "hj_naive",
          "hj_naive",
          "hj_naive",
          "hj_naive",
          "hj_naive",
          "hj_naive",
          "hj_naive",
          "hj_naive",
          "hj_naive",
          "hj_naive",
          "hj_naive",
          "hj_naive",
          "hj_naive",
          "hj_naive",
          "hj_naive",
          "hj_naive",
          "hj_naive",
          "hj_naive",
          "hj_naive",
          "hj_naive",
          "hj_naive",
          "hj_naive",
          "hj_naive",
          "hj_naive",
          "hj_naive",
          "hj_naive",
          "hj_naive",
          "hj_naive",
          "hj_naive",
          "hj_naive",
          "hj_naive",
          "hj_naive",
          "hj_naive",
          "hj_naive",
          "hj_naive",
          "hj_naive",
          "hj_naive",
          "hj_naive",
          "hj_naive",
          "hj_naive",
          "hj_naive",
          "hj_naive",
          "hj_naive",
          "hj_naive",
          "hj_naive",
          "hj_naive",
          "hj_naive",
          "hj_naive",
          "hj_naive",
          "hj_naive",
          "hj_naive",
          "hj_naive",
          "hj_naive",
          "hj_naive",
          "hj_naive",
          "hj_naive",
          "hj_naive",
          "hj_naive",
          "hj_naive",
          "hj_naive",
          "hj_naive",
          "hj_naive",
          "hj_naive",
          "hj_naive",
          "hj_naive",
          "hj_naive",
          "hj_naive",
          "hj_naive",
          "hj_naive",
          "hj_naive",
          "hj_naive",
          "hj_naive",
          "hj_naive",
          "hj_naive",
          "hj_naive",
          "hj_naive",
          "hj_naive",
          "hj_naive",
          "hj_naive",
          "hj_naive",
          "hj_naive",
          "hj_naive",
          "hj_naive",
          "hj_naive",
          "hj_naive",
          "hj_naive",
          "hj_naive",
          "hj_naive",
          "hj_naive",
          "hj_naive",
          "hj_naive",
          "hj_naive",
          "hj_naive",
          "hj_naive",
          "hj_naive",
          "hj_naive",
          "hj_naive",
          "hj_naive",
          "hj_naive",
          "hj_naive",
          "hj_naive",
          "hj_naive",
          "hj_naive",
          "hj_naive",
          "hj_naive",
          "hj_naive",
          "hj_naive",
          "hj_naive",
          "hj_naive",
          "hj_naive",
          "hj_naive",
          "hj_naive",
          "hj_naive",
          "hj_naive",
          "hj_naive",
          "hj_naive",
          "hj_naive",
          "hj_naive",
          "hj_naive",
          "hj_naive",
          "hj_naive",
          "hj_naive",
          "hj_naive",
          "hj_naive",
          "hj_naive",
          "hj_reactive",
          "hj_reactive",
          "hj_reactive",
          "hj_reactive",
          "hj_reactive",
          "hj_reactive",
          "hj_reactive",
          "hj_reactive",
          "hj_reactive",
          "hj_reactive",
          "hj_reactive",
          "hj_reactive",
          "hj_reactive",
          "hj_reactive",
          "hj_reactive",
          "hj_reactive",
          "hj_reactive",
          "hj_reactive",
          "hj_reactive",
          "hj_reactive",
          "hj_reactive",
          "hj_reactive",
          "hj_reactive",
          "hj_reactive",
          "hj_reactive",
          "hj_reactive",
          "hj_reactive",
          "hj_reactive",
          "hj_reactive",
          "hj_reactive",
          "hj_reactive",
          "hj_reactive",
          "hj_reactive",
          "hj_reactive",
          "hj_reactive",
          "hj_reactive",
          "hj_reactive",
          "hj_reactive",
          "hj_reactive",
          "hj_reactive",
          "hj_reactive",
          "hj_reactive",
          "hj_reactive",
          "hj_reactive",
          "hj_reactive",
          "hj_reactive",
          "hj_reactive",
          "hj_reactive",
          "hj_reactive",
          "hj_reactive",
          "hj_reactive",
          "hj_reactive",
          "hj_reactive",
          "hj_reactive",
          "hj_reactive",
          "hj_reactive",
          "hj_reactive",
          "hj_reactive",
          "hj_reactive",
          "hj_reactive",
          "hj_reactive",
          "hj_reactive",
          "hj_reactive",
          "hj_reactive",
          "hj_reactive",
          "hj_reactive",
          "hj_reactive",
          "hj_reactive",
          "hj_reactive",
          "hj_reactive",
          "hj_reactive",
          "hj_reactive",
          "hj_reactive",
          "hj_reactive",
          "hj_reactive",
          "hj_reactive",
          "hj_reactive",
          "hj_reactive",
          "hj_reactive",
          "hj_reactive",
          "hj_reactive",
          "hj_reactive",
          "hj_reactive",
          "hj_reactive",
          "hj_reactive",
          "hj_reactive",
          "hj_reactive",
          "hj_reactive",
          "hj_reactive",
          "hj_reactive",
          "hj_reactive",
          "hj_reactive",
          "hj_reactive",
          "hj_reactive",
          "hj_reactive",
          "hj_reactive",
          "hj_reactive",
          "hj_reactive",
          "hj_reactive",
          "hj_reactive",
          "hj_reactive",
          "hj_reactive",
          "hj_reactive",
          "hj_reactive",
          "hj_reactive",
          "hj_reactive",
          "hj_reactive",
          "hj_reactive",
          "hj_reactive",
          "hj_reactive",
          "hj_reactive",
          "hj_reactive",
          "hj_reactive",
          "hj_reactive",
          "hj_reactive",
          "hj_reactive",
          "hj_reactive",
          "hj_reactive",
          "hj_reactive",
          "hj_reactive",
          "hj_reactive",
          "hj_reactive",
          "hj_reactive",
          "hj_reactive",
          "hj_reactive",
          "hj_reactive",
          "hj_reactive",
          "hj_reactive",
          "hj_reactive",
          "hj_reactive",
          "hj_reactive",
          "hj_reactive",
          "hj_reactive",
          "hj_reactive",
          "hj_reactive",
          "hj_reactive",
          "hj_reactive",
          "hj_reactive",
          "hj_reactive",
          "hj_reactive",
          "hj_reactive",
          "hj_reactive",
          "hj_reactive",
          "hj_reactive",
          "hj_reactive",
          "hj_reactive",
          "hj_reactive",
          "hj_reactive",
          "hj_reactive",
          "hj_reactive",
          "hj_reactive",
          "hj_reactive",
          "hj_reactive",
          "hj_reactive",
          "hj_reactive",
          "hj_reactive",
          "hj_reactive",
          "hj_reactive",
          "hj_reactive",
          "hj_reactive",
          "hj_reactive",
          "hj_reactive",
          "hj_reactive",
          "hj_reactive",
          "hj_reactive",
          "hj_reactive",
          "hj_reactive",
          "hj_reactive",
          "hj_reactive",
          "hj_reactive",
          "hj_reactive",
          "hj_reactive",
          "hj_reactive",
          "hj_reactive",
          "hj_reactive",
          "hj_reactive",
          "hj_reactive",
          "hj_reactive",
          "hj_reactive",
          "hj_reactive",
          "hj_reactive",
          "hj_reactive",
          "hj_reactive",
          "hj_reactive",
          "hj_reactive",
          "hj_reactive",
          "hj_reactive",
          "hj_reactive",
          "hj_reactive",
          "hj_reactive",
          "hj_reactive",
          "hj_reactive",
          "hj_reactive",
          "hj_reactive",
          "hj_reactive",
          "hj_reactive",
          "hj_reactive",
          "hj_reactive",
          "hj_reactive",
          "hj_reactive",
          "hj_reactive",
          "hj_reactive",
          "hj_reactive",
          "hj_reactive",
          "hj_reactive",
          "hj_reactive",
          "hj_reactive",
          "hj_reactive",
          "hj_reactive",
          "hj_reactive",
          "hj_reactive",
          "hj_reactive",
          "hj_reactive",
          "hj_reactive",
          "hj_reactive",
          "hj_reactive",
          "hj_reactive",
          "hj_reactive",
          "hj_reactive",
          "hj_reactive",
          "hj_reactive",
          "hj_reactive",
          "hj_reactive",
          "hj_reactive",
          "hj_reactive",
          "hj_reactive",
          "hj_reactive",
          "hj_reactive",
          "hj_reactive",
          "hj_reactive",
          "hj_reactive",
          "hj_reactive",
          "hj_reactive",
          "hj_reactive",
          "hj_reactive",
          "hj_reactive",
          "hj_reactive",
          "hj_reactive",
          "hj_reactive",
          "hj_reactive",
          "hj_reactive",
          "hj_reactive",
          "hj_reactive",
          "hj_reactive",
          "hj_reactive",
          "hj_reactive",
          "hj_reactive",
          "hj_reactive",
          "hj_reactive",
          "hj_reactive",
          "hj_reactive",
          "hj_reactive",
          "hj_reactive",
          "hj_reactive",
          "hj_reactive",
          "hj_reactive",
          "hj_reactive",
          "hj_reactive",
          "hj_reactive",
          "hj_reactive",
          "hj_reactive",
          "hj_reactive",
          "hj_reactive",
          "hj_reactive",
          "hj_reactive",
          "hj_reactive",
          "hj_reactive",
          "hj_reactive",
          "hj_reactive",
          "hj_reactive",
          "hj_reactive",
          "hj_reactive",
          "hj_reactive",
          "hj_reactive",
          "hj_reactive",
          "hj_reactive",
          "hj_reactive",
          "hj_reactive",
          "hj_reactive",
          "hj_reactive",
          "hj_reactive",
          "hj_reactive",
          "hj_reactive",
          "hj_reactive",
          "hj_reactive",
          "hj_reactive",
          "hj_reactive",
          "hj_reactive",
          "hj_reactive",
          "hj_reactive",
          "hj_reactive",
          "hj_reactive",
          "hj_reactive",
          "hj_reactive",
          "hj_reactive",
          "hj_reactive",
          "hj_reactive",
          "hj_reactive",
          "hj_reactive",
          "hj_reactive",
          "hj_reactive",
          "hj_reactive",
          "hj_reactive",
          "hj_reactive",
          "hj_reactive",
          "hj_reactive",
          "hj_reactive",
          "hj_reactive",
          "hj_reactive",
          "hj_reactive",
          "hj_reactive",
          "hj_reactive",
          "hj_reactive",
          "hj_reactive",
          "hj_reactive",
          "hj_reactive",
          "hj_reactive",
          "hj_reactive",
          "hj_reactive",
          "hj_reactive",
          "hj_reactive",
          "hj_reactive",
          "hj_reactive",
          "hj_reactive",
          "hj_reactive",
          "hj_reactive",
          "hj_reactive",
          "hj_reactive",
          "hj_reactive",
          "hj_reactive",
          "hj_reactive",
          "hj_reactive",
          "hj_reactive",
          "hj_reactive",
          "hj_reactive",
          "hj_reactive",
          "hj_reactive",
          "hj_reactive",
          "hj_reactive",
          "hj_reactive",
          "hj_reactive",
          "hj_reactive",
          "hj_reactive",
          "hj_reactive",
          "hj_reactive",
          "hj_reactive",
          "hj_reactive",
          "hj_reactive",
          "hj_reactive",
          "hj_reactive",
          "hj_reactive",
          "hj_reactive",
          "hj_reactive",
          "hj_reactive",
          "hj_reactive",
          "hj_reactive",
          "hj_reactive",
          "hj_reactive",
          "hj_reactive",
          "hj_reactive",
          "hj_reactive",
          "hj_reactive",
          "hj_reactive",
          "hj_reactive",
          "hj_reactive",
          "hj_reactive",
          "hj_reactive",
          "hj_reactive",
          "hj_reactive",
          "hj_reactive",
          "hj_reactive",
          "hj_reactive",
          "hj_reactive",
          "hj_reactive",
          "hj_reactive",
          "hj_reactive",
          "hj_reactive",
          "hj_reactive",
          "hj_reactive",
          "hj_reactive",
          "hj_reactive",
          "hj_reactive",
          "hj_reactive",
          "hj_reactive",
          "hj_reactive",
          "hj_reactive",
          "hj_reactive",
          "hj_reactive",
          "hj_reactive",
          "hj_reactive",
          "hj_reactive",
          "hj_reactive",
          "hj_reactive",
          "hj_reactive",
          "hj_reactive",
          "hj_reactive",
          "hj_reactive",
          "hj_reactive",
          "hj_reactive",
          "hj_reactive",
          "hj_reactive",
          "hj_reactive",
          "hj_reactive",
          "hj_reactive",
          "hj_reactive",
          "hj_reactive",
          "hj_reactive",
          "hj_reactive",
          "hj_reactive",
          "hj_reactive",
          "hj_reactive",
          "hj_reactive",
          "hj_reactive",
          "hj_reactive",
          "hj_reactive",
          "hj_reactive",
          "hj_reactive",
          "hj_reactive",
          "hj_reactive",
          "hj_reactive",
          "hj_reactive",
          "hj_reactive",
          "hj_reactive",
          "hj_reactive",
          "hj_reactive",
          "hj_reactive",
          "hj_reactive",
          "hj_reactive",
          "hj_reactive",
          "hj_reactive",
          "hj_reactive",
          "hj_reactive",
          "hj_reactive",
          "hj_reactive",
          "hj_reactive",
          "hj_reactive",
          "hj_reactive",
          "hj_reactive",
          "hj_reactive",
          "hj_reactive",
          "hj_reactive",
          "hj_reactive",
          "hj_reactive",
          "hj_reactive",
          "hj_reactive",
          "hj_reactive",
          "hj_reactive",
          "hj_reactive",
          "hj_reactive",
          "hj_reactive",
          "hj_reactive",
          "hj_reactive",
          "hj_reactive",
          "hj_reactive",
          "hj_reactive",
          "hj_reactive",
          "hj_reactive",
          "hj_reactive",
          "hj_reactive",
          "hj_reactive",
          "hj_reactive",
          "hj_reactive",
          "hj_reactive",
          "hj_reactive",
          "hj_reactive",
          "hj_reactive",
          "hj_reactive",
          "hj_reactive",
          "hj_reactive",
          "hj_reactive",
          "hj_reactive",
          "hj_reactive",
          "hj_reactive",
          "hj_reactive",
          "hj_reactive",
          "hj_reactive",
          "hj_reactive",
          "hj_reactive",
          "hj_reactive",
          "hj_reactive",
          "hj_reactive",
          "hj_reactive",
          "hj_reactive",
          "hj_reactive",
          "hj_reactive",
          "hj_reactive",
          "hj_reactive",
          "hj_reactive",
          "hj_reactive",
          "hj_reactive",
          "hj_reactive",
          "hj_reactive",
          "hj_reactive",
          "hj_reactive",
          "hj_reactive",
          "hj_reactive",
          "hj_reactive",
          "hj_reactive",
          "hj_reactive",
          "hj_reactive",
          "hj_reactive",
          "hj_reactive",
          "hj_reactive",
          "hj_reactive",
          "hj_reactive",
          "hj_reactive",
          "hj_reactive",
          "hj_reactive",
          "hj_reactive",
          "hj_reactive",
          "hj_reactive",
          "hj_reactive",
          "hj_reactive",
          "hj_reactive",
          "hj_reactive",
          "hj_reactive",
          "hj_reactive",
          "hj_reactive",
          "hj_reactive",
          "hj_reactive",
          "hj_reactive",
          "hj_reactive",
          "hj_reactive",
          "hj_reactive",
          "hj_reactive",
          "hj_reactive",
          "hj_reactive",
          "hj_reactive",
          "hj_reactive",
          "hj_reactive",
          "hj_reactive",
          "hj_reactive",
          "hj_reactive",
          "hj_reactive",
          "hj_reactive",
          "hj_reactive",
          "hj_reactive",
          "hj_reactive",
          "hj_reactive",
          "hj_reactive",
          "hj_reactive",
          "hj_reactive",
          "hj_reactive",
          "hj_reactive",
          "hj_reactive",
          "hj_reactive",
          "hj_reactive",
          "hj_reactive",
          "hj_reactive",
          "flocking",
          "flocking",
          "flocking",
          "flocking",
          "flocking",
          "flocking",
          "flocking",
          "flocking",
          "flocking",
          "flocking",
          "flocking",
          "flocking",
          "flocking",
          "flocking",
          "flocking",
          "flocking",
          "flocking",
          "flocking",
          "flocking",
          "flocking",
          "flocking",
          "flocking",
          "flocking",
          "flocking",
          "flocking",
          "flocking",
          "flocking",
          "flocking",
          "flocking",
          "flocking",
          "flocking",
          "flocking",
          "flocking",
          "flocking",
          "flocking",
          "flocking",
          "flocking",
          "flocking",
          "flocking",
          "flocking",
          "flocking",
          "flocking",
          "flocking",
          "flocking",
          "flocking",
          "flocking",
          "flocking",
          "flocking",
          "flocking",
          "flocking",
          "flocking",
          "flocking",
          "flocking",
          "flocking",
          "flocking",
          "flocking",
          "flocking",
          "flocking",
          "flocking",
          "flocking",
          "flocking",
          "flocking",
          "flocking",
          "flocking",
          "flocking",
          "flocking",
          "flocking",
          "flocking",
          "flocking",
          "flocking",
          "flocking",
          "flocking",
          "flocking",
          "flocking",
          "flocking",
          "flocking",
          "flocking",
          "flocking",
          "flocking",
          "flocking",
          "flocking",
          "flocking",
          "flocking",
          "flocking",
          "flocking",
          "flocking",
          "flocking",
          "flocking",
          "flocking",
          "flocking",
          "flocking",
          "flocking",
          "flocking",
          "flocking",
          "flocking",
          "flocking",
          "flocking",
          "flocking",
          "flocking",
          "flocking",
          "flocking",
          "flocking",
          "flocking",
          "flocking",
          "flocking",
          "flocking",
          "flocking",
          "flocking",
          "flocking",
          "flocking",
          "flocking",
          "flocking",
          "flocking",
          "flocking",
          "flocking",
          "flocking",
          "flocking",
          "flocking",
          "flocking",
          "flocking",
          "flocking",
          "flocking",
          "flocking",
          "flocking",
          "flocking",
          "flocking",
          "flocking",
          "flocking",
          "flocking",
          "flocking",
          "flocking",
          "flocking",
          "flocking",
          "flocking",
          "flocking",
          "flocking",
          "flocking",
          "flocking",
          "flocking",
          "flocking",
          "flocking",
          "flocking",
          "flocking",
          "flocking",
          "flocking",
          "flocking",
          "flocking",
          "flocking",
          "flocking",
          "flocking",
          "flocking",
          "flocking",
          "flocking",
          "flocking",
          "flocking",
          "flocking",
          "flocking",
          "flocking",
          "flocking",
          "flocking",
          "flocking",
          "flocking",
          "flocking",
          "flocking",
          "flocking",
          "flocking",
          "flocking",
          "flocking",
          "flocking",
          "flocking",
          "flocking",
          "flocking",
          "flocking",
          "flocking",
          "flocking",
          "flocking",
          "flocking",
          "flocking",
          "flocking",
          "flocking",
          "flocking",
          "flocking",
          "flocking",
          "flocking",
          "flocking",
          "flocking",
          "flocking",
          "flocking",
          "flocking",
          "flocking",
          "flocking",
          "flocking",
          "flocking",
          "flocking",
          "flocking",
          "flocking",
          "flocking",
          "flocking",
          "flocking",
          "flocking",
          "flocking",
          "flocking",
          "flocking",
          "flocking",
          "flocking",
          "flocking",
          "flocking",
          "flocking",
          "flocking",
          "flocking",
          "flocking",
          "flocking",
          "flocking",
          "flocking",
          "flocking",
          "flocking",
          "flocking",
          "flocking",
          "flocking",
          "flocking",
          "flocking",
          "flocking",
          "flocking",
          "flocking",
          "flocking",
          "flocking",
          "flocking",
          "flocking",
          "flocking",
          "flocking",
          "flocking",
          "flocking",
          "flocking",
          "flocking",
          "flocking",
          "flocking",
          "flocking",
          "flocking",
          "flocking",
          "flocking",
          "flocking",
          "flocking",
          "flocking",
          "flocking",
          "flocking",
          "flocking",
          "flocking",
          "flocking",
          "flocking",
          "flocking",
          "flocking",
          "flocking",
          "flocking",
          "flocking",
          "flocking",
          "flocking",
          "flocking",
          "flocking",
          "flocking",
          "flocking",
          "flocking",
          "flocking",
          "flocking",
          "flocking",
          "flocking",
          "flocking",
          "flocking",
          "flocking",
          "flocking",
          "flocking",
          "flocking",
          "flocking",
          "flocking",
          "flocking",
          "flocking",
          "flocking",
          "flocking",
          "flocking",
          "flocking",
          "flocking",
          "flocking",
          "flocking",
          "flocking",
          "flocking",
          "flocking",
          "flocking",
          "flocking",
          "flocking",
          "flocking",
          "flocking",
          "flocking",
          "flocking",
          "flocking",
          "flocking",
          "flocking",
          "flocking",
          "flocking",
          "flocking",
          "flocking",
          "flocking",
          "flocking",
          "flocking",
          "flocking",
          "flocking",
          "flocking",
          "flocking",
          "flocking",
          "flocking",
          "flocking",
          "flocking",
          "flocking",
          "flocking",
          "flocking",
          "flocking",
          "flocking",
          "flocking",
          "flocking",
          "flocking",
          "flocking",
          "flocking",
          "flocking",
          "flocking",
          "flocking",
          "flocking",
          "flocking",
          "flocking",
          "flocking",
          "flocking",
          "flocking",
          "flocking",
          "flocking",
          "flocking",
          "flocking",
          "flocking",
          "flocking",
          "flocking",
          "flocking",
          "flocking",
          "flocking",
          "flocking",
          "flocking",
          "flocking",
          "flocking",
          "flocking",
          "flocking",
          "flocking",
          "flocking",
          "flocking",
          "flocking",
          "flocking",
          "flocking",
          "flocking",
          "flocking",
          "flocking",
          "flocking",
          "flocking",
          "flocking",
          "flocking",
          "flocking",
          "flocking",
          "flocking",
          "flocking",
          "flocking",
          "flocking",
          "flocking",
          "flocking",
          "flocking",
          "flocking",
          "flocking",
          "flocking",
          "flocking",
          "flocking",
          "flocking",
          "flocking",
          "flocking",
          "flocking",
          "flocking",
          "flocking",
          "flocking",
          "flocking",
          "flocking",
          "flocking",
          "flocking",
          "flocking",
          "flocking",
          "flocking",
          "flocking",
          "flocking",
          "flocking",
          "flocking",
          "flocking",
          "flocking",
          "flocking",
          "flocking",
          "flocking",
          "flocking",
          "flocking",
          "flocking",
          "flocking",
          "flocking",
          "flocking",
          "flocking",
          "flocking",
          "flocking",
          "flocking",
          "flocking",
          "flocking",
          "flocking",
          "flocking",
          "flocking",
          "flocking",
          "flocking",
          "flocking",
          "flocking",
          "flocking",
          "flocking",
          "flocking",
          "flocking",
          "flocking",
          "flocking",
          "flocking",
          "flocking",
          "flocking",
          "flocking",
          "flocking",
          "flocking",
          "flocking",
          "flocking",
          "flocking",
          "flocking",
          "flocking",
          "flocking",
          "flocking",
          "flocking",
          "flocking",
          "flocking",
          "flocking",
          "flocking",
          "flocking",
          "flocking",
          "flocking",
          "flocking",
          "flocking",
          "flocking",
          "flocking",
          "flocking",
          "flocking",
          "flocking",
          "flocking",
          "flocking",
          "flocking",
          "flocking",
          "flocking",
          "flocking",
          "flocking",
          "flocking",
          "flocking",
          "flocking",
          "flocking",
          "flocking",
          "flocking",
          "flocking",
          "flocking",
          "flocking",
          "flocking",
          "flocking",
          "flocking",
          "flocking",
          "flocking",
          "flocking",
          "flocking",
          "flocking",
          "flocking",
          "flocking",
          "flocking",
          "flocking",
          "flocking",
          "flocking",
          "flocking",
          "flocking",
          "flocking",
          "flocking",
          "flocking",
          "flocking",
          "flocking",
          "flocking",
          "flocking",
          "flocking",
          "flocking",
          "flocking",
          "flocking",
          "flocking",
          "flocking",
          "flocking",
          "flocking",
          "flocking",
          "flocking",
          "flocking",
          "flocking",
          "flocking",
          "flocking",
          "flocking",
          "flocking",
          "flocking",
          "flocking",
          "flocking",
          "flocking",
          "flocking",
          "flocking",
          "flocking",
          "flocking",
          "flocking",
          "flocking",
          "flocking",
          "flocking",
          "flocking",
          "flocking",
          "flocking",
          "flocking",
          "flocking",
          "flocking",
          "flocking",
          "flocking",
          "flocking",
          "flocking",
          "flocking",
          "flocking",
          "flocking",
          "flocking",
          "flocking",
          "flocking",
          "flocking",
          "flocking",
          "flocking",
          "flocking",
          "flocking",
          "flocking",
          "flocking",
          "flocking",
          "flocking",
          "flocking",
          "flocking",
          "flocking",
          "flocking",
          "flocking",
          "flocking",
          "flocking",
          "flocking",
          "flocking"
         ],
         "x0": " ",
         "xaxis": "x",
         "y": [
          0.8439814814814814,
          0.5796296296296296,
          0,
          0,
          0.525,
          0.95,
          0,
          0,
          0.4134259259259259,
          0,
          0.162037037037037,
          1,
          0,
          1.162037037037037,
          0.3976851851851852,
          0,
          0.2662037037037037,
          0,
          0,
          0.4074074074074074,
          0,
          0,
          0,
          0,
          0,
          0.7861111111111111,
          0,
          0,
          0,
          1.2027777777777775,
          0.8851851851851852,
          0,
          0,
          1.7546296296296295,
          0,
          0,
          0,
          0.2527777777777777,
          0,
          0,
          0.4796296296296296,
          1.173148148148148,
          0,
          0.5717592592592593,
          0,
          0.0805555555555555,
          0.9717592592592592,
          0.0356481481481481,
          0,
          0,
          0.1416666666666666,
          0,
          0,
          1.1847222222222222,
          0.8449074074074074,
          0,
          0,
          0,
          0.3259259259259259,
          0,
          1.6879629629629629,
          0,
          0,
          0,
          0.1453703703703703,
          0,
          0.5212962962962963,
          0,
          0.8222222222222222,
          1.2472222222222222,
          0.9745370370370372,
          1.0185185185185186,
          0.6972222222222222,
          0.049537037037037,
          1.5574074074074074,
          0,
          0.024537037037037,
          0,
          0.1578703703703703,
          0,
          0,
          0.9814814814814816,
          0,
          0.3671296296296296,
          0.2824074074074074,
          0,
          0,
          1.0106481481481482,
          1.611574074074074,
          0,
          0.9722222222222222,
          0.4356481481481482,
          0.924537037037037,
          0.9699074074074074,
          1.7194444444444446,
          1.7555555555555555,
          0.7865740740740741,
          0,
          0,
          0,
          0,
          0,
          1.249074074074074,
          0,
          0.2361111111111111,
          0,
          0,
          0,
          0.6185185185185185,
          0,
          0.5388888888888889,
          0.9254629629629628,
          0.9907407407407408,
          0,
          0,
          0.2018518518518518,
          0,
          0,
          0,
          0,
          1.0611111111111111,
          0,
          0,
          0,
          0,
          0.9027777777777778,
          0.249537037037037,
          0,
          0.549537037037037,
          1.1949074074074073,
          0.4560185185185185,
          0.1726851851851852,
          0,
          0,
          0,
          0,
          0,
          0,
          0,
          2.3023148148148147,
          0,
          0,
          0,
          0,
          0.6768518518518518,
          0,
          0,
          0,
          0,
          3.287037037037037,
          0,
          0,
          0,
          0,
          0,
          0,
          0,
          0,
          0,
          0,
          1.5166666666666666,
          1.0611111111111111,
          0.9523148148148148,
          0.4685185185185185,
          0.937037037037037,
          1.2837962962962963,
          0.638425925925926,
          0,
          0,
          0,
          0.963425925925926,
          0,
          0.9555555555555556,
          0,
          0.9050925925925926,
          0,
          0,
          0.486574074074074,
          0.2643518518518518,
          0.4916666666666666,
          0,
          0.5388888888888889,
          0,
          0,
          0,
          0,
          0,
          0.1273148148148148,
          0.7671296296296296,
          0.0476851851851851,
          0,
          2.5032407407407407,
          0,
          0,
          1.4287037037037038,
          0,
          0.1421296296296296,
          0,
          0,
          0,
          0.2976851851851851,
          0,
          1.236574074074074,
          0,
          0.5638888888888889,
          0,
          0,
          null,
          0.3773148148148148,
          0,
          1.011111111111111,
          0.2166666666666666,
          0.0412037037037037,
          0,
          0.6597222222222222,
          0.3074074074074074,
          1.1824074074074074,
          0.1,
          0,
          0,
          0,
          0.4712962962962962,
          0.2717592592592592,
          0,
          0,
          0,
          0,
          0,
          0.7217592592592592,
          0.0523148148148148,
          0,
          0,
          0.4453703703703703,
          0.963425925925926,
          0,
          0.1685185185185185,
          0,
          0.7240740740740741,
          0,
          0.0439814814814814,
          0.549074074074074,
          0,
          0,
          0,
          0.2805555555555555,
          0.3712962962962963,
          0.4587962962962963,
          0,
          0,
          0.3296296296296296,
          0.8175925925925925,
          0.5055555555555555,
          0.2583333333333333,
          0.7675925925925926,
          0.5643518518518519,
          0,
          0,
          0.1004629629629629,
          0,
          0,
          0,
          0,
          0.1342592592592592,
          0.4509259259259259,
          0,
          0,
          0,
          1.1583333333333334,
          0,
          0,
          0,
          1.2023148148148148,
          0.086574074074074,
          0,
          1.489814814814815,
          0,
          0,
          0.3027777777777777,
          0.7222222222222222,
          0,
          0,
          1.1935185185185184,
          0,
          0,
          0,
          0,
          0.1421296296296296,
          0,
          0,
          0,
          0.4712962962962962,
          0.8791666666666667,
          0,
          0,
          0,
          0,
          0,
          0.0856481481481481,
          0.5523148148148148,
          0,
          0,
          0.7546296296296297,
          0,
          0,
          0.3194444444444444,
          0,
          0.0888888888888888,
          0,
          0,
          1.6083333333333334,
          1,
          0,
          0.2490740740740741,
          0.4481481481481481,
          0.4324074074074074,
          0.7949074074074074,
          0.2217592592592592,
          2.807407407407408,
          0,
          0,
          0.736574074074074,
          0.4606481481481481,
          0,
          0.0601851851851851,
          0.0773148148148148,
          1.523611111111111,
          0.799537037037037,
          0,
          0.424074074074074,
          0,
          0.424074074074074,
          0.7870370370370371,
          0.1768518518518518,
          0,
          0,
          0,
          0.1416666666666666,
          0,
          0.5310185185185186,
          0,
          0,
          1,
          0.0328703703703703,
          0,
          0.0555555555555555,
          0,
          0,
          2.573148148148148,
          0,
          1.7967592592592592,
          0.3263888888888889,
          0,
          0,
          0.3388888888888889,
          0,
          0,
          0.5148148148148148,
          0,
          2.462962962962963,
          0,
          0.2949074074074074,
          0,
          0.25,
          1.414351851851852,
          0,
          0.8333333333333334,
          0,
          0,
          1.3157407407407409,
          0,
          0.0356481481481481,
          0.15,
          1.980555555555556,
          0,
          1.1,
          0,
          0,
          0,
          0.7601851851851852,
          0,
          0.4509259259259259,
          0.1277777777777777,
          0.2083333333333333,
          0.0546296296296296,
          0.911574074074074,
          0.024537037037037,
          0.5990740740740741,
          0,
          0,
          0,
          0,
          0.5425925925925926,
          0,
          0,
          0,
          0,
          0.4648148148148148,
          0.0337962962962962,
          0.6111111111111112,
          0,
          0.1546296296296296,
          0.9120370370370372,
          0.5217592592592593,
          0.7939814814814815,
          0,
          0,
          0.1435185185185185,
          0.6106481481481482,
          0,
          0,
          0,
          0.3861111111111111,
          0.1462962962962962,
          0.8962962962962963,
          0,
          0.4425925925925926,
          0,
          0,
          0.7865740740740741,
          0,
          0.1851851851851851,
          0,
          0,
          0,
          0.337037037037037,
          0,
          0.1587962962962963,
          0.4759259259259259,
          0.5444444444444444,
          0.0662037037037037,
          0.1185185185185185,
          0,
          0.0050925925925925,
          0,
          0.924537037037037,
          0.825,
          0.1231481481481481,
          0,
          0.935648148148148,
          0,
          0,
          0.1666666666666666,
          1.325925925925926,
          1.4722222222222223,
          0.8162037037037037,
          0.3379629629629629,
          0.0606481481481481,
          0,
          0,
          0.6777777777777778,
          0.1666666666666666,
          1.647222222222222,
          0,
          0,
          0.8560185185185185,
          0.449074074074074,
          0.9212962962962964,
          0.1254629629629629,
          0.9694444444444444,
          0,
          2.9944444444444445,
          0,
          1.6990740740740742,
          0.8236111111111111,
          0,
          0,
          0,
          0,
          0.5583333333333333,
          0,
          0,
          0,
          0,
          0,
          0,
          0,
          0,
          0,
          0,
          1.2055555555555555,
          0,
          0.0527777777777777,
          0,
          0,
          0.5689814814814815,
          0.3777777777777777,
          0,
          0,
          0.3884259259259259,
          0.5699074074074074,
          0.0226851851851851,
          0.1768518518518518,
          0.4592592592592592,
          0,
          0,
          0,
          0,
          0,
          1.3439814814814814,
          0.9453703703703704,
          0.6810185185185185,
          0,
          0,
          0,
          0,
          0,
          0,
          1.223148148148148,
          0,
          0,
          0.175,
          0.3666666666666666,
          0,
          0.074537037037037,
          0.2222222222222222,
          1.760185185185185,
          0.6972222222222222,
          0.0476851851851851,
          1.209722222222222,
          0,
          1.1,
          2.323148148148148,
          0.4444444444444444,
          0.3453703703703704,
          0,
          0,
          0,
          0.6222222222222222,
          0.9194444444444444,
          0.9449074074074074,
          0.036574074074074,
          0.5587962962962963,
          0,
          0,
          0,
          0.0773148148148148,
          0.6643518518518519,
          0,
          0,
          0,
          1.024537037037037,
          0.2712962962962963,
          0,
          0.0523148148148148,
          0,
          0,
          0.1754629629629629,
          0,
          0,
          0,
          0.8138888888888889,
          0,
          0.4185185185185185,
          0,
          0,
          0,
          0,
          0.5310185185185186,
          0,
          0.1129629629629629,
          0.4583333333333333,
          0.0393518518518518,
          0.0199074074074074,
          0.8143518518518519,
          0,
          0,
          0,
          0.0578703703703703,
          0,
          0,
          0.2712962962962963,
          0,
          0,
          0,
          0,
          0,
          0,
          0.3189814814814815,
          0,
          0,
          0,
          0.0287037037037037,
          0,
          0,
          0.2305555555555555,
          0,
          0,
          0,
          0,
          0,
          0.0185185185185185,
          0.5333333333333333,
          0,
          0,
          0,
          0,
          0,
          0.0888888888888888,
          0.3384259259259259,
          0,
          0,
          0,
          0,
          0,
          0.7222222222222222,
          0,
          0,
          0,
          0.0472222222222222,
          0,
          0,
          0.2027777777777777,
          0,
          0,
          0.1532407407407407,
          0,
          0.6078703703703704,
          0.8717592592592592,
          0,
          0.7981481481481482,
          0.6064814814814815,
          0,
          0.2023148148148148,
          0.0143518518518518,
          0.0143518518518518,
          0,
          0,
          0,
          0,
          0.2106481481481481,
          0.0217592592592592,
          0,
          0,
          0,
          0.899537037037037,
          0,
          0,
          0,
          0,
          0.1009259259259259,
          0.9856481481481482,
          0.7425925925925926,
          0,
          0,
          0,
          0.8194444444444444,
          0.1439814814814815,
          0.0217592592592592,
          0,
          0,
          0.9032407407407408,
          0,
          0,
          0,
          0,
          0,
          0,
          0,
          0,
          0.787962962962963,
          0,
          0.3074074074074074,
          0,
          0,
          0,
          0,
          0,
          0,
          0,
          0,
          0,
          0,
          0.0106481481481481,
          0,
          0.4305555555555556,
          0,
          0,
          0,
          0.3111111111111111,
          0,
          0,
          0.0171296296296296,
          0.7356481481481482,
          0.1194444444444444,
          0,
          0,
          0,
          0,
          0.2759259259259259,
          0,
          0,
          0,
          0,
          0,
          0.6162037037037037,
          0,
          0,
          0,
          0,
          0,
          0.8162037037037037,
          0,
          0,
          0,
          0,
          0,
          0,
          0,
          0,
          0.3810185185185185,
          0,
          0,
          0,
          0.7578703703703704,
          0,
          0,
          0.0087962962962962,
          0,
          0,
          0,
          0,
          0.6523148148148148,
          0,
          0.850462962962963,
          0.2962962962962963,
          0,
          0.0467592592592592,
          0.0550925925925925,
          0,
          0,
          0,
          0,
          0,
          0,
          0,
          0,
          0,
          0,
          0,
          1,
          0.7560185185185185,
          0,
          0,
          0,
          0,
          0,
          0,
          0,
          0.0550925925925925,
          0,
          0.0217592592592592,
          0.8069444444444445,
          0,
          0,
          0.0134259259259259,
          0,
          0,
          0,
          0,
          0,
          0.1694444444444444,
          0.0199074074074074,
          0,
          0.938425925925926,
          0.2361111111111111,
          0,
          0,
          0,
          0,
          0,
          0,
          0,
          0,
          0,
          0.0217592592592592,
          0,
          0,
          0,
          0,
          0.5611111111111111,
          0,
          0,
          0.2592592592592592,
          0,
          0.0171296296296296,
          0.9662037037037036,
          0,
          0.7777777777777778,
          0,
          0,
          0,
          0,
          0.1444444444444444,
          0,
          0,
          0,
          0,
          0,
          0,
          0,
          0.262037037037037,
          0,
          0,
          0,
          0,
          0.0606481481481481,
          0,
          0.1166666666666666,
          0,
          0,
          0,
          0,
          0,
          0,
          0.0722222222222222,
          0,
          0,
          0.0851851851851851,
          0,
          0,
          0.0939814814814814,
          0.1,
          0,
          0.8245370370370371,
          0,
          0,
          0.4763888888888888,
          0.6648148148148149,
          0,
          0,
          0,
          0,
          0,
          0,
          0.2851851851851852,
          0.4296296296296296,
          0,
          0.4421296296296296,
          0.0254629629629629,
          0,
          0,
          0,
          0,
          0.0226851851851851,
          0,
          0,
          0,
          0,
          0,
          0,
          0,
          0,
          0.5023148148148148,
          0.0472222222222222,
          0,
          0,
          0,
          0,
          0,
          0,
          0,
          0,
          1,
          0,
          0.8050925925925926,
          0,
          0.6717592592592593,
          0.0162037037037037,
          0,
          0,
          0,
          0.512962962962963,
          0,
          0.7888888888888889,
          0.0356481481481481,
          0.788425925925926,
          0,
          0,
          0,
          0,
          0,
          0.4777777777777778,
          0.0861111111111111,
          0.3824074074074074,
          0,
          0,
          0.0171296296296296,
          0,
          0,
          0,
          0,
          0,
          0,
          0,
          0.6851851851851852,
          0.1583333333333333,
          0,
          0.9305555555555556,
          0.5810185185185185,
          0,
          0,
          0,
          0,
          0,
          0,
          0,
          0,
          0.0916666666666666,
          0,
          0,
          0,
          0.5157407407407407,
          0,
          0,
          0.7643518518518518,
          0,
          0,
          0.5527777777777778,
          0,
          0,
          0.924537037037037,
          0,
          0,
          0.4888888888888889,
          0,
          0.4462962962962963,
          0,
          0,
          0.1606481481481481,
          0.1412037037037037,
          0,
          0,
          0,
          0.3555555555555555,
          0.6592592592592592,
          0,
          0,
          0,
          0.7449074074074075,
          0.2356481481481481,
          0,
          0,
          0,
          0,
          0.7638888888888888,
          0,
          0,
          0,
          0,
          0,
          0,
          0,
          0.2703703703703703,
          0.6106481481481482,
          0,
          0,
          0.0037037037037037,
          0,
          0.1472222222222222,
          0,
          0,
          0,
          0.4703703703703704,
          0,
          0,
          0,
          0,
          0,
          0,
          0,
          0.6606481481481481,
          0.3777777777777777,
          0.6703703703703704,
          0,
          0,
          0,
          0,
          0,
          0,
          0,
          0,
          0,
          0,
          0.4259259259259259,
          0,
          0.0171296296296296,
          0,
          0,
          0,
          0.362962962962963,
          0,
          0,
          0,
          0,
          0,
          0.0972222222222222,
          0,
          0,
          0.3407407407407407,
          0,
          0,
          0,
          0.7379629629629629,
          0.7189814814814814,
          0,
          0,
          0.3722222222222222,
          0,
          0,
          0,
          0.2425925925925925,
          0,
          0,
          0,
          0.8134259259259259,
          0,
          0,
          0,
          0,
          0,
          0,
          0,
          0,
          0,
          0.161574074074074,
          0,
          0,
          0,
          0,
          0,
          0,
          0,
          0,
          0,
          0,
          0,
          0,
          0,
          0,
          0,
          0,
          0,
          0.4,
          0,
          0,
          0,
          0,
          0,
          0,
          0,
          0,
          0,
          0,
          0,
          0.0171296296296296,
          0.0439814814814814,
          0,
          0.3467592592592592,
          0,
          0.1685185185185185,
          0,
          0,
          0,
          0.3148148148148148,
          0,
          0.8439814814814814,
          0.0328703703703703,
          0,
          0.5393518518518519,
          0,
          0,
          0,
          0,
          0,
          0,
          0.0444444444444444,
          0.0217592592592592,
          0.3634259259259259,
          0,
          0,
          0,
          0.0888888888888888,
          0,
          0,
          0.6833333333333333,
          0.5449074074074074,
          0,
          0,
          0,
          0,
          0.861574074074074,
          0,
          0,
          0,
          0.0421296296296296,
          0,
          0,
          null,
          0,
          0.0476851851851851,
          0,
          0,
          0,
          0,
          0,
          0,
          0,
          0,
          0,
          0,
          0.011574074074074,
          0,
          0.1856481481481481,
          0.0449074074074074,
          0,
          0,
          0,
          0,
          0,
          0,
          0,
          0,
          0,
          0,
          0,
          0,
          0,
          0.0212962962962962,
          0,
          0,
          0,
          0,
          0,
          0,
          0,
          0,
          0,
          0,
          0,
          0,
          0,
          0,
          0,
          0,
          0,
          0,
          0.0143518518518518,
          0,
          0,
          0,
          0,
          0,
          0,
          0,
          0,
          0,
          0,
          0,
          0.0351851851851851,
          0,
          0,
          0,
          0,
          0,
          0,
          0,
          0,
          0,
          0,
          0.0439814814814814,
          0,
          0,
          0.0143518518518518,
          0.0134259259259259,
          0,
          0.0189814814814814,
          0,
          0,
          0,
          0,
          0,
          0,
          0,
          0.0134259259259259,
          0,
          0,
          0,
          0,
          0,
          0,
          0,
          1,
          0,
          0,
          0,
          0,
          0,
          0.0300925925925925,
          0,
          0,
          0,
          0,
          0,
          0,
          0,
          0,
          0,
          0,
          0,
          0,
          0,
          0,
          0,
          0,
          0,
          0,
          0,
          0,
          0,
          0,
          0,
          0,
          0,
          0,
          0.0106481481481481,
          0,
          0.011574074074074,
          0.011574074074074,
          0,
          0,
          0,
          0,
          0,
          0,
          0,
          0,
          0,
          0,
          0,
          0,
          0,
          0,
          0,
          0,
          0,
          0,
          0,
          0,
          0,
          0,
          0,
          0,
          0,
          0,
          0,
          0,
          0,
          0,
          0,
          0,
          0,
          0,
          0,
          0,
          0,
          0.0078703703703703,
          0,
          0,
          0,
          0,
          0,
          0,
          0,
          0,
          0,
          0.0226851851851851,
          0,
          0,
          0,
          0,
          0,
          0,
          0,
          0,
          0,
          0,
          0,
          0,
          1,
          0,
          0,
          0.0143518518518518,
          0,
          0,
          0,
          0,
          0.011574074074074,
          0,
          0.0217592592592592,
          0,
          0,
          0,
          0,
          0,
          0,
          0.0199074074074074,
          0,
          0,
          0,
          0.0106481481481481,
          0,
          0,
          0,
          0,
          0,
          0,
          0,
          0,
          0,
          0,
          0,
          0,
          0,
          0,
          0,
          0,
          0.0171296296296296,
          0,
          0,
          0,
          0,
          0,
          0,
          0,
          0,
          0,
          0,
          0.011574074074074,
          0,
          0,
          0,
          0,
          0,
          0,
          0,
          0,
          0,
          0,
          0.0171296296296296,
          0,
          0,
          0,
          0,
          0,
          0,
          0,
          0,
          0,
          0,
          0,
          0,
          0,
          0,
          0,
          0,
          0,
          0,
          0,
          0,
          0,
          0.0106481481481481,
          0,
          0,
          0,
          0,
          0,
          0,
          0,
          0,
          0,
          0,
          0,
          0,
          0,
          0,
          0,
          0.0337962962962962,
          0,
          0,
          0,
          0,
          0,
          0,
          0,
          0,
          0,
          0,
          0,
          0,
          0,
          0,
          0,
          0,
          0,
          0,
          0,
          0,
          0.024537037037037,
          0,
          0,
          0,
          0,
          0,
          0,
          0.011574074074074,
          0.0467592592592592,
          0,
          0,
          0,
          0,
          0,
          0,
          0,
          0,
          0,
          0,
          0,
          0,
          0,
          0,
          0.0217592592592592,
          0.0143518518518518,
          0,
          0,
          0,
          0,
          0,
          0.5361111111111111,
          0,
          0,
          0,
          0,
          0,
          0,
          0,
          0,
          0,
          0.0606481481481481,
          0,
          0.0106481481481481,
          0,
          0,
          0,
          0,
          0,
          0,
          0,
          0,
          0,
          0,
          0,
          0,
          0,
          0,
          0,
          0,
          0,
          0,
          0,
          0,
          0,
          0,
          0,
          0,
          0,
          0,
          0,
          0,
          0,
          0,
          0,
          0,
          0,
          0,
          0,
          0,
          0,
          0,
          0,
          0,
          0,
          0,
          0,
          0.8078703703703703,
          0,
          0,
          0,
          0,
          0,
          0,
          0.011574074074074,
          0,
          0,
          0,
          0,
          0,
          0,
          0,
          0,
          0,
          0.0324074074074074,
          0,
          0,
          0,
          0,
          0,
          0,
          0,
          0,
          0,
          0,
          0,
          0,
          0,
          0,
          0,
          0,
          0.011574074074074,
          0,
          0,
          0,
          0,
          0,
          0,
          0,
          0,
          0,
          0,
          0,
          0,
          0,
          0,
          0,
          0,
          0,
          0,
          0,
          0,
          0,
          0,
          0,
          0,
          0,
          0,
          0,
          0,
          0,
          0,
          0,
          0,
          0,
          0,
          0,
          0,
          0,
          0,
          0,
          0,
          0,
          0,
          0,
          0,
          0,
          0,
          0,
          0,
          0,
          0,
          0,
          0,
          0,
          0,
          0,
          0,
          0,
          0.1157407407407407,
          0,
          0,
          0,
          0,
          0,
          0.0134259259259259,
          0,
          0,
          0.0143518518518518,
          0,
          0,
          0.0162037037037037,
          0,
          0,
          0,
          0,
          0,
          0,
          0,
          0,
          0.0171296296296296,
          0,
          0,
          0,
          0,
          0,
          0,
          0,
          0,
          0,
          0,
          0,
          0,
          0,
          0,
          0,
          0,
          0,
          0,
          0.0171296296296296,
          0,
          0,
          0.0189814814814814,
          0,
          0,
          0,
          0,
          0,
          0,
          0,
          0,
          0,
          0.3976851851851852,
          0,
          0.011574074074074,
          0,
          0,
          0,
          0,
          0,
          null
         ],
         "y0": " ",
         "yaxis": "y"
        },
        {
         "line": {
          "color": "green",
          "width": 2
         },
         "mode": "lines",
         "name": "mean",
         "showlegend": true,
         "type": "scatter",
         "x": [
          "hj_naive",
          "hj_reactive",
          "flocking"
         ],
         "y": [
          0.3262182346580157,
          0.11054845904298458,
          0.009014260610975934
         ]
        }
       ],
       "layout": {
        "boxmode": "group",
        "legend": {
         "tracegroupgap": 0
        },
        "margin": {
         "t": 60
        },
        "template": {
         "data": {
          "bar": [
           {
            "error_x": {
             "color": "#2a3f5f"
            },
            "error_y": {
             "color": "#2a3f5f"
            },
            "marker": {
             "line": {
              "color": "#E5ECF6",
              "width": 0.5
             },
             "pattern": {
              "fillmode": "overlay",
              "size": 10,
              "solidity": 0.2
             }
            },
            "type": "bar"
           }
          ],
          "barpolar": [
           {
            "marker": {
             "line": {
              "color": "#E5ECF6",
              "width": 0.5
             },
             "pattern": {
              "fillmode": "overlay",
              "size": 10,
              "solidity": 0.2
             }
            },
            "type": "barpolar"
           }
          ],
          "carpet": [
           {
            "aaxis": {
             "endlinecolor": "#2a3f5f",
             "gridcolor": "white",
             "linecolor": "white",
             "minorgridcolor": "white",
             "startlinecolor": "#2a3f5f"
            },
            "baxis": {
             "endlinecolor": "#2a3f5f",
             "gridcolor": "white",
             "linecolor": "white",
             "minorgridcolor": "white",
             "startlinecolor": "#2a3f5f"
            },
            "type": "carpet"
           }
          ],
          "choropleth": [
           {
            "colorbar": {
             "outlinewidth": 0,
             "ticks": ""
            },
            "type": "choropleth"
           }
          ],
          "contour": [
           {
            "colorbar": {
             "outlinewidth": 0,
             "ticks": ""
            },
            "colorscale": [
             [
              0,
              "#0d0887"
             ],
             [
              0.1111111111111111,
              "#46039f"
             ],
             [
              0.2222222222222222,
              "#7201a8"
             ],
             [
              0.3333333333333333,
              "#9c179e"
             ],
             [
              0.4444444444444444,
              "#bd3786"
             ],
             [
              0.5555555555555556,
              "#d8576b"
             ],
             [
              0.6666666666666666,
              "#ed7953"
             ],
             [
              0.7777777777777778,
              "#fb9f3a"
             ],
             [
              0.8888888888888888,
              "#fdca26"
             ],
             [
              1,
              "#f0f921"
             ]
            ],
            "type": "contour"
           }
          ],
          "contourcarpet": [
           {
            "colorbar": {
             "outlinewidth": 0,
             "ticks": ""
            },
            "type": "contourcarpet"
           }
          ],
          "heatmap": [
           {
            "colorbar": {
             "outlinewidth": 0,
             "ticks": ""
            },
            "colorscale": [
             [
              0,
              "#0d0887"
             ],
             [
              0.1111111111111111,
              "#46039f"
             ],
             [
              0.2222222222222222,
              "#7201a8"
             ],
             [
              0.3333333333333333,
              "#9c179e"
             ],
             [
              0.4444444444444444,
              "#bd3786"
             ],
             [
              0.5555555555555556,
              "#d8576b"
             ],
             [
              0.6666666666666666,
              "#ed7953"
             ],
             [
              0.7777777777777778,
              "#fb9f3a"
             ],
             [
              0.8888888888888888,
              "#fdca26"
             ],
             [
              1,
              "#f0f921"
             ]
            ],
            "type": "heatmap"
           }
          ],
          "heatmapgl": [
           {
            "colorbar": {
             "outlinewidth": 0,
             "ticks": ""
            },
            "colorscale": [
             [
              0,
              "#0d0887"
             ],
             [
              0.1111111111111111,
              "#46039f"
             ],
             [
              0.2222222222222222,
              "#7201a8"
             ],
             [
              0.3333333333333333,
              "#9c179e"
             ],
             [
              0.4444444444444444,
              "#bd3786"
             ],
             [
              0.5555555555555556,
              "#d8576b"
             ],
             [
              0.6666666666666666,
              "#ed7953"
             ],
             [
              0.7777777777777778,
              "#fb9f3a"
             ],
             [
              0.8888888888888888,
              "#fdca26"
             ],
             [
              1,
              "#f0f921"
             ]
            ],
            "type": "heatmapgl"
           }
          ],
          "histogram": [
           {
            "marker": {
             "pattern": {
              "fillmode": "overlay",
              "size": 10,
              "solidity": 0.2
             }
            },
            "type": "histogram"
           }
          ],
          "histogram2d": [
           {
            "colorbar": {
             "outlinewidth": 0,
             "ticks": ""
            },
            "colorscale": [
             [
              0,
              "#0d0887"
             ],
             [
              0.1111111111111111,
              "#46039f"
             ],
             [
              0.2222222222222222,
              "#7201a8"
             ],
             [
              0.3333333333333333,
              "#9c179e"
             ],
             [
              0.4444444444444444,
              "#bd3786"
             ],
             [
              0.5555555555555556,
              "#d8576b"
             ],
             [
              0.6666666666666666,
              "#ed7953"
             ],
             [
              0.7777777777777778,
              "#fb9f3a"
             ],
             [
              0.8888888888888888,
              "#fdca26"
             ],
             [
              1,
              "#f0f921"
             ]
            ],
            "type": "histogram2d"
           }
          ],
          "histogram2dcontour": [
           {
            "colorbar": {
             "outlinewidth": 0,
             "ticks": ""
            },
            "colorscale": [
             [
              0,
              "#0d0887"
             ],
             [
              0.1111111111111111,
              "#46039f"
             ],
             [
              0.2222222222222222,
              "#7201a8"
             ],
             [
              0.3333333333333333,
              "#9c179e"
             ],
             [
              0.4444444444444444,
              "#bd3786"
             ],
             [
              0.5555555555555556,
              "#d8576b"
             ],
             [
              0.6666666666666666,
              "#ed7953"
             ],
             [
              0.7777777777777778,
              "#fb9f3a"
             ],
             [
              0.8888888888888888,
              "#fdca26"
             ],
             [
              1,
              "#f0f921"
             ]
            ],
            "type": "histogram2dcontour"
           }
          ],
          "mesh3d": [
           {
            "colorbar": {
             "outlinewidth": 0,
             "ticks": ""
            },
            "type": "mesh3d"
           }
          ],
          "parcoords": [
           {
            "line": {
             "colorbar": {
              "outlinewidth": 0,
              "ticks": ""
             }
            },
            "type": "parcoords"
           }
          ],
          "pie": [
           {
            "automargin": true,
            "type": "pie"
           }
          ],
          "scatter": [
           {
            "fillpattern": {
             "fillmode": "overlay",
             "size": 10,
             "solidity": 0.2
            },
            "type": "scatter"
           }
          ],
          "scatter3d": [
           {
            "line": {
             "colorbar": {
              "outlinewidth": 0,
              "ticks": ""
             }
            },
            "marker": {
             "colorbar": {
              "outlinewidth": 0,
              "ticks": ""
             }
            },
            "type": "scatter3d"
           }
          ],
          "scattercarpet": [
           {
            "marker": {
             "colorbar": {
              "outlinewidth": 0,
              "ticks": ""
             }
            },
            "type": "scattercarpet"
           }
          ],
          "scattergeo": [
           {
            "marker": {
             "colorbar": {
              "outlinewidth": 0,
              "ticks": ""
             }
            },
            "type": "scattergeo"
           }
          ],
          "scattergl": [
           {
            "marker": {
             "colorbar": {
              "outlinewidth": 0,
              "ticks": ""
             }
            },
            "type": "scattergl"
           }
          ],
          "scattermapbox": [
           {
            "marker": {
             "colorbar": {
              "outlinewidth": 0,
              "ticks": ""
             }
            },
            "type": "scattermapbox"
           }
          ],
          "scatterpolar": [
           {
            "marker": {
             "colorbar": {
              "outlinewidth": 0,
              "ticks": ""
             }
            },
            "type": "scatterpolar"
           }
          ],
          "scatterpolargl": [
           {
            "marker": {
             "colorbar": {
              "outlinewidth": 0,
              "ticks": ""
             }
            },
            "type": "scatterpolargl"
           }
          ],
          "scatterternary": [
           {
            "marker": {
             "colorbar": {
              "outlinewidth": 0,
              "ticks": ""
             }
            },
            "type": "scatterternary"
           }
          ],
          "surface": [
           {
            "colorbar": {
             "outlinewidth": 0,
             "ticks": ""
            },
            "colorscale": [
             [
              0,
              "#0d0887"
             ],
             [
              0.1111111111111111,
              "#46039f"
             ],
             [
              0.2222222222222222,
              "#7201a8"
             ],
             [
              0.3333333333333333,
              "#9c179e"
             ],
             [
              0.4444444444444444,
              "#bd3786"
             ],
             [
              0.5555555555555556,
              "#d8576b"
             ],
             [
              0.6666666666666666,
              "#ed7953"
             ],
             [
              0.7777777777777778,
              "#fb9f3a"
             ],
             [
              0.8888888888888888,
              "#fdca26"
             ],
             [
              1,
              "#f0f921"
             ]
            ],
            "type": "surface"
           }
          ],
          "table": [
           {
            "cells": {
             "fill": {
              "color": "#EBF0F8"
             },
             "line": {
              "color": "white"
             }
            },
            "header": {
             "fill": {
              "color": "#C8D4E3"
             },
             "line": {
              "color": "white"
             }
            },
            "type": "table"
           }
          ]
         },
         "layout": {
          "annotationdefaults": {
           "arrowcolor": "#2a3f5f",
           "arrowhead": 0,
           "arrowwidth": 1
          },
          "autotypenumbers": "strict",
          "coloraxis": {
           "colorbar": {
            "outlinewidth": 0,
            "ticks": ""
           }
          },
          "colorscale": {
           "diverging": [
            [
             0,
             "#8e0152"
            ],
            [
             0.1,
             "#c51b7d"
            ],
            [
             0.2,
             "#de77ae"
            ],
            [
             0.3,
             "#f1b6da"
            ],
            [
             0.4,
             "#fde0ef"
            ],
            [
             0.5,
             "#f7f7f7"
            ],
            [
             0.6,
             "#e6f5d0"
            ],
            [
             0.7,
             "#b8e186"
            ],
            [
             0.8,
             "#7fbc41"
            ],
            [
             0.9,
             "#4d9221"
            ],
            [
             1,
             "#276419"
            ]
           ],
           "sequential": [
            [
             0,
             "#0d0887"
            ],
            [
             0.1111111111111111,
             "#46039f"
            ],
            [
             0.2222222222222222,
             "#7201a8"
            ],
            [
             0.3333333333333333,
             "#9c179e"
            ],
            [
             0.4444444444444444,
             "#bd3786"
            ],
            [
             0.5555555555555556,
             "#d8576b"
            ],
            [
             0.6666666666666666,
             "#ed7953"
            ],
            [
             0.7777777777777778,
             "#fb9f3a"
            ],
            [
             0.8888888888888888,
             "#fdca26"
            ],
            [
             1,
             "#f0f921"
            ]
           ],
           "sequentialminus": [
            [
             0,
             "#0d0887"
            ],
            [
             0.1111111111111111,
             "#46039f"
            ],
            [
             0.2222222222222222,
             "#7201a8"
            ],
            [
             0.3333333333333333,
             "#9c179e"
            ],
            [
             0.4444444444444444,
             "#bd3786"
            ],
            [
             0.5555555555555556,
             "#d8576b"
            ],
            [
             0.6666666666666666,
             "#ed7953"
            ],
            [
             0.7777777777777778,
             "#fb9f3a"
            ],
            [
             0.8888888888888888,
             "#fdca26"
            ],
            [
             1,
             "#f0f921"
            ]
           ]
          },
          "colorway": [
           "#636efa",
           "#EF553B",
           "#00cc96",
           "#ab63fa",
           "#FFA15A",
           "#19d3f3",
           "#FF6692",
           "#B6E880",
           "#FF97FF",
           "#FECB52"
          ],
          "font": {
           "color": "#2a3f5f"
          },
          "geo": {
           "bgcolor": "white",
           "lakecolor": "white",
           "landcolor": "#E5ECF6",
           "showlakes": true,
           "showland": true,
           "subunitcolor": "white"
          },
          "hoverlabel": {
           "align": "left"
          },
          "hovermode": "closest",
          "mapbox": {
           "style": "light"
          },
          "paper_bgcolor": "white",
          "plot_bgcolor": "#E5ECF6",
          "polar": {
           "angularaxis": {
            "gridcolor": "white",
            "linecolor": "white",
            "ticks": ""
           },
           "bgcolor": "#E5ECF6",
           "radialaxis": {
            "gridcolor": "white",
            "linecolor": "white",
            "ticks": ""
           }
          },
          "scene": {
           "xaxis": {
            "backgroundcolor": "#E5ECF6",
            "gridcolor": "white",
            "gridwidth": 2,
            "linecolor": "white",
            "showbackground": true,
            "ticks": "",
            "zerolinecolor": "white"
           },
           "yaxis": {
            "backgroundcolor": "#E5ECF6",
            "gridcolor": "white",
            "gridwidth": 2,
            "linecolor": "white",
            "showbackground": true,
            "ticks": "",
            "zerolinecolor": "white"
           },
           "zaxis": {
            "backgroundcolor": "#E5ECF6",
            "gridcolor": "white",
            "gridwidth": 2,
            "linecolor": "white",
            "showbackground": true,
            "ticks": "",
            "zerolinecolor": "white"
           }
          },
          "shapedefaults": {
           "line": {
            "color": "#2a3f5f"
           }
          },
          "ternary": {
           "aaxis": {
            "gridcolor": "white",
            "linecolor": "white",
            "ticks": ""
           },
           "baxis": {
            "gridcolor": "white",
            "linecolor": "white",
            "ticks": ""
           },
           "bgcolor": "#E5ECF6",
           "caxis": {
            "gridcolor": "white",
            "linecolor": "white",
            "ticks": ""
           }
          },
          "title": {
           "x": 0.05
          },
          "xaxis": {
           "automargin": true,
           "gridcolor": "white",
           "linecolor": "white",
           "ticks": "",
           "title": {
            "standoff": 15
           },
           "zerolinecolor": "white",
           "zerolinewidth": 2
          },
          "yaxis": {
           "automargin": true,
           "gridcolor": "white",
           "linecolor": "white",
           "ticks": "",
           "title": {
            "standoff": 15
           },
           "zerolinecolor": "white",
           "zerolinewidth": 2
          }
         }
        },
        "title": {
         "text": "Isolated_platform_metric"
        },
        "xaxis": {
         "anchor": "y",
         "domain": [
          0,
          1
         ],
         "title": {
          "text": "controllers"
         }
        },
        "yaxis": {
         "anchor": "x",
         "domain": [
          0,
          1
         ],
         "title": {
          "text": "IPM"
         }
        }
       }
      },
      "text/html": [
       "<div>                            <div id=\"33db4368-3e49-4f67-b0fb-b2c54092a488\" class=\"plotly-graph-div\" style=\"height:525px; width:100%;\"></div>            <script type=\"text/javascript\">                require([\"plotly\"], function(Plotly) {                    window.PLOTLYENV=window.PLOTLYENV || {};                                    if (document.getElementById(\"33db4368-3e49-4f67-b0fb-b2c54092a488\")) {                    Plotly.newPlot(                        \"33db4368-3e49-4f67-b0fb-b2c54092a488\",                        [{\"alignmentgroup\":\"True\",\"hovertemplate\":\"variable=%{x}<br>value=%{y}<extra></extra>\",\"legendgroup\":\"\",\"marker\":{\"color\":\"#636efa\"},\"name\":\"\",\"notched\":false,\"offsetgroup\":\"\",\"orientation\":\"v\",\"showlegend\":false,\"x\":[\"hj_naive\",\"hj_naive\",\"hj_naive\",\"hj_naive\",\"hj_naive\",\"hj_naive\",\"hj_naive\",\"hj_naive\",\"hj_naive\",\"hj_naive\",\"hj_naive\",\"hj_naive\",\"hj_naive\",\"hj_naive\",\"hj_naive\",\"hj_naive\",\"hj_naive\",\"hj_naive\",\"hj_naive\",\"hj_naive\",\"hj_naive\",\"hj_naive\",\"hj_naive\",\"hj_naive\",\"hj_naive\",\"hj_naive\",\"hj_naive\",\"hj_naive\",\"hj_naive\",\"hj_naive\",\"hj_naive\",\"hj_naive\",\"hj_naive\",\"hj_naive\",\"hj_naive\",\"hj_naive\",\"hj_naive\",\"hj_naive\",\"hj_naive\",\"hj_naive\",\"hj_naive\",\"hj_naive\",\"hj_naive\",\"hj_naive\",\"hj_naive\",\"hj_naive\",\"hj_naive\",\"hj_naive\",\"hj_naive\",\"hj_naive\",\"hj_naive\",\"hj_naive\",\"hj_naive\",\"hj_naive\",\"hj_naive\",\"hj_naive\",\"hj_naive\",\"hj_naive\",\"hj_naive\",\"hj_naive\",\"hj_naive\",\"hj_naive\",\"hj_naive\",\"hj_naive\",\"hj_naive\",\"hj_naive\",\"hj_naive\",\"hj_naive\",\"hj_naive\",\"hj_naive\",\"hj_naive\",\"hj_naive\",\"hj_naive\",\"hj_naive\",\"hj_naive\",\"hj_naive\",\"hj_naive\",\"hj_naive\",\"hj_naive\",\"hj_naive\",\"hj_naive\",\"hj_naive\",\"hj_naive\",\"hj_naive\",\"hj_naive\",\"hj_naive\",\"hj_naive\",\"hj_naive\",\"hj_naive\",\"hj_naive\",\"hj_naive\",\"hj_naive\",\"hj_naive\",\"hj_naive\",\"hj_naive\",\"hj_naive\",\"hj_naive\",\"hj_naive\",\"hj_naive\",\"hj_naive\",\"hj_naive\",\"hj_naive\",\"hj_naive\",\"hj_naive\",\"hj_naive\",\"hj_naive\",\"hj_naive\",\"hj_naive\",\"hj_naive\",\"hj_naive\",\"hj_naive\",\"hj_naive\",\"hj_naive\",\"hj_naive\",\"hj_naive\",\"hj_naive\",\"hj_naive\",\"hj_naive\",\"hj_naive\",\"hj_naive\",\"hj_naive\",\"hj_naive\",\"hj_naive\",\"hj_naive\",\"hj_naive\",\"hj_naive\",\"hj_naive\",\"hj_naive\",\"hj_naive\",\"hj_naive\",\"hj_naive\",\"hj_naive\",\"hj_naive\",\"hj_naive\",\"hj_naive\",\"hj_naive\",\"hj_naive\",\"hj_naive\",\"hj_naive\",\"hj_naive\",\"hj_naive\",\"hj_naive\",\"hj_naive\",\"hj_naive\",\"hj_naive\",\"hj_naive\",\"hj_naive\",\"hj_naive\",\"hj_naive\",\"hj_naive\",\"hj_naive\",\"hj_naive\",\"hj_naive\",\"hj_naive\",\"hj_naive\",\"hj_naive\",\"hj_naive\",\"hj_naive\",\"hj_naive\",\"hj_naive\",\"hj_naive\",\"hj_naive\",\"hj_naive\",\"hj_naive\",\"hj_naive\",\"hj_naive\",\"hj_naive\",\"hj_naive\",\"hj_naive\",\"hj_naive\",\"hj_naive\",\"hj_naive\",\"hj_naive\",\"hj_naive\",\"hj_naive\",\"hj_naive\",\"hj_naive\",\"hj_naive\",\"hj_naive\",\"hj_naive\",\"hj_naive\",\"hj_naive\",\"hj_naive\",\"hj_naive\",\"hj_naive\",\"hj_naive\",\"hj_naive\",\"hj_naive\",\"hj_naive\",\"hj_naive\",\"hj_naive\",\"hj_naive\",\"hj_naive\",\"hj_naive\",\"hj_naive\",\"hj_naive\",\"hj_naive\",\"hj_naive\",\"hj_naive\",\"hj_naive\",\"hj_naive\",\"hj_naive\",\"hj_naive\",\"hj_naive\",\"hj_naive\",\"hj_naive\",\"hj_naive\",\"hj_naive\",\"hj_naive\",\"hj_naive\",\"hj_naive\",\"hj_naive\",\"hj_naive\",\"hj_naive\",\"hj_naive\",\"hj_naive\",\"hj_naive\",\"hj_naive\",\"hj_naive\",\"hj_naive\",\"hj_naive\",\"hj_naive\",\"hj_naive\",\"hj_naive\",\"hj_naive\",\"hj_naive\",\"hj_naive\",\"hj_naive\",\"hj_naive\",\"hj_naive\",\"hj_naive\",\"hj_naive\",\"hj_naive\",\"hj_naive\",\"hj_naive\",\"hj_naive\",\"hj_naive\",\"hj_naive\",\"hj_naive\",\"hj_naive\",\"hj_naive\",\"hj_naive\",\"hj_naive\",\"hj_naive\",\"hj_naive\",\"hj_naive\",\"hj_naive\",\"hj_naive\",\"hj_naive\",\"hj_naive\",\"hj_naive\",\"hj_naive\",\"hj_naive\",\"hj_naive\",\"hj_naive\",\"hj_naive\",\"hj_naive\",\"hj_naive\",\"hj_naive\",\"hj_naive\",\"hj_naive\",\"hj_naive\",\"hj_naive\",\"hj_naive\",\"hj_naive\",\"hj_naive\",\"hj_naive\",\"hj_naive\",\"hj_naive\",\"hj_naive\",\"hj_naive\",\"hj_naive\",\"hj_naive\",\"hj_naive\",\"hj_naive\",\"hj_naive\",\"hj_naive\",\"hj_naive\",\"hj_naive\",\"hj_naive\",\"hj_naive\",\"hj_naive\",\"hj_naive\",\"hj_naive\",\"hj_naive\",\"hj_naive\",\"hj_naive\",\"hj_naive\",\"hj_naive\",\"hj_naive\",\"hj_naive\",\"hj_naive\",\"hj_naive\",\"hj_naive\",\"hj_naive\",\"hj_naive\",\"hj_naive\",\"hj_naive\",\"hj_naive\",\"hj_naive\",\"hj_naive\",\"hj_naive\",\"hj_naive\",\"hj_naive\",\"hj_naive\",\"hj_naive\",\"hj_naive\",\"hj_naive\",\"hj_naive\",\"hj_naive\",\"hj_naive\",\"hj_naive\",\"hj_naive\",\"hj_naive\",\"hj_naive\",\"hj_naive\",\"hj_naive\",\"hj_naive\",\"hj_naive\",\"hj_naive\",\"hj_naive\",\"hj_naive\",\"hj_naive\",\"hj_naive\",\"hj_naive\",\"hj_naive\",\"hj_naive\",\"hj_naive\",\"hj_naive\",\"hj_naive\",\"hj_naive\",\"hj_naive\",\"hj_naive\",\"hj_naive\",\"hj_naive\",\"hj_naive\",\"hj_naive\",\"hj_naive\",\"hj_naive\",\"hj_naive\",\"hj_naive\",\"hj_naive\",\"hj_naive\",\"hj_naive\",\"hj_naive\",\"hj_naive\",\"hj_naive\",\"hj_naive\",\"hj_naive\",\"hj_naive\",\"hj_naive\",\"hj_naive\",\"hj_naive\",\"hj_naive\",\"hj_naive\",\"hj_naive\",\"hj_naive\",\"hj_naive\",\"hj_naive\",\"hj_naive\",\"hj_naive\",\"hj_naive\",\"hj_naive\",\"hj_naive\",\"hj_naive\",\"hj_naive\",\"hj_naive\",\"hj_naive\",\"hj_naive\",\"hj_naive\",\"hj_naive\",\"hj_naive\",\"hj_naive\",\"hj_naive\",\"hj_naive\",\"hj_naive\",\"hj_naive\",\"hj_naive\",\"hj_naive\",\"hj_naive\",\"hj_naive\",\"hj_naive\",\"hj_naive\",\"hj_naive\",\"hj_naive\",\"hj_naive\",\"hj_naive\",\"hj_naive\",\"hj_naive\",\"hj_naive\",\"hj_naive\",\"hj_naive\",\"hj_naive\",\"hj_naive\",\"hj_naive\",\"hj_naive\",\"hj_naive\",\"hj_naive\",\"hj_naive\",\"hj_naive\",\"hj_naive\",\"hj_naive\",\"hj_naive\",\"hj_naive\",\"hj_naive\",\"hj_naive\",\"hj_naive\",\"hj_naive\",\"hj_naive\",\"hj_naive\",\"hj_naive\",\"hj_naive\",\"hj_naive\",\"hj_naive\",\"hj_naive\",\"hj_naive\",\"hj_naive\",\"hj_naive\",\"hj_naive\",\"hj_naive\",\"hj_naive\",\"hj_naive\",\"hj_naive\",\"hj_naive\",\"hj_naive\",\"hj_naive\",\"hj_naive\",\"hj_naive\",\"hj_naive\",\"hj_naive\",\"hj_naive\",\"hj_naive\",\"hj_naive\",\"hj_naive\",\"hj_naive\",\"hj_naive\",\"hj_naive\",\"hj_naive\",\"hj_naive\",\"hj_naive\",\"hj_naive\",\"hj_naive\",\"hj_naive\",\"hj_naive\",\"hj_naive\",\"hj_naive\",\"hj_naive\",\"hj_naive\",\"hj_naive\",\"hj_naive\",\"hj_naive\",\"hj_naive\",\"hj_naive\",\"hj_naive\",\"hj_naive\",\"hj_naive\",\"hj_naive\",\"hj_naive\",\"hj_naive\",\"hj_naive\",\"hj_naive\",\"hj_naive\",\"hj_naive\",\"hj_naive\",\"hj_naive\",\"hj_naive\",\"hj_naive\",\"hj_naive\",\"hj_naive\",\"hj_naive\",\"hj_naive\",\"hj_naive\",\"hj_naive\",\"hj_naive\",\"hj_naive\",\"hj_naive\",\"hj_naive\",\"hj_naive\",\"hj_naive\",\"hj_naive\",\"hj_naive\",\"hj_naive\",\"hj_naive\",\"hj_naive\",\"hj_naive\",\"hj_naive\",\"hj_naive\",\"hj_naive\",\"hj_naive\",\"hj_naive\",\"hj_naive\",\"hj_naive\",\"hj_naive\",\"hj_naive\",\"hj_naive\",\"hj_naive\",\"hj_naive\",\"hj_naive\",\"hj_naive\",\"hj_naive\",\"hj_naive\",\"hj_naive\",\"hj_naive\",\"hj_naive\",\"hj_naive\",\"hj_naive\",\"hj_naive\",\"hj_naive\",\"hj_naive\",\"hj_naive\",\"hj_naive\",\"hj_naive\",\"hj_naive\",\"hj_naive\",\"hj_naive\",\"hj_naive\",\"hj_naive\",\"hj_naive\",\"hj_naive\",\"hj_naive\",\"hj_naive\",\"hj_naive\",\"hj_naive\",\"hj_naive\",\"hj_naive\",\"hj_naive\",\"hj_naive\",\"hj_naive\",\"hj_naive\",\"hj_naive\",\"hj_naive\",\"hj_naive\",\"hj_naive\",\"hj_naive\",\"hj_naive\",\"hj_naive\",\"hj_naive\",\"hj_naive\",\"hj_naive\",\"hj_naive\",\"hj_naive\",\"hj_naive\",\"hj_naive\",\"hj_naive\",\"hj_naive\",\"hj_naive\",\"hj_naive\",\"hj_naive\",\"hj_naive\",\"hj_reactive\",\"hj_reactive\",\"hj_reactive\",\"hj_reactive\",\"hj_reactive\",\"hj_reactive\",\"hj_reactive\",\"hj_reactive\",\"hj_reactive\",\"hj_reactive\",\"hj_reactive\",\"hj_reactive\",\"hj_reactive\",\"hj_reactive\",\"hj_reactive\",\"hj_reactive\",\"hj_reactive\",\"hj_reactive\",\"hj_reactive\",\"hj_reactive\",\"hj_reactive\",\"hj_reactive\",\"hj_reactive\",\"hj_reactive\",\"hj_reactive\",\"hj_reactive\",\"hj_reactive\",\"hj_reactive\",\"hj_reactive\",\"hj_reactive\",\"hj_reactive\",\"hj_reactive\",\"hj_reactive\",\"hj_reactive\",\"hj_reactive\",\"hj_reactive\",\"hj_reactive\",\"hj_reactive\",\"hj_reactive\",\"hj_reactive\",\"hj_reactive\",\"hj_reactive\",\"hj_reactive\",\"hj_reactive\",\"hj_reactive\",\"hj_reactive\",\"hj_reactive\",\"hj_reactive\",\"hj_reactive\",\"hj_reactive\",\"hj_reactive\",\"hj_reactive\",\"hj_reactive\",\"hj_reactive\",\"hj_reactive\",\"hj_reactive\",\"hj_reactive\",\"hj_reactive\",\"hj_reactive\",\"hj_reactive\",\"hj_reactive\",\"hj_reactive\",\"hj_reactive\",\"hj_reactive\",\"hj_reactive\",\"hj_reactive\",\"hj_reactive\",\"hj_reactive\",\"hj_reactive\",\"hj_reactive\",\"hj_reactive\",\"hj_reactive\",\"hj_reactive\",\"hj_reactive\",\"hj_reactive\",\"hj_reactive\",\"hj_reactive\",\"hj_reactive\",\"hj_reactive\",\"hj_reactive\",\"hj_reactive\",\"hj_reactive\",\"hj_reactive\",\"hj_reactive\",\"hj_reactive\",\"hj_reactive\",\"hj_reactive\",\"hj_reactive\",\"hj_reactive\",\"hj_reactive\",\"hj_reactive\",\"hj_reactive\",\"hj_reactive\",\"hj_reactive\",\"hj_reactive\",\"hj_reactive\",\"hj_reactive\",\"hj_reactive\",\"hj_reactive\",\"hj_reactive\",\"hj_reactive\",\"hj_reactive\",\"hj_reactive\",\"hj_reactive\",\"hj_reactive\",\"hj_reactive\",\"hj_reactive\",\"hj_reactive\",\"hj_reactive\",\"hj_reactive\",\"hj_reactive\",\"hj_reactive\",\"hj_reactive\",\"hj_reactive\",\"hj_reactive\",\"hj_reactive\",\"hj_reactive\",\"hj_reactive\",\"hj_reactive\",\"hj_reactive\",\"hj_reactive\",\"hj_reactive\",\"hj_reactive\",\"hj_reactive\",\"hj_reactive\",\"hj_reactive\",\"hj_reactive\",\"hj_reactive\",\"hj_reactive\",\"hj_reactive\",\"hj_reactive\",\"hj_reactive\",\"hj_reactive\",\"hj_reactive\",\"hj_reactive\",\"hj_reactive\",\"hj_reactive\",\"hj_reactive\",\"hj_reactive\",\"hj_reactive\",\"hj_reactive\",\"hj_reactive\",\"hj_reactive\",\"hj_reactive\",\"hj_reactive\",\"hj_reactive\",\"hj_reactive\",\"hj_reactive\",\"hj_reactive\",\"hj_reactive\",\"hj_reactive\",\"hj_reactive\",\"hj_reactive\",\"hj_reactive\",\"hj_reactive\",\"hj_reactive\",\"hj_reactive\",\"hj_reactive\",\"hj_reactive\",\"hj_reactive\",\"hj_reactive\",\"hj_reactive\",\"hj_reactive\",\"hj_reactive\",\"hj_reactive\",\"hj_reactive\",\"hj_reactive\",\"hj_reactive\",\"hj_reactive\",\"hj_reactive\",\"hj_reactive\",\"hj_reactive\",\"hj_reactive\",\"hj_reactive\",\"hj_reactive\",\"hj_reactive\",\"hj_reactive\",\"hj_reactive\",\"hj_reactive\",\"hj_reactive\",\"hj_reactive\",\"hj_reactive\",\"hj_reactive\",\"hj_reactive\",\"hj_reactive\",\"hj_reactive\",\"hj_reactive\",\"hj_reactive\",\"hj_reactive\",\"hj_reactive\",\"hj_reactive\",\"hj_reactive\",\"hj_reactive\",\"hj_reactive\",\"hj_reactive\",\"hj_reactive\",\"hj_reactive\",\"hj_reactive\",\"hj_reactive\",\"hj_reactive\",\"hj_reactive\",\"hj_reactive\",\"hj_reactive\",\"hj_reactive\",\"hj_reactive\",\"hj_reactive\",\"hj_reactive\",\"hj_reactive\",\"hj_reactive\",\"hj_reactive\",\"hj_reactive\",\"hj_reactive\",\"hj_reactive\",\"hj_reactive\",\"hj_reactive\",\"hj_reactive\",\"hj_reactive\",\"hj_reactive\",\"hj_reactive\",\"hj_reactive\",\"hj_reactive\",\"hj_reactive\",\"hj_reactive\",\"hj_reactive\",\"hj_reactive\",\"hj_reactive\",\"hj_reactive\",\"hj_reactive\",\"hj_reactive\",\"hj_reactive\",\"hj_reactive\",\"hj_reactive\",\"hj_reactive\",\"hj_reactive\",\"hj_reactive\",\"hj_reactive\",\"hj_reactive\",\"hj_reactive\",\"hj_reactive\",\"hj_reactive\",\"hj_reactive\",\"hj_reactive\",\"hj_reactive\",\"hj_reactive\",\"hj_reactive\",\"hj_reactive\",\"hj_reactive\",\"hj_reactive\",\"hj_reactive\",\"hj_reactive\",\"hj_reactive\",\"hj_reactive\",\"hj_reactive\",\"hj_reactive\",\"hj_reactive\",\"hj_reactive\",\"hj_reactive\",\"hj_reactive\",\"hj_reactive\",\"hj_reactive\",\"hj_reactive\",\"hj_reactive\",\"hj_reactive\",\"hj_reactive\",\"hj_reactive\",\"hj_reactive\",\"hj_reactive\",\"hj_reactive\",\"hj_reactive\",\"hj_reactive\",\"hj_reactive\",\"hj_reactive\",\"hj_reactive\",\"hj_reactive\",\"hj_reactive\",\"hj_reactive\",\"hj_reactive\",\"hj_reactive\",\"hj_reactive\",\"hj_reactive\",\"hj_reactive\",\"hj_reactive\",\"hj_reactive\",\"hj_reactive\",\"hj_reactive\",\"hj_reactive\",\"hj_reactive\",\"hj_reactive\",\"hj_reactive\",\"hj_reactive\",\"hj_reactive\",\"hj_reactive\",\"hj_reactive\",\"hj_reactive\",\"hj_reactive\",\"hj_reactive\",\"hj_reactive\",\"hj_reactive\",\"hj_reactive\",\"hj_reactive\",\"hj_reactive\",\"hj_reactive\",\"hj_reactive\",\"hj_reactive\",\"hj_reactive\",\"hj_reactive\",\"hj_reactive\",\"hj_reactive\",\"hj_reactive\",\"hj_reactive\",\"hj_reactive\",\"hj_reactive\",\"hj_reactive\",\"hj_reactive\",\"hj_reactive\",\"hj_reactive\",\"hj_reactive\",\"hj_reactive\",\"hj_reactive\",\"hj_reactive\",\"hj_reactive\",\"hj_reactive\",\"hj_reactive\",\"hj_reactive\",\"hj_reactive\",\"hj_reactive\",\"hj_reactive\",\"hj_reactive\",\"hj_reactive\",\"hj_reactive\",\"hj_reactive\",\"hj_reactive\",\"hj_reactive\",\"hj_reactive\",\"hj_reactive\",\"hj_reactive\",\"hj_reactive\",\"hj_reactive\",\"hj_reactive\",\"hj_reactive\",\"hj_reactive\",\"hj_reactive\",\"hj_reactive\",\"hj_reactive\",\"hj_reactive\",\"hj_reactive\",\"hj_reactive\",\"hj_reactive\",\"hj_reactive\",\"hj_reactive\",\"hj_reactive\",\"hj_reactive\",\"hj_reactive\",\"hj_reactive\",\"hj_reactive\",\"hj_reactive\",\"hj_reactive\",\"hj_reactive\",\"hj_reactive\",\"hj_reactive\",\"hj_reactive\",\"hj_reactive\",\"hj_reactive\",\"hj_reactive\",\"hj_reactive\",\"hj_reactive\",\"hj_reactive\",\"hj_reactive\",\"hj_reactive\",\"hj_reactive\",\"hj_reactive\",\"hj_reactive\",\"hj_reactive\",\"hj_reactive\",\"hj_reactive\",\"hj_reactive\",\"hj_reactive\",\"hj_reactive\",\"hj_reactive\",\"hj_reactive\",\"hj_reactive\",\"hj_reactive\",\"hj_reactive\",\"hj_reactive\",\"hj_reactive\",\"hj_reactive\",\"hj_reactive\",\"hj_reactive\",\"hj_reactive\",\"hj_reactive\",\"hj_reactive\",\"hj_reactive\",\"hj_reactive\",\"hj_reactive\",\"hj_reactive\",\"hj_reactive\",\"hj_reactive\",\"hj_reactive\",\"hj_reactive\",\"hj_reactive\",\"hj_reactive\",\"hj_reactive\",\"hj_reactive\",\"hj_reactive\",\"hj_reactive\",\"hj_reactive\",\"hj_reactive\",\"hj_reactive\",\"hj_reactive\",\"hj_reactive\",\"hj_reactive\",\"hj_reactive\",\"hj_reactive\",\"hj_reactive\",\"hj_reactive\",\"hj_reactive\",\"hj_reactive\",\"hj_reactive\",\"hj_reactive\",\"hj_reactive\",\"hj_reactive\",\"hj_reactive\",\"hj_reactive\",\"hj_reactive\",\"hj_reactive\",\"hj_reactive\",\"hj_reactive\",\"hj_reactive\",\"hj_reactive\",\"hj_reactive\",\"hj_reactive\",\"hj_reactive\",\"hj_reactive\",\"hj_reactive\",\"hj_reactive\",\"hj_reactive\",\"hj_reactive\",\"hj_reactive\",\"hj_reactive\",\"hj_reactive\",\"hj_reactive\",\"hj_reactive\",\"hj_reactive\",\"hj_reactive\",\"hj_reactive\",\"hj_reactive\",\"hj_reactive\",\"hj_reactive\",\"hj_reactive\",\"hj_reactive\",\"hj_reactive\",\"hj_reactive\",\"hj_reactive\",\"hj_reactive\",\"hj_reactive\",\"hj_reactive\",\"hj_reactive\",\"hj_reactive\",\"hj_reactive\",\"hj_reactive\",\"hj_reactive\",\"hj_reactive\",\"hj_reactive\",\"hj_reactive\",\"hj_reactive\",\"hj_reactive\",\"hj_reactive\",\"hj_reactive\",\"hj_reactive\",\"hj_reactive\",\"hj_reactive\",\"hj_reactive\",\"hj_reactive\",\"hj_reactive\",\"hj_reactive\",\"hj_reactive\",\"hj_reactive\",\"hj_reactive\",\"hj_reactive\",\"hj_reactive\",\"hj_reactive\",\"hj_reactive\",\"hj_reactive\",\"hj_reactive\",\"hj_reactive\",\"hj_reactive\",\"hj_reactive\",\"hj_reactive\",\"hj_reactive\",\"hj_reactive\",\"hj_reactive\",\"hj_reactive\",\"hj_reactive\",\"hj_reactive\",\"hj_reactive\",\"hj_reactive\",\"hj_reactive\",\"hj_reactive\",\"hj_reactive\",\"hj_reactive\",\"hj_reactive\",\"hj_reactive\",\"hj_reactive\",\"hj_reactive\",\"hj_reactive\",\"hj_reactive\",\"hj_reactive\",\"hj_reactive\",\"hj_reactive\",\"hj_reactive\",\"hj_reactive\",\"hj_reactive\",\"hj_reactive\",\"hj_reactive\",\"hj_reactive\",\"hj_reactive\",\"hj_reactive\",\"hj_reactive\",\"hj_reactive\",\"hj_reactive\",\"hj_reactive\",\"hj_reactive\",\"hj_reactive\",\"hj_reactive\",\"hj_reactive\",\"hj_reactive\",\"hj_reactive\",\"hj_reactive\",\"hj_reactive\",\"hj_reactive\",\"hj_reactive\",\"hj_reactive\",\"hj_reactive\",\"hj_reactive\",\"hj_reactive\",\"hj_reactive\",\"hj_reactive\",\"hj_reactive\",\"hj_reactive\",\"hj_reactive\",\"hj_reactive\",\"hj_reactive\",\"hj_reactive\",\"hj_reactive\",\"hj_reactive\",\"hj_reactive\",\"hj_reactive\",\"hj_reactive\",\"hj_reactive\",\"flocking\",\"flocking\",\"flocking\",\"flocking\",\"flocking\",\"flocking\",\"flocking\",\"flocking\",\"flocking\",\"flocking\",\"flocking\",\"flocking\",\"flocking\",\"flocking\",\"flocking\",\"flocking\",\"flocking\",\"flocking\",\"flocking\",\"flocking\",\"flocking\",\"flocking\",\"flocking\",\"flocking\",\"flocking\",\"flocking\",\"flocking\",\"flocking\",\"flocking\",\"flocking\",\"flocking\",\"flocking\",\"flocking\",\"flocking\",\"flocking\",\"flocking\",\"flocking\",\"flocking\",\"flocking\",\"flocking\",\"flocking\",\"flocking\",\"flocking\",\"flocking\",\"flocking\",\"flocking\",\"flocking\",\"flocking\",\"flocking\",\"flocking\",\"flocking\",\"flocking\",\"flocking\",\"flocking\",\"flocking\",\"flocking\",\"flocking\",\"flocking\",\"flocking\",\"flocking\",\"flocking\",\"flocking\",\"flocking\",\"flocking\",\"flocking\",\"flocking\",\"flocking\",\"flocking\",\"flocking\",\"flocking\",\"flocking\",\"flocking\",\"flocking\",\"flocking\",\"flocking\",\"flocking\",\"flocking\",\"flocking\",\"flocking\",\"flocking\",\"flocking\",\"flocking\",\"flocking\",\"flocking\",\"flocking\",\"flocking\",\"flocking\",\"flocking\",\"flocking\",\"flocking\",\"flocking\",\"flocking\",\"flocking\",\"flocking\",\"flocking\",\"flocking\",\"flocking\",\"flocking\",\"flocking\",\"flocking\",\"flocking\",\"flocking\",\"flocking\",\"flocking\",\"flocking\",\"flocking\",\"flocking\",\"flocking\",\"flocking\",\"flocking\",\"flocking\",\"flocking\",\"flocking\",\"flocking\",\"flocking\",\"flocking\",\"flocking\",\"flocking\",\"flocking\",\"flocking\",\"flocking\",\"flocking\",\"flocking\",\"flocking\",\"flocking\",\"flocking\",\"flocking\",\"flocking\",\"flocking\",\"flocking\",\"flocking\",\"flocking\",\"flocking\",\"flocking\",\"flocking\",\"flocking\",\"flocking\",\"flocking\",\"flocking\",\"flocking\",\"flocking\",\"flocking\",\"flocking\",\"flocking\",\"flocking\",\"flocking\",\"flocking\",\"flocking\",\"flocking\",\"flocking\",\"flocking\",\"flocking\",\"flocking\",\"flocking\",\"flocking\",\"flocking\",\"flocking\",\"flocking\",\"flocking\",\"flocking\",\"flocking\",\"flocking\",\"flocking\",\"flocking\",\"flocking\",\"flocking\",\"flocking\",\"flocking\",\"flocking\",\"flocking\",\"flocking\",\"flocking\",\"flocking\",\"flocking\",\"flocking\",\"flocking\",\"flocking\",\"flocking\",\"flocking\",\"flocking\",\"flocking\",\"flocking\",\"flocking\",\"flocking\",\"flocking\",\"flocking\",\"flocking\",\"flocking\",\"flocking\",\"flocking\",\"flocking\",\"flocking\",\"flocking\",\"flocking\",\"flocking\",\"flocking\",\"flocking\",\"flocking\",\"flocking\",\"flocking\",\"flocking\",\"flocking\",\"flocking\",\"flocking\",\"flocking\",\"flocking\",\"flocking\",\"flocking\",\"flocking\",\"flocking\",\"flocking\",\"flocking\",\"flocking\",\"flocking\",\"flocking\",\"flocking\",\"flocking\",\"flocking\",\"flocking\",\"flocking\",\"flocking\",\"flocking\",\"flocking\",\"flocking\",\"flocking\",\"flocking\",\"flocking\",\"flocking\",\"flocking\",\"flocking\",\"flocking\",\"flocking\",\"flocking\",\"flocking\",\"flocking\",\"flocking\",\"flocking\",\"flocking\",\"flocking\",\"flocking\",\"flocking\",\"flocking\",\"flocking\",\"flocking\",\"flocking\",\"flocking\",\"flocking\",\"flocking\",\"flocking\",\"flocking\",\"flocking\",\"flocking\",\"flocking\",\"flocking\",\"flocking\",\"flocking\",\"flocking\",\"flocking\",\"flocking\",\"flocking\",\"flocking\",\"flocking\",\"flocking\",\"flocking\",\"flocking\",\"flocking\",\"flocking\",\"flocking\",\"flocking\",\"flocking\",\"flocking\",\"flocking\",\"flocking\",\"flocking\",\"flocking\",\"flocking\",\"flocking\",\"flocking\",\"flocking\",\"flocking\",\"flocking\",\"flocking\",\"flocking\",\"flocking\",\"flocking\",\"flocking\",\"flocking\",\"flocking\",\"flocking\",\"flocking\",\"flocking\",\"flocking\",\"flocking\",\"flocking\",\"flocking\",\"flocking\",\"flocking\",\"flocking\",\"flocking\",\"flocking\",\"flocking\",\"flocking\",\"flocking\",\"flocking\",\"flocking\",\"flocking\",\"flocking\",\"flocking\",\"flocking\",\"flocking\",\"flocking\",\"flocking\",\"flocking\",\"flocking\",\"flocking\",\"flocking\",\"flocking\",\"flocking\",\"flocking\",\"flocking\",\"flocking\",\"flocking\",\"flocking\",\"flocking\",\"flocking\",\"flocking\",\"flocking\",\"flocking\",\"flocking\",\"flocking\",\"flocking\",\"flocking\",\"flocking\",\"flocking\",\"flocking\",\"flocking\",\"flocking\",\"flocking\",\"flocking\",\"flocking\",\"flocking\",\"flocking\",\"flocking\",\"flocking\",\"flocking\",\"flocking\",\"flocking\",\"flocking\",\"flocking\",\"flocking\",\"flocking\",\"flocking\",\"flocking\",\"flocking\",\"flocking\",\"flocking\",\"flocking\",\"flocking\",\"flocking\",\"flocking\",\"flocking\",\"flocking\",\"flocking\",\"flocking\",\"flocking\",\"flocking\",\"flocking\",\"flocking\",\"flocking\",\"flocking\",\"flocking\",\"flocking\",\"flocking\",\"flocking\",\"flocking\",\"flocking\",\"flocking\",\"flocking\",\"flocking\",\"flocking\",\"flocking\",\"flocking\",\"flocking\",\"flocking\",\"flocking\",\"flocking\",\"flocking\",\"flocking\",\"flocking\",\"flocking\",\"flocking\",\"flocking\",\"flocking\",\"flocking\",\"flocking\",\"flocking\",\"flocking\",\"flocking\",\"flocking\",\"flocking\",\"flocking\",\"flocking\",\"flocking\",\"flocking\",\"flocking\",\"flocking\",\"flocking\",\"flocking\",\"flocking\",\"flocking\",\"flocking\",\"flocking\",\"flocking\",\"flocking\",\"flocking\",\"flocking\",\"flocking\",\"flocking\",\"flocking\",\"flocking\",\"flocking\",\"flocking\",\"flocking\",\"flocking\",\"flocking\",\"flocking\",\"flocking\",\"flocking\",\"flocking\",\"flocking\",\"flocking\",\"flocking\",\"flocking\",\"flocking\",\"flocking\",\"flocking\",\"flocking\",\"flocking\",\"flocking\",\"flocking\",\"flocking\",\"flocking\",\"flocking\",\"flocking\",\"flocking\",\"flocking\",\"flocking\",\"flocking\",\"flocking\",\"flocking\",\"flocking\",\"flocking\",\"flocking\",\"flocking\",\"flocking\",\"flocking\",\"flocking\",\"flocking\",\"flocking\",\"flocking\",\"flocking\",\"flocking\",\"flocking\",\"flocking\",\"flocking\",\"flocking\",\"flocking\",\"flocking\",\"flocking\",\"flocking\",\"flocking\",\"flocking\",\"flocking\",\"flocking\",\"flocking\",\"flocking\",\"flocking\",\"flocking\",\"flocking\",\"flocking\",\"flocking\",\"flocking\",\"flocking\",\"flocking\",\"flocking\",\"flocking\",\"flocking\",\"flocking\",\"flocking\",\"flocking\",\"flocking\",\"flocking\",\"flocking\",\"flocking\",\"flocking\",\"flocking\",\"flocking\",\"flocking\",\"flocking\",\"flocking\",\"flocking\",\"flocking\",\"flocking\",\"flocking\",\"flocking\",\"flocking\",\"flocking\",\"flocking\",\"flocking\",\"flocking\",\"flocking\",\"flocking\",\"flocking\",\"flocking\",\"flocking\",\"flocking\",\"flocking\",\"flocking\",\"flocking\",\"flocking\",\"flocking\",\"flocking\",\"flocking\",\"flocking\",\"flocking\",\"flocking\",\"flocking\",\"flocking\",\"flocking\",\"flocking\",\"flocking\",\"flocking\",\"flocking\",\"flocking\",\"flocking\",\"flocking\",\"flocking\",\"flocking\",\"flocking\",\"flocking\",\"flocking\",\"flocking\",\"flocking\",\"flocking\",\"flocking\",\"flocking\",\"flocking\",\"flocking\",\"flocking\"],\"x0\":\" \",\"xaxis\":\"x\",\"y\":[0.8439814814814814,0.5796296296296296,0.0,0.0,0.525,0.95,0.0,0.0,0.4134259259259259,0.0,0.162037037037037,1.0,0.0,1.162037037037037,0.3976851851851852,0.0,0.2662037037037037,0.0,0.0,0.4074074074074074,0.0,0.0,0.0,0.0,0.0,0.7861111111111111,0.0,0.0,0.0,1.2027777777777775,0.8851851851851852,0.0,0.0,1.7546296296296295,0.0,0.0,0.0,0.2527777777777777,0.0,0.0,0.4796296296296296,1.173148148148148,0.0,0.5717592592592593,0.0,0.0805555555555555,0.9717592592592592,0.0356481481481481,0.0,0.0,0.1416666666666666,0.0,0.0,1.1847222222222222,0.8449074074074074,0.0,0.0,0.0,0.3259259259259259,0.0,1.6879629629629629,0.0,0.0,0.0,0.1453703703703703,0.0,0.5212962962962963,0.0,0.8222222222222222,1.2472222222222222,0.9745370370370372,1.0185185185185186,0.6972222222222222,0.049537037037037,1.5574074074074074,0.0,0.024537037037037,0.0,0.1578703703703703,0.0,0.0,0.9814814814814816,0.0,0.3671296296296296,0.2824074074074074,0.0,0.0,1.0106481481481482,1.611574074074074,0.0,0.9722222222222222,0.4356481481481482,0.924537037037037,0.9699074074074074,1.7194444444444446,1.7555555555555555,0.7865740740740741,0.0,0.0,0.0,0.0,0.0,1.249074074074074,0.0,0.2361111111111111,0.0,0.0,0.0,0.6185185185185185,0.0,0.5388888888888889,0.9254629629629628,0.9907407407407408,0.0,0.0,0.2018518518518518,0.0,0.0,0.0,0.0,1.0611111111111111,0.0,0.0,0.0,0.0,0.9027777777777778,0.249537037037037,0.0,0.549537037037037,1.1949074074074073,0.4560185185185185,0.1726851851851852,0.0,0.0,0.0,0.0,0.0,0.0,0.0,2.3023148148148147,0.0,0.0,0.0,0.0,0.6768518518518518,0.0,0.0,0.0,0.0,3.287037037037037,0.0,0.0,0.0,0.0,0.0,0.0,0.0,0.0,0.0,0.0,1.5166666666666666,1.0611111111111111,0.9523148148148148,0.4685185185185185,0.937037037037037,1.2837962962962963,0.638425925925926,0.0,0.0,0.0,0.963425925925926,0.0,0.9555555555555556,0.0,0.9050925925925926,0.0,0.0,0.486574074074074,0.2643518518518518,0.4916666666666666,0.0,0.5388888888888889,0.0,0.0,0.0,0.0,0.0,0.1273148148148148,0.7671296296296296,0.0476851851851851,0.0,2.5032407407407407,0.0,0.0,1.4287037037037038,0.0,0.1421296296296296,0.0,0.0,0.0,0.2976851851851851,0.0,1.236574074074074,0.0,0.5638888888888889,0.0,0.0,null,0.3773148148148148,0.0,1.011111111111111,0.2166666666666666,0.0412037037037037,0.0,0.6597222222222222,0.3074074074074074,1.1824074074074074,0.1,0.0,0.0,0.0,0.4712962962962962,0.2717592592592592,0.0,0.0,0.0,0.0,0.0,0.7217592592592592,0.0523148148148148,0.0,0.0,0.4453703703703703,0.963425925925926,0.0,0.1685185185185185,0.0,0.7240740740740741,0.0,0.0439814814814814,0.549074074074074,0.0,0.0,0.0,0.2805555555555555,0.3712962962962963,0.4587962962962963,0.0,0.0,0.3296296296296296,0.8175925925925925,0.5055555555555555,0.2583333333333333,0.7675925925925926,0.5643518518518519,0.0,0.0,0.1004629629629629,0.0,0.0,0.0,0.0,0.1342592592592592,0.4509259259259259,0.0,0.0,0.0,1.1583333333333334,0.0,0.0,0.0,1.2023148148148148,0.086574074074074,0.0,1.489814814814815,0.0,0.0,0.3027777777777777,0.7222222222222222,0.0,0.0,1.1935185185185184,0.0,0.0,0.0,0.0,0.1421296296296296,0.0,0.0,0.0,0.4712962962962962,0.8791666666666667,0.0,0.0,0.0,0.0,0.0,0.0856481481481481,0.5523148148148148,0.0,0.0,0.7546296296296297,0.0,0.0,0.3194444444444444,0.0,0.0888888888888888,0.0,0.0,1.6083333333333334,1.0,0.0,0.2490740740740741,0.4481481481481481,0.4324074074074074,0.7949074074074074,0.2217592592592592,2.807407407407408,0.0,0.0,0.736574074074074,0.4606481481481481,0.0,0.0601851851851851,0.0773148148148148,1.523611111111111,0.799537037037037,0.0,0.424074074074074,0.0,0.424074074074074,0.7870370370370371,0.1768518518518518,0.0,0.0,0.0,0.1416666666666666,0.0,0.5310185185185186,0.0,0.0,1.0,0.0328703703703703,0.0,0.0555555555555555,0.0,0.0,2.573148148148148,0.0,1.7967592592592592,0.3263888888888889,0.0,0.0,0.3388888888888889,0.0,0.0,0.5148148148148148,0.0,2.462962962962963,0.0,0.2949074074074074,0.0,0.25,1.414351851851852,0.0,0.8333333333333334,0.0,0.0,1.3157407407407409,0.0,0.0356481481481481,0.15,1.980555555555556,0.0,1.1,0.0,0.0,0.0,0.7601851851851852,0.0,0.4509259259259259,0.1277777777777777,0.2083333333333333,0.0546296296296296,0.911574074074074,0.024537037037037,0.5990740740740741,0.0,0.0,0.0,0.0,0.5425925925925926,0.0,0.0,0.0,0.0,0.4648148148148148,0.0337962962962962,0.6111111111111112,0.0,0.1546296296296296,0.9120370370370372,0.5217592592592593,0.7939814814814815,0.0,0.0,0.1435185185185185,0.6106481481481482,0.0,0.0,0.0,0.3861111111111111,0.1462962962962962,0.8962962962962963,0.0,0.4425925925925926,0.0,0.0,0.7865740740740741,0.0,0.1851851851851851,0.0,0.0,0.0,0.337037037037037,0.0,0.1587962962962963,0.4759259259259259,0.5444444444444444,0.0662037037037037,0.1185185185185185,0.0,0.0050925925925925,0.0,0.924537037037037,0.825,0.1231481481481481,0.0,0.935648148148148,0.0,0.0,0.1666666666666666,1.325925925925926,1.4722222222222223,0.8162037037037037,0.3379629629629629,0.0606481481481481,0.0,0.0,0.6777777777777778,0.1666666666666666,1.647222222222222,0.0,0.0,0.8560185185185185,0.449074074074074,0.9212962962962964,0.1254629629629629,0.9694444444444444,0.0,2.9944444444444445,0.0,1.6990740740740742,0.8236111111111111,0.0,0.0,0.0,0.0,0.5583333333333333,0.0,0.0,0.0,0.0,0.0,0.0,0.0,0.0,0.0,0.0,1.2055555555555555,0.0,0.0527777777777777,0.0,0.0,0.5689814814814815,0.3777777777777777,0.0,0.0,0.3884259259259259,0.5699074074074074,0.0226851851851851,0.1768518518518518,0.4592592592592592,0.0,0.0,0.0,0.0,0.0,1.3439814814814814,0.9453703703703704,0.6810185185185185,0.0,0.0,0.0,0.0,0.0,0.0,1.223148148148148,0.0,0.0,0.175,0.3666666666666666,0.0,0.074537037037037,0.2222222222222222,1.760185185185185,0.6972222222222222,0.0476851851851851,1.209722222222222,0.0,1.1,2.323148148148148,0.4444444444444444,0.3453703703703704,0.0,0.0,0.0,0.6222222222222222,0.9194444444444444,0.9449074074074074,0.036574074074074,0.5587962962962963,0.0,0.0,0.0,0.0773148148148148,0.6643518518518519,0.0,0.0,0.0,1.024537037037037,0.2712962962962963,0.0,0.0523148148148148,0.0,0.0,0.1754629629629629,0.0,0.0,0.0,0.8138888888888889,0.0,0.4185185185185185,0.0,0.0,0.0,0.0,0.5310185185185186,0.0,0.1129629629629629,0.4583333333333333,0.0393518518518518,0.0199074074074074,0.8143518518518519,0.0,0.0,0.0,0.0578703703703703,0.0,0.0,0.2712962962962963,0.0,0.0,0.0,0.0,0.0,0.0,0.3189814814814815,0.0,0.0,0.0,0.0287037037037037,0.0,0.0,0.2305555555555555,0.0,0.0,0.0,0.0,0.0,0.0185185185185185,0.5333333333333333,0.0,0.0,0.0,0.0,0.0,0.0888888888888888,0.3384259259259259,0.0,0.0,0.0,0.0,0.0,0.7222222222222222,0.0,0.0,0.0,0.0472222222222222,0.0,0.0,0.2027777777777777,0.0,0.0,0.1532407407407407,0.0,0.6078703703703704,0.8717592592592592,0.0,0.7981481481481482,0.6064814814814815,0.0,0.2023148148148148,0.0143518518518518,0.0143518518518518,0.0,0.0,0.0,0.0,0.2106481481481481,0.0217592592592592,0.0,0.0,0.0,0.899537037037037,0.0,0.0,0.0,0.0,0.1009259259259259,0.9856481481481482,0.7425925925925926,0.0,0.0,0.0,0.8194444444444444,0.1439814814814815,0.0217592592592592,0.0,0.0,0.9032407407407408,0.0,0.0,0.0,0.0,0.0,0.0,0.0,0.0,0.787962962962963,0.0,0.3074074074074074,0.0,0.0,0.0,0.0,0.0,0.0,0.0,0.0,0.0,0.0,0.0106481481481481,0.0,0.4305555555555556,0.0,0.0,0.0,0.3111111111111111,0.0,0.0,0.0171296296296296,0.7356481481481482,0.1194444444444444,0.0,0.0,0.0,0.0,0.2759259259259259,0.0,0.0,0.0,0.0,0.0,0.6162037037037037,0.0,0.0,0.0,0.0,0.0,0.8162037037037037,0.0,0.0,0.0,0.0,0.0,0.0,0.0,0.0,0.3810185185185185,0.0,0.0,0.0,0.7578703703703704,0.0,0.0,0.0087962962962962,0.0,0.0,0.0,0.0,0.6523148148148148,0.0,0.850462962962963,0.2962962962962963,0.0,0.0467592592592592,0.0550925925925925,0.0,0.0,0.0,0.0,0.0,0.0,0.0,0.0,0.0,0.0,0.0,1.0,0.7560185185185185,0.0,0.0,0.0,0.0,0.0,0.0,0.0,0.0550925925925925,0.0,0.0217592592592592,0.8069444444444445,0.0,0.0,0.0134259259259259,0.0,0.0,0.0,0.0,0.0,0.1694444444444444,0.0199074074074074,0.0,0.938425925925926,0.2361111111111111,0.0,0.0,0.0,0.0,0.0,0.0,0.0,0.0,0.0,0.0217592592592592,0.0,0.0,0.0,0.0,0.5611111111111111,0.0,0.0,0.2592592592592592,0.0,0.0171296296296296,0.9662037037037036,0.0,0.7777777777777778,0.0,0.0,0.0,0.0,0.1444444444444444,0.0,0.0,0.0,0.0,0.0,0.0,0.0,0.262037037037037,0.0,0.0,0.0,0.0,0.0606481481481481,0.0,0.1166666666666666,0.0,0.0,0.0,0.0,0.0,0.0,0.0722222222222222,0.0,0.0,0.0851851851851851,0.0,0.0,0.0939814814814814,0.1,0.0,0.8245370370370371,0.0,0.0,0.4763888888888888,0.6648148148148149,0.0,0.0,0.0,0.0,0.0,0.0,0.2851851851851852,0.4296296296296296,0.0,0.4421296296296296,0.0254629629629629,0.0,0.0,0.0,0.0,0.0226851851851851,0.0,0.0,0.0,0.0,0.0,0.0,0.0,0.0,0.5023148148148148,0.0472222222222222,0.0,0.0,0.0,0.0,0.0,0.0,0.0,0.0,1.0,0.0,0.8050925925925926,0.0,0.6717592592592593,0.0162037037037037,0.0,0.0,0.0,0.512962962962963,0.0,0.7888888888888889,0.0356481481481481,0.788425925925926,0.0,0.0,0.0,0.0,0.0,0.4777777777777778,0.0861111111111111,0.3824074074074074,0.0,0.0,0.0171296296296296,0.0,0.0,0.0,0.0,0.0,0.0,0.0,0.6851851851851852,0.1583333333333333,0.0,0.9305555555555556,0.5810185185185185,0.0,0.0,0.0,0.0,0.0,0.0,0.0,0.0,0.0916666666666666,0.0,0.0,0.0,0.5157407407407407,0.0,0.0,0.7643518518518518,0.0,0.0,0.5527777777777778,0.0,0.0,0.924537037037037,0.0,0.0,0.4888888888888889,0.0,0.4462962962962963,0.0,0.0,0.1606481481481481,0.1412037037037037,0.0,0.0,0.0,0.3555555555555555,0.6592592592592592,0.0,0.0,0.0,0.7449074074074075,0.2356481481481481,0.0,0.0,0.0,0.0,0.7638888888888888,0.0,0.0,0.0,0.0,0.0,0.0,0.0,0.2703703703703703,0.6106481481481482,0.0,0.0,0.0037037037037037,0.0,0.1472222222222222,0.0,0.0,0.0,0.4703703703703704,0.0,0.0,0.0,0.0,0.0,0.0,0.0,0.6606481481481481,0.3777777777777777,0.6703703703703704,0.0,0.0,0.0,0.0,0.0,0.0,0.0,0.0,0.0,0.0,0.4259259259259259,0.0,0.0171296296296296,0.0,0.0,0.0,0.362962962962963,0.0,0.0,0.0,0.0,0.0,0.0972222222222222,0.0,0.0,0.3407407407407407,0.0,0.0,0.0,0.7379629629629629,0.7189814814814814,0.0,0.0,0.3722222222222222,0.0,0.0,0.0,0.2425925925925925,0.0,0.0,0.0,0.8134259259259259,0.0,0.0,0.0,0.0,0.0,0.0,0.0,0.0,0.0,0.161574074074074,0.0,0.0,0.0,0.0,0.0,0.0,0.0,0.0,0.0,0.0,0.0,0.0,0.0,0.0,0.0,0.0,0.0,0.4,0.0,0.0,0.0,0.0,0.0,0.0,0.0,0.0,0.0,0.0,0.0,0.0171296296296296,0.0439814814814814,0.0,0.3467592592592592,0.0,0.1685185185185185,0.0,0.0,0.0,0.3148148148148148,0.0,0.8439814814814814,0.0328703703703703,0.0,0.5393518518518519,0.0,0.0,0.0,0.0,0.0,0.0,0.0444444444444444,0.0217592592592592,0.3634259259259259,0.0,0.0,0.0,0.0888888888888888,0.0,0.0,0.6833333333333333,0.5449074074074074,0.0,0.0,0.0,0.0,0.861574074074074,0.0,0.0,0.0,0.0421296296296296,0.0,0.0,null,0.0,0.0476851851851851,0.0,0.0,0.0,0.0,0.0,0.0,0.0,0.0,0.0,0.0,0.011574074074074,0.0,0.1856481481481481,0.0449074074074074,0.0,0.0,0.0,0.0,0.0,0.0,0.0,0.0,0.0,0.0,0.0,0.0,0.0,0.0212962962962962,0.0,0.0,0.0,0.0,0.0,0.0,0.0,0.0,0.0,0.0,0.0,0.0,0.0,0.0,0.0,0.0,0.0,0.0,0.0143518518518518,0.0,0.0,0.0,0.0,0.0,0.0,0.0,0.0,0.0,0.0,0.0,0.0351851851851851,0.0,0.0,0.0,0.0,0.0,0.0,0.0,0.0,0.0,0.0,0.0439814814814814,0.0,0.0,0.0143518518518518,0.0134259259259259,0.0,0.0189814814814814,0.0,0.0,0.0,0.0,0.0,0.0,0.0,0.0134259259259259,0.0,0.0,0.0,0.0,0.0,0.0,0.0,1.0,0.0,0.0,0.0,0.0,0.0,0.0300925925925925,0.0,0.0,0.0,0.0,0.0,0.0,0.0,0.0,0.0,0.0,0.0,0.0,0.0,0.0,0.0,0.0,0.0,0.0,0.0,0.0,0.0,0.0,0.0,0.0,0.0,0.0,0.0106481481481481,0.0,0.011574074074074,0.011574074074074,0.0,0.0,0.0,0.0,0.0,0.0,0.0,0.0,0.0,0.0,0.0,0.0,0.0,0.0,0.0,0.0,0.0,0.0,0.0,0.0,0.0,0.0,0.0,0.0,0.0,0.0,0.0,0.0,0.0,0.0,0.0,0.0,0.0,0.0,0.0,0.0,0.0,0.0078703703703703,0.0,0.0,0.0,0.0,0.0,0.0,0.0,0.0,0.0,0.0226851851851851,0.0,0.0,0.0,0.0,0.0,0.0,0.0,0.0,0.0,0.0,0.0,0.0,1.0,0.0,0.0,0.0143518518518518,0.0,0.0,0.0,0.0,0.011574074074074,0.0,0.0217592592592592,0.0,0.0,0.0,0.0,0.0,0.0,0.0199074074074074,0.0,0.0,0.0,0.0106481481481481,0.0,0.0,0.0,0.0,0.0,0.0,0.0,0.0,0.0,0.0,0.0,0.0,0.0,0.0,0.0,0.0,0.0171296296296296,0.0,0.0,0.0,0.0,0.0,0.0,0.0,0.0,0.0,0.0,0.011574074074074,0.0,0.0,0.0,0.0,0.0,0.0,0.0,0.0,0.0,0.0,0.0171296296296296,0.0,0.0,0.0,0.0,0.0,0.0,0.0,0.0,0.0,0.0,0.0,0.0,0.0,0.0,0.0,0.0,0.0,0.0,0.0,0.0,0.0,0.0106481481481481,0.0,0.0,0.0,0.0,0.0,0.0,0.0,0.0,0.0,0.0,0.0,0.0,0.0,0.0,0.0,0.0337962962962962,0.0,0.0,0.0,0.0,0.0,0.0,0.0,0.0,0.0,0.0,0.0,0.0,0.0,0.0,0.0,0.0,0.0,0.0,0.0,0.0,0.024537037037037,0.0,0.0,0.0,0.0,0.0,0.0,0.011574074074074,0.0467592592592592,0.0,0.0,0.0,0.0,0.0,0.0,0.0,0.0,0.0,0.0,0.0,0.0,0.0,0.0,0.0217592592592592,0.0143518518518518,0.0,0.0,0.0,0.0,0.0,0.5361111111111111,0.0,0.0,0.0,0.0,0.0,0.0,0.0,0.0,0.0,0.0606481481481481,0.0,0.0106481481481481,0.0,0.0,0.0,0.0,0.0,0.0,0.0,0.0,0.0,0.0,0.0,0.0,0.0,0.0,0.0,0.0,0.0,0.0,0.0,0.0,0.0,0.0,0.0,0.0,0.0,0.0,0.0,0.0,0.0,0.0,0.0,0.0,0.0,0.0,0.0,0.0,0.0,0.0,0.0,0.0,0.0,0.0,0.0,0.8078703703703703,0.0,0.0,0.0,0.0,0.0,0.0,0.011574074074074,0.0,0.0,0.0,0.0,0.0,0.0,0.0,0.0,0.0,0.0324074074074074,0.0,0.0,0.0,0.0,0.0,0.0,0.0,0.0,0.0,0.0,0.0,0.0,0.0,0.0,0.0,0.0,0.011574074074074,0.0,0.0,0.0,0.0,0.0,0.0,0.0,0.0,0.0,0.0,0.0,0.0,0.0,0.0,0.0,0.0,0.0,0.0,0.0,0.0,0.0,0.0,0.0,0.0,0.0,0.0,0.0,0.0,0.0,0.0,0.0,0.0,0.0,0.0,0.0,0.0,0.0,0.0,0.0,0.0,0.0,0.0,0.0,0.0,0.0,0.0,0.0,0.0,0.0,0.0,0.0,0.0,0.0,0.0,0.0,0.0,0.0,0.1157407407407407,0.0,0.0,0.0,0.0,0.0,0.0134259259259259,0.0,0.0,0.0143518518518518,0.0,0.0,0.0162037037037037,0.0,0.0,0.0,0.0,0.0,0.0,0.0,0.0,0.0171296296296296,0.0,0.0,0.0,0.0,0.0,0.0,0.0,0.0,0.0,0.0,0.0,0.0,0.0,0.0,0.0,0.0,0.0,0.0,0.0171296296296296,0.0,0.0,0.0189814814814814,0.0,0.0,0.0,0.0,0.0,0.0,0.0,0.0,0.0,0.3976851851851852,0.0,0.011574074074074,0.0,0.0,0.0,0.0,0.0,null],\"y0\":\" \",\"yaxis\":\"y\",\"type\":\"box\"},{\"line\":{\"color\":\"green\",\"width\":2},\"mode\":\"lines\",\"name\":\"mean\",\"showlegend\":true,\"x\":[\"hj_naive\",\"hj_reactive\",\"flocking\"],\"y\":[0.3262182346580157,0.11054845904298458,0.009014260610975934],\"type\":\"scatter\"}],                        {\"template\":{\"data\":{\"histogram2dcontour\":[{\"type\":\"histogram2dcontour\",\"colorbar\":{\"outlinewidth\":0,\"ticks\":\"\"},\"colorscale\":[[0.0,\"#0d0887\"],[0.1111111111111111,\"#46039f\"],[0.2222222222222222,\"#7201a8\"],[0.3333333333333333,\"#9c179e\"],[0.4444444444444444,\"#bd3786\"],[0.5555555555555556,\"#d8576b\"],[0.6666666666666666,\"#ed7953\"],[0.7777777777777778,\"#fb9f3a\"],[0.8888888888888888,\"#fdca26\"],[1.0,\"#f0f921\"]]}],\"choropleth\":[{\"type\":\"choropleth\",\"colorbar\":{\"outlinewidth\":0,\"ticks\":\"\"}}],\"histogram2d\":[{\"type\":\"histogram2d\",\"colorbar\":{\"outlinewidth\":0,\"ticks\":\"\"},\"colorscale\":[[0.0,\"#0d0887\"],[0.1111111111111111,\"#46039f\"],[0.2222222222222222,\"#7201a8\"],[0.3333333333333333,\"#9c179e\"],[0.4444444444444444,\"#bd3786\"],[0.5555555555555556,\"#d8576b\"],[0.6666666666666666,\"#ed7953\"],[0.7777777777777778,\"#fb9f3a\"],[0.8888888888888888,\"#fdca26\"],[1.0,\"#f0f921\"]]}],\"heatmap\":[{\"type\":\"heatmap\",\"colorbar\":{\"outlinewidth\":0,\"ticks\":\"\"},\"colorscale\":[[0.0,\"#0d0887\"],[0.1111111111111111,\"#46039f\"],[0.2222222222222222,\"#7201a8\"],[0.3333333333333333,\"#9c179e\"],[0.4444444444444444,\"#bd3786\"],[0.5555555555555556,\"#d8576b\"],[0.6666666666666666,\"#ed7953\"],[0.7777777777777778,\"#fb9f3a\"],[0.8888888888888888,\"#fdca26\"],[1.0,\"#f0f921\"]]}],\"heatmapgl\":[{\"type\":\"heatmapgl\",\"colorbar\":{\"outlinewidth\":0,\"ticks\":\"\"},\"colorscale\":[[0.0,\"#0d0887\"],[0.1111111111111111,\"#46039f\"],[0.2222222222222222,\"#7201a8\"],[0.3333333333333333,\"#9c179e\"],[0.4444444444444444,\"#bd3786\"],[0.5555555555555556,\"#d8576b\"],[0.6666666666666666,\"#ed7953\"],[0.7777777777777778,\"#fb9f3a\"],[0.8888888888888888,\"#fdca26\"],[1.0,\"#f0f921\"]]}],\"contourcarpet\":[{\"type\":\"contourcarpet\",\"colorbar\":{\"outlinewidth\":0,\"ticks\":\"\"}}],\"contour\":[{\"type\":\"contour\",\"colorbar\":{\"outlinewidth\":0,\"ticks\":\"\"},\"colorscale\":[[0.0,\"#0d0887\"],[0.1111111111111111,\"#46039f\"],[0.2222222222222222,\"#7201a8\"],[0.3333333333333333,\"#9c179e\"],[0.4444444444444444,\"#bd3786\"],[0.5555555555555556,\"#d8576b\"],[0.6666666666666666,\"#ed7953\"],[0.7777777777777778,\"#fb9f3a\"],[0.8888888888888888,\"#fdca26\"],[1.0,\"#f0f921\"]]}],\"surface\":[{\"type\":\"surface\",\"colorbar\":{\"outlinewidth\":0,\"ticks\":\"\"},\"colorscale\":[[0.0,\"#0d0887\"],[0.1111111111111111,\"#46039f\"],[0.2222222222222222,\"#7201a8\"],[0.3333333333333333,\"#9c179e\"],[0.4444444444444444,\"#bd3786\"],[0.5555555555555556,\"#d8576b\"],[0.6666666666666666,\"#ed7953\"],[0.7777777777777778,\"#fb9f3a\"],[0.8888888888888888,\"#fdca26\"],[1.0,\"#f0f921\"]]}],\"mesh3d\":[{\"type\":\"mesh3d\",\"colorbar\":{\"outlinewidth\":0,\"ticks\":\"\"}}],\"scatter\":[{\"fillpattern\":{\"fillmode\":\"overlay\",\"size\":10,\"solidity\":0.2},\"type\":\"scatter\"}],\"parcoords\":[{\"type\":\"parcoords\",\"line\":{\"colorbar\":{\"outlinewidth\":0,\"ticks\":\"\"}}}],\"scatterpolargl\":[{\"type\":\"scatterpolargl\",\"marker\":{\"colorbar\":{\"outlinewidth\":0,\"ticks\":\"\"}}}],\"bar\":[{\"error_x\":{\"color\":\"#2a3f5f\"},\"error_y\":{\"color\":\"#2a3f5f\"},\"marker\":{\"line\":{\"color\":\"#E5ECF6\",\"width\":0.5},\"pattern\":{\"fillmode\":\"overlay\",\"size\":10,\"solidity\":0.2}},\"type\":\"bar\"}],\"scattergeo\":[{\"type\":\"scattergeo\",\"marker\":{\"colorbar\":{\"outlinewidth\":0,\"ticks\":\"\"}}}],\"scatterpolar\":[{\"type\":\"scatterpolar\",\"marker\":{\"colorbar\":{\"outlinewidth\":0,\"ticks\":\"\"}}}],\"histogram\":[{\"marker\":{\"pattern\":{\"fillmode\":\"overlay\",\"size\":10,\"solidity\":0.2}},\"type\":\"histogram\"}],\"scattergl\":[{\"type\":\"scattergl\",\"marker\":{\"colorbar\":{\"outlinewidth\":0,\"ticks\":\"\"}}}],\"scatter3d\":[{\"type\":\"scatter3d\",\"line\":{\"colorbar\":{\"outlinewidth\":0,\"ticks\":\"\"}},\"marker\":{\"colorbar\":{\"outlinewidth\":0,\"ticks\":\"\"}}}],\"scattermapbox\":[{\"type\":\"scattermapbox\",\"marker\":{\"colorbar\":{\"outlinewidth\":0,\"ticks\":\"\"}}}],\"scatterternary\":[{\"type\":\"scatterternary\",\"marker\":{\"colorbar\":{\"outlinewidth\":0,\"ticks\":\"\"}}}],\"scattercarpet\":[{\"type\":\"scattercarpet\",\"marker\":{\"colorbar\":{\"outlinewidth\":0,\"ticks\":\"\"}}}],\"carpet\":[{\"aaxis\":{\"endlinecolor\":\"#2a3f5f\",\"gridcolor\":\"white\",\"linecolor\":\"white\",\"minorgridcolor\":\"white\",\"startlinecolor\":\"#2a3f5f\"},\"baxis\":{\"endlinecolor\":\"#2a3f5f\",\"gridcolor\":\"white\",\"linecolor\":\"white\",\"minorgridcolor\":\"white\",\"startlinecolor\":\"#2a3f5f\"},\"type\":\"carpet\"}],\"table\":[{\"cells\":{\"fill\":{\"color\":\"#EBF0F8\"},\"line\":{\"color\":\"white\"}},\"header\":{\"fill\":{\"color\":\"#C8D4E3\"},\"line\":{\"color\":\"white\"}},\"type\":\"table\"}],\"barpolar\":[{\"marker\":{\"line\":{\"color\":\"#E5ECF6\",\"width\":0.5},\"pattern\":{\"fillmode\":\"overlay\",\"size\":10,\"solidity\":0.2}},\"type\":\"barpolar\"}],\"pie\":[{\"automargin\":true,\"type\":\"pie\"}]},\"layout\":{\"autotypenumbers\":\"strict\",\"colorway\":[\"#636efa\",\"#EF553B\",\"#00cc96\",\"#ab63fa\",\"#FFA15A\",\"#19d3f3\",\"#FF6692\",\"#B6E880\",\"#FF97FF\",\"#FECB52\"],\"font\":{\"color\":\"#2a3f5f\"},\"hovermode\":\"closest\",\"hoverlabel\":{\"align\":\"left\"},\"paper_bgcolor\":\"white\",\"plot_bgcolor\":\"#E5ECF6\",\"polar\":{\"bgcolor\":\"#E5ECF6\",\"angularaxis\":{\"gridcolor\":\"white\",\"linecolor\":\"white\",\"ticks\":\"\"},\"radialaxis\":{\"gridcolor\":\"white\",\"linecolor\":\"white\",\"ticks\":\"\"}},\"ternary\":{\"bgcolor\":\"#E5ECF6\",\"aaxis\":{\"gridcolor\":\"white\",\"linecolor\":\"white\",\"ticks\":\"\"},\"baxis\":{\"gridcolor\":\"white\",\"linecolor\":\"white\",\"ticks\":\"\"},\"caxis\":{\"gridcolor\":\"white\",\"linecolor\":\"white\",\"ticks\":\"\"}},\"coloraxis\":{\"colorbar\":{\"outlinewidth\":0,\"ticks\":\"\"}},\"colorscale\":{\"sequential\":[[0.0,\"#0d0887\"],[0.1111111111111111,\"#46039f\"],[0.2222222222222222,\"#7201a8\"],[0.3333333333333333,\"#9c179e\"],[0.4444444444444444,\"#bd3786\"],[0.5555555555555556,\"#d8576b\"],[0.6666666666666666,\"#ed7953\"],[0.7777777777777778,\"#fb9f3a\"],[0.8888888888888888,\"#fdca26\"],[1.0,\"#f0f921\"]],\"sequentialminus\":[[0.0,\"#0d0887\"],[0.1111111111111111,\"#46039f\"],[0.2222222222222222,\"#7201a8\"],[0.3333333333333333,\"#9c179e\"],[0.4444444444444444,\"#bd3786\"],[0.5555555555555556,\"#d8576b\"],[0.6666666666666666,\"#ed7953\"],[0.7777777777777778,\"#fb9f3a\"],[0.8888888888888888,\"#fdca26\"],[1.0,\"#f0f921\"]],\"diverging\":[[0,\"#8e0152\"],[0.1,\"#c51b7d\"],[0.2,\"#de77ae\"],[0.3,\"#f1b6da\"],[0.4,\"#fde0ef\"],[0.5,\"#f7f7f7\"],[0.6,\"#e6f5d0\"],[0.7,\"#b8e186\"],[0.8,\"#7fbc41\"],[0.9,\"#4d9221\"],[1,\"#276419\"]]},\"xaxis\":{\"gridcolor\":\"white\",\"linecolor\":\"white\",\"ticks\":\"\",\"title\":{\"standoff\":15},\"zerolinecolor\":\"white\",\"automargin\":true,\"zerolinewidth\":2},\"yaxis\":{\"gridcolor\":\"white\",\"linecolor\":\"white\",\"ticks\":\"\",\"title\":{\"standoff\":15},\"zerolinecolor\":\"white\",\"automargin\":true,\"zerolinewidth\":2},\"scene\":{\"xaxis\":{\"backgroundcolor\":\"#E5ECF6\",\"gridcolor\":\"white\",\"linecolor\":\"white\",\"showbackground\":true,\"ticks\":\"\",\"zerolinecolor\":\"white\",\"gridwidth\":2},\"yaxis\":{\"backgroundcolor\":\"#E5ECF6\",\"gridcolor\":\"white\",\"linecolor\":\"white\",\"showbackground\":true,\"ticks\":\"\",\"zerolinecolor\":\"white\",\"gridwidth\":2},\"zaxis\":{\"backgroundcolor\":\"#E5ECF6\",\"gridcolor\":\"white\",\"linecolor\":\"white\",\"showbackground\":true,\"ticks\":\"\",\"zerolinecolor\":\"white\",\"gridwidth\":2}},\"shapedefaults\":{\"line\":{\"color\":\"#2a3f5f\"}},\"annotationdefaults\":{\"arrowcolor\":\"#2a3f5f\",\"arrowhead\":0,\"arrowwidth\":1},\"geo\":{\"bgcolor\":\"white\",\"landcolor\":\"#E5ECF6\",\"subunitcolor\":\"white\",\"showland\":true,\"showlakes\":true,\"lakecolor\":\"white\"},\"title\":{\"x\":0.05},\"mapbox\":{\"style\":\"light\"}}},\"xaxis\":{\"anchor\":\"y\",\"domain\":[0.0,1.0],\"title\":{\"text\":\"controllers\"}},\"yaxis\":{\"anchor\":\"x\",\"domain\":[0.0,1.0],\"title\":{\"text\":\"IPM\"}},\"legend\":{\"tracegroupgap\":0},\"margin\":{\"t\":60},\"boxmode\":\"group\",\"title\":{\"text\":\"Isolated_platform_metric\"}},                        {\"responsive\": true}                    ).then(function(){\n",
       "                            \n",
       "var gd = document.getElementById('33db4368-3e49-4f67-b0fb-b2c54092a488');\n",
       "var x = new MutationObserver(function (mutations, observer) {{\n",
       "        var display = window.getComputedStyle(gd).display;\n",
       "        if (!display || display === 'none') {{\n",
       "            console.log([gd, 'removed!']);\n",
       "            Plotly.purge(gd);\n",
       "            observer.disconnect();\n",
       "        }}\n",
       "}});\n",
       "\n",
       "// Listen for the removal of the full notebook cells\n",
       "var notebookContainer = gd.closest('#notebook-container');\n",
       "if (notebookContainer) {{\n",
       "    x.observe(notebookContainer, {childList: true});\n",
       "}}\n",
       "\n",
       "// Listen for the clearing of the current output cell\n",
       "var outputEl = gd.closest('.output');\n",
       "if (outputEl) {{\n",
       "    x.observe(outputEl, {childList: true});\n",
       "}}\n",
       "\n",
       "                        })                };                });            </script>        </div>"
      ]
     },
     "metadata": {},
     "output_type": "display_data"
    }
   ],
   "source": [
    "ipm_dict= {\"hj_naive\": metrics_hj_naive[\"Isolated_platform_metric\"],\n",
    "                      \"hj_reactive\": metrics_hj_reactive[\"Isolated_platform_metric\"],\n",
    "                      \"flocking\": metrics_hj_flocking[\"Isolated_platform_metric\"]}\n",
    "ipm_df = pd.DataFrame(ipm_dict)\n",
    "fig_ipm = px.box(ipm_df, log_y=False )\n",
    "mean_trace = go.Scatter(\n",
    "    x=ipm_df.columns,\n",
    "    y=ipm_df.mean(),\n",
    "    mode='lines',\n",
    "    line=dict(color='green', width=2),\n",
    "    showlegend=True,\n",
    "    name=\"mean\"\n",
    ")\n",
    "fig_ipm.add_trace(mean_trace)\n",
    "# Add custom x and y labels\n",
    "fig_ipm.update_layout(\n",
    "    xaxis_title=\"controllers\",\n",
    "    yaxis_title=\"IPM\",\n",
    "    title = {'text': \"Isolated_platform_metric\"}\n",
    ")\n",
    "fig_ipm.show()"
   ]
  },
  {
   "attachments": {},
   "cell_type": "markdown",
   "metadata": {},
   "source": [
    "### Get Metrics summary as a dict:"
   ]
  },
  {
   "cell_type": "code",
   "execution_count": 8,
   "metadata": {},
   "outputs": [],
   "source": [
    "def get_metrics_summary(metrics_file:pd.DataFrame, ctrl_name: str)->dict:\n",
    "    return {\n",
    "    \"ctrl_name\": ctrl_name,\n",
    "    \"avg_beta_index\":metrics_file[\"Average Beta Index\"].mean(),\n",
    "    \"avg_isolated_pltf_integral_hj_naive\": metrics_file[\"Isolated_platform_metric\"].mean(),\n",
    "    \"avg_correction_from_opt_ctrl_deg\": metrics_file[\"Mean maximum correction from optimal control degrees\"].mean(),\n",
    "    \"avg_mean_min_dist_to_target_km\": Distance(deg=metrics_file[\"Mean minimum distance to target among all platforms in deg\"].mean()).km,\n",
    "    \"avg_nb_platfroms_reaching_target\": metrics_file[\"Reaching_target\"].mean(),\n",
    "    \"nb_missions_with_isolated_pltf\": np.sum(metrics_file[\"Isolated_platform_metric\"] > 0),\n",
    "    \"nb_missions_with_collisions\": np.sum(metrics_file[\"Number_of_collision\"] > 0),\n",
    "    \"nb_missions_success\": np.sum(metrics_file[\"Mission_success\"]==1),\n",
    "}"
   ]
  },
  {
   "attachments": {},
   "cell_type": "markdown",
   "metadata": {},
   "source": [
    "  + HJ Multi-Agent Naive"
   ]
  },
  {
   "cell_type": "code",
   "execution_count": 9,
   "metadata": {},
   "outputs": [
    {
     "name": "stdout",
     "output_type": "stream",
     "text": [
      "{'ctrl_name': 'hj_naive', 'avg_beta_index': 1.0869452149791954, 'avg_isolated_pltf_integral_hj_naive': 0.3262182346580157, 'avg_correction_from_opt_ctrl_deg': 0.0, 'avg_mean_min_dist_to_target_km': 0.5073981506901873, 'avg_nb_platfroms_reaching_target': 0.9657846715328468, 'nb_missions_with_isolated_pltf': 262, 'nb_missions_with_collisions': 217, 'nb_missions_success': 125}\n"
     ]
    }
   ],
   "source": [
    "metrics_summary_hj_naive = get_metrics_summary(metrics_hj_naive, ctrl_name=\"hj_naive\")\n",
    "print(metrics_summary_hj_naive)\n",
    "summary_hj_naive_df = pd.DataFrame(metrics_summary_hj_naive, index=[0])"
   ]
  },
  {
   "attachments": {},
   "cell_type": "markdown",
   "metadata": {},
   "source": [
    "+ HJ Multi-Agent Decentralized Reactive Control"
   ]
  },
  {
   "cell_type": "code",
   "execution_count": 10,
   "metadata": {},
   "outputs": [
    {
     "name": "stdout",
     "output_type": "stream",
     "text": [
      "{'ctrl_name': 'hj_reactive', 'avg_beta_index': 1.2194893548093182, 'avg_isolated_pltf_integral_hj_naive': 0.11054845904298458, 'avg_correction_from_opt_ctrl_deg': 25.713171998879574, 'avg_mean_min_dist_to_target_km': 0.6602556119650705, 'avg_nb_platfroms_reaching_target': 0.9197080291970803, 'nb_missions_with_isolated_pltf': 157, 'nb_missions_with_collisions': 7, 'nb_missions_success': 337}\n"
     ]
    }
   ],
   "source": [
    "metrics_summary_hj_reactive = get_metrics_summary(metrics_hj_reactive, ctrl_name='hj_reactive')\n",
    "print(metrics_summary_hj_reactive)\n",
    "summary_hj_naive_reactive = pd.DataFrame(metrics_summary_hj_reactive, index=[0])"
   ]
  },
  {
   "attachments": {},
   "cell_type": "markdown",
   "metadata": {},
   "source": [
    "+ HJ Multi-Agent Flocking"
   ]
  },
  {
   "cell_type": "code",
   "execution_count": 11,
   "metadata": {},
   "outputs": [
    {
     "name": "stdout",
     "output_type": "stream",
     "text": [
      "{'ctrl_name': 'hj_flocking', 'avg_beta_index': 1.4108503244682469, 'avg_isolated_pltf_integral_hj_naive': 0.009014260610975934, 'avg_correction_from_opt_ctrl_deg': 24.359400797473548, 'avg_mean_min_dist_to_target_km': 0.5833058160461944, 'avg_nb_platfroms_reaching_target': 0.9411496350364964, 'nb_missions_with_isolated_pltf': 51, 'nb_missions_with_collisions': 7, 'nb_missions_success': 435}\n"
     ]
    }
   ],
   "source": [
    "metrics_summary_hj_flocking = get_metrics_summary(metrics_hj_flocking, ctrl_name='hj_flocking')\n",
    "print(metrics_summary_hj_flocking)\n",
    "summary_hj_naive_flocking= pd.DataFrame(metrics_summary_hj_flocking, index=[0])"
   ]
  },
  {
   "attachments": {},
   "cell_type": "markdown",
   "metadata": {},
   "source": [
    "## Confusion Matrices Plots"
   ]
  },
  {
   "cell_type": "code",
   "execution_count": 17,
   "metadata": {},
   "outputs": [],
   "source": [
    "def plot_confusion_matrix(x, y, x_label, y_label, title_name:str):\n",
    "    import seaborn as sns\n",
    "    import matplotlib.pyplot as plt\n",
    "    from matplotlib.colors import LogNorm\n",
    "\n",
    "    confusion_matrix = pd.crosstab(x, y, rownames=[x_label], colnames=[y_label])\n",
    "    fig = px.imshow(confusion_matrix, text_auto=True)\n",
    "    fig.update_layout(\n",
    "        title = {'text': title_name}\n",
    "    )\n",
    "    fig.show()\n",
    "    # ax = sns.heatmap(confusion_matrix, annot=True, cmap=plt.cm.RdYlGn, square=True, fmt='g')\n",
    "    # # ax = sns.heatmap(confusion_matrix, annot=True, cmap=plt.cm.RdYlGn, square=True, norm=LogNorm(), fmt='g') # if heat map is in norm\n",
    "    # plt.tick_params(axis='both', which='major', labelbottom=False, bottom=False, top=True, labeltop=True)\n",
    "    # ax.xaxis.set_label_position('top')\n",
    "    # ax.plot\n",
    "    # plt.title(title_name)\n",
    "    # plt.show()\n",
    "    return fig"
   ]
  },
  {
   "attachments": {},
   "cell_type": "markdown",
   "metadata": {},
   "source": [
    "###  HJ naive vs Decentralized Reactive Control"
   ]
  },
  {
   "attachments": {},
   "cell_type": "markdown",
   "metadata": {},
   "source": [
    "+  Missions with collisions"
   ]
  },
  {
   "cell_type": "code",
   "execution_count": 18,
   "metadata": {},
   "outputs": [
    {
     "data": {
      "application/vnd.plotly.v1+json": {
       "config": {
        "plotlyServerURL": "https://plot.ly"
       },
       "data": [
        {
         "coloraxis": "coloraxis",
         "hovertemplate": "Multi-Agent HJ Reactive Control: %{x}<br>Multi-Agent HJ Naive: %{y}<br>color: %{z}<extra></extra>",
         "name": "0",
         "texttemplate": "%{z}",
         "type": "heatmap",
         "x": [
          false,
          true
         ],
         "xaxis": "x",
         "y": [
          false,
          true
         ],
         "yaxis": "y",
         "z": [
          [
           331,
           0
          ],
          [
           210,
           7
          ]
         ]
        }
       ],
       "layout": {
        "coloraxis": {
         "colorscale": [
          [
           0,
           "#0d0887"
          ],
          [
           0.1111111111111111,
           "#46039f"
          ],
          [
           0.2222222222222222,
           "#7201a8"
          ],
          [
           0.3333333333333333,
           "#9c179e"
          ],
          [
           0.4444444444444444,
           "#bd3786"
          ],
          [
           0.5555555555555556,
           "#d8576b"
          ],
          [
           0.6666666666666666,
           "#ed7953"
          ],
          [
           0.7777777777777778,
           "#fb9f3a"
          ],
          [
           0.8888888888888888,
           "#fdca26"
          ],
          [
           1,
           "#f0f921"
          ]
         ]
        },
        "margin": {
         "t": 60
        },
        "template": {
         "data": {
          "bar": [
           {
            "error_x": {
             "color": "#2a3f5f"
            },
            "error_y": {
             "color": "#2a3f5f"
            },
            "marker": {
             "line": {
              "color": "#E5ECF6",
              "width": 0.5
             },
             "pattern": {
              "fillmode": "overlay",
              "size": 10,
              "solidity": 0.2
             }
            },
            "type": "bar"
           }
          ],
          "barpolar": [
           {
            "marker": {
             "line": {
              "color": "#E5ECF6",
              "width": 0.5
             },
             "pattern": {
              "fillmode": "overlay",
              "size": 10,
              "solidity": 0.2
             }
            },
            "type": "barpolar"
           }
          ],
          "carpet": [
           {
            "aaxis": {
             "endlinecolor": "#2a3f5f",
             "gridcolor": "white",
             "linecolor": "white",
             "minorgridcolor": "white",
             "startlinecolor": "#2a3f5f"
            },
            "baxis": {
             "endlinecolor": "#2a3f5f",
             "gridcolor": "white",
             "linecolor": "white",
             "minorgridcolor": "white",
             "startlinecolor": "#2a3f5f"
            },
            "type": "carpet"
           }
          ],
          "choropleth": [
           {
            "colorbar": {
             "outlinewidth": 0,
             "ticks": ""
            },
            "type": "choropleth"
           }
          ],
          "contour": [
           {
            "colorbar": {
             "outlinewidth": 0,
             "ticks": ""
            },
            "colorscale": [
             [
              0,
              "#0d0887"
             ],
             [
              0.1111111111111111,
              "#46039f"
             ],
             [
              0.2222222222222222,
              "#7201a8"
             ],
             [
              0.3333333333333333,
              "#9c179e"
             ],
             [
              0.4444444444444444,
              "#bd3786"
             ],
             [
              0.5555555555555556,
              "#d8576b"
             ],
             [
              0.6666666666666666,
              "#ed7953"
             ],
             [
              0.7777777777777778,
              "#fb9f3a"
             ],
             [
              0.8888888888888888,
              "#fdca26"
             ],
             [
              1,
              "#f0f921"
             ]
            ],
            "type": "contour"
           }
          ],
          "contourcarpet": [
           {
            "colorbar": {
             "outlinewidth": 0,
             "ticks": ""
            },
            "type": "contourcarpet"
           }
          ],
          "heatmap": [
           {
            "colorbar": {
             "outlinewidth": 0,
             "ticks": ""
            },
            "colorscale": [
             [
              0,
              "#0d0887"
             ],
             [
              0.1111111111111111,
              "#46039f"
             ],
             [
              0.2222222222222222,
              "#7201a8"
             ],
             [
              0.3333333333333333,
              "#9c179e"
             ],
             [
              0.4444444444444444,
              "#bd3786"
             ],
             [
              0.5555555555555556,
              "#d8576b"
             ],
             [
              0.6666666666666666,
              "#ed7953"
             ],
             [
              0.7777777777777778,
              "#fb9f3a"
             ],
             [
              0.8888888888888888,
              "#fdca26"
             ],
             [
              1,
              "#f0f921"
             ]
            ],
            "type": "heatmap"
           }
          ],
          "heatmapgl": [
           {
            "colorbar": {
             "outlinewidth": 0,
             "ticks": ""
            },
            "colorscale": [
             [
              0,
              "#0d0887"
             ],
             [
              0.1111111111111111,
              "#46039f"
             ],
             [
              0.2222222222222222,
              "#7201a8"
             ],
             [
              0.3333333333333333,
              "#9c179e"
             ],
             [
              0.4444444444444444,
              "#bd3786"
             ],
             [
              0.5555555555555556,
              "#d8576b"
             ],
             [
              0.6666666666666666,
              "#ed7953"
             ],
             [
              0.7777777777777778,
              "#fb9f3a"
             ],
             [
              0.8888888888888888,
              "#fdca26"
             ],
             [
              1,
              "#f0f921"
             ]
            ],
            "type": "heatmapgl"
           }
          ],
          "histogram": [
           {
            "marker": {
             "pattern": {
              "fillmode": "overlay",
              "size": 10,
              "solidity": 0.2
             }
            },
            "type": "histogram"
           }
          ],
          "histogram2d": [
           {
            "colorbar": {
             "outlinewidth": 0,
             "ticks": ""
            },
            "colorscale": [
             [
              0,
              "#0d0887"
             ],
             [
              0.1111111111111111,
              "#46039f"
             ],
             [
              0.2222222222222222,
              "#7201a8"
             ],
             [
              0.3333333333333333,
              "#9c179e"
             ],
             [
              0.4444444444444444,
              "#bd3786"
             ],
             [
              0.5555555555555556,
              "#d8576b"
             ],
             [
              0.6666666666666666,
              "#ed7953"
             ],
             [
              0.7777777777777778,
              "#fb9f3a"
             ],
             [
              0.8888888888888888,
              "#fdca26"
             ],
             [
              1,
              "#f0f921"
             ]
            ],
            "type": "histogram2d"
           }
          ],
          "histogram2dcontour": [
           {
            "colorbar": {
             "outlinewidth": 0,
             "ticks": ""
            },
            "colorscale": [
             [
              0,
              "#0d0887"
             ],
             [
              0.1111111111111111,
              "#46039f"
             ],
             [
              0.2222222222222222,
              "#7201a8"
             ],
             [
              0.3333333333333333,
              "#9c179e"
             ],
             [
              0.4444444444444444,
              "#bd3786"
             ],
             [
              0.5555555555555556,
              "#d8576b"
             ],
             [
              0.6666666666666666,
              "#ed7953"
             ],
             [
              0.7777777777777778,
              "#fb9f3a"
             ],
             [
              0.8888888888888888,
              "#fdca26"
             ],
             [
              1,
              "#f0f921"
             ]
            ],
            "type": "histogram2dcontour"
           }
          ],
          "mesh3d": [
           {
            "colorbar": {
             "outlinewidth": 0,
             "ticks": ""
            },
            "type": "mesh3d"
           }
          ],
          "parcoords": [
           {
            "line": {
             "colorbar": {
              "outlinewidth": 0,
              "ticks": ""
             }
            },
            "type": "parcoords"
           }
          ],
          "pie": [
           {
            "automargin": true,
            "type": "pie"
           }
          ],
          "scatter": [
           {
            "fillpattern": {
             "fillmode": "overlay",
             "size": 10,
             "solidity": 0.2
            },
            "type": "scatter"
           }
          ],
          "scatter3d": [
           {
            "line": {
             "colorbar": {
              "outlinewidth": 0,
              "ticks": ""
             }
            },
            "marker": {
             "colorbar": {
              "outlinewidth": 0,
              "ticks": ""
             }
            },
            "type": "scatter3d"
           }
          ],
          "scattercarpet": [
           {
            "marker": {
             "colorbar": {
              "outlinewidth": 0,
              "ticks": ""
             }
            },
            "type": "scattercarpet"
           }
          ],
          "scattergeo": [
           {
            "marker": {
             "colorbar": {
              "outlinewidth": 0,
              "ticks": ""
             }
            },
            "type": "scattergeo"
           }
          ],
          "scattergl": [
           {
            "marker": {
             "colorbar": {
              "outlinewidth": 0,
              "ticks": ""
             }
            },
            "type": "scattergl"
           }
          ],
          "scattermapbox": [
           {
            "marker": {
             "colorbar": {
              "outlinewidth": 0,
              "ticks": ""
             }
            },
            "type": "scattermapbox"
           }
          ],
          "scatterpolar": [
           {
            "marker": {
             "colorbar": {
              "outlinewidth": 0,
              "ticks": ""
             }
            },
            "type": "scatterpolar"
           }
          ],
          "scatterpolargl": [
           {
            "marker": {
             "colorbar": {
              "outlinewidth": 0,
              "ticks": ""
             }
            },
            "type": "scatterpolargl"
           }
          ],
          "scatterternary": [
           {
            "marker": {
             "colorbar": {
              "outlinewidth": 0,
              "ticks": ""
             }
            },
            "type": "scatterternary"
           }
          ],
          "surface": [
           {
            "colorbar": {
             "outlinewidth": 0,
             "ticks": ""
            },
            "colorscale": [
             [
              0,
              "#0d0887"
             ],
             [
              0.1111111111111111,
              "#46039f"
             ],
             [
              0.2222222222222222,
              "#7201a8"
             ],
             [
              0.3333333333333333,
              "#9c179e"
             ],
             [
              0.4444444444444444,
              "#bd3786"
             ],
             [
              0.5555555555555556,
              "#d8576b"
             ],
             [
              0.6666666666666666,
              "#ed7953"
             ],
             [
              0.7777777777777778,
              "#fb9f3a"
             ],
             [
              0.8888888888888888,
              "#fdca26"
             ],
             [
              1,
              "#f0f921"
             ]
            ],
            "type": "surface"
           }
          ],
          "table": [
           {
            "cells": {
             "fill": {
              "color": "#EBF0F8"
             },
             "line": {
              "color": "white"
             }
            },
            "header": {
             "fill": {
              "color": "#C8D4E3"
             },
             "line": {
              "color": "white"
             }
            },
            "type": "table"
           }
          ]
         },
         "layout": {
          "annotationdefaults": {
           "arrowcolor": "#2a3f5f",
           "arrowhead": 0,
           "arrowwidth": 1
          },
          "autotypenumbers": "strict",
          "coloraxis": {
           "colorbar": {
            "outlinewidth": 0,
            "ticks": ""
           }
          },
          "colorscale": {
           "diverging": [
            [
             0,
             "#8e0152"
            ],
            [
             0.1,
             "#c51b7d"
            ],
            [
             0.2,
             "#de77ae"
            ],
            [
             0.3,
             "#f1b6da"
            ],
            [
             0.4,
             "#fde0ef"
            ],
            [
             0.5,
             "#f7f7f7"
            ],
            [
             0.6,
             "#e6f5d0"
            ],
            [
             0.7,
             "#b8e186"
            ],
            [
             0.8,
             "#7fbc41"
            ],
            [
             0.9,
             "#4d9221"
            ],
            [
             1,
             "#276419"
            ]
           ],
           "sequential": [
            [
             0,
             "#0d0887"
            ],
            [
             0.1111111111111111,
             "#46039f"
            ],
            [
             0.2222222222222222,
             "#7201a8"
            ],
            [
             0.3333333333333333,
             "#9c179e"
            ],
            [
             0.4444444444444444,
             "#bd3786"
            ],
            [
             0.5555555555555556,
             "#d8576b"
            ],
            [
             0.6666666666666666,
             "#ed7953"
            ],
            [
             0.7777777777777778,
             "#fb9f3a"
            ],
            [
             0.8888888888888888,
             "#fdca26"
            ],
            [
             1,
             "#f0f921"
            ]
           ],
           "sequentialminus": [
            [
             0,
             "#0d0887"
            ],
            [
             0.1111111111111111,
             "#46039f"
            ],
            [
             0.2222222222222222,
             "#7201a8"
            ],
            [
             0.3333333333333333,
             "#9c179e"
            ],
            [
             0.4444444444444444,
             "#bd3786"
            ],
            [
             0.5555555555555556,
             "#d8576b"
            ],
            [
             0.6666666666666666,
             "#ed7953"
            ],
            [
             0.7777777777777778,
             "#fb9f3a"
            ],
            [
             0.8888888888888888,
             "#fdca26"
            ],
            [
             1,
             "#f0f921"
            ]
           ]
          },
          "colorway": [
           "#636efa",
           "#EF553B",
           "#00cc96",
           "#ab63fa",
           "#FFA15A",
           "#19d3f3",
           "#FF6692",
           "#B6E880",
           "#FF97FF",
           "#FECB52"
          ],
          "font": {
           "color": "#2a3f5f"
          },
          "geo": {
           "bgcolor": "white",
           "lakecolor": "white",
           "landcolor": "#E5ECF6",
           "showlakes": true,
           "showland": true,
           "subunitcolor": "white"
          },
          "hoverlabel": {
           "align": "left"
          },
          "hovermode": "closest",
          "mapbox": {
           "style": "light"
          },
          "paper_bgcolor": "white",
          "plot_bgcolor": "#E5ECF6",
          "polar": {
           "angularaxis": {
            "gridcolor": "white",
            "linecolor": "white",
            "ticks": ""
           },
           "bgcolor": "#E5ECF6",
           "radialaxis": {
            "gridcolor": "white",
            "linecolor": "white",
            "ticks": ""
           }
          },
          "scene": {
           "xaxis": {
            "backgroundcolor": "#E5ECF6",
            "gridcolor": "white",
            "gridwidth": 2,
            "linecolor": "white",
            "showbackground": true,
            "ticks": "",
            "zerolinecolor": "white"
           },
           "yaxis": {
            "backgroundcolor": "#E5ECF6",
            "gridcolor": "white",
            "gridwidth": 2,
            "linecolor": "white",
            "showbackground": true,
            "ticks": "",
            "zerolinecolor": "white"
           },
           "zaxis": {
            "backgroundcolor": "#E5ECF6",
            "gridcolor": "white",
            "gridwidth": 2,
            "linecolor": "white",
            "showbackground": true,
            "ticks": "",
            "zerolinecolor": "white"
           }
          },
          "shapedefaults": {
           "line": {
            "color": "#2a3f5f"
           }
          },
          "ternary": {
           "aaxis": {
            "gridcolor": "white",
            "linecolor": "white",
            "ticks": ""
           },
           "baxis": {
            "gridcolor": "white",
            "linecolor": "white",
            "ticks": ""
           },
           "bgcolor": "#E5ECF6",
           "caxis": {
            "gridcolor": "white",
            "linecolor": "white",
            "ticks": ""
           }
          },
          "title": {
           "x": 0.05
          },
          "xaxis": {
           "automargin": true,
           "gridcolor": "white",
           "linecolor": "white",
           "ticks": "",
           "title": {
            "standoff": 15
           },
           "zerolinecolor": "white",
           "zerolinewidth": 2
          },
          "yaxis": {
           "automargin": true,
           "gridcolor": "white",
           "linecolor": "white",
           "ticks": "",
           "title": {
            "standoff": 15
           },
           "zerolinecolor": "white",
           "zerolinewidth": 2
          }
         }
        },
        "title": {
         "text": "Missions with collisions"
        },
        "xaxis": {
         "anchor": "y",
         "constrain": "domain",
         "domain": [
          0,
          1
         ],
         "scaleanchor": "y",
         "title": {
          "text": "Multi-Agent HJ Reactive Control"
         }
        },
        "yaxis": {
         "anchor": "x",
         "autorange": "reversed",
         "constrain": "domain",
         "domain": [
          0,
          1
         ],
         "title": {
          "text": "Multi-Agent HJ Naive"
         }
        }
       }
      },
      "text/html": [
       "<div>                            <div id=\"e0dca4cf-046d-433b-88a6-94a561e64481\" class=\"plotly-graph-div\" style=\"height:525px; width:100%;\"></div>            <script type=\"text/javascript\">                require([\"plotly\"], function(Plotly) {                    window.PLOTLYENV=window.PLOTLYENV || {};                                    if (document.getElementById(\"e0dca4cf-046d-433b-88a6-94a561e64481\")) {                    Plotly.newPlot(                        \"e0dca4cf-046d-433b-88a6-94a561e64481\",                        [{\"coloraxis\":\"coloraxis\",\"name\":\"0\",\"texttemplate\":\"%{z}\",\"x\":[false,true],\"y\":[false,true],\"z\":[[331,0],[210,7]],\"type\":\"heatmap\",\"xaxis\":\"x\",\"yaxis\":\"y\",\"hovertemplate\":\"Multi-Agent HJ Reactive Control: %{x}<br>Multi-Agent HJ Naive: %{y}<br>color: %{z}<extra></extra>\"}],                        {\"template\":{\"data\":{\"histogram2dcontour\":[{\"type\":\"histogram2dcontour\",\"colorbar\":{\"outlinewidth\":0,\"ticks\":\"\"},\"colorscale\":[[0.0,\"#0d0887\"],[0.1111111111111111,\"#46039f\"],[0.2222222222222222,\"#7201a8\"],[0.3333333333333333,\"#9c179e\"],[0.4444444444444444,\"#bd3786\"],[0.5555555555555556,\"#d8576b\"],[0.6666666666666666,\"#ed7953\"],[0.7777777777777778,\"#fb9f3a\"],[0.8888888888888888,\"#fdca26\"],[1.0,\"#f0f921\"]]}],\"choropleth\":[{\"type\":\"choropleth\",\"colorbar\":{\"outlinewidth\":0,\"ticks\":\"\"}}],\"histogram2d\":[{\"type\":\"histogram2d\",\"colorbar\":{\"outlinewidth\":0,\"ticks\":\"\"},\"colorscale\":[[0.0,\"#0d0887\"],[0.1111111111111111,\"#46039f\"],[0.2222222222222222,\"#7201a8\"],[0.3333333333333333,\"#9c179e\"],[0.4444444444444444,\"#bd3786\"],[0.5555555555555556,\"#d8576b\"],[0.6666666666666666,\"#ed7953\"],[0.7777777777777778,\"#fb9f3a\"],[0.8888888888888888,\"#fdca26\"],[1.0,\"#f0f921\"]]}],\"heatmap\":[{\"type\":\"heatmap\",\"colorbar\":{\"outlinewidth\":0,\"ticks\":\"\"},\"colorscale\":[[0.0,\"#0d0887\"],[0.1111111111111111,\"#46039f\"],[0.2222222222222222,\"#7201a8\"],[0.3333333333333333,\"#9c179e\"],[0.4444444444444444,\"#bd3786\"],[0.5555555555555556,\"#d8576b\"],[0.6666666666666666,\"#ed7953\"],[0.7777777777777778,\"#fb9f3a\"],[0.8888888888888888,\"#fdca26\"],[1.0,\"#f0f921\"]]}],\"heatmapgl\":[{\"type\":\"heatmapgl\",\"colorbar\":{\"outlinewidth\":0,\"ticks\":\"\"},\"colorscale\":[[0.0,\"#0d0887\"],[0.1111111111111111,\"#46039f\"],[0.2222222222222222,\"#7201a8\"],[0.3333333333333333,\"#9c179e\"],[0.4444444444444444,\"#bd3786\"],[0.5555555555555556,\"#d8576b\"],[0.6666666666666666,\"#ed7953\"],[0.7777777777777778,\"#fb9f3a\"],[0.8888888888888888,\"#fdca26\"],[1.0,\"#f0f921\"]]}],\"contourcarpet\":[{\"type\":\"contourcarpet\",\"colorbar\":{\"outlinewidth\":0,\"ticks\":\"\"}}],\"contour\":[{\"type\":\"contour\",\"colorbar\":{\"outlinewidth\":0,\"ticks\":\"\"},\"colorscale\":[[0.0,\"#0d0887\"],[0.1111111111111111,\"#46039f\"],[0.2222222222222222,\"#7201a8\"],[0.3333333333333333,\"#9c179e\"],[0.4444444444444444,\"#bd3786\"],[0.5555555555555556,\"#d8576b\"],[0.6666666666666666,\"#ed7953\"],[0.7777777777777778,\"#fb9f3a\"],[0.8888888888888888,\"#fdca26\"],[1.0,\"#f0f921\"]]}],\"surface\":[{\"type\":\"surface\",\"colorbar\":{\"outlinewidth\":0,\"ticks\":\"\"},\"colorscale\":[[0.0,\"#0d0887\"],[0.1111111111111111,\"#46039f\"],[0.2222222222222222,\"#7201a8\"],[0.3333333333333333,\"#9c179e\"],[0.4444444444444444,\"#bd3786\"],[0.5555555555555556,\"#d8576b\"],[0.6666666666666666,\"#ed7953\"],[0.7777777777777778,\"#fb9f3a\"],[0.8888888888888888,\"#fdca26\"],[1.0,\"#f0f921\"]]}],\"mesh3d\":[{\"type\":\"mesh3d\",\"colorbar\":{\"outlinewidth\":0,\"ticks\":\"\"}}],\"scatter\":[{\"fillpattern\":{\"fillmode\":\"overlay\",\"size\":10,\"solidity\":0.2},\"type\":\"scatter\"}],\"parcoords\":[{\"type\":\"parcoords\",\"line\":{\"colorbar\":{\"outlinewidth\":0,\"ticks\":\"\"}}}],\"scatterpolargl\":[{\"type\":\"scatterpolargl\",\"marker\":{\"colorbar\":{\"outlinewidth\":0,\"ticks\":\"\"}}}],\"bar\":[{\"error_x\":{\"color\":\"#2a3f5f\"},\"error_y\":{\"color\":\"#2a3f5f\"},\"marker\":{\"line\":{\"color\":\"#E5ECF6\",\"width\":0.5},\"pattern\":{\"fillmode\":\"overlay\",\"size\":10,\"solidity\":0.2}},\"type\":\"bar\"}],\"scattergeo\":[{\"type\":\"scattergeo\",\"marker\":{\"colorbar\":{\"outlinewidth\":0,\"ticks\":\"\"}}}],\"scatterpolar\":[{\"type\":\"scatterpolar\",\"marker\":{\"colorbar\":{\"outlinewidth\":0,\"ticks\":\"\"}}}],\"histogram\":[{\"marker\":{\"pattern\":{\"fillmode\":\"overlay\",\"size\":10,\"solidity\":0.2}},\"type\":\"histogram\"}],\"scattergl\":[{\"type\":\"scattergl\",\"marker\":{\"colorbar\":{\"outlinewidth\":0,\"ticks\":\"\"}}}],\"scatter3d\":[{\"type\":\"scatter3d\",\"line\":{\"colorbar\":{\"outlinewidth\":0,\"ticks\":\"\"}},\"marker\":{\"colorbar\":{\"outlinewidth\":0,\"ticks\":\"\"}}}],\"scattermapbox\":[{\"type\":\"scattermapbox\",\"marker\":{\"colorbar\":{\"outlinewidth\":0,\"ticks\":\"\"}}}],\"scatterternary\":[{\"type\":\"scatterternary\",\"marker\":{\"colorbar\":{\"outlinewidth\":0,\"ticks\":\"\"}}}],\"scattercarpet\":[{\"type\":\"scattercarpet\",\"marker\":{\"colorbar\":{\"outlinewidth\":0,\"ticks\":\"\"}}}],\"carpet\":[{\"aaxis\":{\"endlinecolor\":\"#2a3f5f\",\"gridcolor\":\"white\",\"linecolor\":\"white\",\"minorgridcolor\":\"white\",\"startlinecolor\":\"#2a3f5f\"},\"baxis\":{\"endlinecolor\":\"#2a3f5f\",\"gridcolor\":\"white\",\"linecolor\":\"white\",\"minorgridcolor\":\"white\",\"startlinecolor\":\"#2a3f5f\"},\"type\":\"carpet\"}],\"table\":[{\"cells\":{\"fill\":{\"color\":\"#EBF0F8\"},\"line\":{\"color\":\"white\"}},\"header\":{\"fill\":{\"color\":\"#C8D4E3\"},\"line\":{\"color\":\"white\"}},\"type\":\"table\"}],\"barpolar\":[{\"marker\":{\"line\":{\"color\":\"#E5ECF6\",\"width\":0.5},\"pattern\":{\"fillmode\":\"overlay\",\"size\":10,\"solidity\":0.2}},\"type\":\"barpolar\"}],\"pie\":[{\"automargin\":true,\"type\":\"pie\"}]},\"layout\":{\"autotypenumbers\":\"strict\",\"colorway\":[\"#636efa\",\"#EF553B\",\"#00cc96\",\"#ab63fa\",\"#FFA15A\",\"#19d3f3\",\"#FF6692\",\"#B6E880\",\"#FF97FF\",\"#FECB52\"],\"font\":{\"color\":\"#2a3f5f\"},\"hovermode\":\"closest\",\"hoverlabel\":{\"align\":\"left\"},\"paper_bgcolor\":\"white\",\"plot_bgcolor\":\"#E5ECF6\",\"polar\":{\"bgcolor\":\"#E5ECF6\",\"angularaxis\":{\"gridcolor\":\"white\",\"linecolor\":\"white\",\"ticks\":\"\"},\"radialaxis\":{\"gridcolor\":\"white\",\"linecolor\":\"white\",\"ticks\":\"\"}},\"ternary\":{\"bgcolor\":\"#E5ECF6\",\"aaxis\":{\"gridcolor\":\"white\",\"linecolor\":\"white\",\"ticks\":\"\"},\"baxis\":{\"gridcolor\":\"white\",\"linecolor\":\"white\",\"ticks\":\"\"},\"caxis\":{\"gridcolor\":\"white\",\"linecolor\":\"white\",\"ticks\":\"\"}},\"coloraxis\":{\"colorbar\":{\"outlinewidth\":0,\"ticks\":\"\"}},\"colorscale\":{\"sequential\":[[0.0,\"#0d0887\"],[0.1111111111111111,\"#46039f\"],[0.2222222222222222,\"#7201a8\"],[0.3333333333333333,\"#9c179e\"],[0.4444444444444444,\"#bd3786\"],[0.5555555555555556,\"#d8576b\"],[0.6666666666666666,\"#ed7953\"],[0.7777777777777778,\"#fb9f3a\"],[0.8888888888888888,\"#fdca26\"],[1.0,\"#f0f921\"]],\"sequentialminus\":[[0.0,\"#0d0887\"],[0.1111111111111111,\"#46039f\"],[0.2222222222222222,\"#7201a8\"],[0.3333333333333333,\"#9c179e\"],[0.4444444444444444,\"#bd3786\"],[0.5555555555555556,\"#d8576b\"],[0.6666666666666666,\"#ed7953\"],[0.7777777777777778,\"#fb9f3a\"],[0.8888888888888888,\"#fdca26\"],[1.0,\"#f0f921\"]],\"diverging\":[[0,\"#8e0152\"],[0.1,\"#c51b7d\"],[0.2,\"#de77ae\"],[0.3,\"#f1b6da\"],[0.4,\"#fde0ef\"],[0.5,\"#f7f7f7\"],[0.6,\"#e6f5d0\"],[0.7,\"#b8e186\"],[0.8,\"#7fbc41\"],[0.9,\"#4d9221\"],[1,\"#276419\"]]},\"xaxis\":{\"gridcolor\":\"white\",\"linecolor\":\"white\",\"ticks\":\"\",\"title\":{\"standoff\":15},\"zerolinecolor\":\"white\",\"automargin\":true,\"zerolinewidth\":2},\"yaxis\":{\"gridcolor\":\"white\",\"linecolor\":\"white\",\"ticks\":\"\",\"title\":{\"standoff\":15},\"zerolinecolor\":\"white\",\"automargin\":true,\"zerolinewidth\":2},\"scene\":{\"xaxis\":{\"backgroundcolor\":\"#E5ECF6\",\"gridcolor\":\"white\",\"linecolor\":\"white\",\"showbackground\":true,\"ticks\":\"\",\"zerolinecolor\":\"white\",\"gridwidth\":2},\"yaxis\":{\"backgroundcolor\":\"#E5ECF6\",\"gridcolor\":\"white\",\"linecolor\":\"white\",\"showbackground\":true,\"ticks\":\"\",\"zerolinecolor\":\"white\",\"gridwidth\":2},\"zaxis\":{\"backgroundcolor\":\"#E5ECF6\",\"gridcolor\":\"white\",\"linecolor\":\"white\",\"showbackground\":true,\"ticks\":\"\",\"zerolinecolor\":\"white\",\"gridwidth\":2}},\"shapedefaults\":{\"line\":{\"color\":\"#2a3f5f\"}},\"annotationdefaults\":{\"arrowcolor\":\"#2a3f5f\",\"arrowhead\":0,\"arrowwidth\":1},\"geo\":{\"bgcolor\":\"white\",\"landcolor\":\"#E5ECF6\",\"subunitcolor\":\"white\",\"showland\":true,\"showlakes\":true,\"lakecolor\":\"white\"},\"title\":{\"x\":0.05},\"mapbox\":{\"style\":\"light\"}}},\"xaxis\":{\"anchor\":\"y\",\"domain\":[0.0,1.0],\"scaleanchor\":\"y\",\"constrain\":\"domain\",\"title\":{\"text\":\"Multi-Agent HJ Reactive Control\"}},\"yaxis\":{\"anchor\":\"x\",\"domain\":[0.0,1.0],\"autorange\":\"reversed\",\"constrain\":\"domain\",\"title\":{\"text\":\"Multi-Agent HJ Naive\"}},\"coloraxis\":{\"colorscale\":[[0.0,\"#0d0887\"],[0.1111111111111111,\"#46039f\"],[0.2222222222222222,\"#7201a8\"],[0.3333333333333333,\"#9c179e\"],[0.4444444444444444,\"#bd3786\"],[0.5555555555555556,\"#d8576b\"],[0.6666666666666666,\"#ed7953\"],[0.7777777777777778,\"#fb9f3a\"],[0.8888888888888888,\"#fdca26\"],[1.0,\"#f0f921\"]]},\"margin\":{\"t\":60},\"title\":{\"text\":\"Missions with collisions\"}},                        {\"responsive\": true}                    ).then(function(){\n",
       "                            \n",
       "var gd = document.getElementById('e0dca4cf-046d-433b-88a6-94a561e64481');\n",
       "var x = new MutationObserver(function (mutations, observer) {{\n",
       "        var display = window.getComputedStyle(gd).display;\n",
       "        if (!display || display === 'none') {{\n",
       "            console.log([gd, 'removed!']);\n",
       "            Plotly.purge(gd);\n",
       "            observer.disconnect();\n",
       "        }}\n",
       "}});\n",
       "\n",
       "// Listen for the removal of the full notebook cells\n",
       "var notebookContainer = gd.closest('#notebook-container');\n",
       "if (notebookContainer) {{\n",
       "    x.observe(notebookContainer, {childList: true});\n",
       "}}\n",
       "\n",
       "// Listen for the clearing of the current output cell\n",
       "var outputEl = gd.closest('.output');\n",
       "if (outputEl) {{\n",
       "    x.observe(outputEl, {childList: true});\n",
       "}}\n",
       "\n",
       "                        })                };                });            </script>        </div>"
      ]
     },
     "metadata": {},
     "output_type": "display_data"
    }
   ],
   "source": [
    "fig_conf_react_coll = plot_confusion_matrix(metrics_hj_naive[\"Number_of_collision\"]>0, \n",
    "                        metrics_hj_reactive[\"Number_of_collision\"]>0, 'Multi-Agent HJ Naive', \n",
    "                        'Multi-Agent HJ Reactive Control', title_name=\"Missions with collisions\")"
   ]
  },
  {
   "attachments": {},
   "cell_type": "markdown",
   "metadata": {},
   "source": [
    "+ Missions with communication losses"
   ]
  },
  {
   "cell_type": "code",
   "execution_count": 19,
   "metadata": {},
   "outputs": [
    {
     "data": {
      "application/vnd.plotly.v1+json": {
       "config": {
        "plotlyServerURL": "https://plot.ly"
       },
       "data": [
        {
         "coloraxis": "coloraxis",
         "hovertemplate": "Multi-Agent HJ Reactive Control: %{x}<br>Multi-Agent HJ Naive: %{y}<br>color: %{z}<extra></extra>",
         "name": "0",
         "texttemplate": "%{z}",
         "type": "heatmap",
         "x": [
          false,
          true
         ],
         "xaxis": "x",
         "y": [
          false,
          true
         ],
         "yaxis": "y",
         "z": [
          [
           281,
           5
          ],
          [
           110,
           152
          ]
         ]
        }
       ],
       "layout": {
        "coloraxis": {
         "colorscale": [
          [
           0,
           "#0d0887"
          ],
          [
           0.1111111111111111,
           "#46039f"
          ],
          [
           0.2222222222222222,
           "#7201a8"
          ],
          [
           0.3333333333333333,
           "#9c179e"
          ],
          [
           0.4444444444444444,
           "#bd3786"
          ],
          [
           0.5555555555555556,
           "#d8576b"
          ],
          [
           0.6666666666666666,
           "#ed7953"
          ],
          [
           0.7777777777777778,
           "#fb9f3a"
          ],
          [
           0.8888888888888888,
           "#fdca26"
          ],
          [
           1,
           "#f0f921"
          ]
         ]
        },
        "margin": {
         "t": 60
        },
        "template": {
         "data": {
          "bar": [
           {
            "error_x": {
             "color": "#2a3f5f"
            },
            "error_y": {
             "color": "#2a3f5f"
            },
            "marker": {
             "line": {
              "color": "#E5ECF6",
              "width": 0.5
             },
             "pattern": {
              "fillmode": "overlay",
              "size": 10,
              "solidity": 0.2
             }
            },
            "type": "bar"
           }
          ],
          "barpolar": [
           {
            "marker": {
             "line": {
              "color": "#E5ECF6",
              "width": 0.5
             },
             "pattern": {
              "fillmode": "overlay",
              "size": 10,
              "solidity": 0.2
             }
            },
            "type": "barpolar"
           }
          ],
          "carpet": [
           {
            "aaxis": {
             "endlinecolor": "#2a3f5f",
             "gridcolor": "white",
             "linecolor": "white",
             "minorgridcolor": "white",
             "startlinecolor": "#2a3f5f"
            },
            "baxis": {
             "endlinecolor": "#2a3f5f",
             "gridcolor": "white",
             "linecolor": "white",
             "minorgridcolor": "white",
             "startlinecolor": "#2a3f5f"
            },
            "type": "carpet"
           }
          ],
          "choropleth": [
           {
            "colorbar": {
             "outlinewidth": 0,
             "ticks": ""
            },
            "type": "choropleth"
           }
          ],
          "contour": [
           {
            "colorbar": {
             "outlinewidth": 0,
             "ticks": ""
            },
            "colorscale": [
             [
              0,
              "#0d0887"
             ],
             [
              0.1111111111111111,
              "#46039f"
             ],
             [
              0.2222222222222222,
              "#7201a8"
             ],
             [
              0.3333333333333333,
              "#9c179e"
             ],
             [
              0.4444444444444444,
              "#bd3786"
             ],
             [
              0.5555555555555556,
              "#d8576b"
             ],
             [
              0.6666666666666666,
              "#ed7953"
             ],
             [
              0.7777777777777778,
              "#fb9f3a"
             ],
             [
              0.8888888888888888,
              "#fdca26"
             ],
             [
              1,
              "#f0f921"
             ]
            ],
            "type": "contour"
           }
          ],
          "contourcarpet": [
           {
            "colorbar": {
             "outlinewidth": 0,
             "ticks": ""
            },
            "type": "contourcarpet"
           }
          ],
          "heatmap": [
           {
            "colorbar": {
             "outlinewidth": 0,
             "ticks": ""
            },
            "colorscale": [
             [
              0,
              "#0d0887"
             ],
             [
              0.1111111111111111,
              "#46039f"
             ],
             [
              0.2222222222222222,
              "#7201a8"
             ],
             [
              0.3333333333333333,
              "#9c179e"
             ],
             [
              0.4444444444444444,
              "#bd3786"
             ],
             [
              0.5555555555555556,
              "#d8576b"
             ],
             [
              0.6666666666666666,
              "#ed7953"
             ],
             [
              0.7777777777777778,
              "#fb9f3a"
             ],
             [
              0.8888888888888888,
              "#fdca26"
             ],
             [
              1,
              "#f0f921"
             ]
            ],
            "type": "heatmap"
           }
          ],
          "heatmapgl": [
           {
            "colorbar": {
             "outlinewidth": 0,
             "ticks": ""
            },
            "colorscale": [
             [
              0,
              "#0d0887"
             ],
             [
              0.1111111111111111,
              "#46039f"
             ],
             [
              0.2222222222222222,
              "#7201a8"
             ],
             [
              0.3333333333333333,
              "#9c179e"
             ],
             [
              0.4444444444444444,
              "#bd3786"
             ],
             [
              0.5555555555555556,
              "#d8576b"
             ],
             [
              0.6666666666666666,
              "#ed7953"
             ],
             [
              0.7777777777777778,
              "#fb9f3a"
             ],
             [
              0.8888888888888888,
              "#fdca26"
             ],
             [
              1,
              "#f0f921"
             ]
            ],
            "type": "heatmapgl"
           }
          ],
          "histogram": [
           {
            "marker": {
             "pattern": {
              "fillmode": "overlay",
              "size": 10,
              "solidity": 0.2
             }
            },
            "type": "histogram"
           }
          ],
          "histogram2d": [
           {
            "colorbar": {
             "outlinewidth": 0,
             "ticks": ""
            },
            "colorscale": [
             [
              0,
              "#0d0887"
             ],
             [
              0.1111111111111111,
              "#46039f"
             ],
             [
              0.2222222222222222,
              "#7201a8"
             ],
             [
              0.3333333333333333,
              "#9c179e"
             ],
             [
              0.4444444444444444,
              "#bd3786"
             ],
             [
              0.5555555555555556,
              "#d8576b"
             ],
             [
              0.6666666666666666,
              "#ed7953"
             ],
             [
              0.7777777777777778,
              "#fb9f3a"
             ],
             [
              0.8888888888888888,
              "#fdca26"
             ],
             [
              1,
              "#f0f921"
             ]
            ],
            "type": "histogram2d"
           }
          ],
          "histogram2dcontour": [
           {
            "colorbar": {
             "outlinewidth": 0,
             "ticks": ""
            },
            "colorscale": [
             [
              0,
              "#0d0887"
             ],
             [
              0.1111111111111111,
              "#46039f"
             ],
             [
              0.2222222222222222,
              "#7201a8"
             ],
             [
              0.3333333333333333,
              "#9c179e"
             ],
             [
              0.4444444444444444,
              "#bd3786"
             ],
             [
              0.5555555555555556,
              "#d8576b"
             ],
             [
              0.6666666666666666,
              "#ed7953"
             ],
             [
              0.7777777777777778,
              "#fb9f3a"
             ],
             [
              0.8888888888888888,
              "#fdca26"
             ],
             [
              1,
              "#f0f921"
             ]
            ],
            "type": "histogram2dcontour"
           }
          ],
          "mesh3d": [
           {
            "colorbar": {
             "outlinewidth": 0,
             "ticks": ""
            },
            "type": "mesh3d"
           }
          ],
          "parcoords": [
           {
            "line": {
             "colorbar": {
              "outlinewidth": 0,
              "ticks": ""
             }
            },
            "type": "parcoords"
           }
          ],
          "pie": [
           {
            "automargin": true,
            "type": "pie"
           }
          ],
          "scatter": [
           {
            "fillpattern": {
             "fillmode": "overlay",
             "size": 10,
             "solidity": 0.2
            },
            "type": "scatter"
           }
          ],
          "scatter3d": [
           {
            "line": {
             "colorbar": {
              "outlinewidth": 0,
              "ticks": ""
             }
            },
            "marker": {
             "colorbar": {
              "outlinewidth": 0,
              "ticks": ""
             }
            },
            "type": "scatter3d"
           }
          ],
          "scattercarpet": [
           {
            "marker": {
             "colorbar": {
              "outlinewidth": 0,
              "ticks": ""
             }
            },
            "type": "scattercarpet"
           }
          ],
          "scattergeo": [
           {
            "marker": {
             "colorbar": {
              "outlinewidth": 0,
              "ticks": ""
             }
            },
            "type": "scattergeo"
           }
          ],
          "scattergl": [
           {
            "marker": {
             "colorbar": {
              "outlinewidth": 0,
              "ticks": ""
             }
            },
            "type": "scattergl"
           }
          ],
          "scattermapbox": [
           {
            "marker": {
             "colorbar": {
              "outlinewidth": 0,
              "ticks": ""
             }
            },
            "type": "scattermapbox"
           }
          ],
          "scatterpolar": [
           {
            "marker": {
             "colorbar": {
              "outlinewidth": 0,
              "ticks": ""
             }
            },
            "type": "scatterpolar"
           }
          ],
          "scatterpolargl": [
           {
            "marker": {
             "colorbar": {
              "outlinewidth": 0,
              "ticks": ""
             }
            },
            "type": "scatterpolargl"
           }
          ],
          "scatterternary": [
           {
            "marker": {
             "colorbar": {
              "outlinewidth": 0,
              "ticks": ""
             }
            },
            "type": "scatterternary"
           }
          ],
          "surface": [
           {
            "colorbar": {
             "outlinewidth": 0,
             "ticks": ""
            },
            "colorscale": [
             [
              0,
              "#0d0887"
             ],
             [
              0.1111111111111111,
              "#46039f"
             ],
             [
              0.2222222222222222,
              "#7201a8"
             ],
             [
              0.3333333333333333,
              "#9c179e"
             ],
             [
              0.4444444444444444,
              "#bd3786"
             ],
             [
              0.5555555555555556,
              "#d8576b"
             ],
             [
              0.6666666666666666,
              "#ed7953"
             ],
             [
              0.7777777777777778,
              "#fb9f3a"
             ],
             [
              0.8888888888888888,
              "#fdca26"
             ],
             [
              1,
              "#f0f921"
             ]
            ],
            "type": "surface"
           }
          ],
          "table": [
           {
            "cells": {
             "fill": {
              "color": "#EBF0F8"
             },
             "line": {
              "color": "white"
             }
            },
            "header": {
             "fill": {
              "color": "#C8D4E3"
             },
             "line": {
              "color": "white"
             }
            },
            "type": "table"
           }
          ]
         },
         "layout": {
          "annotationdefaults": {
           "arrowcolor": "#2a3f5f",
           "arrowhead": 0,
           "arrowwidth": 1
          },
          "autotypenumbers": "strict",
          "coloraxis": {
           "colorbar": {
            "outlinewidth": 0,
            "ticks": ""
           }
          },
          "colorscale": {
           "diverging": [
            [
             0,
             "#8e0152"
            ],
            [
             0.1,
             "#c51b7d"
            ],
            [
             0.2,
             "#de77ae"
            ],
            [
             0.3,
             "#f1b6da"
            ],
            [
             0.4,
             "#fde0ef"
            ],
            [
             0.5,
             "#f7f7f7"
            ],
            [
             0.6,
             "#e6f5d0"
            ],
            [
             0.7,
             "#b8e186"
            ],
            [
             0.8,
             "#7fbc41"
            ],
            [
             0.9,
             "#4d9221"
            ],
            [
             1,
             "#276419"
            ]
           ],
           "sequential": [
            [
             0,
             "#0d0887"
            ],
            [
             0.1111111111111111,
             "#46039f"
            ],
            [
             0.2222222222222222,
             "#7201a8"
            ],
            [
             0.3333333333333333,
             "#9c179e"
            ],
            [
             0.4444444444444444,
             "#bd3786"
            ],
            [
             0.5555555555555556,
             "#d8576b"
            ],
            [
             0.6666666666666666,
             "#ed7953"
            ],
            [
             0.7777777777777778,
             "#fb9f3a"
            ],
            [
             0.8888888888888888,
             "#fdca26"
            ],
            [
             1,
             "#f0f921"
            ]
           ],
           "sequentialminus": [
            [
             0,
             "#0d0887"
            ],
            [
             0.1111111111111111,
             "#46039f"
            ],
            [
             0.2222222222222222,
             "#7201a8"
            ],
            [
             0.3333333333333333,
             "#9c179e"
            ],
            [
             0.4444444444444444,
             "#bd3786"
            ],
            [
             0.5555555555555556,
             "#d8576b"
            ],
            [
             0.6666666666666666,
             "#ed7953"
            ],
            [
             0.7777777777777778,
             "#fb9f3a"
            ],
            [
             0.8888888888888888,
             "#fdca26"
            ],
            [
             1,
             "#f0f921"
            ]
           ]
          },
          "colorway": [
           "#636efa",
           "#EF553B",
           "#00cc96",
           "#ab63fa",
           "#FFA15A",
           "#19d3f3",
           "#FF6692",
           "#B6E880",
           "#FF97FF",
           "#FECB52"
          ],
          "font": {
           "color": "#2a3f5f"
          },
          "geo": {
           "bgcolor": "white",
           "lakecolor": "white",
           "landcolor": "#E5ECF6",
           "showlakes": true,
           "showland": true,
           "subunitcolor": "white"
          },
          "hoverlabel": {
           "align": "left"
          },
          "hovermode": "closest",
          "mapbox": {
           "style": "light"
          },
          "paper_bgcolor": "white",
          "plot_bgcolor": "#E5ECF6",
          "polar": {
           "angularaxis": {
            "gridcolor": "white",
            "linecolor": "white",
            "ticks": ""
           },
           "bgcolor": "#E5ECF6",
           "radialaxis": {
            "gridcolor": "white",
            "linecolor": "white",
            "ticks": ""
           }
          },
          "scene": {
           "xaxis": {
            "backgroundcolor": "#E5ECF6",
            "gridcolor": "white",
            "gridwidth": 2,
            "linecolor": "white",
            "showbackground": true,
            "ticks": "",
            "zerolinecolor": "white"
           },
           "yaxis": {
            "backgroundcolor": "#E5ECF6",
            "gridcolor": "white",
            "gridwidth": 2,
            "linecolor": "white",
            "showbackground": true,
            "ticks": "",
            "zerolinecolor": "white"
           },
           "zaxis": {
            "backgroundcolor": "#E5ECF6",
            "gridcolor": "white",
            "gridwidth": 2,
            "linecolor": "white",
            "showbackground": true,
            "ticks": "",
            "zerolinecolor": "white"
           }
          },
          "shapedefaults": {
           "line": {
            "color": "#2a3f5f"
           }
          },
          "ternary": {
           "aaxis": {
            "gridcolor": "white",
            "linecolor": "white",
            "ticks": ""
           },
           "baxis": {
            "gridcolor": "white",
            "linecolor": "white",
            "ticks": ""
           },
           "bgcolor": "#E5ECF6",
           "caxis": {
            "gridcolor": "white",
            "linecolor": "white",
            "ticks": ""
           }
          },
          "title": {
           "x": 0.05
          },
          "xaxis": {
           "automargin": true,
           "gridcolor": "white",
           "linecolor": "white",
           "ticks": "",
           "title": {
            "standoff": 15
           },
           "zerolinecolor": "white",
           "zerolinewidth": 2
          },
          "yaxis": {
           "automargin": true,
           "gridcolor": "white",
           "linecolor": "white",
           "ticks": "",
           "title": {
            "standoff": 15
           },
           "zerolinecolor": "white",
           "zerolinewidth": 2
          }
         }
        },
        "title": {
         "text": "Missions with communication losses"
        },
        "xaxis": {
         "anchor": "y",
         "constrain": "domain",
         "domain": [
          0,
          1
         ],
         "scaleanchor": "y",
         "title": {
          "text": "Multi-Agent HJ Reactive Control"
         }
        },
        "yaxis": {
         "anchor": "x",
         "autorange": "reversed",
         "constrain": "domain",
         "domain": [
          0,
          1
         ],
         "title": {
          "text": "Multi-Agent HJ Naive"
         }
        }
       }
      },
      "text/html": [
       "<div>                            <div id=\"5642d4ac-17f3-43ca-9596-301a010d8d85\" class=\"plotly-graph-div\" style=\"height:525px; width:100%;\"></div>            <script type=\"text/javascript\">                require([\"plotly\"], function(Plotly) {                    window.PLOTLYENV=window.PLOTLYENV || {};                                    if (document.getElementById(\"5642d4ac-17f3-43ca-9596-301a010d8d85\")) {                    Plotly.newPlot(                        \"5642d4ac-17f3-43ca-9596-301a010d8d85\",                        [{\"coloraxis\":\"coloraxis\",\"name\":\"0\",\"texttemplate\":\"%{z}\",\"x\":[false,true],\"y\":[false,true],\"z\":[[281,5],[110,152]],\"type\":\"heatmap\",\"xaxis\":\"x\",\"yaxis\":\"y\",\"hovertemplate\":\"Multi-Agent HJ Reactive Control: %{x}<br>Multi-Agent HJ Naive: %{y}<br>color: %{z}<extra></extra>\"}],                        {\"template\":{\"data\":{\"histogram2dcontour\":[{\"type\":\"histogram2dcontour\",\"colorbar\":{\"outlinewidth\":0,\"ticks\":\"\"},\"colorscale\":[[0.0,\"#0d0887\"],[0.1111111111111111,\"#46039f\"],[0.2222222222222222,\"#7201a8\"],[0.3333333333333333,\"#9c179e\"],[0.4444444444444444,\"#bd3786\"],[0.5555555555555556,\"#d8576b\"],[0.6666666666666666,\"#ed7953\"],[0.7777777777777778,\"#fb9f3a\"],[0.8888888888888888,\"#fdca26\"],[1.0,\"#f0f921\"]]}],\"choropleth\":[{\"type\":\"choropleth\",\"colorbar\":{\"outlinewidth\":0,\"ticks\":\"\"}}],\"histogram2d\":[{\"type\":\"histogram2d\",\"colorbar\":{\"outlinewidth\":0,\"ticks\":\"\"},\"colorscale\":[[0.0,\"#0d0887\"],[0.1111111111111111,\"#46039f\"],[0.2222222222222222,\"#7201a8\"],[0.3333333333333333,\"#9c179e\"],[0.4444444444444444,\"#bd3786\"],[0.5555555555555556,\"#d8576b\"],[0.6666666666666666,\"#ed7953\"],[0.7777777777777778,\"#fb9f3a\"],[0.8888888888888888,\"#fdca26\"],[1.0,\"#f0f921\"]]}],\"heatmap\":[{\"type\":\"heatmap\",\"colorbar\":{\"outlinewidth\":0,\"ticks\":\"\"},\"colorscale\":[[0.0,\"#0d0887\"],[0.1111111111111111,\"#46039f\"],[0.2222222222222222,\"#7201a8\"],[0.3333333333333333,\"#9c179e\"],[0.4444444444444444,\"#bd3786\"],[0.5555555555555556,\"#d8576b\"],[0.6666666666666666,\"#ed7953\"],[0.7777777777777778,\"#fb9f3a\"],[0.8888888888888888,\"#fdca26\"],[1.0,\"#f0f921\"]]}],\"heatmapgl\":[{\"type\":\"heatmapgl\",\"colorbar\":{\"outlinewidth\":0,\"ticks\":\"\"},\"colorscale\":[[0.0,\"#0d0887\"],[0.1111111111111111,\"#46039f\"],[0.2222222222222222,\"#7201a8\"],[0.3333333333333333,\"#9c179e\"],[0.4444444444444444,\"#bd3786\"],[0.5555555555555556,\"#d8576b\"],[0.6666666666666666,\"#ed7953\"],[0.7777777777777778,\"#fb9f3a\"],[0.8888888888888888,\"#fdca26\"],[1.0,\"#f0f921\"]]}],\"contourcarpet\":[{\"type\":\"contourcarpet\",\"colorbar\":{\"outlinewidth\":0,\"ticks\":\"\"}}],\"contour\":[{\"type\":\"contour\",\"colorbar\":{\"outlinewidth\":0,\"ticks\":\"\"},\"colorscale\":[[0.0,\"#0d0887\"],[0.1111111111111111,\"#46039f\"],[0.2222222222222222,\"#7201a8\"],[0.3333333333333333,\"#9c179e\"],[0.4444444444444444,\"#bd3786\"],[0.5555555555555556,\"#d8576b\"],[0.6666666666666666,\"#ed7953\"],[0.7777777777777778,\"#fb9f3a\"],[0.8888888888888888,\"#fdca26\"],[1.0,\"#f0f921\"]]}],\"surface\":[{\"type\":\"surface\",\"colorbar\":{\"outlinewidth\":0,\"ticks\":\"\"},\"colorscale\":[[0.0,\"#0d0887\"],[0.1111111111111111,\"#46039f\"],[0.2222222222222222,\"#7201a8\"],[0.3333333333333333,\"#9c179e\"],[0.4444444444444444,\"#bd3786\"],[0.5555555555555556,\"#d8576b\"],[0.6666666666666666,\"#ed7953\"],[0.7777777777777778,\"#fb9f3a\"],[0.8888888888888888,\"#fdca26\"],[1.0,\"#f0f921\"]]}],\"mesh3d\":[{\"type\":\"mesh3d\",\"colorbar\":{\"outlinewidth\":0,\"ticks\":\"\"}}],\"scatter\":[{\"fillpattern\":{\"fillmode\":\"overlay\",\"size\":10,\"solidity\":0.2},\"type\":\"scatter\"}],\"parcoords\":[{\"type\":\"parcoords\",\"line\":{\"colorbar\":{\"outlinewidth\":0,\"ticks\":\"\"}}}],\"scatterpolargl\":[{\"type\":\"scatterpolargl\",\"marker\":{\"colorbar\":{\"outlinewidth\":0,\"ticks\":\"\"}}}],\"bar\":[{\"error_x\":{\"color\":\"#2a3f5f\"},\"error_y\":{\"color\":\"#2a3f5f\"},\"marker\":{\"line\":{\"color\":\"#E5ECF6\",\"width\":0.5},\"pattern\":{\"fillmode\":\"overlay\",\"size\":10,\"solidity\":0.2}},\"type\":\"bar\"}],\"scattergeo\":[{\"type\":\"scattergeo\",\"marker\":{\"colorbar\":{\"outlinewidth\":0,\"ticks\":\"\"}}}],\"scatterpolar\":[{\"type\":\"scatterpolar\",\"marker\":{\"colorbar\":{\"outlinewidth\":0,\"ticks\":\"\"}}}],\"histogram\":[{\"marker\":{\"pattern\":{\"fillmode\":\"overlay\",\"size\":10,\"solidity\":0.2}},\"type\":\"histogram\"}],\"scattergl\":[{\"type\":\"scattergl\",\"marker\":{\"colorbar\":{\"outlinewidth\":0,\"ticks\":\"\"}}}],\"scatter3d\":[{\"type\":\"scatter3d\",\"line\":{\"colorbar\":{\"outlinewidth\":0,\"ticks\":\"\"}},\"marker\":{\"colorbar\":{\"outlinewidth\":0,\"ticks\":\"\"}}}],\"scattermapbox\":[{\"type\":\"scattermapbox\",\"marker\":{\"colorbar\":{\"outlinewidth\":0,\"ticks\":\"\"}}}],\"scatterternary\":[{\"type\":\"scatterternary\",\"marker\":{\"colorbar\":{\"outlinewidth\":0,\"ticks\":\"\"}}}],\"scattercarpet\":[{\"type\":\"scattercarpet\",\"marker\":{\"colorbar\":{\"outlinewidth\":0,\"ticks\":\"\"}}}],\"carpet\":[{\"aaxis\":{\"endlinecolor\":\"#2a3f5f\",\"gridcolor\":\"white\",\"linecolor\":\"white\",\"minorgridcolor\":\"white\",\"startlinecolor\":\"#2a3f5f\"},\"baxis\":{\"endlinecolor\":\"#2a3f5f\",\"gridcolor\":\"white\",\"linecolor\":\"white\",\"minorgridcolor\":\"white\",\"startlinecolor\":\"#2a3f5f\"},\"type\":\"carpet\"}],\"table\":[{\"cells\":{\"fill\":{\"color\":\"#EBF0F8\"},\"line\":{\"color\":\"white\"}},\"header\":{\"fill\":{\"color\":\"#C8D4E3\"},\"line\":{\"color\":\"white\"}},\"type\":\"table\"}],\"barpolar\":[{\"marker\":{\"line\":{\"color\":\"#E5ECF6\",\"width\":0.5},\"pattern\":{\"fillmode\":\"overlay\",\"size\":10,\"solidity\":0.2}},\"type\":\"barpolar\"}],\"pie\":[{\"automargin\":true,\"type\":\"pie\"}]},\"layout\":{\"autotypenumbers\":\"strict\",\"colorway\":[\"#636efa\",\"#EF553B\",\"#00cc96\",\"#ab63fa\",\"#FFA15A\",\"#19d3f3\",\"#FF6692\",\"#B6E880\",\"#FF97FF\",\"#FECB52\"],\"font\":{\"color\":\"#2a3f5f\"},\"hovermode\":\"closest\",\"hoverlabel\":{\"align\":\"left\"},\"paper_bgcolor\":\"white\",\"plot_bgcolor\":\"#E5ECF6\",\"polar\":{\"bgcolor\":\"#E5ECF6\",\"angularaxis\":{\"gridcolor\":\"white\",\"linecolor\":\"white\",\"ticks\":\"\"},\"radialaxis\":{\"gridcolor\":\"white\",\"linecolor\":\"white\",\"ticks\":\"\"}},\"ternary\":{\"bgcolor\":\"#E5ECF6\",\"aaxis\":{\"gridcolor\":\"white\",\"linecolor\":\"white\",\"ticks\":\"\"},\"baxis\":{\"gridcolor\":\"white\",\"linecolor\":\"white\",\"ticks\":\"\"},\"caxis\":{\"gridcolor\":\"white\",\"linecolor\":\"white\",\"ticks\":\"\"}},\"coloraxis\":{\"colorbar\":{\"outlinewidth\":0,\"ticks\":\"\"}},\"colorscale\":{\"sequential\":[[0.0,\"#0d0887\"],[0.1111111111111111,\"#46039f\"],[0.2222222222222222,\"#7201a8\"],[0.3333333333333333,\"#9c179e\"],[0.4444444444444444,\"#bd3786\"],[0.5555555555555556,\"#d8576b\"],[0.6666666666666666,\"#ed7953\"],[0.7777777777777778,\"#fb9f3a\"],[0.8888888888888888,\"#fdca26\"],[1.0,\"#f0f921\"]],\"sequentialminus\":[[0.0,\"#0d0887\"],[0.1111111111111111,\"#46039f\"],[0.2222222222222222,\"#7201a8\"],[0.3333333333333333,\"#9c179e\"],[0.4444444444444444,\"#bd3786\"],[0.5555555555555556,\"#d8576b\"],[0.6666666666666666,\"#ed7953\"],[0.7777777777777778,\"#fb9f3a\"],[0.8888888888888888,\"#fdca26\"],[1.0,\"#f0f921\"]],\"diverging\":[[0,\"#8e0152\"],[0.1,\"#c51b7d\"],[0.2,\"#de77ae\"],[0.3,\"#f1b6da\"],[0.4,\"#fde0ef\"],[0.5,\"#f7f7f7\"],[0.6,\"#e6f5d0\"],[0.7,\"#b8e186\"],[0.8,\"#7fbc41\"],[0.9,\"#4d9221\"],[1,\"#276419\"]]},\"xaxis\":{\"gridcolor\":\"white\",\"linecolor\":\"white\",\"ticks\":\"\",\"title\":{\"standoff\":15},\"zerolinecolor\":\"white\",\"automargin\":true,\"zerolinewidth\":2},\"yaxis\":{\"gridcolor\":\"white\",\"linecolor\":\"white\",\"ticks\":\"\",\"title\":{\"standoff\":15},\"zerolinecolor\":\"white\",\"automargin\":true,\"zerolinewidth\":2},\"scene\":{\"xaxis\":{\"backgroundcolor\":\"#E5ECF6\",\"gridcolor\":\"white\",\"linecolor\":\"white\",\"showbackground\":true,\"ticks\":\"\",\"zerolinecolor\":\"white\",\"gridwidth\":2},\"yaxis\":{\"backgroundcolor\":\"#E5ECF6\",\"gridcolor\":\"white\",\"linecolor\":\"white\",\"showbackground\":true,\"ticks\":\"\",\"zerolinecolor\":\"white\",\"gridwidth\":2},\"zaxis\":{\"backgroundcolor\":\"#E5ECF6\",\"gridcolor\":\"white\",\"linecolor\":\"white\",\"showbackground\":true,\"ticks\":\"\",\"zerolinecolor\":\"white\",\"gridwidth\":2}},\"shapedefaults\":{\"line\":{\"color\":\"#2a3f5f\"}},\"annotationdefaults\":{\"arrowcolor\":\"#2a3f5f\",\"arrowhead\":0,\"arrowwidth\":1},\"geo\":{\"bgcolor\":\"white\",\"landcolor\":\"#E5ECF6\",\"subunitcolor\":\"white\",\"showland\":true,\"showlakes\":true,\"lakecolor\":\"white\"},\"title\":{\"x\":0.05},\"mapbox\":{\"style\":\"light\"}}},\"xaxis\":{\"anchor\":\"y\",\"domain\":[0.0,1.0],\"scaleanchor\":\"y\",\"constrain\":\"domain\",\"title\":{\"text\":\"Multi-Agent HJ Reactive Control\"}},\"yaxis\":{\"anchor\":\"x\",\"domain\":[0.0,1.0],\"autorange\":\"reversed\",\"constrain\":\"domain\",\"title\":{\"text\":\"Multi-Agent HJ Naive\"}},\"coloraxis\":{\"colorscale\":[[0.0,\"#0d0887\"],[0.1111111111111111,\"#46039f\"],[0.2222222222222222,\"#7201a8\"],[0.3333333333333333,\"#9c179e\"],[0.4444444444444444,\"#bd3786\"],[0.5555555555555556,\"#d8576b\"],[0.6666666666666666,\"#ed7953\"],[0.7777777777777778,\"#fb9f3a\"],[0.8888888888888888,\"#fdca26\"],[1.0,\"#f0f921\"]]},\"margin\":{\"t\":60},\"title\":{\"text\":\"Missions with communication losses\"}},                        {\"responsive\": true}                    ).then(function(){\n",
       "                            \n",
       "var gd = document.getElementById('5642d4ac-17f3-43ca-9596-301a010d8d85');\n",
       "var x = new MutationObserver(function (mutations, observer) {{\n",
       "        var display = window.getComputedStyle(gd).display;\n",
       "        if (!display || display === 'none') {{\n",
       "            console.log([gd, 'removed!']);\n",
       "            Plotly.purge(gd);\n",
       "            observer.disconnect();\n",
       "        }}\n",
       "}});\n",
       "\n",
       "// Listen for the removal of the full notebook cells\n",
       "var notebookContainer = gd.closest('#notebook-container');\n",
       "if (notebookContainer) {{\n",
       "    x.observe(notebookContainer, {childList: true});\n",
       "}}\n",
       "\n",
       "// Listen for the clearing of the current output cell\n",
       "var outputEl = gd.closest('.output');\n",
       "if (outputEl) {{\n",
       "    x.observe(outputEl, {childList: true});\n",
       "}}\n",
       "\n",
       "                        })                };                });            </script>        </div>"
      ]
     },
     "metadata": {},
     "output_type": "display_data"
    }
   ],
   "source": [
    "fig_conf_react_comm_loss= plot_confusion_matrix(metrics_hj_naive[\"Isolated_platform_metric\"]>0, \n",
    "                        metrics_hj_reactive[\"Isolated_platform_metric\"]>0, 'Multi-Agent HJ Naive', \n",
    "                        'Multi-Agent HJ Reactive Control', title_name=\"Missions with communication losses\")"
   ]
  },
  {
   "attachments": {},
   "cell_type": "markdown",
   "metadata": {},
   "source": [
    "+ Connectivity and Collision maintenance performance"
   ]
  },
  {
   "cell_type": "code",
   "execution_count": 20,
   "metadata": {},
   "outputs": [
    {
     "data": {
      "application/vnd.plotly.v1+json": {
       "config": {
        "plotlyServerURL": "https://plot.ly"
       },
       "data": [
        {
         "coloraxis": "coloraxis",
         "hovertemplate": "Multi-Agent HJ Reactive Control: %{x}<br>Multi-Agent HJ Naive: %{y}<br>color: %{z}<extra></extra>",
         "name": "0",
         "texttemplate": "%{z}",
         "type": "heatmap",
         "x": [
          false,
          true
         ],
         "xaxis": "x",
         "y": [
          false,
          true
         ],
         "yaxis": "y",
         "z": [
          [
           160,
           254
          ],
          [
           3,
           131
          ]
         ]
        }
       ],
       "layout": {
        "coloraxis": {
         "colorscale": [
          [
           0,
           "#0d0887"
          ],
          [
           0.1111111111111111,
           "#46039f"
          ],
          [
           0.2222222222222222,
           "#7201a8"
          ],
          [
           0.3333333333333333,
           "#9c179e"
          ],
          [
           0.4444444444444444,
           "#bd3786"
          ],
          [
           0.5555555555555556,
           "#d8576b"
          ],
          [
           0.6666666666666666,
           "#ed7953"
          ],
          [
           0.7777777777777778,
           "#fb9f3a"
          ],
          [
           0.8888888888888888,
           "#fdca26"
          ],
          [
           1,
           "#f0f921"
          ]
         ]
        },
        "margin": {
         "t": 60
        },
        "template": {
         "data": {
          "bar": [
           {
            "error_x": {
             "color": "#2a3f5f"
            },
            "error_y": {
             "color": "#2a3f5f"
            },
            "marker": {
             "line": {
              "color": "#E5ECF6",
              "width": 0.5
             },
             "pattern": {
              "fillmode": "overlay",
              "size": 10,
              "solidity": 0.2
             }
            },
            "type": "bar"
           }
          ],
          "barpolar": [
           {
            "marker": {
             "line": {
              "color": "#E5ECF6",
              "width": 0.5
             },
             "pattern": {
              "fillmode": "overlay",
              "size": 10,
              "solidity": 0.2
             }
            },
            "type": "barpolar"
           }
          ],
          "carpet": [
           {
            "aaxis": {
             "endlinecolor": "#2a3f5f",
             "gridcolor": "white",
             "linecolor": "white",
             "minorgridcolor": "white",
             "startlinecolor": "#2a3f5f"
            },
            "baxis": {
             "endlinecolor": "#2a3f5f",
             "gridcolor": "white",
             "linecolor": "white",
             "minorgridcolor": "white",
             "startlinecolor": "#2a3f5f"
            },
            "type": "carpet"
           }
          ],
          "choropleth": [
           {
            "colorbar": {
             "outlinewidth": 0,
             "ticks": ""
            },
            "type": "choropleth"
           }
          ],
          "contour": [
           {
            "colorbar": {
             "outlinewidth": 0,
             "ticks": ""
            },
            "colorscale": [
             [
              0,
              "#0d0887"
             ],
             [
              0.1111111111111111,
              "#46039f"
             ],
             [
              0.2222222222222222,
              "#7201a8"
             ],
             [
              0.3333333333333333,
              "#9c179e"
             ],
             [
              0.4444444444444444,
              "#bd3786"
             ],
             [
              0.5555555555555556,
              "#d8576b"
             ],
             [
              0.6666666666666666,
              "#ed7953"
             ],
             [
              0.7777777777777778,
              "#fb9f3a"
             ],
             [
              0.8888888888888888,
              "#fdca26"
             ],
             [
              1,
              "#f0f921"
             ]
            ],
            "type": "contour"
           }
          ],
          "contourcarpet": [
           {
            "colorbar": {
             "outlinewidth": 0,
             "ticks": ""
            },
            "type": "contourcarpet"
           }
          ],
          "heatmap": [
           {
            "colorbar": {
             "outlinewidth": 0,
             "ticks": ""
            },
            "colorscale": [
             [
              0,
              "#0d0887"
             ],
             [
              0.1111111111111111,
              "#46039f"
             ],
             [
              0.2222222222222222,
              "#7201a8"
             ],
             [
              0.3333333333333333,
              "#9c179e"
             ],
             [
              0.4444444444444444,
              "#bd3786"
             ],
             [
              0.5555555555555556,
              "#d8576b"
             ],
             [
              0.6666666666666666,
              "#ed7953"
             ],
             [
              0.7777777777777778,
              "#fb9f3a"
             ],
             [
              0.8888888888888888,
              "#fdca26"
             ],
             [
              1,
              "#f0f921"
             ]
            ],
            "type": "heatmap"
           }
          ],
          "heatmapgl": [
           {
            "colorbar": {
             "outlinewidth": 0,
             "ticks": ""
            },
            "colorscale": [
             [
              0,
              "#0d0887"
             ],
             [
              0.1111111111111111,
              "#46039f"
             ],
             [
              0.2222222222222222,
              "#7201a8"
             ],
             [
              0.3333333333333333,
              "#9c179e"
             ],
             [
              0.4444444444444444,
              "#bd3786"
             ],
             [
              0.5555555555555556,
              "#d8576b"
             ],
             [
              0.6666666666666666,
              "#ed7953"
             ],
             [
              0.7777777777777778,
              "#fb9f3a"
             ],
             [
              0.8888888888888888,
              "#fdca26"
             ],
             [
              1,
              "#f0f921"
             ]
            ],
            "type": "heatmapgl"
           }
          ],
          "histogram": [
           {
            "marker": {
             "pattern": {
              "fillmode": "overlay",
              "size": 10,
              "solidity": 0.2
             }
            },
            "type": "histogram"
           }
          ],
          "histogram2d": [
           {
            "colorbar": {
             "outlinewidth": 0,
             "ticks": ""
            },
            "colorscale": [
             [
              0,
              "#0d0887"
             ],
             [
              0.1111111111111111,
              "#46039f"
             ],
             [
              0.2222222222222222,
              "#7201a8"
             ],
             [
              0.3333333333333333,
              "#9c179e"
             ],
             [
              0.4444444444444444,
              "#bd3786"
             ],
             [
              0.5555555555555556,
              "#d8576b"
             ],
             [
              0.6666666666666666,
              "#ed7953"
             ],
             [
              0.7777777777777778,
              "#fb9f3a"
             ],
             [
              0.8888888888888888,
              "#fdca26"
             ],
             [
              1,
              "#f0f921"
             ]
            ],
            "type": "histogram2d"
           }
          ],
          "histogram2dcontour": [
           {
            "colorbar": {
             "outlinewidth": 0,
             "ticks": ""
            },
            "colorscale": [
             [
              0,
              "#0d0887"
             ],
             [
              0.1111111111111111,
              "#46039f"
             ],
             [
              0.2222222222222222,
              "#7201a8"
             ],
             [
              0.3333333333333333,
              "#9c179e"
             ],
             [
              0.4444444444444444,
              "#bd3786"
             ],
             [
              0.5555555555555556,
              "#d8576b"
             ],
             [
              0.6666666666666666,
              "#ed7953"
             ],
             [
              0.7777777777777778,
              "#fb9f3a"
             ],
             [
              0.8888888888888888,
              "#fdca26"
             ],
             [
              1,
              "#f0f921"
             ]
            ],
            "type": "histogram2dcontour"
           }
          ],
          "mesh3d": [
           {
            "colorbar": {
             "outlinewidth": 0,
             "ticks": ""
            },
            "type": "mesh3d"
           }
          ],
          "parcoords": [
           {
            "line": {
             "colorbar": {
              "outlinewidth": 0,
              "ticks": ""
             }
            },
            "type": "parcoords"
           }
          ],
          "pie": [
           {
            "automargin": true,
            "type": "pie"
           }
          ],
          "scatter": [
           {
            "fillpattern": {
             "fillmode": "overlay",
             "size": 10,
             "solidity": 0.2
            },
            "type": "scatter"
           }
          ],
          "scatter3d": [
           {
            "line": {
             "colorbar": {
              "outlinewidth": 0,
              "ticks": ""
             }
            },
            "marker": {
             "colorbar": {
              "outlinewidth": 0,
              "ticks": ""
             }
            },
            "type": "scatter3d"
           }
          ],
          "scattercarpet": [
           {
            "marker": {
             "colorbar": {
              "outlinewidth": 0,
              "ticks": ""
             }
            },
            "type": "scattercarpet"
           }
          ],
          "scattergeo": [
           {
            "marker": {
             "colorbar": {
              "outlinewidth": 0,
              "ticks": ""
             }
            },
            "type": "scattergeo"
           }
          ],
          "scattergl": [
           {
            "marker": {
             "colorbar": {
              "outlinewidth": 0,
              "ticks": ""
             }
            },
            "type": "scattergl"
           }
          ],
          "scattermapbox": [
           {
            "marker": {
             "colorbar": {
              "outlinewidth": 0,
              "ticks": ""
             }
            },
            "type": "scattermapbox"
           }
          ],
          "scatterpolar": [
           {
            "marker": {
             "colorbar": {
              "outlinewidth": 0,
              "ticks": ""
             }
            },
            "type": "scatterpolar"
           }
          ],
          "scatterpolargl": [
           {
            "marker": {
             "colorbar": {
              "outlinewidth": 0,
              "ticks": ""
             }
            },
            "type": "scatterpolargl"
           }
          ],
          "scatterternary": [
           {
            "marker": {
             "colorbar": {
              "outlinewidth": 0,
              "ticks": ""
             }
            },
            "type": "scatterternary"
           }
          ],
          "surface": [
           {
            "colorbar": {
             "outlinewidth": 0,
             "ticks": ""
            },
            "colorscale": [
             [
              0,
              "#0d0887"
             ],
             [
              0.1111111111111111,
              "#46039f"
             ],
             [
              0.2222222222222222,
              "#7201a8"
             ],
             [
              0.3333333333333333,
              "#9c179e"
             ],
             [
              0.4444444444444444,
              "#bd3786"
             ],
             [
              0.5555555555555556,
              "#d8576b"
             ],
             [
              0.6666666666666666,
              "#ed7953"
             ],
             [
              0.7777777777777778,
              "#fb9f3a"
             ],
             [
              0.8888888888888888,
              "#fdca26"
             ],
             [
              1,
              "#f0f921"
             ]
            ],
            "type": "surface"
           }
          ],
          "table": [
           {
            "cells": {
             "fill": {
              "color": "#EBF0F8"
             },
             "line": {
              "color": "white"
             }
            },
            "header": {
             "fill": {
              "color": "#C8D4E3"
             },
             "line": {
              "color": "white"
             }
            },
            "type": "table"
           }
          ]
         },
         "layout": {
          "annotationdefaults": {
           "arrowcolor": "#2a3f5f",
           "arrowhead": 0,
           "arrowwidth": 1
          },
          "autotypenumbers": "strict",
          "coloraxis": {
           "colorbar": {
            "outlinewidth": 0,
            "ticks": ""
           }
          },
          "colorscale": {
           "diverging": [
            [
             0,
             "#8e0152"
            ],
            [
             0.1,
             "#c51b7d"
            ],
            [
             0.2,
             "#de77ae"
            ],
            [
             0.3,
             "#f1b6da"
            ],
            [
             0.4,
             "#fde0ef"
            ],
            [
             0.5,
             "#f7f7f7"
            ],
            [
             0.6,
             "#e6f5d0"
            ],
            [
             0.7,
             "#b8e186"
            ],
            [
             0.8,
             "#7fbc41"
            ],
            [
             0.9,
             "#4d9221"
            ],
            [
             1,
             "#276419"
            ]
           ],
           "sequential": [
            [
             0,
             "#0d0887"
            ],
            [
             0.1111111111111111,
             "#46039f"
            ],
            [
             0.2222222222222222,
             "#7201a8"
            ],
            [
             0.3333333333333333,
             "#9c179e"
            ],
            [
             0.4444444444444444,
             "#bd3786"
            ],
            [
             0.5555555555555556,
             "#d8576b"
            ],
            [
             0.6666666666666666,
             "#ed7953"
            ],
            [
             0.7777777777777778,
             "#fb9f3a"
            ],
            [
             0.8888888888888888,
             "#fdca26"
            ],
            [
             1,
             "#f0f921"
            ]
           ],
           "sequentialminus": [
            [
             0,
             "#0d0887"
            ],
            [
             0.1111111111111111,
             "#46039f"
            ],
            [
             0.2222222222222222,
             "#7201a8"
            ],
            [
             0.3333333333333333,
             "#9c179e"
            ],
            [
             0.4444444444444444,
             "#bd3786"
            ],
            [
             0.5555555555555556,
             "#d8576b"
            ],
            [
             0.6666666666666666,
             "#ed7953"
            ],
            [
             0.7777777777777778,
             "#fb9f3a"
            ],
            [
             0.8888888888888888,
             "#fdca26"
            ],
            [
             1,
             "#f0f921"
            ]
           ]
          },
          "colorway": [
           "#636efa",
           "#EF553B",
           "#00cc96",
           "#ab63fa",
           "#FFA15A",
           "#19d3f3",
           "#FF6692",
           "#B6E880",
           "#FF97FF",
           "#FECB52"
          ],
          "font": {
           "color": "#2a3f5f"
          },
          "geo": {
           "bgcolor": "white",
           "lakecolor": "white",
           "landcolor": "#E5ECF6",
           "showlakes": true,
           "showland": true,
           "subunitcolor": "white"
          },
          "hoverlabel": {
           "align": "left"
          },
          "hovermode": "closest",
          "mapbox": {
           "style": "light"
          },
          "paper_bgcolor": "white",
          "plot_bgcolor": "#E5ECF6",
          "polar": {
           "angularaxis": {
            "gridcolor": "white",
            "linecolor": "white",
            "ticks": ""
           },
           "bgcolor": "#E5ECF6",
           "radialaxis": {
            "gridcolor": "white",
            "linecolor": "white",
            "ticks": ""
           }
          },
          "scene": {
           "xaxis": {
            "backgroundcolor": "#E5ECF6",
            "gridcolor": "white",
            "gridwidth": 2,
            "linecolor": "white",
            "showbackground": true,
            "ticks": "",
            "zerolinecolor": "white"
           },
           "yaxis": {
            "backgroundcolor": "#E5ECF6",
            "gridcolor": "white",
            "gridwidth": 2,
            "linecolor": "white",
            "showbackground": true,
            "ticks": "",
            "zerolinecolor": "white"
           },
           "zaxis": {
            "backgroundcolor": "#E5ECF6",
            "gridcolor": "white",
            "gridwidth": 2,
            "linecolor": "white",
            "showbackground": true,
            "ticks": "",
            "zerolinecolor": "white"
           }
          },
          "shapedefaults": {
           "line": {
            "color": "#2a3f5f"
           }
          },
          "ternary": {
           "aaxis": {
            "gridcolor": "white",
            "linecolor": "white",
            "ticks": ""
           },
           "baxis": {
            "gridcolor": "white",
            "linecolor": "white",
            "ticks": ""
           },
           "bgcolor": "#E5ECF6",
           "caxis": {
            "gridcolor": "white",
            "linecolor": "white",
            "ticks": ""
           }
          },
          "title": {
           "x": 0.05
          },
          "xaxis": {
           "automargin": true,
           "gridcolor": "white",
           "linecolor": "white",
           "ticks": "",
           "title": {
            "standoff": 15
           },
           "zerolinecolor": "white",
           "zerolinewidth": 2
          },
          "yaxis": {
           "automargin": true,
           "gridcolor": "white",
           "linecolor": "white",
           "ticks": "",
           "title": {
            "standoff": 15
           },
           "zerolinecolor": "white",
           "zerolinewidth": 2
          }
         }
        },
        "title": {
         "text": "Missions without collisions and with maintained connectivity"
        },
        "xaxis": {
         "anchor": "y",
         "constrain": "domain",
         "domain": [
          0,
          1
         ],
         "scaleanchor": "y",
         "title": {
          "text": "Multi-Agent HJ Reactive Control"
         }
        },
        "yaxis": {
         "anchor": "x",
         "autorange": "reversed",
         "constrain": "domain",
         "domain": [
          0,
          1
         ],
         "title": {
          "text": "Multi-Agent HJ Naive"
         }
        }
       }
      },
      "text/html": [
       "<div>                            <div id=\"3e39cc52-94e8-4a50-8fa6-e42ba367d972\" class=\"plotly-graph-div\" style=\"height:525px; width:100%;\"></div>            <script type=\"text/javascript\">                require([\"plotly\"], function(Plotly) {                    window.PLOTLYENV=window.PLOTLYENV || {};                                    if (document.getElementById(\"3e39cc52-94e8-4a50-8fa6-e42ba367d972\")) {                    Plotly.newPlot(                        \"3e39cc52-94e8-4a50-8fa6-e42ba367d972\",                        [{\"coloraxis\":\"coloraxis\",\"name\":\"0\",\"texttemplate\":\"%{z}\",\"x\":[false,true],\"y\":[false,true],\"z\":[[160,254],[3,131]],\"type\":\"heatmap\",\"xaxis\":\"x\",\"yaxis\":\"y\",\"hovertemplate\":\"Multi-Agent HJ Reactive Control: %{x}<br>Multi-Agent HJ Naive: %{y}<br>color: %{z}<extra></extra>\"}],                        {\"template\":{\"data\":{\"histogram2dcontour\":[{\"type\":\"histogram2dcontour\",\"colorbar\":{\"outlinewidth\":0,\"ticks\":\"\"},\"colorscale\":[[0.0,\"#0d0887\"],[0.1111111111111111,\"#46039f\"],[0.2222222222222222,\"#7201a8\"],[0.3333333333333333,\"#9c179e\"],[0.4444444444444444,\"#bd3786\"],[0.5555555555555556,\"#d8576b\"],[0.6666666666666666,\"#ed7953\"],[0.7777777777777778,\"#fb9f3a\"],[0.8888888888888888,\"#fdca26\"],[1.0,\"#f0f921\"]]}],\"choropleth\":[{\"type\":\"choropleth\",\"colorbar\":{\"outlinewidth\":0,\"ticks\":\"\"}}],\"histogram2d\":[{\"type\":\"histogram2d\",\"colorbar\":{\"outlinewidth\":0,\"ticks\":\"\"},\"colorscale\":[[0.0,\"#0d0887\"],[0.1111111111111111,\"#46039f\"],[0.2222222222222222,\"#7201a8\"],[0.3333333333333333,\"#9c179e\"],[0.4444444444444444,\"#bd3786\"],[0.5555555555555556,\"#d8576b\"],[0.6666666666666666,\"#ed7953\"],[0.7777777777777778,\"#fb9f3a\"],[0.8888888888888888,\"#fdca26\"],[1.0,\"#f0f921\"]]}],\"heatmap\":[{\"type\":\"heatmap\",\"colorbar\":{\"outlinewidth\":0,\"ticks\":\"\"},\"colorscale\":[[0.0,\"#0d0887\"],[0.1111111111111111,\"#46039f\"],[0.2222222222222222,\"#7201a8\"],[0.3333333333333333,\"#9c179e\"],[0.4444444444444444,\"#bd3786\"],[0.5555555555555556,\"#d8576b\"],[0.6666666666666666,\"#ed7953\"],[0.7777777777777778,\"#fb9f3a\"],[0.8888888888888888,\"#fdca26\"],[1.0,\"#f0f921\"]]}],\"heatmapgl\":[{\"type\":\"heatmapgl\",\"colorbar\":{\"outlinewidth\":0,\"ticks\":\"\"},\"colorscale\":[[0.0,\"#0d0887\"],[0.1111111111111111,\"#46039f\"],[0.2222222222222222,\"#7201a8\"],[0.3333333333333333,\"#9c179e\"],[0.4444444444444444,\"#bd3786\"],[0.5555555555555556,\"#d8576b\"],[0.6666666666666666,\"#ed7953\"],[0.7777777777777778,\"#fb9f3a\"],[0.8888888888888888,\"#fdca26\"],[1.0,\"#f0f921\"]]}],\"contourcarpet\":[{\"type\":\"contourcarpet\",\"colorbar\":{\"outlinewidth\":0,\"ticks\":\"\"}}],\"contour\":[{\"type\":\"contour\",\"colorbar\":{\"outlinewidth\":0,\"ticks\":\"\"},\"colorscale\":[[0.0,\"#0d0887\"],[0.1111111111111111,\"#46039f\"],[0.2222222222222222,\"#7201a8\"],[0.3333333333333333,\"#9c179e\"],[0.4444444444444444,\"#bd3786\"],[0.5555555555555556,\"#d8576b\"],[0.6666666666666666,\"#ed7953\"],[0.7777777777777778,\"#fb9f3a\"],[0.8888888888888888,\"#fdca26\"],[1.0,\"#f0f921\"]]}],\"surface\":[{\"type\":\"surface\",\"colorbar\":{\"outlinewidth\":0,\"ticks\":\"\"},\"colorscale\":[[0.0,\"#0d0887\"],[0.1111111111111111,\"#46039f\"],[0.2222222222222222,\"#7201a8\"],[0.3333333333333333,\"#9c179e\"],[0.4444444444444444,\"#bd3786\"],[0.5555555555555556,\"#d8576b\"],[0.6666666666666666,\"#ed7953\"],[0.7777777777777778,\"#fb9f3a\"],[0.8888888888888888,\"#fdca26\"],[1.0,\"#f0f921\"]]}],\"mesh3d\":[{\"type\":\"mesh3d\",\"colorbar\":{\"outlinewidth\":0,\"ticks\":\"\"}}],\"scatter\":[{\"fillpattern\":{\"fillmode\":\"overlay\",\"size\":10,\"solidity\":0.2},\"type\":\"scatter\"}],\"parcoords\":[{\"type\":\"parcoords\",\"line\":{\"colorbar\":{\"outlinewidth\":0,\"ticks\":\"\"}}}],\"scatterpolargl\":[{\"type\":\"scatterpolargl\",\"marker\":{\"colorbar\":{\"outlinewidth\":0,\"ticks\":\"\"}}}],\"bar\":[{\"error_x\":{\"color\":\"#2a3f5f\"},\"error_y\":{\"color\":\"#2a3f5f\"},\"marker\":{\"line\":{\"color\":\"#E5ECF6\",\"width\":0.5},\"pattern\":{\"fillmode\":\"overlay\",\"size\":10,\"solidity\":0.2}},\"type\":\"bar\"}],\"scattergeo\":[{\"type\":\"scattergeo\",\"marker\":{\"colorbar\":{\"outlinewidth\":0,\"ticks\":\"\"}}}],\"scatterpolar\":[{\"type\":\"scatterpolar\",\"marker\":{\"colorbar\":{\"outlinewidth\":0,\"ticks\":\"\"}}}],\"histogram\":[{\"marker\":{\"pattern\":{\"fillmode\":\"overlay\",\"size\":10,\"solidity\":0.2}},\"type\":\"histogram\"}],\"scattergl\":[{\"type\":\"scattergl\",\"marker\":{\"colorbar\":{\"outlinewidth\":0,\"ticks\":\"\"}}}],\"scatter3d\":[{\"type\":\"scatter3d\",\"line\":{\"colorbar\":{\"outlinewidth\":0,\"ticks\":\"\"}},\"marker\":{\"colorbar\":{\"outlinewidth\":0,\"ticks\":\"\"}}}],\"scattermapbox\":[{\"type\":\"scattermapbox\",\"marker\":{\"colorbar\":{\"outlinewidth\":0,\"ticks\":\"\"}}}],\"scatterternary\":[{\"type\":\"scatterternary\",\"marker\":{\"colorbar\":{\"outlinewidth\":0,\"ticks\":\"\"}}}],\"scattercarpet\":[{\"type\":\"scattercarpet\",\"marker\":{\"colorbar\":{\"outlinewidth\":0,\"ticks\":\"\"}}}],\"carpet\":[{\"aaxis\":{\"endlinecolor\":\"#2a3f5f\",\"gridcolor\":\"white\",\"linecolor\":\"white\",\"minorgridcolor\":\"white\",\"startlinecolor\":\"#2a3f5f\"},\"baxis\":{\"endlinecolor\":\"#2a3f5f\",\"gridcolor\":\"white\",\"linecolor\":\"white\",\"minorgridcolor\":\"white\",\"startlinecolor\":\"#2a3f5f\"},\"type\":\"carpet\"}],\"table\":[{\"cells\":{\"fill\":{\"color\":\"#EBF0F8\"},\"line\":{\"color\":\"white\"}},\"header\":{\"fill\":{\"color\":\"#C8D4E3\"},\"line\":{\"color\":\"white\"}},\"type\":\"table\"}],\"barpolar\":[{\"marker\":{\"line\":{\"color\":\"#E5ECF6\",\"width\":0.5},\"pattern\":{\"fillmode\":\"overlay\",\"size\":10,\"solidity\":0.2}},\"type\":\"barpolar\"}],\"pie\":[{\"automargin\":true,\"type\":\"pie\"}]},\"layout\":{\"autotypenumbers\":\"strict\",\"colorway\":[\"#636efa\",\"#EF553B\",\"#00cc96\",\"#ab63fa\",\"#FFA15A\",\"#19d3f3\",\"#FF6692\",\"#B6E880\",\"#FF97FF\",\"#FECB52\"],\"font\":{\"color\":\"#2a3f5f\"},\"hovermode\":\"closest\",\"hoverlabel\":{\"align\":\"left\"},\"paper_bgcolor\":\"white\",\"plot_bgcolor\":\"#E5ECF6\",\"polar\":{\"bgcolor\":\"#E5ECF6\",\"angularaxis\":{\"gridcolor\":\"white\",\"linecolor\":\"white\",\"ticks\":\"\"},\"radialaxis\":{\"gridcolor\":\"white\",\"linecolor\":\"white\",\"ticks\":\"\"}},\"ternary\":{\"bgcolor\":\"#E5ECF6\",\"aaxis\":{\"gridcolor\":\"white\",\"linecolor\":\"white\",\"ticks\":\"\"},\"baxis\":{\"gridcolor\":\"white\",\"linecolor\":\"white\",\"ticks\":\"\"},\"caxis\":{\"gridcolor\":\"white\",\"linecolor\":\"white\",\"ticks\":\"\"}},\"coloraxis\":{\"colorbar\":{\"outlinewidth\":0,\"ticks\":\"\"}},\"colorscale\":{\"sequential\":[[0.0,\"#0d0887\"],[0.1111111111111111,\"#46039f\"],[0.2222222222222222,\"#7201a8\"],[0.3333333333333333,\"#9c179e\"],[0.4444444444444444,\"#bd3786\"],[0.5555555555555556,\"#d8576b\"],[0.6666666666666666,\"#ed7953\"],[0.7777777777777778,\"#fb9f3a\"],[0.8888888888888888,\"#fdca26\"],[1.0,\"#f0f921\"]],\"sequentialminus\":[[0.0,\"#0d0887\"],[0.1111111111111111,\"#46039f\"],[0.2222222222222222,\"#7201a8\"],[0.3333333333333333,\"#9c179e\"],[0.4444444444444444,\"#bd3786\"],[0.5555555555555556,\"#d8576b\"],[0.6666666666666666,\"#ed7953\"],[0.7777777777777778,\"#fb9f3a\"],[0.8888888888888888,\"#fdca26\"],[1.0,\"#f0f921\"]],\"diverging\":[[0,\"#8e0152\"],[0.1,\"#c51b7d\"],[0.2,\"#de77ae\"],[0.3,\"#f1b6da\"],[0.4,\"#fde0ef\"],[0.5,\"#f7f7f7\"],[0.6,\"#e6f5d0\"],[0.7,\"#b8e186\"],[0.8,\"#7fbc41\"],[0.9,\"#4d9221\"],[1,\"#276419\"]]},\"xaxis\":{\"gridcolor\":\"white\",\"linecolor\":\"white\",\"ticks\":\"\",\"title\":{\"standoff\":15},\"zerolinecolor\":\"white\",\"automargin\":true,\"zerolinewidth\":2},\"yaxis\":{\"gridcolor\":\"white\",\"linecolor\":\"white\",\"ticks\":\"\",\"title\":{\"standoff\":15},\"zerolinecolor\":\"white\",\"automargin\":true,\"zerolinewidth\":2},\"scene\":{\"xaxis\":{\"backgroundcolor\":\"#E5ECF6\",\"gridcolor\":\"white\",\"linecolor\":\"white\",\"showbackground\":true,\"ticks\":\"\",\"zerolinecolor\":\"white\",\"gridwidth\":2},\"yaxis\":{\"backgroundcolor\":\"#E5ECF6\",\"gridcolor\":\"white\",\"linecolor\":\"white\",\"showbackground\":true,\"ticks\":\"\",\"zerolinecolor\":\"white\",\"gridwidth\":2},\"zaxis\":{\"backgroundcolor\":\"#E5ECF6\",\"gridcolor\":\"white\",\"linecolor\":\"white\",\"showbackground\":true,\"ticks\":\"\",\"zerolinecolor\":\"white\",\"gridwidth\":2}},\"shapedefaults\":{\"line\":{\"color\":\"#2a3f5f\"}},\"annotationdefaults\":{\"arrowcolor\":\"#2a3f5f\",\"arrowhead\":0,\"arrowwidth\":1},\"geo\":{\"bgcolor\":\"white\",\"landcolor\":\"#E5ECF6\",\"subunitcolor\":\"white\",\"showland\":true,\"showlakes\":true,\"lakecolor\":\"white\"},\"title\":{\"x\":0.05},\"mapbox\":{\"style\":\"light\"}}},\"xaxis\":{\"anchor\":\"y\",\"domain\":[0.0,1.0],\"scaleanchor\":\"y\",\"constrain\":\"domain\",\"title\":{\"text\":\"Multi-Agent HJ Reactive Control\"}},\"yaxis\":{\"anchor\":\"x\",\"domain\":[0.0,1.0],\"autorange\":\"reversed\",\"constrain\":\"domain\",\"title\":{\"text\":\"Multi-Agent HJ Naive\"}},\"coloraxis\":{\"colorscale\":[[0.0,\"#0d0887\"],[0.1111111111111111,\"#46039f\"],[0.2222222222222222,\"#7201a8\"],[0.3333333333333333,\"#9c179e\"],[0.4444444444444444,\"#bd3786\"],[0.5555555555555556,\"#d8576b\"],[0.6666666666666666,\"#ed7953\"],[0.7777777777777778,\"#fb9f3a\"],[0.8888888888888888,\"#fdca26\"],[1.0,\"#f0f921\"]]},\"margin\":{\"t\":60},\"title\":{\"text\":\"Missions without collisions and with maintained connectivity\"}},                        {\"responsive\": true}                    ).then(function(){\n",
       "                            \n",
       "var gd = document.getElementById('3e39cc52-94e8-4a50-8fa6-e42ba367d972');\n",
       "var x = new MutationObserver(function (mutations, observer) {{\n",
       "        var display = window.getComputedStyle(gd).display;\n",
       "        if (!display || display === 'none') {{\n",
       "            console.log([gd, 'removed!']);\n",
       "            Plotly.purge(gd);\n",
       "            observer.disconnect();\n",
       "        }}\n",
       "}});\n",
       "\n",
       "// Listen for the removal of the full notebook cells\n",
       "var notebookContainer = gd.closest('#notebook-container');\n",
       "if (notebookContainer) {{\n",
       "    x.observe(notebookContainer, {childList: true});\n",
       "}}\n",
       "\n",
       "// Listen for the clearing of the current output cell\n",
       "var outputEl = gd.closest('.output');\n",
       "if (outputEl) {{\n",
       "    x.observe(outputEl, {childList: true});\n",
       "}}\n",
       "\n",
       "                        })                };                });            </script>        </div>"
      ]
     },
     "metadata": {},
     "output_type": "display_data"
    }
   ],
   "source": [
    "connect_objective_reactive = (metrics_hj_reactive[\"Isolated_platform_metric\"]==0) & (metrics_hj_reactive[\"Number_of_collision\"] == 0)\n",
    "connect_objective_hj_naive = (metrics_hj_naive[\"Isolated_platform_metric\"]==0) & (metrics_hj_naive[\"Number_of_collision\"] == 0)\n",
    "fig_react_maint = plot_confusion_matrix(connect_objective_hj_naive , connect_objective_reactive , \n",
    "    'Multi-Agent HJ Naive', 'Multi-Agent HJ Reactive Control', title_name= 'Missions without collisions and with maintained connectivity')"
   ]
  },
  {
   "cell_type": "markdown",
   "metadata": {},
   "source": [
    "+  Missions success counts"
   ]
  },
  {
   "cell_type": "code",
   "execution_count": 21,
   "metadata": {},
   "outputs": [
    {
     "data": {
      "application/vnd.plotly.v1+json": {
       "config": {
        "plotlyServerURL": "https://plot.ly"
       },
       "data": [
        {
         "coloraxis": "coloraxis",
         "hovertemplate": "Multi-Agent HJ Reactive: %{x}<br>Multi-Agent HJ Naive: %{y}<br>color: %{z}<extra></extra>",
         "name": "0",
         "texttemplate": "%{z}",
         "type": "heatmap",
         "x": [
          false,
          true
         ],
         "xaxis": "x",
         "y": [
          false,
          true
         ],
         "yaxis": "y",
         "z": [
          [
           199,
           224
          ],
          [
           12,
           113
          ]
         ]
        }
       ],
       "layout": {
        "coloraxis": {
         "colorscale": [
          [
           0,
           "#0d0887"
          ],
          [
           0.1111111111111111,
           "#46039f"
          ],
          [
           0.2222222222222222,
           "#7201a8"
          ],
          [
           0.3333333333333333,
           "#9c179e"
          ],
          [
           0.4444444444444444,
           "#bd3786"
          ],
          [
           0.5555555555555556,
           "#d8576b"
          ],
          [
           0.6666666666666666,
           "#ed7953"
          ],
          [
           0.7777777777777778,
           "#fb9f3a"
          ],
          [
           0.8888888888888888,
           "#fdca26"
          ],
          [
           1,
           "#f0f921"
          ]
         ]
        },
        "margin": {
         "t": 60
        },
        "template": {
         "data": {
          "bar": [
           {
            "error_x": {
             "color": "#2a3f5f"
            },
            "error_y": {
             "color": "#2a3f5f"
            },
            "marker": {
             "line": {
              "color": "#E5ECF6",
              "width": 0.5
             },
             "pattern": {
              "fillmode": "overlay",
              "size": 10,
              "solidity": 0.2
             }
            },
            "type": "bar"
           }
          ],
          "barpolar": [
           {
            "marker": {
             "line": {
              "color": "#E5ECF6",
              "width": 0.5
             },
             "pattern": {
              "fillmode": "overlay",
              "size": 10,
              "solidity": 0.2
             }
            },
            "type": "barpolar"
           }
          ],
          "carpet": [
           {
            "aaxis": {
             "endlinecolor": "#2a3f5f",
             "gridcolor": "white",
             "linecolor": "white",
             "minorgridcolor": "white",
             "startlinecolor": "#2a3f5f"
            },
            "baxis": {
             "endlinecolor": "#2a3f5f",
             "gridcolor": "white",
             "linecolor": "white",
             "minorgridcolor": "white",
             "startlinecolor": "#2a3f5f"
            },
            "type": "carpet"
           }
          ],
          "choropleth": [
           {
            "colorbar": {
             "outlinewidth": 0,
             "ticks": ""
            },
            "type": "choropleth"
           }
          ],
          "contour": [
           {
            "colorbar": {
             "outlinewidth": 0,
             "ticks": ""
            },
            "colorscale": [
             [
              0,
              "#0d0887"
             ],
             [
              0.1111111111111111,
              "#46039f"
             ],
             [
              0.2222222222222222,
              "#7201a8"
             ],
             [
              0.3333333333333333,
              "#9c179e"
             ],
             [
              0.4444444444444444,
              "#bd3786"
             ],
             [
              0.5555555555555556,
              "#d8576b"
             ],
             [
              0.6666666666666666,
              "#ed7953"
             ],
             [
              0.7777777777777778,
              "#fb9f3a"
             ],
             [
              0.8888888888888888,
              "#fdca26"
             ],
             [
              1,
              "#f0f921"
             ]
            ],
            "type": "contour"
           }
          ],
          "contourcarpet": [
           {
            "colorbar": {
             "outlinewidth": 0,
             "ticks": ""
            },
            "type": "contourcarpet"
           }
          ],
          "heatmap": [
           {
            "colorbar": {
             "outlinewidth": 0,
             "ticks": ""
            },
            "colorscale": [
             [
              0,
              "#0d0887"
             ],
             [
              0.1111111111111111,
              "#46039f"
             ],
             [
              0.2222222222222222,
              "#7201a8"
             ],
             [
              0.3333333333333333,
              "#9c179e"
             ],
             [
              0.4444444444444444,
              "#bd3786"
             ],
             [
              0.5555555555555556,
              "#d8576b"
             ],
             [
              0.6666666666666666,
              "#ed7953"
             ],
             [
              0.7777777777777778,
              "#fb9f3a"
             ],
             [
              0.8888888888888888,
              "#fdca26"
             ],
             [
              1,
              "#f0f921"
             ]
            ],
            "type": "heatmap"
           }
          ],
          "heatmapgl": [
           {
            "colorbar": {
             "outlinewidth": 0,
             "ticks": ""
            },
            "colorscale": [
             [
              0,
              "#0d0887"
             ],
             [
              0.1111111111111111,
              "#46039f"
             ],
             [
              0.2222222222222222,
              "#7201a8"
             ],
             [
              0.3333333333333333,
              "#9c179e"
             ],
             [
              0.4444444444444444,
              "#bd3786"
             ],
             [
              0.5555555555555556,
              "#d8576b"
             ],
             [
              0.6666666666666666,
              "#ed7953"
             ],
             [
              0.7777777777777778,
              "#fb9f3a"
             ],
             [
              0.8888888888888888,
              "#fdca26"
             ],
             [
              1,
              "#f0f921"
             ]
            ],
            "type": "heatmapgl"
           }
          ],
          "histogram": [
           {
            "marker": {
             "pattern": {
              "fillmode": "overlay",
              "size": 10,
              "solidity": 0.2
             }
            },
            "type": "histogram"
           }
          ],
          "histogram2d": [
           {
            "colorbar": {
             "outlinewidth": 0,
             "ticks": ""
            },
            "colorscale": [
             [
              0,
              "#0d0887"
             ],
             [
              0.1111111111111111,
              "#46039f"
             ],
             [
              0.2222222222222222,
              "#7201a8"
             ],
             [
              0.3333333333333333,
              "#9c179e"
             ],
             [
              0.4444444444444444,
              "#bd3786"
             ],
             [
              0.5555555555555556,
              "#d8576b"
             ],
             [
              0.6666666666666666,
              "#ed7953"
             ],
             [
              0.7777777777777778,
              "#fb9f3a"
             ],
             [
              0.8888888888888888,
              "#fdca26"
             ],
             [
              1,
              "#f0f921"
             ]
            ],
            "type": "histogram2d"
           }
          ],
          "histogram2dcontour": [
           {
            "colorbar": {
             "outlinewidth": 0,
             "ticks": ""
            },
            "colorscale": [
             [
              0,
              "#0d0887"
             ],
             [
              0.1111111111111111,
              "#46039f"
             ],
             [
              0.2222222222222222,
              "#7201a8"
             ],
             [
              0.3333333333333333,
              "#9c179e"
             ],
             [
              0.4444444444444444,
              "#bd3786"
             ],
             [
              0.5555555555555556,
              "#d8576b"
             ],
             [
              0.6666666666666666,
              "#ed7953"
             ],
             [
              0.7777777777777778,
              "#fb9f3a"
             ],
             [
              0.8888888888888888,
              "#fdca26"
             ],
             [
              1,
              "#f0f921"
             ]
            ],
            "type": "histogram2dcontour"
           }
          ],
          "mesh3d": [
           {
            "colorbar": {
             "outlinewidth": 0,
             "ticks": ""
            },
            "type": "mesh3d"
           }
          ],
          "parcoords": [
           {
            "line": {
             "colorbar": {
              "outlinewidth": 0,
              "ticks": ""
             }
            },
            "type": "parcoords"
           }
          ],
          "pie": [
           {
            "automargin": true,
            "type": "pie"
           }
          ],
          "scatter": [
           {
            "fillpattern": {
             "fillmode": "overlay",
             "size": 10,
             "solidity": 0.2
            },
            "type": "scatter"
           }
          ],
          "scatter3d": [
           {
            "line": {
             "colorbar": {
              "outlinewidth": 0,
              "ticks": ""
             }
            },
            "marker": {
             "colorbar": {
              "outlinewidth": 0,
              "ticks": ""
             }
            },
            "type": "scatter3d"
           }
          ],
          "scattercarpet": [
           {
            "marker": {
             "colorbar": {
              "outlinewidth": 0,
              "ticks": ""
             }
            },
            "type": "scattercarpet"
           }
          ],
          "scattergeo": [
           {
            "marker": {
             "colorbar": {
              "outlinewidth": 0,
              "ticks": ""
             }
            },
            "type": "scattergeo"
           }
          ],
          "scattergl": [
           {
            "marker": {
             "colorbar": {
              "outlinewidth": 0,
              "ticks": ""
             }
            },
            "type": "scattergl"
           }
          ],
          "scattermapbox": [
           {
            "marker": {
             "colorbar": {
              "outlinewidth": 0,
              "ticks": ""
             }
            },
            "type": "scattermapbox"
           }
          ],
          "scatterpolar": [
           {
            "marker": {
             "colorbar": {
              "outlinewidth": 0,
              "ticks": ""
             }
            },
            "type": "scatterpolar"
           }
          ],
          "scatterpolargl": [
           {
            "marker": {
             "colorbar": {
              "outlinewidth": 0,
              "ticks": ""
             }
            },
            "type": "scatterpolargl"
           }
          ],
          "scatterternary": [
           {
            "marker": {
             "colorbar": {
              "outlinewidth": 0,
              "ticks": ""
             }
            },
            "type": "scatterternary"
           }
          ],
          "surface": [
           {
            "colorbar": {
             "outlinewidth": 0,
             "ticks": ""
            },
            "colorscale": [
             [
              0,
              "#0d0887"
             ],
             [
              0.1111111111111111,
              "#46039f"
             ],
             [
              0.2222222222222222,
              "#7201a8"
             ],
             [
              0.3333333333333333,
              "#9c179e"
             ],
             [
              0.4444444444444444,
              "#bd3786"
             ],
             [
              0.5555555555555556,
              "#d8576b"
             ],
             [
              0.6666666666666666,
              "#ed7953"
             ],
             [
              0.7777777777777778,
              "#fb9f3a"
             ],
             [
              0.8888888888888888,
              "#fdca26"
             ],
             [
              1,
              "#f0f921"
             ]
            ],
            "type": "surface"
           }
          ],
          "table": [
           {
            "cells": {
             "fill": {
              "color": "#EBF0F8"
             },
             "line": {
              "color": "white"
             }
            },
            "header": {
             "fill": {
              "color": "#C8D4E3"
             },
             "line": {
              "color": "white"
             }
            },
            "type": "table"
           }
          ]
         },
         "layout": {
          "annotationdefaults": {
           "arrowcolor": "#2a3f5f",
           "arrowhead": 0,
           "arrowwidth": 1
          },
          "autotypenumbers": "strict",
          "coloraxis": {
           "colorbar": {
            "outlinewidth": 0,
            "ticks": ""
           }
          },
          "colorscale": {
           "diverging": [
            [
             0,
             "#8e0152"
            ],
            [
             0.1,
             "#c51b7d"
            ],
            [
             0.2,
             "#de77ae"
            ],
            [
             0.3,
             "#f1b6da"
            ],
            [
             0.4,
             "#fde0ef"
            ],
            [
             0.5,
             "#f7f7f7"
            ],
            [
             0.6,
             "#e6f5d0"
            ],
            [
             0.7,
             "#b8e186"
            ],
            [
             0.8,
             "#7fbc41"
            ],
            [
             0.9,
             "#4d9221"
            ],
            [
             1,
             "#276419"
            ]
           ],
           "sequential": [
            [
             0,
             "#0d0887"
            ],
            [
             0.1111111111111111,
             "#46039f"
            ],
            [
             0.2222222222222222,
             "#7201a8"
            ],
            [
             0.3333333333333333,
             "#9c179e"
            ],
            [
             0.4444444444444444,
             "#bd3786"
            ],
            [
             0.5555555555555556,
             "#d8576b"
            ],
            [
             0.6666666666666666,
             "#ed7953"
            ],
            [
             0.7777777777777778,
             "#fb9f3a"
            ],
            [
             0.8888888888888888,
             "#fdca26"
            ],
            [
             1,
             "#f0f921"
            ]
           ],
           "sequentialminus": [
            [
             0,
             "#0d0887"
            ],
            [
             0.1111111111111111,
             "#46039f"
            ],
            [
             0.2222222222222222,
             "#7201a8"
            ],
            [
             0.3333333333333333,
             "#9c179e"
            ],
            [
             0.4444444444444444,
             "#bd3786"
            ],
            [
             0.5555555555555556,
             "#d8576b"
            ],
            [
             0.6666666666666666,
             "#ed7953"
            ],
            [
             0.7777777777777778,
             "#fb9f3a"
            ],
            [
             0.8888888888888888,
             "#fdca26"
            ],
            [
             1,
             "#f0f921"
            ]
           ]
          },
          "colorway": [
           "#636efa",
           "#EF553B",
           "#00cc96",
           "#ab63fa",
           "#FFA15A",
           "#19d3f3",
           "#FF6692",
           "#B6E880",
           "#FF97FF",
           "#FECB52"
          ],
          "font": {
           "color": "#2a3f5f"
          },
          "geo": {
           "bgcolor": "white",
           "lakecolor": "white",
           "landcolor": "#E5ECF6",
           "showlakes": true,
           "showland": true,
           "subunitcolor": "white"
          },
          "hoverlabel": {
           "align": "left"
          },
          "hovermode": "closest",
          "mapbox": {
           "style": "light"
          },
          "paper_bgcolor": "white",
          "plot_bgcolor": "#E5ECF6",
          "polar": {
           "angularaxis": {
            "gridcolor": "white",
            "linecolor": "white",
            "ticks": ""
           },
           "bgcolor": "#E5ECF6",
           "radialaxis": {
            "gridcolor": "white",
            "linecolor": "white",
            "ticks": ""
           }
          },
          "scene": {
           "xaxis": {
            "backgroundcolor": "#E5ECF6",
            "gridcolor": "white",
            "gridwidth": 2,
            "linecolor": "white",
            "showbackground": true,
            "ticks": "",
            "zerolinecolor": "white"
           },
           "yaxis": {
            "backgroundcolor": "#E5ECF6",
            "gridcolor": "white",
            "gridwidth": 2,
            "linecolor": "white",
            "showbackground": true,
            "ticks": "",
            "zerolinecolor": "white"
           },
           "zaxis": {
            "backgroundcolor": "#E5ECF6",
            "gridcolor": "white",
            "gridwidth": 2,
            "linecolor": "white",
            "showbackground": true,
            "ticks": "",
            "zerolinecolor": "white"
           }
          },
          "shapedefaults": {
           "line": {
            "color": "#2a3f5f"
           }
          },
          "ternary": {
           "aaxis": {
            "gridcolor": "white",
            "linecolor": "white",
            "ticks": ""
           },
           "baxis": {
            "gridcolor": "white",
            "linecolor": "white",
            "ticks": ""
           },
           "bgcolor": "#E5ECF6",
           "caxis": {
            "gridcolor": "white",
            "linecolor": "white",
            "ticks": ""
           }
          },
          "title": {
           "x": 0.05
          },
          "xaxis": {
           "automargin": true,
           "gridcolor": "white",
           "linecolor": "white",
           "ticks": "",
           "title": {
            "standoff": 15
           },
           "zerolinecolor": "white",
           "zerolinewidth": 2
          },
          "yaxis": {
           "automargin": true,
           "gridcolor": "white",
           "linecolor": "white",
           "ticks": "",
           "title": {
            "standoff": 15
           },
           "zerolinecolor": "white",
           "zerolinewidth": 2
          }
         }
        },
        "title": {
         "text": "Mission Success"
        },
        "xaxis": {
         "anchor": "y",
         "constrain": "domain",
         "domain": [
          0,
          1
         ],
         "scaleanchor": "y",
         "title": {
          "text": "Multi-Agent HJ Reactive"
         }
        },
        "yaxis": {
         "anchor": "x",
         "autorange": "reversed",
         "constrain": "domain",
         "domain": [
          0,
          1
         ],
         "title": {
          "text": "Multi-Agent HJ Naive"
         }
        }
       }
      },
      "text/html": [
       "<div>                            <div id=\"97d6e70d-0b9e-43c4-bc2f-31f077ce37fb\" class=\"plotly-graph-div\" style=\"height:525px; width:100%;\"></div>            <script type=\"text/javascript\">                require([\"plotly\"], function(Plotly) {                    window.PLOTLYENV=window.PLOTLYENV || {};                                    if (document.getElementById(\"97d6e70d-0b9e-43c4-bc2f-31f077ce37fb\")) {                    Plotly.newPlot(                        \"97d6e70d-0b9e-43c4-bc2f-31f077ce37fb\",                        [{\"coloraxis\":\"coloraxis\",\"name\":\"0\",\"texttemplate\":\"%{z}\",\"x\":[false,true],\"y\":[false,true],\"z\":[[199,224],[12,113]],\"type\":\"heatmap\",\"xaxis\":\"x\",\"yaxis\":\"y\",\"hovertemplate\":\"Multi-Agent HJ Reactive: %{x}<br>Multi-Agent HJ Naive: %{y}<br>color: %{z}<extra></extra>\"}],                        {\"template\":{\"data\":{\"histogram2dcontour\":[{\"type\":\"histogram2dcontour\",\"colorbar\":{\"outlinewidth\":0,\"ticks\":\"\"},\"colorscale\":[[0.0,\"#0d0887\"],[0.1111111111111111,\"#46039f\"],[0.2222222222222222,\"#7201a8\"],[0.3333333333333333,\"#9c179e\"],[0.4444444444444444,\"#bd3786\"],[0.5555555555555556,\"#d8576b\"],[0.6666666666666666,\"#ed7953\"],[0.7777777777777778,\"#fb9f3a\"],[0.8888888888888888,\"#fdca26\"],[1.0,\"#f0f921\"]]}],\"choropleth\":[{\"type\":\"choropleth\",\"colorbar\":{\"outlinewidth\":0,\"ticks\":\"\"}}],\"histogram2d\":[{\"type\":\"histogram2d\",\"colorbar\":{\"outlinewidth\":0,\"ticks\":\"\"},\"colorscale\":[[0.0,\"#0d0887\"],[0.1111111111111111,\"#46039f\"],[0.2222222222222222,\"#7201a8\"],[0.3333333333333333,\"#9c179e\"],[0.4444444444444444,\"#bd3786\"],[0.5555555555555556,\"#d8576b\"],[0.6666666666666666,\"#ed7953\"],[0.7777777777777778,\"#fb9f3a\"],[0.8888888888888888,\"#fdca26\"],[1.0,\"#f0f921\"]]}],\"heatmap\":[{\"type\":\"heatmap\",\"colorbar\":{\"outlinewidth\":0,\"ticks\":\"\"},\"colorscale\":[[0.0,\"#0d0887\"],[0.1111111111111111,\"#46039f\"],[0.2222222222222222,\"#7201a8\"],[0.3333333333333333,\"#9c179e\"],[0.4444444444444444,\"#bd3786\"],[0.5555555555555556,\"#d8576b\"],[0.6666666666666666,\"#ed7953\"],[0.7777777777777778,\"#fb9f3a\"],[0.8888888888888888,\"#fdca26\"],[1.0,\"#f0f921\"]]}],\"heatmapgl\":[{\"type\":\"heatmapgl\",\"colorbar\":{\"outlinewidth\":0,\"ticks\":\"\"},\"colorscale\":[[0.0,\"#0d0887\"],[0.1111111111111111,\"#46039f\"],[0.2222222222222222,\"#7201a8\"],[0.3333333333333333,\"#9c179e\"],[0.4444444444444444,\"#bd3786\"],[0.5555555555555556,\"#d8576b\"],[0.6666666666666666,\"#ed7953\"],[0.7777777777777778,\"#fb9f3a\"],[0.8888888888888888,\"#fdca26\"],[1.0,\"#f0f921\"]]}],\"contourcarpet\":[{\"type\":\"contourcarpet\",\"colorbar\":{\"outlinewidth\":0,\"ticks\":\"\"}}],\"contour\":[{\"type\":\"contour\",\"colorbar\":{\"outlinewidth\":0,\"ticks\":\"\"},\"colorscale\":[[0.0,\"#0d0887\"],[0.1111111111111111,\"#46039f\"],[0.2222222222222222,\"#7201a8\"],[0.3333333333333333,\"#9c179e\"],[0.4444444444444444,\"#bd3786\"],[0.5555555555555556,\"#d8576b\"],[0.6666666666666666,\"#ed7953\"],[0.7777777777777778,\"#fb9f3a\"],[0.8888888888888888,\"#fdca26\"],[1.0,\"#f0f921\"]]}],\"surface\":[{\"type\":\"surface\",\"colorbar\":{\"outlinewidth\":0,\"ticks\":\"\"},\"colorscale\":[[0.0,\"#0d0887\"],[0.1111111111111111,\"#46039f\"],[0.2222222222222222,\"#7201a8\"],[0.3333333333333333,\"#9c179e\"],[0.4444444444444444,\"#bd3786\"],[0.5555555555555556,\"#d8576b\"],[0.6666666666666666,\"#ed7953\"],[0.7777777777777778,\"#fb9f3a\"],[0.8888888888888888,\"#fdca26\"],[1.0,\"#f0f921\"]]}],\"mesh3d\":[{\"type\":\"mesh3d\",\"colorbar\":{\"outlinewidth\":0,\"ticks\":\"\"}}],\"scatter\":[{\"fillpattern\":{\"fillmode\":\"overlay\",\"size\":10,\"solidity\":0.2},\"type\":\"scatter\"}],\"parcoords\":[{\"type\":\"parcoords\",\"line\":{\"colorbar\":{\"outlinewidth\":0,\"ticks\":\"\"}}}],\"scatterpolargl\":[{\"type\":\"scatterpolargl\",\"marker\":{\"colorbar\":{\"outlinewidth\":0,\"ticks\":\"\"}}}],\"bar\":[{\"error_x\":{\"color\":\"#2a3f5f\"},\"error_y\":{\"color\":\"#2a3f5f\"},\"marker\":{\"line\":{\"color\":\"#E5ECF6\",\"width\":0.5},\"pattern\":{\"fillmode\":\"overlay\",\"size\":10,\"solidity\":0.2}},\"type\":\"bar\"}],\"scattergeo\":[{\"type\":\"scattergeo\",\"marker\":{\"colorbar\":{\"outlinewidth\":0,\"ticks\":\"\"}}}],\"scatterpolar\":[{\"type\":\"scatterpolar\",\"marker\":{\"colorbar\":{\"outlinewidth\":0,\"ticks\":\"\"}}}],\"histogram\":[{\"marker\":{\"pattern\":{\"fillmode\":\"overlay\",\"size\":10,\"solidity\":0.2}},\"type\":\"histogram\"}],\"scattergl\":[{\"type\":\"scattergl\",\"marker\":{\"colorbar\":{\"outlinewidth\":0,\"ticks\":\"\"}}}],\"scatter3d\":[{\"type\":\"scatter3d\",\"line\":{\"colorbar\":{\"outlinewidth\":0,\"ticks\":\"\"}},\"marker\":{\"colorbar\":{\"outlinewidth\":0,\"ticks\":\"\"}}}],\"scattermapbox\":[{\"type\":\"scattermapbox\",\"marker\":{\"colorbar\":{\"outlinewidth\":0,\"ticks\":\"\"}}}],\"scatterternary\":[{\"type\":\"scatterternary\",\"marker\":{\"colorbar\":{\"outlinewidth\":0,\"ticks\":\"\"}}}],\"scattercarpet\":[{\"type\":\"scattercarpet\",\"marker\":{\"colorbar\":{\"outlinewidth\":0,\"ticks\":\"\"}}}],\"carpet\":[{\"aaxis\":{\"endlinecolor\":\"#2a3f5f\",\"gridcolor\":\"white\",\"linecolor\":\"white\",\"minorgridcolor\":\"white\",\"startlinecolor\":\"#2a3f5f\"},\"baxis\":{\"endlinecolor\":\"#2a3f5f\",\"gridcolor\":\"white\",\"linecolor\":\"white\",\"minorgridcolor\":\"white\",\"startlinecolor\":\"#2a3f5f\"},\"type\":\"carpet\"}],\"table\":[{\"cells\":{\"fill\":{\"color\":\"#EBF0F8\"},\"line\":{\"color\":\"white\"}},\"header\":{\"fill\":{\"color\":\"#C8D4E3\"},\"line\":{\"color\":\"white\"}},\"type\":\"table\"}],\"barpolar\":[{\"marker\":{\"line\":{\"color\":\"#E5ECF6\",\"width\":0.5},\"pattern\":{\"fillmode\":\"overlay\",\"size\":10,\"solidity\":0.2}},\"type\":\"barpolar\"}],\"pie\":[{\"automargin\":true,\"type\":\"pie\"}]},\"layout\":{\"autotypenumbers\":\"strict\",\"colorway\":[\"#636efa\",\"#EF553B\",\"#00cc96\",\"#ab63fa\",\"#FFA15A\",\"#19d3f3\",\"#FF6692\",\"#B6E880\",\"#FF97FF\",\"#FECB52\"],\"font\":{\"color\":\"#2a3f5f\"},\"hovermode\":\"closest\",\"hoverlabel\":{\"align\":\"left\"},\"paper_bgcolor\":\"white\",\"plot_bgcolor\":\"#E5ECF6\",\"polar\":{\"bgcolor\":\"#E5ECF6\",\"angularaxis\":{\"gridcolor\":\"white\",\"linecolor\":\"white\",\"ticks\":\"\"},\"radialaxis\":{\"gridcolor\":\"white\",\"linecolor\":\"white\",\"ticks\":\"\"}},\"ternary\":{\"bgcolor\":\"#E5ECF6\",\"aaxis\":{\"gridcolor\":\"white\",\"linecolor\":\"white\",\"ticks\":\"\"},\"baxis\":{\"gridcolor\":\"white\",\"linecolor\":\"white\",\"ticks\":\"\"},\"caxis\":{\"gridcolor\":\"white\",\"linecolor\":\"white\",\"ticks\":\"\"}},\"coloraxis\":{\"colorbar\":{\"outlinewidth\":0,\"ticks\":\"\"}},\"colorscale\":{\"sequential\":[[0.0,\"#0d0887\"],[0.1111111111111111,\"#46039f\"],[0.2222222222222222,\"#7201a8\"],[0.3333333333333333,\"#9c179e\"],[0.4444444444444444,\"#bd3786\"],[0.5555555555555556,\"#d8576b\"],[0.6666666666666666,\"#ed7953\"],[0.7777777777777778,\"#fb9f3a\"],[0.8888888888888888,\"#fdca26\"],[1.0,\"#f0f921\"]],\"sequentialminus\":[[0.0,\"#0d0887\"],[0.1111111111111111,\"#46039f\"],[0.2222222222222222,\"#7201a8\"],[0.3333333333333333,\"#9c179e\"],[0.4444444444444444,\"#bd3786\"],[0.5555555555555556,\"#d8576b\"],[0.6666666666666666,\"#ed7953\"],[0.7777777777777778,\"#fb9f3a\"],[0.8888888888888888,\"#fdca26\"],[1.0,\"#f0f921\"]],\"diverging\":[[0,\"#8e0152\"],[0.1,\"#c51b7d\"],[0.2,\"#de77ae\"],[0.3,\"#f1b6da\"],[0.4,\"#fde0ef\"],[0.5,\"#f7f7f7\"],[0.6,\"#e6f5d0\"],[0.7,\"#b8e186\"],[0.8,\"#7fbc41\"],[0.9,\"#4d9221\"],[1,\"#276419\"]]},\"xaxis\":{\"gridcolor\":\"white\",\"linecolor\":\"white\",\"ticks\":\"\",\"title\":{\"standoff\":15},\"zerolinecolor\":\"white\",\"automargin\":true,\"zerolinewidth\":2},\"yaxis\":{\"gridcolor\":\"white\",\"linecolor\":\"white\",\"ticks\":\"\",\"title\":{\"standoff\":15},\"zerolinecolor\":\"white\",\"automargin\":true,\"zerolinewidth\":2},\"scene\":{\"xaxis\":{\"backgroundcolor\":\"#E5ECF6\",\"gridcolor\":\"white\",\"linecolor\":\"white\",\"showbackground\":true,\"ticks\":\"\",\"zerolinecolor\":\"white\",\"gridwidth\":2},\"yaxis\":{\"backgroundcolor\":\"#E5ECF6\",\"gridcolor\":\"white\",\"linecolor\":\"white\",\"showbackground\":true,\"ticks\":\"\",\"zerolinecolor\":\"white\",\"gridwidth\":2},\"zaxis\":{\"backgroundcolor\":\"#E5ECF6\",\"gridcolor\":\"white\",\"linecolor\":\"white\",\"showbackground\":true,\"ticks\":\"\",\"zerolinecolor\":\"white\",\"gridwidth\":2}},\"shapedefaults\":{\"line\":{\"color\":\"#2a3f5f\"}},\"annotationdefaults\":{\"arrowcolor\":\"#2a3f5f\",\"arrowhead\":0,\"arrowwidth\":1},\"geo\":{\"bgcolor\":\"white\",\"landcolor\":\"#E5ECF6\",\"subunitcolor\":\"white\",\"showland\":true,\"showlakes\":true,\"lakecolor\":\"white\"},\"title\":{\"x\":0.05},\"mapbox\":{\"style\":\"light\"}}},\"xaxis\":{\"anchor\":\"y\",\"domain\":[0.0,1.0],\"scaleanchor\":\"y\",\"constrain\":\"domain\",\"title\":{\"text\":\"Multi-Agent HJ Reactive\"}},\"yaxis\":{\"anchor\":\"x\",\"domain\":[0.0,1.0],\"autorange\":\"reversed\",\"constrain\":\"domain\",\"title\":{\"text\":\"Multi-Agent HJ Naive\"}},\"coloraxis\":{\"colorscale\":[[0.0,\"#0d0887\"],[0.1111111111111111,\"#46039f\"],[0.2222222222222222,\"#7201a8\"],[0.3333333333333333,\"#9c179e\"],[0.4444444444444444,\"#bd3786\"],[0.5555555555555556,\"#d8576b\"],[0.6666666666666666,\"#ed7953\"],[0.7777777777777778,\"#fb9f3a\"],[0.8888888888888888,\"#fdca26\"],[1.0,\"#f0f921\"]]},\"margin\":{\"t\":60},\"title\":{\"text\":\"Mission Success\"}},                        {\"responsive\": true}                    ).then(function(){\n",
       "                            \n",
       "var gd = document.getElementById('97d6e70d-0b9e-43c4-bc2f-31f077ce37fb');\n",
       "var x = new MutationObserver(function (mutations, observer) {{\n",
       "        var display = window.getComputedStyle(gd).display;\n",
       "        if (!display || display === 'none') {{\n",
       "            console.log([gd, 'removed!']);\n",
       "            Plotly.purge(gd);\n",
       "            observer.disconnect();\n",
       "        }}\n",
       "}});\n",
       "\n",
       "// Listen for the removal of the full notebook cells\n",
       "var notebookContainer = gd.closest('#notebook-container');\n",
       "if (notebookContainer) {{\n",
       "    x.observe(notebookContainer, {childList: true});\n",
       "}}\n",
       "\n",
       "// Listen for the clearing of the current output cell\n",
       "var outputEl = gd.closest('.output');\n",
       "if (outputEl) {{\n",
       "    x.observe(outputEl, {childList: true});\n",
       "}}\n",
       "\n",
       "                        })                };                });            </script>        </div>"
      ]
     },
     "metadata": {},
     "output_type": "display_data"
    }
   ],
   "source": [
    "fig_react_success  = plot_confusion_matrix(metrics_hj_naive[\"Mission_success\"]==1, \n",
    "                        metrics_hj_reactive[\"Mission_success\"]==1, 'Multi-Agent HJ Naive', \n",
    "                        'Multi-Agent HJ Reactive', title_name=\"Mission Success\")"
   ]
  },
  {
   "attachments": {},
   "cell_type": "markdown",
   "metadata": {},
   "source": [
    "###  HJ naive vs Flocking"
   ]
  },
  {
   "attachments": {},
   "cell_type": "markdown",
   "metadata": {},
   "source": [
    "+  Missions with collisions"
   ]
  },
  {
   "cell_type": "code",
   "execution_count": 22,
   "metadata": {},
   "outputs": [
    {
     "data": {
      "application/vnd.plotly.v1+json": {
       "config": {
        "plotlyServerURL": "https://plot.ly"
       },
       "data": [
        {
         "coloraxis": "coloraxis",
         "hovertemplate": "Multi-Agent HJ Flocking Control: %{x}<br>Multi-Agent HJ Naive: %{y}<br>color: %{z}<extra></extra>",
         "name": "0",
         "texttemplate": "%{z}",
         "type": "heatmap",
         "x": [
          false,
          true
         ],
         "xaxis": "x",
         "y": [
          false,
          true
         ],
         "yaxis": "y",
         "z": [
          [
           331,
           0
          ],
          [
           210,
           7
          ]
         ]
        }
       ],
       "layout": {
        "coloraxis": {
         "colorscale": [
          [
           0,
           "#0d0887"
          ],
          [
           0.1111111111111111,
           "#46039f"
          ],
          [
           0.2222222222222222,
           "#7201a8"
          ],
          [
           0.3333333333333333,
           "#9c179e"
          ],
          [
           0.4444444444444444,
           "#bd3786"
          ],
          [
           0.5555555555555556,
           "#d8576b"
          ],
          [
           0.6666666666666666,
           "#ed7953"
          ],
          [
           0.7777777777777778,
           "#fb9f3a"
          ],
          [
           0.8888888888888888,
           "#fdca26"
          ],
          [
           1,
           "#f0f921"
          ]
         ]
        },
        "margin": {
         "t": 60
        },
        "template": {
         "data": {
          "bar": [
           {
            "error_x": {
             "color": "#2a3f5f"
            },
            "error_y": {
             "color": "#2a3f5f"
            },
            "marker": {
             "line": {
              "color": "#E5ECF6",
              "width": 0.5
             },
             "pattern": {
              "fillmode": "overlay",
              "size": 10,
              "solidity": 0.2
             }
            },
            "type": "bar"
           }
          ],
          "barpolar": [
           {
            "marker": {
             "line": {
              "color": "#E5ECF6",
              "width": 0.5
             },
             "pattern": {
              "fillmode": "overlay",
              "size": 10,
              "solidity": 0.2
             }
            },
            "type": "barpolar"
           }
          ],
          "carpet": [
           {
            "aaxis": {
             "endlinecolor": "#2a3f5f",
             "gridcolor": "white",
             "linecolor": "white",
             "minorgridcolor": "white",
             "startlinecolor": "#2a3f5f"
            },
            "baxis": {
             "endlinecolor": "#2a3f5f",
             "gridcolor": "white",
             "linecolor": "white",
             "minorgridcolor": "white",
             "startlinecolor": "#2a3f5f"
            },
            "type": "carpet"
           }
          ],
          "choropleth": [
           {
            "colorbar": {
             "outlinewidth": 0,
             "ticks": ""
            },
            "type": "choropleth"
           }
          ],
          "contour": [
           {
            "colorbar": {
             "outlinewidth": 0,
             "ticks": ""
            },
            "colorscale": [
             [
              0,
              "#0d0887"
             ],
             [
              0.1111111111111111,
              "#46039f"
             ],
             [
              0.2222222222222222,
              "#7201a8"
             ],
             [
              0.3333333333333333,
              "#9c179e"
             ],
             [
              0.4444444444444444,
              "#bd3786"
             ],
             [
              0.5555555555555556,
              "#d8576b"
             ],
             [
              0.6666666666666666,
              "#ed7953"
             ],
             [
              0.7777777777777778,
              "#fb9f3a"
             ],
             [
              0.8888888888888888,
              "#fdca26"
             ],
             [
              1,
              "#f0f921"
             ]
            ],
            "type": "contour"
           }
          ],
          "contourcarpet": [
           {
            "colorbar": {
             "outlinewidth": 0,
             "ticks": ""
            },
            "type": "contourcarpet"
           }
          ],
          "heatmap": [
           {
            "colorbar": {
             "outlinewidth": 0,
             "ticks": ""
            },
            "colorscale": [
             [
              0,
              "#0d0887"
             ],
             [
              0.1111111111111111,
              "#46039f"
             ],
             [
              0.2222222222222222,
              "#7201a8"
             ],
             [
              0.3333333333333333,
              "#9c179e"
             ],
             [
              0.4444444444444444,
              "#bd3786"
             ],
             [
              0.5555555555555556,
              "#d8576b"
             ],
             [
              0.6666666666666666,
              "#ed7953"
             ],
             [
              0.7777777777777778,
              "#fb9f3a"
             ],
             [
              0.8888888888888888,
              "#fdca26"
             ],
             [
              1,
              "#f0f921"
             ]
            ],
            "type": "heatmap"
           }
          ],
          "heatmapgl": [
           {
            "colorbar": {
             "outlinewidth": 0,
             "ticks": ""
            },
            "colorscale": [
             [
              0,
              "#0d0887"
             ],
             [
              0.1111111111111111,
              "#46039f"
             ],
             [
              0.2222222222222222,
              "#7201a8"
             ],
             [
              0.3333333333333333,
              "#9c179e"
             ],
             [
              0.4444444444444444,
              "#bd3786"
             ],
             [
              0.5555555555555556,
              "#d8576b"
             ],
             [
              0.6666666666666666,
              "#ed7953"
             ],
             [
              0.7777777777777778,
              "#fb9f3a"
             ],
             [
              0.8888888888888888,
              "#fdca26"
             ],
             [
              1,
              "#f0f921"
             ]
            ],
            "type": "heatmapgl"
           }
          ],
          "histogram": [
           {
            "marker": {
             "pattern": {
              "fillmode": "overlay",
              "size": 10,
              "solidity": 0.2
             }
            },
            "type": "histogram"
           }
          ],
          "histogram2d": [
           {
            "colorbar": {
             "outlinewidth": 0,
             "ticks": ""
            },
            "colorscale": [
             [
              0,
              "#0d0887"
             ],
             [
              0.1111111111111111,
              "#46039f"
             ],
             [
              0.2222222222222222,
              "#7201a8"
             ],
             [
              0.3333333333333333,
              "#9c179e"
             ],
             [
              0.4444444444444444,
              "#bd3786"
             ],
             [
              0.5555555555555556,
              "#d8576b"
             ],
             [
              0.6666666666666666,
              "#ed7953"
             ],
             [
              0.7777777777777778,
              "#fb9f3a"
             ],
             [
              0.8888888888888888,
              "#fdca26"
             ],
             [
              1,
              "#f0f921"
             ]
            ],
            "type": "histogram2d"
           }
          ],
          "histogram2dcontour": [
           {
            "colorbar": {
             "outlinewidth": 0,
             "ticks": ""
            },
            "colorscale": [
             [
              0,
              "#0d0887"
             ],
             [
              0.1111111111111111,
              "#46039f"
             ],
             [
              0.2222222222222222,
              "#7201a8"
             ],
             [
              0.3333333333333333,
              "#9c179e"
             ],
             [
              0.4444444444444444,
              "#bd3786"
             ],
             [
              0.5555555555555556,
              "#d8576b"
             ],
             [
              0.6666666666666666,
              "#ed7953"
             ],
             [
              0.7777777777777778,
              "#fb9f3a"
             ],
             [
              0.8888888888888888,
              "#fdca26"
             ],
             [
              1,
              "#f0f921"
             ]
            ],
            "type": "histogram2dcontour"
           }
          ],
          "mesh3d": [
           {
            "colorbar": {
             "outlinewidth": 0,
             "ticks": ""
            },
            "type": "mesh3d"
           }
          ],
          "parcoords": [
           {
            "line": {
             "colorbar": {
              "outlinewidth": 0,
              "ticks": ""
             }
            },
            "type": "parcoords"
           }
          ],
          "pie": [
           {
            "automargin": true,
            "type": "pie"
           }
          ],
          "scatter": [
           {
            "fillpattern": {
             "fillmode": "overlay",
             "size": 10,
             "solidity": 0.2
            },
            "type": "scatter"
           }
          ],
          "scatter3d": [
           {
            "line": {
             "colorbar": {
              "outlinewidth": 0,
              "ticks": ""
             }
            },
            "marker": {
             "colorbar": {
              "outlinewidth": 0,
              "ticks": ""
             }
            },
            "type": "scatter3d"
           }
          ],
          "scattercarpet": [
           {
            "marker": {
             "colorbar": {
              "outlinewidth": 0,
              "ticks": ""
             }
            },
            "type": "scattercarpet"
           }
          ],
          "scattergeo": [
           {
            "marker": {
             "colorbar": {
              "outlinewidth": 0,
              "ticks": ""
             }
            },
            "type": "scattergeo"
           }
          ],
          "scattergl": [
           {
            "marker": {
             "colorbar": {
              "outlinewidth": 0,
              "ticks": ""
             }
            },
            "type": "scattergl"
           }
          ],
          "scattermapbox": [
           {
            "marker": {
             "colorbar": {
              "outlinewidth": 0,
              "ticks": ""
             }
            },
            "type": "scattermapbox"
           }
          ],
          "scatterpolar": [
           {
            "marker": {
             "colorbar": {
              "outlinewidth": 0,
              "ticks": ""
             }
            },
            "type": "scatterpolar"
           }
          ],
          "scatterpolargl": [
           {
            "marker": {
             "colorbar": {
              "outlinewidth": 0,
              "ticks": ""
             }
            },
            "type": "scatterpolargl"
           }
          ],
          "scatterternary": [
           {
            "marker": {
             "colorbar": {
              "outlinewidth": 0,
              "ticks": ""
             }
            },
            "type": "scatterternary"
           }
          ],
          "surface": [
           {
            "colorbar": {
             "outlinewidth": 0,
             "ticks": ""
            },
            "colorscale": [
             [
              0,
              "#0d0887"
             ],
             [
              0.1111111111111111,
              "#46039f"
             ],
             [
              0.2222222222222222,
              "#7201a8"
             ],
             [
              0.3333333333333333,
              "#9c179e"
             ],
             [
              0.4444444444444444,
              "#bd3786"
             ],
             [
              0.5555555555555556,
              "#d8576b"
             ],
             [
              0.6666666666666666,
              "#ed7953"
             ],
             [
              0.7777777777777778,
              "#fb9f3a"
             ],
             [
              0.8888888888888888,
              "#fdca26"
             ],
             [
              1,
              "#f0f921"
             ]
            ],
            "type": "surface"
           }
          ],
          "table": [
           {
            "cells": {
             "fill": {
              "color": "#EBF0F8"
             },
             "line": {
              "color": "white"
             }
            },
            "header": {
             "fill": {
              "color": "#C8D4E3"
             },
             "line": {
              "color": "white"
             }
            },
            "type": "table"
           }
          ]
         },
         "layout": {
          "annotationdefaults": {
           "arrowcolor": "#2a3f5f",
           "arrowhead": 0,
           "arrowwidth": 1
          },
          "autotypenumbers": "strict",
          "coloraxis": {
           "colorbar": {
            "outlinewidth": 0,
            "ticks": ""
           }
          },
          "colorscale": {
           "diverging": [
            [
             0,
             "#8e0152"
            ],
            [
             0.1,
             "#c51b7d"
            ],
            [
             0.2,
             "#de77ae"
            ],
            [
             0.3,
             "#f1b6da"
            ],
            [
             0.4,
             "#fde0ef"
            ],
            [
             0.5,
             "#f7f7f7"
            ],
            [
             0.6,
             "#e6f5d0"
            ],
            [
             0.7,
             "#b8e186"
            ],
            [
             0.8,
             "#7fbc41"
            ],
            [
             0.9,
             "#4d9221"
            ],
            [
             1,
             "#276419"
            ]
           ],
           "sequential": [
            [
             0,
             "#0d0887"
            ],
            [
             0.1111111111111111,
             "#46039f"
            ],
            [
             0.2222222222222222,
             "#7201a8"
            ],
            [
             0.3333333333333333,
             "#9c179e"
            ],
            [
             0.4444444444444444,
             "#bd3786"
            ],
            [
             0.5555555555555556,
             "#d8576b"
            ],
            [
             0.6666666666666666,
             "#ed7953"
            ],
            [
             0.7777777777777778,
             "#fb9f3a"
            ],
            [
             0.8888888888888888,
             "#fdca26"
            ],
            [
             1,
             "#f0f921"
            ]
           ],
           "sequentialminus": [
            [
             0,
             "#0d0887"
            ],
            [
             0.1111111111111111,
             "#46039f"
            ],
            [
             0.2222222222222222,
             "#7201a8"
            ],
            [
             0.3333333333333333,
             "#9c179e"
            ],
            [
             0.4444444444444444,
             "#bd3786"
            ],
            [
             0.5555555555555556,
             "#d8576b"
            ],
            [
             0.6666666666666666,
             "#ed7953"
            ],
            [
             0.7777777777777778,
             "#fb9f3a"
            ],
            [
             0.8888888888888888,
             "#fdca26"
            ],
            [
             1,
             "#f0f921"
            ]
           ]
          },
          "colorway": [
           "#636efa",
           "#EF553B",
           "#00cc96",
           "#ab63fa",
           "#FFA15A",
           "#19d3f3",
           "#FF6692",
           "#B6E880",
           "#FF97FF",
           "#FECB52"
          ],
          "font": {
           "color": "#2a3f5f"
          },
          "geo": {
           "bgcolor": "white",
           "lakecolor": "white",
           "landcolor": "#E5ECF6",
           "showlakes": true,
           "showland": true,
           "subunitcolor": "white"
          },
          "hoverlabel": {
           "align": "left"
          },
          "hovermode": "closest",
          "mapbox": {
           "style": "light"
          },
          "paper_bgcolor": "white",
          "plot_bgcolor": "#E5ECF6",
          "polar": {
           "angularaxis": {
            "gridcolor": "white",
            "linecolor": "white",
            "ticks": ""
           },
           "bgcolor": "#E5ECF6",
           "radialaxis": {
            "gridcolor": "white",
            "linecolor": "white",
            "ticks": ""
           }
          },
          "scene": {
           "xaxis": {
            "backgroundcolor": "#E5ECF6",
            "gridcolor": "white",
            "gridwidth": 2,
            "linecolor": "white",
            "showbackground": true,
            "ticks": "",
            "zerolinecolor": "white"
           },
           "yaxis": {
            "backgroundcolor": "#E5ECF6",
            "gridcolor": "white",
            "gridwidth": 2,
            "linecolor": "white",
            "showbackground": true,
            "ticks": "",
            "zerolinecolor": "white"
           },
           "zaxis": {
            "backgroundcolor": "#E5ECF6",
            "gridcolor": "white",
            "gridwidth": 2,
            "linecolor": "white",
            "showbackground": true,
            "ticks": "",
            "zerolinecolor": "white"
           }
          },
          "shapedefaults": {
           "line": {
            "color": "#2a3f5f"
           }
          },
          "ternary": {
           "aaxis": {
            "gridcolor": "white",
            "linecolor": "white",
            "ticks": ""
           },
           "baxis": {
            "gridcolor": "white",
            "linecolor": "white",
            "ticks": ""
           },
           "bgcolor": "#E5ECF6",
           "caxis": {
            "gridcolor": "white",
            "linecolor": "white",
            "ticks": ""
           }
          },
          "title": {
           "x": 0.05
          },
          "xaxis": {
           "automargin": true,
           "gridcolor": "white",
           "linecolor": "white",
           "ticks": "",
           "title": {
            "standoff": 15
           },
           "zerolinecolor": "white",
           "zerolinewidth": 2
          },
          "yaxis": {
           "automargin": true,
           "gridcolor": "white",
           "linecolor": "white",
           "ticks": "",
           "title": {
            "standoff": 15
           },
           "zerolinecolor": "white",
           "zerolinewidth": 2
          }
         }
        },
        "title": {
         "text": "Missions with collisions"
        },
        "xaxis": {
         "anchor": "y",
         "constrain": "domain",
         "domain": [
          0,
          1
         ],
         "scaleanchor": "y",
         "title": {
          "text": "Multi-Agent HJ Flocking Control"
         }
        },
        "yaxis": {
         "anchor": "x",
         "autorange": "reversed",
         "constrain": "domain",
         "domain": [
          0,
          1
         ],
         "title": {
          "text": "Multi-Agent HJ Naive"
         }
        }
       }
      },
      "text/html": [
       "<div>                            <div id=\"6206017c-8a9e-4af4-b7d7-f6771e9eb49d\" class=\"plotly-graph-div\" style=\"height:525px; width:100%;\"></div>            <script type=\"text/javascript\">                require([\"plotly\"], function(Plotly) {                    window.PLOTLYENV=window.PLOTLYENV || {};                                    if (document.getElementById(\"6206017c-8a9e-4af4-b7d7-f6771e9eb49d\")) {                    Plotly.newPlot(                        \"6206017c-8a9e-4af4-b7d7-f6771e9eb49d\",                        [{\"coloraxis\":\"coloraxis\",\"name\":\"0\",\"texttemplate\":\"%{z}\",\"x\":[false,true],\"y\":[false,true],\"z\":[[331,0],[210,7]],\"type\":\"heatmap\",\"xaxis\":\"x\",\"yaxis\":\"y\",\"hovertemplate\":\"Multi-Agent HJ Flocking Control: %{x}<br>Multi-Agent HJ Naive: %{y}<br>color: %{z}<extra></extra>\"}],                        {\"template\":{\"data\":{\"histogram2dcontour\":[{\"type\":\"histogram2dcontour\",\"colorbar\":{\"outlinewidth\":0,\"ticks\":\"\"},\"colorscale\":[[0.0,\"#0d0887\"],[0.1111111111111111,\"#46039f\"],[0.2222222222222222,\"#7201a8\"],[0.3333333333333333,\"#9c179e\"],[0.4444444444444444,\"#bd3786\"],[0.5555555555555556,\"#d8576b\"],[0.6666666666666666,\"#ed7953\"],[0.7777777777777778,\"#fb9f3a\"],[0.8888888888888888,\"#fdca26\"],[1.0,\"#f0f921\"]]}],\"choropleth\":[{\"type\":\"choropleth\",\"colorbar\":{\"outlinewidth\":0,\"ticks\":\"\"}}],\"histogram2d\":[{\"type\":\"histogram2d\",\"colorbar\":{\"outlinewidth\":0,\"ticks\":\"\"},\"colorscale\":[[0.0,\"#0d0887\"],[0.1111111111111111,\"#46039f\"],[0.2222222222222222,\"#7201a8\"],[0.3333333333333333,\"#9c179e\"],[0.4444444444444444,\"#bd3786\"],[0.5555555555555556,\"#d8576b\"],[0.6666666666666666,\"#ed7953\"],[0.7777777777777778,\"#fb9f3a\"],[0.8888888888888888,\"#fdca26\"],[1.0,\"#f0f921\"]]}],\"heatmap\":[{\"type\":\"heatmap\",\"colorbar\":{\"outlinewidth\":0,\"ticks\":\"\"},\"colorscale\":[[0.0,\"#0d0887\"],[0.1111111111111111,\"#46039f\"],[0.2222222222222222,\"#7201a8\"],[0.3333333333333333,\"#9c179e\"],[0.4444444444444444,\"#bd3786\"],[0.5555555555555556,\"#d8576b\"],[0.6666666666666666,\"#ed7953\"],[0.7777777777777778,\"#fb9f3a\"],[0.8888888888888888,\"#fdca26\"],[1.0,\"#f0f921\"]]}],\"heatmapgl\":[{\"type\":\"heatmapgl\",\"colorbar\":{\"outlinewidth\":0,\"ticks\":\"\"},\"colorscale\":[[0.0,\"#0d0887\"],[0.1111111111111111,\"#46039f\"],[0.2222222222222222,\"#7201a8\"],[0.3333333333333333,\"#9c179e\"],[0.4444444444444444,\"#bd3786\"],[0.5555555555555556,\"#d8576b\"],[0.6666666666666666,\"#ed7953\"],[0.7777777777777778,\"#fb9f3a\"],[0.8888888888888888,\"#fdca26\"],[1.0,\"#f0f921\"]]}],\"contourcarpet\":[{\"type\":\"contourcarpet\",\"colorbar\":{\"outlinewidth\":0,\"ticks\":\"\"}}],\"contour\":[{\"type\":\"contour\",\"colorbar\":{\"outlinewidth\":0,\"ticks\":\"\"},\"colorscale\":[[0.0,\"#0d0887\"],[0.1111111111111111,\"#46039f\"],[0.2222222222222222,\"#7201a8\"],[0.3333333333333333,\"#9c179e\"],[0.4444444444444444,\"#bd3786\"],[0.5555555555555556,\"#d8576b\"],[0.6666666666666666,\"#ed7953\"],[0.7777777777777778,\"#fb9f3a\"],[0.8888888888888888,\"#fdca26\"],[1.0,\"#f0f921\"]]}],\"surface\":[{\"type\":\"surface\",\"colorbar\":{\"outlinewidth\":0,\"ticks\":\"\"},\"colorscale\":[[0.0,\"#0d0887\"],[0.1111111111111111,\"#46039f\"],[0.2222222222222222,\"#7201a8\"],[0.3333333333333333,\"#9c179e\"],[0.4444444444444444,\"#bd3786\"],[0.5555555555555556,\"#d8576b\"],[0.6666666666666666,\"#ed7953\"],[0.7777777777777778,\"#fb9f3a\"],[0.8888888888888888,\"#fdca26\"],[1.0,\"#f0f921\"]]}],\"mesh3d\":[{\"type\":\"mesh3d\",\"colorbar\":{\"outlinewidth\":0,\"ticks\":\"\"}}],\"scatter\":[{\"fillpattern\":{\"fillmode\":\"overlay\",\"size\":10,\"solidity\":0.2},\"type\":\"scatter\"}],\"parcoords\":[{\"type\":\"parcoords\",\"line\":{\"colorbar\":{\"outlinewidth\":0,\"ticks\":\"\"}}}],\"scatterpolargl\":[{\"type\":\"scatterpolargl\",\"marker\":{\"colorbar\":{\"outlinewidth\":0,\"ticks\":\"\"}}}],\"bar\":[{\"error_x\":{\"color\":\"#2a3f5f\"},\"error_y\":{\"color\":\"#2a3f5f\"},\"marker\":{\"line\":{\"color\":\"#E5ECF6\",\"width\":0.5},\"pattern\":{\"fillmode\":\"overlay\",\"size\":10,\"solidity\":0.2}},\"type\":\"bar\"}],\"scattergeo\":[{\"type\":\"scattergeo\",\"marker\":{\"colorbar\":{\"outlinewidth\":0,\"ticks\":\"\"}}}],\"scatterpolar\":[{\"type\":\"scatterpolar\",\"marker\":{\"colorbar\":{\"outlinewidth\":0,\"ticks\":\"\"}}}],\"histogram\":[{\"marker\":{\"pattern\":{\"fillmode\":\"overlay\",\"size\":10,\"solidity\":0.2}},\"type\":\"histogram\"}],\"scattergl\":[{\"type\":\"scattergl\",\"marker\":{\"colorbar\":{\"outlinewidth\":0,\"ticks\":\"\"}}}],\"scatter3d\":[{\"type\":\"scatter3d\",\"line\":{\"colorbar\":{\"outlinewidth\":0,\"ticks\":\"\"}},\"marker\":{\"colorbar\":{\"outlinewidth\":0,\"ticks\":\"\"}}}],\"scattermapbox\":[{\"type\":\"scattermapbox\",\"marker\":{\"colorbar\":{\"outlinewidth\":0,\"ticks\":\"\"}}}],\"scatterternary\":[{\"type\":\"scatterternary\",\"marker\":{\"colorbar\":{\"outlinewidth\":0,\"ticks\":\"\"}}}],\"scattercarpet\":[{\"type\":\"scattercarpet\",\"marker\":{\"colorbar\":{\"outlinewidth\":0,\"ticks\":\"\"}}}],\"carpet\":[{\"aaxis\":{\"endlinecolor\":\"#2a3f5f\",\"gridcolor\":\"white\",\"linecolor\":\"white\",\"minorgridcolor\":\"white\",\"startlinecolor\":\"#2a3f5f\"},\"baxis\":{\"endlinecolor\":\"#2a3f5f\",\"gridcolor\":\"white\",\"linecolor\":\"white\",\"minorgridcolor\":\"white\",\"startlinecolor\":\"#2a3f5f\"},\"type\":\"carpet\"}],\"table\":[{\"cells\":{\"fill\":{\"color\":\"#EBF0F8\"},\"line\":{\"color\":\"white\"}},\"header\":{\"fill\":{\"color\":\"#C8D4E3\"},\"line\":{\"color\":\"white\"}},\"type\":\"table\"}],\"barpolar\":[{\"marker\":{\"line\":{\"color\":\"#E5ECF6\",\"width\":0.5},\"pattern\":{\"fillmode\":\"overlay\",\"size\":10,\"solidity\":0.2}},\"type\":\"barpolar\"}],\"pie\":[{\"automargin\":true,\"type\":\"pie\"}]},\"layout\":{\"autotypenumbers\":\"strict\",\"colorway\":[\"#636efa\",\"#EF553B\",\"#00cc96\",\"#ab63fa\",\"#FFA15A\",\"#19d3f3\",\"#FF6692\",\"#B6E880\",\"#FF97FF\",\"#FECB52\"],\"font\":{\"color\":\"#2a3f5f\"},\"hovermode\":\"closest\",\"hoverlabel\":{\"align\":\"left\"},\"paper_bgcolor\":\"white\",\"plot_bgcolor\":\"#E5ECF6\",\"polar\":{\"bgcolor\":\"#E5ECF6\",\"angularaxis\":{\"gridcolor\":\"white\",\"linecolor\":\"white\",\"ticks\":\"\"},\"radialaxis\":{\"gridcolor\":\"white\",\"linecolor\":\"white\",\"ticks\":\"\"}},\"ternary\":{\"bgcolor\":\"#E5ECF6\",\"aaxis\":{\"gridcolor\":\"white\",\"linecolor\":\"white\",\"ticks\":\"\"},\"baxis\":{\"gridcolor\":\"white\",\"linecolor\":\"white\",\"ticks\":\"\"},\"caxis\":{\"gridcolor\":\"white\",\"linecolor\":\"white\",\"ticks\":\"\"}},\"coloraxis\":{\"colorbar\":{\"outlinewidth\":0,\"ticks\":\"\"}},\"colorscale\":{\"sequential\":[[0.0,\"#0d0887\"],[0.1111111111111111,\"#46039f\"],[0.2222222222222222,\"#7201a8\"],[0.3333333333333333,\"#9c179e\"],[0.4444444444444444,\"#bd3786\"],[0.5555555555555556,\"#d8576b\"],[0.6666666666666666,\"#ed7953\"],[0.7777777777777778,\"#fb9f3a\"],[0.8888888888888888,\"#fdca26\"],[1.0,\"#f0f921\"]],\"sequentialminus\":[[0.0,\"#0d0887\"],[0.1111111111111111,\"#46039f\"],[0.2222222222222222,\"#7201a8\"],[0.3333333333333333,\"#9c179e\"],[0.4444444444444444,\"#bd3786\"],[0.5555555555555556,\"#d8576b\"],[0.6666666666666666,\"#ed7953\"],[0.7777777777777778,\"#fb9f3a\"],[0.8888888888888888,\"#fdca26\"],[1.0,\"#f0f921\"]],\"diverging\":[[0,\"#8e0152\"],[0.1,\"#c51b7d\"],[0.2,\"#de77ae\"],[0.3,\"#f1b6da\"],[0.4,\"#fde0ef\"],[0.5,\"#f7f7f7\"],[0.6,\"#e6f5d0\"],[0.7,\"#b8e186\"],[0.8,\"#7fbc41\"],[0.9,\"#4d9221\"],[1,\"#276419\"]]},\"xaxis\":{\"gridcolor\":\"white\",\"linecolor\":\"white\",\"ticks\":\"\",\"title\":{\"standoff\":15},\"zerolinecolor\":\"white\",\"automargin\":true,\"zerolinewidth\":2},\"yaxis\":{\"gridcolor\":\"white\",\"linecolor\":\"white\",\"ticks\":\"\",\"title\":{\"standoff\":15},\"zerolinecolor\":\"white\",\"automargin\":true,\"zerolinewidth\":2},\"scene\":{\"xaxis\":{\"backgroundcolor\":\"#E5ECF6\",\"gridcolor\":\"white\",\"linecolor\":\"white\",\"showbackground\":true,\"ticks\":\"\",\"zerolinecolor\":\"white\",\"gridwidth\":2},\"yaxis\":{\"backgroundcolor\":\"#E5ECF6\",\"gridcolor\":\"white\",\"linecolor\":\"white\",\"showbackground\":true,\"ticks\":\"\",\"zerolinecolor\":\"white\",\"gridwidth\":2},\"zaxis\":{\"backgroundcolor\":\"#E5ECF6\",\"gridcolor\":\"white\",\"linecolor\":\"white\",\"showbackground\":true,\"ticks\":\"\",\"zerolinecolor\":\"white\",\"gridwidth\":2}},\"shapedefaults\":{\"line\":{\"color\":\"#2a3f5f\"}},\"annotationdefaults\":{\"arrowcolor\":\"#2a3f5f\",\"arrowhead\":0,\"arrowwidth\":1},\"geo\":{\"bgcolor\":\"white\",\"landcolor\":\"#E5ECF6\",\"subunitcolor\":\"white\",\"showland\":true,\"showlakes\":true,\"lakecolor\":\"white\"},\"title\":{\"x\":0.05},\"mapbox\":{\"style\":\"light\"}}},\"xaxis\":{\"anchor\":\"y\",\"domain\":[0.0,1.0],\"scaleanchor\":\"y\",\"constrain\":\"domain\",\"title\":{\"text\":\"Multi-Agent HJ Flocking Control\"}},\"yaxis\":{\"anchor\":\"x\",\"domain\":[0.0,1.0],\"autorange\":\"reversed\",\"constrain\":\"domain\",\"title\":{\"text\":\"Multi-Agent HJ Naive\"}},\"coloraxis\":{\"colorscale\":[[0.0,\"#0d0887\"],[0.1111111111111111,\"#46039f\"],[0.2222222222222222,\"#7201a8\"],[0.3333333333333333,\"#9c179e\"],[0.4444444444444444,\"#bd3786\"],[0.5555555555555556,\"#d8576b\"],[0.6666666666666666,\"#ed7953\"],[0.7777777777777778,\"#fb9f3a\"],[0.8888888888888888,\"#fdca26\"],[1.0,\"#f0f921\"]]},\"margin\":{\"t\":60},\"title\":{\"text\":\"Missions with collisions\"}},                        {\"responsive\": true}                    ).then(function(){\n",
       "                            \n",
       "var gd = document.getElementById('6206017c-8a9e-4af4-b7d7-f6771e9eb49d');\n",
       "var x = new MutationObserver(function (mutations, observer) {{\n",
       "        var display = window.getComputedStyle(gd).display;\n",
       "        if (!display || display === 'none') {{\n",
       "            console.log([gd, 'removed!']);\n",
       "            Plotly.purge(gd);\n",
       "            observer.disconnect();\n",
       "        }}\n",
       "}});\n",
       "\n",
       "// Listen for the removal of the full notebook cells\n",
       "var notebookContainer = gd.closest('#notebook-container');\n",
       "if (notebookContainer) {{\n",
       "    x.observe(notebookContainer, {childList: true});\n",
       "}}\n",
       "\n",
       "// Listen for the clearing of the current output cell\n",
       "var outputEl = gd.closest('.output');\n",
       "if (outputEl) {{\n",
       "    x.observe(outputEl, {childList: true});\n",
       "}}\n",
       "\n",
       "                        })                };                });            </script>        </div>"
      ]
     },
     "metadata": {},
     "output_type": "display_data"
    }
   ],
   "source": [
    "fig_conf_flocking_coll= plot_confusion_matrix(metrics_hj_naive[\"Number_of_collision\"]>0, \n",
    "                        metrics_hj_flocking[\"Number_of_collision\"]>0, 'Multi-Agent HJ Naive', \n",
    "                        'Multi-Agent HJ Flocking Control', title_name=\"Missions with collisions\")"
   ]
  },
  {
   "attachments": {},
   "cell_type": "markdown",
   "metadata": {},
   "source": [
    "+ Missions with communication losses"
   ]
  },
  {
   "cell_type": "code",
   "execution_count": 23,
   "metadata": {},
   "outputs": [
    {
     "data": {
      "application/vnd.plotly.v1+json": {
       "config": {
        "plotlyServerURL": "https://plot.ly"
       },
       "data": [
        {
         "coloraxis": "coloraxis",
         "hovertemplate": "Multi-Agent HJ Flocking Control: %{x}<br>Multi-Agent HJ Naive: %{y}<br>color: %{z}<extra></extra>",
         "name": "0",
         "texttemplate": "%{z}",
         "type": "heatmap",
         "x": [
          false,
          true
         ],
         "xaxis": "x",
         "y": [
          false,
          true
         ],
         "yaxis": "y",
         "z": [
          [
           286,
           0
          ],
          [
           211,
           51
          ]
         ]
        }
       ],
       "layout": {
        "coloraxis": {
         "colorscale": [
          [
           0,
           "#0d0887"
          ],
          [
           0.1111111111111111,
           "#46039f"
          ],
          [
           0.2222222222222222,
           "#7201a8"
          ],
          [
           0.3333333333333333,
           "#9c179e"
          ],
          [
           0.4444444444444444,
           "#bd3786"
          ],
          [
           0.5555555555555556,
           "#d8576b"
          ],
          [
           0.6666666666666666,
           "#ed7953"
          ],
          [
           0.7777777777777778,
           "#fb9f3a"
          ],
          [
           0.8888888888888888,
           "#fdca26"
          ],
          [
           1,
           "#f0f921"
          ]
         ]
        },
        "margin": {
         "t": 60
        },
        "template": {
         "data": {
          "bar": [
           {
            "error_x": {
             "color": "#2a3f5f"
            },
            "error_y": {
             "color": "#2a3f5f"
            },
            "marker": {
             "line": {
              "color": "#E5ECF6",
              "width": 0.5
             },
             "pattern": {
              "fillmode": "overlay",
              "size": 10,
              "solidity": 0.2
             }
            },
            "type": "bar"
           }
          ],
          "barpolar": [
           {
            "marker": {
             "line": {
              "color": "#E5ECF6",
              "width": 0.5
             },
             "pattern": {
              "fillmode": "overlay",
              "size": 10,
              "solidity": 0.2
             }
            },
            "type": "barpolar"
           }
          ],
          "carpet": [
           {
            "aaxis": {
             "endlinecolor": "#2a3f5f",
             "gridcolor": "white",
             "linecolor": "white",
             "minorgridcolor": "white",
             "startlinecolor": "#2a3f5f"
            },
            "baxis": {
             "endlinecolor": "#2a3f5f",
             "gridcolor": "white",
             "linecolor": "white",
             "minorgridcolor": "white",
             "startlinecolor": "#2a3f5f"
            },
            "type": "carpet"
           }
          ],
          "choropleth": [
           {
            "colorbar": {
             "outlinewidth": 0,
             "ticks": ""
            },
            "type": "choropleth"
           }
          ],
          "contour": [
           {
            "colorbar": {
             "outlinewidth": 0,
             "ticks": ""
            },
            "colorscale": [
             [
              0,
              "#0d0887"
             ],
             [
              0.1111111111111111,
              "#46039f"
             ],
             [
              0.2222222222222222,
              "#7201a8"
             ],
             [
              0.3333333333333333,
              "#9c179e"
             ],
             [
              0.4444444444444444,
              "#bd3786"
             ],
             [
              0.5555555555555556,
              "#d8576b"
             ],
             [
              0.6666666666666666,
              "#ed7953"
             ],
             [
              0.7777777777777778,
              "#fb9f3a"
             ],
             [
              0.8888888888888888,
              "#fdca26"
             ],
             [
              1,
              "#f0f921"
             ]
            ],
            "type": "contour"
           }
          ],
          "contourcarpet": [
           {
            "colorbar": {
             "outlinewidth": 0,
             "ticks": ""
            },
            "type": "contourcarpet"
           }
          ],
          "heatmap": [
           {
            "colorbar": {
             "outlinewidth": 0,
             "ticks": ""
            },
            "colorscale": [
             [
              0,
              "#0d0887"
             ],
             [
              0.1111111111111111,
              "#46039f"
             ],
             [
              0.2222222222222222,
              "#7201a8"
             ],
             [
              0.3333333333333333,
              "#9c179e"
             ],
             [
              0.4444444444444444,
              "#bd3786"
             ],
             [
              0.5555555555555556,
              "#d8576b"
             ],
             [
              0.6666666666666666,
              "#ed7953"
             ],
             [
              0.7777777777777778,
              "#fb9f3a"
             ],
             [
              0.8888888888888888,
              "#fdca26"
             ],
             [
              1,
              "#f0f921"
             ]
            ],
            "type": "heatmap"
           }
          ],
          "heatmapgl": [
           {
            "colorbar": {
             "outlinewidth": 0,
             "ticks": ""
            },
            "colorscale": [
             [
              0,
              "#0d0887"
             ],
             [
              0.1111111111111111,
              "#46039f"
             ],
             [
              0.2222222222222222,
              "#7201a8"
             ],
             [
              0.3333333333333333,
              "#9c179e"
             ],
             [
              0.4444444444444444,
              "#bd3786"
             ],
             [
              0.5555555555555556,
              "#d8576b"
             ],
             [
              0.6666666666666666,
              "#ed7953"
             ],
             [
              0.7777777777777778,
              "#fb9f3a"
             ],
             [
              0.8888888888888888,
              "#fdca26"
             ],
             [
              1,
              "#f0f921"
             ]
            ],
            "type": "heatmapgl"
           }
          ],
          "histogram": [
           {
            "marker": {
             "pattern": {
              "fillmode": "overlay",
              "size": 10,
              "solidity": 0.2
             }
            },
            "type": "histogram"
           }
          ],
          "histogram2d": [
           {
            "colorbar": {
             "outlinewidth": 0,
             "ticks": ""
            },
            "colorscale": [
             [
              0,
              "#0d0887"
             ],
             [
              0.1111111111111111,
              "#46039f"
             ],
             [
              0.2222222222222222,
              "#7201a8"
             ],
             [
              0.3333333333333333,
              "#9c179e"
             ],
             [
              0.4444444444444444,
              "#bd3786"
             ],
             [
              0.5555555555555556,
              "#d8576b"
             ],
             [
              0.6666666666666666,
              "#ed7953"
             ],
             [
              0.7777777777777778,
              "#fb9f3a"
             ],
             [
              0.8888888888888888,
              "#fdca26"
             ],
             [
              1,
              "#f0f921"
             ]
            ],
            "type": "histogram2d"
           }
          ],
          "histogram2dcontour": [
           {
            "colorbar": {
             "outlinewidth": 0,
             "ticks": ""
            },
            "colorscale": [
             [
              0,
              "#0d0887"
             ],
             [
              0.1111111111111111,
              "#46039f"
             ],
             [
              0.2222222222222222,
              "#7201a8"
             ],
             [
              0.3333333333333333,
              "#9c179e"
             ],
             [
              0.4444444444444444,
              "#bd3786"
             ],
             [
              0.5555555555555556,
              "#d8576b"
             ],
             [
              0.6666666666666666,
              "#ed7953"
             ],
             [
              0.7777777777777778,
              "#fb9f3a"
             ],
             [
              0.8888888888888888,
              "#fdca26"
             ],
             [
              1,
              "#f0f921"
             ]
            ],
            "type": "histogram2dcontour"
           }
          ],
          "mesh3d": [
           {
            "colorbar": {
             "outlinewidth": 0,
             "ticks": ""
            },
            "type": "mesh3d"
           }
          ],
          "parcoords": [
           {
            "line": {
             "colorbar": {
              "outlinewidth": 0,
              "ticks": ""
             }
            },
            "type": "parcoords"
           }
          ],
          "pie": [
           {
            "automargin": true,
            "type": "pie"
           }
          ],
          "scatter": [
           {
            "fillpattern": {
             "fillmode": "overlay",
             "size": 10,
             "solidity": 0.2
            },
            "type": "scatter"
           }
          ],
          "scatter3d": [
           {
            "line": {
             "colorbar": {
              "outlinewidth": 0,
              "ticks": ""
             }
            },
            "marker": {
             "colorbar": {
              "outlinewidth": 0,
              "ticks": ""
             }
            },
            "type": "scatter3d"
           }
          ],
          "scattercarpet": [
           {
            "marker": {
             "colorbar": {
              "outlinewidth": 0,
              "ticks": ""
             }
            },
            "type": "scattercarpet"
           }
          ],
          "scattergeo": [
           {
            "marker": {
             "colorbar": {
              "outlinewidth": 0,
              "ticks": ""
             }
            },
            "type": "scattergeo"
           }
          ],
          "scattergl": [
           {
            "marker": {
             "colorbar": {
              "outlinewidth": 0,
              "ticks": ""
             }
            },
            "type": "scattergl"
           }
          ],
          "scattermapbox": [
           {
            "marker": {
             "colorbar": {
              "outlinewidth": 0,
              "ticks": ""
             }
            },
            "type": "scattermapbox"
           }
          ],
          "scatterpolar": [
           {
            "marker": {
             "colorbar": {
              "outlinewidth": 0,
              "ticks": ""
             }
            },
            "type": "scatterpolar"
           }
          ],
          "scatterpolargl": [
           {
            "marker": {
             "colorbar": {
              "outlinewidth": 0,
              "ticks": ""
             }
            },
            "type": "scatterpolargl"
           }
          ],
          "scatterternary": [
           {
            "marker": {
             "colorbar": {
              "outlinewidth": 0,
              "ticks": ""
             }
            },
            "type": "scatterternary"
           }
          ],
          "surface": [
           {
            "colorbar": {
             "outlinewidth": 0,
             "ticks": ""
            },
            "colorscale": [
             [
              0,
              "#0d0887"
             ],
             [
              0.1111111111111111,
              "#46039f"
             ],
             [
              0.2222222222222222,
              "#7201a8"
             ],
             [
              0.3333333333333333,
              "#9c179e"
             ],
             [
              0.4444444444444444,
              "#bd3786"
             ],
             [
              0.5555555555555556,
              "#d8576b"
             ],
             [
              0.6666666666666666,
              "#ed7953"
             ],
             [
              0.7777777777777778,
              "#fb9f3a"
             ],
             [
              0.8888888888888888,
              "#fdca26"
             ],
             [
              1,
              "#f0f921"
             ]
            ],
            "type": "surface"
           }
          ],
          "table": [
           {
            "cells": {
             "fill": {
              "color": "#EBF0F8"
             },
             "line": {
              "color": "white"
             }
            },
            "header": {
             "fill": {
              "color": "#C8D4E3"
             },
             "line": {
              "color": "white"
             }
            },
            "type": "table"
           }
          ]
         },
         "layout": {
          "annotationdefaults": {
           "arrowcolor": "#2a3f5f",
           "arrowhead": 0,
           "arrowwidth": 1
          },
          "autotypenumbers": "strict",
          "coloraxis": {
           "colorbar": {
            "outlinewidth": 0,
            "ticks": ""
           }
          },
          "colorscale": {
           "diverging": [
            [
             0,
             "#8e0152"
            ],
            [
             0.1,
             "#c51b7d"
            ],
            [
             0.2,
             "#de77ae"
            ],
            [
             0.3,
             "#f1b6da"
            ],
            [
             0.4,
             "#fde0ef"
            ],
            [
             0.5,
             "#f7f7f7"
            ],
            [
             0.6,
             "#e6f5d0"
            ],
            [
             0.7,
             "#b8e186"
            ],
            [
             0.8,
             "#7fbc41"
            ],
            [
             0.9,
             "#4d9221"
            ],
            [
             1,
             "#276419"
            ]
           ],
           "sequential": [
            [
             0,
             "#0d0887"
            ],
            [
             0.1111111111111111,
             "#46039f"
            ],
            [
             0.2222222222222222,
             "#7201a8"
            ],
            [
             0.3333333333333333,
             "#9c179e"
            ],
            [
             0.4444444444444444,
             "#bd3786"
            ],
            [
             0.5555555555555556,
             "#d8576b"
            ],
            [
             0.6666666666666666,
             "#ed7953"
            ],
            [
             0.7777777777777778,
             "#fb9f3a"
            ],
            [
             0.8888888888888888,
             "#fdca26"
            ],
            [
             1,
             "#f0f921"
            ]
           ],
           "sequentialminus": [
            [
             0,
             "#0d0887"
            ],
            [
             0.1111111111111111,
             "#46039f"
            ],
            [
             0.2222222222222222,
             "#7201a8"
            ],
            [
             0.3333333333333333,
             "#9c179e"
            ],
            [
             0.4444444444444444,
             "#bd3786"
            ],
            [
             0.5555555555555556,
             "#d8576b"
            ],
            [
             0.6666666666666666,
             "#ed7953"
            ],
            [
             0.7777777777777778,
             "#fb9f3a"
            ],
            [
             0.8888888888888888,
             "#fdca26"
            ],
            [
             1,
             "#f0f921"
            ]
           ]
          },
          "colorway": [
           "#636efa",
           "#EF553B",
           "#00cc96",
           "#ab63fa",
           "#FFA15A",
           "#19d3f3",
           "#FF6692",
           "#B6E880",
           "#FF97FF",
           "#FECB52"
          ],
          "font": {
           "color": "#2a3f5f"
          },
          "geo": {
           "bgcolor": "white",
           "lakecolor": "white",
           "landcolor": "#E5ECF6",
           "showlakes": true,
           "showland": true,
           "subunitcolor": "white"
          },
          "hoverlabel": {
           "align": "left"
          },
          "hovermode": "closest",
          "mapbox": {
           "style": "light"
          },
          "paper_bgcolor": "white",
          "plot_bgcolor": "#E5ECF6",
          "polar": {
           "angularaxis": {
            "gridcolor": "white",
            "linecolor": "white",
            "ticks": ""
           },
           "bgcolor": "#E5ECF6",
           "radialaxis": {
            "gridcolor": "white",
            "linecolor": "white",
            "ticks": ""
           }
          },
          "scene": {
           "xaxis": {
            "backgroundcolor": "#E5ECF6",
            "gridcolor": "white",
            "gridwidth": 2,
            "linecolor": "white",
            "showbackground": true,
            "ticks": "",
            "zerolinecolor": "white"
           },
           "yaxis": {
            "backgroundcolor": "#E5ECF6",
            "gridcolor": "white",
            "gridwidth": 2,
            "linecolor": "white",
            "showbackground": true,
            "ticks": "",
            "zerolinecolor": "white"
           },
           "zaxis": {
            "backgroundcolor": "#E5ECF6",
            "gridcolor": "white",
            "gridwidth": 2,
            "linecolor": "white",
            "showbackground": true,
            "ticks": "",
            "zerolinecolor": "white"
           }
          },
          "shapedefaults": {
           "line": {
            "color": "#2a3f5f"
           }
          },
          "ternary": {
           "aaxis": {
            "gridcolor": "white",
            "linecolor": "white",
            "ticks": ""
           },
           "baxis": {
            "gridcolor": "white",
            "linecolor": "white",
            "ticks": ""
           },
           "bgcolor": "#E5ECF6",
           "caxis": {
            "gridcolor": "white",
            "linecolor": "white",
            "ticks": ""
           }
          },
          "title": {
           "x": 0.05
          },
          "xaxis": {
           "automargin": true,
           "gridcolor": "white",
           "linecolor": "white",
           "ticks": "",
           "title": {
            "standoff": 15
           },
           "zerolinecolor": "white",
           "zerolinewidth": 2
          },
          "yaxis": {
           "automargin": true,
           "gridcolor": "white",
           "linecolor": "white",
           "ticks": "",
           "title": {
            "standoff": 15
           },
           "zerolinecolor": "white",
           "zerolinewidth": 2
          }
         }
        },
        "title": {
         "text": "Missions with communication losses"
        },
        "xaxis": {
         "anchor": "y",
         "constrain": "domain",
         "domain": [
          0,
          1
         ],
         "scaleanchor": "y",
         "title": {
          "text": "Multi-Agent HJ Flocking Control"
         }
        },
        "yaxis": {
         "anchor": "x",
         "autorange": "reversed",
         "constrain": "domain",
         "domain": [
          0,
          1
         ],
         "title": {
          "text": "Multi-Agent HJ Naive"
         }
        }
       }
      },
      "text/html": [
       "<div>                            <div id=\"aa7ecfa5-afef-4c80-98c4-ac32bee32b4a\" class=\"plotly-graph-div\" style=\"height:525px; width:100%;\"></div>            <script type=\"text/javascript\">                require([\"plotly\"], function(Plotly) {                    window.PLOTLYENV=window.PLOTLYENV || {};                                    if (document.getElementById(\"aa7ecfa5-afef-4c80-98c4-ac32bee32b4a\")) {                    Plotly.newPlot(                        \"aa7ecfa5-afef-4c80-98c4-ac32bee32b4a\",                        [{\"coloraxis\":\"coloraxis\",\"name\":\"0\",\"texttemplate\":\"%{z}\",\"x\":[false,true],\"y\":[false,true],\"z\":[[286,0],[211,51]],\"type\":\"heatmap\",\"xaxis\":\"x\",\"yaxis\":\"y\",\"hovertemplate\":\"Multi-Agent HJ Flocking Control: %{x}<br>Multi-Agent HJ Naive: %{y}<br>color: %{z}<extra></extra>\"}],                        {\"template\":{\"data\":{\"histogram2dcontour\":[{\"type\":\"histogram2dcontour\",\"colorbar\":{\"outlinewidth\":0,\"ticks\":\"\"},\"colorscale\":[[0.0,\"#0d0887\"],[0.1111111111111111,\"#46039f\"],[0.2222222222222222,\"#7201a8\"],[0.3333333333333333,\"#9c179e\"],[0.4444444444444444,\"#bd3786\"],[0.5555555555555556,\"#d8576b\"],[0.6666666666666666,\"#ed7953\"],[0.7777777777777778,\"#fb9f3a\"],[0.8888888888888888,\"#fdca26\"],[1.0,\"#f0f921\"]]}],\"choropleth\":[{\"type\":\"choropleth\",\"colorbar\":{\"outlinewidth\":0,\"ticks\":\"\"}}],\"histogram2d\":[{\"type\":\"histogram2d\",\"colorbar\":{\"outlinewidth\":0,\"ticks\":\"\"},\"colorscale\":[[0.0,\"#0d0887\"],[0.1111111111111111,\"#46039f\"],[0.2222222222222222,\"#7201a8\"],[0.3333333333333333,\"#9c179e\"],[0.4444444444444444,\"#bd3786\"],[0.5555555555555556,\"#d8576b\"],[0.6666666666666666,\"#ed7953\"],[0.7777777777777778,\"#fb9f3a\"],[0.8888888888888888,\"#fdca26\"],[1.0,\"#f0f921\"]]}],\"heatmap\":[{\"type\":\"heatmap\",\"colorbar\":{\"outlinewidth\":0,\"ticks\":\"\"},\"colorscale\":[[0.0,\"#0d0887\"],[0.1111111111111111,\"#46039f\"],[0.2222222222222222,\"#7201a8\"],[0.3333333333333333,\"#9c179e\"],[0.4444444444444444,\"#bd3786\"],[0.5555555555555556,\"#d8576b\"],[0.6666666666666666,\"#ed7953\"],[0.7777777777777778,\"#fb9f3a\"],[0.8888888888888888,\"#fdca26\"],[1.0,\"#f0f921\"]]}],\"heatmapgl\":[{\"type\":\"heatmapgl\",\"colorbar\":{\"outlinewidth\":0,\"ticks\":\"\"},\"colorscale\":[[0.0,\"#0d0887\"],[0.1111111111111111,\"#46039f\"],[0.2222222222222222,\"#7201a8\"],[0.3333333333333333,\"#9c179e\"],[0.4444444444444444,\"#bd3786\"],[0.5555555555555556,\"#d8576b\"],[0.6666666666666666,\"#ed7953\"],[0.7777777777777778,\"#fb9f3a\"],[0.8888888888888888,\"#fdca26\"],[1.0,\"#f0f921\"]]}],\"contourcarpet\":[{\"type\":\"contourcarpet\",\"colorbar\":{\"outlinewidth\":0,\"ticks\":\"\"}}],\"contour\":[{\"type\":\"contour\",\"colorbar\":{\"outlinewidth\":0,\"ticks\":\"\"},\"colorscale\":[[0.0,\"#0d0887\"],[0.1111111111111111,\"#46039f\"],[0.2222222222222222,\"#7201a8\"],[0.3333333333333333,\"#9c179e\"],[0.4444444444444444,\"#bd3786\"],[0.5555555555555556,\"#d8576b\"],[0.6666666666666666,\"#ed7953\"],[0.7777777777777778,\"#fb9f3a\"],[0.8888888888888888,\"#fdca26\"],[1.0,\"#f0f921\"]]}],\"surface\":[{\"type\":\"surface\",\"colorbar\":{\"outlinewidth\":0,\"ticks\":\"\"},\"colorscale\":[[0.0,\"#0d0887\"],[0.1111111111111111,\"#46039f\"],[0.2222222222222222,\"#7201a8\"],[0.3333333333333333,\"#9c179e\"],[0.4444444444444444,\"#bd3786\"],[0.5555555555555556,\"#d8576b\"],[0.6666666666666666,\"#ed7953\"],[0.7777777777777778,\"#fb9f3a\"],[0.8888888888888888,\"#fdca26\"],[1.0,\"#f0f921\"]]}],\"mesh3d\":[{\"type\":\"mesh3d\",\"colorbar\":{\"outlinewidth\":0,\"ticks\":\"\"}}],\"scatter\":[{\"fillpattern\":{\"fillmode\":\"overlay\",\"size\":10,\"solidity\":0.2},\"type\":\"scatter\"}],\"parcoords\":[{\"type\":\"parcoords\",\"line\":{\"colorbar\":{\"outlinewidth\":0,\"ticks\":\"\"}}}],\"scatterpolargl\":[{\"type\":\"scatterpolargl\",\"marker\":{\"colorbar\":{\"outlinewidth\":0,\"ticks\":\"\"}}}],\"bar\":[{\"error_x\":{\"color\":\"#2a3f5f\"},\"error_y\":{\"color\":\"#2a3f5f\"},\"marker\":{\"line\":{\"color\":\"#E5ECF6\",\"width\":0.5},\"pattern\":{\"fillmode\":\"overlay\",\"size\":10,\"solidity\":0.2}},\"type\":\"bar\"}],\"scattergeo\":[{\"type\":\"scattergeo\",\"marker\":{\"colorbar\":{\"outlinewidth\":0,\"ticks\":\"\"}}}],\"scatterpolar\":[{\"type\":\"scatterpolar\",\"marker\":{\"colorbar\":{\"outlinewidth\":0,\"ticks\":\"\"}}}],\"histogram\":[{\"marker\":{\"pattern\":{\"fillmode\":\"overlay\",\"size\":10,\"solidity\":0.2}},\"type\":\"histogram\"}],\"scattergl\":[{\"type\":\"scattergl\",\"marker\":{\"colorbar\":{\"outlinewidth\":0,\"ticks\":\"\"}}}],\"scatter3d\":[{\"type\":\"scatter3d\",\"line\":{\"colorbar\":{\"outlinewidth\":0,\"ticks\":\"\"}},\"marker\":{\"colorbar\":{\"outlinewidth\":0,\"ticks\":\"\"}}}],\"scattermapbox\":[{\"type\":\"scattermapbox\",\"marker\":{\"colorbar\":{\"outlinewidth\":0,\"ticks\":\"\"}}}],\"scatterternary\":[{\"type\":\"scatterternary\",\"marker\":{\"colorbar\":{\"outlinewidth\":0,\"ticks\":\"\"}}}],\"scattercarpet\":[{\"type\":\"scattercarpet\",\"marker\":{\"colorbar\":{\"outlinewidth\":0,\"ticks\":\"\"}}}],\"carpet\":[{\"aaxis\":{\"endlinecolor\":\"#2a3f5f\",\"gridcolor\":\"white\",\"linecolor\":\"white\",\"minorgridcolor\":\"white\",\"startlinecolor\":\"#2a3f5f\"},\"baxis\":{\"endlinecolor\":\"#2a3f5f\",\"gridcolor\":\"white\",\"linecolor\":\"white\",\"minorgridcolor\":\"white\",\"startlinecolor\":\"#2a3f5f\"},\"type\":\"carpet\"}],\"table\":[{\"cells\":{\"fill\":{\"color\":\"#EBF0F8\"},\"line\":{\"color\":\"white\"}},\"header\":{\"fill\":{\"color\":\"#C8D4E3\"},\"line\":{\"color\":\"white\"}},\"type\":\"table\"}],\"barpolar\":[{\"marker\":{\"line\":{\"color\":\"#E5ECF6\",\"width\":0.5},\"pattern\":{\"fillmode\":\"overlay\",\"size\":10,\"solidity\":0.2}},\"type\":\"barpolar\"}],\"pie\":[{\"automargin\":true,\"type\":\"pie\"}]},\"layout\":{\"autotypenumbers\":\"strict\",\"colorway\":[\"#636efa\",\"#EF553B\",\"#00cc96\",\"#ab63fa\",\"#FFA15A\",\"#19d3f3\",\"#FF6692\",\"#B6E880\",\"#FF97FF\",\"#FECB52\"],\"font\":{\"color\":\"#2a3f5f\"},\"hovermode\":\"closest\",\"hoverlabel\":{\"align\":\"left\"},\"paper_bgcolor\":\"white\",\"plot_bgcolor\":\"#E5ECF6\",\"polar\":{\"bgcolor\":\"#E5ECF6\",\"angularaxis\":{\"gridcolor\":\"white\",\"linecolor\":\"white\",\"ticks\":\"\"},\"radialaxis\":{\"gridcolor\":\"white\",\"linecolor\":\"white\",\"ticks\":\"\"}},\"ternary\":{\"bgcolor\":\"#E5ECF6\",\"aaxis\":{\"gridcolor\":\"white\",\"linecolor\":\"white\",\"ticks\":\"\"},\"baxis\":{\"gridcolor\":\"white\",\"linecolor\":\"white\",\"ticks\":\"\"},\"caxis\":{\"gridcolor\":\"white\",\"linecolor\":\"white\",\"ticks\":\"\"}},\"coloraxis\":{\"colorbar\":{\"outlinewidth\":0,\"ticks\":\"\"}},\"colorscale\":{\"sequential\":[[0.0,\"#0d0887\"],[0.1111111111111111,\"#46039f\"],[0.2222222222222222,\"#7201a8\"],[0.3333333333333333,\"#9c179e\"],[0.4444444444444444,\"#bd3786\"],[0.5555555555555556,\"#d8576b\"],[0.6666666666666666,\"#ed7953\"],[0.7777777777777778,\"#fb9f3a\"],[0.8888888888888888,\"#fdca26\"],[1.0,\"#f0f921\"]],\"sequentialminus\":[[0.0,\"#0d0887\"],[0.1111111111111111,\"#46039f\"],[0.2222222222222222,\"#7201a8\"],[0.3333333333333333,\"#9c179e\"],[0.4444444444444444,\"#bd3786\"],[0.5555555555555556,\"#d8576b\"],[0.6666666666666666,\"#ed7953\"],[0.7777777777777778,\"#fb9f3a\"],[0.8888888888888888,\"#fdca26\"],[1.0,\"#f0f921\"]],\"diverging\":[[0,\"#8e0152\"],[0.1,\"#c51b7d\"],[0.2,\"#de77ae\"],[0.3,\"#f1b6da\"],[0.4,\"#fde0ef\"],[0.5,\"#f7f7f7\"],[0.6,\"#e6f5d0\"],[0.7,\"#b8e186\"],[0.8,\"#7fbc41\"],[0.9,\"#4d9221\"],[1,\"#276419\"]]},\"xaxis\":{\"gridcolor\":\"white\",\"linecolor\":\"white\",\"ticks\":\"\",\"title\":{\"standoff\":15},\"zerolinecolor\":\"white\",\"automargin\":true,\"zerolinewidth\":2},\"yaxis\":{\"gridcolor\":\"white\",\"linecolor\":\"white\",\"ticks\":\"\",\"title\":{\"standoff\":15},\"zerolinecolor\":\"white\",\"automargin\":true,\"zerolinewidth\":2},\"scene\":{\"xaxis\":{\"backgroundcolor\":\"#E5ECF6\",\"gridcolor\":\"white\",\"linecolor\":\"white\",\"showbackground\":true,\"ticks\":\"\",\"zerolinecolor\":\"white\",\"gridwidth\":2},\"yaxis\":{\"backgroundcolor\":\"#E5ECF6\",\"gridcolor\":\"white\",\"linecolor\":\"white\",\"showbackground\":true,\"ticks\":\"\",\"zerolinecolor\":\"white\",\"gridwidth\":2},\"zaxis\":{\"backgroundcolor\":\"#E5ECF6\",\"gridcolor\":\"white\",\"linecolor\":\"white\",\"showbackground\":true,\"ticks\":\"\",\"zerolinecolor\":\"white\",\"gridwidth\":2}},\"shapedefaults\":{\"line\":{\"color\":\"#2a3f5f\"}},\"annotationdefaults\":{\"arrowcolor\":\"#2a3f5f\",\"arrowhead\":0,\"arrowwidth\":1},\"geo\":{\"bgcolor\":\"white\",\"landcolor\":\"#E5ECF6\",\"subunitcolor\":\"white\",\"showland\":true,\"showlakes\":true,\"lakecolor\":\"white\"},\"title\":{\"x\":0.05},\"mapbox\":{\"style\":\"light\"}}},\"xaxis\":{\"anchor\":\"y\",\"domain\":[0.0,1.0],\"scaleanchor\":\"y\",\"constrain\":\"domain\",\"title\":{\"text\":\"Multi-Agent HJ Flocking Control\"}},\"yaxis\":{\"anchor\":\"x\",\"domain\":[0.0,1.0],\"autorange\":\"reversed\",\"constrain\":\"domain\",\"title\":{\"text\":\"Multi-Agent HJ Naive\"}},\"coloraxis\":{\"colorscale\":[[0.0,\"#0d0887\"],[0.1111111111111111,\"#46039f\"],[0.2222222222222222,\"#7201a8\"],[0.3333333333333333,\"#9c179e\"],[0.4444444444444444,\"#bd3786\"],[0.5555555555555556,\"#d8576b\"],[0.6666666666666666,\"#ed7953\"],[0.7777777777777778,\"#fb9f3a\"],[0.8888888888888888,\"#fdca26\"],[1.0,\"#f0f921\"]]},\"margin\":{\"t\":60},\"title\":{\"text\":\"Missions with communication losses\"}},                        {\"responsive\": true}                    ).then(function(){\n",
       "                            \n",
       "var gd = document.getElementById('aa7ecfa5-afef-4c80-98c4-ac32bee32b4a');\n",
       "var x = new MutationObserver(function (mutations, observer) {{\n",
       "        var display = window.getComputedStyle(gd).display;\n",
       "        if (!display || display === 'none') {{\n",
       "            console.log([gd, 'removed!']);\n",
       "            Plotly.purge(gd);\n",
       "            observer.disconnect();\n",
       "        }}\n",
       "}});\n",
       "\n",
       "// Listen for the removal of the full notebook cells\n",
       "var notebookContainer = gd.closest('#notebook-container');\n",
       "if (notebookContainer) {{\n",
       "    x.observe(notebookContainer, {childList: true});\n",
       "}}\n",
       "\n",
       "// Listen for the clearing of the current output cell\n",
       "var outputEl = gd.closest('.output');\n",
       "if (outputEl) {{\n",
       "    x.observe(outputEl, {childList: true});\n",
       "}}\n",
       "\n",
       "                        })                };                });            </script>        </div>"
      ]
     },
     "metadata": {},
     "output_type": "display_data"
    }
   ],
   "source": [
    "fig_conf_flocking_comm_loss = plot_confusion_matrix(metrics_hj_naive[\"Isolated_platform_metric\"]>0, \n",
    "                        metrics_hj_flocking[\"Isolated_platform_metric\"]>0, 'Multi-Agent HJ Naive', \n",
    "                        'Multi-Agent HJ Flocking Control', title_name=\"Missions with communication losses\")"
   ]
  },
  {
   "attachments": {},
   "cell_type": "markdown",
   "metadata": {},
   "source": [
    "+ Connectivity and Collision maintenance performance"
   ]
  },
  {
   "cell_type": "code",
   "execution_count": 24,
   "metadata": {},
   "outputs": [
    {
     "data": {
      "application/vnd.plotly.v1+json": {
       "config": {
        "plotlyServerURL": "https://plot.ly"
       },
       "data": [
        {
         "coloraxis": "coloraxis",
         "hovertemplate": "Multi-Agent HJ Flocking Control: %{x}<br>Multi-Agent HJ Naive: %{y}<br>color: %{z}<extra></extra>",
         "name": "0",
         "texttemplate": "%{z}",
         "type": "heatmap",
         "x": [
          false,
          true
         ],
         "xaxis": "x",
         "y": [
          false,
          true
         ],
         "yaxis": "y",
         "z": [
          [
           57,
           357
          ],
          [
           0,
           134
          ]
         ]
        }
       ],
       "layout": {
        "coloraxis": {
         "colorscale": [
          [
           0,
           "#0d0887"
          ],
          [
           0.1111111111111111,
           "#46039f"
          ],
          [
           0.2222222222222222,
           "#7201a8"
          ],
          [
           0.3333333333333333,
           "#9c179e"
          ],
          [
           0.4444444444444444,
           "#bd3786"
          ],
          [
           0.5555555555555556,
           "#d8576b"
          ],
          [
           0.6666666666666666,
           "#ed7953"
          ],
          [
           0.7777777777777778,
           "#fb9f3a"
          ],
          [
           0.8888888888888888,
           "#fdca26"
          ],
          [
           1,
           "#f0f921"
          ]
         ]
        },
        "margin": {
         "t": 60
        },
        "template": {
         "data": {
          "bar": [
           {
            "error_x": {
             "color": "#2a3f5f"
            },
            "error_y": {
             "color": "#2a3f5f"
            },
            "marker": {
             "line": {
              "color": "#E5ECF6",
              "width": 0.5
             },
             "pattern": {
              "fillmode": "overlay",
              "size": 10,
              "solidity": 0.2
             }
            },
            "type": "bar"
           }
          ],
          "barpolar": [
           {
            "marker": {
             "line": {
              "color": "#E5ECF6",
              "width": 0.5
             },
             "pattern": {
              "fillmode": "overlay",
              "size": 10,
              "solidity": 0.2
             }
            },
            "type": "barpolar"
           }
          ],
          "carpet": [
           {
            "aaxis": {
             "endlinecolor": "#2a3f5f",
             "gridcolor": "white",
             "linecolor": "white",
             "minorgridcolor": "white",
             "startlinecolor": "#2a3f5f"
            },
            "baxis": {
             "endlinecolor": "#2a3f5f",
             "gridcolor": "white",
             "linecolor": "white",
             "minorgridcolor": "white",
             "startlinecolor": "#2a3f5f"
            },
            "type": "carpet"
           }
          ],
          "choropleth": [
           {
            "colorbar": {
             "outlinewidth": 0,
             "ticks": ""
            },
            "type": "choropleth"
           }
          ],
          "contour": [
           {
            "colorbar": {
             "outlinewidth": 0,
             "ticks": ""
            },
            "colorscale": [
             [
              0,
              "#0d0887"
             ],
             [
              0.1111111111111111,
              "#46039f"
             ],
             [
              0.2222222222222222,
              "#7201a8"
             ],
             [
              0.3333333333333333,
              "#9c179e"
             ],
             [
              0.4444444444444444,
              "#bd3786"
             ],
             [
              0.5555555555555556,
              "#d8576b"
             ],
             [
              0.6666666666666666,
              "#ed7953"
             ],
             [
              0.7777777777777778,
              "#fb9f3a"
             ],
             [
              0.8888888888888888,
              "#fdca26"
             ],
             [
              1,
              "#f0f921"
             ]
            ],
            "type": "contour"
           }
          ],
          "contourcarpet": [
           {
            "colorbar": {
             "outlinewidth": 0,
             "ticks": ""
            },
            "type": "contourcarpet"
           }
          ],
          "heatmap": [
           {
            "colorbar": {
             "outlinewidth": 0,
             "ticks": ""
            },
            "colorscale": [
             [
              0,
              "#0d0887"
             ],
             [
              0.1111111111111111,
              "#46039f"
             ],
             [
              0.2222222222222222,
              "#7201a8"
             ],
             [
              0.3333333333333333,
              "#9c179e"
             ],
             [
              0.4444444444444444,
              "#bd3786"
             ],
             [
              0.5555555555555556,
              "#d8576b"
             ],
             [
              0.6666666666666666,
              "#ed7953"
             ],
             [
              0.7777777777777778,
              "#fb9f3a"
             ],
             [
              0.8888888888888888,
              "#fdca26"
             ],
             [
              1,
              "#f0f921"
             ]
            ],
            "type": "heatmap"
           }
          ],
          "heatmapgl": [
           {
            "colorbar": {
             "outlinewidth": 0,
             "ticks": ""
            },
            "colorscale": [
             [
              0,
              "#0d0887"
             ],
             [
              0.1111111111111111,
              "#46039f"
             ],
             [
              0.2222222222222222,
              "#7201a8"
             ],
             [
              0.3333333333333333,
              "#9c179e"
             ],
             [
              0.4444444444444444,
              "#bd3786"
             ],
             [
              0.5555555555555556,
              "#d8576b"
             ],
             [
              0.6666666666666666,
              "#ed7953"
             ],
             [
              0.7777777777777778,
              "#fb9f3a"
             ],
             [
              0.8888888888888888,
              "#fdca26"
             ],
             [
              1,
              "#f0f921"
             ]
            ],
            "type": "heatmapgl"
           }
          ],
          "histogram": [
           {
            "marker": {
             "pattern": {
              "fillmode": "overlay",
              "size": 10,
              "solidity": 0.2
             }
            },
            "type": "histogram"
           }
          ],
          "histogram2d": [
           {
            "colorbar": {
             "outlinewidth": 0,
             "ticks": ""
            },
            "colorscale": [
             [
              0,
              "#0d0887"
             ],
             [
              0.1111111111111111,
              "#46039f"
             ],
             [
              0.2222222222222222,
              "#7201a8"
             ],
             [
              0.3333333333333333,
              "#9c179e"
             ],
             [
              0.4444444444444444,
              "#bd3786"
             ],
             [
              0.5555555555555556,
              "#d8576b"
             ],
             [
              0.6666666666666666,
              "#ed7953"
             ],
             [
              0.7777777777777778,
              "#fb9f3a"
             ],
             [
              0.8888888888888888,
              "#fdca26"
             ],
             [
              1,
              "#f0f921"
             ]
            ],
            "type": "histogram2d"
           }
          ],
          "histogram2dcontour": [
           {
            "colorbar": {
             "outlinewidth": 0,
             "ticks": ""
            },
            "colorscale": [
             [
              0,
              "#0d0887"
             ],
             [
              0.1111111111111111,
              "#46039f"
             ],
             [
              0.2222222222222222,
              "#7201a8"
             ],
             [
              0.3333333333333333,
              "#9c179e"
             ],
             [
              0.4444444444444444,
              "#bd3786"
             ],
             [
              0.5555555555555556,
              "#d8576b"
             ],
             [
              0.6666666666666666,
              "#ed7953"
             ],
             [
              0.7777777777777778,
              "#fb9f3a"
             ],
             [
              0.8888888888888888,
              "#fdca26"
             ],
             [
              1,
              "#f0f921"
             ]
            ],
            "type": "histogram2dcontour"
           }
          ],
          "mesh3d": [
           {
            "colorbar": {
             "outlinewidth": 0,
             "ticks": ""
            },
            "type": "mesh3d"
           }
          ],
          "parcoords": [
           {
            "line": {
             "colorbar": {
              "outlinewidth": 0,
              "ticks": ""
             }
            },
            "type": "parcoords"
           }
          ],
          "pie": [
           {
            "automargin": true,
            "type": "pie"
           }
          ],
          "scatter": [
           {
            "fillpattern": {
             "fillmode": "overlay",
             "size": 10,
             "solidity": 0.2
            },
            "type": "scatter"
           }
          ],
          "scatter3d": [
           {
            "line": {
             "colorbar": {
              "outlinewidth": 0,
              "ticks": ""
             }
            },
            "marker": {
             "colorbar": {
              "outlinewidth": 0,
              "ticks": ""
             }
            },
            "type": "scatter3d"
           }
          ],
          "scattercarpet": [
           {
            "marker": {
             "colorbar": {
              "outlinewidth": 0,
              "ticks": ""
             }
            },
            "type": "scattercarpet"
           }
          ],
          "scattergeo": [
           {
            "marker": {
             "colorbar": {
              "outlinewidth": 0,
              "ticks": ""
             }
            },
            "type": "scattergeo"
           }
          ],
          "scattergl": [
           {
            "marker": {
             "colorbar": {
              "outlinewidth": 0,
              "ticks": ""
             }
            },
            "type": "scattergl"
           }
          ],
          "scattermapbox": [
           {
            "marker": {
             "colorbar": {
              "outlinewidth": 0,
              "ticks": ""
             }
            },
            "type": "scattermapbox"
           }
          ],
          "scatterpolar": [
           {
            "marker": {
             "colorbar": {
              "outlinewidth": 0,
              "ticks": ""
             }
            },
            "type": "scatterpolar"
           }
          ],
          "scatterpolargl": [
           {
            "marker": {
             "colorbar": {
              "outlinewidth": 0,
              "ticks": ""
             }
            },
            "type": "scatterpolargl"
           }
          ],
          "scatterternary": [
           {
            "marker": {
             "colorbar": {
              "outlinewidth": 0,
              "ticks": ""
             }
            },
            "type": "scatterternary"
           }
          ],
          "surface": [
           {
            "colorbar": {
             "outlinewidth": 0,
             "ticks": ""
            },
            "colorscale": [
             [
              0,
              "#0d0887"
             ],
             [
              0.1111111111111111,
              "#46039f"
             ],
             [
              0.2222222222222222,
              "#7201a8"
             ],
             [
              0.3333333333333333,
              "#9c179e"
             ],
             [
              0.4444444444444444,
              "#bd3786"
             ],
             [
              0.5555555555555556,
              "#d8576b"
             ],
             [
              0.6666666666666666,
              "#ed7953"
             ],
             [
              0.7777777777777778,
              "#fb9f3a"
             ],
             [
              0.8888888888888888,
              "#fdca26"
             ],
             [
              1,
              "#f0f921"
             ]
            ],
            "type": "surface"
           }
          ],
          "table": [
           {
            "cells": {
             "fill": {
              "color": "#EBF0F8"
             },
             "line": {
              "color": "white"
             }
            },
            "header": {
             "fill": {
              "color": "#C8D4E3"
             },
             "line": {
              "color": "white"
             }
            },
            "type": "table"
           }
          ]
         },
         "layout": {
          "annotationdefaults": {
           "arrowcolor": "#2a3f5f",
           "arrowhead": 0,
           "arrowwidth": 1
          },
          "autotypenumbers": "strict",
          "coloraxis": {
           "colorbar": {
            "outlinewidth": 0,
            "ticks": ""
           }
          },
          "colorscale": {
           "diverging": [
            [
             0,
             "#8e0152"
            ],
            [
             0.1,
             "#c51b7d"
            ],
            [
             0.2,
             "#de77ae"
            ],
            [
             0.3,
             "#f1b6da"
            ],
            [
             0.4,
             "#fde0ef"
            ],
            [
             0.5,
             "#f7f7f7"
            ],
            [
             0.6,
             "#e6f5d0"
            ],
            [
             0.7,
             "#b8e186"
            ],
            [
             0.8,
             "#7fbc41"
            ],
            [
             0.9,
             "#4d9221"
            ],
            [
             1,
             "#276419"
            ]
           ],
           "sequential": [
            [
             0,
             "#0d0887"
            ],
            [
             0.1111111111111111,
             "#46039f"
            ],
            [
             0.2222222222222222,
             "#7201a8"
            ],
            [
             0.3333333333333333,
             "#9c179e"
            ],
            [
             0.4444444444444444,
             "#bd3786"
            ],
            [
             0.5555555555555556,
             "#d8576b"
            ],
            [
             0.6666666666666666,
             "#ed7953"
            ],
            [
             0.7777777777777778,
             "#fb9f3a"
            ],
            [
             0.8888888888888888,
             "#fdca26"
            ],
            [
             1,
             "#f0f921"
            ]
           ],
           "sequentialminus": [
            [
             0,
             "#0d0887"
            ],
            [
             0.1111111111111111,
             "#46039f"
            ],
            [
             0.2222222222222222,
             "#7201a8"
            ],
            [
             0.3333333333333333,
             "#9c179e"
            ],
            [
             0.4444444444444444,
             "#bd3786"
            ],
            [
             0.5555555555555556,
             "#d8576b"
            ],
            [
             0.6666666666666666,
             "#ed7953"
            ],
            [
             0.7777777777777778,
             "#fb9f3a"
            ],
            [
             0.8888888888888888,
             "#fdca26"
            ],
            [
             1,
             "#f0f921"
            ]
           ]
          },
          "colorway": [
           "#636efa",
           "#EF553B",
           "#00cc96",
           "#ab63fa",
           "#FFA15A",
           "#19d3f3",
           "#FF6692",
           "#B6E880",
           "#FF97FF",
           "#FECB52"
          ],
          "font": {
           "color": "#2a3f5f"
          },
          "geo": {
           "bgcolor": "white",
           "lakecolor": "white",
           "landcolor": "#E5ECF6",
           "showlakes": true,
           "showland": true,
           "subunitcolor": "white"
          },
          "hoverlabel": {
           "align": "left"
          },
          "hovermode": "closest",
          "mapbox": {
           "style": "light"
          },
          "paper_bgcolor": "white",
          "plot_bgcolor": "#E5ECF6",
          "polar": {
           "angularaxis": {
            "gridcolor": "white",
            "linecolor": "white",
            "ticks": ""
           },
           "bgcolor": "#E5ECF6",
           "radialaxis": {
            "gridcolor": "white",
            "linecolor": "white",
            "ticks": ""
           }
          },
          "scene": {
           "xaxis": {
            "backgroundcolor": "#E5ECF6",
            "gridcolor": "white",
            "gridwidth": 2,
            "linecolor": "white",
            "showbackground": true,
            "ticks": "",
            "zerolinecolor": "white"
           },
           "yaxis": {
            "backgroundcolor": "#E5ECF6",
            "gridcolor": "white",
            "gridwidth": 2,
            "linecolor": "white",
            "showbackground": true,
            "ticks": "",
            "zerolinecolor": "white"
           },
           "zaxis": {
            "backgroundcolor": "#E5ECF6",
            "gridcolor": "white",
            "gridwidth": 2,
            "linecolor": "white",
            "showbackground": true,
            "ticks": "",
            "zerolinecolor": "white"
           }
          },
          "shapedefaults": {
           "line": {
            "color": "#2a3f5f"
           }
          },
          "ternary": {
           "aaxis": {
            "gridcolor": "white",
            "linecolor": "white",
            "ticks": ""
           },
           "baxis": {
            "gridcolor": "white",
            "linecolor": "white",
            "ticks": ""
           },
           "bgcolor": "#E5ECF6",
           "caxis": {
            "gridcolor": "white",
            "linecolor": "white",
            "ticks": ""
           }
          },
          "title": {
           "x": 0.05
          },
          "xaxis": {
           "automargin": true,
           "gridcolor": "white",
           "linecolor": "white",
           "ticks": "",
           "title": {
            "standoff": 15
           },
           "zerolinecolor": "white",
           "zerolinewidth": 2
          },
          "yaxis": {
           "automargin": true,
           "gridcolor": "white",
           "linecolor": "white",
           "ticks": "",
           "title": {
            "standoff": 15
           },
           "zerolinecolor": "white",
           "zerolinewidth": 2
          }
         }
        },
        "title": {
         "text": "Missions without collisions and with maintained connectivity"
        },
        "xaxis": {
         "anchor": "y",
         "constrain": "domain",
         "domain": [
          0,
          1
         ],
         "scaleanchor": "y",
         "title": {
          "text": "Multi-Agent HJ Flocking Control"
         }
        },
        "yaxis": {
         "anchor": "x",
         "autorange": "reversed",
         "constrain": "domain",
         "domain": [
          0,
          1
         ],
         "title": {
          "text": "Multi-Agent HJ Naive"
         }
        }
       }
      },
      "text/html": [
       "<div>                            <div id=\"42bda594-73d2-4eec-9707-eaca5cd5a5ca\" class=\"plotly-graph-div\" style=\"height:525px; width:100%;\"></div>            <script type=\"text/javascript\">                require([\"plotly\"], function(Plotly) {                    window.PLOTLYENV=window.PLOTLYENV || {};                                    if (document.getElementById(\"42bda594-73d2-4eec-9707-eaca5cd5a5ca\")) {                    Plotly.newPlot(                        \"42bda594-73d2-4eec-9707-eaca5cd5a5ca\",                        [{\"coloraxis\":\"coloraxis\",\"name\":\"0\",\"texttemplate\":\"%{z}\",\"x\":[false,true],\"y\":[false,true],\"z\":[[57,357],[0,134]],\"type\":\"heatmap\",\"xaxis\":\"x\",\"yaxis\":\"y\",\"hovertemplate\":\"Multi-Agent HJ Flocking Control: %{x}<br>Multi-Agent HJ Naive: %{y}<br>color: %{z}<extra></extra>\"}],                        {\"template\":{\"data\":{\"histogram2dcontour\":[{\"type\":\"histogram2dcontour\",\"colorbar\":{\"outlinewidth\":0,\"ticks\":\"\"},\"colorscale\":[[0.0,\"#0d0887\"],[0.1111111111111111,\"#46039f\"],[0.2222222222222222,\"#7201a8\"],[0.3333333333333333,\"#9c179e\"],[0.4444444444444444,\"#bd3786\"],[0.5555555555555556,\"#d8576b\"],[0.6666666666666666,\"#ed7953\"],[0.7777777777777778,\"#fb9f3a\"],[0.8888888888888888,\"#fdca26\"],[1.0,\"#f0f921\"]]}],\"choropleth\":[{\"type\":\"choropleth\",\"colorbar\":{\"outlinewidth\":0,\"ticks\":\"\"}}],\"histogram2d\":[{\"type\":\"histogram2d\",\"colorbar\":{\"outlinewidth\":0,\"ticks\":\"\"},\"colorscale\":[[0.0,\"#0d0887\"],[0.1111111111111111,\"#46039f\"],[0.2222222222222222,\"#7201a8\"],[0.3333333333333333,\"#9c179e\"],[0.4444444444444444,\"#bd3786\"],[0.5555555555555556,\"#d8576b\"],[0.6666666666666666,\"#ed7953\"],[0.7777777777777778,\"#fb9f3a\"],[0.8888888888888888,\"#fdca26\"],[1.0,\"#f0f921\"]]}],\"heatmap\":[{\"type\":\"heatmap\",\"colorbar\":{\"outlinewidth\":0,\"ticks\":\"\"},\"colorscale\":[[0.0,\"#0d0887\"],[0.1111111111111111,\"#46039f\"],[0.2222222222222222,\"#7201a8\"],[0.3333333333333333,\"#9c179e\"],[0.4444444444444444,\"#bd3786\"],[0.5555555555555556,\"#d8576b\"],[0.6666666666666666,\"#ed7953\"],[0.7777777777777778,\"#fb9f3a\"],[0.8888888888888888,\"#fdca26\"],[1.0,\"#f0f921\"]]}],\"heatmapgl\":[{\"type\":\"heatmapgl\",\"colorbar\":{\"outlinewidth\":0,\"ticks\":\"\"},\"colorscale\":[[0.0,\"#0d0887\"],[0.1111111111111111,\"#46039f\"],[0.2222222222222222,\"#7201a8\"],[0.3333333333333333,\"#9c179e\"],[0.4444444444444444,\"#bd3786\"],[0.5555555555555556,\"#d8576b\"],[0.6666666666666666,\"#ed7953\"],[0.7777777777777778,\"#fb9f3a\"],[0.8888888888888888,\"#fdca26\"],[1.0,\"#f0f921\"]]}],\"contourcarpet\":[{\"type\":\"contourcarpet\",\"colorbar\":{\"outlinewidth\":0,\"ticks\":\"\"}}],\"contour\":[{\"type\":\"contour\",\"colorbar\":{\"outlinewidth\":0,\"ticks\":\"\"},\"colorscale\":[[0.0,\"#0d0887\"],[0.1111111111111111,\"#46039f\"],[0.2222222222222222,\"#7201a8\"],[0.3333333333333333,\"#9c179e\"],[0.4444444444444444,\"#bd3786\"],[0.5555555555555556,\"#d8576b\"],[0.6666666666666666,\"#ed7953\"],[0.7777777777777778,\"#fb9f3a\"],[0.8888888888888888,\"#fdca26\"],[1.0,\"#f0f921\"]]}],\"surface\":[{\"type\":\"surface\",\"colorbar\":{\"outlinewidth\":0,\"ticks\":\"\"},\"colorscale\":[[0.0,\"#0d0887\"],[0.1111111111111111,\"#46039f\"],[0.2222222222222222,\"#7201a8\"],[0.3333333333333333,\"#9c179e\"],[0.4444444444444444,\"#bd3786\"],[0.5555555555555556,\"#d8576b\"],[0.6666666666666666,\"#ed7953\"],[0.7777777777777778,\"#fb9f3a\"],[0.8888888888888888,\"#fdca26\"],[1.0,\"#f0f921\"]]}],\"mesh3d\":[{\"type\":\"mesh3d\",\"colorbar\":{\"outlinewidth\":0,\"ticks\":\"\"}}],\"scatter\":[{\"fillpattern\":{\"fillmode\":\"overlay\",\"size\":10,\"solidity\":0.2},\"type\":\"scatter\"}],\"parcoords\":[{\"type\":\"parcoords\",\"line\":{\"colorbar\":{\"outlinewidth\":0,\"ticks\":\"\"}}}],\"scatterpolargl\":[{\"type\":\"scatterpolargl\",\"marker\":{\"colorbar\":{\"outlinewidth\":0,\"ticks\":\"\"}}}],\"bar\":[{\"error_x\":{\"color\":\"#2a3f5f\"},\"error_y\":{\"color\":\"#2a3f5f\"},\"marker\":{\"line\":{\"color\":\"#E5ECF6\",\"width\":0.5},\"pattern\":{\"fillmode\":\"overlay\",\"size\":10,\"solidity\":0.2}},\"type\":\"bar\"}],\"scattergeo\":[{\"type\":\"scattergeo\",\"marker\":{\"colorbar\":{\"outlinewidth\":0,\"ticks\":\"\"}}}],\"scatterpolar\":[{\"type\":\"scatterpolar\",\"marker\":{\"colorbar\":{\"outlinewidth\":0,\"ticks\":\"\"}}}],\"histogram\":[{\"marker\":{\"pattern\":{\"fillmode\":\"overlay\",\"size\":10,\"solidity\":0.2}},\"type\":\"histogram\"}],\"scattergl\":[{\"type\":\"scattergl\",\"marker\":{\"colorbar\":{\"outlinewidth\":0,\"ticks\":\"\"}}}],\"scatter3d\":[{\"type\":\"scatter3d\",\"line\":{\"colorbar\":{\"outlinewidth\":0,\"ticks\":\"\"}},\"marker\":{\"colorbar\":{\"outlinewidth\":0,\"ticks\":\"\"}}}],\"scattermapbox\":[{\"type\":\"scattermapbox\",\"marker\":{\"colorbar\":{\"outlinewidth\":0,\"ticks\":\"\"}}}],\"scatterternary\":[{\"type\":\"scatterternary\",\"marker\":{\"colorbar\":{\"outlinewidth\":0,\"ticks\":\"\"}}}],\"scattercarpet\":[{\"type\":\"scattercarpet\",\"marker\":{\"colorbar\":{\"outlinewidth\":0,\"ticks\":\"\"}}}],\"carpet\":[{\"aaxis\":{\"endlinecolor\":\"#2a3f5f\",\"gridcolor\":\"white\",\"linecolor\":\"white\",\"minorgridcolor\":\"white\",\"startlinecolor\":\"#2a3f5f\"},\"baxis\":{\"endlinecolor\":\"#2a3f5f\",\"gridcolor\":\"white\",\"linecolor\":\"white\",\"minorgridcolor\":\"white\",\"startlinecolor\":\"#2a3f5f\"},\"type\":\"carpet\"}],\"table\":[{\"cells\":{\"fill\":{\"color\":\"#EBF0F8\"},\"line\":{\"color\":\"white\"}},\"header\":{\"fill\":{\"color\":\"#C8D4E3\"},\"line\":{\"color\":\"white\"}},\"type\":\"table\"}],\"barpolar\":[{\"marker\":{\"line\":{\"color\":\"#E5ECF6\",\"width\":0.5},\"pattern\":{\"fillmode\":\"overlay\",\"size\":10,\"solidity\":0.2}},\"type\":\"barpolar\"}],\"pie\":[{\"automargin\":true,\"type\":\"pie\"}]},\"layout\":{\"autotypenumbers\":\"strict\",\"colorway\":[\"#636efa\",\"#EF553B\",\"#00cc96\",\"#ab63fa\",\"#FFA15A\",\"#19d3f3\",\"#FF6692\",\"#B6E880\",\"#FF97FF\",\"#FECB52\"],\"font\":{\"color\":\"#2a3f5f\"},\"hovermode\":\"closest\",\"hoverlabel\":{\"align\":\"left\"},\"paper_bgcolor\":\"white\",\"plot_bgcolor\":\"#E5ECF6\",\"polar\":{\"bgcolor\":\"#E5ECF6\",\"angularaxis\":{\"gridcolor\":\"white\",\"linecolor\":\"white\",\"ticks\":\"\"},\"radialaxis\":{\"gridcolor\":\"white\",\"linecolor\":\"white\",\"ticks\":\"\"}},\"ternary\":{\"bgcolor\":\"#E5ECF6\",\"aaxis\":{\"gridcolor\":\"white\",\"linecolor\":\"white\",\"ticks\":\"\"},\"baxis\":{\"gridcolor\":\"white\",\"linecolor\":\"white\",\"ticks\":\"\"},\"caxis\":{\"gridcolor\":\"white\",\"linecolor\":\"white\",\"ticks\":\"\"}},\"coloraxis\":{\"colorbar\":{\"outlinewidth\":0,\"ticks\":\"\"}},\"colorscale\":{\"sequential\":[[0.0,\"#0d0887\"],[0.1111111111111111,\"#46039f\"],[0.2222222222222222,\"#7201a8\"],[0.3333333333333333,\"#9c179e\"],[0.4444444444444444,\"#bd3786\"],[0.5555555555555556,\"#d8576b\"],[0.6666666666666666,\"#ed7953\"],[0.7777777777777778,\"#fb9f3a\"],[0.8888888888888888,\"#fdca26\"],[1.0,\"#f0f921\"]],\"sequentialminus\":[[0.0,\"#0d0887\"],[0.1111111111111111,\"#46039f\"],[0.2222222222222222,\"#7201a8\"],[0.3333333333333333,\"#9c179e\"],[0.4444444444444444,\"#bd3786\"],[0.5555555555555556,\"#d8576b\"],[0.6666666666666666,\"#ed7953\"],[0.7777777777777778,\"#fb9f3a\"],[0.8888888888888888,\"#fdca26\"],[1.0,\"#f0f921\"]],\"diverging\":[[0,\"#8e0152\"],[0.1,\"#c51b7d\"],[0.2,\"#de77ae\"],[0.3,\"#f1b6da\"],[0.4,\"#fde0ef\"],[0.5,\"#f7f7f7\"],[0.6,\"#e6f5d0\"],[0.7,\"#b8e186\"],[0.8,\"#7fbc41\"],[0.9,\"#4d9221\"],[1,\"#276419\"]]},\"xaxis\":{\"gridcolor\":\"white\",\"linecolor\":\"white\",\"ticks\":\"\",\"title\":{\"standoff\":15},\"zerolinecolor\":\"white\",\"automargin\":true,\"zerolinewidth\":2},\"yaxis\":{\"gridcolor\":\"white\",\"linecolor\":\"white\",\"ticks\":\"\",\"title\":{\"standoff\":15},\"zerolinecolor\":\"white\",\"automargin\":true,\"zerolinewidth\":2},\"scene\":{\"xaxis\":{\"backgroundcolor\":\"#E5ECF6\",\"gridcolor\":\"white\",\"linecolor\":\"white\",\"showbackground\":true,\"ticks\":\"\",\"zerolinecolor\":\"white\",\"gridwidth\":2},\"yaxis\":{\"backgroundcolor\":\"#E5ECF6\",\"gridcolor\":\"white\",\"linecolor\":\"white\",\"showbackground\":true,\"ticks\":\"\",\"zerolinecolor\":\"white\",\"gridwidth\":2},\"zaxis\":{\"backgroundcolor\":\"#E5ECF6\",\"gridcolor\":\"white\",\"linecolor\":\"white\",\"showbackground\":true,\"ticks\":\"\",\"zerolinecolor\":\"white\",\"gridwidth\":2}},\"shapedefaults\":{\"line\":{\"color\":\"#2a3f5f\"}},\"annotationdefaults\":{\"arrowcolor\":\"#2a3f5f\",\"arrowhead\":0,\"arrowwidth\":1},\"geo\":{\"bgcolor\":\"white\",\"landcolor\":\"#E5ECF6\",\"subunitcolor\":\"white\",\"showland\":true,\"showlakes\":true,\"lakecolor\":\"white\"},\"title\":{\"x\":0.05},\"mapbox\":{\"style\":\"light\"}}},\"xaxis\":{\"anchor\":\"y\",\"domain\":[0.0,1.0],\"scaleanchor\":\"y\",\"constrain\":\"domain\",\"title\":{\"text\":\"Multi-Agent HJ Flocking Control\"}},\"yaxis\":{\"anchor\":\"x\",\"domain\":[0.0,1.0],\"autorange\":\"reversed\",\"constrain\":\"domain\",\"title\":{\"text\":\"Multi-Agent HJ Naive\"}},\"coloraxis\":{\"colorscale\":[[0.0,\"#0d0887\"],[0.1111111111111111,\"#46039f\"],[0.2222222222222222,\"#7201a8\"],[0.3333333333333333,\"#9c179e\"],[0.4444444444444444,\"#bd3786\"],[0.5555555555555556,\"#d8576b\"],[0.6666666666666666,\"#ed7953\"],[0.7777777777777778,\"#fb9f3a\"],[0.8888888888888888,\"#fdca26\"],[1.0,\"#f0f921\"]]},\"margin\":{\"t\":60},\"title\":{\"text\":\"Missions without collisions and with maintained connectivity\"}},                        {\"responsive\": true}                    ).then(function(){\n",
       "                            \n",
       "var gd = document.getElementById('42bda594-73d2-4eec-9707-eaca5cd5a5ca');\n",
       "var x = new MutationObserver(function (mutations, observer) {{\n",
       "        var display = window.getComputedStyle(gd).display;\n",
       "        if (!display || display === 'none') {{\n",
       "            console.log([gd, 'removed!']);\n",
       "            Plotly.purge(gd);\n",
       "            observer.disconnect();\n",
       "        }}\n",
       "}});\n",
       "\n",
       "// Listen for the removal of the full notebook cells\n",
       "var notebookContainer = gd.closest('#notebook-container');\n",
       "if (notebookContainer) {{\n",
       "    x.observe(notebookContainer, {childList: true});\n",
       "}}\n",
       "\n",
       "// Listen for the clearing of the current output cell\n",
       "var outputEl = gd.closest('.output');\n",
       "if (outputEl) {{\n",
       "    x.observe(outputEl, {childList: true});\n",
       "}}\n",
       "\n",
       "                        })                };                });            </script>        </div>"
      ]
     },
     "metadata": {},
     "output_type": "display_data"
    }
   ],
   "source": [
    "connect_objective_flocking = (metrics_hj_flocking[\"Isolated_platform_metric\"]==0) & (metrics_hj_flocking[\"Number_of_collision\"] == 0)\n",
    "connect_objective_hj_naive = (metrics_hj_naive[\"Isolated_platform_metric\"]==0) & (metrics_hj_naive[\"Number_of_collision\"] == 0)\n",
    "fig_flocking_maint = plot_confusion_matrix(connect_objective_hj_naive , connect_objective_flocking , \n",
    "    'Multi-Agent HJ Naive', 'Multi-Agent HJ Flocking Control', title_name= 'Missions without collisions and with maintained connectivity')"
   ]
  },
  {
   "cell_type": "code",
   "execution_count": 75,
   "metadata": {},
   "outputs": [],
   "source": [
    "idx_failed_flocking = np.where((connect_objective_hj_naive==True) & (connect_objective_flocking==False))[0] # np where returns a tuple"
   ]
  },
  {
   "cell_type": "code",
   "execution_count": 70,
   "metadata": {},
   "outputs": [
    {
     "data": {
      "text/html": [
       "<div>\n",
       "<style scoped>\n",
       "    .dataframe tbody tr th:only-of-type {\n",
       "        vertical-align: middle;\n",
       "    }\n",
       "\n",
       "    .dataframe tbody tr th {\n",
       "        vertical-align: top;\n",
       "    }\n",
       "\n",
       "    .dataframe thead th {\n",
       "        text-align: right;\n",
       "    }\n",
       "</style>\n",
       "<table border=\"1\" class=\"dataframe\">\n",
       "  <thead>\n",
       "    <tr style=\"text-align: right;\">\n",
       "      <th></th>\n",
       "      <th>Unnamed: 0</th>\n",
       "      <th>Isolated_platform_metric</th>\n",
       "      <th>Number_of_collision</th>\n",
       "      <th>Reaching_target</th>\n",
       "      <th>Mean minimum distance to target among all platforms in deg</th>\n",
       "      <th>Mean maximum correction from optimal control degrees</th>\n",
       "      <th>Average Beta Index</th>\n",
       "      <th>Initial maximum degree of the graph</th>\n",
       "      <th>Final maximum degree of the graph</th>\n",
       "      <th>Mission_success</th>\n",
       "      <th>mission_nr</th>\n",
       "    </tr>\n",
       "  </thead>\n",
       "  <tbody>\n",
       "    <tr>\n",
       "      <th>15</th>\n",
       "      <td>15</td>\n",
       "      <td>0.044907</td>\n",
       "      <td>0</td>\n",
       "      <td>1.00</td>\n",
       "      <td>0.000000</td>\n",
       "      <td>13.982651</td>\n",
       "      <td>1.430652</td>\n",
       "      <td>2</td>\n",
       "      <td>3</td>\n",
       "      <td>0</td>\n",
       "      <td>86</td>\n",
       "    </tr>\n",
       "    <tr>\n",
       "      <th>48</th>\n",
       "      <td>48</td>\n",
       "      <td>0.014352</td>\n",
       "      <td>0</td>\n",
       "      <td>1.00</td>\n",
       "      <td>0.000000</td>\n",
       "      <td>75.308774</td>\n",
       "      <td>0.746186</td>\n",
       "      <td>2</td>\n",
       "      <td>2</td>\n",
       "      <td>0</td>\n",
       "      <td>59</td>\n",
       "    </tr>\n",
       "    <tr>\n",
       "      <th>85</th>\n",
       "      <td>85</td>\n",
       "      <td>0.013426</td>\n",
       "      <td>0</td>\n",
       "      <td>1.00</td>\n",
       "      <td>0.000000</td>\n",
       "      <td>38.388886</td>\n",
       "      <td>1.458391</td>\n",
       "      <td>2</td>\n",
       "      <td>3</td>\n",
       "      <td>0</td>\n",
       "      <td>51</td>\n",
       "    </tr>\n",
       "    <tr>\n",
       "      <th>190</th>\n",
       "      <td>190</td>\n",
       "      <td>1.000000</td>\n",
       "      <td>0</td>\n",
       "      <td>1.00</td>\n",
       "      <td>0.000000</td>\n",
       "      <td>49.386048</td>\n",
       "      <td>0.746533</td>\n",
       "      <td>2</td>\n",
       "      <td>2</td>\n",
       "      <td>0</td>\n",
       "      <td>426</td>\n",
       "    </tr>\n",
       "    <tr>\n",
       "      <th>258</th>\n",
       "      <td>258</td>\n",
       "      <td>0.000000</td>\n",
       "      <td>1</td>\n",
       "      <td>1.00</td>\n",
       "      <td>0.000000</td>\n",
       "      <td>11.177423</td>\n",
       "      <td>1.500000</td>\n",
       "      <td>3</td>\n",
       "      <td>3</td>\n",
       "      <td>0</td>\n",
       "      <td>362</td>\n",
       "    </tr>\n",
       "    <tr>\n",
       "      <th>333</th>\n",
       "      <td>333</td>\n",
       "      <td>0.014352</td>\n",
       "      <td>0</td>\n",
       "      <td>1.00</td>\n",
       "      <td>0.000000</td>\n",
       "      <td>17.037177</td>\n",
       "      <td>1.470874</td>\n",
       "      <td>2</td>\n",
       "      <td>3</td>\n",
       "      <td>0</td>\n",
       "      <td>288</td>\n",
       "    </tr>\n",
       "    <tr>\n",
       "      <th>351</th>\n",
       "      <td>351</td>\n",
       "      <td>0.010648</td>\n",
       "      <td>0</td>\n",
       "      <td>1.00</td>\n",
       "      <td>0.000000</td>\n",
       "      <td>81.244696</td>\n",
       "      <td>1.203537</td>\n",
       "      <td>2</td>\n",
       "      <td>3</td>\n",
       "      <td>0</td>\n",
       "      <td>284</td>\n",
       "    </tr>\n",
       "    <tr>\n",
       "      <th>393</th>\n",
       "      <td>393</td>\n",
       "      <td>0.000000</td>\n",
       "      <td>1</td>\n",
       "      <td>0.00</td>\n",
       "      <td>0.018569</td>\n",
       "      <td>15.144961</td>\n",
       "      <td>1.500000</td>\n",
       "      <td>3</td>\n",
       "      <td>3</td>\n",
       "      <td>0</td>\n",
       "      <td>226</td>\n",
       "    </tr>\n",
       "    <tr>\n",
       "      <th>395</th>\n",
       "      <td>395</td>\n",
       "      <td>0.807870</td>\n",
       "      <td>0</td>\n",
       "      <td>1.00</td>\n",
       "      <td>0.000000</td>\n",
       "      <td>40.458265</td>\n",
       "      <td>0.746879</td>\n",
       "      <td>2</td>\n",
       "      <td>3</td>\n",
       "      <td>0</td>\n",
       "      <td>213</td>\n",
       "    </tr>\n",
       "    <tr>\n",
       "      <th>487</th>\n",
       "      <td>487</td>\n",
       "      <td>0.115741</td>\n",
       "      <td>0</td>\n",
       "      <td>1.00</td>\n",
       "      <td>0.000000</td>\n",
       "      <td>76.455163</td>\n",
       "      <td>0.932039</td>\n",
       "      <td>2</td>\n",
       "      <td>1</td>\n",
       "      <td>0</td>\n",
       "      <td>12</td>\n",
       "    </tr>\n",
       "    <tr>\n",
       "      <th>496</th>\n",
       "      <td>496</td>\n",
       "      <td>0.014352</td>\n",
       "      <td>0</td>\n",
       "      <td>1.00</td>\n",
       "      <td>0.000000</td>\n",
       "      <td>13.939057</td>\n",
       "      <td>1.377601</td>\n",
       "      <td>2</td>\n",
       "      <td>3</td>\n",
       "      <td>0</td>\n",
       "      <td>129</td>\n",
       "    </tr>\n",
       "    <tr>\n",
       "      <th>501</th>\n",
       "      <td>501</td>\n",
       "      <td>0.000000</td>\n",
       "      <td>1</td>\n",
       "      <td>0.75</td>\n",
       "      <td>0.001866</td>\n",
       "      <td>12.653218</td>\n",
       "      <td>1.500000</td>\n",
       "      <td>3</td>\n",
       "      <td>3</td>\n",
       "      <td>0</td>\n",
       "      <td>137</td>\n",
       "    </tr>\n",
       "  </tbody>\n",
       "</table>\n",
       "</div>"
      ],
      "text/plain": [
       "     Unnamed: 0  Isolated_platform_metric  Number_of_collision  \\\n",
       "15           15                  0.044907                    0   \n",
       "48           48                  0.014352                    0   \n",
       "85           85                  0.013426                    0   \n",
       "190         190                  1.000000                    0   \n",
       "258         258                  0.000000                    1   \n",
       "333         333                  0.014352                    0   \n",
       "351         351                  0.010648                    0   \n",
       "393         393                  0.000000                    1   \n",
       "395         395                  0.807870                    0   \n",
       "487         487                  0.115741                    0   \n",
       "496         496                  0.014352                    0   \n",
       "501         501                  0.000000                    1   \n",
       "\n",
       "     Reaching_target  \\\n",
       "15              1.00   \n",
       "48              1.00   \n",
       "85              1.00   \n",
       "190             1.00   \n",
       "258             1.00   \n",
       "333             1.00   \n",
       "351             1.00   \n",
       "393             0.00   \n",
       "395             1.00   \n",
       "487             1.00   \n",
       "496             1.00   \n",
       "501             0.75   \n",
       "\n",
       "     Mean minimum distance to target among all platforms in deg  \\\n",
       "15                                            0.000000            \n",
       "48                                            0.000000            \n",
       "85                                            0.000000            \n",
       "190                                           0.000000            \n",
       "258                                           0.000000            \n",
       "333                                           0.000000            \n",
       "351                                           0.000000            \n",
       "393                                           0.018569            \n",
       "395                                           0.000000            \n",
       "487                                           0.000000            \n",
       "496                                           0.000000            \n",
       "501                                           0.001866            \n",
       "\n",
       "     Mean maximum correction from optimal control degrees  Average Beta Index  \\\n",
       "15                                           13.982651               1.430652   \n",
       "48                                           75.308774               0.746186   \n",
       "85                                           38.388886               1.458391   \n",
       "190                                          49.386048               0.746533   \n",
       "258                                          11.177423               1.500000   \n",
       "333                                          17.037177               1.470874   \n",
       "351                                          81.244696               1.203537   \n",
       "393                                          15.144961               1.500000   \n",
       "395                                          40.458265               0.746879   \n",
       "487                                          76.455163               0.932039   \n",
       "496                                          13.939057               1.377601   \n",
       "501                                          12.653218               1.500000   \n",
       "\n",
       "     Initial maximum degree of the graph  Final maximum degree of the graph  \\\n",
       "15                                     2                                  3   \n",
       "48                                     2                                  2   \n",
       "85                                     2                                  3   \n",
       "190                                    2                                  2   \n",
       "258                                    3                                  3   \n",
       "333                                    2                                  3   \n",
       "351                                    2                                  3   \n",
       "393                                    3                                  3   \n",
       "395                                    2                                  3   \n",
       "487                                    2                                  1   \n",
       "496                                    2                                  3   \n",
       "501                                    3                                  3   \n",
       "\n",
       "     Mission_success  mission_nr  \n",
       "15                 0          86  \n",
       "48                 0          59  \n",
       "85                 0          51  \n",
       "190                0         426  \n",
       "258                0         362  \n",
       "333                0         288  \n",
       "351                0         284  \n",
       "393                0         226  \n",
       "395                0         213  \n",
       "487                0          12  \n",
       "496                0         129  \n",
       "501                0         137  "
      ]
     },
     "execution_count": 70,
     "metadata": {},
     "output_type": "execute_result"
    }
   ],
   "source": [
    "metrics_hj_flocking.loc[idx_failed_flocking]"
   ]
  },
  {
   "cell_type": "code",
   "execution_count": 56,
   "metadata": {},
   "outputs": [
    {
     "data": {
      "text/html": [
       "<div>\n",
       "<style scoped>\n",
       "    .dataframe tbody tr th:only-of-type {\n",
       "        vertical-align: middle;\n",
       "    }\n",
       "\n",
       "    .dataframe tbody tr th {\n",
       "        vertical-align: top;\n",
       "    }\n",
       "\n",
       "    .dataframe thead th {\n",
       "        text-align: right;\n",
       "    }\n",
       "</style>\n",
       "<table border=\"1\" class=\"dataframe\">\n",
       "  <thead>\n",
       "    <tr style=\"text-align: right;\">\n",
       "      <th></th>\n",
       "      <th>Unnamed: 0</th>\n",
       "      <th>Isolated_platform_metric</th>\n",
       "      <th>Number_of_collision</th>\n",
       "      <th>Reaching_target</th>\n",
       "      <th>Mean minimum distance to target among all platforms in deg</th>\n",
       "      <th>Mean maximum correction from optimal control degrees</th>\n",
       "      <th>Average Beta Index</th>\n",
       "      <th>Initial maximum degree of the graph</th>\n",
       "      <th>Final maximum degree of the graph</th>\n",
       "      <th>Mission_success</th>\n",
       "      <th>mission_nr</th>\n",
       "    </tr>\n",
       "  </thead>\n",
       "  <tbody>\n",
       "    <tr>\n",
       "      <th>547</th>\n",
       "      <td>547</td>\n",
       "      <td>0.000000</td>\n",
       "      <td>0</td>\n",
       "      <td>1.00</td>\n",
       "      <td>0.000000</td>\n",
       "      <td>10.403934</td>\n",
       "      <td>1.492718</td>\n",
       "      <td>3</td>\n",
       "      <td>3</td>\n",
       "      <td>1</td>\n",
       "      <td>0</td>\n",
       "    </tr>\n",
       "    <tr>\n",
       "      <th>426</th>\n",
       "      <td>426</td>\n",
       "      <td>0.000000</td>\n",
       "      <td>0</td>\n",
       "      <td>1.00</td>\n",
       "      <td>0.000000</td>\n",
       "      <td>8.973752</td>\n",
       "      <td>1.500000</td>\n",
       "      <td>3</td>\n",
       "      <td>3</td>\n",
       "      <td>1</td>\n",
       "      <td>1</td>\n",
       "    </tr>\n",
       "    <tr>\n",
       "      <th>332</th>\n",
       "      <td>332</td>\n",
       "      <td>0.021759</td>\n",
       "      <td>0</td>\n",
       "      <td>1.00</td>\n",
       "      <td>0.000000</td>\n",
       "      <td>16.015654</td>\n",
       "      <td>1.070388</td>\n",
       "      <td>2</td>\n",
       "      <td>3</td>\n",
       "      <td>0</td>\n",
       "      <td>2</td>\n",
       "    </tr>\n",
       "    <tr>\n",
       "      <th>218</th>\n",
       "      <td>218</td>\n",
       "      <td>0.000000</td>\n",
       "      <td>0</td>\n",
       "      <td>1.00</td>\n",
       "      <td>0.000000</td>\n",
       "      <td>23.109952</td>\n",
       "      <td>1.488211</td>\n",
       "      <td>3</td>\n",
       "      <td>3</td>\n",
       "      <td>1</td>\n",
       "      <td>3</td>\n",
       "    </tr>\n",
       "    <tr>\n",
       "      <th>105</th>\n",
       "      <td>105</td>\n",
       "      <td>0.000000</td>\n",
       "      <td>0</td>\n",
       "      <td>1.00</td>\n",
       "      <td>0.000000</td>\n",
       "      <td>6.288580</td>\n",
       "      <td>1.496186</td>\n",
       "      <td>3</td>\n",
       "      <td>3</td>\n",
       "      <td>1</td>\n",
       "      <td>4</td>\n",
       "    </tr>\n",
       "    <tr>\n",
       "      <th>...</th>\n",
       "      <td>...</td>\n",
       "      <td>...</td>\n",
       "      <td>...</td>\n",
       "      <td>...</td>\n",
       "      <td>...</td>\n",
       "      <td>...</td>\n",
       "      <td>...</td>\n",
       "      <td>...</td>\n",
       "      <td>...</td>\n",
       "      <td>...</td>\n",
       "      <td>...</td>\n",
       "    </tr>\n",
       "    <tr>\n",
       "      <th>53</th>\n",
       "      <td>53</td>\n",
       "      <td>0.000000</td>\n",
       "      <td>0</td>\n",
       "      <td>0.50</td>\n",
       "      <td>0.006600</td>\n",
       "      <td>22.882946</td>\n",
       "      <td>1.500000</td>\n",
       "      <td>3</td>\n",
       "      <td>3</td>\n",
       "      <td>0</td>\n",
       "      <td>546</td>\n",
       "    </tr>\n",
       "    <tr>\n",
       "      <th>56</th>\n",
       "      <td>56</td>\n",
       "      <td>0.000000</td>\n",
       "      <td>0</td>\n",
       "      <td>0.75</td>\n",
       "      <td>0.000931</td>\n",
       "      <td>6.194619</td>\n",
       "      <td>1.500000</td>\n",
       "      <td>3</td>\n",
       "      <td>3</td>\n",
       "      <td>0</td>\n",
       "      <td>547</td>\n",
       "    </tr>\n",
       "    <tr>\n",
       "      <th>55</th>\n",
       "      <td>55</td>\n",
       "      <td>0.000000</td>\n",
       "      <td>0</td>\n",
       "      <td>1.00</td>\n",
       "      <td>0.000000</td>\n",
       "      <td>63.464802</td>\n",
       "      <td>1.500000</td>\n",
       "      <td>3</td>\n",
       "      <td>3</td>\n",
       "      <td>1</td>\n",
       "      <td>548</td>\n",
       "    </tr>\n",
       "    <tr>\n",
       "      <th>54</th>\n",
       "      <td>54</td>\n",
       "      <td>0.000000</td>\n",
       "      <td>0</td>\n",
       "      <td>1.00</td>\n",
       "      <td>0.000000</td>\n",
       "      <td>22.030867</td>\n",
       "      <td>1.500000</td>\n",
       "      <td>3</td>\n",
       "      <td>3</td>\n",
       "      <td>1</td>\n",
       "      <td>549</td>\n",
       "    </tr>\n",
       "    <tr>\n",
       "      <th>44</th>\n",
       "      <td>44</td>\n",
       "      <td>0.000000</td>\n",
       "      <td>0</td>\n",
       "      <td>1.00</td>\n",
       "      <td>0.000000</td>\n",
       "      <td>12.453327</td>\n",
       "      <td>1.500000</td>\n",
       "      <td>3</td>\n",
       "      <td>3</td>\n",
       "      <td>1</td>\n",
       "      <td>550</td>\n",
       "    </tr>\n",
       "  </tbody>\n",
       "</table>\n",
       "<p>548 rows × 11 columns</p>\n",
       "</div>"
      ],
      "text/plain": [
       "     Unnamed: 0  Isolated_platform_metric  Number_of_collision  \\\n",
       "547         547                  0.000000                    0   \n",
       "426         426                  0.000000                    0   \n",
       "332         332                  0.021759                    0   \n",
       "218         218                  0.000000                    0   \n",
       "105         105                  0.000000                    0   \n",
       "..          ...                       ...                  ...   \n",
       "53           53                  0.000000                    0   \n",
       "56           56                  0.000000                    0   \n",
       "55           55                  0.000000                    0   \n",
       "54           54                  0.000000                    0   \n",
       "44           44                  0.000000                    0   \n",
       "\n",
       "     Reaching_target  \\\n",
       "547             1.00   \n",
       "426             1.00   \n",
       "332             1.00   \n",
       "218             1.00   \n",
       "105             1.00   \n",
       "..               ...   \n",
       "53              0.50   \n",
       "56              0.75   \n",
       "55              1.00   \n",
       "54              1.00   \n",
       "44              1.00   \n",
       "\n",
       "     Mean minimum distance to target among all platforms in deg  \\\n",
       "547                                           0.000000            \n",
       "426                                           0.000000            \n",
       "332                                           0.000000            \n",
       "218                                           0.000000            \n",
       "105                                           0.000000            \n",
       "..                                                 ...            \n",
       "53                                            0.006600            \n",
       "56                                            0.000931            \n",
       "55                                            0.000000            \n",
       "54                                            0.000000            \n",
       "44                                            0.000000            \n",
       "\n",
       "     Mean maximum correction from optimal control degrees  Average Beta Index  \\\n",
       "547                                          10.403934               1.492718   \n",
       "426                                           8.973752               1.500000   \n",
       "332                                          16.015654               1.070388   \n",
       "218                                          23.109952               1.488211   \n",
       "105                                           6.288580               1.496186   \n",
       "..                                                 ...                    ...   \n",
       "53                                           22.882946               1.500000   \n",
       "56                                            6.194619               1.500000   \n",
       "55                                           63.464802               1.500000   \n",
       "54                                           22.030867               1.500000   \n",
       "44                                           12.453327               1.500000   \n",
       "\n",
       "     Initial maximum degree of the graph  Final maximum degree of the graph  \\\n",
       "547                                    3                                  3   \n",
       "426                                    3                                  3   \n",
       "332                                    2                                  3   \n",
       "218                                    3                                  3   \n",
       "105                                    3                                  3   \n",
       "..                                   ...                                ...   \n",
       "53                                     3                                  3   \n",
       "56                                     3                                  3   \n",
       "55                                     3                                  3   \n",
       "54                                     3                                  3   \n",
       "44                                     3                                  3   \n",
       "\n",
       "     Mission_success  mission_nr  \n",
       "547                1           0  \n",
       "426                1           1  \n",
       "332                0           2  \n",
       "218                1           3  \n",
       "105                1           4  \n",
       "..               ...         ...  \n",
       "53                 0         546  \n",
       "56                 0         547  \n",
       "55                 1         548  \n",
       "54                 1         549  \n",
       "44                 1         550  \n",
       "\n",
       "[548 rows x 11 columns]"
      ]
     },
     "execution_count": 56,
     "metadata": {},
     "output_type": "execute_result"
    }
   ],
   "source": [
    "metrics_hj_flocking"
   ]
  },
  {
   "cell_type": "code",
   "execution_count": 72,
   "metadata": {},
   "outputs": [],
   "source": [
    "metrics_hj_flocking.set_index('mission_nr', inplace=True)"
   ]
  },
  {
   "cell_type": "code",
   "execution_count": 73,
   "metadata": {},
   "outputs": [],
   "source": [
    "metrics_hj_naive.set_index('mission_nr', inplace=True)"
   ]
  },
  {
   "cell_type": "code",
   "execution_count": 54,
   "metadata": {},
   "outputs": [
    {
     "data": {
      "text/html": [
       "<div>\n",
       "<style scoped>\n",
       "    .dataframe tbody tr th:only-of-type {\n",
       "        vertical-align: middle;\n",
       "    }\n",
       "\n",
       "    .dataframe tbody tr th {\n",
       "        vertical-align: top;\n",
       "    }\n",
       "\n",
       "    .dataframe thead th {\n",
       "        text-align: right;\n",
       "    }\n",
       "</style>\n",
       "<table border=\"1\" class=\"dataframe\">\n",
       "  <thead>\n",
       "    <tr style=\"text-align: right;\">\n",
       "      <th></th>\n",
       "      <th>Unnamed: 0</th>\n",
       "      <th>Isolated_platform_metric</th>\n",
       "      <th>Number_of_collision</th>\n",
       "      <th>Reaching_target</th>\n",
       "      <th>Mean minimum distance to target among all platforms in deg</th>\n",
       "      <th>Mean maximum correction from optimal control degrees</th>\n",
       "      <th>Average Beta Index</th>\n",
       "      <th>Initial maximum degree of the graph</th>\n",
       "      <th>Final maximum degree of the graph</th>\n",
       "      <th>Mission_success</th>\n",
       "      <th>mission_nr</th>\n",
       "    </tr>\n",
       "  </thead>\n",
       "  <tbody>\n",
       "    <tr>\n",
       "      <th>15</th>\n",
       "      <td>15</td>\n",
       "      <td>0.0</td>\n",
       "      <td>0</td>\n",
       "      <td>1.00</td>\n",
       "      <td>0.00000</td>\n",
       "      <td>0.0</td>\n",
       "      <td>0.847087</td>\n",
       "      <td>2</td>\n",
       "      <td>3</td>\n",
       "      <td>1</td>\n",
       "      <td>84</td>\n",
       "    </tr>\n",
       "    <tr>\n",
       "      <th>48</th>\n",
       "      <td>48</td>\n",
       "      <td>0.0</td>\n",
       "      <td>0</td>\n",
       "      <td>1.00</td>\n",
       "      <td>0.00000</td>\n",
       "      <td>0.0</td>\n",
       "      <td>0.946949</td>\n",
       "      <td>2</td>\n",
       "      <td>3</td>\n",
       "      <td>1</td>\n",
       "      <td>58</td>\n",
       "    </tr>\n",
       "    <tr>\n",
       "      <th>85</th>\n",
       "      <td>85</td>\n",
       "      <td>0.0</td>\n",
       "      <td>0</td>\n",
       "      <td>0.75</td>\n",
       "      <td>0.00188</td>\n",
       "      <td>0.0</td>\n",
       "      <td>1.490291</td>\n",
       "      <td>3</td>\n",
       "      <td>3</td>\n",
       "      <td>0</td>\n",
       "      <td>517</td>\n",
       "    </tr>\n",
       "    <tr>\n",
       "      <th>190</th>\n",
       "      <td>190</td>\n",
       "      <td>0.0</td>\n",
       "      <td>0</td>\n",
       "      <td>1.00</td>\n",
       "      <td>0.00000</td>\n",
       "      <td>0.0</td>\n",
       "      <td>1.447295</td>\n",
       "      <td>3</td>\n",
       "      <td>3</td>\n",
       "      <td>1</td>\n",
       "      <td>425</td>\n",
       "    </tr>\n",
       "    <tr>\n",
       "      <th>258</th>\n",
       "      <td>258</td>\n",
       "      <td>0.0</td>\n",
       "      <td>0</td>\n",
       "      <td>1.00</td>\n",
       "      <td>0.00000</td>\n",
       "      <td>0.0</td>\n",
       "      <td>1.371706</td>\n",
       "      <td>3</td>\n",
       "      <td>3</td>\n",
       "      <td>1</td>\n",
       "      <td>357</td>\n",
       "    </tr>\n",
       "    <tr>\n",
       "      <th>333</th>\n",
       "      <td>333</td>\n",
       "      <td>0.0</td>\n",
       "      <td>0</td>\n",
       "      <td>1.00</td>\n",
       "      <td>0.00000</td>\n",
       "      <td>0.0</td>\n",
       "      <td>1.477809</td>\n",
       "      <td>3</td>\n",
       "      <td>3</td>\n",
       "      <td>1</td>\n",
       "      <td>292</td>\n",
       "    </tr>\n",
       "    <tr>\n",
       "      <th>351</th>\n",
       "      <td>351</td>\n",
       "      <td>0.0</td>\n",
       "      <td>0</td>\n",
       "      <td>1.00</td>\n",
       "      <td>0.00000</td>\n",
       "      <td>0.0</td>\n",
       "      <td>1.472261</td>\n",
       "      <td>3</td>\n",
       "      <td>3</td>\n",
       "      <td>1</td>\n",
       "      <td>282</td>\n",
       "    </tr>\n",
       "    <tr>\n",
       "      <th>393</th>\n",
       "      <td>393</td>\n",
       "      <td>0.0</td>\n",
       "      <td>0</td>\n",
       "      <td>1.00</td>\n",
       "      <td>0.00000</td>\n",
       "      <td>0.0</td>\n",
       "      <td>1.158807</td>\n",
       "      <td>3</td>\n",
       "      <td>3</td>\n",
       "      <td>1</td>\n",
       "      <td>243</td>\n",
       "    </tr>\n",
       "    <tr>\n",
       "      <th>395</th>\n",
       "      <td>395</td>\n",
       "      <td>0.0</td>\n",
       "      <td>0</td>\n",
       "      <td>1.00</td>\n",
       "      <td>0.00000</td>\n",
       "      <td>0.0</td>\n",
       "      <td>1.023232</td>\n",
       "      <td>3</td>\n",
       "      <td>3</td>\n",
       "      <td>1</td>\n",
       "      <td>261</td>\n",
       "    </tr>\n",
       "    <tr>\n",
       "      <th>487</th>\n",
       "      <td>487</td>\n",
       "      <td>0.0</td>\n",
       "      <td>0</td>\n",
       "      <td>1.00</td>\n",
       "      <td>0.00000</td>\n",
       "      <td>0.0</td>\n",
       "      <td>0.843620</td>\n",
       "      <td>3</td>\n",
       "      <td>3</td>\n",
       "      <td>1</td>\n",
       "      <td>142</td>\n",
       "    </tr>\n",
       "    <tr>\n",
       "      <th>496</th>\n",
       "      <td>496</td>\n",
       "      <td>0.0</td>\n",
       "      <td>0</td>\n",
       "      <td>1.00</td>\n",
       "      <td>0.00000</td>\n",
       "      <td>0.0</td>\n",
       "      <td>1.500000</td>\n",
       "      <td>3</td>\n",
       "      <td>3</td>\n",
       "      <td>1</td>\n",
       "      <td>152</td>\n",
       "    </tr>\n",
       "    <tr>\n",
       "      <th>501</th>\n",
       "      <td>501</td>\n",
       "      <td>0.0</td>\n",
       "      <td>0</td>\n",
       "      <td>1.00</td>\n",
       "      <td>0.00000</td>\n",
       "      <td>0.0</td>\n",
       "      <td>1.500000</td>\n",
       "      <td>3</td>\n",
       "      <td>3</td>\n",
       "      <td>1</td>\n",
       "      <td>132</td>\n",
       "    </tr>\n",
       "  </tbody>\n",
       "</table>\n",
       "</div>"
      ],
      "text/plain": [
       "     Unnamed: 0  Isolated_platform_metric  Number_of_collision  \\\n",
       "15           15                       0.0                    0   \n",
       "48           48                       0.0                    0   \n",
       "85           85                       0.0                    0   \n",
       "190         190                       0.0                    0   \n",
       "258         258                       0.0                    0   \n",
       "333         333                       0.0                    0   \n",
       "351         351                       0.0                    0   \n",
       "393         393                       0.0                    0   \n",
       "395         395                       0.0                    0   \n",
       "487         487                       0.0                    0   \n",
       "496         496                       0.0                    0   \n",
       "501         501                       0.0                    0   \n",
       "\n",
       "     Reaching_target  \\\n",
       "15              1.00   \n",
       "48              1.00   \n",
       "85              0.75   \n",
       "190             1.00   \n",
       "258             1.00   \n",
       "333             1.00   \n",
       "351             1.00   \n",
       "393             1.00   \n",
       "395             1.00   \n",
       "487             1.00   \n",
       "496             1.00   \n",
       "501             1.00   \n",
       "\n",
       "     Mean minimum distance to target among all platforms in deg  \\\n",
       "15                                             0.00000            \n",
       "48                                             0.00000            \n",
       "85                                             0.00188            \n",
       "190                                            0.00000            \n",
       "258                                            0.00000            \n",
       "333                                            0.00000            \n",
       "351                                            0.00000            \n",
       "393                                            0.00000            \n",
       "395                                            0.00000            \n",
       "487                                            0.00000            \n",
       "496                                            0.00000            \n",
       "501                                            0.00000            \n",
       "\n",
       "     Mean maximum correction from optimal control degrees  Average Beta Index  \\\n",
       "15                                                 0.0               0.847087   \n",
       "48                                                 0.0               0.946949   \n",
       "85                                                 0.0               1.490291   \n",
       "190                                                0.0               1.447295   \n",
       "258                                                0.0               1.371706   \n",
       "333                                                0.0               1.477809   \n",
       "351                                                0.0               1.472261   \n",
       "393                                                0.0               1.158807   \n",
       "395                                                0.0               1.023232   \n",
       "487                                                0.0               0.843620   \n",
       "496                                                0.0               1.500000   \n",
       "501                                                0.0               1.500000   \n",
       "\n",
       "     Initial maximum degree of the graph  Final maximum degree of the graph  \\\n",
       "15                                     2                                  3   \n",
       "48                                     2                                  3   \n",
       "85                                     3                                  3   \n",
       "190                                    3                                  3   \n",
       "258                                    3                                  3   \n",
       "333                                    3                                  3   \n",
       "351                                    3                                  3   \n",
       "393                                    3                                  3   \n",
       "395                                    3                                  3   \n",
       "487                                    3                                  3   \n",
       "496                                    3                                  3   \n",
       "501                                    3                                  3   \n",
       "\n",
       "     Mission_success  mission_nr  \n",
       "15                 1          84  \n",
       "48                 1          58  \n",
       "85                 0         517  \n",
       "190                1         425  \n",
       "258                1         357  \n",
       "333                1         292  \n",
       "351                1         282  \n",
       "393                1         243  \n",
       "395                1         261  \n",
       "487                1         142  \n",
       "496                1         152  \n",
       "501                1         132  "
      ]
     },
     "execution_count": 54,
     "metadata": {},
     "output_type": "execute_result"
    }
   ],
   "source": [
    "metrics_hj_naive.loc[idx_failed_flocking]"
   ]
  },
  {
   "cell_type": "code",
   "execution_count": 43,
   "metadata": {},
   "outputs": [
    {
     "ename": "KeyError",
     "evalue": "\"None of [Int64Index([15, 48, 85, 190, 258, 333, 351, 393, 395, 487, 496, 501], dtype='int64')] are in the [columns]\"",
     "output_type": "error",
     "traceback": [
      "\u001b[0;31m---------------------------------------------------------------------------\u001b[0m",
      "\u001b[0;31mKeyError\u001b[0m                                  Traceback (most recent call last)",
      "\u001b[1;32m/home/nicolas/documents/Master_Thesis_repo/OceanPlatformControl/scripts/nicolas/scripts_for_exp_runs/c3_multi_ag/inspect_metrics_from_csv.ipynb Cell 56\u001b[0m in \u001b[0;36m<cell line: 1>\u001b[0;34m()\u001b[0m\n\u001b[0;32m----> <a href='vscode-notebook-cell://wsl%2Bubuntu-20.04/home/nicolas/documents/Master_Thesis_repo/OceanPlatformControl/scripts/nicolas/scripts_for_exp_runs/c3_multi_ag/inspect_metrics_from_csv.ipynb#Y114sdnNjb2RlLXJlbW90ZQ%3D%3D?line=0'>1</a>\u001b[0m metrics_hj_flocking[idx_failed_flocking[\u001b[39m0\u001b[39;49m]]\n",
      "File \u001b[0;32m~/miniconda3/envs/ocean_minimal/lib/python3.9/site-packages/pandas/core/frame.py:3464\u001b[0m, in \u001b[0;36mDataFrame.__getitem__\u001b[0;34m(self, key)\u001b[0m\n\u001b[1;32m   3462\u001b[0m     \u001b[39mif\u001b[39;00m is_iterator(key):\n\u001b[1;32m   3463\u001b[0m         key \u001b[39m=\u001b[39m \u001b[39mlist\u001b[39m(key)\n\u001b[0;32m-> 3464\u001b[0m     indexer \u001b[39m=\u001b[39m \u001b[39mself\u001b[39;49m\u001b[39m.\u001b[39;49mloc\u001b[39m.\u001b[39;49m_get_listlike_indexer(key, axis\u001b[39m=\u001b[39;49m\u001b[39m1\u001b[39;49m)[\u001b[39m1\u001b[39m]\n\u001b[1;32m   3466\u001b[0m \u001b[39m# take() does not accept boolean indexers\u001b[39;00m\n\u001b[1;32m   3467\u001b[0m \u001b[39mif\u001b[39;00m \u001b[39mgetattr\u001b[39m(indexer, \u001b[39m\"\u001b[39m\u001b[39mdtype\u001b[39m\u001b[39m\"\u001b[39m, \u001b[39mNone\u001b[39;00m) \u001b[39m==\u001b[39m \u001b[39mbool\u001b[39m:\n",
      "File \u001b[0;32m~/miniconda3/envs/ocean_minimal/lib/python3.9/site-packages/pandas/core/indexing.py:1314\u001b[0m, in \u001b[0;36m_LocIndexer._get_listlike_indexer\u001b[0;34m(self, key, axis)\u001b[0m\n\u001b[1;32m   1311\u001b[0m \u001b[39melse\u001b[39;00m:\n\u001b[1;32m   1312\u001b[0m     keyarr, indexer, new_indexer \u001b[39m=\u001b[39m ax\u001b[39m.\u001b[39m_reindex_non_unique(keyarr)\n\u001b[0;32m-> 1314\u001b[0m \u001b[39mself\u001b[39;49m\u001b[39m.\u001b[39;49m_validate_read_indexer(keyarr, indexer, axis)\n\u001b[1;32m   1316\u001b[0m \u001b[39mif\u001b[39;00m needs_i8_conversion(ax\u001b[39m.\u001b[39mdtype) \u001b[39mor\u001b[39;00m \u001b[39misinstance\u001b[39m(\n\u001b[1;32m   1317\u001b[0m     ax, (IntervalIndex, CategoricalIndex)\n\u001b[1;32m   1318\u001b[0m ):\n\u001b[1;32m   1319\u001b[0m     \u001b[39m# For CategoricalIndex take instead of reindex to preserve dtype.\u001b[39;00m\n\u001b[1;32m   1320\u001b[0m     \u001b[39m#  For IntervalIndex this is to map integers to the Intervals they match to.\u001b[39;00m\n\u001b[1;32m   1321\u001b[0m     keyarr \u001b[39m=\u001b[39m ax\u001b[39m.\u001b[39mtake(indexer)\n",
      "File \u001b[0;32m~/miniconda3/envs/ocean_minimal/lib/python3.9/site-packages/pandas/core/indexing.py:1374\u001b[0m, in \u001b[0;36m_LocIndexer._validate_read_indexer\u001b[0;34m(self, key, indexer, axis)\u001b[0m\n\u001b[1;32m   1372\u001b[0m     \u001b[39mif\u001b[39;00m use_interval_msg:\n\u001b[1;32m   1373\u001b[0m         key \u001b[39m=\u001b[39m \u001b[39mlist\u001b[39m(key)\n\u001b[0;32m-> 1374\u001b[0m     \u001b[39mraise\u001b[39;00m \u001b[39mKeyError\u001b[39;00m(\u001b[39mf\u001b[39m\u001b[39m\"\u001b[39m\u001b[39mNone of [\u001b[39m\u001b[39m{\u001b[39;00mkey\u001b[39m}\u001b[39;00m\u001b[39m] are in the [\u001b[39m\u001b[39m{\u001b[39;00maxis_name\u001b[39m}\u001b[39;00m\u001b[39m]\u001b[39m\u001b[39m\"\u001b[39m)\n\u001b[1;32m   1376\u001b[0m not_found \u001b[39m=\u001b[39m \u001b[39mlist\u001b[39m(ensure_index(key)[missing_mask\u001b[39m.\u001b[39mnonzero()[\u001b[39m0\u001b[39m]]\u001b[39m.\u001b[39munique())\n\u001b[1;32m   1377\u001b[0m \u001b[39mraise\u001b[39;00m \u001b[39mKeyError\u001b[39;00m(\u001b[39mf\u001b[39m\u001b[39m\"\u001b[39m\u001b[39m{\u001b[39;00mnot_found\u001b[39m}\u001b[39;00m\u001b[39m not in index\u001b[39m\u001b[39m\"\u001b[39m)\n",
      "\u001b[0;31mKeyError\u001b[0m: \"None of [Int64Index([15, 48, 85, 190, 258, 333, 351, 393, 395, 487, 496, 501], dtype='int64')] are in the [columns]\""
     ]
    }
   ],
   "source": [
    "metrics_hj_flocking[idx_failed_flocking[0]]"
   ]
  },
  {
   "cell_type": "markdown",
   "metadata": {},
   "source": [
    "+  Missions success counts"
   ]
  },
  {
   "cell_type": "code",
   "execution_count": 27,
   "metadata": {},
   "outputs": [
    {
     "data": {
      "application/vnd.plotly.v1+json": {
       "config": {
        "plotlyServerURL": "https://plot.ly"
       },
       "data": [
        {
         "coloraxis": "coloraxis",
         "hovertemplate": "Multi-Agent HJ Flocking: %{x}<br>Multi-Agent HJ Naive: %{y}<br>color: %{z}<extra></extra>",
         "name": "0",
         "texttemplate": "%{z}",
         "type": "heatmap",
         "x": [
          false,
          true
         ],
         "xaxis": "x",
         "y": [
          false,
          true
         ],
         "yaxis": "y",
         "z": [
          [
           86,
           336
          ],
          [
           26,
           99
          ]
         ]
        }
       ],
       "layout": {
        "coloraxis": {
         "colorscale": [
          [
           0,
           "#0d0887"
          ],
          [
           0.1111111111111111,
           "#46039f"
          ],
          [
           0.2222222222222222,
           "#7201a8"
          ],
          [
           0.3333333333333333,
           "#9c179e"
          ],
          [
           0.4444444444444444,
           "#bd3786"
          ],
          [
           0.5555555555555556,
           "#d8576b"
          ],
          [
           0.6666666666666666,
           "#ed7953"
          ],
          [
           0.7777777777777778,
           "#fb9f3a"
          ],
          [
           0.8888888888888888,
           "#fdca26"
          ],
          [
           1,
           "#f0f921"
          ]
         ]
        },
        "margin": {
         "t": 60
        },
        "template": {
         "data": {
          "bar": [
           {
            "error_x": {
             "color": "#2a3f5f"
            },
            "error_y": {
             "color": "#2a3f5f"
            },
            "marker": {
             "line": {
              "color": "#E5ECF6",
              "width": 0.5
             },
             "pattern": {
              "fillmode": "overlay",
              "size": 10,
              "solidity": 0.2
             }
            },
            "type": "bar"
           }
          ],
          "barpolar": [
           {
            "marker": {
             "line": {
              "color": "#E5ECF6",
              "width": 0.5
             },
             "pattern": {
              "fillmode": "overlay",
              "size": 10,
              "solidity": 0.2
             }
            },
            "type": "barpolar"
           }
          ],
          "carpet": [
           {
            "aaxis": {
             "endlinecolor": "#2a3f5f",
             "gridcolor": "white",
             "linecolor": "white",
             "minorgridcolor": "white",
             "startlinecolor": "#2a3f5f"
            },
            "baxis": {
             "endlinecolor": "#2a3f5f",
             "gridcolor": "white",
             "linecolor": "white",
             "minorgridcolor": "white",
             "startlinecolor": "#2a3f5f"
            },
            "type": "carpet"
           }
          ],
          "choropleth": [
           {
            "colorbar": {
             "outlinewidth": 0,
             "ticks": ""
            },
            "type": "choropleth"
           }
          ],
          "contour": [
           {
            "colorbar": {
             "outlinewidth": 0,
             "ticks": ""
            },
            "colorscale": [
             [
              0,
              "#0d0887"
             ],
             [
              0.1111111111111111,
              "#46039f"
             ],
             [
              0.2222222222222222,
              "#7201a8"
             ],
             [
              0.3333333333333333,
              "#9c179e"
             ],
             [
              0.4444444444444444,
              "#bd3786"
             ],
             [
              0.5555555555555556,
              "#d8576b"
             ],
             [
              0.6666666666666666,
              "#ed7953"
             ],
             [
              0.7777777777777778,
              "#fb9f3a"
             ],
             [
              0.8888888888888888,
              "#fdca26"
             ],
             [
              1,
              "#f0f921"
             ]
            ],
            "type": "contour"
           }
          ],
          "contourcarpet": [
           {
            "colorbar": {
             "outlinewidth": 0,
             "ticks": ""
            },
            "type": "contourcarpet"
           }
          ],
          "heatmap": [
           {
            "colorbar": {
             "outlinewidth": 0,
             "ticks": ""
            },
            "colorscale": [
             [
              0,
              "#0d0887"
             ],
             [
              0.1111111111111111,
              "#46039f"
             ],
             [
              0.2222222222222222,
              "#7201a8"
             ],
             [
              0.3333333333333333,
              "#9c179e"
             ],
             [
              0.4444444444444444,
              "#bd3786"
             ],
             [
              0.5555555555555556,
              "#d8576b"
             ],
             [
              0.6666666666666666,
              "#ed7953"
             ],
             [
              0.7777777777777778,
              "#fb9f3a"
             ],
             [
              0.8888888888888888,
              "#fdca26"
             ],
             [
              1,
              "#f0f921"
             ]
            ],
            "type": "heatmap"
           }
          ],
          "heatmapgl": [
           {
            "colorbar": {
             "outlinewidth": 0,
             "ticks": ""
            },
            "colorscale": [
             [
              0,
              "#0d0887"
             ],
             [
              0.1111111111111111,
              "#46039f"
             ],
             [
              0.2222222222222222,
              "#7201a8"
             ],
             [
              0.3333333333333333,
              "#9c179e"
             ],
             [
              0.4444444444444444,
              "#bd3786"
             ],
             [
              0.5555555555555556,
              "#d8576b"
             ],
             [
              0.6666666666666666,
              "#ed7953"
             ],
             [
              0.7777777777777778,
              "#fb9f3a"
             ],
             [
              0.8888888888888888,
              "#fdca26"
             ],
             [
              1,
              "#f0f921"
             ]
            ],
            "type": "heatmapgl"
           }
          ],
          "histogram": [
           {
            "marker": {
             "pattern": {
              "fillmode": "overlay",
              "size": 10,
              "solidity": 0.2
             }
            },
            "type": "histogram"
           }
          ],
          "histogram2d": [
           {
            "colorbar": {
             "outlinewidth": 0,
             "ticks": ""
            },
            "colorscale": [
             [
              0,
              "#0d0887"
             ],
             [
              0.1111111111111111,
              "#46039f"
             ],
             [
              0.2222222222222222,
              "#7201a8"
             ],
             [
              0.3333333333333333,
              "#9c179e"
             ],
             [
              0.4444444444444444,
              "#bd3786"
             ],
             [
              0.5555555555555556,
              "#d8576b"
             ],
             [
              0.6666666666666666,
              "#ed7953"
             ],
             [
              0.7777777777777778,
              "#fb9f3a"
             ],
             [
              0.8888888888888888,
              "#fdca26"
             ],
             [
              1,
              "#f0f921"
             ]
            ],
            "type": "histogram2d"
           }
          ],
          "histogram2dcontour": [
           {
            "colorbar": {
             "outlinewidth": 0,
             "ticks": ""
            },
            "colorscale": [
             [
              0,
              "#0d0887"
             ],
             [
              0.1111111111111111,
              "#46039f"
             ],
             [
              0.2222222222222222,
              "#7201a8"
             ],
             [
              0.3333333333333333,
              "#9c179e"
             ],
             [
              0.4444444444444444,
              "#bd3786"
             ],
             [
              0.5555555555555556,
              "#d8576b"
             ],
             [
              0.6666666666666666,
              "#ed7953"
             ],
             [
              0.7777777777777778,
              "#fb9f3a"
             ],
             [
              0.8888888888888888,
              "#fdca26"
             ],
             [
              1,
              "#f0f921"
             ]
            ],
            "type": "histogram2dcontour"
           }
          ],
          "mesh3d": [
           {
            "colorbar": {
             "outlinewidth": 0,
             "ticks": ""
            },
            "type": "mesh3d"
           }
          ],
          "parcoords": [
           {
            "line": {
             "colorbar": {
              "outlinewidth": 0,
              "ticks": ""
             }
            },
            "type": "parcoords"
           }
          ],
          "pie": [
           {
            "automargin": true,
            "type": "pie"
           }
          ],
          "scatter": [
           {
            "fillpattern": {
             "fillmode": "overlay",
             "size": 10,
             "solidity": 0.2
            },
            "type": "scatter"
           }
          ],
          "scatter3d": [
           {
            "line": {
             "colorbar": {
              "outlinewidth": 0,
              "ticks": ""
             }
            },
            "marker": {
             "colorbar": {
              "outlinewidth": 0,
              "ticks": ""
             }
            },
            "type": "scatter3d"
           }
          ],
          "scattercarpet": [
           {
            "marker": {
             "colorbar": {
              "outlinewidth": 0,
              "ticks": ""
             }
            },
            "type": "scattercarpet"
           }
          ],
          "scattergeo": [
           {
            "marker": {
             "colorbar": {
              "outlinewidth": 0,
              "ticks": ""
             }
            },
            "type": "scattergeo"
           }
          ],
          "scattergl": [
           {
            "marker": {
             "colorbar": {
              "outlinewidth": 0,
              "ticks": ""
             }
            },
            "type": "scattergl"
           }
          ],
          "scattermapbox": [
           {
            "marker": {
             "colorbar": {
              "outlinewidth": 0,
              "ticks": ""
             }
            },
            "type": "scattermapbox"
           }
          ],
          "scatterpolar": [
           {
            "marker": {
             "colorbar": {
              "outlinewidth": 0,
              "ticks": ""
             }
            },
            "type": "scatterpolar"
           }
          ],
          "scatterpolargl": [
           {
            "marker": {
             "colorbar": {
              "outlinewidth": 0,
              "ticks": ""
             }
            },
            "type": "scatterpolargl"
           }
          ],
          "scatterternary": [
           {
            "marker": {
             "colorbar": {
              "outlinewidth": 0,
              "ticks": ""
             }
            },
            "type": "scatterternary"
           }
          ],
          "surface": [
           {
            "colorbar": {
             "outlinewidth": 0,
             "ticks": ""
            },
            "colorscale": [
             [
              0,
              "#0d0887"
             ],
             [
              0.1111111111111111,
              "#46039f"
             ],
             [
              0.2222222222222222,
              "#7201a8"
             ],
             [
              0.3333333333333333,
              "#9c179e"
             ],
             [
              0.4444444444444444,
              "#bd3786"
             ],
             [
              0.5555555555555556,
              "#d8576b"
             ],
             [
              0.6666666666666666,
              "#ed7953"
             ],
             [
              0.7777777777777778,
              "#fb9f3a"
             ],
             [
              0.8888888888888888,
              "#fdca26"
             ],
             [
              1,
              "#f0f921"
             ]
            ],
            "type": "surface"
           }
          ],
          "table": [
           {
            "cells": {
             "fill": {
              "color": "#EBF0F8"
             },
             "line": {
              "color": "white"
             }
            },
            "header": {
             "fill": {
              "color": "#C8D4E3"
             },
             "line": {
              "color": "white"
             }
            },
            "type": "table"
           }
          ]
         },
         "layout": {
          "annotationdefaults": {
           "arrowcolor": "#2a3f5f",
           "arrowhead": 0,
           "arrowwidth": 1
          },
          "autotypenumbers": "strict",
          "coloraxis": {
           "colorbar": {
            "outlinewidth": 0,
            "ticks": ""
           }
          },
          "colorscale": {
           "diverging": [
            [
             0,
             "#8e0152"
            ],
            [
             0.1,
             "#c51b7d"
            ],
            [
             0.2,
             "#de77ae"
            ],
            [
             0.3,
             "#f1b6da"
            ],
            [
             0.4,
             "#fde0ef"
            ],
            [
             0.5,
             "#f7f7f7"
            ],
            [
             0.6,
             "#e6f5d0"
            ],
            [
             0.7,
             "#b8e186"
            ],
            [
             0.8,
             "#7fbc41"
            ],
            [
             0.9,
             "#4d9221"
            ],
            [
             1,
             "#276419"
            ]
           ],
           "sequential": [
            [
             0,
             "#0d0887"
            ],
            [
             0.1111111111111111,
             "#46039f"
            ],
            [
             0.2222222222222222,
             "#7201a8"
            ],
            [
             0.3333333333333333,
             "#9c179e"
            ],
            [
             0.4444444444444444,
             "#bd3786"
            ],
            [
             0.5555555555555556,
             "#d8576b"
            ],
            [
             0.6666666666666666,
             "#ed7953"
            ],
            [
             0.7777777777777778,
             "#fb9f3a"
            ],
            [
             0.8888888888888888,
             "#fdca26"
            ],
            [
             1,
             "#f0f921"
            ]
           ],
           "sequentialminus": [
            [
             0,
             "#0d0887"
            ],
            [
             0.1111111111111111,
             "#46039f"
            ],
            [
             0.2222222222222222,
             "#7201a8"
            ],
            [
             0.3333333333333333,
             "#9c179e"
            ],
            [
             0.4444444444444444,
             "#bd3786"
            ],
            [
             0.5555555555555556,
             "#d8576b"
            ],
            [
             0.6666666666666666,
             "#ed7953"
            ],
            [
             0.7777777777777778,
             "#fb9f3a"
            ],
            [
             0.8888888888888888,
             "#fdca26"
            ],
            [
             1,
             "#f0f921"
            ]
           ]
          },
          "colorway": [
           "#636efa",
           "#EF553B",
           "#00cc96",
           "#ab63fa",
           "#FFA15A",
           "#19d3f3",
           "#FF6692",
           "#B6E880",
           "#FF97FF",
           "#FECB52"
          ],
          "font": {
           "color": "#2a3f5f"
          },
          "geo": {
           "bgcolor": "white",
           "lakecolor": "white",
           "landcolor": "#E5ECF6",
           "showlakes": true,
           "showland": true,
           "subunitcolor": "white"
          },
          "hoverlabel": {
           "align": "left"
          },
          "hovermode": "closest",
          "mapbox": {
           "style": "light"
          },
          "paper_bgcolor": "white",
          "plot_bgcolor": "#E5ECF6",
          "polar": {
           "angularaxis": {
            "gridcolor": "white",
            "linecolor": "white",
            "ticks": ""
           },
           "bgcolor": "#E5ECF6",
           "radialaxis": {
            "gridcolor": "white",
            "linecolor": "white",
            "ticks": ""
           }
          },
          "scene": {
           "xaxis": {
            "backgroundcolor": "#E5ECF6",
            "gridcolor": "white",
            "gridwidth": 2,
            "linecolor": "white",
            "showbackground": true,
            "ticks": "",
            "zerolinecolor": "white"
           },
           "yaxis": {
            "backgroundcolor": "#E5ECF6",
            "gridcolor": "white",
            "gridwidth": 2,
            "linecolor": "white",
            "showbackground": true,
            "ticks": "",
            "zerolinecolor": "white"
           },
           "zaxis": {
            "backgroundcolor": "#E5ECF6",
            "gridcolor": "white",
            "gridwidth": 2,
            "linecolor": "white",
            "showbackground": true,
            "ticks": "",
            "zerolinecolor": "white"
           }
          },
          "shapedefaults": {
           "line": {
            "color": "#2a3f5f"
           }
          },
          "ternary": {
           "aaxis": {
            "gridcolor": "white",
            "linecolor": "white",
            "ticks": ""
           },
           "baxis": {
            "gridcolor": "white",
            "linecolor": "white",
            "ticks": ""
           },
           "bgcolor": "#E5ECF6",
           "caxis": {
            "gridcolor": "white",
            "linecolor": "white",
            "ticks": ""
           }
          },
          "title": {
           "x": 0.05
          },
          "xaxis": {
           "automargin": true,
           "gridcolor": "white",
           "linecolor": "white",
           "ticks": "",
           "title": {
            "standoff": 15
           },
           "zerolinecolor": "white",
           "zerolinewidth": 2
          },
          "yaxis": {
           "automargin": true,
           "gridcolor": "white",
           "linecolor": "white",
           "ticks": "",
           "title": {
            "standoff": 15
           },
           "zerolinecolor": "white",
           "zerolinewidth": 2
          }
         }
        },
        "title": {
         "text": "Mission Success"
        },
        "xaxis": {
         "anchor": "y",
         "constrain": "domain",
         "domain": [
          0,
          1
         ],
         "scaleanchor": "y",
         "title": {
          "text": "Multi-Agent HJ Flocking"
         }
        },
        "yaxis": {
         "anchor": "x",
         "autorange": "reversed",
         "constrain": "domain",
         "domain": [
          0,
          1
         ],
         "title": {
          "text": "Multi-Agent HJ Naive"
         }
        }
       }
      },
      "text/html": [
       "<div>                            <div id=\"863ad1cd-6ecd-4401-8325-22d299351ccb\" class=\"plotly-graph-div\" style=\"height:525px; width:100%;\"></div>            <script type=\"text/javascript\">                require([\"plotly\"], function(Plotly) {                    window.PLOTLYENV=window.PLOTLYENV || {};                                    if (document.getElementById(\"863ad1cd-6ecd-4401-8325-22d299351ccb\")) {                    Plotly.newPlot(                        \"863ad1cd-6ecd-4401-8325-22d299351ccb\",                        [{\"coloraxis\":\"coloraxis\",\"name\":\"0\",\"texttemplate\":\"%{z}\",\"x\":[false,true],\"y\":[false,true],\"z\":[[86,336],[26,99]],\"type\":\"heatmap\",\"xaxis\":\"x\",\"yaxis\":\"y\",\"hovertemplate\":\"Multi-Agent HJ Flocking: %{x}<br>Multi-Agent HJ Naive: %{y}<br>color: %{z}<extra></extra>\"}],                        {\"template\":{\"data\":{\"histogram2dcontour\":[{\"type\":\"histogram2dcontour\",\"colorbar\":{\"outlinewidth\":0,\"ticks\":\"\"},\"colorscale\":[[0.0,\"#0d0887\"],[0.1111111111111111,\"#46039f\"],[0.2222222222222222,\"#7201a8\"],[0.3333333333333333,\"#9c179e\"],[0.4444444444444444,\"#bd3786\"],[0.5555555555555556,\"#d8576b\"],[0.6666666666666666,\"#ed7953\"],[0.7777777777777778,\"#fb9f3a\"],[0.8888888888888888,\"#fdca26\"],[1.0,\"#f0f921\"]]}],\"choropleth\":[{\"type\":\"choropleth\",\"colorbar\":{\"outlinewidth\":0,\"ticks\":\"\"}}],\"histogram2d\":[{\"type\":\"histogram2d\",\"colorbar\":{\"outlinewidth\":0,\"ticks\":\"\"},\"colorscale\":[[0.0,\"#0d0887\"],[0.1111111111111111,\"#46039f\"],[0.2222222222222222,\"#7201a8\"],[0.3333333333333333,\"#9c179e\"],[0.4444444444444444,\"#bd3786\"],[0.5555555555555556,\"#d8576b\"],[0.6666666666666666,\"#ed7953\"],[0.7777777777777778,\"#fb9f3a\"],[0.8888888888888888,\"#fdca26\"],[1.0,\"#f0f921\"]]}],\"heatmap\":[{\"type\":\"heatmap\",\"colorbar\":{\"outlinewidth\":0,\"ticks\":\"\"},\"colorscale\":[[0.0,\"#0d0887\"],[0.1111111111111111,\"#46039f\"],[0.2222222222222222,\"#7201a8\"],[0.3333333333333333,\"#9c179e\"],[0.4444444444444444,\"#bd3786\"],[0.5555555555555556,\"#d8576b\"],[0.6666666666666666,\"#ed7953\"],[0.7777777777777778,\"#fb9f3a\"],[0.8888888888888888,\"#fdca26\"],[1.0,\"#f0f921\"]]}],\"heatmapgl\":[{\"type\":\"heatmapgl\",\"colorbar\":{\"outlinewidth\":0,\"ticks\":\"\"},\"colorscale\":[[0.0,\"#0d0887\"],[0.1111111111111111,\"#46039f\"],[0.2222222222222222,\"#7201a8\"],[0.3333333333333333,\"#9c179e\"],[0.4444444444444444,\"#bd3786\"],[0.5555555555555556,\"#d8576b\"],[0.6666666666666666,\"#ed7953\"],[0.7777777777777778,\"#fb9f3a\"],[0.8888888888888888,\"#fdca26\"],[1.0,\"#f0f921\"]]}],\"contourcarpet\":[{\"type\":\"contourcarpet\",\"colorbar\":{\"outlinewidth\":0,\"ticks\":\"\"}}],\"contour\":[{\"type\":\"contour\",\"colorbar\":{\"outlinewidth\":0,\"ticks\":\"\"},\"colorscale\":[[0.0,\"#0d0887\"],[0.1111111111111111,\"#46039f\"],[0.2222222222222222,\"#7201a8\"],[0.3333333333333333,\"#9c179e\"],[0.4444444444444444,\"#bd3786\"],[0.5555555555555556,\"#d8576b\"],[0.6666666666666666,\"#ed7953\"],[0.7777777777777778,\"#fb9f3a\"],[0.8888888888888888,\"#fdca26\"],[1.0,\"#f0f921\"]]}],\"surface\":[{\"type\":\"surface\",\"colorbar\":{\"outlinewidth\":0,\"ticks\":\"\"},\"colorscale\":[[0.0,\"#0d0887\"],[0.1111111111111111,\"#46039f\"],[0.2222222222222222,\"#7201a8\"],[0.3333333333333333,\"#9c179e\"],[0.4444444444444444,\"#bd3786\"],[0.5555555555555556,\"#d8576b\"],[0.6666666666666666,\"#ed7953\"],[0.7777777777777778,\"#fb9f3a\"],[0.8888888888888888,\"#fdca26\"],[1.0,\"#f0f921\"]]}],\"mesh3d\":[{\"type\":\"mesh3d\",\"colorbar\":{\"outlinewidth\":0,\"ticks\":\"\"}}],\"scatter\":[{\"fillpattern\":{\"fillmode\":\"overlay\",\"size\":10,\"solidity\":0.2},\"type\":\"scatter\"}],\"parcoords\":[{\"type\":\"parcoords\",\"line\":{\"colorbar\":{\"outlinewidth\":0,\"ticks\":\"\"}}}],\"scatterpolargl\":[{\"type\":\"scatterpolargl\",\"marker\":{\"colorbar\":{\"outlinewidth\":0,\"ticks\":\"\"}}}],\"bar\":[{\"error_x\":{\"color\":\"#2a3f5f\"},\"error_y\":{\"color\":\"#2a3f5f\"},\"marker\":{\"line\":{\"color\":\"#E5ECF6\",\"width\":0.5},\"pattern\":{\"fillmode\":\"overlay\",\"size\":10,\"solidity\":0.2}},\"type\":\"bar\"}],\"scattergeo\":[{\"type\":\"scattergeo\",\"marker\":{\"colorbar\":{\"outlinewidth\":0,\"ticks\":\"\"}}}],\"scatterpolar\":[{\"type\":\"scatterpolar\",\"marker\":{\"colorbar\":{\"outlinewidth\":0,\"ticks\":\"\"}}}],\"histogram\":[{\"marker\":{\"pattern\":{\"fillmode\":\"overlay\",\"size\":10,\"solidity\":0.2}},\"type\":\"histogram\"}],\"scattergl\":[{\"type\":\"scattergl\",\"marker\":{\"colorbar\":{\"outlinewidth\":0,\"ticks\":\"\"}}}],\"scatter3d\":[{\"type\":\"scatter3d\",\"line\":{\"colorbar\":{\"outlinewidth\":0,\"ticks\":\"\"}},\"marker\":{\"colorbar\":{\"outlinewidth\":0,\"ticks\":\"\"}}}],\"scattermapbox\":[{\"type\":\"scattermapbox\",\"marker\":{\"colorbar\":{\"outlinewidth\":0,\"ticks\":\"\"}}}],\"scatterternary\":[{\"type\":\"scatterternary\",\"marker\":{\"colorbar\":{\"outlinewidth\":0,\"ticks\":\"\"}}}],\"scattercarpet\":[{\"type\":\"scattercarpet\",\"marker\":{\"colorbar\":{\"outlinewidth\":0,\"ticks\":\"\"}}}],\"carpet\":[{\"aaxis\":{\"endlinecolor\":\"#2a3f5f\",\"gridcolor\":\"white\",\"linecolor\":\"white\",\"minorgridcolor\":\"white\",\"startlinecolor\":\"#2a3f5f\"},\"baxis\":{\"endlinecolor\":\"#2a3f5f\",\"gridcolor\":\"white\",\"linecolor\":\"white\",\"minorgridcolor\":\"white\",\"startlinecolor\":\"#2a3f5f\"},\"type\":\"carpet\"}],\"table\":[{\"cells\":{\"fill\":{\"color\":\"#EBF0F8\"},\"line\":{\"color\":\"white\"}},\"header\":{\"fill\":{\"color\":\"#C8D4E3\"},\"line\":{\"color\":\"white\"}},\"type\":\"table\"}],\"barpolar\":[{\"marker\":{\"line\":{\"color\":\"#E5ECF6\",\"width\":0.5},\"pattern\":{\"fillmode\":\"overlay\",\"size\":10,\"solidity\":0.2}},\"type\":\"barpolar\"}],\"pie\":[{\"automargin\":true,\"type\":\"pie\"}]},\"layout\":{\"autotypenumbers\":\"strict\",\"colorway\":[\"#636efa\",\"#EF553B\",\"#00cc96\",\"#ab63fa\",\"#FFA15A\",\"#19d3f3\",\"#FF6692\",\"#B6E880\",\"#FF97FF\",\"#FECB52\"],\"font\":{\"color\":\"#2a3f5f\"},\"hovermode\":\"closest\",\"hoverlabel\":{\"align\":\"left\"},\"paper_bgcolor\":\"white\",\"plot_bgcolor\":\"#E5ECF6\",\"polar\":{\"bgcolor\":\"#E5ECF6\",\"angularaxis\":{\"gridcolor\":\"white\",\"linecolor\":\"white\",\"ticks\":\"\"},\"radialaxis\":{\"gridcolor\":\"white\",\"linecolor\":\"white\",\"ticks\":\"\"}},\"ternary\":{\"bgcolor\":\"#E5ECF6\",\"aaxis\":{\"gridcolor\":\"white\",\"linecolor\":\"white\",\"ticks\":\"\"},\"baxis\":{\"gridcolor\":\"white\",\"linecolor\":\"white\",\"ticks\":\"\"},\"caxis\":{\"gridcolor\":\"white\",\"linecolor\":\"white\",\"ticks\":\"\"}},\"coloraxis\":{\"colorbar\":{\"outlinewidth\":0,\"ticks\":\"\"}},\"colorscale\":{\"sequential\":[[0.0,\"#0d0887\"],[0.1111111111111111,\"#46039f\"],[0.2222222222222222,\"#7201a8\"],[0.3333333333333333,\"#9c179e\"],[0.4444444444444444,\"#bd3786\"],[0.5555555555555556,\"#d8576b\"],[0.6666666666666666,\"#ed7953\"],[0.7777777777777778,\"#fb9f3a\"],[0.8888888888888888,\"#fdca26\"],[1.0,\"#f0f921\"]],\"sequentialminus\":[[0.0,\"#0d0887\"],[0.1111111111111111,\"#46039f\"],[0.2222222222222222,\"#7201a8\"],[0.3333333333333333,\"#9c179e\"],[0.4444444444444444,\"#bd3786\"],[0.5555555555555556,\"#d8576b\"],[0.6666666666666666,\"#ed7953\"],[0.7777777777777778,\"#fb9f3a\"],[0.8888888888888888,\"#fdca26\"],[1.0,\"#f0f921\"]],\"diverging\":[[0,\"#8e0152\"],[0.1,\"#c51b7d\"],[0.2,\"#de77ae\"],[0.3,\"#f1b6da\"],[0.4,\"#fde0ef\"],[0.5,\"#f7f7f7\"],[0.6,\"#e6f5d0\"],[0.7,\"#b8e186\"],[0.8,\"#7fbc41\"],[0.9,\"#4d9221\"],[1,\"#276419\"]]},\"xaxis\":{\"gridcolor\":\"white\",\"linecolor\":\"white\",\"ticks\":\"\",\"title\":{\"standoff\":15},\"zerolinecolor\":\"white\",\"automargin\":true,\"zerolinewidth\":2},\"yaxis\":{\"gridcolor\":\"white\",\"linecolor\":\"white\",\"ticks\":\"\",\"title\":{\"standoff\":15},\"zerolinecolor\":\"white\",\"automargin\":true,\"zerolinewidth\":2},\"scene\":{\"xaxis\":{\"backgroundcolor\":\"#E5ECF6\",\"gridcolor\":\"white\",\"linecolor\":\"white\",\"showbackground\":true,\"ticks\":\"\",\"zerolinecolor\":\"white\",\"gridwidth\":2},\"yaxis\":{\"backgroundcolor\":\"#E5ECF6\",\"gridcolor\":\"white\",\"linecolor\":\"white\",\"showbackground\":true,\"ticks\":\"\",\"zerolinecolor\":\"white\",\"gridwidth\":2},\"zaxis\":{\"backgroundcolor\":\"#E5ECF6\",\"gridcolor\":\"white\",\"linecolor\":\"white\",\"showbackground\":true,\"ticks\":\"\",\"zerolinecolor\":\"white\",\"gridwidth\":2}},\"shapedefaults\":{\"line\":{\"color\":\"#2a3f5f\"}},\"annotationdefaults\":{\"arrowcolor\":\"#2a3f5f\",\"arrowhead\":0,\"arrowwidth\":1},\"geo\":{\"bgcolor\":\"white\",\"landcolor\":\"#E5ECF6\",\"subunitcolor\":\"white\",\"showland\":true,\"showlakes\":true,\"lakecolor\":\"white\"},\"title\":{\"x\":0.05},\"mapbox\":{\"style\":\"light\"}}},\"xaxis\":{\"anchor\":\"y\",\"domain\":[0.0,1.0],\"scaleanchor\":\"y\",\"constrain\":\"domain\",\"title\":{\"text\":\"Multi-Agent HJ Flocking\"}},\"yaxis\":{\"anchor\":\"x\",\"domain\":[0.0,1.0],\"autorange\":\"reversed\",\"constrain\":\"domain\",\"title\":{\"text\":\"Multi-Agent HJ Naive\"}},\"coloraxis\":{\"colorscale\":[[0.0,\"#0d0887\"],[0.1111111111111111,\"#46039f\"],[0.2222222222222222,\"#7201a8\"],[0.3333333333333333,\"#9c179e\"],[0.4444444444444444,\"#bd3786\"],[0.5555555555555556,\"#d8576b\"],[0.6666666666666666,\"#ed7953\"],[0.7777777777777778,\"#fb9f3a\"],[0.8888888888888888,\"#fdca26\"],[1.0,\"#f0f921\"]]},\"margin\":{\"t\":60},\"title\":{\"text\":\"Mission Success\"}},                        {\"responsive\": true}                    ).then(function(){\n",
       "                            \n",
       "var gd = document.getElementById('863ad1cd-6ecd-4401-8325-22d299351ccb');\n",
       "var x = new MutationObserver(function (mutations, observer) {{\n",
       "        var display = window.getComputedStyle(gd).display;\n",
       "        if (!display || display === 'none') {{\n",
       "            console.log([gd, 'removed!']);\n",
       "            Plotly.purge(gd);\n",
       "            observer.disconnect();\n",
       "        }}\n",
       "}});\n",
       "\n",
       "// Listen for the removal of the full notebook cells\n",
       "var notebookContainer = gd.closest('#notebook-container');\n",
       "if (notebookContainer) {{\n",
       "    x.observe(notebookContainer, {childList: true});\n",
       "}}\n",
       "\n",
       "// Listen for the clearing of the current output cell\n",
       "var outputEl = gd.closest('.output');\n",
       "if (outputEl) {{\n",
       "    x.observe(outputEl, {childList: true});\n",
       "}}\n",
       "\n",
       "                        })                };                });            </script>        </div>"
      ]
     },
     "metadata": {},
     "output_type": "display_data"
    }
   ],
   "source": [
    "fig_flocking_success = plot_confusion_matrix(metrics_hj_naive[\"Mission_success\"]==1, \n",
    "                        metrics_hj_flocking[\"Mission_success\"]==1, 'Multi-Agent HJ Naive', \n",
    "                        'Multi-Agent HJ Flocking', title_name=\"Mission Success\")"
   ]
  },
  {
   "attachments": {},
   "cell_type": "markdown",
   "metadata": {},
   "source": [
    "## Log Data in WandB"
   ]
  },
  {
   "cell_type": "code",
   "execution_count": 28,
   "metadata": {},
   "outputs": [],
   "source": [
    "import wandb"
   ]
  },
  {
   "cell_type": "code",
   "execution_count": 29,
   "metadata": {},
   "outputs": [
    {
     "name": "stderr",
     "output_type": "stream",
     "text": [
      "ERROR:wandb.jupyter:Failed to detect the name of this notebook, you can set it manually with the WANDB_NOTEBOOK_NAME environment variable to enable code saving.\n",
      "\u001b[34m\u001b[1mwandb\u001b[0m: Currently logged in as: \u001b[33mnhoischen\u001b[0m. Use \u001b[1m`wandb login --relogin`\u001b[0m to force relogin\n"
     ]
    },
    {
     "data": {
      "text/html": [
       "wandb version 0.13.10 is available!  To upgrade, please run:\n",
       " $ pip install wandb --upgrade"
      ],
      "text/plain": [
       "<IPython.core.display.HTML object>"
      ]
     },
     "metadata": {},
     "output_type": "display_data"
    },
    {
     "data": {
      "text/html": [
       "Tracking run with wandb version 0.13.7"
      ],
      "text/plain": [
       "<IPython.core.display.HTML object>"
      ]
     },
     "metadata": {},
     "output_type": "display_data"
    },
    {
     "data": {
      "text/html": [
       "Run data is saved locally in <code>/home/nicolas/documents/Master_Thesis_repo/OceanPlatformControl/wandb/run-20230212_175149-1spcbn2u</code>"
      ],
      "text/plain": [
       "<IPython.core.display.HTML object>"
      ]
     },
     "metadata": {},
     "output_type": "display_data"
    },
    {
     "data": {
      "text/html": [
       "Syncing run <strong><a href=\"https://wandb.ai/nhoischen/Master_Thesis_Run_summaries/runs/1spcbn2u\" target=\"_blank\">HC_HC_GOM_4_platforms</a></strong> to <a href=\"https://wandb.ai/nhoischen/Master_Thesis_Run_summaries\" target=\"_blank\">Weights & Biases</a> (<a href=\"https://wandb.me/run\" target=\"_blank\">docs</a>)<br/>"
      ],
      "text/plain": [
       "<IPython.core.display.HTML object>"
      ]
     },
     "metadata": {},
     "output_type": "display_data"
    },
    {
     "data": {
      "text/html": [
       "Waiting for W&B process to finish... <strong style=\"color:green\">(success).</strong>"
      ],
      "text/plain": [
       "<IPython.core.display.HTML object>"
      ]
     },
     "metadata": {},
     "output_type": "display_data"
    },
    {
     "data": {
      "text/html": [
       "Synced <strong style=\"color:#cdcd00\">HC_HC_GOM_4_platforms</strong>: <a href=\"https://wandb.ai/nhoischen/Master_Thesis_Run_summaries/runs/1spcbn2u\" target=\"_blank\">https://wandb.ai/nhoischen/Master_Thesis_Run_summaries/runs/1spcbn2u</a><br/>Synced 5 W&B file(s), 13 media file(s), 1 artifact file(s) and 0 other file(s)"
      ],
      "text/plain": [
       "<IPython.core.display.HTML object>"
      ]
     },
     "metadata": {},
     "output_type": "display_data"
    },
    {
     "data": {
      "text/html": [
       "Find logs at: <code>./wandb/run-20230212_175149-1spcbn2u/logs</code>"
      ],
      "text/plain": [
       "<IPython.core.display.HTML object>"
      ]
     },
     "metadata": {},
     "output_type": "display_data"
    }
   ],
   "source": [
    "# Log metrics in WandB\n",
    "os.environ[\"WANDB_API_KEY\"] = \"1f19232e6ccc9981a8a972bee18ba31a94644835\"\n",
    "\n",
    "wandb.init(\n",
    "    # Set the project where this run will be logged\n",
    "    project=\"Master_Thesis_Run_Summaries\",\n",
    "    # We pass a run name (otherwise it’ll be randomly assigned, like sunshine-lollypop-10)\n",
    "    name=f\"HC_HC_GOM_4_platforms\",\n",
    "    # Track hyperparameters and run metadata\n",
    "    config={\n",
    "        \"Number of infeasible missions\": len(non_feas_idx),\n",
    "        \"Percentage of infeasible missions\": ratio_non_feas_miss,\n",
    "        \"Number of missions feasible\": len(metrics_hj_naive),\n",
    "    },\n",
    "    entity=\"nhoischen\",\n",
    ")\n",
    "wandb.log({\"Metrics_Summary\": wandb.Table(dataframe=pd.concat([summary_hj_naive_df, summary_hj_naive_reactive, summary_hj_naive_flocking]))},\n",
    "            commit=False)\n",
    "wandb.log({'Beta Index': fig_beta,\n",
    "          'Time-Integral-over-Isolated-Platforms': fig_ipm,\n",
    "          'Platforms-Mean-Min-Distance-to-Target': fig_min_dist,\n",
    "           'Deviation-from-Cptimal-Ctrl-Direction': fig_opt_ctrl_correction,\n",
    "            },\n",
    "           commit=False)\n",
    "wandb.log({'Missions with collisions hj-reactive': fig_conf_react_coll,\n",
    "         'Missions with collisions hj-flocking': fig_conf_flocking_coll,\n",
    "         'Missions with communication losses hj-reactive': fig_conf_react_comm_loss,\n",
    "         'Missions with communication losses hj-flocking': fig_conf_flocking_comm_loss,\n",
    "         'Missions with maintained connectivity and no collisions hj-reactive': fig_react_maint,\n",
    "         'Missions with maintained connectivity and no collisions hj-flocking': fig_flocking_maint,\n",
    "         'Succesfull Missions hj-reactive': fig_react_success,\n",
    "         'Succesfull Missions hj-flocking': fig_flocking_success}, commit=True)\n",
    "wandb.finish()"
   ]
  }
 ],
 "metadata": {
  "kernelspec": {
   "display_name": "ocean_minimal",
   "language": "python",
   "name": "python3"
  },
  "language_info": {
   "codemirror_mode": {
    "name": "ipython",
    "version": 3
   },
   "file_extension": ".py",
   "mimetype": "text/x-python",
   "name": "python",
   "nbconvert_exporter": "python",
   "pygments_lexer": "ipython3",
   "version": "3.9.13"
  },
  "orig_nbformat": 4,
  "vscode": {
   "interpreter": {
    "hash": "9ed4b5c9df27747f3a2313a7b45e2dcb31384957b3c889e68300f490f3475319"
   }
  }
 },
 "nbformat": 4,
 "nbformat_minor": 2
}
