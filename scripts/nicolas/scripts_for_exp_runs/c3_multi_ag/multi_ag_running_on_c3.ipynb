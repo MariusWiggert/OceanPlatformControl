{
 "cells": [
  {
   "cell_type": "code",
   "execution_count": 1,
   "metadata": {},
   "outputs": [],
   "source": [
    "from ocean_navigation_simulator.utils.misc import get_c3\n",
    "import os\n",
    "%load_ext autoreload\n",
    "%autoreload 2"
   ]
  },
  {
   "cell_type": "code",
   "execution_count": 2,
   "metadata": {},
   "outputs": [
    {
     "name": "stdout",
     "output_type": "stream",
     "text": [
      "Starting to connect to c3\n"
     ]
    }
   ],
   "source": [
    "c3 = get_c3()"
   ]
  },
  {
   "cell_type": "code",
   "execution_count": 6,
   "metadata": {},
   "outputs": [
    {
     "data": {
      "text/plain": [
       "c3.Experiment(\n",
       " id='30_platforms_HC_HC',\n",
       " meta=c3.Meta(\n",
       "        tenantTagId=32,\n",
       "        tenant='seaweed-control',\n",
       "        tag='devseaweedrc1',\n",
       "        created=datetime.datetime(2023, 3, 9, 0, 22, 39, tzinfo=datetime.timezone.utc),\n",
       "        createdBy='mariuswiggert@berkeley.edu',\n",
       "        updated=datetime.datetime(2023, 3, 9, 0, 22, 39, tzinfo=datetime.timezone.utc),\n",
       "        updatedBy='mariuswiggert@berkeley.edu',\n",
       "        timestamp=datetime.datetime(2023, 3, 9, 0, 22, 39, tzinfo=datetime.timezone.utc),\n",
       "        fetchInclude='[]',\n",
       "        fetchType='Experiment'),\n",
       " version=1,\n",
       " experimentName='30_platforms_HC_HC',\n",
       " description='multi agent',\n",
       " arenaConfig={'casadi_cache_dict': {'deg_around_x_t': 2.0,\n",
       "                                     'time_around_x_t': 432000},\n",
       "               'multi_agent_constraints': {'collision_thrsld': 0.2,\n",
       "                                           'communication_thrsld': 9,\n",
       "                                           'epsilon_margin': 1,\n",
       "                                           'unit': 'km'},\n",
       "               'ocean_dict': {'forecast': None,\n",
       "                              'hindcast': {'field': 'OceanCurrents',\n",
       "                                           'source': 'hindcast_files',\n",
       "                                           'source_settings': {'currents': 'total',\n",
       "                                                               'folder': 'data/miss_gen_hindcast/',\n",
       "                                                               'local': False,\n",
       "                                                               'region': 'GOM',\n",
       "                                                               'source': 'HYCOM',\n",
       "                                                               'type': 'hindcast'}}},\n",
       "               'platform_dict': {'battery_cap_in_wh': 400.0,\n",
       "                                 'drag_factor': 675.0,\n",
       "                                 'dt_in_s': 600.0,\n",
       "                                 'motor_efficiency': 1.0,\n",
       "                                 'solar_efficiency': 0.2,\n",
       "                                 'solar_panel_size': 0.5,\n",
       "                                 'u_max_in_mps': 0.1},\n",
       "               'spatial_boundary': None,\n",
       "               'use_geographic_coordinate_system': True},\n",
       " timeout_in_sec=518400,\n",
       " objectiveConfig={'type': 'nav'})"
      ]
     },
     "execution_count": 6,
     "metadata": {},
     "output_type": "execute_result"
    }
   ],
   "source": [
    "experiment_name = \"30_platforms_HC_HC\"\n",
    "exp = c3.Experiment.get(experiment_name)\n",
    "exp\n",
    "#exp.remove()"
   ]
  },
  {
   "attachments": {},
   "cell_type": "markdown",
   "metadata": {},
   "source": [
    "# Set up the experiments"
   ]
  },
  {
   "cell_type": "code",
   "execution_count": 4,
   "metadata": {},
   "outputs": [],
   "source": [
    "timeout_sim_h = 6*24 # 6 days"
   ]
  },
  {
   "cell_type": "code",
   "execution_count": 5,
   "metadata": {},
   "outputs": [],
   "source": [
    "arena_config = {\n",
    "    \"casadi_cache_dict\": {\"deg_around_x_t\": 2.0, \"time_around_x_t\": 432000},\n",
    "    \"platform_dict\": {\n",
    "        \"battery_cap_in_wh\": 400.0,\n",
    "        \"u_max_in_mps\": 0.1,\n",
    "        \"motor_efficiency\": 1.0,\n",
    "        \"solar_panel_size\": 0.5,\n",
    "        \"solar_efficiency\": 0.2,\n",
    "        \"drag_factor\": 675.0,\n",
    "        \"dt_in_s\": 600.0,\n",
    "    },\n",
    "    \"use_geographic_coordinate_system\": True,\n",
    "    \"spatial_boundary\": None,\n",
    "    \"ocean_dict\": {\n",
    "        \"hindcast\": {\n",
    "            \"field\": \"OceanCurrents\",\n",
    "            \"source\": \"hindcast_files\",\n",
    "            \"source_settings\": {\n",
    "                \"folder\": \"data/miss_gen_hindcast/\",\n",
    "                \"local\": False,\n",
    "                \"source\": \"HYCOM\",\n",
    "                \"type\": \"hindcast\",\n",
    "                \"currents\": \"total\",\n",
    "                \"region\": \"GOM\",\n",
    "            },\n",
    "        },\n",
    "        \"forecast\": None, #{\n",
    "        #     \"field\": \"OceanCurrents\",\n",
    "        #     \"source\": \"forecast_files\",\n",
    "        #     \"source_settings\": {\n",
    "        #         \"folder\": \"data/miss_gen_forecast/\",\n",
    "        #         \"local\": False,\n",
    "        #         \"source\": \"Copernicus\",\n",
    "        #         \"type\": \"forecast\",\n",
    "        #         \"currents\": \"total\",\n",
    "        #         \"region\": \"GOM\"\n",
    "        #     },\n",
    "        # },\n",
    "    },\n",
    "    \"multi_agent_constraints\": {\n",
    "        \"unit\": \"km\",\n",
    "        \"communication_thrsld\": 9,\n",
    "        \"epsilon_margin\": 1,  # when add edges based on hysteresis\n",
    "        \"collision_thrsld\": 0.2,\n",
    "    },\n",
    "}\n",
    "objectiveConfig = {'type': \"nav\"}"
   ]
  },
  {
   "cell_type": "code",
   "execution_count": 6,
   "metadata": {},
   "outputs": [],
   "source": [
    "# create Experiment\n",
    "exp = c3.Experiment.createNew(\n",
    "    name = experiment_name,\n",
    "    description = \"multi agent\",\n",
    "    arenaConfig = arena_config,\n",
    "    objectiveConfig= objectiveConfig,\n",
    "    timeout_in_sec=3600*timeout_sim_h, \n",
    ")"
   ]
  },
  {
   "attachments": {},
   "cell_type": "markdown",
   "metadata": {},
   "source": [
    "# Set up generate batch job"
   ]
  },
  {
   "attachments": {},
   "cell_type": "markdown",
   "metadata": {},
   "source": [
    "## Set up and run mission generation"
   ]
  },
  {
   "cell_type": "code",
   "execution_count": null,
   "metadata": {},
   "outputs": [],
   "source": [
    "import datetime\n",
    "missGenBatchConfig = {\n",
    "    ##### Target Sampling #####\n",
    "    # HYCOM HC: lon [-98.0,-76.4000244140625], lat[18.1200008392334,31.92000007629394]\n",
    "    # Copernicus FC: lon: [-98.0, -76.416664], lat: [18.083334, 30.0]\n",
    "    # Combined: [-98.0, -76.416664], [18.1200008392334, 30.0]\n",
    "    \"x_range\": [-96, -78],\n",
    "    \"y_range\": [20, 29],\n",
    "    # \"x_range\": [-160, -105],\n",
    "    # \"y_range\": [15, 40],\n",
    "    \"t_range\": [  # ['2022-08-01T00:00:00+00:00', '2022-08-30T00:00:00+00:00'],\n",
    "        # Copernicus FC: 2022-04 until today, HYCOM Hindcast: 2021-09 until today\n",
    "        datetime.datetime(year=2022, month=4, day=1, tzinfo=datetime.timezone.utc),\n",
    "        datetime.datetime(year=2022, month=12, day=30, tzinfo=datetime.timezone.utc),\n",
    "    ],\n",
    "    \"problem_timeout_in_h\": timeout_sim_h, #to be considered as feasible\n",
    "    \"target_distance_from_land\": 1.2,\n",
    "    \"problem_target_radius\": 0.25,\n",
    "    ##### HJ Planner #####\n",
    "    \"hj_specific_settings\": {\n",
    "        # 'grid_res' has to be smaller than target_radius to prevent hj_solver errors\n",
    "        \"grid_res\": 0.02,  # Note: this is in deg lat, lon (HYCOM Global is 0.083 and Mexico 0.04)\n",
    "        \"direction\": \"multi-time-reach-back\",\n",
    "        \"n_time_vector\": 199,  # Note that this is the number of time-intervals, the vector is +1 longer because of init_time\n",
    "        \"accuracy\": \"high\",\n",
    "        \"artificial_dissipation_scheme\": \"local_local\",\n",
    "        \"run_without_x_T\": True,\n",
    "        \"progress_bar\": False,\n",
    "        \"T_goal_in_seconds\": 3600 * 24 * 7, #7 days here #\n",
    "    },\n",
    "    \"hj_planner_box\": 2.0,\n",
    "    ##### Start Sampling #####\n",
    "    \"feasible_missions_per_target\": 2,\n",
    "    \"random_missions_per_target\": 0,\n",
    "    \"multi_agent\": {\n",
    "        \"is_multi_agent\": True,\n",
    "        \"nb_platforms\": 30,\n",
    "        \"minimum_dist_km\": 3,\n",
    "        \"sampling_range_radius_km\": 40,\n",
    "        \"sample_range_ttr_h\": [72, 132], # this has to be a larger than the \"feasible_mission_time_in_h\"\n",
    "        # as the multi-agent points are sampled from \"feasible_mission_time_in_h\" with added noise which might \n",
    "        # increase their ttr by quite a lot (so either this interval has to be increased or the other reduced)\n",
    "    },\n",
    "    \"min_distance_from_hj_frame\": 0.75,\n",
    "    \"min_distance_from_land\": 0.4,\n",
    "    \"feasible_mission_time_in_h\": [96, 104],\n",
    "    \"random_min_distance_from_target\": 0.5,\n",
    "    ##### Actions #####\n",
    "    \"plot_batch\": False,\n",
    "    \"animate_batch\": False,\n",
    "    \"cache_forecast\": False,\n",
    "    \"cache_hindcast\": False,\n",
    "}"
   ]
  },
  {
   "cell_type": "code",
   "execution_count": null,
   "metadata": {},
   "outputs": [],
   "source": [
    "options = c3.GenMissionBatchJobOptionsNicolas(**{\n",
    "    'experiment':exp,\n",
    "    'missGenBatchConfig': missGenBatchConfig,\n",
    "    'base_seed': 1,\n",
    "    'nBatches': 140, # each nBatch runs nMissionsGenPerBatch, how many cores we spin up so faster to make this big compared to nMissionGenPerBatch\n",
    "    'nMissionGenPerBatch': 8, #nb workers on which we loop,\n",
    "    #'hardwareProfileId': \"appc8m64-w\"\n",
    "})\n",
    "#total amount of missions: feasible_mission_per_target*nBatches*nMIssionGenPerBatch"
   ]
  },
  {
   "attachments": {},
   "cell_type": "markdown",
   "metadata": {},
   "source": [
    "#### Debug locally"
   ]
  },
  {
   "cell_type": "code",
   "execution_count": null,
   "metadata": {},
   "outputs": [],
   "source": [
    "import random\n",
    "from ocean_navigation_simulator.reinforcement_learning.missions.MissionGenerator import (\n",
    "    MissionGenerator,\n",
    ")\n",
    "config = missGenBatchConfig\n",
    "config_to_add = {\n",
    "    \"scenario_config\": arena_config,\n",
    "  \"problem_timeout\": datetime.timedelta(\n",
    "         seconds=exp.get(\"timeout_in_sec\").timeout_in_sec\n",
    "    ),\n",
    " \"T_goal_in_seconds\": exp.get(\"timeout_in_sec\").timeout_in_sec,\n",
    "}\n",
    "\n",
    "config = config | config_to_add\n",
    "random.seed(options.base_seed)\n",
    "results_folder = \"/tmp/missions/\"\n",
    "os.makedirs(results_folder, exist_ok=True)\n",
    "# seed all of them\n",
    "all_problems_c3 = []\n",
    "for worker in range(2):\n",
    "    mission_generator = MissionGenerator(\n",
    "        config=config\n",
    "        | {\n",
    "            \"seed\": int(random.uniform(0, 1000000)),\n",
    "            \"cache_folder\": results_folder + str(worker) + \"_\",\n",
    "        },\n",
    "        c3=c3,\n",
    "    )\n",
    "    problems_c3, _, _ = mission_generator.cache_batch()\n",
    "    all_problems_c3.extend(problems_c3)"
   ]
  },
  {
   "cell_type": "code",
   "execution_count": null,
   "metadata": {},
   "outputs": [],
   "source": [
    "# Now upload all of them to the mission database!\n",
    "exp = options.experiment\n",
    "for idx, problem in enumerate(all_problems_c3):\n",
    "    exp.addMission(\n",
    "        missionConfig=problem.to_c3_mission_config(),\n",
    "        name=\"batch_seed_\" + str(options.base_seed) + \"_\" + str(idx),\n",
    "    )\n",
    "exp.get('expMissions').expMissions"
   ]
  },
  {
   "cell_type": "code",
   "execution_count": null,
   "metadata": {},
   "outputs": [],
   "source": [
    "problems_c3[0]"
   ]
  },
  {
   "cell_type": "code",
   "execution_count": null,
   "metadata": {},
   "outputs": [],
   "source": [
    "problems_c3[0].extra_info"
   ]
  },
  {
   "attachments": {},
   "cell_type": "markdown",
   "metadata": {},
   "source": [
    "#### Start Jobs"
   ]
  },
  {
   "cell_type": "code",
   "execution_count": null,
   "metadata": {},
   "outputs": [],
   "source": [
    "gen_mission_job = c3.GenMissionBatchJobNicolas(**{'options': options.toJson()}).upsert()\n",
    "#gen_mission_job = c3.GenMissionBatchJob(**{'options': options.toJson()}).upsert()\n",
    "# gen_mission_job.setMaxConcurrency(12)\n",
    "# gen_mission_job.setMaxConcurrencyPerNode(15)\n",
    "gen_mission_job.start()\n",
    "gen_mission_job"
   ]
  },
  {
   "cell_type": "code",
   "execution_count": null,
   "metadata": {},
   "outputs": [],
   "source": [
    "gen_mission_job = c3.GenMissionBatchJobNicolas.get('444af48b-fae5-4d7a-9616-530ace64cbd4')\n",
    "gen_mission_job.status()"
   ]
  },
  {
   "cell_type": "code",
   "execution_count": null,
   "metadata": {},
   "outputs": [],
   "source": [
    "gen_mission_job.computingActions()\n",
    "#gen_mission_job.cancel()"
   ]
  },
  {
   "cell_type": "code",
   "execution_count": null,
   "metadata": {},
   "outputs": [],
   "source": [
    "len(exp.get('expMissions').expMissions)"
   ]
  },
  {
   "attachments": {},
   "cell_type": "markdown",
   "metadata": {},
   "source": [
    "#### Tools to run after missionGeneration/debug"
   ]
  },
  {
   "cell_type": "code",
   "execution_count": null,
   "metadata": {},
   "outputs": [],
   "source": [
    "filter = 'options.id'#+ '\"' + exp.id + '\"'\n",
    "#objs_list = c3.GenMissionBatchJobNicolas.fetch(spec={'include': \"[this]\", 'filter':filter}).objs\n",
    "objs_list = c3.GenMissionBatchJobNicolas.fetch(spec={'include': \"[this]\"}).objs\n",
    "for obj in objs_list:\n",
    "    if obj.get(\"options\").options.experiment.id!=exp.id:\n",
    "        objs_list.remove(obj)\n",
    "print(\"Total of {} BatchJobNicolas\".format(len(objs_list)))\n",
    "\n",
    "staged_to_run = 0\n",
    "running_job = 0\n",
    "completed_job = 0\n",
    "canceled_job = 0\n",
    "\n",
    "for job in objs_list:\n",
    "    if job.get(\"BatchJobStatus\").status().status == \"initial\":\n",
    "        staged_to_run += 1\n",
    "    elif job.get(\"BatchJobStatus\").status().status == \"running\":\n",
    "        running_job += 1\n",
    "    elif job.get(\"BatchJobStatus\").status().status == \"completed\":\n",
    "        completed_job += 1 \n",
    "    elif job.get(\"BatchJobStatus\").status().status == \"canceled\":\n",
    "        canceled_job += 1\n",
    "\n",
    "print(\"staged_to_run: \", staged_to_run)\n",
    "print(\"running_job \", running_job)\n",
    "print(\"completed_job: \", completed_job)\n",
    "print(\"canceled_job: \", canceled_job)"
   ]
  },
  {
   "cell_type": "code",
   "execution_count": null,
   "metadata": {},
   "outputs": [],
   "source": [
    "objs_list[0]"
   ]
  },
  {
   "cell_type": "code",
   "execution_count": null,
   "metadata": {},
   "outputs": [],
   "source": [
    "gen_mission_job.cancel() # to cancel the jobs of this specific gen_batch"
   ]
  },
  {
   "cell_type": "code",
   "execution_count": null,
   "metadata": {},
   "outputs": [],
   "source": [
    "#Other Utils for the cluster\n",
    "c3.Cluster.actionDump()"
   ]
  },
  {
   "attachments": {},
   "cell_type": "markdown",
   "metadata": {},
   "source": [
    "+ Inspect a specific mission"
   ]
  },
  {
   "cell_type": "code",
   "execution_count": null,
   "metadata": {},
   "outputs": [],
   "source": [
    "exp.get('expMissions').expMissions[0].get('missionConfig').missionConfig"
   ]
  },
  {
   "attachments": {},
   "cell_type": "markdown",
   "metadata": {},
   "source": [
    "#### Cancel or remove jobs on c3 that are still runing or pending"
   ]
  },
  {
   "cell_type": "code",
   "execution_count": null,
   "metadata": {},
   "outputs": [],
   "source": [
    "status = ' && status ==' + '\"' + 'running' + '\"'\n",
    "all_gen_mission_jobs=c3.GenMissionBatchJobNicolas.fetch(spec={'include': \"[this]\",              \n",
    "                                         }\n",
    "                                   ).objs"
   ]
  },
  {
   "cell_type": "code",
   "execution_count": null,
   "metadata": {},
   "outputs": [],
   "source": [
    "for job in all_gen_mission_jobs:\n",
    "    if job.get(\"BatchJobStatus\").status().status == \"running\":\n",
    "        print(job.get(\"BatchJobStatus\").status().status)\n",
    "        job.cancel()\n",
    "\n",
    "    elif job.get(\"BatchJobStatus\").status().status ==\"initial\":\n",
    "        print(job.get(\"BatchJobStatus\").status().status)\n",
    "        job.remove()\n",
    "    #print(job.get(\"BatchJobStatus\").status().status)"
   ]
  },
  {
   "attachments": {},
   "cell_type": "markdown",
   "metadata": {},
   "source": [
    "## Plot all of them on a map and get distribution information"
   ]
  },
  {
   "cell_type": "code",
   "execution_count": null,
   "metadata": {},
   "outputs": [],
   "source": [
    "from ocean_navigation_simulator.reinforcement_learning.missions.CachedNavigationProblem import (\n",
    "    CachedNavigationProblem,\n",
    ")\n",
    "from ocean_navigation_simulator.environment.PlatformState import (\n",
    "    PlatformState,\n",
    "    PlatformStateSet,\n",
    "    SpatialPoint,\n",
    ")\n",
    "\n",
    "from ocean_navigation_simulator.utils import units\n",
    "\n",
    "problems = []\n",
    "for miss in exp.get('expMissions').expMissions:\n",
    "    missionConfig = miss.get(\"missionConfig\").missionConfig\n",
    "    problems.append(CachedNavigationProblem.from_c3_mission_config(missionConfig))"
   ]
  },
  {
   "cell_type": "code",
   "execution_count": null,
   "metadata": {},
   "outputs": [],
   "source": [
    "missionConfig"
   ]
  },
  {
   "attachments": {},
   "cell_type": "markdown",
   "metadata": {},
   "source": [
    "+ Save missions as CSV file"
   ]
  },
  {
   "cell_type": "code",
   "execution_count": null,
   "metadata": {},
   "outputs": [],
   "source": [
    "import pandas as pd\n",
    "filename_to_save = \"problemsGOM_30pltf.csv\"\n",
    "results_folder = f\"{os.getcwd()}/generated_media/generated_problems/\"\n",
    "os.makedirs(results_folder, exist_ok=True)\n",
    "df = pd.DataFrame([problem.to_dict() for problem in problems])\n",
    "df['factory_index'] = 0\n",
    "df.to_csv(results_folder + filename_to_save)\n"
   ]
  },
  {
   "cell_type": "code",
   "execution_count": null,
   "metadata": {},
   "outputs": [],
   "source": [
    "from scripts.nicolas.scripts_for_exp_runs.c3_multi_ag.utils_scripts import plot_missions_target_cartopy\n",
    "plot_missions_target_cartopy(df=df, region=\"GOM\")"
   ]
  },
  {
   "cell_type": "code",
   "execution_count": null,
   "metadata": {},
   "outputs": [],
   "source": [
    "from ocean_navigation_simulator.reinforcement_learning.runners.GenerationRunner import (\n",
    "    GenerationRunner)\n",
    "GenerationRunner.plot_ttr_histogram(results_folder)\n",
    "# GenerationRunner.plot_starts_and_targets(\n",
    "#     results_folder=results_folder, pb_filename=\"problemsGOM_1000.csv\", scenario_config=arena_config,\n",
    "# )\n"
   ]
  },
  {
   "attachments": {},
   "cell_type": "markdown",
   "metadata": {},
   "source": [
    "# Load from existing CSV files of Missions"
   ]
  },
  {
   "cell_type": "code",
   "execution_count": 7,
   "metadata": {},
   "outputs": [],
   "source": [
    "from ast import literal_eval\n",
    "import pandas as pd\n",
    "from ocean_navigation_simulator.reinforcement_learning.missions.CachedNavigationProblem import (\n",
    "    CachedNavigationProblem,\n",
    ")\n",
    "filename_pb = \"problemsGOM_30pltf.csv\" #\"problemsGOM_550.csv\"\n",
    "path_to_problems = os.path.join(os.getcwd(), \"generated_media/generated_problems/\")\n",
    "problems_df = pd.read_csv(path_to_problems + filename_pb)"
   ]
  },
  {
   "attachments": {},
   "cell_type": "markdown",
   "metadata": {},
   "source": [
    "### Visualize problems"
   ]
  },
  {
   "cell_type": "code",
   "execution_count": 8,
   "metadata": {},
   "outputs": [
    {
     "name": "stderr",
     "output_type": "stream",
     "text": [
      "/home/nicolas/documents/Master_Thesis_repo/OceanPlatformControl/scripts/nicolas/scripts_for_exp_runs/c3_multi_ag/utils_scripts.py:38: UserWarning:\n",
      "\n",
      "Matplotlib is currently using module://matplotlib_inline.backend_inline, which is a non-GUI backend, so cannot show the figure.\n",
      "\n"
     ]
    },
    {
     "data": {
      "image/png": "[encoded data removed]",
      "text/plain": [
       "<Figure size 1000x1000 with 1 Axes>"
      ]
     },
     "metadata": {},
     "output_type": "display_data"
    }
   ],
   "source": [
    "from scripts.nicolas.scripts_for_exp_runs.c3_multi_ag.utils_scripts import plot_missions_target_cartopy\n",
    "missions_to_dwnld = range(1200) #range(len(problems_df))\n",
    "problem_list=[CachedNavigationProblem.from_pandas_row(problems_df.iloc[idx]) for idx in missions_to_dwnld]\n",
    "df = pd.DataFrame([problem.to_dict() for problem in problem_list])\n",
    "plot_missions_target_cartopy(df=df, region=\"GOM\")"
   ]
  },
  {
   "cell_type": "code",
   "execution_count": null,
   "metadata": {},
   "outputs": [],
   "source": [
    "from ocean_navigation_simulator.reinforcement_learning.runners.GenerationRunner import (\n",
    "    GenerationRunner)\n",
    "results_folder = f\"{os.getcwd()}/generated_media/generated_problems/\"\n",
    "GenerationRunner.plot_ttr_histogram(results_folder, pb_filename=filename_pb )\n",
    "# GenerationRunner.plot_starts_and_targets(\n",
    "#     results_folder=path_to_problems, pb_filename=filename_pb, scenario_config=arena_config,\n",
    "# )"
   ]
  },
  {
   "attachments": {},
   "cell_type": "markdown",
   "metadata": {},
   "source": [
    "## Make sure to create/select a new experiment where you want to add the retrieved missions to"
   ]
  },
  {
   "cell_type": "code",
   "execution_count": null,
   "metadata": {},
   "outputs": [],
   "source": [
    "# experiment_name = \"m_a_gom\"\n",
    "# exp = c3.Experiment.get(experiment_name)\n",
    "# #exp.remove()"
   ]
  },
  {
   "cell_type": "code",
   "execution_count": 9,
   "metadata": {},
   "outputs": [
    {
     "data": {
      "text/plain": [
       "c3.Experiment(\n",
       " id='30_platforms_HC_HC',\n",
       " meta=c3.Meta(\n",
       "        created=datetime.datetime(2023, 3, 9, 0, 22, 39, tzinfo=datetime.timezone.utc),\n",
       "        updated=datetime.datetime(2023, 3, 9, 0, 22, 39, tzinfo=datetime.timezone.utc),\n",
       "        timestamp=datetime.datetime(2023, 3, 9, 0, 22, 39, tzinfo=datetime.timezone.utc)),\n",
       " version=1)"
      ]
     },
     "execution_count": 9,
     "metadata": {},
     "output_type": "execute_result"
    }
   ],
   "source": [
    "exp"
   ]
  },
  {
   "cell_type": "code",
   "execution_count": 10,
   "metadata": {},
   "outputs": [],
   "source": [
    "for idx_mission in missions_to_dwnld:\n",
    "    problem=CachedNavigationProblem.from_pandas_row(problems_df.iloc[idx_mission])\n",
    "    exp.addMission(problem.to_c3_mission_config())"
   ]
  },
  {
   "cell_type": "code",
   "execution_count": 11,
   "metadata": {},
   "outputs": [
    {
     "data": {
      "text/plain": [
       "1200"
      ]
     },
     "execution_count": 11,
     "metadata": {},
     "output_type": "execute_result"
    }
   ],
   "source": [
    "len(exp.get('expMissions').expMissions)"
   ]
  },
  {
   "attachments": {},
   "cell_type": "markdown",
   "metadata": {},
   "source": [
    "# Add Observer"
   ]
  },
  {
   "cell_type": "code",
   "execution_count": 12,
   "metadata": {},
   "outputs": [
    {
     "data": {
      "text/plain": [
       "c3.ObserverSetting(\n",
       " id='30_platforms_HC_HC_NoObserver',\n",
       " name='NoObserver',\n",
       " meta=c3.Meta(\n",
       "        created=datetime.datetime(2023, 3, 9, 0, 29, 14, tzinfo=datetime.timezone.utc),\n",
       "        updated=datetime.datetime(2023, 3, 9, 0, 29, 14, tzinfo=datetime.timezone.utc),\n",
       "        timestamp=datetime.datetime(2023, 3, 9, 0, 29, 14, tzinfo=datetime.timezone.utc)),\n",
       " version=1)"
      ]
     },
     "execution_count": 12,
     "metadata": {},
     "output_type": "execute_result"
    }
   ],
   "source": [
    "# Config for No observer\n",
    "observer_config = {\"observer\": None}\n",
    "# add observer\n",
    "exp.addObserver(name=\"NoObserver\", observerConfig=observer_config)"
   ]
  },
  {
   "attachments": {},
   "cell_type": "markdown",
   "metadata": {},
   "source": [
    "# Add Controller"
   ]
  },
  {
   "cell_type": "code",
   "execution_count": 13,
   "metadata": {},
   "outputs": [],
   "source": [
    "# Controller Configs\n",
    "HJMultiTimeConfig = {\n",
    "    \"replan_every_X_seconds\": None,\n",
    "    \"replan_on_new_fmrc\": True,\n",
    "    \"T_goal_in_seconds\": 3600 * 24 * 6,  # 3d, 43200,     # 12h\n",
    "    \"accuracy\": \"high\",\n",
    "    \"artificial_dissipation_scheme\": \"local_local\",\n",
    "    \"ctrl_name\": \"ocean_navigation_simulator.controllers.hj_planners.HJReach2DPlanner.HJReach2DPlanner\",\n",
    "    \"d_max\": 0.0,\n",
    "    \"deg_around_xt_xT_box\": 1.0,\n",
    "    \"direction\": \"multi-time-reach-back\",\n",
    "    \"grid_res\": 0.02,\n",
    "    \"n_time_vector\": 200,\n",
    "    \"progress_bar\": True,\n",
    "    \"use_geographic_coordinate_system\": True,\n",
    "}\n",
    "StraightLineConfig = {\n",
    "    \"ctrl_name\": \"ocean_navigation_simulator.controllers.NaiveController.NaiveController\"\n",
    "}\n",
    "flockingConfig = {\n",
    "    \"unit\": \"km\",\n",
    "    \"interaction_range\": 9,  # km\n",
    "    \"grad_clip_range\": 0.1,  # km\n",
    "    \"epsilon\": 0.25, # > 0 to tune the shape of the potential function: higher = flatter, lower = more bell shaped\n",
    "}\n",
    "reactiveConfig = {\n",
    "    \"unit\": \"m\",\n",
    "    \"mix_ttr_and_euclidean\": False,\n",
    "    \"delta_3\": 8800,  # collision threshold (communication - delta_3)\n",
    "    \"delta_2\": 2000,  # safe zone threshold  ]communication - delta_2, communication - delta_3[\n",
    "    \"delta_1\": 500,  # small threshold so that if distance > communication_thrsld- delta_1 we try to achieve connectivity\n",
    "    \"communication_thrsld\": 9000,\n",
    "    \"k_1\": 0.25,\n",
    "    \"k_2\": 1,\n",
    "}\n",
    "multiAgentOptimConfig = {\n",
    "    \"unit\": \"m\",\n",
    "    \"interaction_range\": 9000,  # m\n",
    "    \"optim_horizon\": 6,  # 1h\n",
    "    \"scaling_pot_function\": 10,\n",
    "}"
   ]
  },
  {
   "attachments": {},
   "cell_type": "markdown",
   "metadata": {},
   "source": [
    "#### Add HJ Naive controller"
   ]
  },
  {
   "cell_type": "code",
   "execution_count": null,
   "metadata": {},
   "outputs": [],
   "source": [
    "MultiAgentCtrlConfig = {\n",
    "    \"ctrl_name\": \"ocean_navigation_simulator.controllers.MultiAgentPlanner.MultiAgentPlanner\",\n",
    "    \"high_level_ctrl\": \"hj_naive\",  # choose from hj_naive, flocking, reactive_control\n",
    "    \"unit\": \"km\",\n",
    "    \"communication_thrsld\": 9,\n",
    "    \"hj_specific_settings\": HJMultiTimeConfig,\n",
    "}"
   ]
  },
  {
   "cell_type": "code",
   "execution_count": null,
   "metadata": {},
   "outputs": [],
   "source": [
    "exp.experimentName = exp.get('experiment_name')\n",
    "# add controller\n",
    "exp.addController(name='hj_naive', ctrlConfig=MultiAgentCtrlConfig)"
   ]
  },
  {
   "attachments": {},
   "cell_type": "markdown",
   "metadata": {},
   "source": [
    "#### Add Reactive Controller"
   ]
  },
  {
   "cell_type": "code",
   "execution_count": null,
   "metadata": {},
   "outputs": [],
   "source": [
    "MultiAgentCtrlConfig = {\n",
    "    \"ctrl_name\": \"ocean_navigation_simulator.controllers.MultiAgentPlanner.MultiAgentPlanner\",\n",
    "    \"high_level_ctrl\": \"reactive_control\",  # choose from hj_naive, flocking, reactive_control\n",
    "    \"unit\": \"km\",\n",
    "    \"communication_thrsld\": 9,\n",
    "    \"hj_specific_settings\": HJMultiTimeConfig,\n",
    "    \"reactive_control_config\": reactiveConfig,\n",
    "}"
   ]
  },
  {
   "cell_type": "code",
   "execution_count": null,
   "metadata": {},
   "outputs": [],
   "source": [
    "exp.experimentName = exp.get('experiment_name')\n",
    "# add controller\n",
    "exp.addController(name='reactive_ctrl', ctrlConfig=MultiAgentCtrlConfig)"
   ]
  },
  {
   "attachments": {},
   "cell_type": "markdown",
   "metadata": {},
   "source": [
    "#### Add Flocking Controller"
   ]
  },
  {
   "cell_type": "code",
   "execution_count": 14,
   "metadata": {},
   "outputs": [],
   "source": [
    "MultiAgentCtrlConfig = {\n",
    "    \"ctrl_name\": \"ocean_navigation_simulator.controllers.MultiAgentPlanner.MultiAgentPlanner\",\n",
    "    \"high_level_ctrl\": \"flocking\",  # choose from hj_naive, flocking, reactive_control\n",
    "    \"unit\": \"km\",\n",
    "    \"communication_thrsld\": 9,\n",
    "    \"hj_specific_settings\": HJMultiTimeConfig,\n",
    "    \"flocking_config\": flockingConfig,\n",
    "}"
   ]
  },
  {
   "cell_type": "code",
   "execution_count": 15,
   "metadata": {},
   "outputs": [
    {
     "data": {
      "text/plain": [
       "c3.ControllerSetting(\n",
       " id='30_platforms_HC_HC_flocking_0_25',\n",
       " name='flocking_0_25',\n",
       " meta=c3.Meta(\n",
       "        created=datetime.datetime(2023, 3, 9, 0, 29, 31, tzinfo=datetime.timezone.utc),\n",
       "        updated=datetime.datetime(2023, 3, 9, 0, 29, 31, tzinfo=datetime.timezone.utc),\n",
       "        timestamp=datetime.datetime(2023, 3, 9, 0, 29, 31, tzinfo=datetime.timezone.utc)),\n",
       " version=1)"
      ]
     },
     "execution_count": 15,
     "metadata": {},
     "output_type": "execute_result"
    }
   ],
   "source": [
    "exp.experimentName = exp.get('experiment_name')\n",
    "exp.addController(name='flocking_0_25', ctrlConfig=MultiAgentCtrlConfig)"
   ]
  },
  {
   "attachments": {},
   "cell_type": "markdown",
   "metadata": {},
   "source": [
    "### Add Multi Agent Optimizer over full HJ trajectory"
   ]
  },
  {
   "cell_type": "code",
   "execution_count": null,
   "metadata": {},
   "outputs": [],
   "source": [
    "MultiAgentCtrlConfig = {\n",
    "    \"ctrl_name\": \"ocean_navigation_simulator.controllers.MultiAgentPlanner.MultiAgentPlanner\",\n",
    "    \"high_level_ctrl\": \"multi_ag_optimizer\",  # choose from hj_naive, flocking, reactive_control, multi_ag_optimizer,pred_safety_filter\n",
    "    \"unit\": \"km\",\n",
    "    \"communication_thrsld\": 9,\n",
    "    \"hj_specific_settings\": HJMultiTimeConfig,\n",
    "    \"multi_ag_optim\": multiAgentOptimConfig,\n",
    "}"
   ]
  },
  {
   "cell_type": "code",
   "execution_count": null,
   "metadata": {},
   "outputs": [],
   "source": [
    "exp.experimentName = exp.get('experiment_name')\n",
    "exp.addController(name='multi_ag_optimizer', ctrlConfig=MultiAgentCtrlConfig)"
   ]
  },
  {
   "attachments": {},
   "cell_type": "markdown",
   "metadata": {},
   "source": [
    "### Add Multi Agent Optimizer using only first input of HJ in the objective"
   ]
  },
  {
   "cell_type": "code",
   "execution_count": null,
   "metadata": {},
   "outputs": [],
   "source": [
    "MultiAgentCtrlConfig = {\n",
    "    \"ctrl_name\": \"ocean_navigation_simulator.controllers.MultiAgentPlanner.MultiAgentPlanner\",\n",
    "    \"high_level_ctrl\": \"pred_safety_filter\",  # choose from hj_naive, flocking, reactive_control, multi_ag_optimizer,pred_safety_filter\n",
    "    \"unit\": \"km\",\n",
    "    \"communication_thrsld\": 9,\n",
    "    \"hj_specific_settings\": HJMultiTimeConfig,\n",
    "    \"multi_ag_optim\": multiAgentOptimConfig,\n",
    "}"
   ]
  },
  {
   "cell_type": "code",
   "execution_count": null,
   "metadata": {},
   "outputs": [],
   "source": [
    "exp.experimentName = exp.get('experiment_name')\n",
    "exp.addController(name='pred_safety_filter', ctrlConfig=MultiAgentCtrlConfig)"
   ]
  },
  {
   "cell_type": "markdown",
   "metadata": {},
   "source": [
    "# Set missions to ready to run"
   ]
  },
  {
   "cell_type": "code",
   "execution_count": 16,
   "metadata": {},
   "outputs": [
    {
     "name": "stdout",
     "output_type": "stream",
     "text": [
      "1200\n"
     ]
    }
   ],
   "source": [
    "experiment = 'experiment.id==' + '\"' + exp.id + '\"'\n",
    "status = ' && status==' + '\"staged_for_feasibility\"'\n",
    "exp_list = c3.Mission.fetch(spec={'include': \"[this]\",'filter':  experiment}).objs\n",
    "print(len(exp_list))"
   ]
  },
  {
   "cell_type": "code",
   "execution_count": 17,
   "metadata": {},
   "outputs": [],
   "source": [
    "for miss in exp_list:\n",
    "    miss.status=\"ready_to_run\"\n",
    "    miss.merge()"
   ]
  },
  {
   "cell_type": "code",
   "execution_count": 18,
   "metadata": {},
   "outputs": [
    {
     "data": {
      "text/plain": [
       "c3.Mission(\n",
       " id='30_platforms_HC_HC_mission_nr_0',\n",
       " meta=c3.Meta(\n",
       "        tenantTagId=32,\n",
       "        tenant='seaweed-control',\n",
       "        tag='devseaweedrc1',\n",
       "        created=datetime.datetime(2023, 3, 9, 0, 23, 25, tzinfo=datetime.timezone.utc),\n",
       "        createdBy='mariuswiggert@berkeley.edu',\n",
       "        updated=datetime.datetime(2023, 3, 9, 0, 23, 25, tzinfo=datetime.timezone.utc),\n",
       "        updatedBy='mariuswiggert@berkeley.edu',\n",
       "        timestamp=datetime.datetime(2023, 3, 9, 0, 23, 25, tzinfo=datetime.timezone.utc),\n",
       "        fetchInclude='[]',\n",
       "        fetchType='Mission'),\n",
       " version=1,\n",
       " experiment=c3.Experiment(id='30_platforms_HC_HC'),\n",
       " status='ready_to_run',\n",
       " missionConfig={'feasible': True,\n",
       "                 'multi_agent': True,\n",
       "                 'seed': None,\n",
       "                 'target_radius': 0.25,\n",
       "                 'ttr_in_h': 125.23904347652834,\n",
       "                 'x_0': [{'date_time': '2022-05-16T10:03:00+00:00',\n",
       "                          'lat': 28.754840850830078,\n",
       "                          'lon': -87.49142456054688},\n",
       "                         {'date_time': '2022-05-16T10:03:00+00:00',\n",
       "                          'lat': 28.750696182250977,\n",
       "                          'lon': -87.44985961914062},\n",
       "                         {'date_time': '2022-05-16T10:03:00+00:00',\n",
       "                          'lat': 28.721647262573242,\n",
       "                          'lon': -87.52544403076172},\n",
       "                         {'date_time': '2022-05-16T10:03:00+00:00',\n",
       "                          'lat': 28.645423889160156,\n",
       "                          'lon': -87.50862121582031},\n",
       "                         {'date_time': '2022-05-16T10:03:00+00:00',\n",
       "                          'lat': 28.628419876098633,\n",
       "                          'lon': -87.45223236083984},\n",
       "                         {'date_time': '2022-05-16T10:03:00+00:00',\n",
       "                          'lat': 28.688207626342773,\n",
       "                          'lon': -87.53068542480469},\n",
       "                         {'date_time': '2022-05-16T10:03:00+00:00',\n",
       "                          'lat': 28.646461486816406,\n",
       "                          'lon': -87.4766616821289},\n",
       "                         {'date_time': '2022-05-16T10:03:00+00:00',\n",
       "                          'lat': 28.761493682861328,\n",
       "                          'lon': -87.5538558959961},\n",
       "                         {'date_time': '2022-05-16T10:03:00+00:00',\n",
       "                          'lat': 28.60284996032715,\n",
       "                          'lon': -87.50137329101562},\n",
       "                         {'date_time': '2022-05-16T10:03:00+00:00',\n",
       "                          'lat': 28.674659729003906,\n",
       "                          'lon': -87.38764953613281},\n",
       "                         {'date_time': '2022-05-16T10:03:00+00:00',\n",
       "                          'lat': 28.539453506469727,\n",
       "                          'lon': -87.50660705566406},\n",
       "                         {'date_time': '2022-05-16T10:03:00+00:00',\n",
       "                          'lat': 28.727876663208008,\n",
       "                          'lon': -87.5613021850586},\n",
       "                         {'date_time': '2022-05-16T10:03:00+00:00',\n",
       "                          'lat': 28.715282440185547,\n",
       "                          'lon': -87.44456481933594},\n",
       "                         {'date_time': '2022-05-16T10:03:00+00:00',\n",
       "                          'lat': 28.530872344970703,\n",
       "                          'lon': -87.56428527832031},\n",
       "                         {'date_time': '2022-05-16T10:03:00+00:00',\n",
       "                          'lat': 28.779552459716797,\n",
       "                          'lon': -87.47877502441406},\n",
       "                         {'date_time': '2022-05-16T10:03:00+00:00',\n",
       "                          'lat': 28.739316940307617,\n",
       "                          'lon': -87.35304260253906},\n",
       "                         {'date_time': '2022-05-16T10:03:00+00:00',\n",
       "                          'lat': 28.681638717651367,\n",
       "                          'lon': -87.47087097167969},\n",
       "                         {'date_time': '2022-05-16T10:03:00+00:00',\n",
       "                          'lat': 28.72232437133789,\n",
       "                          'lon': -87.62238311767578},\n",
       "                         {'date_time': '2022-05-16T10:03:00+00:00',\n",
       "                          'lat': 28.75288200378418,\n",
       "                          'lon': -87.39945983886719},\n",
       "                         {'date_time': '2022-05-16T10:03:00+00:00',\n",
       "                          'lat': 28.670211791992188,\n",
       "                          'lon': -87.58023071289062},\n",
       "                         {'date_time': '2022-05-16T10:03:00+00:00',\n",
       "                          'lat': 28.701963424682617,\n",
       "                          'lon': -87.40943908691406},\n",
       "                         {'date_time': '2022-05-16T10:03:00+00:00',\n",
       "                          'lat': 28.459630966186523,\n",
       "                          'lon': -87.57576751708984},\n",
       "                         {'date_time': '2022-05-16T10:03:00+00:00',\n",
       "                          'lat': 28.781551361083984,\n",
       "                          'lon': -87.5228271484375},\n",
       "                         {'date_time': '2022-05-16T10:03:00+00:00',\n",
       "                          'lat': 28.45401382446289,\n",
       "                          'lon': -87.6363754272461},\n",
       "                         {'date_time': '2022-05-16T10:03:00+00:00',\n",
       "                          'lat': 28.560184478759766,\n",
       "                          'lon': -87.55835723876953},\n",
       "                         {'date_time': '2022-05-16T10:03:00+00:00',\n",
       "                          'lat': 28.792564392089844,\n",
       "                          'lon': -87.57107543945312},\n",
       "                         {'date_time': '2022-05-16T10:03:00+00:00',\n",
       "                          'lat': 28.60247802734375,\n",
       "                          'lon': -87.4406967163086},\n",
       "                         {'date_time': '2022-05-16T10:03:00+00:00',\n",
       "                          'lat': 28.78415298461914,\n",
       "                          'lon': -87.63190460205078},\n",
       "                         {'date_time': '2022-05-16T10:03:00+00:00',\n",
       "                          'lat': 28.503063201904297,\n",
       "                          'lon': -87.4520034790039},\n",
       "                         {'date_time': '2022-05-16T10:03:00+00:00',\n",
       "                          'lat': 28.60737419128418,\n",
       "                          'lon': -87.39647674560547}],\n",
       "                 'x_T': {'lat': 27.748310883633344, 'lon': -88.30231383228593}},\n",
       " fundamentalFeasibility=True,\n",
       " T_earliest_in_hours=125.239)"
      ]
     },
     "execution_count": 18,
     "metadata": {},
     "output_type": "execute_result"
    }
   ],
   "source": [
    "exp_list[0]"
   ]
  },
  {
   "attachments": {},
   "cell_type": "markdown",
   "metadata": {},
   "source": [
    "# Create Ocean Sim Runs"
   ]
  },
  {
   "attachments": {},
   "cell_type": "markdown",
   "metadata": {},
   "source": [
    "  ### If running a single controller"
   ]
  },
  {
   "cell_type": "code",
   "execution_count": 19,
   "metadata": {},
   "outputs": [
    {
     "data": {
      "text/plain": [
       "True"
      ]
     },
     "execution_count": 19,
     "metadata": {},
     "output_type": "execute_result"
    }
   ],
   "source": [
    "# Create the Run objects\n",
    "exp.createOceanSimRuns(ctrl_name='flocking_0_25', obs_name='NoObserver')"
   ]
  },
  {
   "attachments": {},
   "cell_type": "markdown",
   "metadata": {},
   "source": [
    "  ### Running multiple controllers added before"
   ]
  },
  {
   "cell_type": "code",
   "execution_count": null,
   "metadata": {},
   "outputs": [],
   "source": [
    "exp.createOceanSimRuns(obs_name='NoObserver')"
   ]
  },
  {
   "cell_type": "markdown",
   "metadata": {},
   "source": [
    "## Run simulation debug "
   ]
  },
  {
   "cell_type": "code",
   "execution_count": null,
   "metadata": {},
   "outputs": [],
   "source": [
    "exp_filter = 'mission.experiment.id==' + '\"' + exp.get('experimentName').experimentName + '\"'\n",
    "runs = c3.OceanSimRun.fetch(spec={'include': \"[this]\",\n",
    "                                              'filter': exp_filter,\n",
    "                                              'order': \"ascending(mission.id)\",\n",
    "                                              'limit': -1\n",
    "                                             }).objs"
   ]
  },
  {
   "cell_type": "code",
   "execution_count": null,
   "metadata": {},
   "outputs": [],
   "source": [
    "len(runs)"
   ]
  },
  {
   "cell_type": "code",
   "execution_count": null,
   "metadata": {},
   "outputs": [],
   "source": [
    "run = runs[0]"
   ]
  },
  {
   "cell_type": "code",
   "execution_count": null,
   "metadata": {},
   "outputs": [],
   "source": [
    "run"
   ]
  },
  {
   "cell_type": "code",
   "execution_count": null,
   "metadata": {},
   "outputs": [],
   "source": [
    " # ensure we have all necessary data to run\n",
    "this = runs[-1].get(\n",
    "    \"mission.missionConfig, mission.experiment.timeout_in_sec,\"\n",
    "    + \"mission.experiment.arenaConfig, mission.experiment.objectiveConfig,\"\n",
    "    + \"controllerSetting.ctrlConfig, observerSetting.observerConfig\"\n",
    ")\n",
    "this"
   ]
  },
  {
   "cell_type": "code",
   "execution_count": null,
   "metadata": {},
   "outputs": [],
   "source": [
    "# update the entry while it's running\n",
    "new_osr = c3.OceanSimRun(**{\"id\": this.id, \"status\": \"running_sim\"})\n",
    "new_osr.merge()"
   ]
  },
  {
   "cell_type": "code",
   "execution_count": null,
   "metadata": {},
   "outputs": [],
   "source": [
    "import os\n",
    "import pickle\n",
    "import logging\n",
    "import datetime\n",
    "import numpy as np\n",
    "import wandb\n",
    "import matplotlib.pyplot as plt\n",
    "import pandas as pd\n",
    "\n",
    "import ocean_navigation_simulator\n",
    "from ocean_navigation_simulator.environment.ArenaFactory import ArenaFactory\n",
    "from ocean_navigation_simulator.problem_factories.Constructor import Constructor\n",
    "from ocean_navigation_simulator.environment.PlatformState import SpatioTemporalPoint"
   ]
  },
  {
   "cell_type": "code",
   "execution_count": null,
   "metadata": {},
   "outputs": [],
   "source": [
    "# create strings for all files and external directories where to save results\n",
    "# Set up file paths and download folders\n",
    "temp_folder = \"/tmp/\" + this.id + \"/\"\n",
    "# create the folder if it doesn't exist yet\n",
    "if not os.path.isdir(temp_folder):\n",
    "    os.mkdir(temp_folder)\n",
    "log_file_name = this.id + \".log\"\n",
    "logging.basicConfig(filename=temp_folder + log_file_name, level=logging.DEBUG)\n",
    "traj_file_name = this.id + \".obj\"\n",
    "extDir = (\n",
    "    \"ocean_sim_run_results/\"\n",
    "    + this.mission.experiment.id\n",
    "    + \"/OceanSimRuns/\"\n",
    "    + this.id\n",
    ")\n",
    "\n",
    "# set download directories (ignore set ones in arenaConfig)\n",
    "arenaConfig = this.mission.experiment.arenaConfig\n",
    "\n",
    "# Get and set the correct path to the nutrient and monthly average files (for c3) - !! CONFIG gets overwritten!!\n",
    "filepath = ocean_navigation_simulator.__file__\n",
    "module_path = os.path.dirname(filepath)\n",
    "results_path = module_path + \"/results/\"\n",
    "\n",
    "arenaConfig[\"timeout\"] = 3600*5 #custom to make it shorter #this.mission.experiment.timeout_in_sec\n",
    "to_download_forecast_files = False\n",
    "\n",
    "# for hindcast\n",
    "arenaConfig[\"ocean_dict\"][\"hindcast\"][\"source_settings\"][\"folder\"] = (\n",
    "    \"/tmp/\" + this.id + \"/hindcast_files/\"\n",
    ")\n",
    "# for forecast\n",
    "if arenaConfig[\"ocean_dict\"][\"forecast\"] is not None:\n",
    "    arenaConfig[\"ocean_dict\"][\"forecast\"][\"source_settings\"][\"folder\"] = (\n",
    "        \"/tmp/\" + this.id + \"/forecast_files/\"\n",
    "    )\n",
    "    to_download_forecast_files = (\n",
    "        arenaConfig[\"ocean_dict\"][\"forecast\"][\"source\"] == \"forecast_files\"\n",
    "    )\n",
    "\n",
    "# prepping the file download\n",
    "point_to_check = SpatioTemporalPoint.from_dict(this.mission.missionConfig[\"x_0\"][0])\n",
    "t_interval = [\n",
    "    point_to_check.date_time,\n",
    "    point_to_check.date_time\n",
    "    + datetime.timedelta(\n",
    "        seconds=this.mission.experiment.timeout_in_sec\n",
    "        + arenaConfig[\"casadi_cache_dict\"][\"time_around_x_t\"]\n",
    "        + 7200\n",
    "    ),\n",
    "]\n",
    "\n",
    "arena, controller = None, None\n",
    "\n",
    "import contextlib\n",
    "\n",
    "@contextlib.contextmanager\n",
    "def dummy_context_mgr():\n",
    "    yield None"
   ]
  },
  {
   "cell_type": "code",
   "execution_count": null,
   "metadata": {},
   "outputs": [],
   "source": [
    "with (\n",
    "    ArenaFactory.download_files(\n",
    "        config=arenaConfig,\n",
    "        type=\"hindcast\",\n",
    "        t_interval=t_interval,\n",
    "        c3=c3,\n",
    "        points=[point_to_check.to_spatial_point()],\n",
    "    ) as download_hindcast_files_to_local,\n",
    "    ArenaFactory.download_files(\n",
    "        config=arenaConfig,\n",
    "        type=\"forecast\",\n",
    "        t_interval=t_interval,\n",
    "        c3=c3,\n",
    "        points=[point_to_check.to_spatial_point()],\n",
    "    )\n",
    "    if to_download_forecast_files\n",
    "    else dummy_context_mgr() as download_forecast_files_to_local,\n",
    "):\n",
    "    # Step 0: Create Constructor object which contains arena, problem, controller and observer\n",
    "    constructor = Constructor(\n",
    "        arena_conf=arenaConfig,\n",
    "        mission_conf=this.mission.missionConfig,\n",
    "        objective_conf=this.mission.experiment.objectiveConfig,\n",
    "        ctrl_conf=this.controllerSetting.ctrlConfig,\n",
    "        observer_conf=this.observerSetting.observerConfig,\n",
    "    )\n",
    "\n",
    "    # Step 1.1 Retrieve problem\n",
    "    problem = constructor.problem\n",
    "\n",
    "    # Step 1.2: Retrieve arena\n",
    "    arena = constructor.arena\n",
    "    observation = arena.reset(platform_set=problem.start_state)\n",
    "    problem_status = arena.problem_status(problem=problem)\n",
    "\n",
    "    # Step 2: Retrieve Controller\n",
    "    controller = constructor.controller\n",
    "\n",
    "    # Step 3: Retrieve observer\n",
    "    observer = constructor.observer\n",
    "    observer.observe(observation)\n",
    "    observation.forecast_data_source = observer\n",
    "\n",
    "    # log initial reachability snapshot as .jpg and .svg\n",
    "    # need to call controller once before to init. before plot reachability\n",
    "    # also important so that we dont take the plan time into account in solver time\n",
    "    controller.get_action(observation=observation)\n",
    "    ax = controller.plot_reachability_snapshot_over_currents(\n",
    "        rel_time_in_seconds=0,\n",
    "        granularity_in_h=5,\n",
    "        alpha_color=1,\n",
    "        time_to_reach=True,\n",
    "        fig_size_inches=(12, 12),\n",
    "        return_ax=True,\n",
    "    )\n",
    "    fig = ax.get_figure()\n",
    "    fig = plt.figure(fig)\n",
    "    plt.savefig(temp_folder + \"reachability_snapshot.svg\")\n",
    "    plt.savefig(temp_folder + \"reachability_snapshot.jpg\", dpi=80)\n",
    "\n",
    "\n",
    "    # Step 4: Run Arena\n",
    "    ctrl_deviation_from_opt = []\n",
    "    solver_times = []\n",
    "    all_pltf_status = [0] * len(this.mission.missionConfig[\"x_0\"])\n",
    "    min_distances_to_target_over_mission = [np.inf] * len(\n",
    "        this.mission.missionConfig[\"x_0\"]\n",
    "    )\n",
    "    pb_stop_condition = 0"
   ]
  },
  {
   "cell_type": "code",
   "execution_count": null,
   "metadata": {},
   "outputs": [],
   "source": [
    "while not any(status < pb_stop_condition for status in problem_status):\n",
    "    # Get action\n",
    "    action, ctrl_correction, solver_time_step_s = controller.get_action(observation=observation)\n",
    "    # save ctrl correction and solver time\n",
    "    ctrl_deviation_from_opt.append(ctrl_correction)\n",
    "    solver_times.append(solver_time_step_s)\n",
    "    # execute action\n",
    "    observation = arena.step(action)\n",
    "\n",
    "    # collect data\n",
    "    min_distances_to_target_over_mission = (\n",
    "        arena.get_min_or_max_of_two_lists(\n",
    "            list_a=min_distances_to_target_over_mission,\n",
    "            list_b=arena.final_distance_to_target(problem=problem),\n",
    "            min_or_max=\"min\",\n",
    "        )\n",
    "    )\n",
    "    # Observer data assimilation\n",
    "    observer.observe(observation)\n",
    "    observation.forecast_data_source = observer\n",
    "\n",
    "    # update problem status\n",
    "    problem_status = arena.problem_status(problem=problem)\n",
    "    # for the final metric, look if platform was able to reach target within T,\n",
    "    # so keep only max (=1 if pltf reached target)\n",
    "    all_pltf_status = arena.get_min_or_max_of_two_lists(\n",
    "        list_a=all_pltf_status, list_b=problem_status, min_or_max=\"max\"\n",
    "    )"
   ]
  },
  {
   "cell_type": "code",
   "execution_count": null,
   "metadata": {},
   "outputs": [],
   "source": [
    "new_osr.status = \"finished_running\"\n",
    "new_osr.terminationReason = 'Timeout'#arena.problem_status_text(problem_status)\n",
    "logged_error_message = None"
   ]
  },
  {
   "cell_type": "code",
   "execution_count": null,
   "metadata": {},
   "outputs": [],
   "source": [
    "# Step 4: create the OceanSimResult object with the files and upload it\n",
    "if arena is not None:\n",
    "    # Create a large dict with all trajectory data\n",
    "    trajs_dict = {\n",
    "        \"sim_traj\": arena.state_trajectory,\n",
    "        \"sim_ctrl\": arena.action_trajectory,\n",
    "    }\n",
    "    # if controller is not None:\n",
    "    #     if len(controller.planned_trajs) > 0:\n",
    "    #         trajs_dict[\"plans\"] = controller.planned_trajs\n",
    "\n",
    "    with open(temp_folder + traj_file_name, \"wb\") as traj_file:\n",
    "        pickle.dump(trajs_dict, traj_file)\n",
    "\n",
    "    # Step 4.3 upload the traj_file_name together with the log_file_name to blob storage\n",
    "    # upload log file\n",
    "    new_osr.oceanSimResult = c3.OceanSimResult()\n",
    "    if os.path.exists(temp_folder + log_file_name):\n",
    "        c3.Client.uploadLocalClientFiles(\n",
    "            temp_folder + log_file_name,\n",
    "            extDir + \"/logs\",\n",
    "            {\"peekForMetadata\": True},\n",
    "        )\n",
    "        log_file = c3.File(\n",
    "            **{\"url\": extDir + \"/logs/\" + log_file_name}\n",
    "        ).readMetadata()\n",
    "        new_osr.oceanSimResult.log_file = log_file\n",
    "        os.remove(temp_folder + log_file_name)\n",
    "\n",
    "    if os.path.exists(temp_folder + traj_file_name):\n",
    "        # upload traj file\n",
    "        c3.Client.uploadLocalClientFiles(\n",
    "            temp_folder + traj_file_name,\n",
    "            extDir + \"/trajs\",\n",
    "            {\"peekForMetadata\": True},\n",
    "        )\n",
    "        trajs_file = c3.File(\n",
    "            **{\"url\": extDir + \"/trajs/\" + traj_file_name}\n",
    "        ).readMetadata()\n",
    "        new_osr.oceanSimResult.trajectories = trajs_file\n",
    "        os.remove(temp_folder + traj_file_name)\n",
    "\n",
    "    # # log shortest distance to target\n",
    "    # if this.mission.experiment.objectiveConfig[\"type\"] == \"nav\":\n",
    "    #     new_osr.minDistanceToTarget = arena.final_distance_to_target(\n",
    "    #         problem=problem\n",
    "    #     ) # we already log this in the metric and here we have a list of minDistances instead of a just a float\n",
    "\n",
    "### Prepare data for WandB\n",
    "ctrlConfig = this.controllerSetting.ctrlConfig\n",
    "missionConfig = this.mission.missionConfig\n",
    "observerConfig = this.observerSetting.observerConfig\n",
    "\n",
    "# Prepare variables for run naming\n",
    "\n",
    "# Planning horizon in days\n",
    "# T_in_days = ctrlConfig[\"hj_specific_setting\"][\"T_goal_in_seconds\"] / (24 * 3600)\n",
    "\n",
    "# Prepare string whether we use only HC or FC/HC\n",
    "if arenaConfig[\"ocean_dict\"][\"forecast\"] is not None:\n",
    "    data_sources = \"FC_HC\"\n",
    "else:\n",
    "    data_sources = \"HC\"\n",
    "\n",
    "region = arenaConfig[\"ocean_dict\"].get(\"region\", \"GOM\")\n",
    "\n",
    "nb_platforms = len(missionConfig[\"x_0\"])\n",
    "ctrl_name = ctrlConfig[\"high_level_ctrl\"]\n",
    "\n",
    "umax = arenaConfig[\"platform_dict\"][\"u_max_in_mps\"]\n",
    "\n",
    "# Log metrics in WandB\n",
    "os.environ[\"WANDB_API_KEY\"] = \"1f19232e6ccc9981a8a972bee18ba31a94644835\"\n",
    "\n",
    "wandb.init(\n",
    "    # Set the project where this run will be logged\n",
    "    project=\"Master Thesis\",\n",
    "    id=this.id,\n",
    "    # We pass a run name (otherwise it’ll be randomly assigned, like sunshine-lollypop-10)\n",
    "    name=f\"{this.id}_nb_pltf_{nb_platforms}_{region}_{data_sources}\",\n",
    "    # Track hyperparameters and run metadata\n",
    "    config={\n",
    "        \"missionConfig\": missionConfig,\n",
    "        \"arenaConfig\": arenaConfig,\n",
    "        \"ctrlConfig\": ctrlConfig,\n",
    "        \"observerConfig\": observerConfig,\n",
    "        \"mission.id\": this.mission.id,\n",
    "        \"experiment.id\": this.mission.experiment.id,\n",
    "    },\n",
    "    entity=\"nhoischen\",\n",
    ")\n",
    "metrics_dict = arena.save_metrics_to_log(\n",
    "    all_pltf_status=all_pltf_status,\n",
    "    min_distances_to_target=min_distances_to_target_over_mission,\n",
    "    max_correction_from_opt_ctrl=ctrl_deviation_from_opt,\n",
    "    filename=f\"{temp_folder}/metrics_{this.id}.log\",\n",
    ")\n",
    "metrics_df = pd.DataFrame(data=metrics_dict, index=[0])\n",
    "wandb.log({\"metrics\": metrics_df}, commit=False)\n",
    "\n",
    "# Log state_trajectory as table/dataframe\n",
    "wandb.log(\n",
    "    {\"data_to_plot\": wandb.Table(dataframe=arena.get_plot_data_for_wandb())},\n",
    "    commit=False,\n",
    ")\n",
    "\n",
    "# log trajectory plot on ocean current as .jpg and .svg\n",
    "ax = arena.plot_all_on_map(problem=problem, show_control_trajectory=False,return_ax=True,)\n",
    "fig = ax.get_figure()\n",
    "fig = plt.figure(fig)\n",
    "plt.savefig(temp_folder + \"current_trajectory_on_map.svg\")\n",
    "plt.savefig(temp_folder + \"current_trajectory_on_map.jpg\", dpi=80)\n",
    "\n",
    "# log inter-platform distance evolution as .jpg and .svg\n",
    "ax = arena.plot_distance_evolution_between_platforms(\n",
    "    xticks_temporal_res=arenaConfig[\"timeout\"] / 12\n",
    ")\n",
    "fig = ax.get_figure()\n",
    "fig = plt.figure(fig)\n",
    "plt.savefig(temp_folder + \"distance_evolution.svg\")\n",
    "plt.savefig(temp_folder + \"distance_evolution.jpg\", dpi=80)\n",
    "\n",
    "# log images in wandb\n",
    "image_traj = wandb.Image(\n",
    "    temp_folder + \"current_trajectory_on_map.jpg\",\n",
    "    caption=\"Platform trajectories on currents map\",\n",
    ")\n",
    "image_reach = wandb.Image(\n",
    "    temp_folder + \"reachability_snapshot.jpg\",\n",
    "    caption=\"Initial reachability plot\",\n",
    ")\n",
    "\n",
    "image_dist = wandb.Image(\n",
    "    temp_folder + \"distance_evolution.jpg\",\n",
    "    caption=\"Distance evolution between platform pairs\",\n",
    ")\n",
    "wandb.log({\"Inter-platform distance evolution\": image_dist}, commit=False)\n",
    "wandb.log({\"Reachability snapshot\": image_reach}, commit=False)\n",
    "wandb.log({\"Platform trajectories\": image_traj}, commit=True)\n",
    "\n",
    "# log trajectory animations\n",
    "arena.animate_trajectory(\n",
    "    margin=0.25,\n",
    "    problem=problem,\n",
    "    temporal_resolution=7200,\n",
    "    background=\"current\",\n",
    "    output=f\"{temp_folder}platform_trajectories.mp4\",\n",
    "    fps=10,\n",
    ")\n",
    "arena.animate_graph_net_trajectory(\n",
    "    temporal_resolution=7200,\n",
    "    plot_ax_ticks=True,\n",
    "    output=f\"{temp_folder}network_graph_trajectory.mp4\",\n",
    "    fps=5,\n",
    ")\n",
    "\n",
    "### Save files to c3 and add link to WandB\n",
    "traj_currents_plot_file_name = \"current_trajectory_on_map.svg\"\n",
    "reachability_plot_file_name = \"reachability_snapshot.svg\"\n",
    "distance_evol_plot_file_name = \"distance_evolution.svg\"\n",
    "traj_currents_animation_file_name = \"platform_trajectories.mp4\"\n",
    "traj_network_animation_file_name = \"network_graph_trajectory.mp4\"\n",
    "\n",
    "# add platform trajectories plot\n",
    "c3.Client.uploadLocalClientFiles(\n",
    "    temp_folder + traj_currents_plot_file_name,\n",
    "    extDir + \"/logs\",\n",
    "    {\"peekForMetadata\": True},\n",
    ")\n",
    "traj_currents_plot_file = c3.File(\n",
    "    **{\"url\": extDir + \"/logs/\" + traj_currents_plot_file_name}\n",
    ").readMetadata()\n",
    "new_osr.oceanSimResult.traj_currents_plot_file = traj_currents_plot_file\n",
    "os.remove(temp_folder + traj_currents_plot_file_name)\n",
    "\n",
    "# add reachability plot\n",
    "c3.Client.uploadLocalClientFiles(\n",
    "    temp_folder + reachability_plot_file_name,\n",
    "    extDir + \"/logs\",\n",
    "    {\"peekForMetadata\": True},\n",
    ")\n",
    "reachability_plot_file = c3.File(\n",
    "    **{\"url\": extDir + \"/logs/\" + reachability_plot_file_name}\n",
    ").readMetadata()\n",
    "new_osr.oceanSimResult.reachability_plot_file = reachability_plot_file\n",
    "os.remove(temp_folder + reachability_plot_file_name)\n",
    "\n",
    "# add distance evolution plot\n",
    "c3.Client.uploadLocalClientFiles(\n",
    "    temp_folder + distance_evol_plot_file_name,\n",
    "    extDir + \"/logs\",\n",
    "    {\"peekForMetadata\": True},\n",
    ")\n",
    "distance_evol_plot_file = c3.File(\n",
    "    **{\"url\": extDir + \"/logs/\" + distance_evol_plot_file_name}\n",
    ").readMetadata()\n",
    "new_osr.oceanSimResult.distance_evol_plot_file = distance_evol_plot_file\n",
    "os.remove(temp_folder + distance_evol_plot_file_name)\n",
    "\n",
    "# add platform trajectories animation\n",
    "c3.Client.uploadLocalClientFiles(\n",
    "    temp_folder + traj_currents_animation_file_name,\n",
    "    extDir + \"/logs\",\n",
    "    {\"peekForMetadata\": True},\n",
    ")\n",
    "traj_currents_animation_file = c3.File(\n",
    "    **{\"url\": extDir + \"/logs/\" + traj_currents_animation_file_name}\n",
    ").readMetadata()\n",
    "new_osr.oceanSimResult.traj_currents_animation_file = (\n",
    "    traj_currents_animation_file\n",
    ")\n",
    "os.remove(temp_folder + traj_currents_animation_file_name)\n",
    "\n",
    "# add graph animation\n",
    "c3.Client.uploadLocalClientFiles(\n",
    "    temp_folder + traj_network_animation_file_name,\n",
    "    extDir + \"/logs\",\n",
    "    {\"peekForMetadata\": True},\n",
    ")\n",
    "traj_network_animation_file = c3.File(\n",
    "    **{\"url\": extDir + \"/logs/\" + traj_network_animation_file_name}\n",
    ").readMetadata()\n",
    "new_osr.oceanSimResult.traj_network_animation_file = traj_network_animation_file\n",
    "os.remove(temp_folder + traj_network_animation_file_name)\n",
    "\n",
    "# LOG URL IN WANDB\n",
    "wandb.summary[\n",
    "    \"traj_current_plot_svg\"\n",
    "] = traj_currents_plot_file.generatePresignedUrl(\"GET\", \"600d\")\n",
    "wandb.summary[\n",
    "    \"reachability_plot_svg\"\n",
    "] = reachability_plot_file.generatePresignedUrl(\"GET\", \"600d\")\n",
    "wandb.summary[\n",
    "    \"distance_evol_plot_svg\"\n",
    "] = distance_evol_plot_file.generatePresignedUrl(\"GET\", \"600d\")\n",
    "wandb.summary[\n",
    "    \"platf_trajectories_animation\"\n",
    "] = traj_currents_animation_file.generatePresignedUrl(\"GET\", \"600d\")\n",
    "wandb.summary[\n",
    "    \"traj_network_animation\"\n",
    "] = traj_network_animation_file.generatePresignedUrl(\"GET\", \"600d\")\n",
    "\n",
    "wandb.finish()"
   ]
  },
  {
   "cell_type": "code",
   "execution_count": null,
   "metadata": {},
   "outputs": [],
   "source": [
    "ax = controller.plot_reachability_snapshot(\n",
    "    rel_time_in_seconds=0,\n",
    "    granularity_in_h=5,\n",
    "    alpha_color=1,\n",
    "    time_to_reach=True,\n",
    "    fig_size_inches=(12, 12),\n",
    "    plot_in_h=True,\n",
    "    return_ax=True,\n",
    ")"
   ]
  },
  {
   "cell_type": "code",
   "execution_count": null,
   "metadata": {},
   "outputs": [],
   "source": [
    "wandb.finish()"
   ]
  },
  {
   "cell_type": "code",
   "execution_count": null,
   "metadata": {},
   "outputs": [],
   "source": [
    "ax = arena.plot_all_on_map(problem=problem, show_control_trajectory=False,return_ax=True,)"
   ]
  },
  {
   "cell_type": "code",
   "execution_count": null,
   "metadata": {},
   "outputs": [],
   "source": [
    "arena.animate_trajectory(\n",
    "    margin=0.25,\n",
    "    problem=problem,\n",
    "    temporal_resolution=7200,\n",
    "    background=\"current\",\n",
    "    output=f\"{temp_folder}platform_trajectories.mp4\",\n",
    "    fps=10,\n",
    ")"
   ]
  },
  {
   "attachments": {},
   "cell_type": "markdown",
   "metadata": {},
   "source": [
    "# Run Simulation"
   ]
  },
  {
   "cell_type": "code",
   "execution_count": 20,
   "metadata": {},
   "outputs": [],
   "source": [
    "# Create the Experiment Batch Job Options\n",
    "options = c3.OceanSimRunBatchJobOptions(**{\n",
    "    'experiment': exp,\n",
    "    'actionRuntime': 'nicolas' # enum('marius', 'andreas', 'matthias', 'nicolas')\n",
    "})"
   ]
  },
  {
   "cell_type": "code",
   "execution_count": 21,
   "metadata": {},
   "outputs": [
    {
     "data": {
      "text/plain": [
       "c3.OceanSimRunBatchJob(\n",
       " typeIdent='BATCHJ:O_OSRun',\n",
       " id='b60d867a-6a07-4944-9239-e1105e4d96fd',\n",
       " meta=c3.Meta(\n",
       "        created=datetime.datetime(2023, 3, 9, 0, 40, 52, tzinfo=datetime.timezone.utc),\n",
       "        updated=datetime.datetime(2023, 3, 9, 0, 40, 52, tzinfo=datetime.timezone.utc),\n",
       "        timestamp=datetime.datetime(2023, 3, 9, 0, 40, 52, tzinfo=datetime.timezone.utc)),\n",
       " version=1)"
      ]
     },
     "execution_count": 21,
     "metadata": {},
     "output_type": "execute_result"
    }
   ],
   "source": [
    "# Start the Batch Job\n",
    "run_job = c3.OceanSimRunBatchJob(**{'options': options.toJson()}).upsert()\n",
    "# run_job.numAutoRecoveryAttempts = 1\n",
    "run_job.start()\n",
    "run_job"
   ]
  },
  {
   "cell_type": "code",
   "execution_count": 56,
   "metadata": {},
   "outputs": [
    {
     "data": {
      "text/plain": [
       "c3.BatchJobStatus(\n",
       " started=datetime.datetime(2023, 3, 9, 0, 40, 53, tzinfo=datetime.timezone.utc),\n",
       " startedby='mariuswiggert@berkeley.edu',\n",
       " completed=datetime.datetime(2023, 3, 9, 2, 55, 43, tzinfo=datetime.timezone.utc),\n",
       " status='canceled',\n",
       " newBatchSubmitted=True)"
      ]
     },
     "execution_count": 56,
     "metadata": {},
     "output_type": "execute_result"
    }
   ],
   "source": [
    "#run_job = c3.OceanSimRunBatchJob.get('b60d867a-6a07-4944-9239-e1105e4d96fd')\n",
    "run_job.status()"
   ]
  },
  {
   "cell_type": "code",
   "execution_count": 61,
   "metadata": {},
   "outputs": [
    {
     "data": {
      "text/plain": [
       "c3.JobComputingActionsResult()"
      ]
     },
     "execution_count": 61,
     "metadata": {},
     "output_type": "execute_result"
    }
   ],
   "source": [
    "run_job.computingActions()"
   ]
  },
  {
   "cell_type": "code",
   "execution_count": 54,
   "metadata": {},
   "outputs": [
    {
     "ename": "TypeError",
     "evalue": "'NoneType' object is not subscriptable",
     "output_type": "error",
     "traceback": [
      "\u001b[0;31m---------------------------------------------------------------------------\u001b[0m",
      "\u001b[0;31mTypeError\u001b[0m                                 Traceback (most recent call last)",
      "\u001b[1;32m/home/nicolas/documents/Master_Thesis_repo/OceanPlatformControl/scripts/nicolas/scripts_for_exp_runs/c3_multi_ag/multi_ag_running_on_c3.ipynb Cell 99\u001b[0m in \u001b[0;36m<cell line: 1>\u001b[0;34m()\u001b[0m\n\u001b[0;32m----> <a href='vscode-notebook-cell://wsl%2Bubuntu-20.04/home/nicolas/documents/Master_Thesis_repo/OceanPlatformControl/scripts/nicolas/scripts_for_exp_runs/c3_multi_ag/multi_ag_running_on_c3.ipynb#Y200sdnNjb2RlLXJlbW90ZQ%3D%3D?line=0'>1</a>\u001b[0m \u001b[39mprint\u001b[39m(run_job\u001b[39m.\u001b[39;49mstatus()\u001b[39m.\u001b[39;49merrors[\u001b[39m0\u001b[39;49m]\u001b[39m.\u001b[39merrorLog)\n",
      "\u001b[0;31mTypeError\u001b[0m: 'NoneType' object is not subscriptable"
     ]
    }
   ],
   "source": [
    "print(run_job.status().errors[0].errorLog)"
   ]
  },
  {
   "cell_type": "code",
   "execution_count": 55,
   "metadata": {},
   "outputs": [
    {
     "name": "stdout",
     "output_type": "stream",
     "text": [
      "Total of 1200 OceanSimRuns\n",
      "staged_to_run:  0\n",
      "running_sim:  1\n",
      "finished_running:  1173\n",
      "run_failed:  26\n"
     ]
    }
   ],
   "source": [
    "experiment = 'mission.experiment.id==' + '\"' + exp.id + '\"'\n",
    "objs_list = c3.OceanSimRun.fetch(spec={'include': \"[this]\",'filter':  experiment}).objs\n",
    "print(\"Total of {} OceanSimRuns\".format(len(objs_list)))\n",
    "\n",
    "staged_to_run = 0\n",
    "running_sim = 0\n",
    "finished_running = 0\n",
    "run_failed = 0\n",
    "failed_runs = []\n",
    "for run in objs_list:\n",
    "    if run.status == 'staged_to_run':\n",
    "        staged_to_run += 1\n",
    "    elif run.status == 'running_sim':\n",
    "        running_sim += 1\n",
    "    elif run.status == 'finished_running':\n",
    "        finished_running += 1\n",
    "    elif run.status == 'run_failed':\n",
    "        run_failed += 1\n",
    "        failed_runs.append(run)\n",
    "\n",
    "print(\"staged_to_run: \", staged_to_run)\n",
    "print(\"running_sim: \", running_sim)\n",
    "print(\"finished_running: \", finished_running)\n",
    "print(\"run_failed: \", run_failed)"
   ]
  },
  {
   "cell_type": "code",
   "execution_count": 38,
   "metadata": {},
   "outputs": [
    {
     "name": "stdout",
     "output_type": "stream",
     "text": [
      "unpack requires a buffer of 4326816 bytes\n",
      "HJPlanner: Some issue with the value function, min goes below -2, should maximally be -1.\n",
      "HJPlanner: Some issue with the value function, min goes below -2, should maximally be -1.\n",
      "HJPlanner: Some issue with the value function, min goes below -2, should maximally be -1.\n",
      "HJPlanner: Some issue with the value function, min goes below -2, should maximally be -1.\n",
      "HJPlanner: Some issue with the value function, min goes below -2, should maximally be -1.\n",
      "Error communicating with wandb process\n",
      "For more info see: https://docs.wandb.ai/library/init#init-start-error\n",
      "Error communicating with wandb process\n",
      "For more info see: https://docs.wandb.ai/library/init#init-start-error\n",
      "Error communicating with wandb process\n",
      "For more info see: https://docs.wandb.ai/library/init#init-start-error\n",
      "unpack requires a buffer of 4 bytes\n",
      "Error communicating with wandb process\n",
      "For more info see: https://docs.wandb.ai/library/init#init-start-error\n",
      "Error communicating with wandb process\n",
      "For more info see: https://docs.wandb.ai/library/init#init-start-error\n",
      "Error communicating with wandb process\n",
      "For more info see: https://docs.wandb.ai/library/init#init-start-error\n",
      "Error communicating with wandb process\n",
      "For more info see: https://docs.wandb.ai/library/init#init-start-error\n",
      "HJPlanner: Some issue with the value function, min goes below -2, should maximally be -1.\n",
      "Error communicating with wandb process\n",
      "For more info see: https://docs.wandb.ai/library/init#init-start-error\n",
      "Error communicating with wandb process\n",
      "For more info see: https://docs.wandb.ai/library/init#init-start-error\n",
      "HJPlanner: Some issue with the value function, min goes below -2, should maximally be -1.\n",
      "Error communicating with wandb process\n",
      "For more info see: https://docs.wandb.ai/library/init#init-start-error\n",
      "Error communicating with wandb process\n",
      "For more info see: https://docs.wandb.ai/library/init#init-start-error\n",
      "Error communicating with wandb process\n",
      "For more info see: https://docs.wandb.ai/library/init#init-start-error\n",
      "Error communicating with wandb process\n",
      "For more info see: https://docs.wandb.ai/library/init#init-start-error\n",
      "Error communicating with wandb process\n",
      "For more info see: https://docs.wandb.ai/library/init#init-start-error\n",
      "Error communicating with wandb process\n",
      "For more info see: https://docs.wandb.ai/library/init#init-start-error\n",
      "Error communicating with wandb process\n",
      "For more info see: https://docs.wandb.ai/library/init#init-start-error\n",
      "Error communicating with wandb process\n",
      "For more info see: https://docs.wandb.ai/library/init#init-start-error\n"
     ]
    }
   ],
   "source": [
    "for failed_run in failed_runs:\n",
    "    print(failed_run.oceanSimResult.error_message)"
   ]
  },
  {
   "cell_type": "code",
   "execution_count": null,
   "metadata": {},
   "outputs": [],
   "source": [
    "for fail in failed_runs:\n",
    "    print(fail.id)"
   ]
  },
  {
   "attachments": {},
   "cell_type": "markdown",
   "metadata": {},
   "source": [
    "  + To re-run failed jobs"
   ]
  },
  {
   "cell_type": "code",
   "execution_count": null,
   "metadata": {},
   "outputs": [],
   "source": [
    "for run in objs_list:\n",
    "    if run.status == \"run_failed\":\n",
    "        run.status = \"staged_to_run\"\n",
    "        run.merge()"
   ]
  },
  {
   "cell_type": "code",
   "execution_count": 59,
   "metadata": {},
   "outputs": [
    {
     "data": {
      "text/plain": [
       "c3.BatchJobStatus(\n",
       " started=datetime.datetime(2023, 3, 9, 0, 40, 53, tzinfo=datetime.timezone.utc),\n",
       " startedby='mariuswiggert@berkeley.edu',\n",
       " completed=datetime.datetime(2023, 3, 9, 2, 55, 43, tzinfo=datetime.timezone.utc),\n",
       " status='canceled',\n",
       " newBatchSubmitted=True)"
      ]
     },
     "execution_count": 59,
     "metadata": {},
     "output_type": "execute_result"
    }
   ],
   "source": [
    "run_job.cancel()"
   ]
  },
  {
   "attachments": {},
   "cell_type": "markdown",
   "metadata": {},
   "source": [
    "### Utils to debug run failed (on c3)"
   ]
  },
  {
   "cell_type": "code",
   "execution_count": 60,
   "metadata": {},
   "outputs": [
    {
     "ename": "AttributeError",
     "evalue": "'NoneType' object has no attribute 'toJson'",
     "output_type": "error",
     "traceback": [
      "\u001b[0;31m---------------------------------------------------------------------------\u001b[0m",
      "\u001b[0;31mAttributeError\u001b[0m                            Traceback (most recent call last)",
      "\u001b[1;32m/home/nicolas/documents/Master_Thesis_repo/OceanPlatformControl/scripts/nicolas/scripts_for_exp_runs/c3_multi_ag/multi_ag_running_on_c3.ipynb Cell 107\u001b[0m in \u001b[0;36m<cell line: 2>\u001b[0;34m()\u001b[0m\n\u001b[1;32m      <a href='vscode-notebook-cell://wsl%2Bubuntu-20.04/home/nicolas/documents/Master_Thesis_repo/OceanPlatformControl/scripts/nicolas/scripts_for_exp_runs/c3_multi_ag/multi_ag_running_on_c3.ipynb#Y211sdnNjb2RlLXJlbW90ZQ%3D%3D?line=0'>1</a>\u001b[0m rc \u001b[39m=\u001b[39m c3\u001b[39m.\u001b[39mBatchQueue\u001b[39m.\u001b[39mreportCount(\u001b[39m*\u001b[39m\u001b[39m*\u001b[39m{\u001b[39m\"\u001b[39m\u001b[39mgroup\u001b[39m\u001b[39m\"\u001b[39m:{\u001b[39m\"\u001b[39m\u001b[39mtargetTenantTagId\u001b[39m\u001b[39m\"\u001b[39m:\u001b[39mTrue\u001b[39;00m,\u001b[39m\"\u001b[39m\u001b[39mtargetTypeId\u001b[39m\u001b[39m\"\u001b[39m:\u001b[39mTrue\u001b[39;00m,\u001b[39m\"\u001b[39m\u001b[39mstatus\u001b[39m\u001b[39m\"\u001b[39m:\u001b[39mTrue\u001b[39;00m,\u001b[39m\"\u001b[39m\u001b[39mtargetObjId\u001b[39m\u001b[39m\"\u001b[39m:\u001b[39mTrue\u001b[39;00m,\u001b[39m\"\u001b[39m\u001b[39mpriority\u001b[39m\u001b[39m\"\u001b[39m:\u001b[39mTrue\u001b[39;00m,\u001b[39m\"\u001b[39m\u001b[39mcontext\u001b[39m\u001b[39m\"\u001b[39m:\u001b[39mTrue\u001b[39;00m,\u001b[39m\"\u001b[39m\u001b[39mhardwareProfile\u001b[39m\u001b[39m\"\u001b[39m:\u001b[39mTrue\u001b[39;00m},\u001b[39m\"\u001b[39m\u001b[39mlimit\u001b[39m\u001b[39m\"\u001b[39m:\u001b[39m-\u001b[39m\u001b[39m1\u001b[39m})\n\u001b[0;32m----> <a href='vscode-notebook-cell://wsl%2Bubuntu-20.04/home/nicolas/documents/Master_Thesis_repo/OceanPlatformControl/scripts/nicolas/scripts_for_exp_runs/c3_multi_ag/multi_ag_running_on_c3.ipynb#Y211sdnNjb2RlLXJlbW90ZQ%3D%3D?line=1'>2</a>\u001b[0m rc\u001b[39m.\u001b[39;49mtoJson()\n\u001b[1;32m      <a href='vscode-notebook-cell://wsl%2Bubuntu-20.04/home/nicolas/documents/Master_Thesis_repo/OceanPlatformControl/scripts/nicolas/scripts_for_exp_runs/c3_multi_ag/multi_ag_running_on_c3.ipynb#Y211sdnNjb2RlLXJlbW90ZQ%3D%3D?line=2'>3</a>\u001b[0m d \u001b[39m=\u001b[39m \u001b[39mdict\u001b[39m()\n\u001b[1;32m      <a href='vscode-notebook-cell://wsl%2Bubuntu-20.04/home/nicolas/documents/Master_Thesis_repo/OceanPlatformControl/scripts/nicolas/scripts_for_exp_runs/c3_multi_ag/multi_ag_running_on_c3.ipynb#Y211sdnNjb2RlLXJlbW90ZQ%3D%3D?line=3'>4</a>\u001b[0m \u001b[39mfor\u001b[39;00m i \u001b[39min\u001b[39;00m rc:\n",
      "\u001b[0;31mAttributeError\u001b[0m: 'NoneType' object has no attribute 'toJson'"
     ]
    }
   ],
   "source": [
    "rc = c3.BatchQueue.reportCount(**{\"group\":{\"targetTenantTagId\":True,\"targetTypeId\":True,\"status\":True,\"targetObjId\":True,\"priority\":True,\"context\":True,\"hardwareProfile\":True},\"limit\":-1})\n",
    "rc.toJson()\n",
    "d = dict()\n",
    "for i in rc:\n",
    "    if i.targetObjId not in d:\n",
    "        d[i.targetObjId] = [0,0,0,0,0, \"\", \"\"]      \n",
    "    \n",
    "    if i.status == \"computingEntries\":\n",
    "        d[i.targetObjId][0] += 1\n",
    "    elif i.status == \"pending\":\n",
    "        d[i.targetObjId][1] += 1\n",
    "    elif i.status == \"failed\":\n",
    "        d[i.targetObjId][2] += 1\n",
    "    elif i.status == \"failing\":\n",
    "        d[i.targetObjId][3] += 1\n",
    "    else:\n",
    "        d[i.targetObjId][4] += 1\n",
    "    d[i.targetObjId][5] = i.targetType\n",
    "    d[i.targetObjId][6] = i.hardwareProfile\n",
    "    \n",
    "\n",
    "print(\"computingEntries\", \"pending\", \"failed\",\"failing\", \"other\", \"targetType\",  \"hardwareProfile\", \"targetObjId\")\n",
    "for key in d:\n",
    "    print(str(d[key]).rjust(6) + \"   \" + key)"
   ]
  },
  {
   "cell_type": "code",
   "execution_count": null,
   "metadata": {},
   "outputs": [],
   "source": [
    "c3.Cluster.actionDump()"
   ]
  },
  {
   "attachments": {},
   "cell_type": "markdown",
   "metadata": {},
   "source": [
    "# Analyse Results and download metrics"
   ]
  },
  {
   "attachments": {},
   "cell_type": "markdown",
   "metadata": {},
   "source": [
    "+ Extract mission number from string"
   ]
  },
  {
   "cell_type": "code",
   "execution_count": 3,
   "metadata": {},
   "outputs": [],
   "source": [
    "import re\n",
    "def extract_number(string):\n",
    "    pattern = re.compile(r\"_(\\d+)$\")\n",
    "    match = pattern.search(string)\n",
    "    if match:\n",
    "        return int(match.group(1))\n",
    "    else:\n",
    "        return None"
   ]
  },
  {
   "cell_type": "code",
   "execution_count": 7,
   "metadata": {},
   "outputs": [
    {
     "data": {
      "text/plain": [
       "1200"
      ]
     },
     "execution_count": 7,
     "metadata": {},
     "output_type": "execute_result"
    }
   ],
   "source": [
    "all_missions = exp.get('expMissions').expMissions\n",
    "len(all_missions)"
   ]
  },
  {
   "attachments": {},
   "cell_type": "markdown",
   "metadata": {},
   "source": [
    "To extract the metrics and save it to panda dataframe"
   ]
  },
  {
   "cell_type": "code",
   "execution_count": 27,
   "metadata": {},
   "outputs": [],
   "source": [
    "import pandas as pd\n",
    "from tqdm import tqdm\n",
    "def get_metrics_as_df(this, ctrl):\n",
    "    # get all runs from the database (NOTE this can only get 2000 at a time!)\n",
    "    #exp_filter = \"mission.experiment.id==\" + '\"' + this.get(\"experimentName\").experimentName + '\"'\n",
    "    OceanSimObj_lists = []\n",
    "    metrics_dict = {}\n",
    "    controller = 'controllerSetting==' + '\"' + ctrl.id + '\"'\n",
    "    status = ' && status ==' + '\"' + 'finished_running' + '\"'\n",
    "    #termination_reason = ' && terminationReason ==' + '\"' + 'Timeout' + '\"'\n",
    "    OceanSimObj_lists=c3.OceanSimRun.fetch(spec={'include': \"[this]\",\n",
    "                                         'filter': controller + status,\n",
    "                                         'order': \"ascending(mission.id)\"\n",
    "                                                       }\n",
    "                                   ).objs\n",
    "\n",
    "    mission_ids = []\n",
    "    \n",
    "    for run, i in zip(OceanSimObj_lists, tqdm(range(len(OceanSimObj_lists)))):\n",
    "        run_id = extract_number(run.get(\"mission\").mission.id)\n",
    "        try:\n",
    "            current_metrics = c3.HycomUtil.get_traj_dict(run, local_folder=\"tmp/test\")[\"metrics\"]\n",
    "            for key, val in current_metrics.items():\n",
    "                if key not in metrics_dict:\n",
    "                    metrics_dict[key] = []\n",
    "                metrics_dict[key].append(val)\n",
    "            mission_ids.append(run_id) # only add mission ids if metrics are found\n",
    "        except:\n",
    "            print(f\"unable to find metrics for {run_id}\")\n",
    "            continue \n",
    "    df_metrics = pd.DataFrame(metrics_dict)\n",
    "    df_metrics['mission_nr'] = mission_ids#add mission ids to dataframe\n",
    "    return df_metrics, mission_ids"
   ]
  },
  {
   "cell_type": "code",
   "execution_count": 13,
   "metadata": {},
   "outputs": [
    {
     "name": "stdout",
     "output_type": "stream",
     "text": [
      "flocking_0_25\n"
     ]
    }
   ],
   "source": [
    "all_controllers = exp.get('controllers').controllers\n",
    "for controller in all_controllers:\n",
    "    print(controller.get(\"name\").name)\n"
   ]
  },
  {
   "cell_type": "code",
   "execution_count": 1,
   "metadata": {},
   "outputs": [
    {
     "ename": "NameError",
     "evalue": "name 'all_controllers' is not defined",
     "output_type": "error",
     "traceback": [
      "\u001b[0;31m---------------------------------------------------------------------------\u001b[0m",
      "\u001b[0;31mNameError\u001b[0m                                 Traceback (most recent call last)",
      "\u001b[1;32m/home/nicolas/documents/Master_Thesis_repo/OceanPlatformControl/scripts/nicolas/scripts_for_exp_runs/c3_multi_ag/multi_ag_running_on_c3.ipynb Cell 116\u001b[0m in \u001b[0;36m<cell line: 1>\u001b[0;34m()\u001b[0m\n\u001b[0;32m----> <a href='vscode-notebook-cell://wsl%2Bubuntu-20.04/home/nicolas/documents/Master_Thesis_repo/OceanPlatformControl/scripts/nicolas/scripts_for_exp_runs/c3_multi_ag/multi_ag_running_on_c3.ipynb#Y241sdnNjb2RlLXJlbW90ZQ%3D%3D?line=0'>1</a>\u001b[0m ctrl \u001b[39m=\u001b[39m all_controllers[\u001b[39m0\u001b[39m]\n\u001b[1;32m      <a href='vscode-notebook-cell://wsl%2Bubuntu-20.04/home/nicolas/documents/Master_Thesis_repo/OceanPlatformControl/scripts/nicolas/scripts_for_exp_runs/c3_multi_ag/multi_ag_running_on_c3.ipynb#Y241sdnNjb2RlLXJlbW90ZQ%3D%3D?line=1'>2</a>\u001b[0m df_metrics, run_ids \u001b[39m=\u001b[39m get_metrics_as_df(exp, ctrl)\n\u001b[1;32m      <a href='vscode-notebook-cell://wsl%2Bubuntu-20.04/home/nicolas/documents/Master_Thesis_repo/OceanPlatformControl/scripts/nicolas/scripts_for_exp_runs/c3_multi_ag/multi_ag_running_on_c3.ipynb#Y241sdnNjb2RlLXJlbW90ZQ%3D%3D?line=2'>3</a>\u001b[0m df_metrics\u001b[39m.\u001b[39mto_csv(\u001b[39m'\u001b[39m\u001b[39mgenerated_media/metrics_csv_results/\u001b[39m\u001b[39m'\u001b[39m\u001b[39m+\u001b[39m exp\u001b[39m.\u001b[39mget(\u001b[39m\"\u001b[39m\u001b[39mid\u001b[39m\u001b[39m\"\u001b[39m)\u001b[39m.\u001b[39mid \u001b[39m+\u001b[39m \u001b[39m'\u001b[39m\u001b[39m_\u001b[39m\u001b[39m'\u001b[39m \u001b[39m+\u001b[39m ctrl\u001b[39m.\u001b[39mget(\u001b[39m\"\u001b[39m\u001b[39mname\u001b[39m\u001b[39m\"\u001b[39m)\u001b[39m.\u001b[39mname \u001b[39m+\u001b[39m \u001b[39m'\u001b[39m\u001b[39m_\u001b[39m\u001b[39m'\u001b[39m \u001b[39m+\u001b[39m \u001b[39mstr\u001b[39m(\u001b[39mlen\u001b[39m(run_ids)) \u001b[39m+\u001b[39m \u001b[39m'\u001b[39m\u001b[39m.csv\u001b[39m\u001b[39m'\u001b[39m)\n",
      "\u001b[0;31mNameError\u001b[0m: name 'all_controllers' is not defined"
     ]
    }
   ],
   "source": [
    "ctrl = all_controllers[0]\n",
    "df_metrics, run_ids = get_metrics_as_df(exp, ctrl)\n",
    "df_metrics.to_csv('generated_media/metrics_csv_results/'+ exp.get(\"id\").id + '_' + ctrl.get(\"name\").name + '_' + str(len(run_ids)) + '.csv')"
   ]
  },
  {
   "attachments": {},
   "cell_type": "markdown",
   "metadata": {},
   "source": [
    "#### Old"
   ]
  },
  {
   "cell_type": "code",
   "execution_count": null,
   "metadata": {},
   "outputs": [],
   "source": [
    "import pandas as pd\n",
    "def get_results_df(this):\n",
    "    # get all runs from the database (NOTE this can only get 2000 at a time!)\n",
    "    exp_filter = 'mission.experiment.id==' + '\"' + this.get('experimentName').experimentName + '\"'\n",
    "    all_exp_runs = c3.OceanSimRun.fetch(spec={'include': \"[this]\",\n",
    "                                              'filter': exp_filter,\n",
    "                                              'order': \"ascending(mission.id)\",\n",
    "                                              'limit': -1\n",
    "                                             }).objs\n",
    "    # get a list of all termination reasons\n",
    "    termination_reason = []\n",
    "    status = []\n",
    "    arrival_time = []\n",
    "    minDistanceToTarget = []\n",
    "    ctrl_obs_name = []\n",
    "    mission_ids = []\n",
    "\n",
    "    for run in all_exp_runs:\n",
    "        # get mission_id\n",
    "        mission_ids.append(run.get('mission').mission.id)\n",
    "        # get ctrl_obs setting\n",
    "        ctrl_obs_name.append(run.get('controllerSetting.name').controllerSetting.name + '__' + run.get('observerSetting.name').observerSetting.name)\n",
    "        # add outcomes\n",
    "        termination_reason.append(run.terminationReason)\n",
    "        status.append(run.status)\n",
    "        arrival_time.append(run.T_arrival_time)\n",
    "        minDistanceToTarget.append(run.minDistanceToTarget)\n",
    "\n",
    "    # Make a df out of it\n",
    "    df = pd.DataFrame(list(zip(mission_ids, ctrl_obs_name, status, termination_reason, arrival_time,minDistanceToTarget)),\n",
    "                      columns=['mission_id', 'setting', 'status', 'termination_reason', 'arrival_time', 'minDistance'])\n",
    "    \n",
    "    return df"
   ]
  },
  {
   "cell_type": "code",
   "execution_count": null,
   "metadata": {},
   "outputs": [],
   "source": [
    "df = get_results_df(exp)"
   ]
  },
  {
   "cell_type": "code",
   "execution_count": null,
   "metadata": {},
   "outputs": [],
   "source": [
    "df"
   ]
  }
 ],
 "metadata": {
  "kernelspec": {
   "display_name": "ocean_minimal",
   "language": "python",
   "name": "python3"
  },
  "language_info": {
   "codemirror_mode": {
    "name": "ipython",
    "version": 3
   },
   "file_extension": ".py",
   "mimetype": "text/x-python",
   "name": "python",
   "nbconvert_exporter": "python",
   "pygments_lexer": "ipython3",
   "version": "3.9.13"
  },
  "orig_nbformat": 4,
  "vscode": {
   "interpreter": {
    "hash": "9ed4b5c9df27747f3a2313a7b45e2dcb31384957b3c889e68300f490f3475319"
   }
  }
 },
 "nbformat": 4,
 "nbformat_minor": 2
}
