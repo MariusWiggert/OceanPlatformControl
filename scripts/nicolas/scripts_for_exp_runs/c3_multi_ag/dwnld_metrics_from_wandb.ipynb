{
 "cells": [
  {
   "cell_type": "code",
   "execution_count": 2,
   "metadata": {},
   "outputs": [
    {
     "name": "stdout",
     "output_type": "stream",
     "text": [
      "/home/nicolas/documents/Master_Thesis_repo/OceanPlatformControl\n"
     ]
    }
   ],
   "source": [
    "import os\n",
    "import json\n",
    "import numpy as np\n",
    "import matplotlib.pyplot as plt\n",
    "print(os.getcwd())\n",
    "##\n",
    "import pandas as pd\n",
    "# These lines in VSCode to avoid reloading the kernel when changes are made to the external kernel\n",
    "%load_ext autoreload\n",
    "%autoreload 2"
   ]
  },
  {
   "cell_type": "code",
   "execution_count": 3,
   "metadata": {},
   "outputs": [],
   "source": [
    "import wandb\n",
    "api = wandb.Api(timeout=60)"
   ]
  },
  {
   "cell_type": "code",
   "execution_count": 4,
   "metadata": {},
   "outputs": [],
   "source": [
    "import re\n",
    "def extract_number(string):\n",
    "    pattern = re.compile(r\"_(\\d+)$\")\n",
    "    match = pattern.search(string)\n",
    "    if match:\n",
    "        return int(match.group(1))\n",
    "    else:\n",
    "        return None"
   ]
  },
  {
   "cell_type": "code",
   "execution_count": 5,
   "metadata": {},
   "outputs": [
    {
     "name": "stdout",
     "output_type": "stream",
     "text": [
      "1191 missions for this experiment\n"
     ]
    }
   ],
   "source": [
    "experiment = \"30_platforms_HC_HC\"\n",
    "ctrl = \"flocking\"\n",
    "runs = api.runs(path=\"nhoischen/Master Thesis\",\n",
    "         filters={\"$and\": [{\"config.experiment.id.value\": experiment}, {\"config.ctrlConfig.high_level_ctrl\": ctrl}, \n",
    "         {\"config.ctrlConfig.flocking_config.epsilon\":1}]}\n",
    ")\n",
    "nb_missions = len(runs)\n",
    "print(f\"{nb_missions} missions for this experiment\")"
   ]
  },
  {
   "cell_type": "code",
   "execution_count": 6,
   "metadata": {},
   "outputs": [
    {
     "name": "stderr",
     "output_type": "stream",
     "text": [
      "\u001b[34m\u001b[1mwandb\u001b[0m:   1 of 1 files downloaded.  \n"
     ]
    },
    {
     "name": "stdout",
     "output_type": "stream",
     "text": [
      "unable to find metrics for 30_platforms_HC_HC_mission_nr_858_flocking_0_25_NoObserver\n"
     ]
    },
    {
     "name": "stderr",
     "output_type": "stream",
     "text": [
      "\u001b[34m\u001b[1mwandb\u001b[0m:   1 of 1 files downloaded.  \n"
     ]
    },
    {
     "name": "stdout",
     "output_type": "stream",
     "text": [
      "unable to find metrics for 30_platforms_HC_HC_mission_nr_830_flocking_0_25_NoObserver\n"
     ]
    },
    {
     "name": "stderr",
     "output_type": "stream",
     "text": [
      "\u001b[34m\u001b[1mwandb\u001b[0m:   1 of 1 files downloaded.  \n"
     ]
    },
    {
     "name": "stdout",
     "output_type": "stream",
     "text": [
      "unable to find metrics for 30_platforms_HC_HC_mission_nr_798_flocking_0_25_NoObserver\n",
      "unable to find metrics for 30_platforms_HC_HC_mission_nr_6_flocking_0_25_NoObserver\n"
     ]
    },
    {
     "name": "stderr",
     "output_type": "stream",
     "text": [
      "\u001b[34m\u001b[1mwandb\u001b[0m:   1 of 1 files downloaded.  \n"
     ]
    },
    {
     "name": "stdout",
     "output_type": "stream",
     "text": [
      "unable to find metrics for 30_platforms_HC_HC_mission_nr_695_flocking_0_25_NoObserver\n"
     ]
    },
    {
     "name": "stderr",
     "output_type": "stream",
     "text": [
      "\u001b[34m\u001b[1mwandb\u001b[0m:   1 of 1 files downloaded.  \n"
     ]
    }
   ],
   "source": [
    "metrics_dict = {}\n",
    "run_ids = []\n",
    "for nb_run, run in enumerate(runs):\n",
    "    try:\n",
    "        metrics_table = run.logged_artifacts()[0] # my metric table is logged as the first artifact object\n",
    "        table_dir = metrics_table.download()\n",
    "        table_path = f\"{table_dir}/metrics.table.json\"\n",
    "        #metrics_url = run.summary['metrics']['path']\n",
    "        metrics = json.load(open(table_path))\n",
    "        for i, column in enumerate(metrics[\"columns\"]):\n",
    "            if nb_run == 0:\n",
    "                metrics_dict[column] = [metrics[\"data\"][0][i]]\n",
    "            else:\n",
    "                metrics_dict[column].append(metrics[\"data\"][0][i])\n",
    "        run_ids.append(extract_number(run.config['mission.id'])) # retrieve mission number, as for wandb dwnld the order between controllers don't match (allows to sort by mission id later)\n",
    "    except BaseException:\n",
    "        print(f\"unable to find metrics for {run.id}\")\n",
    "        continue\n",
    "\n",
    "df_metrics = pd.DataFrame(metrics_dict)"
   ]
  },
  {
   "cell_type": "code",
   "execution_count": 18,
   "metadata": {},
   "outputs": [],
   "source": [
    "df_metrics['mission_nr'] = run_ids"
   ]
  },
  {
   "cell_type": "code",
   "execution_count": 19,
   "metadata": {},
   "outputs": [],
   "source": [
    "df_metrics.to_csv(experiment + '_' + ctrl + '_' + str(len(run_ids)) + '.csv')"
   ]
  },
  {
   "cell_type": "code",
   "execution_count": 8,
   "metadata": {},
   "outputs": [],
   "source": [
    "#df_sorted = df_metrics.sort_values(['mission_nr'])"
   ]
  }
 ],
 "metadata": {
  "kernelspec": {
   "display_name": "ocean_minimal",
   "language": "python",
   "name": "python3"
  },
  "language_info": {
   "codemirror_mode": {
    "name": "ipython",
    "version": 3
   },
   "file_extension": ".py",
   "mimetype": "text/x-python",
   "name": "python",
   "nbconvert_exporter": "python",
   "pygments_lexer": "ipython3",
   "version": "3.9.13"
  },
  "orig_nbformat": 4,
  "vscode": {
   "interpreter": {
    "hash": "9ed4b5c9df27747f3a2313a7b45e2dcb31384957b3c889e68300f490f3475319"
   }
  }
 },
 "nbformat": 4,
 "nbformat_minor": 2
}
