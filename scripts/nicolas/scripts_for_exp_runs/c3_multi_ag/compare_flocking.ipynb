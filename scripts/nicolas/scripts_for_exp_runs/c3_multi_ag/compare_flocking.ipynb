{
 "cells": [
  {
   "cell_type": "code",
   "execution_count": 1,
   "metadata": {},
   "outputs": [],
   "source": [
    "import datetime\n",
    "import logging\n",
    "import os\n",
    "import numpy as np\n",
    "from ocean_navigation_simulator.reinforcement_learning.runners.GenerationRunner import (\n",
    "    GenerationRunner,\n",
    ")\n",
    "import matplotlib.pyplot as plt\n",
    "## Only when developing with VSCode in my repo \n",
    "#os.chdir('/home/nicolas/codeRepo/OceanPlatformControl') # here in Azure\n",
    "# os.chdir('/home/nicolas/documents/Master_Thesis_repo/OceanPlatformControl') # here in WSL\n",
    "# print(os.getcwd())\n",
    "##\n",
    "import pandas as pd\n",
    "from ocean_navigation_simulator.utils.units import Distance\n",
    "# These lines in VSCode to avoid reloading the kernel when changes are made to the external kernel\n",
    "%load_ext autoreload\n",
    "%autoreload 2"
   ]
  },
  {
   "cell_type": "code",
   "execution_count": 2,
   "metadata": {},
   "outputs": [],
   "source": [
    "path_to_files = 'generated_media/metrics_csv_results/'\n",
    "#file_containing_pb = 'problemsGOM.csv'\n",
    "pb_name_flocking_standard = '30_platforms_HC_HC_col_100m_flocking_standard_0_5_1124.csv'#'30_platforms_HC_HC_col_100m_flocking_standard_1_1106.csv'\n",
    "pb_name_flocking_softmax = '30_platforms_HC_HC_col_100m_flocking_0_5_1130_fiedler.csv' #30_platforms_HC_HC_col_100m_flocking_1_1179_fiedler.csv'"
   ]
  },
  {
   "cell_type": "code",
   "execution_count": 3,
   "metadata": {},
   "outputs": [],
   "source": [
    "metrics_hj_standard = pd.read_csv(f\"{path_to_files}/{pb_name_flocking_standard }\")\n",
    "metrics_hj_softmax = pd.read_csv(f\"{path_to_files}/{pb_name_flocking_softmax}\")"
   ]
  },
  {
   "cell_type": "code",
   "execution_count": 4,
   "metadata": {},
   "outputs": [],
   "source": [
    "# Find the common mission_nr values\n",
    "common_mission_nr = set(metrics_hj_standard['mission_nr']).intersection(set(metrics_hj_softmax ['mission_nr']))\n",
    "metrics_hj_standard = metrics_hj_standard[metrics_hj_standard['mission_nr'].isin(common_mission_nr)]\n",
    "metrics_hj_softmax = metrics_hj_softmax[metrics_hj_softmax['mission_nr'].isin(common_mission_nr)]"
   ]
  },
  {
   "cell_type": "code",
   "execution_count": 5,
   "metadata": {},
   "outputs": [],
   "source": [
    "metrics_hj_standard = metrics_hj_standard.sort_values(['mission_nr'])\n",
    "metrics_hj_softmax = metrics_hj_softmax.sort_values(['mission_nr'])\n",
    "metrics_hj_standard.set_index('mission_nr', inplace=True)\n",
    "metrics_hj_softmax.set_index('mission_nr', inplace=True)"
   ]
  },
  {
   "cell_type": "code",
   "execution_count": 6,
   "metadata": {},
   "outputs": [
    {
     "data": {
      "text/plain": [
       "Unnamed: 0                                                    559.191190\n",
       "Isolated_platform_metric                                        0.053521\n",
       "Number_of_collision                                             0.014995\n",
       "Reaching_target                                                 0.605311\n",
       "Mean minimum distance to target among all platforms in deg      0.057897\n",
       "Mean maximum correction from optimal control degrees          135.515191\n",
       "Average Beta Index                                             11.620237\n",
       "Initial maximum degree of the graph                             9.852858\n",
       "Final maximum degree of the graph                              28.686036\n",
       "Mission_success                                                 0.410497\n",
       "mean solver time in seconds                                     2.190844\n",
       "std solver time in seconds                                      0.267757\n",
       "fiedler_mean                                                   18.102527\n",
       "fiedler_min                                                     1.113594\n",
       "fiedler_max                                                    28.808186\n",
       "nb_disconnections                                               4.661668\n",
       "dtype: float64"
      ]
     },
     "execution_count": 6,
     "metadata": {},
     "output_type": "execute_result"
    }
   ],
   "source": [
    "metrics_hj_softmax.mean()"
   ]
  },
  {
   "cell_type": "code",
   "execution_count": 7,
   "metadata": {},
   "outputs": [
    {
     "data": {
      "text/plain": [
       "Unnamed: 0                                                    559.216495\n",
       "Isolated_platform_metric                                        0.049889\n",
       "Number_of_collision                                             0.009372\n",
       "Reaching_target                                                 0.610840\n",
       "Mean minimum distance to target among all platforms in deg      0.056606\n",
       "Mean maximum correction from optimal control degrees          135.701916\n",
       "Average Beta Index                                             11.623846\n",
       "Initial maximum degree of the graph                             9.852858\n",
       "Final maximum degree of the graph                              28.696345\n",
       "Mission_success                                                 0.417057\n",
       "mean solver time in seconds                                     2.868576\n",
       "std solver time in seconds                                      0.624887\n",
       "fiedler_mean                                                   18.110478\n",
       "fiedler_min                                                     1.109699\n",
       "fiedler_max                                                    28.795456\n",
       "nb_disconnections                                               4.125586\n",
       "dtype: float64"
      ]
     },
     "execution_count": 7,
     "metadata": {},
     "output_type": "execute_result"
    }
   ],
   "source": [
    "metrics_hj_standard.mean()"
   ]
  }
 ],
 "metadata": {
  "kernelspec": {
   "display_name": "ocean_minimal",
   "language": "python",
   "name": "python3"
  },
  "language_info": {
   "codemirror_mode": {
    "name": "ipython",
    "version": 3
   },
   "file_extension": ".py",
   "mimetype": "text/x-python",
   "name": "python",
   "nbconvert_exporter": "python",
   "pygments_lexer": "ipython3",
   "version": "3.9.13"
  },
  "orig_nbformat": 4,
  "vscode": {
   "interpreter": {
    "hash": "9ed4b5c9df27747f3a2313a7b45e2dcb31384957b3c889e68300f490f3475319"
   }
  }
 },
 "nbformat": 4,
 "nbformat_minor": 2
}
