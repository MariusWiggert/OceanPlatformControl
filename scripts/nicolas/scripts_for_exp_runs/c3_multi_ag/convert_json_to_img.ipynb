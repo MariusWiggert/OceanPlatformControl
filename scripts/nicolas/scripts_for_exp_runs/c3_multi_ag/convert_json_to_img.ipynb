{
 "cells": [
  {
   "cell_type": "code",
   "execution_count": 1,
   "metadata": {},
   "outputs": [],
   "source": [
    "import plotly\n",
    "import os\n",
    "path = '/home/nicolas/documents/Master_Thesis_repo/Plots_wandb_download/'\n",
    "filename = 'Missions with maintained connectivity and no collisions hj-flocking_0_d564606f811a39313d84'\n",
    "original_format = '.json'\n",
    "desired_format = '.png'\n",
    "fig = plotly.io.read_json(path+filename+original_format)\n",
    "fig.write_image(path+filename+desired_format, scale=15)"
   ]
  }
 ],
 "metadata": {
  "kernelspec": {
   "display_name": "ocean_minimal",
   "language": "python",
   "name": "python3"
  },
  "language_info": {
   "codemirror_mode": {
    "name": "ipython",
    "version": 3
   },
   "file_extension": ".py",
   "mimetype": "text/x-python",
   "name": "python",
   "nbconvert_exporter": "python",
   "pygments_lexer": "ipython3",
   "version": "3.9.13"
  },
  "orig_nbformat": 4,
  "vscode": {
   "interpreter": {
    "hash": "9ed4b5c9df27747f3a2313a7b45e2dcb31384957b3c889e68300f490f3475319"
   }
  }
 },
 "nbformat": 4,
 "nbformat_minor": 2
}
