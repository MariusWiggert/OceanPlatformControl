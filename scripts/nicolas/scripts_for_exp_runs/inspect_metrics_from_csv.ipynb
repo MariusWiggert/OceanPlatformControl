{
 "cells": [
  {
   "cell_type": "code",
   "execution_count": 2,
   "metadata": {},
   "outputs": [
    {
     "name": "stdout",
     "output_type": "stream",
     "text": [
      "/home/nicolas/documents/Master_Thesis_repo/OceanPlatformControl\n"
     ]
    }
   ],
   "source": [
    "import datetime\n",
    "import logging\n",
    "import os\n",
    "import numpy as np\n",
    "from ocean_navigation_simulator.reinforcement_learning.runners.GenerationRunner import (\n",
    "    GenerationRunner,\n",
    ")\n",
    "import matplotlib.pyplot as plt\n",
    "## Only when developing with VSCode in my repo \n",
    "#os.chdir('/home/nicolas/codeRepo/OceanPlatformControl') # here in Azure\n",
    "os.chdir('/home/nicolas/documents/Master_Thesis_repo/OceanPlatformControl') # here in WSL\n",
    "print(os.getcwd())\n",
    "##\n",
    "import pandas as pd\n",
    "from ocean_navigation_simulator.utils.units import Distance\n",
    "# These lines in VSCode to avoid reloading the kernel when changes are made to the external kernel\n",
    "%load_ext autoreload\n",
    "%autoreload 2"
   ]
  },
  {
   "attachments": {},
   "cell_type": "markdown",
   "metadata": {},
   "source": [
    "### Define Filenames"
   ]
  },
  {
   "cell_type": "code",
   "execution_count": 3,
   "metadata": {},
   "outputs": [],
   "source": [
    "path_to_files = 'generated_media/metrics_csv_results/'\n",
    "file_containing_pb = 'problemsGOM.csv'\n",
    "pb_name_hj_naive = 'problemsGOMmetrics_hj_naive.csv'\n",
    "pb_name_reactive = 'problemsGOMmetrics_reactive.csv'\n",
    "pb_name_flocking = 'problemsGOMmetrics_flocking.csv'"
   ]
  },
  {
   "attachments": {},
   "cell_type": "markdown",
   "metadata": {},
   "source": [
    "### Plot problem distribution"
   ]
  },
  {
   "cell_type": "code",
   "execution_count": 44,
   "metadata": {},
   "outputs": [],
   "source": [
    "# TODO"
   ]
  },
  {
   "attachments": {},
   "cell_type": "markdown",
   "metadata": {},
   "source": [
    "### Extract metrics from csv files"
   ]
  },
  {
   "cell_type": "code",
   "execution_count": 4,
   "metadata": {},
   "outputs": [],
   "source": [
    "metrics_hj_naive = pd.read_csv(f\"{path_to_files}/{pb_name_hj_naive}\")\n",
    "metrics_hj_reactive = pd.read_csv(f\"{path_to_files}/{pb_name_reactive}\")\n",
    "metrics_hj_flocking = pd.read_csv(f\"{path_to_files}/{pb_name_flocking}\")"
   ]
  },
  {
   "cell_type": "code",
   "execution_count": 45,
   "metadata": {},
   "outputs": [
    {
     "data": {
      "text/html": [
       "<div>\n",
       "<style scoped>\n",
       "    .dataframe tbody tr th:only-of-type {\n",
       "        vertical-align: middle;\n",
       "    }\n",
       "\n",
       "    .dataframe tbody tr th {\n",
       "        vertical-align: top;\n",
       "    }\n",
       "\n",
       "    .dataframe thead th {\n",
       "        text-align: right;\n",
       "    }\n",
       "</style>\n",
       "<table border=\"1\" class=\"dataframe\">\n",
       "  <thead>\n",
       "    <tr style=\"text-align: right;\">\n",
       "      <th></th>\n",
       "      <th>Isolated_platform_metric</th>\n",
       "      <th>Number_of_collision</th>\n",
       "      <th>Reaching_target</th>\n",
       "      <th>Mean minimum distance to target among all platforms in deg</th>\n",
       "      <th>Mean maximum correction from optimal control degrees</th>\n",
       "      <th>Average Beta Index</th>\n",
       "      <th>Initial maximum degree of the graph</th>\n",
       "      <th>Final maximum degree of the graph</th>\n",
       "      <th>Mission_sucess</th>\n",
       "    </tr>\n",
       "  </thead>\n",
       "  <tbody>\n",
       "    <tr>\n",
       "      <th>0</th>\n",
       "      <td>0</td>\n",
       "      <td>0</td>\n",
       "      <td>1.00</td>\n",
       "      <td>0.000000</td>\n",
       "      <td>0</td>\n",
       "      <td>1.242545</td>\n",
       "      <td>2</td>\n",
       "      <td>3</td>\n",
       "      <td>1</td>\n",
       "    </tr>\n",
       "    <tr>\n",
       "      <th>1</th>\n",
       "      <td>0</td>\n",
       "      <td>0</td>\n",
       "      <td>0.00</td>\n",
       "      <td>0.073967</td>\n",
       "      <td>0</td>\n",
       "      <td>1.104537</td>\n",
       "      <td>2</td>\n",
       "      <td>3</td>\n",
       "      <td>0</td>\n",
       "    </tr>\n",
       "    <tr>\n",
       "      <th>2</th>\n",
       "      <td>45800</td>\n",
       "      <td>0</td>\n",
       "      <td>1.00</td>\n",
       "      <td>0.000000</td>\n",
       "      <td>0</td>\n",
       "      <td>1.010638</td>\n",
       "      <td>2</td>\n",
       "      <td>3</td>\n",
       "      <td>0</td>\n",
       "    </tr>\n",
       "    <tr>\n",
       "      <th>3</th>\n",
       "      <td>0</td>\n",
       "      <td>0</td>\n",
       "      <td>1.00</td>\n",
       "      <td>0.000000</td>\n",
       "      <td>0</td>\n",
       "      <td>1.252546</td>\n",
       "      <td>2</td>\n",
       "      <td>3</td>\n",
       "      <td>1</td>\n",
       "    </tr>\n",
       "    <tr>\n",
       "      <th>4</th>\n",
       "      <td>0</td>\n",
       "      <td>0</td>\n",
       "      <td>1.00</td>\n",
       "      <td>0.000000</td>\n",
       "      <td>0</td>\n",
       "      <td>1.385510</td>\n",
       "      <td>3</td>\n",
       "      <td>3</td>\n",
       "      <td>1</td>\n",
       "    </tr>\n",
       "    <tr>\n",
       "      <th>5</th>\n",
       "      <td>259500</td>\n",
       "      <td>0</td>\n",
       "      <td>1.00</td>\n",
       "      <td>0.000000</td>\n",
       "      <td>0</td>\n",
       "      <td>0.812057</td>\n",
       "      <td>2</td>\n",
       "      <td>3</td>\n",
       "      <td>0</td>\n",
       "    </tr>\n",
       "    <tr>\n",
       "      <th>6</th>\n",
       "      <td>0</td>\n",
       "      <td>1</td>\n",
       "      <td>1.00</td>\n",
       "      <td>0.000000</td>\n",
       "      <td>0</td>\n",
       "      <td>1.333178</td>\n",
       "      <td>3</td>\n",
       "      <td>3</td>\n",
       "      <td>0</td>\n",
       "    </tr>\n",
       "    <tr>\n",
       "      <th>7</th>\n",
       "      <td>175200</td>\n",
       "      <td>0</td>\n",
       "      <td>1.00</td>\n",
       "      <td>0.000000</td>\n",
       "      <td>0</td>\n",
       "      <td>0.762559</td>\n",
       "      <td>2</td>\n",
       "      <td>3</td>\n",
       "      <td>0</td>\n",
       "    </tr>\n",
       "    <tr>\n",
       "      <th>8</th>\n",
       "      <td>130200</td>\n",
       "      <td>0</td>\n",
       "      <td>0.25</td>\n",
       "      <td>0.021353</td>\n",
       "      <td>0</td>\n",
       "      <td>0.849909</td>\n",
       "      <td>2</td>\n",
       "      <td>3</td>\n",
       "      <td>0</td>\n",
       "    </tr>\n",
       "    <tr>\n",
       "      <th>9</th>\n",
       "      <td>0</td>\n",
       "      <td>0</td>\n",
       "      <td>1.00</td>\n",
       "      <td>0.000000</td>\n",
       "      <td>0</td>\n",
       "      <td>1.500000</td>\n",
       "      <td>3</td>\n",
       "      <td>3</td>\n",
       "      <td>1</td>\n",
       "    </tr>\n",
       "    <tr>\n",
       "      <th>10</th>\n",
       "      <td>0</td>\n",
       "      <td>0</td>\n",
       "      <td>0.50</td>\n",
       "      <td>0.014752</td>\n",
       "      <td>0</td>\n",
       "      <td>0.995027</td>\n",
       "      <td>3</td>\n",
       "      <td>1</td>\n",
       "      <td>0</td>\n",
       "    </tr>\n",
       "    <tr>\n",
       "      <th>11</th>\n",
       "      <td>0</td>\n",
       "      <td>0</td>\n",
       "      <td>0.50</td>\n",
       "      <td>0.001138</td>\n",
       "      <td>0</td>\n",
       "      <td>1.500000</td>\n",
       "      <td>3</td>\n",
       "      <td>3</td>\n",
       "      <td>0</td>\n",
       "    </tr>\n",
       "    <tr>\n",
       "      <th>12</th>\n",
       "      <td>0</td>\n",
       "      <td>0</td>\n",
       "      <td>1.00</td>\n",
       "      <td>0.000000</td>\n",
       "      <td>0</td>\n",
       "      <td>1.385922</td>\n",
       "      <td>3</td>\n",
       "      <td>3</td>\n",
       "      <td>1</td>\n",
       "    </tr>\n",
       "    <tr>\n",
       "      <th>13</th>\n",
       "      <td>0</td>\n",
       "      <td>0</td>\n",
       "      <td>1.00</td>\n",
       "      <td>0.000000</td>\n",
       "      <td>0</td>\n",
       "      <td>1.348183</td>\n",
       "      <td>3</td>\n",
       "      <td>3</td>\n",
       "      <td>1</td>\n",
       "    </tr>\n",
       "    <tr>\n",
       "      <th>14</th>\n",
       "      <td>0</td>\n",
       "      <td>0</td>\n",
       "      <td>1.00</td>\n",
       "      <td>0.000000</td>\n",
       "      <td>0</td>\n",
       "      <td>1.048046</td>\n",
       "      <td>3</td>\n",
       "      <td>3</td>\n",
       "      <td>1</td>\n",
       "    </tr>\n",
       "    <tr>\n",
       "      <th>15</th>\n",
       "      <td>0</td>\n",
       "      <td>0</td>\n",
       "      <td>1.00</td>\n",
       "      <td>0.000000</td>\n",
       "      <td>0</td>\n",
       "      <td>1.500000</td>\n",
       "      <td>3</td>\n",
       "      <td>3</td>\n",
       "      <td>1</td>\n",
       "    </tr>\n",
       "    <tr>\n",
       "      <th>16</th>\n",
       "      <td>325800</td>\n",
       "      <td>0</td>\n",
       "      <td>1.00</td>\n",
       "      <td>0.000000</td>\n",
       "      <td>0</td>\n",
       "      <td>0.750458</td>\n",
       "      <td>2</td>\n",
       "      <td>3</td>\n",
       "      <td>0</td>\n",
       "    </tr>\n",
       "    <tr>\n",
       "      <th>17</th>\n",
       "      <td>0</td>\n",
       "      <td>0</td>\n",
       "      <td>1.00</td>\n",
       "      <td>0.000000</td>\n",
       "      <td>0</td>\n",
       "      <td>1.106572</td>\n",
       "      <td>3</td>\n",
       "      <td>3</td>\n",
       "      <td>1</td>\n",
       "    </tr>\n",
       "    <tr>\n",
       "      <th>18</th>\n",
       "      <td>0</td>\n",
       "      <td>0</td>\n",
       "      <td>1.00</td>\n",
       "      <td>0.000000</td>\n",
       "      <td>0</td>\n",
       "      <td>1.500000</td>\n",
       "      <td>3</td>\n",
       "      <td>3</td>\n",
       "      <td>1</td>\n",
       "    </tr>\n",
       "    <tr>\n",
       "      <th>19</th>\n",
       "      <td>392200</td>\n",
       "      <td>0</td>\n",
       "      <td>1.00</td>\n",
       "      <td>0.000000</td>\n",
       "      <td>0</td>\n",
       "      <td>0.623680</td>\n",
       "      <td>3</td>\n",
       "      <td>2</td>\n",
       "      <td>0</td>\n",
       "    </tr>\n",
       "    <tr>\n",
       "      <th>20</th>\n",
       "      <td>0</td>\n",
       "      <td>27</td>\n",
       "      <td>1.00</td>\n",
       "      <td>0.000000</td>\n",
       "      <td>0</td>\n",
       "      <td>1.250868</td>\n",
       "      <td>3</td>\n",
       "      <td>3</td>\n",
       "      <td>0</td>\n",
       "    </tr>\n",
       "    <tr>\n",
       "      <th>21</th>\n",
       "      <td>131400</td>\n",
       "      <td>0</td>\n",
       "      <td>1.00</td>\n",
       "      <td>0.000000</td>\n",
       "      <td>0</td>\n",
       "      <td>0.995177</td>\n",
       "      <td>3</td>\n",
       "      <td>3</td>\n",
       "      <td>0</td>\n",
       "    </tr>\n",
       "    <tr>\n",
       "      <th>22</th>\n",
       "      <td>545400</td>\n",
       "      <td>132</td>\n",
       "      <td>1.00</td>\n",
       "      <td>0.000000</td>\n",
       "      <td>0</td>\n",
       "      <td>0.527565</td>\n",
       "      <td>2</td>\n",
       "      <td>2</td>\n",
       "      <td>0</td>\n",
       "    </tr>\n",
       "    <tr>\n",
       "      <th>23</th>\n",
       "      <td>287100</td>\n",
       "      <td>0</td>\n",
       "      <td>0.50</td>\n",
       "      <td>0.001135</td>\n",
       "      <td>0</td>\n",
       "      <td>0.711224</td>\n",
       "      <td>3</td>\n",
       "      <td>2</td>\n",
       "      <td>0</td>\n",
       "    </tr>\n",
       "    <tr>\n",
       "      <th>24</th>\n",
       "      <td>145200</td>\n",
       "      <td>0</td>\n",
       "      <td>0.00</td>\n",
       "      <td>0.036819</td>\n",
       "      <td>0</td>\n",
       "      <td>1.036449</td>\n",
       "      <td>3</td>\n",
       "      <td>3</td>\n",
       "      <td>0</td>\n",
       "    </tr>\n",
       "    <tr>\n",
       "      <th>25</th>\n",
       "      <td>166800</td>\n",
       "      <td>0</td>\n",
       "      <td>1.00</td>\n",
       "      <td>0.000000</td>\n",
       "      <td>0</td>\n",
       "      <td>0.672883</td>\n",
       "      <td>3</td>\n",
       "      <td>2</td>\n",
       "      <td>0</td>\n",
       "    </tr>\n",
       "    <tr>\n",
       "      <th>26</th>\n",
       "      <td>103500</td>\n",
       "      <td>0</td>\n",
       "      <td>0.50</td>\n",
       "      <td>0.011759</td>\n",
       "      <td>0</td>\n",
       "      <td>0.953025</td>\n",
       "      <td>2</td>\n",
       "      <td>3</td>\n",
       "      <td>0</td>\n",
       "    </tr>\n",
       "    <tr>\n",
       "      <th>27</th>\n",
       "      <td>212800</td>\n",
       "      <td>0</td>\n",
       "      <td>0.50</td>\n",
       "      <td>0.001660</td>\n",
       "      <td>0</td>\n",
       "      <td>0.645729</td>\n",
       "      <td>2</td>\n",
       "      <td>3</td>\n",
       "      <td>0</td>\n",
       "    </tr>\n",
       "    <tr>\n",
       "      <th>28</th>\n",
       "      <td>0</td>\n",
       "      <td>0</td>\n",
       "      <td>1.00</td>\n",
       "      <td>0.000000</td>\n",
       "      <td>0</td>\n",
       "      <td>1.105590</td>\n",
       "      <td>3</td>\n",
       "      <td>3</td>\n",
       "      <td>1</td>\n",
       "    </tr>\n",
       "    <tr>\n",
       "      <th>29</th>\n",
       "      <td>0</td>\n",
       "      <td>0</td>\n",
       "      <td>1.00</td>\n",
       "      <td>0.000000</td>\n",
       "      <td>0</td>\n",
       "      <td>0.928373</td>\n",
       "      <td>3</td>\n",
       "      <td>3</td>\n",
       "      <td>1</td>\n",
       "    </tr>\n",
       "  </tbody>\n",
       "</table>\n",
       "</div>"
      ],
      "text/plain": [
       "    Isolated_platform_metric  Number_of_collision  Reaching_target  \\\n",
       "0                          0                    0             1.00   \n",
       "1                          0                    0             0.00   \n",
       "2                      45800                    0             1.00   \n",
       "3                          0                    0             1.00   \n",
       "4                          0                    0             1.00   \n",
       "5                     259500                    0             1.00   \n",
       "6                          0                    1             1.00   \n",
       "7                     175200                    0             1.00   \n",
       "8                     130200                    0             0.25   \n",
       "9                          0                    0             1.00   \n",
       "10                         0                    0             0.50   \n",
       "11                         0                    0             0.50   \n",
       "12                         0                    0             1.00   \n",
       "13                         0                    0             1.00   \n",
       "14                         0                    0             1.00   \n",
       "15                         0                    0             1.00   \n",
       "16                    325800                    0             1.00   \n",
       "17                         0                    0             1.00   \n",
       "18                         0                    0             1.00   \n",
       "19                    392200                    0             1.00   \n",
       "20                         0                   27             1.00   \n",
       "21                    131400                    0             1.00   \n",
       "22                    545400                  132             1.00   \n",
       "23                    287100                    0             0.50   \n",
       "24                    145200                    0             0.00   \n",
       "25                    166800                    0             1.00   \n",
       "26                    103500                    0             0.50   \n",
       "27                    212800                    0             0.50   \n",
       "28                         0                    0             1.00   \n",
       "29                         0                    0             1.00   \n",
       "\n",
       "    Mean minimum distance to target among all platforms in deg  \\\n",
       "0                                            0.000000            \n",
       "1                                            0.073967            \n",
       "2                                            0.000000            \n",
       "3                                            0.000000            \n",
       "4                                            0.000000            \n",
       "5                                            0.000000            \n",
       "6                                            0.000000            \n",
       "7                                            0.000000            \n",
       "8                                            0.021353            \n",
       "9                                            0.000000            \n",
       "10                                           0.014752            \n",
       "11                                           0.001138            \n",
       "12                                           0.000000            \n",
       "13                                           0.000000            \n",
       "14                                           0.000000            \n",
       "15                                           0.000000            \n",
       "16                                           0.000000            \n",
       "17                                           0.000000            \n",
       "18                                           0.000000            \n",
       "19                                           0.000000            \n",
       "20                                           0.000000            \n",
       "21                                           0.000000            \n",
       "22                                           0.000000            \n",
       "23                                           0.001135            \n",
       "24                                           0.036819            \n",
       "25                                           0.000000            \n",
       "26                                           0.011759            \n",
       "27                                           0.001660            \n",
       "28                                           0.000000            \n",
       "29                                           0.000000            \n",
       "\n",
       "    Mean maximum correction from optimal control degrees  Average Beta Index  \\\n",
       "0                                                   0               1.242545   \n",
       "1                                                   0               1.104537   \n",
       "2                                                   0               1.010638   \n",
       "3                                                   0               1.252546   \n",
       "4                                                   0               1.385510   \n",
       "5                                                   0               0.812057   \n",
       "6                                                   0               1.333178   \n",
       "7                                                   0               0.762559   \n",
       "8                                                   0               0.849909   \n",
       "9                                                   0               1.500000   \n",
       "10                                                  0               0.995027   \n",
       "11                                                  0               1.500000   \n",
       "12                                                  0               1.385922   \n",
       "13                                                  0               1.348183   \n",
       "14                                                  0               1.048046   \n",
       "15                                                  0               1.500000   \n",
       "16                                                  0               0.750458   \n",
       "17                                                  0               1.106572   \n",
       "18                                                  0               1.500000   \n",
       "19                                                  0               0.623680   \n",
       "20                                                  0               1.250868   \n",
       "21                                                  0               0.995177   \n",
       "22                                                  0               0.527565   \n",
       "23                                                  0               0.711224   \n",
       "24                                                  0               1.036449   \n",
       "25                                                  0               0.672883   \n",
       "26                                                  0               0.953025   \n",
       "27                                                  0               0.645729   \n",
       "28                                                  0               1.105590   \n",
       "29                                                  0               0.928373   \n",
       "\n",
       "    Initial maximum degree of the graph  Final maximum degree of the graph  \\\n",
       "0                                     2                                  3   \n",
       "1                                     2                                  3   \n",
       "2                                     2                                  3   \n",
       "3                                     2                                  3   \n",
       "4                                     3                                  3   \n",
       "5                                     2                                  3   \n",
       "6                                     3                                  3   \n",
       "7                                     2                                  3   \n",
       "8                                     2                                  3   \n",
       "9                                     3                                  3   \n",
       "10                                    3                                  1   \n",
       "11                                    3                                  3   \n",
       "12                                    3                                  3   \n",
       "13                                    3                                  3   \n",
       "14                                    3                                  3   \n",
       "15                                    3                                  3   \n",
       "16                                    2                                  3   \n",
       "17                                    3                                  3   \n",
       "18                                    3                                  3   \n",
       "19                                    3                                  2   \n",
       "20                                    3                                  3   \n",
       "21                                    3                                  3   \n",
       "22                                    2                                  2   \n",
       "23                                    3                                  2   \n",
       "24                                    3                                  3   \n",
       "25                                    3                                  2   \n",
       "26                                    2                                  3   \n",
       "27                                    2                                  3   \n",
       "28                                    3                                  3   \n",
       "29                                    3                                  3   \n",
       "\n",
       "    Mission_sucess  \n",
       "0                1  \n",
       "1                0  \n",
       "2                0  \n",
       "3                1  \n",
       "4                1  \n",
       "5                0  \n",
       "6                0  \n",
       "7                0  \n",
       "8                0  \n",
       "9                1  \n",
       "10               0  \n",
       "11               0  \n",
       "12               1  \n",
       "13               1  \n",
       "14               1  \n",
       "15               1  \n",
       "16               0  \n",
       "17               1  \n",
       "18               1  \n",
       "19               0  \n",
       "20               0  \n",
       "21               0  \n",
       "22               0  \n",
       "23               0  \n",
       "24               0  \n",
       "25               0  \n",
       "26               0  \n",
       "27               0  \n",
       "28               1  \n",
       "29               1  "
      ]
     },
     "execution_count": 45,
     "metadata": {},
     "output_type": "execute_result"
    }
   ],
   "source": [
    "metrics_hj_naive"
   ]
  },
  {
   "attachments": {},
   "cell_type": "markdown",
   "metadata": {},
   "source": [
    "### Get Metrics summary as a dict:"
   ]
  },
  {
   "cell_type": "code",
   "execution_count": 7,
   "metadata": {},
   "outputs": [],
   "source": [
    "def get_metrics_summary(metrics_file:pd.DataFrame)->dict:\n",
    "    return {\n",
    "    \"avg_beta_index\":metrics_file[\"Average Beta Index\"].mean(),\n",
    "    \"avg_isolated_pltf_integral_hj_naive\": metrics_file[\"Isolated_platform_metric\"].mean(),\n",
    "    \"avg_correction_from_opt_ctrl_deg\": metrics_file[\"Mean maximum correction from optimal control degrees\"].mean(),\n",
    "    \"avg_mean_min_dist_to_target_km\": Distance(deg=metrics_file[\"Mean minimum distance to target among all platforms in deg\"].mean()).km,\n",
    "    \"avg_nb_platfroms_reaching_target\": metrics_file[\"Reaching_target\"].mean(),\n",
    "    \"nb_missions_with_isolated_pltf\": np.sum(metrics_file[\"Isolated_platform_metric\"] > 0),\n",
    "    \"nb_missions_with_collisions\": np.sum(metrics_file[\"Number_of_collision\"] > 0),\n",
    "    \"nb_missions_success\": np.sum(metrics_file[\"Mission_sucess\"]==1),\n",
    "}"
   ]
  },
  {
   "attachments": {},
   "cell_type": "markdown",
   "metadata": {},
   "source": [
    "  + HJ Multi-Agent Naive"
   ]
  },
  {
   "cell_type": "code",
   "execution_count": 8,
   "metadata": {},
   "outputs": [
    {
     "name": "stdout",
     "output_type": "stream",
     "text": [
      "{'avg_beta_index': 1.061275035767803, 'avg_isolated_pltf_integral_hj_naive': 97363.33333333333, 'avg_correction_from_opt_ctrl_deg': 0.0, 'avg_mean_min_dist_to_target_km': 0.6022088646782777, 'avg_nb_platfroms_reaching_target': 0.825, 'nb_missions_with_isolated_pltf': 13, 'nb_missions_with_collisions': 3, 'nb_missions_success': 12}\n"
     ]
    }
   ],
   "source": [
    "metrics_summary_hj_naive = get_metrics_summary(metrics_hj_naive)\n",
    "print(metrics_summary_hj_naive)"
   ]
  },
  {
   "attachments": {},
   "cell_type": "markdown",
   "metadata": {},
   "source": [
    "+ HJ Multi-Agent Decentralized Reactive Control"
   ]
  },
  {
   "cell_type": "code",
   "execution_count": 9,
   "metadata": {},
   "outputs": [
    {
     "name": "stdout",
     "output_type": "stream",
     "text": [
      "{'avg_beta_index': 1.186604837912937, 'avg_isolated_pltf_integral_hj_naive': 40456.666666666664, 'avg_correction_from_opt_ctrl_deg': 18.377194396733806, 'avg_mean_min_dist_to_target_km': 0.8437515136827586, 'avg_nb_platfroms_reaching_target': 0.7916666666666666, 'nb_missions_with_isolated_pltf': 11, 'nb_missions_with_collisions': 0, 'nb_missions_success': 13}\n"
     ]
    }
   ],
   "source": [
    "metrics_summary_hj_reactive = get_metrics_summary(metrics_hj_reactive)\n",
    "print(metrics_summary_hj_reactive)"
   ]
  },
  {
   "attachments": {},
   "cell_type": "markdown",
   "metadata": {},
   "source": [
    "+ HJ Multi-Agent Flocking"
   ]
  },
  {
   "cell_type": "code",
   "execution_count": 10,
   "metadata": {},
   "outputs": [
    {
     "name": "stdout",
     "output_type": "stream",
     "text": [
      "{'avg_beta_index': 1.3732038733493388, 'avg_isolated_pltf_integral_hj_naive': 4186.666666666667, 'avg_correction_from_opt_ctrl_deg': 24.322445525956223, 'avg_mean_min_dist_to_target_km': 0.6979519567421218, 'avg_nb_platfroms_reaching_target': 0.7916666666666666, 'nb_missions_with_isolated_pltf': 3, 'nb_missions_with_collisions': 0, 'nb_missions_success': 18}\n"
     ]
    }
   ],
   "source": [
    "metrics_summary_hj_flocking = get_metrics_summary(metrics_hj_flocking)\n",
    "print(metrics_summary_hj_flocking)"
   ]
  },
  {
   "attachments": {},
   "cell_type": "markdown",
   "metadata": {},
   "source": [
    "### Plots"
   ]
  },
  {
   "cell_type": "code",
   "execution_count": 13,
   "metadata": {},
   "outputs": [],
   "source": [
    "def plot_confusion_matrix(x, y, x_label, y_label, title_name:str):\n",
    "    import seaborn as sns\n",
    "    import matplotlib.pyplot as plt\n",
    "    from matplotlib.colors import LogNorm\n",
    "\n",
    "    confusion_matrix = pd.crosstab(x, y, rownames=[x_label], colnames=[y_label])\n",
    "\n",
    "    ax = sns.heatmap(confusion_matrix, annot=True, cmap=plt.cm.RdYlGn, square=True, fmt='g')\n",
    "    # ax = sns.heatmap(confusion_matrix, annot=True, cmap=plt.cm.RdYlGn, square=True, norm=LogNorm(), fmt='g') # if heat map is in norm\n",
    "    plt.tick_params(axis='both', which='major', labelbottom=False, bottom=False, top=True, labeltop=True)\n",
    "    ax.xaxis.set_label_position('top')\n",
    "    ax.plot\n",
    "    plt.title(title_name)\n",
    "    plt.show()"
   ]
  },
  {
   "attachments": {},
   "cell_type": "markdown",
   "metadata": {},
   "source": [
    "###  HJ naive vs Decentralized Reactive Control"
   ]
  },
  {
   "attachments": {},
   "cell_type": "markdown",
   "metadata": {},
   "source": [
    "+  Missions success counts"
   ]
  },
  {
   "cell_type": "code",
   "execution_count": 15,
   "metadata": {},
   "outputs": [
    {
     "data": {
      "image/png": "[encoded data removed]",
      "text/plain": [
       "<Figure size 640x480 with 2 Axes>"
      ]
     },
     "metadata": {},
     "output_type": "display_data"
    }
   ],
   "source": [
    "plot_confusion_matrix(metrics_hj_naive[\"Mission_sucess\"]==1, \n",
    "                        metrics_hj_reactive[\"Mission_sucess\"]==1, 'Multi-Agent HJ Naive', \n",
    "                        'Multi-Agent HJ Reactive Control', title_name=\"Mission Success\")"
   ]
  },
  {
   "attachments": {},
   "cell_type": "markdown",
   "metadata": {},
   "source": [
    "+ Connectivity and Collision maintenance performance"
   ]
  },
  {
   "cell_type": "code",
   "execution_count": 16,
   "metadata": {},
   "outputs": [
    {
     "data": {
      "image/png": "[encoded data removed]",
      "text/plain": [
       "<Figure size 640x480 with 2 Axes>"
      ]
     },
     "metadata": {},
     "output_type": "display_data"
    }
   ],
   "source": [
    "connect_objective_reactive = (metrics_hj_reactive[\"Isolated_platform_metric\"]==0) & (metrics_hj_reactive[\"Number_of_collision\"] == 0)\n",
    "connect_objective_hj_naive = (metrics_hj_naive[\"Isolated_platform_metric\"]==0) & (metrics_hj_naive[\"Number_of_collision\"] == 0)\n",
    "plot_confusion_matrix(connect_objective_hj_naive , connect_objective_reactive , \n",
    "    'Multi-Agent HJ Naive', 'Multi-Agent HJ Reactive Control', title_name= 'Missions without collisions and with maintained connectivity')"
   ]
  },
  {
   "attachments": {},
   "cell_type": "markdown",
   "metadata": {},
   "source": [
    "###  HJ naive vs Flocking"
   ]
  },
  {
   "attachments": {},
   "cell_type": "markdown",
   "metadata": {},
   "source": [
    "+  Missions success counts"
   ]
  },
  {
   "cell_type": "code",
   "execution_count": 17,
   "metadata": {},
   "outputs": [
    {
     "data": {
      "image/png": "[encoded data removed]",
      "text/plain": [
       "<Figure size 640x480 with 2 Axes>"
      ]
     },
     "metadata": {},
     "output_type": "display_data"
    }
   ],
   "source": [
    "plot_confusion_matrix(metrics_hj_naive[\"Mission_sucess\"]==1, \n",
    "                        metrics_hj_flocking[\"Mission_sucess\"]==1, 'Multi-Agent HJ Naive', \n",
    "                        'Multi-Agent HJ Flocking', title_name=\"Mission Success\")"
   ]
  },
  {
   "attachments": {},
   "cell_type": "markdown",
   "metadata": {},
   "source": [
    "+ Connectivity and Collision maintenance performance"
   ]
  },
  {
   "cell_type": "code",
   "execution_count": 69,
   "metadata": {},
   "outputs": [
    {
     "data": {
      "image/png": "[encoded data removed]",
      "text/plain": [
       "<Figure size 640x480 with 2 Axes>"
      ]
     },
     "metadata": {},
     "output_type": "display_data"
    }
   ],
   "source": [
    "connect_objective_flocking = (metrics_hj_flocking[\"Isolated_platform_metric\"]==0) & (metrics_hj_flocking[\"Number_of_collision\"] == 0)\n",
    "connect_objective_hj_naive = (metrics_hj_naive[\"Isolated_platform_metric\"]==0) & (metrics_hj_naive[\"Number_of_collision\"] == 0)\n",
    "plot_confusion_matrix(connect_objective_hj_naive , connect_objective_flocking , \n",
    "    'Multi-Agent HJ Naive', 'Multi-Agent HJ Flocking', title_name= 'Missions without collisions and with maintained connectivity')"
   ]
  }
 ],
 "metadata": {
  "kernelspec": {
   "display_name": "ocean_minimal",
   "language": "python",
   "name": "python3"
  },
  "language_info": {
   "codemirror_mode": {
    "name": "ipython",
    "version": 3
   },
   "file_extension": ".py",
   "mimetype": "text/x-python",
   "name": "python",
   "nbconvert_exporter": "python",
   "pygments_lexer": "ipython3",
   "version": "3.9.13 (main, Aug 25 2022, 23:26:10) \n[GCC 11.2.0]"
  },
  "orig_nbformat": 4,
  "vscode": {
   "interpreter": {
    "hash": "9ed4b5c9df27747f3a2313a7b45e2dcb31384957b3c889e68300f490f3475319"
   }
  }
 },
 "nbformat": 4,
 "nbformat_minor": 2
}
