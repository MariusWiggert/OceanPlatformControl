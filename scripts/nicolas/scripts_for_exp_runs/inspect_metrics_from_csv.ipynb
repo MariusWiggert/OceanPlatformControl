{
 "cells": [
  {
   "cell_type": "code",
   "execution_count": 17,
   "metadata": {},
   "outputs": [
    {
     "name": "stdout",
     "output_type": "stream",
     "text": [
      "/home/nicolas/documents/Master_Thesis_repo/OceanPlatformControl\n",
      "The autoreload extension is already loaded. To reload it, use:\n",
      "  %reload_ext autoreload\n"
     ]
    }
   ],
   "source": [
    "import datetime\n",
    "import logging\n",
    "import os\n",
    "import numpy as np\n",
    "from ocean_navigation_simulator.reinforcement_learning.runners.GenerationRunner import (\n",
    "    GenerationRunner,\n",
    ")\n",
    "import matplotlib.pyplot as plt\n",
    "## Only when developing with VSCode in my repo \n",
    "#os.chdir('/home/nicolas/codeRepo/OceanPlatformControl') # here in Azure\n",
    "os.chdir('/home/nicolas/documents/Master_Thesis_repo/OceanPlatformControl') # here in WSL\n",
    "print(os.getcwd())\n",
    "##\n",
    "import pandas as pd\n",
    "from ocean_navigation_simulator.utils.units import Distance\n",
    "# These lines in VSCode to avoid reloading the kernel when changes are made to the external kernel\n",
    "%load_ext autoreload\n",
    "%autoreload 2"
   ]
  },
  {
   "attachments": {},
   "cell_type": "markdown",
   "metadata": {},
   "source": [
    "### Define Filenames"
   ]
  },
  {
   "cell_type": "code",
   "execution_count": 18,
   "metadata": {},
   "outputs": [],
   "source": [
    "path_to_files = 'generated_media/metrics_csv_results/'\n",
    "#file_containing_pb = 'problemsGOM.csv'\n",
    "pb_name_hj_naive = 'problemsGOM_550_metrics_hj_naive.csv'\n",
    "pb_name_reactive = 'problemsGOM_550_metrics_reactive.csv'\n",
    "pb_name_flocking = 'problemsGOM_550_metrics_flocking.csv'"
   ]
  },
  {
   "attachments": {},
   "cell_type": "markdown",
   "metadata": {},
   "source": [
    "### Plot problem distribution"
   ]
  },
  {
   "cell_type": "code",
   "execution_count": null,
   "metadata": {},
   "outputs": [],
   "source": [
    "# TODO"
   ]
  },
  {
   "attachments": {},
   "cell_type": "markdown",
   "metadata": {},
   "source": [
    "### Extract metrics from csv files"
   ]
  },
  {
   "cell_type": "code",
   "execution_count": 19,
   "metadata": {},
   "outputs": [],
   "source": [
    "metrics_hj_naive = pd.read_csv(f\"{path_to_files}/{pb_name_hj_naive}\")\n",
    "metrics_hj_reactive = pd.read_csv(f\"{path_to_files}/{pb_name_reactive}\")\n",
    "metrics_hj_flocking = pd.read_csv(f\"{path_to_files}/{pb_name_flocking}\")"
   ]
  },
  {
   "attachments": {},
   "cell_type": "markdown",
   "metadata": {},
   "source": [
    "+ Make sure we have the (same) indices and total number of missions for the panda dataframes"
   ]
  },
  {
   "cell_type": "code",
   "execution_count": 20,
   "metadata": {},
   "outputs": [],
   "source": [
    "number_of_missions = min([len(metrics_hj_flocking), len(metrics_hj_naive), len(metrics_hj_reactive)])"
   ]
  },
  {
   "cell_type": "code",
   "execution_count": 21,
   "metadata": {},
   "outputs": [],
   "source": [
    "metrics_hj_naive = metrics_hj_naive[:number_of_missions]\n",
    "metrics_hj_reactive = metrics_hj_reactive[:number_of_missions]\n",
    "metrics_hj_flocking = metrics_hj_flocking[:number_of_missions]"
   ]
  },
  {
   "cell_type": "code",
   "execution_count": null,
   "metadata": {},
   "outputs": [],
   "source": [
    "metrics_hj_naive"
   ]
  },
  {
   "attachments": {},
   "cell_type": "markdown",
   "metadata": {},
   "source": [
    "+ Get Non Feasible Missions "
   ]
  },
  {
   "cell_type": "code",
   "execution_count": 22,
   "metadata": {},
   "outputs": [
    {
     "name": "stdout",
     "output_type": "stream",
     "text": [
      "Number of infeasible missions:  43 corresponds to 7.875457875457875 %\n"
     ]
    }
   ],
   "source": [
    "non_feas_idx = metrics_hj_naive.index[metrics_hj_naive[\"Reaching_target\"] < 1]\n",
    "ratio_non_feas_miss = len(non_feas_idx)/len(metrics_hj_naive)*100\n",
    "print(\"Number of infeasible missions: \", len(non_feas_idx), f\"corresponds to {ratio_non_feas_miss} %\")\n",
    "metrics_hj_naive.drop(non_feas_idx, axis=0, inplace=True)\n",
    "metrics_hj_reactive.drop(non_feas_idx, axis=0, inplace=True)\n",
    "metrics_hj_flocking.drop(non_feas_idx, axis=0, inplace=True)"
   ]
  },
  {
   "cell_type": "code",
   "execution_count": 23,
   "metadata": {},
   "outputs": [],
   "source": [
    "import plotly.express as px\n",
    "import plotly.graph_objects as go"
   ]
  },
  {
   "attachments": {},
   "cell_type": "markdown",
   "metadata": {},
   "source": [
    "## Box Plots"
   ]
  },
  {
   "attachments": {},
   "cell_type": "markdown",
   "metadata": {},
   "source": [
    "+ Beta Index"
   ]
  },
  {
   "cell_type": "code",
   "execution_count": 24,
   "metadata": {},
   "outputs": [],
   "source": [
    "beta_index_avg_dic = {\"hj_naive\": metrics_hj_naive[\"Average Beta Index\"],\n",
    "                      \"hj_reactive\": metrics_hj_reactive[\"Average Beta Index\"],\n",
    "                      \"flocking\": metrics_hj_flocking[\"Average Beta Index\"]}\n",
    "beta_index_avg_df = pd.DataFrame(beta_index_avg_dic)\n",
    "fig_beta = px.box(beta_index_avg_df)\n",
    "mean_trace = go.Scatter(\n",
    "    x=beta_index_avg_df.columns,\n",
    "    y=beta_index_avg_df.mean(),\n",
    "    mode='lines',\n",
    "    line=dict(color='green', width=2),\n",
    "    showlegend=True,\n",
    "    name=\"mean\"\n",
    ")\n",
    "fig_beta.add_trace(mean_trace)\n",
    "# Add custom x and y labels\n",
    "fig_beta.update_layout(\n",
    "    xaxis_title=\"controllers\",\n",
    "    yaxis_title=\"Average Beta Index over Missions\"\n",
    ")\n",
    "fig_beta.show()"
   ]
  },
  {
   "attachments": {},
   "cell_type": "markdown",
   "metadata": {},
   "source": [
    "+ Mean minimum distance to target among all platforms km"
   ]
  },
  {
   "cell_type": "code",
   "execution_count": 25,
   "metadata": {},
   "outputs": [],
   "source": [
    "mean_min_dist_dict = {\"hj_naive\": Distance(deg=metrics_hj_naive[\"Mean minimum distance to target among all platforms in deg\"]).km,\n",
    "                      \"hj_reactive\": Distance(deg=metrics_hj_reactive[\"Mean minimum distance to target among all platforms in deg\"]).km,\n",
    "                      \"flocking\":Distance(deg=metrics_hj_flocking[\"Mean minimum distance to target among all platforms in deg\"]).km}\n",
    "idx_list = []\n",
    "mean_min_dist_df = pd.DataFrame(mean_min_dist_dict)\n",
    "fig_min_dist = px.box(mean_min_dist_df, log_y=True)\n",
    "\n",
    "# Add custom x and y labels\n",
    "fig_min_dist.update_layout(\n",
    "    xaxis_title=\"controllers\",\n",
    "    yaxis_title=\"Mean minimum distance to target among all platforms in [km]\"\n",
    ")\n",
    "fig_min_dist.show()"
   ]
  },
  {
   "attachments": {},
   "cell_type": "markdown",
   "metadata": {},
   "source": [
    "+ Mean maximum correction from optimal control degrees"
   ]
  },
  {
   "cell_type": "code",
   "execution_count": 26,
   "metadata": {},
   "outputs": [],
   "source": [
    "opt_ctrl_correction_dict = {\"hj_naive\": metrics_hj_naive[\"Mean maximum correction from optimal control degrees\"],\n",
    "                      \"hj_reactive\": metrics_hj_reactive[\"Mean maximum correction from optimal control degrees\"],\n",
    "                      \"flocking\": metrics_hj_flocking[\"Mean maximum correction from optimal control degrees\"]}\n",
    "opt_ctrl_correction_df = pd.DataFrame(opt_ctrl_correction_dict)\n",
    "fig_opt_ctrl_correction = px.box(opt_ctrl_correction_df )\n",
    "# Add custom x and y labels\n",
    "fig_opt_ctrl_correction.update_layout(\n",
    "    xaxis_title=\"controllers\",\n",
    "    yaxis_title=\"degrees\",\n",
    "    title = {'text': \"Control direction correction from optimal input\"}\n",
    ")\n",
    "fig_opt_ctrl_correction.show()"
   ]
  },
  {
   "attachments": {},
   "cell_type": "markdown",
   "metadata": {},
   "source": [
    "+ Isolated Platform Metric"
   ]
  },
  {
   "cell_type": "code",
   "execution_count": 27,
   "metadata": {},
   "outputs": [],
   "source": [
    "ipm_dict= {\"hj_naive\": metrics_hj_naive[\"Isolated_platform_metric\"],\n",
    "                      \"hj_reactive\": metrics_hj_reactive[\"Isolated_platform_metric\"],\n",
    "                      \"flocking\": metrics_hj_flocking[\"Isolated_platform_metric\"]}\n",
    "ipm_df = pd.DataFrame(ipm_dict)\n",
    "fig_ipm = px.box(opt_ctrl_correction_df, log_y=True )\n",
    "mean_trace = go.Scatter(\n",
    "    x=ipm_df.columns,\n",
    "    y=ipm_df.mean(),\n",
    "    mode='lines',\n",
    "    line=dict(color='green', width=2),\n",
    "    showlegend=True,\n",
    "    name=\"mean\"\n",
    ")\n",
    "fig_ipm.add_trace(mean_trace)\n",
    "# Add custom x and y labels\n",
    "fig_ipm.update_layout(\n",
    "    xaxis_title=\"controllers\",\n",
    "    yaxis_title=\"IPM\",\n",
    "    title = {'text': \"Isolated_platform_metric\"}\n",
    ")\n",
    "fig_ipm.show()"
   ]
  },
  {
   "attachments": {},
   "cell_type": "markdown",
   "metadata": {},
   "source": [
    "### Get Metrics summary as a dict:"
   ]
  },
  {
   "cell_type": "code",
   "execution_count": 28,
   "metadata": {},
   "outputs": [],
   "source": [
    "def get_metrics_summary(metrics_file:pd.DataFrame, ctrl_name: str)->dict:\n",
    "    return {\n",
    "    \"ctrl_name\": ctrl_name,\n",
    "    \"avg_beta_index\":metrics_file[\"Average Beta Index\"].mean(),\n",
    "    \"avg_isolated_pltf_integral_hj_naive\": metrics_file[\"Isolated_platform_metric\"].mean(),\n",
    "    \"avg_correction_from_opt_ctrl_deg\": metrics_file[\"Mean maximum correction from optimal control degrees\"].mean(),\n",
    "    \"avg_mean_min_dist_to_target_km\": Distance(deg=metrics_file[\"Mean minimum distance to target among all platforms in deg\"].mean()).km,\n",
    "    \"avg_nb_platfroms_reaching_target\": metrics_file[\"Reaching_target\"].mean(),\n",
    "    \"nb_missions_with_isolated_pltf\": np.sum(metrics_file[\"Isolated_platform_metric\"] > 0),\n",
    "    \"nb_missions_with_collisions\": np.sum(metrics_file[\"Number_of_collision\"] > 0),\n",
    "    \"nb_missions_success\": np.sum(metrics_file[\"Mission_success\"]==1),\n",
    "}"
   ]
  },
  {
   "attachments": {},
   "cell_type": "markdown",
   "metadata": {},
   "source": [
    "  + HJ Multi-Agent Naive"
   ]
  },
  {
   "cell_type": "code",
   "execution_count": 29,
   "metadata": {},
   "outputs": [
    {
     "name": "stdout",
     "output_type": "stream",
     "text": [
      "{'ctrl_name': 'hj_naive', 'avg_beta_index': 1.0978939125303657, 'avg_isolated_pltf_integral_hj_naive': 129435.78528827037, 'avg_correction_from_opt_ctrl_deg': 0.0, 'avg_mean_min_dist_to_target_km': 0.0, 'avg_nb_platfroms_reaching_target': 1.0, 'nb_missions_with_isolated_pltf': 231, 'nb_missions_with_collisions': 205, 'nb_missions_success': 125}\n"
     ]
    }
   ],
   "source": [
    "metrics_summary_hj_naive = get_metrics_summary(metrics_hj_naive, ctrl_name=\"hj_naive\")\n",
    "print(metrics_summary_hj_naive)\n",
    "summary_hj_naive_df = pd.DataFrame(metrics_summary_hj_naive, index=[0])"
   ]
  },
  {
   "attachments": {},
   "cell_type": "markdown",
   "metadata": {},
   "source": [
    "+ HJ Multi-Agent Decentralized Reactive Control"
   ]
  },
  {
   "cell_type": "code",
   "execution_count": 30,
   "metadata": {},
   "outputs": [
    {
     "name": "stdout",
     "output_type": "stream",
     "text": [
      "{'ctrl_name': 'hj_reactive', 'avg_beta_index': 1.2206090778491325, 'avg_isolated_pltf_integral_hj_naive': 47412.72365805169, 'avg_correction_from_opt_ctrl_deg': 25.624988911728124, 'avg_mean_min_dist_to_target_km': 0.6685836687950626, 'avg_nb_platfroms_reaching_target': 0.9294234592445328, 'nb_missions_with_isolated_pltf': 143, 'nb_missions_with_collisions': 7, 'nb_missions_success': 314}\n"
     ]
    }
   ],
   "source": [
    "metrics_summary_hj_reactive = get_metrics_summary(metrics_hj_reactive, ctrl_name='hj_reactive')\n",
    "print(metrics_summary_hj_reactive)\n",
    "summary_hj_naive_reactive = pd.DataFrame(metrics_summary_hj_reactive, index=[0])"
   ]
  },
  {
   "attachments": {},
   "cell_type": "markdown",
   "metadata": {},
   "source": [
    "+ HJ Multi-Agent Flocking"
   ]
  },
  {
   "cell_type": "code",
   "execution_count": 31,
   "metadata": {},
   "outputs": [
    {
     "name": "stdout",
     "output_type": "stream",
     "text": [
      "{'ctrl_name': 'hj_flocking', 'avg_beta_index': 1.412061610917022, 'avg_isolated_pltf_integral_hj_naive': 3368.986083499006, 'avg_correction_from_opt_ctrl_deg': 24.401326845827835, 'avg_mean_min_dist_to_target_km': 0.28082713881848825, 'avg_nb_platfroms_reaching_target': 0.9498011928429424, 'nb_missions_with_isolated_pltf': 49, 'nb_missions_with_collisions': 6, 'nb_missions_success': 403}\n"
     ]
    }
   ],
   "source": [
    "metrics_summary_hj_flocking = get_metrics_summary(metrics_hj_flocking, ctrl_name='hj_flocking')\n",
    "print(metrics_summary_hj_flocking)\n",
    "summary_hj_naive_flocking= pd.DataFrame(metrics_summary_hj_flocking, index=[0])"
   ]
  },
  {
   "attachments": {},
   "cell_type": "markdown",
   "metadata": {},
   "source": [
    "## Confusion Matrices Plots"
   ]
  },
  {
   "cell_type": "code",
   "execution_count": 32,
   "metadata": {},
   "outputs": [],
   "source": [
    "def plot_confusion_matrix(x, y, x_label, y_label, title_name:str):\n",
    "    import seaborn as sns\n",
    "    import matplotlib.pyplot as plt\n",
    "    from matplotlib.colors import LogNorm\n",
    "\n",
    "    confusion_matrix = pd.crosstab(x, y, rownames=[x_label], colnames=[y_label])\n",
    "    fig = px.imshow(confusion_matrix, text_auto=True)\n",
    "    fig.update_layout(\n",
    "        title = {'text': title_name}\n",
    "    )\n",
    "    fig.show()\n",
    "    # ax = sns.heatmap(confusion_matrix, annot=True, cmap=plt.cm.RdYlGn, square=True, fmt='g')\n",
    "    # # ax = sns.heatmap(confusion_matrix, annot=True, cmap=plt.cm.RdYlGn, square=True, norm=LogNorm(), fmt='g') # if heat map is in norm\n",
    "    # plt.tick_params(axis='both', which='major', labelbottom=False, bottom=False, top=True, labeltop=True)\n",
    "    # ax.xaxis.set_label_position('top')\n",
    "    # ax.plot\n",
    "    # plt.title(title_name)\n",
    "    # plt.show()\n",
    "    return fig"
   ]
  },
  {
   "attachments": {},
   "cell_type": "markdown",
   "metadata": {},
   "source": [
    "###  HJ naive vs Decentralized Reactive Control"
   ]
  },
  {
   "attachments": {},
   "cell_type": "markdown",
   "metadata": {},
   "source": [
    "+  Missions with collisions"
   ]
  },
  {
   "cell_type": "code",
   "execution_count": 33,
   "metadata": {},
   "outputs": [],
   "source": [
    "fig_conf_react_coll = plot_confusion_matrix(metrics_hj_naive[\"Number_of_collision\"]>0, \n",
    "                        metrics_hj_reactive[\"Number_of_collision\"]>0, 'Multi-Agent HJ Naive', \n",
    "                        'Multi-Agent HJ Reactive Control', title_name=\"Missions with collisions\")"
   ]
  },
  {
   "attachments": {},
   "cell_type": "markdown",
   "metadata": {},
   "source": [
    "+ Missions with communication losses"
   ]
  },
  {
   "cell_type": "code",
   "execution_count": 34,
   "metadata": {},
   "outputs": [],
   "source": [
    "fig_conf_react_comm_loss= plot_confusion_matrix(metrics_hj_naive[\"Isolated_platform_metric\"]>0, \n",
    "                        metrics_hj_reactive[\"Isolated_platform_metric\"]>0, 'Multi-Agent HJ Naive', \n",
    "                        'Multi-Agent HJ Reactive Control', title_name=\"Missions with communication losses\")"
   ]
  },
  {
   "attachments": {},
   "cell_type": "markdown",
   "metadata": {},
   "source": [
    "+ Connectivity and Collision maintenance performance"
   ]
  },
  {
   "cell_type": "code",
   "execution_count": 35,
   "metadata": {},
   "outputs": [],
   "source": [
    "connect_objective_reactive = (metrics_hj_reactive[\"Isolated_platform_metric\"]==0) & (metrics_hj_reactive[\"Number_of_collision\"] == 0)\n",
    "connect_objective_hj_naive = (metrics_hj_naive[\"Isolated_platform_metric\"]==0) & (metrics_hj_naive[\"Number_of_collision\"] == 0)\n",
    "fig_react_maint = plot_confusion_matrix(connect_objective_hj_naive , connect_objective_reactive , \n",
    "    'Multi-Agent HJ Naive', 'Multi-Agent HJ Reactive Control', title_name= 'Missions without collisions and with maintained connectivity')"
   ]
  },
  {
   "cell_type": "markdown",
   "metadata": {},
   "source": [
    "+  Missions success counts"
   ]
  },
  {
   "cell_type": "code",
   "execution_count": 36,
   "metadata": {},
   "outputs": [],
   "source": [
    "fig_react_success  = plot_confusion_matrix(metrics_hj_naive[\"Mission_success\"]==1, \n",
    "                        metrics_hj_reactive[\"Mission_success\"]==1, 'Multi-Agent HJ Naive', \n",
    "                        'Multi-Agent HJ Reactive', title_name=\"Mission Success\")"
   ]
  },
  {
   "attachments": {},
   "cell_type": "markdown",
   "metadata": {},
   "source": [
    "###  HJ naive vs Flocking"
   ]
  },
  {
   "attachments": {},
   "cell_type": "markdown",
   "metadata": {},
   "source": [
    "+  Missions with collisions"
   ]
  },
  {
   "cell_type": "code",
   "execution_count": 37,
   "metadata": {},
   "outputs": [],
   "source": [
    "fig_conf_flocking_coll= plot_confusion_matrix(metrics_hj_naive[\"Number_of_collision\"]>0, \n",
    "                        metrics_hj_flocking[\"Number_of_collision\"]>0, 'Multi-Agent HJ Naive', \n",
    "                        'Multi-Agent HJ Flocking Control', title_name=\"Missions with collisions\")"
   ]
  },
  {
   "attachments": {},
   "cell_type": "markdown",
   "metadata": {},
   "source": [
    "+ Missions with communication losses"
   ]
  },
  {
   "cell_type": "code",
   "execution_count": 38,
   "metadata": {},
   "outputs": [],
   "source": [
    "fig_conf_flocking_comm_loss = plot_confusion_matrix(metrics_hj_naive[\"Isolated_platform_metric\"]>0, \n",
    "                        metrics_hj_flocking[\"Isolated_platform_metric\"]>0, 'Multi-Agent HJ Naive', \n",
    "                        'Multi-Agent HJ Flocking Control', title_name=\"Missions with communication losses\")"
   ]
  },
  {
   "attachments": {},
   "cell_type": "markdown",
   "metadata": {},
   "source": [
    "+ Connectivity and Collision maintenance performance"
   ]
  },
  {
   "cell_type": "code",
   "execution_count": 39,
   "metadata": {},
   "outputs": [],
   "source": [
    "connect_objective_reactive = (metrics_hj_reactive[\"Isolated_platform_metric\"]==0) & (metrics_hj_reactive[\"Number_of_collision\"] == 0)\n",
    "connect_objective_hj_naive = (metrics_hj_naive[\"Isolated_platform_metric\"]==0) & (metrics_hj_naive[\"Number_of_collision\"] == 0)\n",
    "fig_flocking_maint = plot_confusion_matrix(connect_objective_hj_naive , connect_objective_reactive , \n",
    "    'Multi-Agent HJ Naive', 'Multi-Agent HJ Reactive Control', title_name= 'Missions without collisions and with maintained connectivity')"
   ]
  },
  {
   "cell_type": "markdown",
   "metadata": {},
   "source": [
    "+  Missions success counts"
   ]
  },
  {
   "cell_type": "code",
   "execution_count": 40,
   "metadata": {},
   "outputs": [],
   "source": [
    "fig_flocking_success = plot_confusion_matrix(metrics_hj_naive[\"Mission_success\"]==1, \n",
    "                        metrics_hj_reactive[\"Mission_success\"]==1, 'Multi-Agent HJ Naive', \n",
    "                        'Multi-Agent HJ Reactive', title_name=\"Mission Success\")"
   ]
  },
  {
   "attachments": {},
   "cell_type": "markdown",
   "metadata": {},
   "source": [
    "## Log Data in WandB"
   ]
  },
  {
   "cell_type": "code",
   "execution_count": 43,
   "metadata": {},
   "outputs": [],
   "source": [
    "import wandb"
   ]
  },
  {
   "cell_type": "code",
   "execution_count": 44,
   "metadata": {},
   "outputs": [
    {
     "data": {
      "text/html": [
       "wandb version 0.13.10 is available!  To upgrade, please run:\n",
       " $ pip install wandb --upgrade"
      ],
      "text/plain": [
       "<IPython.core.display.HTML object>"
      ]
     },
     "metadata": {},
     "output_type": "display_data"
    },
    {
     "data": {
      "text/html": [
       "Tracking run with wandb version 0.13.7"
      ],
      "text/plain": [
       "<IPython.core.display.HTML object>"
      ]
     },
     "metadata": {},
     "output_type": "display_data"
    },
    {
     "data": {
      "text/html": [
       "Run data is saved locally in <code>/home/nicolas/documents/Master_Thesis_repo/OceanPlatformControl/wandb/run-20230209_155142-7c1h8hyh</code>"
      ],
      "text/plain": [
       "<IPython.core.display.HTML object>"
      ]
     },
     "metadata": {},
     "output_type": "display_data"
    },
    {
     "data": {
      "text/html": [
       "Syncing run <strong><a href=\"https://wandb.ai/nhoischen/Master_Thesis_Run_summaries/runs/7c1h8hyh\" target=\"_blank\">HC_HC_GOM_4_platforms</a></strong> to <a href=\"https://wandb.ai/nhoischen/Master_Thesis_Run_summaries\" target=\"_blank\">Weights & Biases</a> (<a href=\"https://wandb.me/run\" target=\"_blank\">docs</a>)<br/>"
      ],
      "text/plain": [
       "<IPython.core.display.HTML object>"
      ]
     },
     "metadata": {},
     "output_type": "display_data"
    },
    {
     "data": {
      "text/html": [
       "Waiting for W&B process to finish... <strong style=\"color:green\">(success).</strong>"
      ],
      "text/plain": [
       "<IPython.core.display.HTML object>"
      ]
     },
     "metadata": {},
     "output_type": "display_data"
    },
    {
     "data": {
      "text/html": [
       "Synced <strong style=\"color:#cdcd00\">HC_HC_GOM_4_platforms</strong>: <a href=\"https://wandb.ai/nhoischen/Master_Thesis_Run_summaries/runs/7c1h8hyh\" target=\"_blank\">https://wandb.ai/nhoischen/Master_Thesis_Run_summaries/runs/7c1h8hyh</a><br/>Synced 5 W&B file(s), 13 media file(s), 1 artifact file(s) and 0 other file(s)"
      ],
      "text/plain": [
       "<IPython.core.display.HTML object>"
      ]
     },
     "metadata": {},
     "output_type": "display_data"
    },
    {
     "data": {
      "text/html": [
       "Find logs at: <code>./wandb/run-20230209_155142-7c1h8hyh/logs</code>"
      ],
      "text/plain": [
       "<IPython.core.display.HTML object>"
      ]
     },
     "metadata": {},
     "output_type": "display_data"
    }
   ],
   "source": [
    "# Log metrics in WandB\n",
    "os.environ[\"WANDB_API_KEY\"] = \"1f19232e6ccc9981a8a972bee18ba31a94644835\"\n",
    "\n",
    "wandb.init(\n",
    "    # Set the project where this run will be logged\n",
    "    project=\"Master_Thesis_Run_Summaries\",\n",
    "    # We pass a run name (otherwise it’ll be randomly assigned, like sunshine-lollypop-10)\n",
    "    name=f\"HC_HC_GOM_4_platforms\",\n",
    "    # Track hyperparameters and run metadata\n",
    "    config={\n",
    "        \"Number of infeasible missions\": len(non_feas_idx),\n",
    "        \"Percentage of infeasible missions\": ratio_non_feas_miss,\n",
    "        \"Number of missions feasible\": len(metrics_hj_naive),\n",
    "    },\n",
    "    entity=\"nhoischen\",\n",
    ")\n",
    "wandb.log({\"Metrics_Summary\": wandb.Table(dataframe=pd.concat([summary_hj_naive_df, summary_hj_naive_reactive, summary_hj_naive_flocking]))},\n",
    "            commit=False)\n",
    "wandb.log({'Beta Index': fig_beta,\n",
    "          'Time-Integral-over-Isolated-Platforms': fig_ipm,\n",
    "          'Average-Min-Distance-to-Target': fig_min_dist,\n",
    "           'Deviation-from-Cptimal-Ctrl-Direction': fig_opt_ctrl_correction,\n",
    "            },\n",
    "           commit=False)\n",
    "wandb.log({'Missions with collisions hj-reactive': fig_conf_react_coll,\n",
    "         'Missions with collisions hj-flocking': fig_conf_flocking_coll,\n",
    "         'Missions with communication losses hj-reactive': fig_conf_react_comm_loss,\n",
    "         'Missions with communication losses hj-flocking': fig_conf_flocking_comm_loss,\n",
    "         'Missions with maintained connectivity and no collisions hj-reactive': fig_react_maint,\n",
    "         'Missions with maintained connectivity and no collisions hj-flocking': fig_flocking_maint,\n",
    "         'Succesfull Missions hj-reactive': fig_react_success,\n",
    "         'Succesfull Missions hj-flocking': fig_flocking_success}, commit=True)\n",
    "wandb.finish()"
   ]
  }
 ],
 "metadata": {
  "kernelspec": {
   "display_name": "ocean_minimal",
   "language": "python",
   "name": "python3"
  },
  "language_info": {
   "codemirror_mode": {
    "name": "ipython",
    "version": 3
   },
   "file_extension": ".py",
   "mimetype": "text/x-python",
   "name": "python",
   "nbconvert_exporter": "python",
   "pygments_lexer": "ipython3",
   "version": "3.9.13"
  },
  "orig_nbformat": 4,
  "vscode": {
   "interpreter": {
    "hash": "9ed4b5c9df27747f3a2313a7b45e2dcb31384957b3c889e68300f490f3475319"
   }
  }
 },
 "nbformat": 4,
 "nbformat_minor": 2
}
