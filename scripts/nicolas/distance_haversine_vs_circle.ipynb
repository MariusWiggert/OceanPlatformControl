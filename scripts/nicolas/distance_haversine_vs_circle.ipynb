{
 "cells": [
  {
   "cell_type": "code",
   "execution_count": 1,
   "metadata": {},
   "outputs": [],
   "source": [
    "from ocean_navigation_simulator.environment.PlatformState import (\n",
    "    PlatformState,\n",
    "    PlatformStateSet,\n",
    "    SpatialPoint,\n",
    "    SpatioTemporalPoint,\n",
    ")\n",
    "from ocean_navigation_simulator.utils import units\n",
    "import numpy as np"
   ]
  },
  {
   "cell_type": "code",
   "execution_count": 2,
   "metadata": {},
   "outputs": [],
   "source": [
    "def generate_point_in_area(lon_west, lon_east, lat_south, lat_north, nb_points) -> SpatialPoint:\n",
    "    lon = np.random.uniform(min(lon_west, lon_east), max(lon_west, lon_east), size=nb_points)\n",
    "    lat = np.random.uniform(min(lat_south, lat_north), max(lat_south, lat_north), size=nb_points)\n",
    "    return SpatialPoint(units.Distance(deg=lon), units.Distance(deg=lat))"
   ]
  },
  {
   "cell_type": "code",
   "execution_count": 7,
   "metadata": {},
   "outputs": [
    {
     "name": "stdout",
     "output_type": "stream",
     "text": [
      "Euclidian distance between points: [203.11013113 152.36497604  22.86492859 141.1791268  200.31883777]\n",
      "Haversine distance between points: [198.75490842 149.03134621  21.99885878 123.50080897 190.4523861 ]\n",
      "Error Euclidian - Haversine [ 4.35522271  3.33362983  0.86606981 17.67831783  9.86645167]\n"
     ]
    }
   ],
   "source": [
    "np.random.seed(0)\n",
    "x_set_1 = generate_point_in_area(-130, -127, 30, 33, 5)\n",
    "x_set_2 = generate_point_in_area(-130, -127, 30, 33, 5)\n",
    "dist_euclidian = x_set_1.distance(x_set_2)\n",
    "dist_haversine = x_set_1.haversine(x_set_2)\n",
    "error = dist_euclidian - dist_haversine\n",
    "print(f\"Euclidian distance between points: {dist_euclidian.km}\")\n",
    "print(f\"Haversine distance between points: {dist_haversine.km}\")\n",
    "print(f\"Error Euclidian - Haversine {error.km}\")\n"
   ]
  },
  {
   "cell_type": "code",
   "execution_count": 8,
   "metadata": {},
   "outputs": [],
   "source": [
    "def haversine_np(lon1, lat1, lon2, lat2):\n",
    "    \"\"\"\n",
    "    Calculate the great circle distance between two points\n",
    "    on the earth (specified in decimal degrees)\n",
    "\n",
    "    All args must be of equal length.    \n",
    "\n",
    "    \"\"\"\n",
    "    lon1, lat1, lon2, lat2 = map(np.radians, [lon1, lat1, lon2, lat2])\n",
    "\n",
    "    dlon = lon2 - lon1\n",
    "    dlat = lat2 - lat1\n",
    "\n",
    "    a = np.sin(dlat/2.0)**2 + np.cos(lat1) * np.cos(lat2) * np.sin(dlon/2.0)**2\n",
    "\n",
    "    c = 2 * np.arcsin(np.sqrt(a))\n",
    "    km = 6371 * c\n",
    "    return km"
   ]
  },
  {
   "cell_type": "code",
   "execution_count": 6,
   "metadata": {},
   "outputs": [
    {
     "name": "stdout",
     "output_type": "stream",
     "text": [
      "Euclidian distance between points: [338.51688522 253.94162673  38.10821432 235.29854467 333.86472961]\n",
      "Haversine distance between points: [331.16236585 248.39858758  36.54866047 202.90436009 316.42267857]\n",
      "Error Euclidian - Haversine [ 7.35451937  5.54303915  1.55955385 32.39418458 17.44205105]\n"
     ]
    }
   ],
   "source": [
    "np.random.seed(0)\n",
    "from ocean_navigation_simulator.utils import units\n",
    "x_set_1 = generate_point_in_area(-130, -125, 30, 35, 5)\n",
    "x_set_2 = generate_point_in_area(-130, -125, 30, 35, 5)\n",
    "dist_euclidian = x_set_1.distance(x_set_2).km\n",
    "dist_haversine = haversine_np(x_set_1.lon.deg, x_set_1.lat.deg, x_set_2.lon.deg, x_set_2.lat.deg)\n",
    "error = dist_euclidian - dist_haversine\n",
    "print(f\"Euclidian distance between points: {dist_euclidian}\")\n",
    "print(f\"Haversine distance between points: {dist_haversine}\")\n",
    "print(f\"Error Euclidian - Haversine {error}\")"
   ]
  }
 ],
 "metadata": {
  "kernelspec": {
   "display_name": "Python 3.9.13 ('ocean_minimal')",
   "language": "python",
   "name": "python3"
  },
  "language_info": {
   "codemirror_mode": {
    "name": "ipython",
    "version": 3
   },
   "file_extension": ".py",
   "mimetype": "text/x-python",
   "name": "python",
   "nbconvert_exporter": "python",
   "pygments_lexer": "ipython3",
   "version": "3.9.13"
  },
  "orig_nbformat": 4,
  "vscode": {
   "interpreter": {
    "hash": "9ed4b5c9df27747f3a2313a7b45e2dcb31384957b3c889e68300f490f3475319"
   }
  }
 },
 "nbformat": 4,
 "nbformat_minor": 2
}
