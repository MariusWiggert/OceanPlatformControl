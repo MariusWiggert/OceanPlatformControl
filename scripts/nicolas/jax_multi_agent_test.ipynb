{
 "cells": [
  {
   "cell_type": "markdown",
   "metadata": {},
   "source": [
    "# Compare speed of casADi for multiple points interpolation vs. JAX libraries"
   ]
  },
  {
   "cell_type": "code",
   "execution_count": 1,
   "metadata": {},
   "outputs": [
    {
     "name": "stdout",
     "output_type": "stream",
     "text": [
      "/home/nicolas/documents/Master_Thesis_repo/OceanPlatformControl\n"
     ]
    }
   ],
   "source": [
    "from dataclasses import dataclass\n",
    "import casadi as ca\n",
    "import numpy as np\n",
    "import time\n",
    "import math\n",
    "from typing import Dict, Optional\n",
    "import logging\n",
    "import datetime\n",
    "import timeit\n",
    "from tqdm import tqdm\n",
    "\n",
    "from ocean_navigation_simulator.data_sources import OceanCurrentSource\n",
    "from ocean_navigation_simulator.data_sources.SolarIrradiance.SolarIrradianceSource import SolarIrradianceSource\n",
    "from ocean_navigation_simulator.data_sources.SeaweedGrowth.SeaweedGrowthSource import SeaweedGrowthSource\n",
    "from ocean_navigation_simulator.utils import units\n",
    "from ocean_navigation_simulator.environment.PlatformState import PlatformState\n",
    "from ocean_navigation_simulator.environment.PlatformState import SpatialPoint\n",
    "from ocean_navigation_simulator.environment.ArenaFactory import ArenaFactory\n",
    "from ocean_navigation_simulator.environment.NavigationProblem import NavigationProblem\n",
    "from ocean_navigation_simulator.controllers.hj_planners.HJReach2DPlanner import HJReach2DPlanner\n",
    "from ocean_navigation_simulator.utils import units\n",
    "import matplotlib.pyplot as plt\n",
    "import os\n",
    "os.chdir('/home/nicolas/documents/Master_Thesis_repo/OceanPlatformControl')\n",
    "print(os.getcwd())"
   ]
  },
  {
   "cell_type": "markdown",
   "metadata": {},
   "source": [
    "+ Import the ocean source"
   ]
  },
  {
   "cell_type": "code",
   "execution_count": 2,
   "metadata": {},
   "outputs": [
    {
     "name": "stderr",
     "output_type": "stream",
     "text": [
      "INFO:arena.ocean_field:DataField: Create Hindcast Source (5.6s)\n",
      "INFO:arena.ocean_field:DataField: Forecast is the same as Hindcast for OceanCurrents.\n"
     ]
    }
   ],
   "source": [
    "from ocean_navigation_simulator.data_sources.OceanCurrentField import OceanCurrentField\n",
    "from ocean_navigation_simulator.data_sources.SeaweedGrowthField import SeaweedGrowthField\n",
    "from ocean_navigation_simulator.data_sources.SolarIrradianceField import SolarIrradianceField\n",
    "from typing import Dict, Optional, Union, Tuple, List, AnyStr, Literal, Callable\n",
    "import yaml\n",
    "\n",
    "scenario_name = 'gulf_of_mexico_HYCOM_hindcast_local'\n",
    "with open(f'config/arena/{scenario_name}.yaml') as f:\n",
    "    config = yaml.load(f, Loader=yaml.FullLoader)\n",
    "casadi_cache_dict=config['casadi_cache_dict']\n",
    "platform_dict=config['platform_dict']\n",
    "ocean_dict= config['ocean_dict']\n",
    "use_geographic_coordinate_system=config['use_geographic_coordinate_system']\n",
    "spatial_boundary=config['spatial_boundary']\n",
    "\n",
    "ocean_field = OceanCurrentField(\n",
    "    casadi_cache_dict=casadi_cache_dict,\n",
    "    hindcast_source_dict=ocean_dict['hindcast'],\n",
    "    forecast_source_dict=ocean_dict['forecast'],\n",
    "    use_geographic_coordinate_system=use_geographic_coordinate_system)\n",
    "\n",
    "ocean_source = ocean_field.hindcast_data_source"
   ]
  },
  {
   "cell_type": "markdown",
   "metadata": {},
   "source": [
    "+ Create the typical implementation of PlatformStateSet"
   ]
  },
  {
   "cell_type": "code",
   "execution_count": 3,
   "metadata": {},
   "outputs": [],
   "source": [
    "from typing import List\n",
    "import dataclasses\n",
    "from dataclasses import astuple\n",
    "@dataclasses.dataclass\n",
    "class PlatformStateSet:\n",
    "    states:List[PlatformState]\n",
    "\n",
    "    def __array__(self):\n",
    "        return np.array(self.states) #rows are the number of platforms\n",
    "\n",
    "    def __len__(self):\n",
    "        return len(self.states)\n",
    "\n",
    "    def __getitem__(self, platform_id):\n",
    "    #     return np.array(self.states[platform_id])\n",
    "        return self.states[platform_id]\n",
    "\n",
    "    def __post_init__(self):\n",
    "        self.lon_arr = np.array(self.states)[:,0]\n",
    "        self.lat_arr = np.array(self.states)[:,1]\n",
    "        self.date_time_arr = np.array(self.states)[:,2]\n",
    "        self.battery_charge = np.array(self.states)[:,3]\n",
    "        self.seaweed_mass = np.array(self.states)[:,4]"
   ]
  },
  {
   "cell_type": "markdown",
   "metadata": {},
   "source": [
    "+ Functions to generate random platform states"
   ]
  },
  {
   "cell_type": "code",
   "execution_count": 4,
   "metadata": {},
   "outputs": [],
   "source": [
    "def rand_platforms(nb_platforms):\n",
    "    lon = np.random.uniform(low=-83.5, high=-83, size=(nb_platforms,))\n",
    "    lat = np.random.uniform(low=23, high=23.5, size=(nb_platforms,))\n",
    "    id = np.arange(start=1, stop=nb_platforms+1, step=1)\n",
    "    t = np.repeat(datetime.datetime(2021, 11, 24, 12, 0, tzinfo=datetime.timezone.utc), nb_platforms)\n",
    "    return lon,lat,id,t\n",
    "    \n",
    "def get_platform(nb_platforms):\n",
    "    lon,lat,id,t = rand_platforms(nb_platforms)\n",
    "    platforms_list = [PlatformState(lon=units.Distance(deg=lon[k]), lat=units.Distance(deg=lat[k]), date_time=t[k]) \\\n",
    "                      for k in range(nb_platforms)]\n",
    "    # create the Set class for the platforms (version 1 with list of Platform states)\n",
    "    platforms_set = PlatformStateSet(states=platforms_list)\n",
    "    return platforms_set"
   ]
  },
  {
   "cell_type": "markdown",
   "metadata": {},
   "source": [
    "**Rewrite** `convert_to_x_y_time_bounds` to support multiple platform states, making use of the methods implemented in PlatformStateSet"
   ]
  },
  {
   "cell_type": "code",
   "execution_count": 5,
   "metadata": {},
   "outputs": [],
   "source": [
    "nb_platforms = 20\n",
    "platforms_set = get_platform(nb_platforms)"
   ]
  },
  {
   "cell_type": "code",
   "execution_count": 6,
   "metadata": {},
   "outputs": [],
   "source": [
    "def convert_to_x_y_time_bounds(\n",
    "    states: PlatformStateSet,\n",
    "    x_T: SpatialPoint,\n",
    "    deg_around_x0_xT_box: float,\n",
    "    temp_horizon_in_s: float,\n",
    "):\n",
    "    \"\"\"Helper function for spatio-temporal subsetting\n",
    "    Args:\n",
    "        x_0: SpatioTemporalPoint\n",
    "        x_T: SpatialPoint goal locations\n",
    "        deg_around_x0_xT_box: buffer around the box in degree\n",
    "        temp_horizon_in_s: maximum temp_horizon to look ahead of x_0 time in seconds\n",
    "\n",
    "    Returns:\n",
    "        t_interval: if time-varying: [t_0, t_T] as utc datetime objects\n",
    "                    where t_0 and t_T are the start and end respectively\n",
    "        lat_bnds: [y_lower, y_upper] in degrees\n",
    "        lon_bnds: [x_lower, x_upper] in degrees\n",
    "    \"\"\"\n",
    "\n",
    "    t_interval = [datetime.datetime.fromtimestamp(min(platforms_set.date_time_arr), tz=datetime.timezone.utc), \\\n",
    "                  datetime.datetime.fromtimestamp(max(platforms_set.date_time_arr), tz=datetime.timezone.utc) + datetime.timedelta(seconds=temp_horizon_in_s)]\n",
    "    lon_bnds = [\n",
    "        min(min(states.lon_arr), x_T.lon.deg) - deg_around_x0_xT_box,\n",
    "        max(max(states.lon_arr), x_T.lon.deg) + deg_around_x0_xT_box,\n",
    "    ]\n",
    "    lat_bnds = [\n",
    "        min(min(states.lat_arr), x_T.lat.deg) - deg_around_x0_xT_box,\n",
    "        max(max(states.lat_arr), x_T.lat.deg) + deg_around_x0_xT_box,\n",
    "    ]\n",
    "\n",
    "    return t_interval, lat_bnds, lon_bnds"
   ]
  },
  {
   "cell_type": "markdown",
   "metadata": {},
   "source": [
    "+ Create random platforms"
   ]
  },
  {
   "cell_type": "code",
   "execution_count": 7,
   "metadata": {},
   "outputs": [
    {
     "name": "stdout",
     "output_type": "stream",
     "text": [
      "[datetime.datetime(2021, 11, 24, 12, 0, tzinfo=datetime.timezone.utc), datetime.datetime(2021, 11, 26, 12, 0, tzinfo=datetime.timezone.utc)] [-83.96089419441918, -82.55584921681174] [22.53840774842949, 23.989400836068118]\n"
     ]
    }
   ],
   "source": [
    "# Step 1: Create the intervals to query data for\n",
    "t_interval, y_interval, x_interval, = convert_to_x_y_time_bounds(\n",
    "    states=platforms_set,\n",
    "    x_T=platforms_set[0].to_spatial_point(),\n",
    "    deg_around_x0_xT_box=ocean_source.source_config_dict[\"casadi_cache_settings\"][\"deg_around_x_t\"],\n",
    "    temp_horizon_in_s=ocean_source.source_config_dict[\"casadi_cache_settings\"][\"time_around_x_t\"],\n",
    ")\n",
    "print(t_interval, x_interval, y_interval)\n",
    "# Step 2: Get the data from itocean_source and update casadi_grid_dict\n",
    "xarray = ocean_source.get_data_over_area(x_interval, y_interval, t_interval)\n",
    "ocean_source.casadi_grid_dict = ocean_source.get_grid_dict_from_xr(xarray)\n",
    "\n",
    "# Step 3: Set up the grid with time lat lon order as for the xarray dataset\n",
    "grid = [\n",
    "    units.get_posix_time_from_np64(xarray.coords[\"time\"].values),  \n",
    "    xarray.coords[\"lat\"].values,\n",
    "    xarray.coords[\"lon\"].values,\n",
    "]"
   ]
  },
  {
   "cell_type": "markdown",
   "metadata": {},
   "source": [
    "### CasADi Interpolation"
   ]
  },
  {
   "cell_type": "code",
   "execution_count": 8,
   "metadata": {},
   "outputs": [
    {
     "name": "stdout",
     "output_type": "stream",
     "text": [
      "u_curr interpolation results:  [[0.785773, 1.19858, 0.742993, 1.1934, nan, 0.73964, 1.18849, 1.18441, 1.04891, 0.639861, 1.09112, 1.05455, 1.098, 1.0263, 0.875028, 0.723886, 0.730927, 1.17588, 1.11193, 1.02551]] \n",
      "v_curr interpolation results:  [[0.293336, 0.361847, 0.0298195, 0.457341, nan, 0.0672256, 0.331299, 0.440071, 0.384896, -0.272115, 0.395701, 0.196144, 0.191956, 0.264372, 0.0488227, 0.0217272, 0.0214983, 0.312047, 0.241093, 0.0693245]]\n"
     ]
    }
   ],
   "source": [
    "ocean_source.initialize_casadi_functions(grid, xarray)\n",
    "lon_lat_t = np.array(platforms_set)[:,[2,1,0]].T #extract time, lat, lon with platforms as columns for casADi interpolation\n",
    "u_curr_cas = ocean_source.u_curr_func(lon_lat_t)\n",
    "v_curr_cas = ocean_source.v_curr_func(lon_lat_t)\n",
    "print(\"u_curr interpolation results: \", u_curr_cas,\"\\nv_curr interpolation results: \", v_curr_cas)"
   ]
  },
  {
   "cell_type": "code",
   "execution_count": 9,
   "metadata": {},
   "outputs": [],
   "source": [
    "import timeit"
   ]
  },
  {
   "cell_type": "code",
   "execution_count": 10,
   "metadata": {},
   "outputs": [
    {
     "name": "stdout",
     "output_type": "stream",
     "text": [
      "63.2 µs ± 8.54 µs per loop (mean ± std. dev. of 7 runs, 10,000 loops each)\n"
     ]
    }
   ],
   "source": [
    "%%timeit\n",
    "u_curr = ocean_source.u_curr_func(lon_lat_t)\n",
    "v_curr = ocean_source.v_curr_func(lon_lat_t)"
   ]
  },
  {
   "cell_type": "markdown",
   "metadata": {},
   "source": [
    "### JAX Interpolation"
   ]
  },
  {
   "cell_type": "code",
   "execution_count": 11,
   "metadata": {},
   "outputs": [],
   "source": [
    "import jax.numpy as jnp\n",
    "import jax.scipy.ndimage\n",
    "from jax import jit\n",
    "from scipy import interpolate"
   ]
  },
  {
   "cell_type": "code",
   "execution_count": 12,
   "metadata": {},
   "outputs": [],
   "source": [
    "@jit\n",
    "def init_lin_interpo_3D_fields(states_np, u_curr, v_curr, grid_eval):\n",
    "    idx_point = jnp.array(# time lat lon order as for the xarray dataset\n",
    "    [\n",
    "        jnp.interp(states_np[:,2], grid_eval[0], np.arange(len(grid[0]))),\n",
    "        jnp.interp(states_np[:,1], grid_eval[1], np.arange(len(grid[1]))),\n",
    "        jnp.interp(states_np[:,0], grid_eval[2], np.arange(len(grid[2]))),\n",
    "    ]\n",
    "    )\n",
    "    u_curr_interp = jax.scipy.ndimage.map_coordinates(u_curr, idx_point, order=1)\n",
    "    v_curr_interp = jax.scipy.ndimage.map_coordinates(v_curr, idx_point, order=1)\n",
    "    return u_curr_interp, v_curr_interp"
   ]
  },
  {
   "cell_type": "code",
   "execution_count": 13,
   "metadata": {},
   "outputs": [],
   "source": [
    "from functools import partial\n",
    "get_current_interp = partial(init_lin_interpo_3D_fields, u_curr=xarray.water_u.values, v_curr = xarray.water_v.values, \\\n",
    "                            grid_eval = grid)"
   ]
  },
  {
   "cell_type": "code",
   "execution_count": 14,
   "metadata": {},
   "outputs": [
    {
     "name": "stderr",
     "output_type": "stream",
     "text": [
      "WARNING:absl:No GPU/TPU found, falling back to CPU. (Set TF_CPP_MIN_LOG_LEVEL=0 and rerun for more info.)\n"
     ]
    },
    {
     "name": "stdout",
     "output_type": "stream",
     "text": [
      "u_curr interpolation results:  [0.7857713  1.1985755  0.7429931  1.1934026         nan 0.7396395\n",
      " 1.1884897  1.1844103  1.0489087  0.63986397 1.0911233  1.0545527\n",
      " 1.0980009  1.0263036  0.8750268  0.7238873  0.73092705 1.1758838\n",
      " 1.1119236  1.025509  ] \n",
      "v_curr interpolation results:  [ 0.29333332  0.36184558  0.02981923  0.4573411          nan  0.06722391\n",
      "  0.33129844  0.4400713   0.38488737 -0.27210727  0.3957012   0.19613881\n",
      "  0.1919581   0.2643722   0.04882056  0.02173114  0.02149608  0.3120486\n",
      "  0.24108893  0.0693258 ]\n",
      "diff jax - casADi\n",
      " u_curr [-2.03377e-06, -6.52945e-07, 3.2205e-07, 9.70939e-08, nan, -7.55515e-07, -7.69353e-07, -6.57877e-07, 3.03647e-06, 2.63617e-06, 3.46762e-07, -1.23693e-06, 2.69162e-06, 2.64201e-06, -1.4551e-06, 1.40103e-06, -2.42133e-07, 6.35927e-07, -1.43355e-06, 1.74766e-06] v_curr [-2.36763e-06, -1.66946e-06, -2.56267e-07, 2.98024e-08, nan, -1.69816e-06, -8.63365e-07, 4.94964e-07, -8.96302e-06, 7.79124e-06, -6.67959e-08, -4.83039e-06, 1.99395e-06, -1.09414e-07, -2.15649e-06, 3.97774e-06, -2.23775e-06, 1.72563e-06, -3.78859e-06, 1.26877e-06]\n"
     ]
    }
   ],
   "source": [
    "u_curr_jax, v_curr_jax = get_current_interp(np.array(platforms_set))\n",
    "print(\"u_curr interpolation results: \", u_curr_jax, \"\\nv_curr interpolation results: \", v_curr_jax)\n",
    "print(\"diff jax - casADi\\n\", \"u_curr\", u_curr_jax-u_curr_cas.T, \"v_curr\", v_curr_jax-v_curr_cas.T )"
   ]
  },
  {
   "cell_type": "code",
   "execution_count": 15,
   "metadata": {},
   "outputs": [
    {
     "name": "stdout",
     "output_type": "stream",
     "text": [
      "118 µs ± 25.4 µs per loop (mean ± std. dev. of 7 runs, 10,000 loops each)\n"
     ]
    }
   ],
   "source": [
    "%timeit u_curr, v_curr = get_current_interp(np.array(platforms_set))"
   ]
  }
 ],
 "metadata": {
  "kernelspec": {
   "display_name": "Python 3.9.13 ('ocean_minimal')",
   "language": "python",
   "name": "python3"
  },
  "language_info": {
   "codemirror_mode": {
    "name": "ipython",
    "version": 3
   },
   "file_extension": ".py",
   "mimetype": "text/x-python",
   "name": "python",
   "nbconvert_exporter": "python",
   "pygments_lexer": "ipython3",
   "version": "3.9.13"
  },
  "orig_nbformat": 4,
  "vscode": {
   "interpreter": {
    "hash": "9ed4b5c9df27747f3a2313a7b45e2dcb31384957b3c889e68300f490f3475319"
   }
  }
 },
 "nbformat": 4,
 "nbformat_minor": 2
}
