{
 "cells": [
  {
   "cell_type": "code",
   "execution_count": 1,
   "metadata": {},
   "outputs": [
    {
     "name": "stdout",
     "output_type": "stream",
     "text": [
      "/home/nicolas/documents/Master_Thesis_repo/OceanPlatformControl\n"
     ]
    }
   ],
   "source": [
    "from dataclasses import dataclass\n",
    "import casadi as ca\n",
    "import numpy as np\n",
    "import time\n",
    "import math\n",
    "from typing import Dict, Optional\n",
    "import logging\n",
    "import datetime\n",
    "import timeit\n",
    "from tqdm import tqdm\n",
    "\n",
    "from ocean_navigation_simulator.data_sources import OceanCurrentSource\n",
    "from ocean_navigation_simulator.data_sources.SolarIrradiance.SolarIrradianceSource import SolarIrradianceSource\n",
    "from ocean_navigation_simulator.data_sources.SeaweedGrowth.SeaweedGrowthSource import SeaweedGrowthSource\n",
    "from ocean_navigation_simulator.utils import units\n",
    "from ocean_navigation_simulator.environment.PlatformState import PlatformState\n",
    "from ocean_navigation_simulator.environment.PlatformState import SpatialPoint\n",
    "from ocean_navigation_simulator.environment.ArenaFactory import ArenaFactory\n",
    "from ocean_navigation_simulator.environment.NavigationProblem import NavigationProblem\n",
    "from ocean_navigation_simulator.controllers.hj_planners.HJReach2DPlanner import HJReach2DPlanner\n",
    "from ocean_navigation_simulator.utils import units\n",
    "import matplotlib.pyplot as plt\n",
    "import os\n",
    "os.chdir('/home/nicolas/documents/Master_Thesis_repo/OceanPlatformControl')\n",
    "print(os.getcwd())"
   ]
  },
  {
   "cell_type": "code",
   "execution_count": 2,
   "metadata": {},
   "outputs": [
    {
     "name": "stderr",
     "output_type": "stream",
     "text": [
      "INFO:arena.ocean_field:DataField: Create Hindcast Source (10.8s)\n",
      "INFO:arena.ocean_field:DataField: Forecast is the same as Hindcast for OceanCurrents.\n"
     ]
    }
   ],
   "source": [
    "from ocean_navigation_simulator.data_sources.OceanCurrentField import OceanCurrentField\n",
    "from ocean_navigation_simulator.data_sources.SeaweedGrowthField import SeaweedGrowthField\n",
    "from ocean_navigation_simulator.data_sources.SolarIrradianceField import SolarIrradianceField\n",
    "from typing import Dict, Optional, Union, Tuple, List, AnyStr, Literal, Callable\n",
    "import yaml\n",
    "\n",
    "scenario_name = 'gulf_of_mexico_HYCOM_hindcast_local'\n",
    "with open(f'config/arena/{scenario_name}.yaml') as f:\n",
    "    config = yaml.load(f, Loader=yaml.FullLoader)\n",
    "casadi_cache_dict=config['casadi_cache_dict']\n",
    "platform_dict=config['platform_dict']\n",
    "ocean_dict= config['ocean_dict']\n",
    "use_geographic_coordinate_system=config['use_geographic_coordinate_system']\n",
    "spatial_boundary=config['spatial_boundary']\n",
    "\n",
    "ocean_field = OceanCurrentField(\n",
    "    casadi_cache_dict=casadi_cache_dict,\n",
    "    hindcast_source_dict=ocean_dict['hindcast'],\n",
    "    forecast_source_dict=ocean_dict['forecast'],\n",
    "    use_geographic_coordinate_system=use_geographic_coordinate_system)\n",
    "\n",
    "ocean_source = ocean_field.hindcast_data_source"
   ]
  },
  {
   "cell_type": "code",
   "execution_count": 38,
   "metadata": {},
   "outputs": [],
   "source": [
    "x_0 = PlatformState(lon=units.Distance(deg=-83.25), lat=units.Distance(deg=23.25),\n",
    "                    date_time=datetime.datetime(2021, 11, 24, 12, 0, tzinfo=datetime.timezone.utc)) \n",
    "                    # define a platform approx. in the middle for interpolation and init\n",
    "# Step 1: Create the intervals to query data for\n",
    "t_interval, y_interval, x_interval, = ocean_source.convert_to_x_y_time_bounds(\n",
    "    x_0=x_0.to_spatio_temporal_point(),\n",
    "    x_T=x_0.to_spatial_point(),\n",
    "    deg_around_x0_xT_box=ocean_source.source_config_dict[\"casadi_cache_settings\"][\"deg_around_x_t\"],\n",
    "    temp_horizon_in_s=ocean_source.source_config_dict[\"casadi_cache_settings\"][\"time_around_x_t\"],\n",
    ")\n",
    "# Step 2: Get the data from itocean_source and update casadi_grid_dict\n",
    "xarray = ocean_source.get_data_over_area(x_interval, y_interval, t_interval)\n",
    "ocean_source.casadi_grid_dict = ocean_source.get_grid_dict_from_xr(xarray)\n",
    "\n",
    "# Step 3: Set up the grid with time lat lon order as for the xarray dataset\n",
    "grid = [\n",
    "    units.get_posix_time_from_np64(xarray.coords[\"time\"].values),  \n",
    "    xarray.coords[\"lat\"].values,\n",
    "    xarray.coords[\"lon\"].values,\n",
    "]\n"
   ]
  },
  {
   "cell_type": "code",
   "execution_count": 4,
   "metadata": {},
   "outputs": [],
   "source": [
    "import jax.numpy as jnp\n",
    "import jax.scipy.ndimage\n",
    "from jax import jit\n",
    "from scipy import interpolate"
   ]
  },
  {
   "cell_type": "code",
   "execution_count": 39,
   "metadata": {},
   "outputs": [
    {
     "name": "stdout",
     "output_type": "stream",
     "text": [
      "[[ 1.  ]\n",
      " [13.25]\n",
      " [13.75]]\n",
      "[1.6377516e+09 1.6377552e+09 1.6377588e+09 1.6377624e+09 1.6377660e+09\n",
      " 1.6377696e+09 1.6377732e+09 1.6377768e+09 1.6377804e+09 1.6377840e+09\n",
      " 1.6377876e+09 1.6377912e+09 1.6377948e+09 1.6377984e+09 1.6378020e+09\n",
      " 1.6378056e+09 1.6378092e+09 1.6378128e+09 1.6378164e+09 1.6378200e+09\n",
      " 1.6378236e+09 1.6378272e+09 1.6378308e+09 1.6378344e+09 1.6378380e+09\n",
      " 1.6378416e+09 1.6378452e+09 1.6378488e+09 1.6378524e+09 1.6378560e+09\n",
      " 1.6378596e+09 1.6378632e+09 1.6378668e+09 1.6378704e+09 1.6378740e+09\n",
      " 1.6378776e+09 1.6378812e+09 1.6378848e+09 1.6378884e+09 1.6378920e+09\n",
      " 1.6378956e+09 1.6378992e+09 1.6379028e+09 1.6379064e+09 1.6379100e+09\n",
      " 1.6379136e+09 1.6379172e+09 1.6379208e+09 1.6379244e+09 1.6379280e+09\n",
      " 1.6379316e+09]\n",
      "[22.71999931 22.76000023 22.79999924 22.84000015 22.87999916 22.92000008\n",
      " 22.95999908 23.         23.04000092 23.07999992 23.12000084 23.15999985\n",
      " 23.20000076 23.23999977 23.28000069 23.31999969 23.36000061 23.39999962\n",
      " 23.44000053 23.47999954 23.52000046 23.55999947 23.60000038 23.63999939\n",
      " 23.68000031 23.71999931 23.76000023 23.79999924]\n"
     ]
    }
   ],
   "source": [
    "idx_point = jnp.array(# time lat lon order as for the xarray dataset\n",
    "    [\n",
    "        jnp.interp(x_0.date_time.timestamp(), grid[0], np.arange(len(grid[0]))),\n",
    "        jnp.interp(x_0.lat.deg, grid[1], np.arange(len(grid[1]))),\n",
    "        jnp.interp(x_0.lon.deg, grid[2], np.arange(len(grid[2]))),\n",
    "    ]\n",
    ").reshape(-1, 1)\n",
    "print(idx_point)\n",
    "print(grid[0])\n",
    "print(grid[1])"
   ]
  },
  {
   "cell_type": "code",
   "execution_count": 45,
   "metadata": {},
   "outputs": [
    {
     "name": "stdout",
     "output_type": "stream",
     "text": [
      "(51, 28, 28)\n",
      "<xarray.Dataset>\n",
      "Dimensions:  (time: 51, lat: 28, lon: 28)\n",
      "Coordinates:\n",
      "  * time     (time) datetime64[ns] 2021-11-24T11:00:00 ... 2021-11-26T13:00:00\n",
      "    depth    float64 4.0\n",
      "  * lat      (lat) float64 22.72 22.76 22.8 22.84 ... 23.68 23.72 23.76 23.8\n",
      "  * lon      (lon) float64 -83.8 -83.76 -83.72 -83.68 ... -82.8 -82.76 -82.72\n",
      "Data variables:\n",
      "    water_u  (time, lat, lon) float32 nan nan nan nan ... 0.406 0.418 0.436\n",
      "    water_v  (time, lat, lon) float32 nan nan nan nan ... 0.502 0.557 0.605\n",
      "Attributes: (12/14)\n",
      "    classification_level:      UNCLASSIFIED\n",
      "    distribution_statement:    Approved for public release; distribution unli...\n",
      "    downgrade_date:            not applicable\n",
      "    classification_authority:  not applicable\n",
      "    institution:               Naval Oceanographic Office\n",
      "    source:                    HYCOM archive file\n",
      "    ...                        ...\n",
      "    Conventions:               CF-1.6 NAVO_netcdf_v1.1\n",
      "    History:                   Translated to CF-1.0 Conventions by Netcdf-Jav...\n",
      "    geospatial_lat_min:        18.1200008392334\n",
      "    geospatial_lat_max:        31.920000076293945\n",
      "    geospatial_lon_min:        -98.0\n",
      "    geospatial_lon_max:        -76.4000244140625\n",
      "(3, 1)\n",
      "[1.1642501]\n"
     ]
    }
   ],
   "source": [
    "print(xarray[\"water_u\"].values.shape)\n",
    "print(xarray)\n",
    "print(idx_point.shape)\n",
    "u_curr_interp = jax.scipy.ndimage.map_coordinates(xarray[\"water_u\"].values, idx_point, order=1)\n",
    "print(u_curr_interp)"
   ]
  },
  {
   "cell_type": "code",
   "execution_count": 86,
   "metadata": {},
   "outputs": [
    {
     "name": "stdout",
     "output_type": "stream",
     "text": [
      "(51, 28, 28, 2)\n",
      "(3, 1)\n"
     ]
    },
    {
     "ename": "ValueError",
     "evalue": "coordinates must be a sequence of length input.ndim, but 3 != 4",
     "output_type": "error",
     "traceback": [
      "\u001b[0;31m---------------------------------------------------------------------------\u001b[0m",
      "\u001b[0;31mValueError\u001b[0m                                Traceback (most recent call last)",
      "\u001b[1;32m/home/nicolas/documents/Master_Thesis_repo/OceanPlatformControl/scripts/nicolas/jax_multi_agent_test.ipynb Cell 7\u001b[0m in \u001b[0;36m<cell line: 6>\u001b[0;34m()\u001b[0m\n\u001b[1;32m      <a href='vscode-notebook-cell://wsl%2Bubuntu-20.04/home/nicolas/documents/Master_Thesis_repo/OceanPlatformControl/scripts/nicolas/jax_multi_agent_test.ipynb#X10sdnNjb2RlLXJlbW90ZQ%3D%3D?line=2'>3</a>\u001b[0m \u001b[39mprint\u001b[39m(idx_point\u001b[39m.\u001b[39mshape)\n\u001b[1;32m      <a href='vscode-notebook-cell://wsl%2Bubuntu-20.04/home/nicolas/documents/Master_Thesis_repo/OceanPlatformControl/scripts/nicolas/jax_multi_agent_test.ipynb#X10sdnNjb2RlLXJlbW90ZQ%3D%3D?line=3'>4</a>\u001b[0m \u001b[39m#idx_points_stack = np.concatenate((idx_point, idx_point), axis=1)\u001b[39;00m\n\u001b[1;32m      <a href='vscode-notebook-cell://wsl%2Bubuntu-20.04/home/nicolas/documents/Master_Thesis_repo/OceanPlatformControl/scripts/nicolas/jax_multi_agent_test.ipynb#X10sdnNjb2RlLXJlbW90ZQ%3D%3D?line=4'>5</a>\u001b[0m \u001b[39m#print(idx_points_stack.shape)\u001b[39;00m\n\u001b[0;32m----> <a href='vscode-notebook-cell://wsl%2Bubuntu-20.04/home/nicolas/documents/Master_Thesis_repo/OceanPlatformControl/scripts/nicolas/jax_multi_agent_test.ipynb#X10sdnNjb2RlLXJlbW90ZQ%3D%3D?line=5'>6</a>\u001b[0m uv_curr_interp \u001b[39m=\u001b[39m jax\u001b[39m.\u001b[39;49mscipy\u001b[39m.\u001b[39;49mndimage\u001b[39m.\u001b[39;49mmap_coordinates(water_uv, idx_point, order\u001b[39m=\u001b[39;49m\u001b[39m1\u001b[39;49m)\n",
      "File \u001b[0;32m~/miniconda3/envs/ocean_minimal/lib/python3.9/site-packages/jax/_src/scipy/ndimage.py:137\u001b[0m, in \u001b[0;36mmap_coordinates\u001b[0;34m(input, coordinates, order, mode, cval)\u001b[0m\n\u001b[1;32m    126\u001b[0m \u001b[39m@_wraps\u001b[39m(scipy\u001b[39m.\u001b[39mndimage\u001b[39m.\u001b[39mmap_coordinates, lax_description\u001b[39m=\u001b[39mtextwrap\u001b[39m.\u001b[39mdedent(\u001b[39m\"\"\"\u001b[39m\u001b[39m\\\u001b[39;00m\n\u001b[1;32m    127\u001b[0m \u001b[39m    Only nearest neighbor (``order=0``), linear interpolation (``order=1``) and\u001b[39m\n\u001b[1;32m    128\u001b[0m \u001b[39m    modes ``\u001b[39m\u001b[39m'\u001b[39m\u001b[39mconstant\u001b[39m\u001b[39m'\u001b[39m\u001b[39m``, ``\u001b[39m\u001b[39m'\u001b[39m\u001b[39mnearest\u001b[39m\u001b[39m'\u001b[39m\u001b[39m``, ``\u001b[39m\u001b[39m'\u001b[39m\u001b[39mwrap\u001b[39m\u001b[39m'\u001b[39m\u001b[39m`` ``\u001b[39m\u001b[39m'\u001b[39m\u001b[39mmirror\u001b[39m\u001b[39m'\u001b[39m\u001b[39m`` and ``\u001b[39m\u001b[39m'\u001b[39m\u001b[39mreflect\u001b[39m\u001b[39m'\u001b[39m\u001b[39m`` are currently supported.\u001b[39m\n\u001b[0;32m   (...)\u001b[0m\n\u001b[1;32m    135\u001b[0m     \u001b[39minput\u001b[39m, coordinates, order, mode\u001b[39m=\u001b[39m\u001b[39m'\u001b[39m\u001b[39mconstant\u001b[39m\u001b[39m'\u001b[39m, cval\u001b[39m=\u001b[39m\u001b[39m0.0\u001b[39m,\n\u001b[1;32m    136\u001b[0m ):\n\u001b[0;32m--> 137\u001b[0m   \u001b[39mreturn\u001b[39;00m _map_coordinates(\u001b[39minput\u001b[39;49m, coordinates, order, mode, cval)\n",
      "    \u001b[0;31m[... skipping hidden 14 frame]\u001b[0m\n",
      "File \u001b[0;32m~/miniconda3/envs/ocean_minimal/lib/python3.9/site-packages/jax/_src/scipy/ndimage.py:78\u001b[0m, in \u001b[0;36m_map_coordinates\u001b[0;34m(input, coordinates, order, mode, cval)\u001b[0m\n\u001b[1;32m     75\u001b[0m cval \u001b[39m=\u001b[39m jnp\u001b[39m.\u001b[39masarray(cval, \u001b[39minput\u001b[39m\u001b[39m.\u001b[39mdtype)\n\u001b[1;32m     77\u001b[0m \u001b[39mif\u001b[39;00m \u001b[39mlen\u001b[39m(coordinates) \u001b[39m!=\u001b[39m \u001b[39minput\u001b[39m\u001b[39m.\u001b[39mndim:\n\u001b[0;32m---> 78\u001b[0m   \u001b[39mraise\u001b[39;00m \u001b[39mValueError\u001b[39;00m(\u001b[39m'\u001b[39m\u001b[39mcoordinates must be a sequence of length input.ndim, but \u001b[39m\u001b[39m'\u001b[39m\n\u001b[1;32m     79\u001b[0m                    \u001b[39m'\u001b[39m\u001b[39m{}\u001b[39;00m\u001b[39m != \u001b[39m\u001b[39m{}\u001b[39;00m\u001b[39m'\u001b[39m\u001b[39m.\u001b[39mformat(\u001b[39mlen\u001b[39m(coordinates), \u001b[39minput\u001b[39m\u001b[39m.\u001b[39mndim))\n\u001b[1;32m     81\u001b[0m index_fixer \u001b[39m=\u001b[39m _INDEX_FIXERS\u001b[39m.\u001b[39mget(mode)\n\u001b[1;32m     82\u001b[0m \u001b[39mif\u001b[39;00m index_fixer \u001b[39mis\u001b[39;00m \u001b[39mNone\u001b[39;00m:\n",
      "\u001b[0;31mValueError\u001b[0m: coordinates must be a sequence of length input.ndim, but 3 != 4"
     ]
    }
   ],
   "source": [
    "water_uv = np.stack((xarray.water_u.values, xarray.water_v.values), axis=3)\n",
    "print(water_uv.shape)\n",
    "print(idx_point.shape)\n",
    "#idx_points_stack = np.concatenate((idx_point, idx_point), axis=1)\n",
    "#print(idx_points_stack.shape)\n",
    "uv_curr_interp = jax.scipy.ndimage.map_coordinates(water_uv, idx_point, order=1)"
   ]
  },
  {
   "cell_type": "code",
   "execution_count": 88,
   "metadata": {},
   "outputs": [],
   "source": [
    "from typing import List\n",
    "import dataclasses\n",
    "from dataclasses import astuple\n",
    "@dataclasses.dataclass\n",
    "class PlatformStateSet:\n",
    "    states:List[PlatformState]\n",
    "\n",
    "    def __array__(self):\n",
    "        return np.array(self.states) #rows are the number of platforms\n",
    "\n",
    "    def __len__(self):\n",
    "        return len(self.states)\n",
    "\n",
    "    def __getitem__(self, platform_id):\n",
    "        return np.array(self.states[platform_id])"
   ]
  },
  {
   "cell_type": "code",
   "execution_count": 89,
   "metadata": {},
   "outputs": [],
   "source": [
    "def rand_platforms(nb_platforms):\n",
    "    lon = np.random.uniform(low=-83.5, high=-83, size=(nb_platforms,))\n",
    "    lat = np.random.uniform(low=23, high=23.5, size=(nb_platforms,))\n",
    "    id = np.arange(start=1, stop=nb_platforms+1, step=1)\n",
    "    t = np.repeat(datetime.datetime(2021, 11, 24, 12, 0, tzinfo=datetime.timezone.utc), nb_platforms)\n",
    "    return lon,lat,id,t"
   ]
  },
  {
   "cell_type": "code",
   "execution_count": 90,
   "metadata": {},
   "outputs": [],
   "source": [
    "def get_platform(nb_platforms):\n",
    "    lon,lat,id,t = rand_platforms(nb_platforms)\n",
    "    platforms_list = [PlatformState(lon=units.Distance(deg=lon[k]), lat=units.Distance(deg=lat[k]), date_time=t[k]) \\\n",
    "                      for k in range(nb_platforms)]\n",
    "    # create the Set class for the platforms (version 1 with list of Platform states)\n",
    "    platforms_set = PlatformStateSet(states=platforms_list)\n",
    "    return platforms_set"
   ]
  },
  {
   "cell_type": "code",
   "execution_count": 160,
   "metadata": {},
   "outputs": [],
   "source": [
    "nb_platforms = 10\n",
    "platforms_set = get_platform(nb_platforms)"
   ]
  },
  {
   "cell_type": "code",
   "execution_count": 161,
   "metadata": {},
   "outputs": [],
   "source": [
    "@jit\n",
    "def init_lin_interpo_3D_fields(states_np, u_curr, v_curr, grid_eval):\n",
    "    idx_point = jnp.array(# time lat lon order as for the xarray dataset\n",
    "    [\n",
    "        jnp.interp(states_np[:,2], grid_eval[0], np.arange(len(grid[0]))),\n",
    "        jnp.interp(states_np[:,1], grid_eval[1], np.arange(len(grid[1]))),\n",
    "        jnp.interp(states_np[:,0], grid_eval[2], np.arange(len(grid[2]))),\n",
    "    ]\n",
    "    )\n",
    "    u_curr_interp = jax.scipy.ndimage.map_coordinates(u_curr, idx_point, order=1)\n",
    "    v_curr_interp = jax.scipy.ndimage.map_coordinates(v_curr, idx_point, order=1)\n",
    "    return u_curr_interp, v_curr_interp"
   ]
  },
  {
   "cell_type": "code",
   "execution_count": 162,
   "metadata": {},
   "outputs": [],
   "source": [
    "from functools import partial\n",
    "get_current_interp = partial(init_lin_interpo_3D_fields, u_curr=xarray.water_u.values, v_curr = xarray.water_v.values, \\\n",
    "                            grid_eval = grid)"
   ]
  },
  {
   "cell_type": "code",
   "execution_count": 163,
   "metadata": {},
   "outputs": [],
   "source": [
    "u_curr, v_curr = init_lin_interpo_3D_fields(np.array(platforms_set), xarray.water_u.values, xarray.water_v.values, grid)"
   ]
  },
  {
   "cell_type": "code",
   "execution_count": 164,
   "metadata": {},
   "outputs": [
    {
     "name": "stdout",
     "output_type": "stream",
     "text": [
      "[1.0595863  0.749789   1.1416535  1.1602628  1.0976499  0.9721538\n",
      " 0.86925066 0.9937061  0.8094971  0.7509687 ] [ 0.1838933  -0.0660328   0.41365105  0.33383605  0.23608424  0.28022778\n",
      "  0.16997062  0.27953756  0.17870289  0.17353368]\n"
     ]
    }
   ],
   "source": [
    "u_curr, v_curr = get_current_interp(np.array(platforms_set))\n",
    "print(u_curr, v_curr)"
   ]
  },
  {
   "cell_type": "code",
   "execution_count": 165,
   "metadata": {},
   "outputs": [
    {
     "name": "stdout",
     "output_type": "stream",
     "text": [
      "55.1 µs ± 1.95 µs per loop (mean ± std. dev. of 7 runs, 10,000 loops each)\n"
     ]
    }
   ],
   "source": [
    "import timeit\n",
    "# from ocean_navigation_simulator.data_sources.OceanCurrentSource import initialize\n",
    "%timeit u_curr, v_curr = get_current_interp(np.array(platforms_set))"
   ]
  },
  {
   "cell_type": "code",
   "execution_count": 166,
   "metadata": {},
   "outputs": [],
   "source": [
    "ocean_source.initialize_casadi_functions(grid, xarray)"
   ]
  },
  {
   "cell_type": "code",
   "execution_count": 167,
   "metadata": {},
   "outputs": [
    {
     "name": "stdout",
     "output_type": "stream",
     "text": [
      "20.2 µs ± 2.49 µs per loop (mean ± std. dev. of 7 runs, 10,000 loops each)\n"
     ]
    }
   ],
   "source": [
    "# print(np.array(platforms_set))\n",
    "# print(np.array(platforms_set)[:,[2,1,0]].T)\n",
    "lon_lat_t = np.array(platforms_set)[:,[2,1,0]].T #extract time, lat, lon with platforms as columns for casADi interpolation\n",
    "%timeit u_curr = ocean_source.u_curr_func(lon_lat_t)"
   ]
  },
  {
   "cell_type": "code",
   "execution_count": 168,
   "metadata": {},
   "outputs": [
    {
     "name": "stdout",
     "output_type": "stream",
     "text": [
      "40.8 µs ± 1.35 µs per loop (mean ± std. dev. of 7 runs, 10,000 loops each)\n"
     ]
    }
   ],
   "source": [
    "%%timeit\n",
    "u_curr = ocean_source.u_curr_func(lon_lat_t)\n",
    "v_curr = ocean_source.v_curr_func(lon_lat_t)"
   ]
  }
 ],
 "metadata": {
  "kernelspec": {
   "display_name": "Python 3.9.13 ('ocean_minimal')",
   "language": "python",
   "name": "python3"
  },
  "language_info": {
   "codemirror_mode": {
    "name": "ipython",
    "version": 3
   },
   "file_extension": ".py",
   "mimetype": "text/x-python",
   "name": "python",
   "nbconvert_exporter": "python",
   "pygments_lexer": "ipython3",
   "version": "3.9.13"
  },
  "orig_nbformat": 4,
  "vscode": {
   "interpreter": {
    "hash": "9ed4b5c9df27747f3a2313a7b45e2dcb31384957b3c889e68300f490f3475319"
   }
  }
 },
 "nbformat": 4,
 "nbformat_minor": 2
}
