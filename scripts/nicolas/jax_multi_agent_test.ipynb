{
 "cells": [
  {
   "cell_type": "markdown",
   "metadata": {},
   "source": [
    "# Compare speed of casADi for multiple points interpolation vs. JAX libraries"
   ]
  },
  {
   "cell_type": "code",
   "execution_count": 16,
   "metadata": {},
   "outputs": [
    {
     "name": "stdout",
     "output_type": "stream",
     "text": [
      "/home/nicolas/codeRepo/OceanPlatformControl\n"
     ]
    }
   ],
   "source": [
    "from dataclasses import dataclass\n",
    "import casadi as ca\n",
    "import numpy as np\n",
    "import time\n",
    "import math\n",
    "from typing import Dict, Optional\n",
    "import logging\n",
    "import datetime\n",
    "import timeit\n",
    "from tqdm import tqdm\n",
    "\n",
    "from ocean_navigation_simulator.data_sources import OceanCurrentSource\n",
    "from ocean_navigation_simulator.data_sources.SolarIrradiance.SolarIrradianceSource import SolarIrradianceSource\n",
    "from ocean_navigation_simulator.data_sources.SeaweedGrowth.SeaweedGrowthSource import SeaweedGrowthSource\n",
    "from ocean_navigation_simulator.utils import units\n",
    "from ocean_navigation_simulator.environment.PlatformState import PlatformState\n",
    "from ocean_navigation_simulator.environment.PlatformState import SpatialPoint\n",
    "from ocean_navigation_simulator.environment.ArenaFactory import ArenaFactory\n",
    "from ocean_navigation_simulator.environment.NavigationProblem import NavigationProblem\n",
    "from ocean_navigation_simulator.controllers.hj_planners.HJReach2DPlanner import HJReach2DPlanner\n",
    "from ocean_navigation_simulator.utils import units\n",
    "import matplotlib.pyplot as plt\n",
    "import os\n",
    "#os.chdir('/home/nicolas/documents/Master_Thesis_repo/OceanPlatformControl')\n",
    "os.chdir('/home/nicolas/codeRepo/OceanPlatformControl')\n",
    "print(os.getcwd())"
   ]
  },
  {
   "cell_type": "markdown",
   "metadata": {},
   "source": [
    "+ Import the ocean source"
   ]
  },
  {
   "cell_type": "code",
   "execution_count": 17,
   "metadata": {},
   "outputs": [
    {
     "name": "stderr",
     "output_type": "stream",
     "text": [
      "INFO:arena.ocean_field:DataField: Create Hindcast Source (3.3s)\n",
      "INFO:arena.ocean_field:DataField: Forecast is the same as Hindcast for OceanCurrents.\n"
     ]
    }
   ],
   "source": [
    "from ocean_navigation_simulator.data_sources.OceanCurrentField import OceanCurrentField\n",
    "from ocean_navigation_simulator.data_sources.SeaweedGrowthField import SeaweedGrowthField\n",
    "from ocean_navigation_simulator.data_sources.SolarIrradianceField import SolarIrradianceField\n",
    "from typing import Dict, Optional, Union, Tuple, List, AnyStr, Literal, Callable\n",
    "import yaml\n",
    "\n",
    "scenario_name = 'gulf_of_mexico_HYCOM_hindcast_local'\n",
    "with open(f'config/arena/{scenario_name}.yaml') as f:\n",
    "    config = yaml.load(f, Loader=yaml.FullLoader)\n",
    "casadi_cache_dict=config['casadi_cache_dict']\n",
    "platform_dict=config['platform_dict']\n",
    "ocean_dict= config['ocean_dict']\n",
    "use_geographic_coordinate_system=config['use_geographic_coordinate_system']\n",
    "spatial_boundary=config['spatial_boundary']\n",
    "\n",
    "ocean_field = OceanCurrentField(\n",
    "    casadi_cache_dict=casadi_cache_dict,\n",
    "    hindcast_source_dict=ocean_dict['hindcast'],\n",
    "    forecast_source_dict=ocean_dict['forecast'],\n",
    "    use_geographic_coordinate_system=use_geographic_coordinate_system)\n",
    "\n",
    "ocean_source = ocean_field.hindcast_data_source"
   ]
  },
  {
   "cell_type": "markdown",
   "metadata": {},
   "source": [
    "+ Create the typical implementation of a `PlatformStateSet` class, containing a list of `PlatformState`: redefine np.array methods to extract states "
   ]
  },
  {
   "cell_type": "code",
   "execution_count": 18,
   "metadata": {},
   "outputs": [],
   "source": [
    "from typing import List\n",
    "import dataclasses\n",
    "from dataclasses import astuple\n",
    "@dataclasses.dataclass\n",
    "class PlatformStateSet:\n",
    "    states:List[PlatformState]\n",
    "\n",
    "    def __array__(self):\n",
    "        return np.array(self.states) #rows are the number of platforms\n",
    "\n",
    "    def __len__(self):\n",
    "        return len(self.states)\n",
    "\n",
    "    def __getitem__(self, platform_id):\n",
    "    #     return np.array(self.states[platform_id])\n",
    "        return self.states[platform_id]\n",
    "\n",
    "    def __post_init__(self):\n",
    "        self.lon_arr = np.array(self.states)[:,0]\n",
    "        self.lat_arr = np.array(self.states)[:,1]\n",
    "        self.date_time_arr = np.array(self.states)[:,2]\n",
    "        self.battery_charge = np.array(self.states)[:,3]\n",
    "        self.seaweed_mass = np.array(self.states)[:,4]"
   ]
  },
  {
   "cell_type": "markdown",
   "metadata": {},
   "source": [
    "+ Create functions to generate random platform states"
   ]
  },
  {
   "cell_type": "code",
   "execution_count": 19,
   "metadata": {},
   "outputs": [],
   "source": [
    "def rand_platforms(nb_platforms):\n",
    "    lon = np.random.uniform(low=-83.5, high=-83, size=(nb_platforms,))\n",
    "    lat = np.random.uniform(low=23, high=23.5, size=(nb_platforms,))\n",
    "    id = np.arange(start=1, stop=nb_platforms+1, step=1)\n",
    "    t = np.repeat(datetime.datetime(2021, 11, 24, 12, 0, tzinfo=datetime.timezone.utc), nb_platforms)\n",
    "    return lon,lat,id,t\n",
    "    \n",
    "def get_platform(nb_platforms):\n",
    "    lon,lat,id,t = rand_platforms(nb_platforms)\n",
    "    platforms_list = [PlatformState(lon=units.Distance(deg=lon[k]), lat=units.Distance(deg=lat[k]), date_time=t[k]) \\\n",
    "                      for k in range(nb_platforms)]\n",
    "    # create the Set class for the platforms (version 1 with list of Platform states)\n",
    "    platforms_set = PlatformStateSet(states=platforms_list)\n",
    "    return platforms_set"
   ]
  },
  {
   "cell_type": "markdown",
   "metadata": {},
   "source": [
    "**Rewrite** `convert_to_x_y_time_bounds` to support multiple platform states, making use of the methods implemented in PlatformStateSet"
   ]
  },
  {
   "cell_type": "code",
   "execution_count": 20,
   "metadata": {},
   "outputs": [],
   "source": [
    "def convert_to_x_y_time_bounds(\n",
    "    states: PlatformStateSet,\n",
    "    x_T: SpatialPoint,\n",
    "    deg_around_x0_xT_box: float,\n",
    "    temp_horizon_in_s: float,\n",
    "):\n",
    "    \"\"\"Helper function for spatio-temporal subsetting\n",
    "    Args:\n",
    "        x_0: SpatioTemporalPoint\n",
    "        x_T: SpatialPoint goal locations\n",
    "        deg_around_x0_xT_box: buffer around the box in degree\n",
    "        temp_horizon_in_s: maximum temp_horizon to look ahead of x_0 time in seconds\n",
    "\n",
    "    Returns:\n",
    "        t_interval: if time-varying: [t_0, t_T] as utc datetime objects\n",
    "                    where t_0 and t_T are the start and end respectively\n",
    "        lat_bnds: [y_lower, y_upper] in degrees\n",
    "        lon_bnds: [x_lower, x_upper] in degrees\n",
    "    \"\"\"\n",
    "\n",
    "    t_interval = [datetime.datetime.fromtimestamp(min(states.date_time_arr), tz=datetime.timezone.utc), \\\n",
    "                  datetime.datetime.fromtimestamp(max(states.date_time_arr), tz=datetime.timezone.utc) + datetime.timedelta(seconds=temp_horizon_in_s)]\n",
    "    lon_bnds = [\n",
    "        min(min(states.lon_arr), x_T.lon.deg) - deg_around_x0_xT_box,\n",
    "        max(max(states.lon_arr), x_T.lon.deg) + deg_around_x0_xT_box,\n",
    "    ]\n",
    "    lat_bnds = [\n",
    "        min(min(states.lat_arr), x_T.lat.deg) - deg_around_x0_xT_box,\n",
    "        max(max(states.lat_arr), x_T.lat.deg) + deg_around_x0_xT_box,\n",
    "    ]\n",
    "\n",
    "    return t_interval, lat_bnds, lon_bnds"
   ]
  },
  {
   "cell_type": "markdown",
   "metadata": {},
   "source": [
    "## TIME EVALUATION"
   ]
  },
  {
   "cell_type": "code",
   "execution_count": 21,
   "metadata": {},
   "outputs": [],
   "source": [
    "import timeit\n",
    "import jax.numpy as jnp\n",
    "import jax.scipy.ndimage\n",
    "from jax import jit\n",
    "from scipy import interpolate\n",
    "from functools import partial"
   ]
  },
  {
   "cell_type": "markdown",
   "metadata": {},
   "source": [
    "+ Create random platforms and define the grid to be interpolated on (or cached in casADi)"
   ]
  },
  {
   "cell_type": "code",
   "execution_count": 22,
   "metadata": {},
   "outputs": [],
   "source": [
    "nb_platforms_span = [1, 50, 100, 250, 500, 750, 1000, 1250, 1500] # number of platforms to be evaluated\n",
    "grid_list = []\n",
    "xr_curr_list = []\n",
    "platforms_set_list = []\n",
    "for nb_platforms in nb_platforms_span: # loop across the nb of platforms to try out and save data\n",
    "    platforms_set = get_platform(nb_platforms) # get random location for platforms\n",
    "    platforms_set_list.append(platforms_set) \n",
    "    # Step 1: Create the intervals to query data for\n",
    "    t_interval, y_interval, x_interval, = convert_to_x_y_time_bounds(\n",
    "        states=platforms_set,\n",
    "        x_T=platforms_set[0].to_spatial_point(),    \n",
    "        deg_around_x0_xT_box=ocean_source.source_config_dict[\"casadi_cache_settings\"][\"deg_around_x_t\"],\n",
    "        temp_horizon_in_s=ocean_source.source_config_dict[\"casadi_cache_settings\"][\"time_around_x_t\"],\n",
    "    )\n",
    "    #print(t_interval, x_interval, y_interval)\n",
    "    # Step 2: Get the data from itocean_source and update casadi_grid_dict\n",
    "    xarray = ocean_source.get_data_over_area(x_interval, y_interval, t_interval)\n",
    "    xr_curr_list.append(xarray)\n",
    "    ocean_source.casadi_grid_dict = ocean_source.get_grid_dict_from_xr(xarray)\n",
    "    # Step 3: Set up the grid with time lat lon order as for the xarray dataset\n",
    "    grid_list.append([\n",
    "        units.get_posix_time_from_np64(xarray.coords[\"time\"].values),  \n",
    "        xarray.coords[\"lat\"].values,\n",
    "        xarray.coords[\"lon\"].values,\n",
    "    ])"
   ]
  },
  {
   "cell_type": "markdown",
   "metadata": {},
   "source": [
    "### CasADi Interpolation"
   ]
  },
  {
   "cell_type": "code",
   "execution_count": 23,
   "metadata": {},
   "outputs": [
    {
     "name": "stdout",
     "output_type": "stream",
     "text": [
      "14.3 µs ± 1.15 µs per loop (mean ± std. dev. of 10 runs, 1,000 loops each)\n",
      "13.8 µs ± 214 ns per loop (mean ± std. dev. of 10 runs, 1,000 loops each)\n",
      "41.2 µs ± 674 ns per loop (mean ± std. dev. of 10 runs, 1,000 loops each)\n",
      "42.8 µs ± 3.7 µs per loop (mean ± std. dev. of 10 runs, 1,000 loops each)\n",
      "65.4 µs ± 881 ns per loop (mean ± std. dev. of 10 runs, 1,000 loops each)\n",
      "65.9 µs ± 1.2 µs per loop (mean ± std. dev. of 10 runs, 1,000 loops each)\n",
      "140 µs ± 5.07 µs per loop (mean ± std. dev. of 10 runs, 1,000 loops each)\n",
      "141 µs ± 4.51 µs per loop (mean ± std. dev. of 10 runs, 1,000 loops each)\n",
      "258 µs ± 1.71 µs per loop (mean ± std. dev. of 10 runs, 1,000 loops each)\n",
      "262 µs ± 4.7 µs per loop (mean ± std. dev. of 10 runs, 1,000 loops each)\n",
      "382 µs ± 2.88 µs per loop (mean ± std. dev. of 10 runs, 1,000 loops each)\n",
      "383 µs ± 3.93 µs per loop (mean ± std. dev. of 10 runs, 1,000 loops each)\n",
      "505 µs ± 3.64 µs per loop (mean ± std. dev. of 10 runs, 1,000 loops each)\n",
      "506 µs ± 3.77 µs per loop (mean ± std. dev. of 10 runs, 1,000 loops each)\n",
      "631 µs ± 17.3 µs per loop (mean ± std. dev. of 10 runs, 1,000 loops each)\n",
      "626 µs ± 3.07 µs per loop (mean ± std. dev. of 10 runs, 1,000 loops each)\n",
      "749 µs ± 12.7 µs per loop (mean ± std. dev. of 10 runs, 1,000 loops each)\n",
      "747 µs ± 6.42 µs per loop (mean ± std. dev. of 10 runs, 1,000 loops each)\n"
     ]
    }
   ],
   "source": [
    "t_avg_cas = []\n",
    "for idx in range(len(nb_platforms_span)):\n",
    "    ocean_source.initialize_casadi_functions(grid_list[idx], xr_curr_list[idx])\n",
    "    platforms_set = platforms_set_list[idx] # get the corresponding states for the nb of platforms to test \n",
    "    lon_lat_t = np.array(platforms_set)[:,[2,1,0]].T # extract time, lat, lon with platforms as columns for casADi interpolation\n",
    "    u_curr_cas = %timeit -n 1000 -r 10 -o ocean_source.u_curr_func(lon_lat_t)\n",
    "    v_curr_cas = %timeit -n 1000 -r 10 -o ocean_source.v_curr_func(lon_lat_t)\n",
    "    t_avg_cas.append((u_curr_cas.average+v_curr_cas.average)*1e6) # in us"
   ]
  },
  {
   "cell_type": "markdown",
   "metadata": {},
   "source": [
    "### JAX Interpolation"
   ]
  },
  {
   "cell_type": "markdown",
   "metadata": {},
   "source": [
    "+ Check if we run on gpu"
   ]
  },
  {
   "cell_type": "code",
   "execution_count": 24,
   "metadata": {},
   "outputs": [],
   "source": [
    "jax.default_backend()\n",
    "_gpu = jax.devices(\"gpu\")[0]"
   ]
  },
  {
   "cell_type": "markdown",
   "metadata": {},
   "source": [
    "+ Interpolation function with jax and scipy: first scale input relatively to the grid range (as indices) using `jnp.interp`"
   ]
  },
  {
   "cell_type": "code",
   "execution_count": 25,
   "metadata": {},
   "outputs": [],
   "source": [
    "@jit\n",
    "def init_lin_interpo_3D_fields(states_np, u_curr, v_curr, grid_eval):\n",
    "    print(\"First time init for jit\")\n",
    "    idx_point = jnp.array(# time lat lon order as for the xarray dataset\n",
    "    [\n",
    "        jnp.interp(states_np[:,2], grid_eval[0], np.arange(len(grid_eval[0]))),\n",
    "        jnp.interp(states_np[:,1], grid_eval[1], np.arange(len(grid_eval[1]))),\n",
    "        jnp.interp(states_np[:,0], grid_eval[2], np.arange(len(grid_eval[2]))),\n",
    "    ]\n",
    "    )\n",
    "    u_curr_interp = jax.scipy.ndimage.map_coordinates(u_curr, idx_point, order=1) \n",
    "    v_curr_interp = jax.scipy.ndimage.map_coordinates(v_curr, idx_point, order=1)\n",
    "    return u_curr_interp, v_curr_interp"
   ]
  },
  {
   "cell_type": "code",
   "execution_count": 33,
   "metadata": {},
   "outputs": [
    {
     "name": "stdout",
     "output_type": "stream",
     "text": [
      "352 µs ± 34.9 µs per loop (mean ± std. dev. of 10 runs, 1,000 loops each)\n",
      "254 µs ± 1.74 µs per loop (mean ± std. dev. of 10 runs, 1,000 loops each)\n",
      "437 µs ± 67 µs per loop (mean ± std. dev. of 10 runs, 1,000 loops each)\n",
      "277 µs ± 8.2 µs per loop (mean ± std. dev. of 10 runs, 1,000 loops each)\n",
      "395 µs ± 36.3 µs per loop (mean ± std. dev. of 10 runs, 1,000 loops each)\n",
      "274 µs ± 1.27 µs per loop (mean ± std. dev. of 10 runs, 1,000 loops each)\n",
      "377 µs ± 51.6 µs per loop (mean ± std. dev. of 10 runs, 1,000 loops each)\n",
      "319 µs ± 52.7 µs per loop (mean ± std. dev. of 10 runs, 1,000 loops each)\n",
      "400 µs ± 52.7 µs per loop (mean ± std. dev. of 10 runs, 1,000 loops each)\n",
      "360 µs ± 52.2 µs per loop (mean ± std. dev. of 10 runs, 1,000 loops each)\n",
      "366 µs ± 30.3 µs per loop (mean ± std. dev. of 10 runs, 1,000 loops each)\n",
      "272 µs ± 4.3 µs per loop (mean ± std. dev. of 10 runs, 1,000 loops each)\n",
      "357 µs ± 45.9 µs per loop (mean ± std. dev. of 10 runs, 1,000 loops each)\n",
      "280 µs ± 5.09 µs per loop (mean ± std. dev. of 10 runs, 1,000 loops each)\n",
      "380 µs ± 56.6 µs per loop (mean ± std. dev. of 10 runs, 1,000 loops each)\n",
      "309 µs ± 47.9 µs per loop (mean ± std. dev. of 10 runs, 1,000 loops each)\n",
      "381 µs ± 32.1 µs per loop (mean ± std. dev. of 10 runs, 1,000 loops each)\n",
      "275 µs ± 2.14 µs per loop (mean ± std. dev. of 10 runs, 1,000 loops each)\n"
     ]
    }
   ],
   "source": [
    "t_avg_jax_cpu_states = [] # list to measure avg running time when we run the platform states are kept on CPU\n",
    "t_avg_jax_gpu_states = [] # list to measure avg running time when we run the platform states are on GPU\n",
    "for idx in range(len(nb_platforms_span)):\n",
    "    xarray = xr_curr_list[idx]\n",
    "    grid = grid_list[idx]\n",
    "    u_curr_gt = xarray.water_u.values\n",
    "    v_curr_gt = xarray.water_v.values\n",
    "    states = np.array(platforms_set).astype('float32')\n",
    "    # send to GPU\n",
    "    u_curr_gt_gpu = jax.device_put(u_curr_gt, _gpu) \n",
    "    v_curr_gt_gpu = jax.device_put(v_curr_gt, _gpu)\n",
    "    grid_gpu = jax.device_put(grid, _gpu)\n",
    "    states_gpu = jax.device_put(states, _gpu)\n",
    "    get_current_interp_gpu = partial(init_lin_interpo_3D_fields, u_curr=u_curr_gt_gpu, v_curr = v_curr_gt_gpu, \\\n",
    "                            grid_eval = grid_gpu)\n",
    "    # initialize first (JIT first time is not counted)\n",
    "    u,v = get_current_interp_gpu(states)\n",
    "\n",
    "    #time when the states are still on cpu\n",
    "    t_jax_cpu_states = %timeit -n 1000 -r 10 -o get_current_interp_gpu(states)\n",
    "    t_avg_jax_cpu_states.append(t_jax_cpu_states.average*1e6)\n",
    "\n",
    "    #time when the platform states are also on gpu\n",
    "    t_jax_gpu_states = %timeit -n 1000 -r 10 -o get_current_interp_gpu(states_gpu)\n",
    "    t_avg_jax_gpu_states.append(t_jax_gpu_states.average*1e6)"
   ]
  },
  {
   "cell_type": "code",
   "execution_count": 34,
   "metadata": {},
   "outputs": [
    {
     "data": {
      "image/png": "[encoded data removed]",
      "text/plain": [
       "<Figure size 640x480 with 1 Axes>"
      ]
     },
     "metadata": {},
     "output_type": "display_data"
    }
   ],
   "source": [
    "import matplotlib.pyplot as plt\n",
    "plt.plot(nb_platforms_span, t_avg_cas, 'ob--', label = 'casadi')\n",
    "plt.plot(nb_platforms_span, t_avg_jax_cpu_states, 'or--', label='jax: state still on cpu')\n",
    "plt.plot(nb_platforms_span, t_avg_jax_gpu_states, 'ok--', label= 'jax: with state on gpu')\n",
    "plt.xlabel(\"Number of Platforms\")\n",
    "plt.ylabel(\"Runtime in us\")\n",
    "plt.grid(visible=True)\n",
    "plt.legend()\n",
    "plt.title(\"Interpolation runtime: CasADi vs JAX\")\n",
    "plt.show()"
   ]
  }
 ],
 "metadata": {
  "kernelspec": {
   "display_name": "Python 3.9.11 ('ocean_minimal')",
   "language": "python",
   "name": "python3"
  },
  "language_info": {
   "codemirror_mode": {
    "name": "ipython",
    "version": 3
   },
   "file_extension": ".py",
   "mimetype": "text/x-python",
   "name": "python",
   "nbconvert_exporter": "python",
   "pygments_lexer": "ipython3",
   "version": "3.9.13"
  },
  "orig_nbformat": 4,
  "vscode": {
   "interpreter": {
    "hash": "048f550678b041a80ee7a796eb63a2b940ec728100bd8dc49041ae30ee131938"
   }
  }
 },
 "nbformat": 4,
 "nbformat_minor": 2
}
