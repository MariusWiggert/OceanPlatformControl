{
 "cells": [
  {
   "cell_type": "code",
   "execution_count": 85,
   "metadata": {},
   "outputs": [
    {
     "name": "stdout",
     "output_type": "stream",
     "text": [
      "/home/nicolas/documents/Master_Thesis_repo/OceanPlatformControl\n"
     ]
    }
   ],
   "source": [
    "from dataclasses import dataclass\n",
    "import casadi as ca\n",
    "import numpy as np\n",
    "import time\n",
    "import math\n",
    "from typing import Dict, Optional\n",
    "import logging\n",
    "import datetime\n",
    "import timeit\n",
    "from tqdm import tqdm\n",
    "\n",
    "from ocean_navigation_simulator.data_sources import OceanCurrentSource\n",
    "from ocean_navigation_simulator.data_sources.SolarIrradiance.SolarIrradianceSource import SolarIrradianceSource\n",
    "from ocean_navigation_simulator.data_sources.SeaweedGrowth.SeaweedGrowthSource import SeaweedGrowthSource\n",
    "from ocean_navigation_simulator.utils import units\n",
    "from ocean_navigation_simulator.environment.PlatformState import PlatformState\n",
    "from ocean_navigation_simulator.environment.PlatformState import SpatialPoint\n",
    "from ocean_navigation_simulator.environment.ArenaFactory import ArenaFactory\n",
    "from ocean_navigation_simulator.environment.NavigationProblem import NavigationProblem\n",
    "from ocean_navigation_simulator.controllers.hj_planners.HJReach2DPlanner import HJReach2DPlanner\n",
    "from ocean_navigation_simulator.utils import units\n",
    "import matplotlib.pyplot as plt\n",
    "import os\n",
    "os.chdir('/home/nicolas/documents/Master_Thesis_repo/OceanPlatformControl')\n",
    "print(os.getcwd())"
   ]
  },
  {
   "cell_type": "markdown",
   "metadata": {},
   "source": [
    "+ Create 4 Platforms as usual using the `PlatformState` class "
   ]
  },
  {
   "cell_type": "code",
   "execution_count": 86,
   "metadata": {},
   "outputs": [],
   "source": [
    "x_0_1 = PlatformState(lon=units.Distance(deg=-82.5), lat=units.Distance(deg=23.7),\n",
    "                    date_time=datetime.datetime(2021, 11, 24, 12, 0, tzinfo=datetime.timezone.utc), id=int(0))\n",
    "x_0_2 = PlatformState(lon=units.Distance(deg=-82.6), lat=units.Distance(deg=23.8),\n",
    "                    date_time=datetime.datetime(2021, 11, 24, 12, 0, tzinfo=datetime.timezone.utc), id=int(1))\n",
    "x_0_3 = PlatformState(lon=units.Distance(deg=-82.4), lat=units.Distance(deg=23.6),\n",
    "                    date_time=datetime.datetime(2021, 11, 24, 12, 0, tzinfo=datetime.timezone.utc), id=int(2))\n",
    "x_0_4 = PlatformState(lon=units.Distance(deg=-82.4), lat=units.Distance(deg=23.7),\n",
    "                    date_time=datetime.datetime(2021, 11, 24, 12, 0, tzinfo=datetime.timezone.utc), id=int(2))"
   ]
  },
  {
   "cell_type": "markdown",
   "metadata": {},
   "source": [
    "Create a first implementation version of PlatformStateSet"
   ]
  },
  {
   "cell_type": "code",
   "execution_count": 87,
   "metadata": {},
   "outputs": [],
   "source": [
    "from typing import List\n",
    "import dataclasses\n",
    "from dataclasses import astuple\n",
    "@dataclasses.dataclass\n",
    "class PlatformStateSet_v1:\n",
    "    states:List[PlatformState]\n",
    "\n",
    "    def __array__(self):\n",
    "        states_list = [np.array(state) for state in self.states]\n",
    "        return np.array(states_list).T #columns: number of platforms\n",
    "\n",
    "    def __len__(self):\n",
    "        return len(self.states)\n",
    "\n",
    "    def __getitem__(self, platform_id):\n",
    "        return np.array(self.states[platform_id])"
   ]
  },
  {
   "cell_type": "markdown",
   "metadata": {},
   "source": [
    "Second version of platform state set, states directly stored as numpy array (->useful for Casadi) and implement methods to convert to list (for example if we would run HJ)"
   ]
  },
  {
   "cell_type": "code",
   "execution_count": 88,
   "metadata": {},
   "outputs": [],
   "source": [
    "@dataclasses.dataclass\n",
    "class PlatformStateSet_v2:\n",
    "    states: np.array\n",
    "\n",
    "    def get_list_platform_state(self):\n",
    "        return [PlatformState.from_numpy(self.states[:,id]) for id in range(self.states.shape[1])] \n",
    "\n",
    "    def get_platform_state_from_id(self, id):\n",
    "        return PlatformState.from_numpy(self.states[:,id])"
   ]
  },
  {
   "cell_type": "markdown",
   "metadata": {},
   "source": [
    "Time it to get a numpy array (row = states, col = platform id)"
   ]
  },
  {
   "cell_type": "code",
   "execution_count": 89,
   "metadata": {},
   "outputs": [
    {
     "name": "stdout",
     "output_type": "stream",
     "text": [
      "18.8 µs ± 175 ns per loop (mean ± std. dev. of 7 runs, 100,000 loops each)\n",
      "21.6 µs ± 1.32 µs per loop (mean ± std. dev. of 7 runs, 10,000 loops each)\n"
     ]
    }
   ],
   "source": [
    "x_set_v1 = PlatformStateSet_v1(states=[x_0_1, x_0_2])\n",
    "%timeit np.array(x_set_v1)\n",
    "x_set_v2 = PlatformStateSet_v2(states = np.array(x_set_v1))\n",
    "%timeit x_set_v2.get_list_platform_state()"
   ]
  },
  {
   "cell_type": "code",
   "execution_count": 90,
   "metadata": {},
   "outputs": [
    {
     "name": "stdout",
     "output_type": "stream",
     "text": [
      "34 µs ± 2.52 µs per loop (mean ± std. dev. of 7 runs, 10,000 loops each)\n",
      "41.8 µs ± 3.25 µs per loop (mean ± std. dev. of 7 runs, 10,000 loops each)\n"
     ]
    }
   ],
   "source": [
    "x_set_v1 = PlatformStateSet_v1(states=[x_0_1, x_0_2,x_0_3, x_0_4])\n",
    "%timeit np.array(x_set_v1)\n",
    "x_set_v2 = PlatformStateSet_v2(states = np.array(x_set_v1))\n",
    "%timeit x_set_v2.get_list_platform_state()"
   ]
  },
  {
   "cell_type": "markdown",
   "metadata": {},
   "source": [
    "Scale this up in terms of platforms:"
   ]
  },
  {
   "cell_type": "markdown",
   "metadata": {},
   "source": [
    "Define a function to generate (randomly) platform samples"
   ]
  },
  {
   "cell_type": "code",
   "execution_count": 91,
   "metadata": {},
   "outputs": [],
   "source": [
    "def rand_platforms(nb_platforms):\n",
    "    lon = np.random.uniform(low=-83.5, high=-83, size=(nb_platforms,))\n",
    "    lat = np.random.uniform(low=23, high=23.5, size=(nb_platforms,))\n",
    "    id = np.arange(start=1, stop=nb_platforms+1, step=1)\n",
    "    t = np.repeat(datetime.datetime(2021, 11, 24, 12, 0, tzinfo=datetime.timezone.utc), nb_platforms)\n",
    "    return lon,lat,id,t\n"
   ]
  },
  {
   "cell_type": "code",
   "execution_count": 92,
   "metadata": {},
   "outputs": [],
   "source": [
    "nb_platforms = 50\n",
    "lon,lat,id,t = rand_platforms(nb_platforms)\n",
    "platforms_list = [PlatformState(lon=units.Distance(deg=lon[k]), lat=units.Distance(deg=lat[k]), date_time=t[k], id=int(id[k])) \\\n",
    "                 for k in range(nb_platforms)]"
   ]
  },
  {
   "cell_type": "code",
   "execution_count": 93,
   "metadata": {},
   "outputs": [
    {
     "name": "stdout",
     "output_type": "stream",
     "text": [
      "362 µs ± 10.2 µs per loop (mean ± std. dev. of 7 runs, 1,000 loops each)\n",
      "492 µs ± 55.5 µs per loop (mean ± std. dev. of 7 runs, 1,000 loops each)\n"
     ]
    }
   ],
   "source": [
    "x_set_v1 = PlatformStateSet_v1(states=platforms_list)\n",
    "%timeit np.array(x_set_v1)\n",
    "x_set_v2 = PlatformStateSet_v2(states = np.array(x_set_v1))\n",
    "%timeit x_set_v2.get_list_platform_state()"
   ]
  },
  {
   "cell_type": "markdown",
   "metadata": {},
   "source": [
    "Compare to the time if we only extract on platform state"
   ]
  },
  {
   "cell_type": "code",
   "execution_count": 94,
   "metadata": {},
   "outputs": [
    {
     "name": "stdout",
     "output_type": "stream",
     "text": [
      "10 µs ± 488 ns per loop (mean ± std. dev. of 7 runs, 100,000 loops each)\n"
     ]
    }
   ],
   "source": [
    "plat_id= np.random.randint(low=1,high=nb_platforms)\n",
    "%timeit x_set_v2.get_platform_state_from_id(plat_id)"
   ]
  },
  {
   "cell_type": "markdown",
   "metadata": {},
   "source": [
    "Now compare speed of casadi vectorization compared to single platform: \n",
    "\n",
    "First start to initialize the scenario and to set up the ocean source environment"
   ]
  },
  {
   "cell_type": "code",
   "execution_count": 95,
   "metadata": {},
   "outputs": [
    {
     "name": "stderr",
     "output_type": "stream",
     "text": [
      "INFO:arena.ocean_field:DataField: Create Hindcast Source (7.8s)\n",
      "INFO:arena.ocean_field:DataField: Forecast is the same as Hindcast for OceanCurrents.\n"
     ]
    }
   ],
   "source": [
    "from ocean_navigation_simulator.data_sources.OceanCurrentField import OceanCurrentField\n",
    "from ocean_navigation_simulator.data_sources.SeaweedGrowthField import SeaweedGrowthField\n",
    "from ocean_navigation_simulator.data_sources.SolarIrradianceField import SolarIrradianceField\n",
    "from typing import Dict, Optional, Union, Tuple, List, AnyStr, Literal, Callable\n",
    "import yaml\n",
    "\n",
    "scenario_name = 'gulf_of_mexico_HYCOM_hindcast_local'\n",
    "with open(f'config/arena/{scenario_name}.yaml') as f:\n",
    "    config = yaml.load(f, Loader=yaml.FullLoader)\n",
    "casadi_cache_dict=config['casadi_cache_dict']\n",
    "platform_dict=config['platform_dict']\n",
    "ocean_dict= config['ocean_dict']\n",
    "use_geographic_coordinate_system=config['use_geographic_coordinate_system']\n",
    "spatial_boundary=config['spatial_boundary']\n",
    "\n",
    "ocean_field = OceanCurrentField(\n",
    "    casadi_cache_dict=casadi_cache_dict,\n",
    "    hindcast_source_dict=ocean_dict['hindcast'],\n",
    "    forecast_source_dict=ocean_dict['forecast'],\n",
    "    use_geographic_coordinate_system=use_geographic_coordinate_system)\n",
    "\n",
    "ocean_source = ocean_field.hindcast_data_source"
   ]
  },
  {
   "cell_type": "markdown",
   "metadata": {},
   "source": [
    "Define a PlatformActionSet class and define a function to generate random actions"
   ]
  },
  {
   "cell_type": "code",
   "execution_count": 96,
   "metadata": {},
   "outputs": [],
   "source": [
    "from ocean_navigation_simulator.environment.Platform import Platform, PlatformAction\n",
    "@dataclasses.dataclass\n",
    "class PlatformActionSet:\n",
    "    action_set: List[PlatformAction]\n",
    "\n",
    "    def __array__(self):\n",
    "        action_list = [np.array(action) for action in self.action_set]\n",
    "        return np.array(action_list).T #columns: number of platforms\n",
    "\n",
    "def gen_rand_action(nb_platforms):\n",
    "    mag = np.random.uniform(low=0, high=99, size=(nb_platforms,))\n",
    "    dir = np.random.uniform(low=0, high=2*np.pi, size=(nb_platforms,))\n",
    "    return mag, dir"
   ]
  },
  {
   "cell_type": "code",
   "execution_count": 97,
   "metadata": {},
   "outputs": [],
   "source": [
    "nb_platforms = 10\n",
    "lon,lat,id,t = rand_platforms(nb_platforms)\n",
    "platforms_list = [PlatformState(lon=units.Distance(deg=lon[k]), lat=units.Distance(deg=lat[k]), date_time=t[k], id=int(id[k])) \\\n",
    "                 for k in range(nb_platforms)]\n",
    "mag, dir = gen_rand_action(nb_platforms)\n",
    "actions_list = [PlatformAction(magnitude=mag[k], direction=dir[k]) for k in range(nb_platforms)]\n",
    "platforms_set = PlatformStateSet_v1(states=platforms_list)\n",
    "action_set = PlatformActionSet(action_set =actions_list)"
   ]
  },
  {
   "cell_type": "markdown",
   "metadata": {},
   "source": [
    "Initialize the interpolation around a single platform for now (we will redefine the interpolation region also with multiple platforms) but for this need to change `update_casadi_dynamics` and `convert_to_x_y_time_bounds` in `DataSource.py`"
   ]
  },
  {
   "cell_type": "code",
   "execution_count": 98,
   "metadata": {},
   "outputs": [],
   "source": [
    "import casadi as ca\n",
    "from ocean_navigation_simulator.utils import units\n",
    "ocean_source.update_casadi_dynamics(platforms_list[0])\n",
    "u_max = units.Velocity(mps=platform_dict['u_max_in_mps']) # normally defined as attribute of the class Platform\n",
    "dt_in_s = platform_dict['dt_in_s']"
   ]
  },
  {
   "cell_type": "markdown",
   "metadata": {},
   "source": [
    "Implement the simplified CasADi dynamics function"
   ]
  },
  {
   "cell_type": "code",
   "execution_count": 99,
   "metadata": {},
   "outputs": [],
   "source": [
    "def get_casadi_dynamics(nb_platforms, ocean_source, u_max):\n",
    "    state_row_dict = {\"lon\":0, \"lat\":1, \"time\":2, \"battery\":3, \"seaweed\":4 }\n",
    "    action_row_dict = {\"thrust\": 0, \"angle\":1}\n",
    "    sym_dt              = ca.MX.sym('dt')           # in s\n",
    "    sym_inputs_states   = ca.MX.sym('inputs_states', 5, nb_platforms)\n",
    "    sym_inputs_ctrl     = ca.MX.sym('inputs_ctrl', 2, nb_platforms)\n",
    "\n",
    "    sym_lon_degree = sym_inputs_states[state_row_dict[\"lon\"],:]\n",
    "    sym_lat_degree = sym_inputs_states[state_row_dict[\"lat\"],:]\n",
    "    sym_time = sym_inputs_states[state_row_dict[\"time\"],:]\n",
    "    sym_battery = sym_inputs_states[state_row_dict[\"battery\"],:]\n",
    "    sym_seaweed_mass = sym_inputs_states[state_row_dict[\"seaweed\"],:]\n",
    "    sym_u_thrust = sym_inputs_ctrl[action_row_dict[\"thrust\"],:]\n",
    "    sym_u_angle = sym_inputs_ctrl[action_row_dict[\"angle\"],:]\n",
    "\n",
    "    # Get currents\n",
    "    u_curr = ocean_source.u_curr_func(ca.vertcat(sym_time,sym_lat_degree, sym_lon_degree))\n",
    "    v_curr = ocean_source.v_curr_func(ca.vertcat(sym_time, sym_lat_degree, sym_lon_degree))\n",
    "    sym_lon_delta_meters_per_s = ca.cos(sym_u_angle)*sym_u_thrust*u_max.mps + u_curr\n",
    "    sym_lat_delta_meters_per_s = ca.sin(sym_u_angle)*sym_u_thrust*u_max.mps + v_curr\n",
    "    sym_lon_delta_deg_per_s = 180 * sym_lon_delta_meters_per_s / math.pi / 6371000 / ca.cos(math.pi * sym_lat_degree / 180)\n",
    "    sym_lat_delta_deg_per_s = 180 * sym_lat_delta_meters_per_s / math.pi / 6371000\n",
    "\n",
    "     # Equations for next states using the intermediate variables from above\n",
    "    sym_lon_next = sym_lon_degree + sym_dt * sym_lon_delta_deg_per_s\n",
    "    sym_lat_next = sym_lat_degree + sym_dt * sym_lat_delta_deg_per_s\n",
    "    sym_time_next = sym_time + sym_dt\n",
    "    # F_next = ca.Function('F_x_next', [ca.vertcat(sym_lon_degree, sym_lat_degree, sym_time, sym_battery, sym_seaweed_mass), ca.vertcat(sym_u_thrust, sym_u_angle), sym_dt],\n",
    "    #                     [ca.vertcat(sym_lon_next, sym_lat_next, sym_time_next)])\n",
    "\n",
    "    F_next = ca.Function('F_x_next', [sym_inputs_states, sym_inputs_ctrl, sym_dt ], [ca.vertcat(sym_lon_next, sym_lat_next, sym_time_next)] )\n",
    "    return F_next"
   ]
  },
  {
   "cell_type": "markdown",
   "metadata": {},
   "source": [
    "Single platform time to run a casadi step (e.g. for the first platform in the list)"
   ]
  },
  {
   "cell_type": "code",
   "execution_count": 100,
   "metadata": {},
   "outputs": [
    {
     "name": "stdout",
     "output_type": "stream",
     "text": [
      "69.9 µs ± 6.03 µs per loop (mean ± std. dev. of 7 runs, 10,000 loops each)\n"
     ]
    }
   ],
   "source": [
    "F_x_next = get_casadi_dynamics(1, ocean_source, u_max)\n",
    "%timeit F_x_next(np.array(platforms_set.states[0]), np.array(action_set.action_set[0]), dt_in_s)"
   ]
  },
  {
   "cell_type": "markdown",
   "metadata": {},
   "source": [
    "Multiple platform vectorized casadi dynamics:"
   ]
  },
  {
   "cell_type": "code",
   "execution_count": 101,
   "metadata": {},
   "outputs": [
    {
     "name": "stdout",
     "output_type": "stream",
     "text": [
      "219 µs ± 23.3 µs per loop (mean ± std. dev. of 7 runs, 1,000 loops each)\n"
     ]
    }
   ],
   "source": [
    "F_x_next = get_casadi_dynamics(nb_platforms, ocean_source, u_max)\n",
    "%timeit F_x_next(np.array(platforms_set), np.array(action_set), dt_in_s)"
   ]
  },
  {
   "cell_type": "markdown",
   "metadata": {},
   "source": [
    "Increase the number of platforms"
   ]
  },
  {
   "cell_type": "code",
   "execution_count": 102,
   "metadata": {},
   "outputs": [],
   "source": [
    "nb_platforms = 100\n",
    "lon,lat,id,t = rand_platforms(nb_platforms)\n",
    "platforms_list = [PlatformState(lon=units.Distance(deg=lon[k]), lat=units.Distance(deg=lat[k]), date_time=t[k], id=int(id[k])) \\\n",
    "                 for k in range(nb_platforms)]\n",
    "mag, dir = gen_rand_action(nb_platforms)\n",
    "actions_list = [PlatformAction(magnitude=mag[k], direction=dir[k]) for k in range(nb_platforms)]\n",
    "platforms_set = PlatformStateSet_v1(states=platforms_list)\n",
    "action_set = PlatformActionSet(action_set =actions_list)"
   ]
  },
  {
   "cell_type": "code",
   "execution_count": 103,
   "metadata": {},
   "outputs": [
    {
     "name": "stdout",
     "output_type": "stream",
     "text": [
      "1.4 ms ± 76.7 µs per loop (mean ± std. dev. of 7 runs, 1,000 loops each)\n"
     ]
    }
   ],
   "source": [
    "F_x_next = get_casadi_dynamics(nb_platforms, ocean_source, u_max)\n",
    "%timeit F_x_next(np.array(platforms_set), np.array(action_set), dt_in_s)"
   ]
  }
 ],
 "metadata": {
  "kernelspec": {
   "display_name": "Python 3.9.13 ('ocean_minimal')",
   "language": "python",
   "name": "python3"
  },
  "language_info": {
   "codemirror_mode": {
    "name": "ipython",
    "version": 3
   },
   "file_extension": ".py",
   "mimetype": "text/x-python",
   "name": "python",
   "nbconvert_exporter": "python",
   "pygments_lexer": "ipython3",
   "version": "3.9.13"
  },
  "orig_nbformat": 4,
  "vscode": {
   "interpreter": {
    "hash": "9ed4b5c9df27747f3a2313a7b45e2dcb31384957b3c889e68300f490f3475319"
   }
  }
 },
 "nbformat": 4,
 "nbformat_minor": 2
}
