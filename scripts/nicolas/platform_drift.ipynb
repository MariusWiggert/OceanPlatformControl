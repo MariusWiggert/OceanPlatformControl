{
 "cells": [
  {
   "cell_type": "code",
   "execution_count": 1,
   "metadata": {},
   "outputs": [
    {
     "name": "stdout",
     "output_type": "stream",
     "text": [
      "/home/nicolas/documents/Master_Thesis_repo/OceanPlatformControl\n"
     ]
    }
   ],
   "source": [
    "import datetime\n",
    "import numpy as np\n",
    "from tqdm import tqdm\n",
    "\n",
    "from ocean_navigation_simulator.environment.ArenaFactory import ArenaFactory\n",
    "from ocean_navigation_simulator.environment.Platform import PlatformState\n",
    "from ocean_navigation_simulator.environment.PlatformState import SpatialPoint\n",
    "from ocean_navigation_simulator.environment.NavigationProblem import NavigationProblem\n",
    "from ocean_navigation_simulator.controllers.hj_planners.HJReach2DPlanner import HJReach2DPlanner\n",
    "from ocean_navigation_simulator.utils import units\n",
    "import matplotlib.pyplot as plt\n",
    "import os\n",
    "os.chdir('/home/nicolas/documents/Master_Thesis_repo/OceanPlatformControl')\n",
    "print(os.getcwd())"
   ]
  },
  {
   "cell_type": "code",
   "execution_count": 2,
   "metadata": {},
   "outputs": [
    {
     "ename": "",
     "evalue": "",
     "output_type": "error",
     "traceback": [
      "\u001b[1;31mCanceled future for execute_request message before replies were done"
     ]
    },
    {
     "ename": "",
     "evalue": "",
     "output_type": "error",
     "traceback": [
      "\u001b[1;31mThe Kernel crashed while executing code in the the current cell or a previous cell. Please review the code in the cell(s) to identify a possible cause of the failure. Click <a href='https://aka.ms/vscodeJupyterKernelCrash'>here</a> for more info. View Jupyter <a href='command:jupyter.viewOutput'>log</a> for further details."
     ]
    }
   ],
   "source": [
    "# Initialize the Arena (holds all data sources and the platform, everything except controller)\n",
    "arena = ArenaFactory.create(scenario_name='gulf_of_mexico_HYCOM_hindcast_local')\n",
    "# we can also download the respective files directly to a temp folder, then t_interval needs to be set\n",
    "# % Specify Navigation Problem\n",
    "x_0_1 = PlatformState(lon=units.Distance(deg=-82.5), lat=units.Distance(deg=23.7),\n",
    "                    date_time=datetime.datetime(2021, 11, 24, 12, 0, tzinfo=datetime.timezone.utc))\n",
    "x_0_2 = PlatformState(lon=units.Distance(deg=-82.6), lat=units.Distance(deg=23.8),\n",
    "                    date_time=datetime.datetime(2021, 11, 24, 12, 0, tzinfo=datetime.timezone.utc))\n",
    "x_T = SpatialPoint(lon=units.Distance(deg=-80.3), lat=units.Distance(deg=24.6))\n",
    "\n",
    "problem_1 = NavigationProblem(\n",
    "    start_state=x_0_1,\n",
    "    end_region=x_T,\n",
    "    target_radius=0.1,\n",
    "    timeout=datetime.timedelta(days=2),\n",
    "    platform_dict=arena.platform.platform_dict)\n",
    "\n",
    "problem_2 = NavigationProblem(\n",
    "    start_state=x_0_2,\n",
    "    end_region=x_T,\n",
    "    target_radius=0.1,\n",
    "    timeout=datetime.timedelta(days=2),\n",
    "    platform_dict=arena.platform.platform_dict)\n",
    "\n",
    "# %% Plot the problem on the map\n",
    "t_interval, lat_bnds, lon_bnds = arena.ocean_field.hindcast_data_source.convert_to_x_y_time_bounds(\n",
    "    x_0=x_0_1.to_spatio_temporal_point(),\n",
    "    x_T=x_T, deg_around_x0_xT_box=1,\n",
    "    temp_horizon_in_s=3600)\n",
    "\n",
    "ax1 = arena.ocean_field.hindcast_data_source.plot_data_at_time_over_area(\n",
    "    time=x_0_1.date_time, x_interval=lon_bnds, y_interval=lat_bnds, return_ax=True)\n",
    "problem_1.plot(ax=ax1)\n",
    "plt.show()\n",
    "\n",
    "ax2 = arena.ocean_field.hindcast_data_source.plot_data_at_time_over_area(\n",
    "    time=x_0_2.date_time, x_interval=lon_bnds, y_interval=lat_bnds, return_ax=True)\n",
    "problem_2.plot(ax=ax2)\n",
    "plt.show()\n"
   ]
  },
  {
   "cell_type": "code",
   "execution_count": null,
   "metadata": {},
   "outputs": [],
   "source": [
    "# %% Instantiate the HJ Planner\n",
    "specific_settings = {\n",
    "    'replan_on_new_fmrc': True,\n",
    "    'replan_every_X_seconds': False,\n",
    "    'direction': 'multi-time-reach-back',\n",
    "    'n_time_vector': 200,\n",
    "    # Note that this is the number of time-intervals, the vector is +1 longer because of init_time\n",
    "    'deg_around_xt_xT_box': 1.,  # area over which to run HJ_reachability\n",
    "    'accuracy': 'high',\n",
    "    'artificial_dissipation_scheme': 'local_local',\n",
    "    'T_goal_in_seconds': 3600 * 24 * 2,\n",
    "    'use_geographic_coordinate_system': True,\n",
    "    'progress_bar': True,\n",
    "    'initial_set_radii': [0.1, 0.1],  # this is in deg lat, lon. Note: for Backwards-Reachability this should be bigger.\n",
    "    # Note: grid_res should always be bigger than initial_set_radii, otherwise reachability behaves weirdly.\n",
    "    'grid_res': 0.02,  # Note: this is in deg lat, lon (HYCOM Global is 0.083 and Mexico 0.04)\n",
    "    'd_max': 0.0,\n",
    "    # 'EVM_threshold': 0.3 # in m/s error when floating in forecasted vs sensed currents\n",
    "    # 'fwd_back_buffer_in_seconds': 0.5,  # this is the time added to the earliest_to_reach as buffer for forward-backward\n",
    "    'platform_dict': arena.platform.platform_dict\n",
    "}\n",
    "planner = HJReach2DPlanner(problem=problem_1, specific_settings=specific_settings)\n",
    "\n",
    "# % Run reachability planner\n",
    "observation = arena.reset(platform_state=x_0_1)\n",
    "action = planner.get_action(observation=observation)\n",
    "# %% Various plotting of the reachability computations\n",
    "planner.plot_reachability_snapshot(rel_time_in_seconds=0, granularity_in_h=5, alpha_color=1, time_to_reach=True, fig_size_inches=(12, 12), plot_in_h=True)\n",
    "# planner.plot_reachability_snapshot_over_currents(rel_time_in_seconds=0, granularity_in_h=5, time_to_reach=False)\n",
    "# planner.plot_reachability_animation(time_to_reach=True, granularity_in_h=5, filename=\"test_reach_animation.mp4\")\n",
    "# planner.plot_reachability_animation(time_to_reach=True, granularity_in_h=5, with_opt_ctrl=True,\n",
    "#                                     filename=\"test_reach_animation_w_ctrl.mp4\", forward_time=True)\n",
    "#%% save planner state and reload it\n",
    "# Save it to a folder\n",
    "# planner.save_planner_state(\"saved_planner/\")\n",
    "# Load it from the folder\n",
    "# loaded_planner = HJReach2DPlanner.from_saved_planner_state(folder=\"saved_planner/\", problem=problem)\n",
    "# loaded_planner.last_data_source = arena.ocean_field.hindcast_data_source\n",
    "# observation = arena.reset(platform_state=x_0)\n",
    "# loaded_planner._update_current_data(observation=observation)\n",
    "# planner = loaded_planner\n",
    "# %% Let the controller run closed-loop within the arena (the simulation loop)\n",
    "for i in tqdm(range(int(3600 * 24 * 1 / 600))):  # 3 days\n",
    "    action = planner.get_action(observation=observation)\n",
    "    observation = arena.step(action)\n",
    "\n",
    "#%% Plot the arena trajectory on the map\n",
    "arena.plot_all_on_map(problem=problem_1)\n",
    "#%% Animate the trajectory\n",
    "arena.animate_trajectory(problem=problem_1, temporal_resolution=7200)"
   ]
  }
 ],
 "metadata": {
  "kernelspec": {
   "display_name": "Python 3.9.13 ('ocean_minimal')",
   "language": "python",
   "name": "python3"
  },
  "language_info": {
   "codemirror_mode": {
    "name": "ipython",
    "version": 3
   },
   "file_extension": ".py",
   "mimetype": "text/x-python",
   "name": "python",
   "nbconvert_exporter": "python",
   "pygments_lexer": "ipython3",
   "version": "3.9.13"
  },
  "orig_nbformat": 4,
  "vscode": {
   "interpreter": {
    "hash": "9ed4b5c9df27747f3a2313a7b45e2dcb31384957b3c889e68300f490f3475319"
   }
  }
 },
 "nbformat": 4,
 "nbformat_minor": 2
}
