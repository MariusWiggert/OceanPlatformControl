{
 "cells": [
  {
   "cell_type": "code",
   "execution_count": 4,
   "metadata": {},
   "outputs": [
    {
     "name": "stdout",
     "output_type": "stream",
     "text": [
      "/home/nicolas/documents/Master_Thesis_repo/OceanPlatformControl\n"
     ]
    }
   ],
   "source": [
    "import datetime\n",
    "import logging\n",
    "import os\n",
    "import matplotlib.pyplot as plt\n",
    "## Only when developing with VSCode in my repo\n",
    "os.chdir(\"/home/nicolas/documents/Master_Thesis_repo/OceanPlatformControl\")\n",
    "print(os.getcwd())\n",
    "##\n",
    "import pandas as pd\n",
    "from ocean_navigation_simulator.problem_factories.Constructor import (\n",
    "    Constructor,\n",
    ")\n",
    "from ocean_navigation_simulator.reinforcement_learning.missions.MissionGenerator import (\n",
    "    MissionGenerator,\n",
    ")\n",
    "from ocean_navigation_simulator.reinforcement_learning.runners.GenerationRunner import (\n",
    "    GenerationRunner,\n",
    ")\n",
    "from ocean_navigation_simulator.utils.misc import set_arena_loggers\n",
    "\n",
    "# Settings for where the problem csv is saved\n",
    "my_path = os.getcwd()\n",
    "results_folder = os.path.join(my_path, \"tmp/missions/\")\n",
    "os.makedirs(results_folder, exist_ok=True)"
   ]
  },
  {
   "cell_type": "markdown",
   "metadata": {},
   "source": [
    "## Generate Random Missions"
   ]
  },
  {
   "cell_type": "markdown",
   "metadata": {},
   "source": [
    "### 1. Arena Configuration and Mission configuration"
   ]
  },
  {
   "cell_type": "code",
   "execution_count": 5,
   "metadata": {},
   "outputs": [],
   "source": [
    "arena_config = {\n",
    "    \"casadi_cache_dict\": {\"deg_around_x_t\": 2.0, \"time_around_x_t\": 432000},\n",
    "    \"platform_dict\": {\n",
    "        \"battery_cap_in_wh\": 400.0,\n",
    "        \"u_max_in_mps\": 0.1,\n",
    "        \"motor_efficiency\": 1.0,\n",
    "        \"solar_panel_size\": 0.5,\n",
    "        \"solar_efficiency\": 0.2,\n",
    "        \"drag_factor\": 675.0,\n",
    "        \"dt_in_s\": 600.0,\n",
    "    },\n",
    "    \"use_geographic_coordinate_system\": True,\n",
    "    \"spatial_boundary\": None,\n",
    "    \"ocean_dict\": {\n",
    "        \"hindcast\": {\n",
    "            \"field\": \"OceanCurrents\",\n",
    "            \"source\": \"hindcast_files\",\n",
    "            \"source_settings\": {\n",
    "                \"folder\": \"data/miss_gen_hindcast/\",\n",
    "                \"local\": False,\n",
    "                \"source\": \"HYCOM\",\n",
    "                \"type\": \"hindcast\",\n",
    "                \"currents\": \"total\",\n",
    "                #  \"region\": \"Region 1\"\n",
    "            },\n",
    "        },\n",
    "        \"forecast\": {\n",
    "            \"field\": \"OceanCurrents\",\n",
    "            \"source\": \"forecast_files\",\n",
    "            \"source_settings\": {\n",
    "                \"folder\": \"data/miss_gen_forecast/\",\n",
    "                \"local\": False,\n",
    "                \"source\": \"Copernicus\",\n",
    "                \"type\": \"forecast\",\n",
    "                \"currents\": \"total\",\n",
    "                # \"region\": \"Region 1\",\n",
    "            },\n",
    "        },\n",
    "    },\n",
    "    \"multi_agent_constraints\": {\n",
    "        \"unit\": \"km\",\n",
    "        \"communication_thrsld\": 9,\n",
    "        \"epsilon_margin\": 1,  # when add edges based on hysteresis\n",
    "        \"collision_thrsld\": 0.2,\n",
    "    },\n",
    "}\n",
    "\n",
    "# change to this if basic setup works\n",
    "set_arena_loggers(logging.DEBUG)\n",
    "logging.getLogger(\"MissionGenerator\").setLevel(logging.DEBUG)\n",
    "\n",
    "config = {\n",
    "    \"scenario_config\": arena_config,\n",
    "    ##### Target Sampling #####\n",
    "    # HYCOM HC: lon [-98.0,-76.4000244140625], lat[18.1200008392334,31.92000007629394]\n",
    "    # Copernicus FC: lon: [-98.0, -76.416664], lat: [18.083334, 30.0]\n",
    "    # Combined: [-98.0, -76.416664], [18.1200008392334, 30.0]\n",
    "    \"x_range\": [-95.9, -78.52],\n",
    "    \"y_range\": [20.22, 27.9],\n",
    "    # \"x_range\": [-160, -105],\n",
    "    # \"y_range\": [15, 40],\n",
    "    \"t_range\": [  # ['2022-08-01T00:00:00+00:00', '2022-08-30T00:00:00+00:00'],\n",
    "        # Copernicus FC: 2022-04 until today, HYCOM Hindcast: 2021-09 until today\n",
    "        datetime.datetime(year=2022, month=8, day=1, tzinfo=datetime.timezone.utc),\n",
    "        datetime.datetime(year=2022, month=8, day=30, tzinfo=datetime.timezone.utc),\n",
    "    ],\n",
    "    \"problem_timeout_in_h\": 140,\n",
    "    \"target_distance_from_land\": 0.5,\n",
    "    \"problem_target_radius\": 0.1,\n",
    "    ##### HJ Planner #####\n",
    "    \"hj_specific_settings\": {\n",
    "        # 'grid_res' has to be smaller than target_radius to prevent hj_solver errors\n",
    "        \"grid_res\": 0.04,  # Note: this is in deg lat, lon (HYCOM Global is 0.083 and Mexico 0.04)\n",
    "        \"direction\": \"multi-time-reach-back\",\n",
    "        \"n_time_vector\": 199,  # Note that this is the number of time-intervals, the vector is +1 longer because of init_time\n",
    "        \"accuracy\": \"high\",\n",
    "        \"artificial_dissipation_scheme\": \"local_local\",\n",
    "        \"run_without_x_T\": True,\n",
    "        \"progress_bar\": False,\n",
    "        \"T_goal_in_seconds\": 3600 * 24 * 5,\n",
    "    },\n",
    "    \"hj_planner_box\": 2.0,\n",
    "    ##### Start Sampling #####\n",
    "    \"feasible_missions_per_target\": 4,\n",
    "    \"random_missions_per_target\": 8,\n",
    "    \"multi_agent\": {\n",
    "        \"is_multi_agent\": True,\n",
    "        \"nb_platforms\": 4,\n",
    "        \"sampling_range_radius_km\": 15,\n",
    "    },\n",
    "    \"min_distance_from_hj_frame\": 0.5,\n",
    "    \"min_distance_from_land\": 0.5,\n",
    "    \"feasible_mission_time_in_h\": [100, 120],\n",
    "    \"random_min_distance_from_target\": 0.5,\n",
    "    ##### Actions #####\n",
    "    \"plot_batch\": False,\n",
    "    \"animate_batch\": False,\n",
    "    \"cache_forecast\": False,\n",
    "    \"cache_hindcast\": False,\n",
    "}\n"
   ]
  },
  {
   "cell_type": "markdown",
   "metadata": {},
   "source": [
    "### 2. Run generation"
   ]
  },
  {
   "cell_type": "code",
   "execution_count": 6,
   "metadata": {},
   "outputs": [
    {
     "name": "stdout",
     "output_type": "stream",
     "text": [
      "Starting to connect to c3\n"
     ]
    },
    {
     "name": "stderr",
     "output_type": "stream",
     "text": [
      "ERROR:c3iot.ServerConnection:500 - NotClassified - c3.engine.database.connector.sql.SqlConnectionException_cantExecute [9480.10306121]\n",
      "message: \"Unable to execute sql DELETE FROM C3_2_ASYNC_ACTION WHERE STATUS = 'initial' AND SRC_ACTION_ID = :srcActionId\n",
      "ERROR: cannot execute DELETE in a read-only transaction\"\n",
      "JSON: {\"sessionIndex\": null, \"validMinutes\": null}\n",
      "WARNING:MissionGenerator:\u001b[91m500 - NotClassified - c3.engine.database.connector.sql.SqlConnectionException_cantExecute [9480.10306121]\n",
      "message: \"Unable to execute sql DELETE FROM C3_2_ASYNC_ACTION WHERE STATUS = 'initial' AND SRC_ACTION_ID = :srcActionId\n",
      "ERROR: cannot execute DELETE in a read-only transaction\"\n",
      "JSON: {\"sessionIndex\": null, \"validMinutes\": null}\u001b[0m\n",
      "WARNING:MissionGenerator:Traceback (most recent call last):\n",
      "  File \"/home/nicolas/miniconda3/envs/ocean_minimal/lib/python3.9/site-packages/c3python/c3python.py\", line 119, in get_c3\n",
      "    c3 = self.c3iot.C3RemoteLoader.typeSys(\n",
      "  File \"<string>\", line 594, in typeSys\n",
      "  File \"<string>\", line 213, in __init__\n",
      "ValueError: Must specify auth=None | \"STRING\"\n",
      "\n",
      "During handling of the above exception, another exception occurred:\n",
      "\n",
      "Traceback (most recent call last):\n",
      "  File \"/home/nicolas/documents/Master_Thesis_repo/OceanPlatformControl/ocean_navigation_simulator/reinforcement_learning/missions/MissionGenerator.py\", line 96, in cache_batch\n",
      "    problems = self.generate_batch_multi_agent()\n",
      "  File \"/home/nicolas/documents/Master_Thesis_repo/OceanPlatformControl/ocean_navigation_simulator/reinforcement_learning/missions/MissionGenerator.py\", line 216, in generate_batch_multi_agent\n",
      "    while not (target := self.generate_target()) or not (\n",
      "  File \"/home/nicolas/documents/Master_Thesis_repo/OceanPlatformControl/ocean_navigation_simulator/reinforcement_learning/missions/MissionGenerator.py\", line 315, in generate_target\n",
      "    self.arena = ArenaFactory.create(\n",
      "  File \"/home/nicolas/documents/Master_Thesis_repo/OceanPlatformControl/ocean_navigation_simulator/environment/ArenaFactory.py\", line 157, in create\n",
      "    files = ArenaFactory.download_required_files(\n",
      "  File \"/home/nicolas/documents/Master_Thesis_repo/OceanPlatformControl/ocean_navigation_simulator/environment/ArenaFactory.py\", line 331, in download_required_files\n",
      "    files = ArenaFactory.get_filelist(\n",
      "  File \"/home/nicolas/documents/Master_Thesis_repo/OceanPlatformControl/ocean_navigation_simulator/environment/ArenaFactory.py\", line 428, in get_filelist\n",
      "    c3 = get_c3()\n",
      "  File \"/home/nicolas/documents/Master_Thesis_repo/OceanPlatformControl/ocean_navigation_simulator/utils/misc.py\", line 41, in get_c3\n",
      "    get_c3.c3 = C3Python(\n",
      "  File \"/home/nicolas/miniconda3/envs/ocean_minimal/lib/python3.9/site-packages/c3python/c3python.py\", line 144, in get_c3\n",
      "    self.auth_token = c3.Authenticator.generateC3AuthToken()\n",
      "  File \"Zc0f5ed362f587e2990729fbf1913b613M_.TypeSystemBase\", line 894, in generateC3AuthToken\n",
      "  File \"Zc0f5ed362f587e2990729fbf1913b613M_.TypeSystemBase\", line 868, in _c3_static_impl\n",
      "  File \"Zc0f5ed362f587e2990729fbf1913b613M_.TypeSystemBase\", line 2849, in _box_and_request_json\n",
      "  File \"Zc0f5ed362f587e2990729fbf1913b613M_.TypeSystemBase\", line 2863, in _request_json\n",
      "  File \"Zc0f5ed362f587e2990729fbf1913b613M_.ServerConnection\", line 414, in _request_json\n",
      "Zc0f5ed362f587e2990729fbf1913b613M_.ServerConnection.C3RuntimeException: 500 - NotClassified - c3.engine.database.connector.sql.SqlConnectionException_cantExecute [9480.10306121]\n",
      "message: \"Unable to execute sql DELETE FROM C3_2_ASYNC_ACTION WHERE STATUS = 'initial' AND SRC_ACTION_ID = :srcActionId\n",
      "ERROR: cannot execute DELETE in a read-only transaction\"\n",
      "JSON: {\"sessionIndex\": null, \"validMinutes\": null}\n",
      "\n"
     ]
    },
    {
     "name": "stdout",
     "output_type": "stream",
     "text": [
      "Starting to connect to c3\n"
     ]
    },
    {
     "ename": "KeyboardInterrupt",
     "evalue": "",
     "output_type": "error",
     "traceback": [
      "\u001b[0;31m---------------------------------------------------------------------------\u001b[0m",
      "\u001b[0;31mKeyboardInterrupt\u001b[0m                         Traceback (most recent call last)",
      "\u001b[1;32m/home/nicolas/documents/Master_Thesis_repo/OceanPlatformControl/scripts/nicolas/multi_agent_c3_sim.ipynb Cell 6\u001b[0m in \u001b[0;36m<cell line: 3>\u001b[0;34m()\u001b[0m\n\u001b[1;32m      <a href='vscode-notebook-cell://wsl%2Bubuntu-20.04/home/nicolas/documents/Master_Thesis_repo/OceanPlatformControl/scripts/nicolas/multi_agent_c3_sim.ipynb#W5sdnNjb2RlLXJlbW90ZQ%3D%3D?line=2'>3</a>\u001b[0m \u001b[39mfor\u001b[39;00m worker \u001b[39min\u001b[39;00m \u001b[39mrange\u001b[39m(nb_workers):\n\u001b[1;32m      <a href='vscode-notebook-cell://wsl%2Bubuntu-20.04/home/nicolas/documents/Master_Thesis_repo/OceanPlatformControl/scripts/nicolas/multi_agent_c3_sim.ipynb#W5sdnNjb2RlLXJlbW90ZQ%3D%3D?line=3'>4</a>\u001b[0m     mission_generator \u001b[39m=\u001b[39m MissionGenerator(\n\u001b[1;32m      <a href='vscode-notebook-cell://wsl%2Bubuntu-20.04/home/nicolas/documents/Master_Thesis_repo/OceanPlatformControl/scripts/nicolas/multi_agent_c3_sim.ipynb#W5sdnNjb2RlLXJlbW90ZQ%3D%3D?line=4'>5</a>\u001b[0m         config\u001b[39m=\u001b[39mconfig\n\u001b[1;32m      <a href='vscode-notebook-cell://wsl%2Bubuntu-20.04/home/nicolas/documents/Master_Thesis_repo/OceanPlatformControl/scripts/nicolas/multi_agent_c3_sim.ipynb#W5sdnNjb2RlLXJlbW90ZQ%3D%3D?line=5'>6</a>\u001b[0m         \u001b[39m|\u001b[39m {\n\u001b[0;32m   (...)\u001b[0m\n\u001b[1;32m      <a href='vscode-notebook-cell://wsl%2Bubuntu-20.04/home/nicolas/documents/Master_Thesis_repo/OceanPlatformControl/scripts/nicolas/multi_agent_c3_sim.ipynb#W5sdnNjb2RlLXJlbW90ZQ%3D%3D?line=8'>9</a>\u001b[0m         }\n\u001b[1;32m     <a href='vscode-notebook-cell://wsl%2Bubuntu-20.04/home/nicolas/documents/Master_Thesis_repo/OceanPlatformControl/scripts/nicolas/multi_agent_c3_sim.ipynb#W5sdnNjb2RlLXJlbW90ZQ%3D%3D?line=9'>10</a>\u001b[0m     )\n\u001b[0;32m---> <a href='vscode-notebook-cell://wsl%2Bubuntu-20.04/home/nicolas/documents/Master_Thesis_repo/OceanPlatformControl/scripts/nicolas/multi_agent_c3_sim.ipynb#W5sdnNjb2RlLXJlbW90ZQ%3D%3D?line=10'>11</a>\u001b[0m     problems, _, _ \u001b[39m=\u001b[39m mission_generator\u001b[39m.\u001b[39;49mcache_batch()\n\u001b[1;32m     <a href='vscode-notebook-cell://wsl%2Bubuntu-20.04/home/nicolas/documents/Master_Thesis_repo/OceanPlatformControl/scripts/nicolas/multi_agent_c3_sim.ipynb#W5sdnNjb2RlLXJlbW90ZQ%3D%3D?line=11'>12</a>\u001b[0m     all_problems\u001b[39m.\u001b[39mextend(problems)\n\u001b[1;32m     <a href='vscode-notebook-cell://wsl%2Bubuntu-20.04/home/nicolas/documents/Master_Thesis_repo/OceanPlatformControl/scripts/nicolas/multi_agent_c3_sim.ipynb#W5sdnNjb2RlLXJlbW90ZQ%3D%3D?line=12'>13</a>\u001b[0m df \u001b[39m=\u001b[39m pd\u001b[39m.\u001b[39mDataFrame([problem\u001b[39m.\u001b[39mto_dict() \u001b[39mfor\u001b[39;00m problem \u001b[39min\u001b[39;00m all_problems])\n",
      "File \u001b[0;32m~/documents/Master_Thesis_repo/OceanPlatformControl/ocean_navigation_simulator/reinforcement_learning/missions/MissionGenerator.py:96\u001b[0m, in \u001b[0;36mMissionGenerator.cache_batch\u001b[0;34m(self)\u001b[0m\n\u001b[1;32m     89\u001b[0m \u001b[39mwith\u001b[39;00m timing_dict(\n\u001b[1;32m     90\u001b[0m     \u001b[39mself\u001b[39m\u001b[39m.\u001b[39mperformance,\n\u001b[1;32m     91\u001b[0m     \u001b[39m\"\u001b[39m\u001b[39mgenerate_time\u001b[39m\u001b[39m\"\u001b[39m,\n\u001b[1;32m     92\u001b[0m     \u001b[39m\"\u001b[39m\u001b[39mGenerated Batch (\u001b[39m\u001b[39m{}\u001b[39;00m\u001b[39m)\u001b[39m\u001b[39m\"\u001b[39m,\n\u001b[1;32m     93\u001b[0m     logger,\n\u001b[1;32m     94\u001b[0m ):\n\u001b[1;32m     95\u001b[0m     \u001b[39mif\u001b[39;00m \u001b[39mself\u001b[39m\u001b[39m.\u001b[39mconfig[\u001b[39m\"\u001b[39m\u001b[39mmulti_agent\u001b[39m\u001b[39m\"\u001b[39m][\u001b[39m\"\u001b[39m\u001b[39mis_multi_agent\u001b[39m\u001b[39m\"\u001b[39m]:\n\u001b[0;32m---> 96\u001b[0m         problems \u001b[39m=\u001b[39m \u001b[39mself\u001b[39;49m\u001b[39m.\u001b[39;49mgenerate_batch_multi_agent()\n\u001b[1;32m     97\u001b[0m     \u001b[39melse\u001b[39;00m:\n\u001b[1;32m     98\u001b[0m         \u001b[39mself\u001b[39m\u001b[39m.\u001b[39mgenerate_batch()\n",
      "File \u001b[0;32m~/documents/Master_Thesis_repo/OceanPlatformControl/ocean_navigation_simulator/reinforcement_learning/missions/MissionGenerator.py:216\u001b[0m, in \u001b[0;36mMissionGenerator.generate_batch_multi_agent\u001b[0;34m(self)\u001b[0m\n\u001b[1;32m    214\u001b[0m \u001b[39mself\u001b[39m\u001b[39m.\u001b[39mproblems \u001b[39m=\u001b[39m []\n\u001b[1;32m    215\u001b[0m \u001b[39m# Step 1: Generate Target & Starts until enough valid target/starts found\u001b[39;00m\n\u001b[0;32m--> 216\u001b[0m \u001b[39mwhile\u001b[39;00m \u001b[39mnot\u001b[39;00m (target \u001b[39m:=\u001b[39m \u001b[39mself\u001b[39;49m\u001b[39m.\u001b[39;49mgenerate_target()) \u001b[39mor\u001b[39;00m \u001b[39mnot\u001b[39;00m (\n\u001b[1;32m    217\u001b[0m     starts \u001b[39m:=\u001b[39m \u001b[39mself\u001b[39m\u001b[39m.\u001b[39mgenerate_multi_agent_starts()\n\u001b[1;32m    218\u001b[0m ):\n\u001b[1;32m    219\u001b[0m     \u001b[39mpass\u001b[39;00m\n\u001b[1;32m    220\u001b[0m missions, start_points \u001b[39m=\u001b[39m starts[\u001b[39m0\u001b[39m], starts[\u001b[39m1\u001b[39m]\n",
      "File \u001b[0;32m~/documents/Master_Thesis_repo/OceanPlatformControl/ocean_navigation_simulator/reinforcement_learning/missions/MissionGenerator.py:315\u001b[0m, in \u001b[0;36mMissionGenerator.generate_target\u001b[0;34m(self)\u001b[0m\n\u001b[1;32m    313\u001b[0m \u001b[39m##### Step 2: Reject if files are missing or corrupted #####\u001b[39;00m\n\u001b[1;32m    314\u001b[0m \u001b[39mtry\u001b[39;00m:\n\u001b[0;32m--> 315\u001b[0m     \u001b[39mself\u001b[39m\u001b[39m.\u001b[39marena \u001b[39m=\u001b[39m ArenaFactory\u001b[39m.\u001b[39;49mcreate(\n\u001b[1;32m    316\u001b[0m         scenario_file\u001b[39m=\u001b[39;49m\u001b[39mself\u001b[39;49m\u001b[39m.\u001b[39;49mconfig\u001b[39m.\u001b[39;49mget(\u001b[39m\"\u001b[39;49m\u001b[39mscenario_file\u001b[39;49m\u001b[39m\"\u001b[39;49m, \u001b[39mNone\u001b[39;49;00m),\n\u001b[1;32m    317\u001b[0m         scenario_config\u001b[39m=\u001b[39;49m\u001b[39mself\u001b[39;49m\u001b[39m.\u001b[39;49mconfig\u001b[39m.\u001b[39;49mget(\u001b[39m\"\u001b[39;49m\u001b[39mscenario_config\u001b[39;49m\u001b[39m\"\u001b[39;49m, \u001b[39mNone\u001b[39;49;00m),\n\u001b[1;32m    318\u001b[0m         x_interval\u001b[39m=\u001b[39;49m[units\u001b[39m.\u001b[39;49mDistance(deg\u001b[39m=\u001b[39;49mx) \u001b[39mfor\u001b[39;49;00m x \u001b[39min\u001b[39;49;00m \u001b[39mself\u001b[39;49m\u001b[39m.\u001b[39;49mconfig[\u001b[39m\"\u001b[39;49m\u001b[39mx_range\u001b[39;49m\u001b[39m\"\u001b[39;49m]],\n\u001b[1;32m    319\u001b[0m         y_interval\u001b[39m=\u001b[39;49m[units\u001b[39m.\u001b[39;49mDistance(deg\u001b[39m=\u001b[39;49my) \u001b[39mfor\u001b[39;49;00m y \u001b[39min\u001b[39;49;00m \u001b[39mself\u001b[39;49m\u001b[39m.\u001b[39;49mconfig[\u001b[39m\"\u001b[39;49m\u001b[39my_range\u001b[39;49m\u001b[39m\"\u001b[39;49m]],\n\u001b[1;32m    320\u001b[0m         t_interval\u001b[39m=\u001b[39;49m[\n\u001b[1;32m    321\u001b[0m             fake_start\u001b[39m.\u001b[39;49mget_date_time() \u001b[39m-\u001b[39;49m datetime\u001b[39m.\u001b[39;49mtimedelta(hours\u001b[39m=\u001b[39;49m\u001b[39m1\u001b[39;49m),\n\u001b[1;32m    322\u001b[0m             fake_target\u001b[39m.\u001b[39;49mdate_time \u001b[39m+\u001b[39;49m datetime\u001b[39m.\u001b[39;49mtimedelta(days\u001b[39m=\u001b[39;49m\u001b[39m1\u001b[39;49m, hours\u001b[39m=\u001b[39;49m\u001b[39m1\u001b[39;49m),\n\u001b[1;32m    323\u001b[0m         ],\n\u001b[1;32m    324\u001b[0m         throw_exceptions\u001b[39m=\u001b[39;49m\u001b[39mTrue\u001b[39;49;00m,\n\u001b[1;32m    325\u001b[0m         c3\u001b[39m=\u001b[39;49m\u001b[39mself\u001b[39;49m\u001b[39m.\u001b[39;49mc3,\n\u001b[1;32m    326\u001b[0m     )\n\u001b[1;32m    327\u001b[0m     \u001b[39mself\u001b[39m\u001b[39m.\u001b[39marena\u001b[39m.\u001b[39mreset(fake_start)\n\u001b[1;32m    328\u001b[0m \u001b[39mexcept\u001b[39;00m (MissingOceanFileException, CorruptedOceanFileException) \u001b[39mas\u001b[39;00m e:\n",
      "File \u001b[0;32m~/documents/Master_Thesis_repo/OceanPlatformControl/ocean_navigation_simulator/environment/ArenaFactory.py:157\u001b[0m, in \u001b[0;36mArenaFactory.create\u001b[0;34m(scenario_file, folder_scenario, scenario_name, scenario_config, problem, points, x_interval, y_interval, t_interval, throw_exceptions, c3)\u001b[0m\n\u001b[1;32m    152\u001b[0m     files \u001b[39m=\u001b[39m ArenaFactory\u001b[39m.\u001b[39mfind_hycom_files(\n\u001b[1;32m    153\u001b[0m         config[\u001b[39m\"\u001b[39m\u001b[39mocean_dict\u001b[39m\u001b[39m\"\u001b[39m][\u001b[39m\"\u001b[39m\u001b[39mhindcast\u001b[39m\u001b[39m\"\u001b[39m][\u001b[39m\"\u001b[39m\u001b[39msource_settings\u001b[39m\u001b[39m\"\u001b[39m][\u001b[39m\"\u001b[39m\u001b[39mfolder\u001b[39m\u001b[39m\"\u001b[39m],\n\u001b[1;32m    154\u001b[0m         t_interval,\n\u001b[1;32m    155\u001b[0m     )\n\u001b[1;32m    156\u001b[0m \u001b[39melse\u001b[39;00m:\n\u001b[0;32m--> 157\u001b[0m     files \u001b[39m=\u001b[39m ArenaFactory\u001b[39m.\u001b[39;49mdownload_required_files(\n\u001b[1;32m    158\u001b[0m         archive_source\u001b[39m=\u001b[39;49mconfig[\u001b[39m\"\u001b[39;49m\u001b[39mocean_dict\u001b[39;49m\u001b[39m\"\u001b[39;49m][\u001b[39m\"\u001b[39;49m\u001b[39mhindcast\u001b[39;49m\u001b[39m\"\u001b[39;49m][\u001b[39m\"\u001b[39;49m\u001b[39msource_settings\u001b[39;49m\u001b[39m\"\u001b[39;49m][\n\u001b[1;32m    159\u001b[0m             \u001b[39m\"\u001b[39;49m\u001b[39msource\u001b[39;49m\u001b[39m\"\u001b[39;49m\n\u001b[1;32m    160\u001b[0m         ],\n\u001b[1;32m    161\u001b[0m         archive_type\u001b[39m=\u001b[39;49mconfig[\u001b[39m\"\u001b[39;49m\u001b[39mocean_dict\u001b[39;49m\u001b[39m\"\u001b[39;49m][\u001b[39m\"\u001b[39;49m\u001b[39mhindcast\u001b[39;49m\u001b[39m\"\u001b[39;49m][\u001b[39m\"\u001b[39;49m\u001b[39msource_settings\u001b[39;49m\u001b[39m\"\u001b[39;49m][\n\u001b[1;32m    162\u001b[0m             \u001b[39m\"\u001b[39;49m\u001b[39mtype\u001b[39;49m\u001b[39m\"\u001b[39;49m\n\u001b[1;32m    163\u001b[0m         ],\n\u001b[1;32m    164\u001b[0m         download_folder\u001b[39m=\u001b[39;49mconfig[\u001b[39m\"\u001b[39;49m\u001b[39mocean_dict\u001b[39;49m\u001b[39m\"\u001b[39;49m][\u001b[39m\"\u001b[39;49m\u001b[39mhindcast\u001b[39;49m\u001b[39m\"\u001b[39;49m][\u001b[39m\"\u001b[39;49m\u001b[39msource_settings\u001b[39;49m\u001b[39m\"\u001b[39;49m][\n\u001b[1;32m    165\u001b[0m             \u001b[39m\"\u001b[39;49m\u001b[39mfolder\u001b[39;49m\u001b[39m\"\u001b[39;49m\n\u001b[1;32m    166\u001b[0m         ],\n\u001b[1;32m    167\u001b[0m         region\u001b[39m=\u001b[39;49mconfig[\u001b[39m\"\u001b[39;49m\u001b[39mocean_dict\u001b[39;49m\u001b[39m\"\u001b[39;49m][\u001b[39m\"\u001b[39;49m\u001b[39mhindcast\u001b[39;49m\u001b[39m\"\u001b[39;49m][\u001b[39m\"\u001b[39;49m\u001b[39msource_settings\u001b[39;49m\u001b[39m\"\u001b[39;49m]\u001b[39m.\u001b[39;49mget(\n\u001b[1;32m    168\u001b[0m             \u001b[39m\"\u001b[39;49m\u001b[39mregion\u001b[39;49m\u001b[39m\"\u001b[39;49m, \u001b[39m\"\u001b[39;49m\u001b[39mGOM\u001b[39;49m\u001b[39m\"\u001b[39;49m\n\u001b[1;32m    169\u001b[0m         ),\n\u001b[1;32m    170\u001b[0m         t_interval\u001b[39m=\u001b[39;49mt_interval,\n\u001b[1;32m    171\u001b[0m         throw_exceptions\u001b[39m=\u001b[39;49mthrow_exceptions,\n\u001b[1;32m    172\u001b[0m         points\u001b[39m=\u001b[39;49mpoints,\n\u001b[1;32m    173\u001b[0m         c3\u001b[39m=\u001b[39;49mc3,\n\u001b[1;32m    174\u001b[0m     )\n\u001b[1;32m    176\u001b[0m logger\u001b[39m.\u001b[39mdebug(\u001b[39mf\u001b[39m\u001b[39m\"\u001b[39m\u001b[39mHindcast Files: \u001b[39m\u001b[39m{\u001b[39;00mfiles\u001b[39m}\u001b[39;00m\u001b[39m\"\u001b[39m)\n\u001b[1;32m    178\u001b[0m \u001b[39m# Modify source_settings to only consider selected files (prevent loading hundreds of files!)\u001b[39;00m\n",
      "File \u001b[0;32m~/documents/Master_Thesis_repo/OceanPlatformControl/ocean_navigation_simulator/environment/ArenaFactory.py:331\u001b[0m, in \u001b[0;36mArenaFactory.download_required_files\u001b[0;34m(archive_source, archive_type, download_folder, t_interval, region, points, throw_exceptions, c3)\u001b[0m\n\u001b[1;32m    309\u001b[0m \u001b[39m\"\"\"\u001b[39;00m\n\u001b[1;32m    310\u001b[0m \u001b[39mhelper function for thread-safe download of available current files from c3\u001b[39;00m\n\u001b[1;32m    311\u001b[0m \u001b[39mArgs:\u001b[39;00m\n\u001b[0;32m   (...)\u001b[0m\n\u001b[1;32m    328\u001b[0m \u001b[39m    )\u001b[39;00m\n\u001b[1;32m    329\u001b[0m \u001b[39m\"\"\"\u001b[39;00m\n\u001b[1;32m    330\u001b[0m \u001b[39m# Step 1: Find relevant files\u001b[39;00m\n\u001b[0;32m--> 331\u001b[0m files \u001b[39m=\u001b[39m ArenaFactory\u001b[39m.\u001b[39;49mget_filelist(\n\u001b[1;32m    332\u001b[0m     archive_source\u001b[39m=\u001b[39;49marchive_source,\n\u001b[1;32m    333\u001b[0m     archive_type\u001b[39m=\u001b[39;49marchive_type,\n\u001b[1;32m    334\u001b[0m     region\u001b[39m=\u001b[39;49mregion,\n\u001b[1;32m    335\u001b[0m     t_interval\u001b[39m=\u001b[39;49mt_interval,\n\u001b[1;32m    336\u001b[0m     c3\u001b[39m=\u001b[39;49mc3,\n\u001b[1;32m    337\u001b[0m )\n\u001b[1;32m    339\u001b[0m \u001b[39m# Step 2: Check File Count\u001b[39;00m\n\u001b[1;32m    340\u001b[0m \u001b[39mif\u001b[39;00m files\u001b[39m.\u001b[39mcount \u001b[39m==\u001b[39m \u001b[39m0\u001b[39m:\n",
      "File \u001b[0;32m~/documents/Master_Thesis_repo/OceanPlatformControl/ocean_navigation_simulator/environment/ArenaFactory.py:428\u001b[0m, in \u001b[0;36mArenaFactory.get_filelist\u001b[0;34m(archive_source, archive_type, region, t_interval, c3)\u001b[0m\n\u001b[1;32m    426\u001b[0m \u001b[39m# Step 2: Find c3 type\u001b[39;00m\n\u001b[1;32m    427\u001b[0m \u001b[39mif\u001b[39;00m c3 \u001b[39mis\u001b[39;00m \u001b[39mNone\u001b[39;00m:\n\u001b[0;32m--> 428\u001b[0m     c3 \u001b[39m=\u001b[39m get_c3()\n\u001b[1;32m    429\u001b[0m archive_types \u001b[39m=\u001b[39m {\u001b[39m\"\u001b[39m\u001b[39mforecast\u001b[39m\u001b[39m\"\u001b[39m: \u001b[39m\"\u001b[39m\u001b[39mFMRC\u001b[39m\u001b[39m\"\u001b[39m, \u001b[39m\"\u001b[39m\u001b[39mhindcast\u001b[39m\u001b[39m\"\u001b[39m: \u001b[39m\"\u001b[39m\u001b[39mHindcast\u001b[39m\u001b[39m\"\u001b[39m}\n\u001b[1;32m    430\u001b[0m c3_file_type \u001b[39m=\u001b[39m \u001b[39mgetattr\u001b[39m(\n\u001b[1;32m    431\u001b[0m     c3, \u001b[39mf\u001b[39m\u001b[39m\"\u001b[39m\u001b[39m{\u001b[39;00marchive_source\u001b[39m.\u001b[39mcapitalize()\u001b[39m}\u001b[39;00m\u001b[39m{\u001b[39;00marchive_types[archive_type\u001b[39m.\u001b[39mlower()]\u001b[39m}\u001b[39;00m\u001b[39mFile\u001b[39m\u001b[39m\"\u001b[39m\n\u001b[1;32m    432\u001b[0m )\n",
      "File \u001b[0;32m~/documents/Master_Thesis_repo/OceanPlatformControl/ocean_navigation_simulator/utils/misc.py:41\u001b[0m, in \u001b[0;36mget_c3\u001b[0;34m()\u001b[0m\n\u001b[1;32m     39\u001b[0m     \u001b[39mprint\u001b[39m(\u001b[39m\"\u001b[39m\u001b[39mStarting to connect to c3\u001b[39m\u001b[39m\"\u001b[39m)\n\u001b[1;32m     40\u001b[0m     \u001b[39mwith\u001b[39;00m timing_logger(\u001b[39m\"\u001b[39m\u001b[39mUtils: Connect to c3 (\u001b[39m\u001b[39m{}\u001b[39;00m\u001b[39m)\u001b[39m\u001b[39m\"\u001b[39m, c3_logger, logging\u001b[39m.\u001b[39mINFO):\n\u001b[0;32m---> 41\u001b[0m         get_c3\u001b[39m.\u001b[39mc3 \u001b[39m=\u001b[39m C3Python(\n\u001b[1;32m     42\u001b[0m             \u001b[39m# Old Tag: url='https://dev01-seaweed-control.c3dti.ai', tag='dev01',\u001b[39;49;00m\n\u001b[1;32m     43\u001b[0m             url\u001b[39m=\u001b[39;49m\u001b[39m\"\u001b[39;49m\u001b[39mhttps://devseaweedrc1-seaweed-control.devrc01.c3aids.cloud\u001b[39;49m\u001b[39m\"\u001b[39;49m,\n\u001b[1;32m     44\u001b[0m             tag\u001b[39m=\u001b[39;49m\u001b[39m\"\u001b[39;49m\u001b[39mdevseaweedrc1\u001b[39;49m\u001b[39m\"\u001b[39;49m,\n\u001b[1;32m     45\u001b[0m             tenant\u001b[39m=\u001b[39;49m\u001b[39m\"\u001b[39;49m\u001b[39mseaweed-control\u001b[39;49m\u001b[39m\"\u001b[39;49m,\n\u001b[1;32m     46\u001b[0m             keyfile\u001b[39m=\u001b[39;49mKEYFILE,\n\u001b[1;32m     47\u001b[0m             username\u001b[39m=\u001b[39;49mUSERNAME,\n\u001b[1;32m     48\u001b[0m         )\u001b[39m.\u001b[39;49mget_c3()\n\u001b[1;32m     49\u001b[0m         get_c3\u001b[39m.\u001b[39mtimestamp \u001b[39m=\u001b[39m time\u001b[39m.\u001b[39mtime()\n\u001b[1;32m     50\u001b[0m \u001b[39mreturn\u001b[39;00m get_c3\u001b[39m.\u001b[39mc3\n",
      "File \u001b[0;32m~/miniconda3/envs/ocean_minimal/lib/python3.9/site-packages/c3python/c3python.py:135\u001b[0m, in \u001b[0;36mC3Python.get_c3\u001b[0;34m(self, mode, define_types)\u001b[0m\n\u001b[1;32m    127\u001b[0m \u001b[39mexcept\u001b[39;00m \u001b[39mException\u001b[39;00m \u001b[39mas\u001b[39;00m e:\n\u001b[1;32m    128\u001b[0m     \u001b[39m# If it fails, try keyfile/keystring auth toekn\u001b[39;00m\n\u001b[1;32m    129\u001b[0m     \u001b[39m# then retrive a new \"regular\" auth token\u001b[39;00m\n\u001b[0;32m   (...)\u001b[0m\n\u001b[1;32m    132\u001b[0m     \u001b[39m# generated from the private key which expire quickely compared to tokens\u001b[39;00m\n\u001b[1;32m    133\u001b[0m     \u001b[39m# generated with c3.Authenticator.generateC3AuthToken()\u001b[39;00m\n\u001b[1;32m    134\u001b[0m     log\u001b[39m.\u001b[39minfo(\u001b[39mf\u001b[39m\u001b[39m\"\u001b[39m\u001b[39mGetting C3 client with private key auth for \u001b[39m\u001b[39m{\u001b[39;00m\u001b[39mself\u001b[39m\u001b[39m.\u001b[39murl\u001b[39m}\u001b[39;00m\u001b[39m...\u001b[39m\u001b[39m\"\u001b[39m)\n\u001b[0;32m--> 135\u001b[0m     c3 \u001b[39m=\u001b[39m \u001b[39mself\u001b[39;49m\u001b[39m.\u001b[39;49mc3iot\u001b[39m.\u001b[39;49mC3RemoteLoader\u001b[39m.\u001b[39;49mtypeSys(\n\u001b[1;32m    136\u001b[0m         url\u001b[39m=\u001b[39;49m\u001b[39mself\u001b[39;49m\u001b[39m.\u001b[39;49murl,\n\u001b[1;32m    137\u001b[0m         tenant\u001b[39m=\u001b[39;49m\u001b[39mself\u001b[39;49m\u001b[39m.\u001b[39;49mtenant,\n\u001b[1;32m    138\u001b[0m         tag\u001b[39m=\u001b[39;49m\u001b[39mself\u001b[39;49m\u001b[39m.\u001b[39;49mtag,\n\u001b[1;32m    139\u001b[0m         mode\u001b[39m=\u001b[39;49mmode,\n\u001b[1;32m    140\u001b[0m         auth\u001b[39m=\u001b[39;49m\u001b[39mself\u001b[39;49m\u001b[39m.\u001b[39;49mauth,\n\u001b[1;32m    141\u001b[0m         define_types\u001b[39m=\u001b[39;49mdefine_types,\n\u001b[1;32m    142\u001b[0m     )\n\u001b[1;32m    143\u001b[0m     log\u001b[39m.\u001b[39minfo(\u001b[39mf\u001b[39m\u001b[39m\"\u001b[39m\u001b[39mGetting C3 client with auth token for \u001b[39m\u001b[39m{\u001b[39;00m\u001b[39mself\u001b[39m\u001b[39m.\u001b[39murl\u001b[39m}\u001b[39;00m\u001b[39m...\u001b[39m\u001b[39m\"\u001b[39m)\n\u001b[1;32m    144\u001b[0m     \u001b[39mself\u001b[39m\u001b[39m.\u001b[39mauth_token \u001b[39m=\u001b[39m c3\u001b[39m.\u001b[39mAuthenticator\u001b[39m.\u001b[39mgenerateC3AuthToken()\n",
      "File \u001b[0;32m<string>:596\u001b[0m, in \u001b[0;36mtypeSys\u001b[0;34m(url, tenant, tag, auth, define_types, action_id, mode)\u001b[0m\n",
      "File \u001b[0;32m<string>:560\u001b[0m, in \u001b[0;36mget_typesys\u001b[0;34m(self)\u001b[0m\n",
      "File \u001b[0;32mZc0f5ed362f587e2990729fbf1913b613M_.ServerConnection:470\u001b[0m, in \u001b[0;36mtypeSys\u001b[0;34m(self, define_types)\u001b[0m\n",
      "File \u001b[0;32mZc0f5ed362f587e2990729fbf1913b613M_.TypeSystem:6\u001b[0m, in \u001b[0;36m__init__\u001b[0;34m(self, *args, **kwargs)\u001b[0m\n",
      "File \u001b[0;32mZc0f5ed362f587e2990729fbf1913b613M_.TypeSystemBase:1620\u001b[0m, in \u001b[0;36m__init__\u001b[0;34m(self, connection, define_types)\u001b[0m\n",
      "File \u001b[0;32mZc0f5ed362f587e2990729fbf1913b613M_.TypeSystemBase:2879\u001b[0m, in \u001b[0;36m_request_all_json\u001b[0;34m(self)\u001b[0m\n",
      "File \u001b[0;32mZc0f5ed362f587e2990729fbf1913b613M_.ServerConnection:364\u001b[0m, in \u001b[0;36m_request_all_json\u001b[0;34m(self, client_side_type_inference)\u001b[0m\n",
      "File \u001b[0;32mZc0f5ed362f587e2990729fbf1913b613M_.ServerConnection:119\u001b[0m, in \u001b[0;36mfunc_wrapper\u001b[0;34m(self, *args, **kwargs)\u001b[0m\n",
      "File \u001b[0;32mZc0f5ed362f587e2990729fbf1913b613M_.ServerConnection:311\u001b[0m, in \u001b[0;36m_request\u001b[0;34m(self, path, method, extra_headers, payload, encoder, client_side_type_inference)\u001b[0m\n",
      "File \u001b[0;32mZc0f5ed362f587e2990729fbf1913b613M_.ServerConnection:296\u001b[0m, in \u001b[0;36m_request_response\u001b[0;34m(self, path, method, extra_headers, payload, encoder, client_side_type_inference)\u001b[0m\n",
      "File \u001b[0;32mZc0f5ed362f587e2990729fbf1913b613M_._vendor.urllib3.request:74\u001b[0m, in \u001b[0;36mrequest\u001b[0;34m(self, method, url, fields, headers, **urlopen_kw)\u001b[0m\n",
      "File \u001b[0;32mZc0f5ed362f587e2990729fbf1913b613M_._vendor.urllib3.request:96\u001b[0m, in \u001b[0;36mrequest_encode_url\u001b[0;34m(self, method, url, fields, headers, **urlopen_kw)\u001b[0m\n",
      "File \u001b[0;32mZc0f5ed362f587e2990729fbf1913b613M_._vendor.urllib3.connectionpool:699\u001b[0m, in \u001b[0;36murlopen\u001b[0;34m(self, method, url, body, headers, retries, redirect, assert_same_host, timeout, pool_timeout, release_conn, chunked, body_pos, **response_kw)\u001b[0m\n",
      "File \u001b[0;32mZc0f5ed362f587e2990729fbf1913b613M_._vendor.urllib3.connectionpool:445\u001b[0m, in \u001b[0;36m_make_request\u001b[0;34m(self, conn, method, url, timeout, chunked, **httplib_request_kw)\u001b[0m\n",
      "File \u001b[0;32m<string>:3\u001b[0m, in \u001b[0;36mraise_from\u001b[0;34m(value, from_value)\u001b[0m\n",
      "File \u001b[0;32mZc0f5ed362f587e2990729fbf1913b613M_._vendor.urllib3.connectionpool:440\u001b[0m, in \u001b[0;36m_make_request\u001b[0;34m(self, conn, method, url, timeout, chunked, **httplib_request_kw)\u001b[0m\n",
      "File \u001b[0;32m~/miniconda3/envs/ocean_minimal/lib/python3.9/http/client.py:1377\u001b[0m, in \u001b[0;36mHTTPConnection.getresponse\u001b[0;34m(self)\u001b[0m\n\u001b[1;32m   1375\u001b[0m \u001b[39mtry\u001b[39;00m:\n\u001b[1;32m   1376\u001b[0m     \u001b[39mtry\u001b[39;00m:\n\u001b[0;32m-> 1377\u001b[0m         response\u001b[39m.\u001b[39;49mbegin()\n\u001b[1;32m   1378\u001b[0m     \u001b[39mexcept\u001b[39;00m \u001b[39mConnectionError\u001b[39;00m:\n\u001b[1;32m   1379\u001b[0m         \u001b[39mself\u001b[39m\u001b[39m.\u001b[39mclose()\n",
      "File \u001b[0;32m~/miniconda3/envs/ocean_minimal/lib/python3.9/http/client.py:320\u001b[0m, in \u001b[0;36mHTTPResponse.begin\u001b[0;34m(self)\u001b[0m\n\u001b[1;32m    318\u001b[0m \u001b[39m# read until we get a non-100 response\u001b[39;00m\n\u001b[1;32m    319\u001b[0m \u001b[39mwhile\u001b[39;00m \u001b[39mTrue\u001b[39;00m:\n\u001b[0;32m--> 320\u001b[0m     version, status, reason \u001b[39m=\u001b[39m \u001b[39mself\u001b[39;49m\u001b[39m.\u001b[39;49m_read_status()\n\u001b[1;32m    321\u001b[0m     \u001b[39mif\u001b[39;00m status \u001b[39m!=\u001b[39m CONTINUE:\n\u001b[1;32m    322\u001b[0m         \u001b[39mbreak\u001b[39;00m\n",
      "File \u001b[0;32m~/miniconda3/envs/ocean_minimal/lib/python3.9/http/client.py:281\u001b[0m, in \u001b[0;36mHTTPResponse._read_status\u001b[0;34m(self)\u001b[0m\n\u001b[1;32m    280\u001b[0m \u001b[39mdef\u001b[39;00m \u001b[39m_read_status\u001b[39m(\u001b[39mself\u001b[39m):\n\u001b[0;32m--> 281\u001b[0m     line \u001b[39m=\u001b[39m \u001b[39mstr\u001b[39m(\u001b[39mself\u001b[39;49m\u001b[39m.\u001b[39;49mfp\u001b[39m.\u001b[39;49mreadline(_MAXLINE \u001b[39m+\u001b[39;49m \u001b[39m1\u001b[39;49m), \u001b[39m\"\u001b[39m\u001b[39miso-8859-1\u001b[39m\u001b[39m\"\u001b[39m)\n\u001b[1;32m    282\u001b[0m     \u001b[39mif\u001b[39;00m \u001b[39mlen\u001b[39m(line) \u001b[39m>\u001b[39m _MAXLINE:\n\u001b[1;32m    283\u001b[0m         \u001b[39mraise\u001b[39;00m LineTooLong(\u001b[39m\"\u001b[39m\u001b[39mstatus line\u001b[39m\u001b[39m\"\u001b[39m)\n",
      "File \u001b[0;32m~/miniconda3/envs/ocean_minimal/lib/python3.9/socket.py:704\u001b[0m, in \u001b[0;36mSocketIO.readinto\u001b[0;34m(self, b)\u001b[0m\n\u001b[1;32m    702\u001b[0m \u001b[39mwhile\u001b[39;00m \u001b[39mTrue\u001b[39;00m:\n\u001b[1;32m    703\u001b[0m     \u001b[39mtry\u001b[39;00m:\n\u001b[0;32m--> 704\u001b[0m         \u001b[39mreturn\u001b[39;00m \u001b[39mself\u001b[39;49m\u001b[39m.\u001b[39;49m_sock\u001b[39m.\u001b[39;49mrecv_into(b)\n\u001b[1;32m    705\u001b[0m     \u001b[39mexcept\u001b[39;00m timeout:\n\u001b[1;32m    706\u001b[0m         \u001b[39mself\u001b[39m\u001b[39m.\u001b[39m_timeout_occurred \u001b[39m=\u001b[39m \u001b[39mTrue\u001b[39;00m\n",
      "File \u001b[0;32m~/miniconda3/envs/ocean_minimal/lib/python3.9/ssl.py:1242\u001b[0m, in \u001b[0;36mSSLSocket.recv_into\u001b[0;34m(self, buffer, nbytes, flags)\u001b[0m\n\u001b[1;32m   1238\u001b[0m     \u001b[39mif\u001b[39;00m flags \u001b[39m!=\u001b[39m \u001b[39m0\u001b[39m:\n\u001b[1;32m   1239\u001b[0m         \u001b[39mraise\u001b[39;00m \u001b[39mValueError\u001b[39;00m(\n\u001b[1;32m   1240\u001b[0m           \u001b[39m\"\u001b[39m\u001b[39mnon-zero flags not allowed in calls to recv_into() on \u001b[39m\u001b[39m%s\u001b[39;00m\u001b[39m\"\u001b[39m \u001b[39m%\u001b[39m\n\u001b[1;32m   1241\u001b[0m           \u001b[39mself\u001b[39m\u001b[39m.\u001b[39m\u001b[39m__class__\u001b[39m)\n\u001b[0;32m-> 1242\u001b[0m     \u001b[39mreturn\u001b[39;00m \u001b[39mself\u001b[39;49m\u001b[39m.\u001b[39;49mread(nbytes, buffer)\n\u001b[1;32m   1243\u001b[0m \u001b[39melse\u001b[39;00m:\n\u001b[1;32m   1244\u001b[0m     \u001b[39mreturn\u001b[39;00m \u001b[39msuper\u001b[39m()\u001b[39m.\u001b[39mrecv_into(buffer, nbytes, flags)\n",
      "File \u001b[0;32m~/miniconda3/envs/ocean_minimal/lib/python3.9/ssl.py:1100\u001b[0m, in \u001b[0;36mSSLSocket.read\u001b[0;34m(self, len, buffer)\u001b[0m\n\u001b[1;32m   1098\u001b[0m \u001b[39mtry\u001b[39;00m:\n\u001b[1;32m   1099\u001b[0m     \u001b[39mif\u001b[39;00m buffer \u001b[39mis\u001b[39;00m \u001b[39mnot\u001b[39;00m \u001b[39mNone\u001b[39;00m:\n\u001b[0;32m-> 1100\u001b[0m         \u001b[39mreturn\u001b[39;00m \u001b[39mself\u001b[39;49m\u001b[39m.\u001b[39;49m_sslobj\u001b[39m.\u001b[39;49mread(\u001b[39mlen\u001b[39;49m, buffer)\n\u001b[1;32m   1101\u001b[0m     \u001b[39melse\u001b[39;00m:\n\u001b[1;32m   1102\u001b[0m         \u001b[39mreturn\u001b[39;00m \u001b[39mself\u001b[39m\u001b[39m.\u001b[39m_sslobj\u001b[39m.\u001b[39mread(\u001b[39mlen\u001b[39m)\n",
      "\u001b[0;31mKeyboardInterrupt\u001b[0m: "
     ]
    }
   ],
   "source": [
    "nb_workers = 2\n",
    "all_problems = []\n",
    "for worker in range(nb_workers):\n",
    "    mission_generator = MissionGenerator(\n",
    "        config=config\n",
    "        | {\n",
    "            \"seed\": 2022 + worker,\n",
    "            \"cache_folder\": results_folder + str(worker) + \"_\",\n",
    "        }\n",
    "    )\n",
    "    problems, _, _ = mission_generator.cache_batch()\n",
    "    all_problems.extend(problems)\n",
    "df = pd.DataFrame([problem.to_dict() for problem in all_problems])\n",
    "df.to_csv(results_folder + \"problems.csv\")"
   ]
  },
  {
   "cell_type": "markdown",
   "metadata": {},
   "source": [
    "### 3. Visualize generated Navigation Problems"
   ]
  },
  {
   "cell_type": "code",
   "execution_count": null,
   "metadata": {},
   "outputs": [],
   "source": [
    "GenerationRunner.plot_ttr_histogram(results_folder)\n",
    "# visualize only first target and associated starts (which defines a c3 \"mission\") \n",
    "GenerationRunner.plot_starts_and_targets(\n",
    "    results_folder=results_folder, scenario_config=arena_config\n",
    ")"
   ]
  },
  {
   "cell_type": "markdown",
   "metadata": {},
   "source": [
    "### 4. To c3 mission"
   ]
  },
  {
   "cell_type": "code",
   "execution_count": null,
   "metadata": {},
   "outputs": [],
   "source": [
    "exp = []\n",
    "for idx, problem in enumerate(all_problems):\n",
    "    try:\n",
    "        exp.append(problem.to_c3_mission_config())\n",
    "    except BaseException:\n",
    "        continue"
   ]
  },
  {
   "cell_type": "markdown",
   "metadata": {},
   "source": [
    "## Prepare Simulator for a defined mission"
   ]
  },
  {
   "cell_type": "markdown",
   "metadata": {},
   "source": [
    "## 1. Base config for controller & observer & navigation"
   ]
  },
  {
   "cell_type": "code",
   "execution_count": null,
   "metadata": {},
   "outputs": [],
   "source": [
    "NoObserver = {\"observer\": None}\n",
    "\n",
    "# Controller Configs\n",
    "HJMultiTimeConfig = {\n",
    "    \"replan_every_X_seconds\": None,\n",
    "    \"replan_on_new_fmrc\": True,\n",
    "    \"T_goal_in_seconds\": 259200,  # 3d, 43200,     # 12h\n",
    "    \"accuracy\": \"high\",\n",
    "    \"artificial_dissipation_scheme\": \"local_local\",\n",
    "    \"ctrl_name\": \"ocean_navigation_simulator.controllers.hj_planners.HJReach2DPlanner.HJReach2DPlanner\",\n",
    "    \"d_max\": 0.0,\n",
    "    \"deg_around_xt_xT_box\": 1.0,\n",
    "    \"direction\": \"multi-time-reach-back\",\n",
    "    \"grid_res\": 0.02,\n",
    "    \"n_time_vector\": 200,\n",
    "    \"progress_bar\": True,\n",
    "    \"use_geographic_coordinate_system\": True,\n",
    "}\n",
    "StraightLineConfig = {\n",
    "    \"ctrl_name\": \"ocean_navigation_simulator.controllers.NaiveController.NaiveController\"\n",
    "}\n",
    "flockingConfig = {\n",
    "    \"unit\": \"km\",\n",
    "    \"interaction_range\": 9,  # km\n",
    "    \"grad_clip_range\": 0.1,  # km\n",
    "}\n",
    "\n",
    "MultiAgentCtrlConfig = {\n",
    "    \"ctrl_name\": \"ocean_navigation_simulator.controllers.MultiAgentPlanner.MultiAgentPlanner\",\n",
    "    \"high_level_ctrl\": \"hj_naive\", #choose from hj_naive, flocking, reactive_control\n",
    "    \"unit\": \"km\",\n",
    "    \"communication_thrsld\": 9,\n",
    "    \"hj_specific_settings\": HJMultiTimeConfig,\n",
    "}\n",
    "objective_conf = {\"type\": \"nav\"}"
   ]
  },
  {
   "cell_type": "markdown",
   "metadata": {},
   "source": [
    "## 2. Constructor"
   ]
  },
  {
   "cell_type": "code",
   "execution_count": null,
   "metadata": {},
   "outputs": [],
   "source": [
    "# choose mission we want to simulate (1 target per mission)\n",
    "mission_config = exp[0]\n",
    "\n",
    "# Step 0: Create Constructor object which contains arena, problem, controller and observer\n",
    "constructor = Constructor(\n",
    "    arena_conf=arena_config,\n",
    "    mission_conf=mission_config,\n",
    "    objective_conf=objective_conf,\n",
    "    ctrl_conf=MultiAgentCtrlConfig,  # here different controller configs can be put in\n",
    "    observer_conf=NoObserver,  # here the other observers can also be put int\n",
    "    download_files=True,\n",
    "    timeout_in_sec=arena_config[\"timeout\"],\n",
    ")\n",
    "# Step 1.1 Retrieve problem\n",
    "problem = constructor.problem\n",
    "\n",
    "# Step 1.2: Retrieve arena\n",
    "arena = constructor.arena\n",
    "observation = arena.reset(platform_set=problem.start_state)\n",
    "problem_status = arena.problem_status(problem=problem)\n",
    "# #%% Plot the problem on the map\n",
    "# import matplotlib.pyplot as plt\n",
    "# t_interval, lat_bnds, lon_bnds = arena.ocean_field.hindcast_data_source.convert_to_x_y_time_bounds(\n",
    "#     x_0=problem.start_state.to_spatio_temporal_point(), x_T=problem.end_region,\n",
    "#     deg_around_x0_xT_box=1, temp_horizon_in_s=3600\n",
    "# )\n",
    "#\n",
    "# ax = arena.ocean_field.hindcast_data_source.plot_data_at_time_over_area(\n",
    "#     time=problem.start_state.date_time, x_interval=lon_bnds, y_interval=lat_bnds, return_ax=True\n",
    "# )\n",
    "# problem.plot(ax=ax)\n",
    "# plt.show()\n",
    "\n",
    "# Step 2: Retrieve Controller\n",
    "# problem.platform_dict = arena.platform.platform_dict\n",
    "controller = constructor.controller\n",
    "# Reachability snapshot plot\n",
    "action = controller.get_action(observation=observation)\n",
    "controller.plot_reachability_snapshot(\n",
    "    rel_time_in_seconds=0,\n",
    "    granularity_in_h=5,\n",
    "    alpha_color=1,\n",
    "    time_to_reach=True,\n",
    "    fig_size_inches=(12, 12),\n",
    "    plot_in_h=True,\n",
    "    return_ax=True,\n",
    ")\n",
    "plt.show()\n",
    "# Step 3: Retrieve observer\n",
    "observer = constructor.observer"
   ]
  },
  {
   "cell_type": "markdown",
   "metadata": {},
   "source": [
    "### 3. Run closed-loop simulation"
   ]
  },
  {
   "cell_type": "code",
   "execution_count": null,
   "metadata": {},
   "outputs": [],
   "source": [
    "# Step 4: Run closed-loop simulation\n",
    "ctrl_deviation_from_opt = []\n",
    "while any(status == 0 for status in problem_status):\n",
    "    # Get action\n",
    "    action, ctrl_correction = controller.get_action(observation=observation)\n",
    "    ctrl_deviation_from_opt.append(ctrl_correction)\n",
    "    # execute action\n",
    "    observation = arena.step(action)\n",
    "\n",
    "    # Observer data assimilation\n",
    "    observer.observe(observation)\n",
    "    observation.forecast_data_source = observer\n",
    "\n",
    "    # update problem status\n",
    "    problem_status = arena.problem_status(problem=problem)\n",
    "\n",
    "print(\"terminated because:\", arena.problem_status_text(arena.problem_status(problem=problem)))"
   ]
  },
  {
   "cell_type": "markdown",
   "metadata": {},
   "source": [
    "### 4. Get metrics"
   ]
  },
  {
   "cell_type": "code",
   "execution_count": null,
   "metadata": {},
   "outputs": [],
   "source": [
    "metrics_folder = f\"{results_folder}metrics/\"\n",
    "metrics_dict = arena.save_metrics_to_log(\n",
    "    all_pltf_status=problem_status,\n",
    "    max_correction_from_opt_ctrl=ctrl_deviation_from_opt,\n",
    "    filename=f\"{metrics_folder}metrics.log\",\n",
    ")\n",
    "arena.animate_trajectory(\n",
    "    margin=0.25,\n",
    "    problem=problem,\n",
    "    temporal_resolution=7200,\n",
    "    output=f\"{metrics_folder}platform_trajectories.mp4\",\n",
    "    fps=6,\n",
    ")\n",
    "\n",
    "arena.animate_graph_net_trajectory(\n",
    "    temporal_resolution=7200,\n",
    "    # collision_communication_thrslds=(10, 50), (not specified take defaut one)\n",
    "    plot_ax_ticks=True,\n",
    "    output=f\"{metrics_folder}network_graph_trajectory.mp4\",\n",
    "    fps=5,\n",
    ")\n",
    "# %% Plot useful metrics for multi-agent performance evaluation\n",
    "plt.clf()\n",
    "fig = arena.plot_all_network_analysis(xticks_temporal_res=8 * 3600)  # 8 hours interval for xticks\n",
    "plt.savefig(f\"{metrics_folder}graph_properties.png\")\n",
    "plt.clf()\n",
    "arena.plot_distance_evolution_between_platforms()\n",
    "plt.savefig(f\"{metrics_folder}distanceEvolution.png\")"
   ]
  }
 ],
 "metadata": {
  "kernelspec": {
   "display_name": "Python 3.9.13 ('ocean_minimal')",
   "language": "python",
   "name": "python3"
  },
  "language_info": {
   "codemirror_mode": {
    "name": "ipython",
    "version": 3
   },
   "file_extension": ".py",
   "mimetype": "text/x-python",
   "name": "python",
   "nbconvert_exporter": "python",
   "pygments_lexer": "ipython3",
   "version": "3.9.13"
  },
  "orig_nbformat": 4,
  "vscode": {
   "interpreter": {
    "hash": "9ed4b5c9df27747f3a2313a7b45e2dcb31384957b3c889e68300f490f3475319"
   }
  }
 },
 "nbformat": 4,
 "nbformat_minor": 2
}
