{
 "cells": [
  {
   "cell_type": "markdown",
   "metadata": {},
   "source": [
    "## Example & Ideas of Implementation for Multi-Agent"
   ]
  },
  {
   "cell_type": "code",
   "execution_count": 1,
   "metadata": {},
   "outputs": [
    {
     "name": "stdout",
     "output_type": "stream",
     "text": [
      "/home/nicolas/documents/Master_Thesis_repo/OceanPlatformControl\n"
     ]
    }
   ],
   "source": [
    "from dataclasses import dataclass\n",
    "import casadi as ca\n",
    "import numpy as np\n",
    "import time\n",
    "import math\n",
    "from typing import Dict, Optional\n",
    "import logging\n",
    "import datetime\n",
    "from tqdm import tqdm\n",
    "\n",
    "from ocean_navigation_simulator.data_sources import OceanCurrentSource\n",
    "from ocean_navigation_simulator.data_sources.SolarIrradiance.SolarIrradianceSource import SolarIrradianceSource\n",
    "from ocean_navigation_simulator.data_sources.SeaweedGrowth.SeaweedGrowthSource import SeaweedGrowthSource\n",
    "from ocean_navigation_simulator.utils import units\n",
    "from ocean_navigation_simulator.environment.PlatformState import PlatformState\n",
    "from ocean_navigation_simulator.environment.PlatformState import SpatialPoint\n",
    "from ocean_navigation_simulator.environment.ArenaFactory import ArenaFactory\n",
    "from ocean_navigation_simulator.environment.NavigationProblem import NavigationProblem\n",
    "from ocean_navigation_simulator.controllers.hj_planners.HJReach2DPlanner import HJReach2DPlanner\n",
    "from ocean_navigation_simulator.utils import units\n",
    "import matplotlib.pyplot as plt\n",
    "import os\n",
    "os.chdir('/home/nicolas/documents/Master_Thesis_repo/OceanPlatformControl')\n",
    "print(os.getcwd())\n"
   ]
  },
  {
   "cell_type": "markdown",
   "metadata": {},
   "source": [
    "+ Create 3 Platforms as usual using the `PlatformState` class "
   ]
  },
  {
   "cell_type": "code",
   "execution_count": 2,
   "metadata": {},
   "outputs": [],
   "source": [
    "x_0_1 = PlatformState(lon=units.Distance(deg=-82.5), lat=units.Distance(deg=23.7),\n",
    "                    date_time=datetime.datetime(2021, 11, 24, 12, 0, tzinfo=datetime.timezone.utc)) #here could also given an id property !\n",
    "x_0_2 = PlatformState(lon=units.Distance(deg=-82.6), lat=units.Distance(deg=23.8),\n",
    "                    date_time=datetime.datetime(2021, 11, 24, 12, 0, tzinfo=datetime.timezone.utc)) #eg. id = int(nb)\n",
    "x_0_3 = PlatformState(lon=units.Distance(deg=-82.4), lat=units.Distance(deg=23.6),\n",
    "                    date_time=datetime.datetime(2021, 11, 24, 12, 0, tzinfo=datetime.timezone.utc))\n",
    "x_T = SpatialPoint(lon=units.Distance(deg=-80.3), lat=units.Distance(deg=24.6))"
   ]
  },
  {
   "cell_type": "markdown",
   "metadata": {},
   "source": [
    "We can create a new class containing the platform states in a list form. By rewriting the `__array__()` method we can extract the states of all platform in a numpy array fashion with [lon,lat,date_time, battery_charge, seaweed_mass] as rows and each platform as column (corresponding to it's id)"
   ]
  },
  {
   "cell_type": "code",
   "execution_count": 3,
   "metadata": {},
   "outputs": [
    {
     "name": "stdout",
     "output_type": "stream",
     "text": [
      "States numpy array=  [[-8.2500000e+01 -8.2600000e+01 -8.2400000e+01]\n",
      " [ 2.3700000e+01  2.3800000e+01  2.3600000e+01]\n",
      " [ 1.6377552e+09  1.6377552e+09  1.6377552e+09]\n",
      " [ 1.0000000e+02  1.0000000e+02  1.0000000e+02]\n",
      " [ 1.0000000e+02  1.0000000e+02  1.0000000e+02]] of shape (5, 3)\n",
      "number of platforms =  3\n",
      "get platform 1 state [-8.2600000e+01  2.3800000e+01  1.6377552e+09  1.0000000e+02\n",
      "  1.0000000e+02]\n"
     ]
    }
   ],
   "source": [
    "from typing import List\n",
    "import dataclasses\n",
    "from dataclasses import astuple\n",
    "@dataclasses.dataclass\n",
    "class PlatformStateSet:\n",
    "    states:List[PlatformState]\n",
    "\n",
    "    def __array__(self):\n",
    "        states_list = [np.array(state) for state in self.states]\n",
    "        return np.array(states_list).T #columns: number of platforms\n",
    "\n",
    "    def __len__(self):\n",
    "        return len(self.states)\n",
    "\n",
    "    def __getitem__(self, platform_id):\n",
    "        return np.array(self.states[platform_id])\n",
    "\n",
    "x_set = PlatformStateSet(states=[x_0_1, x_0_2, x_0_3])\n",
    "np_x_set = np.array(x_set)\n",
    "print(\"States numpy array= \", np_x_set, \"of shape\", np_x_set.shape)\n",
    "print(\"number of platforms = \", len(x_set))\n",
    "print(\"get platform 1 state\", x_set[1])"
   ]
  },
  {
   "cell_type": "markdown",
   "metadata": {},
   "source": [
    "Import the known scenario to initialize `config`"
   ]
  },
  {
   "cell_type": "code",
   "execution_count": 4,
   "metadata": {},
   "outputs": [],
   "source": [
    "import yaml\n",
    "scenario_name = 'gulf_of_mexico_HYCOM_hindcast_local'\n",
    "with open(f'config/arena/{scenario_name}.yaml') as f:\n",
    "    config = yaml.load(f, Loader=yaml.FullLoader)\n",
    "casadi_cache_dict=config['casadi_cache_dict']\n",
    "platform_dict=config['platform_dict']\n",
    "ocean_dict= config['ocean_dict']\n",
    "use_geographic_coordinate_system=config['use_geographic_coordinate_system']\n",
    "spatial_boundary=config['spatial_boundary']"
   ]
  },
  {
   "cell_type": "markdown",
   "metadata": {},
   "source": [
    "In this way we can create a `NavigationProblem` where the start state is now of type `PlatformStateSet`"
   ]
  },
  {
   "cell_type": "code",
   "execution_count": 5,
   "metadata": {},
   "outputs": [
    {
     "data": {
      "text/plain": [
       "NavigationProblem(start_state=PlatformStateSet(states=[Platform State[lon: -82.5 deg, lat: 23.7 deg, date_time: 2021-11-24 12:00:00+00:00, battery_charge: 100.0 Joule, seaweed_mass: 100.0 kg], Platform State[lon: -82.6 deg, lat: 23.8 deg, date_time: 2021-11-24 12:00:00+00:00, battery_charge: 100.0 Joule, seaweed_mass: 100.0 kg], Platform State[lon: -82.4 deg, lat: 23.6 deg, date_time: 2021-11-24 12:00:00+00:00, battery_charge: 100.0 Joule, seaweed_mass: 100.0 kg]]), end_region=[-80.300000°,24.60000°], target_radius=0.1, timeout=datetime.timedelta(days=2), platform_dict={'battery_cap_in_wh': 400.0, 'u_max_in_mps': 0.1, 'motor_efficiency': 1.0, 'solar_panel_size': 0.5, 'solar_efficiency': 0.2, 'drag_factor': 675.0, 'dt_in_s': 600.0}, x_range=None, y_range=None, extra_info=None)"
      ]
     },
     "execution_count": 5,
     "metadata": {},
     "output_type": "execute_result"
    }
   ],
   "source": [
    "from ocean_navigation_simulator.environment.Problem import Problem\n",
    "@dataclasses.dataclass\n",
    "class NavigationProblem(Problem):\n",
    "    start_state: PlatformStateSet \n",
    "    end_region: SpatialPoint\n",
    "    target_radius: float\n",
    "    timeout: datetime.timedelta = None\n",
    "    platform_dict: dict = None\n",
    "    x_range: List = None\n",
    "    y_range: List = None\n",
    "    extra_info: dict = None\n",
    "\n",
    "    def plot(self, ax):\n",
    "        pass\n",
    "\n",
    "NavigationProblem(\n",
    "    start_state=x_set,\n",
    "    end_region=x_T,\n",
    "    target_radius=0.1,\n",
    "    timeout=datetime.timedelta(days=2),\n",
    "    platform_dict=platform_dict)"
   ]
  },
  {
   "cell_type": "markdown",
   "metadata": {},
   "source": [
    "### For this example, we just consider one data source (the most important for the simulation) which is `ocean_source`"
   ]
  },
  {
   "cell_type": "code",
   "execution_count": 6,
   "metadata": {},
   "outputs": [
    {
     "name": "stderr",
     "output_type": "stream",
     "text": [
      "INFO:arena.ocean_field:DataField: Create Hindcast Source (20.8s)\n",
      "INFO:arena.ocean_field:DataField: Forecast is the same as Hindcast for OceanCurrents.\n"
     ]
    }
   ],
   "source": [
    "from ocean_navigation_simulator.data_sources.OceanCurrentField import OceanCurrentField\n",
    "from ocean_navigation_simulator.data_sources.SeaweedGrowthField import SeaweedGrowthField\n",
    "from ocean_navigation_simulator.data_sources.SolarIrradianceField import SolarIrradianceField\n",
    "from typing import Dict, Optional, Union, Tuple, List, AnyStr, Literal, Callable\n",
    "\n",
    "ocean_field = OceanCurrentField(\n",
    "    casadi_cache_dict=casadi_cache_dict,\n",
    "    hindcast_source_dict=ocean_dict['hindcast'],\n",
    "    forecast_source_dict=ocean_dict['forecast'],\n",
    "    use_geographic_coordinate_system=use_geographic_coordinate_system)\n",
    "\n",
    "ocean_source = ocean_field.hindcast_data_source"
   ]
  },
  {
   "cell_type": "markdown",
   "metadata": {},
   "source": [
    "For now just update/initialize the casadi cache around one of the platform as both platforms are initially very close. Later, we will rewrite `update_casadi_dynamics` which will now take a `PlatformStateSet` argument instead of `PlatformState`.\n",
    "\n",
    "Interpolation works as usual -> for an ocean data source, it is defined in `OceanCurrentSource.py` "
   ]
  },
  {
   "cell_type": "code",
   "execution_count": 7,
   "metadata": {},
   "outputs": [
    {
     "name": "stdout",
     "output_type": "stream",
     "text": [
      "u_curr:(x[3])->(f) LinearInterpolant \n",
      " v_curr:(x[3])->(f) LinearInterpolant\n"
     ]
    }
   ],
   "source": [
    "ocean_source.update_casadi_dynamics(x_0_1)\n",
    "print(ocean_source.u_curr_func, \"\\n\", ocean_source.v_curr_func)"
   ]
  },
  {
   "cell_type": "markdown",
   "metadata": {},
   "source": [
    "We deliberately skip the part with the planner and the arena observation, but it is likely that we will have also an `ArenaObservationSet` and run the the HJ Planner iteratively over this list of Observations to return a `PlatformActionSet` that could be implemented as below:\n",
    "(here the action are hard-coded for simplification)"
   ]
  },
  {
   "cell_type": "code",
   "execution_count": 9,
   "metadata": {},
   "outputs": [
    {
     "name": "stdout",
     "output_type": "stream",
     "text": [
      "actions to numpy array ready for casadi first row = mag, second row = dir \n",
      " [[50.  25.  75. ]\n",
      " [ 1.   0.5  0. ]]\n"
     ]
    }
   ],
   "source": [
    "from ocean_navigation_simulator.environment.Platform import Platform, PlatformAction\n",
    "@dataclasses.dataclass\n",
    "class PlatformActionSet:\n",
    "    action_set: List[PlatformAction]\n",
    "\n",
    "    def __array__(self):\n",
    "        action_list = [np.array(action) for action in self.action_set]\n",
    "        return np.array(action_list).T #columns: number of platforms\n",
    "\n",
    "action_x_0_1 = PlatformAction(magnitude=50, direction=1)\n",
    "action_x_0_2 = PlatformAction(magnitude=25, direction=0.5)\n",
    "action_x_0_3 = PlatformAction(magnitude=75, direction= 0)\n",
    "action_x_set = PlatformActionSet(action_set = [action_x_0_1, action_x_0_2, action_x_0_3])\n",
    "print(\"actions to numpy array ready for casadi first row = mag, second row = dir \\n\", np.array(action_x_set))"
   ]
  },
  {
   "cell_type": "markdown",
   "metadata": {},
   "source": [
    "#### The aim is test casADi ability to vectorize, so we first start to implement the computations directly outside of the function and without symbolic variables:"
   ]
  },
  {
   "cell_type": "code",
   "execution_count": 10,
   "metadata": {},
   "outputs": [
    {
     "name": "stdout",
     "output_type": "stream",
     "text": [
      "Get platform states as a numpy multi dim array, where each column is a platform: \n",
      " [[-8.2500000e+01 -8.2600000e+01 -8.2400000e+01]\n",
      " [ 2.3700000e+01  2.3800000e+01  2.3600000e+01]\n",
      " [ 1.6377552e+09  1.6377552e+09  1.6377552e+09]\n",
      " [ 1.0000000e+02  1.0000000e+02  1.0000000e+02]\n",
      " [ 1.0000000e+02  1.0000000e+02  1.0000000e+02]]\n",
      "platform state matrices shape (3, 3)\n",
      "current interpolation u =  [[0.87875, 0.598949, 0.669905]] \n",
      "current interpolation v =  [[1.0565, 0.883948, 0.861923]]\n",
      "next lon position for the platforms = [[-82.47890179 -82.58352898 -82.35189216]] \n",
      "next lat position for the platforms =  [[23.72840339 23.81123709 23.60465088]]\n"
     ]
    }
   ],
   "source": [
    "import casadi as ca\n",
    "from ocean_navigation_simulator.utils import units\n",
    "\n",
    "nb_platforms = len(x_set) # number of platforms\n",
    "dt_in_s = platform_dict['dt_in_s']\n",
    "print(\"Get platform states as a numpy multi dim array, where each column is a platform: \\n\", np.array(x_set))\n",
    "lon_deg, lat_deg, t,_,_ = np.array(x_set) #extract only relevant states for our simplified problem\n",
    "mat_state = ca.vertcat(t.reshape(1,nb_platforms), lat_deg.reshape(1,nb_platforms), lon_deg.reshape(1,nb_platforms)) # platforms as columns\n",
    "print(\"platform state matrices shape\", mat_state.shape) \n",
    "\n",
    "# Interpolation supports vectorization\n",
    "u_curr = ocean_source.u_curr_func(mat_state) #needs to be 3 (time, lat,lon) x nb_platforms\n",
    "v_curr = ocean_source.v_curr_func(mat_state)\n",
    "print(\"current interpolation u = \", u_curr, \"\\ncurrent interpolation v = \", v_curr)\n",
    "\n",
    "u_mag, u_angle = np.array(action_x_set)\n",
    "u_max = units.Velocity(mps=platform_dict['u_max_in_mps'])\n",
    "lon_delta_meters_per_s = ca.cos(u_angle.reshape(1,nb_platforms))*u_mag.reshape(1, nb_platforms)*u_max.mps+u_curr\n",
    "lat_delta_meters_per_s = ca.sin(u_angle.reshape(1,nb_platforms))*u_mag.reshape(1, nb_platforms)*u_max.mps+v_curr\n",
    "lon_delta_deg_per_s = 180 * lon_delta_meters_per_s / math.pi / 6371000 / ca.cos(math.pi * lat_deg.reshape(1,nb_platforms) / 180)\n",
    "lat_delta_deg_per_s = 180 * lat_delta_meters_per_s / math.pi / 6371000\n",
    "\n",
    "# Equations for next states using the intermediate variables from above\n",
    "lon_next = lon_deg + dt_in_s * lon_delta_deg_per_s\n",
    "lat_next = lat_deg + dt_in_s * lat_delta_deg_per_s\n",
    "print(\"next lon position for the platforms =\", lon_next, \"\\nnext lat position for the platforms = \", lat_next)"
   ]
  },
  {
   "cell_type": "markdown",
   "metadata": {},
   "source": [
    "The interpolation function also returns multiple current values if we provide multiple platforms location !\n",
    "\n",
    "+ Now we are ready to implement the platform dynamic updates for the respective control action to apply to each platforms with a CasADi `Function` and symbolic variables:"
   ]
  },
  {
   "cell_type": "code",
   "execution_count": 11,
   "metadata": {},
   "outputs": [
    {
     "name": "stdout",
     "output_type": "stream",
     "text": [
      "Next state: rows [lon, lat, time] and columns [platforms] \n",
      " [[-8.24789018e+01 -8.25835290e+01 -8.23518922e+01]\n",
      " [ 2.37284034e+01  2.38112371e+01  2.36046509e+01]\n",
      " [ 1.63775580e+09  1.63775580e+09  1.63775580e+09]]\n"
     ]
    }
   ],
   "source": [
    "def get_casadi_dynamics(nb_platforms, ocean_source, u_max):\n",
    "    state_row_dict = {\"lon\":0, \"lat\":1, \"time\":2, \"battery\":3, \"seaweed\":4 }\n",
    "    action_row_dict = {\"thrust\":0, \"angle\":1}\n",
    "    # sym_lon_degree      = ca.MX.sym('lon')          # in deg or m\n",
    "    # sym_lat_degree      = ca.MX.sym('lat')          # in deg or m\n",
    "    # sym_time            = ca.MX.sym('time')         # in posix\n",
    "    # sym_battery         = ca.MX.sym('battery')      # in Joule\n",
    "    # sym_seaweed_mass    = ca.MX.sym('battery')      # in Kg\n",
    "    sym_dt              = ca.MX.sym('dt')           # in s\n",
    "    sym_seaweed_mass    = ca.MX.sym('seaweed_mass', 1,nb_platforms)      # in Kg\n",
    "    sym_u_thrust        = ca.MX.sym('u_thrust',1, nb_platforms)     # in % of u_max\n",
    "    sym_u_angle         = ca.MX.sym('u_angle', 1, nb_platforms)      # in radians\n",
    "    sym_inputs_states   = ca.MX.sym('inputs_states', 5, nb_platforms)\n",
    "    sym_inputs_ctrl     = ca.MX.sym('inputs_ctrl', 2, nb_platforms)\n",
    "\n",
    "    sym_lon_degree = sym_inputs_states[state_row_dict[\"lon\"],:]\n",
    "    sym_lat_degree = sym_inputs_states[state_row_dict[\"lat\"],:]\n",
    "    sym_time = sym_inputs_states[state_row_dict[\"time\"],:]\n",
    "    sym_battery = sym_inputs_states[state_row_dict[\"battery\"],:]\n",
    "    sym_seaweed_mass = sym_inputs_states[state_row_dict[\"seaweed\"],:]\n",
    "    sym_u_thrust = sym_inputs_ctrl[action_row_dict[\"thrust\"],:]\n",
    "    sym_u_angle = sym_inputs_ctrl[action_row_dict[\"angle\"],:]\n",
    "\n",
    "    # Get currents\n",
    "    u_curr = ocean_source.u_curr_func(ca.vertcat(sym_time,sym_lat_degree, sym_lon_degree))\n",
    "    v_curr = ocean_source.v_curr_func(ca.vertcat(sym_time, sym_lat_degree, sym_lon_degree))\n",
    "    sym_lon_delta_meters_per_s = ca.cos(sym_u_angle)*sym_u_thrust*u_max.mps + u_curr\n",
    "    sym_lat_delta_meters_per_s = ca.sin(sym_u_angle)*sym_u_thrust*u_max.mps + v_curr\n",
    "    sym_lon_delta_deg_per_s = 180 * sym_lon_delta_meters_per_s / math.pi / 6371000 / ca.cos(math.pi * sym_lat_degree / 180)\n",
    "    sym_lat_delta_deg_per_s = 180 * sym_lat_delta_meters_per_s / math.pi / 6371000\n",
    "\n",
    "     # Equations for next states using the intermediate variables from above\n",
    "    sym_lon_next = sym_lon_degree + sym_dt * sym_lon_delta_deg_per_s\n",
    "    sym_lat_next = sym_lat_degree + sym_dt * sym_lat_delta_deg_per_s\n",
    "    sym_time_next = sym_time + sym_dt\n",
    "    # F_next = ca.Function('F_x_next', [ca.vertcat(sym_lon_degree, sym_lat_degree, sym_time, sym_battery, sym_seaweed_mass), ca.vertcat(sym_u_thrust, sym_u_angle), sym_dt],\n",
    "    #                     [ca.vertcat(sym_lon_next, sym_lat_next, sym_time_next)])\n",
    "\n",
    "    F_next = ca.Function('F_x_next', [sym_inputs_states, sym_inputs_ctrl, sym_dt ], [ca.vertcat(sym_lon_next, sym_lat_next, sym_time_next)] )\n",
    "    return F_next\n",
    "F_x_next = get_casadi_dynamics(nb_platforms, ocean_source, u_max)\n",
    "next_state_np = np.array(F_x_next(np.array(x_set), np.array(action_x_set), dt_in_s))\n",
    "print(\"Next state: rows [lon, lat, time] and columns [platforms] \\n\", next_state_np) # row lon, lat, time"
   ]
  },
  {
   "cell_type": "markdown",
   "metadata": {},
   "source": [
    "Here `ca.vertcat(sym_lon_degree, sym_lat_degree, sym_time, sym_battery, sym_seaweed_mass)` does not work when `sym_lon_degree` etc. are symbolic matrices, casadi throws an error that the input argument is not purely symbolic. A work around is to define a symbolic matrix `sym_inputs_states` and plit it then into lon, lat, time etc (same for the control) so that we can still pass the state as numpy array through `np.array(x_set)`, where `x_set` is of type `PlatformStateSet`. "
   ]
  }
 ],
 "metadata": {
  "kernelspec": {
   "display_name": "Python 3.9.13 ('ocean_minimal')",
   "language": "python",
   "name": "python3"
  },
  "language_info": {
   "codemirror_mode": {
    "name": "ipython",
    "version": 3
   },
   "file_extension": ".py",
   "mimetype": "text/x-python",
   "name": "python",
   "nbconvert_exporter": "python",
   "pygments_lexer": "ipython3",
   "version": "3.9.13"
  },
  "orig_nbformat": 4,
  "vscode": {
   "interpreter": {
    "hash": "9ed4b5c9df27747f3a2313a7b45e2dcb31384957b3c889e68300f490f3475319"
   }
  }
 },
 "nbformat": 4,
 "nbformat_minor": 2
}
