{
 "cells": [
  {
   "cell_type": "code",
   "execution_count": null,
   "metadata": {},
   "outputs": [],
   "source": [
    "import os\n",
    "from ocean_navigation_simulator.data_sources.Bathymetry.BathymetrySource import BathymetrySource2d\n",
    "from ocean_navigation_simulator.data_sources.GarbagePatch.GarbagePatchSource import (\n",
    "    GarbagePatchSource2d,\n",
    ")\n",
    "import matplotlib.pyplot as plt\n",
    "\n",
    "bathymetry_dict = {\n",
    "    \"field\": \"Bathymetry\",\n",
    "    \"source\": \"gebco\",\n",
    "    \"source_settings\": {\n",
    "        \"filepath\": \"ocean_navigation_simulator/package_data/bathymetry_and_garbage/bathymetry_global_res_0.083_0.083_max.nc\"\n",
    "    },\n",
    "    \"casadi_cache_settings\": {\"deg_around_x_t\": 20},\n",
    "    \"use_geographic_coordinate_system\": True,\n",
    "}\n",
    "garbage_dict = {\n",
    "    \"field\": \"Garbage\",\n",
    "    \"source\": \"Lebreton\",\n",
    "    \"source_settings\": {\n",
    "        \"filepath\": \"ocean_navigation_simulator/package_data/bathymetry_and_garbage/garbage_patch_global_res_0.083_0.083.nc\"\n",
    "    },\n",
    "    \"casadi_cache_settings\": {\"deg_around_x_t\": 10},\n",
    "    \"use_geographic_coordinate_system\": True,\n",
    "}\n",
    "b = BathymetrySource2d(bathymetry_dict)\n",
    "g = GarbagePatchSource2d(garbage_dict)\n"
   ]
  },
  {
   "cell_type": "code",
   "execution_count": null,
   "metadata": {},
   "outputs": [],
   "source": [
    "# West Coast\n",
    "lon_bnds = [-123, -105]\n",
    "lat_bnds = [18, 35]\n",
    "ax = b.plot_data_over_area(\n",
    "    x_interval=lon_bnds,\n",
    "    y_interval=lat_bnds,\n",
    "    return_ax=True,\n",
    ")\n",
    "ax = b.plot_mask_from_xarray(\n",
    "    xarray=b.get_data_over_area(x_interval=lon_bnds, y_interval=lat_bnds), ax=ax, masking_val=-150\n",
    ")\n",
    "plt.show()\n",
    "\n",
    "# Hawaii\n",
    "lon_bnds = [-160, -152]\n",
    "lat_bnds = [16, 23]\n",
    "ax = b.plot_data_over_area(\n",
    "    x_interval=lon_bnds,\n",
    "    y_interval=lat_bnds,\n",
    "    return_ax=True,\n",
    ")\n",
    "ax = b.plot_mask_from_xarray(\n",
    "    xarray=b.get_data_over_area(x_interval=lon_bnds, y_interval=lat_bnds), ax=ax, masking_val=-150\n",
    ")\n",
    "plt.show()\n",
    "\n",
    "# Region 1\n",
    "lon_bnds = [-160, -105]\n",
    "lat_bnds = [15, 40]\n",
    "ax = b.plot_data_over_area(\n",
    "    x_interval=lon_bnds,\n",
    "    y_interval=lat_bnds,\n",
    "    return_ax=True,\n",
    ")\n",
    "ax = b.plot_mask_from_xarray(\n",
    "    xarray=b.get_data_over_area(x_interval=lon_bnds, y_interval=lat_bnds), ax=ax, masking_val=-150\n",
    ")\n",
    "ax = g.plot_mask_from_xarray(\n",
    "    xarray=g.get_data_over_area(x_interval=lon_bnds, y_interval=lat_bnds),\n",
    "    ax=ax,\n",
    ")\n",
    "plt.show()"
   ]
  }
 ],
 "metadata": {
  "kernelspec": {
   "display_name": "ocean_platform",
   "language": "python",
   "name": "python3"
  },
  "language_info": {
   "name": "python",
   "version": "3.9.15 (main, Nov  4 2022, 16:13:54) \n[GCC 11.2.0]"
  },
  "orig_nbformat": 4,
  "vscode": {
   "interpreter": {
    "hash": "0e68e1188560e0264452509f800ed9cbe968b82eeca5d5a7e494819bbb829a34"
   }
  }
 },
 "nbformat": 4,
 "nbformat_minor": 2
}
