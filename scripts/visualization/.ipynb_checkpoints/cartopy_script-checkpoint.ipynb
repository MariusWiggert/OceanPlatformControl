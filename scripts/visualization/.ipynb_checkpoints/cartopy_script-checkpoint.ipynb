{
 "cells": [
  {
   "cell_type": "code",
   "execution_count": 2,
   "id": "4be4f838",
   "metadata": {},
   "outputs": [],
   "source": [
    "import numpy as np\n",
    "import matplotlib.pyplot as plt\n",
    "import cartopy.crs as ccrs\n",
    "import cartopy.feature as cfeature\n",
    "from matplotlib.offsetbox import AnchoredText\n",
    "\n",
    "from datetime import datetime, timedelta\n",
    "import os\n",
    "import netCDF4\n",
    "import bisect"
   ]
  },
  {
   "cell_type": "code",
   "execution_count": 3,
   "id": "002f94fd",
   "metadata": {},
   "outputs": [],
   "source": [
    "def get_current_data_subset(nc_file, x_0, x_T, deg_around_x0_xT_box, fixed_time=None,\n",
    "                            temporal_stride=1, temp_horizon_in_h=None):\n",
    "    \"\"\" Function to read a subset of the nc_file current data bounded by a box spanned by the x_0 and x_T points.\n",
    "    Inputs:\n",
    "        nc_file                 full path to nc file\n",
    "        x_0                     [lat, lon, charge, timestamp in POSIX]\n",
    "        x_T                     [lon, lat] goal locations\n",
    "        deg_around_x0_xT_box    float, buffer around the box in degrees\n",
    "        fixed_time              if None returns time-varying currents, \n",
    "                                otherwise datetime object of the fixed time -> returns ocean current grid at or before time\n",
    "                                the time of x_0 is then ignored\n",
    "        temporal_stride         int, if a stride of the temporal values is used (every temporal_stride hours)\n",
    "        temp_horizon            if None: all available time of the file will be provided\n",
    "                                otherwise float, maximum temp_horizon to look ahead of x_0 time in hours\n",
    "                                \n",
    "    Outputs:\n",
    "        grids_dict              dict containing x_grid, y_grid, t_grid, fixed_time_idx\n",
    "        u_data                  [T, Y, X] matrix of the ocean currents in x direction in m/s\n",
    "        v_data                  [T, Y, X] matrix of the ocean currents in y direction in m/s\n",
    "        \n",
    "    \"\"\"\n",
    "    \n",
    "    f = netCDF4.Dataset(nc_file)\n",
    "\n",
    "    # extract positiond & start_time for the indexing\n",
    "    x_0_pos = x_0[:2]\n",
    "    x_0_posix_time = x_0[3]\n",
    "    x_T = x_T[:2]\n",
    "\n",
    "    # Step 1: get the grids\n",
    "    xgrid = f.variables['lon'][:]\n",
    "    ygrid = f.variables['lat'][:]\n",
    "    t_grid = f.variables['time'][:] # not this is in hours from HYCOM data!\n",
    "    \n",
    "    # this is needed because the time origin in hindcast and forecase nc files is different. Very handcrafted.\n",
    "    try:\n",
    "        time_origin = datetime.strptime(f.variables['time'].__dict__['time_origin'] + ' +0000',\n",
    "                                    '%Y-%m-%d %H:%M:%S %z')\n",
    "    except:\n",
    "        time_origin = datetime.strptime(f.variables['time'].__dict__['units'] + ' +0000',\n",
    "                                                 'hours since %Y-%m-%d %H:%M:%S.000 UTC %z')\n",
    "\n",
    "    # Step 2: find the sub-setting\n",
    "    # find the lat & lon sub-set bounds\n",
    "    lon_bnds = [min(x_0_pos[0], x_T[0]) - deg_around_x0_xT_box, max(x_0_pos[0], x_T[0]) + deg_around_x0_xT_box]\n",
    "    lat_bnds = [min(x_0_pos[1], x_T[1]) - deg_around_x0_xT_box, max(x_0_pos[1], x_T[1]) + deg_around_x0_xT_box]\n",
    "\n",
    "    # get the respective indices from the grids\n",
    "    ygrid_inds = np.where((ygrid > lat_bnds[0]) & (ygrid < lat_bnds[1]))[0]\n",
    "    xgrid_inds = np.where((xgrid > lon_bnds[0]) & (xgrid < lon_bnds[1]))[0]\n",
    "\n",
    "    # for time indexing transform to POSIX time\n",
    "    abs_t_grid = [(time_origin + timedelta(hours=X)).timestamp() for X in t_grid.data]\n",
    "    \n",
    "    # get the idx of the value left of the demanded time (for interpolation function)\n",
    "    t_start_idx = bisect.bisect_right(abs_t_grid, x_0_posix_time) - 1\n",
    "    if t_start_idx == len(abs_t_grid) - 1 or t_start_idx == -1:\n",
    "        raise ValueError(\"Requested subset time is outside of the nc4 file.\")\n",
    "\n",
    "    # get the max time if provided as input\n",
    "    if temp_horizon_in_h is None:   # all data provided\n",
    "        t_end_idx = len(abs_t_grid)-1\n",
    "    else:\n",
    "        t_end_idx = bisect.bisect_right(abs_t_grid, x_0_posix_time + temp_horizon_in_h*3600.)\n",
    "        if t_end_idx == len(abs_t_grid):\n",
    "            raise ValueError(\"nc4 file does not contain requested temporal horizon.\")\n",
    "\n",
    "    # fixed time logic if necessary\n",
    "    if fixed_time is None:\n",
    "        slice_for_time_dim = np.s_[t_start_idx:(t_end_idx+1):temporal_stride]\n",
    "        fixed_time_idx = None\n",
    "    else:\n",
    "        fixed_time_idx = bisect.bisect_right(abs_t_grid, fixed_time.timestamp()) - 1\n",
    "        slice_for_time_dim = np.s_[fixed_time_idx]\n",
    "\n",
    "    # Step 2: extract data\n",
    "    # raw water_u is [tdim, zdim, ydim, xdim]\n",
    "    if len(f.variables['water_u'].shape) == 4:  # if there is a depth dimension in the dataset\n",
    "        u_data = f.variables['water_u'][slice_for_time_dim, 0, ygrid_inds, xgrid_inds]\n",
    "        v_data = f.variables['water_v'][slice_for_time_dim, 0, ygrid_inds, xgrid_inds]\n",
    "    # raw water_u is [tdim, ydim, xdim]\n",
    "    elif len(f.variables['water_u'].shape) == 3:  # if there is no depth dimension in the dataset\n",
    "        u_data = f.variables['water_u'][slice_for_time_dim, ygrid_inds, xgrid_inds]\n",
    "        v_data = f.variables['water_v'][slice_for_time_dim, ygrid_inds, xgrid_inds]\n",
    "    else:\n",
    "        raise ValueError(\"Current data in nc file has neither 3 nor 4 dimensions. Check file.\")\n",
    "\n",
    "    # create dict to output\n",
    "    grids_dict = {'x_grid': xgrid[xgrid_inds], 'y_grid': ygrid[ygrid_inds],\n",
    "                  't_grid': abs_t_grid[slice_for_time_dim], 'fixed_time_idx': fixed_time_idx}\n",
    "\n",
    "    # log what data has been subsetted\n",
    "    if fixed_time is None:\n",
    "        print(\"Subsetted data from {start} to {end} in {n_steps} time steps of {time:.2f} hour(s) resolution\".format(\n",
    "            start=datetime.utcfromtimestamp(grids_dict['t_grid'][0]).strftime('%Y-%m-%d %H:%M:%S UTC'),\n",
    "            end=datetime.utcfromtimestamp(grids_dict['t_grid'][-1]).strftime('%Y-%m-%d %H:%M:%S UTC'),\n",
    "            n_steps=len(grids_dict['t_grid']), time=(grids_dict['t_grid'][1] - grids_dict['t_grid'][0])/3600.))\n",
    "    else:\n",
    "        print(\"Subsetted data to fixed time at: {time}\".format(\n",
    "            time=datetime.utcfromtimestamp(grids_dict['t_grid'][0]).strftime('%Y-%m-%d %H:%M:%S UTC')))\n",
    "\n",
    "    #TODO: we replace the masked array with fill value 0 because otherwise interpolation doesn't work.\n",
    "    # Though that means we cannot anymore detect if we're on land or not (need a way to do that/detect stranding)\n",
    "    # not sure yet if we'll do it in the simulator or where.\n",
    "    # return grids_dict, u_data.filled(fill_value=0.), v_data.filled(fill_value=0.)\n",
    "    return grids_dict, u_data, v_data"
   ]
  },
  {
   "cell_type": "code",
   "execution_count": 4,
   "id": "67f2d7e3",
   "metadata": {},
   "outputs": [
    {
     "name": "stdout",
     "output_type": "stream",
     "text": [
      "Subsetted data from 2021-06-01 12:00:00 UTC to 2021-06-06 11:00:00 UTC in 120 time steps of 1.00 hour(s) resolution\n"
     ]
    }
   ],
   "source": [
    "hindcast_file = '2021_06_1-05_hourly.nc4'\n",
    "x_0 = [-88.0, 25.0, 1, 1622549410.0]  # lon, lat, battery, posix_time\n",
    "x_T = [-88.0, 26.3]\n",
    "deg_around_x0_xT_box = 0.5\n",
    "fixed_time = None\n",
    "temporal_stride = 1\n",
    "\n",
    "# function call\n",
    "grids_dict, u_data, v_data = get_current_data_subset(hindcast_file,\n",
    "                                                     x_0, x_T,\n",
    "                                                     deg_around_x0_xT_box,\n",
    "                                                     fixed_time,\n",
    "                                                     temporal_stride)\n",
    "\n",
    "# print(grids_dict.get(\"x_grid\"))\n",
    "# print('Length of x grid: ' + str(len(grids_dict.get(\"x_grid\"))))\n",
    "# print(grids_dict.get(\"y_grid\"))\n"
   ]
  },
  {
   "cell_type": "code",
   "execution_count": 21,
   "id": "c746f486",
   "metadata": {},
   "outputs": [
    {
     "ename": "NameError",
     "evalue": "name 'time_index' is not defined",
     "output_type": "error",
     "traceback": [
      "\u001b[1;31m---------------------------------------------------------------------------\u001b[0m",
      "\u001b[1;31mNameError\u001b[0m                                 Traceback (most recent call last)",
      "\u001b[1;32m~\\AppData\\Local\\Temp/ipykernel_26984/2115571170.py\u001b[0m in \u001b[0;36m<module>\u001b[1;34m\u001b[0m\n\u001b[1;32m----> 1\u001b[1;33m \u001b[0mu_data\u001b[0m\u001b[1;33m[\u001b[0m\u001b[0mtime_index\u001b[0m\u001b[1;33m,\u001b[0m \u001b[1;33m...\u001b[0m\u001b[1;33m]\u001b[0m\u001b[1;33m.\u001b[0m\u001b[0mshape\u001b[0m\u001b[1;33m\u001b[0m\u001b[1;33m\u001b[0m\u001b[0m\n\u001b[0m",
      "\u001b[1;31mNameError\u001b[0m: name 'time_index' is not defined"
     ]
    }
   ],
   "source": [
    "u_data[time_index, ...].shape"
   ]
  },
  {
   "cell_type": "code",
   "execution_count": 28,
   "id": "e0798226",
   "metadata": {},
   "outputs": [
    {
     "name": "stdout",
     "output_type": "stream",
     "text": [
      "(25,)\n",
      "(58,)\n",
      "58\n",
      "58\n"
     ]
    },
    {
     "ename": "TypeError",
     "evalue": "'Figure' object is not callable",
     "output_type": "error",
     "traceback": [
      "\u001b[1;31m---------------------------------------------------------------------------\u001b[0m",
      "\u001b[1;31mTypeError\u001b[0m                                 Traceback (most recent call last)",
      "\u001b[1;32m~\\AppData\\Local\\Temp/ipykernel_26984/1320796456.py\u001b[0m in \u001b[0;36m<module>\u001b[1;34m\u001b[0m\n\u001b[0;32m     30\u001b[0m \u001b[1;31m# ax1 = fig.add_subplot(1, 1, 1, projection=ccrs.PlateCarree())\u001b[0m\u001b[1;33m\u001b[0m\u001b[1;33m\u001b[0m\u001b[0m\n\u001b[0;32m     31\u001b[0m \u001b[0mplt\u001b[0m\u001b[1;33m.\u001b[0m\u001b[0mquiver\u001b[0m\u001b[1;33m(\u001b[0m\u001b[0mX\u001b[0m\u001b[1;33m,\u001b[0m \u001b[0mY\u001b[0m\u001b[1;33m,\u001b[0m \u001b[0mu_data\u001b[0m\u001b[1;33m[\u001b[0m\u001b[0mtime_idx\u001b[0m\u001b[1;33m,\u001b[0m \u001b[1;33m...\u001b[0m\u001b[1;33m]\u001b[0m\u001b[1;33m,\u001b[0m \u001b[0mv_data\u001b[0m\u001b[1;33m[\u001b[0m\u001b[0mtime_idx\u001b[0m\u001b[1;33m,\u001b[0m \u001b[1;33m...\u001b[0m\u001b[1;33m]\u001b[0m\u001b[1;33m)\u001b[0m\u001b[1;33m\u001b[0m\u001b[1;33m\u001b[0m\u001b[0m\n\u001b[1;32m---> 32\u001b[1;33m \u001b[0mfig\u001b[0m\u001b[1;33m(\u001b[0m\u001b[0mfigsize\u001b[0m\u001b[1;33m=\u001b[0m\u001b[1;33m(\u001b[0m\u001b[1;36m8\u001b[0m\u001b[1;33m,\u001b[0m \u001b[1;36m6\u001b[0m\u001b[1;33m)\u001b[0m\u001b[1;33m,\u001b[0m \u001b[0mdpi\u001b[0m\u001b[1;33m=\u001b[0m\u001b[1;36m80\u001b[0m\u001b[1;33m)\u001b[0m\u001b[1;33m\u001b[0m\u001b[1;33m\u001b[0m\u001b[0m\n\u001b[0m\u001b[0;32m     33\u001b[0m \u001b[0mplt\u001b[0m\u001b[1;33m.\u001b[0m\u001b[0mshow\u001b[0m\u001b[1;33m(\u001b[0m\u001b[1;33m)\u001b[0m\u001b[1;33m\u001b[0m\u001b[1;33m\u001b[0m\u001b[0m\n",
      "\u001b[1;31mTypeError\u001b[0m: 'Figure' object is not callable"
     ]
    },
    {
     "data": {
      "image/png": "[encoded data removed]",
      "text/plain": [
       "<Figure size 432x288 with 1 Axes>"
      ]
     },
     "metadata": {
      "needs_background": "light"
     },
     "output_type": "display_data"
    }
   ],
   "source": [
    "from matplotlib.pyplot import figure\n",
    "fig = plt.figure()\n",
    "figure(figsize=(8, 6), dpi=80)\n",
    "# ax = fig.add_subplot(1, 1, 1, projection=ccrs.PlateCarree())\n",
    "pc = ccrs.PlateCarree()\n",
    "ax = plt.axes(projection=pc)\n",
    "ax.set_extent([-100, 0, -45, 30], crs=pc)\n",
    "\n",
    "# ax.add_feature(cfeature.LAND)\n",
    "# ax.add_feature(cfeature.COASTLINE)\n",
    "# ax.add_feature(states_provinces, edgecolor='gray')\n",
    "# ny_lon, ny_lat = 85, 20\n",
    "# delhi_lon, delhi_lat = 95, 25\n",
    "\n",
    "# plt.plot([ny_lon, delhi_lon], [ny_lat, delhi_lat],\n",
    "#          color='blue', linewidth=2, marker='o',\n",
    "#          transform=ccrs.Geodetic(),\n",
    "#          )\n",
    "\n",
    "y_grid = grids_dict.get(\"y_grid\")\n",
    "y_grid = np.flip(y_grid, axis=0)\n",
    "u_data = np.flip(u_data, axis=0)\n",
    "v_data = np.flip(v_data, axis=0)\n",
    "\n",
    "print(grids_dict.get(\"x_grid\").shape)\n",
    "print(grids_dict.get(\"y_grid\").shape)\n",
    "X, Y = np.meshgrid(grids_dict.get(\"x_grid\"), y_grid, indexing='xy')\n",
    "print(len(X))\n",
    "print(len(Y))\n",
    "\n",
    "time_idx = 0\n",
    "# ax1 = fig.add_subplot(1, 1, 1, projection=ccrs.PlateCarree())\n",
    "plt.quiver(X, Y, u_data[time_idx, ...], v_data[time_idx, ...])\n",
    "plt.show()"
   ]
  },
  {
   "cell_type": "code",
   "execution_count": null,
   "id": "9aef0d19",
   "metadata": {},
   "outputs": [],
   "source": []
  }
 ],
 "metadata": {
  "kernelspec": {
   "display_name": "Python [conda env:maps-env]",
   "language": "python",
   "name": "conda-env-maps-env-py"
  },
  "language_info": {
   "codemirror_mode": {
    "name": "ipython",
    "version": 3
   },
   "file_extension": ".py",
   "mimetype": "text/x-python",
   "name": "python",
   "nbconvert_exporter": "python",
   "pygments_lexer": "ipython3",
   "version": "3.9.7"
  }
 },
 "nbformat": 4,
 "nbformat_minor": 5
}
