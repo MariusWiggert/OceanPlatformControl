{
 "cells": [
  {
   "cell_type": "code",
   "execution_count": null,
   "outputs": [],
   "source": [
    "import datetime\n",
    "import logging\n",
    "\n",
    "import numpy as np\n",
    "from matplotlib import pyplot as plt\n",
    "\n",
    "import ocean_navigation_simulator\n",
    "from ocean_navigation_simulator.environment.ArenaFactory import ArenaFactory\n",
    "from ocean_navigation_simulator.environment.PlatformState import (\n",
    "    SpatioTemporalPoint,\n",
    ")\n",
    "from ocean_navigation_simulator.problem_factories.Constructor import (\n",
    "    Constructor,\n",
    ")\n",
    "from ocean_navigation_simulator.utils.misc import set_arena_loggers\n",
    "\n",
    "set_arena_loggers(logging.DEBUG)"
   ],
   "metadata": {
    "collapsed": false,
    "ExecuteTime": {
     "start_time": "2023-05-02T21:19:08.825199Z",
     "end_time": "2023-05-02T21:19:08.836812Z"
    },
    "pycharm": {
     "is_executing": true
    }
   }
  },
  {
   "cell_type": "markdown",
   "source": [
    "# Set-Up for Simulation"
   ],
   "metadata": {
    "collapsed": false
   }
  },
  {
   "cell_type": "markdown",
   "source": [
    "## Platform Speed, Forecasted and true currents"
   ],
   "metadata": {
    "collapsed": false
   }
  },
  {
   "cell_type": "code",
   "execution_count": null,
   "outputs": [],
   "source": [
    "print(ocean_navigation_simulator.__file__)"
   ],
   "metadata": {
    "collapsed": false,
    "ExecuteTime": {
     "start_time": "2023-05-02T21:19:11.405688Z",
     "end_time": "2023-05-02T21:19:11.418031Z"
    }
   }
  },
  {
   "cell_type": "code",
   "execution_count": null,
   "outputs": [],
   "source": [
    "# Forecast System that we can use:\n",
    "# - HYCOM Global (daily forecasts, xh resolution, 1/12 deg spatial resolution)\n",
    "# - Copernicus Global (daily forecasts for 5 days out, xh resolution, 1/12 deg spatial resolution)\n",
    "# - NOAA West Coast Nowcast System (daily nowcasts for 24h, xh resolution, 10km spatial resolution)\n",
    "# Note: if you switch it, you need to delete the old FC files, otherwise it'll use those.\n",
    "max_speed_of_platform_in_meter_per_second = 0.2\n",
    "forecast_system_to_use = \"noaa\"  # either of ['HYCOM', 'Copernicus', 'noaa']\n",
    "folder_for_forecast_files = 'data/noaa_forecast_files/'\n",
    "\n",
    "# Currently true currents are set to Copernicus\n",
    "true_ocean_current_dict = {\n",
    "            \"field\": \"OceanCurrents\",\n",
    "            \"source\": \"opendap\",\n",
    "            \"source_settings\": {\n",
    "                \"service\": \"copernicus\",\n",
    "                \"currents\": \"total\",\n",
    "                \"USERNAME\": \"mmariuswiggert\",\n",
    "                \"PASSWORD\": \"tamku3-qetroR-guwneq\",\n",
    "                \"DATASET_ID\": \"cmems_mod_glo_phy_anfc_merged-uv_PT1H-i\",\n",
    "            }}\n",
    "\n",
    "# Configs for simulator\n",
    "simulation_timeout = 3600*24 *5  # 5 days\n",
    "arena_config = {\n",
    "    \"casadi_cache_dict\": {\n",
    "        \"deg_around_x_t\": 0.3,\n",
    "        \"time_around_x_t\": 86400.0,\n",
    "    },  # This is 24h in seconds!\n",
    "    \"platform_dict\": {\n",
    "        \"battery_cap_in_wh\": 400.0,\n",
    "        \"u_max_in_mps\": max_speed_of_platform_in_meter_per_second,\n",
    "        \"motor_efficiency\": 1.0,\n",
    "        \"solar_panel_size\": 1.0,\n",
    "        \"solar_efficiency\": 0.2,\n",
    "        \"drag_factor\": 675.0,\n",
    "        \"dt_in_s\": 600.0,\n",
    "    },\n",
    "    \"use_geographic_coordinate_system\": True,\n",
    "    \"spatial_boundary\": None,\n",
    "    \"ocean_dict\": {\n",
    "        \"region\": \"Region 1\",  # This is the region of northern California\n",
    "        \"hindcast\": true_ocean_current_dict,\n",
    "        \"forecast\": {\n",
    "            \"field\": \"OceanCurrents\",\n",
    "            \"source\": \"forecast_files\",\n",
    "            \"source_settings\": {\"source\": forecast_system_to_use,\n",
    "                                \"folder\": folder_for_forecast_files,\n",
    "                                \"type\": \"forecast\"},\n",
    "        },\n",
    "    },\n",
    "    \"solar_dict\": {\"hindcast\": None, \"forecast\": None},\n",
    "    \"seaweed_dict\": {\"hindcast\": None, \"forecast\": None},\n",
    "}\n",
    "\n",
    "objectiveConfig = {\"type\": \"nav\"}"
   ],
   "metadata": {
    "collapsed": false
   }
  },
  {
   "cell_type": "markdown",
   "source": [
    "## Controller Settings"
   ],
   "metadata": {
    "collapsed": false
   }
  },
  {
   "cell_type": "code",
   "execution_count": 4,
   "outputs": [],
   "source": [
    "t_max_planning_ahead_in_seconds = 3600*60 # that is 60h\n",
    "\n",
    "ctrl_config={  'T_goal_in_seconds': t_max_planning_ahead_in_seconds,\n",
    "              'accuracy': 'high',\n",
    "              'artificial_dissipation_scheme': 'local_local',\n",
    "              'ctrl_name': 'ocean_navigation_simulator.controllers.hj_planners.HJReach2DPlanner.HJReach2DPlanner',\n",
    "              'deg_around_xt_xT_box': 0.3,\n",
    "              'direction': 'multi-time-reach-back',\n",
    "              'grid_res': 0.005,\n",
    "              'n_time_vector': 100,\n",
    "              'obstacle_dict': {'obstacle_value': 1,\n",
    "                                'path_to_obstacle_file': 'ocean_navigation_simulator/package_data/bathymetry_and_garbage/bathymetry_distance_res_0.004_max_elevation_0_northern_california.nc',\n",
    "                                'safe_distance_to_obstacle': 0},\n",
    "              'progress_bar': True,\n",
    "              'replan_every_X_seconds': None,\n",
    "              'replan_on_new_fmrc': True,\n",
    "               'calc_opt_traj_after_planning': True,\n",
    "              'use_geographic_coordinate_system': True}"
   ],
   "metadata": {
    "collapsed": false,
    "ExecuteTime": {
     "start_time": "2023-05-02T19:41:46.734043Z",
     "end_time": "2023-05-02T19:41:46.741935Z"
    }
   }
  },
  {
   "cell_type": "markdown",
   "source": [
    "## Mission Setting (Start -> Target Region)"
   ],
   "metadata": {
    "collapsed": false
   }
  },
  {
   "cell_type": "code",
   "execution_count": 5,
   "outputs": [
    {
     "name": "stdout",
     "output_type": "stream",
     "text": [
      "current UTC datetime is:  2023-05-02 19:41:47.723078\n"
     ]
    }
   ],
   "source": [
    "print(\"current UTC datetime is: \", datetime.datetime.now())\n",
    "\n",
    "start_time = \"2023-05-03T10:00:00+00:00\"  # in UTC\n",
    "OB_point = {\"lat\": 37.738160, \"lon\": -122.545469}\n",
    "HMB_point = {\"lat\": 37.482812, \"lon\": -122.531450}\n",
    "\n",
    "x_0_dict = {\"date_time\": start_time}\n",
    "x_0_dict.update(HMB_point)\n",
    "\n",
    "missionConfig = {\n",
    "    \"target_radius\": 0.02,  # in degrees\n",
    "    \"x_0\": [x_0_dict],  # the start position and time\n",
    "    \"x_T\": OB_point,  # the target position\n",
    "}"
   ],
   "metadata": {
    "collapsed": false,
    "ExecuteTime": {
     "start_time": "2023-05-02T19:41:47.725325Z",
     "end_time": "2023-05-02T19:41:47.733425Z"
    }
   }
  },
  {
   "cell_type": "code",
   "execution_count": 6,
   "outputs": [
    {
     "name": "stdout",
     "output_type": "stream",
     "text": [
      "Starting to connect to c3\n"
     ]
    },
    {
     "name": "stderr",
     "output_type": "stream",
     "text": [
      "Only 2/8 files in the database for noaa, forecast, Region 1 and t_0=2023-05-01 23:00:00+00:00 and t_T=2023-05-09 12:00:00+00:00: \n",
      "- nos.wcofs.regulargrid.f003-f072.20230501.t03z.nc\n",
      "- nos.wcofs.regulargrid.f003-f072.20230502.t03z.nc\n",
      "100%|██████████| 2/2 [00:00<00:00, 95.51it/s]\n"
     ]
    },
    {
     "data": {
      "text/plain": "['data/noaa_forecast_files/nos.wcofs.regulargrid.f003-f072.20230501.t03z.nc',\n 'data/noaa_forecast_files/nos.wcofs.regulargrid.f003-f072.20230502.t03z.nc']"
     },
     "execution_count": 6,
     "metadata": {},
     "output_type": "execute_result"
    }
   ],
   "source": [
    "point_to_check = SpatioTemporalPoint.from_dict(missionConfig['x_0'][0])\n",
    "t_interval = [point_to_check.date_time - datetime.timedelta(hours=35),\n",
    "              point_to_check.date_time + datetime.timedelta(\n",
    "                  seconds=simulation_timeout\n",
    "                          + arena_config['casadi_cache_dict'][\n",
    "                      'time_around_x_t'] + 7200)]\n",
    "\n",
    "# Note: it connects to C3 and downloads the relevant forecast files to the local repo\n",
    "ArenaFactory.download_required_files(\n",
    "        archive_source = arena_config['ocean_dict']['forecast']['source_settings']['source'],\n",
    "        archive_type = arena_config['ocean_dict']['forecast']['source_settings']['type'],\n",
    "        download_folder=arena_config['ocean_dict']['forecast']['source_settings']['folder'],\n",
    "        t_interval = t_interval,\n",
    "        region= arena_config['ocean_dict']['region'],\n",
    "        points= [point_to_check])"
   ],
   "metadata": {
    "collapsed": false,
    "ExecuteTime": {
     "start_time": "2023-05-02T19:41:48.599619Z",
     "end_time": "2023-05-02T19:41:56.370932Z"
    }
   }
  },
  {
   "cell_type": "code",
   "execution_count": 7,
   "metadata": {
    "collapsed": true,
    "ExecuteTime": {
     "start_time": "2023-05-02T19:41:59.680264Z",
     "end_time": "2023-05-02T19:45:58.550468Z"
    }
   },
   "outputs": [
    {
     "name": "stderr",
     "output_type": "stream",
     "text": [
      "INFO:arena.platform:Platform: Set Dynamics F_x_next Function (0.0s)\n",
      "INFO:arena.platform:Platform: Update Casadi + Dynamics (7.5s)\n",
      "WARNING:arena:Arena: Hindcast Ocean Source does not have x, y grid. Not checking if inside.\n"
     ]
    }
   ],
   "source": [
    "# Step 0: Create Constructor object which contains arena, problem, controller\n",
    "constructor = Constructor(\n",
    "    arena_conf=arena_config,\n",
    "    mission_conf=missionConfig,\n",
    "    objective_conf=objectiveConfig,\n",
    "    ctrl_conf=ctrl_config,\n",
    "    observer_conf={\"observer\": None},\n",
    "    timeout_in_sec=simulation_timeout,\n",
    "    throw_exceptions=False,\n",
    ")\n",
    "\n",
    "# Step 1.1 Retrieve problem\n",
    "problem = constructor.problem\n",
    "\n",
    "# Step 1.2: Retrieve arena\n",
    "arena = constructor.arena\n",
    "observation = arena.reset(platform_state=problem.start_state)\n",
    "problem_status = arena.problem_status(problem=problem)\n",
    "\n",
    "# Step 2: Retrieve Controller\n",
    "controller = constructor.controller"
   ]
  },
  {
   "cell_type": "markdown",
   "source": [
    "# Run Planning on Forecasts and Visualizing the plan if FC are accurate"
   ],
   "metadata": {
    "collapsed": false
   }
  },
  {
   "cell_type": "code",
   "execution_count": 8,
   "outputs": [
    {
     "name": "stderr",
     "output_type": "stream",
     "text": [
      "INFO:arena.controller:HJPlannerBase: Planning because of new forecast (Old: None, New: 2023-05-02 06:00:00+00:00)\n",
      "WARNING:arena.ocean_field.ocean_source:The requested final time is not part of the subset (requested: [2023-05-03 10:00:00+00:00, 2023-05-05 22:00:00+00:00]). (files: x_range: [-145.38, -112.1], y_range: [18.42, 55.78], t_range:['2023-05-02 06-00-00', '2023-05-05 03-00-00'])\n"
     ]
    },
    {
     "ename": "FileNotFoundError",
     "evalue": "[Errno 2] No such file or directory: b'/Volumes/Data/2_Work/2_Graduate_Research/1_Seaweed/OceanPlatformControl/scripts/RealOceanRun/ocean_navigation_simulator/package_data/bathymetry_and_garbage/bathymetry_distance_res_0.004_max_elevation_0_northern_california.nc'",
     "output_type": "error",
     "traceback": [
      "\u001B[0;31m---------------------------------------------------------------------------\u001B[0m",
      "\u001B[0;31mKeyError\u001B[0m                                  Traceback (most recent call last)",
      "\u001B[0;32m~/opt/anaconda3/envs/ocean_platform/lib/python3.9/site-packages/xarray/backends/file_manager.py\u001B[0m in \u001B[0;36m_acquire_with_cache_info\u001B[0;34m(self, needs_lock)\u001B[0m\n\u001B[1;32m    208\u001B[0m             \u001B[0;32mtry\u001B[0m\u001B[0;34m:\u001B[0m\u001B[0;34m\u001B[0m\u001B[0;34m\u001B[0m\u001B[0m\n\u001B[0;32m--> 209\u001B[0;31m                 \u001B[0mfile\u001B[0m \u001B[0;34m=\u001B[0m \u001B[0mself\u001B[0m\u001B[0;34m.\u001B[0m\u001B[0m_cache\u001B[0m\u001B[0;34m[\u001B[0m\u001B[0mself\u001B[0m\u001B[0;34m.\u001B[0m\u001B[0m_key\u001B[0m\u001B[0;34m]\u001B[0m\u001B[0;34m\u001B[0m\u001B[0;34m\u001B[0m\u001B[0m\n\u001B[0m\u001B[1;32m    210\u001B[0m             \u001B[0;32mexcept\u001B[0m \u001B[0mKeyError\u001B[0m\u001B[0;34m:\u001B[0m\u001B[0;34m\u001B[0m\u001B[0;34m\u001B[0m\u001B[0m\n",
      "\u001B[0;32m~/opt/anaconda3/envs/ocean_platform/lib/python3.9/site-packages/xarray/backends/lru_cache.py\u001B[0m in \u001B[0;36m__getitem__\u001B[0;34m(self, key)\u001B[0m\n\u001B[1;32m     54\u001B[0m         \u001B[0;32mwith\u001B[0m \u001B[0mself\u001B[0m\u001B[0;34m.\u001B[0m\u001B[0m_lock\u001B[0m\u001B[0;34m:\u001B[0m\u001B[0;34m\u001B[0m\u001B[0;34m\u001B[0m\u001B[0m\n\u001B[0;32m---> 55\u001B[0;31m             \u001B[0mvalue\u001B[0m \u001B[0;34m=\u001B[0m \u001B[0mself\u001B[0m\u001B[0;34m.\u001B[0m\u001B[0m_cache\u001B[0m\u001B[0;34m[\u001B[0m\u001B[0mkey\u001B[0m\u001B[0;34m]\u001B[0m\u001B[0;34m\u001B[0m\u001B[0;34m\u001B[0m\u001B[0m\n\u001B[0m\u001B[1;32m     56\u001B[0m             \u001B[0mself\u001B[0m\u001B[0;34m.\u001B[0m\u001B[0m_cache\u001B[0m\u001B[0;34m.\u001B[0m\u001B[0mmove_to_end\u001B[0m\u001B[0;34m(\u001B[0m\u001B[0mkey\u001B[0m\u001B[0;34m)\u001B[0m\u001B[0;34m\u001B[0m\u001B[0;34m\u001B[0m\u001B[0m\n",
      "\u001B[0;31mKeyError\u001B[0m: [<class 'netCDF4._netCDF4.Dataset'>, ('/Volumes/Data/2_Work/2_Graduate_Research/1_Seaweed/OceanPlatformControl/scripts/RealOceanRun/ocean_navigation_simulator/package_data/bathymetry_and_garbage/bathymetry_distance_res_0.004_max_elevation_0_northern_california.nc',), 'r', (('clobber', True), ('diskless', False), ('format', 'NETCDF4'), ('persist', False)), '1a1c4776-b77a-4543-93da-3daa28442e0c']",
      "\nDuring handling of the above exception, another exception occurred:\n",
      "\u001B[0;31mFileNotFoundError\u001B[0m                         Traceback (most recent call last)",
      "\u001B[0;32m/var/folders/6j/d913qg5j2zx3h1r_v0ntd7bw0000gn/T/ipykernel_21585/429783138.py\u001B[0m in \u001B[0;36m<module>\u001B[0;34m\u001B[0m\n\u001B[1;32m      1\u001B[0m \u001B[0;31m#% Run first planning\u001B[0m\u001B[0;34m\u001B[0m\u001B[0;34m\u001B[0m\u001B[0m\n\u001B[0;32m----> 2\u001B[0;31m \u001B[0maction\u001B[0m \u001B[0;34m=\u001B[0m \u001B[0mcontroller\u001B[0m\u001B[0;34m.\u001B[0m\u001B[0mget_action\u001B[0m\u001B[0;34m(\u001B[0m\u001B[0mobservation\u001B[0m\u001B[0;34m=\u001B[0m\u001B[0mobservation\u001B[0m\u001B[0;34m)\u001B[0m\u001B[0;34m\u001B[0m\u001B[0;34m\u001B[0m\u001B[0m\n\u001B[0m",
      "\u001B[0;32m/Volumes/Data/2_Work/2_Graduate_Research/1_Seaweed/OceanPlatformControl/ocean_navigation_simulator/controllers/hj_planners/HJPlannerBase.py\u001B[0m in \u001B[0;36mget_action\u001B[0;34m(self, observation)\u001B[0m\n\u001B[1;32m    158\u001B[0m         \"\"\"\n\u001B[1;32m    159\u001B[0m         \u001B[0;31m# Step 1: Check if we should re-plan based on specified criteria\u001B[0m\u001B[0;34m\u001B[0m\u001B[0;34m\u001B[0m\u001B[0m\n\u001B[0;32m--> 160\u001B[0;31m         \u001B[0mself\u001B[0m\u001B[0;34m.\u001B[0m\u001B[0mreplan_if_necessary\u001B[0m\u001B[0;34m(\u001B[0m\u001B[0mobservation\u001B[0m\u001B[0;34m)\u001B[0m\u001B[0;34m\u001B[0m\u001B[0;34m\u001B[0m\u001B[0m\n\u001B[0m\u001B[1;32m    161\u001B[0m \u001B[0;34m\u001B[0m\u001B[0m\n\u001B[1;32m    162\u001B[0m         \u001B[0;31m# Step 2: return the action from the plan\u001B[0m\u001B[0;34m\u001B[0m\u001B[0;34m\u001B[0m\u001B[0m\n",
      "\u001B[0;32m/Volumes/Data/2_Work/2_Graduate_Research/1_Seaweed/OceanPlatformControl/ocean_navigation_simulator/controllers/hj_planners/HJPlannerBase.py\u001B[0m in \u001B[0;36mreplan_if_necessary\u001B[0;34m(self, observation)\u001B[0m\n\u001B[1;32m    178\u001B[0m                 \u001B[0mself\u001B[0m\u001B[0;34m.\u001B[0m\u001B[0mlast_data_source\u001B[0m \u001B[0;34m=\u001B[0m \u001B[0mobservation\u001B[0m\u001B[0;34m.\u001B[0m\u001B[0mforecast_data_source\u001B[0m\u001B[0;34m\u001B[0m\u001B[0;34m\u001B[0m\u001B[0m\n\u001B[1;32m    179\u001B[0m                 \u001B[0;31m# Update the data used in the HJ Reachability Planning\u001B[0m\u001B[0;34m\u001B[0m\u001B[0;34m\u001B[0m\u001B[0m\n\u001B[0;32m--> 180\u001B[0;31m                 \u001B[0mself\u001B[0m\u001B[0;34m.\u001B[0m\u001B[0m_update_current_data\u001B[0m\u001B[0;34m(\u001B[0m\u001B[0mobservation\u001B[0m\u001B[0;34m=\u001B[0m\u001B[0mobservation\u001B[0m\u001B[0;34m)\u001B[0m\u001B[0;34m\u001B[0m\u001B[0;34m\u001B[0m\u001B[0m\n\u001B[0m\u001B[1;32m    181\u001B[0m                 \u001B[0mself\u001B[0m\u001B[0;34m.\u001B[0m\u001B[0m_plan\u001B[0m\u001B[0;34m(\u001B[0m\u001B[0mobservation\u001B[0m\u001B[0;34m.\u001B[0m\u001B[0mplatform_state\u001B[0m\u001B[0;34m)\u001B[0m\u001B[0;34m\u001B[0m\u001B[0;34m\u001B[0m\u001B[0m\n\u001B[1;32m    182\u001B[0m                 \u001B[0mself\u001B[0m\u001B[0;34m.\u001B[0m\u001B[0mset_interpolator\u001B[0m\u001B[0;34m(\u001B[0m\u001B[0;34m)\u001B[0m\u001B[0;34m\u001B[0m\u001B[0;34m\u001B[0m\u001B[0m\n",
      "\u001B[0;32m/Volumes/Data/2_Work/2_Graduate_Research/1_Seaweed/OceanPlatformControl/ocean_navigation_simulator/controllers/hj_planners/HJPlannerBase.py\u001B[0m in \u001B[0;36m_update_current_data\u001B[0;34m(self, observation)\u001B[0m\n\u001B[1;32m    716\u001B[0m \u001B[0;34m\u001B[0m\u001B[0m\n\u001B[1;32m    717\u001B[0m         \u001B[0;31m# feed in the current data to the Platform classes\u001B[0m\u001B[0;34m\u001B[0m\u001B[0;34m\u001B[0m\u001B[0m\n\u001B[0;32m--> 718\u001B[0;31m         \u001B[0mself\u001B[0m\u001B[0;34m.\u001B[0m\u001B[0mnondim_dynamics\u001B[0m\u001B[0;34m.\u001B[0m\u001B[0mdimensional_dynamics\u001B[0m\u001B[0;34m.\u001B[0m\u001B[0mupdate_jax_interpolant\u001B[0m\u001B[0;34m(\u001B[0m\u001B[0mdata_xarray\u001B[0m\u001B[0;34m)\u001B[0m\u001B[0;34m\u001B[0m\u001B[0;34m\u001B[0m\u001B[0m\n\u001B[0m\u001B[1;32m    719\u001B[0m \u001B[0;34m\u001B[0m\u001B[0m\n\u001B[1;32m    720\u001B[0m         \u001B[0;31m# set absolute time in UTC Posix time\u001B[0m\u001B[0;34m\u001B[0m\u001B[0;34m\u001B[0m\u001B[0m\n",
      "\u001B[0;32m/Volumes/Data/2_Work/2_Graduate_Research/1_Seaweed/OceanPlatformControl/ocean_navigation_simulator/controllers/hj_planners/Platform2dObsForSim.py\u001B[0m in \u001B[0;36mupdate_jax_interpolant\u001B[0;34m(self, data_xarray)\u001B[0m\n\u001B[1;32m     51\u001B[0m         \"\"\"\n\u001B[1;32m     52\u001B[0m         \u001B[0msuper\u001B[0m\u001B[0;34m(\u001B[0m\u001B[0;34m)\u001B[0m\u001B[0;34m.\u001B[0m\u001B[0mupdate_jax_interpolant\u001B[0m\u001B[0;34m(\u001B[0m\u001B[0mdata_xarray\u001B[0m\u001B[0;34m)\u001B[0m\u001B[0;34m\u001B[0m\u001B[0;34m\u001B[0m\u001B[0m\n\u001B[0;32m---> 53\u001B[0;31m         \u001B[0mself\u001B[0m\u001B[0;34m.\u001B[0m\u001B[0mobstacle_array\u001B[0m \u001B[0;34m=\u001B[0m \u001B[0mself\u001B[0m\u001B[0;34m.\u001B[0m\u001B[0mcreate_obstacle_array\u001B[0m\u001B[0;34m(\u001B[0m\u001B[0mdata_xarray\u001B[0m\u001B[0;34m)\u001B[0m\u001B[0;34m\u001B[0m\u001B[0;34m\u001B[0m\u001B[0m\n\u001B[0m\u001B[1;32m     54\u001B[0m \u001B[0;34m\u001B[0m\u001B[0m\n\u001B[1;32m     55\u001B[0m     \u001B[0;32mdef\u001B[0m \u001B[0m__call__\u001B[0m\u001B[0;34m(\u001B[0m\u001B[0mself\u001B[0m\u001B[0;34m,\u001B[0m \u001B[0mstate\u001B[0m\u001B[0;34m,\u001B[0m \u001B[0mcontrol\u001B[0m\u001B[0;34m,\u001B[0m \u001B[0mdisturbance\u001B[0m\u001B[0;34m,\u001B[0m \u001B[0mtime\u001B[0m\u001B[0;34m)\u001B[0m\u001B[0;34m:\u001B[0m\u001B[0;34m\u001B[0m\u001B[0;34m\u001B[0m\u001B[0m\n",
      "\u001B[0;32m/Volumes/Data/2_Work/2_Graduate_Research/1_Seaweed/OceanPlatformControl/ocean_navigation_simulator/controllers/hj_planners/Platform2dObsForSim.py\u001B[0m in \u001B[0;36mcreate_obstacle_array\u001B[0;34m(self, data_xarray)\u001B[0m\n\u001B[1;32m     65\u001B[0m     \u001B[0;32mdef\u001B[0m \u001B[0mcreate_obstacle_array\u001B[0m\u001B[0;34m(\u001B[0m\u001B[0mself\u001B[0m\u001B[0;34m,\u001B[0m \u001B[0mdata_xarray\u001B[0m\u001B[0;34m)\u001B[0m\u001B[0;34m:\u001B[0m\u001B[0;34m\u001B[0m\u001B[0;34m\u001B[0m\u001B[0m\n\u001B[1;32m     66\u001B[0m         \u001B[0;34m\"\"\"Use path to file to load and set the obstacle array\"\"\"\u001B[0m\u001B[0;34m\u001B[0m\u001B[0;34m\u001B[0m\u001B[0m\n\u001B[0;32m---> 67\u001B[0;31m         \u001B[0mobstacle_ds\u001B[0m \u001B[0;34m=\u001B[0m \u001B[0mxr\u001B[0m\u001B[0;34m.\u001B[0m\u001B[0mopen_dataset\u001B[0m\u001B[0;34m(\u001B[0m\u001B[0mself\u001B[0m\u001B[0;34m.\u001B[0m\u001B[0mpath_to_obstacle_file\u001B[0m\u001B[0;34m)\u001B[0m\u001B[0;34m[\u001B[0m\u001B[0;34m\"distance\"\u001B[0m\u001B[0;34m]\u001B[0m\u001B[0;34m\u001B[0m\u001B[0;34m\u001B[0m\u001B[0m\n\u001B[0m\u001B[1;32m     68\u001B[0m         \u001B[0;31m# Fit to grid\u001B[0m\u001B[0;34m\u001B[0m\u001B[0;34m\u001B[0m\u001B[0m\n\u001B[1;32m     69\u001B[0m         \u001B[0mobstacle_array\u001B[0m \u001B[0;34m=\u001B[0m \u001B[0mobstacle_ds\u001B[0m\u001B[0;34m.\u001B[0m\u001B[0minterp_like\u001B[0m\u001B[0;34m(\u001B[0m\u001B[0mdata_xarray\u001B[0m\u001B[0;34m)\u001B[0m\u001B[0;34m\u001B[0m\u001B[0;34m\u001B[0m\u001B[0m\n",
      "\u001B[0;32m~/opt/anaconda3/envs/ocean_platform/lib/python3.9/site-packages/xarray/backends/api.py\u001B[0m in \u001B[0;36mopen_dataset\u001B[0;34m(filename_or_obj, engine, chunks, cache, decode_cf, mask_and_scale, decode_times, decode_timedelta, use_cftime, concat_characters, decode_coords, drop_variables, inline_array, backend_kwargs, **kwargs)\u001B[0m\n\u001B[1;32m    539\u001B[0m \u001B[0;34m\u001B[0m\u001B[0m\n\u001B[1;32m    540\u001B[0m     \u001B[0moverwrite_encoded_chunks\u001B[0m \u001B[0;34m=\u001B[0m \u001B[0mkwargs\u001B[0m\u001B[0;34m.\u001B[0m\u001B[0mpop\u001B[0m\u001B[0;34m(\u001B[0m\u001B[0;34m\"overwrite_encoded_chunks\"\u001B[0m\u001B[0;34m,\u001B[0m \u001B[0;32mNone\u001B[0m\u001B[0;34m)\u001B[0m\u001B[0;34m\u001B[0m\u001B[0;34m\u001B[0m\u001B[0m\n\u001B[0;32m--> 541\u001B[0;31m     backend_ds = backend.open_dataset(\n\u001B[0m\u001B[1;32m    542\u001B[0m         \u001B[0mfilename_or_obj\u001B[0m\u001B[0;34m,\u001B[0m\u001B[0;34m\u001B[0m\u001B[0;34m\u001B[0m\u001B[0m\n\u001B[1;32m    543\u001B[0m         \u001B[0mdrop_variables\u001B[0m\u001B[0;34m=\u001B[0m\u001B[0mdrop_variables\u001B[0m\u001B[0;34m,\u001B[0m\u001B[0;34m\u001B[0m\u001B[0;34m\u001B[0m\u001B[0m\n",
      "\u001B[0;32m~/opt/anaconda3/envs/ocean_platform/lib/python3.9/site-packages/xarray/backends/netCDF4_.py\u001B[0m in \u001B[0;36mopen_dataset\u001B[0;34m(self, filename_or_obj, mask_and_scale, decode_times, concat_characters, decode_coords, drop_variables, use_cftime, decode_timedelta, group, mode, format, clobber, diskless, persist, lock, autoclose)\u001B[0m\n\u001B[1;32m    576\u001B[0m \u001B[0;34m\u001B[0m\u001B[0m\n\u001B[1;32m    577\u001B[0m         \u001B[0mfilename_or_obj\u001B[0m \u001B[0;34m=\u001B[0m \u001B[0m_normalize_path\u001B[0m\u001B[0;34m(\u001B[0m\u001B[0mfilename_or_obj\u001B[0m\u001B[0;34m)\u001B[0m\u001B[0;34m\u001B[0m\u001B[0;34m\u001B[0m\u001B[0m\n\u001B[0;32m--> 578\u001B[0;31m         store = NetCDF4DataStore.open(\n\u001B[0m\u001B[1;32m    579\u001B[0m             \u001B[0mfilename_or_obj\u001B[0m\u001B[0;34m,\u001B[0m\u001B[0;34m\u001B[0m\u001B[0;34m\u001B[0m\u001B[0m\n\u001B[1;32m    580\u001B[0m             \u001B[0mmode\u001B[0m\u001B[0;34m=\u001B[0m\u001B[0mmode\u001B[0m\u001B[0;34m,\u001B[0m\u001B[0;34m\u001B[0m\u001B[0;34m\u001B[0m\u001B[0m\n",
      "\u001B[0;32m~/opt/anaconda3/envs/ocean_platform/lib/python3.9/site-packages/xarray/backends/netCDF4_.py\u001B[0m in \u001B[0;36mopen\u001B[0;34m(cls, filename, mode, format, group, clobber, diskless, persist, lock, lock_maker, autoclose)\u001B[0m\n\u001B[1;32m    380\u001B[0m             \u001B[0mnetCDF4\u001B[0m\u001B[0;34m.\u001B[0m\u001B[0mDataset\u001B[0m\u001B[0;34m,\u001B[0m \u001B[0mfilename\u001B[0m\u001B[0;34m,\u001B[0m \u001B[0mmode\u001B[0m\u001B[0;34m=\u001B[0m\u001B[0mmode\u001B[0m\u001B[0;34m,\u001B[0m \u001B[0mkwargs\u001B[0m\u001B[0;34m=\u001B[0m\u001B[0mkwargs\u001B[0m\u001B[0;34m\u001B[0m\u001B[0;34m\u001B[0m\u001B[0m\n\u001B[1;32m    381\u001B[0m         )\n\u001B[0;32m--> 382\u001B[0;31m         \u001B[0;32mreturn\u001B[0m \u001B[0mcls\u001B[0m\u001B[0;34m(\u001B[0m\u001B[0mmanager\u001B[0m\u001B[0;34m,\u001B[0m \u001B[0mgroup\u001B[0m\u001B[0;34m=\u001B[0m\u001B[0mgroup\u001B[0m\u001B[0;34m,\u001B[0m \u001B[0mmode\u001B[0m\u001B[0;34m=\u001B[0m\u001B[0mmode\u001B[0m\u001B[0;34m,\u001B[0m \u001B[0mlock\u001B[0m\u001B[0;34m=\u001B[0m\u001B[0mlock\u001B[0m\u001B[0;34m,\u001B[0m \u001B[0mautoclose\u001B[0m\u001B[0;34m=\u001B[0m\u001B[0mautoclose\u001B[0m\u001B[0;34m)\u001B[0m\u001B[0;34m\u001B[0m\u001B[0;34m\u001B[0m\u001B[0m\n\u001B[0m\u001B[1;32m    383\u001B[0m \u001B[0;34m\u001B[0m\u001B[0m\n\u001B[1;32m    384\u001B[0m     \u001B[0;32mdef\u001B[0m \u001B[0m_acquire\u001B[0m\u001B[0;34m(\u001B[0m\u001B[0mself\u001B[0m\u001B[0;34m,\u001B[0m \u001B[0mneeds_lock\u001B[0m\u001B[0;34m=\u001B[0m\u001B[0;32mTrue\u001B[0m\u001B[0;34m)\u001B[0m\u001B[0;34m:\u001B[0m\u001B[0;34m\u001B[0m\u001B[0;34m\u001B[0m\u001B[0m\n",
      "\u001B[0;32m~/opt/anaconda3/envs/ocean_platform/lib/python3.9/site-packages/xarray/backends/netCDF4_.py\u001B[0m in \u001B[0;36m__init__\u001B[0;34m(self, manager, group, mode, lock, autoclose)\u001B[0m\n\u001B[1;32m    327\u001B[0m         \u001B[0mself\u001B[0m\u001B[0;34m.\u001B[0m\u001B[0m_group\u001B[0m \u001B[0;34m=\u001B[0m \u001B[0mgroup\u001B[0m\u001B[0;34m\u001B[0m\u001B[0;34m\u001B[0m\u001B[0m\n\u001B[1;32m    328\u001B[0m         \u001B[0mself\u001B[0m\u001B[0;34m.\u001B[0m\u001B[0m_mode\u001B[0m \u001B[0;34m=\u001B[0m \u001B[0mmode\u001B[0m\u001B[0;34m\u001B[0m\u001B[0;34m\u001B[0m\u001B[0m\n\u001B[0;32m--> 329\u001B[0;31m         \u001B[0mself\u001B[0m\u001B[0;34m.\u001B[0m\u001B[0mformat\u001B[0m \u001B[0;34m=\u001B[0m \u001B[0mself\u001B[0m\u001B[0;34m.\u001B[0m\u001B[0mds\u001B[0m\u001B[0;34m.\u001B[0m\u001B[0mdata_model\u001B[0m\u001B[0;34m\u001B[0m\u001B[0;34m\u001B[0m\u001B[0m\n\u001B[0m\u001B[1;32m    330\u001B[0m         \u001B[0mself\u001B[0m\u001B[0;34m.\u001B[0m\u001B[0m_filename\u001B[0m \u001B[0;34m=\u001B[0m \u001B[0mself\u001B[0m\u001B[0;34m.\u001B[0m\u001B[0mds\u001B[0m\u001B[0;34m.\u001B[0m\u001B[0mfilepath\u001B[0m\u001B[0;34m(\u001B[0m\u001B[0;34m)\u001B[0m\u001B[0;34m\u001B[0m\u001B[0;34m\u001B[0m\u001B[0m\n\u001B[1;32m    331\u001B[0m         \u001B[0mself\u001B[0m\u001B[0;34m.\u001B[0m\u001B[0mis_remote\u001B[0m \u001B[0;34m=\u001B[0m \u001B[0mis_remote_uri\u001B[0m\u001B[0;34m(\u001B[0m\u001B[0mself\u001B[0m\u001B[0;34m.\u001B[0m\u001B[0m_filename\u001B[0m\u001B[0;34m)\u001B[0m\u001B[0;34m\u001B[0m\u001B[0;34m\u001B[0m\u001B[0m\n",
      "\u001B[0;32m~/opt/anaconda3/envs/ocean_platform/lib/python3.9/site-packages/xarray/backends/netCDF4_.py\u001B[0m in \u001B[0;36mds\u001B[0;34m(self)\u001B[0m\n\u001B[1;32m    389\u001B[0m     \u001B[0;34m@\u001B[0m\u001B[0mproperty\u001B[0m\u001B[0;34m\u001B[0m\u001B[0;34m\u001B[0m\u001B[0m\n\u001B[1;32m    390\u001B[0m     \u001B[0;32mdef\u001B[0m \u001B[0mds\u001B[0m\u001B[0;34m(\u001B[0m\u001B[0mself\u001B[0m\u001B[0;34m)\u001B[0m\u001B[0;34m:\u001B[0m\u001B[0;34m\u001B[0m\u001B[0;34m\u001B[0m\u001B[0m\n\u001B[0;32m--> 391\u001B[0;31m         \u001B[0;32mreturn\u001B[0m \u001B[0mself\u001B[0m\u001B[0;34m.\u001B[0m\u001B[0m_acquire\u001B[0m\u001B[0;34m(\u001B[0m\u001B[0;34m)\u001B[0m\u001B[0;34m\u001B[0m\u001B[0;34m\u001B[0m\u001B[0m\n\u001B[0m\u001B[1;32m    392\u001B[0m \u001B[0;34m\u001B[0m\u001B[0m\n\u001B[1;32m    393\u001B[0m     \u001B[0;32mdef\u001B[0m \u001B[0mopen_store_variable\u001B[0m\u001B[0;34m(\u001B[0m\u001B[0mself\u001B[0m\u001B[0;34m,\u001B[0m \u001B[0mname\u001B[0m\u001B[0;34m,\u001B[0m \u001B[0mvar\u001B[0m\u001B[0;34m)\u001B[0m\u001B[0;34m:\u001B[0m\u001B[0;34m\u001B[0m\u001B[0;34m\u001B[0m\u001B[0m\n",
      "\u001B[0;32m~/opt/anaconda3/envs/ocean_platform/lib/python3.9/site-packages/xarray/backends/netCDF4_.py\u001B[0m in \u001B[0;36m_acquire\u001B[0;34m(self, needs_lock)\u001B[0m\n\u001B[1;32m    383\u001B[0m \u001B[0;34m\u001B[0m\u001B[0m\n\u001B[1;32m    384\u001B[0m     \u001B[0;32mdef\u001B[0m \u001B[0m_acquire\u001B[0m\u001B[0;34m(\u001B[0m\u001B[0mself\u001B[0m\u001B[0;34m,\u001B[0m \u001B[0mneeds_lock\u001B[0m\u001B[0;34m=\u001B[0m\u001B[0;32mTrue\u001B[0m\u001B[0;34m)\u001B[0m\u001B[0;34m:\u001B[0m\u001B[0;34m\u001B[0m\u001B[0;34m\u001B[0m\u001B[0m\n\u001B[0;32m--> 385\u001B[0;31m         \u001B[0;32mwith\u001B[0m \u001B[0mself\u001B[0m\u001B[0;34m.\u001B[0m\u001B[0m_manager\u001B[0m\u001B[0;34m.\u001B[0m\u001B[0macquire_context\u001B[0m\u001B[0;34m(\u001B[0m\u001B[0mneeds_lock\u001B[0m\u001B[0;34m)\u001B[0m \u001B[0;32mas\u001B[0m \u001B[0mroot\u001B[0m\u001B[0;34m:\u001B[0m\u001B[0;34m\u001B[0m\u001B[0;34m\u001B[0m\u001B[0m\n\u001B[0m\u001B[1;32m    386\u001B[0m             \u001B[0mds\u001B[0m \u001B[0;34m=\u001B[0m \u001B[0m_nc4_require_group\u001B[0m\u001B[0;34m(\u001B[0m\u001B[0mroot\u001B[0m\u001B[0;34m,\u001B[0m \u001B[0mself\u001B[0m\u001B[0;34m.\u001B[0m\u001B[0m_group\u001B[0m\u001B[0;34m,\u001B[0m \u001B[0mself\u001B[0m\u001B[0;34m.\u001B[0m\u001B[0m_mode\u001B[0m\u001B[0;34m)\u001B[0m\u001B[0;34m\u001B[0m\u001B[0;34m\u001B[0m\u001B[0m\n\u001B[1;32m    387\u001B[0m         \u001B[0;32mreturn\u001B[0m \u001B[0mds\u001B[0m\u001B[0;34m\u001B[0m\u001B[0;34m\u001B[0m\u001B[0m\n",
      "\u001B[0;32m~/opt/anaconda3/envs/ocean_platform/lib/python3.9/contextlib.py\u001B[0m in \u001B[0;36m__enter__\u001B[0;34m(self)\u001B[0m\n\u001B[1;32m    117\u001B[0m         \u001B[0;32mdel\u001B[0m \u001B[0mself\u001B[0m\u001B[0;34m.\u001B[0m\u001B[0margs\u001B[0m\u001B[0;34m,\u001B[0m \u001B[0mself\u001B[0m\u001B[0;34m.\u001B[0m\u001B[0mkwds\u001B[0m\u001B[0;34m,\u001B[0m \u001B[0mself\u001B[0m\u001B[0;34m.\u001B[0m\u001B[0mfunc\u001B[0m\u001B[0;34m\u001B[0m\u001B[0;34m\u001B[0m\u001B[0m\n\u001B[1;32m    118\u001B[0m         \u001B[0;32mtry\u001B[0m\u001B[0;34m:\u001B[0m\u001B[0;34m\u001B[0m\u001B[0;34m\u001B[0m\u001B[0m\n\u001B[0;32m--> 119\u001B[0;31m             \u001B[0;32mreturn\u001B[0m \u001B[0mnext\u001B[0m\u001B[0;34m(\u001B[0m\u001B[0mself\u001B[0m\u001B[0;34m.\u001B[0m\u001B[0mgen\u001B[0m\u001B[0;34m)\u001B[0m\u001B[0;34m\u001B[0m\u001B[0;34m\u001B[0m\u001B[0m\n\u001B[0m\u001B[1;32m    120\u001B[0m         \u001B[0;32mexcept\u001B[0m \u001B[0mStopIteration\u001B[0m\u001B[0;34m:\u001B[0m\u001B[0;34m\u001B[0m\u001B[0;34m\u001B[0m\u001B[0m\n\u001B[1;32m    121\u001B[0m             \u001B[0;32mraise\u001B[0m \u001B[0mRuntimeError\u001B[0m\u001B[0;34m(\u001B[0m\u001B[0;34m\"generator didn't yield\"\u001B[0m\u001B[0;34m)\u001B[0m \u001B[0;32mfrom\u001B[0m \u001B[0;32mNone\u001B[0m\u001B[0;34m\u001B[0m\u001B[0;34m\u001B[0m\u001B[0m\n",
      "\u001B[0;32m~/opt/anaconda3/envs/ocean_platform/lib/python3.9/site-packages/xarray/backends/file_manager.py\u001B[0m in \u001B[0;36macquire_context\u001B[0;34m(self, needs_lock)\u001B[0m\n\u001B[1;32m    195\u001B[0m     \u001B[0;32mdef\u001B[0m \u001B[0macquire_context\u001B[0m\u001B[0;34m(\u001B[0m\u001B[0mself\u001B[0m\u001B[0;34m,\u001B[0m \u001B[0mneeds_lock\u001B[0m\u001B[0;34m=\u001B[0m\u001B[0;32mTrue\u001B[0m\u001B[0;34m)\u001B[0m\u001B[0;34m:\u001B[0m\u001B[0;34m\u001B[0m\u001B[0;34m\u001B[0m\u001B[0m\n\u001B[1;32m    196\u001B[0m         \u001B[0;34m\"\"\"Context manager for acquiring a file.\"\"\"\u001B[0m\u001B[0;34m\u001B[0m\u001B[0;34m\u001B[0m\u001B[0m\n\u001B[0;32m--> 197\u001B[0;31m         \u001B[0mfile\u001B[0m\u001B[0;34m,\u001B[0m \u001B[0mcached\u001B[0m \u001B[0;34m=\u001B[0m \u001B[0mself\u001B[0m\u001B[0;34m.\u001B[0m\u001B[0m_acquire_with_cache_info\u001B[0m\u001B[0;34m(\u001B[0m\u001B[0mneeds_lock\u001B[0m\u001B[0;34m)\u001B[0m\u001B[0;34m\u001B[0m\u001B[0;34m\u001B[0m\u001B[0m\n\u001B[0m\u001B[1;32m    198\u001B[0m         \u001B[0;32mtry\u001B[0m\u001B[0;34m:\u001B[0m\u001B[0;34m\u001B[0m\u001B[0;34m\u001B[0m\u001B[0m\n\u001B[1;32m    199\u001B[0m             \u001B[0;32myield\u001B[0m \u001B[0mfile\u001B[0m\u001B[0;34m\u001B[0m\u001B[0;34m\u001B[0m\u001B[0m\n",
      "\u001B[0;32m~/opt/anaconda3/envs/ocean_platform/lib/python3.9/site-packages/xarray/backends/file_manager.py\u001B[0m in \u001B[0;36m_acquire_with_cache_info\u001B[0;34m(self, needs_lock)\u001B[0m\n\u001B[1;32m    213\u001B[0m                     \u001B[0mkwargs\u001B[0m \u001B[0;34m=\u001B[0m \u001B[0mkwargs\u001B[0m\u001B[0;34m.\u001B[0m\u001B[0mcopy\u001B[0m\u001B[0;34m(\u001B[0m\u001B[0;34m)\u001B[0m\u001B[0;34m\u001B[0m\u001B[0;34m\u001B[0m\u001B[0m\n\u001B[1;32m    214\u001B[0m                     \u001B[0mkwargs\u001B[0m\u001B[0;34m[\u001B[0m\u001B[0;34m\"mode\"\u001B[0m\u001B[0;34m]\u001B[0m \u001B[0;34m=\u001B[0m \u001B[0mself\u001B[0m\u001B[0;34m.\u001B[0m\u001B[0m_mode\u001B[0m\u001B[0;34m\u001B[0m\u001B[0;34m\u001B[0m\u001B[0m\n\u001B[0;32m--> 215\u001B[0;31m                 \u001B[0mfile\u001B[0m \u001B[0;34m=\u001B[0m \u001B[0mself\u001B[0m\u001B[0;34m.\u001B[0m\u001B[0m_opener\u001B[0m\u001B[0;34m(\u001B[0m\u001B[0;34m*\u001B[0m\u001B[0mself\u001B[0m\u001B[0;34m.\u001B[0m\u001B[0m_args\u001B[0m\u001B[0;34m,\u001B[0m \u001B[0;34m**\u001B[0m\u001B[0mkwargs\u001B[0m\u001B[0;34m)\u001B[0m\u001B[0;34m\u001B[0m\u001B[0;34m\u001B[0m\u001B[0m\n\u001B[0m\u001B[1;32m    216\u001B[0m                 \u001B[0;32mif\u001B[0m \u001B[0mself\u001B[0m\u001B[0;34m.\u001B[0m\u001B[0m_mode\u001B[0m \u001B[0;34m==\u001B[0m \u001B[0;34m\"w\"\u001B[0m\u001B[0;34m:\u001B[0m\u001B[0;34m\u001B[0m\u001B[0;34m\u001B[0m\u001B[0m\n\u001B[1;32m    217\u001B[0m                     \u001B[0;31m# ensure file doesn't get overridden when opened again\u001B[0m\u001B[0;34m\u001B[0m\u001B[0;34m\u001B[0m\u001B[0m\n",
      "\u001B[0;32msrc/netCDF4/_netCDF4.pyx\u001B[0m in \u001B[0;36mnetCDF4._netCDF4.Dataset.__init__\u001B[0;34m()\u001B[0m\n",
      "\u001B[0;32msrc/netCDF4/_netCDF4.pyx\u001B[0m in \u001B[0;36mnetCDF4._netCDF4._ensure_nc_success\u001B[0;34m()\u001B[0m\n",
      "\u001B[0;31mFileNotFoundError\u001B[0m: [Errno 2] No such file or directory: b'/Volumes/Data/2_Work/2_Graduate_Research/1_Seaweed/OceanPlatformControl/scripts/RealOceanRun/ocean_navigation_simulator/package_data/bathymetry_and_garbage/bathymetry_distance_res_0.004_max_elevation_0_northern_california.nc'"
     ]
    }
   ],
   "source": [
    "#% Run first planning\n",
    "action = controller.get_action(observation=observation)"
   ],
   "metadata": {
    "collapsed": false
   }
  },
  {
   "cell_type": "code",
   "execution_count": null,
   "outputs": [],
   "source": [
    "# Visualize plan if forecast is accurate\n",
    "ax = controller.plot_reachability_snapshot(\n",
    "    rel_time_in_seconds=0,\n",
    "    granularity_in_h=5,\n",
    "    alpha_color=1,\n",
    "    time_to_reach=True,\n",
    "    fig_size_inches=(12, 12),\n",
    "    plot_in_h=True,\n",
    "    return_ax=True,\n",
    ")\n",
    "\n",
    "# problem.plot(ax=ax)\n",
    "ax.plot(controller.x_traj[0, :], controller.x_traj[1, :], color='k', label=\"State Trajectory\", linewidth=2)\n",
    "ctrl_stride = 5\n",
    "u_vec = controller.contr_seq[0, ::ctrl_stride] * np.cos(controller.contr_seq[1, ::ctrl_stride])\n",
    "v_vec = controller.contr_seq[0, ::ctrl_stride] * np.sin(controller.contr_seq[1, ::ctrl_stride])\n",
    "ax.quiver(\n",
    "    controller.x_traj[0, :-1:ctrl_stride],\n",
    "    controller.x_traj[1, :-1:ctrl_stride],\n",
    "    u_vec,\n",
    "    v_vec,\n",
    "    color='magenta',\n",
    "    scale=15,\n",
    "    angles=\"xy\",\n",
    "    label=\"Control Inputs\",\n",
    ")\n",
    "plt.show()"
   ],
   "metadata": {
    "collapsed": false
   }
  },
  {
   "cell_type": "code",
   "execution_count": null,
   "outputs": [],
   "source": [
    "# Further animations of the value function\n",
    "# controller.animate_value_func_3D()\n",
    "#%\n",
    "# controller.plot_reachability_snapshot_over_currents(rel_time_in_seconds=0, granularity_in_h=5, time_to_reach=False)\n",
    "# controller.plot_reachability_animation(time_to_reach=False, granularity_in_h=5, filename=\"test_reach_animation.mp4\")\n",
    "# controller.plot_reachability_animation(time_to_reach=True, granularity_in_h=5, with_opt_ctrl=True,\n",
    "#                                     filename=\"test_reach_animation_w_ctrl.mp4\", forward_time=True)"
   ],
   "metadata": {
    "collapsed": false
   }
  },
  {
   "cell_type": "markdown",
   "source": [
    "# Run Closed-loop simulation with true currents"
   ],
   "metadata": {
    "collapsed": false
   }
  },
  {
   "cell_type": "code",
   "execution_count": null,
   "outputs": [],
   "source": [
    "#% Run closed-loop simulation\n",
    "while problem_status == 0:\n",
    "    # Get action\n",
    "    action = controller.get_action(observation=observation)\n",
    "\n",
    "    # execute action\n",
    "    observation = arena.step(action)\n",
    "\n",
    "    # update problem status\n",
    "    problem_status = arena.problem_status(problem=problem)"
   ],
   "metadata": {
    "collapsed": false
   }
  },
  {
   "cell_type": "code",
   "execution_count": null,
   "outputs": [],
   "source": [
    "# Visualize the closed-loop trajectory\n",
    "arena.plot_all_on_map(problem=problem, margin=0.1, vmax=0.5, vmin=0,\n",
    "                      control_stride=8, control_vec_scale=8,\n",
    "                      spatial_resolution=1 / 30)"
   ],
   "metadata": {
    "collapsed": false
   }
  },
  {
   "cell_type": "code",
   "execution_count": null,
   "outputs": [],
   "source": [
    "# Animate closed-loop trajectory\n",
    "arena.animate_trajectory(margin=0.1,\n",
    "                         ctrl_scale=8,\n",
    "                         temporal_resolution=3600,\n",
    "                         spatial_resolution=1 / 30,\n",
    "                         vmax=0.5, vmin=0,\n",
    "                         filename=\"test.mp4\")\n",
    "\n",
    "took_h = (arena.state_trajectory[-1, 2] - arena.state_trajectory[0, 2]) / 3600\n",
    "print(\"Closed-Loop Operation took {} hours\".format(took_h))\n",
    "t_start = datetime.datetime.fromisoformat(missionConfig['x_0'][0]['date_time'])"
   ],
   "metadata": {
    "collapsed": false
   }
  },
  {
   "cell_type": "code",
   "execution_count": null,
   "outputs": [],
   "source": [
    "# Visualize the true currents and the forecasted currents (without trajectory)\n",
    "def add_prob(ax, time):\n",
    "    problem.plot(ax=ax)\n",
    "\n",
    "arena.ocean_field.hindcast_data_source.animate_data(\n",
    "    output=\"hindcast.mp4\",\n",
    "    x_interval=[-123, -122],\n",
    "    y_interval=[37, 38],\n",
    "    t_interval=[t_start, t_start + datetime.timedelta(hours=60)],\n",
    "    vmax=0.4, vmin=0.0,\n",
    "    add_ax_func=add_prob\n",
    ")\n",
    "arena.ocean_field.forecast_data_source.animate_data(\n",
    "    output=\"forecast.mp4\",\n",
    "    x_interval=[-123, -122],\n",
    "    y_interval=[37, 38],\n",
    "    t_interval=[t_start, t_start + datetime.timedelta(hours=60)],\n",
    "    vmax=0.4, vmin=0.0,\n",
    "    add_ax_func=add_prob\n",
    ")"
   ],
   "metadata": {
    "collapsed": false
   }
  }
 ],
 "metadata": {
  "kernelspec": {
   "display_name": "Python 3",
   "language": "python",
   "name": "python3"
  },
  "language_info": {
   "codemirror_mode": {
    "name": "ipython",
    "version": 2
   },
   "file_extension": ".py",
   "mimetype": "text/x-python",
   "name": "python",
   "nbconvert_exporter": "python",
   "pygments_lexer": "ipython2",
   "version": "2.7.6"
  }
 },
 "nbformat": 4,
 "nbformat_minor": 0
}
