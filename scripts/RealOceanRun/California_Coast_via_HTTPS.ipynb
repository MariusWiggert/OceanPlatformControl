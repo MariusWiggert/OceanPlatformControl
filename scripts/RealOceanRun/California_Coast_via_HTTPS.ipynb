{
 "cells": [
  {
   "cell_type": "code",
   "execution_count": 10,
   "id": "d906bce0",
   "metadata": {
    "ExecuteTime": {
     "end_time": "2023-02-27T19:47:22.098346Z",
     "start_time": "2023-02-27T19:47:22.096347Z"
    }
   },
   "outputs": [],
   "source": [
    "# c3.Experiment.get('Cali_noaa_experiment').remove()"
   ]
  },
  {
   "cell_type": "code",
   "execution_count": null,
   "outputs": [],
   "source": [
    "import requests\n",
    "import json\n",
    "import time\n",
    "import datetime\n",
    "\n",
    "# %% Helper function to construct request urls\n",
    "def generate_c3_http_url(c3_type, action):\n",
    "    \"\"\"Helper function to construct request urls for C3 Cluster.\n",
    "    Args:\n",
    "        c3_type  string of c3 type\n",
    "        action   string of the action that should be performed on the c3_type\n",
    "    Returns:\n",
    "        request_url string for http API calls\n",
    "    \"\"\"\n",
    "    url = \"https://devseaweedrc1-seaweed-control.devrc01.c3aids.cloud\"\n",
    "    tag = \"devseaweedrc1\"\n",
    "    tenant = \"seaweed-control\"\n",
    "    request_url = url + \"/\" + \"api/1\" + \"/\" + tenant + \"/\" + tag + \"/\" + c3_type + \"?\" + \"action=\" + action\n",
    "    return request_url"
   ],
   "metadata": {
    "collapsed": false
   }
  },
  {
   "cell_type": "markdown",
   "id": "af7a4b41",
   "metadata": {
    "heading_collapsed": true
   },
   "source": [
    "# Step 1: get the auth token"
   ]
  },
  {
   "cell_type": "code",
   "execution_count": 25,
   "id": "8636594a",
   "metadata": {
    "ExecuteTime": {
     "end_time": "2023-04-19T00:47:59.553296Z",
     "start_time": "2023-04-19T00:47:59.551290Z"
    },
    "hidden": true
   },
   "outputs": [],
   "source": [
    "# Note: We can authenticate in two ways:\n",
    "# 1) Get an oauth token using username & password. After that authenticate with it in the header.\n",
    "# 2) For every request authenticate via username & password. But this takes significantly longer (+4s per request)\n",
    "# Not sure how long the oauth token is valid for, I have tested it for 1 day so far.\n",
    "# For now the workflow below is implemented using Option 2) because it's faster."
   ]
  },
  {
   "cell_type": "code",
   "execution_count": 26,
   "id": "64004910",
   "metadata": {
    "ExecuteTime": {
     "end_time": "2023-04-19T00:48:00.822504Z",
     "start_time": "2023-04-19T00:48:00.118766Z"
    },
    "hidden": true
   },
   "outputs": [
    {
     "name": "stdout",
     "output_type": "stream",
     "text": [
      "{\n",
      "  \"type\" : \"OAuthAccessTokenResponse\",\n",
      "  \"access_token\" : \"eJwNy8cBA0EIBLCWGMIB5bCE/kuw/5KQCKpA3I44RbR64IwT5HxHxefU94qjMyC+6498YPGI3qml1kTuJsBTViXEI0udmjffX0dh19i+3cnYL7THQrn/f+b43kIkxyY+6VpnscSVpobsDzXWLP4\",\n",
      "  \"token_type\" : \"bearer\"\n",
      "}\n"
     ]
    }
   ],
   "source": [
    "# %% Step 1: get the auth token\n",
    "data = {'grant_type': 'client_credentials', }\n",
    "response = requests.post(\n",
    "    'https://devseaweedrc1-seaweed-control.devrc01.c3aids.cloud/oauth/token',\n",
    "    data=data,\n",
    "    auth=('mariuswiggert@berkeley.edu', 'dDXAd@ikKM7gihL'),\n",
    ")\n",
    "print(response.text)\n",
    "auth_token = response.json()['access_token']\n",
    "\n",
    "# Set the header for all future requests\n",
    "headers = {'content-type': 'application/json', 'accept': 'application/json', 'authorization': 'Bearer ' + auth_token}"
   ]
  },
  {
   "cell_type": "markdown",
   "id": "751bc06f",
   "metadata": {
    "heading_collapsed": true
   },
   "source": [
    "# Step 2: Set-up an Experiment, Controller, and Mission (before operation)"
   ]
  },
  {
   "cell_type": "markdown",
   "id": "4ff85aaa",
   "metadata": {
    "heading_collapsed": true,
    "hidden": true
   },
   "source": [
    "## Create Experiment"
   ]
  },
  {
   "cell_type": "code",
   "execution_count": 4,
   "id": "50416cb2",
   "metadata": {
    "ExecuteTime": {
     "end_time": "2023-04-18T23:34:07.411675Z",
     "start_time": "2023-04-18T23:34:07.409840Z"
    },
    "hidden": true
   },
   "outputs": [],
   "source": [
    "# Forecast System that we can use:\n",
    "# - HYCOM Global (daily forecasts, xh resolution, 1/12 deg spatial resolution)\n",
    "# - Copernicus Global (daily forecasts for 5 days out, xh resolution, 1/12 deg spatial resolution)\n",
    "# - NOAA West Coast Nowcast System (daily nowcasts for 24h, xh resolution, 10km spatial resolution)"
   ]
  },
  {
   "cell_type": "code",
   "execution_count": 8,
   "id": "516f824b",
   "metadata": {
    "ExecuteTime": {
     "end_time": "2023-04-19T00:38:30.036108Z",
     "start_time": "2023-04-19T00:38:30.020053Z"
    },
    "code_folding": [],
    "hidden": true
   },
   "outputs": [
    {
     "ename": "NameError",
     "evalue": "name 'result' is not defined",
     "output_type": "error",
     "traceback": [
      "\u001B[0;31m---------------------------------------------------------------------------\u001B[0m",
      "\u001B[0;31mNameError\u001B[0m                                 Traceback (most recent call last)",
      "Cell \u001B[0;32mIn [8], line 52\u001B[0m\n\u001B[1;32m     44\u001B[0m payload \u001B[38;5;241m=\u001B[39m {\n\u001B[1;32m     45\u001B[0m     \u001B[38;5;124m'\u001B[39m\u001B[38;5;124mname\u001B[39m\u001B[38;5;124m'\u001B[39m: experimentName,\n\u001B[1;32m     46\u001B[0m     \u001B[38;5;124m'\u001B[39m\u001B[38;5;124mdescription\u001B[39m\u001B[38;5;124m'\u001B[39m: \u001B[38;5;124m'\u001B[39m\u001B[38;5;124mdescription of experiment\u001B[39m\u001B[38;5;124m'\u001B[39m,\n\u001B[0;32m   (...)\u001B[0m\n\u001B[1;32m     49\u001B[0m     \u001B[38;5;124m'\u001B[39m\u001B[38;5;124mtimeout_in_sec\u001B[39m\u001B[38;5;124m'\u001B[39m: \u001B[38;5;241m3600\u001B[39m \u001B[38;5;241m*\u001B[39m \u001B[38;5;241m24\u001B[39m \u001B[38;5;241m*\u001B[39m \u001B[38;5;241m2\u001B[39m,  \u001B[38;5;66;03m# only relevant for simulation testing of the same scenario\u001B[39;00m\n\u001B[1;32m     50\u001B[0m }\n\u001B[1;32m     51\u001B[0m \u001B[38;5;66;03m# result = requests.post(generate_c3_http_url(c3_type=\"Experiment\", action=\"createNew\"), headers=headers, params=payload)\u001B[39;00m\n\u001B[0;32m---> 52\u001B[0m \u001B[38;5;28mprint\u001B[39m(\u001B[43mresult\u001B[49m\u001B[38;5;241m.\u001B[39mjson())\n",
      "\u001B[0;31mNameError\u001B[0m: name 'result' is not defined"
     ]
    }
   ],
   "source": [
    "# %% Step 2: Set up an Experiment (collection of missions and controllers, all with same platform specs (thrust))\n",
    "# Note: It gives a deserialize error, but it creates the object and everything works as expected.\n",
    "experimentName = 'HalfMoonBayTest_NOAA_April'\n",
    "max_speed_of_platform_in_meter_per_second = 0.2\n",
    "forecast_system_to_use = 'noaa' # either of ['HYCOM', 'Copernicus', 'noaa']\n",
    "\n",
    "# Configs for Experiment\n",
    "arena_config = {\n",
    "    'casadi_cache_dict': {\n",
    "        'deg_around_x_t': 0.5,\n",
    "        'time_around_x_t': 86400.0},  # This is 24h in seconds!\n",
    "    'platform_dict': {'battery_cap_in_wh': 400.0,\n",
    "                      'u_max_in_mps': max_speed_of_platform_in_meter_per_second,\n",
    "                      'motor_efficiency': 1.0,\n",
    "                      'solar_panel_size': 1.0,\n",
    "                      'solar_efficiency': 0.2,\n",
    "                      'drag_factor': 675.0,\n",
    "                      'dt_in_s': 600.0},\n",
    "    'use_geographic_coordinate_system': True,\n",
    "    'spatial_boundary': None,\n",
    "    'ocean_dict': {\n",
    "        'region': 'Region 1', # This is the region of northern California\n",
    "        'hindcast': {\n",
    "            \"field\": \"OceanCurrents\",\n",
    "            \"source\": \"opendap\",\n",
    "            \"source_settings\": {\n",
    "                \"service\": \"copernicus\",\n",
    "                \"currents\": \"total\",\n",
    "                \"USERNAME\": \"mmariuswiggert\",\n",
    "                \"PASSWORD\": \"tamku3-qetroR-guwneq\",\n",
    "                \"DATASET_ID\": \"cmems_mod_glo_phy_anfc_merged-uv_PT1H-i\"}},\n",
    "        'forecast': {\n",
    "            'field': 'OceanCurrents',\n",
    "            'source': 'forecast_files',\n",
    "            'source_settings': {\n",
    "                'source': forecast_system_to_use,\n",
    "                'type': 'forecast'}}},\n",
    "    'solar_dict': {'hindcast': None, 'forecast': None},\n",
    "    'seaweed_dict': {'hindcast': None, 'forecast': None}}\n",
    "# For Navigation Missions (go from A to B) always this Config. Others for Maximizing Growth.\n",
    "objectiveConfig = {'type': 'nav'}\n",
    "\n",
    "# send via HTTP request\n",
    "payload = {\n",
    "    'name': experimentName,\n",
    "    'description': 'description of experiment',\n",
    "    'arenaConfig': json.dumps(arena_config),\n",
    "    'objectiveConfig': json.dumps(objectiveConfig),\n",
    "    'timeout_in_sec': 3600 * 24 * 2,  # only relevant for simulation testing of the same scenario\n",
    "}\n",
    "# result = requests.post(generate_c3_http_url(c3_type=\"Experiment\", action=\"createNew\"), headers=headers, params=payload)\n",
    "print(result.json())"
   ]
  },
  {
   "cell_type": "code",
   "execution_count": 10,
   "id": "070813f1",
   "metadata": {
    "ExecuteTime": {
     "end_time": "2023-04-19T00:39:03.649114Z",
     "start_time": "2023-04-19T00:39:03.625204Z"
    },
    "hidden": true
   },
   "outputs": [],
   "source": [
    "exp = c3.Experiment.get('HalfMoonBayTest_NOAA_April')"
   ]
  },
  {
   "cell_type": "code",
   "execution_count": 12,
   "id": "c2404ad8",
   "metadata": {
    "ExecuteTime": {
     "end_time": "2023-04-19T00:39:20.879209Z",
     "start_time": "2023-04-19T00:39:20.876659Z"
    },
    "hidden": true
   },
   "outputs": [],
   "source": [
    "exp.arenaConfig = arena_config"
   ]
  },
  {
   "cell_type": "markdown",
   "id": "8e622e9d",
   "metadata": {
    "heading_collapsed": true,
    "hidden": true
   },
   "source": [
    "## Create Observer and Controller"
   ]
  },
  {
   "cell_type": "code",
   "execution_count": 7,
   "id": "bbfd6f8e",
   "metadata": {
    "ExecuteTime": {
     "end_time": "2023-04-18T23:42:04.542216Z",
     "start_time": "2023-04-18T23:37:36.293788Z"
    },
    "code_folding": [],
    "hidden": true
   },
   "outputs": [
    {
     "name": "stdout",
     "output_type": "stream",
     "text": [
      "{'name': 'NoObserver', 'id': 'HalfMoonBayTest_NOAA_April_NoObserver', 'meta': {'created': '2023-04-18T23:39:51Z', 'updated': '2023-04-18T23:39:51Z', 'timestamp': '2023-04-18T23:39:51Z'}, 'version': 1}\n",
      "{'name': 'HJ_controller_every6h_T_horizon_12h', 'id': 'HalfMoonBayTest_NOAA_April_HJ_controller_every6h_T_horizon_12h', 'meta': {'created': '2023-04-18T23:42:04Z', 'updated': '2023-04-18T23:42:04Z', 'timestamp': '2023-04-18T23:42:04Z'}, 'version': 1}\n"
     ]
    }
   ],
   "source": [
    "# %% Step 3: Add Controller to be used (and Observer, currently none)\n",
    "# Add observer\n",
    "payload = {\n",
    "    'id': experimentName,\n",
    "    'name': \"NoObserver\",\n",
    "    'observerConfig': json.dumps({\"observer\": None})\n",
    "}\n",
    "result = requests.post(generate_c3_http_url(c3_type=\"Experiment\", action=\"addObserver\"), headers=headers,\n",
    "                       params=payload)\n",
    "print(result.json())\n",
    "observer_id = result.json()['id']\n",
    "# %% add controller\n",
    "# Config for HJ Controller\n",
    "ctrl_config = {\n",
    "    \"ctrl_name\": \"ocean_navigation_simulator.controllers.hj_planners.HJReach2DPlanner.HJReach2DPlanner\",\n",
    "    \"replan_on_new_fmrc\": True,\n",
    "    \"replan_every_X_seconds\": 3600*6,\n",
    "    \"direction\": \"multi-time-reach-back\",\n",
    "    \"deg_around_xt_xT_box\": 1.0,  # area over which to run HJ_reachability\n",
    "    \"T_goal_in_seconds\": 3600 * 12,\n",
    "    \"grid_res\": 0.01,  # Note: this is in deg lat, lon (HYCOM Global is 0.083 and Mexico 0.04)\n",
    "}\n",
    "payload = {\n",
    "    'id': experimentName,\n",
    "    'name': \"HJ_controller_every6h_T_horizon_12h\",\n",
    "    'ctrlConfig': json.dumps(ctrl_config)\n",
    "}\n",
    "result = requests.post(generate_c3_http_url(c3_type=\"Experiment\", action=\"addController\"), headers=headers,\n",
    "                       params=payload)\n",
    "print(result.json())\n",
    "controller_id = result.json()['id']"
   ]
  },
  {
   "cell_type": "markdown",
   "id": "3cb49d84",
   "metadata": {
    "heading_collapsed": true,
    "hidden": true
   },
   "source": [
    "## Add Mission (A -> B)"
   ]
  },
  {
   "cell_type": "code",
   "execution_count": 8,
   "id": "37144ca2",
   "metadata": {
    "ExecuteTime": {
     "end_time": "2023-04-18T23:42:12.993466Z",
     "start_time": "2023-04-18T23:42:12.990738Z"
    },
    "hidden": true
   },
   "outputs": [
    {
     "name": "stdout",
     "output_type": "stream",
     "text": [
      "current UTC datetime is:  2023-04-18 23:42:12.991473\n"
     ]
    }
   ],
   "source": [
    "# %% add a Mission (Start to goal)\n",
    "print(\"current UTC datetime is: \", datetime.datetime.now())"
   ]
  },
  {
   "cell_type": "code",
   "execution_count": 9,
   "id": "65964de5",
   "metadata": {
    "ExecuteTime": {
     "end_time": "2023-04-18T23:44:48.050186Z",
     "start_time": "2023-04-18T23:42:32.511781Z"
    },
    "hidden": true
   },
   "outputs": [
    {
     "name": "stdout",
     "output_type": "stream",
     "text": [
      "{'experiment': {'T_horizon_FC_Error_Calculation_in_h': 120, 'id': 'HalfMoonBayTest_NOAA_April'}, 'status': 'staged_for_feasibility', 'missionConfig': {'target_radius': 0.1, 'x_0': [{'date_time': '2023-04-19T08:00:00+00:00', 'lat': 37.75, 'lon': -122.5}], 'x_T': {'lat': 37, 'lon': -122.4}}, 'id': 'HalfMoonBayTest_NOAA_April_api_test_mission'}\n"
     ]
    }
   ],
   "source": [
    "missionConfig = {\n",
    "    \"target_radius\": 0.1,  # in degrees\n",
    "    \"x_0\": [{\"date_time\": \"2023-04-19T08:00:00+00:00\", \"lat\": 37.75, \"lon\": -122.5}],  # the start position and time\n",
    "    \"x_T\": {\"lat\": 37, \"lon\": -122.4}}  # the target position\n",
    "\n",
    "payload = {\n",
    "    'id': experimentName,\n",
    "    'name': \"api_test_mission\",\n",
    "    'missionConfig': json.dumps(missionConfig)\n",
    "}\n",
    "result = requests.post(generate_c3_http_url(c3_type=\"Experiment\", action=\"addMission\"), headers=headers, params=payload)\n",
    "print(result.json())\n",
    "mission_id = result.json()['id']"
   ]
  },
  {
   "cell_type": "markdown",
   "id": "e5464d84",
   "metadata": {
    "hidden": true
   },
   "source": [
    "## Create RealOceanSimRun"
   ]
  },
  {
   "cell_type": "code",
   "execution_count": 27,
   "id": "e2b4cd79",
   "metadata": {
    "ExecuteTime": {
     "end_time": "2023-04-19T00:48:09.051153Z",
     "start_time": "2023-04-19T00:48:09.048996Z"
    },
    "hidden": true
   },
   "outputs": [],
   "source": [
    "mission_id = 'HalfMoonBayTest_NOAA_April_api_test_mission'\n",
    "controller_id = 'HalfMoonBayTest_NOAA_April_HJ_controller_every6h_T_horizon_12h'\n",
    "observer_id = 'HalfMoonBayTest_NOAA_April_NoObserver'"
   ]
  },
  {
   "cell_type": "code",
   "execution_count": null,
   "id": "18862a9d",
   "metadata": {
    "ExecuteTime": {
     "start_time": "2023-04-19T00:48:09.437Z"
    },
    "hidden": true
   },
   "outputs": [],
   "source": [
    "# %% create RealOceanSimRun (and plan HJ for the first time) -> hence this takes a while (≈1 minute)\n",
    "payload = {\n",
    "    'mission_id': mission_id,\n",
    "    'controller_id': controller_id,\n",
    "    'observer_id': observer_id\n",
    "}\n",
    "result = requests.post(generate_c3_http_url(c3_type=\"Experiment\", action=\"createRealOceanRun\"), headers=headers,\n",
    "                       params=payload)\n",
    "print(result.json())\n",
    "real_ocean_run_id = result.json()['id']\n",
    "print(\"real ocean_run_id: \", real_ocean_run_id)"
   ]
  },
  {
   "cell_type": "markdown",
   "id": "c8a23c9b",
   "metadata": {},
   "source": [
    "# Debug what is happening"
   ]
  },
  {
   "cell_type": "code",
   "execution_count": 14,
   "id": "4d5f4a54",
   "metadata": {
    "ExecuteTime": {
     "end_time": "2023-04-19T00:39:33.674216Z",
     "start_time": "2023-04-19T00:39:33.672001Z"
    }
   },
   "outputs": [],
   "source": [
    "import numpy as np\n",
    "import os\n",
    "import datetime\n",
    "import xarray as xr"
   ]
  },
  {
   "cell_type": "code",
   "execution_count": 15,
   "id": "9fb5b0da",
   "metadata": {
    "ExecuteTime": {
     "end_time": "2023-04-19T00:39:34.613685Z",
     "start_time": "2023-04-19T00:39:34.591372Z"
    }
   },
   "outputs": [],
   "source": [
    "this = c3.RealOceanSimRun.get('HalfMoonBayTest_NOAA_April_api_test_mission_HJ_controller_every6h_T_horizon_12h')\n",
    "posix_time=None"
   ]
  },
  {
   "cell_type": "code",
   "execution_count": 17,
   "id": "0104414c",
   "metadata": {
    "ExecuteTime": {
     "end_time": "2023-04-19T00:41:42.839852Z",
     "start_time": "2023-04-19T00:40:22.605358Z"
    }
   },
   "outputs": [
    {
     "name": "stdout",
     "output_type": "stream",
     "text": [
      "replan because errors in first run!\n",
      "Replanning\n"
     ]
    },
    {
     "name": "stderr",
     "output_type": "stream",
     "text": [
      "Only 52/97 files in the database for noaa, forecast, Region 1 and t_0=2023-01-12 19:52:40+00:00 and t_T=2023-04-19 00:40:22.615448+00:00: \n",
      "- nos.wcofs.regulargrid.f003-f072.20230226.t03z.nc\n",
      "- nos.wcofs.regulargrid.f003-f072.20230227.t03z.nc\n",
      "- nos.wcofs.regulargrid.f003-f072.20230228.t03z.nc\n",
      "- nos.wcofs.regulargrid.f003-f072.20230301.t03z.nc\n",
      "- nos.wcofs.regulargrid.f003-f072.20230302.t03z.nc\n",
      "- nos.wcofs.regulargrid.f003-f072.20230303.t03z.nc\n",
      "- nos.wcofs.regulargrid.f003-f072.20230304.t03z.nc\n",
      "- nos.wcofs.regulargrid.f003-f072.20230305.t03z.nc\n",
      "- nos.wcofs.regulargrid.f003-f072.20230306.t03z.nc\n",
      "- nos.wcofs.regulargrid.f003-f072.20230307.t03z.nc\n",
      "- nos.wcofs.regulargrid.f003-f072.20230308.t03z.nc\n",
      "- nos.wcofs.regulargrid.f003-f072.20230309.t03z.nc\n",
      "- nos.wcofs.regulargrid.f003-f072.20230310.t03z.nc\n",
      "- nos.wcofs.regulargrid.f003-f072.20230311.t03z.nc\n",
      "- nos.wcofs.regulargrid.f003-f072.20230312.t03z.nc\n",
      "- nos.wcofs.regulargrid.f003-f072.20230313.t03z.nc\n",
      "- nos.wcofs.regulargrid.f003-f072.20230314.t03z.nc\n",
      "- nos.wcofs.regulargrid.f003-f072.20230315.t03z.nc\n",
      "- nos.wcofs.regulargrid.f003-f072.20230316.t03z.nc\n",
      "- nos.wcofs.regulargrid.f003-f072.20230317.t03z.nc\n",
      "- nos.wcofs.regulargrid.f003-f072.20230318.t03z.nc\n",
      "- nos.wcofs.regulargrid.f003-f072.20230319.t03z.nc\n",
      "- nos.wcofs.regulargrid.f003-f072.20230320.t03z.nc\n",
      "- nos.wcofs.regulargrid.f003-f072.20230321.t03z.nc\n",
      "- nos.wcofs.regulargrid.f003-f072.20230322.t03z.nc\n",
      "- nos.wcofs.regulargrid.f003-f072.20230323.t03z.nc\n",
      "- nos.wcofs.regulargrid.f003-f072.20230324.t03z.nc\n",
      "- nos.wcofs.regulargrid.f003-f072.20230325.t03z.nc\n",
      "- nos.wcofs.regulargrid.f003-f072.20230326.t03z.nc\n",
      "- nos.wcofs.regulargrid.f003-f072.20230327.t03z.nc\n",
      "- nos.wcofs.regulargrid.f003-f072.20230328.t03z.nc\n",
      "- nos.wcofs.regulargrid.f003-f072.20230329.t03z.nc\n",
      "- nos.wcofs.regulargrid.f003-f072.20230330.t03z.nc\n",
      "- nos.wcofs.regulargrid.f003-f072.20230331.t03z.nc\n",
      "- nos.wcofs.regulargrid.f003-f072.20230401.t03z.nc\n",
      "- nos.wcofs.regulargrid.f003-f072.20230402.t03z.nc\n",
      "- nos.wcofs.regulargrid.f003-f072.20230403.t03z.nc\n",
      "- nos.wcofs.regulargrid.f003-f072.20230404.t03z.nc\n",
      "- nos.wcofs.regulargrid.f003-f072.20230405.t03z.nc\n",
      "- nos.wcofs.regulargrid.f003-f072.20230406.t03z.nc\n",
      "- nos.wcofs.regulargrid.f003-f072.20230407.t03z.nc\n",
      "- nos.wcofs.regulargrid.f003-f072.20230408.t03z.nc\n",
      "- nos.wcofs.regulargrid.f003-f072.20230409.t03z.nc\n",
      "- nos.wcofs.regulargrid.f003-f072.20230410.t03z.nc\n",
      "- nos.wcofs.regulargrid.f003-f072.20230411.t03z.nc\n",
      "- nos.wcofs.regulargrid.f003-f072.20230412.t03z.nc\n",
      "- nos.wcofs.regulargrid.f003-f072.20230413.t03z.nc\n",
      "- nos.wcofs.regulargrid.f003-f072.20230414.t03z.nc\n",
      "- nos.wcofs.regulargrid.f003-f072.20230415.t03z.nc\n",
      "- nos.wcofs.regulargrid.f003-f072.20230416.t03z.nc\n",
      "- nos.wcofs.regulargrid.f003-f072.20230417.t03z.nc\n",
      "- nos.wcofs.regulargrid.f003-f072.20230418.t03z.nc\n",
      " 12%|█▏        | 6/52 [01:17<09:53, 12.90s/it]\n"
     ]
    },
    {
     "ename": "KeyboardInterrupt",
     "evalue": "",
     "output_type": "error",
     "traceback": [
      "\u001B[0;31m---------------------------------------------------------------------------\u001B[0m",
      "\u001B[0;31mKeyboardInterrupt\u001B[0m                         Traceback (most recent call last)",
      "Cell \u001B[0;32mIn [17], line 81\u001B[0m\n\u001B[1;32m     78\u001B[0m \u001B[38;5;66;03m#     return this.valueFunctionInfo\u001B[39;00m\n\u001B[1;32m     80\u001B[0m \u001B[38;5;28mprint\u001B[39m(\u001B[38;5;124m'\u001B[39m\u001B[38;5;124mReplanning\u001B[39m\u001B[38;5;124m'\u001B[39m)\n\u001B[0;32m---> 81\u001B[0m \u001B[38;5;28;01mwith\u001B[39;00m ArenaFactory\u001B[38;5;241m.\u001B[39mdownload_files(\n\u001B[1;32m     82\u001B[0m         config\u001B[38;5;241m=\u001B[39marenaConfig, \u001B[38;5;28mtype\u001B[39m\u001B[38;5;241m=\u001B[39m\u001B[38;5;124m\"\u001B[39m\u001B[38;5;124mforecast\u001B[39m\u001B[38;5;124m\"\u001B[39m, throw_exceptions\u001B[38;5;241m=\u001B[39m\u001B[38;5;28;01mFalse\u001B[39;00m,\n\u001B[1;32m     83\u001B[0m         t_interval\u001B[38;5;241m=\u001B[39mt_interval, c3\u001B[38;5;241m=\u001B[39mc3, points\u001B[38;5;241m=\u001B[39m[point_to_check\u001B[38;5;241m.\u001B[39mto_spatial_point()]):\n\u001B[1;32m     84\u001B[0m \n\u001B[1;32m     85\u001B[0m     \u001B[38;5;66;03m# Step 1.3.2: instantiate the FC source\u001B[39;00m\n\u001B[1;32m     86\u001B[0m     forecast_source_dict \u001B[38;5;241m=\u001B[39m arenaConfig[\u001B[38;5;124m'\u001B[39m\u001B[38;5;124mocean_dict\u001B[39m\u001B[38;5;124m'\u001B[39m][\u001B[38;5;124m'\u001B[39m\u001B[38;5;124mforecast\u001B[39m\u001B[38;5;124m'\u001B[39m]\n\u001B[1;32m     87\u001B[0m     forecast_source_dict[\u001B[38;5;124m\"\u001B[39m\u001B[38;5;124mcasadi_cache_settings\u001B[39m\u001B[38;5;124m\"\u001B[39m] \u001B[38;5;241m=\u001B[39m arenaConfig[\u001B[38;5;124m'\u001B[39m\u001B[38;5;124mcasadi_cache_dict\u001B[39m\u001B[38;5;124m'\u001B[39m]\n",
      "File \u001B[0;32m~/.conda/envs/py-ocean_sim_cpu/lib/python3.9/contextlib.py:119\u001B[0m, in \u001B[0;36m_GeneratorContextManager.__enter__\u001B[0;34m(self)\u001B[0m\n\u001B[1;32m    117\u001B[0m \u001B[38;5;28;01mdel\u001B[39;00m \u001B[38;5;28mself\u001B[39m\u001B[38;5;241m.\u001B[39margs, \u001B[38;5;28mself\u001B[39m\u001B[38;5;241m.\u001B[39mkwds, \u001B[38;5;28mself\u001B[39m\u001B[38;5;241m.\u001B[39mfunc\n\u001B[1;32m    118\u001B[0m \u001B[38;5;28;01mtry\u001B[39;00m:\n\u001B[0;32m--> 119\u001B[0m     \u001B[38;5;28;01mreturn\u001B[39;00m \u001B[38;5;28;43mnext\u001B[39;49m\u001B[43m(\u001B[49m\u001B[38;5;28;43mself\u001B[39;49m\u001B[38;5;241;43m.\u001B[39;49m\u001B[43mgen\u001B[49m\u001B[43m)\u001B[49m\n\u001B[1;32m    120\u001B[0m \u001B[38;5;28;01mexcept\u001B[39;00m \u001B[38;5;167;01mStopIteration\u001B[39;00m:\n\u001B[1;32m    121\u001B[0m     \u001B[38;5;28;01mraise\u001B[39;00m \u001B[38;5;167;01mRuntimeError\u001B[39;00m(\u001B[38;5;124m\"\u001B[39m\u001B[38;5;124mgenerator didn\u001B[39m\u001B[38;5;124m'\u001B[39m\u001B[38;5;124mt yield\u001B[39m\u001B[38;5;124m\"\u001B[39m) \u001B[38;5;28;01mfrom\u001B[39;00m \u001B[38;5;28;01mNone\u001B[39;00m\n",
      "File \u001B[0;32m~/.conda/envs/py-ocean_sim_cpu/lib/python3.9/site-packages/ocean_navigation_simulator/environment/ArenaFactory.py:281\u001B[0m, in \u001B[0;36mArenaFactory.download_files\u001B[0;34m(config, type, t_interval, points, c3, throw_exceptions)\u001B[0m\n\u001B[1;32m    279\u001B[0m \u001B[38;5;28;01mtry\u001B[39;00m:\n\u001B[1;32m    280\u001B[0m     \u001B[38;5;28;01mif\u001B[39;00m \u001B[38;5;124m\"\u001B[39m\u001B[38;5;124mfiles\u001B[39m\u001B[38;5;124m\"\u001B[39m \u001B[38;5;129;01min\u001B[39;00m config[\u001B[38;5;124m\"\u001B[39m\u001B[38;5;124mocean_dict\u001B[39m\u001B[38;5;124m\"\u001B[39m][\u001B[38;5;28mtype\u001B[39m][\u001B[38;5;124m\"\u001B[39m\u001B[38;5;124msource\u001B[39m\u001B[38;5;124m\"\u001B[39m]:\n\u001B[0;32m--> 281\u001B[0m         \u001B[43mArenaFactory\u001B[49m\u001B[38;5;241;43m.\u001B[39;49m\u001B[43mdownload_required_files\u001B[49m\u001B[43m(\u001B[49m\n\u001B[1;32m    282\u001B[0m \u001B[43m            \u001B[49m\u001B[43marchive_source\u001B[49m\u001B[38;5;241;43m=\u001B[39;49m\u001B[43mconfig\u001B[49m\u001B[43m[\u001B[49m\u001B[38;5;124;43m\"\u001B[39;49m\u001B[38;5;124;43mocean_dict\u001B[39;49m\u001B[38;5;124;43m\"\u001B[39;49m\u001B[43m]\u001B[49m\u001B[43m[\u001B[49m\u001B[38;5;28;43mtype\u001B[39;49m\u001B[43m]\u001B[49m\u001B[43m[\u001B[49m\u001B[38;5;124;43m\"\u001B[39;49m\u001B[38;5;124;43msource_settings\u001B[39;49m\u001B[38;5;124;43m\"\u001B[39;49m\u001B[43m]\u001B[49m\u001B[43m[\u001B[49m\u001B[38;5;124;43m\"\u001B[39;49m\u001B[38;5;124;43msource\u001B[39;49m\u001B[38;5;124;43m\"\u001B[39;49m\u001B[43m]\u001B[49m\u001B[43m,\u001B[49m\n\u001B[1;32m    283\u001B[0m \u001B[43m            \u001B[49m\u001B[43marchive_type\u001B[49m\u001B[38;5;241;43m=\u001B[39;49m\u001B[43mconfig\u001B[49m\u001B[43m[\u001B[49m\u001B[38;5;124;43m\"\u001B[39;49m\u001B[38;5;124;43mocean_dict\u001B[39;49m\u001B[38;5;124;43m\"\u001B[39;49m\u001B[43m]\u001B[49m\u001B[43m[\u001B[49m\u001B[38;5;28;43mtype\u001B[39;49m\u001B[43m]\u001B[49m\u001B[43m[\u001B[49m\u001B[38;5;124;43m\"\u001B[39;49m\u001B[38;5;124;43msource_settings\u001B[39;49m\u001B[38;5;124;43m\"\u001B[39;49m\u001B[43m]\u001B[49m\u001B[43m[\u001B[49m\u001B[38;5;124;43m\"\u001B[39;49m\u001B[38;5;124;43mtype\u001B[39;49m\u001B[38;5;124;43m\"\u001B[39;49m\u001B[43m]\u001B[49m\u001B[43m,\u001B[49m\n\u001B[1;32m    284\u001B[0m \u001B[43m            \u001B[49m\u001B[43mdownload_folder\u001B[49m\u001B[38;5;241;43m=\u001B[39;49m\u001B[43mconfig\u001B[49m\u001B[43m[\u001B[49m\u001B[38;5;124;43m\"\u001B[39;49m\u001B[38;5;124;43mocean_dict\u001B[39;49m\u001B[38;5;124;43m\"\u001B[39;49m\u001B[43m]\u001B[49m\u001B[43m[\u001B[49m\u001B[38;5;28;43mtype\u001B[39;49m\u001B[43m]\u001B[49m\u001B[43m[\u001B[49m\u001B[38;5;124;43m\"\u001B[39;49m\u001B[38;5;124;43msource_settings\u001B[39;49m\u001B[38;5;124;43m\"\u001B[39;49m\u001B[43m]\u001B[49m\u001B[43m[\u001B[49m\u001B[38;5;124;43m\"\u001B[39;49m\u001B[38;5;124;43mfolder\u001B[39;49m\u001B[38;5;124;43m\"\u001B[39;49m\u001B[43m]\u001B[49m\u001B[43m,\u001B[49m\n\u001B[1;32m    285\u001B[0m \u001B[43m            \u001B[49m\u001B[43mt_interval\u001B[49m\u001B[38;5;241;43m=\u001B[39;49m\u001B[43mt_interval\u001B[49m\u001B[43m,\u001B[49m\n\u001B[1;32m    286\u001B[0m \u001B[43m            \u001B[49m\u001B[43mregion\u001B[49m\u001B[38;5;241;43m=\u001B[39;49m\u001B[43mconfig\u001B[49m\u001B[43m[\u001B[49m\u001B[38;5;124;43m\"\u001B[39;49m\u001B[38;5;124;43mocean_dict\u001B[39;49m\u001B[38;5;124;43m\"\u001B[39;49m\u001B[43m]\u001B[49m\u001B[43m[\u001B[49m\u001B[38;5;124;43m\"\u001B[39;49m\u001B[38;5;124;43mregion\u001B[39;49m\u001B[38;5;124;43m\"\u001B[39;49m\u001B[43m]\u001B[49m\u001B[43m,\u001B[49m\n\u001B[1;32m    287\u001B[0m \u001B[43m            \u001B[49m\u001B[43mthrow_exceptions\u001B[49m\u001B[38;5;241;43m=\u001B[39;49m\u001B[43mthrow_exceptions\u001B[49m\u001B[43m,\u001B[49m\n\u001B[1;32m    288\u001B[0m \u001B[43m            \u001B[49m\u001B[43mpoints\u001B[49m\u001B[38;5;241;43m=\u001B[39;49m\u001B[43mpoints\u001B[49m\u001B[43m,\u001B[49m\n\u001B[1;32m    289\u001B[0m \u001B[43m            \u001B[49m\u001B[43mc3\u001B[49m\u001B[38;5;241;43m=\u001B[39;49m\u001B[43mc3\u001B[49m\u001B[43m,\u001B[49m\n\u001B[1;32m    290\u001B[0m \u001B[43m        \u001B[49m\u001B[43m)\u001B[49m\n\u001B[1;32m    291\u001B[0m     \u001B[38;5;28;01myield\u001B[39;00m \u001B[38;5;28;01mTrue\u001B[39;00m\n\u001B[1;32m    292\u001B[0m \u001B[38;5;28;01mfinally\u001B[39;00m:\n",
      "File \u001B[0;32m~/.conda/envs/py-ocean_sim_cpu/lib/python3.9/site-packages/ocean_navigation_simulator/environment/ArenaFactory.py:412\u001B[0m, in \u001B[0;36mArenaFactory.download_required_files\u001B[0;34m(archive_source, archive_type, download_folder, t_interval, region, points, throw_exceptions, c3, remove_files_if_corrupted)\u001B[0m\n\u001B[1;32m    409\u001B[0m ArenaFactory\u001B[38;5;241m.\u001B[39m_check_spacial_coverage(files, points)\n\u001B[1;32m    411\u001B[0m \u001B[38;5;66;03m# Step 4: Download files thread-safe\u001B[39;00m\n\u001B[0;32m--> 412\u001B[0m downloaded_files \u001B[38;5;241m=\u001B[39m \u001B[43mArenaFactory\u001B[49m\u001B[38;5;241;43m.\u001B[39;49m\u001B[43m_download_filelist\u001B[49m\u001B[43m(\u001B[49m\n\u001B[1;32m    413\u001B[0m \u001B[43m    \u001B[49m\u001B[43mfiles\u001B[49m\u001B[38;5;241;43m=\u001B[39;49m\u001B[43mfiles\u001B[49m\u001B[43m,\u001B[49m\n\u001B[1;32m    414\u001B[0m \u001B[43m    \u001B[49m\u001B[43mdownload_folder\u001B[49m\u001B[38;5;241;43m=\u001B[39;49m\u001B[43mdownload_folder\u001B[49m\u001B[43m,\u001B[49m\n\u001B[1;32m    415\u001B[0m \u001B[43m    \u001B[49m\u001B[43mthrow_exceptions\u001B[49m\u001B[38;5;241;43m=\u001B[39;49m\u001B[43mthrow_exceptions\u001B[49m\u001B[43m,\u001B[49m\n\u001B[1;32m    416\u001B[0m \u001B[43m    \u001B[49m\u001B[43mc3\u001B[49m\u001B[38;5;241;43m=\u001B[39;49m\u001B[43mc3\u001B[49m\u001B[43m,\u001B[49m\n\u001B[1;32m    417\u001B[0m \u001B[43m    \u001B[49m\u001B[43mremove_files_if_corrupted\u001B[49m\u001B[38;5;241;43m=\u001B[39;49m\u001B[43mremove_files_if_corrupted\u001B[49m\u001B[43m,\u001B[49m\n\u001B[1;32m    418\u001B[0m \u001B[43m\u001B[49m\u001B[43m)\u001B[49m\n\u001B[1;32m    420\u001B[0m \u001B[38;5;28;01mreturn\u001B[39;00m downloaded_files\n",
      "File \u001B[0;32m~/.conda/envs/py-ocean_sim_cpu/lib/python3.9/site-packages/ocean_navigation_simulator/environment/ArenaFactory.py:539\u001B[0m, in \u001B[0;36mArenaFactory._download_filelist\u001B[0;34m(files, download_folder, throw_exceptions, c3, remove_files_if_corrupted)\u001B[0m\n\u001B[1;32m    534\u001B[0m filesize \u001B[38;5;241m=\u001B[39m file\u001B[38;5;241m.\u001B[39mfile\u001B[38;5;241m.\u001B[39mcontentLength\n\u001B[1;32m    535\u001B[0m \u001B[38;5;28;01mif\u001B[39;00m (\n\u001B[1;32m    536\u001B[0m     \u001B[38;5;129;01mnot\u001B[39;00m os\u001B[38;5;241m.\u001B[39mpath\u001B[38;5;241m.\u001B[39mexists(download_folder \u001B[38;5;241m+\u001B[39m filename)\n\u001B[1;32m    537\u001B[0m     \u001B[38;5;129;01mor\u001B[39;00m os\u001B[38;5;241m.\u001B[39mpath\u001B[38;5;241m.\u001B[39mgetsize(download_folder \u001B[38;5;241m+\u001B[39m filename) \u001B[38;5;241m!=\u001B[39m filesize\n\u001B[1;32m    538\u001B[0m ):\n\u001B[0;32m--> 539\u001B[0m     \u001B[43mc3\u001B[49m\u001B[38;5;241;43m.\u001B[39;49m\u001B[43mClient\u001B[49m\u001B[38;5;241;43m.\u001B[39;49m\u001B[43mcopyFilesToLocalClient\u001B[49m\u001B[43m(\u001B[49m\u001B[43murl\u001B[49m\u001B[43m,\u001B[49m\u001B[43m \u001B[49m\u001B[43mtemp_folder\u001B[49m\u001B[43m)\u001B[49m\n\u001B[1;32m    541\u001B[0m     error \u001B[38;5;241m=\u001B[39m \u001B[38;5;28;01mFalse\u001B[39;00m\n\u001B[1;32m    542\u001B[0m     \u001B[38;5;66;03m# check file size match\u001B[39;00m\n",
      "File \u001B[0;32mZc0f5ed362f587e2990729fbf1913b613M_.TypeSystemBase:1132\u001B[0m, in \u001B[0;36mcopyFilesToLocalClient\u001B[0;34m(_cls_f7f11c950a4e, srcUrlOrEncodedPath, localPath, spec)\u001B[0m\n",
      "File \u001B[0;32mZc0f5ed362f587e2990729fbf1913b613M_.TypeSystemBase:1117\u001B[0m, in \u001B[0;36m_c3_static_inline_impl\u001B[0;34m(___args, source_code, py_code, method_name, _cls)\u001B[0m\n",
      "File \u001B[0;32mZc0f5ed362f587e2990729fbf1913b613M_.TypeSystemBase:1015\u001B[0m, in \u001B[0;36minline_traceback_impl\u001B[0;34m(source_code, fn, ___args, cls)\u001B[0m\n",
      "File \u001B[0;32m<string>:77\u001B[0m, in \u001B[0;36mcopyFilesToLocalClient\u001B[0;34m(srcUrlOrEncodedPath, localPath, spec)\u001B[0m\n",
      "File \u001B[0;32m<string>:145\u001B[0m, in \u001B[0;36mexecuteConcurrently\u001B[0;34m(func, args, maxConcurrency)\u001B[0m\n",
      "File \u001B[0;32m~/.conda/envs/py-ocean_sim_cpu/lib/python3.9/threading.py:1060\u001B[0m, in \u001B[0;36mThread.join\u001B[0;34m(self, timeout)\u001B[0m\n\u001B[1;32m   1057\u001B[0m     \u001B[38;5;28;01mraise\u001B[39;00m \u001B[38;5;167;01mRuntimeError\u001B[39;00m(\u001B[38;5;124m\"\u001B[39m\u001B[38;5;124mcannot join current thread\u001B[39m\u001B[38;5;124m\"\u001B[39m)\n\u001B[1;32m   1059\u001B[0m \u001B[38;5;28;01mif\u001B[39;00m timeout \u001B[38;5;129;01mis\u001B[39;00m \u001B[38;5;28;01mNone\u001B[39;00m:\n\u001B[0;32m-> 1060\u001B[0m     \u001B[38;5;28;43mself\u001B[39;49m\u001B[38;5;241;43m.\u001B[39;49m\u001B[43m_wait_for_tstate_lock\u001B[49m\u001B[43m(\u001B[49m\u001B[43m)\u001B[49m\n\u001B[1;32m   1061\u001B[0m \u001B[38;5;28;01melse\u001B[39;00m:\n\u001B[1;32m   1062\u001B[0m     \u001B[38;5;66;03m# the behavior of a negative timeout isn't documented, but\u001B[39;00m\n\u001B[1;32m   1063\u001B[0m     \u001B[38;5;66;03m# historically .join(timeout=x) for x<0 has acted as if timeout=0\u001B[39;00m\n\u001B[1;32m   1064\u001B[0m     \u001B[38;5;28mself\u001B[39m\u001B[38;5;241m.\u001B[39m_wait_for_tstate_lock(timeout\u001B[38;5;241m=\u001B[39m\u001B[38;5;28mmax\u001B[39m(timeout, \u001B[38;5;241m0\u001B[39m))\n",
      "File \u001B[0;32m~/.conda/envs/py-ocean_sim_cpu/lib/python3.9/threading.py:1080\u001B[0m, in \u001B[0;36mThread._wait_for_tstate_lock\u001B[0;34m(self, block, timeout)\u001B[0m\n\u001B[1;32m   1077\u001B[0m     \u001B[38;5;28;01mreturn\u001B[39;00m\n\u001B[1;32m   1079\u001B[0m \u001B[38;5;28;01mtry\u001B[39;00m:\n\u001B[0;32m-> 1080\u001B[0m     \u001B[38;5;28;01mif\u001B[39;00m \u001B[43mlock\u001B[49m\u001B[38;5;241;43m.\u001B[39;49m\u001B[43macquire\u001B[49m\u001B[43m(\u001B[49m\u001B[43mblock\u001B[49m\u001B[43m,\u001B[49m\u001B[43m \u001B[49m\u001B[43mtimeout\u001B[49m\u001B[43m)\u001B[49m:\n\u001B[1;32m   1081\u001B[0m         lock\u001B[38;5;241m.\u001B[39mrelease()\n\u001B[1;32m   1082\u001B[0m         \u001B[38;5;28mself\u001B[39m\u001B[38;5;241m.\u001B[39m_stop()\n",
      "\u001B[0;31mKeyboardInterrupt\u001B[0m: "
     ]
    }
   ],
   "source": [
    "# def checkForReplanning(this, posix_time=None):\n",
    "\"\"\"Check if there is a new forecast, if yes replan the value function.\"\"\"\n",
    "# try:\n",
    "if posix_time is None:\n",
    "    current_datetime = datetime.datetime.now(tz=datetime.timezone.utc)\n",
    "else:\n",
    "    current_datetime = datetime.datetime.fromtimestamp(posix_time, tz=datetime.timezone.utc)\n",
    "# Step 0: imports\n",
    "from ocean_navigation_simulator.problem_factories.Constructor import Constructor\n",
    "from ocean_navigation_simulator.environment.PlatformState import SpatioTemporalPoint\n",
    "from ocean_navigation_simulator.environment.Arena import ArenaObservation\n",
    "from ocean_navigation_simulator.environment.PlatformState import PlatformState\n",
    "from ocean_navigation_simulator.utils.misc import set_arena_loggers\n",
    "from ocean_navigation_simulator.data_sources.OceanCurrentField import OceanCurrentField\n",
    "from ocean_navigation_simulator.environment.ArenaFactory import ArenaFactory\n",
    "import logging\n",
    "import os\n",
    "set_arena_loggers(logging.DEBUG)\n",
    "# Step 1: Check if replanning is necessary\n",
    "this = this.get(\"mission.missionConfig, mission.experiment.timeout_in_sec,\" +\n",
    "                \"mission.experiment.arenaConfig, mission.experiment.objectiveConfig,\" +\n",
    "                \"controllerSetting.ctrlConfig, observerSetting.observerConfig, valueFunctionInfo,\" +\n",
    "                \"recentPlatformState, planningStatus, valueFunction\")\n",
    "\n",
    "# Step 1.2: set-up download for the appropriate FC files\n",
    "# Set up file paths and download folders\n",
    "temp_folder = '/tmp/' + this.id + '/'\n",
    "# create the folder if it doesn't exist yet\n",
    "if not os.path.isdir(temp_folder):\n",
    "    os.mkdir(temp_folder)\n",
    "extDir = \"ocean_sim_run_results/\" + this.mission.experiment.id + '/RealOceanSimRuns/' + this.id\n",
    "\n",
    "# set download directories (ignore set ones in arenaConfig)\n",
    "arenaConfig = this.mission.experiment.arenaConfig\n",
    "if arenaConfig['ocean_dict']['forecast'] is None:\n",
    "    raise ValueError('arenaConfig[ocean_dict][forecast] must be defined for replanning!')\n",
    "\n",
    "arenaConfig['timeout'] = this.mission.experiment.timeout_in_sec\n",
    "arenaConfig['ocean_dict']['forecast']['source_settings']['folder'] = '/tmp/forecast_files/' + this.id + '/'\n",
    "to_download_forecast_files = arenaConfig[\"ocean_dict\"][\"forecast\"][\"source\"] == \"forecast_files\"\n",
    "\n",
    "# prepping the file download\n",
    "point_to_check = SpatioTemporalPoint.from_dict(this.mission.missionConfig['x_0'][0])\n",
    "# retrieve the most recent platform state\n",
    "state = this.recentPlatformState\n",
    "print(state)\n",
    "most_recent_platform_state = PlatformState.from_dict({\n",
    "    'date_time': str(state.date_time),\n",
    "    'lon': state.lon,\n",
    "    'lat': state.lat\n",
    "})\n",
    "# time interval to download files from last platform state to current datetime\n",
    "t_interval = [most_recent_platform_state.date_time - datetime.timedelta(hours=35),\n",
    "              current_datetime]\n",
    "\n",
    "# Checks if we shall replan\n",
    "# Step 1.1: If no valueFunctionInfo exists -> replan\n",
    "replan = False\n",
    "if this.valueFunctionInfo is None:\n",
    "    print(\"replan because first run!\")\n",
    "    replan = True\n",
    "elif this.valueFunctionInfo.FC_file_start is None:\n",
    "    print(\"replan because errors in first run!\")\n",
    "    replan = True\n",
    "elif checkIfReplanningBcNewFMRC(this, arenaConfig, t_interval):\n",
    "    print(\"replan because new FC file!\")\n",
    "    replan = True\n",
    "elif this.controllerSetting.ctrlConfig.get('replan_every_X_seconds', False):\n",
    "    if (current_datetime - this.valueFunctionInfo.date_time).total_seconds() > \\\n",
    "            this.controllerSetting.ctrlConfig['replan_every_X_seconds']:\n",
    "        print('Replan because of replan_every_X_seconds')\n",
    "        replan = True\n",
    "if not replan:\n",
    "    print('Not Replanning')\n",
    "    if this.planningStatus != 'no_errors':\n",
    "        this.planningStatus = 'no_errors'\n",
    "        this.valueFunctionInfo.info = 'no_errors'\n",
    "        this.merge()\n",
    "#     return this.valueFunctionInfo\n",
    "\n",
    "print('Replanning')\n",
    "with ArenaFactory.download_files(\n",
    "        config=arenaConfig, type=\"forecast\", throw_exceptions=False,\n",
    "        t_interval=t_interval, c3=c3, points=[point_to_check.to_spatial_point()]):\n",
    "\n",
    "    # Step 1.3.2: instantiate the FC source\n",
    "    forecast_source_dict = arenaConfig['ocean_dict']['forecast']\n",
    "    forecast_source_dict[\"casadi_cache_settings\"] = arenaConfig['casadi_cache_dict']\n",
    "    forecast_source_dict[\"use_geographic_coordinate_system\"] = arenaConfig['use_geographic_coordinate_system']\n",
    "    forecast_source = OceanCurrentField.instantiate_source_from_dict(forecast_source_dict)\n",
    "\n",
    "    most_recent_fc_date = forecast_source.check_for_most_recent_fmrc_dataframe(time=current_datetime)\n",
    "    # Set most_recent_platform_state.date_time to forecast start because we want HJ to plan back as far as it can\n",
    "    if most_recent_platform_state.date_time < most_recent_fc_date:\n",
    "        most_recent_platform_state.date_time = forecast_source.check_for_most_recent_fmrc_dataframe(\n",
    "            time=current_datetime)\n",
    "\n",
    "    # Step 0: Create Constructor to instantiate problem and controller\n",
    "    constructor = Constructor(\n",
    "        arena_conf=arenaConfig,\n",
    "        mission_conf=this.mission.missionConfig,\n",
    "        objective_conf=this.mission.experiment.objectiveConfig,\n",
    "        ctrl_conf=this.controllerSetting.ctrlConfig,\n",
    "        observer_conf=this.observerSetting.observerConfig,\n",
    "        create_arena=False\n",
    "    )\n",
    "\n",
    "    # Step 1: Trigger the planning\n",
    "    _ = constructor.controller.get_action(\n",
    "        observation=ArenaObservation(\n",
    "            platform_state=most_recent_platform_state,\n",
    "            true_current_at_state=None,\n",
    "            forecast_data_source=forecast_source,\n",
    "        ))\n",
    "\n",
    "    # Step 4: create a dataset for the HJ Value Function\n",
    "    hj_values = constructor.controller.all_values\n",
    "    posix_times = constructor.controller.reach_times + constructor.controller.current_data_t_0\n",
    "    x_grid = constructor.controller.grid.coordinate_vectors[0]\n",
    "    y_grid = constructor.controller.grid.coordinate_vectors[1]\n",
    "\n",
    "    data = xr.Dataset(\n",
    "        {\"HJValueFunc\": ((\"time\", \"x\", \"y\"), hj_values)},\n",
    "        coords={\"x\": x_grid, \"y\": y_grid, \"time\": posix_times})\n",
    "\n",
    "    # Step 4.2 Save to file\n",
    "    temp_folder = '/tmp/' + this.id + '/'\n",
    "\n",
    "    nc_file_name = \"HJ_func_\" + current_datetime.strftime(\"%m_%d_%Y_%H_%M\") + \".nc\"\n",
    "    data.to_netcdf(temp_folder + nc_file_name)\n",
    "\n",
    "    # Step 4.3 upload file to Azure and delete local file\n",
    "    c3.Client.uploadLocalClientFiles(temp_folder + nc_file_name, extDir + '/hj_val_funcs',\n",
    "                                     {\"peekForMetadata\": True})\n",
    "    c3_file_obj = c3.File(**{'url': extDir + '/hj_val_funcs/' + nc_file_name}).readMetadata()\n",
    "    os.remove(temp_folder + nc_file_name)\n",
    "\n",
    "    # Update RealOceanSimRun\n",
    "    this = this.get('planningStatus, valueFunctionInfo, valueFunction')\n",
    "    this.valueFunction = c3_file_obj\n",
    "    this.valueFunctionInfo = c3.PlanningMetaInfo(**{\n",
    "        'date_time': current_datetime,\n",
    "        'FC_file_start': most_recent_fc_date,\n",
    "        'info': 'no_errors'\n",
    "    })\n",
    "    this.planningStatus = 'no_errors'\n",
    "    this.merge()\n",
    "\n",
    "# except Exception as e:\n",
    "#     # if we crash we should upload that to the table for debugging\n",
    "#     print(\"Error Message: \", e)\n",
    "#     this = this.get('oceanSimResult, planningStatus')\n",
    "#     this.planningStatus = 'error_in_replanning'\n",
    "#     if this.oceanSimResult is None:\n",
    "#         this.oceanSimResult = c3.OceanSimResult(**{'error_message': e})\n",
    "#     else:\n",
    "#         this.oceanSimResult.error_message = e\n",
    "#     if this.valueFunctionInfo:\n",
    "#         this.valueFunctionInfo.info = e\n",
    "#     else:\n",
    "#         this.valueFunctionInfo = c3.PlanningMetaInfo(**{'info': e})\n",
    "#     this.merge()\n",
    "\n",
    "# return this.valueFunctionInfo"
   ]
  },
  {
   "cell_type": "markdown",
   "id": "55556996",
   "metadata": {
    "heading_collapsed": true
   },
   "source": [
    "# Step 3: Called in operation to get optimal thrust Vector"
   ]
  },
  {
   "cell_type": "code",
   "execution_count": 11,
   "id": "228f4d2e",
   "metadata": {
    "ExecuteTime": {
     "end_time": "2023-04-18T23:49:40.962356Z",
     "start_time": "2023-04-18T23:49:12.638800Z"
    },
    "hidden": true
   },
   "outputs": [
    {
     "name": "stdout",
     "output_type": "stream",
     "text": [
      "took seconds:  28.320302724838257\n",
      "{'magnitude': 1.0, 'direction': -0.013157135472755937, 'status': 'Error with HJValueFunction. Default to Naive to Target.'}\n"
     ]
    }
   ],
   "source": [
    "# %% The platform calls this to get the optimal thurst vector at each point in time\n",
    "# The server will log both the lat, lon, time of the input and the thrust it computed\n",
    "# Takes ≈2-3s (first call can take up to 60s because it has to install the python runtime in a VM)\n",
    "start = time.time()\n",
    "payload = {\n",
    "    'id': real_ocean_run_id,\n",
    "    \"lat\": 37.1,\n",
    "    \"lon\": -130.0,\n",
    "    \"posix_time\": 1673679160.0\n",
    "}\n",
    "result = requests.post(generate_c3_http_url(c3_type=\"RealOceanSimRun\", action=\"getThrustVector\"), headers=headers,\n",
    "                       params=payload)\n",
    "print(\"took seconds: \", time.time() - start)\n",
    "print(result.json())"
   ]
  },
  {
   "cell_type": "markdown",
   "id": "3f36a2b7",
   "metadata": {
    "heading_collapsed": true
   },
   "source": [
    "# Step 4: Set Status to 'inactive' when Mission is finished"
   ]
  },
  {
   "cell_type": "code",
   "execution_count": 53,
   "id": "f8dc5fa2",
   "metadata": {
    "ExecuteTime": {
     "end_time": "2023-01-14T06:52:56.785130Z",
     "start_time": "2023-01-14T06:52:56.783112Z"
    },
    "hidden": true
   },
   "outputs": [],
   "source": [
    "# The RealOceanSimRun object has a status field, as long as this is set to 'active' a job runs \n",
    "# to check regularly if a new forecast is available and if it is, the Value Function for control is recomputed.\n",
    "# This works for as many platforms as we want. When a mission (start to goal) is finished we should set\n",
    "# the status to inactive to not waste compute."
   ]
  },
  {
   "cell_type": "code",
   "execution_count": 54,
   "id": "f488934c",
   "metadata": {
    "ExecuteTime": {
     "end_time": "2023-01-14T06:52:57.957619Z",
     "start_time": "2023-01-14T06:52:57.491195Z"
    },
    "hidden": true
   },
   "outputs": [
    {
     "name": "stdout",
     "output_type": "stream",
     "text": [
      "True\n"
     ]
    }
   ],
   "source": [
    "payload = {\n",
    "    'ID': real_ocean_run_id,\n",
    "    \"new_status\": 'inactive'\n",
    "}\n",
    "result = requests.post(generate_c3_http_url(c3_type=\"RealOceanSimRun\", action=\"updateStatus\"), headers=headers,\n",
    "                       params=payload)\n",
    "print(result.json())"
   ]
  }
 ],
 "metadata": {
  "has_local_update": true,
  "is_local": true,
  "is_remote": true,
  "kernelspec": {
   "display_name": "Python 3",
   "language": "python",
   "name": "python3"
  },
  "language_info": {
   "codemirror_mode": {
    "name": "ipython",
    "version": 3
   },
   "file_extension": ".py",
   "mimetype": "text/x-python",
   "name": "python",
   "nbconvert_exporter": "python",
   "pygments_lexer": "ipython3",
   "version": "3.8.13"
  },
  "last_sync_time": "2023-04-26T05:20:19.413933"
 },
 "nbformat": 4,
 "nbformat_minor": 5
}
