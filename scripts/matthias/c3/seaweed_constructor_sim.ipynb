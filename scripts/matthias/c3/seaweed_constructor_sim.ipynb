{
 "cells": [
  {
   "cell_type": "code",
   "execution_count": 1,
   "metadata": {},
   "outputs": [],
   "source": [
    "import datetime\n",
    "import logging\n",
    "import os\n",
    "\n",
    "import matplotlib.pyplot as plt\n",
    "import pandas as pd\n",
    "from ocean_navigation_simulator.problem_factories.Constructor import (\n",
    "    Constructor,\n",
    ")\n",
    "from ocean_navigation_simulator.problem_factories.SeaweedMissionGenerator import SeaweedMissionGenerator\n",
    "\n",
    "from ocean_navigation_simulator.utils.misc import set_arena_loggers\n",
    "# These lines in VSCode to avoid reloading the kernel when changes are made to the external kernel\n",
    "# %load_ext autoreload\n",
    "# %autoreload 2\n",
    "\n",
    "# Settings for where the problem csv is saved\n",
    "my_path = os.getcwd()\n",
    "results_folder = os.path.join(my_path, \"tmp/missions/\")\n",
    "os.makedirs(results_folder, exist_ok=True)"
   ]
  },
  {
   "cell_type": "markdown",
   "metadata": {},
   "source": [
    "## Generate Random Missions"
   ]
  },
  {
   "cell_type": "markdown",
   "metadata": {},
   "source": [
    "### 1. Arena Configuration and Mission configuration"
   ]
  },
  {
   "cell_type": "code",
   "execution_count": 14,
   "metadata": {},
   "outputs": [],
   "source": [
    "arena_config = {\n",
    "    \"casadi_cache_dict\": {\"deg_around_x_t\": 2.0, \"time_around_x_t\": 432000},\n",
    "    \"platform_dict\": {\n",
    "        \"battery_cap_in_wh\": 400000.0,\n",
    "        \"u_max_in_mps\": 1,\n",
    "        \"motor_efficiency\": 1.0,\n",
    "        \"solar_panel_size\": 100,\n",
    "        \"solar_efficiency\": 1,\n",
    "        \"drag_factor\": 675.0,\n",
    "        \"dt_in_s\": 600.0,\n",
    "    },\n",
    "    \"use_geographic_coordinate_system\": True,\n",
    "    \"spatial_boundary\": None,\n",
    "    \"ocean_dict\": {\n",
    "        \"keep_newest_days\": 365,\n",
    "        \"region\": \"Region 3\",\n",
    "        \"hindcast\": {\n",
    "            \"field\": \"OceanCurrents\",\n",
    "            \"source\": \"hindcast_files\",\n",
    "            \"source_settings\": {\n",
    "                \"folder\": \"/Users/matthiaskiller/Desktop/data/tmp/hindcast/\",\n",
    "                \"source\": \"HYCOM\",\n",
    "                \"type\": \"hindcast\",\n",
    "            },\n",
    "        },\n",
    "        \"forecast\": None,\n",
    "        # {\n",
    "        #     \"field\": \"OceanCurrents\",\n",
    "        #     \"source\": \"longterm_average\",\n",
    "        #     \"source_settings\": {\n",
    "        #         \"forecast\": {\n",
    "        #             \"field\": \"OceanCurrents\",\n",
    "        #             \"source\": \"forecast_files\",\n",
    "        #             \"source_settings\": {\n",
    "        #                 \"folder\": \"/Users/matthiaskiller/Desktop/data/tmp/forecast/\",\n",
    "        #                 \"source\": \"Copernicus\",\n",
    "        #                 \"type\": \"forecast\",\n",
    "        #             },\n",
    "        #         },\n",
    "        #         \"average\": {\n",
    "        #             \"field\": \"OceanCurrents\",\n",
    "        #             \"source\": \"hindcast_files\",\n",
    "        #             \"source_settings\": {\n",
    "        #                 \"folder\": \"/Users/matthiaskiller/Desktop/data/Copernicus/Averages_monthly/\",\n",
    "        #                 \"currents\": \"normal\",\n",
    "        #             },\n",
    "        #         },\n",
    "        #     },\n",
    "        # },\n",
    "    },\n",
    "    \"solar_dict\": {\n",
    "        \"hindcast\": { \n",
    "            \"field\": 'SolarIrradiance',\n",
    "            \"source\": 'analytical_wo_caching', # can also be analytical_w_caching\n",
    "            \"source_settings\": {\n",
    "                \"boundary_buffer\": [0.2, 0.2],\n",
    "                \"x_domain\": [-180, 180],\n",
    "                \"y_domain\": [-90, 90],\n",
    "                \"temporal_domain\": \n",
    "                ['2020-01-01T00:00:00+00:00','2023-01-10T00:00:00+00:00'\n",
    "                    # datetime.datetime(year=2020, month=1, day=1, tzinfo=datetime.timezone.utc),\n",
    "                    # datetime.datetime(year=2023, month=1, day=10, tzinfo=datetime.timezone.utc),\n",
    "                ],\n",
    "                \"spatial_resolution\": 0.1,\n",
    "                \"temporal_resolution\": 3600,\n",
    "            },\n",
    "        },\n",
    "        \"forecast\": None,\n",
    "    },\n",
    "    \"seaweed_dict\": {\n",
    "        \"hindcast\": {\n",
    "            \"field\": 'SeaweedGrowth',\n",
    "            \"source\": 'GEOMAR',\n",
    "            \"source_settings\": {\n",
    "                \"filepath\": './ocean_navigation_simulator/package_data/nutrients/', #'./data/nutrients/2022_monthly_nutrients_and_temp.nc' \n",
    "            },\n",
    "        },\n",
    "        \"forecast\": None,\n",
    "    },\n",
    "    \"timeout\": 3600 * 24 * 30, \n",
    "}\n",
    "\n",
    "# change to this if basic setup works\n",
    "set_arena_loggers(logging.INFO)\n",
    "logging.getLogger(\"SeaweedMissionGenerator\").setLevel(logging.INFO)\n",
    "\n",
    "config = {\n",
    "    \"scenario_config\": arena_config,\n",
    "    \"x_range\": [-120, -70],\n",
    "    \"y_range\": [-20, 20],\n",
    "    \"t_range\":\n",
    "    [\"2022-07-01T00:00:00+00:00\", \"2022-10-05T00:00:00+00:00\"\n",
    "        #datetime.datetime(year=2022, month=7, day=19, tzinfo=datetime.timezone.utc),\n",
    "        #datetime.datetime(year=2022, month=8, day=20, tzinfo=datetime.timezone.utc),\n",
    "    ],\n",
    "    \"time_horizon\": 2592000, # 3600 * 24 * 5 # in seconds\n",
    "    \"n_samples\": 1, # number of start samples per runner\n",
    "    \"min_distance_from_land\": 0.5, # degree\n",
    "}\n",
    "\n"
   ]
  },
  {
   "cell_type": "markdown",
   "metadata": {},
   "source": [
    "### 2. Run generation"
   ]
  },
  {
   "cell_type": "code",
   "execution_count": null,
   "metadata": {},
   "outputs": [],
   "source": [
    "nb_workers = 1\n",
    "all_problems = []\n",
    "for worker in range(nb_workers):\n",
    "    mission_generator = SeaweedMissionGenerator(\n",
    "        config=config\n",
    "        | {\n",
    "            \"seed\": 2022 + worker,\n",
    "            \"cache_folder\": results_folder + str(worker) + \"_\",\n",
    "        }\n",
    "    )\n",
    "    problems = mission_generator.generate_batch()\n",
    "    all_problems.extend(problems)\n",
    "df = pd.DataFrame([problem.to_dict() for problem in all_problems])\n",
    "df.to_csv(results_folder + \"problems.csv\")"
   ]
  },
  {
   "cell_type": "markdown",
   "metadata": {},
   "source": [
    "### 3. Visualize generated Navigation Problems"
   ]
  },
  {
   "cell_type": "code",
   "execution_count": null,
   "metadata": {},
   "outputs": [],
   "source": [
    "# visualize starts (which defines a c3 \"mission\") \n",
    "SeaweedMissionGenerator.plot_starts(\n",
    "    problems=all_problems, config=config\n",
    ")"
   ]
  },
  {
   "cell_type": "code",
   "execution_count": null,
   "metadata": {},
   "outputs": [],
   "source": [
    "for problem in problems:\n",
    "    print(problem)"
   ]
  },
  {
   "cell_type": "code",
   "execution_count": 3,
   "metadata": {},
   "outputs": [],
   "source": [
    "from ocean_navigation_simulator.environment.SeaweedProblem import SeaweedProblem\n",
    "from ocean_navigation_simulator.environment.PlatformState import PlatformState\n",
    "from ocean_navigation_simulator.utils import units\n",
    "\n"
   ]
  },
  {
   "cell_type": "code",
   "execution_count": 4,
   "metadata": {},
   "outputs": [],
   "source": [
    "problem_center = SeaweedProblem(\n",
    "    start_state=PlatformState(\n",
    "        lon=units.Distance(deg=-95),\n",
    "        lat=units.Distance(deg=-5),\n",
    "        date_time=datetime.datetime(2022,7,1,0,0,0,0),\n",
    "    ),\n",
    "    )"
   ]
  },
  {
   "cell_type": "code",
   "execution_count": 5,
   "metadata": {},
   "outputs": [],
   "source": [
    "exp=[problem_center.to_c3_mission_config()]"
   ]
  },
  {
   "cell_type": "code",
   "execution_count": 6,
   "metadata": {},
   "outputs": [
    {
     "data": {
      "text/plain": [
       "[{'x_0': [{'lon': -95.0, 'lat': -5.0, 'date_time': '2022-07-01T00:00:00'}],\n",
       "  'seed': None}]"
      ]
     },
     "execution_count": 6,
     "metadata": {},
     "output_type": "execute_result"
    }
   ],
   "source": [
    "exp"
   ]
  },
  {
   "cell_type": "code",
   "execution_count": null,
   "metadata": {},
   "outputs": [],
   "source": [
    "import pandas as pd\n",
    "\n",
    "results_folder = \"./\"\n",
    "df = pd.DataFrame([problem.to_dict() for problem in problems])\n",
    "df['factory_index'] = 0\n",
    "df.to_csv(results_folder + \"problems.csv\")"
   ]
  },
  {
   "cell_type": "code",
   "execution_count": null,
   "metadata": {},
   "outputs": [],
   "source": [
    "import pandas as pd\n",
    "import matplotlib.pyplot as plt\n",
    "import numpy as np\n",
    "\n",
    "fig, ax = plt.subplots(figsize=(16, 12))\n",
    "\n",
    "# Add labels to the x and y axis\n",
    "plt.xlabel('Dates')\n",
    "plt.ylabel('Frequency')\n",
    "\n",
    "days = pd.date_range(\n",
    "    df[\"t_0\"].min(),\n",
    "    df[\"t_0\"].max(),\n",
    "    freq=\"D\",\n",
    ")\n",
    "months = pd.date_range(\n",
    "    df[\"t_0\"].min() - pd.DateOffset(months=1),\n",
    "    df[\"t_0\"].max() + pd.DateOffset(months=1),\n",
    "    freq=\"MS\",\n",
    ")\n",
    "\n",
    "df[\"t_0\"].astype(np.int64).plot.hist(ax=ax, bins=days.astype(np.int64), rwidth=0.85)\n",
    "\n",
    "# Set the x-axis ticks to show a label every year\n",
    "ax.set_xticks(months.astype(np.int64).to_list())\n",
    "ax.set_xticklabels(months.strftime(\"%Y-%m\").to_list(), rotation=45)\n",
    "\n",
    "unique_days = len(df[\"t_0\"].unique())\n",
    "fig.suptitle(f\"Target Day Histogram (Days: {unique_days})\")\n",
    "\n",
    "# Show the plot\n",
    "fig.show()\n"
   ]
  },
  {
   "cell_type": "markdown",
   "metadata": {},
   "source": [
    "### 4. To c3 mission"
   ]
  },
  {
   "cell_type": "code",
   "execution_count": null,
   "metadata": {},
   "outputs": [],
   "source": [
    "exp = []\n",
    "for idx, problem in enumerate(all_problems):\n",
    "    try:\n",
    "        exp.append(problem.to_c3_mission_config())\n",
    "    except BaseException:\n",
    "        continue"
   ]
  },
  {
   "cell_type": "code",
   "execution_count": null,
   "metadata": {},
   "outputs": [],
   "source": [
    "print(len(exp))"
   ]
  },
  {
   "cell_type": "markdown",
   "metadata": {},
   "source": [
    "## Prepare Simulator for a defined mission"
   ]
  },
  {
   "cell_type": "markdown",
   "metadata": {},
   "source": [
    "## 1. Base config for controller & observer & navigation"
   ]
  },
  {
   "cell_type": "code",
   "execution_count": 15,
   "metadata": {},
   "outputs": [],
   "source": [
    "NoObserver = {\"observer\": None}\n",
    "\n",
    "# Controller Configs\n",
    "SeaweedCtrlConfig = {\n",
    "    \"replan_on_new_fmrc\": True,\n",
    "    \"replan_every_X_seconds\": False,\n",
    "    \"direction\": \"backward\",\n",
    "    \"n_time_vector\": 24*2*30,\n",
    "    # Note that this is the number of time-intervals, the vector is +1 longer because of init_time\n",
    "    \"deg_around_xt_xT_box_global\": 15,  # area over which to run HJ_reachability on the first global run\n",
    "    \"deg_around_xt_xT_box\": 1.4,  # area over which to run HJ_reachability\n",
    "    \"accuracy\": \"high\",\n",
    "    \"artificial_dissipation_scheme\": \"local_local\",\n",
    "    \"T_goal_in_seconds\": 3600 * 24 * 30,\n",
    "    \"use_geographic_coordinate_system\": True,\n",
    "    \"progress_bar\": True,\n",
    "    \"grid_res\": 0.083,  # Note: this is in deg lat, lon (HYCOM Global is 0.083 and Mexico 0.04)\n",
    "    \"grid_res_global\": 0.166,# 0.166, # for first global planning Note: this is in deg lat, lon \n",
    "    \"d_max\": 0.0,\n",
    "    \"calc_opt_traj_after_planning\": False,\n",
    "    \"ctrl_name\": \"ocean_navigation_simulator.controllers.hj_planners.HJBSeaweed2DPlanner.HJBSeaweed2DPlanner\"\n",
    "}\n",
    "\n",
    "\n",
    "objective_conf = {\"type\": \"max_seaweed\"}"
   ]
  },
  {
   "cell_type": "markdown",
   "metadata": {},
   "source": [
    "## 2. Constructor"
   ]
  },
  {
   "cell_type": "code",
   "execution_count": 16,
   "metadata": {},
   "outputs": [
    {
     "name": "stderr",
     "output_type": "stream",
     "text": [
      "INFO:arena.ocean_field:DataField: Create Hindcast Source (1.0s)\n",
      "INFO:arena.ocean_field:DataField: Forecast is the same as Hindcast for OceanCurrents.\n",
      "INFO:arena.solar_field:DataField: Create Hindcast Source (0.0s)\n",
      "INFO:arena.solar_field:DataField: Forecast is the same as Hindcast for SolarIrradiance.\n",
      "INFO:arena.seaweed_growth_field:DataField: Create Hindcast Source (12.9s)\n",
      "INFO:arena.seaweed_growth_field:DataField: Forecast is the same as Hindcast for SeaweedGrowth.\n",
      "INFO:arena:Arena: Generate Sources (13.8s)\n",
      "INFO:arena:Arena: Generate Platform (0.0s)\n",
      "INFO:arena.factory:ArenaFactory: Creating Arena for None (13.83s)\n",
      "INFO:arena.platform:Platform: Set Dynamics F_x_next Function (0.1s)\n",
      "INFO:arena.platform:Platform: Update Casadi + Dynamics (13.1s)\n"
     ]
    }
   ],
   "source": [
    "import wandb\n",
    "# choose mission we want to simulate (1 target per mission)\n",
    "idx_mission = 0\n",
    "mission_config = exp[idx_mission]\n",
    "\n",
    "#wandb.init(project=\"Long Horizon Seaweed Maximization\", entity=\"ocean-platform-control\", config=config)\n",
    "\n",
    "\n",
    "# Step 0: Create Constructor object which contains arena, problem, controller and observer\n",
    "constructor = Constructor(\n",
    "    arena_conf=arena_config,\n",
    "    mission_conf=mission_config,\n",
    "    objective_conf=objective_conf,\n",
    "    ctrl_conf=SeaweedCtrlConfig,  # here different controller configs can be put in\n",
    "    observer_conf=NoObserver,  # here the other observers can also be put int\n",
    "    download_files=False,\n",
    "    timeout_in_sec=arena_config[\"timeout\"],\n",
    ")\n",
    "# Step 1.1 Retrieve problem\n",
    "problem = constructor.problem\n",
    "\n",
    "# Step 1.2: Retrieve arena\n",
    "arena = constructor.arena\n",
    "observation = arena.reset(platform_state=problem.start_state)\n",
    "problem_status = arena.problem_status(problem=problem)\n",
    "\n",
    "\n",
    "\n"
   ]
  },
  {
   "attachments": {},
   "cell_type": "markdown",
   "metadata": {},
   "source": [
    "## wandb"
   ]
  },
  {
   "cell_type": "code",
   "execution_count": null,
   "metadata": {},
   "outputs": [],
   "source": [
    "import wandb\n",
    "wandb.init(project=\"Long Horizon Seaweed Maximization\", entity=\"ocean-platform-control\", name=\"test_fig\")"
   ]
  },
  {
   "attachments": {},
   "cell_type": "markdown",
   "metadata": {},
   "source": [
    "#### Plot the problem on the map\n"
   ]
  },
  {
   "cell_type": "code",
   "execution_count": null,
   "metadata": {},
   "outputs": [],
   "source": [
    "import matplotlib.pyplot as plt"
   ]
  },
  {
   "cell_type": "code",
   "execution_count": null,
   "metadata": {},
   "outputs": [],
   "source": [
    "t_interval, lat_bnds, lon_bnds = arena.ocean_field.hindcast_data_source.convert_to_x_y_time_bounds(\n",
    "    x_0=problem.start_state.to_spatio_temporal_point(), x_T=problem.start_state.to_spatio_temporal_point(),\n",
    "    deg_around_x0_xT_box=1, temp_horizon_in_s=3600\n",
    ")\n",
    "\n",
    "ax = arena.ocean_field.hindcast_data_source.plot_data_at_time_over_area(\n",
    "    time=problem.start_state.date_time, x_interval=lon_bnds, y_interval=lat_bnds, return_ax=True\n",
    ")\n",
    "ax = problem.plot(ax=ax)\n",
    "fig = ax.get_figure()\n",
    "\n",
    "fig = plt.figure(fig)\n",
    "\n",
    "plt.savefig(\"current_with_start.svg\")\n",
    "plt.savefig(\"current_with_start.jpg\", dpi=80)\n",
    "\n",
    "wandb.save(\"current_with_start.svg\")\n",
    "\n",
    "image = wandb.Image(\"current_with_start.jpg\", caption=\"Current with start\")\n",
    "wandb.log({\"Current with start\": image})"
   ]
  },
  {
   "cell_type": "code",
   "execution_count": null,
   "metadata": {},
   "outputs": [],
   "source": [
    "lat_bnds = [-25,25]\n",
    "lon_bnds = [-125,-65]\n",
    "\n",
    "\n",
    "ax = arena.seaweed_field.hindcast_data_source.plot_data_at_time_over_area(\n",
    "    time=datetime.datetime(2022,7,1,16,0,0), x_interval=lon_bnds, y_interval=lat_bnds, return_ax=True\n",
    ")\n",
    "\n",
    "#ax = problem.plot(ax=ax)\n",
    "fig = ax.get_figure()\n",
    "\n",
    "fig = plt.figure(fig)\n",
    "\n"
   ]
  },
  {
   "cell_type": "code",
   "execution_count": null,
   "metadata": {},
   "outputs": [],
   "source": [
    "plt.savefig(\"seaweed_with_start.svg\")\n",
    "plt.savefig(\"seaweed_with_start.jpg\", dpi=80)\n",
    "\n",
    "wandb.save(\"seaweed_with_start.svg\")\n",
    "\n",
    "image = wandb.Image(\"seaweed_with_start.jpg\", caption=\"Seaweed with start\")\n",
    "wandb.log({\"Seaweed with start\": image})"
   ]
  },
  {
   "attachments": {},
   "cell_type": "markdown",
   "metadata": {},
   "source": [
    "# 3. Run Planner"
   ]
  },
  {
   "cell_type": "code",
   "execution_count": 13,
   "metadata": {},
   "outputs": [
    {
     "name": "stderr",
     "output_type": "stream",
     "text": [
      "INFO:arena.controller:HJPlannerBase: Planning because of new forecast (Old: None, New: 0)\n"
     ]
    },
    {
     "ename": "TypeError",
     "evalue": "can't compare offset-naive and offset-aware datetimes",
     "output_type": "error",
     "traceback": [
      "\u001b[0;31m---------------------------------------------------------------------------\u001b[0m",
      "\u001b[0;31mTypeError\u001b[0m                                 Traceback (most recent call last)",
      "Cell \u001b[0;32mIn [13], line 8\u001b[0m\n\u001b[1;32m      6\u001b[0m observation\u001b[39m.\u001b[39mforecast_data_source \u001b[39m=\u001b[39m observer\n\u001b[1;32m      7\u001b[0m \u001b[39m# Reachability snapshot plot\u001b[39;00m\n\u001b[0;32m----> 8\u001b[0m action \u001b[39m=\u001b[39m controller\u001b[39m.\u001b[39mget_action(observation\u001b[39m=\u001b[39mobservation)\n",
      "File \u001b[0;32m~/Library/Mobile Documents/com~apple~CloudDocs/Studium/Master RCI/Masters Thesis/Code/OceanPlatformControl/ocean_navigation_simulator/controllers/hj_planners/HJPlannerBaseDim.py:156\u001b[0m, in \u001b[0;36mHJPlannerBaseDim.get_action\u001b[0;34m(self, observation)\u001b[0m\n\u001b[1;32m    149\u001b[0m \u001b[39m\"\"\"Main interface function for the simulation, so all the logic to trigger re-planning is inside here.\u001b[39;00m\n\u001b[1;32m    150\u001b[0m \u001b[39mArgs:\u001b[39;00m\n\u001b[1;32m    151\u001b[0m \u001b[39m    observation: observation returned by the simulator (containing the forecast_data_source)\u001b[39;00m\n\u001b[1;32m    152\u001b[0m \u001b[39mReturns:\u001b[39;00m\n\u001b[1;32m    153\u001b[0m \u001b[39m    PlatformAction dataclass\u001b[39;00m\n\u001b[1;32m    154\u001b[0m \u001b[39m\"\"\"\u001b[39;00m\n\u001b[1;32m    155\u001b[0m \u001b[39m# Step 1: Check if we should re-plan based on specified criteria\u001b[39;00m\n\u001b[0;32m--> 156\u001b[0m \u001b[39mself\u001b[39;49m\u001b[39m.\u001b[39;49mreplan_if_necessary(observation)\n\u001b[1;32m    158\u001b[0m \u001b[39m# Step 2: return the action from the plan\u001b[39;00m\n\u001b[1;32m    159\u001b[0m start \u001b[39m=\u001b[39m time\u001b[39m.\u001b[39mtime()\n",
      "File \u001b[0;32m~/Library/Mobile Documents/com~apple~CloudDocs/Studium/Master RCI/Masters Thesis/Code/OceanPlatformControl/ocean_navigation_simulator/controllers/hj_planners/HJPlannerBaseDim.py:176\u001b[0m, in \u001b[0;36mHJPlannerBaseDim.replan_if_necessary\u001b[0;34m(self, observation)\u001b[0m\n\u001b[1;32m    174\u001b[0m \u001b[39mself\u001b[39m\u001b[39m.\u001b[39mlast_data_source \u001b[39m=\u001b[39m observation\u001b[39m.\u001b[39mforecast_data_source\n\u001b[1;32m    175\u001b[0m \u001b[39m# Update the data used in the HJ Reachability Planning\u001b[39;00m\n\u001b[0;32m--> 176\u001b[0m \u001b[39mself\u001b[39;49m\u001b[39m.\u001b[39;49m_update_current_data(observation\u001b[39m=\u001b[39;49mobservation)\n\u001b[1;32m    177\u001b[0m \u001b[39mself\u001b[39m\u001b[39m.\u001b[39m_plan(observation\u001b[39m.\u001b[39mplatform_state)\n\u001b[1;32m    178\u001b[0m \u001b[39mself\u001b[39m\u001b[39m.\u001b[39mset_interpolator()\n",
      "File \u001b[0;32m~/Library/Mobile Documents/com~apple~CloudDocs/Studium/Master RCI/Masters Thesis/Code/OceanPlatformControl/ocean_navigation_simulator/controllers/hj_planners/HJBSeaweed2DPlanner.py:362\u001b[0m, in \u001b[0;36mHJBSeaweed2DPlanner._update_current_data\u001b[0;34m(self, observation)\u001b[0m\n\u001b[1;32m    354\u001b[0m \u001b[39m# get the data subset from the file\u001b[39;00m\n\u001b[1;32m    355\u001b[0m data_xarray \u001b[39m=\u001b[39m observation\u001b[39m.\u001b[39mforecast_data_source\u001b[39m.\u001b[39mget_data_over_area(\n\u001b[1;32m    356\u001b[0m     x_interval\u001b[39m=\u001b[39mx_interval,\n\u001b[1;32m    357\u001b[0m     y_interval\u001b[39m=\u001b[39my_interval,\n\u001b[1;32m    358\u001b[0m     t_interval\u001b[39m=\u001b[39mt_interval,\n\u001b[1;32m    359\u001b[0m     spatial_resolution\u001b[39m=\u001b[39mgrid_res,\n\u001b[1;32m    360\u001b[0m )\n\u001b[0;32m--> 362\u001b[0m seaweed_xarray \u001b[39m=\u001b[39m \u001b[39mself\u001b[39;49m\u001b[39m.\u001b[39;49marena\u001b[39m.\u001b[39;49mseaweed_field\u001b[39m.\u001b[39;49mhindcast_data_source\u001b[39m.\u001b[39;49mget_data_over_area(\n\u001b[1;32m    363\u001b[0m     x_interval\u001b[39m=\u001b[39;49mx_interval,\n\u001b[1;32m    364\u001b[0m     y_interval\u001b[39m=\u001b[39;49my_interval,\n\u001b[1;32m    365\u001b[0m     t_interval\u001b[39m=\u001b[39;49mt_interval,\n\u001b[1;32m    366\u001b[0m     spatial_resolution\u001b[39m=\u001b[39;49mgrid_res,\n\u001b[1;32m    367\u001b[0m )\n\u001b[1;32m    369\u001b[0m \u001b[39m# calculate relative posix_time (we use it in interpolation because jax uses float32 and otherwise cuts off)\u001b[39;00m\n\u001b[1;32m    370\u001b[0m data_xarray \u001b[39m=\u001b[39m data_xarray\u001b[39m.\u001b[39massign(\n\u001b[1;32m    371\u001b[0m     relative_time\u001b[39m=\u001b[39m\u001b[39mlambda\u001b[39;00m x: units\u001b[39m.\u001b[39mget_posix_time_from_np64(x\u001b[39m.\u001b[39mtime)\n\u001b[1;32m    372\u001b[0m     \u001b[39m-\u001b[39m units\u001b[39m.\u001b[39mget_posix_time_from_np64(data_xarray[\u001b[39m\"\u001b[39m\u001b[39mtime\u001b[39m\u001b[39m\"\u001b[39m][\u001b[39m0\u001b[39m])\n\u001b[1;32m    373\u001b[0m )\n",
      "File \u001b[0;32m~/Library/Mobile Documents/com~apple~CloudDocs/Studium/Master RCI/Masters Thesis/Code/OceanPlatformControl/ocean_navigation_simulator/data_sources/DataSource.py:839\u001b[0m, in \u001b[0;36mAnalyticalSource.get_data_over_area\u001b[0;34m(self, x_interval, y_interval, t_interval, spatial_resolution, temporal_resolution, throw_exceptions)\u001b[0m\n\u001b[1;32m    836\u001b[0m subset \u001b[39m=\u001b[39m \u001b[39mself\u001b[39m\u001b[39m.\u001b[39mcreate_xarray(grids_dict, data_tuple)\n\u001b[1;32m    838\u001b[0m \u001b[39m# Step 3: Do a sanity check for the sub-setting before it's used outside and leads to errors\u001b[39;00m\n\u001b[0;32m--> 839\u001b[0m \u001b[39mself\u001b[39;49m\u001b[39m.\u001b[39;49marray_subsetting_sanity_check(subset, x_interval, y_interval, t_interval, \u001b[39mself\u001b[39;49m\u001b[39m.\u001b[39;49mlogger)\n\u001b[1;32m    841\u001b[0m \u001b[39mself\u001b[39m\u001b[39m.\u001b[39mlogger\u001b[39m.\u001b[39minfo(\n\u001b[1;32m    842\u001b[0m     \u001b[39mf\u001b[39m\u001b[39m\"\u001b[39m\u001b[39mAnalyticalSource: get Data over Area finished (\u001b[39m\u001b[39m{\u001b[39;00mtime\u001b[39m.\u001b[39mtime() \u001b[39m-\u001b[39m start\u001b[39m:\u001b[39;00m\u001b[39m.1f\u001b[39m\u001b[39m}\u001b[39;00m\u001b[39ms)\u001b[39m\u001b[39m\"\u001b[39m\n\u001b[1;32m    843\u001b[0m )\n\u001b[1;32m    845\u001b[0m \u001b[39mreturn\u001b[39;00m subset\n",
      "File \u001b[0;32m~/Library/Mobile Documents/com~apple~CloudDocs/Studium/Master RCI/Masters Thesis/Code/OceanPlatformControl/ocean_navigation_simulator/data_sources/DataSource.py:224\u001b[0m, in \u001b[0;36mDataSource.array_subsetting_sanity_check\u001b[0;34m(self, array, x_interval, y_interval, t_interval, logger, throw_exception)\u001b[0m\n\u001b[1;32m    219\u001b[0m \u001b[39mif\u001b[39;00m (\n\u001b[1;32m    220\u001b[0m     array\u001b[39m.\u001b[39mcoords[\u001b[39m\"\u001b[39m\u001b[39mlon\u001b[39m\u001b[39m\"\u001b[39m]\u001b[39m.\u001b[39mdata[\u001b[39m0\u001b[39m] \u001b[39m>\u001b[39m\u001b[39m=\u001b[39m x_interval[\u001b[39m0\u001b[39m]\n\u001b[1;32m    221\u001b[0m     \u001b[39mor\u001b[39;00m array\u001b[39m.\u001b[39mcoords[\u001b[39m\"\u001b[39m\u001b[39mlon\u001b[39m\u001b[39m\"\u001b[39m]\u001b[39m.\u001b[39mdata[\u001b[39m-\u001b[39m\u001b[39m1\u001b[39m] \u001b[39m<\u001b[39m\u001b[39m=\u001b[39m x_interval[\u001b[39m1\u001b[39m]\n\u001b[1;32m    222\u001b[0m ):\n\u001b[1;32m    223\u001b[0m     spatial_error \u001b[39m=\u001b[39m \u001b[39mf\u001b[39m\u001b[39m\"\u001b[39m\u001b[39mPart of the x requested area is outside of file (requested: [\u001b[39m\u001b[39m{\u001b[39;00mx_interval[\u001b[39m0\u001b[39m]\u001b[39m}\u001b[39;00m\u001b[39m, \u001b[39m\u001b[39m{\u001b[39;00mx_interval[\u001b[39m1\u001b[39m]\u001b[39m}\u001b[39;00m\u001b[39m]).\u001b[39m\u001b[39m\"\u001b[39m\n\u001b[0;32m--> 224\u001b[0m \u001b[39mif\u001b[39;00m units\u001b[39m.\u001b[39;49mget_datetime_from_np64(array\u001b[39m.\u001b[39;49mcoords[\u001b[39m\"\u001b[39;49m\u001b[39mtime\u001b[39;49m\u001b[39m\"\u001b[39;49m]\u001b[39m.\u001b[39;49mdata[\u001b[39m0\u001b[39;49m]) \u001b[39m>\u001b[39;49m t_interval[\u001b[39m0\u001b[39;49m]:\n\u001b[1;32m    225\u001b[0m     temporal_error \u001b[39m=\u001b[39m \u001b[39mf\u001b[39m\u001b[39m\"\u001b[39m\u001b[39mThe starting time is not in the array (requested: [\u001b[39m\u001b[39m{\u001b[39;00mt_interval[\u001b[39m0\u001b[39m]\u001b[39m}\u001b[39;00m\u001b[39m, \u001b[39m\u001b[39m{\u001b[39;00mt_interval[\u001b[39m1\u001b[39m]\u001b[39m}\u001b[39;00m\u001b[39m]).\u001b[39m\u001b[39m\"\u001b[39m\n\u001b[1;32m    226\u001b[0m \u001b[39mif\u001b[39;00m units\u001b[39m.\u001b[39mget_datetime_from_np64(array\u001b[39m.\u001b[39mcoords[\u001b[39m\"\u001b[39m\u001b[39mtime\u001b[39m\u001b[39m\"\u001b[39m]\u001b[39m.\u001b[39mdata[\u001b[39m-\u001b[39m\u001b[39m1\u001b[39m]) \u001b[39m<\u001b[39m t_interval[\u001b[39m1\u001b[39m]:\n",
      "\u001b[0;31mTypeError\u001b[0m: can't compare offset-naive and offset-aware datetimes"
     ]
    }
   ],
   "source": [
    "# Step 2: Retrieve Controller\n",
    "# problem.platform_dict = arena.platform.platform_dict\n",
    "controller = constructor.controller\n",
    "observer = constructor.observer\n",
    "observer.observe(observation)\n",
    "observation.forecast_data_source = observer\n",
    "# Reachability snapshot plot\n",
    "action = controller.get_action(observation=observation)\n",
    "# controller.plot_reachability_snapshot(\n",
    "#     rel_time_in_seconds=0,\n",
    "#     granularity_in_h=5,\n",
    "#     alpha_color=1,\n",
    "#     time_to_reach=True,\n",
    "#     fig_size_inches=(12, 12),\n",
    "#     plot_in_h=True,\n",
    "#     return_ax=True,\n",
    "# )\n",
    "# plt.show()\n",
    "# Step 3: Retrieve observer\n"
   ]
  },
  {
   "cell_type": "markdown",
   "metadata": {},
   "source": [
    "### 3. Run closed-loop simulation"
   ]
  },
  {
   "cell_type": "code",
   "execution_count": null,
   "metadata": {},
   "outputs": [],
   "source": [
    "observation = arena.reset(platform_state=problem.start_state)\n",
    "problem_status = arena.problem_status(problem=problem)\n",
    "observer.observe(observation)\n",
    "observation.forecast_data_source = observer\n"
   ]
  },
  {
   "cell_type": "code",
   "execution_count": null,
   "metadata": {},
   "outputs": [],
   "source": [
    "# Step 4: Run closed-loop simulation\n",
    "while problem_status==0:\n",
    "    # Get action\n",
    "    action = controller.get_action(observation=observation)\n",
    "    # execute action\n",
    "    observation = arena.step(action)\n",
    "    # Observer data assimilation\n",
    "    observer.observe(observation)\n",
    "    observation.forecast_data_source = observer\n",
    "\n",
    "    # update problem status\n",
    "    problem_status = arena.problem_status(problem=problem)\n",
    "\n",
    "print(\"terminated because:\", arena.problem_status_text(arena.problem_status(problem=problem)))"
   ]
  },
  {
   "cell_type": "code",
   "execution_count": null,
   "metadata": {},
   "outputs": [],
   "source": [
    "ax = arena.plot_all_on_map(problem=problem, background=\"seaweed\",return_ax=True)\n",
    "fig = ax.get_figure()\n",
    "fig = plt.figure(fig)"
   ]
  },
  {
   "cell_type": "code",
   "execution_count": null,
   "metadata": {},
   "outputs": [],
   "source": [
    "ax = arena.plot_all_on_map(problem=problem, background=\"current\",return_ax=True)\n",
    "fig = ax.get_figure()\n",
    "fig = plt.figure(fig)"
   ]
  },
  {
   "cell_type": "markdown",
   "metadata": {},
   "source": [
    "### 4. Get metrics"
   ]
  },
  {
   "cell_type": "code",
   "execution_count": null,
   "metadata": {},
   "outputs": [],
   "source": [
    "controller.animate_value_func_3D()"
   ]
  },
  {
   "cell_type": "code",
   "execution_count": null,
   "metadata": {},
   "outputs": [],
   "source": [
    "#print(arena.platform.state.seaweed_mass.kg)\n",
    "#fig, ax = plt.subplots()\n",
    "ax = arena.plot_seaweed_trajectory_on_timeaxis(ax=ax)\n",
    "fig = ax.get_figure()\n",
    "\n",
    "fig = plt.figure(fig)\n",
    "\n",
    "plt.savefig(\"seaweed_trajectory_on_timeaxis.svg\")\n",
    "plt.savefig(\"seaweed_trajectory_on_timeaxis.jpg\", dpi=80)\n",
    "\n",
    "wandb.save(\"seaweed_trajectory_on_timeaxis.svg\")\n",
    "\n",
    "image = wandb.Image(\"seaweed_trajectory_on_timeaxis.jpg\", caption=\"Seaweed trajectory on timeaxis\")\n",
    "wandb.log({\"Seaweed trajectory on timeaxis\": image})\n",
    "\n",
    "\n",
    "ax = arena.plot_all_on_map(problem=problem, background=\"seaweed\",return_ax=True)\n",
    "fig = ax.get_figure()\n",
    "fig = plt.figure(fig)\n",
    "\n",
    "plt.savefig(\"seaweed_trajectory_on_map.svg\")\n",
    "plt.savefig(\"seaweed_trajectory_on_map.jpg\", dpi=80)\n",
    "\n",
    "wandb.save(\"seaweed_trajectory_on_map.svg\")\n",
    "\n",
    "image = wandb.Image(\"seaweed_trajectory_on_map.jpg\", caption=\"Seaweed trajectory on map\")\n",
    "wandb.log({\"Seaweed trajectory on map\": image})\n",
    "\n",
    "\n",
    "\n",
    "ax = arena.plot_all_on_map(problem=problem, background=\"current\",return_ax=True)\n",
    "fig = ax.get_figure()\n",
    "fig = plt.figure(fig)\n",
    "\n",
    "plt.savefig(\"current_trajectory_on_map.svg\")\n",
    "plt.savefig(\"current_trajectory_on_map.jpg\", dpi=80)\n",
    "\n",
    "wandb.save(\"current_trajectory_on_map.svg\")\n",
    "\n",
    "image = wandb.Image(\"current_trajectory_on_map.jpg\", caption=\"Current trajectory on map\")\n",
    "wandb.log({\"Current trajectory on map\": image})\n",
    "\n",
    "\n",
    "\n",
    "\n",
    "metrics_folder = f\"{results_folder}metrics\"\n",
    "\n",
    "# arena.animate_trajectory(\n",
    "#     margin=0.25,\n",
    "#     problem=problem,\n",
    "#     temporal_resolution=14400,\n",
    "#     background=\"current\",\n",
    "#     output=f\"{metrics_folder}/platform_trajectories_currents_{idx_mission}.mp4\",\n",
    "#     fps=6,\n",
    "# )\n",
    "\n",
    "# arena.animate_trajectory(\n",
    "#     margin=0.25,\n",
    "#     problem=problem,\n",
    "#     temporal_resolution=14400,\n",
    "#     background=\"seaweed\",\n",
    "#     output=f\"{metrics_folder}/platform_trajectories_seaweed_{idx_mission}.mp4\",\n",
    "#     fps=6,\n",
    "# )"
   ]
  },
  {
   "cell_type": "code",
   "execution_count": null,
   "metadata": {},
   "outputs": [],
   "source": [
    "controller.animate_value_func_3D()"
   ]
  },
  {
   "cell_type": "code",
   "execution_count": null,
   "metadata": {},
   "outputs": [],
   "source": [
    "if arena is not None:\n",
    "    # Create a large dict with all trajectory data\n",
    "    trajs_dict = {\n",
    "        \"sim_traj\": arena.state_trajectory,\n",
    "        \"sim_ctrl\": arena.action_trajectory,\n",
    "    }\n",
    "    if controller is not None:\n",
    "        if len(controller.planned_trajs) > 0:\n",
    "            trajs_dict[\"plans\"] = controller.planned_trajs"
   ]
  },
  {
   "cell_type": "code",
   "execution_count": null,
   "metadata": {},
   "outputs": [],
   "source": [
    "wandb.run.summary[\"trajs_dict\"]=trajs_dict"
   ]
  },
  {
   "cell_type": "code",
   "execution_count": null,
   "metadata": {},
   "outputs": [],
   "source": [
    "wandb.log(trajs_dict)"
   ]
  },
  {
   "cell_type": "code",
   "execution_count": null,
   "metadata": {},
   "outputs": [],
   "source": [
    "trajs_dict[\"sim_traj\"][0]"
   ]
  }
 ],
 "metadata": {
  "kernelspec": {
   "display_name": "ocean_minimal",
   "language": "python",
   "name": "python3"
  },
  "language_info": {
   "codemirror_mode": {
    "name": "ipython",
    "version": 3
   },
   "file_extension": ".py",
   "mimetype": "text/x-python",
   "name": "python",
   "nbconvert_exporter": "python",
   "pygments_lexer": "ipython3",
   "version": "3.9.13"
  },
  "orig_nbformat": 4,
  "vscode": {
   "interpreter": {
    "hash": "6636ae24e7fa6b0e29516d3a19dbd93f23481a8a9813f168e356902c7d4542b7"
   }
  }
 },
 "nbformat": 4,
 "nbformat_minor": 2
}
