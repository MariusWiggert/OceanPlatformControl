{
 "cells": [
  {
   "cell_type": "markdown",
   "id": "0bbf195d",
   "metadata": {},
   "source": [
    "## Imports"
   ]
  },
  {
   "cell_type": "code",
   "execution_count": 12,
   "id": "c120dd20",
   "metadata": {},
   "outputs": [
    {
     "name": "stdout",
     "output_type": "stream",
     "text": [
      "The autoreload extension is already loaded. To reload it, use:\n",
      "  %reload_ext autoreload\n"
     ]
    }
   ],
   "source": [
    "import os\n",
    "import datetime\n",
    "import logging\n",
    "import random\n",
    "\n",
    "import matplotlib.pyplot as plt\n",
    "import numpy as np\n",
    "\n",
    "import ocean_navigation_simulator\n",
    "from ocean_navigation_simulator.problem_factories.SeaweedMissionGenerator import SeaweedMissionGenerator\n",
    "from ocean_navigation_simulator.utils.misc import get_c3\n",
    "from ocean_navigation_simulator.utils.misc import set_arena_loggers\n",
    "from ocean_navigation_simulator.controllers.hj_planners.HJBSeaweed2DPlanner import (\n",
    "    HJBSeaweed2DPlanner,\n",
    ")\n",
    "from ocean_navigation_simulator.environment.SeaweedProblem import SeaweedProblem\n",
    "from ocean_navigation_simulator.environment.ArenaFactory import ArenaFactory\n",
    "from ocean_navigation_simulator.problem_factories.Constructor import Constructor\n",
    "from ocean_navigation_simulator.environment.PlatformState import (\n",
    "    PlatformState,\n",
    "    SpatialPoint,\n",
    "    SpatioTemporalPoint,\n",
    ")\n",
    "from ocean_navigation_simulator.utils import units\n",
    "\n",
    "import os\n",
    "import pickle\n",
    "import logging\n",
    "import datetime\n",
    "\n",
    "\n",
    "\n",
    "\n",
    "%load_ext autoreload\n",
    "%autoreload 2"
   ]
  },
  {
   "cell_type": "code",
   "execution_count": 13,
   "id": "37cc3435",
   "metadata": {},
   "outputs": [],
   "source": [
    "c3 = get_c3()"
   ]
  },
  {
   "attachments": {},
   "cell_type": "markdown",
   "id": "48a5446a",
   "metadata": {},
   "source": [
    "## Set up the experiment"
   ]
  },
  {
   "cell_type": "code",
   "execution_count": 12,
   "id": "35f70446",
   "metadata": {
    "ExecuteTime": {
     "end_time": "2023-01-30T09:07:39.457379Z",
     "start_time": "2023-01-30T09:07:39.397020Z"
    }
   },
   "outputs": [],
   "source": [
    "experiment_name = \"umax_0.5_30d_HC_copernicus\"\n",
    "exp = c3.Experiment.get(experiment_name)\n",
    "#exp.remove()"
   ]
  },
  {
   "cell_type": "code",
   "execution_count": 13,
   "id": "34682227",
   "metadata": {
    "ExecuteTime": {
     "end_time": "2023-01-30T09:07:40.785436Z",
     "start_time": "2023-01-30T09:07:40.783300Z"
    }
   },
   "outputs": [
    {
     "data": {
      "text/plain": [
       "c3.Experiment(\n",
       " id='umax_0.5_30d_HC_copernicus',\n",
       " meta=c3.Meta(\n",
       "        tenantTagId=32,\n",
       "        tenant='seaweed-control',\n",
       "        tag='devseaweedrc1',\n",
       "        created=datetime.datetime(2023, 3, 12, 9, 36, 20, tzinfo=datetime.timezone.utc),\n",
       "        createdBy='mariuswiggert@berkeley.edu',\n",
       "        updated=datetime.datetime(2023, 3, 18, 7, 10, 22, tzinfo=datetime.timezone.utc),\n",
       "        updatedBy='mariuswiggert@berkeley.edu',\n",
       "        timestamp=datetime.datetime(2023, 3, 18, 7, 10, 22, tzinfo=datetime.timezone.utc),\n",
       "        fetchInclude='[]',\n",
       "        fetchType='Experiment'),\n",
       " version=2,\n",
       " experimentName='umax_0.5_30d_HC_copernicus',\n",
       " description='umax_0.5_30d_HC_copernicus',\n",
       " arenaConfig={'casadi_cache_dict': {'deg_around_x_t': 2.0,\n",
       "                                     'time_around_x_t': 432000},\n",
       "               'ocean_dict': {'average': None,\n",
       "                              'forecast': None,\n",
       "                              'hindcast': {'field': 'OceanCurrents',\n",
       "                                           'source': 'hindcast_files',\n",
       "                                           'source_settings': {'folder': 'temp/hindcast/',\n",
       "                                                               'source': 'Copernicus',\n",
       "                                                               'type': 'hindcast'}},\n",
       "                              'keep_newest_days': 365,\n",
       "                              'region': 'Region Matthias'},\n",
       "               'platform_dict': {'battery_cap_in_wh': 400000.0,\n",
       "                                 'drag_factor': 675.0,\n",
       "                                 'dt_in_s': 600.0,\n",
       "                                 'motor_efficiency': 1.0,\n",
       "                                 'solar_efficiency': 1,\n",
       "                                 'solar_panel_size': 100,\n",
       "                                 'u_max_in_mps': 0.5},\n",
       "               'seaweed_dict': {'forecast': None,\n",
       "                                'hindcast': {'field': 'SeaweedGrowth',\n",
       "                                             'source': 'GEOMAR',\n",
       "                                             'source_settings': {'filepath': '/home/c3/.conda/adsdenvs/py-ocean_sim_matthias/lib/python3.9/site-packages/ocean_navigation_simulator/package_data/nutrients/'}}},\n",
       "               'solar_dict': {'forecast': None,\n",
       "                              'hindcast': {'field': 'SolarIrradiance',\n",
       "                                           'source': 'analytical_wo_caching',\n",
       "                                           'source_settings': {'boundary_buffer': [0.2,\n",
       "                                                                                   0.2],\n",
       "                                                               'spatial_resolution': 0.25,\n",
       "                                                               'temporal_domain': ['2021-01-01T00:00:00+00:00',\n",
       "                                                                                   '2023-02-10T00:00:00+00:00'],\n",
       "                                                               'temporal_resolution': 3600,\n",
       "                                                               'x_domain': [-180,\n",
       "                                                                            180],\n",
       "                                                               'y_domain': [-90,\n",
       "                                                                            90]}}},\n",
       "               'spatial_boundary': None,\n",
       "               'timeout': 2592000,\n",
       "               'use_geographic_coordinate_system': True},\n",
       " timeout_in_sec=2592000,\n",
       " objectiveConfig={'type': 'max_seaweed'},\n",
       " T_horizon_FC_Error_Calculation_in_h=120)"
      ]
     },
     "execution_count": 13,
     "metadata": {},
     "output_type": "execute_result"
    }
   ],
   "source": [
    "exp"
   ]
  },
  {
   "attachments": {},
   "cell_type": "markdown",
   "id": "88fcf9c2",
   "metadata": {},
   "source": [
    "### Config"
   ]
  },
  {
   "cell_type": "code",
   "execution_count": 14,
   "id": "c65208b3",
   "metadata": {
    "ExecuteTime": {
     "end_time": "2023-01-30T09:07:45.068890Z",
     "start_time": "2023-01-30T09:07:45.062863Z"
    },
    "code_folding": []
   },
   "outputs": [],
   "source": [
    "arena_config = {\n",
    "    \"casadi_cache_dict\": {\"deg_around_x_t\": 2.0, \"time_around_x_t\": 432000},\n",
    "    \"platform_dict\": {\n",
    "        \"battery_cap_in_wh\": 400000.0,\n",
    "        \"u_max_in_mps\": 0.5,\n",
    "        \"motor_efficiency\": 1.0,\n",
    "        \"solar_panel_size\": 100,\n",
    "        \"solar_efficiency\": 1,\n",
    "        \"drag_factor\": 675.0,\n",
    "        \"dt_in_s\": 600.0,\n",
    "    },\n",
    "    \"use_geographic_coordinate_system\": True,\n",
    "    \"spatial_boundary\": None,\n",
    "    \"ocean_dict\": {\n",
    "        \"keep_newest_days\": 365,\n",
    "        \"region\": \"Region 3\",\n",
    "        \"hindcast\": {\n",
    "            \"field\": \"OceanCurrents\",\n",
    "            \"source\": \"hindcast_files\",\n",
    "            \"source_settings\": {\n",
    "                \"folder\": \"temp/hindcast/\",\n",
    "                \"source\": \"HYCOM\",\n",
    "                \"type\": \"hindcast\",\n",
    "            },\n",
    "        },\n",
    "        \"forecast\": None,\n",
    "        # {\n",
    "        #     \"field\": \"OceanCurrents\",\n",
    "        #     \"source\": \"longterm_average\",\n",
    "        #     \"source_settings\": {\n",
    "        #         \"forecast\": {\n",
    "        #             \"field\": \"OceanCurrents\",\n",
    "        #             \"source\": \"forecast_files\",\n",
    "        #             \"source_settings\": {\n",
    "        #                 \"folder\": \"temp/forecast/\",\n",
    "        #                 \"source\": \"Copernicus\",\n",
    "        #                 \"type\": \"forecast\",\n",
    "        #             },\n",
    "        #         },\n",
    "        #         \"average\": {\n",
    "        #             \"field\": \"OceanCurrents\",\n",
    "        #             \"source\": \"hindcast_files\",\n",
    "        #             \"source_settings\": {\n",
    "        #                 \"folder\": \"/home/c3/.conda/sdsdenvs/py-ocean_sim_matthias/lib/python3.9/site-packages/ocean_navigation_simulator/package_data/monthly_averages/\",\n",
    "        #                 \"currents\": \"normal\",\n",
    "        #             },\n",
    "        #         },\n",
    "        #     },\n",
    "        # },\n",
    "    },\n",
    "    \"solar_dict\": {\n",
    "        \"hindcast\": { \n",
    "            \"field\": 'SolarIrradiance',\n",
    "            \"source\": 'analytical_wo_caching', # can also be analytical_w_caching\n",
    "            \"source_settings\": {\n",
    "                \"boundary_buffer\": [0.2, 0.2],\n",
    "                \"x_domain\": [-180, 180],\n",
    "                \"y_domain\": [-90, 90],\n",
    "                \"temporal_domain\": \n",
    "                [\"2020-01-01T00:00:00+00:00\",\"2023-01-10T00:00:00+00:00\"\n",
    "                    # datetime.datetime(year=2020, month=1, day=1, tzinfo=datetime.timezone.utc),\n",
    "                    # datetime.datetime(year=2023, month=1, day=10, tzinfo=datetime.timezone.utc),\n",
    "                ],\n",
    "                \"spatial_resolution\": 0.1,\n",
    "                \"temporal_resolution\": 3600,\n",
    "            },\n",
    "        },\n",
    "        \"forecast\": None,\n",
    "    },\n",
    "    \"seaweed_dict\": {\n",
    "        \"hindcast\": {\n",
    "            \"field\": 'SeaweedGrowth',\n",
    "            \"source\": 'GEOMAR',\n",
    "            \"source_settings\": {\n",
    "                \"filepath\": '/home/c3/.conda/adsdenvs/py-ocean_sim_matthias/lib/python3.9/site-packages/ocean_navigation_simulator/package_data/nutrients/', #'./data/nutrients/2022_monthly_nutrients_and_temp.nc' \n",
    "            },\n",
    "        },\n",
    "        \"forecast\": None,\n",
    "    },\n",
    "    \"timeout\": 3600 * 24 * 90, \n",
    "}\n",
    "\n",
    "# change to this if basic setup works\n",
    "# set_arena_loggers(logging.INFO)\n",
    "# logging.getLogger(\"SeaweedMissionGenerator\").setLevel(logging.INFO)\n",
    "\n",
    "config = {\n",
    "    \"scenario_config\": arena_config,\n",
    "    \"x_range\": [-120, -70],\n",
    "    \"y_range\": [0, 20],\n",
    "    \"t_range\":\n",
    "    [\"2022-04-14T00:00:00+00:00\", \"2022-12-29T00:00:00+00:00\"\n",
    "        #datetime.datetime(year=2022, month=7, day=19, tzinfo=datetime.timezone.utc),\n",
    "        #datetime.datetime(year=2022, month=8, day=20, tzinfo=datetime.timezone.utc),\n",
    "    ],\n",
    "    \"time_horizon\": 7776000, # 3600 * 24 * 30 # in seconds\n",
    "    \"n_samples\": 1, # number of start samples per runner\n",
    "    \"min_distance_from_land\": 0.5, # degree\n",
    "}\n",
    "\n",
    "objectiveConfig = {'type': \"max_seaweed\"}"
   ]
  },
  {
   "cell_type": "markdown",
   "id": "3f7170e5",
   "metadata": {},
   "source": [
    "### Create Experiment"
   ]
  },
  {
   "attachments": {},
   "cell_type": "markdown",
   "id": "4911bcea",
   "metadata": {},
   "source": [
    "Make sure you really want to create a new experiment and you ran  ```exp = c3.Experiment.get(experiment_name)``` before\n",
    "'"
   ]
  },
  {
   "cell_type": "code",
   "execution_count": 15,
   "id": "cf527faf",
   "metadata": {
    "ExecuteTime": {
     "end_time": "2023-01-30T09:07:52.056545Z",
     "start_time": "2023-01-30T09:07:51.769470Z"
    }
   },
   "outputs": [
    {
     "ename": "KeyboardInterrupt",
     "evalue": "",
     "output_type": "error",
     "traceback": [
      "\u001b[0;31m---------------------------------------------------------------------------\u001b[0m",
      "\u001b[0;31mKeyboardInterrupt\u001b[0m                         Traceback (most recent call last)",
      "\u001b[1;32m/Users/matthiaskiller/Library/Mobile Documents/com~apple~CloudDocs/Studium/Master RCI/Masters Thesis/Code/OceanPlatformControl/scripts/matthias/c3/c3_experiments_seaweed.ipynb Cell 11\u001b[0m in \u001b[0;36m2\n\u001b[1;32m      <a href='vscode-notebook-cell:/Users/matthiaskiller/Library/Mobile%20Documents/com~apple~CloudDocs/Studium/Master%20RCI/Masters%20Thesis/Code/OceanPlatformControl/scripts/matthias/c3/c3_experiments_seaweed.ipynb#Z1010sZmlsZQ%3D%3D?line=0'>1</a>\u001b[0m \u001b[39m# create exp\u001b[39;00m\n\u001b[0;32m----> <a href='vscode-notebook-cell:/Users/matthiaskiller/Library/Mobile%20Documents/com~apple~CloudDocs/Studium/Master%20RCI/Masters%20Thesis/Code/OceanPlatformControl/scripts/matthias/c3/c3_experiments_seaweed.ipynb#Z1010sZmlsZQ%3D%3D?line=1'>2</a>\u001b[0m exp \u001b[39m=\u001b[39m c3\u001b[39m.\u001b[39mExperiment\u001b[39m.\u001b[39mcreateNew(\n\u001b[1;32m      <a href='vscode-notebook-cell:/Users/matthiaskiller/Library/Mobile%20Documents/com~apple~CloudDocs/Studium/Master%20RCI/Masters%20Thesis/Code/OceanPlatformControl/scripts/matthias/c3/c3_experiments_seaweed.ipynb#Z1010sZmlsZQ%3D%3D?line=2'>3</a>\u001b[0m     name \u001b[39m=\u001b[39m experiment_name,\n\u001b[1;32m      <a href='vscode-notebook-cell:/Users/matthiaskiller/Library/Mobile%20Documents/com~apple~CloudDocs/Studium/Master%20RCI/Masters%20Thesis/Code/OceanPlatformControl/scripts/matthias/c3/c3_experiments_seaweed.ipynb#Z1010sZmlsZQ%3D%3D?line=3'>4</a>\u001b[0m     description \u001b[39m=\u001b[39m \u001b[39m\"\u001b[39m\u001b[39mHC_umax_0.5_90_gpu\u001b[39m\u001b[39m\"\u001b[39m,\n\u001b[1;32m      <a href='vscode-notebook-cell:/Users/matthiaskiller/Library/Mobile%20Documents/com~apple~CloudDocs/Studium/Master%20RCI/Masters%20Thesis/Code/OceanPlatformControl/scripts/matthias/c3/c3_experiments_seaweed.ipynb#Z1010sZmlsZQ%3D%3D?line=4'>5</a>\u001b[0m     arenaConfig \u001b[39m=\u001b[39m arena_config,\n\u001b[1;32m      <a href='vscode-notebook-cell:/Users/matthiaskiller/Library/Mobile%20Documents/com~apple~CloudDocs/Studium/Master%20RCI/Masters%20Thesis/Code/OceanPlatformControl/scripts/matthias/c3/c3_experiments_seaweed.ipynb#Z1010sZmlsZQ%3D%3D?line=5'>6</a>\u001b[0m     objectiveConfig\u001b[39m=\u001b[39m objectiveConfig,\n\u001b[1;32m      <a href='vscode-notebook-cell:/Users/matthiaskiller/Library/Mobile%20Documents/com~apple~CloudDocs/Studium/Master%20RCI/Masters%20Thesis/Code/OceanPlatformControl/scripts/matthias/c3/c3_experiments_seaweed.ipynb#Z1010sZmlsZQ%3D%3D?line=6'>7</a>\u001b[0m     timeout_in_sec\u001b[39m=\u001b[39m\u001b[39m3600\u001b[39m \u001b[39m*\u001b[39m \u001b[39m24\u001b[39m \u001b[39m*\u001b[39m \u001b[39m90\u001b[39m,\n\u001b[1;32m      <a href='vscode-notebook-cell:/Users/matthiaskiller/Library/Mobile%20Documents/com~apple~CloudDocs/Studium/Master%20RCI/Masters%20Thesis/Code/OceanPlatformControl/scripts/matthias/c3/c3_experiments_seaweed.ipynb#Z1010sZmlsZQ%3D%3D?line=7'>8</a>\u001b[0m )\n",
      "File \u001b[0;32mZc0f5ed362f587e2990729fbf1913b613M_.TypeSystemBase:1132\u001b[0m, in \u001b[0;36mcreateNew\u001b[0;34m(_cls_f7f11c950a4e, name, description, arenaConfig, timeout_in_sec, objectiveConfig, feasibilityCheckSettings)\u001b[0m\n",
      "File \u001b[0;32mZc0f5ed362f587e2990729fbf1913b613M_.TypeSystemBase:1117\u001b[0m, in \u001b[0;36m_c3_static_inline_impl\u001b[0;34m(___args, source_code, py_code, method_name, _cls)\u001b[0m\n",
      "File \u001b[0;32mZc0f5ed362f587e2990729fbf1913b613M_.TypeSystemBase:1015\u001b[0m, in \u001b[0;36minline_traceback_impl\u001b[0;34m(source_code, fn, ___args, cls)\u001b[0m\n",
      "File \u001b[0;32m<string>:42\u001b[0m, in \u001b[0;36mcreateNew\u001b[0;34m(name, description, arenaConfig, timeout_in_sec, objectiveConfig, feasibilityCheckSettings)\u001b[0m\n",
      "File \u001b[0;32mZc0f5ed362f587e2990729fbf1913b613M_.TypeSystemBase:956\u001b[0m, in \u001b[0;36mcreate\u001b[0;34m(this, spec)\u001b[0m\n",
      "File \u001b[0;32mZc0f5ed362f587e2990729fbf1913b613M_.TypeSystemBase:929\u001b[0m, in \u001b[0;36m_c3_member_impl\u001b[0;34m(_typesys, ___args, this_name, method_name, defined_class_name, _invoking_class, _overload_idx)\u001b[0m\n",
      "File \u001b[0;32mZc0f5ed362f587e2990729fbf1913b613M_.TypeSystemBase:2849\u001b[0m, in \u001b[0;36m_box_and_request_json\u001b[0;34m(self, type_name, method_name, payload, validate_args, declared_type_name, current_class)\u001b[0m\n",
      "File \u001b[0;32mZc0f5ed362f587e2990729fbf1913b613M_.TypeSystemBase:2863\u001b[0m, in \u001b[0;36m_request_json\u001b[0;34m(self, type_name, method_name, payload)\u001b[0m\n",
      "File \u001b[0;32mZc0f5ed362f587e2990729fbf1913b613M_.ServerConnection:387\u001b[0m, in \u001b[0;36m_request_json\u001b[0;34m(self, type_name, action_name, payload, extra_headers, encoder, client_side_type_inference)\u001b[0m\n",
      "File \u001b[0;32mZc0f5ed362f587e2990729fbf1913b613M_.ServerConnection:119\u001b[0m, in \u001b[0;36mfunc_wrapper\u001b[0;34m(self, *args, **kwargs)\u001b[0m\n",
      "File \u001b[0;32mZc0f5ed362f587e2990729fbf1913b613M_.ServerConnection:311\u001b[0m, in \u001b[0;36m_request\u001b[0;34m(self, path, method, extra_headers, payload, encoder, client_side_type_inference)\u001b[0m\n",
      "File \u001b[0;32mZc0f5ed362f587e2990729fbf1913b613M_.ServerConnection:296\u001b[0m, in \u001b[0;36m_request_response\u001b[0;34m(self, path, method, extra_headers, payload, encoder, client_side_type_inference)\u001b[0m\n",
      "File \u001b[0;32mZc0f5ed362f587e2990729fbf1913b613M_._vendor.urllib3.request:78\u001b[0m, in \u001b[0;36mrequest\u001b[0;34m(self, method, url, fields, headers, **urlopen_kw)\u001b[0m\n",
      "File \u001b[0;32mZc0f5ed362f587e2990729fbf1913b613M_._vendor.urllib3.request:170\u001b[0m, in \u001b[0;36mrequest_encode_body\u001b[0;34m(self, method, url, fields, headers, encode_multipart, multipart_boundary, **urlopen_kw)\u001b[0m\n",
      "File \u001b[0;32mZc0f5ed362f587e2990729fbf1913b613M_._vendor.urllib3.connectionpool:699\u001b[0m, in \u001b[0;36murlopen\u001b[0;34m(self, method, url, body, headers, retries, redirect, assert_same_host, timeout, pool_timeout, release_conn, chunked, body_pos, **response_kw)\u001b[0m\n",
      "File \u001b[0;32mZc0f5ed362f587e2990729fbf1913b613M_._vendor.urllib3.connectionpool:445\u001b[0m, in \u001b[0;36m_make_request\u001b[0;34m(self, conn, method, url, timeout, chunked, **httplib_request_kw)\u001b[0m\n",
      "File \u001b[0;32m<string>:3\u001b[0m, in \u001b[0;36mraise_from\u001b[0;34m(value, from_value)\u001b[0m\n",
      "File \u001b[0;32mZc0f5ed362f587e2990729fbf1913b613M_._vendor.urllib3.connectionpool:440\u001b[0m, in \u001b[0;36m_make_request\u001b[0;34m(self, conn, method, url, timeout, chunked, **httplib_request_kw)\u001b[0m\n",
      "File \u001b[0;32m~/miniforge3/envs/ocean_minimal/lib/python3.9/http/client.py:1377\u001b[0m, in \u001b[0;36mHTTPConnection.getresponse\u001b[0;34m(self)\u001b[0m\n\u001b[1;32m   1375\u001b[0m \u001b[39mtry\u001b[39;00m:\n\u001b[1;32m   1376\u001b[0m     \u001b[39mtry\u001b[39;00m:\n\u001b[0;32m-> 1377\u001b[0m         response\u001b[39m.\u001b[39;49mbegin()\n\u001b[1;32m   1378\u001b[0m     \u001b[39mexcept\u001b[39;00m \u001b[39mConnectionError\u001b[39;00m:\n\u001b[1;32m   1379\u001b[0m         \u001b[39mself\u001b[39m\u001b[39m.\u001b[39mclose()\n",
      "File \u001b[0;32m~/miniforge3/envs/ocean_minimal/lib/python3.9/http/client.py:320\u001b[0m, in \u001b[0;36mHTTPResponse.begin\u001b[0;34m(self)\u001b[0m\n\u001b[1;32m    318\u001b[0m \u001b[39m# read until we get a non-100 response\u001b[39;00m\n\u001b[1;32m    319\u001b[0m \u001b[39mwhile\u001b[39;00m \u001b[39mTrue\u001b[39;00m:\n\u001b[0;32m--> 320\u001b[0m     version, status, reason \u001b[39m=\u001b[39m \u001b[39mself\u001b[39;49m\u001b[39m.\u001b[39;49m_read_status()\n\u001b[1;32m    321\u001b[0m     \u001b[39mif\u001b[39;00m status \u001b[39m!=\u001b[39m CONTINUE:\n\u001b[1;32m    322\u001b[0m         \u001b[39mbreak\u001b[39;00m\n",
      "File \u001b[0;32m~/miniforge3/envs/ocean_minimal/lib/python3.9/http/client.py:281\u001b[0m, in \u001b[0;36mHTTPResponse._read_status\u001b[0;34m(self)\u001b[0m\n\u001b[1;32m    280\u001b[0m \u001b[39mdef\u001b[39;00m \u001b[39m_read_status\u001b[39m(\u001b[39mself\u001b[39m):\n\u001b[0;32m--> 281\u001b[0m     line \u001b[39m=\u001b[39m \u001b[39mstr\u001b[39m(\u001b[39mself\u001b[39;49m\u001b[39m.\u001b[39;49mfp\u001b[39m.\u001b[39;49mreadline(_MAXLINE \u001b[39m+\u001b[39;49m \u001b[39m1\u001b[39;49m), \u001b[39m\"\u001b[39m\u001b[39miso-8859-1\u001b[39m\u001b[39m\"\u001b[39m)\n\u001b[1;32m    282\u001b[0m     \u001b[39mif\u001b[39;00m \u001b[39mlen\u001b[39m(line) \u001b[39m>\u001b[39m _MAXLINE:\n\u001b[1;32m    283\u001b[0m         \u001b[39mraise\u001b[39;00m LineTooLong(\u001b[39m\"\u001b[39m\u001b[39mstatus line\u001b[39m\u001b[39m\"\u001b[39m)\n",
      "File \u001b[0;32m~/miniforge3/envs/ocean_minimal/lib/python3.9/socket.py:704\u001b[0m, in \u001b[0;36mSocketIO.readinto\u001b[0;34m(self, b)\u001b[0m\n\u001b[1;32m    702\u001b[0m \u001b[39mwhile\u001b[39;00m \u001b[39mTrue\u001b[39;00m:\n\u001b[1;32m    703\u001b[0m     \u001b[39mtry\u001b[39;00m:\n\u001b[0;32m--> 704\u001b[0m         \u001b[39mreturn\u001b[39;00m \u001b[39mself\u001b[39;49m\u001b[39m.\u001b[39;49m_sock\u001b[39m.\u001b[39;49mrecv_into(b)\n\u001b[1;32m    705\u001b[0m     \u001b[39mexcept\u001b[39;00m timeout:\n\u001b[1;32m    706\u001b[0m         \u001b[39mself\u001b[39m\u001b[39m.\u001b[39m_timeout_occurred \u001b[39m=\u001b[39m \u001b[39mTrue\u001b[39;00m\n",
      "File \u001b[0;32m~/miniforge3/envs/ocean_minimal/lib/python3.9/ssl.py:1242\u001b[0m, in \u001b[0;36mSSLSocket.recv_into\u001b[0;34m(self, buffer, nbytes, flags)\u001b[0m\n\u001b[1;32m   1238\u001b[0m     \u001b[39mif\u001b[39;00m flags \u001b[39m!=\u001b[39m \u001b[39m0\u001b[39m:\n\u001b[1;32m   1239\u001b[0m         \u001b[39mraise\u001b[39;00m \u001b[39mValueError\u001b[39;00m(\n\u001b[1;32m   1240\u001b[0m           \u001b[39m\"\u001b[39m\u001b[39mnon-zero flags not allowed in calls to recv_into() on \u001b[39m\u001b[39m%s\u001b[39;00m\u001b[39m\"\u001b[39m \u001b[39m%\u001b[39m\n\u001b[1;32m   1241\u001b[0m           \u001b[39mself\u001b[39m\u001b[39m.\u001b[39m\u001b[39m__class__\u001b[39m)\n\u001b[0;32m-> 1242\u001b[0m     \u001b[39mreturn\u001b[39;00m \u001b[39mself\u001b[39;49m\u001b[39m.\u001b[39;49mread(nbytes, buffer)\n\u001b[1;32m   1243\u001b[0m \u001b[39melse\u001b[39;00m:\n\u001b[1;32m   1244\u001b[0m     \u001b[39mreturn\u001b[39;00m \u001b[39msuper\u001b[39m()\u001b[39m.\u001b[39mrecv_into(buffer, nbytes, flags)\n",
      "File \u001b[0;32m~/miniforge3/envs/ocean_minimal/lib/python3.9/ssl.py:1100\u001b[0m, in \u001b[0;36mSSLSocket.read\u001b[0;34m(self, len, buffer)\u001b[0m\n\u001b[1;32m   1098\u001b[0m \u001b[39mtry\u001b[39;00m:\n\u001b[1;32m   1099\u001b[0m     \u001b[39mif\u001b[39;00m buffer \u001b[39mis\u001b[39;00m \u001b[39mnot\u001b[39;00m \u001b[39mNone\u001b[39;00m:\n\u001b[0;32m-> 1100\u001b[0m         \u001b[39mreturn\u001b[39;00m \u001b[39mself\u001b[39;49m\u001b[39m.\u001b[39;49m_sslobj\u001b[39m.\u001b[39;49mread(\u001b[39mlen\u001b[39;49m, buffer)\n\u001b[1;32m   1101\u001b[0m     \u001b[39melse\u001b[39;00m:\n\u001b[1;32m   1102\u001b[0m         \u001b[39mreturn\u001b[39;00m \u001b[39mself\u001b[39m\u001b[39m.\u001b[39m_sslobj\u001b[39m.\u001b[39mread(\u001b[39mlen\u001b[39m)\n",
      "\u001b[0;31mKeyboardInterrupt\u001b[0m: "
     ]
    }
   ],
   "source": [
    "# create exp\n",
    "exp = c3.Experiment.createNew(\n",
    "    name = experiment_name,\n",
    "    description = \"HC_umax_0.5_90_gpu\",\n",
    "    arenaConfig = arena_config,\n",
    "    objectiveConfig= objectiveConfig,\n",
    "    timeout_in_sec=3600 * 24 * 90,\n",
    ")"
   ]
  },
  {
   "cell_type": "code",
   "execution_count": null,
   "id": "2069c0a3",
   "metadata": {
    "ExecuteTime": {
     "end_time": "2023-01-30T09:07:53.319491Z",
     "start_time": "2023-01-30T09:07:53.306994Z"
    },
    "scrolled": true
   },
   "outputs": [
    {
     "data": {
      "text/plain": [
       "c3.Experiment(\n",
       " id='HC_umax_0.5_90_gpu',\n",
       " meta=c3.Meta(\n",
       "        fetchInclude='[experimentName,id,version]',\n",
       "        fetchType='Experiment'),\n",
       " version=1,\n",
       " experimentName='HC_umax_0.5_90_gpu',\n",
       " T_horizon_FC_Error_Calculation_in_h=96)"
      ]
     },
     "execution_count": 237,
     "metadata": {},
     "output_type": "execute_result"
    }
   ],
   "source": [
    "exp = exp.get(\"experimentName\")\n",
    "\n",
    "#name.experimentName = \"test_matthias\"\n",
    "#name.merge()\n",
    "exp"
   ]
  },
  {
   "attachments": {},
   "cell_type": "markdown",
   "id": "e5795a88",
   "metadata": {},
   "source": [
    "# Set up generate mission batch job"
   ]
  },
  {
   "cell_type": "markdown",
   "id": "f70d7a79",
   "metadata": {},
   "source": [
    "## Set up and run mission generation"
   ]
  },
  {
   "cell_type": "code",
   "execution_count": null,
   "id": "5b92354e",
   "metadata": {
    "ExecuteTime": {
     "end_time": "2023-01-30T09:07:58.608962Z",
     "start_time": "2023-01-30T09:07:58.606412Z"
    }
   },
   "outputs": [],
   "source": [
    "options = c3.GenMissionBatchJobOptionsMatthias(**{\n",
    "    'experiment':exp,\n",
    "    'missGenBatchConfig': config,\n",
    "    'base_seed': 122,\n",
    "    'nBatches': 64, \n",
    "    'nMissionGenPerBatch': 1,\n",
    "    'limit': -1,\n",
    "    'hardwareProfileId': \"appc8m642-w\" #\"appc8m642-w\" #appc72m660-w\n",
    "})"
   ]
  },
  {
   "attachments": {},
   "cell_type": "markdown",
   "id": "a240efe6",
   "metadata": {
    "heading_collapsed": true
   },
   "source": [
    "## [Debug locally]\n"
   ]
  },
  {
   "attachments": {},
   "cell_type": "markdown",
   "id": "74ce0368",
   "metadata": {},
   "source": [
    "In case you want to debug the Gen Mission c3 stuff locally. Just copy the according code from ```GenMissionBatchJob.py```"
   ]
  },
  {
   "cell_type": "code",
   "execution_count": null,
   "id": "d7ba6e8a",
   "metadata": {
    "ExecuteTime": {
     "end_time": "2023-01-28T04:25:00.785450Z",
     "start_time": "2023-01-28T04:25:00.783312Z"
    },
    "hidden": true
   },
   "outputs": [],
   "source": [
    "batch = c3.GenMissionBatchJobBatchMatthias(**{'batch_seed': 110})\n",
    "options = options"
   ]
  },
  {
   "cell_type": "code",
   "execution_count": null,
   "id": "1415576a",
   "metadata": {
    "ExecuteTime": {
     "end_time": "2023-01-28T04:25:01.193768Z",
     "start_time": "2023-01-28T04:25:01.188926Z"
    },
    "hidden": true
   },
   "outputs": [],
   "source": [
    "# Set up file paths and download folders\n",
    "temp_folder = \"/tmp/\" + str(batch.batch_seed) + \"/\"\n",
    "# create the folder if it doesn't exist yet\n",
    "if not os.path.isdir(temp_folder):\n",
    "    os.mkdir(temp_folder)\n",
    "log_file_name = str(batch.batch_seed) + \".log\"\n",
    "logging.basicConfig(filename=temp_folder + log_file_name, level=logging.DEBUG)\n",
    "\n",
    "# change to this if basic setup works test\n",
    "set_arena_loggers(logging.INFO)\n",
    "logging.getLogger(\"SeaweedMissionGenerator\").setLevel(logging.DEBUG)"
   ]
  },
  {
   "cell_type": "code",
   "execution_count": null,
   "id": "7ae39d57",
   "metadata": {
    "ExecuteTime": {
     "end_time": "2023-01-28T04:25:01.673047Z",
     "start_time": "2023-01-28T04:25:01.604005Z"
    },
    "hidden": true
   },
   "outputs": [],
   "source": [
    "# get configs for mission generation\n",
    "arena_config = options.experiment.get(\"arenaConfig\").arenaConfig\n",
    "# create the MissionGenerator Config\n",
    "config = options.missGenBatchConfig\n",
    "\n",
    "filepath = ocean_navigation_simulator.__file__\n",
    "module_path = os.path.dirname(filepath)\n",
    "nutrient_path = module_path + \"/package_data/nutrients/\"\n",
    "averages_path = module_path + \"/package_data/monthly_averages/\"\n",
    "arena_config[\"ocean_dict\"][\"forecast\"][\"source_settings\"][\"average\"][\"source_settings\"][\"folder\"] = averages_path\n",
    "arena_config[\"seaweed_dict\"][\"hindcast\"][\"source_settings\"][\"filepath\"] = nutrient_path\n",
    "\n",
    "config_to_add = {\n",
    "    \"scenario_config\": arena_config,\n",
    "    \"problem_timeout\": datetime.timedelta(\n",
    "        seconds=options.experiment.get(\"timeout_in_sec\").timeout_in_sec\n",
    "    ),\n",
    "    \"T_goal_in_seconds\": options.experiment.get(\"timeout_in_sec\").timeout_in_sec,\n",
    "}\n",
    "config.update(config_to_add)\n",
    "config_to_add = {\n",
    "    #\"scenario_config\": arena_config,\n",
    "    \"problem_timeout\": datetime.timedelta(\n",
    "        seconds=options.experiment.get(\"timeout_in_sec\").timeout_in_sec\n",
    "    ),\n",
    "    \"T_goal_in_seconds\": options.experiment.get(\"timeout_in_sec\").timeout_in_sec,\n",
    "}\n",
    "\n",
    "config.update(config_to_add)"
   ]
  },
  {
   "cell_type": "code",
   "execution_count": null,
   "id": "424969af",
   "metadata": {
    "ExecuteTime": {
     "end_time": "2023-01-28T04:25:04.074566Z",
     "start_time": "2023-01-28T04:25:04.070316Z"
    },
    "hidden": true
   },
   "outputs": [],
   "source": [
    "config"
   ]
  },
  {
   "cell_type": "code",
   "execution_count": null,
   "id": "892e1b6a",
   "metadata": {
    "ExecuteTime": {
     "end_time": "2023-01-28T04:30:53.131623Z",
     "start_time": "2023-01-28T04:25:15.231111Z"
    },
    "hidden": true,
    "scrolled": true
   },
   "outputs": [],
   "source": [
    "results_folder = \"/tmp/missions/\"\n",
    "os.makedirs(results_folder, exist_ok=True)\n",
    "# seed all of them\n",
    "random.seed(batch.batch_seed)\n",
    "all_problems = []\n",
    "for worker in range(options.nMissionGenPerBatch):\n",
    "    mission_generator = SeaweedMissionGenerator(\n",
    "        config=config\n",
    "        | {\n",
    "            \"seed\": int(random.uniform(0, 1000000)),\n",
    "            \"cache_folder\": results_folder + str(worker) + \"_\",\n",
    "        },\n",
    "        c3=c3,\n",
    "    )\n",
    "    problems = mission_generator.generate_batch()\n",
    "    all_problems.extend(problems)\n",
    "\n",
    "# Now upload all of them to the mission database!\n",
    "exp = options.experiment\n",
    "for idx, problem in enumerate(all_problems):\n",
    "    try:\n",
    "        exp.addMission(missionConfig=problem.to_c3_mission_config(),\n",
    "                       name=\"batch_seed_\" + str(batch.batch_seed) + \"_\" + str(idx))\n",
    "    except BaseException:\n",
    "        continue"
   ]
  },
  {
   "cell_type": "code",
   "execution_count": null,
   "id": "0abc6c67",
   "metadata": {
    "ExecuteTime": {
     "end_time": "2023-01-28T02:25:52.654026Z",
     "start_time": "2023-01-28T02:25:52.650800Z"
    },
    "hidden": true
   },
   "outputs": [],
   "source": [
    "all_problems"
   ]
  },
  {
   "cell_type": "markdown",
   "id": "d2da7ba2",
   "metadata": {},
   "source": [
    "## Start jobs"
   ]
  },
  {
   "cell_type": "code",
   "execution_count": null,
   "id": "a9d9ce44",
   "metadata": {
    "ExecuteTime": {
     "end_time": "2023-01-30T09:08:04.747789Z",
     "start_time": "2023-01-30T09:08:04.300563Z"
    }
   },
   "outputs": [
    {
     "data": {
      "text/plain": [
       "c3.GenMissionBatchJobMatthias(\n",
       " typeIdent='BATCHJ:O_MAT_GENMISS_BATCH_JOB',\n",
       " id='0178dde6-247c-4eb0-8b58-681d31040bd2',\n",
       " meta=c3.Meta(\n",
       "        created=datetime.datetime(2023, 2, 8, 4, 6, 37, tzinfo=datetime.timezone.utc),\n",
       "        updated=datetime.datetime(2023, 2, 8, 4, 6, 37, tzinfo=datetime.timezone.utc),\n",
       "        timestamp=datetime.datetime(2023, 2, 8, 4, 6, 37, tzinfo=datetime.timezone.utc)),\n",
       " version=1)"
      ]
     },
     "execution_count": 27,
     "metadata": {},
     "output_type": "execute_result"
    }
   ],
   "source": [
    "gen_mission_job = c3.GenMissionBatchJobMatthias(**{'options': options.toJson()}).upsert()\n",
    "# gen_mission_job.setMaxConcurrency(12) # maybe relevant for GPU nodes\n",
    "# gen_mission_job.setMaxConcurrencyPerNode(15) # maybe relevant for GPU nodes\n",
    "gen_mission_job.start()\n",
    "gen_mission_job"
   ]
  },
  {
   "cell_type": "code",
   "execution_count": null,
   "id": "da396738",
   "metadata": {
    "ExecuteTime": {
     "end_time": "2023-01-30T09:17:27.954300Z",
     "start_time": "2023-01-30T09:17:27.899510Z"
    }
   },
   "outputs": [
    {
     "data": {
      "text/plain": [
       "c3.BatchJobStatus(\n",
       " started=datetime.datetime(2023, 2, 8, 23, 49, 53, tzinfo=datetime.timezone.utc),\n",
       " startedby='mariuswiggert@berkeley.edu',\n",
       " status='running',\n",
       " newBatchSubmitted=True)"
      ]
     },
     "execution_count": 125,
     "metadata": {},
     "output_type": "execute_result"
    }
   ],
   "source": [
    "gen_mission_job = c3.GenMissionBatchJobAndreas.get('a319a691-f8d0-49c8-8105-796ae4f95f8a')\n",
    "gen_mission_job.status()"
   ]
  },
  {
   "cell_type": "code",
   "execution_count": null,
   "id": "bcc9d4c1",
   "metadata": {
    "ExecuteTime": {
     "end_time": "2023-01-30T09:13:14.627100Z",
     "start_time": "2023-01-30T09:13:14.625210Z"
    }
   },
   "outputs": [
    {
     "data": {
      "text/plain": [
       "c3.BatchJobStatus(\n",
       " started=datetime.datetime(2023, 2, 8, 23, 32, 8, tzinfo=datetime.timezone.utc),\n",
       " startedby='mariuswiggert@berkeley.edu',\n",
       " completed=datetime.datetime(2023, 2, 8, 23, 46, 5, tzinfo=datetime.timezone.utc),\n",
       " status='canceled',\n",
       " newBatchSubmitted=True)"
      ]
     },
     "execution_count": 49,
     "metadata": {},
     "output_type": "execute_result"
    }
   ],
   "source": [
    "#gen_mission_job.cancel()"
   ]
  },
  {
   "cell_type": "code",
   "execution_count": null,
   "id": "315ec9f9",
   "metadata": {
    "ExecuteTime": {
     "end_time": "2023-01-30T09:14:18.438329Z",
     "start_time": "2023-01-30T09:14:18.417851Z"
    }
   },
   "outputs": [
    {
     "data": {
      "text/plain": [
       "c3.JobComputingActionsResult(\n",
       " actions=c3.Arry<ClusterAction>([c3.ClusterAction(\n",
       "            id='5991.473231513',\n",
       "            target='c3/c3/BatchQueue?action=dispatchCompute',\n",
       "            tenant='c3',\n",
       "            tag='c3',\n",
       "            status='Running',\n",
       "            child=c3.Action(\n",
       "                    id='5991.473231542',\n",
       "                    target='seaweed-control/devseaweedrc1/BatchQueue?action=compute',\n",
       "                    tenant='seaweed-control',\n",
       "                    tag='devseaweedrc1',\n",
       "                    status='Running',\n",
       "                    child=c3.Action(\n",
       "                            id='5991.473231753',\n",
       "                            target='seaweed-control/devseaweedrc1/GenMissionBatchJobAndreas?action=dispatchProcessBatch',\n",
       "                            tenant='seaweed-control',\n",
       "                            tag='devseaweedrc1',\n",
       "                            status='Running',\n",
       "                            child=c3.Action(\n",
       "                                    id='5991.473232325',\n",
       "                                    target='seaweed-control/devseaweedrc1/GenMissionBatchJobAndreas?action=processBatch',\n",
       "                                    tenant='seaweed-control',\n",
       "                                    tag='devseaweedrc1',\n",
       "                                    status='Running',\n",
       "                                    age='01:13:21.148',\n",
       "                                    elapsed=4401148),\n",
       "                            age='01:13:21.261',\n",
       "                            elapsed=4401261),\n",
       "                    age='01:13:21.271',\n",
       "                    elapsed=4401271),\n",
       "            threadId='147',\n",
       "            threadGroup='main',\n",
       "            threadName='Hannibal-5',\n",
       "            age='01:13:21.272',\n",
       "            elapsed=4401272,\n",
       "            secondaryKey='418a6840-ef3f-442d-bb89-c82d2ebbe42f',\n",
       "            host='appc8m64-w-2'),\n",
       "           c3.ClusterAction(\n",
       "            id='1469.1583160416',\n",
       "            target='c3/c3/BatchQueue?action=dispatchCompute',\n",
       "            tenant='c3',\n",
       "            tag='c3',\n",
       "            status='Complete',\n",
       "            threadId='236',\n",
       "            threadGroup='main',\n",
       "            threadName='Hannibal-72',\n",
       "            age='00:00:00.055',\n",
       "            elapsed=55,\n",
       "            secondaryKey='2d73cc9c-6e60-41d3-a807-5d38009677be',\n",
       "            host='appc8m64-w-0')]),\n",
       " actionsByNode=c3.Mapp<string, [Action]>({'appc8m64-w-0': c3.Arry<Action>([c3.Action(\n",
       "                                   id='1469.1583160416',\n",
       "                                   target='c3/c3/BatchQueue?action=dispatchCompute',\n",
       "                                   tenant='c3',\n",
       "                                   tag='c3',\n",
       "                                   status='Complete',\n",
       "                                   threadId='236',\n",
       "                                   threadGroup='main',\n",
       "                                   threadName='Hannibal-72',\n",
       "                                   age='00:00:00.055',\n",
       "                                   elapsed=55,\n",
       "                                   secondaryKey='2d73cc9c-6e60-41d3-a807-5d38009677be')]),\n",
       "                 'appc8m64-w-2': c3.Arry<Action>([c3.Action(\n",
       "                                   id='5991.473231513',\n",
       "                                   target='c3/c3/BatchQueue?action=dispatchCompute',\n",
       "                                   tenant='c3',\n",
       "                                   tag='c3',\n",
       "                                   status='Running',\n",
       "                                   child=c3.Action(\n",
       "                                           id='5991.473231542',\n",
       "                                           target='seaweed-control/devseaweedrc1/BatchQueue?action=compute',\n",
       "                                           tenant='seaweed-control',\n",
       "                                           tag='devseaweedrc1',\n",
       "                                           status='Running',\n",
       "                                           child=c3.Action(\n",
       "                                                   id='5991.473231753',\n",
       "                                                   target='seaweed-control/devseaweedrc1/GenMissionBatchJobAndreas?action=dispatchProcessBatch',\n",
       "                                                   tenant='seaweed-control',\n",
       "                                                   tag='devseaweedrc1',\n",
       "                                                   status='Running',\n",
       "                                                   child=c3.Action(\n",
       "                                                           id='5991.473232325',\n",
       "                                                           target='seaweed-control/devseaweedrc1/GenMissionBatchJobAndreas?action=processBatch',\n",
       "                                                           tenant='seaweed-control',\n",
       "                                                           tag='devseaweedrc1',\n",
       "                                                           status='Running',\n",
       "                                                           age='01:13:21.148',\n",
       "                                                           elapsed=4401148),\n",
       "                                                   age='01:13:21.261',\n",
       "                                                   elapsed=4401261),\n",
       "                                           age='01:13:21.271',\n",
       "                                           elapsed=4401271),\n",
       "                                   threadId='147',\n",
       "                                   threadGroup='main',\n",
       "                                   threadName='Hannibal-5',\n",
       "                                   age='01:13:21.272',\n",
       "                                   elapsed=4401272,\n",
       "                                   secondaryKey='418a6840-ef3f-442d-bb89-c82d2ebbe42f')])}))"
      ]
     },
     "execution_count": 126,
     "metadata": {},
     "output_type": "execute_result"
    }
   ],
   "source": [
    "gen_mission_job.computingActions()"
   ]
  },
  {
   "cell_type": "code",
   "execution_count": null,
   "id": "14987447",
   "metadata": {
    "ExecuteTime": {
     "end_time": "2023-01-30T09:14:17.661359Z",
     "start_time": "2023-01-30T09:14:17.557027Z"
    }
   },
   "outputs": [],
   "source": [
    "c3.Cluster.actionDump()"
   ]
  },
  {
   "cell_type": "code",
   "execution_count": null,
   "id": "fab8b765",
   "metadata": {
    "ExecuteTime": {
     "end_time": "2023-01-30T09:13:08.877368Z",
     "start_time": "2023-01-30T09:13:08.875505Z"
    }
   },
   "outputs": [
    {
     "data": {
      "text/plain": [
       "c3.BatchJobStatus(\n",
       " started=datetime.datetime(2023, 2, 8, 21, 25, 31, tzinfo=datetime.timezone.utc),\n",
       " startedby='mariuswiggert@berkeley.edu',\n",
       " completed=datetime.datetime(2023, 2, 8, 23, 27, 24, tzinfo=datetime.timezone.utc),\n",
       " status='canceled',\n",
       " newBatchSubmitted=True)"
      ]
     },
     "execution_count": 36,
     "metadata": {},
     "output_type": "execute_result"
    }
   ],
   "source": [
    "#gen_mission_job.cancel()"
   ]
  },
  {
   "cell_type": "code",
   "execution_count": null,
   "id": "5750d2ba",
   "metadata": {
    "ExecuteTime": {
     "end_time": "2023-01-30T09:17:31.409848Z",
     "start_time": "2023-01-30T09:17:31.395410Z"
    }
   },
   "outputs": [
    {
     "data": {
      "text/plain": [
       "64"
      ]
     },
     "execution_count": 61,
     "metadata": {},
     "output_type": "execute_result"
    }
   ],
   "source": [
    "len(exp.get('expMissions').expMissions)"
   ]
  },
  {
   "cell_type": "code",
   "execution_count": null,
   "id": "255e314c",
   "metadata": {
    "ExecuteTime": {
     "end_time": "2023-01-30T08:44:13.556914Z",
     "start_time": "2023-01-30T08:44:13.541280Z"
    }
   },
   "outputs": [
    {
     "data": {
      "text/plain": [
       "c3.Mission(\n",
       " id='HC_umax_0.5_90_test_mission_nr_0',\n",
       " meta=c3.Meta(fetchInclude='[missionConfig,id,version]', fetchType='Mission'),\n",
       " version=2,\n",
       " missionConfig={'seed': None,\n",
       "                 'x_0': [{'date_time': '2022-06-04T02:07:17.215119+00:00',\n",
       "                          'lat': 15.92939562260165,\n",
       "                          'lon': -100.17848339141537}]})"
      ]
     },
     "execution_count": 62,
     "metadata": {},
     "output_type": "execute_result"
    }
   ],
   "source": [
    "exp.get('expMissions').expMissions[0].get('missionConfig')"
   ]
  },
  {
   "attachments": {},
   "cell_type": "markdown",
   "id": "a846c651",
   "metadata": {},
   "source": [
    "# Save and load missions from and to experiments instead of generating new ones"
   ]
  },
  {
   "attachments": {},
   "cell_type": "markdown",
   "id": "64f36894",
   "metadata": {},
   "source": [
    "### Experiment to take the missions from"
   ]
  },
  {
   "cell_type": "code",
   "execution_count": null,
   "id": "49f24c1e",
   "metadata": {},
   "outputs": [],
   "source": [
    "problems = []\n",
    "for miss in exp.get('expMissions').expMissions:\n",
    "    missionConfig = miss.get(\"missionConfig\").missionConfig\n",
    "    problems.append(SeaweedProblem.from_c3_mission_config(missionConfig))"
   ]
  },
  {
   "cell_type": "code",
   "execution_count": null,
   "id": "38623d82",
   "metadata": {
    "ExecuteTime": {
     "end_time": "2023-01-29T04:41:10.029546Z",
     "start_time": "2023-01-29T04:41:10.022613Z"
    },
    "hidden": true
   },
   "outputs": [],
   "source": [
    "import pandas as pd\n",
    "\n",
    "results_folder = \"./\"\n",
    "df = pd.DataFrame([problem.to_dict() for problem in problems])\n",
    "df['factory_index'] = 0\n",
    "df.to_csv(results_folder + \"problems.csv\")"
   ]
  },
  {
   "cell_type": "code",
   "execution_count": null,
   "id": "cd19a37f",
   "metadata": {
    "ExecuteTime": {
     "end_time": "2023-01-29T04:41:10.227185Z",
     "start_time": "2023-01-29T04:41:10.224240Z"
    },
    "hidden": true
   },
   "outputs": [
    {
     "data": {
      "text/plain": [
       "1325"
      ]
     },
     "execution_count": 88,
     "metadata": {},
     "output_type": "execute_result"
    }
   ],
   "source": [
    "len(problems)"
   ]
  },
  {
   "attachments": {},
   "cell_type": "markdown",
   "id": "774e23b3",
   "metadata": {},
   "source": [
    "TODO: Add funcionality to load missions from .csv"
   ]
  },
  {
   "attachments": {},
   "cell_type": "markdown",
   "id": "a20f3030",
   "metadata": {},
   "source": [
    "### Make sure you create/select a new experiment where you want to add the retrieved missions to"
   ]
  },
  {
   "cell_type": "code",
   "execution_count": null,
   "id": "bfa7670d",
   "metadata": {},
   "outputs": [],
   "source": [
    "for problem in problems:\n",
    "    exp.addMission(problem.to_c3_mission_config())"
   ]
  },
  {
   "cell_type": "code",
   "execution_count": null,
   "id": "b93c7156",
   "metadata": {},
   "outputs": [],
   "source": [
    "# for miss in exp.get('expMissions').expMissions:\n",
    "#     miss.remove()\n",
    "#     miss.merge()"
   ]
  },
  {
   "cell_type": "code",
   "execution_count": null,
   "id": "35ae4b79",
   "metadata": {},
   "outputs": [
    {
     "data": {
      "text/plain": [
       "64"
      ]
     },
     "execution_count": 238,
     "metadata": {},
     "output_type": "execute_result"
    }
   ],
   "source": [
    "len(exp.get('expMissions').expMissions)"
   ]
  },
  {
   "attachments": {},
   "cell_type": "markdown",
   "id": "bec43c46",
   "metadata": {
    "heading_collapsed": true
   },
   "source": [
    "# Plot all of them on a map and get distribution informationm"
   ]
  },
  {
   "cell_type": "code",
   "execution_count": null,
   "id": "70a8cf19",
   "metadata": {
    "ExecuteTime": {
     "end_time": "2023-01-29T04:41:12.487465Z",
     "start_time": "2023-01-29T04:41:10.877728Z"
    },
    "hidden": true
   },
   "outputs": [
    {
     "name": "stderr",
     "output_type": "stream",
     "text": [
      "/var/folders/ng/bpb66jzj5d59g10n121_hj6h0000gn/T/ipykernel_28554/1355533905.py:20: UserWarning:\n",
      "\n",
      "Matplotlib is currently using module://matplotlib_inline.backend_inline, which is a non-GUI backend, so cannot show the figure.\n",
      "\n"
     ]
    },
    {
     "data": {
      "image/png": "[encoded data removed]",
      "text/plain": [
       "<Figure size 1000x1000 with 1 Axes>"
      ]
     },
     "metadata": {},
     "output_type": "display_data"
    }
   ],
   "source": [
    "import matplotlib.pyplot as plt\n",
    "import cartopy.crs as ccrs\n",
    "import cartopy.feature as cfeature\n",
    "\n",
    "fig = plt.figure(figsize=(10,10))\n",
    "ax = plt.axes(projection=ccrs.PlateCarree())\n",
    "#ax.set_title(\"Time: \" + datetime.fromtimestamp(time, tz=timezone.utc).strftime('%Y-%m-%d %H:%M:%S UTC'))\n",
    " \n",
    "ax.add_feature(cfeature.LAND, zorder=3, edgecolor='black')\n",
    "ax.add_feature(cfeature.OCEAN, zorder=0)\n",
    "grid_lines = ax.gridlines(draw_labels=True, zorder=5)\n",
    "grid_lines.top_labels = False\n",
    "grid_lines.right_labels = False\n",
    "ax.axis(xmin=-120,xmax=-70)\n",
    "ax.axis(ymin=-20,ymax=20)\n",
    "\n",
    "ax.scatter(df[\"x_0_lon\"], df[\"x_0_lat\"], c=\"red\", marker=\"o\", s=6, label=\"starts\")\n",
    "ax.legend()\n",
    "# ax.get_figure().savefig(f\"{analysis_folder}starts_and_targets.png\")\n",
    "ax.get_figure().show()"
   ]
  },
  {
   "attachments": {},
   "cell_type": "markdown",
   "id": "663fe50c",
   "metadata": {},
   "source": [
    "TODO: get time historgram running properly"
   ]
  },
  {
   "cell_type": "code",
   "execution_count": null,
   "id": "8407004d",
   "metadata": {
    "ExecuteTime": {
     "end_time": "2023-01-28T05:17:36.351521Z",
     "start_time": "2023-01-28T05:17:36.305269Z"
    },
    "hidden": true
   },
   "outputs": [],
   "source": [
    "#SeaweedMissionGenerator.plot_starts(\n",
    "#    problems=all_problems, config=arena_config,results_folder= results_folder,\n",
    "#)"
   ]
  },
  {
   "cell_type": "code",
   "execution_count": null,
   "id": "6238b508",
   "metadata": {
    "ExecuteTime": {
     "end_time": "2023-01-28T05:32:12.456525Z",
     "start_time": "2023-01-28T05:32:11.990251Z"
    },
    "hidden": true
   },
   "outputs": [
    {
     "ename": "ValueError",
     "evalue": "invalid literal for int() with base 10: '2022-06-04T02:07:17.215119+00:00'",
     "output_type": "error",
     "traceback": [
      "\u001b[0;31m---------------------------------------------------------------------------\u001b[0m",
      "\u001b[0;31mValueError\u001b[0m                                Traceback (most recent call last)",
      "Cell \u001b[0;32mIn [70], line 22\u001b[0m\n\u001b[1;32m     11\u001b[0m days \u001b[39m=\u001b[39m pd\u001b[39m.\u001b[39mdate_range(\n\u001b[1;32m     12\u001b[0m     df[\u001b[39m\"\u001b[39m\u001b[39mt_0\u001b[39m\u001b[39m\"\u001b[39m]\u001b[39m.\u001b[39mmin(),\n\u001b[1;32m     13\u001b[0m     df[\u001b[39m\"\u001b[39m\u001b[39mt_0\u001b[39m\u001b[39m\"\u001b[39m]\u001b[39m.\u001b[39mmax(),\n\u001b[1;32m     14\u001b[0m     freq\u001b[39m=\u001b[39m\u001b[39m\"\u001b[39m\u001b[39mD\u001b[39m\u001b[39m\"\u001b[39m,\n\u001b[1;32m     15\u001b[0m )\n\u001b[1;32m     16\u001b[0m months \u001b[39m=\u001b[39m pd\u001b[39m.\u001b[39mdate_range(\n\u001b[1;32m     17\u001b[0m     df[\u001b[39m\"\u001b[39m\u001b[39mt_0\u001b[39m\u001b[39m\"\u001b[39m]\u001b[39m.\u001b[39mmin(),\n\u001b[1;32m     18\u001b[0m     df[\u001b[39m\"\u001b[39m\u001b[39mt_0\u001b[39m\u001b[39m\"\u001b[39m]\u001b[39m.\u001b[39mmax(),\n\u001b[1;32m     19\u001b[0m     freq\u001b[39m=\u001b[39m\u001b[39m\"\u001b[39m\u001b[39mMS\u001b[39m\u001b[39m\"\u001b[39m,\n\u001b[1;32m     20\u001b[0m )\n\u001b[0;32m---> 22\u001b[0m df[\u001b[39m\"\u001b[39m\u001b[39mt_0\u001b[39m\u001b[39m\"\u001b[39m]\u001b[39m.\u001b[39mastype(np\u001b[39m.\u001b[39mint64)\u001b[39m.\u001b[39mplot\u001b[39m.\u001b[39mhist(ax\u001b[39m=\u001b[39max, bins\u001b[39m=\u001b[39mdays\u001b[39m.\u001b[39mastype(np\u001b[39m.\u001b[39mint64), rwidth\u001b[39m=\u001b[39m\u001b[39m0.85\u001b[39m)\n\u001b[1;32m     24\u001b[0m \u001b[39m# Set the x-axis ticks to show a label every year\u001b[39;00m\n\u001b[1;32m     25\u001b[0m ax\u001b[39m.\u001b[39mset_xticks(months\u001b[39m.\u001b[39mastype(np\u001b[39m.\u001b[39mint64)\u001b[39m.\u001b[39mto_list())\n",
      "File \u001b[0;32m~/miniforge3/envs/ocean_minimal/lib/python3.9/site-packages/pandas/core/generic.py:5815\u001b[0m, in \u001b[0;36mNDFrame.astype\u001b[0;34m(self, dtype, copy, errors)\u001b[0m\n\u001b[1;32m   5808\u001b[0m     results \u001b[39m=\u001b[39m [\n\u001b[1;32m   5809\u001b[0m         \u001b[39mself\u001b[39m\u001b[39m.\u001b[39miloc[:, i]\u001b[39m.\u001b[39mastype(dtype, copy\u001b[39m=\u001b[39mcopy)\n\u001b[1;32m   5810\u001b[0m         \u001b[39mfor\u001b[39;00m i \u001b[39min\u001b[39;00m \u001b[39mrange\u001b[39m(\u001b[39mlen\u001b[39m(\u001b[39mself\u001b[39m\u001b[39m.\u001b[39mcolumns))\n\u001b[1;32m   5811\u001b[0m     ]\n\u001b[1;32m   5813\u001b[0m \u001b[39melse\u001b[39;00m:\n\u001b[1;32m   5814\u001b[0m     \u001b[39m# else, only a single dtype is given\u001b[39;00m\n\u001b[0;32m-> 5815\u001b[0m     new_data \u001b[39m=\u001b[39m \u001b[39mself\u001b[39;49m\u001b[39m.\u001b[39;49m_mgr\u001b[39m.\u001b[39;49mastype(dtype\u001b[39m=\u001b[39;49mdtype, copy\u001b[39m=\u001b[39;49mcopy, errors\u001b[39m=\u001b[39;49merrors)\n\u001b[1;32m   5816\u001b[0m     \u001b[39mreturn\u001b[39;00m \u001b[39mself\u001b[39m\u001b[39m.\u001b[39m_constructor(new_data)\u001b[39m.\u001b[39m__finalize__(\u001b[39mself\u001b[39m, method\u001b[39m=\u001b[39m\u001b[39m\"\u001b[39m\u001b[39mastype\u001b[39m\u001b[39m\"\u001b[39m)\n\u001b[1;32m   5818\u001b[0m \u001b[39m# GH 33113: handle empty frame or series\u001b[39;00m\n",
      "File \u001b[0;32m~/miniforge3/envs/ocean_minimal/lib/python3.9/site-packages/pandas/core/internals/managers.py:418\u001b[0m, in \u001b[0;36mBaseBlockManager.astype\u001b[0;34m(self, dtype, copy, errors)\u001b[0m\n\u001b[1;32m    417\u001b[0m \u001b[39mdef\u001b[39;00m \u001b[39mastype\u001b[39m(\u001b[39mself\u001b[39m: T, dtype, copy: \u001b[39mbool\u001b[39m \u001b[39m=\u001b[39m \u001b[39mFalse\u001b[39;00m, errors: \u001b[39mstr\u001b[39m \u001b[39m=\u001b[39m \u001b[39m\"\u001b[39m\u001b[39mraise\u001b[39m\u001b[39m\"\u001b[39m) \u001b[39m-\u001b[39m\u001b[39m>\u001b[39m T:\n\u001b[0;32m--> 418\u001b[0m     \u001b[39mreturn\u001b[39;00m \u001b[39mself\u001b[39;49m\u001b[39m.\u001b[39;49mapply(\u001b[39m\"\u001b[39;49m\u001b[39mastype\u001b[39;49m\u001b[39m\"\u001b[39;49m, dtype\u001b[39m=\u001b[39;49mdtype, copy\u001b[39m=\u001b[39;49mcopy, errors\u001b[39m=\u001b[39;49merrors)\n",
      "File \u001b[0;32m~/miniforge3/envs/ocean_minimal/lib/python3.9/site-packages/pandas/core/internals/managers.py:327\u001b[0m, in \u001b[0;36mBaseBlockManager.apply\u001b[0;34m(self, f, align_keys, ignore_failures, **kwargs)\u001b[0m\n\u001b[1;32m    325\u001b[0m         applied \u001b[39m=\u001b[39m b\u001b[39m.\u001b[39mapply(f, \u001b[39m*\u001b[39m\u001b[39m*\u001b[39mkwargs)\n\u001b[1;32m    326\u001b[0m     \u001b[39melse\u001b[39;00m:\n\u001b[0;32m--> 327\u001b[0m         applied \u001b[39m=\u001b[39m \u001b[39mgetattr\u001b[39;49m(b, f)(\u001b[39m*\u001b[39;49m\u001b[39m*\u001b[39;49mkwargs)\n\u001b[1;32m    328\u001b[0m \u001b[39mexcept\u001b[39;00m (\u001b[39mTypeError\u001b[39;00m, \u001b[39mNotImplementedError\u001b[39;00m):\n\u001b[1;32m    329\u001b[0m     \u001b[39mif\u001b[39;00m \u001b[39mnot\u001b[39;00m ignore_failures:\n",
      "File \u001b[0;32m~/miniforge3/envs/ocean_minimal/lib/python3.9/site-packages/pandas/core/internals/blocks.py:591\u001b[0m, in \u001b[0;36mBlock.astype\u001b[0;34m(self, dtype, copy, errors)\u001b[0m\n\u001b[1;32m    573\u001b[0m \u001b[39m\"\"\"\u001b[39;00m\n\u001b[1;32m    574\u001b[0m \u001b[39mCoerce to the new dtype.\u001b[39;00m\n\u001b[1;32m    575\u001b[0m \n\u001b[0;32m   (...)\u001b[0m\n\u001b[1;32m    587\u001b[0m \u001b[39mBlock\u001b[39;00m\n\u001b[1;32m    588\u001b[0m \u001b[39m\"\"\"\u001b[39;00m\n\u001b[1;32m    589\u001b[0m values \u001b[39m=\u001b[39m \u001b[39mself\u001b[39m\u001b[39m.\u001b[39mvalues\n\u001b[0;32m--> 591\u001b[0m new_values \u001b[39m=\u001b[39m astype_array_safe(values, dtype, copy\u001b[39m=\u001b[39;49mcopy, errors\u001b[39m=\u001b[39;49merrors)\n\u001b[1;32m    593\u001b[0m new_values \u001b[39m=\u001b[39m maybe_coerce_values(new_values)\n\u001b[1;32m    594\u001b[0m newb \u001b[39m=\u001b[39m \u001b[39mself\u001b[39m\u001b[39m.\u001b[39mmake_block(new_values)\n",
      "File \u001b[0;32m~/miniforge3/envs/ocean_minimal/lib/python3.9/site-packages/pandas/core/dtypes/cast.py:1309\u001b[0m, in \u001b[0;36mastype_array_safe\u001b[0;34m(values, dtype, copy, errors)\u001b[0m\n\u001b[1;32m   1306\u001b[0m dtype \u001b[39m=\u001b[39m pandas_dtype(dtype)\n\u001b[1;32m   1308\u001b[0m \u001b[39mtry\u001b[39;00m:\n\u001b[0;32m-> 1309\u001b[0m     new_values \u001b[39m=\u001b[39m astype_array(values, dtype, copy\u001b[39m=\u001b[39;49mcopy)\n\u001b[1;32m   1310\u001b[0m \u001b[39mexcept\u001b[39;00m (\u001b[39mValueError\u001b[39;00m, \u001b[39mTypeError\u001b[39;00m):\n\u001b[1;32m   1311\u001b[0m     \u001b[39m# e.g. astype_nansafe can fail on object-dtype of strings\u001b[39;00m\n\u001b[1;32m   1312\u001b[0m     \u001b[39m#  trying to convert to float\u001b[39;00m\n\u001b[1;32m   1313\u001b[0m     \u001b[39mif\u001b[39;00m errors \u001b[39m==\u001b[39m \u001b[39m\"\u001b[39m\u001b[39mignore\u001b[39m\u001b[39m\"\u001b[39m:\n",
      "File \u001b[0;32m~/miniforge3/envs/ocean_minimal/lib/python3.9/site-packages/pandas/core/dtypes/cast.py:1257\u001b[0m, in \u001b[0;36mastype_array\u001b[0;34m(values, dtype, copy)\u001b[0m\n\u001b[1;32m   1254\u001b[0m     values \u001b[39m=\u001b[39m values\u001b[39m.\u001b[39mastype(dtype, copy\u001b[39m=\u001b[39mcopy)\n\u001b[1;32m   1256\u001b[0m \u001b[39melse\u001b[39;00m:\n\u001b[0;32m-> 1257\u001b[0m     values \u001b[39m=\u001b[39m astype_nansafe(values, dtype, copy\u001b[39m=\u001b[39;49mcopy)\n\u001b[1;32m   1259\u001b[0m \u001b[39m# in pandas we don't store numpy str dtypes, so convert to object\u001b[39;00m\n\u001b[1;32m   1260\u001b[0m \u001b[39mif\u001b[39;00m \u001b[39misinstance\u001b[39m(dtype, np\u001b[39m.\u001b[39mdtype) \u001b[39mand\u001b[39;00m \u001b[39missubclass\u001b[39m(values\u001b[39m.\u001b[39mdtype\u001b[39m.\u001b[39mtype, \u001b[39mstr\u001b[39m):\n",
      "File \u001b[0;32m~/miniforge3/envs/ocean_minimal/lib/python3.9/site-packages/pandas/core/dtypes/cast.py:1174\u001b[0m, in \u001b[0;36mastype_nansafe\u001b[0;34m(arr, dtype, copy, skipna)\u001b[0m\n\u001b[1;32m   1170\u001b[0m \u001b[39melif\u001b[39;00m is_object_dtype(arr):\n\u001b[1;32m   1171\u001b[0m \n\u001b[1;32m   1172\u001b[0m     \u001b[39m# work around NumPy brokenness, #1987\u001b[39;00m\n\u001b[1;32m   1173\u001b[0m     \u001b[39mif\u001b[39;00m np\u001b[39m.\u001b[39missubdtype(dtype\u001b[39m.\u001b[39mtype, np\u001b[39m.\u001b[39minteger):\n\u001b[0;32m-> 1174\u001b[0m         \u001b[39mreturn\u001b[39;00m lib\u001b[39m.\u001b[39;49mastype_intsafe(arr, dtype)\n\u001b[1;32m   1176\u001b[0m     \u001b[39m# if we have a datetime/timedelta array of objects\u001b[39;00m\n\u001b[1;32m   1177\u001b[0m     \u001b[39m# then coerce to a proper dtype and recall astype_nansafe\u001b[39;00m\n\u001b[1;32m   1179\u001b[0m     \u001b[39melif\u001b[39;00m is_datetime64_dtype(dtype):\n",
      "File \u001b[0;32m~/miniforge3/envs/ocean_minimal/lib/python3.9/site-packages/pandas/_libs/lib.pyx:679\u001b[0m, in \u001b[0;36mpandas._libs.lib.astype_intsafe\u001b[0;34m()\u001b[0m\n",
      "\u001b[0;31mValueError\u001b[0m: invalid literal for int() with base 10: '2022-06-04T02:07:17.215119+00:00'"
     ]
    },
    {
     "data": {
      "image/png": "[encoded data removed]",
      "text/plain": [
       "<Figure size 1600x1200 with 1 Axes>"
      ]
     },
     "metadata": {},
     "output_type": "display_data"
    }
   ],
   "source": [
    "import pandas as pd\n",
    "import matplotlib.pyplot as plt\n",
    "import numpy as np\n",
    "\n",
    "fig, ax = plt.subplots(figsize=(16, 12))\n",
    "\n",
    "# Add labels to the x and y axis\n",
    "plt.xlabel('Dates')\n",
    "plt.ylabel('Frequency')\n",
    "\n",
    "days = pd.date_range(\n",
    "    df[\"t_0\"].min(),\n",
    "    df[\"t_0\"].max(),\n",
    "    freq=\"D\",\n",
    ")\n",
    "months = pd.date_range(\n",
    "    df[\"t_0\"].min(),\n",
    "    df[\"t_0\"].max(),\n",
    "    freq=\"MS\",\n",
    ")\n",
    "\n",
    "df[\"t_0\"].astype(np.int64).plot.hist(ax=ax, bins=days.astype(np.int64), rwidth=0.85)\n",
    "\n",
    "# Set the x-axis ticks to show a label every year\n",
    "ax.set_xticks(months.astype(np.int64).to_list())\n",
    "ax.set_xticklabels(months.strftime(\"%Y-%m\").to_list(), rotation=45)\n",
    "\n",
    "unique_days = len(df[\"t_0\"].unique())\n",
    "fig.suptitle(f\"Target Day Histogram (Days: {unique_days})\")\n",
    "\n",
    "# Show the plot\n",
    "fig.show()\n"
   ]
  },
  {
   "cell_type": "code",
   "execution_count": null,
   "id": "258a75dd",
   "metadata": {
    "ExecuteTime": {
     "end_time": "2023-01-20T00:07:47.748369Z",
     "start_time": "2023-01-20T00:07:47.291807Z"
    },
    "hidden": true
   },
   "outputs": [],
   "source": [
    "GenerationRunner.plot_ttr_histogram(results_folder)"
   ]
  },
  {
   "cell_type": "markdown",
   "id": "8f4c76c1",
   "metadata": {
    "heading_collapsed": true
   },
   "source": [
    "# Add Observer"
   ]
  },
  {
   "cell_type": "code",
   "execution_count": null,
   "id": "e8b1fa2f",
   "metadata": {
    "ExecuteTime": {
     "end_time": "2023-01-30T09:17:35.265656Z",
     "start_time": "2023-01-30T09:17:35.211929Z"
    },
    "hidden": true
   },
   "outputs": [
    {
     "ename": "ValueError",
     "evalue": "Observer with the same name already exists, check name & settings.\n\nThe traceback for the inline method is:\n  File \"Zc0f5ed362f587e2990729fbf1913b613M_.TypeSystemBase\", line 1015, in inline_traceback_impl\n  File \"Experiment.py\", line 56, in addObserver\n    raise ValueError(\"Observer with the same name already exists, check name & settings.\")\n",
     "output_type": "error",
     "traceback": [
      "\u001b[0;31m---------------------------------------------------------------------------\u001b[0m",
      "\u001b[0;31mValueError\u001b[0m                                Traceback (most recent call last)",
      "\u001b[0;31mValueError\u001b[0m: Observer with the same name already exists, check name & settings.",
      "\nThe above exception was the direct cause of the following exception:\n",
      "\u001b[0;31mValueError\u001b[0m                                Traceback (most recent call last)",
      "Cell \u001b[0;32mIn [242], line 4\u001b[0m\n\u001b[1;32m      2\u001b[0m observer_config \u001b[39m=\u001b[39m {\u001b[39m\"\u001b[39m\u001b[39mobserver\u001b[39m\u001b[39m\"\u001b[39m: \u001b[39mNone\u001b[39;00m}\n\u001b[1;32m      3\u001b[0m \u001b[39m# add observer\u001b[39;00m\n\u001b[0;32m----> 4\u001b[0m exp\u001b[39m.\u001b[39maddObserver(name\u001b[39m=\u001b[39m\u001b[39m\"\u001b[39m\u001b[39mNoObserver\u001b[39m\u001b[39m\"\u001b[39m, observerConfig\u001b[39m=\u001b[39mobserver_config)\n",
      "File \u001b[0;32mZc0f5ed362f587e2990729fbf1913b613M_.TypeSystemBase:1184\u001b[0m, in \u001b[0;36maddObserver\u001b[0;34m(this, name, observerConfig)\u001b[0m\n",
      "File \u001b[0;32mZc0f5ed362f587e2990729fbf1913b613M_.TypeSystemBase:1169\u001b[0m, in \u001b[0;36m_c3_member_inline_impl\u001b[0;34m(___args, source_code, py_code, method_name, this_name)\u001b[0m\n",
      "File \u001b[0;32mZc0f5ed362f587e2990729fbf1913b613M_.TypeSystemBase:1105\u001b[0m, in \u001b[0;36minline_traceback_impl\u001b[0;34m(source_code, fn, ___args, cls)\u001b[0m\n",
      "\u001b[0;31mValueError\u001b[0m: Observer with the same name already exists, check name & settings.\n\nThe traceback for the inline method is:\n  File \"Zc0f5ed362f587e2990729fbf1913b613M_.TypeSystemBase\", line 1015, in inline_traceback_impl\n  File \"Experiment.py\", line 56, in addObserver\n    raise ValueError(\"Observer with the same name already exists, check name & settings.\")\n"
     ]
    }
   ],
   "source": [
    "# Config for No observer\n",
    "observer_config = {\"observer\": None}\n",
    "# add observer\n",
    "exp.addObserver(name=\"NoObserver\", observerConfig=observer_config)"
   ]
  },
  {
   "cell_type": "markdown",
   "id": "8732af8d",
   "metadata": {},
   "source": [
    "### other observer configs"
   ]
  },
  {
   "cell_type": "code",
   "execution_count": null,
   "id": "bf665948",
   "metadata": {
    "ExecuteTime": {
     "end_time": "2023-01-20T00:08:06.325349Z",
     "start_time": "2023-01-20T00:08:06.285240Z"
    },
    "code_folding": [],
    "hidden": true
   },
   "outputs": [],
   "source": [
    "# Config for GP observer\n",
    "observer_config = {\n",
    "    \"observer\": {\n",
    "        \"model\": {\n",
    "            \"gaussian_process\": {\n",
    "                \"sigma_exp_squared\": 5.011571057964094, \n",
    "                \"kernel\": {\n",
    "                    \"scaling\": {\n",
    "                        \"latitude\": 0.5753005356364821,\n",
    "                        \"longitude\": 0.5967749664273109,\n",
    "                        \"time\": 42103.57591355196},  # [m]  # [m]  # [s]\n",
    "                    \"type\": \"matern\",\n",
    "                    \"parameters\": {\n",
    "                        \"length_scale_bounds\": \"fixed\",\n",
    "                        \"nu\": 1.5},\n",
    "                },\n",
    "            }\n",
    "        },\n",
    "    }\n",
    "}\n",
    "\n",
    "# add observer\n",
    "exp.addObserver(name=\"GPObserver\", observerConfig=observer_config)"
   ]
  },
  {
   "cell_type": "code",
   "execution_count": null,
   "id": "b38082a9",
   "metadata": {
    "ExecuteTime": {
     "end_time": "2023-01-20T00:08:30.549430Z",
     "start_time": "2023-01-20T00:08:30.513454Z"
    },
    "code_folding": [],
    "hidden": true
   },
   "outputs": [],
   "source": [
    "# Config for GP_NN_Observer\n",
    "observer_config = {\n",
    "    'observer': {\n",
    "        'life_span_observations_in_sec': 86400,\n",
    "        'model': {\n",
    "            'NN': {\n",
    "                'NN_radius_space': 1,\n",
    "                'NN_lags_in_second': 43200,\n",
    "                'dimension_input': [12, 13, 13],\n",
    "                'model_error': False,\n",
    "                'type': 'cnn',\n",
    "                'parameters': {\n",
    "                    'path_weights': 'ocean_navigation_simulator/forecast_improvement/CNN_models_saved/medium_tile_big_ds.h5',\n",
    "                    'ch_sz': [6, 24, 48, 96, 192],\n",
    "                     'downsizing_method': 'avgpool',\n",
    "                     'dropout_encoder': 0.24299222476871712,\n",
    "                     'dropout_decoder': 0.13587898683659105,\n",
    "                     'dropout_bottom': 0.7479602916555403,\n",
    "                     'initial_channels': [0, 1, 2, 3, 6, 7],\n",
    "                     'output_paddings': [[0, 1, 1], [1, 0, 0], [1, 0, 0]]}},\n",
    "            'gaussian_process': {\n",
    "                'kernel': {\n",
    "                    'type': 'matern',\n",
    "                    'sigma_exp_squared': 5.011571057964094,\n",
    "                    'scaling': {\n",
    "                        'latitude': 0.5753005356364821,\n",
    "                        'longitude': 0.5967749664273109,\n",
    "                        'time': 42103.57591355196},\n",
    "                    'parameters': {'length_scale_bounds': 'fixed', 'nu': 1.5}}}}}}\n",
    "# add observer\n",
    "exp.addObserver(name=\"GP_NN_Observer\", observerConfig=observer_config)"
   ]
  },
  {
   "cell_type": "markdown",
   "id": "4323858c",
   "metadata": {},
   "source": [
    "# Add Controller"
   ]
  },
  {
   "cell_type": "code",
   "execution_count": null,
   "id": "e76e74f0",
   "metadata": {
    "ExecuteTime": {
     "end_time": "2023-01-30T09:17:41.899427Z",
     "start_time": "2023-01-30T09:17:41.896760Z"
    },
    "code_folding": []
   },
   "outputs": [],
   "source": [
    "# Config for Controller\n",
    "ctrl_config = {\n",
    "    \"ctrl_name\": \"ocean_navigation_simulator.controllers.hj_planners.HJBSeaweed2DPlanner.HJBSeaweed2DPlanner\",\n",
    "    \"replan_on_new_fmrc\": True,\n",
    "    \"replan_every_X_seconds\": False,\n",
    "    \"direction\": \"backward\",\n",
    "    \"n_time_vector\": 24*90,\n",
    "    # Note that this is the number of time-intervals, the vector is +1 longer because of init_time\n",
    "    \"deg_around_xt_xT_box_global\": 25,  # area over which to run HJ_reachability on the first global run\n",
    "    \"deg_around_xt_xT_box\": 1.4,  # area over which to run HJ_reachability\n",
    "    \"accuracy\": \"high\",\n",
    "    \"artificial_dissipation_scheme\": \"local_local\",\n",
    "    \"T_goal_in_seconds\": 3600 * 24 * 90,\n",
    "    \"use_geographic_coordinate_system\": True,\n",
    "    \"progress_bar\": True,\n",
    "    \"grid_res\": 0.0833,  # Note: this is in deg lat, lon (HYCOM Global is 0.083 and Mexico 0.04)\n",
    "    \"grid_res_global\": 0.166,  # Note: this is in deg lat, lon (HYCOM Global is 0.083 and Mexico 0.04)        \n",
    "    \"d_max\": 0.0,\n",
    "    \"calc_opt_traj_after_planning\": False\n",
    "}"
   ]
  },
  {
   "cell_type": "code",
   "execution_count": null,
   "id": "8587e550",
   "metadata": {
    "ExecuteTime": {
     "end_time": "2023-01-30T09:17:48.952907Z",
     "start_time": "2023-01-30T09:17:48.887870Z"
    },
    "code_folding": [],
    "scrolled": false
   },
   "outputs": [
    {
     "data": {
      "text/plain": [
       "c3.ControllerSetting(\n",
       " id='HC_umax_0.5_90_gpu_SeaweedHJController_25_deg_test_gpu',\n",
       " name='SeaweedHJController_25_deg_test_gpu',\n",
       " meta=c3.Meta(\n",
       "        created=datetime.datetime(2023, 2, 9, 3, 56, 52, tzinfo=datetime.timezone.utc),\n",
       "        updated=datetime.datetime(2023, 2, 9, 3, 56, 52, tzinfo=datetime.timezone.utc),\n",
       "        timestamp=datetime.datetime(2023, 2, 9, 3, 56, 52, tzinfo=datetime.timezone.utc)),\n",
       " version=1)"
      ]
     },
     "execution_count": 244,
     "metadata": {},
     "output_type": "execute_result"
    }
   ],
   "source": [
    "# add controller\n",
    "exp.addController(name='SeaweedHJController_25_deg_test_gpu', ctrlConfig=ctrl_config)"
   ]
  },
  {
   "cell_type": "code",
   "execution_count": null,
   "id": "24a7aa40",
   "metadata": {
    "ExecuteTime": {
     "end_time": "2023-01-28T05:48:52.673790Z",
     "start_time": "2023-01-28T05:48:52.663253Z"
    },
    "code_folding": []
   },
   "outputs": [
    {
     "data": {
      "text/plain": [
       "c3.ControllerSetting(\n",
       " id='matthias_wandb_2_NaiveToTarget',\n",
       " name='NaiveToTarget',\n",
       " meta=c3.Meta(\n",
       "        created=datetime.datetime(2023, 1, 30, 20, 5, 27, tzinfo=datetime.timezone.utc),\n",
       "        updated=datetime.datetime(2023, 1, 30, 20, 5, 27, tzinfo=datetime.timezone.utc),\n",
       "        timestamp=datetime.datetime(2023, 1, 30, 20, 5, 27, tzinfo=datetime.timezone.utc)),\n",
       " version=1)"
      ]
     },
     "execution_count": 36,
     "metadata": {},
     "output_type": "execute_result"
    }
   ],
   "source": [
    "ctrl_config = {\n",
    "    \"ctrl_name\": \"ocean_navigation_simulator.controllers.NaiveController.NaiveController\"}\n",
    "# add controller\n",
    "exp.addController(name=\"NaiveToTarget\", ctrlConfig=ctrl_config)"
   ]
  },
  {
   "cell_type": "markdown",
   "id": "40bf14cc",
   "metadata": {
    "heading_collapsed": true
   },
   "source": [
    "# [Run Feasibility Check Batch Job]"
   ]
  },
  {
   "cell_type": "code",
   "execution_count": null,
   "id": "1b7dc554",
   "metadata": {
    "ExecuteTime": {
     "end_time": "2023-01-28T06:05:16.666777Z",
     "start_time": "2023-01-28T06:05:16.664226Z"
    },
    "hidden": true
   },
   "outputs": [],
   "source": [
    "filterOnMissions = 'status ==' + '\"' + 'staged_for_feasibility' + '\"'\n",
    "options = c3.FeasibilityCheckBatchJobOptions(**{\n",
    "    'experiment':exp,\n",
    "    'limit': -1,\n",
    "    'filterOnMissions': filterOnMissions\n",
    "})"
   ]
  },
  {
   "cell_type": "code",
   "execution_count": null,
   "id": "26455ba6",
   "metadata": {
    "ExecuteTime": {
     "end_time": "2023-01-28T06:05:40.185794Z",
     "start_time": "2023-01-28T06:05:40.182304Z"
    },
    "hidden": true
   },
   "outputs": [],
   "source": [
    "exp"
   ]
  },
  {
   "cell_type": "code",
   "execution_count": null,
   "id": "118eacb8",
   "metadata": {
    "ExecuteTime": {
     "end_time": "2023-01-20T00:10:54.819458Z",
     "start_time": "2023-01-20T00:10:54.543727Z"
    },
    "hidden": true
   },
   "outputs": [],
   "source": [
    "feas_job = c3.FeasibilityCheckBatchJob(**{'options': options.toJson()}).upsert()\n",
    "# feas_job.setMaxConcurrency(12)\n",
    "# feas_job.setMaxConcurrencyPerNode(15)\n",
    "feas_job.start()\n",
    "feas_job"
   ]
  },
  {
   "cell_type": "code",
   "execution_count": null,
   "id": "9e2efbda",
   "metadata": {
    "ExecuteTime": {
     "end_time": "2023-01-20T00:16:43.746346Z",
     "start_time": "2023-01-20T00:16:43.711888Z"
    },
    "hidden": true
   },
   "outputs": [],
   "source": [
    "feas_job = c3.FeasibilityCheckBatchJob.get('2d084cad-1771-4e09-b826-98b2bef29478')\n",
    "feas_job.status()"
   ]
  },
  {
   "cell_type": "code",
   "execution_count": null,
   "id": "fd5997df",
   "metadata": {
    "ExecuteTime": {
     "end_time": "2023-01-20T00:17:13.577547Z",
     "start_time": "2023-01-20T00:17:13.510640Z"
    },
    "hidden": true
   },
   "outputs": [],
   "source": [
    "experiment = 'experiment.id==' + '\"' + exp.id + '\"'\n",
    "objs_list = c3.Mission.fetch(spec={'include': \"[this]\",'filter':  experiment}).objs\n",
    "print(\"Total of {} Missions\".format(len(objs_list)))\n",
    "\n",
    "staged_for_feasibility = 0\n",
    "running_feasibility = 0\n",
    "not_feasible = 0\n",
    "ready_to_run = 0\n",
    "feasibility_failed = 0\n",
    "\n",
    "for run in objs_list:\n",
    "    if run.status == 'staged_for_feasibility':\n",
    "        staged_for_feasibility += 1\n",
    "    elif run.status == 'running_feasibility':\n",
    "        running_feasibility += 1\n",
    "    elif run.status == 'not_feasible':\n",
    "        not_feasible += 1\n",
    "    elif run.status == 'ready_to_run':\n",
    "        ready_to_run += 1\n",
    "    elif run.status == 'feasibility_failed':\n",
    "        feasibility_failed += 1\n",
    "\n",
    "print(\"staged_for_feasibility: \", staged_for_feasibility)\n",
    "print(\"running_feasibility: \", running_feasibility)\n",
    "print(\"not_feasible: \", not_feasible)\n",
    "print(\"feasibility_failed: \", feasibility_failed)\n",
    "print(\"ready_to_run: \", ready_to_run)"
   ]
  },
  {
   "cell_type": "code",
   "execution_count": null,
   "id": "0ff6ddda",
   "metadata": {
    "ExecuteTime": {
     "end_time": "2023-01-20T00:17:25.532434Z",
     "start_time": "2023-01-20T00:17:25.521983Z"
    },
    "hidden": true
   },
   "outputs": [],
   "source": [
    "experiment = 'experiment.id==' + '\"' + exp.id + '\"'\n",
    "status = ' && status==' + '\"not_feasible\"'\n",
    "ro_remove_list = c3.Mission.fetch(spec={'include': \"[this]\",'filter':  experiment + status}).objs"
   ]
  },
  {
   "cell_type": "code",
   "execution_count": null,
   "id": "6fdf86e4",
   "metadata": {
    "ExecuteTime": {
     "end_time": "2023-01-20T00:17:26.331866Z",
     "start_time": "2023-01-20T00:17:26.329849Z"
    },
    "hidden": true
   },
   "outputs": [],
   "source": [
    "ro_remove_list"
   ]
  },
  {
   "cell_type": "code",
   "execution_count": null,
   "id": "016adf23",
   "metadata": {
    "ExecuteTime": {
     "end_time": "2023-01-20T00:13:52.886353Z",
     "start_time": "2023-01-20T00:13:51.304845Z"
    },
    "hidden": true
   },
   "outputs": [],
   "source": [
    "for miss in ro_remove_list:\n",
    "    miss.remove()"
   ]
  },
  {
   "cell_type": "markdown",
   "id": "88ae9dfd",
   "metadata": {
    "ExecuteTime": {
     "end_time": "2023-01-28T06:12:09.009764Z",
     "start_time": "2023-01-28T06:12:09.007906Z"
    }
   },
   "source": [
    "# Set missions to ready to run"
   ]
  },
  {
   "cell_type": "code",
   "execution_count": null,
   "id": "7eaea5b8",
   "metadata": {
    "ExecuteTime": {
     "end_time": "2023-01-30T09:17:53.094276Z",
     "start_time": "2023-01-30T09:17:53.079456Z"
    }
   },
   "outputs": [],
   "source": [
    "experiment = 'experiment.id==' + '\"' + exp.id + '\"'\n",
    "status = ' && status==' + '\"staged_for_feasibility\"'\n",
    "exp_list = c3.Mission.fetch(spec={'include': \"[this]\",'filter':  experiment + status}).objs"
   ]
  },
  {
   "cell_type": "code",
   "execution_count": null,
   "id": "4b5fdc8a",
   "metadata": {},
   "outputs": [
    {
     "data": {
      "text/plain": [
       "64"
      ]
     },
     "execution_count": 246,
     "metadata": {},
     "output_type": "execute_result"
    }
   ],
   "source": [
    "len(exp_list)"
   ]
  },
  {
   "cell_type": "code",
   "execution_count": null,
   "id": "32851960",
   "metadata": {
    "ExecuteTime": {
     "end_time": "2023-01-30T09:17:54.785903Z",
     "start_time": "2023-01-30T09:17:54.782661Z"
    }
   },
   "outputs": [
    {
     "data": {
      "text/plain": [
       "'experiment.id==\"HC_umax_0.5_90\"'"
      ]
     },
     "execution_count": 212,
     "metadata": {},
     "output_type": "execute_result"
    }
   ],
   "source": [
    "experiment"
   ]
  },
  {
   "cell_type": "code",
   "execution_count": null,
   "id": "54e8d834",
   "metadata": {
    "ExecuteTime": {
     "end_time": "2023-01-30T09:17:55.380059Z",
     "start_time": "2023-01-30T09:17:55.326569Z"
    }
   },
   "outputs": [],
   "source": [
    "for miss in exp_list:\n",
    "    miss.status=\"ready_to_run\"\n",
    "    miss.merge()\n",
    "    #print(miss.status)"
   ]
  },
  {
   "cell_type": "markdown",
   "id": "fe6b9724",
   "metadata": {
    "heading_collapsed": true
   },
   "source": [
    "## Test feasibility manually"
   ]
  },
  {
   "cell_type": "code",
   "execution_count": null,
   "id": "7e767f35",
   "metadata": {
    "ExecuteTime": {
     "end_time": "2023-01-19T19:43:03.743842Z",
     "start_time": "2023-01-19T19:43:03.741825Z"
    },
    "hidden": true
   },
   "outputs": [],
   "source": [
    "# Seems like the problem is with mission generation then, that they are unrealistic..."
   ]
  },
  {
   "cell_type": "code",
   "execution_count": null,
   "id": "1d76fa71",
   "metadata": {
    "ExecuteTime": {
     "end_time": "2023-01-20T00:14:20.551213Z",
     "start_time": "2023-01-20T00:14:20.545562Z"
    },
    "code_folding": [
     11
    ],
    "hidden": true
   },
   "outputs": [],
   "source": [
    "import os\n",
    "import pickle\n",
    "import logging\n",
    "import datetime\n",
    "\n",
    "from ocean_navigation_simulator.environment.ArenaFactory import ArenaFactory\n",
    "from ocean_navigation_simulator.problem_factories.Constructor import Constructor\n",
    "from ocean_navigation_simulator.environment.PlatformState import SpatioTemporalPoint\n",
    "from ocean_navigation_simulator.utils.calc_fmrc_error import calc_fmrc_errors\n",
    "from ocean_navigation_simulator.utils.misc import set_arena_loggers\n",
    "set_arena_loggers(logging.DEBUG)\n",
    "\n",
    "\n",
    "def set_up_time_optimal_controller_config(this):\n",
    "    ctrl_config = {\n",
    "        \"ctrl_name\": \"ocean_navigation_simulator.controllers.hj_planners.HJReach2DPlanner.HJReach2DPlanner\",\n",
    "        \"replan_on_new_fmrc\": False,\n",
    "        \"replan_every_X_seconds\": False,\n",
    "        \"direction\": \"multi-time-reach-back\",\n",
    "        \"n_time_vector\": 200,\n",
    "        \"deg_around_xt_xT_box\": this.experiment.feasibilityCheckSettings.deg_around_xt_xT_box,\n",
    "        \"accuracy\": \"high\",\n",
    "        \"artificial_dissipation_scheme\": \"local_local\",\n",
    "        \"T_goal_in_seconds\": this.experiment.timeout_in_sec,\n",
    "        \"use_geographic_coordinate_system\": True,\n",
    "        \"progress_bar\": False,\n",
    "        \"grid_res\": this.experiment.feasibilityCheckSettings.grid_res,\n",
    "        \"d_max\": 0.0,\n",
    "    }\n",
    "    return ctrl_config"
   ]
  },
  {
   "cell_type": "code",
   "execution_count": null,
   "id": "a324e1ec",
   "metadata": {
    "ExecuteTime": {
     "end_time": "2023-01-20T00:14:22.272928Z",
     "start_time": "2023-01-20T00:14:22.255632Z"
    },
    "hidden": true
   },
   "outputs": [],
   "source": [
    "this = exp.get('expMissions').expMissions[0]"
   ]
  },
  {
   "cell_type": "code",
   "execution_count": null,
   "id": "d0544637",
   "metadata": {
    "ExecuteTime": {
     "end_time": "2023-01-20T00:14:37.961613Z",
     "start_time": "2023-01-20T00:14:22.779499Z"
    },
    "code_folding": [
     124,
     159,
     161
    ],
    "hidden": true,
    "scrolled": true
   },
   "outputs": [],
   "source": [
    "\"\"\"Function to check 2D time-optimal feasibility of the mission with specific specs defined in Experiment.\"\"\"\n",
    "\n",
    "# ensure we have all necessary data to run\n",
    "this = this.get(\"missionConfig, experiment.timeout_in_sec,\" +\n",
    "                \"experiment.arenaConfig, experiment.objectiveConfig,\"+\n",
    "                \"experiment.feasibilityCheckSettings.deg_around_xt_xT_box,\"+\n",
    "                \"experiment.feasibilityCheckSettings.grid_res\")\n",
    "\n",
    "# Step 1 update the entry while running feasibility\n",
    "updated_miss = c3.Mission(**{'id': this.id, 'status': 'running_feasibility'})\n",
    "updated_miss.merge()\n",
    "\n",
    "# Step 2: check if it is a navigation problem otherwise return Error\n",
    "if not this.experiment.objectiveConfig['type'] == \"nav\":\n",
    "    e = \"Type Error: objectiveConfig['type'] needs to be 'nav' otherwise feasibility not defined.\"\n",
    "    updated_miss.oceanSimResult = c3.OceanSimResult(**{'error_message': e})\n",
    "    updated_miss.merge()\n",
    "    print(\"in the wrong place\")\n",
    "#     return updated_miss\n",
    "\n",
    "# Set up file paths and download folders\n",
    "temp_folder = '/tmp/' + this.id + '/'\n",
    "# create the folder if it doesn't exist yet\n",
    "if not os.path.isdir(temp_folder):\n",
    "    os.mkdir(temp_folder)\n",
    "log_file_name = this.id + \".log\"\n",
    "logging.basicConfig(filename=temp_folder + log_file_name, level=logging.DEBUG)\n",
    "traj_file_name = this.id + '.obj'\n",
    "extDir = \"ocean_sim_run_results/\" + this.experiment.id + '/MissionFeasibility/' + this.id\n",
    "\n",
    "# set download directories (ignore set ones in arenaConfig)\n",
    "arenaConfig = this.experiment.arenaConfig\n",
    "arenaConfig['timeout'] = this.experiment.timeout_in_sec\n",
    "\n",
    "# for hindcast\n",
    "arenaConfig['ocean_dict']['hindcast']['source_settings']['folder'] = '/tmp/hindcast_files/' + this.id + '/'\n",
    "# set forecast to none\n",
    "arenaConfig['ocean_dict']['forecast'] = None\n",
    "\n",
    "# prepping the file download\n",
    "point_to_check = SpatioTemporalPoint.from_dict(this.missionConfig['x_0'][0])\n",
    "t_interval = [point_to_check.date_time,\n",
    "              point_to_check.date_time + datetime.timedelta(\n",
    "                  seconds=this.experiment.timeout_in_sec + arenaConfig['casadi_cache_dict'][\n",
    "                      'time_around_x_t'])]\n",
    "feasible = None\n",
    "\n",
    "arena = None\n",
    "\n",
    "# Step 1: Download all relevant files (only Hindcast files needed)\n",
    "with ArenaFactory.download_files(\n",
    "        config=arenaConfig, type=\"hindcast\",\n",
    "        t_interval=t_interval, c3=c3,\n",
    "        points=[point_to_check.to_spatial_point()]) as download_hindcast_files_to_local:\n",
    "\n",
    "    try:\n",
    "        # Step 0: Create Constructor object which contains arena, problem, controller and observer\n",
    "        constructor = Constructor(\n",
    "            arena_conf=arenaConfig,\n",
    "            mission_conf=this.missionConfig,\n",
    "            objective_conf=this.experiment.objectiveConfig,\n",
    "            ctrl_conf=set_up_time_optimal_controller_config(this),\n",
    "            observer_conf={'observer': None},\n",
    "        )\n",
    "\n",
    "        # Step 1.1 Retrieve problem\n",
    "        problem = constructor.problem\n",
    "\n",
    "        # Step 1.2: Retrieve arena\n",
    "        arena = constructor.arena\n",
    "        observation = arena.reset(platform_state=problem.start_state)\n",
    "        problem_status = arena.problem_status(problem=problem)\n",
    "\n",
    "        # Step 2: Retrieve Controller\n",
    "        controller = constructor.controller\n",
    "\n",
    "        action = controller.get_action(observation=observation)\n",
    "\n",
    "        # Step 4: Run Arena\n",
    "        while problem_status == 0:\n",
    "            # Get action\n",
    "            action = controller.get_action(observation=observation)\n",
    "            # execute action\n",
    "            observation = arena.step(action)\n",
    "            # update problem status\n",
    "            problem_status = arena.problem_status(problem=problem)\n",
    "\n",
    "        feasible = arena.problem_status_text(problem_status) == 'Success'\n",
    "        if feasible:\n",
    "            updated_miss.status = 'ready_to_run'\n",
    "            updated_miss.T_earliest_in_hours = (arena.state_trajectory[-1, 2] - arena.state_trajectory[0, 2])/3600\n",
    "        else:\n",
    "            updated_miss.status = 'not_feasible'\n",
    "\n",
    "        updated_miss.fundamentalFeasibility = feasible\n",
    "\n",
    "        # Step 5: create the OceanSimResult object with the files and upload it\n",
    "        # Step 5.1: create the files to store the trajectories locally\n",
    "\n",
    "        # Create a large dict with all trajectory data\n",
    "        trajs_dict = {\"sim_traj\": arena.state_trajectory,\n",
    "                      \"sim_ctrl\": arena.action_trajectory}\n",
    "\n",
    "        with open(traj_file_name, 'wb') as traj_file:\n",
    "            pickle.dump(trajs_dict, traj_file)\n",
    "\n",
    "        # upload log file\n",
    "        updated_miss.oceanSimResult = c3.OceanSimResult()\n",
    "        if os.path.exists(log_file_name):\n",
    "            c3.Client.uploadLocalClientFiles(log_file_name,\n",
    "                                             extDir + '/logs', {\"peekForMetadata\": True})\n",
    "            log_file = c3.File(**{'url': extDir + '/logs/' + log_file_name}).readMetadata()\n",
    "            updated_miss.oceanSimResult.log_file = log_file\n",
    "            os.remove( log_file_name)\n",
    "\n",
    "        if os.path.exists(traj_file_name):\n",
    "            # upload traj file\n",
    "            c3.Client.uploadLocalClientFiles(traj_file_name,\n",
    "                                             extDir + '/trajs', {\"peekForMetadata\": True})\n",
    "            trajs_file = c3.File(**{'url': extDir + '/trajs/' + traj_file_name}).readMetadata()\n",
    "            updated_miss.oceanSimResult.trajectories = trajs_file\n",
    "            os.remove(traj_file_name)\n",
    "        logged_error_message = None\n",
    "\n",
    "    except BaseException as e:\n",
    "        # if we crash we should upload that to the table for debugging\n",
    "        print(\"Error Message: \", e)\n",
    "        updated_miss.status = 'feasibility_failed'\n",
    "        logged_error_message = e\n",
    "\n",
    "        # for debug purposes save the hindcast & forecast dicts\n",
    "        # Step 5: create the OceanSimResult object with the files and upload it\n",
    "        # Step 5.1: create the files to store the trajectories locally\n",
    "\n",
    "        # Create a large dict with all trajectory data\n",
    "        if arena is not None:\n",
    "            trajs_dict = {\"sim_traj\": arena.state_trajectory,\n",
    "                          \"sim_ctrl\": arena.action_trajectory}\n",
    "\n",
    "            with open(traj_file_name, 'wb') as traj_file:\n",
    "                pickle.dump(trajs_dict, traj_file)\n",
    "\n",
    "            # upload log file\n",
    "            updated_miss.oceanSimResult = c3.OceanSimResult()\n",
    "            if os.path.exists(temp_folder + log_file_name):\n",
    "                c3.Client.uploadLocalClientFiles(temp_folder + log_file_name,\n",
    "                                                 extDir + '/logs', {\"peekForMetadata\": True})\n",
    "                log_file = c3.File(**{'url': extDir + '/logs/' + log_file_name}).readMetadata()\n",
    "                updated_miss.oceanSimResult.log_file = log_file\n",
    "                os.remove(temp_folder + log_file_name)\n",
    "\n",
    "            if os.path.exists(temp_folder + traj_file_name):\n",
    "                # upload traj file\n",
    "                c3.Client.uploadLocalClientFiles(temp_folder + traj_file_name,\n",
    "                                                 extDir + '/trajs', {\"peekForMetadata\": True})\n",
    "                trajs_file = c3.File(**{'url': extDir + '/trajs/' + traj_file_name}).readMetadata()\n",
    "                updated_miss.oceanSimResult.trajectories = trajs_file\n",
    "                os.remove(temp_folder + traj_file_name)\n",
    "\n",
    "if updated_miss.oceanSimResult is None:\n",
    "    updated_miss.oceanSimResult = c3.OceanSimResult(**{'error_message': logged_error_message})\n",
    "else:\n",
    "    updated_miss.oceanSimResult.error_message = logged_error_message\n",
    "\n",
    "# upload results to the DB\n",
    "# updated_miss.merge()\n",
    "\n",
    "# if feasible is None:\n",
    "#     return False\n",
    "# else:\n",
    "#     return feasible"
   ]
  },
  {
   "cell_type": "code",
   "execution_count": null,
   "id": "4288fb55",
   "metadata": {
    "ExecuteTime": {
     "end_time": "2023-01-19T19:43:30.556571Z",
     "start_time": "2023-01-19T19:43:30.030106Z"
    },
    "hidden": true
   },
   "outputs": [],
   "source": [
    "# %% Various plotting of the reachability computations\n",
    "controller.plot_reachability_snapshot(\n",
    "    rel_time_in_seconds=0,\n",
    "    granularity_in_h=5,\n",
    "    alpha_color=1,\n",
    "    time_to_reach=True,\n",
    "    fig_size_inches=(12, 12),\n",
    "    plot_in_h=True,\n",
    ")"
   ]
  },
  {
   "cell_type": "code",
   "execution_count": null,
   "id": "73273219",
   "metadata": {
    "ExecuteTime": {
     "end_time": "2023-01-19T19:43:38.034980Z",
     "start_time": "2023-01-19T19:43:37.453362Z"
    },
    "hidden": true
   },
   "outputs": [],
   "source": [
    "t_interval, lat_bnds, lon_bnds = arena.ocean_field.hindcast_data_source.convert_to_x_y_time_bounds(\n",
    "    x_0=problem.start_state.to_spatio_temporal_point(), x_T=problem.end_region, deg_around_x0_xT_box=1, temp_horizon_in_s=3600\n",
    ")\n",
    "\n",
    "ax = arena.ocean_field.hindcast_data_source.plot_data_at_time_over_area(\n",
    "    time=problem.start_state.date_time, x_interval=lon_bnds, y_interval=lat_bnds, return_ax=True\n",
    ")\n",
    "problem.plot(ax=ax)\n",
    "plt.show()"
   ]
  },
  {
   "cell_type": "code",
   "execution_count": null,
   "id": "2bc4bf41",
   "metadata": {
    "ExecuteTime": {
     "end_time": "2023-01-19T19:43:46.833280Z",
     "start_time": "2023-01-19T19:43:46.156627Z"
    },
    "hidden": true
   },
   "outputs": [],
   "source": [
    "arena.plot_all_on_map(problem=problem)"
   ]
  },
  {
   "cell_type": "code",
   "execution_count": null,
   "id": "89aecf49",
   "metadata": {
    "ExecuteTime": {
     "end_time": "2023-01-19T19:32:27.266150Z",
     "start_time": "2023-01-19T19:32:27.262785Z"
    },
    "hidden": true
   },
   "outputs": [],
   "source": [
    "arena.problem_status_text(problem_status)"
   ]
  },
  {
   "cell_type": "code",
   "execution_count": null,
   "id": "9d96689d",
   "metadata": {
    "ExecuteTime": {
     "end_time": "2023-01-19T19:31:57.445817Z",
     "start_time": "2023-01-19T19:31:57.444021Z"
    },
    "hidden": true
   },
   "outputs": [],
   "source": [
    "# done"
   ]
  },
  {
   "cell_type": "markdown",
   "id": "19985cb6",
   "metadata": {
    "heading_collapsed": true
   },
   "source": [
    "# FC Error Calculation Batch Job"
   ]
  },
  {
   "cell_type": "code",
   "execution_count": null,
   "id": "8e064e59",
   "metadata": {
    "ExecuteTime": {
     "end_time": "2023-01-20T00:14:53.730865Z",
     "start_time": "2023-01-20T00:14:53.728883Z"
    },
    "hidden": true
   },
   "outputs": [],
   "source": [
    "# Note: this runs FC Error Calculation only for the ready_to_run Missions not for all of them!"
   ]
  },
  {
   "cell_type": "code",
   "execution_count": null,
   "id": "388d5b52",
   "metadata": {
    "ExecuteTime": {
     "end_time": "2023-01-28T06:13:14.263843Z",
     "start_time": "2023-01-28T06:13:14.261177Z"
    },
    "hidden": true
   },
   "outputs": [],
   "source": [
    "# Create the Experiment Batch Job Options\n",
    "filterOnMissions = 'status ==' + '\"' + 'ready_to_run' + '\"'\n",
    "options = c3.ForecastErrorBatchJobOptions(**{\n",
    "    'experiment': exp,\n",
    "    'filterOnMissions': filterOnMissions,\n",
    "    'limit': -1\n",
    "})"
   ]
  },
  {
   "cell_type": "code",
   "execution_count": null,
   "id": "4faace68",
   "metadata": {
    "ExecuteTime": {
     "end_time": "2023-01-28T06:13:17.722536Z",
     "start_time": "2023-01-28T06:13:17.468136Z"
    },
    "hidden": true
   },
   "outputs": [],
   "source": [
    "# Start the Batch Job\n",
    "err_job = c3.ForecastErrorBatchJob(**{'options': options.toJson()}).upsert()\n",
    "err_job.start()\n",
    "err_job"
   ]
  },
  {
   "cell_type": "code",
   "execution_count": null,
   "id": "9014688f",
   "metadata": {
    "ExecuteTime": {
     "end_time": "2023-01-28T06:17:27.868551Z",
     "start_time": "2023-01-28T06:17:27.823169Z"
    },
    "hidden": true,
    "scrolled": true
   },
   "outputs": [],
   "source": [
    "# Monitor the Batch Job (small propulsion)\n",
    "#err_job = c3.ForecastErrorBatchJob.get('a5269982-38e5-4626-8bd1-3f4848ff49b6')\n",
    "err_job.status()"
   ]
  },
  {
   "cell_type": "code",
   "execution_count": null,
   "id": "b2e84389",
   "metadata": {
    "ExecuteTime": {
     "end_time": "2023-01-28T06:18:32.519465Z",
     "start_time": "2023-01-28T06:18:32.485031Z"
    },
    "hidden": true
   },
   "outputs": [],
   "source": [
    "exp.get('expMissions').expMissions[1].get('fmrcError, status')"
   ]
  },
  {
   "cell_type": "code",
   "execution_count": null,
   "id": "2d02f029",
   "metadata": {
    "ExecuteTime": {
     "end_time": "2022-11-20T21:50:57.341869Z",
     "start_time": "2022-11-20T21:50:57.339785Z"
    },
    "hidden": true
   },
   "outputs": [],
   "source": [
    "# err_job.cancel()"
   ]
  },
  {
   "cell_type": "markdown",
   "id": "01d21fbe",
   "metadata": {
    "heading_collapsed": true,
    "hidden": true
   },
   "source": [
    "## Run FC Error Calc Manually"
   ]
  },
  {
   "cell_type": "markdown",
   "id": "92d6b9c1",
   "metadata": {},
   "source": [
    "# Create Ocean Sim Runs"
   ]
  },
  {
   "cell_type": "code",
   "execution_count": null,
   "id": "a1c7a743",
   "metadata": {
    "ExecuteTime": {
     "end_time": "2023-01-30T09:17:59.003299Z",
     "start_time": "2023-01-30T09:17:58.896261Z"
    }
   },
   "outputs": [
    {
     "data": {
      "text/plain": [
       "True"
      ]
     },
     "execution_count": 248,
     "metadata": {},
     "output_type": "execute_result"
    }
   ],
   "source": [
    "# Create the Run objects\n",
    "exp.createOceanSimRuns(ctrl_name='SeaweedHJController_25_deg_test_gpu', obs_name='NoObserver')"
   ]
  },
  {
   "cell_type": "markdown",
   "id": "112a41b4",
   "metadata": {
    "heading_collapsed": true
   },
   "source": [
    "## Debug locally"
   ]
  },
  {
   "attachments": {},
   "cell_type": "markdown",
   "id": "e1032d17",
   "metadata": {},
   "source": [
    "In case you want to debug the OceanSimRun c3 stuff locally. Just copy the according code from ```OceanSimRun.py```"
   ]
  },
  {
   "cell_type": "code",
   "execution_count": 36,
   "id": "08f81e12",
   "metadata": {},
   "outputs": [],
   "source": [
    "run = c3.OceanSimRun.get('umax_0.5_30d_HC_copernicus_mission_nr_507_SeaweedHJController_deg_10_acc_low_bc_1_NoObserver')"
   ]
  },
  {
   "cell_type": "code",
   "execution_count": 37,
   "id": "0483d261",
   "metadata": {},
   "outputs": [],
   "source": [
    "#run"
   ]
  },
  {
   "cell_type": "code",
   "execution_count": 38,
   "id": "864f1736",
   "metadata": {},
   "outputs": [],
   "source": [
    "# experiment = run.mission.get(\"experiment\").experiment.get(\"arenaConfig\")\n",
    "# arenaConfig = experiment.arenaConfig\n",
    "# arenaConfig[\"solar_dict\"][\"hindcast\"][\"source_settings\"][\"spatial_resolution\"] = 0.25\n",
    "# experiment.arenaConfig=arenaConfig\n",
    "# experiment.merge()"
   ]
  },
  {
   "cell_type": "code",
   "execution_count": 39,
   "id": "0e9653f1",
   "metadata": {},
   "outputs": [
    {
     "data": {
      "text/plain": [
       "c3.ControllerSetting(\n",
       " id='umax_0.5_30d_HC_copernicus_SeaweedHJController_deg_10_acc_low_bc_1',\n",
       " meta=c3.Meta(\n",
       "        tenantTagId=32,\n",
       "        tenant='seaweed-control',\n",
       "        tag='devseaweedrc1',\n",
       "        created=datetime.datetime(2023, 3, 20, 4, 16, 59, tzinfo=datetime.timezone.utc),\n",
       "        createdBy='killer@berkeley.edu',\n",
       "        updated=datetime.datetime(2023, 3, 21, 0, 3, tzinfo=datetime.timezone.utc),\n",
       "        updatedBy='mariuswiggert@berkeley.edu',\n",
       "        timestamp=datetime.datetime(2023, 3, 21, 0, 3, tzinfo=datetime.timezone.utc),\n",
       "        fetchInclude='[ctrlConfig,id,version]',\n",
       "        fetchType='ControllerSetting'),\n",
       " version=4)"
      ]
     },
     "execution_count": 39,
     "metadata": {},
     "output_type": "execute_result"
    }
   ],
   "source": [
    "ctrlConfig = run.controllerSetting.get(\"ctrlConfig\")\n",
    "ctrlConfig.ctrlConfig[\"dirichlet_boundry_constant\"]=0\n",
    "ctrlConfig.ctrlConfig[\"deg_around_xt_xT_box\"]=10\n",
    "ctrlConfig.ctrlConfig[\"grid_res\"]=0.0833\n",
    "ctrlConfig.ctrlConfig[\"accuracy\"]=\"low\"\n",
    "ctrlConfig.ctrlConfig[\"discount_factor_tau\"]= False #50 #False, #10,\n",
    "ctrlConfig.ctrlConfig[\"affine_dynamics\"]= True\n",
    "\n",
    "\n",
    "# run.controllerSetting.get(\"ctrlConfig\").ctrlConfig =ctrlConfig\n",
    "# run.merge()\n",
    "ctrlConfig.merge()\n",
    "\n",
    "# arenaConfig = experiment.arenaConfig\n",
    "# arenaConfig[\"solar_dict\"][\"hindcast\"][\"source_settings\"][\"spatial_resolution\"] = 0.25\n",
    "# experiment.arenaConfig=arenaConfig\n",
    "# experiment.merge()"
   ]
  },
  {
   "cell_type": "code",
   "execution_count": 40,
   "id": "a2864fbe",
   "metadata": {},
   "outputs": [
    {
     "data": {
      "text/plain": [
       "c3.ControllerSetting(\n",
       " id='umax_0.5_30d_HC_copernicus_SeaweedHJController_deg_10_acc_low_bc_1',\n",
       " meta=c3.Meta(\n",
       "        fetchInclude='[ctrlConfig,id,version]',\n",
       "        fetchType='ControllerSetting'),\n",
       " version=4,\n",
       " ctrlConfig={'T_goal_in_seconds': 2591999,\n",
       "              'accuracy': 'low',\n",
       "              'affine_dynamics': False,\n",
       "              'artificial_dissipation_scheme': 'local_local',\n",
       "              'calc_opt_traj_after_planning': False,\n",
       "              'ctrl_name': 'ocean_navigation_simulator.controllers.hj_planners.HJBSeaweed2DPlanner.HJBSeaweed2DPlanner',\n",
       "              'd_max': 0.0,\n",
       "              'deg_around_xt_xT_box': 10,\n",
       "              'deg_around_xt_xT_box_average': 50,\n",
       "              'direction': 'backward',\n",
       "              'dirichlet_boundry_constant': 1,\n",
       "              'discount_factor_tau': False,\n",
       "              'grid_res': 0.0833,\n",
       "              'grid_res_average': 0.166,\n",
       "              'grid_res_seaweed': 0.332,\n",
       "              'n_time_vector': 720,\n",
       "              'progress_bar': True,\n",
       "              'replan_every_X_seconds': False,\n",
       "              'replan_on_new_fmrc': True,\n",
       "              'use_geographic_coordinate_system': True,\n",
       "              'x_interval_seaweed': [-130, -70],\n",
       "              'y_interval_seaweed': [-40, 0]})"
      ]
     },
     "execution_count": 40,
     "metadata": {},
     "output_type": "execute_result"
    }
   ],
   "source": [
    "run.controllerSetting.get(\"ctrlConfig\")\n"
   ]
  },
  {
   "cell_type": "code",
   "execution_count": 41,
   "id": "c34ad809",
   "metadata": {},
   "outputs": [
    {
     "data": {
      "text/plain": [
       "-1.71101"
      ]
     },
     "execution_count": 41,
     "metadata": {},
     "output_type": "execute_result"
    }
   ],
   "source": [
    "run.oceanSimResult.value_function_min"
   ]
  },
  {
   "cell_type": "code",
   "execution_count": 42,
   "id": "5cca3b4b",
   "metadata": {},
   "outputs": [
    {
     "data": {
      "text/plain": [
       "c3.OceanSimRun(\n",
       " id='umax_0.5_30d_HC_copernicus_mission_nr_507_SeaweedHJController_deg_10_acc_low_bc_1_NoObserver',\n",
       " version=23)"
      ]
     },
     "execution_count": 42,
     "metadata": {},
     "output_type": "execute_result"
    }
   ],
   "source": [
    "run.status=\"staged_to_run\"\n",
    "run.merge()"
   ]
  },
  {
   "cell_type": "code",
   "execution_count": 43,
   "id": "d495456a",
   "metadata": {
    "ExecuteTime": {
     "end_time": "2023-01-29T05:43:30.479396Z",
     "start_time": "2023-01-29T05:43:30.380357Z"
    },
    "hidden": true
   },
   "outputs": [
    {
     "data": {
      "text/plain": [
       "c3.OceanSimRun(\n",
       " id='umax_0.5_30d_HC_copernicus_mission_nr_507_SeaweedHJController_deg_10_acc_low_bc_1_NoObserver',\n",
       " meta=c3.Meta(\n",
       "        fetchInclude='[{mission:[missionConfig,{experiment:[timeout_in_sec,arenaConfig,objectiveConfig,id]},id]},{controllerSetting:[ctrlConfig,id]},{observerSetting:[observerConfig,id]},id,version]',\n",
       "        fetchType='OceanSimRun'),\n",
       " version=23,\n",
       " mission=c3.Mission(\n",
       "           id='umax_0.5_30d_HC_copernicus_mission_nr_507',\n",
       "           experiment=c3.Experiment(\n",
       "                        id='umax_0.5_30d_HC_copernicus',\n",
       "                        arenaConfig={'casadi_cache_dict': {'deg_around_x_t': 2.0,\n",
       "                                                            'time_around_x_t': 432000},\n",
       "                                      'ocean_dict': {'average': None,\n",
       "                                                     'forecast': None,\n",
       "                                                     'hindcast': {'field': 'OceanCurrents',\n",
       "                                                                  'source': 'hindcast_files',\n",
       "                                                                  'source_settings': {'folder': 'temp/hindcast/',\n",
       "                                                                                      'source': 'Copernicus',\n",
       "                                                                                      'type': 'hindcast'}},\n",
       "                                                     'keep_newest_days': 365,\n",
       "                                                     'region': 'Region '\n",
       "                                                               'Matthias'},\n",
       "                                      'platform_dict': {'battery_cap_in_wh': 400000.0,\n",
       "                                                        'drag_factor': 675.0,\n",
       "                                                        'dt_in_s': 600.0,\n",
       "                                                        'motor_efficiency': 1.0,\n",
       "                                                        'solar_efficiency': 1,\n",
       "                                                        'solar_panel_size': 100,\n",
       "                                                        'u_max_in_mps': 0.5},\n",
       "                                      'seaweed_dict': {'forecast': None,\n",
       "                                                       'hindcast': {'field': 'SeaweedGrowth',\n",
       "                                                                    'source': 'GEOMAR',\n",
       "                                                                    'source_settings': {'filepath': '/home/c3/.conda/adsdenvs/py-ocean_sim_matthias/lib/python3.9/site-packages/ocean_navigation_simulator/package_data/nutrients/'}}},\n",
       "                                      'solar_dict': {'forecast': None,\n",
       "                                                     'hindcast': {'field': 'SolarIrradiance',\n",
       "                                                                  'source': 'analytical_wo_caching',\n",
       "                                                                  'source_settings': {'boundary_buffer': [0.2,\n",
       "                                                                                                          0.2],\n",
       "                                                                                      'spatial_resolution': 0.25,\n",
       "                                                                                      'temporal_domain': ['2021-01-01T00:00:00+00:00',\n",
       "                                                                                                          '2023-02-10T00:00:00+00:00'],\n",
       "                                                                                      'temporal_resolution': 3600,\n",
       "                                                                                      'x_domain': [-180,\n",
       "                                                                                                   180],\n",
       "                                                                                      'y_domain': [-90,\n",
       "                                                                                                   90]}}},\n",
       "                                      'spatial_boundary': None,\n",
       "                                      'timeout': 2592000,\n",
       "                                      'use_geographic_coordinate_system': True},\n",
       "                        timeout_in_sec=2592000,\n",
       "                        objectiveConfig={'type': 'max_seaweed'},\n",
       "                        T_horizon_FC_Error_Calculation_in_h=120),\n",
       "           missionConfig={'seed': None,\n",
       "                           'x_0': [{'date_time': '2022-01-14T19:01:03.326904+00:00',\n",
       "                                    'lat': -30.87480270249753,\n",
       "                                    'lon': -73.5014285643934}]}),\n",
       " controllerSetting=c3.ControllerSetting(\n",
       "                     id='umax_0.5_30d_HC_copernicus_SeaweedHJController_deg_10_acc_low_bc_1',\n",
       "                     ctrlConfig={'T_goal_in_seconds': 2591999,\n",
       "                                  'accuracy': 'low',\n",
       "                                  'affine_dynamics': False,\n",
       "                                  'artificial_dissipation_scheme': 'local_local',\n",
       "                                  'calc_opt_traj_after_planning': False,\n",
       "                                  'ctrl_name': 'ocean_navigation_simulator.controllers.hj_planners.HJBSeaweed2DPlanner.HJBSeaweed2DPlanner',\n",
       "                                  'd_max': 0.0,\n",
       "                                  'deg_around_xt_xT_box': 10,\n",
       "                                  'deg_around_xt_xT_box_average': 50,\n",
       "                                  'direction': 'backward',\n",
       "                                  'dirichlet_boundry_constant': 1,\n",
       "                                  'discount_factor_tau': False,\n",
       "                                  'grid_res': 0.0833,\n",
       "                                  'grid_res_average': 0.166,\n",
       "                                  'grid_res_seaweed': 0.332,\n",
       "                                  'n_time_vector': 720,\n",
       "                                  'progress_bar': True,\n",
       "                                  'replan_every_X_seconds': False,\n",
       "                                  'replan_on_new_fmrc': True,\n",
       "                                  'use_geographic_coordinate_system': True,\n",
       "                                  'x_interval_seaweed': [-130, -70],\n",
       "                                  'y_interval_seaweed': [-40, 0]}),\n",
       " observerSetting=c3.ObserverSetting(\n",
       "                   id='umax_0.5_30d_HC_copernicus_NoObserver',\n",
       "                   observerConfig={'observer': None}))"
      ]
     },
     "execution_count": 43,
     "metadata": {},
     "output_type": "execute_result"
    }
   ],
   "source": [
    "\"\"\"Main function that takes in a spec and runs the simulator.\"\"\"\n",
    "\n",
    "# ensure we have all necessary data to run\n",
    "this = run.get(\n",
    "    \"mission.missionConfig, mission.experiment.timeout_in_sec,\"\n",
    "    + \"mission.experiment.arenaConfig, mission.experiment.objectiveConfig,\"\n",
    "    + \"controllerSetting.ctrlConfig, observerSetting.observerConfig\"\n",
    ")\n",
    "this"
   ]
  },
  {
   "cell_type": "code",
   "execution_count": 44,
   "id": "93bf92b9",
   "metadata": {},
   "outputs": [
    {
     "data": {
      "text/html": [
       "wandb version 0.14.0 is available!  To upgrade, please run:\n",
       " $ pip install wandb --upgrade"
      ],
      "text/plain": [
       "<IPython.core.display.HTML object>"
      ]
     },
     "metadata": {},
     "output_type": "display_data"
    },
    {
     "data": {
      "text/html": [
       "Tracking run with wandb version 0.13.7"
      ],
      "text/plain": [
       "<IPython.core.display.HTML object>"
      ]
     },
     "metadata": {},
     "output_type": "display_data"
    },
    {
     "data": {
      "text/html": [
       "Run data is saved locally in <code>/Users/matthiaskiller/Library/Mobile Documents/com~apple~CloudDocs/Studium/Master RCI/Masters Thesis/Code/OceanPlatformControl/wandb/run-20230320_170640-umax_0.5_30d_HC_copernicus_mission_nr_507_SeaweedHJController_deg_10_acc_low_bc_1_NoObserver</code>"
      ],
      "text/plain": [
       "<IPython.core.display.HTML object>"
      ]
     },
     "metadata": {},
     "output_type": "display_data"
    },
    {
     "data": {
      "text/html": [
       "Syncing run <strong><a href=\"https://wandb.ai/matthiaskiller/Long%20Horizon%20Seaweed%20Maximization/runs/umax_0.5_30d_HC_copernicus_mission_nr_507_SeaweedHJController_deg_10_acc_low_bc_1_NoObserver\" target=\"_blank\">HJ_HC_days_29.999988425925928_u_0.5_deg_10_res_0.0833_id_umax_0.5_30d_HC_copernicus_mission_nr_507_SeaweedHJController_deg_10_acc_low_bc_1_NoObserver</a></strong> to <a href=\"https://wandb.ai/matthiaskiller/Long%20Horizon%20Seaweed%20Maximization\" target=\"_blank\">Weights & Biases</a> (<a href=\"https://wandb.me/run\" target=\"_blank\">docs</a>)<br/>"
      ],
      "text/plain": [
       "<IPython.core.display.HTML object>"
      ]
     },
     "metadata": {},
     "output_type": "display_data"
    },
    {
     "name": "stderr",
     "output_type": "stream",
     "text": [
      "INFO:arena.factory:Downloading 36 files to 'temp/debug/hindcast_files/'.\n",
      "  0%|          | 0/36 [00:00<?, ?it/s]INFO:arena.factory:File already downloaded: 'cmems_mod_glo_phy_anfc_merged-uv_PT1H-i-2022-01-14T12:30:00Z-2022-01-15T11:30:00Z.nc', 6.7MB.\n",
      "INFO:arena.factory:File already downloaded: 'cmems_mod_glo_phy_anfc_merged-uv_PT1H-i-2022-01-15T12:30:00Z-2022-01-16T11:30:00Z.nc', 6.7MB.\n",
      "INFO:arena.factory:File already downloaded: 'cmems_mod_glo_phy_anfc_merged-uv_PT1H-i-2022-01-16T12:30:00Z-2022-01-17T11:30:00Z.nc', 6.7MB.\n",
      "INFO:arena.factory:File already downloaded: 'cmems_mod_glo_phy_anfc_merged-uv_PT1H-i-2022-01-17T12:30:00Z-2022-01-18T11:30:00Z.nc', 6.7MB.\n",
      "INFO:arena.factory:File already downloaded: 'cmems_mod_glo_phy_anfc_merged-uv_PT1H-i-2022-01-18T12:30:00Z-2022-01-19T11:30:00Z.nc', 6.7MB.\n",
      "INFO:arena.factory:File already downloaded: 'cmems_mod_glo_phy_anfc_merged-uv_PT1H-i-2022-01-19T12:30:00Z-2022-01-20T11:30:00Z.nc', 6.7MB.\n",
      "INFO:arena.factory:File already downloaded: 'cmems_mod_glo_phy_anfc_merged-uv_PT1H-i-2022-01-20T12:30:00Z-2022-01-21T11:30:00Z.nc', 6.7MB.\n",
      "INFO:arena.factory:File already downloaded: 'cmems_mod_glo_phy_anfc_merged-uv_PT1H-i-2022-01-21T12:30:00Z-2022-01-22T11:30:00Z.nc', 6.7MB.\n",
      "INFO:arena.factory:File already downloaded: 'cmems_mod_glo_phy_anfc_merged-uv_PT1H-i-2022-01-22T12:30:00Z-2022-01-23T11:30:00Z.nc', 6.7MB.\n",
      "INFO:arena.factory:File already downloaded: 'cmems_mod_glo_phy_anfc_merged-uv_PT1H-i-2022-01-23T12:30:00Z-2022-01-24T11:30:00Z.nc', 6.7MB.\n",
      "INFO:arena.factory:File already downloaded: 'cmems_mod_glo_phy_anfc_merged-uv_PT1H-i-2022-01-24T12:30:00Z-2022-01-25T11:30:00Z.nc', 6.7MB.\n",
      "INFO:arena.factory:File already downloaded: 'cmems_mod_glo_phy_anfc_merged-uv_PT1H-i-2022-01-25T12:30:00Z-2022-01-26T11:30:00Z.nc', 6.7MB.\n",
      "INFO:arena.factory:File already downloaded: 'cmems_mod_glo_phy_anfc_merged-uv_PT1H-i-2022-01-26T12:30:00Z-2022-01-27T11:30:00Z.nc', 6.7MB.\n",
      "INFO:arena.factory:File already downloaded: 'cmems_mod_glo_phy_anfc_merged-uv_PT1H-i-2022-01-27T12:30:00Z-2022-01-28T11:30:00Z.nc', 6.7MB.\n",
      "INFO:arena.factory:File already downloaded: 'cmems_mod_glo_phy_anfc_merged-uv_PT1H-i-2022-01-28T12:30:00Z-2022-01-29T11:30:00Z.nc', 6.7MB.\n",
      "INFO:arena.factory:File already downloaded: 'cmems_mod_glo_phy_anfc_merged-uv_PT1H-i-2022-01-29T12:30:00Z-2022-01-30T11:30:00Z.nc', 6.7MB.\n",
      "INFO:arena.factory:File already downloaded: 'cmems_mod_glo_phy_anfc_merged-uv_PT1H-i-2022-01-30T12:30:00Z-2022-01-31T11:30:00Z.nc', 6.7MB.\n",
      "INFO:arena.factory:File already downloaded: 'cmems_mod_glo_phy_anfc_merged-uv_PT1H-i-2022-01-31T12:30:00Z-2022-02-01T11:30:00Z.nc', 6.7MB.\n",
      "INFO:arena.factory:File already downloaded: 'cmems_mod_glo_phy_anfc_merged-uv_PT1H-i-2022-02-01T12:30:00Z-2022-02-02T11:30:00Z.nc', 6.7MB.\n",
      "INFO:arena.factory:File already downloaded: 'cmems_mod_glo_phy_anfc_merged-uv_PT1H-i-2022-02-02T12:30:00Z-2022-02-03T11:30:00Z.nc', 6.7MB.\n",
      "INFO:arena.factory:File already downloaded: 'cmems_mod_glo_phy_anfc_merged-uv_PT1H-i-2022-02-03T12:30:00Z-2022-02-04T11:30:00Z.nc', 6.7MB.\n",
      " 58%|█████▊    | 21/36 [00:00<00:00, 207.98it/s]INFO:arena.factory:File already downloaded: 'cmems_mod_glo_phy_anfc_merged-uv_PT1H-i-2022-02-04T12:30:00Z-2022-02-05T11:30:00Z.nc', 6.7MB.\n",
      "INFO:arena.factory:File already downloaded: 'cmems_mod_glo_phy_anfc_merged-uv_PT1H-i-2022-02-05T12:30:00Z-2022-02-06T11:30:00Z.nc', 6.7MB.\n",
      "INFO:arena.factory:File already downloaded: 'cmems_mod_glo_phy_anfc_merged-uv_PT1H-i-2022-02-06T12:30:00Z-2022-02-07T11:30:00Z.nc', 6.7MB.\n",
      "INFO:arena.factory:File already downloaded: 'cmems_mod_glo_phy_anfc_merged-uv_PT1H-i-2022-02-07T12:30:00Z-2022-02-08T11:30:00Z.nc', 6.7MB.\n",
      "INFO:arena.factory:File already downloaded: 'cmems_mod_glo_phy_anfc_merged-uv_PT1H-i-2022-02-08T12:30:00Z-2022-02-09T11:30:00Z.nc', 6.7MB.\n",
      "INFO:arena.factory:File already downloaded: 'cmems_mod_glo_phy_anfc_merged-uv_PT1H-i-2022-02-09T12:30:00Z-2022-02-10T11:30:00Z.nc', 6.7MB.\n",
      "INFO:arena.factory:File already downloaded: 'cmems_mod_glo_phy_anfc_merged-uv_PT1H-i-2022-02-10T12:30:00Z-2022-02-11T11:30:00Z.nc', 6.7MB.\n",
      "INFO:arena.factory:File already downloaded: 'cmems_mod_glo_phy_anfc_merged-uv_PT1H-i-2022-02-11T12:30:00Z-2022-02-12T11:30:00Z.nc', 6.7MB.\n",
      "INFO:arena.factory:File already downloaded: 'cmems_mod_glo_phy_anfc_merged-uv_PT1H-i-2022-02-12T12:30:00Z-2022-02-13T11:30:00Z.nc', 6.7MB.\n",
      "INFO:arena.factory:File already downloaded: 'cmems_mod_glo_phy_anfc_merged-uv_PT1H-i-2022-02-13T12:30:00Z-2022-02-14T11:30:00Z.nc', 6.7MB.\n",
      "INFO:arena.factory:File already downloaded: 'cmems_mod_glo_phy_anfc_merged-uv_PT1H-i-2022-02-14T12:30:00Z-2022-02-15T11:30:00Z.nc', 6.7MB.\n",
      "INFO:arena.factory:File already downloaded: 'cmems_mod_glo_phy_anfc_merged-uv_PT1H-i-2022-02-15T12:30:00Z-2022-02-16T11:30:00Z.nc', 6.7MB.\n",
      "INFO:arena.factory:File already downloaded: 'cmems_mod_glo_phy_anfc_merged-uv_PT1H-i-2022-02-16T12:30:00Z-2022-02-17T11:30:00Z.nc', 6.7MB.\n",
      "INFO:arena.factory:File already downloaded: 'cmems_mod_glo_phy_anfc_merged-uv_PT1H-i-2022-02-17T12:30:00Z-2022-02-18T11:30:00Z.nc', 6.7MB.\n",
      "INFO:arena.factory:File already downloaded: 'cmems_mod_glo_phy_anfc_merged-uv_PT1H-i-2022-02-18T12:30:00Z-2022-02-19T11:30:00Z.nc', 6.7MB.\n",
      "100%|██████████| 36/36 [00:00<00:00, 205.15it/s]\n",
      "INFO:arena.ocean_field:DataField: Create Hindcast Source (0.5s)\n",
      "INFO:arena.ocean_field:DataField: Forecast is the same as Hindcast for OceanCurrents.\n",
      "INFO:arena.ocean_field:DataField: Average is the same as Hindcast for OceanCurrents.\n",
      "INFO:arena.solar_field:DataField: Create Hindcast Source (0.0s)\n",
      "INFO:arena.solar_field:DataField: Forecast is the same as Hindcast for SolarIrradiance.\n",
      "INFO:arena.seaweed_growth_field:DataField: Create Hindcast Source (16.7s)\n",
      "INFO:arena.seaweed_growth_field:DataField: Forecast is the same as Hindcast for SeaweedGrowth.\n",
      "INFO:arena:Arena: Generate Sources (17.2s)\n",
      "INFO:arena:Arena: Generate Platform (0.0s)\n",
      "INFO:arena.factory:ArenaFactory: Creating Arena for None (17.23s)\n",
      "INFO:arena.platform:Platform: Set Dynamics F_x_next Function (0.1s)\n",
      "INFO:arena.platform:Platform: Update Casadi + Dynamics (17.5s)\n",
      "INFO:arena.controller:HJPlannerBase: Planning because of new forecast (Old: None, New: 0)\n",
      "WARNING:arena.solar_field.analytical_source:Part of the x requested area is outside of file (requested: [-130, -70]). (files: x_range: [-180.0, 180.0], y_range: [-90.0, 90.0], t_range:['2021-01-01 00-00-00', '2023-02-10 00-00-00'])\n",
      "INFO:arena.solar_field.analytical_source:SolarIrradianceSource: get Data over Area finished (139.9s)\n",
      "INFO:arena.controller:HJBSeaweed2DPlanner: Loading Seaweed Data (141.2s)\n",
      "WARNING:arena.ocean_field.ocean_source:Part of the x requested area is outside of file (requested: [-83.5014285643934, -63.50142856439339]). (files: x_range: [-130.0, -70.0], y_range: [-40.0, 0.0], t_range:['2021-12-31 12-30-00', '2022-02-19 11-30-00'])\n",
      "INFO:arena.controller:HJBSeaweed2DPlanner: Loading new Forecast Current Data (0.8s)\n",
      "/Users/matthiaskiller/miniforge3/envs/ocean_minimal/lib/python3.9/site-packages/xarray/core/indexes.py:97: FutureWarning:\n",
      "\n",
      "Indexing a timezone-naive DatetimeIndex with a timezone-aware datetime is deprecated and will raise KeyError in a future version.  Use a timezone-naive object instead.\n",
      "\n",
      "INFO:arena.controller:HJBSeaweed2DPlanner: Subsetting Seaweed Data (0.4s)\n",
      "INFO:arena.controller:HJBSeaweed2DPlanner: Planning over forecast data\n",
      "INFO:arena.controller:HJPlannerBase: Running backward\n",
      "100%|##########| 2591999.0000/2591999.0 [00:06<00:00, 411741.01sim_s/s]\n",
      "INFO:arena.controller:HJPlannerBase: hj.solve finished (18.0s)\n",
      "INFO:arena.controller:HJPlannerBase: Re-planning finished (160.6s)\n",
      "INFO:arena.platform:Platform: Set Dynamics F_x_next Function (0.1s)\n",
      "INFO:arena.platform:Platform: Update Casadi + Dynamics (1.2s)\n",
      "INFO:arena.platform:Platform: Set Dynamics F_x_next Function (0.1s)\n",
      "INFO:arena.platform:Platform: Update Casadi + Dynamics (1.2s)\n",
      "INFO:arena.platform:Platform: Set Dynamics F_x_next Function (0.1s)\n",
      "INFO:arena.platform:Platform: Update Casadi + Dynamics (1.2s)\n",
      "INFO:arena.platform:Platform: Set Dynamics F_x_next Function (0.1s)\n",
      "INFO:arena.platform:Platform: Update Casadi + Dynamics (1.2s)\n",
      "INFO:arena.platform:Platform: Set Dynamics F_x_next Function (0.1s)\n",
      "INFO:arena.platform:Platform: Update Casadi + Dynamics (1.1s)\n",
      "INFO:arena.seaweed_field.seaweed_growth_source:AnalyticalSource: get Data over Area finished (0.2s)\n"
     ]
    },
    {
     "data": {
      "text/html": [
       "Waiting for W&B process to finish... <strong style=\"color:green\">(success).</strong>"
      ],
      "text/plain": [
       "<IPython.core.display.HTML object>"
      ]
     },
     "metadata": {},
     "output_type": "display_data"
    },
    {
     "data": {
      "application/vnd.jupyter.widget-view+json": {
       "model_id": "1512798c21d5445aa479c8a849cd5c05",
       "version_major": 2,
       "version_minor": 0
      },
      "text/plain": [
       "VBox(children=(Label(value='1.106 MB of 1.131 MB uploaded (0.000 MB deduped)\\r'), FloatProgress(value=0.977897…"
      ]
     },
     "metadata": {},
     "output_type": "display_data"
    },
    {
     "data": {
      "text/html": [
       "<style>\n",
       "    table.wandb td:nth-child(1) { padding: 0 10px; text-align: left ; width: auto;} td:nth-child(2) {text-align: left ; width: 100%}\n",
       "    .wandb-row { display: flex; flex-direction: row; flex-wrap: wrap; justify-content: flex-start; width: 100% }\n",
       "    .wandb-col { display: flex; flex-direction: column; flex-basis: 100%; flex: 1; padding: 10px; }\n",
       "    </style>\n",
       "<div class=\"wandb-row\"><div class=\"wandb-col\"><h3>Run summary:</h3><br/><table class=\"wandb\"><tr><td>seaweed_mass_average</td><td>262.54916</td></tr><tr><td>seaweed_mass_end</td><td>548.57476</td></tr><tr><td>seaweed_mass_start</td><td>100.0</td></tr><tr><td>termination_reason</td><td>Timeout</td></tr></table><br/></div></div>"
      ],
      "text/plain": [
       "<IPython.core.display.HTML object>"
      ]
     },
     "metadata": {},
     "output_type": "display_data"
    },
    {
     "data": {
      "text/html": [
       "Synced <strong style=\"color:#cdcd00\">HJ_HC_days_29.999988425925928_u_0.5_deg_10_res_0.0833_id_umax_0.5_30d_HC_copernicus_mission_nr_507_SeaweedHJController_deg_10_acc_low_bc_1_NoObserver</strong>: <a href=\"https://wandb.ai/matthiaskiller/Long%20Horizon%20Seaweed%20Maximization/runs/umax_0.5_30d_HC_copernicus_mission_nr_507_SeaweedHJController_deg_10_acc_low_bc_1_NoObserver\" target=\"_blank\">https://wandb.ai/matthiaskiller/Long%20Horizon%20Seaweed%20Maximization/runs/umax_0.5_30d_HC_copernicus_mission_nr_507_SeaweedHJController_deg_10_acc_low_bc_1_NoObserver</a><br/>Synced 6 W&B file(s), 3 media file(s), 1 artifact file(s) and 0 other file(s)"
      ],
      "text/plain": [
       "<IPython.core.display.HTML object>"
      ]
     },
     "metadata": {},
     "output_type": "display_data"
    },
    {
     "data": {
      "text/html": [
       "Find logs at: <code>./wandb/run-20230320_170640-umax_0.5_30d_HC_copernicus_mission_nr_507_SeaweedHJController_deg_10_acc_low_bc_1_NoObserver/logs</code>"
      ],
      "text/plain": [
       "<IPython.core.display.HTML object>"
      ]
     },
     "metadata": {},
     "output_type": "display_data"
    },
    {
     "data": {
      "text/plain": [
       "c3.OceanSimRun(\n",
       " id='umax_0.5_30d_HC_copernicus_mission_nr_507_SeaweedHJController_deg_10_acc_low_bc_1_NoObserver',\n",
       " version=25)"
      ]
     },
     "execution_count": 44,
     "metadata": {},
     "output_type": "execute_result"
    },
    {
     "data": {
      "image/png": "[encoded data removed]",
      "text/plain": [
       "<Figure size 600x600 with 2 Axes>"
      ]
     },
     "metadata": {},
     "output_type": "display_data"
    },
    {
     "data": {
      "image/png": "[encoded data removed]",
      "text/plain": [
       "<Figure size 600x600 with 2 Axes>"
      ]
     },
     "metadata": {},
     "output_type": "display_data"
    }
   ],
   "source": [
    "\n",
    "import contextlib\n",
    "import shutil\n",
    "import time\n",
    "import wandb\n",
    "from ocean_navigation_simulator.utils.misc import get_c3, set_arena_loggers\n",
    "set_arena_loggers(logging.INFO)\n",
    "\n",
    "wandb.join()\n",
    "wandb.finish()\n",
    "\n",
    "\n",
    "\n",
    "@contextlib.contextmanager\n",
    "def dummy_context_mgr():\n",
    "    yield None\n",
    "\n",
    "try:\n",
    "    # ensure we have all necessary data to run\n",
    "    this = this.get(\n",
    "        \"mission.missionConfig, mission.experiment.timeout_in_sec,\"\n",
    "        + \"mission.experiment.arenaConfig, mission.experiment.objectiveConfig,\"\n",
    "        + \"controllerSetting.ctrlConfig, observerSetting.observerConfig\"\n",
    "    )\n",
    "\n",
    "    # # Step 0: check if mission is ready_to_run before running\n",
    "    # if this.mission.get(\"status\").status != 'ready_to_run':\n",
    "    #     oceanSimResult = c3.OceanSimResult(**{\n",
    "    #         'error_message': 'Mission status is not ready_to_run, run feasibility check first or manually set status.',\n",
    "    #     })\n",
    "    #     new_osr = c3.OceanSimRun(**{'id': this.id, 'status': 'run_failed', 'oceanSimResult': oceanSimResult})\n",
    "    #     new_osr.merge()\n",
    "    #     return new_osr\n",
    "\n",
    "    # update the entry while it's running\n",
    "    new_osr = c3.OceanSimRun(**{\"id\": this.id, \"status\": \"running_sim\"})\n",
    "    new_osr.merge()\n",
    "\n",
    "    # set download directories (ignore set ones in arenaConfig)\n",
    "    arenaConfig = this.mission.experiment.arenaConfig\n",
    "\n",
    "    ### Prepare data for WandB\n",
    "    ctrlConfig = this.controllerSetting.ctrlConfig\n",
    "    missionConfig = this.mission.missionConfig\n",
    "    observerConfig = this.observerSetting.observerConfig\n",
    "\n",
    "    # Prepare variables for run naming\n",
    "\n",
    "    # Planning horizon in days\n",
    "    T_in_days = ctrlConfig[\"T_goal_in_seconds\"] / (24 * 3600)\n",
    "\n",
    "    # Prepare string whether we use only HC or FC/HC\n",
    "    if arenaConfig[\"ocean_dict\"][\"forecast\"] is not None:\n",
    "        data_sources = \"FC_HC\"\n",
    "    else:\n",
    "        data_sources = \"HC\"\n",
    "\n",
    "    if (\n",
    "        ctrlConfig[\"ctrl_name\"]\n",
    "        == \"ocean_navigation_simulator.controllers.hj_planners.HJBSeaweed2DPlanner.HJBSeaweed2DPlanner\"\n",
    "    ):\n",
    "        ctrl_name = \"HJ\"\n",
    "    else:\n",
    "        ctrl_name = \"undefined\"\n",
    "\n",
    "    umax = arenaConfig[\"platform_dict\"][\"u_max_in_mps\"]\n",
    "    deg_around_xt_xT_box = ctrlConfig[\"deg_around_xt_xT_box\"]\n",
    "    grid_res = ctrlConfig[\"grid_res\"]\n",
    "\n",
    "    # if not ctrlConfig.get(\"precomputation\", False):\n",
    "    # Log metrics in WandB\n",
    "    os.environ[\"WANDB_API_KEY\"] = \"4c142c345dfc64f3c73aa1b2834989c7eb91efbe\"\n",
    "\n",
    "    # Randomly delay some runs in order stay within wandb request limits (200 per minute)\n",
    "    # Generate a random delay - default 0\n",
    "    delay = random.randint(0, ctrlConfig.get(\"wandb_delay\", 0))\n",
    "    # Pause the execution of code for the generated random delay value\n",
    "    time.sleep(delay)\n",
    "\n",
    "    wandb.init(\n",
    "        # Set the project where this run will be logged\n",
    "        project=\"Long Horizon Seaweed Maximization\",\n",
    "        entity=\"matthiaskiller\",\n",
    "        id=this.id,\n",
    "        # We pass a run name (otherwise it’ll be randomly assigned, like sunshine-lollypop-10)\n",
    "        name=f\"{ctrl_name}_{data_sources}_days_{T_in_days}_u_{umax}_deg_{deg_around_xt_xT_box}_res_{grid_res}_id_{this.id}\",\n",
    "        # Track hyperparameters and run metadata\n",
    "        config={\n",
    "            \"missionConfig\": missionConfig,\n",
    "            \"arenaConfig\": arenaConfig,\n",
    "            \"ctrlConfig\": ctrlConfig,\n",
    "            \"observerConfig\": observerConfig,\n",
    "            \"mission.id\": this.mission.id,\n",
    "            \"experiment.id\": this.mission.experiment.id,\n",
    "            # \"path_to_local_data\": user_param[\"metrics_dir\"],\n",
    "        },\n",
    "        settings=wandb.Settings(start_method=\"fork\"),\n",
    "    )\n",
    "\n",
    "    # create strings for all files and external directories where to save results\n",
    "    # Set up file paths and download folders\n",
    "    temp_folder = \"temp/debug/\"\n",
    "    # create the folder if it doesn't exist yet\n",
    "    if not os.path.isdir(temp_folder):\n",
    "        os.mkdir(temp_folder)\n",
    "    traj_file_name = this.id + \".obj\"\n",
    "    extDir = (\n",
    "        \"ocean_sim_run_results/\"\n",
    "        + this.mission.experiment.id\n",
    "        + \"/OceanSimRuns/\"\n",
    "        + this.id\n",
    "    )\n",
    "\n",
    "    # Get and set the correct path to the nutrient and monthly average files (for c3) - !! CONFIG gets overwritten!!\n",
    "    filepath = ocean_navigation_simulator.__file__\n",
    "    module_path = os.path.dirname(filepath)\n",
    "    nutrient_path = module_path + \"/package_data/nutrients/\"\n",
    "    seaweed_maps_path = module_path + \"/package_data/seaweed_growth_maps/\"\n",
    "    averages_path = module_path + \"/package_data/monthly_averages/\"\n",
    "\n",
    "    ctrlConfig[\"seaweed_precomputation_folder\"] = seaweed_maps_path\n",
    "\n",
    "    arenaConfig[\"seaweed_dict\"][\"hindcast\"][\"source_settings\"][\n",
    "        \"filepath\"\n",
    "    ] = nutrient_path\n",
    "\n",
    "    arenaConfig[\"timeout\"] = this.mission.experiment.timeout_in_sec\n",
    "    to_download_forecast_files = False\n",
    "\n",
    "    # for hindcast\n",
    "    arenaConfig[\"ocean_dict\"][\"hindcast\"][\"source_settings\"][\"folder\"] = (\n",
    "        \"temp/debug/hindcast_files/\"\n",
    "    )\n",
    "    # For forecast\n",
    "    if arenaConfig[\"ocean_dict\"][\"forecast\"] is not None:\n",
    "        arenaConfig[\"ocean_dict\"][\"forecast\"][\"source_settings\"][\"folder\"] = (\n",
    "            \"temp/debug/forecast_files/\"\n",
    "        )\n",
    "        to_download_forecast_files = (\n",
    "            arenaConfig[\"ocean_dict\"][\"forecast\"][\"source\"] == \"forecast_files\"\n",
    "            or arenaConfig[\"ocean_dict\"][\"forecast\"][\"source\"]\n",
    "            == \"hindcast_as_forecast_files\"\n",
    "        )\n",
    "\n",
    "    # For average\n",
    "    if arenaConfig[\"ocean_dict\"].get(\"average\", None) is not None:\n",
    "        arenaConfig[\"ocean_dict\"][\"average\"][\"source_settings\"][\n",
    "            \"folder\"\n",
    "        ] = averages_path\n",
    "\n",
    "    # prepping the file download\n",
    "    point_to_check = SpatioTemporalPoint.from_dict(\n",
    "        this.mission.missionConfig[\"x_0\"][0]\n",
    "    )\n",
    "    t_interval = [\n",
    "        point_to_check.date_time,\n",
    "        point_to_check.date_time\n",
    "        + datetime.timedelta(\n",
    "            seconds=this.mission.experiment.timeout_in_sec\n",
    "            + arenaConfig[\"casadi_cache_dict\"][\"time_around_x_t\"]\n",
    "            + 7200\n",
    "        ),\n",
    "    ]\n",
    "\n",
    "    arena, controller = None, None\n",
    "\n",
    "    if (\n",
    "        arenaConfig[\"ocean_dict\"][\"forecast\"] is not None\n",
    "        and arenaConfig[\"ocean_dict\"][\"forecast\"][\"source\"]\n",
    "        == \"hindcast_as_forecast_files\"\n",
    "    ):\n",
    "        t_interval_adapted = [\n",
    "            t_interval[0] - datetime.timedelta(days=2),\n",
    "            t_interval[1]\n",
    "            + datetime.timedelta(\n",
    "                days=arenaConfig[\"ocean_dict\"][\"forecast\"].get(\n",
    "                    \"forecast_length_in_days\", 5\n",
    "                )\n",
    "            ),\n",
    "        ]\n",
    "    else:\n",
    "        t_interval_adapted = t_interval\n",
    "\n",
    "    with (\n",
    "        ArenaFactory.download_files(\n",
    "            config=arenaConfig,\n",
    "            type=\"hindcast\",\n",
    "            t_interval=t_interval,\n",
    "            c3=c3,\n",
    "            points=[point_to_check.to_spatial_point()],\n",
    "            keep_newest_days=arenaConfig[\"ocean_dict\"][\"keep_newest_days\"],\n",
    "        ) as download_hindcast_files_to_local,\n",
    "        ArenaFactory.download_files(\n",
    "            config=arenaConfig,\n",
    "            type=\"forecast\",\n",
    "            t_interval=t_interval_adapted,\n",
    "            c3=c3,\n",
    "            points=[point_to_check.to_spatial_point()],\n",
    "            keep_newest_days=arenaConfig[\"ocean_dict\"][\"keep_newest_days\"],\n",
    "        )\n",
    "        if to_download_forecast_files\n",
    "        else dummy_context_mgr() as download_forecast_files_to_local,\n",
    "    ):\n",
    "        # Step 0: Create Constructor object which contains arena, problem, controller and observer\n",
    "        constructor = Constructor(\n",
    "            arena_conf=arenaConfig,\n",
    "            mission_conf=this.mission.missionConfig,\n",
    "            objective_conf=this.mission.experiment.objectiveConfig,\n",
    "            ctrl_conf=this.controllerSetting.ctrlConfig,\n",
    "            observer_conf=this.observerSetting.observerConfig,\n",
    "            c3=c3,\n",
    "        )\n",
    "\n",
    "        # Step 1.1 Retrieve problem\n",
    "        problem = constructor.problem\n",
    "\n",
    "        # Step 1.2: Retrieve arena\n",
    "        arena = constructor.arena\n",
    "        observation = arena.reset(platform_state=problem.start_state)\n",
    "        problem_status = arena.problem_status(problem=problem)\n",
    "\n",
    "        # Step 2: Retrieve Controller\n",
    "        controller = constructor.controller\n",
    "\n",
    "        # Step 3: Retrieve observer\n",
    "        observer = constructor.observer\n",
    "        observer.observe(observation)\n",
    "        observation.forecast_data_source = observer\n",
    "\n",
    "        # Step 4: Run Arena\n",
    "        while problem_status == 0:\n",
    "            # Get action\n",
    "            action = controller.get_action(observation=observation)\n",
    "\n",
    "            # execute action\n",
    "            observation = arena.step(action)\n",
    "\n",
    "            # Observer data assimilation\n",
    "            observer.observe(observation)\n",
    "            observation.forecast_data_source = observer\n",
    "\n",
    "            # update problem status\n",
    "            problem_status = arena.problem_status(problem=problem)\n",
    "\n",
    "        new_osr.status = \"finished_running\"\n",
    "        new_osr.terminationReason = arena.problem_status_text(problem_status)\n",
    "        if arena.problem_status_text(problem_status) == \"Success\":\n",
    "            new_osr.T_arrival_time = (\n",
    "                arena.state_trajectory[-1, 2] - arena.state_trajectory[0, 2]\n",
    "            ) / 3600\n",
    "        logged_error_message = None\n",
    "\n",
    "    # if not ctrlConfig.get(\"precomputation\", False):\n",
    "\n",
    "    # Step 4: create the OceanSimResult object with the files and upload it\n",
    "    if arena is not None:\n",
    "        # Create a large dict with all trajectory data\n",
    "        trajs_dict = {\n",
    "            \"sim_traj\": arena.state_trajectory,\n",
    "            \"sim_ctrl\": arena.action_trajectory,\n",
    "        }\n",
    "        if controller is not None:\n",
    "            if len(controller.planned_trajs) > 0:\n",
    "                trajs_dict[\"plans\"] = controller.planned_trajs\n",
    "\n",
    "        with open(temp_folder + traj_file_name, \"wb\") as traj_file:\n",
    "            pickle.dump(trajs_dict, traj_file)\n",
    "\n",
    "        # value_fct_file_name = this.id + \"_value_fct.obj\"\n",
    "        # reach_times_file_name = this.id + \"_reach_times.obj\"\n",
    "\n",
    "        # with open(temp_folder + value_fct_file_name, \"wb\") as value_fct_file:\n",
    "        #     pickle.dump(np.array(constructor.controller.all_values), value_fct_file)\n",
    "\n",
    "        # with open(temp_folder + reach_times_file_name, \"wb\") as reach_times_file:\n",
    "        #     pickle.dump(\n",
    "        #         np.array(constructor.controller.reach_times), reach_times_file\n",
    "        #     )\n",
    "\n",
    "        # Step 4.3 upload the traj_file_name together with the log_file_name to blob storage\n",
    "        # upload log file\n",
    "        new_osr.oceanSimResult = c3.OceanSimResult()\n",
    "        # if os.path.exists(temp_folder + log_file_name):\n",
    "        #     c3.Client.uploadLocalClientFiles(\n",
    "        #         temp_folder + log_file_name,\n",
    "        #         extDir + \"/logs\",\n",
    "        #         {\"peekForMetadata\": True},\n",
    "        #     )\n",
    "        #     log_file = c3.File(\n",
    "        #         **{\"url\": extDir + \"/logs/\" + log_file_name}\n",
    "        #     ).readMetadata()\n",
    "        #     new_osr.oceanSimResult.log_file = log_file\n",
    "        #     os.remove(temp_folder + log_file_name)\n",
    "\n",
    "        if os.path.exists(temp_folder + traj_file_name):\n",
    "            # upload traj file\n",
    "            c3.Client.uploadLocalClientFiles(\n",
    "                temp_folder + traj_file_name,\n",
    "                extDir + \"/trajs\",\n",
    "                {\"peekForMetadata\": True},\n",
    "            )\n",
    "            trajs_file = c3.File(\n",
    "                **{\"url\": extDir + \"/trajs/\" + traj_file_name}\n",
    "            ).readMetadata()\n",
    "            new_osr.oceanSimResult.trajectories = trajs_file\n",
    "            os.remove(temp_folder + traj_file_name)\n",
    "\n",
    "        # log shortest distance to target\n",
    "        if this.mission.experiment.objectiveConfig[\"type\"] == \"nav\":\n",
    "            new_osr.minDistanceToTarget = arena.final_distance_to_target(\n",
    "                problem=problem\n",
    "            )\n",
    "\n",
    "    wandb.summary[\"seaweed_mass_start\"] = arena.state_trajectory[0, 4]\n",
    "    wandb.summary[\"seaweed_mass_end\"] = arena.state_trajectory[-1, 4]\n",
    "    wandb.summary[\"seaweed_mass_average\"] = np.mean(\n",
    "        arena.state_trajectory[:, 4], axis=0\n",
    "    )\n",
    "    wandb.summary[\"termination_reason\"] = arena.problem_status_text(problem_status)\n",
    "\n",
    "    # Log state_trajectory as table/dataframe\n",
    "    wandb.log(\n",
    "        {\"data_to_plot\": wandb.Table(dataframe=arena.get_plot_data_for_wandb())},\n",
    "        commit=False,\n",
    "    )\n",
    "\n",
    "    # log trajectory plot on seaweed as .jpg and .svg\n",
    "    ax = arena.plot_all_on_map(\n",
    "        problem=problem, background=\"seaweed\", return_ax=True\n",
    "    )\n",
    "    fig = ax.get_figure()\n",
    "    fig = plt.figure(fig)\n",
    "\n",
    "    plt.savefig(temp_folder + \"seaweed_trajectory_on_map.svg\")\n",
    "    plt.savefig(temp_folder + \"seaweed_trajectory_on_map.jpg\", dpi=80)\n",
    "\n",
    "    # log trajectory plot on currents as .jpg and .svg\n",
    "    ax = arena.plot_all_on_map(\n",
    "        problem=problem, background=\"current\", return_ax=True\n",
    "    )\n",
    "    fig = ax.get_figure()\n",
    "    fig = plt.figure(fig)\n",
    "\n",
    "    plt.savefig(temp_folder + \"current_trajectory_on_map.svg\")\n",
    "    plt.savefig(temp_folder + \"current_trajectory_on_map.jpg\", dpi=80)\n",
    "\n",
    "    image_seaweed = wandb.Image(\n",
    "        temp_folder + \"seaweed_trajectory_on_map.jpg\",\n",
    "        caption=\"Seaweed trajectory on map\",\n",
    "    )\n",
    "\n",
    "    image_currents = wandb.Image(\n",
    "        temp_folder + \"current_trajectory_on_map.jpg\",\n",
    "        caption=\"Current trajectory on map\",\n",
    "    )\n",
    "\n",
    "    wandb.log({\"Seaweed trajectory on map\": image_seaweed}, commit=False)\n",
    "    wandb.log({\"Current trajectory on map\": image_currents}, commit=True)\n",
    "\n",
    "    # # log trajectory animations\n",
    "    # arena.animate_trajectory(\n",
    "    #     margin=0.25,\n",
    "    #     problem=problem,\n",
    "    #     temporal_resolution=14400,\n",
    "    #     background=\"current\",\n",
    "    #     output=f\"{temp_folder}platform_trajectories_currents.gif\",\n",
    "    #     fps=6,\n",
    "    # )\n",
    "    # arena.animate_trajectory(\n",
    "    #     margin=0.25,\n",
    "    #     problem=problem,\n",
    "    #     temporal_resolution=14400,\n",
    "    #     background=\"seaweed\",\n",
    "    #     output=f\"{temp_folder}platform_trajectories_seaweed.gif\",\n",
    "    #     fps=6,\n",
    "    # )\n",
    "\n",
    "    # ### Save files to c3 and add link to WandB\n",
    "    # traj_seaweed_plot_file_name = \"seaweed_trajectory_on_map.svg\"\n",
    "    # traj_currents_plot_file_name = \"current_trajectory_on_map.svg\"\n",
    "    # traj_seaweed_animation_file_name = \"platform_trajectories_seaweed.gif\"\n",
    "    # traj_currents_animation_file_name = \"platform_trajectories_currents.gif\"\n",
    "\n",
    "    # Save files on c3/ Azure blob storage\n",
    "    # c3.Client.uploadLocalClientFiles(\n",
    "    #     temp_folder + value_fct_file_name,\n",
    "    #     extDir + \"/logs\",\n",
    "    #     {\"peekForMetadata\": True},\n",
    "    # )\n",
    "    # value_fct_file = c3.File(\n",
    "    #     **{\"url\": extDir + \"/logs/\" + value_fct_file_name}\n",
    "    # ).readMetadata()\n",
    "    # new_osr.oceanSimResult.value_fct_file = value_fct_file\n",
    "    # os.remove(temp_folder + value_fct_file_name)\n",
    "\n",
    "    # c3.Client.uploadLocalClientFiles(\n",
    "    #     temp_folder + reach_times_file_name,\n",
    "    #     extDir + \"/logs\",\n",
    "    #     {\"peekForMetadata\": True},\n",
    "    # )\n",
    "    # reach_times_file = c3.File(\n",
    "    #     **{\"url\": extDir + \"/logs/\" + reach_times_file_name}\n",
    "    # ).readMetadata()\n",
    "    # new_osr.oceanSimResult.reach_times_file = reach_times_file\n",
    "    # os.remove(temp_folder + reach_times_file_name)\n",
    "\n",
    "    # c3.Client.uploadLocalClientFiles(\n",
    "    #     temp_folder + traj_seaweed_plot_file_name,\n",
    "    #     extDir + \"/logs\",\n",
    "    #     {\"peekForMetadata\": True},\n",
    "    # )\n",
    "    # traj_seaweed_plot_file = c3.File(\n",
    "    #     **{\"url\": extDir + \"/logs/\" + traj_seaweed_plot_file_name}\n",
    "    # ).readMetadata()\n",
    "    # new_osr.oceanSimResult.traj_seaweed_plot_file = traj_seaweed_plot_file\n",
    "    # os.remove(temp_folder + traj_seaweed_plot_file_name)\n",
    "\n",
    "    # c3.Client.uploadLocalClientFiles(\n",
    "    #     temp_folder + traj_currents_plot_file_name,\n",
    "    #     extDir + \"/logs\",\n",
    "    #     {\"peekForMetadata\": True},\n",
    "    # )\n",
    "    # traj_currents_plot_file = c3.File(\n",
    "    #     **{\"url\": extDir + \"/logs/\" + traj_currents_plot_file_name}\n",
    "    # ).readMetadata()\n",
    "    # new_osr.oceanSimResult.traj_currents_plot_file = traj_currents_plot_file\n",
    "    # os.remove(temp_folder + traj_currents_plot_file_name)\n",
    "\n",
    "    # c3.Client.uploadLocalClientFiles(\n",
    "    #     temp_folder + traj_currents_animation_file_name,\n",
    "    #     extDir + \"/logs\",\n",
    "    #     {\"peekForMetadata\": True},\n",
    "    # )\n",
    "    # traj_currents_animation_file = c3.File(\n",
    "    #     **{\"url\": extDir + \"/logs/\" + traj_currents_animation_file_name}\n",
    "    # ).readMetadata()\n",
    "    # new_osr.oceanSimResult.traj_currents_animation_file = (\n",
    "    #     traj_currents_animation_file\n",
    "    # )\n",
    "    # os.remove(temp_folder + traj_currents_animation_file_name)\n",
    "\n",
    "    # c3.Client.uploadLocalClientFiles(\n",
    "    #     temp_folder + traj_seaweed_animation_file_name,\n",
    "    #     extDir + \"/logs\",\n",
    "    #     {\"peekForMetadata\": True},\n",
    "    # )\n",
    "    # traj_seaweed_animation_file = c3.File(\n",
    "    #     **{\"url\": extDir + \"/logs/\" + traj_seaweed_animation_file_name}\n",
    "    # ).readMetadata()\n",
    "    # new_osr.oceanSimResult.traj_seaweed_animation_file = traj_seaweed_animation_file\n",
    "    # os.remove(temp_folder + traj_seaweed_animation_file_name)\n",
    "\n",
    "    # Log file urls (links to azure) to wandb summary\n",
    "    # wandb.summary[\"value_fct_array\"] = value_fct_file.generatePresignedUrl(\n",
    "    #     \"GET\", \"600d\"\n",
    "    # )\n",
    "\n",
    "    # wandb.summary[\"reach_times_array\"] = reach_times_file.generatePresignedUrl(\n",
    "    #     \"GET\", \"600d\"\n",
    "    # )\n",
    "\n",
    "    # wandb.summary[\n",
    "    #     \"traj_seaweed_plot_svg\"\n",
    "    # ] = traj_seaweed_plot_file.generatePresignedUrl(\"GET\", \"600d\")\n",
    "    # wandb.summary[\n",
    "    #     \"traj_current_plot_svg\"\n",
    "    # ] = traj_currents_plot_file.generatePresignedUrl(\"GET\", \"600d\")\n",
    "    # wandb.summary[\n",
    "    #     \"traj_currents_animation\"\n",
    "    # ] = traj_currents_animation_file.generatePresignedUrl(\"GET\", \"600d\")\n",
    "    # wandb.summary[\n",
    "    #     \"traj_seaweed_animation\"\n",
    "    # ] = traj_seaweed_animation_file.generatePresignedUrl(\"GET\", \"600d\")\n",
    "\n",
    "    # if os.path.exists(temp_folder + log_file_name):\n",
    "    #     wandb.summary[\"log_file\"] = log_file.generatePresignedUrl(\"GET\", \"600d\")\n",
    "\n",
    "    wandb.finish()\n",
    "\n",
    "\n",
    "\n",
    "except BaseException as e:\n",
    "    # if we crash we should upload that to the table for debugging\n",
    "    print(\"Error Message: \", e)\n",
    "    new_osr.terminationReason = \"run_failed\"\n",
    "    new_osr.status = \"run_failed\"\n",
    "    logged_error_message = e\n",
    "    if wandb.run is not None:\n",
    "        wandb.summary[\"caught_error\"] = True\n",
    "        #wandb.summary[\"caught_error_message\"] = e\n",
    "        wandb.finish()\n",
    "\n",
    "    raise e\n",
    "\n",
    "if new_osr.oceanSimResult is None:\n",
    "    new_osr.oceanSimResult = c3.OceanSimResult(\n",
    "        **{\"error_message\": logged_error_message}\n",
    "    )\n",
    "else:\n",
    "    new_osr.oceanSimResult.error_message = logged_error_message\n",
    "\n",
    "new_osr.merge()\n",
    "# try:\n",
    "#     shutil.rmtree(temp_folder)\n",
    "# except BaseException as e:\n",
    "#     print(e)\n",
    "    \n",
    "#return new_osr.oceanSimResult\n",
    "\n"
   ]
  },
  {
   "cell_type": "code",
   "execution_count": 21,
   "id": "136b1ee0",
   "metadata": {},
   "outputs": [],
   "source": [
    "#runSimMatthias(this)"
   ]
  },
  {
   "cell_type": "code",
   "execution_count": 45,
   "id": "bf97dc64",
   "metadata": {},
   "outputs": [],
   "source": [
    "controller.animate_value_func_3D()"
   ]
  },
  {
   "cell_type": "code",
   "execution_count": null,
   "id": "f0875c3f",
   "metadata": {},
   "outputs": [
    {
     "data": {
      "text/plain": [
       "-2.5707192420959473"
      ]
     },
     "execution_count": 79,
     "metadata": {},
     "output_type": "execute_result"
    }
   ],
   "source": [
    "float(float(np.min(constructor.controller.all_values)))"
   ]
  },
  {
   "cell_type": "code",
   "execution_count": null,
   "id": "0d074236",
   "metadata": {},
   "outputs": [],
   "source": [
    "save_values = controller.all_values\n",
    "save_rt = controller.reach_times"
   ]
  },
  {
   "cell_type": "code",
   "execution_count": null,
   "id": "d10f64e4",
   "metadata": {},
   "outputs": [],
   "source": [
    "controller.all_values = controller.all_values[:360]\n",
    "controller.reach_times =controller.reach_times[:360]"
   ]
  },
  {
   "cell_type": "code",
   "execution_count": null,
   "id": "c0b2a397",
   "metadata": {},
   "outputs": [],
   "source": [
    "controller.all_values = save_values[360:]\n",
    "controller.reach_times =save_values[360:]"
   ]
  },
  {
   "cell_type": "markdown",
   "id": "34637d4c",
   "metadata": {},
   "source": [
    "# Run Simulation"
   ]
  },
  {
   "cell_type": "code",
   "execution_count": null,
   "id": "d0b2721b",
   "metadata": {
    "ExecuteTime": {
     "end_time": "2023-01-30T09:18:00.968396Z",
     "start_time": "2023-01-30T09:18:00.966026Z"
    }
   },
   "outputs": [],
   "source": [
    "# Create the Experiment Batch Job Options\n",
    "options = c3.OceanSimRunBatchJobOptions(**{\n",
    "    'experiment': exp,\n",
    "    'actionRuntime': 'matthias', # enum('marius', 'andreas', 'matthias', 'nicolas')\n",
    "    'limit': -1, \n",
    "    'hardwareProfileId': 'appc72m660-w', #\"appc8m642-w\" #\"appc72m660-w\"\n",
    "    #'filterOnOceanSimRuns': 'status ==\"staged_to_run\"'\n",
    "})"
   ]
  },
  {
   "cell_type": "code",
   "execution_count": null,
   "id": "36bd7b86",
   "metadata": {
    "ExecuteTime": {
     "end_time": "2023-01-30T09:18:01.377809Z",
     "start_time": "2023-01-30T09:18:01.185920Z"
    }
   },
   "outputs": [
    {
     "data": {
      "text/plain": [
       "c3.OceanSimRunBatchJob(\n",
       " typeIdent='BATCHJ:O_OSRun',\n",
       " id='dc9fd858-ec1f-4f62-ba69-da01229d7ada',\n",
       " meta=c3.Meta(\n",
       "        created=datetime.datetime(2023, 2, 9, 4, 3, 42, tzinfo=datetime.timezone.utc),\n",
       "        updated=datetime.datetime(2023, 2, 9, 4, 3, 42, tzinfo=datetime.timezone.utc),\n",
       "        timestamp=datetime.datetime(2023, 2, 9, 4, 3, 42, tzinfo=datetime.timezone.utc)),\n",
       " version=1)"
      ]
     },
     "execution_count": 253,
     "metadata": {},
     "output_type": "execute_result"
    }
   ],
   "source": [
    "# Start the Batch Job\n",
    "run_job = c3.OceanSimRunBatchJob(**{'options': options.toJson()}).upsert()\n",
    "run_job.setMaxConcurrencyPerNode(10)\n",
    "#run_job.numAutoRecoveryAttempts = 1\n",
    "run_job.start()\n",
    "run_job"
   ]
  },
  {
   "cell_type": "code",
   "execution_count": null,
   "id": "9e9e68bf",
   "metadata": {
    "ExecuteTime": {
     "end_time": "2023-01-30T09:38:13.094247Z",
     "start_time": "2023-01-30T09:38:13.070561Z"
    }
   },
   "outputs": [
    {
     "data": {
      "text/plain": [
       "c3.BatchJobStatus(\n",
       " started=datetime.datetime(2023, 3, 20, 0, 55, 30, tzinfo=datetime.timezone.utc),\n",
       " startedby='killer@berkeley.edu',\n",
       " status='failing',\n",
       " errors=c3.Arry<JobRunErrorDetail>([c3.JobRunErrorDetail(\n",
       "           failedActionId='4518.22132041',\n",
       "           errorMsg='Error executing command: '\n",
       "                     '/usr/local/share/c3/condaEnvs/seaweed-control/devseaweedrc1/py-ocean_sim_matthias/bin/python '\n",
       "                     '/tmp/pythonActionSourceCache798500421800621188/OceanSimRun_runSimMatthias.py\\n'\n",
       "                     'Process exited with 137 exit code.\\n'\n",
       "                     'a_id=4518.22133809 a_implementation=python '\n",
       "                     't_tenant=seaweed-control t_tag=devseaweedrc1 '\n",
       "                     't_type=OceanSimRun t_action=runSimMatthias Unexpected '\n",
       "                     \"line in logs stream: '100%|##########| 36/36 \"\n",
       "                     \"[01:59<00:00,  3.31s/it]'\\n\"\n",
       "                     '\\n'\n",
       "                     '  from action OceanSimRun.runSimMatthias\\n'\n",
       "                     '  from env_server.js, line 132\\n'\n",
       "                     '    130    if (C3._context.locale)\\n'\n",
       "                     '    131      options.language = C3._context.locale;\\n'\n",
       "                     '  > 132    return c3CallAction(target, args, options);\\n'\n",
       "                     '    133  }\\n'\n",
       "                     '    134  \\n'\n",
       "                     '  from typesys.js, line 1759\\n'\n",
       "                     '    1757  \\n'\n",
       "                     '    1758          // call the server to execute this '\n",
       "                     'function as an action\\n'\n",
       "                     '  > 1759          response = c3Call(this, name, args);\\n'\n",
       "                     '    1760        }\\n'\n",
       "                     '    1761  \\n'\n",
       "                     '  from OceanSimRunBatchJob_processBatch.js, line 51\\n'\n",
       "                     '    49                      break;\\n'\n",
       "                     '    50                  case \"matthias\":\\n'\n",
       "                     '  > 51                      Run.runSimMatthias();\\n'\n",
       "                     '    52                      break;\\n'\n",
       "                     '    53                  case \"nicolas\":\\n'\n",
       "                     '  from third-party/underscore.js, line 102\\n'\n",
       "                     '    100      if (length === +length) {\\n'\n",
       "                     '    101        for (i = 0; i < length; i++) {\\n'\n",
       "                     '  > 102          iteratee(obj[i], i, obj);\\n'\n",
       "                     '    103        }\\n'\n",
       "                     '    104      } else {\\n'\n",
       "                     '  from obj.js, line 1619\\n'\n",
       "                     '    1617       */\\n'\n",
       "                     '    1618      each: function(iterator, context) {\\n'\n",
       "                     '  > 1619        _.each(this, iterator, context);\\n'\n",
       "                     '    1620        return this;\\n'\n",
       "                     '    1621      },\\n'\n",
       "                     '  from OceanSimRunBatchJob_processBatch.js, line 41\\n'\n",
       "                     '    39  function processBatch(batch, job, options) {\\n'\n",
       "                     '    40  \\n'\n",
       "                     '  > 41      batch.OCSimsToRun.forEach(\\n'\n",
       "                     '    42          function (Run) {\\n'\n",
       "                     '    43              switch (options.actionRuntime) {\\n'\n",
       "                     '  from OceanSimRunBatchJob_processBatch.js, line 68\\n'\n",
       "                     '    66  })();\\n'\n",
       "                     '    67  if (typeof '\n",
       "                     \"$OceanSimRunBatchJob$functions.processBatch == 'f...\\n\"\n",
       "                     '  > 68    function processBatch() { return '\n",
       "                     '$OceanSimRunBatchJob$func...\\n'\n",
       "                     '    69  }\\n'\n",
       "                     '    70  \\n'\n",
       "                     '  from OceanSimRunBatchJob_processBatch.js, line 78\\n'\n",
       "                     \"    76  if (typeof processBatch != 'function') throw new \"\n",
       "                     \"Error('Func...\\n\"\n",
       "                     '    77  global$.call$OceanSimRunBatchJob$processBatch = '\n",
       "                     'function(bat...\\n'\n",
       "                     '  > 78    processBatch.call(this, batch, job, options);\\n'\n",
       "                     '    79  };\\n'\n",
       "                     '    80  })(this);\\n'\n",
       "                     '  base action OceanSimRunBatchJob.processBatch',\n",
       "           errorCodes='NotClassified',\n",
       "           errorLog='c3.love.exceptions.C3RuntimeException: Error executing '\n",
       "                     'command: '\n",
       "                     '/usr/local/share/c3/condaEnvs/seaweed-control/devseaweedrc1/py-ocean_sim_matthias/bin/python '\n",
       "                     '/tmp/pythonActionSourceCache798500421800621188/OceanSimRun_runSimMatthias.py\\n'\n",
       "                     'Process exited with 137 exit code.\\n'\n",
       "                     'a_id=4518.22133809 a_implementation=python '\n",
       "                     't_tenant=seaweed-control t_tag=devseaweedrc1 '\n",
       "                     't_type=OceanSimRun t_action=runSimMatthias Unexpected '\n",
       "                     \"line in logs stream: '100%|##########| 36/36 \"\n",
       "                     \"[01:59<00:00,  3.31s/it]'\\n\"\n",
       "                     '\\n'\n",
       "                     '  from action OceanSimRun.runSimMatthias\\n'\n",
       "                     '  from env_server.js, line 132\\n'\n",
       "                     '    130    if (C3._context.locale)\\n'\n",
       "                     '    131      options.language = C3._context.locale;\\n'\n",
       "                     '  > 132    return c3CallAction(target, args, options);\\n'\n",
       "                     '    133  }\\n'\n",
       "                     '    134  \\n'\n",
       "                     '  from typesys.js, line 1759\\n'\n",
       "                     '    1757  \\n'\n",
       "                     '    1758          // call the server to execute this '\n",
       "                     'function as an action\\n'\n",
       "                     '  > 1759          response = c3Call(this, name, args);\\n'\n",
       "                     '    1760        }\\n'\n",
       "                     '    1761  \\n'\n",
       "                     '  from OceanSimRunBatchJob_processBatch.js, line 51\\n'\n",
       "                     '    49                      break;\\n'\n",
       "                     '    50                  case \"matthias\":\\n'\n",
       "                     '  > 51                      Run.runSimMatthias();\\n'\n",
       "                     '    52                      break;\\n'\n",
       "                     '    53                  case \"nicolas\":\\n'\n",
       "                     '  from third-party/underscore.js, line 102\\n'\n",
       "                     '    100      if (length === +length) {\\n'\n",
       "                     '    101        for (i = 0; i < length; i++) {\\n'\n",
       "                     '  > 102          iteratee(obj[i], i, obj);\\n'\n",
       "                     '    103        }\\n'\n",
       "                     '    104      } else {\\n'\n",
       "                     '  from obj.js, line 1619\\n'\n",
       "                     '    1617       */\\n'\n",
       "                     '    1618      each: function(iterator, context) {\\n'\n",
       "                     '  > 1619        _.each(this, iterator, context);\\n'\n",
       "                     '    1620        return this;\\n'\n",
       "                     '    1621      },\\n'\n",
       "                     '  from OceanSimRunBatchJob_processBatch.js, line 41\\n'\n",
       "                     '    39  function processBatch(batch, job, options) {\\n'\n",
       "                     '    40  \\n'\n",
       "                     '  > 41      batch.OCSimsToRun.forEach(\\n'\n",
       "                     '    42          function (Run) {\\n'\n",
       "                     '    43              switch (options.actionRuntime) {\\n'\n",
       "                     '  from OceanSimRunBatchJob_processBatch.js, line 68\\n'\n",
       "                     '    66  })();\\n'\n",
       "                     '    67  if (typeof '\n",
       "                     \"$OceanSimRunBatchJob$functions.processBatch == 'f...\\n\"\n",
       "                     '  > 68    function processBatch() { return '\n",
       "                     '$OceanSimRunBatchJob$func...\\n'\n",
       "                     '    69  }\\n'\n",
       "                     '    70  \\n'\n",
       "                     '  from OceanSimRunBatchJob_processBatch.js, line 78\\n'\n",
       "                     \"    76  if (typeof processBatch != 'function') throw new \"\n",
       "                     \"Error('Func...\\n\"\n",
       "                     '    77  global$.call$OceanSimRunBatchJob$processBatch = '\n",
       "                     'function(bat...\\n'\n",
       "                     '  > 78    processBatch.call(this, batch, job, options);\\n'\n",
       "                     '    79  };\\n'\n",
       "                     '    80  })(this);\\n'\n",
       "                     '  base action OceanSimRunBatchJob.processBatch\\n'\n",
       "                     '\\tat c3.love.util.OsUtil.err2(OsUtil.java:917)\\n'\n",
       "                     '\\tat '\n",
       "                     'c3.love.util.OsUtil.handleErrorPair(OsUtil.java:774)\\n'\n",
       "                     '\\tat c3.love.util.OsUtil.process(OsUtil.java:717)\\n'\n",
       "                     '\\tat c3.love.util.OsUtil.process(OsUtil.java:698)\\n'\n",
       "                     '\\tat '\n",
       "                     'c3.engine.action.PythonActionEngine.runCommand(PythonActionEngine.java:379)\\n'\n",
       "                     '\\tat '\n",
       "                     'c3.engine.action.ExternalActionEngine.execute(ExternalActionEngine.java:350)\\n'\n",
       "                     '\\tat '\n",
       "                     'c3.engine.action.CondaActionEngine.execute(CondaActionEngine.java:108)\\n'\n",
       "                     '\\tat '\n",
       "                     'c3.server.deprecated.Engine.execute(Engine.java:41)\\n'\n",
       "                     '\\tat c3.server.impl.Task.doFilter(Task.java:264)\\n'\n",
       "                     '\\tat '\n",
       "                     'c3.server.impl.ServerDispatcherBase$ActionFilterChainImpl.doFilter(ServerDispatcherBase.java:197)\\n'\n",
       "                     '\\tat '\n",
       "                     'c3.server.impl.ServerDispatcherBase.doFilter(ServerDispatcherBase.java:165)\\n'\n",
       "                     '\\tat '\n",
       "                     'c3.server.impl.InteractiveDispatcher.doFilter(InteractiveDispatcher.java:95)\\n'\n",
       "                     '\\tat c3.server.impl.Task.run(Task.java:195)\\n'\n",
       "                     '\\tat '\n",
       "                     'c3.server.impl.InteractiveDispatcher.dispatch(InteractiveDispatcher.java:511)\\n'\n",
       "                     '\\tat '\n",
       "                     'c3.server.impl.InteractiveDispatcher.dispatch(InteractiveDispatcher.java:341)\\n'\n",
       "                     '\\tat '\n",
       "                     'c3.engine.action.RhinoActionEngine$GlobalScope.c3CallAction(RhinoActionEn..."
      ]
     },
     "execution_count": 103,
     "metadata": {},
     "output_type": "execute_result"
    }
   ],
   "source": [
    "run_job = c3.OceanSimRunBatchJob.get('96f75d07-dafb-42df-82b1-d222f41452f2')\n",
    "run_job.status()"
   ]
  },
  {
   "cell_type": "code",
   "execution_count": null,
   "id": "c08cc855",
   "metadata": {},
   "outputs": [],
   "source": [
    "print(run_job.status().errors[0].errorLog)"
   ]
  },
  {
   "cell_type": "code",
   "execution_count": null,
   "id": "90553867",
   "metadata": {
    "ExecuteTime": {
     "end_time": "2023-01-30T09:38:11.190105Z",
     "start_time": "2023-01-30T09:38:11.024668Z"
    }
   },
   "outputs": [],
   "source": [
    "run_job.computingActions().actions"
   ]
  },
  {
   "cell_type": "code",
   "execution_count": null,
   "id": "d3b1f15d",
   "metadata": {
    "ExecuteTime": {
     "end_time": "2023-01-30T09:36:47.423516Z",
     "start_time": "2023-01-30T09:36:47.421306Z"
    }
   },
   "outputs": [],
   "source": [
    "#run_job.cancel()"
   ]
  },
  {
   "cell_type": "code",
   "execution_count": null,
   "id": "bcfd7a88",
   "metadata": {},
   "outputs": [],
   "source": [
    "experiment_name = \"umax_0.5_30d_HC_copernicus\"#\"HC_umax_0.1_30_second_try\"\n",
    "exp = c3.Experiment.get(experiment_name)\n",
    "#exp.remove()\n",
    "#exp"
   ]
  },
  {
   "cell_type": "code",
   "execution_count": null,
   "id": "4ec3b695",
   "metadata": {
    "ExecuteTime": {
     "end_time": "2023-01-30T09:36:48.007099Z",
     "start_time": "2023-01-30T09:36:47.992299Z"
    }
   },
   "outputs": [
    {
     "name": "stdout",
     "output_type": "stream",
     "text": [
      "Total of 2000 OceanSimRuns\n",
      "staged_to_run:  8\n",
      "running_sim:  990\n",
      "finished_running:  999\n",
      "run_failed:  3\n"
     ]
    }
   ],
   "source": [
    "experiment = 'mission.experiment.id==' + '\"' + exp.id + '\"'\n",
    "objs_list = c3.OceanSimRun.fetch(spec={'include': \"[this]\",'filter':  experiment}).objs\n",
    "print(\"Total of {} OceanSimRuns\".format(len(objs_list)))\n",
    "\n",
    "staged_to_run = 0\n",
    "running_sim = 0\n",
    "finished_running = 0\n",
    "run_failed = 0\n",
    "for run in objs_list:\n",
    "    if run.status == 'staged_to_run':\n",
    "        staged_to_run += 1\n",
    "    elif run.status == 'running_sim':\n",
    "        running_sim += 1\n",
    "    elif run.status == 'finished_running':\n",
    "        finished_running += 1\n",
    "    elif run.status == 'run_failed':\n",
    "        run_failed += 1\n",
    "\n",
    "print(\"staged_to_run: \", staged_to_run)\n",
    "print(\"running_sim: \", running_sim)\n",
    "print(\"finished_running: \", finished_running)\n",
    "print(\"run_failed: \", run_failed)"
   ]
  },
  {
   "cell_type": "code",
   "execution_count": null,
   "id": "8dbe5e04",
   "metadata": {
    "ExecuteTime": {
     "end_time": "2023-01-30T08:49:39.748149Z",
     "start_time": "2023-01-30T08:49:39.734218Z"
    }
   },
   "outputs": [],
   "source": [
    "experiment = 'mission.experiment.id==' + '\"' + exp.id + '\"'\n",
    "stat= \"running_sim\"\n",
    "status = ' && status==' + '\"' + stat + '\"'\n",
    "run_list = c3.OceanSimRun.fetch(spec={'include': \"[status]\",'filter': experiment + status}).objs"
   ]
  },
  {
   "cell_type": "code",
   "execution_count": null,
   "id": "c7df8340",
   "metadata": {},
   "outputs": [],
   "source": [
    "for run in run_list:\n",
    "    run.status=\"staged_to_run\"\n",
    "    run.merge()"
   ]
  },
  {
   "cell_type": "code",
   "execution_count": null,
   "id": "f4cea029",
   "metadata": {
    "ExecuteTime": {
     "end_time": "2023-01-20T00:38:06.550004Z",
     "start_time": "2023-01-20T00:38:06.547816Z"
    }
   },
   "outputs": [],
   "source": [
    "#ro_remove_list[0].status = 'staged_to_run'"
   ]
  },
  {
   "cell_type": "code",
   "execution_count": null,
   "id": "469ebc15",
   "metadata": {
    "ExecuteTime": {
     "end_time": "2023-01-20T00:38:08.522385Z",
     "start_time": "2023-01-20T00:38:08.509177Z"
    }
   },
   "outputs": [],
   "source": [
    "#ro_remove_list[0].merge() # to upload changed object"
   ]
  },
  {
   "cell_type": "markdown",
   "id": "b5a21803",
   "metadata": {},
   "source": [
    "# Compute Results on all the finished runs"
   ]
  },
  {
   "cell_type": "markdown",
   "id": "cb3cd5ba",
   "metadata": {},
   "source": [
    "## Accessing variables on the OceanSimRun level (e.g. status, terminationReason)"
   ]
  },
  {
   "cell_type": "code",
   "execution_count": null,
   "id": "6c718122",
   "metadata": {
    "ExecuteTime": {
     "end_time": "2023-01-30T09:36:55.052863Z",
     "start_time": "2023-01-30T09:36:55.048843Z"
    },
    "code_folding": []
   },
   "outputs": [],
   "source": [
    "import pandas as pd\n",
    "def get_results_df(this):\n",
    "    # get all runs from the database (NOTE this can only get 2000 at a time!)\n",
    "    exp_filter = 'mission.experiment.id==' + '\"' + this.get('experimentName').experimentName + '\"'\n",
    "    all_exp_runs = c3.OceanSimRun.fetch(spec={'include': \"[this]\",\n",
    "                                              'filter': exp_filter,\n",
    "                                              'order': \"ascending(mission.id)\",\n",
    "                                              'limit': -1\n",
    "                                             }).objs\n",
    "    # get a list of all termination reasons\n",
    "    termination_reason = []\n",
    "    status = []\n",
    "    arrival_time = []\n",
    "    minDistanceToTarget = []\n",
    "    ctrl_obs_name = []\n",
    "    mission_ids = []\n",
    "\n",
    "    for run in all_exp_runs:\n",
    "        # get mission_id\n",
    "        mission_ids.append(run.get('mission').mission.id)\n",
    "        # get ctrl_obs setting\n",
    "        ctrl_obs_name.append(run.get('controllerSetting.name').controllerSetting.name + '__' + run.get('observerSetting.name').observerSetting.name)\n",
    "        # add outcomes\n",
    "        termination_reason.append(run.terminationReason)\n",
    "        status.append(run.status)\n",
    "        arrival_time.append(run.T_arrival_time)\n",
    "        minDistanceToTarget.append(run.minDistanceToTarget)\n",
    "\n",
    "    # Make a df out of it\n",
    "    df = pd.DataFrame(list(zip(mission_ids, ctrl_obs_name, status, termination_reason, arrival_time)),\n",
    "                      columns=['mission_id', 'setting', 'status', 'termination_reason', 'arrival_time'])\n",
    "    \n",
    "    return df"
   ]
  },
  {
   "cell_type": "code",
   "execution_count": null,
   "id": "9c0cbdc9",
   "metadata": {
    "ExecuteTime": {
     "end_time": "2023-01-30T09:36:55.342731Z",
     "start_time": "2023-01-30T09:36:55.276750Z"
    }
   },
   "outputs": [],
   "source": [
    "df = get_results_df(exp)"
   ]
  },
  {
   "cell_type": "code",
   "execution_count": null,
   "id": "72d5ed15",
   "metadata": {
    "ExecuteTime": {
     "end_time": "2023-01-30T09:36:55.486472Z",
     "start_time": "2023-01-30T09:36:55.480303Z"
    }
   },
   "outputs": [
    {
     "data": {
      "text/html": [
       "<div>\n",
       "<style scoped>\n",
       "    .dataframe tbody tr th:only-of-type {\n",
       "        vertical-align: middle;\n",
       "    }\n",
       "\n",
       "    .dataframe tbody tr th {\n",
       "        vertical-align: top;\n",
       "    }\n",
       "\n",
       "    .dataframe thead th {\n",
       "        text-align: right;\n",
       "    }\n",
       "</style>\n",
       "<table border=\"1\" class=\"dataframe\">\n",
       "  <thead>\n",
       "    <tr style=\"text-align: right;\">\n",
       "      <th></th>\n",
       "      <th>mission_id</th>\n",
       "      <th>setting</th>\n",
       "      <th>status</th>\n",
       "      <th>termination_reason</th>\n",
       "      <th>arrival_time</th>\n",
       "    </tr>\n",
       "  </thead>\n",
       "  <tbody>\n",
       "    <tr>\n",
       "      <th>0</th>\n",
       "      <td>HC_umax_0.5_90_mission_nr_0</td>\n",
       "      <td>SeaweedHJController_30_deg__NoObserver</td>\n",
       "      <td>running_sim</td>\n",
       "      <td>None</td>\n",
       "      <td>None</td>\n",
       "    </tr>\n",
       "    <tr>\n",
       "      <th>1</th>\n",
       "      <td>HC_umax_0.5_90_mission_nr_1</td>\n",
       "      <td>SeaweedHJController_30_deg__NoObserver</td>\n",
       "      <td>running_sim</td>\n",
       "      <td>None</td>\n",
       "      <td>None</td>\n",
       "    </tr>\n",
       "    <tr>\n",
       "      <th>2</th>\n",
       "      <td>HC_umax_0.5_90_mission_nr_10</td>\n",
       "      <td>SeaweedHJController_30_deg__NoObserver</td>\n",
       "      <td>running_sim</td>\n",
       "      <td>None</td>\n",
       "      <td>None</td>\n",
       "    </tr>\n",
       "    <tr>\n",
       "      <th>3</th>\n",
       "      <td>HC_umax_0.5_90_mission_nr_11</td>\n",
       "      <td>SeaweedHJController_30_deg__NoObserver</td>\n",
       "      <td>running_sim</td>\n",
       "      <td>None</td>\n",
       "      <td>None</td>\n",
       "    </tr>\n",
       "    <tr>\n",
       "      <th>4</th>\n",
       "      <td>HC_umax_0.5_90_mission_nr_12</td>\n",
       "      <td>SeaweedHJController_30_deg__NoObserver</td>\n",
       "      <td>running_sim</td>\n",
       "      <td>None</td>\n",
       "      <td>None</td>\n",
       "    </tr>\n",
       "  </tbody>\n",
       "</table>\n",
       "</div>"
      ],
      "text/plain": [
       "                     mission_id                                 setting  \\\n",
       "0   HC_umax_0.5_90_mission_nr_0  SeaweedHJController_30_deg__NoObserver   \n",
       "1   HC_umax_0.5_90_mission_nr_1  SeaweedHJController_30_deg__NoObserver   \n",
       "2  HC_umax_0.5_90_mission_nr_10  SeaweedHJController_30_deg__NoObserver   \n",
       "3  HC_umax_0.5_90_mission_nr_11  SeaweedHJController_30_deg__NoObserver   \n",
       "4  HC_umax_0.5_90_mission_nr_12  SeaweedHJController_30_deg__NoObserver   \n",
       "\n",
       "        status termination_reason arrival_time  \n",
       "0  running_sim               None         None  \n",
       "1  running_sim               None         None  \n",
       "2  running_sim               None         None  \n",
       "3  running_sim               None         None  \n",
       "4  running_sim               None         None  "
      ]
     },
     "execution_count": 180,
     "metadata": {},
     "output_type": "execute_result"
    }
   ],
   "source": [
    "df.head()"
   ]
  },
  {
   "cell_type": "code",
   "execution_count": null,
   "id": "2a08a223",
   "metadata": {
    "ExecuteTime": {
     "end_time": "2023-01-30T09:36:56.275751Z",
     "start_time": "2023-01-30T09:36:56.270584Z"
    }
   },
   "outputs": [
    {
     "data": {
      "text/plain": [
       "setting                                 status     \n",
       "SeaweedHJController_30_deg__NoObserver  running_sim    64\n",
       "Name: status, dtype: int64"
      ]
     },
     "execution_count": 181,
     "metadata": {},
     "output_type": "execute_result"
    }
   ],
   "source": [
    "df.groupby('setting').status.value_counts()"
   ]
  },
  {
   "cell_type": "code",
   "execution_count": null,
   "id": "9b2f67c1",
   "metadata": {
    "ExecuteTime": {
     "end_time": "2023-01-30T09:00:13.940971Z",
     "start_time": "2023-01-30T09:00:13.936235Z"
    }
   },
   "outputs": [
    {
     "data": {
      "text/plain": [
       "Series([], Name: termination_reason, dtype: float64)"
      ]
     },
     "execution_count": 182,
     "metadata": {},
     "output_type": "execute_result"
    }
   ],
   "source": [
    "df.groupby('setting').termination_reason.value_counts(normalize=True)"
   ]
  },
  {
   "cell_type": "markdown",
   "id": "5f968060",
   "metadata": {},
   "source": [
    "## Accessing the actual saved trajectories/log files"
   ]
  },
  {
   "cell_type": "code",
   "execution_count": null,
   "id": "705e0cb7",
   "metadata": {
    "ExecuteTime": {
     "end_time": "2023-01-30T09:00:17.725183Z",
     "start_time": "2023-01-30T09:00:17.712832Z"
    }
   },
   "outputs": [],
   "source": [
    "# to get all OceanSimRuns for a specific experiment (for all controller and observer settings)\n",
    "exp_id =\"HC_umax_0.5_90\"\n",
    "exp_id_filter = 'mission.experiment.id==' + '\"' + exp_id + '\"'\n",
    "allOceanSimRuns = c3.OceanSimRun.fetch(spec={'include': \"[this]\",'filter': experiment }).objs\n",
    "\n",
    "# show how to access things for a single one\n",
    "run = allOceanSimRuns[11]"
   ]
  },
  {
   "cell_type": "code",
   "execution_count": null,
   "id": "889d7e91",
   "metadata": {},
   "outputs": [
    {
     "name": "stdout",
     "output_type": "stream",
     "text": [
      "None\n",
      "None\n",
      "None\n",
      "None\n",
      "None\n",
      "None\n",
      "None\n",
      "None\n",
      "None\n",
      "None\n",
      "None\n",
      "None\n",
      "None\n",
      "None\n",
      "None\n",
      "None\n",
      "None\n",
      "None\n",
      "None\n",
      "None\n",
      "None\n",
      "None\n",
      "None\n",
      "None\n",
      "None\n",
      "None\n",
      "None\n",
      "None\n",
      "None\n",
      "None\n",
      "None\n",
      "None\n",
      "None\n",
      "None\n",
      "None\n",
      "None\n",
      "None\n",
      "None\n",
      "None\n",
      "None\n",
      "None\n",
      "None\n",
      "None\n",
      "None\n",
      "None\n",
      "None\n",
      "None\n",
      "None\n",
      "None\n",
      "None\n",
      "None\n",
      "None\n",
      "None\n",
      "None\n",
      "None\n",
      "None\n",
      "None\n",
      "None\n",
      "None\n",
      "None\n",
      "None\n",
      "None\n",
      "None\n",
      "None\n"
     ]
    }
   ],
   "source": [
    "for run in allOceanSimRuns:\n",
    "    print(run.oceanSimResult)"
   ]
  },
  {
   "cell_type": "code",
   "execution_count": null,
   "id": "c627bca8",
   "metadata": {
    "ExecuteTime": {
     "end_time": "2023-01-20T01:35:57.567219Z",
     "start_time": "2023-01-20T01:35:57.565340Z"
    }
   },
   "outputs": [
    {
     "ename": "FileNotFoundError",
     "evalue": "Object does not have oceanSimResult.trajectories\n\nThe traceback for the inline method is:\n  File \"Zc0f5ed362f587e2990729fbf1913b613M_.TypeSystemBase\", line 1015, in inline_traceback_impl\n  File \"HycomUtil.py\", line 22, in display_log\n    raise FileNotFoundError(\"Object does not have oceanSimResult.trajectories\")\n",
     "output_type": "error",
     "traceback": [
      "\u001b[0;31m---------------------------------------------------------------------------\u001b[0m",
      "\u001b[0;31mFileNotFoundError\u001b[0m                         Traceback (most recent call last)",
      "\u001b[0;31mFileNotFoundError\u001b[0m: Object does not have oceanSimResult.trajectories",
      "\nThe above exception was the direct cause of the following exception:\n",
      "\u001b[0;31mFileNotFoundError\u001b[0m                         Traceback (most recent call last)",
      "Cell \u001b[0;32mIn [189], line 2\u001b[0m\n\u001b[1;32m      1\u001b[0m \u001b[39m# # to access the log files for a specifc run. Not working right now, not sure why.\u001b[39;00m\n\u001b[0;32m----> 2\u001b[0m c3\u001b[39m.\u001b[39mHycomUtil\u001b[39m.\u001b[39mdisplay_log(run)\n",
      "File \u001b[0;32mZc0f5ed362f587e2990729fbf1913b613M_.TypeSystemBase:1132\u001b[0m, in \u001b[0;36mdisplay_log\u001b[0;34m(_cls_f7f11c950a4e, object_to_display_log, local_folder)\u001b[0m\n",
      "File \u001b[0;32mZc0f5ed362f587e2990729fbf1913b613M_.TypeSystemBase:1117\u001b[0m, in \u001b[0;36m_c3_static_inline_impl\u001b[0;34m(___args, source_code, py_code, method_name, _cls)\u001b[0m\n",
      "File \u001b[0;32mZc0f5ed362f587e2990729fbf1913b613M_.TypeSystemBase:1105\u001b[0m, in \u001b[0;36minline_traceback_impl\u001b[0;34m(source_code, fn, ___args, cls)\u001b[0m\n",
      "\u001b[0;31mFileNotFoundError\u001b[0m: Object does not have oceanSimResult.trajectories\n\nThe traceback for the inline method is:\n  File \"Zc0f5ed362f587e2990729fbf1913b613M_.TypeSystemBase\", line 1015, in inline_traceback_impl\n  File \"HycomUtil.py\", line 22, in display_log\n    raise FileNotFoundError(\"Object does not have oceanSimResult.trajectories\")\n"
     ]
    }
   ],
   "source": [
    "# # to access the log files for a specifc run. Not working right now, not sure why.\n",
    "c3.HycomUtil.display_log(run)"
   ]
  },
  {
   "cell_type": "code",
   "execution_count": null,
   "id": "cb361b9f",
   "metadata": {
    "ExecuteTime": {
     "end_time": "2023-01-30T09:00:21.478704Z",
     "start_time": "2023-01-30T09:00:21.468298Z"
    }
   },
   "outputs": [],
   "source": [
    "# to access the saved trajectory (from arena) and saved lcontroller inputs\n",
    "trajectories_dict = c3.HycomUtil.get_traj_dict(run)\n",
    "print(trajectories_dict)"
   ]
  },
  {
   "cell_type": "markdown",
   "id": "28a10da5",
   "metadata": {},
   "source": [
    "# Other Utils for the cluster"
   ]
  },
  {
   "cell_type": "markdown",
   "id": "a55849d6",
   "metadata": {
    "ExecuteTime": {
     "end_time": "2023-01-26T01:43:36.037020Z",
     "start_time": "2023-01-26T01:43:33.197130Z"
    }
   },
   "source": [
    "## c3.Cluster.actionDump()"
   ]
  },
  {
   "cell_type": "code",
   "execution_count": null,
   "id": "1593dd15",
   "metadata": {
    "ExecuteTime": {
     "end_time": "2023-01-30T09:20:50.910232Z",
     "start_time": "2023-01-30T09:20:50.727526Z"
    }
   },
   "outputs": [],
   "source": [
    "batch_jobs = c3.GenMissionBatchJob.fetch().objs\n"
   ]
  },
  {
   "cell_type": "code",
   "execution_count": null,
   "id": "f974435a",
   "metadata": {
    "ExecuteTime": {
     "end_time": "2023-01-30T09:21:06.586546Z",
     "start_time": "2023-01-30T09:20:53.034748Z"
    },
    "code_folding": []
   },
   "outputs": [],
   "source": [
    "for job in batch_jobs:\n",
    "    job.cancel()\n",
    "    print(job.status())"
   ]
  },
  {
   "cell_type": "code",
   "execution_count": null,
   "id": "68c30417",
   "metadata": {},
   "outputs": [],
   "source": []
  }
 ],
 "metadata": {
  "has_local_update": false,
  "is_local": true,
  "is_remote": true,
  "kernelspec": {
   "display_name": "ocean_minimal",
   "language": "python",
   "name": "python3"
  },
  "language_info": {
   "codemirror_mode": {
    "name": "ipython",
    "version": 3
   },
   "file_extension": ".py",
   "mimetype": "text/x-python",
   "name": "python",
   "nbconvert_exporter": "python",
   "pygments_lexer": "ipython3",
   "version": "3.9.13"
  },
  "last_sync_time": "2023-01-30T19:28:53.684272",
  "vscode": {
   "interpreter": {
    "hash": "6636ae24e7fa6b0e29516d3a19dbd93f23481a8a9813f168e356902c7d4542b7"
   }
  }
 },
 "nbformat": 4,
 "nbformat_minor": 5
}
