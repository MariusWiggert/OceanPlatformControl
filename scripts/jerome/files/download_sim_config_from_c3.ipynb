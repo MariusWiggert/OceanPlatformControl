{
 "cells": [
  {
   "cell_type": "code",
   "execution_count": 6,
   "outputs": [
    {
     "name": "stdout",
     "output_type": "stream",
     "text": [
      "c3.CtrlConfig(\n",
      " PlannerConfig=c3.PlannerConfig(\n",
      "                 name='HJReach2DPlanner',\n",
      "                 dt_replanning=864000000,\n",
      "                 specific_settings=c3.HJReach2DPlanner(\n",
      "                                     name='HJReach2DPlanner',\n",
      "                                     direction='multi-reach-back',\n",
      "                                     hours_to_hj_solve_timescale=3600.0,\n",
      "                                     d_max=0.0,\n",
      "                                     T_goal_in_h=119.0,\n",
      "                                     grid_res=c3.Arry<float>([0.04, 0.04]),\n",
      "                                     n_time_vector=119,\n",
      "                                     accuracy='high',\n",
      "                                     artificial_dissipation_scheme='local_local',\n",
      "                                     deg_around_xt_xT_box=4.0,\n",
      "                                     progress_bar=False)),\n",
      " SteeringCtrlConfig=c3.SteeringCtrlConfig(\n",
      "                      name='None',\n",
      "                      dt_replanning=864000000))\n"
     ]
    }
   ],
   "source": [
    "from c3python import C3Python\n",
    "c3 = C3Python(\n",
    "    url='https://dev01-seaweed-control.c3dti.ai',\n",
    "    tenant='seaweed-control',\n",
    "    tag='dev01',\n",
    "    keyfile='../../../setup/c3-rsa',\n",
    "    username='jeanninj@berkeley.edu',\n",
    ").get_c3()\n",
    "\n",
    "# print(c3.ControllerSetting.get('Short_Horizon_CopernicusGT_StraightLine'))\n",
    "print(c3.ControllerSetting.get('Short_Horizon_CopernicusGT_Multi_Reach_Back').ctrlConfig)\n",
    "# simConfig = c3.Experiment.get(\"Short_Horizon_CopernicusGT\").simConfig\n",
    "# missions = c3.Mission.fetch(spec={'filter': 'experiment.id==\"Short_Horizon_CopernicusGT\"'})"
   ],
   "metadata": {
    "collapsed": false,
    "pycharm": {
     "name": "#%%\n"
    }
   }
  },
  {
   "cell_type": "code",
   "execution_count": 14,
   "outputs": [
    {
     "name": "stdout",
     "output_type": "stream",
     "text": [
      "c3.ControllerSetting(\n",
      " id='Short_Horizon_CopernicusGT_Multi_Reach_Back',\n",
      " name='Multi_Reach_Back',\n",
      " meta=c3.Meta(\n",
      "        tenantTagId=162,\n",
      "        tenant='seaweed-control',\n",
      "        tag='dev01',\n",
      "        created=datetime.datetime(2022, 3, 10, 8, 51, 13, tzinfo=datetime.timezone.utc),\n",
      "        createdBy='mariuswiggert@berkeley.edu',\n",
      "        updated=datetime.datetime(2022, 3, 10, 8, 51, 13, tzinfo=datetime.timezone.utc),\n",
      "        updatedBy='mariuswiggert@berkeley.edu',\n",
      "        timestamp=datetime.datetime(2022, 3, 10, 8, 51, 13, tzinfo=datetime.timezone.utc),\n",
      "        fetchInclude='[]',\n",
      "        fetchType='ControllerSetting'),\n",
      " version=1,\n",
      " experiment=c3.Experiment(id='Short_Horizon_CopernicusGT'),\n",
      " ctrlConfig=c3.CtrlConfig(\n",
      "              PlannerConfig=c3.PlannerConfig(\n",
      "                              name='HJReach2DPlanner',\n",
      "                              dt_replanning=864000000,\n",
      "                              specific_settings=c3.HJReach2DPlanner(\n",
      "                                                  name='HJReach2DPlanner',\n",
      "                                                  direction='multi-reach-back',\n",
      "                                                  hours_to_hj_solve_timescale=3600.0,\n",
      "                                                  d_max=0.0,\n",
      "                                                  T_goal_in_h=119.0,\n",
      "                                                  grid_res=c3.Arry<float>([0.04,\n",
      "                                                             0.04]),\n",
      "                                                  n_time_vector=119,\n",
      "                                                  accuracy='high',\n",
      "                                                  artificial_dissipation_scheme='local_local',\n",
      "                                                  deg_around_xt_xT_box=4.0,\n",
      "                                                  progress_bar=False)),\n",
      "              SteeringCtrlConfig=c3.SteeringCtrlConfig(\n",
      "                                   name='None',\n",
      "                                   dt_replanning=864000000)))\n"
     ]
    }
   ],
   "source": [
    "from pprint import pprint\n",
    "print(c3.ControllerSetting.get('Short_Horizon_CopernicusGT_Multi_Reach_Back'))"
   ],
   "metadata": {
    "collapsed": false,
    "pycharm": {
     "name": "#%%\n"
    }
   }
  },
  {
   "cell_type": "markdown",
   "source": [],
   "metadata": {
    "collapsed": false,
    "pycharm": {
     "name": "#%% md\n"
    }
   }
  }
 ],
 "metadata": {
  "kernelspec": {
   "display_name": "Python 3",
   "language": "python",
   "name": "python3"
  },
  "language_info": {
   "codemirror_mode": {
    "name": "ipython",
    "version": 2
   },
   "file_extension": ".py",
   "mimetype": "text/x-python",
   "name": "python",
   "nbconvert_exporter": "python",
   "pygments_lexer": "ipython2",
   "version": "2.7.6"
  }
 },
 "nbformat": 4,
 "nbformat_minor": 0
}