{
 "cells": [
  {
   "cell_type": "code",
   "execution_count": 25,
   "metadata": {},
   "outputs": [],
   "source": [
    "import jax.numpy as jnp\n",
    "import matplotlib.pyplot as plt\n",
    "import numpy as np\n",
    "import plotly.io as pio\n",
    "\n",
    "from ocean_navigation_simulator.controllers.hj_planners.Platform2dForSim import (\n",
    "    Platform2dForSim\n",
    ")\n",
    "pio.renderers.default = \"browser\"\n",
    "import time\n",
    "\n",
    "import hj_reachability as hj\n",
    "import numpy as np\n",
    "import pandas as pd\n",
    "import plotly.graph_objects as go\n",
    "import xarray as xr\n",
    "from scipy.interpolate import interp1d\n",
    "from functools import partial\n",
    "from ocean_navigation_simulator.controllers.hj_planners.Platform2dForSim import Platform2dForSim\n",
    "# from jax.config import config\n",
    "# config.update('jax_disable_jit', True)\n"
   ]
  },
  {
   "cell_type": "code",
   "execution_count": 26,
   "metadata": {},
   "outputs": [],
   "source": [
    "class Platform2dObsForSimToy(Platform2dForSim):\n",
    "    def __init__(\n",
    "        self,\n",
    "        u_max: float,\n",
    "        d_max: float = 0,\n",
    "        use_geographic_coordinate_system: bool = True,\n",
    "        control_mode:str = \"min\",\n",
    "        disturbance_mode:str  = \"max\",\n",
    "        obstacle_ds=None,\n",
    "    ):\n",
    "        super().__init__(\n",
    "            u_max, d_max, use_geographic_coordinate_system, control_mode, disturbance_mode\n",
    "        )\n",
    "        self.obstacle_ds = obstacle_ds[\"obstacles\"]\n",
    "\n",
    "    def update_jax_interpolant(self, data_xarray: xr):\n",
    "        \"\"\"Creating an interpolant function from x,y,t grid and data\n",
    "        Args:\n",
    "            data_xarray: xarray containing variables water_u and water_v as matrices (T, Y, X)\n",
    "        \"\"\"\n",
    "        super().update_jax_interpolant(data_xarray)\n",
    "        self.obstacle_array = self.create_obstacle_array(data_xarray)\n",
    "\n",
    "    def __call__(self, state, control, disturbance, time):\n",
    "        \"\"\"Implements the continuous-time dynamics ODE with obstacles.\"\"\"\n",
    "        dx_out = super().__call__(state, control, disturbance, time)\n",
    "        # Check if state is in obstacle then mask dx_out,\n",
    "        # this means that the \"state moves with obstacle\" and can not leave it.\n",
    "        # Additionally, we mask the obstacles in the hamiltonian_postprocessor in \"HJPLannerBase\"\n",
    "        # to counter the dissipation value of the artificial_dissipation_scheme\n",
    "        # TODO: Would actually need to change the 0 to velocity of obstacle if obstacle were dynamic\n",
    "        return jnp.zeros_like(dx_out) if self.is_in_obstacle(state, time) else dx_out\n",
    "        # out = jnp.where(self.is_in_obstacle(state, time), 0, dx_out)\n",
    "        # if out.shape != dx_out.shape:\n",
    "        #     return \n",
    "\n",
    "    def create_obstacle_array(self, data_xarray):\n",
    "        \"\"\"Use path to file to load and set the obstacle array\"\"\"\n",
    "        # Fit to grid\n",
    "        obstacle_array = self.obstacle_ds.interp_like(data_xarray)\n",
    "        # Convert to binary mask, set to 0 for \"no obstacle\" and 1 for \"obstacle\"\n",
    "        return jnp.array(obstacle_array.data)\n",
    "\n",
    "    def is_in_obstacle(self, state, time):\n",
    "        \"\"\"Return if the state is in the obstacle region\"\"\"\n",
    "        x_idx = jnp.argmin(jnp.abs(self.obstacle_array - state[0]))\n",
    "        y_idx = jnp.argmin(jnp.abs(self.obstacle_array - state[1]))\n",
    "        # The 0 index is time and 0 because we do not have dynamics\n",
    "        return self.obstacle_array[y_idx, x_idx, 0] > 0\n"
   ]
  },
  {
   "cell_type": "code",
   "execution_count": 27,
   "metadata": {},
   "outputs": [],
   "source": [
    "from hj_reachability import systems\n",
    "\n",
    "class Platform2DcurrentsObs(systems.Platform2Dcurrents):\n",
    "    def __init__(self,\n",
    "                 u_max=1.,\n",
    "                 d_max=0,\n",
    "                 control_mode=\"min\",\n",
    "                 disturbance_mode=\"max\",\n",
    "                 control_space=None,\n",
    "                 disturbance_space=None,\n",
    "                 x_current=None,\n",
    "                 y_current=None,\n",
    "                 obs_loc=None,\n",
    "                 obs_vel=None):\n",
    "\n",
    "        self.obs_loc = obs_loc\n",
    "        self.obs_vel = obs_vel\n",
    "        super().__init__(u_max, d_max, control_mode, disturbance_mode,\n",
    "                control_space, disturbance_space, x_current, y_current)\n",
    "\n",
    "    def __call__(self, state, control, disturbance, time):\n",
    "        return jnp.where(self.obs_loc(jnp.append(state, time)) < 0,\n",
    "                self.obs_vel(jnp.append(state, time)),\n",
    "                super().__call__(state, control, disturbance, time))"
   ]
  },
  {
   "cell_type": "code",
   "execution_count": 28,
   "metadata": {},
   "outputs": [],
   "source": [
    "times = np.linspace(0, 100, 100)\n",
    "grid = hj.Grid.from_lattice_parameters_and_boundary_conditions(\n",
    "    hj.sets.Box(lo=np.array([-5.0, -5.0]), hi=np.array([5.0, 5.0])), (100, 100)\n",
    ")\n",
    "x_init = [-4, -4]\n",
    "x_target = [4, 4]\n",
    "r = 0.1\n",
    "initial_values = hj.shapes.shape_sphere(grid=grid, center=x_target, radius=r)\n",
    "initial_values[initial_values<0]=0"
   ]
  },
  {
   "cell_type": "code",
   "execution_count": 29,
   "metadata": {},
   "outputs": [],
   "source": [
    "def multi_reach_step(mask, val):\n",
    "    #val = jnp.where(mask<0,-1,val)\n",
    "    alpha = 1\n",
    "    val = jnp.where(mask <0, val-alpha, val)\n",
    "    return val\n",
    "\n",
    "p_multi_reach_step = partial(multi_reach_step, initial_values)\n",
    "\n",
    "solver_settings = hj.SolverSettings.with_accuracy(\"high\",\n",
    "                    x_init = [np.nan, np.nan],#x_init,\n",
    "                    artificial_dissipation_scheme =\n",
    "                        hj.artificial_dissipation.local_local_lax_friedrichs,\n",
    "                    hamiltonian_postprocessor = p_multi_reach_step,\n",
    "                    CFL_number=1.0\n",
    "                    )"
   ]
  },
  {
   "cell_type": "code",
   "execution_count": 30,
   "metadata": {},
   "outputs": [],
   "source": [
    "def checkerboard(shape):\n",
    "    return np.indices(shape).sum(axis=0) % 2"
   ]
  },
  {
   "cell_type": "code",
   "execution_count": 31,
   "metadata": {},
   "outputs": [],
   "source": [
    "# T,  y, x\n",
    "water_u = np.zeros((100, 100, 100))\n",
    "water_v = np.zeros((100, 100, 100))\n",
    "obs = np.zeros((100, 100, 100))\n",
    "\n",
    "# Create checkerboard shaped obstacles\n",
    "obs[:, 40:60, 40:60] = checkerboard([20, 20])\n",
    "\n",
    "\n",
    "lon = np.linspace(-5, 5, 100)\n",
    "lat = np.linspace(-5, 5, 100)\n",
    "time = np.linspace(0, -60, 100)\n"
   ]
  },
  {
   "cell_type": "code",
   "execution_count": 32,
   "metadata": {},
   "outputs": [],
   "source": [
    "ds_obs = xr.Dataset(\n",
    "    data_vars=dict(\n",
    "        obstacles=([\"relative_time\", \"lat\", \"lon\"], obs),\n",
    "    ),\n",
    "    coords=dict(\n",
    "        lon=lon,\n",
    "        lat=lat,\n",
    "        relative_time=time,\n",
    "    ),\n",
    ")\n",
    "\n",
    "ds_water = xr.Dataset(\n",
    "    data_vars=dict(\n",
    "        water_u=([\"relative_time\", \"lat\", \"lon\"], water_u),\n",
    "        water_v=([\"relative_time\", \"lat\", \"lon\"], water_v),\n",
    "    ),\n",
    "    coords=dict(\n",
    "        lon=lon,\n",
    "        lat=lat,\n",
    "        relative_time=time,\n",
    "    ),\n",
    ")"
   ]
  },
  {
   "cell_type": "code",
   "execution_count": 33,
   "metadata": {},
   "outputs": [],
   "source": [
    "Plat2D = Platform2dObsForSimToy(#Platform2dForSim\n",
    "    u_max=0.2,\n",
    "    d_max=0,\n",
    "    use_geographic_coordinate_system=False,\n",
    "    control_mode=\"min\",\n",
    "    disturbance_mode=\"max\",\n",
    "    obstacle_ds=ds_obs\n",
    ")"
   ]
  },
  {
   "cell_type": "code",
   "execution_count": 34,
   "metadata": {},
   "outputs": [
    {
     "data": {
      "text/plain": [
       "<matplotlib.image.AxesImage at 0x7f16361a5d90>"
      ]
     },
     "execution_count": 34,
     "metadata": {},
     "output_type": "execute_result"
    },
    {
     "data": {
      "image/png": "[encoded data removed]",
      "text/plain": [
       "<Figure size 640x480 with 1 Axes>"
      ]
     },
     "metadata": {},
     "output_type": "display_data"
    }
   ],
   "source": [
    "plt.imshow(ds_obs[\"obstacles\"].data[0, ...])\n"
   ]
  },
  {
   "cell_type": "code",
   "execution_count": 35,
   "metadata": {},
   "outputs": [],
   "source": [
    "Plat2D.update_jax_interpolant(ds_water)\n"
   ]
  },
  {
   "cell_type": "code",
   "execution_count": 37,
   "metadata": {},
   "outputs": [
    {
     "name": "stderr",
     "output_type": "stream",
     "text": [
      "  0%|          |  0.0000/100.0 [00:04<?, ?sim_s/s]\n"
     ]
    },
    {
     "ename": "TracerArrayConversionError",
     "evalue": "The numpy.ndarray conversion method __array__() was called on the JAX Tracer object Traced<ShapedArray(int32[])>with<BatchTrace(level=2/0)> with\n  val = Traced<ShapedArray(int32[100])>with<BatchTrace(level=1/0)> with\n    val = DeviceArray([[ 0,  0,  0, ...,  0,  0,  0],\n             [ 1,  1,  1, ...,  1,  1,  1],\n             [ 2,  2,  2, ...,  2,  2,  2],\n             ...,\n             [97, 97, 97, ..., 97, 97, 97],\n             [98, 98, 98, ..., 98, 98, 98],\n             [99, 99, 99, ..., 99, 99, 99]], dtype=int32)\n    batch_dim = 0\n  batch_dim = 0\nThis Tracer was created on line /home/andy/miniconda3/envs/ocean_platform/lib/python3.9/site-packages/hj_reachability/interpolation.py:38 (lin_interpo_1D)\nSee https://jax.readthedocs.io/en/latest/errors.html#jax.errors.TracerArrayConversionError",
     "output_type": "error",
     "traceback": [
      "\u001b[0;31m---------------------------------------------------------------------------\u001b[0m",
      "\u001b[0;31mTracerArrayConversionError\u001b[0m                Traceback (most recent call last)",
      "Cell \u001b[0;32mIn [37], line 1\u001b[0m\n\u001b[0;32m----> 1\u001b[0m times, all_values \u001b[39m=\u001b[39m hj\u001b[39m.\u001b[39;49msolve(solver_settings, Plat2D, grid, times, initial_values, progress_bar\u001b[39m=\u001b[39;49m\u001b[39mTrue\u001b[39;49;00m)\n",
      "File \u001b[0;32m~/miniconda3/envs/ocean_platform/lib/python3.9/site-packages/hj_reachability/solver.py:126\u001b[0m, in \u001b[0;36msolve\u001b[0;34m(solver_settings, dynamics, grid, times, initial_values, progress_bar)\u001b[0m\n\u001b[1;32m    124\u001b[0m \u001b[39m\"\"\"Main Function to kick-off the jit-ed main loop and cut output values.\"\"\"\u001b[39;00m\n\u001b[1;32m    125\u001b[0m \u001b[39m# run the main integration loop\u001b[39;00m\n\u001b[0;32m--> 126\u001b[0m terminal_idx, all_values \u001b[39m=\u001b[39m _solve(solver_settings, dynamics, grid,\n\u001b[1;32m    127\u001b[0m                                   times, initial_values, progress_bar)\n\u001b[1;32m    128\u001b[0m \u001b[39m# if the main integration loop was terminated before times[-1] cut the times and all_values array\u001b[39;00m\n\u001b[1;32m    129\u001b[0m \u001b[39mif\u001b[39;00m terminal_idx \u001b[39m+\u001b[39m \u001b[39m1\u001b[39m \u001b[39m!=\u001b[39m \u001b[39mlen\u001b[39m(times):\n",
      "File \u001b[0;32m~/miniconda3/envs/ocean_platform/lib/python3.9/site-packages/hj_reachability/solver.py:173\u001b[0m, in \u001b[0;36m_solve\u001b[0;34m(solver_settings, dynamics, grid, times, initial_values, progress_bar)\u001b[0m\n\u001b[1;32m    169\u001b[0m all_values_init \u001b[39m=\u001b[39m jnp\u001b[39m.\u001b[39mconcatenate([initial_values[jnp\u001b[39m.\u001b[39mnewaxis],\n\u001b[1;32m    170\u001b[0m                                    jnp\u001b[39m.\u001b[39mempty((times\u001b[39m.\u001b[39mshape[\u001b[39m0\u001b[39m]\u001b[39m-\u001b[39m\u001b[39m1\u001b[39m,) \u001b[39m+\u001b[39m initial_values\u001b[39m.\u001b[39mshape)])\n\u001b[1;32m    172\u001b[0m \u001b[39m# Step 3: run the while loop and return the termination tuple (idx, all_values)\u001b[39;00m\n\u001b[0;32m--> 173\u001b[0m \u001b[39mreturn\u001b[39;00m jax\u001b[39m.\u001b[39;49mlax\u001b[39m.\u001b[39;49mwhile_loop(cond_fun\u001b[39m=\u001b[39;49mcontinue_condition, body_fun\u001b[39m=\u001b[39;49mouter_loop, init_val\u001b[39m=\u001b[39;49m(\u001b[39m0\u001b[39;49m, all_values_init))\n",
      "    \u001b[0;31m[... skipping hidden 2 frame]\u001b[0m\n",
      "File \u001b[0;32m~/miniconda3/envs/ocean_platform/lib/python3.9/site-packages/hj_reachability/solver.py:146\u001b[0m, in \u001b[0;36m_solve.<locals>.outer_loop\u001b[0;34m(idx_all_values)\u001b[0m\n\u001b[1;32m    141\u001b[0m \u001b[39m\"\"\"Outer integration loop saving the values for the respective elements in the times vector.\u001b[39;00m\n\u001b[1;32m    142\u001b[0m \u001b[39mInput Params: idx_all_values   is a tuple of the form (idx, all_values) where idx is the current index\u001b[39;00m\n\u001b[1;32m    143\u001b[0m \u001b[39m                               and all_values is the stacked value function at that time.\u001b[39;00m\n\u001b[1;32m    144\u001b[0m \u001b[39m\"\"\"\u001b[39;00m\n\u001b[1;32m    145\u001b[0m \u001b[39m# Step 1: run the inner loop with the step function\u001b[39;00m\n\u001b[0;32m--> 146\u001b[0m new_values \u001b[39m=\u001b[39m step(solver_settings, dynamics, grid,\n\u001b[1;32m    147\u001b[0m               times[idx_all_values[\u001b[39m0\u001b[39;49m]], idx_all_values[\u001b[39m1\u001b[39;49m][idx_all_values[\u001b[39m0\u001b[39;49m], \u001b[39m.\u001b[39;49m\u001b[39m.\u001b[39;49m\u001b[39m.\u001b[39;49m],\n\u001b[1;32m    148\u001b[0m               times[idx_all_values[\u001b[39m0\u001b[39;49m]\u001b[39m+\u001b[39;49m\u001b[39m1\u001b[39;49m], bar)\n\u001b[1;32m    149\u001b[0m \u001b[39m# Step 2: save the values in the all_values_new array\u001b[39;00m\n\u001b[1;32m    150\u001b[0m all_values_new \u001b[39m=\u001b[39m idx_all_values[\u001b[39m1\u001b[39m]\u001b[39m.\u001b[39mat[idx_all_values[\u001b[39m0\u001b[39m]\u001b[39m+\u001b[39m\u001b[39m1\u001b[39m]\u001b[39m.\u001b[39mset(new_values)\n",
      "File \u001b[0;32m~/miniconda3/envs/ocean_platform/lib/python3.9/site-packages/hj_reachability/solver.py:121\u001b[0m, in \u001b[0;36mstep\u001b[0;34m(solver_settings, dynamics, grid, time, values, target_time, progress_bar)\u001b[0m\n\u001b[1;32m    118\u001b[0m     \u001b[39mreturn\u001b[39;00m jnp\u001b[39m.\u001b[39mabs(target_time \u001b[39m-\u001b[39m time_values[\u001b[39m0\u001b[39m]) \u001b[39m>\u001b[39m \u001b[39m0\u001b[39m\n\u001b[1;32m    120\u001b[0m \u001b[39m# kick off the inner while loop and return the values at the target_time\u001b[39;00m\n\u001b[0;32m--> 121\u001b[0m \u001b[39mreturn\u001b[39;00m jax\u001b[39m.\u001b[39;49mlax\u001b[39m.\u001b[39;49mwhile_loop(cond_fun\u001b[39m=\u001b[39;49mcontinue_condition, body_fun\u001b[39m=\u001b[39;49msub_step, init_val\u001b[39m=\u001b[39;49m(time, values))[\u001b[39m1\u001b[39m]\n",
      "    \u001b[0;31m[... skipping hidden 2 frame]\u001b[0m\n",
      "File \u001b[0;32m~/miniconda3/envs/ocean_platform/lib/python3.9/site-packages/hj_reachability/solver.py:100\u001b[0m, in \u001b[0;36mstep.<locals>.sub_step\u001b[0;34m(time_values)\u001b[0m\n\u001b[1;32m     97\u001b[0m \u001b[39mdef\u001b[39;00m \u001b[39msub_step\u001b[39m(time_values):\n\u001b[1;32m     98\u001b[0m     \u001b[39m\"\"\"Sub-Step integration in which the time step is determined automatically with the CFL condition.\u001b[39;00m\n\u001b[1;32m     99\u001b[0m \u001b[39m    Input Params: time_values   is a tuple of the form (t,v)\"\"\"\u001b[39;00m\n\u001b[0;32m--> 100\u001b[0m     t, v \u001b[39m=\u001b[39m solver_settings\u001b[39m.\u001b[39;49mtime_integrator(solver_settings, dynamics, grid, \u001b[39m*\u001b[39;49mtime_values, target_time)\n\u001b[1;32m    101\u001b[0m     \u001b[39mif\u001b[39;00m bar \u001b[39mis\u001b[39;00m \u001b[39mnot\u001b[39;00m \u001b[39mFalse\u001b[39;00m:\n\u001b[1;32m    102\u001b[0m         bar\u001b[39m.\u001b[39mupdate_to(jnp\u001b[39m.\u001b[39mabs(t \u001b[39m-\u001b[39m bar\u001b[39m.\u001b[39mreference_time))\n",
      "File \u001b[0;32m~/miniconda3/envs/ocean_platform/lib/python3.9/site-packages/hj_reachability/time_integration.py:51\u001b[0m, in \u001b[0;36mthird_order_total_variation_diminishing_runge_kutta\u001b[0;34m(solver_settings, dynamics, grid, time, values, target_time)\u001b[0m\n\u001b[1;32m     50\u001b[0m \u001b[39mdef\u001b[39;00m \u001b[39mthird_order_total_variation_diminishing_runge_kutta\u001b[39m(solver_settings, dynamics, grid, time, values, target_time):\n\u001b[0;32m---> 51\u001b[0m     time_1, values_1 \u001b[39m=\u001b[39m euler_step(solver_settings, dynamics, grid, time, values, max_time_step\u001b[39m=\u001b[39;49mtarget_time \u001b[39m-\u001b[39;49m time)\n\u001b[1;32m     52\u001b[0m     time_step \u001b[39m=\u001b[39m time_1 \u001b[39m-\u001b[39m time\n\u001b[1;32m     53\u001b[0m     _, values_2 \u001b[39m=\u001b[39m euler_step(solver_settings, dynamics, grid, time_1, values_1, time_step)\n",
      "File \u001b[0;32m~/miniconda3/envs/ocean_platform/lib/python3.9/site-packages/hj_reachability/time_integration.py:23\u001b[0m, in \u001b[0;36meuler_step\u001b[0;34m(solver_settings, dynamics, grid, time, values, time_step, max_time_step)\u001b[0m\n\u001b[1;32m     21\u001b[0m signed_hamiltonian \u001b[39m=\u001b[39m \u001b[39mlambda\u001b[39;00m \u001b[39m*\u001b[39margs, \u001b[39m*\u001b[39m\u001b[39m*\u001b[39mkwargs: time_direction \u001b[39m*\u001b[39m dynamics\u001b[39m.\u001b[39mhamiltonian(\u001b[39m*\u001b[39margs, \u001b[39m*\u001b[39m\u001b[39m*\u001b[39mkwargs)\n\u001b[1;32m     22\u001b[0m left_grad_values, right_grad_values \u001b[39m=\u001b[39m grid\u001b[39m.\u001b[39mupwind_grad_values(solver_settings\u001b[39m.\u001b[39mupwind_scheme, values)\n\u001b[0;32m---> 23\u001b[0m dissipation_coefficients \u001b[39m=\u001b[39m solver_settings\u001b[39m.\u001b[39;49martificial_dissipation_scheme(dynamics\u001b[39m.\u001b[39;49mpartial_max_magnitudes,\n\u001b[1;32m     24\u001b[0m                                                                          grid\u001b[39m.\u001b[39;49mstates, time, values,\n\u001b[1;32m     25\u001b[0m                                                                          left_grad_values, right_grad_values)\n\u001b[1;32m     26\u001b[0m dvalues_dt \u001b[39m=\u001b[39m \u001b[39m-\u001b[39msolver_settings\u001b[39m.\u001b[39mhamiltonian_postprocessor(time_direction \u001b[39m*\u001b[39m utils\u001b[39m.\u001b[39mmultivmap(\n\u001b[1;32m     27\u001b[0m     \u001b[39mlambda\u001b[39;00m state, value, left_grad_value, right_grad_value, dissipation_coefficients:\n\u001b[1;32m     28\u001b[0m     (lax_friedrichs_numerical_hamiltonian(signed_hamiltonian, state, time, value,\n\u001b[1;32m     29\u001b[0m                                           left_grad_value, right_grad_value, dissipation_coefficients)),\n\u001b[1;32m     30\u001b[0m     np\u001b[39m.\u001b[39marange(grid\u001b[39m.\u001b[39mndim))(grid\u001b[39m.\u001b[39mstates, values, left_grad_values, right_grad_values, dissipation_coefficients))\n\u001b[1;32m     31\u001b[0m \u001b[39mif\u001b[39;00m time_step \u001b[39mis\u001b[39;00m \u001b[39mNone\u001b[39;00m:\n",
      "File \u001b[0;32m~/miniconda3/envs/ocean_platform/lib/python3.9/site-packages/hj_reachability/artificial_dissipation.py:68\u001b[0m, in \u001b[0;36mlocal_local_lax_friedrichs\u001b[0;34m(partial_max_magnitudes, states, time, values, left_grad_values, right_grad_values)\u001b[0m\n\u001b[1;32m     65\u001b[0m grid_axes \u001b[39m=\u001b[39m np\u001b[39m.\u001b[39marange(values\u001b[39m.\u001b[39mndim)\n\u001b[1;32m     66\u001b[0m local_local_grad_value_boxes \u001b[39m=\u001b[39m sets\u001b[39m.\u001b[39mBox(lo\u001b[39m=\u001b[39mjnp\u001b[39m.\u001b[39mminimum(left_grad_values, right_grad_values),\n\u001b[1;32m     67\u001b[0m                                         hi\u001b[39m=\u001b[39mjnp\u001b[39m.\u001b[39mmaximum(left_grad_values, right_grad_values))\n\u001b[0;32m---> 68\u001b[0m \u001b[39mreturn\u001b[39;00m utils\u001b[39m.\u001b[39;49mmultivmap(\n\u001b[1;32m     69\u001b[0m     \u001b[39mlambda\u001b[39;49;00m state, value, grad_value_box: partial_max_magnitudes(state, time, value, grad_value_box),\n\u001b[1;32m     70\u001b[0m     grid_axes)(states, values, local_local_grad_value_boxes)\n",
      "    \u001b[0;31m[... skipping hidden 6 frame]\u001b[0m\n",
      "File \u001b[0;32m~/miniconda3/envs/ocean_platform/lib/python3.9/site-packages/hj_reachability/artificial_dissipation.py:69\u001b[0m, in \u001b[0;36mlocal_local_lax_friedrichs.<locals>.<lambda>\u001b[0;34m(state, value, grad_value_box)\u001b[0m\n\u001b[1;32m     65\u001b[0m grid_axes \u001b[39m=\u001b[39m np\u001b[39m.\u001b[39marange(values\u001b[39m.\u001b[39mndim)\n\u001b[1;32m     66\u001b[0m local_local_grad_value_boxes \u001b[39m=\u001b[39m sets\u001b[39m.\u001b[39mBox(lo\u001b[39m=\u001b[39mjnp\u001b[39m.\u001b[39mminimum(left_grad_values, right_grad_values),\n\u001b[1;32m     67\u001b[0m                                         hi\u001b[39m=\u001b[39mjnp\u001b[39m.\u001b[39mmaximum(left_grad_values, right_grad_values))\n\u001b[1;32m     68\u001b[0m \u001b[39mreturn\u001b[39;00m utils\u001b[39m.\u001b[39mmultivmap(\n\u001b[0;32m---> 69\u001b[0m     \u001b[39mlambda\u001b[39;00m state, value, grad_value_box: partial_max_magnitudes(state, time, value, grad_value_box),\n\u001b[1;32m     70\u001b[0m     grid_axes)(states, values, local_local_grad_value_boxes)\n",
      "File \u001b[0;32m~/miniconda3/envs/ocean_platform/lib/python3.9/site-packages/hj_reachability/dynamics.py:183\u001b[0m, in \u001b[0;36mDynamics.partial_max_magnitudes\u001b[0;34m(self, state, time, value, grad_value_box)\u001b[0m\n\u001b[1;32m    180\u001b[0m dL \u001b[39m=\u001b[39m \u001b[39mself\u001b[39m\u001b[39m.\u001b[39moptimal_disturbance(state, time, deriv_min)\n\u001b[1;32m    182\u001b[0m \u001b[39m# get the respective f(x,u,d)\u001b[39;00m\n\u001b[0;32m--> 183\u001b[0m dxUU \u001b[39m=\u001b[39m \u001b[39mself\u001b[39;49m\u001b[39m.\u001b[39;49m\u001b[39m__call__\u001b[39;49m(state, uU, dU, time)\n\u001b[1;32m    184\u001b[0m dxUL \u001b[39m=\u001b[39m \u001b[39mself\u001b[39m\u001b[39m.\u001b[39m\u001b[39m__call__\u001b[39m(state, uU, dL, time)\n\u001b[1;32m    185\u001b[0m dxLL \u001b[39m=\u001b[39m \u001b[39mself\u001b[39m\u001b[39m.\u001b[39m\u001b[39m__call__\u001b[39m(state, uL, dL, time)\n",
      "Cell \u001b[0;32mIn [26], line 26\u001b[0m, in \u001b[0;36mPlatform2dObsForSimToy.__call__\u001b[0;34m(self, state, control, disturbance, time)\u001b[0m\n\u001b[1;32m     24\u001b[0m \u001b[39mdef\u001b[39;00m \u001b[39m__call__\u001b[39m(\u001b[39mself\u001b[39m, state, control, disturbance, time):\n\u001b[1;32m     25\u001b[0m     \u001b[39m\"\"\"Implements the continuous-time dynamics ODE with obstacles.\"\"\"\u001b[39;00m\n\u001b[0;32m---> 26\u001b[0m     dx_out \u001b[39m=\u001b[39m \u001b[39msuper\u001b[39;49m()\u001b[39m.\u001b[39;49m\u001b[39m__call__\u001b[39;49m(state, control, disturbance, time)\n\u001b[1;32m     27\u001b[0m     \u001b[39m# Check if state is in obstacle then mask dx_out,\u001b[39;00m\n\u001b[1;32m     28\u001b[0m     \u001b[39m# this means that the \"state moves with obstacle\" and can not leave it.\u001b[39;00m\n\u001b[1;32m     29\u001b[0m     \u001b[39m# Additionally, we mask the obstacles in the hamiltonian_postprocessor in \"HJPLannerBase\"\u001b[39;00m\n\u001b[1;32m     30\u001b[0m     \u001b[39m# to counter the dissipation value of the artificial_dissipation_scheme\u001b[39;00m\n\u001b[1;32m     31\u001b[0m     \u001b[39m# TODO: Would actually need to change the 0 to velocity of obstacle if obstacle were dynamic\u001b[39;00m\n\u001b[1;32m     32\u001b[0m     \u001b[39mreturn\u001b[39;00m jnp\u001b[39m.\u001b[39mzeros_like(dx_out) \u001b[39mif\u001b[39;00m \u001b[39mself\u001b[39m\u001b[39m.\u001b[39mis_in_obstacle(state, time) \u001b[39melse\u001b[39;00m dx_out\n",
      "File \u001b[0;32m~/code/OceanPlatformControl/ocean_navigation_simulator/controllers/hj_planners/Platform2dForSim.py:84\u001b[0m, in \u001b[0;36mPlatform2dForSim.__call__\u001b[0;34m(self, state, control, disturbance, time)\u001b[0m\n\u001b[1;32m     80\u001b[0m \u001b[39m\"\"\"Implements the continuous-time dynamics ODE.\"\"\"\u001b[39;00m\n\u001b[1;32m     81\u001b[0m \u001b[39m# dx is in m/s\u001b[39;00m\n\u001b[1;32m     82\u001b[0m dx1 \u001b[39m=\u001b[39m (\n\u001b[1;32m     83\u001b[0m     \u001b[39mself\u001b[39m\u001b[39m.\u001b[39mu_max \u001b[39m*\u001b[39m control[\u001b[39m0\u001b[39m] \u001b[39m*\u001b[39m jnp\u001b[39m.\u001b[39mcos(control[\u001b[39m1\u001b[39m])\n\u001b[0;32m---> 84\u001b[0m     \u001b[39m+\u001b[39m \u001b[39mself\u001b[39;49m\u001b[39m.\u001b[39;49mx_current(state, time)\n\u001b[1;32m     85\u001b[0m     \u001b[39m+\u001b[39m disturbance[\u001b[39m0\u001b[39m]\n\u001b[1;32m     86\u001b[0m )\n\u001b[1;32m     87\u001b[0m dx2 \u001b[39m=\u001b[39m (\n\u001b[1;32m     88\u001b[0m     \u001b[39mself\u001b[39m\u001b[39m.\u001b[39mu_max \u001b[39m*\u001b[39m control[\u001b[39m0\u001b[39m] \u001b[39m*\u001b[39m jnp\u001b[39m.\u001b[39msin(control[\u001b[39m1\u001b[39m])\n\u001b[1;32m     89\u001b[0m     \u001b[39m+\u001b[39m \u001b[39mself\u001b[39m\u001b[39m.\u001b[39my_current(state, time)\n\u001b[1;32m     90\u001b[0m     \u001b[39m+\u001b[39m disturbance[\u001b[39m1\u001b[39m]\n\u001b[1;32m     91\u001b[0m )\n\u001b[1;32m     92\u001b[0m \u001b[39m# now transfer it to deg lat/lon per second if use_geographic_coordinate_system\u001b[39;00m\n",
      "File \u001b[0;32m~/code/OceanPlatformControl/ocean_navigation_simulator/controllers/hj_planners/Platform2dForSim.py:62\u001b[0m, in \u001b[0;36mPlatform2dForSim.update_jax_interpolant.<locals>.<lambda>\u001b[0;34m(state, time)\u001b[0m\n\u001b[1;32m     56\u001b[0m \u001b[39m\"\"\"Creating an interpolant function from x,y,t grid and data\u001b[39;00m\n\u001b[1;32m     57\u001b[0m \u001b[39mArgs:\u001b[39;00m\n\u001b[1;32m     58\u001b[0m \u001b[39m    data_xarray: xarray containing variables water_u and water_v as matrices (T, Y, X)\u001b[39;00m\n\u001b[1;32m     59\u001b[0m \u001b[39m\"\"\"\u001b[39;00m\n\u001b[1;32m     61\u001b[0m \u001b[39m# create 1D interpolation functions for running in the loop of the dynamics\u001b[39;00m\n\u001b[0;32m---> 62\u001b[0m \u001b[39mself\u001b[39m\u001b[39m.\u001b[39mx_current \u001b[39m=\u001b[39m \u001b[39mlambda\u001b[39;00m state, time: interpolation\u001b[39m.\u001b[39;49mlin_interpo_1D(\n\u001b[1;32m     63\u001b[0m     state,\n\u001b[1;32m     64\u001b[0m     time,\n\u001b[1;32m     65\u001b[0m     data_xarray[\u001b[39m\"\u001b[39;49m\u001b[39mwater_u\u001b[39;49m\u001b[39m\"\u001b[39;49m]\u001b[39m.\u001b[39;49mfillna(\u001b[39m0\u001b[39;49m)\u001b[39m.\u001b[39;49mdata,\n\u001b[1;32m     66\u001b[0m     data_xarray[\u001b[39m\"\u001b[39;49m\u001b[39mlon\u001b[39;49m\u001b[39m\"\u001b[39;49m]\u001b[39m.\u001b[39;49mdata,\n\u001b[1;32m     67\u001b[0m     data_xarray[\u001b[39m\"\u001b[39;49m\u001b[39mlat\u001b[39;49m\u001b[39m\"\u001b[39;49m]\u001b[39m.\u001b[39;49mdata,\n\u001b[1;32m     68\u001b[0m     data_xarray[\u001b[39m\"\u001b[39;49m\u001b[39mrelative_time\u001b[39;49m\u001b[39m\"\u001b[39;49m]\u001b[39m.\u001b[39;49mdata,\n\u001b[1;32m     69\u001b[0m )\n\u001b[1;32m     70\u001b[0m \u001b[39mself\u001b[39m\u001b[39m.\u001b[39my_current \u001b[39m=\u001b[39m \u001b[39mlambda\u001b[39;00m state, time: interpolation\u001b[39m.\u001b[39mlin_interpo_1D(\n\u001b[1;32m     71\u001b[0m     state,\n\u001b[1;32m     72\u001b[0m     time,\n\u001b[0;32m   (...)\u001b[0m\n\u001b[1;32m     76\u001b[0m     data_xarray[\u001b[39m\"\u001b[39m\u001b[39mrelative_time\u001b[39m\u001b[39m\"\u001b[39m]\u001b[39m.\u001b[39mdata,\n\u001b[1;32m     77\u001b[0m )\n",
      "File \u001b[0;32m~/miniconda3/envs/ocean_platform/lib/python3.9/site-packages/hj_reachability/interpolation.py:40\u001b[0m, in \u001b[0;36mlin_interpo_1D\u001b[0;34m(state, time, matrix_data, x_grid, y_grid, t_grid)\u001b[0m\n\u001b[1;32m     38\u001b[0m y_idx \u001b[39m=\u001b[39m jnp\u001b[39m.\u001b[39margmin(jnp\u001b[39m.\u001b[39mabs(y_grid \u001b[39m-\u001b[39m state[\u001b[39m1\u001b[39m]))\n\u001b[1;32m     39\u001b[0m \u001b[39m# Step 2:run 1D time-interpolation on the timeseries for the specific x-y datapoint.\u001b[39;00m\n\u001b[0;32m---> 40\u001b[0m \u001b[39mreturn\u001b[39;00m jnp\u001b[39m.\u001b[39minterp(time, t_grid, matrix_data[:, y_idx, x_idx])\n",
      "File \u001b[0;32m~/miniconda3/envs/ocean_platform/lib/python3.9/site-packages/jax/core.py:540\u001b[0m, in \u001b[0;36mTracer.__array__\u001b[0;34m(self, *args, **kw)\u001b[0m\n\u001b[1;32m    539\u001b[0m \u001b[39mdef\u001b[39;00m \u001b[39m__array__\u001b[39m(\u001b[39mself\u001b[39m, \u001b[39m*\u001b[39margs, \u001b[39m*\u001b[39m\u001b[39m*\u001b[39mkw):\n\u001b[0;32m--> 540\u001b[0m   \u001b[39mraise\u001b[39;00m TracerArrayConversionError(\u001b[39mself\u001b[39m)\n",
      "\u001b[0;31mTracerArrayConversionError\u001b[0m: The numpy.ndarray conversion method __array__() was called on the JAX Tracer object Traced<ShapedArray(int32[])>with<BatchTrace(level=2/0)> with\n  val = Traced<ShapedArray(int32[100])>with<BatchTrace(level=1/0)> with\n    val = DeviceArray([[ 0,  0,  0, ...,  0,  0,  0],\n             [ 1,  1,  1, ...,  1,  1,  1],\n             [ 2,  2,  2, ...,  2,  2,  2],\n             ...,\n             [97, 97, 97, ..., 97, 97, 97],\n             [98, 98, 98, ..., 98, 98, 98],\n             [99, 99, 99, ..., 99, 99, 99]], dtype=int32)\n    batch_dim = 0\n  batch_dim = 0\nThis Tracer was created on line /home/andy/miniconda3/envs/ocean_platform/lib/python3.9/site-packages/hj_reachability/interpolation.py:38 (lin_interpo_1D)\nSee https://jax.readthedocs.io/en/latest/errors.html#jax.errors.TracerArrayConversionError"
     ]
    }
   ],
   "source": [
    "times, all_values = hj.solve(solver_settings, Plat2D, grid, times, initial_values, progress_bar=True)\n"
   ]
  },
  {
   "cell_type": "code",
   "execution_count": null,
   "metadata": {},
   "outputs": [],
   "source": [
    "hj.viz.visSet2DAnimation(grid, all_values, times, type='html', x_init=x_init,\n",
    "        colorbar=True, filename='generated_media/multireach', interval=30)"
   ]
  },
  {
   "cell_type": "code",
   "execution_count": null,
   "metadata": {},
   "outputs": [],
   "source": [
    "hj.viz.visValFuncTraj(\n",
    "    ax,\n",
    "    traj_times=traj_times,\n",
    "    x_traj=self.planned_trajs[-1][\"traj\"][:2, :],\n",
    "    all_times=reach_times,\n",
    "    all_values=all_values,\n",
    "    grid=grid,\n",
    "    flip_times=False,\n",
    "    ylabel=ylabel,\n",
    ")"
   ]
  }
 ],
 "metadata": {
  "kernelspec": {
   "display_name": "ocean_platform",
   "language": "python",
   "name": "python3"
  },
  "language_info": {
   "codemirror_mode": {
    "name": "ipython",
    "version": 3
   },
   "file_extension": ".py",
   "mimetype": "text/x-python",
   "name": "python",
   "nbconvert_exporter": "python",
   "pygments_lexer": "ipython3",
   "version": "3.9.15"
  },
  "orig_nbformat": 4,
  "vscode": {
   "interpreter": {
    "hash": "0e68e1188560e0264452509f800ed9cbe968b82eeca5d5a7e494819bbb829a34"
   }
  }
 },
 "nbformat": 4,
 "nbformat_minor": 2
}
