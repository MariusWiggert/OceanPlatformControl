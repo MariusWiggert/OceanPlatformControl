{
 "cells": [
  {
   "cell_type": "code",
   "execution_count": 1,
   "metadata": {
    "pycharm": {
     "name": "#%%\n"
    }
   },
   "outputs": [],
   "source": [
    "import numpy as np\n",
    "import os"
   ]
  },
  {
   "cell_type": "code",
   "execution_count": 2,
   "metadata": {
    "pycharm": {
     "name": "#%%\n"
    }
   },
   "outputs": [
    {
     "name": "stdout",
     "output_type": "stream",
     "text": [
      "['/home/killian2k/seaweed/OceanPlatformControl/data_NN_DA/GP_all_files/out_0_x.npy'] ['/home/killian2k/seaweed/OceanPlatformControl/data_NN_DA/GP_all_files/out_0_y.npy']\n"
     ]
    }
   ],
   "source": [
    "folders = [\"/home/killian2k/seaweed/OceanPlatformControl/data_NN_DA/GP_all_files\"]\n",
    "x, y = [],[]\n",
    "for folder in folders:\n",
    "    for f in sorted(os.listdir(folder)):\n",
    "        if f.endswith(\"0_x.npy\"):\n",
    "            x.append(f\"{folder}/{f}\")\n",
    "        elif f.endswith(\"0_y.npy\"):\n",
    "            y.append(f\"{folder}/{f}\")\n",
    "print(x,y)"
   ]
  },
  {
   "cell_type": "code",
   "execution_count": 3,
   "metadata": {
    "pycharm": {
     "name": "#%%\n"
    }
   },
   "outputs": [
    {
     "name": "stdout",
     "output_type": "stream",
     "text": [
      "loading X\n",
      "loading Y\n",
      "1 (1326, 8, 24, 12, 24, 24)\n",
      "1 (1326, 2, 24, 12, 24, 24)\n"
     ]
    }
   ],
   "source": [
    "print(\"loading X\")\n",
    "X = [np.load(f, mmap_mode=\"r\") for f in x]\n",
    "print(\"loading Y\")\n",
    "Y = [np.load(f, mmap_mode=\"r\") for f in y]\n",
    "print(len(X),X[0].shape)\n",
    "print(len(Y),Y[0].shape)"
   ]
  },
  {
   "cell_type": "code",
   "execution_count": 4,
   "metadata": {
    "pycharm": {
     "name": "#%%\n"
    }
   },
   "outputs": [],
   "source": [
    "rmses = []\n",
    "r2 = []\n",
    "for x,y in zip(X,Y):\n",
    "    # dims: n_problems, n_channels, n_instances_per_problem,lag,lon,lat\n",
    "    improved_FC = x[:,[6,7]]\n",
    "    initial_FC = x[:,[4,5]]\n",
    "    HC = y\n",
    "    \n",
    "    rmses.append(np.sqrt(np.nanmean(((improved_FC-HC)**2).sum(axis=(-1,-2,-3))/(((initial_FC-HC)**2).sum(axis=(-1,-2,-3))))))\n",
    "    r2.append(1 - ((improved_FC-HC)**2).sum(axis=(-1,-2,-3))/((HC-initial_FC)**2).sum(axis=(-1,-2,-3)))"
   ]
  },
  {
   "cell_type": "code",
   "execution_count": 7,
   "metadata": {
    "pycharm": {
     "name": "#%%\n"
    }
   },
   "outputs": [
    {
     "data": {
      "text/plain": [
       "((1326, 2, 24, 12, 24, 24),\n",
       " (1326, 2, 24, 12, 24, 24),\n",
       " (1326, 2, 24, 12, 24, 24))"
      ]
     },
     "execution_count": 7,
     "metadata": {},
     "output_type": "execute_result"
    }
   ],
   "source": [
    "improved_FC.shape, initial_FC.shape, HC.shape"
   ]
  },
  {
   "cell_type": "code",
   "execution_count": 12,
   "metadata": {
    "pycharm": {
     "name": "#%%\n"
    }
   },
   "outputs": [
    {
     "data": {
      "text/plain": [
       "0.019574851858711037"
      ]
     },
     "execution_count": 12,
     "metadata": {},
     "output_type": "execute_result"
    }
   ],
   "source": [
    "np.nanmean(np.array(r2))"
   ]
  },
  {
   "cell_type": "code",
   "execution_count": 13,
   "metadata": {
    "pycharm": {
     "name": "#%%\n"
    }
   },
   "outputs": [
    {
     "data": {
      "text/plain": [
       "0.9901642026155505"
      ]
     },
     "execution_count": 13,
     "metadata": {},
     "output_type": "execute_result"
    }
   ],
   "source": [
    "np.sqrt(np.nanmean(((improved_FC-HC)**2).sum(axis=(-1,-2,-3))/(((initial_FC-HC)**2).sum(axis=(-1,-2,-3)))))"
   ]
  },
  {
   "cell_type": "code",
   "execution_count": null,
   "metadata": {
    "pycharm": {
     "name": "#%%\n"
    }
   },
   "outputs": [],
   "source": []
  }
 ],
 "metadata": {
  "kernelspec": {
   "display_name": "Python 3.9.12 ('ocean_platform')",
   "language": "python",
   "name": "python3"
  },
  "language_info": {
   "codemirror_mode": {
    "name": "ipython",
    "version": 3
   },
   "file_extension": ".py",
   "mimetype": "text/x-python",
   "name": "python",
   "nbconvert_exporter": "python",
   "pygments_lexer": "ipython3",
   "version": "3.9.12"
  },
  "orig_nbformat": 4,
  "vscode": {
   "interpreter": {
    "hash": "a2b8b2b7466c8628d5d52571dea68e64eeb33bbb4acfe740e4ffa9ceea24e87e"
   }
  }
 },
 "nbformat": 4,
 "nbformat_minor": 2
}