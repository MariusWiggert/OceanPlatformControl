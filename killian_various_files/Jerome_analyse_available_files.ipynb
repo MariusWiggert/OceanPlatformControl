{
 "cells": [
  {
   "cell_type": "code",
   "execution_count": 1,
   "outputs": [
    {
     "name": "stderr",
     "output_type": "stream",
     "text": [
      "/opt/homebrew/Caskroom/miniforge/base/envs/ocean_platform/lib/python3.9/site-packages/xarray/backends/cfgrib_.py:27: UserWarning: Failed to load cfgrib - most likely there is a problem accessing the ecCodes library. Try `import cfgrib` to get the full error message\n",
      "  warnings.warn(\n"
     ]
    },
    {
     "ename": "AttributeError",
     "evalue": "type object 'ArenaFactory' has no attribute 'get_filelist'",
     "output_type": "error",
     "traceback": [
      "\u001B[0;31m---------------------------------------------------------------------------\u001B[0m",
      "\u001B[0;31mAttributeError\u001B[0m                            Traceback (most recent call last)",
      "Input \u001B[0;32mIn [1]\u001B[0m, in \u001B[0;36m<cell line: 33>\u001B[0;34m()\u001B[0m\n\u001B[1;32m     30\u001B[0m         fig\u001B[38;5;241m.\u001B[39mtight_layout()\n\u001B[1;32m     31\u001B[0m         plt\u001B[38;5;241m.\u001B[39mshow()\n\u001B[0;32m---> 33\u001B[0m plot_files(\u001B[38;5;124m'\u001B[39m\u001B[38;5;124mHYCOM Forecast Files\u001B[39m\u001B[38;5;124m'\u001B[39m, \u001B[43mArenaFactory\u001B[49m\u001B[38;5;241;43m.\u001B[39;49m\u001B[43mget_filelist\u001B[49m(archive_source\u001B[38;5;241m=\u001B[39m\u001B[38;5;124m'\u001B[39m\u001B[38;5;124mHYCOM\u001B[39m\u001B[38;5;124m'\u001B[39m, archive_type\u001B[38;5;241m=\u001B[39m\u001B[38;5;124m'\u001B[39m\u001B[38;5;124mforecast\u001B[39m\u001B[38;5;124m'\u001B[39m))\n\u001B[1;32m     34\u001B[0m plot_files(\u001B[38;5;124m'\u001B[39m\u001B[38;5;124mHYCOM Hindcast Files\u001B[39m\u001B[38;5;124m'\u001B[39m, ArenaFactory\u001B[38;5;241m.\u001B[39mget_filelist(archive_source\u001B[38;5;241m=\u001B[39m\u001B[38;5;124m'\u001B[39m\u001B[38;5;124mHYCOM\u001B[39m\u001B[38;5;124m'\u001B[39m, archive_type\u001B[38;5;241m=\u001B[39m\u001B[38;5;124m'\u001B[39m\u001B[38;5;124mhindcast\u001B[39m\u001B[38;5;124m'\u001B[39m))\n\u001B[1;32m     35\u001B[0m plot_files(\u001B[38;5;124m'\u001B[39m\u001B[38;5;124mCopernicus Forecast Files\u001B[39m\u001B[38;5;124m'\u001B[39m, ArenaFactory\u001B[38;5;241m.\u001B[39mget_filelist(archive_source\u001B[38;5;241m=\u001B[39m\u001B[38;5;124m'\u001B[39m\u001B[38;5;124mCopernicus\u001B[39m\u001B[38;5;124m'\u001B[39m, archive_type\u001B[38;5;241m=\u001B[39m\u001B[38;5;124m'\u001B[39m\u001B[38;5;124mforecast\u001B[39m\u001B[38;5;124m'\u001B[39m))\n",
      "\u001B[0;31mAttributeError\u001B[0m: type object 'ArenaFactory' has no attribute 'get_filelist'"
     ]
    }
   ],
   "source": [
    "% load_ext autoreload\n",
    "% autoreload 2\n",
    "\n",
    "from ocean_navigation_simulator.environment.ArenaFactory import ArenaFactory\n",
    "\n",
    "\n",
    "def plot_files(title, files):\n",
    "    if files.count > 0:\n",
    "        dates = [file.subsetOptions.timeRange.start for file in files.objs]\n",
    "        length = [(file.subsetOptions.timeRange.end - file.subsetOptions.timeRange.start).total_seconds() // 3600 for\n",
    "                  file in files.objs]\n",
    "        deltas = [(file.subsetOptions.timeRange.start - files.objs[\n",
    "            index - 1].subsetOptions.timeRange.start).total_seconds() / 3600 / 24 for index, file in\n",
    "                  enumerate(files.objs) if index > 0]\n",
    "\n",
    "        import matplotlib.pyplot as plt\n",
    "        import seaborn as sns\n",
    "        sns.set_theme()\n",
    "        fig, axs = plt.subplots(nrows=2, ncols=2, figsize=(8, 6))\n",
    "        fig.suptitle(title)\n",
    "\n",
    "        axs[0, 0].plot(dates, length, marker='.')\n",
    "        axs[0, 0].set_title('Length of files in h')\n",
    "        axs[0, 0].tick_params(axis='x', labelrotation=45)\n",
    "        axs[0, 1].hist(length)\n",
    "        axs[0, 1].set_title('Histogram of length of files in h')\n",
    "\n",
    "        axs[1, 0].plot(dates[:-1], deltas, marker='.')\n",
    "        axs[1, 0].set_title('Days before next file.')\n",
    "        axs[1, 0].tick_params(axis='x', labelrotation=45)\n",
    "        axs[1, 1].hist(deltas)\n",
    "        axs[1, 1].set_title('Histogram of days before next file')\n",
    "\n",
    "        fig.tight_layout()\n",
    "        plt.show()\n",
    "\n",
    "\n",
    "plot_files('HYCOM Forecast Files', ArenaFactory.get_filelist(archive_source='HYCOM', archive_type='forecast'))\n",
    "plot_files('HYCOM Hindcast Files', ArenaFactory.get_filelist(archive_source='HYCOM', archive_type='hindcast'))\n",
    "plot_files('Copernicus Forecast Files', ArenaFactory.get_filelist(archive_source='Copernicus', archive_type='forecast'))\n",
    "plot_files('Copernicus Hindcast Files', ArenaFactory.get_filelist(archive_source='Copernicus', archive_type='hindcast'))"
   ],
   "metadata": {
    "collapsed": false,
    "pycharm": {
     "name": "#%%\n"
    }
   }
  },
  {
   "cell_type": "code",
   "execution_count": 11,
   "outputs": [
    {
     "name": "stdout",
     "output_type": "stream",
     "text": [
      "2021-11-20 12:10:00+00:00: 64\n",
      "2021-11-24 12:10:00+00:00: 64\n",
      "2021-11-30 12:10:00+00:00: 64\n",
      "2021-12-02 12:10:00+00:00: 64\n",
      "2021-12-04 12:10:00+00:00: 64\n",
      "2021-12-10 12:10:00+00:00: 63\n",
      "2021-12-14 12:10:00+00:00: 63\n",
      "2021-12-18 12:10:00+00:00: 64\n",
      "2021-12-22 12:10:00+00:00: 63\n",
      "2021-12-25 12:10:00+00:00: 64\n",
      "2022-01-02 12:10:00+00:00: 64\n",
      "2022-01-04 12:10:00+00:00: 64\n",
      "2022-01-07 12:10:00+00:00: 64\n",
      "2022-01-11 12:10:00+00:00: 64\n",
      "2022-01-15 12:10:00+00:00: 63\n",
      "2022-01-19 12:10:00+00:00: 64\n",
      "2022-01-23 12:10:00+00:00: 63\n",
      "2022-01-27 12:10:00+00:00: 64\n"
     ]
    }
   ],
   "source": [
    "import pandas as pd\n",
    "\n",
    "validation_missions = pd.read_csv('../../../data/missions/validation/all.csv')\n",
    "dates = validation_missions['t_0']\n",
    "\n",
    "from collections import Counter\n",
    "\n",
    "counter = list(Counter(dates).items())\n",
    "\n",
    "for pair in counter:\n",
    "    print(f\"{pair[0]}: {pair[1]}\")"
   ],
   "metadata": {
    "collapsed": false,
    "pycharm": {
     "name": "#%%\n"
    }
   }
  }
 ],
 "metadata": {
  "kernelspec": {
   "display_name": "Python 3",
   "language": "python",
   "name": "python3"
  },
  "language_info": {
   "codemirror_mode": {
    "name": "ipython",
    "version": 2
   },
   "file_extension": ".py",
   "mimetype": "text/x-python",
   "name": "python",
   "nbconvert_exporter": "python",
   "pygments_lexer": "ipython2",
   "version": "2.7.6"
  }
 },
 "nbformat": 4,
 "nbformat_minor": 0
}